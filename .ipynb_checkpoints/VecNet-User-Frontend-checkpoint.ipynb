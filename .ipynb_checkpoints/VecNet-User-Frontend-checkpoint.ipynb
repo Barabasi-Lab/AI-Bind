{
 "cells": [
  {
   "cell_type": "markdown",
   "metadata": {},
   "source": [
    "### Imports"
   ]
  },
  {
   "cell_type": "code",
   "execution_count": 1,
   "metadata": {
    "collapsed": true
   },
   "outputs": [
    {
     "name": "stderr",
     "output_type": "stream",
     "text": [
      "/miniconda/lib/python3.6/site-packages/tensorflow/python/framework/dtypes.py:523: FutureWarning:\n",
      "\n",
      "Passing (type, 1) or '1type' as a synonym of type is deprecated; in a future version of numpy, it will be understood as (type, (1,)) / '(1,)type'.\n",
      "\n",
      "/miniconda/lib/python3.6/site-packages/tensorflow/python/framework/dtypes.py:524: FutureWarning:\n",
      "\n",
      "Passing (type, 1) or '1type' as a synonym of type is deprecated; in a future version of numpy, it will be understood as (type, (1,)) / '(1,)type'.\n",
      "\n",
      "/miniconda/lib/python3.6/site-packages/tensorflow/python/framework/dtypes.py:525: FutureWarning:\n",
      "\n",
      "Passing (type, 1) or '1type' as a synonym of type is deprecated; in a future version of numpy, it will be understood as (type, (1,)) / '(1,)type'.\n",
      "\n",
      "/miniconda/lib/python3.6/site-packages/tensorflow/python/framework/dtypes.py:526: FutureWarning:\n",
      "\n",
      "Passing (type, 1) or '1type' as a synonym of type is deprecated; in a future version of numpy, it will be understood as (type, (1,)) / '(1,)type'.\n",
      "\n",
      "/miniconda/lib/python3.6/site-packages/tensorflow/python/framework/dtypes.py:527: FutureWarning:\n",
      "\n",
      "Passing (type, 1) or '1type' as a synonym of type is deprecated; in a future version of numpy, it will be understood as (type, (1,)) / '(1,)type'.\n",
      "\n",
      "/miniconda/lib/python3.6/site-packages/tensorflow/python/framework/dtypes.py:532: FutureWarning:\n",
      "\n",
      "Passing (type, 1) or '1type' as a synonym of type is deprecated; in a future version of numpy, it will be understood as (type, (1,)) / '(1,)type'.\n",
      "\n",
      "Traceback (most recent call last):\n",
      "  File \"/miniconda/lib/python3.6/site-packages/rdkit/Chem/PandasTools.py\", line 130, in <module>\n",
      "    if 'display.width' in pd.core.config._registered_options:\n",
      "AttributeError: module 'pandas.core' has no attribute 'config'\n"
     ]
    },
    {
     "name": "stdout",
     "output_type": "stream",
     "text": [
      "INFO: Pandarallel will run on 8 workers.\n",
      "INFO: Pandarallel will use Memory file system to transfer data between the main process and workers.\n"
     ]
    }
   ],
   "source": [
    "import importlib\n",
    "from matplotlib.pyplot import figure\n",
    "from AIBind.import_modules import *\n",
    "from AIBind import AIBind"
   ]
  },
  {
   "cell_type": "code",
   "execution_count": 2,
   "metadata": {
    "scrolled": true
   },
   "outputs": [
    {
     "data": {
      "text/plain": [
       "<module 'AIBind.AIBind' from '/home/AI-Bind/AIBind/AIBind.py'>"
      ]
     },
     "execution_count": 2,
     "metadata": {},
     "output_type": "execute_result"
    }
   ],
   "source": [
    "importlib.reload(AIBind)"
   ]
  },
  {
   "cell_type": "markdown",
   "metadata": {},
   "source": [
    "### GPU Settings"
   ]
  },
  {
   "cell_type": "code",
   "execution_count": 3,
   "metadata": {
    "scrolled": true
   },
   "outputs": [
    {
     "data": {
      "text/plain": [
       "[\"b'Tue Sep 28 17:36:57 2021       \",\n",
       " '+-----------------------------------------------------------------------------+',\n",
       " '| NVIDIA-SMI 418.87.01    Driver Version: 418.87.01    CUDA Version: 10.1     |',\n",
       " '|-------------------------------+----------------------+----------------------+',\n",
       " '| GPU  Name        Persistence-M| Bus-Id        Disp.A | Volatile Uncorr. ECC |',\n",
       " '| Fan  Temp  Perf  Pwr:Usage/Cap|         Memory-Usage | GPU-Util  Compute M. |',\n",
       " '|===============================+======================+======================|',\n",
       " '|   0  Tesla T4            Off  | 00000000:00:04.0 Off |                    0 |',\n",
       " '| N/A   72C    P0    33W /  70W |   3909MiB / 15079MiB |      0%      Default |',\n",
       " '+-------------------------------+----------------------+----------------------+',\n",
       " '|   1  Tesla T4            Off  | 00000000:00:05.0 Off |                    0 |',\n",
       " '| N/A   76C    P0    33W /  70W |   3247MiB / 15079MiB |      0%      Default |',\n",
       " '+-------------------------------+----------------------+----------------------+',\n",
       " '|   2  Tesla T4            Off  | 00000000:00:06.0 Off |                    0 |',\n",
       " '| N/A   72C    P0    32W /  70W |   3243MiB / 15079MiB |      0%      Default |',\n",
       " '+-------------------------------+----------------------+----------------------+',\n",
       " '|   3  Tesla T4            Off  | 00000000:00:07.0 Off |                    0 |',\n",
       " '| N/A   76C    P0    33W /  70W |   3275MiB / 15079MiB |      0%      Default |',\n",
       " '+-------------------------------+----------------------+----------------------+',\n",
       " '                                                                               ',\n",
       " '+-----------------------------------------------------------------------------+',\n",
       " '| Processes:                                                       GPU Memory |',\n",
       " '|  GPU       PID   Type   Process name                             Usage      |',\n",
       " '|=============================================================================|',\n",
       " '+-----------------------------------------------------------------------------+',\n",
       " \"'\"]"
      ]
     },
     "execution_count": 3,
     "metadata": {},
     "output_type": "execute_result"
    }
   ],
   "source": [
    "str(subprocess.check_output('nvidia-smi', shell = True)).split('\\\\n')"
   ]
  },
  {
   "cell_type": "code",
   "execution_count": 4,
   "metadata": {},
   "outputs": [],
   "source": [
    "os.environ[\"CUDA_VISIBLE_DEVICES\"] = \"1\""
   ]
  },
  {
   "cell_type": "markdown",
   "metadata": {},
   "source": [
    "### VecNet Object Definition"
   ]
  },
  {
   "cell_type": "code",
   "execution_count": 5,
   "metadata": {},
   "outputs": [],
   "source": [
    "# Read In drugs and targets dataframes to pass to AIBind after changing column names \n",
    "with open('/root/data/chemicals_01_w_embed.pkl', 'rb') as file: \n",
    "    drugs = pkl.load(file)\n",
    "    \n",
    "with open('/root/data/amino_01_w_embed.pkl', 'rb') as file: \n",
    "    targets = pkl.load(file)\n",
    "\n",
    "# Ensure correct column names    \n",
    "drugs = drugs.rename(columns = {'Label' : 'InChiKey'})\n",
    "targets = targets.rename(columns = {'Label' : 'target_aa_code'})"
   ]
  },
  {
   "cell_type": "code",
   "execution_count": 6,
   "metadata": {},
   "outputs": [
    {
     "data": {
      "application/vnd.jupyter.widget-view+json": {
       "model_id": "5f520a5d8d354f118688b15b22fe1911",
       "version_major": 2,
       "version_minor": 0
      },
      "text/plain": [
       "  0%|          | 0/5 [00:00<?, ?it/s]"
      ]
     },
     "metadata": {},
     "output_type": "display_data"
    }
   ],
   "source": [
    "targets_test = []\n",
    "targets_validation = []\n",
    "edges_test = []\n",
    "edges_validation = []\n",
    "train_sets = []\n",
    "\n",
    "for run_number in tqdm(range(5)):\n",
    "    \n",
    "    targets_test.append(pd.read_csv('/root/data/test_unseen_nodes_' + str(run_number) + '.csv'))\n",
    "    edges_test.append(pd.read_csv('/root/data/test_unseen_edges_' + str(run_number) + '.csv'))    \n",
    "    targets_validation.append(pd.read_csv('/root/data/validation_unseen_nodes_' + str(run_number) + '.csv'))    \n",
    "    edges_validation.append(pd.read_csv('/root/data/validation_unseen_edges_' + str(run_number) + '.csv'))    \n",
    "    train_sets.append(pd.read_csv('/root/data/train_' + str(run_number) + '.csv'))    "
   ]
  },
  {
   "cell_type": "code",
   "execution_count": 7,
   "metadata": {
    "scrolled": true
   },
   "outputs": [],
   "source": [
    "vecnet_object = AIBind.AIBind(interactions_location = '/root/data/Network_Derived_Negatives.csv',\n",
    "                              interactions = None,\n",
    "                              interaction_y_name = 'Y',\n",
    "\n",
    "                              absolute_negatives_location = None,\n",
    "                              absolute_negatives = None,\n",
    "\n",
    "                              drugs_location = None,\n",
    "                              drugs_dataframe = drugs,\n",
    "                              drug_inchi_name = 'InChiKey',\n",
    "                              drug_smile_name = 'SMILE',\n",
    "\n",
    "                              targets_location = None,\n",
    "                              targets_dataframe = targets, \n",
    "                              target_seq_name = 'target_aa_code',\n",
    "\n",
    "                              mol2vec_location = None,\n",
    "                              mol2vec_model = None,\n",
    "\n",
    "                              protvec_location = None, \n",
    "                              protvec_model = None,\n",
    "\n",
    "                              nodes_test = targets_test, \n",
    "                              nodes_validation = targets_validation, \n",
    "\n",
    "                              edges_test = edges_test, \n",
    "                              edges_validation = edges_validation, \n",
    "\n",
    "                              model_out_dir = '/root/data/',\n",
    "\n",
    "                              debug = False)"
   ]
  },
  {
   "cell_type": "markdown",
   "metadata": {},
   "source": [
    "### Loading Pre-trained VecNet"
   ]
  },
  {
   "cell_type": "code",
   "execution_count": 8,
   "metadata": {},
   "outputs": [],
   "source": [
    "with open('/root/data/VecNet_unseen_nodes.pickle', 'rb') as file:\n",
    "    vecnet_object = pkl.load(file) "
   ]
  },
  {
   "cell_type": "code",
   "execution_count": 9,
   "metadata": {},
   "outputs": [],
   "source": [
    "vecnet_object.mol2vec_location = '/root/data/model_300dim.pkl',\n",
    "vecnet_object.protvec_location = '/root/data/protVec_100d_3grams.csv',\n",
    "\n",
    "vecnet_object.protvec_model = pd.read_csv('/root/data/protVec_100d_3grams.csv', delimiter = '\\t')\n",
    "vecnet_object.mol2vec_model = word2vec.Word2Vec.load('/root/data/model_300dim.pkl')"
   ]
  },
  {
   "cell_type": "code",
   "execution_count": null,
   "metadata": {},
   "outputs": [],
   "source": []
  },
  {
   "cell_type": "code",
   "execution_count": 12,
   "metadata": {},
   "outputs": [
    {
     "data": {
      "application/vnd.jupyter.widget-view+json": {
       "model_id": "bbaacac8673f4659b8e59d44f0cf34d3",
       "version_major": 2,
       "version_minor": 0
      },
      "text/plain": [
       "0it [00:00, ?it/s]"
      ]
     },
     "metadata": {},
     "output_type": "display_data"
    },
    {
     "data": {
      "application/vnd.jupyter.widget-view+json": {
       "model_id": "27274233d799433ab0bc67c657b729a8",
       "version_major": 2,
       "version_minor": 0
      },
      "text/plain": [
       "0it [00:00, ?it/s]"
      ]
     },
     "metadata": {},
     "output_type": "display_data"
    },
    {
     "data": {
      "application/vnd.jupyter.widget-view+json": {
       "model_id": "57839653dafc4ec898c111505965ee84",
       "version_major": 2,
       "version_minor": 0
      },
      "text/plain": [
       "0it [00:00, ?it/s]"
      ]
     },
     "metadata": {},
     "output_type": "display_data"
    },
    {
     "data": {
      "application/vnd.jupyter.widget-view+json": {
       "model_id": "5b01f8e217ed45baa9312b27ded6e279",
       "version_major": 2,
       "version_minor": 0
      },
      "text/plain": [
       "0it [00:00, ?it/s]"
      ]
     },
     "metadata": {},
     "output_type": "display_data"
    }
   ],
   "source": [
    "# Unzip the models into the right folders\n",
    "# Can run directly in shell too\n",
    "try: \n",
    "    subprocess.check_output('mkdir /root/data/vecnet-final/; cd /root/data/vecnet-final; unzip ../vecnet-final.zip', shell = True)\n",
    "except: \n",
    "    None\n",
    "\n",
    "# Update model paths \n",
    "for _model, _path in vecnet_object.model_out_dir.items():\n",
    "    vecnet_object.model_out_dir[_model] = '/root/data/' + _path.split('/')[-2] + '/'\n",
    "    \n",
    "vecnet_object.drugs_dataframe = drugs\n",
    "vecnet_object.targets_dataframe = targets\n",
    "vecnet_object.get_protvec_embeddings()\n",
    "vecnet_object.get_mol2vec_embeddings()"
   ]
  },
  {
   "cell_type": "markdown",
   "metadata": {},
   "source": [
    "### Prediction "
   ]
  },
  {
   "cell_type": "code",
   "execution_count": 24,
   "metadata": {},
   "outputs": [],
   "source": [
    "## Expected to have 'InChiKey', 'SMILE', and 'target_aa_code'\n",
    "\n",
    "nodes_df = pd.read_csv('some_csv_file_path')\n",
    "\n",
    "# Example entries\n",
    "#nodes_df['InChiKey'] = ['HUMNYLRZRPPJDN-UHFFFAOYSA-N']\n",
    "#nodes_df['SMILE'] = ['C1=CC=C(C=C1)C=O']\n",
    "#nodes_df['target_aa_code'] = sars_targets['Sequence'].tolist()[0]"
   ]
  },
  {
   "cell_type": "code",
   "execution_count": 17,
   "metadata": {
    "scrolled": true
   },
   "outputs": [
    {
     "name": "stdout",
     "output_type": "stream",
     "text": [
      "Testing on model :  /root/data/vecnet-final/Run_0/vecnet_ds2_5_fold_unseen_nodes_v00_run0_07-13_15h58_epoch_19_idx_0.model\n",
      "filtered_nodes_test :  (122, 11)\n",
      "Drugs :  98\n",
      "Targets :  71\n"
     ]
    },
    {
     "data": {
      "application/vnd.jupyter.widget-view+json": {
       "model_id": "83ed272291c84b7f941d1bbdcd9f6c28",
       "version_major": 2,
       "version_minor": 0
      },
      "text/plain": [
       "0it [00:00, ?it/s]"
      ]
     },
     "metadata": {},
     "output_type": "display_data"
    },
    {
     "data": {
      "application/vnd.jupyter.widget-view+json": {
       "model_id": "0552eeec9e9846c596ac71a83068a0a9",
       "version_major": 2,
       "version_minor": 0
      },
      "text/plain": [
       "0it [00:00, ?it/s]"
      ]
     },
     "metadata": {},
     "output_type": "display_data"
    },
    {
     "data": {
      "application/vnd.jupyter.widget-view+json": {
       "model_id": "d4adb7a356ad415b9092971320a55ea9",
       "version_major": 2,
       "version_minor": 0
      },
      "text/plain": [
       "0it [00:00, ?it/s]"
      ]
     },
     "metadata": {},
     "output_type": "display_data"
    },
    {
     "data": {
      "application/vnd.jupyter.widget-view+json": {
       "model_id": "77a854f2f3854c7bb15fe22c5a31c680",
       "version_major": 2,
       "version_minor": 0
      },
      "text/plain": [
       "0it [00:00, ?it/s]"
      ]
     },
     "metadata": {},
     "output_type": "display_data"
    },
    {
     "name": "stdout",
     "output_type": "stream",
     "text": [
      "X0, X1 :  (122, 100) (122, 300)\n",
      "Testing on model :  /root/data/vecnet-final/Run_1/vecnet_ds2_5_fold_unseen_nodes_v00_run1_07-13_16h01_epoch_19_idx_0.model\n",
      "filtered_nodes_test :  (122, 11)\n",
      "Drugs :  98\n",
      "Targets :  71\n"
     ]
    },
    {
     "data": {
      "application/vnd.jupyter.widget-view+json": {
       "model_id": "6daa3a74bfd84439b78d942e65dbb29a",
       "version_major": 2,
       "version_minor": 0
      },
      "text/plain": [
       "0it [00:00, ?it/s]"
      ]
     },
     "metadata": {},
     "output_type": "display_data"
    },
    {
     "data": {
      "application/vnd.jupyter.widget-view+json": {
       "model_id": "dee1ddedab6e4d549530fc1ad9f4c29a",
       "version_major": 2,
       "version_minor": 0
      },
      "text/plain": [
       "0it [00:00, ?it/s]"
      ]
     },
     "metadata": {},
     "output_type": "display_data"
    },
    {
     "data": {
      "application/vnd.jupyter.widget-view+json": {
       "model_id": "9ef882a323b84262998abf79b8441321",
       "version_major": 2,
       "version_minor": 0
      },
      "text/plain": [
       "0it [00:00, ?it/s]"
      ]
     },
     "metadata": {},
     "output_type": "display_data"
    },
    {
     "data": {
      "application/vnd.jupyter.widget-view+json": {
       "model_id": "bd22a36610cf4f9fad7f95f72bfc6ae6",
       "version_major": 2,
       "version_minor": 0
      },
      "text/plain": [
       "0it [00:00, ?it/s]"
      ]
     },
     "metadata": {},
     "output_type": "display_data"
    },
    {
     "name": "stdout",
     "output_type": "stream",
     "text": [
      "X0, X1 :  (122, 100) (122, 300)\n",
      "Testing on model :  /root/data/vecnet-final/Run_2/vecnet_ds2_5_fold_unseen_nodes_v00_run2_07-13_16h03_epoch_19_idx_0.model\n",
      "filtered_nodes_test :  (122, 11)\n",
      "Drugs :  98\n",
      "Targets :  71\n"
     ]
    },
    {
     "data": {
      "application/vnd.jupyter.widget-view+json": {
       "model_id": "e6884a0c92654e6d859d4c3c0ed8e0d5",
       "version_major": 2,
       "version_minor": 0
      },
      "text/plain": [
       "0it [00:00, ?it/s]"
      ]
     },
     "metadata": {},
     "output_type": "display_data"
    },
    {
     "data": {
      "application/vnd.jupyter.widget-view+json": {
       "model_id": "c29396fca17d4ac4abca2b42ac79eb51",
       "version_major": 2,
       "version_minor": 0
      },
      "text/plain": [
       "0it [00:00, ?it/s]"
      ]
     },
     "metadata": {},
     "output_type": "display_data"
    },
    {
     "data": {
      "application/vnd.jupyter.widget-view+json": {
       "model_id": "1014ea19ca6b48bdad5f044226508186",
       "version_major": 2,
       "version_minor": 0
      },
      "text/plain": [
       "0it [00:00, ?it/s]"
      ]
     },
     "metadata": {},
     "output_type": "display_data"
    },
    {
     "data": {
      "application/vnd.jupyter.widget-view+json": {
       "model_id": "ec2f607501fe4c0cba1ce078a8f0ca32",
       "version_major": 2,
       "version_minor": 0
      },
      "text/plain": [
       "0it [00:00, ?it/s]"
      ]
     },
     "metadata": {},
     "output_type": "display_data"
    },
    {
     "name": "stdout",
     "output_type": "stream",
     "text": [
      "X0, X1 :  (122, 100) (122, 300)\n",
      "Testing on model :  /root/data/vecnet-final/Run_3/vecnet_ds2_5_fold_unseen_nodes_v00_run3_07-13_16h07_epoch_19_idx_0.model\n",
      "filtered_nodes_test :  (122, 11)\n",
      "Drugs :  98\n",
      "Targets :  71\n"
     ]
    },
    {
     "data": {
      "application/vnd.jupyter.widget-view+json": {
       "model_id": "00e3147932df4d05b5c1e677501b9340",
       "version_major": 2,
       "version_minor": 0
      },
      "text/plain": [
       "0it [00:00, ?it/s]"
      ]
     },
     "metadata": {},
     "output_type": "display_data"
    },
    {
     "data": {
      "application/vnd.jupyter.widget-view+json": {
       "model_id": "5048951383124f4b908ba3bd4698cd6f",
       "version_major": 2,
       "version_minor": 0
      },
      "text/plain": [
       "0it [00:00, ?it/s]"
      ]
     },
     "metadata": {},
     "output_type": "display_data"
    },
    {
     "data": {
      "application/vnd.jupyter.widget-view+json": {
       "model_id": "fdfa4443859c4825b487cf181a080269",
       "version_major": 2,
       "version_minor": 0
      },
      "text/plain": [
       "0it [00:00, ?it/s]"
      ]
     },
     "metadata": {},
     "output_type": "display_data"
    },
    {
     "data": {
      "application/vnd.jupyter.widget-view+json": {
       "model_id": "b7ed28ebcca84b7cac8cd37384ab5492",
       "version_major": 2,
       "version_minor": 0
      },
      "text/plain": [
       "0it [00:00, ?it/s]"
      ]
     },
     "metadata": {},
     "output_type": "display_data"
    },
    {
     "name": "stdout",
     "output_type": "stream",
     "text": [
      "X0, X1 :  (122, 100) (122, 300)\n",
      "Testing on model :  /root/data/vecnet-final/Run_4/vecnet_ds2_5_fold_unseen_nodes_v00_run4_07-13_16h09_epoch_19_idx_0.model\n",
      "filtered_nodes_test :  (122, 11)\n",
      "Drugs :  98\n",
      "Targets :  71\n"
     ]
    },
    {
     "data": {
      "application/vnd.jupyter.widget-view+json": {
       "model_id": "b83ec4cf11e34748be3bdba67f89a86f",
       "version_major": 2,
       "version_minor": 0
      },
      "text/plain": [
       "0it [00:00, ?it/s]"
      ]
     },
     "metadata": {},
     "output_type": "display_data"
    },
    {
     "data": {
      "application/vnd.jupyter.widget-view+json": {
       "model_id": "51a59876a49b448b85f5bd06ec524223",
       "version_major": 2,
       "version_minor": 0
      },
      "text/plain": [
       "0it [00:00, ?it/s]"
      ]
     },
     "metadata": {},
     "output_type": "display_data"
    },
    {
     "data": {
      "application/vnd.jupyter.widget-view+json": {
       "model_id": "0b64d2bc32cc42aa90ddc405b21f9a18",
       "version_major": 2,
       "version_minor": 0
      },
      "text/plain": [
       "0it [00:00, ?it/s]"
      ]
     },
     "metadata": {},
     "output_type": "display_data"
    },
    {
     "data": {
      "application/vnd.jupyter.widget-view+json": {
       "model_id": "4510181dc5534359bd17dcc631abb991",
       "version_major": 2,
       "version_minor": 0
      },
      "text/plain": [
       "0it [00:00, ?it/s]"
      ]
     },
     "metadata": {},
     "output_type": "display_data"
    },
    {
     "name": "stdout",
     "output_type": "stream",
     "text": [
      "X0, X1 :  (122, 100) (122, 300)\n",
      "unseen_targets_pred :  (122,)\n",
      "list :  122\n"
     ]
    },
    {
     "name": "stderr",
     "output_type": "stream",
     "text": [
      "/home/AI-Bind/AIBind/AIBind.py:1210: SettingWithCopyWarning:\n",
      "\n",
      "\n",
      "A value is trying to be set on a copy of a slice from a DataFrame.\n",
      "Try using .loc[row_indexer,col_indexer] = value instead\n",
      "\n",
      "See the caveats in the documentation: https://pandas.pydata.org/pandas-docs/stable/user_guide/indexing.html#returning-a-view-versus-a-copy\n",
      "\n"
     ]
    }
   ],
   "source": [
    "unseen_nodes_example_5fold_average = vecnet_object.get_fold_averaged_prediction_results(model_name = None,\n",
    "                                                                                     version_number = None,\n",
    "                                                                                     model_paths = [],\n",
    "                                                                                     optimal_validation_model = None,\n",
    "                                                                                     test_sets = [nodes_df],\n",
    "                                                                                     get_drug_embed = True,\n",
    "                                                                                     get_target_embed = True,\n",
    "                                                                                     drug_filter_list = [],\n",
    "                                                                                     target_filter_list = [],\n",
    "                                                                                     return_dataframes = True )\n",
    "\n"
   ]
  },
  {
   "cell_type": "code",
   "execution_count": 18,
   "metadata": {},
   "outputs": [],
   "source": [
    "#unseen_nodes_example_5fold_average[0].to_csv('output.csv')"
   ]
  },
  {
   "cell_type": "code",
   "execution_count": null,
   "metadata": {},
   "outputs": [],
   "source": []
  }
 ],
 "metadata": {
  "kernelspec": {
   "display_name": "Python 3",
   "language": "python",
   "name": "python3"
  },
  "language_info": {
   "codemirror_mode": {
    "name": "ipython",
    "version": 3
   },
   "file_extension": ".py",
   "mimetype": "text/x-python",
   "name": "python",
   "nbconvert_exporter": "python",
   "pygments_lexer": "ipython3",
   "version": "3.7.7"
  },
  "toc": {
   "base_numbering": 1,
   "nav_menu": {},
   "number_sections": true,
   "sideBar": true,
   "skip_h1_title": false,
   "title_cell": "Table of Contents",
   "title_sidebar": "Contents",
   "toc_cell": false,
   "toc_position": {},
   "toc_section_display": true,
   "toc_window_display": false
  }
 },
 "nbformat": 4,
 "nbformat_minor": 4
}
