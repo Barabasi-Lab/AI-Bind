{
 "cells": [
  {
   "cell_type": "markdown",
   "metadata": {},
   "source": [
    "### Imports"
   ]
  },
  {
   "cell_type": "code",
   "execution_count": 3,
   "metadata": {},
   "outputs": [],
   "source": [
    "import importlib\n",
    "from AIBind.import_modules import *\n",
    "from AIBind import AIBind"
   ]
  },
  {
   "cell_type": "code",
   "execution_count": 2,
   "metadata": {},
   "outputs": [
    {
     "data": {
      "text/plain": [
       "<module 'AIBind.AIBind' from '/home/sars-busters-consolidated/GitCode/AIBind/AIBind.py'>"
      ]
     },
     "execution_count": 2,
     "metadata": {},
     "output_type": "execute_result"
    }
   ],
   "source": [
    "importlib.reload(AIBind)"
   ]
  },
  {
   "cell_type": "markdown",
   "metadata": {},
   "source": [
    "### GPU Settings"
   ]
  },
  {
   "cell_type": "code",
   "execution_count": 5,
   "metadata": {},
   "outputs": [
    {
     "data": {
      "text/plain": [
       "[\"b'Thu Jul 15 17:19:42 2021       \",\n",
       " '+-----------------------------------------------------------------------------+',\n",
       " '| NVIDIA-SMI 418.87.01    Driver Version: 418.87.01    CUDA Version: 10.1     |',\n",
       " '|-------------------------------+----------------------+----------------------+',\n",
       " '| GPU  Name        Persistence-M| Bus-Id        Disp.A | Volatile Uncorr. ECC |',\n",
       " '| Fan  Temp  Perf  Pwr:Usage/Cap|         Memory-Usage | GPU-Util  Compute M. |',\n",
       " '|===============================+======================+======================|',\n",
       " '|   0  Tesla T4            Off  | 00000000:00:04.0 Off |                    0 |',\n",
       " '| N/A   71C    P0    33W /  70W |      0MiB / 15079MiB |      0%      Default |',\n",
       " '+-------------------------------+----------------------+----------------------+',\n",
       " '|   1  Tesla T4            Off  | 00000000:00:05.0 Off |                    0 |',\n",
       " '| N/A   72C    P0    31W /  70W |  14906MiB / 15079MiB |      0%      Default |',\n",
       " '+-------------------------------+----------------------+----------------------+',\n",
       " '|   2  Tesla T4            Off  | 00000000:00:06.0 Off |                    0 |',\n",
       " '| N/A   48C    P0    28W /  70W |  14387MiB / 15079MiB |      0%      Default |',\n",
       " '+-------------------------------+----------------------+----------------------+',\n",
       " '|   3  Tesla T4            Off  | 00000000:00:07.0 Off |                    0 |',\n",
       " '| N/A   77C    P0    67W /  70W |  14653MiB / 15079MiB |     88%      Default |',\n",
       " '+-------------------------------+----------------------+----------------------+',\n",
       " '                                                                               ',\n",
       " '+-----------------------------------------------------------------------------+',\n",
       " '| Processes:                                                       GPU Memory |',\n",
       " '|  GPU       PID   Type   Process name                             Usage      |',\n",
       " '|=============================================================================|',\n",
       " '+-----------------------------------------------------------------------------+',\n",
       " \"'\"]"
      ]
     },
     "execution_count": 5,
     "metadata": {},
     "output_type": "execute_result"
    }
   ],
   "source": [
    "str(subprocess.check_output('nvidia-smi', shell = True)).split('\\\\n')"
   ]
  },
  {
   "cell_type": "code",
   "execution_count": 6,
   "metadata": {},
   "outputs": [],
   "source": [
    "os.environ[\"CUDA_VISIBLE_DEVICES\"] = \"0\""
   ]
  },
  {
   "cell_type": "markdown",
   "metadata": {},
   "source": [
    "### Siamese"
   ]
  },
  {
   "cell_type": "markdown",
   "metadata": {},
   "source": [
    "#### Read In Test Datasets"
   ]
  },
  {
   "cell_type": "code",
   "execution_count": 7,
   "metadata": {},
   "outputs": [
    {
     "data": {
      "application/vnd.jupyter.widget-view+json": {
       "model_id": "0a2c22cfc6654bd4b3be23bfa3923392",
       "version_major": 2,
       "version_minor": 0
      },
      "text/plain": [
       "  0%|          | 0/5 [00:00<?, ?it/s]"
      ]
     },
     "metadata": {},
     "output_type": "display_data"
    }
   ],
   "source": [
    "targets_test = []\n",
    "targets_validation = []\n",
    "edges_test = []\n",
    "edges_validation = []\n",
    "train_sets = []\n",
    "\n",
    "for run_number in tqdm(range(5)):\n",
    "    \n",
    "    targets_test.append(pd.read_csv('/data/sars-busters-consolidated/GitData/VecNet_Unseen_Nodes/test_unseen_nodes_' + str(run_number) + '.csv'))\n",
    "    edges_test.append(pd.read_csv('/data/sars-busters-consolidated/GitData/VecNet_Unseen_Nodes/test_unseen_edges_' + str(run_number) + '.csv'))    \n",
    "    targets_validation.append(pd.read_csv('/data/sars-busters-consolidated/GitData/VecNet_Unseen_Nodes/validation_unseen_nodes_' + str(run_number) + '.csv'))    \n",
    "    edges_validation.append(pd.read_csv('/data/sars-busters-consolidated/GitData/VecNet_Unseen_Nodes/validation_unseen_edges_' + str(run_number) + '.csv'))    \n",
    "    train_sets.append(pd.read_csv('/data/sars-busters-consolidated/GitData/VecNet_Unseen_Nodes/train_' + str(run_number) + '.csv'))    "
   ]
  },
  {
   "cell_type": "markdown",
   "metadata": {},
   "source": [
    "#### AIBind Object"
   ]
  },
  {
   "cell_type": "code",
   "execution_count": 8,
   "metadata": {},
   "outputs": [],
   "source": [
    "drugs = pd.read_csv('/data/sars-busters-consolidated/chemicals/chemicals_01.csv')\n",
    "targets = pd.read_csv('/data/sars-busters-consolidated/targets/amino/amino_01.csv')\n",
    "\n",
    "drugs = drugs.rename(columns = {'Label' : 'InChiKey'})\n",
    "targets = targets.rename(columns = {'Label' : 'target_aa_code'})"
   ]
  },
  {
   "cell_type": "code",
   "execution_count": 9,
   "metadata": {},
   "outputs": [],
   "source": [
    "targets_to_add = list(set(pd.concat(targets_test)['target_aa_code']).difference(targets['target_aa_code']))\n",
    "targets_to_add = pd.DataFrame(targets_to_add)\n",
    "targets_to_add.columns = ['target_aa_code']\n",
    "\n",
    "targets = targets[['target_aa_code']]\n",
    "targets = pd.concat([targets, targets_to_add])"
   ]
  },
  {
   "cell_type": "code",
   "execution_count": 10,
   "metadata": {},
   "outputs": [],
   "source": [
    "# Create object\n",
    "siamese_object = AIBind.AIBind(interactions_location = '/data/sars-busters-consolidated/GitData/interactions/Network_Derived_Negatives.csv',\n",
    "                              interactions = None,\n",
    "                              interaction_y_name = 'Y',\n",
    "\n",
    "                              absolute_negatives_location = None,\n",
    "                              absolute_negatives = None,\n",
    "\n",
    "                              drugs_location = None,\n",
    "                              drugs_dataframe = drugs,\n",
    "                              drug_inchi_name = 'InChiKey',\n",
    "                              drug_smile_name = 'SMILE',\n",
    "\n",
    "                              targets_location = None,\n",
    "                              targets_dataframe = targets, \n",
    "                              target_seq_name = 'target_aa_code',\n",
    "\n",
    "                              mol2vec_location = None,\n",
    "                              mol2vec_model = None,\n",
    "\n",
    "                              protvec_location = None, \n",
    "                              protvec_model = None,\n",
    "\n",
    "                              nodes_test = targets_test, \n",
    "                              nodes_validation = targets_validation, \n",
    "\n",
    "                              edges_test = edges_test, \n",
    "                              edges_validation = edges_validation, \n",
    "\n",
    "                              model_out_dir = '/data/sars-busters-consolidated/siamese/KF-Final/',\n",
    "\n",
    "                              debug = False)"
   ]
  },
  {
   "cell_type": "markdown",
   "metadata": {},
   "source": [
    "#### Update Drugs and Targets "
   ]
  },
  {
   "cell_type": "code",
   "execution_count": 11,
   "metadata": {},
   "outputs": [
    {
     "data": {
      "application/vnd.jupyter.widget-view+json": {
       "model_id": "a614f7fa39e84285b6f4a51342928fa0",
       "version_major": 2,
       "version_minor": 0
      },
      "text/plain": [
       "0it [00:00, ?it/s]"
      ]
     },
     "metadata": {},
     "output_type": "display_data"
    },
    {
     "name": "stdout",
     "output_type": "stream",
     "text": [
      "Number of drugs skipped :  0\n"
     ]
    },
    {
     "data": {
      "application/vnd.jupyter.widget-view+json": {
       "model_id": "541b7d41b47341f386e5c6f17646d5cb",
       "version_major": 2,
       "version_minor": 0
      },
      "text/plain": [
       "  0%|          | 0/5186 [00:00<?, ?it/s]"
      ]
     },
     "metadata": {},
     "output_type": "display_data"
    },
    {
     "data": {
      "application/vnd.jupyter.widget-view+json": {
       "model_id": "04305a6afc894602a82dda31af1f7b94",
       "version_major": 2,
       "version_minor": 0
      },
      "text/plain": [
       "  0%|          | 0/5186 [00:00<?, ?it/s]"
      ]
     },
     "metadata": {},
     "output_type": "display_data"
    },
    {
     "data": {
      "application/vnd.jupyter.widget-view+json": {
       "model_id": "fa9187aca1c14947b328f1ca876eafa2",
       "version_major": 2,
       "version_minor": 0
      },
      "text/plain": [
       "  0%|          | 0/5186 [00:00<?, ?it/s]"
      ]
     },
     "metadata": {},
     "output_type": "display_data"
    }
   ],
   "source": [
    "siamese_object.get_simaese_input_format(drugs_dataframe = None,\n",
    "                                        targets_dataframe = None,\n",
    "                                        drug_fingerprint_name = 'fingerprint',\n",
    "                                        drug_out_encoding_name = 'padded_encoded_fingerprint',\n",
    "                                        target_out_encoding_name = 'target_aa_encoded_padded_int',\n",
    "                                        replace_dataframe = True,\n",
    "                                        return_dataframes = False)"
   ]
  },
  {
   "cell_type": "markdown",
   "metadata": {},
   "source": [
    "#### Create Train Sets"
   ]
  },
  {
   "cell_type": "code",
   "execution_count": 12,
   "metadata": {},
   "outputs": [
    {
     "data": {
      "application/vnd.jupyter.widget-view+json": {
       "model_id": "c59300c5f09a49f7b457d1f7a01f4502",
       "version_major": 2,
       "version_minor": 0
      },
      "text/plain": [
       "  0%|          | 0/5 [00:00<?, ?it/s]"
      ]
     },
     "metadata": {},
     "output_type": "display_data"
    },
    {
     "data": {
      "application/vnd.jupyter.widget-view+json": {
       "model_id": "b00d7648e11a48eb9ff577b09db3d323",
       "version_major": 2,
       "version_minor": 0
      },
      "text/plain": [
       "0it [00:00, ?it/s]"
      ]
     },
     "metadata": {},
     "output_type": "display_data"
    },
    {
     "data": {
      "application/vnd.jupyter.widget-view+json": {
       "model_id": "e5f6416541b7462a8823414020af10ae",
       "version_major": 2,
       "version_minor": 0
      },
      "text/plain": [
       "0it [00:00, ?it/s]"
      ]
     },
     "metadata": {},
     "output_type": "display_data"
    },
    {
     "data": {
      "application/vnd.jupyter.widget-view+json": {
       "model_id": "6979b4695c7f427e959f8ac63e6f3d75",
       "version_major": 2,
       "version_minor": 0
      },
      "text/plain": [
       "0it [00:00, ?it/s]"
      ]
     },
     "metadata": {},
     "output_type": "display_data"
    },
    {
     "data": {
      "application/vnd.jupyter.widget-view+json": {
       "model_id": "320be2483bb643fdbd99a142ff11b76d",
       "version_major": 2,
       "version_minor": 0
      },
      "text/plain": [
       "0it [00:00, ?it/s]"
      ]
     },
     "metadata": {},
     "output_type": "display_data"
    },
    {
     "data": {
      "application/vnd.jupyter.widget-view+json": {
       "model_id": "c3961a36b65f454781aa2cd01acab7a8",
       "version_major": 2,
       "version_minor": 0
      },
      "text/plain": [
       "0it [00:00, ?it/s]"
      ]
     },
     "metadata": {},
     "output_type": "display_data"
    },
    {
     "name": "stdout",
     "output_type": "stream",
     "text": [
      "Set :  0\n",
      "Train - Test - Validation Overlap For Unseen Targets :  0\n",
      "Train - Test - Validation Overlap For Unseen Drugs :  0\n",
      "Train - Test - Validation Overlap For Unseen Edges :  0\n",
      "Train Set :  (12770, 3)\n",
      "Nodes Test :  (6491, 3)\n",
      "Nodes Val :  (6492, 3)\n",
      "Edge Test :  (3693, 3)\n",
      "Edge Val :  (3693, 3)\n",
      "Positive / Negatative Ratio :  0.37341363734136374\n",
      "\n",
      "Set :  1\n",
      "Train - Test - Validation Overlap For Unseen Targets :  0\n",
      "Train - Test - Validation Overlap For Unseen Drugs :  0\n",
      "Train - Test - Validation Overlap For Unseen Edges :  0\n",
      "Train Set :  (12166, 3)\n",
      "Nodes Test :  (6935, 3)\n",
      "Nodes Val :  (6790, 3)\n",
      "Edge Test :  (3603, 3)\n",
      "Edge Val :  (3603, 3)\n",
      "Positive / Negatative Ratio :  0.3620689655172414\n",
      "\n",
      "Set :  2\n",
      "Train - Test - Validation Overlap For Unseen Targets :  0\n",
      "Train - Test - Validation Overlap For Unseen Drugs :  0\n",
      "Train - Test - Validation Overlap For Unseen Edges :  0\n",
      "Train Set :  (15660, 3)\n",
      "Nodes Test :  (6329, 3)\n",
      "Nodes Val :  (6184, 3)\n",
      "Edge Test :  (3785, 3)\n",
      "Edge Val :  (3785, 3)\n",
      "Positive / Negatative Ratio :  0.33174589675992855\n",
      "\n",
      "Set :  3\n",
      "Train - Test - Validation Overlap For Unseen Targets :  0\n",
      "Train - Test - Validation Overlap For Unseen Drugs :  0\n",
      "Train - Test - Validation Overlap For Unseen Edges :  0\n",
      "Train Set :  (10547, 3)\n",
      "Nodes Test :  (6579, 3)\n",
      "Nodes Val :  (6435, 3)\n",
      "Edge Test :  (3710, 3)\n",
      "Edge Val :  (3710, 3)\n",
      "Positive / Negatative Ratio :  0.3490662573548222\n",
      "\n",
      "Set :  4\n",
      "Train - Test - Validation Overlap For Unseen Targets :  0\n",
      "Train - Test - Validation Overlap For Unseen Drugs :  0\n",
      "Train - Test - Validation Overlap For Unseen Edges :  0\n",
      "Train Set :  (16281, 3)\n",
      "Nodes Test :  (6626, 3)\n",
      "Nodes Val :  (6482, 3)\n",
      "Edge Test :  (3696, 3)\n",
      "Edge Val :  (3696, 3)\n",
      "Positive / Negatative Ratio :  0.3185131195335277\n",
      "\n"
     ]
    }
   ],
   "source": [
    "siamese_object.create_train_sets(unseen_nodes_flag = True,\n",
    "                                 data_leak_check = True)"
   ]
  },
  {
   "cell_type": "markdown",
   "metadata": {},
   "source": [
    "#### Train Embedder"
   ]
  },
  {
   "cell_type": "code",
   "execution_count": 13,
   "metadata": {
    "scrolled": true
   },
   "outputs": [
    {
     "data": {
      "application/vnd.jupyter.widget-view+json": {
       "model_id": "08d67d98c3ff4c4d94c1786b69fb0e64",
       "version_major": 2,
       "version_minor": 0
      },
      "text/plain": [
       "  0%|          | 0/5 [00:00<?, ?it/s]"
      ]
     },
     "metadata": {},
     "output_type": "display_data"
    },
    {
     "name": "stdout",
     "output_type": "stream",
     "text": [
      "WARNING:tensorflow:Output \"Triplet_Loss_Layer\" missing from loss dictionary. We assume this was done on purpose. The fit and evaluate APIs will not be expecting any data to be passed to \"Triplet_Loss_Layer\".\n"
     ]
    },
    {
     "data": {
      "application/vnd.jupyter.widget-view+json": {
       "model_id": "a4c0d370aedf4ecd8a42c44506549fb5",
       "version_major": 2,
       "version_minor": 0
      },
      "text/plain": [
       "  0%|          | 0/7 [00:00<?, ?it/s]"
      ]
     },
     "metadata": {},
     "output_type": "display_data"
    },
    {
     "data": {
      "application/vnd.jupyter.widget-view+json": {
       "model_id": "39e18a90aaae45918b4aa2bd92714958",
       "version_major": 2,
       "version_minor": 0
      },
      "text/plain": [
       "0it [00:00, ?it/s]"
      ]
     },
     "metadata": {},
     "output_type": "display_data"
    },
    {
     "name": "stdout",
     "output_type": "stream",
     "text": [
      "Total Number Of Drugs : 2705\n",
      "Total Number Of Usable Drugs (Drugs That Have Data On Both Binding & No Binding) : 2190\n",
      "Total Number Of Targets : 3049\n",
      "Total Number Of Usable Targets (Targets That Have Data On Both Binding & No Binding) : 646\n"
     ]
    },
    {
     "data": {
      "application/vnd.jupyter.widget-view+json": {
       "model_id": "97443b6ec14c47da8297d091913c1926",
       "version_major": 2,
       "version_minor": 0
      },
      "text/plain": [
       "  0%|          | 0/646 [00:00<?, ?it/s]"
      ]
     },
     "metadata": {},
     "output_type": "display_data"
    },
    {
     "data": {
      "application/vnd.jupyter.widget-view+json": {
       "model_id": "6feb51736ce74ba79d475710cbb215e3",
       "version_major": 2,
       "version_minor": 0
      },
      "text/plain": [
       "0it [00:00, ?it/s]"
      ]
     },
     "metadata": {},
     "output_type": "display_data"
    },
    {
     "name": "stdout",
     "output_type": "stream",
     "text": [
      "Epoch : 0 | Target Triplet : 0 | Average Loss : 0.3556428\n",
      "Epoch Time : 307.33354592323303\n"
     ]
    },
    {
     "data": {
      "application/vnd.jupyter.widget-view+json": {
       "model_id": "d642b4c33764444f8a1a5f607a953704",
       "version_major": 2,
       "version_minor": 0
      },
      "text/plain": [
       "0it [00:00, ?it/s]"
      ]
     },
     "metadata": {},
     "output_type": "display_data"
    },
    {
     "name": "stdout",
     "output_type": "stream",
     "text": [
      "Total Number Of Drugs : 2705\n",
      "Total Number Of Usable Drugs (Drugs That Have Data On Both Binding & No Binding) : 2190\n",
      "Total Number Of Targets : 3049\n",
      "Total Number Of Usable Targets (Targets That Have Data On Both Binding & No Binding) : 646\n"
     ]
    },
    {
     "data": {
      "application/vnd.jupyter.widget-view+json": {
       "model_id": "6523df697cd84d519e147d2471ec9530",
       "version_major": 2,
       "version_minor": 0
      },
      "text/plain": [
       "  0%|          | 0/646 [00:00<?, ?it/s]"
      ]
     },
     "metadata": {},
     "output_type": "display_data"
    },
    {
     "data": {
      "application/vnd.jupyter.widget-view+json": {
       "model_id": "dec3c74f065141269e39498c6293636b",
       "version_major": 2,
       "version_minor": 0
      },
      "text/plain": [
       "0it [00:00, ?it/s]"
      ]
     },
     "metadata": {},
     "output_type": "display_data"
    },
    {
     "name": "stdout",
     "output_type": "stream",
     "text": [
      "Epoch : 1 | Target Triplet : 0 | Average Loss : 0.4733534\n",
      "Epoch Time : 285.86606097221375\n"
     ]
    },
    {
     "data": {
      "application/vnd.jupyter.widget-view+json": {
       "model_id": "3a66cdf6f32d4697b6e918ec5f3c7c82",
       "version_major": 2,
       "version_minor": 0
      },
      "text/plain": [
       "0it [00:00, ?it/s]"
      ]
     },
     "metadata": {},
     "output_type": "display_data"
    },
    {
     "name": "stdout",
     "output_type": "stream",
     "text": [
      "Total Number Of Drugs : 2705\n",
      "Total Number Of Usable Drugs (Drugs That Have Data On Both Binding & No Binding) : 2190\n",
      "Total Number Of Targets : 3049\n",
      "Total Number Of Usable Targets (Targets That Have Data On Both Binding & No Binding) : 646\n"
     ]
    },
    {
     "data": {
      "application/vnd.jupyter.widget-view+json": {
       "model_id": "d3fe8a62a906469ca4b24d480bd5ae9c",
       "version_major": 2,
       "version_minor": 0
      },
      "text/plain": [
       "  0%|          | 0/646 [00:00<?, ?it/s]"
      ]
     },
     "metadata": {},
     "output_type": "display_data"
    },
    {
     "data": {
      "application/vnd.jupyter.widget-view+json": {
       "model_id": "e17ca5f2a8f24e70b15affd614ab2821",
       "version_major": 2,
       "version_minor": 0
      },
      "text/plain": [
       "0it [00:00, ?it/s]"
      ]
     },
     "metadata": {},
     "output_type": "display_data"
    },
    {
     "name": "stdout",
     "output_type": "stream",
     "text": [
      "Epoch : 2 | Target Triplet : 0 | Average Loss : 0.57090855\n",
      "Epoch Time : 285.32562017440796\n"
     ]
    },
    {
     "data": {
      "application/vnd.jupyter.widget-view+json": {
       "model_id": "a2f775b52cec420b9f907103f810a461",
       "version_major": 2,
       "version_minor": 0
      },
      "text/plain": [
       "0it [00:00, ?it/s]"
      ]
     },
     "metadata": {},
     "output_type": "display_data"
    },
    {
     "name": "stdout",
     "output_type": "stream",
     "text": [
      "Total Number Of Drugs : 2705\n",
      "Total Number Of Usable Drugs (Drugs That Have Data On Both Binding & No Binding) : 2190\n",
      "Total Number Of Targets : 3049\n",
      "Total Number Of Usable Targets (Targets That Have Data On Both Binding & No Binding) : 646\n"
     ]
    },
    {
     "data": {
      "application/vnd.jupyter.widget-view+json": {
       "model_id": "2a5a47cb57894103b6a3b2e76276b8db",
       "version_major": 2,
       "version_minor": 0
      },
      "text/plain": [
       "  0%|          | 0/646 [00:00<?, ?it/s]"
      ]
     },
     "metadata": {},
     "output_type": "display_data"
    },
    {
     "data": {
      "application/vnd.jupyter.widget-view+json": {
       "model_id": "28c681c3ac2741189ec8f2910b2950c0",
       "version_major": 2,
       "version_minor": 0
      },
      "text/plain": [
       "0it [00:00, ?it/s]"
      ]
     },
     "metadata": {},
     "output_type": "display_data"
    },
    {
     "name": "stdout",
     "output_type": "stream",
     "text": [
      "Epoch : 3 | Target Triplet : 0 | Average Loss : 0.38583016\n",
      "Epoch Time : 285.1916563510895\n"
     ]
    },
    {
     "data": {
      "application/vnd.jupyter.widget-view+json": {
       "model_id": "adec30618fc8401d81816ea2e08abdcd",
       "version_major": 2,
       "version_minor": 0
      },
      "text/plain": [
       "0it [00:00, ?it/s]"
      ]
     },
     "metadata": {},
     "output_type": "display_data"
    },
    {
     "name": "stdout",
     "output_type": "stream",
     "text": [
      "Total Number Of Drugs : 2705\n",
      "Total Number Of Usable Drugs (Drugs That Have Data On Both Binding & No Binding) : 2190\n",
      "Total Number Of Targets : 3049\n",
      "Total Number Of Usable Targets (Targets That Have Data On Both Binding & No Binding) : 646\n"
     ]
    },
    {
     "data": {
      "application/vnd.jupyter.widget-view+json": {
       "model_id": "1b5c90f6e75c46a58f0df8b036c6dd31",
       "version_major": 2,
       "version_minor": 0
      },
      "text/plain": [
       "  0%|          | 0/646 [00:00<?, ?it/s]"
      ]
     },
     "metadata": {},
     "output_type": "display_data"
    },
    {
     "data": {
      "application/vnd.jupyter.widget-view+json": {
       "model_id": "716ee04908f14a28b5dbc677839df649",
       "version_major": 2,
       "version_minor": 0
      },
      "text/plain": [
       "0it [00:00, ?it/s]"
      ]
     },
     "metadata": {},
     "output_type": "display_data"
    },
    {
     "name": "stdout",
     "output_type": "stream",
     "text": [
      "Epoch : 4 | Target Triplet : 0 | Average Loss : 0.5633395\n",
      "Epoch Time : 285.09267473220825\n"
     ]
    },
    {
     "data": {
      "application/vnd.jupyter.widget-view+json": {
       "model_id": "049056e12e394b7b8488b22e7ce5847b",
       "version_major": 2,
       "version_minor": 0
      },
      "text/plain": [
       "0it [00:00, ?it/s]"
      ]
     },
     "metadata": {},
     "output_type": "display_data"
    },
    {
     "name": "stdout",
     "output_type": "stream",
     "text": [
      "Total Number Of Drugs : 2705\n",
      "Total Number Of Usable Drugs (Drugs That Have Data On Both Binding & No Binding) : 2190\n",
      "Total Number Of Targets : 3049\n",
      "Total Number Of Usable Targets (Targets That Have Data On Both Binding & No Binding) : 646\n"
     ]
    },
    {
     "data": {
      "application/vnd.jupyter.widget-view+json": {
       "model_id": "101f2387817247608787597573d097a2",
       "version_major": 2,
       "version_minor": 0
      },
      "text/plain": [
       "  0%|          | 0/646 [00:00<?, ?it/s]"
      ]
     },
     "metadata": {},
     "output_type": "display_data"
    },
    {
     "data": {
      "application/vnd.jupyter.widget-view+json": {
       "model_id": "496364159f644c37b4487e5518197a2f",
       "version_major": 2,
       "version_minor": 0
      },
      "text/plain": [
       "0it [00:00, ?it/s]"
      ]
     },
     "metadata": {},
     "output_type": "display_data"
    },
    {
     "name": "stdout",
     "output_type": "stream",
     "text": [
      "Epoch : 5 | Target Triplet : 0 | Average Loss : 0.65816605\n",
      "Epoch Time : 285.04347229003906\n"
     ]
    },
    {
     "data": {
      "application/vnd.jupyter.widget-view+json": {
       "model_id": "19eac20c6a0b4095a766758cfbf1af13",
       "version_major": 2,
       "version_minor": 0
      },
      "text/plain": [
       "0it [00:00, ?it/s]"
      ]
     },
     "metadata": {},
     "output_type": "display_data"
    },
    {
     "name": "stdout",
     "output_type": "stream",
     "text": [
      "Total Number Of Drugs : 2705\n",
      "Total Number Of Usable Drugs (Drugs That Have Data On Both Binding & No Binding) : 2190\n",
      "Total Number Of Targets : 3049\n",
      "Total Number Of Usable Targets (Targets That Have Data On Both Binding & No Binding) : 646\n"
     ]
    },
    {
     "data": {
      "application/vnd.jupyter.widget-view+json": {
       "model_id": "87ad842cee504c6eb69894d0652434d3",
       "version_major": 2,
       "version_minor": 0
      },
      "text/plain": [
       "  0%|          | 0/646 [00:00<?, ?it/s]"
      ]
     },
     "metadata": {},
     "output_type": "display_data"
    },
    {
     "data": {
      "application/vnd.jupyter.widget-view+json": {
       "model_id": "99063f15b3d74d24884e0f7457f61f28",
       "version_major": 2,
       "version_minor": 0
      },
      "text/plain": [
       "0it [00:00, ?it/s]"
      ]
     },
     "metadata": {},
     "output_type": "display_data"
    },
    {
     "name": "stdout",
     "output_type": "stream",
     "text": [
      "Epoch : 6 | Target Triplet : 0 | Average Loss : 0.4480487\n",
      "Epoch Time : 284.93432116508484\n",
      "Total Time To Train : 2020.1912026405334\n",
      "WARNING:tensorflow:Output \"Triplet_Loss_Layer\" missing from loss dictionary. We assume this was done on purpose. The fit and evaluate APIs will not be expecting any data to be passed to \"Triplet_Loss_Layer\".\n"
     ]
    },
    {
     "data": {
      "application/vnd.jupyter.widget-view+json": {
       "model_id": "4f70110a15d741fcbc18437fbfbdf081",
       "version_major": 2,
       "version_minor": 0
      },
      "text/plain": [
       "  0%|          | 0/7 [00:00<?, ?it/s]"
      ]
     },
     "metadata": {},
     "output_type": "display_data"
    },
    {
     "data": {
      "application/vnd.jupyter.widget-view+json": {
       "model_id": "8784ce30c9414d86be85e1196af18e4b",
       "version_major": 2,
       "version_minor": 0
      },
      "text/plain": [
       "0it [00:00, ?it/s]"
      ]
     },
     "metadata": {},
     "output_type": "display_data"
    },
    {
     "name": "stdout",
     "output_type": "stream",
     "text": [
      "Total Number Of Drugs : 2525\n",
      "Total Number Of Usable Drugs (Drugs That Have Data On Both Binding & No Binding) : 1974\n",
      "Total Number Of Targets : 2994\n",
      "Total Number Of Usable Targets (Targets That Have Data On Both Binding & No Binding) : 680\n"
     ]
    },
    {
     "data": {
      "application/vnd.jupyter.widget-view+json": {
       "model_id": "85b5423e34084392848048d6c492682a",
       "version_major": 2,
       "version_minor": 0
      },
      "text/plain": [
       "  0%|          | 0/680 [00:00<?, ?it/s]"
      ]
     },
     "metadata": {},
     "output_type": "display_data"
    },
    {
     "data": {
      "application/vnd.jupyter.widget-view+json": {
       "model_id": "0c0ed6ace27c44cf8b1705ebc7011ea8",
       "version_major": 2,
       "version_minor": 0
      },
      "text/plain": [
       "0it [00:00, ?it/s]"
      ]
     },
     "metadata": {},
     "output_type": "display_data"
    },
    {
     "name": "stdout",
     "output_type": "stream",
     "text": [
      "Epoch : 0 | Target Triplet : 0 | Average Loss : 0.39889038\n",
      "Epoch Time : 294.88959407806396\n"
     ]
    },
    {
     "data": {
      "application/vnd.jupyter.widget-view+json": {
       "model_id": "4e313745434b486fba0992088f3cadef",
       "version_major": 2,
       "version_minor": 0
      },
      "text/plain": [
       "0it [00:00, ?it/s]"
      ]
     },
     "metadata": {},
     "output_type": "display_data"
    },
    {
     "name": "stdout",
     "output_type": "stream",
     "text": [
      "Total Number Of Drugs : 2525\n",
      "Total Number Of Usable Drugs (Drugs That Have Data On Both Binding & No Binding) : 1974\n",
      "Total Number Of Targets : 2994\n",
      "Total Number Of Usable Targets (Targets That Have Data On Both Binding & No Binding) : 680\n"
     ]
    },
    {
     "data": {
      "application/vnd.jupyter.widget-view+json": {
       "model_id": "5a55f62110214009a4d3b9cfb024b45f",
       "version_major": 2,
       "version_minor": 0
      },
      "text/plain": [
       "  0%|          | 0/680 [00:00<?, ?it/s]"
      ]
     },
     "metadata": {},
     "output_type": "display_data"
    },
    {
     "data": {
      "application/vnd.jupyter.widget-view+json": {
       "model_id": "751b35e8a19a45449233c064bf6213df",
       "version_major": 2,
       "version_minor": 0
      },
      "text/plain": [
       "0it [00:00, ?it/s]"
      ]
     },
     "metadata": {},
     "output_type": "display_data"
    },
    {
     "name": "stdout",
     "output_type": "stream",
     "text": [
      "Epoch : 1 | Target Triplet : 0 | Average Loss : 0.74561006\n",
      "Epoch Time : 288.65361642837524\n"
     ]
    },
    {
     "data": {
      "application/vnd.jupyter.widget-view+json": {
       "model_id": "8df348a1eb4541a98d2210529ee53413",
       "version_major": 2,
       "version_minor": 0
      },
      "text/plain": [
       "0it [00:00, ?it/s]"
      ]
     },
     "metadata": {},
     "output_type": "display_data"
    },
    {
     "name": "stdout",
     "output_type": "stream",
     "text": [
      "Total Number Of Drugs : 2525\n",
      "Total Number Of Usable Drugs (Drugs That Have Data On Both Binding & No Binding) : 1974\n",
      "Total Number Of Targets : 2994\n",
      "Total Number Of Usable Targets (Targets That Have Data On Both Binding & No Binding) : 680\n"
     ]
    },
    {
     "data": {
      "application/vnd.jupyter.widget-view+json": {
       "model_id": "a1b2a49573164cb19807d5a6423bad31",
       "version_major": 2,
       "version_minor": 0
      },
      "text/plain": [
       "  0%|          | 0/680 [00:00<?, ?it/s]"
      ]
     },
     "metadata": {},
     "output_type": "display_data"
    },
    {
     "data": {
      "application/vnd.jupyter.widget-view+json": {
       "model_id": "369759e079674d21a8ff0930aeeaf3ed",
       "version_major": 2,
       "version_minor": 0
      },
      "text/plain": [
       "0it [00:00, ?it/s]"
      ]
     },
     "metadata": {},
     "output_type": "display_data"
    },
    {
     "name": "stdout",
     "output_type": "stream",
     "text": [
      "Epoch : 2 | Target Triplet : 0 | Average Loss : 0.4197997\n",
      "Epoch Time : 288.70176219940186\n"
     ]
    },
    {
     "data": {
      "application/vnd.jupyter.widget-view+json": {
       "model_id": "cec06175265d4bdba262b6f4b0abde07",
       "version_major": 2,
       "version_minor": 0
      },
      "text/plain": [
       "0it [00:00, ?it/s]"
      ]
     },
     "metadata": {},
     "output_type": "display_data"
    },
    {
     "name": "stdout",
     "output_type": "stream",
     "text": [
      "Total Number Of Drugs : 2525\n",
      "Total Number Of Usable Drugs (Drugs That Have Data On Both Binding & No Binding) : 1974\n",
      "Total Number Of Targets : 2994\n",
      "Total Number Of Usable Targets (Targets That Have Data On Both Binding & No Binding) : 680\n"
     ]
    },
    {
     "data": {
      "application/vnd.jupyter.widget-view+json": {
       "model_id": "3d3a9bf54f29468ea654a28ac8841167",
       "version_major": 2,
       "version_minor": 0
      },
      "text/plain": [
       "  0%|          | 0/680 [00:00<?, ?it/s]"
      ]
     },
     "metadata": {},
     "output_type": "display_data"
    },
    {
     "data": {
      "application/vnd.jupyter.widget-view+json": {
       "model_id": "fb6c101f8e41427184b9ab7fc72eb494",
       "version_major": 2,
       "version_minor": 0
      },
      "text/plain": [
       "0it [00:00, ?it/s]"
      ]
     },
     "metadata": {},
     "output_type": "display_data"
    },
    {
     "name": "stdout",
     "output_type": "stream",
     "text": [
      "Epoch : 3 | Target Triplet : 0 | Average Loss : 0.70916057\n",
      "Epoch Time : 288.3930857181549\n"
     ]
    },
    {
     "data": {
      "application/vnd.jupyter.widget-view+json": {
       "model_id": "24a4dbb4c30f4cc08d2da4e288c85bf5",
       "version_major": 2,
       "version_minor": 0
      },
      "text/plain": [
       "0it [00:00, ?it/s]"
      ]
     },
     "metadata": {},
     "output_type": "display_data"
    },
    {
     "name": "stdout",
     "output_type": "stream",
     "text": [
      "Total Number Of Drugs : 2525\n",
      "Total Number Of Usable Drugs (Drugs That Have Data On Both Binding & No Binding) : 1974\n",
      "Total Number Of Targets : 2994\n",
      "Total Number Of Usable Targets (Targets That Have Data On Both Binding & No Binding) : 680\n"
     ]
    },
    {
     "data": {
      "application/vnd.jupyter.widget-view+json": {
       "model_id": "32ba46c0cd2b4ecb9e566abb8361f93f",
       "version_major": 2,
       "version_minor": 0
      },
      "text/plain": [
       "  0%|          | 0/680 [00:00<?, ?it/s]"
      ]
     },
     "metadata": {},
     "output_type": "display_data"
    },
    {
     "data": {
      "application/vnd.jupyter.widget-view+json": {
       "model_id": "af820ecbd9f24b4a9c16645d3cb2163d",
       "version_major": 2,
       "version_minor": 0
      },
      "text/plain": [
       "0it [00:00, ?it/s]"
      ]
     },
     "metadata": {},
     "output_type": "display_data"
    },
    {
     "name": "stdout",
     "output_type": "stream",
     "text": [
      "Epoch : 4 | Target Triplet : 0 | Average Loss : 0.7525241\n",
      "Epoch Time : 288.4023106098175\n"
     ]
    },
    {
     "data": {
      "application/vnd.jupyter.widget-view+json": {
       "model_id": "66128b72a59347fb8c568e2fbaf4d072",
       "version_major": 2,
       "version_minor": 0
      },
      "text/plain": [
       "0it [00:00, ?it/s]"
      ]
     },
     "metadata": {},
     "output_type": "display_data"
    },
    {
     "name": "stdout",
     "output_type": "stream",
     "text": [
      "Total Number Of Drugs : 2525\n",
      "Total Number Of Usable Drugs (Drugs That Have Data On Both Binding & No Binding) : 1974\n",
      "Total Number Of Targets : 2994\n",
      "Total Number Of Usable Targets (Targets That Have Data On Both Binding & No Binding) : 680\n"
     ]
    },
    {
     "data": {
      "application/vnd.jupyter.widget-view+json": {
       "model_id": "4988b8fe9cb343879d63121f869f2525",
       "version_major": 2,
       "version_minor": 0
      },
      "text/plain": [
       "  0%|          | 0/680 [00:00<?, ?it/s]"
      ]
     },
     "metadata": {},
     "output_type": "display_data"
    },
    {
     "data": {
      "application/vnd.jupyter.widget-view+json": {
       "model_id": "3ce143182da74428b93198202dc73d94",
       "version_major": 2,
       "version_minor": 0
      },
      "text/plain": [
       "0it [00:00, ?it/s]"
      ]
     },
     "metadata": {},
     "output_type": "display_data"
    },
    {
     "name": "stdout",
     "output_type": "stream",
     "text": [
      "Epoch : 5 | Target Triplet : 0 | Average Loss : 0.51947457\n",
      "Epoch Time : 288.23679542541504\n"
     ]
    },
    {
     "data": {
      "application/vnd.jupyter.widget-view+json": {
       "model_id": "951f79b6c4d44f1f94253279947c1a44",
       "version_major": 2,
       "version_minor": 0
      },
      "text/plain": [
       "0it [00:00, ?it/s]"
      ]
     },
     "metadata": {},
     "output_type": "display_data"
    },
    {
     "name": "stdout",
     "output_type": "stream",
     "text": [
      "Total Number Of Drugs : 2525\n",
      "Total Number Of Usable Drugs (Drugs That Have Data On Both Binding & No Binding) : 1974\n",
      "Total Number Of Targets : 2994\n",
      "Total Number Of Usable Targets (Targets That Have Data On Both Binding & No Binding) : 680\n"
     ]
    },
    {
     "data": {
      "application/vnd.jupyter.widget-view+json": {
       "model_id": "6094bd6540f04c78a868dc54980cfea0",
       "version_major": 2,
       "version_minor": 0
      },
      "text/plain": [
       "  0%|          | 0/680 [00:00<?, ?it/s]"
      ]
     },
     "metadata": {},
     "output_type": "display_data"
    },
    {
     "data": {
      "application/vnd.jupyter.widget-view+json": {
       "model_id": "c446ee3ade504c49bdffeaf462a37a79",
       "version_major": 2,
       "version_minor": 0
      },
      "text/plain": [
       "0it [00:00, ?it/s]"
      ]
     },
     "metadata": {},
     "output_type": "display_data"
    },
    {
     "name": "stdout",
     "output_type": "stream",
     "text": [
      "Epoch : 6 | Target Triplet : 0 | Average Loss : 0.70748997\n",
      "Epoch Time : 288.4062955379486\n",
      "Total Time To Train : 4047.337419271469\n",
      "WARNING:tensorflow:Output \"Triplet_Loss_Layer\" missing from loss dictionary. We assume this was done on purpose. The fit and evaluate APIs will not be expecting any data to be passed to \"Triplet_Loss_Layer\".\n"
     ]
    },
    {
     "data": {
      "application/vnd.jupyter.widget-view+json": {
       "model_id": "a4643bc64174403bb3a593db198f7912",
       "version_major": 2,
       "version_minor": 0
      },
      "text/plain": [
       "  0%|          | 0/7 [00:00<?, ?it/s]"
      ]
     },
     "metadata": {},
     "output_type": "display_data"
    },
    {
     "data": {
      "application/vnd.jupyter.widget-view+json": {
       "model_id": "a3b8fa157fb647b3b8c2a3fc7e251112",
       "version_major": 2,
       "version_minor": 0
      },
      "text/plain": [
       "0it [00:00, ?it/s]"
      ]
     },
     "metadata": {},
     "output_type": "display_data"
    },
    {
     "name": "stdout",
     "output_type": "stream",
     "text": [
      "Total Number Of Drugs : 3394\n",
      "Total Number Of Usable Drugs (Drugs That Have Data On Both Binding & No Binding) : 2427\n",
      "Total Number Of Targets : 3184\n",
      "Total Number Of Usable Targets (Targets That Have Data On Both Binding & No Binding) : 859\n"
     ]
    },
    {
     "data": {
      "application/vnd.jupyter.widget-view+json": {
       "model_id": "991cf82d35ff497d9972a738c8ec7527",
       "version_major": 2,
       "version_minor": 0
      },
      "text/plain": [
       "  0%|          | 0/859 [00:00<?, ?it/s]"
      ]
     },
     "metadata": {},
     "output_type": "display_data"
    },
    {
     "data": {
      "application/vnd.jupyter.widget-view+json": {
       "model_id": "3187397384e140aba0b68a672129d022",
       "version_major": 2,
       "version_minor": 0
      },
      "text/plain": [
       "0it [00:00, ?it/s]"
      ]
     },
     "metadata": {},
     "output_type": "display_data"
    },
    {
     "name": "stdout",
     "output_type": "stream",
     "text": [
      "Epoch : 0 | Target Triplet : 0 | Average Loss : 0.68472683\n",
      "Epoch Time : 458.0547387599945\n"
     ]
    },
    {
     "data": {
      "application/vnd.jupyter.widget-view+json": {
       "model_id": "157b4ffe9e684055917cf56d1a8562b2",
       "version_major": 2,
       "version_minor": 0
      },
      "text/plain": [
       "0it [00:00, ?it/s]"
      ]
     },
     "metadata": {},
     "output_type": "display_data"
    },
    {
     "name": "stdout",
     "output_type": "stream",
     "text": [
      "Total Number Of Drugs : 3394\n",
      "Total Number Of Usable Drugs (Drugs That Have Data On Both Binding & No Binding) : 2427\n",
      "Total Number Of Targets : 3184\n",
      "Total Number Of Usable Targets (Targets That Have Data On Both Binding & No Binding) : 859\n"
     ]
    },
    {
     "data": {
      "application/vnd.jupyter.widget-view+json": {
       "model_id": "a1691313fbe740f48e63c22123f08dc9",
       "version_major": 2,
       "version_minor": 0
      },
      "text/plain": [
       "  0%|          | 0/859 [00:00<?, ?it/s]"
      ]
     },
     "metadata": {},
     "output_type": "display_data"
    },
    {
     "data": {
      "application/vnd.jupyter.widget-view+json": {
       "model_id": "450db5de56104282b17db1b946bc1bcf",
       "version_major": 2,
       "version_minor": 0
      },
      "text/plain": [
       "0it [00:00, ?it/s]"
      ]
     },
     "metadata": {},
     "output_type": "display_data"
    },
    {
     "name": "stdout",
     "output_type": "stream",
     "text": [
      "Epoch : 1 | Target Triplet : 0 | Average Loss : 0.0\n",
      "Epoch Time : 452.1979069709778\n"
     ]
    },
    {
     "data": {
      "application/vnd.jupyter.widget-view+json": {
       "model_id": "f151fb3757b8413b94aaa023712ff7a8",
       "version_major": 2,
       "version_minor": 0
      },
      "text/plain": [
       "0it [00:00, ?it/s]"
      ]
     },
     "metadata": {},
     "output_type": "display_data"
    },
    {
     "name": "stdout",
     "output_type": "stream",
     "text": [
      "Total Number Of Drugs : 3394\n",
      "Total Number Of Usable Drugs (Drugs That Have Data On Both Binding & No Binding) : 2427\n",
      "Total Number Of Targets : 3184\n",
      "Total Number Of Usable Targets (Targets That Have Data On Both Binding & No Binding) : 859\n"
     ]
    },
    {
     "data": {
      "application/vnd.jupyter.widget-view+json": {
       "model_id": "ffd9de790d284383a355fdcc9a56c502",
       "version_major": 2,
       "version_minor": 0
      },
      "text/plain": [
       "  0%|          | 0/859 [00:00<?, ?it/s]"
      ]
     },
     "metadata": {},
     "output_type": "display_data"
    },
    {
     "data": {
      "application/vnd.jupyter.widget-view+json": {
       "model_id": "ad8db81e3f8d4ceabb3f1bd110a39051",
       "version_major": 2,
       "version_minor": 0
      },
      "text/plain": [
       "0it [00:00, ?it/s]"
      ]
     },
     "metadata": {},
     "output_type": "display_data"
    },
    {
     "name": "stdout",
     "output_type": "stream",
     "text": [
      "Epoch : 2 | Target Triplet : 0 | Average Loss : 0.12963963\n",
      "Epoch Time : 451.14643907546997\n"
     ]
    },
    {
     "data": {
      "application/vnd.jupyter.widget-view+json": {
       "model_id": "6ed8370437ba44a0bb2f2a19d0f9e1e1",
       "version_major": 2,
       "version_minor": 0
      },
      "text/plain": [
       "0it [00:00, ?it/s]"
      ]
     },
     "metadata": {},
     "output_type": "display_data"
    },
    {
     "name": "stdout",
     "output_type": "stream",
     "text": [
      "Total Number Of Drugs : 3394\n",
      "Total Number Of Usable Drugs (Drugs That Have Data On Both Binding & No Binding) : 2427\n",
      "Total Number Of Targets : 3184\n",
      "Total Number Of Usable Targets (Targets That Have Data On Both Binding & No Binding) : 859\n"
     ]
    },
    {
     "data": {
      "application/vnd.jupyter.widget-view+json": {
       "model_id": "829855326b674f66a89ca04b121cddd8",
       "version_major": 2,
       "version_minor": 0
      },
      "text/plain": [
       "  0%|          | 0/859 [00:00<?, ?it/s]"
      ]
     },
     "metadata": {},
     "output_type": "display_data"
    },
    {
     "data": {
      "application/vnd.jupyter.widget-view+json": {
       "model_id": "dbbc37e9d0ec451e876aa966df1c95fa",
       "version_major": 2,
       "version_minor": 0
      },
      "text/plain": [
       "0it [00:00, ?it/s]"
      ]
     },
     "metadata": {},
     "output_type": "display_data"
    },
    {
     "name": "stdout",
     "output_type": "stream",
     "text": [
      "Epoch : 3 | Target Triplet : 0 | Average Loss : 0.0\n",
      "Epoch Time : 451.1349513530731\n"
     ]
    },
    {
     "data": {
      "application/vnd.jupyter.widget-view+json": {
       "model_id": "683972a7f0c04b04bc37cbe9ae16126f",
       "version_major": 2,
       "version_minor": 0
      },
      "text/plain": [
       "0it [00:00, ?it/s]"
      ]
     },
     "metadata": {},
     "output_type": "display_data"
    },
    {
     "name": "stdout",
     "output_type": "stream",
     "text": [
      "Total Number Of Drugs : 3394\n",
      "Total Number Of Usable Drugs (Drugs That Have Data On Both Binding & No Binding) : 2427\n",
      "Total Number Of Targets : 3184\n",
      "Total Number Of Usable Targets (Targets That Have Data On Both Binding & No Binding) : 859\n"
     ]
    },
    {
     "data": {
      "application/vnd.jupyter.widget-view+json": {
       "model_id": "3829a7d86c7f40dbaf51f8844db22c0c",
       "version_major": 2,
       "version_minor": 0
      },
      "text/plain": [
       "  0%|          | 0/859 [00:00<?, ?it/s]"
      ]
     },
     "metadata": {},
     "output_type": "display_data"
    },
    {
     "data": {
      "application/vnd.jupyter.widget-view+json": {
       "model_id": "209dc7dee07f4f5f991489659b45e5ad",
       "version_major": 2,
       "version_minor": 0
      },
      "text/plain": [
       "0it [00:00, ?it/s]"
      ]
     },
     "metadata": {},
     "output_type": "display_data"
    },
    {
     "name": "stdout",
     "output_type": "stream",
     "text": [
      "Epoch : 4 | Target Triplet : 0 | Average Loss : 0.0\n",
      "Epoch Time : 450.693199634552\n"
     ]
    },
    {
     "data": {
      "application/vnd.jupyter.widget-view+json": {
       "model_id": "ea0b37bf777049c6b5668a47dcc46756",
       "version_major": 2,
       "version_minor": 0
      },
      "text/plain": [
       "0it [00:00, ?it/s]"
      ]
     },
     "metadata": {},
     "output_type": "display_data"
    },
    {
     "name": "stdout",
     "output_type": "stream",
     "text": [
      "Total Number Of Drugs : 3394\n",
      "Total Number Of Usable Drugs (Drugs That Have Data On Both Binding & No Binding) : 2427\n",
      "Total Number Of Targets : 3184\n",
      "Total Number Of Usable Targets (Targets That Have Data On Both Binding & No Binding) : 859\n"
     ]
    },
    {
     "data": {
      "application/vnd.jupyter.widget-view+json": {
       "model_id": "fc46a23fc20b4693ab23d187097ad856",
       "version_major": 2,
       "version_minor": 0
      },
      "text/plain": [
       "  0%|          | 0/859 [00:00<?, ?it/s]"
      ]
     },
     "metadata": {},
     "output_type": "display_data"
    },
    {
     "data": {
      "application/vnd.jupyter.widget-view+json": {
       "model_id": "ebb2391d19a14177b913cafd6be1cdbf",
       "version_major": 2,
       "version_minor": 0
      },
      "text/plain": [
       "0it [00:00, ?it/s]"
      ]
     },
     "metadata": {},
     "output_type": "display_data"
    },
    {
     "name": "stdout",
     "output_type": "stream",
     "text": [
      "Epoch : 5 | Target Triplet : 0 | Average Loss : 0.0\n",
      "Epoch Time : 450.5943944454193\n"
     ]
    },
    {
     "data": {
      "application/vnd.jupyter.widget-view+json": {
       "model_id": "818df5fce2054aa0823c4675b6727662",
       "version_major": 2,
       "version_minor": 0
      },
      "text/plain": [
       "0it [00:00, ?it/s]"
      ]
     },
     "metadata": {},
     "output_type": "display_data"
    },
    {
     "name": "stdout",
     "output_type": "stream",
     "text": [
      "Total Number Of Drugs : 3394\n",
      "Total Number Of Usable Drugs (Drugs That Have Data On Both Binding & No Binding) : 2427\n",
      "Total Number Of Targets : 3184\n",
      "Total Number Of Usable Targets (Targets That Have Data On Both Binding & No Binding) : 859\n"
     ]
    },
    {
     "data": {
      "application/vnd.jupyter.widget-view+json": {
       "model_id": "969d126c0e2e4272906f255857f05380",
       "version_major": 2,
       "version_minor": 0
      },
      "text/plain": [
       "  0%|          | 0/859 [00:00<?, ?it/s]"
      ]
     },
     "metadata": {},
     "output_type": "display_data"
    },
    {
     "data": {
      "application/vnd.jupyter.widget-view+json": {
       "model_id": "b4c5fe17cd944959a1638dbc79e2c3e2",
       "version_major": 2,
       "version_minor": 0
      },
      "text/plain": [
       "0it [00:00, ?it/s]"
      ]
     },
     "metadata": {},
     "output_type": "display_data"
    },
    {
     "name": "stdout",
     "output_type": "stream",
     "text": [
      "Epoch : 6 | Target Triplet : 0 | Average Loss : 0.0\n",
      "Epoch Time : 450.11797642707825\n",
      "Total Time To Train : 7212.374357700348\n",
      "WARNING:tensorflow:Output \"Triplet_Loss_Layer\" missing from loss dictionary. We assume this was done on purpose. The fit and evaluate APIs will not be expecting any data to be passed to \"Triplet_Loss_Layer\".\n"
     ]
    },
    {
     "data": {
      "application/vnd.jupyter.widget-view+json": {
       "model_id": "9b1272dc79f84c3f9577958466c61b1d",
       "version_major": 2,
       "version_minor": 0
      },
      "text/plain": [
       "  0%|          | 0/7 [00:00<?, ?it/s]"
      ]
     },
     "metadata": {},
     "output_type": "display_data"
    },
    {
     "data": {
      "application/vnd.jupyter.widget-view+json": {
       "model_id": "3cc763bad0244f5e881d77c8b7ed4bba",
       "version_major": 2,
       "version_minor": 0
      },
      "text/plain": [
       "0it [00:00, ?it/s]"
      ]
     },
     "metadata": {},
     "output_type": "display_data"
    },
    {
     "name": "stdout",
     "output_type": "stream",
     "text": [
      "Total Number Of Drugs : 2271\n",
      "Total Number Of Usable Drugs (Drugs That Have Data On Both Binding & No Binding) : 1711\n",
      "Total Number Of Targets : 2965\n",
      "Total Number Of Usable Targets (Targets That Have Data On Both Binding & No Binding) : 597\n"
     ]
    },
    {
     "data": {
      "application/vnd.jupyter.widget-view+json": {
       "model_id": "7da4193669a649feab9d5cb84c22c24f",
       "version_major": 2,
       "version_minor": 0
      },
      "text/plain": [
       "  0%|          | 0/597 [00:00<?, ?it/s]"
      ]
     },
     "metadata": {},
     "output_type": "display_data"
    },
    {
     "data": {
      "application/vnd.jupyter.widget-view+json": {
       "model_id": "35d098fc114f4c139ff8c824e0eeb73f",
       "version_major": 2,
       "version_minor": 0
      },
      "text/plain": [
       "0it [00:00, ?it/s]"
      ]
     },
     "metadata": {},
     "output_type": "display_data"
    },
    {
     "name": "stdout",
     "output_type": "stream",
     "text": [
      "Epoch : 0 | Target Triplet : 0 | Average Loss : 0.41526914\n",
      "Epoch Time : 234.18638372421265\n"
     ]
    },
    {
     "data": {
      "application/vnd.jupyter.widget-view+json": {
       "model_id": "5279bafe131a455ca7eee4f27ac6a693",
       "version_major": 2,
       "version_minor": 0
      },
      "text/plain": [
       "0it [00:00, ?it/s]"
      ]
     },
     "metadata": {},
     "output_type": "display_data"
    },
    {
     "name": "stdout",
     "output_type": "stream",
     "text": [
      "Total Number Of Drugs : 2271\n",
      "Total Number Of Usable Drugs (Drugs That Have Data On Both Binding & No Binding) : 1711\n",
      "Total Number Of Targets : 2965\n",
      "Total Number Of Usable Targets (Targets That Have Data On Both Binding & No Binding) : 597\n"
     ]
    },
    {
     "data": {
      "application/vnd.jupyter.widget-view+json": {
       "model_id": "ffcd1cd867584e829ba628fdfb44403d",
       "version_major": 2,
       "version_minor": 0
      },
      "text/plain": [
       "  0%|          | 0/597 [00:00<?, ?it/s]"
      ]
     },
     "metadata": {},
     "output_type": "display_data"
    },
    {
     "data": {
      "application/vnd.jupyter.widget-view+json": {
       "model_id": "0e1797b639d34dd4a808d818bd62cb2c",
       "version_major": 2,
       "version_minor": 0
      },
      "text/plain": [
       "0it [00:00, ?it/s]"
      ]
     },
     "metadata": {},
     "output_type": "display_data"
    },
    {
     "name": "stdout",
     "output_type": "stream",
     "text": [
      "Epoch : 1 | Target Triplet : 0 | Average Loss : 0.539631\n",
      "Epoch Time : 227.1354067325592\n"
     ]
    },
    {
     "data": {
      "application/vnd.jupyter.widget-view+json": {
       "model_id": "7645b852d10f4ec49f63a83e07fe6551",
       "version_major": 2,
       "version_minor": 0
      },
      "text/plain": [
       "0it [00:00, ?it/s]"
      ]
     },
     "metadata": {},
     "output_type": "display_data"
    },
    {
     "name": "stdout",
     "output_type": "stream",
     "text": [
      "Total Number Of Drugs : 2271\n",
      "Total Number Of Usable Drugs (Drugs That Have Data On Both Binding & No Binding) : 1711\n",
      "Total Number Of Targets : 2965\n",
      "Total Number Of Usable Targets (Targets That Have Data On Both Binding & No Binding) : 597\n"
     ]
    },
    {
     "data": {
      "application/vnd.jupyter.widget-view+json": {
       "model_id": "24f05d3c06b44a97b6f82d17c9f99b79",
       "version_major": 2,
       "version_minor": 0
      },
      "text/plain": [
       "  0%|          | 0/597 [00:00<?, ?it/s]"
      ]
     },
     "metadata": {},
     "output_type": "display_data"
    },
    {
     "data": {
      "application/vnd.jupyter.widget-view+json": {
       "model_id": "54cc4eba96814bc89644d94ff65096fb",
       "version_major": 2,
       "version_minor": 0
      },
      "text/plain": [
       "0it [00:00, ?it/s]"
      ]
     },
     "metadata": {},
     "output_type": "display_data"
    },
    {
     "name": "stdout",
     "output_type": "stream",
     "text": [
      "Epoch : 2 | Target Triplet : 0 | Average Loss : 0.58757603\n",
      "Epoch Time : 227.29611372947693\n"
     ]
    },
    {
     "data": {
      "application/vnd.jupyter.widget-view+json": {
       "model_id": "ae868ee5a7564d0794a7c5c90677ea63",
       "version_major": 2,
       "version_minor": 0
      },
      "text/plain": [
       "0it [00:00, ?it/s]"
      ]
     },
     "metadata": {},
     "output_type": "display_data"
    },
    {
     "name": "stdout",
     "output_type": "stream",
     "text": [
      "Total Number Of Drugs : 2271\n",
      "Total Number Of Usable Drugs (Drugs That Have Data On Both Binding & No Binding) : 1711\n",
      "Total Number Of Targets : 2965\n",
      "Total Number Of Usable Targets (Targets That Have Data On Both Binding & No Binding) : 597\n"
     ]
    },
    {
     "data": {
      "application/vnd.jupyter.widget-view+json": {
       "model_id": "1260f508ac7c4d158b7c34a057dcfc5c",
       "version_major": 2,
       "version_minor": 0
      },
      "text/plain": [
       "  0%|          | 0/597 [00:00<?, ?it/s]"
      ]
     },
     "metadata": {},
     "output_type": "display_data"
    },
    {
     "data": {
      "application/vnd.jupyter.widget-view+json": {
       "model_id": "64df1a5aa7424e65a4b28f25cab4c164",
       "version_major": 2,
       "version_minor": 0
      },
      "text/plain": [
       "0it [00:00, ?it/s]"
      ]
     },
     "metadata": {},
     "output_type": "display_data"
    },
    {
     "name": "stdout",
     "output_type": "stream",
     "text": [
      "Epoch : 3 | Target Triplet : 0 | Average Loss : 0.55518806\n",
      "Epoch Time : 226.880704164505\n"
     ]
    },
    {
     "data": {
      "application/vnd.jupyter.widget-view+json": {
       "model_id": "22840c1e1fe947a9b7d9644eccda895f",
       "version_major": 2,
       "version_minor": 0
      },
      "text/plain": [
       "0it [00:00, ?it/s]"
      ]
     },
     "metadata": {},
     "output_type": "display_data"
    },
    {
     "name": "stdout",
     "output_type": "stream",
     "text": [
      "Total Number Of Drugs : 2271\n",
      "Total Number Of Usable Drugs (Drugs That Have Data On Both Binding & No Binding) : 1711\n",
      "Total Number Of Targets : 2965\n",
      "Total Number Of Usable Targets (Targets That Have Data On Both Binding & No Binding) : 597\n"
     ]
    },
    {
     "data": {
      "application/vnd.jupyter.widget-view+json": {
       "model_id": "8641c2947719460d8e1f4ae702d7576e",
       "version_major": 2,
       "version_minor": 0
      },
      "text/plain": [
       "  0%|          | 0/597 [00:00<?, ?it/s]"
      ]
     },
     "metadata": {},
     "output_type": "display_data"
    },
    {
     "data": {
      "application/vnd.jupyter.widget-view+json": {
       "model_id": "0c9f79d52a7541a994970b365bec6053",
       "version_major": 2,
       "version_minor": 0
      },
      "text/plain": [
       "0it [00:00, ?it/s]"
      ]
     },
     "metadata": {},
     "output_type": "display_data"
    },
    {
     "name": "stdout",
     "output_type": "stream",
     "text": [
      "Epoch : 4 | Target Triplet : 0 | Average Loss : 0.52320683\n",
      "Epoch Time : 226.6284568309784\n"
     ]
    },
    {
     "data": {
      "application/vnd.jupyter.widget-view+json": {
       "model_id": "6ccec3d420004f28a131fccc84a19932",
       "version_major": 2,
       "version_minor": 0
      },
      "text/plain": [
       "0it [00:00, ?it/s]"
      ]
     },
     "metadata": {},
     "output_type": "display_data"
    },
    {
     "name": "stdout",
     "output_type": "stream",
     "text": [
      "Total Number Of Drugs : 2271\n",
      "Total Number Of Usable Drugs (Drugs That Have Data On Both Binding & No Binding) : 1711\n",
      "Total Number Of Targets : 2965\n",
      "Total Number Of Usable Targets (Targets That Have Data On Both Binding & No Binding) : 597\n"
     ]
    },
    {
     "data": {
      "application/vnd.jupyter.widget-view+json": {
       "model_id": "75cd1312e9064678a486c12f18aef90c",
       "version_major": 2,
       "version_minor": 0
      },
      "text/plain": [
       "  0%|          | 0/597 [00:00<?, ?it/s]"
      ]
     },
     "metadata": {},
     "output_type": "display_data"
    },
    {
     "data": {
      "application/vnd.jupyter.widget-view+json": {
       "model_id": "c4bd2d4950994611ba6a09286abe4dc0",
       "version_major": 2,
       "version_minor": 0
      },
      "text/plain": [
       "0it [00:00, ?it/s]"
      ]
     },
     "metadata": {},
     "output_type": "display_data"
    },
    {
     "name": "stdout",
     "output_type": "stream",
     "text": [
      "Epoch : 5 | Target Triplet : 0 | Average Loss : 0.0\n",
      "Epoch Time : 226.72931790351868\n"
     ]
    },
    {
     "data": {
      "application/vnd.jupyter.widget-view+json": {
       "model_id": "45570ae8f8dd4da38e9a6a3182bb8abd",
       "version_major": 2,
       "version_minor": 0
      },
      "text/plain": [
       "0it [00:00, ?it/s]"
      ]
     },
     "metadata": {},
     "output_type": "display_data"
    },
    {
     "name": "stdout",
     "output_type": "stream",
     "text": [
      "Total Number Of Drugs : 2271\n",
      "Total Number Of Usable Drugs (Drugs That Have Data On Both Binding & No Binding) : 1711\n",
      "Total Number Of Targets : 2965\n",
      "Total Number Of Usable Targets (Targets That Have Data On Both Binding & No Binding) : 597\n"
     ]
    },
    {
     "data": {
      "application/vnd.jupyter.widget-view+json": {
       "model_id": "4550491adf2a469ea5e68dbcdb8f6b77",
       "version_major": 2,
       "version_minor": 0
      },
      "text/plain": [
       "  0%|          | 0/597 [00:00<?, ?it/s]"
      ]
     },
     "metadata": {},
     "output_type": "display_data"
    },
    {
     "data": {
      "application/vnd.jupyter.widget-view+json": {
       "model_id": "afa7efd73a924274847cb6bdb112dc49",
       "version_major": 2,
       "version_minor": 0
      },
      "text/plain": [
       "0it [00:00, ?it/s]"
      ]
     },
     "metadata": {},
     "output_type": "display_data"
    },
    {
     "name": "stdout",
     "output_type": "stream",
     "text": [
      "Epoch : 6 | Target Triplet : 0 | Average Loss : 0.07714403\n",
      "Epoch Time : 225.8415515422821\n",
      "Total Time To Train : 8808.659399747849\n",
      "WARNING:tensorflow:Output \"Triplet_Loss_Layer\" missing from loss dictionary. We assume this was done on purpose. The fit and evaluate APIs will not be expecting any data to be passed to \"Triplet_Loss_Layer\".\n"
     ]
    },
    {
     "data": {
      "application/vnd.jupyter.widget-view+json": {
       "model_id": "a24d46ce72e54ea6a01978e939e83189",
       "version_major": 2,
       "version_minor": 0
      },
      "text/plain": [
       "  0%|          | 0/7 [00:00<?, ?it/s]"
      ]
     },
     "metadata": {},
     "output_type": "display_data"
    },
    {
     "data": {
      "application/vnd.jupyter.widget-view+json": {
       "model_id": "4fb11da5222f466eb06a631502ea6cd8",
       "version_major": 2,
       "version_minor": 0
      },
      "text/plain": [
       "0it [00:00, ?it/s]"
      ]
     },
     "metadata": {},
     "output_type": "display_data"
    },
    {
     "name": "stdout",
     "output_type": "stream",
     "text": [
      "Total Number Of Drugs : 3441\n",
      "Total Number Of Usable Drugs (Drugs That Have Data On Both Binding & No Binding) : 2561\n",
      "Total Number Of Targets : 3236\n",
      "Total Number Of Usable Targets (Targets That Have Data On Both Binding & No Binding) : 932\n"
     ]
    },
    {
     "data": {
      "application/vnd.jupyter.widget-view+json": {
       "model_id": "bb76b370434b4f818bd3e6df543a00f2",
       "version_major": 2,
       "version_minor": 0
      },
      "text/plain": [
       "  0%|          | 0/932 [00:00<?, ?it/s]"
      ]
     },
     "metadata": {},
     "output_type": "display_data"
    },
    {
     "data": {
      "application/vnd.jupyter.widget-view+json": {
       "model_id": "968542e2cde24410bdf3345182d6b65c",
       "version_major": 2,
       "version_minor": 0
      },
      "text/plain": [
       "0it [00:00, ?it/s]"
      ]
     },
     "metadata": {},
     "output_type": "display_data"
    },
    {
     "name": "stdout",
     "output_type": "stream",
     "text": [
      "Epoch : 0 | Target Triplet : 0 | Average Loss : 0.39398146\n",
      "Epoch Time : 561.8877754211426\n"
     ]
    },
    {
     "data": {
      "application/vnd.jupyter.widget-view+json": {
       "model_id": "426d0cdd27de4d2489eb78e3f7db11dd",
       "version_major": 2,
       "version_minor": 0
      },
      "text/plain": [
       "0it [00:00, ?it/s]"
      ]
     },
     "metadata": {},
     "output_type": "display_data"
    },
    {
     "name": "stdout",
     "output_type": "stream",
     "text": [
      "Total Number Of Drugs : 3441\n",
      "Total Number Of Usable Drugs (Drugs That Have Data On Both Binding & No Binding) : 2561\n",
      "Total Number Of Targets : 3236\n",
      "Total Number Of Usable Targets (Targets That Have Data On Both Binding & No Binding) : 932\n"
     ]
    },
    {
     "data": {
      "application/vnd.jupyter.widget-view+json": {
       "model_id": "a1268fe463804e2ead54a96873a4e7a0",
       "version_major": 2,
       "version_minor": 0
      },
      "text/plain": [
       "  0%|          | 0/932 [00:00<?, ?it/s]"
      ]
     },
     "metadata": {},
     "output_type": "display_data"
    },
    {
     "data": {
      "application/vnd.jupyter.widget-view+json": {
       "model_id": "cf236831b5b34785842c23cce5fbebb8",
       "version_major": 2,
       "version_minor": 0
      },
      "text/plain": [
       "0it [00:00, ?it/s]"
      ]
     },
     "metadata": {},
     "output_type": "display_data"
    },
    {
     "name": "stdout",
     "output_type": "stream",
     "text": [
      "Epoch : 1 | Target Triplet : 0 | Average Loss : 0.04204917\n",
      "Epoch Time : 553.9867556095123\n"
     ]
    },
    {
     "data": {
      "application/vnd.jupyter.widget-view+json": {
       "model_id": "e5a3b0944f484138a7f1e1019ac64db3",
       "version_major": 2,
       "version_minor": 0
      },
      "text/plain": [
       "0it [00:00, ?it/s]"
      ]
     },
     "metadata": {},
     "output_type": "display_data"
    },
    {
     "name": "stdout",
     "output_type": "stream",
     "text": [
      "Total Number Of Drugs : 3441\n",
      "Total Number Of Usable Drugs (Drugs That Have Data On Both Binding & No Binding) : 2561\n",
      "Total Number Of Targets : 3236\n",
      "Total Number Of Usable Targets (Targets That Have Data On Both Binding & No Binding) : 932\n"
     ]
    },
    {
     "data": {
      "application/vnd.jupyter.widget-view+json": {
       "model_id": "9baf6e26677c4668a8f90cbd875b49c6",
       "version_major": 2,
       "version_minor": 0
      },
      "text/plain": [
       "  0%|          | 0/932 [00:00<?, ?it/s]"
      ]
     },
     "metadata": {},
     "output_type": "display_data"
    },
    {
     "data": {
      "application/vnd.jupyter.widget-view+json": {
       "model_id": "91fabd912b034716808c13a1221e1b17",
       "version_major": 2,
       "version_minor": 0
      },
      "text/plain": [
       "0it [00:00, ?it/s]"
      ]
     },
     "metadata": {},
     "output_type": "display_data"
    },
    {
     "name": "stdout",
     "output_type": "stream",
     "text": [
      "Epoch : 2 | Target Triplet : 0 | Average Loss : 0.0\n",
      "Epoch Time : 553.9201130867004\n"
     ]
    },
    {
     "data": {
      "application/vnd.jupyter.widget-view+json": {
       "model_id": "e0c2ce76c729417d9ddeb92747cb17d7",
       "version_major": 2,
       "version_minor": 0
      },
      "text/plain": [
       "0it [00:00, ?it/s]"
      ]
     },
     "metadata": {},
     "output_type": "display_data"
    },
    {
     "name": "stdout",
     "output_type": "stream",
     "text": [
      "Total Number Of Drugs : 3441\n",
      "Total Number Of Usable Drugs (Drugs That Have Data On Both Binding & No Binding) : 2561\n",
      "Total Number Of Targets : 3236\n",
      "Total Number Of Usable Targets (Targets That Have Data On Both Binding & No Binding) : 932\n"
     ]
    },
    {
     "data": {
      "application/vnd.jupyter.widget-view+json": {
       "model_id": "0a52cf6e63db49ee9a0cf3aba3aef5bc",
       "version_major": 2,
       "version_minor": 0
      },
      "text/plain": [
       "  0%|          | 0/932 [00:00<?, ?it/s]"
      ]
     },
     "metadata": {},
     "output_type": "display_data"
    },
    {
     "data": {
      "application/vnd.jupyter.widget-view+json": {
       "model_id": "c39ccab43feb403e85d15ada2be5ee24",
       "version_major": 2,
       "version_minor": 0
      },
      "text/plain": [
       "0it [00:00, ?it/s]"
      ]
     },
     "metadata": {},
     "output_type": "display_data"
    },
    {
     "name": "stdout",
     "output_type": "stream",
     "text": [
      "Epoch : 3 | Target Triplet : 0 | Average Loss : 0.0\n",
      "Epoch Time : 553.3558793067932\n"
     ]
    },
    {
     "data": {
      "application/vnd.jupyter.widget-view+json": {
       "model_id": "ae2809cc99904befb23841010963888b",
       "version_major": 2,
       "version_minor": 0
      },
      "text/plain": [
       "0it [00:00, ?it/s]"
      ]
     },
     "metadata": {},
     "output_type": "display_data"
    },
    {
     "name": "stdout",
     "output_type": "stream",
     "text": [
      "Total Number Of Drugs : 3441\n",
      "Total Number Of Usable Drugs (Drugs That Have Data On Both Binding & No Binding) : 2561\n",
      "Total Number Of Targets : 3236\n",
      "Total Number Of Usable Targets (Targets That Have Data On Both Binding & No Binding) : 932\n"
     ]
    },
    {
     "data": {
      "application/vnd.jupyter.widget-view+json": {
       "model_id": "a22637580912483fb38aee07909abcba",
       "version_major": 2,
       "version_minor": 0
      },
      "text/plain": [
       "  0%|          | 0/932 [00:00<?, ?it/s]"
      ]
     },
     "metadata": {},
     "output_type": "display_data"
    },
    {
     "data": {
      "application/vnd.jupyter.widget-view+json": {
       "model_id": "867da45c6fde420aae12abdc5663aa27",
       "version_major": 2,
       "version_minor": 0
      },
      "text/plain": [
       "0it [00:00, ?it/s]"
      ]
     },
     "metadata": {},
     "output_type": "display_data"
    },
    {
     "name": "stdout",
     "output_type": "stream",
     "text": [
      "Epoch : 4 | Target Triplet : 0 | Average Loss : 0.0\n",
      "Epoch Time : 552.7241349220276\n"
     ]
    },
    {
     "data": {
      "application/vnd.jupyter.widget-view+json": {
       "model_id": "2855957f26d640f0b61b40e4dbb86973",
       "version_major": 2,
       "version_minor": 0
      },
      "text/plain": [
       "0it [00:00, ?it/s]"
      ]
     },
     "metadata": {},
     "output_type": "display_data"
    },
    {
     "name": "stdout",
     "output_type": "stream",
     "text": [
      "Total Number Of Drugs : 3441\n",
      "Total Number Of Usable Drugs (Drugs That Have Data On Both Binding & No Binding) : 2561\n",
      "Total Number Of Targets : 3236\n",
      "Total Number Of Usable Targets (Targets That Have Data On Both Binding & No Binding) : 932\n"
     ]
    },
    {
     "data": {
      "application/vnd.jupyter.widget-view+json": {
       "model_id": "385376d4d9d44776b9d425006c24729a",
       "version_major": 2,
       "version_minor": 0
      },
      "text/plain": [
       "  0%|          | 0/932 [00:00<?, ?it/s]"
      ]
     },
     "metadata": {},
     "output_type": "display_data"
    },
    {
     "data": {
      "application/vnd.jupyter.widget-view+json": {
       "model_id": "a19c1254d81d4f098d27b83ed04a38ea",
       "version_major": 2,
       "version_minor": 0
      },
      "text/plain": [
       "0it [00:00, ?it/s]"
      ]
     },
     "metadata": {},
     "output_type": "display_data"
    },
    {
     "name": "stdout",
     "output_type": "stream",
     "text": [
      "Epoch : 5 | Target Triplet : 0 | Average Loss : 0.0\n",
      "Epoch Time : 551.6988525390625\n"
     ]
    },
    {
     "data": {
      "application/vnd.jupyter.widget-view+json": {
       "model_id": "a89abe9b9af5405a80b56e447479a89a",
       "version_major": 2,
       "version_minor": 0
      },
      "text/plain": [
       "0it [00:00, ?it/s]"
      ]
     },
     "metadata": {},
     "output_type": "display_data"
    },
    {
     "name": "stdout",
     "output_type": "stream",
     "text": [
      "Total Number Of Drugs : 3441\n",
      "Total Number Of Usable Drugs (Drugs That Have Data On Both Binding & No Binding) : 2561\n",
      "Total Number Of Targets : 3236\n",
      "Total Number Of Usable Targets (Targets That Have Data On Both Binding & No Binding) : 932\n"
     ]
    },
    {
     "data": {
      "application/vnd.jupyter.widget-view+json": {
       "model_id": "4c4be659c57245bf8199ab46f099a144",
       "version_major": 2,
       "version_minor": 0
      },
      "text/plain": [
       "  0%|          | 0/932 [00:00<?, ?it/s]"
      ]
     },
     "metadata": {},
     "output_type": "display_data"
    },
    {
     "data": {
      "application/vnd.jupyter.widget-view+json": {
       "model_id": "9d060d01dde2418c96ee973c1ef19039",
       "version_major": 2,
       "version_minor": 0
      },
      "text/plain": [
       "0it [00:00, ?it/s]"
      ]
     },
     "metadata": {},
     "output_type": "display_data"
    },
    {
     "name": "stdout",
     "output_type": "stream",
     "text": [
      "Epoch : 6 | Target Triplet : 0 | Average Loss : 0.0\n",
      "Epoch Time : 551.5734100341797\n",
      "Total Time To Train : 12688.926669836044\n"
     ]
    }
   ],
   "source": [
    "siamese_object.train_siamese_embedder(model_name = 'siamese_embed',\n",
    "                             epochs = 7,\n",
    "                             version = 0,\n",
    "                             triplets_per_epoch = 50000,\n",
    "                             learning_rate = 0.00001,\n",
    "                             desired_input_dimension = (17000, 1),\n",
    "                             output_dimension = 128,\n",
    "                             print_frequency = 10000,\n",
    "                             interactive = True)"
   ]
  },
  {
   "cell_type": "markdown",
   "metadata": {},
   "source": [
    "#### Train Decoder"
   ]
  },
  {
   "cell_type": "code",
   "execution_count": 14,
   "metadata": {},
   "outputs": [
    {
     "data": {
      "text/plain": [
       "['/data/sars-busters-consolidated/siamese/KF-Final/Run_4_siamese_embed_v0_siamese.model',\n",
       " '/data/sars-busters-consolidated/siamese/KF-Final/Run_3_siamese_embed_v0_siamese.model',\n",
       " '/data/sars-busters-consolidated/siamese/KF-Final/Run_1_siamese_embed_v0_siamese.model',\n",
       " '/data/sars-busters-consolidated/siamese/KF-Final/Run_0_siamese_embed_v0_siamese.model',\n",
       " '/data/sars-busters-consolidated/siamese/KF-Final/Run_2_siamese_embed_v0_siamese.model']"
      ]
     },
     "execution_count": 14,
     "metadata": {},
     "output_type": "execute_result"
    }
   ],
   "source": [
    "out_dir = '/data/sars-busters-consolidated/siamese/KF-Final/'\n",
    "embedding_model_list = [out_dir + model for model in os.listdir(out_dir)]\n",
    "embedding_model_list"
   ]
  },
  {
   "cell_type": "code",
   "execution_count": null,
   "metadata": {
    "scrolled": true
   },
   "outputs": [
    {
     "data": {
      "application/vnd.jupyter.widget-view+json": {
       "model_id": "8c87d555810d4fbbaddaa1bd5dd1d6c6",
       "version_major": 2,
       "version_minor": 0
      },
      "text/plain": [
       "  0%|          | 0/5 [00:00<?, ?it/s]"
      ]
     },
     "metadata": {},
     "output_type": "display_data"
    },
    {
     "data": {
      "application/vnd.jupyter.widget-view+json": {
       "model_id": "6099d21e1a834b05ab9d5e87b97389d1",
       "version_major": 2,
       "version_minor": 0
      },
      "text/plain": [
       "  0%|          | 0/30 [00:00<?, ?it/s]"
      ]
     },
     "metadata": {},
     "output_type": "display_data"
    },
    {
     "name": "stdout",
     "output_type": "stream",
     "text": [
      "WARNING:tensorflow:No training configuration found in save file: the model was *not* compiled. Compile it manually.\n"
     ]
    },
    {
     "name": "stderr",
     "output_type": "stream",
     "text": [
      "/home/sars-busters-consolidated/GitCode/AIBind/AIBind.py:2562: SettingWithCopyWarning:\n",
      "\n",
      "\n",
      "A value is trying to be set on a copy of a slice from a DataFrame.\n",
      "Try using .loc[row_indexer,col_indexer] = value instead\n",
      "\n",
      "See the caveats in the documentation: https://pandas.pydata.org/pandas-docs/stable/user_guide/indexing.html#returning-a-view-versus-a-copy\n",
      "\n"
     ]
    },
    {
     "data": {
      "application/vnd.jupyter.widget-view+json": {
       "model_id": "7fc5fa51fe224fa4b8128dc96f7dfe6d",
       "version_major": 2,
       "version_minor": 0
      },
      "text/plain": [
       "0it [00:00, ?it/s]"
      ]
     },
     "metadata": {},
     "output_type": "display_data"
    },
    {
     "name": "stderr",
     "output_type": "stream",
     "text": [
      "/home/sars-busters-consolidated/GitCode/AIBind/AIBind.py:2591: SettingWithCopyWarning:\n",
      "\n",
      "\n",
      "A value is trying to be set on a copy of a slice from a DataFrame.\n",
      "Try using .loc[row_indexer,col_indexer] = value instead\n",
      "\n",
      "See the caveats in the documentation: https://pandas.pydata.org/pandas-docs/stable/user_guide/indexing.html#returning-a-view-versus-a-copy\n",
      "\n"
     ]
    },
    {
     "name": "stdout",
     "output_type": "stream",
     "text": [
      "WARNING:tensorflow:No training configuration found in save file: the model was *not* compiled. Compile it manually.\n"
     ]
    },
    {
     "data": {
      "application/vnd.jupyter.widget-view+json": {
       "model_id": "6af0a6ed5af5438093466224a1526e89",
       "version_major": 2,
       "version_minor": 0
      },
      "text/plain": [
       "0it [00:00, ?it/s]"
      ]
     },
     "metadata": {},
     "output_type": "display_data"
    },
    {
     "name": "stdout",
     "output_type": "stream",
     "text": [
      "Unseen Nodes AUC : 0.44\n",
      "Unseen Edges AUC : 0.44\n",
      "Unseen Nodes AUP : 0.43\n",
      "Unseen Edges AUP : 0.48\n",
      "\n",
      "Unseen Nodes AUC : 0.5\n",
      "Unseen Edges AUC : 0.49\n",
      "Unseen Nodes AUP : 0.48\n",
      "Unseen Edges AUP : 0.5\n",
      "\n",
      "Unseen Nodes AUC : 0.53\n",
      "Unseen Edges AUC : 0.52\n",
      "Unseen Nodes AUP : 0.5\n",
      "Unseen Edges AUP : 0.52\n",
      "\n",
      "Unseen Nodes AUC : 0.55\n",
      "Unseen Edges AUC : 0.54\n",
      "Unseen Nodes AUP : 0.51\n",
      "Unseen Edges AUP : 0.53\n",
      "\n",
      "Unseen Nodes AUC : 0.56\n",
      "Unseen Edges AUC : 0.55\n",
      "Unseen Nodes AUP : 0.52\n",
      "Unseen Edges AUP : 0.53\n",
      "\n",
      "Unseen Nodes AUC : 0.57\n",
      "Unseen Edges AUC : 0.55\n",
      "Unseen Nodes AUP : 0.53\n",
      "Unseen Edges AUP : 0.54\n",
      "\n",
      "Unseen Nodes AUC : 0.58\n",
      "Unseen Edges AUC : 0.56\n",
      "Unseen Nodes AUP : 0.54\n",
      "Unseen Edges AUP : 0.55\n",
      "\n",
      "Unseen Nodes AUC : 0.59\n",
      "Unseen Edges AUC : 0.57\n",
      "Unseen Nodes AUP : 0.55\n",
      "Unseen Edges AUP : 0.55\n",
      "\n",
      "Unseen Nodes AUC : 0.59\n",
      "Unseen Edges AUC : 0.57\n",
      "Unseen Nodes AUP : 0.55\n",
      "Unseen Edges AUP : 0.56\n",
      "\n",
      "Unseen Nodes AUC : 0.6\n",
      "Unseen Edges AUC : 0.58\n",
      "Unseen Nodes AUP : 0.56\n",
      "Unseen Edges AUP : 0.56\n",
      "\n",
      "Unseen Nodes AUC : 0.6\n",
      "Unseen Edges AUC : 0.58\n",
      "Unseen Nodes AUP : 0.56\n",
      "Unseen Edges AUP : 0.57\n",
      "\n",
      "Unseen Nodes AUC : 0.6\n",
      "Unseen Edges AUC : 0.59\n",
      "Unseen Nodes AUP : 0.57\n",
      "Unseen Edges AUP : 0.57\n",
      "\n",
      "Unseen Nodes AUC : 0.61\n",
      "Unseen Edges AUC : 0.59\n",
      "Unseen Nodes AUP : 0.57\n",
      "Unseen Edges AUP : 0.58\n",
      "\n",
      "Unseen Nodes AUC : 0.61\n",
      "Unseen Edges AUC : 0.59\n",
      "Unseen Nodes AUP : 0.58\n",
      "Unseen Edges AUP : 0.58\n",
      "\n",
      "Unseen Nodes AUC : 0.61\n",
      "Unseen Edges AUC : 0.6\n",
      "Unseen Nodes AUP : 0.58\n",
      "Unseen Edges AUP : 0.59\n",
      "\n",
      "Unseen Nodes AUC : 0.61\n",
      "Unseen Edges AUC : 0.6\n",
      "Unseen Nodes AUP : 0.58\n",
      "Unseen Edges AUP : 0.59\n",
      "\n",
      "Unseen Nodes AUC : 0.62\n",
      "Unseen Edges AUC : 0.6\n",
      "Unseen Nodes AUP : 0.59\n",
      "Unseen Edges AUP : 0.59\n",
      "\n",
      "Unseen Nodes AUC : 0.62\n",
      "Unseen Edges AUC : 0.61\n",
      "Unseen Nodes AUP : 0.59\n",
      "Unseen Edges AUP : 0.6\n",
      "\n",
      "Unseen Nodes AUC : 0.62\n",
      "Unseen Edges AUC : 0.61\n",
      "Unseen Nodes AUP : 0.59\n",
      "Unseen Edges AUP : 0.6\n",
      "\n",
      "Unseen Nodes AUC : 0.62\n",
      "Unseen Edges AUC : 0.61\n",
      "Unseen Nodes AUP : 0.59\n",
      "Unseen Edges AUP : 0.6\n",
      "\n",
      "Unseen Nodes AUC : 0.62\n",
      "Unseen Edges AUC : 0.61\n",
      "Unseen Nodes AUP : 0.59\n",
      "Unseen Edges AUP : 0.61\n",
      "\n",
      "Unseen Nodes AUC : 0.63\n",
      "Unseen Edges AUC : 0.62\n",
      "Unseen Nodes AUP : 0.6\n",
      "Unseen Edges AUP : 0.61\n",
      "\n",
      "Unseen Nodes AUC : 0.63\n",
      "Unseen Edges AUC : 0.62\n",
      "Unseen Nodes AUP : 0.6\n",
      "Unseen Edges AUP : 0.61\n",
      "\n",
      "Unseen Nodes AUC : 0.63\n",
      "Unseen Edges AUC : 0.62\n",
      "Unseen Nodes AUP : 0.6\n",
      "Unseen Edges AUP : 0.61\n",
      "\n",
      "Unseen Nodes AUC : 0.63\n",
      "Unseen Edges AUC : 0.62\n",
      "Unseen Nodes AUP : 0.6\n",
      "Unseen Edges AUP : 0.62\n",
      "\n",
      "Unseen Nodes AUC : 0.63\n",
      "Unseen Edges AUC : 0.62\n",
      "Unseen Nodes AUP : 0.6\n",
      "Unseen Edges AUP : 0.62\n",
      "\n",
      "Unseen Nodes AUC : 0.63\n",
      "Unseen Edges AUC : 0.62\n",
      "Unseen Nodes AUP : 0.6\n",
      "Unseen Edges AUP : 0.62\n",
      "\n",
      "Unseen Nodes AUC : 0.63\n",
      "Unseen Edges AUC : 0.63\n",
      "Unseen Nodes AUP : 0.6\n",
      "Unseen Edges AUP : 0.62\n",
      "\n",
      "Unseen Nodes AUC : 0.63\n",
      "Unseen Edges AUC : 0.63\n",
      "Unseen Nodes AUP : 0.6\n",
      "Unseen Edges AUP : 0.62\n",
      "\n",
      "Unseen Nodes AUC : 0.63\n",
      "Unseen Edges AUC : 0.63\n",
      "Unseen Nodes AUP : 0.6\n",
      "Unseen Edges AUP : 0.62\n",
      "\n"
     ]
    },
    {
     "data": {
      "application/vnd.jupyter.widget-view+json": {
       "model_id": "8be629c6e3534807b7b82ae25e418361",
       "version_major": 2,
       "version_minor": 0
      },
      "text/plain": [
       "  0%|          | 0/30 [00:00<?, ?it/s]"
      ]
     },
     "metadata": {},
     "output_type": "display_data"
    },
    {
     "name": "stdout",
     "output_type": "stream",
     "text": [
      "WARNING:tensorflow:No training configuration found in save file: the model was *not* compiled. Compile it manually.\n"
     ]
    },
    {
     "name": "stderr",
     "output_type": "stream",
     "text": [
      "/home/sars-busters-consolidated/GitCode/AIBind/AIBind.py:2562: SettingWithCopyWarning:\n",
      "\n",
      "\n",
      "A value is trying to be set on a copy of a slice from a DataFrame.\n",
      "Try using .loc[row_indexer,col_indexer] = value instead\n",
      "\n",
      "See the caveats in the documentation: https://pandas.pydata.org/pandas-docs/stable/user_guide/indexing.html#returning-a-view-versus-a-copy\n",
      "\n"
     ]
    },
    {
     "data": {
      "application/vnd.jupyter.widget-view+json": {
       "model_id": "4e3a4525d5264c5ba61e5788760b31bf",
       "version_major": 2,
       "version_minor": 0
      },
      "text/plain": [
       "0it [00:00, ?it/s]"
      ]
     },
     "metadata": {},
     "output_type": "display_data"
    },
    {
     "name": "stderr",
     "output_type": "stream",
     "text": [
      "/home/sars-busters-consolidated/GitCode/AIBind/AIBind.py:2591: SettingWithCopyWarning:\n",
      "\n",
      "\n",
      "A value is trying to be set on a copy of a slice from a DataFrame.\n",
      "Try using .loc[row_indexer,col_indexer] = value instead\n",
      "\n",
      "See the caveats in the documentation: https://pandas.pydata.org/pandas-docs/stable/user_guide/indexing.html#returning-a-view-versus-a-copy\n",
      "\n"
     ]
    },
    {
     "name": "stdout",
     "output_type": "stream",
     "text": [
      "WARNING:tensorflow:No training configuration found in save file: the model was *not* compiled. Compile it manually.\n"
     ]
    },
    {
     "data": {
      "application/vnd.jupyter.widget-view+json": {
       "model_id": "57698eb201a04d72b0a48164f2fc51f5",
       "version_major": 2,
       "version_minor": 0
      },
      "text/plain": [
       "0it [00:00, ?it/s]"
      ]
     },
     "metadata": {},
     "output_type": "display_data"
    },
    {
     "name": "stdout",
     "output_type": "stream",
     "text": [
      "Unseen Nodes AUC : 0.39\n",
      "Unseen Edges AUC : 0.42\n",
      "Unseen Nodes AUP : 0.44\n",
      "Unseen Edges AUP : 0.44\n",
      "\n",
      "Unseen Nodes AUC : 0.53\n",
      "Unseen Edges AUC : 0.54\n",
      "Unseen Nodes AUP : 0.51\n",
      "Unseen Edges AUP : 0.52\n",
      "\n",
      "Unseen Nodes AUC : 0.54\n",
      "Unseen Edges AUC : 0.55\n",
      "Unseen Nodes AUP : 0.52\n",
      "Unseen Edges AUP : 0.53\n",
      "\n",
      "Unseen Nodes AUC : 0.53\n",
      "Unseen Edges AUC : 0.56\n",
      "Unseen Nodes AUP : 0.52\n",
      "Unseen Edges AUP : 0.54\n",
      "\n",
      "Unseen Nodes AUC : 0.54\n",
      "Unseen Edges AUC : 0.57\n",
      "Unseen Nodes AUP : 0.52\n",
      "Unseen Edges AUP : 0.55\n",
      "\n",
      "Unseen Nodes AUC : 0.54\n",
      "Unseen Edges AUC : 0.58\n",
      "Unseen Nodes AUP : 0.52\n",
      "Unseen Edges AUP : 0.55\n",
      "\n",
      "Unseen Nodes AUC : 0.54\n",
      "Unseen Edges AUC : 0.59\n",
      "Unseen Nodes AUP : 0.53\n",
      "Unseen Edges AUP : 0.56\n",
      "\n",
      "Unseen Nodes AUC : 0.55\n",
      "Unseen Edges AUC : 0.6\n",
      "Unseen Nodes AUP : 0.53\n",
      "Unseen Edges AUP : 0.56\n",
      "\n",
      "Unseen Nodes AUC : 0.55\n",
      "Unseen Edges AUC : 0.6\n",
      "Unseen Nodes AUP : 0.53\n",
      "Unseen Edges AUP : 0.57\n",
      "\n",
      "Unseen Nodes AUC : 0.55\n",
      "Unseen Edges AUC : 0.6\n",
      "Unseen Nodes AUP : 0.53\n",
      "Unseen Edges AUP : 0.57\n",
      "\n",
      "Unseen Nodes AUC : 0.55\n",
      "Unseen Edges AUC : 0.61\n",
      "Unseen Nodes AUP : 0.54\n",
      "Unseen Edges AUP : 0.57\n",
      "\n",
      "Unseen Nodes AUC : 0.55\n",
      "Unseen Edges AUC : 0.61\n",
      "Unseen Nodes AUP : 0.54\n",
      "Unseen Edges AUP : 0.58\n",
      "\n",
      "Unseen Nodes AUC : 0.56\n",
      "Unseen Edges AUC : 0.61\n",
      "Unseen Nodes AUP : 0.54\n",
      "Unseen Edges AUP : 0.58\n",
      "\n",
      "Unseen Nodes AUC : 0.56\n",
      "Unseen Edges AUC : 0.62\n",
      "Unseen Nodes AUP : 0.54\n",
      "Unseen Edges AUP : 0.58\n",
      "\n"
     ]
    }
   ],
   "source": [
    "siamese_object.train_siamese_decoder(model_name = 'siamese_model',\n",
    "                                     epochs = 30,\n",
    "                                     embedding_model_list = embedding_model_list,\n",
    "                                     drug_input_encoding_name = 'padded_encoded_fingerprint',\n",
    "                                     drug_output_embedding_name = 'normalized_embeddings',\n",
    "                                     target_input_encoding_name = 'target_aa_encoded_padded_int',\n",
    "                                     target_output_embedding_name = 'normalized_embeddings',\n",
    "                                     version = 0,\n",
    "                                     desired_input_dimension = (17000, 1),\n",
    "                                     batch_size = 16,\n",
    "                                     chunk_split_size = 500,\n",
    "                                     chunk_test_frequency = 250,\n",
    "                                     interactive = True)"
   ]
  },
  {
   "cell_type": "code",
   "execution_count": null,
   "metadata": {
    "scrolled": true
   },
   "outputs": [],
   "source": []
  },
  {
   "cell_type": "code",
   "execution_count": null,
   "metadata": {},
   "outputs": [],
   "source": []
  },
  {
   "cell_type": "code",
   "execution_count": null,
   "metadata": {},
   "outputs": [],
   "source": []
  },
  {
   "cell_type": "code",
   "execution_count": null,
   "metadata": {},
   "outputs": [],
   "source": []
  },
  {
   "cell_type": "code",
   "execution_count": null,
   "metadata": {},
   "outputs": [],
   "source": []
  },
  {
   "cell_type": "markdown",
   "metadata": {},
   "source": [
    "#### Validation "
   ]
  },
  {
   "cell_type": "code",
   "execution_count": null,
   "metadata": {
    "scrolled": false
   },
   "outputs": [],
   "source": [
    "siamese_object.get_validation_results(model_name = None,\n",
    "                   show_plots = True,\n",
    "                   plot_title = 'Validation Results - 5 Fold Cross Validation',\n",
    "                   num_cols = 2,\n",
    "                   plot_height = 1500,\n",
    "                   plot_width = 1500,\n",
    "                   write_plot_to_html = True,\n",
    "                   plot_dir = './',\n",
    "                   plot_name = './Siamese_Unseen_Nodes')"
   ]
  },
  {
   "cell_type": "markdown",
   "metadata": {},
   "source": [
    "#### Test Results"
   ]
  },
  {
   "cell_type": "code",
   "execution_count": null,
   "metadata": {},
   "outputs": [],
   "source": []
  },
  {
   "cell_type": "code",
   "execution_count": null,
   "metadata": {
    "scrolled": false
   },
   "outputs": [],
   "source": [
    "siamese_object.get_test_results(model_name = None,\n",
    "                                version_number = None,\n",
    "                                optimal_validation_model = None,\n",
    "                                drug_filter_list = [],\n",
    "                                target_filter_list = [],\n",
    "                                write_plot_to_disk = True,\n",
    "                                plot_dir = './',\n",
    "                                plot_name = 'f1_curves_siamese',\n",
    "                                per_run_embedding = True,\n",
    "                                embedding_model_list = embedding_model_list,\n",
    "                                drug_input_encoding_name = 'padded_encoded_fingerprint',\n",
    "                                drug_output_embedding_name = 'normalized_embeddings',\n",
    "                                target_input_encoding_name = 'target_aa_encoded_padded_int',\n",
    "                                target_output_embedding_name = 'normalized_embeddings',\n",
    "                                desired_input_dimension = (17000, 1))"
   ]
  },
  {
   "cell_type": "code",
   "execution_count": null,
   "metadata": {},
   "outputs": [],
   "source": []
  },
  {
   "cell_type": "markdown",
   "metadata": {
    "heading_collapsed": true
   },
   "source": [
    "#### Prediction "
   ]
  },
  {
   "cell_type": "code",
   "execution_count": 50,
   "metadata": {
    "hidden": true
   },
   "outputs": [
    {
     "data": {
      "text/html": [
       "<div>\n",
       "<style scoped>\n",
       "    .dataframe tbody tr th:only-of-type {\n",
       "        vertical-align: middle;\n",
       "    }\n",
       "\n",
       "    .dataframe tbody tr th {\n",
       "        vertical-align: top;\n",
       "    }\n",
       "\n",
       "    .dataframe thead th {\n",
       "        text-align: right;\n",
       "    }\n",
       "</style>\n",
       "<table border=\"1\" class=\"dataframe\">\n",
       "  <thead>\n",
       "    <tr style=\"text-align: right;\">\n",
       "      <th></th>\n",
       "      <th>InChiKey</th>\n",
       "      <th>target_aa_code</th>\n",
       "    </tr>\n",
       "  </thead>\n",
       "  <tbody>\n",
       "    <tr>\n",
       "      <th>0</th>\n",
       "      <td>XLYOFNOQVPJJNP-UHFFFAOYSA-N</td>\n",
       "      <td>MPAAAGDGLLGEPAAPGGGGGAEDAARPAAACEGSFLPAWVSGVPR...</td>\n",
       "    </tr>\n",
       "    <tr>\n",
       "      <th>1</th>\n",
       "      <td>XLYOFNOQVPJJNP-UHFFFAOYSA-N</td>\n",
       "      <td>MGSGSSSYRPKAIYLDIDGRIQKVIFSKYCNSSDIMDLFCIATGLP...</td>\n",
       "    </tr>\n",
       "    <tr>\n",
       "      <th>2</th>\n",
       "      <td>XLYOFNOQVPJJNP-UHFFFAOYSA-N</td>\n",
       "      <td>MPTTIEREFEELDTQRRWQPLYLEIRNESHDYPHRVAKFPENRNRN...</td>\n",
       "    </tr>\n",
       "    <tr>\n",
       "      <th>3</th>\n",
       "      <td>XLYOFNOQVPJJNP-UHFFFAOYSA-N</td>\n",
       "      <td>MAAQRRSLLQSEQQPSWTDDLPLCHLSGVGSASNRSYSADGKGTES...</td>\n",
       "    </tr>\n",
       "    <tr>\n",
       "      <th>4</th>\n",
       "      <td>XLYOFNOQVPJJNP-UHFFFAOYSA-N</td>\n",
       "      <td>MARGSALPRRPLLCIPAVWAAAALLLSVSRTSGEVEVLDPNDPLGP...</td>\n",
       "    </tr>\n",
       "    <tr>\n",
       "      <th>...</th>\n",
       "      <td>...</td>\n",
       "      <td>...</td>\n",
       "    </tr>\n",
       "    <tr>\n",
       "      <th>16495</th>\n",
       "      <td>QZNPNKJXABGCRC-LFRDXLMFSA-N</td>\n",
       "      <td>MANFQEHLSCSSSPHLPFSESKTFNGLQDELTAMGNHPSPKLLEDQ...</td>\n",
       "    </tr>\n",
       "    <tr>\n",
       "      <th>16496</th>\n",
       "      <td>QZNPNKJXABGCRC-LFRDXLMFSA-N</td>\n",
       "      <td>MDSSAVITQISKEEARGPLRGKGDQKSAASQKPRSRGILHSLFCCV...</td>\n",
       "    </tr>\n",
       "    <tr>\n",
       "      <th>16497</th>\n",
       "      <td>QZNPNKJXABGCRC-LFRDXLMFSA-N</td>\n",
       "      <td>MGQQVGRVGEAPGLQQPQPRGIRGSSAARPSGRRRDPAGRTTETGF...</td>\n",
       "    </tr>\n",
       "    <tr>\n",
       "      <th>16498</th>\n",
       "      <td>QZNPNKJXABGCRC-LFRDXLMFSA-N</td>\n",
       "      <td>MGTVLSLSPSYRKATLFEDGAATVGHYTAVQNSKNAKDKNLKRHSI...</td>\n",
       "    </tr>\n",
       "    <tr>\n",
       "      <th>16499</th>\n",
       "      <td>QZNPNKJXABGCRC-LFRDXLMFSA-N</td>\n",
       "      <td>MAGWIQAQQLQGDALRQMQVLYGQHFPIEVRHYLAQWIESQPWDAI...</td>\n",
       "    </tr>\n",
       "  </tbody>\n",
       "</table>\n",
       "<p>16500 rows × 2 columns</p>\n",
       "</div>"
      ],
      "text/plain": [
       "                          InChiKey  \\\n",
       "0      XLYOFNOQVPJJNP-UHFFFAOYSA-N   \n",
       "1      XLYOFNOQVPJJNP-UHFFFAOYSA-N   \n",
       "2      XLYOFNOQVPJJNP-UHFFFAOYSA-N   \n",
       "3      XLYOFNOQVPJJNP-UHFFFAOYSA-N   \n",
       "4      XLYOFNOQVPJJNP-UHFFFAOYSA-N   \n",
       "...                            ...   \n",
       "16495  QZNPNKJXABGCRC-LFRDXLMFSA-N   \n",
       "16496  QZNPNKJXABGCRC-LFRDXLMFSA-N   \n",
       "16497  QZNPNKJXABGCRC-LFRDXLMFSA-N   \n",
       "16498  QZNPNKJXABGCRC-LFRDXLMFSA-N   \n",
       "16499  QZNPNKJXABGCRC-LFRDXLMFSA-N   \n",
       "\n",
       "                                          target_aa_code  \n",
       "0      MPAAAGDGLLGEPAAPGGGGGAEDAARPAAACEGSFLPAWVSGVPR...  \n",
       "1      MGSGSSSYRPKAIYLDIDGRIQKVIFSKYCNSSDIMDLFCIATGLP...  \n",
       "2      MPTTIEREFEELDTQRRWQPLYLEIRNESHDYPHRVAKFPENRNRN...  \n",
       "3      MAAQRRSLLQSEQQPSWTDDLPLCHLSGVGSASNRSYSADGKGTES...  \n",
       "4      MARGSALPRRPLLCIPAVWAAAALLLSVSRTSGEVEVLDPNDPLGP...  \n",
       "...                                                  ...  \n",
       "16495  MANFQEHLSCSSSPHLPFSESKTFNGLQDELTAMGNHPSPKLLEDQ...  \n",
       "16496  MDSSAVITQISKEEARGPLRGKGDQKSAASQKPRSRGILHSLFCCV...  \n",
       "16497  MGQQVGRVGEAPGLQQPQPRGIRGSSAARPSGRRRDPAGRTTETGF...  \n",
       "16498  MGTVLSLSPSYRKATLFEDGAATVGHYTAVQNSKNAKDKNLKRHSI...  \n",
       "16499  MAGWIQAQQLQGDALRQMQVLYGQHFPIEVRHYLAQWIESQPWDAI...  \n",
       "\n",
       "[16500 rows x 2 columns]"
      ]
     },
     "execution_count": 50,
     "metadata": {},
     "output_type": "execute_result"
    }
   ],
   "source": [
    "sars_targets = pd.read_csv('/data/External Predictions/SARS Sequences/20201203_Targets_Sequences_SARS_Cov2.csv')\n",
    "\n",
    "sars_d_list = []\n",
    "sars_t_list = []\n",
    "\n",
    "for d in list(drugs['InChiKey'])[:500]:\n",
    "    \n",
    "    sars_d_list = sars_d_list + ([d] * len(list(sars_targets['Sequence'])))\n",
    "    sars_t_list = sars_t_list + list(sars_targets['Sequence'])\n",
    "    \n",
    "predict_df = pd.DataFrame(list(zip(sars_d_list, sars_t_list)))\n",
    "predict_df.columns = ['InChiKey', 'target_aa_code']\n",
    "predict_df = predict_df.drop_duplicates(keep = False)\n",
    "predict_df"
   ]
  },
  {
   "cell_type": "code",
   "execution_count": 37,
   "metadata": {
    "hidden": true
   },
   "outputs": [
    {
     "data": {
      "application/vnd.jupyter.widget-view+json": {
       "model_id": "fd140f30e2f949009a262a4378b74ef0",
       "version_major": 2,
       "version_minor": 0
      },
      "text/plain": [
       "0it [00:00, ?it/s]"
      ]
     },
     "metadata": {},
     "output_type": "display_data"
    },
    {
     "data": {
      "application/vnd.jupyter.widget-view+json": {
       "model_id": "a5ed3f667bd34e11ba54738a472c0540",
       "version_major": 2,
       "version_minor": 0
      },
      "text/plain": [
       "0it [00:00, ?it/s]"
      ]
     },
     "metadata": {},
     "output_type": "display_data"
    }
   ],
   "source": [
    "vaenet_object.protvec_location = '/home/sars-busters/Mol2Vec/Results/protVec_100d_3grams.csv'\n",
    "\n",
    "sars_embeddings = vaenet_object.get_protvec_embeddings(prediction_interactions = predict_df,\n",
    "                                                       embedding_dimension = 100,\n",
    "                                                       replace_dataframe = False,\n",
    "                                                       return_normalisation_conststants = False,\n",
    "                                                       delimiter = '\\t')"
   ]
  },
  {
   "cell_type": "code",
   "execution_count": 51,
   "metadata": {
    "hidden": true,
    "scrolled": true
   },
   "outputs": [
    {
     "data": {
      "text/html": [
       "<div>\n",
       "<style scoped>\n",
       "    .dataframe tbody tr th:only-of-type {\n",
       "        vertical-align: middle;\n",
       "    }\n",
       "\n",
       "    .dataframe tbody tr th {\n",
       "        vertical-align: top;\n",
       "    }\n",
       "\n",
       "    .dataframe thead th {\n",
       "        text-align: right;\n",
       "    }\n",
       "</style>\n",
       "<table border=\"1\" class=\"dataframe\">\n",
       "  <thead>\n",
       "    <tr style=\"text-align: right;\">\n",
       "      <th></th>\n",
       "      <th>target_aa_code</th>\n",
       "      <th>normalized_embeddings</th>\n",
       "    </tr>\n",
       "  </thead>\n",
       "  <tbody>\n",
       "    <tr>\n",
       "      <th>0</th>\n",
       "      <td>MPAAAGDGLLGEPAAPGGGGGAEDAARPAAACEGSFLPAWVSGVPR...</td>\n",
       "      <td>[-18.630093000000002, -2.896413, -3.0235929999...</td>\n",
       "    </tr>\n",
       "    <tr>\n",
       "      <th>1</th>\n",
       "      <td>MGSGSSSYRPKAIYLDIDGRIQKVIFSKYCNSSDIMDLFCIATGLP...</td>\n",
       "      <td>[-12.565796999999996, -2.817929999999998, -1.3...</td>\n",
       "    </tr>\n",
       "    <tr>\n",
       "      <th>2</th>\n",
       "      <td>MPTTIEREFEELDTQRRWQPLYLEIRNESHDYPHRVAKFPENRNRN...</td>\n",
       "      <td>[-8.348188, -3.7263290000000002, -1.7557660000...</td>\n",
       "    </tr>\n",
       "    <tr>\n",
       "      <th>3</th>\n",
       "      <td>MAAQRRSLLQSEQQPSWTDDLPLCHLSGVGSASNRSYSADGKGTES...</td>\n",
       "      <td>[-12.543451000000006, -4.744106, -0.1855949999...</td>\n",
       "    </tr>\n",
       "    <tr>\n",
       "      <th>4</th>\n",
       "      <td>MARGSALPRRPLLCIPAVWAAAALLLSVSRTSGEVEVLDPNDPLGP...</td>\n",
       "      <td>[-22.265352, -4.667877, -7.002666000000003, -2...</td>\n",
       "    </tr>\n",
       "    <tr>\n",
       "      <th>5</th>\n",
       "      <td>MEAPLRPAADILRRNPQQDYELVQRVGSGTYGDVYKARNVHTGELA...</td>\n",
       "      <td>[-19.799501999999997, -2.3652699999999993, -0....</td>\n",
       "    </tr>\n",
       "    <tr>\n",
       "      <th>6</th>\n",
       "      <td>MEPPRGPPANGAEPSRAVGTVKVYLPNKQRTVVTVRDGMSVYDSLD...</td>\n",
       "      <td>[-11.395638999999996, -1.5503529999999994, -5....</td>\n",
       "    </tr>\n",
       "    <tr>\n",
       "      <th>7</th>\n",
       "      <td>MNFNTILEEILIKRSQQKKKTSPLNYKERLFVLTKSMLTYYEGRAE...</td>\n",
       "      <td>[-11.858782999999999, 0.575775, -2.40721400000...</td>\n",
       "    </tr>\n",
       "    <tr>\n",
       "      <th>8</th>\n",
       "      <td>MSEVPVARVWLVLLLLTVQVGVTAGAPWQCAPCSAEKLALCPPVSA...</td>\n",
       "      <td>[-4.9076900000000006, -1.9370750000000003, -2....</td>\n",
       "    </tr>\n",
       "    <tr>\n",
       "      <th>9</th>\n",
       "      <td>MEPSRALLGCLASAAAAAPPGEDGAGAGAEEEEEEEEEAAAAVGPG...</td>\n",
       "      <td>[-26.994364999999995, -9.187720999999994, -3.6...</td>\n",
       "    </tr>\n",
       "    <tr>\n",
       "      <th>10</th>\n",
       "      <td>MLLRSAGKLNVGTKKEDGESTAPTPRPKVLRCKCHHHCPEDSVNNI...</td>\n",
       "      <td>[-9.447166000000005, 0.2132609999999998, -5.17...</td>\n",
       "    </tr>\n",
       "    <tr>\n",
       "      <th>11</th>\n",
       "      <td>MEQVEILRKFIQRVQAMKSPDHNGEDNFARDFMRLRRLSTKYRTEK...</td>\n",
       "      <td>[-16.08634099999999, -2.3117320000000006, -4.9...</td>\n",
       "    </tr>\n",
       "    <tr>\n",
       "      <th>12</th>\n",
       "      <td>MNRYTTIRQLGDGTYGSVLLGRSIESGELIAIKKMKRKFYSWEECM...</td>\n",
       "      <td>[-15.831734999999993, -2.019243999999999, -4.4...</td>\n",
       "    </tr>\n",
       "    <tr>\n",
       "      <th>13</th>\n",
       "      <td>MPYFTRLILFLFCLMVLVESRKPKRKRWTGQVEMPKPSHLYKKNLD...</td>\n",
       "      <td>[-13.510227, 2.3935459999999997, -0.4322129999...</td>\n",
       "    </tr>\n",
       "    <tr>\n",
       "      <th>14</th>\n",
       "      <td>MVFQTRYPSWIILCYIWLLRFAHTGEAQAAKEVLLLDSKAQQTELE...</td>\n",
       "      <td>[-21.758617999999988, 3.293208000000001, -3.25...</td>\n",
       "    </tr>\n",
       "    <tr>\n",
       "      <th>15</th>\n",
       "      <td>MQKIMHISVLLSPVLWGLIFGVSSNSIQIGGLFPRGADQEYSAFRV...</td>\n",
       "      <td>[-25.64731299999997, 0.8657779999999999, 1.924...</td>\n",
       "    </tr>\n",
       "    <tr>\n",
       "      <th>16</th>\n",
       "      <td>MAGFKRGYDGKIAGLYDLDKTLGRGHFAVVKLARHVFTGEKVAVKV...</td>\n",
       "      <td>[-15.213375000000001, -1.982888999999998, -3.8...</td>\n",
       "    </tr>\n",
       "    <tr>\n",
       "      <th>17</th>\n",
       "      <td>MQTIKCVVVGDGAVGKTCLLISYTTNKFPSEYVPTVFDNYAVTVMI...</td>\n",
       "      <td>[-2.758776000000001, 0.3370019999999999, 0.741...</td>\n",
       "    </tr>\n",
       "    <tr>\n",
       "      <th>18</th>\n",
       "      <td>MALRRLGAALLLLPLLAAVEETLMDSTTATAELGWMVHPPSGWEEV...</td>\n",
       "      <td>[-23.59113799999997, -3.524356999999997, -4.48...</td>\n",
       "    </tr>\n",
       "    <tr>\n",
       "      <th>19</th>\n",
       "      <td>MEEEEGAVAKEWGTTPAGPVWTAVFDYEAAGDEELTLRRGDRVQVL...</td>\n",
       "      <td>[-26.884875999999984, -7.864138999999994, -0.7...</td>\n",
       "    </tr>\n",
       "    <tr>\n",
       "      <th>20</th>\n",
       "      <td>MLSHGAGLALWITLSLLQTGLAEPERCNFTLAESKASSHSVSIQWR...</td>\n",
       "      <td>[-45.27094700000001, -6.867417000000003, -4.76...</td>\n",
       "    </tr>\n",
       "    <tr>\n",
       "      <th>21</th>\n",
       "      <td>MKKFKRRLSLTLRGSQTIDESLSELAEQMTIEENSSKDNEPIVKNG...</td>\n",
       "      <td>[-12.167871999999997, -2.0244269999999993, -3....</td>\n",
       "    </tr>\n",
       "    <tr>\n",
       "      <th>22</th>\n",
       "      <td>MAAVFDLDLETEEGSEGEGEPELSPADACPLAELRAAGLEPVGHYE...</td>\n",
       "      <td>[-10.713069000000006, -1.1529690000000004, 0.6...</td>\n",
       "    </tr>\n",
       "    <tr>\n",
       "      <th>23</th>\n",
       "      <td>MASACGAPGPGGALGSQAPSWYHRDLSRAAAEELLARAGRDGSFLV...</td>\n",
       "      <td>[-32.090644999999995, -9.615003999999995, -6.4...</td>\n",
       "    </tr>\n",
       "    <tr>\n",
       "      <th>24</th>\n",
       "      <td>MPCVQAQYGSSPQGASPASQSYSYHSSGEYSSDFLTPEFVKFSMDL...</td>\n",
       "      <td>[-11.943824000000001, -4.009759000000001, -4.5...</td>\n",
       "    </tr>\n",
       "    <tr>\n",
       "      <th>25</th>\n",
       "      <td>MDQREILQKFLDEAQSKKITKEEFANEFLKLKRQSTKYKADKTYPT...</td>\n",
       "      <td>[-16.66697, -5.228786000000003, -6.07362999999...</td>\n",
       "    </tr>\n",
       "    <tr>\n",
       "      <th>26</th>\n",
       "      <td>MAEPSGSPVHVQLPQQAAPVTAAAAAAPAAATAAPAPAAPAAPAPA...</td>\n",
       "      <td>[-12.948495000000007, -2.5043830000000002, 1.7...</td>\n",
       "    </tr>\n",
       "    <tr>\n",
       "      <th>27</th>\n",
       "      <td>MARARPPPPPSPPPGLLPLLPPLLLLPLLLLPAGCRALEETLMDTK...</td>\n",
       "      <td>[-22.386668000000007, -7.856892000000007, -3.1...</td>\n",
       "    </tr>\n",
       "    <tr>\n",
       "      <th>28</th>\n",
       "      <td>MANFQEHLSCSSSPHLPFSESKTFNGLQDELTAMGNHPSPKLLEDQ...</td>\n",
       "      <td>[-20.433501999999994, -8.203568, -5.4497729999...</td>\n",
       "    </tr>\n",
       "    <tr>\n",
       "      <th>29</th>\n",
       "      <td>MDSSAVITQISKEEARGPLRGKGDQKSAASQKPRSRGILHSLFCCV...</td>\n",
       "      <td>[-5.103651999999999, -2.197608, 0.233147000000...</td>\n",
       "    </tr>\n",
       "    <tr>\n",
       "      <th>30</th>\n",
       "      <td>MGQQVGRVGEAPGLQQPQPRGIRGSSAARPSGRRRDPAGRTTETGF...</td>\n",
       "      <td>[-27.692130000000017, -6.394438, -1.6072479999...</td>\n",
       "    </tr>\n",
       "    <tr>\n",
       "      <th>31</th>\n",
       "      <td>MGTVLSLSPSYRKATLFEDGAATVGHYTAVQNSKNAKDKNLKRHSI...</td>\n",
       "      <td>[-4.163112000000001, -2.078107999999999, -4.40...</td>\n",
       "    </tr>\n",
       "    <tr>\n",
       "      <th>32</th>\n",
       "      <td>MAGWIQAQQLQGDALRQMQVLYGQHFPIEVRHYLAQWIESQPWDAI...</td>\n",
       "      <td>[-15.41287099999999, -3.8853720000000007, -0.6...</td>\n",
       "    </tr>\n",
       "  </tbody>\n",
       "</table>\n",
       "</div>"
      ],
      "text/plain": [
       "                                       target_aa_code  \\\n",
       "0   MPAAAGDGLLGEPAAPGGGGGAEDAARPAAACEGSFLPAWVSGVPR...   \n",
       "1   MGSGSSSYRPKAIYLDIDGRIQKVIFSKYCNSSDIMDLFCIATGLP...   \n",
       "2   MPTTIEREFEELDTQRRWQPLYLEIRNESHDYPHRVAKFPENRNRN...   \n",
       "3   MAAQRRSLLQSEQQPSWTDDLPLCHLSGVGSASNRSYSADGKGTES...   \n",
       "4   MARGSALPRRPLLCIPAVWAAAALLLSVSRTSGEVEVLDPNDPLGP...   \n",
       "5   MEAPLRPAADILRRNPQQDYELVQRVGSGTYGDVYKARNVHTGELA...   \n",
       "6   MEPPRGPPANGAEPSRAVGTVKVYLPNKQRTVVTVRDGMSVYDSLD...   \n",
       "7   MNFNTILEEILIKRSQQKKKTSPLNYKERLFVLTKSMLTYYEGRAE...   \n",
       "8   MSEVPVARVWLVLLLLTVQVGVTAGAPWQCAPCSAEKLALCPPVSA...   \n",
       "9   MEPSRALLGCLASAAAAAPPGEDGAGAGAEEEEEEEEEAAAAVGPG...   \n",
       "10  MLLRSAGKLNVGTKKEDGESTAPTPRPKVLRCKCHHHCPEDSVNNI...   \n",
       "11  MEQVEILRKFIQRVQAMKSPDHNGEDNFARDFMRLRRLSTKYRTEK...   \n",
       "12  MNRYTTIRQLGDGTYGSVLLGRSIESGELIAIKKMKRKFYSWEECM...   \n",
       "13  MPYFTRLILFLFCLMVLVESRKPKRKRWTGQVEMPKPSHLYKKNLD...   \n",
       "14  MVFQTRYPSWIILCYIWLLRFAHTGEAQAAKEVLLLDSKAQQTELE...   \n",
       "15  MQKIMHISVLLSPVLWGLIFGVSSNSIQIGGLFPRGADQEYSAFRV...   \n",
       "16  MAGFKRGYDGKIAGLYDLDKTLGRGHFAVVKLARHVFTGEKVAVKV...   \n",
       "17  MQTIKCVVVGDGAVGKTCLLISYTTNKFPSEYVPTVFDNYAVTVMI...   \n",
       "18  MALRRLGAALLLLPLLAAVEETLMDSTTATAELGWMVHPPSGWEEV...   \n",
       "19  MEEEEGAVAKEWGTTPAGPVWTAVFDYEAAGDEELTLRRGDRVQVL...   \n",
       "20  MLSHGAGLALWITLSLLQTGLAEPERCNFTLAESKASSHSVSIQWR...   \n",
       "21  MKKFKRRLSLTLRGSQTIDESLSELAEQMTIEENSSKDNEPIVKNG...   \n",
       "22  MAAVFDLDLETEEGSEGEGEPELSPADACPLAELRAAGLEPVGHYE...   \n",
       "23  MASACGAPGPGGALGSQAPSWYHRDLSRAAAEELLARAGRDGSFLV...   \n",
       "24  MPCVQAQYGSSPQGASPASQSYSYHSSGEYSSDFLTPEFVKFSMDL...   \n",
       "25  MDQREILQKFLDEAQSKKITKEEFANEFLKLKRQSTKYKADKTYPT...   \n",
       "26  MAEPSGSPVHVQLPQQAAPVTAAAAAAPAAATAAPAPAAPAAPAPA...   \n",
       "27  MARARPPPPPSPPPGLLPLLPPLLLLPLLLLPAGCRALEETLMDTK...   \n",
       "28  MANFQEHLSCSSSPHLPFSESKTFNGLQDELTAMGNHPSPKLLEDQ...   \n",
       "29  MDSSAVITQISKEEARGPLRGKGDQKSAASQKPRSRGILHSLFCCV...   \n",
       "30  MGQQVGRVGEAPGLQQPQPRGIRGSSAARPSGRRRDPAGRTTETGF...   \n",
       "31  MGTVLSLSPSYRKATLFEDGAATVGHYTAVQNSKNAKDKNLKRHSI...   \n",
       "32  MAGWIQAQQLQGDALRQMQVLYGQHFPIEVRHYLAQWIESQPWDAI...   \n",
       "\n",
       "                                normalized_embeddings  \n",
       "0   [-18.630093000000002, -2.896413, -3.0235929999...  \n",
       "1   [-12.565796999999996, -2.817929999999998, -1.3...  \n",
       "2   [-8.348188, -3.7263290000000002, -1.7557660000...  \n",
       "3   [-12.543451000000006, -4.744106, -0.1855949999...  \n",
       "4   [-22.265352, -4.667877, -7.002666000000003, -2...  \n",
       "5   [-19.799501999999997, -2.3652699999999993, -0....  \n",
       "6   [-11.395638999999996, -1.5503529999999994, -5....  \n",
       "7   [-11.858782999999999, 0.575775, -2.40721400000...  \n",
       "8   [-4.9076900000000006, -1.9370750000000003, -2....  \n",
       "9   [-26.994364999999995, -9.187720999999994, -3.6...  \n",
       "10  [-9.447166000000005, 0.2132609999999998, -5.17...  \n",
       "11  [-16.08634099999999, -2.3117320000000006, -4.9...  \n",
       "12  [-15.831734999999993, -2.019243999999999, -4.4...  \n",
       "13  [-13.510227, 2.3935459999999997, -0.4322129999...  \n",
       "14  [-21.758617999999988, 3.293208000000001, -3.25...  \n",
       "15  [-25.64731299999997, 0.8657779999999999, 1.924...  \n",
       "16  [-15.213375000000001, -1.982888999999998, -3.8...  \n",
       "17  [-2.758776000000001, 0.3370019999999999, 0.741...  \n",
       "18  [-23.59113799999997, -3.524356999999997, -4.48...  \n",
       "19  [-26.884875999999984, -7.864138999999994, -0.7...  \n",
       "20  [-45.27094700000001, -6.867417000000003, -4.76...  \n",
       "21  [-12.167871999999997, -2.0244269999999993, -3....  \n",
       "22  [-10.713069000000006, -1.1529690000000004, 0.6...  \n",
       "23  [-32.090644999999995, -9.615003999999995, -6.4...  \n",
       "24  [-11.943824000000001, -4.009759000000001, -4.5...  \n",
       "25  [-16.66697, -5.228786000000003, -6.07362999999...  \n",
       "26  [-12.948495000000007, -2.5043830000000002, 1.7...  \n",
       "27  [-22.386668000000007, -7.856892000000007, -3.1...  \n",
       "28  [-20.433501999999994, -8.203568, -5.4497729999...  \n",
       "29  [-5.103651999999999, -2.197608, 0.233147000000...  \n",
       "30  [-27.692130000000017, -6.394438, -1.6072479999...  \n",
       "31  [-4.163112000000001, -2.078107999999999, -4.40...  \n",
       "32  [-15.41287099999999, -3.8853720000000007, -0.6...  "
      ]
     },
     "execution_count": 51,
     "metadata": {},
     "output_type": "execute_result"
    }
   ],
   "source": [
    "sars_embeddings"
   ]
  },
  {
   "cell_type": "code",
   "execution_count": 53,
   "metadata": {
    "hidden": true,
    "scrolled": true
   },
   "outputs": [
    {
     "name": "stdout",
     "output_type": "stream",
     "text": [
      "Testing on model :  /data/sars-busters-consolidated/test_remove_if_needed/Run_0/vaenet_ds2_5_fold_2x_v00_run0_06-18_17h58_epoch_0_idx_0.model\n",
      "filtered_nodes_test :  (16500, 2)\n",
      "Drugs :  500\n",
      "Targets :  33\n",
      "pred_drugs_dataframe :  (629, 2)\n",
      "X0, X1 :  (16500, 100) (16500, 200)\n",
      "unseen_targets_pred :  (16500,)\n",
      "list :  16500\n"
     ]
    }
   ],
   "source": [
    "vaenet_object.get_fold_averaged_prediction_results(model_name = None,\n",
    "                                                   version_number = None,\n",
    "                                                   model_paths = [],\n",
    "                                                   optimal_validation_model = None,\n",
    "                                                   test_sets = [predict_df],\n",
    "                                                   get_drug_embed = False,\n",
    "                                                   pred_drug_embeddings = None,\n",
    "                                                   drug_embed_normalized = False,\n",
    "                                                   get_target_embed = True,\n",
    "                                                   pred_target_embeddings = sars_embeddings,\n",
    "                                                   target_embed_normalized = False,\n",
    "                                                   drug_filter_list = [],\n",
    "                                                   target_filter_list = [],\n",
    "                                                   return_dataframes = False)\n"
   ]
  },
  {
   "cell_type": "code",
   "execution_count": null,
   "metadata": {
    "hidden": true
   },
   "outputs": [],
   "source": []
  },
  {
   "cell_type": "code",
   "execution_count": null,
   "metadata": {
    "hidden": true
   },
   "outputs": [],
   "source": []
  }
 ],
 "metadata": {
  "kernelspec": {
   "display_name": "Python 3",
   "language": "python",
   "name": "python3"
  },
  "language_info": {
   "codemirror_mode": {
    "name": "ipython",
    "version": 3
   },
   "file_extension": ".py",
   "mimetype": "text/x-python",
   "name": "python",
   "nbconvert_exporter": "python",
   "pygments_lexer": "ipython3",
   "version": "3.7.7"
  },
  "toc": {
   "base_numbering": 1,
   "nav_menu": {},
   "number_sections": true,
   "sideBar": true,
   "skip_h1_title": false,
   "title_cell": "Table of Contents",
   "title_sidebar": "Contents",
   "toc_cell": false,
   "toc_position": {},
   "toc_section_display": true,
   "toc_window_display": false
  }
 },
 "nbformat": 4,
 "nbformat_minor": 4
}
