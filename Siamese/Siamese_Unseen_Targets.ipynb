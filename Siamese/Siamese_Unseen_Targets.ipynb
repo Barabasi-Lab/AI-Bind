{
 "cells": [
  {
   "cell_type": "markdown",
   "metadata": {},
   "source": [
    "### Imports"
   ]
  },
  {
   "cell_type": "code",
   "execution_count": 3,
   "metadata": {},
   "outputs": [],
   "source": [
    "import importlib\n",
    "from AIBind.import_modules import *\n",
    "from AIBind import AIBind"
   ]
  },
  {
   "cell_type": "code",
   "execution_count": 13,
   "metadata": {},
   "outputs": [
    {
     "data": {
      "text/plain": [
       "<module 'AIBind.AIBind' from '/home/sars-busters-consolidated/GitCode/AIBind/AIBind.py'>"
      ]
     },
     "execution_count": 13,
     "metadata": {},
     "output_type": "execute_result"
    }
   ],
   "source": [
    "importlib.reload(AIBind)"
   ]
  },
  {
   "cell_type": "markdown",
   "metadata": {},
   "source": [
    "### GPU Settings"
   ]
  },
  {
   "cell_type": "code",
   "execution_count": 5,
   "metadata": {},
   "outputs": [
    {
     "data": {
      "text/plain": [
       "[\"b'Thu Jul 15 09:06:07 2021       \",\n",
       " '+-----------------------------------------------------------------------------+',\n",
       " '| NVIDIA-SMI 418.87.01    Driver Version: 418.87.01    CUDA Version: 10.1     |',\n",
       " '|-------------------------------+----------------------+----------------------+',\n",
       " '| GPU  Name        Persistence-M| Bus-Id        Disp.A | Volatile Uncorr. ECC |',\n",
       " '| Fan  Temp  Perf  Pwr:Usage/Cap|         Memory-Usage | GPU-Util  Compute M. |',\n",
       " '|===============================+======================+======================|',\n",
       " '|   0  Tesla T4            Off  | 00000000:00:04.0 Off |                    0 |',\n",
       " '| N/A   75C    P0    34W /  70W |  14653MiB / 15079MiB |      0%      Default |',\n",
       " '+-------------------------------+----------------------+----------------------+',\n",
       " '|   1  Tesla T4            Off  | 00000000:00:05.0 Off |                    0 |',\n",
       " '| N/A   77C    P0    33W /  70W |  14906MiB / 15079MiB |      0%      Default |',\n",
       " '+-------------------------------+----------------------+----------------------+',\n",
       " '|   2  Tesla T4            Off  | 00000000:00:06.0 Off |                    0 |',\n",
       " '| N/A   77C    P0    35W /  70W |  14387MiB / 15079MiB |      0%      Default |',\n",
       " '+-------------------------------+----------------------+----------------------+',\n",
       " '|   3  Tesla T4            Off  | 00000000:00:07.0 Off |                    0 |',\n",
       " '| N/A   61C    P0    30W /  70W |      0MiB / 15079MiB |      5%      Default |',\n",
       " '+-------------------------------+----------------------+----------------------+',\n",
       " '                                                                               ',\n",
       " '+-----------------------------------------------------------------------------+',\n",
       " '| Processes:                                                       GPU Memory |',\n",
       " '|  GPU       PID   Type   Process name                             Usage      |',\n",
       " '|=============================================================================|',\n",
       " '+-----------------------------------------------------------------------------+',\n",
       " \"'\"]"
      ]
     },
     "execution_count": 5,
     "metadata": {},
     "output_type": "execute_result"
    }
   ],
   "source": [
    "str(subprocess.check_output('nvidia-smi', shell = True)).split('\\\\n')"
   ]
  },
  {
   "cell_type": "code",
   "execution_count": 6,
   "metadata": {},
   "outputs": [],
   "source": [
    "os.environ[\"CUDA_VISIBLE_DEVICES\"] = \"3\""
   ]
  },
  {
   "cell_type": "markdown",
   "metadata": {},
   "source": [
    "### Siamese"
   ]
  },
  {
   "cell_type": "markdown",
   "metadata": {},
   "source": [
    "#### Read In Test Datasets"
   ]
  },
  {
   "cell_type": "code",
   "execution_count": 7,
   "metadata": {},
   "outputs": [
    {
     "data": {
      "application/vnd.jupyter.widget-view+json": {
       "model_id": "3fe62f9deb0c466180ea4e3de0e09d10",
       "version_major": 2,
       "version_minor": 0
      },
      "text/plain": [
       "  0%|          | 0/5 [00:00<?, ?it/s]"
      ]
     },
     "metadata": {},
     "output_type": "display_data"
    }
   ],
   "source": [
    "targets_test = []\n",
    "targets_validation = []\n",
    "edges_test = []\n",
    "edges_validation = []\n",
    "train_sets = []\n",
    "\n",
    "for run_number in tqdm(range(5)):\n",
    "    \n",
    "    targets_test.append(pd.read_csv('/data/sars-busters-consolidated/GitData/VecNet_Unseen_Nodes/test_unseen_nodes_' + str(run_number) + '.csv'))\n",
    "    edges_test.append(pd.read_csv('/data/sars-busters-consolidated/GitData/VecNet_Unseen_Nodes/test_unseen_edges_' + str(run_number) + '.csv'))    \n",
    "    targets_validation.append(pd.read_csv('/data/sars-busters-consolidated/GitData/VecNet_Unseen_Nodes/validation_unseen_nodes_' + str(run_number) + '.csv'))    \n",
    "    edges_validation.append(pd.read_csv('/data/sars-busters-consolidated/GitData/VecNet_Unseen_Nodes/validation_unseen_edges_' + str(run_number) + '.csv'))    \n",
    "    train_sets.append(pd.read_csv('/data/sars-busters-consolidated/GitData/VecNet_Unseen_Nodes/train_' + str(run_number) + '.csv'))    "
   ]
  },
  {
   "cell_type": "markdown",
   "metadata": {},
   "source": [
    "#### AIBind Object"
   ]
  },
  {
   "cell_type": "code",
   "execution_count": 8,
   "metadata": {},
   "outputs": [],
   "source": [
    "drugs = pd.read_csv('/data/sars-busters-consolidated/chemicals/chemicals_01.csv')\n",
    "targets = pd.read_csv('/data/sars-busters-consolidated/targets/amino/amino_01.csv')\n",
    "\n",
    "drugs = drugs.rename(columns = {'Label' : 'InChiKey'})\n",
    "targets = targets.rename(columns = {'Label' : 'target_aa_code'})"
   ]
  },
  {
   "cell_type": "code",
   "execution_count": 9,
   "metadata": {},
   "outputs": [],
   "source": [
    "targets_to_add = list(set(pd.concat(targets_test)['target_aa_code']).difference(targets['target_aa_code']))\n",
    "targets_to_add = pd.DataFrame(targets_to_add)\n",
    "targets_to_add.columns = ['target_aa_code']\n",
    "\n",
    "targets = targets[['target_aa_code']]\n",
    "targets = pd.concat([targets, targets_to_add])"
   ]
  },
  {
   "cell_type": "code",
   "execution_count": 14,
   "metadata": {},
   "outputs": [],
   "source": [
    "# Create object\n",
    "siamese_object = AIBind.AIBind(interactions_location = '/data/sars-busters-consolidated/GitData/interactions/Network_Derived_Negatives.csv',\n",
    "                              interactions = None,\n",
    "                              interaction_y_name = 'Y',\n",
    "\n",
    "                              absolute_negatives_location = None,\n",
    "                              absolute_negatives = None,\n",
    "\n",
    "                              drugs_location = None,\n",
    "                              drugs_dataframe = drugs,\n",
    "                              drug_inchi_name = 'InChiKey',\n",
    "                              drug_smile_name = 'SMILE',\n",
    "\n",
    "                              targets_location = None,\n",
    "                              targets_dataframe = targets, \n",
    "                              target_seq_name = 'target_aa_code',\n",
    "\n",
    "                              mol2vec_location = None,\n",
    "                              mol2vec_model = None,\n",
    "\n",
    "                              protvec_location = None, \n",
    "                              protvec_model = None,\n",
    "\n",
    "                              nodes_test = targets_test, \n",
    "                              nodes_validation = targets_validation, \n",
    "\n",
    "                              edges_test = edges_test, \n",
    "                              edges_validation = edges_validation, \n",
    "\n",
    "                              model_out_dir = '/data/sars-busters-consolidated/siamese/KFUD-Final/',\n",
    "\n",
    "                              debug = False)"
   ]
  },
  {
   "cell_type": "markdown",
   "metadata": {},
   "source": [
    "#### Update Drugs and Targets "
   ]
  },
  {
   "cell_type": "code",
   "execution_count": 15,
   "metadata": {},
   "outputs": [
    {
     "data": {
      "application/vnd.jupyter.widget-view+json": {
       "model_id": "328feb15226440f282379c085c792f58",
       "version_major": 2,
       "version_minor": 0
      },
      "text/plain": [
       "0it [00:00, ?it/s]"
      ]
     },
     "metadata": {},
     "output_type": "display_data"
    },
    {
     "name": "stdout",
     "output_type": "stream",
     "text": [
      "Number of drugs skipped :  0\n"
     ]
    },
    {
     "data": {
      "application/vnd.jupyter.widget-view+json": {
       "model_id": "a464a62e472d41259963f6c834baa130",
       "version_major": 2,
       "version_minor": 0
      },
      "text/plain": [
       "  0%|          | 0/5186 [00:00<?, ?it/s]"
      ]
     },
     "metadata": {},
     "output_type": "display_data"
    },
    {
     "data": {
      "application/vnd.jupyter.widget-view+json": {
       "model_id": "cbf63be53345433c886d28ee3f046084",
       "version_major": 2,
       "version_minor": 0
      },
      "text/plain": [
       "  0%|          | 0/5186 [00:00<?, ?it/s]"
      ]
     },
     "metadata": {},
     "output_type": "display_data"
    },
    {
     "data": {
      "application/vnd.jupyter.widget-view+json": {
       "model_id": "cc4668c3deff4edc977c13f21b633867",
       "version_major": 2,
       "version_minor": 0
      },
      "text/plain": [
       "  0%|          | 0/5186 [00:00<?, ?it/s]"
      ]
     },
     "metadata": {},
     "output_type": "display_data"
    }
   ],
   "source": [
    "siamese_object.get_simaese_input_format(drugs_dataframe = None,\n",
    "                                        targets_dataframe = None,\n",
    "                                        drug_fingerprint_name = 'fingerprint',\n",
    "                                        drug_out_encoding_name = 'padded_encoded_fingerprint',\n",
    "                                        target_out_encoding_name = 'target_aa_encoded_padded_int',\n",
    "                                        replace_dataframe = True,\n",
    "                                        return_dataframes = False)"
   ]
  },
  {
   "cell_type": "markdown",
   "metadata": {},
   "source": [
    "#### Create Train Sets"
   ]
  },
  {
   "cell_type": "code",
   "execution_count": 16,
   "metadata": {},
   "outputs": [
    {
     "data": {
      "application/vnd.jupyter.widget-view+json": {
       "model_id": "8919788b74894334aa637237af068d01",
       "version_major": 2,
       "version_minor": 0
      },
      "text/plain": [
       "  0%|          | 0/5 [00:00<?, ?it/s]"
      ]
     },
     "metadata": {},
     "output_type": "display_data"
    },
    {
     "name": "stdout",
     "output_type": "stream",
     "text": [
      "Set :  0\n",
      "Train - Test - Validation Overlap For Unseen Targets :  0\n",
      "Train - Test - Validation Overlap For Unseen Edges :  0\n",
      "Train Set :  (38125, 3)\n",
      "Nodes Test :  (6491, 3)\n",
      "Nodes Val :  (6492, 3)\n",
      "Edge Test :  (3693, 3)\n",
      "Edge Val :  (3693, 3)\n",
      "Positive / Negatative Ratio :  0.5453366300514774\n",
      "\n",
      "Set :  1\n",
      "Train - Test - Validation Overlap For Unseen Targets :  0\n",
      "Train - Test - Validation Overlap For Unseen Edges :  0\n",
      "Train Set :  (37340, 3)\n",
      "Nodes Test :  (6935, 3)\n",
      "Nodes Val :  (6790, 3)\n",
      "Edge Test :  (3603, 3)\n",
      "Edge Val :  (3603, 3)\n",
      "Positive / Negatative Ratio :  0.5286363450280427\n",
      "\n",
      "Set :  2\n",
      "Train - Test - Validation Overlap For Unseen Targets :  0\n",
      "Train - Test - Validation Overlap For Unseen Edges :  0\n",
      "Train Set :  (37119, 3)\n",
      "Nodes Test :  (6329, 3)\n",
      "Nodes Val :  (6184, 3)\n",
      "Edge Test :  (3785, 3)\n",
      "Edge Val :  (3785, 3)\n",
      "Positive / Negatative Ratio :  0.51797325481536\n",
      "\n",
      "Set :  3\n",
      "Train - Test - Validation Overlap For Unseen Targets :  0\n",
      "Train - Test - Validation Overlap For Unseen Edges :  0\n",
      "Train Set :  (37073, 3)\n",
      "Nodes Test :  (6579, 3)\n",
      "Nodes Val :  (6435, 3)\n",
      "Edge Test :  (3710, 3)\n",
      "Edge Val :  (3710, 3)\n",
      "Positive / Negatative Ratio :  0.5234435997534416\n",
      "\n",
      "Set :  4\n",
      "Train - Test - Validation Overlap For Unseen Targets :  0\n",
      "Train - Test - Validation Overlap For Unseen Edges :  0\n",
      "Train Set :  (36523, 3)\n",
      "Nodes Test :  (6626, 3)\n",
      "Nodes Val :  (6482, 3)\n",
      "Edge Test :  (3696, 3)\n",
      "Edge Val :  (3696, 3)\n",
      "Positive / Negatative Ratio :  0.5085291809508075\n",
      "\n"
     ]
    }
   ],
   "source": [
    "siamese_object.create_train_sets(unseen_nodes_flag = False,\n",
    "                                 data_leak_check = True)"
   ]
  },
  {
   "cell_type": "markdown",
   "metadata": {},
   "source": [
    "#### Train Embedder"
   ]
  },
  {
   "cell_type": "code",
   "execution_count": null,
   "metadata": {
    "scrolled": true
   },
   "outputs": [
    {
     "data": {
      "application/vnd.jupyter.widget-view+json": {
       "model_id": "aa8113e832714275afc02374ae5d9f76",
       "version_major": 2,
       "version_minor": 0
      },
      "text/plain": [
       "  0%|          | 0/5 [00:00<?, ?it/s]"
      ]
     },
     "metadata": {},
     "output_type": "display_data"
    },
    {
     "name": "stdout",
     "output_type": "stream",
     "text": [
      "WARNING:tensorflow:Output \"Triplet_Loss_Layer\" missing from loss dictionary. We assume this was done on purpose. The fit and evaluate APIs will not be expecting any data to be passed to \"Triplet_Loss_Layer\".\n"
     ]
    },
    {
     "data": {
      "application/vnd.jupyter.widget-view+json": {
       "model_id": "d821c8c8fd434fc7b0d7f5ee84901deb",
       "version_major": 2,
       "version_minor": 0
      },
      "text/plain": [
       "  0%|          | 0/7 [00:00<?, ?it/s]"
      ]
     },
     "metadata": {},
     "output_type": "display_data"
    },
    {
     "data": {
      "application/vnd.jupyter.widget-view+json": {
       "model_id": "4ee5e5247c6c47e597c1ff4eaddafa2e",
       "version_major": 2,
       "version_minor": 0
      },
      "text/plain": [
       "0it [00:00, ?it/s]"
      ]
     },
     "metadata": {},
     "output_type": "display_data"
    },
    {
     "name": "stdout",
     "output_type": "stream",
     "text": [
      "Total Number Of Drugs : 6751\n",
      "Total Number Of Usable Drugs (Drugs That Have Data On Both Binding & No Binding) : 5045\n",
      "Total Number Of Targets : 3594\n",
      "Total Number Of Usable Targets (Targets That Have Data On Both Binding & No Binding) : 2973\n"
     ]
    },
    {
     "data": {
      "application/vnd.jupyter.widget-view+json": {
       "model_id": "5ceabf068aa141e391690a59f30da569",
       "version_major": 2,
       "version_minor": 0
      },
      "text/plain": [
       "  0%|          | 0/2973 [00:00<?, ?it/s]"
      ]
     },
     "metadata": {},
     "output_type": "display_data"
    },
    {
     "data": {
      "application/vnd.jupyter.widget-view+json": {
       "model_id": "b3d3a3cef74842f198fe7536f139fa0f",
       "version_major": 2,
       "version_minor": 0
      },
      "text/plain": [
       "0it [00:00, ?it/s]"
      ]
     },
     "metadata": {},
     "output_type": "display_data"
    },
    {
     "name": "stdout",
     "output_type": "stream",
     "text": [
      "Epoch : 0 | Target Triplet : 0 | Average Loss : 0.5962993\n",
      "Epoch : 0 | Target Triplet : 10000 | Average Loss : 0.4892436\n",
      "Epoch : 0 | Target Triplet : 20000 | Average Loss : 0.48613766\n",
      "Epoch : 0 | Target Triplet : 30000 | Average Loss : 0.48336825\n",
      "Epoch : 0 | Target Triplet : 40000 | Average Loss : 0.48241845\n",
      "Epoch Time : 3722.313366651535\n"
     ]
    },
    {
     "data": {
      "application/vnd.jupyter.widget-view+json": {
       "model_id": "d487f59961d04080ab94159f4919a175",
       "version_major": 2,
       "version_minor": 0
      },
      "text/plain": [
       "0it [00:00, ?it/s]"
      ]
     },
     "metadata": {},
     "output_type": "display_data"
    },
    {
     "name": "stdout",
     "output_type": "stream",
     "text": [
      "Total Number Of Drugs : 6751\n",
      "Total Number Of Usable Drugs (Drugs That Have Data On Both Binding & No Binding) : 5045\n",
      "Total Number Of Targets : 3594\n",
      "Total Number Of Usable Targets (Targets That Have Data On Both Binding & No Binding) : 2973\n"
     ]
    },
    {
     "data": {
      "application/vnd.jupyter.widget-view+json": {
       "model_id": "1712d84e7cce4ea0a9f06befd9860dec",
       "version_major": 2,
       "version_minor": 0
      },
      "text/plain": [
       "  0%|          | 0/2973 [00:00<?, ?it/s]"
      ]
     },
     "metadata": {},
     "output_type": "display_data"
    },
    {
     "data": {
      "application/vnd.jupyter.widget-view+json": {
       "model_id": "71117a46cd2b4726ab82cd3efb78ae36",
       "version_major": 2,
       "version_minor": 0
      },
      "text/plain": [
       "0it [00:00, ?it/s]"
      ]
     },
     "metadata": {},
     "output_type": "display_data"
    },
    {
     "name": "stdout",
     "output_type": "stream",
     "text": [
      "Epoch : 1 | Target Triplet : 0 | Average Loss : 0.5335914\n",
      "Epoch : 1 | Target Triplet : 10000 | Average Loss : 0.46119907\n",
      "Epoch : 1 | Target Triplet : 20000 | Average Loss : 0.4621303\n",
      "Epoch : 1 | Target Triplet : 30000 | Average Loss : 0.46003363\n",
      "Epoch : 1 | Target Triplet : 40000 | Average Loss : 0.45719236\n",
      "Epoch Time : 3702.212413549423\n"
     ]
    },
    {
     "data": {
      "application/vnd.jupyter.widget-view+json": {
       "model_id": "efb300bf54864f65aec3c4134ad6cd88",
       "version_major": 2,
       "version_minor": 0
      },
      "text/plain": [
       "0it [00:00, ?it/s]"
      ]
     },
     "metadata": {},
     "output_type": "display_data"
    },
    {
     "name": "stdout",
     "output_type": "stream",
     "text": [
      "Total Number Of Drugs : 6751\n",
      "Total Number Of Usable Drugs (Drugs That Have Data On Both Binding & No Binding) : 5045\n",
      "Total Number Of Targets : 3594\n",
      "Total Number Of Usable Targets (Targets That Have Data On Both Binding & No Binding) : 2973\n"
     ]
    },
    {
     "data": {
      "application/vnd.jupyter.widget-view+json": {
       "model_id": "c21b9936c9ca4cc6992b442f61e5f061",
       "version_major": 2,
       "version_minor": 0
      },
      "text/plain": [
       "  0%|          | 0/2973 [00:00<?, ?it/s]"
      ]
     },
     "metadata": {},
     "output_type": "display_data"
    },
    {
     "data": {
      "application/vnd.jupyter.widget-view+json": {
       "model_id": "ff3cab8a0ffe424697d7d8d5dd12c9e1",
       "version_major": 2,
       "version_minor": 0
      },
      "text/plain": [
       "0it [00:00, ?it/s]"
      ]
     },
     "metadata": {},
     "output_type": "display_data"
    },
    {
     "name": "stdout",
     "output_type": "stream",
     "text": [
      "Epoch : 2 | Target Triplet : 0 | Average Loss : 0.34592527\n",
      "Epoch : 2 | Target Triplet : 10000 | Average Loss : 0.42296866\n",
      "Epoch : 2 | Target Triplet : 20000 | Average Loss : 0.42085376\n",
      "Epoch : 2 | Target Triplet : 30000 | Average Loss : 0.4154806\n",
      "Epoch : 2 | Target Triplet : 40000 | Average Loss : 0.40962476\n",
      "Epoch Time : 3694.881034374237\n"
     ]
    },
    {
     "data": {
      "application/vnd.jupyter.widget-view+json": {
       "model_id": "f44aa6fdb27e4a46941b37f23defa92a",
       "version_major": 2,
       "version_minor": 0
      },
      "text/plain": [
       "0it [00:00, ?it/s]"
      ]
     },
     "metadata": {},
     "output_type": "display_data"
    },
    {
     "name": "stdout",
     "output_type": "stream",
     "text": [
      "Total Number Of Drugs : 6751\n",
      "Total Number Of Usable Drugs (Drugs That Have Data On Both Binding & No Binding) : 5045\n",
      "Total Number Of Targets : 3594\n",
      "Total Number Of Usable Targets (Targets That Have Data On Both Binding & No Binding) : 2973\n"
     ]
    },
    {
     "data": {
      "application/vnd.jupyter.widget-view+json": {
       "model_id": "8946416723f3423fa40532860bc8029c",
       "version_major": 2,
       "version_minor": 0
      },
      "text/plain": [
       "  0%|          | 0/2973 [00:00<?, ?it/s]"
      ]
     },
     "metadata": {},
     "output_type": "display_data"
    },
    {
     "data": {
      "application/vnd.jupyter.widget-view+json": {
       "model_id": "0a2c723588404e00ac6cffd23a773d86",
       "version_major": 2,
       "version_minor": 0
      },
      "text/plain": [
       "0it [00:00, ?it/s]"
      ]
     },
     "metadata": {},
     "output_type": "display_data"
    },
    {
     "name": "stdout",
     "output_type": "stream",
     "text": [
      "Epoch : 3 | Target Triplet : 0 | Average Loss : 0.76379704\n",
      "Epoch : 3 | Target Triplet : 10000 | Average Loss : 0.37412432\n",
      "Epoch : 3 | Target Triplet : 20000 | Average Loss : 0.36932674\n",
      "Epoch : 3 | Target Triplet : 30000 | Average Loss : 0.36395848\n",
      "Epoch : 3 | Target Triplet : 40000 | Average Loss : 0.3579379\n",
      "Epoch Time : 3682.1627264022827\n"
     ]
    },
    {
     "data": {
      "application/vnd.jupyter.widget-view+json": {
       "model_id": "7acd24808d744689b323a5070cc0dd2e",
       "version_major": 2,
       "version_minor": 0
      },
      "text/plain": [
       "0it [00:00, ?it/s]"
      ]
     },
     "metadata": {},
     "output_type": "display_data"
    },
    {
     "name": "stdout",
     "output_type": "stream",
     "text": [
      "Total Number Of Drugs : 6751\n",
      "Total Number Of Usable Drugs (Drugs That Have Data On Both Binding & No Binding) : 5045\n",
      "Total Number Of Targets : 3594\n",
      "Total Number Of Usable Targets (Targets That Have Data On Both Binding & No Binding) : 2973\n"
     ]
    },
    {
     "data": {
      "application/vnd.jupyter.widget-view+json": {
       "model_id": "4289a3036fd946bdb0cae74fc0921851",
       "version_major": 2,
       "version_minor": 0
      },
      "text/plain": [
       "  0%|          | 0/2973 [00:00<?, ?it/s]"
      ]
     },
     "metadata": {},
     "output_type": "display_data"
    },
    {
     "data": {
      "application/vnd.jupyter.widget-view+json": {
       "model_id": "bc24b381376a41a0a54cef8848f7cc38",
       "version_major": 2,
       "version_minor": 0
      },
      "text/plain": [
       "0it [00:00, ?it/s]"
      ]
     },
     "metadata": {},
     "output_type": "display_data"
    },
    {
     "name": "stdout",
     "output_type": "stream",
     "text": [
      "Epoch : 4 | Target Triplet : 0 | Average Loss : 1.0579653\n",
      "Epoch : 4 | Target Triplet : 10000 | Average Loss : 0.3226327\n",
      "Epoch : 4 | Target Triplet : 20000 | Average Loss : 0.31703585\n",
      "Epoch : 4 | Target Triplet : 30000 | Average Loss : 0.31383762\n",
      "Epoch : 4 | Target Triplet : 40000 | Average Loss : 0.3084014\n",
      "Epoch Time : 3663.602888584137\n"
     ]
    },
    {
     "data": {
      "application/vnd.jupyter.widget-view+json": {
       "model_id": "79f99348d6a94b4d9dbacd74c3f82bad",
       "version_major": 2,
       "version_minor": 0
      },
      "text/plain": [
       "0it [00:00, ?it/s]"
      ]
     },
     "metadata": {},
     "output_type": "display_data"
    },
    {
     "name": "stdout",
     "output_type": "stream",
     "text": [
      "Total Number Of Drugs : 6751\n",
      "Total Number Of Usable Drugs (Drugs That Have Data On Both Binding & No Binding) : 5045\n",
      "Total Number Of Targets : 3594\n",
      "Total Number Of Usable Targets (Targets That Have Data On Both Binding & No Binding) : 2973\n"
     ]
    },
    {
     "data": {
      "application/vnd.jupyter.widget-view+json": {
       "model_id": "11730d1a334449bfa557d309bb6c37d9",
       "version_major": 2,
       "version_minor": 0
      },
      "text/plain": [
       "  0%|          | 0/2973 [00:00<?, ?it/s]"
      ]
     },
     "metadata": {},
     "output_type": "display_data"
    },
    {
     "data": {
      "application/vnd.jupyter.widget-view+json": {
       "model_id": "d55db6470a0c4234920d296a27265728",
       "version_major": 2,
       "version_minor": 0
      },
      "text/plain": [
       "0it [00:00, ?it/s]"
      ]
     },
     "metadata": {},
     "output_type": "display_data"
    },
    {
     "name": "stdout",
     "output_type": "stream",
     "text": [
      "Epoch : 5 | Target Triplet : 0 | Average Loss : 1.1542526\n",
      "Epoch : 5 | Target Triplet : 10000 | Average Loss : 0.27633554\n",
      "Epoch : 5 | Target Triplet : 20000 | Average Loss : 0.26859608\n",
      "Epoch : 5 | Target Triplet : 30000 | Average Loss : 0.2641986\n",
      "Epoch : 5 | Target Triplet : 40000 | Average Loss : 0.2597817\n",
      "Epoch Time : 3645.786553621292\n"
     ]
    },
    {
     "data": {
      "application/vnd.jupyter.widget-view+json": {
       "model_id": "1615dbde431d440fb304786b4cb2ac89",
       "version_major": 2,
       "version_minor": 0
      },
      "text/plain": [
       "0it [00:00, ?it/s]"
      ]
     },
     "metadata": {},
     "output_type": "display_data"
    },
    {
     "name": "stdout",
     "output_type": "stream",
     "text": [
      "Total Number Of Drugs : 6751\n",
      "Total Number Of Usable Drugs (Drugs That Have Data On Both Binding & No Binding) : 5045\n",
      "Total Number Of Targets : 3594\n",
      "Total Number Of Usable Targets (Targets That Have Data On Both Binding & No Binding) : 2973\n"
     ]
    },
    {
     "data": {
      "application/vnd.jupyter.widget-view+json": {
       "model_id": "46544c6f5bc7442291136d8b889c2f7a",
       "version_major": 2,
       "version_minor": 0
      },
      "text/plain": [
       "  0%|          | 0/2973 [00:00<?, ?it/s]"
      ]
     },
     "metadata": {},
     "output_type": "display_data"
    },
    {
     "data": {
      "application/vnd.jupyter.widget-view+json": {
       "model_id": "cca1b24e489c4f52985de9bd09d20521",
       "version_major": 2,
       "version_minor": 0
      },
      "text/plain": [
       "0it [00:00, ?it/s]"
      ]
     },
     "metadata": {},
     "output_type": "display_data"
    },
    {
     "name": "stdout",
     "output_type": "stream",
     "text": [
      "Epoch : 6 | Target Triplet : 0 | Average Loss : 0.9447793\n",
      "Epoch : 6 | Target Triplet : 10000 | Average Loss : 0.23826806\n",
      "Epoch : 6 | Target Triplet : 20000 | Average Loss : 0.22791314\n",
      "Epoch : 6 | Target Triplet : 30000 | Average Loss : 0.2250398\n",
      "Epoch : 6 | Target Triplet : 40000 | Average Loss : 0.22233467\n",
      "Epoch Time : 3633.884115934372\n",
      "Total Time To Train : 25746.286742448807\n",
      "WARNING:tensorflow:Output \"Triplet_Loss_Layer\" missing from loss dictionary. We assume this was done on purpose. The fit and evaluate APIs will not be expecting any data to be passed to \"Triplet_Loss_Layer\".\n"
     ]
    },
    {
     "data": {
      "application/vnd.jupyter.widget-view+json": {
       "model_id": "386b8a89054f40899f03399f6b576ca1",
       "version_major": 2,
       "version_minor": 0
      },
      "text/plain": [
       "  0%|          | 0/7 [00:00<?, ?it/s]"
      ]
     },
     "metadata": {},
     "output_type": "display_data"
    },
    {
     "data": {
      "application/vnd.jupyter.widget-view+json": {
       "model_id": "06d4d633062b4974b26afe4cca0c3aa3",
       "version_major": 2,
       "version_minor": 0
      },
      "text/plain": [
       "0it [00:00, ?it/s]"
      ]
     },
     "metadata": {},
     "output_type": "display_data"
    },
    {
     "name": "stdout",
     "output_type": "stream",
     "text": [
      "Total Number Of Drugs : 6765\n",
      "Total Number Of Usable Drugs (Drugs That Have Data On Both Binding & No Binding) : 4695\n",
      "Total Number Of Targets : 3533\n",
      "Total Number Of Usable Targets (Targets That Have Data On Both Binding & No Binding) : 2897\n"
     ]
    },
    {
     "data": {
      "application/vnd.jupyter.widget-view+json": {
       "model_id": "f761222d630744f88517166451d744e0",
       "version_major": 2,
       "version_minor": 0
      },
      "text/plain": [
       "  0%|          | 0/2897 [00:00<?, ?it/s]"
      ]
     },
     "metadata": {},
     "output_type": "display_data"
    },
    {
     "data": {
      "application/vnd.jupyter.widget-view+json": {
       "model_id": "7ef9a848ca6541fbab4b120d7a029971",
       "version_major": 2,
       "version_minor": 0
      },
      "text/plain": [
       "0it [00:00, ?it/s]"
      ]
     },
     "metadata": {},
     "output_type": "display_data"
    },
    {
     "name": "stdout",
     "output_type": "stream",
     "text": [
      "Epoch : 0 | Target Triplet : 0 | Average Loss : 0.40996754\n",
      "Epoch : 0 | Target Triplet : 10000 | Average Loss : 0.4963722\n",
      "Epoch : 0 | Target Triplet : 20000 | Average Loss : 0.49349818\n",
      "Epoch : 0 | Target Triplet : 30000 | Average Loss : 0.4906447\n",
      "Epoch : 0 | Target Triplet : 40000 | Average Loss : 0.48786315\n",
      "Epoch Time : 3712.1016557216644\n"
     ]
    },
    {
     "data": {
      "application/vnd.jupyter.widget-view+json": {
       "model_id": "2faadc98cab048f1bcbd6fb9a150d94d",
       "version_major": 2,
       "version_minor": 0
      },
      "text/plain": [
       "0it [00:00, ?it/s]"
      ]
     },
     "metadata": {},
     "output_type": "display_data"
    },
    {
     "name": "stdout",
     "output_type": "stream",
     "text": [
      "Total Number Of Drugs : 6765\n",
      "Total Number Of Usable Drugs (Drugs That Have Data On Both Binding & No Binding) : 4695\n",
      "Total Number Of Targets : 3533\n",
      "Total Number Of Usable Targets (Targets That Have Data On Both Binding & No Binding) : 2897\n"
     ]
    },
    {
     "data": {
      "application/vnd.jupyter.widget-view+json": {
       "model_id": "4884c1ccde484a828c319a99feaaeae1",
       "version_major": 2,
       "version_minor": 0
      },
      "text/plain": [
       "  0%|          | 0/2897 [00:00<?, ?it/s]"
      ]
     },
     "metadata": {},
     "output_type": "display_data"
    },
    {
     "data": {
      "application/vnd.jupyter.widget-view+json": {
       "model_id": "3a3266a5d8e941a19e957d23e94e3892",
       "version_major": 2,
       "version_minor": 0
      },
      "text/plain": [
       "0it [00:00, ?it/s]"
      ]
     },
     "metadata": {},
     "output_type": "display_data"
    },
    {
     "name": "stdout",
     "output_type": "stream",
     "text": [
      "Epoch : 1 | Target Triplet : 0 | Average Loss : 0.20200992\n",
      "Epoch : 1 | Target Triplet : 10000 | Average Loss : 0.4705561\n",
      "Epoch : 1 | Target Triplet : 20000 | Average Loss : 0.46793824\n",
      "Epoch : 1 | Target Triplet : 30000 | Average Loss : 0.46535704\n",
      "Epoch : 1 | Target Triplet : 40000 | Average Loss : 0.46048012\n",
      "Epoch Time : 3716.6999044418335\n"
     ]
    },
    {
     "data": {
      "application/vnd.jupyter.widget-view+json": {
       "model_id": "57d14f53d2c5445aa03300a668a445f8",
       "version_major": 2,
       "version_minor": 0
      },
      "text/plain": [
       "0it [00:00, ?it/s]"
      ]
     },
     "metadata": {},
     "output_type": "display_data"
    },
    {
     "name": "stdout",
     "output_type": "stream",
     "text": [
      "Total Number Of Drugs : 6765\n",
      "Total Number Of Usable Drugs (Drugs That Have Data On Both Binding & No Binding) : 4695\n",
      "Total Number Of Targets : 3533\n",
      "Total Number Of Usable Targets (Targets That Have Data On Both Binding & No Binding) : 2897\n"
     ]
    },
    {
     "data": {
      "application/vnd.jupyter.widget-view+json": {
       "model_id": "7dadb89c653d46b1b8b7d3b443e039fb",
       "version_major": 2,
       "version_minor": 0
      },
      "text/plain": [
       "  0%|          | 0/2897 [00:00<?, ?it/s]"
      ]
     },
     "metadata": {},
     "output_type": "display_data"
    },
    {
     "data": {
      "application/vnd.jupyter.widget-view+json": {
       "model_id": "fe1ec73402d24babbc7f4027e09fde5b",
       "version_major": 2,
       "version_minor": 0
      },
      "text/plain": [
       "0it [00:00, ?it/s]"
      ]
     },
     "metadata": {},
     "output_type": "display_data"
    },
    {
     "name": "stdout",
     "output_type": "stream",
     "text": [
      "Epoch : 2 | Target Triplet : 0 | Average Loss : 0.4395693\n",
      "Epoch : 2 | Target Triplet : 10000 | Average Loss : 0.4220299\n",
      "Epoch : 2 | Target Triplet : 20000 | Average Loss : 0.41514245\n",
      "Epoch : 2 | Target Triplet : 30000 | Average Loss : 0.40555066\n",
      "Epoch : 2 | Target Triplet : 40000 | Average Loss : 0.3985644\n",
      "Epoch Time : 3703.8596143722534\n"
     ]
    },
    {
     "data": {
      "application/vnd.jupyter.widget-view+json": {
       "model_id": "30ac8ebbb9ab4425b2ddd9ce53ebcb4b",
       "version_major": 2,
       "version_minor": 0
      },
      "text/plain": [
       "0it [00:00, ?it/s]"
      ]
     },
     "metadata": {},
     "output_type": "display_data"
    },
    {
     "name": "stdout",
     "output_type": "stream",
     "text": [
      "Total Number Of Drugs : 6765\n",
      "Total Number Of Usable Drugs (Drugs That Have Data On Both Binding & No Binding) : 4695\n",
      "Total Number Of Targets : 3533\n",
      "Total Number Of Usable Targets (Targets That Have Data On Both Binding & No Binding) : 2897\n"
     ]
    },
    {
     "data": {
      "application/vnd.jupyter.widget-view+json": {
       "model_id": "a92f1ac1e69142b8a0da2ffbe97c8d13",
       "version_major": 2,
       "version_minor": 0
      },
      "text/plain": [
       "  0%|          | 0/2897 [00:00<?, ?it/s]"
      ]
     },
     "metadata": {},
     "output_type": "display_data"
    },
    {
     "data": {
      "application/vnd.jupyter.widget-view+json": {
       "model_id": "78465e20c0dc4c8c9fda6b19ceb0550b",
       "version_major": 2,
       "version_minor": 0
      },
      "text/plain": [
       "0it [00:00, ?it/s]"
      ]
     },
     "metadata": {},
     "output_type": "display_data"
    },
    {
     "name": "stdout",
     "output_type": "stream",
     "text": [
      "Epoch : 3 | Target Triplet : 0 | Average Loss : 0.0\n",
      "Epoch : 3 | Target Triplet : 10000 | Average Loss : 0.34926072\n",
      "Epoch : 3 | Target Triplet : 20000 | Average Loss : 0.34438124\n",
      "Epoch : 3 | Target Triplet : 30000 | Average Loss : 0.33898035\n",
      "Epoch : 3 | Target Triplet : 40000 | Average Loss : 0.33251932\n",
      "Epoch Time : 3684.033591747284\n"
     ]
    },
    {
     "data": {
      "application/vnd.jupyter.widget-view+json": {
       "model_id": "8cb07c439ebb45b6b626276d105ec3c5",
       "version_major": 2,
       "version_minor": 0
      },
      "text/plain": [
       "0it [00:00, ?it/s]"
      ]
     },
     "metadata": {},
     "output_type": "display_data"
    },
    {
     "name": "stdout",
     "output_type": "stream",
     "text": [
      "Total Number Of Drugs : 6765\n",
      "Total Number Of Usable Drugs (Drugs That Have Data On Both Binding & No Binding) : 4695\n",
      "Total Number Of Targets : 3533\n",
      "Total Number Of Usable Targets (Targets That Have Data On Both Binding & No Binding) : 2897\n"
     ]
    },
    {
     "data": {
      "application/vnd.jupyter.widget-view+json": {
       "model_id": "e099fb8857f9457c9edfe605dd663673",
       "version_major": 2,
       "version_minor": 0
      },
      "text/plain": [
       "  0%|          | 0/2897 [00:00<?, ?it/s]"
      ]
     },
     "metadata": {},
     "output_type": "display_data"
    },
    {
     "data": {
      "application/vnd.jupyter.widget-view+json": {
       "model_id": "258f4169441b4a57a24f2ac7d51bcd2f",
       "version_major": 2,
       "version_minor": 0
      },
      "text/plain": [
       "0it [00:00, ?it/s]"
      ]
     },
     "metadata": {},
     "output_type": "display_data"
    },
    {
     "name": "stdout",
     "output_type": "stream",
     "text": [
      "Epoch : 4 | Target Triplet : 0 | Average Loss : 0.0\n",
      "Epoch : 4 | Target Triplet : 10000 | Average Loss : 0.2846207\n"
     ]
    }
   ],
   "source": [
    "siamese_object.train_siamese_embedder(model_name = 'siamese_embed',\n",
    "                             epochs = 7,\n",
    "                             version = 0,\n",
    "                             triplets_per_epoch = 50000,\n",
    "                             learning_rate = 0.00001,\n",
    "                             desired_input_dimension = (17000, 1),\n",
    "                             output_dimension = 128,\n",
    "                             print_frequency = 10000,\n",
    "                             interactive = True)"
   ]
  },
  {
   "cell_type": "markdown",
   "metadata": {},
   "source": [
    "#### Train Decoder"
   ]
  },
  {
   "cell_type": "code",
   "execution_count": null,
   "metadata": {},
   "outputs": [],
   "source": [
    "out_dir = '/data/sars-busters-consolidated/siamese/KFUD-Final/'\n",
    "embedding_model_list = [out_dir + model for model in os.listdir(out_dir)]\n",
    "embedding_model_list"
   ]
  },
  {
   "cell_type": "code",
   "execution_count": null,
   "metadata": {
    "scrolled": true
   },
   "outputs": [],
   "source": [
    "siamese_object.train_siamese_decoder(model_name = 'siamese_model',\n",
    "                                     epochs = 30,\n",
    "                                     embedding_model_list = embedding_model_list,\n",
    "                                     drug_input_encoding_name = 'padded_encoded_fingerprint',\n",
    "                                     drug_output_embedding_name = 'normalized_embeddings',\n",
    "                                     target_input_encoding_name = 'target_aa_encoded_padded_int',\n",
    "                                     target_output_embedding_name = 'normalized_embeddings',\n",
    "                                     version = 0,\n",
    "                                     desired_input_dimension = (17000, 1),\n",
    "                                     batch_size = 16,\n",
    "                                     chunk_split_size = 500,\n",
    "                                     chunk_test_frequency = 250,\n",
    "                                     interactive = True)"
   ]
  },
  {
   "cell_type": "code",
   "execution_count": null,
   "metadata": {
    "scrolled": true
   },
   "outputs": [],
   "source": []
  },
  {
   "cell_type": "code",
   "execution_count": null,
   "metadata": {},
   "outputs": [],
   "source": []
  },
  {
   "cell_type": "code",
   "execution_count": null,
   "metadata": {},
   "outputs": [],
   "source": []
  },
  {
   "cell_type": "code",
   "execution_count": null,
   "metadata": {},
   "outputs": [],
   "source": []
  },
  {
   "cell_type": "code",
   "execution_count": null,
   "metadata": {},
   "outputs": [],
   "source": []
  },
  {
   "cell_type": "markdown",
   "metadata": {},
   "source": [
    "#### Validation "
   ]
  },
  {
   "cell_type": "code",
   "execution_count": null,
   "metadata": {
    "scrolled": false
   },
   "outputs": [],
   "source": [
    "siamese_object.get_validation_results(model_name = None,\n",
    "                   show_plots = True,\n",
    "                   plot_title = 'Validation Results - 5 Fold Cross Validation',\n",
    "                   num_cols = 2,\n",
    "                   plot_height = 1500,\n",
    "                   plot_width = 1500,\n",
    "                   write_plot_to_html = True,\n",
    "                   plot_dir = './',\n",
    "                   plot_name = './Siamese_Unseen_Targets')"
   ]
  },
  {
   "cell_type": "markdown",
   "metadata": {},
   "source": [
    "#### Test Results"
   ]
  },
  {
   "cell_type": "code",
   "execution_count": null,
   "metadata": {},
   "outputs": [],
   "source": []
  },
  {
   "cell_type": "code",
   "execution_count": null,
   "metadata": {
    "scrolled": false
   },
   "outputs": [],
   "source": [
    "siamese_object.get_test_results(model_name = None,\n",
    "                                version_number = None,\n",
    "                                optimal_validation_model = None,\n",
    "                                drug_filter_list = [],\n",
    "                                target_filter_list = [],\n",
    "                                write_plot_to_disk = True,\n",
    "                                plot_dir = './',\n",
    "                                plot_name = 'f1_curves_siamese',\n",
    "                                per_run_embedding = True,\n",
    "                                embedding_model_list = embedding_model_list,\n",
    "                                drug_input_encoding_name = 'padded_encoded_fingerprint',\n",
    "                                drug_output_embedding_name = 'normalized_embeddings',\n",
    "                                target_input_encoding_name = 'target_aa_encoded_padded_int',\n",
    "                                target_output_embedding_name = 'normalized_embeddings',\n",
    "                                desired_input_dimension = (17000, 1))"
   ]
  },
  {
   "cell_type": "code",
   "execution_count": null,
   "metadata": {},
   "outputs": [],
   "source": []
  },
  {
   "cell_type": "markdown",
   "metadata": {
    "heading_collapsed": true
   },
   "source": [
    "#### Prediction "
   ]
  },
  {
   "cell_type": "code",
   "execution_count": 50,
   "metadata": {
    "hidden": true
   },
   "outputs": [
    {
     "data": {
      "text/html": [
       "<div>\n",
       "<style scoped>\n",
       "    .dataframe tbody tr th:only-of-type {\n",
       "        vertical-align: middle;\n",
       "    }\n",
       "\n",
       "    .dataframe tbody tr th {\n",
       "        vertical-align: top;\n",
       "    }\n",
       "\n",
       "    .dataframe thead th {\n",
       "        text-align: right;\n",
       "    }\n",
       "</style>\n",
       "<table border=\"1\" class=\"dataframe\">\n",
       "  <thead>\n",
       "    <tr style=\"text-align: right;\">\n",
       "      <th></th>\n",
       "      <th>InChiKey</th>\n",
       "      <th>target_aa_code</th>\n",
       "    </tr>\n",
       "  </thead>\n",
       "  <tbody>\n",
       "    <tr>\n",
       "      <th>0</th>\n",
       "      <td>XLYOFNOQVPJJNP-UHFFFAOYSA-N</td>\n",
       "      <td>MPAAAGDGLLGEPAAPGGGGGAEDAARPAAACEGSFLPAWVSGVPR...</td>\n",
       "    </tr>\n",
       "    <tr>\n",
       "      <th>1</th>\n",
       "      <td>XLYOFNOQVPJJNP-UHFFFAOYSA-N</td>\n",
       "      <td>MGSGSSSYRPKAIYLDIDGRIQKVIFSKYCNSSDIMDLFCIATGLP...</td>\n",
       "    </tr>\n",
       "    <tr>\n",
       "      <th>2</th>\n",
       "      <td>XLYOFNOQVPJJNP-UHFFFAOYSA-N</td>\n",
       "      <td>MPTTIEREFEELDTQRRWQPLYLEIRNESHDYPHRVAKFPENRNRN...</td>\n",
       "    </tr>\n",
       "    <tr>\n",
       "      <th>3</th>\n",
       "      <td>XLYOFNOQVPJJNP-UHFFFAOYSA-N</td>\n",
       "      <td>MAAQRRSLLQSEQQPSWTDDLPLCHLSGVGSASNRSYSADGKGTES...</td>\n",
       "    </tr>\n",
       "    <tr>\n",
       "      <th>4</th>\n",
       "      <td>XLYOFNOQVPJJNP-UHFFFAOYSA-N</td>\n",
       "      <td>MARGSALPRRPLLCIPAVWAAAALLLSVSRTSGEVEVLDPNDPLGP...</td>\n",
       "    </tr>\n",
       "    <tr>\n",
       "      <th>...</th>\n",
       "      <td>...</td>\n",
       "      <td>...</td>\n",
       "    </tr>\n",
       "    <tr>\n",
       "      <th>16495</th>\n",
       "      <td>QZNPNKJXABGCRC-LFRDXLMFSA-N</td>\n",
       "      <td>MANFQEHLSCSSSPHLPFSESKTFNGLQDELTAMGNHPSPKLLEDQ...</td>\n",
       "    </tr>\n",
       "    <tr>\n",
       "      <th>16496</th>\n",
       "      <td>QZNPNKJXABGCRC-LFRDXLMFSA-N</td>\n",
       "      <td>MDSSAVITQISKEEARGPLRGKGDQKSAASQKPRSRGILHSLFCCV...</td>\n",
       "    </tr>\n",
       "    <tr>\n",
       "      <th>16497</th>\n",
       "      <td>QZNPNKJXABGCRC-LFRDXLMFSA-N</td>\n",
       "      <td>MGQQVGRVGEAPGLQQPQPRGIRGSSAARPSGRRRDPAGRTTETGF...</td>\n",
       "    </tr>\n",
       "    <tr>\n",
       "      <th>16498</th>\n",
       "      <td>QZNPNKJXABGCRC-LFRDXLMFSA-N</td>\n",
       "      <td>MGTVLSLSPSYRKATLFEDGAATVGHYTAVQNSKNAKDKNLKRHSI...</td>\n",
       "    </tr>\n",
       "    <tr>\n",
       "      <th>16499</th>\n",
       "      <td>QZNPNKJXABGCRC-LFRDXLMFSA-N</td>\n",
       "      <td>MAGWIQAQQLQGDALRQMQVLYGQHFPIEVRHYLAQWIESQPWDAI...</td>\n",
       "    </tr>\n",
       "  </tbody>\n",
       "</table>\n",
       "<p>16500 rows × 2 columns</p>\n",
       "</div>"
      ],
      "text/plain": [
       "                          InChiKey  \\\n",
       "0      XLYOFNOQVPJJNP-UHFFFAOYSA-N   \n",
       "1      XLYOFNOQVPJJNP-UHFFFAOYSA-N   \n",
       "2      XLYOFNOQVPJJNP-UHFFFAOYSA-N   \n",
       "3      XLYOFNOQVPJJNP-UHFFFAOYSA-N   \n",
       "4      XLYOFNOQVPJJNP-UHFFFAOYSA-N   \n",
       "...                            ...   \n",
       "16495  QZNPNKJXABGCRC-LFRDXLMFSA-N   \n",
       "16496  QZNPNKJXABGCRC-LFRDXLMFSA-N   \n",
       "16497  QZNPNKJXABGCRC-LFRDXLMFSA-N   \n",
       "16498  QZNPNKJXABGCRC-LFRDXLMFSA-N   \n",
       "16499  QZNPNKJXABGCRC-LFRDXLMFSA-N   \n",
       "\n",
       "                                          target_aa_code  \n",
       "0      MPAAAGDGLLGEPAAPGGGGGAEDAARPAAACEGSFLPAWVSGVPR...  \n",
       "1      MGSGSSSYRPKAIYLDIDGRIQKVIFSKYCNSSDIMDLFCIATGLP...  \n",
       "2      MPTTIEREFEELDTQRRWQPLYLEIRNESHDYPHRVAKFPENRNRN...  \n",
       "3      MAAQRRSLLQSEQQPSWTDDLPLCHLSGVGSASNRSYSADGKGTES...  \n",
       "4      MARGSALPRRPLLCIPAVWAAAALLLSVSRTSGEVEVLDPNDPLGP...  \n",
       "...                                                  ...  \n",
       "16495  MANFQEHLSCSSSPHLPFSESKTFNGLQDELTAMGNHPSPKLLEDQ...  \n",
       "16496  MDSSAVITQISKEEARGPLRGKGDQKSAASQKPRSRGILHSLFCCV...  \n",
       "16497  MGQQVGRVGEAPGLQQPQPRGIRGSSAARPSGRRRDPAGRTTETGF...  \n",
       "16498  MGTVLSLSPSYRKATLFEDGAATVGHYTAVQNSKNAKDKNLKRHSI...  \n",
       "16499  MAGWIQAQQLQGDALRQMQVLYGQHFPIEVRHYLAQWIESQPWDAI...  \n",
       "\n",
       "[16500 rows x 2 columns]"
      ]
     },
     "execution_count": 50,
     "metadata": {},
     "output_type": "execute_result"
    }
   ],
   "source": [
    "sars_targets = pd.read_csv('/data/External Predictions/SARS Sequences/20201203_Targets_Sequences_SARS_Cov2.csv')\n",
    "\n",
    "sars_d_list = []\n",
    "sars_t_list = []\n",
    "\n",
    "for d in list(drugs['InChiKey'])[:500]:\n",
    "    \n",
    "    sars_d_list = sars_d_list + ([d] * len(list(sars_targets['Sequence'])))\n",
    "    sars_t_list = sars_t_list + list(sars_targets['Sequence'])\n",
    "    \n",
    "predict_df = pd.DataFrame(list(zip(sars_d_list, sars_t_list)))\n",
    "predict_df.columns = ['InChiKey', 'target_aa_code']\n",
    "predict_df = predict_df.drop_duplicates(keep = False)\n",
    "predict_df"
   ]
  },
  {
   "cell_type": "code",
   "execution_count": 37,
   "metadata": {
    "hidden": true
   },
   "outputs": [
    {
     "data": {
      "application/vnd.jupyter.widget-view+json": {
       "model_id": "fd140f30e2f949009a262a4378b74ef0",
       "version_major": 2,
       "version_minor": 0
      },
      "text/plain": [
       "0it [00:00, ?it/s]"
      ]
     },
     "metadata": {},
     "output_type": "display_data"
    },
    {
     "data": {
      "application/vnd.jupyter.widget-view+json": {
       "model_id": "a5ed3f667bd34e11ba54738a472c0540",
       "version_major": 2,
       "version_minor": 0
      },
      "text/plain": [
       "0it [00:00, ?it/s]"
      ]
     },
     "metadata": {},
     "output_type": "display_data"
    }
   ],
   "source": [
    "vaenet_object.protvec_location = '/home/sars-busters/Mol2Vec/Results/protVec_100d_3grams.csv'\n",
    "\n",
    "sars_embeddings = vaenet_object.get_protvec_embeddings(prediction_interactions = predict_df,\n",
    "                                                       embedding_dimension = 100,\n",
    "                                                       replace_dataframe = False,\n",
    "                                                       return_normalisation_conststants = False,\n",
    "                                                       delimiter = '\\t')"
   ]
  },
  {
   "cell_type": "code",
   "execution_count": 51,
   "metadata": {
    "hidden": true,
    "scrolled": true
   },
   "outputs": [
    {
     "data": {
      "text/html": [
       "<div>\n",
       "<style scoped>\n",
       "    .dataframe tbody tr th:only-of-type {\n",
       "        vertical-align: middle;\n",
       "    }\n",
       "\n",
       "    .dataframe tbody tr th {\n",
       "        vertical-align: top;\n",
       "    }\n",
       "\n",
       "    .dataframe thead th {\n",
       "        text-align: right;\n",
       "    }\n",
       "</style>\n",
       "<table border=\"1\" class=\"dataframe\">\n",
       "  <thead>\n",
       "    <tr style=\"text-align: right;\">\n",
       "      <th></th>\n",
       "      <th>target_aa_code</th>\n",
       "      <th>normalized_embeddings</th>\n",
       "    </tr>\n",
       "  </thead>\n",
       "  <tbody>\n",
       "    <tr>\n",
       "      <th>0</th>\n",
       "      <td>MPAAAGDGLLGEPAAPGGGGGAEDAARPAAACEGSFLPAWVSGVPR...</td>\n",
       "      <td>[-18.630093000000002, -2.896413, -3.0235929999...</td>\n",
       "    </tr>\n",
       "    <tr>\n",
       "      <th>1</th>\n",
       "      <td>MGSGSSSYRPKAIYLDIDGRIQKVIFSKYCNSSDIMDLFCIATGLP...</td>\n",
       "      <td>[-12.565796999999996, -2.817929999999998, -1.3...</td>\n",
       "    </tr>\n",
       "    <tr>\n",
       "      <th>2</th>\n",
       "      <td>MPTTIEREFEELDTQRRWQPLYLEIRNESHDYPHRVAKFPENRNRN...</td>\n",
       "      <td>[-8.348188, -3.7263290000000002, -1.7557660000...</td>\n",
       "    </tr>\n",
       "    <tr>\n",
       "      <th>3</th>\n",
       "      <td>MAAQRRSLLQSEQQPSWTDDLPLCHLSGVGSASNRSYSADGKGTES...</td>\n",
       "      <td>[-12.543451000000006, -4.744106, -0.1855949999...</td>\n",
       "    </tr>\n",
       "    <tr>\n",
       "      <th>4</th>\n",
       "      <td>MARGSALPRRPLLCIPAVWAAAALLLSVSRTSGEVEVLDPNDPLGP...</td>\n",
       "      <td>[-22.265352, -4.667877, -7.002666000000003, -2...</td>\n",
       "    </tr>\n",
       "    <tr>\n",
       "      <th>5</th>\n",
       "      <td>MEAPLRPAADILRRNPQQDYELVQRVGSGTYGDVYKARNVHTGELA...</td>\n",
       "      <td>[-19.799501999999997, -2.3652699999999993, -0....</td>\n",
       "    </tr>\n",
       "    <tr>\n",
       "      <th>6</th>\n",
       "      <td>MEPPRGPPANGAEPSRAVGTVKVYLPNKQRTVVTVRDGMSVYDSLD...</td>\n",
       "      <td>[-11.395638999999996, -1.5503529999999994, -5....</td>\n",
       "    </tr>\n",
       "    <tr>\n",
       "      <th>7</th>\n",
       "      <td>MNFNTILEEILIKRSQQKKKTSPLNYKERLFVLTKSMLTYYEGRAE...</td>\n",
       "      <td>[-11.858782999999999, 0.575775, -2.40721400000...</td>\n",
       "    </tr>\n",
       "    <tr>\n",
       "      <th>8</th>\n",
       "      <td>MSEVPVARVWLVLLLLTVQVGVTAGAPWQCAPCSAEKLALCPPVSA...</td>\n",
       "      <td>[-4.9076900000000006, -1.9370750000000003, -2....</td>\n",
       "    </tr>\n",
       "    <tr>\n",
       "      <th>9</th>\n",
       "      <td>MEPSRALLGCLASAAAAAPPGEDGAGAGAEEEEEEEEEAAAAVGPG...</td>\n",
       "      <td>[-26.994364999999995, -9.187720999999994, -3.6...</td>\n",
       "    </tr>\n",
       "    <tr>\n",
       "      <th>10</th>\n",
       "      <td>MLLRSAGKLNVGTKKEDGESTAPTPRPKVLRCKCHHHCPEDSVNNI...</td>\n",
       "      <td>[-9.447166000000005, 0.2132609999999998, -5.17...</td>\n",
       "    </tr>\n",
       "    <tr>\n",
       "      <th>11</th>\n",
       "      <td>MEQVEILRKFIQRVQAMKSPDHNGEDNFARDFMRLRRLSTKYRTEK...</td>\n",
       "      <td>[-16.08634099999999, -2.3117320000000006, -4.9...</td>\n",
       "    </tr>\n",
       "    <tr>\n",
       "      <th>12</th>\n",
       "      <td>MNRYTTIRQLGDGTYGSVLLGRSIESGELIAIKKMKRKFYSWEECM...</td>\n",
       "      <td>[-15.831734999999993, -2.019243999999999, -4.4...</td>\n",
       "    </tr>\n",
       "    <tr>\n",
       "      <th>13</th>\n",
       "      <td>MPYFTRLILFLFCLMVLVESRKPKRKRWTGQVEMPKPSHLYKKNLD...</td>\n",
       "      <td>[-13.510227, 2.3935459999999997, -0.4322129999...</td>\n",
       "    </tr>\n",
       "    <tr>\n",
       "      <th>14</th>\n",
       "      <td>MVFQTRYPSWIILCYIWLLRFAHTGEAQAAKEVLLLDSKAQQTELE...</td>\n",
       "      <td>[-21.758617999999988, 3.293208000000001, -3.25...</td>\n",
       "    </tr>\n",
       "    <tr>\n",
       "      <th>15</th>\n",
       "      <td>MQKIMHISVLLSPVLWGLIFGVSSNSIQIGGLFPRGADQEYSAFRV...</td>\n",
       "      <td>[-25.64731299999997, 0.8657779999999999, 1.924...</td>\n",
       "    </tr>\n",
       "    <tr>\n",
       "      <th>16</th>\n",
       "      <td>MAGFKRGYDGKIAGLYDLDKTLGRGHFAVVKLARHVFTGEKVAVKV...</td>\n",
       "      <td>[-15.213375000000001, -1.982888999999998, -3.8...</td>\n",
       "    </tr>\n",
       "    <tr>\n",
       "      <th>17</th>\n",
       "      <td>MQTIKCVVVGDGAVGKTCLLISYTTNKFPSEYVPTVFDNYAVTVMI...</td>\n",
       "      <td>[-2.758776000000001, 0.3370019999999999, 0.741...</td>\n",
       "    </tr>\n",
       "    <tr>\n",
       "      <th>18</th>\n",
       "      <td>MALRRLGAALLLLPLLAAVEETLMDSTTATAELGWMVHPPSGWEEV...</td>\n",
       "      <td>[-23.59113799999997, -3.524356999999997, -4.48...</td>\n",
       "    </tr>\n",
       "    <tr>\n",
       "      <th>19</th>\n",
       "      <td>MEEEEGAVAKEWGTTPAGPVWTAVFDYEAAGDEELTLRRGDRVQVL...</td>\n",
       "      <td>[-26.884875999999984, -7.864138999999994, -0.7...</td>\n",
       "    </tr>\n",
       "    <tr>\n",
       "      <th>20</th>\n",
       "      <td>MLSHGAGLALWITLSLLQTGLAEPERCNFTLAESKASSHSVSIQWR...</td>\n",
       "      <td>[-45.27094700000001, -6.867417000000003, -4.76...</td>\n",
       "    </tr>\n",
       "    <tr>\n",
       "      <th>21</th>\n",
       "      <td>MKKFKRRLSLTLRGSQTIDESLSELAEQMTIEENSSKDNEPIVKNG...</td>\n",
       "      <td>[-12.167871999999997, -2.0244269999999993, -3....</td>\n",
       "    </tr>\n",
       "    <tr>\n",
       "      <th>22</th>\n",
       "      <td>MAAVFDLDLETEEGSEGEGEPELSPADACPLAELRAAGLEPVGHYE...</td>\n",
       "      <td>[-10.713069000000006, -1.1529690000000004, 0.6...</td>\n",
       "    </tr>\n",
       "    <tr>\n",
       "      <th>23</th>\n",
       "      <td>MASACGAPGPGGALGSQAPSWYHRDLSRAAAEELLARAGRDGSFLV...</td>\n",
       "      <td>[-32.090644999999995, -9.615003999999995, -6.4...</td>\n",
       "    </tr>\n",
       "    <tr>\n",
       "      <th>24</th>\n",
       "      <td>MPCVQAQYGSSPQGASPASQSYSYHSSGEYSSDFLTPEFVKFSMDL...</td>\n",
       "      <td>[-11.943824000000001, -4.009759000000001, -4.5...</td>\n",
       "    </tr>\n",
       "    <tr>\n",
       "      <th>25</th>\n",
       "      <td>MDQREILQKFLDEAQSKKITKEEFANEFLKLKRQSTKYKADKTYPT...</td>\n",
       "      <td>[-16.66697, -5.228786000000003, -6.07362999999...</td>\n",
       "    </tr>\n",
       "    <tr>\n",
       "      <th>26</th>\n",
       "      <td>MAEPSGSPVHVQLPQQAAPVTAAAAAAPAAATAAPAPAAPAAPAPA...</td>\n",
       "      <td>[-12.948495000000007, -2.5043830000000002, 1.7...</td>\n",
       "    </tr>\n",
       "    <tr>\n",
       "      <th>27</th>\n",
       "      <td>MARARPPPPPSPPPGLLPLLPPLLLLPLLLLPAGCRALEETLMDTK...</td>\n",
       "      <td>[-22.386668000000007, -7.856892000000007, -3.1...</td>\n",
       "    </tr>\n",
       "    <tr>\n",
       "      <th>28</th>\n",
       "      <td>MANFQEHLSCSSSPHLPFSESKTFNGLQDELTAMGNHPSPKLLEDQ...</td>\n",
       "      <td>[-20.433501999999994, -8.203568, -5.4497729999...</td>\n",
       "    </tr>\n",
       "    <tr>\n",
       "      <th>29</th>\n",
       "      <td>MDSSAVITQISKEEARGPLRGKGDQKSAASQKPRSRGILHSLFCCV...</td>\n",
       "      <td>[-5.103651999999999, -2.197608, 0.233147000000...</td>\n",
       "    </tr>\n",
       "    <tr>\n",
       "      <th>30</th>\n",
       "      <td>MGQQVGRVGEAPGLQQPQPRGIRGSSAARPSGRRRDPAGRTTETGF...</td>\n",
       "      <td>[-27.692130000000017, -6.394438, -1.6072479999...</td>\n",
       "    </tr>\n",
       "    <tr>\n",
       "      <th>31</th>\n",
       "      <td>MGTVLSLSPSYRKATLFEDGAATVGHYTAVQNSKNAKDKNLKRHSI...</td>\n",
       "      <td>[-4.163112000000001, -2.078107999999999, -4.40...</td>\n",
       "    </tr>\n",
       "    <tr>\n",
       "      <th>32</th>\n",
       "      <td>MAGWIQAQQLQGDALRQMQVLYGQHFPIEVRHYLAQWIESQPWDAI...</td>\n",
       "      <td>[-15.41287099999999, -3.8853720000000007, -0.6...</td>\n",
       "    </tr>\n",
       "  </tbody>\n",
       "</table>\n",
       "</div>"
      ],
      "text/plain": [
       "                                       target_aa_code  \\\n",
       "0   MPAAAGDGLLGEPAAPGGGGGAEDAARPAAACEGSFLPAWVSGVPR...   \n",
       "1   MGSGSSSYRPKAIYLDIDGRIQKVIFSKYCNSSDIMDLFCIATGLP...   \n",
       "2   MPTTIEREFEELDTQRRWQPLYLEIRNESHDYPHRVAKFPENRNRN...   \n",
       "3   MAAQRRSLLQSEQQPSWTDDLPLCHLSGVGSASNRSYSADGKGTES...   \n",
       "4   MARGSALPRRPLLCIPAVWAAAALLLSVSRTSGEVEVLDPNDPLGP...   \n",
       "5   MEAPLRPAADILRRNPQQDYELVQRVGSGTYGDVYKARNVHTGELA...   \n",
       "6   MEPPRGPPANGAEPSRAVGTVKVYLPNKQRTVVTVRDGMSVYDSLD...   \n",
       "7   MNFNTILEEILIKRSQQKKKTSPLNYKERLFVLTKSMLTYYEGRAE...   \n",
       "8   MSEVPVARVWLVLLLLTVQVGVTAGAPWQCAPCSAEKLALCPPVSA...   \n",
       "9   MEPSRALLGCLASAAAAAPPGEDGAGAGAEEEEEEEEEAAAAVGPG...   \n",
       "10  MLLRSAGKLNVGTKKEDGESTAPTPRPKVLRCKCHHHCPEDSVNNI...   \n",
       "11  MEQVEILRKFIQRVQAMKSPDHNGEDNFARDFMRLRRLSTKYRTEK...   \n",
       "12  MNRYTTIRQLGDGTYGSVLLGRSIESGELIAIKKMKRKFYSWEECM...   \n",
       "13  MPYFTRLILFLFCLMVLVESRKPKRKRWTGQVEMPKPSHLYKKNLD...   \n",
       "14  MVFQTRYPSWIILCYIWLLRFAHTGEAQAAKEVLLLDSKAQQTELE...   \n",
       "15  MQKIMHISVLLSPVLWGLIFGVSSNSIQIGGLFPRGADQEYSAFRV...   \n",
       "16  MAGFKRGYDGKIAGLYDLDKTLGRGHFAVVKLARHVFTGEKVAVKV...   \n",
       "17  MQTIKCVVVGDGAVGKTCLLISYTTNKFPSEYVPTVFDNYAVTVMI...   \n",
       "18  MALRRLGAALLLLPLLAAVEETLMDSTTATAELGWMVHPPSGWEEV...   \n",
       "19  MEEEEGAVAKEWGTTPAGPVWTAVFDYEAAGDEELTLRRGDRVQVL...   \n",
       "20  MLSHGAGLALWITLSLLQTGLAEPERCNFTLAESKASSHSVSIQWR...   \n",
       "21  MKKFKRRLSLTLRGSQTIDESLSELAEQMTIEENSSKDNEPIVKNG...   \n",
       "22  MAAVFDLDLETEEGSEGEGEPELSPADACPLAELRAAGLEPVGHYE...   \n",
       "23  MASACGAPGPGGALGSQAPSWYHRDLSRAAAEELLARAGRDGSFLV...   \n",
       "24  MPCVQAQYGSSPQGASPASQSYSYHSSGEYSSDFLTPEFVKFSMDL...   \n",
       "25  MDQREILQKFLDEAQSKKITKEEFANEFLKLKRQSTKYKADKTYPT...   \n",
       "26  MAEPSGSPVHVQLPQQAAPVTAAAAAAPAAATAAPAPAAPAAPAPA...   \n",
       "27  MARARPPPPPSPPPGLLPLLPPLLLLPLLLLPAGCRALEETLMDTK...   \n",
       "28  MANFQEHLSCSSSPHLPFSESKTFNGLQDELTAMGNHPSPKLLEDQ...   \n",
       "29  MDSSAVITQISKEEARGPLRGKGDQKSAASQKPRSRGILHSLFCCV...   \n",
       "30  MGQQVGRVGEAPGLQQPQPRGIRGSSAARPSGRRRDPAGRTTETGF...   \n",
       "31  MGTVLSLSPSYRKATLFEDGAATVGHYTAVQNSKNAKDKNLKRHSI...   \n",
       "32  MAGWIQAQQLQGDALRQMQVLYGQHFPIEVRHYLAQWIESQPWDAI...   \n",
       "\n",
       "                                normalized_embeddings  \n",
       "0   [-18.630093000000002, -2.896413, -3.0235929999...  \n",
       "1   [-12.565796999999996, -2.817929999999998, -1.3...  \n",
       "2   [-8.348188, -3.7263290000000002, -1.7557660000...  \n",
       "3   [-12.543451000000006, -4.744106, -0.1855949999...  \n",
       "4   [-22.265352, -4.667877, -7.002666000000003, -2...  \n",
       "5   [-19.799501999999997, -2.3652699999999993, -0....  \n",
       "6   [-11.395638999999996, -1.5503529999999994, -5....  \n",
       "7   [-11.858782999999999, 0.575775, -2.40721400000...  \n",
       "8   [-4.9076900000000006, -1.9370750000000003, -2....  \n",
       "9   [-26.994364999999995, -9.187720999999994, -3.6...  \n",
       "10  [-9.447166000000005, 0.2132609999999998, -5.17...  \n",
       "11  [-16.08634099999999, -2.3117320000000006, -4.9...  \n",
       "12  [-15.831734999999993, -2.019243999999999, -4.4...  \n",
       "13  [-13.510227, 2.3935459999999997, -0.4322129999...  \n",
       "14  [-21.758617999999988, 3.293208000000001, -3.25...  \n",
       "15  [-25.64731299999997, 0.8657779999999999, 1.924...  \n",
       "16  [-15.213375000000001, -1.982888999999998, -3.8...  \n",
       "17  [-2.758776000000001, 0.3370019999999999, 0.741...  \n",
       "18  [-23.59113799999997, -3.524356999999997, -4.48...  \n",
       "19  [-26.884875999999984, -7.864138999999994, -0.7...  \n",
       "20  [-45.27094700000001, -6.867417000000003, -4.76...  \n",
       "21  [-12.167871999999997, -2.0244269999999993, -3....  \n",
       "22  [-10.713069000000006, -1.1529690000000004, 0.6...  \n",
       "23  [-32.090644999999995, -9.615003999999995, -6.4...  \n",
       "24  [-11.943824000000001, -4.009759000000001, -4.5...  \n",
       "25  [-16.66697, -5.228786000000003, -6.07362999999...  \n",
       "26  [-12.948495000000007, -2.5043830000000002, 1.7...  \n",
       "27  [-22.386668000000007, -7.856892000000007, -3.1...  \n",
       "28  [-20.433501999999994, -8.203568, -5.4497729999...  \n",
       "29  [-5.103651999999999, -2.197608, 0.233147000000...  \n",
       "30  [-27.692130000000017, -6.394438, -1.6072479999...  \n",
       "31  [-4.163112000000001, -2.078107999999999, -4.40...  \n",
       "32  [-15.41287099999999, -3.8853720000000007, -0.6...  "
      ]
     },
     "execution_count": 51,
     "metadata": {},
     "output_type": "execute_result"
    }
   ],
   "source": [
    "sars_embeddings"
   ]
  },
  {
   "cell_type": "code",
   "execution_count": 53,
   "metadata": {
    "hidden": true,
    "scrolled": true
   },
   "outputs": [
    {
     "name": "stdout",
     "output_type": "stream",
     "text": [
      "Testing on model :  /data/sars-busters-consolidated/test_remove_if_needed/Run_0/vaenet_ds2_5_fold_2x_v00_run0_06-18_17h58_epoch_0_idx_0.model\n",
      "filtered_nodes_test :  (16500, 2)\n",
      "Drugs :  500\n",
      "Targets :  33\n",
      "pred_drugs_dataframe :  (629, 2)\n",
      "X0, X1 :  (16500, 100) (16500, 200)\n",
      "unseen_targets_pred :  (16500,)\n",
      "list :  16500\n"
     ]
    }
   ],
   "source": [
    "vaenet_object.get_fold_averaged_prediction_results(model_name = None,\n",
    "                                                   version_number = None,\n",
    "                                                   model_paths = [],\n",
    "                                                   optimal_validation_model = None,\n",
    "                                                   test_sets = [predict_df],\n",
    "                                                   get_drug_embed = False,\n",
    "                                                   pred_drug_embeddings = None,\n",
    "                                                   drug_embed_normalized = False,\n",
    "                                                   get_target_embed = True,\n",
    "                                                   pred_target_embeddings = sars_embeddings,\n",
    "                                                   target_embed_normalized = False,\n",
    "                                                   drug_filter_list = [],\n",
    "                                                   target_filter_list = [],\n",
    "                                                   return_dataframes = False)\n"
   ]
  },
  {
   "cell_type": "code",
   "execution_count": null,
   "metadata": {
    "hidden": true
   },
   "outputs": [],
   "source": []
  },
  {
   "cell_type": "code",
   "execution_count": null,
   "metadata": {
    "hidden": true
   },
   "outputs": [],
   "source": []
  }
 ],
 "metadata": {
  "kernelspec": {
   "display_name": "Python 3",
   "language": "python",
   "name": "python3"
  },
  "language_info": {
   "codemirror_mode": {
    "name": "ipython",
    "version": 3
   },
   "file_extension": ".py",
   "mimetype": "text/x-python",
   "name": "python",
   "nbconvert_exporter": "python",
   "pygments_lexer": "ipython3",
   "version": "3.6.6"
  },
  "toc": {
   "base_numbering": 1,
   "nav_menu": {},
   "number_sections": true,
   "sideBar": true,
   "skip_h1_title": false,
   "title_cell": "Table of Contents",
   "title_sidebar": "Contents",
   "toc_cell": false,
   "toc_position": {},
   "toc_section_display": true,
   "toc_window_display": false
  }
 },
 "nbformat": 4,
 "nbformat_minor": 4
}
