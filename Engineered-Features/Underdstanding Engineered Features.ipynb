{
 "cells": [
  {
   "cell_type": "markdown",
   "metadata": {},
   "source": [
    "### Imports"
   ]
  },
  {
   "cell_type": "code",
   "execution_count": 1,
   "metadata": {},
   "outputs": [
    {
     "name": "stderr",
     "output_type": "stream",
     "text": [
      "Traceback (most recent call last):\n",
      "  File \"/miniconda/lib/python3.6/site-packages/rdkit/Chem/PandasTools.py\", line 130, in <module>\n",
      "    if 'display.width' in pd.core.config._registered_options:\n",
      "AttributeError: module 'pandas.core' has no attribute 'config'\n"
     ]
    },
    {
     "name": "stdout",
     "output_type": "stream",
     "text": [
      "INFO: Pandarallel will run on 8 workers.\n",
      "INFO: Pandarallel will use Memory file system to transfer data between the main process and workers.\n"
     ]
    }
   ],
   "source": [
    "import importlib\n",
    "from AIBind.import_modules import *\n",
    "from AIBind import AIBind\n",
    "\n",
    "from sklearn.decomposition import NMF, non_negative_factorization\n"
   ]
  },
  {
   "cell_type": "markdown",
   "metadata": {},
   "source": [
    "### Embedding Features"
   ]
  },
  {
   "cell_type": "code",
   "execution_count": 2,
   "metadata": {},
   "outputs": [],
   "source": [
    "with open('/data/sars-busters/Mol2Vec/chemicals_01_w_embed.pkl', 'rb') as file: \n",
    "    drugs = pkl.load(file)\n",
    "\n",
    "with open('/data/sars-busters/Mol2Vec/amino_01_w_embed.pkl','rb') as file: \n",
    "    targets = pkl.load(file)\n",
    "    \n",
    "targets = targets.rename(columns = {'Label' : 'target_aa_code'})\n",
    "drugs = drugs.rename(columns = {'Label' : 'InChiKey'})"
   ]
  },
  {
   "cell_type": "code",
   "execution_count": 3,
   "metadata": {},
   "outputs": [],
   "source": [
    "drugs_all = drugs[['InChiKey', 'normalized_embeddings']]\n",
    "targets_all = targets[['target_aa_code', 'normalized_embeddings']]"
   ]
  },
  {
   "cell_type": "code",
   "execution_count": 4,
   "metadata": {},
   "outputs": [],
   "source": [
    "drugs_all = drugs_all.rename(columns = {'normalized_embeddings' : 'normalized_mol2vec_embeddings'})\n",
    "targets_all = targets_all.rename(columns = {'normalized_embeddings' : 'normalized_protvec_embeddings'})"
   ]
  },
  {
   "cell_type": "markdown",
   "metadata": {},
   "source": [
    "### Create Trivial Features"
   ]
  },
  {
   "cell_type": "code",
   "execution_count": 5,
   "metadata": {},
   "outputs": [],
   "source": [
    "## Trivial features function for ligands \n",
    "\n",
    "from rdkit.Chem import Descriptors\n",
    "from collections import defaultdict\n",
    "from rdkit.Chem import FindMolChiralCenters\n",
    "\n",
    "boron = 5\n",
    "carbon = 6\n",
    "nitrogen = 7 \n",
    "oxygen = 8 \n",
    "fluorine = 9 \n",
    "phosphorus = 15\n",
    "sulfur = 16\n",
    "chlorine = 17\n",
    "bromine = 35 \n",
    "iodine = 53 \n",
    "\n",
    "elements = [boron, carbon, nitrogen, oxygen, fluorine, phosphorus, sulfur, \\\n",
    "           chlorine, bromine, iodine]\n",
    "\n",
    "def calculate_simple_fingerprints(x):\n",
    "    \"\"\"compute trivial fingerprints based on RDKit mol object\"\"\"\n",
    "    \n",
    "    atom_count = defaultdict(int)\n",
    "    for element in elements:\n",
    "        atom_count[element] = 0\n",
    "    for atom in x.GetAtoms():\n",
    "        atom_count[atom.GetAtomicNum()]+=1\n",
    "\n",
    "    num_atoms = x.GetNumAtoms()\n",
    "    count_boron = atom_count[boron]\n",
    "    count_carbon = atom_count[carbon]\n",
    "    count_nitrogen = atom_count[nitrogen] \n",
    "    count_oxygen = atom_count[oxygen]\n",
    "    count_fluorine = atom_count[fluorine] \n",
    "    count_phosphorus = atom_count[phosphorus]\n",
    "    count_sulfur = atom_count[sulfur]\n",
    "    count_chlorine = atom_count[chlorine]\n",
    "    count_bromine = atom_count[bromine]\n",
    "    count_iodine = atom_count[iodine]\n",
    "    heavy_count = Descriptors.HeavyAtomCount(x)\n",
    "    mw = Descriptors.MolWt(x)\n",
    "    hacc = Descriptors.NumHAcceptors(x)\n",
    "    hdon = Descriptors.NumHDonors(x)\n",
    "    logp = Descriptors.MolLogP(x)\n",
    "    numrings = Descriptors.NumAromaticRings(x) + Descriptors.NumSaturatedRings(x) + \\\n",
    "    Descriptors.NumAliphaticRings(x)\n",
    "    num_chiral = len(FindMolChiralCenters(x))\n",
    "    \n",
    "    return [num_atoms,\n",
    "    count_boron,\n",
    "    count_carbon,\n",
    "    count_nitrogen,\n",
    "    count_oxygen,\n",
    "    count_fluorine, \n",
    "    count_phosphorus,\n",
    "    count_sulfur,\n",
    "    count_chlorine,\n",
    "    count_bromine,\n",
    "    count_iodine,\n",
    "    heavy_count,\n",
    "    mw,\n",
    "    hacc,\n",
    "    hdon,\n",
    "    logp,\n",
    "    numrings,\n",
    "    num_chiral]"
   ]
  },
  {
   "cell_type": "code",
   "execution_count": 6,
   "metadata": {},
   "outputs": [],
   "source": [
    "## Trivial features function for proteins\n",
    "\n",
    "aas = ['G', 'P', 'A', 'V', 'L', 'I', 'M', 'C', 'F', 'Y', 'W', 'H', 'K', \\\n",
    "      'R', 'Q', 'N', 'E', 'D', 'S', 'T']\n",
    "\n",
    "aa_weight = {'A':89.1, 'R':174.2, 'N':132.1, 'D':133.1, 'C':121.2, \\\n",
    "             'E':147.1, 'Q':146.2, 'G':75.1, 'H':155.2, 'I':131.2, \\\n",
    "             'L':131.2, 'K':146.2, 'M':149.2, 'F':165.2, 'P':115.1, \\\n",
    "             'S':105.1, 'T':119.1, 'W':204.2, 'Y':181.2, 'V':117.1}\n",
    "\n",
    "def trivial_protein_embedding(x):\n",
    "    aa_dict = defaultdict(int)\n",
    "    for aa in aas:\n",
    "        aa_dict[aa] = 0\n",
    "    for aa in x:\n",
    "        aa_dict[aa]+=1\n",
    "    aa_dict = {k:v for k,v in aa_dict.items() if k in aas}\n",
    "    aa_counts = [v for k,v in aa_dict.items()]\n",
    "    length = len(x)\n",
    "    mw = 0\n",
    "    for key in aa_dict.keys():\n",
    "        mw += aa_dict[key]*aa_weight[key]\n",
    "        mw = round(mw/1000)\n",
    "        \n",
    "    aa_counts.append(length)\n",
    "    aa_counts.append(mw)\n",
    "\n",
    "    return aa_counts #, aa_dict"
   ]
  },
  {
   "cell_type": "code",
   "execution_count": 7,
   "metadata": {},
   "outputs": [
    {
     "data": {
      "application/vnd.jupyter.widget-view+json": {
       "model_id": "b5dce41b71624b45b8141ec13e4d6173",
       "version_major": 2,
       "version_minor": 0
      },
      "text/plain": [
       "0it [00:00, ?it/s]"
      ]
     },
     "metadata": {},
     "output_type": "display_data"
    }
   ],
   "source": [
    "normalized_trivial_features_list = []\n",
    "\n",
    "for index, row in tqdm(drugs.iterrows()):\n",
    "    smile = row['SMILE']\n",
    "    m = Chem.MolFromSmiles(smile)\n",
    "    trivial_f = calculate_simple_fingerprints(m)\n",
    "    mean_f = np.mean(trivial_f)\n",
    "    max_f = max(trivial_f)\n",
    "    min_f = min(trivial_f)\n",
    "    normalized_trivial_feature_val = [(x-mean_f)/(max_f-min_f) for x in trivial_f]\n",
    "    normalized_trivial_features_list.append(normalized_trivial_feature_val)\n",
    "    \n",
    "drugs_all['normalized_engineered_embeddings'] = normalized_trivial_features_list"
   ]
  },
  {
   "cell_type": "code",
   "execution_count": 8,
   "metadata": {},
   "outputs": [
    {
     "data": {
      "application/vnd.jupyter.widget-view+json": {
       "model_id": "b0635a10569348f68e41ecf713956142",
       "version_major": 2,
       "version_minor": 0
      },
      "text/plain": [
       "0it [00:00, ?it/s]"
      ]
     },
     "metadata": {},
     "output_type": "display_data"
    }
   ],
   "source": [
    "## Adding trivial features \n",
    "\n",
    "normalized_trivial_features_list = []\n",
    "\n",
    "for index, row in tqdm(targets.iterrows()):\n",
    "    aa_seq = row['target_aa_code']\n",
    "    trivial_f = trivial_protein_embedding(aa_seq)\n",
    "    mean_f = np.mean(trivial_f)\n",
    "    max_f = max(trivial_f)\n",
    "    min_f = min(trivial_f)\n",
    "    normalized_trivial_feature_val = [(x-mean_f)/(max_f-min_f) for x in trivial_f]\n",
    "    normalized_trivial_features_list.append(normalized_trivial_feature_val)\n",
    "    \n",
    "targets_all['normalized_engineered_embeddings'] = normalized_trivial_features_list"
   ]
  },
  {
   "cell_type": "code",
   "execution_count": 9,
   "metadata": {},
   "outputs": [
    {
     "data": {
      "text/html": [
       "<div>\n",
       "<style scoped>\n",
       "    .dataframe tbody tr th:only-of-type {\n",
       "        vertical-align: middle;\n",
       "    }\n",
       "\n",
       "    .dataframe tbody tr th {\n",
       "        vertical-align: top;\n",
       "    }\n",
       "\n",
       "    .dataframe thead th {\n",
       "        text-align: right;\n",
       "    }\n",
       "</style>\n",
       "<table border=\"1\" class=\"dataframe\">\n",
       "  <thead>\n",
       "    <tr style=\"text-align: right;\">\n",
       "      <th></th>\n",
       "      <th>InChiKey</th>\n",
       "      <th>normalized_mol2vec_embeddings</th>\n",
       "      <th>normalized_engineered_embeddings</th>\n",
       "    </tr>\n",
       "  </thead>\n",
       "  <tbody>\n",
       "    <tr>\n",
       "      <th>0</th>\n",
       "      <td>IDYZIJYBMGIQMJ-UHFFFAOYSA-N</td>\n",
       "      <td>[0.046945865584358516, -0.0073046440436886585,...</td>\n",
       "      <td>[0.002083428722862526, -0.06971887144821423, -...</td>\n",
       "    </tr>\n",
       "    <tr>\n",
       "      <th>1</th>\n",
       "      <td>JGWRKYUXBBNENE-UHFFFAOYSA-N</td>\n",
       "      <td>[0.05822404419851304, -0.015731539907360922, -...</td>\n",
       "      <td>[0.0002592810654616645, -0.06914826568889783, ...</td>\n",
       "    </tr>\n",
       "    <tr>\n",
       "      <th>2</th>\n",
       "      <td>RPWFJAMTCNSJKK-UHFFFAOYSA-N</td>\n",
       "      <td>[-0.03356457637381586, 0.043600946319155114, 0...</td>\n",
       "      <td>[0.001259834221712702, -0.06965293125795306, -...</td>\n",
       "    </tr>\n",
       "    <tr>\n",
       "      <th>3</th>\n",
       "      <td>HUJXISJLAPAFBO-IBGZPJMESA-N</td>\n",
       "      <td>[-0.023838143940910675, 0.03675088732712517, 0...</td>\n",
       "      <td>[-0.003653950706194961, -0.0684932303417982, -...</td>\n",
       "    </tr>\n",
       "    <tr>\n",
       "      <th>4</th>\n",
       "      <td>HDWIHXWEUNVBIY-UHFFFAOYSA-N</td>\n",
       "      <td>[0.06373348150289714, 0.020872443054872104, -0...</td>\n",
       "      <td>[-0.003829283816327702, -0.0678980794653446, -...</td>\n",
       "    </tr>\n",
       "    <tr>\n",
       "      <th>...</th>\n",
       "      <td>...</td>\n",
       "      <td>...</td>\n",
       "      <td>...</td>\n",
       "    </tr>\n",
       "    <tr>\n",
       "      <th>8091</th>\n",
       "      <td>IQFWYNFDWRYSRA-OEQWSMLSSA-N</td>\n",
       "      <td>[-0.0304938629648042, -0.020280360175679968, 0...</td>\n",
       "      <td>[-0.0060360179294294426, -0.0691527050904557, ...</td>\n",
       "    </tr>\n",
       "    <tr>\n",
       "      <th>8092</th>\n",
       "      <td>OHCQJHSOBUTRHG-HBQIERAFNA-N</td>\n",
       "      <td>[-0.07626941735218096, -0.0008359103764167523,...</td>\n",
       "      <td>[-0.00013897448764579144, -0.07078332403588733...</td>\n",
       "    </tr>\n",
       "    <tr>\n",
       "      <th>8093</th>\n",
       "      <td>XJNKUWDMCBZMTG-OAHLLOKOSA-N</td>\n",
       "      <td>[0.05795230608701393, -0.00490990178059902, -0...</td>\n",
       "      <td>[0.003567833803390423, -0.07013893019009285, -...</td>\n",
       "    </tr>\n",
       "    <tr>\n",
       "      <th>8094</th>\n",
       "      <td>HRRHGLKNOJHIGY-UHFFFAOYSA-N</td>\n",
       "      <td>[0.002158125038229826, 0.0005728803684520446, ...</td>\n",
       "      <td>[0.0008768471657724836, -0.07007382083476675, ...</td>\n",
       "    </tr>\n",
       "    <tr>\n",
       "      <th>8095</th>\n",
       "      <td>KYNFOMQIXZUKRK-UHFFFAOYSA-N</td>\n",
       "      <td>[-0.025375728825994988, -0.024973187840824283,...</td>\n",
       "      <td>[-0.014625182957046862, -0.06648702301513212, ...</td>\n",
       "    </tr>\n",
       "  </tbody>\n",
       "</table>\n",
       "<p>8096 rows × 3 columns</p>\n",
       "</div>"
      ],
      "text/plain": [
       "                         InChiKey  \\\n",
       "0     IDYZIJYBMGIQMJ-UHFFFAOYSA-N   \n",
       "1     JGWRKYUXBBNENE-UHFFFAOYSA-N   \n",
       "2     RPWFJAMTCNSJKK-UHFFFAOYSA-N   \n",
       "3     HUJXISJLAPAFBO-IBGZPJMESA-N   \n",
       "4     HDWIHXWEUNVBIY-UHFFFAOYSA-N   \n",
       "...                           ...   \n",
       "8091  IQFWYNFDWRYSRA-OEQWSMLSSA-N   \n",
       "8092  OHCQJHSOBUTRHG-HBQIERAFNA-N   \n",
       "8093  XJNKUWDMCBZMTG-OAHLLOKOSA-N   \n",
       "8094  HRRHGLKNOJHIGY-UHFFFAOYSA-N   \n",
       "8095  KYNFOMQIXZUKRK-UHFFFAOYSA-N   \n",
       "\n",
       "                          normalized_mol2vec_embeddings  \\\n",
       "0     [0.046945865584358516, -0.0073046440436886585,...   \n",
       "1     [0.05822404419851304, -0.015731539907360922, -...   \n",
       "2     [-0.03356457637381586, 0.043600946319155114, 0...   \n",
       "3     [-0.023838143940910675, 0.03675088732712517, 0...   \n",
       "4     [0.06373348150289714, 0.020872443054872104, -0...   \n",
       "...                                                 ...   \n",
       "8091  [-0.0304938629648042, -0.020280360175679968, 0...   \n",
       "8092  [-0.07626941735218096, -0.0008359103764167523,...   \n",
       "8093  [0.05795230608701393, -0.00490990178059902, -0...   \n",
       "8094  [0.002158125038229826, 0.0005728803684520446, ...   \n",
       "8095  [-0.025375728825994988, -0.024973187840824283,...   \n",
       "\n",
       "                       normalized_engineered_embeddings  \n",
       "0     [0.002083428722862526, -0.06971887144821423, -...  \n",
       "1     [0.0002592810654616645, -0.06914826568889783, ...  \n",
       "2     [0.001259834221712702, -0.06965293125795306, -...  \n",
       "3     [-0.003653950706194961, -0.0684932303417982, -...  \n",
       "4     [-0.003829283816327702, -0.0678980794653446, -...  \n",
       "...                                                 ...  \n",
       "8091  [-0.0060360179294294426, -0.0691527050904557, ...  \n",
       "8092  [-0.00013897448764579144, -0.07078332403588733...  \n",
       "8093  [0.003567833803390423, -0.07013893019009285, -...  \n",
       "8094  [0.0008768471657724836, -0.07007382083476675, ...  \n",
       "8095  [-0.014625182957046862, -0.06648702301513212, ...  \n",
       "\n",
       "[8096 rows x 3 columns]"
      ]
     },
     "execution_count": 9,
     "metadata": {},
     "output_type": "execute_result"
    }
   ],
   "source": [
    "drugs_all"
   ]
  },
  {
   "cell_type": "code",
   "execution_count": 10,
   "metadata": {},
   "outputs": [
    {
     "data": {
      "text/html": [
       "<div>\n",
       "<style scoped>\n",
       "    .dataframe tbody tr th:only-of-type {\n",
       "        vertical-align: middle;\n",
       "    }\n",
       "\n",
       "    .dataframe tbody tr th {\n",
       "        vertical-align: top;\n",
       "    }\n",
       "\n",
       "    .dataframe thead th {\n",
       "        text-align: right;\n",
       "    }\n",
       "</style>\n",
       "<table border=\"1\" class=\"dataframe\">\n",
       "  <thead>\n",
       "    <tr style=\"text-align: right;\">\n",
       "      <th></th>\n",
       "      <th>target_aa_code</th>\n",
       "      <th>normalized_protvec_embeddings</th>\n",
       "      <th>normalized_engineered_embeddings</th>\n",
       "    </tr>\n",
       "  </thead>\n",
       "  <tbody>\n",
       "    <tr>\n",
       "      <th>0</th>\n",
       "      <td>MEVKVGLAPMAGYTDSAFRTLAFEWGADFAFSEMVSAKGFLMNSQK...</td>\n",
       "      <td>[0.16142722858235953, 0.05788021714049273, 0.0...</td>\n",
       "      <td>[-0.01922503725782414, -0.06184798807749627, -...</td>\n",
       "    </tr>\n",
       "    <tr>\n",
       "      <th>1</th>\n",
       "      <td>MACLLRSFQRISAGVFFLALWGMVVGDKLLVVPQDGSHWLSMKDIV...</td>\n",
       "      <td>[-0.014042909752763736, 0.05416104231672811, -...</td>\n",
       "      <td>[-0.036862003780718335, -0.04064272211720227, ...</td>\n",
       "    </tr>\n",
       "    <tr>\n",
       "      <th>2</th>\n",
       "      <td>MHKAGLLGLCARAWNSVRMASSGMTRRDPLANKVALVTASTDGIGF...</td>\n",
       "      <td>[0.16188192243184374, 0.010292618059286865, -0...</td>\n",
       "      <td>[-0.0013175230566534902, -0.05204216073781291,...</td>\n",
       "    </tr>\n",
       "    <tr>\n",
       "      <th>3</th>\n",
       "      <td>MERNKLARQIIDTCLEMTRLGLNQGTAGNVSVRYQDGMLITPTGIP...</td>\n",
       "      <td>[0.15672469604957617, 0.030461802376601822, -0...</td>\n",
       "      <td>[-0.031156636790439608, -0.049935979513444306,...</td>\n",
       "    </tr>\n",
       "    <tr>\n",
       "      <th>4</th>\n",
       "      <td>MRPPWYPLHTPSLASPLLFLLLSLLGGGARAEGREDPQLLVRVRGG...</td>\n",
       "      <td>[-0.12714127577230466, -0.005709447807154971, ...</td>\n",
       "      <td>[-0.0031989287308436224, -0.009745573575360808...</td>\n",
       "    </tr>\n",
       "    <tr>\n",
       "      <th>...</th>\n",
       "      <td>...</td>\n",
       "      <td>...</td>\n",
       "      <td>...</td>\n",
       "    </tr>\n",
       "    <tr>\n",
       "      <th>5099</th>\n",
       "      <td>MANVDEAILKRVKGWAPYVDAKLGFRNHWYPVMFSKEINEGEPKTL...</td>\n",
       "      <td>[0.16276312300976226, 0.007141506928588683, 0....</td>\n",
       "      <td>[-0.010471204188481676, -0.03664921465968586, ...</td>\n",
       "    </tr>\n",
       "    <tr>\n",
       "      <th>5100</th>\n",
       "      <td>MSGTRASNDRPPGAGGVKRGRLQQEAAATGSRVTVVLGAQWGDEGK...</td>\n",
       "      <td>[0.0320038310358483, 0.04282569608778766, 0.06...</td>\n",
       "      <td>[0.027132559070885066, -0.05216259511413696, -...</td>\n",
       "    </tr>\n",
       "    <tr>\n",
       "      <th>5101</th>\n",
       "      <td>MTHQDLSITAKLINGGVAGLVGVTCVFPIDLAKTRLQNQHGKAMYK...</td>\n",
       "      <td>[0.12540970835839804, -0.05073272496300994, -0...</td>\n",
       "      <td>[0.01684577403427244, -0.059831542259657276, 0...</td>\n",
       "    </tr>\n",
       "    <tr>\n",
       "      <th>5102</th>\n",
       "      <td>MAASGEGVSLPSPAGGEDAHRRRVSYFYEPSIGDYYYGQGHPMKPH...</td>\n",
       "      <td>[0.08464322310966266, -0.04354337096595916, 0....</td>\n",
       "      <td>[-0.0015948963317384355, -0.03229665071770335,...</td>\n",
       "    </tr>\n",
       "    <tr>\n",
       "      <th>5103</th>\n",
       "      <td>MGSNLSPQLCLMPFILGLLSGGVTTTPWSLARPQGSCSLEGVEIKG...</td>\n",
       "      <td>[-0.1266713868615734, 0.019422788085594677, -0...</td>\n",
       "      <td>[-0.006168403401604989, -0.03778895676128878, ...</td>\n",
       "    </tr>\n",
       "  </tbody>\n",
       "</table>\n",
       "<p>5104 rows × 3 columns</p>\n",
       "</div>"
      ],
      "text/plain": [
       "                                         target_aa_code  \\\n",
       "0     MEVKVGLAPMAGYTDSAFRTLAFEWGADFAFSEMVSAKGFLMNSQK...   \n",
       "1     MACLLRSFQRISAGVFFLALWGMVVGDKLLVVPQDGSHWLSMKDIV...   \n",
       "2     MHKAGLLGLCARAWNSVRMASSGMTRRDPLANKVALVTASTDGIGF...   \n",
       "3     MERNKLARQIIDTCLEMTRLGLNQGTAGNVSVRYQDGMLITPTGIP...   \n",
       "4     MRPPWYPLHTPSLASPLLFLLLSLLGGGARAEGREDPQLLVRVRGG...   \n",
       "...                                                 ...   \n",
       "5099  MANVDEAILKRVKGWAPYVDAKLGFRNHWYPVMFSKEINEGEPKTL...   \n",
       "5100  MSGTRASNDRPPGAGGVKRGRLQQEAAATGSRVTVVLGAQWGDEGK...   \n",
       "5101  MTHQDLSITAKLINGGVAGLVGVTCVFPIDLAKTRLQNQHGKAMYK...   \n",
       "5102  MAASGEGVSLPSPAGGEDAHRRRVSYFYEPSIGDYYYGQGHPMKPH...   \n",
       "5103  MGSNLSPQLCLMPFILGLLSGGVTTTPWSLARPQGSCSLEGVEIKG...   \n",
       "\n",
       "                          normalized_protvec_embeddings  \\\n",
       "0     [0.16142722858235953, 0.05788021714049273, 0.0...   \n",
       "1     [-0.014042909752763736, 0.05416104231672811, -...   \n",
       "2     [0.16188192243184374, 0.010292618059286865, -0...   \n",
       "3     [0.15672469604957617, 0.030461802376601822, -0...   \n",
       "4     [-0.12714127577230466, -0.005709447807154971, ...   \n",
       "...                                                 ...   \n",
       "5099  [0.16276312300976226, 0.007141506928588683, 0....   \n",
       "5100  [0.0320038310358483, 0.04282569608778766, 0.06...   \n",
       "5101  [0.12540970835839804, -0.05073272496300994, -0...   \n",
       "5102  [0.08464322310966266, -0.04354337096595916, 0....   \n",
       "5103  [-0.1266713868615734, 0.019422788085594677, -0...   \n",
       "\n",
       "                       normalized_engineered_embeddings  \n",
       "0     [-0.01922503725782414, -0.06184798807749627, -...  \n",
       "1     [-0.036862003780718335, -0.04064272211720227, ...  \n",
       "2     [-0.0013175230566534902, -0.05204216073781291,...  \n",
       "3     [-0.031156636790439608, -0.049935979513444306,...  \n",
       "4     [-0.0031989287308436224, -0.009745573575360808...  \n",
       "...                                                 ...  \n",
       "5099  [-0.010471204188481676, -0.03664921465968586, ...  \n",
       "5100  [0.027132559070885066, -0.05216259511413696, -...  \n",
       "5101  [0.01684577403427244, -0.059831542259657276, 0...  \n",
       "5102  [-0.0015948963317384355, -0.03229665071770335,...  \n",
       "5103  [-0.006168403401604989, -0.03778895676128878, ...  \n",
       "\n",
       "[5104 rows x 3 columns]"
      ]
     },
     "execution_count": 10,
     "metadata": {},
     "output_type": "execute_result"
    }
   ],
   "source": [
    "targets_all"
   ]
  },
  {
   "cell_type": "code",
   "execution_count": 30,
   "metadata": {},
   "outputs": [],
   "source": [
    "with open('/data/sars-busters-consolidated/GitData/targets_all.pkl', 'wb') as file: \n",
    "    pkl.dump(targets_all, file)\n",
    "    \n",
    "with open('/data/sars-busters-consolidated/GitData/drugs_all.pkl', 'wb') as file: \n",
    "    pkl.dump(drugs_all, file)"
   ]
  },
  {
   "cell_type": "code",
   "execution_count": null,
   "metadata": {},
   "outputs": [],
   "source": [
    "with open('/data/sars-busters-consolidated/GitData/targets_all.pkl', 'rb') as file: \n",
    "    targets_all = pkl.load(file)\n",
    "    \n",
    "with open('/data/sars-busters-consolidated/GitData/drugs_all.pkl', 'rb') as file: \n",
    "    drugs_all = pkl.load(file)"
   ]
  },
  {
   "cell_type": "markdown",
   "metadata": {},
   "source": [
    "### Feature Importance"
   ]
  },
  {
   "cell_type": "code",
   "execution_count": 24,
   "metadata": {},
   "outputs": [],
   "source": [
    "def find_feature_membership(input_embed, embed_name, sense_features, sense_feat_dict, top_k = 10):\n",
    "                \n",
    "    # Ensure proper dtypes\n",
    "    sense_features = sense_features.astype(np.float32)\n",
    "    input_embed = input_embed.astype(np.float32)\n",
    "    \n",
    "    # Ensure non-negativity\n",
    "    if np.min(sense_features) < 0: \n",
    "        print (\"Scaling Sense Features To Between 0 and 1\")\n",
    "        sense_features = (sense_features - np.min(sense_features)) / np.ptp(sense_features)\n",
    "        assert np.min(sense_features) >= 0\n",
    "        \n",
    "    if np.min (input_embed) < 0:\n",
    "        print (\"Scaling Input Embedding To Between 0 and 1\")\n",
    "        input_embed = (input_embed - np.min(input_embed)) / np.ptp(input_embed)\n",
    "        assert np.min(input_embed) >= 0\n",
    "\n",
    "    # Play around with transposes to make it make sense\n",
    "    explain, embed_recon, _ = non_negative_factorization(n_components = input_embed.shape[1],\n",
    "                                                                 init = 'custom',\n",
    "                                                                 max_iter = 4000,\n",
    "                                                                 X = sense_features.T,\n",
    "                                                                 H = input_embed.T,\n",
    "                                                                 update_H = False)\n",
    "\n",
    "    explain = explain.T\n",
    "    embed_recon = embed_recon.T\n",
    "\n",
    "    reconstruction_loss = np.linalg.norm(sense_features - (input_embed @ explain))\n",
    "\n",
    "    default_embed = np.ones((input_embed.shape[0], 1)).astype(np.float32)\n",
    "    explain_default, _, _ = non_negative_factorization(n_components = default_embed.shape[1],\n",
    "                                                         init = 'custom',\n",
    "                                                         max_iter = 2000,\n",
    "                                                         X = sense_features.T,\n",
    "                                                         H = default_embed.T,\n",
    "                                                         update_H = False)\n",
    "    explain_default = explain_default.T\n",
    "    loss_2 = np.linalg.norm(sense_features - (default_embed @ explain_default))\n",
    "                            \n",
    "                                \n",
    "        \n",
    "    \n",
    "    # Normalize matrix by the default matrix learned\n",
    "    explain_norm = np.array(explain / explain_default)    \n",
    "    explain_norm_softmax = np.array([np.exp(x) / sum(np.exp(x)) for x in explain_norm])\n",
    "    explain_variance = np.square(np.std(explain_norm, axis = 1))\n",
    "    \n",
    "    # Plot variance in explanability of each dimension\n",
    "    embed_dimensions = input_embed.shape[1]\n",
    "\n",
    "    fig = go.Figure()\n",
    "    fig.add_trace(go.Bar(x = list(range(embed_dimensions)), \n",
    "                         y = explain_variance,\n",
    "                         name = 'Variance of Embedding Dimensions'))\n",
    "    fig.add_trace(go.Scatter(x = list(range(embed_dimensions)), \n",
    "                             y = [np.mean(explain_variance)] * embed_dimensions, \n",
    "                             mode = 'lines', \n",
    "                             name = 'Mean of Variance'))\n",
    "    fig.add_trace(go.Scatter(x = list(range(embed_dimensions)), \n",
    "                             y = [np.median(explain_variance)] * embed_dimensions, \n",
    "                             mode = 'lines', \n",
    "                             name = 'Median of Variance'))\n",
    "    fig.update_layout(title_text = 'Variance of Explanability Across Dimensions - ' + embed_name,\n",
    "                      xaxis_title_text = 'Dimensions', \n",
    "                      yaxis_title_text = 'Variance')\n",
    "    fig.show()\n",
    "    \n",
    "    # Figure out which dimensions to keep - ones with most variance \n",
    "    dimensions_idx_to_keep = np.where(explain_variance > np.mean(explain_variance))[0]\n",
    "    dimensions_to_keep = np.array(explain_norm)[dimensions_idx_to_keep]\n",
    "    dimensions_to_keep_softmax = explain_norm_softmax[dimensions_idx_to_keep]\n",
    "    top_k_dims = np.argsort(explain_variance)[-top_k:]\n",
    "    \n",
    "    # Plot membership of sense features vs remaining dimensions\n",
    "    features = list(sense_feat_dict.keys())\n",
    "\n",
    "    fig = go.Figure()\n",
    "\n",
    "    for idx in range(len(dimensions_to_keep)):\n",
    "        fig.add_trace(go.Bar(x = features, \n",
    "                             y = dimensions_to_keep[idx],\n",
    "                             name = 'Dimension ' + str(dimensions_idx_to_keep[idx])))\n",
    "\n",
    "    fig.update_layout(title_text = 'Embedding Dimension Feature Membership - ' + embed_name,\n",
    "                      xaxis_title_text = 'Engineered Features',\n",
    "                      yaxis_title_text = 'Membership',\n",
    "                      barmode = 'group')\n",
    "    fig.show()\n",
    "\n",
    "\n",
    "\n",
    "    return_dict = {\n",
    "        'explain' : explain,\n",
    "        'explain_norm' : explain_norm,\n",
    "        'explain_default' : explain_default,\n",
    "        'dimensions_idx_to_keep' : dimensions_idx_to_keep,\n",
    "        'top_k_dims' : top_k_dims,\n",
    "        'reconstruction_loss' : reconstruction_loss\n",
    "    }\n",
    "    \n",
    "    return return_dict\n",
    "\n"
   ]
  },
  {
   "cell_type": "code",
   "execution_count": 16,
   "metadata": {},
   "outputs": [],
   "source": [
    "normalized_mol2vec_embeddings = np.zeros((drugs_all.shape[0], 300))\n",
    "\n",
    "for idx, drug in enumerate(drugs_all['normalized_mol2vec_embeddings']):\n",
    "    normalized_mol2vec_embeddings[idx] = drug\n",
    "    \n",
    "normalized_engineered_embeddings = np.zeros((drugs_all.shape[0], 18))\n",
    "\n",
    "for idx, drug in enumerate(drugs_all['normalized_engineered_embeddings']):\n",
    "    normalized_engineered_embeddings[idx] = np.array(drug)"
   ]
  },
  {
   "cell_type": "code",
   "execution_count": 51,
   "metadata": {},
   "outputs": [],
   "source": [
    "# Ensure scaled between zero and one (non-negative)\n",
    "normalized_mol2vec_embeddings = (normalized_mol2vec_embeddings - np.min(normalized_mol2vec_embeddings)) / np.ptp(normalized_mol2vec_embeddings)\n",
    "normalized_engineered_embeddings = (normalized_engineered_embeddings - np.min(normalized_engineered_embeddings)) / np.ptp(normalized_engineered_embeddings)"
   ]
  },
  {
   "cell_type": "code",
   "execution_count": null,
   "metadata": {},
   "outputs": [],
   "source": []
  },
  {
   "cell_type": "code",
   "execution_count": 25,
   "metadata": {},
   "outputs": [
    {
     "name": "stdout",
     "output_type": "stream",
     "text": [
      "Scaling Sense Features To Between 0 and 1\n",
      "Scaling Input Embedding To Between 0 and 1\n"
     ]
    },
    {
     "name": "stderr",
     "output_type": "stream",
     "text": [
      "/miniconda/lib/python3.6/site-packages/sklearn/decomposition/_nmf.py:1076: ConvergenceWarning:\n",
      "\n",
      "Maximum number of iterations 4000 reached. Increase it to improve convergence.\n",
      "\n"
     ]
    },
    {
     "data": {
      "application/vnd.plotly.v1+json": {
       "config": {
        "plotlyServerURL": "https://plot.ly"
       },
       "data": [
        {
         "name": "Variance of Embedding Dimensions",
         "type": "bar",
         "x": [
          0,
          1,
          2,
          3,
          4,
          5,
          6,
          7,
          8,
          9,
          10,
          11,
          12,
          13,
          14,
          15,
          16,
          17,
          18,
          19,
          20,
          21,
          22,
          23,
          24,
          25,
          26,
          27,
          28,
          29,
          30,
          31,
          32,
          33,
          34,
          35,
          36,
          37,
          38,
          39,
          40,
          41,
          42,
          43,
          44,
          45,
          46,
          47,
          48,
          49,
          50,
          51,
          52,
          53,
          54,
          55,
          56,
          57,
          58,
          59,
          60,
          61,
          62,
          63,
          64,
          65,
          66,
          67,
          68,
          69,
          70,
          71,
          72,
          73,
          74,
          75,
          76,
          77,
          78,
          79,
          80,
          81,
          82,
          83,
          84,
          85,
          86,
          87,
          88,
          89,
          90,
          91,
          92,
          93,
          94,
          95,
          96,
          97,
          98,
          99,
          100,
          101,
          102,
          103,
          104,
          105,
          106,
          107,
          108,
          109,
          110,
          111,
          112,
          113,
          114,
          115,
          116,
          117,
          118,
          119,
          120,
          121,
          122,
          123,
          124,
          125,
          126,
          127,
          128,
          129,
          130,
          131,
          132,
          133,
          134,
          135,
          136,
          137,
          138,
          139,
          140,
          141,
          142,
          143,
          144,
          145,
          146,
          147,
          148,
          149,
          150,
          151,
          152,
          153,
          154,
          155,
          156,
          157,
          158,
          159,
          160,
          161,
          162,
          163,
          164,
          165,
          166,
          167,
          168,
          169,
          170,
          171,
          172,
          173,
          174,
          175,
          176,
          177,
          178,
          179,
          180,
          181,
          182,
          183,
          184,
          185,
          186,
          187,
          188,
          189,
          190,
          191,
          192,
          193,
          194,
          195,
          196,
          197,
          198,
          199,
          200,
          201,
          202,
          203,
          204,
          205,
          206,
          207,
          208,
          209,
          210,
          211,
          212,
          213,
          214,
          215,
          216,
          217,
          218,
          219,
          220,
          221,
          222,
          223,
          224,
          225,
          226,
          227,
          228,
          229,
          230,
          231,
          232,
          233,
          234,
          235,
          236,
          237,
          238,
          239,
          240,
          241,
          242,
          243,
          244,
          245,
          246,
          247,
          248,
          249,
          250,
          251,
          252,
          253,
          254,
          255,
          256,
          257,
          258,
          259,
          260,
          261,
          262,
          263,
          264,
          265,
          266,
          267,
          268,
          269,
          270,
          271,
          272,
          273,
          274,
          275,
          276,
          277,
          278,
          279,
          280,
          281,
          282,
          283,
          284,
          285,
          286,
          287,
          288,
          289,
          290,
          291,
          292,
          293,
          294,
          295,
          296,
          297,
          298,
          299
         ],
         "y": [
          0.11577913910150528,
          0.05423634126782417,
          0.0036200731992721558,
          4.379213714855723e-05,
          0.030330102890729904,
          3.581221608328633e-05,
          0.004105047322809696,
          0.009688839316368103,
          0.0009911353699862957,
          0,
          0.005672663450241089,
          0.007508693728595972,
          0.02110082469880581,
          0,
          1.3720363313041162e-05,
          0,
          0.0002260026813019067,
          0.0017781030619516969,
          0,
          0,
          0,
          0,
          0,
          0,
          0.00018141622422263026,
          1.5592756881233072e-06,
          0,
          0,
          0,
          0,
          0,
          0,
          0,
          0,
          0,
          0,
          0,
          3.4902866445918335e-06,
          0,
          1.0269110134686343e-05,
          2.389638487088064e-10,
          2.4282996946567437e-08,
          0,
          0,
          8.268020610557869e-05,
          0,
          4.482754150103574e-07,
          1.4345794170367299e-06,
          0,
          0,
          8.45480099087581e-05,
          0,
          0,
          0,
          0,
          0.0009184986120089889,
          1.3368141480896156e-05,
          0,
          0,
          0,
          4.543664147149684e-07,
          2.312193828402087e-06,
          0,
          0,
          0.0003521632170304656,
          0.00028763676527887583,
          0,
          4.163423217296014e-10,
          0,
          0.0003154308069497347,
          0.0008836384513415396,
          0,
          0,
          0,
          0,
          0,
          0,
          0,
          2.5611234377720393e-06,
          0,
          0,
          0,
          0.00013572558236774057,
          0,
          0,
          0,
          0,
          0,
          0,
          0,
          0,
          1.2243356650287751e-05,
          0,
          0,
          7.593640475533903e-05,
          0,
          0,
          0,
          0,
          0,
          0,
          0,
          0,
          0,
          0,
          0,
          0,
          0,
          0,
          2.7401124924608666e-08,
          0,
          0,
          0.0027044254820793867,
          0,
          0,
          0,
          0,
          0,
          0,
          0,
          0,
          0,
          0,
          0,
          0,
          0,
          0,
          0,
          0,
          0,
          0,
          0,
          0,
          2.2155663415013294e-10,
          0.00569120654836297,
          0,
          0.0026210537180304527,
          0,
          0,
          0,
          0,
          0,
          0,
          0,
          0,
          0,
          0,
          0,
          0,
          5.609962317976169e-05,
          0,
          0,
          0,
          0,
          0,
          0,
          0,
          0,
          0,
          0,
          0,
          9.34826189791238e-08,
          0,
          0,
          0,
          0,
          0,
          0,
          0,
          0,
          0,
          0,
          9.989290505885151e-10,
          0,
          0,
          0,
          0,
          0,
          0,
          0,
          0,
          0,
          0,
          0,
          0,
          0,
          0,
          0.0003391766513232142,
          0,
          0,
          0,
          0,
          0,
          0,
          0,
          0,
          0,
          0,
          0,
          0,
          0,
          0,
          0,
          0,
          0,
          0,
          0,
          0,
          0,
          0,
          0,
          0,
          0,
          0,
          0,
          0,
          0,
          0,
          0,
          0,
          0,
          0,
          0.00011501597327878699,
          0,
          0,
          0,
          0,
          0,
          0,
          0,
          0,
          0,
          0,
          0.0005047801532782614,
          0,
          0,
          0,
          0,
          0,
          0,
          0,
          0,
          0,
          0,
          0,
          0,
          0,
          0,
          0,
          0.0003449069627095014,
          0,
          0,
          0,
          0,
          0,
          0,
          0,
          0,
          0,
          0,
          0,
          0,
          0,
          0,
          0,
          0,
          0,
          0,
          0,
          0,
          0,
          0,
          0,
          0,
          7.391676604129316e-09,
          0,
          0,
          0,
          0,
          0,
          0,
          0,
          0,
          0,
          0,
          1.4993822333053686e-05,
          0,
          0,
          0,
          0,
          0,
          0,
          0,
          0,
          0,
          0,
          0,
          0,
          0,
          0
         ]
        },
        {
         "mode": "lines",
         "name": "Mean of Variance",
         "type": "scatter",
         "x": [
          0,
          1,
          2,
          3,
          4,
          5,
          6,
          7,
          8,
          9,
          10,
          11,
          12,
          13,
          14,
          15,
          16,
          17,
          18,
          19,
          20,
          21,
          22,
          23,
          24,
          25,
          26,
          27,
          28,
          29,
          30,
          31,
          32,
          33,
          34,
          35,
          36,
          37,
          38,
          39,
          40,
          41,
          42,
          43,
          44,
          45,
          46,
          47,
          48,
          49,
          50,
          51,
          52,
          53,
          54,
          55,
          56,
          57,
          58,
          59,
          60,
          61,
          62,
          63,
          64,
          65,
          66,
          67,
          68,
          69,
          70,
          71,
          72,
          73,
          74,
          75,
          76,
          77,
          78,
          79,
          80,
          81,
          82,
          83,
          84,
          85,
          86,
          87,
          88,
          89,
          90,
          91,
          92,
          93,
          94,
          95,
          96,
          97,
          98,
          99,
          100,
          101,
          102,
          103,
          104,
          105,
          106,
          107,
          108,
          109,
          110,
          111,
          112,
          113,
          114,
          115,
          116,
          117,
          118,
          119,
          120,
          121,
          122,
          123,
          124,
          125,
          126,
          127,
          128,
          129,
          130,
          131,
          132,
          133,
          134,
          135,
          136,
          137,
          138,
          139,
          140,
          141,
          142,
          143,
          144,
          145,
          146,
          147,
          148,
          149,
          150,
          151,
          152,
          153,
          154,
          155,
          156,
          157,
          158,
          159,
          160,
          161,
          162,
          163,
          164,
          165,
          166,
          167,
          168,
          169,
          170,
          171,
          172,
          173,
          174,
          175,
          176,
          177,
          178,
          179,
          180,
          181,
          182,
          183,
          184,
          185,
          186,
          187,
          188,
          189,
          190,
          191,
          192,
          193,
          194,
          195,
          196,
          197,
          198,
          199,
          200,
          201,
          202,
          203,
          204,
          205,
          206,
          207,
          208,
          209,
          210,
          211,
          212,
          213,
          214,
          215,
          216,
          217,
          218,
          219,
          220,
          221,
          222,
          223,
          224,
          225,
          226,
          227,
          228,
          229,
          230,
          231,
          232,
          233,
          234,
          235,
          236,
          237,
          238,
          239,
          240,
          241,
          242,
          243,
          244,
          245,
          246,
          247,
          248,
          249,
          250,
          251,
          252,
          253,
          254,
          255,
          256,
          257,
          258,
          259,
          260,
          261,
          262,
          263,
          264,
          265,
          266,
          267,
          268,
          269,
          270,
          271,
          272,
          273,
          274,
          275,
          276,
          277,
          278,
          279,
          280,
          281,
          282,
          283,
          284,
          285,
          286,
          287,
          288,
          289,
          290,
          291,
          292,
          293,
          294,
          295,
          296,
          297,
          298,
          299
         ],
         "y": [
          0.0009029597276821733,
          0.0009029597276821733,
          0.0009029597276821733,
          0.0009029597276821733,
          0.0009029597276821733,
          0.0009029597276821733,
          0.0009029597276821733,
          0.0009029597276821733,
          0.0009029597276821733,
          0.0009029597276821733,
          0.0009029597276821733,
          0.0009029597276821733,
          0.0009029597276821733,
          0.0009029597276821733,
          0.0009029597276821733,
          0.0009029597276821733,
          0.0009029597276821733,
          0.0009029597276821733,
          0.0009029597276821733,
          0.0009029597276821733,
          0.0009029597276821733,
          0.0009029597276821733,
          0.0009029597276821733,
          0.0009029597276821733,
          0.0009029597276821733,
          0.0009029597276821733,
          0.0009029597276821733,
          0.0009029597276821733,
          0.0009029597276821733,
          0.0009029597276821733,
          0.0009029597276821733,
          0.0009029597276821733,
          0.0009029597276821733,
          0.0009029597276821733,
          0.0009029597276821733,
          0.0009029597276821733,
          0.0009029597276821733,
          0.0009029597276821733,
          0.0009029597276821733,
          0.0009029597276821733,
          0.0009029597276821733,
          0.0009029597276821733,
          0.0009029597276821733,
          0.0009029597276821733,
          0.0009029597276821733,
          0.0009029597276821733,
          0.0009029597276821733,
          0.0009029597276821733,
          0.0009029597276821733,
          0.0009029597276821733,
          0.0009029597276821733,
          0.0009029597276821733,
          0.0009029597276821733,
          0.0009029597276821733,
          0.0009029597276821733,
          0.0009029597276821733,
          0.0009029597276821733,
          0.0009029597276821733,
          0.0009029597276821733,
          0.0009029597276821733,
          0.0009029597276821733,
          0.0009029597276821733,
          0.0009029597276821733,
          0.0009029597276821733,
          0.0009029597276821733,
          0.0009029597276821733,
          0.0009029597276821733,
          0.0009029597276821733,
          0.0009029597276821733,
          0.0009029597276821733,
          0.0009029597276821733,
          0.0009029597276821733,
          0.0009029597276821733,
          0.0009029597276821733,
          0.0009029597276821733,
          0.0009029597276821733,
          0.0009029597276821733,
          0.0009029597276821733,
          0.0009029597276821733,
          0.0009029597276821733,
          0.0009029597276821733,
          0.0009029597276821733,
          0.0009029597276821733,
          0.0009029597276821733,
          0.0009029597276821733,
          0.0009029597276821733,
          0.0009029597276821733,
          0.0009029597276821733,
          0.0009029597276821733,
          0.0009029597276821733,
          0.0009029597276821733,
          0.0009029597276821733,
          0.0009029597276821733,
          0.0009029597276821733,
          0.0009029597276821733,
          0.0009029597276821733,
          0.0009029597276821733,
          0.0009029597276821733,
          0.0009029597276821733,
          0.0009029597276821733,
          0.0009029597276821733,
          0.0009029597276821733,
          0.0009029597276821733,
          0.0009029597276821733,
          0.0009029597276821733,
          0.0009029597276821733,
          0.0009029597276821733,
          0.0009029597276821733,
          0.0009029597276821733,
          0.0009029597276821733,
          0.0009029597276821733,
          0.0009029597276821733,
          0.0009029597276821733,
          0.0009029597276821733,
          0.0009029597276821733,
          0.0009029597276821733,
          0.0009029597276821733,
          0.0009029597276821733,
          0.0009029597276821733,
          0.0009029597276821733,
          0.0009029597276821733,
          0.0009029597276821733,
          0.0009029597276821733,
          0.0009029597276821733,
          0.0009029597276821733,
          0.0009029597276821733,
          0.0009029597276821733,
          0.0009029597276821733,
          0.0009029597276821733,
          0.0009029597276821733,
          0.0009029597276821733,
          0.0009029597276821733,
          0.0009029597276821733,
          0.0009029597276821733,
          0.0009029597276821733,
          0.0009029597276821733,
          0.0009029597276821733,
          0.0009029597276821733,
          0.0009029597276821733,
          0.0009029597276821733,
          0.0009029597276821733,
          0.0009029597276821733,
          0.0009029597276821733,
          0.0009029597276821733,
          0.0009029597276821733,
          0.0009029597276821733,
          0.0009029597276821733,
          0.0009029597276821733,
          0.0009029597276821733,
          0.0009029597276821733,
          0.0009029597276821733,
          0.0009029597276821733,
          0.0009029597276821733,
          0.0009029597276821733,
          0.0009029597276821733,
          0.0009029597276821733,
          0.0009029597276821733,
          0.0009029597276821733,
          0.0009029597276821733,
          0.0009029597276821733,
          0.0009029597276821733,
          0.0009029597276821733,
          0.0009029597276821733,
          0.0009029597276821733,
          0.0009029597276821733,
          0.0009029597276821733,
          0.0009029597276821733,
          0.0009029597276821733,
          0.0009029597276821733,
          0.0009029597276821733,
          0.0009029597276821733,
          0.0009029597276821733,
          0.0009029597276821733,
          0.0009029597276821733,
          0.0009029597276821733,
          0.0009029597276821733,
          0.0009029597276821733,
          0.0009029597276821733,
          0.0009029597276821733,
          0.0009029597276821733,
          0.0009029597276821733,
          0.0009029597276821733,
          0.0009029597276821733,
          0.0009029597276821733,
          0.0009029597276821733,
          0.0009029597276821733,
          0.0009029597276821733,
          0.0009029597276821733,
          0.0009029597276821733,
          0.0009029597276821733,
          0.0009029597276821733,
          0.0009029597276821733,
          0.0009029597276821733,
          0.0009029597276821733,
          0.0009029597276821733,
          0.0009029597276821733,
          0.0009029597276821733,
          0.0009029597276821733,
          0.0009029597276821733,
          0.0009029597276821733,
          0.0009029597276821733,
          0.0009029597276821733,
          0.0009029597276821733,
          0.0009029597276821733,
          0.0009029597276821733,
          0.0009029597276821733,
          0.0009029597276821733,
          0.0009029597276821733,
          0.0009029597276821733,
          0.0009029597276821733,
          0.0009029597276821733,
          0.0009029597276821733,
          0.0009029597276821733,
          0.0009029597276821733,
          0.0009029597276821733,
          0.0009029597276821733,
          0.0009029597276821733,
          0.0009029597276821733,
          0.0009029597276821733,
          0.0009029597276821733,
          0.0009029597276821733,
          0.0009029597276821733,
          0.0009029597276821733,
          0.0009029597276821733,
          0.0009029597276821733,
          0.0009029597276821733,
          0.0009029597276821733,
          0.0009029597276821733,
          0.0009029597276821733,
          0.0009029597276821733,
          0.0009029597276821733,
          0.0009029597276821733,
          0.0009029597276821733,
          0.0009029597276821733,
          0.0009029597276821733,
          0.0009029597276821733,
          0.0009029597276821733,
          0.0009029597276821733,
          0.0009029597276821733,
          0.0009029597276821733,
          0.0009029597276821733,
          0.0009029597276821733,
          0.0009029597276821733,
          0.0009029597276821733,
          0.0009029597276821733,
          0.0009029597276821733,
          0.0009029597276821733,
          0.0009029597276821733,
          0.0009029597276821733,
          0.0009029597276821733,
          0.0009029597276821733,
          0.0009029597276821733,
          0.0009029597276821733,
          0.0009029597276821733,
          0.0009029597276821733,
          0.0009029597276821733,
          0.0009029597276821733,
          0.0009029597276821733,
          0.0009029597276821733,
          0.0009029597276821733,
          0.0009029597276821733,
          0.0009029597276821733,
          0.0009029597276821733,
          0.0009029597276821733,
          0.0009029597276821733,
          0.0009029597276821733,
          0.0009029597276821733,
          0.0009029597276821733,
          0.0009029597276821733,
          0.0009029597276821733,
          0.0009029597276821733,
          0.0009029597276821733,
          0.0009029597276821733,
          0.0009029597276821733,
          0.0009029597276821733,
          0.0009029597276821733,
          0.0009029597276821733,
          0.0009029597276821733,
          0.0009029597276821733,
          0.0009029597276821733,
          0.0009029597276821733,
          0.0009029597276821733,
          0.0009029597276821733,
          0.0009029597276821733,
          0.0009029597276821733,
          0.0009029597276821733,
          0.0009029597276821733,
          0.0009029597276821733,
          0.0009029597276821733,
          0.0009029597276821733,
          0.0009029597276821733,
          0.0009029597276821733,
          0.0009029597276821733,
          0.0009029597276821733,
          0.0009029597276821733,
          0.0009029597276821733,
          0.0009029597276821733,
          0.0009029597276821733,
          0.0009029597276821733,
          0.0009029597276821733
         ]
        },
        {
         "mode": "lines",
         "name": "Median of Variance",
         "type": "scatter",
         "x": [
          0,
          1,
          2,
          3,
          4,
          5,
          6,
          7,
          8,
          9,
          10,
          11,
          12,
          13,
          14,
          15,
          16,
          17,
          18,
          19,
          20,
          21,
          22,
          23,
          24,
          25,
          26,
          27,
          28,
          29,
          30,
          31,
          32,
          33,
          34,
          35,
          36,
          37,
          38,
          39,
          40,
          41,
          42,
          43,
          44,
          45,
          46,
          47,
          48,
          49,
          50,
          51,
          52,
          53,
          54,
          55,
          56,
          57,
          58,
          59,
          60,
          61,
          62,
          63,
          64,
          65,
          66,
          67,
          68,
          69,
          70,
          71,
          72,
          73,
          74,
          75,
          76,
          77,
          78,
          79,
          80,
          81,
          82,
          83,
          84,
          85,
          86,
          87,
          88,
          89,
          90,
          91,
          92,
          93,
          94,
          95,
          96,
          97,
          98,
          99,
          100,
          101,
          102,
          103,
          104,
          105,
          106,
          107,
          108,
          109,
          110,
          111,
          112,
          113,
          114,
          115,
          116,
          117,
          118,
          119,
          120,
          121,
          122,
          123,
          124,
          125,
          126,
          127,
          128,
          129,
          130,
          131,
          132,
          133,
          134,
          135,
          136,
          137,
          138,
          139,
          140,
          141,
          142,
          143,
          144,
          145,
          146,
          147,
          148,
          149,
          150,
          151,
          152,
          153,
          154,
          155,
          156,
          157,
          158,
          159,
          160,
          161,
          162,
          163,
          164,
          165,
          166,
          167,
          168,
          169,
          170,
          171,
          172,
          173,
          174,
          175,
          176,
          177,
          178,
          179,
          180,
          181,
          182,
          183,
          184,
          185,
          186,
          187,
          188,
          189,
          190,
          191,
          192,
          193,
          194,
          195,
          196,
          197,
          198,
          199,
          200,
          201,
          202,
          203,
          204,
          205,
          206,
          207,
          208,
          209,
          210,
          211,
          212,
          213,
          214,
          215,
          216,
          217,
          218,
          219,
          220,
          221,
          222,
          223,
          224,
          225,
          226,
          227,
          228,
          229,
          230,
          231,
          232,
          233,
          234,
          235,
          236,
          237,
          238,
          239,
          240,
          241,
          242,
          243,
          244,
          245,
          246,
          247,
          248,
          249,
          250,
          251,
          252,
          253,
          254,
          255,
          256,
          257,
          258,
          259,
          260,
          261,
          262,
          263,
          264,
          265,
          266,
          267,
          268,
          269,
          270,
          271,
          272,
          273,
          274,
          275,
          276,
          277,
          278,
          279,
          280,
          281,
          282,
          283,
          284,
          285,
          286,
          287,
          288,
          289,
          290,
          291,
          292,
          293,
          294,
          295,
          296,
          297,
          298,
          299
         ],
         "y": [
          0,
          0,
          0,
          0,
          0,
          0,
          0,
          0,
          0,
          0,
          0,
          0,
          0,
          0,
          0,
          0,
          0,
          0,
          0,
          0,
          0,
          0,
          0,
          0,
          0,
          0,
          0,
          0,
          0,
          0,
          0,
          0,
          0,
          0,
          0,
          0,
          0,
          0,
          0,
          0,
          0,
          0,
          0,
          0,
          0,
          0,
          0,
          0,
          0,
          0,
          0,
          0,
          0,
          0,
          0,
          0,
          0,
          0,
          0,
          0,
          0,
          0,
          0,
          0,
          0,
          0,
          0,
          0,
          0,
          0,
          0,
          0,
          0,
          0,
          0,
          0,
          0,
          0,
          0,
          0,
          0,
          0,
          0,
          0,
          0,
          0,
          0,
          0,
          0,
          0,
          0,
          0,
          0,
          0,
          0,
          0,
          0,
          0,
          0,
          0,
          0,
          0,
          0,
          0,
          0,
          0,
          0,
          0,
          0,
          0,
          0,
          0,
          0,
          0,
          0,
          0,
          0,
          0,
          0,
          0,
          0,
          0,
          0,
          0,
          0,
          0,
          0,
          0,
          0,
          0,
          0,
          0,
          0,
          0,
          0,
          0,
          0,
          0,
          0,
          0,
          0,
          0,
          0,
          0,
          0,
          0,
          0,
          0,
          0,
          0,
          0,
          0,
          0,
          0,
          0,
          0,
          0,
          0,
          0,
          0,
          0,
          0,
          0,
          0,
          0,
          0,
          0,
          0,
          0,
          0,
          0,
          0,
          0,
          0,
          0,
          0,
          0,
          0,
          0,
          0,
          0,
          0,
          0,
          0,
          0,
          0,
          0,
          0,
          0,
          0,
          0,
          0,
          0,
          0,
          0,
          0,
          0,
          0,
          0,
          0,
          0,
          0,
          0,
          0,
          0,
          0,
          0,
          0,
          0,
          0,
          0,
          0,
          0,
          0,
          0,
          0,
          0,
          0,
          0,
          0,
          0,
          0,
          0,
          0,
          0,
          0,
          0,
          0,
          0,
          0,
          0,
          0,
          0,
          0,
          0,
          0,
          0,
          0,
          0,
          0,
          0,
          0,
          0,
          0,
          0,
          0,
          0,
          0,
          0,
          0,
          0,
          0,
          0,
          0,
          0,
          0,
          0,
          0,
          0,
          0,
          0,
          0,
          0,
          0,
          0,
          0,
          0,
          0,
          0,
          0,
          0,
          0,
          0,
          0,
          0,
          0,
          0,
          0,
          0,
          0,
          0,
          0,
          0,
          0,
          0,
          0,
          0,
          0,
          0,
          0,
          0,
          0,
          0,
          0,
          0,
          0,
          0,
          0,
          0,
          0
         ]
        }
       ],
       "layout": {
        "template": {
         "data": {
          "bar": [
           {
            "error_x": {
             "color": "#2a3f5f"
            },
            "error_y": {
             "color": "#2a3f5f"
            },
            "marker": {
             "line": {
              "color": "#E5ECF6",
              "width": 0.5
             }
            },
            "type": "bar"
           }
          ],
          "barpolar": [
           {
            "marker": {
             "line": {
              "color": "#E5ECF6",
              "width": 0.5
             }
            },
            "type": "barpolar"
           }
          ],
          "carpet": [
           {
            "aaxis": {
             "endlinecolor": "#2a3f5f",
             "gridcolor": "white",
             "linecolor": "white",
             "minorgridcolor": "white",
             "startlinecolor": "#2a3f5f"
            },
            "baxis": {
             "endlinecolor": "#2a3f5f",
             "gridcolor": "white",
             "linecolor": "white",
             "minorgridcolor": "white",
             "startlinecolor": "#2a3f5f"
            },
            "type": "carpet"
           }
          ],
          "choropleth": [
           {
            "colorbar": {
             "outlinewidth": 0,
             "ticks": ""
            },
            "type": "choropleth"
           }
          ],
          "contour": [
           {
            "colorbar": {
             "outlinewidth": 0,
             "ticks": ""
            },
            "colorscale": [
             [
              0,
              "#0d0887"
             ],
             [
              0.1111111111111111,
              "#46039f"
             ],
             [
              0.2222222222222222,
              "#7201a8"
             ],
             [
              0.3333333333333333,
              "#9c179e"
             ],
             [
              0.4444444444444444,
              "#bd3786"
             ],
             [
              0.5555555555555556,
              "#d8576b"
             ],
             [
              0.6666666666666666,
              "#ed7953"
             ],
             [
              0.7777777777777778,
              "#fb9f3a"
             ],
             [
              0.8888888888888888,
              "#fdca26"
             ],
             [
              1,
              "#f0f921"
             ]
            ],
            "type": "contour"
           }
          ],
          "contourcarpet": [
           {
            "colorbar": {
             "outlinewidth": 0,
             "ticks": ""
            },
            "type": "contourcarpet"
           }
          ],
          "heatmap": [
           {
            "colorbar": {
             "outlinewidth": 0,
             "ticks": ""
            },
            "colorscale": [
             [
              0,
              "#0d0887"
             ],
             [
              0.1111111111111111,
              "#46039f"
             ],
             [
              0.2222222222222222,
              "#7201a8"
             ],
             [
              0.3333333333333333,
              "#9c179e"
             ],
             [
              0.4444444444444444,
              "#bd3786"
             ],
             [
              0.5555555555555556,
              "#d8576b"
             ],
             [
              0.6666666666666666,
              "#ed7953"
             ],
             [
              0.7777777777777778,
              "#fb9f3a"
             ],
             [
              0.8888888888888888,
              "#fdca26"
             ],
             [
              1,
              "#f0f921"
             ]
            ],
            "type": "heatmap"
           }
          ],
          "heatmapgl": [
           {
            "colorbar": {
             "outlinewidth": 0,
             "ticks": ""
            },
            "colorscale": [
             [
              0,
              "#0d0887"
             ],
             [
              0.1111111111111111,
              "#46039f"
             ],
             [
              0.2222222222222222,
              "#7201a8"
             ],
             [
              0.3333333333333333,
              "#9c179e"
             ],
             [
              0.4444444444444444,
              "#bd3786"
             ],
             [
              0.5555555555555556,
              "#d8576b"
             ],
             [
              0.6666666666666666,
              "#ed7953"
             ],
             [
              0.7777777777777778,
              "#fb9f3a"
             ],
             [
              0.8888888888888888,
              "#fdca26"
             ],
             [
              1,
              "#f0f921"
             ]
            ],
            "type": "heatmapgl"
           }
          ],
          "histogram": [
           {
            "marker": {
             "colorbar": {
              "outlinewidth": 0,
              "ticks": ""
             }
            },
            "type": "histogram"
           }
          ],
          "histogram2d": [
           {
            "colorbar": {
             "outlinewidth": 0,
             "ticks": ""
            },
            "colorscale": [
             [
              0,
              "#0d0887"
             ],
             [
              0.1111111111111111,
              "#46039f"
             ],
             [
              0.2222222222222222,
              "#7201a8"
             ],
             [
              0.3333333333333333,
              "#9c179e"
             ],
             [
              0.4444444444444444,
              "#bd3786"
             ],
             [
              0.5555555555555556,
              "#d8576b"
             ],
             [
              0.6666666666666666,
              "#ed7953"
             ],
             [
              0.7777777777777778,
              "#fb9f3a"
             ],
             [
              0.8888888888888888,
              "#fdca26"
             ],
             [
              1,
              "#f0f921"
             ]
            ],
            "type": "histogram2d"
           }
          ],
          "histogram2dcontour": [
           {
            "colorbar": {
             "outlinewidth": 0,
             "ticks": ""
            },
            "colorscale": [
             [
              0,
              "#0d0887"
             ],
             [
              0.1111111111111111,
              "#46039f"
             ],
             [
              0.2222222222222222,
              "#7201a8"
             ],
             [
              0.3333333333333333,
              "#9c179e"
             ],
             [
              0.4444444444444444,
              "#bd3786"
             ],
             [
              0.5555555555555556,
              "#d8576b"
             ],
             [
              0.6666666666666666,
              "#ed7953"
             ],
             [
              0.7777777777777778,
              "#fb9f3a"
             ],
             [
              0.8888888888888888,
              "#fdca26"
             ],
             [
              1,
              "#f0f921"
             ]
            ],
            "type": "histogram2dcontour"
           }
          ],
          "mesh3d": [
           {
            "colorbar": {
             "outlinewidth": 0,
             "ticks": ""
            },
            "type": "mesh3d"
           }
          ],
          "parcoords": [
           {
            "line": {
             "colorbar": {
              "outlinewidth": 0,
              "ticks": ""
             }
            },
            "type": "parcoords"
           }
          ],
          "pie": [
           {
            "automargin": true,
            "type": "pie"
           }
          ],
          "scatter": [
           {
            "marker": {
             "colorbar": {
              "outlinewidth": 0,
              "ticks": ""
             }
            },
            "type": "scatter"
           }
          ],
          "scatter3d": [
           {
            "line": {
             "colorbar": {
              "outlinewidth": 0,
              "ticks": ""
             }
            },
            "marker": {
             "colorbar": {
              "outlinewidth": 0,
              "ticks": ""
             }
            },
            "type": "scatter3d"
           }
          ],
          "scattercarpet": [
           {
            "marker": {
             "colorbar": {
              "outlinewidth": 0,
              "ticks": ""
             }
            },
            "type": "scattercarpet"
           }
          ],
          "scattergeo": [
           {
            "marker": {
             "colorbar": {
              "outlinewidth": 0,
              "ticks": ""
             }
            },
            "type": "scattergeo"
           }
          ],
          "scattergl": [
           {
            "marker": {
             "colorbar": {
              "outlinewidth": 0,
              "ticks": ""
             }
            },
            "type": "scattergl"
           }
          ],
          "scattermapbox": [
           {
            "marker": {
             "colorbar": {
              "outlinewidth": 0,
              "ticks": ""
             }
            },
            "type": "scattermapbox"
           }
          ],
          "scatterpolar": [
           {
            "marker": {
             "colorbar": {
              "outlinewidth": 0,
              "ticks": ""
             }
            },
            "type": "scatterpolar"
           }
          ],
          "scatterpolargl": [
           {
            "marker": {
             "colorbar": {
              "outlinewidth": 0,
              "ticks": ""
             }
            },
            "type": "scatterpolargl"
           }
          ],
          "scatterternary": [
           {
            "marker": {
             "colorbar": {
              "outlinewidth": 0,
              "ticks": ""
             }
            },
            "type": "scatterternary"
           }
          ],
          "surface": [
           {
            "colorbar": {
             "outlinewidth": 0,
             "ticks": ""
            },
            "colorscale": [
             [
              0,
              "#0d0887"
             ],
             [
              0.1111111111111111,
              "#46039f"
             ],
             [
              0.2222222222222222,
              "#7201a8"
             ],
             [
              0.3333333333333333,
              "#9c179e"
             ],
             [
              0.4444444444444444,
              "#bd3786"
             ],
             [
              0.5555555555555556,
              "#d8576b"
             ],
             [
              0.6666666666666666,
              "#ed7953"
             ],
             [
              0.7777777777777778,
              "#fb9f3a"
             ],
             [
              0.8888888888888888,
              "#fdca26"
             ],
             [
              1,
              "#f0f921"
             ]
            ],
            "type": "surface"
           }
          ],
          "table": [
           {
            "cells": {
             "fill": {
              "color": "#EBF0F8"
             },
             "line": {
              "color": "white"
             }
            },
            "header": {
             "fill": {
              "color": "#C8D4E3"
             },
             "line": {
              "color": "white"
             }
            },
            "type": "table"
           }
          ]
         },
         "layout": {
          "annotationdefaults": {
           "arrowcolor": "#2a3f5f",
           "arrowhead": 0,
           "arrowwidth": 1
          },
          "autotypenumbers": "strict",
          "coloraxis": {
           "colorbar": {
            "outlinewidth": 0,
            "ticks": ""
           }
          },
          "colorscale": {
           "diverging": [
            [
             0,
             "#8e0152"
            ],
            [
             0.1,
             "#c51b7d"
            ],
            [
             0.2,
             "#de77ae"
            ],
            [
             0.3,
             "#f1b6da"
            ],
            [
             0.4,
             "#fde0ef"
            ],
            [
             0.5,
             "#f7f7f7"
            ],
            [
             0.6,
             "#e6f5d0"
            ],
            [
             0.7,
             "#b8e186"
            ],
            [
             0.8,
             "#7fbc41"
            ],
            [
             0.9,
             "#4d9221"
            ],
            [
             1,
             "#276419"
            ]
           ],
           "sequential": [
            [
             0,
             "#0d0887"
            ],
            [
             0.1111111111111111,
             "#46039f"
            ],
            [
             0.2222222222222222,
             "#7201a8"
            ],
            [
             0.3333333333333333,
             "#9c179e"
            ],
            [
             0.4444444444444444,
             "#bd3786"
            ],
            [
             0.5555555555555556,
             "#d8576b"
            ],
            [
             0.6666666666666666,
             "#ed7953"
            ],
            [
             0.7777777777777778,
             "#fb9f3a"
            ],
            [
             0.8888888888888888,
             "#fdca26"
            ],
            [
             1,
             "#f0f921"
            ]
           ],
           "sequentialminus": [
            [
             0,
             "#0d0887"
            ],
            [
             0.1111111111111111,
             "#46039f"
            ],
            [
             0.2222222222222222,
             "#7201a8"
            ],
            [
             0.3333333333333333,
             "#9c179e"
            ],
            [
             0.4444444444444444,
             "#bd3786"
            ],
            [
             0.5555555555555556,
             "#d8576b"
            ],
            [
             0.6666666666666666,
             "#ed7953"
            ],
            [
             0.7777777777777778,
             "#fb9f3a"
            ],
            [
             0.8888888888888888,
             "#fdca26"
            ],
            [
             1,
             "#f0f921"
            ]
           ]
          },
          "colorway": [
           "#636efa",
           "#EF553B",
           "#00cc96",
           "#ab63fa",
           "#FFA15A",
           "#19d3f3",
           "#FF6692",
           "#B6E880",
           "#FF97FF",
           "#FECB52"
          ],
          "font": {
           "color": "#2a3f5f"
          },
          "geo": {
           "bgcolor": "white",
           "lakecolor": "white",
           "landcolor": "#E5ECF6",
           "showlakes": true,
           "showland": true,
           "subunitcolor": "white"
          },
          "hoverlabel": {
           "align": "left"
          },
          "hovermode": "closest",
          "mapbox": {
           "style": "light"
          },
          "paper_bgcolor": "white",
          "plot_bgcolor": "#E5ECF6",
          "polar": {
           "angularaxis": {
            "gridcolor": "white",
            "linecolor": "white",
            "ticks": ""
           },
           "bgcolor": "#E5ECF6",
           "radialaxis": {
            "gridcolor": "white",
            "linecolor": "white",
            "ticks": ""
           }
          },
          "scene": {
           "xaxis": {
            "backgroundcolor": "#E5ECF6",
            "gridcolor": "white",
            "gridwidth": 2,
            "linecolor": "white",
            "showbackground": true,
            "ticks": "",
            "zerolinecolor": "white"
           },
           "yaxis": {
            "backgroundcolor": "#E5ECF6",
            "gridcolor": "white",
            "gridwidth": 2,
            "linecolor": "white",
            "showbackground": true,
            "ticks": "",
            "zerolinecolor": "white"
           },
           "zaxis": {
            "backgroundcolor": "#E5ECF6",
            "gridcolor": "white",
            "gridwidth": 2,
            "linecolor": "white",
            "showbackground": true,
            "ticks": "",
            "zerolinecolor": "white"
           }
          },
          "shapedefaults": {
           "line": {
            "color": "#2a3f5f"
           }
          },
          "ternary": {
           "aaxis": {
            "gridcolor": "white",
            "linecolor": "white",
            "ticks": ""
           },
           "baxis": {
            "gridcolor": "white",
            "linecolor": "white",
            "ticks": ""
           },
           "bgcolor": "#E5ECF6",
           "caxis": {
            "gridcolor": "white",
            "linecolor": "white",
            "ticks": ""
           }
          },
          "title": {
           "x": 0.05
          },
          "xaxis": {
           "automargin": true,
           "gridcolor": "white",
           "linecolor": "white",
           "ticks": "",
           "title": {
            "standoff": 15
           },
           "zerolinecolor": "white",
           "zerolinewidth": 2
          },
          "yaxis": {
           "automargin": true,
           "gridcolor": "white",
           "linecolor": "white",
           "ticks": "",
           "title": {
            "standoff": 15
           },
           "zerolinecolor": "white",
           "zerolinewidth": 2
          }
         }
        },
        "title": {
         "text": "Variance of Explanability Across Dimensions - Mol2Vec"
        },
        "xaxis": {
         "title": {
          "text": "Dimensions"
         }
        },
        "yaxis": {
         "title": {
          "text": "Variance"
         }
        }
       }
      },
      "text/html": [
       "<div>                            <div id=\"dbd41534-7f38-4600-aff8-5349699bc0b2\" class=\"plotly-graph-div\" style=\"height:525px; width:100%;\"></div>            <script type=\"text/javascript\">                require([\"plotly\"], function(Plotly) {                    window.PLOTLYENV=window.PLOTLYENV || {};                                    if (document.getElementById(\"dbd41534-7f38-4600-aff8-5349699bc0b2\")) {                    Plotly.newPlot(                        \"dbd41534-7f38-4600-aff8-5349699bc0b2\",                        [{\"name\": \"Variance of Embedding Dimensions\", \"type\": \"bar\", \"x\": [0, 1, 2, 3, 4, 5, 6, 7, 8, 9, 10, 11, 12, 13, 14, 15, 16, 17, 18, 19, 20, 21, 22, 23, 24, 25, 26, 27, 28, 29, 30, 31, 32, 33, 34, 35, 36, 37, 38, 39, 40, 41, 42, 43, 44, 45, 46, 47, 48, 49, 50, 51, 52, 53, 54, 55, 56, 57, 58, 59, 60, 61, 62, 63, 64, 65, 66, 67, 68, 69, 70, 71, 72, 73, 74, 75, 76, 77, 78, 79, 80, 81, 82, 83, 84, 85, 86, 87, 88, 89, 90, 91, 92, 93, 94, 95, 96, 97, 98, 99, 100, 101, 102, 103, 104, 105, 106, 107, 108, 109, 110, 111, 112, 113, 114, 115, 116, 117, 118, 119, 120, 121, 122, 123, 124, 125, 126, 127, 128, 129, 130, 131, 132, 133, 134, 135, 136, 137, 138, 139, 140, 141, 142, 143, 144, 145, 146, 147, 148, 149, 150, 151, 152, 153, 154, 155, 156, 157, 158, 159, 160, 161, 162, 163, 164, 165, 166, 167, 168, 169, 170, 171, 172, 173, 174, 175, 176, 177, 178, 179, 180, 181, 182, 183, 184, 185, 186, 187, 188, 189, 190, 191, 192, 193, 194, 195, 196, 197, 198, 199, 200, 201, 202, 203, 204, 205, 206, 207, 208, 209, 210, 211, 212, 213, 214, 215, 216, 217, 218, 219, 220, 221, 222, 223, 224, 225, 226, 227, 228, 229, 230, 231, 232, 233, 234, 235, 236, 237, 238, 239, 240, 241, 242, 243, 244, 245, 246, 247, 248, 249, 250, 251, 252, 253, 254, 255, 256, 257, 258, 259, 260, 261, 262, 263, 264, 265, 266, 267, 268, 269, 270, 271, 272, 273, 274, 275, 276, 277, 278, 279, 280, 281, 282, 283, 284, 285, 286, 287, 288, 289, 290, 291, 292, 293, 294, 295, 296, 297, 298, 299], \"y\": [0.11577913910150528, 0.05423634126782417, 0.0036200731992721558, 4.379213714855723e-05, 0.030330102890729904, 3.581221608328633e-05, 0.004105047322809696, 0.009688839316368103, 0.0009911353699862957, 0.0, 0.005672663450241089, 0.007508693728595972, 0.02110082469880581, 0.0, 1.3720363313041162e-05, 0.0, 0.0002260026813019067, 0.0017781030619516969, 0.0, 0.0, 0.0, 0.0, 0.0, 0.0, 0.00018141622422263026, 1.5592756881233072e-06, 0.0, 0.0, 0.0, 0.0, 0.0, 0.0, 0.0, 0.0, 0.0, 0.0, 0.0, 3.4902866445918335e-06, 0.0, 1.0269110134686343e-05, 2.389638487088064e-10, 2.4282996946567437e-08, 0.0, 0.0, 8.268020610557869e-05, 0.0, 4.482754150103574e-07, 1.4345794170367299e-06, 0.0, 0.0, 8.45480099087581e-05, 0.0, 0.0, 0.0, 0.0, 0.0009184986120089889, 1.3368141480896156e-05, 0.0, 0.0, 0.0, 4.543664147149684e-07, 2.312193828402087e-06, 0.0, 0.0, 0.0003521632170304656, 0.00028763676527887583, 0.0, 4.163423217296014e-10, 0.0, 0.0003154308069497347, 0.0008836384513415396, 0.0, 0.0, 0.0, 0.0, 0.0, 0.0, 0.0, 2.5611234377720393e-06, 0.0, 0.0, 0.0, 0.00013572558236774057, 0.0, 0.0, 0.0, 0.0, 0.0, 0.0, 0.0, 0.0, 1.2243356650287751e-05, 0.0, 0.0, 7.593640475533903e-05, 0.0, 0.0, 0.0, 0.0, 0.0, 0.0, 0.0, 0.0, 0.0, 0.0, 0.0, 0.0, 0.0, 0.0, 2.7401124924608666e-08, 0.0, 0.0, 0.0027044254820793867, 0.0, 0.0, 0.0, 0.0, 0.0, 0.0, 0.0, 0.0, 0.0, 0.0, 0.0, 0.0, 0.0, 0.0, 0.0, 0.0, 0.0, 0.0, 0.0, 0.0, 2.2155663415013294e-10, 0.00569120654836297, 0.0, 0.0026210537180304527, 0.0, 0.0, 0.0, 0.0, 0.0, 0.0, 0.0, 0.0, 0.0, 0.0, 0.0, 0.0, 5.609962317976169e-05, 0.0, 0.0, 0.0, 0.0, 0.0, 0.0, 0.0, 0.0, 0.0, 0.0, 0.0, 9.34826189791238e-08, 0.0, 0.0, 0.0, 0.0, 0.0, 0.0, 0.0, 0.0, 0.0, 0.0, 9.989290505885151e-10, 0.0, 0.0, 0.0, 0.0, 0.0, 0.0, 0.0, 0.0, 0.0, 0.0, 0.0, 0.0, 0.0, 0.0, 0.0003391766513232142, 0.0, 0.0, 0.0, 0.0, 0.0, 0.0, 0.0, 0.0, 0.0, 0.0, 0.0, 0.0, 0.0, 0.0, 0.0, 0.0, 0.0, 0.0, 0.0, 0.0, 0.0, 0.0, 0.0, 0.0, 0.0, 0.0, 0.0, 0.0, 0.0, 0.0, 0.0, 0.0, 0.0, 0.0, 0.00011501597327878699, 0.0, 0.0, 0.0, 0.0, 0.0, 0.0, 0.0, 0.0, 0.0, 0.0, 0.0005047801532782614, 0.0, 0.0, 0.0, 0.0, 0.0, 0.0, 0.0, 0.0, 0.0, 0.0, 0.0, 0.0, 0.0, 0.0, 0.0, 0.0003449069627095014, 0.0, 0.0, 0.0, 0.0, 0.0, 0.0, 0.0, 0.0, 0.0, 0.0, 0.0, 0.0, 0.0, 0.0, 0.0, 0.0, 0.0, 0.0, 0.0, 0.0, 0.0, 0.0, 0.0, 0.0, 7.391676604129316e-09, 0.0, 0.0, 0.0, 0.0, 0.0, 0.0, 0.0, 0.0, 0.0, 0.0, 1.4993822333053686e-05, 0.0, 0.0, 0.0, 0.0, 0.0, 0.0, 0.0, 0.0, 0.0, 0.0, 0.0, 0.0, 0.0, 0.0]}, {\"mode\": \"lines\", \"name\": \"Mean of Variance\", \"type\": \"scatter\", \"x\": [0, 1, 2, 3, 4, 5, 6, 7, 8, 9, 10, 11, 12, 13, 14, 15, 16, 17, 18, 19, 20, 21, 22, 23, 24, 25, 26, 27, 28, 29, 30, 31, 32, 33, 34, 35, 36, 37, 38, 39, 40, 41, 42, 43, 44, 45, 46, 47, 48, 49, 50, 51, 52, 53, 54, 55, 56, 57, 58, 59, 60, 61, 62, 63, 64, 65, 66, 67, 68, 69, 70, 71, 72, 73, 74, 75, 76, 77, 78, 79, 80, 81, 82, 83, 84, 85, 86, 87, 88, 89, 90, 91, 92, 93, 94, 95, 96, 97, 98, 99, 100, 101, 102, 103, 104, 105, 106, 107, 108, 109, 110, 111, 112, 113, 114, 115, 116, 117, 118, 119, 120, 121, 122, 123, 124, 125, 126, 127, 128, 129, 130, 131, 132, 133, 134, 135, 136, 137, 138, 139, 140, 141, 142, 143, 144, 145, 146, 147, 148, 149, 150, 151, 152, 153, 154, 155, 156, 157, 158, 159, 160, 161, 162, 163, 164, 165, 166, 167, 168, 169, 170, 171, 172, 173, 174, 175, 176, 177, 178, 179, 180, 181, 182, 183, 184, 185, 186, 187, 188, 189, 190, 191, 192, 193, 194, 195, 196, 197, 198, 199, 200, 201, 202, 203, 204, 205, 206, 207, 208, 209, 210, 211, 212, 213, 214, 215, 216, 217, 218, 219, 220, 221, 222, 223, 224, 225, 226, 227, 228, 229, 230, 231, 232, 233, 234, 235, 236, 237, 238, 239, 240, 241, 242, 243, 244, 245, 246, 247, 248, 249, 250, 251, 252, 253, 254, 255, 256, 257, 258, 259, 260, 261, 262, 263, 264, 265, 266, 267, 268, 269, 270, 271, 272, 273, 274, 275, 276, 277, 278, 279, 280, 281, 282, 283, 284, 285, 286, 287, 288, 289, 290, 291, 292, 293, 294, 295, 296, 297, 298, 299], \"y\": [0.0009029597276821733, 0.0009029597276821733, 0.0009029597276821733, 0.0009029597276821733, 0.0009029597276821733, 0.0009029597276821733, 0.0009029597276821733, 0.0009029597276821733, 0.0009029597276821733, 0.0009029597276821733, 0.0009029597276821733, 0.0009029597276821733, 0.0009029597276821733, 0.0009029597276821733, 0.0009029597276821733, 0.0009029597276821733, 0.0009029597276821733, 0.0009029597276821733, 0.0009029597276821733, 0.0009029597276821733, 0.0009029597276821733, 0.0009029597276821733, 0.0009029597276821733, 0.0009029597276821733, 0.0009029597276821733, 0.0009029597276821733, 0.0009029597276821733, 0.0009029597276821733, 0.0009029597276821733, 0.0009029597276821733, 0.0009029597276821733, 0.0009029597276821733, 0.0009029597276821733, 0.0009029597276821733, 0.0009029597276821733, 0.0009029597276821733, 0.0009029597276821733, 0.0009029597276821733, 0.0009029597276821733, 0.0009029597276821733, 0.0009029597276821733, 0.0009029597276821733, 0.0009029597276821733, 0.0009029597276821733, 0.0009029597276821733, 0.0009029597276821733, 0.0009029597276821733, 0.0009029597276821733, 0.0009029597276821733, 0.0009029597276821733, 0.0009029597276821733, 0.0009029597276821733, 0.0009029597276821733, 0.0009029597276821733, 0.0009029597276821733, 0.0009029597276821733, 0.0009029597276821733, 0.0009029597276821733, 0.0009029597276821733, 0.0009029597276821733, 0.0009029597276821733, 0.0009029597276821733, 0.0009029597276821733, 0.0009029597276821733, 0.0009029597276821733, 0.0009029597276821733, 0.0009029597276821733, 0.0009029597276821733, 0.0009029597276821733, 0.0009029597276821733, 0.0009029597276821733, 0.0009029597276821733, 0.0009029597276821733, 0.0009029597276821733, 0.0009029597276821733, 0.0009029597276821733, 0.0009029597276821733, 0.0009029597276821733, 0.0009029597276821733, 0.0009029597276821733, 0.0009029597276821733, 0.0009029597276821733, 0.0009029597276821733, 0.0009029597276821733, 0.0009029597276821733, 0.0009029597276821733, 0.0009029597276821733, 0.0009029597276821733, 0.0009029597276821733, 0.0009029597276821733, 0.0009029597276821733, 0.0009029597276821733, 0.0009029597276821733, 0.0009029597276821733, 0.0009029597276821733, 0.0009029597276821733, 0.0009029597276821733, 0.0009029597276821733, 0.0009029597276821733, 0.0009029597276821733, 0.0009029597276821733, 0.0009029597276821733, 0.0009029597276821733, 0.0009029597276821733, 0.0009029597276821733, 0.0009029597276821733, 0.0009029597276821733, 0.0009029597276821733, 0.0009029597276821733, 0.0009029597276821733, 0.0009029597276821733, 0.0009029597276821733, 0.0009029597276821733, 0.0009029597276821733, 0.0009029597276821733, 0.0009029597276821733, 0.0009029597276821733, 0.0009029597276821733, 0.0009029597276821733, 0.0009029597276821733, 0.0009029597276821733, 0.0009029597276821733, 0.0009029597276821733, 0.0009029597276821733, 0.0009029597276821733, 0.0009029597276821733, 0.0009029597276821733, 0.0009029597276821733, 0.0009029597276821733, 0.0009029597276821733, 0.0009029597276821733, 0.0009029597276821733, 0.0009029597276821733, 0.0009029597276821733, 0.0009029597276821733, 0.0009029597276821733, 0.0009029597276821733, 0.0009029597276821733, 0.0009029597276821733, 0.0009029597276821733, 0.0009029597276821733, 0.0009029597276821733, 0.0009029597276821733, 0.0009029597276821733, 0.0009029597276821733, 0.0009029597276821733, 0.0009029597276821733, 0.0009029597276821733, 0.0009029597276821733, 0.0009029597276821733, 0.0009029597276821733, 0.0009029597276821733, 0.0009029597276821733, 0.0009029597276821733, 0.0009029597276821733, 0.0009029597276821733, 0.0009029597276821733, 0.0009029597276821733, 0.0009029597276821733, 0.0009029597276821733, 0.0009029597276821733, 0.0009029597276821733, 0.0009029597276821733, 0.0009029597276821733, 0.0009029597276821733, 0.0009029597276821733, 0.0009029597276821733, 0.0009029597276821733, 0.0009029597276821733, 0.0009029597276821733, 0.0009029597276821733, 0.0009029597276821733, 0.0009029597276821733, 0.0009029597276821733, 0.0009029597276821733, 0.0009029597276821733, 0.0009029597276821733, 0.0009029597276821733, 0.0009029597276821733, 0.0009029597276821733, 0.0009029597276821733, 0.0009029597276821733, 0.0009029597276821733, 0.0009029597276821733, 0.0009029597276821733, 0.0009029597276821733, 0.0009029597276821733, 0.0009029597276821733, 0.0009029597276821733, 0.0009029597276821733, 0.0009029597276821733, 0.0009029597276821733, 0.0009029597276821733, 0.0009029597276821733, 0.0009029597276821733, 0.0009029597276821733, 0.0009029597276821733, 0.0009029597276821733, 0.0009029597276821733, 0.0009029597276821733, 0.0009029597276821733, 0.0009029597276821733, 0.0009029597276821733, 0.0009029597276821733, 0.0009029597276821733, 0.0009029597276821733, 0.0009029597276821733, 0.0009029597276821733, 0.0009029597276821733, 0.0009029597276821733, 0.0009029597276821733, 0.0009029597276821733, 0.0009029597276821733, 0.0009029597276821733, 0.0009029597276821733, 0.0009029597276821733, 0.0009029597276821733, 0.0009029597276821733, 0.0009029597276821733, 0.0009029597276821733, 0.0009029597276821733, 0.0009029597276821733, 0.0009029597276821733, 0.0009029597276821733, 0.0009029597276821733, 0.0009029597276821733, 0.0009029597276821733, 0.0009029597276821733, 0.0009029597276821733, 0.0009029597276821733, 0.0009029597276821733, 0.0009029597276821733, 0.0009029597276821733, 0.0009029597276821733, 0.0009029597276821733, 0.0009029597276821733, 0.0009029597276821733, 0.0009029597276821733, 0.0009029597276821733, 0.0009029597276821733, 0.0009029597276821733, 0.0009029597276821733, 0.0009029597276821733, 0.0009029597276821733, 0.0009029597276821733, 0.0009029597276821733, 0.0009029597276821733, 0.0009029597276821733, 0.0009029597276821733, 0.0009029597276821733, 0.0009029597276821733, 0.0009029597276821733, 0.0009029597276821733, 0.0009029597276821733, 0.0009029597276821733, 0.0009029597276821733, 0.0009029597276821733, 0.0009029597276821733, 0.0009029597276821733, 0.0009029597276821733, 0.0009029597276821733, 0.0009029597276821733, 0.0009029597276821733, 0.0009029597276821733, 0.0009029597276821733, 0.0009029597276821733, 0.0009029597276821733, 0.0009029597276821733, 0.0009029597276821733, 0.0009029597276821733, 0.0009029597276821733, 0.0009029597276821733, 0.0009029597276821733, 0.0009029597276821733, 0.0009029597276821733, 0.0009029597276821733, 0.0009029597276821733, 0.0009029597276821733, 0.0009029597276821733, 0.0009029597276821733, 0.0009029597276821733, 0.0009029597276821733, 0.0009029597276821733, 0.0009029597276821733, 0.0009029597276821733, 0.0009029597276821733, 0.0009029597276821733, 0.0009029597276821733, 0.0009029597276821733, 0.0009029597276821733, 0.0009029597276821733, 0.0009029597276821733, 0.0009029597276821733, 0.0009029597276821733, 0.0009029597276821733, 0.0009029597276821733, 0.0009029597276821733, 0.0009029597276821733, 0.0009029597276821733, 0.0009029597276821733]}, {\"mode\": \"lines\", \"name\": \"Median of Variance\", \"type\": \"scatter\", \"x\": [0, 1, 2, 3, 4, 5, 6, 7, 8, 9, 10, 11, 12, 13, 14, 15, 16, 17, 18, 19, 20, 21, 22, 23, 24, 25, 26, 27, 28, 29, 30, 31, 32, 33, 34, 35, 36, 37, 38, 39, 40, 41, 42, 43, 44, 45, 46, 47, 48, 49, 50, 51, 52, 53, 54, 55, 56, 57, 58, 59, 60, 61, 62, 63, 64, 65, 66, 67, 68, 69, 70, 71, 72, 73, 74, 75, 76, 77, 78, 79, 80, 81, 82, 83, 84, 85, 86, 87, 88, 89, 90, 91, 92, 93, 94, 95, 96, 97, 98, 99, 100, 101, 102, 103, 104, 105, 106, 107, 108, 109, 110, 111, 112, 113, 114, 115, 116, 117, 118, 119, 120, 121, 122, 123, 124, 125, 126, 127, 128, 129, 130, 131, 132, 133, 134, 135, 136, 137, 138, 139, 140, 141, 142, 143, 144, 145, 146, 147, 148, 149, 150, 151, 152, 153, 154, 155, 156, 157, 158, 159, 160, 161, 162, 163, 164, 165, 166, 167, 168, 169, 170, 171, 172, 173, 174, 175, 176, 177, 178, 179, 180, 181, 182, 183, 184, 185, 186, 187, 188, 189, 190, 191, 192, 193, 194, 195, 196, 197, 198, 199, 200, 201, 202, 203, 204, 205, 206, 207, 208, 209, 210, 211, 212, 213, 214, 215, 216, 217, 218, 219, 220, 221, 222, 223, 224, 225, 226, 227, 228, 229, 230, 231, 232, 233, 234, 235, 236, 237, 238, 239, 240, 241, 242, 243, 244, 245, 246, 247, 248, 249, 250, 251, 252, 253, 254, 255, 256, 257, 258, 259, 260, 261, 262, 263, 264, 265, 266, 267, 268, 269, 270, 271, 272, 273, 274, 275, 276, 277, 278, 279, 280, 281, 282, 283, 284, 285, 286, 287, 288, 289, 290, 291, 292, 293, 294, 295, 296, 297, 298, 299], \"y\": [0.0, 0.0, 0.0, 0.0, 0.0, 0.0, 0.0, 0.0, 0.0, 0.0, 0.0, 0.0, 0.0, 0.0, 0.0, 0.0, 0.0, 0.0, 0.0, 0.0, 0.0, 0.0, 0.0, 0.0, 0.0, 0.0, 0.0, 0.0, 0.0, 0.0, 0.0, 0.0, 0.0, 0.0, 0.0, 0.0, 0.0, 0.0, 0.0, 0.0, 0.0, 0.0, 0.0, 0.0, 0.0, 0.0, 0.0, 0.0, 0.0, 0.0, 0.0, 0.0, 0.0, 0.0, 0.0, 0.0, 0.0, 0.0, 0.0, 0.0, 0.0, 0.0, 0.0, 0.0, 0.0, 0.0, 0.0, 0.0, 0.0, 0.0, 0.0, 0.0, 0.0, 0.0, 0.0, 0.0, 0.0, 0.0, 0.0, 0.0, 0.0, 0.0, 0.0, 0.0, 0.0, 0.0, 0.0, 0.0, 0.0, 0.0, 0.0, 0.0, 0.0, 0.0, 0.0, 0.0, 0.0, 0.0, 0.0, 0.0, 0.0, 0.0, 0.0, 0.0, 0.0, 0.0, 0.0, 0.0, 0.0, 0.0, 0.0, 0.0, 0.0, 0.0, 0.0, 0.0, 0.0, 0.0, 0.0, 0.0, 0.0, 0.0, 0.0, 0.0, 0.0, 0.0, 0.0, 0.0, 0.0, 0.0, 0.0, 0.0, 0.0, 0.0, 0.0, 0.0, 0.0, 0.0, 0.0, 0.0, 0.0, 0.0, 0.0, 0.0, 0.0, 0.0, 0.0, 0.0, 0.0, 0.0, 0.0, 0.0, 0.0, 0.0, 0.0, 0.0, 0.0, 0.0, 0.0, 0.0, 0.0, 0.0, 0.0, 0.0, 0.0, 0.0, 0.0, 0.0, 0.0, 0.0, 0.0, 0.0, 0.0, 0.0, 0.0, 0.0, 0.0, 0.0, 0.0, 0.0, 0.0, 0.0, 0.0, 0.0, 0.0, 0.0, 0.0, 0.0, 0.0, 0.0, 0.0, 0.0, 0.0, 0.0, 0.0, 0.0, 0.0, 0.0, 0.0, 0.0, 0.0, 0.0, 0.0, 0.0, 0.0, 0.0, 0.0, 0.0, 0.0, 0.0, 0.0, 0.0, 0.0, 0.0, 0.0, 0.0, 0.0, 0.0, 0.0, 0.0, 0.0, 0.0, 0.0, 0.0, 0.0, 0.0, 0.0, 0.0, 0.0, 0.0, 0.0, 0.0, 0.0, 0.0, 0.0, 0.0, 0.0, 0.0, 0.0, 0.0, 0.0, 0.0, 0.0, 0.0, 0.0, 0.0, 0.0, 0.0, 0.0, 0.0, 0.0, 0.0, 0.0, 0.0, 0.0, 0.0, 0.0, 0.0, 0.0, 0.0, 0.0, 0.0, 0.0, 0.0, 0.0, 0.0, 0.0, 0.0, 0.0, 0.0, 0.0, 0.0, 0.0, 0.0, 0.0, 0.0, 0.0, 0.0, 0.0, 0.0, 0.0, 0.0, 0.0, 0.0, 0.0, 0.0, 0.0, 0.0, 0.0, 0.0, 0.0, 0.0, 0.0, 0.0, 0.0, 0.0, 0.0, 0.0, 0.0, 0.0]}],                        {\"template\": {\"data\": {\"bar\": [{\"error_x\": {\"color\": \"#2a3f5f\"}, \"error_y\": {\"color\": \"#2a3f5f\"}, \"marker\": {\"line\": {\"color\": \"#E5ECF6\", \"width\": 0.5}}, \"type\": \"bar\"}], \"barpolar\": [{\"marker\": {\"line\": {\"color\": \"#E5ECF6\", \"width\": 0.5}}, \"type\": \"barpolar\"}], \"carpet\": [{\"aaxis\": {\"endlinecolor\": \"#2a3f5f\", \"gridcolor\": \"white\", \"linecolor\": \"white\", \"minorgridcolor\": \"white\", \"startlinecolor\": \"#2a3f5f\"}, \"baxis\": {\"endlinecolor\": \"#2a3f5f\", \"gridcolor\": \"white\", \"linecolor\": \"white\", \"minorgridcolor\": \"white\", \"startlinecolor\": \"#2a3f5f\"}, \"type\": \"carpet\"}], \"choropleth\": [{\"colorbar\": {\"outlinewidth\": 0, \"ticks\": \"\"}, \"type\": \"choropleth\"}], \"contour\": [{\"colorbar\": {\"outlinewidth\": 0, \"ticks\": \"\"}, \"colorscale\": [[0.0, \"#0d0887\"], [0.1111111111111111, \"#46039f\"], [0.2222222222222222, \"#7201a8\"], [0.3333333333333333, \"#9c179e\"], [0.4444444444444444, \"#bd3786\"], [0.5555555555555556, \"#d8576b\"], [0.6666666666666666, \"#ed7953\"], [0.7777777777777778, \"#fb9f3a\"], [0.8888888888888888, \"#fdca26\"], [1.0, \"#f0f921\"]], \"type\": \"contour\"}], \"contourcarpet\": [{\"colorbar\": {\"outlinewidth\": 0, \"ticks\": \"\"}, \"type\": \"contourcarpet\"}], \"heatmap\": [{\"colorbar\": {\"outlinewidth\": 0, \"ticks\": \"\"}, \"colorscale\": [[0.0, \"#0d0887\"], [0.1111111111111111, \"#46039f\"], [0.2222222222222222, \"#7201a8\"], [0.3333333333333333, \"#9c179e\"], [0.4444444444444444, \"#bd3786\"], [0.5555555555555556, \"#d8576b\"], [0.6666666666666666, \"#ed7953\"], [0.7777777777777778, \"#fb9f3a\"], [0.8888888888888888, \"#fdca26\"], [1.0, \"#f0f921\"]], \"type\": \"heatmap\"}], \"heatmapgl\": [{\"colorbar\": {\"outlinewidth\": 0, \"ticks\": \"\"}, \"colorscale\": [[0.0, \"#0d0887\"], [0.1111111111111111, \"#46039f\"], [0.2222222222222222, \"#7201a8\"], [0.3333333333333333, \"#9c179e\"], [0.4444444444444444, \"#bd3786\"], [0.5555555555555556, \"#d8576b\"], [0.6666666666666666, \"#ed7953\"], [0.7777777777777778, \"#fb9f3a\"], [0.8888888888888888, \"#fdca26\"], [1.0, \"#f0f921\"]], \"type\": \"heatmapgl\"}], \"histogram\": [{\"marker\": {\"colorbar\": {\"outlinewidth\": 0, \"ticks\": \"\"}}, \"type\": \"histogram\"}], \"histogram2d\": [{\"colorbar\": {\"outlinewidth\": 0, \"ticks\": \"\"}, \"colorscale\": [[0.0, \"#0d0887\"], [0.1111111111111111, \"#46039f\"], [0.2222222222222222, \"#7201a8\"], [0.3333333333333333, \"#9c179e\"], [0.4444444444444444, \"#bd3786\"], [0.5555555555555556, \"#d8576b\"], [0.6666666666666666, \"#ed7953\"], [0.7777777777777778, \"#fb9f3a\"], [0.8888888888888888, \"#fdca26\"], [1.0, \"#f0f921\"]], \"type\": \"histogram2d\"}], \"histogram2dcontour\": [{\"colorbar\": {\"outlinewidth\": 0, \"ticks\": \"\"}, \"colorscale\": [[0.0, \"#0d0887\"], [0.1111111111111111, \"#46039f\"], [0.2222222222222222, \"#7201a8\"], [0.3333333333333333, \"#9c179e\"], [0.4444444444444444, \"#bd3786\"], [0.5555555555555556, \"#d8576b\"], [0.6666666666666666, \"#ed7953\"], [0.7777777777777778, \"#fb9f3a\"], [0.8888888888888888, \"#fdca26\"], [1.0, \"#f0f921\"]], \"type\": \"histogram2dcontour\"}], \"mesh3d\": [{\"colorbar\": {\"outlinewidth\": 0, \"ticks\": \"\"}, \"type\": \"mesh3d\"}], \"parcoords\": [{\"line\": {\"colorbar\": {\"outlinewidth\": 0, \"ticks\": \"\"}}, \"type\": \"parcoords\"}], \"pie\": [{\"automargin\": true, \"type\": \"pie\"}], \"scatter\": [{\"marker\": {\"colorbar\": {\"outlinewidth\": 0, \"ticks\": \"\"}}, \"type\": \"scatter\"}], \"scatter3d\": [{\"line\": {\"colorbar\": {\"outlinewidth\": 0, \"ticks\": \"\"}}, \"marker\": {\"colorbar\": {\"outlinewidth\": 0, \"ticks\": \"\"}}, \"type\": \"scatter3d\"}], \"scattercarpet\": [{\"marker\": {\"colorbar\": {\"outlinewidth\": 0, \"ticks\": \"\"}}, \"type\": \"scattercarpet\"}], \"scattergeo\": [{\"marker\": {\"colorbar\": {\"outlinewidth\": 0, \"ticks\": \"\"}}, \"type\": \"scattergeo\"}], \"scattergl\": [{\"marker\": {\"colorbar\": {\"outlinewidth\": 0, \"ticks\": \"\"}}, \"type\": \"scattergl\"}], \"scattermapbox\": [{\"marker\": {\"colorbar\": {\"outlinewidth\": 0, \"ticks\": \"\"}}, \"type\": \"scattermapbox\"}], \"scatterpolar\": [{\"marker\": {\"colorbar\": {\"outlinewidth\": 0, \"ticks\": \"\"}}, \"type\": \"scatterpolar\"}], \"scatterpolargl\": [{\"marker\": {\"colorbar\": {\"outlinewidth\": 0, \"ticks\": \"\"}}, \"type\": \"scatterpolargl\"}], \"scatterternary\": [{\"marker\": {\"colorbar\": {\"outlinewidth\": 0, \"ticks\": \"\"}}, \"type\": \"scatterternary\"}], \"surface\": [{\"colorbar\": {\"outlinewidth\": 0, \"ticks\": \"\"}, \"colorscale\": [[0.0, \"#0d0887\"], [0.1111111111111111, \"#46039f\"], [0.2222222222222222, \"#7201a8\"], [0.3333333333333333, \"#9c179e\"], [0.4444444444444444, \"#bd3786\"], [0.5555555555555556, \"#d8576b\"], [0.6666666666666666, \"#ed7953\"], [0.7777777777777778, \"#fb9f3a\"], [0.8888888888888888, \"#fdca26\"], [1.0, \"#f0f921\"]], \"type\": \"surface\"}], \"table\": [{\"cells\": {\"fill\": {\"color\": \"#EBF0F8\"}, \"line\": {\"color\": \"white\"}}, \"header\": {\"fill\": {\"color\": \"#C8D4E3\"}, \"line\": {\"color\": \"white\"}}, \"type\": \"table\"}]}, \"layout\": {\"annotationdefaults\": {\"arrowcolor\": \"#2a3f5f\", \"arrowhead\": 0, \"arrowwidth\": 1}, \"autotypenumbers\": \"strict\", \"coloraxis\": {\"colorbar\": {\"outlinewidth\": 0, \"ticks\": \"\"}}, \"colorscale\": {\"diverging\": [[0, \"#8e0152\"], [0.1, \"#c51b7d\"], [0.2, \"#de77ae\"], [0.3, \"#f1b6da\"], [0.4, \"#fde0ef\"], [0.5, \"#f7f7f7\"], [0.6, \"#e6f5d0\"], [0.7, \"#b8e186\"], [0.8, \"#7fbc41\"], [0.9, \"#4d9221\"], [1, \"#276419\"]], \"sequential\": [[0.0, \"#0d0887\"], [0.1111111111111111, \"#46039f\"], [0.2222222222222222, \"#7201a8\"], [0.3333333333333333, \"#9c179e\"], [0.4444444444444444, \"#bd3786\"], [0.5555555555555556, \"#d8576b\"], [0.6666666666666666, \"#ed7953\"], [0.7777777777777778, \"#fb9f3a\"], [0.8888888888888888, \"#fdca26\"], [1.0, \"#f0f921\"]], \"sequentialminus\": [[0.0, \"#0d0887\"], [0.1111111111111111, \"#46039f\"], [0.2222222222222222, \"#7201a8\"], [0.3333333333333333, \"#9c179e\"], [0.4444444444444444, \"#bd3786\"], [0.5555555555555556, \"#d8576b\"], [0.6666666666666666, \"#ed7953\"], [0.7777777777777778, \"#fb9f3a\"], [0.8888888888888888, \"#fdca26\"], [1.0, \"#f0f921\"]]}, \"colorway\": [\"#636efa\", \"#EF553B\", \"#00cc96\", \"#ab63fa\", \"#FFA15A\", \"#19d3f3\", \"#FF6692\", \"#B6E880\", \"#FF97FF\", \"#FECB52\"], \"font\": {\"color\": \"#2a3f5f\"}, \"geo\": {\"bgcolor\": \"white\", \"lakecolor\": \"white\", \"landcolor\": \"#E5ECF6\", \"showlakes\": true, \"showland\": true, \"subunitcolor\": \"white\"}, \"hoverlabel\": {\"align\": \"left\"}, \"hovermode\": \"closest\", \"mapbox\": {\"style\": \"light\"}, \"paper_bgcolor\": \"white\", \"plot_bgcolor\": \"#E5ECF6\", \"polar\": {\"angularaxis\": {\"gridcolor\": \"white\", \"linecolor\": \"white\", \"ticks\": \"\"}, \"bgcolor\": \"#E5ECF6\", \"radialaxis\": {\"gridcolor\": \"white\", \"linecolor\": \"white\", \"ticks\": \"\"}}, \"scene\": {\"xaxis\": {\"backgroundcolor\": \"#E5ECF6\", \"gridcolor\": \"white\", \"gridwidth\": 2, \"linecolor\": \"white\", \"showbackground\": true, \"ticks\": \"\", \"zerolinecolor\": \"white\"}, \"yaxis\": {\"backgroundcolor\": \"#E5ECF6\", \"gridcolor\": \"white\", \"gridwidth\": 2, \"linecolor\": \"white\", \"showbackground\": true, \"ticks\": \"\", \"zerolinecolor\": \"white\"}, \"zaxis\": {\"backgroundcolor\": \"#E5ECF6\", \"gridcolor\": \"white\", \"gridwidth\": 2, \"linecolor\": \"white\", \"showbackground\": true, \"ticks\": \"\", \"zerolinecolor\": \"white\"}}, \"shapedefaults\": {\"line\": {\"color\": \"#2a3f5f\"}}, \"ternary\": {\"aaxis\": {\"gridcolor\": \"white\", \"linecolor\": \"white\", \"ticks\": \"\"}, \"baxis\": {\"gridcolor\": \"white\", \"linecolor\": \"white\", \"ticks\": \"\"}, \"bgcolor\": \"#E5ECF6\", \"caxis\": {\"gridcolor\": \"white\", \"linecolor\": \"white\", \"ticks\": \"\"}}, \"title\": {\"x\": 0.05}, \"xaxis\": {\"automargin\": true, \"gridcolor\": \"white\", \"linecolor\": \"white\", \"ticks\": \"\", \"title\": {\"standoff\": 15}, \"zerolinecolor\": \"white\", \"zerolinewidth\": 2}, \"yaxis\": {\"automargin\": true, \"gridcolor\": \"white\", \"linecolor\": \"white\", \"ticks\": \"\", \"title\": {\"standoff\": 15}, \"zerolinecolor\": \"white\", \"zerolinewidth\": 2}}}, \"title\": {\"text\": \"Variance of Explanability Across Dimensions - Mol2Vec\"}, \"xaxis\": {\"title\": {\"text\": \"Dimensions\"}}, \"yaxis\": {\"title\": {\"text\": \"Variance\"}}},                        {\"responsive\": true}                    ).then(function(){\n",
       "                            \n",
       "var gd = document.getElementById('dbd41534-7f38-4600-aff8-5349699bc0b2');\n",
       "var x = new MutationObserver(function (mutations, observer) {{\n",
       "        var display = window.getComputedStyle(gd).display;\n",
       "        if (!display || display === 'none') {{\n",
       "            console.log([gd, 'removed!']);\n",
       "            Plotly.purge(gd);\n",
       "            observer.disconnect();\n",
       "        }}\n",
       "}});\n",
       "\n",
       "// Listen for the removal of the full notebook cells\n",
       "var notebookContainer = gd.closest('#notebook-container');\n",
       "if (notebookContainer) {{\n",
       "    x.observe(notebookContainer, {childList: true});\n",
       "}}\n",
       "\n",
       "// Listen for the clearing of the current output cell\n",
       "var outputEl = gd.closest('.output');\n",
       "if (outputEl) {{\n",
       "    x.observe(outputEl, {childList: true});\n",
       "}}\n",
       "\n",
       "                        })                };                });            </script>        </div>"
      ]
     },
     "metadata": {},
     "output_type": "display_data"
    },
    {
     "data": {
      "application/vnd.plotly.v1+json": {
       "config": {
        "plotlyServerURL": "https://plot.ly"
       },
       "data": [
        {
         "name": "Dimension 0",
         "type": "bar",
         "x": [
          "Number of Atoms",
          "Count of Boron Atoms",
          "Count of Carbon Atoms",
          "Count of Nitrogen Atoms",
          "Count of Oxygen Atoms",
          "Count of Flourine Atoms",
          "Count of Phosphorus Atoms",
          "Count of Sulphur Atoms",
          "Count of Chlorine Atoms",
          "Count of Bromine Atoms",
          "Count of Iodine Atoms",
          "Count of Heavy Atoms",
          "Molecular Weight",
          "Hydrogen Acceptor Count",
          "Hydrogen Donor Count",
          "Solubility in Water",
          "Number of Rings",
          "Number of Chirals"
         ],
         "y": [
          1.036392331123352,
          1.050814151763916,
          0.1989377737045288,
          1.1163493394851685,
          0.1341603398323059,
          1.1214044094085693,
          1.0250226259231567,
          1.028892159461975,
          1.0845801830291748,
          1.0587581396102905,
          1.0597004890441895,
          1.036068081855774,
          1.1310926675796509,
          0.8872718214988708,
          0.40697410702705383,
          0.5725721716880798,
          1.2557978630065918,
          0.4303183853626251
         ]
        },
        {
         "name": "Dimension 1",
         "type": "bar",
         "x": [
          "Number of Atoms",
          "Count of Boron Atoms",
          "Count of Carbon Atoms",
          "Count of Nitrogen Atoms",
          "Count of Oxygen Atoms",
          "Count of Flourine Atoms",
          "Count of Phosphorus Atoms",
          "Count of Sulphur Atoms",
          "Count of Chlorine Atoms",
          "Count of Bromine Atoms",
          "Count of Iodine Atoms",
          "Count of Heavy Atoms",
          "Molecular Weight",
          "Hydrogen Acceptor Count",
          "Hydrogen Donor Count",
          "Solubility in Water",
          "Number of Rings",
          "Number of Chirals"
         ],
         "y": [
          0.5117247700691223,
          0.4771662950515747,
          0.8642120361328125,
          0.19556479156017303,
          0.12468012422323227,
          0.40228524804115295,
          0.41248196363449097,
          0.46320655941963196,
          0.45380720496177673,
          0.4771265983581543,
          0.47163957357406616,
          0.5122075080871582,
          0.48123568296432495,
          0,
          0.30644065141677856,
          0.7656282186508179,
          0.042045146226882935,
          0
         ]
        },
        {
         "name": "Dimension 2",
         "type": "bar",
         "x": [
          "Number of Atoms",
          "Count of Boron Atoms",
          "Count of Carbon Atoms",
          "Count of Nitrogen Atoms",
          "Count of Oxygen Atoms",
          "Count of Flourine Atoms",
          "Count of Phosphorus Atoms",
          "Count of Sulphur Atoms",
          "Count of Chlorine Atoms",
          "Count of Bromine Atoms",
          "Count of Iodine Atoms",
          "Count of Heavy Atoms",
          "Molecular Weight",
          "Hydrogen Acceptor Count",
          "Hydrogen Donor Count",
          "Solubility in Water",
          "Number of Rings",
          "Number of Chirals"
         ],
         "y": [
          0,
          0.06948460638523102,
          0,
          0.17214903235435486,
          0.128351628780365,
          0.07234317064285278,
          0.09915036708116531,
          0.09560373425483704,
          0.0880555734038353,
          0.06215175986289978,
          0.06541796028614044,
          0,
          0.002320181578397751,
          0.07010523229837418,
          0.19702455401420593,
          0,
          0.1379198580980301,
          0.14513230323791504
         ]
        },
        {
         "name": "Dimension 4",
         "type": "bar",
         "x": [
          "Number of Atoms",
          "Count of Boron Atoms",
          "Count of Carbon Atoms",
          "Count of Nitrogen Atoms",
          "Count of Oxygen Atoms",
          "Count of Flourine Atoms",
          "Count of Phosphorus Atoms",
          "Count of Sulphur Atoms",
          "Count of Chlorine Atoms",
          "Count of Bromine Atoms",
          "Count of Iodine Atoms",
          "Count of Heavy Atoms",
          "Molecular Weight",
          "Hydrogen Acceptor Count",
          "Hydrogen Donor Count",
          "Solubility in Water",
          "Number of Rings",
          "Number of Chirals"
         ],
         "y": [
          0,
          0.11702679097652435,
          0,
          0,
          0.608803391456604,
          0.04066420719027519,
          0.12998607754707336,
          0.09495528042316437,
          0.08170182257890701,
          0.11917359381914139,
          0.11858014762401581,
          0,
          0.057942599058151245,
          0.431692510843277,
          0.36372610926628113,
          0,
          0,
          0.36334118247032166
         ]
        },
        {
         "name": "Dimension 6",
         "type": "bar",
         "x": [
          "Number of Atoms",
          "Count of Boron Atoms",
          "Count of Carbon Atoms",
          "Count of Nitrogen Atoms",
          "Count of Oxygen Atoms",
          "Count of Flourine Atoms",
          "Count of Phosphorus Atoms",
          "Count of Sulphur Atoms",
          "Count of Chlorine Atoms",
          "Count of Bromine Atoms",
          "Count of Iodine Atoms",
          "Count of Heavy Atoms",
          "Molecular Weight",
          "Hydrogen Acceptor Count",
          "Hydrogen Donor Count",
          "Solubility in Water",
          "Number of Rings",
          "Number of Chirals"
         ],
         "y": [
          0,
          0.10118351131677628,
          0,
          0.1012156754732132,
          0.01510606985539198,
          0.15442752838134766,
          0.08687310665845871,
          0.10958833247423172,
          0.1448555886745453,
          0.11071934551000595,
          0.10769738256931305,
          0,
          0.07419273257255554,
          0.14920184016227722,
          0.05367380380630493,
          0,
          0.21746432781219482,
          0
         ]
        },
        {
         "name": "Dimension 7",
         "type": "bar",
         "x": [
          "Number of Atoms",
          "Count of Boron Atoms",
          "Count of Carbon Atoms",
          "Count of Nitrogen Atoms",
          "Count of Oxygen Atoms",
          "Count of Flourine Atoms",
          "Count of Phosphorus Atoms",
          "Count of Sulphur Atoms",
          "Count of Chlorine Atoms",
          "Count of Bromine Atoms",
          "Count of Iodine Atoms",
          "Count of Heavy Atoms",
          "Molecular Weight",
          "Hydrogen Acceptor Count",
          "Hydrogen Donor Count",
          "Solubility in Water",
          "Number of Rings",
          "Number of Chirals"
         ],
         "y": [
          0.062288183718919754,
          0,
          0.3766336143016815,
          0,
          0,
          0,
          0,
          0,
          0,
          0,
          0,
          0.061832133680582047,
          2.546464565966744e-05,
          0,
          0,
          0,
          0.23475900292396545,
          0.083855539560318
         ]
        },
        {
         "name": "Dimension 8",
         "type": "bar",
         "x": [
          "Number of Atoms",
          "Count of Boron Atoms",
          "Count of Carbon Atoms",
          "Count of Nitrogen Atoms",
          "Count of Oxygen Atoms",
          "Count of Flourine Atoms",
          "Count of Phosphorus Atoms",
          "Count of Sulphur Atoms",
          "Count of Chlorine Atoms",
          "Count of Bromine Atoms",
          "Count of Iodine Atoms",
          "Count of Heavy Atoms",
          "Molecular Weight",
          "Hydrogen Acceptor Count",
          "Hydrogen Donor Count",
          "Solubility in Water",
          "Number of Rings",
          "Number of Chirals"
         ],
         "y": [
          0,
          0.0033911806531250477,
          0,
          0.10182184725999832,
          0,
          0.07862581312656403,
          0.008263744413852692,
          0.015028765425086021,
          0.012516033835709095,
          0.0016796430572867393,
          0.002310812007635832,
          0,
          0.02446453832089901,
          0,
          0,
          0.07838025689125061,
          0,
          0
         ]
        },
        {
         "name": "Dimension 10",
         "type": "bar",
         "x": [
          "Number of Atoms",
          "Count of Boron Atoms",
          "Count of Carbon Atoms",
          "Count of Nitrogen Atoms",
          "Count of Oxygen Atoms",
          "Count of Flourine Atoms",
          "Count of Phosphorus Atoms",
          "Count of Sulphur Atoms",
          "Count of Chlorine Atoms",
          "Count of Bromine Atoms",
          "Count of Iodine Atoms",
          "Count of Heavy Atoms",
          "Molecular Weight",
          "Hydrogen Acceptor Count",
          "Hydrogen Donor Count",
          "Solubility in Water",
          "Number of Rings",
          "Number of Chirals"
         ],
         "y": [
          0,
          0,
          0,
          0,
          0.00995780061930418,
          0,
          0,
          0,
          0,
          0,
          0,
          0,
          0,
          0,
          0,
          0,
          0,
          0.3292428255081177
         ]
        },
        {
         "name": "Dimension 11",
         "type": "bar",
         "x": [
          "Number of Atoms",
          "Count of Boron Atoms",
          "Count of Carbon Atoms",
          "Count of Nitrogen Atoms",
          "Count of Oxygen Atoms",
          "Count of Flourine Atoms",
          "Count of Phosphorus Atoms",
          "Count of Sulphur Atoms",
          "Count of Chlorine Atoms",
          "Count of Bromine Atoms",
          "Count of Iodine Atoms",
          "Count of Heavy Atoms",
          "Molecular Weight",
          "Hydrogen Acceptor Count",
          "Hydrogen Donor Count",
          "Solubility in Water",
          "Number of Rings",
          "Number of Chirals"
         ],
         "y": [
          0,
          0.03370838612318039,
          0,
          0,
          0.32850924134254456,
          0,
          0.04864747077226639,
          0.030807683244347572,
          0.013503631576895714,
          0.03180849179625511,
          0.035363782197237015,
          0,
          0,
          0.12536782026290894,
          0.2142450362443924,
          0,
          0,
          0
         ]
        },
        {
         "name": "Dimension 12",
         "type": "bar",
         "x": [
          "Number of Atoms",
          "Count of Boron Atoms",
          "Count of Carbon Atoms",
          "Count of Nitrogen Atoms",
          "Count of Oxygen Atoms",
          "Count of Flourine Atoms",
          "Count of Phosphorus Atoms",
          "Count of Sulphur Atoms",
          "Count of Chlorine Atoms",
          "Count of Bromine Atoms",
          "Count of Iodine Atoms",
          "Count of Heavy Atoms",
          "Molecular Weight",
          "Hydrogen Acceptor Count",
          "Hydrogen Donor Count",
          "Solubility in Water",
          "Number of Rings",
          "Number of Chirals"
         ],
         "y": [
          0,
          0,
          0,
          0,
          0.3008619248867035,
          0,
          7.815528806531802e-05,
          0,
          0,
          0,
          0,
          0,
          0,
          0.1386062204837799,
          0.0807398334145546,
          0,
          0,
          0.5745998620986938
         ]
        },
        {
         "name": "Dimension 17",
         "type": "bar",
         "x": [
          "Number of Atoms",
          "Count of Boron Atoms",
          "Count of Carbon Atoms",
          "Count of Nitrogen Atoms",
          "Count of Oxygen Atoms",
          "Count of Flourine Atoms",
          "Count of Phosphorus Atoms",
          "Count of Sulphur Atoms",
          "Count of Chlorine Atoms",
          "Count of Bromine Atoms",
          "Count of Iodine Atoms",
          "Count of Heavy Atoms",
          "Molecular Weight",
          "Hydrogen Acceptor Count",
          "Hydrogen Donor Count",
          "Solubility in Water",
          "Number of Rings",
          "Number of Chirals"
         ],
         "y": [
          0.018605606630444527,
          0,
          0.14291107654571533,
          0,
          0,
          0,
          0,
          0,
          0,
          0,
          0,
          0.018875321373343468,
          0,
          0,
          0,
          0.12786942720413208,
          0.029355954378843307,
          0
         ]
        },
        {
         "name": "Dimension 55",
         "type": "bar",
         "x": [
          "Number of Atoms",
          "Count of Boron Atoms",
          "Count of Carbon Atoms",
          "Count of Nitrogen Atoms",
          "Count of Oxygen Atoms",
          "Count of Flourine Atoms",
          "Count of Phosphorus Atoms",
          "Count of Sulphur Atoms",
          "Count of Chlorine Atoms",
          "Count of Bromine Atoms",
          "Count of Iodine Atoms",
          "Count of Heavy Atoms",
          "Molecular Weight",
          "Hydrogen Acceptor Count",
          "Hydrogen Donor Count",
          "Solubility in Water",
          "Number of Rings",
          "Number of Chirals"
         ],
         "y": [
          0.02997322753071785,
          0,
          0,
          0,
          0,
          0,
          0,
          0,
          0,
          0,
          0,
          0.02982212044298649,
          0,
          0,
          0,
          0.12935568392276764,
          0,
          0
         ]
        },
        {
         "name": "Dimension 112",
         "type": "bar",
         "x": [
          "Number of Atoms",
          "Count of Boron Atoms",
          "Count of Carbon Atoms",
          "Count of Nitrogen Atoms",
          "Count of Oxygen Atoms",
          "Count of Flourine Atoms",
          "Count of Phosphorus Atoms",
          "Count of Sulphur Atoms",
          "Count of Chlorine Atoms",
          "Count of Bromine Atoms",
          "Count of Iodine Atoms",
          "Count of Heavy Atoms",
          "Molecular Weight",
          "Hydrogen Acceptor Count",
          "Hydrogen Donor Count",
          "Solubility in Water",
          "Number of Rings",
          "Number of Chirals"
         ],
         "y": [
          0.13348174095153809,
          0,
          0.147405207157135,
          0,
          0,
          0,
          0,
          0,
          0.00789558980613947,
          0,
          0,
          0.13373111188411713,
          0.04739422723650932,
          0,
          0,
          0.07285221666097641,
          0,
          0
         ]
        },
        {
         "name": "Dimension 134",
         "type": "bar",
         "x": [
          "Number of Atoms",
          "Count of Boron Atoms",
          "Count of Carbon Atoms",
          "Count of Nitrogen Atoms",
          "Count of Oxygen Atoms",
          "Count of Flourine Atoms",
          "Count of Phosphorus Atoms",
          "Count of Sulphur Atoms",
          "Count of Chlorine Atoms",
          "Count of Bromine Atoms",
          "Count of Iodine Atoms",
          "Count of Heavy Atoms",
          "Molecular Weight",
          "Hydrogen Acceptor Count",
          "Hydrogen Donor Count",
          "Solubility in Water",
          "Number of Rings",
          "Number of Chirals"
         ],
         "y": [
          0,
          0,
          0,
          0,
          0.27629607915878296,
          0,
          1.7834303207564517e-06,
          0,
          0,
          0,
          0,
          0,
          0,
          0.17012101411819458,
          0.12324733287096024,
          0,
          0,
          0
         ]
        },
        {
         "name": "Dimension 136",
         "type": "bar",
         "x": [
          "Number of Atoms",
          "Count of Boron Atoms",
          "Count of Carbon Atoms",
          "Count of Nitrogen Atoms",
          "Count of Oxygen Atoms",
          "Count of Flourine Atoms",
          "Count of Phosphorus Atoms",
          "Count of Sulphur Atoms",
          "Count of Chlorine Atoms",
          "Count of Bromine Atoms",
          "Count of Iodine Atoms",
          "Count of Heavy Atoms",
          "Molecular Weight",
          "Hydrogen Acceptor Count",
          "Hydrogen Donor Count",
          "Solubility in Water",
          "Number of Rings",
          "Number of Chirals"
         ],
         "y": [
          0,
          0,
          0.20432385802268982,
          0,
          0,
          0,
          0,
          0,
          0,
          0,
          0,
          0,
          0,
          0,
          0,
          0.10339978337287903,
          0,
          0
         ]
        }
       ],
       "layout": {
        "barmode": "group",
        "template": {
         "data": {
          "bar": [
           {
            "error_x": {
             "color": "#2a3f5f"
            },
            "error_y": {
             "color": "#2a3f5f"
            },
            "marker": {
             "line": {
              "color": "#E5ECF6",
              "width": 0.5
             }
            },
            "type": "bar"
           }
          ],
          "barpolar": [
           {
            "marker": {
             "line": {
              "color": "#E5ECF6",
              "width": 0.5
             }
            },
            "type": "barpolar"
           }
          ],
          "carpet": [
           {
            "aaxis": {
             "endlinecolor": "#2a3f5f",
             "gridcolor": "white",
             "linecolor": "white",
             "minorgridcolor": "white",
             "startlinecolor": "#2a3f5f"
            },
            "baxis": {
             "endlinecolor": "#2a3f5f",
             "gridcolor": "white",
             "linecolor": "white",
             "minorgridcolor": "white",
             "startlinecolor": "#2a3f5f"
            },
            "type": "carpet"
           }
          ],
          "choropleth": [
           {
            "colorbar": {
             "outlinewidth": 0,
             "ticks": ""
            },
            "type": "choropleth"
           }
          ],
          "contour": [
           {
            "colorbar": {
             "outlinewidth": 0,
             "ticks": ""
            },
            "colorscale": [
             [
              0,
              "#0d0887"
             ],
             [
              0.1111111111111111,
              "#46039f"
             ],
             [
              0.2222222222222222,
              "#7201a8"
             ],
             [
              0.3333333333333333,
              "#9c179e"
             ],
             [
              0.4444444444444444,
              "#bd3786"
             ],
             [
              0.5555555555555556,
              "#d8576b"
             ],
             [
              0.6666666666666666,
              "#ed7953"
             ],
             [
              0.7777777777777778,
              "#fb9f3a"
             ],
             [
              0.8888888888888888,
              "#fdca26"
             ],
             [
              1,
              "#f0f921"
             ]
            ],
            "type": "contour"
           }
          ],
          "contourcarpet": [
           {
            "colorbar": {
             "outlinewidth": 0,
             "ticks": ""
            },
            "type": "contourcarpet"
           }
          ],
          "heatmap": [
           {
            "colorbar": {
             "outlinewidth": 0,
             "ticks": ""
            },
            "colorscale": [
             [
              0,
              "#0d0887"
             ],
             [
              0.1111111111111111,
              "#46039f"
             ],
             [
              0.2222222222222222,
              "#7201a8"
             ],
             [
              0.3333333333333333,
              "#9c179e"
             ],
             [
              0.4444444444444444,
              "#bd3786"
             ],
             [
              0.5555555555555556,
              "#d8576b"
             ],
             [
              0.6666666666666666,
              "#ed7953"
             ],
             [
              0.7777777777777778,
              "#fb9f3a"
             ],
             [
              0.8888888888888888,
              "#fdca26"
             ],
             [
              1,
              "#f0f921"
             ]
            ],
            "type": "heatmap"
           }
          ],
          "heatmapgl": [
           {
            "colorbar": {
             "outlinewidth": 0,
             "ticks": ""
            },
            "colorscale": [
             [
              0,
              "#0d0887"
             ],
             [
              0.1111111111111111,
              "#46039f"
             ],
             [
              0.2222222222222222,
              "#7201a8"
             ],
             [
              0.3333333333333333,
              "#9c179e"
             ],
             [
              0.4444444444444444,
              "#bd3786"
             ],
             [
              0.5555555555555556,
              "#d8576b"
             ],
             [
              0.6666666666666666,
              "#ed7953"
             ],
             [
              0.7777777777777778,
              "#fb9f3a"
             ],
             [
              0.8888888888888888,
              "#fdca26"
             ],
             [
              1,
              "#f0f921"
             ]
            ],
            "type": "heatmapgl"
           }
          ],
          "histogram": [
           {
            "marker": {
             "colorbar": {
              "outlinewidth": 0,
              "ticks": ""
             }
            },
            "type": "histogram"
           }
          ],
          "histogram2d": [
           {
            "colorbar": {
             "outlinewidth": 0,
             "ticks": ""
            },
            "colorscale": [
             [
              0,
              "#0d0887"
             ],
             [
              0.1111111111111111,
              "#46039f"
             ],
             [
              0.2222222222222222,
              "#7201a8"
             ],
             [
              0.3333333333333333,
              "#9c179e"
             ],
             [
              0.4444444444444444,
              "#bd3786"
             ],
             [
              0.5555555555555556,
              "#d8576b"
             ],
             [
              0.6666666666666666,
              "#ed7953"
             ],
             [
              0.7777777777777778,
              "#fb9f3a"
             ],
             [
              0.8888888888888888,
              "#fdca26"
             ],
             [
              1,
              "#f0f921"
             ]
            ],
            "type": "histogram2d"
           }
          ],
          "histogram2dcontour": [
           {
            "colorbar": {
             "outlinewidth": 0,
             "ticks": ""
            },
            "colorscale": [
             [
              0,
              "#0d0887"
             ],
             [
              0.1111111111111111,
              "#46039f"
             ],
             [
              0.2222222222222222,
              "#7201a8"
             ],
             [
              0.3333333333333333,
              "#9c179e"
             ],
             [
              0.4444444444444444,
              "#bd3786"
             ],
             [
              0.5555555555555556,
              "#d8576b"
             ],
             [
              0.6666666666666666,
              "#ed7953"
             ],
             [
              0.7777777777777778,
              "#fb9f3a"
             ],
             [
              0.8888888888888888,
              "#fdca26"
             ],
             [
              1,
              "#f0f921"
             ]
            ],
            "type": "histogram2dcontour"
           }
          ],
          "mesh3d": [
           {
            "colorbar": {
             "outlinewidth": 0,
             "ticks": ""
            },
            "type": "mesh3d"
           }
          ],
          "parcoords": [
           {
            "line": {
             "colorbar": {
              "outlinewidth": 0,
              "ticks": ""
             }
            },
            "type": "parcoords"
           }
          ],
          "pie": [
           {
            "automargin": true,
            "type": "pie"
           }
          ],
          "scatter": [
           {
            "marker": {
             "colorbar": {
              "outlinewidth": 0,
              "ticks": ""
             }
            },
            "type": "scatter"
           }
          ],
          "scatter3d": [
           {
            "line": {
             "colorbar": {
              "outlinewidth": 0,
              "ticks": ""
             }
            },
            "marker": {
             "colorbar": {
              "outlinewidth": 0,
              "ticks": ""
             }
            },
            "type": "scatter3d"
           }
          ],
          "scattercarpet": [
           {
            "marker": {
             "colorbar": {
              "outlinewidth": 0,
              "ticks": ""
             }
            },
            "type": "scattercarpet"
           }
          ],
          "scattergeo": [
           {
            "marker": {
             "colorbar": {
              "outlinewidth": 0,
              "ticks": ""
             }
            },
            "type": "scattergeo"
           }
          ],
          "scattergl": [
           {
            "marker": {
             "colorbar": {
              "outlinewidth": 0,
              "ticks": ""
             }
            },
            "type": "scattergl"
           }
          ],
          "scattermapbox": [
           {
            "marker": {
             "colorbar": {
              "outlinewidth": 0,
              "ticks": ""
             }
            },
            "type": "scattermapbox"
           }
          ],
          "scatterpolar": [
           {
            "marker": {
             "colorbar": {
              "outlinewidth": 0,
              "ticks": ""
             }
            },
            "type": "scatterpolar"
           }
          ],
          "scatterpolargl": [
           {
            "marker": {
             "colorbar": {
              "outlinewidth": 0,
              "ticks": ""
             }
            },
            "type": "scatterpolargl"
           }
          ],
          "scatterternary": [
           {
            "marker": {
             "colorbar": {
              "outlinewidth": 0,
              "ticks": ""
             }
            },
            "type": "scatterternary"
           }
          ],
          "surface": [
           {
            "colorbar": {
             "outlinewidth": 0,
             "ticks": ""
            },
            "colorscale": [
             [
              0,
              "#0d0887"
             ],
             [
              0.1111111111111111,
              "#46039f"
             ],
             [
              0.2222222222222222,
              "#7201a8"
             ],
             [
              0.3333333333333333,
              "#9c179e"
             ],
             [
              0.4444444444444444,
              "#bd3786"
             ],
             [
              0.5555555555555556,
              "#d8576b"
             ],
             [
              0.6666666666666666,
              "#ed7953"
             ],
             [
              0.7777777777777778,
              "#fb9f3a"
             ],
             [
              0.8888888888888888,
              "#fdca26"
             ],
             [
              1,
              "#f0f921"
             ]
            ],
            "type": "surface"
           }
          ],
          "table": [
           {
            "cells": {
             "fill": {
              "color": "#EBF0F8"
             },
             "line": {
              "color": "white"
             }
            },
            "header": {
             "fill": {
              "color": "#C8D4E3"
             },
             "line": {
              "color": "white"
             }
            },
            "type": "table"
           }
          ]
         },
         "layout": {
          "annotationdefaults": {
           "arrowcolor": "#2a3f5f",
           "arrowhead": 0,
           "arrowwidth": 1
          },
          "autotypenumbers": "strict",
          "coloraxis": {
           "colorbar": {
            "outlinewidth": 0,
            "ticks": ""
           }
          },
          "colorscale": {
           "diverging": [
            [
             0,
             "#8e0152"
            ],
            [
             0.1,
             "#c51b7d"
            ],
            [
             0.2,
             "#de77ae"
            ],
            [
             0.3,
             "#f1b6da"
            ],
            [
             0.4,
             "#fde0ef"
            ],
            [
             0.5,
             "#f7f7f7"
            ],
            [
             0.6,
             "#e6f5d0"
            ],
            [
             0.7,
             "#b8e186"
            ],
            [
             0.8,
             "#7fbc41"
            ],
            [
             0.9,
             "#4d9221"
            ],
            [
             1,
             "#276419"
            ]
           ],
           "sequential": [
            [
             0,
             "#0d0887"
            ],
            [
             0.1111111111111111,
             "#46039f"
            ],
            [
             0.2222222222222222,
             "#7201a8"
            ],
            [
             0.3333333333333333,
             "#9c179e"
            ],
            [
             0.4444444444444444,
             "#bd3786"
            ],
            [
             0.5555555555555556,
             "#d8576b"
            ],
            [
             0.6666666666666666,
             "#ed7953"
            ],
            [
             0.7777777777777778,
             "#fb9f3a"
            ],
            [
             0.8888888888888888,
             "#fdca26"
            ],
            [
             1,
             "#f0f921"
            ]
           ],
           "sequentialminus": [
            [
             0,
             "#0d0887"
            ],
            [
             0.1111111111111111,
             "#46039f"
            ],
            [
             0.2222222222222222,
             "#7201a8"
            ],
            [
             0.3333333333333333,
             "#9c179e"
            ],
            [
             0.4444444444444444,
             "#bd3786"
            ],
            [
             0.5555555555555556,
             "#d8576b"
            ],
            [
             0.6666666666666666,
             "#ed7953"
            ],
            [
             0.7777777777777778,
             "#fb9f3a"
            ],
            [
             0.8888888888888888,
             "#fdca26"
            ],
            [
             1,
             "#f0f921"
            ]
           ]
          },
          "colorway": [
           "#636efa",
           "#EF553B",
           "#00cc96",
           "#ab63fa",
           "#FFA15A",
           "#19d3f3",
           "#FF6692",
           "#B6E880",
           "#FF97FF",
           "#FECB52"
          ],
          "font": {
           "color": "#2a3f5f"
          },
          "geo": {
           "bgcolor": "white",
           "lakecolor": "white",
           "landcolor": "#E5ECF6",
           "showlakes": true,
           "showland": true,
           "subunitcolor": "white"
          },
          "hoverlabel": {
           "align": "left"
          },
          "hovermode": "closest",
          "mapbox": {
           "style": "light"
          },
          "paper_bgcolor": "white",
          "plot_bgcolor": "#E5ECF6",
          "polar": {
           "angularaxis": {
            "gridcolor": "white",
            "linecolor": "white",
            "ticks": ""
           },
           "bgcolor": "#E5ECF6",
           "radialaxis": {
            "gridcolor": "white",
            "linecolor": "white",
            "ticks": ""
           }
          },
          "scene": {
           "xaxis": {
            "backgroundcolor": "#E5ECF6",
            "gridcolor": "white",
            "gridwidth": 2,
            "linecolor": "white",
            "showbackground": true,
            "ticks": "",
            "zerolinecolor": "white"
           },
           "yaxis": {
            "backgroundcolor": "#E5ECF6",
            "gridcolor": "white",
            "gridwidth": 2,
            "linecolor": "white",
            "showbackground": true,
            "ticks": "",
            "zerolinecolor": "white"
           },
           "zaxis": {
            "backgroundcolor": "#E5ECF6",
            "gridcolor": "white",
            "gridwidth": 2,
            "linecolor": "white",
            "showbackground": true,
            "ticks": "",
            "zerolinecolor": "white"
           }
          },
          "shapedefaults": {
           "line": {
            "color": "#2a3f5f"
           }
          },
          "ternary": {
           "aaxis": {
            "gridcolor": "white",
            "linecolor": "white",
            "ticks": ""
           },
           "baxis": {
            "gridcolor": "white",
            "linecolor": "white",
            "ticks": ""
           },
           "bgcolor": "#E5ECF6",
           "caxis": {
            "gridcolor": "white",
            "linecolor": "white",
            "ticks": ""
           }
          },
          "title": {
           "x": 0.05
          },
          "xaxis": {
           "automargin": true,
           "gridcolor": "white",
           "linecolor": "white",
           "ticks": "",
           "title": {
            "standoff": 15
           },
           "zerolinecolor": "white",
           "zerolinewidth": 2
          },
          "yaxis": {
           "automargin": true,
           "gridcolor": "white",
           "linecolor": "white",
           "ticks": "",
           "title": {
            "standoff": 15
           },
           "zerolinecolor": "white",
           "zerolinewidth": 2
          }
         }
        },
        "title": {
         "text": "Embedding Dimension Feature Membership - Mol2Vec"
        },
        "xaxis": {
         "title": {
          "text": "Engineered Features"
         }
        },
        "yaxis": {
         "title": {
          "text": "Membership"
         }
        }
       }
      },
      "text/html": [
       "<div>                            <div id=\"02074450-1bff-4041-a27d-0bb1ffe66e96\" class=\"plotly-graph-div\" style=\"height:525px; width:100%;\"></div>            <script type=\"text/javascript\">                require([\"plotly\"], function(Plotly) {                    window.PLOTLYENV=window.PLOTLYENV || {};                                    if (document.getElementById(\"02074450-1bff-4041-a27d-0bb1ffe66e96\")) {                    Plotly.newPlot(                        \"02074450-1bff-4041-a27d-0bb1ffe66e96\",                        [{\"name\": \"Dimension 0\", \"type\": \"bar\", \"x\": [\"Number of Atoms\", \"Count of Boron Atoms\", \"Count of Carbon Atoms\", \"Count of Nitrogen Atoms\", \"Count of Oxygen Atoms\", \"Count of Flourine Atoms\", \"Count of Phosphorus Atoms\", \"Count of Sulphur Atoms\", \"Count of Chlorine Atoms\", \"Count of Bromine Atoms\", \"Count of Iodine Atoms\", \"Count of Heavy Atoms\", \"Molecular Weight\", \"Hydrogen Acceptor Count\", \"Hydrogen Donor Count\", \"Solubility in Water\", \"Number of Rings\", \"Number of Chirals\"], \"y\": [1.036392331123352, 1.050814151763916, 0.1989377737045288, 1.1163493394851685, 0.1341603398323059, 1.1214044094085693, 1.0250226259231567, 1.028892159461975, 1.0845801830291748, 1.0587581396102905, 1.0597004890441895, 1.036068081855774, 1.1310926675796509, 0.8872718214988708, 0.40697410702705383, 0.5725721716880798, 1.2557978630065918, 0.4303183853626251]}, {\"name\": \"Dimension 1\", \"type\": \"bar\", \"x\": [\"Number of Atoms\", \"Count of Boron Atoms\", \"Count of Carbon Atoms\", \"Count of Nitrogen Atoms\", \"Count of Oxygen Atoms\", \"Count of Flourine Atoms\", \"Count of Phosphorus Atoms\", \"Count of Sulphur Atoms\", \"Count of Chlorine Atoms\", \"Count of Bromine Atoms\", \"Count of Iodine Atoms\", \"Count of Heavy Atoms\", \"Molecular Weight\", \"Hydrogen Acceptor Count\", \"Hydrogen Donor Count\", \"Solubility in Water\", \"Number of Rings\", \"Number of Chirals\"], \"y\": [0.5117247700691223, 0.4771662950515747, 0.8642120361328125, 0.19556479156017303, 0.12468012422323227, 0.40228524804115295, 0.41248196363449097, 0.46320655941963196, 0.45380720496177673, 0.4771265983581543, 0.47163957357406616, 0.5122075080871582, 0.48123568296432495, 0.0, 0.30644065141677856, 0.7656282186508179, 0.042045146226882935, 0.0]}, {\"name\": \"Dimension 2\", \"type\": \"bar\", \"x\": [\"Number of Atoms\", \"Count of Boron Atoms\", \"Count of Carbon Atoms\", \"Count of Nitrogen Atoms\", \"Count of Oxygen Atoms\", \"Count of Flourine Atoms\", \"Count of Phosphorus Atoms\", \"Count of Sulphur Atoms\", \"Count of Chlorine Atoms\", \"Count of Bromine Atoms\", \"Count of Iodine Atoms\", \"Count of Heavy Atoms\", \"Molecular Weight\", \"Hydrogen Acceptor Count\", \"Hydrogen Donor Count\", \"Solubility in Water\", \"Number of Rings\", \"Number of Chirals\"], \"y\": [0.0, 0.06948460638523102, 0.0, 0.17214903235435486, 0.128351628780365, 0.07234317064285278, 0.09915036708116531, 0.09560373425483704, 0.0880555734038353, 0.06215175986289978, 0.06541796028614044, 0.0, 0.002320181578397751, 0.07010523229837418, 0.19702455401420593, 0.0, 0.1379198580980301, 0.14513230323791504]}, {\"name\": \"Dimension 4\", \"type\": \"bar\", \"x\": [\"Number of Atoms\", \"Count of Boron Atoms\", \"Count of Carbon Atoms\", \"Count of Nitrogen Atoms\", \"Count of Oxygen Atoms\", \"Count of Flourine Atoms\", \"Count of Phosphorus Atoms\", \"Count of Sulphur Atoms\", \"Count of Chlorine Atoms\", \"Count of Bromine Atoms\", \"Count of Iodine Atoms\", \"Count of Heavy Atoms\", \"Molecular Weight\", \"Hydrogen Acceptor Count\", \"Hydrogen Donor Count\", \"Solubility in Water\", \"Number of Rings\", \"Number of Chirals\"], \"y\": [0.0, 0.11702679097652435, 0.0, 0.0, 0.608803391456604, 0.04066420719027519, 0.12998607754707336, 0.09495528042316437, 0.08170182257890701, 0.11917359381914139, 0.11858014762401581, 0.0, 0.057942599058151245, 0.431692510843277, 0.36372610926628113, 0.0, 0.0, 0.36334118247032166]}, {\"name\": \"Dimension 6\", \"type\": \"bar\", \"x\": [\"Number of Atoms\", \"Count of Boron Atoms\", \"Count of Carbon Atoms\", \"Count of Nitrogen Atoms\", \"Count of Oxygen Atoms\", \"Count of Flourine Atoms\", \"Count of Phosphorus Atoms\", \"Count of Sulphur Atoms\", \"Count of Chlorine Atoms\", \"Count of Bromine Atoms\", \"Count of Iodine Atoms\", \"Count of Heavy Atoms\", \"Molecular Weight\", \"Hydrogen Acceptor Count\", \"Hydrogen Donor Count\", \"Solubility in Water\", \"Number of Rings\", \"Number of Chirals\"], \"y\": [0.0, 0.10118351131677628, 0.0, 0.1012156754732132, 0.01510606985539198, 0.15442752838134766, 0.08687310665845871, 0.10958833247423172, 0.1448555886745453, 0.11071934551000595, 0.10769738256931305, 0.0, 0.07419273257255554, 0.14920184016227722, 0.05367380380630493, 0.0, 0.21746432781219482, 0.0]}, {\"name\": \"Dimension 7\", \"type\": \"bar\", \"x\": [\"Number of Atoms\", \"Count of Boron Atoms\", \"Count of Carbon Atoms\", \"Count of Nitrogen Atoms\", \"Count of Oxygen Atoms\", \"Count of Flourine Atoms\", \"Count of Phosphorus Atoms\", \"Count of Sulphur Atoms\", \"Count of Chlorine Atoms\", \"Count of Bromine Atoms\", \"Count of Iodine Atoms\", \"Count of Heavy Atoms\", \"Molecular Weight\", \"Hydrogen Acceptor Count\", \"Hydrogen Donor Count\", \"Solubility in Water\", \"Number of Rings\", \"Number of Chirals\"], \"y\": [0.062288183718919754, 0.0, 0.3766336143016815, 0.0, 0.0, 0.0, 0.0, 0.0, 0.0, 0.0, 0.0, 0.061832133680582047, 2.546464565966744e-05, 0.0, 0.0, 0.0, 0.23475900292396545, 0.083855539560318]}, {\"name\": \"Dimension 8\", \"type\": \"bar\", \"x\": [\"Number of Atoms\", \"Count of Boron Atoms\", \"Count of Carbon Atoms\", \"Count of Nitrogen Atoms\", \"Count of Oxygen Atoms\", \"Count of Flourine Atoms\", \"Count of Phosphorus Atoms\", \"Count of Sulphur Atoms\", \"Count of Chlorine Atoms\", \"Count of Bromine Atoms\", \"Count of Iodine Atoms\", \"Count of Heavy Atoms\", \"Molecular Weight\", \"Hydrogen Acceptor Count\", \"Hydrogen Donor Count\", \"Solubility in Water\", \"Number of Rings\", \"Number of Chirals\"], \"y\": [0.0, 0.0033911806531250477, 0.0, 0.10182184725999832, 0.0, 0.07862581312656403, 0.008263744413852692, 0.015028765425086021, 0.012516033835709095, 0.0016796430572867393, 0.002310812007635832, 0.0, 0.02446453832089901, 0.0, 0.0, 0.07838025689125061, 0.0, 0.0]}, {\"name\": \"Dimension 10\", \"type\": \"bar\", \"x\": [\"Number of Atoms\", \"Count of Boron Atoms\", \"Count of Carbon Atoms\", \"Count of Nitrogen Atoms\", \"Count of Oxygen Atoms\", \"Count of Flourine Atoms\", \"Count of Phosphorus Atoms\", \"Count of Sulphur Atoms\", \"Count of Chlorine Atoms\", \"Count of Bromine Atoms\", \"Count of Iodine Atoms\", \"Count of Heavy Atoms\", \"Molecular Weight\", \"Hydrogen Acceptor Count\", \"Hydrogen Donor Count\", \"Solubility in Water\", \"Number of Rings\", \"Number of Chirals\"], \"y\": [0.0, 0.0, 0.0, 0.0, 0.00995780061930418, 0.0, 0.0, 0.0, 0.0, 0.0, 0.0, 0.0, 0.0, 0.0, 0.0, 0.0, 0.0, 0.3292428255081177]}, {\"name\": \"Dimension 11\", \"type\": \"bar\", \"x\": [\"Number of Atoms\", \"Count of Boron Atoms\", \"Count of Carbon Atoms\", \"Count of Nitrogen Atoms\", \"Count of Oxygen Atoms\", \"Count of Flourine Atoms\", \"Count of Phosphorus Atoms\", \"Count of Sulphur Atoms\", \"Count of Chlorine Atoms\", \"Count of Bromine Atoms\", \"Count of Iodine Atoms\", \"Count of Heavy Atoms\", \"Molecular Weight\", \"Hydrogen Acceptor Count\", \"Hydrogen Donor Count\", \"Solubility in Water\", \"Number of Rings\", \"Number of Chirals\"], \"y\": [0.0, 0.03370838612318039, 0.0, 0.0, 0.32850924134254456, 0.0, 0.04864747077226639, 0.030807683244347572, 0.013503631576895714, 0.03180849179625511, 0.035363782197237015, 0.0, 0.0, 0.12536782026290894, 0.2142450362443924, 0.0, 0.0, 0.0]}, {\"name\": \"Dimension 12\", \"type\": \"bar\", \"x\": [\"Number of Atoms\", \"Count of Boron Atoms\", \"Count of Carbon Atoms\", \"Count of Nitrogen Atoms\", \"Count of Oxygen Atoms\", \"Count of Flourine Atoms\", \"Count of Phosphorus Atoms\", \"Count of Sulphur Atoms\", \"Count of Chlorine Atoms\", \"Count of Bromine Atoms\", \"Count of Iodine Atoms\", \"Count of Heavy Atoms\", \"Molecular Weight\", \"Hydrogen Acceptor Count\", \"Hydrogen Donor Count\", \"Solubility in Water\", \"Number of Rings\", \"Number of Chirals\"], \"y\": [0.0, 0.0, 0.0, 0.0, 0.3008619248867035, 0.0, 7.815528806531802e-05, 0.0, 0.0, 0.0, 0.0, 0.0, 0.0, 0.1386062204837799, 0.0807398334145546, 0.0, 0.0, 0.5745998620986938]}, {\"name\": \"Dimension 17\", \"type\": \"bar\", \"x\": [\"Number of Atoms\", \"Count of Boron Atoms\", \"Count of Carbon Atoms\", \"Count of Nitrogen Atoms\", \"Count of Oxygen Atoms\", \"Count of Flourine Atoms\", \"Count of Phosphorus Atoms\", \"Count of Sulphur Atoms\", \"Count of Chlorine Atoms\", \"Count of Bromine Atoms\", \"Count of Iodine Atoms\", \"Count of Heavy Atoms\", \"Molecular Weight\", \"Hydrogen Acceptor Count\", \"Hydrogen Donor Count\", \"Solubility in Water\", \"Number of Rings\", \"Number of Chirals\"], \"y\": [0.018605606630444527, 0.0, 0.14291107654571533, 0.0, 0.0, 0.0, 0.0, 0.0, 0.0, 0.0, 0.0, 0.018875321373343468, 0.0, 0.0, 0.0, 0.12786942720413208, 0.029355954378843307, 0.0]}, {\"name\": \"Dimension 55\", \"type\": \"bar\", \"x\": [\"Number of Atoms\", \"Count of Boron Atoms\", \"Count of Carbon Atoms\", \"Count of Nitrogen Atoms\", \"Count of Oxygen Atoms\", \"Count of Flourine Atoms\", \"Count of Phosphorus Atoms\", \"Count of Sulphur Atoms\", \"Count of Chlorine Atoms\", \"Count of Bromine Atoms\", \"Count of Iodine Atoms\", \"Count of Heavy Atoms\", \"Molecular Weight\", \"Hydrogen Acceptor Count\", \"Hydrogen Donor Count\", \"Solubility in Water\", \"Number of Rings\", \"Number of Chirals\"], \"y\": [0.02997322753071785, 0.0, 0.0, 0.0, 0.0, 0.0, 0.0, 0.0, 0.0, 0.0, 0.0, 0.02982212044298649, 0.0, 0.0, 0.0, 0.12935568392276764, 0.0, 0.0]}, {\"name\": \"Dimension 112\", \"type\": \"bar\", \"x\": [\"Number of Atoms\", \"Count of Boron Atoms\", \"Count of Carbon Atoms\", \"Count of Nitrogen Atoms\", \"Count of Oxygen Atoms\", \"Count of Flourine Atoms\", \"Count of Phosphorus Atoms\", \"Count of Sulphur Atoms\", \"Count of Chlorine Atoms\", \"Count of Bromine Atoms\", \"Count of Iodine Atoms\", \"Count of Heavy Atoms\", \"Molecular Weight\", \"Hydrogen Acceptor Count\", \"Hydrogen Donor Count\", \"Solubility in Water\", \"Number of Rings\", \"Number of Chirals\"], \"y\": [0.13348174095153809, 0.0, 0.147405207157135, 0.0, 0.0, 0.0, 0.0, 0.0, 0.00789558980613947, 0.0, 0.0, 0.13373111188411713, 0.04739422723650932, 0.0, 0.0, 0.07285221666097641, 0.0, 0.0]}, {\"name\": \"Dimension 134\", \"type\": \"bar\", \"x\": [\"Number of Atoms\", \"Count of Boron Atoms\", \"Count of Carbon Atoms\", \"Count of Nitrogen Atoms\", \"Count of Oxygen Atoms\", \"Count of Flourine Atoms\", \"Count of Phosphorus Atoms\", \"Count of Sulphur Atoms\", \"Count of Chlorine Atoms\", \"Count of Bromine Atoms\", \"Count of Iodine Atoms\", \"Count of Heavy Atoms\", \"Molecular Weight\", \"Hydrogen Acceptor Count\", \"Hydrogen Donor Count\", \"Solubility in Water\", \"Number of Rings\", \"Number of Chirals\"], \"y\": [0.0, 0.0, 0.0, 0.0, 0.27629607915878296, 0.0, 1.7834303207564517e-06, 0.0, 0.0, 0.0, 0.0, 0.0, 0.0, 0.17012101411819458, 0.12324733287096024, 0.0, 0.0, 0.0]}, {\"name\": \"Dimension 136\", \"type\": \"bar\", \"x\": [\"Number of Atoms\", \"Count of Boron Atoms\", \"Count of Carbon Atoms\", \"Count of Nitrogen Atoms\", \"Count of Oxygen Atoms\", \"Count of Flourine Atoms\", \"Count of Phosphorus Atoms\", \"Count of Sulphur Atoms\", \"Count of Chlorine Atoms\", \"Count of Bromine Atoms\", \"Count of Iodine Atoms\", \"Count of Heavy Atoms\", \"Molecular Weight\", \"Hydrogen Acceptor Count\", \"Hydrogen Donor Count\", \"Solubility in Water\", \"Number of Rings\", \"Number of Chirals\"], \"y\": [0.0, 0.0, 0.20432385802268982, 0.0, 0.0, 0.0, 0.0, 0.0, 0.0, 0.0, 0.0, 0.0, 0.0, 0.0, 0.0, 0.10339978337287903, 0.0, 0.0]}],                        {\"barmode\": \"group\", \"template\": {\"data\": {\"bar\": [{\"error_x\": {\"color\": \"#2a3f5f\"}, \"error_y\": {\"color\": \"#2a3f5f\"}, \"marker\": {\"line\": {\"color\": \"#E5ECF6\", \"width\": 0.5}}, \"type\": \"bar\"}], \"barpolar\": [{\"marker\": {\"line\": {\"color\": \"#E5ECF6\", \"width\": 0.5}}, \"type\": \"barpolar\"}], \"carpet\": [{\"aaxis\": {\"endlinecolor\": \"#2a3f5f\", \"gridcolor\": \"white\", \"linecolor\": \"white\", \"minorgridcolor\": \"white\", \"startlinecolor\": \"#2a3f5f\"}, \"baxis\": {\"endlinecolor\": \"#2a3f5f\", \"gridcolor\": \"white\", \"linecolor\": \"white\", \"minorgridcolor\": \"white\", \"startlinecolor\": \"#2a3f5f\"}, \"type\": \"carpet\"}], \"choropleth\": [{\"colorbar\": {\"outlinewidth\": 0, \"ticks\": \"\"}, \"type\": \"choropleth\"}], \"contour\": [{\"colorbar\": {\"outlinewidth\": 0, \"ticks\": \"\"}, \"colorscale\": [[0.0, \"#0d0887\"], [0.1111111111111111, \"#46039f\"], [0.2222222222222222, \"#7201a8\"], [0.3333333333333333, \"#9c179e\"], [0.4444444444444444, \"#bd3786\"], [0.5555555555555556, \"#d8576b\"], [0.6666666666666666, \"#ed7953\"], [0.7777777777777778, \"#fb9f3a\"], [0.8888888888888888, \"#fdca26\"], [1.0, \"#f0f921\"]], \"type\": \"contour\"}], \"contourcarpet\": [{\"colorbar\": {\"outlinewidth\": 0, \"ticks\": \"\"}, \"type\": \"contourcarpet\"}], \"heatmap\": [{\"colorbar\": {\"outlinewidth\": 0, \"ticks\": \"\"}, \"colorscale\": [[0.0, \"#0d0887\"], [0.1111111111111111, \"#46039f\"], [0.2222222222222222, \"#7201a8\"], [0.3333333333333333, \"#9c179e\"], [0.4444444444444444, \"#bd3786\"], [0.5555555555555556, \"#d8576b\"], [0.6666666666666666, \"#ed7953\"], [0.7777777777777778, \"#fb9f3a\"], [0.8888888888888888, \"#fdca26\"], [1.0, \"#f0f921\"]], \"type\": \"heatmap\"}], \"heatmapgl\": [{\"colorbar\": {\"outlinewidth\": 0, \"ticks\": \"\"}, \"colorscale\": [[0.0, \"#0d0887\"], [0.1111111111111111, \"#46039f\"], [0.2222222222222222, \"#7201a8\"], [0.3333333333333333, \"#9c179e\"], [0.4444444444444444, \"#bd3786\"], [0.5555555555555556, \"#d8576b\"], [0.6666666666666666, \"#ed7953\"], [0.7777777777777778, \"#fb9f3a\"], [0.8888888888888888, \"#fdca26\"], [1.0, \"#f0f921\"]], \"type\": \"heatmapgl\"}], \"histogram\": [{\"marker\": {\"colorbar\": {\"outlinewidth\": 0, \"ticks\": \"\"}}, \"type\": \"histogram\"}], \"histogram2d\": [{\"colorbar\": {\"outlinewidth\": 0, \"ticks\": \"\"}, \"colorscale\": [[0.0, \"#0d0887\"], [0.1111111111111111, \"#46039f\"], [0.2222222222222222, \"#7201a8\"], [0.3333333333333333, \"#9c179e\"], [0.4444444444444444, \"#bd3786\"], [0.5555555555555556, \"#d8576b\"], [0.6666666666666666, \"#ed7953\"], [0.7777777777777778, \"#fb9f3a\"], [0.8888888888888888, \"#fdca26\"], [1.0, \"#f0f921\"]], \"type\": \"histogram2d\"}], \"histogram2dcontour\": [{\"colorbar\": {\"outlinewidth\": 0, \"ticks\": \"\"}, \"colorscale\": [[0.0, \"#0d0887\"], [0.1111111111111111, \"#46039f\"], [0.2222222222222222, \"#7201a8\"], [0.3333333333333333, \"#9c179e\"], [0.4444444444444444, \"#bd3786\"], [0.5555555555555556, \"#d8576b\"], [0.6666666666666666, \"#ed7953\"], [0.7777777777777778, \"#fb9f3a\"], [0.8888888888888888, \"#fdca26\"], [1.0, \"#f0f921\"]], \"type\": \"histogram2dcontour\"}], \"mesh3d\": [{\"colorbar\": {\"outlinewidth\": 0, \"ticks\": \"\"}, \"type\": \"mesh3d\"}], \"parcoords\": [{\"line\": {\"colorbar\": {\"outlinewidth\": 0, \"ticks\": \"\"}}, \"type\": \"parcoords\"}], \"pie\": [{\"automargin\": true, \"type\": \"pie\"}], \"scatter\": [{\"marker\": {\"colorbar\": {\"outlinewidth\": 0, \"ticks\": \"\"}}, \"type\": \"scatter\"}], \"scatter3d\": [{\"line\": {\"colorbar\": {\"outlinewidth\": 0, \"ticks\": \"\"}}, \"marker\": {\"colorbar\": {\"outlinewidth\": 0, \"ticks\": \"\"}}, \"type\": \"scatter3d\"}], \"scattercarpet\": [{\"marker\": {\"colorbar\": {\"outlinewidth\": 0, \"ticks\": \"\"}}, \"type\": \"scattercarpet\"}], \"scattergeo\": [{\"marker\": {\"colorbar\": {\"outlinewidth\": 0, \"ticks\": \"\"}}, \"type\": \"scattergeo\"}], \"scattergl\": [{\"marker\": {\"colorbar\": {\"outlinewidth\": 0, \"ticks\": \"\"}}, \"type\": \"scattergl\"}], \"scattermapbox\": [{\"marker\": {\"colorbar\": {\"outlinewidth\": 0, \"ticks\": \"\"}}, \"type\": \"scattermapbox\"}], \"scatterpolar\": [{\"marker\": {\"colorbar\": {\"outlinewidth\": 0, \"ticks\": \"\"}}, \"type\": \"scatterpolar\"}], \"scatterpolargl\": [{\"marker\": {\"colorbar\": {\"outlinewidth\": 0, \"ticks\": \"\"}}, \"type\": \"scatterpolargl\"}], \"scatterternary\": [{\"marker\": {\"colorbar\": {\"outlinewidth\": 0, \"ticks\": \"\"}}, \"type\": \"scatterternary\"}], \"surface\": [{\"colorbar\": {\"outlinewidth\": 0, \"ticks\": \"\"}, \"colorscale\": [[0.0, \"#0d0887\"], [0.1111111111111111, \"#46039f\"], [0.2222222222222222, \"#7201a8\"], [0.3333333333333333, \"#9c179e\"], [0.4444444444444444, \"#bd3786\"], [0.5555555555555556, \"#d8576b\"], [0.6666666666666666, \"#ed7953\"], [0.7777777777777778, \"#fb9f3a\"], [0.8888888888888888, \"#fdca26\"], [1.0, \"#f0f921\"]], \"type\": \"surface\"}], \"table\": [{\"cells\": {\"fill\": {\"color\": \"#EBF0F8\"}, \"line\": {\"color\": \"white\"}}, \"header\": {\"fill\": {\"color\": \"#C8D4E3\"}, \"line\": {\"color\": \"white\"}}, \"type\": \"table\"}]}, \"layout\": {\"annotationdefaults\": {\"arrowcolor\": \"#2a3f5f\", \"arrowhead\": 0, \"arrowwidth\": 1}, \"autotypenumbers\": \"strict\", \"coloraxis\": {\"colorbar\": {\"outlinewidth\": 0, \"ticks\": \"\"}}, \"colorscale\": {\"diverging\": [[0, \"#8e0152\"], [0.1, \"#c51b7d\"], [0.2, \"#de77ae\"], [0.3, \"#f1b6da\"], [0.4, \"#fde0ef\"], [0.5, \"#f7f7f7\"], [0.6, \"#e6f5d0\"], [0.7, \"#b8e186\"], [0.8, \"#7fbc41\"], [0.9, \"#4d9221\"], [1, \"#276419\"]], \"sequential\": [[0.0, \"#0d0887\"], [0.1111111111111111, \"#46039f\"], [0.2222222222222222, \"#7201a8\"], [0.3333333333333333, \"#9c179e\"], [0.4444444444444444, \"#bd3786\"], [0.5555555555555556, \"#d8576b\"], [0.6666666666666666, \"#ed7953\"], [0.7777777777777778, \"#fb9f3a\"], [0.8888888888888888, \"#fdca26\"], [1.0, \"#f0f921\"]], \"sequentialminus\": [[0.0, \"#0d0887\"], [0.1111111111111111, \"#46039f\"], [0.2222222222222222, \"#7201a8\"], [0.3333333333333333, \"#9c179e\"], [0.4444444444444444, \"#bd3786\"], [0.5555555555555556, \"#d8576b\"], [0.6666666666666666, \"#ed7953\"], [0.7777777777777778, \"#fb9f3a\"], [0.8888888888888888, \"#fdca26\"], [1.0, \"#f0f921\"]]}, \"colorway\": [\"#636efa\", \"#EF553B\", \"#00cc96\", \"#ab63fa\", \"#FFA15A\", \"#19d3f3\", \"#FF6692\", \"#B6E880\", \"#FF97FF\", \"#FECB52\"], \"font\": {\"color\": \"#2a3f5f\"}, \"geo\": {\"bgcolor\": \"white\", \"lakecolor\": \"white\", \"landcolor\": \"#E5ECF6\", \"showlakes\": true, \"showland\": true, \"subunitcolor\": \"white\"}, \"hoverlabel\": {\"align\": \"left\"}, \"hovermode\": \"closest\", \"mapbox\": {\"style\": \"light\"}, \"paper_bgcolor\": \"white\", \"plot_bgcolor\": \"#E5ECF6\", \"polar\": {\"angularaxis\": {\"gridcolor\": \"white\", \"linecolor\": \"white\", \"ticks\": \"\"}, \"bgcolor\": \"#E5ECF6\", \"radialaxis\": {\"gridcolor\": \"white\", \"linecolor\": \"white\", \"ticks\": \"\"}}, \"scene\": {\"xaxis\": {\"backgroundcolor\": \"#E5ECF6\", \"gridcolor\": \"white\", \"gridwidth\": 2, \"linecolor\": \"white\", \"showbackground\": true, \"ticks\": \"\", \"zerolinecolor\": \"white\"}, \"yaxis\": {\"backgroundcolor\": \"#E5ECF6\", \"gridcolor\": \"white\", \"gridwidth\": 2, \"linecolor\": \"white\", \"showbackground\": true, \"ticks\": \"\", \"zerolinecolor\": \"white\"}, \"zaxis\": {\"backgroundcolor\": \"#E5ECF6\", \"gridcolor\": \"white\", \"gridwidth\": 2, \"linecolor\": \"white\", \"showbackground\": true, \"ticks\": \"\", \"zerolinecolor\": \"white\"}}, \"shapedefaults\": {\"line\": {\"color\": \"#2a3f5f\"}}, \"ternary\": {\"aaxis\": {\"gridcolor\": \"white\", \"linecolor\": \"white\", \"ticks\": \"\"}, \"baxis\": {\"gridcolor\": \"white\", \"linecolor\": \"white\", \"ticks\": \"\"}, \"bgcolor\": \"#E5ECF6\", \"caxis\": {\"gridcolor\": \"white\", \"linecolor\": \"white\", \"ticks\": \"\"}}, \"title\": {\"x\": 0.05}, \"xaxis\": {\"automargin\": true, \"gridcolor\": \"white\", \"linecolor\": \"white\", \"ticks\": \"\", \"title\": {\"standoff\": 15}, \"zerolinecolor\": \"white\", \"zerolinewidth\": 2}, \"yaxis\": {\"automargin\": true, \"gridcolor\": \"white\", \"linecolor\": \"white\", \"ticks\": \"\", \"title\": {\"standoff\": 15}, \"zerolinecolor\": \"white\", \"zerolinewidth\": 2}}}, \"title\": {\"text\": \"Embedding Dimension Feature Membership - Mol2Vec\"}, \"xaxis\": {\"title\": {\"text\": \"Engineered Features\"}}, \"yaxis\": {\"title\": {\"text\": \"Membership\"}}},                        {\"responsive\": true}                    ).then(function(){\n",
       "                            \n",
       "var gd = document.getElementById('02074450-1bff-4041-a27d-0bb1ffe66e96');\n",
       "var x = new MutationObserver(function (mutations, observer) {{\n",
       "        var display = window.getComputedStyle(gd).display;\n",
       "        if (!display || display === 'none') {{\n",
       "            console.log([gd, 'removed!']);\n",
       "            Plotly.purge(gd);\n",
       "            observer.disconnect();\n",
       "        }}\n",
       "}});\n",
       "\n",
       "// Listen for the removal of the full notebook cells\n",
       "var notebookContainer = gd.closest('#notebook-container');\n",
       "if (notebookContainer) {{\n",
       "    x.observe(notebookContainer, {childList: true});\n",
       "}}\n",
       "\n",
       "// Listen for the clearing of the current output cell\n",
       "var outputEl = gd.closest('.output');\n",
       "if (outputEl) {{\n",
       "    x.observe(outputEl, {childList: true});\n",
       "}}\n",
       "\n",
       "                        })                };                });            </script>        </div>"
      ]
     },
     "metadata": {},
     "output_type": "display_data"
    }
   ],
   "source": [
    "sense_feat_dict = {\n",
    "    'Number of Atoms' : 0,\n",
    "    'Count of Boron Atoms' : 1,\n",
    "    'Count of Carbon Atoms' : 2,\n",
    "    'Count of Nitrogen Atoms' : 3,\n",
    "    'Count of Oxygen Atoms' : 4,\n",
    "    'Count of Flourine Atoms' : 5, \n",
    "    'Count of Phosphorus Atoms' : 6,\n",
    "    'Count of Sulphur Atoms' : 7,\n",
    "    'Count of Chlorine Atoms' : 8,\n",
    "    'Count of Bromine Atoms' : 9,\n",
    "    'Count of Iodine Atoms' : 10,\n",
    "    'Count of Heavy Atoms' : 11,\n",
    "    'Molecular Weight' : 12,\n",
    "    'Hydrogen Acceptor Count' : 13,\n",
    "    'Hydrogen Donor Count' : 14,\n",
    "    'Solubility in Water' : 15,\n",
    "    'Number of Rings' : 16,\n",
    "    'Number of Chirals' : 17\n",
    "}\n",
    "\n",
    "drugs_return_dict = find_feature_membership(input_embed = normalized_mol2vec_embeddings,\n",
    "                                            embed_name = 'Mol2Vec',\n",
    "                                            sense_features = normalized_engineered_embeddings,\n",
    "                                            sense_feat_dict = sense_feat_dict,\n",
    "                                            top_k = 10)"
   ]
  },
  {
   "cell_type": "code",
   "execution_count": 18,
   "metadata": {},
   "outputs": [],
   "source": [
    "normalized_protvec_embeddings = np.zeros((targets_all.shape[0], 100))\n",
    "\n",
    "for idx, target in enumerate(targets_all['normalized_protvec_embeddings']):\n",
    "    normalized_protvec_embeddings[idx] = target\n",
    "    \n",
    "normalized_engineered_target_embeddings = np.zeros((targets_all.shape[0], 22))\n",
    "\n",
    "for idx, target in enumerate(targets_all['normalized_engineered_embeddings']):\n",
    "    normalized_engineered_target_embeddings[idx] = np.array(target)"
   ]
  },
  {
   "cell_type": "code",
   "execution_count": 57,
   "metadata": {},
   "outputs": [],
   "source": [
    "# Ensure scaled between zero and one (non-negative)\n",
    "normalized_protvec_embeddings = (normalized_protvec_embeddings - np.min(normalized_protvec_embeddings)) / np.ptp(normalized_protvec_embeddings)\n",
    "normalized_engineered_target_embeddings = (normalized_engineered_target_embeddings - np.min(normalized_engineered_target_embeddings)) / np.ptp(normalized_engineered_target_embeddings)"
   ]
  },
  {
   "cell_type": "code",
   "execution_count": 26,
   "metadata": {},
   "outputs": [
    {
     "name": "stdout",
     "output_type": "stream",
     "text": [
      "Scaling Sense Features To Between 0 and 1\n",
      "Scaling Input Embedding To Between 0 and 1\n"
     ]
    },
    {
     "name": "stderr",
     "output_type": "stream",
     "text": [
      "/miniconda/lib/python3.6/site-packages/sklearn/decomposition/_nmf.py:1076: ConvergenceWarning:\n",
      "\n",
      "Maximum number of iterations 4000 reached. Increase it to improve convergence.\n",
      "\n"
     ]
    },
    {
     "data": {
      "application/vnd.plotly.v1+json": {
       "config": {
        "plotlyServerURL": "https://plot.ly"
       },
       "data": [
        {
         "name": "Variance of Embedding Dimensions",
         "type": "bar",
         "x": [
          0,
          1,
          2,
          3,
          4,
          5,
          6,
          7,
          8,
          9,
          10,
          11,
          12,
          13,
          14,
          15,
          16,
          17,
          18,
          19,
          20,
          21,
          22,
          23,
          24,
          25,
          26,
          27,
          28,
          29,
          30,
          31,
          32,
          33,
          34,
          35,
          36,
          37,
          38,
          39,
          40,
          41,
          42,
          43,
          44,
          45,
          46,
          47,
          48,
          49,
          50,
          51,
          52,
          53,
          54,
          55,
          56,
          57,
          58,
          59,
          60,
          61,
          62,
          63,
          64,
          65,
          66,
          67,
          68,
          69,
          70,
          71,
          72,
          73,
          74,
          75,
          76,
          77,
          78,
          79,
          80,
          81,
          82,
          83,
          84,
          85,
          86,
          87,
          88,
          89,
          90,
          91,
          92,
          93,
          94,
          95,
          96,
          97,
          98,
          99
         ],
         "y": [
          0.0036314441822469234,
          0.009925177320837975,
          0.00048434294876642525,
          1.2191142559458967e-05,
          0.03866731747984886,
          0,
          0.002962731523439288,
          0,
          5.122449147165753e-05,
          0.015358461998403072,
          7.872065665992523e-09,
          3.485063643893227e-05,
          2.287982715643011e-05,
          0,
          9.709258847578894e-06,
          0,
          0.032418932765722275,
          3.2653251764713787e-06,
          0,
          0,
          0,
          0,
          5.599462838290492e-06,
          0,
          0,
          0,
          0,
          0,
          0,
          1.774490920070093e-05,
          0,
          0,
          0.12946215271949768,
          0,
          0,
          0,
          0,
          0.022458022460341454,
          0,
          0,
          0,
          0,
          0,
          0,
          0.026248684152960777,
          0,
          0,
          0,
          0.015860488638281822,
          0,
          0,
          0,
          0.007817183621227741,
          0,
          0,
          0,
          0.00013922328071203083,
          0,
          0,
          0.017267746850848198,
          0.12977391481399536,
          0,
          0,
          0.12945495545864105,
          0.1742723435163498,
          0,
          0,
          0.00033068485208787024,
          1.8285099940840155e-05,
          4.7731908125570044e-05,
          0.017059246078133583,
          0,
          0,
          0,
          0.3757673501968384,
          0,
          0,
          0,
          0,
          0,
          0.05194239690899849,
          0,
          0.05964883416891098,
          0.008806712925434113,
          0,
          0,
          0,
          0.255044549703598,
          0,
          0.026723172515630722,
          0.001424687448889017,
          0,
          0,
          0,
          0.06676441431045532,
          0,
          0,
          0.12924453616142273,
          0,
          0.09078916907310486
         ]
        },
        {
         "mode": "lines",
         "name": "Mean of Variance",
         "type": "scatter",
         "x": [
          0,
          1,
          2,
          3,
          4,
          5,
          6,
          7,
          8,
          9,
          10,
          11,
          12,
          13,
          14,
          15,
          16,
          17,
          18,
          19,
          20,
          21,
          22,
          23,
          24,
          25,
          26,
          27,
          28,
          29,
          30,
          31,
          32,
          33,
          34,
          35,
          36,
          37,
          38,
          39,
          40,
          41,
          42,
          43,
          44,
          45,
          46,
          47,
          48,
          49,
          50,
          51,
          52,
          53,
          54,
          55,
          56,
          57,
          58,
          59,
          60,
          61,
          62,
          63,
          64,
          65,
          66,
          67,
          68,
          69,
          70,
          71,
          72,
          73,
          74,
          75,
          76,
          77,
          78,
          79,
          80,
          81,
          82,
          83,
          84,
          85,
          86,
          87,
          88,
          89,
          90,
          91,
          92,
          93,
          94,
          95,
          96,
          97,
          98,
          99
         ],
         "y": [
          0.01839972287416458,
          0.01839972287416458,
          0.01839972287416458,
          0.01839972287416458,
          0.01839972287416458,
          0.01839972287416458,
          0.01839972287416458,
          0.01839972287416458,
          0.01839972287416458,
          0.01839972287416458,
          0.01839972287416458,
          0.01839972287416458,
          0.01839972287416458,
          0.01839972287416458,
          0.01839972287416458,
          0.01839972287416458,
          0.01839972287416458,
          0.01839972287416458,
          0.01839972287416458,
          0.01839972287416458,
          0.01839972287416458,
          0.01839972287416458,
          0.01839972287416458,
          0.01839972287416458,
          0.01839972287416458,
          0.01839972287416458,
          0.01839972287416458,
          0.01839972287416458,
          0.01839972287416458,
          0.01839972287416458,
          0.01839972287416458,
          0.01839972287416458,
          0.01839972287416458,
          0.01839972287416458,
          0.01839972287416458,
          0.01839972287416458,
          0.01839972287416458,
          0.01839972287416458,
          0.01839972287416458,
          0.01839972287416458,
          0.01839972287416458,
          0.01839972287416458,
          0.01839972287416458,
          0.01839972287416458,
          0.01839972287416458,
          0.01839972287416458,
          0.01839972287416458,
          0.01839972287416458,
          0.01839972287416458,
          0.01839972287416458,
          0.01839972287416458,
          0.01839972287416458,
          0.01839972287416458,
          0.01839972287416458,
          0.01839972287416458,
          0.01839972287416458,
          0.01839972287416458,
          0.01839972287416458,
          0.01839972287416458,
          0.01839972287416458,
          0.01839972287416458,
          0.01839972287416458,
          0.01839972287416458,
          0.01839972287416458,
          0.01839972287416458,
          0.01839972287416458,
          0.01839972287416458,
          0.01839972287416458,
          0.01839972287416458,
          0.01839972287416458,
          0.01839972287416458,
          0.01839972287416458,
          0.01839972287416458,
          0.01839972287416458,
          0.01839972287416458,
          0.01839972287416458,
          0.01839972287416458,
          0.01839972287416458,
          0.01839972287416458,
          0.01839972287416458,
          0.01839972287416458,
          0.01839972287416458,
          0.01839972287416458,
          0.01839972287416458,
          0.01839972287416458,
          0.01839972287416458,
          0.01839972287416458,
          0.01839972287416458,
          0.01839972287416458,
          0.01839972287416458,
          0.01839972287416458,
          0.01839972287416458,
          0.01839972287416458,
          0.01839972287416458,
          0.01839972287416458,
          0.01839972287416458,
          0.01839972287416458,
          0.01839972287416458,
          0.01839972287416458,
          0.01839972287416458
         ]
        },
        {
         "mode": "lines",
         "name": "Median of Variance",
         "type": "scatter",
         "x": [
          0,
          1,
          2,
          3,
          4,
          5,
          6,
          7,
          8,
          9,
          10,
          11,
          12,
          13,
          14,
          15,
          16,
          17,
          18,
          19,
          20,
          21,
          22,
          23,
          24,
          25,
          26,
          27,
          28,
          29,
          30,
          31,
          32,
          33,
          34,
          35,
          36,
          37,
          38,
          39,
          40,
          41,
          42,
          43,
          44,
          45,
          46,
          47,
          48,
          49,
          50,
          51,
          52,
          53,
          54,
          55,
          56,
          57,
          58,
          59,
          60,
          61,
          62,
          63,
          64,
          65,
          66,
          67,
          68,
          69,
          70,
          71,
          72,
          73,
          74,
          75,
          76,
          77,
          78,
          79,
          80,
          81,
          82,
          83,
          84,
          85,
          86,
          87,
          88,
          89,
          90,
          91,
          92,
          93,
          94,
          95,
          96,
          97,
          98,
          99
         ],
         "y": [
          0,
          0,
          0,
          0,
          0,
          0,
          0,
          0,
          0,
          0,
          0,
          0,
          0,
          0,
          0,
          0,
          0,
          0,
          0,
          0,
          0,
          0,
          0,
          0,
          0,
          0,
          0,
          0,
          0,
          0,
          0,
          0,
          0,
          0,
          0,
          0,
          0,
          0,
          0,
          0,
          0,
          0,
          0,
          0,
          0,
          0,
          0,
          0,
          0,
          0,
          0,
          0,
          0,
          0,
          0,
          0,
          0,
          0,
          0,
          0,
          0,
          0,
          0,
          0,
          0,
          0,
          0,
          0,
          0,
          0,
          0,
          0,
          0,
          0,
          0,
          0,
          0,
          0,
          0,
          0,
          0,
          0,
          0,
          0,
          0,
          0,
          0,
          0,
          0,
          0,
          0,
          0,
          0,
          0,
          0,
          0,
          0,
          0,
          0,
          0
         ]
        }
       ],
       "layout": {
        "template": {
         "data": {
          "bar": [
           {
            "error_x": {
             "color": "#2a3f5f"
            },
            "error_y": {
             "color": "#2a3f5f"
            },
            "marker": {
             "line": {
              "color": "#E5ECF6",
              "width": 0.5
             }
            },
            "type": "bar"
           }
          ],
          "barpolar": [
           {
            "marker": {
             "line": {
              "color": "#E5ECF6",
              "width": 0.5
             }
            },
            "type": "barpolar"
           }
          ],
          "carpet": [
           {
            "aaxis": {
             "endlinecolor": "#2a3f5f",
             "gridcolor": "white",
             "linecolor": "white",
             "minorgridcolor": "white",
             "startlinecolor": "#2a3f5f"
            },
            "baxis": {
             "endlinecolor": "#2a3f5f",
             "gridcolor": "white",
             "linecolor": "white",
             "minorgridcolor": "white",
             "startlinecolor": "#2a3f5f"
            },
            "type": "carpet"
           }
          ],
          "choropleth": [
           {
            "colorbar": {
             "outlinewidth": 0,
             "ticks": ""
            },
            "type": "choropleth"
           }
          ],
          "contour": [
           {
            "colorbar": {
             "outlinewidth": 0,
             "ticks": ""
            },
            "colorscale": [
             [
              0,
              "#0d0887"
             ],
             [
              0.1111111111111111,
              "#46039f"
             ],
             [
              0.2222222222222222,
              "#7201a8"
             ],
             [
              0.3333333333333333,
              "#9c179e"
             ],
             [
              0.4444444444444444,
              "#bd3786"
             ],
             [
              0.5555555555555556,
              "#d8576b"
             ],
             [
              0.6666666666666666,
              "#ed7953"
             ],
             [
              0.7777777777777778,
              "#fb9f3a"
             ],
             [
              0.8888888888888888,
              "#fdca26"
             ],
             [
              1,
              "#f0f921"
             ]
            ],
            "type": "contour"
           }
          ],
          "contourcarpet": [
           {
            "colorbar": {
             "outlinewidth": 0,
             "ticks": ""
            },
            "type": "contourcarpet"
           }
          ],
          "heatmap": [
           {
            "colorbar": {
             "outlinewidth": 0,
             "ticks": ""
            },
            "colorscale": [
             [
              0,
              "#0d0887"
             ],
             [
              0.1111111111111111,
              "#46039f"
             ],
             [
              0.2222222222222222,
              "#7201a8"
             ],
             [
              0.3333333333333333,
              "#9c179e"
             ],
             [
              0.4444444444444444,
              "#bd3786"
             ],
             [
              0.5555555555555556,
              "#d8576b"
             ],
             [
              0.6666666666666666,
              "#ed7953"
             ],
             [
              0.7777777777777778,
              "#fb9f3a"
             ],
             [
              0.8888888888888888,
              "#fdca26"
             ],
             [
              1,
              "#f0f921"
             ]
            ],
            "type": "heatmap"
           }
          ],
          "heatmapgl": [
           {
            "colorbar": {
             "outlinewidth": 0,
             "ticks": ""
            },
            "colorscale": [
             [
              0,
              "#0d0887"
             ],
             [
              0.1111111111111111,
              "#46039f"
             ],
             [
              0.2222222222222222,
              "#7201a8"
             ],
             [
              0.3333333333333333,
              "#9c179e"
             ],
             [
              0.4444444444444444,
              "#bd3786"
             ],
             [
              0.5555555555555556,
              "#d8576b"
             ],
             [
              0.6666666666666666,
              "#ed7953"
             ],
             [
              0.7777777777777778,
              "#fb9f3a"
             ],
             [
              0.8888888888888888,
              "#fdca26"
             ],
             [
              1,
              "#f0f921"
             ]
            ],
            "type": "heatmapgl"
           }
          ],
          "histogram": [
           {
            "marker": {
             "colorbar": {
              "outlinewidth": 0,
              "ticks": ""
             }
            },
            "type": "histogram"
           }
          ],
          "histogram2d": [
           {
            "colorbar": {
             "outlinewidth": 0,
             "ticks": ""
            },
            "colorscale": [
             [
              0,
              "#0d0887"
             ],
             [
              0.1111111111111111,
              "#46039f"
             ],
             [
              0.2222222222222222,
              "#7201a8"
             ],
             [
              0.3333333333333333,
              "#9c179e"
             ],
             [
              0.4444444444444444,
              "#bd3786"
             ],
             [
              0.5555555555555556,
              "#d8576b"
             ],
             [
              0.6666666666666666,
              "#ed7953"
             ],
             [
              0.7777777777777778,
              "#fb9f3a"
             ],
             [
              0.8888888888888888,
              "#fdca26"
             ],
             [
              1,
              "#f0f921"
             ]
            ],
            "type": "histogram2d"
           }
          ],
          "histogram2dcontour": [
           {
            "colorbar": {
             "outlinewidth": 0,
             "ticks": ""
            },
            "colorscale": [
             [
              0,
              "#0d0887"
             ],
             [
              0.1111111111111111,
              "#46039f"
             ],
             [
              0.2222222222222222,
              "#7201a8"
             ],
             [
              0.3333333333333333,
              "#9c179e"
             ],
             [
              0.4444444444444444,
              "#bd3786"
             ],
             [
              0.5555555555555556,
              "#d8576b"
             ],
             [
              0.6666666666666666,
              "#ed7953"
             ],
             [
              0.7777777777777778,
              "#fb9f3a"
             ],
             [
              0.8888888888888888,
              "#fdca26"
             ],
             [
              1,
              "#f0f921"
             ]
            ],
            "type": "histogram2dcontour"
           }
          ],
          "mesh3d": [
           {
            "colorbar": {
             "outlinewidth": 0,
             "ticks": ""
            },
            "type": "mesh3d"
           }
          ],
          "parcoords": [
           {
            "line": {
             "colorbar": {
              "outlinewidth": 0,
              "ticks": ""
             }
            },
            "type": "parcoords"
           }
          ],
          "pie": [
           {
            "automargin": true,
            "type": "pie"
           }
          ],
          "scatter": [
           {
            "marker": {
             "colorbar": {
              "outlinewidth": 0,
              "ticks": ""
             }
            },
            "type": "scatter"
           }
          ],
          "scatter3d": [
           {
            "line": {
             "colorbar": {
              "outlinewidth": 0,
              "ticks": ""
             }
            },
            "marker": {
             "colorbar": {
              "outlinewidth": 0,
              "ticks": ""
             }
            },
            "type": "scatter3d"
           }
          ],
          "scattercarpet": [
           {
            "marker": {
             "colorbar": {
              "outlinewidth": 0,
              "ticks": ""
             }
            },
            "type": "scattercarpet"
           }
          ],
          "scattergeo": [
           {
            "marker": {
             "colorbar": {
              "outlinewidth": 0,
              "ticks": ""
             }
            },
            "type": "scattergeo"
           }
          ],
          "scattergl": [
           {
            "marker": {
             "colorbar": {
              "outlinewidth": 0,
              "ticks": ""
             }
            },
            "type": "scattergl"
           }
          ],
          "scattermapbox": [
           {
            "marker": {
             "colorbar": {
              "outlinewidth": 0,
              "ticks": ""
             }
            },
            "type": "scattermapbox"
           }
          ],
          "scatterpolar": [
           {
            "marker": {
             "colorbar": {
              "outlinewidth": 0,
              "ticks": ""
             }
            },
            "type": "scatterpolar"
           }
          ],
          "scatterpolargl": [
           {
            "marker": {
             "colorbar": {
              "outlinewidth": 0,
              "ticks": ""
             }
            },
            "type": "scatterpolargl"
           }
          ],
          "scatterternary": [
           {
            "marker": {
             "colorbar": {
              "outlinewidth": 0,
              "ticks": ""
             }
            },
            "type": "scatterternary"
           }
          ],
          "surface": [
           {
            "colorbar": {
             "outlinewidth": 0,
             "ticks": ""
            },
            "colorscale": [
             [
              0,
              "#0d0887"
             ],
             [
              0.1111111111111111,
              "#46039f"
             ],
             [
              0.2222222222222222,
              "#7201a8"
             ],
             [
              0.3333333333333333,
              "#9c179e"
             ],
             [
              0.4444444444444444,
              "#bd3786"
             ],
             [
              0.5555555555555556,
              "#d8576b"
             ],
             [
              0.6666666666666666,
              "#ed7953"
             ],
             [
              0.7777777777777778,
              "#fb9f3a"
             ],
             [
              0.8888888888888888,
              "#fdca26"
             ],
             [
              1,
              "#f0f921"
             ]
            ],
            "type": "surface"
           }
          ],
          "table": [
           {
            "cells": {
             "fill": {
              "color": "#EBF0F8"
             },
             "line": {
              "color": "white"
             }
            },
            "header": {
             "fill": {
              "color": "#C8D4E3"
             },
             "line": {
              "color": "white"
             }
            },
            "type": "table"
           }
          ]
         },
         "layout": {
          "annotationdefaults": {
           "arrowcolor": "#2a3f5f",
           "arrowhead": 0,
           "arrowwidth": 1
          },
          "autotypenumbers": "strict",
          "coloraxis": {
           "colorbar": {
            "outlinewidth": 0,
            "ticks": ""
           }
          },
          "colorscale": {
           "diverging": [
            [
             0,
             "#8e0152"
            ],
            [
             0.1,
             "#c51b7d"
            ],
            [
             0.2,
             "#de77ae"
            ],
            [
             0.3,
             "#f1b6da"
            ],
            [
             0.4,
             "#fde0ef"
            ],
            [
             0.5,
             "#f7f7f7"
            ],
            [
             0.6,
             "#e6f5d0"
            ],
            [
             0.7,
             "#b8e186"
            ],
            [
             0.8,
             "#7fbc41"
            ],
            [
             0.9,
             "#4d9221"
            ],
            [
             1,
             "#276419"
            ]
           ],
           "sequential": [
            [
             0,
             "#0d0887"
            ],
            [
             0.1111111111111111,
             "#46039f"
            ],
            [
             0.2222222222222222,
             "#7201a8"
            ],
            [
             0.3333333333333333,
             "#9c179e"
            ],
            [
             0.4444444444444444,
             "#bd3786"
            ],
            [
             0.5555555555555556,
             "#d8576b"
            ],
            [
             0.6666666666666666,
             "#ed7953"
            ],
            [
             0.7777777777777778,
             "#fb9f3a"
            ],
            [
             0.8888888888888888,
             "#fdca26"
            ],
            [
             1,
             "#f0f921"
            ]
           ],
           "sequentialminus": [
            [
             0,
             "#0d0887"
            ],
            [
             0.1111111111111111,
             "#46039f"
            ],
            [
             0.2222222222222222,
             "#7201a8"
            ],
            [
             0.3333333333333333,
             "#9c179e"
            ],
            [
             0.4444444444444444,
             "#bd3786"
            ],
            [
             0.5555555555555556,
             "#d8576b"
            ],
            [
             0.6666666666666666,
             "#ed7953"
            ],
            [
             0.7777777777777778,
             "#fb9f3a"
            ],
            [
             0.8888888888888888,
             "#fdca26"
            ],
            [
             1,
             "#f0f921"
            ]
           ]
          },
          "colorway": [
           "#636efa",
           "#EF553B",
           "#00cc96",
           "#ab63fa",
           "#FFA15A",
           "#19d3f3",
           "#FF6692",
           "#B6E880",
           "#FF97FF",
           "#FECB52"
          ],
          "font": {
           "color": "#2a3f5f"
          },
          "geo": {
           "bgcolor": "white",
           "lakecolor": "white",
           "landcolor": "#E5ECF6",
           "showlakes": true,
           "showland": true,
           "subunitcolor": "white"
          },
          "hoverlabel": {
           "align": "left"
          },
          "hovermode": "closest",
          "mapbox": {
           "style": "light"
          },
          "paper_bgcolor": "white",
          "plot_bgcolor": "#E5ECF6",
          "polar": {
           "angularaxis": {
            "gridcolor": "white",
            "linecolor": "white",
            "ticks": ""
           },
           "bgcolor": "#E5ECF6",
           "radialaxis": {
            "gridcolor": "white",
            "linecolor": "white",
            "ticks": ""
           }
          },
          "scene": {
           "xaxis": {
            "backgroundcolor": "#E5ECF6",
            "gridcolor": "white",
            "gridwidth": 2,
            "linecolor": "white",
            "showbackground": true,
            "ticks": "",
            "zerolinecolor": "white"
           },
           "yaxis": {
            "backgroundcolor": "#E5ECF6",
            "gridcolor": "white",
            "gridwidth": 2,
            "linecolor": "white",
            "showbackground": true,
            "ticks": "",
            "zerolinecolor": "white"
           },
           "zaxis": {
            "backgroundcolor": "#E5ECF6",
            "gridcolor": "white",
            "gridwidth": 2,
            "linecolor": "white",
            "showbackground": true,
            "ticks": "",
            "zerolinecolor": "white"
           }
          },
          "shapedefaults": {
           "line": {
            "color": "#2a3f5f"
           }
          },
          "ternary": {
           "aaxis": {
            "gridcolor": "white",
            "linecolor": "white",
            "ticks": ""
           },
           "baxis": {
            "gridcolor": "white",
            "linecolor": "white",
            "ticks": ""
           },
           "bgcolor": "#E5ECF6",
           "caxis": {
            "gridcolor": "white",
            "linecolor": "white",
            "ticks": ""
           }
          },
          "title": {
           "x": 0.05
          },
          "xaxis": {
           "automargin": true,
           "gridcolor": "white",
           "linecolor": "white",
           "ticks": "",
           "title": {
            "standoff": 15
           },
           "zerolinecolor": "white",
           "zerolinewidth": 2
          },
          "yaxis": {
           "automargin": true,
           "gridcolor": "white",
           "linecolor": "white",
           "ticks": "",
           "title": {
            "standoff": 15
           },
           "zerolinecolor": "white",
           "zerolinewidth": 2
          }
         }
        },
        "title": {
         "text": "Variance of Explanability Across Dimensions - ProtVec"
        },
        "xaxis": {
         "title": {
          "text": "Dimensions"
         }
        },
        "yaxis": {
         "title": {
          "text": "Variance"
         }
        }
       }
      },
      "text/html": [
       "<div>                            <div id=\"20306c12-1276-4ce0-bb9a-7e1b5cf83683\" class=\"plotly-graph-div\" style=\"height:525px; width:100%;\"></div>            <script type=\"text/javascript\">                require([\"plotly\"], function(Plotly) {                    window.PLOTLYENV=window.PLOTLYENV || {};                                    if (document.getElementById(\"20306c12-1276-4ce0-bb9a-7e1b5cf83683\")) {                    Plotly.newPlot(                        \"20306c12-1276-4ce0-bb9a-7e1b5cf83683\",                        [{\"name\": \"Variance of Embedding Dimensions\", \"type\": \"bar\", \"x\": [0, 1, 2, 3, 4, 5, 6, 7, 8, 9, 10, 11, 12, 13, 14, 15, 16, 17, 18, 19, 20, 21, 22, 23, 24, 25, 26, 27, 28, 29, 30, 31, 32, 33, 34, 35, 36, 37, 38, 39, 40, 41, 42, 43, 44, 45, 46, 47, 48, 49, 50, 51, 52, 53, 54, 55, 56, 57, 58, 59, 60, 61, 62, 63, 64, 65, 66, 67, 68, 69, 70, 71, 72, 73, 74, 75, 76, 77, 78, 79, 80, 81, 82, 83, 84, 85, 86, 87, 88, 89, 90, 91, 92, 93, 94, 95, 96, 97, 98, 99], \"y\": [0.0036314441822469234, 0.009925177320837975, 0.00048434294876642525, 1.2191142559458967e-05, 0.03866731747984886, 0.0, 0.002962731523439288, 0.0, 5.122449147165753e-05, 0.015358461998403072, 7.872065665992523e-09, 3.485063643893227e-05, 2.287982715643011e-05, 0.0, 9.709258847578894e-06, 0.0, 0.032418932765722275, 3.2653251764713787e-06, 0.0, 0.0, 0.0, 0.0, 5.599462838290492e-06, 0.0, 0.0, 0.0, 0.0, 0.0, 0.0, 1.774490920070093e-05, 0.0, 0.0, 0.12946215271949768, 0.0, 0.0, 0.0, 0.0, 0.022458022460341454, 0.0, 0.0, 0.0, 0.0, 0.0, 0.0, 0.026248684152960777, 0.0, 0.0, 0.0, 0.015860488638281822, 0.0, 0.0, 0.0, 0.007817183621227741, 0.0, 0.0, 0.0, 0.00013922328071203083, 0.0, 0.0, 0.017267746850848198, 0.12977391481399536, 0.0, 0.0, 0.12945495545864105, 0.1742723435163498, 0.0, 0.0, 0.00033068485208787024, 1.8285099940840155e-05, 4.7731908125570044e-05, 0.017059246078133583, 0.0, 0.0, 0.0, 0.3757673501968384, 0.0, 0.0, 0.0, 0.0, 0.0, 0.05194239690899849, 0.0, 0.05964883416891098, 0.008806712925434113, 0.0, 0.0, 0.0, 0.255044549703598, 0.0, 0.026723172515630722, 0.001424687448889017, 0.0, 0.0, 0.0, 0.06676441431045532, 0.0, 0.0, 0.12924453616142273, 0.0, 0.09078916907310486]}, {\"mode\": \"lines\", \"name\": \"Mean of Variance\", \"type\": \"scatter\", \"x\": [0, 1, 2, 3, 4, 5, 6, 7, 8, 9, 10, 11, 12, 13, 14, 15, 16, 17, 18, 19, 20, 21, 22, 23, 24, 25, 26, 27, 28, 29, 30, 31, 32, 33, 34, 35, 36, 37, 38, 39, 40, 41, 42, 43, 44, 45, 46, 47, 48, 49, 50, 51, 52, 53, 54, 55, 56, 57, 58, 59, 60, 61, 62, 63, 64, 65, 66, 67, 68, 69, 70, 71, 72, 73, 74, 75, 76, 77, 78, 79, 80, 81, 82, 83, 84, 85, 86, 87, 88, 89, 90, 91, 92, 93, 94, 95, 96, 97, 98, 99], \"y\": [0.01839972287416458, 0.01839972287416458, 0.01839972287416458, 0.01839972287416458, 0.01839972287416458, 0.01839972287416458, 0.01839972287416458, 0.01839972287416458, 0.01839972287416458, 0.01839972287416458, 0.01839972287416458, 0.01839972287416458, 0.01839972287416458, 0.01839972287416458, 0.01839972287416458, 0.01839972287416458, 0.01839972287416458, 0.01839972287416458, 0.01839972287416458, 0.01839972287416458, 0.01839972287416458, 0.01839972287416458, 0.01839972287416458, 0.01839972287416458, 0.01839972287416458, 0.01839972287416458, 0.01839972287416458, 0.01839972287416458, 0.01839972287416458, 0.01839972287416458, 0.01839972287416458, 0.01839972287416458, 0.01839972287416458, 0.01839972287416458, 0.01839972287416458, 0.01839972287416458, 0.01839972287416458, 0.01839972287416458, 0.01839972287416458, 0.01839972287416458, 0.01839972287416458, 0.01839972287416458, 0.01839972287416458, 0.01839972287416458, 0.01839972287416458, 0.01839972287416458, 0.01839972287416458, 0.01839972287416458, 0.01839972287416458, 0.01839972287416458, 0.01839972287416458, 0.01839972287416458, 0.01839972287416458, 0.01839972287416458, 0.01839972287416458, 0.01839972287416458, 0.01839972287416458, 0.01839972287416458, 0.01839972287416458, 0.01839972287416458, 0.01839972287416458, 0.01839972287416458, 0.01839972287416458, 0.01839972287416458, 0.01839972287416458, 0.01839972287416458, 0.01839972287416458, 0.01839972287416458, 0.01839972287416458, 0.01839972287416458, 0.01839972287416458, 0.01839972287416458, 0.01839972287416458, 0.01839972287416458, 0.01839972287416458, 0.01839972287416458, 0.01839972287416458, 0.01839972287416458, 0.01839972287416458, 0.01839972287416458, 0.01839972287416458, 0.01839972287416458, 0.01839972287416458, 0.01839972287416458, 0.01839972287416458, 0.01839972287416458, 0.01839972287416458, 0.01839972287416458, 0.01839972287416458, 0.01839972287416458, 0.01839972287416458, 0.01839972287416458, 0.01839972287416458, 0.01839972287416458, 0.01839972287416458, 0.01839972287416458, 0.01839972287416458, 0.01839972287416458, 0.01839972287416458, 0.01839972287416458]}, {\"mode\": \"lines\", \"name\": \"Median of Variance\", \"type\": \"scatter\", \"x\": [0, 1, 2, 3, 4, 5, 6, 7, 8, 9, 10, 11, 12, 13, 14, 15, 16, 17, 18, 19, 20, 21, 22, 23, 24, 25, 26, 27, 28, 29, 30, 31, 32, 33, 34, 35, 36, 37, 38, 39, 40, 41, 42, 43, 44, 45, 46, 47, 48, 49, 50, 51, 52, 53, 54, 55, 56, 57, 58, 59, 60, 61, 62, 63, 64, 65, 66, 67, 68, 69, 70, 71, 72, 73, 74, 75, 76, 77, 78, 79, 80, 81, 82, 83, 84, 85, 86, 87, 88, 89, 90, 91, 92, 93, 94, 95, 96, 97, 98, 99], \"y\": [0.0, 0.0, 0.0, 0.0, 0.0, 0.0, 0.0, 0.0, 0.0, 0.0, 0.0, 0.0, 0.0, 0.0, 0.0, 0.0, 0.0, 0.0, 0.0, 0.0, 0.0, 0.0, 0.0, 0.0, 0.0, 0.0, 0.0, 0.0, 0.0, 0.0, 0.0, 0.0, 0.0, 0.0, 0.0, 0.0, 0.0, 0.0, 0.0, 0.0, 0.0, 0.0, 0.0, 0.0, 0.0, 0.0, 0.0, 0.0, 0.0, 0.0, 0.0, 0.0, 0.0, 0.0, 0.0, 0.0, 0.0, 0.0, 0.0, 0.0, 0.0, 0.0, 0.0, 0.0, 0.0, 0.0, 0.0, 0.0, 0.0, 0.0, 0.0, 0.0, 0.0, 0.0, 0.0, 0.0, 0.0, 0.0, 0.0, 0.0, 0.0, 0.0, 0.0, 0.0, 0.0, 0.0, 0.0, 0.0, 0.0, 0.0, 0.0, 0.0, 0.0, 0.0, 0.0, 0.0, 0.0, 0.0, 0.0, 0.0]}],                        {\"template\": {\"data\": {\"bar\": [{\"error_x\": {\"color\": \"#2a3f5f\"}, \"error_y\": {\"color\": \"#2a3f5f\"}, \"marker\": {\"line\": {\"color\": \"#E5ECF6\", \"width\": 0.5}}, \"type\": \"bar\"}], \"barpolar\": [{\"marker\": {\"line\": {\"color\": \"#E5ECF6\", \"width\": 0.5}}, \"type\": \"barpolar\"}], \"carpet\": [{\"aaxis\": {\"endlinecolor\": \"#2a3f5f\", \"gridcolor\": \"white\", \"linecolor\": \"white\", \"minorgridcolor\": \"white\", \"startlinecolor\": \"#2a3f5f\"}, \"baxis\": {\"endlinecolor\": \"#2a3f5f\", \"gridcolor\": \"white\", \"linecolor\": \"white\", \"minorgridcolor\": \"white\", \"startlinecolor\": \"#2a3f5f\"}, \"type\": \"carpet\"}], \"choropleth\": [{\"colorbar\": {\"outlinewidth\": 0, \"ticks\": \"\"}, \"type\": \"choropleth\"}], \"contour\": [{\"colorbar\": {\"outlinewidth\": 0, \"ticks\": \"\"}, \"colorscale\": [[0.0, \"#0d0887\"], [0.1111111111111111, \"#46039f\"], [0.2222222222222222, \"#7201a8\"], [0.3333333333333333, \"#9c179e\"], [0.4444444444444444, \"#bd3786\"], [0.5555555555555556, \"#d8576b\"], [0.6666666666666666, \"#ed7953\"], [0.7777777777777778, \"#fb9f3a\"], [0.8888888888888888, \"#fdca26\"], [1.0, \"#f0f921\"]], \"type\": \"contour\"}], \"contourcarpet\": [{\"colorbar\": {\"outlinewidth\": 0, \"ticks\": \"\"}, \"type\": \"contourcarpet\"}], \"heatmap\": [{\"colorbar\": {\"outlinewidth\": 0, \"ticks\": \"\"}, \"colorscale\": [[0.0, \"#0d0887\"], [0.1111111111111111, \"#46039f\"], [0.2222222222222222, \"#7201a8\"], [0.3333333333333333, \"#9c179e\"], [0.4444444444444444, \"#bd3786\"], [0.5555555555555556, \"#d8576b\"], [0.6666666666666666, \"#ed7953\"], [0.7777777777777778, \"#fb9f3a\"], [0.8888888888888888, \"#fdca26\"], [1.0, \"#f0f921\"]], \"type\": \"heatmap\"}], \"heatmapgl\": [{\"colorbar\": {\"outlinewidth\": 0, \"ticks\": \"\"}, \"colorscale\": [[0.0, \"#0d0887\"], [0.1111111111111111, \"#46039f\"], [0.2222222222222222, \"#7201a8\"], [0.3333333333333333, \"#9c179e\"], [0.4444444444444444, \"#bd3786\"], [0.5555555555555556, \"#d8576b\"], [0.6666666666666666, \"#ed7953\"], [0.7777777777777778, \"#fb9f3a\"], [0.8888888888888888, \"#fdca26\"], [1.0, \"#f0f921\"]], \"type\": \"heatmapgl\"}], \"histogram\": [{\"marker\": {\"colorbar\": {\"outlinewidth\": 0, \"ticks\": \"\"}}, \"type\": \"histogram\"}], \"histogram2d\": [{\"colorbar\": {\"outlinewidth\": 0, \"ticks\": \"\"}, \"colorscale\": [[0.0, \"#0d0887\"], [0.1111111111111111, \"#46039f\"], [0.2222222222222222, \"#7201a8\"], [0.3333333333333333, \"#9c179e\"], [0.4444444444444444, \"#bd3786\"], [0.5555555555555556, \"#d8576b\"], [0.6666666666666666, \"#ed7953\"], [0.7777777777777778, \"#fb9f3a\"], [0.8888888888888888, \"#fdca26\"], [1.0, \"#f0f921\"]], \"type\": \"histogram2d\"}], \"histogram2dcontour\": [{\"colorbar\": {\"outlinewidth\": 0, \"ticks\": \"\"}, \"colorscale\": [[0.0, \"#0d0887\"], [0.1111111111111111, \"#46039f\"], [0.2222222222222222, \"#7201a8\"], [0.3333333333333333, \"#9c179e\"], [0.4444444444444444, \"#bd3786\"], [0.5555555555555556, \"#d8576b\"], [0.6666666666666666, \"#ed7953\"], [0.7777777777777778, \"#fb9f3a\"], [0.8888888888888888, \"#fdca26\"], [1.0, \"#f0f921\"]], \"type\": \"histogram2dcontour\"}], \"mesh3d\": [{\"colorbar\": {\"outlinewidth\": 0, \"ticks\": \"\"}, \"type\": \"mesh3d\"}], \"parcoords\": [{\"line\": {\"colorbar\": {\"outlinewidth\": 0, \"ticks\": \"\"}}, \"type\": \"parcoords\"}], \"pie\": [{\"automargin\": true, \"type\": \"pie\"}], \"scatter\": [{\"marker\": {\"colorbar\": {\"outlinewidth\": 0, \"ticks\": \"\"}}, \"type\": \"scatter\"}], \"scatter3d\": [{\"line\": {\"colorbar\": {\"outlinewidth\": 0, \"ticks\": \"\"}}, \"marker\": {\"colorbar\": {\"outlinewidth\": 0, \"ticks\": \"\"}}, \"type\": \"scatter3d\"}], \"scattercarpet\": [{\"marker\": {\"colorbar\": {\"outlinewidth\": 0, \"ticks\": \"\"}}, \"type\": \"scattercarpet\"}], \"scattergeo\": [{\"marker\": {\"colorbar\": {\"outlinewidth\": 0, \"ticks\": \"\"}}, \"type\": \"scattergeo\"}], \"scattergl\": [{\"marker\": {\"colorbar\": {\"outlinewidth\": 0, \"ticks\": \"\"}}, \"type\": \"scattergl\"}], \"scattermapbox\": [{\"marker\": {\"colorbar\": {\"outlinewidth\": 0, \"ticks\": \"\"}}, \"type\": \"scattermapbox\"}], \"scatterpolar\": [{\"marker\": {\"colorbar\": {\"outlinewidth\": 0, \"ticks\": \"\"}}, \"type\": \"scatterpolar\"}], \"scatterpolargl\": [{\"marker\": {\"colorbar\": {\"outlinewidth\": 0, \"ticks\": \"\"}}, \"type\": \"scatterpolargl\"}], \"scatterternary\": [{\"marker\": {\"colorbar\": {\"outlinewidth\": 0, \"ticks\": \"\"}}, \"type\": \"scatterternary\"}], \"surface\": [{\"colorbar\": {\"outlinewidth\": 0, \"ticks\": \"\"}, \"colorscale\": [[0.0, \"#0d0887\"], [0.1111111111111111, \"#46039f\"], [0.2222222222222222, \"#7201a8\"], [0.3333333333333333, \"#9c179e\"], [0.4444444444444444, \"#bd3786\"], [0.5555555555555556, \"#d8576b\"], [0.6666666666666666, \"#ed7953\"], [0.7777777777777778, \"#fb9f3a\"], [0.8888888888888888, \"#fdca26\"], [1.0, \"#f0f921\"]], \"type\": \"surface\"}], \"table\": [{\"cells\": {\"fill\": {\"color\": \"#EBF0F8\"}, \"line\": {\"color\": \"white\"}}, \"header\": {\"fill\": {\"color\": \"#C8D4E3\"}, \"line\": {\"color\": \"white\"}}, \"type\": \"table\"}]}, \"layout\": {\"annotationdefaults\": {\"arrowcolor\": \"#2a3f5f\", \"arrowhead\": 0, \"arrowwidth\": 1}, \"autotypenumbers\": \"strict\", \"coloraxis\": {\"colorbar\": {\"outlinewidth\": 0, \"ticks\": \"\"}}, \"colorscale\": {\"diverging\": [[0, \"#8e0152\"], [0.1, \"#c51b7d\"], [0.2, \"#de77ae\"], [0.3, \"#f1b6da\"], [0.4, \"#fde0ef\"], [0.5, \"#f7f7f7\"], [0.6, \"#e6f5d0\"], [0.7, \"#b8e186\"], [0.8, \"#7fbc41\"], [0.9, \"#4d9221\"], [1, \"#276419\"]], \"sequential\": [[0.0, \"#0d0887\"], [0.1111111111111111, \"#46039f\"], [0.2222222222222222, \"#7201a8\"], [0.3333333333333333, \"#9c179e\"], [0.4444444444444444, \"#bd3786\"], [0.5555555555555556, \"#d8576b\"], [0.6666666666666666, \"#ed7953\"], [0.7777777777777778, \"#fb9f3a\"], [0.8888888888888888, \"#fdca26\"], [1.0, \"#f0f921\"]], \"sequentialminus\": [[0.0, \"#0d0887\"], [0.1111111111111111, \"#46039f\"], [0.2222222222222222, \"#7201a8\"], [0.3333333333333333, \"#9c179e\"], [0.4444444444444444, \"#bd3786\"], [0.5555555555555556, \"#d8576b\"], [0.6666666666666666, \"#ed7953\"], [0.7777777777777778, \"#fb9f3a\"], [0.8888888888888888, \"#fdca26\"], [1.0, \"#f0f921\"]]}, \"colorway\": [\"#636efa\", \"#EF553B\", \"#00cc96\", \"#ab63fa\", \"#FFA15A\", \"#19d3f3\", \"#FF6692\", \"#B6E880\", \"#FF97FF\", \"#FECB52\"], \"font\": {\"color\": \"#2a3f5f\"}, \"geo\": {\"bgcolor\": \"white\", \"lakecolor\": \"white\", \"landcolor\": \"#E5ECF6\", \"showlakes\": true, \"showland\": true, \"subunitcolor\": \"white\"}, \"hoverlabel\": {\"align\": \"left\"}, \"hovermode\": \"closest\", \"mapbox\": {\"style\": \"light\"}, \"paper_bgcolor\": \"white\", \"plot_bgcolor\": \"#E5ECF6\", \"polar\": {\"angularaxis\": {\"gridcolor\": \"white\", \"linecolor\": \"white\", \"ticks\": \"\"}, \"bgcolor\": \"#E5ECF6\", \"radialaxis\": {\"gridcolor\": \"white\", \"linecolor\": \"white\", \"ticks\": \"\"}}, \"scene\": {\"xaxis\": {\"backgroundcolor\": \"#E5ECF6\", \"gridcolor\": \"white\", \"gridwidth\": 2, \"linecolor\": \"white\", \"showbackground\": true, \"ticks\": \"\", \"zerolinecolor\": \"white\"}, \"yaxis\": {\"backgroundcolor\": \"#E5ECF6\", \"gridcolor\": \"white\", \"gridwidth\": 2, \"linecolor\": \"white\", \"showbackground\": true, \"ticks\": \"\", \"zerolinecolor\": \"white\"}, \"zaxis\": {\"backgroundcolor\": \"#E5ECF6\", \"gridcolor\": \"white\", \"gridwidth\": 2, \"linecolor\": \"white\", \"showbackground\": true, \"ticks\": \"\", \"zerolinecolor\": \"white\"}}, \"shapedefaults\": {\"line\": {\"color\": \"#2a3f5f\"}}, \"ternary\": {\"aaxis\": {\"gridcolor\": \"white\", \"linecolor\": \"white\", \"ticks\": \"\"}, \"baxis\": {\"gridcolor\": \"white\", \"linecolor\": \"white\", \"ticks\": \"\"}, \"bgcolor\": \"#E5ECF6\", \"caxis\": {\"gridcolor\": \"white\", \"linecolor\": \"white\", \"ticks\": \"\"}}, \"title\": {\"x\": 0.05}, \"xaxis\": {\"automargin\": true, \"gridcolor\": \"white\", \"linecolor\": \"white\", \"ticks\": \"\", \"title\": {\"standoff\": 15}, \"zerolinecolor\": \"white\", \"zerolinewidth\": 2}, \"yaxis\": {\"automargin\": true, \"gridcolor\": \"white\", \"linecolor\": \"white\", \"ticks\": \"\", \"title\": {\"standoff\": 15}, \"zerolinecolor\": \"white\", \"zerolinewidth\": 2}}}, \"title\": {\"text\": \"Variance of Explanability Across Dimensions - ProtVec\"}, \"xaxis\": {\"title\": {\"text\": \"Dimensions\"}}, \"yaxis\": {\"title\": {\"text\": \"Variance\"}}},                        {\"responsive\": true}                    ).then(function(){\n",
       "                            \n",
       "var gd = document.getElementById('20306c12-1276-4ce0-bb9a-7e1b5cf83683');\n",
       "var x = new MutationObserver(function (mutations, observer) {{\n",
       "        var display = window.getComputedStyle(gd).display;\n",
       "        if (!display || display === 'none') {{\n",
       "            console.log([gd, 'removed!']);\n",
       "            Plotly.purge(gd);\n",
       "            observer.disconnect();\n",
       "        }}\n",
       "}});\n",
       "\n",
       "// Listen for the removal of the full notebook cells\n",
       "var notebookContainer = gd.closest('#notebook-container');\n",
       "if (notebookContainer) {{\n",
       "    x.observe(notebookContainer, {childList: true});\n",
       "}}\n",
       "\n",
       "// Listen for the clearing of the current output cell\n",
       "var outputEl = gd.closest('.output');\n",
       "if (outputEl) {{\n",
       "    x.observe(outputEl, {childList: true});\n",
       "}}\n",
       "\n",
       "                        })                };                });            </script>        </div>"
      ]
     },
     "metadata": {},
     "output_type": "display_data"
    },
    {
     "data": {
      "application/vnd.plotly.v1+json": {
       "config": {
        "plotlyServerURL": "https://plot.ly"
       },
       "data": [
        {
         "name": "Dimension 4",
         "type": "bar",
         "x": [
          "A",
          "R",
          "N",
          "D",
          "C",
          "E",
          "Q",
          "G",
          "H",
          "I",
          "L",
          "K",
          "M",
          "F",
          "P",
          "S",
          "T",
          "W",
          "Y",
          "V",
          "Total Count",
          "Molecular Weight"
         ],
         "y": [
          0,
          0,
          0,
          0,
          0,
          0,
          0,
          0,
          0.9450370073318481,
          0,
          0,
          0,
          0,
          0,
          0,
          0,
          0,
          0,
          0,
          0,
          0.03403960168361664,
          0
         ]
        },
        {
         "name": "Dimension 16",
         "type": "bar",
         "x": [
          "A",
          "R",
          "N",
          "D",
          "C",
          "E",
          "Q",
          "G",
          "H",
          "I",
          "L",
          "K",
          "M",
          "F",
          "P",
          "S",
          "T",
          "W",
          "Y",
          "V",
          "Total Count",
          "Molecular Weight"
         ],
         "y": [
          0,
          0,
          0,
          0,
          0,
          0,
          0,
          0,
          0,
          0,
          0,
          0.8643953204154968,
          0,
          0,
          0,
          0,
          0,
          0,
          0,
          0,
          0,
          0
         ]
        },
        {
         "name": "Dimension 32",
         "type": "bar",
         "x": [
          "A",
          "R",
          "N",
          "D",
          "C",
          "E",
          "Q",
          "G",
          "H",
          "I",
          "L",
          "K",
          "M",
          "F",
          "P",
          "S",
          "T",
          "W",
          "Y",
          "V",
          "Total Count",
          "Molecular Weight"
         ],
         "y": [
          0,
          0,
          0,
          0,
          0,
          0,
          0,
          0,
          0,
          1.72736656665802,
          0,
          0,
          0,
          0,
          0,
          0,
          0,
          0,
          0,
          0,
          0,
          0
         ]
        },
        {
         "name": "Dimension 37",
         "type": "bar",
         "x": [
          "A",
          "R",
          "N",
          "D",
          "C",
          "E",
          "Q",
          "G",
          "H",
          "I",
          "L",
          "K",
          "M",
          "F",
          "P",
          "S",
          "T",
          "W",
          "Y",
          "V",
          "Total Count",
          "Molecular Weight"
         ],
         "y": [
          0,
          0,
          0,
          0,
          0,
          0,
          0,
          0,
          0,
          0,
          0,
          0,
          0,
          0,
          0,
          0,
          0,
          0,
          0,
          0.16545164585113525,
          0,
          0.7080870270729065
         ]
        },
        {
         "name": "Dimension 44",
         "type": "bar",
         "x": [
          "A",
          "R",
          "N",
          "D",
          "C",
          "E",
          "Q",
          "G",
          "H",
          "I",
          "L",
          "K",
          "M",
          "F",
          "P",
          "S",
          "T",
          "W",
          "Y",
          "V",
          "Total Count",
          "Molecular Weight"
         ],
         "y": [
          0,
          0,
          0,
          0,
          0.7777982354164124,
          0,
          0,
          0,
          0,
          0,
          0,
          0,
          0,
          0,
          0,
          0,
          0,
          0,
          0,
          0,
          0,
          0
         ]
        },
        {
         "name": "Dimension 60",
         "type": "bar",
         "x": [
          "A",
          "R",
          "N",
          "D",
          "C",
          "E",
          "Q",
          "G",
          "H",
          "I",
          "L",
          "K",
          "M",
          "F",
          "P",
          "S",
          "T",
          "W",
          "Y",
          "V",
          "Total Count",
          "Molecular Weight"
         ],
         "y": [
          0,
          1.7294442653656006,
          0,
          0,
          0,
          0,
          0,
          0,
          0,
          0,
          0,
          0,
          0,
          0,
          0,
          0,
          0,
          0,
          0,
          0,
          0,
          0
         ]
        },
        {
         "name": "Dimension 63",
         "type": "bar",
         "x": [
          "A",
          "R",
          "N",
          "D",
          "C",
          "E",
          "Q",
          "G",
          "H",
          "I",
          "L",
          "K",
          "M",
          "F",
          "P",
          "S",
          "T",
          "W",
          "Y",
          "V",
          "Total Count",
          "Molecular Weight"
         ],
         "y": [
          0,
          0,
          0,
          0,
          0,
          0,
          0,
          0,
          0,
          0,
          0,
          0,
          0,
          1.727320909500122,
          0,
          0,
          0,
          0,
          0,
          0,
          5.651415995089337e-05,
          0
         ]
        },
        {
         "name": "Dimension 64",
         "type": "bar",
         "x": [
          "A",
          "R",
          "N",
          "D",
          "C",
          "E",
          "Q",
          "G",
          "H",
          "I",
          "L",
          "K",
          "M",
          "F",
          "P",
          "S",
          "T",
          "W",
          "Y",
          "V",
          "Total Count",
          "Molecular Weight"
         ],
         "y": [
          0,
          0,
          0,
          0,
          0,
          0,
          0,
          0.49000492691993713,
          0,
          0,
          0,
          0,
          0,
          0,
          0,
          0,
          0,
          0,
          0.9205628633499146,
          1.5610368251800537,
          0.00991366058588028,
          1.0181734561920166
         ]
        },
        {
         "name": "Dimension 74",
         "type": "bar",
         "x": [
          "A",
          "R",
          "N",
          "D",
          "C",
          "E",
          "Q",
          "G",
          "H",
          "I",
          "L",
          "K",
          "M",
          "F",
          "P",
          "S",
          "T",
          "W",
          "Y",
          "V",
          "Total Count",
          "Molecular Weight"
         ],
         "y": [
          0,
          0,
          0,
          0,
          0,
          1.4475303888320923,
          0,
          0,
          0,
          0,
          0,
          0,
          1.730275273323059,
          0,
          0,
          1.2009080648422241,
          1.7273164987564087,
          1.0340007543563843,
          0,
          0,
          0,
          0
         ]
        },
        {
         "name": "Dimension 80",
         "type": "bar",
         "x": [
          "A",
          "R",
          "N",
          "D",
          "C",
          "E",
          "Q",
          "G",
          "H",
          "I",
          "L",
          "K",
          "M",
          "F",
          "P",
          "S",
          "T",
          "W",
          "Y",
          "V",
          "Total Count",
          "Molecular Weight"
         ],
         "y": [
          1.0941425561904907,
          0,
          0,
          0,
          0,
          0,
          0,
          0,
          0,
          0,
          0,
          0,
          0,
          0,
          0,
          0,
          0,
          0,
          0,
          0,
          0,
          0
         ]
        },
        {
         "name": "Dimension 82",
         "type": "bar",
         "x": [
          "A",
          "R",
          "N",
          "D",
          "C",
          "E",
          "Q",
          "G",
          "H",
          "I",
          "L",
          "K",
          "M",
          "F",
          "P",
          "S",
          "T",
          "W",
          "Y",
          "V",
          "Total Count",
          "Molecular Weight"
         ],
         "y": [
          0,
          0,
          0,
          0,
          0,
          0,
          0,
          0,
          0,
          0,
          1.1725032329559326,
          0,
          0,
          0,
          0,
          0,
          0,
          0,
          0,
          0,
          0,
          0
         ]
        },
        {
         "name": "Dimension 87",
         "type": "bar",
         "x": [
          "A",
          "R",
          "N",
          "D",
          "C",
          "E",
          "Q",
          "G",
          "H",
          "I",
          "L",
          "K",
          "M",
          "F",
          "P",
          "S",
          "T",
          "W",
          "Y",
          "V",
          "Total Count",
          "Molecular Weight"
         ],
         "y": [
          0.6331578493118286,
          0,
          1.7287839651107788,
          1.7266260385513306,
          0,
          0,
          0,
          0,
          0,
          0,
          0,
          0,
          0,
          0,
          0,
          0,
          0,
          0,
          0,
          0,
          0,
          0
         ]
        },
        {
         "name": "Dimension 89",
         "type": "bar",
         "x": [
          "A",
          "R",
          "N",
          "D",
          "C",
          "E",
          "Q",
          "G",
          "H",
          "I",
          "L",
          "K",
          "M",
          "F",
          "P",
          "S",
          "T",
          "W",
          "Y",
          "V",
          "Total Count",
          "Molecular Weight"
         ],
         "y": [
          0,
          0,
          0,
          0,
          0,
          0,
          0,
          0,
          0,
          0,
          0,
          0.7847962379455566,
          0,
          0,
          0,
          0,
          0,
          0,
          0,
          0,
          0,
          0
         ]
        },
        {
         "name": "Dimension 94",
         "type": "bar",
         "x": [
          "A",
          "R",
          "N",
          "D",
          "C",
          "E",
          "Q",
          "G",
          "H",
          "I",
          "L",
          "K",
          "M",
          "F",
          "P",
          "S",
          "T",
          "W",
          "Y",
          "V",
          "Total Count",
          "Molecular Weight"
         ],
         "y": [
          0,
          0,
          0,
          0,
          0,
          0,
          0,
          0,
          0,
          0,
          0,
          0,
          0,
          0,
          1.2404677867889404,
          0,
          0,
          0,
          0,
          0,
          0,
          0
         ]
        },
        {
         "name": "Dimension 97",
         "type": "bar",
         "x": [
          "A",
          "R",
          "N",
          "D",
          "C",
          "E",
          "Q",
          "G",
          "H",
          "I",
          "L",
          "K",
          "M",
          "F",
          "P",
          "S",
          "T",
          "W",
          "Y",
          "V",
          "Total Count",
          "Molecular Weight"
         ],
         "y": [
          0,
          0,
          0,
          0,
          0.005557351280003786,
          0,
          1.7261695861816406,
          0,
          0,
          0,
          0,
          0,
          0,
          0,
          0,
          0,
          0,
          0,
          0,
          0,
          0,
          0
         ]
        },
        {
         "name": "Dimension 99",
         "type": "bar",
         "x": [
          "A",
          "R",
          "N",
          "D",
          "C",
          "E",
          "Q",
          "G",
          "H",
          "I",
          "L",
          "K",
          "M",
          "F",
          "P",
          "S",
          "T",
          "W",
          "Y",
          "V",
          "Total Count",
          "Molecular Weight"
         ],
         "y": [
          0,
          0,
          0,
          0,
          0,
          0,
          0,
          1.239748477935791,
          0,
          0,
          0,
          0,
          0,
          0,
          0,
          0,
          0,
          0,
          0.8066874146461487,
          0,
          0,
          0
         ]
        }
       ],
       "layout": {
        "barmode": "group",
        "template": {
         "data": {
          "bar": [
           {
            "error_x": {
             "color": "#2a3f5f"
            },
            "error_y": {
             "color": "#2a3f5f"
            },
            "marker": {
             "line": {
              "color": "#E5ECF6",
              "width": 0.5
             }
            },
            "type": "bar"
           }
          ],
          "barpolar": [
           {
            "marker": {
             "line": {
              "color": "#E5ECF6",
              "width": 0.5
             }
            },
            "type": "barpolar"
           }
          ],
          "carpet": [
           {
            "aaxis": {
             "endlinecolor": "#2a3f5f",
             "gridcolor": "white",
             "linecolor": "white",
             "minorgridcolor": "white",
             "startlinecolor": "#2a3f5f"
            },
            "baxis": {
             "endlinecolor": "#2a3f5f",
             "gridcolor": "white",
             "linecolor": "white",
             "minorgridcolor": "white",
             "startlinecolor": "#2a3f5f"
            },
            "type": "carpet"
           }
          ],
          "choropleth": [
           {
            "colorbar": {
             "outlinewidth": 0,
             "ticks": ""
            },
            "type": "choropleth"
           }
          ],
          "contour": [
           {
            "colorbar": {
             "outlinewidth": 0,
             "ticks": ""
            },
            "colorscale": [
             [
              0,
              "#0d0887"
             ],
             [
              0.1111111111111111,
              "#46039f"
             ],
             [
              0.2222222222222222,
              "#7201a8"
             ],
             [
              0.3333333333333333,
              "#9c179e"
             ],
             [
              0.4444444444444444,
              "#bd3786"
             ],
             [
              0.5555555555555556,
              "#d8576b"
             ],
             [
              0.6666666666666666,
              "#ed7953"
             ],
             [
              0.7777777777777778,
              "#fb9f3a"
             ],
             [
              0.8888888888888888,
              "#fdca26"
             ],
             [
              1,
              "#f0f921"
             ]
            ],
            "type": "contour"
           }
          ],
          "contourcarpet": [
           {
            "colorbar": {
             "outlinewidth": 0,
             "ticks": ""
            },
            "type": "contourcarpet"
           }
          ],
          "heatmap": [
           {
            "colorbar": {
             "outlinewidth": 0,
             "ticks": ""
            },
            "colorscale": [
             [
              0,
              "#0d0887"
             ],
             [
              0.1111111111111111,
              "#46039f"
             ],
             [
              0.2222222222222222,
              "#7201a8"
             ],
             [
              0.3333333333333333,
              "#9c179e"
             ],
             [
              0.4444444444444444,
              "#bd3786"
             ],
             [
              0.5555555555555556,
              "#d8576b"
             ],
             [
              0.6666666666666666,
              "#ed7953"
             ],
             [
              0.7777777777777778,
              "#fb9f3a"
             ],
             [
              0.8888888888888888,
              "#fdca26"
             ],
             [
              1,
              "#f0f921"
             ]
            ],
            "type": "heatmap"
           }
          ],
          "heatmapgl": [
           {
            "colorbar": {
             "outlinewidth": 0,
             "ticks": ""
            },
            "colorscale": [
             [
              0,
              "#0d0887"
             ],
             [
              0.1111111111111111,
              "#46039f"
             ],
             [
              0.2222222222222222,
              "#7201a8"
             ],
             [
              0.3333333333333333,
              "#9c179e"
             ],
             [
              0.4444444444444444,
              "#bd3786"
             ],
             [
              0.5555555555555556,
              "#d8576b"
             ],
             [
              0.6666666666666666,
              "#ed7953"
             ],
             [
              0.7777777777777778,
              "#fb9f3a"
             ],
             [
              0.8888888888888888,
              "#fdca26"
             ],
             [
              1,
              "#f0f921"
             ]
            ],
            "type": "heatmapgl"
           }
          ],
          "histogram": [
           {
            "marker": {
             "colorbar": {
              "outlinewidth": 0,
              "ticks": ""
             }
            },
            "type": "histogram"
           }
          ],
          "histogram2d": [
           {
            "colorbar": {
             "outlinewidth": 0,
             "ticks": ""
            },
            "colorscale": [
             [
              0,
              "#0d0887"
             ],
             [
              0.1111111111111111,
              "#46039f"
             ],
             [
              0.2222222222222222,
              "#7201a8"
             ],
             [
              0.3333333333333333,
              "#9c179e"
             ],
             [
              0.4444444444444444,
              "#bd3786"
             ],
             [
              0.5555555555555556,
              "#d8576b"
             ],
             [
              0.6666666666666666,
              "#ed7953"
             ],
             [
              0.7777777777777778,
              "#fb9f3a"
             ],
             [
              0.8888888888888888,
              "#fdca26"
             ],
             [
              1,
              "#f0f921"
             ]
            ],
            "type": "histogram2d"
           }
          ],
          "histogram2dcontour": [
           {
            "colorbar": {
             "outlinewidth": 0,
             "ticks": ""
            },
            "colorscale": [
             [
              0,
              "#0d0887"
             ],
             [
              0.1111111111111111,
              "#46039f"
             ],
             [
              0.2222222222222222,
              "#7201a8"
             ],
             [
              0.3333333333333333,
              "#9c179e"
             ],
             [
              0.4444444444444444,
              "#bd3786"
             ],
             [
              0.5555555555555556,
              "#d8576b"
             ],
             [
              0.6666666666666666,
              "#ed7953"
             ],
             [
              0.7777777777777778,
              "#fb9f3a"
             ],
             [
              0.8888888888888888,
              "#fdca26"
             ],
             [
              1,
              "#f0f921"
             ]
            ],
            "type": "histogram2dcontour"
           }
          ],
          "mesh3d": [
           {
            "colorbar": {
             "outlinewidth": 0,
             "ticks": ""
            },
            "type": "mesh3d"
           }
          ],
          "parcoords": [
           {
            "line": {
             "colorbar": {
              "outlinewidth": 0,
              "ticks": ""
             }
            },
            "type": "parcoords"
           }
          ],
          "pie": [
           {
            "automargin": true,
            "type": "pie"
           }
          ],
          "scatter": [
           {
            "marker": {
             "colorbar": {
              "outlinewidth": 0,
              "ticks": ""
             }
            },
            "type": "scatter"
           }
          ],
          "scatter3d": [
           {
            "line": {
             "colorbar": {
              "outlinewidth": 0,
              "ticks": ""
             }
            },
            "marker": {
             "colorbar": {
              "outlinewidth": 0,
              "ticks": ""
             }
            },
            "type": "scatter3d"
           }
          ],
          "scattercarpet": [
           {
            "marker": {
             "colorbar": {
              "outlinewidth": 0,
              "ticks": ""
             }
            },
            "type": "scattercarpet"
           }
          ],
          "scattergeo": [
           {
            "marker": {
             "colorbar": {
              "outlinewidth": 0,
              "ticks": ""
             }
            },
            "type": "scattergeo"
           }
          ],
          "scattergl": [
           {
            "marker": {
             "colorbar": {
              "outlinewidth": 0,
              "ticks": ""
             }
            },
            "type": "scattergl"
           }
          ],
          "scattermapbox": [
           {
            "marker": {
             "colorbar": {
              "outlinewidth": 0,
              "ticks": ""
             }
            },
            "type": "scattermapbox"
           }
          ],
          "scatterpolar": [
           {
            "marker": {
             "colorbar": {
              "outlinewidth": 0,
              "ticks": ""
             }
            },
            "type": "scatterpolar"
           }
          ],
          "scatterpolargl": [
           {
            "marker": {
             "colorbar": {
              "outlinewidth": 0,
              "ticks": ""
             }
            },
            "type": "scatterpolargl"
           }
          ],
          "scatterternary": [
           {
            "marker": {
             "colorbar": {
              "outlinewidth": 0,
              "ticks": ""
             }
            },
            "type": "scatterternary"
           }
          ],
          "surface": [
           {
            "colorbar": {
             "outlinewidth": 0,
             "ticks": ""
            },
            "colorscale": [
             [
              0,
              "#0d0887"
             ],
             [
              0.1111111111111111,
              "#46039f"
             ],
             [
              0.2222222222222222,
              "#7201a8"
             ],
             [
              0.3333333333333333,
              "#9c179e"
             ],
             [
              0.4444444444444444,
              "#bd3786"
             ],
             [
              0.5555555555555556,
              "#d8576b"
             ],
             [
              0.6666666666666666,
              "#ed7953"
             ],
             [
              0.7777777777777778,
              "#fb9f3a"
             ],
             [
              0.8888888888888888,
              "#fdca26"
             ],
             [
              1,
              "#f0f921"
             ]
            ],
            "type": "surface"
           }
          ],
          "table": [
           {
            "cells": {
             "fill": {
              "color": "#EBF0F8"
             },
             "line": {
              "color": "white"
             }
            },
            "header": {
             "fill": {
              "color": "#C8D4E3"
             },
             "line": {
              "color": "white"
             }
            },
            "type": "table"
           }
          ]
         },
         "layout": {
          "annotationdefaults": {
           "arrowcolor": "#2a3f5f",
           "arrowhead": 0,
           "arrowwidth": 1
          },
          "autotypenumbers": "strict",
          "coloraxis": {
           "colorbar": {
            "outlinewidth": 0,
            "ticks": ""
           }
          },
          "colorscale": {
           "diverging": [
            [
             0,
             "#8e0152"
            ],
            [
             0.1,
             "#c51b7d"
            ],
            [
             0.2,
             "#de77ae"
            ],
            [
             0.3,
             "#f1b6da"
            ],
            [
             0.4,
             "#fde0ef"
            ],
            [
             0.5,
             "#f7f7f7"
            ],
            [
             0.6,
             "#e6f5d0"
            ],
            [
             0.7,
             "#b8e186"
            ],
            [
             0.8,
             "#7fbc41"
            ],
            [
             0.9,
             "#4d9221"
            ],
            [
             1,
             "#276419"
            ]
           ],
           "sequential": [
            [
             0,
             "#0d0887"
            ],
            [
             0.1111111111111111,
             "#46039f"
            ],
            [
             0.2222222222222222,
             "#7201a8"
            ],
            [
             0.3333333333333333,
             "#9c179e"
            ],
            [
             0.4444444444444444,
             "#bd3786"
            ],
            [
             0.5555555555555556,
             "#d8576b"
            ],
            [
             0.6666666666666666,
             "#ed7953"
            ],
            [
             0.7777777777777778,
             "#fb9f3a"
            ],
            [
             0.8888888888888888,
             "#fdca26"
            ],
            [
             1,
             "#f0f921"
            ]
           ],
           "sequentialminus": [
            [
             0,
             "#0d0887"
            ],
            [
             0.1111111111111111,
             "#46039f"
            ],
            [
             0.2222222222222222,
             "#7201a8"
            ],
            [
             0.3333333333333333,
             "#9c179e"
            ],
            [
             0.4444444444444444,
             "#bd3786"
            ],
            [
             0.5555555555555556,
             "#d8576b"
            ],
            [
             0.6666666666666666,
             "#ed7953"
            ],
            [
             0.7777777777777778,
             "#fb9f3a"
            ],
            [
             0.8888888888888888,
             "#fdca26"
            ],
            [
             1,
             "#f0f921"
            ]
           ]
          },
          "colorway": [
           "#636efa",
           "#EF553B",
           "#00cc96",
           "#ab63fa",
           "#FFA15A",
           "#19d3f3",
           "#FF6692",
           "#B6E880",
           "#FF97FF",
           "#FECB52"
          ],
          "font": {
           "color": "#2a3f5f"
          },
          "geo": {
           "bgcolor": "white",
           "lakecolor": "white",
           "landcolor": "#E5ECF6",
           "showlakes": true,
           "showland": true,
           "subunitcolor": "white"
          },
          "hoverlabel": {
           "align": "left"
          },
          "hovermode": "closest",
          "mapbox": {
           "style": "light"
          },
          "paper_bgcolor": "white",
          "plot_bgcolor": "#E5ECF6",
          "polar": {
           "angularaxis": {
            "gridcolor": "white",
            "linecolor": "white",
            "ticks": ""
           },
           "bgcolor": "#E5ECF6",
           "radialaxis": {
            "gridcolor": "white",
            "linecolor": "white",
            "ticks": ""
           }
          },
          "scene": {
           "xaxis": {
            "backgroundcolor": "#E5ECF6",
            "gridcolor": "white",
            "gridwidth": 2,
            "linecolor": "white",
            "showbackground": true,
            "ticks": "",
            "zerolinecolor": "white"
           },
           "yaxis": {
            "backgroundcolor": "#E5ECF6",
            "gridcolor": "white",
            "gridwidth": 2,
            "linecolor": "white",
            "showbackground": true,
            "ticks": "",
            "zerolinecolor": "white"
           },
           "zaxis": {
            "backgroundcolor": "#E5ECF6",
            "gridcolor": "white",
            "gridwidth": 2,
            "linecolor": "white",
            "showbackground": true,
            "ticks": "",
            "zerolinecolor": "white"
           }
          },
          "shapedefaults": {
           "line": {
            "color": "#2a3f5f"
           }
          },
          "ternary": {
           "aaxis": {
            "gridcolor": "white",
            "linecolor": "white",
            "ticks": ""
           },
           "baxis": {
            "gridcolor": "white",
            "linecolor": "white",
            "ticks": ""
           },
           "bgcolor": "#E5ECF6",
           "caxis": {
            "gridcolor": "white",
            "linecolor": "white",
            "ticks": ""
           }
          },
          "title": {
           "x": 0.05
          },
          "xaxis": {
           "automargin": true,
           "gridcolor": "white",
           "linecolor": "white",
           "ticks": "",
           "title": {
            "standoff": 15
           },
           "zerolinecolor": "white",
           "zerolinewidth": 2
          },
          "yaxis": {
           "automargin": true,
           "gridcolor": "white",
           "linecolor": "white",
           "ticks": "",
           "title": {
            "standoff": 15
           },
           "zerolinecolor": "white",
           "zerolinewidth": 2
          }
         }
        },
        "title": {
         "text": "Embedding Dimension Feature Membership - ProtVec"
        },
        "xaxis": {
         "title": {
          "text": "Engineered Features"
         }
        },
        "yaxis": {
         "title": {
          "text": "Membership"
         }
        }
       }
      },
      "text/html": [
       "<div>                            <div id=\"416ccb69-b96f-46da-b350-c5a3e0f56106\" class=\"plotly-graph-div\" style=\"height:525px; width:100%;\"></div>            <script type=\"text/javascript\">                require([\"plotly\"], function(Plotly) {                    window.PLOTLYENV=window.PLOTLYENV || {};                                    if (document.getElementById(\"416ccb69-b96f-46da-b350-c5a3e0f56106\")) {                    Plotly.newPlot(                        \"416ccb69-b96f-46da-b350-c5a3e0f56106\",                        [{\"name\": \"Dimension 4\", \"type\": \"bar\", \"x\": [\"A\", \"R\", \"N\", \"D\", \"C\", \"E\", \"Q\", \"G\", \"H\", \"I\", \"L\", \"K\", \"M\", \"F\", \"P\", \"S\", \"T\", \"W\", \"Y\", \"V\", \"Total Count\", \"Molecular Weight\"], \"y\": [0.0, 0.0, 0.0, 0.0, 0.0, 0.0, 0.0, 0.0, 0.9450370073318481, 0.0, 0.0, 0.0, 0.0, 0.0, 0.0, 0.0, 0.0, 0.0, 0.0, 0.0, 0.03403960168361664, 0.0]}, {\"name\": \"Dimension 16\", \"type\": \"bar\", \"x\": [\"A\", \"R\", \"N\", \"D\", \"C\", \"E\", \"Q\", \"G\", \"H\", \"I\", \"L\", \"K\", \"M\", \"F\", \"P\", \"S\", \"T\", \"W\", \"Y\", \"V\", \"Total Count\", \"Molecular Weight\"], \"y\": [0.0, 0.0, 0.0, 0.0, 0.0, 0.0, 0.0, 0.0, 0.0, 0.0, 0.0, 0.8643953204154968, 0.0, 0.0, 0.0, 0.0, 0.0, 0.0, 0.0, 0.0, 0.0, 0.0]}, {\"name\": \"Dimension 32\", \"type\": \"bar\", \"x\": [\"A\", \"R\", \"N\", \"D\", \"C\", \"E\", \"Q\", \"G\", \"H\", \"I\", \"L\", \"K\", \"M\", \"F\", \"P\", \"S\", \"T\", \"W\", \"Y\", \"V\", \"Total Count\", \"Molecular Weight\"], \"y\": [0.0, 0.0, 0.0, 0.0, 0.0, 0.0, 0.0, 0.0, 0.0, 1.72736656665802, 0.0, 0.0, 0.0, 0.0, 0.0, 0.0, 0.0, 0.0, 0.0, 0.0, 0.0, 0.0]}, {\"name\": \"Dimension 37\", \"type\": \"bar\", \"x\": [\"A\", \"R\", \"N\", \"D\", \"C\", \"E\", \"Q\", \"G\", \"H\", \"I\", \"L\", \"K\", \"M\", \"F\", \"P\", \"S\", \"T\", \"W\", \"Y\", \"V\", \"Total Count\", \"Molecular Weight\"], \"y\": [0.0, 0.0, 0.0, 0.0, 0.0, 0.0, 0.0, 0.0, 0.0, 0.0, 0.0, 0.0, 0.0, 0.0, 0.0, 0.0, 0.0, 0.0, 0.0, 0.16545164585113525, 0.0, 0.7080870270729065]}, {\"name\": \"Dimension 44\", \"type\": \"bar\", \"x\": [\"A\", \"R\", \"N\", \"D\", \"C\", \"E\", \"Q\", \"G\", \"H\", \"I\", \"L\", \"K\", \"M\", \"F\", \"P\", \"S\", \"T\", \"W\", \"Y\", \"V\", \"Total Count\", \"Molecular Weight\"], \"y\": [0.0, 0.0, 0.0, 0.0, 0.7777982354164124, 0.0, 0.0, 0.0, 0.0, 0.0, 0.0, 0.0, 0.0, 0.0, 0.0, 0.0, 0.0, 0.0, 0.0, 0.0, 0.0, 0.0]}, {\"name\": \"Dimension 60\", \"type\": \"bar\", \"x\": [\"A\", \"R\", \"N\", \"D\", \"C\", \"E\", \"Q\", \"G\", \"H\", \"I\", \"L\", \"K\", \"M\", \"F\", \"P\", \"S\", \"T\", \"W\", \"Y\", \"V\", \"Total Count\", \"Molecular Weight\"], \"y\": [0.0, 1.7294442653656006, 0.0, 0.0, 0.0, 0.0, 0.0, 0.0, 0.0, 0.0, 0.0, 0.0, 0.0, 0.0, 0.0, 0.0, 0.0, 0.0, 0.0, 0.0, 0.0, 0.0]}, {\"name\": \"Dimension 63\", \"type\": \"bar\", \"x\": [\"A\", \"R\", \"N\", \"D\", \"C\", \"E\", \"Q\", \"G\", \"H\", \"I\", \"L\", \"K\", \"M\", \"F\", \"P\", \"S\", \"T\", \"W\", \"Y\", \"V\", \"Total Count\", \"Molecular Weight\"], \"y\": [0.0, 0.0, 0.0, 0.0, 0.0, 0.0, 0.0, 0.0, 0.0, 0.0, 0.0, 0.0, 0.0, 1.727320909500122, 0.0, 0.0, 0.0, 0.0, 0.0, 0.0, 5.651415995089337e-05, 0.0]}, {\"name\": \"Dimension 64\", \"type\": \"bar\", \"x\": [\"A\", \"R\", \"N\", \"D\", \"C\", \"E\", \"Q\", \"G\", \"H\", \"I\", \"L\", \"K\", \"M\", \"F\", \"P\", \"S\", \"T\", \"W\", \"Y\", \"V\", \"Total Count\", \"Molecular Weight\"], \"y\": [0.0, 0.0, 0.0, 0.0, 0.0, 0.0, 0.0, 0.49000492691993713, 0.0, 0.0, 0.0, 0.0, 0.0, 0.0, 0.0, 0.0, 0.0, 0.0, 0.9205628633499146, 1.5610368251800537, 0.00991366058588028, 1.0181734561920166]}, {\"name\": \"Dimension 74\", \"type\": \"bar\", \"x\": [\"A\", \"R\", \"N\", \"D\", \"C\", \"E\", \"Q\", \"G\", \"H\", \"I\", \"L\", \"K\", \"M\", \"F\", \"P\", \"S\", \"T\", \"W\", \"Y\", \"V\", \"Total Count\", \"Molecular Weight\"], \"y\": [0.0, 0.0, 0.0, 0.0, 0.0, 1.4475303888320923, 0.0, 0.0, 0.0, 0.0, 0.0, 0.0, 1.730275273323059, 0.0, 0.0, 1.2009080648422241, 1.7273164987564087, 1.0340007543563843, 0.0, 0.0, 0.0, 0.0]}, {\"name\": \"Dimension 80\", \"type\": \"bar\", \"x\": [\"A\", \"R\", \"N\", \"D\", \"C\", \"E\", \"Q\", \"G\", \"H\", \"I\", \"L\", \"K\", \"M\", \"F\", \"P\", \"S\", \"T\", \"W\", \"Y\", \"V\", \"Total Count\", \"Molecular Weight\"], \"y\": [1.0941425561904907, 0.0, 0.0, 0.0, 0.0, 0.0, 0.0, 0.0, 0.0, 0.0, 0.0, 0.0, 0.0, 0.0, 0.0, 0.0, 0.0, 0.0, 0.0, 0.0, 0.0, 0.0]}, {\"name\": \"Dimension 82\", \"type\": \"bar\", \"x\": [\"A\", \"R\", \"N\", \"D\", \"C\", \"E\", \"Q\", \"G\", \"H\", \"I\", \"L\", \"K\", \"M\", \"F\", \"P\", \"S\", \"T\", \"W\", \"Y\", \"V\", \"Total Count\", \"Molecular Weight\"], \"y\": [0.0, 0.0, 0.0, 0.0, 0.0, 0.0, 0.0, 0.0, 0.0, 0.0, 1.1725032329559326, 0.0, 0.0, 0.0, 0.0, 0.0, 0.0, 0.0, 0.0, 0.0, 0.0, 0.0]}, {\"name\": \"Dimension 87\", \"type\": \"bar\", \"x\": [\"A\", \"R\", \"N\", \"D\", \"C\", \"E\", \"Q\", \"G\", \"H\", \"I\", \"L\", \"K\", \"M\", \"F\", \"P\", \"S\", \"T\", \"W\", \"Y\", \"V\", \"Total Count\", \"Molecular Weight\"], \"y\": [0.6331578493118286, 0.0, 1.7287839651107788, 1.7266260385513306, 0.0, 0.0, 0.0, 0.0, 0.0, 0.0, 0.0, 0.0, 0.0, 0.0, 0.0, 0.0, 0.0, 0.0, 0.0, 0.0, 0.0, 0.0]}, {\"name\": \"Dimension 89\", \"type\": \"bar\", \"x\": [\"A\", \"R\", \"N\", \"D\", \"C\", \"E\", \"Q\", \"G\", \"H\", \"I\", \"L\", \"K\", \"M\", \"F\", \"P\", \"S\", \"T\", \"W\", \"Y\", \"V\", \"Total Count\", \"Molecular Weight\"], \"y\": [0.0, 0.0, 0.0, 0.0, 0.0, 0.0, 0.0, 0.0, 0.0, 0.0, 0.0, 0.7847962379455566, 0.0, 0.0, 0.0, 0.0, 0.0, 0.0, 0.0, 0.0, 0.0, 0.0]}, {\"name\": \"Dimension 94\", \"type\": \"bar\", \"x\": [\"A\", \"R\", \"N\", \"D\", \"C\", \"E\", \"Q\", \"G\", \"H\", \"I\", \"L\", \"K\", \"M\", \"F\", \"P\", \"S\", \"T\", \"W\", \"Y\", \"V\", \"Total Count\", \"Molecular Weight\"], \"y\": [0.0, 0.0, 0.0, 0.0, 0.0, 0.0, 0.0, 0.0, 0.0, 0.0, 0.0, 0.0, 0.0, 0.0, 1.2404677867889404, 0.0, 0.0, 0.0, 0.0, 0.0, 0.0, 0.0]}, {\"name\": \"Dimension 97\", \"type\": \"bar\", \"x\": [\"A\", \"R\", \"N\", \"D\", \"C\", \"E\", \"Q\", \"G\", \"H\", \"I\", \"L\", \"K\", \"M\", \"F\", \"P\", \"S\", \"T\", \"W\", \"Y\", \"V\", \"Total Count\", \"Molecular Weight\"], \"y\": [0.0, 0.0, 0.0, 0.0, 0.005557351280003786, 0.0, 1.7261695861816406, 0.0, 0.0, 0.0, 0.0, 0.0, 0.0, 0.0, 0.0, 0.0, 0.0, 0.0, 0.0, 0.0, 0.0, 0.0]}, {\"name\": \"Dimension 99\", \"type\": \"bar\", \"x\": [\"A\", \"R\", \"N\", \"D\", \"C\", \"E\", \"Q\", \"G\", \"H\", \"I\", \"L\", \"K\", \"M\", \"F\", \"P\", \"S\", \"T\", \"W\", \"Y\", \"V\", \"Total Count\", \"Molecular Weight\"], \"y\": [0.0, 0.0, 0.0, 0.0, 0.0, 0.0, 0.0, 1.239748477935791, 0.0, 0.0, 0.0, 0.0, 0.0, 0.0, 0.0, 0.0, 0.0, 0.0, 0.8066874146461487, 0.0, 0.0, 0.0]}],                        {\"barmode\": \"group\", \"template\": {\"data\": {\"bar\": [{\"error_x\": {\"color\": \"#2a3f5f\"}, \"error_y\": {\"color\": \"#2a3f5f\"}, \"marker\": {\"line\": {\"color\": \"#E5ECF6\", \"width\": 0.5}}, \"type\": \"bar\"}], \"barpolar\": [{\"marker\": {\"line\": {\"color\": \"#E5ECF6\", \"width\": 0.5}}, \"type\": \"barpolar\"}], \"carpet\": [{\"aaxis\": {\"endlinecolor\": \"#2a3f5f\", \"gridcolor\": \"white\", \"linecolor\": \"white\", \"minorgridcolor\": \"white\", \"startlinecolor\": \"#2a3f5f\"}, \"baxis\": {\"endlinecolor\": \"#2a3f5f\", \"gridcolor\": \"white\", \"linecolor\": \"white\", \"minorgridcolor\": \"white\", \"startlinecolor\": \"#2a3f5f\"}, \"type\": \"carpet\"}], \"choropleth\": [{\"colorbar\": {\"outlinewidth\": 0, \"ticks\": \"\"}, \"type\": \"choropleth\"}], \"contour\": [{\"colorbar\": {\"outlinewidth\": 0, \"ticks\": \"\"}, \"colorscale\": [[0.0, \"#0d0887\"], [0.1111111111111111, \"#46039f\"], [0.2222222222222222, \"#7201a8\"], [0.3333333333333333, \"#9c179e\"], [0.4444444444444444, \"#bd3786\"], [0.5555555555555556, \"#d8576b\"], [0.6666666666666666, \"#ed7953\"], [0.7777777777777778, \"#fb9f3a\"], [0.8888888888888888, \"#fdca26\"], [1.0, \"#f0f921\"]], \"type\": \"contour\"}], \"contourcarpet\": [{\"colorbar\": {\"outlinewidth\": 0, \"ticks\": \"\"}, \"type\": \"contourcarpet\"}], \"heatmap\": [{\"colorbar\": {\"outlinewidth\": 0, \"ticks\": \"\"}, \"colorscale\": [[0.0, \"#0d0887\"], [0.1111111111111111, \"#46039f\"], [0.2222222222222222, \"#7201a8\"], [0.3333333333333333, \"#9c179e\"], [0.4444444444444444, \"#bd3786\"], [0.5555555555555556, \"#d8576b\"], [0.6666666666666666, \"#ed7953\"], [0.7777777777777778, \"#fb9f3a\"], [0.8888888888888888, \"#fdca26\"], [1.0, \"#f0f921\"]], \"type\": \"heatmap\"}], \"heatmapgl\": [{\"colorbar\": {\"outlinewidth\": 0, \"ticks\": \"\"}, \"colorscale\": [[0.0, \"#0d0887\"], [0.1111111111111111, \"#46039f\"], [0.2222222222222222, \"#7201a8\"], [0.3333333333333333, \"#9c179e\"], [0.4444444444444444, \"#bd3786\"], [0.5555555555555556, \"#d8576b\"], [0.6666666666666666, \"#ed7953\"], [0.7777777777777778, \"#fb9f3a\"], [0.8888888888888888, \"#fdca26\"], [1.0, \"#f0f921\"]], \"type\": \"heatmapgl\"}], \"histogram\": [{\"marker\": {\"colorbar\": {\"outlinewidth\": 0, \"ticks\": \"\"}}, \"type\": \"histogram\"}], \"histogram2d\": [{\"colorbar\": {\"outlinewidth\": 0, \"ticks\": \"\"}, \"colorscale\": [[0.0, \"#0d0887\"], [0.1111111111111111, \"#46039f\"], [0.2222222222222222, \"#7201a8\"], [0.3333333333333333, \"#9c179e\"], [0.4444444444444444, \"#bd3786\"], [0.5555555555555556, \"#d8576b\"], [0.6666666666666666, \"#ed7953\"], [0.7777777777777778, \"#fb9f3a\"], [0.8888888888888888, \"#fdca26\"], [1.0, \"#f0f921\"]], \"type\": \"histogram2d\"}], \"histogram2dcontour\": [{\"colorbar\": {\"outlinewidth\": 0, \"ticks\": \"\"}, \"colorscale\": [[0.0, \"#0d0887\"], [0.1111111111111111, \"#46039f\"], [0.2222222222222222, \"#7201a8\"], [0.3333333333333333, \"#9c179e\"], [0.4444444444444444, \"#bd3786\"], [0.5555555555555556, \"#d8576b\"], [0.6666666666666666, \"#ed7953\"], [0.7777777777777778, \"#fb9f3a\"], [0.8888888888888888, \"#fdca26\"], [1.0, \"#f0f921\"]], \"type\": \"histogram2dcontour\"}], \"mesh3d\": [{\"colorbar\": {\"outlinewidth\": 0, \"ticks\": \"\"}, \"type\": \"mesh3d\"}], \"parcoords\": [{\"line\": {\"colorbar\": {\"outlinewidth\": 0, \"ticks\": \"\"}}, \"type\": \"parcoords\"}], \"pie\": [{\"automargin\": true, \"type\": \"pie\"}], \"scatter\": [{\"marker\": {\"colorbar\": {\"outlinewidth\": 0, \"ticks\": \"\"}}, \"type\": \"scatter\"}], \"scatter3d\": [{\"line\": {\"colorbar\": {\"outlinewidth\": 0, \"ticks\": \"\"}}, \"marker\": {\"colorbar\": {\"outlinewidth\": 0, \"ticks\": \"\"}}, \"type\": \"scatter3d\"}], \"scattercarpet\": [{\"marker\": {\"colorbar\": {\"outlinewidth\": 0, \"ticks\": \"\"}}, \"type\": \"scattercarpet\"}], \"scattergeo\": [{\"marker\": {\"colorbar\": {\"outlinewidth\": 0, \"ticks\": \"\"}}, \"type\": \"scattergeo\"}], \"scattergl\": [{\"marker\": {\"colorbar\": {\"outlinewidth\": 0, \"ticks\": \"\"}}, \"type\": \"scattergl\"}], \"scattermapbox\": [{\"marker\": {\"colorbar\": {\"outlinewidth\": 0, \"ticks\": \"\"}}, \"type\": \"scattermapbox\"}], \"scatterpolar\": [{\"marker\": {\"colorbar\": {\"outlinewidth\": 0, \"ticks\": \"\"}}, \"type\": \"scatterpolar\"}], \"scatterpolargl\": [{\"marker\": {\"colorbar\": {\"outlinewidth\": 0, \"ticks\": \"\"}}, \"type\": \"scatterpolargl\"}], \"scatterternary\": [{\"marker\": {\"colorbar\": {\"outlinewidth\": 0, \"ticks\": \"\"}}, \"type\": \"scatterternary\"}], \"surface\": [{\"colorbar\": {\"outlinewidth\": 0, \"ticks\": \"\"}, \"colorscale\": [[0.0, \"#0d0887\"], [0.1111111111111111, \"#46039f\"], [0.2222222222222222, \"#7201a8\"], [0.3333333333333333, \"#9c179e\"], [0.4444444444444444, \"#bd3786\"], [0.5555555555555556, \"#d8576b\"], [0.6666666666666666, \"#ed7953\"], [0.7777777777777778, \"#fb9f3a\"], [0.8888888888888888, \"#fdca26\"], [1.0, \"#f0f921\"]], \"type\": \"surface\"}], \"table\": [{\"cells\": {\"fill\": {\"color\": \"#EBF0F8\"}, \"line\": {\"color\": \"white\"}}, \"header\": {\"fill\": {\"color\": \"#C8D4E3\"}, \"line\": {\"color\": \"white\"}}, \"type\": \"table\"}]}, \"layout\": {\"annotationdefaults\": {\"arrowcolor\": \"#2a3f5f\", \"arrowhead\": 0, \"arrowwidth\": 1}, \"autotypenumbers\": \"strict\", \"coloraxis\": {\"colorbar\": {\"outlinewidth\": 0, \"ticks\": \"\"}}, \"colorscale\": {\"diverging\": [[0, \"#8e0152\"], [0.1, \"#c51b7d\"], [0.2, \"#de77ae\"], [0.3, \"#f1b6da\"], [0.4, \"#fde0ef\"], [0.5, \"#f7f7f7\"], [0.6, \"#e6f5d0\"], [0.7, \"#b8e186\"], [0.8, \"#7fbc41\"], [0.9, \"#4d9221\"], [1, \"#276419\"]], \"sequential\": [[0.0, \"#0d0887\"], [0.1111111111111111, \"#46039f\"], [0.2222222222222222, \"#7201a8\"], [0.3333333333333333, \"#9c179e\"], [0.4444444444444444, \"#bd3786\"], [0.5555555555555556, \"#d8576b\"], [0.6666666666666666, \"#ed7953\"], [0.7777777777777778, \"#fb9f3a\"], [0.8888888888888888, \"#fdca26\"], [1.0, \"#f0f921\"]], \"sequentialminus\": [[0.0, \"#0d0887\"], [0.1111111111111111, \"#46039f\"], [0.2222222222222222, \"#7201a8\"], [0.3333333333333333, \"#9c179e\"], [0.4444444444444444, \"#bd3786\"], [0.5555555555555556, \"#d8576b\"], [0.6666666666666666, \"#ed7953\"], [0.7777777777777778, \"#fb9f3a\"], [0.8888888888888888, \"#fdca26\"], [1.0, \"#f0f921\"]]}, \"colorway\": [\"#636efa\", \"#EF553B\", \"#00cc96\", \"#ab63fa\", \"#FFA15A\", \"#19d3f3\", \"#FF6692\", \"#B6E880\", \"#FF97FF\", \"#FECB52\"], \"font\": {\"color\": \"#2a3f5f\"}, \"geo\": {\"bgcolor\": \"white\", \"lakecolor\": \"white\", \"landcolor\": \"#E5ECF6\", \"showlakes\": true, \"showland\": true, \"subunitcolor\": \"white\"}, \"hoverlabel\": {\"align\": \"left\"}, \"hovermode\": \"closest\", \"mapbox\": {\"style\": \"light\"}, \"paper_bgcolor\": \"white\", \"plot_bgcolor\": \"#E5ECF6\", \"polar\": {\"angularaxis\": {\"gridcolor\": \"white\", \"linecolor\": \"white\", \"ticks\": \"\"}, \"bgcolor\": \"#E5ECF6\", \"radialaxis\": {\"gridcolor\": \"white\", \"linecolor\": \"white\", \"ticks\": \"\"}}, \"scene\": {\"xaxis\": {\"backgroundcolor\": \"#E5ECF6\", \"gridcolor\": \"white\", \"gridwidth\": 2, \"linecolor\": \"white\", \"showbackground\": true, \"ticks\": \"\", \"zerolinecolor\": \"white\"}, \"yaxis\": {\"backgroundcolor\": \"#E5ECF6\", \"gridcolor\": \"white\", \"gridwidth\": 2, \"linecolor\": \"white\", \"showbackground\": true, \"ticks\": \"\", \"zerolinecolor\": \"white\"}, \"zaxis\": {\"backgroundcolor\": \"#E5ECF6\", \"gridcolor\": \"white\", \"gridwidth\": 2, \"linecolor\": \"white\", \"showbackground\": true, \"ticks\": \"\", \"zerolinecolor\": \"white\"}}, \"shapedefaults\": {\"line\": {\"color\": \"#2a3f5f\"}}, \"ternary\": {\"aaxis\": {\"gridcolor\": \"white\", \"linecolor\": \"white\", \"ticks\": \"\"}, \"baxis\": {\"gridcolor\": \"white\", \"linecolor\": \"white\", \"ticks\": \"\"}, \"bgcolor\": \"#E5ECF6\", \"caxis\": {\"gridcolor\": \"white\", \"linecolor\": \"white\", \"ticks\": \"\"}}, \"title\": {\"x\": 0.05}, \"xaxis\": {\"automargin\": true, \"gridcolor\": \"white\", \"linecolor\": \"white\", \"ticks\": \"\", \"title\": {\"standoff\": 15}, \"zerolinecolor\": \"white\", \"zerolinewidth\": 2}, \"yaxis\": {\"automargin\": true, \"gridcolor\": \"white\", \"linecolor\": \"white\", \"ticks\": \"\", \"title\": {\"standoff\": 15}, \"zerolinecolor\": \"white\", \"zerolinewidth\": 2}}}, \"title\": {\"text\": \"Embedding Dimension Feature Membership - ProtVec\"}, \"xaxis\": {\"title\": {\"text\": \"Engineered Features\"}}, \"yaxis\": {\"title\": {\"text\": \"Membership\"}}},                        {\"responsive\": true}                    ).then(function(){\n",
       "                            \n",
       "var gd = document.getElementById('416ccb69-b96f-46da-b350-c5a3e0f56106');\n",
       "var x = new MutationObserver(function (mutations, observer) {{\n",
       "        var display = window.getComputedStyle(gd).display;\n",
       "        if (!display || display === 'none') {{\n",
       "            console.log([gd, 'removed!']);\n",
       "            Plotly.purge(gd);\n",
       "            observer.disconnect();\n",
       "        }}\n",
       "}});\n",
       "\n",
       "// Listen for the removal of the full notebook cells\n",
       "var notebookContainer = gd.closest('#notebook-container');\n",
       "if (notebookContainer) {{\n",
       "    x.observe(notebookContainer, {childList: true});\n",
       "}}\n",
       "\n",
       "// Listen for the clearing of the current output cell\n",
       "var outputEl = gd.closest('.output');\n",
       "if (outputEl) {{\n",
       "    x.observe(outputEl, {childList: true});\n",
       "}}\n",
       "\n",
       "                        })                };                });            </script>        </div>"
      ]
     },
     "metadata": {},
     "output_type": "display_data"
    }
   ],
   "source": [
    "sense_feat_dict = {'A':0,\n",
    " 'R':1,\n",
    " 'N':2,\n",
    " 'D':3,\n",
    " 'C':4,\n",
    " 'E':5,\n",
    " 'Q':6,\n",
    " 'G':7,\n",
    " 'H':8,\n",
    " 'I':9,\n",
    " 'L':10,\n",
    " 'K':11,\n",
    " 'M':12,\n",
    " 'F':13,\n",
    " 'P':14,\n",
    " 'S':15,\n",
    " 'T':16,\n",
    " 'W':17,\n",
    " 'Y':18,\n",
    " 'V':19,\n",
    " 'Total Count' : 20,\n",
    " 'Molecular Weight' : 21}\n",
    "\n",
    "targets_return_dict = find_feature_membership(input_embed = normalized_protvec_embeddings,\n",
    "                                            embed_name = 'ProtVec',\n",
    "                                            sense_features = normalized_engineered_target_embeddings,\n",
    "                                            sense_feat_dict = sense_feat_dict,\n",
    "                                            top_k = 10)"
   ]
  },
  {
   "cell_type": "code",
   "execution_count": 30,
   "metadata": {},
   "outputs": [
    {
     "data": {
      "text/plain": [
       "array([ 4, 16, 32, 37, 44, 60, 63, 64, 74, 80, 82, 87, 89, 94, 97, 99])"
      ]
     },
     "execution_count": 30,
     "metadata": {},
     "output_type": "execute_result"
    }
   ],
   "source": [
    "targets_return_dict['dimensions_idx_to_keep']"
   ]
  },
  {
   "cell_type": "code",
   "execution_count": 32,
   "metadata": {},
   "outputs": [
    {
     "data": {
      "text/plain": [
       "array([  0,   1,   2,   4,   6,   7,   8,  10,  11,  12,  17,  55, 112,\n",
       "       134, 136])"
      ]
     },
     "execution_count": 32,
     "metadata": {},
     "output_type": "execute_result"
    }
   ],
   "source": [
    "drugs_return_dict['dimensions_idx_to_keep']"
   ]
  },
  {
   "cell_type": "code",
   "execution_count": 40,
   "metadata": {},
   "outputs": [],
   "source": [
    "a = np.mean(drugs_return_dict['explain_norm'][drugs_return_dict['dimensions_idx_to_keep']], axis = 0)"
   ]
  },
  {
   "cell_type": "code",
   "execution_count": 42,
   "metadata": {},
   "outputs": [],
   "source": [
    "a = np.mean(targets_return_dict['explain_norm'][targets_return_dict['dimensions_idx_to_keep']], axis = 0)"
   ]
  },
  {
   "cell_type": "code",
   "execution_count": 48,
   "metadata": {},
   "outputs": [
    {
     "data": {
      "text/plain": [
       "[('A', 0.107956275),\n",
       " ('R', 0.10809027),\n",
       " ('N', 0.108049),\n",
       " ('D', 0.10791413),\n",
       " ('C', 0.048959725),\n",
       " ('E', 0.09047065),\n",
       " ('Q', 0.1078856),\n",
       " ('G', 0.108109586),\n",
       " ('H', 0.059064813),\n",
       " ('I', 0.10796041),\n",
       " ('L', 0.07328145),\n",
       " ('K', 0.103074476),\n",
       " ('M', 0.108142205),\n",
       " ('F', 0.10795756),\n",
       " ('P', 0.07752924),\n",
       " ('S', 0.075056754),\n",
       " ('T', 0.10795728),\n",
       " ('W', 0.06462505),\n",
       " ('Y', 0.107953146),\n",
       " ('V', 0.10790553),\n",
       " ('Total Count', 0.002750611),\n",
       " ('Molecular Weight', 0.10789128)]"
      ]
     },
     "execution_count": 48,
     "metadata": {},
     "output_type": "execute_result"
    }
   ],
   "source": [
    "list(zip(list(sense_feat_dict), a))"
   ]
  },
  {
   "cell_type": "code",
   "execution_count": null,
   "metadata": {},
   "outputs": [],
   "source": []
  },
  {
   "cell_type": "code",
   "execution_count": null,
   "metadata": {},
   "outputs": [],
   "source": []
  }
 ],
 "metadata": {
  "kernelspec": {
   "display_name": "Python 3",
   "language": "python",
   "name": "python3"
  },
  "language_info": {
   "codemirror_mode": {
    "name": "ipython",
    "version": 3
   },
   "file_extension": ".py",
   "mimetype": "text/x-python",
   "name": "python",
   "nbconvert_exporter": "python",
   "pygments_lexer": "ipython3",
   "version": "3.6.6"
  },
  "toc": {
   "base_numbering": 1,
   "nav_menu": {},
   "number_sections": true,
   "sideBar": true,
   "skip_h1_title": false,
   "title_cell": "Table of Contents",
   "title_sidebar": "Contents",
   "toc_cell": false,
   "toc_position": {},
   "toc_section_display": true,
   "toc_window_display": false
  }
 },
 "nbformat": 4,
 "nbformat_minor": 4
}
