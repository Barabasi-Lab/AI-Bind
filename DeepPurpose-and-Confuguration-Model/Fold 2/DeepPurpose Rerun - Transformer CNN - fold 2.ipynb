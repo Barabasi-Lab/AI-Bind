{
 "cells": [
  {
   "cell_type": "markdown",
   "metadata": {
    "heading_collapsed": true
   },
   "source": [
    "# Imports"
   ]
  },
  {
   "cell_type": "code",
   "execution_count": 3,
   "metadata": {
    "hidden": true
   },
   "outputs": [],
   "source": [
    "import os\n",
    "os.chdir('/DeepPurpose/')\n",
    "\n",
    "import DeepPurpose.DTI as models\n",
    "from DeepPurpose.utils import *\n",
    "from DeepPurpose.dataset import *\n",
    "import random\n",
    "from sklearn.metrics import confusion_matrix, f1_score, classification_report\n",
    "from sklearn.metrics import roc_curve, roc_auc_score, precision_recall_curve, average_precision_score\n",
    "from sklearn.metrics import confusion_matrix, f1_score, classification_report\n",
    "import matplotlib.pyplot as plt\n",
    "from tqdm import tqdm\n",
    "import pandas as pd\n",
    "from matplotlib.pyplot import figure\n",
    "import numpy as np"
   ]
  },
  {
   "cell_type": "code",
   "execution_count": 5,
   "metadata": {
    "collapsed": true,
    "hidden": true
   },
   "outputs": [
    {
     "name": "stdout",
     "output_type": "stream",
     "text": [
      "Beginning Processing...\n",
      "Beginning to extract zip file...\n",
      "Default set to logspace (nM -> p) for easier regression\n",
      "Done!\n"
     ]
    },
    {
     "data": {
      "text/plain": [
       "(array(['CC1=C2C=C(C=CC2=NN1)C3=CC(=CN=C3)OCC(CC4=CC=CC=C4)N',\n",
       "        'CC1=C2C=C(C=CC2=NN1)C3=CC(=CN=C3)OCC(CC4=CC=CC=C4)N',\n",
       "        'CC1=C2C=C(C=CC2=NN1)C3=CC(=CN=C3)OCC(CC4=CC=CC=C4)N', ...,\n",
       "        'C1=CC=C2C(=C1)C(=NN=C2NC3=CC=C(C=C3)Cl)CC4=CC=NC=C4',\n",
       "        'C1=CC=C2C(=C1)C(=NN=C2NC3=CC=C(C=C3)Cl)CC4=CC=NC=C4',\n",
       "        'C1=CC=C2C(=C1)C(=NN=C2NC3=CC=C(C=C3)Cl)CC4=CC=NC=C4'],\n",
       "       dtype='<U92'),\n",
       " array(['MKKFFDSRREQGGSGLGSGSSGGGGSTSGLGSGYIGRVFGIGRQQVTVDEVLAEGGFAIVFLVRTSNGMKCALKRMFVNNEHDLQVCKREIQIMRDLSGHKNIVGYIDSSINNVSSGDVWEVLILMDFCRGGQVVNLMNQRLQTGFTENEVLQIFCDTCEAVARLHQCKTPIIHRDLKVENILLHDRGHYVLCDFGSATNKFQNPQTEGVNAVEDEIKKYTTLSYRAPEMVNLYSGKIITTKADIWALGCLLYKLCYFTLPFGESQVAICDGNFTIPDNSRYSQDMHCLIRYMLEPDPDKRPDIYQVSYFSFKLLKKECPIPNVQNSPIPAKLPEPVKASEAAAKKTQPKARLTDPIPTTETSIAPRQRPKAGQTQPNPGILPIQPALTPRKRATVQPPPQAAGSSNQPGLLASVPQPKPQAPPSQPLPQTQAKQPQAPPTPQQTPSTQAQGLPAQAQATPQHQQQLFLKQQQQQQQPPPAQQQPAGTFYQQQQAQTQQFQAVHPATQKPAIAQFPVVSQGGSQQQLMQNFYQQQQQQQQQQQQQQLATALHQQQLMTQQAALQQKPTMAAGQQPQPQPAAAPQPAPAQEPAIQAPVRQQPKVQTTPPPAVQGQKVGSLTPPSSPKTQRAGHRRILSDVTHSAVFGVPASKSTQLLQAAAAEASLNKSKSATTTPSGSPRTSQQNVYNPSEGSTWNPFDDDNFSKLTAEELLNKDFAKLGEGKHPEKLGGSAESLIPGFQSTQGDAFATTSFSAGTAEKRKGGQTVDSGLPLLSVSDPFIPLQVPDAPEKLIEGLKSPDTSLLLPDLLPMTDPFGSTSDAVIEKADVAVESLIPGLEPPVPQRLPSQTESVTSNRTDSLTGEDSLLDCSLLSNPTTDLLEEFAPTAISAPVHKAAEDSNLISGFDVPEGSDKVAEDEFDPIPVLITKNPQGGHSRNSSGSSESSLPNLARSLLLVDQLIDL',\n",
       "        'PFWKILNPLLERGTYYYFMGQQPGKVLGDQRRPSLPALHFIKGAGKKESSRHGGPHCNVFVEHEALQRPVASDFEPQGLSEAARWNSKENLLAGPSENDPNLFVALYDFVASGDNTLSITKGEKLRVLGYNHNGEWCEAQTKNGQGWVPSNYITPVNSLEKHSWYHGPVSRNAAEYLLSSGINGSFLVRESESSPGQRSISLRYEGRVYHYRINTASDGKLYVSSESRFNTLAELVHHHSTVADGLITTLHYPAPKRNKPTVYGVSPNYDKWEMERTDITMKHKLGGGQYGEVYEGVWKKYSLTVAVKTLKEDTMEVEEFLKEAAVMKEIKHPNLVQLLGVCTREPPFYIITEFMTYGNLLDYLRECNRQEVNAVVLLYMATQISSAMEYLEKKNFIHRDLAARNCLVGENHLVKVADFGLSRLMTGDTYTAHAGAKFPIKWTAPESLAYNKFSIKSDVWAFGVLLWEIATYGMSPYPGIDLSQVYELLEKDYRMERPEGCPEKVYELMRACWQWNPSDRPSFAEIHQAFETMFQESSISDEVEKELGKQGVRGAVSTLLQAPELPTKTRTSRRAAEHRDTTDVPEMPHSKGQGESDPLDHEPAVSPLLPRKERGPPEGGLNEDERLLPKDKKTNLFSALIKKKKKTAPTPPKRSSSFREMDGQPERRGAGEEEGRDISNGALAFTPLDTADPAKSPKPSNGAGVPNGALRESGGSGFRSPHLWKKSSTLTSSRLATGEEEGGGSSSKRFLRSCSASCVPHGAKDTEWRSVTLPRDLQSTGRQFDSSTFGGHKSEKPALPRKRAGENRSDQVTRGTVTPPPRLVKKNEEAADEVFKDIMESSPGSSPPNLTPKPLRRQVTVAPASGLPHKEEAGKGSALGTPAAAEPVTPTSKAGSGAPGGTSKGPAEESRVRRHKHSSESPGRDKGKLSRLKPAPPPPPAASAGKAGGKPSQSPSQEAAGEAVLGAKTKATSLVDAVNSDAAKPSQPGEGLKKPVLPATPKPQSAKPSGTPISPAPVPSTLPSASSALAGDQPSSTAFIPLISTRVSLRKTRQPPERIASGAITKGVVLDSTEALCLAISRNSEQMASHSAVLEAGKNLYTFCVSYVDSIQQMRNKFAFREAINKLENNLRELQICPATAGSGPAATQDFSKLLSSVKEISDIVQR',\n",
       "        'PFWKILNPLLERGTYYYFMGQQPGKVLGDQRRPSLPALHFIKGAGKKESSRHGGPHCNVFVEHEALQRPVASDFEPQGLSEAARWNSKENLLAGPSENDPNLFVALYDFVASGDNTLSITKGEKLRVLGYNHNGEWCEAQTKNGQGWVPSNYITPVNSLEKHSWYHGPVSRNAAEYLLSSGINGSFLVRESESSPGQRSISLRYEGRVYHYRINTASDGKLYVSSESRFNTLAELVHHHSTVADGLITTLHYPAPKRNKPTVYGVSPNYDKWEMERTDITMKHKLGGGQYGEVYEGVWKKYSLTVAVKTLKEDTMEVEEFLKEAAVMKEIKHPNLVQLLGVCTREPPFYIITEFMTYGNLLDYLRECNRQEVNAVVLLYMATQISSAMEYLEKKNFIHRDLAARNCLVGENHLVKVADFGLSRLMTGDTYTAHAGAKFPIKWTAPESLAYNKFSIKSDVWAFGVLLWEIATYGMSPYPGIDLSQVYELLEKDYRMERPEGCPEKVYELMRACWQWNPSDRPSFAEIHQAFETMFQESSISDEVEKELGKQGVRGAVSTLLQAPELPTKTRTSRRAAEHRDTTDVPEMPHSKGQGESDPLDHEPAVSPLLPRKERGPPEGGLNEDERLLPKDKKTNLFSALIKKKKKTAPTPPKRSSSFREMDGQPERRGAGEEEGRDISNGALAFTPLDTADPAKSPKPSNGAGVPNGALRESGGSGFRSPHLWKKSSTLTSSRLATGEEEGGGSSSKRFLRSCSASCVPHGAKDTEWRSVTLPRDLQSTGRQFDSSTFGGHKSEKPALPRKRAGENRSDQVTRGTVTPPPRLVKKNEEAADEVFKDIMESSPGSSPPNLTPKPLRRQVTVAPASGLPHKEEAGKGSALGTPAAAEPVTPTSKAGSGAPGGTSKGPAEESRVRRHKHSSESPGRDKGKLSRLKPAPPPPPAASAGKAGGKPSQSPSQEAAGEAVLGAKTKATSLVDAVNSDAAKPSQPGEGLKKPVLPATPKPQSAKPSGTPISPAPVPSTLPSASSALAGDQPSSTAFIPLISTRVSLRKTRQPPERIASGAITKGVVLDSTEALCLAISRNSEQMASHSAVLEAGKNLYTFCVSYVDSIQQMRNKFAFREAINKLENNLRELQICPATAGSGPAATQDFSKLLSSVKEISDIVQR',\n",
       "        ...,\n",
       "        'MSSMPKPERHAESLLDICHDTNSSPTDLMTVTKNQNIILQSISRSEEFDQDGDCSHSTLVNEEEDPSGGRQDWQPRTEGVEITVTFPRDVSPPQEMSQEDLKEKNLINSSLQEWAQAHAVSHPNEIETVELRKKKLTMRPLVLQKEESSRELCNVNLGFLLPRSCLELNISKSVTREDAPHFLKEQQRKSEEFSTSHMKYSGRSIKFLLPPLSLLPTRSGVLTIPQNHKFPKEKERNIPSLTSFVPKLSVSVRQSDELSPSNEPPGALVKSLMDPTLRSSDGFIWSRNMCSFPKTNHHRQCLEKEENWKSKEIEECNKIEITHFEKGQSLVSFENLKEGNIPAVREEDIDCHGSKTRKPEEENSQYLSSRKNESSVAKNYEQDPEIVCTIPSKFQETQHSEITPSQDEEMRNNKAASKRVSLHKNEAMEPNNILEECTVLKSLSSVVFDDPIDKLPEGCSSMETNIKISIAERAKPEMSRMVPLIHITFPVDGSPKEPVIAKPSLQTRKGTIHNNHSVNIPVHQENDKHKMNSHRSKLDSKTKTSKKTPQNFVISTEGPIKPTMHKTSIKTQIFPALGLVDPRPWQLPRFQKKMPQIAKKQSTHRTQKPKKQSFPCICKNPGTQKSCVPLSVQPTEPRLNYLDLKYSDMFKEINSTANGPGIYEMFGTPVYCHVRETERDENTYYREICSAPSGRRITNKCRSSHSERKSNIRTRLSQKKTHMKCPKTSFGIKQEHKVLISKEKSSKAVHSNLHDIENGDGISEPDWQIKSSGNEFLSSKDEIHPMNLAQTPEQSMKQNEFPPVSDLSIVEEVSMEESTGDRDISNNQILTTSLRDLQELEELHHQIPFIPSEDSWAVPSEKNSNKYVQQEKQNTASLSKVNASRILTNDLEFDSVSDHSKTLTNFSFQAKQESASSQTYQYWVHYLDHDSLANKSITYQMFGKTLSGTNSISQEIMDSVNNEELTDELLGCLAAELLALDEKDNNSCQKMANETDPENLNLVLRWRGSTPKEMGRETTKVKIQRHSSGLRIYDREEKFLISNEKKIFSENSLKSEEPILWTKGEILGKGAYGTVYCGLTSQGQLIAVKQVALDTSNKLAAEKEYRKLQEEVDLLKALKHVNIVAYLGTCLQENTVSIFMEFVPGGSISSIINRFGPLPEMVFCKYTKQILQGVAYLHENCVVHRDIKGNNVMLMPTGIIKLIDFGCARRLAWAGLNGTHSDMLKSMHGTPYWMAPEVINESGYGRKSDIWSIGCTVFEMATGKPPLASMDRMAAMFYIGAHRGLMPPLPDHFSENAADFVRMCLTRDQHERPSALQLLKHSFLERSH',\n",
       "        'MSSLGASFVQIKFDDLQFFENCGGGSFGSVYRAKWISQDKEVAVKKLLKIEKEAEILSVLSHRNIIQFYGVILEPPNYGIVTEYASLGSLYDYINSNRSEEMDMDHIMTWATDVAKGMHYLHMEAPVKVIHRDLKSRNVVIAADGVLKICDFGASRFHNHTTHMSLVGTFPWMAPEVIQSLPVSETCDTYSYGVVLWEMLTREVPFKGLEGLQVAWLVVEKNERLTIPSSCPRSFAELLHQCWEADAKKRPSFKQIISILESMSNDTSLPDKCNSFLHNKAEWRCEIEATLERLKKLERDLSFKEQELKERERRLKMWEQKLTEQSNTPLLPSFEIGAWTEDDVYCWVQQLVRKGDSSAEMSVYASLFKENNITGKRLLLLEEEDLKDMGIVSKGHIIHFKSAIEKLTHDYINLFHFPPLIKDSGGEPEENEEKIVNLELVFGFHLKPGTGPQDCKWKMYMEMDGDEIAITYIKDVTFNTNLPDAEILKMTKPPFVMEKWIVGIAKSQTVECTVTYESDVRTPKSTKHVHSIQWSRTKPQDEVKAVQLAIQTLFTNSDGNPGSRSDSSADCQWLDTLRMRQIASNTSLQRSQSNPILGSPFFSHFDGQDSYAAAVRRPQVPIKYQQITPVNQSRSSSPTQYGLTKNFSSLHLNSRDSGFSSGNTDTSSERGRYSDRSRNKYGRGSISLNSSPRGRYSGKSQHSTPSRGRYPGKFYRVSQSALNPHQSPDFKRSPRDLHQPNTIPGMPLHPETDSRASEEDSKVSEGGWTKVEYRKKPHRPSPAKTNKERARGDHRGWRNF',\n",
       "        'MPDPAAHLPFFYGSISRAEAEEHLKLAGMADGLFLLRQCLRSLGGYVLSLVHDVRFHHFPIERQLNGTYAIAGGKAHCGPAELCEFYSRDPDGLPCNLRKPCNRPSGLEPQPGVFDCLRDAMVRDYVRQTWKLEGEALEQAIISQAPQVEKLIATTAHERMPWYHSSLTREEAERKLYSGAQTDGKFLLRPRKEQGTYALSLIYGKTVYHYLISQDKAGKYCIPEGTKFDTLWQLVEYLKLKADGLIYCLKEACPNSSASNASGAAAPTLPAHPSTLTHPQRRIDTLNSDGYTPEPARITSPDKPRPMPMDTSVYESPYSDPEELKDKKLFLKRDNLLIADIELGCGNFGSVRQGVYRMRKKQIDVAIKVLKQGTEKADTEEMMREAQIMHQLDNPYIVRLIGVCQAEALMLVMEMAGGGPLHKFLVGKREEIPVSNVAELLHQVSMGMKYLEEKNFVHRDLAARNVLLVNRHYAKISDFGLSKALGADDSYYTARSAGKWPLKWYAPECINFRKFSSRSDVWSYGVTMWEALSYGQKPYKKMKGPEVMAFIEQGKRMECPPECPPELYALMSDCWIYKWEDRPDFLTVEQRMRACYYSLASKVEGPPGSTQKAEAACA'],\n",
       "       dtype='<U2549'),\n",
       " array([7.36653154, 5.        , 5.        , ..., 5.7212464 , 5.35654732,\n",
       "        5.        ]))"
      ]
     },
     "execution_count": 5,
     "metadata": {},
     "output_type": "execute_result"
    }
   ],
   "source": [
    "# load_process_DAVIS()"
   ]
  },
  {
   "cell_type": "code",
   "execution_count": 75,
   "metadata": {
    "collapsed": true,
    "hidden": true
   },
   "outputs": [
    {
     "name": "stdout",
     "output_type": "stream",
     "text": [
      "Beginning to download dataset...\n",
      "Beginning to extract zip file...\n",
      "Done!\n"
     ]
    },
    {
     "data": {
      "text/plain": [
       "'./data/BindingDB_All.tsv'"
      ]
     },
     "execution_count": 75,
     "metadata": {},
     "output_type": "execute_result"
    }
   ],
   "source": [
    "# download_BindingDB()"
   ]
  },
  {
   "cell_type": "code",
   "execution_count": 44,
   "metadata": {
    "hidden": true,
    "scrolled": true
   },
   "outputs": [
    {
     "name": "stdout",
     "output_type": "stream",
     "text": [
      "Loading Dataset from path...\n"
     ]
    },
    {
     "name": "stderr",
     "output_type": "stream",
     "text": [
      "b'Skipping line 896772: expected 193 fields, saw 205\\nSkipping line 896798: expected 193 fields, saw 205\\n'\n",
      "b'Skipping line 929491: expected 193 fields, saw 205\\n'\n",
      "b'Skipping line 952161: expected 193 fields, saw 265\\n'\n",
      "b'Skipping line 1355895: expected 193 fields, saw 241\\n'\n",
      "b'Skipping line 1469800: expected 193 fields, saw 241\\nSkipping line 1469801: expected 193 fields, saw 241\\nSkipping line 1469802: expected 193 fields, saw 241\\nSkipping line 1469803: expected 193 fields, saw 241\\nSkipping line 1469804: expected 193 fields, saw 241\\nSkipping line 1469805: expected 193 fields, saw 241\\nSkipping line 1469806: expected 193 fields, saw 241\\nSkipping line 1469807: expected 193 fields, saw 241\\nSkipping line 1469808: expected 193 fields, saw 241\\n'\n",
      "b'Skipping line 1483073: expected 193 fields, saw 205\\n'\n",
      "b'Skipping line 1502296: expected 193 fields, saw 241\\nSkipping line 1502297: expected 193 fields, saw 241\\nSkipping line 1502298: expected 193 fields, saw 241\\nSkipping line 1502299: expected 193 fields, saw 241\\nSkipping line 1502300: expected 193 fields, saw 241\\nSkipping line 1502301: expected 193 fields, saw 241\\nSkipping line 1502302: expected 193 fields, saw 241\\nSkipping line 1502303: expected 193 fields, saw 241\\nSkipping line 1502304: expected 193 fields, saw 241\\n'\n",
      "b'Skipping line 1541474: expected 193 fields, saw 205\\n'\n",
      "b'Skipping line 1927945: expected 193 fields, saw 265\\n'\n",
      "b'Skipping line 2015166: expected 193 fields, saw 265\\nSkipping line 2015167: expected 193 fields, saw 265\\nSkipping line 2015168: expected 193 fields, saw 265\\nSkipping line 2015169: expected 193 fields, saw 265\\nSkipping line 2015170: expected 193 fields, saw 265\\nSkipping line 2015171: expected 193 fields, saw 265\\nSkipping line 2015172: expected 193 fields, saw 265\\nSkipping line 2015173: expected 193 fields, saw 265\\nSkipping line 2015174: expected 193 fields, saw 265\\nSkipping line 2015175: expected 193 fields, saw 265\\nSkipping line 2015176: expected 193 fields, saw 265\\nSkipping line 2015177: expected 193 fields, saw 265\\nSkipping line 2015178: expected 193 fields, saw 265\\nSkipping line 2015179: expected 193 fields, saw 265\\nSkipping line 2015180: expected 193 fields, saw 265\\nSkipping line 2015181: expected 193 fields, saw 265\\nSkipping line 2015182: expected 193 fields, saw 265\\nSkipping line 2015183: expected 193 fields, saw 265\\nSkipping line 2015184: expected 193 fields, saw 265\\n'\n",
      "b'Skipping line 2015802: expected 193 fields, saw 265\\nSkipping line 2015803: expected 193 fields, saw 265\\nSkipping line 2015804: expected 193 fields, saw 265\\nSkipping line 2015805: expected 193 fields, saw 265\\nSkipping line 2015806: expected 193 fields, saw 265\\nSkipping line 2015807: expected 193 fields, saw 265\\nSkipping line 2015808: expected 193 fields, saw 265\\n'\n",
      "b'Skipping line 2027219: expected 193 fields, saw 265\\nSkipping line 2027220: expected 193 fields, saw 265\\nSkipping line 2027221: expected 193 fields, saw 265\\nSkipping line 2027222: expected 193 fields, saw 265\\nSkipping line 2027223: expected 193 fields, saw 265\\nSkipping line 2027224: expected 193 fields, saw 265\\nSkipping line 2027225: expected 193 fields, saw 265\\nSkipping line 2027226: expected 193 fields, saw 265\\nSkipping line 2027227: expected 193 fields, saw 265\\nSkipping line 2027228: expected 193 fields, saw 265\\nSkipping line 2027229: expected 193 fields, saw 265\\nSkipping line 2027230: expected 193 fields, saw 265\\nSkipping line 2027231: expected 193 fields, saw 265\\nSkipping line 2027232: expected 193 fields, saw 265\\nSkipping line 2027233: expected 193 fields, saw 265\\nSkipping line 2027234: expected 193 fields, saw 265\\nSkipping line 2027235: expected 193 fields, saw 265\\nSkipping line 2027236: expected 193 fields, saw 265\\nSkipping line 2027237: expected 193 fields, saw 265\\nSkipping line 2027238: expected 193 fields, saw 265\\nSkipping line 2027239: expected 193 fields, saw 265\\nSkipping line 2027240: expected 193 fields, saw 265\\nSkipping line 2027241: expected 193 fields, saw 265\\nSkipping line 2027242: expected 193 fields, saw 265\\nSkipping line 2027243: expected 193 fields, saw 265\\nSkipping line 2027244: expected 193 fields, saw 265\\nSkipping line 2027245: expected 193 fields, saw 265\\nSkipping line 2027246: expected 193 fields, saw 265\\nSkipping line 2027247: expected 193 fields, saw 265\\nSkipping line 2027248: expected 193 fields, saw 265\\nSkipping line 2027249: expected 193 fields, saw 265\\nSkipping line 2027250: expected 193 fields, saw 265\\nSkipping line 2027251: expected 193 fields, saw 265\\nSkipping line 2027252: expected 193 fields, saw 265\\nSkipping line 2027253: expected 193 fields, saw 265\\nSkipping line 2027254: expected 193 fields, saw 265\\nSkipping line 2027255: expected 193 fields, saw 265\\nSkipping line 2027256: expected 193 fields, saw 265\\nSkipping line 2027257: expected 193 fields, saw 265\\n'\n",
      "b'Skipping line 2029854: expected 193 fields, saw 265\\nSkipping line 2029855: expected 193 fields, saw 265\\nSkipping line 2029856: expected 193 fields, saw 265\\nSkipping line 2029857: expected 193 fields, saw 265\\nSkipping line 2029858: expected 193 fields, saw 265\\nSkipping line 2029859: expected 193 fields, saw 265\\nSkipping line 2029860: expected 193 fields, saw 265\\nSkipping line 2029861: expected 193 fields, saw 265\\n'\n",
      "b'Skipping line 2042409: expected 193 fields, saw 313\\n'\n",
      "b'Skipping line 2059953: expected 193 fields, saw 637\\n'\n",
      "/miniconda/envs/DeepPurpose/lib/python3.7/site-packages/IPython/core/interactiveshell.py:3254: DtypeWarning: Columns (8,9,10,11,12,13,15,17,18,19,20,26,27,31,32,34,35,46,49,50,51,52,53,54,61,62,63,64,65,66,73,74,75,76,77,78,85,86,87,88,89,90,97,98,99,100,101,102,109,110,111,112,113,114,121,122,123,124,125,126,133,134,135,136,137,138,145,147,148,149,150,157,158,159,160,161,162,169,171,172,173,174) have mixed types.Specify dtype option on import or set low_memory=False.\n",
      "  if (await self.run_code(code, result,  async_=asy)):\n"
     ]
    },
    {
     "name": "stdout",
     "output_type": "stream",
     "text": [
      "Beginning Processing...\n",
      "There are 70750 drug target pairs.\n",
      "Default binary threshold for the binding affinity scores are 30, you can adjust it by using the \"threshold\" parameter\n"
     ]
    }
   ],
   "source": [
    "X_drug, X_target, y  = process_BindingDB('/home/sars-busters-consolidated/data/BindingDB_All.tsv',\n",
    "                                         y = 'Kd', \n",
    "                                         binary = True, ## Keep it binary true for classification task\n",
    "                                         convert_to_log = True)"
   ]
  },
  {
   "cell_type": "markdown",
   "metadata": {
    "heading_collapsed": true
   },
   "source": [
    "# Original DeepPurpose"
   ]
  },
  {
   "cell_type": "code",
   "execution_count": 38,
   "metadata": {
    "hidden": true
   },
   "outputs": [
    {
     "name": "stdout",
     "output_type": "stream",
     "text": [
      "Drug Target Interaction Prediction Mode...\n",
      "in total: 70750 drug-target pairs\n",
      "encoding drug...\n",
      "unique drugs: 13392\n",
      "encoding protein...\n",
      "unique target sequence: 1507\n",
      "splitting dataset...\n",
      "Done.\n"
     ]
    }
   ],
   "source": [
    "drug_encoding = 'Transformer'\n",
    "target_encoding = 'CNN'\n",
    "\n",
    "all_data, nil1, nil2 = data_process(X_drug, \n",
    "                                X_target, \n",
    "                                y, \n",
    "                                drug_encoding, target_encoding, \n",
    "                                split_method='random',frac=[1.0,0.0,0.0])\n",
    "\n",
    "config = generate_config(drug_encoding = drug_encoding, \n",
    "                         target_encoding = target_encoding, \n",
    "                         cls_hidden_dims = [1024,1024,512], \n",
    "                         train_epoch = 100, \n",
    "                         LR = 0.001, \n",
    "                         batch_size = 128,\n",
    "                         cnn_target_filters = [32,64,96],\n",
    "                         cnn_target_kernels = [4,8,12]\n",
    "                        )"
   ]
  },
  {
   "cell_type": "code",
   "execution_count": 44,
   "metadata": {
    "scrolled": true
   },
   "outputs": [],
   "source": [
    "shuffled = all_data.sample(frac=1)\n",
    "result = np.array_split(shuffled, 10)  \n",
    "\n",
    "train = pd.concat(result[0:7]).reset_index()\n",
    "val = pd.concat([result[7]]).reset_index()\n",
    "test = pd.concat(result[8:10]).reset_index()"
   ]
  },
  {
   "cell_type": "code",
   "execution_count": 41,
   "metadata": {
    "hidden": true
   },
   "outputs": [],
   "source": [
    "import torch, gc\n",
    "\n",
    "gc.collect()\n",
    "torch.cuda.empty_cache()"
   ]
  },
  {
   "cell_type": "code",
   "execution_count": 18,
   "metadata": {
    "hidden": true
   },
   "outputs": [
    {
     "data": {
      "text/plain": [
       "(49525, 6)"
      ]
     },
     "execution_count": 18,
     "metadata": {},
     "output_type": "execute_result"
    }
   ],
   "source": [
    "train.shape"
   ]
  },
  {
   "cell_type": "code",
   "execution_count": 19,
   "metadata": {
    "hidden": true
   },
   "outputs": [
    {
     "data": {
      "text/plain": [
       "(14150, 6)"
      ]
     },
     "execution_count": 19,
     "metadata": {},
     "output_type": "execute_result"
    }
   ],
   "source": [
    "test.shape"
   ]
  },
  {
   "cell_type": "code",
   "execution_count": 45,
   "metadata": {
    "hidden": true,
    "scrolled": true
   },
   "outputs": [
    {
     "name": "stdout",
     "output_type": "stream",
     "text": [
      "Let's use 4 GPUs!\n",
      "--- Data Preparation ---\n",
      "--- Go for Training ---\n",
      "Training at Epoch 1 iteration 0 with loss 0.69594. Total time 0.0025 hours\n",
      "Training at Epoch 1 iteration 100 with loss 0.32449. Total time 0.01333 hours\n",
      "Training at Epoch 1 iteration 200 with loss 0.37401. Total time 0.02416 hours\n",
      "Training at Epoch 1 iteration 300 with loss 0.32512. Total time 0.035 hours\n",
      "Validation at Epoch 1, AUROC: 0.83095 , AUPRC: 0.57272 , F1: 0.26327 , Cross-entropy Loss: 4.80858\n",
      "Training at Epoch 2 iteration 0 with loss 0.34597. Total time 0.04861 hours\n",
      "Training at Epoch 2 iteration 100 with loss 0.29396. Total time 0.05944 hours\n",
      "Training at Epoch 2 iteration 200 with loss 0.29489. Total time 0.07 hours\n",
      "Training at Epoch 2 iteration 300 with loss 0.32059. Total time 0.08083 hours\n",
      "Validation at Epoch 2, AUROC: 0.83932 , AUPRC: 0.58861 , F1: 0.47645 , Cross-entropy Loss: 4.55963\n",
      "Training at Epoch 3 iteration 0 with loss 0.35005. Total time 0.09444 hours\n",
      "Training at Epoch 3 iteration 100 with loss 0.28750. Total time 0.10527 hours\n",
      "Training at Epoch 3 iteration 200 with loss 0.26860. Total time 0.11611 hours\n",
      "Training at Epoch 3 iteration 300 with loss 0.28784. Total time 0.12666 hours\n",
      "Validation at Epoch 3, AUROC: 0.84338 , AUPRC: 0.60144 , F1: 0.50053 , Cross-entropy Loss: 4.59869\n",
      "Training at Epoch 4 iteration 0 with loss 0.41055. Total time 0.14055 hours\n",
      "Training at Epoch 4 iteration 100 with loss 0.28506. Total time 0.15138 hours\n",
      "Training at Epoch 4 iteration 200 with loss 0.39094. Total time 0.16194 hours\n",
      "Training at Epoch 4 iteration 300 with loss 0.26120. Total time 0.1725 hours\n",
      "Validation at Epoch 4, AUROC: 0.84410 , AUPRC: 0.60516 , F1: 0.53313 , Cross-entropy Loss: 4.71098\n",
      "Training at Epoch 5 iteration 0 with loss 0.26899. Total time 0.18638 hours\n",
      "Training at Epoch 5 iteration 100 with loss 0.22101. Total time 0.19694 hours\n",
      "Training at Epoch 5 iteration 200 with loss 0.29080. Total time 0.2075 hours\n",
      "Training at Epoch 5 iteration 300 with loss 0.40204. Total time 0.21833 hours\n",
      "Validation at Epoch 5, AUROC: 0.84774 , AUPRC: 0.61111 , F1: 0.42352 , Cross-entropy Loss: 4.54497\n",
      "Training at Epoch 6 iteration 0 with loss 0.29686. Total time 0.23194 hours\n",
      "Training at Epoch 6 iteration 100 with loss 0.30156. Total time 0.24277 hours\n",
      "Training at Epoch 6 iteration 200 with loss 0.33957. Total time 0.25333 hours\n",
      "Training at Epoch 6 iteration 300 with loss 0.32044. Total time 0.26388 hours\n",
      "Validation at Epoch 6, AUROC: 0.84851 , AUPRC: 0.61174 , F1: 0.47386 , Cross-entropy Loss: 4.42293\n",
      "Training at Epoch 7 iteration 0 with loss 0.26148. Total time 0.27777 hours\n",
      "Training at Epoch 7 iteration 100 with loss 0.38734. Total time 0.28861 hours\n",
      "Training at Epoch 7 iteration 200 with loss 0.25732. Total time 0.29916 hours\n",
      "Training at Epoch 7 iteration 300 with loss 0.33703. Total time 0.30972 hours\n",
      "Validation at Epoch 7, AUROC: 0.85152 , AUPRC: 0.61605 , F1: 0.39316 , Cross-entropy Loss: 4.50591\n",
      "Training at Epoch 8 iteration 0 with loss 0.27668. Total time 0.32333 hours\n",
      "Training at Epoch 8 iteration 100 with loss 0.32353. Total time 0.33416 hours\n",
      "Training at Epoch 8 iteration 200 with loss 0.39161. Total time 0.34472 hours\n",
      "Training at Epoch 8 iteration 300 with loss 0.40924. Total time 0.35555 hours\n",
      "Validation at Epoch 8, AUROC: 0.85303 , AUPRC: 0.61512 , F1: 0.53782 , Cross-entropy Loss: 4.62311\n",
      "Training at Epoch 9 iteration 0 with loss 0.31004. Total time 0.36916 hours\n",
      "Training at Epoch 9 iteration 100 with loss 0.30848. Total time 0.38 hours\n",
      "Training at Epoch 9 iteration 200 with loss 0.27669. Total time 0.39083 hours\n",
      "Training at Epoch 9 iteration 300 with loss 0.32832. Total time 0.40138 hours\n",
      "Validation at Epoch 9, AUROC: 0.85102 , AUPRC: 0.61505 , F1: 0.45243 , Cross-entropy Loss: 4.38387\n",
      "Training at Epoch 10 iteration 0 with loss 0.35756. Total time 0.415 hours\n",
      "Training at Epoch 10 iteration 100 with loss 0.26285. Total time 0.42583 hours\n",
      "Training at Epoch 10 iteration 200 with loss 0.33970. Total time 0.43638 hours\n",
      "Training at Epoch 10 iteration 300 with loss 0.25234. Total time 0.44694 hours\n",
      "Validation at Epoch 10, AUROC: 0.85385 , AUPRC: 0.61661 , F1: 0.43553 , Cross-entropy Loss: 4.46686\n",
      "Training at Epoch 11 iteration 0 with loss 0.42104. Total time 0.46055 hours\n",
      "Training at Epoch 11 iteration 100 with loss 0.29487. Total time 0.47138 hours\n",
      "Training at Epoch 11 iteration 200 with loss 0.35373. Total time 0.48194 hours\n",
      "Training at Epoch 11 iteration 300 with loss 0.39351. Total time 0.4925 hours\n",
      "Validation at Epoch 11, AUROC: 0.85466 , AUPRC: 0.62328 , F1: 0.53977 , Cross-entropy Loss: 4.46200\n",
      "Training at Epoch 12 iteration 0 with loss 0.37419. Total time 0.50611 hours\n",
      "Training at Epoch 12 iteration 100 with loss 0.24060. Total time 0.51694 hours\n",
      "Training at Epoch 12 iteration 200 with loss 0.29885. Total time 0.5275 hours\n",
      "Training at Epoch 12 iteration 300 with loss 0.21774. Total time 0.53833 hours\n",
      "Validation at Epoch 12, AUROC: 0.85205 , AUPRC: 0.62311 , F1: 0.44652 , Cross-entropy Loss: 4.32040\n",
      "Training at Epoch 13 iteration 0 with loss 0.29277. Total time 0.55194 hours\n",
      "Training at Epoch 13 iteration 100 with loss 0.30634. Total time 0.5625 hours\n",
      "Training at Epoch 13 iteration 200 with loss 0.31974. Total time 0.57305 hours\n",
      "Training at Epoch 13 iteration 300 with loss 0.33727. Total time 0.58361 hours\n",
      "Validation at Epoch 13, AUROC: 0.85294 , AUPRC: 0.62011 , F1: 0.48009 , Cross-entropy Loss: 4.39852\n",
      "Training at Epoch 14 iteration 0 with loss 0.31431. Total time 0.5975 hours\n",
      "Training at Epoch 14 iteration 100 with loss 0.30958. Total time 0.60805 hours\n",
      "Training at Epoch 14 iteration 200 with loss 0.35961. Total time 0.61861 hours\n",
      "Training at Epoch 14 iteration 300 with loss 0.29447. Total time 0.62944 hours\n",
      "Validation at Epoch 14, AUROC: 0.85549 , AUPRC: 0.63282 , F1: 0.49088 , Cross-entropy Loss: 4.36435\n",
      "Training at Epoch 15 iteration 0 with loss 0.31097. Total time 0.64305 hours\n",
      "Training at Epoch 15 iteration 100 with loss 0.35220. Total time 0.65361 hours\n",
      "Training at Epoch 15 iteration 200 with loss 0.31988. Total time 0.66416 hours\n",
      "Training at Epoch 15 iteration 300 with loss 0.30068. Total time 0.675 hours\n",
      "Validation at Epoch 15, AUROC: 0.85527 , AUPRC: 0.63267 , F1: 0.47686 , Cross-entropy Loss: 4.30576\n",
      "Training at Epoch 16 iteration 0 with loss 0.24794. Total time 0.68861 hours\n",
      "Training at Epoch 16 iteration 100 with loss 0.27574. Total time 0.69916 hours\n",
      "Training at Epoch 16 iteration 200 with loss 0.22246. Total time 0.70972 hours\n",
      "Training at Epoch 16 iteration 300 with loss 0.32718. Total time 0.72055 hours\n",
      "Validation at Epoch 16, AUROC: 0.85351 , AUPRC: 0.62843 , F1: 0.46009 , Cross-entropy Loss: 4.49128\n",
      "Training at Epoch 17 iteration 0 with loss 0.30966. Total time 0.73416 hours\n",
      "Training at Epoch 17 iteration 100 with loss 0.30241. Total time 0.74472 hours\n",
      "Training at Epoch 17 iteration 200 with loss 0.23922. Total time 0.75527 hours\n",
      "Training at Epoch 17 iteration 300 with loss 0.19710. Total time 0.76583 hours\n",
      "Validation at Epoch 17, AUROC: 0.85427 , AUPRC: 0.63470 , F1: 0.54601 , Cross-entropy Loss: 4.31066\n",
      "Training at Epoch 18 iteration 0 with loss 0.27086. Total time 0.77944 hours\n",
      "Training at Epoch 18 iteration 100 with loss 0.27210. Total time 0.79 hours\n",
      "Training at Epoch 18 iteration 200 with loss 0.29619. Total time 0.80083 hours\n",
      "Training at Epoch 18 iteration 300 with loss 0.27438. Total time 0.81138 hours\n",
      "Validation at Epoch 18, AUROC: 0.85283 , AUPRC: 0.63651 , F1: 0.54526 , Cross-entropy Loss: 4.21790\n",
      "Training at Epoch 19 iteration 0 with loss 0.29083. Total time 0.825 hours\n",
      "Training at Epoch 19 iteration 100 with loss 0.34260. Total time 0.83583 hours\n",
      "Training at Epoch 19 iteration 200 with loss 0.35961. Total time 0.84638 hours\n",
      "Training at Epoch 19 iteration 300 with loss 0.27196. Total time 0.85694 hours\n",
      "Validation at Epoch 19, AUROC: 0.85029 , AUPRC: 0.62758 , F1: 0.54040 , Cross-entropy Loss: 4.44247\n",
      "Training at Epoch 20 iteration 0 with loss 0.31104. Total time 0.87055 hours\n",
      "Training at Epoch 20 iteration 100 with loss 0.29634. Total time 0.88138 hours\n",
      "Training at Epoch 20 iteration 200 with loss 0.32157. Total time 0.89194 hours\n",
      "Training at Epoch 20 iteration 300 with loss 0.29492. Total time 0.9025 hours\n",
      "Validation at Epoch 20, AUROC: 0.85478 , AUPRC: 0.63546 , F1: 0.50171 , Cross-entropy Loss: 4.26671\n",
      "Training at Epoch 21 iteration 0 with loss 0.34318. Total time 0.91611 hours\n",
      "Training at Epoch 21 iteration 100 with loss 0.22545. Total time 0.92666 hours\n",
      "Training at Epoch 21 iteration 200 with loss 0.26883. Total time 0.9375 hours\n",
      "Training at Epoch 21 iteration 300 with loss 0.27159. Total time 0.94805 hours\n",
      "Validation at Epoch 21, AUROC: 0.85742 , AUPRC: 0.63388 , F1: 0.45040 , Cross-entropy Loss: 4.30088\n",
      "Training at Epoch 22 iteration 0 with loss 0.27911. Total time 0.96166 hours\n",
      "Training at Epoch 22 iteration 100 with loss 0.32565. Total time 0.9725 hours\n",
      "Training at Epoch 22 iteration 200 with loss 0.20756. Total time 0.98305 hours\n",
      "Training at Epoch 22 iteration 300 with loss 0.35978. Total time 0.99388 hours\n",
      "Validation at Epoch 22, AUROC: 0.85802 , AUPRC: 0.63594 , F1: 0.55423 , Cross-entropy Loss: 4.59382\n",
      "Training at Epoch 23 iteration 0 with loss 0.29956. Total time 1.0075 hours\n",
      "Training at Epoch 23 iteration 100 with loss 0.32030. Total time 1.01833 hours\n",
      "Training at Epoch 23 iteration 200 with loss 0.32750. Total time 1.02888 hours\n",
      "Training at Epoch 23 iteration 300 with loss 0.23041. Total time 1.03944 hours\n",
      "Validation at Epoch 23, AUROC: 0.85615 , AUPRC: 0.63531 , F1: 0.44205 , Cross-entropy Loss: 4.30088\n",
      "Training at Epoch 24 iteration 0 with loss 0.20405. Total time 1.05333 hours\n",
      "Training at Epoch 24 iteration 100 with loss 0.26418. Total time 1.06388 hours\n",
      "Training at Epoch 24 iteration 200 with loss 0.27437. Total time 1.07444 hours\n",
      "Training at Epoch 24 iteration 300 with loss 0.17944. Total time 1.085 hours\n",
      "Validation at Epoch 24, AUROC: 0.85444 , AUPRC: 0.63480 , F1: 0.48689 , Cross-entropy Loss: 4.30088\n",
      "Training at Epoch 25 iteration 0 with loss 0.31436. Total time 1.09888 hours\n",
      "Training at Epoch 25 iteration 100 with loss 0.24371. Total time 1.10944 hours\n",
      "Training at Epoch 25 iteration 200 with loss 0.29641. Total time 1.12 hours\n",
      "Training at Epoch 25 iteration 300 with loss 0.32996. Total time 1.13083 hours\n",
      "Validation at Epoch 25, AUROC: 0.85459 , AUPRC: 0.63254 , F1: 0.47669 , Cross-entropy Loss: 4.33017\n",
      "Training at Epoch 26 iteration 0 with loss 0.34967. Total time 1.14444 hours\n",
      "Training at Epoch 26 iteration 100 with loss 0.26255. Total time 1.155 hours\n",
      "Training at Epoch 26 iteration 200 with loss 0.25300. Total time 1.16555 hours\n",
      "Training at Epoch 26 iteration 300 with loss 0.30537. Total time 1.17611 hours\n",
      "Validation at Epoch 26, AUROC: 0.85253 , AUPRC: 0.63080 , F1: 0.52391 , Cross-entropy Loss: 4.27648\n",
      "Training at Epoch 27 iteration 0 with loss 0.32014. Total time 1.19 hours\n",
      "Training at Epoch 27 iteration 100 with loss 0.33561. Total time 1.20055 hours\n",
      "Training at Epoch 27 iteration 200 with loss 0.23537. Total time 1.21111 hours\n",
      "Training at Epoch 27 iteration 300 with loss 0.30800. Total time 1.22166 hours\n",
      "Validation at Epoch 27, AUROC: 0.84841 , AUPRC: 0.61163 , F1: 0.45955 , Cross-entropy Loss: 4.50104\n",
      "Training at Epoch 28 iteration 0 with loss 0.26648. Total time 1.23555 hours\n",
      "Training at Epoch 28 iteration 100 with loss 0.28787. Total time 1.24611 hours\n",
      "Training at Epoch 28 iteration 200 with loss 0.37105. Total time 1.25666 hours\n",
      "Training at Epoch 28 iteration 300 with loss 0.27573. Total time 1.26722 hours\n",
      "Validation at Epoch 28, AUROC: 0.85498 , AUPRC: 0.63769 , F1: 0.41572 , Cross-entropy Loss: 4.28134\n",
      "Training at Epoch 29 iteration 0 with loss 0.32565. Total time 1.28111 hours\n",
      "Training at Epoch 29 iteration 100 with loss 0.21218. Total time 1.29166 hours\n",
      "Training at Epoch 29 iteration 200 with loss 0.31998. Total time 1.30222 hours\n",
      "Training at Epoch 29 iteration 300 with loss 0.26909. Total time 1.31305 hours\n",
      "Validation at Epoch 29, AUROC: 0.85503 , AUPRC: 0.63270 , F1: 0.49302 , Cross-entropy Loss: 4.43758\n",
      "Training at Epoch 30 iteration 0 with loss 0.30446. Total time 1.32666 hours\n",
      "Training at Epoch 30 iteration 100 with loss 0.28106. Total time 1.3375 hours\n",
      "Training at Epoch 30 iteration 200 with loss 0.27779. Total time 1.34805 hours\n",
      "Training at Epoch 30 iteration 300 with loss 0.25149. Total time 1.35861 hours\n",
      "Validation at Epoch 30, AUROC: 0.85490 , AUPRC: 0.63254 , F1: 0.45161 , Cross-entropy Loss: 4.31552\n",
      "Training at Epoch 31 iteration 0 with loss 0.30195. Total time 1.3725 hours\n",
      "Training at Epoch 31 iteration 100 with loss 0.32988. Total time 1.38305 hours\n",
      "Training at Epoch 31 iteration 200 with loss 0.27500. Total time 1.39361 hours\n",
      "Training at Epoch 31 iteration 300 with loss 0.29319. Total time 1.40444 hours\n",
      "Validation at Epoch 31, AUROC: 0.85395 , AUPRC: 0.62945 , F1: 0.50899 , Cross-entropy Loss: 4.39853\n",
      "Training at Epoch 32 iteration 0 with loss 0.25243. Total time 1.41805 hours\n",
      "Training at Epoch 32 iteration 100 with loss 0.30607. Total time 1.42861 hours\n",
      "Training at Epoch 32 iteration 200 with loss 0.27812. Total time 1.43916 hours\n",
      "Training at Epoch 32 iteration 300 with loss 0.27077. Total time 1.45 hours\n",
      "Validation at Epoch 32, AUROC: 0.85627 , AUPRC: 0.63717 , F1: 0.48783 , Cross-entropy Loss: 4.31553\n",
      "Training at Epoch 33 iteration 0 with loss 0.30431. Total time 1.46361 hours\n",
      "Training at Epoch 33 iteration 100 with loss 0.22540. Total time 1.47444 hours\n",
      "Training at Epoch 33 iteration 200 with loss 0.30821. Total time 1.485 hours\n",
      "Training at Epoch 33 iteration 300 with loss 0.30396. Total time 1.49555 hours\n",
      "Validation at Epoch 33, AUROC: 0.85382 , AUPRC: 0.63335 , F1: 0.52028 , Cross-entropy Loss: 4.33018\n",
      "Training at Epoch 34 iteration 0 with loss 0.39261. Total time 1.50944 hours\n",
      "Training at Epoch 34 iteration 100 with loss 0.25877. Total time 1.52 hours\n",
      "Training at Epoch 34 iteration 200 with loss 0.25518. Total time 1.53055 hours\n",
      "Training at Epoch 34 iteration 300 with loss 0.20473. Total time 1.54111 hours\n",
      "Validation at Epoch 34, AUROC: 0.85540 , AUPRC: 0.63422 , F1: 0.48047 , Cross-entropy Loss: 4.28624\n",
      "Training at Epoch 35 iteration 0 with loss 0.24807. Total time 1.555 hours\n",
      "Training at Epoch 35 iteration 100 with loss 0.23464. Total time 1.56555 hours\n",
      "Training at Epoch 35 iteration 200 with loss 0.28509. Total time 1.57611 hours\n",
      "Training at Epoch 35 iteration 300 with loss 0.24610. Total time 1.58666 hours\n",
      "Validation at Epoch 35, AUROC: 0.85560 , AUPRC: 0.63399 , F1: 0.46611 , Cross-entropy Loss: 4.38387\n",
      "Training at Epoch 36 iteration 0 with loss 0.24975. Total time 1.60055 hours\n",
      "Training at Epoch 36 iteration 100 with loss 0.25703. Total time 1.61111 hours\n",
      "Training at Epoch 36 iteration 200 with loss 0.31186. Total time 1.62166 hours\n",
      "Training at Epoch 36 iteration 300 with loss 0.28588. Total time 1.6325 hours\n",
      "Validation at Epoch 36, AUROC: 0.85673 , AUPRC: 0.63474 , F1: 0.44640 , Cross-entropy Loss: 4.28623\n",
      "Training at Epoch 37 iteration 0 with loss 0.31580. Total time 1.64611 hours\n",
      "Training at Epoch 37 iteration 100 with loss 0.34514. Total time 1.65666 hours\n",
      "Training at Epoch 37 iteration 200 with loss 0.27603. Total time 1.66722 hours\n",
      "Training at Epoch 37 iteration 300 with loss 0.25666. Total time 1.67805 hours\n",
      "Validation at Epoch 37, AUROC: 0.85600 , AUPRC: 0.63665 , F1: 0.52291 , Cross-entropy Loss: 4.32042\n",
      "Training at Epoch 38 iteration 0 with loss 0.23389. Total time 1.69166 hours\n",
      "Training at Epoch 38 iteration 100 with loss 0.36841. Total time 1.70222 hours\n",
      "Training at Epoch 38 iteration 200 with loss 0.27662. Total time 1.71305 hours\n",
      "Training at Epoch 38 iteration 300 with loss 0.24491. Total time 1.72361 hours\n",
      "Validation at Epoch 38, AUROC: 0.85289 , AUPRC: 0.63205 , F1: 0.44444 , Cross-entropy Loss: 4.27158\n",
      "Training at Epoch 39 iteration 0 with loss 0.27639. Total time 1.73722 hours\n",
      "Training at Epoch 39 iteration 100 with loss 0.35587. Total time 1.74777 hours\n",
      "Training at Epoch 39 iteration 200 with loss 0.20566. Total time 1.75833 hours\n",
      "Training at Epoch 39 iteration 300 with loss 0.36657. Total time 1.76888 hours\n",
      "Validation at Epoch 39, AUROC: 0.85539 , AUPRC: 0.63456 , F1: 0.45477 , Cross-entropy Loss: 4.29600\n",
      "Training at Epoch 40 iteration 0 with loss 0.27084. Total time 1.78277 hours\n",
      "Training at Epoch 40 iteration 100 with loss 0.27979. Total time 1.79333 hours\n",
      "Training at Epoch 40 iteration 200 with loss 0.24294. Total time 1.80388 hours\n",
      "Training at Epoch 40 iteration 300 with loss 0.32743. Total time 1.81472 hours\n",
      "Validation at Epoch 40, AUROC: 0.85622 , AUPRC: 0.63992 , F1: 0.44965 , Cross-entropy Loss: 4.24229\n",
      "Training at Epoch 41 iteration 0 with loss 0.45394. Total time 1.82833 hours\n",
      "Training at Epoch 41 iteration 100 with loss 0.22256. Total time 1.83916 hours\n",
      "Training at Epoch 41 iteration 200 with loss 0.31393. Total time 1.84944 hours\n",
      "Training at Epoch 41 iteration 300 with loss 0.23066. Total time 1.86027 hours\n",
      "Validation at Epoch 41, AUROC: 0.85641 , AUPRC: 0.63783 , F1: 0.45618 , Cross-entropy Loss: 4.27159\n",
      "Training at Epoch 42 iteration 0 with loss 0.31117. Total time 1.87388 hours\n",
      "Training at Epoch 42 iteration 100 with loss 0.18812. Total time 1.88472 hours\n",
      "Training at Epoch 42 iteration 200 with loss 0.27471. Total time 1.89527 hours\n",
      "Training at Epoch 42 iteration 300 with loss 0.31508. Total time 1.90583 hours\n",
      "Validation at Epoch 42, AUROC: 0.85538 , AUPRC: 0.63417 , F1: 0.46125 , Cross-entropy Loss: 4.27647\n",
      "Training at Epoch 43 iteration 0 with loss 0.36588. Total time 1.91972 hours\n",
      "Training at Epoch 43 iteration 100 with loss 0.21451. Total time 1.93027 hours\n",
      "Training at Epoch 43 iteration 200 with loss 0.25270. Total time 1.94083 hours\n",
      "Training at Epoch 43 iteration 300 with loss 0.31122. Total time 1.95138 hours\n",
      "Validation at Epoch 43, AUROC: 0.85552 , AUPRC: 0.63568 , F1: 0.51835 , Cross-entropy Loss: 4.29113\n",
      "Training at Epoch 44 iteration 0 with loss 0.22264. Total time 1.96527 hours\n",
      "Training at Epoch 44 iteration 100 with loss 0.38981. Total time 1.97583 hours\n",
      "Training at Epoch 44 iteration 200 with loss 0.35313. Total time 1.98638 hours\n",
      "Training at Epoch 44 iteration 300 with loss 0.19885. Total time 1.99694 hours\n",
      "Validation at Epoch 44, AUROC: 0.85338 , AUPRC: 0.63214 , F1: 0.45633 , Cross-entropy Loss: 4.31552\n",
      "Training at Epoch 45 iteration 0 with loss 0.31046. Total time 2.01083 hours\n",
      "Training at Epoch 45 iteration 100 with loss 0.26763. Total time 2.02138 hours\n",
      "Training at Epoch 45 iteration 200 with loss 0.28916. Total time 2.03222 hours\n",
      "Training at Epoch 45 iteration 300 with loss 0.26675. Total time 2.04277 hours\n",
      "Validation at Epoch 45, AUROC: 0.85590 , AUPRC: 0.63623 , F1: 0.44913 , Cross-entropy Loss: 4.33505\n",
      "Training at Epoch 46 iteration 0 with loss 0.34268. Total time 2.05638 hours\n",
      "Training at Epoch 46 iteration 100 with loss 0.21527. Total time 2.06722 hours\n",
      "Training at Epoch 46 iteration 200 with loss 0.25465. Total time 2.07777 hours\n",
      "Training at Epoch 46 iteration 300 with loss 0.29596. Total time 2.08833 hours\n",
      "Validation at Epoch 46, AUROC: 0.85633 , AUPRC: 0.63577 , F1: 0.49485 , Cross-entropy Loss: 4.31553\n",
      "Training at Epoch 47 iteration 0 with loss 0.21209. Total time 2.10194 hours\n",
      "Training at Epoch 47 iteration 100 with loss 0.27760. Total time 2.11277 hours\n",
      "Training at Epoch 47 iteration 200 with loss 0.19287. Total time 2.12333 hours\n",
      "Training at Epoch 47 iteration 300 with loss 0.29195. Total time 2.13388 hours\n",
      "Validation at Epoch 47, AUROC: 0.85275 , AUPRC: 0.62640 , F1: 0.48419 , Cross-entropy Loss: 4.46199\n",
      "Training at Epoch 48 iteration 0 with loss 0.34086. Total time 2.14777 hours\n",
      "Training at Epoch 48 iteration 100 with loss 0.33704. Total time 2.15833 hours\n",
      "Training at Epoch 48 iteration 200 with loss 0.39666. Total time 2.16888 hours\n",
      "Training at Epoch 48 iteration 300 with loss 0.33165. Total time 2.17944 hours\n",
      "Validation at Epoch 48, AUROC: 0.85673 , AUPRC: 0.63819 , F1: 0.54507 , Cross-entropy Loss: 4.28625\n",
      "Training at Epoch 49 iteration 0 with loss 0.32182. Total time 2.19333 hours\n",
      "Training at Epoch 49 iteration 100 with loss 0.33652. Total time 2.20388 hours\n",
      "Training at Epoch 49 iteration 200 with loss 0.27688. Total time 2.21444 hours\n",
      "Training at Epoch 49 iteration 300 with loss 0.28489. Total time 2.225 hours\n",
      "Validation at Epoch 49, AUROC: 0.85638 , AUPRC: 0.63698 , F1: 0.55053 , Cross-entropy Loss: 4.32043\n",
      "Training at Epoch 50 iteration 0 with loss 0.26596. Total time 2.23861 hours\n",
      "Training at Epoch 50 iteration 100 with loss 0.29304. Total time 2.24916 hours\n",
      "Training at Epoch 50 iteration 200 with loss 0.34221. Total time 2.25972 hours\n",
      "Training at Epoch 50 iteration 300 with loss 0.27624. Total time 2.27055 hours\n",
      "Validation at Epoch 50, AUROC: 0.85523 , AUPRC: 0.63688 , F1: 0.44486 , Cross-entropy Loss: 4.32529\n",
      "Training at Epoch 51 iteration 0 with loss 0.25795. Total time 2.28416 hours\n",
      "Training at Epoch 51 iteration 100 with loss 0.33246. Total time 2.29472 hours\n",
      "Training at Epoch 51 iteration 200 with loss 0.30589. Total time 2.30527 hours\n",
      "Training at Epoch 51 iteration 300 with loss 0.42922. Total time 2.31583 hours\n",
      "Validation at Epoch 51, AUROC: 0.85556 , AUPRC: 0.63789 , F1: 0.45330 , Cross-entropy Loss: 4.28623\n",
      "Training at Epoch 52 iteration 0 with loss 0.27128. Total time 2.32972 hours\n",
      "Training at Epoch 52 iteration 100 with loss 0.26235. Total time 2.34027 hours\n",
      "Training at Epoch 52 iteration 200 with loss 0.25154. Total time 2.35083 hours\n",
      "Training at Epoch 52 iteration 300 with loss 0.28677. Total time 2.36138 hours\n",
      "Validation at Epoch 52, AUROC: 0.85840 , AUPRC: 0.64006 , F1: 0.46658 , Cross-entropy Loss: 4.28623\n",
      "Training at Epoch 53 iteration 0 with loss 0.23434. Total time 2.375 hours\n",
      "Training at Epoch 53 iteration 100 with loss 0.32763. Total time 2.38583 hours\n",
      "Training at Epoch 53 iteration 200 with loss 0.45707. Total time 2.39666 hours\n",
      "Training at Epoch 53 iteration 300 with loss 0.34045. Total time 2.40722 hours\n",
      "Validation at Epoch 53, AUROC: 0.85691 , AUPRC: 0.63818 , F1: 0.49600 , Cross-entropy Loss: 4.31553\n",
      "Training at Epoch 54 iteration 0 with loss 0.20338. Total time 2.42111 hours\n",
      "Training at Epoch 54 iteration 100 with loss 0.24321. Total time 2.43166 hours\n",
      "Training at Epoch 54 iteration 200 with loss 0.29986. Total time 2.44222 hours\n",
      "Training at Epoch 54 iteration 300 with loss 0.30191. Total time 2.45305 hours\n",
      "Validation at Epoch 54, AUROC: 0.85538 , AUPRC: 0.63591 , F1: 0.46795 , Cross-entropy Loss: 4.29600\n",
      "Training at Epoch 55 iteration 0 with loss 0.26956. Total time 2.46666 hours\n",
      "Training at Epoch 55 iteration 100 with loss 0.28742. Total time 2.4775 hours\n",
      "Training at Epoch 55 iteration 200 with loss 0.23722. Total time 2.48805 hours\n",
      "Training at Epoch 55 iteration 300 with loss 0.19888. Total time 2.49888 hours\n",
      "Validation at Epoch 55, AUROC: 0.85456 , AUPRC: 0.63643 , F1: 0.47686 , Cross-entropy Loss: 4.30576\n",
      "Training at Epoch 56 iteration 0 with loss 0.27587. Total time 2.5125 hours\n",
      "Training at Epoch 56 iteration 100 with loss 0.23138. Total time 2.52305 hours\n",
      "Training at Epoch 56 iteration 200 with loss 0.34582. Total time 2.53388 hours\n",
      "Training at Epoch 56 iteration 300 with loss 0.31060. Total time 2.54444 hours\n",
      "Validation at Epoch 56, AUROC: 0.85602 , AUPRC: 0.63812 , F1: 0.43159 , Cross-entropy Loss: 4.32040\n",
      "Training at Epoch 57 iteration 0 with loss 0.34936. Total time 2.55805 hours\n",
      "Training at Epoch 57 iteration 100 with loss 0.20714. Total time 2.56861 hours\n",
      "Training at Epoch 57 iteration 200 with loss 0.26710. Total time 2.57944 hours\n",
      "Training at Epoch 57 iteration 300 with loss 0.32041. Total time 2.59 hours\n",
      "Validation at Epoch 57, AUROC: 0.85602 , AUPRC: 0.63771 , F1: 0.47449 , Cross-entropy Loss: 4.32529\n",
      "Training at Epoch 58 iteration 0 with loss 0.37412. Total time 2.60361 hours\n",
      "Training at Epoch 58 iteration 100 with loss 0.29813. Total time 2.61444 hours\n",
      "Training at Epoch 58 iteration 200 with loss 0.29543. Total time 2.625 hours\n",
      "Training at Epoch 58 iteration 300 with loss 0.32944. Total time 2.63555 hours\n",
      "Validation at Epoch 58, AUROC: 0.85404 , AUPRC: 0.63353 , F1: 0.50665 , Cross-entropy Loss: 4.34483\n",
      "Training at Epoch 59 iteration 0 with loss 0.25154. Total time 2.64944 hours\n",
      "Training at Epoch 59 iteration 100 with loss 0.30171. Total time 2.66 hours\n",
      "Training at Epoch 59 iteration 200 with loss 0.22670. Total time 2.67055 hours\n",
      "Training at Epoch 59 iteration 300 with loss 0.32911. Total time 2.68111 hours\n",
      "Validation at Epoch 59, AUROC: 0.85528 , AUPRC: 0.63250 , F1: 0.46304 , Cross-entropy Loss: 4.29112\n",
      "Training at Epoch 60 iteration 0 with loss 0.30658. Total time 2.695 hours\n",
      "Training at Epoch 60 iteration 100 with loss 0.28133. Total time 2.70555 hours\n",
      "Training at Epoch 60 iteration 200 with loss 0.26995. Total time 2.71638 hours\n",
      "Training at Epoch 60 iteration 300 with loss 0.31369. Total time 2.72694 hours\n",
      "Validation at Epoch 60, AUROC: 0.85531 , AUPRC: 0.63704 , F1: 0.46134 , Cross-entropy Loss: 4.28623\n",
      "Training at Epoch 61 iteration 0 with loss 0.21671. Total time 2.74083 hours\n",
      "Training at Epoch 61 iteration 100 with loss 0.32931. Total time 2.75138 hours\n",
      "Training at Epoch 61 iteration 200 with loss 0.18970. Total time 2.76194 hours\n",
      "Training at Epoch 61 iteration 300 with loss 0.22772. Total time 2.77277 hours\n",
      "Validation at Epoch 61, AUROC: 0.85324 , AUPRC: 0.63363 , F1: 0.44261 , Cross-entropy Loss: 4.29111\n",
      "Training at Epoch 62 iteration 0 with loss 0.24404. Total time 2.78638 hours\n",
      "Training at Epoch 62 iteration 100 with loss 0.23553. Total time 2.79694 hours\n",
      "Training at Epoch 62 iteration 200 with loss 0.28869. Total time 2.80777 hours\n",
      "Training at Epoch 62 iteration 300 with loss 0.30182. Total time 2.81833 hours\n",
      "Validation at Epoch 62, AUROC: 0.85429 , AUPRC: 0.63262 , F1: 0.44275 , Cross-entropy Loss: 4.30088\n",
      "Training at Epoch 63 iteration 0 with loss 0.29311. Total time 2.83222 hours\n",
      "Training at Epoch 63 iteration 100 with loss 0.28675. Total time 2.84277 hours\n",
      "Training at Epoch 63 iteration 200 with loss 0.31855. Total time 2.85333 hours\n",
      "Training at Epoch 63 iteration 300 with loss 0.31162. Total time 2.86416 hours\n",
      "Validation at Epoch 63, AUROC: 0.85451 , AUPRC: 0.63517 , F1: 0.50084 , Cross-entropy Loss: 4.31065\n",
      "Training at Epoch 64 iteration 0 with loss 0.31612. Total time 2.87777 hours\n",
      "Training at Epoch 64 iteration 100 with loss 0.29327. Total time 2.88833 hours\n",
      "Training at Epoch 64 iteration 200 with loss 0.26585. Total time 2.89888 hours\n",
      "Training at Epoch 64 iteration 300 with loss 0.27771. Total time 2.90944 hours\n",
      "Validation at Epoch 64, AUROC: 0.85567 , AUPRC: 0.63484 , F1: 0.48477 , Cross-entropy Loss: 4.29600\n",
      "Training at Epoch 65 iteration 0 with loss 0.30789. Total time 2.92333 hours\n",
      "Training at Epoch 65 iteration 100 with loss 0.29775. Total time 2.93388 hours\n",
      "Training at Epoch 65 iteration 200 with loss 0.25415. Total time 2.94444 hours\n",
      "Training at Epoch 65 iteration 300 with loss 0.26082. Total time 2.955 hours\n",
      "Validation at Epoch 65, AUROC: 0.85529 , AUPRC: 0.63406 , F1: 0.47967 , Cross-entropy Loss: 4.31065\n",
      "Training at Epoch 66 iteration 0 with loss 0.24704. Total time 2.96861 hours\n",
      "Training at Epoch 66 iteration 100 with loss 0.24985. Total time 2.97916 hours\n",
      "Training at Epoch 66 iteration 200 with loss 0.36621. Total time 2.98972 hours\n",
      "Training at Epoch 66 iteration 300 with loss 0.26093. Total time 3.00027 hours\n",
      "Validation at Epoch 66, AUROC: 0.85610 , AUPRC: 0.63005 , F1: 0.46144 , Cross-entropy Loss: 4.39852\n",
      "Training at Epoch 67 iteration 0 with loss 0.32218. Total time 3.01416 hours\n",
      "Training at Epoch 67 iteration 100 with loss 0.34849. Total time 3.02472 hours\n",
      "Training at Epoch 67 iteration 200 with loss 0.26448. Total time 3.03527 hours\n",
      "Training at Epoch 67 iteration 300 with loss 0.24154. Total time 3.04583 hours\n",
      "Validation at Epoch 67, AUROC: 0.85613 , AUPRC: 0.63650 , F1: 0.46079 , Cross-entropy Loss: 4.33017\n",
      "Training at Epoch 68 iteration 0 with loss 0.31825. Total time 3.05944 hours\n",
      "Training at Epoch 68 iteration 100 with loss 0.24359. Total time 3.07027 hours\n",
      "Training at Epoch 68 iteration 200 with loss 0.32797. Total time 3.08083 hours\n",
      "Training at Epoch 68 iteration 300 with loss 0.33476. Total time 3.09166 hours\n",
      "Validation at Epoch 68, AUROC: 0.85387 , AUPRC: 0.63447 , F1: 0.45851 , Cross-entropy Loss: 4.30088\n",
      "Training at Epoch 69 iteration 0 with loss 0.35074. Total time 3.10527 hours\n",
      "Training at Epoch 69 iteration 100 with loss 0.29818. Total time 3.11611 hours\n",
      "Training at Epoch 69 iteration 200 with loss 0.24892. Total time 3.12666 hours\n",
      "Training at Epoch 69 iteration 300 with loss 0.34131. Total time 3.13722 hours\n",
      "Validation at Epoch 69, AUROC: 0.85456 , AUPRC: 0.63855 , F1: 0.44892 , Cross-entropy Loss: 4.26670\n",
      "Training at Epoch 70 iteration 0 with loss 0.41714. Total time 3.15083 hours\n",
      "Training at Epoch 70 iteration 100 with loss 0.22667. Total time 3.16166 hours\n",
      "Training at Epoch 70 iteration 200 with loss 0.27550. Total time 3.17222 hours\n",
      "Training at Epoch 70 iteration 300 with loss 0.25215. Total time 3.18277 hours\n",
      "Validation at Epoch 70, AUROC: 0.85510 , AUPRC: 0.63679 , F1: 0.45141 , Cross-entropy Loss: 4.27159\n",
      "Training at Epoch 71 iteration 0 with loss 0.31755. Total time 3.19666 hours\n",
      "Training at Epoch 71 iteration 100 with loss 0.24538. Total time 3.20722 hours\n",
      "Training at Epoch 71 iteration 200 with loss 0.25165. Total time 3.21777 hours\n",
      "Training at Epoch 71 iteration 300 with loss 0.27002. Total time 3.22861 hours\n",
      "Validation at Epoch 71, AUROC: 0.85611 , AUPRC: 0.63932 , F1: 0.45781 , Cross-entropy Loss: 4.26670\n",
      "Training at Epoch 72 iteration 0 with loss 0.21400. Total time 3.24222 hours\n",
      "Training at Epoch 72 iteration 100 with loss 0.23578. Total time 3.25305 hours\n",
      "Training at Epoch 72 iteration 200 with loss 0.23293. Total time 3.26361 hours\n",
      "Training at Epoch 72 iteration 300 with loss 0.25361. Total time 3.27416 hours\n",
      "Validation at Epoch 72, AUROC: 0.85466 , AUPRC: 0.63698 , F1: 0.48066 , Cross-entropy Loss: 4.26183\n",
      "Training at Epoch 73 iteration 0 with loss 0.24569. Total time 3.28805 hours\n",
      "Training at Epoch 73 iteration 100 with loss 0.23141. Total time 3.29861 hours\n",
      "Training at Epoch 73 iteration 200 with loss 0.30195. Total time 3.30916 hours\n",
      "Training at Epoch 73 iteration 300 with loss 0.29399. Total time 3.32 hours\n",
      "Validation at Epoch 73, AUROC: 0.85470 , AUPRC: 0.63371 , F1: 0.47215 , Cross-entropy Loss: 4.44246\n",
      "Training at Epoch 74 iteration 0 with loss 0.31011. Total time 3.33361 hours\n",
      "Training at Epoch 74 iteration 100 with loss 0.23115. Total time 3.34444 hours\n",
      "Training at Epoch 74 iteration 200 with loss 0.22441. Total time 3.355 hours\n",
      "Training at Epoch 74 iteration 300 with loss 0.31276. Total time 3.36555 hours\n",
      "Validation at Epoch 74, AUROC: 0.85621 , AUPRC: 0.63778 , F1: 0.46803 , Cross-entropy Loss: 4.30576\n",
      "Training at Epoch 75 iteration 0 with loss 0.25653. Total time 3.37944 hours\n",
      "Training at Epoch 75 iteration 100 with loss 0.29127. Total time 3.39 hours\n",
      "Training at Epoch 75 iteration 200 with loss 0.34689. Total time 3.40083 hours\n",
      "Training at Epoch 75 iteration 300 with loss 0.32418. Total time 3.41138 hours\n",
      "Validation at Epoch 75, AUROC: 0.85443 , AUPRC: 0.63600 , F1: 0.46460 , Cross-entropy Loss: 4.32041\n",
      "Training at Epoch 76 iteration 0 with loss 0.33755. Total time 3.42527 hours\n",
      "Training at Epoch 76 iteration 100 with loss 0.30822. Total time 3.43583 hours\n",
      "Training at Epoch 76 iteration 200 with loss 0.22058. Total time 3.44666 hours\n",
      "Training at Epoch 76 iteration 300 with loss 0.33945. Total time 3.45722 hours\n",
      "Validation at Epoch 76, AUROC: 0.85574 , AUPRC: 0.63689 , F1: 0.50310 , Cross-entropy Loss: 4.30089\n",
      "Training at Epoch 77 iteration 0 with loss 0.33569. Total time 3.47111 hours\n",
      "Training at Epoch 77 iteration 100 with loss 0.31090. Total time 3.48166 hours\n",
      "Training at Epoch 77 iteration 200 with loss 0.28427. Total time 3.49222 hours\n",
      "Training at Epoch 77 iteration 300 with loss 0.31965. Total time 3.50305 hours\n",
      "Validation at Epoch 77, AUROC: 0.85645 , AUPRC: 0.63998 , F1: 0.45707 , Cross-entropy Loss: 4.29111\n",
      "Training at Epoch 78 iteration 0 with loss 0.28636. Total time 3.51666 hours\n",
      "Training at Epoch 78 iteration 100 with loss 0.27209. Total time 3.5275 hours\n",
      "Training at Epoch 78 iteration 200 with loss 0.29099. Total time 3.53805 hours\n",
      "Training at Epoch 78 iteration 300 with loss 0.22863. Total time 3.54861 hours\n",
      "Validation at Epoch 78, AUROC: 0.85708 , AUPRC: 0.63964 , F1: 0.46548 , Cross-entropy Loss: 4.27159\n",
      "Training at Epoch 79 iteration 0 with loss 0.38356. Total time 3.5625 hours\n",
      "Training at Epoch 79 iteration 100 with loss 0.31102. Total time 3.57305 hours\n",
      "Training at Epoch 79 iteration 200 with loss 0.32116. Total time 3.58388 hours\n",
      "Training at Epoch 79 iteration 300 with loss 0.23103. Total time 3.59444 hours\n",
      "Validation at Epoch 79, AUROC: 0.85530 , AUPRC: 0.63657 , F1: 0.45679 , Cross-entropy Loss: 4.29600\n",
      "Training at Epoch 80 iteration 0 with loss 0.25345. Total time 3.60833 hours\n",
      "Training at Epoch 80 iteration 100 with loss 0.21387. Total time 3.61888 hours\n",
      "Training at Epoch 80 iteration 200 with loss 0.26711. Total time 3.62972 hours\n",
      "Training at Epoch 80 iteration 300 with loss 0.27431. Total time 3.64055 hours\n",
      "Validation at Epoch 80, AUROC: 0.85468 , AUPRC: 0.63541 , F1: 0.47324 , Cross-entropy Loss: 4.32529\n",
      "Training at Epoch 81 iteration 0 with loss 0.34381. Total time 3.65416 hours\n",
      "Training at Epoch 81 iteration 100 with loss 0.24425. Total time 3.66472 hours\n",
      "Training at Epoch 81 iteration 200 with loss 0.21064. Total time 3.67555 hours\n",
      "Training at Epoch 81 iteration 300 with loss 0.29216. Total time 3.68611 hours\n",
      "Validation at Epoch 81, AUROC: 0.85545 , AUPRC: 0.63646 , F1: 0.48677 , Cross-entropy Loss: 4.26183\n",
      "Training at Epoch 82 iteration 0 with loss 0.19776. Total time 3.7 hours\n",
      "Training at Epoch 82 iteration 100 with loss 0.25481. Total time 3.71055 hours\n",
      "Training at Epoch 82 iteration 200 with loss 0.36079. Total time 3.72111 hours\n",
      "Training at Epoch 82 iteration 300 with loss 0.28255. Total time 3.73194 hours\n",
      "Validation at Epoch 82, AUROC: 0.85338 , AUPRC: 0.63162 , F1: 0.46833 , Cross-entropy Loss: 4.34482\n",
      "Training at Epoch 83 iteration 0 with loss 0.28045. Total time 3.74555 hours\n",
      "Training at Epoch 83 iteration 100 with loss 0.22338. Total time 3.75638 hours\n",
      "Training at Epoch 83 iteration 200 with loss 0.34254. Total time 3.76694 hours\n",
      "Training at Epoch 83 iteration 300 with loss 0.25979. Total time 3.7775 hours\n",
      "Validation at Epoch 83, AUROC: 0.85630 , AUPRC: 0.63590 , F1: 0.44751 , Cross-entropy Loss: 4.29111\n",
      "Training at Epoch 84 iteration 0 with loss 0.30680. Total time 3.79138 hours\n",
      "Training at Epoch 84 iteration 100 with loss 0.27870. Total time 3.80194 hours\n",
      "Training at Epoch 84 iteration 200 with loss 0.26268. Total time 3.8125 hours\n",
      "Training at Epoch 84 iteration 300 with loss 0.25289. Total time 3.82333 hours\n",
      "Validation at Epoch 84, AUROC: 0.85682 , AUPRC: 0.63636 , F1: 0.45650 , Cross-entropy Loss: 4.30088\n",
      "Training at Epoch 85 iteration 0 with loss 0.33702. Total time 3.83694 hours\n",
      "Training at Epoch 85 iteration 100 with loss 0.36043. Total time 3.84777 hours\n",
      "Training at Epoch 85 iteration 200 with loss 0.31623. Total time 3.85833 hours\n",
      "Training at Epoch 85 iteration 300 with loss 0.26070. Total time 3.86888 hours\n",
      "Validation at Epoch 85, AUROC: 0.85595 , AUPRC: 0.62752 , F1: 0.44527 , Cross-entropy Loss: 4.33017\n",
      "Training at Epoch 86 iteration 0 with loss 0.27764. Total time 3.8825 hours\n",
      "Training at Epoch 86 iteration 100 with loss 0.34362. Total time 3.89333 hours\n",
      "Training at Epoch 86 iteration 200 with loss 0.34520. Total time 3.90388 hours\n",
      "Training at Epoch 86 iteration 300 with loss 0.33953. Total time 3.91472 hours\n",
      "Validation at Epoch 86, AUROC: 0.85681 , AUPRC: 0.63835 , F1: 0.43617 , Cross-entropy Loss: 4.29111\n",
      "Training at Epoch 87 iteration 0 with loss 0.25667. Total time 3.92833 hours\n",
      "Training at Epoch 87 iteration 100 with loss 0.28231. Total time 3.93916 hours\n",
      "Training at Epoch 87 iteration 200 with loss 0.26352. Total time 3.94972 hours\n",
      "Training at Epoch 87 iteration 300 with loss 0.31895. Total time 3.96027 hours\n",
      "Validation at Epoch 87, AUROC: 0.85402 , AUPRC: 0.63821 , F1: 0.45153 , Cross-entropy Loss: 4.28135\n",
      "Training at Epoch 88 iteration 0 with loss 0.33754. Total time 3.97416 hours\n",
      "Training at Epoch 88 iteration 100 with loss 0.24157. Total time 3.985 hours\n",
      "Training at Epoch 88 iteration 200 with loss 0.30593. Total time 3.99555 hours\n",
      "Training at Epoch 88 iteration 300 with loss 0.22452. Total time 4.00638 hours\n",
      "Validation at Epoch 88, AUROC: 0.85571 , AUPRC: 0.63725 , F1: 0.44768 , Cross-entropy Loss: 4.25206\n",
      "Training at Epoch 89 iteration 0 with loss 0.25178. Total time 4.02 hours\n",
      "Training at Epoch 89 iteration 100 with loss 0.27404. Total time 4.03083 hours\n",
      "Training at Epoch 89 iteration 200 with loss 0.30075. Total time 4.04138 hours\n",
      "Training at Epoch 89 iteration 300 with loss 0.23336. Total time 4.05194 hours\n",
      "Validation at Epoch 89, AUROC: 0.85537 , AUPRC: 0.63737 , F1: 0.45096 , Cross-entropy Loss: 4.29111\n",
      "Training at Epoch 90 iteration 0 with loss 0.26973. Total time 4.06583 hours\n",
      "Training at Epoch 90 iteration 100 with loss 0.27315. Total time 4.07638 hours\n",
      "Training at Epoch 90 iteration 200 with loss 0.27404. Total time 4.08722 hours\n",
      "Training at Epoch 90 iteration 300 with loss 0.30121. Total time 4.09777 hours\n",
      "Validation at Epoch 90, AUROC: 0.85409 , AUPRC: 0.63691 , F1: 0.46727 , Cross-entropy Loss: 4.25206\n",
      "Training at Epoch 91 iteration 0 with loss 0.31368. Total time 4.11166 hours\n",
      "Training at Epoch 91 iteration 100 with loss 0.29019. Total time 4.12222 hours\n",
      "Training at Epoch 91 iteration 200 with loss 0.29521. Total time 4.13305 hours\n",
      "Training at Epoch 91 iteration 300 with loss 0.32826. Total time 4.14361 hours\n",
      "Validation at Epoch 91, AUROC: 0.85585 , AUPRC: 0.63685 , F1: 0.46200 , Cross-entropy Loss: 4.28623\n",
      "Training at Epoch 92 iteration 0 with loss 0.33943. Total time 4.1575 hours\n",
      "Training at Epoch 92 iteration 100 with loss 0.32123. Total time 4.16805 hours\n",
      "Training at Epoch 92 iteration 200 with loss 0.25541. Total time 4.17888 hours\n",
      "Training at Epoch 92 iteration 300 with loss 0.26306. Total time 4.18944 hours\n",
      "Validation at Epoch 92, AUROC: 0.85412 , AUPRC: 0.63512 , F1: 0.45226 , Cross-entropy Loss: 4.25694\n",
      "Training at Epoch 93 iteration 0 with loss 0.24823. Total time 4.20333 hours\n",
      "Training at Epoch 93 iteration 100 with loss 0.18655. Total time 4.21388 hours\n",
      "Training at Epoch 93 iteration 200 with loss 0.26326. Total time 4.22444 hours\n",
      "Training at Epoch 93 iteration 300 with loss 0.33136. Total time 4.23527 hours\n",
      "Validation at Epoch 93, AUROC: 0.85728 , AUPRC: 0.63998 , F1: 0.45703 , Cross-entropy Loss: 4.25694\n",
      "Training at Epoch 94 iteration 0 with loss 0.35835. Total time 4.24888 hours\n",
      "Training at Epoch 94 iteration 100 with loss 0.27759. Total time 4.25972 hours\n",
      "Training at Epoch 94 iteration 200 with loss 0.21556. Total time 4.27027 hours\n",
      "Training at Epoch 94 iteration 300 with loss 0.29872. Total time 4.28111 hours\n",
      "Validation at Epoch 94, AUROC: 0.85368 , AUPRC: 0.63377 , F1: 0.45675 , Cross-entropy Loss: 4.26182\n",
      "Training at Epoch 95 iteration 0 with loss 0.29076. Total time 4.295 hours\n",
      "Training at Epoch 95 iteration 100 with loss 0.25791. Total time 4.30555 hours\n",
      "Training at Epoch 95 iteration 200 with loss 0.26229. Total time 4.31638 hours\n",
      "Training at Epoch 95 iteration 300 with loss 0.35229. Total time 4.32694 hours\n",
      "Validation at Epoch 95, AUROC: 0.85380 , AUPRC: 0.63100 , F1: 0.45572 , Cross-entropy Loss: 4.29111\n",
      "Training at Epoch 96 iteration 0 with loss 0.24808. Total time 4.34083 hours\n",
      "Training at Epoch 96 iteration 100 with loss 0.25416. Total time 4.35166 hours\n",
      "Training at Epoch 96 iteration 200 with loss 0.29801. Total time 4.36222 hours\n",
      "Training at Epoch 96 iteration 300 with loss 0.33841. Total time 4.37277 hours\n",
      "Validation at Epoch 96, AUROC: 0.85319 , AUPRC: 0.61126 , F1: 0.41997 , Cross-entropy Loss: 4.42292\n",
      "Training at Epoch 97 iteration 0 with loss 0.20415. Total time 4.38666 hours\n",
      "Training at Epoch 97 iteration 100 with loss 0.24515. Total time 4.3975 hours\n",
      "Training at Epoch 97 iteration 200 with loss 0.28045. Total time 4.40805 hours\n",
      "Training at Epoch 97 iteration 300 with loss 0.29661. Total time 4.41861 hours\n",
      "Validation at Epoch 97, AUROC: 0.85192 , AUPRC: 0.63218 , F1: 0.44017 , Cross-entropy Loss: 4.27158\n",
      "Training at Epoch 98 iteration 0 with loss 0.27290. Total time 4.4325 hours\n",
      "Training at Epoch 98 iteration 100 with loss 0.35204. Total time 4.44333 hours\n",
      "Training at Epoch 98 iteration 200 with loss 0.27682. Total time 4.45388 hours\n",
      "Training at Epoch 98 iteration 300 with loss 0.25977. Total time 4.46472 hours\n",
      "Validation at Epoch 98, AUROC: 0.85572 , AUPRC: 0.63737 , F1: 0.45278 , Cross-entropy Loss: 4.27159\n",
      "Training at Epoch 99 iteration 0 with loss 0.22089. Total time 4.47833 hours\n",
      "Training at Epoch 99 iteration 100 with loss 0.28918. Total time 4.48916 hours\n",
      "Training at Epoch 99 iteration 200 with loss 0.28513. Total time 4.49972 hours\n",
      "Training at Epoch 99 iteration 300 with loss 0.27425. Total time 4.51027 hours\n",
      "Validation at Epoch 99, AUROC: 0.85716 , AUPRC: 0.63908 , F1: 0.42866 , Cross-entropy Loss: 4.32040\n",
      "Training at Epoch 100 iteration 0 with loss 0.24997. Total time 4.52416 hours\n",
      "Training at Epoch 100 iteration 100 with loss 0.25577. Total time 4.53472 hours\n",
      "Training at Epoch 100 iteration 200 with loss 0.39420. Total time 4.54555 hours\n",
      "Training at Epoch 100 iteration 300 with loss 0.35692. Total time 4.55611 hours\n",
      "Validation at Epoch 100, AUROC: 0.85659 , AUPRC: 0.63802 , F1: 0.45721 , Cross-entropy Loss: 4.24229\n",
      "--- Go for Testing ---\n",
      "Validation at Epoch 100 , AUROC: 0.84574 , AUPRC: 0.62326 , F1: 0.44506 , Cross-entropy Loss: 4.38875\n",
      "--- Training Finished ---\n"
     ]
    },
    {
     "data": {
      "image/png": "[encoded data removed]",
      "text/plain": [
       "<Figure size 432x288 with 1 Axes>"
      ]
     },
     "metadata": {
      "needs_background": "light"
     },
     "output_type": "display_data"
    },
    {
     "data": {
      "image/png": "[encoded data removed]",
      "text/plain": [
       "<Figure size 432x288 with 1 Axes>"
      ]
     },
     "metadata": {
      "needs_background": "light"
     },
     "output_type": "display_data"
    },
    {
     "data": {
      "image/png": "[encoded data removed]",
      "text/plain": [
       "<Figure size 432x288 with 1 Axes>"
      ]
     },
     "metadata": {
      "needs_background": "light"
     },
     "output_type": "display_data"
    }
   ],
   "source": [
    "model = models.model_initialize(**config)\n",
    "model.train(train, val, test)"
   ]
  },
  {
   "cell_type": "code",
   "execution_count": 46,
   "metadata": {
    "hidden": true
   },
   "outputs": [],
   "source": [
    "model.save_model('/home/sars-busters-consolidated/deep_purpose/save_folder/pretrained_model/transformer_CNN_fold2')"
   ]
  },
  {
   "cell_type": "code",
   "execution_count": 47,
   "metadata": {
    "hidden": true
   },
   "outputs": [
    {
     "name": "stdout",
     "output_type": "stream",
     "text": [
      "predicting...\n"
     ]
    }
   ],
   "source": [
    "test_preidcted = model.predict(test)\n",
    "test['Y_predicted'] = test_preidcted"
   ]
  },
  {
   "cell_type": "code",
   "execution_count": 48,
   "metadata": {
    "hidden": true
   },
   "outputs": [],
   "source": [
    "train.to_csv('../data/Transformer_CNN_train_fold2.csv')\n",
    "val.to_csv('../data/Transformer_CNN_val_fold2.csv')\n",
    "test.to_csv('../data/Transformer_CNN_test_fold2.csv')"
   ]
  },
  {
   "cell_type": "markdown",
   "metadata": {},
   "source": [
    "# Preparing Degree Lists for Original DeepPurpose Data"
   ]
  },
  {
   "cell_type": "code",
   "execution_count": 24,
   "metadata": {},
   "outputs": [],
   "source": [
    "train = pd.read_csv('../data/Transformer_CNN_train_fold2.csv')\n",
    "val = pd.read_csv('../data/Transformer_CNN_val_fold2.csv')\n",
    "test = pd.read_csv('../data/Transformer_CNN_test_fold2.csv')"
   ]
  },
  {
   "cell_type": "code",
   "execution_count": 25,
   "metadata": {},
   "outputs": [
    {
     "name": "stdout",
     "output_type": "stream",
     "text": [
      "Ligands:  10432\n",
      "Targets:  1396\n"
     ]
    }
   ],
   "source": [
    "ligands = list(set(train['SMILES'].tolist()))\n",
    "targets = list(set(train['Target Sequence'].tolist()))\n",
    "\n",
    "number_ligands = len(ligands)\n",
    "number_targets = len(targets)\n",
    "print('Ligands: ', number_ligands)\n",
    "print('Targets: ',number_targets)"
   ]
  },
  {
   "cell_type": "code",
   "execution_count": 26,
   "metadata": {},
   "outputs": [
    {
     "name": "stderr",
     "output_type": "stream",
     "text": [
      "100%|██████████| 10432/10432 [01:13<00:00, 142.47it/s]\n",
      "100%|██████████| 1396/1396 [00:09<00:00, 143.61it/s]\n",
      "100%|██████████| 10432/10432 [00:00<00:00, 1037806.96it/s]\n",
      "100%|██████████| 10432/10432 [00:00<00:00, 1081865.77it/s]\n",
      "100%|██████████| 1396/1396 [00:00<00:00, 1074554.67it/s]\n",
      "100%|██████████| 1396/1396 [00:00<00:00, 933256.04it/s]\n"
     ]
    }
   ],
   "source": [
    "ligands_degree_dict = dict()\n",
    "\n",
    "for smile_chem in tqdm(ligands):\n",
    "    sum_df = train[train['SMILES'] == smile_chem]\n",
    "    ligands_degree_dict[smile_chem] = dict()\n",
    "    ligands_degree_dict[smile_chem]['deg_0'] = len(sum_df[sum_df['Label'] == 0])\n",
    "    ligands_degree_dict[smile_chem]['deg_1'] = len(sum_df[sum_df['Label'] == 1])\n",
    "    \n",
    "targets_degree_dict = dict()\n",
    "\n",
    "for aa_target in tqdm(targets):\n",
    "    sum_df = train[train['Target Sequence'] == aa_target]\n",
    "    targets_degree_dict[aa_target] = dict()\n",
    "    targets_degree_dict[aa_target]['deg_0'] = len(sum_df[sum_df['Label'] == 0])\n",
    "    targets_degree_dict[aa_target]['deg_1'] = len(sum_df[sum_df['Label'] == 1])\n",
    "    \n",
    "degree_train_1_0_ligands = [ligands_degree_dict[key_val]['deg_1'] for key_val in tqdm(ligands_degree_dict.keys())]\n",
    "degree_train_0_1_ligands = [ligands_degree_dict[key_val]['deg_0'] for key_val in tqdm(ligands_degree_dict.keys())]\n",
    "\n",
    "degree_train_1_0_targets = [targets_degree_dict[key_val]['deg_1'] for key_val in tqdm(targets_degree_dict.keys())]\n",
    "degree_train_0_1_targets = [targets_degree_dict[key_val]['deg_0'] for key_val in tqdm(targets_degree_dict.keys())]"
   ]
  },
  {
   "cell_type": "code",
   "execution_count": 33,
   "metadata": {},
   "outputs": [],
   "source": [
    "with open('../data/fold2/degreetrain10ligands.txt', 'w') as file:\n",
    "    for degree in degree_train_1_0_ligands:\n",
    "        file.write(\"%i\\n\" % degree)\n",
    "        \n",
    "file.close()\n",
    "\n",
    "with open('../data/fold2/degreetrain01ligands.txt', 'w') as file:\n",
    "    for degree in degree_train_0_1_ligands:\n",
    "        file.write(\"%i\\n\" % degree)\n",
    "        \n",
    "file.close()\n",
    "\n",
    "with open('../data/fold2/degreetrain10targets.txt', 'w') as file:\n",
    "    for degree in degree_train_1_0_targets:\n",
    "        file.write(\"%i\\n\" % degree)\n",
    "        \n",
    "file.close()\n",
    "\n",
    "with open('../data/fold2/degreetrain01targets.txt', 'w') as file:\n",
    "    for degree in degree_train_0_1_targets:\n",
    "        file.write(\"%i\\n\" % degree)\n",
    "        \n",
    "file.close()\n",
    "\n",
    "textfile = open(\"../data/fold2/ligands.txt\", \"w\")\n",
    "for element in ligands:\n",
    "    textfile.write(element + \"\\n\")\n",
    "textfile.close()\n",
    "\n",
    "textfile = open(\"../data/fold2/targets.txt\", \"w\")\n",
    "for element in targets:\n",
    "    textfile.write(element + \"\\n\")\n",
    "textfile.close()"
   ]
  },
  {
   "cell_type": "markdown",
   "metadata": {
    "heading_collapsed": true
   },
   "source": [
    "# Randomly assigning SMILEs and Sequences"
   ]
  },
  {
   "cell_type": "code",
   "execution_count": 45,
   "metadata": {
    "hidden": true
   },
   "outputs": [],
   "source": [
    "def swapper(intake_list):\n",
    "    \n",
    "    swap_dict = {}\n",
    "    bag = set(intake_list)\n",
    "    buffer = set()\n",
    "    \n",
    "    for item in set(intake_list):\n",
    "        \n",
    "        if len(bag) > 0:\n",
    "            #selected = bag.pop()\n",
    "            selected = random.choice(list(bag))\n",
    "            bag.remove(selected)\n",
    "        else:\n",
    "            selected = random.choice(list(buffer))\n",
    "            buffer.remove(selected)\n",
    "        \n",
    "        if item != selected:\n",
    "            swap_dict.update({item:selected})\n",
    "        else:\n",
    "            print(f'Same item selected item {item} selected {selected}')\n",
    "            buffer.add(selected)\n",
    "    \n",
    "    assert len(bag) == 0, bag\n",
    "    \n",
    "    return swap_dict\n",
    "            "
   ]
  },
  {
   "cell_type": "code",
   "execution_count": 54,
   "metadata": {
    "hidden": true
   },
   "outputs": [],
   "source": [
    "fake_X_drug_mapping = swapper(list(X_drug))"
   ]
  },
  {
   "cell_type": "code",
   "execution_count": 55,
   "metadata": {
    "hidden": true,
    "scrolled": true
   },
   "outputs": [],
   "source": [
    "fake_X_target_mapping = swapper(list(X_target))"
   ]
  },
  {
   "cell_type": "code",
   "execution_count": 56,
   "metadata": {
    "hidden": true
   },
   "outputs": [],
   "source": [
    "correct_dataset = pd.DataFrame({'X_drug': X_drug, 'X_target': X_target, 'y': y})"
   ]
  },
  {
   "cell_type": "code",
   "execution_count": 57,
   "metadata": {
    "hidden": true
   },
   "outputs": [],
   "source": [
    "correct_dataset['fake_X_drug'] = correct_dataset['X_drug'].map(fake_X_drug_mapping)\n",
    "correct_dataset['fake_X_target'] = correct_dataset['X_target'].map(fake_X_target_mapping)"
   ]
  },
  {
   "cell_type": "code",
   "execution_count": 58,
   "metadata": {
    "hidden": true,
    "scrolled": true
   },
   "outputs": [
    {
     "name": "stdout",
     "output_type": "stream",
     "text": [
      "Empty DataFrame\n",
      "Columns: [X_drug, X_target, y, fake_X_drug, fake_X_target]\n",
      "Index: []\n",
      "Empty DataFrame\n",
      "Columns: [X_drug, X_target, y, fake_X_drug, fake_X_target]\n",
      "Index: []\n",
      "Empty DataFrame\n",
      "Columns: [X_drug, X_target, y, fake_X_drug, fake_X_target]\n",
      "Index: []\n",
      "Empty DataFrame\n",
      "Columns: [X_drug, X_target, y, fake_X_drug, fake_X_target]\n",
      "Index: []\n",
      "Empty DataFrame\n",
      "Columns: [X_drug, X_target, y, fake_X_drug, fake_X_target]\n",
      "Index: []\n"
     ]
    }
   ],
   "source": [
    "for column in correct_dataset.columns:\n",
    "    print(correct_dataset[correct_dataset[column].isna()])"
   ]
  },
  {
   "cell_type": "code",
   "execution_count": 59,
   "metadata": {
    "hidden": true
   },
   "outputs": [],
   "source": [
    "correct_dataset = correct_dataset[~correct_dataset['fake_X_drug'].isna()]"
   ]
  },
  {
   "cell_type": "code",
   "execution_count": 60,
   "metadata": {
    "hidden": true,
    "scrolled": true
   },
   "outputs": [
    {
     "name": "stdout",
     "output_type": "stream",
     "text": [
      "Drug Target Interaction Prediction Mode...\n",
      "in total: 70750 drug-target pairs\n",
      "encoding drug...\n",
      "unique drugs: 13392\n",
      "encoding protein...\n",
      "unique target sequence: 1507\n",
      "splitting dataset...\n",
      "Done.\n"
     ]
    }
   ],
   "source": [
    "drug_encoding = 'Transformer'\n",
    "target_encoding = 'CNN'\n",
    "train_shuffled, val_shuffled, test_shuffled = data_process(list(correct_dataset['fake_X_drug']), \n",
    "                                list(correct_dataset['fake_X_target']), \n",
    "                                y, \n",
    "                                drug_encoding, target_encoding, \n",
    "                                split_method='random',frac=[0.7,0.1,0.2])\n",
    "\n",
    "config = generate_config(drug_encoding = drug_encoding, \n",
    "                         target_encoding = target_encoding, \n",
    "                         cls_hidden_dims = [1024,1024,512], \n",
    "                         train_epoch = 100, \n",
    "                         LR = 0.001, \n",
    "                         batch_size = 128,\n",
    "                         cnn_target_filters = [32,64,96],\n",
    "                         cnn_target_kernels = [4,8,12]\n",
    "                        )"
   ]
  },
  {
   "cell_type": "code",
   "execution_count": 61,
   "metadata": {
    "hidden": true,
    "scrolled": true
   },
   "outputs": [
    {
     "name": "stdout",
     "output_type": "stream",
     "text": [
      "Let's use 4 GPUs!\n",
      "--- Data Preparation ---\n",
      "--- Go for Training ---\n",
      "Training at Epoch 1 iteration 0 with loss 0.69522. Total time 0.00388 hours\n",
      "Training at Epoch 1 iteration 100 with loss 0.38527. Total time 0.01416 hours\n",
      "Training at Epoch 1 iteration 200 with loss 0.33618. Total time 0.025 hours\n",
      "Training at Epoch 1 iteration 300 with loss 0.41231. Total time 0.03583 hours\n",
      "Validation at Epoch 1, AUROC: 0.80960 , AUPRC: 0.53892 , F1: 0.23394 , Cross-entropy Loss: 4.89156\n",
      "Training at Epoch 2 iteration 0 with loss 0.34507. Total time 0.05055 hours\n",
      "Training at Epoch 2 iteration 100 with loss 0.27344. Total time 0.06277 hours\n",
      "Training at Epoch 2 iteration 200 with loss 0.37364. Total time 0.07555 hours\n",
      "Training at Epoch 2 iteration 300 with loss 0.37443. Total time 0.09083 hours\n",
      "Validation at Epoch 2, AUROC: 0.82114 , AUPRC: 0.55638 , F1: 0.23394 , Cross-entropy Loss: 4.89156\n",
      "Training at Epoch 3 iteration 0 with loss 0.43185. Total time 0.11194 hours\n",
      "Training at Epoch 3 iteration 100 with loss 0.27401. Total time 0.13111 hours\n",
      "Training at Epoch 3 iteration 200 with loss 0.35907. Total time 0.15083 hours\n",
      "Training at Epoch 3 iteration 300 with loss 0.32927. Total time 0.17 hours\n",
      "Validation at Epoch 3, AUROC: 0.82722 , AUPRC: 0.57746 , F1: 0.39039 , Cross-entropy Loss: 4.71095\n",
      "Training at Epoch 4 iteration 0 with loss 0.23775. Total time 0.19361 hours\n",
      "Training at Epoch 4 iteration 100 with loss 0.34369. Total time 0.21333 hours\n",
      "Training at Epoch 4 iteration 200 with loss 0.36123. Total time 0.23277 hours\n",
      "Training at Epoch 4 iteration 300 with loss 0.30463. Total time 0.25222 hours\n",
      "Validation at Epoch 4, AUROC: 0.83033 , AUPRC: 0.58401 , F1: 0.46320 , Cross-entropy Loss: 4.59380\n",
      "Training at Epoch 5 iteration 0 with loss 0.34928. Total time 0.27555 hours\n",
      "Training at Epoch 5 iteration 100 with loss 0.31769. Total time 0.295 hours\n",
      "Training at Epoch 5 iteration 200 with loss 0.33102. Total time 0.31444 hours\n",
      "Training at Epoch 5 iteration 300 with loss 0.37235. Total time 0.33388 hours\n",
      "Validation at Epoch 5, AUROC: 0.83424 , AUPRC: 0.58829 , F1: 0.34706 , Cross-entropy Loss: 4.72071\n",
      "Training at Epoch 6 iteration 0 with loss 0.39729. Total time 0.35722 hours\n",
      "Training at Epoch 6 iteration 100 with loss 0.24105. Total time 0.37694 hours\n",
      "Training at Epoch 6 iteration 200 with loss 0.39264. Total time 0.39638 hours\n",
      "Training at Epoch 6 iteration 300 with loss 0.34063. Total time 0.41555 hours\n",
      "Validation at Epoch 6, AUROC: 0.83355 , AUPRC: 0.59547 , F1: 0.40990 , Cross-entropy Loss: 4.65237\n",
      "Training at Epoch 7 iteration 0 with loss 0.37131. Total time 0.43888 hours\n",
      "Training at Epoch 7 iteration 100 with loss 0.33478. Total time 0.45777 hours\n",
      "Training at Epoch 7 iteration 200 with loss 0.32825. Total time 0.47722 hours\n",
      "Training at Epoch 7 iteration 300 with loss 0.27331. Total time 0.49611 hours\n",
      "Validation at Epoch 7, AUROC: 0.83757 , AUPRC: 0.61056 , F1: 0.31646 , Cross-entropy Loss: 4.68165\n",
      "Training at Epoch 8 iteration 0 with loss 0.36089. Total time 0.51972 hours\n",
      "Training at Epoch 8 iteration 100 with loss 0.31168. Total time 0.53888 hours\n",
      "Training at Epoch 8 iteration 200 with loss 0.29142. Total time 0.55888 hours\n",
      "Training at Epoch 8 iteration 300 with loss 0.31403. Total time 0.57805 hours\n",
      "Validation at Epoch 8, AUROC: 0.83946 , AUPRC: 0.61167 , F1: 0.46199 , Cross-entropy Loss: 4.45710\n",
      "Training at Epoch 9 iteration 0 with loss 0.27384. Total time 0.60166 hours\n",
      "Training at Epoch 9 iteration 100 with loss 0.24958. Total time 0.62083 hours\n",
      "Training at Epoch 9 iteration 200 with loss 0.23348. Total time 0.64083 hours\n",
      "Training at Epoch 9 iteration 300 with loss 0.28148. Total time 0.66 hours\n",
      "Validation at Epoch 9, AUROC: 0.83755 , AUPRC: 0.60997 , F1: 0.42111 , Cross-entropy Loss: 4.54985\n",
      "Training at Epoch 10 iteration 0 with loss 0.29631. Total time 0.68361 hours\n",
      "Training at Epoch 10 iteration 100 with loss 0.36121. Total time 0.70333 hours\n",
      "Training at Epoch 10 iteration 200 with loss 0.29182. Total time 0.72277 hours\n",
      "Training at Epoch 10 iteration 300 with loss 0.33695. Total time 0.74222 hours\n",
      "Validation at Epoch 10, AUROC: 0.84070 , AUPRC: 0.61236 , F1: 0.48146 , Cross-entropy Loss: 4.43758\n",
      "Training at Epoch 11 iteration 0 with loss 0.34174. Total time 0.76583 hours\n",
      "Training at Epoch 11 iteration 100 with loss 0.27796. Total time 0.78527 hours\n",
      "Training at Epoch 11 iteration 200 with loss 0.35872. Total time 0.80472 hours\n",
      "Training at Epoch 11 iteration 300 with loss 0.26951. Total time 0.82416 hours\n",
      "Validation at Epoch 11, AUROC: 0.84234 , AUPRC: 0.61803 , F1: 0.36263 , Cross-entropy Loss: 4.53032\n",
      "Training at Epoch 12 iteration 0 with loss 0.25400. Total time 0.84777 hours\n",
      "Training at Epoch 12 iteration 100 with loss 0.29883. Total time 0.8675 hours\n",
      "Training at Epoch 12 iteration 200 with loss 0.29820. Total time 0.88722 hours\n",
      "Training at Epoch 12 iteration 300 with loss 0.21782. Total time 0.90666 hours\n",
      "Validation at Epoch 12, AUROC: 0.84252 , AUPRC: 0.61989 , F1: 0.51290 , Cross-entropy Loss: 4.33018\n",
      "Training at Epoch 13 iteration 0 with loss 0.20374. Total time 0.93027 hours\n",
      "Training at Epoch 13 iteration 100 with loss 0.24077. Total time 0.94972 hours\n",
      "Training at Epoch 13 iteration 200 with loss 0.28632. Total time 0.96944 hours\n",
      "Training at Epoch 13 iteration 300 with loss 0.34330. Total time 0.98861 hours\n",
      "Validation at Epoch 13, AUROC: 0.84183 , AUPRC: 0.62389 , F1: 0.46500 , Cross-entropy Loss: 4.40340\n",
      "Training at Epoch 14 iteration 0 with loss 0.32438. Total time 1.01194 hours\n",
      "Training at Epoch 14 iteration 100 with loss 0.25878. Total time 1.03138 hours\n",
      "Training at Epoch 14 iteration 200 with loss 0.39100. Total time 1.05083 hours\n",
      "Training at Epoch 14 iteration 300 with loss 0.25166. Total time 1.07027 hours\n",
      "Validation at Epoch 14, AUROC: 0.84489 , AUPRC: 0.61874 , F1: 0.46955 , Cross-entropy Loss: 4.42293\n",
      "Training at Epoch 15 iteration 0 with loss 0.28724. Total time 1.09388 hours\n",
      "Training at Epoch 15 iteration 100 with loss 0.27898. Total time 1.11333 hours\n",
      "Training at Epoch 15 iteration 200 with loss 0.26996. Total time 1.1325 hours\n",
      "Training at Epoch 15 iteration 300 with loss 0.20605. Total time 1.15222 hours\n",
      "Validation at Epoch 15, AUROC: 0.83837 , AUPRC: 0.61070 , F1: 0.46763 , Cross-entropy Loss: 4.45710\n",
      "Training at Epoch 16 iteration 0 with loss 0.30042. Total time 1.17555 hours\n",
      "Training at Epoch 16 iteration 100 with loss 0.38630. Total time 1.195 hours\n",
      "Training at Epoch 16 iteration 200 with loss 0.32817. Total time 1.21444 hours\n",
      "Training at Epoch 16 iteration 300 with loss 0.29643. Total time 1.23444 hours\n",
      "Validation at Epoch 16, AUROC: 0.84096 , AUPRC: 0.61850 , F1: 0.51180 , Cross-entropy Loss: 4.33994\n",
      "Training at Epoch 17 iteration 0 with loss 0.32869. Total time 1.25777 hours\n",
      "Training at Epoch 17 iteration 100 with loss 0.30675. Total time 1.27722 hours\n",
      "Training at Epoch 17 iteration 200 with loss 0.26344. Total time 1.29666 hours\n",
      "Training at Epoch 17 iteration 300 with loss 0.26097. Total time 1.31638 hours\n",
      "Validation at Epoch 17, AUROC: 0.84528 , AUPRC: 0.62468 , F1: 0.35748 , Cross-entropy Loss: 4.54496\n",
      "Training at Epoch 18 iteration 0 with loss 0.33168. Total time 1.34 hours\n",
      "Training at Epoch 18 iteration 100 with loss 0.25994. Total time 1.35944 hours\n",
      "Training at Epoch 18 iteration 200 with loss 0.39213. Total time 1.37861 hours\n",
      "Training at Epoch 18 iteration 300 with loss 0.32006. Total time 1.39805 hours\n",
      "Validation at Epoch 18, AUROC: 0.84308 , AUPRC: 0.61640 , F1: 0.50825 , Cross-entropy Loss: 4.36435\n",
      "Training at Epoch 19 iteration 0 with loss 0.22037. Total time 1.42138 hours\n",
      "Training at Epoch 19 iteration 100 with loss 0.33718. Total time 1.44055 hours\n",
      "Training at Epoch 19 iteration 200 with loss 0.23649. Total time 1.46 hours\n",
      "Training at Epoch 19 iteration 300 with loss 0.29813. Total time 1.47972 hours\n",
      "Validation at Epoch 19, AUROC: 0.84176 , AUPRC: 0.61296 , F1: 0.46451 , Cross-entropy Loss: 4.45710\n",
      "Training at Epoch 20 iteration 0 with loss 0.24330. Total time 1.50333 hours\n",
      "Training at Epoch 20 iteration 100 with loss 0.24659. Total time 1.5225 hours\n",
      "Training at Epoch 20 iteration 200 with loss 0.31131. Total time 1.54194 hours\n",
      "Training at Epoch 20 iteration 300 with loss 0.18417. Total time 1.56138 hours\n",
      "Validation at Epoch 20, AUROC: 0.84568 , AUPRC: 0.62447 , F1: 0.51503 , Cross-entropy Loss: 4.33018\n",
      "Training at Epoch 21 iteration 0 with loss 0.32044. Total time 1.58527 hours\n",
      "Training at Epoch 21 iteration 100 with loss 0.25653. Total time 1.60472 hours\n",
      "Training at Epoch 21 iteration 200 with loss 0.26834. Total time 1.62388 hours\n",
      "Training at Epoch 21 iteration 300 with loss 0.39364. Total time 1.64333 hours\n",
      "Validation at Epoch 21, AUROC: 0.84675 , AUPRC: 0.62513 , F1: 0.49576 , Cross-entropy Loss: 4.35947\n",
      "Training at Epoch 22 iteration 0 with loss 0.37405. Total time 1.66722 hours\n",
      "Training at Epoch 22 iteration 100 with loss 0.26717. Total time 1.68666 hours\n",
      "Training at Epoch 22 iteration 200 with loss 0.22215. Total time 1.70638 hours\n",
      "Training at Epoch 22 iteration 300 with loss 0.36237. Total time 1.72638 hours\n",
      "Validation at Epoch 22, AUROC: 0.84776 , AUPRC: 0.62750 , F1: 0.50506 , Cross-entropy Loss: 4.29600\n",
      "Training at Epoch 23 iteration 0 with loss 0.37983. Total time 1.75 hours\n",
      "Training at Epoch 23 iteration 100 with loss 0.29190. Total time 1.76944 hours\n",
      "Training at Epoch 23 iteration 200 with loss 0.24798. Total time 1.78888 hours\n",
      "Training at Epoch 23 iteration 300 with loss 0.23126. Total time 1.80861 hours\n",
      "Validation at Epoch 23, AUROC: 0.84603 , AUPRC: 0.62565 , F1: 0.53894 , Cross-entropy Loss: 4.27648\n",
      "Training at Epoch 24 iteration 0 with loss 0.26662. Total time 1.8325 hours\n",
      "Training at Epoch 24 iteration 100 with loss 0.2753. Total time 1.85194 hours\n",
      "Training at Epoch 24 iteration 200 with loss 0.30949. Total time 1.87083 hours\n",
      "Training at Epoch 24 iteration 300 with loss 0.28121. Total time 1.89027 hours\n",
      "Validation at Epoch 24, AUROC: 0.84510 , AUPRC: 0.62372 , F1: 0.5 , Cross-entropy Loss: 4.37411\n",
      "Training at Epoch 25 iteration 0 with loss 0.32418. Total time 1.91388 hours\n",
      "Training at Epoch 25 iteration 100 with loss 0.23838. Total time 1.93333 hours\n",
      "Training at Epoch 25 iteration 200 with loss 0.28020. Total time 1.9525 hours\n",
      "Training at Epoch 25 iteration 300 with loss 0.42267. Total time 1.97194 hours\n",
      "Validation at Epoch 25, AUROC: 0.84537 , AUPRC: 0.62398 , F1: 0.51511 , Cross-entropy Loss: 4.38388\n",
      "Training at Epoch 26 iteration 0 with loss 0.37789. Total time 1.99583 hours\n",
      "Training at Epoch 26 iteration 100 with loss 0.28827. Total time 2.01527 hours\n",
      "Training at Epoch 26 iteration 200 with loss 0.26158. Total time 2.03472 hours\n",
      "Training at Epoch 26 iteration 300 with loss 0.34890. Total time 2.05416 hours\n",
      "Validation at Epoch 26, AUROC: 0.84302 , AUPRC: 0.62195 , F1: 0.48428 , Cross-entropy Loss: 4.32529\n",
      "Training at Epoch 27 iteration 0 with loss 0.39248. Total time 2.07777 hours\n",
      "Training at Epoch 27 iteration 100 with loss 0.31731. Total time 2.09722 hours\n",
      "Training at Epoch 27 iteration 200 with loss 0.31745. Total time 2.11638 hours\n",
      "Training at Epoch 27 iteration 300 with loss 0.32660. Total time 2.13611 hours\n",
      "Validation at Epoch 27, AUROC: 0.84267 , AUPRC: 0.61485 , F1: 0.44241 , Cross-entropy Loss: 4.46686\n",
      "Training at Epoch 28 iteration 0 with loss 0.22354. Total time 2.16027 hours\n",
      "Training at Epoch 28 iteration 100 with loss 0.34304. Total time 2.17944 hours\n",
      "Training at Epoch 28 iteration 200 with loss 0.25967. Total time 2.19944 hours\n",
      "Training at Epoch 28 iteration 300 with loss 0.32458. Total time 2.21888 hours\n",
      "Validation at Epoch 28, AUROC: 0.84545 , AUPRC: 0.62236 , F1: 0.51637 , Cross-entropy Loss: 4.39853\n",
      "Training at Epoch 29 iteration 0 with loss 0.28760. Total time 2.24277 hours\n",
      "Training at Epoch 29 iteration 100 with loss 0.20592. Total time 2.26222 hours\n",
      "Training at Epoch 29 iteration 200 with loss 0.31606. Total time 2.28138 hours\n",
      "Training at Epoch 29 iteration 300 with loss 0.28641. Total time 2.30055 hours\n",
      "Validation at Epoch 29, AUROC: 0.84655 , AUPRC: 0.62770 , F1: 0.44880 , Cross-entropy Loss: 4.38875\n",
      "Training at Epoch 30 iteration 0 with loss 0.26046. Total time 2.32416 hours\n",
      "Training at Epoch 30 iteration 100 with loss 0.36149. Total time 2.34416 hours\n",
      "Training at Epoch 30 iteration 200 with loss 0.25094. Total time 2.36361 hours\n",
      "Training at Epoch 30 iteration 300 with loss 0.30995. Total time 2.38305 hours\n",
      "Validation at Epoch 30, AUROC: 0.83826 , AUPRC: 0.60075 , F1: 0.48328 , Cross-entropy Loss: 4.60356\n",
      "Training at Epoch 31 iteration 0 with loss 0.32423. Total time 2.40666 hours\n",
      "Training at Epoch 31 iteration 100 with loss 0.26332. Total time 2.42638 hours\n",
      "Training at Epoch 31 iteration 200 with loss 0.26331. Total time 2.44527 hours\n",
      "Training at Epoch 31 iteration 300 with loss 0.28122. Total time 2.46472 hours\n",
      "Validation at Epoch 31, AUROC: 0.84348 , AUPRC: 0.62413 , F1: 0.43396 , Cross-entropy Loss: 4.39363\n",
      "Training at Epoch 32 iteration 0 with loss 0.30141. Total time 2.48861 hours\n",
      "Training at Epoch 32 iteration 100 with loss 0.30028. Total time 2.50833 hours\n",
      "Training at Epoch 32 iteration 200 with loss 0.32108. Total time 2.5275 hours\n",
      "Training at Epoch 32 iteration 300 with loss 0.26956. Total time 2.54666 hours\n",
      "Validation at Epoch 32, AUROC: 0.84416 , AUPRC: 0.62075 , F1: 0.36363 , Cross-entropy Loss: 4.54496\n",
      "Training at Epoch 33 iteration 0 with loss 0.25067. Total time 2.57055 hours\n",
      "Training at Epoch 33 iteration 100 with loss 0.26227. Total time 2.59027 hours\n",
      "Training at Epoch 33 iteration 200 with loss 0.35806. Total time 2.60944 hours\n",
      "Training at Epoch 33 iteration 300 with loss 0.25254. Total time 2.62833 hours\n",
      "Validation at Epoch 33, AUROC: 0.84668 , AUPRC: 0.62466 , F1: 0.48009 , Cross-entropy Loss: 4.39852\n",
      "Training at Epoch 34 iteration 0 with loss 0.30175. Total time 2.65194 hours\n",
      "Training at Epoch 34 iteration 100 with loss 0.25469. Total time 2.67138 hours\n",
      "Training at Epoch 34 iteration 200 with loss 0.30516. Total time 2.69055 hours\n",
      "Training at Epoch 34 iteration 300 with loss 0.38037. Total time 2.70972 hours\n",
      "Validation at Epoch 34, AUROC: 0.84849 , AUPRC: 0.62530 , F1: 0.46310 , Cross-entropy Loss: 4.36923\n",
      "Training at Epoch 35 iteration 0 with loss 0.24699. Total time 2.73333 hours\n",
      "Training at Epoch 35 iteration 100 with loss 0.39604. Total time 2.75277 hours\n",
      "Training at Epoch 35 iteration 200 with loss 0.29846. Total time 2.77166 hours\n",
      "Training at Epoch 35 iteration 300 with loss 0.29727. Total time 2.79111 hours\n",
      "Validation at Epoch 35, AUROC: 0.84609 , AUPRC: 0.62706 , F1: 0.47854 , Cross-entropy Loss: 4.33017\n",
      "Training at Epoch 36 iteration 0 with loss 0.31650. Total time 2.815 hours\n",
      "Training at Epoch 36 iteration 100 with loss 0.28024. Total time 2.83444 hours\n",
      "Training at Epoch 36 iteration 200 with loss 0.23441. Total time 2.85388 hours\n",
      "Training at Epoch 36 iteration 300 with loss 0.28581. Total time 2.87277 hours\n",
      "Validation at Epoch 36, AUROC: 0.84180 , AUPRC: 0.61674 , F1: 0.37162 , Cross-entropy Loss: 4.54008\n",
      "Training at Epoch 37 iteration 0 with loss 0.32576. Total time 2.89694 hours\n",
      "Training at Epoch 37 iteration 100 with loss 0.31699. Total time 2.91583 hours\n",
      "Training at Epoch 37 iteration 200 with loss 0.27909. Total time 2.935 hours\n",
      "Training at Epoch 37 iteration 300 with loss 0.37628. Total time 2.95416 hours\n",
      "Validation at Epoch 37, AUROC: 0.84526 , AUPRC: 0.62459 , F1: 0.49078 , Cross-entropy Loss: 4.31553\n",
      "Training at Epoch 38 iteration 0 with loss 0.32571. Total time 2.97777 hours\n",
      "Training at Epoch 38 iteration 100 with loss 0.34466. Total time 2.99722 hours\n",
      "Training at Epoch 38 iteration 200 with loss 0.26125. Total time 3.01666 hours\n",
      "Training at Epoch 38 iteration 300 with loss 0.26827. Total time 3.03638 hours\n",
      "Validation at Epoch 38, AUROC: 0.84536 , AUPRC: 0.62649 , F1: 0.50533 , Cross-entropy Loss: 4.30089\n",
      "Training at Epoch 39 iteration 0 with loss 0.24297. Total time 3.06027 hours\n",
      "Training at Epoch 39 iteration 100 with loss 0.21455. Total time 3.08 hours\n",
      "Training at Epoch 39 iteration 200 with loss 0.35524. Total time 3.09944 hours\n",
      "Training at Epoch 39 iteration 300 with loss 0.27449. Total time 3.11861 hours\n",
      "Validation at Epoch 39, AUROC: 0.84279 , AUPRC: 0.62037 , F1: 0.40596 , Cross-entropy Loss: 4.47174\n",
      "Training at Epoch 40 iteration 0 with loss 0.31036. Total time 3.14277 hours\n",
      "Training at Epoch 40 iteration 100 with loss 0.25736. Total time 3.16222 hours\n",
      "Training at Epoch 40 iteration 200 with loss 0.20097. Total time 3.18138 hours\n",
      "Training at Epoch 40 iteration 300 with loss 0.25806. Total time 3.20111 hours\n",
      "Validation at Epoch 40, AUROC: 0.84438 , AUPRC: 0.62498 , F1: 0.43063 , Cross-entropy Loss: 4.42780\n",
      "Training at Epoch 41 iteration 0 with loss 0.23565. Total time 3.22472 hours\n",
      "Training at Epoch 41 iteration 100 with loss 0.29464. Total time 3.24416 hours\n",
      "Training at Epoch 41 iteration 200 with loss 0.21207. Total time 3.26361 hours\n",
      "Training at Epoch 41 iteration 300 with loss 0.30486. Total time 3.28277 hours\n",
      "Validation at Epoch 41, AUROC: 0.84744 , AUPRC: 0.62766 , F1: 0.49544 , Cross-entropy Loss: 4.32529\n",
      "Training at Epoch 42 iteration 0 with loss 0.34782. Total time 3.30666 hours\n",
      "Training at Epoch 42 iteration 100 with loss 0.25123. Total time 3.32611 hours\n",
      "Training at Epoch 42 iteration 200 with loss 0.27675. Total time 3.34583 hours\n",
      "Training at Epoch 42 iteration 300 with loss 0.30927. Total time 3.365 hours\n",
      "Validation at Epoch 42, AUROC: 0.84722 , AUPRC: 0.63076 , F1: 0.43483 , Cross-entropy Loss: 4.33993\n",
      "Training at Epoch 43 iteration 0 with loss 0.26853. Total time 3.38861 hours\n",
      "Training at Epoch 43 iteration 100 with loss 0.29604. Total time 3.40805 hours\n",
      "Training at Epoch 43 iteration 200 with loss 0.46499. Total time 3.4275 hours\n",
      "Training at Epoch 43 iteration 300 with loss 0.25913. Total time 3.44694 hours\n",
      "Validation at Epoch 43, AUROC: 0.84472 , AUPRC: 0.62907 , F1: 0.45571 , Cross-entropy Loss: 4.34970\n",
      "Training at Epoch 44 iteration 0 with loss 0.28872. Total time 3.47055 hours\n",
      "Training at Epoch 44 iteration 100 with loss 0.25708. Total time 3.49027 hours\n",
      "Training at Epoch 44 iteration 200 with loss 0.30693. Total time 3.50916 hours\n",
      "Training at Epoch 44 iteration 300 with loss 0.27475. Total time 3.52888 hours\n",
      "Validation at Epoch 44, AUROC: 0.84499 , AUPRC: 0.62863 , F1: 0.49338 , Cross-entropy Loss: 4.30088\n",
      "Training at Epoch 45 iteration 0 with loss 0.35571. Total time 3.55277 hours\n",
      "Training at Epoch 45 iteration 100 with loss 0.27303. Total time 3.57222 hours\n",
      "Training at Epoch 45 iteration 200 with loss 0.21988. Total time 3.59111 hours\n",
      "Training at Epoch 45 iteration 300 with loss 0.24016. Total time 3.61027 hours\n",
      "Validation at Epoch 45, AUROC: 0.84666 , AUPRC: 0.63132 , F1: 0.50677 , Cross-entropy Loss: 4.26671\n",
      "Training at Epoch 46 iteration 0 with loss 0.27338. Total time 3.63416 hours\n",
      "Training at Epoch 46 iteration 100 with loss 0.27549. Total time 3.65416 hours\n",
      "Training at Epoch 46 iteration 200 with loss 0.34629. Total time 3.67333 hours\n",
      "Training at Epoch 46 iteration 300 with loss 0.34768. Total time 3.69222 hours\n",
      "Validation at Epoch 46, AUROC: 0.84356 , AUPRC: 0.61802 , F1: 0.41807 , Cross-entropy Loss: 4.52544\n",
      "Training at Epoch 47 iteration 0 with loss 0.18185. Total time 3.71638 hours\n",
      "Training at Epoch 47 iteration 100 with loss 0.24485. Total time 3.73666 hours\n",
      "Training at Epoch 47 iteration 200 with loss 0.25105. Total time 3.75611 hours\n",
      "Training at Epoch 47 iteration 300 with loss 0.24356. Total time 3.77555 hours\n",
      "Validation at Epoch 47, AUROC: 0.84480 , AUPRC: 0.62779 , F1: 0.43057 , Cross-entropy Loss: 4.36434\n",
      "Training at Epoch 48 iteration 0 with loss 0.29058. Total time 3.79972 hours\n",
      "Training at Epoch 48 iteration 100 with loss 0.24982. Total time 3.81916 hours\n",
      "Training at Epoch 48 iteration 200 with loss 0.21504. Total time 3.83861 hours\n",
      "Training at Epoch 48 iteration 300 with loss 0.25663. Total time 3.85805 hours\n",
      "Validation at Epoch 48, AUROC: 0.84343 , AUPRC: 0.62191 , F1: 0.54309 , Cross-entropy Loss: 4.29601\n",
      "Training at Epoch 49 iteration 0 with loss 0.18555. Total time 3.88194 hours\n",
      "Training at Epoch 49 iteration 100 with loss 0.25462. Total time 3.90138 hours\n",
      "Training at Epoch 49 iteration 200 with loss 0.30942. Total time 3.92055 hours\n",
      "Training at Epoch 49 iteration 300 with loss 0.25537. Total time 3.93972 hours\n",
      "Validation at Epoch 49, AUROC: 0.84486 , AUPRC: 0.62336 , F1: 0.47663 , Cross-entropy Loss: 4.37411\n",
      "Training at Epoch 50 iteration 0 with loss 0.30123. Total time 3.96333 hours\n",
      "Training at Epoch 50 iteration 100 with loss 0.34282. Total time 3.98361 hours\n",
      "Training at Epoch 50 iteration 200 with loss 0.20943. Total time 4.00277 hours\n",
      "Training at Epoch 50 iteration 300 with loss 0.19116. Total time 4.0225 hours\n",
      "Validation at Epoch 50, AUROC: 0.84222 , AUPRC: 0.62519 , F1: 0.48182 , Cross-entropy Loss: 4.31553\n",
      "Training at Epoch 51 iteration 0 with loss 0.30601. Total time 4.04638 hours\n",
      "Training at Epoch 51 iteration 100 with loss 0.26193. Total time 4.06555 hours\n",
      "Training at Epoch 51 iteration 200 with loss 0.29623. Total time 4.08444 hours\n",
      "Training at Epoch 51 iteration 300 with loss 0.24654. Total time 4.10388 hours\n",
      "Validation at Epoch 51, AUROC: 0.84527 , AUPRC: 0.62652 , F1: 0.50310 , Cross-entropy Loss: 4.29112\n",
      "Training at Epoch 52 iteration 0 with loss 0.26343. Total time 4.1275 hours\n",
      "Training at Epoch 52 iteration 100 with loss 0.32454. Total time 4.14722 hours\n",
      "Training at Epoch 52 iteration 200 with loss 0.26017. Total time 4.16638 hours\n",
      "Training at Epoch 52 iteration 300 with loss 0.32386. Total time 4.18555 hours\n",
      "Validation at Epoch 52, AUROC: 0.84250 , AUPRC: 0.62020 , F1: 0.40026 , Cross-entropy Loss: 4.46197\n",
      "Training at Epoch 53 iteration 0 with loss 0.29933. Total time 4.20944 hours\n",
      "Training at Epoch 53 iteration 100 with loss 0.36868. Total time 4.22861 hours\n",
      "Training at Epoch 53 iteration 200 with loss 0.18061. Total time 4.24777 hours\n",
      "Training at Epoch 53 iteration 300 with loss 0.31816. Total time 4.26722 hours\n",
      "Validation at Epoch 53, AUROC: 0.84717 , AUPRC: 0.62706 , F1: 0.42820 , Cross-entropy Loss: 4.39363\n",
      "Training at Epoch 54 iteration 0 with loss 0.26182. Total time 4.29055 hours\n",
      "Training at Epoch 54 iteration 100 with loss 0.20839. Total time 4.31 hours\n",
      "Training at Epoch 54 iteration 200 with loss 0.22476. Total time 4.32972 hours\n",
      "Training at Epoch 54 iteration 300 with loss 0.31901. Total time 4.34888 hours\n",
      "Validation at Epoch 54, AUROC: 0.84517 , AUPRC: 0.62560 , F1: 0.48837 , Cross-entropy Loss: 4.29600\n",
      "Training at Epoch 55 iteration 0 with loss 0.35962. Total time 4.3725 hours\n",
      "Training at Epoch 55 iteration 100 with loss 0.28894. Total time 4.39194 hours\n",
      "Training at Epoch 55 iteration 200 with loss 0.30657. Total time 4.41111 hours\n",
      "Training at Epoch 55 iteration 300 with loss 0.29458. Total time 4.43055 hours\n",
      "Validation at Epoch 55, AUROC: 0.84919 , AUPRC: 0.63613 , F1: 0.49449 , Cross-entropy Loss: 4.26183\n",
      "Training at Epoch 56 iteration 0 with loss 0.36463. Total time 4.45444 hours\n",
      "Training at Epoch 56 iteration 100 with loss 0.24673. Total time 4.47444 hours\n",
      "Training at Epoch 56 iteration 200 with loss 0.39417. Total time 4.49361 hours\n",
      "Training at Epoch 56 iteration 300 with loss 0.24953. Total time 4.51361 hours\n",
      "Validation at Epoch 56, AUROC: 0.84758 , AUPRC: 0.62928 , F1: 0.39630 , Cross-entropy Loss: 4.46197\n",
      "Training at Epoch 57 iteration 0 with loss 0.25679. Total time 4.53722 hours\n",
      "Training at Epoch 57 iteration 100 with loss 0.33190. Total time 4.55666 hours\n",
      "Training at Epoch 57 iteration 200 with loss 0.25133. Total time 4.57638 hours\n",
      "Training at Epoch 57 iteration 300 with loss 0.35824. Total time 4.59583 hours\n",
      "Validation at Epoch 57, AUROC: 0.84468 , AUPRC: 0.62233 , F1: 0.43290 , Cross-entropy Loss: 4.47662\n",
      "Training at Epoch 58 iteration 0 with loss 0.24589. Total time 4.61972 hours\n",
      "Training at Epoch 58 iteration 100 with loss 0.30044. Total time 4.63944 hours\n",
      "Training at Epoch 58 iteration 200 with loss 0.24424. Total time 4.65888 hours\n",
      "Training at Epoch 58 iteration 300 with loss 0.24521. Total time 4.67861 hours\n",
      "Validation at Epoch 58, AUROC: 0.84659 , AUPRC: 0.62805 , F1: 0.46722 , Cross-entropy Loss: 4.36434\n",
      "Training at Epoch 59 iteration 0 with loss 0.24477. Total time 4.70222 hours\n",
      "Training at Epoch 59 iteration 100 with loss 0.35218. Total time 4.72194 hours\n",
      "Training at Epoch 59 iteration 200 with loss 0.29842. Total time 4.74111 hours\n",
      "Training at Epoch 59 iteration 300 with loss 0.22457. Total time 4.76055 hours\n",
      "Validation at Epoch 59, AUROC: 0.84750 , AUPRC: 0.62724 , F1: 0.47798 , Cross-entropy Loss: 4.33994\n",
      "Training at Epoch 60 iteration 0 with loss 0.32126. Total time 4.78416 hours\n",
      "Training at Epoch 60 iteration 100 with loss 0.32261. Total time 4.80388 hours\n",
      "Training at Epoch 60 iteration 200 with loss 0.26778. Total time 4.82333 hours\n",
      "Training at Epoch 60 iteration 300 with loss 0.35246. Total time 4.84305 hours\n",
      "Validation at Epoch 60, AUROC: 0.84823 , AUPRC: 0.62939 , F1: 0.50919 , Cross-entropy Loss: 4.30089\n",
      "Training at Epoch 61 iteration 0 with loss 0.29109. Total time 4.86694 hours\n",
      "Training at Epoch 61 iteration 100 with loss 0.27565. Total time 4.88666 hours\n",
      "Training at Epoch 61 iteration 200 with loss 0.28891. Total time 4.90583 hours\n",
      "Training at Epoch 61 iteration 300 with loss 0.77843. Total time 4.92555 hours\n",
      "Validation at Epoch 61, AUROC: 0.84489 , AUPRC: 0.60256 , F1: 0.48861 , Cross-entropy Loss: 4.38388\n",
      "Training at Epoch 62 iteration 0 with loss 0.40358. Total time 4.94944 hours\n",
      "Training at Epoch 62 iteration 100 with loss 0.20543. Total time 4.96888 hours\n",
      "Training at Epoch 62 iteration 200 with loss 0.24808. Total time 4.98805 hours\n",
      "Training at Epoch 62 iteration 300 with loss 0.36589. Total time 5.0075 hours\n",
      "Validation at Epoch 62, AUROC: 0.84555 , AUPRC: 0.62788 , F1: 0.43308 , Cross-entropy Loss: 4.38387\n",
      "Training at Epoch 63 iteration 0 with loss 0.35077. Total time 5.03111 hours\n",
      "Training at Epoch 63 iteration 100 with loss 0.32097. Total time 5.05027 hours\n",
      "Training at Epoch 63 iteration 200 with loss 0.36975. Total time 5.06944 hours\n",
      "Training at Epoch 63 iteration 300 with loss 0.26574. Total time 5.08916 hours\n",
      "Validation at Epoch 63, AUROC: 0.84670 , AUPRC: 0.63013 , F1: 0.52087 , Cross-entropy Loss: 4.25695\n",
      "Training at Epoch 64 iteration 0 with loss 0.32201. Total time 5.11305 hours\n",
      "Training at Epoch 64 iteration 100 with loss 0.25995. Total time 5.1325 hours\n",
      "Training at Epoch 64 iteration 200 with loss 0.28477. Total time 5.15194 hours\n",
      "Training at Epoch 64 iteration 300 with loss 0.28813. Total time 5.17166 hours\n",
      "Validation at Epoch 64, AUROC: 0.84612 , AUPRC: 0.62860 , F1: 0.48732 , Cross-entropy Loss: 4.34482\n",
      "Training at Epoch 65 iteration 0 with loss 0.31181. Total time 5.19555 hours\n",
      "Training at Epoch 65 iteration 100 with loss 0.25510. Total time 5.21472 hours\n",
      "Training at Epoch 65 iteration 200 with loss 0.23734. Total time 5.23361 hours\n",
      "Training at Epoch 65 iteration 300 with loss 0.30570. Total time 5.25333 hours\n",
      "Validation at Epoch 65, AUROC: 0.84522 , AUPRC: 0.62722 , F1: 0.47831 , Cross-entropy Loss: 4.34482\n",
      "Training at Epoch 66 iteration 0 with loss 0.20249. Total time 5.27666 hours\n",
      "Training at Epoch 66 iteration 100 with loss 0.32170. Total time 5.29611 hours\n",
      "Training at Epoch 66 iteration 200 with loss 0.38333. Total time 5.31527 hours\n",
      "Training at Epoch 66 iteration 300 with loss 0.23959. Total time 5.33472 hours\n",
      "Validation at Epoch 66, AUROC: 0.84707 , AUPRC: 0.62937 , F1: 0.42118 , Cross-entropy Loss: 4.37410\n",
      "Training at Epoch 67 iteration 0 with loss 0.37462. Total time 5.35861 hours\n",
      "Training at Epoch 67 iteration 100 with loss 0.30524. Total time 5.37833 hours\n",
      "Training at Epoch 67 iteration 200 with loss 0.34480. Total time 5.3975 hours\n",
      "Training at Epoch 67 iteration 300 with loss 0.25352. Total time 5.41722 hours\n",
      "Validation at Epoch 67, AUROC: 0.84845 , AUPRC: 0.63243 , F1: 0.41356 , Cross-entropy Loss: 4.38875\n",
      "Training at Epoch 68 iteration 0 with loss 0.23939. Total time 5.44111 hours\n",
      "Training at Epoch 68 iteration 100 with loss 0.28981. Total time 5.46055 hours\n",
      "Training at Epoch 68 iteration 200 with loss 0.26577. Total time 5.47972 hours\n",
      "Training at Epoch 68 iteration 300 with loss 0.28891. Total time 5.49944 hours\n",
      "Validation at Epoch 68, AUROC: 0.84496 , AUPRC: 0.62497 , F1: 0.49290 , Cross-entropy Loss: 4.35947\n",
      "Training at Epoch 69 iteration 0 with loss 0.30442. Total time 5.52305 hours\n",
      "Training at Epoch 69 iteration 100 with loss 0.28589. Total time 5.54222 hours\n",
      "Training at Epoch 69 iteration 200 with loss 0.35656. Total time 5.56222 hours\n",
      "Training at Epoch 69 iteration 300 with loss 0.32638. Total time 5.5825 hours\n",
      "Validation at Epoch 69, AUROC: 0.84665 , AUPRC: 0.62768 , F1: 0.43887 , Cross-entropy Loss: 4.36922\n",
      "Training at Epoch 70 iteration 0 with loss 0.25789. Total time 5.60666 hours\n",
      "Training at Epoch 70 iteration 100 with loss 0.23024. Total time 5.62583 hours\n",
      "Training at Epoch 70 iteration 200 with loss 0.32060. Total time 5.645 hours\n",
      "Training at Epoch 70 iteration 300 with loss 0.33175. Total time 5.66472 hours\n",
      "Validation at Epoch 70, AUROC: 0.84647 , AUPRC: 0.62216 , F1: 0.47635 , Cross-entropy Loss: 4.37899\n",
      "Training at Epoch 71 iteration 0 with loss 0.38374. Total time 5.68888 hours\n",
      "Training at Epoch 71 iteration 100 with loss 0.35354. Total time 5.70861 hours\n",
      "Training at Epoch 71 iteration 200 with loss 0.21761. Total time 5.72777 hours\n",
      "Training at Epoch 71 iteration 300 with loss 0.22979. Total time 5.74777 hours\n",
      "Validation at Epoch 71, AUROC: 0.84635 , AUPRC: 0.62669 , F1: 0.50726 , Cross-entropy Loss: 4.30577\n",
      "Training at Epoch 72 iteration 0 with loss 0.32460. Total time 5.77138 hours\n",
      "Training at Epoch 72 iteration 100 with loss 0.25715. Total time 5.79083 hours\n",
      "Training at Epoch 72 iteration 200 with loss 0.33584. Total time 5.81027 hours\n",
      "Training at Epoch 72 iteration 300 with loss 0.29640. Total time 5.83 hours\n",
      "Validation at Epoch 72, AUROC: 0.84700 , AUPRC: 0.63040 , F1: 0.34410 , Cross-entropy Loss: 4.55960\n",
      "Training at Epoch 73 iteration 0 with loss 0.19706. Total time 5.85361 hours\n",
      "Training at Epoch 73 iteration 100 with loss 0.30957. Total time 5.87277 hours\n",
      "Training at Epoch 73 iteration 200 with loss 0.34852. Total time 5.8925 hours\n",
      "Training at Epoch 73 iteration 300 with loss 0.25204. Total time 5.91194 hours\n",
      "Validation at Epoch 73, AUROC: 0.84701 , AUPRC: 0.63172 , F1: 0.50925 , Cross-entropy Loss: 4.27159\n",
      "Training at Epoch 74 iteration 0 with loss 0.35307. Total time 5.93583 hours\n",
      "Training at Epoch 74 iteration 100 with loss 0.28826. Total time 5.95472 hours\n",
      "Training at Epoch 74 iteration 200 with loss 0.31960. Total time 5.97416 hours\n",
      "Training at Epoch 74 iteration 300 with loss 0.26906. Total time 5.99388 hours\n",
      "Validation at Epoch 74, AUROC: 0.84572 , AUPRC: 0.61799 , F1: 0.54143 , Cross-entropy Loss: 4.34971\n",
      "Training at Epoch 75 iteration 0 with loss 0.35185. Total time 6.0175 hours\n",
      "Training at Epoch 75 iteration 100 with loss 0.30593. Total time 6.03694 hours\n",
      "Training at Epoch 75 iteration 200 with loss 0.35904. Total time 6.05722 hours\n",
      "Training at Epoch 75 iteration 300 with loss 0.31041. Total time 6.07722 hours\n",
      "Validation at Epoch 75, AUROC: 0.84680 , AUPRC: 0.62614 , F1: 0.44444 , Cross-entropy Loss: 4.36922\n",
      "Training at Epoch 76 iteration 0 with loss 0.34674. Total time 6.10111 hours\n",
      "Training at Epoch 76 iteration 100 with loss 0.35063. Total time 6.12055 hours\n",
      "Training at Epoch 76 iteration 200 with loss 0.29439. Total time 6.14 hours\n",
      "Training at Epoch 76 iteration 300 with loss 0.21264. Total time 6.15972 hours\n",
      "Validation at Epoch 76, AUROC: 0.84611 , AUPRC: 0.62694 , F1: 0.48594 , Cross-entropy Loss: 4.28624\n",
      "Training at Epoch 77 iteration 0 with loss 0.26618. Total time 6.18333 hours\n",
      "Training at Epoch 77 iteration 100 with loss 0.31597. Total time 6.20277 hours\n",
      "Training at Epoch 77 iteration 200 with loss 0.34145. Total time 6.22194 hours\n",
      "Training at Epoch 77 iteration 300 with loss 0.25652. Total time 6.24166 hours\n",
      "Validation at Epoch 77, AUROC: 0.84514 , AUPRC: 0.62488 , F1: 0.49943 , Cross-entropy Loss: 4.31553\n",
      "Training at Epoch 78 iteration 0 with loss 0.33717. Total time 6.265 hours\n",
      "Training at Epoch 78 iteration 100 with loss 0.26736. Total time 6.28444 hours\n",
      "Training at Epoch 78 iteration 200 with loss 0.33241. Total time 6.30416 hours\n",
      "Training at Epoch 78 iteration 300 with loss 0.31432. Total time 6.32361 hours\n",
      "Validation at Epoch 78, AUROC: 0.84458 , AUPRC: 0.62278 , F1: 0.52794 , Cross-entropy Loss: 4.33018\n",
      "Training at Epoch 79 iteration 0 with loss 0.34335. Total time 6.34722 hours\n",
      "Training at Epoch 79 iteration 100 with loss 0.29857. Total time 6.36638 hours\n",
      "Training at Epoch 79 iteration 200 with loss 0.35734. Total time 6.38611 hours\n",
      "Training at Epoch 79 iteration 300 with loss 0.26740. Total time 6.40583 hours\n",
      "Validation at Epoch 79, AUROC: 0.84654 , AUPRC: 0.62365 , F1: 0.49234 , Cross-entropy Loss: 4.36923\n",
      "Training at Epoch 80 iteration 0 with loss 0.35643. Total time 6.42944 hours\n",
      "Training at Epoch 80 iteration 100 with loss 0.27526. Total time 6.44888 hours\n",
      "Training at Epoch 80 iteration 200 with loss 0.32907. Total time 6.46833 hours\n",
      "Training at Epoch 80 iteration 300 with loss 0.23406. Total time 6.48805 hours\n",
      "Validation at Epoch 80, AUROC: 0.84569 , AUPRC: 0.62693 , F1: 0.49971 , Cross-entropy Loss: 4.29112\n",
      "Training at Epoch 81 iteration 0 with loss 0.33854. Total time 6.51194 hours\n",
      "Training at Epoch 81 iteration 100 with loss 0.34049. Total time 6.53111 hours\n",
      "Training at Epoch 81 iteration 200 with loss 0.32970. Total time 6.55055 hours\n",
      "Training at Epoch 81 iteration 300 with loss 0.23668. Total time 6.57055 hours\n",
      "Validation at Epoch 81, AUROC: 0.84810 , AUPRC: 0.62913 , F1: 0.42408 , Cross-entropy Loss: 4.38875\n",
      "Training at Epoch 82 iteration 0 with loss 0.21045. Total time 6.59416 hours\n",
      "Training at Epoch 82 iteration 100 with loss 0.27208. Total time 6.61333 hours\n",
      "Training at Epoch 82 iteration 200 with loss 0.30994. Total time 6.63277 hours\n",
      "Training at Epoch 82 iteration 300 with loss 0.23098. Total time 6.6525 hours\n",
      "Validation at Epoch 82, AUROC: 0.84361 , AUPRC: 0.62244 , F1: 0.42435 , Cross-entropy Loss: 4.38387\n",
      "Training at Epoch 83 iteration 0 with loss 0.23792. Total time 6.67611 hours\n",
      "Training at Epoch 83 iteration 100 with loss 0.40018. Total time 6.695 hours\n",
      "Training at Epoch 83 iteration 200 with loss 0.31470. Total time 6.71416 hours\n",
      "Training at Epoch 83 iteration 300 with loss 0.37244. Total time 6.73416 hours\n",
      "Validation at Epoch 83, AUROC: 0.84724 , AUPRC: 0.62731 , F1: 0.50477 , Cross-entropy Loss: 4.30089\n",
      "Training at Epoch 84 iteration 0 with loss 0.33349. Total time 6.75777 hours\n",
      "Training at Epoch 84 iteration 100 with loss 0.30993. Total time 6.77694 hours\n",
      "Training at Epoch 84 iteration 200 with loss 0.24698. Total time 6.79583 hours\n",
      "Training at Epoch 84 iteration 300 with loss 0.26173. Total time 6.81583 hours\n",
      "Validation at Epoch 84, AUROC: 0.84769 , AUPRC: 0.62748 , F1: 0.53925 , Cross-entropy Loss: 4.35460\n",
      "Training at Epoch 85 iteration 0 with loss 0.20799. Total time 6.83944 hours\n",
      "Training at Epoch 85 iteration 100 with loss 0.30070. Total time 6.85888 hours\n",
      "Training at Epoch 85 iteration 200 with loss 0.37488. Total time 6.87777 hours\n",
      "Training at Epoch 85 iteration 300 with loss 0.37153. Total time 6.8975 hours\n",
      "Validation at Epoch 85, AUROC: 0.84982 , AUPRC: 0.63049 , F1: 0.50644 , Cross-entropy Loss: 4.30089\n",
      "Training at Epoch 86 iteration 0 with loss 0.30663. Total time 6.92083 hours\n",
      "Training at Epoch 86 iteration 100 with loss 0.32735. Total time 6.94027 hours\n",
      "Training at Epoch 86 iteration 200 with loss 0.22574. Total time 6.95972 hours\n",
      "Training at Epoch 86 iteration 300 with loss 0.22190. Total time 6.97972 hours\n",
      "Validation at Epoch 86, AUROC: 0.84892 , AUPRC: 0.63218 , F1: 0.47971 , Cross-entropy Loss: 4.32041\n",
      "Training at Epoch 87 iteration 0 with loss 0.23706. Total time 7.00333 hours\n",
      "Training at Epoch 87 iteration 100 with loss 0.28072. Total time 7.02305 hours\n",
      "Training at Epoch 87 iteration 200 with loss 0.30336. Total time 7.04194 hours\n",
      "Training at Epoch 87 iteration 300 with loss 0.24985. Total time 7.06166 hours\n",
      "Validation at Epoch 87, AUROC: 0.84725 , AUPRC: 0.63112 , F1: 0.53504 , Cross-entropy Loss: 4.24231\n",
      "Training at Epoch 88 iteration 0 with loss 0.31975. Total time 7.08527 hours\n",
      "Training at Epoch 88 iteration 100 with loss 0.39638. Total time 7.10472 hours\n",
      "Training at Epoch 88 iteration 200 with loss 0.30456. Total time 7.12388 hours\n",
      "Training at Epoch 88 iteration 300 with loss 0.29264. Total time 7.14388 hours\n",
      "Validation at Epoch 88, AUROC: 0.84510 , AUPRC: 0.62820 , F1: 0.39278 , Cross-entropy Loss: 4.43756\n",
      "Training at Epoch 89 iteration 0 with loss 0.34302. Total time 7.16722 hours\n",
      "Training at Epoch 89 iteration 100 with loss 0.32141. Total time 7.18638 hours\n",
      "Training at Epoch 89 iteration 200 with loss 0.43237. Total time 7.20527 hours\n",
      "Training at Epoch 89 iteration 300 with loss 0.32029. Total time 7.225 hours\n",
      "Validation at Epoch 89, AUROC: 0.84784 , AUPRC: 0.62574 , F1: 0.47156 , Cross-entropy Loss: 4.35458\n",
      "Training at Epoch 90 iteration 0 with loss 0.29481. Total time 7.24833 hours\n",
      "Training at Epoch 90 iteration 100 with loss 0.31289. Total time 7.26805 hours\n",
      "Training at Epoch 90 iteration 200 with loss 0.29010. Total time 7.28805 hours\n",
      "Training at Epoch 90 iteration 300 with loss 0.35096. Total time 7.30805 hours\n",
      "Validation at Epoch 90, AUROC: 0.84540 , AUPRC: 0.62443 , F1: 0.49052 , Cross-entropy Loss: 4.33017\n",
      "Training at Epoch 91 iteration 0 with loss 0.25758. Total time 7.33194 hours\n",
      "Training at Epoch 91 iteration 100 with loss 0.32509. Total time 7.35111 hours\n",
      "Training at Epoch 91 iteration 200 with loss 0.28998. Total time 7.37111 hours\n",
      "Training at Epoch 91 iteration 300 with loss 0.30849. Total time 7.39111 hours\n",
      "Validation at Epoch 91, AUROC: 0.84756 , AUPRC: 0.62770 , F1: 0.49136 , Cross-entropy Loss: 4.31553\n",
      "Training at Epoch 92 iteration 0 with loss 0.28887. Total time 7.41444 hours\n",
      "Training at Epoch 92 iteration 100 with loss 0.32251. Total time 7.43388 hours\n",
      "Training at Epoch 92 iteration 200 with loss 0.29130. Total time 7.45333 hours\n",
      "Training at Epoch 92 iteration 300 with loss 0.19424. Total time 7.47361 hours\n",
      "Validation at Epoch 92, AUROC: 0.85186 , AUPRC: 0.62965 , F1: 0.43417 , Cross-entropy Loss: 4.36434\n",
      "Training at Epoch 93 iteration 0 with loss 0.30094. Total time 7.49694 hours\n",
      "Training at Epoch 93 iteration 100 with loss 0.27507. Total time 7.51611 hours\n",
      "Training at Epoch 93 iteration 200 with loss 0.36376. Total time 7.53527 hours\n",
      "Training at Epoch 93 iteration 300 with loss 0.41726. Total time 7.555 hours\n",
      "Validation at Epoch 93, AUROC: 0.84736 , AUPRC: 0.62152 , F1: 0.49972 , Cross-entropy Loss: 4.38876\n",
      "Training at Epoch 94 iteration 0 with loss 0.31485. Total time 7.57805 hours\n",
      "Training at Epoch 94 iteration 100 with loss 0.23936. Total time 7.59722 hours\n",
      "Training at Epoch 94 iteration 200 with loss 0.28315. Total time 7.61694 hours\n",
      "Training at Epoch 94 iteration 300 with loss 0.40281. Total time 7.63694 hours\n",
      "Validation at Epoch 94, AUROC: 0.84746 , AUPRC: 0.62822 , F1: 0.47844 , Cross-entropy Loss: 4.31064\n",
      "Training at Epoch 95 iteration 0 with loss 0.34888. Total time 7.66055 hours\n",
      "Training at Epoch 95 iteration 100 with loss 0.25175. Total time 7.68 hours\n",
      "Training at Epoch 95 iteration 200 with loss 0.28194. Total time 7.69972 hours\n",
      "Training at Epoch 95 iteration 300 with loss 0.31649. Total time 7.71944 hours\n",
      "Validation at Epoch 95, AUROC: 0.84861 , AUPRC: 0.63078 , F1: 0.47780 , Cross-entropy Loss: 4.36435\n",
      "Training at Epoch 96 iteration 0 with loss 0.31923. Total time 7.74277 hours\n",
      "Training at Epoch 96 iteration 100 with loss 0.25585. Total time 7.76194 hours\n",
      "Training at Epoch 96 iteration 200 with loss 0.28182. Total time 7.78166 hours\n",
      "Training at Epoch 96 iteration 300 with loss 0.32397. Total time 7.80138 hours\n",
      "Validation at Epoch 96, AUROC: 0.84978 , AUPRC: 0.63026 , F1: 0.44014 , Cross-entropy Loss: 4.38387\n",
      "Training at Epoch 97 iteration 0 with loss 0.25285. Total time 7.82527 hours\n",
      "Training at Epoch 97 iteration 100 with loss 0.22172. Total time 7.84416 hours\n",
      "Training at Epoch 97 iteration 200 with loss 0.23073. Total time 7.86388 hours\n",
      "Training at Epoch 97 iteration 300 with loss 0.28434. Total time 7.88333 hours\n",
      "Validation at Epoch 97, AUROC: 0.84838 , AUPRC: 0.63002 , F1: 0.47399 , Cross-entropy Loss: 4.34482\n",
      "Training at Epoch 98 iteration 0 with loss 0.25538. Total time 7.90666 hours\n",
      "Training at Epoch 98 iteration 100 with loss 0.28929. Total time 7.92583 hours\n",
      "Training at Epoch 98 iteration 200 with loss 0.46080. Total time 7.94555 hours\n",
      "Training at Epoch 98 iteration 300 with loss 0.27113. Total time 7.96527 hours\n",
      "Validation at Epoch 98, AUROC: 0.84652 , AUPRC: 0.62252 , F1: 0.50196 , Cross-entropy Loss: 4.32041\n",
      "Training at Epoch 99 iteration 0 with loss 0.29505. Total time 7.98888 hours\n",
      "Training at Epoch 99 iteration 100 with loss 0.20097. Total time 8.00833 hours\n",
      "Training at Epoch 99 iteration 200 with loss 0.28377. Total time 8.02833 hours\n",
      "Training at Epoch 99 iteration 300 with loss 0.31317. Total time 8.04805 hours\n",
      "Validation at Epoch 99, AUROC: 0.84802 , AUPRC: 0.62945 , F1: 0.48920 , Cross-entropy Loss: 4.27159\n",
      "Training at Epoch 100 iteration 0 with loss 0.30429. Total time 8.07166 hours\n",
      "Training at Epoch 100 iteration 100 with loss 0.24514. Total time 8.09027 hours\n",
      "Training at Epoch 100 iteration 200 with loss 0.25329. Total time 8.11 hours\n",
      "Training at Epoch 100 iteration 300 with loss 0.28590. Total time 8.12944 hours\n",
      "Validation at Epoch 100, AUROC: 0.84684 , AUPRC: 0.62533 , F1: 0.49971 , Cross-entropy Loss: 4.32041\n",
      "--- Go for Testing ---\n",
      "Validation at Epoch 100 , AUROC: 0.84230 , AUPRC: 0.61987 , F1: 0.43149 , Cross-entropy Loss: 4.40583\n",
      "--- Training Finished ---\n"
     ]
    },
    {
     "data": {
      "image/png": "[encoded data removed]",
      "text/plain": [
       "<Figure size 432x288 with 1 Axes>"
      ]
     },
     "metadata": {
      "needs_background": "light"
     },
     "output_type": "display_data"
    },
    {
     "data": {
      "image/png": "[encoded data removed]",
      "text/plain": [
       "<Figure size 432x288 with 1 Axes>"
      ]
     },
     "metadata": {
      "needs_background": "light"
     },
     "output_type": "display_data"
    },
    {
     "data": {
      "image/png": "[encoded data removed]",
      "text/plain": [
       "<Figure size 432x288 with 1 Axes>"
      ]
     },
     "metadata": {
      "needs_background": "light"
     },
     "output_type": "display_data"
    }
   ],
   "source": [
    "model_shuffled = models.model_initialize(**config)\n",
    "model_shuffled.train(train_shuffled, val_shuffled, test_shuffled)"
   ]
  },
  {
   "cell_type": "markdown",
   "metadata": {
    "heading_collapsed": true
   },
   "source": [
    "# Performances for Unseen Edges, Unseen Targets and Unseen Nodes"
   ]
  },
  {
   "cell_type": "code",
   "execution_count": 19,
   "metadata": {
    "hidden": true,
    "scrolled": true
   },
   "outputs": [],
   "source": [
    "train_ligands = list(set(train['SMILES'].tolist()))\n",
    "train_targets = list(set(train['Target Sequence'].tolist()))\n",
    "\n",
    "test_minus_train_ligands = list(set(test['SMILES'].tolist()).difference(train_ligands))\n",
    "test_minus_train_targets = list(set(test['Target Sequence'].tolist()).difference(train_targets))"
   ]
  },
  {
   "cell_type": "code",
   "execution_count": 53,
   "metadata": {
    "hidden": true
   },
   "outputs": [
    {
     "name": "stdout",
     "output_type": "stream",
     "text": [
      "Seen ligands:  10432\n",
      "Seen targets:  1396\n",
      "Unseen ligands:  2026\n",
      "Unseen targets:  80\n"
     ]
    }
   ],
   "source": [
    "print('Seen ligands: ', len(train_ligands))\n",
    "print('Seen targets: ', len(train_targets))\n",
    "print('Unseen ligands: ', len(test_minus_train_ligands))\n",
    "print('Unseen targets: ', len(test_minus_train_targets))"
   ]
  },
  {
   "cell_type": "code",
   "execution_count": 54,
   "metadata": {
    "hidden": true,
    "scrolled": true
   },
   "outputs": [
    {
     "name": "stdout",
     "output_type": "stream",
     "text": [
      "Unseen edges:  11924\n",
      "AUC:  0.813642776941615\n",
      "AUP:  0.48733153937486784\n"
     ]
    }
   ],
   "source": [
    "# Unseen Edges\n",
    "\n",
    "test_unseen_edges = test[test['SMILES'].isin(train_ligands) & test['Target Sequence'].isin(train_targets)]\n",
    "print('Unseen edges: ', len(test_unseen_edges))\n",
    "\n",
    "print('AUC: ', roc_auc_score(test_unseen_edges['Label'].tolist(), test_unseen_edges['Y_predicted']))\n",
    "print('AUP: ', average_precision_score(test_unseen_edges['Label'].tolist(), test_unseen_edges['Y_predicted']))"
   ]
  },
  {
   "cell_type": "code",
   "execution_count": 27,
   "metadata": {
    "hidden": true,
    "scrolled": true
   },
   "outputs": [
    {
     "name": "stdout",
     "output_type": "stream",
     "text": [
      "Unseen targets:  87\n",
      "AUC:  0.810344827586207\n",
      "AUP:  0.7695693900674137\n"
     ]
    }
   ],
   "source": [
    "# Unseen Targets\n",
    "\n",
    "test_unseen_targets = test[test['Target Sequence'].isin(test_minus_train_targets)]\n",
    "print('Unseen targets: ', len(test_unseen_targets))\n",
    "\n",
    "print('AUC: ', roc_auc_score(test_unseen_targets['Label'].tolist(), test_unseen_targets['Y_predicted']))\n",
    "print('AUP: ', average_precision_score(test_unseen_targets['Label'].tolist(), test_unseen_targets['Y_predicted']))"
   ]
  },
  {
   "cell_type": "code",
   "execution_count": 56,
   "metadata": {
    "hidden": true
   },
   "outputs": [
    {
     "name": "stdout",
     "output_type": "stream",
     "text": [
      "Unseen nodes:  35\n",
      "AUC:  0.5854700854700854\n",
      "AUP:  0.3620314597874205\n"
     ]
    }
   ],
   "source": [
    "# Unseen Nodes\n",
    "\n",
    "test_unseen_nodes = test[test['SMILES'].isin(test_minus_train_ligands) & test['Target Sequence'].isin(test_minus_train_targets)]\n",
    "print('Unseen nodes: ', len(test_unseen_nodes))\n",
    "\n",
    "print('AUC: ', roc_auc_score(test_unseen_nodes['Label'].tolist(), test_unseen_nodes['Y_predicted']))\n",
    "print('AUP: ', average_precision_score(test_unseen_nodes['Label'].tolist(), test_unseen_nodes['Y_predicted']))"
   ]
  },
  {
   "cell_type": "code",
   "execution_count": 9,
   "metadata": {
    "collapsed": true
   },
   "outputs": [
    {
     "name": "stdout",
     "output_type": "stream",
     "text": [
      "Unseen nodes:  0\n"
     ]
    },
    {
     "name": "stderr",
     "output_type": "stream",
     "text": [
      "/miniconda/envs/DeepPurpose/lib/python3.7/site-packages/IPython/core/interactiveshell.py:3063: DtypeWarning: Columns (8,20,21,22,23) have mixed types.Specify dtype option on import or set low_memory=False.\n",
      "  interactivity=interactivity, compiler=compiler, result=result)\n"
     ]
    },
    {
     "ename": "ValueError",
     "evalue": "Found array with 0 sample(s) (shape=(0,)) while a minimum of 1 is required.",
     "output_type": "error",
     "traceback": [
      "\u001b[0;31m---------------------------------------------------------------------------\u001b[0m",
      "\u001b[0;31mValueError\u001b[0m                                Traceback (most recent call last)",
      "\u001b[0;32m<ipython-input-9-370c9d104f53>\u001b[0m in \u001b[0;36m<module>\u001b[0;34m\u001b[0m\n\u001b[1;32m      6\u001b[0m \u001b[0mprint\u001b[0m\u001b[0;34m(\u001b[0m\u001b[0;34m'Unseen nodes: '\u001b[0m\u001b[0;34m,\u001b[0m \u001b[0mlen\u001b[0m\u001b[0;34m(\u001b[0m\u001b[0mtest_unseen_nodes\u001b[0m\u001b[0;34m)\u001b[0m\u001b[0;34m)\u001b[0m\u001b[0;34m\u001b[0m\u001b[0;34m\u001b[0m\u001b[0m\n\u001b[1;32m      7\u001b[0m \u001b[0;34m\u001b[0m\u001b[0m\n\u001b[0;32m----> 8\u001b[0;31m \u001b[0mprint\u001b[0m\u001b[0;34m(\u001b[0m\u001b[0;34m'AUC: '\u001b[0m\u001b[0;34m,\u001b[0m \u001b[0mroc_auc_score\u001b[0m\u001b[0;34m(\u001b[0m\u001b[0mtest_unseen_nodes\u001b[0m\u001b[0;34m[\u001b[0m\u001b[0;34m'Label'\u001b[0m\u001b[0;34m]\u001b[0m\u001b[0;34m.\u001b[0m\u001b[0mtolist\u001b[0m\u001b[0;34m(\u001b[0m\u001b[0;34m)\u001b[0m\u001b[0;34m,\u001b[0m \u001b[0mtest_unseen_nodes\u001b[0m\u001b[0;34m[\u001b[0m\u001b[0;34m'Y_predicted'\u001b[0m\u001b[0;34m]\u001b[0m\u001b[0;34m)\u001b[0m\u001b[0;34m)\u001b[0m\u001b[0;34m\u001b[0m\u001b[0;34m\u001b[0m\u001b[0m\n\u001b[0m\u001b[1;32m      9\u001b[0m \u001b[0mprint\u001b[0m\u001b[0;34m(\u001b[0m\u001b[0;34m'AUP: '\u001b[0m\u001b[0;34m,\u001b[0m \u001b[0maverage_precision_score\u001b[0m\u001b[0;34m(\u001b[0m\u001b[0mtest_unseen_nodes\u001b[0m\u001b[0;34m[\u001b[0m\u001b[0;34m'Label'\u001b[0m\u001b[0;34m]\u001b[0m\u001b[0;34m.\u001b[0m\u001b[0mtolist\u001b[0m\u001b[0;34m(\u001b[0m\u001b[0;34m)\u001b[0m\u001b[0;34m,\u001b[0m \u001b[0mtest_unseen_nodes\u001b[0m\u001b[0;34m[\u001b[0m\u001b[0;34m'Y_predicted'\u001b[0m\u001b[0;34m]\u001b[0m\u001b[0;34m)\u001b[0m\u001b[0;34m)\u001b[0m\u001b[0;34m\u001b[0m\u001b[0;34m\u001b[0m\u001b[0m\n",
      "\u001b[0;32m/miniconda/envs/DeepPurpose/lib/python3.7/site-packages/sklearn/metrics/_ranking.py\u001b[0m in \u001b[0;36mroc_auc_score\u001b[0;34m(y_true, y_score, average, sample_weight, max_fpr, multi_class, labels)\u001b[0m\n\u001b[1;32m    366\u001b[0m \u001b[0;34m\u001b[0m\u001b[0m\n\u001b[1;32m    367\u001b[0m     \u001b[0my_type\u001b[0m \u001b[0;34m=\u001b[0m \u001b[0mtype_of_target\u001b[0m\u001b[0;34m(\u001b[0m\u001b[0my_true\u001b[0m\u001b[0;34m)\u001b[0m\u001b[0;34m\u001b[0m\u001b[0;34m\u001b[0m\u001b[0m\n\u001b[0;32m--> 368\u001b[0;31m     \u001b[0my_true\u001b[0m \u001b[0;34m=\u001b[0m \u001b[0mcheck_array\u001b[0m\u001b[0;34m(\u001b[0m\u001b[0my_true\u001b[0m\u001b[0;34m,\u001b[0m \u001b[0mensure_2d\u001b[0m\u001b[0;34m=\u001b[0m\u001b[0;32mFalse\u001b[0m\u001b[0;34m,\u001b[0m \u001b[0mdtype\u001b[0m\u001b[0;34m=\u001b[0m\u001b[0;32mNone\u001b[0m\u001b[0;34m)\u001b[0m\u001b[0;34m\u001b[0m\u001b[0;34m\u001b[0m\u001b[0m\n\u001b[0m\u001b[1;32m    369\u001b[0m     \u001b[0my_score\u001b[0m \u001b[0;34m=\u001b[0m \u001b[0mcheck_array\u001b[0m\u001b[0;34m(\u001b[0m\u001b[0my_score\u001b[0m\u001b[0;34m,\u001b[0m \u001b[0mensure_2d\u001b[0m\u001b[0;34m=\u001b[0m\u001b[0;32mFalse\u001b[0m\u001b[0;34m)\u001b[0m\u001b[0;34m\u001b[0m\u001b[0;34m\u001b[0m\u001b[0m\n\u001b[1;32m    370\u001b[0m \u001b[0;34m\u001b[0m\u001b[0m\n",
      "\u001b[0;32m/miniconda/envs/DeepPurpose/lib/python3.7/site-packages/sklearn/utils/validation.py\u001b[0m in \u001b[0;36mcheck_array\u001b[0;34m(array, accept_sparse, accept_large_sparse, dtype, order, copy, force_all_finite, ensure_2d, allow_nd, ensure_min_samples, ensure_min_features, warn_on_dtype, estimator)\u001b[0m\n\u001b[1;32m    584\u001b[0m                              \u001b[0;34m\" minimum of %d is required%s.\"\u001b[0m\u001b[0;34m\u001b[0m\u001b[0;34m\u001b[0m\u001b[0m\n\u001b[1;32m    585\u001b[0m                              % (n_samples, array.shape, ensure_min_samples,\n\u001b[0;32m--> 586\u001b[0;31m                                 context))\n\u001b[0m\u001b[1;32m    587\u001b[0m \u001b[0;34m\u001b[0m\u001b[0m\n\u001b[1;32m    588\u001b[0m     \u001b[0;32mif\u001b[0m \u001b[0mensure_min_features\u001b[0m \u001b[0;34m>\u001b[0m \u001b[0;36m0\u001b[0m \u001b[0;32mand\u001b[0m \u001b[0marray\u001b[0m\u001b[0;34m.\u001b[0m\u001b[0mndim\u001b[0m \u001b[0;34m==\u001b[0m \u001b[0;36m2\u001b[0m\u001b[0;34m:\u001b[0m\u001b[0;34m\u001b[0m\u001b[0;34m\u001b[0m\u001b[0m\n",
      "\u001b[0;31mValueError\u001b[0m: Found array with 0 sample(s) (shape=(0,)) while a minimum of 1 is required."
     ]
    }
   ],
   "source": [
    "NDM = pd.read_csv('../data/NDM_Master.csv')\n",
    "\n",
    "# Unseen Nodes - Natural Ligands\n",
    "\n",
    "test_unseen_nodes = test[test['SMILES'].isin(test_minus_train_ligands) & test['SMILES'].isin(NDM['SMILE'].tolist()) & test['Target Sequence'].isin(test_minus_train_targets)]\n",
    "print('Unseen nodes: ', len(test_unseen_nodes))\n",
    "\n",
    "print('AUC: ', roc_auc_score(test_unseen_nodes['Label'].tolist(), test_unseen_nodes['Y_predicted']))\n",
    "print('AUP: ', average_precision_score(test_unseen_nodes['Label'].tolist(), test_unseen_nodes['Y_predicted']))"
   ]
  },
  {
   "cell_type": "code",
   "execution_count": 57,
   "metadata": {
    "hidden": true,
    "scrolled": true
   },
   "outputs": [
    {
     "name": "stdout",
     "output_type": "stream",
     "text": [
      "Total ligands:  10432\n",
      "Total targets:  1396\n",
      "Ligands with only positive:  3130\n",
      "Targets with only positive:  175\n",
      "Ligands with only negative:  6520\n",
      "Targets with only negative:  558\n"
     ]
    }
   ],
   "source": [
    "train_pos = train[train['Label'] == 1]\n",
    "train_neg = train[train['Label'] == 0]\n",
    "\n",
    "ligands_1 = set(train_pos['SMILES'].tolist())\n",
    "ligands_0 = set(train_neg['SMILES'].tolist())\n",
    "targets_1 = set(train_pos['Target Sequence'].tolist())\n",
    "targets_0 = set(train_neg['Target Sequence'].tolist())\n",
    "\n",
    "print('Total ligands: ', len(list(set(train['SMILES'].tolist()))))\n",
    "print('Total targets: ', len(list(set(train['Target Sequence'].tolist()))))\n",
    "print('Ligands with only positive: ', len(list(ligands_1.difference(ligands_0))))\n",
    "print('Targets with only positive: ', len(list(targets_1.difference(targets_0))))\n",
    "print('Ligands with only negative: ', len(list(ligands_0.difference(ligands_1))))\n",
    "print('Targets with only negative: ', len(list(targets_0.difference(targets_1))))"
   ]
  },
  {
   "cell_type": "markdown",
   "metadata": {
    "hidden": true
   },
   "source": [
    "# Duplex Configuration Model"
   ]
  },
  {
   "cell_type": "code",
   "execution_count": 34,
   "metadata": {},
   "outputs": [],
   "source": [
    "train_pos = train[train['Label'] == 1]\n",
    "train_neg = train[train['Label'] == 0]"
   ]
  },
  {
   "cell_type": "code",
   "execution_count": 35,
   "metadata": {},
   "outputs": [
    {
     "name": "stderr",
     "output_type": "stream",
     "text": [
      "100%|██████████| 10432/10432 [01:08<00:00, 151.70it/s]\n",
      "100%|██████████| 1396/1396 [00:09<00:00, 153.48it/s]"
     ]
    },
    {
     "name": "stdout",
     "output_type": "stream",
     "text": [
      "Ligands with positive degree 0:  6520\n",
      "Ligands with negative degree 0:  3130\n",
      "Targets with positive degree 0:  558\n",
      "Targets with negative degree 0:  175\n"
     ]
    },
    {
     "name": "stderr",
     "output_type": "stream",
     "text": [
      "\n"
     ]
    }
   ],
   "source": [
    "pos_deg_0_ligands = []\n",
    "pos_deg_0_targets = []\n",
    "neg_deg_0_ligands = []\n",
    "neg_deg_0_targets = []\n",
    "\n",
    "ligand_degree_ratio = dict()\n",
    "ligand_all_average = []\n",
    "\n",
    "for ligand in tqdm(ligands):\n",
    "    pos_deg = len(train_pos[train_pos['SMILES'] == ligand])\n",
    "    neg_deg = len(train_neg[train_neg['SMILES'] == ligand])\n",
    "    ligand_degree_ratio[ligand] = dict()\n",
    "    ligand_degree_ratio[ligand]['deg_ratio'] = pos_deg / (pos_deg + neg_deg)\n",
    "    ligand_degree_ratio[ligand]['deg_avg'] = pos_deg / number_targets \n",
    "    ligand_all_average.append(pos_deg / number_targets)\n",
    "    if pos_deg == 0:\n",
    "        pos_deg_0_ligands.append(ligand)\n",
    "    if neg_deg == 0:\n",
    "        neg_deg_0_ligands.append(ligand)\n",
    "    \n",
    "ligands_all_avg = sum(ligand_all_average) / number_ligands\n",
    "\n",
    "targets_degree_ratio = dict()\n",
    "target_all_average = []\n",
    "\n",
    "for target in tqdm(targets):\n",
    "    pos_deg = len(train_pos[train_pos['Target Sequence'] == target])\n",
    "    neg_deg = len(train_neg[train_neg['Target Sequence'] == target])\n",
    "    targets_degree_ratio[target] = dict()\n",
    "    targets_degree_ratio[target]['deg_ratio'] = pos_deg / (pos_deg + neg_deg)\n",
    "    targets_degree_ratio[target]['deg_avg'] = pos_deg / number_ligands\n",
    "    target_all_average.append(pos_deg / number_ligands)\n",
    "    if pos_deg == 0:\n",
    "        pos_deg_0_targets.append(target)\n",
    "    if neg_deg == 0:\n",
    "        neg_deg_0_targets.append(target)\n",
    "    \n",
    "targets_all_avg = sum(target_all_average) / number_targets\n",
    "\n",
    "print('Ligands with positive degree 0: ',len(pos_deg_0_ligands))\n",
    "print('Ligands with negative degree 0: ',len(neg_deg_0_ligands))\n",
    "print('Targets with positive degree 0: ',len(pos_deg_0_targets))\n",
    "print('Targets with negative degree 0: ',len(neg_deg_0_targets))"
   ]
  },
  {
   "cell_type": "code",
   "execution_count": 36,
   "metadata": {},
   "outputs": [],
   "source": [
    "## Annotated means the node has at least 1 binding information\n",
    "\n",
    "pos_annotated_ligands = list(set(ligands)-set(pos_deg_0_ligands))\n",
    "pos_annotated_targets = list(set(targets)-set(pos_deg_0_targets))\n",
    "\n",
    "neg_annotated_ligands = list(set(ligands)-set(neg_deg_0_ligands))\n",
    "neg_annotated_targets = list(set(targets)-set(neg_deg_0_targets))"
   ]
  },
  {
   "cell_type": "code",
   "execution_count": 37,
   "metadata": {},
   "outputs": [],
   "source": [
    "summat10 = np.loadtxt(open(\"../data/fold2/summat10.csv\", \"rb\"), delimiter=\",\", skiprows=0) # Output of MATLAB run \n",
    "summat01 = np.loadtxt(open(\"../data/fold2/summat01.csv\", \"rb\"), delimiter=\",\", skiprows=0) # Output of MATLAB run "
   ]
  },
  {
   "cell_type": "code",
   "execution_count": 38,
   "metadata": {},
   "outputs": [
    {
     "name": "stderr",
     "output_type": "stream",
     "text": [
      "14150it [00:05, 2507.27it/s]\n"
     ]
    }
   ],
   "source": [
    "test_probabilty_predicted_conditioned = []\n",
    "\n",
    "## Average conditional probability\n",
    "p10_avg = np.mean(summat10)\n",
    "p01_avg = np.mean(summat01)\n",
    "average_conditional_probability = p10_avg / (p10_avg + p01_avg)\n",
    "\n",
    "for index, row in tqdm(test.iterrows()):      \n",
    "    \n",
    "    if row['SMILES'] in pos_annotated_ligands and row['Target Sequence'] in pos_annotated_targets:\n",
    "        p10 = summat10[ligands.index(row['SMILES']),targets.index(row['Target Sequence'])]\n",
    "        p01 = summat01[ligands.index(row['SMILES']),targets.index(row['Target Sequence'])]\n",
    "        p10_conditioned = p10 / (p10 + p01)\n",
    "        test_probabilty_predicted_conditioned.append(p10_conditioned)\n",
    "        \n",
    "    elif row['SMILES'] in pos_annotated_ligands and row['Target Sequence'] not in pos_annotated_targets:\n",
    "        p10_conditioned = ligand_degree_ratio[row['SMILES']]['deg_ratio']  ## k_+ / (k_+ + k_-)\n",
    "        test_probabilty_predicted_conditioned.append(p10_conditioned)\n",
    "        \n",
    "    elif row['SMILES'] not in pos_annotated_ligands and row['Target Sequence'] in pos_annotated_targets:\n",
    "        p10_conditioned = targets_degree_ratio[row['Target Sequence']]['deg_ratio'] ## k_+ / (k_+ + k_-)\n",
    "        test_probabilty_predicted_conditioned.append(p10_conditioned)\n",
    "\n",
    "    else:\n",
    "        p10_conditioned = average_conditional_probability\n",
    "        test_probabilty_predicted_conditioned.append(p10_conditioned)\n",
    "        "
   ]
  },
  {
   "cell_type": "code",
   "execution_count": 39,
   "metadata": {
    "scrolled": true
   },
   "outputs": [
    {
     "name": "stdout",
     "output_type": "stream",
     "text": [
      "AUC:  0.8549358336202968\n",
      "AUP:  0.614324871127027\n"
     ]
    }
   ],
   "source": [
    "## Performance on the test dataset\n",
    "\n",
    "print('AUC: ', roc_auc_score(test['Label'].tolist(), test_probabilty_predicted_conditioned))\n",
    "print('AUP: ', average_precision_score(test['Label'].tolist(), test_probabilty_predicted_conditioned))"
   ]
  },
  {
   "cell_type": "code",
   "execution_count": 40,
   "metadata": {},
   "outputs": [],
   "source": [
    "test['duplex_config_prediction'] = test_probabilty_predicted_conditioned"
   ]
  },
  {
   "cell_type": "code",
   "execution_count": 41,
   "metadata": {},
   "outputs": [
    {
     "name": "stdout",
     "output_type": "stream",
     "text": [
      "Unseen edges:  11924\n",
      "AUC:  0.839660460769833\n",
      "AUP:  0.5092746354822048\n"
     ]
    }
   ],
   "source": [
    "# Unseen Edges\n",
    "\n",
    "test_unseen_edges = test[test['SMILES'].isin(train_ligands) & test['Target Sequence'].isin(train_targets)]\n",
    "print('Unseen edges: ', len(test_unseen_edges))\n",
    "\n",
    "print('AUC: ', roc_auc_score(test_unseen_edges['Label'].tolist(), test_unseen_edges['duplex_config_prediction']))\n",
    "print('AUP: ', average_precision_score(test_unseen_edges['Label'].tolist(), test_unseen_edges['duplex_config_prediction']))"
   ]
  },
  {
   "cell_type": "code",
   "execution_count": 42,
   "metadata": {
    "scrolled": true
   },
   "outputs": [
    {
     "name": "stdout",
     "output_type": "stream",
     "text": [
      "Unseen targets:  87\n",
      "AUC:  0.8225326991676576\n",
      "AUP:  0.7758620689655173\n"
     ]
    }
   ],
   "source": [
    "# Unseen Targets\n",
    "\n",
    "test_unseen_targets = test[test['Target Sequence'].isin(test_minus_train_targets)]\n",
    "print('Unseen targets: ', len(test_unseen_targets))\n",
    "\n",
    "print('AUC: ', roc_auc_score(test_unseen_targets['Label'].tolist(), test_unseen_targets['duplex_config_prediction']))\n",
    "print('AUP: ', average_precision_score(test_unseen_targets['Label'].tolist(), test_unseen_targets['duplex_config_prediction']))"
   ]
  },
  {
   "cell_type": "code",
   "execution_count": 43,
   "metadata": {},
   "outputs": [
    {
     "name": "stdout",
     "output_type": "stream",
     "text": [
      "Unseen nodes:  35\n",
      "AUC:  0.5\n",
      "AUP:  0.2571428571428571\n"
     ]
    }
   ],
   "source": [
    "# Unseen Nodes\n",
    "\n",
    "test_unseen_nodes = test[test['SMILES'].isin(test_minus_train_ligands) & test['Target Sequence'].isin(test_minus_train_targets)]\n",
    "print('Unseen nodes: ', len(test_unseen_nodes))\n",
    "\n",
    "print('AUC: ', roc_auc_score(test_unseen_nodes['Label'].tolist(), test_unseen_nodes['duplex_config_prediction']))\n",
    "print('AUP: ', average_precision_score(test_unseen_nodes['Label'].tolist(), test_unseen_nodes['duplex_config_prediction']))"
   ]
  },
  {
   "cell_type": "code",
   "execution_count": null,
   "metadata": {},
   "outputs": [],
   "source": []
  }
 ],
 "metadata": {
  "kernelspec": {
   "display_name": "DeepPurpose",
   "language": "python",
   "name": "deeppurpose"
  },
  "language_info": {
   "codemirror_mode": {
    "name": "ipython",
    "version": 3
   },
   "file_extension": ".py",
   "mimetype": "text/x-python",
   "name": "python",
   "nbconvert_exporter": "python",
   "pygments_lexer": "ipython3",
   "version": "3.7.7"
  },
  "toc": {
   "base_numbering": 1,
   "nav_menu": {},
   "number_sections": true,
   "sideBar": true,
   "skip_h1_title": false,
   "title_cell": "Table of Contents",
   "title_sidebar": "Contents",
   "toc_cell": false,
   "toc_position": {},
   "toc_section_display": true,
   "toc_window_display": false
  }
 },
 "nbformat": 4,
 "nbformat_minor": 4
}
