{
 "cells": [
  {
   "cell_type": "markdown",
   "metadata": {
    "heading_collapsed": true
   },
   "source": [
    "# Imports"
   ]
  },
  {
   "cell_type": "code",
   "execution_count": 8,
   "metadata": {
    "hidden": true
   },
   "outputs": [],
   "source": [
    "import os\n",
    "os.chdir('/DeepPurpose/')\n",
    "\n",
    "import DeepPurpose.DTI as models\n",
    "from DeepPurpose.utils import *\n",
    "from DeepPurpose.dataset import *\n",
    "import random\n",
    "from sklearn.metrics import confusion_matrix, f1_score, classification_report\n",
    "from sklearn.metrics import roc_curve, roc_auc_score, precision_recall_curve, average_precision_score\n",
    "from sklearn.metrics import confusion_matrix, f1_score, classification_report\n",
    "import matplotlib.pyplot as plt\n",
    "from tqdm import tqdm\n",
    "import pandas as pd\n",
    "from matplotlib.pyplot import figure\n",
    "import numpy as np"
   ]
  },
  {
   "cell_type": "code",
   "execution_count": 2,
   "metadata": {
    "hidden": true
   },
   "outputs": [],
   "source": [
    "# load_process_DAVIS()"
   ]
  },
  {
   "cell_type": "code",
   "execution_count": 3,
   "metadata": {
    "hidden": true
   },
   "outputs": [],
   "source": [
    "# download_BindingDB()"
   ]
  },
  {
   "cell_type": "code",
   "execution_count": 40,
   "metadata": {
    "hidden": true,
    "scrolled": true
   },
   "outputs": [
    {
     "name": "stdout",
     "output_type": "stream",
     "text": [
      "Loading Dataset from path...\n"
     ]
    },
    {
     "name": "stderr",
     "output_type": "stream",
     "text": [
      "b'Skipping line 896772: expected 193 fields, saw 205\\nSkipping line 896798: expected 193 fields, saw 205\\n'\n",
      "b'Skipping line 929491: expected 193 fields, saw 205\\n'\n",
      "b'Skipping line 952161: expected 193 fields, saw 265\\n'\n",
      "b'Skipping line 1355895: expected 193 fields, saw 241\\n'\n",
      "b'Skipping line 1469800: expected 193 fields, saw 241\\nSkipping line 1469801: expected 193 fields, saw 241\\nSkipping line 1469802: expected 193 fields, saw 241\\nSkipping line 1469803: expected 193 fields, saw 241\\nSkipping line 1469804: expected 193 fields, saw 241\\nSkipping line 1469805: expected 193 fields, saw 241\\nSkipping line 1469806: expected 193 fields, saw 241\\nSkipping line 1469807: expected 193 fields, saw 241\\nSkipping line 1469808: expected 193 fields, saw 241\\n'\n",
      "b'Skipping line 1483073: expected 193 fields, saw 205\\n'\n",
      "b'Skipping line 1502296: expected 193 fields, saw 241\\nSkipping line 1502297: expected 193 fields, saw 241\\nSkipping line 1502298: expected 193 fields, saw 241\\nSkipping line 1502299: expected 193 fields, saw 241\\nSkipping line 1502300: expected 193 fields, saw 241\\nSkipping line 1502301: expected 193 fields, saw 241\\nSkipping line 1502302: expected 193 fields, saw 241\\nSkipping line 1502303: expected 193 fields, saw 241\\nSkipping line 1502304: expected 193 fields, saw 241\\n'\n",
      "b'Skipping line 1541474: expected 193 fields, saw 205\\n'\n",
      "b'Skipping line 1927945: expected 193 fields, saw 265\\n'\n",
      "b'Skipping line 2015166: expected 193 fields, saw 265\\nSkipping line 2015167: expected 193 fields, saw 265\\nSkipping line 2015168: expected 193 fields, saw 265\\nSkipping line 2015169: expected 193 fields, saw 265\\nSkipping line 2015170: expected 193 fields, saw 265\\nSkipping line 2015171: expected 193 fields, saw 265\\nSkipping line 2015172: expected 193 fields, saw 265\\nSkipping line 2015173: expected 193 fields, saw 265\\nSkipping line 2015174: expected 193 fields, saw 265\\nSkipping line 2015175: expected 193 fields, saw 265\\nSkipping line 2015176: expected 193 fields, saw 265\\nSkipping line 2015177: expected 193 fields, saw 265\\nSkipping line 2015178: expected 193 fields, saw 265\\nSkipping line 2015179: expected 193 fields, saw 265\\nSkipping line 2015180: expected 193 fields, saw 265\\nSkipping line 2015181: expected 193 fields, saw 265\\nSkipping line 2015182: expected 193 fields, saw 265\\nSkipping line 2015183: expected 193 fields, saw 265\\nSkipping line 2015184: expected 193 fields, saw 265\\n'\n",
      "b'Skipping line 2015802: expected 193 fields, saw 265\\nSkipping line 2015803: expected 193 fields, saw 265\\nSkipping line 2015804: expected 193 fields, saw 265\\nSkipping line 2015805: expected 193 fields, saw 265\\nSkipping line 2015806: expected 193 fields, saw 265\\nSkipping line 2015807: expected 193 fields, saw 265\\nSkipping line 2015808: expected 193 fields, saw 265\\n'\n",
      "b'Skipping line 2027219: expected 193 fields, saw 265\\nSkipping line 2027220: expected 193 fields, saw 265\\nSkipping line 2027221: expected 193 fields, saw 265\\nSkipping line 2027222: expected 193 fields, saw 265\\nSkipping line 2027223: expected 193 fields, saw 265\\nSkipping line 2027224: expected 193 fields, saw 265\\nSkipping line 2027225: expected 193 fields, saw 265\\nSkipping line 2027226: expected 193 fields, saw 265\\nSkipping line 2027227: expected 193 fields, saw 265\\nSkipping line 2027228: expected 193 fields, saw 265\\nSkipping line 2027229: expected 193 fields, saw 265\\nSkipping line 2027230: expected 193 fields, saw 265\\nSkipping line 2027231: expected 193 fields, saw 265\\nSkipping line 2027232: expected 193 fields, saw 265\\nSkipping line 2027233: expected 193 fields, saw 265\\nSkipping line 2027234: expected 193 fields, saw 265\\nSkipping line 2027235: expected 193 fields, saw 265\\nSkipping line 2027236: expected 193 fields, saw 265\\nSkipping line 2027237: expected 193 fields, saw 265\\nSkipping line 2027238: expected 193 fields, saw 265\\nSkipping line 2027239: expected 193 fields, saw 265\\nSkipping line 2027240: expected 193 fields, saw 265\\nSkipping line 2027241: expected 193 fields, saw 265\\nSkipping line 2027242: expected 193 fields, saw 265\\nSkipping line 2027243: expected 193 fields, saw 265\\nSkipping line 2027244: expected 193 fields, saw 265\\nSkipping line 2027245: expected 193 fields, saw 265\\nSkipping line 2027246: expected 193 fields, saw 265\\nSkipping line 2027247: expected 193 fields, saw 265\\nSkipping line 2027248: expected 193 fields, saw 265\\nSkipping line 2027249: expected 193 fields, saw 265\\nSkipping line 2027250: expected 193 fields, saw 265\\nSkipping line 2027251: expected 193 fields, saw 265\\nSkipping line 2027252: expected 193 fields, saw 265\\nSkipping line 2027253: expected 193 fields, saw 265\\nSkipping line 2027254: expected 193 fields, saw 265\\nSkipping line 2027255: expected 193 fields, saw 265\\nSkipping line 2027256: expected 193 fields, saw 265\\nSkipping line 2027257: expected 193 fields, saw 265\\n'\n",
      "b'Skipping line 2029854: expected 193 fields, saw 265\\nSkipping line 2029855: expected 193 fields, saw 265\\nSkipping line 2029856: expected 193 fields, saw 265\\nSkipping line 2029857: expected 193 fields, saw 265\\nSkipping line 2029858: expected 193 fields, saw 265\\nSkipping line 2029859: expected 193 fields, saw 265\\nSkipping line 2029860: expected 193 fields, saw 265\\nSkipping line 2029861: expected 193 fields, saw 265\\n'\n",
      "b'Skipping line 2042409: expected 193 fields, saw 313\\n'\n",
      "b'Skipping line 2059953: expected 193 fields, saw 637\\n'\n",
      "/miniconda/envs/DeepPurpose/lib/python3.7/site-packages/IPython/core/interactiveshell.py:3254: DtypeWarning: Columns (8,9,10,11,12,13,15,17,18,19,20,26,27,31,32,34,35,46,49,50,51,52,53,54,61,62,63,64,65,66,73,74,75,76,77,78,85,86,87,88,89,90,97,98,99,100,101,102,109,110,111,112,113,114,121,122,123,124,125,126,133,134,135,136,137,138,145,147,148,149,150,157,158,159,160,161,162,169,171,172,173,174) have mixed types.Specify dtype option on import or set low_memory=False.\n",
      "  if (await self.run_code(code, result,  async_=asy)):\n"
     ]
    },
    {
     "name": "stdout",
     "output_type": "stream",
     "text": [
      "Beginning Processing...\n",
      "There are 70750 drug target pairs.\n",
      "Default binary threshold for the binding affinity scores are 30, you can adjust it by using the \"threshold\" parameter\n"
     ]
    }
   ],
   "source": [
    "X_drug, X_target, y  = process_BindingDB('/home/sars-busters-consolidated/data/BindingDB_All.tsv',\n",
    "                                         y = 'Kd', \n",
    "                                         binary = True, ## Keep it binary true for classification task\n",
    "                                         convert_to_log = True)"
   ]
  },
  {
   "cell_type": "markdown",
   "metadata": {
    "heading_collapsed": true
   },
   "source": [
    "# Original DeepPurpose"
   ]
  },
  {
   "cell_type": "code",
   "execution_count": 5,
   "metadata": {
    "hidden": true
   },
   "outputs": [
    {
     "name": "stdout",
     "output_type": "stream",
     "text": [
      "Drug Target Interaction Prediction Mode...\n",
      "in total: 70750 drug-target pairs\n",
      "encoding drug...\n",
      "unique drugs: 13392\n",
      "encoding protein...\n",
      "unique target sequence: 1507\n",
      "splitting dataset...\n",
      "Done.\n"
     ]
    }
   ],
   "source": [
    "drug_encoding = 'Transformer'\n",
    "target_encoding = 'CNN'\n",
    "\n",
    "all_data, nil1, nil2 = data_process(X_drug, \n",
    "                                X_target, \n",
    "                                y, \n",
    "                                drug_encoding, target_encoding, \n",
    "                                split_method='random',frac=[1.0,0.0,0.0])\n",
    "\n",
    "config = generate_config(drug_encoding = drug_encoding, \n",
    "                         target_encoding = target_encoding, \n",
    "                         cls_hidden_dims = [1024,1024,512], \n",
    "                         train_epoch = 100, \n",
    "                         LR = 0.001, \n",
    "                         batch_size = 128,\n",
    "                         cnn_target_filters = [32,64,96],\n",
    "                         cnn_target_kernels = [4,8,12]\n",
    "                        )"
   ]
  },
  {
   "cell_type": "code",
   "execution_count": 6,
   "metadata": {
    "scrolled": true
   },
   "outputs": [],
   "source": [
    "shuffled = all_data.sample(frac=1)\n",
    "result = np.array_split(shuffled, 10)  \n",
    "\n",
    "train = pd.concat(result[0:7]).reset_index()\n",
    "val = pd.concat([result[7]]).reset_index()\n",
    "test = pd.concat(result[8:10]).reset_index()"
   ]
  },
  {
   "cell_type": "code",
   "execution_count": 7,
   "metadata": {
    "hidden": true
   },
   "outputs": [],
   "source": [
    "import torch, gc\n",
    "\n",
    "gc.collect()\n",
    "torch.cuda.empty_cache()"
   ]
  },
  {
   "cell_type": "code",
   "execution_count": 8,
   "metadata": {
    "hidden": true
   },
   "outputs": [
    {
     "data": {
      "text/plain": [
       "(49525, 6)"
      ]
     },
     "execution_count": 8,
     "metadata": {},
     "output_type": "execute_result"
    }
   ],
   "source": [
    "train.shape"
   ]
  },
  {
   "cell_type": "code",
   "execution_count": 9,
   "metadata": {
    "hidden": true
   },
   "outputs": [
    {
     "data": {
      "text/plain": [
       "(14150, 6)"
      ]
     },
     "execution_count": 9,
     "metadata": {},
     "output_type": "execute_result"
    }
   ],
   "source": [
    "test.shape"
   ]
  },
  {
   "cell_type": "code",
   "execution_count": 10,
   "metadata": {
    "hidden": true,
    "scrolled": true
   },
   "outputs": [
    {
     "name": "stdout",
     "output_type": "stream",
     "text": [
      "Let's use 4 GPUs!\n",
      "--- Data Preparation ---\n",
      "--- Go for Training ---\n",
      "Training at Epoch 1 iteration 0 with loss 0.69518. Total time 0.00277 hours\n",
      "Training at Epoch 1 iteration 100 with loss 0.34904. Total time 0.01472 hours\n",
      "Training at Epoch 1 iteration 200 with loss 0.30562. Total time 0.02833 hours\n",
      "Training at Epoch 1 iteration 300 with loss 0.29947. Total time 0.04416 hours\n",
      "Validation at Epoch 1, AUROC: 0.83298 , AUPRC: 0.59041 , F1: 0.24198 , Cross-entropy Loss: 5.07707\n",
      "Training at Epoch 2 iteration 0 with loss 0.27694. Total time 0.06416 hours\n",
      "Training at Epoch 2 iteration 100 with loss 0.31445. Total time 0.07944 hours\n",
      "Training at Epoch 2 iteration 200 with loss 0.31005. Total time 0.095 hours\n",
      "Training at Epoch 2 iteration 300 with loss 0.38071. Total time 0.11111 hours\n",
      "Validation at Epoch 2, AUROC: 0.83880 , AUPRC: 0.61062 , F1: 0.45139 , Cross-entropy Loss: 4.71096\n",
      "Training at Epoch 3 iteration 0 with loss 0.30282. Total time 0.13111 hours\n",
      "Training at Epoch 3 iteration 100 with loss 0.28805. Total time 0.14666 hours\n",
      "Training at Epoch 3 iteration 200 with loss 0.29561. Total time 0.16305 hours\n",
      "Training at Epoch 3 iteration 300 with loss 0.28439. Total time 0.17861 hours\n",
      "Validation at Epoch 3, AUROC: 0.84624 , AUPRC: 0.62387 , F1: 0.44209 , Cross-entropy Loss: 4.63284\n",
      "Training at Epoch 4 iteration 0 with loss 0.32543. Total time 0.19833 hours\n",
      "Training at Epoch 4 iteration 100 with loss 0.25084. Total time 0.21416 hours\n",
      "Training at Epoch 4 iteration 200 with loss 0.31004. Total time 0.22972 hours\n",
      "Training at Epoch 4 iteration 300 with loss 0.28016. Total time 0.24611 hours\n",
      "Validation at Epoch 4, AUROC: 0.84849 , AUPRC: 0.62668 , F1: 0.47045 , Cross-entropy Loss: 4.59379\n",
      "Training at Epoch 5 iteration 0 with loss 0.33156. Total time 0.26583 hours\n",
      "Training at Epoch 5 iteration 100 with loss 0.25992. Total time 0.28166 hours\n",
      "Training at Epoch 5 iteration 200 with loss 0.29169. Total time 0.29722 hours\n",
      "Training at Epoch 5 iteration 300 with loss 0.29767. Total time 0.31333 hours\n",
      "Validation at Epoch 5, AUROC: 0.84888 , AUPRC: 0.62887 , F1: 0.52716 , Cross-entropy Loss: 4.58892\n",
      "Training at Epoch 6 iteration 0 with loss 0.27550. Total time 0.33305 hours\n",
      "Training at Epoch 6 iteration 100 with loss 0.24981. Total time 0.34888 hours\n",
      "Training at Epoch 6 iteration 200 with loss 0.23946. Total time 0.36527 hours\n",
      "Training at Epoch 6 iteration 300 with loss 0.31447. Total time 0.38111 hours\n",
      "Validation at Epoch 6, AUROC: 0.85389 , AUPRC: 0.63476 , F1: 0.46522 , Cross-entropy Loss: 4.57915\n",
      "Training at Epoch 7 iteration 0 with loss 0.31908. Total time 0.40111 hours\n",
      "Training at Epoch 7 iteration 100 with loss 0.25262. Total time 0.41638 hours\n",
      "Training at Epoch 7 iteration 200 with loss 0.29089. Total time 0.43194 hours\n",
      "Training at Epoch 7 iteration 300 with loss 0.26373. Total time 0.44777 hours\n",
      "Validation at Epoch 7, AUROC: 0.85144 , AUPRC: 0.63344 , F1: 0.46373 , Cross-entropy Loss: 4.58403\n",
      "Training at Epoch 8 iteration 0 with loss 0.35388. Total time 0.46777 hours\n",
      "Training at Epoch 8 iteration 100 with loss 0.23438. Total time 0.48305 hours\n",
      "Training at Epoch 8 iteration 200 with loss 0.31811. Total time 0.49861 hours\n",
      "Training at Epoch 8 iteration 300 with loss 0.24289. Total time 0.51416 hours\n",
      "Validation at Epoch 8, AUROC: 0.85507 , AUPRC: 0.63762 , F1: 0.41604 , Cross-entropy Loss: 4.54985\n",
      "Training at Epoch 9 iteration 0 with loss 0.28714. Total time 0.53388 hours\n",
      "Training at Epoch 9 iteration 100 with loss 0.28617. Total time 0.54972 hours\n",
      "Training at Epoch 9 iteration 200 with loss 0.31732. Total time 0.56527 hours\n",
      "Training at Epoch 9 iteration 300 with loss 0.28029. Total time 0.58111 hours\n",
      "Validation at Epoch 9, AUROC: 0.85216 , AUPRC: 0.63901 , F1: 0.50484 , Cross-entropy Loss: 4.49128\n",
      "Training at Epoch 10 iteration 0 with loss 0.25773. Total time 0.60083 hours\n",
      "Training at Epoch 10 iteration 100 with loss 0.21315. Total time 0.61611 hours\n",
      "Training at Epoch 10 iteration 200 with loss 0.31825. Total time 0.63222 hours\n",
      "Training at Epoch 10 iteration 300 with loss 0.34197. Total time 0.64777 hours\n",
      "Validation at Epoch 10, AUROC: 0.85283 , AUPRC: 0.63487 , F1: 0.51153 , Cross-entropy Loss: 4.54986\n",
      "Training at Epoch 11 iteration 0 with loss 0.33928. Total time 0.6675 hours\n",
      "Training at Epoch 11 iteration 100 with loss 0.33868. Total time 0.68305 hours\n",
      "Training at Epoch 11 iteration 200 with loss 0.28629. Total time 0.69888 hours\n",
      "Training at Epoch 11 iteration 300 with loss 0.40039. Total time 0.715 hours\n",
      "Validation at Epoch 11, AUROC: 0.85163 , AUPRC: 0.62313 , F1: 0.28183 , Cross-entropy Loss: 4.90133\n",
      "Training at Epoch 12 iteration 0 with loss 0.34472. Total time 0.73527 hours\n",
      "Training at Epoch 12 iteration 100 with loss 0.22058. Total time 0.75111 hours\n",
      "Training at Epoch 12 iteration 200 with loss 0.36422. Total time 0.76638 hours\n",
      "Training at Epoch 12 iteration 300 with loss 0.39480. Total time 0.7825 hours\n",
      "Validation at Epoch 12, AUROC: 0.85290 , AUPRC: 0.63037 , F1: 0.38322 , Cross-entropy Loss: 4.66701\n",
      "Training at Epoch 13 iteration 0 with loss 0.28141. Total time 0.80194 hours\n",
      "Training at Epoch 13 iteration 100 with loss 0.27506. Total time 0.81777 hours\n",
      "Training at Epoch 13 iteration 200 with loss 0.30458. Total time 0.83388 hours\n",
      "Training at Epoch 13 iteration 300 with loss 0.36537. Total time 0.84972 hours\n",
      "Validation at Epoch 13, AUROC: 0.85504 , AUPRC: 0.63524 , F1: 0.46655 , Cross-entropy Loss: 4.55474\n",
      "Training at Epoch 14 iteration 0 with loss 0.32722. Total time 0.86972 hours\n",
      "Training at Epoch 14 iteration 100 with loss 0.36722. Total time 0.88527 hours\n",
      "Training at Epoch 14 iteration 200 with loss 0.26247. Total time 0.90083 hours\n",
      "Training at Epoch 14 iteration 300 with loss 0.27896. Total time 0.91666 hours\n",
      "Validation at Epoch 14, AUROC: 0.85419 , AUPRC: 0.63237 , F1: 0.40075 , Cross-entropy Loss: 4.64260\n",
      "Training at Epoch 15 iteration 0 with loss 0.28613. Total time 0.93666 hours\n",
      "Training at Epoch 15 iteration 100 with loss 0.28422. Total time 0.95277 hours\n",
      "Training at Epoch 15 iteration 200 with loss 0.28612. Total time 0.96944 hours\n",
      "Training at Epoch 15 iteration 300 with loss 0.27273. Total time 0.985 hours\n",
      "Validation at Epoch 15, AUROC: 0.85597 , AUPRC: 0.63664 , F1: 0.49301 , Cross-entropy Loss: 4.42781\n",
      "Training at Epoch 16 iteration 0 with loss 0.30786. Total time 1.00472 hours\n",
      "Training at Epoch 16 iteration 100 with loss 0.32299. Total time 1.02 hours\n",
      "Training at Epoch 16 iteration 200 with loss 0.34100. Total time 1.03555 hours\n",
      "Training at Epoch 16 iteration 300 with loss 0.31435. Total time 1.05166 hours\n",
      "Validation at Epoch 16, AUROC: 0.85519 , AUPRC: 0.63509 , F1: 0.51619 , Cross-entropy Loss: 4.44734\n",
      "Training at Epoch 17 iteration 0 with loss 0.32837. Total time 1.07138 hours\n",
      "Training at Epoch 17 iteration 100 with loss 0.30333. Total time 1.08722 hours\n",
      "Training at Epoch 17 iteration 200 with loss 0.29948. Total time 1.1025 hours\n",
      "Training at Epoch 17 iteration 300 with loss 0.24840. Total time 1.11833 hours\n",
      "Validation at Epoch 17, AUROC: 0.85590 , AUPRC: 0.64088 , F1: 0.38481 , Cross-entropy Loss: 4.58890\n",
      "Training at Epoch 18 iteration 0 with loss 0.31223. Total time 1.13777 hours\n",
      "Training at Epoch 18 iteration 100 with loss 0.37073. Total time 1.15361 hours\n",
      "Training at Epoch 18 iteration 200 with loss 0.31678. Total time 1.16888 hours\n",
      "Training at Epoch 18 iteration 300 with loss 0.32842. Total time 1.18472 hours\n",
      "Validation at Epoch 18, AUROC: 0.85638 , AUPRC: 0.63813 , F1: 0.44110 , Cross-entropy Loss: 4.54009\n",
      "Training at Epoch 19 iteration 0 with loss 0.33189. Total time 1.20416 hours\n",
      "Training at Epoch 19 iteration 100 with loss 0.26504. Total time 1.22 hours\n",
      "Training at Epoch 19 iteration 200 with loss 0.31950. Total time 1.23583 hours\n",
      "Training at Epoch 19 iteration 300 with loss 0.36055. Total time 1.25222 hours\n",
      "Validation at Epoch 19, AUROC: 0.85507 , AUPRC: 0.63909 , F1: 0.53698 , Cross-entropy Loss: 4.46199\n",
      "Training at Epoch 20 iteration 0 with loss 0.35133. Total time 1.27166 hours\n",
      "Training at Epoch 20 iteration 100 with loss 0.31449. Total time 1.28722 hours\n",
      "Training at Epoch 20 iteration 200 with loss 0.28036. Total time 1.30277 hours\n",
      "Training at Epoch 20 iteration 300 with loss 0.25197. Total time 1.31916 hours\n",
      "Validation at Epoch 20, AUROC: 0.85621 , AUPRC: 0.63853 , F1: 0.36835 , Cross-entropy Loss: 4.63771\n",
      "Training at Epoch 21 iteration 0 with loss 0.29962. Total time 1.33861 hours\n",
      "Training at Epoch 21 iteration 100 with loss 0.34556. Total time 1.35388 hours\n",
      "Training at Epoch 21 iteration 200 with loss 0.27620. Total time 1.36916 hours\n",
      "Training at Epoch 21 iteration 300 with loss 0.34682. Total time 1.38555 hours\n",
      "Validation at Epoch 21, AUROC: 0.85397 , AUPRC: 0.63539 , F1: 0.45168 , Cross-entropy Loss: 4.59867\n",
      "Training at Epoch 22 iteration 0 with loss 0.32025. Total time 1.405 hours\n",
      "Training at Epoch 22 iteration 100 with loss 0.21886. Total time 1.42027 hours\n",
      "Training at Epoch 22 iteration 200 with loss 0.31578. Total time 1.43611 hours\n",
      "Training at Epoch 22 iteration 300 with loss 0.44181. Total time 1.45194 hours\n",
      "Validation at Epoch 22, AUROC: 0.85506 , AUPRC: 0.63675 , F1: 0.39923 , Cross-entropy Loss: 4.58402\n",
      "Training at Epoch 23 iteration 0 with loss 0.31272. Total time 1.47138 hours\n",
      "Training at Epoch 23 iteration 100 with loss 0.33493. Total time 1.48722 hours\n",
      "Training at Epoch 23 iteration 200 with loss 0.23004. Total time 1.50333 hours\n",
      "Training at Epoch 23 iteration 300 with loss 0.32587. Total time 1.51916 hours\n",
      "Validation at Epoch 23, AUROC: 0.85406 , AUPRC: 0.64025 , F1: 0.43076 , Cross-entropy Loss: 4.51567\n",
      "Training at Epoch 24 iteration 0 with loss 0.25578. Total time 1.53916 hours\n",
      "Training at Epoch 24 iteration 100 with loss 0.31893. Total time 1.555 hours\n",
      "Training at Epoch 24 iteration 200 with loss 0.33137. Total time 1.57055 hours\n",
      "Training at Epoch 24 iteration 300 with loss 0.37994. Total time 1.58638 hours\n",
      "Validation at Epoch 24, AUROC: 0.85573 , AUPRC: 0.64128 , F1: 0.42726 , Cross-entropy Loss: 4.59379\n",
      "Training at Epoch 25 iteration 0 with loss 0.38259. Total time 1.60666 hours\n",
      "Training at Epoch 25 iteration 100 with loss 0.30332. Total time 1.62222 hours\n",
      "Training at Epoch 25 iteration 200 with loss 0.18149. Total time 1.6375 hours\n",
      "Training at Epoch 25 iteration 300 with loss 0.22374. Total time 1.65333 hours\n",
      "Validation at Epoch 25, AUROC: 0.85751 , AUPRC: 0.64355 , F1: 0.46833 , Cross-entropy Loss: 4.46686\n",
      "Training at Epoch 26 iteration 0 with loss 0.35907. Total time 1.67277 hours\n",
      "Training at Epoch 26 iteration 100 with loss 0.28612. Total time 1.68805 hours\n",
      "Training at Epoch 26 iteration 200 with loss 0.28532. Total time 1.70388 hours\n",
      "Training at Epoch 26 iteration 300 with loss 0.25417. Total time 1.72 hours\n",
      "Validation at Epoch 26, AUROC: 0.85733 , AUPRC: 0.64399 , F1: 0.42989 , Cross-entropy Loss: 4.50591\n",
      "Training at Epoch 27 iteration 0 with loss 0.27418. Total time 1.74 hours\n",
      "Training at Epoch 27 iteration 100 with loss 0.28271. Total time 1.75527 hours\n",
      "Training at Epoch 27 iteration 200 with loss 0.27450. Total time 1.77111 hours\n",
      "Training at Epoch 27 iteration 300 with loss 0.28418. Total time 1.78666 hours\n",
      "Validation at Epoch 27, AUROC: 0.85467 , AUPRC: 0.63683 , F1: 0.49386 , Cross-entropy Loss: 4.43269\n",
      "Training at Epoch 28 iteration 0 with loss 0.30201. Total time 1.80638 hours\n",
      "Training at Epoch 28 iteration 100 with loss 0.31643. Total time 1.82277 hours\n",
      "Training at Epoch 28 iteration 200 with loss 0.26833. Total time 1.83888 hours\n",
      "Training at Epoch 28 iteration 300 with loss 0.37894. Total time 1.85527 hours\n",
      "Validation at Epoch 28, AUROC: 0.85751 , AUPRC: 0.64775 , F1: 0.52072 , Cross-entropy Loss: 4.40341\n",
      "Training at Epoch 29 iteration 0 with loss 0.34369. Total time 1.875 hours\n",
      "Training at Epoch 29 iteration 100 with loss 0.25641. Total time 1.89083 hours\n",
      "Training at Epoch 29 iteration 200 with loss 0.30882. Total time 1.90638 hours\n",
      "Training at Epoch 29 iteration 300 with loss 0.28275. Total time 1.92333 hours\n",
      "Validation at Epoch 29, AUROC: 0.85646 , AUPRC: 0.64799 , F1: 0.45704 , Cross-entropy Loss: 4.44245\n",
      "Training at Epoch 30 iteration 0 with loss 0.28295. Total time 1.94305 hours\n",
      "Training at Epoch 30 iteration 100 with loss 0.25539. Total time 1.95861 hours\n",
      "Training at Epoch 30 iteration 200 with loss 0.32880. Total time 1.97444 hours\n",
      "Training at Epoch 30 iteration 300 with loss 0.28472. Total time 1.99 hours\n",
      "Validation at Epoch 30, AUROC: 0.85652 , AUPRC: 0.63702 , F1: 0.45153 , Cross-entropy Loss: 4.53032\n",
      "Training at Epoch 31 iteration 0 with loss 0.30847. Total time 2.01027 hours\n",
      "Training at Epoch 31 iteration 100 with loss 0.20932. Total time 2.02555 hours\n",
      "Training at Epoch 31 iteration 200 with loss 0.34507. Total time 2.04194 hours\n",
      "Training at Epoch 31 iteration 300 with loss 0.32162. Total time 2.05777 hours\n",
      "Validation at Epoch 31, AUROC: 0.85551 , AUPRC: 0.64383 , F1: 0.45400 , Cross-entropy Loss: 4.46198\n",
      "Training at Epoch 32 iteration 0 with loss 0.25312. Total time 2.07777 hours\n",
      "Training at Epoch 32 iteration 100 with loss 0.32866. Total time 2.09361 hours\n",
      "Training at Epoch 32 iteration 200 with loss 0.29965. Total time 2.10916 hours\n",
      "Training at Epoch 32 iteration 300 with loss 0.28578. Total time 2.12527 hours\n",
      "Validation at Epoch 32, AUROC: 0.85645 , AUPRC: 0.64272 , F1: 0.53531 , Cross-entropy Loss: 4.43270\n",
      "Training at Epoch 33 iteration 0 with loss 0.34103. Total time 2.14472 hours\n",
      "Training at Epoch 33 iteration 100 with loss 0.32003. Total time 2.16055 hours\n",
      "Training at Epoch 33 iteration 200 with loss 0.24620. Total time 2.17583 hours\n",
      "Training at Epoch 33 iteration 300 with loss 0.32203. Total time 2.19222 hours\n",
      "Validation at Epoch 33, AUROC: 0.85446 , AUPRC: 0.63765 , F1: 0.47977 , Cross-entropy Loss: 4.45710\n",
      "Training at Epoch 34 iteration 0 with loss 0.25944. Total time 2.21222 hours\n",
      "Training at Epoch 34 iteration 100 with loss 0.40161. Total time 2.2275 hours\n",
      "Training at Epoch 34 iteration 200 with loss 0.29191. Total time 2.24361 hours\n",
      "Training at Epoch 34 iteration 300 with loss 0.41113. Total time 2.26055 hours\n",
      "Validation at Epoch 34, AUROC: 0.85546 , AUPRC: 0.64441 , F1: 0.42065 , Cross-entropy Loss: 4.49126\n",
      "Training at Epoch 35 iteration 0 with loss 0.22223. Total time 2.28083 hours\n",
      "Training at Epoch 35 iteration 100 with loss 0.30795. Total time 2.29638 hours\n",
      "Training at Epoch 35 iteration 200 with loss 0.28663. Total time 2.31166 hours\n",
      "Training at Epoch 35 iteration 300 with loss 0.27589. Total time 2.32777 hours\n",
      "Validation at Epoch 35, AUROC: 0.85587 , AUPRC: 0.64059 , F1: 0.52325 , Cross-entropy Loss: 4.40341\n",
      "Training at Epoch 36 iteration 0 with loss 0.33842. Total time 2.34722 hours\n",
      "Training at Epoch 36 iteration 100 with loss 0.24607. Total time 2.36305 hours\n",
      "Training at Epoch 36 iteration 200 with loss 0.25310. Total time 2.37972 hours\n",
      "Training at Epoch 36 iteration 300 with loss 0.40697. Total time 2.39583 hours\n",
      "Validation at Epoch 36, AUROC: 0.85535 , AUPRC: 0.64339 , F1: 0.50191 , Cross-entropy Loss: 4.43758\n",
      "Training at Epoch 37 iteration 0 with loss 0.27411. Total time 2.41638 hours\n",
      "Training at Epoch 37 iteration 100 with loss 0.34371. Total time 2.43277 hours\n",
      "Training at Epoch 37 iteration 200 with loss 0.31483. Total time 2.44833 hours\n",
      "Training at Epoch 37 iteration 300 with loss 0.23119. Total time 2.46444 hours\n",
      "Validation at Epoch 37, AUROC: 0.85499 , AUPRC: 0.64309 , F1: 0.37623 , Cross-entropy Loss: 4.61331\n",
      "Training at Epoch 38 iteration 0 with loss 0.31996. Total time 2.48416 hours\n",
      "Training at Epoch 38 iteration 100 with loss 0.37894. Total time 2.50027 hours\n",
      "Training at Epoch 38 iteration 200 with loss 0.32143. Total time 2.51777 hours\n",
      "Training at Epoch 38 iteration 300 with loss 0.22293. Total time 2.53388 hours\n",
      "Validation at Epoch 38, AUROC: 0.85622 , AUPRC: 0.64865 , F1: 0.40662 , Cross-entropy Loss: 4.54496\n",
      "Training at Epoch 39 iteration 0 with loss 0.26710. Total time 2.55361 hours\n",
      "Training at Epoch 39 iteration 100 with loss 0.27739. Total time 2.56888 hours\n",
      "Training at Epoch 39 iteration 200 with loss 0.23880. Total time 2.585 hours\n",
      "Training at Epoch 39 iteration 300 with loss 0.41972. Total time 2.60083 hours\n",
      "Validation at Epoch 39, AUROC: 0.85617 , AUPRC: 0.65261 , F1: 0.50223 , Cross-entropy Loss: 4.34482\n",
      "Training at Epoch 40 iteration 0 with loss 0.36927. Total time 2.62 hours\n",
      "Training at Epoch 40 iteration 100 with loss 0.24015. Total time 2.63583 hours\n",
      "Training at Epoch 40 iteration 200 with loss 0.36636. Total time 2.65166 hours\n",
      "Training at Epoch 40 iteration 300 with loss 0.30521. Total time 2.66805 hours\n",
      "Validation at Epoch 40, AUROC: 0.85635 , AUPRC: 0.64902 , F1: 0.42624 , Cross-entropy Loss: 4.48150\n",
      "Training at Epoch 41 iteration 0 with loss 0.28629. Total time 2.68805 hours\n",
      "Training at Epoch 41 iteration 100 with loss 0.30204. Total time 2.70333 hours\n",
      "Training at Epoch 41 iteration 200 with loss 0.29383. Total time 2.71888 hours\n",
      "Training at Epoch 41 iteration 300 with loss 0.31349. Total time 2.735 hours\n",
      "Validation at Epoch 41, AUROC: 0.85681 , AUPRC: 0.65358 , F1: 0.41085 , Cross-entropy Loss: 4.45221\n",
      "Training at Epoch 42 iteration 0 with loss 0.25251. Total time 2.755 hours\n",
      "Training at Epoch 42 iteration 100 with loss 0.32621. Total time 2.77027 hours\n",
      "Training at Epoch 42 iteration 200 with loss 0.29526. Total time 2.78638 hours\n",
      "Training at Epoch 42 iteration 300 with loss 0.25516. Total time 2.80305 hours\n",
      "Validation at Epoch 42, AUROC: 0.85809 , AUPRC: 0.65309 , F1: 0.43769 , Cross-entropy Loss: 4.42780\n",
      "Training at Epoch 43 iteration 0 with loss 0.25447. Total time 2.8225 hours\n",
      "Training at Epoch 43 iteration 100 with loss 0.30027. Total time 2.83861 hours\n",
      "Training at Epoch 43 iteration 200 with loss 0.25711. Total time 2.85416 hours\n",
      "Training at Epoch 43 iteration 300 with loss 0.19813. Total time 2.87 hours\n",
      "Validation at Epoch 43, AUROC: 0.85413 , AUPRC: 0.65188 , F1: 0.40389 , Cross-entropy Loss: 4.48150\n",
      "Training at Epoch 44 iteration 0 with loss 0.36119. Total time 2.88972 hours\n",
      "Training at Epoch 44 iteration 100 with loss 0.26370. Total time 2.90555 hours\n",
      "Training at Epoch 44 iteration 200 with loss 0.28096. Total time 2.92166 hours\n",
      "Training at Epoch 44 iteration 300 with loss 0.30698. Total time 2.93777 hours\n",
      "Validation at Epoch 44, AUROC: 0.85669 , AUPRC: 0.65125 , F1: 0.40051 , Cross-entropy Loss: 4.51567\n",
      "Training at Epoch 45 iteration 0 with loss 0.35618. Total time 2.95888 hours\n",
      "Training at Epoch 45 iteration 100 with loss 0.31151. Total time 2.975 hours\n",
      "Training at Epoch 45 iteration 200 with loss 0.31506. Total time 2.99111 hours\n",
      "Training at Epoch 45 iteration 300 with loss 0.28724. Total time 3.00722 hours\n",
      "Validation at Epoch 45, AUROC: 0.85593 , AUPRC: 0.64930 , F1: 0.41560 , Cross-entropy Loss: 4.46197\n",
      "Training at Epoch 46 iteration 0 with loss 0.27556. Total time 3.0275 hours\n",
      "Training at Epoch 46 iteration 100 with loss 0.20919. Total time 3.04305 hours\n",
      "Training at Epoch 46 iteration 200 with loss 0.23637. Total time 3.05888 hours\n",
      "Training at Epoch 46 iteration 300 with loss 0.33476. Total time 3.075 hours\n",
      "Validation at Epoch 46, AUROC: 0.85763 , AUPRC: 0.65208 , F1: 0.44224 , Cross-entropy Loss: 4.40827\n",
      "Training at Epoch 47 iteration 0 with loss 0.23701. Total time 3.09472 hours\n",
      "Training at Epoch 47 iteration 100 with loss 0.34147. Total time 3.11055 hours\n",
      "Training at Epoch 47 iteration 200 with loss 0.27503. Total time 3.12666 hours\n",
      "Training at Epoch 47 iteration 300 with loss 0.25009. Total time 3.14222 hours\n",
      "Validation at Epoch 47, AUROC: 0.85764 , AUPRC: 0.65582 , F1: 0.39475 , Cross-entropy Loss: 4.50591\n",
      "Training at Epoch 48 iteration 0 with loss 0.24645. Total time 3.16222 hours\n",
      "Training at Epoch 48 iteration 100 with loss 0.32789. Total time 3.1775 hours\n",
      "Training at Epoch 48 iteration 200 with loss 0.33050. Total time 3.19333 hours\n",
      "Training at Epoch 48 iteration 300 with loss 0.28182. Total time 3.20972 hours\n",
      "Validation at Epoch 48, AUROC: 0.85577 , AUPRC: 0.64912 , F1: 0.44714 , Cross-entropy Loss: 4.44245\n",
      "Training at Epoch 49 iteration 0 with loss 0.29588. Total time 3.22916 hours\n",
      "Training at Epoch 49 iteration 100 with loss 0.24937. Total time 3.24444 hours\n",
      "Training at Epoch 49 iteration 200 with loss 0.35948. Total time 3.26055 hours\n",
      "Training at Epoch 49 iteration 300 with loss 0.29141. Total time 3.27694 hours\n",
      "Validation at Epoch 49, AUROC: 0.85683 , AUPRC: 0.65240 , F1: 0.47995 , Cross-entropy Loss: 4.36922\n",
      "Training at Epoch 50 iteration 0 with loss 0.28136. Total time 3.29611 hours\n",
      "Training at Epoch 50 iteration 100 with loss 0.37217. Total time 3.31222 hours\n",
      "Training at Epoch 50 iteration 200 with loss 0.30288. Total time 3.32916 hours\n",
      "Training at Epoch 50 iteration 300 with loss 0.39632. Total time 3.34527 hours\n",
      "Validation at Epoch 50, AUROC: 0.85645 , AUPRC: 0.65025 , F1: 0.48550 , Cross-entropy Loss: 4.41805\n",
      "Training at Epoch 51 iteration 0 with loss 0.25635. Total time 3.36638 hours\n",
      "Training at Epoch 51 iteration 100 with loss 0.26544. Total time 3.38222 hours\n",
      "Training at Epoch 51 iteration 200 with loss 0.38315. Total time 3.39861 hours\n",
      "Training at Epoch 51 iteration 300 with loss 0.33620. Total time 3.41444 hours\n",
      "Validation at Epoch 51, AUROC: 0.85685 , AUPRC: 0.65271 , F1: 0.45833 , Cross-entropy Loss: 4.44245\n",
      "Training at Epoch 52 iteration 0 with loss 0.19759. Total time 3.43388 hours\n",
      "Training at Epoch 52 iteration 100 with loss 0.27304. Total time 3.44972 hours\n",
      "Training at Epoch 52 iteration 200 with loss 0.22856. Total time 3.46527 hours\n",
      "Training at Epoch 52 iteration 300 with loss 0.32969. Total time 3.48166 hours\n",
      "Validation at Epoch 52, AUROC: 0.85665 , AUPRC: 0.65159 , F1: 0.44582 , Cross-entropy Loss: 4.36922\n",
      "Training at Epoch 53 iteration 0 with loss 0.28003. Total time 3.50138 hours\n",
      "Training at Epoch 53 iteration 100 with loss 0.37257. Total time 3.51694 hours\n",
      "Training at Epoch 53 iteration 200 with loss 0.33141. Total time 3.53277 hours\n",
      "Training at Epoch 53 iteration 300 with loss 0.21758. Total time 3.54916 hours\n",
      "Validation at Epoch 53, AUROC: 0.85707 , AUPRC: 0.65309 , F1: 0.54104 , Cross-entropy Loss: 4.33995\n",
      "Training at Epoch 54 iteration 0 with loss 0.28104. Total time 3.56861 hours\n",
      "Training at Epoch 54 iteration 100 with loss 0.26929. Total time 3.58527 hours\n",
      "Training at Epoch 54 iteration 200 with loss 0.29040. Total time 3.60138 hours\n",
      "Training at Epoch 54 iteration 300 with loss 0.23909. Total time 3.61833 hours\n",
      "Validation at Epoch 54, AUROC: 0.85823 , AUPRC: 0.65384 , F1: 0.50028 , Cross-entropy Loss: 4.33994\n",
      "Training at Epoch 55 iteration 0 with loss 0.30966. Total time 3.63833 hours\n",
      "Training at Epoch 55 iteration 100 with loss 0.32532. Total time 3.65472 hours\n",
      "Training at Epoch 55 iteration 200 with loss 0.31223. Total time 3.67111 hours\n",
      "Training at Epoch 55 iteration 300 with loss 0.35456. Total time 3.68722 hours\n",
      "Validation at Epoch 55, AUROC: 0.85755 , AUPRC: 0.65213 , F1: 0.47856 , Cross-entropy Loss: 4.39363\n",
      "Training at Epoch 56 iteration 0 with loss 0.28735. Total time 3.70777 hours\n",
      "Training at Epoch 56 iteration 100 with loss 0.38285. Total time 3.72305 hours\n",
      "Training at Epoch 56 iteration 200 with loss 0.26469. Total time 3.73888 hours\n",
      "Training at Epoch 56 iteration 300 with loss 0.32561. Total time 3.75472 hours\n",
      "Validation at Epoch 56, AUROC: 0.85564 , AUPRC: 0.65087 , F1: 0.38603 , Cross-entropy Loss: 4.54984\n",
      "Training at Epoch 57 iteration 0 with loss 0.30022. Total time 3.775 hours\n",
      "Training at Epoch 57 iteration 100 with loss 0.30224. Total time 3.79083 hours\n",
      "Training at Epoch 57 iteration 200 with loss 0.30531. Total time 3.80722 hours\n",
      "Training at Epoch 57 iteration 300 with loss 0.36571. Total time 3.82305 hours\n",
      "Validation at Epoch 57, AUROC: 0.85668 , AUPRC: 0.64817 , F1: 0.44833 , Cross-entropy Loss: 4.45709\n",
      "Training at Epoch 58 iteration 0 with loss 0.30527. Total time 3.84305 hours\n",
      "Training at Epoch 58 iteration 100 with loss 0.34437. Total time 3.85861 hours\n",
      "Training at Epoch 58 iteration 200 with loss 0.20864. Total time 3.87416 hours\n",
      "Training at Epoch 58 iteration 300 with loss 0.28020. Total time 3.89027 hours\n",
      "Validation at Epoch 58, AUROC: 0.85609 , AUPRC: 0.65098 , F1: 0.38057 , Cross-entropy Loss: 4.54496\n",
      "Training at Epoch 59 iteration 0 with loss 0.24901. Total time 3.91055 hours\n",
      "Training at Epoch 59 iteration 100 with loss 0.25480. Total time 3.92583 hours\n",
      "Training at Epoch 59 iteration 200 with loss 0.35624. Total time 3.94194 hours\n",
      "Training at Epoch 59 iteration 300 with loss 0.22051. Total time 3.9575 hours\n",
      "Validation at Epoch 59, AUROC: 0.85677 , AUPRC: 0.64976 , F1: 0.44878 , Cross-entropy Loss: 4.41316\n",
      "Training at Epoch 60 iteration 0 with loss 0.29072. Total time 3.9775 hours\n",
      "Training at Epoch 60 iteration 100 with loss 0.24635. Total time 3.99277 hours\n",
      "Training at Epoch 60 iteration 200 with loss 0.33468. Total time 4.00805 hours\n",
      "Training at Epoch 60 iteration 300 with loss 0.25622. Total time 4.02416 hours\n",
      "Validation at Epoch 60, AUROC: 0.85584 , AUPRC: 0.65103 , F1: 0.55023 , Cross-entropy Loss: 4.26184\n",
      "Training at Epoch 61 iteration 0 with loss 0.31308. Total time 4.04444 hours\n",
      "Training at Epoch 61 iteration 100 with loss 0.29334. Total time 4.05972 hours\n",
      "Training at Epoch 61 iteration 200 with loss 0.25803. Total time 4.07583 hours\n",
      "Training at Epoch 61 iteration 300 with loss 0.37360. Total time 4.0925 hours\n",
      "Validation at Epoch 61, AUROC: 0.85553 , AUPRC: 0.65042 , F1: 0.40312 , Cross-entropy Loss: 4.48150\n",
      "Training at Epoch 62 iteration 0 with loss 0.27874. Total time 4.11166 hours\n",
      "Training at Epoch 62 iteration 100 with loss 0.25446. Total time 4.12722 hours\n",
      "Training at Epoch 62 iteration 200 with loss 0.33919. Total time 4.14333 hours\n",
      "Training at Epoch 62 iteration 300 with loss 0.26392. Total time 4.15944 hours\n",
      "Validation at Epoch 62, AUROC: 0.85615 , AUPRC: 0.65307 , F1: 0.45448 , Cross-entropy Loss: 4.35946\n",
      "Training at Epoch 63 iteration 0 with loss 0.34802. Total time 4.18 hours\n",
      "Training at Epoch 63 iteration 100 with loss 0.51380. Total time 4.195 hours\n",
      "Training at Epoch 63 iteration 200 with loss 0.34881. Total time 4.21083 hours\n",
      "Training at Epoch 63 iteration 300 with loss 0.34395. Total time 4.22722 hours\n",
      "Validation at Epoch 63, AUROC: 0.85702 , AUPRC: 0.65212 , F1: 0.42405 , Cross-entropy Loss: 4.44244\n",
      "Training at Epoch 64 iteration 0 with loss 0.40797. Total time 4.24805 hours\n",
      "Training at Epoch 64 iteration 100 with loss 0.36769. Total time 4.26388 hours\n",
      "Training at Epoch 64 iteration 200 with loss 0.22914. Total time 4.28027 hours\n",
      "Training at Epoch 64 iteration 300 with loss 0.31822. Total time 4.29611 hours\n",
      "Validation at Epoch 64, AUROC: 0.85610 , AUPRC: 0.65042 , F1: 0.45338 , Cross-entropy Loss: 4.37898\n",
      "Training at Epoch 65 iteration 0 with loss 0.38263. Total time 4.31583 hours\n",
      "Training at Epoch 65 iteration 100 with loss 0.24874. Total time 4.33222 hours\n",
      "Training at Epoch 65 iteration 200 with loss 0.39613. Total time 4.34833 hours\n",
      "Training at Epoch 65 iteration 300 with loss 0.33074. Total time 4.365 hours\n",
      "Validation at Epoch 65, AUROC: 0.85683 , AUPRC: 0.64470 , F1: 0.39791 , Cross-entropy Loss: 4.52055\n",
      "Training at Epoch 66 iteration 0 with loss 0.20643. Total time 4.385 hours\n",
      "Training at Epoch 66 iteration 100 with loss 0.35388. Total time 4.40027 hours\n",
      "Training at Epoch 66 iteration 200 with loss 0.30473. Total time 4.41611 hours\n",
      "Training at Epoch 66 iteration 300 with loss 0.25169. Total time 4.43194 hours\n",
      "Validation at Epoch 66, AUROC: 0.85500 , AUPRC: 0.65104 , F1: 0.45030 , Cross-entropy Loss: 4.37410\n",
      "Training at Epoch 67 iteration 0 with loss 0.25996. Total time 4.45222 hours\n",
      "Training at Epoch 67 iteration 100 with loss 0.39664. Total time 4.46805 hours\n",
      "Training at Epoch 67 iteration 200 with loss 0.30642. Total time 4.48444 hours\n",
      "Training at Epoch 67 iteration 300 with loss 0.26145. Total time 4.50083 hours\n",
      "Validation at Epoch 67, AUROC: 0.85369 , AUPRC: 0.64523 , F1: 0.41374 , Cross-entropy Loss: 4.49614\n",
      "Training at Epoch 68 iteration 0 with loss 0.37179. Total time 4.52055 hours\n",
      "Training at Epoch 68 iteration 100 with loss 0.38613. Total time 4.53611 hours\n",
      "Training at Epoch 68 iteration 200 with loss 0.31679. Total time 4.55166 hours\n",
      "Training at Epoch 68 iteration 300 with loss 0.25053. Total time 4.5675 hours\n",
      "Validation at Epoch 68, AUROC: 0.85682 , AUPRC: 0.65056 , F1: 0.51500 , Cross-entropy Loss: 4.33994\n",
      "Training at Epoch 69 iteration 0 with loss 0.36808. Total time 4.58722 hours\n",
      "Training at Epoch 69 iteration 100 with loss 0.26932. Total time 4.60333 hours\n",
      "Training at Epoch 69 iteration 200 with loss 0.39242. Total time 4.61944 hours\n",
      "Training at Epoch 69 iteration 300 with loss 0.39188. Total time 4.63583 hours\n",
      "Validation at Epoch 69, AUROC: 0.85780 , AUPRC: 0.65344 , F1: 0.53737 , Cross-entropy Loss: 4.32042\n",
      "Training at Epoch 70 iteration 0 with loss 0.34913. Total time 4.65527 hours\n",
      "Training at Epoch 70 iteration 100 with loss 0.29996. Total time 4.67083 hours\n",
      "Training at Epoch 70 iteration 200 with loss 0.26279. Total time 4.6875 hours\n",
      "Training at Epoch 70 iteration 300 with loss 0.29964. Total time 4.70361 hours\n",
      "Validation at Epoch 70, AUROC: 0.85647 , AUPRC: 0.65152 , F1: 0.43757 , Cross-entropy Loss: 4.44245\n",
      "Training at Epoch 71 iteration 0 with loss 0.35214. Total time 4.72444 hours\n",
      "Training at Epoch 71 iteration 100 with loss 0.32217. Total time 4.73972 hours\n",
      "Training at Epoch 71 iteration 200 with loss 0.36123. Total time 4.75555 hours\n",
      "Training at Epoch 71 iteration 300 with loss 0.29625. Total time 4.77166 hours\n",
      "Validation at Epoch 71, AUROC: 0.85721 , AUPRC: 0.65156 , F1: 0.42192 , Cross-entropy Loss: 4.42780\n",
      "Training at Epoch 72 iteration 0 with loss 0.32239. Total time 4.79138 hours\n",
      "Training at Epoch 72 iteration 100 with loss 0.28535. Total time 4.80722 hours\n",
      "Training at Epoch 72 iteration 200 with loss 0.26942. Total time 4.82472 hours\n",
      "Training at Epoch 72 iteration 300 with loss 0.32054. Total time 4.84111 hours\n",
      "Validation at Epoch 72, AUROC: 0.85648 , AUPRC: 0.65025 , F1: 0.45110 , Cross-entropy Loss: 4.38387\n",
      "Training at Epoch 73 iteration 0 with loss 0.26284. Total time 4.86111 hours\n",
      "Training at Epoch 73 iteration 100 with loss 0.22222. Total time 4.87638 hours\n",
      "Training at Epoch 73 iteration 200 with loss 0.29442. Total time 4.89277 hours\n",
      "Training at Epoch 73 iteration 300 with loss 0.28917. Total time 4.90944 hours\n",
      "Validation at Epoch 73, AUROC: 0.85862 , AUPRC: 0.65214 , F1: 0.39842 , Cross-entropy Loss: 4.48150\n",
      "Training at Epoch 74 iteration 0 with loss 0.22232. Total time 4.92944 hours\n",
      "Training at Epoch 74 iteration 100 with loss 0.30575. Total time 4.94527 hours\n",
      "Training at Epoch 74 iteration 200 with loss 0.31945. Total time 4.96166 hours\n",
      "Training at Epoch 74 iteration 300 with loss 0.28043. Total time 4.9775 hours\n",
      "Validation at Epoch 74, AUROC: 0.85306 , AUPRC: 0.64658 , F1: 0.42131 , Cross-entropy Loss: 4.45221\n",
      "Training at Epoch 75 iteration 0 with loss 0.31012. Total time 4.99722 hours\n",
      "Training at Epoch 75 iteration 100 with loss 0.32732. Total time 5.01277 hours\n",
      "Training at Epoch 75 iteration 200 with loss 0.28237. Total time 5.02944 hours\n",
      "Training at Epoch 75 iteration 300 with loss 0.33060. Total time 5.04583 hours\n",
      "Validation at Epoch 75, AUROC: 0.85729 , AUPRC: 0.65131 , F1: 0.44197 , Cross-entropy Loss: 4.41316\n",
      "Training at Epoch 76 iteration 0 with loss 0.31481. Total time 5.06638 hours\n",
      "Training at Epoch 76 iteration 100 with loss 0.34778. Total time 5.08222 hours\n",
      "Training at Epoch 76 iteration 200 with loss 0.20345. Total time 5.09805 hours\n",
      "Training at Epoch 76 iteration 300 with loss 0.41195. Total time 5.11388 hours\n",
      "Validation at Epoch 76, AUROC: 0.85608 , AUPRC: 0.65058 , F1: 0.34859 , Cross-entropy Loss: 4.65236\n",
      "Training at Epoch 77 iteration 0 with loss 0.25530. Total time 5.13361 hours\n",
      "Training at Epoch 77 iteration 100 with loss 0.27593. Total time 5.14888 hours\n",
      "Training at Epoch 77 iteration 200 with loss 0.22726. Total time 5.16472 hours\n",
      "Training at Epoch 77 iteration 300 with loss 0.29948. Total time 5.18027 hours\n",
      "Validation at Epoch 77, AUROC: 0.85241 , AUPRC: 0.64815 , F1: 0.40208 , Cross-entropy Loss: 4.47173\n",
      "Training at Epoch 78 iteration 0 with loss 0.29144. Total time 5.20027 hours\n",
      "Training at Epoch 78 iteration 100 with loss 0.31205. Total time 5.21555 hours\n",
      "Training at Epoch 78 iteration 200 with loss 0.32130. Total time 5.23166 hours\n",
      "Training at Epoch 78 iteration 300 with loss 0.33381. Total time 5.24722 hours\n",
      "Validation at Epoch 78, AUROC: 0.85501 , AUPRC: 0.64913 , F1: 0.47806 , Cross-entropy Loss: 4.41316\n",
      "Training at Epoch 79 iteration 0 with loss 0.38647. Total time 5.26722 hours\n",
      "Training at Epoch 79 iteration 100 with loss 0.34245. Total time 5.2825 hours\n",
      "Training at Epoch 79 iteration 200 with loss 0.37549. Total time 5.29888 hours\n",
      "Training at Epoch 79 iteration 300 with loss 0.26543. Total time 5.315 hours\n",
      "Validation at Epoch 79, AUROC: 0.85524 , AUPRC: 0.64746 , F1: 0.42830 , Cross-entropy Loss: 4.45709\n",
      "Training at Epoch 80 iteration 0 with loss 0.16515. Total time 5.33472 hours\n",
      "Training at Epoch 80 iteration 100 with loss 0.22142. Total time 5.35 hours\n",
      "Training at Epoch 80 iteration 200 with loss 0.31485. Total time 5.36638 hours\n",
      "Training at Epoch 80 iteration 300 with loss 0.27743. Total time 5.38277 hours\n",
      "Validation at Epoch 80, AUROC: 0.85549 , AUPRC: 0.64925 , F1: 0.42649 , Cross-entropy Loss: 4.43756\n",
      "Training at Epoch 81 iteration 0 with loss 0.23885. Total time 5.4025 hours\n",
      "Training at Epoch 81 iteration 100 with loss 0.26992. Total time 5.41805 hours\n",
      "Training at Epoch 81 iteration 200 with loss 0.21491. Total time 5.43361 hours\n",
      "Training at Epoch 81 iteration 300 with loss 0.32116. Total time 5.44944 hours\n",
      "Validation at Epoch 81, AUROC: 0.85473 , AUPRC: 0.64802 , F1: 0.48251 , Cross-entropy Loss: 4.33505\n",
      "Training at Epoch 82 iteration 0 with loss 0.31695. Total time 5.46888 hours\n",
      "Training at Epoch 82 iteration 100 with loss 0.23145. Total time 5.48472 hours\n",
      "Training at Epoch 82 iteration 200 with loss 0.20346. Total time 5.50055 hours\n",
      "Training at Epoch 82 iteration 300 with loss 0.32976. Total time 5.51638 hours\n",
      "Validation at Epoch 82, AUROC: 0.85515 , AUPRC: 0.64975 , F1: 0.43975 , Cross-entropy Loss: 4.40339\n",
      "Training at Epoch 83 iteration 0 with loss 0.35840. Total time 5.53694 hours\n",
      "Training at Epoch 83 iteration 100 with loss 0.28363. Total time 5.55277 hours\n",
      "Training at Epoch 83 iteration 200 with loss 0.34290. Total time 5.56861 hours\n",
      "Training at Epoch 83 iteration 300 with loss 0.25789. Total time 5.58416 hours\n",
      "Validation at Epoch 83, AUROC: 0.85532 , AUPRC: 0.64971 , F1: 0.44957 , Cross-entropy Loss: 4.42292\n",
      "Training at Epoch 84 iteration 0 with loss 0.30361. Total time 5.60416 hours\n",
      "Training at Epoch 84 iteration 100 with loss 0.33426. Total time 5.61972 hours\n",
      "Training at Epoch 84 iteration 200 with loss 0.29527. Total time 5.63666 hours\n",
      "Training at Epoch 84 iteration 300 with loss 0.28491. Total time 5.65222 hours\n",
      "Validation at Epoch 84, AUROC: 0.85429 , AUPRC: 0.64769 , F1: 0.38328 , Cross-entropy Loss: 4.54008\n",
      "Training at Epoch 85 iteration 0 with loss 0.27666. Total time 5.67194 hours\n",
      "Training at Epoch 85 iteration 100 with loss 0.33743. Total time 5.6875 hours\n",
      "Training at Epoch 85 iteration 200 with loss 0.34817. Total time 5.70388 hours\n",
      "Training at Epoch 85 iteration 300 with loss 0.31867. Total time 5.72 hours\n",
      "Validation at Epoch 85, AUROC: 0.85801 , AUPRC: 0.65285 , F1: 0.45717 , Cross-entropy Loss: 4.39363\n",
      "Training at Epoch 86 iteration 0 with loss 0.36824. Total time 5.73972 hours\n",
      "Training at Epoch 86 iteration 100 with loss 0.26704. Total time 5.75527 hours\n",
      "Training at Epoch 86 iteration 200 with loss 0.21207. Total time 5.77138 hours\n",
      "Training at Epoch 86 iteration 300 with loss 0.22239. Total time 5.78777 hours\n",
      "Validation at Epoch 86, AUROC: 0.85801 , AUPRC: 0.64899 , F1: 0.49069 , Cross-entropy Loss: 4.40828\n",
      "Training at Epoch 87 iteration 0 with loss 0.38666. Total time 5.80777 hours\n",
      "Training at Epoch 87 iteration 100 with loss 0.34529. Total time 5.82416 hours\n",
      "Training at Epoch 87 iteration 200 with loss 0.28710. Total time 5.84111 hours\n",
      "Training at Epoch 87 iteration 300 with loss 0.28865. Total time 5.85694 hours\n",
      "Validation at Epoch 87, AUROC: 0.85783 , AUPRC: 0.65172 , F1: 0.47051 , Cross-entropy Loss: 4.38387\n",
      "Training at Epoch 88 iteration 0 with loss 0.28313. Total time 5.87638 hours\n",
      "Training at Epoch 88 iteration 100 with loss 0.19057. Total time 5.89194 hours\n",
      "Training at Epoch 88 iteration 200 with loss 0.26774. Total time 5.9075 hours\n",
      "Training at Epoch 88 iteration 300 with loss 0.25528. Total time 5.92416 hours\n",
      "Validation at Epoch 88, AUROC: 0.85492 , AUPRC: 0.64705 , F1: 0.43881 , Cross-entropy Loss: 4.43268\n",
      "Training at Epoch 89 iteration 0 with loss 0.24904. Total time 5.94472 hours\n",
      "Training at Epoch 89 iteration 100 with loss 0.24188. Total time 5.96055 hours\n",
      "Training at Epoch 89 iteration 200 with loss 0.23149. Total time 5.97611 hours\n",
      "Training at Epoch 89 iteration 300 with loss 0.29605. Total time 5.99166 hours\n",
      "Validation at Epoch 89, AUROC: 0.85408 , AUPRC: 0.64110 , F1: 0.39895 , Cross-entropy Loss: 4.50102\n",
      "Training at Epoch 90 iteration 0 with loss 0.36715. Total time 6.0125 hours\n",
      "Training at Epoch 90 iteration 100 with loss 0.31270. Total time 6.02777 hours\n",
      "Training at Epoch 90 iteration 200 with loss 0.27364. Total time 6.04444 hours\n",
      "Training at Epoch 90 iteration 300 with loss 0.17709. Total time 6.06083 hours\n",
      "Validation at Epoch 90, AUROC: 0.85538 , AUPRC: 0.64612 , F1: 0.40979 , Cross-entropy Loss: 4.47173\n",
      "Training at Epoch 91 iteration 0 with loss 0.20450. Total time 6.08111 hours\n",
      "Training at Epoch 91 iteration 100 with loss 0.21814. Total time 6.09638 hours\n",
      "Training at Epoch 91 iteration 200 with loss 0.25127. Total time 6.11194 hours\n",
      "Training at Epoch 91 iteration 300 with loss 0.27629. Total time 6.12861 hours\n",
      "Validation at Epoch 91, AUROC: 0.85701 , AUPRC: 0.64893 , F1: 0.42232 , Cross-entropy Loss: 4.44733\n",
      "Training at Epoch 92 iteration 0 with loss 0.26897. Total time 6.14777 hours\n",
      "Training at Epoch 92 iteration 100 with loss 0.32484. Total time 6.16361 hours\n",
      "Training at Epoch 92 iteration 200 with loss 0.23371. Total time 6.17972 hours\n",
      "Training at Epoch 92 iteration 300 with loss 0.33321. Total time 6.19611 hours\n",
      "Validation at Epoch 92, AUROC: 0.85681 , AUPRC: 0.65072 , F1: 0.43440 , Cross-entropy Loss: 4.39851\n",
      "Training at Epoch 93 iteration 0 with loss 0.21292. Total time 6.21611 hours\n",
      "Training at Epoch 93 iteration 100 with loss 0.25407. Total time 6.23166 hours\n",
      "Training at Epoch 93 iteration 200 with loss 0.26226. Total time 6.24777 hours\n",
      "Training at Epoch 93 iteration 300 with loss 0.40785. Total time 6.26388 hours\n",
      "Validation at Epoch 93, AUROC: 0.85586 , AUPRC: 0.64777 , F1: 0.50715 , Cross-entropy Loss: 4.37411\n",
      "Training at Epoch 94 iteration 0 with loss 0.24035. Total time 6.28361 hours\n",
      "Training at Epoch 94 iteration 100 with loss 0.34851. Total time 6.29888 hours\n",
      "Training at Epoch 94 iteration 200 with loss 0.22721. Total time 6.31444 hours\n",
      "Training at Epoch 94 iteration 300 with loss 0.27213. Total time 6.33055 hours\n",
      "Validation at Epoch 94, AUROC: 0.85807 , AUPRC: 0.64837 , F1: 0.46808 , Cross-entropy Loss: 4.39363\n",
      "Training at Epoch 95 iteration 0 with loss 0.34290. Total time 6.35027 hours\n",
      "Training at Epoch 95 iteration 100 with loss 0.36320. Total time 6.36694 hours\n",
      "Training at Epoch 95 iteration 200 with loss 0.23649. Total time 6.38388 hours\n",
      "Training at Epoch 95 iteration 300 with loss 0.27487. Total time 6.4 hours\n",
      "Validation at Epoch 95, AUROC: 0.85625 , AUPRC: 0.64827 , F1: 0.42038 , Cross-entropy Loss: 4.44244\n",
      "Training at Epoch 96 iteration 0 with loss 0.19196. Total time 6.41972 hours\n",
      "Training at Epoch 96 iteration 100 with loss 0.31840. Total time 6.43611 hours\n",
      "Training at Epoch 96 iteration 200 with loss 0.13493. Total time 6.45222 hours\n",
      "Training at Epoch 96 iteration 300 with loss 0.22675. Total time 6.46861 hours\n",
      "Validation at Epoch 96, AUROC: 0.85847 , AUPRC: 0.65173 , F1: 0.42558 , Cross-entropy Loss: 4.42780\n",
      "Training at Epoch 97 iteration 0 with loss 0.26232. Total time 6.48833 hours\n",
      "Training at Epoch 97 iteration 100 with loss 0.24050. Total time 6.50388 hours\n",
      "Training at Epoch 97 iteration 200 with loss 0.21684. Total time 6.51972 hours\n",
      "Training at Epoch 97 iteration 300 with loss 0.32334. Total time 6.53694 hours\n",
      "Validation at Epoch 97, AUROC: 0.85716 , AUPRC: 0.65148 , F1: 0.44825 , Cross-entropy Loss: 4.39851\n",
      "Training at Epoch 98 iteration 0 with loss 0.28038. Total time 6.55611 hours\n",
      "Training at Epoch 98 iteration 100 with loss 0.26955. Total time 6.57194 hours\n",
      "Training at Epoch 98 iteration 200 with loss 0.32627. Total time 6.58722 hours\n",
      "Training at Epoch 98 iteration 300 with loss 0.29013. Total time 6.60388 hours\n",
      "Validation at Epoch 98, AUROC: 0.85410 , AUPRC: 0.65026 , F1: 0.40078 , Cross-entropy Loss: 4.48150\n",
      "Training at Epoch 99 iteration 0 with loss 0.34232. Total time 6.62444 hours\n",
      "Training at Epoch 99 iteration 100 with loss 0.39313. Total time 6.64027 hours\n",
      "Training at Epoch 99 iteration 200 with loss 0.30629. Total time 6.65638 hours\n",
      "Training at Epoch 99 iteration 300 with loss 0.20390. Total time 6.6725 hours\n",
      "Validation at Epoch 99, AUROC: 0.85572 , AUPRC: 0.65103 , F1: 0.44499 , Cross-entropy Loss: 4.40827\n",
      "Training at Epoch 100 iteration 0 with loss 0.34600. Total time 6.69305 hours\n",
      "Training at Epoch 100 iteration 100 with loss 0.27981. Total time 6.70888 hours\n",
      "Training at Epoch 100 iteration 200 with loss 0.21892. Total time 6.72472 hours\n",
      "Training at Epoch 100 iteration 300 with loss 0.29881. Total time 6.74055 hours\n",
      "Validation at Epoch 100, AUROC: 0.85689 , AUPRC: 0.65161 , F1: 0.43045 , Cross-entropy Loss: 4.41804\n",
      "--- Go for Testing ---\n",
      "Validation at Epoch 100 , AUROC: 0.84952 , AUPRC: 0.62268 , F1: 0.36753 , Cross-entropy Loss: 4.31796\n",
      "--- Training Finished ---\n"
     ]
    },
    {
     "data": {
      "image/png": "[encoded data removed]",
      "text/plain": [
       "<Figure size 432x288 with 1 Axes>"
      ]
     },
     "metadata": {
      "needs_background": "light"
     },
     "output_type": "display_data"
    },
    {
     "data": {
      "image/png": "[encoded data removed]",
      "text/plain": [
       "<Figure size 432x288 with 1 Axes>"
      ]
     },
     "metadata": {
      "needs_background": "light"
     },
     "output_type": "display_data"
    },
    {
     "data": {
      "image/png": "[encoded data removed]",
      "text/plain": [
       "<Figure size 432x288 with 1 Axes>"
      ]
     },
     "metadata": {
      "needs_background": "light"
     },
     "output_type": "display_data"
    }
   ],
   "source": [
    "model = models.model_initialize(**config)\n",
    "model.train(train, val, test)"
   ]
  },
  {
   "cell_type": "code",
   "execution_count": 11,
   "metadata": {
    "hidden": true
   },
   "outputs": [],
   "source": [
    "model.save_model('/home/sars-busters-consolidated/deep_purpose/save_folder/pretrained_model/transformer_CNN_fold4')"
   ]
  },
  {
   "cell_type": "code",
   "execution_count": 12,
   "metadata": {
    "hidden": true
   },
   "outputs": [
    {
     "name": "stdout",
     "output_type": "stream",
     "text": [
      "predicting...\n"
     ]
    }
   ],
   "source": [
    "test_preidcted = model.predict(test)\n",
    "test['Y_predicted'] = test_preidcted"
   ]
  },
  {
   "cell_type": "code",
   "execution_count": 13,
   "metadata": {
    "hidden": true
   },
   "outputs": [],
   "source": [
    "train.to_csv('../data/Transformer_CNN_train_fold4.csv')\n",
    "val.to_csv('../data/Transformer_CNN_val_fold4.csv')\n",
    "test.to_csv('../data/Transformer_CNN_test_fold4.csv')"
   ]
  },
  {
   "cell_type": "markdown",
   "metadata": {},
   "source": [
    "# Preparing Degree Lists for Original DeepPurpose Data"
   ]
  },
  {
   "cell_type": "code",
   "execution_count": 19,
   "metadata": {},
   "outputs": [],
   "source": [
    "train = pd.read_csv('../data/Transformer_CNN_train_fold4.csv')\n",
    "val = pd.read_csv('../data/Transformer_CNN_val_fold4.csv')\n",
    "test = pd.read_csv('../data/Transformer_CNN_test_fold4.csv')"
   ]
  },
  {
   "cell_type": "code",
   "execution_count": 20,
   "metadata": {},
   "outputs": [
    {
     "name": "stdout",
     "output_type": "stream",
     "text": [
      "Ligands:  10410\n",
      "Targets:  1404\n"
     ]
    }
   ],
   "source": [
    "ligands = list(set(train['SMILES'].tolist()))\n",
    "targets = list(set(train['Target Sequence'].tolist()))\n",
    "\n",
    "number_ligands = len(ligands)\n",
    "number_targets = len(targets)\n",
    "print('Ligands: ', number_ligands)\n",
    "print('Targets: ',number_targets)"
   ]
  },
  {
   "cell_type": "code",
   "execution_count": 21,
   "metadata": {},
   "outputs": [
    {
     "name": "stderr",
     "output_type": "stream",
     "text": [
      "100%|██████████| 10410/10410 [01:13<00:00, 142.24it/s]\n",
      "100%|██████████| 1404/1404 [00:09<00:00, 142.25it/s]\n",
      "100%|██████████| 10410/10410 [00:00<00:00, 1092277.60it/s]\n",
      "100%|██████████| 10410/10410 [00:00<00:00, 1154029.46it/s]\n",
      "100%|██████████| 1404/1404 [00:00<00:00, 1084893.67it/s]\n",
      "100%|██████████| 1404/1404 [00:00<00:00, 1181067.55it/s]\n"
     ]
    }
   ],
   "source": [
    "ligands_degree_dict = dict()\n",
    "\n",
    "for smile_chem in tqdm(ligands):\n",
    "    sum_df = train[train['SMILES'] == smile_chem]\n",
    "    ligands_degree_dict[smile_chem] = dict()\n",
    "    ligands_degree_dict[smile_chem]['deg_0'] = len(sum_df[sum_df['Label'] == 0])\n",
    "    ligands_degree_dict[smile_chem]['deg_1'] = len(sum_df[sum_df['Label'] == 1])\n",
    "    \n",
    "targets_degree_dict = dict()\n",
    "\n",
    "for aa_target in tqdm(targets):\n",
    "    sum_df = train[train['Target Sequence'] == aa_target]\n",
    "    targets_degree_dict[aa_target] = dict()\n",
    "    targets_degree_dict[aa_target]['deg_0'] = len(sum_df[sum_df['Label'] == 0])\n",
    "    targets_degree_dict[aa_target]['deg_1'] = len(sum_df[sum_df['Label'] == 1])\n",
    "    \n",
    "degree_train_1_0_ligands = [ligands_degree_dict[key_val]['deg_1'] for key_val in tqdm(ligands_degree_dict.keys())]\n",
    "degree_train_0_1_ligands = [ligands_degree_dict[key_val]['deg_0'] for key_val in tqdm(ligands_degree_dict.keys())]\n",
    "\n",
    "degree_train_1_0_targets = [targets_degree_dict[key_val]['deg_1'] for key_val in tqdm(targets_degree_dict.keys())]\n",
    "degree_train_0_1_targets = [targets_degree_dict[key_val]['deg_0'] for key_val in tqdm(targets_degree_dict.keys())]"
   ]
  },
  {
   "cell_type": "code",
   "execution_count": 22,
   "metadata": {},
   "outputs": [],
   "source": [
    "with open('../data/fold4/degreetrain10ligands.txt', 'w') as file:\n",
    "    for degree in degree_train_1_0_ligands:\n",
    "        file.write(\"%i\\n\" % degree)\n",
    "        \n",
    "file.close()\n",
    "\n",
    "with open('../data/fold4/degreetrain01ligands.txt', 'w') as file:\n",
    "    for degree in degree_train_0_1_ligands:\n",
    "        file.write(\"%i\\n\" % degree)\n",
    "        \n",
    "file.close()\n",
    "\n",
    "with open('../data/fold4/degreetrain10targets.txt', 'w') as file:\n",
    "    for degree in degree_train_1_0_targets:\n",
    "        file.write(\"%i\\n\" % degree)\n",
    "        \n",
    "file.close()\n",
    "\n",
    "with open('../data/fold4/degreetrain01targets.txt', 'w') as file:\n",
    "    for degree in degree_train_0_1_targets:\n",
    "        file.write(\"%i\\n\" % degree)\n",
    "        \n",
    "file.close()\n",
    "\n",
    "textfile = open(\"../data/fold4/ligands.txt\", \"w\")\n",
    "for element in ligands:\n",
    "    textfile.write(element + \"\\n\")\n",
    "textfile.close()\n",
    "\n",
    "textfile = open(\"../data/fold4/targets.txt\", \"w\")\n",
    "for element in targets:\n",
    "    textfile.write(element + \"\\n\")\n",
    "textfile.close()"
   ]
  },
  {
   "cell_type": "markdown",
   "metadata": {
    "heading_collapsed": true
   },
   "source": [
    "# Randomly assigning SMILEs and Sequences"
   ]
  },
  {
   "cell_type": "code",
   "execution_count": 41,
   "metadata": {
    "hidden": true
   },
   "outputs": [],
   "source": [
    "def swapper(intake_list):\n",
    "    \n",
    "    swap_dict = {}\n",
    "    bag = set(intake_list)\n",
    "    buffer = set()\n",
    "    \n",
    "    for item in set(intake_list):\n",
    "        \n",
    "        if len(bag) > 0:\n",
    "            #selected = bag.pop()\n",
    "            selected = random.choice(list(bag))\n",
    "            bag.remove(selected)\n",
    "        else:\n",
    "            selected = random.choice(list(buffer))\n",
    "            buffer.remove(selected)\n",
    "        \n",
    "        if item != selected:\n",
    "            swap_dict.update({item:selected})\n",
    "        else:\n",
    "            print(f'Same item selected item {item} selected {selected}')\n",
    "            buffer.add(selected)\n",
    "    \n",
    "    assert len(bag) == 0, bag\n",
    "    \n",
    "    return swap_dict\n",
    "            "
   ]
  },
  {
   "cell_type": "code",
   "execution_count": 43,
   "metadata": {
    "hidden": true
   },
   "outputs": [],
   "source": [
    "fake_X_drug_mapping = swapper(list(X_drug))"
   ]
  },
  {
   "cell_type": "code",
   "execution_count": 44,
   "metadata": {
    "hidden": true
   },
   "outputs": [],
   "source": [
    "fake_X_target_mapping = swapper(list(X_target))"
   ]
  },
  {
   "cell_type": "code",
   "execution_count": 45,
   "metadata": {
    "hidden": true
   },
   "outputs": [],
   "source": [
    "correct_dataset = pd.DataFrame({'X_drug': X_drug, 'X_target': X_target, 'y': y})"
   ]
  },
  {
   "cell_type": "code",
   "execution_count": 46,
   "metadata": {
    "hidden": true
   },
   "outputs": [],
   "source": [
    "correct_dataset['fake_X_drug'] = correct_dataset['X_drug'].map(fake_X_drug_mapping)\n",
    "correct_dataset['fake_X_target'] = correct_dataset['X_target'].map(fake_X_target_mapping)"
   ]
  },
  {
   "cell_type": "code",
   "execution_count": 47,
   "metadata": {
    "hidden": true
   },
   "outputs": [
    {
     "name": "stdout",
     "output_type": "stream",
     "text": [
      "Empty DataFrame\n",
      "Columns: [X_drug, X_target, y, fake_X_drug, fake_X_target]\n",
      "Index: []\n",
      "Empty DataFrame\n",
      "Columns: [X_drug, X_target, y, fake_X_drug, fake_X_target]\n",
      "Index: []\n",
      "Empty DataFrame\n",
      "Columns: [X_drug, X_target, y, fake_X_drug, fake_X_target]\n",
      "Index: []\n",
      "Empty DataFrame\n",
      "Columns: [X_drug, X_target, y, fake_X_drug, fake_X_target]\n",
      "Index: []\n",
      "Empty DataFrame\n",
      "Columns: [X_drug, X_target, y, fake_X_drug, fake_X_target]\n",
      "Index: []\n"
     ]
    }
   ],
   "source": [
    "for column in correct_dataset.columns:\n",
    "    print(correct_dataset[correct_dataset[column].isna()])"
   ]
  },
  {
   "cell_type": "code",
   "execution_count": 48,
   "metadata": {
    "hidden": true
   },
   "outputs": [],
   "source": [
    "correct_dataset = correct_dataset[~correct_dataset['fake_X_drug'].isna()]"
   ]
  },
  {
   "cell_type": "code",
   "execution_count": 49,
   "metadata": {
    "hidden": true
   },
   "outputs": [
    {
     "name": "stdout",
     "output_type": "stream",
     "text": [
      "Drug Target Interaction Prediction Mode...\n",
      "in total: 70750 drug-target pairs\n",
      "encoding drug...\n",
      "unique drugs: 13392\n",
      "encoding protein...\n",
      "unique target sequence: 1507\n",
      "splitting dataset...\n",
      "Done.\n"
     ]
    }
   ],
   "source": [
    "drug_encoding = 'Transformer'\n",
    "target_encoding = 'CNN'\n",
    "train_shuffled, val_shuffled, test_shuffled = data_process(list(correct_dataset['fake_X_drug']), \n",
    "                                list(correct_dataset['fake_X_target']), \n",
    "                                y, \n",
    "                                drug_encoding, target_encoding, \n",
    "                                split_method='random',frac=[0.7,0.1,0.2])\n",
    "\n",
    "config = generate_config(drug_encoding = drug_encoding, \n",
    "                         target_encoding = target_encoding, \n",
    "                         cls_hidden_dims = [1024,1024,512], \n",
    "                         train_epoch = 100, \n",
    "                         LR = 0.001, \n",
    "                         batch_size = 128,\n",
    "                         cnn_target_filters = [32,64,96],\n",
    "                         cnn_target_kernels = [4,8,12]\n",
    "                        )"
   ]
  },
  {
   "cell_type": "code",
   "execution_count": 50,
   "metadata": {
    "hidden": true,
    "scrolled": true
   },
   "outputs": [
    {
     "name": "stdout",
     "output_type": "stream",
     "text": [
      "Let's use 4 GPUs!\n",
      "--- Data Preparation ---\n",
      "--- Go for Training ---\n",
      "Training at Epoch 1 iteration 0 with loss 0.69510. Total time 0.005 hours\n",
      "Training at Epoch 1 iteration 100 with loss 0.38923. Total time 0.02194 hours\n",
      "Training at Epoch 1 iteration 200 with loss 0.36132. Total time 0.04 hours\n",
      "Training at Epoch 1 iteration 300 with loss 0.39843. Total time 0.05916 hours\n",
      "Validation at Epoch 1, AUROC: 0.81367 , AUPRC: 0.54311 , F1: 0.23394 , Cross-entropy Loss: 4.89156\n",
      "Training at Epoch 2 iteration 0 with loss 0.31045. Total time 0.08305 hours\n",
      "Training at Epoch 2 iteration 100 with loss 0.30092. Total time 0.1025 hours\n",
      "Training at Epoch 2 iteration 200 with loss 0.35834. Total time 0.12111 hours\n",
      "Training at Epoch 2 iteration 300 with loss 0.33962. Total time 0.14055 hours\n",
      "Validation at Epoch 2, AUROC: 0.81882 , AUPRC: 0.56086 , F1: 0.23394 , Cross-entropy Loss: 4.89156\n",
      "Training at Epoch 3 iteration 0 with loss 0.41912. Total time 0.16416 hours\n",
      "Training at Epoch 3 iteration 100 with loss 0.28969. Total time 0.18361 hours\n",
      "Training at Epoch 3 iteration 200 with loss 0.34253. Total time 0.20194 hours\n",
      "Training at Epoch 3 iteration 300 with loss 0.30539. Total time 0.22138 hours\n",
      "Validation at Epoch 3, AUROC: 0.82335 , AUPRC: 0.56406 , F1: 0.28031 , Cross-entropy Loss: 4.83787\n",
      "Training at Epoch 4 iteration 0 with loss 0.27756. Total time 0.24527 hours\n",
      "Training at Epoch 4 iteration 100 with loss 0.38413. Total time 0.265 hours\n",
      "Training at Epoch 4 iteration 200 with loss 0.35786. Total time 0.28361 hours\n",
      "Training at Epoch 4 iteration 300 with loss 0.29694. Total time 0.30277 hours\n",
      "Validation at Epoch 4, AUROC: 0.82871 , AUPRC: 0.58111 , F1: 0.36862 , Cross-entropy Loss: 4.71583\n",
      "Training at Epoch 5 iteration 0 with loss 0.33694. Total time 0.32638 hours\n",
      "Training at Epoch 5 iteration 100 with loss 0.30821. Total time 0.34583 hours\n",
      "Training at Epoch 5 iteration 200 with loss 0.32404. Total time 0.36444 hours\n",
      "Training at Epoch 5 iteration 300 with loss 0.38156. Total time 0.38333 hours\n",
      "Validation at Epoch 5, AUROC: 0.83066 , AUPRC: 0.58363 , F1: 0.36170 , Cross-entropy Loss: 4.68654\n",
      "Training at Epoch 6 iteration 0 with loss 0.40518. Total time 0.40722 hours\n",
      "Training at Epoch 6 iteration 100 with loss 0.25034. Total time 0.42694 hours\n",
      "Training at Epoch 6 iteration 200 with loss 0.40334. Total time 0.44527 hours\n",
      "Training at Epoch 6 iteration 300 with loss 0.34445. Total time 0.46472 hours\n",
      "Validation at Epoch 6, AUROC: 0.82827 , AUPRC: 0.58834 , F1: 0.32920 , Cross-entropy Loss: 4.75488\n",
      "Training at Epoch 7 iteration 0 with loss 0.37710. Total time 0.48833 hours\n",
      "Training at Epoch 7 iteration 100 with loss 0.34033. Total time 0.50777 hours\n",
      "Training at Epoch 7 iteration 200 with loss 0.34438. Total time 0.52666 hours\n",
      "Training at Epoch 7 iteration 300 with loss 0.27598. Total time 0.54611 hours\n",
      "Validation at Epoch 7, AUROC: 0.83118 , AUPRC: 0.58164 , F1: 0.26845 , Cross-entropy Loss: 4.78905\n",
      "Training at Epoch 8 iteration 0 with loss 0.37982. Total time 0.57 hours\n",
      "Training at Epoch 8 iteration 100 with loss 0.32895. Total time 0.59 hours\n",
      "Training at Epoch 8 iteration 200 with loss 0.30483. Total time 0.60833 hours\n",
      "Training at Epoch 8 iteration 300 with loss 0.35018. Total time 0.62777 hours\n",
      "Validation at Epoch 8, AUROC: 0.84017 , AUPRC: 0.60980 , F1: 0.39297 , Cross-entropy Loss: 4.55473\n",
      "Training at Epoch 9 iteration 0 with loss 0.26786. Total time 0.65166 hours\n",
      "Training at Epoch 9 iteration 100 with loss 0.26865. Total time 0.67138 hours\n",
      "Training at Epoch 9 iteration 200 with loss 0.25309. Total time 0.69 hours\n",
      "Training at Epoch 9 iteration 300 with loss 0.25839. Total time 0.70944 hours\n",
      "Validation at Epoch 9, AUROC: 0.83980 , AUPRC: 0.61135 , F1: 0.38239 , Cross-entropy Loss: 4.58890\n",
      "Training at Epoch 10 iteration 0 with loss 0.30287. Total time 0.73277 hours\n",
      "Training at Epoch 10 iteration 100 with loss 0.35176. Total time 0.75222 hours\n",
      "Training at Epoch 10 iteration 200 with loss 0.29788. Total time 0.77055 hours\n",
      "Training at Epoch 10 iteration 300 with loss 0.32926. Total time 0.79 hours\n",
      "Validation at Epoch 10, AUROC: 0.84271 , AUPRC: 0.60739 , F1: 0.44497 , Cross-entropy Loss: 4.55474\n",
      "Training at Epoch 11 iteration 0 with loss 0.32276. Total time 0.81388 hours\n",
      "Training at Epoch 11 iteration 100 with loss 0.25975. Total time 0.83361 hours\n",
      "Training at Epoch 11 iteration 200 with loss 0.35386. Total time 0.85222 hours\n",
      "Training at Epoch 11 iteration 300 with loss 0.27365. Total time 0.87166 hours\n",
      "Validation at Epoch 11, AUROC: 0.84024 , AUPRC: 0.61303 , F1: 0.41427 , Cross-entropy Loss: 4.48638\n",
      "Training at Epoch 12 iteration 0 with loss 0.23626. Total time 0.89555 hours\n",
      "Training at Epoch 12 iteration 100 with loss 0.29099. Total time 0.91472 hours\n",
      "Training at Epoch 12 iteration 200 with loss 0.29711. Total time 0.93333 hours\n",
      "Training at Epoch 12 iteration 300 with loss 0.21656. Total time 0.95277 hours\n",
      "Validation at Epoch 12, AUROC: 0.84434 , AUPRC: 0.61404 , F1: 0.5 , Cross-entropy Loss: 4.44246\n",
      "Training at Epoch 13 iteration 0 with loss 0.21977. Total time 0.97638 hours\n",
      "Training at Epoch 13 iteration 100 with loss 0.21436. Total time 0.99583 hours\n",
      "Training at Epoch 13 iteration 200 with loss 0.30634. Total time 1.01444 hours\n",
      "Training at Epoch 13 iteration 300 with loss 0.35639. Total time 1.03333 hours\n",
      "Validation at Epoch 13, AUROC: 0.84339 , AUPRC: 0.61622 , F1: 0.47851 , Cross-entropy Loss: 4.38387\n",
      "Training at Epoch 14 iteration 0 with loss 0.32903. Total time 1.05722 hours\n",
      "Training at Epoch 14 iteration 100 with loss 0.26488. Total time 1.07666 hours\n",
      "Training at Epoch 14 iteration 200 with loss 0.39284. Total time 1.09583 hours\n",
      "Training at Epoch 14 iteration 300 with loss 0.26880. Total time 1.11527 hours\n",
      "Validation at Epoch 14, AUROC: 0.84179 , AUPRC: 0.60796 , F1: 0.38359 , Cross-entropy Loss: 4.54985\n",
      "Training at Epoch 15 iteration 0 with loss 0.30862. Total time 1.13944 hours\n",
      "Training at Epoch 15 iteration 100 with loss 0.30322. Total time 1.15916 hours\n",
      "Training at Epoch 15 iteration 200 with loss 0.26212. Total time 1.17833 hours\n",
      "Training at Epoch 15 iteration 300 with loss 0.17554. Total time 1.1975 hours\n",
      "Validation at Epoch 15, AUROC: 0.83954 , AUPRC: 0.61083 , F1: 0.47569 , Cross-entropy Loss: 4.42293\n",
      "Training at Epoch 16 iteration 0 with loss 0.29910. Total time 1.22166 hours\n",
      "Training at Epoch 16 iteration 100 with loss 0.38943. Total time 1.24138 hours\n",
      "Training at Epoch 16 iteration 200 with loss 0.33218. Total time 1.26027 hours\n",
      "Training at Epoch 16 iteration 300 with loss 0.30506. Total time 1.28 hours\n",
      "Validation at Epoch 16, AUROC: 0.84113 , AUPRC: 0.61474 , F1: 0.44213 , Cross-entropy Loss: 4.44733\n",
      "Training at Epoch 17 iteration 0 with loss 0.33761. Total time 1.30361 hours\n",
      "Training at Epoch 17 iteration 100 with loss 0.29087. Total time 1.32333 hours\n",
      "Training at Epoch 17 iteration 200 with loss 0.23976. Total time 1.34222 hours\n",
      "Training at Epoch 17 iteration 300 with loss 0.27301. Total time 1.36138 hours\n",
      "Validation at Epoch 17, AUROC: 0.84642 , AUPRC: 0.62415 , F1: 0.49915 , Cross-entropy Loss: 4.33018\n",
      "Training at Epoch 18 iteration 0 with loss 0.32084. Total time 1.385 hours\n",
      "Training at Epoch 18 iteration 100 with loss 0.27302. Total time 1.40472 hours\n",
      "Training at Epoch 18 iteration 200 with loss 0.39712. Total time 1.42361 hours\n",
      "Training at Epoch 18 iteration 300 with loss 0.29821. Total time 1.44305 hours\n",
      "Validation at Epoch 18, AUROC: 0.84278 , AUPRC: 0.61085 , F1: 0.48399 , Cross-entropy Loss: 4.48640\n",
      "Training at Epoch 19 iteration 0 with loss 0.23503. Total time 1.46666 hours\n",
      "Training at Epoch 19 iteration 100 with loss 0.33333. Total time 1.48611 hours\n",
      "Training at Epoch 19 iteration 200 with loss 0.22656. Total time 1.505 hours\n",
      "Training at Epoch 19 iteration 300 with loss 0.27723. Total time 1.52416 hours\n",
      "Validation at Epoch 19, AUROC: 0.84394 , AUPRC: 0.61620 , F1: 0.46773 , Cross-entropy Loss: 4.38875\n",
      "Training at Epoch 20 iteration 0 with loss 0.24131. Total time 1.54805 hours\n",
      "Training at Epoch 20 iteration 100 with loss 0.25298. Total time 1.56722 hours\n",
      "Training at Epoch 20 iteration 200 with loss 0.31571. Total time 1.58638 hours\n",
      "Training at Epoch 20 iteration 300 with loss 0.18444. Total time 1.60527 hours\n",
      "Validation at Epoch 20, AUROC: 0.84548 , AUPRC: 0.61727 , F1: 0.46417 , Cross-entropy Loss: 4.41805\n",
      "Training at Epoch 21 iteration 0 with loss 0.30085. Total time 1.62916 hours\n",
      "Training at Epoch 21 iteration 100 with loss 0.26054. Total time 1.64861 hours\n",
      "Training at Epoch 21 iteration 200 with loss 0.24255. Total time 1.66805 hours\n",
      "Training at Epoch 21 iteration 300 with loss 0.37754. Total time 1.68694 hours\n",
      "Validation at Epoch 21, AUROC: 0.84609 , AUPRC: 0.61981 , F1: 0.49184 , Cross-entropy Loss: 4.40829\n",
      "Training at Epoch 22 iteration 0 with loss 0.35489. Total time 1.71111 hours\n",
      "Training at Epoch 22 iteration 100 with loss 0.26491. Total time 1.73083 hours\n",
      "Training at Epoch 22 iteration 200 with loss 0.21309. Total time 1.75 hours\n",
      "Training at Epoch 22 iteration 300 with loss 0.36479. Total time 1.76916 hours\n",
      "Validation at Epoch 22, AUROC: 0.84479 , AUPRC: 0.62144 , F1: 0.50166 , Cross-entropy Loss: 4.38388\n",
      "Training at Epoch 23 iteration 0 with loss 0.40068. Total time 1.79305 hours\n",
      "Training at Epoch 23 iteration 100 with loss 0.29286. Total time 1.81222 hours\n",
      "Training at Epoch 23 iteration 200 with loss 0.25427. Total time 1.83138 hours\n",
      "Training at Epoch 23 iteration 300 with loss 0.23312. Total time 1.85 hours\n",
      "Validation at Epoch 23, AUROC: 0.84502 , AUPRC: 0.62046 , F1: 0.45931 , Cross-entropy Loss: 4.37899\n",
      "Training at Epoch 24 iteration 0 with loss 0.27790. Total time 1.87416 hours\n",
      "Training at Epoch 24 iteration 100 with loss 0.28218. Total time 1.89361 hours\n",
      "Training at Epoch 24 iteration 200 with loss 0.31566. Total time 1.91277 hours\n",
      "Training at Epoch 24 iteration 300 with loss 0.27123. Total time 1.93194 hours\n",
      "Validation at Epoch 24, AUROC: 0.84530 , AUPRC: 0.61549 , F1: 0.50351 , Cross-entropy Loss: 4.47664\n",
      "Training at Epoch 25 iteration 0 with loss 0.33640. Total time 1.95583 hours\n",
      "Training at Epoch 25 iteration 100 with loss 0.23804. Total time 1.97555 hours\n",
      "Training at Epoch 25 iteration 200 with loss 0.26543. Total time 1.99527 hours\n",
      "Training at Epoch 25 iteration 300 with loss 0.41502. Total time 2.01416 hours\n",
      "Validation at Epoch 25, AUROC: 0.84813 , AUPRC: 0.62414 , F1: 0.50416 , Cross-entropy Loss: 4.35947\n",
      "Training at Epoch 26 iteration 0 with loss 0.35075. Total time 2.03777 hours\n",
      "Training at Epoch 26 iteration 100 with loss 0.26872. Total time 2.05722 hours\n",
      "Training at Epoch 26 iteration 200 with loss 0.27944. Total time 2.07722 hours\n",
      "Training at Epoch 26 iteration 300 with loss 0.35826. Total time 2.09583 hours\n",
      "Validation at Epoch 26, AUROC: 0.84340 , AUPRC: 0.62196 , F1: 0.48607 , Cross-entropy Loss: 4.32529\n",
      "Training at Epoch 27 iteration 0 with loss 0.38475. Total time 2.11972 hours\n",
      "Training at Epoch 27 iteration 100 with loss 0.27386. Total time 2.13916 hours\n",
      "Training at Epoch 27 iteration 200 with loss 0.32105. Total time 2.15888 hours\n",
      "Training at Epoch 27 iteration 300 with loss 0.33866. Total time 2.17805 hours\n",
      "Validation at Epoch 27, AUROC: 0.84209 , AUPRC: 0.61447 , F1: 0.42768 , Cross-entropy Loss: 4.52056\n",
      "Training at Epoch 28 iteration 0 with loss 0.22443. Total time 2.20166 hours\n",
      "Training at Epoch 28 iteration 100 with loss 0.35762. Total time 2.22111 hours\n",
      "Training at Epoch 28 iteration 200 with loss 0.24520. Total time 2.24055 hours\n",
      "Training at Epoch 28 iteration 300 with loss 0.32717. Total time 2.26 hours\n",
      "Validation at Epoch 28, AUROC: 0.84656 , AUPRC: 0.62350 , F1: 0.51553 , Cross-entropy Loss: 4.33994\n",
      "Training at Epoch 29 iteration 0 with loss 0.25147. Total time 2.28388 hours\n",
      "Training at Epoch 29 iteration 100 with loss 0.20154. Total time 2.30333 hours\n",
      "Training at Epoch 29 iteration 200 with loss 0.28932. Total time 2.3225 hours\n",
      "Training at Epoch 29 iteration 300 with loss 0.30551. Total time 2.34166 hours\n",
      "Validation at Epoch 29, AUROC: 0.84701 , AUPRC: 0.62770 , F1: 0.43092 , Cross-entropy Loss: 4.38387\n",
      "Training at Epoch 30 iteration 0 with loss 0.26474. Total time 2.36527 hours\n",
      "Training at Epoch 30 iteration 100 with loss 0.34875. Total time 2.38444 hours\n",
      "Training at Epoch 30 iteration 200 with loss 0.24192. Total time 2.40388 hours\n",
      "Training at Epoch 30 iteration 300 with loss 0.30975. Total time 2.4225 hours\n",
      "Validation at Epoch 30, AUROC: 0.84652 , AUPRC: 0.62450 , F1: 0.41038 , Cross-entropy Loss: 4.43268\n",
      "Training at Epoch 31 iteration 0 with loss 0.29282. Total time 2.44611 hours\n",
      "Training at Epoch 31 iteration 100 with loss 0.27304. Total time 2.46555 hours\n",
      "Training at Epoch 31 iteration 200 with loss 0.24297. Total time 2.48527 hours\n",
      "Training at Epoch 31 iteration 300 with loss 0.28677. Total time 2.50388 hours\n",
      "Validation at Epoch 31, AUROC: 0.84905 , AUPRC: 0.63154 , F1: 0.45197 , Cross-entropy Loss: 4.34481\n",
      "Training at Epoch 32 iteration 0 with loss 0.30923. Total time 2.5275 hours\n",
      "Training at Epoch 32 iteration 100 with loss 0.29861. Total time 2.54694 hours\n",
      "Training at Epoch 32 iteration 200 with loss 0.29957. Total time 2.56638 hours\n",
      "Training at Epoch 32 iteration 300 with loss 0.28524. Total time 2.58527 hours\n",
      "Validation at Epoch 32, AUROC: 0.84807 , AUPRC: 0.62505 , F1: 0.39548 , Cross-entropy Loss: 4.44733\n",
      "Training at Epoch 33 iteration 0 with loss 0.25953. Total time 2.60888 hours\n",
      "Training at Epoch 33 iteration 100 with loss 0.26563. Total time 2.62833 hours\n",
      "Training at Epoch 33 iteration 200 with loss 0.32930. Total time 2.6475 hours\n",
      "Training at Epoch 33 iteration 300 with loss 0.26347. Total time 2.66666 hours\n",
      "Validation at Epoch 33, AUROC: 0.84773 , AUPRC: 0.62598 , F1: 0.50112 , Cross-entropy Loss: 4.34482\n",
      "Training at Epoch 34 iteration 0 with loss 0.30756. Total time 2.69027 hours\n",
      "Training at Epoch 34 iteration 100 with loss 0.24014. Total time 2.70972 hours\n",
      "Training at Epoch 34 iteration 200 with loss 0.31497. Total time 2.72916 hours\n",
      "Training at Epoch 34 iteration 300 with loss 0.32021. Total time 2.74833 hours\n",
      "Validation at Epoch 34, AUROC: 0.84954 , AUPRC: 0.62369 , F1: 0.46464 , Cross-entropy Loss: 4.39852\n",
      "Training at Epoch 35 iteration 0 with loss 0.25649. Total time 2.77194 hours\n",
      "Training at Epoch 35 iteration 100 with loss 0.39261. Total time 2.79138 hours\n",
      "Training at Epoch 35 iteration 200 with loss 0.30229. Total time 2.81083 hours\n",
      "Training at Epoch 35 iteration 300 with loss 0.32209. Total time 2.82944 hours\n",
      "Validation at Epoch 35, AUROC: 0.84614 , AUPRC: 0.62072 , F1: 0.50637 , Cross-entropy Loss: 4.34971\n",
      "Training at Epoch 36 iteration 0 with loss 0.30924. Total time 2.85333 hours\n",
      "Training at Epoch 36 iteration 100 with loss 0.27907. Total time 2.87222 hours\n",
      "Training at Epoch 36 iteration 200 with loss 0.23471. Total time 2.89138 hours\n",
      "Training at Epoch 36 iteration 300 with loss 0.27264. Total time 2.91027 hours\n",
      "Validation at Epoch 36, AUROC: 0.84764 , AUPRC: 0.62373 , F1: 0.46226 , Cross-entropy Loss: 4.41805\n",
      "Training at Epoch 37 iteration 0 with loss 0.33911. Total time 2.93388 hours\n",
      "Training at Epoch 37 iteration 100 with loss 0.31903. Total time 2.95361 hours\n",
      "Training at Epoch 37 iteration 200 with loss 0.27267. Total time 2.97305 hours\n",
      "Training at Epoch 37 iteration 300 with loss 0.39756. Total time 2.99222 hours\n",
      "Validation at Epoch 37, AUROC: 0.84979 , AUPRC: 0.62739 , F1: 0.48916 , Cross-entropy Loss: 4.37411\n",
      "Training at Epoch 38 iteration 0 with loss 0.31063. Total time 3.01583 hours\n",
      "Training at Epoch 38 iteration 100 with loss 0.35683. Total time 3.03527 hours\n",
      "Training at Epoch 38 iteration 200 with loss 0.28095. Total time 3.055 hours\n",
      "Training at Epoch 38 iteration 300 with loss 0.26978. Total time 3.07444 hours\n",
      "Validation at Epoch 38, AUROC: 0.84569 , AUPRC: 0.62003 , F1: 0.48236 , Cross-entropy Loss: 4.44246\n",
      "Training at Epoch 39 iteration 0 with loss 0.26542. Total time 3.09805 hours\n",
      "Training at Epoch 39 iteration 100 with loss 0.22005. Total time 3.1175 hours\n",
      "Training at Epoch 39 iteration 200 with loss 0.32128. Total time 3.13722 hours\n",
      "Training at Epoch 39 iteration 300 with loss 0.25401. Total time 3.15611 hours\n",
      "Validation at Epoch 39, AUROC: 0.84698 , AUPRC: 0.62341 , F1: 0.45021 , Cross-entropy Loss: 4.44733\n",
      "Training at Epoch 40 iteration 0 with loss 0.32329. Total time 3.17972 hours\n",
      "Training at Epoch 40 iteration 100 with loss 0.24048. Total time 3.19888 hours\n",
      "Training at Epoch 40 iteration 200 with loss 0.18918. Total time 3.21861 hours\n",
      "Training at Epoch 40 iteration 300 with loss 0.23497. Total time 3.2375 hours\n",
      "Validation at Epoch 40, AUROC: 0.84606 , AUPRC: 0.62085 , F1: 0.43746 , Cross-entropy Loss: 4.45710\n",
      "Training at Epoch 41 iteration 0 with loss 0.22678. Total time 3.26166 hours\n",
      "Training at Epoch 41 iteration 100 with loss 0.29904. Total time 3.28083 hours\n",
      "Training at Epoch 41 iteration 200 with loss 0.20447. Total time 3.30055 hours\n",
      "Training at Epoch 41 iteration 300 with loss 0.29117. Total time 3.31944 hours\n",
      "Validation at Epoch 41, AUROC: 0.84426 , AUPRC: 0.62050 , F1: 0.46500 , Cross-entropy Loss: 4.40340\n",
      "Training at Epoch 42 iteration 0 with loss 0.34276. Total time 3.34333 hours\n",
      "Training at Epoch 42 iteration 100 with loss 0.24454. Total time 3.3625 hours\n",
      "Training at Epoch 42 iteration 200 with loss 0.28901. Total time 3.38194 hours\n",
      "Training at Epoch 42 iteration 300 with loss 0.31322. Total time 3.40055 hours\n",
      "Validation at Epoch 42, AUROC: 0.84456 , AUPRC: 0.61764 , F1: 0.41819 , Cross-entropy Loss: 4.49615\n",
      "Training at Epoch 43 iteration 0 with loss 0.28241. Total time 3.42416 hours\n",
      "Training at Epoch 43 iteration 100 with loss 0.28618. Total time 3.44333 hours\n",
      "Training at Epoch 43 iteration 200 with loss 0.46572. Total time 3.46305 hours\n",
      "Training at Epoch 43 iteration 300 with loss 0.25890. Total time 3.48222 hours\n",
      "Validation at Epoch 43, AUROC: 0.84582 , AUPRC: 0.62520 , F1: 0.49858 , Cross-entropy Loss: 4.32041\n",
      "Training at Epoch 44 iteration 0 with loss 0.29364. Total time 3.50611 hours\n",
      "Training at Epoch 44 iteration 100 with loss 0.24593. Total time 3.525 hours\n",
      "Training at Epoch 44 iteration 200 with loss 0.31734. Total time 3.54444 hours\n",
      "Training at Epoch 44 iteration 300 with loss 0.26357. Total time 3.56333 hours\n",
      "Validation at Epoch 44, AUROC: 0.84837 , AUPRC: 0.62448 , F1: 0.47580 , Cross-entropy Loss: 4.38876\n",
      "Training at Epoch 45 iteration 0 with loss 0.34713. Total time 3.58722 hours\n",
      "Training at Epoch 45 iteration 100 with loss 0.28764. Total time 3.60666 hours\n",
      "Training at Epoch 45 iteration 200 with loss 0.21007. Total time 3.62638 hours\n",
      "Training at Epoch 45 iteration 300 with loss 0.21401. Total time 3.64555 hours\n",
      "Validation at Epoch 45, AUROC: 0.84714 , AUPRC: 0.62606 , F1: 0.54820 , Cross-entropy Loss: 4.23255\n",
      "Training at Epoch 46 iteration 0 with loss 0.27806. Total time 3.66916 hours\n",
      "Training at Epoch 46 iteration 100 with loss 0.26158. Total time 3.68861 hours\n",
      "Training at Epoch 46 iteration 200 with loss 0.34086. Total time 3.70833 hours\n",
      "Training at Epoch 46 iteration 300 with loss 0.33814. Total time 3.7275 hours\n",
      "Validation at Epoch 46, AUROC: 0.84768 , AUPRC: 0.62473 , F1: 0.50196 , Cross-entropy Loss: 4.33018\n",
      "Training at Epoch 47 iteration 0 with loss 0.20613. Total time 3.75138 hours\n",
      "Training at Epoch 47 iteration 100 with loss 0.25711. Total time 3.77083 hours\n",
      "Training at Epoch 47 iteration 200 with loss 0.26484. Total time 3.79055 hours\n",
      "Training at Epoch 47 iteration 300 with loss 0.25507. Total time 3.80944 hours\n",
      "Validation at Epoch 47, AUROC: 0.84745 , AUPRC: 0.62681 , F1: 0.42866 , Cross-entropy Loss: 4.39851\n",
      "Training at Epoch 48 iteration 0 with loss 0.27551. Total time 3.83333 hours\n",
      "Training at Epoch 48 iteration 100 with loss 0.27374. Total time 3.85277 hours\n",
      "Training at Epoch 48 iteration 200 with loss 0.20638. Total time 3.8725 hours\n",
      "Training at Epoch 48 iteration 300 with loss 0.24854. Total time 3.89138 hours\n",
      "Validation at Epoch 48, AUROC: 0.84664 , AUPRC: 0.62259 , F1: 0.54090 , Cross-entropy Loss: 4.30089\n",
      "Training at Epoch 49 iteration 0 with loss 0.18119. Total time 3.91555 hours\n",
      "Training at Epoch 49 iteration 100 with loss 0.26637. Total time 3.93472 hours\n",
      "Training at Epoch 49 iteration 200 with loss 0.32696. Total time 3.95444 hours\n",
      "Training at Epoch 49 iteration 300 with loss 0.24131. Total time 3.97361 hours\n",
      "Validation at Epoch 49, AUROC: 0.84460 , AUPRC: 0.61493 , F1: 0.43169 , Cross-entropy Loss: 4.44733\n",
      "Training at Epoch 50 iteration 0 with loss 0.30117. Total time 3.99722 hours\n",
      "Training at Epoch 50 iteration 100 with loss 0.37159. Total time 4.01611 hours\n",
      "Training at Epoch 50 iteration 200 with loss 0.22471. Total time 4.03583 hours\n",
      "Training at Epoch 50 iteration 300 with loss 0.18845. Total time 4.05472 hours\n",
      "Validation at Epoch 50, AUROC: 0.84584 , AUPRC: 0.62719 , F1: 0.49485 , Cross-entropy Loss: 4.31553\n",
      "Training at Epoch 51 iteration 0 with loss 0.28959. Total time 4.07861 hours\n",
      "Training at Epoch 51 iteration 100 with loss 0.26130. Total time 4.09805 hours\n",
      "Training at Epoch 51 iteration 200 with loss 0.28779. Total time 4.11777 hours\n",
      "Training at Epoch 51 iteration 300 with loss 0.24419. Total time 4.13666 hours\n",
      "Validation at Epoch 51, AUROC: 0.84942 , AUPRC: 0.62736 , F1: 0.54865 , Cross-entropy Loss: 4.25696\n",
      "Training at Epoch 52 iteration 0 with loss 0.26311. Total time 4.16 hours\n",
      "Training at Epoch 52 iteration 100 with loss 0.33872. Total time 4.17916 hours\n",
      "Training at Epoch 52 iteration 200 with loss 0.26685. Total time 4.19861 hours\n",
      "Training at Epoch 52 iteration 300 with loss 0.33186. Total time 4.21694 hours\n",
      "Validation at Epoch 52, AUROC: 0.84666 , AUPRC: 0.62330 , F1: 0.43549 , Cross-entropy Loss: 4.37898\n",
      "Training at Epoch 53 iteration 0 with loss 0.27725. Total time 4.24111 hours\n",
      "Training at Epoch 53 iteration 100 with loss 0.38468. Total time 4.26027 hours\n",
      "Training at Epoch 53 iteration 200 with loss 0.18733. Total time 4.27972 hours\n",
      "Training at Epoch 53 iteration 300 with loss 0.31886. Total time 4.29805 hours\n",
      "Validation at Epoch 53, AUROC: 0.84789 , AUPRC: 0.63121 , F1: 0.44263 , Cross-entropy Loss: 4.33993\n",
      "Training at Epoch 54 iteration 0 with loss 0.25262. Total time 4.32194 hours\n",
      "Training at Epoch 54 iteration 100 with loss 0.21341. Total time 4.34138 hours\n",
      "Training at Epoch 54 iteration 200 with loss 0.21302. Total time 4.36055 hours\n",
      "Training at Epoch 54 iteration 300 with loss 0.32309. Total time 4.38027 hours\n",
      "Validation at Epoch 54, AUROC: 0.84902 , AUPRC: 0.62659 , F1: 0.50694 , Cross-entropy Loss: 4.33018\n",
      "Training at Epoch 55 iteration 0 with loss 0.36854. Total time 4.40388 hours\n",
      "Training at Epoch 55 iteration 100 with loss 0.28284. Total time 4.42333 hours\n",
      "Training at Epoch 55 iteration 200 with loss 0.31091. Total time 4.44277 hours\n",
      "Training at Epoch 55 iteration 300 with loss 0.30337. Total time 4.46138 hours\n",
      "Validation at Epoch 55, AUROC: 0.84537 , AUPRC: 0.62368 , F1: 0.45772 , Cross-entropy Loss: 4.38387\n",
      "Training at Epoch 56 iteration 0 with loss 0.36096. Total time 4.485 hours\n",
      "Training at Epoch 56 iteration 100 with loss 0.23934. Total time 4.50472 hours\n",
      "Training at Epoch 56 iteration 200 with loss 0.38642. Total time 4.52444 hours\n",
      "Training at Epoch 56 iteration 300 with loss 0.26661. Total time 4.54333 hours\n",
      "Validation at Epoch 56, AUROC: 0.84728 , AUPRC: 0.62913 , F1: 0.42435 , Cross-entropy Loss: 4.38387\n",
      "Training at Epoch 57 iteration 0 with loss 0.26012. Total time 4.56722 hours\n",
      "Training at Epoch 57 iteration 100 with loss 0.32602. Total time 4.58666 hours\n",
      "Training at Epoch 57 iteration 200 with loss 0.24174. Total time 4.60666 hours\n",
      "Training at Epoch 57 iteration 300 with loss 0.35121. Total time 4.62638 hours\n",
      "Validation at Epoch 57, AUROC: 0.84809 , AUPRC: 0.62593 , F1: 0.49335 , Cross-entropy Loss: 4.28136\n",
      "Training at Epoch 58 iteration 0 with loss 0.22918. Total time 4.65055 hours\n",
      "Training at Epoch 58 iteration 100 with loss 0.29830. Total time 4.67027 hours\n",
      "Training at Epoch 58 iteration 200 with loss 0.23692. Total time 4.68972 hours\n",
      "Training at Epoch 58 iteration 300 with loss 0.22430. Total time 4.70888 hours\n",
      "Validation at Epoch 58, AUROC: 0.84791 , AUPRC: 0.62725 , F1: 0.49398 , Cross-entropy Loss: 4.31065\n",
      "Training at Epoch 59 iteration 0 with loss 0.24135. Total time 4.73277 hours\n",
      "Training at Epoch 59 iteration 100 with loss 0.37421. Total time 4.75222 hours\n",
      "Training at Epoch 59 iteration 200 with loss 0.27952. Total time 4.77194 hours\n",
      "Training at Epoch 59 iteration 300 with loss 0.22730. Total time 4.79111 hours\n",
      "Validation at Epoch 59, AUROC: 0.84546 , AUPRC: 0.62085 , F1: 0.50250 , Cross-entropy Loss: 4.36923\n",
      "Training at Epoch 60 iteration 0 with loss 0.30356. Total time 4.81444 hours\n",
      "Training at Epoch 60 iteration 100 with loss 0.32367. Total time 4.83361 hours\n",
      "Training at Epoch 60 iteration 200 with loss 0.29315. Total time 4.85333 hours\n",
      "Training at Epoch 60 iteration 300 with loss 0.34259. Total time 4.87222 hours\n",
      "Validation at Epoch 60, AUROC: 0.84628 , AUPRC: 0.61993 , F1: 0.54153 , Cross-entropy Loss: 4.36436\n",
      "Training at Epoch 61 iteration 0 with loss 0.31345. Total time 4.89611 hours\n",
      "Training at Epoch 61 iteration 100 with loss 0.28223. Total time 4.91527 hours\n",
      "Training at Epoch 61 iteration 200 with loss 0.29277. Total time 4.93472 hours\n",
      "Training at Epoch 61 iteration 300 with loss 0.35400. Total time 4.95388 hours\n",
      "Validation at Epoch 61, AUROC: 0.84622 , AUPRC: 0.62175 , F1: 0.50696 , Cross-entropy Loss: 4.32041\n",
      "Training at Epoch 62 iteration 0 with loss 0.39073. Total time 4.9775 hours\n",
      "Training at Epoch 62 iteration 100 with loss 0.20841. Total time 4.99694 hours\n",
      "Training at Epoch 62 iteration 200 with loss 0.23088. Total time 5.01638 hours\n",
      "Training at Epoch 62 iteration 300 with loss 0.33957. Total time 5.03527 hours\n",
      "Validation at Epoch 62, AUROC: 0.84753 , AUPRC: 0.62565 , F1: 0.52818 , Cross-entropy Loss: 4.29113\n",
      "Training at Epoch 63 iteration 0 with loss 0.33965. Total time 5.05888 hours\n",
      "Training at Epoch 63 iteration 100 with loss 0.31153. Total time 5.07833 hours\n",
      "Training at Epoch 63 iteration 200 with loss 0.36971. Total time 5.09805 hours\n",
      "Training at Epoch 63 iteration 300 with loss 0.27927. Total time 5.11722 hours\n",
      "Validation at Epoch 63, AUROC: 0.84569 , AUPRC: 0.62184 , F1: 0.49943 , Cross-entropy Loss: 4.31553\n",
      "Training at Epoch 64 iteration 0 with loss 0.31801. Total time 5.14111 hours\n",
      "Training at Epoch 64 iteration 100 with loss 0.28272. Total time 5.16 hours\n",
      "Training at Epoch 64 iteration 200 with loss 0.30588. Total time 5.17972 hours\n",
      "Training at Epoch 64 iteration 300 with loss 0.28231. Total time 5.19861 hours\n",
      "Validation at Epoch 64, AUROC: 0.84655 , AUPRC: 0.62258 , F1: 0.43576 , Cross-entropy Loss: 4.37410\n",
      "Training at Epoch 65 iteration 0 with loss 0.31047. Total time 5.22277 hours\n",
      "Training at Epoch 65 iteration 100 with loss 0.23460. Total time 5.24166 hours\n",
      "Training at Epoch 65 iteration 200 with loss 0.22906. Total time 5.26138 hours\n",
      "Training at Epoch 65 iteration 300 with loss 0.29795. Total time 5.28055 hours\n",
      "Validation at Epoch 65, AUROC: 0.84550 , AUPRC: 0.62140 , F1: 0.48291 , Cross-entropy Loss: 4.35947\n",
      "Training at Epoch 66 iteration 0 with loss 0.18937. Total time 5.30472 hours\n",
      "Training at Epoch 66 iteration 100 with loss 0.99278. Total time 5.32388 hours\n",
      "Training at Epoch 66 iteration 200 with loss 0.38436. Total time 5.34333 hours\n",
      "Training at Epoch 66 iteration 300 with loss 0.30575. Total time 5.36222 hours\n",
      "Validation at Epoch 66, AUROC: 0.84281 , AUPRC: 0.61212 , F1: 0.52883 , Cross-entropy Loss: 4.42782\n",
      "Training at Epoch 67 iteration 0 with loss 0.35559. Total time 5.38638 hours\n",
      "Training at Epoch 67 iteration 100 with loss 0.29513. Total time 5.40527 hours\n",
      "Training at Epoch 67 iteration 200 with loss 0.35540. Total time 5.425 hours\n",
      "Training at Epoch 67 iteration 300 with loss 0.25411. Total time 5.44388 hours\n",
      "Validation at Epoch 67, AUROC: 0.84678 , AUPRC: 0.62763 , F1: 0.38877 , Cross-entropy Loss: 4.46685\n",
      "Training at Epoch 68 iteration 0 with loss 0.24618. Total time 5.46777 hours\n",
      "Training at Epoch 68 iteration 100 with loss 0.28618. Total time 5.48722 hours\n",
      "Training at Epoch 68 iteration 200 with loss 0.27379. Total time 5.50694 hours\n",
      "Training at Epoch 68 iteration 300 with loss 0.30904. Total time 5.52638 hours\n",
      "Validation at Epoch 68, AUROC: 0.84801 , AUPRC: 0.62856 , F1: 0.50586 , Cross-entropy Loss: 4.32041\n",
      "Training at Epoch 69 iteration 0 with loss 0.28759. Total time 5.55055 hours\n",
      "Training at Epoch 69 iteration 100 with loss 0.29610. Total time 5.56944 hours\n",
      "Training at Epoch 69 iteration 200 with loss 0.34125. Total time 5.58916 hours\n",
      "Training at Epoch 69 iteration 300 with loss 0.31221. Total time 5.60833 hours\n",
      "Validation at Epoch 69, AUROC: 0.84813 , AUPRC: 0.62979 , F1: 0.49369 , Cross-entropy Loss: 4.31553\n",
      "Training at Epoch 70 iteration 0 with loss 0.25541. Total time 5.63222 hours\n",
      "Training at Epoch 70 iteration 100 with loss 0.22032. Total time 5.65111 hours\n",
      "Training at Epoch 70 iteration 200 with loss 0.33506. Total time 5.67083 hours\n",
      "Training at Epoch 70 iteration 300 with loss 0.35031. Total time 5.68972 hours\n",
      "Validation at Epoch 70, AUROC: 0.84718 , AUPRC: 0.62572 , F1: 0.48383 , Cross-entropy Loss: 4.36435\n",
      "Training at Epoch 71 iteration 0 with loss 0.39601. Total time 5.71361 hours\n",
      "Training at Epoch 71 iteration 100 with loss 0.33759. Total time 5.73277 hours\n",
      "Training at Epoch 71 iteration 200 with loss 0.21569. Total time 5.75222 hours\n",
      "Training at Epoch 71 iteration 300 with loss 0.23103. Total time 5.77138 hours\n",
      "Validation at Epoch 71, AUROC: 0.84814 , AUPRC: 0.62709 , F1: 0.50978 , Cross-entropy Loss: 4.40341\n",
      "Training at Epoch 72 iteration 0 with loss 0.30300. Total time 5.795 hours\n",
      "Training at Epoch 72 iteration 100 with loss 0.25185. Total time 5.81444 hours\n",
      "Training at Epoch 72 iteration 200 with loss 0.34140. Total time 5.83416 hours\n",
      "Training at Epoch 72 iteration 300 with loss 0.27103. Total time 5.85388 hours\n",
      "Validation at Epoch 72, AUROC: 0.84616 , AUPRC: 0.62686 , F1: 0.39147 , Cross-entropy Loss: 4.46197\n",
      "Training at Epoch 73 iteration 0 with loss 0.20481. Total time 5.8775 hours\n",
      "Training at Epoch 73 iteration 100 with loss 0.30564. Total time 5.89694 hours\n",
      "Training at Epoch 73 iteration 200 with loss 0.34179. Total time 5.91666 hours\n",
      "Training at Epoch 73 iteration 300 with loss 0.25499. Total time 5.93583 hours\n",
      "Validation at Epoch 73, AUROC: 0.84845 , AUPRC: 0.62390 , F1: 0.48263 , Cross-entropy Loss: 4.36435\n",
      "Training at Epoch 74 iteration 0 with loss 0.35096. Total time 5.95944 hours\n",
      "Training at Epoch 74 iteration 100 with loss 0.26662. Total time 5.97888 hours\n",
      "Training at Epoch 74 iteration 200 with loss 0.30352. Total time 5.99861 hours\n",
      "Training at Epoch 74 iteration 300 with loss 0.25540. Total time 6.01805 hours\n",
      "Validation at Epoch 74, AUROC: 0.84661 , AUPRC: 0.62243 , F1: 0.47475 , Cross-entropy Loss: 4.41805\n",
      "Training at Epoch 75 iteration 0 with loss 0.34949. Total time 6.04166 hours\n",
      "Training at Epoch 75 iteration 100 with loss 0.24661. Total time 6.06083 hours\n",
      "Training at Epoch 75 iteration 200 with loss 0.30598. Total time 6.08055 hours\n",
      "Training at Epoch 75 iteration 300 with loss 0.33213. Total time 6.09972 hours\n",
      "Validation at Epoch 75, AUROC: 0.84549 , AUPRC: 0.62492 , F1: 0.47962 , Cross-entropy Loss: 4.36435\n",
      "Training at Epoch 76 iteration 0 with loss 0.33809. Total time 6.12333 hours\n",
      "Training at Epoch 76 iteration 100 with loss 0.32163. Total time 6.1425 hours\n",
      "Training at Epoch 76 iteration 200 with loss 0.28602. Total time 6.16222 hours\n",
      "Training at Epoch 76 iteration 300 with loss 0.19792. Total time 6.18138 hours\n",
      "Validation at Epoch 76, AUROC: 0.84249 , AUPRC: 0.61973 , F1: 0.48604 , Cross-entropy Loss: 4.31553\n",
      "Training at Epoch 77 iteration 0 with loss 0.26606. Total time 6.205 hours\n",
      "Training at Epoch 77 iteration 100 with loss 0.29581. Total time 6.22444 hours\n",
      "Training at Epoch 77 iteration 200 with loss 0.35364. Total time 6.24388 hours\n",
      "Training at Epoch 77 iteration 300 with loss 0.24898. Total time 6.26305 hours\n",
      "Validation at Epoch 77, AUROC: 0.84274 , AUPRC: 0.61998 , F1: 0.47514 , Cross-entropy Loss: 4.43269\n",
      "Training at Epoch 78 iteration 0 with loss 0.33812. Total time 6.28638 hours\n",
      "Training at Epoch 78 iteration 100 with loss 0.25715. Total time 6.30555 hours\n",
      "Training at Epoch 78 iteration 200 with loss 0.34362. Total time 6.325 hours\n",
      "Training at Epoch 78 iteration 300 with loss 0.30852. Total time 6.34444 hours\n",
      "Validation at Epoch 78, AUROC: 0.84456 , AUPRC: 0.62201 , F1: 0.51678 , Cross-entropy Loss: 4.42782\n",
      "Training at Epoch 79 iteration 0 with loss 0.36998. Total time 6.36833 hours\n",
      "Training at Epoch 79 iteration 100 with loss 0.28621. Total time 6.3875 hours\n",
      "Training at Epoch 79 iteration 200 with loss 0.34025. Total time 6.40722 hours\n",
      "Training at Epoch 79 iteration 300 with loss 0.26151. Total time 6.42666 hours\n",
      "Validation at Epoch 79, AUROC: 0.84622 , AUPRC: 0.62080 , F1: 0.49206 , Cross-entropy Loss: 4.37411\n",
      "Training at Epoch 80 iteration 0 with loss 0.37201. Total time 6.45 hours\n",
      "Training at Epoch 80 iteration 100 with loss 0.28100. Total time 6.46944 hours\n",
      "Training at Epoch 80 iteration 200 with loss 0.33123. Total time 6.48916 hours\n",
      "Training at Epoch 80 iteration 300 with loss 0.21693. Total time 6.50861 hours\n",
      "Validation at Epoch 80, AUROC: 0.84707 , AUPRC: 0.62565 , F1: 0.49322 , Cross-entropy Loss: 4.38388\n",
      "Training at Epoch 81 iteration 0 with loss 0.32962. Total time 6.53194 hours\n",
      "Training at Epoch 81 iteration 100 with loss 0.31939. Total time 6.55138 hours\n",
      "Training at Epoch 81 iteration 200 with loss 0.34151. Total time 6.57083 hours\n",
      "Training at Epoch 81 iteration 300 with loss 0.23557. Total time 6.59027 hours\n",
      "Validation at Epoch 81, AUROC: 0.84599 , AUPRC: 0.61332 , F1: 0.42237 , Cross-entropy Loss: 4.48639\n",
      "Training at Epoch 82 iteration 0 with loss 0.21198. Total time 6.61333 hours\n",
      "Training at Epoch 82 iteration 100 with loss 0.26931. Total time 6.6325 hours\n",
      "Training at Epoch 82 iteration 200 with loss 0.29532. Total time 6.65222 hours\n",
      "Training at Epoch 82 iteration 300 with loss 0.23650. Total time 6.67166 hours\n",
      "Validation at Epoch 82, AUROC: 0.84257 , AUPRC: 0.62439 , F1: 0.45027 , Cross-entropy Loss: 4.39852\n",
      "Training at Epoch 83 iteration 0 with loss 0.29653. Total time 6.695 hours\n",
      "Training at Epoch 83 iteration 100 with loss 0.39531. Total time 6.71416 hours\n",
      "Training at Epoch 83 iteration 200 with loss 0.31614. Total time 6.73416 hours\n",
      "Training at Epoch 83 iteration 300 with loss 0.35535. Total time 6.75361 hours\n",
      "Validation at Epoch 83, AUROC: 0.84492 , AUPRC: 0.62386 , F1: 0.50301 , Cross-entropy Loss: 4.42782\n",
      "Training at Epoch 84 iteration 0 with loss 0.29407. Total time 6.77694 hours\n",
      "Training at Epoch 84 iteration 100 with loss 0.32615. Total time 6.79611 hours\n",
      "Training at Epoch 84 iteration 200 with loss 0.28003. Total time 6.81583 hours\n",
      "Training at Epoch 84 iteration 300 with loss 0.28016. Total time 6.83527 hours\n",
      "Validation at Epoch 84, AUROC: 0.84790 , AUPRC: 0.62454 , F1: 0.52991 , Cross-entropy Loss: 4.29601\n",
      "Training at Epoch 85 iteration 0 with loss 0.19896. Total time 6.85888 hours\n",
      "Training at Epoch 85 iteration 100 with loss 0.31378. Total time 6.87805 hours\n",
      "Training at Epoch 85 iteration 200 with loss 0.37464. Total time 6.89833 hours\n",
      "Training at Epoch 85 iteration 300 with loss 0.36672. Total time 6.9175 hours\n",
      "Validation at Epoch 85, AUROC: 0.84583 , AUPRC: 0.62305 , F1: 0.49517 , Cross-entropy Loss: 4.33994\n",
      "Training at Epoch 86 iteration 0 with loss 0.30207. Total time 6.94083 hours\n",
      "Training at Epoch 86 iteration 100 with loss 0.29513. Total time 6.95972 hours\n",
      "Training at Epoch 86 iteration 200 with loss 0.22416. Total time 6.97944 hours\n",
      "Training at Epoch 86 iteration 300 with loss 0.22870. Total time 6.99861 hours\n",
      "Validation at Epoch 86, AUROC: 0.84872 , AUPRC: 0.62849 , F1: 0.48811 , Cross-entropy Loss: 4.31065\n",
      "Training at Epoch 87 iteration 0 with loss 0.22700. Total time 7.02222 hours\n",
      "Training at Epoch 87 iteration 100 with loss 0.29553. Total time 7.04138 hours\n",
      "Training at Epoch 87 iteration 200 with loss 0.29716. Total time 7.06083 hours\n",
      "Training at Epoch 87 iteration 300 with loss 0.25609. Total time 7.08055 hours\n",
      "Validation at Epoch 87, AUROC: 0.84913 , AUPRC: 0.62960 , F1: 0.49134 , Cross-entropy Loss: 4.30577\n",
      "Training at Epoch 88 iteration 0 with loss 0.31462. Total time 7.10388 hours\n",
      "Training at Epoch 88 iteration 100 with loss 0.36737. Total time 7.12305 hours\n",
      "Training at Epoch 88 iteration 200 with loss 0.32494. Total time 7.1425 hours\n",
      "Training at Epoch 88 iteration 300 with loss 0.29328. Total time 7.16194 hours\n",
      "Validation at Epoch 88, AUROC: 0.84929 , AUPRC: 0.62806 , F1: 0.43073 , Cross-entropy Loss: 4.41316\n",
      "Training at Epoch 89 iteration 0 with loss 0.33655. Total time 7.185 hours\n",
      "Training at Epoch 89 iteration 100 with loss 0.31586. Total time 7.20472 hours\n",
      "Training at Epoch 89 iteration 200 with loss 0.41662. Total time 7.22472 hours\n",
      "Training at Epoch 89 iteration 300 with loss 0.31809. Total time 7.24416 hours\n",
      "Validation at Epoch 89, AUROC: 0.84656 , AUPRC: 0.62591 , F1: 0.48685 , Cross-entropy Loss: 4.38388\n",
      "Training at Epoch 90 iteration 0 with loss 0.31613. Total time 7.26722 hours\n",
      "Training at Epoch 90 iteration 100 with loss 0.29777. Total time 7.28694 hours\n",
      "Training at Epoch 90 iteration 200 with loss 0.28268. Total time 7.30638 hours\n",
      "Training at Epoch 90 iteration 300 with loss 0.34116. Total time 7.32583 hours\n",
      "Validation at Epoch 90, AUROC: 0.84775 , AUPRC: 0.62479 , F1: 0.52660 , Cross-entropy Loss: 4.25695\n",
      "Training at Epoch 91 iteration 0 with loss 0.24873. Total time 7.34861 hours\n",
      "Training at Epoch 91 iteration 100 with loss 0.33082. Total time 7.36777 hours\n",
      "Training at Epoch 91 iteration 200 with loss 0.29147. Total time 7.38777 hours\n",
      "Training at Epoch 91 iteration 300 with loss 0.32278. Total time 7.40722 hours\n",
      "Validation at Epoch 91, AUROC: 0.84759 , AUPRC: 0.62522 , F1: 0.50196 , Cross-entropy Loss: 4.32041\n",
      "Training at Epoch 92 iteration 0 with loss 0.25842. Total time 7.43055 hours\n",
      "Training at Epoch 92 iteration 100 with loss 0.31433. Total time 7.44972 hours\n",
      "Training at Epoch 92 iteration 200 with loss 0.28678. Total time 7.46916 hours\n",
      "Training at Epoch 92 iteration 300 with loss 0.21977. Total time 7.48861 hours\n",
      "Validation at Epoch 92, AUROC: 0.84587 , AUPRC: 0.62391 , F1: 0.43866 , Cross-entropy Loss: 4.42292\n",
      "Training at Epoch 93 iteration 0 with loss 0.27901. Total time 7.51194 hours\n",
      "Training at Epoch 93 iteration 100 with loss 0.26742. Total time 7.53166 hours\n",
      "Training at Epoch 93 iteration 200 with loss 0.35765. Total time 7.55111 hours\n",
      "Training at Epoch 93 iteration 300 with loss 0.40855. Total time 7.57111 hours\n",
      "Validation at Epoch 93, AUROC: 0.84843 , AUPRC: 0.62749 , F1: 0.52755 , Cross-entropy Loss: 4.31065\n",
      "Training at Epoch 94 iteration 0 with loss 0.31349. Total time 7.59444 hours\n",
      "Training at Epoch 94 iteration 100 with loss 0.25143. Total time 7.61361 hours\n",
      "Training at Epoch 94 iteration 200 with loss 0.30243. Total time 7.63305 hours\n",
      "Training at Epoch 94 iteration 300 with loss 0.42143. Total time 7.6525 hours\n",
      "Validation at Epoch 94, AUROC: 0.84853 , AUPRC: 0.62610 , F1: 0.37837 , Cross-entropy Loss: 4.49126\n",
      "Training at Epoch 95 iteration 0 with loss 0.35854. Total time 7.67583 hours\n",
      "Training at Epoch 95 iteration 100 with loss 0.25866. Total time 7.69527 hours\n",
      "Training at Epoch 95 iteration 200 with loss 0.26949. Total time 7.71472 hours\n",
      "Training at Epoch 95 iteration 300 with loss 0.35324. Total time 7.73444 hours\n",
      "Validation at Epoch 95, AUROC: 0.84630 , AUPRC: 0.61672 , F1: 0.45492 , Cross-entropy Loss: 4.45710\n",
      "Training at Epoch 96 iteration 0 with loss 0.32017. Total time 7.7575 hours\n",
      "Training at Epoch 96 iteration 100 with loss 0.25123. Total time 7.77666 hours\n",
      "Training at Epoch 96 iteration 200 with loss 0.24533. Total time 7.79611 hours\n",
      "Training at Epoch 96 iteration 300 with loss 0.32338. Total time 7.81555 hours\n",
      "Validation at Epoch 96, AUROC: 0.84777 , AUPRC: 0.62568 , F1: 0.44320 , Cross-entropy Loss: 4.37899\n",
      "Training at Epoch 97 iteration 0 with loss 0.27465. Total time 7.83861 hours\n",
      "Training at Epoch 97 iteration 100 with loss 0.22814. Total time 7.85833 hours\n",
      "Training at Epoch 97 iteration 200 with loss 0.23612. Total time 7.87805 hours\n",
      "Training at Epoch 97 iteration 300 with loss 0.29733. Total time 7.8975 hours\n",
      "Validation at Epoch 97, AUROC: 0.84671 , AUPRC: 0.62360 , F1: 0.48335 , Cross-entropy Loss: 4.39364\n",
      "Training at Epoch 98 iteration 0 with loss 0.26726. Total time 7.92083 hours\n",
      "Training at Epoch 98 iteration 100 with loss 0.29094. Total time 7.94055 hours\n",
      "Training at Epoch 98 iteration 200 with loss 0.33458. Total time 7.96055 hours\n",
      "Training at Epoch 98 iteration 300 with loss 0.25704. Total time 7.98027 hours\n",
      "Validation at Epoch 98, AUROC: 0.85000 , AUPRC: 0.62758 , F1: 0.50473 , Cross-entropy Loss: 4.33994\n",
      "Training at Epoch 99 iteration 0 with loss 0.30476. Total time 8.00361 hours\n",
      "Training at Epoch 99 iteration 100 with loss 0.18086. Total time 8.02277 hours\n",
      "Training at Epoch 99 iteration 200 with loss 0.25955. Total time 8.04222 hours\n",
      "Training at Epoch 99 iteration 300 with loss 0.30173. Total time 8.06194 hours\n",
      "Validation at Epoch 99, AUROC: 0.84335 , AUPRC: 0.61685 , F1: 0.50110 , Cross-entropy Loss: 4.39364\n",
      "Training at Epoch 100 iteration 0 with loss 0.30981. Total time 8.085 hours\n",
      "Training at Epoch 100 iteration 100 with loss 0.26204. Total time 8.10166 hours\n",
      "Training at Epoch 100 iteration 200 with loss 0.24696. Total time 8.1175 hours\n",
      "Training at Epoch 100 iteration 300 with loss 0.30579. Total time 8.13361 hours\n",
      "Validation at Epoch 100, AUROC: 0.84351 , AUPRC: 0.61572 , F1: 0.48571 , Cross-entropy Loss: 4.39364\n",
      "--- Go for Testing ---\n",
      "Validation at Epoch 100 , AUROC: 0.84122 , AUPRC: 0.62077 , F1: 0.49148 , Cross-entropy Loss: 4.37411\n",
      "--- Training Finished ---\n"
     ]
    },
    {
     "data": {
      "image/png": "[encoded data removed]",
      "text/plain": [
       "<Figure size 432x288 with 1 Axes>"
      ]
     },
     "metadata": {
      "needs_background": "light"
     },
     "output_type": "display_data"
    },
    {
     "data": {
      "image/png": "[encoded data removed]",
      "text/plain": [
       "<Figure size 432x288 with 1 Axes>"
      ]
     },
     "metadata": {
      "needs_background": "light"
     },
     "output_type": "display_data"
    },
    {
     "data": {
      "image/png": "[encoded data removed]",
      "text/plain": [
       "<Figure size 432x288 with 1 Axes>"
      ]
     },
     "metadata": {
      "needs_background": "light"
     },
     "output_type": "display_data"
    }
   ],
   "source": [
    "model_shuffled = models.model_initialize(**config)\n",
    "model_shuffled.train(train_shuffled, val_shuffled, test_shuffled)"
   ]
  },
  {
   "cell_type": "markdown",
   "metadata": {
    "heading_collapsed": true
   },
   "source": [
    "# Performances for Unseen Edges, Unseen Targets and Unseen Nodes"
   ]
  },
  {
   "cell_type": "code",
   "execution_count": 23,
   "metadata": {
    "hidden": true,
    "scrolled": true
   },
   "outputs": [],
   "source": [
    "train_ligands = list(set(train['SMILES'].tolist()))\n",
    "train_targets = list(set(train['Target Sequence'].tolist()))\n",
    "\n",
    "test_minus_train_ligands = list(set(test['SMILES'].tolist()).difference(train_ligands))\n",
    "test_minus_train_targets = list(set(test['Target Sequence'].tolist()).difference(train_targets))"
   ]
  },
  {
   "cell_type": "code",
   "execution_count": 24,
   "metadata": {
    "hidden": true
   },
   "outputs": [
    {
     "name": "stdout",
     "output_type": "stream",
     "text": [
      "Seen ligands:  10410\n",
      "Seen targets:  1404\n",
      "Unseen ligands:  2028\n",
      "Unseen targets:  73\n"
     ]
    }
   ],
   "source": [
    "print('Seen ligands: ', len(train_ligands))\n",
    "print('Seen targets: ', len(train_targets))\n",
    "print('Unseen ligands: ', len(test_minus_train_ligands))\n",
    "print('Unseen targets: ', len(test_minus_train_targets))"
   ]
  },
  {
   "cell_type": "code",
   "execution_count": 25,
   "metadata": {
    "hidden": true,
    "scrolled": true
   },
   "outputs": [
    {
     "name": "stdout",
     "output_type": "stream",
     "text": [
      "Unseen edges:  11923\n",
      "AUC:  0.8195786670663272\n",
      "AUP:  0.48001305694942237\n"
     ]
    }
   ],
   "source": [
    "# Unseen Edges\n",
    "\n",
    "test_unseen_edges = test[test['SMILES'].isin(train_ligands) & test['Target Sequence'].isin(train_targets)]\n",
    "print('Unseen edges: ', len(test_unseen_edges))\n",
    "\n",
    "print('AUC: ', roc_auc_score(test_unseen_edges['Label'].tolist(), test_unseen_edges['Y_predicted']))\n",
    "print('AUP: ', average_precision_score(test_unseen_edges['Label'].tolist(), test_unseen_edges['Y_predicted']))"
   ]
  },
  {
   "cell_type": "code",
   "execution_count": 26,
   "metadata": {
    "hidden": true,
    "scrolled": true
   },
   "outputs": [
    {
     "name": "stdout",
     "output_type": "stream",
     "text": [
      "Unseen targets:  81\n",
      "AUC:  0.7149122807017544\n",
      "AUP:  0.6338475519405148\n"
     ]
    }
   ],
   "source": [
    "# Unseen Targets\n",
    "\n",
    "test_unseen_targets = test[test['Target Sequence'].isin(test_minus_train_targets)]\n",
    "print('Unseen targets: ', len(test_unseen_targets))\n",
    "\n",
    "print('AUC: ', roc_auc_score(test_unseen_targets['Label'].tolist(), test_unseen_targets['Y_predicted']))\n",
    "print('AUP: ', average_precision_score(test_unseen_targets['Label'].tolist(), test_unseen_targets['Y_predicted']))"
   ]
  },
  {
   "cell_type": "code",
   "execution_count": 27,
   "metadata": {
    "hidden": true
   },
   "outputs": [
    {
     "name": "stdout",
     "output_type": "stream",
     "text": [
      "Unseen nodes:  37\n",
      "AUC:  0.6466666666666666\n",
      "AUP:  0.4466565132895778\n"
     ]
    }
   ],
   "source": [
    "# Unseen Nodes\n",
    "\n",
    "test_unseen_nodes = test[test['SMILES'].isin(test_minus_train_ligands) & test['Target Sequence'].isin(test_minus_train_targets)]\n",
    "print('Unseen nodes: ', len(test_unseen_nodes))\n",
    "\n",
    "print('AUC: ', roc_auc_score(test_unseen_nodes['Label'].tolist(), test_unseen_nodes['Y_predicted']))\n",
    "print('AUP: ', average_precision_score(test_unseen_nodes['Label'].tolist(), test_unseen_nodes['Y_predicted']))"
   ]
  },
  {
   "cell_type": "code",
   "execution_count": 39,
   "metadata": {
    "collapsed": true
   },
   "outputs": [
    {
     "name": "stdout",
     "output_type": "stream",
     "text": [
      "Unseen nodes:  0\n"
     ]
    },
    {
     "name": "stderr",
     "output_type": "stream",
     "text": [
      "/miniconda/envs/DeepPurpose/lib/python3.7/site-packages/IPython/core/interactiveshell.py:3063: DtypeWarning: Columns (8,20,21,22,23) have mixed types.Specify dtype option on import or set low_memory=False.\n",
      "  interactivity=interactivity, compiler=compiler, result=result)\n"
     ]
    },
    {
     "ename": "ValueError",
     "evalue": "Found array with 0 sample(s) (shape=(0,)) while a minimum of 1 is required.",
     "output_type": "error",
     "traceback": [
      "\u001b[0;31m---------------------------------------------------------------------------\u001b[0m",
      "\u001b[0;31mValueError\u001b[0m                                Traceback (most recent call last)",
      "\u001b[0;32m<ipython-input-39-370c9d104f53>\u001b[0m in \u001b[0;36m<module>\u001b[0;34m\u001b[0m\n\u001b[1;32m      6\u001b[0m \u001b[0mprint\u001b[0m\u001b[0;34m(\u001b[0m\u001b[0;34m'Unseen nodes: '\u001b[0m\u001b[0;34m,\u001b[0m \u001b[0mlen\u001b[0m\u001b[0;34m(\u001b[0m\u001b[0mtest_unseen_nodes\u001b[0m\u001b[0;34m)\u001b[0m\u001b[0;34m)\u001b[0m\u001b[0;34m\u001b[0m\u001b[0;34m\u001b[0m\u001b[0m\n\u001b[1;32m      7\u001b[0m \u001b[0;34m\u001b[0m\u001b[0m\n\u001b[0;32m----> 8\u001b[0;31m \u001b[0mprint\u001b[0m\u001b[0;34m(\u001b[0m\u001b[0;34m'AUC: '\u001b[0m\u001b[0;34m,\u001b[0m \u001b[0mroc_auc_score\u001b[0m\u001b[0;34m(\u001b[0m\u001b[0mtest_unseen_nodes\u001b[0m\u001b[0;34m[\u001b[0m\u001b[0;34m'Label'\u001b[0m\u001b[0;34m]\u001b[0m\u001b[0;34m.\u001b[0m\u001b[0mtolist\u001b[0m\u001b[0;34m(\u001b[0m\u001b[0;34m)\u001b[0m\u001b[0;34m,\u001b[0m \u001b[0mtest_unseen_nodes\u001b[0m\u001b[0;34m[\u001b[0m\u001b[0;34m'Y_predicted'\u001b[0m\u001b[0;34m]\u001b[0m\u001b[0;34m)\u001b[0m\u001b[0;34m)\u001b[0m\u001b[0;34m\u001b[0m\u001b[0;34m\u001b[0m\u001b[0m\n\u001b[0m\u001b[1;32m      9\u001b[0m \u001b[0mprint\u001b[0m\u001b[0;34m(\u001b[0m\u001b[0;34m'AUP: '\u001b[0m\u001b[0;34m,\u001b[0m \u001b[0maverage_precision_score\u001b[0m\u001b[0;34m(\u001b[0m\u001b[0mtest_unseen_nodes\u001b[0m\u001b[0;34m[\u001b[0m\u001b[0;34m'Label'\u001b[0m\u001b[0;34m]\u001b[0m\u001b[0;34m.\u001b[0m\u001b[0mtolist\u001b[0m\u001b[0;34m(\u001b[0m\u001b[0;34m)\u001b[0m\u001b[0;34m,\u001b[0m \u001b[0mtest_unseen_nodes\u001b[0m\u001b[0;34m[\u001b[0m\u001b[0;34m'Y_predicted'\u001b[0m\u001b[0;34m]\u001b[0m\u001b[0;34m)\u001b[0m\u001b[0;34m)\u001b[0m\u001b[0;34m\u001b[0m\u001b[0;34m\u001b[0m\u001b[0m\n",
      "\u001b[0;32m/miniconda/envs/DeepPurpose/lib/python3.7/site-packages/sklearn/metrics/_ranking.py\u001b[0m in \u001b[0;36mroc_auc_score\u001b[0;34m(y_true, y_score, average, sample_weight, max_fpr, multi_class, labels)\u001b[0m\n\u001b[1;32m    366\u001b[0m \u001b[0;34m\u001b[0m\u001b[0m\n\u001b[1;32m    367\u001b[0m     \u001b[0my_type\u001b[0m \u001b[0;34m=\u001b[0m \u001b[0mtype_of_target\u001b[0m\u001b[0;34m(\u001b[0m\u001b[0my_true\u001b[0m\u001b[0;34m)\u001b[0m\u001b[0;34m\u001b[0m\u001b[0;34m\u001b[0m\u001b[0m\n\u001b[0;32m--> 368\u001b[0;31m     \u001b[0my_true\u001b[0m \u001b[0;34m=\u001b[0m \u001b[0mcheck_array\u001b[0m\u001b[0;34m(\u001b[0m\u001b[0my_true\u001b[0m\u001b[0;34m,\u001b[0m \u001b[0mensure_2d\u001b[0m\u001b[0;34m=\u001b[0m\u001b[0;32mFalse\u001b[0m\u001b[0;34m,\u001b[0m \u001b[0mdtype\u001b[0m\u001b[0;34m=\u001b[0m\u001b[0;32mNone\u001b[0m\u001b[0;34m)\u001b[0m\u001b[0;34m\u001b[0m\u001b[0;34m\u001b[0m\u001b[0m\n\u001b[0m\u001b[1;32m    369\u001b[0m     \u001b[0my_score\u001b[0m \u001b[0;34m=\u001b[0m \u001b[0mcheck_array\u001b[0m\u001b[0;34m(\u001b[0m\u001b[0my_score\u001b[0m\u001b[0;34m,\u001b[0m \u001b[0mensure_2d\u001b[0m\u001b[0;34m=\u001b[0m\u001b[0;32mFalse\u001b[0m\u001b[0;34m)\u001b[0m\u001b[0;34m\u001b[0m\u001b[0;34m\u001b[0m\u001b[0m\n\u001b[1;32m    370\u001b[0m \u001b[0;34m\u001b[0m\u001b[0m\n",
      "\u001b[0;32m/miniconda/envs/DeepPurpose/lib/python3.7/site-packages/sklearn/utils/validation.py\u001b[0m in \u001b[0;36mcheck_array\u001b[0;34m(array, accept_sparse, accept_large_sparse, dtype, order, copy, force_all_finite, ensure_2d, allow_nd, ensure_min_samples, ensure_min_features, warn_on_dtype, estimator)\u001b[0m\n\u001b[1;32m    584\u001b[0m                              \u001b[0;34m\" minimum of %d is required%s.\"\u001b[0m\u001b[0;34m\u001b[0m\u001b[0;34m\u001b[0m\u001b[0m\n\u001b[1;32m    585\u001b[0m                              % (n_samples, array.shape, ensure_min_samples,\n\u001b[0;32m--> 586\u001b[0;31m                                 context))\n\u001b[0m\u001b[1;32m    587\u001b[0m \u001b[0;34m\u001b[0m\u001b[0m\n\u001b[1;32m    588\u001b[0m     \u001b[0;32mif\u001b[0m \u001b[0mensure_min_features\u001b[0m \u001b[0;34m>\u001b[0m \u001b[0;36m0\u001b[0m \u001b[0;32mand\u001b[0m \u001b[0marray\u001b[0m\u001b[0;34m.\u001b[0m\u001b[0mndim\u001b[0m \u001b[0;34m==\u001b[0m \u001b[0;36m2\u001b[0m\u001b[0;34m:\u001b[0m\u001b[0;34m\u001b[0m\u001b[0;34m\u001b[0m\u001b[0m\n",
      "\u001b[0;31mValueError\u001b[0m: Found array with 0 sample(s) (shape=(0,)) while a minimum of 1 is required."
     ]
    }
   ],
   "source": [
    "NDM = pd.read_csv('../data/NDM_Master.csv')\n",
    "\n",
    "# Unseen Nodes - Natural Ligands\n",
    "\n",
    "test_unseen_nodes = test[test['SMILES'].isin(test_minus_train_ligands) & test['SMILES'].isin(NDM['SMILE'].tolist()) & test['Target Sequence'].isin(test_minus_train_targets)]\n",
    "print('Unseen nodes: ', len(test_unseen_nodes))\n",
    "\n",
    "print('AUC: ', roc_auc_score(test_unseen_nodes['Label'].tolist(), test_unseen_nodes['Y_predicted']))\n",
    "print('AUP: ', average_precision_score(test_unseen_nodes['Label'].tolist(), test_unseen_nodes['Y_predicted']))"
   ]
  },
  {
   "cell_type": "code",
   "execution_count": 28,
   "metadata": {
    "hidden": true,
    "scrolled": true
   },
   "outputs": [
    {
     "name": "stdout",
     "output_type": "stream",
     "text": [
      "Total ligands:  10410\n",
      "Total targets:  1404\n",
      "Ligands with only positive:  3094\n",
      "Targets with only positive:  170\n",
      "Ligands with only negative:  6539\n",
      "Targets with only negative:  560\n"
     ]
    }
   ],
   "source": [
    "train_pos = train[train['Label'] == 1]\n",
    "train_neg = train[train['Label'] == 0]\n",
    "\n",
    "ligands_1 = set(train_pos['SMILES'].tolist())\n",
    "ligands_0 = set(train_neg['SMILES'].tolist())\n",
    "targets_1 = set(train_pos['Target Sequence'].tolist())\n",
    "targets_0 = set(train_neg['Target Sequence'].tolist())\n",
    "\n",
    "print('Total ligands: ', len(list(set(train['SMILES'].tolist()))))\n",
    "print('Total targets: ', len(list(set(train['Target Sequence'].tolist()))))\n",
    "print('Ligands with only positive: ', len(list(ligands_1.difference(ligands_0))))\n",
    "print('Targets with only positive: ', len(list(targets_1.difference(targets_0))))\n",
    "print('Ligands with only negative: ', len(list(ligands_0.difference(ligands_1))))\n",
    "print('Targets with only negative: ', len(list(targets_0.difference(targets_1))))"
   ]
  },
  {
   "cell_type": "markdown",
   "metadata": {
    "hidden": true
   },
   "source": [
    "# Duplex Configuration Model"
   ]
  },
  {
   "cell_type": "code",
   "execution_count": 29,
   "metadata": {},
   "outputs": [],
   "source": [
    "train_pos = train[train['Label'] == 1]\n",
    "train_neg = train[train['Label'] == 0]"
   ]
  },
  {
   "cell_type": "code",
   "execution_count": 30,
   "metadata": {},
   "outputs": [
    {
     "name": "stderr",
     "output_type": "stream",
     "text": [
      "100%|██████████| 10410/10410 [01:08<00:00, 152.11it/s]\n",
      "100%|██████████| 1404/1404 [00:09<00:00, 151.82it/s]"
     ]
    },
    {
     "name": "stdout",
     "output_type": "stream",
     "text": [
      "Ligands with positive degree 0:  6539\n",
      "Ligands with negative degree 0:  3094\n",
      "Targets with positive degree 0:  560\n",
      "Targets with negative degree 0:  170\n"
     ]
    },
    {
     "name": "stderr",
     "output_type": "stream",
     "text": [
      "\n"
     ]
    }
   ],
   "source": [
    "pos_deg_0_ligands = []\n",
    "pos_deg_0_targets = []\n",
    "neg_deg_0_ligands = []\n",
    "neg_deg_0_targets = []\n",
    "\n",
    "ligand_degree_ratio = dict()\n",
    "ligand_all_average = []\n",
    "\n",
    "for ligand in tqdm(ligands):\n",
    "    pos_deg = len(train_pos[train_pos['SMILES'] == ligand])\n",
    "    neg_deg = len(train_neg[train_neg['SMILES'] == ligand])\n",
    "    ligand_degree_ratio[ligand] = dict()\n",
    "    ligand_degree_ratio[ligand]['deg_ratio'] = pos_deg / (pos_deg + neg_deg)\n",
    "    ligand_degree_ratio[ligand]['deg_avg'] = pos_deg / number_targets \n",
    "    ligand_all_average.append(pos_deg / number_targets)\n",
    "    if pos_deg == 0:\n",
    "        pos_deg_0_ligands.append(ligand)\n",
    "    if neg_deg == 0:\n",
    "        neg_deg_0_ligands.append(ligand)\n",
    "    \n",
    "ligands_all_avg = sum(ligand_all_average) / number_ligands\n",
    "\n",
    "targets_degree_ratio = dict()\n",
    "target_all_average = []\n",
    "\n",
    "for target in tqdm(targets):\n",
    "    pos_deg = len(train_pos[train_pos['Target Sequence'] == target])\n",
    "    neg_deg = len(train_neg[train_neg['Target Sequence'] == target])\n",
    "    targets_degree_ratio[target] = dict()\n",
    "    targets_degree_ratio[target]['deg_ratio'] = pos_deg / (pos_deg + neg_deg)\n",
    "    targets_degree_ratio[target]['deg_avg'] = pos_deg / number_ligands\n",
    "    target_all_average.append(pos_deg / number_ligands)\n",
    "    if pos_deg == 0:\n",
    "        pos_deg_0_targets.append(target)\n",
    "    if neg_deg == 0:\n",
    "        neg_deg_0_targets.append(target)\n",
    "    \n",
    "targets_all_avg = sum(target_all_average) / number_targets\n",
    "\n",
    "print('Ligands with positive degree 0: ',len(pos_deg_0_ligands))\n",
    "print('Ligands with negative degree 0: ',len(neg_deg_0_ligands))\n",
    "print('Targets with positive degree 0: ',len(pos_deg_0_targets))\n",
    "print('Targets with negative degree 0: ',len(neg_deg_0_targets))"
   ]
  },
  {
   "cell_type": "code",
   "execution_count": 31,
   "metadata": {},
   "outputs": [],
   "source": [
    "## Annotated means the node has at least 1 binding information\n",
    "\n",
    "pos_annotated_ligands = list(set(ligands)-set(pos_deg_0_ligands))\n",
    "pos_annotated_targets = list(set(targets)-set(pos_deg_0_targets))\n",
    "\n",
    "neg_annotated_ligands = list(set(ligands)-set(neg_deg_0_ligands))\n",
    "neg_annotated_targets = list(set(targets)-set(neg_deg_0_targets))"
   ]
  },
  {
   "cell_type": "code",
   "execution_count": 32,
   "metadata": {},
   "outputs": [],
   "source": [
    "summat10 = np.loadtxt(open(\"../data/fold4/summat10.csv\", \"rb\"), delimiter=\",\", skiprows=0) # Output of MATLAB run \n",
    "summat01 = np.loadtxt(open(\"../data/fold4/summat01.csv\", \"rb\"), delimiter=\",\", skiprows=0) # Output of MATLAB run "
   ]
  },
  {
   "cell_type": "code",
   "execution_count": 33,
   "metadata": {},
   "outputs": [
    {
     "name": "stderr",
     "output_type": "stream",
     "text": [
      "14150it [00:05, 2551.22it/s]\n"
     ]
    }
   ],
   "source": [
    "test_probabilty_predicted_conditioned = []\n",
    "\n",
    "## Average conditional probability\n",
    "p10_avg = np.mean(summat10)\n",
    "p01_avg = np.mean(summat01)\n",
    "average_conditional_probability = p10_avg / (p10_avg + p01_avg)\n",
    "\n",
    "for index, row in tqdm(test.iterrows()):      \n",
    "    \n",
    "    if row['SMILES'] in pos_annotated_ligands and row['Target Sequence'] in pos_annotated_targets:\n",
    "        p10 = summat10[ligands.index(row['SMILES']),targets.index(row['Target Sequence'])]\n",
    "        p01 = summat01[ligands.index(row['SMILES']),targets.index(row['Target Sequence'])]\n",
    "        p10_conditioned = p10 / (p10 + p01)\n",
    "        test_probabilty_predicted_conditioned.append(p10_conditioned)\n",
    "        \n",
    "    elif row['SMILES'] in pos_annotated_ligands and row['Target Sequence'] not in pos_annotated_targets:\n",
    "        p10_conditioned = ligand_degree_ratio[row['SMILES']]['deg_ratio']  ## k_+ / (k_+ + k_-)\n",
    "        test_probabilty_predicted_conditioned.append(p10_conditioned)\n",
    "        \n",
    "    elif row['SMILES'] not in pos_annotated_ligands and row['Target Sequence'] in pos_annotated_targets:\n",
    "        p10_conditioned = targets_degree_ratio[row['Target Sequence']]['deg_ratio'] ## k_+ / (k_+ + k_-)\n",
    "        test_probabilty_predicted_conditioned.append(p10_conditioned)\n",
    "\n",
    "    else:\n",
    "        p10_conditioned = average_conditional_probability\n",
    "        test_probabilty_predicted_conditioned.append(p10_conditioned)\n",
    "        "
   ]
  },
  {
   "cell_type": "code",
   "execution_count": 34,
   "metadata": {},
   "outputs": [
    {
     "name": "stdout",
     "output_type": "stream",
     "text": [
      "AUC:  0.8582543754488434\n",
      "AUP:  0.6110111695033403\n"
     ]
    }
   ],
   "source": [
    "## Performance on the test dataset\n",
    "\n",
    "print('AUC: ', roc_auc_score(test['Label'].tolist(), test_probabilty_predicted_conditioned))\n",
    "print('AUP: ', average_precision_score(test['Label'].tolist(), test_probabilty_predicted_conditioned))"
   ]
  },
  {
   "cell_type": "code",
   "execution_count": 35,
   "metadata": {},
   "outputs": [],
   "source": [
    "test['duplex_config_prediction'] = test_probabilty_predicted_conditioned"
   ]
  },
  {
   "cell_type": "code",
   "execution_count": 36,
   "metadata": {},
   "outputs": [
    {
     "name": "stdout",
     "output_type": "stream",
     "text": [
      "Unseen edges:  11923\n",
      "AUC:  0.8424130228864826\n",
      "AUP:  0.49891624652412536\n"
     ]
    }
   ],
   "source": [
    "# Unseen Edges\n",
    "\n",
    "test_unseen_edges = test[test['SMILES'].isin(train_ligands) & test['Target Sequence'].isin(train_targets)]\n",
    "print('Unseen edges: ', len(test_unseen_edges))\n",
    "\n",
    "print('AUC: ', roc_auc_score(test_unseen_edges['Label'].tolist(), test_unseen_edges['duplex_config_prediction']))\n",
    "print('AUP: ', average_precision_score(test_unseen_edges['Label'].tolist(), test_unseen_edges['duplex_config_prediction']))"
   ]
  },
  {
   "cell_type": "code",
   "execution_count": 37,
   "metadata": {},
   "outputs": [
    {
     "name": "stdout",
     "output_type": "stream",
     "text": [
      "Unseen targets:  81\n",
      "AUC:  0.7178362573099416\n",
      "AUP:  0.6301376005739763\n"
     ]
    }
   ],
   "source": [
    "# Unseen Targets\n",
    "\n",
    "test_unseen_targets = test[test['Target Sequence'].isin(test_minus_train_targets)]\n",
    "print('Unseen targets: ', len(test_unseen_targets))\n",
    "\n",
    "print('AUC: ', roc_auc_score(test_unseen_targets['Label'].tolist(), test_unseen_targets['duplex_config_prediction']))\n",
    "print('AUP: ', average_precision_score(test_unseen_targets['Label'].tolist(), test_unseen_targets['duplex_config_prediction']))"
   ]
  },
  {
   "cell_type": "code",
   "execution_count": 38,
   "metadata": {},
   "outputs": [
    {
     "name": "stdout",
     "output_type": "stream",
     "text": [
      "Unseen nodes:  37\n",
      "AUC:  0.5\n",
      "AUP:  0.32432432432432434\n"
     ]
    }
   ],
   "source": [
    "# Unseen Nodes\n",
    "\n",
    "test_unseen_nodes = test[test['SMILES'].isin(test_minus_train_ligands) & test['Target Sequence'].isin(test_minus_train_targets)]\n",
    "print('Unseen nodes: ', len(test_unseen_nodes))\n",
    "\n",
    "print('AUC: ', roc_auc_score(test_unseen_nodes['Label'].tolist(), test_unseen_nodes['duplex_config_prediction']))\n",
    "print('AUP: ', average_precision_score(test_unseen_nodes['Label'].tolist(), test_unseen_nodes['duplex_config_prediction']))"
   ]
  },
  {
   "cell_type": "code",
   "execution_count": null,
   "metadata": {},
   "outputs": [],
   "source": []
  }
 ],
 "metadata": {
  "kernelspec": {
   "display_name": "DeepPurpose",
   "language": "python",
   "name": "deeppurpose"
  },
  "language_info": {
   "codemirror_mode": {
    "name": "ipython",
    "version": 3
   },
   "file_extension": ".py",
   "mimetype": "text/x-python",
   "name": "python",
   "nbconvert_exporter": "python",
   "pygments_lexer": "ipython3",
   "version": "3.7.7"
  },
  "toc": {
   "base_numbering": 1,
   "nav_menu": {},
   "number_sections": true,
   "sideBar": true,
   "skip_h1_title": false,
   "title_cell": "Table of Contents",
   "title_sidebar": "Contents",
   "toc_cell": false,
   "toc_position": {},
   "toc_section_display": true,
   "toc_window_display": false
  }
 },
 "nbformat": 4,
 "nbformat_minor": 4
}
