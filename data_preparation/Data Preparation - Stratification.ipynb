{
 "cells": [
  {
   "cell_type": "code",
   "execution_count": 37,
   "metadata": {},
   "outputs": [
    {
     "data": {
      "text/html": [
       "<style>.container { width:90% !important; }</style>"
      ],
      "text/plain": [
       "<IPython.core.display.HTML object>"
      ]
     },
     "metadata": {},
     "output_type": "display_data"
    },
    {
     "name": "stdout",
     "output_type": "stream",
     "text": [
      "INFO: Pandarallel will run on 8 workers.\n",
      "INFO: Pandarallel will use Memory file system to transfer data between the main process and workers.\n"
     ]
    }
   ],
   "source": [
    "import pickle as pkl\n",
    "\n",
    "import lxml\n",
    "import pandas as pd\n",
    "import numpy as np\n",
    "#import seaborn as sns\n",
    "import matplotlib.pyplot as plt\n",
    "import tensorflow.keras\n",
    "from tensorflow.keras.datasets import imdb\n",
    "\n",
    "from rdkit.Chem import rdMolDescriptors\n",
    "from rdkit.Chem import PandasTools\n",
    "from rdkit.Chem import AllChem\n",
    "\n",
    "from rdkit import Chem\n",
    "\n",
    "\n",
    "from tqdm.notebook import tqdm\n",
    "\n",
    "from sklearn.metrics import confusion_matrix\n",
    "from sklearn.utils.multiclass import unique_labels\n",
    "from sklearn.metrics import f1_score\n",
    "\n",
    "from sklearn.model_selection import train_test_split\n",
    "\n",
    "from sklearn.preprocessing import LabelEncoder, OneHotEncoder\n",
    "from ast import literal_eval\n",
    "from sklearn.model_selection import train_test_split\n",
    "from sklearn.linear_model import LogisticRegression\n",
    "from sklearn.metrics import confusion_matrix, f1_score, classification_report\n",
    "\n",
    "import importlib\n",
    "#importlib.reload(tensorflow)\n",
    "\n",
    "from IPython.core.display import display, HTML\n",
    "display(HTML(\"<style>.container { width:90% !important; }</style>\"))\n",
    "\n",
    "from pandarallel import pandarallel\n",
    "pandarallel.initialize(progress_bar = False)\n",
    "import random\n",
    "\n",
    "tqdm.pandas()"
   ]
  },
  {
   "cell_type": "markdown",
   "metadata": {},
   "source": [
    "# DEFINE VERSION NUMBER AND EXPERIMENT DETAILS\n",
    "\n"
   ]
  },
  {
   "cell_type": "code",
   "execution_count": 38,
   "metadata": {},
   "outputs": [],
   "source": [
    "## DEFINE VERSION NUMBER AND EXPERIMENT DETAILS\n",
    "\n",
    "VERSION = '07'\n",
    "VERSION_DESCRIPTION = \"Same as version 6 but progressively lesser data with more restrictive unseen test.\"\\\n",
    "                        \"Version 6 does not have any relationship between unseen test sets. Version 7 is progressively stricter.\"\\\n",
    "                        \" Training unseen edges does not include unseen nodes.Where Version 6 is sampling with replacement, Version 7 is sampling without,\"\\\n",
    "                        \" allowing you to train on unseen edges and test on unseen targets, drugs+targets\"\n",
    "    \n",
    "OUTPUT_DIR = 'interactions'\n",
    "versions = pd.read_csv(f'/data/sars-busters/{OUTPUT_DIR}/versions.csv', index_col = 'version')\n",
    "\n",
    "versions = versions.loc[versions.index != int(VERSION)]\n",
    "\n",
    "versions.loc[VERSION, 'description'] = VERSION_DESCRIPTION\n",
    "versions.to_csv(f'/data/sars-busters/{OUTPUT_DIR}/versions.csv')\n",
    "\n"
   ]
  },
  {
   "cell_type": "code",
   "execution_count": 43,
   "metadata": {
    "scrolled": true
   },
   "outputs": [],
   "source": [
    "#nodes = pd.read_csv('/data/sars-busters/nw_files/WholeNetworkNodesTable.csv', index_col = 'Id')\n",
    "all_samples = pd.read_csv('/data/sars-busters-consolidated/interactions/dataset_2_unfiltered.csv')\n",
    "all_samples = all_samples.rename(columns = {'SourceLabel': 'target_aa_code', 'TargetLabel': 'InChiKey'})"
   ]
  },
  {
   "cell_type": "code",
   "execution_count": 44,
   "metadata": {},
   "outputs": [
    {
     "data": {
      "text/html": [
       "<div>\n",
       "<style scoped>\n",
       "    .dataframe tbody tr th:only-of-type {\n",
       "        vertical-align: middle;\n",
       "    }\n",
       "\n",
       "    .dataframe tbody tr th {\n",
       "        vertical-align: top;\n",
       "    }\n",
       "\n",
       "    .dataframe thead th {\n",
       "        text-align: right;\n",
       "    }\n",
       "</style>\n",
       "<table border=\"1\" class=\"dataframe\">\n",
       "  <thead>\n",
       "    <tr style=\"text-align: right;\">\n",
       "      <th></th>\n",
       "      <th>Target</th>\n",
       "      <th>Source</th>\n",
       "      <th>Type</th>\n",
       "      <th>Y</th>\n",
       "      <th>InChiKey</th>\n",
       "      <th>target_aa_code</th>\n",
       "    </tr>\n",
       "  </thead>\n",
       "  <tbody>\n",
       "    <tr>\n",
       "      <th>0</th>\n",
       "      <td>6093</td>\n",
       "      <td>11246</td>\n",
       "      <td>Undirected</td>\n",
       "      <td>1</td>\n",
       "      <td>DEJXHCDDTLTVNB-FRVJLOGJSA-N</td>\n",
       "      <td>MEVQLGLGRVYPRPPSKTYRGAFQNLFQSVREVIQNPGPRHPEAAS...</td>\n",
       "    </tr>\n",
       "    <tr>\n",
       "      <th>1</th>\n",
       "      <td>10888</td>\n",
       "      <td>3006</td>\n",
       "      <td>Undirected</td>\n",
       "      <td>1</td>\n",
       "      <td>IAVHKMVGTPXJIC-UHFFFAOYSA-N</td>\n",
       "      <td>MNVTIYDVAREASVSMATVSRVVNGNPNVKPSTRKKVLETIERLGY...</td>\n",
       "    </tr>\n",
       "    <tr>\n",
       "      <th>2</th>\n",
       "      <td>5855</td>\n",
       "      <td>11533</td>\n",
       "      <td>Undirected</td>\n",
       "      <td>1</td>\n",
       "      <td>KFQYTPMOWPVWEJ-INIZCTEOSA-N</td>\n",
       "      <td>MDVLSPGQGNNTTSPPAPFETGGNTTGISDVTVSYQVITSLLLGTL...</td>\n",
       "    </tr>\n",
       "    <tr>\n",
       "      <th>3</th>\n",
       "      <td>4812</td>\n",
       "      <td>431</td>\n",
       "      <td>Undirected</td>\n",
       "      <td>1</td>\n",
       "      <td>GXJABQQUPOEUTA-OLKMYRHANA-N</td>\n",
       "      <td>MALLDVCGAPRGQRPESALPVAGSGRRSDPGHYSFSMRSPELALPR...</td>\n",
       "    </tr>\n",
       "    <tr>\n",
       "      <th>4</th>\n",
       "      <td>9288</td>\n",
       "      <td>2799</td>\n",
       "      <td>Undirected</td>\n",
       "      <td>1</td>\n",
       "      <td>VJYDOJXJUCJUHL-UHFFFAOYSA-N</td>\n",
       "      <td>MGPLPVCLPIMLLLLLPSLLLLLLLPGPGSGEASRILRVHRRGILE...</td>\n",
       "    </tr>\n",
       "    <tr>\n",
       "      <th>...</th>\n",
       "      <td>...</td>\n",
       "      <td>...</td>\n",
       "      <td>...</td>\n",
       "      <td>...</td>\n",
       "      <td>...</td>\n",
       "      <td>...</td>\n",
       "    </tr>\n",
       "    <tr>\n",
       "      <th>11117754</th>\n",
       "      <td>13215</td>\n",
       "      <td>347</td>\n",
       "      <td>Undirected</td>\n",
       "      <td>0</td>\n",
       "      <td>KYNFOMQIXZUKRK-UHFFFAOYSA-N</td>\n",
       "      <td>MALPSLLLLVAALAGGVRPPGARNLTLAVVLPEHNLSYAWAWPRVG...</td>\n",
       "    </tr>\n",
       "    <tr>\n",
       "      <th>11117755</th>\n",
       "      <td>13215</td>\n",
       "      <td>5067</td>\n",
       "      <td>Undirected</td>\n",
       "      <td>0</td>\n",
       "      <td>KYNFOMQIXZUKRK-UHFFFAOYSA-N</td>\n",
       "      <td>MTDVMFKSQIANQLKNLRKSRGLSLDATAQLTGVSKAMLGQIERGE...</td>\n",
       "    </tr>\n",
       "    <tr>\n",
       "      <th>11117756</th>\n",
       "      <td>13215</td>\n",
       "      <td>1690</td>\n",
       "      <td>Undirected</td>\n",
       "      <td>0</td>\n",
       "      <td>KYNFOMQIXZUKRK-UHFFFAOYSA-N</td>\n",
       "      <td>MSIERLGYLGFAVKDVPAWDHFLTKSVGLMAAGSAGDAALYRADQR...</td>\n",
       "    </tr>\n",
       "    <tr>\n",
       "      <th>11117757</th>\n",
       "      <td>13215</td>\n",
       "      <td>2485</td>\n",
       "      <td>Undirected</td>\n",
       "      <td>0</td>\n",
       "      <td>KYNFOMQIXZUKRK-UHFFFAOYSA-N</td>\n",
       "      <td>MSKQAAVIELGYMGISVKDPDAWKSFATDMLGLQVLDEGEKDRFYL...</td>\n",
       "    </tr>\n",
       "    <tr>\n",
       "      <th>11117758</th>\n",
       "      <td>13215</td>\n",
       "      <td>1080</td>\n",
       "      <td>Undirected</td>\n",
       "      <td>0</td>\n",
       "      <td>KYNFOMQIXZUKRK-UHFFFAOYSA-N</td>\n",
       "      <td>MVPERLKQIKGIRILESEDEIPQEGFTCRFGKHTVVANDEESFEIV...</td>\n",
       "    </tr>\n",
       "  </tbody>\n",
       "</table>\n",
       "<p>11117759 rows × 6 columns</p>\n",
       "</div>"
      ],
      "text/plain": [
       "          Target  Source        Type  Y                     InChiKey  \\\n",
       "0           6093   11246  Undirected  1  DEJXHCDDTLTVNB-FRVJLOGJSA-N   \n",
       "1          10888    3006  Undirected  1  IAVHKMVGTPXJIC-UHFFFAOYSA-N   \n",
       "2           5855   11533  Undirected  1  KFQYTPMOWPVWEJ-INIZCTEOSA-N   \n",
       "3           4812     431  Undirected  1  GXJABQQUPOEUTA-OLKMYRHANA-N   \n",
       "4           9288    2799  Undirected  1  VJYDOJXJUCJUHL-UHFFFAOYSA-N   \n",
       "...          ...     ...         ... ..                          ...   \n",
       "11117754   13215     347  Undirected  0  KYNFOMQIXZUKRK-UHFFFAOYSA-N   \n",
       "11117755   13215    5067  Undirected  0  KYNFOMQIXZUKRK-UHFFFAOYSA-N   \n",
       "11117756   13215    1690  Undirected  0  KYNFOMQIXZUKRK-UHFFFAOYSA-N   \n",
       "11117757   13215    2485  Undirected  0  KYNFOMQIXZUKRK-UHFFFAOYSA-N   \n",
       "11117758   13215    1080  Undirected  0  KYNFOMQIXZUKRK-UHFFFAOYSA-N   \n",
       "\n",
       "                                             target_aa_code  \n",
       "0         MEVQLGLGRVYPRPPSKTYRGAFQNLFQSVREVIQNPGPRHPEAAS...  \n",
       "1         MNVTIYDVAREASVSMATVSRVVNGNPNVKPSTRKKVLETIERLGY...  \n",
       "2         MDVLSPGQGNNTTSPPAPFETGGNTTGISDVTVSYQVITSLLLGTL...  \n",
       "3         MALLDVCGAPRGQRPESALPVAGSGRRSDPGHYSFSMRSPELALPR...  \n",
       "4         MGPLPVCLPIMLLLLLPSLLLLLLLPGPGSGEASRILRVHRRGILE...  \n",
       "...                                                     ...  \n",
       "11117754  MALPSLLLLVAALAGGVRPPGARNLTLAVVLPEHNLSYAWAWPRVG...  \n",
       "11117755  MTDVMFKSQIANQLKNLRKSRGLSLDATAQLTGVSKAMLGQIERGE...  \n",
       "11117756  MSIERLGYLGFAVKDVPAWDHFLTKSVGLMAAGSAGDAALYRADQR...  \n",
       "11117757  MSKQAAVIELGYMGISVKDPDAWKSFATDMLGLQVLDEGEKDRFYL...  \n",
       "11117758  MVPERLKQIKGIRILESEDEIPQEGFTCRFGKHTVVANDEESFEIV...  \n",
       "\n",
       "[11117759 rows x 6 columns]"
      ]
     },
     "execution_count": 44,
     "metadata": {},
     "output_type": "execute_result"
    }
   ],
   "source": [
    "all_samples"
   ]
  },
  {
   "cell_type": "code",
   "execution_count": 45,
   "metadata": {},
   "outputs": [
    {
     "data": {
      "text/plain": [
       "0    11086946\n",
       "1       30813\n",
       "Name: Y, dtype: int64"
      ]
     },
     "execution_count": 45,
     "metadata": {},
     "output_type": "execute_result"
    }
   ],
   "source": [
    "all_samples['Y'].value_counts()"
   ]
  },
  {
   "cell_type": "code",
   "execution_count": 46,
   "metadata": {
    "scrolled": true
   },
   "outputs": [
    {
     "data": {
      "text/html": [
       "<div>\n",
       "<style scoped>\n",
       "    .dataframe tbody tr th:only-of-type {\n",
       "        vertical-align: middle;\n",
       "    }\n",
       "\n",
       "    .dataframe tbody tr th {\n",
       "        vertical-align: top;\n",
       "    }\n",
       "\n",
       "    .dataframe thead th {\n",
       "        text-align: right;\n",
       "    }\n",
       "</style>\n",
       "<table border=\"1\" class=\"dataframe\">\n",
       "  <thead>\n",
       "    <tr style=\"text-align: right;\">\n",
       "      <th></th>\n",
       "      <th>Target</th>\n",
       "      <th>Source</th>\n",
       "      <th>Type</th>\n",
       "      <th>Y</th>\n",
       "      <th>InChiKey</th>\n",
       "      <th>target_aa_code</th>\n",
       "    </tr>\n",
       "  </thead>\n",
       "  <tbody>\n",
       "    <tr>\n",
       "      <th>0</th>\n",
       "      <td>6093</td>\n",
       "      <td>11246</td>\n",
       "      <td>Undirected</td>\n",
       "      <td>1</td>\n",
       "      <td>DEJXHCDDTLTVNB-FRVJLOGJSA-N</td>\n",
       "      <td>MEVQLGLGRVYPRPPSKTYRGAFQNLFQSVREVIQNPGPRHPEAAS...</td>\n",
       "    </tr>\n",
       "    <tr>\n",
       "      <th>1</th>\n",
       "      <td>10888</td>\n",
       "      <td>3006</td>\n",
       "      <td>Undirected</td>\n",
       "      <td>1</td>\n",
       "      <td>IAVHKMVGTPXJIC-UHFFFAOYSA-N</td>\n",
       "      <td>MNVTIYDVAREASVSMATVSRVVNGNPNVKPSTRKKVLETIERLGY...</td>\n",
       "    </tr>\n",
       "    <tr>\n",
       "      <th>2</th>\n",
       "      <td>5855</td>\n",
       "      <td>11533</td>\n",
       "      <td>Undirected</td>\n",
       "      <td>1</td>\n",
       "      <td>KFQYTPMOWPVWEJ-INIZCTEOSA-N</td>\n",
       "      <td>MDVLSPGQGNNTTSPPAPFETGGNTTGISDVTVSYQVITSLLLGTL...</td>\n",
       "    </tr>\n",
       "    <tr>\n",
       "      <th>3</th>\n",
       "      <td>4812</td>\n",
       "      <td>431</td>\n",
       "      <td>Undirected</td>\n",
       "      <td>1</td>\n",
       "      <td>GXJABQQUPOEUTA-OLKMYRHANA-N</td>\n",
       "      <td>MALLDVCGAPRGQRPESALPVAGSGRRSDPGHYSFSMRSPELALPR...</td>\n",
       "    </tr>\n",
       "    <tr>\n",
       "      <th>4</th>\n",
       "      <td>9288</td>\n",
       "      <td>2799</td>\n",
       "      <td>Undirected</td>\n",
       "      <td>1</td>\n",
       "      <td>VJYDOJXJUCJUHL-UHFFFAOYSA-N</td>\n",
       "      <td>MGPLPVCLPIMLLLLLPSLLLLLLLPGPGSGEASRILRVHRRGILE...</td>\n",
       "    </tr>\n",
       "    <tr>\n",
       "      <th>...</th>\n",
       "      <td>...</td>\n",
       "      <td>...</td>\n",
       "      <td>...</td>\n",
       "      <td>...</td>\n",
       "      <td>...</td>\n",
       "      <td>...</td>\n",
       "    </tr>\n",
       "    <tr>\n",
       "      <th>11117754</th>\n",
       "      <td>13215</td>\n",
       "      <td>347</td>\n",
       "      <td>Undirected</td>\n",
       "      <td>0</td>\n",
       "      <td>KYNFOMQIXZUKRK-UHFFFAOYSA-N</td>\n",
       "      <td>MALPSLLLLVAALAGGVRPPGARNLTLAVVLPEHNLSYAWAWPRVG...</td>\n",
       "    </tr>\n",
       "    <tr>\n",
       "      <th>11117755</th>\n",
       "      <td>13215</td>\n",
       "      <td>5067</td>\n",
       "      <td>Undirected</td>\n",
       "      <td>0</td>\n",
       "      <td>KYNFOMQIXZUKRK-UHFFFAOYSA-N</td>\n",
       "      <td>MTDVMFKSQIANQLKNLRKSRGLSLDATAQLTGVSKAMLGQIERGE...</td>\n",
       "    </tr>\n",
       "    <tr>\n",
       "      <th>11117756</th>\n",
       "      <td>13215</td>\n",
       "      <td>1690</td>\n",
       "      <td>Undirected</td>\n",
       "      <td>0</td>\n",
       "      <td>KYNFOMQIXZUKRK-UHFFFAOYSA-N</td>\n",
       "      <td>MSIERLGYLGFAVKDVPAWDHFLTKSVGLMAAGSAGDAALYRADQR...</td>\n",
       "    </tr>\n",
       "    <tr>\n",
       "      <th>11117757</th>\n",
       "      <td>13215</td>\n",
       "      <td>2485</td>\n",
       "      <td>Undirected</td>\n",
       "      <td>0</td>\n",
       "      <td>KYNFOMQIXZUKRK-UHFFFAOYSA-N</td>\n",
       "      <td>MSKQAAVIELGYMGISVKDPDAWKSFATDMLGLQVLDEGEKDRFYL...</td>\n",
       "    </tr>\n",
       "    <tr>\n",
       "      <th>11117758</th>\n",
       "      <td>13215</td>\n",
       "      <td>1080</td>\n",
       "      <td>Undirected</td>\n",
       "      <td>0</td>\n",
       "      <td>KYNFOMQIXZUKRK-UHFFFAOYSA-N</td>\n",
       "      <td>MVPERLKQIKGIRILESEDEIPQEGFTCRFGKHTVVANDEESFEIV...</td>\n",
       "    </tr>\n",
       "  </tbody>\n",
       "</table>\n",
       "<p>11117759 rows × 6 columns</p>\n",
       "</div>"
      ],
      "text/plain": [
       "          Target  Source        Type  Y                     InChiKey  \\\n",
       "0           6093   11246  Undirected  1  DEJXHCDDTLTVNB-FRVJLOGJSA-N   \n",
       "1          10888    3006  Undirected  1  IAVHKMVGTPXJIC-UHFFFAOYSA-N   \n",
       "2           5855   11533  Undirected  1  KFQYTPMOWPVWEJ-INIZCTEOSA-N   \n",
       "3           4812     431  Undirected  1  GXJABQQUPOEUTA-OLKMYRHANA-N   \n",
       "4           9288    2799  Undirected  1  VJYDOJXJUCJUHL-UHFFFAOYSA-N   \n",
       "...          ...     ...         ... ..                          ...   \n",
       "11117754   13215     347  Undirected  0  KYNFOMQIXZUKRK-UHFFFAOYSA-N   \n",
       "11117755   13215    5067  Undirected  0  KYNFOMQIXZUKRK-UHFFFAOYSA-N   \n",
       "11117756   13215    1690  Undirected  0  KYNFOMQIXZUKRK-UHFFFAOYSA-N   \n",
       "11117757   13215    2485  Undirected  0  KYNFOMQIXZUKRK-UHFFFAOYSA-N   \n",
       "11117758   13215    1080  Undirected  0  KYNFOMQIXZUKRK-UHFFFAOYSA-N   \n",
       "\n",
       "                                             target_aa_code  \n",
       "0         MEVQLGLGRVYPRPPSKTYRGAFQNLFQSVREVIQNPGPRHPEAAS...  \n",
       "1         MNVTIYDVAREASVSMATVSRVVNGNPNVKPSTRKKVLETIERLGY...  \n",
       "2         MDVLSPGQGNNTTSPPAPFETGGNTTGISDVTVSYQVITSLLLGTL...  \n",
       "3         MALLDVCGAPRGQRPESALPVAGSGRRSDPGHYSFSMRSPELALPR...  \n",
       "4         MGPLPVCLPIMLLLLLPSLLLLLLLPGPGSGEASRILRVHRRGILE...  \n",
       "...                                                     ...  \n",
       "11117754  MALPSLLLLVAALAGGVRPPGARNLTLAVVLPEHNLSYAWAWPRVG...  \n",
       "11117755  MTDVMFKSQIANQLKNLRKSRGLSLDATAQLTGVSKAMLGQIERGE...  \n",
       "11117756  MSIERLGYLGFAVKDVPAWDHFLTKSVGLMAAGSAGDAALYRADQR...  \n",
       "11117757  MSKQAAVIELGYMGISVKDPDAWKSFATDMLGLQVLDEGEKDRFYL...  \n",
       "11117758  MVPERLKQIKGIRILESEDEIPQEGFTCRFGKHTVVANDEESFEIV...  \n",
       "\n",
       "[11117759 rows x 6 columns]"
      ]
     },
     "execution_count": 46,
     "metadata": {},
     "output_type": "execute_result"
    }
   ],
   "source": [
    "all_samples[all_samples['InChiKey'].str.contains('-')]"
   ]
  },
  {
   "cell_type": "markdown",
   "metadata": {},
   "source": [
    "## Distinct Number of drugs and Targets before Stratification"
   ]
  },
  {
   "cell_type": "code",
   "execution_count": 47,
   "metadata": {},
   "outputs": [],
   "source": [
    "def get_unique_counts(df):\n",
    "    \n",
    "    \n",
    "    neg_sample_targets = set(df[df['Y'] == 0]['target_aa_code'].tolist())\n",
    "    pos_sample_targets = set(df[df['Y'] == 1]['target_aa_code'].tolist())\n",
    "\n",
    "\n",
    "    print('Distinct TARGETS in positive smaples: ', len(pos_sample_targets))\n",
    "    print('Distinct TARGETS in negative smaples: ', len(neg_sample_targets))\n",
    "    \n",
    "    neg_sample_drugs = set(df[df['Y'] == 0]['InChiKey'].tolist())\n",
    "    pos_sample_drugs = set(df[df['Y'] == 1]['InChiKey'].tolist())\n",
    "\n",
    "\n",
    "    print('Distinct DRUGS in positive smaples: ', len(pos_sample_drugs))\n",
    "    print('Distinct DRUGS in negative smaples: ', len(neg_sample_drugs))\n",
    "    \n",
    "    return len(pos_sample_targets),len(neg_sample_targets),len(pos_sample_drugs),len(neg_sample_drugs)"
   ]
  },
  {
   "cell_type": "code",
   "execution_count": 48,
   "metadata": {},
   "outputs": [
    {
     "name": "stdout",
     "output_type": "stream",
     "text": [
      "Distinct TARGETS in positive smaples:  5104\n",
      "Distinct TARGETS in negative smaples:  4611\n",
      "Distinct DRUGS in positive smaples:  8111\n",
      "Distinct DRUGS in negative smaples:  7468\n"
     ]
    },
    {
     "data": {
      "text/plain": [
       "(5104, 4611, 8111, 7468)"
      ]
     },
     "execution_count": 48,
     "metadata": {},
     "output_type": "execute_result"
    }
   ],
   "source": [
    "get_unique_counts(all_samples)"
   ]
  },
  {
   "cell_type": "markdown",
   "metadata": {},
   "source": [
    "## Get Blanced Drug and Targets"
   ]
  },
  {
   "cell_type": "code",
   "execution_count": 49,
   "metadata": {},
   "outputs": [],
   "source": [
    "def get_degree_stratification(all_samples, ratio = [0.01, 0.99], return_item = 'list', on = 'drug'):\n",
    "    \n",
    "    \n",
    "    column_name = {'drug': 'InChiKey',\n",
    "                  'target': 'target_aa_code'}\n",
    "        \n",
    "        \n",
    "    positive_samples = all_samples[all_samples['Y'] == 1]\n",
    "    negative_samples = all_samples[all_samples['Y'] == 0]\n",
    "\n",
    "    \n",
    "    pos_degree = positive_samples.groupby(column_name[on]).count()['Y'].to_frame().rename(columns = {'Y': 'degree'})\n",
    "    neg_degree = negative_samples.groupby(column_name[on]).count()['Y'].to_frame().rename(columns = {'Y': 'degree'})\n",
    "    \n",
    "    degree_df = pd.merge(pos_degree, neg_degree, left_on = column_name[on], right_on = column_name[on], suffixes = ['_pos', '_neg'])\n",
    "    \n",
    "    del pos_degree\n",
    "    del neg_degree\n",
    "    \n",
    "    degree_df['total_degree'] = degree_df['degree_pos'] + degree_df['degree_neg']    \n",
    "    degree_df['degree_fraction'] = degree_df['degree_pos'] / degree_df['total_degree'] \n",
    "        \n",
    "    if return_item == 'list':\n",
    "        return set(degree_df[(degree_df['degree_fraction'] > ratio[0]) & (degree_df['degree_fraction'] < ratio[1])].index.tolist())\n",
    "\n",
    "    elif return_item == 'df':\n",
    "        return degree_df[(degree_df['degree_fraction'] > ratio[0]) & (degree_df['degree_fraction'] < ratio[1])]\n",
    "    \n",
    "    \n",
    "    elif return_item == 'full_df':\n",
    "        return degree_df\n",
    "    \n",
    "    else:\n",
    "        print('Incorrect return_item Specified')"
   ]
  },
  {
   "cell_type": "markdown",
   "metadata": {},
   "source": [
    "### All Drugs and Targets"
   ]
  },
  {
   "cell_type": "code",
   "execution_count": 50,
   "metadata": {},
   "outputs": [
    {
     "name": "stdout",
     "output_type": "stream",
     "text": [
      "4611\n"
     ]
    },
    {
     "data": {
      "text/plain": [
       "<matplotlib.axes._subplots.AxesSubplot at 0x7f257831e240>"
      ]
     },
     "execution_count": 50,
     "metadata": {},
     "output_type": "execute_result"
    },
    {
     "data": {
      "image/png": "[encoded data removed]",
      "text/plain": [
       "<Figure size 432x288 with 1 Axes>"
      ]
     },
     "metadata": {
      "needs_background": "light"
     },
     "output_type": "display_data"
    }
   ],
   "source": [
    "balanced_target = get_degree_stratification(all_samples, ratio = [0.1,0.9], return_item = 'df', on = 'target')\n",
    "print(len(balanced_target))\n",
    "(balanced_target['degree_fraction']).hist(density = True)\n",
    "\n",
    "#print(len(get_degree_stratification(all_samples, ratio = [0.30, 0.70], return_item = 'df', on = 'target')['degree_fraction']))\n",
    "#get_degree_stratification(all_samples, ratio = [0.30, 0.70], return_item = 'df', on = 'target')['degree_fraction'].hist()"
   ]
  },
  {
   "cell_type": "code",
   "execution_count": 51,
   "metadata": {},
   "outputs": [
    {
     "data": {
      "text/plain": [
       "<matplotlib.axes._subplots.AxesSubplot at 0x7f25395142b0>"
      ]
     },
     "execution_count": 51,
     "metadata": {},
     "output_type": "execute_result"
    },
    {
     "data": {
      "image/png": "[encoded data removed]",
      "text/plain": [
       "<Figure size 432x288 with 1 Axes>"
      ]
     },
     "metadata": {
      "needs_background": "light"
     },
     "output_type": "display_data"
    }
   ],
   "source": [
    "balanced_target.plot.scatter(x = 'degree_pos', y = 'degree_neg', title = 'Target Positive Degree vs Negative Degree')"
   ]
  },
  {
   "cell_type": "code",
   "execution_count": 33,
   "metadata": {},
   "outputs": [
    {
     "name": "stdout",
     "output_type": "stream",
     "text": [
      "7468\n"
     ]
    },
    {
     "data": {
      "text/plain": [
       "<matplotlib.axes._subplots.AxesSubplot at 0x7f257843c438>"
      ]
     },
     "execution_count": 33,
     "metadata": {},
     "output_type": "execute_result"
    },
    {
     "data": {
      "image/png": "[encoded data removed]",
      "text/plain": [
       "<Figure size 432x288 with 1 Axes>"
      ]
     },
     "metadata": {
      "needs_background": "light"
     },
     "output_type": "display_data"
    }
   ],
   "source": [
    "balanced_drug = get_degree_stratification(all_samples, ratio = [0.0001,0.8], return_item = 'df', on = 'drug')\n",
    "print(len(balanced_drug))\n",
    "(balanced_drug['degree_fraction']*100).hist(density = True)\n",
    "\n",
    "#print(len(get_degree_stratification(all_samples, ratio = [0.30, 0.70], return_item = 'df', on = 'target')['degree_fraction']))\n",
    "#get_degree_stratification(all_samples, ratio = [0.30, 0.70], return_item = 'df', on = 'target')['degree_fraction'].hist()"
   ]
  },
  {
   "cell_type": "code",
   "execution_count": 34,
   "metadata": {},
   "outputs": [
    {
     "data": {
      "text/plain": [
       "<matplotlib.axes._subplots.AxesSubplot at 0x7f25783b69e8>"
      ]
     },
     "execution_count": 34,
     "metadata": {},
     "output_type": "execute_result"
    },
    {
     "data": {
      "image/png": "[encoded data removed]",
      "text/plain": [
       "<Figure size 432x288 with 1 Axes>"
      ]
     },
     "metadata": {
      "needs_background": "light"
     },
     "output_type": "display_data"
    }
   ],
   "source": [
    "balanced_drug.plot.scatter(x = 'degree_pos', y = 'degree_neg', title = 'Drugs - Positive Degree vs Negative Degree', alpha = 0.3)"
   ]
  },
  {
   "cell_type": "markdown",
   "metadata": {},
   "source": [
    "## Filter by Balanced"
   ]
  },
  {
   "cell_type": "code",
   "execution_count": 24,
   "metadata": {},
   "outputs": [],
   "source": [
    "## Drugs are selected to have at most 20% imbalance\n",
    "bal_drug_filtered_samples = all_samples[all_samples['InChiKey'].isin(balanced_drug.index)]"
   ]
  },
  {
   "cell_type": "code",
   "execution_count": 25,
   "metadata": {},
   "outputs": [
    {
     "name": "stdout",
     "output_type": "stream",
     "text": [
      "Distinct TARGETS in positive smaples:  4611\n",
      "Distinct TARGETS in negative smaples:  4611\n",
      "Distinct DRUGS in positive smaples:  7468\n",
      "Distinct DRUGS in negative smaples:  7468\n"
     ]
    },
    {
     "data": {
      "text/plain": [
       "(4611, 4611, 7468, 7468)"
      ]
     },
     "execution_count": 25,
     "metadata": {},
     "output_type": "execute_result"
    }
   ],
   "source": [
    "get_unique_counts(bal_drug_filtered_samples)"
   ]
  },
  {
   "cell_type": "code",
   "execution_count": 26,
   "metadata": {},
   "outputs": [],
   "source": [
    "## Targets are selected to have at most 20% imbalance\n",
    "bal_target_filtered_samples = all_samples[all_samples['target_aa_code'].isin(balanced_target.index)]"
   ]
  },
  {
   "cell_type": "code",
   "execution_count": 27,
   "metadata": {},
   "outputs": [
    {
     "name": "stdout",
     "output_type": "stream",
     "text": [
      "Distinct TARGETS in positive smaples:  4611\n",
      "Distinct TARGETS in negative smaples:  4611\n",
      "Distinct DRUGS in positive smaples:  7468\n",
      "Distinct DRUGS in negative smaples:  7468\n"
     ]
    },
    {
     "data": {
      "text/plain": [
       "(4611, 4611, 7468, 7468)"
      ]
     },
     "execution_count": 27,
     "metadata": {},
     "output_type": "execute_result"
    }
   ],
   "source": [
    "get_unique_counts(bal_target_filtered_samples)"
   ]
  },
  {
   "cell_type": "code",
   "execution_count": 28,
   "metadata": {},
   "outputs": [],
   "source": [
    "## Drug AND Targets are selected to have at most 20% imbalance\n",
    "bal_both_filtered_samples = all_samples[(all_samples['target_aa_code'].isin(balanced_target.index)) & \n",
    "                                       (all_samples['InChiKey'].isin(balanced_drug.index))]"
   ]
  },
  {
   "cell_type": "code",
   "execution_count": 29,
   "metadata": {},
   "outputs": [
    {
     "name": "stdout",
     "output_type": "stream",
     "text": [
      "Distinct TARGETS in positive smaples:  4611\n",
      "Distinct TARGETS in negative smaples:  4611\n",
      "Distinct DRUGS in positive smaples:  7468\n",
      "Distinct DRUGS in negative smaples:  7468\n"
     ]
    },
    {
     "data": {
      "text/plain": [
       "(4611, 4611, 7468, 7468)"
      ]
     },
     "execution_count": 29,
     "metadata": {},
     "output_type": "execute_result"
    }
   ],
   "source": [
    "bal_both_filtered_samples\n",
    "get_unique_counts(bal_both_filtered_samples)"
   ]
  },
  {
   "cell_type": "code",
   "execution_count": 117,
   "metadata": {},
   "outputs": [],
   "source": [
    "## Drug OR Targets are selected to have at most 20% imbalance. in other words, pairs are selected such that either drugs or target has at most 20% imbalance\n",
    "bal_either_filtered_samples = all_samples[(all_samples['target_aa_code'].isin(balanced_target.index)) | \n",
    "                                       (all_samples['InChiKey'].isin(balanced_drug.index))]"
   ]
  },
  {
   "cell_type": "code",
   "execution_count": 118,
   "metadata": {},
   "outputs": [
    {
     "name": "stdout",
     "output_type": "stream",
     "text": [
      "Distinct TARGETS in positive smaples:  4409\n",
      "Distinct TARGETS in negative smaples:  4860\n",
      "Distinct DRUGS in positive smaples:  490007\n",
      "Distinct DRUGS in negative smaples:  293625\n"
     ]
    },
    {
     "data": {
      "text/plain": [
       "(4409, 4860, 490007, 293625)"
      ]
     },
     "execution_count": 118,
     "metadata": {},
     "output_type": "execute_result"
    }
   ],
   "source": [
    "get_unique_counts(bal_either_filtered_samples)"
   ]
  },
  {
   "cell_type": "code",
   "execution_count": 119,
   "metadata": {},
   "outputs": [
    {
     "name": "stdout",
     "output_type": "stream",
     "text": [
      "Distinct TARGETS in positive smaples:  3375\n",
      "Distinct TARGETS in negative smaples:  5826\n",
      "Distinct DRUGS in positive smaples:  104996\n",
      "Distinct DRUGS in negative smaples:  336895\n"
     ]
    },
    {
     "data": {
      "text/plain": [
       "(3375, 5826, 104996, 336895)"
      ]
     },
     "execution_count": 119,
     "metadata": {},
     "output_type": "execute_result"
    }
   ],
   "source": [
    "\n",
    "##This menthod only checks for postive samples that are in the negative sample\n",
    "bal_simple_presence_check = all_samples[(all_samples['InChiKey'].isin(all_samples[all_samples['Y'] == 0]['InChiKey'].unique())) & \\\n",
    "                         (all_samples['target_aa_code'].isin(all_samples[all_samples['Y'] == 0]['target_aa_code'].unique()))]\n",
    "\n",
    "\n",
    "get_unique_counts(bal_simple_presence_check)\n"
   ]
  },
  {
   "cell_type": "code",
   "execution_count": 120,
   "metadata": {},
   "outputs": [],
   "source": [
    "## Select a sample to use\n",
    "\n",
    "selected_interactions = bal_either_filtered_samples"
   ]
  },
  {
   "cell_type": "code",
   "execution_count": 121,
   "metadata": {},
   "outputs": [
    {
     "name": "stdout",
     "output_type": "stream",
     "text": [
      "3703\n"
     ]
    },
    {
     "data": {
      "text/plain": [
       "<matplotlib.axes._subplots.AxesSubplot at 0x7f2438558080>"
      ]
     },
     "execution_count": 121,
     "metadata": {},
     "output_type": "execute_result"
    },
    {
     "data": {
      "image/png": "[encoded data removed]",
      "text/plain": [
       "<Figure size 432x288 with 1 Axes>"
      ]
     },
     "metadata": {
      "needs_background": "light"
     },
     "output_type": "display_data"
    }
   ],
   "source": [
    "selected_target = get_degree_stratification(selected_interactions, ratio = [0.1,1], return_item = 'df', on = 'target')\n",
    "print(len(selected_target))\n",
    "(selected_target['degree_fraction']).hist(density = True)\n",
    "\n",
    "#print(len(get_degree_stratification(all_samples, ratio = [0.30, 0.70], return_item = 'df', on = 'target')['degree_fraction']))\n",
    "#get_degree_stratification(all_samples, ratio = [0.30, 0.70], return_item = 'df', on = 'target')['degree_fraction'].hist()"
   ]
  },
  {
   "cell_type": "code",
   "execution_count": 122,
   "metadata": {},
   "outputs": [
    {
     "name": "stdout",
     "output_type": "stream",
     "text": [
      "104604\n"
     ]
    },
    {
     "data": {
      "text/plain": [
       "<matplotlib.axes._subplots.AxesSubplot at 0x7f24385ff9e8>"
      ]
     },
     "execution_count": 122,
     "metadata": {},
     "output_type": "execute_result"
    },
    {
     "data": {
      "image/png": "[encoded data removed]",
      "text/plain": [
       "<Figure size 432x288 with 1 Axes>"
      ]
     },
     "metadata": {
      "needs_background": "light"
     },
     "output_type": "display_data"
    }
   ],
   "source": [
    "selected_drug = get_degree_stratification(selected_interactions, ratio = [0.1,1], return_item = 'df', on = 'drug')\n",
    "print(len(selected_drug))\n",
    "(selected_drug['degree_fraction']).hist(density = True)\n",
    "\n",
    "#print(len(get_degree_stratification(all_samples, ratio = [0.30, 0.70], return_item = 'df', on = 'target')['degree_fraction']))\n",
    "#get_degree_stratification(all_samples, ratio = [0.30, 0.70], return_item = 'df', on = 'target')['degree_fraction'].hist()"
   ]
  },
  {
   "cell_type": "code",
   "execution_count": 123,
   "metadata": {},
   "outputs": [],
   "source": [
    "selected_interactions.to_csv(f'/data/sars-busters-consolidated/interactions/dataset_2_filtered.csv') ## was dataset_3_unfiltered"
   ]
  },
  {
   "cell_type": "code",
   "execution_count": 100,
   "metadata": {},
   "outputs": [
    {
     "data": {
      "text/html": [
       "<div>\n",
       "<style scoped>\n",
       "    .dataframe tbody tr th:only-of-type {\n",
       "        vertical-align: middle;\n",
       "    }\n",
       "\n",
       "    .dataframe tbody tr th {\n",
       "        vertical-align: top;\n",
       "    }\n",
       "\n",
       "    .dataframe thead th {\n",
       "        text-align: right;\n",
       "    }\n",
       "</style>\n",
       "<table border=\"1\" class=\"dataframe\">\n",
       "  <thead>\n",
       "    <tr style=\"text-align: right;\">\n",
       "      <th></th>\n",
       "      <th>Target</th>\n",
       "      <th>Source</th>\n",
       "      <th>Type</th>\n",
       "      <th>Y</th>\n",
       "      <th>InChiKey</th>\n",
       "      <th>target_aa_code</th>\n",
       "    </tr>\n",
       "  </thead>\n",
       "  <tbody>\n",
       "    <tr>\n",
       "      <th>0</th>\n",
       "      <td>6093</td>\n",
       "      <td>11246</td>\n",
       "      <td>Undirected</td>\n",
       "      <td>1</td>\n",
       "      <td>DEJXHCDDTLTVNB-FRVJLOGJSA-N</td>\n",
       "      <td>MEVQLGLGRVYPRPPSKTYRGAFQNLFQSVREVIQNPGPRHPEAAS...</td>\n",
       "    </tr>\n",
       "    <tr>\n",
       "      <th>2</th>\n",
       "      <td>5855</td>\n",
       "      <td>11533</td>\n",
       "      <td>Undirected</td>\n",
       "      <td>1</td>\n",
       "      <td>KFQYTPMOWPVWEJ-INIZCTEOSA-N</td>\n",
       "      <td>MDVLSPGQGNNTTSPPAPFETGGNTTGISDVTVSYQVITSLLLGTL...</td>\n",
       "    </tr>\n",
       "    <tr>\n",
       "      <th>5</th>\n",
       "      <td>1863</td>\n",
       "      <td>9813</td>\n",
       "      <td>Undirected</td>\n",
       "      <td>1</td>\n",
       "      <td>AVOLMBLBETYQHX-UHFFFAOYSA-N</td>\n",
       "      <td>MAFNDLLQQVGGVGRFQQIQVTLVVLPLLLMASHNTLQNFTAAIPT...</td>\n",
       "    </tr>\n",
       "    <tr>\n",
       "      <th>6</th>\n",
       "      <td>4119</td>\n",
       "      <td>9499</td>\n",
       "      <td>Undirected</td>\n",
       "      <td>1</td>\n",
       "      <td>OGHNVEJMJSYVRP-UHFFFAOYSA-N</td>\n",
       "      <td>MVFLSGNASDSSNCTQPPAPVNISKAILLGVILGGLILFGVLGNIL...</td>\n",
       "    </tr>\n",
       "    <tr>\n",
       "      <th>9</th>\n",
       "      <td>3348</td>\n",
       "      <td>9152</td>\n",
       "      <td>Undirected</td>\n",
       "      <td>1</td>\n",
       "      <td>QXWZQTURMXZVHJ-UHFFFAOYSA-N</td>\n",
       "      <td>MDLEGDRNGGAKKKNFFKLNNKSEKDKKEKKPTVSVFSMFRYSNWL...</td>\n",
       "    </tr>\n",
       "    <tr>\n",
       "      <th>...</th>\n",
       "      <td>...</td>\n",
       "      <td>...</td>\n",
       "      <td>...</td>\n",
       "      <td>...</td>\n",
       "      <td>...</td>\n",
       "      <td>...</td>\n",
       "    </tr>\n",
       "    <tr>\n",
       "      <th>506151</th>\n",
       "      <td>11167</td>\n",
       "      <td>9261</td>\n",
       "      <td>Undirected</td>\n",
       "      <td>0</td>\n",
       "      <td>BLIJXOOIHRSQRB-PXYINDEMSA-N</td>\n",
       "      <td>MNALVGCTTSFDPGWEVDAFGAVSNLCQPMEADLYGCADPCWWPAQ...</td>\n",
       "    </tr>\n",
       "    <tr>\n",
       "      <th>506153</th>\n",
       "      <td>5564</td>\n",
       "      <td>9381</td>\n",
       "      <td>Undirected</td>\n",
       "      <td>0</td>\n",
       "      <td>CHQOEHPMXSHGCL-UHFFFAOYSA-N</td>\n",
       "      <td>MERPLESYKKEAAHAAIAYVQDGMVVGLGTGSTARYAVLELARRLR...</td>\n",
       "    </tr>\n",
       "    <tr>\n",
       "      <th>506160</th>\n",
       "      <td>454</td>\n",
       "      <td>11202</td>\n",
       "      <td>Undirected</td>\n",
       "      <td>0</td>\n",
       "      <td>JIDRTCHFBHJIDG-UHFFFAOYSA-N</td>\n",
       "      <td>MATEGMILTNHDHQIRVGVLTVSDSCFRNLAEDRSGINLKDLVQDP...</td>\n",
       "    </tr>\n",
       "    <tr>\n",
       "      <th>506167</th>\n",
       "      <td>7001</td>\n",
       "      <td>12982</td>\n",
       "      <td>Undirected</td>\n",
       "      <td>0</td>\n",
       "      <td>RXWNCPJZOCPEPQ-NVWDDTSBSA-N</td>\n",
       "      <td>MSKGLPARQDMEKERETLQAWKERVGQELDRVVAFWMEHSHDQEHG...</td>\n",
       "    </tr>\n",
       "    <tr>\n",
       "      <th>506183</th>\n",
       "      <td>7813</td>\n",
       "      <td>8509</td>\n",
       "      <td>Undirected</td>\n",
       "      <td>0</td>\n",
       "      <td>JDXMIYHOSFNZKO-SCSAIBSYSA-N</td>\n",
       "      <td>MKTQVAIIGAGPSGLLLGQLLHKAGIDNVILERQTPDYVLGRIRAG...</td>\n",
       "    </tr>\n",
       "  </tbody>\n",
       "</table>\n",
       "<p>82589 rows × 6 columns</p>\n",
       "</div>"
      ],
      "text/plain": [
       "        Target  Source        Type  Y                     InChiKey  \\\n",
       "0         6093   11246  Undirected  1  DEJXHCDDTLTVNB-FRVJLOGJSA-N   \n",
       "2         5855   11533  Undirected  1  KFQYTPMOWPVWEJ-INIZCTEOSA-N   \n",
       "5         1863    9813  Undirected  1  AVOLMBLBETYQHX-UHFFFAOYSA-N   \n",
       "6         4119    9499  Undirected  1  OGHNVEJMJSYVRP-UHFFFAOYSA-N   \n",
       "9         3348    9152  Undirected  1  QXWZQTURMXZVHJ-UHFFFAOYSA-N   \n",
       "...        ...     ...         ... ..                          ...   \n",
       "506151   11167    9261  Undirected  0  BLIJXOOIHRSQRB-PXYINDEMSA-N   \n",
       "506153    5564    9381  Undirected  0  CHQOEHPMXSHGCL-UHFFFAOYSA-N   \n",
       "506160     454   11202  Undirected  0  JIDRTCHFBHJIDG-UHFFFAOYSA-N   \n",
       "506167    7001   12982  Undirected  0  RXWNCPJZOCPEPQ-NVWDDTSBSA-N   \n",
       "506183    7813    8509  Undirected  0  JDXMIYHOSFNZKO-SCSAIBSYSA-N   \n",
       "\n",
       "                                           target_aa_code  \n",
       "0       MEVQLGLGRVYPRPPSKTYRGAFQNLFQSVREVIQNPGPRHPEAAS...  \n",
       "2       MDVLSPGQGNNTTSPPAPFETGGNTTGISDVTVSYQVITSLLLGTL...  \n",
       "5       MAFNDLLQQVGGVGRFQQIQVTLVVLPLLLMASHNTLQNFTAAIPT...  \n",
       "6       MVFLSGNASDSSNCTQPPAPVNISKAILLGVILGGLILFGVLGNIL...  \n",
       "9       MDLEGDRNGGAKKKNFFKLNNKSEKDKKEKKPTVSVFSMFRYSNWL...  \n",
       "...                                                   ...  \n",
       "506151  MNALVGCTTSFDPGWEVDAFGAVSNLCQPMEADLYGCADPCWWPAQ...  \n",
       "506153  MERPLESYKKEAAHAAIAYVQDGMVVGLGTGSTARYAVLELARRLR...  \n",
       "506160  MATEGMILTNHDHQIRVGVLTVSDSCFRNLAEDRSGINLKDLVQDP...  \n",
       "506167  MSKGLPARQDMEKERETLQAWKERVGQELDRVVAFWMEHSHDQEHG...  \n",
       "506183  MKTQVAIIGAGPSGLLLGQLLHKAGIDNVILERQTPDYVLGRIRAG...  \n",
       "\n",
       "[82589 rows x 6 columns]"
      ]
     },
     "execution_count": 100,
     "metadata": {},
     "output_type": "execute_result"
    }
   ],
   "source": [
    "selected_interactions"
   ]
  },
  {
   "cell_type": "markdown",
   "metadata": {},
   "source": [
    "## Chemicals: Add Fingerprints"
   ]
  },
  {
   "cell_type": "code",
   "execution_count": 5,
   "metadata": {},
   "outputs": [],
   "source": [
    "chemicals = nodes[nodes['Type'] == 'Chemical']"
   ]
  },
  {
   "cell_type": "code",
   "execution_count": 77,
   "metadata": {},
   "outputs": [],
   "source": [
    "with open('/data/covid-target-finder/Chemical_Details_BindingDB_DrugBank_NDM.pickle', 'rb') as f:\n",
    "    \n",
    "    chemical_map = pkl.load(f)"
   ]
  },
  {
   "cell_type": "code",
   "execution_count": 78,
   "metadata": {},
   "outputs": [
    {
     "data": {
      "text/plain": [
       "array(['CCN1C=C(C(O)=O)C(=O)C2=CC(F)=C(N=C12)N1CCNCC1',\n",
       "       'FC(F)(F)C1=CC=C(CNC2=NC=C(CC3=CNC4=NC=C(Cl)C=C34)C=C2)C=N1',\n",
       "       'CCCCCCCCCCCCOC(=O)C1=CC(=C(C(=C1)O)O)O', ...,\n",
       "       '[H][C@@]1(N)CCCN(C1)C1=NC2=C(N1CC1=CC=CC=C1C#N)C(=O)N(C)C(=O)N2C',\n",
       "       'CCOC(=O)C1=CN=C(N)N=C1O', 'OCCSSCCO'], dtype=object)"
      ]
     },
     "execution_count": 78,
     "metadata": {},
     "output_type": "execute_result"
    }
   ],
   "source": [
    "chemicals['Label'].map({i:v['SMILE'] for i,v in chemical_map.items()}).values"
   ]
  },
  {
   "cell_type": "code",
   "execution_count": 79,
   "metadata": {},
   "outputs": [
    {
     "name": "stderr",
     "output_type": "stream",
     "text": [
      "/miniconda/lib/python3.6/site-packages/pandas/core/indexing.py:845: SettingWithCopyWarning: \n",
      "A value is trying to be set on a copy of a slice from a DataFrame.\n",
      "Try using .loc[row_indexer,col_indexer] = value instead\n",
      "\n",
      "See the caveats in the documentation: https://pandas.pydata.org/pandas-docs/stable/user_guide/indexing.html#returning-a-view-versus-a-copy\n",
      "  self.obj[key] = _infer_fill_value(value)\n",
      "/miniconda/lib/python3.6/site-packages/pandas/core/indexing.py:966: SettingWithCopyWarning: \n",
      "A value is trying to be set on a copy of a slice from a DataFrame.\n",
      "Try using .loc[row_indexer,col_indexer] = value instead\n",
      "\n",
      "See the caveats in the documentation: https://pandas.pydata.org/pandas-docs/stable/user_guide/indexing.html#returning-a-view-versus-a-copy\n",
      "  self.obj[item] = s\n"
     ]
    }
   ],
   "source": [
    "chemicals.loc[:,'SMILE'] = chemicals['Label'].map({i:v['SMILE'] for i,v in chemical_map.items()}).values\n",
    "chemicals.loc[:,'Name'] = chemicals['Label'].map({i:v['chem_name'] for i,v in chemical_map.items()}).values\n",
    "\n"
   ]
  },
  {
   "cell_type": "code",
   "execution_count": 80,
   "metadata": {},
   "outputs": [],
   "source": [
    "def get_ordered_fingerprint_string_new(SMILE, radius = 2):\n",
    "    try:\n",
    "        bi = {}\n",
    "        AllChem.GetMorganFingerprint(Chem.MolFromSmiles(SMILE), radius=radius, bitInfo=bi)\n",
    "        fragments = []\n",
    "        orders = []\n",
    "        \n",
    "        for fragment, presence in bi.items():\n",
    "            for instance in presence:\n",
    "                fragments.append(fragment)\n",
    "                orders.append(instance[0])\n",
    "        \n",
    "        fragments = np.array(fragments)\n",
    "        orders = np.array(orders)\n",
    "        fingerprints = fragments[orders.argsort()]\n",
    "        \n",
    "        return ' '.join([str(i) for i in list(fingerprints)])\n",
    "    \n",
    "    except Exception as e:\n",
    "        print(e)\n",
    "        print(SMILE)\n",
    "        return "
   ]
  },
  {
   "cell_type": "code",
   "execution_count": 81,
   "metadata": {
    "scrolled": true
   },
   "outputs": [
    {
     "data": {
      "application/vnd.jupyter.widget-view+json": {
       "model_id": "67c0c879402f421586ec5f8e2c152c8f",
       "version_major": 2,
       "version_minor": 0
      },
      "text/plain": [
       "HBox(children=(FloatProgress(value=0.0, max=8111.0), HTML(value='')))"
      ]
     },
     "metadata": {},
     "output_type": "display_data"
    },
    {
     "name": "stdout",
     "output_type": "stream",
     "text": [
      "Python argument types in\n",
      "    rdkit.Chem.rdMolDescriptors.GetMorganFingerprint(NoneType)\n",
      "did not match C++ signature:\n",
      "    GetMorganFingerprint(RDKit::ROMol mol, int radius, boost::python::api::object invariants=[], boost::python::api::object fromAtoms=[], bool useChirality=False, bool useBondTypes=True, bool useFeatures=False, bool useCounts=True, boost::python::api::object bitInfo=None)\n",
      "NC1=C(C2=C(N)N=C(N)N=C2C=C1)[Cl](=O)=O\n",
      "Python argument types in\n",
      "    rdkit.Chem.rdMolDescriptors.GetMorganFingerprint(NoneType)\n",
      "did not match C++ signature:\n",
      "    GetMorganFingerprint(RDKit::ROMol mol, int radius, boost::python::api::object invariants=[], boost::python::api::object fromAtoms=[], bool useChirality=False, bool useBondTypes=True, bool useFeatures=False, bool useCounts=True, boost::python::api::object bitInfo=None)\n",
      "CCC1=C2C=C3N4C(=CC5=[N+]6C(=CC7=[N]8(C)C(=CC(N2[Cu-]468)=C1C)C(CC)=C7C)C(C)=C5CCC(O)=O)C(CCC(O)=O)=C3C\n",
      "Python argument types in\n",
      "    rdkit.Chem.rdMolDescriptors.GetMorganFingerprint(NoneType)\n",
      "did not match C++ signature:\n",
      "    GetMorganFingerprint(RDKit::ROMol mol, int radius, boost::python::api::object invariants=[], boost::python::api::object fromAtoms=[], bool useChirality=False, bool useBondTypes=True, bool useFeatures=False, bool useCounts=True, boost::python::api::object bitInfo=None)\n",
      "[H][N]1([H])[C@@H]2CCCC[C@H]2[N]([H])([H])[Pt]11OC(=O)C(=O)O1\n",
      "Python argument types in\n",
      "    rdkit.Chem.rdMolDescriptors.GetMorganFingerprint(NoneType)\n",
      "did not match C++ signature:\n",
      "    GetMorganFingerprint(RDKit::ROMol mol, int radius, boost::python::api::object invariants=[], boost::python::api::object fromAtoms=[], bool useChirality=False, bool useBondTypes=True, bool useFeatures=False, bool useCounts=True, boost::python::api::object bitInfo=None)\n",
      "CC1=C(CCC(O)=O)C2=CC3=[N]4C(=CC5=C(C)C(C=C)=C6C=C7C(C)=C(C=C)C8=[N]7[Zn]4(N2C1=C8)N56)C(C)=C3CCC(O)=O\n",
      "Python argument types in\n",
      "    rdkit.Chem.rdMolDescriptors.GetMorganFingerprint(NoneType)\n",
      "did not match C++ signature:\n",
      "    GetMorganFingerprint(RDKit::ROMol mol, int radius, boost::python::api::object invariants=[], boost::python::api::object fromAtoms=[], bool useChirality=False, bool useBondTypes=True, bool useFeatures=False, bool useCounts=True, boost::python::api::object bitInfo=None)\n",
      "F[Al](F)(F)[F-]\n",
      "Python argument types in\n",
      "    rdkit.Chem.rdMolDescriptors.GetMorganFingerprint(NoneType)\n",
      "did not match C++ signature:\n",
      "    GetMorganFingerprint(RDKit::ROMol mol, int radius, boost::python::api::object invariants=[], boost::python::api::object fromAtoms=[], bool useChirality=False, bool useBondTypes=True, bool useFeatures=False, bool useCounts=True, boost::python::api::object bitInfo=None)\n",
      "[Mg+4].CC([O-])C([O-])=O.CC([O-])C([O-])=O\n",
      "Python argument types in\n",
      "    rdkit.Chem.rdMolDescriptors.GetMorganFingerprint(NoneType)\n",
      "did not match C++ signature:\n",
      "    GetMorganFingerprint(RDKit::ROMol mol, int radius, boost::python::api::object invariants=[], boost::python::api::object fromAtoms=[], bool useChirality=False, bool useBondTypes=True, bool useFeatures=False, bool useCounts=True, boost::python::api::object bitInfo=None)\n",
      "COC1=CC=C2N(C=NC2=C1)[C@H]1O[C@H](CO)[C@@H](O[P@]([OH-])(=O)O[C@H](C)CNC(=O)CC[C@]2(C)[C@@H](CC(N)=O)C3=[N+]4C2=C(C)C2=[N+]5C(=CC6=[N+]7C(=C(C)C8=[N+]([C@]3(C)[C@@](C)(CC(N)=O)[C@@H]8CCC(N)=O)[Co]457)[C@@](C)(CC(N)=O)[C@@H]6CCC(N)=O)C(C)(C)[C@@H]2CCC(N)=O)[C@H]1O\n",
      "Python argument types in\n",
      "    rdkit.Chem.rdMolDescriptors.GetMorganFingerprint(NoneType)\n",
      "did not match C++ signature:\n",
      "    GetMorganFingerprint(RDKit::ROMol mol, int radius, boost::python::api::object invariants=[], boost::python::api::object fromAtoms=[], bool useChirality=False, bool useBondTypes=True, bool useFeatures=False, bool useCounts=True, boost::python::api::object bitInfo=None)\n",
      "[O]#C[Re+]1(C#[O])(C#[O])[N]2=CC=CC3=C2C2=C(C=CC=[N]12)C=C3\n",
      "Python argument types in\n",
      "    rdkit.Chem.rdMolDescriptors.GetMorganFingerprint(NoneType)\n",
      "did not match C++ signature:\n",
      "    GetMorganFingerprint(RDKit::ROMol mol, int radius, boost::python::api::object invariants=[], boost::python::api::object fromAtoms=[], bool useChirality=False, bool useBondTypes=True, bool useFeatures=False, bool useCounts=True, boost::python::api::object bitInfo=None)\n",
      "[H][N]([H])([H])[Pt](Cl)(Cl)[N]([H])([H])[H]\n",
      "Python argument types in\n",
      "    rdkit.Chem.rdMolDescriptors.GetMorganFingerprint(NoneType)\n",
      "did not match C++ signature:\n",
      "    GetMorganFingerprint(RDKit::ROMol mol, int radius, boost::python::api::object invariants=[], boost::python::api::object fromAtoms=[], bool useChirality=False, bool useBondTypes=True, bool useFeatures=False, bool useCounts=True, boost::python::api::object bitInfo=None)\n",
      "CN(CCO[P@](O)(=O)O[P@@](O)(=O)O[Be-](F)(F)F)C1=CC=CC=C1[N+]([O-])=O\n",
      "Python argument types in\n",
      "    rdkit.Chem.rdMolDescriptors.GetMorganFingerprint(NoneType)\n",
      "did not match C++ signature:\n",
      "    GetMorganFingerprint(RDKit::ROMol mol, int radius, boost::python::api::object invariants=[], boost::python::api::object fromAtoms=[], bool useChirality=False, bool useBondTypes=True, bool useFeatures=False, bool useCounts=True, boost::python::api::object bitInfo=None)\n",
      "[H][N]([H])([H])[Pt]1(OC(=O)C2(CCC2)C(=O)O1)[N]([H])([H])[H]\n",
      "Python argument types in\n",
      "    rdkit.Chem.rdMolDescriptors.GetMorganFingerprint(NoneType)\n",
      "did not match C++ signature:\n",
      "    GetMorganFingerprint(RDKit::ROMol mol, int radius, boost::python::api::object invariants=[], boost::python::api::object fromAtoms=[], bool useChirality=False, bool useBondTypes=True, bool useFeatures=False, bool useCounts=True, boost::python::api::object bitInfo=None)\n",
      "N[C@@H](C[C@H](O)O[Be](F)(F)F)C(O)=O\n",
      "Python argument types in\n",
      "    rdkit.Chem.rdMolDescriptors.GetMorganFingerprint(NoneType)\n",
      "did not match C++ signature:\n",
      "    GetMorganFingerprint(RDKit::ROMol mol, int radius, boost::python::api::object invariants=[], boost::python::api::object fromAtoms=[], bool useChirality=False, bool useBondTypes=True, bool useFeatures=False, bool useCounts=True, boost::python::api::object bitInfo=None)\n",
      "C1=CN(C=N1)[Os++]123[N]4=CC=CC=C4C4=[N]1C=CC=C4.C1=CC(C4=CC=CC=[N]24)=[N]3C=C1\n",
      "Python argument types in\n",
      "    rdkit.Chem.rdMolDescriptors.GetMorganFingerprint(NoneType)\n",
      "did not match C++ signature:\n",
      "    GetMorganFingerprint(RDKit::ROMol mol, int radius, boost::python::api::object invariants=[], boost::python::api::object fromAtoms=[], bool useChirality=False, bool useBondTypes=True, bool useFeatures=False, bool useCounts=True, boost::python::api::object bitInfo=None)\n",
      "[OH2+][Cu-4]([OH2+])([N]1=CNC=C1)([N+]1=CNC=C1)([N+]1=CNC=C1)[N+]1=CNC=C1\n",
      "Python argument types in\n",
      "    rdkit.Chem.rdMolDescriptors.GetMorganFingerprint(NoneType)\n",
      "did not match C++ signature:\n",
      "    GetMorganFingerprint(RDKit::ROMol mol, int radius, boost::python::api::object invariants=[], boost::python::api::object fromAtoms=[], bool useChirality=False, bool useBondTypes=True, bool useFeatures=False, bool useCounts=True, boost::python::api::object bitInfo=None)\n",
      "CC1=[O][Ga]2345ON1CCC[C@H]1NC(=O)CNC(=O)[C@H](CO)NC(=O)CNC(=O)[C@H](CCCN(O2)C(C)=[O]3)NC(=O)C(CCCN(O4)C(C)=[O]5)NC1=O\n",
      "\n"
     ]
    },
    {
     "name": "stderr",
     "output_type": "stream",
     "text": [
      "/miniconda/lib/python3.6/site-packages/ipykernel_launcher.py:1: SettingWithCopyWarning: \n",
      "A value is trying to be set on a copy of a slice from a DataFrame.\n",
      "Try using .loc[row_indexer,col_indexer] = value instead\n",
      "\n",
      "See the caveats in the documentation: https://pandas.pydata.org/pandas-docs/stable/user_guide/indexing.html#returning-a-view-versus-a-copy\n",
      "  \"\"\"Entry point for launching an IPython kernel.\n"
     ]
    }
   ],
   "source": [
    "chemicals['fingerprint'] = chemicals['SMILE'].progress_apply(get_ordered_fingerprint_string_new)"
   ]
  },
  {
   "cell_type": "code",
   "execution_count": 82,
   "metadata": {},
   "outputs": [
    {
     "data": {
      "text/html": [
       "<div>\n",
       "<style scoped>\n",
       "    .dataframe tbody tr th:only-of-type {\n",
       "        vertical-align: middle;\n",
       "    }\n",
       "\n",
       "    .dataframe tbody tr th {\n",
       "        vertical-align: top;\n",
       "    }\n",
       "\n",
       "    .dataframe thead th {\n",
       "        text-align: right;\n",
       "    }\n",
       "</style>\n",
       "<table border=\"1\" class=\"dataframe\">\n",
       "  <thead>\n",
       "    <tr style=\"text-align: right;\">\n",
       "      <th></th>\n",
       "      <th>degree_pos</th>\n",
       "      <th>degree_neg</th>\n",
       "      <th>total_degree</th>\n",
       "      <th>degree_fraction</th>\n",
       "      <th>Label</th>\n",
       "      <th>Type</th>\n",
       "      <th>IsDrug</th>\n",
       "      <th>IsNDM</th>\n",
       "      <th>IsDrugTarget</th>\n",
       "      <th>IsNDMTarget</th>\n",
       "      <th>Type2</th>\n",
       "      <th>SMILE</th>\n",
       "      <th>Name</th>\n",
       "      <th>fingerprint</th>\n",
       "    </tr>\n",
       "    <tr>\n",
       "      <th>Id</th>\n",
       "      <th></th>\n",
       "      <th></th>\n",
       "      <th></th>\n",
       "      <th></th>\n",
       "      <th></th>\n",
       "      <th></th>\n",
       "      <th></th>\n",
       "      <th></th>\n",
       "      <th></th>\n",
       "      <th></th>\n",
       "      <th></th>\n",
       "      <th></th>\n",
       "      <th></th>\n",
       "      <th></th>\n",
       "    </tr>\n",
       "  </thead>\n",
       "  <tbody>\n",
       "  </tbody>\n",
       "</table>\n",
       "</div>"
      ],
      "text/plain": [
       "Empty DataFrame\n",
       "Columns: [degree_pos, degree_neg, total_degree, degree_fraction, Label, Type, IsDrug, IsNDM, IsDrugTarget, IsNDMTarget, Type2, SMILE, Name, fingerprint]\n",
       "Index: []"
      ]
     },
     "execution_count": 82,
     "metadata": {},
     "output_type": "execute_result"
    }
   ],
   "source": [
    "pd.merge(get_degree_stratification(all_samples, ratio = [0,1], return_item = 'df', on = 'target'), chemicals, left_index = True, right_on = 'Label')"
   ]
  },
  {
   "cell_type": "code",
   "execution_count": 102,
   "metadata": {},
   "outputs": [],
   "source": [
    "chemicals.to_csv('/data/sars-busters/chemicals/chemicals_01.csv')"
   ]
  },
  {
   "cell_type": "markdown",
   "metadata": {},
   "source": [
    "## Chemicals: Add Padding and PseudoOneHot"
   ]
  },
  {
   "cell_type": "code",
   "execution_count": 83,
   "metadata": {
    "scrolled": true
   },
   "outputs": [
    {
     "data": {
      "text/html": [
       "<div>\n",
       "<style scoped>\n",
       "    .dataframe tbody tr th:only-of-type {\n",
       "        vertical-align: middle;\n",
       "    }\n",
       "\n",
       "    .dataframe tbody tr th {\n",
       "        vertical-align: top;\n",
       "    }\n",
       "\n",
       "    .dataframe thead th {\n",
       "        text-align: right;\n",
       "    }\n",
       "</style>\n",
       "<table border=\"1\" class=\"dataframe\">\n",
       "  <thead>\n",
       "    <tr style=\"text-align: right;\">\n",
       "      <th></th>\n",
       "      <th>Label</th>\n",
       "      <th>Type</th>\n",
       "      <th>IsDrug</th>\n",
       "      <th>IsNDM</th>\n",
       "      <th>IsDrugTarget</th>\n",
       "      <th>IsNDMTarget</th>\n",
       "      <th>Type2</th>\n",
       "      <th>SMILE</th>\n",
       "      <th>Name</th>\n",
       "      <th>fingerprint</th>\n",
       "    </tr>\n",
       "    <tr>\n",
       "      <th>Id</th>\n",
       "      <th></th>\n",
       "      <th></th>\n",
       "      <th></th>\n",
       "      <th></th>\n",
       "      <th></th>\n",
       "      <th></th>\n",
       "      <th></th>\n",
       "      <th></th>\n",
       "      <th></th>\n",
       "      <th></th>\n",
       "    </tr>\n",
       "  </thead>\n",
       "  <tbody>\n",
       "    <tr>\n",
       "      <th>1</th>\n",
       "      <td>IDYZIJYBMGIQMJ-UHFFFAOYSA-N</td>\n",
       "      <td>Chemical</td>\n",
       "      <td>True</td>\n",
       "      <td>False</td>\n",
       "      <td>False</td>\n",
       "      <td>False</td>\n",
       "      <td>Just DrugBank</td>\n",
       "      <td>CCN1C=C(C(O)=O)C(=O)C2=CC(F)=C(N=C12)N1CCNCC1</td>\n",
       "      <td>Enoxacin</td>\n",
       "      <td>3542456614 2246728737 2245384272 446551469 225...</td>\n",
       "    </tr>\n",
       "    <tr>\n",
       "      <th>2</th>\n",
       "      <td>JGWRKYUXBBNENE-UHFFFAOYSA-N</td>\n",
       "      <td>Chemical</td>\n",
       "      <td>True</td>\n",
       "      <td>False</td>\n",
       "      <td>False</td>\n",
       "      <td>False</td>\n",
       "      <td>Just DrugBank</td>\n",
       "      <td>FC(F)(F)C1=CC=C(CNC2=NC=C(CC3=CNC4=NC=C(Cl)C=C...</td>\n",
       "      <td>Pexidartinib</td>\n",
       "      <td>485463469 882399112 2245277810 1312131881 3313...</td>\n",
       "    </tr>\n",
       "    <tr>\n",
       "      <th>3</th>\n",
       "      <td>RPWFJAMTCNSJKK-UHFFFAOYSA-N</td>\n",
       "      <td>Chemical</td>\n",
       "      <td>False</td>\n",
       "      <td>True</td>\n",
       "      <td>False</td>\n",
       "      <td>False</td>\n",
       "      <td>Just NDM</td>\n",
       "      <td>CCCCCCCCCCCCOC(=O)C1=CC(=C(C(=C1)O)O)O</td>\n",
       "      <td>Dodecyl gallate</td>\n",
       "      <td>3542456614 2246728737 2245384272 1173125914 16...</td>\n",
       "    </tr>\n",
       "    <tr>\n",
       "      <th>4</th>\n",
       "      <td>HUJXISJLAPAFBO-IBGZPJMESA-N</td>\n",
       "      <td>Chemical</td>\n",
       "      <td>True</td>\n",
       "      <td>False</td>\n",
       "      <td>False</td>\n",
       "      <td>False</td>\n",
       "      <td>Just DrugBank</td>\n",
       "      <td>[H][C@@](C(=O)NC1=CC=C2C=CC=CC2=C1)(C1=CSC2=C1...</td>\n",
       "      <td>[(1S)-1-(5-CHLORO-1-BENZOTHIEN-3-YL)-2-(2-NAPH...</td>\n",
       "      <td>4290156734 2245273601 2161429032 4222851645 22...</td>\n",
       "    </tr>\n",
       "    <tr>\n",
       "      <th>5</th>\n",
       "      <td>HDWIHXWEUNVBIY-UHFFFAOYSA-N</td>\n",
       "      <td>Chemical</td>\n",
       "      <td>True</td>\n",
       "      <td>False</td>\n",
       "      <td>False</td>\n",
       "      <td>False</td>\n",
       "      <td>Just DrugBank</td>\n",
       "      <td>NS(=O)(=O)C1=CC2=C(NC(CC3=CC=CC=C3)NS2(=O)=O)C...</td>\n",
       "      <td>Bendroflumethiazide</td>\n",
       "      <td>3275683399 847957139 4285418163 3532053313 999...</td>\n",
       "    </tr>\n",
       "    <tr>\n",
       "      <th>...</th>\n",
       "      <td>...</td>\n",
       "      <td>...</td>\n",
       "      <td>...</td>\n",
       "      <td>...</td>\n",
       "      <td>...</td>\n",
       "      <td>...</td>\n",
       "      <td>...</td>\n",
       "      <td>...</td>\n",
       "      <td>...</td>\n",
       "      <td>...</td>\n",
       "    </tr>\n",
       "    <tr>\n",
       "      <th>13210</th>\n",
       "      <td>IQFWYNFDWRYSRA-OEQWSMLSSA-N</td>\n",
       "      <td>Chemical</td>\n",
       "      <td>True</td>\n",
       "      <td>False</td>\n",
       "      <td>False</td>\n",
       "      <td>False</td>\n",
       "      <td>Just DrugBank</td>\n",
       "      <td>N[C@@H](CCSC[C@H]1O[C@@H](O)[C@H](O)[C@@H]1O)C...</td>\n",
       "      <td>5-(3-Amino-4,4-Dihyroxy-Butylsulfanylmethyl)-T...</td>\n",
       "      <td>2599973650 847957139 4274980665 3956283135 224...</td>\n",
       "    </tr>\n",
       "    <tr>\n",
       "      <th>13212</th>\n",
       "      <td>OHCQJHSOBUTRHG-HBQIERAFNA-N</td>\n",
       "      <td>Chemical</td>\n",
       "      <td>False</td>\n",
       "      <td>False</td>\n",
       "      <td>False</td>\n",
       "      <td>False</td>\n",
       "      <td>Chemical</td>\n",
       "      <td>CC(=O)O[C@H]1[C@@H](O)[C@H]2C(C)(C)CC[C@H](O)[...</td>\n",
       "      <td>(3R,4aR,5S,6S,6aS,10S,10aR,10bS)-3-ethenyl-6,1...</td>\n",
       "      <td>2246728737 3545365497 2246699815 2664995851 12...</td>\n",
       "    </tr>\n",
       "    <tr>\n",
       "      <th>13213</th>\n",
       "      <td>XJNKUWDMCBZMTG-OAHLLOKOSA-N</td>\n",
       "      <td>Chemical</td>\n",
       "      <td>True</td>\n",
       "      <td>False</td>\n",
       "      <td>False</td>\n",
       "      <td>False</td>\n",
       "      <td>Just DrugBank</td>\n",
       "      <td>[H][C@@]1(N)CCCN(C1)C1=NC2=C(N1CC1=CC=CC=C1C#N...</td>\n",
       "      <td>2-({8-[(3R)-3-AMINOPIPERIDIN-1-YL]-1,3-DIMETHY...</td>\n",
       "      <td>2976033787 3222961990 636990493 1323888424 847...</td>\n",
       "    </tr>\n",
       "    <tr>\n",
       "      <th>13214</th>\n",
       "      <td>HRRHGLKNOJHIGY-UHFFFAOYSA-N</td>\n",
       "      <td>Chemical</td>\n",
       "      <td>True</td>\n",
       "      <td>False</td>\n",
       "      <td>False</td>\n",
       "      <td>False</td>\n",
       "      <td>Just DrugBank</td>\n",
       "      <td>CCOC(=O)C1=CN=C(N)N=C1O</td>\n",
       "      <td>ethyl 2-amino-4-hydroxypyrimidine-5-carboxylate</td>\n",
       "      <td>3542456614 2246728737 2072239802 2245384272 39...</td>\n",
       "    </tr>\n",
       "    <tr>\n",
       "      <th>13215</th>\n",
       "      <td>KYNFOMQIXZUKRK-UHFFFAOYSA-N</td>\n",
       "      <td>Chemical</td>\n",
       "      <td>True</td>\n",
       "      <td>False</td>\n",
       "      <td>False</td>\n",
       "      <td>False</td>\n",
       "      <td>Just DrugBank</td>\n",
       "      <td>OCCSSCCO</td>\n",
       "      <td>2-Hydroxyethyl Disulfide</td>\n",
       "      <td>864662311 1535166686 4023654873 1506982248 224...</td>\n",
       "    </tr>\n",
       "  </tbody>\n",
       "</table>\n",
       "<p>8111 rows × 10 columns</p>\n",
       "</div>"
      ],
      "text/plain": [
       "                             Label      Type  IsDrug  IsNDM  IsDrugTarget  \\\n",
       "Id                                                                          \n",
       "1      IDYZIJYBMGIQMJ-UHFFFAOYSA-N  Chemical    True  False         False   \n",
       "2      JGWRKYUXBBNENE-UHFFFAOYSA-N  Chemical    True  False         False   \n",
       "3      RPWFJAMTCNSJKK-UHFFFAOYSA-N  Chemical   False   True         False   \n",
       "4      HUJXISJLAPAFBO-IBGZPJMESA-N  Chemical    True  False         False   \n",
       "5      HDWIHXWEUNVBIY-UHFFFAOYSA-N  Chemical    True  False         False   \n",
       "...                            ...       ...     ...    ...           ...   \n",
       "13210  IQFWYNFDWRYSRA-OEQWSMLSSA-N  Chemical    True  False         False   \n",
       "13212  OHCQJHSOBUTRHG-HBQIERAFNA-N  Chemical   False  False         False   \n",
       "13213  XJNKUWDMCBZMTG-OAHLLOKOSA-N  Chemical    True  False         False   \n",
       "13214  HRRHGLKNOJHIGY-UHFFFAOYSA-N  Chemical    True  False         False   \n",
       "13215  KYNFOMQIXZUKRK-UHFFFAOYSA-N  Chemical    True  False         False   \n",
       "\n",
       "       IsNDMTarget          Type2  \\\n",
       "Id                                  \n",
       "1            False  Just DrugBank   \n",
       "2            False  Just DrugBank   \n",
       "3            False       Just NDM   \n",
       "4            False  Just DrugBank   \n",
       "5            False  Just DrugBank   \n",
       "...            ...            ...   \n",
       "13210        False  Just DrugBank   \n",
       "13212        False       Chemical   \n",
       "13213        False  Just DrugBank   \n",
       "13214        False  Just DrugBank   \n",
       "13215        False  Just DrugBank   \n",
       "\n",
       "                                                   SMILE  \\\n",
       "Id                                                         \n",
       "1          CCN1C=C(C(O)=O)C(=O)C2=CC(F)=C(N=C12)N1CCNCC1   \n",
       "2      FC(F)(F)C1=CC=C(CNC2=NC=C(CC3=CNC4=NC=C(Cl)C=C...   \n",
       "3                 CCCCCCCCCCCCOC(=O)C1=CC(=C(C(=C1)O)O)O   \n",
       "4      [H][C@@](C(=O)NC1=CC=C2C=CC=CC2=C1)(C1=CSC2=C1...   \n",
       "5      NS(=O)(=O)C1=CC2=C(NC(CC3=CC=CC=C3)NS2(=O)=O)C...   \n",
       "...                                                  ...   \n",
       "13210  N[C@@H](CCSC[C@H]1O[C@@H](O)[C@H](O)[C@@H]1O)C...   \n",
       "13212  CC(=O)O[C@H]1[C@@H](O)[C@H]2C(C)(C)CC[C@H](O)[...   \n",
       "13213  [H][C@@]1(N)CCCN(C1)C1=NC2=C(N1CC1=CC=CC=C1C#N...   \n",
       "13214                            CCOC(=O)C1=CN=C(N)N=C1O   \n",
       "13215                                           OCCSSCCO   \n",
       "\n",
       "                                                    Name  \\\n",
       "Id                                                         \n",
       "1                                               Enoxacin   \n",
       "2                                           Pexidartinib   \n",
       "3                                        Dodecyl gallate   \n",
       "4      [(1S)-1-(5-CHLORO-1-BENZOTHIEN-3-YL)-2-(2-NAPH...   \n",
       "5                                    Bendroflumethiazide   \n",
       "...                                                  ...   \n",
       "13210  5-(3-Amino-4,4-Dihyroxy-Butylsulfanylmethyl)-T...   \n",
       "13212  (3R,4aR,5S,6S,6aS,10S,10aR,10bS)-3-ethenyl-6,1...   \n",
       "13213  2-({8-[(3R)-3-AMINOPIPERIDIN-1-YL]-1,3-DIMETHY...   \n",
       "13214    ethyl 2-amino-4-hydroxypyrimidine-5-carboxylate   \n",
       "13215                           2-Hydroxyethyl Disulfide   \n",
       "\n",
       "                                             fingerprint  \n",
       "Id                                                        \n",
       "1      3542456614 2246728737 2245384272 446551469 225...  \n",
       "2      485463469 882399112 2245277810 1312131881 3313...  \n",
       "3      3542456614 2246728737 2245384272 1173125914 16...  \n",
       "4      4290156734 2245273601 2161429032 4222851645 22...  \n",
       "5      3275683399 847957139 4285418163 3532053313 999...  \n",
       "...                                                  ...  \n",
       "13210  2599973650 847957139 4274980665 3956283135 224...  \n",
       "13212  2246728737 3545365497 2246699815 2664995851 12...  \n",
       "13213  2976033787 3222961990 636990493 1323888424 847...  \n",
       "13214  3542456614 2246728737 2072239802 2245384272 39...  \n",
       "13215  864662311 1535166686 4023654873 1506982248 224...  \n",
       "\n",
       "[8111 rows x 10 columns]"
      ]
     },
     "execution_count": 83,
     "metadata": {},
     "output_type": "execute_result"
    }
   ],
   "source": [
    "chemicals"
   ]
  },
  {
   "cell_type": "code",
   "execution_count": 84,
   "metadata": {},
   "outputs": [],
   "source": [
    "## Filter Chemicals whose fingerprints cannot be resolved\n",
    "chemicals = chemicals[chemicals['fingerprint'].apply(lambda x: type(x)) == str]\n"
   ]
  },
  {
   "cell_type": "code",
   "execution_count": 85,
   "metadata": {},
   "outputs": [
    {
     "data": {
      "application/vnd.jupyter.widget-view+json": {
       "model_id": "590feabae98847b39004bce76ce094a4",
       "version_major": 2,
       "version_minor": 0
      },
      "text/plain": [
       "HBox(children=(FloatProgress(value=0.0, max=8096.0), HTML(value='')))"
      ]
     },
     "metadata": {},
     "output_type": "display_data"
    },
    {
     "name": "stdout",
     "output_type": "stream",
     "text": [
      "\n"
     ]
    },
    {
     "data": {
      "application/vnd.jupyter.widget-view+json": {
       "model_id": "c7ff3ab502c1462baa022be9cbf0e176",
       "version_major": 2,
       "version_minor": 0
      },
      "text/plain": [
       "HBox(children=(FloatProgress(value=0.0, max=8096.0), HTML(value='')))"
      ]
     },
     "metadata": {},
     "output_type": "display_data"
    },
    {
     "name": "stdout",
     "output_type": "stream",
     "text": [
      "\n"
     ]
    },
    {
     "name": "stderr",
     "output_type": "stream",
     "text": [
      "/miniconda/lib/python3.6/site-packages/ipykernel_launcher.py:3: SettingWithCopyWarning: \n",
      "A value is trying to be set on a copy of a slice from a DataFrame.\n",
      "Try using .loc[row_indexer,col_indexer] = value instead\n",
      "\n",
      "See the caveats in the documentation: https://pandas.pydata.org/pandas-docs/stable/user_guide/indexing.html#returning-a-view-versus-a-copy\n",
      "  This is separate from the ipykernel package so we can avoid doing imports until\n"
     ]
    }
   ],
   "source": [
    "chemicals['fingerprint_encoded'] = chemicals['fingerprint']\\\n",
    "                                                    .progress_apply(lambda x: x.replace(' ', ''))\\\n",
    "                                                    .progress_apply(lambda x: [int(i) for i in x])"
   ]
  },
  {
   "cell_type": "code",
   "execution_count": 86,
   "metadata": {},
   "outputs": [
    {
     "name": "stderr",
     "output_type": "stream",
     "text": [
      "/miniconda/lib/python3.6/site-packages/ipykernel_launcher.py:2: SettingWithCopyWarning: \n",
      "A value is trying to be set on a copy of a slice from a DataFrame.\n",
      "Try using .loc[row_indexer,col_indexer] = value instead\n",
      "\n",
      "See the caveats in the documentation: https://pandas.pydata.org/pandas-docs/stable/user_guide/indexing.html#returning-a-view-versus-a-copy\n",
      "  \n",
      "/miniconda/lib/python3.6/site-packages/ipykernel_launcher.py:7: SettingWithCopyWarning: \n",
      "A value is trying to be set on a copy of a slice from a DataFrame.\n",
      "Try using .loc[row_indexer,col_indexer] = value instead\n",
      "\n",
      "See the caveats in the documentation: https://pandas.pydata.org/pandas-docs/stable/user_guide/indexing.html#returning-a-view-versus-a-copy\n",
      "  import sys\n"
     ]
    }
   ],
   "source": [
    "chemicals['fingerprint_encoded_len'] = chemicals['fingerprint_encoded']\\\n",
    "                                             .apply(lambda x: len(x))\n",
    "\n",
    "#max_drug_fingerprint_encoded_len = max([max(all_samples['drug_fingerprint_encoded_len']), max(all_drugs['drug_fingerprint_encoded_len'])])\n",
    "max_fingerprint_encoded_len = max(chemicals['fingerprint_encoded_len']) ## 14910\n",
    "\n",
    "chemicals['fingerprint_encoded_mismatch'] = max_fingerprint_encoded_len - chemicals['fingerprint_encoded_len'] \n",
    "\n"
   ]
  },
  {
   "cell_type": "code",
   "execution_count": 87,
   "metadata": {},
   "outputs": [
    {
     "data": {
      "application/vnd.jupyter.widget-view+json": {
       "model_id": "50c800e24dab4916b9f8b4a0986d972c",
       "version_major": 2,
       "version_minor": 0
      },
      "text/plain": [
       "HBox(children=(FloatProgress(value=0.0, max=8096.0), HTML(value='')))"
      ]
     },
     "metadata": {},
     "output_type": "display_data"
    },
    {
     "name": "stdout",
     "output_type": "stream",
     "text": [
      "\n"
     ]
    },
    {
     "name": "stderr",
     "output_type": "stream",
     "text": [
      "/miniconda/lib/python3.6/site-packages/ipykernel_launcher.py:5: SettingWithCopyWarning: \n",
      "A value is trying to be set on a copy of a slice from a DataFrame.\n",
      "Try using .loc[row_indexer,col_indexer] = value instead\n",
      "\n",
      "See the caveats in the documentation: https://pandas.pydata.org/pandas-docs/stable/user_guide/indexing.html#returning-a-view-versus-a-copy\n",
      "  \"\"\"\n"
     ]
    },
    {
     "data": {
      "application/vnd.jupyter.widget-view+json": {
       "model_id": "3f03809fa46a423b968ae34b6b731783",
       "version_major": 2,
       "version_minor": 0
      },
      "text/plain": [
       "HBox(children=(FloatProgress(value=0.0, max=8096.0), HTML(value='')))"
      ]
     },
     "metadata": {},
     "output_type": "display_data"
    },
    {
     "name": "stdout",
     "output_type": "stream",
     "text": [
      "\n"
     ]
    },
    {
     "name": "stderr",
     "output_type": "stream",
     "text": [
      "/miniconda/lib/python3.6/site-packages/ipykernel_launcher.py:7: SettingWithCopyWarning: \n",
      "A value is trying to be set on a copy of a slice from a DataFrame.\n",
      "Try using .loc[row_indexer,col_indexer] = value instead\n",
      "\n",
      "See the caveats in the documentation: https://pandas.pydata.org/pandas-docs/stable/user_guide/indexing.html#returning-a-view-versus-a-copy\n",
      "  import sys\n"
     ]
    }
   ],
   "source": [
    "chemicals['fingerprint_encoded_padded'] = chemicals[['fingerprint_encoded','fingerprint_encoded_mismatch']]\\\n",
    "                                         .progress_apply(lambda x: ['-1' for i in range(int(x['fingerprint_encoded_mismatch']/2))] +   \n",
    "                                                        list(x['fingerprint_encoded']) +\n",
    "                                                        ['-1' for i in range (int(x['fingerprint_encoded_mismatch']/2))]\n",
    "                                                        , axis = 1)\n",
    "\n",
    "chemicals['fingerprint_encoded_padded'] = chemicals['fingerprint_encoded_padded'].progress_apply(lambda x: x + ['-1'] if len(x) < max_fingerprint_encoded_len else x)\n"
   ]
  },
  {
   "cell_type": "code",
   "execution_count": 88,
   "metadata": {},
   "outputs": [
    {
     "data": {
      "text/html": [
       "<div>\n",
       "<style scoped>\n",
       "    .dataframe tbody tr th:only-of-type {\n",
       "        vertical-align: middle;\n",
       "    }\n",
       "\n",
       "    .dataframe tbody tr th {\n",
       "        vertical-align: top;\n",
       "    }\n",
       "\n",
       "    .dataframe thead th {\n",
       "        text-align: right;\n",
       "    }\n",
       "</style>\n",
       "<table border=\"1\" class=\"dataframe\">\n",
       "  <thead>\n",
       "    <tr style=\"text-align: right;\">\n",
       "      <th></th>\n",
       "      <th>Label</th>\n",
       "      <th>Type</th>\n",
       "      <th>IsDrug</th>\n",
       "      <th>IsNDM</th>\n",
       "      <th>IsDrugTarget</th>\n",
       "      <th>IsNDMTarget</th>\n",
       "      <th>Type2</th>\n",
       "      <th>SMILE</th>\n",
       "      <th>Name</th>\n",
       "      <th>fingerprint</th>\n",
       "      <th>fingerprint_encoded</th>\n",
       "      <th>fingerprint_encoded_len</th>\n",
       "      <th>fingerprint_encoded_mismatch</th>\n",
       "      <th>fingerprint_encoded_padded</th>\n",
       "    </tr>\n",
       "    <tr>\n",
       "      <th>Id</th>\n",
       "      <th></th>\n",
       "      <th></th>\n",
       "      <th></th>\n",
       "      <th></th>\n",
       "      <th></th>\n",
       "      <th></th>\n",
       "      <th></th>\n",
       "      <th></th>\n",
       "      <th></th>\n",
       "      <th></th>\n",
       "      <th></th>\n",
       "      <th></th>\n",
       "      <th></th>\n",
       "      <th></th>\n",
       "    </tr>\n",
       "  </thead>\n",
       "  <tbody>\n",
       "  </tbody>\n",
       "</table>\n",
       "</div>"
      ],
      "text/plain": [
       "Empty DataFrame\n",
       "Columns: [Label, Type, IsDrug, IsNDM, IsDrugTarget, IsNDMTarget, Type2, SMILE, Name, fingerprint, fingerprint_encoded, fingerprint_encoded_len, fingerprint_encoded_mismatch, fingerprint_encoded_padded]\n",
       "Index: []"
      ]
     },
     "execution_count": 88,
     "metadata": {},
     "output_type": "execute_result"
    }
   ],
   "source": [
    "chemicals[chemicals['fingerprint'].apply(lambda x: type(x)) != str]"
   ]
  },
  {
   "cell_type": "code",
   "execution_count": 89,
   "metadata": {},
   "outputs": [],
   "source": [
    "chemicals = pd.merge(get_degree_stratification(all_samples, ratio = [0,1], return_item = 'df', on = 'drug'), chemicals, left_index = True, right_on = 'Label', how = 'right')"
   ]
  },
  {
   "cell_type": "code",
   "execution_count": 92,
   "metadata": {},
   "outputs": [],
   "source": [
    "chemicals['fingerprint_random_padded'] = chemicals['fingerprint_encoded_padded'].apply(lambda x: random.choices([0,1], weights=None, cum_weights=None, k=14910))"
   ]
  },
  {
   "cell_type": "code",
   "execution_count": 93,
   "metadata": {},
   "outputs": [],
   "source": [
    "chemicals.to_csv('/data/sars-busters/chemicals/chemicals_01.csv')"
   ]
  },
  {
   "cell_type": "markdown",
   "metadata": {},
   "source": [
    "## Amino: Padding and Encode"
   ]
  },
  {
   "cell_type": "code",
   "execution_count": 12,
   "metadata": {},
   "outputs": [],
   "source": [
    "amino = nodes[nodes['Type'] == 'Protein']"
   ]
  },
  {
   "cell_type": "code",
   "execution_count": 13,
   "metadata": {},
   "outputs": [],
   "source": [
    "bits_5 = ['00000','00001', '00010', '00011',\n",
    "          '00100','00101', '00110', '00111',\n",
    "          '01000','01001', '01010', '01011',\n",
    "          '01100','01101', '01110', '01111',\n",
    "          '10000','10001', '10010', '10011',\n",
    "          '10100','10101', '10110', '10111',\n",
    "          '11000','11001', '11010', '11011',\n",
    "          '11100','11101', '11110', '11111']\n",
    "\n",
    "all_chars = ['A','B','C','D','E','F','G','H','I','J','K','L','M','N','O','P','Q','R','S','T','U','V','W','X','Y','Z']\n",
    "\n",
    "all_char_onehot = {all_chars[i]:bits_5[i] for i in range(len(all_chars))}\n",
    "\n",
    "\n",
    "\n",
    "#chemicals['target_aa_encoded'] = chemicals['target_aa_code'].str.upper().apply(lambda x: ''.join([all_char_onehot[i] for i in x]))"
   ]
  },
  {
   "cell_type": "code",
   "execution_count": 14,
   "metadata": {},
   "outputs": [
    {
     "data": {
      "application/vnd.jupyter.widget-view+json": {
       "model_id": "935885d4c791416695b35624eca5c767",
       "version_major": 2,
       "version_minor": 0
      },
      "text/plain": [
       "HBox(children=(FloatProgress(value=0.0, max=5104.0), HTML(value='')))"
      ]
     },
     "metadata": {},
     "output_type": "display_data"
    },
    {
     "name": "stdout",
     "output_type": "stream",
     "text": [
      "\n"
     ]
    }
   ],
   "source": [
    "#Label Encoding\n",
    "ENCODING_SCHEME = 'PsuedoOneHot'\n",
    "\n",
    "if ENCODING_SCHEME == 'LabelEncoder':\n",
    "\n",
    "\n",
    "\n",
    "    amino = amino[~ amino['Label'].isna()]\n",
    "    amino['target_encoded'] = amino['Label']\\\n",
    "                                            .str.upper()\\\n",
    "                                            .progress_apply(list)\\\n",
    "                                            .progress_apply(label_encoder.transform)\n",
    "\n",
    "elif ENCODING_SCHEME == 'PsuedoOneHot':\n",
    "\n",
    "\n",
    "    ##OneHot Encoding\n",
    "\n",
    "    amino = amino[~ amino['Label'].isna()]\n",
    "    amino['target_encoded'] = amino['Label']\\\n",
    "                                            .str.upper()\\\n",
    "                                            .str.upper().progress_apply(lambda x: ''.join([all_char_onehot[i] for i in x]))"
   ]
  },
  {
   "cell_type": "code",
   "execution_count": 16,
   "metadata": {},
   "outputs": [],
   "source": [
    "amino['target_encoded_len'] = amino['target_encoded']\\\n",
    "                                          .apply(lambda x: len(x))\n",
    "\n",
    "max_target_encoded_len = 35480\n",
    "#max_target_encoded_len = max(amino['target_encoded_len'])\n",
    "\n",
    "\n",
    "amino['target_encoded_mismatch'] = max_target_encoded_len - amino['target_encoded_len']\n",
    "\n"
   ]
  },
  {
   "cell_type": "code",
   "execution_count": 17,
   "metadata": {},
   "outputs": [
    {
     "data": {
      "application/vnd.jupyter.widget-view+json": {
       "model_id": "4265dfe8dec54bba89eec08b27c22fe2",
       "version_major": 2,
       "version_minor": 0
      },
      "text/plain": [
       "HBox(children=(FloatProgress(value=0.0, max=5104.0), HTML(value='')))"
      ]
     },
     "metadata": {},
     "output_type": "display_data"
    },
    {
     "name": "stdout",
     "output_type": "stream",
     "text": [
      "\n"
     ]
    }
   ],
   "source": [
    "amino['target_encoded_padded'] = amino[['target_encoded','target_encoded_mismatch']]\\\n",
    "                                         .progress_apply(lambda x: str(len(['-1' for i in range(int(x['target_encoded_mismatch']/2))])) + ' : ' +   \n",
    "                                                        str(len(list(x['target_encoded']))) + ':' + \n",
    "                                                        str(len(['-1' for i in range(int(x['target_encoded_mismatch']/2))]))\n",
    "                                                        , axis = 1)"
   ]
  },
  {
   "cell_type": "code",
   "execution_count": 18,
   "metadata": {},
   "outputs": [
    {
     "data": {
      "application/vnd.jupyter.widget-view+json": {
       "model_id": "44523702dcc847b29d44499a7c051f81",
       "version_major": 2,
       "version_minor": 0
      },
      "text/plain": [
       "HBox(children=(FloatProgress(value=0.0, max=5104.0), HTML(value='')))"
      ]
     },
     "metadata": {},
     "output_type": "display_data"
    },
    {
     "name": "stdout",
     "output_type": "stream",
     "text": [
      "\n"
     ]
    },
    {
     "data": {
      "application/vnd.jupyter.widget-view+json": {
       "model_id": "6cd291c1f3af4901bf39f978f388b043",
       "version_major": 2,
       "version_minor": 0
      },
      "text/plain": [
       "HBox(children=(FloatProgress(value=0.0, max=5104.0), HTML(value='')))"
      ]
     },
     "metadata": {},
     "output_type": "display_data"
    },
    {
     "name": "stdout",
     "output_type": "stream",
     "text": [
      "\n"
     ]
    }
   ],
   "source": [
    "amino['target_encoded_padded'] = amino[['target_encoded','target_encoded_mismatch']]\\\n",
    "                                         .progress_apply(lambda x: ['-1' for i in range(int(x['target_encoded_mismatch']/2))] +   \n",
    "                                                        list(x['target_encoded']) +\n",
    "                                                        ['-1' for i in range(int(x['target_encoded_mismatch']/2))]\n",
    "                                                        , axis = 1)\n",
    "\n",
    "amino['target_encoded_padded'] = amino['target_encoded_padded'].progress_apply(lambda x: x + ['-1'] if len(x) < max_target_encoded_len else x)"
   ]
  },
  {
   "cell_type": "code",
   "execution_count": 102,
   "metadata": {},
   "outputs": [],
   "source": [
    "#amino = pd.merge(get_degree_stratification(all_samples, ratio = [0,1], return_item = 'df', on = 'target'), amino, left_index = True, right_on = 'Label')"
   ]
  },
  {
   "cell_type": "code",
   "execution_count": 20,
   "metadata": {},
   "outputs": [],
   "source": [
    "amino['target_random_padded'] = amino['target_encoded_padded'].apply(lambda x: random.choices([0,1], weights=None, cum_weights=None, k=35480))"
   ]
  },
  {
   "cell_type": "code",
   "execution_count": 22,
   "metadata": {},
   "outputs": [],
   "source": [
    "amino.to_csv('/data/sars-busters/amino/amino_01.csv')"
   ]
  },
  {
   "cell_type": "code",
   "execution_count": null,
   "metadata": {},
   "outputs": [],
   "source": [
    "#chemicals['fingerprint_random_padded'] = chemicals['fingerprint_encoded_padded'].apply(lambda x: random.choices([0,1], weights=None, cum_weights=None, k=14910))\n",
    "#amino['target_random_padded'] = amino['target_encoded_padded'].apply(lambda x: random.choices([0,1], weights=None, cum_weights=None, k=35480))\n",
    "\n",
    "\n"
   ]
  },
  {
   "cell_type": "markdown",
   "metadata": {},
   "source": [
    "## Train Test Split"
   ]
  },
  {
   "cell_type": "code",
   "execution_count": 71,
   "metadata": {},
   "outputs": [],
   "source": [
    "train_amino, test_amino = train_test_split(amino, test_size = 0.05)"
   ]
  },
  {
   "cell_type": "code",
   "execution_count": 72,
   "metadata": {},
   "outputs": [],
   "source": [
    "train_chemicals, test_chemicals = train_test_split(chemicals, test_size = 0.05)"
   ]
  },
  {
   "cell_type": "code",
   "execution_count": 73,
   "metadata": {
    "scrolled": true
   },
   "outputs": [
    {
     "name": "stderr",
     "output_type": "stream",
     "text": [
      "/miniconda/lib/python3.6/site-packages/ipykernel_launcher.py:8: SettingWithCopyWarning: \n",
      "A value is trying to be set on a copy of a slice from a DataFrame.\n",
      "Try using .loc[row_indexer,col_indexer] = value instead\n",
      "\n",
      "See the caveats in the documentation: https://pandas.pydata.org/pandas-docs/stable/user_guide/indexing.html#returning-a-view-versus-a-copy\n",
      "  \n",
      "/miniconda/lib/python3.6/site-packages/ipykernel_launcher.py:9: SettingWithCopyWarning: \n",
      "A value is trying to be set on a copy of a slice from a DataFrame.\n",
      "Try using .loc[row_indexer,col_indexer] = value instead\n",
      "\n",
      "See the caveats in the documentation: https://pandas.pydata.org/pandas-docs/stable/user_guide/indexing.html#returning-a-view-versus-a-copy\n",
      "  if __name__ == '__main__':\n"
     ]
    }
   ],
   "source": [
    "##Version 03 Unseen Target and Drug \n",
    "\n",
    "train_interactions = selected_interactions[(selected_interactions['InChiKey'].isin(list(train_chemicals['Label']))) \\\n",
    "                    & (selected_interactions['target_aa_code'].isin(list(train_amino['Label'])))]\n",
    "test_interactions = selected_interactions[(selected_interactions['InChiKey'].isin(list(test_chemicals['Label']))) \\\n",
    "                    & (selected_interactions['target_aa_code'].isin(list(test_amino['Label'])))]\n",
    "\n",
    "train_interactions['unseen'] = 'drugs+targets'\n",
    "test_interactions['unseen'] = 'drugs+targets'"
   ]
  },
  {
   "cell_type": "code",
   "execution_count": 74,
   "metadata": {},
   "outputs": [
    {
     "name": "stderr",
     "output_type": "stream",
     "text": [
      "/miniconda/lib/python3.6/site-packages/ipykernel_launcher.py:8: SettingWithCopyWarning: \n",
      "A value is trying to be set on a copy of a slice from a DataFrame.\n",
      "Try using .loc[row_indexer,col_indexer] = value instead\n",
      "\n",
      "See the caveats in the documentation: https://pandas.pydata.org/pandas-docs/stable/user_guide/indexing.html#returning-a-view-versus-a-copy\n",
      "  \n",
      "/miniconda/lib/python3.6/site-packages/ipykernel_launcher.py:9: SettingWithCopyWarning: \n",
      "A value is trying to be set on a copy of a slice from a DataFrame.\n",
      "Try using .loc[row_indexer,col_indexer] = value instead\n",
      "\n",
      "See the caveats in the documentation: https://pandas.pydata.org/pandas-docs/stable/user_guide/indexing.html#returning-a-view-versus-a-copy\n",
      "  if __name__ == '__main__':\n"
     ]
    }
   ],
   "source": [
    "##Version 04 Unseen Target\n",
    "\n",
    "train_amino, test_amino = train_test_split(amino, test_size = 0.10)\n",
    "\n",
    "train_interactions_temp = train_interactions[train_interactions['target_aa_code'].isin(list(train_amino['Label']))]\n",
    "test_interactions_temp = train_interactions[train_interactions['target_aa_code'].isin(list(test_amino['Label']))]\n",
    "\n",
    "train_interactions_temp['unseen'] = 'targets'\n",
    "test_interactions_temp['unseen'] = 'targets'"
   ]
  },
  {
   "cell_type": "code",
   "execution_count": 75,
   "metadata": {},
   "outputs": [],
   "source": [
    "train_interactions_temp_1,  test_interactions_temp_1 = train_test_split(train_interactions_temp, test_size = 0.25)"
   ]
  },
  {
   "cell_type": "code",
   "execution_count": 76,
   "metadata": {},
   "outputs": [
    {
     "name": "stderr",
     "output_type": "stream",
     "text": [
      "/miniconda/lib/python3.6/site-packages/ipykernel_launcher.py:1: SettingWithCopyWarning: \n",
      "A value is trying to be set on a copy of a slice from a DataFrame.\n",
      "Try using .loc[row_indexer,col_indexer] = value instead\n",
      "\n",
      "See the caveats in the documentation: https://pandas.pydata.org/pandas-docs/stable/user_guide/indexing.html#returning-a-view-versus-a-copy\n",
      "  \"\"\"Entry point for launching an IPython kernel.\n",
      "/miniconda/lib/python3.6/site-packages/ipykernel_launcher.py:2: SettingWithCopyWarning: \n",
      "A value is trying to be set on a copy of a slice from a DataFrame.\n",
      "Try using .loc[row_indexer,col_indexer] = value instead\n",
      "\n",
      "See the caveats in the documentation: https://pandas.pydata.org/pandas-docs/stable/user_guide/indexing.html#returning-a-view-versus-a-copy\n",
      "  \n"
     ]
    }
   ],
   "source": [
    "train_interactions_temp_1['unseen'] = 'edges'\n",
    "test_interactions_temp_1['unseen'] = 'edges'"
   ]
  },
  {
   "cell_type": "code",
   "execution_count": 77,
   "metadata": {},
   "outputs": [
    {
     "data": {
      "text/plain": [
       "drugs+targets    69508\n",
       "targets          62441\n",
       "edges            46830\n",
       "Name: unseen, dtype: int64"
      ]
     },
     "execution_count": 77,
     "metadata": {},
     "output_type": "execute_result"
    }
   ],
   "source": [
    "pd.concat([train_interactions,train_interactions_temp, train_interactions_temp_1])['unseen'].value_counts()"
   ]
  },
  {
   "cell_type": "code",
   "execution_count": 78,
   "metadata": {},
   "outputs": [
    {
     "data": {
      "text/plain": [
       "edges            15611\n",
       "targets           7067\n",
       "drugs+targets      165\n",
       "Name: unseen, dtype: int64"
      ]
     },
     "execution_count": 78,
     "metadata": {},
     "output_type": "execute_result"
    }
   ],
   "source": [
    "pd.concat([test_interactions,test_interactions_temp, test_interactions_temp_1])['unseen'].value_counts()"
   ]
  },
  {
   "cell_type": "code",
   "execution_count": 79,
   "metadata": {},
   "outputs": [
    {
     "data": {
      "text/plain": [
       "0"
      ]
     },
     "execution_count": 79,
     "metadata": {},
     "output_type": "execute_result"
    }
   ],
   "source": [
    "len(set(train_interactions_temp_1['target_aa_code'].unique()).intersection(test_interactions['target_aa_code'].unique()))"
   ]
  },
  {
   "cell_type": "code",
   "execution_count": 80,
   "metadata": {},
   "outputs": [],
   "source": [
    "train_interactions = pd.concat([train_interactions,train_interactions_temp, train_interactions_temp_1])\n",
    "test_interactions  = pd.concat([test_interactions,test_interactions_temp, test_interactions_temp_1])"
   ]
  },
  {
   "cell_type": "code",
   "execution_count": 81,
   "metadata": {},
   "outputs": [],
   "source": [
    "train_interactions.sample(frac=1).to_csv(f'/data/sars-busters/{OUTPUT_DIR}/train_interactions_{VERSION}.csv')\n",
    "test_interactions.sample(frac=1).to_csv(f'/data/sars-busters/{OUTPUT_DIR}/test_interactions_{VERSION}.csv')"
   ]
  },
  {
   "cell_type": "code",
   "execution_count": 249,
   "metadata": {},
   "outputs": [
    {
     "data": {
      "text/plain": [
       "175894"
      ]
     },
     "execution_count": 249,
     "metadata": {},
     "output_type": "execute_result"
    }
   ],
   "source": [
    "len(train_interactions)"
   ]
  },
  {
   "cell_type": "code",
   "execution_count": 151,
   "metadata": {},
   "outputs": [
    {
     "data": {
      "text/plain": [
       "18497"
      ]
     },
     "execution_count": 151,
     "metadata": {},
     "output_type": "execute_result"
    }
   ],
   "source": [
    "len(test_interactions)"
   ]
  },
  {
   "cell_type": "code",
   "execution_count": 152,
   "metadata": {},
   "outputs": [
    {
     "data": {
      "text/plain": [
       "0.2433783766003079"
      ]
     },
     "execution_count": 152,
     "metadata": {},
     "output_type": "execute_result"
    }
   ],
   "source": [
    "len(test_interactions)/(len(test_interactions) + len(train_interactions))"
   ]
  },
  {
   "cell_type": "code",
   "execution_count": 153,
   "metadata": {},
   "outputs": [],
   "source": [
    "train_interactions = pd.merge(get_degree_stratification(all_samples, \n",
    "                                                        ratio = [0,1],\n",
    "                                                        return_item = 'df',\n",
    "                                                        on = 'drug')[['degree_fraction', 'total_degree']].rename(columns = {'degree_fraction': 'drug_degree_fraction',\n",
    "                                                                                                                   'total_degree': 'drug_total_degree'}), train_interactions,\n",
    "                                                    how = 'right', left_index = True, right_on = 'InChiKey')"
   ]
  },
  {
   "cell_type": "code",
   "execution_count": 154,
   "metadata": {},
   "outputs": [],
   "source": [
    "train_interactions = pd.merge(get_degree_stratification(all_samples,\n",
    "                                                        ratio = [0,1],\n",
    "                                                        return_item = 'df',\n",
    "                                                        on = 'target')[['degree_fraction', 'total_degree']].rename(columns = {'degree_fraction': 'target_degree_fraction',\n",
    "                                                                                                                   'total_degree': 'target_total_degree'}), train_interactions,\n",
    "                                    how = 'right', left_index = True, right_on = 'target_aa_code')"
   ]
  },
  {
   "cell_type": "code",
   "execution_count": 167,
   "metadata": {},
   "outputs": [
    {
     "data": {
      "text/html": [
       "<div>\n",
       "<style scoped>\n",
       "    .dataframe tbody tr th:only-of-type {\n",
       "        vertical-align: middle;\n",
       "    }\n",
       "\n",
       "    .dataframe tbody tr th {\n",
       "        vertical-align: top;\n",
       "    }\n",
       "\n",
       "    .dataframe thead th {\n",
       "        text-align: right;\n",
       "    }\n",
       "</style>\n",
       "<table border=\"1\" class=\"dataframe\">\n",
       "  <thead>\n",
       "    <tr style=\"text-align: right;\">\n",
       "      <th></th>\n",
       "      <th>drug_degree_fraction_x</th>\n",
       "      <th>drug_total_degree_x</th>\n",
       "      <th>target_degree_fraction</th>\n",
       "      <th>target_total_degree</th>\n",
       "      <th>drug_degree_fraction_y</th>\n",
       "      <th>drug_total_degree_y</th>\n",
       "      <th>Target</th>\n",
       "      <th>Source</th>\n",
       "      <th>Type</th>\n",
       "      <th>Y</th>\n",
       "      <th>InChiKey</th>\n",
       "      <th>target_aa_code</th>\n",
       "    </tr>\n",
       "  </thead>\n",
       "  <tbody>\n",
       "    <tr>\n",
       "      <th>4</th>\n",
       "      <td>0.285714</td>\n",
       "      <td>7.0</td>\n",
       "      <td>0.100000</td>\n",
       "      <td>10.0</td>\n",
       "      <td>0.222222</td>\n",
       "      <td>9.0</td>\n",
       "      <td>9288</td>\n",
       "      <td>2799</td>\n",
       "      <td>Undirected</td>\n",
       "      <td>1</td>\n",
       "      <td>VJYDOJXJUCJUHL-UHFFFAOYSA-N</td>\n",
       "      <td>MGPLPVCLPIMLLLLLPSLLLLLLLPGPGSGEASRILRVHRRGILE...</td>\n",
       "    </tr>\n",
       "    <tr>\n",
       "      <th>7</th>\n",
       "      <td>0.500000</td>\n",
       "      <td>4.0</td>\n",
       "      <td>0.959184</td>\n",
       "      <td>147.0</td>\n",
       "      <td>0.400000</td>\n",
       "      <td>5.0</td>\n",
       "      <td>9735</td>\n",
       "      <td>9332</td>\n",
       "      <td>Undirected</td>\n",
       "      <td>1</td>\n",
       "      <td>ANAMDWGJXBYJEB-OPWFCKQNSA-N</td>\n",
       "      <td>MTMTLHTKASGMALLHQIQGNELEPLNRPQLKIPLERPLGEVYLDS...</td>\n",
       "    </tr>\n",
       "    <tr>\n",
       "      <th>9</th>\n",
       "      <td>0.636364</td>\n",
       "      <td>11.0</td>\n",
       "      <td>0.990991</td>\n",
       "      <td>444.0</td>\n",
       "      <td>0.636364</td>\n",
       "      <td>11.0</td>\n",
       "      <td>3348</td>\n",
       "      <td>9152</td>\n",
       "      <td>Undirected</td>\n",
       "      <td>1</td>\n",
       "      <td>QXWZQTURMXZVHJ-UHFFFAOYSA-N</td>\n",
       "      <td>MDLEGDRNGGAKKKNFFKLNNKSEKDKKEKKPTVSVFSMFRYSNWL...</td>\n",
       "    </tr>\n",
       "    <tr>\n",
       "      <th>11</th>\n",
       "      <td>0.500000</td>\n",
       "      <td>16.0</td>\n",
       "      <td>0.994595</td>\n",
       "      <td>925.0</td>\n",
       "      <td>0.615385</td>\n",
       "      <td>26.0</td>\n",
       "      <td>2</td>\n",
       "      <td>5768</td>\n",
       "      <td>Undirected</td>\n",
       "      <td>1</td>\n",
       "      <td>JGWRKYUXBBNENE-UHFFFAOYSA-N</td>\n",
       "      <td>MALIPDLAMETWLLLAVSLVLLYLYGTHSHGLFKKLGIPGPTPLPF...</td>\n",
       "    </tr>\n",
       "    <tr>\n",
       "      <th>13</th>\n",
       "      <td>0.454545</td>\n",
       "      <td>11.0</td>\n",
       "      <td>0.428571</td>\n",
       "      <td>14.0</td>\n",
       "      <td>0.416667</td>\n",
       "      <td>12.0</td>\n",
       "      <td>3057</td>\n",
       "      <td>885</td>\n",
       "      <td>Undirected</td>\n",
       "      <td>1</td>\n",
       "      <td>IBAQFPQHRJAVAV-ULAWRXDQSA-N</td>\n",
       "      <td>MGVRHPPCSHRLLAVCALVSLATAALLGHILLHDFLLVPRELSGSS...</td>\n",
       "    </tr>\n",
       "    <tr>\n",
       "      <th>...</th>\n",
       "      <td>...</td>\n",
       "      <td>...</td>\n",
       "      <td>...</td>\n",
       "      <td>...</td>\n",
       "      <td>...</td>\n",
       "      <td>...</td>\n",
       "      <td>...</td>\n",
       "      <td>...</td>\n",
       "      <td>...</td>\n",
       "      <td>...</td>\n",
       "      <td>...</td>\n",
       "      <td>...</td>\n",
       "    </tr>\n",
       "    <tr>\n",
       "      <th>99167</th>\n",
       "      <td>NaN</td>\n",
       "      <td>NaN</td>\n",
       "      <td>0.333333</td>\n",
       "      <td>6.0</td>\n",
       "      <td>0.002217</td>\n",
       "      <td>451.0</td>\n",
       "      <td>12899</td>\n",
       "      <td>8704</td>\n",
       "      <td>Undirected</td>\n",
       "      <td>0</td>\n",
       "      <td>GFYFFUGNPVBDAK-ZHBCMPEGSA-L</td>\n",
       "      <td>MAQWNQLQQLDTRYLEQLHQLYSDSFPMELRQFLAPWIESQDWAYA...</td>\n",
       "    </tr>\n",
       "    <tr>\n",
       "      <th>99168</th>\n",
       "      <td>NaN</td>\n",
       "      <td>NaN</td>\n",
       "      <td>0.133333</td>\n",
       "      <td>15.0</td>\n",
       "      <td>0.002439</td>\n",
       "      <td>410.0</td>\n",
       "      <td>10292</td>\n",
       "      <td>8748</td>\n",
       "      <td>Undirected</td>\n",
       "      <td>0</td>\n",
       "      <td>DBPWWBMTZYJGGV-KKUMJFAQSA-N</td>\n",
       "      <td>MAAYKLVLIRHGESAWNLENRFSGWYDADLSPAGHEEAKRGGQALR...</td>\n",
       "    </tr>\n",
       "    <tr>\n",
       "      <th>99169</th>\n",
       "      <td>NaN</td>\n",
       "      <td>NaN</td>\n",
       "      <td>0.312500</td>\n",
       "      <td>16.0</td>\n",
       "      <td>0.003226</td>\n",
       "      <td>310.0</td>\n",
       "      <td>8201</td>\n",
       "      <td>7529</td>\n",
       "      <td>Undirected</td>\n",
       "      <td>0</td>\n",
       "      <td>ULQWGBCNOHBNDB-MRVPVSSYSA-N</td>\n",
       "      <td>MATENGAVELGIQNPSTDKAPKGPTGERPLAAGKDPGPPDPKKAPD...</td>\n",
       "    </tr>\n",
       "    <tr>\n",
       "      <th>99170</th>\n",
       "      <td>NaN</td>\n",
       "      <td>NaN</td>\n",
       "      <td>0.454545</td>\n",
       "      <td>11.0</td>\n",
       "      <td>0.002525</td>\n",
       "      <td>396.0</td>\n",
       "      <td>6913</td>\n",
       "      <td>36</td>\n",
       "      <td>Undirected</td>\n",
       "      <td>0</td>\n",
       "      <td>DEWDMTSMCKXBNP-SCSAIBSYSA-N</td>\n",
       "      <td>MSRLVVVSNRIAPPDEHAASAGGLAVGILGALKAAGGLWFGWSGET...</td>\n",
       "    </tr>\n",
       "    <tr>\n",
       "      <th>99172</th>\n",
       "      <td>NaN</td>\n",
       "      <td>NaN</td>\n",
       "      <td>0.214286</td>\n",
       "      <td>14.0</td>\n",
       "      <td>0.002217</td>\n",
       "      <td>451.0</td>\n",
       "      <td>5043</td>\n",
       "      <td>2300</td>\n",
       "      <td>Undirected</td>\n",
       "      <td>0</td>\n",
       "      <td>NWCHELUCVWSRRS-VIFPVBQESA-N</td>\n",
       "      <td>MAIRTGFCNPFLTQASGIKYNPRTGRGSNREFLHSYKTTMSSFQFL...</td>\n",
       "    </tr>\n",
       "  </tbody>\n",
       "</table>\n",
       "<p>57504 rows × 12 columns</p>\n",
       "</div>"
      ],
      "text/plain": [
       "       drug_degree_fraction_x  drug_total_degree_x  target_degree_fraction  \\\n",
       "4                    0.285714                  7.0                0.100000   \n",
       "7                    0.500000                  4.0                0.959184   \n",
       "9                    0.636364                 11.0                0.990991   \n",
       "11                   0.500000                 16.0                0.994595   \n",
       "13                   0.454545                 11.0                0.428571   \n",
       "...                       ...                  ...                     ...   \n",
       "99167                     NaN                  NaN                0.333333   \n",
       "99168                     NaN                  NaN                0.133333   \n",
       "99169                     NaN                  NaN                0.312500   \n",
       "99170                     NaN                  NaN                0.454545   \n",
       "99172                     NaN                  NaN                0.214286   \n",
       "\n",
       "       target_total_degree  drug_degree_fraction_y  drug_total_degree_y  \\\n",
       "4                     10.0                0.222222                  9.0   \n",
       "7                    147.0                0.400000                  5.0   \n",
       "9                    444.0                0.636364                 11.0   \n",
       "11                   925.0                0.615385                 26.0   \n",
       "13                    14.0                0.416667                 12.0   \n",
       "...                    ...                     ...                  ...   \n",
       "99167                  6.0                0.002217                451.0   \n",
       "99168                 15.0                0.002439                410.0   \n",
       "99169                 16.0                0.003226                310.0   \n",
       "99170                 11.0                0.002525                396.0   \n",
       "99172                 14.0                0.002217                451.0   \n",
       "\n",
       "       Target  Source        Type  Y                     InChiKey  \\\n",
       "4        9288    2799  Undirected  1  VJYDOJXJUCJUHL-UHFFFAOYSA-N   \n",
       "7        9735    9332  Undirected  1  ANAMDWGJXBYJEB-OPWFCKQNSA-N   \n",
       "9        3348    9152  Undirected  1  QXWZQTURMXZVHJ-UHFFFAOYSA-N   \n",
       "11          2    5768  Undirected  1  JGWRKYUXBBNENE-UHFFFAOYSA-N   \n",
       "13       3057     885  Undirected  1  IBAQFPQHRJAVAV-ULAWRXDQSA-N   \n",
       "...       ...     ...         ... ..                          ...   \n",
       "99167   12899    8704  Undirected  0  GFYFFUGNPVBDAK-ZHBCMPEGSA-L   \n",
       "99168   10292    8748  Undirected  0  DBPWWBMTZYJGGV-KKUMJFAQSA-N   \n",
       "99169    8201    7529  Undirected  0  ULQWGBCNOHBNDB-MRVPVSSYSA-N   \n",
       "99170    6913      36  Undirected  0  DEWDMTSMCKXBNP-SCSAIBSYSA-N   \n",
       "99172    5043    2300  Undirected  0  NWCHELUCVWSRRS-VIFPVBQESA-N   \n",
       "\n",
       "                                          target_aa_code  \n",
       "4      MGPLPVCLPIMLLLLLPSLLLLLLLPGPGSGEASRILRVHRRGILE...  \n",
       "7      MTMTLHTKASGMALLHQIQGNELEPLNRPQLKIPLERPLGEVYLDS...  \n",
       "9      MDLEGDRNGGAKKKNFFKLNNKSEKDKKEKKPTVSVFSMFRYSNWL...  \n",
       "11     MALIPDLAMETWLLLAVSLVLLYLYGTHSHGLFKKLGIPGPTPLPF...  \n",
       "13     MGVRHPPCSHRLLAVCALVSLATAALLGHILLHDFLLVPRELSGSS...  \n",
       "...                                                  ...  \n",
       "99167  MAQWNQLQQLDTRYLEQLHQLYSDSFPMELRQFLAPWIESQDWAYA...  \n",
       "99168  MAAYKLVLIRHGESAWNLENRFSGWYDADLSPAGHEEAKRGGQALR...  \n",
       "99169  MATENGAVELGIQNPSTDKAPKGPTGERPLAAGKDPGPPDPKKAPD...  \n",
       "99170  MSRLVVVSNRIAPPDEHAASAGGLAVGILGALKAAGGLWFGWSGET...  \n",
       "99172  MAIRTGFCNPFLTQASGIKYNPRTGRGSNREFLHSYKTTMSSFQFL...  \n",
       "\n",
       "[57504 rows x 12 columns]"
      ]
     },
     "execution_count": 167,
     "metadata": {},
     "output_type": "execute_result"
    }
   ],
   "source": [
    "pd.merge(get_degree_stratification(train_interactions, \n",
    "                                                        ratio = [0,1],\n",
    "                                                        return_item = 'df',\n",
    "                                                        on = 'drug')[['degree_fraction', 'total_degree']].rename(columns = {'degree_fraction': 'drug_degree_fraction',\n",
    "                                                                                                                   'total_degree': 'drug_total_degree'}), train_interactions,\n",
    "                                                    how = 'right', left_index = True, right_on = 'InChiKey')"
   ]
  },
  {
   "cell_type": "code",
   "execution_count": 163,
   "metadata": {},
   "outputs": [],
   "source": [
    "train_interactions.sample(frac=1).to_csv(f'/data/sars-busters/{OUTPUT_DIR}/train_interactions_{VERSION}.csv')\n",
    "test_interactions.sample(frac=1).to_csv(f'/data/sars-busters/{OUTPUT_DIR}/test_interactions_{VERSION}.csv')"
   ]
  },
  {
   "cell_type": "markdown",
   "metadata": {},
   "source": [
    "## Adjascency Matrix"
   ]
  },
  {
   "cell_type": "code",
   "execution_count": 41,
   "metadata": {},
   "outputs": [],
   "source": [
    "adj_edges = train_interactions[(train_interactions['unseen'] == 'edges') & (train_interactions['Y'] == 1)]"
   ]
  },
  {
   "cell_type": "code",
   "execution_count": 42,
   "metadata": {},
   "outputs": [
    {
     "data": {
      "text/html": [
       "<div>\n",
       "<style scoped>\n",
       "    .dataframe tbody tr th:only-of-type {\n",
       "        vertical-align: middle;\n",
       "    }\n",
       "\n",
       "    .dataframe tbody tr th {\n",
       "        vertical-align: top;\n",
       "    }\n",
       "\n",
       "    .dataframe thead th {\n",
       "        text-align: right;\n",
       "    }\n",
       "</style>\n",
       "<table border=\"1\" class=\"dataframe\">\n",
       "  <thead>\n",
       "    <tr style=\"text-align: right;\">\n",
       "      <th></th>\n",
       "      <th>Target</th>\n",
       "      <th>Source</th>\n",
       "      <th>Type</th>\n",
       "      <th>Y</th>\n",
       "      <th>InChiKey</th>\n",
       "      <th>target_aa_code</th>\n",
       "      <th>unseen</th>\n",
       "    </tr>\n",
       "  </thead>\n",
       "  <tbody>\n",
       "    <tr>\n",
       "      <th>20172</th>\n",
       "      <td>8587</td>\n",
       "      <td>5776</td>\n",
       "      <td>Undirected</td>\n",
       "      <td>1</td>\n",
       "      <td>LRJOMUJRLNCICJ-JZYPGELDSA-N</td>\n",
       "      <td>MGETEKRIETHRIRCLSKLKMFLLAITCAFVSKTLSGSYMNSMLTQ...</td>\n",
       "      <td>edges</td>\n",
       "    </tr>\n",
       "    <tr>\n",
       "      <th>28797</th>\n",
       "      <td>9889</td>\n",
       "      <td>10609</td>\n",
       "      <td>Undirected</td>\n",
       "      <td>1</td>\n",
       "      <td>PJVWKTKQMONHTI-UHFFFAOYSA-N</td>\n",
       "      <td>MALSWVLTVLSLLPLLEAQIPLCANLVPVPITNATLDQITGKWFYI...</td>\n",
       "      <td>edges</td>\n",
       "    </tr>\n",
       "    <tr>\n",
       "      <th>13408</th>\n",
       "      <td>5214</td>\n",
       "      <td>10431</td>\n",
       "      <td>Undirected</td>\n",
       "      <td>1</td>\n",
       "      <td>ZATGFXTWDKIEKC-UHFFFAOYSA-N</td>\n",
       "      <td>MGCVFCKKLEPVATAKEDAGLEGDFRSYGAADHYGPDPTKARPASS...</td>\n",
       "      <td>edges</td>\n",
       "    </tr>\n",
       "    <tr>\n",
       "      <th>27849</th>\n",
       "      <td>11137</td>\n",
       "      <td>10946</td>\n",
       "      <td>Undirected</td>\n",
       "      <td>1</td>\n",
       "      <td>HADYAKDSDIXWOF-UHFFFAOYSA-N</td>\n",
       "      <td>MLNLLLLALPVLASRAYAAPAPGQALQRVGIVGGQEAPRSKWPWQV...</td>\n",
       "      <td>edges</td>\n",
       "    </tr>\n",
       "    <tr>\n",
       "      <th>22298</th>\n",
       "      <td>13171</td>\n",
       "      <td>1704</td>\n",
       "      <td>Undirected</td>\n",
       "      <td>1</td>\n",
       "      <td>DBPPRLRVDVJOCL-FQRUVTKNSA-N</td>\n",
       "      <td>MPQPIHLKDHEKDARLVRRRVIVGAVAVVLLTLVLVARMYHLQVTQ...</td>\n",
       "      <td>edges</td>\n",
       "    </tr>\n",
       "    <tr>\n",
       "      <th>...</th>\n",
       "      <td>...</td>\n",
       "      <td>...</td>\n",
       "      <td>...</td>\n",
       "      <td>...</td>\n",
       "      <td>...</td>\n",
       "      <td>...</td>\n",
       "      <td>...</td>\n",
       "    </tr>\n",
       "    <tr>\n",
       "      <th>19514</th>\n",
       "      <td>10803</td>\n",
       "      <td>8202</td>\n",
       "      <td>Undirected</td>\n",
       "      <td>1</td>\n",
       "      <td>JOYRKODLDBILNP-UHFFFAOYSA-N</td>\n",
       "      <td>MGVPFFSSLRCMVDLGPCWAGGLTAEMKLLLALAGLLAILATPQPS...</td>\n",
       "      <td>edges</td>\n",
       "    </tr>\n",
       "    <tr>\n",
       "      <th>18767</th>\n",
       "      <td>4230</td>\n",
       "      <td>10638</td>\n",
       "      <td>Undirected</td>\n",
       "      <td>1</td>\n",
       "      <td>YTBGBMPLINFTBQ-OAHLLOKOSA-N</td>\n",
       "      <td>MSGADRSPNAGAAPDSAPGQAAVASAYQRFEPRAYLRNNYAPPRGD...</td>\n",
       "      <td>edges</td>\n",
       "    </tr>\n",
       "    <tr>\n",
       "      <th>4306</th>\n",
       "      <td>12420</td>\n",
       "      <td>10640</td>\n",
       "      <td>Undirected</td>\n",
       "      <td>1</td>\n",
       "      <td>VUCAHVBMSFIGAI-TWCWWGPMSA-M</td>\n",
       "      <td>MQGKKPGGSSGGGRSGELQGDEAQRNKKKKKKVSCFSNIKIFLVSE...</td>\n",
       "      <td>edges</td>\n",
       "    </tr>\n",
       "    <tr>\n",
       "      <th>29529</th>\n",
       "      <td>6858</td>\n",
       "      <td>5776</td>\n",
       "      <td>Undirected</td>\n",
       "      <td>1</td>\n",
       "      <td>FIQOFIRCTOWDOW-BJLQDIEVSA-N</td>\n",
       "      <td>MGETEKRIETHRIRCLSKLKMFLLAITCAFVSKTLSGSYMNSMLTQ...</td>\n",
       "      <td>edges</td>\n",
       "    </tr>\n",
       "    <tr>\n",
       "      <th>22541</th>\n",
       "      <td>4749</td>\n",
       "      <td>11523</td>\n",
       "      <td>Undirected</td>\n",
       "      <td>1</td>\n",
       "      <td>NJMYODHXAKYRHW-DVZOWYKESA-N</td>\n",
       "      <td>MRTLNTSAMDGTGLVVERDFSVRILTACFLSLLILSTLLGNTLVCA...</td>\n",
       "      <td>edges</td>\n",
       "    </tr>\n",
       "  </tbody>\n",
       "</table>\n",
       "<p>13021 rows × 7 columns</p>\n",
       "</div>"
      ],
      "text/plain": [
       "       Target  Source        Type  Y                     InChiKey  \\\n",
       "20172    8587    5776  Undirected  1  LRJOMUJRLNCICJ-JZYPGELDSA-N   \n",
       "28797    9889   10609  Undirected  1  PJVWKTKQMONHTI-UHFFFAOYSA-N   \n",
       "13408    5214   10431  Undirected  1  ZATGFXTWDKIEKC-UHFFFAOYSA-N   \n",
       "27849   11137   10946  Undirected  1  HADYAKDSDIXWOF-UHFFFAOYSA-N   \n",
       "22298   13171    1704  Undirected  1  DBPPRLRVDVJOCL-FQRUVTKNSA-N   \n",
       "...       ...     ...         ... ..                          ...   \n",
       "19514   10803    8202  Undirected  1  JOYRKODLDBILNP-UHFFFAOYSA-N   \n",
       "18767    4230   10638  Undirected  1  YTBGBMPLINFTBQ-OAHLLOKOSA-N   \n",
       "4306    12420   10640  Undirected  1  VUCAHVBMSFIGAI-TWCWWGPMSA-M   \n",
       "29529    6858    5776  Undirected  1  FIQOFIRCTOWDOW-BJLQDIEVSA-N   \n",
       "22541    4749   11523  Undirected  1  NJMYODHXAKYRHW-DVZOWYKESA-N   \n",
       "\n",
       "                                          target_aa_code unseen  \n",
       "20172  MGETEKRIETHRIRCLSKLKMFLLAITCAFVSKTLSGSYMNSMLTQ...  edges  \n",
       "28797  MALSWVLTVLSLLPLLEAQIPLCANLVPVPITNATLDQITGKWFYI...  edges  \n",
       "13408  MGCVFCKKLEPVATAKEDAGLEGDFRSYGAADHYGPDPTKARPASS...  edges  \n",
       "27849  MLNLLLLALPVLASRAYAAPAPGQALQRVGIVGGQEAPRSKWPWQV...  edges  \n",
       "22298  MPQPIHLKDHEKDARLVRRRVIVGAVAVVLLTLVLVARMYHLQVTQ...  edges  \n",
       "...                                                  ...    ...  \n",
       "19514  MGVPFFSSLRCMVDLGPCWAGGLTAEMKLLLALAGLLAILATPQPS...  edges  \n",
       "18767  MSGADRSPNAGAAPDSAPGQAAVASAYQRFEPRAYLRNNYAPPRGD...  edges  \n",
       "4306   MQGKKPGGSSGGGRSGELQGDEAQRNKKKKKKVSCFSNIKIFLVSE...  edges  \n",
       "29529  MGETEKRIETHRIRCLSKLKMFLLAITCAFVSKTLSGSYMNSMLTQ...  edges  \n",
       "22541  MRTLNTSAMDGTGLVVERDFSVRILTACFLSLLILSTLLGNTLVCA...  edges  \n",
       "\n",
       "[13021 rows x 7 columns]"
      ]
     },
     "execution_count": 42,
     "metadata": {},
     "output_type": "execute_result"
    }
   ],
   "source": [
    "adj_edges"
   ]
  },
  {
   "cell_type": "code",
   "execution_count": 43,
   "metadata": {},
   "outputs": [
    {
     "data": {
      "text/html": [
       "<div>\n",
       "<style scoped>\n",
       "    .dataframe tbody tr th:only-of-type {\n",
       "        vertical-align: middle;\n",
       "    }\n",
       "\n",
       "    .dataframe tbody tr th {\n",
       "        vertical-align: top;\n",
       "    }\n",
       "\n",
       "    .dataframe thead th {\n",
       "        text-align: right;\n",
       "    }\n",
       "</style>\n",
       "<table border=\"1\" class=\"dataframe\">\n",
       "  <thead>\n",
       "    <tr style=\"text-align: right;\">\n",
       "      <th>target_aa_code</th>\n",
       "      <th>AAACPRGQGRTLVSGLIYYITGSSKTNTEEKLMDFLLKEQKYNKLIRPATNSSQLVSIELQVSLAQLISVNEREQIMTTNVWLKQEWTDYRLAWDPSKYQGVKILRIPAKCIWLPDIVLYNNADGTYEVSLYTNAVVRFNGSIFWLPPAIYKSACKIEVKHFPFDQQNCTLKFRSWTYDHTEIDLVLKNAMASMDDFTPSGEWDIVALPGRRTINPLDPSYVDVTYDFIIKRKPLFYTINLIIPCVLITSLAILVFYLPSDCGEKMTLCISVLLALTVFLLLISKIVPPTSLDVPLIGKYLMFTMVLVTFSIVTSVCVLNVHHRSPSTHSMPPWVKLVFLKRLPTFLFMNRPENHPARQRPGPRRRNRAEATSPAELYKNSMYFVNPASAGKIQDTADGTGGQRDFRLRSSKKYQPEVQEAIDGVSFIAEHMKSDDSDQSVIEDWKYVAMVVDRLFLWIFVFVCVLGTVGLFLPPLFQNHSPPESP</th>\n",
       "      <th>AAMRYTEARLTPLAMEMLREIDEETVDFIPNYDGRVQEPTVLPSRFPNLLANGSGGIAVGMATNIPPHNLRELADAVFWALENHDADEEETLAAVMGRVKGPDFPTAGLIVGSQGTADAYKTGRGSIRMRGVVEVEEDSRGRTSLVITELPYQVNH</th>\n",
       "      <th>AAPYLKTKFICVTPTTCSNTIDLPMSPRTLDSLMQFGNGEGAEPSAGGQF</th>\n",
       "      <th>ADNLAEFHVQNQECDSCHTPDGELSNDSLTYENTQCVSCHGTLEEVAETTKHEHYNAHASHFPGEVACTSCHSAHEKSMVYCDSCHSFDFNMPYAKKWQRDEPTIAELAKDKSERQAALASAPHDTVDVVVVGSGGAGFSAAISATDSGAKVILIEKEPVIGGNAKLAAGGMNAAWTDQQKAKKITDSPELMFEDTMKGGQNINDPALVKVLSSHSKDSVDWMTAMGADLTDVGMMGGASVNRAHRPTGGAGVGAHVVQVLYDNAVKRNIDLRMNTRGIEVLKDDKGTVKGILVKGMYKGYYWVKADAVILATGGFAKNNERVAKLDPSLKGFISTNQPGAVGDGLDVAENAGGALKDMQYIQAHPTLSVKGGVMVTEAVRGNGAILVNREGKRFVNEITTRDKASAAILAQTGKSAYLIFDDSVRKSLSKIDKYIGLGVAPTADSLVKLGKMEGIDGKALTETVARYNSLVSSGKDTDFERPNLPRALNEGNYYAIEVTPGVHHTMGGVMIDTKAEVMNAKKQVIPGLYGAGEVTGGVHGANRLGGNAISDIITFGRLAGEEAAKYSKKN</th>\n",
       "      <th>ADSATPHLDAVEQTLRQVSPGLEGDVWERTSGNKLDGSAADPSDWLLQTPGCWGDDKCADRVGTKRLLAKMTENIGNATRTVDISTLAPFPNGAFQDAIVAGLKESAAKGNKLKVRILVGAAPVYHMNVIPSKYRDELTAKLGKAAENITLNVASMTTSKTAFSWNHSKILVVDGQSALTGGINSWKDDYLDTTHPVSDVDLALTGPAAGSAGRYLDTLWTWTCQNKSNIASVWFAASGNAGCMPTMHKDTNPKASPATGNVPVIAVGGLGVGIKDVDPKSTFRPDLPTASDTKCVVGLHDNTNADRDYDTVNPEESALRALVASAKGHIEISQQDLNATCPPLPRYDIRLYDALAAKMAAGVKVRIVVSDPANRGAVGSGGYSQIKSLSEISDTLRNRLANITGGQQAAKTAMCSNLQLATFRSSPNGKWADGHPYAQHHKLVSVDSSTFYIGSKNLYPSWLQDFGYIVESPEAAKQLDAKLLDPQWKYSQETATVDYARGICNA</th>\n",
       "      <th>ADTKEVLEAREAYFKSLGKSMKAMTGVAKSFDAEAAKAEAAALEKILATDVAPLFPAGTSSTDLPGQTEAKAAIWTNMADFGAKGKAMNDAGAEVIAAANAGDATAFGAALQKLGGTCKACHDDYREED</th>\n",
       "      <th>AESTLGAAAAQSGRYFGTAIASGKLGDSAYTTIASREFNMVTAENEMKIDATEPQRGQFNFSAGDRVYNWAVQNGKQVRGHTLAWHSQQPGWMQSLSGSTLRQAMIDHINGVMGHYKGKIAQWDVVNEAFSDDGSGGRRDSNLQRTGNDWIEVAFRTARAADPAAKLCYNDYNIENWTWAKTQGVYNMVRDFKQRGVPIDCVGFQSHFNSGSPYNSNFRTTLQNFAALGVDVAITELDIQGASSSTYAAVTNDCLAVSRCLGITVWGVRDTDSWRSGDTPLLFNGDGSKKAAYTAVLNALNGGSSTPPPSGGGQIKGVGSGRCLDVPNASTTDGTQVQLYDCHSATNQQWTYTDAGELRVYGDKCLDAAGTGNGTKVQIYSCWGGDNQKWRLNSDGSIVGVQSGLCLDAVGGGTANGTLIQLYSCSNGSNQRWTRT</th>\n",
       "      <th>AGVPFNTKTPYGPT</th>\n",
       "      <th>AHNIVLYTGAKMPILGLGTWKSPPGKVTEAVKVAIDLGYRHIDCAHVYQNENEVGLALQAKLQEQVVKREDLFIVSKLWCTYHDKDLVKGACQKTLSDLKLDYLDLYLIHWPTGFKPGKDFFPLDEDGNVIPSEKDFVDTWTAMEELVDEGLVKAIGVSNFNHLQVEKILNKPGLKYKPAVNQIECHPYLTQEKLIQYCNSKGIVVTAYSPLGSPDRPWAKPEDPSILEDPRIKAIADKYNKTTAQVLIRFPIQRNLIVIPKSVTPERIAENFQVFDFELDKEDMNTLLSYNRDWRACALVSCASHRDYPFHEEF</th>\n",
       "      <th>AIHPQTGELLALVSTPSYDVYPFMYGMSNEEYNKLTEDKKEPLLNKFQITTSPGSTQKILTAMIGLNNKTLDDKTSYKIDGKGWQKDKSWGGYNV</th>\n",
       "      <th>...</th>\n",
       "      <th>SGSWLRDVWDWICTVLTDFKTWLQSKLLPRIPGVPFLSCQRGYKGVWRGDGIMHTTCPCGAQITGHVKNGSMRIVGPKTCSNTWHGTFPINTYTTGPCTPSPAPNYSRALWRVAAEEYVEVTRVGDFHYVTGMTTDNVKCPCQVPAPEFFTEVDGVRLHRYAPACKPLLREEVTFMVGLNQYLVGSQLPCEPEPDVTVLTSMLTDPSHITAETAGRRLARGSPPSLASSSASQLSAPSLKATCTTRHDSPDADLIEANLLWRQEMGGNITRVESENKVVILDSFDPLQAEEDEREVSVPAEILRKSRKFPRAMPIWARPDYNPPLLESWKDPDYVPPVVHGCPLPPAKAPPIPPPRRKRTVVLTESTVSSALAELATKTFGSSGSSAVDSGTATAPPDQLPGDGDSGSDVESYSSMPPLEGEPGDPDLSDGSWSTMSEEASEDVVCC</th>\n",
       "      <th>SMSYTWTGALITPCAAEESKLPINALSNSLLRHHNMVYATTSRSASLRQKKVTFDRLQVLDDHYRDVLKEMKAKASTVKAKLLSVEEACKLTPPHSAKSKFGYGAKDVRNLSSKAVNHIRSVWKDLLEDTETPIDTTIMAKNEVFCVQPEKGGRKPARLIVFPDLGVRVCEKMALYDVVSTLPQAVMGSSYGFQYSPGQRVEFLVNTWKSKKCPMGFSYDTRCFDSTVTENDIRVEESIYQCCDLAPEARQAIRSLTERLYIGGPLTNSKGQNCGYRRCRASGVLTTSCGNTLTCYLKASAACRAAKLQDCTMLVCGDDLVVICESAGTQEDAASLRAFTEAMTRYSAPPGDPPQPEYDLELITSCSSNVSVAHDASGKRVYYLTRDPTTPLARAAWETARHTPVNSWLGNIIMYAPTLWARMILMTHFFSILLAQEQLEKALDCQIYGACYSIEPLDLPQIIQRLHGLSAFSLHSYSPGEINRVASCLRKLGVPPLRVWRHRARSVRARLLSQGGRAATCGKYLFNWAVRTKLKLTPIPAASQLDLSSWFVAGYSGGDIYHSLSRARPRWFMWCLLLLSVGVGIYLLPNR</th>\n",
       "      <th>SNLPPRIMAAGGLQMIGSMSKDMYQIMDEIKEGIQYVFQTRNPLTLVISGSGHCALEAALVNVLEPGDSFLVGANGIWGQRAVDIGERIGARVHPMTKDPGGHYTLQEVEEGLAQHKPVLLFLTHGESSTGVLQPLDGFGELCHRYKCLLLVDSVASLGGTPLYMDRQGIDILYSGSQKALNAPPGTSLIFFSDKAKKKMYSRKTKPFSFYLDIKWLANFWGCDDQPRMYHHTIPVISLYSLRESLALIAEQGLENSWRQHREAAAYLHGRLQALGLQLFVKDPALRLPTVTTVAVPAGYDWRDIVSYVIDHFDIEIMGGLGPSTGKVLRIGLLGCNATRENVDRVTEALRAALQHCKANL</th>\n",
       "      <th>SNRSLNATATQGAWDPGTLQALKIALVVLLSIITLATVLSNAFVLTTIFLTRKLHTPANCLIGSLAMTDLLVSILVMPISIAYTTTHTWSFGQLLCDIWLSSDITCCTASILHLCVIAL</th>\n",
       "      <th>TLSILVAHDLQRVIGFENQLPWHLPNDLKHVKKLSTGHTLVMGRKTFESIGKPLPNRRNVVLTSDTSFNVEGVDVIHSIEDIYQLPGHVFIFGGQTLFEEMIDKVDDMYITVIEGKFRGDTFFPPYTFEDWEVASSVEGKLDEKNTIPHTFLHLIRK</th>\n",
       "      <th>VVKDEHQVFKWDGQTRDIATWNRDHNLITAMKYSVVPVYQEFARQIGEARMSKMLHAFDYGNEDISGNVDSFWLDGGIRISATEQISFLRKLYHNKLHVSERSQRIVKQAMLTEANGDYIIRAKTGYSTRIEPKIGWWVGWVELD</th>\n",
       "      <th>XXXXXDXAPEARQAIRSLTERLYXGGPLTNSKGQNCGYRRCRASGVLTTSCXNTLTCYLKASAACRAAKLQDCT</th>\n",
       "      <th>YCYICHSLKYDRWYSNRNSLCCVFLICVLTLVAIVPNLCMGTLQYDPRIYSCTFAQSVSSAYTIAVVVFHFLVPMVIVIFRYLRIWVLVLQIRWRAKPENNPRLKPQDFRNFVTMFVVFVLFAICWAPLNFIGLAVASDPASMAPRIPEWLFVA</th>\n",
       "      <th>YITPVNSLEKHSWYHGPVSRNAAEYLLSSGINGSFLVRESESSPGQRSISLRYEGRVYHYRINTASDGKLYVSSESRFNTLAELVHHHSTVADGLITTLHYPAPKRNKPTIYGVSPNYDKWEMERTDITMKHKLGGGQYGEVYEGVWKKYSLTVAVKTLKEDTMEVEEFLKEAAVMKEIKHPNLVQLLGVCTREPPFYIITEFMTYGNLLDYLRECNRQEVSAVVLLYMATQISSAMEYLEKKNFIHRDLAARNCLVGENHLVKVADFGLSRLMTGDTYTAHAGAKFPIKWTAPESLAYNKFSIKSDVWAFGVLLWEIATYGMSPYPGIDLSQVYELLEKDYRMERPEGCPEKVYELMRACWQWNPSDRPSFAEIHQAFETMFQESSISDEVEKELGKRGTRGGAGSMLQAPELPTKTRTCRRAAEQKASPPSLTPKLLRRQVTASPSSGLSHKKEATKGSASGMGTPATAEPAPPSNKVGLSKASSEEMRVRRHKHSSESPGRDKGRLAKLKPAPPPPPACTGKAGKPAQSPSQEAGEAGGPTKTKCTSLAMDAVNTDPTKAGPPGEGLRKPVPPSVPKPQSTAKPPGTPTSPVSTPSTAPAPSPLAGDQQPSSAAFIPLISTRVSLRKTRQPPERIASGTITKGVVLDSTEALCLAISRNSEQMASHSAVLEAGKNLYTFCVSYVDSIQQMRNKFAFREAINKLESNLRELQICPATASSGPAATQDFSKLLSSVKEISDIVRR</th>\n",
       "      <th>mgflsgkrilvtgvasklsiaygiaqamhregaelaftyqndklkgrveefaaqlgsdivlqcdvaedasidtmfaelgkvwpkfdgfvhsigfapgdqldgdyvnavtregfkiahdissysfvamakacrsmlnpgsalltlsylgaeraipnynvmglakasleanvrymanamgpegvrvnaisagpirtlaasgikdfrkmlahceavtpirrtvtiedvgnsaaflcsdlsagisgevvhvdggfsiaamnelelk</th>\n",
       "    </tr>\n",
       "    <tr>\n",
       "      <th>InChiKey</th>\n",
       "      <th></th>\n",
       "      <th></th>\n",
       "      <th></th>\n",
       "      <th></th>\n",
       "      <th></th>\n",
       "      <th></th>\n",
       "      <th></th>\n",
       "      <th></th>\n",
       "      <th></th>\n",
       "      <th></th>\n",
       "      <th></th>\n",
       "      <th></th>\n",
       "      <th></th>\n",
       "      <th></th>\n",
       "      <th></th>\n",
       "      <th></th>\n",
       "      <th></th>\n",
       "      <th></th>\n",
       "      <th></th>\n",
       "      <th></th>\n",
       "      <th></th>\n",
       "    </tr>\n",
       "  </thead>\n",
       "  <tbody>\n",
       "    <tr>\n",
       "      <th>AAADKYXUTOBAGS-XCBNKYQSSA-N</th>\n",
       "      <td>0.0</td>\n",
       "      <td>0.0</td>\n",
       "      <td>0.0</td>\n",
       "      <td>0.0</td>\n",
       "      <td>0.0</td>\n",
       "      <td>0.0</td>\n",
       "      <td>0.0</td>\n",
       "      <td>0.0</td>\n",
       "      <td>0.0</td>\n",
       "      <td>0.0</td>\n",
       "      <td>...</td>\n",
       "      <td>0.0</td>\n",
       "      <td>0.0</td>\n",
       "      <td>0.0</td>\n",
       "      <td>0.0</td>\n",
       "      <td>0.0</td>\n",
       "      <td>0.0</td>\n",
       "      <td>0.0</td>\n",
       "      <td>0.0</td>\n",
       "      <td>0.0</td>\n",
       "      <td>0.0</td>\n",
       "    </tr>\n",
       "    <tr>\n",
       "      <th>AAKJLRGGTJKAMG-UHFFFAOYSA-N</th>\n",
       "      <td>0.0</td>\n",
       "      <td>0.0</td>\n",
       "      <td>0.0</td>\n",
       "      <td>0.0</td>\n",
       "      <td>0.0</td>\n",
       "      <td>0.0</td>\n",
       "      <td>0.0</td>\n",
       "      <td>0.0</td>\n",
       "      <td>0.0</td>\n",
       "      <td>0.0</td>\n",
       "      <td>...</td>\n",
       "      <td>0.0</td>\n",
       "      <td>0.0</td>\n",
       "      <td>0.0</td>\n",
       "      <td>0.0</td>\n",
       "      <td>0.0</td>\n",
       "      <td>0.0</td>\n",
       "      <td>0.0</td>\n",
       "      <td>0.0</td>\n",
       "      <td>0.0</td>\n",
       "      <td>0.0</td>\n",
       "    </tr>\n",
       "    <tr>\n",
       "      <th>AANFHDFOMFRLLR-IBGZPJMESA-N</th>\n",
       "      <td>0.0</td>\n",
       "      <td>0.0</td>\n",
       "      <td>0.0</td>\n",
       "      <td>0.0</td>\n",
       "      <td>0.0</td>\n",
       "      <td>0.0</td>\n",
       "      <td>0.0</td>\n",
       "      <td>0.0</td>\n",
       "      <td>0.0</td>\n",
       "      <td>0.0</td>\n",
       "      <td>...</td>\n",
       "      <td>0.0</td>\n",
       "      <td>0.0</td>\n",
       "      <td>0.0</td>\n",
       "      <td>0.0</td>\n",
       "      <td>0.0</td>\n",
       "      <td>0.0</td>\n",
       "      <td>0.0</td>\n",
       "      <td>0.0</td>\n",
       "      <td>0.0</td>\n",
       "      <td>0.0</td>\n",
       "    </tr>\n",
       "    <tr>\n",
       "      <th>AANFHDFOMFRLLR-LJQANCHMSA-N</th>\n",
       "      <td>0.0</td>\n",
       "      <td>0.0</td>\n",
       "      <td>0.0</td>\n",
       "      <td>0.0</td>\n",
       "      <td>0.0</td>\n",
       "      <td>0.0</td>\n",
       "      <td>0.0</td>\n",
       "      <td>0.0</td>\n",
       "      <td>0.0</td>\n",
       "      <td>0.0</td>\n",
       "      <td>...</td>\n",
       "      <td>0.0</td>\n",
       "      <td>0.0</td>\n",
       "      <td>0.0</td>\n",
       "      <td>0.0</td>\n",
       "      <td>0.0</td>\n",
       "      <td>0.0</td>\n",
       "      <td>0.0</td>\n",
       "      <td>0.0</td>\n",
       "      <td>0.0</td>\n",
       "      <td>0.0</td>\n",
       "    </tr>\n",
       "    <tr>\n",
       "      <th>AANTYZRUJFNZFI-UHFFFAOYSA-N</th>\n",
       "      <td>0.0</td>\n",
       "      <td>0.0</td>\n",
       "      <td>0.0</td>\n",
       "      <td>0.0</td>\n",
       "      <td>0.0</td>\n",
       "      <td>0.0</td>\n",
       "      <td>0.0</td>\n",
       "      <td>0.0</td>\n",
       "      <td>0.0</td>\n",
       "      <td>0.0</td>\n",
       "      <td>...</td>\n",
       "      <td>0.0</td>\n",
       "      <td>0.0</td>\n",
       "      <td>0.0</td>\n",
       "      <td>0.0</td>\n",
       "      <td>0.0</td>\n",
       "      <td>0.0</td>\n",
       "      <td>0.0</td>\n",
       "      <td>0.0</td>\n",
       "      <td>0.0</td>\n",
       "      <td>0.0</td>\n",
       "    </tr>\n",
       "    <tr>\n",
       "      <th>...</th>\n",
       "      <td>...</td>\n",
       "      <td>...</td>\n",
       "      <td>...</td>\n",
       "      <td>...</td>\n",
       "      <td>...</td>\n",
       "      <td>...</td>\n",
       "      <td>...</td>\n",
       "      <td>...</td>\n",
       "      <td>...</td>\n",
       "      <td>...</td>\n",
       "      <td>...</td>\n",
       "      <td>...</td>\n",
       "      <td>...</td>\n",
       "      <td>...</td>\n",
       "      <td>...</td>\n",
       "      <td>...</td>\n",
       "      <td>...</td>\n",
       "      <td>...</td>\n",
       "      <td>...</td>\n",
       "      <td>...</td>\n",
       "      <td>...</td>\n",
       "    </tr>\n",
       "    <tr>\n",
       "      <th>ZZKNRXZVGOYGJT-VKHMYHEASA-N</th>\n",
       "      <td>0.0</td>\n",
       "      <td>0.0</td>\n",
       "      <td>0.0</td>\n",
       "      <td>0.0</td>\n",
       "      <td>0.0</td>\n",
       "      <td>0.0</td>\n",
       "      <td>0.0</td>\n",
       "      <td>0.0</td>\n",
       "      <td>0.0</td>\n",
       "      <td>0.0</td>\n",
       "      <td>...</td>\n",
       "      <td>0.0</td>\n",
       "      <td>0.0</td>\n",
       "      <td>0.0</td>\n",
       "      <td>0.0</td>\n",
       "      <td>0.0</td>\n",
       "      <td>0.0</td>\n",
       "      <td>0.0</td>\n",
       "      <td>0.0</td>\n",
       "      <td>0.0</td>\n",
       "      <td>0.0</td>\n",
       "    </tr>\n",
       "    <tr>\n",
       "      <th>ZZORFUFYDOWNEF-UHFFFAOYSA-N</th>\n",
       "      <td>0.0</td>\n",
       "      <td>0.0</td>\n",
       "      <td>0.0</td>\n",
       "      <td>0.0</td>\n",
       "      <td>0.0</td>\n",
       "      <td>0.0</td>\n",
       "      <td>0.0</td>\n",
       "      <td>0.0</td>\n",
       "      <td>0.0</td>\n",
       "      <td>0.0</td>\n",
       "      <td>...</td>\n",
       "      <td>0.0</td>\n",
       "      <td>0.0</td>\n",
       "      <td>0.0</td>\n",
       "      <td>0.0</td>\n",
       "      <td>0.0</td>\n",
       "      <td>0.0</td>\n",
       "      <td>0.0</td>\n",
       "      <td>0.0</td>\n",
       "      <td>0.0</td>\n",
       "      <td>0.0</td>\n",
       "    </tr>\n",
       "    <tr>\n",
       "      <th>ZZQNEJILGNNOEP-UHFFFAOYSA-N</th>\n",
       "      <td>0.0</td>\n",
       "      <td>0.0</td>\n",
       "      <td>0.0</td>\n",
       "      <td>0.0</td>\n",
       "      <td>0.0</td>\n",
       "      <td>0.0</td>\n",
       "      <td>0.0</td>\n",
       "      <td>0.0</td>\n",
       "      <td>0.0</td>\n",
       "      <td>0.0</td>\n",
       "      <td>...</td>\n",
       "      <td>0.0</td>\n",
       "      <td>0.0</td>\n",
       "      <td>0.0</td>\n",
       "      <td>0.0</td>\n",
       "      <td>0.0</td>\n",
       "      <td>0.0</td>\n",
       "      <td>0.0</td>\n",
       "      <td>0.0</td>\n",
       "      <td>0.0</td>\n",
       "      <td>0.0</td>\n",
       "    </tr>\n",
       "    <tr>\n",
       "      <th>ZZUFCTLCJUWOSV-UHFFFAOYSA-N</th>\n",
       "      <td>0.0</td>\n",
       "      <td>0.0</td>\n",
       "      <td>0.0</td>\n",
       "      <td>0.0</td>\n",
       "      <td>0.0</td>\n",
       "      <td>0.0</td>\n",
       "      <td>0.0</td>\n",
       "      <td>0.0</td>\n",
       "      <td>0.0</td>\n",
       "      <td>0.0</td>\n",
       "      <td>...</td>\n",
       "      <td>0.0</td>\n",
       "      <td>0.0</td>\n",
       "      <td>0.0</td>\n",
       "      <td>0.0</td>\n",
       "      <td>0.0</td>\n",
       "      <td>0.0</td>\n",
       "      <td>0.0</td>\n",
       "      <td>0.0</td>\n",
       "      <td>0.0</td>\n",
       "      <td>0.0</td>\n",
       "    </tr>\n",
       "    <tr>\n",
       "      <th>ZZVGLDBDDYESAB-UHFFFAOYSA-N</th>\n",
       "      <td>0.0</td>\n",
       "      <td>0.0</td>\n",
       "      <td>0.0</td>\n",
       "      <td>0.0</td>\n",
       "      <td>0.0</td>\n",
       "      <td>0.0</td>\n",
       "      <td>0.0</td>\n",
       "      <td>0.0</td>\n",
       "      <td>0.0</td>\n",
       "      <td>0.0</td>\n",
       "      <td>...</td>\n",
       "      <td>0.0</td>\n",
       "      <td>0.0</td>\n",
       "      <td>0.0</td>\n",
       "      <td>0.0</td>\n",
       "      <td>0.0</td>\n",
       "      <td>0.0</td>\n",
       "      <td>0.0</td>\n",
       "      <td>0.0</td>\n",
       "      <td>0.0</td>\n",
       "      <td>0.0</td>\n",
       "    </tr>\n",
       "  </tbody>\n",
       "</table>\n",
       "<p>5281 rows × 3096 columns</p>\n",
       "</div>"
      ],
      "text/plain": [
       "target_aa_code               AAACPRGQGRTLVSGLIYYITGSSKTNTEEKLMDFLLKEQKYNKLIRPATNSSQLVSIELQVSLAQLISVNEREQIMTTNVWLKQEWTDYRLAWDPSKYQGVKILRIPAKCIWLPDIVLYNNADGTYEVSLYTNAVVRFNGSIFWLPPAIYKSACKIEVKHFPFDQQNCTLKFRSWTYDHTEIDLVLKNAMASMDDFTPSGEWDIVALPGRRTINPLDPSYVDVTYDFIIKRKPLFYTINLIIPCVLITSLAILVFYLPSDCGEKMTLCISVLLALTVFLLLISKIVPPTSLDVPLIGKYLMFTMVLVTFSIVTSVCVLNVHHRSPSTHSMPPWVKLVFLKRLPTFLFMNRPENHPARQRPGPRRRNRAEATSPAELYKNSMYFVNPASAGKIQDTADGTGGQRDFRLRSSKKYQPEVQEAIDGVSFIAEHMKSDDSDQSVIEDWKYVAMVVDRLFLWIFVFVCVLGTVGLFLPPLFQNHSPPESP  \\\n",
       "InChiKey                                                                                                                                                                                                                                                                                                                                                                                                                                                                                                                              \n",
       "AAADKYXUTOBAGS-XCBNKYQSSA-N                                                0.0                                                                                                                                                                                                                                                                                                                                                                                                                                                        \n",
       "AAKJLRGGTJKAMG-UHFFFAOYSA-N                                                0.0                                                                                                                                                                                                                                                                                                                                                                                                                                                        \n",
       "AANFHDFOMFRLLR-IBGZPJMESA-N                                                0.0                                                                                                                                                                                                                                                                                                                                                                                                                                                        \n",
       "AANFHDFOMFRLLR-LJQANCHMSA-N                                                0.0                                                                                                                                                                                                                                                                                                                                                                                                                                                        \n",
       "AANTYZRUJFNZFI-UHFFFAOYSA-N                                                0.0                                                                                                                                                                                                                                                                                                                                                                                                                                                        \n",
       "...                                                                        ...                                                                                                                                                                                                                                                                                                                                                                                                                                                        \n",
       "ZZKNRXZVGOYGJT-VKHMYHEASA-N                                                0.0                                                                                                                                                                                                                                                                                                                                                                                                                                                        \n",
       "ZZORFUFYDOWNEF-UHFFFAOYSA-N                                                0.0                                                                                                                                                                                                                                                                                                                                                                                                                                                        \n",
       "ZZQNEJILGNNOEP-UHFFFAOYSA-N                                                0.0                                                                                                                                                                                                                                                                                                                                                                                                                                                        \n",
       "ZZUFCTLCJUWOSV-UHFFFAOYSA-N                                                0.0                                                                                                                                                                                                                                                                                                                                                                                                                                                        \n",
       "ZZVGLDBDDYESAB-UHFFFAOYSA-N                                                0.0                                                                                                                                                                                                                                                                                                                                                                                                                                                        \n",
       "\n",
       "target_aa_code               AAMRYTEARLTPLAMEMLREIDEETVDFIPNYDGRVQEPTVLPSRFPNLLANGSGGIAVGMATNIPPHNLRELADAVFWALENHDADEEETLAAVMGRVKGPDFPTAGLIVGSQGTADAYKTGRGSIRMRGVVEVEEDSRGRTSLVITELPYQVNH  \\\n",
       "InChiKey                                                                                                                                                                                    \n",
       "AAADKYXUTOBAGS-XCBNKYQSSA-N                                                0.0                                                                                                              \n",
       "AAKJLRGGTJKAMG-UHFFFAOYSA-N                                                0.0                                                                                                              \n",
       "AANFHDFOMFRLLR-IBGZPJMESA-N                                                0.0                                                                                                              \n",
       "AANFHDFOMFRLLR-LJQANCHMSA-N                                                0.0                                                                                                              \n",
       "AANTYZRUJFNZFI-UHFFFAOYSA-N                                                0.0                                                                                                              \n",
       "...                                                                        ...                                                                                                              \n",
       "ZZKNRXZVGOYGJT-VKHMYHEASA-N                                                0.0                                                                                                              \n",
       "ZZORFUFYDOWNEF-UHFFFAOYSA-N                                                0.0                                                                                                              \n",
       "ZZQNEJILGNNOEP-UHFFFAOYSA-N                                                0.0                                                                                                              \n",
       "ZZUFCTLCJUWOSV-UHFFFAOYSA-N                                                0.0                                                                                                              \n",
       "ZZVGLDBDDYESAB-UHFFFAOYSA-N                                                0.0                                                                                                              \n",
       "\n",
       "target_aa_code               AAPYLKTKFICVTPTTCSNTIDLPMSPRTLDSLMQFGNGEGAEPSAGGQF  \\\n",
       "InChiKey                                                                          \n",
       "AAADKYXUTOBAGS-XCBNKYQSSA-N                                                0.0    \n",
       "AAKJLRGGTJKAMG-UHFFFAOYSA-N                                                0.0    \n",
       "AANFHDFOMFRLLR-IBGZPJMESA-N                                                0.0    \n",
       "AANFHDFOMFRLLR-LJQANCHMSA-N                                                0.0    \n",
       "AANTYZRUJFNZFI-UHFFFAOYSA-N                                                0.0    \n",
       "...                                                                        ...    \n",
       "ZZKNRXZVGOYGJT-VKHMYHEASA-N                                                0.0    \n",
       "ZZORFUFYDOWNEF-UHFFFAOYSA-N                                                0.0    \n",
       "ZZQNEJILGNNOEP-UHFFFAOYSA-N                                                0.0    \n",
       "ZZUFCTLCJUWOSV-UHFFFAOYSA-N                                                0.0    \n",
       "ZZVGLDBDDYESAB-UHFFFAOYSA-N                                                0.0    \n",
       "\n",
       "target_aa_code               ADNLAEFHVQNQECDSCHTPDGELSNDSLTYENTQCVSCHGTLEEVAETTKHEHYNAHASHFPGEVACTSCHSAHEKSMVYCDSCHSFDFNMPYAKKWQRDEPTIAELAKDKSERQAALASAPHDTVDVVVVGSGGAGFSAAISATDSGAKVILIEKEPVIGGNAKLAAGGMNAAWTDQQKAKKITDSPELMFEDTMKGGQNINDPALVKVLSSHSKDSVDWMTAMGADLTDVGMMGGASVNRAHRPTGGAGVGAHVVQVLYDNAVKRNIDLRMNTRGIEVLKDDKGTVKGILVKGMYKGYYWVKADAVILATGGFAKNNERVAKLDPSLKGFISTNQPGAVGDGLDVAENAGGALKDMQYIQAHPTLSVKGGVMVTEAVRGNGAILVNREGKRFVNEITTRDKASAAILAQTGKSAYLIFDDSVRKSLSKIDKYIGLGVAPTADSLVKLGKMEGIDGKALTETVARYNSLVSSGKDTDFERPNLPRALNEGNYYAIEVTPGVHHTMGGVMIDTKAEVMNAKKQVIPGLYGAGEVTGGVHGANRLGGNAISDIITFGRLAGEEAAKYSKKN  \\\n",
       "InChiKey                                                                                                                                                                                                                                                                                                                                                                                                                                                                                                                                                                                                                   \n",
       "AAADKYXUTOBAGS-XCBNKYQSSA-N                                                0.0                                                                                                                                                                                                                                                                                                                                                                                                                                                                                                                                             \n",
       "AAKJLRGGTJKAMG-UHFFFAOYSA-N                                                0.0                                                                                                                                                                                                                                                                                                                                                                                                                                                                                                                                             \n",
       "AANFHDFOMFRLLR-IBGZPJMESA-N                                                0.0                                                                                                                                                                                                                                                                                                                                                                                                                                                                                                                                             \n",
       "AANFHDFOMFRLLR-LJQANCHMSA-N                                                0.0                                                                                                                                                                                                                                                                                                                                                                                                                                                                                                                                             \n",
       "AANTYZRUJFNZFI-UHFFFAOYSA-N                                                0.0                                                                                                                                                                                                                                                                                                                                                                                                                                                                                                                                             \n",
       "...                                                                        ...                                                                                                                                                                                                                                                                                                                                                                                                                                                                                                                                             \n",
       "ZZKNRXZVGOYGJT-VKHMYHEASA-N                                                0.0                                                                                                                                                                                                                                                                                                                                                                                                                                                                                                                                             \n",
       "ZZORFUFYDOWNEF-UHFFFAOYSA-N                                                0.0                                                                                                                                                                                                                                                                                                                                                                                                                                                                                                                                             \n",
       "ZZQNEJILGNNOEP-UHFFFAOYSA-N                                                0.0                                                                                                                                                                                                                                                                                                                                                                                                                                                                                                                                             \n",
       "ZZUFCTLCJUWOSV-UHFFFAOYSA-N                                                0.0                                                                                                                                                                                                                                                                                                                                                                                                                                                                                                                                             \n",
       "ZZVGLDBDDYESAB-UHFFFAOYSA-N                                                0.0                                                                                                                                                                                                                                                                                                                                                                                                                                                                                                                                             \n",
       "\n",
       "target_aa_code               ADSATPHLDAVEQTLRQVSPGLEGDVWERTSGNKLDGSAADPSDWLLQTPGCWGDDKCADRVGTKRLLAKMTENIGNATRTVDISTLAPFPNGAFQDAIVAGLKESAAKGNKLKVRILVGAAPVYHMNVIPSKYRDELTAKLGKAAENITLNVASMTTSKTAFSWNHSKILVVDGQSALTGGINSWKDDYLDTTHPVSDVDLALTGPAAGSAGRYLDTLWTWTCQNKSNIASVWFAASGNAGCMPTMHKDTNPKASPATGNVPVIAVGGLGVGIKDVDPKSTFRPDLPTASDTKCVVGLHDNTNADRDYDTVNPEESALRALVASAKGHIEISQQDLNATCPPLPRYDIRLYDALAAKMAAGVKVRIVVSDPANRGAVGSGGYSQIKSLSEISDTLRNRLANITGGQQAAKTAMCSNLQLATFRSSPNGKWADGHPYAQHHKLVSVDSSTFYIGSKNLYPSWLQDFGYIVESPEAAKQLDAKLLDPQWKYSQETATVDYARGICNA  \\\n",
       "InChiKey                                                                                                                                                                                                                                                                                                                                                                                                                                                                                                                                                  \n",
       "AAADKYXUTOBAGS-XCBNKYQSSA-N                                                0.0                                                                                                                                                                                                                                                                                                                                                                                                                                                                            \n",
       "AAKJLRGGTJKAMG-UHFFFAOYSA-N                                                0.0                                                                                                                                                                                                                                                                                                                                                                                                                                                                            \n",
       "AANFHDFOMFRLLR-IBGZPJMESA-N                                                0.0                                                                                                                                                                                                                                                                                                                                                                                                                                                                            \n",
       "AANFHDFOMFRLLR-LJQANCHMSA-N                                                0.0                                                                                                                                                                                                                                                                                                                                                                                                                                                                            \n",
       "AANTYZRUJFNZFI-UHFFFAOYSA-N                                                0.0                                                                                                                                                                                                                                                                                                                                                                                                                                                                            \n",
       "...                                                                        ...                                                                                                                                                                                                                                                                                                                                                                                                                                                                            \n",
       "ZZKNRXZVGOYGJT-VKHMYHEASA-N                                                0.0                                                                                                                                                                                                                                                                                                                                                                                                                                                                            \n",
       "ZZORFUFYDOWNEF-UHFFFAOYSA-N                                                0.0                                                                                                                                                                                                                                                                                                                                                                                                                                                                            \n",
       "ZZQNEJILGNNOEP-UHFFFAOYSA-N                                                0.0                                                                                                                                                                                                                                                                                                                                                                                                                                                                            \n",
       "ZZUFCTLCJUWOSV-UHFFFAOYSA-N                                                0.0                                                                                                                                                                                                                                                                                                                                                                                                                                                                            \n",
       "ZZVGLDBDDYESAB-UHFFFAOYSA-N                                                0.0                                                                                                                                                                                                                                                                                                                                                                                                                                                                            \n",
       "\n",
       "target_aa_code               ADTKEVLEAREAYFKSLGKSMKAMTGVAKSFDAEAAKAEAAALEKILATDVAPLFPAGTSSTDLPGQTEAKAAIWTNMADFGAKGKAMNDAGAEVIAAANAGDATAFGAALQKLGGTCKACHDDYREED  \\\n",
       "InChiKey                                                                                                                                                         \n",
       "AAADKYXUTOBAGS-XCBNKYQSSA-N                                                0.0                                                                                   \n",
       "AAKJLRGGTJKAMG-UHFFFAOYSA-N                                                0.0                                                                                   \n",
       "AANFHDFOMFRLLR-IBGZPJMESA-N                                                0.0                                                                                   \n",
       "AANFHDFOMFRLLR-LJQANCHMSA-N                                                0.0                                                                                   \n",
       "AANTYZRUJFNZFI-UHFFFAOYSA-N                                                0.0                                                                                   \n",
       "...                                                                        ...                                                                                   \n",
       "ZZKNRXZVGOYGJT-VKHMYHEASA-N                                                0.0                                                                                   \n",
       "ZZORFUFYDOWNEF-UHFFFAOYSA-N                                                0.0                                                                                   \n",
       "ZZQNEJILGNNOEP-UHFFFAOYSA-N                                                0.0                                                                                   \n",
       "ZZUFCTLCJUWOSV-UHFFFAOYSA-N                                                0.0                                                                                   \n",
       "ZZVGLDBDDYESAB-UHFFFAOYSA-N                                                0.0                                                                                   \n",
       "\n",
       "target_aa_code               AESTLGAAAAQSGRYFGTAIASGKLGDSAYTTIASREFNMVTAENEMKIDATEPQRGQFNFSAGDRVYNWAVQNGKQVRGHTLAWHSQQPGWMQSLSGSTLRQAMIDHINGVMGHYKGKIAQWDVVNEAFSDDGSGGRRDSNLQRTGNDWIEVAFRTARAADPAAKLCYNDYNIENWTWAKTQGVYNMVRDFKQRGVPIDCVGFQSHFNSGSPYNSNFRTTLQNFAALGVDVAITELDIQGASSSTYAAVTNDCLAVSRCLGITVWGVRDTDSWRSGDTPLLFNGDGSKKAAYTAVLNALNGGSSTPPPSGGGQIKGVGSGRCLDVPNASTTDGTQVQLYDCHSATNQQWTYTDAGELRVYGDKCLDAAGTGNGTKVQIYSCWGGDNQKWRLNSDGSIVGVQSGLCLDAVGGGTANGTLIQLYSCSNGSNQRWTRT  \\\n",
       "InChiKey                                                                                                                                                                                                                                                                                                                                                                                                                                                                            \n",
       "AAADKYXUTOBAGS-XCBNKYQSSA-N                                                0.0                                                                                                                                                                                                                                                                                                                                                                                                      \n",
       "AAKJLRGGTJKAMG-UHFFFAOYSA-N                                                0.0                                                                                                                                                                                                                                                                                                                                                                                                      \n",
       "AANFHDFOMFRLLR-IBGZPJMESA-N                                                0.0                                                                                                                                                                                                                                                                                                                                                                                                      \n",
       "AANFHDFOMFRLLR-LJQANCHMSA-N                                                0.0                                                                                                                                                                                                                                                                                                                                                                                                      \n",
       "AANTYZRUJFNZFI-UHFFFAOYSA-N                                                0.0                                                                                                                                                                                                                                                                                                                                                                                                      \n",
       "...                                                                        ...                                                                                                                                                                                                                                                                                                                                                                                                      \n",
       "ZZKNRXZVGOYGJT-VKHMYHEASA-N                                                0.0                                                                                                                                                                                                                                                                                                                                                                                                      \n",
       "ZZORFUFYDOWNEF-UHFFFAOYSA-N                                                0.0                                                                                                                                                                                                                                                                                                                                                                                                      \n",
       "ZZQNEJILGNNOEP-UHFFFAOYSA-N                                                0.0                                                                                                                                                                                                                                                                                                                                                                                                      \n",
       "ZZUFCTLCJUWOSV-UHFFFAOYSA-N                                                0.0                                                                                                                                                                                                                                                                                                                                                                                                      \n",
       "ZZVGLDBDDYESAB-UHFFFAOYSA-N                                                0.0                                                                                                                                                                                                                                                                                                                                                                                                      \n",
       "\n",
       "target_aa_code               AGVPFNTKTPYGPT  \\\n",
       "InChiKey                                      \n",
       "AAADKYXUTOBAGS-XCBNKYQSSA-N             0.0   \n",
       "AAKJLRGGTJKAMG-UHFFFAOYSA-N             0.0   \n",
       "AANFHDFOMFRLLR-IBGZPJMESA-N             0.0   \n",
       "AANFHDFOMFRLLR-LJQANCHMSA-N             0.0   \n",
       "AANTYZRUJFNZFI-UHFFFAOYSA-N             0.0   \n",
       "...                                     ...   \n",
       "ZZKNRXZVGOYGJT-VKHMYHEASA-N             0.0   \n",
       "ZZORFUFYDOWNEF-UHFFFAOYSA-N             0.0   \n",
       "ZZQNEJILGNNOEP-UHFFFAOYSA-N             0.0   \n",
       "ZZUFCTLCJUWOSV-UHFFFAOYSA-N             0.0   \n",
       "ZZVGLDBDDYESAB-UHFFFAOYSA-N             0.0   \n",
       "\n",
       "target_aa_code               AHNIVLYTGAKMPILGLGTWKSPPGKVTEAVKVAIDLGYRHIDCAHVYQNENEVGLALQAKLQEQVVKREDLFIVSKLWCTYHDKDLVKGACQKTLSDLKLDYLDLYLIHWPTGFKPGKDFFPLDEDGNVIPSEKDFVDTWTAMEELVDEGLVKAIGVSNFNHLQVEKILNKPGLKYKPAVNQIECHPYLTQEKLIQYCNSKGIVVTAYSPLGSPDRPWAKPEDPSILEDPRIKAIADKYNKTTAQVLIRFPIQRNLIVIPKSVTPERIAENFQVFDFELDKEDMNTLLSYNRDWRACALVSCASHRDYPFHEEF  \\\n",
       "InChiKey                                                                                                                                                                                                                                                                                                                                                   \n",
       "AAADKYXUTOBAGS-XCBNKYQSSA-N                                                0.0                                                                                                                                                                                                                                                                             \n",
       "AAKJLRGGTJKAMG-UHFFFAOYSA-N                                                0.0                                                                                                                                                                                                                                                                             \n",
       "AANFHDFOMFRLLR-IBGZPJMESA-N                                                0.0                                                                                                                                                                                                                                                                             \n",
       "AANFHDFOMFRLLR-LJQANCHMSA-N                                                0.0                                                                                                                                                                                                                                                                             \n",
       "AANTYZRUJFNZFI-UHFFFAOYSA-N                                                0.0                                                                                                                                                                                                                                                                             \n",
       "...                                                                        ...                                                                                                                                                                                                                                                                             \n",
       "ZZKNRXZVGOYGJT-VKHMYHEASA-N                                                0.0                                                                                                                                                                                                                                                                             \n",
       "ZZORFUFYDOWNEF-UHFFFAOYSA-N                                                0.0                                                                                                                                                                                                                                                                             \n",
       "ZZQNEJILGNNOEP-UHFFFAOYSA-N                                                0.0                                                                                                                                                                                                                                                                             \n",
       "ZZUFCTLCJUWOSV-UHFFFAOYSA-N                                                0.0                                                                                                                                                                                                                                                                             \n",
       "ZZVGLDBDDYESAB-UHFFFAOYSA-N                                                0.0                                                                                                                                                                                                                                                                             \n",
       "\n",
       "target_aa_code               AIHPQTGELLALVSTPSYDVYPFMYGMSNEEYNKLTEDKKEPLLNKFQITTSPGSTQKILTAMIGLNNKTLDDKTSYKIDGKGWQKDKSWGGYNV  \\\n",
       "InChiKey                                                                                                                       \n",
       "AAADKYXUTOBAGS-XCBNKYQSSA-N                                                0.0                                                 \n",
       "AAKJLRGGTJKAMG-UHFFFAOYSA-N                                                0.0                                                 \n",
       "AANFHDFOMFRLLR-IBGZPJMESA-N                                                0.0                                                 \n",
       "AANFHDFOMFRLLR-LJQANCHMSA-N                                                0.0                                                 \n",
       "AANTYZRUJFNZFI-UHFFFAOYSA-N                                                0.0                                                 \n",
       "...                                                                        ...                                                 \n",
       "ZZKNRXZVGOYGJT-VKHMYHEASA-N                                                0.0                                                 \n",
       "ZZORFUFYDOWNEF-UHFFFAOYSA-N                                                0.0                                                 \n",
       "ZZQNEJILGNNOEP-UHFFFAOYSA-N                                                0.0                                                 \n",
       "ZZUFCTLCJUWOSV-UHFFFAOYSA-N                                                0.0                                                 \n",
       "ZZVGLDBDDYESAB-UHFFFAOYSA-N                                                0.0                                                 \n",
       "\n",
       "target_aa_code               ...  \\\n",
       "InChiKey                     ...   \n",
       "AAADKYXUTOBAGS-XCBNKYQSSA-N  ...   \n",
       "AAKJLRGGTJKAMG-UHFFFAOYSA-N  ...   \n",
       "AANFHDFOMFRLLR-IBGZPJMESA-N  ...   \n",
       "AANFHDFOMFRLLR-LJQANCHMSA-N  ...   \n",
       "AANTYZRUJFNZFI-UHFFFAOYSA-N  ...   \n",
       "...                          ...   \n",
       "ZZKNRXZVGOYGJT-VKHMYHEASA-N  ...   \n",
       "ZZORFUFYDOWNEF-UHFFFAOYSA-N  ...   \n",
       "ZZQNEJILGNNOEP-UHFFFAOYSA-N  ...   \n",
       "ZZUFCTLCJUWOSV-UHFFFAOYSA-N  ...   \n",
       "ZZVGLDBDDYESAB-UHFFFAOYSA-N  ...   \n",
       "\n",
       "target_aa_code               SGSWLRDVWDWICTVLTDFKTWLQSKLLPRIPGVPFLSCQRGYKGVWRGDGIMHTTCPCGAQITGHVKNGSMRIVGPKTCSNTWHGTFPINTYTTGPCTPSPAPNYSRALWRVAAEEYVEVTRVGDFHYVTGMTTDNVKCPCQVPAPEFFTEVDGVRLHRYAPACKPLLREEVTFMVGLNQYLVGSQLPCEPEPDVTVLTSMLTDPSHITAETAGRRLARGSPPSLASSSASQLSAPSLKATCTTRHDSPDADLIEANLLWRQEMGGNITRVESENKVVILDSFDPLQAEEDEREVSVPAEILRKSRKFPRAMPIWARPDYNPPLLESWKDPDYVPPVVHGCPLPPAKAPPIPPPRRKRTVVLTESTVSSALAELATKTFGSSGSSAVDSGTATAPPDQLPGDGDSGSDVESYSSMPPLEGEPGDPDLSDGSWSTMSEEASEDVVCC  \\\n",
       "InChiKey                                                                                                                                                                                                                                                                                                                                                                                                                                                                                       \n",
       "AAADKYXUTOBAGS-XCBNKYQSSA-N                                                0.0                                                                                                                                                                                                                                                                                                                                                                                                                 \n",
       "AAKJLRGGTJKAMG-UHFFFAOYSA-N                                                0.0                                                                                                                                                                                                                                                                                                                                                                                                                 \n",
       "AANFHDFOMFRLLR-IBGZPJMESA-N                                                0.0                                                                                                                                                                                                                                                                                                                                                                                                                 \n",
       "AANFHDFOMFRLLR-LJQANCHMSA-N                                                0.0                                                                                                                                                                                                                                                                                                                                                                                                                 \n",
       "AANTYZRUJFNZFI-UHFFFAOYSA-N                                                0.0                                                                                                                                                                                                                                                                                                                                                                                                                 \n",
       "...                                                                        ...                                                                                                                                                                                                                                                                                                                                                                                                                 \n",
       "ZZKNRXZVGOYGJT-VKHMYHEASA-N                                                0.0                                                                                                                                                                                                                                                                                                                                                                                                                 \n",
       "ZZORFUFYDOWNEF-UHFFFAOYSA-N                                                0.0                                                                                                                                                                                                                                                                                                                                                                                                                 \n",
       "ZZQNEJILGNNOEP-UHFFFAOYSA-N                                                0.0                                                                                                                                                                                                                                                                                                                                                                                                                 \n",
       "ZZUFCTLCJUWOSV-UHFFFAOYSA-N                                                0.0                                                                                                                                                                                                                                                                                                                                                                                                                 \n",
       "ZZVGLDBDDYESAB-UHFFFAOYSA-N                                                0.0                                                                                                                                                                                                                                                                                                                                                                                                                 \n",
       "\n",
       "target_aa_code               SMSYTWTGALITPCAAEESKLPINALSNSLLRHHNMVYATTSRSASLRQKKVTFDRLQVLDDHYRDVLKEMKAKASTVKAKLLSVEEACKLTPPHSAKSKFGYGAKDVRNLSSKAVNHIRSVWKDLLEDTETPIDTTIMAKNEVFCVQPEKGGRKPARLIVFPDLGVRVCEKMALYDVVSTLPQAVMGSSYGFQYSPGQRVEFLVNTWKSKKCPMGFSYDTRCFDSTVTENDIRVEESIYQCCDLAPEARQAIRSLTERLYIGGPLTNSKGQNCGYRRCRASGVLTTSCGNTLTCYLKASAACRAAKLQDCTMLVCGDDLVVICESAGTQEDAASLRAFTEAMTRYSAPPGDPPQPEYDLELITSCSSNVSVAHDASGKRVYYLTRDPTTPLARAAWETARHTPVNSWLGNIIMYAPTLWARMILMTHFFSILLAQEQLEKALDCQIYGACYSIEPLDLPQIIQRLHGLSAFSLHSYSPGEINRVASCLRKLGVPPLRVWRHRARSVRARLLSQGGRAATCGKYLFNWAVRTKLKLTPIPAASQLDLSSWFVAGYSGGDIYHSLSRARPRWFMWCLLLLSVGVGIYLLPNR  \\\n",
       "InChiKey                                                                                                                                                                                                                                                                                                                                                                                                                                                                                                                                                                                                                                       \n",
       "AAADKYXUTOBAGS-XCBNKYQSSA-N                                                0.0                                                                                                                                                                                                                                                                                                                                                                                                                                                                                                                                                                 \n",
       "AAKJLRGGTJKAMG-UHFFFAOYSA-N                                                0.0                                                                                                                                                                                                                                                                                                                                                                                                                                                                                                                                                                 \n",
       "AANFHDFOMFRLLR-IBGZPJMESA-N                                                0.0                                                                                                                                                                                                                                                                                                                                                                                                                                                                                                                                                                 \n",
       "AANFHDFOMFRLLR-LJQANCHMSA-N                                                0.0                                                                                                                                                                                                                                                                                                                                                                                                                                                                                                                                                                 \n",
       "AANTYZRUJFNZFI-UHFFFAOYSA-N                                                0.0                                                                                                                                                                                                                                                                                                                                                                                                                                                                                                                                                                 \n",
       "...                                                                        ...                                                                                                                                                                                                                                                                                                                                                                                                                                                                                                                                                                 \n",
       "ZZKNRXZVGOYGJT-VKHMYHEASA-N                                                0.0                                                                                                                                                                                                                                                                                                                                                                                                                                                                                                                                                                 \n",
       "ZZORFUFYDOWNEF-UHFFFAOYSA-N                                                0.0                                                                                                                                                                                                                                                                                                                                                                                                                                                                                                                                                                 \n",
       "ZZQNEJILGNNOEP-UHFFFAOYSA-N                                                0.0                                                                                                                                                                                                                                                                                                                                                                                                                                                                                                                                                                 \n",
       "ZZUFCTLCJUWOSV-UHFFFAOYSA-N                                                0.0                                                                                                                                                                                                                                                                                                                                                                                                                                                                                                                                                                 \n",
       "ZZVGLDBDDYESAB-UHFFFAOYSA-N                                                0.0                                                                                                                                                                                                                                                                                                                                                                                                                                                                                                                                                                 \n",
       "\n",
       "target_aa_code               SNLPPRIMAAGGLQMIGSMSKDMYQIMDEIKEGIQYVFQTRNPLTLVISGSGHCALEAALVNVLEPGDSFLVGANGIWGQRAVDIGERIGARVHPMTKDPGGHYTLQEVEEGLAQHKPVLLFLTHGESSTGVLQPLDGFGELCHRYKCLLLVDSVASLGGTPLYMDRQGIDILYSGSQKALNAPPGTSLIFFSDKAKKKMYSRKTKPFSFYLDIKWLANFWGCDDQPRMYHHTIPVISLYSLRESLALIAEQGLENSWRQHREAAAYLHGRLQALGLQLFVKDPALRLPTVTTVAVPAGYDWRDIVSYVIDHFDIEIMGGLGPSTGKVLRIGLLGCNATRENVDRVTEALRAALQHCKANL  \\\n",
       "InChiKey                                                                                                                                                                                                                                                                                                                                                                                                 \n",
       "AAADKYXUTOBAGS-XCBNKYQSSA-N                                                0.0                                                                                                                                                                                                                                                                                                                           \n",
       "AAKJLRGGTJKAMG-UHFFFAOYSA-N                                                0.0                                                                                                                                                                                                                                                                                                                           \n",
       "AANFHDFOMFRLLR-IBGZPJMESA-N                                                0.0                                                                                                                                                                                                                                                                                                                           \n",
       "AANFHDFOMFRLLR-LJQANCHMSA-N                                                0.0                                                                                                                                                                                                                                                                                                                           \n",
       "AANTYZRUJFNZFI-UHFFFAOYSA-N                                                0.0                                                                                                                                                                                                                                                                                                                           \n",
       "...                                                                        ...                                                                                                                                                                                                                                                                                                                           \n",
       "ZZKNRXZVGOYGJT-VKHMYHEASA-N                                                0.0                                                                                                                                                                                                                                                                                                                           \n",
       "ZZORFUFYDOWNEF-UHFFFAOYSA-N                                                0.0                                                                                                                                                                                                                                                                                                                           \n",
       "ZZQNEJILGNNOEP-UHFFFAOYSA-N                                                0.0                                                                                                                                                                                                                                                                                                                           \n",
       "ZZUFCTLCJUWOSV-UHFFFAOYSA-N                                                0.0                                                                                                                                                                                                                                                                                                                           \n",
       "ZZVGLDBDDYESAB-UHFFFAOYSA-N                                                0.0                                                                                                                                                                                                                                                                                                                           \n",
       "\n",
       "target_aa_code               SNRSLNATATQGAWDPGTLQALKIALVVLLSIITLATVLSNAFVLTTIFLTRKLHTPANCLIGSLAMTDLLVSILVMPISIAYTTTHTWSFGQLLCDIWLSSDITCCTASILHLCVIAL  \\\n",
       "InChiKey                                                                                                                                               \n",
       "AAADKYXUTOBAGS-XCBNKYQSSA-N                                                0.0                                                                         \n",
       "AAKJLRGGTJKAMG-UHFFFAOYSA-N                                                0.0                                                                         \n",
       "AANFHDFOMFRLLR-IBGZPJMESA-N                                                0.0                                                                         \n",
       "AANFHDFOMFRLLR-LJQANCHMSA-N                                                0.0                                                                         \n",
       "AANTYZRUJFNZFI-UHFFFAOYSA-N                                                0.0                                                                         \n",
       "...                                                                        ...                                                                         \n",
       "ZZKNRXZVGOYGJT-VKHMYHEASA-N                                                0.0                                                                         \n",
       "ZZORFUFYDOWNEF-UHFFFAOYSA-N                                                0.0                                                                         \n",
       "ZZQNEJILGNNOEP-UHFFFAOYSA-N                                                0.0                                                                         \n",
       "ZZUFCTLCJUWOSV-UHFFFAOYSA-N                                                0.0                                                                         \n",
       "ZZVGLDBDDYESAB-UHFFFAOYSA-N                                                0.0                                                                         \n",
       "\n",
       "target_aa_code               TLSILVAHDLQRVIGFENQLPWHLPNDLKHVKKLSTGHTLVMGRKTFESIGKPLPNRRNVVLTSDTSFNVEGVDVIHSIEDIYQLPGHVFIFGGQTLFEEMIDKVDDMYITVIEGKFRGDTFFPPYTFEDWEVASSVEGKLDEKNTIPHTFLHLIRK  \\\n",
       "InChiKey                                                                                                                                                                                     \n",
       "AAADKYXUTOBAGS-XCBNKYQSSA-N                                                0.0                                                                                                               \n",
       "AAKJLRGGTJKAMG-UHFFFAOYSA-N                                                0.0                                                                                                               \n",
       "AANFHDFOMFRLLR-IBGZPJMESA-N                                                0.0                                                                                                               \n",
       "AANFHDFOMFRLLR-LJQANCHMSA-N                                                0.0                                                                                                               \n",
       "AANTYZRUJFNZFI-UHFFFAOYSA-N                                                0.0                                                                                                               \n",
       "...                                                                        ...                                                                                                               \n",
       "ZZKNRXZVGOYGJT-VKHMYHEASA-N                                                0.0                                                                                                               \n",
       "ZZORFUFYDOWNEF-UHFFFAOYSA-N                                                0.0                                                                                                               \n",
       "ZZQNEJILGNNOEP-UHFFFAOYSA-N                                                0.0                                                                                                               \n",
       "ZZUFCTLCJUWOSV-UHFFFAOYSA-N                                                0.0                                                                                                               \n",
       "ZZVGLDBDDYESAB-UHFFFAOYSA-N                                                0.0                                                                                                               \n",
       "\n",
       "target_aa_code               VVKDEHQVFKWDGQTRDIATWNRDHNLITAMKYSVVPVYQEFARQIGEARMSKMLHAFDYGNEDISGNVDSFWLDGGIRISATEQISFLRKLYHNKLHVSERSQRIVKQAMLTEANGDYIIRAKTGYSTRIEPKIGWWVGWVELD  \\\n",
       "InChiKey                                                                                                                                                                         \n",
       "AAADKYXUTOBAGS-XCBNKYQSSA-N                                                0.0                                                                                                   \n",
       "AAKJLRGGTJKAMG-UHFFFAOYSA-N                                                0.0                                                                                                   \n",
       "AANFHDFOMFRLLR-IBGZPJMESA-N                                                0.0                                                                                                   \n",
       "AANFHDFOMFRLLR-LJQANCHMSA-N                                                0.0                                                                                                   \n",
       "AANTYZRUJFNZFI-UHFFFAOYSA-N                                                0.0                                                                                                   \n",
       "...                                                                        ...                                                                                                   \n",
       "ZZKNRXZVGOYGJT-VKHMYHEASA-N                                                0.0                                                                                                   \n",
       "ZZORFUFYDOWNEF-UHFFFAOYSA-N                                                0.0                                                                                                   \n",
       "ZZQNEJILGNNOEP-UHFFFAOYSA-N                                                0.0                                                                                                   \n",
       "ZZUFCTLCJUWOSV-UHFFFAOYSA-N                                                0.0                                                                                                   \n",
       "ZZVGLDBDDYESAB-UHFFFAOYSA-N                                                0.0                                                                                                   \n",
       "\n",
       "target_aa_code               XXXXXDXAPEARQAIRSLTERLYXGGPLTNSKGQNCGYRRCRASGVLTTSCXNTLTCYLKASAACRAAKLQDCT  \\\n",
       "InChiKey                                                                                                  \n",
       "AAADKYXUTOBAGS-XCBNKYQSSA-N                                                0.0                            \n",
       "AAKJLRGGTJKAMG-UHFFFAOYSA-N                                                0.0                            \n",
       "AANFHDFOMFRLLR-IBGZPJMESA-N                                                0.0                            \n",
       "AANFHDFOMFRLLR-LJQANCHMSA-N                                                0.0                            \n",
       "AANTYZRUJFNZFI-UHFFFAOYSA-N                                                0.0                            \n",
       "...                                                                        ...                            \n",
       "ZZKNRXZVGOYGJT-VKHMYHEASA-N                                                0.0                            \n",
       "ZZORFUFYDOWNEF-UHFFFAOYSA-N                                                0.0                            \n",
       "ZZQNEJILGNNOEP-UHFFFAOYSA-N                                                0.0                            \n",
       "ZZUFCTLCJUWOSV-UHFFFAOYSA-N                                                0.0                            \n",
       "ZZVGLDBDDYESAB-UHFFFAOYSA-N                                                0.0                            \n",
       "\n",
       "target_aa_code               YCYICHSLKYDRWYSNRNSLCCVFLICVLTLVAIVPNLCMGTLQYDPRIYSCTFAQSVSSAYTIAVVVFHFLVPMVIVIFRYLRIWVLVLQIRWRAKPENNPRLKPQDFRNFVTMFVVFVLFAICWAPLNFIGLAVASDPASMAPRIPEWLFVA  \\\n",
       "InChiKey                                                                                                                                                                                  \n",
       "AAADKYXUTOBAGS-XCBNKYQSSA-N                                                0.0                                                                                                            \n",
       "AAKJLRGGTJKAMG-UHFFFAOYSA-N                                                0.0                                                                                                            \n",
       "AANFHDFOMFRLLR-IBGZPJMESA-N                                                0.0                                                                                                            \n",
       "AANFHDFOMFRLLR-LJQANCHMSA-N                                                0.0                                                                                                            \n",
       "AANTYZRUJFNZFI-UHFFFAOYSA-N                                                0.0                                                                                                            \n",
       "...                                                                        ...                                                                                                            \n",
       "ZZKNRXZVGOYGJT-VKHMYHEASA-N                                                0.0                                                                                                            \n",
       "ZZORFUFYDOWNEF-UHFFFAOYSA-N                                                0.0                                                                                                            \n",
       "ZZQNEJILGNNOEP-UHFFFAOYSA-N                                                0.0                                                                                                            \n",
       "ZZUFCTLCJUWOSV-UHFFFAOYSA-N                                                0.0                                                                                                            \n",
       "ZZVGLDBDDYESAB-UHFFFAOYSA-N                                                0.0                                                                                                            \n",
       "\n",
       "target_aa_code               YITPVNSLEKHSWYHGPVSRNAAEYLLSSGINGSFLVRESESSPGQRSISLRYEGRVYHYRINTASDGKLYVSSESRFNTLAELVHHHSTVADGLITTLHYPAPKRNKPTIYGVSPNYDKWEMERTDITMKHKLGGGQYGEVYEGVWKKYSLTVAVKTLKEDTMEVEEFLKEAAVMKEIKHPNLVQLLGVCTREPPFYIITEFMTYGNLLDYLRECNRQEVSAVVLLYMATQISSAMEYLEKKNFIHRDLAARNCLVGENHLVKVADFGLSRLMTGDTYTAHAGAKFPIKWTAPESLAYNKFSIKSDVWAFGVLLWEIATYGMSPYPGIDLSQVYELLEKDYRMERPEGCPEKVYELMRACWQWNPSDRPSFAEIHQAFETMFQESSISDEVEKELGKRGTRGGAGSMLQAPELPTKTRTCRRAAEQKASPPSLTPKLLRRQVTASPSSGLSHKKEATKGSASGMGTPATAEPAPPSNKVGLSKASSEEMRVRRHKHSSESPGRDKGRLAKLKPAPPPPPACTGKAGKPAQSPSQEAGEAGGPTKTKCTSLAMDAVNTDPTKAGPPGEGLRKPVPPSVPKPQSTAKPPGTPTSPVSTPSTAPAPSPLAGDQQPSSAAFIPLISTRVSLRKTRQPPERIASGTITKGVVLDSTEALCLAISRNSEQMASHSAVLEAGKNLYTFCVSYVDSIQQMRNKFAFREAINKLESNLRELQICPATASSGPAATQDFSKLLSSVKEISDIVRR  \\\n",
       "InChiKey                                                                                                                                                                                                                                                                                                                                                                                                                                                                                                                                                                                                                                                                                                                                                                                                  \n",
       "AAADKYXUTOBAGS-XCBNKYQSSA-N                                                0.0                                                                                                                                                                                                                                                                                                                                                                                                                                                                                                                                                                                                                                                                                                                            \n",
       "AAKJLRGGTJKAMG-UHFFFAOYSA-N                                                0.0                                                                                                                                                                                                                                                                                                                                                                                                                                                                                                                                                                                                                                                                                                                            \n",
       "AANFHDFOMFRLLR-IBGZPJMESA-N                                                0.0                                                                                                                                                                                                                                                                                                                                                                                                                                                                                                                                                                                                                                                                                                                            \n",
       "AANFHDFOMFRLLR-LJQANCHMSA-N                                                0.0                                                                                                                                                                                                                                                                                                                                                                                                                                                                                                                                                                                                                                                                                                                            \n",
       "AANTYZRUJFNZFI-UHFFFAOYSA-N                                                0.0                                                                                                                                                                                                                                                                                                                                                                                                                                                                                                                                                                                                                                                                                                                            \n",
       "...                                                                        ...                                                                                                                                                                                                                                                                                                                                                                                                                                                                                                                                                                                                                                                                                                                            \n",
       "ZZKNRXZVGOYGJT-VKHMYHEASA-N                                                0.0                                                                                                                                                                                                                                                                                                                                                                                                                                                                                                                                                                                                                                                                                                                            \n",
       "ZZORFUFYDOWNEF-UHFFFAOYSA-N                                                0.0                                                                                                                                                                                                                                                                                                                                                                                                                                                                                                                                                                                                                                                                                                                            \n",
       "ZZQNEJILGNNOEP-UHFFFAOYSA-N                                                0.0                                                                                                                                                                                                                                                                                                                                                                                                                                                                                                                                                                                                                                                                                                                            \n",
       "ZZUFCTLCJUWOSV-UHFFFAOYSA-N                                                0.0                                                                                                                                                                                                                                                                                                                                                                                                                                                                                                                                                                                                                                                                                                                            \n",
       "ZZVGLDBDDYESAB-UHFFFAOYSA-N                                                0.0                                                                                                                                                                                                                                                                                                                                                                                                                                                                                                                                                                                                                                                                                                                            \n",
       "\n",
       "target_aa_code               mgflsgkrilvtgvasklsiaygiaqamhregaelaftyqndklkgrveefaaqlgsdivlqcdvaedasidtmfaelgkvwpkfdgfvhsigfapgdqldgdyvnavtregfkiahdissysfvamakacrsmlnpgsalltlsylgaeraipnynvmglakasleanvrymanamgpegvrvnaisagpirtlaasgikdfrkmlahceavtpirrtvtiedvgnsaaflcsdlsagisgevvhvdggfsiaamnelelk  \n",
       "InChiKey                                                                                                                                                                                                                                                                                             \n",
       "AAADKYXUTOBAGS-XCBNKYQSSA-N                                                0.0                                                                                                                                                                                                                       \n",
       "AAKJLRGGTJKAMG-UHFFFAOYSA-N                                                0.0                                                                                                                                                                                                                       \n",
       "AANFHDFOMFRLLR-IBGZPJMESA-N                                                0.0                                                                                                                                                                                                                       \n",
       "AANFHDFOMFRLLR-LJQANCHMSA-N                                                0.0                                                                                                                                                                                                                       \n",
       "AANTYZRUJFNZFI-UHFFFAOYSA-N                                                0.0                                                                                                                                                                                                                       \n",
       "...                                                                        ...                                                                                                                                                                                                                       \n",
       "ZZKNRXZVGOYGJT-VKHMYHEASA-N                                                0.0                                                                                                                                                                                                                       \n",
       "ZZORFUFYDOWNEF-UHFFFAOYSA-N                                                0.0                                                                                                                                                                                                                       \n",
       "ZZQNEJILGNNOEP-UHFFFAOYSA-N                                                0.0                                                                                                                                                                                                                       \n",
       "ZZUFCTLCJUWOSV-UHFFFAOYSA-N                                                0.0                                                                                                                                                                                                                       \n",
       "ZZVGLDBDDYESAB-UHFFFAOYSA-N                                                0.0                                                                                                                                                                                                                       \n",
       "\n",
       "[5281 rows x 3096 columns]"
      ]
     },
     "execution_count": 43,
     "metadata": {},
     "output_type": "execute_result"
    }
   ],
   "source": [
    "adj_edges.pivot(index = 'InChiKey', columns = 'target_aa_code', values = 'Y').fillna(0)"
   ]
  },
  {
   "cell_type": "code",
   "execution_count": 139,
   "metadata": {},
   "outputs": [],
   "source": [
    "adj_edges.to_csv(f'/data/sars-busters/{OUTPUT_DIR}/adj_matrix_train_{VERSION}.csv')"
   ]
  },
  {
   "cell_type": "code",
   "execution_count": 140,
   "metadata": {},
   "outputs": [
    {
     "data": {
      "text/plain": [
       "'/data/sars-busters/interactions/adj_matrix_train_07.csv'"
      ]
     },
     "execution_count": 140,
     "metadata": {},
     "output_type": "execute_result"
    }
   ],
   "source": [
    "f'/data/sars-busters/{OUTPUT_DIR}/adj_matrix_train_{VERSION}.csv'"
   ]
  },
  {
   "cell_type": "code",
   "execution_count": 232,
   "metadata": {},
   "outputs": [
    {
     "name": "stderr",
     "output_type": "stream",
     "text": [
      "/miniconda/lib/python3.6/site-packages/ipykernel_launcher.py:2: SettingWithCopyWarning: \n",
      "A value is trying to be set on a copy of a slice from a DataFrame.\n",
      "Try using .loc[row_indexer,col_indexer] = value instead\n",
      "\n",
      "See the caveats in the documentation: https://pandas.pydata.org/pandas-docs/stable/user_guide/indexing.html#returning-a-view-versus-a-copy\n",
      "  \n"
     ]
    }
   ],
   "source": [
    "adj_edges = selected_interactions\n",
    "adj_edges['fill'] = np.nan"
   ]
  },
  {
   "cell_type": "code",
   "execution_count": 190,
   "metadata": {},
   "outputs": [],
   "source": [
    "adj_edges = adj_edges.pivot(index = 'InChiKey', columns = 'target_aa_code', values = 'fill')"
   ]
  },
  {
   "cell_type": "code",
   "execution_count": 193,
   "metadata": {},
   "outputs": [
    {
     "data": {
      "text/plain": [
       "(7229, 4209)"
      ]
     },
     "execution_count": 193,
     "metadata": {},
     "output_type": "execute_result"
    }
   ],
   "source": [
    "adj_edges.shape"
   ]
  },
  {
   "cell_type": "code",
   "execution_count": 233,
   "metadata": {},
   "outputs": [],
   "source": [
    "adj_edges_pos = adj_edges.pivot(index = 'InChiKey', columns = 'target_aa_code', values = 'fill')\n",
    "adj_edges_neg = adj_edges.pivot(index = 'InChiKey', columns = 'target_aa_code', values = 'fill')"
   ]
  },
  {
   "cell_type": "code",
   "execution_count": 234,
   "metadata": {},
   "outputs": [
    {
     "data": {
      "application/vnd.jupyter.widget-view+json": {
       "model_id": "95351887164d437baca2dae5d53e4285",
       "version_major": 2,
       "version_minor": 0
      },
      "text/plain": [
       "HBox(children=(FloatProgress(value=0.0, max=21573.0), HTML(value='')))"
      ]
     },
     "metadata": {},
     "output_type": "display_data"
    },
    {
     "name": "stdout",
     "output_type": "stream",
     "text": [
      "\n"
     ]
    }
   ],
   "source": [
    "for i,a in tqdm(selected_interactions[(selected_interactions['Y'] == 1)][['InChiKey', 'target_aa_code']].values):\n",
    "    \n",
    "    adj_edges_pos.loc[i,a] = 1"
   ]
  },
  {
   "cell_type": "code",
   "execution_count": 235,
   "metadata": {},
   "outputs": [
    {
     "data": {
      "application/vnd.jupyter.widget-view+json": {
       "model_id": "cac5ee5475474acfaa7d41f9a48b1e97",
       "version_major": 2,
       "version_minor": 0
      },
      "text/plain": [
       "HBox(children=(FloatProgress(value=0.0, max=54428.0), HTML(value='')))"
      ]
     },
     "metadata": {},
     "output_type": "display_data"
    },
    {
     "name": "stdout",
     "output_type": "stream",
     "text": [
      "\n"
     ]
    }
   ],
   "source": [
    "for i,a in tqdm(selected_interactions[(selected_interactions['Y'] == 0)][['InChiKey', 'target_aa_code']].values):\n",
    "    \n",
    "    adj_edges_neg.loc[i,a] = 1"
   ]
  },
  {
   "cell_type": "code",
   "execution_count": 236,
   "metadata": {},
   "outputs": [],
   "source": [
    "adj_edges_pos = adj_edges_pos.fillna(0)\n",
    "\n",
    "adj_edges_neg = adj_edges_neg.fillna(0)"
   ]
  },
  {
   "cell_type": "code",
   "execution_count": 237,
   "metadata": {},
   "outputs": [
    {
     "data": {
      "text/plain": [
       "(7229, 4209)"
      ]
     },
     "execution_count": 237,
     "metadata": {},
     "output_type": "execute_result"
    }
   ],
   "source": [
    "adj_edges_pos.shape"
   ]
  },
  {
   "cell_type": "code",
   "execution_count": 238,
   "metadata": {},
   "outputs": [
    {
     "data": {
      "text/plain": [
       "(7229, 4209)"
      ]
     },
     "execution_count": 238,
     "metadata": {},
     "output_type": "execute_result"
    }
   ],
   "source": [
    "adj_edges_neg.shape"
   ]
  },
  {
   "cell_type": "code",
   "execution_count": 242,
   "metadata": {},
   "outputs": [],
   "source": []
  },
  {
   "cell_type": "code",
   "execution_count": 239,
   "metadata": {},
   "outputs": [
    {
     "data": {
      "text/plain": [
       "0    54428\n",
       "1    21573\n",
       "Name: Y, dtype: int64"
      ]
     },
     "execution_count": 239,
     "metadata": {},
     "output_type": "execute_result"
    }
   ],
   "source": [
    "selected_interactions['Y'].value_counts()"
   ]
  },
  {
   "cell_type": "code",
   "execution_count": 240,
   "metadata": {},
   "outputs": [
    {
     "data": {
      "text/plain": [
       "21573.0"
      ]
     },
     "execution_count": 240,
     "metadata": {},
     "output_type": "execute_result"
    }
   ],
   "source": [
    "np.array(adj_edges_pos).sum()"
   ]
  },
  {
   "cell_type": "code",
   "execution_count": 241,
   "metadata": {},
   "outputs": [
    {
     "data": {
      "text/plain": [
       "54428.0"
      ]
     },
     "execution_count": 241,
     "metadata": {},
     "output_type": "execute_result"
    }
   ],
   "source": [
    "np.array(adj_edges_neg).sum()"
   ]
  },
  {
   "cell_type": "code",
   "execution_count": null,
   "metadata": {},
   "outputs": [],
   "source": [
    "adj_edges_neg.to_csv(f'/data/sars-busters/{OUTPUT_DIR}/adj_neg_matrix_train_{VERSION}.csv')\n",
    "adj_edges_pos.to_csv(f'/data/sars-busters/{OUTPUT_DIR}/adj_pos_matrix_train_{VERSION}.csv')"
   ]
  },
  {
   "cell_type": "markdown",
   "metadata": {},
   "source": [
    "## A^3"
   ]
  },
  {
   "cell_type": "code",
   "execution_count": 71,
   "metadata": {},
   "outputs": [],
   "source": [
    "adj_edges = train_interactions[train_interactions['unseen'] == 'edges'].pivot(index = 'InChiKey', columns = 'target_aa_code', values = 'Y').fillna(0)\n"
   ]
  },
  {
   "cell_type": "code",
   "execution_count": 72,
   "metadata": {},
   "outputs": [
    {
     "data": {
      "text/html": [
       "<div>\n",
       "<style scoped>\n",
       "    .dataframe tbody tr th:only-of-type {\n",
       "        vertical-align: middle;\n",
       "    }\n",
       "\n",
       "    .dataframe tbody tr th {\n",
       "        vertical-align: top;\n",
       "    }\n",
       "\n",
       "    .dataframe thead th {\n",
       "        text-align: right;\n",
       "    }\n",
       "</style>\n",
       "<table border=\"1\" class=\"dataframe\">\n",
       "  <thead>\n",
       "    <tr style=\"text-align: right;\">\n",
       "      <th>target_aa_code</th>\n",
       "      <th>AAACPRGQGRTLVSGLIYYITGSSKTNTEEKLMDFLLKEQKYNKLIRPATNSSQLVSIELQVSLAQLISVNEREQIMTTNVWLKQEWTDYRLAWDPSKYQGVKILRIPAKCIWLPDIVLYNNADGTYEVSLYTNAVVRFNGSIFWLPPAIYKSACKIEVKHFPFDQQNCTLKFRSWTYDHTEIDLVLKNAMASMDDFTPSGEWDIVALPGRRTINPLDPSYVDVTYDFIIKRKPLFYTINLIIPCVLITSLAILVFYLPSDCGEKMTLCISVLLALTVFLLLISKIVPPTSLDVPLIGKYLMFTMVLVTFSIVTSVCVLNVHHRSPSTHSMPPWVKLVFLKRLPTFLFMNRPENHPARQRPGPRRRNRAEATSPAELYKNSMYFVNPASAGKIQDTADGTGGQRDFRLRSSKKYQPEVQEAIDGVSFIAEHMKSDDSDQSVIEDWKYVAMVVDRLFLWIFVFVCVLGTVGLFLPPLFQNHSPPESP</th>\n",
       "      <th>AAMRYTEARLTPLAMEMLREIDEETVDFIPNYDGRVQEPTVLPSRFPNLLANGSGGIAVGMATNIPPHNLRELADAVFWALENHDADEEETLAAVMGRVKGPDFPTAGLIVGSQGTADAYKTGRGSIRMRGVVEVEEDSRGRTSLVITELPYQVNH</th>\n",
       "      <th>AAPYLKTKFICVTPTTCSNTIDLPMSPRTLDSLMQFGNGEGAEPSAGGQF</th>\n",
       "      <th>ADNLAEFHVQNQECDSCHTPDGELSNDSLTYENTQCVSCHGTLEEVAETTKHEHYNAHASHFPGEVACTSCHSAHEKSMVYCDSCHSFDFNMPYAKKWQRDEPTIAELAKDKSERQAALASAPHDTVDVVVVGSGGAGFSAAISATDSGAKVILIEKEPVIGGNAKLAAGGMNAAWTDQQKAKKITDSPELMFEDTMKGGQNINDPALVKVLSSHSKDSVDWMTAMGADLTDVGMMGGASVNRAHRPTGGAGVGAHVVQVLYDNAVKRNIDLRMNTRGIEVLKDDKGTVKGILVKGMYKGYYWVKADAVILATGGFAKNNERVAKLDPSLKGFISTNQPGAVGDGLDVAENAGGALKDMQYIQAHPTLSVKGGVMVTEAVRGNGAILVNREGKRFVNEITTRDKASAAILAQTGKSAYLIFDDSVRKSLSKIDKYIGLGVAPTADSLVKLGKMEGIDGKALTETVARYNSLVSSGKDTDFERPNLPRALNEGNYYAIEVTPGVHHTMGGVMIDTKAEVMNAKKQVIPGLYGAGEVTGGVHGANRLGGNAISDIITFGRLAGEEAAKYSKKN</th>\n",
       "      <th>ADSATPHLDAVEQTLRQVSPGLEGDVWERTSGNKLDGSAADPSDWLLQTPGCWGDDKCADRVGTKRLLAKMTENIGNATRTVDISTLAPFPNGAFQDAIVAGLKESAAKGNKLKVRILVGAAPVYHMNVIPSKYRDELTAKLGKAAENITLNVASMTTSKTAFSWNHSKILVVDGQSALTGGINSWKDDYLDTTHPVSDVDLALTGPAAGSAGRYLDTLWTWTCQNKSNIASVWFAASGNAGCMPTMHKDTNPKASPATGNVPVIAVGGLGVGIKDVDPKSTFRPDLPTASDTKCVVGLHDNTNADRDYDTVNPEESALRALVASAKGHIEISQQDLNATCPPLPRYDIRLYDALAAKMAAGVKVRIVVSDPANRGAVGSGGYSQIKSLSEISDTLRNRLANITGGQQAAKTAMCSNLQLATFRSSPNGKWADGHPYAQHHKLVSVDSSTFYIGSKNLYPSWLQDFGYIVESPEAAKQLDAKLLDPQWKYSQETATVDYARGICNA</th>\n",
       "      <th>ADTKEVLEAREAYFKSLGKSMKAMTGVAKSFDAEAAKAEAAALEKILATDVAPLFPAGTSSTDLPGQTEAKAAIWTNMADFGAKGKAMNDAGAEVIAAANAGDATAFGAALQKLGGTCKACHDDYREED</th>\n",
       "      <th>AESTLGAAAAQSGRYFGTAIASGKLGDSAYTTIASREFNMVTAENEMKIDATEPQRGQFNFSAGDRVYNWAVQNGKQVRGHTLAWHSQQPGWMQSLSGSTLRQAMIDHINGVMGHYKGKIAQWDVVNEAFSDDGSGGRRDSNLQRTGNDWIEVAFRTARAADPAAKLCYNDYNIENWTWAKTQGVYNMVRDFKQRGVPIDCVGFQSHFNSGSPYNSNFRTTLQNFAALGVDVAITELDIQGASSSTYAAVTNDCLAVSRCLGITVWGVRDTDSWRSGDTPLLFNGDGSKKAAYTAVLNALNGGSSTPPPSGGGQIKGVGSGRCLDVPNASTTDGTQVQLYDCHSATNQQWTYTDAGELRVYGDKCLDAAGTGNGTKVQIYSCWGGDNQKWRLNSDGSIVGVQSGLCLDAVGGGTANGTLIQLYSCSNGSNQRWTRT</th>\n",
       "      <th>AEVLTSEQAEELHKHVIDGTRVFLVIAAIAHFLAFTLTPWLH</th>\n",
       "      <th>AGVPFNTKTPYGPT</th>\n",
       "      <th>AHNIVLYTGAKMPILGLGTWKSPPGKVTEAVKVAIDLGYRHIDCAHVYQNENEVGLALQAKLQEQVVKREDLFIVSKLWCTYHDKDLVKGACQKTLSDLKLDYLDLYLIHWPTGFKPGKDFFPLDEDGNVIPSEKDFVDTWTAMEELVDEGLVKAIGVSNFNHLQVEKILNKPGLKYKPAVNQIECHPYLTQEKLIQYCNSKGIVVTAYSPLGSPDRPWAKPEDPSILEDPRIKAIADKYNKTTAQVLIRFPIQRNLIVIPKSVTPERIAENFQVFDFELDKEDMNTLLSYNRDWRACALVSCASHRDYPFHEEF</th>\n",
       "      <th>...</th>\n",
       "      <th>SMSYTWTGALITPCAAEESKLPINALSNSLLRHHNMVYATTSRSASLRQKKVTFDRLQVLDDHYRDVLKEMKAKASTVKAKLLSVEEACKLTPPHSAKSKFGYGAKDVRNLSSKAVNHIRSVWKDLLEDTETPIDTTIMAKNEVFCVQPEKGGRKPARLIVFPDLGVRVCEKMALYDVVSTLPQAVMGSSYGFQYSPGQRVEFLVNTWKSKKCPMGFSYDTRCFDSTVTENDIRVEESIYQCCDLAPEARQAIRSLTERLYIGGPLTNSKGQNCGYRRCRASGVLTTSCGNTLTCYLKASAACRAAKLQDCTMLVCGDDLVVICESAGTQEDAASLRAFTEAMTRYSAPPGDPPQPEYDLELITSCSSNVSVAHDASGKRVYYLTRDPTTPLARAAWETARHTPVNSWLGNIIMYAPTLWARMILMTHFFSILLAQEQLEKALDCQIYGACYSIEPLDLPQIIQRLHGLSAFSLHSYSPGEINRVASCLRKLGVPPLRVWRHRARSVRARLLSQGGRAATCGKYLFNWAVRTKLKLTPIPAASQLDLSSWFVAGYSGGDIYHSLSRARPRWFMWCLLLLSVGVGIYLLPNR</th>\n",
       "      <th>SNLPPRIMAAGGLQMIGSMSKDMYQIMDEIKEGIQYVFQTRNPLTLVISGSGHCALEAALVNVLEPGDSFLVGANGIWGQRAVDIGERIGARVHPMTKDPGGHYTLQEVEEGLAQHKPVLLFLTHGESSTGVLQPLDGFGELCHRYKCLLLVDSVASLGGTPLYMDRQGIDILYSGSQKALNAPPGTSLIFFSDKAKKKMYSRKTKPFSFYLDIKWLANFWGCDDQPRMYHHTIPVISLYSLRESLALIAEQGLENSWRQHREAAAYLHGRLQALGLQLFVKDPALRLPTVTTVAVPAGYDWRDIVSYVIDHFDIEIMGGLGPSTGKVLRIGLLGCNATRENVDRVTEALRAALQHCKANL</th>\n",
       "      <th>SNRSLNATATQGAWDPGTLQALKIALVVLLSIITLATVLSNAFVLTTIFLTRKLHTPANCLIGSLAMTDLLVSILVMPISIAYTTTHTWSFGQLLCDIWLSSDITCCTASILHLCVIAL</th>\n",
       "      <th>TAWTFLKAMQKCSKKREARGSREAPETNFPDTTEESAQQICCTRDSSDSKSVPRSERNKKGIQCQGEGSSRGSQPGQFVGVTYNLEKRPTTIVLINDTPLNVLLDTGADTSVLTTAHYNRLKYRGRKYQGTGIIGVGGNVETFSTPVTIKKKGRHIKTRMLVADIPVTILGRDILQDLGAKLVLAQLSKEIKFRKIELKEGTMGPKIPQWPLTKEKLEGAKETVQRLLSEGKISEASDNNPYNSPIFVIKKRSGKWRLLQDLRELNKTVQVGTEISRGLPHPGGLIKCKHMTVLDIGDAYFTIPLDPEFRPYTAFTIPSINHQEPDKRYVWKCLPQGFVLSPYIYQKTLQEILQPFRERYPEVQLYQYMDDLFVGSNGSKKQHKELIIELRAILQKGFETPDDKLQEVPPYSWLGYQLCPENWKVQKMQLDMVKNPTLNDVQKLMGNITWMSSGVPGLTVKHIAATTKGCLELNQKVIWTEEAQKELEENNEKIKNAQGLQYYNPEEEMLCEVEITKNYEATYVIKQSQGILWAGKKIMKANKGWSTVKNLMLLLQHVATESITRVGKCPTFKVPFTKEQVMWEMQKGWYYSWLPEIVYTHQVVHDDWRMKLVEEPTSGITIYTDGGKQNGEGIAAYVTSNGRTKQKRLGPVTHQVAERMAIQMALEDTRDKQVNIVTDSYYCWKNITEGLGLEGPQNPWWPIIQNIREKEIVYFAWVPGHKGIYGNQLADEAAKIKEEIMLAYQGTQIKEKRDEDAGFDLCVPYDIMIPVSDTKIIPTDVKIQVPPNSFGWVTGKSSMAKQGLLINGGIIDEGYTGEIQVICTNIGKSNIKLIEGQKFAQLIILQHHSNSRQPWDENKISQRGDKGFGSTGVFWVENIQEAQDEHENWHTSPKILARNYKIPLTVAKQITQECPHCTKQGSGPAGCVMRSPNHWQADCTHLDNKIILHFVESNSGYIHATLLSKENALCTSLAILEWARLFSPKSLHTDNGTNFVAEPVVNLLKFLKIAHTTGIPYHPESQGIVERANRTLKEKIQSHRDNTQTLEAALQLALITCNKGRESMGGQTPWEVFITNQAQVIHEKLLLQQAQSSKKFCFYKIPGEHDWKGPTRVLWKGDGAVVVNDEGKGIIAVPLTRTKLLIKPN</th>\n",
       "      <th>TLSILVAHDLQRVIGFENQLPWHLPNDLKHVKKLSTGHTLVMGRKTFESIGKPLPNRRNVVLTSDTSFNVEGVDVIHSIEDIYQLPGHVFIFGGQTLFEEMIDKVDDMYITVIEGKFRGDTFFPPYTFEDWEVASSVEGKLDEKNTIPHTFLHLIRK</th>\n",
       "      <th>VVKDEHQVFKWDGQTRDIATWNRDHNLITAMKYSVVPVYQEFARQIGEARMSKMLHAFDYGNEDISGNVDSFWLDGGIRISATEQISFLRKLYHNKLHVSERSQRIVKQAMLTEANGDYIIRAKTGYSTRIEPKIGWWVGWVELD</th>\n",
       "      <th>XXXXXDXAPEARQAIRSLTERLYXGGPLTNSKGQNCGYRRCRASGVLTTSCXNTLTCYLKASAACRAAKLQDCT</th>\n",
       "      <th>YCYICHSLKYDRWYSNRNSLCCVFLICVLTLVAIVPNLCMGTLQYDPRIYSCTFAQSVSSAYTIAVVVFHFLVPMVIVIFRYLRIWVLVLQIRWRAKPENNPRLKPQDFRNFVTMFVVFVLFAICWAPLNFIGLAVASDPASMAPRIPEWLFVA</th>\n",
       "      <th>YITPVNSLEKHSWYHGPVSRNAAEYLLSSGINGSFLVRESESSPGQRSISLRYEGRVYHYRINTASDGKLYVSSESRFNTLAELVHHHSTVADGLITTLHYPAPKRNKPTIYGVSPNYDKWEMERTDITMKHKLGGGQYGEVYEGVWKKYSLTVAVKTLKEDTMEVEEFLKEAAVMKEIKHPNLVQLLGVCTREPPFYIITEFMTYGNLLDYLRECNRQEVSAVVLLYMATQISSAMEYLEKKNFIHRDLAARNCLVGENHLVKVADFGLSRLMTGDTYTAHAGAKFPIKWTAPESLAYNKFSIKSDVWAFGVLLWEIATYGMSPYPGIDLSQVYELLEKDYRMERPEGCPEKVYELMRACWQWNPSDRPSFAEIHQAFETMFQESSISDEVEKELGKRGTRGGAGSMLQAPELPTKTRTCRRAAEQKASPPSLTPKLLRRQVTASPSSGLSHKKEATKGSASGMGTPATAEPAPPSNKVGLSKASSEEMRVRRHKHSSESPGRDKGRLAKLKPAPPPPPACTGKAGKPAQSPSQEAGEAGGPTKTKCTSLAMDAVNTDPTKAGPPGEGLRKPVPPSVPKPQSTAKPPGTPTSPVSTPSTAPAPSPLAGDQQPSSAAFIPLISTRVSLRKTRQPPERIASGTITKGVVLDSTEALCLAISRNSEQMASHSAVLEAGKNLYTFCVSYVDSIQQMRNKFAFREAINKLESNLRELQICPATASSGPAATQDFSKLLSSVKEISDIVRR</th>\n",
       "      <th>mgflsgkrilvtgvasklsiaygiaqamhregaelaftyqndklkgrveefaaqlgsdivlqcdvaedasidtmfaelgkvwpkfdgfvhsigfapgdqldgdyvnavtregfkiahdissysfvamakacrsmlnpgsalltlsylgaeraipnynvmglakasleanvrymanamgpegvrvnaisagpirtlaasgikdfrkmlahceavtpirrtvtiedvgnsaaflcsdlsagisgevvhvdggfsiaamnelelk</th>\n",
       "    </tr>\n",
       "    <tr>\n",
       "      <th>InChiKey</th>\n",
       "      <th></th>\n",
       "      <th></th>\n",
       "      <th></th>\n",
       "      <th></th>\n",
       "      <th></th>\n",
       "      <th></th>\n",
       "      <th></th>\n",
       "      <th></th>\n",
       "      <th></th>\n",
       "      <th></th>\n",
       "      <th></th>\n",
       "      <th></th>\n",
       "      <th></th>\n",
       "      <th></th>\n",
       "      <th></th>\n",
       "      <th></th>\n",
       "      <th></th>\n",
       "      <th></th>\n",
       "      <th></th>\n",
       "      <th></th>\n",
       "      <th></th>\n",
       "    </tr>\n",
       "  </thead>\n",
       "  <tbody>\n",
       "    <tr>\n",
       "      <th>AAADKYXUTOBAGS-XCBNKYQSSA-N</th>\n",
       "      <td>0.0</td>\n",
       "      <td>0.0</td>\n",
       "      <td>0.0</td>\n",
       "      <td>0.0</td>\n",
       "      <td>0.0</td>\n",
       "      <td>0.0</td>\n",
       "      <td>0.0</td>\n",
       "      <td>0.0</td>\n",
       "      <td>0.0</td>\n",
       "      <td>0.0</td>\n",
       "      <td>...</td>\n",
       "      <td>0.0</td>\n",
       "      <td>0.0</td>\n",
       "      <td>0.0</td>\n",
       "      <td>0.0</td>\n",
       "      <td>0.0</td>\n",
       "      <td>0.0</td>\n",
       "      <td>0.0</td>\n",
       "      <td>0.0</td>\n",
       "      <td>0.0</td>\n",
       "      <td>0.0</td>\n",
       "    </tr>\n",
       "    <tr>\n",
       "      <th>AAKJLRGGTJKAMG-UHFFFAOYSA-N</th>\n",
       "      <td>0.0</td>\n",
       "      <td>0.0</td>\n",
       "      <td>0.0</td>\n",
       "      <td>0.0</td>\n",
       "      <td>0.0</td>\n",
       "      <td>0.0</td>\n",
       "      <td>0.0</td>\n",
       "      <td>0.0</td>\n",
       "      <td>0.0</td>\n",
       "      <td>0.0</td>\n",
       "      <td>...</td>\n",
       "      <td>0.0</td>\n",
       "      <td>0.0</td>\n",
       "      <td>0.0</td>\n",
       "      <td>0.0</td>\n",
       "      <td>0.0</td>\n",
       "      <td>0.0</td>\n",
       "      <td>0.0</td>\n",
       "      <td>0.0</td>\n",
       "      <td>0.0</td>\n",
       "      <td>0.0</td>\n",
       "    </tr>\n",
       "    <tr>\n",
       "      <th>AANFHDFOMFRLLR-IBGZPJMESA-N</th>\n",
       "      <td>0.0</td>\n",
       "      <td>0.0</td>\n",
       "      <td>0.0</td>\n",
       "      <td>0.0</td>\n",
       "      <td>0.0</td>\n",
       "      <td>0.0</td>\n",
       "      <td>0.0</td>\n",
       "      <td>0.0</td>\n",
       "      <td>0.0</td>\n",
       "      <td>0.0</td>\n",
       "      <td>...</td>\n",
       "      <td>0.0</td>\n",
       "      <td>0.0</td>\n",
       "      <td>0.0</td>\n",
       "      <td>0.0</td>\n",
       "      <td>0.0</td>\n",
       "      <td>0.0</td>\n",
       "      <td>0.0</td>\n",
       "      <td>0.0</td>\n",
       "      <td>0.0</td>\n",
       "      <td>0.0</td>\n",
       "    </tr>\n",
       "    <tr>\n",
       "      <th>AANFHDFOMFRLLR-LJQANCHMSA-N</th>\n",
       "      <td>0.0</td>\n",
       "      <td>0.0</td>\n",
       "      <td>0.0</td>\n",
       "      <td>0.0</td>\n",
       "      <td>0.0</td>\n",
       "      <td>0.0</td>\n",
       "      <td>0.0</td>\n",
       "      <td>0.0</td>\n",
       "      <td>0.0</td>\n",
       "      <td>0.0</td>\n",
       "      <td>...</td>\n",
       "      <td>0.0</td>\n",
       "      <td>0.0</td>\n",
       "      <td>0.0</td>\n",
       "      <td>0.0</td>\n",
       "      <td>0.0</td>\n",
       "      <td>0.0</td>\n",
       "      <td>0.0</td>\n",
       "      <td>0.0</td>\n",
       "      <td>0.0</td>\n",
       "      <td>0.0</td>\n",
       "    </tr>\n",
       "    <tr>\n",
       "      <th>AANTYZRUJFNZFI-UHFFFAOYSA-N</th>\n",
       "      <td>0.0</td>\n",
       "      <td>0.0</td>\n",
       "      <td>0.0</td>\n",
       "      <td>0.0</td>\n",
       "      <td>0.0</td>\n",
       "      <td>0.0</td>\n",
       "      <td>0.0</td>\n",
       "      <td>0.0</td>\n",
       "      <td>0.0</td>\n",
       "      <td>0.0</td>\n",
       "      <td>...</td>\n",
       "      <td>0.0</td>\n",
       "      <td>0.0</td>\n",
       "      <td>0.0</td>\n",
       "      <td>0.0</td>\n",
       "      <td>0.0</td>\n",
       "      <td>0.0</td>\n",
       "      <td>0.0</td>\n",
       "      <td>0.0</td>\n",
       "      <td>0.0</td>\n",
       "      <td>0.0</td>\n",
       "    </tr>\n",
       "    <tr>\n",
       "      <th>...</th>\n",
       "      <td>...</td>\n",
       "      <td>...</td>\n",
       "      <td>...</td>\n",
       "      <td>...</td>\n",
       "      <td>...</td>\n",
       "      <td>...</td>\n",
       "      <td>...</td>\n",
       "      <td>...</td>\n",
       "      <td>...</td>\n",
       "      <td>...</td>\n",
       "      <td>...</td>\n",
       "      <td>...</td>\n",
       "      <td>...</td>\n",
       "      <td>...</td>\n",
       "      <td>...</td>\n",
       "      <td>...</td>\n",
       "      <td>...</td>\n",
       "      <td>...</td>\n",
       "      <td>...</td>\n",
       "      <td>...</td>\n",
       "      <td>...</td>\n",
       "    </tr>\n",
       "    <tr>\n",
       "      <th>ZZORFUFYDOWNEF-UHFFFAOYSA-N</th>\n",
       "      <td>0.0</td>\n",
       "      <td>0.0</td>\n",
       "      <td>0.0</td>\n",
       "      <td>0.0</td>\n",
       "      <td>0.0</td>\n",
       "      <td>0.0</td>\n",
       "      <td>0.0</td>\n",
       "      <td>0.0</td>\n",
       "      <td>0.0</td>\n",
       "      <td>0.0</td>\n",
       "      <td>...</td>\n",
       "      <td>0.0</td>\n",
       "      <td>0.0</td>\n",
       "      <td>0.0</td>\n",
       "      <td>0.0</td>\n",
       "      <td>0.0</td>\n",
       "      <td>0.0</td>\n",
       "      <td>0.0</td>\n",
       "      <td>0.0</td>\n",
       "      <td>0.0</td>\n",
       "      <td>0.0</td>\n",
       "    </tr>\n",
       "    <tr>\n",
       "      <th>ZZQNEJILGNNOEP-UHFFFAOYSA-N</th>\n",
       "      <td>0.0</td>\n",
       "      <td>0.0</td>\n",
       "      <td>0.0</td>\n",
       "      <td>0.0</td>\n",
       "      <td>0.0</td>\n",
       "      <td>0.0</td>\n",
       "      <td>0.0</td>\n",
       "      <td>0.0</td>\n",
       "      <td>0.0</td>\n",
       "      <td>0.0</td>\n",
       "      <td>...</td>\n",
       "      <td>0.0</td>\n",
       "      <td>0.0</td>\n",
       "      <td>0.0</td>\n",
       "      <td>0.0</td>\n",
       "      <td>0.0</td>\n",
       "      <td>0.0</td>\n",
       "      <td>0.0</td>\n",
       "      <td>0.0</td>\n",
       "      <td>0.0</td>\n",
       "      <td>0.0</td>\n",
       "    </tr>\n",
       "    <tr>\n",
       "      <th>ZZTMFGIGOADCFX-UHFFFAOYSA-N</th>\n",
       "      <td>0.0</td>\n",
       "      <td>0.0</td>\n",
       "      <td>0.0</td>\n",
       "      <td>0.0</td>\n",
       "      <td>0.0</td>\n",
       "      <td>0.0</td>\n",
       "      <td>0.0</td>\n",
       "      <td>0.0</td>\n",
       "      <td>0.0</td>\n",
       "      <td>0.0</td>\n",
       "      <td>...</td>\n",
       "      <td>0.0</td>\n",
       "      <td>0.0</td>\n",
       "      <td>0.0</td>\n",
       "      <td>0.0</td>\n",
       "      <td>0.0</td>\n",
       "      <td>0.0</td>\n",
       "      <td>0.0</td>\n",
       "      <td>0.0</td>\n",
       "      <td>0.0</td>\n",
       "      <td>0.0</td>\n",
       "    </tr>\n",
       "    <tr>\n",
       "      <th>ZZUFCTLCJUWOSV-UHFFFAOYSA-N</th>\n",
       "      <td>0.0</td>\n",
       "      <td>0.0</td>\n",
       "      <td>0.0</td>\n",
       "      <td>0.0</td>\n",
       "      <td>0.0</td>\n",
       "      <td>0.0</td>\n",
       "      <td>0.0</td>\n",
       "      <td>0.0</td>\n",
       "      <td>0.0</td>\n",
       "      <td>0.0</td>\n",
       "      <td>...</td>\n",
       "      <td>0.0</td>\n",
       "      <td>0.0</td>\n",
       "      <td>0.0</td>\n",
       "      <td>0.0</td>\n",
       "      <td>0.0</td>\n",
       "      <td>0.0</td>\n",
       "      <td>0.0</td>\n",
       "      <td>0.0</td>\n",
       "      <td>0.0</td>\n",
       "      <td>0.0</td>\n",
       "    </tr>\n",
       "    <tr>\n",
       "      <th>ZZVGLDBDDYESAB-UHFFFAOYSA-N</th>\n",
       "      <td>0.0</td>\n",
       "      <td>0.0</td>\n",
       "      <td>0.0</td>\n",
       "      <td>0.0</td>\n",
       "      <td>0.0</td>\n",
       "      <td>0.0</td>\n",
       "      <td>0.0</td>\n",
       "      <td>0.0</td>\n",
       "      <td>0.0</td>\n",
       "      <td>0.0</td>\n",
       "      <td>...</td>\n",
       "      <td>0.0</td>\n",
       "      <td>0.0</td>\n",
       "      <td>0.0</td>\n",
       "      <td>0.0</td>\n",
       "      <td>0.0</td>\n",
       "      <td>0.0</td>\n",
       "      <td>0.0</td>\n",
       "      <td>0.0</td>\n",
       "      <td>0.0</td>\n",
       "      <td>0.0</td>\n",
       "    </tr>\n",
       "  </tbody>\n",
       "</table>\n",
       "<p>6722 rows × 3548 columns</p>\n",
       "</div>"
      ],
      "text/plain": [
       "target_aa_code               AAACPRGQGRTLVSGLIYYITGSSKTNTEEKLMDFLLKEQKYNKLIRPATNSSQLVSIELQVSLAQLISVNEREQIMTTNVWLKQEWTDYRLAWDPSKYQGVKILRIPAKCIWLPDIVLYNNADGTYEVSLYTNAVVRFNGSIFWLPPAIYKSACKIEVKHFPFDQQNCTLKFRSWTYDHTEIDLVLKNAMASMDDFTPSGEWDIVALPGRRTINPLDPSYVDVTYDFIIKRKPLFYTINLIIPCVLITSLAILVFYLPSDCGEKMTLCISVLLALTVFLLLISKIVPPTSLDVPLIGKYLMFTMVLVTFSIVTSVCVLNVHHRSPSTHSMPPWVKLVFLKRLPTFLFMNRPENHPARQRPGPRRRNRAEATSPAELYKNSMYFVNPASAGKIQDTADGTGGQRDFRLRSSKKYQPEVQEAIDGVSFIAEHMKSDDSDQSVIEDWKYVAMVVDRLFLWIFVFVCVLGTVGLFLPPLFQNHSPPESP  \\\n",
       "InChiKey                                                                                                                                                                                                                                                                                                                                                                                                                                                                                                                              \n",
       "AAADKYXUTOBAGS-XCBNKYQSSA-N                                                0.0                                                                                                                                                                                                                                                                                                                                                                                                                                                        \n",
       "AAKJLRGGTJKAMG-UHFFFAOYSA-N                                                0.0                                                                                                                                                                                                                                                                                                                                                                                                                                                        \n",
       "AANFHDFOMFRLLR-IBGZPJMESA-N                                                0.0                                                                                                                                                                                                                                                                                                                                                                                                                                                        \n",
       "AANFHDFOMFRLLR-LJQANCHMSA-N                                                0.0                                                                                                                                                                                                                                                                                                                                                                                                                                                        \n",
       "AANTYZRUJFNZFI-UHFFFAOYSA-N                                                0.0                                                                                                                                                                                                                                                                                                                                                                                                                                                        \n",
       "...                                                                        ...                                                                                                                                                                                                                                                                                                                                                                                                                                                        \n",
       "ZZORFUFYDOWNEF-UHFFFAOYSA-N                                                0.0                                                                                                                                                                                                                                                                                                                                                                                                                                                        \n",
       "ZZQNEJILGNNOEP-UHFFFAOYSA-N                                                0.0                                                                                                                                                                                                                                                                                                                                                                                                                                                        \n",
       "ZZTMFGIGOADCFX-UHFFFAOYSA-N                                                0.0                                                                                                                                                                                                                                                                                                                                                                                                                                                        \n",
       "ZZUFCTLCJUWOSV-UHFFFAOYSA-N                                                0.0                                                                                                                                                                                                                                                                                                                                                                                                                                                        \n",
       "ZZVGLDBDDYESAB-UHFFFAOYSA-N                                                0.0                                                                                                                                                                                                                                                                                                                                                                                                                                                        \n",
       "\n",
       "target_aa_code               AAMRYTEARLTPLAMEMLREIDEETVDFIPNYDGRVQEPTVLPSRFPNLLANGSGGIAVGMATNIPPHNLRELADAVFWALENHDADEEETLAAVMGRVKGPDFPTAGLIVGSQGTADAYKTGRGSIRMRGVVEVEEDSRGRTSLVITELPYQVNH  \\\n",
       "InChiKey                                                                                                                                                                                    \n",
       "AAADKYXUTOBAGS-XCBNKYQSSA-N                                                0.0                                                                                                              \n",
       "AAKJLRGGTJKAMG-UHFFFAOYSA-N                                                0.0                                                                                                              \n",
       "AANFHDFOMFRLLR-IBGZPJMESA-N                                                0.0                                                                                                              \n",
       "AANFHDFOMFRLLR-LJQANCHMSA-N                                                0.0                                                                                                              \n",
       "AANTYZRUJFNZFI-UHFFFAOYSA-N                                                0.0                                                                                                              \n",
       "...                                                                        ...                                                                                                              \n",
       "ZZORFUFYDOWNEF-UHFFFAOYSA-N                                                0.0                                                                                                              \n",
       "ZZQNEJILGNNOEP-UHFFFAOYSA-N                                                0.0                                                                                                              \n",
       "ZZTMFGIGOADCFX-UHFFFAOYSA-N                                                0.0                                                                                                              \n",
       "ZZUFCTLCJUWOSV-UHFFFAOYSA-N                                                0.0                                                                                                              \n",
       "ZZVGLDBDDYESAB-UHFFFAOYSA-N                                                0.0                                                                                                              \n",
       "\n",
       "target_aa_code               AAPYLKTKFICVTPTTCSNTIDLPMSPRTLDSLMQFGNGEGAEPSAGGQF  \\\n",
       "InChiKey                                                                          \n",
       "AAADKYXUTOBAGS-XCBNKYQSSA-N                                                0.0    \n",
       "AAKJLRGGTJKAMG-UHFFFAOYSA-N                                                0.0    \n",
       "AANFHDFOMFRLLR-IBGZPJMESA-N                                                0.0    \n",
       "AANFHDFOMFRLLR-LJQANCHMSA-N                                                0.0    \n",
       "AANTYZRUJFNZFI-UHFFFAOYSA-N                                                0.0    \n",
       "...                                                                        ...    \n",
       "ZZORFUFYDOWNEF-UHFFFAOYSA-N                                                0.0    \n",
       "ZZQNEJILGNNOEP-UHFFFAOYSA-N                                                0.0    \n",
       "ZZTMFGIGOADCFX-UHFFFAOYSA-N                                                0.0    \n",
       "ZZUFCTLCJUWOSV-UHFFFAOYSA-N                                                0.0    \n",
       "ZZVGLDBDDYESAB-UHFFFAOYSA-N                                                0.0    \n",
       "\n",
       "target_aa_code               ADNLAEFHVQNQECDSCHTPDGELSNDSLTYENTQCVSCHGTLEEVAETTKHEHYNAHASHFPGEVACTSCHSAHEKSMVYCDSCHSFDFNMPYAKKWQRDEPTIAELAKDKSERQAALASAPHDTVDVVVVGSGGAGFSAAISATDSGAKVILIEKEPVIGGNAKLAAGGMNAAWTDQQKAKKITDSPELMFEDTMKGGQNINDPALVKVLSSHSKDSVDWMTAMGADLTDVGMMGGASVNRAHRPTGGAGVGAHVVQVLYDNAVKRNIDLRMNTRGIEVLKDDKGTVKGILVKGMYKGYYWVKADAVILATGGFAKNNERVAKLDPSLKGFISTNQPGAVGDGLDVAENAGGALKDMQYIQAHPTLSVKGGVMVTEAVRGNGAILVNREGKRFVNEITTRDKASAAILAQTGKSAYLIFDDSVRKSLSKIDKYIGLGVAPTADSLVKLGKMEGIDGKALTETVARYNSLVSSGKDTDFERPNLPRALNEGNYYAIEVTPGVHHTMGGVMIDTKAEVMNAKKQVIPGLYGAGEVTGGVHGANRLGGNAISDIITFGRLAGEEAAKYSKKN  \\\n",
       "InChiKey                                                                                                                                                                                                                                                                                                                                                                                                                                                                                                                                                                                                                   \n",
       "AAADKYXUTOBAGS-XCBNKYQSSA-N                                                0.0                                                                                                                                                                                                                                                                                                                                                                                                                                                                                                                                             \n",
       "AAKJLRGGTJKAMG-UHFFFAOYSA-N                                                0.0                                                                                                                                                                                                                                                                                                                                                                                                                                                                                                                                             \n",
       "AANFHDFOMFRLLR-IBGZPJMESA-N                                                0.0                                                                                                                                                                                                                                                                                                                                                                                                                                                                                                                                             \n",
       "AANFHDFOMFRLLR-LJQANCHMSA-N                                                0.0                                                                                                                                                                                                                                                                                                                                                                                                                                                                                                                                             \n",
       "AANTYZRUJFNZFI-UHFFFAOYSA-N                                                0.0                                                                                                                                                                                                                                                                                                                                                                                                                                                                                                                                             \n",
       "...                                                                        ...                                                                                                                                                                                                                                                                                                                                                                                                                                                                                                                                             \n",
       "ZZORFUFYDOWNEF-UHFFFAOYSA-N                                                0.0                                                                                                                                                                                                                                                                                                                                                                                                                                                                                                                                             \n",
       "ZZQNEJILGNNOEP-UHFFFAOYSA-N                                                0.0                                                                                                                                                                                                                                                                                                                                                                                                                                                                                                                                             \n",
       "ZZTMFGIGOADCFX-UHFFFAOYSA-N                                                0.0                                                                                                                                                                                                                                                                                                                                                                                                                                                                                                                                             \n",
       "ZZUFCTLCJUWOSV-UHFFFAOYSA-N                                                0.0                                                                                                                                                                                                                                                                                                                                                                                                                                                                                                                                             \n",
       "ZZVGLDBDDYESAB-UHFFFAOYSA-N                                                0.0                                                                                                                                                                                                                                                                                                                                                                                                                                                                                                                                             \n",
       "\n",
       "target_aa_code               ADSATPHLDAVEQTLRQVSPGLEGDVWERTSGNKLDGSAADPSDWLLQTPGCWGDDKCADRVGTKRLLAKMTENIGNATRTVDISTLAPFPNGAFQDAIVAGLKESAAKGNKLKVRILVGAAPVYHMNVIPSKYRDELTAKLGKAAENITLNVASMTTSKTAFSWNHSKILVVDGQSALTGGINSWKDDYLDTTHPVSDVDLALTGPAAGSAGRYLDTLWTWTCQNKSNIASVWFAASGNAGCMPTMHKDTNPKASPATGNVPVIAVGGLGVGIKDVDPKSTFRPDLPTASDTKCVVGLHDNTNADRDYDTVNPEESALRALVASAKGHIEISQQDLNATCPPLPRYDIRLYDALAAKMAAGVKVRIVVSDPANRGAVGSGGYSQIKSLSEISDTLRNRLANITGGQQAAKTAMCSNLQLATFRSSPNGKWADGHPYAQHHKLVSVDSSTFYIGSKNLYPSWLQDFGYIVESPEAAKQLDAKLLDPQWKYSQETATVDYARGICNA  \\\n",
       "InChiKey                                                                                                                                                                                                                                                                                                                                                                                                                                                                                                                                                  \n",
       "AAADKYXUTOBAGS-XCBNKYQSSA-N                                                0.0                                                                                                                                                                                                                                                                                                                                                                                                                                                                            \n",
       "AAKJLRGGTJKAMG-UHFFFAOYSA-N                                                0.0                                                                                                                                                                                                                                                                                                                                                                                                                                                                            \n",
       "AANFHDFOMFRLLR-IBGZPJMESA-N                                                0.0                                                                                                                                                                                                                                                                                                                                                                                                                                                                            \n",
       "AANFHDFOMFRLLR-LJQANCHMSA-N                                                0.0                                                                                                                                                                                                                                                                                                                                                                                                                                                                            \n",
       "AANTYZRUJFNZFI-UHFFFAOYSA-N                                                0.0                                                                                                                                                                                                                                                                                                                                                                                                                                                                            \n",
       "...                                                                        ...                                                                                                                                                                                                                                                                                                                                                                                                                                                                            \n",
       "ZZORFUFYDOWNEF-UHFFFAOYSA-N                                                0.0                                                                                                                                                                                                                                                                                                                                                                                                                                                                            \n",
       "ZZQNEJILGNNOEP-UHFFFAOYSA-N                                                0.0                                                                                                                                                                                                                                                                                                                                                                                                                                                                            \n",
       "ZZTMFGIGOADCFX-UHFFFAOYSA-N                                                0.0                                                                                                                                                                                                                                                                                                                                                                                                                                                                            \n",
       "ZZUFCTLCJUWOSV-UHFFFAOYSA-N                                                0.0                                                                                                                                                                                                                                                                                                                                                                                                                                                                            \n",
       "ZZVGLDBDDYESAB-UHFFFAOYSA-N                                                0.0                                                                                                                                                                                                                                                                                                                                                                                                                                                                            \n",
       "\n",
       "target_aa_code               ADTKEVLEAREAYFKSLGKSMKAMTGVAKSFDAEAAKAEAAALEKILATDVAPLFPAGTSSTDLPGQTEAKAAIWTNMADFGAKGKAMNDAGAEVIAAANAGDATAFGAALQKLGGTCKACHDDYREED  \\\n",
       "InChiKey                                                                                                                                                         \n",
       "AAADKYXUTOBAGS-XCBNKYQSSA-N                                                0.0                                                                                   \n",
       "AAKJLRGGTJKAMG-UHFFFAOYSA-N                                                0.0                                                                                   \n",
       "AANFHDFOMFRLLR-IBGZPJMESA-N                                                0.0                                                                                   \n",
       "AANFHDFOMFRLLR-LJQANCHMSA-N                                                0.0                                                                                   \n",
       "AANTYZRUJFNZFI-UHFFFAOYSA-N                                                0.0                                                                                   \n",
       "...                                                                        ...                                                                                   \n",
       "ZZORFUFYDOWNEF-UHFFFAOYSA-N                                                0.0                                                                                   \n",
       "ZZQNEJILGNNOEP-UHFFFAOYSA-N                                                0.0                                                                                   \n",
       "ZZTMFGIGOADCFX-UHFFFAOYSA-N                                                0.0                                                                                   \n",
       "ZZUFCTLCJUWOSV-UHFFFAOYSA-N                                                0.0                                                                                   \n",
       "ZZVGLDBDDYESAB-UHFFFAOYSA-N                                                0.0                                                                                   \n",
       "\n",
       "target_aa_code               AESTLGAAAAQSGRYFGTAIASGKLGDSAYTTIASREFNMVTAENEMKIDATEPQRGQFNFSAGDRVYNWAVQNGKQVRGHTLAWHSQQPGWMQSLSGSTLRQAMIDHINGVMGHYKGKIAQWDVVNEAFSDDGSGGRRDSNLQRTGNDWIEVAFRTARAADPAAKLCYNDYNIENWTWAKTQGVYNMVRDFKQRGVPIDCVGFQSHFNSGSPYNSNFRTTLQNFAALGVDVAITELDIQGASSSTYAAVTNDCLAVSRCLGITVWGVRDTDSWRSGDTPLLFNGDGSKKAAYTAVLNALNGGSSTPPPSGGGQIKGVGSGRCLDVPNASTTDGTQVQLYDCHSATNQQWTYTDAGELRVYGDKCLDAAGTGNGTKVQIYSCWGGDNQKWRLNSDGSIVGVQSGLCLDAVGGGTANGTLIQLYSCSNGSNQRWTRT  \\\n",
       "InChiKey                                                                                                                                                                                                                                                                                                                                                                                                                                                                            \n",
       "AAADKYXUTOBAGS-XCBNKYQSSA-N                                                0.0                                                                                                                                                                                                                                                                                                                                                                                                      \n",
       "AAKJLRGGTJKAMG-UHFFFAOYSA-N                                                0.0                                                                                                                                                                                                                                                                                                                                                                                                      \n",
       "AANFHDFOMFRLLR-IBGZPJMESA-N                                                0.0                                                                                                                                                                                                                                                                                                                                                                                                      \n",
       "AANFHDFOMFRLLR-LJQANCHMSA-N                                                0.0                                                                                                                                                                                                                                                                                                                                                                                                      \n",
       "AANTYZRUJFNZFI-UHFFFAOYSA-N                                                0.0                                                                                                                                                                                                                                                                                                                                                                                                      \n",
       "...                                                                        ...                                                                                                                                                                                                                                                                                                                                                                                                      \n",
       "ZZORFUFYDOWNEF-UHFFFAOYSA-N                                                0.0                                                                                                                                                                                                                                                                                                                                                                                                      \n",
       "ZZQNEJILGNNOEP-UHFFFAOYSA-N                                                0.0                                                                                                                                                                                                                                                                                                                                                                                                      \n",
       "ZZTMFGIGOADCFX-UHFFFAOYSA-N                                                0.0                                                                                                                                                                                                                                                                                                                                                                                                      \n",
       "ZZUFCTLCJUWOSV-UHFFFAOYSA-N                                                0.0                                                                                                                                                                                                                                                                                                                                                                                                      \n",
       "ZZVGLDBDDYESAB-UHFFFAOYSA-N                                                0.0                                                                                                                                                                                                                                                                                                                                                                                                      \n",
       "\n",
       "target_aa_code               AEVLTSEQAEELHKHVIDGTRVFLVIAAIAHFLAFTLTPWLH  \\\n",
       "InChiKey                                                                  \n",
       "AAADKYXUTOBAGS-XCBNKYQSSA-N                                         0.0   \n",
       "AAKJLRGGTJKAMG-UHFFFAOYSA-N                                         0.0   \n",
       "AANFHDFOMFRLLR-IBGZPJMESA-N                                         0.0   \n",
       "AANFHDFOMFRLLR-LJQANCHMSA-N                                         0.0   \n",
       "AANTYZRUJFNZFI-UHFFFAOYSA-N                                         0.0   \n",
       "...                                                                 ...   \n",
       "ZZORFUFYDOWNEF-UHFFFAOYSA-N                                         0.0   \n",
       "ZZQNEJILGNNOEP-UHFFFAOYSA-N                                         0.0   \n",
       "ZZTMFGIGOADCFX-UHFFFAOYSA-N                                         0.0   \n",
       "ZZUFCTLCJUWOSV-UHFFFAOYSA-N                                         0.0   \n",
       "ZZVGLDBDDYESAB-UHFFFAOYSA-N                                         0.0   \n",
       "\n",
       "target_aa_code               AGVPFNTKTPYGPT  \\\n",
       "InChiKey                                      \n",
       "AAADKYXUTOBAGS-XCBNKYQSSA-N             0.0   \n",
       "AAKJLRGGTJKAMG-UHFFFAOYSA-N             0.0   \n",
       "AANFHDFOMFRLLR-IBGZPJMESA-N             0.0   \n",
       "AANFHDFOMFRLLR-LJQANCHMSA-N             0.0   \n",
       "AANTYZRUJFNZFI-UHFFFAOYSA-N             0.0   \n",
       "...                                     ...   \n",
       "ZZORFUFYDOWNEF-UHFFFAOYSA-N             0.0   \n",
       "ZZQNEJILGNNOEP-UHFFFAOYSA-N             0.0   \n",
       "ZZTMFGIGOADCFX-UHFFFAOYSA-N             0.0   \n",
       "ZZUFCTLCJUWOSV-UHFFFAOYSA-N             0.0   \n",
       "ZZVGLDBDDYESAB-UHFFFAOYSA-N             0.0   \n",
       "\n",
       "target_aa_code               AHNIVLYTGAKMPILGLGTWKSPPGKVTEAVKVAIDLGYRHIDCAHVYQNENEVGLALQAKLQEQVVKREDLFIVSKLWCTYHDKDLVKGACQKTLSDLKLDYLDLYLIHWPTGFKPGKDFFPLDEDGNVIPSEKDFVDTWTAMEELVDEGLVKAIGVSNFNHLQVEKILNKPGLKYKPAVNQIECHPYLTQEKLIQYCNSKGIVVTAYSPLGSPDRPWAKPEDPSILEDPRIKAIADKYNKTTAQVLIRFPIQRNLIVIPKSVTPERIAENFQVFDFELDKEDMNTLLSYNRDWRACALVSCASHRDYPFHEEF  \\\n",
       "InChiKey                                                                                                                                                                                                                                                                                                                                                   \n",
       "AAADKYXUTOBAGS-XCBNKYQSSA-N                                                0.0                                                                                                                                                                                                                                                                             \n",
       "AAKJLRGGTJKAMG-UHFFFAOYSA-N                                                0.0                                                                                                                                                                                                                                                                             \n",
       "AANFHDFOMFRLLR-IBGZPJMESA-N                                                0.0                                                                                                                                                                                                                                                                             \n",
       "AANFHDFOMFRLLR-LJQANCHMSA-N                                                0.0                                                                                                                                                                                                                                                                             \n",
       "AANTYZRUJFNZFI-UHFFFAOYSA-N                                                0.0                                                                                                                                                                                                                                                                             \n",
       "...                                                                        ...                                                                                                                                                                                                                                                                             \n",
       "ZZORFUFYDOWNEF-UHFFFAOYSA-N                                                0.0                                                                                                                                                                                                                                                                             \n",
       "ZZQNEJILGNNOEP-UHFFFAOYSA-N                                                0.0                                                                                                                                                                                                                                                                             \n",
       "ZZTMFGIGOADCFX-UHFFFAOYSA-N                                                0.0                                                                                                                                                                                                                                                                             \n",
       "ZZUFCTLCJUWOSV-UHFFFAOYSA-N                                                0.0                                                                                                                                                                                                                                                                             \n",
       "ZZVGLDBDDYESAB-UHFFFAOYSA-N                                                0.0                                                                                                                                                                                                                                                                             \n",
       "\n",
       "target_aa_code               ...  \\\n",
       "InChiKey                     ...   \n",
       "AAADKYXUTOBAGS-XCBNKYQSSA-N  ...   \n",
       "AAKJLRGGTJKAMG-UHFFFAOYSA-N  ...   \n",
       "AANFHDFOMFRLLR-IBGZPJMESA-N  ...   \n",
       "AANFHDFOMFRLLR-LJQANCHMSA-N  ...   \n",
       "AANTYZRUJFNZFI-UHFFFAOYSA-N  ...   \n",
       "...                          ...   \n",
       "ZZORFUFYDOWNEF-UHFFFAOYSA-N  ...   \n",
       "ZZQNEJILGNNOEP-UHFFFAOYSA-N  ...   \n",
       "ZZTMFGIGOADCFX-UHFFFAOYSA-N  ...   \n",
       "ZZUFCTLCJUWOSV-UHFFFAOYSA-N  ...   \n",
       "ZZVGLDBDDYESAB-UHFFFAOYSA-N  ...   \n",
       "\n",
       "target_aa_code               SMSYTWTGALITPCAAEESKLPINALSNSLLRHHNMVYATTSRSASLRQKKVTFDRLQVLDDHYRDVLKEMKAKASTVKAKLLSVEEACKLTPPHSAKSKFGYGAKDVRNLSSKAVNHIRSVWKDLLEDTETPIDTTIMAKNEVFCVQPEKGGRKPARLIVFPDLGVRVCEKMALYDVVSTLPQAVMGSSYGFQYSPGQRVEFLVNTWKSKKCPMGFSYDTRCFDSTVTENDIRVEESIYQCCDLAPEARQAIRSLTERLYIGGPLTNSKGQNCGYRRCRASGVLTTSCGNTLTCYLKASAACRAAKLQDCTMLVCGDDLVVICESAGTQEDAASLRAFTEAMTRYSAPPGDPPQPEYDLELITSCSSNVSVAHDASGKRVYYLTRDPTTPLARAAWETARHTPVNSWLGNIIMYAPTLWARMILMTHFFSILLAQEQLEKALDCQIYGACYSIEPLDLPQIIQRLHGLSAFSLHSYSPGEINRVASCLRKLGVPPLRVWRHRARSVRARLLSQGGRAATCGKYLFNWAVRTKLKLTPIPAASQLDLSSWFVAGYSGGDIYHSLSRARPRWFMWCLLLLSVGVGIYLLPNR  \\\n",
       "InChiKey                                                                                                                                                                                                                                                                                                                                                                                                                                                                                                                                                                                                                                       \n",
       "AAADKYXUTOBAGS-XCBNKYQSSA-N                                                0.0                                                                                                                                                                                                                                                                                                                                                                                                                                                                                                                                                                 \n",
       "AAKJLRGGTJKAMG-UHFFFAOYSA-N                                                0.0                                                                                                                                                                                                                                                                                                                                                                                                                                                                                                                                                                 \n",
       "AANFHDFOMFRLLR-IBGZPJMESA-N                                                0.0                                                                                                                                                                                                                                                                                                                                                                                                                                                                                                                                                                 \n",
       "AANFHDFOMFRLLR-LJQANCHMSA-N                                                0.0                                                                                                                                                                                                                                                                                                                                                                                                                                                                                                                                                                 \n",
       "AANTYZRUJFNZFI-UHFFFAOYSA-N                                                0.0                                                                                                                                                                                                                                                                                                                                                                                                                                                                                                                                                                 \n",
       "...                                                                        ...                                                                                                                                                                                                                                                                                                                                                                                                                                                                                                                                                                 \n",
       "ZZORFUFYDOWNEF-UHFFFAOYSA-N                                                0.0                                                                                                                                                                                                                                                                                                                                                                                                                                                                                                                                                                 \n",
       "ZZQNEJILGNNOEP-UHFFFAOYSA-N                                                0.0                                                                                                                                                                                                                                                                                                                                                                                                                                                                                                                                                                 \n",
       "ZZTMFGIGOADCFX-UHFFFAOYSA-N                                                0.0                                                                                                                                                                                                                                                                                                                                                                                                                                                                                                                                                                 \n",
       "ZZUFCTLCJUWOSV-UHFFFAOYSA-N                                                0.0                                                                                                                                                                                                                                                                                                                                                                                                                                                                                                                                                                 \n",
       "ZZVGLDBDDYESAB-UHFFFAOYSA-N                                                0.0                                                                                                                                                                                                                                                                                                                                                                                                                                                                                                                                                                 \n",
       "\n",
       "target_aa_code               SNLPPRIMAAGGLQMIGSMSKDMYQIMDEIKEGIQYVFQTRNPLTLVISGSGHCALEAALVNVLEPGDSFLVGANGIWGQRAVDIGERIGARVHPMTKDPGGHYTLQEVEEGLAQHKPVLLFLTHGESSTGVLQPLDGFGELCHRYKCLLLVDSVASLGGTPLYMDRQGIDILYSGSQKALNAPPGTSLIFFSDKAKKKMYSRKTKPFSFYLDIKWLANFWGCDDQPRMYHHTIPVISLYSLRESLALIAEQGLENSWRQHREAAAYLHGRLQALGLQLFVKDPALRLPTVTTVAVPAGYDWRDIVSYVIDHFDIEIMGGLGPSTGKVLRIGLLGCNATRENVDRVTEALRAALQHCKANL  \\\n",
       "InChiKey                                                                                                                                                                                                                                                                                                                                                                                                 \n",
       "AAADKYXUTOBAGS-XCBNKYQSSA-N                                                0.0                                                                                                                                                                                                                                                                                                                           \n",
       "AAKJLRGGTJKAMG-UHFFFAOYSA-N                                                0.0                                                                                                                                                                                                                                                                                                                           \n",
       "AANFHDFOMFRLLR-IBGZPJMESA-N                                                0.0                                                                                                                                                                                                                                                                                                                           \n",
       "AANFHDFOMFRLLR-LJQANCHMSA-N                                                0.0                                                                                                                                                                                                                                                                                                                           \n",
       "AANTYZRUJFNZFI-UHFFFAOYSA-N                                                0.0                                                                                                                                                                                                                                                                                                                           \n",
       "...                                                                        ...                                                                                                                                                                                                                                                                                                                           \n",
       "ZZORFUFYDOWNEF-UHFFFAOYSA-N                                                0.0                                                                                                                                                                                                                                                                                                                           \n",
       "ZZQNEJILGNNOEP-UHFFFAOYSA-N                                                0.0                                                                                                                                                                                                                                                                                                                           \n",
       "ZZTMFGIGOADCFX-UHFFFAOYSA-N                                                0.0                                                                                                                                                                                                                                                                                                                           \n",
       "ZZUFCTLCJUWOSV-UHFFFAOYSA-N                                                0.0                                                                                                                                                                                                                                                                                                                           \n",
       "ZZVGLDBDDYESAB-UHFFFAOYSA-N                                                0.0                                                                                                                                                                                                                                                                                                                           \n",
       "\n",
       "target_aa_code               SNRSLNATATQGAWDPGTLQALKIALVVLLSIITLATVLSNAFVLTTIFLTRKLHTPANCLIGSLAMTDLLVSILVMPISIAYTTTHTWSFGQLLCDIWLSSDITCCTASILHLCVIAL  \\\n",
       "InChiKey                                                                                                                                               \n",
       "AAADKYXUTOBAGS-XCBNKYQSSA-N                                                0.0                                                                         \n",
       "AAKJLRGGTJKAMG-UHFFFAOYSA-N                                                0.0                                                                         \n",
       "AANFHDFOMFRLLR-IBGZPJMESA-N                                                0.0                                                                         \n",
       "AANFHDFOMFRLLR-LJQANCHMSA-N                                                0.0                                                                         \n",
       "AANTYZRUJFNZFI-UHFFFAOYSA-N                                                0.0                                                                         \n",
       "...                                                                        ...                                                                         \n",
       "ZZORFUFYDOWNEF-UHFFFAOYSA-N                                                0.0                                                                         \n",
       "ZZQNEJILGNNOEP-UHFFFAOYSA-N                                                0.0                                                                         \n",
       "ZZTMFGIGOADCFX-UHFFFAOYSA-N                                                0.0                                                                         \n",
       "ZZUFCTLCJUWOSV-UHFFFAOYSA-N                                                0.0                                                                         \n",
       "ZZVGLDBDDYESAB-UHFFFAOYSA-N                                                0.0                                                                         \n",
       "\n",
       "target_aa_code               TAWTFLKAMQKCSKKREARGSREAPETNFPDTTEESAQQICCTRDSSDSKSVPRSERNKKGIQCQGEGSSRGSQPGQFVGVTYNLEKRPTTIVLINDTPLNVLLDTGADTSVLTTAHYNRLKYRGRKYQGTGIIGVGGNVETFSTPVTIKKKGRHIKTRMLVADIPVTILGRDILQDLGAKLVLAQLSKEIKFRKIELKEGTMGPKIPQWPLTKEKLEGAKETVQRLLSEGKISEASDNNPYNSPIFVIKKRSGKWRLLQDLRELNKTVQVGTEISRGLPHPGGLIKCKHMTVLDIGDAYFTIPLDPEFRPYTAFTIPSINHQEPDKRYVWKCLPQGFVLSPYIYQKTLQEILQPFRERYPEVQLYQYMDDLFVGSNGSKKQHKELIIELRAILQKGFETPDDKLQEVPPYSWLGYQLCPENWKVQKMQLDMVKNPTLNDVQKLMGNITWMSSGVPGLTVKHIAATTKGCLELNQKVIWTEEAQKELEENNEKIKNAQGLQYYNPEEEMLCEVEITKNYEATYVIKQSQGILWAGKKIMKANKGWSTVKNLMLLLQHVATESITRVGKCPTFKVPFTKEQVMWEMQKGWYYSWLPEIVYTHQVVHDDWRMKLVEEPTSGITIYTDGGKQNGEGIAAYVTSNGRTKQKRLGPVTHQVAERMAIQMALEDTRDKQVNIVTDSYYCWKNITEGLGLEGPQNPWWPIIQNIREKEIVYFAWVPGHKGIYGNQLADEAAKIKEEIMLAYQGTQIKEKRDEDAGFDLCVPYDIMIPVSDTKIIPTDVKIQVPPNSFGWVTGKSSMAKQGLLINGGIIDEGYTGEIQVICTNIGKSNIKLIEGQKFAQLIILQHHSNSRQPWDENKISQRGDKGFGSTGVFWVENIQEAQDEHENWHTSPKILARNYKIPLTVAKQITQECPHCTKQGSGPAGCVMRSPNHWQADCTHLDNKIILHFVESNSGYIHATLLSKENALCTSLAILEWARLFSPKSLHTDNGTNFVAEPVVNLLKFLKIAHTTGIPYHPESQGIVERANRTLKEKIQSHRDNTQTLEAALQLALITCNKGRESMGGQTPWEVFITNQAQVIHEKLLLQQAQSSKKFCFYKIPGEHDWKGPTRVLWKGDGAVVVNDEGKGIIAVPLTRTKLLIKPN  \\\n",
       "InChiKey                                                                                                                                                                                                                                                                                                                                                                                                                                                                                                                                                                                                                                                                                                                                                                                                                                                                                                                                                                                                                                                                                                                                                                                                                 \n",
       "AAADKYXUTOBAGS-XCBNKYQSSA-N                                                0.0                                                                                                                                                                                                                                                                                                                                                                                                                                                                                                                                                                                                                                                                                                                                                                                                                                                                                                                                                                                                                                                                                                                                           \n",
       "AAKJLRGGTJKAMG-UHFFFAOYSA-N                                                0.0                                                                                                                                                                                                                                                                                                                                                                                                                                                                                                                                                                                                                                                                                                                                                                                                                                                                                                                                                                                                                                                                                                                                           \n",
       "AANFHDFOMFRLLR-IBGZPJMESA-N                                                0.0                                                                                                                                                                                                                                                                                                                                                                                                                                                                                                                                                                                                                                                                                                                                                                                                                                                                                                                                                                                                                                                                                                                                           \n",
       "AANFHDFOMFRLLR-LJQANCHMSA-N                                                0.0                                                                                                                                                                                                                                                                                                                                                                                                                                                                                                                                                                                                                                                                                                                                                                                                                                                                                                                                                                                                                                                                                                                                           \n",
       "AANTYZRUJFNZFI-UHFFFAOYSA-N                                                0.0                                                                                                                                                                                                                                                                                                                                                                                                                                                                                                                                                                                                                                                                                                                                                                                                                                                                                                                                                                                                                                                                                                                                           \n",
       "...                                                                        ...                                                                                                                                                                                                                                                                                                                                                                                                                                                                                                                                                                                                                                                                                                                                                                                                                                                                                                                                                                                                                                                                                                                                           \n",
       "ZZORFUFYDOWNEF-UHFFFAOYSA-N                                                0.0                                                                                                                                                                                                                                                                                                                                                                                                                                                                                                                                                                                                                                                                                                                                                                                                                                                                                                                                                                                                                                                                                                                                           \n",
       "ZZQNEJILGNNOEP-UHFFFAOYSA-N                                                0.0                                                                                                                                                                                                                                                                                                                                                                                                                                                                                                                                                                                                                                                                                                                                                                                                                                                                                                                                                                                                                                                                                                                                           \n",
       "ZZTMFGIGOADCFX-UHFFFAOYSA-N                                                0.0                                                                                                                                                                                                                                                                                                                                                                                                                                                                                                                                                                                                                                                                                                                                                                                                                                                                                                                                                                                                                                                                                                                                           \n",
       "ZZUFCTLCJUWOSV-UHFFFAOYSA-N                                                0.0                                                                                                                                                                                                                                                                                                                                                                                                                                                                                                                                                                                                                                                                                                                                                                                                                                                                                                                                                                                                                                                                                                                                           \n",
       "ZZVGLDBDDYESAB-UHFFFAOYSA-N                                                0.0                                                                                                                                                                                                                                                                                                                                                                                                                                                                                                                                                                                                                                                                                                                                                                                                                                                                                                                                                                                                                                                                                                                                           \n",
       "\n",
       "target_aa_code               TLSILVAHDLQRVIGFENQLPWHLPNDLKHVKKLSTGHTLVMGRKTFESIGKPLPNRRNVVLTSDTSFNVEGVDVIHSIEDIYQLPGHVFIFGGQTLFEEMIDKVDDMYITVIEGKFRGDTFFPPYTFEDWEVASSVEGKLDEKNTIPHTFLHLIRK  \\\n",
       "InChiKey                                                                                                                                                                                     \n",
       "AAADKYXUTOBAGS-XCBNKYQSSA-N                                                0.0                                                                                                               \n",
       "AAKJLRGGTJKAMG-UHFFFAOYSA-N                                                0.0                                                                                                               \n",
       "AANFHDFOMFRLLR-IBGZPJMESA-N                                                0.0                                                                                                               \n",
       "AANFHDFOMFRLLR-LJQANCHMSA-N                                                0.0                                                                                                               \n",
       "AANTYZRUJFNZFI-UHFFFAOYSA-N                                                0.0                                                                                                               \n",
       "...                                                                        ...                                                                                                               \n",
       "ZZORFUFYDOWNEF-UHFFFAOYSA-N                                                0.0                                                                                                               \n",
       "ZZQNEJILGNNOEP-UHFFFAOYSA-N                                                0.0                                                                                                               \n",
       "ZZTMFGIGOADCFX-UHFFFAOYSA-N                                                0.0                                                                                                               \n",
       "ZZUFCTLCJUWOSV-UHFFFAOYSA-N                                                0.0                                                                                                               \n",
       "ZZVGLDBDDYESAB-UHFFFAOYSA-N                                                0.0                                                                                                               \n",
       "\n",
       "target_aa_code               VVKDEHQVFKWDGQTRDIATWNRDHNLITAMKYSVVPVYQEFARQIGEARMSKMLHAFDYGNEDISGNVDSFWLDGGIRISATEQISFLRKLYHNKLHVSERSQRIVKQAMLTEANGDYIIRAKTGYSTRIEPKIGWWVGWVELD  \\\n",
       "InChiKey                                                                                                                                                                         \n",
       "AAADKYXUTOBAGS-XCBNKYQSSA-N                                                0.0                                                                                                   \n",
       "AAKJLRGGTJKAMG-UHFFFAOYSA-N                                                0.0                                                                                                   \n",
       "AANFHDFOMFRLLR-IBGZPJMESA-N                                                0.0                                                                                                   \n",
       "AANFHDFOMFRLLR-LJQANCHMSA-N                                                0.0                                                                                                   \n",
       "AANTYZRUJFNZFI-UHFFFAOYSA-N                                                0.0                                                                                                   \n",
       "...                                                                        ...                                                                                                   \n",
       "ZZORFUFYDOWNEF-UHFFFAOYSA-N                                                0.0                                                                                                   \n",
       "ZZQNEJILGNNOEP-UHFFFAOYSA-N                                                0.0                                                                                                   \n",
       "ZZTMFGIGOADCFX-UHFFFAOYSA-N                                                0.0                                                                                                   \n",
       "ZZUFCTLCJUWOSV-UHFFFAOYSA-N                                                0.0                                                                                                   \n",
       "ZZVGLDBDDYESAB-UHFFFAOYSA-N                                                0.0                                                                                                   \n",
       "\n",
       "target_aa_code               XXXXXDXAPEARQAIRSLTERLYXGGPLTNSKGQNCGYRRCRASGVLTTSCXNTLTCYLKASAACRAAKLQDCT  \\\n",
       "InChiKey                                                                                                  \n",
       "AAADKYXUTOBAGS-XCBNKYQSSA-N                                                0.0                            \n",
       "AAKJLRGGTJKAMG-UHFFFAOYSA-N                                                0.0                            \n",
       "AANFHDFOMFRLLR-IBGZPJMESA-N                                                0.0                            \n",
       "AANFHDFOMFRLLR-LJQANCHMSA-N                                                0.0                            \n",
       "AANTYZRUJFNZFI-UHFFFAOYSA-N                                                0.0                            \n",
       "...                                                                        ...                            \n",
       "ZZORFUFYDOWNEF-UHFFFAOYSA-N                                                0.0                            \n",
       "ZZQNEJILGNNOEP-UHFFFAOYSA-N                                                0.0                            \n",
       "ZZTMFGIGOADCFX-UHFFFAOYSA-N                                                0.0                            \n",
       "ZZUFCTLCJUWOSV-UHFFFAOYSA-N                                                0.0                            \n",
       "ZZVGLDBDDYESAB-UHFFFAOYSA-N                                                0.0                            \n",
       "\n",
       "target_aa_code               YCYICHSLKYDRWYSNRNSLCCVFLICVLTLVAIVPNLCMGTLQYDPRIYSCTFAQSVSSAYTIAVVVFHFLVPMVIVIFRYLRIWVLVLQIRWRAKPENNPRLKPQDFRNFVTMFVVFVLFAICWAPLNFIGLAVASDPASMAPRIPEWLFVA  \\\n",
       "InChiKey                                                                                                                                                                                  \n",
       "AAADKYXUTOBAGS-XCBNKYQSSA-N                                                0.0                                                                                                            \n",
       "AAKJLRGGTJKAMG-UHFFFAOYSA-N                                                0.0                                                                                                            \n",
       "AANFHDFOMFRLLR-IBGZPJMESA-N                                                0.0                                                                                                            \n",
       "AANFHDFOMFRLLR-LJQANCHMSA-N                                                0.0                                                                                                            \n",
       "AANTYZRUJFNZFI-UHFFFAOYSA-N                                                0.0                                                                                                            \n",
       "...                                                                        ...                                                                                                            \n",
       "ZZORFUFYDOWNEF-UHFFFAOYSA-N                                                0.0                                                                                                            \n",
       "ZZQNEJILGNNOEP-UHFFFAOYSA-N                                                0.0                                                                                                            \n",
       "ZZTMFGIGOADCFX-UHFFFAOYSA-N                                                0.0                                                                                                            \n",
       "ZZUFCTLCJUWOSV-UHFFFAOYSA-N                                                0.0                                                                                                            \n",
       "ZZVGLDBDDYESAB-UHFFFAOYSA-N                                                0.0                                                                                                            \n",
       "\n",
       "target_aa_code               YITPVNSLEKHSWYHGPVSRNAAEYLLSSGINGSFLVRESESSPGQRSISLRYEGRVYHYRINTASDGKLYVSSESRFNTLAELVHHHSTVADGLITTLHYPAPKRNKPTIYGVSPNYDKWEMERTDITMKHKLGGGQYGEVYEGVWKKYSLTVAVKTLKEDTMEVEEFLKEAAVMKEIKHPNLVQLLGVCTREPPFYIITEFMTYGNLLDYLRECNRQEVSAVVLLYMATQISSAMEYLEKKNFIHRDLAARNCLVGENHLVKVADFGLSRLMTGDTYTAHAGAKFPIKWTAPESLAYNKFSIKSDVWAFGVLLWEIATYGMSPYPGIDLSQVYELLEKDYRMERPEGCPEKVYELMRACWQWNPSDRPSFAEIHQAFETMFQESSISDEVEKELGKRGTRGGAGSMLQAPELPTKTRTCRRAAEQKASPPSLTPKLLRRQVTASPSSGLSHKKEATKGSASGMGTPATAEPAPPSNKVGLSKASSEEMRVRRHKHSSESPGRDKGRLAKLKPAPPPPPACTGKAGKPAQSPSQEAGEAGGPTKTKCTSLAMDAVNTDPTKAGPPGEGLRKPVPPSVPKPQSTAKPPGTPTSPVSTPSTAPAPSPLAGDQQPSSAAFIPLISTRVSLRKTRQPPERIASGTITKGVVLDSTEALCLAISRNSEQMASHSAVLEAGKNLYTFCVSYVDSIQQMRNKFAFREAINKLESNLRELQICPATASSGPAATQDFSKLLSSVKEISDIVRR  \\\n",
       "InChiKey                                                                                                                                                                                                                                                                                                                                                                                                                                                                                                                                                                                                                                                                                                                                                                                                  \n",
       "AAADKYXUTOBAGS-XCBNKYQSSA-N                                                0.0                                                                                                                                                                                                                                                                                                                                                                                                                                                                                                                                                                                                                                                                                                                            \n",
       "AAKJLRGGTJKAMG-UHFFFAOYSA-N                                                0.0                                                                                                                                                                                                                                                                                                                                                                                                                                                                                                                                                                                                                                                                                                                            \n",
       "AANFHDFOMFRLLR-IBGZPJMESA-N                                                0.0                                                                                                                                                                                                                                                                                                                                                                                                                                                                                                                                                                                                                                                                                                                            \n",
       "AANFHDFOMFRLLR-LJQANCHMSA-N                                                0.0                                                                                                                                                                                                                                                                                                                                                                                                                                                                                                                                                                                                                                                                                                                            \n",
       "AANTYZRUJFNZFI-UHFFFAOYSA-N                                                0.0                                                                                                                                                                                                                                                                                                                                                                                                                                                                                                                                                                                                                                                                                                                            \n",
       "...                                                                        ...                                                                                                                                                                                                                                                                                                                                                                                                                                                                                                                                                                                                                                                                                                                            \n",
       "ZZORFUFYDOWNEF-UHFFFAOYSA-N                                                0.0                                                                                                                                                                                                                                                                                                                                                                                                                                                                                                                                                                                                                                                                                                                            \n",
       "ZZQNEJILGNNOEP-UHFFFAOYSA-N                                                0.0                                                                                                                                                                                                                                                                                                                                                                                                                                                                                                                                                                                                                                                                                                                            \n",
       "ZZTMFGIGOADCFX-UHFFFAOYSA-N                                                0.0                                                                                                                                                                                                                                                                                                                                                                                                                                                                                                                                                                                                                                                                                                                            \n",
       "ZZUFCTLCJUWOSV-UHFFFAOYSA-N                                                0.0                                                                                                                                                                                                                                                                                                                                                                                                                                                                                                                                                                                                                                                                                                                            \n",
       "ZZVGLDBDDYESAB-UHFFFAOYSA-N                                                0.0                                                                                                                                                                                                                                                                                                                                                                                                                                                                                                                                                                                                                                                                                                                            \n",
       "\n",
       "target_aa_code               mgflsgkrilvtgvasklsiaygiaqamhregaelaftyqndklkgrveefaaqlgsdivlqcdvaedasidtmfaelgkvwpkfdgfvhsigfapgdqldgdyvnavtregfkiahdissysfvamakacrsmlnpgsalltlsylgaeraipnynvmglakasleanvrymanamgpegvrvnaisagpirtlaasgikdfrkmlahceavtpirrtvtiedvgnsaaflcsdlsagisgevvhvdggfsiaamnelelk  \n",
       "InChiKey                                                                                                                                                                                                                                                                                             \n",
       "AAADKYXUTOBAGS-XCBNKYQSSA-N                                                0.0                                                                                                                                                                                                                       \n",
       "AAKJLRGGTJKAMG-UHFFFAOYSA-N                                                0.0                                                                                                                                                                                                                       \n",
       "AANFHDFOMFRLLR-IBGZPJMESA-N                                                0.0                                                                                                                                                                                                                       \n",
       "AANFHDFOMFRLLR-LJQANCHMSA-N                                                0.0                                                                                                                                                                                                                       \n",
       "AANTYZRUJFNZFI-UHFFFAOYSA-N                                                0.0                                                                                                                                                                                                                       \n",
       "...                                                                        ...                                                                                                                                                                                                                       \n",
       "ZZORFUFYDOWNEF-UHFFFAOYSA-N                                                0.0                                                                                                                                                                                                                       \n",
       "ZZQNEJILGNNOEP-UHFFFAOYSA-N                                                0.0                                                                                                                                                                                                                       \n",
       "ZZTMFGIGOADCFX-UHFFFAOYSA-N                                                0.0                                                                                                                                                                                                                       \n",
       "ZZUFCTLCJUWOSV-UHFFFAOYSA-N                                                0.0                                                                                                                                                                                                                       \n",
       "ZZVGLDBDDYESAB-UHFFFAOYSA-N                                                0.0                                                                                                                                                                                                                       \n",
       "\n",
       "[6722 rows x 3548 columns]"
      ]
     },
     "execution_count": 72,
     "metadata": {},
     "output_type": "execute_result"
    }
   ],
   "source": [
    "adj_edges"
   ]
  },
  {
   "cell_type": "code",
   "execution_count": 257,
   "metadata": {},
   "outputs": [],
   "source": [
    "inchikey_map = list(adj_edges.index)\n",
    "aa_seq_map = list(adj_edges.columns)"
   ]
  },
  {
   "cell_type": "code",
   "execution_count": null,
   "metadata": {},
   "outputs": [],
   "source": [
    "adj_edges = np.array(adj_edges)**3"
   ]
  },
  {
   "cell_type": "markdown",
   "metadata": {},
   "source": [
    "## Test"
   ]
  },
  {
   "cell_type": "code",
   "execution_count": 10,
   "metadata": {},
   "outputs": [],
   "source": [
    "amino = pd.read_csv('/data/sars-busters/amino/amino_01.csv')"
   ]
  },
  {
   "cell_type": "code",
   "execution_count": 23,
   "metadata": {},
   "outputs": [
    {
     "data": {
      "text/html": [
       "<div>\n",
       "<style scoped>\n",
       "    .dataframe tbody tr th:only-of-type {\n",
       "        vertical-align: middle;\n",
       "    }\n",
       "\n",
       "    .dataframe tbody tr th {\n",
       "        vertical-align: top;\n",
       "    }\n",
       "\n",
       "    .dataframe thead th {\n",
       "        text-align: right;\n",
       "    }\n",
       "</style>\n",
       "<table border=\"1\" class=\"dataframe\">\n",
       "  <thead>\n",
       "    <tr style=\"text-align: right;\">\n",
       "      <th></th>\n",
       "      <th>Label</th>\n",
       "      <th>Type</th>\n",
       "      <th>IsDrug</th>\n",
       "      <th>IsNDM</th>\n",
       "      <th>IsDrugTarget</th>\n",
       "      <th>IsNDMTarget</th>\n",
       "      <th>Type2</th>\n",
       "      <th>target_encoded</th>\n",
       "      <th>target_encoded_len</th>\n",
       "      <th>target_encoded_mismatch</th>\n",
       "      <th>target_encoded_padded</th>\n",
       "      <th>target_random_padded</th>\n",
       "    </tr>\n",
       "    <tr>\n",
       "      <th>Id</th>\n",
       "      <th></th>\n",
       "      <th></th>\n",
       "      <th></th>\n",
       "      <th></th>\n",
       "      <th></th>\n",
       "      <th></th>\n",
       "      <th></th>\n",
       "      <th></th>\n",
       "      <th></th>\n",
       "      <th></th>\n",
       "      <th></th>\n",
       "      <th></th>\n",
       "    </tr>\n",
       "  </thead>\n",
       "  <tbody>\n",
       "    <tr>\n",
       "      <th>8067</th>\n",
       "      <td>MGARASVLSGGKLDAWEKIRLRPGGKKKYRLKHLVWASRELERFAL...</td>\n",
       "      <td>Protein</td>\n",
       "      <td>False</td>\n",
       "      <td>False</td>\n",
       "      <td>True</td>\n",
       "      <td>False</td>\n",
       "      <td>Protein</td>\n",
       "      <td>0110000110000001000100000100101010101011100100...</td>\n",
       "      <td>7180</td>\n",
       "      <td>28300</td>\n",
       "      <td>[-1, -1, -1, -1, -1, -1, -1, -1, -1, -1, -1, -...</td>\n",
       "      <td>[0, 1, 1, 0, 1, 0, 0, 0, 1, 1, 0, 0, 1, 0, 1, ...</td>\n",
       "    </tr>\n",
       "  </tbody>\n",
       "</table>\n",
       "</div>"
      ],
      "text/plain": [
       "                                                  Label     Type  IsDrug  \\\n",
       "Id                                                                         \n",
       "8067  MGARASVLSGGKLDAWEKIRLRPGGKKKYRLKHLVWASRELERFAL...  Protein   False   \n",
       "\n",
       "      IsNDM  IsDrugTarget  IsNDMTarget    Type2  \\\n",
       "Id                                                \n",
       "8067  False          True        False  Protein   \n",
       "\n",
       "                                         target_encoded  target_encoded_len  \\\n",
       "Id                                                                            \n",
       "8067  0110000110000001000100000100101010101011100100...                7180   \n",
       "\n",
       "      target_encoded_mismatch  \\\n",
       "Id                              \n",
       "8067                    28300   \n",
       "\n",
       "                                  target_encoded_padded  \\\n",
       "Id                                                        \n",
       "8067  [-1, -1, -1, -1, -1, -1, -1, -1, -1, -1, -1, -...   \n",
       "\n",
       "                                   target_random_padded  \n",
       "Id                                                       \n",
       "8067  [0, 1, 1, 0, 1, 0, 0, 0, 1, 1, 0, 0, 1, 0, 1, ...  "
      ]
     },
     "execution_count": 23,
     "metadata": {},
     "output_type": "execute_result"
    }
   ],
   "source": [
    "amino[amino['Label'] == 'MGARASVLSGGKLDAWEKIRLRPGGKKKYRLKHLVWASRELERFALNPGLLETSDGCKQIIGQLQPAIRTGSEELRSLFNTVATLYCVHERIEVKDTKEALEKMEEEQNKSKNKKAQQAAADAGNNSQVSQNYPIVQNLQGQMVHQAISPRTLNAWVKVIEEKAFSPEVIPMFSALSEGATPQDLNTMLNTVGGHQAAMQMLKETINEEAAEWDRLHPVHAGPIAPGQMREPRGSDIAGTTSTLQEQIAWMTSNPPIPVGEIYKRWIILGLNKIVRMYSPVSILDIRQGPKEPFRDYVDRFYKTLRAEQASQEVKGWMTETLLVQNANPDCKTILKALGPQATLEEMMTACQGVGGPSHKARVLAEAMSQATNSAAAVMMQRGNFKGPRKTIKCFNCGKEGHIAKNCRAPRRKGCWKCGKEGHQLKDCTERQANFLREDLAFPQGKAGELSSEQTRANSPTSRELRVWGRDNPLSETGAERQGTVSFNCPQITLWQRPLVTIKIGGQLKEALLDTGADDTVLEEMNLPGKWKPKMIGGIGGFIKVRQYDQILIEICGHKAIGTVLVGPTPVNIIGRNLLTQIGCTLNFPISPIETVPVKLKPGMDGPKVKQWPLTEEKIKALTEICTEMEKEGKISRVGPENPYNTPIFAIKKKDSTKWRKLVDFRELNKRTQDFWEVQLGIPHPAGLKKKKSVTVLDVGDAYFSVPLDKDFRKYTAFTIPSINNETPGIRYQYNVLPQGWKGSPAIFQSSMTKILEPFRKQNPEIVIYQYMDDLYVGSDLEIGQHRTKIEELREHLLRWGFTTPDKKHQKEPPFLWMGYELHPDKWTVQSIKLPEKESWTVNDIQKLVGKLNWASQIYPGIKVRQLCKLLRGTKALTEVIPLTEEAELELAENREILKEPVHGVYYDPSKDLIAEIQKQGHGQWTYQIYQEPFKNLKTGKYARMRGAHTNDVKQLAEVVQKISTESIVIWGKTPKFRLPIQKETWETWWVEYWQATWIPEWEFVNTPPLVKLWYQLEKEPIIGAETFYVDGAANRETKLGKAGYVTDRGRQKVVPFTDTTNQKTELQAINLALQDSGLEVNIVTDSQYALGIIQAQPDKSESELVSQIIEQLIKKEKVYLAWVPAHKGIGGNEQVDKLVSQGIRKVLFLDGIDKAQEEHEKYHNNWRAMASDFNLPPVVAKEIVASCDKCQLKGEAMHGQVDCSPGIWQLDCTHLEGKVILVAVHVASGYIEAEVIPAETGQETAYFILKLAGRWPVKIVHTDNGSNFTSAAVKAACWWAGIKQEFGIPYNPQSQGVVESMNKELKKIIGQVRDQAEHLKTAVQMAVFIHNFKRKGGIGGYSAGERIIDIIATDIQTKELQKQITKIQNFRVYYRDSRDPIWKGPAKLLWKGEGAVVIQDNSDIKVVPRRKVKIIRDYGKQMAGDDCVASRQDED']\n",
    "\n"
   ]
  },
  {
   "cell_type": "code",
   "execution_count": 5,
   "metadata": {},
   "outputs": [
    {
     "data": {
      "text/plain": [
       "'/home/sars-busters-consolidated/data_preperation'"
      ]
     },
     "execution_count": 5,
     "metadata": {},
     "output_type": "execute_result"
    }
   ],
   "source": [
    "import os\n",
    "os.getcwd()"
   ]
  },
  {
   "cell_type": "code",
   "execution_count": null,
   "metadata": {},
   "outputs": [],
   "source": []
  }
 ],
 "metadata": {
  "kernelspec": {
   "display_name": "Python 3",
   "language": "python",
   "name": "python3"
  },
  "language_info": {
   "codemirror_mode": {
    "name": "ipython",
    "version": 3
   },
   "file_extension": ".py",
   "mimetype": "text/x-python",
   "name": "python",
   "nbconvert_exporter": "python",
   "pygments_lexer": "ipython3",
   "version": "3.6.6"
  },
  "toc": {
   "base_numbering": 1,
   "nav_menu": {},
   "number_sections": true,
   "sideBar": true,
   "skip_h1_title": false,
   "title_cell": "Table of Contents",
   "title_sidebar": "Contents",
   "toc_cell": false,
   "toc_position": {},
   "toc_section_display": true,
   "toc_window_display": false
  }
 },
 "nbformat": 4,
 "nbformat_minor": 4
}
