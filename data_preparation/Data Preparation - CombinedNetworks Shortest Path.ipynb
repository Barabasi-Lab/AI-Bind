{
 "cells": [
  {
   "cell_type": "code",
   "execution_count": 45,
   "metadata": {},
   "outputs": [],
   "source": [
    "import pandas as pd\n",
    "import pickle as pkl\n",
    "import networkx as nx\n",
    "from tqdm.notebook import tqdm\n",
    "import matplotlib.pyplot as plt\n",
    "import seaborn as sns\n",
    "import numpy as np\n",
    "\n",
    "tqdm.pandas()"
   ]
  },
  {
   "cell_type": "markdown",
   "metadata": {},
   "source": [
    "# DEFINE VERSION NUMBER AND EXPERIMENT DETAILS\n",
    "\n"
   ]
  },
  {
   "cell_type": "code",
   "execution_count": 46,
   "metadata": {},
   "outputs": [],
   "source": [
    "## DEFINE VERSION NUMBER AND EXPERIMENT DETAILS\n",
    "\n",
    "VERSION = '01'\n",
    "VERSION_DESCRIPTION = '9 hop negative sample'\n",
    "OUTPUT_DIR = 'master_files'\n",
    "\n",
    "\n",
    "\n",
    "\n",
    "versions = pd.read_csv(f'/data/sars-busters-consolidated/{OUTPUT_DIR}/versions.csv', index_col = 'version')\n",
    "versions = versions.loc[versions.index != int(VERSION)]\n",
    "versions.loc[VERSION, 'description'] = VERSION_DESCRIPTION\n",
    "versions.to_csv(f'/data/sars-busters-consolidated/{OUTPUT_DIR}/versions.csv')"
   ]
  },
  {
   "cell_type": "code",
   "execution_count": 47,
   "metadata": {},
   "outputs": [],
   "source": [
    "edges = pd.read_csv('/data/sars-busters-consolidated/nw_files/WholeNetworkEdgesTable.csv')"
   ]
  },
  {
   "cell_type": "code",
   "execution_count": 48,
   "metadata": {},
   "outputs": [],
   "source": [
    "nodes = pd.read_csv('/data/sars-busters-consolidated/nw_files/WholeNetworkNodesTable.csv', index_col = 'Id')"
   ]
  },
  {
   "cell_type": "code",
   "execution_count": 49,
   "metadata": {},
   "outputs": [],
   "source": [
    "#nodes = nodes.set_index('Label')"
   ]
  },
  {
   "cell_type": "code",
   "execution_count": 50,
   "metadata": {
    "scrolled": false
   },
   "outputs": [
    {
     "data": {
      "text/plain": [
       "Chemical    8111\n",
       "Protein     5104\n",
       "Name: Type, dtype: int64"
      ]
     },
     "execution_count": 50,
     "metadata": {},
     "output_type": "execute_result"
    }
   ],
   "source": [
    "nodes['Type'].value_counts()"
   ]
  },
  {
   "cell_type": "code",
   "execution_count": 51,
   "metadata": {},
   "outputs": [
    {
     "data": {
      "text/html": [
       "<div>\n",
       "<style scoped>\n",
       "    .dataframe tbody tr th:only-of-type {\n",
       "        vertical-align: middle;\n",
       "    }\n",
       "\n",
       "    .dataframe tbody tr th {\n",
       "        vertical-align: top;\n",
       "    }\n",
       "\n",
       "    .dataframe thead th {\n",
       "        text-align: right;\n",
       "    }\n",
       "</style>\n",
       "<table border=\"1\" class=\"dataframe\">\n",
       "  <thead>\n",
       "    <tr style=\"text-align: right;\">\n",
       "      <th></th>\n",
       "      <th>Source</th>\n",
       "      <th>Target</th>\n",
       "      <th>Type</th>\n",
       "    </tr>\n",
       "  </thead>\n",
       "  <tbody>\n",
       "    <tr>\n",
       "      <th>0</th>\n",
       "      <td>6093</td>\n",
       "      <td>11246</td>\n",
       "      <td>Undirected</td>\n",
       "    </tr>\n",
       "    <tr>\n",
       "      <th>1</th>\n",
       "      <td>10888</td>\n",
       "      <td>3006</td>\n",
       "      <td>Undirected</td>\n",
       "    </tr>\n",
       "    <tr>\n",
       "      <th>2</th>\n",
       "      <td>5855</td>\n",
       "      <td>11533</td>\n",
       "      <td>Undirected</td>\n",
       "    </tr>\n",
       "    <tr>\n",
       "      <th>3</th>\n",
       "      <td>4812</td>\n",
       "      <td>431</td>\n",
       "      <td>Undirected</td>\n",
       "    </tr>\n",
       "    <tr>\n",
       "      <th>4</th>\n",
       "      <td>9288</td>\n",
       "      <td>2799</td>\n",
       "      <td>Undirected</td>\n",
       "    </tr>\n",
       "    <tr>\n",
       "      <th>...</th>\n",
       "      <td>...</td>\n",
       "      <td>...</td>\n",
       "      <td>...</td>\n",
       "    </tr>\n",
       "    <tr>\n",
       "      <th>30808</th>\n",
       "      <td>7827</td>\n",
       "      <td>8239</td>\n",
       "      <td>Undirected</td>\n",
       "    </tr>\n",
       "    <tr>\n",
       "      <th>30809</th>\n",
       "      <td>4369</td>\n",
       "      <td>12682</td>\n",
       "      <td>Undirected</td>\n",
       "    </tr>\n",
       "    <tr>\n",
       "      <th>30810</th>\n",
       "      <td>12219</td>\n",
       "      <td>3713</td>\n",
       "      <td>Undirected</td>\n",
       "    </tr>\n",
       "    <tr>\n",
       "      <th>30811</th>\n",
       "      <td>10631</td>\n",
       "      <td>11479</td>\n",
       "      <td>Undirected</td>\n",
       "    </tr>\n",
       "    <tr>\n",
       "      <th>30812</th>\n",
       "      <td>1127</td>\n",
       "      <td>4964</td>\n",
       "      <td>Undirected</td>\n",
       "    </tr>\n",
       "  </tbody>\n",
       "</table>\n",
       "<p>30813 rows × 3 columns</p>\n",
       "</div>"
      ],
      "text/plain": [
       "       Source  Target        Type\n",
       "0        6093   11246  Undirected\n",
       "1       10888    3006  Undirected\n",
       "2        5855   11533  Undirected\n",
       "3        4812     431  Undirected\n",
       "4        9288    2799  Undirected\n",
       "...       ...     ...         ...\n",
       "30808    7827    8239  Undirected\n",
       "30809    4369   12682  Undirected\n",
       "30810   12219    3713  Undirected\n",
       "30811   10631   11479  Undirected\n",
       "30812    1127    4964  Undirected\n",
       "\n",
       "[30813 rows x 3 columns]"
      ]
     },
     "execution_count": 51,
     "metadata": {},
     "output_type": "execute_result"
    }
   ],
   "source": [
    "edges"
   ]
  },
  {
   "cell_type": "code",
   "execution_count": 52,
   "metadata": {},
   "outputs": [
    {
     "data": {
      "text/html": [
       "<div>\n",
       "<style scoped>\n",
       "    .dataframe tbody tr th:only-of-type {\n",
       "        vertical-align: middle;\n",
       "    }\n",
       "\n",
       "    .dataframe tbody tr th {\n",
       "        vertical-align: top;\n",
       "    }\n",
       "\n",
       "    .dataframe thead th {\n",
       "        text-align: right;\n",
       "    }\n",
       "</style>\n",
       "<table border=\"1\" class=\"dataframe\">\n",
       "  <thead>\n",
       "    <tr style=\"text-align: right;\">\n",
       "      <th></th>\n",
       "      <th>Label</th>\n",
       "      <th>Type</th>\n",
       "      <th>IsDrug</th>\n",
       "      <th>IsNDM</th>\n",
       "      <th>IsDrugTarget</th>\n",
       "      <th>IsNDMTarget</th>\n",
       "      <th>Type2</th>\n",
       "    </tr>\n",
       "    <tr>\n",
       "      <th>Id</th>\n",
       "      <th></th>\n",
       "      <th></th>\n",
       "      <th></th>\n",
       "      <th></th>\n",
       "      <th></th>\n",
       "      <th></th>\n",
       "      <th></th>\n",
       "    </tr>\n",
       "  </thead>\n",
       "  <tbody>\n",
       "    <tr>\n",
       "      <th>8067</th>\n",
       "      <td>MGARASVLSGGKLDAWEKIRLRPGGKKKYRLKHLVWASRELERFAL...</td>\n",
       "      <td>Protein</td>\n",
       "      <td>False</td>\n",
       "      <td>False</td>\n",
       "      <td>True</td>\n",
       "      <td>False</td>\n",
       "      <td>Protein</td>\n",
       "    </tr>\n",
       "  </tbody>\n",
       "</table>\n",
       "</div>"
      ],
      "text/plain": [
       "                                                  Label     Type  IsDrug  \\\n",
       "Id                                                                         \n",
       "8067  MGARASVLSGGKLDAWEKIRLRPGGKKKYRLKHLVWASRELERFAL...  Protein   False   \n",
       "\n",
       "      IsNDM  IsDrugTarget  IsNDMTarget    Type2  \n",
       "Id                                               \n",
       "8067  False          True        False  Protein  "
      ]
     },
     "execution_count": 52,
     "metadata": {},
     "output_type": "execute_result"
    }
   ],
   "source": [
    "nodes[nodes['Label'] == 'MGARASVLSGGKLDAWEKIRLRPGGKKKYRLKHLVWASRELERFALNPGLLETSDGCKQIIGQLQPAIRTGSEELRSLFNTVATLYCVHERIEVKDTKEALEKMEEEQNKSKNKKAQQAAADAGNNSQVSQNYPIVQNLQGQMVHQAISPRTLNAWVKVIEEKAFSPEVIPMFSALSEGATPQDLNTMLNTVGGHQAAMQMLKETINEEAAEWDRLHPVHAGPIAPGQMREPRGSDIAGTTSTLQEQIAWMTSNPPIPVGEIYKRWIILGLNKIVRMYSPVSILDIRQGPKEPFRDYVDRFYKTLRAEQASQEVKGWMTETLLVQNANPDCKTILKALGPQATLEEMMTACQGVGGPSHKARVLAEAMSQATNSAAAVMMQRGNFKGPRKTIKCFNCGKEGHIAKNCRAPRRKGCWKCGKEGHQLKDCTERQANFLREDLAFPQGKAGELSSEQTRANSPTSRELRVWGRDNPLSETGAERQGTVSFNCPQITLWQRPLVTIKIGGQLKEALLDTGADDTVLEEMNLPGKWKPKMIGGIGGFIKVRQYDQILIEICGHKAIGTVLVGPTPVNIIGRNLLTQIGCTLNFPISPIETVPVKLKPGMDGPKVKQWPLTEEKIKALTEICTEMEKEGKISRVGPENPYNTPIFAIKKKDSTKWRKLVDFRELNKRTQDFWEVQLGIPHPAGLKKKKSVTVLDVGDAYFSVPLDKDFRKYTAFTIPSINNETPGIRYQYNVLPQGWKGSPAIFQSSMTKILEPFRKQNPEIVIYQYMDDLYVGSDLEIGQHRTKIEELREHLLRWGFTTPDKKHQKEPPFLWMGYELHPDKWTVQSIKLPEKESWTVNDIQKLVGKLNWASQIYPGIKVRQLCKLLRGTKALTEVIPLTEEAELELAENREILKEPVHGVYYDPSKDLIAEIQKQGHGQWTYQIYQEPFKNLKTGKYARMRGAHTNDVKQLAEVVQKISTESIVIWGKTPKFRLPIQKETWETWWVEYWQATWIPEWEFVNTPPLVKLWYQLEKEPIIGAETFYVDGAANRETKLGKAGYVTDRGRQKVVPFTDTTNQKTELQAINLALQDSGLEVNIVTDSQYALGIIQAQPDKSESELVSQIIEQLIKKEKVYLAWVPAHKGIGGNEQVDKLVSQGIRKVLFLDGIDKAQEEHEKYHNNWRAMASDFNLPPVVAKEIVASCDKCQLKGEAMHGQVDCSPGIWQLDCTHLEGKVILVAVHVASGYIEAEVIPAETGQETAYFILKLAGRWPVKIVHTDNGSNFTSAAVKAACWWAGIKQEFGIPYNPQSQGVVESMNKELKKIIGQVRDQAEHLKTAVQMAVFIHNFKRKGGIGGYSAGERIIDIIATDIQTKELQKQITKIQNFRVYYRDSRDPIWKGPAKLLWKGEGAVVIQDNSDIKVVPRRKVKIIRDYGKQMAGDDCVASRQDED']"
   ]
  },
  {
   "cell_type": "markdown",
   "metadata": {},
   "source": [
    "## Get Centrality Scores"
   ]
  },
  {
   "cell_type": "code",
   "execution_count": 53,
   "metadata": {},
   "outputs": [
    {
     "data": {
      "text/plain": [
       "True"
      ]
     },
     "execution_count": 53,
     "metadata": {},
     "output_type": "execute_result"
    }
   ],
   "source": [
    "G = nx.Graph()\n",
    "G.add_edges_from(list(zip(list(edges['Source']), list(edges['Target']))))\n",
    "nx.is_bipartite(G)"
   ]
  },
  {
   "cell_type": "code",
   "execution_count": 54,
   "metadata": {},
   "outputs": [
    {
     "data": {
      "text/plain": [
       "13215"
      ]
     },
     "execution_count": 54,
     "metadata": {},
     "output_type": "execute_result"
    }
   ],
   "source": [
    "len(G.nodes)"
   ]
  },
  {
   "cell_type": "code",
   "execution_count": 55,
   "metadata": {},
   "outputs": [],
   "source": [
    "centrality = nx.algorithms.centrality.betweenness_centrality(G, k = int(len(G.nodes)/10)) # k is the node samples used "
   ]
  },
  {
   "cell_type": "code",
   "execution_count": 56,
   "metadata": {},
   "outputs": [],
   "source": [
    "nodes['centrality'] = nodes.index.map(centrality)"
   ]
  },
  {
   "cell_type": "code",
   "execution_count": 57,
   "metadata": {},
   "outputs": [
    {
     "data": {
      "text/plain": [
       "<matplotlib.axes._subplots.AxesSubplot at 0x7fe27dad4e48>"
      ]
     },
     "execution_count": 57,
     "metadata": {},
     "output_type": "execute_result"
    },
    {
     "data": {
      "image/png": "[encoded data removed]",
      "text/plain": [
       "<Figure size 432x288 with 1 Axes>"
      ]
     },
     "metadata": {
      "needs_background": "light"
     },
     "output_type": "display_data"
    }
   ],
   "source": [
    "nodes['centrality'].hist(log = True)"
   ]
  },
  {
   "cell_type": "code",
   "execution_count": 58,
   "metadata": {},
   "outputs": [],
   "source": [
    "node_centrality_map = dict(zip(nodes['Label'].tolist(), nodes['centrality'].tolist()))"
   ]
  },
  {
   "cell_type": "code",
   "execution_count": 59,
   "metadata": {},
   "outputs": [],
   "source": [
    "centrality_mean = np.mean(list(node_centrality_map.values()))"
   ]
  },
  {
   "cell_type": "code",
   "execution_count": 60,
   "metadata": {},
   "outputs": [],
   "source": [
    "centrality_std = np.std(list(node_centrality_map.values()))"
   ]
  },
  {
   "cell_type": "code",
   "execution_count": 61,
   "metadata": {},
   "outputs": [
    {
     "data": {
      "text/plain": [
       "0.0020530184675598157"
      ]
     },
     "execution_count": 61,
     "metadata": {},
     "output_type": "execute_result"
    }
   ],
   "source": [
    "centrality_std"
   ]
  },
  {
   "cell_type": "code",
   "execution_count": 62,
   "metadata": {},
   "outputs": [
    {
     "data": {
      "text/plain": [
       "0.00029904385426115886"
      ]
     },
     "execution_count": 62,
     "metadata": {},
     "output_type": "execute_result"
    }
   ],
   "source": [
    "centrality_mean"
   ]
  },
  {
   "cell_type": "code",
   "execution_count": 64,
   "metadata": {},
   "outputs": [],
   "source": [
    "with open ('/data/covid-target-finder/raw_network_combined/shortest_path_bp_Total.pkl', 'rb') as f:\n",
    "    \n",
    "    shortest_paths = pkl.load(f)"
   ]
  },
  {
   "cell_type": "code",
   "execution_count": 28,
   "metadata": {},
   "outputs": [
    {
     "data": {
      "text/plain": [
       "12079"
      ]
     },
     "execution_count": 28,
     "metadata": {},
     "output_type": "execute_result"
    }
   ],
   "source": [
    "len(shortest_paths)"
   ]
  },
  {
   "cell_type": "code",
   "execution_count": 29,
   "metadata": {},
   "outputs": [
    {
     "data": {
      "text/plain": [
       "7468"
      ]
     },
     "execution_count": 29,
     "metadata": {},
     "output_type": "execute_result"
    }
   ],
   "source": [
    "len(set([i for i in shortest_paths.keys() if '-' in i]))"
   ]
  },
  {
   "cell_type": "code",
   "execution_count": 30,
   "metadata": {},
   "outputs": [
    {
     "data": {
      "text/plain": [
       "4611"
      ]
     },
     "execution_count": 30,
     "metadata": {},
     "output_type": "execute_result"
    }
   ],
   "source": [
    "len(set([i for i in shortest_paths.keys() if '-' not in i]))"
   ]
  },
  {
   "cell_type": "code",
   "execution_count": 31,
   "metadata": {},
   "outputs": [],
   "source": [
    "global key_error_count\n",
    "\n",
    "key_error_count = 0"
   ]
  },
  {
   "cell_type": "code",
   "execution_count": 41,
   "metadata": {},
   "outputs": [],
   "source": [
    "flatten = lambda l: [item for sublist in l for item in sublist]\n",
    "\n",
    "def get_neg_path_lengths(U):\n",
    "        \n",
    "    try:\n",
    "    \n",
    "        path_lengths = [[i,len(v)-1] for i,v in shortest_paths[U].items()][::-1]\n",
    "\n",
    "        path_lengths = [i for i in path_lengths if (i[1] % 2 != 0) and (i[1] > 1)]\n",
    "        \n",
    "        #path_lengths = [[i, float((len(v)-1) / (node_centrality_map[U] + 0.1))] for i,v in shortest_paths[U].items()][::-1]\n",
    "\n",
    "        cutoff_index = int(len(path_lengths) * 0.01)\n",
    "        \n",
    "    except KeyError as e:\n",
    "        \n",
    "        return []\n",
    "        \n",
    "    \n",
    "    return [v[1] for v in path_lengths[:cutoff_index]]\n",
    "    \n",
    "\n",
    "\n",
    "def get_path_lengths(U):\n",
    "        \n",
    "    try:\n",
    "    \n",
    "        path_lengths = [[i,len(v)-1] for i,v in shortest_paths[U].items()][::-1]\n",
    "\n",
    "        path_lengths = [i for i in path_lengths if (i[1] % 2 != 0)]\n",
    "\n",
    "        \n",
    "    except KeyError as e:\n",
    "        \n",
    "        return []\n",
    "        \n",
    "    \n",
    "    return [v[1] for v in path_lengths]\n",
    "\n",
    "\n",
    "\n",
    "def get_negative_edges(U):\n",
    "        \n",
    "    try:\n",
    "    \n",
    "        ## Getting shortest paths\n",
    "        path_lengths = [[i,len(v)-1] for i,v in shortest_paths[U].items()]\n",
    "        \n",
    "        ## Top/Bottom of bipartite nw. Remove positive samples\n",
    "        path_lengths = [i for i in path_lengths if (i[1] % 2 != 0) and (i[1] > 1)]\n",
    "        \n",
    "        \n",
    "        #path_lengths = [[i[0], float((i[1]) \\\n",
    "        #                    * (node_centrality_map[i[0]] - centrality_mean)/centrality_std)] \\\n",
    "        #                        for i in path_lengths][::-1] # computing centrality for neighbors of U\n",
    "\n",
    "        #path_lengths = [[i[0], i[1]] for i in path_lengths][::-1]\n",
    "        \n",
    "        #cutoff_index = int(len(path_lengths) * 0.01)\n",
    "        #cutoff_index = 11\n",
    "        \n",
    "        \n",
    "    except KeyError as e:\n",
    "        \n",
    "        return []\n",
    "        \n",
    "    return [[U,v[0]] for v in path_lengths if v[1] >= 9] # was == 7 hops \n",
    "    #return [[U,v[0]] for v in path_lengths[:cutoff_index]]\n",
    "\n",
    "\n",
    "def get_random_negative_edges(U):\n",
    "        \n",
    "    try:\n",
    "    \n",
    "        ## Getting shortest paths\n",
    "        path_lengths = [[i,len(v)-1] for i,v in shortest_paths[U].items()]\n",
    "        \n",
    "        ## Top/Bottom of bipartite nw. Remove positive samples\n",
    "        path_lengths = [i for i in path_lengths if (i[1] % 2 != 0) and (i[1] > 1)]\n",
    "        \n",
    "        path_lengths = [[i[0], i[1]] \\\n",
    "                                for i in path_lengths][::-1] \n",
    "    \n",
    "        cutoff_index = int(len(path_lengths) * 0.01)\n",
    "        \n",
    "        random_indices =  list(np.random.choice(np.arange(0,len(path_lengths)), size = cutoff_index))        \n",
    "\n",
    "        return [[U,v[0]] for v in list(np.array(path_lengths)[random_indices])]\n",
    "    \n",
    "    except KeyError as e:\n",
    "        return []\n",
    "                \n",
    "    \n",
    "def get_positive_edges(U):\n",
    "    \n",
    "    try:\n",
    "    \n",
    "        path_lengths = [[i,len(v)-1] for i,v in shortest_paths[U].items()][::-1]\n",
    "\n",
    "        path_lengths = [i for i in path_lengths if (i[1] == 1)]\n",
    "        \n",
    "    except KeyError as e:\n",
    "        \n",
    "        return []\n",
    "        \n",
    "    \n",
    "    return [[U,v[0]] for v in path_lengths]\n",
    "    "
   ]
  },
  {
   "cell_type": "code",
   "execution_count": 36,
   "metadata": {
    "scrolled": true
   },
   "outputs": [
    {
     "data": {
      "text/html": [
       "<div>\n",
       "<style scoped>\n",
       "    .dataframe tbody tr th:only-of-type {\n",
       "        vertical-align: middle;\n",
       "    }\n",
       "\n",
       "    .dataframe tbody tr th {\n",
       "        vertical-align: top;\n",
       "    }\n",
       "\n",
       "    .dataframe thead th {\n",
       "        text-align: right;\n",
       "    }\n",
       "</style>\n",
       "<table border=\"1\" class=\"dataframe\">\n",
       "  <thead>\n",
       "    <tr style=\"text-align: right;\">\n",
       "      <th></th>\n",
       "      <th>Label</th>\n",
       "      <th>Type</th>\n",
       "      <th>IsDrug</th>\n",
       "      <th>IsNDM</th>\n",
       "      <th>IsDrugTarget</th>\n",
       "      <th>IsNDMTarget</th>\n",
       "      <th>Type2</th>\n",
       "      <th>centrality</th>\n",
       "    </tr>\n",
       "    <tr>\n",
       "      <th>Id</th>\n",
       "      <th></th>\n",
       "      <th></th>\n",
       "      <th></th>\n",
       "      <th></th>\n",
       "      <th></th>\n",
       "      <th></th>\n",
       "      <th></th>\n",
       "      <th></th>\n",
       "    </tr>\n",
       "  </thead>\n",
       "  <tbody>\n",
       "    <tr>\n",
       "      <th>1</th>\n",
       "      <td>IDYZIJYBMGIQMJ-UHFFFAOYSA-N</td>\n",
       "      <td>Chemical</td>\n",
       "      <td>True</td>\n",
       "      <td>False</td>\n",
       "      <td>False</td>\n",
       "      <td>False</td>\n",
       "      <td>Just DrugBank</td>\n",
       "      <td>0.000032</td>\n",
       "    </tr>\n",
       "    <tr>\n",
       "      <th>2</th>\n",
       "      <td>JGWRKYUXBBNENE-UHFFFAOYSA-N</td>\n",
       "      <td>Chemical</td>\n",
       "      <td>True</td>\n",
       "      <td>False</td>\n",
       "      <td>False</td>\n",
       "      <td>False</td>\n",
       "      <td>Just DrugBank</td>\n",
       "      <td>0.000364</td>\n",
       "    </tr>\n",
       "    <tr>\n",
       "      <th>3</th>\n",
       "      <td>RPWFJAMTCNSJKK-UHFFFAOYSA-N</td>\n",
       "      <td>Chemical</td>\n",
       "      <td>False</td>\n",
       "      <td>True</td>\n",
       "      <td>False</td>\n",
       "      <td>False</td>\n",
       "      <td>Just NDM</td>\n",
       "      <td>0.000000</td>\n",
       "    </tr>\n",
       "    <tr>\n",
       "      <th>4</th>\n",
       "      <td>HUJXISJLAPAFBO-IBGZPJMESA-N</td>\n",
       "      <td>Chemical</td>\n",
       "      <td>True</td>\n",
       "      <td>False</td>\n",
       "      <td>False</td>\n",
       "      <td>False</td>\n",
       "      <td>Just DrugBank</td>\n",
       "      <td>0.000000</td>\n",
       "    </tr>\n",
       "    <tr>\n",
       "      <th>5</th>\n",
       "      <td>HDWIHXWEUNVBIY-UHFFFAOYSA-N</td>\n",
       "      <td>Chemical</td>\n",
       "      <td>True</td>\n",
       "      <td>False</td>\n",
       "      <td>False</td>\n",
       "      <td>False</td>\n",
       "      <td>Just DrugBank</td>\n",
       "      <td>0.000068</td>\n",
       "    </tr>\n",
       "    <tr>\n",
       "      <th>...</th>\n",
       "      <td>...</td>\n",
       "      <td>...</td>\n",
       "      <td>...</td>\n",
       "      <td>...</td>\n",
       "      <td>...</td>\n",
       "      <td>...</td>\n",
       "      <td>...</td>\n",
       "      <td>...</td>\n",
       "    </tr>\n",
       "    <tr>\n",
       "      <th>13211</th>\n",
       "      <td>MGSNLSPQLCLMPFILGLLSGGVTTTPWSLARPQGSCSLEGVEIKG...</td>\n",
       "      <td>Protein</td>\n",
       "      <td>False</td>\n",
       "      <td>False</td>\n",
       "      <td>True</td>\n",
       "      <td>False</td>\n",
       "      <td>Protein</td>\n",
       "      <td>0.000210</td>\n",
       "    </tr>\n",
       "    <tr>\n",
       "      <th>13212</th>\n",
       "      <td>OHCQJHSOBUTRHG-HBQIERAFNA-N</td>\n",
       "      <td>Chemical</td>\n",
       "      <td>False</td>\n",
       "      <td>False</td>\n",
       "      <td>False</td>\n",
       "      <td>False</td>\n",
       "      <td>Chemical</td>\n",
       "      <td>0.000031</td>\n",
       "    </tr>\n",
       "    <tr>\n",
       "      <th>13213</th>\n",
       "      <td>XJNKUWDMCBZMTG-OAHLLOKOSA-N</td>\n",
       "      <td>Chemical</td>\n",
       "      <td>True</td>\n",
       "      <td>False</td>\n",
       "      <td>False</td>\n",
       "      <td>False</td>\n",
       "      <td>Just DrugBank</td>\n",
       "      <td>0.000000</td>\n",
       "    </tr>\n",
       "    <tr>\n",
       "      <th>13214</th>\n",
       "      <td>HRRHGLKNOJHIGY-UHFFFAOYSA-N</td>\n",
       "      <td>Chemical</td>\n",
       "      <td>True</td>\n",
       "      <td>False</td>\n",
       "      <td>False</td>\n",
       "      <td>False</td>\n",
       "      <td>Just DrugBank</td>\n",
       "      <td>0.000000</td>\n",
       "    </tr>\n",
       "    <tr>\n",
       "      <th>13215</th>\n",
       "      <td>KYNFOMQIXZUKRK-UHFFFAOYSA-N</td>\n",
       "      <td>Chemical</td>\n",
       "      <td>True</td>\n",
       "      <td>False</td>\n",
       "      <td>False</td>\n",
       "      <td>False</td>\n",
       "      <td>Just DrugBank</td>\n",
       "      <td>0.000010</td>\n",
       "    </tr>\n",
       "  </tbody>\n",
       "</table>\n",
       "<p>13215 rows × 8 columns</p>\n",
       "</div>"
      ],
      "text/plain": [
       "                                                   Label      Type  IsDrug  \\\n",
       "Id                                                                           \n",
       "1                            IDYZIJYBMGIQMJ-UHFFFAOYSA-N  Chemical    True   \n",
       "2                            JGWRKYUXBBNENE-UHFFFAOYSA-N  Chemical    True   \n",
       "3                            RPWFJAMTCNSJKK-UHFFFAOYSA-N  Chemical   False   \n",
       "4                            HUJXISJLAPAFBO-IBGZPJMESA-N  Chemical    True   \n",
       "5                            HDWIHXWEUNVBIY-UHFFFAOYSA-N  Chemical    True   \n",
       "...                                                  ...       ...     ...   \n",
       "13211  MGSNLSPQLCLMPFILGLLSGGVTTTPWSLARPQGSCSLEGVEIKG...   Protein   False   \n",
       "13212                        OHCQJHSOBUTRHG-HBQIERAFNA-N  Chemical   False   \n",
       "13213                        XJNKUWDMCBZMTG-OAHLLOKOSA-N  Chemical    True   \n",
       "13214                        HRRHGLKNOJHIGY-UHFFFAOYSA-N  Chemical    True   \n",
       "13215                        KYNFOMQIXZUKRK-UHFFFAOYSA-N  Chemical    True   \n",
       "\n",
       "       IsNDM  IsDrugTarget  IsNDMTarget          Type2  centrality  \n",
       "Id                                                                  \n",
       "1      False         False        False  Just DrugBank    0.000032  \n",
       "2      False         False        False  Just DrugBank    0.000364  \n",
       "3       True         False        False       Just NDM    0.000000  \n",
       "4      False         False        False  Just DrugBank    0.000000  \n",
       "5      False         False        False  Just DrugBank    0.000068  \n",
       "...      ...           ...          ...            ...         ...  \n",
       "13211  False          True        False        Protein    0.000210  \n",
       "13212  False         False        False       Chemical    0.000031  \n",
       "13213  False         False        False  Just DrugBank    0.000000  \n",
       "13214  False         False        False  Just DrugBank    0.000000  \n",
       "13215  False         False        False  Just DrugBank    0.000010  \n",
       "\n",
       "[13215 rows x 8 columns]"
      ]
     },
     "execution_count": 36,
     "metadata": {},
     "output_type": "execute_result"
    }
   ],
   "source": [
    "nodes"
   ]
  },
  {
   "cell_type": "code",
   "execution_count": 38,
   "metadata": {},
   "outputs": [],
   "source": [
    "all_paths = nodes['Label'].map(get_path_lengths)"
   ]
  },
  {
   "cell_type": "code",
   "execution_count": 39,
   "metadata": {},
   "outputs": [],
   "source": [
    "all_paths_flat = flatten(list(all_paths.values))"
   ]
  },
  {
   "cell_type": "code",
   "execution_count": 40,
   "metadata": {},
   "outputs": [
    {
     "data": {
      "text/plain": [
       "(array([8.72166266e-04, 0.00000000e+00, 1.01698803e-01, 0.00000000e+00,\n",
       "        5.06435177e-01, 0.00000000e+00, 3.21967845e-01, 0.00000000e+00,\n",
       "        6.14987135e-02, 0.00000000e+00, 7.01156860e-03, 0.00000000e+00,\n",
       "        4.91448397e-04, 0.00000000e+00, 2.34354935e-05, 8.42167672e-07]),\n",
       " array([ 1.,  2.,  3.,  4.,  5.,  6.,  7.,  8.,  9., 10., 11., 12., 13.,\n",
       "        14., 15., 16., 17.]),\n",
       " <a list of 16 Patch objects>)"
      ]
     },
     "execution_count": 40,
     "metadata": {},
     "output_type": "execute_result"
    },
    {
     "data": {
      "image/png": "[encoded data removed]",
      "text/plain": [
       "<Figure size 432x288 with 1 Axes>"
      ]
     },
     "metadata": {
      "needs_background": "light"
     },
     "output_type": "display_data"
    }
   ],
   "source": [
    "plt.title('All Paths vs Shortest Paths')\n",
    "plt.hist(all_paths_flat, bins = 16, density = True)"
   ]
  },
  {
   "cell_type": "code",
   "execution_count": 42,
   "metadata": {},
   "outputs": [],
   "source": [
    "neg_paths = nodes['Label'].map(get_neg_path_lengths)"
   ]
  },
  {
   "cell_type": "code",
   "execution_count": 43,
   "metadata": {},
   "outputs": [],
   "source": [
    "neg_paths_flat = flatten(list(neg_paths.values))"
   ]
  },
  {
   "cell_type": "code",
   "execution_count": 44,
   "metadata": {},
   "outputs": [
    {
     "data": {
      "image/png": "[encoded data removed]",
      "text/plain": [
       "<Figure size 1440x720 with 1 Axes>"
      ]
     },
     "metadata": {
      "needs_background": "light"
     },
     "output_type": "display_data"
    }
   ],
   "source": [
    "plt.figure(figsize=(20,10))\n",
    "plt.title('All Shortest Paths vs Negative Paths')\n",
    "#plt.hist(neg_paths_flat, bins = 16, density = True)\n",
    "\n",
    "ax = sns.distplot(neg_paths_flat, label = 'Negative Path Length', norm_hist = True, bins = 19, kde = False)\n",
    "ax = sns.distplot(all_paths_flat, label = 'All Path Length', norm_hist = True, bins = 19, kde = False)\n",
    "\n",
    "ax.set(xlabel='Path Length', ylabel='Probability')\n",
    "plt.xticks(np.arange(0, 20, step=1))\n",
    "\n",
    "plt.legend()\n",
    "plt.show()"
   ]
  },
  {
   "cell_type": "code",
   "execution_count": 35,
   "metadata": {},
   "outputs": [
    {
     "data": {
      "text/html": [
       "<div>\n",
       "<style scoped>\n",
       "    .dataframe tbody tr th:only-of-type {\n",
       "        vertical-align: middle;\n",
       "    }\n",
       "\n",
       "    .dataframe tbody tr th {\n",
       "        vertical-align: top;\n",
       "    }\n",
       "\n",
       "    .dataframe thead th {\n",
       "        text-align: right;\n",
       "    }\n",
       "</style>\n",
       "<table border=\"1\" class=\"dataframe\">\n",
       "  <thead>\n",
       "    <tr style=\"text-align: right;\">\n",
       "      <th></th>\n",
       "      <th>Label</th>\n",
       "      <th>Type</th>\n",
       "      <th>IsDrug</th>\n",
       "      <th>IsNDM</th>\n",
       "      <th>IsDrugTarget</th>\n",
       "      <th>IsNDMTarget</th>\n",
       "      <th>Type2</th>\n",
       "      <th>centrality</th>\n",
       "    </tr>\n",
       "    <tr>\n",
       "      <th>Id</th>\n",
       "      <th></th>\n",
       "      <th></th>\n",
       "      <th></th>\n",
       "      <th></th>\n",
       "      <th></th>\n",
       "      <th></th>\n",
       "      <th></th>\n",
       "      <th></th>\n",
       "    </tr>\n",
       "  </thead>\n",
       "  <tbody>\n",
       "    <tr>\n",
       "      <th>1</th>\n",
       "      <td>IDYZIJYBMGIQMJ-UHFFFAOYSA-N</td>\n",
       "      <td>Chemical</td>\n",
       "      <td>True</td>\n",
       "      <td>False</td>\n",
       "      <td>False</td>\n",
       "      <td>False</td>\n",
       "      <td>Just DrugBank</td>\n",
       "      <td>0.000017</td>\n",
       "    </tr>\n",
       "    <tr>\n",
       "      <th>2</th>\n",
       "      <td>JGWRKYUXBBNENE-UHFFFAOYSA-N</td>\n",
       "      <td>Chemical</td>\n",
       "      <td>True</td>\n",
       "      <td>False</td>\n",
       "      <td>False</td>\n",
       "      <td>False</td>\n",
       "      <td>Just DrugBank</td>\n",
       "      <td>0.000338</td>\n",
       "    </tr>\n",
       "    <tr>\n",
       "      <th>3</th>\n",
       "      <td>RPWFJAMTCNSJKK-UHFFFAOYSA-N</td>\n",
       "      <td>Chemical</td>\n",
       "      <td>False</td>\n",
       "      <td>True</td>\n",
       "      <td>False</td>\n",
       "      <td>False</td>\n",
       "      <td>Just NDM</td>\n",
       "      <td>0.000000</td>\n",
       "    </tr>\n",
       "    <tr>\n",
       "      <th>4</th>\n",
       "      <td>HUJXISJLAPAFBO-IBGZPJMESA-N</td>\n",
       "      <td>Chemical</td>\n",
       "      <td>True</td>\n",
       "      <td>False</td>\n",
       "      <td>False</td>\n",
       "      <td>False</td>\n",
       "      <td>Just DrugBank</td>\n",
       "      <td>0.000000</td>\n",
       "    </tr>\n",
       "    <tr>\n",
       "      <th>5</th>\n",
       "      <td>HDWIHXWEUNVBIY-UHFFFAOYSA-N</td>\n",
       "      <td>Chemical</td>\n",
       "      <td>True</td>\n",
       "      <td>False</td>\n",
       "      <td>False</td>\n",
       "      <td>False</td>\n",
       "      <td>Just DrugBank</td>\n",
       "      <td>0.000038</td>\n",
       "    </tr>\n",
       "    <tr>\n",
       "      <th>...</th>\n",
       "      <td>...</td>\n",
       "      <td>...</td>\n",
       "      <td>...</td>\n",
       "      <td>...</td>\n",
       "      <td>...</td>\n",
       "      <td>...</td>\n",
       "      <td>...</td>\n",
       "      <td>...</td>\n",
       "    </tr>\n",
       "    <tr>\n",
       "      <th>13211</th>\n",
       "      <td>MGSNLSPQLCLMPFILGLLSGGVTTTPWSLARPQGSCSLEGVEIKG...</td>\n",
       "      <td>Protein</td>\n",
       "      <td>False</td>\n",
       "      <td>False</td>\n",
       "      <td>True</td>\n",
       "      <td>False</td>\n",
       "      <td>Protein</td>\n",
       "      <td>0.000445</td>\n",
       "    </tr>\n",
       "    <tr>\n",
       "      <th>13212</th>\n",
       "      <td>OHCQJHSOBUTRHG-HBQIERAFNA-N</td>\n",
       "      <td>Chemical</td>\n",
       "      <td>False</td>\n",
       "      <td>False</td>\n",
       "      <td>False</td>\n",
       "      <td>False</td>\n",
       "      <td>Chemical</td>\n",
       "      <td>0.000009</td>\n",
       "    </tr>\n",
       "    <tr>\n",
       "      <th>13213</th>\n",
       "      <td>XJNKUWDMCBZMTG-OAHLLOKOSA-N</td>\n",
       "      <td>Chemical</td>\n",
       "      <td>True</td>\n",
       "      <td>False</td>\n",
       "      <td>False</td>\n",
       "      <td>False</td>\n",
       "      <td>Just DrugBank</td>\n",
       "      <td>0.000000</td>\n",
       "    </tr>\n",
       "    <tr>\n",
       "      <th>13214</th>\n",
       "      <td>HRRHGLKNOJHIGY-UHFFFAOYSA-N</td>\n",
       "      <td>Chemical</td>\n",
       "      <td>True</td>\n",
       "      <td>False</td>\n",
       "      <td>False</td>\n",
       "      <td>False</td>\n",
       "      <td>Just DrugBank</td>\n",
       "      <td>0.000000</td>\n",
       "    </tr>\n",
       "    <tr>\n",
       "      <th>13215</th>\n",
       "      <td>KYNFOMQIXZUKRK-UHFFFAOYSA-N</td>\n",
       "      <td>Chemical</td>\n",
       "      <td>True</td>\n",
       "      <td>False</td>\n",
       "      <td>False</td>\n",
       "      <td>False</td>\n",
       "      <td>Just DrugBank</td>\n",
       "      <td>0.000011</td>\n",
       "    </tr>\n",
       "  </tbody>\n",
       "</table>\n",
       "<p>13215 rows × 8 columns</p>\n",
       "</div>"
      ],
      "text/plain": [
       "                                                   Label      Type  IsDrug  \\\n",
       "Id                                                                           \n",
       "1                            IDYZIJYBMGIQMJ-UHFFFAOYSA-N  Chemical    True   \n",
       "2                            JGWRKYUXBBNENE-UHFFFAOYSA-N  Chemical    True   \n",
       "3                            RPWFJAMTCNSJKK-UHFFFAOYSA-N  Chemical   False   \n",
       "4                            HUJXISJLAPAFBO-IBGZPJMESA-N  Chemical    True   \n",
       "5                            HDWIHXWEUNVBIY-UHFFFAOYSA-N  Chemical    True   \n",
       "...                                                  ...       ...     ...   \n",
       "13211  MGSNLSPQLCLMPFILGLLSGGVTTTPWSLARPQGSCSLEGVEIKG...   Protein   False   \n",
       "13212                        OHCQJHSOBUTRHG-HBQIERAFNA-N  Chemical   False   \n",
       "13213                        XJNKUWDMCBZMTG-OAHLLOKOSA-N  Chemical    True   \n",
       "13214                        HRRHGLKNOJHIGY-UHFFFAOYSA-N  Chemical    True   \n",
       "13215                        KYNFOMQIXZUKRK-UHFFFAOYSA-N  Chemical    True   \n",
       "\n",
       "       IsNDM  IsDrugTarget  IsNDMTarget          Type2  centrality  \n",
       "Id                                                                  \n",
       "1      False         False        False  Just DrugBank    0.000017  \n",
       "2      False         False        False  Just DrugBank    0.000338  \n",
       "3       True         False        False       Just NDM    0.000000  \n",
       "4      False         False        False  Just DrugBank    0.000000  \n",
       "5      False         False        False  Just DrugBank    0.000038  \n",
       "...      ...           ...          ...            ...         ...  \n",
       "13211  False          True        False        Protein    0.000445  \n",
       "13212  False         False        False       Chemical    0.000009  \n",
       "13213  False         False        False  Just DrugBank    0.000000  \n",
       "13214  False         False        False  Just DrugBank    0.000000  \n",
       "13215  False         False        False  Just DrugBank    0.000011  \n",
       "\n",
       "[13215 rows x 8 columns]"
      ]
     },
     "execution_count": 35,
     "metadata": {},
     "output_type": "execute_result"
    }
   ],
   "source": [
    "nodes"
   ]
  },
  {
   "cell_type": "code",
   "execution_count": 17,
   "metadata": {},
   "outputs": [
    {
     "data": {
      "text/plain": [
       "Id\n",
       "1    [[IDYZIJYBMGIQMJ-UHFFFAOYSA-N, MLLLLLVPLFLRPLG...\n",
       "2    [[JGWRKYUXBBNENE-UHFFFAOYSA-N, MAKGFYISKSLGILG...\n",
       "3                                                   []\n",
       "4    [[HUJXISJLAPAFBO-IBGZPJMESA-N, MKKIWLALAGLVLAF...\n",
       "5    [[HDWIHXWEUNVBIY-UHFFFAOYSA-N, MREIVHIQAGQCGNQ...\n",
       "Name: Label, dtype: object"
      ]
     },
     "execution_count": 17,
     "metadata": {},
     "output_type": "execute_result"
    }
   ],
   "source": [
    "nodes['Label'][:5].map(get_random_negative_edges)"
   ]
  },
  {
   "cell_type": "code",
   "execution_count": 149,
   "metadata": {},
   "outputs": [
    {
     "data": {
      "text/plain": [
       "array([1, 3])"
      ]
     },
     "execution_count": 149,
     "metadata": {},
     "output_type": "execute_result"
    }
   ],
   "source": [
    "np.arange(1, 20, 2)[[0,1]]"
   ]
  },
  {
   "cell_type": "code",
   "execution_count": 54,
   "metadata": {},
   "outputs": [],
   "source": [
    "negative_pairs = nodes['Label'].map(get_negative_edges) ## Exactly == 7 hop edges "
   ]
  },
  {
   "cell_type": "code",
   "execution_count": 36,
   "metadata": {},
   "outputs": [
    {
     "data": {
      "text/plain": [
       "Id\n",
       "1        [[IDYZIJYBMGIQMJ-UHFFFAOYSA-N, MAALRVLLSCVRGPL...\n",
       "2        [[JGWRKYUXBBNENE-UHFFFAOYSA-N, MSRRSLSLWFPLLLL...\n",
       "3                                                       []\n",
       "4        [[HUJXISJLAPAFBO-IBGZPJMESA-N, MLKPALEPRGGFSFE...\n",
       "5        [[HDWIHXWEUNVBIY-UHFFFAOYSA-N, PQITLWQRPLVTIKI...\n",
       "                               ...                        \n",
       "13211    [[MGSNLSPQLCLMPFILGLLSGGVTTTPWSLARPQGSCSLEGVEI...\n",
       "13212    [[OHCQJHSOBUTRHG-HBQIERAFNA-N, MSLIATVGPTGGVKN...\n",
       "13213    [[XJNKUWDMCBZMTG-OAHLLOKOSA-N, MVQAPSVYVCGFVER...\n",
       "13214    [[HRRHGLKNOJHIGY-UHFFFAOYSA-N, MSPAPVQVMGVLNVT...\n",
       "13215    [[KYNFOMQIXZUKRK-UHFFFAOYSA-N, MAEAPPRRLGLGPPP...\n",
       "Name: Label, Length: 13215, dtype: object"
      ]
     },
     "execution_count": 36,
     "metadata": {},
     "output_type": "execute_result"
    }
   ],
   "source": [
    "negative_pairs"
   ]
  },
  {
   "cell_type": "code",
   "execution_count": 55,
   "metadata": {},
   "outputs": [],
   "source": [
    "negative_pairs = flatten(list(negative_pairs))\n",
    "negative_pairs = pd.DataFrame(negative_pairs, columns = ['Source', 'Target'])\n",
    "\n",
    "id_node_inv_map = {v:i for i,v in nodes['Label'].to_dict().items()}\n",
    "\n",
    "negative_pairs['Source'] = negative_pairs['Source'].map(id_node_inv_map)\n",
    "negative_pairs['Target'] = negative_pairs['Target'].map(id_node_inv_map)"
   ]
  },
  {
   "cell_type": "code",
   "execution_count": 56,
   "metadata": {},
   "outputs": [
    {
     "data": {
      "text/plain": [
       "2022"
      ]
     },
     "execution_count": 56,
     "metadata": {},
     "output_type": "execute_result"
    }
   ],
   "source": [
    "negative_pairs['Target'][0]"
   ]
  },
  {
   "cell_type": "code",
   "execution_count": 57,
   "metadata": {},
   "outputs": [],
   "source": [
    "negative_pairs['Type'] = 'Undirected'"
   ]
  },
  {
   "cell_type": "code",
   "execution_count": 58,
   "metadata": {},
   "outputs": [
    {
     "data": {
      "text/html": [
       "<div>\n",
       "<style scoped>\n",
       "    .dataframe tbody tr th:only-of-type {\n",
       "        vertical-align: middle;\n",
       "    }\n",
       "\n",
       "    .dataframe tbody tr th {\n",
       "        vertical-align: top;\n",
       "    }\n",
       "\n",
       "    .dataframe thead th {\n",
       "        text-align: right;\n",
       "    }\n",
       "</style>\n",
       "<table border=\"1\" class=\"dataframe\">\n",
       "  <thead>\n",
       "    <tr style=\"text-align: right;\">\n",
       "      <th></th>\n",
       "      <th>Source</th>\n",
       "      <th>Target</th>\n",
       "      <th>Type</th>\n",
       "    </tr>\n",
       "  </thead>\n",
       "  <tbody>\n",
       "    <tr>\n",
       "      <th>0</th>\n",
       "      <td>1</td>\n",
       "      <td>2022</td>\n",
       "      <td>Undirected</td>\n",
       "    </tr>\n",
       "    <tr>\n",
       "      <th>1</th>\n",
       "      <td>1</td>\n",
       "      <td>3550</td>\n",
       "      <td>Undirected</td>\n",
       "    </tr>\n",
       "    <tr>\n",
       "      <th>2</th>\n",
       "      <td>1</td>\n",
       "      <td>2304</td>\n",
       "      <td>Undirected</td>\n",
       "    </tr>\n",
       "    <tr>\n",
       "      <th>3</th>\n",
       "      <td>1</td>\n",
       "      <td>11122</td>\n",
       "      <td>Undirected</td>\n",
       "    </tr>\n",
       "    <tr>\n",
       "      <th>4</th>\n",
       "      <td>1</td>\n",
       "      <td>11334</td>\n",
       "      <td>Undirected</td>\n",
       "    </tr>\n",
       "    <tr>\n",
       "      <th>...</th>\n",
       "      <td>...</td>\n",
       "      <td>...</td>\n",
       "      <td>...</td>\n",
       "    </tr>\n",
       "    <tr>\n",
       "      <th>22173887</th>\n",
       "      <td>13215</td>\n",
       "      <td>347</td>\n",
       "      <td>Undirected</td>\n",
       "    </tr>\n",
       "    <tr>\n",
       "      <th>22173888</th>\n",
       "      <td>13215</td>\n",
       "      <td>5067</td>\n",
       "      <td>Undirected</td>\n",
       "    </tr>\n",
       "    <tr>\n",
       "      <th>22173889</th>\n",
       "      <td>13215</td>\n",
       "      <td>1690</td>\n",
       "      <td>Undirected</td>\n",
       "    </tr>\n",
       "    <tr>\n",
       "      <th>22173890</th>\n",
       "      <td>13215</td>\n",
       "      <td>2485</td>\n",
       "      <td>Undirected</td>\n",
       "    </tr>\n",
       "    <tr>\n",
       "      <th>22173891</th>\n",
       "      <td>13215</td>\n",
       "      <td>1080</td>\n",
       "      <td>Undirected</td>\n",
       "    </tr>\n",
       "  </tbody>\n",
       "</table>\n",
       "<p>22173892 rows × 3 columns</p>\n",
       "</div>"
      ],
      "text/plain": [
       "          Source  Target        Type\n",
       "0              1    2022  Undirected\n",
       "1              1    3550  Undirected\n",
       "2              1    2304  Undirected\n",
       "3              1   11122  Undirected\n",
       "4              1   11334  Undirected\n",
       "...          ...     ...         ...\n",
       "22173887   13215     347  Undirected\n",
       "22173888   13215    5067  Undirected\n",
       "22173889   13215    1690  Undirected\n",
       "22173890   13215    2485  Undirected\n",
       "22173891   13215    1080  Undirected\n",
       "\n",
       "[22173892 rows x 3 columns]"
      ]
     },
     "execution_count": 58,
     "metadata": {},
     "output_type": "execute_result"
    }
   ],
   "source": [
    "negative_pairs"
   ]
  },
  {
   "cell_type": "code",
   "execution_count": 59,
   "metadata": {},
   "outputs": [
    {
     "data": {
      "text/plain": [
       "0           True\n",
       "1           True\n",
       "2           True\n",
       "3           True\n",
       "4           True\n",
       "            ... \n",
       "26927701    True\n",
       "26927702    True\n",
       "26927703    True\n",
       "26927704    True\n",
       "26927705    True\n",
       "Name: Source, Length: 26958519, dtype: bool"
      ]
     },
     "execution_count": 59,
     "metadata": {},
     "output_type": "execute_result"
    }
   ],
   "source": [
    "edges['Source'].map(nodes['Label'].to_dict()).str.contains('-')"
   ]
  },
  {
   "cell_type": "markdown",
   "metadata": {},
   "source": [
    "## Combine Positive(edges) and negative DF"
   ]
  },
  {
   "cell_type": "code",
   "execution_count": 88,
   "metadata": {},
   "outputs": [],
   "source": [
    "edges['Y'] = 1"
   ]
  },
  {
   "cell_type": "code",
   "execution_count": 89,
   "metadata": {},
   "outputs": [],
   "source": [
    "negative_pairs['Y'] = 0"
   ]
  },
  {
   "cell_type": "code",
   "execution_count": 90,
   "metadata": {},
   "outputs": [],
   "source": [
    "#edges = pd.concat([edges, negative_pairs.sample(frac = 0.10)]) # .sample(frac = 0.15)]) # randomly choosing 15% of the neg samples # use for version 03\n",
    "\n",
    "edges = pd.concat([edges, negative_pairs]) # .sample(frac = 0.15)]) # randomly choosing 15% of the neg samples # use for version 03\n",
    "\n"
   ]
  },
  {
   "cell_type": "code",
   "execution_count": 91,
   "metadata": {},
   "outputs": [
    {
     "data": {
      "text/plain": [
       "22204705"
      ]
     },
     "execution_count": 91,
     "metadata": {},
     "output_type": "execute_result"
    }
   ],
   "source": [
    "len(edges)"
   ]
  },
  {
   "cell_type": "markdown",
   "metadata": {},
   "source": [
    "## Verify Integrity of DataFrame"
   ]
  },
  {
   "cell_type": "code",
   "execution_count": 92,
   "metadata": {
    "scrolled": true
   },
   "outputs": [
    {
     "data": {
      "text/plain": [
       "<matplotlib.axes._subplots.AxesSubplot at 0x7f8c913c91d0>"
      ]
     },
     "execution_count": 92,
     "metadata": {},
     "output_type": "execute_result"
    },
    {
     "data": {
      "image/png": "[encoded data removed]",
      "text/plain": [
       "<Figure size 432x288 with 1 Axes>"
      ]
     },
     "metadata": {
      "needs_background": "light"
     },
     "output_type": "display_data"
    }
   ],
   "source": [
    "edges['Y'].hist(log = True)"
   ]
  },
  {
   "cell_type": "code",
   "execution_count": 93,
   "metadata": {},
   "outputs": [
    {
     "data": {
      "text/plain": [
       "0    22173892\n",
       "1       30813\n",
       "Name: Y, dtype: int64"
      ]
     },
     "execution_count": 93,
     "metadata": {},
     "output_type": "execute_result"
    }
   ],
   "source": [
    "edges['Y'].value_counts()"
   ]
  },
  {
   "cell_type": "code",
   "execution_count": 94,
   "metadata": {},
   "outputs": [
    {
     "data": {
      "text/plain": [
       "1.0"
      ]
     },
     "execution_count": 94,
     "metadata": {},
     "output_type": "execute_result"
    }
   ],
   "source": [
    "len(edges.drop_duplicates(['Source', 'Target']))/len(edges)"
   ]
  },
  {
   "cell_type": "code",
   "execution_count": 95,
   "metadata": {},
   "outputs": [],
   "source": [
    "edges = edges.drop_duplicates(['Source', 'Target'])"
   ]
  },
  {
   "cell_type": "code",
   "execution_count": 96,
   "metadata": {},
   "outputs": [
    {
     "data": {
      "text/html": [
       "<div>\n",
       "<style scoped>\n",
       "    .dataframe tbody tr th:only-of-type {\n",
       "        vertical-align: middle;\n",
       "    }\n",
       "\n",
       "    .dataframe tbody tr th {\n",
       "        vertical-align: top;\n",
       "    }\n",
       "\n",
       "    .dataframe thead th {\n",
       "        text-align: right;\n",
       "    }\n",
       "</style>\n",
       "<table border=\"1\" class=\"dataframe\">\n",
       "  <thead>\n",
       "    <tr style=\"text-align: right;\">\n",
       "      <th></th>\n",
       "      <th>Source</th>\n",
       "      <th>Target</th>\n",
       "      <th>Type</th>\n",
       "      <th>Y</th>\n",
       "    </tr>\n",
       "  </thead>\n",
       "  <tbody>\n",
       "  </tbody>\n",
       "</table>\n",
       "</div>"
      ],
      "text/plain": [
       "Empty DataFrame\n",
       "Columns: [Source, Target, Type, Y]\n",
       "Index: []"
      ]
     },
     "execution_count": 96,
     "metadata": {},
     "output_type": "execute_result"
    }
   ],
   "source": [
    "edges[edges['Target'] == None]"
   ]
  },
  {
   "cell_type": "code",
   "execution_count": 97,
   "metadata": {},
   "outputs": [],
   "source": [
    "G = nx.Graph()"
   ]
  },
  {
   "cell_type": "code",
   "execution_count": 98,
   "metadata": {},
   "outputs": [],
   "source": [
    "#G.add_edges_from(list(zip(list(negative_pairs['Source']), list(negative_pairs['Target']))))"
   ]
  },
  {
   "cell_type": "code",
   "execution_count": 99,
   "metadata": {},
   "outputs": [],
   "source": [
    "G.add_edges_from(list(zip(list(edges['Source']), list(edges['Target']))))"
   ]
  },
  {
   "cell_type": "code",
   "execution_count": 100,
   "metadata": {},
   "outputs": [
    {
     "data": {
      "text/plain": [
       "False"
      ]
     },
     "execution_count": 100,
     "metadata": {},
     "output_type": "execute_result"
    }
   ],
   "source": [
    "nx.is_connected(G)"
   ]
  },
  {
   "cell_type": "code",
   "execution_count": 101,
   "metadata": {},
   "outputs": [
    {
     "data": {
      "text/plain": [
       "True"
      ]
     },
     "execution_count": 101,
     "metadata": {},
     "output_type": "execute_result"
    }
   ],
   "source": [
    "nx.is_bipartite(G)"
   ]
  },
  {
   "cell_type": "code",
   "execution_count": 102,
   "metadata": {},
   "outputs": [],
   "source": [
    "edges['SourceLabel'] = list(pd.merge(edges['Source'],\n",
    "                                     nodes['Label'], left_on = 'Source', right_index = True, how = 'left')['Label'])"
   ]
  },
  {
   "cell_type": "code",
   "execution_count": 103,
   "metadata": {},
   "outputs": [],
   "source": [
    "edges['TargetLabel'] = list(pd.merge(edges['Target'],\n",
    "                                     nodes['Label'], left_on = 'Target', right_index = True, how = 'left')['Label'])"
   ]
  },
  {
   "cell_type": "code",
   "execution_count": 104,
   "metadata": {},
   "outputs": [
    {
     "data": {
      "text/html": [
       "<div>\n",
       "<style scoped>\n",
       "    .dataframe tbody tr th:only-of-type {\n",
       "        vertical-align: middle;\n",
       "    }\n",
       "\n",
       "    .dataframe tbody tr th {\n",
       "        vertical-align: top;\n",
       "    }\n",
       "\n",
       "    .dataframe thead th {\n",
       "        text-align: right;\n",
       "    }\n",
       "</style>\n",
       "<table border=\"1\" class=\"dataframe\">\n",
       "  <thead>\n",
       "    <tr style=\"text-align: right;\">\n",
       "      <th></th>\n",
       "      <th>Source</th>\n",
       "      <th>Target</th>\n",
       "      <th>Type</th>\n",
       "      <th>Y</th>\n",
       "      <th>SourceLabel</th>\n",
       "      <th>TargetLabel</th>\n",
       "    </tr>\n",
       "  </thead>\n",
       "  <tbody>\n",
       "    <tr>\n",
       "      <th>0</th>\n",
       "      <td>6093</td>\n",
       "      <td>11246</td>\n",
       "      <td>Undirected</td>\n",
       "      <td>1</td>\n",
       "      <td>DEJXHCDDTLTVNB-FRVJLOGJSA-N</td>\n",
       "      <td>MEVQLGLGRVYPRPPSKTYRGAFQNLFQSVREVIQNPGPRHPEAAS...</td>\n",
       "    </tr>\n",
       "    <tr>\n",
       "      <th>1</th>\n",
       "      <td>10888</td>\n",
       "      <td>3006</td>\n",
       "      <td>Undirected</td>\n",
       "      <td>1</td>\n",
       "      <td>IAVHKMVGTPXJIC-UHFFFAOYSA-N</td>\n",
       "      <td>MNVTIYDVAREASVSMATVSRVVNGNPNVKPSTRKKVLETIERLGY...</td>\n",
       "    </tr>\n",
       "    <tr>\n",
       "      <th>2</th>\n",
       "      <td>5855</td>\n",
       "      <td>11533</td>\n",
       "      <td>Undirected</td>\n",
       "      <td>1</td>\n",
       "      <td>KFQYTPMOWPVWEJ-INIZCTEOSA-N</td>\n",
       "      <td>MDVLSPGQGNNTTSPPAPFETGGNTTGISDVTVSYQVITSLLLGTL...</td>\n",
       "    </tr>\n",
       "    <tr>\n",
       "      <th>3</th>\n",
       "      <td>4812</td>\n",
       "      <td>431</td>\n",
       "      <td>Undirected</td>\n",
       "      <td>1</td>\n",
       "      <td>GXJABQQUPOEUTA-OLKMYRHANA-N</td>\n",
       "      <td>MALLDVCGAPRGQRPESALPVAGSGRRSDPGHYSFSMRSPELALPR...</td>\n",
       "    </tr>\n",
       "    <tr>\n",
       "      <th>4</th>\n",
       "      <td>9288</td>\n",
       "      <td>2799</td>\n",
       "      <td>Undirected</td>\n",
       "      <td>1</td>\n",
       "      <td>VJYDOJXJUCJUHL-UHFFFAOYSA-N</td>\n",
       "      <td>MGPLPVCLPIMLLLLLPSLLLLLLLPGPGSGEASRILRVHRRGILE...</td>\n",
       "    </tr>\n",
       "    <tr>\n",
       "      <th>...</th>\n",
       "      <td>...</td>\n",
       "      <td>...</td>\n",
       "      <td>...</td>\n",
       "      <td>...</td>\n",
       "      <td>...</td>\n",
       "      <td>...</td>\n",
       "    </tr>\n",
       "    <tr>\n",
       "      <th>22173887</th>\n",
       "      <td>13215</td>\n",
       "      <td>347</td>\n",
       "      <td>Undirected</td>\n",
       "      <td>0</td>\n",
       "      <td>KYNFOMQIXZUKRK-UHFFFAOYSA-N</td>\n",
       "      <td>MALPSLLLLVAALAGGVRPPGARNLTLAVVLPEHNLSYAWAWPRVG...</td>\n",
       "    </tr>\n",
       "    <tr>\n",
       "      <th>22173888</th>\n",
       "      <td>13215</td>\n",
       "      <td>5067</td>\n",
       "      <td>Undirected</td>\n",
       "      <td>0</td>\n",
       "      <td>KYNFOMQIXZUKRK-UHFFFAOYSA-N</td>\n",
       "      <td>MTDVMFKSQIANQLKNLRKSRGLSLDATAQLTGVSKAMLGQIERGE...</td>\n",
       "    </tr>\n",
       "    <tr>\n",
       "      <th>22173889</th>\n",
       "      <td>13215</td>\n",
       "      <td>1690</td>\n",
       "      <td>Undirected</td>\n",
       "      <td>0</td>\n",
       "      <td>KYNFOMQIXZUKRK-UHFFFAOYSA-N</td>\n",
       "      <td>MSIERLGYLGFAVKDVPAWDHFLTKSVGLMAAGSAGDAALYRADQR...</td>\n",
       "    </tr>\n",
       "    <tr>\n",
       "      <th>22173890</th>\n",
       "      <td>13215</td>\n",
       "      <td>2485</td>\n",
       "      <td>Undirected</td>\n",
       "      <td>0</td>\n",
       "      <td>KYNFOMQIXZUKRK-UHFFFAOYSA-N</td>\n",
       "      <td>MSKQAAVIELGYMGISVKDPDAWKSFATDMLGLQVLDEGEKDRFYL...</td>\n",
       "    </tr>\n",
       "    <tr>\n",
       "      <th>22173891</th>\n",
       "      <td>13215</td>\n",
       "      <td>1080</td>\n",
       "      <td>Undirected</td>\n",
       "      <td>0</td>\n",
       "      <td>KYNFOMQIXZUKRK-UHFFFAOYSA-N</td>\n",
       "      <td>MVPERLKQIKGIRILESEDEIPQEGFTCRFGKHTVVANDEESFEIV...</td>\n",
       "    </tr>\n",
       "  </tbody>\n",
       "</table>\n",
       "<p>22204705 rows × 6 columns</p>\n",
       "</div>"
      ],
      "text/plain": [
       "          Source  Target        Type  Y                  SourceLabel  \\\n",
       "0           6093   11246  Undirected  1  DEJXHCDDTLTVNB-FRVJLOGJSA-N   \n",
       "1          10888    3006  Undirected  1  IAVHKMVGTPXJIC-UHFFFAOYSA-N   \n",
       "2           5855   11533  Undirected  1  KFQYTPMOWPVWEJ-INIZCTEOSA-N   \n",
       "3           4812     431  Undirected  1  GXJABQQUPOEUTA-OLKMYRHANA-N   \n",
       "4           9288    2799  Undirected  1  VJYDOJXJUCJUHL-UHFFFAOYSA-N   \n",
       "...          ...     ...         ... ..                          ...   \n",
       "22173887   13215     347  Undirected  0  KYNFOMQIXZUKRK-UHFFFAOYSA-N   \n",
       "22173888   13215    5067  Undirected  0  KYNFOMQIXZUKRK-UHFFFAOYSA-N   \n",
       "22173889   13215    1690  Undirected  0  KYNFOMQIXZUKRK-UHFFFAOYSA-N   \n",
       "22173890   13215    2485  Undirected  0  KYNFOMQIXZUKRK-UHFFFAOYSA-N   \n",
       "22173891   13215    1080  Undirected  0  KYNFOMQIXZUKRK-UHFFFAOYSA-N   \n",
       "\n",
       "                                                TargetLabel  \n",
       "0         MEVQLGLGRVYPRPPSKTYRGAFQNLFQSVREVIQNPGPRHPEAAS...  \n",
       "1         MNVTIYDVAREASVSMATVSRVVNGNPNVKPSTRKKVLETIERLGY...  \n",
       "2         MDVLSPGQGNNTTSPPAPFETGGNTTGISDVTVSYQVITSLLLGTL...  \n",
       "3         MALLDVCGAPRGQRPESALPVAGSGRRSDPGHYSFSMRSPELALPR...  \n",
       "4         MGPLPVCLPIMLLLLLPSLLLLLLLPGPGSGEASRILRVHRRGILE...  \n",
       "...                                                     ...  \n",
       "22173887  MALPSLLLLVAALAGGVRPPGARNLTLAVVLPEHNLSYAWAWPRVG...  \n",
       "22173888  MTDVMFKSQIANQLKNLRKSRGLSLDATAQLTGVSKAMLGQIERGE...  \n",
       "22173889  MSIERLGYLGFAVKDVPAWDHFLTKSVGLMAAGSAGDAALYRADQR...  \n",
       "22173890  MSKQAAVIELGYMGISVKDPDAWKSFATDMLGLQVLDEGEKDRFYL...  \n",
       "22173891  MVPERLKQIKGIRILESEDEIPQEGFTCRFGKHTVVANDEESFEIV...  \n",
       "\n",
       "[22204705 rows x 6 columns]"
      ]
     },
     "execution_count": 104,
     "metadata": {},
     "output_type": "execute_result"
    }
   ],
   "source": [
    "edges"
   ]
  },
  {
   "cell_type": "code",
   "execution_count": 105,
   "metadata": {},
   "outputs": [],
   "source": [
    "_temp0 = edges[edges['SourceLabel'].str.contains('-')]\n",
    "_temp1 = edges[~edges['SourceLabel'].str.contains('-')]"
   ]
  },
  {
   "cell_type": "code",
   "execution_count": 106,
   "metadata": {},
   "outputs": [
    {
     "data": {
      "text/html": [
       "<div>\n",
       "<style scoped>\n",
       "    .dataframe tbody tr th:only-of-type {\n",
       "        vertical-align: middle;\n",
       "    }\n",
       "\n",
       "    .dataframe tbody tr th {\n",
       "        vertical-align: top;\n",
       "    }\n",
       "\n",
       "    .dataframe thead th {\n",
       "        text-align: right;\n",
       "    }\n",
       "</style>\n",
       "<table border=\"1\" class=\"dataframe\">\n",
       "  <thead>\n",
       "    <tr style=\"text-align: right;\">\n",
       "      <th></th>\n",
       "      <th>Source</th>\n",
       "      <th>Target</th>\n",
       "      <th>Type</th>\n",
       "      <th>Y</th>\n",
       "      <th>SourceLabel</th>\n",
       "      <th>TargetLabel</th>\n",
       "    </tr>\n",
       "  </thead>\n",
       "  <tbody>\n",
       "    <tr>\n",
       "      <th>0</th>\n",
       "      <td>6093</td>\n",
       "      <td>11246</td>\n",
       "      <td>Undirected</td>\n",
       "      <td>1</td>\n",
       "      <td>DEJXHCDDTLTVNB-FRVJLOGJSA-N</td>\n",
       "      <td>MEVQLGLGRVYPRPPSKTYRGAFQNLFQSVREVIQNPGPRHPEAAS...</td>\n",
       "    </tr>\n",
       "    <tr>\n",
       "      <th>1</th>\n",
       "      <td>10888</td>\n",
       "      <td>3006</td>\n",
       "      <td>Undirected</td>\n",
       "      <td>1</td>\n",
       "      <td>IAVHKMVGTPXJIC-UHFFFAOYSA-N</td>\n",
       "      <td>MNVTIYDVAREASVSMATVSRVVNGNPNVKPSTRKKVLETIERLGY...</td>\n",
       "    </tr>\n",
       "    <tr>\n",
       "      <th>2</th>\n",
       "      <td>5855</td>\n",
       "      <td>11533</td>\n",
       "      <td>Undirected</td>\n",
       "      <td>1</td>\n",
       "      <td>KFQYTPMOWPVWEJ-INIZCTEOSA-N</td>\n",
       "      <td>MDVLSPGQGNNTTSPPAPFETGGNTTGISDVTVSYQVITSLLLGTL...</td>\n",
       "    </tr>\n",
       "    <tr>\n",
       "      <th>3</th>\n",
       "      <td>4812</td>\n",
       "      <td>431</td>\n",
       "      <td>Undirected</td>\n",
       "      <td>1</td>\n",
       "      <td>GXJABQQUPOEUTA-OLKMYRHANA-N</td>\n",
       "      <td>MALLDVCGAPRGQRPESALPVAGSGRRSDPGHYSFSMRSPELALPR...</td>\n",
       "    </tr>\n",
       "    <tr>\n",
       "      <th>4</th>\n",
       "      <td>9288</td>\n",
       "      <td>2799</td>\n",
       "      <td>Undirected</td>\n",
       "      <td>1</td>\n",
       "      <td>VJYDOJXJUCJUHL-UHFFFAOYSA-N</td>\n",
       "      <td>MGPLPVCLPIMLLLLLPSLLLLLLLPGPGSGEASRILRVHRRGILE...</td>\n",
       "    </tr>\n",
       "    <tr>\n",
       "      <th>...</th>\n",
       "      <td>...</td>\n",
       "      <td>...</td>\n",
       "      <td>...</td>\n",
       "      <td>...</td>\n",
       "      <td>...</td>\n",
       "      <td>...</td>\n",
       "    </tr>\n",
       "    <tr>\n",
       "      <th>22173887</th>\n",
       "      <td>13215</td>\n",
       "      <td>347</td>\n",
       "      <td>Undirected</td>\n",
       "      <td>0</td>\n",
       "      <td>KYNFOMQIXZUKRK-UHFFFAOYSA-N</td>\n",
       "      <td>MALPSLLLLVAALAGGVRPPGARNLTLAVVLPEHNLSYAWAWPRVG...</td>\n",
       "    </tr>\n",
       "    <tr>\n",
       "      <th>22173888</th>\n",
       "      <td>13215</td>\n",
       "      <td>5067</td>\n",
       "      <td>Undirected</td>\n",
       "      <td>0</td>\n",
       "      <td>KYNFOMQIXZUKRK-UHFFFAOYSA-N</td>\n",
       "      <td>MTDVMFKSQIANQLKNLRKSRGLSLDATAQLTGVSKAMLGQIERGE...</td>\n",
       "    </tr>\n",
       "    <tr>\n",
       "      <th>22173889</th>\n",
       "      <td>13215</td>\n",
       "      <td>1690</td>\n",
       "      <td>Undirected</td>\n",
       "      <td>0</td>\n",
       "      <td>KYNFOMQIXZUKRK-UHFFFAOYSA-N</td>\n",
       "      <td>MSIERLGYLGFAVKDVPAWDHFLTKSVGLMAAGSAGDAALYRADQR...</td>\n",
       "    </tr>\n",
       "    <tr>\n",
       "      <th>22173890</th>\n",
       "      <td>13215</td>\n",
       "      <td>2485</td>\n",
       "      <td>Undirected</td>\n",
       "      <td>0</td>\n",
       "      <td>KYNFOMQIXZUKRK-UHFFFAOYSA-N</td>\n",
       "      <td>MSKQAAVIELGYMGISVKDPDAWKSFATDMLGLQVLDEGEKDRFYL...</td>\n",
       "    </tr>\n",
       "    <tr>\n",
       "      <th>22173891</th>\n",
       "      <td>13215</td>\n",
       "      <td>1080</td>\n",
       "      <td>Undirected</td>\n",
       "      <td>0</td>\n",
       "      <td>KYNFOMQIXZUKRK-UHFFFAOYSA-N</td>\n",
       "      <td>MVPERLKQIKGIRILESEDEIPQEGFTCRFGKHTVVANDEESFEIV...</td>\n",
       "    </tr>\n",
       "  </tbody>\n",
       "</table>\n",
       "<p>11117759 rows × 6 columns</p>\n",
       "</div>"
      ],
      "text/plain": [
       "          Source  Target        Type  Y                  SourceLabel  \\\n",
       "0           6093   11246  Undirected  1  DEJXHCDDTLTVNB-FRVJLOGJSA-N   \n",
       "1          10888    3006  Undirected  1  IAVHKMVGTPXJIC-UHFFFAOYSA-N   \n",
       "2           5855   11533  Undirected  1  KFQYTPMOWPVWEJ-INIZCTEOSA-N   \n",
       "3           4812     431  Undirected  1  GXJABQQUPOEUTA-OLKMYRHANA-N   \n",
       "4           9288    2799  Undirected  1  VJYDOJXJUCJUHL-UHFFFAOYSA-N   \n",
       "...          ...     ...         ... ..                          ...   \n",
       "22173887   13215     347  Undirected  0  KYNFOMQIXZUKRK-UHFFFAOYSA-N   \n",
       "22173888   13215    5067  Undirected  0  KYNFOMQIXZUKRK-UHFFFAOYSA-N   \n",
       "22173889   13215    1690  Undirected  0  KYNFOMQIXZUKRK-UHFFFAOYSA-N   \n",
       "22173890   13215    2485  Undirected  0  KYNFOMQIXZUKRK-UHFFFAOYSA-N   \n",
       "22173891   13215    1080  Undirected  0  KYNFOMQIXZUKRK-UHFFFAOYSA-N   \n",
       "\n",
       "                                                TargetLabel  \n",
       "0         MEVQLGLGRVYPRPPSKTYRGAFQNLFQSVREVIQNPGPRHPEAAS...  \n",
       "1         MNVTIYDVAREASVSMATVSRVVNGNPNVKPSTRKKVLETIERLGY...  \n",
       "2         MDVLSPGQGNNTTSPPAPFETGGNTTGISDVTVSYQVITSLLLGTL...  \n",
       "3         MALLDVCGAPRGQRPESALPVAGSGRRSDPGHYSFSMRSPELALPR...  \n",
       "4         MGPLPVCLPIMLLLLLPSLLLLLLLPGPGSGEASRILRVHRRGILE...  \n",
       "...                                                     ...  \n",
       "22173887  MALPSLLLLVAALAGGVRPPGARNLTLAVVLPEHNLSYAWAWPRVG...  \n",
       "22173888  MTDVMFKSQIANQLKNLRKSRGLSLDATAQLTGVSKAMLGQIERGE...  \n",
       "22173889  MSIERLGYLGFAVKDVPAWDHFLTKSVGLMAAGSAGDAALYRADQR...  \n",
       "22173890  MSKQAAVIELGYMGISVKDPDAWKSFATDMLGLQVLDEGEKDRFYL...  \n",
       "22173891  MVPERLKQIKGIRILESEDEIPQEGFTCRFGKHTVVANDEESFEIV...  \n",
       "\n",
       "[11117759 rows x 6 columns]"
      ]
     },
     "execution_count": 106,
     "metadata": {},
     "output_type": "execute_result"
    }
   ],
   "source": [
    "_temp0"
   ]
  },
  {
   "cell_type": "code",
   "execution_count": 107,
   "metadata": {},
   "outputs": [],
   "source": [
    "_temp0 = _temp0.rename(columns = {'SourceLabel': 'TargetLabel',\n",
    "               'Source': 'Target',\n",
    "               'Target': 'Source',\n",
    "              'TargetLabel': 'SourceLabel'})"
   ]
  },
  {
   "cell_type": "code",
   "execution_count": 108,
   "metadata": {},
   "outputs": [],
   "source": [
    "edges = pd.concat([_temp0, _temp1])"
   ]
  },
  {
   "cell_type": "code",
   "execution_count": 109,
   "metadata": {},
   "outputs": [
    {
     "data": {
      "text/html": [
       "<div>\n",
       "<style scoped>\n",
       "    .dataframe tbody tr th:only-of-type {\n",
       "        vertical-align: middle;\n",
       "    }\n",
       "\n",
       "    .dataframe tbody tr th {\n",
       "        vertical-align: top;\n",
       "    }\n",
       "\n",
       "    .dataframe thead th {\n",
       "        text-align: right;\n",
       "    }\n",
       "</style>\n",
       "<table border=\"1\" class=\"dataframe\">\n",
       "  <thead>\n",
       "    <tr style=\"text-align: right;\">\n",
       "      <th></th>\n",
       "      <th>Target</th>\n",
       "      <th>Source</th>\n",
       "      <th>Type</th>\n",
       "      <th>Y</th>\n",
       "      <th>TargetLabel</th>\n",
       "      <th>SourceLabel</th>\n",
       "    </tr>\n",
       "  </thead>\n",
       "  <tbody>\n",
       "  </tbody>\n",
       "</table>\n",
       "</div>"
      ],
      "text/plain": [
       "Empty DataFrame\n",
       "Columns: [Target, Source, Type, Y, TargetLabel, SourceLabel]\n",
       "Index: []"
      ]
     },
     "execution_count": 109,
     "metadata": {},
     "output_type": "execute_result"
    }
   ],
   "source": [
    "edges[~ (edges['SourceLabel'].str.contains('-') ^ edges['TargetLabel'].str.contains('-'))]"
   ]
  },
  {
   "cell_type": "code",
   "execution_count": 110,
   "metadata": {},
   "outputs": [
    {
     "data": {
      "text/html": [
       "<div>\n",
       "<style scoped>\n",
       "    .dataframe tbody tr th:only-of-type {\n",
       "        vertical-align: middle;\n",
       "    }\n",
       "\n",
       "    .dataframe tbody tr th {\n",
       "        vertical-align: top;\n",
       "    }\n",
       "\n",
       "    .dataframe thead th {\n",
       "        text-align: right;\n",
       "    }\n",
       "</style>\n",
       "<table border=\"1\" class=\"dataframe\">\n",
       "  <thead>\n",
       "    <tr style=\"text-align: right;\">\n",
       "      <th></th>\n",
       "      <th>Target</th>\n",
       "      <th>Source</th>\n",
       "      <th>Type</th>\n",
       "      <th>Y</th>\n",
       "      <th>TargetLabel</th>\n",
       "      <th>SourceLabel</th>\n",
       "    </tr>\n",
       "  </thead>\n",
       "  <tbody>\n",
       "  </tbody>\n",
       "</table>\n",
       "</div>"
      ],
      "text/plain": [
       "Empty DataFrame\n",
       "Columns: [Target, Source, Type, Y, TargetLabel, SourceLabel]\n",
       "Index: []"
      ]
     },
     "execution_count": 110,
     "metadata": {},
     "output_type": "execute_result"
    }
   ],
   "source": [
    "edges[((edges['SourceLabel'].str.contains('-')) & (~ edges['TargetLabel'].str.contains('-')))]"
   ]
  },
  {
   "cell_type": "code",
   "execution_count": 111,
   "metadata": {},
   "outputs": [],
   "source": [
    "edges = edges.drop_duplicates(['SourceLabel', 'TargetLabel'])"
   ]
  },
  {
   "cell_type": "code",
   "execution_count": 114,
   "metadata": {},
   "outputs": [],
   "source": [
    "edges = edges.rename(columns = {'TargetLabel': 'InChiKey', 'SourceLabel': 'target_aa_code'})"
   ]
  },
  {
   "cell_type": "code",
   "execution_count": 115,
   "metadata": {},
   "outputs": [],
   "source": [
    "edges.to_csv(f'/data/sars-busters-consolidated/interactions/dataset_2_unfiltered.csv', index = False) # ver 02 without random sampling, ver 03 with random smapling\n"
   ]
  },
  {
   "cell_type": "code",
   "execution_count": 117,
   "metadata": {},
   "outputs": [
    {
     "data": {
      "text/html": [
       "<div>\n",
       "<style scoped>\n",
       "    .dataframe tbody tr th:only-of-type {\n",
       "        vertical-align: middle;\n",
       "    }\n",
       "\n",
       "    .dataframe tbody tr th {\n",
       "        vertical-align: top;\n",
       "    }\n",
       "\n",
       "    .dataframe thead th {\n",
       "        text-align: right;\n",
       "    }\n",
       "</style>\n",
       "<table border=\"1\" class=\"dataframe\">\n",
       "  <thead>\n",
       "    <tr style=\"text-align: right;\">\n",
       "      <th></th>\n",
       "      <th>Target</th>\n",
       "      <th>Source</th>\n",
       "      <th>Type</th>\n",
       "      <th>Y</th>\n",
       "      <th>InChiKey</th>\n",
       "      <th>target_aa_code</th>\n",
       "    </tr>\n",
       "  </thead>\n",
       "  <tbody>\n",
       "    <tr>\n",
       "      <th>0</th>\n",
       "      <td>6093</td>\n",
       "      <td>11246</td>\n",
       "      <td>Undirected</td>\n",
       "      <td>1</td>\n",
       "      <td>DEJXHCDDTLTVNB-FRVJLOGJSA-N</td>\n",
       "      <td>MEVQLGLGRVYPRPPSKTYRGAFQNLFQSVREVIQNPGPRHPEAAS...</td>\n",
       "    </tr>\n",
       "    <tr>\n",
       "      <th>1</th>\n",
       "      <td>10888</td>\n",
       "      <td>3006</td>\n",
       "      <td>Undirected</td>\n",
       "      <td>1</td>\n",
       "      <td>IAVHKMVGTPXJIC-UHFFFAOYSA-N</td>\n",
       "      <td>MNVTIYDVAREASVSMATVSRVVNGNPNVKPSTRKKVLETIERLGY...</td>\n",
       "    </tr>\n",
       "    <tr>\n",
       "      <th>2</th>\n",
       "      <td>5855</td>\n",
       "      <td>11533</td>\n",
       "      <td>Undirected</td>\n",
       "      <td>1</td>\n",
       "      <td>KFQYTPMOWPVWEJ-INIZCTEOSA-N</td>\n",
       "      <td>MDVLSPGQGNNTTSPPAPFETGGNTTGISDVTVSYQVITSLLLGTL...</td>\n",
       "    </tr>\n",
       "    <tr>\n",
       "      <th>3</th>\n",
       "      <td>4812</td>\n",
       "      <td>431</td>\n",
       "      <td>Undirected</td>\n",
       "      <td>1</td>\n",
       "      <td>GXJABQQUPOEUTA-OLKMYRHANA-N</td>\n",
       "      <td>MALLDVCGAPRGQRPESALPVAGSGRRSDPGHYSFSMRSPELALPR...</td>\n",
       "    </tr>\n",
       "    <tr>\n",
       "      <th>4</th>\n",
       "      <td>9288</td>\n",
       "      <td>2799</td>\n",
       "      <td>Undirected</td>\n",
       "      <td>1</td>\n",
       "      <td>VJYDOJXJUCJUHL-UHFFFAOYSA-N</td>\n",
       "      <td>MGPLPVCLPIMLLLLLPSLLLLLLLPGPGSGEASRILRVHRRGILE...</td>\n",
       "    </tr>\n",
       "    <tr>\n",
       "      <th>...</th>\n",
       "      <td>...</td>\n",
       "      <td>...</td>\n",
       "      <td>...</td>\n",
       "      <td>...</td>\n",
       "      <td>...</td>\n",
       "      <td>...</td>\n",
       "    </tr>\n",
       "    <tr>\n",
       "      <th>30808</th>\n",
       "      <td>7827</td>\n",
       "      <td>8239</td>\n",
       "      <td>Undirected</td>\n",
       "      <td>1</td>\n",
       "      <td>SZHRIPFGZWWRKW-VIFPVBQESA-N</td>\n",
       "      <td>MAPAEILNGKEISAQIRARLKNQVTQLKEQVPGFTPRLAILQVGNR...</td>\n",
       "    </tr>\n",
       "    <tr>\n",
       "      <th>30809</th>\n",
       "      <td>4369</td>\n",
       "      <td>12682</td>\n",
       "      <td>Undirected</td>\n",
       "      <td>1</td>\n",
       "      <td>DAUMHRNXYGHXIC-UHFFFAOYSA-N</td>\n",
       "      <td>MASHLELNNGTKMPTLGLGTWKSPPGQVTEAVKVAIDMGYRHIDCA...</td>\n",
       "    </tr>\n",
       "    <tr>\n",
       "      <th>30810</th>\n",
       "      <td>12219</td>\n",
       "      <td>3713</td>\n",
       "      <td>Undirected</td>\n",
       "      <td>1</td>\n",
       "      <td>GKDRMWXFWHEQQT-UHFFFAOYSA-N</td>\n",
       "      <td>MEKYVRLQKIGEGSFGKAILVKSTEDGRQYVIKEINISRMSSKERE...</td>\n",
       "    </tr>\n",
       "    <tr>\n",
       "      <th>30811</th>\n",
       "      <td>10631</td>\n",
       "      <td>11479</td>\n",
       "      <td>Undirected</td>\n",
       "      <td>1</td>\n",
       "      <td>MQHWFIOJQSCFNM-UHFFFAOYSA-L</td>\n",
       "      <td>MSRSLLLWFLLFLLLLPPLPVLLADPGAPTPVNPCCYYPCQHQGIC...</td>\n",
       "    </tr>\n",
       "    <tr>\n",
       "      <th>30812</th>\n",
       "      <td>1127</td>\n",
       "      <td>4964</td>\n",
       "      <td>Undirected</td>\n",
       "      <td>1</td>\n",
       "      <td>GPXBXXGIAQBQNI-UHFFFAOYSA-N</td>\n",
       "      <td>MEHIQGAWKTISNGFGFKDAVFDGSSCISPTIVQQFGYQRRASDDG...</td>\n",
       "    </tr>\n",
       "  </tbody>\n",
       "</table>\n",
       "<p>30813 rows × 6 columns</p>\n",
       "</div>"
      ],
      "text/plain": [
       "       Target  Source        Type  Y                     InChiKey  \\\n",
       "0        6093   11246  Undirected  1  DEJXHCDDTLTVNB-FRVJLOGJSA-N   \n",
       "1       10888    3006  Undirected  1  IAVHKMVGTPXJIC-UHFFFAOYSA-N   \n",
       "2        5855   11533  Undirected  1  KFQYTPMOWPVWEJ-INIZCTEOSA-N   \n",
       "3        4812     431  Undirected  1  GXJABQQUPOEUTA-OLKMYRHANA-N   \n",
       "4        9288    2799  Undirected  1  VJYDOJXJUCJUHL-UHFFFAOYSA-N   \n",
       "...       ...     ...         ... ..                          ...   \n",
       "30808    7827    8239  Undirected  1  SZHRIPFGZWWRKW-VIFPVBQESA-N   \n",
       "30809    4369   12682  Undirected  1  DAUMHRNXYGHXIC-UHFFFAOYSA-N   \n",
       "30810   12219    3713  Undirected  1  GKDRMWXFWHEQQT-UHFFFAOYSA-N   \n",
       "30811   10631   11479  Undirected  1  MQHWFIOJQSCFNM-UHFFFAOYSA-L   \n",
       "30812    1127    4964  Undirected  1  GPXBXXGIAQBQNI-UHFFFAOYSA-N   \n",
       "\n",
       "                                          target_aa_code  \n",
       "0      MEVQLGLGRVYPRPPSKTYRGAFQNLFQSVREVIQNPGPRHPEAAS...  \n",
       "1      MNVTIYDVAREASVSMATVSRVVNGNPNVKPSTRKKVLETIERLGY...  \n",
       "2      MDVLSPGQGNNTTSPPAPFETGGNTTGISDVTVSYQVITSLLLGTL...  \n",
       "3      MALLDVCGAPRGQRPESALPVAGSGRRSDPGHYSFSMRSPELALPR...  \n",
       "4      MGPLPVCLPIMLLLLLPSLLLLLLLPGPGSGEASRILRVHRRGILE...  \n",
       "...                                                  ...  \n",
       "30808  MAPAEILNGKEISAQIRARLKNQVTQLKEQVPGFTPRLAILQVGNR...  \n",
       "30809  MASHLELNNGTKMPTLGLGTWKSPPGQVTEAVKVAIDMGYRHIDCA...  \n",
       "30810  MEKYVRLQKIGEGSFGKAILVKSTEDGRQYVIKEINISRMSSKERE...  \n",
       "30811  MSRSLLLWFLLFLLLLPPLPVLLADPGAPTPVNPCCYYPCQHQGIC...  \n",
       "30812  MEHIQGAWKTISNGFGFKDAVFDGSSCISPTIVQQFGYQRRASDDG...  \n",
       "\n",
       "[30813 rows x 6 columns]"
      ]
     },
     "execution_count": 117,
     "metadata": {},
     "output_type": "execute_result"
    }
   ],
   "source": [
    "edges[edges['Y'] == 1]"
   ]
  },
  {
   "cell_type": "code",
   "execution_count": 118,
   "metadata": {},
   "outputs": [],
   "source": [
    "edges[edges['Y'] == 1].to_csv(f'/data/sars-busters-consolidated/interactions/dataset_1.csv', index = False)"
   ]
  },
  {
   "cell_type": "code",
   "execution_count": 225,
   "metadata": {},
   "outputs": [
    {
     "data": {
      "text/plain": [
       "'/data/sars-busters/master_files/combined_nw_master_08.csv'"
      ]
     },
     "execution_count": 225,
     "metadata": {},
     "output_type": "execute_result"
    }
   ],
   "source": [
    "\n",
    "f'/data/sars-busters/{OUTPUT_DIR}/combined_nw_master_{VERSION}.csv'"
   ]
  },
  {
   "cell_type": "code",
   "execution_count": 83,
   "metadata": {},
   "outputs": [
    {
     "data": {
      "text/html": [
       "<div>\n",
       "<style scoped>\n",
       "    .dataframe tbody tr th:only-of-type {\n",
       "        vertical-align: middle;\n",
       "    }\n",
       "\n",
       "    .dataframe tbody tr th {\n",
       "        vertical-align: top;\n",
       "    }\n",
       "\n",
       "    .dataframe thead th {\n",
       "        text-align: right;\n",
       "    }\n",
       "</style>\n",
       "<table border=\"1\" class=\"dataframe\">\n",
       "  <thead>\n",
       "    <tr style=\"text-align: right;\">\n",
       "      <th></th>\n",
       "      <th>Target</th>\n",
       "      <th>Source</th>\n",
       "      <th>Type</th>\n",
       "      <th>Y</th>\n",
       "      <th>TargetLabel</th>\n",
       "      <th>SourceLabel</th>\n",
       "    </tr>\n",
       "  </thead>\n",
       "  <tbody>\n",
       "    <tr>\n",
       "      <th>0</th>\n",
       "      <td>6093</td>\n",
       "      <td>11246</td>\n",
       "      <td>Undirected</td>\n",
       "      <td>1</td>\n",
       "      <td>DEJXHCDDTLTVNB-FRVJLOGJSA-N</td>\n",
       "      <td>MEVQLGLGRVYPRPPSKTYRGAFQNLFQSVREVIQNPGPRHPEAAS...</td>\n",
       "    </tr>\n",
       "    <tr>\n",
       "      <th>1</th>\n",
       "      <td>10888</td>\n",
       "      <td>3006</td>\n",
       "      <td>Undirected</td>\n",
       "      <td>1</td>\n",
       "      <td>IAVHKMVGTPXJIC-UHFFFAOYSA-N</td>\n",
       "      <td>MNVTIYDVAREASVSMATVSRVVNGNPNVKPSTRKKVLETIERLGY...</td>\n",
       "    </tr>\n",
       "    <tr>\n",
       "      <th>2</th>\n",
       "      <td>5855</td>\n",
       "      <td>11533</td>\n",
       "      <td>Undirected</td>\n",
       "      <td>1</td>\n",
       "      <td>KFQYTPMOWPVWEJ-INIZCTEOSA-N</td>\n",
       "      <td>MDVLSPGQGNNTTSPPAPFETGGNTTGISDVTVSYQVITSLLLGTL...</td>\n",
       "    </tr>\n",
       "    <tr>\n",
       "      <th>3</th>\n",
       "      <td>4812</td>\n",
       "      <td>431</td>\n",
       "      <td>Undirected</td>\n",
       "      <td>1</td>\n",
       "      <td>GXJABQQUPOEUTA-OLKMYRHANA-N</td>\n",
       "      <td>MALLDVCGAPRGQRPESALPVAGSGRRSDPGHYSFSMRSPELALPR...</td>\n",
       "    </tr>\n",
       "    <tr>\n",
       "      <th>4</th>\n",
       "      <td>9288</td>\n",
       "      <td>2799</td>\n",
       "      <td>Undirected</td>\n",
       "      <td>1</td>\n",
       "      <td>VJYDOJXJUCJUHL-UHFFFAOYSA-N</td>\n",
       "      <td>MGPLPVCLPIMLLLLLPSLLLLLLLPGPGSGEASRILRVHRRGILE...</td>\n",
       "    </tr>\n",
       "    <tr>\n",
       "      <th>...</th>\n",
       "      <td>...</td>\n",
       "      <td>...</td>\n",
       "      <td>...</td>\n",
       "      <td>...</td>\n",
       "      <td>...</td>\n",
       "      <td>...</td>\n",
       "    </tr>\n",
       "    <tr>\n",
       "      <th>3352793</th>\n",
       "      <td>11508</td>\n",
       "      <td>9458</td>\n",
       "      <td>Undirected</td>\n",
       "      <td>0</td>\n",
       "      <td>PXNIOQHGCSEKCC-CITAKDKDSA-N</td>\n",
       "      <td>MAATLLAARGAGPAPAWGPEAFTPDWESREVSTGTTIMAVQFDGGV...</td>\n",
       "    </tr>\n",
       "    <tr>\n",
       "      <th>1265202</th>\n",
       "      <td>1679</td>\n",
       "      <td>3448</td>\n",
       "      <td>Undirected</td>\n",
       "      <td>0</td>\n",
       "      <td>HEYSFDAMRDTCJM-UUOKFMHZSA-N</td>\n",
       "      <td>MAGPRPSPWARLLLAALISVSLSGTLANRCKKAPVKSCTECVRVDK...</td>\n",
       "    </tr>\n",
       "    <tr>\n",
       "      <th>2006500</th>\n",
       "      <td>4975</td>\n",
       "      <td>5535</td>\n",
       "      <td>Undirected</td>\n",
       "      <td>0</td>\n",
       "      <td>DTBNBXWJWCWCIK-UHFFFAOYSA-N</td>\n",
       "      <td>MAAVTMSVPGRKAPPRPGPVPEAAQPFLFTPRGPSAGGGPGSGTSP...</td>\n",
       "    </tr>\n",
       "    <tr>\n",
       "      <th>572581</th>\n",
       "      <td>2622</td>\n",
       "      <td>1537</td>\n",
       "      <td>Undirected</td>\n",
       "      <td>0</td>\n",
       "      <td>FXUAIOOAOAVCGD-WCTZXXKLSA-N</td>\n",
       "      <td>MLRAKNQLFLLSPHYLRQVKESSGSRLIQQRLLHQQQPLHPEWAAL...</td>\n",
       "    </tr>\n",
       "    <tr>\n",
       "      <th>3892959</th>\n",
       "      <td>1482</td>\n",
       "      <td>10884</td>\n",
       "      <td>Undirected</td>\n",
       "      <td>0</td>\n",
       "      <td>QURCVMIEKCOAJU-HWKANZROSA-N</td>\n",
       "      <td>MLLARMNPQVQPENGGAGPGSEQPPRKRKEVLVVKERNGVQCLLAS...</td>\n",
       "    </tr>\n",
       "  </tbody>\n",
       "</table>\n",
       "<p>506194 rows × 6 columns</p>\n",
       "</div>"
      ],
      "text/plain": [
       "         Target  Source        Type  Y                  TargetLabel  \\\n",
       "0          6093   11246  Undirected  1  DEJXHCDDTLTVNB-FRVJLOGJSA-N   \n",
       "1         10888    3006  Undirected  1  IAVHKMVGTPXJIC-UHFFFAOYSA-N   \n",
       "2          5855   11533  Undirected  1  KFQYTPMOWPVWEJ-INIZCTEOSA-N   \n",
       "3          4812     431  Undirected  1  GXJABQQUPOEUTA-OLKMYRHANA-N   \n",
       "4          9288    2799  Undirected  1  VJYDOJXJUCJUHL-UHFFFAOYSA-N   \n",
       "...         ...     ...         ... ..                          ...   \n",
       "3352793   11508    9458  Undirected  0  PXNIOQHGCSEKCC-CITAKDKDSA-N   \n",
       "1265202    1679    3448  Undirected  0  HEYSFDAMRDTCJM-UUOKFMHZSA-N   \n",
       "2006500    4975    5535  Undirected  0  DTBNBXWJWCWCIK-UHFFFAOYSA-N   \n",
       "572581     2622    1537  Undirected  0  FXUAIOOAOAVCGD-WCTZXXKLSA-N   \n",
       "3892959    1482   10884  Undirected  0  QURCVMIEKCOAJU-HWKANZROSA-N   \n",
       "\n",
       "                                               SourceLabel  \n",
       "0        MEVQLGLGRVYPRPPSKTYRGAFQNLFQSVREVIQNPGPRHPEAAS...  \n",
       "1        MNVTIYDVAREASVSMATVSRVVNGNPNVKPSTRKKVLETIERLGY...  \n",
       "2        MDVLSPGQGNNTTSPPAPFETGGNTTGISDVTVSYQVITSLLLGTL...  \n",
       "3        MALLDVCGAPRGQRPESALPVAGSGRRSDPGHYSFSMRSPELALPR...  \n",
       "4        MGPLPVCLPIMLLLLLPSLLLLLLLPGPGSGEASRILRVHRRGILE...  \n",
       "...                                                    ...  \n",
       "3352793  MAATLLAARGAGPAPAWGPEAFTPDWESREVSTGTTIMAVQFDGGV...  \n",
       "1265202  MAGPRPSPWARLLLAALISVSLSGTLANRCKKAPVKSCTECVRVDK...  \n",
       "2006500  MAAVTMSVPGRKAPPRPGPVPEAAQPFLFTPRGPSAGGGPGSGTSP...  \n",
       "572581   MLRAKNQLFLLSPHYLRQVKESSGSRLIQQRLLHQQQPLHPEWAAL...  \n",
       "3892959  MLLARMNPQVQPENGGAGPGSEQPPRKRKEVLVVKERNGVQCLLAS...  \n",
       "\n",
       "[506194 rows x 6 columns]"
      ]
     },
     "execution_count": 83,
     "metadata": {},
     "output_type": "execute_result"
    }
   ],
   "source": [
    "edges"
   ]
  },
  {
   "cell_type": "markdown",
   "metadata": {},
   "source": [
    "## Adjacency Matrix"
   ]
  },
  {
   "cell_type": "code",
   "execution_count": 84,
   "metadata": {},
   "outputs": [],
   "source": [
    "adj_edges = edges[((~ edges['SourceLabel'].str.contains('-')) & (edges['Y'] == 1))]"
   ]
  },
  {
   "cell_type": "code",
   "execution_count": 85,
   "metadata": {},
   "outputs": [],
   "source": [
    "adj_edges.pivot(index = 'Source', columns = 'Target', values = 'Y').fillna(0).to_csv('/data/sars-busters-consolidated/master_files/combined_network_adj.csv')"
   ]
  },
  {
   "cell_type": "code",
   "execution_count": 86,
   "metadata": {},
   "outputs": [
    {
     "data": {
      "text/html": [
       "<div>\n",
       "<style scoped>\n",
       "    .dataframe tbody tr th:only-of-type {\n",
       "        vertical-align: middle;\n",
       "    }\n",
       "\n",
       "    .dataframe tbody tr th {\n",
       "        vertical-align: top;\n",
       "    }\n",
       "\n",
       "    .dataframe thead th {\n",
       "        text-align: right;\n",
       "    }\n",
       "</style>\n",
       "<table border=\"1\" class=\"dataframe\">\n",
       "  <thead>\n",
       "    <tr style=\"text-align: right;\">\n",
       "      <th>Target</th>\n",
       "      <th>1</th>\n",
       "      <th>2</th>\n",
       "      <th>3</th>\n",
       "      <th>4</th>\n",
       "      <th>5</th>\n",
       "      <th>9</th>\n",
       "      <th>11</th>\n",
       "      <th>12</th>\n",
       "      <th>14</th>\n",
       "      <th>15</th>\n",
       "      <th>...</th>\n",
       "      <th>13202</th>\n",
       "      <th>13203</th>\n",
       "      <th>13204</th>\n",
       "      <th>13207</th>\n",
       "      <th>13209</th>\n",
       "      <th>13210</th>\n",
       "      <th>13212</th>\n",
       "      <th>13213</th>\n",
       "      <th>13214</th>\n",
       "      <th>13215</th>\n",
       "    </tr>\n",
       "    <tr>\n",
       "      <th>Source</th>\n",
       "      <th></th>\n",
       "      <th></th>\n",
       "      <th></th>\n",
       "      <th></th>\n",
       "      <th></th>\n",
       "      <th></th>\n",
       "      <th></th>\n",
       "      <th></th>\n",
       "      <th></th>\n",
       "      <th></th>\n",
       "      <th></th>\n",
       "      <th></th>\n",
       "      <th></th>\n",
       "      <th></th>\n",
       "      <th></th>\n",
       "      <th></th>\n",
       "      <th></th>\n",
       "      <th></th>\n",
       "      <th></th>\n",
       "      <th></th>\n",
       "      <th></th>\n",
       "    </tr>\n",
       "  </thead>\n",
       "  <tbody>\n",
       "    <tr>\n",
       "      <th>6</th>\n",
       "      <td>0.0</td>\n",
       "      <td>0.0</td>\n",
       "      <td>0.0</td>\n",
       "      <td>0.0</td>\n",
       "      <td>0.0</td>\n",
       "      <td>0.0</td>\n",
       "      <td>0.0</td>\n",
       "      <td>0.0</td>\n",
       "      <td>0.0</td>\n",
       "      <td>0.0</td>\n",
       "      <td>...</td>\n",
       "      <td>0.0</td>\n",
       "      <td>0.0</td>\n",
       "      <td>0.0</td>\n",
       "      <td>0.0</td>\n",
       "      <td>0.0</td>\n",
       "      <td>0.0</td>\n",
       "      <td>0.0</td>\n",
       "      <td>0.0</td>\n",
       "      <td>0.0</td>\n",
       "      <td>0.0</td>\n",
       "    </tr>\n",
       "    <tr>\n",
       "      <th>7</th>\n",
       "      <td>0.0</td>\n",
       "      <td>0.0</td>\n",
       "      <td>0.0</td>\n",
       "      <td>0.0</td>\n",
       "      <td>0.0</td>\n",
       "      <td>0.0</td>\n",
       "      <td>0.0</td>\n",
       "      <td>0.0</td>\n",
       "      <td>0.0</td>\n",
       "      <td>0.0</td>\n",
       "      <td>...</td>\n",
       "      <td>0.0</td>\n",
       "      <td>0.0</td>\n",
       "      <td>0.0</td>\n",
       "      <td>0.0</td>\n",
       "      <td>0.0</td>\n",
       "      <td>0.0</td>\n",
       "      <td>0.0</td>\n",
       "      <td>0.0</td>\n",
       "      <td>0.0</td>\n",
       "      <td>0.0</td>\n",
       "    </tr>\n",
       "    <tr>\n",
       "      <th>8</th>\n",
       "      <td>0.0</td>\n",
       "      <td>0.0</td>\n",
       "      <td>0.0</td>\n",
       "      <td>0.0</td>\n",
       "      <td>0.0</td>\n",
       "      <td>0.0</td>\n",
       "      <td>0.0</td>\n",
       "      <td>0.0</td>\n",
       "      <td>0.0</td>\n",
       "      <td>0.0</td>\n",
       "      <td>...</td>\n",
       "      <td>0.0</td>\n",
       "      <td>0.0</td>\n",
       "      <td>0.0</td>\n",
       "      <td>0.0</td>\n",
       "      <td>0.0</td>\n",
       "      <td>0.0</td>\n",
       "      <td>0.0</td>\n",
       "      <td>0.0</td>\n",
       "      <td>0.0</td>\n",
       "      <td>0.0</td>\n",
       "    </tr>\n",
       "    <tr>\n",
       "      <th>10</th>\n",
       "      <td>0.0</td>\n",
       "      <td>0.0</td>\n",
       "      <td>0.0</td>\n",
       "      <td>0.0</td>\n",
       "      <td>0.0</td>\n",
       "      <td>0.0</td>\n",
       "      <td>0.0</td>\n",
       "      <td>0.0</td>\n",
       "      <td>0.0</td>\n",
       "      <td>0.0</td>\n",
       "      <td>...</td>\n",
       "      <td>0.0</td>\n",
       "      <td>0.0</td>\n",
       "      <td>0.0</td>\n",
       "      <td>0.0</td>\n",
       "      <td>0.0</td>\n",
       "      <td>0.0</td>\n",
       "      <td>0.0</td>\n",
       "      <td>0.0</td>\n",
       "      <td>0.0</td>\n",
       "      <td>0.0</td>\n",
       "    </tr>\n",
       "    <tr>\n",
       "      <th>13</th>\n",
       "      <td>0.0</td>\n",
       "      <td>0.0</td>\n",
       "      <td>0.0</td>\n",
       "      <td>0.0</td>\n",
       "      <td>0.0</td>\n",
       "      <td>0.0</td>\n",
       "      <td>0.0</td>\n",
       "      <td>0.0</td>\n",
       "      <td>0.0</td>\n",
       "      <td>0.0</td>\n",
       "      <td>...</td>\n",
       "      <td>0.0</td>\n",
       "      <td>0.0</td>\n",
       "      <td>0.0</td>\n",
       "      <td>0.0</td>\n",
       "      <td>0.0</td>\n",
       "      <td>0.0</td>\n",
       "      <td>0.0</td>\n",
       "      <td>0.0</td>\n",
       "      <td>0.0</td>\n",
       "      <td>0.0</td>\n",
       "    </tr>\n",
       "    <tr>\n",
       "      <th>...</th>\n",
       "      <td>...</td>\n",
       "      <td>...</td>\n",
       "      <td>...</td>\n",
       "      <td>...</td>\n",
       "      <td>...</td>\n",
       "      <td>...</td>\n",
       "      <td>...</td>\n",
       "      <td>...</td>\n",
       "      <td>...</td>\n",
       "      <td>...</td>\n",
       "      <td>...</td>\n",
       "      <td>...</td>\n",
       "      <td>...</td>\n",
       "      <td>...</td>\n",
       "      <td>...</td>\n",
       "      <td>...</td>\n",
       "      <td>...</td>\n",
       "      <td>...</td>\n",
       "      <td>...</td>\n",
       "      <td>...</td>\n",
       "      <td>...</td>\n",
       "    </tr>\n",
       "    <tr>\n",
       "      <th>13200</th>\n",
       "      <td>0.0</td>\n",
       "      <td>0.0</td>\n",
       "      <td>0.0</td>\n",
       "      <td>0.0</td>\n",
       "      <td>0.0</td>\n",
       "      <td>0.0</td>\n",
       "      <td>0.0</td>\n",
       "      <td>0.0</td>\n",
       "      <td>0.0</td>\n",
       "      <td>0.0</td>\n",
       "      <td>...</td>\n",
       "      <td>0.0</td>\n",
       "      <td>0.0</td>\n",
       "      <td>0.0</td>\n",
       "      <td>0.0</td>\n",
       "      <td>0.0</td>\n",
       "      <td>0.0</td>\n",
       "      <td>0.0</td>\n",
       "      <td>0.0</td>\n",
       "      <td>0.0</td>\n",
       "      <td>0.0</td>\n",
       "    </tr>\n",
       "    <tr>\n",
       "      <th>13205</th>\n",
       "      <td>0.0</td>\n",
       "      <td>0.0</td>\n",
       "      <td>0.0</td>\n",
       "      <td>0.0</td>\n",
       "      <td>0.0</td>\n",
       "      <td>0.0</td>\n",
       "      <td>0.0</td>\n",
       "      <td>0.0</td>\n",
       "      <td>0.0</td>\n",
       "      <td>0.0</td>\n",
       "      <td>...</td>\n",
       "      <td>0.0</td>\n",
       "      <td>0.0</td>\n",
       "      <td>0.0</td>\n",
       "      <td>0.0</td>\n",
       "      <td>0.0</td>\n",
       "      <td>0.0</td>\n",
       "      <td>0.0</td>\n",
       "      <td>0.0</td>\n",
       "      <td>0.0</td>\n",
       "      <td>0.0</td>\n",
       "    </tr>\n",
       "    <tr>\n",
       "      <th>13206</th>\n",
       "      <td>0.0</td>\n",
       "      <td>0.0</td>\n",
       "      <td>0.0</td>\n",
       "      <td>0.0</td>\n",
       "      <td>0.0</td>\n",
       "      <td>0.0</td>\n",
       "      <td>0.0</td>\n",
       "      <td>0.0</td>\n",
       "      <td>0.0</td>\n",
       "      <td>0.0</td>\n",
       "      <td>...</td>\n",
       "      <td>0.0</td>\n",
       "      <td>0.0</td>\n",
       "      <td>0.0</td>\n",
       "      <td>0.0</td>\n",
       "      <td>0.0</td>\n",
       "      <td>0.0</td>\n",
       "      <td>0.0</td>\n",
       "      <td>0.0</td>\n",
       "      <td>0.0</td>\n",
       "      <td>0.0</td>\n",
       "    </tr>\n",
       "    <tr>\n",
       "      <th>13208</th>\n",
       "      <td>0.0</td>\n",
       "      <td>0.0</td>\n",
       "      <td>0.0</td>\n",
       "      <td>0.0</td>\n",
       "      <td>0.0</td>\n",
       "      <td>0.0</td>\n",
       "      <td>0.0</td>\n",
       "      <td>0.0</td>\n",
       "      <td>0.0</td>\n",
       "      <td>0.0</td>\n",
       "      <td>...</td>\n",
       "      <td>0.0</td>\n",
       "      <td>0.0</td>\n",
       "      <td>0.0</td>\n",
       "      <td>0.0</td>\n",
       "      <td>0.0</td>\n",
       "      <td>0.0</td>\n",
       "      <td>0.0</td>\n",
       "      <td>0.0</td>\n",
       "      <td>0.0</td>\n",
       "      <td>0.0</td>\n",
       "    </tr>\n",
       "    <tr>\n",
       "      <th>13211</th>\n",
       "      <td>0.0</td>\n",
       "      <td>0.0</td>\n",
       "      <td>0.0</td>\n",
       "      <td>0.0</td>\n",
       "      <td>0.0</td>\n",
       "      <td>0.0</td>\n",
       "      <td>0.0</td>\n",
       "      <td>0.0</td>\n",
       "      <td>0.0</td>\n",
       "      <td>0.0</td>\n",
       "      <td>...</td>\n",
       "      <td>0.0</td>\n",
       "      <td>0.0</td>\n",
       "      <td>0.0</td>\n",
       "      <td>0.0</td>\n",
       "      <td>0.0</td>\n",
       "      <td>0.0</td>\n",
       "      <td>0.0</td>\n",
       "      <td>0.0</td>\n",
       "      <td>0.0</td>\n",
       "      <td>0.0</td>\n",
       "    </tr>\n",
       "  </tbody>\n",
       "</table>\n",
       "<p>5104 rows × 8111 columns</p>\n",
       "</div>"
      ],
      "text/plain": [
       "Target  1      2      3      4      5      9      11     12     14     15     \\\n",
       "Source                                                                         \n",
       "6         0.0    0.0    0.0    0.0    0.0    0.0    0.0    0.0    0.0    0.0   \n",
       "7         0.0    0.0    0.0    0.0    0.0    0.0    0.0    0.0    0.0    0.0   \n",
       "8         0.0    0.0    0.0    0.0    0.0    0.0    0.0    0.0    0.0    0.0   \n",
       "10        0.0    0.0    0.0    0.0    0.0    0.0    0.0    0.0    0.0    0.0   \n",
       "13        0.0    0.0    0.0    0.0    0.0    0.0    0.0    0.0    0.0    0.0   \n",
       "...       ...    ...    ...    ...    ...    ...    ...    ...    ...    ...   \n",
       "13200     0.0    0.0    0.0    0.0    0.0    0.0    0.0    0.0    0.0    0.0   \n",
       "13205     0.0    0.0    0.0    0.0    0.0    0.0    0.0    0.0    0.0    0.0   \n",
       "13206     0.0    0.0    0.0    0.0    0.0    0.0    0.0    0.0    0.0    0.0   \n",
       "13208     0.0    0.0    0.0    0.0    0.0    0.0    0.0    0.0    0.0    0.0   \n",
       "13211     0.0    0.0    0.0    0.0    0.0    0.0    0.0    0.0    0.0    0.0   \n",
       "\n",
       "Target  ...  13202  13203  13204  13207  13209  13210  13212  13213  13214  \\\n",
       "Source  ...                                                                  \n",
       "6       ...    0.0    0.0    0.0    0.0    0.0    0.0    0.0    0.0    0.0   \n",
       "7       ...    0.0    0.0    0.0    0.0    0.0    0.0    0.0    0.0    0.0   \n",
       "8       ...    0.0    0.0    0.0    0.0    0.0    0.0    0.0    0.0    0.0   \n",
       "10      ...    0.0    0.0    0.0    0.0    0.0    0.0    0.0    0.0    0.0   \n",
       "13      ...    0.0    0.0    0.0    0.0    0.0    0.0    0.0    0.0    0.0   \n",
       "...     ...    ...    ...    ...    ...    ...    ...    ...    ...    ...   \n",
       "13200   ...    0.0    0.0    0.0    0.0    0.0    0.0    0.0    0.0    0.0   \n",
       "13205   ...    0.0    0.0    0.0    0.0    0.0    0.0    0.0    0.0    0.0   \n",
       "13206   ...    0.0    0.0    0.0    0.0    0.0    0.0    0.0    0.0    0.0   \n",
       "13208   ...    0.0    0.0    0.0    0.0    0.0    0.0    0.0    0.0    0.0   \n",
       "13211   ...    0.0    0.0    0.0    0.0    0.0    0.0    0.0    0.0    0.0   \n",
       "\n",
       "Target  13215  \n",
       "Source         \n",
       "6         0.0  \n",
       "7         0.0  \n",
       "8         0.0  \n",
       "10        0.0  \n",
       "13        0.0  \n",
       "...       ...  \n",
       "13200     0.0  \n",
       "13205     0.0  \n",
       "13206     0.0  \n",
       "13208     0.0  \n",
       "13211     0.0  \n",
       "\n",
       "[5104 rows x 8111 columns]"
      ]
     },
     "execution_count": 86,
     "metadata": {},
     "output_type": "execute_result"
    }
   ],
   "source": [
    "adj_edges.pivot(index = 'Source', columns = 'Target', values = 'Y').fillna(0)"
   ]
  },
  {
   "cell_type": "raw",
   "metadata": {},
   "source": [
    "edges.pivot(index = 'Source', columns = 'Target', values = 'Y').to_csv('/data/sars-busters/interactions/ndm_dtc_representative_neg_sample_adj.csv')\n"
   ]
  },
  {
   "cell_type": "raw",
   "metadata": {},
   "source": [
    "edges.pivot(index = 'Source', columns = 'Target', values = 'Y').to_csv('/data/sars-busters/interactions/ndm_dtc_representative_neg_sample.csv')\n"
   ]
  }
 ],
 "metadata": {
  "kernelspec": {
   "display_name": "Python 3",
   "language": "python",
   "name": "python3"
  },
  "language_info": {
   "codemirror_mode": {
    "name": "ipython",
    "version": 3
   },
   "file_extension": ".py",
   "mimetype": "text/x-python",
   "name": "python",
   "nbconvert_exporter": "python",
   "pygments_lexer": "ipython3",
   "version": "3.6.6"
  },
  "toc": {
   "base_numbering": 1,
   "nav_menu": {},
   "number_sections": true,
   "sideBar": true,
   "skip_h1_title": false,
   "title_cell": "Table of Contents",
   "title_sidebar": "Contents",
   "toc_cell": false,
   "toc_position": {},
   "toc_section_display": true,
   "toc_window_display": false
  }
 },
 "nbformat": 4,
 "nbformat_minor": 4
}
