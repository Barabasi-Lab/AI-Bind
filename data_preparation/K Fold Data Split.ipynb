{
 "cells": [
  {
   "cell_type": "markdown",
   "metadata": {},
   "source": [
    "### Imports"
   ]
  },
  {
   "cell_type": "code",
   "execution_count": 1,
   "metadata": {},
   "outputs": [],
   "source": [
    "import pandas as pd\n",
    "import numpy as np\n",
    "import random as random\n",
    "import plotly.graph_objects as go\n",
    "import matplotlib.pyplot as plt\n",
    "import pickle as pkl\n",
    "import networkx as nx\n",
    "\n",
    "\n",
    "from tqdm.notebook import tqdm"
   ]
  },
  {
   "cell_type": "markdown",
   "metadata": {},
   "source": [
    "### Helper Functions"
   ]
  },
  {
   "cell_type": "code",
   "execution_count": 2,
   "metadata": {},
   "outputs": [],
   "source": [
    "def sub_len(L):\n",
    "    '''\n",
    "    Returns length of sub-lists\n",
    "    '''\n",
    "    return [len(l) for l in L]"
   ]
  },
  {
   "cell_type": "code",
   "execution_count": 3,
   "metadata": {},
   "outputs": [],
   "source": [
    "def create_interaction_dicts(interactions):\n",
    "\n",
    "    drug_dict = {}\n",
    "    target_dict = {}\n",
    "\n",
    "    for i in tqdm(range(len(interactions))):\n",
    "\n",
    "        drug_id = interactions['InChiKey'].values[i]\n",
    "        target_id = interactions['target_aa_code'].values[i]\n",
    "        binding = interactions['Y'].values[i]\n",
    "\n",
    "        try:\n",
    "            drug_dict[drug_id]\n",
    "        except:\n",
    "            drug_dict[drug_id] = {}\n",
    "\n",
    "        try:\n",
    "            drug_dict[drug_id][binding].append(target_id)\n",
    "        except:\n",
    "            drug_dict[drug_id][binding] = [target_id]\n",
    "\n",
    "        try:\n",
    "            target_dict[target_id]\n",
    "        except:\n",
    "            target_dict[target_id] = {}\n",
    "\n",
    "        try:\n",
    "            target_dict[target_id][binding].append(drug_id)\n",
    "        except:\n",
    "            target_dict[target_id][binding] = [drug_id]\n",
    "\n",
    "    return drug_dict, target_dict"
   ]
  },
  {
   "cell_type": "code",
   "execution_count": 4,
   "metadata": {},
   "outputs": [],
   "source": [
    "def create_adjacency(drug_dict, target_dict, full = True, include_negative = False):\n",
    "    \n",
    "    # Create Adjascency Matrix For Drugs x Amino Acids\n",
    "    drug_list = list(drug_dict.keys())\n",
    "    target_list = list(target_dict.keys())\n",
    "    number_of_drugs = len(list(drug_dict.keys()))\n",
    "    number_of_targets = len(list(target_dict.keys()))\n",
    "\n",
    "    adjascency_matrix = np.zeros((number_of_drugs, number_of_targets))\n",
    "\n",
    "    if include_negative == False: \n",
    "        for i in tqdm(range(number_of_drugs)):\n",
    "            for j in range(number_of_targets):\n",
    "\n",
    "                try:\n",
    "                    if target_list[j] in drug_dict[drug_list[i]][1]:\n",
    "                        adjascency_matrix[i][j] = 1\n",
    "                except: \n",
    "                    None\n",
    "\n",
    "                try: \n",
    "                    if target_list[j] in drug_dict[drug_list[i]][0]:\n",
    "                        adjascency_matrix[i][j] = 0\n",
    "                except: \n",
    "                    None\n",
    "                    \n",
    "    else : \n",
    "        for i in tqdm(range(number_of_drugs)):\n",
    "            for j in range(number_of_targets):\n",
    "\n",
    "                try:\n",
    "                    if target_list[j] in drug_dict[drug_list[i]][1]:\n",
    "                        adjascency_matrix[i][j] = 1\n",
    "                except: \n",
    "                    None\n",
    "\n",
    "                try: \n",
    "                    if target_list[j] in drug_dict[drug_list[i]][0]:\n",
    "                        adjascency_matrix[i][j] = -1\n",
    "                except: \n",
    "                    None\n",
    "                \n",
    "    if full == False: \n",
    "        return adjascency_matrix\n",
    "    \n",
    "    else: \n",
    "        true_adjacency_matrix_bipartite = np.block([\n",
    "            [np.zeros((len(drug_dict), len(drug_dict))), adjascency_matrix],\n",
    "            [adjascency_matrix.T, np.zeros((len(target_dict), len(target_dict)))]\n",
    "        ])\n",
    "        return true_adjacency_matrix_bipartite"
   ]
  },
  {
   "cell_type": "code",
   "execution_count": 5,
   "metadata": {},
   "outputs": [],
   "source": [
    "def get_eigen(adjacency):\n",
    "    \n",
    "    start_time = time.time()\n",
    "    eigen_values, eigen_vectors = np.linalg.eig(adjacency)\n",
    "    end_time = time.time()\n",
    "    print (\"Time Taken : \", end_time - start_time, \"s\")\n",
    "    eigen_values_sorted = np.sort(eigen_values)\n",
    "    \n",
    "    return eigen_values, eigen_vectors, eigen_values_sorted"
   ]
  },
  {
   "cell_type": "markdown",
   "metadata": {},
   "source": [
    "### Static Data Files"
   ]
  },
  {
   "cell_type": "code",
   "execution_count": 6,
   "metadata": {},
   "outputs": [],
   "source": [
    "# Read In Drugs\n",
    "\n",
    "drugs = pd.read_csv('/data/sars-busters/chemicals/chemicals_01.csv')\n",
    "max_drug_length = max([len(str(x)) for x in drugs['fingerprint'].values])"
   ]
  },
  {
   "cell_type": "code",
   "execution_count": 7,
   "metadata": {},
   "outputs": [],
   "source": [
    "# Read In Targets\n",
    "\n",
    "targets = pd.read_csv('/data/sars-busters/amino/amino_01.csv')\n",
    "max_target_length = max([len(x) for x in targets['Label'].values])"
   ]
  },
  {
   "cell_type": "code",
   "execution_count": 8,
   "metadata": {},
   "outputs": [],
   "source": [
    "# Read In The Network\n",
    "\n",
    "positive_interactions = pd.read_csv('/data/sars-busters-consolidated/interactions/dataset_1.csv')"
   ]
  },
  {
   "cell_type": "markdown",
   "metadata": {},
   "source": [
    "### Create 13 Hop Negatives"
   ]
  },
  {
   "cell_type": "code",
   "execution_count": 9,
   "metadata": {},
   "outputs": [
    {
     "data": {
      "application/vnd.jupyter.widget-view+json": {
       "model_id": "6b0b78dc15124bf2a4655d8216035b7d",
       "version_major": 2,
       "version_minor": 0
      },
      "text/plain": [
       "  0%|          | 0/30813 [00:00<?, ?it/s]"
      ]
     },
     "metadata": {},
     "output_type": "display_data"
    },
    {
     "data": {
      "application/vnd.jupyter.widget-view+json": {
       "model_id": "c639ea63fa3b420daf157cb5ad301f0a",
       "version_major": 2,
       "version_minor": 0
      },
      "text/plain": [
       "  0%|          | 0/8111 [00:00<?, ?it/s]"
      ]
     },
     "metadata": {},
     "output_type": "display_data"
    }
   ],
   "source": [
    "# Create Drug and Target Dictionaries\n",
    "drug_dict, target_dict = create_interaction_dicts(positive_interactions)\n",
    "\n",
    "# Create Adjacency Matrix For The Netwokr From Above Dictionaries\n",
    "adjacency = create_adjacency(drug_dict, target_dict)\n",
    "\n",
    "# Create A List Of Degrees\n",
    "degree = np.sum(adjacency, axis = 0) + 1e-2"
   ]
  },
  {
   "cell_type": "code",
   "execution_count": 10,
   "metadata": {},
   "outputs": [
    {
     "name": "stdout",
     "output_type": "stream",
     "text": [
      "Number Of Components :  387\n"
     ]
    }
   ],
   "source": [
    "components = nx.connected_components(nx.Graph(adjacency))\n",
    "components = list(components)\n",
    "print (\"Number Of Components : \", len(components))\n",
    "\n",
    "component_sizes = [len(list(components[i])) for i in range(len(components))]"
   ]
  },
  {
   "cell_type": "code",
   "execution_count": 11,
   "metadata": {},
   "outputs": [
    {
     "data": {
      "text/plain": [
       "(13215, 13215)"
      ]
     },
     "execution_count": 11,
     "metadata": {},
     "output_type": "execute_result"
    }
   ],
   "source": [
    "adjacency.shape"
   ]
  },
  {
   "cell_type": "code",
   "execution_count": 13,
   "metadata": {},
   "outputs": [
    {
     "name": "stdout",
     "output_type": "stream",
     "text": [
      "Size of LCC:  12079\n"
     ]
    }
   ],
   "source": [
    "print('Size of LCC: ', max(component_sizes))"
   ]
  },
  {
   "cell_type": "code",
   "execution_count": null,
   "metadata": {},
   "outputs": [],
   "source": []
  },
  {
   "cell_type": "code",
   "execution_count": 14,
   "metadata": {},
   "outputs": [
    {
     "data": {
      "application/vnd.jupyter.widget-view+json": {
       "model_id": "892c554066a24e90b30130674a09232a",
       "version_major": 2,
       "version_minor": 0
      },
      "text/plain": [
       "  0%|          | 0/12 [00:00<?, ?it/s]"
      ]
     },
     "metadata": {},
     "output_type": "display_data"
    }
   ],
   "source": [
    "num_nodes = adjacency.shape[0]\n",
    "max_hop = 13\n",
    "higher_adjacency_matrix = np.zeros((num_nodes, num_nodes, max_hop + 1))\n",
    "\n",
    "higher_adjacency_matrix[:,:,0] =  np.identity(num_nodes)\n",
    "\n",
    "for i in tqdm(range(1, max_hop)):\n",
    "    higher_adjacency_matrix[:, :, i] = np.dot(higher_adjacency_matrix[:, :, i - 1], adjacency)\n",
    "    \n",
    "higher_adjacency_matrix[:, :, max_hop] = np.ones((num_nodes, num_nodes))"
   ]
  },
  {
   "cell_type": "code",
   "execution_count": 15,
   "metadata": {},
   "outputs": [
    {
     "data": {
      "application/vnd.jupyter.widget-view+json": {
       "model_id": "d22df9c5fa6c405b9e8f3c1e53a975aa",
       "version_major": 2,
       "version_minor": 0
      },
      "text/plain": [
       "  0%|          | 0/3 [00:00<?, ?it/s]"
      ]
     },
     "metadata": {},
     "output_type": "display_data"
    }
   ],
   "source": [
    "# Check At Higher Hops\n",
    "\n",
    "num_nodes = adjacency.shape[0]\n",
    "max_hop = 16\n",
    "higher_adjacency_matrix_two =  np.zeros((num_nodes, num_nodes, max_hop + 1))\n",
    "\n",
    "higher_adjacency_matrix_two[:,:,0:13] =  higher_adjacency_matrix[:,:,0:13]\n",
    "\n",
    "for i in tqdm(range(13, max_hop)):\n",
    "    higher_adjacency_matrix_two[:, :, i] = np.dot(higher_adjacency_matrix_two[:, :, i - 1], adjacency)\n",
    "    \n",
    "higher_adjacency_matrix_two[:, :, max_hop] = np.ones((num_nodes, num_nodes))"
   ]
  },
  {
   "cell_type": "code",
   "execution_count": null,
   "metadata": {},
   "outputs": [],
   "source": []
  },
  {
   "cell_type": "code",
   "execution_count": null,
   "metadata": {},
   "outputs": [],
   "source": []
  },
  {
   "cell_type": "code",
   "execution_count": 14,
   "metadata": {},
   "outputs": [
    {
     "data": {
      "image/png": "[encoded data removed]",
      "text/plain": [
       "<Figure size 432x288 with 1 Axes>"
      ]
     },
     "metadata": {
      "needs_background": "light"
     },
     "output_type": "display_data"
    }
   ],
   "source": [
    "path_length = (higher_adjacency_matrix != 0).argmax(axis = 2)\n",
    "plt.title(\"Path Lengths\")\n",
    "plt.xlabel(\"Hop Distance\")\n",
    "plt.ylabel(\"Frequency\")\n",
    "plt.hist(path_length.flatten(),bins=list(range(0,14)))\n",
    "plt.show()"
   ]
  },
  {
   "cell_type": "code",
   "execution_count": 112,
   "metadata": {},
   "outputs": [
    {
     "data": {
      "text/plain": [
       "(array([1.3215000e+04, 6.1626000e+04, 2.0999140e+06, 7.0041720e+06,\n",
       "        2.3725466e+07, 3.4878148e+07, 3.7552114e+07, 2.2173892e+07,\n",
       "        1.1758018e+07, 4.2354100e+06, 1.7068620e+06, 4.8288600e+05,\n",
       "        1.6989600e+05, 3.3846000e+04, 1.0022000e+04, 2.8730738e+07]),\n",
       " array([ 0,  1,  2,  3,  4,  5,  6,  7,  8,  9, 10, 11, 12, 13, 14, 15, 16]),\n",
       " <a list of 16 Patch objects>)"
      ]
     },
     "execution_count": 112,
     "metadata": {},
     "output_type": "execute_result"
    },
    {
     "data": {
      "image/png": "[encoded data removed]",
      "text/plain": [
       "<Figure size 432x288 with 1 Axes>"
      ]
     },
     "metadata": {
      "needs_background": "light"
     },
     "output_type": "display_data"
    }
   ],
   "source": [
    "path_length = (higher_adjacency_matrix_two != 0).argmax(axis = 2)\n",
    "plt.title(\"Path Lengths\")\n",
    "plt.xlabel(\"Hop Distance\")\n",
    "plt.ylabel(\"Frequency\")\n",
    "plt.hist(path_length.flatten(),bins = list(range(0, 17)))\n",
    "# plt.show()"
   ]
  },
  {
   "cell_type": "code",
   "execution_count": 147,
   "metadata": {},
   "outputs": [
    {
     "data": {
      "application/vnd.jupyter.widget-view+json": {
       "model_id": "5f95ba04193a41b4b6badf3698896359",
       "version_major": 2,
       "version_minor": 0
      },
      "text/plain": [
       "HBox(children=(FloatProgress(value=1.0, bar_style='info', max=1.0), HTML(value='')))"
      ]
     },
     "metadata": {},
     "output_type": "display_data"
    },
    {
     "name": "stdout",
     "output_type": "stream",
     "text": [
      "\n"
     ]
    }
   ],
   "source": [
    "drug_split = len(drug_dict)\n",
    "target_split = len(target_dict)\n",
    "drug_list = list(drug_dict)\n",
    "target_list = list(target_dict)\n",
    "\n",
    "# Create 13 - Hop Negatives\n",
    "dataframe = []\n",
    "for i, j in tqdm(zip(*np.where((path_length >= 10) & (path_length < 16)))):\n",
    "    if i < drug_split and j >= drug_split:\n",
    "        dataframe.append([drug_list[i], target_list[j - drug_split], 0])\n",
    "        \n",
    "negatives = pd.DataFrame(dataframe)\n",
    "negatives.columns = [\"InChiKey\", \"target_aa_code\", \"Y\"]"
   ]
  },
  {
   "cell_type": "code",
   "execution_count": 150,
   "metadata": {},
   "outputs": [
    {
     "data": {
      "text/html": [
       "<div>\n",
       "<style scoped>\n",
       "    .dataframe tbody tr th:only-of-type {\n",
       "        vertical-align: middle;\n",
       "    }\n",
       "\n",
       "    .dataframe tbody tr th {\n",
       "        vertical-align: top;\n",
       "    }\n",
       "\n",
       "    .dataframe thead th {\n",
       "        text-align: right;\n",
       "    }\n",
       "</style>\n",
       "<table border=\"1\" class=\"dataframe\">\n",
       "  <thead>\n",
       "    <tr style=\"text-align: right;\">\n",
       "      <th></th>\n",
       "      <th>InChiKey</th>\n",
       "      <th>target_aa_code</th>\n",
       "      <th>Y</th>\n",
       "    </tr>\n",
       "  </thead>\n",
       "  <tbody>\n",
       "    <tr>\n",
       "      <th>0</th>\n",
       "      <td>DEJXHCDDTLTVNB-FRVJLOGJSA-N</td>\n",
       "      <td>MKKLAIMAAASMVFAVSSAHAGFTPSGTTGTTKLTVTEECQVRVGD...</td>\n",
       "      <td>0</td>\n",
       "    </tr>\n",
       "    <tr>\n",
       "      <th>1</th>\n",
       "      <td>DEJXHCDDTLTVNB-FRVJLOGJSA-N</td>\n",
       "      <td>MESPSAPPHRWCIPWQRLLLTASLLTFWNPPTTAKLTIESTPFNVA...</td>\n",
       "      <td>0</td>\n",
       "    </tr>\n",
       "    <tr>\n",
       "      <th>2</th>\n",
       "      <td>DEJXHCDDTLTVNB-FRVJLOGJSA-N</td>\n",
       "      <td>MRMKRFLTIVQILLVVIIIIFGYKIVQTYIEDKQERANYEKLQQKF...</td>\n",
       "      <td>0</td>\n",
       "    </tr>\n",
       "    <tr>\n",
       "      <th>3</th>\n",
       "      <td>DEJXHCDDTLTVNB-FRVJLOGJSA-N</td>\n",
       "      <td>MSPAPVQVMGVLNVTDDSFSDGGCYLDLDDAVKHGLAMAAAGAGIV...</td>\n",
       "      <td>0</td>\n",
       "    </tr>\n",
       "    <tr>\n",
       "      <th>4</th>\n",
       "      <td>DEJXHCDDTLTVNB-FRVJLOGJSA-N</td>\n",
       "      <td>MSEISRQEFQRRRQALVEQMQPGSAALIFAAPEVTRSADSEYPYRQ...</td>\n",
       "      <td>0</td>\n",
       "    </tr>\n",
       "    <tr>\n",
       "      <th>...</th>\n",
       "      <td>...</td>\n",
       "      <td>...</td>\n",
       "      <td>...</td>\n",
       "    </tr>\n",
       "    <tr>\n",
       "      <th>259168</th>\n",
       "      <td>DAUMHRNXYGHXIC-UHFFFAOYSA-N</td>\n",
       "      <td>MSEISRQEFQRRRQALVEQMQPGSAALIFAAPEVTRSADSEYPYRQ...</td>\n",
       "      <td>0</td>\n",
       "    </tr>\n",
       "    <tr>\n",
       "      <th>259169</th>\n",
       "      <td>DAUMHRNXYGHXIC-UHFFFAOYSA-N</td>\n",
       "      <td>MNPNQKIITIGSVSLTIATVCFLMQIAILVTTVTLHFKQHECDSPA...</td>\n",
       "      <td>0</td>\n",
       "    </tr>\n",
       "    <tr>\n",
       "      <th>259170</th>\n",
       "      <td>DAUMHRNXYGHXIC-UHFFFAOYSA-N</td>\n",
       "      <td>MNMKKLATLVSAVALSATVSANAMAKDTIALVVSTLNNPFFVSLKD...</td>\n",
       "      <td>0</td>\n",
       "    </tr>\n",
       "    <tr>\n",
       "      <th>259171</th>\n",
       "      <td>DAUMHRNXYGHXIC-UHFFFAOYSA-N</td>\n",
       "      <td>MSDFDTERVSRAVAAALVGPGGVALVVKVFAGLPGVIHTPARRGFF...</td>\n",
       "      <td>0</td>\n",
       "    </tr>\n",
       "    <tr>\n",
       "      <th>259172</th>\n",
       "      <td>DAUMHRNXYGHXIC-UHFFFAOYSA-N</td>\n",
       "      <td>MHLKIVCLSDEVREMYKNHKTHHEGDSGLDLFIVKDEVLKPKSTTF...</td>\n",
       "      <td>0</td>\n",
       "    </tr>\n",
       "  </tbody>\n",
       "</table>\n",
       "<p>259173 rows × 3 columns</p>\n",
       "</div>"
      ],
      "text/plain": [
       "                           InChiKey  \\\n",
       "0       DEJXHCDDTLTVNB-FRVJLOGJSA-N   \n",
       "1       DEJXHCDDTLTVNB-FRVJLOGJSA-N   \n",
       "2       DEJXHCDDTLTVNB-FRVJLOGJSA-N   \n",
       "3       DEJXHCDDTLTVNB-FRVJLOGJSA-N   \n",
       "4       DEJXHCDDTLTVNB-FRVJLOGJSA-N   \n",
       "...                             ...   \n",
       "259168  DAUMHRNXYGHXIC-UHFFFAOYSA-N   \n",
       "259169  DAUMHRNXYGHXIC-UHFFFAOYSA-N   \n",
       "259170  DAUMHRNXYGHXIC-UHFFFAOYSA-N   \n",
       "259171  DAUMHRNXYGHXIC-UHFFFAOYSA-N   \n",
       "259172  DAUMHRNXYGHXIC-UHFFFAOYSA-N   \n",
       "\n",
       "                                           target_aa_code  Y  \n",
       "0       MKKLAIMAAASMVFAVSSAHAGFTPSGTTGTTKLTVTEECQVRVGD...  0  \n",
       "1       MESPSAPPHRWCIPWQRLLLTASLLTFWNPPTTAKLTIESTPFNVA...  0  \n",
       "2       MRMKRFLTIVQILLVVIIIIFGYKIVQTYIEDKQERANYEKLQQKF...  0  \n",
       "3       MSPAPVQVMGVLNVTDDSFSDGGCYLDLDDAVKHGLAMAAAGAGIV...  0  \n",
       "4       MSEISRQEFQRRRQALVEQMQPGSAALIFAAPEVTRSADSEYPYRQ...  0  \n",
       "...                                                   ... ..  \n",
       "259168  MSEISRQEFQRRRQALVEQMQPGSAALIFAAPEVTRSADSEYPYRQ...  0  \n",
       "259169  MNPNQKIITIGSVSLTIATVCFLMQIAILVTTVTLHFKQHECDSPA...  0  \n",
       "259170  MNMKKLATLVSAVALSATVSANAMAKDTIALVVSTLNNPFFVSLKD...  0  \n",
       "259171  MSDFDTERVSRAVAAALVGPGGVALVVKVFAGLPGVIHTPARRGFF...  0  \n",
       "259172  MHLKIVCLSDEVREMYKNHKTHHEGDSGLDLFIVKDEVLKPKSTTF...  0  \n",
       "\n",
       "[259173 rows x 3 columns]"
      ]
     },
     "execution_count": 150,
     "metadata": {},
     "output_type": "execute_result"
    }
   ],
   "source": [
    "negatives"
   ]
  },
  {
   "cell_type": "code",
   "execution_count": 151,
   "metadata": {},
   "outputs": [],
   "source": [
    "negatives.to_csv('/data/sars-busters-consolidated/interactions/13_hop_negatives_DS1.csv', index = False) ## should be DS2 "
   ]
  },
  {
   "cell_type": "code",
   "execution_count": 6,
   "metadata": {},
   "outputs": [],
   "source": [
    "negatives_13_hops = pd.read_csv('/data/sars-busters-consolidated/interactions/13_hop_negatives_DS1.csv') ## this is not actually "
   ]
  },
  {
   "cell_type": "code",
   "execution_count": 155,
   "metadata": {},
   "outputs": [
    {
     "data": {
      "text/html": [
       "<div>\n",
       "<style scoped>\n",
       "    .dataframe tbody tr th:only-of-type {\n",
       "        vertical-align: middle;\n",
       "    }\n",
       "\n",
       "    .dataframe tbody tr th {\n",
       "        vertical-align: top;\n",
       "    }\n",
       "\n",
       "    .dataframe thead th {\n",
       "        text-align: right;\n",
       "    }\n",
       "</style>\n",
       "<table border=\"1\" class=\"dataframe\">\n",
       "  <thead>\n",
       "    <tr style=\"text-align: right;\">\n",
       "      <th></th>\n",
       "      <th>InChiKey</th>\n",
       "      <th>target_aa_code</th>\n",
       "      <th>Y</th>\n",
       "    </tr>\n",
       "  </thead>\n",
       "  <tbody>\n",
       "    <tr>\n",
       "      <th>0</th>\n",
       "      <td>DEJXHCDDTLTVNB-FRVJLOGJSA-N</td>\n",
       "      <td>MKKLAIMAAASMVFAVSSAHAGFTPSGTTGTTKLTVTEECQVRVGD...</td>\n",
       "      <td>0</td>\n",
       "    </tr>\n",
       "    <tr>\n",
       "      <th>1</th>\n",
       "      <td>DEJXHCDDTLTVNB-FRVJLOGJSA-N</td>\n",
       "      <td>MESPSAPPHRWCIPWQRLLLTASLLTFWNPPTTAKLTIESTPFNVA...</td>\n",
       "      <td>0</td>\n",
       "    </tr>\n",
       "    <tr>\n",
       "      <th>2</th>\n",
       "      <td>DEJXHCDDTLTVNB-FRVJLOGJSA-N</td>\n",
       "      <td>MRMKRFLTIVQILLVVIIIIFGYKIVQTYIEDKQERANYEKLQQKF...</td>\n",
       "      <td>0</td>\n",
       "    </tr>\n",
       "    <tr>\n",
       "      <th>3</th>\n",
       "      <td>DEJXHCDDTLTVNB-FRVJLOGJSA-N</td>\n",
       "      <td>MSPAPVQVMGVLNVTDDSFSDGGCYLDLDDAVKHGLAMAAAGAGIV...</td>\n",
       "      <td>0</td>\n",
       "    </tr>\n",
       "    <tr>\n",
       "      <th>4</th>\n",
       "      <td>DEJXHCDDTLTVNB-FRVJLOGJSA-N</td>\n",
       "      <td>MSEISRQEFQRRRQALVEQMQPGSAALIFAAPEVTRSADSEYPYRQ...</td>\n",
       "      <td>0</td>\n",
       "    </tr>\n",
       "    <tr>\n",
       "      <th>...</th>\n",
       "      <td>...</td>\n",
       "      <td>...</td>\n",
       "      <td>...</td>\n",
       "    </tr>\n",
       "    <tr>\n",
       "      <th>259168</th>\n",
       "      <td>DAUMHRNXYGHXIC-UHFFFAOYSA-N</td>\n",
       "      <td>MSEISRQEFQRRRQALVEQMQPGSAALIFAAPEVTRSADSEYPYRQ...</td>\n",
       "      <td>0</td>\n",
       "    </tr>\n",
       "    <tr>\n",
       "      <th>259169</th>\n",
       "      <td>DAUMHRNXYGHXIC-UHFFFAOYSA-N</td>\n",
       "      <td>MNPNQKIITIGSVSLTIATVCFLMQIAILVTTVTLHFKQHECDSPA...</td>\n",
       "      <td>0</td>\n",
       "    </tr>\n",
       "    <tr>\n",
       "      <th>259170</th>\n",
       "      <td>DAUMHRNXYGHXIC-UHFFFAOYSA-N</td>\n",
       "      <td>MNMKKLATLVSAVALSATVSANAMAKDTIALVVSTLNNPFFVSLKD...</td>\n",
       "      <td>0</td>\n",
       "    </tr>\n",
       "    <tr>\n",
       "      <th>259171</th>\n",
       "      <td>DAUMHRNXYGHXIC-UHFFFAOYSA-N</td>\n",
       "      <td>MSDFDTERVSRAVAAALVGPGGVALVVKVFAGLPGVIHTPARRGFF...</td>\n",
       "      <td>0</td>\n",
       "    </tr>\n",
       "    <tr>\n",
       "      <th>259172</th>\n",
       "      <td>DAUMHRNXYGHXIC-UHFFFAOYSA-N</td>\n",
       "      <td>MHLKIVCLSDEVREMYKNHKTHHEGDSGLDLFIVKDEVLKPKSTTF...</td>\n",
       "      <td>0</td>\n",
       "    </tr>\n",
       "  </tbody>\n",
       "</table>\n",
       "<p>259173 rows × 3 columns</p>\n",
       "</div>"
      ],
      "text/plain": [
       "                           InChiKey  \\\n",
       "0       DEJXHCDDTLTVNB-FRVJLOGJSA-N   \n",
       "1       DEJXHCDDTLTVNB-FRVJLOGJSA-N   \n",
       "2       DEJXHCDDTLTVNB-FRVJLOGJSA-N   \n",
       "3       DEJXHCDDTLTVNB-FRVJLOGJSA-N   \n",
       "4       DEJXHCDDTLTVNB-FRVJLOGJSA-N   \n",
       "...                             ...   \n",
       "259168  DAUMHRNXYGHXIC-UHFFFAOYSA-N   \n",
       "259169  DAUMHRNXYGHXIC-UHFFFAOYSA-N   \n",
       "259170  DAUMHRNXYGHXIC-UHFFFAOYSA-N   \n",
       "259171  DAUMHRNXYGHXIC-UHFFFAOYSA-N   \n",
       "259172  DAUMHRNXYGHXIC-UHFFFAOYSA-N   \n",
       "\n",
       "                                           target_aa_code  Y  \n",
       "0       MKKLAIMAAASMVFAVSSAHAGFTPSGTTGTTKLTVTEECQVRVGD...  0  \n",
       "1       MESPSAPPHRWCIPWQRLLLTASLLTFWNPPTTAKLTIESTPFNVA...  0  \n",
       "2       MRMKRFLTIVQILLVVIIIIFGYKIVQTYIEDKQERANYEKLQQKF...  0  \n",
       "3       MSPAPVQVMGVLNVTDDSFSDGGCYLDLDDAVKHGLAMAAAGAGIV...  0  \n",
       "4       MSEISRQEFQRRRQALVEQMQPGSAALIFAAPEVTRSADSEYPYRQ...  0  \n",
       "...                                                   ... ..  \n",
       "259168  MSEISRQEFQRRRQALVEQMQPGSAALIFAAPEVTRSADSEYPYRQ...  0  \n",
       "259169  MNPNQKIITIGSVSLTIATVCFLMQIAILVTTVTLHFKQHECDSPA...  0  \n",
       "259170  MNMKKLATLVSAVALSATVSANAMAKDTIALVVSTLNNPFFVSLKD...  0  \n",
       "259171  MSDFDTERVSRAVAAALVGPGGVALVVKVFAGLPGVIHTPARRGFF...  0  \n",
       "259172  MHLKIVCLSDEVREMYKNHKTHHEGDSGLDLFIVKDEVLKPKSTTF...  0  \n",
       "\n",
       "[259173 rows x 3 columns]"
      ]
     },
     "execution_count": 155,
     "metadata": {},
     "output_type": "execute_result"
    }
   ],
   "source": [
    "negatives_13_hops"
   ]
  },
  {
   "cell_type": "code",
   "execution_count": null,
   "metadata": {},
   "outputs": [],
   "source": []
  },
  {
   "cell_type": "markdown",
   "metadata": {},
   "source": [
    "### Create Train / Validation / Test Split "
   ]
  },
  {
   "cell_type": "markdown",
   "metadata": {},
   "source": [
    "#### Static Parameters For Splits"
   ]
  },
  {
   "cell_type": "code",
   "execution_count": 156,
   "metadata": {},
   "outputs": [],
   "source": [
    "np.random.seed(2021)\n",
    "random.seed(2021)\n",
    "\n",
    "frac = 0.15\n",
    "\n",
    "num_splits = 6\n",
    "\n",
    "num_in_split = targets.shape[0] // num_splits"
   ]
  },
  {
   "cell_type": "code",
   "execution_count": 157,
   "metadata": {},
   "outputs": [],
   "source": [
    "# Shuffle Target List\n",
    "\n",
    "target_list = list(targets['Label'])\n",
    "np.random.shuffle(target_list)"
   ]
  },
  {
   "cell_type": "markdown",
   "metadata": {},
   "source": [
    "#### Unseen Targets"
   ]
  },
  {
   "cell_type": "code",
   "execution_count": 158,
   "metadata": {},
   "outputs": [],
   "source": [
    "# Create Multiple Sets Of Unseen Targets\n",
    "unseen_target_sets = np.split(np.array(target_list),\n",
    "                              [num_in_split * i for i in range(1, num_splits)])\n",
    "\n",
    "# Create Seen Target Sets For Each Unseen Target Set Above\n",
    "seen_target_sets = [set(targets['Label']).difference(unseen_targets) for unseen_targets in unseen_target_sets]"
   ]
  },
  {
   "cell_type": "code",
   "execution_count": 159,
   "metadata": {},
   "outputs": [
    {
     "name": "stdout",
     "output_type": "stream",
     "text": [
      "Number Of Unseen Targets In Each Set :  [850, 850, 850, 850, 850, 854]\n",
      "Number Of Seen Targets In Each Set :  [4254, 4254, 4254, 4254, 4254, 4250]\n"
     ]
    }
   ],
   "source": [
    "print (\"Number Of Unseen Targets In Each Set : \", sub_len(unseen_target_sets))\n",
    "print (\"Number Of Seen Targets In Each Set : \", sub_len(seen_target_sets))"
   ]
  },
  {
   "cell_type": "code",
   "execution_count": 160,
   "metadata": {},
   "outputs": [
    {
     "name": "stdout",
     "output_type": "stream",
     "text": [
      "Length Of Unseen Target DataFrames (Positives Only) :  [5192, 5755, 5166, 4419, 5510, 4771]\n"
     ]
    }
   ],
   "source": [
    "# Create Set Of Seen Target DataFrames\n",
    "seen_target_pos_df_sets = [positive_interactions[positive_interactions['target_aa_code'].isin(seen_targets)] \n",
    "                       for seen_targets in seen_target_sets]\n",
    "\n",
    "# Create Set Of Unseen Target DataFrames\n",
    "unseen_target_pos_df_sets = [positive_interactions[positive_interactions['target_aa_code'].isin(unseen_targets)] \n",
    "                       for unseen_targets in unseen_target_sets]\n",
    "\n",
    "# Make DataFrames Prettier\n",
    "seen_target_pos_df_sets = [seen_target_df[[\"InChiKey\", \"target_aa_code\", \"Y\"]] for seen_target_df in seen_target_pos_df_sets]\n",
    "unseen_target_pos_df_sets = [unseen_target_df[[\"InChiKey\", \"target_aa_code\", \"Y\"]] for unseen_target_df in unseen_target_pos_df_sets]\n",
    "\n",
    "print (\"Length Of Unseen Target DataFrames (Positives Only) : \", sub_len(unseen_target_pos_df_sets))"
   ]
  },
  {
   "cell_type": "code",
   "execution_count": 161,
   "metadata": {},
   "outputs": [
    {
     "name": "stdout",
     "output_type": "stream",
     "text": [
      "Length Of Unseen Targets DataFrames (Complete) :  [10947, 11510, 10921, 10174, 11265, 10526]\n"
     ]
    }
   ],
   "source": [
    "unseen_targets_df_sets = []\n",
    "\n",
    "for idx, unseen_target_df in enumerate(unseen_target_pos_df_sets):\n",
    "    \n",
    "    # Get Random Negative DataFrame\n",
    "    neg_df = negatives_13_hops[negatives_13_hops['target_aa_code'].isin(unseen_target_sets[idx])]\n",
    "    \n",
    "    # Figure Out Sample Ratio\n",
    "    sample_ratio = max(sub_len(unseen_target_pos_df_sets)) / neg_df.shape[0]\n",
    "    \n",
    "    # Sample Negatives\n",
    "    neg_df = neg_df.sample(frac = sample_ratio, replace = False)\n",
    "    \n",
    "    # Concatenate With Random Negatives\n",
    "    unseen_target_df = pd.concat([unseen_target_df, neg_df])\n",
    "    \n",
    "    # Shuffle \n",
    "    unseen_target_df = unseen_target_df.sample(frac = 1.0, replace = False)\n",
    "\n",
    "    # Append\n",
    "    unseen_targets_df_sets.append(unseen_target_df)\n",
    "    \n",
    "print (\"Length Of Unseen Targets DataFrames (Complete) : \", sub_len(unseen_targets_df_sets))"
   ]
  },
  {
   "cell_type": "markdown",
   "metadata": {},
   "source": [
    "#### Unseen Edges"
   ]
  },
  {
   "cell_type": "code",
   "execution_count": 162,
   "metadata": {},
   "outputs": [
    {
     "name": "stdout",
     "output_type": "stream",
     "text": [
      "Length Of Unseen Edges DataFrames (Complete) :  [7686, 7518, 7694, 7918, 7590, 7812]\n"
     ]
    }
   ],
   "source": [
    "unseen_edges_df_sets = []\n",
    "\n",
    "for idx, (seen_target_df, seen_targets) in enumerate(zip(seen_target_pos_df_sets, seen_target_sets)):\n",
    "    \n",
    "    # Get Random Negative DataFrame\n",
    "    neg_df = negatives_13_hops[negatives_13_hops['target_aa_code'].isin(seen_target_sets[idx])]\n",
    "    \n",
    "    # Sample From The Seen Target DataFrame\n",
    "    unseen_edges_pos_df = seen_target_df.sample(frac = 0.15, replace = False).reset_index(drop = True)\n",
    "\n",
    "    # Figure Out Sample Ratio\n",
    "    sample_ratio = unseen_edges_pos_df.shape[0] / neg_df.shape[0]\n",
    "    \n",
    "    # Sample Negatives\n",
    "    neg_df = neg_df.sample(frac = sample_ratio, replace = False)\n",
    "    \n",
    "    # Concatenate With Random Negatives\n",
    "    unseen_edges_df = pd.concat([unseen_edges_pos_df, neg_df])\n",
    "    \n",
    "    # Shuffle \n",
    "    unseen_edges_df = unseen_edges_df.sample(frac = 1.0, replace = False)\n",
    "\n",
    "    # Append\n",
    "    unseen_edges_df_sets.append(unseen_edges_df)\n",
    "    \n",
    "print (\"Length Of Unseen Edges DataFrames (Complete) : \", sub_len(unseen_edges_df_sets))"
   ]
  },
  {
   "cell_type": "markdown",
   "metadata": {},
   "source": [
    "#### Create Validation Sets"
   ]
  },
  {
   "cell_type": "code",
   "execution_count": 163,
   "metadata": {},
   "outputs": [
    {
     "data": {
      "application/vnd.jupyter.widget-view+json": {
       "model_id": "64e38e0b6b494540b8afbce8be428d5c",
       "version_major": 2,
       "version_minor": 0
      },
      "text/plain": [
       "HBox(children=(FloatProgress(value=0.0, max=6.0), HTML(value='')))"
      ]
     },
     "metadata": {},
     "output_type": "display_data"
    },
    {
     "name": "stdout",
     "output_type": "stream",
     "text": [
      "\n",
      "Shapes Of Validation Sets :  [5474, 5755, 5461, 5087, 5633, 5263]\n",
      "Shapes Of Test Sets :  [5473, 5755, 5460, 5087, 5632, 5263]\n"
     ]
    }
   ],
   "source": [
    "targets_test = []\n",
    "targets_validation = []\n",
    "\n",
    "for dataframe in tqdm(unseen_targets_df_sets):\n",
    "    \n",
    "    split_point = dataframe.shape[0] // 2\n",
    "    split = np.split(dataframe, [split_point])\n",
    "    targets_test.append(split[0])\n",
    "    targets_validation.append(split[1])\n",
    "    \n",
    "print (\"Shapes Of Validation Sets : \", sub_len(targets_validation))\n",
    "print (\"Shapes Of Test Sets : \", sub_len(targets_test))"
   ]
  },
  {
   "cell_type": "code",
   "execution_count": 164,
   "metadata": {},
   "outputs": [
    {
     "data": {
      "application/vnd.jupyter.widget-view+json": {
       "model_id": "a6228fb4ad9d4c68a14d7e5c9f95c118",
       "version_major": 2,
       "version_minor": 0
      },
      "text/plain": [
       "HBox(children=(FloatProgress(value=0.0, max=6.0), HTML(value='')))"
      ]
     },
     "metadata": {},
     "output_type": "display_data"
    },
    {
     "name": "stdout",
     "output_type": "stream",
     "text": [
      "\n",
      "Shapes Of Validation Sets :  [3843, 3759, 3847, 3959, 3795, 3906]\n",
      "Shapes Of Test Sets :  [3843, 3759, 3847, 3959, 3795, 3906]\n"
     ]
    }
   ],
   "source": [
    "edges_test = []\n",
    "edges_validation = []\n",
    "\n",
    "for dataframe in tqdm(unseen_edges_df_sets):\n",
    "    \n",
    "    split_point = dataframe.shape[0] // 2\n",
    "    split = np.split(dataframe, [split_point])\n",
    "    edges_test.append(split[0])\n",
    "    edges_validation.append(split[1])\n",
    "    \n",
    "print (\"Shapes Of Validation Sets : \", sub_len(edges_validation))\n",
    "print (\"Shapes Of Test Sets : \", sub_len(edges_test))"
   ]
  },
  {
   "cell_type": "markdown",
   "metadata": {},
   "source": [
    "#### Write To Disk"
   ]
  },
  {
   "cell_type": "code",
   "execution_count": 165,
   "metadata": {},
   "outputs": [],
   "source": [
    "with open('/data/sars-busters-consolidated/interactions/targets_test.pkl', 'wb') as file: \n",
    "    pkl.dump(targets_test, file)\n",
    "    \n",
    "with open('/data/sars-busters-consolidated/interactions/targets_validation.pkl', 'wb') as file: \n",
    "    pkl.dump(targets_validation, file)\n",
    "    \n",
    "with open('/data/sars-busters-consolidated/interactions/edges_test.pkl', 'wb') as file: \n",
    "    pkl.dump(edges_test, file)\n",
    "    \n",
    "with open('/data/sars-busters-consolidated/interactions/edges_validation.pkl', 'wb') as file: \n",
    "    pkl.dump(edges_validation, file)\n",
    "    "
   ]
  },
  {
   "cell_type": "code",
   "execution_count": null,
   "metadata": {},
   "outputs": [],
   "source": []
  },
  {
   "cell_type": "markdown",
   "metadata": {},
   "source": [
    "#### Stats?"
   ]
  },
  {
   "cell_type": "code",
   "execution_count": 175,
   "metadata": {
    "scrolled": true
   },
   "outputs": [
    {
     "name": "stdout",
     "output_type": "stream",
     "text": [
      "Cross Validation Set :  0\n",
      "\n",
      "\tTrain Set (Positive Edges Only)           :  21778\n",
      "\tTrain (Drugs)                             :  6852\n",
      "\tTrain (Targets)                           :  3925\n",
      "\n",
      "\tTarget Test (Positve + Negative Edges)    :  5473\n",
      "\tTarget Test (Drugs)                       :  2687\n",
      "\tTarget Test (Targets)                     :  753\n",
      "\n",
      "\tTarget Val (Positve + Negative Edges)     :  5474\n",
      "\tTarget Val (Drugs)                        :  2726\n",
      "\tTarget Val (Targets)                      :  774\n",
      "\n",
      "\tEdge Test (Positve + Negative Edges)      :  3843\n",
      "\tEdge (Drugs)                              :  2146\n",
      "\tEdge (Targets)                            :  1702\n",
      "\n",
      "\tEdge Val (Positve + Negative Edges)       :  3843\n",
      "\tEdge Val (Drugs)                          :  2176\n",
      "\tEdge Val (Targets)                        :  1677\n",
      "\n",
      "\n",
      "Cross Validation Set :  1\n",
      "\n",
      "\tTrain Set (Positive Edges Only)           :  21299\n",
      "\tTrain (Drugs)                             :  6577\n",
      "\tTrain (Targets)                           :  3962\n",
      "\n",
      "\tTarget Test (Positve + Negative Edges)    :  5755\n",
      "\tTarget Test (Drugs)                       :  3141\n",
      "\tTarget Test (Targets)                     :  759\n",
      "\n",
      "\tTarget Val (Positve + Negative Edges)     :  5755\n",
      "\tTarget Val (Drugs)                        :  3157\n",
      "\tTarget Val (Targets)                      :  762\n",
      "\n",
      "\tEdge Test (Positve + Negative Edges)      :  3759\n",
      "\tEdge (Drugs)                              :  2070\n",
      "\tEdge (Targets)                            :  1690\n",
      "\n",
      "\tEdge Val (Positve + Negative Edges)       :  3759\n",
      "\tEdge Val (Drugs)                          :  2042\n",
      "\tEdge Val (Targets)                        :  1697\n",
      "\n",
      "\n",
      "Cross Validation Set :  2\n",
      "\n",
      "\tTrain Set (Positive Edges Only)           :  21800\n",
      "\tTrain (Drugs)                             :  6801\n",
      "\tTrain (Targets)                           :  3966\n",
      "\n",
      "\tTarget Test (Positve + Negative Edges)    :  5460\n",
      "\tTarget Test (Drugs)                       :  2486\n",
      "\tTarget Test (Targets)                     :  777\n",
      "\n",
      "\tTarget Val (Positve + Negative Edges)     :  5461\n",
      "\tTarget Val (Drugs)                        :  2376\n",
      "\tTarget Val (Targets)                      :  782\n",
      "\n",
      "\tEdge Test (Positve + Negative Edges)      :  3847\n",
      "\tEdge (Drugs)                              :  2174\n",
      "\tEdge (Targets)                            :  1614\n",
      "\n",
      "\tEdge Val (Positve + Negative Edges)       :  3847\n",
      "\tEdge Val (Drugs)                          :  2184\n",
      "\tEdge Val (Targets)                        :  1635\n",
      "\n",
      "\n",
      "Cross Validation Set :  3\n",
      "\n",
      "\tTrain Set (Positive Edges Only)           :  22435\n",
      "\tTrain (Drugs)                             :  6876\n",
      "\tTrain (Targets)                           :  3924\n",
      "\n",
      "\tTarget Test (Positve + Negative Edges)    :  5087\n",
      "\tTarget Test (Drugs)                       :  2419\n",
      "\tTarget Test (Targets)                     :  755\n",
      "\n",
      "\tTarget Val (Positve + Negative Edges)     :  5087\n",
      "\tTarget Val (Drugs)                        :  2399\n",
      "\tTarget Val (Targets)                      :  763\n",
      "\n",
      "\tEdge Test (Positve + Negative Edges)      :  3959\n",
      "\tEdge (Drugs)                              :  2212\n",
      "\tEdge (Targets)                            :  1689\n",
      "\n",
      "\tEdge Val (Positve + Negative Edges)       :  3959\n",
      "\tEdge Val (Drugs)                          :  2247\n",
      "\tEdge Val (Targets)                        :  1683\n",
      "\n",
      "\n",
      "Cross Validation Set :  4\n",
      "\n",
      "\tTrain Set (Positive Edges Only)           :  21508\n",
      "\tTrain (Drugs)                             :  6584\n",
      "\tTrain (Targets)                           :  3922\n",
      "\n",
      "\tTarget Test (Positve + Negative Edges)    :  5632\n",
      "\tTarget Test (Drugs)                       :  3101\n",
      "\tTarget Test (Targets)                     :  750\n",
      "\n",
      "\tTarget Val (Positve + Negative Edges)     :  5633\n",
      "\tTarget Val (Drugs)                        :  3142\n",
      "\tTarget Val (Targets)                      :  744\n",
      "\n",
      "\tEdge Test (Positve + Negative Edges)      :  3795\n",
      "\tEdge (Drugs)                              :  2049\n",
      "\tEdge (Targets)                            :  1697\n",
      "\n",
      "\tEdge Val (Positve + Negative Edges)       :  3795\n",
      "\tEdge Val (Drugs)                          :  2095\n",
      "\tEdge Val (Targets)                        :  1707\n",
      "\n",
      "\n",
      "Cross Validation Set :  5\n",
      "\n",
      "\tTrain Set (Positive Edges Only)           :  22136\n",
      "\tTrain (Drugs)                             :  6841\n",
      "\tTrain (Targets)                           :  3949\n",
      "\n",
      "\tTarget Test (Positve + Negative Edges)    :  5263\n",
      "\tTarget Test (Drugs)                       :  2163\n",
      "\tTarget Test (Targets)                     :  792\n",
      "\n",
      "\tTarget Val (Positve + Negative Edges)     :  5263\n",
      "\tTarget Val (Drugs)                        :  2139\n",
      "\tTarget Val (Targets)                      :  776\n",
      "\n",
      "\tEdge Test (Positve + Negative Edges)      :  3906\n",
      "\tEdge (Drugs)                              :  2226\n",
      "\tEdge (Targets)                            :  1631\n",
      "\n",
      "\tEdge Val (Positve + Negative Edges)       :  3906\n",
      "\tEdge Val (Drugs)                          :  2244\n",
      "\tEdge Val (Targets)                        :  1654\n",
      "\n",
      "\n"
     ]
    }
   ],
   "source": [
    "train_sets = []\n",
    "\n",
    "for i in tqdm(range(len(targets_test))):\n",
    "\n",
    "    # Unseen Targets\n",
    "    unseen_targets = list(set(targets_test[i]['target_aa_code'])) + list(set(targets_validation[i]['target_aa_code']))\n",
    "\n",
    "    # Seen Targets\n",
    "    seen_targets = set(targets['Label']).difference(unseen_targets)\n",
    "\n",
    "    # Seen Targets \n",
    "    seen_target_df = positive_interactions[positive_interactions['target_aa_code'].isin(seen_targets)]\n",
    "    seen_target_df = seen_target_df[[\"InChiKey\", \"target_aa_code\", \"Y\"]]\n",
    "\n",
    "\n",
    "    # Create dataframe with train interactions\n",
    "    train_interactions = pd.concat([seen_target_df,\n",
    "                                    edges_test[i],\n",
    "                                    edges_test[i],\n",
    "                                    edges_validation[i],\n",
    "                                    edges_validation[i]]).drop_duplicates(keep = False)\n",
    "    \n",
    "    train_sets.append(train_interactions)\n",
    "\n",
    "for i in range(len(targets_test)):\n",
    "    \n",
    "    print (\"Cross Validation Set : \", i)\n",
    "    print (\"\")\n",
    "    \n",
    "    print (\"\\tTrain Set (Positive Edges Only)           : \", train_sets[i].shape[0])\n",
    "    print (\"\\tTrain (Drugs)                             : \", len(list(set(train_sets[i]['InChiKey']))))\n",
    "    print (\"\\tTrain (Targets)                           : \", len(list(set(train_sets[i]['target_aa_code']))))\n",
    "    print (\"\")\n",
    "    print (\"\\tTarget Test (Positve + Negative Edges)    : \", targets_test[i].shape[0])\n",
    "    print (\"\\tTarget Test (Drugs)                       : \", len(list(set(targets_test[i]['InChiKey']))))\n",
    "    print (\"\\tTarget Test (Targets)                     : \", len(list(set(targets_test[i]['target_aa_code']))))\n",
    "    print (\"\")\n",
    "    print (\"\\tTarget Val (Positve + Negative Edges)     : \", targets_validation[i].shape[0])\n",
    "    print (\"\\tTarget Val (Drugs)                        : \", len(list(set(targets_validation[i]['InChiKey']))))\n",
    "    print (\"\\tTarget Val (Targets)                      : \", len(list(set(targets_validation[i]['target_aa_code']))))\n",
    "    print (\"\")\n",
    "    print (\"\\tEdge Test (Positve + Negative Edges)      : \", edges_test[i].shape[0])\n",
    "    print (\"\\tEdge (Drugs)                              : \", len(list(set(edges_test[i]['InChiKey']))))\n",
    "    print (\"\\tEdge (Targets)                            : \", len(list(set(edges_test[i]['target_aa_code']))))\n",
    "    print (\"\")\n",
    "    print (\"\\tEdge Val (Positve + Negative Edges)       : \", edges_validation[i].shape[0])\n",
    "    print (\"\\tEdge Val (Drugs)                          : \", len(list(set(edges_validation[i]['InChiKey']))))\n",
    "    print (\"\\tEdge Val (Targets)                        : \", len(list(set(edges_validation[i]['target_aa_code']))))\n",
    "    \n",
    "    \n",
    "    print (\"\")\n",
    "    print (\"\")"
   ]
  },
  {
   "cell_type": "code",
   "execution_count": null,
   "metadata": {},
   "outputs": [],
   "source": []
  },
  {
   "cell_type": "code",
   "execution_count": null,
   "metadata": {},
   "outputs": [],
   "source": []
  },
  {
   "cell_type": "markdown",
   "metadata": {},
   "source": [
    "### Done! 😁 "
   ]
  }
 ],
 "metadata": {
  "kernelspec": {
   "display_name": "Python 3",
   "language": "python",
   "name": "python3"
  },
  "language_info": {
   "codemirror_mode": {
    "name": "ipython",
    "version": 3
   },
   "file_extension": ".py",
   "mimetype": "text/x-python",
   "name": "python",
   "nbconvert_exporter": "python",
   "pygments_lexer": "ipython3",
   "version": "3.6.6"
  },
  "toc": {
   "base_numbering": 1,
   "nav_menu": {},
   "number_sections": true,
   "sideBar": true,
   "skip_h1_title": false,
   "title_cell": "Table of Contents",
   "title_sidebar": "Contents",
   "toc_cell": false,
   "toc_position": {},
   "toc_section_display": true,
   "toc_window_display": false
  }
 },
 "nbformat": 4,
 "nbformat_minor": 4
}
