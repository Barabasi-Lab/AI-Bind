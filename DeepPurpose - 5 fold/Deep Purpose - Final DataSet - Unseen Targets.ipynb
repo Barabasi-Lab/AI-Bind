{
 "cells": [
  {
   "cell_type": "markdown",
   "metadata": {},
   "source": [
    "### Imports"
   ]
  },
  {
   "cell_type": "code",
   "execution_count": 2,
   "metadata": {},
   "outputs": [
    {
     "data": {
      "text/plain": [
       "[\"b'Mon Jun 21 08:59:20 2021       \",\n",
       " '+-----------------------------------------------------------------------------+',\n",
       " '| NVIDIA-SMI 418.87.01    Driver Version: 418.87.01    CUDA Version: 10.1     |',\n",
       " '|-------------------------------+----------------------+----------------------+',\n",
       " '| GPU  Name        Persistence-M| Bus-Id        Disp.A | Volatile Uncorr. ECC |',\n",
       " '| Fan  Temp  Perf  Pwr:Usage/Cap|         Memory-Usage | GPU-Util  Compute M. |',\n",
       " '|===============================+======================+======================|',\n",
       " '|   0  Tesla T4            Off  | 00000000:00:04.0 Off |                    0 |',\n",
       " '| N/A   64C    P0    30W /  70W |  14387MiB / 15079MiB |      0%      Default |',\n",
       " '+-------------------------------+----------------------+----------------------+',\n",
       " '|   1  Tesla T4            Off  | 00000000:00:05.0 Off |                    0 |',\n",
       " '| N/A   71C    P0    35W /  70W |    193MiB / 15079MiB |     72%      Default |',\n",
       " '+-------------------------------+----------------------+----------------------+',\n",
       " '|   2  Tesla T4            Off  | 00000000:00:06.0 Off |                    0 |',\n",
       " '| N/A   78C    P0    71W /  70W |   1224MiB / 15079MiB |     98%      Default |',\n",
       " '+-------------------------------+----------------------+----------------------+',\n",
       " '|   3  Tesla T4            Off  | 00000000:00:07.0 Off |                    0 |',\n",
       " '| N/A   48C    P0    28W /  70W |  14570MiB / 15079MiB |      0%      Default |',\n",
       " '+-------------------------------+----------------------+----------------------+',\n",
       " '                                                                               ',\n",
       " '+-----------------------------------------------------------------------------+',\n",
       " '| Processes:                                                       GPU Memory |',\n",
       " '|  GPU       PID   Type   Process name                             Usage      |',\n",
       " '|=============================================================================|',\n",
       " '+-----------------------------------------------------------------------------+',\n",
       " \"'\"]"
      ]
     },
     "execution_count": 2,
     "metadata": {},
     "output_type": "execute_result"
    }
   ],
   "source": [
    "import subprocess\n",
    "str(subprocess.check_output('nvidia-smi', shell = True)).split('\\\\n')"
   ]
  },
  {
   "cell_type": "code",
   "execution_count": 3,
   "metadata": {},
   "outputs": [],
   "source": [
    "import os\n",
    "os.environ[\"CUDA_VISIBLE_DEVICES\"] = \"1\""
   ]
  },
  {
   "cell_type": "code",
   "execution_count": 4,
   "metadata": {},
   "outputs": [],
   "source": [
    "import sys\n",
    "\n",
    "#sys.path.append('/DeepPurpose/DeepPurpose/')\n",
    "sys.path.append('/DeepPurpose')\n",
    "sys.path.append('/')"
   ]
  },
  {
   "cell_type": "code",
   "execution_count": 5,
   "metadata": {},
   "outputs": [],
   "source": [
    "import os\n",
    "os.chdir('/DeepPurpose')\n",
    "from DeepPurpose.utils import generate_config, data_process\n",
    "from DeepPurpose import models"
   ]
  },
  {
   "cell_type": "code",
   "execution_count": 6,
   "metadata": {},
   "outputs": [],
   "source": [
    "import plotly.graph_objects as go\n",
    "from plotly.subplots import make_subplots"
   ]
  },
  {
   "cell_type": "code",
   "execution_count": 7,
   "metadata": {},
   "outputs": [
    {
     "name": "stderr",
     "output_type": "stream",
     "text": [
      "/miniconda/envs/DeepPurpose/lib/python3.7/site-packages/tqdm/std.py:658: FutureWarning: The Panel class is removed from pandas. Accessing it from the top-level namespace will also be removed in the next version\n",
      "  from pandas import Panel\n"
     ]
    }
   ],
   "source": [
    "import pandas as pd\n",
    "import numpy as np\n",
    "import pickle as pkl\n",
    "import time\n",
    "import random\n",
    "import json\n",
    "\n",
    "from rdkit import Chem\n",
    "from rdkit.Chem import AllChem\n",
    "from rdkit.Chem import DataStructs\n",
    "from rdkit.Chem import Draw\n",
    "from rdkit.Chem import PandasTools\n",
    "from rdkit.Chem.Draw import IPythonConsole\n",
    "\n",
    "#from pandarallel import pandarallel\n",
    "from tqdm import tqdm\n",
    "from tqdm.notebook import tqdm\n",
    "from ast import literal_eval\n",
    "import matplotlib.pyplot as plt\n",
    "import seaborn as sns\n",
    "import pickle as pkl\n",
    "import lxml\n",
    "import importlib\n",
    "#import plotly.graph_objects as go\n",
    "#from plotly.subplots import make_subplots\n",
    "\n",
    "#from gensim.models import Word2Vec\n",
    "#from gensim.models import word2vec\n",
    "#from gensim.models.doc2vec import Doc2Vec, TaggedDocument\n",
    "#from gensim.models import FastText\n",
    "#from gensim.test.utils import datapath, get_tmpfile\n",
    "#from gensim.models import KeyedVectors\n",
    "#from gensim.scripts.glove2word2vec import glove2word2vec\n",
    "\n",
    "import umap.umap_ as umap\n",
    "from mpl_toolkits.mplot3d import Axes3D\n",
    "\n",
    "\n",
    "#from mol2vec import features\n",
    "#from mol2vec import helpers\n",
    "#from mol2vec.features import mol2alt_sentence, MolSentence, DfVec, sentences2vec\n",
    "#from mol2vec.helpers import depict_identifier, plot_2D_vectors, IdentifierTable, mol_to_svg\n",
    "\n",
    "#from Bio import SeqUtils\n",
    "\n",
    "#import tensorflow.keras\n",
    "#from tensorflow.keras.models import load_model\n",
    "#from tensorflow.keras.models import Sequential, Model\n",
    "#from tensorflow.keras.layers import Input, Dense, Activation, Dropout, Conv1D, Flatten, MaxPooling1D,\\\n",
    "#                        AveragePooling1D, Concatenate, LeakyReLU, Embedding,\\\n",
    "#                        GlobalMaxPooling1D,GlobalAveragePooling1D,GaussianNoise,BatchNormalization,Add\n",
    "#from tensorflow.keras.initializers import glorot_uniform\n",
    "\n",
    "from sklearn.utils.multiclass import unique_labels\n",
    "from sklearn.model_selection import train_test_split\n",
    "from sklearn.preprocessing import LabelEncoder, OneHotEncoder\n",
    "from sklearn.model_selection import train_test_split\n",
    "from sklearn.linear_model import LogisticRegression\n",
    "from sklearn.metrics import confusion_matrix, f1_score, classification_report\n",
    "from sklearn.metrics import roc_curve, roc_auc_score, precision_recall_curve, average_precision_score\n",
    "from sklearn.metrics import confusion_matrix, f1_score, classification_report\n",
    "\n",
    "\n",
    "from IPython.core.display import display, HTML\n",
    "#pandarallel.initialize(progress_bar = True)\n",
    "tqdm.pandas()"
   ]
  },
  {
   "cell_type": "markdown",
   "metadata": {},
   "source": [
    "### Helper Functions"
   ]
  },
  {
   "cell_type": "markdown",
   "metadata": {},
   "source": [
    "#### Data Helper Functions"
   ]
  },
  {
   "cell_type": "code",
   "execution_count": 8,
   "metadata": {},
   "outputs": [],
   "source": [
    "def dataframe_to_embed_array(interactions_df, drug_list, target_list, drug_embed_len = 300, debug = True):\n",
    "    \n",
    "    X_0_list = []\n",
    "    X_1_list = []\n",
    "    \n",
    "    skipped_drugs = 0\n",
    "    for idx, row in interactions_df.iterrows():\n",
    "\n",
    "        drug = row['InChiKey']\n",
    "        target = row['target_aa_code']\n",
    "\n",
    "        try:\n",
    "            drug_index = drug_list.index(drug)\n",
    "        except: \n",
    "            drug_index = -1\n",
    "\n",
    "        target_index = target_list.index(target)\n",
    "\n",
    "        X_0_list.append(normalized_target_embeddings[target_index])\n",
    "        if drug_index == -1:\n",
    "            X_1_list.append(np.random.randn(drug_embed_len,))\n",
    "            skipped_drugs = skipped_drugs + 1\n",
    "        else:\n",
    "            try:\n",
    "                X_1_list.append(normalized_drug_embeddings[drug_index])\n",
    "            except: \n",
    "                X_1_list.append(np.random.randn(drug_embed_len,))\n",
    "                skipped_drugs = skipped_drugs + 1\n",
    "                \n",
    "    X_0 = np.array(X_0_list)\n",
    "    X_1 = np.array(X_1_list)\n",
    "    Y   = np.array(list(interactions_df['Y']))\n",
    "    \n",
    "    if debug:\n",
    "        print (\"Number of drugs skipped : \", skipped_drugs)\n",
    "    \n",
    "    return X_0, X_1, Y"
   ]
  },
  {
   "cell_type": "code",
   "execution_count": 8,
   "metadata": {},
   "outputs": [],
   "source": [
    "# def get_interaction_splits(positive_interactions, targets, frac = 0.15):\n",
    "\n",
    "#     # Set Seed\n",
    "#     np.random.seed(2020)\n",
    "\n",
    "\n",
    "#     # Make Unseen Targets\n",
    "#     unseen_targets = np.random.choice(list(targets['Label']), size = int(frac * targets.shape[0]), replace = False)\n",
    "\n",
    "#     # Create dataframe with unseen targets \n",
    "#     unseen_target_test = positive_interactions[positive_interactions['target_aa_code'].isin(unseen_targets)]\n",
    "\n",
    "#     # Create dataframe with unseen edges\n",
    "#     seen_target_df = pd.concat([positive_interactions, unseen_target_test]).drop_duplicates(keep = False)\n",
    "#     unseen_edges_test = seen_target_df.sample(frac = 0.15, replace = False)\n",
    "\n",
    "#     # Create dataframe with train interactions\n",
    "#     train_interactions = pd.concat([seen_target_df, unseen_edges_test]).drop_duplicates(keep = False)\n",
    "#     seen_targets = set(train_interactions['target_aa_code'])\n",
    "    \n",
    "#     return unseen_targets, seen_targets, unseen_target_test, unseen_edges_test, train_interactions"
   ]
  },
  {
   "cell_type": "code",
   "execution_count": 9,
   "metadata": {},
   "outputs": [],
   "source": [
    "# def get_train_w_random_neg(train_interactions, drug_list, seen_targets, num_negatives):\n",
    "\n",
    "#     train_w_random_neg = []\n",
    "#     num_negatives = 8\n",
    "\n",
    "#     # Shuffle Train Interactions\n",
    "#     train_interactions = train_interactions.sample(frac = 1, replace = False)\n",
    "\n",
    "#     # For each positive interaction\n",
    "#     for idx, row in tqdm(train_interactions.iterrows()):\n",
    "\n",
    "#         # Drop extra drug or target?\n",
    "#         drop_negative_drug = np.random.randint(2)\n",
    "\n",
    "#         # Add existing positive to final train\n",
    "#         positive_example = [row['InChiKey'], row['target_aa_code'], int(row['Y'])]\n",
    "#         train_w_random_neg.append(positive_example)\n",
    "\n",
    "#         # Random Negative Drugs\n",
    "#         random_negative_drugs = random.sample(drug_list, num_negatives - drop_negative_drug) \n",
    "#         for i in random_negative_drugs:\n",
    "#             negative_example = [i, row['target_aa_code'], 0]\n",
    "#             train_w_random_neg.append(negative_example)\n",
    "\n",
    "\n",
    "#         # Random Negative Targets\n",
    "#         random_negative_targets = random.sample(seen_targets, num_negatives - (1 - drop_negative_drug))\n",
    "#         for j in random_negative_targets:\n",
    "#             negative_example = [row['InChiKey'], j, 0]\n",
    "#             train_w_random_neg.append(negative_example)\n",
    "\n",
    "#     train_w_random_neg = pd.DataFrame(train_w_random_neg)\n",
    "#     train_w_random_neg.columns = ['InChiKey', 'target_aa_code', 'Y']\n",
    "\n",
    "#     return train_w_random_neg"
   ]
  },
  {
   "cell_type": "markdown",
   "metadata": {
    "heading_collapsed": true
   },
   "source": [
    "#### Plot Helper Functions"
   ]
  },
  {
   "cell_type": "code",
   "execution_count": 9,
   "metadata": {
    "hidden": true
   },
   "outputs": [],
   "source": [
    "def plot_confusion_matrix(y_true, y_pred, classes,\n",
    "                          normalize=False,\n",
    "                          title=None,\n",
    "                          cmap=plt.cm.Blues):\n",
    "    \"\"\"\n",
    "    This function prints and plots the confusion matrix.\n",
    "    Normalization can be applied by setting `normalize=True`.\n",
    "    \n",
    "    NOTE: Taken from sklearn example\n",
    "    \"\"\"\n",
    "    if not title:\n",
    "        if normalize:\n",
    "            title = 'Normalized confusion matrix'\n",
    "        else:\n",
    "            title = 'Confusion matrix, without normalization'\n",
    "\n",
    "    # Compute confusion matrix\n",
    "    cm = confusion_matrix(y_true, y_pred)\n",
    "    # Only use the labels that appear in the data\n",
    "    classes = [0,1]\n",
    "    if normalize:\n",
    "        cm = cm.astype('float') / cm.sum(axis=1)[:, np.newaxis]\n",
    "        print(\"Normalized confusion matrix\")\n",
    "    else:\n",
    "        print('Confusion matrix, without normalization')\n",
    "\n",
    "    print(cm)\n",
    "\n",
    "    fig, ax = plt.subplots()\n",
    "    \n",
    "    #ax.figsize((10, 10))\n",
    "    im = ax.imshow(cm, interpolation='nearest', cmap=cmap)\n",
    "    ax.figure.colorbar(im, ax=ax)\n",
    "    # We want to show all ticks...\n",
    "    ax.set(xticks=np.arange(cm.shape[1]),\n",
    "           yticks=np.arange(cm.shape[0]),\n",
    "           # ... and label them with the respective list entries\n",
    "           xticklabels=classes, yticklabels=classes,\n",
    "           title=title,\n",
    "           ylabel='True label',\n",
    "           xlabel='Predicted label')\n",
    "\n",
    "    # Rotate the tick labels and set their alignment.\n",
    "    plt.setp(ax.get_xticklabels(), rotation=45, ha=\"right\",\n",
    "             rotation_mode=\"anchor\")\n",
    "\n",
    "    # Loop over data dimensions and create text annotations.\n",
    "    fmt = '.2f' if normalize else 'd'\n",
    "    thresh = cm.max() / 2.\n",
    "    for i in range(cm.shape[0]):\n",
    "        for j in range(cm.shape[1]):\n",
    "            ax.text(j, i, format(cm[i, j], fmt),\n",
    "                    ha=\"center\", va=\"center\",\n",
    "                    color=\"white\" if cm[i, j] > thresh else \"black\")\n",
    "    ax.plot()\n",
    "    fig.tight_layout()\n",
    "    fig.show()\n",
    "    #return ax"
   ]
  },
  {
   "cell_type": "code",
   "execution_count": 10,
   "metadata": {
    "hidden": true
   },
   "outputs": [
    {
     "ename": "NameError",
     "evalue": "name 'tensorflow' is not defined",
     "output_type": "error",
     "traceback": [
      "\u001b[0;31m---------------------------------------------------------------------------\u001b[0m",
      "\u001b[0;31mNameError\u001b[0m                                 Traceback (most recent call last)",
      "\u001b[0;32m<ipython-input-10-b8365ae21488>\u001b[0m in \u001b[0;36m<module>\u001b[0;34m\u001b[0m\n\u001b[1;32m      1\u001b[0m \u001b[0;32mfrom\u001b[0m \u001b[0mIPython\u001b[0m\u001b[0;34m.\u001b[0m\u001b[0mdisplay\u001b[0m \u001b[0;32mimport\u001b[0m \u001b[0mclear_output\u001b[0m\u001b[0;34m\u001b[0m\u001b[0;34m\u001b[0m\u001b[0m\n\u001b[0;32m----> 2\u001b[0;31m \u001b[0;32mclass\u001b[0m \u001b[0mPlotLosses\u001b[0m\u001b[0;34m(\u001b[0m\u001b[0mtensorflow\u001b[0m\u001b[0;34m.\u001b[0m\u001b[0mkeras\u001b[0m\u001b[0;34m.\u001b[0m\u001b[0mcallbacks\u001b[0m\u001b[0;34m.\u001b[0m\u001b[0mCallback\u001b[0m\u001b[0;34m)\u001b[0m\u001b[0;34m:\u001b[0m\u001b[0;34m\u001b[0m\u001b[0;34m\u001b[0m\u001b[0m\n\u001b[0m\u001b[1;32m      3\u001b[0m     \u001b[0;32mdef\u001b[0m \u001b[0mon_train_begin\u001b[0m\u001b[0;34m(\u001b[0m\u001b[0mself\u001b[0m\u001b[0;34m,\u001b[0m \u001b[0mlogs\u001b[0m\u001b[0;34m=\u001b[0m\u001b[0;34m{\u001b[0m\u001b[0;34m}\u001b[0m\u001b[0;34m)\u001b[0m\u001b[0;34m:\u001b[0m\u001b[0;34m\u001b[0m\u001b[0;34m\u001b[0m\u001b[0m\n\u001b[1;32m      4\u001b[0m         \u001b[0mself\u001b[0m\u001b[0;34m.\u001b[0m\u001b[0mi\u001b[0m \u001b[0;34m=\u001b[0m \u001b[0;36m0\u001b[0m\u001b[0;34m\u001b[0m\u001b[0;34m\u001b[0m\u001b[0m\n\u001b[1;32m      5\u001b[0m         \u001b[0mself\u001b[0m\u001b[0;34m.\u001b[0m\u001b[0mx\u001b[0m \u001b[0;34m=\u001b[0m \u001b[0;34m[\u001b[0m\u001b[0;34m]\u001b[0m\u001b[0;34m\u001b[0m\u001b[0;34m\u001b[0m\u001b[0m\n",
      "\u001b[0;31mNameError\u001b[0m: name 'tensorflow' is not defined"
     ]
    }
   ],
   "source": [
    "from IPython.display import clear_output\n",
    "class PlotLosses(tensorflow.keras.callbacks.Callback):\n",
    "    def on_train_begin(self, logs={}):\n",
    "        self.i = 0\n",
    "        self.x = []\n",
    "        self.losses = []\n",
    "        self.val_losses = []\n",
    "        \n",
    "        self.fig = plt.figure()\n",
    "        \n",
    "        self.logs = []\n",
    "\n",
    "    def on_epoch_end(self, epoch, logs={}):\n",
    "        \n",
    "        self.logs.append(logs)\n",
    "        self.x.append(self.i)\n",
    "        self.losses.append(logs.get('loss'))\n",
    "        self.val_losses.append(logs.get('val_loss'))\n",
    "        self.i += 1\n",
    "        \n",
    "        plt.clf()\n",
    "        clear_output(wait=True)\n",
    "        plt.plot(self.x, self.losses, label=\"loss\")\n",
    "        plt.plot(self.x, self.val_losses, label=\"val_loss\")\n",
    "        plt.legend()\n",
    "        plt.show()\n",
    "        \n",
    "        plt.plot(range(len(global_history)), global_history, label = 'Accuracy - Global')\n",
    "        plt.plot(range(len(global_val_history)), global_val_history, label = 'Accuracy - Global - Va;')\n",
    "        \n",
    "        plt.legend()\n",
    "        plt.show()\n",
    "        \n",
    "        plt.hist(Y_val_predictions, label = 'Prediction Distribution')\n",
    "        plt.legend()\n",
    "        plt.show()    \n",
    "        \n",
    "        plt.hist(Y_val_actual, label = 'Actual Distribution')\n",
    "        plt.legend()\n",
    "        plt.show()\n",
    "        \n",
    "        plt.plot(global_f1_scores)\n",
    "        plt.ylabel('F1 Score')\n",
    "        plt.ylabel('epochs * train data')\n",
    "        plt.show()\n",
    "        \n",
    "        Y_val_predictions_binary = [1 if (i > 0.5) else 0 for i in Y_val_predictions ]\n",
    "        cm = confusion_matrix(np.array(Y_val_actual).ravel(), Y_val_predictions_binary)    \n",
    "        classes = [0,1]\n",
    "        cm = cm.astype('float') / cm.sum(axis=1)[:, np.newaxis]\n",
    "        \n",
    "        print(cm)\n",
    "        #if (len(predictions) > 2) & (len(Y_val_actual) > 2):\n",
    "        #    plot_confusion_matrix(np.array(Y_val_actual).ravel(), Y_val_predictions, classes=[0, 1], normalize=True,\n",
    "        #              title='Normalized confusion matrix')\n",
    "        #else:\n",
    "        #    pass\n",
    "        \n",
    "plot_losses = PlotLosses()"
   ]
  },
  {
   "cell_type": "markdown",
   "metadata": {},
   "source": [
    "### Data"
   ]
  },
  {
   "cell_type": "markdown",
   "metadata": {},
   "source": [
    "#### VAE Embeddings"
   ]
  },
  {
   "cell_type": "code",
   "execution_count": 16,
   "metadata": {},
   "outputs": [
    {
     "name": "stderr",
     "output_type": "stream",
     "text": [
      "/miniconda/envs/DeepPurpose/lib/python3.7/site-packages/IPython/core/interactiveshell.py:3063: DtypeWarning: Columns (1,3,4) have mixed types.Specify dtype option on import or set low_memory=False.\n",
      "  interactivity=interactivity, compiler=compiler, result=result)\n"
     ]
    }
   ],
   "source": [
    "drugs = pd.read_csv('/data/sars-busters/chemicals/chemicals_11.csv')\n",
    "    \n",
    "with open('/data/sars-busters/Mol2Vec/amino_01_w_embed.pkl','rb') as file: \n",
    "    targets = pkl.load(file)\n",
    "    \n",
    "drug_list = list(drugs['Label'])\n",
    "target_list = list(targets['Label'])"
   ]
  },
  {
   "cell_type": "code",
   "execution_count": 12,
   "metadata": {},
   "outputs": [],
   "source": [
    "# drugs['normalized_embeddings'] = ''\n",
    "# for idx, rows in tqdm(drugs.iterrows()):\n",
    "    \n",
    "#     drugs['normalized_embeddings'][idx] = list(np.array(drugs.iloc[idx, 5:-1].values).astype(float))"
   ]
  },
  {
   "cell_type": "code",
   "execution_count": null,
   "metadata": {},
   "outputs": [],
   "source": []
  },
  {
   "cell_type": "code",
   "execution_count": null,
   "metadata": {},
   "outputs": [],
   "source": []
  },
  {
   "cell_type": "markdown",
   "metadata": {},
   "source": [
    "#### Read in Different Sets"
   ]
  },
  {
   "cell_type": "code",
   "execution_count": 10,
   "metadata": {},
   "outputs": [
    {
     "data": {
      "application/vnd.jupyter.widget-view+json": {
       "model_id": "73667227f57f4c91851ce5fd0f068231",
       "version_major": 2,
       "version_minor": 0
      },
      "text/plain": [
       "HBox(children=(FloatProgress(value=0.0, max=5.0), HTML(value='')))"
      ]
     },
     "metadata": {},
     "output_type": "display_data"
    },
    {
     "name": "stdout",
     "output_type": "stream",
     "text": [
      "\n"
     ]
    }
   ],
   "source": [
    "targets_test = []\n",
    "targets_validation = []\n",
    "edges_test = []\n",
    "edges_validation = []\n",
    "train_sets = []\n",
    "\n",
    "for run_number in tqdm(range(5)):\n",
    "    \n",
    "    targets_test.append(pd.read_csv('/data/sars-busters-consolidated/GitData/VecNet_Unseen_Targets/test_unseen_nodes_' + str(run_number) + '.csv'))\n",
    "    edges_test.append(pd.read_csv('/data/sars-busters-consolidated/GitData/VecNet_Unseen_Targets/test_unseen_edges_' + str(run_number) + '.csv'))    \n",
    "    targets_validation.append(pd.read_csv('/data/sars-busters-consolidated/GitData/VecNet_Unseen_Targets/validation_unseen_nodes_' + str(run_number) + '.csv'))    \n",
    "    edges_validation.append(pd.read_csv('/data/sars-busters-consolidated/GitData/VecNet_Unseen_Targets/validation_unseen_edges_' + str(run_number) + '.csv'))    \n",
    "    train_sets.append(pd.read_csv('/data/sars-busters-consolidated/GitData/VecNet_Unseen_Targets/train_' + str(run_number) + '.csv'))    "
   ]
  },
  {
   "cell_type": "code",
   "execution_count": null,
   "metadata": {},
   "outputs": [],
   "source": []
  },
  {
   "cell_type": "code",
   "execution_count": null,
   "metadata": {},
   "outputs": [],
   "source": []
  },
  {
   "cell_type": "markdown",
   "metadata": {},
   "source": [
    "#### Sanity Checks"
   ]
  },
  {
   "cell_type": "code",
   "execution_count": null,
   "metadata": {},
   "outputs": [],
   "source": []
  },
  {
   "cell_type": "code",
   "execution_count": 17,
   "metadata": {},
   "outputs": [
    {
     "name": "stdout",
     "output_type": "stream",
     "text": [
      "Set :  0\n",
      "Train - Test - Validation Overlap For Unseen Targets :  0\n",
      "Train - Test - Validation Overlap For Unseen Drugs :  4046\n",
      "Train - Test - Validation Overlap For Unseen Edges :  0\n",
      "Train Set :  (38125, 4)\n",
      "Target Test :  (6491, 11)\n",
      "Target Val :  (6492, 4)\n",
      "Edge Test :  (3693, 4)\n",
      "Edge Val :  (3693, 4)\n",
      "Pos / Neg :  0.5453366300514774\n",
      "\n",
      "Set :  1\n",
      "Train - Test - Validation Overlap For Unseen Targets :  0\n",
      "Train - Test - Validation Overlap For Unseen Drugs :  4240\n",
      "Train - Test - Validation Overlap For Unseen Edges :  0\n",
      "Train Set :  (37340, 4)\n",
      "Target Test :  (6935, 11)\n",
      "Target Val :  (6790, 4)\n",
      "Edge Test :  (3603, 4)\n",
      "Edge Val :  (3603, 4)\n",
      "Pos / Neg :  0.5286363450280427\n",
      "\n",
      "Set :  2\n",
      "Train - Test - Validation Overlap For Unseen Targets :  0\n",
      "Train - Test - Validation Overlap For Unseen Drugs :  3361\n",
      "Train - Test - Validation Overlap For Unseen Edges :  0\n",
      "Train Set :  (37119, 4)\n",
      "Target Test :  (6329, 11)\n",
      "Target Val :  (6184, 4)\n",
      "Edge Test :  (3785, 4)\n",
      "Edge Val :  (3785, 4)\n",
      "Pos / Neg :  0.51797325481536\n",
      "\n",
      "Set :  3\n",
      "Train - Test - Validation Overlap For Unseen Targets :  0\n",
      "Train - Test - Validation Overlap For Unseen Drugs :  4482\n",
      "Train - Test - Validation Overlap For Unseen Edges :  0\n",
      "Train Set :  (37073, 4)\n",
      "Target Test :  (6579, 11)\n",
      "Target Val :  (6435, 4)\n",
      "Edge Test :  (3710, 4)\n",
      "Edge Val :  (3710, 4)\n",
      "Pos / Neg :  0.5234435997534416\n",
      "\n",
      "Set :  4\n",
      "Train - Test - Validation Overlap For Unseen Targets :  0\n",
      "Train - Test - Validation Overlap For Unseen Drugs :  3303\n",
      "Train - Test - Validation Overlap For Unseen Edges :  0\n",
      "Train Set :  (36523, 4)\n",
      "Target Test :  (6626, 11)\n",
      "Target Val :  (6482, 4)\n",
      "Edge Test :  (3696, 4)\n",
      "Edge Val :  (3696, 4)\n",
      "Pos / Neg :  0.5085291809508075\n",
      "\n"
     ]
    }
   ],
   "source": [
    "for i in range(len(targets_test)):\n",
    "    \n",
    "    print (\"Set : \", i)\n",
    "    \n",
    "    # No Overlap Between Unseen Targets and Train\n",
    "    unseen_targets = list(set(targets_test[i]['target_aa_code'])) + list(set(targets_validation[i]['target_aa_code']))\n",
    "    print (\"Train - Test - Validation Overlap For Unseen Targets : \", len(list(set(train_sets[i]['target_aa_code']).intersection(unseen_targets))))\n",
    "    \n",
    "    # No overlap Between Drugs\n",
    "    unseen_drugs = list(set(targets_test[i]['InChiKey'])) + list(set(targets_validation[i]['InChiKey']))\n",
    "    print (\"Train - Test - Validation Overlap For Unseen Drugs : \", len(list(set(train_sets[i]['InChiKey']).intersection(unseen_drugs))))\n",
    "\n",
    "\n",
    "    # No Overlap Between Unseen Edges and Train\n",
    "    train_edges = list(zip(list(train_sets[i]['InChiKey']), list(train_sets[i]['target_aa_code'])))\n",
    "    temp_df = pd.concat([edges_test[i], edges_validation[i]])\n",
    "    test_edges = list(zip(list(temp_df['InChiKey']), list(temp_df['target_aa_code'])))\n",
    "    train_edges = set(train_edges)\n",
    "    test_edges = set(test_edges)\n",
    "    print (\"Train - Test - Validation Overlap For Unseen Edges : \", len(list(train_edges.intersection(test_edges))))\n",
    "    \n",
    "    print (\"Train Set : \", train_sets[i].shape)\n",
    "    print (\"Target Test : \", targets_test[i].shape)\n",
    "    print (\"Target Val : \", targets_validation[i].shape)\n",
    "    print (\"Edge Test : \", edges_test[i].shape)\n",
    "    print (\"Edge Val : \", edges_validation[i].shape)\n",
    "    \n",
    "    print (\"Pos / Neg : \", 1 / np.divide(*train_sets[i]['Y'].value_counts().values))\n",
    "    \n",
    "    print (\"\")"
   ]
  },
  {
   "cell_type": "markdown",
   "metadata": {},
   "source": [
    "### Model Definitions"
   ]
  },
  {
   "cell_type": "code",
   "execution_count": 18,
   "metadata": {},
   "outputs": [],
   "source": [
    "drug_encoding = 'Morgan'\n",
    "target_encoding = 'CNN'\n",
    "\n",
    "config = generate_config(drug_encoding = drug_encoding, \n",
    "                                 target_encoding = target_encoding, \n",
    "                                 cls_hidden_dims = [1024, 1024, 512], \n",
    "                                 train_epoch = 30, \n",
    "                                 test_every_X_epoch = 5, \n",
    "                                 LR = 0.00001, \n",
    "                                 batch_size = 32,\n",
    "                                 hidden_dim_drug = 256,\n",
    "                                 hidden_dim_protein = 256,\n",
    "                                 #mpnn_hidden_size = 128,\n",
    "                                 #mpnn_depth = 3, \n",
    "                                 cnn_target_filters = [32,64,96],\n",
    "                                 cnn_target_kernels = [4,8,12]\n",
    "                                )\n",
    "\n",
    "\n",
    "model = models.model_initialize(**config)"
   ]
  },
  {
   "cell_type": "markdown",
   "metadata": {},
   "source": [
    "### Train "
   ]
  },
  {
   "cell_type": "code",
   "execution_count": 19,
   "metadata": {},
   "outputs": [],
   "source": [
    "batch_size = 16\n",
    "epochs = 30\n",
    "class_weight = {0: 0.5,\n",
    "                1: 1}\n",
    "\n",
    "results = {}\n",
    "\n",
    "#normalized_target_embeddings = np.array(list(targets['normalized_embeddings']))\n",
    "#normalized_drug_embeddings = np.array(list(drugs['normalized_embeddings']))"
   ]
  },
  {
   "cell_type": "code",
   "execution_count": 20,
   "metadata": {},
   "outputs": [],
   "source": [
    "# with open('../data/sars-busters-consolidated/deep_purpose/KF/results.json', 'r') as file: \n",
    "#     results = file.read()"
   ]
  },
  {
   "cell_type": "code",
   "execution_count": 21,
   "metadata": {},
   "outputs": [],
   "source": [
    "# try: \n",
    "#     results = json.loads(results)\n",
    "# except json.JSONDecodeError:\n",
    "#     results = []"
   ]
  },
  {
   "cell_type": "code",
   "execution_count": null,
   "metadata": {},
   "outputs": [],
   "source": []
  },
  {
   "cell_type": "markdown",
   "metadata": {},
   "source": [
    "#### Test Dataframes"
   ]
  },
  {
   "cell_type": "code",
   "execution_count": 21,
   "metadata": {},
   "outputs": [],
   "source": [
    "# X_0_test_ut, X_1_test_ut, Y_test_actual_ut = dataframe_to_embed_array(interactions_df = unseen_target_test,\n",
    "#                                                                       drug_list = drug_list,\n",
    "#                                                                       target_list = target_list,\n",
    "#                                                                       drug_embed_len = 200)\n",
    "\n",
    "# X_0_test_ue, X_1_test_ue, Y_test_actual_ue = dataframe_to_embed_array(interactions_df = unseen_edges_test,\n",
    "#                                                                       drug_list = drug_list,\n",
    "#                                                                       target_list = target_list,\n",
    "#                                                                       drug_embed_len = 200)\n"
   ]
  },
  {
   "cell_type": "code",
   "execution_count": 22,
   "metadata": {},
   "outputs": [],
   "source": [
    "# interactions.head()"
   ]
  },
  {
   "cell_type": "code",
   "execution_count": 21,
   "metadata": {},
   "outputs": [
    {
     "data": {
      "text/html": [
       "<div>\n",
       "<style scoped>\n",
       "    .dataframe tbody tr th:only-of-type {\n",
       "        vertical-align: middle;\n",
       "    }\n",
       "\n",
       "    .dataframe tbody tr th {\n",
       "        vertical-align: top;\n",
       "    }\n",
       "\n",
       "    .dataframe thead th {\n",
       "        text-align: right;\n",
       "    }\n",
       "</style>\n",
       "<table border=\"1\" class=\"dataframe\">\n",
       "  <thead>\n",
       "    <tr style=\"text-align: right;\">\n",
       "      <th></th>\n",
       "      <th>Unnamed: 0</th>\n",
       "      <th>Label</th>\n",
       "      <th>SMILE</th>\n",
       "      <th>Name</th>\n",
       "      <th>Category</th>\n",
       "      <th>vae_embedding_0</th>\n",
       "      <th>vae_embedding_1</th>\n",
       "      <th>vae_embedding_2</th>\n",
       "      <th>vae_embedding_3</th>\n",
       "      <th>vae_embedding_4</th>\n",
       "      <th>...</th>\n",
       "      <th>vae_embedding_190</th>\n",
       "      <th>vae_embedding_191</th>\n",
       "      <th>vae_embedding_192</th>\n",
       "      <th>vae_embedding_193</th>\n",
       "      <th>vae_embedding_194</th>\n",
       "      <th>vae_embedding_195</th>\n",
       "      <th>vae_embedding_196</th>\n",
       "      <th>vae_embedding_197</th>\n",
       "      <th>vae_embedding_198</th>\n",
       "      <th>vae_embedding_199</th>\n",
       "    </tr>\n",
       "  </thead>\n",
       "  <tbody>\n",
       "    <tr>\n",
       "      <th>0</th>\n",
       "      <td>0</td>\n",
       "      <td>XLYOFNOQVPJJNP-UHFFFAOYSA-N</td>\n",
       "      <td>O</td>\n",
       "      <td>NaN</td>\n",
       "      <td>inorganic hydride</td>\n",
       "      <td>0.000000</td>\n",
       "      <td>0.000000</td>\n",
       "      <td>0.0</td>\n",
       "      <td>0.000000</td>\n",
       "      <td>0.0</td>\n",
       "      <td>...</td>\n",
       "      <td>1.902730</td>\n",
       "      <td>0.000000</td>\n",
       "      <td>0.000000</td>\n",
       "      <td>0.000000</td>\n",
       "      <td>1.234893</td>\n",
       "      <td>0.760648</td>\n",
       "      <td>0.000000</td>\n",
       "      <td>0.000000</td>\n",
       "      <td>0.570381</td>\n",
       "      <td>0.367797</td>\n",
       "    </tr>\n",
       "    <tr>\n",
       "      <th>1</th>\n",
       "      <td>1</td>\n",
       "      <td>CURLTUGMZLYLDI-UHFFFAOYSA-N</td>\n",
       "      <td>O=C=O</td>\n",
       "      <td>NaN</td>\n",
       "      <td>one-carbon compound</td>\n",
       "      <td>2.305589</td>\n",
       "      <td>0.000000</td>\n",
       "      <td>0.0</td>\n",
       "      <td>0.000000</td>\n",
       "      <td>0.0</td>\n",
       "      <td>...</td>\n",
       "      <td>1.950824</td>\n",
       "      <td>0.170159</td>\n",
       "      <td>0.279008</td>\n",
       "      <td>0.000000</td>\n",
       "      <td>2.083165</td>\n",
       "      <td>1.372599</td>\n",
       "      <td>0.171778</td>\n",
       "      <td>2.246742</td>\n",
       "      <td>0.000000</td>\n",
       "      <td>0.000000</td>\n",
       "    </tr>\n",
       "    <tr>\n",
       "      <th>2</th>\n",
       "      <td>2</td>\n",
       "      <td>QGZKDVFQNNGYKY-UHFFFAOYSA-O</td>\n",
       "      <td>[NH4+]</td>\n",
       "      <td>NaN</td>\n",
       "      <td>inorganic hydride</td>\n",
       "      <td>0.000000</td>\n",
       "      <td>0.688682</td>\n",
       "      <td>0.0</td>\n",
       "      <td>0.000000</td>\n",
       "      <td>0.0</td>\n",
       "      <td>...</td>\n",
       "      <td>0.378623</td>\n",
       "      <td>0.000000</td>\n",
       "      <td>0.000000</td>\n",
       "      <td>0.069739</td>\n",
       "      <td>0.000000</td>\n",
       "      <td>0.201255</td>\n",
       "      <td>0.000000</td>\n",
       "      <td>0.000000</td>\n",
       "      <td>0.235413</td>\n",
       "      <td>0.108368</td>\n",
       "    </tr>\n",
       "    <tr>\n",
       "      <th>3</th>\n",
       "      <td>3</td>\n",
       "      <td>ZJUKTBDSGOFHSH-WFMPWKQPSA-N</td>\n",
       "      <td>Nc1ncnc2c1ncn2[C@@H]1O[C@H](CSCC[C@H]([NH3+])C...</td>\n",
       "      <td>NaN</td>\n",
       "      <td>sulfide</td>\n",
       "      <td>3.029715</td>\n",
       "      <td>0.000000</td>\n",
       "      <td>0.0</td>\n",
       "      <td>0.000000</td>\n",
       "      <td>0.0</td>\n",
       "      <td>...</td>\n",
       "      <td>0.997610</td>\n",
       "      <td>0.674817</td>\n",
       "      <td>2.422969</td>\n",
       "      <td>1.004612</td>\n",
       "      <td>2.265008</td>\n",
       "      <td>1.882903</td>\n",
       "      <td>0.900782</td>\n",
       "      <td>3.347353</td>\n",
       "      <td>0.000000</td>\n",
       "      <td>0.006052</td>\n",
       "    </tr>\n",
       "    <tr>\n",
       "      <th>4</th>\n",
       "      <td>4</td>\n",
       "      <td>ZSLZBFCDCINBPY-ZSJPKINUSA-J</td>\n",
       "      <td>CC(=O)SCCNC(=O)CCNC(=O)[C@H](O)C(C)(C)COP(=O)(...</td>\n",
       "      <td>NaN</td>\n",
       "      <td>acyl-CoA(4-)</td>\n",
       "      <td>2.648264</td>\n",
       "      <td>0.000000</td>\n",
       "      <td>0.0</td>\n",
       "      <td>0.276215</td>\n",
       "      <td>0.0</td>\n",
       "      <td>...</td>\n",
       "      <td>1.176523</td>\n",
       "      <td>0.403689</td>\n",
       "      <td>1.968453</td>\n",
       "      <td>0.696532</td>\n",
       "      <td>2.534080</td>\n",
       "      <td>1.849166</td>\n",
       "      <td>0.815979</td>\n",
       "      <td>2.481820</td>\n",
       "      <td>0.000000</td>\n",
       "      <td>0.000000</td>\n",
       "    </tr>\n",
       "  </tbody>\n",
       "</table>\n",
       "<p>5 rows × 205 columns</p>\n",
       "</div>"
      ],
      "text/plain": [
       "   Unnamed: 0                        Label  \\\n",
       "0           0  XLYOFNOQVPJJNP-UHFFFAOYSA-N   \n",
       "1           1  CURLTUGMZLYLDI-UHFFFAOYSA-N   \n",
       "2           2  QGZKDVFQNNGYKY-UHFFFAOYSA-O   \n",
       "3           3  ZJUKTBDSGOFHSH-WFMPWKQPSA-N   \n",
       "4           4  ZSLZBFCDCINBPY-ZSJPKINUSA-J   \n",
       "\n",
       "                                               SMILE Name  \\\n",
       "0                                                  O  NaN   \n",
       "1                                              O=C=O  NaN   \n",
       "2                                             [NH4+]  NaN   \n",
       "3  Nc1ncnc2c1ncn2[C@@H]1O[C@H](CSCC[C@H]([NH3+])C...  NaN   \n",
       "4  CC(=O)SCCNC(=O)CCNC(=O)[C@H](O)C(C)(C)COP(=O)(...  NaN   \n",
       "\n",
       "              Category  vae_embedding_0  vae_embedding_1  vae_embedding_2  \\\n",
       "0    inorganic hydride         0.000000         0.000000              0.0   \n",
       "1  one-carbon compound         2.305589         0.000000              0.0   \n",
       "2    inorganic hydride         0.000000         0.688682              0.0   \n",
       "3              sulfide         3.029715         0.000000              0.0   \n",
       "4         acyl-CoA(4-)         2.648264         0.000000              0.0   \n",
       "\n",
       "   vae_embedding_3  vae_embedding_4  ...  vae_embedding_190  \\\n",
       "0         0.000000              0.0  ...           1.902730   \n",
       "1         0.000000              0.0  ...           1.950824   \n",
       "2         0.000000              0.0  ...           0.378623   \n",
       "3         0.000000              0.0  ...           0.997610   \n",
       "4         0.276215              0.0  ...           1.176523   \n",
       "\n",
       "   vae_embedding_191  vae_embedding_192  vae_embedding_193  vae_embedding_194  \\\n",
       "0           0.000000           0.000000           0.000000           1.234893   \n",
       "1           0.170159           0.279008           0.000000           2.083165   \n",
       "2           0.000000           0.000000           0.069739           0.000000   \n",
       "3           0.674817           2.422969           1.004612           2.265008   \n",
       "4           0.403689           1.968453           0.696532           2.534080   \n",
       "\n",
       "   vae_embedding_195  vae_embedding_196  vae_embedding_197  vae_embedding_198  \\\n",
       "0           0.760648           0.000000           0.000000           0.570381   \n",
       "1           1.372599           0.171778           2.246742           0.000000   \n",
       "2           0.201255           0.000000           0.000000           0.235413   \n",
       "3           1.882903           0.900782           3.347353           0.000000   \n",
       "4           1.849166           0.815979           2.481820           0.000000   \n",
       "\n",
       "   vae_embedding_199  \n",
       "0           0.367797  \n",
       "1           0.000000  \n",
       "2           0.108368  \n",
       "3           0.006052  \n",
       "4           0.000000  \n",
       "\n",
       "[5 rows x 205 columns]"
      ]
     },
     "execution_count": 21,
     "metadata": {},
     "output_type": "execute_result"
    }
   ],
   "source": [
    "drugs.head()"
   ]
  },
  {
   "cell_type": "code",
   "execution_count": 22,
   "metadata": {},
   "outputs": [],
   "source": [
    "add_smile = lambda x: pd.merge(x.fillna(''), drugs[['Label', 'SMILE']],\n",
    "                               left_on = 'InChiKey', right_on = 'Label', how = 'left')"
   ]
  },
  {
   "cell_type": "markdown",
   "metadata": {},
   "source": [
    "#### Training Loop"
   ]
  },
  {
   "cell_type": "code",
   "execution_count": 23,
   "metadata": {},
   "outputs": [],
   "source": [
    "results = {}"
   ]
  },
  {
   "cell_type": "code",
   "execution_count": 24,
   "metadata": {
    "scrolled": true
   },
   "outputs": [
    {
     "name": "stdout",
     "output_type": "stream",
     "text": [
      "Version : 0\n"
     ]
    },
    {
     "data": {
      "application/vnd.jupyter.widget-view+json": {
       "model_id": "a9f1d4401768418aa3bb343675178fb6",
       "version_major": 2,
       "version_minor": 0
      },
      "text/plain": [
       "HBox(children=(FloatProgress(value=0.0, max=5.0), HTML(value='')))"
      ]
     },
     "metadata": {},
     "output_type": "display_data"
    },
    {
     "name": "stdout",
     "output_type": "stream",
     "text": [
      "in total: 38125 drug-target pairs\n",
      "encoding drug...\n",
      "unique drugs: 7251\n",
      "rdkit not found this smiles for morgan: nan convert to all 1 features\n"
     ]
    },
    {
     "name": "stderr",
     "output_type": "stream",
     "text": [
      "RDKit WARNING: [09:02:33] Conflicting single bond directions around double bond at index 1.\n",
      "RDKit WARNING: [09:02:33]   BondStereo set to STEREONONE and single bond directions set to NONE.\n"
     ]
    },
    {
     "name": "stdout",
     "output_type": "stream",
     "text": [
      "drug encoding finished...\n",
      "encoding protein...\n",
      "unique target sequence: 3594\n",
      "protein encoding finished...\n",
      "splitting dataset...\n",
      "Done.\n",
      "in total: 6492 drug-target pairs\n",
      "encoding drug...\n",
      "unique drugs: 3244\n",
      "rdkit not found this smiles for morgan: nan convert to all 1 features\n",
      "drug encoding finished...\n",
      "encoding protein...\n",
      "unique target sequence: 896\n",
      "protein encoding finished...\n",
      "splitting dataset...\n",
      "Done.\n",
      "in total: 3693 drug-target pairs\n",
      "encoding drug...\n",
      "unique drugs: 2172\n",
      "rdkit not found this smiles for morgan: nan convert to all 1 features\n"
     ]
    },
    {
     "name": "stderr",
     "output_type": "stream",
     "text": [
      "RDKit WARNING: [09:02:41] Conflicting single bond directions around double bond at index 1.\n",
      "RDKit WARNING: [09:02:41]   BondStereo set to STEREONONE and single bond directions set to NONE.\n"
     ]
    },
    {
     "name": "stdout",
     "output_type": "stream",
     "text": [
      "drug encoding finished...\n",
      "encoding protein...\n",
      "unique target sequence: 1622\n",
      "protein encoding finished...\n",
      "splitting dataset...\n",
      "Done.\n",
      "Let's use 1 GPU!\n",
      "--- Data Preparation ---\n",
      "--- Go for Training ---\n",
      "Training at Epoch 1 iteration 0 with loss 0.69415. Total time 0.0 hours\n",
      "Training at Epoch 1 iteration 100 with loss 0.68121. Total time 0.00333 hours\n",
      "Training at Epoch 1 iteration 200 with loss 0.69341. Total time 0.00666 hours\n",
      "Training at Epoch 1 iteration 300 with loss 0.61041. Total time 0.01 hours\n",
      "Training at Epoch 1 iteration 400 with loss 0.71806. Total time 0.01361 hours\n",
      "Training at Epoch 1 iteration 500 with loss 0.64473. Total time 0.01694 hours\n",
      "Training at Epoch 1 iteration 600 with loss 0.64661. Total time 0.02027 hours\n",
      "Training at Epoch 1 iteration 700 with loss 0.58349. Total time 0.02361 hours\n",
      "Training at Epoch 1 iteration 800 with loss 0.70370. Total time 0.02694 hours\n",
      "Training at Epoch 1 iteration 900 with loss 0.6473. Total time 0.03027 hours\n",
      "Training at Epoch 1 iteration 1000 with loss 0.64939. Total time 0.03361 hours\n",
      "Training at Epoch 1 iteration 1100 with loss 0.59605. Total time 0.03694 hours\n",
      "Validation at Epoch 1 , AUROC: 0.51665 , AUPRC: 0.47995 , F1: 0.0\n",
      "Training at Epoch 2 iteration 0 with loss 0.67670. Total time 0.04416 hours\n",
      "Training at Epoch 2 iteration 100 with loss 0.60878. Total time 0.0475 hours\n",
      "Training at Epoch 2 iteration 200 with loss 0.53641. Total time 0.05083 hours\n",
      "Training at Epoch 2 iteration 300 with loss 0.57424. Total time 0.05416 hours\n",
      "Training at Epoch 2 iteration 400 with loss 0.65227. Total time 0.0575 hours\n",
      "Training at Epoch 2 iteration 500 with loss 0.56940. Total time 0.06083 hours\n",
      "Training at Epoch 2 iteration 600 with loss 0.54804. Total time 0.06416 hours\n",
      "Training at Epoch 2 iteration 700 with loss 0.63998. Total time 0.0675 hours\n",
      "Training at Epoch 2 iteration 800 with loss 0.55339. Total time 0.07083 hours\n",
      "Training at Epoch 2 iteration 900 with loss 0.49185. Total time 0.07416 hours\n",
      "Training at Epoch 2 iteration 1000 with loss 0.53725. Total time 0.0775 hours\n",
      "Training at Epoch 2 iteration 1100 with loss 0.53717. Total time 0.08083 hours\n",
      "Validation at Epoch 2 , AUROC: 0.52112 , AUPRC: 0.48361 , F1: 0.25627\n",
      "Training at Epoch 3 iteration 0 with loss 0.56277. Total time 0.08805 hours\n",
      "Training at Epoch 3 iteration 100 with loss 0.36439. Total time 0.09138 hours\n",
      "Training at Epoch 3 iteration 200 with loss 0.53354. Total time 0.09472 hours\n",
      "Training at Epoch 3 iteration 300 with loss 0.53396. Total time 0.09805 hours\n",
      "Training at Epoch 3 iteration 400 with loss 0.54539. Total time 0.10138 hours\n",
      "Training at Epoch 3 iteration 500 with loss 0.40662. Total time 0.105 hours\n",
      "Training at Epoch 3 iteration 600 with loss 0.49135. Total time 0.10833 hours\n",
      "Training at Epoch 3 iteration 700 with loss 0.46755. Total time 0.11166 hours\n",
      "Training at Epoch 3 iteration 800 with loss 0.39722. Total time 0.115 hours\n",
      "Training at Epoch 3 iteration 900 with loss 0.48265. Total time 0.11833 hours\n",
      "Training at Epoch 3 iteration 1000 with loss 0.63316. Total time 0.12166 hours\n",
      "Training at Epoch 3 iteration 1100 with loss 0.49704. Total time 0.125 hours\n",
      "Validation at Epoch 3 , AUROC: 0.59519 , AUPRC: 0.53607 , F1: 0.33295\n",
      "Training at Epoch 4 iteration 0 with loss 0.33036. Total time 0.13222 hours\n",
      "Training at Epoch 4 iteration 100 with loss 0.44773. Total time 0.13555 hours\n",
      "Training at Epoch 4 iteration 200 with loss 0.53422. Total time 0.13888 hours\n",
      "Training at Epoch 4 iteration 300 with loss 0.55508. Total time 0.14222 hours\n",
      "Training at Epoch 4 iteration 400 with loss 0.39146. Total time 0.14555 hours\n",
      "Training at Epoch 4 iteration 500 with loss 0.39337. Total time 0.14888 hours\n",
      "Training at Epoch 4 iteration 600 with loss 0.38026. Total time 0.15222 hours\n",
      "Training at Epoch 4 iteration 700 with loss 0.57399. Total time 0.15555 hours\n",
      "Training at Epoch 4 iteration 800 with loss 0.52602. Total time 0.15888 hours\n",
      "Training at Epoch 4 iteration 900 with loss 0.36794. Total time 0.16222 hours\n",
      "Training at Epoch 4 iteration 1000 with loss 0.41122. Total time 0.16555 hours\n",
      "Training at Epoch 4 iteration 1100 with loss 0.35082. Total time 0.16888 hours\n",
      "Validation at Epoch 4 , AUROC: 0.61913 , AUPRC: 0.55810 , F1: 0.29420\n",
      "Training at Epoch 5 iteration 0 with loss 0.23833. Total time 0.17611 hours\n",
      "Training at Epoch 5 iteration 100 with loss 0.27837. Total time 0.17944 hours\n",
      "Training at Epoch 5 iteration 200 with loss 0.24456. Total time 0.18277 hours\n",
      "Training at Epoch 5 iteration 400 with loss 0.48712. Total time 0.18944 hours\n",
      "Training at Epoch 5 iteration 500 with loss 0.35687. Total time 0.19277 hours\n",
      "Training at Epoch 5 iteration 600 with loss 0.41584. Total time 0.19611 hours\n",
      "Training at Epoch 5 iteration 700 with loss 0.23544. Total time 0.19972 hours\n",
      "Training at Epoch 5 iteration 800 with loss 0.56448. Total time 0.20305 hours\n",
      "Training at Epoch 5 iteration 900 with loss 0.46716. Total time 0.20638 hours\n",
      "Training at Epoch 5 iteration 1000 with loss 0.33317. Total time 0.20972 hours\n",
      "Training at Epoch 5 iteration 1100 with loss 0.39456. Total time 0.21305 hours\n",
      "Validation at Epoch 5 , AUROC: 0.61644 , AUPRC: 0.55643 , F1: 0.38591\n",
      "Training at Epoch 6 iteration 0 with loss 0.18705. Total time 0.22027 hours\n",
      "Training at Epoch 6 iteration 100 with loss 0.44609. Total time 0.22361 hours\n",
      "Training at Epoch 6 iteration 200 with loss 0.36400. Total time 0.22694 hours\n",
      "Training at Epoch 6 iteration 300 with loss 0.53940. Total time 0.23027 hours\n",
      "Training at Epoch 6 iteration 400 with loss 0.18489. Total time 0.23361 hours\n",
      "Training at Epoch 6 iteration 500 with loss 0.33508. Total time 0.23694 hours\n",
      "Training at Epoch 6 iteration 600 with loss 0.27065. Total time 0.24027 hours\n",
      "Training at Epoch 6 iteration 700 with loss 0.45188. Total time 0.24361 hours\n",
      "Training at Epoch 6 iteration 800 with loss 0.41424. Total time 0.24694 hours\n",
      "Training at Epoch 6 iteration 900 with loss 0.56036. Total time 0.25027 hours\n",
      "Training at Epoch 6 iteration 1000 with loss 0.34135. Total time 0.25361 hours\n",
      "Training at Epoch 6 iteration 1100 with loss 0.33725. Total time 0.25722 hours\n",
      "Validation at Epoch 6 , AUROC: 0.61706 , AUPRC: 0.56002 , F1: 0.44324\n",
      "--- Go for Testing ---\n",
      "Up to Epoch 5 Testing AUROC: 0.7698656672174595 , AUPRC: 0.7961963609266975 , F1: 0.6660798122065726\n",
      "Training at Epoch 7 iteration 0 with loss 0.22765. Total time 0.26666 hours\n",
      "Training at Epoch 7 iteration 100 with loss 0.33351. Total time 0.27 hours\n",
      "Training at Epoch 7 iteration 200 with loss 0.44161. Total time 0.27333 hours\n",
      "Training at Epoch 7 iteration 300 with loss 0.38268. Total time 0.27666 hours\n",
      "Training at Epoch 7 iteration 400 with loss 0.34606. Total time 0.28 hours\n",
      "Training at Epoch 7 iteration 500 with loss 0.29691. Total time 0.28333 hours\n",
      "Training at Epoch 7 iteration 600 with loss 0.48443. Total time 0.28666 hours\n",
      "Training at Epoch 7 iteration 700 with loss 0.26958. Total time 0.29 hours\n",
      "Training at Epoch 7 iteration 800 with loss 0.37841. Total time 0.29333 hours\n",
      "Training at Epoch 7 iteration 900 with loss 0.21762. Total time 0.29666 hours\n",
      "Training at Epoch 7 iteration 1000 with loss 0.36128. Total time 0.30027 hours\n",
      "Training at Epoch 7 iteration 1100 with loss 0.54065. Total time 0.30361 hours\n",
      "Validation at Epoch 7 , AUROC: 0.60948 , AUPRC: 0.55430 , F1: 0.31397\n",
      "Training at Epoch 8 iteration 0 with loss 0.20866. Total time 0.31055 hours\n",
      "Training at Epoch 8 iteration 100 with loss 0.24027. Total time 0.31388 hours\n",
      "Training at Epoch 8 iteration 200 with loss 0.30033. Total time 0.31722 hours\n",
      "Training at Epoch 8 iteration 300 with loss 0.27150. Total time 0.32083 hours\n",
      "Training at Epoch 8 iteration 400 with loss 0.33563. Total time 0.32416 hours\n",
      "Training at Epoch 8 iteration 500 with loss 0.38123. Total time 0.3275 hours\n",
      "Training at Epoch 8 iteration 600 with loss 0.43657. Total time 0.33083 hours\n",
      "Training at Epoch 8 iteration 700 with loss 0.68117. Total time 0.33416 hours\n",
      "Training at Epoch 8 iteration 800 with loss 0.21352. Total time 0.3375 hours\n",
      "Training at Epoch 8 iteration 900 with loss 0.22429. Total time 0.34083 hours\n",
      "Training at Epoch 8 iteration 1000 with loss 0.30407. Total time 0.34416 hours\n",
      "Training at Epoch 8 iteration 1100 with loss 0.31974. Total time 0.3475 hours\n",
      "Validation at Epoch 8 , AUROC: 0.60770 , AUPRC: 0.55733 , F1: 0.39526\n",
      "Training at Epoch 9 iteration 0 with loss 0.20181. Total time 0.35472 hours\n",
      "Training at Epoch 9 iteration 100 with loss 0.23978. Total time 0.35805 hours\n",
      "Training at Epoch 9 iteration 200 with loss 0.36643. Total time 0.36138 hours\n",
      "Training at Epoch 9 iteration 300 with loss 0.29503. Total time 0.36472 hours\n",
      "Training at Epoch 9 iteration 400 with loss 0.24756. Total time 0.36805 hours\n",
      "Training at Epoch 9 iteration 500 with loss 0.18326. Total time 0.37138 hours\n",
      "Training at Epoch 9 iteration 600 with loss 0.29107. Total time 0.37472 hours\n",
      "Training at Epoch 9 iteration 700 with loss 0.36323. Total time 0.37805 hours\n",
      "Training at Epoch 9 iteration 800 with loss 0.32435. Total time 0.38166 hours\n",
      "Training at Epoch 9 iteration 900 with loss 0.23971. Total time 0.385 hours\n",
      "Training at Epoch 9 iteration 1000 with loss 0.29169. Total time 0.38833 hours\n",
      "Training at Epoch 9 iteration 1100 with loss 0.44143. Total time 0.39166 hours\n",
      "Validation at Epoch 9 , AUROC: 0.60917 , AUPRC: 0.55810 , F1: 0.38159\n",
      "Training at Epoch 10 iteration 0 with loss 0.34167. Total time 0.39861 hours\n",
      "Training at Epoch 10 iteration 100 with loss 0.38493. Total time 0.40194 hours\n",
      "Training at Epoch 10 iteration 200 with loss 0.27616. Total time 0.40555 hours\n",
      "Training at Epoch 10 iteration 300 with loss 0.49920. Total time 0.40888 hours\n",
      "Training at Epoch 10 iteration 400 with loss 0.17528. Total time 0.41222 hours\n",
      "Training at Epoch 10 iteration 500 with loss 0.21111. Total time 0.41555 hours\n",
      "Training at Epoch 10 iteration 600 with loss 0.25444. Total time 0.41888 hours\n",
      "Training at Epoch 10 iteration 700 with loss 0.20234. Total time 0.42222 hours\n",
      "Training at Epoch 10 iteration 800 with loss 0.35614. Total time 0.42555 hours\n",
      "Training at Epoch 10 iteration 900 with loss 0.38374. Total time 0.42888 hours\n",
      "Training at Epoch 10 iteration 1000 with loss 0.21872. Total time 0.43222 hours\n",
      "Training at Epoch 10 iteration 1100 with loss 0.27113. Total time 0.43555 hours\n",
      "Validation at Epoch 10 , AUROC: 0.60119 , AUPRC: 0.55436 , F1: 0.35977\n",
      "Training at Epoch 11 iteration 0 with loss 0.36912. Total time 0.44277 hours\n",
      "Training at Epoch 11 iteration 100 with loss 0.41804. Total time 0.44611 hours\n",
      "Training at Epoch 11 iteration 200 with loss 0.17361. Total time 0.44944 hours\n",
      "Training at Epoch 11 iteration 300 with loss 0.39638. Total time 0.45277 hours\n",
      "Training at Epoch 11 iteration 400 with loss 0.22347. Total time 0.45611 hours\n",
      "Training at Epoch 11 iteration 500 with loss 0.31075. Total time 0.45944 hours\n",
      "Training at Epoch 11 iteration 600 with loss 0.33529. Total time 0.46277 hours\n",
      "Training at Epoch 11 iteration 700 with loss 0.23751. Total time 0.46611 hours\n",
      "Training at Epoch 11 iteration 800 with loss 0.14755. Total time 0.46944 hours\n",
      "Training at Epoch 11 iteration 900 with loss 0.26413. Total time 0.47305 hours\n",
      "Training at Epoch 11 iteration 1000 with loss 0.25177. Total time 0.47638 hours\n",
      "Training at Epoch 11 iteration 1100 with loss 0.23894. Total time 0.47972 hours\n",
      "Validation at Epoch 11 , AUROC: 0.58983 , AUPRC: 0.54570 , F1: 0.28830\n",
      "--- Go for Testing ---\n",
      "Up to Epoch 10 Testing AUROC: 0.7840130194499312 , AUPRC: 0.8182954824021962 , F1: 0.6172185430463575\n",
      "Training at Epoch 12 iteration 0 with loss 0.29523. Total time 0.48916 hours\n",
      "Training at Epoch 12 iteration 100 with loss 0.26519. Total time 0.4925 hours\n",
      "Training at Epoch 12 iteration 200 with loss 0.37740. Total time 0.49583 hours\n",
      "Training at Epoch 12 iteration 300 with loss 0.11112. Total time 0.49916 hours\n",
      "Training at Epoch 12 iteration 400 with loss 0.20000. Total time 0.5025 hours\n",
      "Training at Epoch 12 iteration 500 with loss 0.36407. Total time 0.50583 hours\n",
      "Training at Epoch 12 iteration 600 with loss 0.24716. Total time 0.50916 hours\n",
      "Training at Epoch 12 iteration 700 with loss 0.35273. Total time 0.5125 hours\n",
      "Training at Epoch 12 iteration 800 with loss 0.43228. Total time 0.51583 hours\n",
      "Training at Epoch 12 iteration 900 with loss 0.16781. Total time 0.51916 hours\n",
      "Training at Epoch 12 iteration 1000 with loss 0.33141. Total time 0.52277 hours\n",
      "Training at Epoch 12 iteration 1100 with loss 0.18466. Total time 0.52611 hours\n",
      "Validation at Epoch 12 , AUROC: 0.59077 , AUPRC: 0.54590 , F1: 0.33625\n",
      "Training at Epoch 13 iteration 0 with loss 0.31326. Total time 0.53305 hours\n",
      "Training at Epoch 13 iteration 100 with loss 0.22539. Total time 0.53638 hours\n",
      "Training at Epoch 13 iteration 200 with loss 0.22030. Total time 0.54 hours\n",
      "Training at Epoch 13 iteration 300 with loss 0.31538. Total time 0.54333 hours\n",
      "Training at Epoch 13 iteration 400 with loss 0.19998. Total time 0.54666 hours\n",
      "Training at Epoch 13 iteration 500 with loss 0.45301. Total time 0.55 hours\n",
      "Training at Epoch 13 iteration 600 with loss 0.28661. Total time 0.55333 hours\n",
      "Training at Epoch 13 iteration 700 with loss 0.35890. Total time 0.55666 hours\n",
      "Training at Epoch 13 iteration 800 with loss 0.19266. Total time 0.56 hours\n",
      "Training at Epoch 13 iteration 900 with loss 0.29052. Total time 0.56333 hours\n",
      "Training at Epoch 13 iteration 1000 with loss 0.25867. Total time 0.56666 hours\n",
      "Training at Epoch 13 iteration 1100 with loss 0.38355. Total time 0.57 hours\n",
      "Validation at Epoch 13 , AUROC: 0.58915 , AUPRC: 0.54561 , F1: 0.39376\n",
      "Training at Epoch 14 iteration 0 with loss 0.09017. Total time 0.57722 hours\n",
      "Training at Epoch 14 iteration 100 with loss 0.32967. Total time 0.58055 hours\n",
      "Training at Epoch 14 iteration 200 with loss 0.68298. Total time 0.58388 hours\n",
      "Training at Epoch 14 iteration 300 with loss 0.30518. Total time 0.58722 hours\n",
      "Training at Epoch 14 iteration 400 with loss 0.23717. Total time 0.59055 hours\n",
      "Training at Epoch 14 iteration 500 with loss 0.34982. Total time 0.59388 hours\n",
      "Training at Epoch 14 iteration 600 with loss 0.23692. Total time 0.5975 hours\n",
      "Training at Epoch 14 iteration 700 with loss 0.37050. Total time 0.60083 hours\n",
      "Training at Epoch 14 iteration 800 with loss 0.41700. Total time 0.60416 hours\n",
      "Training at Epoch 14 iteration 900 with loss 0.34687. Total time 0.6075 hours\n",
      "Training at Epoch 14 iteration 1000 with loss 0.33301. Total time 0.61083 hours\n",
      "Training at Epoch 14 iteration 1100 with loss 0.49573. Total time 0.61416 hours\n",
      "Validation at Epoch 14 , AUROC: 0.58081 , AUPRC: 0.54164 , F1: 0.37750\n",
      "Training at Epoch 15 iteration 0 with loss 0.32164. Total time 0.62138 hours\n",
      "Training at Epoch 15 iteration 100 with loss 0.15721. Total time 0.62472 hours\n",
      "Training at Epoch 15 iteration 200 with loss 0.46814. Total time 0.62805 hours\n",
      "Training at Epoch 15 iteration 300 with loss 0.40271. Total time 0.63138 hours\n",
      "Training at Epoch 15 iteration 400 with loss 0.19849. Total time 0.635 hours\n",
      "Training at Epoch 15 iteration 500 with loss 0.41578. Total time 0.63833 hours\n",
      "Training at Epoch 15 iteration 600 with loss 0.26439. Total time 0.64166 hours\n",
      "Training at Epoch 15 iteration 700 with loss 0.25977. Total time 0.645 hours\n",
      "Training at Epoch 15 iteration 800 with loss 0.13884. Total time 0.64833 hours\n",
      "Training at Epoch 15 iteration 900 with loss 0.33667. Total time 0.65166 hours\n",
      "Training at Epoch 15 iteration 1000 with loss 0.20261. Total time 0.655 hours\n",
      "Training at Epoch 15 iteration 1100 with loss 0.11154. Total time 0.65833 hours\n",
      "Validation at Epoch 15 , AUROC: 0.57873 , AUPRC: 0.53986 , F1: 0.23440\n",
      "Training at Epoch 16 iteration 0 with loss 0.28802. Total time 0.66555 hours\n",
      "Training at Epoch 16 iteration 100 with loss 0.23038. Total time 0.66888 hours\n",
      "Training at Epoch 16 iteration 200 with loss 0.11392. Total time 0.67222 hours\n",
      "Training at Epoch 16 iteration 300 with loss 0.29167. Total time 0.67555 hours\n",
      "Training at Epoch 16 iteration 400 with loss 0.25046. Total time 0.67888 hours\n",
      "Training at Epoch 16 iteration 500 with loss 0.31397. Total time 0.68222 hours\n",
      "Training at Epoch 16 iteration 600 with loss 0.38957. Total time 0.68555 hours\n",
      "Training at Epoch 16 iteration 700 with loss 0.17048. Total time 0.68888 hours\n",
      "Training at Epoch 16 iteration 800 with loss 0.14750. Total time 0.69222 hours\n",
      "Training at Epoch 16 iteration 900 with loss 0.47138. Total time 0.69583 hours\n",
      "Training at Epoch 16 iteration 1000 with loss 0.31530. Total time 0.69916 hours\n",
      "Training at Epoch 16 iteration 1100 with loss 0.47072. Total time 0.7025 hours\n",
      "Validation at Epoch 16 , AUROC: 0.57883 , AUPRC: 0.54096 , F1: 0.33294\n",
      "--- Go for Testing ---\n",
      "Up to Epoch 15 Testing AUROC: 0.7886003504333458 , AUPRC: 0.828368817250956 , F1: 0.6679257160843562\n",
      "Training at Epoch 17 iteration 0 with loss 0.18491. Total time 0.71194 hours\n",
      "Training at Epoch 17 iteration 100 with loss 0.32476. Total time 0.71527 hours\n",
      "Training at Epoch 17 iteration 200 with loss 0.14569. Total time 0.71861 hours\n",
      "Training at Epoch 17 iteration 300 with loss 0.25154. Total time 0.72194 hours\n",
      "Training at Epoch 17 iteration 400 with loss 0.15945. Total time 0.72527 hours\n",
      "Training at Epoch 17 iteration 500 with loss 0.27872. Total time 0.72861 hours\n",
      "Training at Epoch 17 iteration 600 with loss 0.23654. Total time 0.73194 hours\n",
      "Training at Epoch 17 iteration 700 with loss 0.21969. Total time 0.73527 hours\n",
      "Training at Epoch 17 iteration 800 with loss 0.26399. Total time 0.73861 hours\n",
      "Training at Epoch 17 iteration 900 with loss 0.31296. Total time 0.74194 hours\n",
      "Training at Epoch 17 iteration 1000 with loss 0.25688. Total time 0.74555 hours\n",
      "Training at Epoch 17 iteration 1100 with loss 0.49866. Total time 0.74888 hours\n",
      "Validation at Epoch 17 , AUROC: 0.57562 , AUPRC: 0.53932 , F1: 0.35795\n",
      "Training at Epoch 18 iteration 0 with loss 0.22118. Total time 0.75583 hours\n",
      "Training at Epoch 18 iteration 100 with loss 0.23363. Total time 0.75916 hours\n",
      "Training at Epoch 18 iteration 200 with loss 0.23201. Total time 0.7625 hours\n",
      "Training at Epoch 18 iteration 300 with loss 0.15448. Total time 0.76611 hours\n",
      "Training at Epoch 18 iteration 400 with loss 0.17046. Total time 0.76944 hours\n",
      "Training at Epoch 18 iteration 500 with loss 0.37875. Total time 0.77277 hours\n",
      "Training at Epoch 18 iteration 600 with loss 0.22446. Total time 0.77611 hours\n",
      "Training at Epoch 18 iteration 700 with loss 0.35506. Total time 0.77944 hours\n",
      "Training at Epoch 18 iteration 800 with loss 0.39591. Total time 0.78277 hours\n",
      "Training at Epoch 18 iteration 900 with loss 0.27158. Total time 0.78611 hours\n",
      "Training at Epoch 18 iteration 1000 with loss 0.66993. Total time 0.78944 hours\n",
      "Training at Epoch 18 iteration 1100 with loss 0.41503. Total time 0.79277 hours\n",
      "Validation at Epoch 18 , AUROC: 0.57461 , AUPRC: 0.53745 , F1: 0.30534\n",
      "Training at Epoch 19 iteration 0 with loss 0.22969. Total time 0.8 hours\n",
      "Training at Epoch 19 iteration 100 with loss 0.14708. Total time 0.80333 hours\n",
      "Training at Epoch 19 iteration 200 with loss 0.13723. Total time 0.80666 hours\n",
      "Training at Epoch 19 iteration 300 with loss 0.37075. Total time 0.81 hours\n",
      "Training at Epoch 19 iteration 400 with loss 0.31412. Total time 0.81333 hours\n",
      "Training at Epoch 19 iteration 500 with loss 0.37796. Total time 0.81666 hours\n",
      "Training at Epoch 19 iteration 600 with loss 0.41129. Total time 0.82 hours\n",
      "Training at Epoch 19 iteration 700 with loss 0.41013. Total time 0.82333 hours\n",
      "Training at Epoch 19 iteration 800 with loss 0.41060. Total time 0.82666 hours\n",
      "Training at Epoch 19 iteration 900 with loss 0.24184. Total time 0.83027 hours\n",
      "Training at Epoch 19 iteration 1000 with loss 0.16972. Total time 0.83361 hours\n",
      "Training at Epoch 19 iteration 1100 with loss 0.32141. Total time 0.83694 hours\n",
      "Validation at Epoch 19 , AUROC: 0.57040 , AUPRC: 0.53480 , F1: 0.31285\n",
      "Training at Epoch 20 iteration 0 with loss 0.26020. Total time 0.84444 hours\n",
      "Training at Epoch 20 iteration 100 with loss 0.29104. Total time 0.84805 hours\n",
      "Training at Epoch 20 iteration 200 with loss 0.22066. Total time 0.85138 hours\n",
      "Training at Epoch 20 iteration 300 with loss 0.17079. Total time 0.85472 hours\n",
      "Training at Epoch 20 iteration 400 with loss 0.30688. Total time 0.85805 hours\n",
      "Training at Epoch 20 iteration 500 with loss 0.26549. Total time 0.86166 hours\n",
      "Training at Epoch 20 iteration 600 with loss 0.14404. Total time 0.865 hours\n",
      "Training at Epoch 20 iteration 700 with loss 0.34790. Total time 0.86861 hours\n",
      "Training at Epoch 20 iteration 800 with loss 0.2803. Total time 0.87194 hours\n",
      "Training at Epoch 20 iteration 900 with loss 0.29312. Total time 0.87527 hours\n",
      "Training at Epoch 20 iteration 1000 with loss 0.21803. Total time 0.87861 hours\n",
      "Training at Epoch 20 iteration 1100 with loss 0.14739. Total time 0.88194 hours\n",
      "Validation at Epoch 20 , AUROC: 0.56813 , AUPRC: 0.53498 , F1: 0.29097\n",
      "Training at Epoch 21 iteration 0 with loss 0.18470. Total time 0.88916 hours\n",
      "Training at Epoch 21 iteration 100 with loss 0.23151. Total time 0.8925 hours\n",
      "Training at Epoch 21 iteration 200 with loss 0.13478. Total time 0.89583 hours\n",
      "Training at Epoch 21 iteration 300 with loss 0.21302. Total time 0.89916 hours\n",
      "Training at Epoch 21 iteration 400 with loss 0.13399. Total time 0.90277 hours\n",
      "Training at Epoch 21 iteration 500 with loss 0.26053. Total time 0.90611 hours\n",
      "Training at Epoch 21 iteration 600 with loss 0.32124. Total time 0.90944 hours\n",
      "Training at Epoch 21 iteration 700 with loss 0.25314. Total time 0.91277 hours\n",
      "Training at Epoch 21 iteration 800 with loss 0.55197. Total time 0.91611 hours\n",
      "Training at Epoch 21 iteration 900 with loss 0.38053. Total time 0.91944 hours\n",
      "Training at Epoch 21 iteration 1000 with loss 0.38848. Total time 0.92277 hours\n",
      "Training at Epoch 21 iteration 1100 with loss 0.24830. Total time 0.92611 hours\n",
      "Validation at Epoch 21 , AUROC: 0.56904 , AUPRC: 0.53511 , F1: 0.43741\n",
      "--- Go for Testing ---\n",
      "Up to Epoch 20 Testing AUROC: 0.786016711620358 , AUPRC: 0.8277572316015167 , F1: 0.7027793533749291\n",
      "Training at Epoch 22 iteration 0 with loss 0.45221. Total time 0.93555 hours\n",
      "Training at Epoch 22 iteration 100 with loss 0.17049. Total time 0.93888 hours\n",
      "Training at Epoch 22 iteration 200 with loss 0.27374. Total time 0.9425 hours\n",
      "Training at Epoch 22 iteration 300 with loss 0.23537. Total time 0.94583 hours\n",
      "Training at Epoch 22 iteration 400 with loss 0.18841. Total time 0.94916 hours\n",
      "Training at Epoch 22 iteration 500 with loss 0.15686. Total time 0.9525 hours\n",
      "Training at Epoch 22 iteration 600 with loss 0.28981. Total time 0.95583 hours\n",
      "Training at Epoch 22 iteration 700 with loss 0.42717. Total time 0.95916 hours\n",
      "Training at Epoch 22 iteration 800 with loss 0.31475. Total time 0.9625 hours\n",
      "Training at Epoch 22 iteration 900 with loss 0.20576. Total time 0.96583 hours\n",
      "Training at Epoch 22 iteration 1000 with loss 0.19815. Total time 0.96916 hours\n",
      "Validation at Epoch 22 , AUROC: 0.56502 , AUPRC: 0.53281 , F1: 0.34258\n",
      "Training at Epoch 23 iteration 0 with loss 0.20537. Total time 0.97972 hours\n",
      "Training at Epoch 23 iteration 100 with loss 0.18653. Total time 0.98305 hours\n",
      "Training at Epoch 23 iteration 200 with loss 0.21195. Total time 0.98638 hours\n",
      "Training at Epoch 23 iteration 300 with loss 0.30246. Total time 0.98972 hours\n",
      "Training at Epoch 23 iteration 400 with loss 0.14083. Total time 0.99305 hours\n",
      "Training at Epoch 23 iteration 500 with loss 0.30528. Total time 0.99666 hours\n",
      "Training at Epoch 23 iteration 600 with loss 0.41765. Total time 1.0 hours\n",
      "Training at Epoch 23 iteration 700 with loss 0.17729. Total time 1.00333 hours\n",
      "Training at Epoch 23 iteration 800 with loss 0.29138. Total time 1.00666 hours\n",
      "Training at Epoch 23 iteration 900 with loss 0.26927. Total time 1.01 hours\n",
      "Training at Epoch 23 iteration 1000 with loss 0.42893. Total time 1.01333 hours\n",
      "Training at Epoch 23 iteration 1100 with loss 0.15431. Total time 1.01666 hours\n",
      "Validation at Epoch 23 , AUROC: 0.56643 , AUPRC: 0.53337 , F1: 0.35172\n",
      "Training at Epoch 24 iteration 0 with loss 0.27066. Total time 1.02388 hours\n",
      "Training at Epoch 24 iteration 100 with loss 0.14505. Total time 1.02722 hours\n",
      "Training at Epoch 24 iteration 200 with loss 0.19801. Total time 1.03055 hours\n",
      "Training at Epoch 24 iteration 300 with loss 0.29541. Total time 1.03388 hours\n",
      "Training at Epoch 24 iteration 400 with loss 0.14608. Total time 1.03722 hours\n",
      "Training at Epoch 24 iteration 500 with loss 0.35706. Total time 1.04055 hours\n",
      "Training at Epoch 24 iteration 600 with loss 0.41315. Total time 1.04388 hours\n",
      "Training at Epoch 24 iteration 700 with loss 0.13271. Total time 1.0475 hours\n",
      "Training at Epoch 24 iteration 800 with loss 0.17977. Total time 1.05083 hours\n",
      "Training at Epoch 24 iteration 900 with loss 0.33608. Total time 1.05416 hours\n",
      "Training at Epoch 24 iteration 1000 with loss 0.34421. Total time 1.0575 hours\n",
      "Training at Epoch 24 iteration 1100 with loss 0.22592. Total time 1.06083 hours\n",
      "Validation at Epoch 24 , AUROC: 0.56372 , AUPRC: 0.53128 , F1: 0.39583\n",
      "Training at Epoch 25 iteration 0 with loss 0.37206. Total time 1.06777 hours\n",
      "Training at Epoch 25 iteration 100 with loss 0.16091. Total time 1.07138 hours\n",
      "Training at Epoch 25 iteration 200 with loss 0.23094. Total time 1.07472 hours\n",
      "Training at Epoch 25 iteration 300 with loss 0.28298. Total time 1.07805 hours\n",
      "Training at Epoch 25 iteration 400 with loss 0.32942. Total time 1.08138 hours\n",
      "Training at Epoch 25 iteration 500 with loss 0.12333. Total time 1.08472 hours\n",
      "Training at Epoch 25 iteration 600 with loss 0.21559. Total time 1.08805 hours\n",
      "Training at Epoch 25 iteration 700 with loss 0.14608. Total time 1.09138 hours\n",
      "Training at Epoch 25 iteration 800 with loss 0.26245. Total time 1.09472 hours\n",
      "Training at Epoch 25 iteration 900 with loss 0.56025. Total time 1.09805 hours\n",
      "Training at Epoch 25 iteration 1000 with loss 0.22723. Total time 1.10138 hours\n",
      "Training at Epoch 25 iteration 1100 with loss 0.20401. Total time 1.10472 hours\n",
      "Validation at Epoch 25 , AUROC: 0.56140 , AUPRC: 0.53325 , F1: 0.41321\n",
      "Training at Epoch 26 iteration 0 with loss 0.25992. Total time 1.11194 hours\n",
      "Training at Epoch 26 iteration 100 with loss 0.29630. Total time 1.11527 hours\n",
      "Training at Epoch 26 iteration 200 with loss 0.30774. Total time 1.11861 hours\n",
      "Training at Epoch 26 iteration 300 with loss 0.27750. Total time 1.12194 hours\n",
      "Training at Epoch 26 iteration 400 with loss 0.39849. Total time 1.12527 hours\n",
      "Training at Epoch 26 iteration 500 with loss 0.27262. Total time 1.12861 hours\n",
      "Training at Epoch 26 iteration 600 with loss 0.42674. Total time 1.13194 hours\n",
      "Training at Epoch 26 iteration 700 with loss 0.28273. Total time 1.13555 hours\n",
      "Training at Epoch 26 iteration 800 with loss 0.19018. Total time 1.13888 hours\n",
      "Training at Epoch 26 iteration 900 with loss 0.35103. Total time 1.14222 hours\n",
      "Training at Epoch 26 iteration 1000 with loss 0.37421. Total time 1.14555 hours\n",
      "Training at Epoch 26 iteration 1100 with loss 0.23212. Total time 1.14888 hours\n",
      "Validation at Epoch 26 , AUROC: 0.56613 , AUPRC: 0.53343 , F1: 0.35658\n",
      "--- Go for Testing ---\n",
      "Up to Epoch 25 Testing AUROC: 0.7797450113142423 , AUPRC: 0.822612569572201 , F1: 0.6697530864197531\n",
      "Training at Epoch 27 iteration 0 with loss 0.11401. Total time 1.15833 hours\n",
      "Training at Epoch 27 iteration 100 with loss 0.45809. Total time 1.16166 hours\n",
      "Training at Epoch 27 iteration 200 with loss 0.28153. Total time 1.16527 hours\n",
      "Training at Epoch 27 iteration 300 with loss 0.13841. Total time 1.16861 hours\n",
      "Training at Epoch 27 iteration 400 with loss 0.16300. Total time 1.17194 hours\n",
      "Training at Epoch 27 iteration 500 with loss 0.24948. Total time 1.17527 hours\n",
      "Training at Epoch 27 iteration 600 with loss 0.11921. Total time 1.17861 hours\n",
      "Training at Epoch 27 iteration 700 with loss 0.26955. Total time 1.18194 hours\n",
      "Training at Epoch 27 iteration 800 with loss 0.33189. Total time 1.18527 hours\n",
      "Training at Epoch 27 iteration 900 with loss 0.20499. Total time 1.18888 hours\n",
      "Training at Epoch 27 iteration 1000 with loss 0.29109. Total time 1.19222 hours\n",
      "Training at Epoch 27 iteration 1100 with loss 0.44255. Total time 1.19555 hours\n",
      "Validation at Epoch 27 , AUROC: 0.56392 , AUPRC: 0.53476 , F1: 0.38647\n",
      "Training at Epoch 28 iteration 0 with loss 0.23398. Total time 1.20333 hours\n",
      "Training at Epoch 28 iteration 100 with loss 0.32033. Total time 1.20666 hours\n",
      "Training at Epoch 28 iteration 200 with loss 0.10343. Total time 1.21 hours\n",
      "Training at Epoch 28 iteration 300 with loss 0.31404. Total time 1.21333 hours\n",
      "Training at Epoch 28 iteration 400 with loss 0.34726. Total time 1.21666 hours\n",
      "Training at Epoch 28 iteration 500 with loss 0.15218. Total time 1.22 hours\n",
      "Training at Epoch 28 iteration 600 with loss 0.18437. Total time 1.22333 hours\n",
      "Training at Epoch 28 iteration 700 with loss 0.20081. Total time 1.22666 hours\n",
      "Training at Epoch 28 iteration 800 with loss 0.17232. Total time 1.23027 hours\n",
      "Training at Epoch 28 iteration 900 with loss 0.20103. Total time 1.23361 hours\n",
      "Training at Epoch 28 iteration 1000 with loss 0.18662. Total time 1.23694 hours\n",
      "Training at Epoch 28 iteration 1100 with loss 0.20030. Total time 1.24027 hours\n",
      "Validation at Epoch 28 , AUROC: 0.56193 , AUPRC: 0.53438 , F1: 0.45205\n",
      "Training at Epoch 29 iteration 0 with loss 0.16818. Total time 1.2475 hours\n",
      "Training at Epoch 29 iteration 100 with loss 0.22204. Total time 1.25083 hours\n",
      "Training at Epoch 29 iteration 200 with loss 0.31834. Total time 1.25416 hours\n",
      "Training at Epoch 29 iteration 300 with loss 0.30015. Total time 1.2575 hours\n",
      "Training at Epoch 29 iteration 400 with loss 0.48848. Total time 1.26083 hours\n",
      "Training at Epoch 29 iteration 500 with loss 0.41165. Total time 1.26416 hours\n",
      "Training at Epoch 29 iteration 600 with loss 0.52819. Total time 1.2675 hours\n",
      "Training at Epoch 29 iteration 700 with loss 0.28312. Total time 1.27083 hours\n",
      "Training at Epoch 29 iteration 800 with loss 0.38104. Total time 1.27416 hours\n",
      "Training at Epoch 29 iteration 900 with loss 0.12787. Total time 1.2775 hours\n",
      "Training at Epoch 29 iteration 1000 with loss 0.32922. Total time 1.28083 hours\n",
      "Training at Epoch 29 iteration 1100 with loss 0.11585. Total time 1.28444 hours\n",
      "Validation at Epoch 29 , AUROC: 0.56108 , AUPRC: 0.53193 , F1: 0.38307\n",
      "Training at Epoch 30 iteration 0 with loss 0.21266. Total time 1.29138 hours\n",
      "Training at Epoch 30 iteration 100 with loss 0.18340. Total time 1.29472 hours\n",
      "Training at Epoch 30 iteration 200 with loss 0.16298. Total time 1.29805 hours\n",
      "Training at Epoch 30 iteration 300 with loss 0.38027. Total time 1.30166 hours\n",
      "Training at Epoch 30 iteration 400 with loss 0.09234. Total time 1.305 hours\n",
      "Training at Epoch 30 iteration 500 with loss 0.43850. Total time 1.30833 hours\n",
      "Training at Epoch 30 iteration 600 with loss 0.34014. Total time 1.31166 hours\n",
      "Training at Epoch 30 iteration 700 with loss 0.39440. Total time 1.315 hours\n",
      "Training at Epoch 30 iteration 800 with loss 0.21568. Total time 1.31833 hours\n",
      "Training at Epoch 30 iteration 900 with loss 0.26247. Total time 1.32166 hours\n",
      "Training at Epoch 30 iteration 1000 with loss 0.37759. Total time 1.325 hours\n",
      "Training at Epoch 30 iteration 1100 with loss 0.17502. Total time 1.32833 hours\n",
      "Validation at Epoch 30 , AUROC: 0.56293 , AUPRC: 0.53470 , F1: 0.40881\n",
      "--- Go for Testing ---\n",
      "Testing AUROC: 0.7778886537665715 , AUPRC: 0.823256431257489 , F1: 0.685647196947461\n",
      "--- Training Finished ---\n",
      "predicting...\n",
      "predicting...\n",
      "Results Saved\n",
      "in total: 37340 drug-target pairs\n",
      "encoding drug...\n",
      "unique drugs: 7250\n",
      "rdkit not found this smiles for morgan: nan convert to all 1 features\n"
     ]
    },
    {
     "name": "stderr",
     "output_type": "stream",
     "text": [
      "RDKit WARNING: [10:23:27] Conflicting single bond directions around double bond at index 1.\n",
      "RDKit WARNING: [10:23:27]   BondStereo set to STEREONONE and single bond directions set to NONE.\n"
     ]
    },
    {
     "name": "stdout",
     "output_type": "stream",
     "text": [
      "drug encoding finished...\n",
      "encoding protein...\n",
      "unique target sequence: 3533\n",
      "protein encoding finished...\n",
      "splitting dataset...\n",
      "Done.\n",
      "in total: 6790 drug-target pairs\n",
      "encoding drug...\n",
      "unique drugs: 3429\n",
      "rdkit not found this smiles for morgan: nan convert to all 1 features\n",
      "drug encoding finished...\n",
      "encoding protein...\n",
      "unique target sequence: 897\n",
      "protein encoding finished...\n",
      "splitting dataset...\n",
      "Done.\n",
      "in total: 3603 drug-target pairs\n",
      "encoding drug...\n",
      "unique drugs: 2141\n",
      "rdkit not found this smiles for morgan: nan convert to all 1 features\n",
      "drug encoding finished...\n",
      "encoding protein...\n",
      "unique target sequence: 1590\n",
      "protein encoding finished...\n",
      "splitting dataset...\n",
      "Done.\n",
      "Let's use 1 GPU!\n",
      "--- Data Preparation ---\n",
      "--- Go for Training ---\n",
      "Training at Epoch 1 iteration 0 with loss 0.69038. Total time 0.0 hours\n",
      "Training at Epoch 1 iteration 100 with loss 0.66698. Total time 0.00333 hours\n",
      "Training at Epoch 1 iteration 200 with loss 0.61272. Total time 0.00666 hours\n",
      "Training at Epoch 1 iteration 300 with loss 0.57832. Total time 0.01 hours\n",
      "Training at Epoch 1 iteration 400 with loss 0.61922. Total time 0.01333 hours\n",
      "Training at Epoch 1 iteration 500 with loss 0.55850. Total time 0.01666 hours\n",
      "Training at Epoch 1 iteration 600 with loss 0.63848. Total time 0.02 hours\n",
      "Training at Epoch 1 iteration 700 with loss 0.65375. Total time 0.02361 hours\n",
      "Training at Epoch 1 iteration 800 with loss 0.61894. Total time 0.02694 hours\n",
      "Training at Epoch 1 iteration 900 with loss 0.65026. Total time 0.03027 hours\n",
      "Training at Epoch 1 iteration 1000 with loss 0.59602. Total time 0.03361 hours\n",
      "Training at Epoch 1 iteration 1100 with loss 0.55267. Total time 0.03694 hours\n",
      "Validation at Epoch 1 , AUROC: 0.50849 , AUPRC: 0.50804 , F1: 0.05427\n",
      "Training at Epoch 2 iteration 0 with loss 0.73999. Total time 0.04333 hours\n",
      "Training at Epoch 2 iteration 100 with loss 0.57544. Total time 0.04694 hours\n",
      "Training at Epoch 2 iteration 200 with loss 0.51135. Total time 0.05027 hours\n",
      "Training at Epoch 2 iteration 300 with loss 0.66873. Total time 0.05361 hours\n",
      "Training at Epoch 2 iteration 400 with loss 0.51614. Total time 0.05694 hours\n",
      "Training at Epoch 2 iteration 500 with loss 0.63453. Total time 0.06027 hours\n",
      "Training at Epoch 2 iteration 600 with loss 0.44466. Total time 0.06361 hours\n",
      "Training at Epoch 2 iteration 700 with loss 0.45783. Total time 0.06694 hours\n",
      "Training at Epoch 2 iteration 800 with loss 0.50454. Total time 0.07027 hours\n",
      "Training at Epoch 2 iteration 900 with loss 0.63989. Total time 0.07361 hours\n",
      "Training at Epoch 2 iteration 1000 with loss 0.61444. Total time 0.07694 hours\n",
      "Training at Epoch 2 iteration 1100 with loss 0.72610. Total time 0.08055 hours\n",
      "Validation at Epoch 2 , AUROC: 0.56496 , AUPRC: 0.54908 , F1: 0.29266\n",
      "Training at Epoch 3 iteration 0 with loss 0.50900. Total time 0.0875 hours\n",
      "Training at Epoch 3 iteration 100 with loss 0.70442. Total time 0.09083 hours\n",
      "Training at Epoch 3 iteration 200 with loss 0.41521. Total time 0.09416 hours\n",
      "Training at Epoch 3 iteration 300 with loss 0.48770. Total time 0.0975 hours\n",
      "Training at Epoch 3 iteration 400 with loss 0.44488. Total time 0.10111 hours\n",
      "Training at Epoch 3 iteration 500 with loss 0.59922. Total time 0.10444 hours\n",
      "Training at Epoch 3 iteration 600 with loss 0.39359. Total time 0.10777 hours\n",
      "Training at Epoch 3 iteration 700 with loss 0.39791. Total time 0.11111 hours\n",
      "Training at Epoch 3 iteration 800 with loss 0.42848. Total time 0.11444 hours\n",
      "Training at Epoch 3 iteration 900 with loss 0.52681. Total time 0.11777 hours\n",
      "Training at Epoch 3 iteration 1000 with loss 0.51263. Total time 0.12111 hours\n",
      "Training at Epoch 3 iteration 1100 with loss 0.60484. Total time 0.12472 hours\n",
      "Validation at Epoch 3 , AUROC: 0.65255 , AUPRC: 0.63032 , F1: 0.47228\n",
      "Training at Epoch 4 iteration 0 with loss 0.51140. Total time 0.13166 hours\n",
      "Training at Epoch 4 iteration 100 with loss 0.44761. Total time 0.135 hours\n",
      "Training at Epoch 4 iteration 200 with loss 0.44387. Total time 0.13861 hours\n",
      "Training at Epoch 4 iteration 300 with loss 0.60482. Total time 0.14194 hours\n",
      "Training at Epoch 4 iteration 400 with loss 0.41641. Total time 0.14527 hours\n",
      "Training at Epoch 4 iteration 500 with loss 0.39334. Total time 0.14861 hours\n",
      "Training at Epoch 4 iteration 600 with loss 0.25794. Total time 0.15194 hours\n",
      "Training at Epoch 4 iteration 700 with loss 0.40992. Total time 0.15527 hours\n",
      "Training at Epoch 4 iteration 800 with loss 0.37530. Total time 0.15861 hours\n",
      "Training at Epoch 4 iteration 900 with loss 0.54209. Total time 0.16194 hours\n",
      "Training at Epoch 4 iteration 1000 with loss 0.30943. Total time 0.16527 hours\n",
      "Training at Epoch 4 iteration 1100 with loss 0.30977. Total time 0.16861 hours\n",
      "Validation at Epoch 4 , AUROC: 0.67431 , AUPRC: 0.66668 , F1: 0.48096\n",
      "Training at Epoch 5 iteration 0 with loss 0.46782. Total time 0.17583 hours\n",
      "Training at Epoch 5 iteration 100 with loss 0.31273. Total time 0.17916 hours\n",
      "Training at Epoch 5 iteration 200 with loss 0.40575. Total time 0.1825 hours\n",
      "Training at Epoch 5 iteration 300 with loss 0.37627. Total time 0.18611 hours\n",
      "Training at Epoch 5 iteration 400 with loss 0.53243. Total time 0.18944 hours\n",
      "Training at Epoch 5 iteration 500 with loss 0.54781. Total time 0.19277 hours\n",
      "Training at Epoch 5 iteration 600 with loss 0.43194. Total time 0.19611 hours\n",
      "Training at Epoch 5 iteration 700 with loss 0.42806. Total time 0.19944 hours\n",
      "Training at Epoch 5 iteration 800 with loss 0.58109. Total time 0.20277 hours\n",
      "Training at Epoch 5 iteration 900 with loss 0.43056. Total time 0.20611 hours\n",
      "Training at Epoch 5 iteration 1000 with loss 0.58516. Total time 0.20972 hours\n",
      "Training at Epoch 5 iteration 1100 with loss 0.36398. Total time 0.21305 hours\n",
      "Validation at Epoch 5 , AUROC: 0.67914 , AUPRC: 0.67411 , F1: 0.46452\n",
      "Training at Epoch 6 iteration 0 with loss 0.31740. Total time 0.22027 hours\n",
      "Training at Epoch 6 iteration 100 with loss 0.53591. Total time 0.22361 hours\n",
      "Training at Epoch 6 iteration 200 with loss 0.40299. Total time 0.22694 hours\n",
      "Training at Epoch 6 iteration 300 with loss 0.54129. Total time 0.23027 hours\n",
      "Training at Epoch 6 iteration 400 with loss 0.31344. Total time 0.23361 hours\n",
      "Training at Epoch 6 iteration 500 with loss 0.36919. Total time 0.23722 hours\n",
      "Training at Epoch 6 iteration 600 with loss 0.59850. Total time 0.24055 hours\n",
      "Training at Epoch 6 iteration 700 with loss 0.30526. Total time 0.24388 hours\n",
      "Training at Epoch 6 iteration 800 with loss 0.41311. Total time 0.24722 hours\n",
      "Training at Epoch 6 iteration 900 with loss 0.54812. Total time 0.25055 hours\n",
      "Training at Epoch 6 iteration 1000 with loss 0.43441. Total time 0.25388 hours\n",
      "Training at Epoch 6 iteration 1100 with loss 0.49153. Total time 0.25722 hours\n",
      "Validation at Epoch 6 , AUROC: 0.67908 , AUPRC: 0.68092 , F1: 0.48929\n",
      "--- Go for Testing ---\n",
      "Up to Epoch 5 Testing AUROC: 0.7321973420268509 , AUPRC: 0.7542480038168325 , F1: 0.5834473324213406\n",
      "Training at Epoch 7 iteration 0 with loss 0.34446. Total time 0.26638 hours\n",
      "Training at Epoch 7 iteration 100 with loss 0.62654. Total time 0.26972 hours\n",
      "Training at Epoch 7 iteration 200 with loss 0.56639. Total time 0.27305 hours\n",
      "Training at Epoch 7 iteration 300 with loss 0.31865. Total time 0.27638 hours\n",
      "Training at Epoch 7 iteration 400 with loss 0.44036. Total time 0.27972 hours\n",
      "Training at Epoch 7 iteration 500 with loss 0.19903. Total time 0.28305 hours\n",
      "Training at Epoch 7 iteration 600 with loss 0.29967. Total time 0.28638 hours\n",
      "Training at Epoch 7 iteration 700 with loss 0.46935. Total time 0.28972 hours\n",
      "Training at Epoch 7 iteration 800 with loss 0.22647. Total time 0.29305 hours\n",
      "Training at Epoch 7 iteration 900 with loss 0.56863. Total time 0.29638 hours\n",
      "Training at Epoch 7 iteration 1000 with loss 0.40234. Total time 0.29972 hours\n",
      "Training at Epoch 7 iteration 1100 with loss 0.27328. Total time 0.30333 hours\n",
      "Validation at Epoch 7 , AUROC: 0.68500 , AUPRC: 0.69154 , F1: 0.54523\n",
      "Training at Epoch 8 iteration 0 with loss 0.40885. Total time 0.30972 hours\n",
      "Training at Epoch 8 iteration 100 with loss 0.28501. Total time 0.31305 hours\n",
      "Training at Epoch 8 iteration 200 with loss 0.30314. Total time 0.31638 hours\n",
      "Training at Epoch 8 iteration 300 with loss 0.38900. Total time 0.31972 hours\n",
      "Training at Epoch 8 iteration 400 with loss 0.40057. Total time 0.32305 hours\n",
      "Training at Epoch 8 iteration 500 with loss 0.28498. Total time 0.32638 hours\n",
      "Training at Epoch 8 iteration 600 with loss 0.37007. Total time 0.33 hours\n",
      "Training at Epoch 8 iteration 700 with loss 0.45518. Total time 0.33333 hours\n",
      "Training at Epoch 8 iteration 800 with loss 0.26313. Total time 0.33666 hours\n",
      "Training at Epoch 8 iteration 900 with loss 0.25735. Total time 0.34 hours\n",
      "Training at Epoch 8 iteration 1000 with loss 0.45058. Total time 0.34333 hours\n",
      "Training at Epoch 8 iteration 1100 with loss 0.38076. Total time 0.34666 hours\n",
      "Validation at Epoch 8 , AUROC: 0.67836 , AUPRC: 0.68697 , F1: 0.45902\n",
      "Training at Epoch 9 iteration 0 with loss 0.55308. Total time 0.35305 hours\n",
      "Training at Epoch 9 iteration 100 with loss 0.40430. Total time 0.35638 hours\n",
      "Training at Epoch 9 iteration 200 with loss 0.38017. Total time 0.36 hours\n",
      "Training at Epoch 9 iteration 300 with loss 0.45730. Total time 0.36333 hours\n",
      "Training at Epoch 9 iteration 400 with loss 0.33311. Total time 0.36666 hours\n",
      "Training at Epoch 9 iteration 500 with loss 0.22804. Total time 0.37 hours\n",
      "Training at Epoch 9 iteration 600 with loss 0.50511. Total time 0.37333 hours\n",
      "Training at Epoch 9 iteration 700 with loss 0.35414. Total time 0.37666 hours\n",
      "Training at Epoch 9 iteration 800 with loss 0.38868. Total time 0.38 hours\n",
      "Training at Epoch 9 iteration 900 with loss 0.33682. Total time 0.38333 hours\n",
      "Training at Epoch 9 iteration 1000 with loss 0.48300. Total time 0.38666 hours\n",
      "Training at Epoch 9 iteration 1100 with loss 0.26077. Total time 0.39 hours\n",
      "Validation at Epoch 9 , AUROC: 0.67150 , AUPRC: 0.68055 , F1: 0.46583\n",
      "Training at Epoch 10 iteration 0 with loss 0.15154. Total time 0.39666 hours\n",
      "Training at Epoch 10 iteration 100 with loss 0.40353. Total time 0.4 hours\n",
      "Training at Epoch 10 iteration 200 with loss 0.28422. Total time 0.40333 hours\n",
      "Training at Epoch 10 iteration 300 with loss 0.45023. Total time 0.40666 hours\n",
      "Training at Epoch 10 iteration 400 with loss 0.37028. Total time 0.41 hours\n",
      "Training at Epoch 10 iteration 500 with loss 0.32823. Total time 0.41333 hours\n",
      "Training at Epoch 10 iteration 600 with loss 0.33796. Total time 0.41666 hours\n",
      "Training at Epoch 10 iteration 700 with loss 0.34209. Total time 0.42027 hours\n",
      "Training at Epoch 10 iteration 800 with loss 0.31170. Total time 0.42361 hours\n",
      "Training at Epoch 10 iteration 900 with loss 0.40770. Total time 0.42694 hours\n",
      "Training at Epoch 10 iteration 1000 with loss 0.40016. Total time 0.43027 hours\n",
      "Training at Epoch 10 iteration 1100 with loss 0.31694. Total time 0.43361 hours\n",
      "Validation at Epoch 10 , AUROC: 0.67889 , AUPRC: 0.69131 , F1: 0.45011\n",
      "Training at Epoch 11 iteration 0 with loss 0.14460. Total time 0.44083 hours\n",
      "Training at Epoch 11 iteration 100 with loss 0.45113. Total time 0.44416 hours\n",
      "Training at Epoch 11 iteration 200 with loss 0.29054. Total time 0.44777 hours\n",
      "Training at Epoch 11 iteration 300 with loss 0.26747. Total time 0.45111 hours\n",
      "Training at Epoch 11 iteration 400 with loss 0.09316. Total time 0.45444 hours\n",
      "Training at Epoch 11 iteration 500 with loss 0.17659. Total time 0.45777 hours\n",
      "Training at Epoch 11 iteration 600 with loss 0.32794. Total time 0.46111 hours\n",
      "Training at Epoch 11 iteration 700 with loss 0.42236. Total time 0.46444 hours\n",
      "Training at Epoch 11 iteration 800 with loss 0.22042. Total time 0.46777 hours\n",
      "Training at Epoch 11 iteration 900 with loss 0.50769. Total time 0.47138 hours\n",
      "Training at Epoch 11 iteration 1000 with loss 0.18213. Total time 0.47472 hours\n",
      "Training at Epoch 11 iteration 1100 with loss 0.40285. Total time 0.47805 hours\n",
      "Validation at Epoch 11 , AUROC: 0.67329 , AUPRC: 0.68645 , F1: 0.49117\n",
      "--- Go for Testing ---\n",
      "Up to Epoch 10 Testing AUROC: 0.7488354034874727 , AUPRC: 0.7796140165053348 , F1: 0.610867364157948\n",
      "Training at Epoch 12 iteration 0 with loss 0.21451. Total time 0.48694 hours\n",
      "Training at Epoch 12 iteration 100 with loss 0.23445. Total time 0.49027 hours\n",
      "Training at Epoch 12 iteration 200 with loss 0.33300. Total time 0.49361 hours\n",
      "Training at Epoch 12 iteration 300 with loss 0.24624. Total time 0.49694 hours\n",
      "Training at Epoch 12 iteration 400 with loss 0.39447. Total time 0.50055 hours\n",
      "Training at Epoch 12 iteration 500 with loss 0.24895. Total time 0.50388 hours\n",
      "Training at Epoch 12 iteration 600 with loss 0.37224. Total time 0.50722 hours\n",
      "Training at Epoch 12 iteration 700 with loss 0.54780. Total time 0.51055 hours\n",
      "Training at Epoch 12 iteration 800 with loss 0.34322. Total time 0.51388 hours\n",
      "Training at Epoch 12 iteration 900 with loss 0.13906. Total time 0.51722 hours\n",
      "Training at Epoch 12 iteration 1000 with loss 0.39782. Total time 0.52055 hours\n",
      "Training at Epoch 12 iteration 1100 with loss 0.16240. Total time 0.52388 hours\n",
      "Validation at Epoch 12 , AUROC: 0.67088 , AUPRC: 0.68489 , F1: 0.50569\n",
      "Training at Epoch 13 iteration 0 with loss 0.25074. Total time 0.53055 hours\n",
      "Training at Epoch 13 iteration 100 with loss 0.41115. Total time 0.53388 hours\n",
      "Training at Epoch 13 iteration 200 with loss 0.19300. Total time 0.53722 hours\n",
      "Training at Epoch 13 iteration 300 with loss 0.32186. Total time 0.54055 hours\n",
      "Training at Epoch 13 iteration 400 with loss 0.20544. Total time 0.54388 hours\n",
      "Training at Epoch 13 iteration 500 with loss 0.12408. Total time 0.54722 hours\n",
      "Training at Epoch 13 iteration 600 with loss 0.18828. Total time 0.55055 hours\n",
      "Training at Epoch 13 iteration 700 with loss 0.22729. Total time 0.55388 hours\n",
      "Training at Epoch 13 iteration 800 with loss 0.18001. Total time 0.55722 hours\n",
      "Training at Epoch 13 iteration 900 with loss 0.50382. Total time 0.56083 hours\n",
      "Training at Epoch 13 iteration 1000 with loss 0.38428. Total time 0.56416 hours\n",
      "Training at Epoch 13 iteration 1100 with loss 0.36182. Total time 0.5675 hours\n",
      "Validation at Epoch 13 , AUROC: 0.66982 , AUPRC: 0.68619 , F1: 0.49189\n",
      "Training at Epoch 14 iteration 0 with loss 0.30714. Total time 0.57416 hours\n",
      "Training at Epoch 14 iteration 100 with loss 0.51194. Total time 0.5775 hours\n",
      "Training at Epoch 14 iteration 200 with loss 0.19807. Total time 0.58083 hours\n",
      "Training at Epoch 14 iteration 300 with loss 0.15040. Total time 0.58416 hours\n",
      "Training at Epoch 14 iteration 400 with loss 0.47045. Total time 0.5875 hours\n",
      "Training at Epoch 14 iteration 500 with loss 0.26423. Total time 0.59083 hours\n",
      "Training at Epoch 14 iteration 600 with loss 0.33894. Total time 0.59416 hours\n",
      "Training at Epoch 14 iteration 700 with loss 0.27702. Total time 0.5975 hours\n",
      "Training at Epoch 14 iteration 800 with loss 0.31965. Total time 0.60083 hours\n",
      "Training at Epoch 14 iteration 900 with loss 0.27700. Total time 0.60416 hours\n",
      "Training at Epoch 14 iteration 1000 with loss 0.33226. Total time 0.6075 hours\n",
      "Training at Epoch 14 iteration 1100 with loss 0.35157. Total time 0.61083 hours\n",
      "Validation at Epoch 14 , AUROC: 0.66795 , AUPRC: 0.68412 , F1: 0.49140\n",
      "Training at Epoch 15 iteration 0 with loss 0.17133. Total time 0.6175 hours\n",
      "Training at Epoch 15 iteration 100 with loss 0.35810. Total time 0.62083 hours\n",
      "Training at Epoch 15 iteration 200 with loss 0.28912. Total time 0.62416 hours\n",
      "Training at Epoch 15 iteration 300 with loss 0.19990. Total time 0.6275 hours\n",
      "Training at Epoch 15 iteration 400 with loss 0.33074. Total time 0.63083 hours\n",
      "Training at Epoch 15 iteration 500 with loss 0.31796. Total time 0.63416 hours\n",
      "Training at Epoch 15 iteration 600 with loss 0.13318. Total time 0.63777 hours\n",
      "Training at Epoch 15 iteration 700 with loss 0.23733. Total time 0.64111 hours\n",
      "Training at Epoch 15 iteration 800 with loss 0.37332. Total time 0.64444 hours\n",
      "Training at Epoch 15 iteration 900 with loss 0.19796. Total time 0.64777 hours\n",
      "Training at Epoch 15 iteration 1000 with loss 0.50293. Total time 0.65111 hours\n",
      "Training at Epoch 15 iteration 1100 with loss 0.10731. Total time 0.65444 hours\n",
      "Validation at Epoch 15 , AUROC: 0.66325 , AUPRC: 0.68147 , F1: 0.49273\n",
      "Training at Epoch 16 iteration 0 with loss 0.45654. Total time 0.66083 hours\n",
      "Training at Epoch 16 iteration 100 with loss 0.12844. Total time 0.66444 hours\n",
      "Training at Epoch 16 iteration 200 with loss 0.37347. Total time 0.66777 hours\n",
      "Training at Epoch 16 iteration 300 with loss 0.36494. Total time 0.67111 hours\n",
      "Training at Epoch 16 iteration 400 with loss 0.42133. Total time 0.67444 hours\n",
      "Training at Epoch 16 iteration 500 with loss 0.27812. Total time 0.67777 hours\n",
      "Training at Epoch 16 iteration 600 with loss 0.20246. Total time 0.68111 hours\n",
      "Training at Epoch 16 iteration 700 with loss 0.22461. Total time 0.68444 hours\n",
      "Training at Epoch 16 iteration 800 with loss 0.27617. Total time 0.68777 hours\n",
      "Training at Epoch 16 iteration 900 with loss 0.10901. Total time 0.69111 hours\n",
      "Training at Epoch 16 iteration 1000 with loss 0.32280. Total time 0.69444 hours\n",
      "Training at Epoch 16 iteration 1100 with loss 0.24105. Total time 0.69777 hours\n",
      "Validation at Epoch 16 , AUROC: 0.66895 , AUPRC: 0.68741 , F1: 0.54845\n",
      "--- Go for Testing ---\n",
      "Up to Epoch 15 Testing AUROC: 0.759340960703534 , AUPRC: 0.7918962646558201 , F1: 0.6619761394921995\n",
      "Training at Epoch 17 iteration 0 with loss 0.18742. Total time 0.70611 hours\n",
      "Training at Epoch 17 iteration 100 with loss 0.28696. Total time 0.70944 hours\n",
      "Training at Epoch 17 iteration 200 with loss 0.29401. Total time 0.71277 hours\n",
      "Training at Epoch 17 iteration 300 with loss 0.23999. Total time 0.71611 hours\n",
      "Training at Epoch 17 iteration 400 with loss 0.27022. Total time 0.71944 hours\n",
      "Training at Epoch 17 iteration 500 with loss 0.34620. Total time 0.72277 hours\n",
      "Training at Epoch 17 iteration 600 with loss 0.14492. Total time 0.72611 hours\n",
      "Training at Epoch 17 iteration 700 with loss 0.20465. Total time 0.72944 hours\n",
      "Training at Epoch 17 iteration 800 with loss 0.17194. Total time 0.73277 hours\n",
      "Training at Epoch 17 iteration 900 with loss 0.13097. Total time 0.73611 hours\n",
      "Training at Epoch 17 iteration 1000 with loss 0.21889. Total time 0.73944 hours\n",
      "Training at Epoch 17 iteration 1100 with loss 0.35632. Total time 0.74277 hours\n",
      "Validation at Epoch 17 , AUROC: 0.66582 , AUPRC: 0.68733 , F1: 0.56244\n",
      "Training at Epoch 18 iteration 0 with loss 0.18213. Total time 0.74888 hours\n",
      "Training at Epoch 18 iteration 100 with loss 0.32008. Total time 0.75222 hours\n",
      "Training at Epoch 18 iteration 200 with loss 0.23598. Total time 0.75555 hours\n",
      "Training at Epoch 18 iteration 300 with loss 0.27720. Total time 0.75888 hours\n",
      "Training at Epoch 18 iteration 400 with loss 0.16780. Total time 0.76222 hours\n",
      "Training at Epoch 18 iteration 500 with loss 0.19288. Total time 0.76555 hours\n",
      "Training at Epoch 18 iteration 600 with loss 0.22934. Total time 0.76888 hours\n",
      "Training at Epoch 18 iteration 700 with loss 0.27816. Total time 0.77222 hours\n",
      "Training at Epoch 18 iteration 800 with loss 0.39378. Total time 0.77555 hours\n",
      "Training at Epoch 18 iteration 900 with loss 0.18689. Total time 0.77888 hours\n",
      "Training at Epoch 18 iteration 1000 with loss 0.14740. Total time 0.78222 hours\n",
      "Training at Epoch 18 iteration 1100 with loss 0.23283. Total time 0.78555 hours\n",
      "Validation at Epoch 18 , AUROC: 0.66620 , AUPRC: 0.68718 , F1: 0.55212\n",
      "Training at Epoch 19 iteration 0 with loss 0.30181. Total time 0.79166 hours\n",
      "Training at Epoch 19 iteration 100 with loss 0.55519. Total time 0.795 hours\n",
      "Training at Epoch 19 iteration 200 with loss 0.25121. Total time 0.79833 hours\n",
      "Training at Epoch 19 iteration 300 with loss 0.58574. Total time 0.80166 hours\n",
      "Training at Epoch 19 iteration 400 with loss 0.10853. Total time 0.805 hours\n",
      "Training at Epoch 19 iteration 500 with loss 0.10761. Total time 0.80833 hours\n",
      "Training at Epoch 19 iteration 600 with loss 0.16704. Total time 0.81166 hours\n",
      "Training at Epoch 19 iteration 700 with loss 0.34664. Total time 0.815 hours\n",
      "Training at Epoch 19 iteration 800 with loss 0.18625. Total time 0.81833 hours\n",
      "Training at Epoch 19 iteration 900 with loss 0.13360. Total time 0.82166 hours\n",
      "Training at Epoch 19 iteration 1000 with loss 0.27490. Total time 0.825 hours\n",
      "Training at Epoch 19 iteration 1100 with loss 0.30360. Total time 0.82833 hours\n",
      "Validation at Epoch 19 , AUROC: 0.65397 , AUPRC: 0.67635 , F1: 0.49664\n",
      "Training at Epoch 20 iteration 0 with loss 0.19779. Total time 0.83444 hours\n",
      "Training at Epoch 20 iteration 100 with loss 0.17702. Total time 0.83777 hours\n",
      "Training at Epoch 20 iteration 200 with loss 0.36817. Total time 0.84111 hours\n",
      "Training at Epoch 20 iteration 300 with loss 0.10480. Total time 0.84444 hours\n",
      "Training at Epoch 20 iteration 400 with loss 0.20896. Total time 0.84777 hours\n",
      "Training at Epoch 20 iteration 500 with loss 0.24403. Total time 0.85111 hours\n",
      "Training at Epoch 20 iteration 600 with loss 0.38041. Total time 0.85472 hours\n",
      "Training at Epoch 20 iteration 700 with loss 0.07711. Total time 0.85805 hours\n",
      "Training at Epoch 20 iteration 800 with loss 0.35836. Total time 0.86138 hours\n",
      "Training at Epoch 20 iteration 900 with loss 0.22110. Total time 0.86472 hours\n",
      "Training at Epoch 20 iteration 1000 with loss 0.16635. Total time 0.86805 hours\n",
      "Training at Epoch 20 iteration 1100 with loss 0.28767. Total time 0.87138 hours\n",
      "Validation at Epoch 20 , AUROC: 0.65776 , AUPRC: 0.67912 , F1: 0.52652\n",
      "Training at Epoch 21 iteration 0 with loss 0.51103. Total time 0.87722 hours\n",
      "Training at Epoch 21 iteration 100 with loss 0.29860. Total time 0.88055 hours\n",
      "Training at Epoch 21 iteration 200 with loss 0.38898. Total time 0.88416 hours\n",
      "Training at Epoch 21 iteration 300 with loss 0.40883. Total time 0.8875 hours\n",
      "Training at Epoch 21 iteration 400 with loss 0.10883. Total time 0.89083 hours\n",
      "Training at Epoch 21 iteration 500 with loss 0.11999. Total time 0.89416 hours\n",
      "Training at Epoch 21 iteration 600 with loss 0.23660. Total time 0.8975 hours\n",
      "Training at Epoch 21 iteration 700 with loss 0.13749. Total time 0.90083 hours\n",
      "Training at Epoch 21 iteration 800 with loss 0.12944. Total time 0.90416 hours\n",
      "Training at Epoch 21 iteration 900 with loss 0.14507. Total time 0.9075 hours\n",
      "Training at Epoch 21 iteration 1000 with loss 0.38895. Total time 0.91083 hours\n",
      "Training at Epoch 21 iteration 1100 with loss 0.22433. Total time 0.91416 hours\n",
      "Validation at Epoch 21 , AUROC: 0.64905 , AUPRC: 0.67431 , F1: 0.43627\n",
      "--- Go for Testing ---\n",
      "Up to Epoch 20 Testing AUROC: 0.7430646498198951 , AUPRC: 0.7814522830947588 , F1: 0.5793103448275861\n",
      "Training at Epoch 22 iteration 0 with loss 0.26575. Total time 0.92222 hours\n",
      "Training at Epoch 22 iteration 100 with loss 0.27012. Total time 0.92555 hours\n",
      "Training at Epoch 22 iteration 200 with loss 0.38606. Total time 0.92888 hours\n",
      "Training at Epoch 22 iteration 300 with loss 0.30551. Total time 0.93222 hours\n",
      "Training at Epoch 22 iteration 400 with loss 0.28285. Total time 0.93555 hours\n",
      "Training at Epoch 22 iteration 500 with loss 0.21857. Total time 0.93888 hours\n",
      "Training at Epoch 22 iteration 600 with loss 0.26685. Total time 0.94222 hours\n",
      "Training at Epoch 22 iteration 700 with loss 0.34893. Total time 0.94555 hours\n",
      "Training at Epoch 22 iteration 800 with loss 0.25681. Total time 0.94888 hours\n",
      "Training at Epoch 22 iteration 900 with loss 0.22913. Total time 0.95222 hours\n",
      "Training at Epoch 22 iteration 1000 with loss 0.29523. Total time 0.95555 hours\n",
      "Training at Epoch 22 iteration 1100 with loss 0.35588. Total time 0.95916 hours\n",
      "Validation at Epoch 22 , AUROC: 0.65236 , AUPRC: 0.67872 , F1: 0.46339\n",
      "Training at Epoch 23 iteration 0 with loss 0.12716. Total time 0.965 hours\n",
      "Training at Epoch 23 iteration 100 with loss 0.23371. Total time 0.96833 hours\n",
      "Training at Epoch 23 iteration 200 with loss 0.23619. Total time 0.97166 hours\n",
      "Training at Epoch 23 iteration 300 with loss 0.19515. Total time 0.975 hours\n",
      "Training at Epoch 23 iteration 400 with loss 0.27892. Total time 0.97833 hours\n",
      "Training at Epoch 23 iteration 500 with loss 0.18797. Total time 0.98166 hours\n",
      "Training at Epoch 23 iteration 600 with loss 0.17575. Total time 0.985 hours\n",
      "Training at Epoch 23 iteration 700 with loss 0.20594. Total time 0.98833 hours\n",
      "Training at Epoch 23 iteration 800 with loss 0.28650. Total time 0.99166 hours\n",
      "Training at Epoch 23 iteration 900 with loss 0.12742. Total time 0.995 hours\n",
      "Training at Epoch 23 iteration 1000 with loss 0.23151. Total time 0.99861 hours\n",
      "Training at Epoch 23 iteration 1100 with loss 0.32463. Total time 1.00194 hours\n",
      "Validation at Epoch 23 , AUROC: 0.64964 , AUPRC: 0.67613 , F1: 0.48429\n",
      "Training at Epoch 24 iteration 0 with loss 0.38716. Total time 1.00777 hours\n",
      "Training at Epoch 24 iteration 100 with loss 0.13346. Total time 1.01111 hours\n",
      "Training at Epoch 24 iteration 200 with loss 0.52676. Total time 1.01444 hours\n",
      "Training at Epoch 24 iteration 300 with loss 0.16220. Total time 1.01777 hours\n",
      "Training at Epoch 24 iteration 400 with loss 0.12242. Total time 1.02111 hours\n",
      "Training at Epoch 24 iteration 500 with loss 0.43066. Total time 1.02472 hours\n",
      "Training at Epoch 24 iteration 600 with loss 0.15223. Total time 1.02805 hours\n",
      "Training at Epoch 24 iteration 700 with loss 0.18305. Total time 1.03138 hours\n",
      "Training at Epoch 24 iteration 800 with loss 0.18183. Total time 1.03472 hours\n",
      "Training at Epoch 24 iteration 900 with loss 0.19075. Total time 1.03805 hours\n",
      "Training at Epoch 24 iteration 1000 with loss 0.16012. Total time 1.04138 hours\n",
      "Training at Epoch 24 iteration 1100 with loss 0.19350. Total time 1.04472 hours\n",
      "Validation at Epoch 24 , AUROC: 0.65084 , AUPRC: 0.67801 , F1: 0.49935\n",
      "Training at Epoch 25 iteration 0 with loss 0.21189. Total time 1.05055 hours\n",
      "Training at Epoch 25 iteration 100 with loss 0.29649. Total time 1.05388 hours\n",
      "Training at Epoch 25 iteration 200 with loss 0.27918. Total time 1.05722 hours\n",
      "Training at Epoch 25 iteration 300 with loss 0.30623. Total time 1.06083 hours\n",
      "Training at Epoch 25 iteration 400 with loss 0.31541. Total time 1.06416 hours\n",
      "Training at Epoch 25 iteration 500 with loss 0.19144. Total time 1.0675 hours\n",
      "Training at Epoch 25 iteration 600 with loss 0.23971. Total time 1.07083 hours\n",
      "Training at Epoch 25 iteration 700 with loss 0.32006. Total time 1.07416 hours\n",
      "Training at Epoch 25 iteration 800 with loss 0.27892. Total time 1.0775 hours\n",
      "Training at Epoch 25 iteration 900 with loss 0.19251. Total time 1.08083 hours\n",
      "Training at Epoch 25 iteration 1000 with loss 0.40146. Total time 1.08416 hours\n",
      "Training at Epoch 25 iteration 1100 with loss 0.23681. Total time 1.0875 hours\n",
      "Validation at Epoch 25 , AUROC: 0.65638 , AUPRC: 0.68545 , F1: 0.56041\n",
      "Training at Epoch 26 iteration 0 with loss 0.31796. Total time 1.09333 hours\n",
      "Training at Epoch 26 iteration 100 with loss 0.40991. Total time 1.09666 hours\n",
      "Training at Epoch 26 iteration 200 with loss 0.21936. Total time 1.10027 hours\n",
      "Training at Epoch 26 iteration 300 with loss 0.19214. Total time 1.10361 hours\n",
      "Training at Epoch 26 iteration 400 with loss 0.51001. Total time 1.10694 hours\n",
      "Training at Epoch 26 iteration 500 with loss 0.13392. Total time 1.11027 hours\n",
      "Training at Epoch 26 iteration 600 with loss 0.40191. Total time 1.11361 hours\n",
      "Training at Epoch 26 iteration 700 with loss 0.11755. Total time 1.11694 hours\n",
      "Training at Epoch 26 iteration 800 with loss 0.16365. Total time 1.12027 hours\n",
      "Training at Epoch 26 iteration 900 with loss 0.13800. Total time 1.12361 hours\n",
      "Training at Epoch 26 iteration 1000 with loss 0.14452. Total time 1.12694 hours\n",
      "Training at Epoch 26 iteration 1100 with loss 0.15863. Total time 1.13027 hours\n",
      "Validation at Epoch 26 , AUROC: 0.64424 , AUPRC: 0.67003 , F1: 0.45099\n",
      "--- Go for Testing ---\n",
      "Up to Epoch 25 Testing AUROC: 0.7401034717578798 , AUPRC: 0.7801919769140817 , F1: 0.5981178110840014\n",
      "Training at Epoch 27 iteration 0 with loss 0.27392. Total time 1.13833 hours\n",
      "Training at Epoch 27 iteration 100 with loss 0.20981. Total time 1.14166 hours\n",
      "Training at Epoch 27 iteration 200 with loss 0.25466. Total time 1.145 hours\n",
      "Training at Epoch 27 iteration 300 with loss 0.11802. Total time 1.14833 hours\n",
      "Training at Epoch 27 iteration 400 with loss 0.30912. Total time 1.15166 hours\n",
      "Training at Epoch 27 iteration 500 with loss 0.35764. Total time 1.155 hours\n",
      "Training at Epoch 27 iteration 600 with loss 0.04973. Total time 1.15833 hours\n",
      "Training at Epoch 27 iteration 700 with loss 0.38148. Total time 1.16166 hours\n",
      "Training at Epoch 27 iteration 800 with loss 0.29338. Total time 1.165 hours\n",
      "Training at Epoch 27 iteration 900 with loss 0.41979. Total time 1.16861 hours\n",
      "Training at Epoch 27 iteration 1000 with loss 0.25867. Total time 1.17194 hours\n",
      "Training at Epoch 27 iteration 1100 with loss 0.15919. Total time 1.17527 hours\n",
      "Validation at Epoch 27 , AUROC: 0.65272 , AUPRC: 0.67911 , F1: 0.51807\n",
      "Training at Epoch 28 iteration 0 with loss 0.13494. Total time 1.18111 hours\n",
      "Training at Epoch 28 iteration 100 with loss 0.22477. Total time 1.18444 hours\n",
      "Training at Epoch 28 iteration 200 with loss 0.36112. Total time 1.18777 hours\n",
      "Training at Epoch 28 iteration 300 with loss 0.15374. Total time 1.19138 hours\n",
      "Training at Epoch 28 iteration 400 with loss 0.19374. Total time 1.19472 hours\n",
      "Training at Epoch 28 iteration 500 with loss 0.28314. Total time 1.19805 hours\n",
      "Training at Epoch 28 iteration 600 with loss 0.41825. Total time 1.20138 hours\n",
      "Training at Epoch 28 iteration 700 with loss 0.33256. Total time 1.20472 hours\n",
      "Training at Epoch 28 iteration 800 with loss 0.53397. Total time 1.20805 hours\n",
      "Training at Epoch 28 iteration 900 with loss 0.20008. Total time 1.21138 hours\n",
      "Training at Epoch 28 iteration 1000 with loss 0.12509. Total time 1.21472 hours\n",
      "Training at Epoch 28 iteration 1100 with loss 0.16291. Total time 1.21805 hours\n",
      "Validation at Epoch 28 , AUROC: 0.65534 , AUPRC: 0.68491 , F1: 0.56108\n",
      "Training at Epoch 29 iteration 0 with loss 0.21482. Total time 1.22416 hours\n",
      "Training at Epoch 29 iteration 100 with loss 0.15256. Total time 1.2275 hours\n",
      "Training at Epoch 29 iteration 200 with loss 0.07876. Total time 1.23083 hours\n",
      "Training at Epoch 29 iteration 300 with loss 0.16899. Total time 1.23416 hours\n",
      "Training at Epoch 29 iteration 400 with loss 0.18386. Total time 1.2375 hours\n",
      "Training at Epoch 29 iteration 500 with loss 0.11613. Total time 1.24083 hours\n",
      "Training at Epoch 29 iteration 600 with loss 0.15001. Total time 1.24416 hours\n",
      "Training at Epoch 29 iteration 700 with loss 0.21221. Total time 1.2475 hours\n",
      "Training at Epoch 29 iteration 800 with loss 0.24893. Total time 1.25083 hours\n",
      "Training at Epoch 29 iteration 900 with loss 0.34122. Total time 1.25416 hours\n",
      "Training at Epoch 29 iteration 1000 with loss 0.13354. Total time 1.2575 hours\n",
      "Training at Epoch 29 iteration 1100 with loss 0.35843. Total time 1.26083 hours\n",
      "Validation at Epoch 29 , AUROC: 0.64294 , AUPRC: 0.67332 , F1: 0.51255\n",
      "Training at Epoch 30 iteration 0 with loss 0.13849. Total time 1.26694 hours\n",
      "Training at Epoch 30 iteration 100 with loss 0.17041. Total time 1.27027 hours\n",
      "Training at Epoch 30 iteration 200 with loss 0.25830. Total time 1.27361 hours\n",
      "Training at Epoch 30 iteration 300 with loss 0.26573. Total time 1.27694 hours\n",
      "Training at Epoch 30 iteration 400 with loss 0.29064. Total time 1.28027 hours\n",
      "Training at Epoch 30 iteration 500 with loss 0.19713. Total time 1.28361 hours\n",
      "Training at Epoch 30 iteration 600 with loss 0.17539. Total time 1.28694 hours\n",
      "Training at Epoch 30 iteration 700 with loss 0.10232. Total time 1.29027 hours\n",
      "Training at Epoch 30 iteration 800 with loss 0.26757. Total time 1.29361 hours\n",
      "Training at Epoch 30 iteration 900 with loss 0.23479. Total time 1.29694 hours\n",
      "Training at Epoch 30 iteration 1000 with loss 0.15736. Total time 1.30027 hours\n",
      "Training at Epoch 30 iteration 1100 with loss 0.16543. Total time 1.30361 hours\n",
      "Validation at Epoch 30 , AUROC: 0.65223 , AUPRC: 0.68279 , F1: 0.54183\n",
      "--- Go for Testing ---\n",
      "Testing AUROC: 0.7462461444598854 , AUPRC: 0.7888649053361306 , F1: 0.650375939849624\n",
      "--- Training Finished ---\n",
      "predicting...\n",
      "predicting...\n",
      "Results Saved\n",
      "in total: 37119 drug-target pairs\n",
      "encoding drug...\n",
      "unique drugs: 7249\n",
      "rdkit not found this smiles for morgan: nan convert to all 1 features\n"
     ]
    },
    {
     "name": "stderr",
     "output_type": "stream",
     "text": [
      "RDKit WARNING: [11:42:41] Conflicting single bond directions around double bond at index 1.\n",
      "RDKit WARNING: [11:42:41]   BondStereo set to STEREONONE and single bond directions set to NONE.\n"
     ]
    },
    {
     "name": "stdout",
     "output_type": "stream",
     "text": [
      "drug encoding finished...\n",
      "encoding protein...\n",
      "unique target sequence: 3547\n",
      "protein encoding finished...\n",
      "splitting dataset...\n",
      "Done.\n",
      "in total: 6184 drug-target pairs\n",
      "encoding drug...\n",
      "unique drugs: 2657\n",
      "rdkit not found this smiles for morgan: nan convert to all 1 features\n",
      "drug encoding finished...\n",
      "encoding protein...\n",
      "unique target sequence: 924\n",
      "protein encoding finished...\n",
      "splitting dataset...\n",
      "Done.\n",
      "in total: 3785 drug-target pairs\n",
      "encoding drug...\n",
      "unique drugs: 2223\n",
      "rdkit not found this smiles for morgan: nan convert to all 1 features\n",
      "drug encoding finished...\n",
      "encoding protein...\n",
      "unique target sequence: 1580\n",
      "protein encoding finished...\n",
      "splitting dataset...\n",
      "Done.\n",
      "Let's use 1 GPU!\n",
      "--- Data Preparation ---\n",
      "--- Go for Training ---\n",
      "Training at Epoch 1 iteration 0 with loss 0.68947. Total time 0.0 hours\n",
      "Training at Epoch 1 iteration 100 with loss 0.69207. Total time 0.00333 hours\n",
      "Training at Epoch 1 iteration 200 with loss 0.62913. Total time 0.00666 hours\n",
      "Training at Epoch 1 iteration 300 with loss 0.64245. Total time 0.01 hours\n",
      "Training at Epoch 1 iteration 400 with loss 0.64757. Total time 0.01333 hours\n",
      "Training at Epoch 1 iteration 500 with loss 0.56419. Total time 0.01666 hours\n",
      "Training at Epoch 1 iteration 600 with loss 0.65879. Total time 0.02 hours\n",
      "Training at Epoch 1 iteration 700 with loss 0.59302. Total time 0.02333 hours\n",
      "Training at Epoch 1 iteration 800 with loss 0.64750. Total time 0.02666 hours\n",
      "Training at Epoch 1 iteration 900 with loss 0.61433. Total time 0.03 hours\n",
      "Training at Epoch 1 iteration 1000 with loss 0.59149. Total time 0.03333 hours\n",
      "Training at Epoch 1 iteration 1100 with loss 0.63675. Total time 0.03666 hours\n",
      "Validation at Epoch 1 , AUROC: 0.50789 , AUPRC: 0.45046 , F1: 0.04310\n",
      "Training at Epoch 2 iteration 0 with loss 0.55761. Total time 0.04222 hours\n",
      "Training at Epoch 2 iteration 100 with loss 0.52046. Total time 0.04555 hours\n",
      "Training at Epoch 2 iteration 200 with loss 0.63242. Total time 0.04888 hours\n",
      "Training at Epoch 2 iteration 300 with loss 0.60898. Total time 0.05222 hours\n",
      "Training at Epoch 2 iteration 400 with loss 0.60767. Total time 0.05555 hours\n",
      "Training at Epoch 2 iteration 500 with loss 0.45433. Total time 0.05888 hours\n",
      "Training at Epoch 2 iteration 600 with loss 0.71753. Total time 0.06222 hours\n",
      "Training at Epoch 2 iteration 700 with loss 0.67628. Total time 0.06555 hours\n",
      "Training at Epoch 2 iteration 800 with loss 0.58597. Total time 0.06888 hours\n",
      "Training at Epoch 2 iteration 900 with loss 0.63965. Total time 0.07222 hours\n",
      "Training at Epoch 2 iteration 1000 with loss 0.63421. Total time 0.07555 hours\n",
      "Training at Epoch 2 iteration 1100 with loss 0.51494. Total time 0.07888 hours\n",
      "Validation at Epoch 2 , AUROC: 0.54956 , AUPRC: 0.48030 , F1: 0.20590\n",
      "Training at Epoch 3 iteration 0 with loss 0.41857. Total time 0.08444 hours\n",
      "Training at Epoch 3 iteration 100 with loss 0.52141. Total time 0.08777 hours\n",
      "Training at Epoch 3 iteration 200 with loss 0.60549. Total time 0.09111 hours\n",
      "Training at Epoch 3 iteration 300 with loss 0.69148. Total time 0.09444 hours\n",
      "Training at Epoch 3 iteration 400 with loss 0.50320. Total time 0.09777 hours\n",
      "Training at Epoch 3 iteration 500 with loss 0.48794. Total time 0.10111 hours\n",
      "Training at Epoch 3 iteration 600 with loss 0.61444. Total time 0.10444 hours\n",
      "Training at Epoch 3 iteration 700 with loss 0.37014. Total time 0.10777 hours\n",
      "Training at Epoch 3 iteration 800 with loss 0.40303. Total time 0.11111 hours\n",
      "Training at Epoch 3 iteration 900 with loss 0.48338. Total time 0.11444 hours\n",
      "Training at Epoch 3 iteration 1000 with loss 0.32291. Total time 0.11777 hours\n",
      "Training at Epoch 3 iteration 1100 with loss 0.33668. Total time 0.12111 hours\n",
      "Validation at Epoch 3 , AUROC: 0.63620 , AUPRC: 0.54730 , F1: 0.42853\n",
      "Training at Epoch 4 iteration 0 with loss 0.51199. Total time 0.12666 hours\n",
      "Training at Epoch 4 iteration 100 with loss 0.37118. Total time 0.13 hours\n",
      "Training at Epoch 4 iteration 200 with loss 0.57647. Total time 0.13333 hours\n",
      "Training at Epoch 4 iteration 300 with loss 0.49867. Total time 0.13666 hours\n",
      "Training at Epoch 4 iteration 400 with loss 0.49014. Total time 0.14 hours\n",
      "Training at Epoch 4 iteration 500 with loss 0.40234. Total time 0.14333 hours\n",
      "Training at Epoch 4 iteration 600 with loss 0.66726. Total time 0.14666 hours\n",
      "Training at Epoch 4 iteration 700 with loss 0.46527. Total time 0.15 hours\n",
      "Training at Epoch 4 iteration 800 with loss 0.45344. Total time 0.15333 hours\n",
      "Training at Epoch 4 iteration 900 with loss 0.49361. Total time 0.15666 hours\n",
      "Training at Epoch 4 iteration 1000 with loss 0.51449. Total time 0.16 hours\n",
      "Training at Epoch 4 iteration 1100 with loss 0.34451. Total time 0.16333 hours\n",
      "Validation at Epoch 4 , AUROC: 0.64925 , AUPRC: 0.56961 , F1: 0.35379\n",
      "Training at Epoch 5 iteration 0 with loss 0.39180. Total time 0.16888 hours\n",
      "Training at Epoch 5 iteration 100 with loss 0.30515. Total time 0.17222 hours\n",
      "Training at Epoch 5 iteration 200 with loss 0.34117. Total time 0.17555 hours\n",
      "Training at Epoch 5 iteration 300 with loss 0.49137. Total time 0.17888 hours\n",
      "Training at Epoch 5 iteration 400 with loss 0.45890. Total time 0.18222 hours\n",
      "Training at Epoch 5 iteration 500 with loss 0.45175. Total time 0.18555 hours\n",
      "Training at Epoch 5 iteration 600 with loss 0.53194. Total time 0.18888 hours\n",
      "Training at Epoch 5 iteration 700 with loss 0.29371. Total time 0.19222 hours\n",
      "Training at Epoch 5 iteration 800 with loss 0.53211. Total time 0.19555 hours\n",
      "Training at Epoch 5 iteration 900 with loss 0.29618. Total time 0.19888 hours\n",
      "Training at Epoch 5 iteration 1000 with loss 0.25926. Total time 0.20222 hours\n",
      "Training at Epoch 5 iteration 1100 with loss 0.50096. Total time 0.20555 hours\n",
      "Validation at Epoch 5 , AUROC: 0.65067 , AUPRC: 0.56669 , F1: 0.48550\n",
      "Training at Epoch 6 iteration 0 with loss 0.77610. Total time 0.21111 hours\n",
      "Training at Epoch 6 iteration 100 with loss 0.31346. Total time 0.21444 hours\n",
      "Training at Epoch 6 iteration 200 with loss 0.43370. Total time 0.21777 hours\n",
      "Training at Epoch 6 iteration 300 with loss 0.28105. Total time 0.22111 hours\n",
      "Training at Epoch 6 iteration 400 with loss 0.34402. Total time 0.22444 hours\n",
      "Training at Epoch 6 iteration 500 with loss 0.24160. Total time 0.22777 hours\n",
      "Training at Epoch 6 iteration 600 with loss 0.49781. Total time 0.23111 hours\n",
      "Training at Epoch 6 iteration 700 with loss 0.29159. Total time 0.23444 hours\n",
      "Training at Epoch 6 iteration 800 with loss 0.51678. Total time 0.23777 hours\n",
      "Training at Epoch 6 iteration 900 with loss 0.36435. Total time 0.24111 hours\n",
      "Training at Epoch 6 iteration 1000 with loss 0.57865. Total time 0.24444 hours\n",
      "Training at Epoch 6 iteration 1100 with loss 0.51410. Total time 0.24777 hours\n",
      "Validation at Epoch 6 , AUROC: 0.64469 , AUPRC: 0.56529 , F1: 0.43189\n",
      "--- Go for Testing ---\n",
      "Up to Epoch 5 Testing AUROC: 0.7713323426443577 , AUPRC: 0.7862147784151949 , F1: 0.6391947153192828\n",
      "Training at Epoch 7 iteration 0 with loss 0.40064. Total time 0.25555 hours\n",
      "Training at Epoch 7 iteration 100 with loss 0.42271. Total time 0.25888 hours\n",
      "Training at Epoch 7 iteration 200 with loss 0.4348. Total time 0.26222 hours\n",
      "Training at Epoch 7 iteration 300 with loss 0.39407. Total time 0.26555 hours\n",
      "Training at Epoch 7 iteration 400 with loss 0.31286. Total time 0.26888 hours\n",
      "Training at Epoch 7 iteration 500 with loss 0.26348. Total time 0.27222 hours\n",
      "Training at Epoch 7 iteration 600 with loss 0.29730. Total time 0.27555 hours\n",
      "Training at Epoch 7 iteration 700 with loss 0.63404. Total time 0.27888 hours\n",
      "Training at Epoch 7 iteration 800 with loss 0.57877. Total time 0.28222 hours\n",
      "Training at Epoch 7 iteration 900 with loss 0.43909. Total time 0.28555 hours\n",
      "Training at Epoch 7 iteration 1000 with loss 0.34486. Total time 0.28888 hours\n",
      "Training at Epoch 7 iteration 1100 with loss 0.27941. Total time 0.29222 hours\n",
      "Validation at Epoch 7 , AUROC: 0.63988 , AUPRC: 0.56255 , F1: 0.45430\n",
      "Training at Epoch 8 iteration 0 with loss 0.42680. Total time 0.29777 hours\n",
      "Training at Epoch 8 iteration 100 with loss 0.36378. Total time 0.30111 hours\n",
      "Training at Epoch 8 iteration 200 with loss 0.34851. Total time 0.30444 hours\n",
      "Training at Epoch 8 iteration 300 with loss 0.43664. Total time 0.30777 hours\n",
      "Training at Epoch 8 iteration 400 with loss 0.36501. Total time 0.31111 hours\n",
      "Training at Epoch 8 iteration 500 with loss 0.32786. Total time 0.31444 hours\n",
      "Training at Epoch 8 iteration 600 with loss 0.51604. Total time 0.31777 hours\n",
      "Training at Epoch 8 iteration 700 with loss 0.49300. Total time 0.32111 hours\n",
      "Training at Epoch 8 iteration 800 with loss 0.42497. Total time 0.32444 hours\n",
      "Training at Epoch 8 iteration 900 with loss 0.51315. Total time 0.32777 hours\n",
      "Training at Epoch 8 iteration 1000 with loss 0.57155. Total time 0.33111 hours\n",
      "Training at Epoch 8 iteration 1100 with loss 0.24873. Total time 0.33444 hours\n",
      "Validation at Epoch 8 , AUROC: 0.63192 , AUPRC: 0.55897 , F1: 0.27272\n",
      "Training at Epoch 9 iteration 0 with loss 0.11667. Total time 0.34 hours\n",
      "Training at Epoch 9 iteration 100 with loss 0.45692. Total time 0.34333 hours\n",
      "Training at Epoch 9 iteration 200 with loss 0.21288. Total time 0.34666 hours\n",
      "Training at Epoch 9 iteration 300 with loss 0.36774. Total time 0.35 hours\n",
      "Training at Epoch 9 iteration 400 with loss 0.32508. Total time 0.35333 hours\n",
      "Training at Epoch 9 iteration 500 with loss 0.34928. Total time 0.35666 hours\n",
      "Training at Epoch 9 iteration 600 with loss 0.27322. Total time 0.36 hours\n",
      "Training at Epoch 9 iteration 700 with loss 0.28969. Total time 0.36333 hours\n",
      "Training at Epoch 9 iteration 800 with loss 0.16582. Total time 0.36666 hours\n",
      "Training at Epoch 9 iteration 900 with loss 0.53625. Total time 0.37 hours\n",
      "Training at Epoch 9 iteration 1000 with loss 0.27578. Total time 0.37333 hours\n",
      "Training at Epoch 9 iteration 1100 with loss 0.24958. Total time 0.37666 hours\n",
      "Validation at Epoch 9 , AUROC: 0.62759 , AUPRC: 0.55502 , F1: 0.39971\n",
      "Training at Epoch 10 iteration 0 with loss 0.20810. Total time 0.38222 hours\n",
      "Training at Epoch 10 iteration 100 with loss 0.26874. Total time 0.38555 hours\n",
      "Training at Epoch 10 iteration 200 with loss 0.31123. Total time 0.38888 hours\n",
      "Training at Epoch 10 iteration 300 with loss 0.27273. Total time 0.39222 hours\n",
      "Training at Epoch 10 iteration 400 with loss 0.27426. Total time 0.39555 hours\n",
      "Training at Epoch 10 iteration 500 with loss 0.41425. Total time 0.39888 hours\n",
      "Training at Epoch 10 iteration 600 with loss 0.18251. Total time 0.40222 hours\n",
      "Training at Epoch 10 iteration 700 with loss 0.40032. Total time 0.40555 hours\n",
      "Training at Epoch 10 iteration 800 with loss 0.41223. Total time 0.40888 hours\n",
      "Training at Epoch 10 iteration 900 with loss 0.38636. Total time 0.41222 hours\n",
      "Training at Epoch 10 iteration 1000 with loss 0.24671. Total time 0.41555 hours\n",
      "Training at Epoch 10 iteration 1100 with loss 0.28386. Total time 0.41888 hours\n",
      "Validation at Epoch 10 , AUROC: 0.62082 , AUPRC: 0.55240 , F1: 0.42600\n",
      "Training at Epoch 11 iteration 0 with loss 0.41512. Total time 0.42444 hours\n",
      "Training at Epoch 11 iteration 100 with loss 0.42585. Total time 0.42777 hours\n",
      "Training at Epoch 11 iteration 200 with loss 0.30233. Total time 0.43111 hours\n",
      "Training at Epoch 11 iteration 300 with loss 0.24148. Total time 0.43444 hours\n",
      "Training at Epoch 11 iteration 400 with loss 0.24523. Total time 0.43777 hours\n",
      "Training at Epoch 11 iteration 500 with loss 0.52980. Total time 0.44111 hours\n",
      "Training at Epoch 11 iteration 600 with loss 0.22944. Total time 0.44444 hours\n",
      "Training at Epoch 11 iteration 700 with loss 0.41845. Total time 0.44777 hours\n",
      "Training at Epoch 11 iteration 800 with loss 0.31864. Total time 0.45111 hours\n",
      "Training at Epoch 11 iteration 900 with loss 0.16968. Total time 0.45444 hours\n",
      "Training at Epoch 11 iteration 1000 with loss 0.15993. Total time 0.45777 hours\n",
      "Training at Epoch 11 iteration 1100 with loss 0.25420. Total time 0.46111 hours\n",
      "Validation at Epoch 11 , AUROC: 0.60896 , AUPRC: 0.54206 , F1: 0.42770\n",
      "--- Go for Testing ---\n",
      "Up to Epoch 10 Testing AUROC: 0.7789808636194326 , AUPRC: 0.8059122890010713 , F1: 0.6734571599760335\n",
      "Training at Epoch 12 iteration 0 with loss 0.16942. Total time 0.46888 hours\n",
      "Training at Epoch 12 iteration 100 with loss 0.31991. Total time 0.47222 hours\n",
      "Training at Epoch 12 iteration 200 with loss 0.12487. Total time 0.47555 hours\n",
      "Training at Epoch 12 iteration 300 with loss 0.50348. Total time 0.47888 hours\n",
      "Training at Epoch 12 iteration 400 with loss 0.26615. Total time 0.48222 hours\n",
      "Training at Epoch 12 iteration 500 with loss 0.19763. Total time 0.48555 hours\n",
      "Training at Epoch 12 iteration 600 with loss 0.23748. Total time 0.48888 hours\n",
      "Training at Epoch 12 iteration 700 with loss 0.46160. Total time 0.49222 hours\n",
      "Training at Epoch 12 iteration 800 with loss 0.17354. Total time 0.49555 hours\n",
      "Training at Epoch 12 iteration 900 with loss 0.10788. Total time 0.49888 hours\n",
      "Training at Epoch 12 iteration 1000 with loss 0.47038. Total time 0.50222 hours\n",
      "Training at Epoch 12 iteration 1100 with loss 0.24474. Total time 0.50555 hours\n",
      "Validation at Epoch 12 , AUROC: 0.60677 , AUPRC: 0.54004 , F1: 0.42407\n",
      "Training at Epoch 13 iteration 0 with loss 0.33558. Total time 0.51083 hours\n",
      "Training at Epoch 13 iteration 100 with loss 0.23973. Total time 0.51416 hours\n",
      "Training at Epoch 13 iteration 200 with loss 0.28969. Total time 0.51777 hours\n",
      "Training at Epoch 13 iteration 300 with loss 0.35777. Total time 0.52111 hours\n",
      "Training at Epoch 13 iteration 400 with loss 0.18863. Total time 0.52444 hours\n",
      "Training at Epoch 13 iteration 500 with loss 0.33084. Total time 0.52777 hours\n",
      "Training at Epoch 13 iteration 600 with loss 0.20379. Total time 0.53111 hours\n",
      "Training at Epoch 13 iteration 700 with loss 0.26830. Total time 0.53444 hours\n",
      "Training at Epoch 13 iteration 800 with loss 0.27225. Total time 0.53777 hours\n",
      "Training at Epoch 13 iteration 900 with loss 0.17702. Total time 0.54111 hours\n",
      "Training at Epoch 13 iteration 1000 with loss 0.29527. Total time 0.54444 hours\n",
      "Training at Epoch 13 iteration 1100 with loss 0.35283. Total time 0.54777 hours\n",
      "Validation at Epoch 13 , AUROC: 0.60070 , AUPRC: 0.53465 , F1: 0.42584\n",
      "Training at Epoch 14 iteration 0 with loss 0.19005. Total time 0.55305 hours\n",
      "Training at Epoch 14 iteration 100 with loss 0.37070. Total time 0.55638 hours\n",
      "Training at Epoch 14 iteration 200 with loss 0.57281. Total time 0.56 hours\n",
      "Training at Epoch 14 iteration 300 with loss 0.31376. Total time 0.56333 hours\n",
      "Training at Epoch 14 iteration 400 with loss 0.26193. Total time 0.56666 hours\n",
      "Training at Epoch 14 iteration 500 with loss 0.28852. Total time 0.57 hours\n",
      "Training at Epoch 14 iteration 600 with loss 0.34512. Total time 0.57333 hours\n",
      "Training at Epoch 14 iteration 700 with loss 0.16770. Total time 0.57666 hours\n",
      "Training at Epoch 14 iteration 800 with loss 0.16398. Total time 0.58 hours\n",
      "Training at Epoch 14 iteration 900 with loss 0.53395. Total time 0.58333 hours\n",
      "Training at Epoch 14 iteration 1000 with loss 0.30862. Total time 0.58666 hours\n",
      "Training at Epoch 14 iteration 1100 with loss 0.27500. Total time 0.59 hours\n",
      "Validation at Epoch 14 , AUROC: 0.60008 , AUPRC: 0.53619 , F1: 0.44007\n",
      "Training at Epoch 15 iteration 0 with loss 0.36969. Total time 0.59527 hours\n",
      "Training at Epoch 15 iteration 100 with loss 0.23359. Total time 0.59861 hours\n",
      "Training at Epoch 15 iteration 200 with loss 0.10587. Total time 0.60222 hours\n",
      "Training at Epoch 15 iteration 300 with loss 0.18906. Total time 0.60555 hours\n",
      "Training at Epoch 15 iteration 400 with loss 0.22173. Total time 0.60888 hours\n",
      "Training at Epoch 15 iteration 500 with loss 0.13103. Total time 0.61222 hours\n",
      "Training at Epoch 15 iteration 600 with loss 0.19147. Total time 0.61555 hours\n",
      "Training at Epoch 15 iteration 700 with loss 0.47706. Total time 0.61888 hours\n",
      "Training at Epoch 15 iteration 800 with loss 0.24886. Total time 0.62222 hours\n",
      "Training at Epoch 15 iteration 900 with loss 0.28293. Total time 0.62555 hours\n",
      "Training at Epoch 15 iteration 1000 with loss 0.26632. Total time 0.62888 hours\n",
      "Training at Epoch 15 iteration 1100 with loss 0.23787. Total time 0.63222 hours\n",
      "Validation at Epoch 15 , AUROC: 0.59317 , AUPRC: 0.52920 , F1: 0.36350\n",
      "Training at Epoch 16 iteration 0 with loss 0.26034. Total time 0.6375 hours\n",
      "Training at Epoch 16 iteration 100 with loss 0.22997. Total time 0.64083 hours\n",
      "Training at Epoch 16 iteration 200 with loss 0.12408. Total time 0.64416 hours\n",
      "Training at Epoch 16 iteration 300 with loss 0.32848. Total time 0.6475 hours\n",
      "Training at Epoch 16 iteration 400 with loss 0.31417. Total time 0.65111 hours\n",
      "Training at Epoch 16 iteration 500 with loss 0.27144. Total time 0.65444 hours\n",
      "Training at Epoch 16 iteration 600 with loss 0.42191. Total time 0.65777 hours\n",
      "Training at Epoch 16 iteration 700 with loss 0.42977. Total time 0.66111 hours\n",
      "Training at Epoch 16 iteration 800 with loss 0.17840. Total time 0.66444 hours\n",
      "Training at Epoch 16 iteration 900 with loss 0.24394. Total time 0.66777 hours\n",
      "Training at Epoch 16 iteration 1000 with loss 0.23682. Total time 0.67111 hours\n",
      "Training at Epoch 16 iteration 1100 with loss 0.29644. Total time 0.67444 hours\n",
      "Validation at Epoch 16 , AUROC: 0.59064 , AUPRC: 0.52842 , F1: 0.40202\n",
      "--- Go for Testing ---\n",
      "Up to Epoch 15 Testing AUROC: 0.7772195146740919 , AUPRC: 0.8062585144186148 , F1: 0.6707168894289186\n",
      "Training at Epoch 17 iteration 0 with loss 0.17288. Total time 0.68194 hours\n",
      "Training at Epoch 17 iteration 100 with loss 0.35751. Total time 0.68527 hours\n",
      "Training at Epoch 17 iteration 200 with loss 0.37373. Total time 0.68861 hours\n",
      "Training at Epoch 17 iteration 300 with loss 0.29278. Total time 0.69194 hours\n",
      "Training at Epoch 17 iteration 400 with loss 0.50011. Total time 0.69527 hours\n",
      "Training at Epoch 17 iteration 500 with loss 0.33317. Total time 0.69861 hours\n",
      "Training at Epoch 17 iteration 600 with loss 0.27069. Total time 0.70222 hours\n",
      "Training at Epoch 17 iteration 700 with loss 0.23921. Total time 0.70555 hours\n",
      "Training at Epoch 17 iteration 800 with loss 0.29785. Total time 0.70888 hours\n",
      "Training at Epoch 17 iteration 900 with loss 0.11622. Total time 0.71222 hours\n",
      "Training at Epoch 17 iteration 1000 with loss 0.43754. Total time 0.71555 hours\n",
      "Training at Epoch 17 iteration 1100 with loss 0.24734. Total time 0.71888 hours\n",
      "Validation at Epoch 17 , AUROC: 0.59331 , AUPRC: 0.53586 , F1: 0.38952\n",
      "Training at Epoch 18 iteration 0 with loss 0.31822. Total time 0.72416 hours\n",
      "Training at Epoch 18 iteration 100 with loss 0.25138. Total time 0.7275 hours\n",
      "Training at Epoch 18 iteration 200 with loss 0.36743. Total time 0.73083 hours\n",
      "Training at Epoch 18 iteration 300 with loss 0.34717. Total time 0.73416 hours\n",
      "Training at Epoch 18 iteration 400 with loss 0.11736. Total time 0.73777 hours\n",
      "Training at Epoch 18 iteration 500 with loss 0.31332. Total time 0.74111 hours\n",
      "Training at Epoch 18 iteration 600 with loss 0.33178. Total time 0.74444 hours\n",
      "Training at Epoch 18 iteration 700 with loss 0.31417. Total time 0.74777 hours\n",
      "Training at Epoch 18 iteration 800 with loss 0.28729. Total time 0.75111 hours\n",
      "Training at Epoch 18 iteration 900 with loss 0.43975. Total time 0.75444 hours\n",
      "Training at Epoch 18 iteration 1000 with loss 0.34312. Total time 0.75777 hours\n",
      "Training at Epoch 18 iteration 1100 with loss 0.36333. Total time 0.76111 hours\n",
      "Validation at Epoch 18 , AUROC: 0.58576 , AUPRC: 0.52705 , F1: 0.34119\n",
      "Training at Epoch 19 iteration 0 with loss 0.33762. Total time 0.76638 hours\n",
      "Training at Epoch 19 iteration 100 with loss 0.26757. Total time 0.76972 hours\n",
      "Training at Epoch 19 iteration 200 with loss 0.18886. Total time 0.77305 hours\n",
      "Training at Epoch 19 iteration 300 with loss 0.21536. Total time 0.77638 hours\n",
      "Training at Epoch 19 iteration 400 with loss 0.11292. Total time 0.77972 hours\n",
      "Training at Epoch 19 iteration 500 with loss 0.38954. Total time 0.78305 hours\n",
      "Training at Epoch 19 iteration 600 with loss 0.28698. Total time 0.78638 hours\n",
      "Training at Epoch 19 iteration 700 with loss 0.27094. Total time 0.78972 hours\n",
      "Training at Epoch 19 iteration 800 with loss 0.18270. Total time 0.79305 hours\n",
      "Training at Epoch 19 iteration 900 with loss 0.16399. Total time 0.79638 hours\n",
      "Training at Epoch 19 iteration 1000 with loss 0.17285. Total time 0.79972 hours\n",
      "Training at Epoch 19 iteration 1100 with loss 0.10263. Total time 0.80333 hours\n",
      "Validation at Epoch 19 , AUROC: 0.58354 , AUPRC: 0.52299 , F1: 0.31444\n",
      "Training at Epoch 20 iteration 0 with loss 0.44603. Total time 0.80861 hours\n",
      "Training at Epoch 20 iteration 100 with loss 0.17855. Total time 0.81194 hours\n",
      "Training at Epoch 20 iteration 200 with loss 0.23677. Total time 0.81527 hours\n",
      "Training at Epoch 20 iteration 300 with loss 0.25268. Total time 0.81861 hours\n",
      "Training at Epoch 20 iteration 400 with loss 0.43590. Total time 0.82194 hours\n",
      "Training at Epoch 20 iteration 500 with loss 0.47268. Total time 0.82527 hours\n",
      "Training at Epoch 20 iteration 600 with loss 0.24840. Total time 0.82861 hours\n",
      "Training at Epoch 20 iteration 700 with loss 0.28290. Total time 0.83194 hours\n",
      "Training at Epoch 20 iteration 800 with loss 0.27714. Total time 0.83527 hours\n",
      "Training at Epoch 20 iteration 900 with loss 0.33876. Total time 0.83888 hours\n",
      "Training at Epoch 20 iteration 1000 with loss 0.15601. Total time 0.84222 hours\n",
      "Training at Epoch 20 iteration 1100 with loss 0.32463. Total time 0.84555 hours\n",
      "Validation at Epoch 20 , AUROC: 0.58726 , AUPRC: 0.52677 , F1: 0.44525\n",
      "Training at Epoch 21 iteration 0 with loss 0.41051. Total time 0.85083 hours\n",
      "Training at Epoch 21 iteration 100 with loss 0.17453. Total time 0.85416 hours\n",
      "Training at Epoch 21 iteration 200 with loss 0.21361. Total time 0.8575 hours\n",
      "Training at Epoch 21 iteration 300 with loss 0.36672. Total time 0.86083 hours\n",
      "Training at Epoch 21 iteration 400 with loss 0.31869. Total time 0.86416 hours\n",
      "Training at Epoch 21 iteration 500 with loss 0.28511. Total time 0.8675 hours\n",
      "Training at Epoch 21 iteration 600 with loss 0.38731. Total time 0.87083 hours\n",
      "Training at Epoch 21 iteration 700 with loss 0.17260. Total time 0.87416 hours\n",
      "Training at Epoch 21 iteration 800 with loss 0.18250. Total time 0.8775 hours\n",
      "Training at Epoch 21 iteration 900 with loss 0.24899. Total time 0.88083 hours\n",
      "Training at Epoch 21 iteration 1000 with loss 0.21900. Total time 0.88416 hours\n",
      "Training at Epoch 21 iteration 1100 with loss 0.14692. Total time 0.8875 hours\n",
      "Validation at Epoch 21 , AUROC: 0.58056 , AUPRC: 0.52348 , F1: 0.40812\n",
      "--- Go for Testing ---\n",
      "Up to Epoch 20 Testing AUROC: 0.7738621177624279 , AUPRC: 0.8063571412575505 , F1: 0.6731001206272618\n",
      "Training at Epoch 22 iteration 0 with loss 0.18403. Total time 0.89527 hours\n",
      "Training at Epoch 22 iteration 100 with loss 0.30963. Total time 0.89861 hours\n",
      "Training at Epoch 22 iteration 200 with loss 0.43457. Total time 0.90194 hours\n",
      "Training at Epoch 22 iteration 300 with loss 0.25912. Total time 0.90527 hours\n",
      "Training at Epoch 22 iteration 400 with loss 0.18402. Total time 0.90861 hours\n",
      "Training at Epoch 22 iteration 500 with loss 0.25617. Total time 0.91194 hours\n",
      "Training at Epoch 22 iteration 600 with loss 0.47498. Total time 0.91527 hours\n",
      "Training at Epoch 22 iteration 700 with loss 0.26149. Total time 0.91861 hours\n",
      "Training at Epoch 22 iteration 800 with loss 0.16124. Total time 0.92194 hours\n",
      "Training at Epoch 22 iteration 900 with loss 0.55221. Total time 0.92527 hours\n",
      "Training at Epoch 22 iteration 1000 with loss 0.38707. Total time 0.92861 hours\n",
      "Training at Epoch 22 iteration 1100 with loss 0.24483. Total time 0.93194 hours\n",
      "Validation at Epoch 22 , AUROC: 0.57826 , AUPRC: 0.52270 , F1: 0.40498\n",
      "Training at Epoch 23 iteration 0 with loss 0.22353. Total time 0.9375 hours\n",
      "Training at Epoch 23 iteration 100 with loss 0.17742. Total time 0.94083 hours\n",
      "Training at Epoch 23 iteration 200 with loss 0.33663. Total time 0.94416 hours\n",
      "Training at Epoch 23 iteration 300 with loss 0.20408. Total time 0.9475 hours\n",
      "Training at Epoch 23 iteration 400 with loss 0.43262. Total time 0.95083 hours\n",
      "Training at Epoch 23 iteration 500 with loss 0.32293. Total time 0.95416 hours\n",
      "Training at Epoch 23 iteration 600 with loss 0.26757. Total time 0.9575 hours\n",
      "Training at Epoch 23 iteration 700 with loss 0.22444. Total time 0.96083 hours\n",
      "Training at Epoch 23 iteration 800 with loss 0.21016. Total time 0.96416 hours\n",
      "Training at Epoch 23 iteration 900 with loss 0.11036. Total time 0.9675 hours\n",
      "Training at Epoch 23 iteration 1000 with loss 0.06877. Total time 0.97083 hours\n",
      "Training at Epoch 23 iteration 1100 with loss 0.32582. Total time 0.97416 hours\n",
      "Validation at Epoch 23 , AUROC: 0.57519 , AUPRC: 0.52057 , F1: 0.38430\n",
      "Training at Epoch 24 iteration 0 with loss 0.12171. Total time 0.97972 hours\n",
      "Training at Epoch 24 iteration 100 with loss 0.16590. Total time 0.98305 hours\n",
      "Training at Epoch 24 iteration 200 with loss 0.20024. Total time 0.98638 hours\n",
      "Training at Epoch 24 iteration 300 with loss 0.24970. Total time 0.98972 hours\n",
      "Training at Epoch 24 iteration 400 with loss 0.37150. Total time 0.99305 hours\n",
      "Training at Epoch 24 iteration 500 with loss 0.29402. Total time 0.99638 hours\n",
      "Training at Epoch 24 iteration 600 with loss 0.26983. Total time 0.99972 hours\n",
      "Training at Epoch 24 iteration 700 with loss 0.30020. Total time 1.00305 hours\n",
      "Training at Epoch 24 iteration 800 with loss 0.34173. Total time 1.00638 hours\n",
      "Training at Epoch 24 iteration 900 with loss 0.32238. Total time 1.00972 hours\n",
      "Training at Epoch 24 iteration 1000 with loss 0.16750. Total time 1.01305 hours\n",
      "Training at Epoch 24 iteration 1100 with loss 0.13592. Total time 1.01638 hours\n",
      "Validation at Epoch 24 , AUROC: 0.57219 , AUPRC: 0.51845 , F1: 0.37494\n",
      "Training at Epoch 25 iteration 0 with loss 0.19877. Total time 1.02194 hours\n",
      "Training at Epoch 25 iteration 100 with loss 0.22436. Total time 1.02527 hours\n",
      "Training at Epoch 25 iteration 200 with loss 0.07349. Total time 1.02861 hours\n",
      "Training at Epoch 25 iteration 300 with loss 0.34429. Total time 1.03194 hours\n",
      "Training at Epoch 25 iteration 400 with loss 0.32139. Total time 1.03527 hours\n",
      "Training at Epoch 25 iteration 500 with loss 0.23653. Total time 1.03861 hours\n",
      "Training at Epoch 25 iteration 600 with loss 0.19145. Total time 1.04194 hours\n",
      "Training at Epoch 25 iteration 700 with loss 0.20882. Total time 1.04527 hours\n",
      "Training at Epoch 25 iteration 800 with loss 0.29219. Total time 1.04861 hours\n",
      "Training at Epoch 25 iteration 900 with loss 0.32133. Total time 1.05194 hours\n",
      "Training at Epoch 25 iteration 1000 with loss 0.27050. Total time 1.05527 hours\n",
      "Training at Epoch 25 iteration 1100 with loss 0.33156. Total time 1.05861 hours\n",
      "Validation at Epoch 25 , AUROC: 0.57437 , AUPRC: 0.51948 , F1: 0.40919\n",
      "Training at Epoch 26 iteration 0 with loss 0.23797. Total time 1.06416 hours\n",
      "Training at Epoch 26 iteration 100 with loss 0.20150. Total time 1.0675 hours\n",
      "Training at Epoch 26 iteration 200 with loss 0.18561. Total time 1.07083 hours\n",
      "Training at Epoch 26 iteration 300 with loss 0.28662. Total time 1.07416 hours\n",
      "Training at Epoch 26 iteration 400 with loss 0.18577. Total time 1.0775 hours\n",
      "Training at Epoch 26 iteration 500 with loss 0.21508. Total time 1.08083 hours\n",
      "Training at Epoch 26 iteration 600 with loss 0.15136. Total time 1.08416 hours\n",
      "Training at Epoch 26 iteration 700 with loss 0.19501. Total time 1.0875 hours\n",
      "Training at Epoch 26 iteration 800 with loss 0.37899. Total time 1.09083 hours\n",
      "Training at Epoch 26 iteration 900 with loss 0.10838. Total time 1.09416 hours\n",
      "Training at Epoch 26 iteration 1000 with loss 0.25784. Total time 1.0975 hours\n",
      "Training at Epoch 26 iteration 1100 with loss 0.21903. Total time 1.10083 hours\n",
      "Validation at Epoch 26 , AUROC: 0.56950 , AUPRC: 0.51794 , F1: 0.33843\n",
      "--- Go for Testing ---\n",
      "Up to Epoch 25 Testing AUROC: 0.761431176993231 , AUPRC: 0.7955263283697833 , F1: 0.625\n",
      "Training at Epoch 27 iteration 0 with loss 0.14851. Total time 1.10861 hours\n",
      "Training at Epoch 27 iteration 100 with loss 0.21289. Total time 1.11194 hours\n",
      "Training at Epoch 27 iteration 200 with loss 0.21019. Total time 1.11527 hours\n",
      "Training at Epoch 27 iteration 300 with loss 0.23006. Total time 1.11861 hours\n",
      "Training at Epoch 27 iteration 400 with loss 0.22477. Total time 1.12194 hours\n",
      "Training at Epoch 27 iteration 500 with loss 0.23336. Total time 1.12527 hours\n",
      "Training at Epoch 27 iteration 600 with loss 0.32460. Total time 1.12861 hours\n",
      "Training at Epoch 27 iteration 700 with loss 0.26041. Total time 1.13194 hours\n",
      "Training at Epoch 27 iteration 800 with loss 0.09418. Total time 1.13527 hours\n",
      "Training at Epoch 27 iteration 900 with loss 0.27278. Total time 1.13861 hours\n",
      "Training at Epoch 27 iteration 1000 with loss 0.36770. Total time 1.14194 hours\n",
      "Training at Epoch 27 iteration 1100 with loss 0.27626. Total time 1.14527 hours\n",
      "Validation at Epoch 27 , AUROC: 0.57188 , AUPRC: 0.52263 , F1: 0.36208\n",
      "Training at Epoch 28 iteration 0 with loss 0.24558. Total time 1.15083 hours\n",
      "Training at Epoch 28 iteration 100 with loss 0.11027. Total time 1.15416 hours\n",
      "Training at Epoch 28 iteration 200 with loss 0.09226. Total time 1.1575 hours\n",
      "Training at Epoch 28 iteration 300 with loss 0.16718. Total time 1.16083 hours\n",
      "Training at Epoch 28 iteration 400 with loss 0.30359. Total time 1.16416 hours\n",
      "Training at Epoch 28 iteration 500 with loss 0.19054. Total time 1.1675 hours\n",
      "Training at Epoch 28 iteration 600 with loss 0.23478. Total time 1.17083 hours\n",
      "Training at Epoch 28 iteration 700 with loss 0.13181. Total time 1.17416 hours\n",
      "Training at Epoch 28 iteration 800 with loss 0.25913. Total time 1.1775 hours\n",
      "Training at Epoch 28 iteration 900 with loss 0.13089. Total time 1.18083 hours\n",
      "Training at Epoch 28 iteration 1000 with loss 0.19176. Total time 1.18416 hours\n",
      "Training at Epoch 28 iteration 1100 with loss 0.07417. Total time 1.1875 hours\n",
      "Validation at Epoch 28 , AUROC: 0.56872 , AUPRC: 0.51608 , F1: 0.36905\n",
      "Training at Epoch 29 iteration 0 with loss 0.13921. Total time 1.19305 hours\n",
      "Training at Epoch 29 iteration 100 with loss 0.10369. Total time 1.19638 hours\n",
      "Training at Epoch 29 iteration 200 with loss 0.19835. Total time 1.19972 hours\n",
      "Training at Epoch 29 iteration 300 with loss 0.34987. Total time 1.20305 hours\n",
      "Training at Epoch 29 iteration 400 with loss 0.32259. Total time 1.20638 hours\n",
      "Training at Epoch 29 iteration 500 with loss 0.11411. Total time 1.20972 hours\n",
      "Training at Epoch 29 iteration 600 with loss 0.36579. Total time 1.21305 hours\n",
      "Training at Epoch 29 iteration 700 with loss 0.26684. Total time 1.21638 hours\n",
      "Training at Epoch 29 iteration 800 with loss 0.24205. Total time 1.21972 hours\n",
      "Training at Epoch 29 iteration 900 with loss 0.22108. Total time 1.22305 hours\n",
      "Training at Epoch 29 iteration 1000 with loss 0.20895. Total time 1.22638 hours\n",
      "Training at Epoch 29 iteration 1100 with loss 0.04219. Total time 1.22972 hours\n",
      "Validation at Epoch 29 , AUROC: 0.56839 , AUPRC: 0.51680 , F1: 0.40445\n",
      "Training at Epoch 30 iteration 0 with loss 0.16257. Total time 1.23527 hours\n",
      "Training at Epoch 30 iteration 100 with loss 0.19783. Total time 1.23861 hours\n",
      "Training at Epoch 30 iteration 200 with loss 0.17401. Total time 1.24194 hours\n",
      "Training at Epoch 30 iteration 300 with loss 0.21011. Total time 1.24527 hours\n",
      "Training at Epoch 30 iteration 400 with loss 0.29351. Total time 1.24861 hours\n",
      "Training at Epoch 30 iteration 500 with loss 0.33252. Total time 1.25194 hours\n",
      "Training at Epoch 30 iteration 600 with loss 0.46606. Total time 1.25527 hours\n",
      "Training at Epoch 30 iteration 700 with loss 0.23655. Total time 1.25861 hours\n",
      "Training at Epoch 30 iteration 900 with loss 0.42188. Total time 1.26527 hours\n",
      "Training at Epoch 30 iteration 1000 with loss 0.22115. Total time 1.26861 hours\n",
      "Training at Epoch 30 iteration 1100 with loss 0.15725. Total time 1.27194 hours\n",
      "Validation at Epoch 30 , AUROC: 0.57433 , AUPRC: 0.52467 , F1: 0.41189\n",
      "--- Go for Testing ---\n",
      "Testing AUROC: 0.7718659409060169 , AUPRC: 0.8079640550847665 , F1: 0.6788168509112638\n",
      "--- Training Finished ---\n",
      "predicting...\n",
      "predicting...\n",
      "Results Saved\n",
      "in total: 37073 drug-target pairs\n",
      "encoding drug...\n",
      "unique drugs: 7248\n",
      "rdkit not found this smiles for morgan: nan convert to all 1 features\n"
     ]
    },
    {
     "name": "stderr",
     "output_type": "stream",
     "text": [
      "RDKit WARNING: [12:59:58] Conflicting single bond directions around double bond at index 1.\n",
      "RDKit WARNING: [12:59:58]   BondStereo set to STEREONONE and single bond directions set to NONE.\n"
     ]
    },
    {
     "name": "stdout",
     "output_type": "stream",
     "text": [
      "drug encoding finished...\n",
      "encoding protein...\n",
      "unique target sequence: 3527\n",
      "protein encoding finished...\n",
      "splitting dataset...\n",
      "Done.\n",
      "in total: 6435 drug-target pairs\n",
      "encoding drug...\n",
      "unique drugs: 3444\n",
      "rdkit not found this smiles for morgan: nan convert to all 1 features\n"
     ]
    },
    {
     "name": "stderr",
     "output_type": "stream",
     "text": [
      "RDKit WARNING: [13:00:02] Conflicting single bond directions around double bond at index 1.\n",
      "RDKit WARNING: [13:00:02]   BondStereo set to STEREONONE and single bond directions set to NONE.\n"
     ]
    },
    {
     "name": "stdout",
     "output_type": "stream",
     "text": [
      "drug encoding finished...\n",
      "encoding protein...\n",
      "unique target sequence: 902\n",
      "protein encoding finished...\n",
      "splitting dataset...\n",
      "Done.\n",
      "in total: 3710 drug-target pairs\n",
      "encoding drug...\n",
      "unique drugs: 2091\n",
      "rdkit not found this smiles for morgan: nan convert to all 1 features\n",
      "drug encoding finished...\n",
      "encoding protein...\n",
      "unique target sequence: 1661\n",
      "protein encoding finished...\n",
      "splitting dataset...\n",
      "Done.\n",
      "Let's use 1 GPU!\n",
      "--- Data Preparation ---\n",
      "--- Go for Training ---\n",
      "Training at Epoch 1 iteration 0 with loss 0.68446. Total time 0.0 hours\n",
      "Training at Epoch 1 iteration 100 with loss 0.68038. Total time 0.00333 hours\n",
      "Training at Epoch 1 iteration 200 with loss 0.67858. Total time 0.00666 hours\n",
      "Training at Epoch 1 iteration 300 with loss 0.63152. Total time 0.01 hours\n",
      "Training at Epoch 1 iteration 400 with loss 0.61888. Total time 0.01333 hours\n",
      "Training at Epoch 1 iteration 500 with loss 0.66427. Total time 0.01666 hours\n",
      "Training at Epoch 1 iteration 600 with loss 0.58785. Total time 0.02 hours\n",
      "Training at Epoch 1 iteration 700 with loss 0.62224. Total time 0.02333 hours\n",
      "Training at Epoch 1 iteration 800 with loss 0.50417. Total time 0.02666 hours\n",
      "Training at Epoch 1 iteration 900 with loss 0.64594. Total time 0.03 hours\n",
      "Training at Epoch 1 iteration 1000 with loss 0.66291. Total time 0.03333 hours\n",
      "Training at Epoch 1 iteration 1100 with loss 0.61636. Total time 0.03666 hours\n",
      "Validation at Epoch 1 , AUROC: 0.49403 , AUPRC: 0.46871 , F1: 0.0\n",
      "Training at Epoch 2 iteration 0 with loss 0.68438. Total time 0.04222 hours\n",
      "Training at Epoch 2 iteration 100 with loss 0.66047. Total time 0.04555 hours\n",
      "Training at Epoch 2 iteration 200 with loss 0.67379. Total time 0.04888 hours\n",
      "Training at Epoch 2 iteration 300 with loss 0.67584. Total time 0.05222 hours\n",
      "Training at Epoch 2 iteration 400 with loss 0.56153. Total time 0.05555 hours\n",
      "Training at Epoch 2 iteration 500 with loss 0.63197. Total time 0.05888 hours\n",
      "Training at Epoch 2 iteration 600 with loss 0.39202. Total time 0.06222 hours\n",
      "Training at Epoch 2 iteration 700 with loss 0.60625. Total time 0.06555 hours\n",
      "Training at Epoch 2 iteration 800 with loss 0.50500. Total time 0.06888 hours\n",
      "Training at Epoch 2 iteration 900 with loss 0.47613. Total time 0.07222 hours\n",
      "Training at Epoch 2 iteration 1000 with loss 0.53652. Total time 0.07555 hours\n",
      "Training at Epoch 2 iteration 1100 with loss 0.49271. Total time 0.07888 hours\n",
      "Validation at Epoch 2 , AUROC: 0.53257 , AUPRC: 0.49259 , F1: 0.34317\n",
      "Training at Epoch 3 iteration 0 with loss 0.46313. Total time 0.08444 hours\n",
      "Training at Epoch 3 iteration 100 with loss 0.43639. Total time 0.08777 hours\n",
      "Training at Epoch 3 iteration 200 with loss 0.50290. Total time 0.09111 hours\n",
      "Training at Epoch 3 iteration 300 with loss 0.44547. Total time 0.09444 hours\n",
      "Training at Epoch 3 iteration 400 with loss 0.37989. Total time 0.09777 hours\n",
      "Training at Epoch 3 iteration 500 with loss 0.68063. Total time 0.10111 hours\n",
      "Training at Epoch 3 iteration 600 with loss 0.48345. Total time 0.10444 hours\n",
      "Training at Epoch 3 iteration 700 with loss 0.59978. Total time 0.10777 hours\n",
      "Training at Epoch 3 iteration 800 with loss 0.40702. Total time 0.11111 hours\n",
      "Training at Epoch 3 iteration 900 with loss 0.54208. Total time 0.11444 hours\n",
      "Training at Epoch 3 iteration 1000 with loss 0.49218. Total time 0.11805 hours\n",
      "Training at Epoch 3 iteration 1100 with loss 0.46579. Total time 0.12138 hours\n",
      "Validation at Epoch 3 , AUROC: 0.59627 , AUPRC: 0.53866 , F1: 0.41434\n",
      "Training at Epoch 4 iteration 0 with loss 0.43334. Total time 0.12694 hours\n",
      "Training at Epoch 4 iteration 100 with loss 0.40259. Total time 0.13027 hours\n",
      "Training at Epoch 4 iteration 200 with loss 0.59049. Total time 0.13361 hours\n",
      "Training at Epoch 4 iteration 300 with loss 0.37485. Total time 0.13694 hours\n",
      "Training at Epoch 4 iteration 400 with loss 0.48416. Total time 0.14027 hours\n",
      "Training at Epoch 4 iteration 500 with loss 0.34892. Total time 0.14361 hours\n",
      "Training at Epoch 4 iteration 600 with loss 0.38000. Total time 0.14694 hours\n",
      "Training at Epoch 4 iteration 700 with loss 0.61352. Total time 0.15027 hours\n",
      "Training at Epoch 4 iteration 800 with loss 0.49177. Total time 0.15361 hours\n",
      "Training at Epoch 4 iteration 900 with loss 0.37351. Total time 0.15694 hours\n",
      "Training at Epoch 4 iteration 1000 with loss 0.56011. Total time 0.16027 hours\n",
      "Training at Epoch 4 iteration 1100 with loss 0.48593. Total time 0.16361 hours\n",
      "Validation at Epoch 4 , AUROC: 0.62152 , AUPRC: 0.56722 , F1: 0.39715\n",
      "Training at Epoch 5 iteration 0 with loss 0.37927. Total time 0.16916 hours\n",
      "Training at Epoch 5 iteration 100 with loss 0.41866. Total time 0.1725 hours\n",
      "Training at Epoch 5 iteration 200 with loss 0.59809. Total time 0.17583 hours\n",
      "Training at Epoch 5 iteration 300 with loss 0.34710. Total time 0.17916 hours\n",
      "Training at Epoch 5 iteration 400 with loss 0.30089. Total time 0.1825 hours\n",
      "Training at Epoch 5 iteration 500 with loss 0.41816. Total time 0.18583 hours\n",
      "Training at Epoch 5 iteration 600 with loss 0.55843. Total time 0.18916 hours\n",
      "Training at Epoch 5 iteration 700 with loss 0.36729. Total time 0.1925 hours\n",
      "Training at Epoch 5 iteration 800 with loss 0.31749. Total time 0.19583 hours\n",
      "Training at Epoch 5 iteration 900 with loss 0.30857. Total time 0.19916 hours\n",
      "Training at Epoch 5 iteration 1000 with loss 0.37416. Total time 0.2025 hours\n",
      "Training at Epoch 5 iteration 1100 with loss 0.31347. Total time 0.20583 hours\n",
      "Validation at Epoch 5 , AUROC: 0.62346 , AUPRC: 0.57421 , F1: 0.40034\n",
      "Training at Epoch 6 iteration 0 with loss 0.58070. Total time 0.21138 hours\n",
      "Training at Epoch 6 iteration 100 with loss 0.44949. Total time 0.21472 hours\n",
      "Training at Epoch 6 iteration 200 with loss 0.29693. Total time 0.21805 hours\n",
      "Training at Epoch 6 iteration 300 with loss 0.46338. Total time 0.22138 hours\n",
      "Training at Epoch 6 iteration 400 with loss 0.43504. Total time 0.22472 hours\n",
      "Training at Epoch 6 iteration 500 with loss 0.52746. Total time 0.22805 hours\n",
      "Training at Epoch 6 iteration 600 with loss 0.37047. Total time 0.23138 hours\n",
      "Training at Epoch 6 iteration 700 with loss 0.40832. Total time 0.23472 hours\n",
      "Training at Epoch 6 iteration 800 with loss 0.27374. Total time 0.23805 hours\n",
      "Training at Epoch 6 iteration 900 with loss 0.53146. Total time 0.24138 hours\n",
      "Training at Epoch 6 iteration 1000 with loss 0.49810. Total time 0.24472 hours\n",
      "Training at Epoch 6 iteration 1100 with loss 0.41985. Total time 0.24805 hours\n",
      "Validation at Epoch 6 , AUROC: 0.62606 , AUPRC: 0.57539 , F1: 0.39397\n",
      "--- Go for Testing ---\n",
      "Up to Epoch 5 Testing AUROC: 0.7452341592031473 , AUPRC: 0.7607507890252322 , F1: 0.5918027324225259\n",
      "Training at Epoch 7 iteration 0 with loss 0.42585. Total time 0.25583 hours\n",
      "Training at Epoch 7 iteration 100 with loss 0.23785. Total time 0.25916 hours\n",
      "Training at Epoch 7 iteration 200 with loss 0.23824. Total time 0.2625 hours\n",
      "Training at Epoch 7 iteration 300 with loss 0.26335. Total time 0.26583 hours\n",
      "Training at Epoch 7 iteration 400 with loss 0.61065. Total time 0.26916 hours\n",
      "Training at Epoch 7 iteration 500 with loss 0.25674. Total time 0.2725 hours\n",
      "Training at Epoch 7 iteration 600 with loss 0.50785. Total time 0.27583 hours\n",
      "Training at Epoch 7 iteration 700 with loss 0.31327. Total time 0.27916 hours\n",
      "Training at Epoch 7 iteration 800 with loss 0.34366. Total time 0.2825 hours\n",
      "Training at Epoch 7 iteration 900 with loss 0.21910. Total time 0.28611 hours\n",
      "Training at Epoch 7 iteration 1000 with loss 0.51354. Total time 0.28944 hours\n",
      "Training at Epoch 7 iteration 1100 with loss 0.30267. Total time 0.29277 hours\n",
      "Validation at Epoch 7 , AUROC: 0.61998 , AUPRC: 0.57425 , F1: 0.39280\n",
      "Training at Epoch 8 iteration 0 with loss 0.29952. Total time 0.29833 hours\n",
      "Training at Epoch 8 iteration 100 with loss 0.22988. Total time 0.30166 hours\n",
      "Training at Epoch 8 iteration 200 with loss 0.21683. Total time 0.305 hours\n",
      "Training at Epoch 8 iteration 300 with loss 0.31189. Total time 0.30833 hours\n",
      "Training at Epoch 8 iteration 400 with loss 0.40939. Total time 0.31166 hours\n",
      "Training at Epoch 8 iteration 500 with loss 0.29372. Total time 0.315 hours\n",
      "Training at Epoch 8 iteration 600 with loss 0.35795. Total time 0.31833 hours\n",
      "Training at Epoch 8 iteration 700 with loss 0.36516. Total time 0.32166 hours\n",
      "Training at Epoch 8 iteration 800 with loss 0.26891. Total time 0.325 hours\n",
      "Training at Epoch 8 iteration 900 with loss 0.47437. Total time 0.32833 hours\n",
      "Training at Epoch 8 iteration 1000 with loss 0.39373. Total time 0.33166 hours\n",
      "Training at Epoch 8 iteration 1100 with loss 0.41522. Total time 0.335 hours\n",
      "Validation at Epoch 8 , AUROC: 0.61861 , AUPRC: 0.57545 , F1: 0.36826\n",
      "Training at Epoch 9 iteration 0 with loss 0.31642. Total time 0.34055 hours\n",
      "Training at Epoch 9 iteration 100 with loss 0.35738. Total time 0.34388 hours\n",
      "Training at Epoch 9 iteration 200 with loss 0.28839. Total time 0.34722 hours\n",
      "Training at Epoch 9 iteration 300 with loss 0.19399. Total time 0.35055 hours\n",
      "Training at Epoch 9 iteration 400 with loss 0.21075. Total time 0.35388 hours\n",
      "Training at Epoch 9 iteration 600 with loss 0.38917. Total time 0.36055 hours\n",
      "Training at Epoch 9 iteration 700 with loss 0.43265. Total time 0.36388 hours\n",
      "Training at Epoch 9 iteration 800 with loss 0.47488. Total time 0.36722 hours\n",
      "Training at Epoch 9 iteration 900 with loss 0.25704. Total time 0.37055 hours\n",
      "Training at Epoch 9 iteration 1000 with loss 0.40968. Total time 0.37388 hours\n",
      "Training at Epoch 9 iteration 1100 with loss 0.38918. Total time 0.37722 hours\n",
      "Validation at Epoch 9 , AUROC: 0.60939 , AUPRC: 0.56642 , F1: 0.34995\n",
      "Training at Epoch 10 iteration 0 with loss 0.31097. Total time 0.38277 hours\n",
      "Training at Epoch 10 iteration 100 with loss 0.25475. Total time 0.38611 hours\n",
      "Training at Epoch 10 iteration 200 with loss 0.34336. Total time 0.38944 hours\n",
      "Training at Epoch 10 iteration 300 with loss 0.42483. Total time 0.39277 hours\n",
      "Training at Epoch 10 iteration 400 with loss 0.42720. Total time 0.39611 hours\n",
      "Training at Epoch 10 iteration 500 with loss 0.33333. Total time 0.39944 hours\n",
      "Training at Epoch 10 iteration 600 with loss 0.31949. Total time 0.40277 hours\n",
      "Training at Epoch 10 iteration 700 with loss 0.40644. Total time 0.40611 hours\n",
      "Training at Epoch 10 iteration 800 with loss 0.54727. Total time 0.40944 hours\n",
      "Training at Epoch 10 iteration 900 with loss 0.26837. Total time 0.41277 hours\n",
      "Training at Epoch 10 iteration 1000 with loss 0.30128. Total time 0.41611 hours\n",
      "Training at Epoch 10 iteration 1100 with loss 0.44539. Total time 0.41944 hours\n",
      "Validation at Epoch 10 , AUROC: 0.60161 , AUPRC: 0.56099 , F1: 0.34788\n",
      "Training at Epoch 11 iteration 0 with loss 0.23369. Total time 0.425 hours\n",
      "Training at Epoch 11 iteration 100 with loss 0.47914. Total time 0.42833 hours\n",
      "Training at Epoch 11 iteration 200 with loss 0.45655. Total time 0.43166 hours\n",
      "Training at Epoch 11 iteration 300 with loss 0.16389. Total time 0.435 hours\n",
      "Training at Epoch 11 iteration 400 with loss 0.42603. Total time 0.43833 hours\n",
      "Training at Epoch 11 iteration 500 with loss 0.19906. Total time 0.44166 hours\n",
      "Training at Epoch 11 iteration 600 with loss 0.30460. Total time 0.445 hours\n",
      "Training at Epoch 11 iteration 700 with loss 0.40022. Total time 0.44833 hours\n",
      "Training at Epoch 11 iteration 800 with loss 0.29251. Total time 0.45166 hours\n",
      "Training at Epoch 11 iteration 900 with loss 0.45227. Total time 0.455 hours\n",
      "Training at Epoch 11 iteration 1000 with loss 0.25788. Total time 0.45833 hours\n",
      "Training at Epoch 11 iteration 1100 with loss 0.43800. Total time 0.46166 hours\n",
      "Validation at Epoch 11 , AUROC: 0.59484 , AUPRC: 0.55756 , F1: 0.40670\n",
      "--- Go for Testing ---\n",
      "Up to Epoch 10 Testing AUROC: 0.7609868935018554 , AUPRC: 0.7864343286935758 , F1: 0.6299615877080667\n",
      "Training at Epoch 12 iteration 0 with loss 0.35076. Total time 0.46944 hours\n",
      "Training at Epoch 12 iteration 100 with loss 0.42256. Total time 0.47277 hours\n",
      "Training at Epoch 12 iteration 200 with loss 0.50228. Total time 0.47611 hours\n",
      "Training at Epoch 12 iteration 300 with loss 0.24365. Total time 0.47944 hours\n",
      "Training at Epoch 12 iteration 400 with loss 0.20532. Total time 0.48277 hours\n",
      "Training at Epoch 12 iteration 500 with loss 0.26401. Total time 0.48611 hours\n",
      "Training at Epoch 12 iteration 600 with loss 0.42661. Total time 0.48944 hours\n",
      "Training at Epoch 12 iteration 700 with loss 0.30041. Total time 0.49277 hours\n",
      "Training at Epoch 12 iteration 800 with loss 0.46244. Total time 0.49638 hours\n",
      "Training at Epoch 12 iteration 900 with loss 0.47747. Total time 0.49972 hours\n",
      "Training at Epoch 12 iteration 1000 with loss 0.15801. Total time 0.50305 hours\n",
      "Training at Epoch 12 iteration 1100 with loss 0.30261. Total time 0.50638 hours\n",
      "Validation at Epoch 12 , AUROC: 0.58851 , AUPRC: 0.55019 , F1: 0.40487\n",
      "Training at Epoch 13 iteration 0 with loss 0.30284. Total time 0.51194 hours\n",
      "Training at Epoch 13 iteration 100 with loss 0.27632. Total time 0.51527 hours\n",
      "Training at Epoch 13 iteration 200 with loss 0.20729. Total time 0.51861 hours\n",
      "Training at Epoch 13 iteration 300 with loss 0.19727. Total time 0.52194 hours\n",
      "Training at Epoch 13 iteration 400 with loss 0.19217. Total time 0.52527 hours\n",
      "Training at Epoch 13 iteration 500 with loss 0.33905. Total time 0.52861 hours\n",
      "Training at Epoch 13 iteration 600 with loss 0.27121. Total time 0.53194 hours\n",
      "Training at Epoch 13 iteration 700 with loss 0.31050. Total time 0.53527 hours\n",
      "Training at Epoch 13 iteration 800 with loss 0.39185. Total time 0.53861 hours\n",
      "Training at Epoch 13 iteration 900 with loss 0.48297. Total time 0.54194 hours\n",
      "Training at Epoch 13 iteration 1000 with loss 0.36944. Total time 0.54527 hours\n",
      "Training at Epoch 13 iteration 1100 with loss 0.35066. Total time 0.54861 hours\n",
      "Validation at Epoch 13 , AUROC: 0.58161 , AUPRC: 0.54868 , F1: 0.38304\n",
      "Training at Epoch 14 iteration 0 with loss 0.29088. Total time 0.55416 hours\n",
      "Training at Epoch 14 iteration 100 with loss 0.54628. Total time 0.5575 hours\n",
      "Training at Epoch 14 iteration 200 with loss 0.32591. Total time 0.56083 hours\n",
      "Training at Epoch 14 iteration 300 with loss 0.51796. Total time 0.56416 hours\n",
      "Training at Epoch 14 iteration 400 with loss 0.24076. Total time 0.5675 hours\n",
      "Training at Epoch 14 iteration 500 with loss 0.24467. Total time 0.57083 hours\n",
      "Training at Epoch 14 iteration 600 with loss 0.25064. Total time 0.57416 hours\n",
      "Training at Epoch 14 iteration 700 with loss 0.33247. Total time 0.5775 hours\n",
      "Training at Epoch 14 iteration 800 with loss 0.20898. Total time 0.58083 hours\n",
      "Training at Epoch 14 iteration 900 with loss 0.41109. Total time 0.58416 hours\n",
      "Training at Epoch 14 iteration 1000 with loss 0.30943. Total time 0.5875 hours\n",
      "Training at Epoch 14 iteration 1100 with loss 0.19987. Total time 0.59083 hours\n",
      "Validation at Epoch 14 , AUROC: 0.57726 , AUPRC: 0.54371 , F1: 0.38039\n",
      "Training at Epoch 15 iteration 0 with loss 0.34360. Total time 0.59638 hours\n",
      "Training at Epoch 15 iteration 100 with loss 0.18241. Total time 0.59972 hours\n",
      "Training at Epoch 15 iteration 200 with loss 0.21637. Total time 0.60305 hours\n",
      "Training at Epoch 15 iteration 300 with loss 0.29362. Total time 0.60638 hours\n",
      "Training at Epoch 15 iteration 400 with loss 0.28815. Total time 0.60972 hours\n",
      "Training at Epoch 15 iteration 500 with loss 0.21975. Total time 0.61305 hours\n",
      "Training at Epoch 15 iteration 600 with loss 0.36957. Total time 0.61638 hours\n",
      "Training at Epoch 15 iteration 700 with loss 0.30833. Total time 0.61972 hours\n",
      "Training at Epoch 15 iteration 800 with loss 0.41239. Total time 0.62305 hours\n",
      "Training at Epoch 15 iteration 900 with loss 0.49425. Total time 0.62666 hours\n",
      "Training at Epoch 15 iteration 1000 with loss 0.34967. Total time 0.63 hours\n",
      "Training at Epoch 15 iteration 1100 with loss 0.26219. Total time 0.63333 hours\n",
      "Validation at Epoch 15 , AUROC: 0.57069 , AUPRC: 0.53717 , F1: 0.32084\n",
      "Training at Epoch 16 iteration 0 with loss 0.16681. Total time 0.63888 hours\n",
      "Training at Epoch 16 iteration 100 with loss 0.31431. Total time 0.64222 hours\n",
      "Training at Epoch 16 iteration 200 with loss 0.19287. Total time 0.64555 hours\n",
      "Training at Epoch 16 iteration 300 with loss 0.10857. Total time 0.64888 hours\n",
      "Training at Epoch 16 iteration 400 with loss 0.18842. Total time 0.65222 hours\n",
      "Training at Epoch 16 iteration 500 with loss 0.19567. Total time 0.65555 hours\n",
      "Training at Epoch 16 iteration 600 with loss 0.46536. Total time 0.65888 hours\n",
      "Training at Epoch 16 iteration 700 with loss 0.34102. Total time 0.66222 hours\n",
      "Training at Epoch 16 iteration 800 with loss 0.31973. Total time 0.66555 hours\n",
      "Training at Epoch 16 iteration 900 with loss 0.46713. Total time 0.66888 hours\n",
      "Training at Epoch 16 iteration 1000 with loss 0.51908. Total time 0.67222 hours\n",
      "Training at Epoch 16 iteration 1100 with loss 0.33126. Total time 0.67555 hours\n",
      "Validation at Epoch 16 , AUROC: 0.56868 , AUPRC: 0.53646 , F1: 0.44261\n",
      "--- Go for Testing ---\n",
      "Up to Epoch 15 Testing AUROC: 0.7632381560224324 , AUPRC: 0.7924028009130706 , F1: 0.6698029991179065\n",
      "Training at Epoch 17 iteration 0 with loss 0.20128. Total time 0.68333 hours\n",
      "Training at Epoch 17 iteration 100 with loss 0.08258. Total time 0.68666 hours\n",
      "Training at Epoch 17 iteration 200 with loss 0.34735. Total time 0.69 hours\n",
      "Training at Epoch 17 iteration 300 with loss 0.32895. Total time 0.69333 hours\n",
      "Training at Epoch 17 iteration 400 with loss 0.29517. Total time 0.69666 hours\n",
      "Training at Epoch 17 iteration 500 with loss 0.17485. Total time 0.7 hours\n",
      "Training at Epoch 17 iteration 600 with loss 0.26613. Total time 0.70333 hours\n",
      "Training at Epoch 17 iteration 700 with loss 0.28220. Total time 0.70666 hours\n",
      "Training at Epoch 17 iteration 800 with loss 0.18150. Total time 0.71 hours\n",
      "Training at Epoch 17 iteration 900 with loss 0.52134. Total time 0.71333 hours\n",
      "Training at Epoch 17 iteration 1100 with loss 0.13931. Total time 0.72 hours\n",
      "Validation at Epoch 17 , AUROC: 0.56451 , AUPRC: 0.53020 , F1: 0.43058\n",
      "Training at Epoch 18 iteration 0 with loss 0.15253. Total time 0.72611 hours\n",
      "Training at Epoch 18 iteration 100 with loss 0.41971. Total time 0.72944 hours\n",
      "Training at Epoch 18 iteration 200 with loss 0.14432. Total time 0.73277 hours\n",
      "Training at Epoch 18 iteration 300 with loss 0.41103. Total time 0.73611 hours\n",
      "Training at Epoch 18 iteration 400 with loss 0.37376. Total time 0.73972 hours\n",
      "Training at Epoch 18 iteration 500 with loss 0.11532. Total time 0.74305 hours\n",
      "Training at Epoch 18 iteration 600 with loss 0.41485. Total time 0.74638 hours\n",
      "Training at Epoch 18 iteration 700 with loss 0.24182. Total time 0.74972 hours\n",
      "Training at Epoch 18 iteration 800 with loss 0.28009. Total time 0.75305 hours\n",
      "Training at Epoch 18 iteration 900 with loss 0.40353. Total time 0.75638 hours\n",
      "Training at Epoch 18 iteration 1000 with loss 0.19485. Total time 0.75972 hours\n",
      "Training at Epoch 18 iteration 1100 with loss 0.19571. Total time 0.76305 hours\n",
      "Validation at Epoch 18 , AUROC: 0.56258 , AUPRC: 0.53168 , F1: 0.38472\n",
      "Training at Epoch 19 iteration 0 with loss 0.26950. Total time 0.76861 hours\n",
      "Training at Epoch 19 iteration 100 with loss 0.12724. Total time 0.77194 hours\n",
      "Training at Epoch 19 iteration 200 with loss 0.38462. Total time 0.77527 hours\n",
      "Training at Epoch 19 iteration 300 with loss 0.17155. Total time 0.77861 hours\n",
      "Training at Epoch 19 iteration 400 with loss 0.19882. Total time 0.78194 hours\n",
      "Training at Epoch 19 iteration 500 with loss 0.60557. Total time 0.78527 hours\n",
      "Training at Epoch 19 iteration 600 with loss 0.47498. Total time 0.78861 hours\n",
      "Training at Epoch 19 iteration 700 with loss 0.19827. Total time 0.79194 hours\n",
      "Training at Epoch 19 iteration 800 with loss 0.43020. Total time 0.79527 hours\n",
      "Training at Epoch 19 iteration 900 with loss 0.29270. Total time 0.79861 hours\n",
      "Training at Epoch 19 iteration 1000 with loss 0.31013. Total time 0.80194 hours\n",
      "Training at Epoch 19 iteration 1100 with loss 0.41934. Total time 0.80527 hours\n",
      "Validation at Epoch 19 , AUROC: 0.56058 , AUPRC: 0.52723 , F1: 0.33552\n",
      "Training at Epoch 20 iteration 0 with loss 0.18060. Total time 0.81083 hours\n",
      "Training at Epoch 20 iteration 100 with loss 0.25640. Total time 0.81416 hours\n",
      "Training at Epoch 20 iteration 200 with loss 0.21139. Total time 0.8175 hours\n",
      "Training at Epoch 20 iteration 300 with loss 0.14086. Total time 0.82083 hours\n",
      "Training at Epoch 20 iteration 400 with loss 0.16139. Total time 0.82416 hours\n",
      "Training at Epoch 20 iteration 500 with loss 0.26088. Total time 0.8275 hours\n",
      "Training at Epoch 20 iteration 600 with loss 0.16318. Total time 0.83083 hours\n",
      "Training at Epoch 20 iteration 700 with loss 0.23203. Total time 0.83416 hours\n",
      "Training at Epoch 20 iteration 800 with loss 0.13866. Total time 0.8375 hours\n",
      "Training at Epoch 20 iteration 900 with loss 0.27997. Total time 0.84083 hours\n",
      "Training at Epoch 20 iteration 1000 with loss 0.45098. Total time 0.84416 hours\n",
      "Training at Epoch 20 iteration 1100 with loss 0.37319. Total time 0.8475 hours\n",
      "Validation at Epoch 20 , AUROC: 0.55896 , AUPRC: 0.52733 , F1: 0.42792\n",
      "Training at Epoch 21 iteration 0 with loss 0.17430. Total time 0.85305 hours\n",
      "Training at Epoch 21 iteration 100 with loss 0.09464. Total time 0.85638 hours\n",
      "Training at Epoch 21 iteration 200 with loss 0.24984. Total time 0.85972 hours\n",
      "Training at Epoch 21 iteration 300 with loss 0.30574. Total time 0.86305 hours\n",
      "Training at Epoch 21 iteration 400 with loss 0.13736. Total time 0.86638 hours\n",
      "Training at Epoch 21 iteration 500 with loss 0.20195. Total time 0.86972 hours\n",
      "Training at Epoch 21 iteration 600 with loss 0.30184. Total time 0.87305 hours\n",
      "Training at Epoch 21 iteration 700 with loss 0.43919. Total time 0.87638 hours\n",
      "Training at Epoch 21 iteration 800 with loss 0.33584. Total time 0.87972 hours\n",
      "Training at Epoch 21 iteration 900 with loss 0.21151. Total time 0.88305 hours\n",
      "Training at Epoch 21 iteration 1000 with loss 0.21065. Total time 0.88638 hours\n",
      "Training at Epoch 21 iteration 1100 with loss 0.27172. Total time 0.88972 hours\n",
      "Validation at Epoch 21 , AUROC: 0.55682 , AUPRC: 0.52447 , F1: 0.43084\n",
      "--- Go for Testing ---\n",
      "Up to Epoch 20 Testing AUROC: 0.7620641339527358 , AUPRC: 0.7937630313647968 , F1: 0.6607354685646502\n",
      "Training at Epoch 22 iteration 0 with loss 0.28292. Total time 0.8975 hours\n",
      "Training at Epoch 22 iteration 100 with loss 0.17680. Total time 0.90083 hours\n",
      "Training at Epoch 22 iteration 200 with loss 0.27471. Total time 0.90416 hours\n",
      "Training at Epoch 22 iteration 300 with loss 0.33951. Total time 0.90777 hours\n",
      "Training at Epoch 22 iteration 400 with loss 0.30438. Total time 0.91111 hours\n",
      "Training at Epoch 22 iteration 500 with loss 0.19196. Total time 0.91444 hours\n",
      "Training at Epoch 22 iteration 600 with loss 0.21420. Total time 0.91777 hours\n",
      "Training at Epoch 22 iteration 700 with loss 0.21842. Total time 0.92111 hours\n",
      "Training at Epoch 22 iteration 800 with loss 0.38045. Total time 0.92444 hours\n",
      "Training at Epoch 22 iteration 900 with loss 0.40023. Total time 0.92777 hours\n",
      "Training at Epoch 22 iteration 1000 with loss 0.44638. Total time 0.93111 hours\n",
      "Training at Epoch 22 iteration 1100 with loss 0.24824. Total time 0.93444 hours\n",
      "Validation at Epoch 22 , AUROC: 0.55597 , AUPRC: 0.52450 , F1: 0.34481\n",
      "Training at Epoch 23 iteration 0 with loss 0.20204. Total time 0.94 hours\n",
      "Training at Epoch 23 iteration 100 with loss 0.27677. Total time 0.94333 hours\n",
      "Training at Epoch 23 iteration 200 with loss 0.15084. Total time 0.94666 hours\n",
      "Training at Epoch 23 iteration 300 with loss 0.25503. Total time 0.95 hours\n",
      "Training at Epoch 23 iteration 400 with loss 0.31790. Total time 0.95333 hours\n",
      "Training at Epoch 23 iteration 500 with loss 0.19937. Total time 0.95666 hours\n",
      "Training at Epoch 23 iteration 600 with loss 0.14028. Total time 0.96 hours\n",
      "Training at Epoch 23 iteration 700 with loss 0.25049. Total time 0.96333 hours\n",
      "Training at Epoch 23 iteration 800 with loss 0.15893. Total time 0.96666 hours\n",
      "Training at Epoch 23 iteration 900 with loss 0.30672. Total time 0.97 hours\n",
      "Training at Epoch 23 iteration 1000 with loss 0.19506. Total time 0.97333 hours\n",
      "Training at Epoch 23 iteration 1100 with loss 0.07635. Total time 0.97666 hours\n",
      "Validation at Epoch 23 , AUROC: 0.54899 , AUPRC: 0.52294 , F1: 0.36482\n",
      "Training at Epoch 24 iteration 0 with loss 0.30041. Total time 0.98222 hours\n",
      "Training at Epoch 24 iteration 100 with loss 0.10998. Total time 0.98555 hours\n",
      "Training at Epoch 24 iteration 200 with loss 0.09501. Total time 0.98888 hours\n",
      "Training at Epoch 24 iteration 300 with loss 0.17020. Total time 0.99222 hours\n",
      "Training at Epoch 24 iteration 400 with loss 0.08895. Total time 0.99555 hours\n",
      "Training at Epoch 24 iteration 500 with loss 0.32112. Total time 0.99888 hours\n",
      "Training at Epoch 24 iteration 600 with loss 0.23672. Total time 1.00222 hours\n",
      "Training at Epoch 24 iteration 700 with loss 0.28422. Total time 1.00555 hours\n",
      "Training at Epoch 24 iteration 800 with loss 0.41558. Total time 1.00888 hours\n",
      "Training at Epoch 24 iteration 900 with loss 0.31185. Total time 1.01222 hours\n",
      "Training at Epoch 24 iteration 1000 with loss 0.31484. Total time 1.01555 hours\n",
      "Training at Epoch 24 iteration 1100 with loss 0.42414. Total time 1.01888 hours\n",
      "Validation at Epoch 24 , AUROC: 0.55384 , AUPRC: 0.52371 , F1: 0.42053\n",
      "Training at Epoch 25 iteration 0 with loss 0.20294. Total time 1.02472 hours\n",
      "Training at Epoch 25 iteration 100 with loss 0.20158. Total time 1.02805 hours\n",
      "Training at Epoch 25 iteration 200 with loss 0.20180. Total time 1.03138 hours\n",
      "Training at Epoch 25 iteration 300 with loss 0.24336. Total time 1.03472 hours\n",
      "Training at Epoch 25 iteration 400 with loss 0.14058. Total time 1.03805 hours\n",
      "Training at Epoch 25 iteration 500 with loss 0.15868. Total time 1.04138 hours\n",
      "Training at Epoch 25 iteration 600 with loss 0.27378. Total time 1.04472 hours\n",
      "Training at Epoch 25 iteration 700 with loss 0.22822. Total time 1.04805 hours\n",
      "Training at Epoch 25 iteration 800 with loss 0.13691. Total time 1.05138 hours\n",
      "Training at Epoch 25 iteration 900 with loss 0.13989. Total time 1.05472 hours\n",
      "Training at Epoch 25 iteration 1000 with loss 0.28073. Total time 1.05805 hours\n",
      "Training at Epoch 25 iteration 1100 with loss 0.10526. Total time 1.06138 hours\n",
      "Validation at Epoch 25 , AUROC: 0.55322 , AUPRC: 0.52124 , F1: 0.35848\n",
      "Training at Epoch 26 iteration 0 with loss 0.19677. Total time 1.06694 hours\n",
      "Training at Epoch 26 iteration 100 with loss 0.19930. Total time 1.07027 hours\n",
      "Training at Epoch 26 iteration 200 with loss 0.33114. Total time 1.07361 hours\n",
      "Training at Epoch 26 iteration 300 with loss 0.39376. Total time 1.07694 hours\n",
      "Training at Epoch 26 iteration 400 with loss 0.31620. Total time 1.08027 hours\n",
      "Training at Epoch 26 iteration 500 with loss 0.14331. Total time 1.08361 hours\n",
      "Training at Epoch 26 iteration 600 with loss 0.17835. Total time 1.08694 hours\n",
      "Training at Epoch 26 iteration 700 with loss 0.20378. Total time 1.09027 hours\n",
      "Training at Epoch 26 iteration 800 with loss 0.24718. Total time 1.09361 hours\n",
      "Training at Epoch 26 iteration 900 with loss 0.16835. Total time 1.09694 hours\n",
      "Training at Epoch 26 iteration 1000 with loss 0.32829. Total time 1.10027 hours\n",
      "Training at Epoch 26 iteration 1100 with loss 0.41530. Total time 1.10361 hours\n",
      "Validation at Epoch 26 , AUROC: 0.55446 , AUPRC: 0.52556 , F1: 0.41179\n",
      "--- Go for Testing ---\n",
      "Up to Epoch 25 Testing AUROC: 0.7567741320461668 , AUPRC: 0.7908620043478845 , F1: 0.6523473458115986\n",
      "Training at Epoch 27 iteration 0 with loss 0.29947. Total time 1.11138 hours\n",
      "Training at Epoch 27 iteration 100 with loss 0.20520. Total time 1.11472 hours\n",
      "Training at Epoch 27 iteration 200 with loss 0.13845. Total time 1.11805 hours\n",
      "Training at Epoch 27 iteration 300 with loss 0.10310. Total time 1.12138 hours\n",
      "Training at Epoch 27 iteration 400 with loss 0.22881. Total time 1.12472 hours\n",
      "Training at Epoch 27 iteration 500 with loss 0.31033. Total time 1.12805 hours\n",
      "Training at Epoch 27 iteration 600 with loss 0.25951. Total time 1.13138 hours\n",
      "Training at Epoch 27 iteration 700 with loss 0.39882. Total time 1.13472 hours\n",
      "Training at Epoch 27 iteration 800 with loss 0.19833. Total time 1.13805 hours\n",
      "Training at Epoch 27 iteration 900 with loss 0.22425. Total time 1.14138 hours\n",
      "Training at Epoch 27 iteration 1000 with loss 0.31065. Total time 1.14472 hours\n",
      "Training at Epoch 27 iteration 1100 with loss 0.17817. Total time 1.14805 hours\n",
      "Validation at Epoch 27 , AUROC: 0.55033 , AUPRC: 0.52097 , F1: 0.42109\n",
      "Training at Epoch 28 iteration 0 with loss 0.29095. Total time 1.15361 hours\n",
      "Training at Epoch 28 iteration 100 with loss 0.08627. Total time 1.15694 hours\n",
      "Training at Epoch 28 iteration 200 with loss 0.33802. Total time 1.16055 hours\n",
      "Training at Epoch 28 iteration 300 with loss 0.21429. Total time 1.16388 hours\n",
      "Training at Epoch 28 iteration 400 with loss 0.07432. Total time 1.16722 hours\n",
      "Training at Epoch 28 iteration 500 with loss 0.26963. Total time 1.17055 hours\n",
      "Training at Epoch 28 iteration 600 with loss 0.36065. Total time 1.17388 hours\n",
      "Training at Epoch 28 iteration 700 with loss 0.23529. Total time 1.17722 hours\n",
      "Training at Epoch 28 iteration 800 with loss 0.32503. Total time 1.18055 hours\n",
      "Training at Epoch 28 iteration 900 with loss 0.15391. Total time 1.18388 hours\n",
      "Training at Epoch 28 iteration 1000 with loss 0.37180. Total time 1.18722 hours\n",
      "Training at Epoch 28 iteration 1100 with loss 0.31511. Total time 1.19055 hours\n",
      "Validation at Epoch 28 , AUROC: 0.54720 , AUPRC: 0.51872 , F1: 0.32036\n",
      "Training at Epoch 29 iteration 0 with loss 0.18441. Total time 1.19611 hours\n",
      "Training at Epoch 29 iteration 100 with loss 0.21017. Total time 1.19944 hours\n",
      "Training at Epoch 29 iteration 200 with loss 0.29240. Total time 1.20277 hours\n",
      "Training at Epoch 29 iteration 300 with loss 0.27009. Total time 1.20611 hours\n",
      "Training at Epoch 29 iteration 400 with loss 0.16845. Total time 1.20944 hours\n",
      "Training at Epoch 29 iteration 500 with loss 0.13310. Total time 1.21277 hours\n",
      "Training at Epoch 29 iteration 600 with loss 0.26912. Total time 1.21611 hours\n",
      "Training at Epoch 29 iteration 700 with loss 0.33861. Total time 1.21944 hours\n",
      "Training at Epoch 29 iteration 800 with loss 0.28493. Total time 1.22277 hours\n",
      "Training at Epoch 29 iteration 900 with loss 0.32274. Total time 1.22611 hours\n",
      "Training at Epoch 29 iteration 1000 with loss 0.23307. Total time 1.22944 hours\n",
      "Training at Epoch 29 iteration 1100 with loss 0.24564. Total time 1.23277 hours\n",
      "Validation at Epoch 29 , AUROC: 0.55413 , AUPRC: 0.52438 , F1: 0.49611\n",
      "Training at Epoch 30 iteration 0 with loss 0.16493. Total time 1.23833 hours\n",
      "Training at Epoch 30 iteration 100 with loss 0.20075. Total time 1.24166 hours\n",
      "Training at Epoch 30 iteration 200 with loss 0.63124. Total time 1.245 hours\n",
      "Training at Epoch 30 iteration 300 with loss 0.17506. Total time 1.24833 hours\n",
      "Training at Epoch 30 iteration 400 with loss 0.28133. Total time 1.25166 hours\n",
      "Training at Epoch 30 iteration 500 with loss 0.11572. Total time 1.255 hours\n",
      "Training at Epoch 30 iteration 600 with loss 0.27800. Total time 1.25833 hours\n",
      "Training at Epoch 30 iteration 700 with loss 0.22359. Total time 1.26166 hours\n",
      "Training at Epoch 30 iteration 800 with loss 0.11097. Total time 1.265 hours\n",
      "Training at Epoch 30 iteration 900 with loss 0.10268. Total time 1.26833 hours\n",
      "Training at Epoch 30 iteration 1000 with loss 0.23202. Total time 1.27166 hours\n",
      "Training at Epoch 30 iteration 1100 with loss 0.31084. Total time 1.27527 hours\n",
      "Validation at Epoch 30 , AUROC: 0.55106 , AUPRC: 0.52571 , F1: 0.46162\n",
      "--- Go for Testing ---\n",
      "Testing AUROC: 0.7565942286766553 , AUPRC: 0.793998023158859 , F1: 0.6787125917560699\n",
      "--- Training Finished ---\n",
      "predicting...\n",
      "predicting...\n",
      "Results Saved\n",
      "in total: 36523 drug-target pairs\n",
      "encoding drug...\n",
      "unique drugs: 7242\n",
      "rdkit not found this smiles for morgan: nan convert to all 1 features\n"
     ]
    },
    {
     "name": "stderr",
     "output_type": "stream",
     "text": [
      "RDKit WARNING: [14:17:26] Conflicting single bond directions around double bond at index 1.\n",
      "RDKit WARNING: [14:17:26]   BondStereo set to STEREONONE and single bond directions set to NONE.\n"
     ]
    },
    {
     "name": "stdout",
     "output_type": "stream",
     "text": [
      "drug encoding finished...\n",
      "encoding protein...\n",
      "unique target sequence: 3518\n",
      "protein encoding finished...\n",
      "splitting dataset...\n",
      "Done.\n",
      "in total: 6482 drug-target pairs\n",
      "encoding drug...\n",
      "unique drugs: 2676\n",
      "rdkit not found this smiles for morgan: nan convert to all 1 features\n",
      "drug encoding finished...\n",
      "encoding protein...\n",
      "unique target sequence: 924\n",
      "protein encoding finished...\n",
      "splitting dataset...\n",
      "Done.\n",
      "in total: 3696 drug-target pairs\n",
      "encoding drug...\n",
      "unique drugs: 2185\n",
      "rdkit not found this smiles for morgan: nan convert to all 1 features\n"
     ]
    },
    {
     "name": "stderr",
     "output_type": "stream",
     "text": [
      "RDKit WARNING: [14:17:31] Conflicting single bond directions around double bond at index 1.\n",
      "RDKit WARNING: [14:17:31]   BondStereo set to STEREONONE and single bond directions set to NONE.\n"
     ]
    },
    {
     "name": "stdout",
     "output_type": "stream",
     "text": [
      "drug encoding finished...\n",
      "encoding protein...\n",
      "unique target sequence: 1573\n",
      "protein encoding finished...\n",
      "splitting dataset...\n",
      "Done.\n",
      "Let's use 1 GPU!\n",
      "--- Data Preparation ---\n",
      "--- Go for Training ---\n",
      "Training at Epoch 1 iteration 0 with loss 0.69803. Total time 0.0 hours\n",
      "Training at Epoch 1 iteration 100 with loss 0.66612. Total time 0.00333 hours\n",
      "Training at Epoch 1 iteration 200 with loss 0.59400. Total time 0.00666 hours\n",
      "Training at Epoch 1 iteration 300 with loss 0.78103. Total time 0.01 hours\n",
      "Training at Epoch 1 iteration 400 with loss 0.65348. Total time 0.01333 hours\n",
      "Training at Epoch 1 iteration 500 with loss 0.56278. Total time 0.01666 hours\n",
      "Training at Epoch 1 iteration 600 with loss 0.51556. Total time 0.02 hours\n",
      "Training at Epoch 1 iteration 700 with loss 0.63085. Total time 0.02333 hours\n",
      "Training at Epoch 1 iteration 800 with loss 0.67458. Total time 0.02666 hours\n",
      "Training at Epoch 1 iteration 900 with loss 0.63101. Total time 0.03 hours\n",
      "Training at Epoch 1 iteration 1000 with loss 0.65907. Total time 0.03333 hours\n",
      "Training at Epoch 1 iteration 1100 with loss 0.56242. Total time 0.03666 hours\n",
      "Validation at Epoch 1 , AUROC: 0.50050 , AUPRC: 0.48557 , F1: 0.0\n",
      "Training at Epoch 2 iteration 0 with loss 0.71167. Total time 0.04166 hours\n",
      "Training at Epoch 2 iteration 100 with loss 0.64872. Total time 0.045 hours\n",
      "Training at Epoch 2 iteration 200 with loss 0.59328. Total time 0.04833 hours\n",
      "Training at Epoch 2 iteration 300 with loss 0.46429. Total time 0.05166 hours\n",
      "Training at Epoch 2 iteration 400 with loss 0.63703. Total time 0.055 hours\n",
      "Training at Epoch 2 iteration 500 with loss 0.57296. Total time 0.05833 hours\n",
      "Training at Epoch 2 iteration 600 with loss 0.61685. Total time 0.06166 hours\n",
      "Training at Epoch 2 iteration 700 with loss 0.59268. Total time 0.065 hours\n",
      "Training at Epoch 2 iteration 800 with loss 0.64096. Total time 0.06861 hours\n",
      "Training at Epoch 2 iteration 900 with loss 0.58713. Total time 0.07194 hours\n",
      "Training at Epoch 2 iteration 1000 with loss 0.58619. Total time 0.07527 hours\n",
      "Training at Epoch 2 iteration 1100 with loss 0.67504. Total time 0.07861 hours\n",
      "Validation at Epoch 2 , AUROC: 0.51474 , AUPRC: 0.49190 , F1: 0.23166\n",
      "Training at Epoch 3 iteration 0 with loss 0.70090. Total time 0.08361 hours\n",
      "Training at Epoch 3 iteration 100 with loss 0.50216. Total time 0.08694 hours\n",
      "Training at Epoch 3 iteration 200 with loss 0.52165. Total time 0.09027 hours\n",
      "Training at Epoch 3 iteration 300 with loss 0.55463. Total time 0.09361 hours\n",
      "Training at Epoch 3 iteration 400 with loss 0.57285. Total time 0.09694 hours\n",
      "Training at Epoch 3 iteration 500 with loss 0.53824. Total time 0.10027 hours\n",
      "Training at Epoch 3 iteration 600 with loss 0.54324. Total time 0.10361 hours\n",
      "Training at Epoch 3 iteration 700 with loss 0.58108. Total time 0.10694 hours\n",
      "Training at Epoch 3 iteration 800 with loss 0.48818. Total time 0.11027 hours\n",
      "Training at Epoch 3 iteration 900 with loss 0.44096. Total time 0.11361 hours\n",
      "Training at Epoch 3 iteration 1000 with loss 0.50264. Total time 0.11694 hours\n",
      "Training at Epoch 3 iteration 1100 with loss 0.41198. Total time 0.12027 hours\n",
      "Validation at Epoch 3 , AUROC: 0.58513 , AUPRC: 0.54315 , F1: 0.30863\n",
      "Training at Epoch 4 iteration 0 with loss 0.54242. Total time 0.12527 hours\n",
      "Training at Epoch 4 iteration 200 with loss 0.55515. Total time 0.13194 hours\n",
      "Training at Epoch 4 iteration 300 with loss 0.50075. Total time 0.13527 hours\n",
      "Training at Epoch 4 iteration 400 with loss 0.49486. Total time 0.13861 hours\n",
      "Training at Epoch 4 iteration 500 with loss 0.22220. Total time 0.14194 hours\n",
      "Training at Epoch 4 iteration 600 with loss 0.27855. Total time 0.14527 hours\n",
      "Training at Epoch 4 iteration 700 with loss 0.34861. Total time 0.14861 hours\n",
      "Training at Epoch 4 iteration 800 with loss 0.42243. Total time 0.15194 hours\n",
      "Training at Epoch 4 iteration 900 with loss 0.53545. Total time 0.15527 hours\n",
      "Training at Epoch 4 iteration 1000 with loss 0.32879. Total time 0.15888 hours\n",
      "Training at Epoch 4 iteration 1100 with loss 0.43499. Total time 0.16222 hours\n",
      "Validation at Epoch 4 , AUROC: 0.64049 , AUPRC: 0.59371 , F1: 0.40892\n",
      "Training at Epoch 5 iteration 0 with loss 0.51378. Total time 0.16722 hours\n",
      "Training at Epoch 5 iteration 100 with loss 0.42867. Total time 0.17055 hours\n",
      "Training at Epoch 5 iteration 200 with loss 0.38770. Total time 0.17388 hours\n",
      "Training at Epoch 5 iteration 300 with loss 0.30655. Total time 0.17722 hours\n",
      "Training at Epoch 5 iteration 400 with loss 0.32970. Total time 0.18055 hours\n",
      "Training at Epoch 5 iteration 500 with loss 0.46422. Total time 0.18388 hours\n",
      "Training at Epoch 5 iteration 600 with loss 0.64756. Total time 0.18722 hours\n",
      "Training at Epoch 5 iteration 700 with loss 0.46661. Total time 0.19055 hours\n",
      "Training at Epoch 5 iteration 800 with loss 0.21371. Total time 0.19388 hours\n",
      "Training at Epoch 5 iteration 900 with loss 0.64347. Total time 0.19722 hours\n",
      "Training at Epoch 5 iteration 1000 with loss 0.32153. Total time 0.20055 hours\n",
      "Training at Epoch 5 iteration 1100 with loss 0.56960. Total time 0.20388 hours\n",
      "Validation at Epoch 5 , AUROC: 0.64445 , AUPRC: 0.60074 , F1: 0.33531\n",
      "Training at Epoch 6 iteration 0 with loss 0.44462. Total time 0.20888 hours\n",
      "Training at Epoch 6 iteration 100 with loss 0.30007. Total time 0.21222 hours\n",
      "Training at Epoch 6 iteration 200 with loss 0.35263. Total time 0.21555 hours\n",
      "Training at Epoch 6 iteration 300 with loss 0.36910. Total time 0.21888 hours\n",
      "Training at Epoch 6 iteration 400 with loss 0.41073. Total time 0.22222 hours\n",
      "Training at Epoch 6 iteration 500 with loss 0.35379. Total time 0.22555 hours\n",
      "Training at Epoch 6 iteration 600 with loss 0.40548. Total time 0.22888 hours\n",
      "Training at Epoch 6 iteration 700 with loss 0.23685. Total time 0.23222 hours\n",
      "Training at Epoch 6 iteration 800 with loss 0.28775. Total time 0.23555 hours\n",
      "Training at Epoch 6 iteration 900 with loss 0.25276. Total time 0.23888 hours\n",
      "Training at Epoch 6 iteration 1000 with loss 0.47328. Total time 0.24222 hours\n",
      "Training at Epoch 6 iteration 1100 with loss 0.35479. Total time 0.24555 hours\n",
      "Validation at Epoch 6 , AUROC: 0.65558 , AUPRC: 0.61051 , F1: 0.34755\n",
      "--- Go for Testing ---\n",
      "Up to Epoch 5 Testing AUROC: 0.7399521330038341 , AUPRC: 0.7652787186874075 , F1: 0.5167638483965015\n",
      "Training at Epoch 7 iteration 0 with loss 0.44108. Total time 0.25277 hours\n",
      "Training at Epoch 7 iteration 100 with loss 0.40111. Total time 0.25611 hours\n",
      "Training at Epoch 7 iteration 200 with loss 0.45291. Total time 0.25972 hours\n",
      "Training at Epoch 7 iteration 300 with loss 0.33119. Total time 0.26305 hours\n",
      "Training at Epoch 7 iteration 400 with loss 0.23029. Total time 0.26638 hours\n",
      "Training at Epoch 7 iteration 500 with loss 0.29376. Total time 0.26972 hours\n",
      "Training at Epoch 7 iteration 600 with loss 0.46398. Total time 0.27305 hours\n",
      "Training at Epoch 7 iteration 700 with loss 0.30605. Total time 0.27638 hours\n",
      "Training at Epoch 7 iteration 800 with loss 0.36236. Total time 0.27972 hours\n",
      "Training at Epoch 7 iteration 900 with loss 0.26040. Total time 0.28305 hours\n",
      "Training at Epoch 7 iteration 1000 with loss 0.31451. Total time 0.28638 hours\n",
      "Training at Epoch 7 iteration 1100 with loss 0.29755. Total time 0.28972 hours\n",
      "Validation at Epoch 7 , AUROC: 0.65785 , AUPRC: 0.61307 , F1: 0.46745\n",
      "Training at Epoch 8 iteration 0 with loss 0.32790. Total time 0.29472 hours\n",
      "Training at Epoch 8 iteration 100 with loss 0.39522. Total time 0.29805 hours\n",
      "Training at Epoch 8 iteration 200 with loss 0.44480. Total time 0.30138 hours\n",
      "Training at Epoch 8 iteration 300 with loss 0.33920. Total time 0.30472 hours\n",
      "Training at Epoch 8 iteration 400 with loss 0.16422. Total time 0.30805 hours\n",
      "Training at Epoch 8 iteration 500 with loss 0.42984. Total time 0.31138 hours\n",
      "Training at Epoch 8 iteration 600 with loss 0.38845. Total time 0.31472 hours\n",
      "Training at Epoch 8 iteration 700 with loss 0.27068. Total time 0.31805 hours\n",
      "Training at Epoch 8 iteration 800 with loss 0.24457. Total time 0.32138 hours\n",
      "Training at Epoch 8 iteration 900 with loss 0.40024. Total time 0.32472 hours\n",
      "Training at Epoch 8 iteration 1000 with loss 0.41114. Total time 0.32805 hours\n",
      "Training at Epoch 8 iteration 1100 with loss 0.29394. Total time 0.33138 hours\n",
      "Validation at Epoch 8 , AUROC: 0.65317 , AUPRC: 0.60999 , F1: 0.50860\n",
      "Training at Epoch 9 iteration 0 with loss 0.30115. Total time 0.33638 hours\n",
      "Training at Epoch 9 iteration 100 with loss 0.34098. Total time 0.34 hours\n",
      "Training at Epoch 9 iteration 200 with loss 0.46560. Total time 0.34333 hours\n",
      "Training at Epoch 9 iteration 300 with loss 0.29681. Total time 0.34666 hours\n",
      "Training at Epoch 9 iteration 400 with loss 0.34246. Total time 0.35 hours\n",
      "Training at Epoch 9 iteration 500 with loss 0.33386. Total time 0.35333 hours\n",
      "Training at Epoch 9 iteration 600 with loss 0.40552. Total time 0.35666 hours\n",
      "Training at Epoch 9 iteration 700 with loss 0.27069. Total time 0.36 hours\n",
      "Training at Epoch 9 iteration 800 with loss 0.35422. Total time 0.36333 hours\n",
      "Training at Epoch 9 iteration 900 with loss 0.45480. Total time 0.36666 hours\n",
      "Training at Epoch 9 iteration 1000 with loss 0.31056. Total time 0.37 hours\n",
      "Training at Epoch 9 iteration 1100 with loss 0.26962. Total time 0.37333 hours\n",
      "Validation at Epoch 9 , AUROC: 0.64402 , AUPRC: 0.60247 , F1: 0.49501\n",
      "Training at Epoch 10 iteration 0 with loss 0.41385. Total time 0.37833 hours\n",
      "Training at Epoch 10 iteration 100 with loss 0.33199. Total time 0.38166 hours\n",
      "Training at Epoch 10 iteration 200 with loss 0.25491. Total time 0.385 hours\n",
      "Training at Epoch 10 iteration 300 with loss 0.22246. Total time 0.38833 hours\n",
      "Training at Epoch 10 iteration 400 with loss 0.32234. Total time 0.39166 hours\n",
      "Training at Epoch 10 iteration 500 with loss 0.30706. Total time 0.395 hours\n",
      "Training at Epoch 10 iteration 600 with loss 0.17967. Total time 0.39833 hours\n",
      "Training at Epoch 10 iteration 700 with loss 0.25378. Total time 0.40166 hours\n",
      "Training at Epoch 10 iteration 800 with loss 0.50592. Total time 0.405 hours\n",
      "Training at Epoch 10 iteration 900 with loss 0.30566. Total time 0.40833 hours\n",
      "Training at Epoch 10 iteration 1100 with loss 0.22616. Total time 0.415 hours\n",
      "Validation at Epoch 10 , AUROC: 0.64504 , AUPRC: 0.60682 , F1: 0.36862\n",
      "Training at Epoch 11 iteration 0 with loss 0.45295. Total time 0.42027 hours\n",
      "Training at Epoch 11 iteration 100 with loss 0.38273. Total time 0.42361 hours\n",
      "Training at Epoch 11 iteration 200 with loss 0.40140. Total time 0.42694 hours\n",
      "Training at Epoch 11 iteration 300 with loss 0.23102. Total time 0.43027 hours\n",
      "Training at Epoch 11 iteration 400 with loss 0.30691. Total time 0.43361 hours\n",
      "Training at Epoch 11 iteration 500 with loss 0.46093. Total time 0.43694 hours\n",
      "Training at Epoch 11 iteration 600 with loss 0.35602. Total time 0.44027 hours\n",
      "Training at Epoch 11 iteration 700 with loss 0.28327. Total time 0.44361 hours\n",
      "Training at Epoch 11 iteration 800 with loss 0.52072. Total time 0.44694 hours\n",
      "Training at Epoch 11 iteration 900 with loss 0.46840. Total time 0.45027 hours\n",
      "Training at Epoch 11 iteration 1000 with loss 0.13811. Total time 0.45361 hours\n",
      "Training at Epoch 11 iteration 1100 with loss 0.30305. Total time 0.45694 hours\n",
      "Validation at Epoch 11 , AUROC: 0.64468 , AUPRC: 0.60515 , F1: 0.45974\n",
      "--- Go for Testing ---\n",
      "Up to Epoch 10 Testing AUROC: 0.7530202387844489 , AUPRC: 0.7873475622112769 , F1: 0.6262243285939969\n",
      "Training at Epoch 12 iteration 0 with loss 0.30547. Total time 0.46416 hours\n",
      "Training at Epoch 12 iteration 100 with loss 0.10573. Total time 0.4675 hours\n",
      "Training at Epoch 12 iteration 200 with loss 0.40090. Total time 0.47083 hours\n",
      "Training at Epoch 12 iteration 300 with loss 0.38324. Total time 0.47416 hours\n",
      "Training at Epoch 12 iteration 400 with loss 0.27692. Total time 0.4775 hours\n",
      "Training at Epoch 12 iteration 500 with loss 0.36368. Total time 0.48083 hours\n",
      "Training at Epoch 12 iteration 600 with loss 0.21822. Total time 0.48416 hours\n",
      "Training at Epoch 12 iteration 700 with loss 0.15458. Total time 0.4875 hours\n",
      "Training at Epoch 12 iteration 800 with loss 0.22377. Total time 0.49083 hours\n",
      "Training at Epoch 12 iteration 900 with loss 0.35314. Total time 0.49416 hours\n",
      "Training at Epoch 12 iteration 1000 with loss 0.39137. Total time 0.4975 hours\n",
      "Training at Epoch 12 iteration 1100 with loss 0.42513. Total time 0.50083 hours\n",
      "Validation at Epoch 12 , AUROC: 0.63939 , AUPRC: 0.60463 , F1: 0.41120\n",
      "Training at Epoch 13 iteration 0 with loss 0.31296. Total time 0.50583 hours\n",
      "Training at Epoch 13 iteration 100 with loss 0.53377. Total time 0.50916 hours\n",
      "Training at Epoch 13 iteration 200 with loss 0.12913. Total time 0.51277 hours\n",
      "Training at Epoch 13 iteration 300 with loss 0.30906. Total time 0.51611 hours\n",
      "Training at Epoch 13 iteration 400 with loss 0.34188. Total time 0.51944 hours\n",
      "Training at Epoch 13 iteration 500 with loss 0.22913. Total time 0.52277 hours\n",
      "Training at Epoch 13 iteration 600 with loss 0.34923. Total time 0.52611 hours\n",
      "Training at Epoch 13 iteration 700 with loss 0.21945. Total time 0.52944 hours\n",
      "Training at Epoch 13 iteration 800 with loss 0.25618. Total time 0.53277 hours\n",
      "Training at Epoch 13 iteration 900 with loss 0.47172. Total time 0.53611 hours\n",
      "Training at Epoch 13 iteration 1000 with loss 0.36409. Total time 0.53944 hours\n",
      "Training at Epoch 13 iteration 1100 with loss 0.24760. Total time 0.54277 hours\n",
      "Validation at Epoch 13 , AUROC: 0.63160 , AUPRC: 0.59554 , F1: 0.53018\n",
      "Training at Epoch 14 iteration 0 with loss 0.22649. Total time 0.54777 hours\n",
      "Training at Epoch 14 iteration 100 with loss 0.30562. Total time 0.55111 hours\n",
      "Training at Epoch 14 iteration 200 with loss 0.41012. Total time 0.55444 hours\n",
      "Training at Epoch 14 iteration 300 with loss 0.33742. Total time 0.55777 hours\n",
      "Training at Epoch 14 iteration 400 with loss 0.21174. Total time 0.56111 hours\n",
      "Training at Epoch 14 iteration 500 with loss 0.26258. Total time 0.56444 hours\n",
      "Training at Epoch 14 iteration 600 with loss 0.18258. Total time 0.56777 hours\n",
      "Training at Epoch 14 iteration 700 with loss 0.41181. Total time 0.57111 hours\n",
      "Training at Epoch 14 iteration 800 with loss 0.30276. Total time 0.57444 hours\n",
      "Training at Epoch 14 iteration 900 with loss 0.35882. Total time 0.57777 hours\n",
      "Training at Epoch 14 iteration 1000 with loss 0.31944. Total time 0.58111 hours\n",
      "Training at Epoch 14 iteration 1100 with loss 0.16356. Total time 0.58444 hours\n",
      "Validation at Epoch 14 , AUROC: 0.63172 , AUPRC: 0.59565 , F1: 0.38708\n",
      "Training at Epoch 15 iteration 0 with loss 0.16421. Total time 0.58944 hours\n",
      "Training at Epoch 15 iteration 100 with loss 0.16195. Total time 0.59277 hours\n",
      "Training at Epoch 15 iteration 200 with loss 0.43329. Total time 0.59611 hours\n",
      "Training at Epoch 15 iteration 300 with loss 0.44399. Total time 0.59944 hours\n",
      "Training at Epoch 15 iteration 400 with loss 0.31899. Total time 0.60277 hours\n",
      "Training at Epoch 15 iteration 500 with loss 0.33116. Total time 0.60611 hours\n",
      "Training at Epoch 15 iteration 600 with loss 0.46666. Total time 0.60944 hours\n",
      "Training at Epoch 15 iteration 700 with loss 0.41760. Total time 0.61305 hours\n",
      "Training at Epoch 15 iteration 800 with loss 0.29917. Total time 0.61638 hours\n",
      "Training at Epoch 15 iteration 900 with loss 0.21936. Total time 0.61972 hours\n",
      "Training at Epoch 15 iteration 1000 with loss 0.30212. Total time 0.62305 hours\n",
      "Training at Epoch 15 iteration 1100 with loss 0.22178. Total time 0.62638 hours\n",
      "Validation at Epoch 15 , AUROC: 0.62868 , AUPRC: 0.59345 , F1: 0.43964\n",
      "Training at Epoch 16 iteration 0 with loss 0.27840. Total time 0.63138 hours\n",
      "Training at Epoch 16 iteration 100 with loss 0.17442. Total time 0.63472 hours\n",
      "Training at Epoch 16 iteration 200 with loss 0.11666. Total time 0.63805 hours\n",
      "Training at Epoch 16 iteration 300 with loss 0.27071. Total time 0.64138 hours\n",
      "Training at Epoch 16 iteration 400 with loss 0.29876. Total time 0.64472 hours\n",
      "Training at Epoch 16 iteration 500 with loss 0.43407. Total time 0.64805 hours\n",
      "Training at Epoch 16 iteration 600 with loss 0.37330. Total time 0.65138 hours\n",
      "Training at Epoch 16 iteration 700 with loss 0.21092. Total time 0.65472 hours\n",
      "Training at Epoch 16 iteration 800 with loss 0.35018. Total time 0.65805 hours\n",
      "Training at Epoch 16 iteration 900 with loss 0.26684. Total time 0.66138 hours\n",
      "Training at Epoch 16 iteration 1000 with loss 0.47246. Total time 0.66472 hours\n",
      "Training at Epoch 16 iteration 1100 with loss 0.35847. Total time 0.66805 hours\n",
      "Validation at Epoch 16 , AUROC: 0.62393 , AUPRC: 0.59258 , F1: 0.45393\n",
      "--- Go for Testing ---\n",
      "Up to Epoch 15 Testing AUROC: 0.7446741158325083 , AUPRC: 0.7837964771568604 , F1: 0.631974921630094\n",
      "Training at Epoch 17 iteration 0 with loss 0.13317. Total time 0.67527 hours\n",
      "Training at Epoch 17 iteration 100 with loss 0.16036. Total time 0.67861 hours\n",
      "Training at Epoch 17 iteration 200 with loss 0.14838. Total time 0.68194 hours\n",
      "Training at Epoch 17 iteration 300 with loss 0.25733. Total time 0.68527 hours\n",
      "Training at Epoch 17 iteration 400 with loss 0.38901. Total time 0.68861 hours\n",
      "Training at Epoch 17 iteration 500 with loss 0.20397. Total time 0.69194 hours\n",
      "Training at Epoch 17 iteration 600 with loss 0.24630. Total time 0.69527 hours\n",
      "Training at Epoch 17 iteration 700 with loss 0.29855. Total time 0.69861 hours\n",
      "Training at Epoch 17 iteration 800 with loss 0.21786. Total time 0.70194 hours\n",
      "Training at Epoch 17 iteration 900 with loss 0.42139. Total time 0.70527 hours\n",
      "Training at Epoch 17 iteration 1000 with loss 0.26027. Total time 0.70861 hours\n",
      "Training at Epoch 17 iteration 1100 with loss 0.39092. Total time 0.71194 hours\n",
      "Validation at Epoch 17 , AUROC: 0.62319 , AUPRC: 0.59108 , F1: 0.45829\n",
      "Training at Epoch 18 iteration 0 with loss 0.37181. Total time 0.71722 hours\n",
      "Training at Epoch 18 iteration 100 with loss 0.41246. Total time 0.72055 hours\n",
      "Training at Epoch 18 iteration 200 with loss 0.19202. Total time 0.72388 hours\n",
      "Training at Epoch 18 iteration 300 with loss 0.22213. Total time 0.72722 hours\n",
      "Training at Epoch 18 iteration 400 with loss 0.32714. Total time 0.73055 hours\n",
      "Training at Epoch 18 iteration 500 with loss 0.35173. Total time 0.73388 hours\n",
      "Training at Epoch 18 iteration 600 with loss 0.34827. Total time 0.73722 hours\n",
      "Training at Epoch 18 iteration 700 with loss 0.23922. Total time 0.74055 hours\n",
      "Training at Epoch 18 iteration 800 with loss 0.19886. Total time 0.74388 hours\n",
      "Training at Epoch 18 iteration 900 with loss 0.22666. Total time 0.74722 hours\n",
      "Training at Epoch 18 iteration 1000 with loss 0.08098. Total time 0.75055 hours\n",
      "Training at Epoch 18 iteration 1100 with loss 0.18634. Total time 0.75388 hours\n",
      "Validation at Epoch 18 , AUROC: 0.61555 , AUPRC: 0.58388 , F1: 0.47622\n",
      "Training at Epoch 19 iteration 0 with loss 0.12447. Total time 0.75888 hours\n",
      "Training at Epoch 19 iteration 100 with loss 0.32059. Total time 0.76222 hours\n",
      "Training at Epoch 19 iteration 200 with loss 0.16370. Total time 0.76555 hours\n",
      "Training at Epoch 19 iteration 300 with loss 0.25528. Total time 0.76888 hours\n",
      "Training at Epoch 19 iteration 400 with loss 0.29949. Total time 0.77222 hours\n",
      "Training at Epoch 19 iteration 500 with loss 0.20957. Total time 0.77555 hours\n",
      "Training at Epoch 19 iteration 600 with loss 0.35222. Total time 0.77888 hours\n",
      "Training at Epoch 19 iteration 700 with loss 0.33043. Total time 0.78222 hours\n",
      "Training at Epoch 19 iteration 800 with loss 0.21109. Total time 0.78555 hours\n",
      "Training at Epoch 19 iteration 900 with loss 0.31311. Total time 0.78888 hours\n",
      "Training at Epoch 19 iteration 1000 with loss 0.17982. Total time 0.79222 hours\n",
      "Training at Epoch 19 iteration 1100 with loss 0.27331. Total time 0.79555 hours\n",
      "Validation at Epoch 19 , AUROC: 0.61461 , AUPRC: 0.58273 , F1: 0.38067\n",
      "Training at Epoch 20 iteration 0 with loss 0.28548. Total time 0.80055 hours\n",
      "Training at Epoch 20 iteration 100 with loss 0.19371. Total time 0.80388 hours\n",
      "Training at Epoch 20 iteration 200 with loss 0.24161. Total time 0.8075 hours\n",
      "Training at Epoch 20 iteration 300 with loss 0.36832. Total time 0.81083 hours\n",
      "Training at Epoch 20 iteration 400 with loss 0.33833. Total time 0.81416 hours\n",
      "Training at Epoch 20 iteration 500 with loss 0.19039. Total time 0.8175 hours\n",
      "Training at Epoch 20 iteration 600 with loss 0.25323. Total time 0.82083 hours\n",
      "Training at Epoch 20 iteration 700 with loss 0.11708. Total time 0.82416 hours\n",
      "Training at Epoch 20 iteration 800 with loss 0.20488. Total time 0.8275 hours\n",
      "Training at Epoch 20 iteration 900 with loss 0.19868. Total time 0.83083 hours\n",
      "Training at Epoch 20 iteration 1000 with loss 0.30459. Total time 0.83416 hours\n",
      "Training at Epoch 20 iteration 1100 with loss 0.40864. Total time 0.8375 hours\n",
      "Validation at Epoch 20 , AUROC: 0.61661 , AUPRC: 0.58642 , F1: 0.42468\n",
      "Training at Epoch 21 iteration 0 with loss 0.24748. Total time 0.8425 hours\n",
      "Training at Epoch 21 iteration 100 with loss 0.18216. Total time 0.84583 hours\n",
      "Training at Epoch 21 iteration 200 with loss 0.37165. Total time 0.84916 hours\n",
      "Training at Epoch 21 iteration 300 with loss 0.14208. Total time 0.8525 hours\n",
      "Training at Epoch 21 iteration 400 with loss 0.13464. Total time 0.85583 hours\n",
      "Training at Epoch 21 iteration 500 with loss 0.44076. Total time 0.85916 hours\n",
      "Training at Epoch 21 iteration 600 with loss 0.11817. Total time 0.8625 hours\n",
      "Training at Epoch 21 iteration 700 with loss 0.24170. Total time 0.86583 hours\n",
      "Training at Epoch 21 iteration 800 with loss 0.26007. Total time 0.86916 hours\n",
      "Training at Epoch 21 iteration 900 with loss 0.27036. Total time 0.8725 hours\n",
      "Training at Epoch 21 iteration 1000 with loss 0.32982. Total time 0.87583 hours\n",
      "Training at Epoch 21 iteration 1100 with loss 0.73620. Total time 0.87916 hours\n",
      "Validation at Epoch 21 , AUROC: 0.60836 , AUPRC: 0.57907 , F1: 0.38495\n",
      "--- Go for Testing ---\n",
      "Up to Epoch 20 Testing AUROC: 0.7323375147406395 , AUPRC: 0.77737571135721 , F1: 0.583023334460602\n",
      "Training at Epoch 22 iteration 0 with loss 0.14759. Total time 0.88666 hours\n",
      "Training at Epoch 22 iteration 100 with loss 0.33769. Total time 0.89 hours\n",
      "Training at Epoch 22 iteration 200 with loss 0.31040. Total time 0.89333 hours\n",
      "Training at Epoch 22 iteration 300 with loss 0.20296. Total time 0.89666 hours\n",
      "Training at Epoch 22 iteration 400 with loss 0.27947. Total time 0.9 hours\n",
      "Training at Epoch 22 iteration 500 with loss 0.26573. Total time 0.90333 hours\n",
      "Training at Epoch 22 iteration 600 with loss 0.16117. Total time 0.90666 hours\n",
      "Training at Epoch 22 iteration 700 with loss 0.31085. Total time 0.91 hours\n",
      "Training at Epoch 22 iteration 800 with loss 0.23186. Total time 0.91333 hours\n",
      "Training at Epoch 22 iteration 900 with loss 0.19945. Total time 0.91666 hours\n",
      "Training at Epoch 22 iteration 1000 with loss 0.42194. Total time 0.92 hours\n",
      "Training at Epoch 22 iteration 1100 with loss 0.21564. Total time 0.92333 hours\n",
      "Validation at Epoch 22 , AUROC: 0.61414 , AUPRC: 0.58451 , F1: 0.45892\n",
      "Training at Epoch 23 iteration 0 with loss 0.14613. Total time 0.92833 hours\n",
      "Training at Epoch 23 iteration 100 with loss 0.18311. Total time 0.93166 hours\n",
      "Training at Epoch 23 iteration 200 with loss 0.25039. Total time 0.935 hours\n",
      "Training at Epoch 23 iteration 300 with loss 0.32024. Total time 0.93833 hours\n",
      "Training at Epoch 23 iteration 400 with loss 0.22570. Total time 0.94166 hours\n",
      "Training at Epoch 23 iteration 500 with loss 0.32554. Total time 0.945 hours\n",
      "Training at Epoch 23 iteration 600 with loss 0.20894. Total time 0.94833 hours\n",
      "Training at Epoch 23 iteration 700 with loss 0.19175. Total time 0.95166 hours\n",
      "Training at Epoch 23 iteration 800 with loss 0.38568. Total time 0.955 hours\n",
      "Training at Epoch 23 iteration 900 with loss 0.20466. Total time 0.95833 hours\n",
      "Training at Epoch 23 iteration 1000 with loss 0.31699. Total time 0.96166 hours\n",
      "Training at Epoch 23 iteration 1100 with loss 0.19702. Total time 0.965 hours\n",
      "Validation at Epoch 23 , AUROC: 0.60947 , AUPRC: 0.58237 , F1: 0.45685\n",
      "Training at Epoch 24 iteration 0 with loss 0.21360. Total time 0.97027 hours\n",
      "Training at Epoch 24 iteration 100 with loss 0.32695. Total time 0.97361 hours\n",
      "Training at Epoch 24 iteration 200 with loss 0.18743. Total time 0.97694 hours\n",
      "Training at Epoch 24 iteration 300 with loss 0.14159. Total time 0.98027 hours\n",
      "Training at Epoch 24 iteration 400 with loss 0.24096. Total time 0.98361 hours\n",
      "Training at Epoch 24 iteration 500 with loss 0.43404. Total time 0.98694 hours\n",
      "Training at Epoch 24 iteration 600 with loss 0.16793. Total time 0.99027 hours\n",
      "Training at Epoch 24 iteration 700 with loss 0.35701. Total time 0.99361 hours\n",
      "Training at Epoch 24 iteration 800 with loss 0.25759. Total time 0.99694 hours\n",
      "Training at Epoch 24 iteration 900 with loss 0.15317. Total time 1.00027 hours\n",
      "Training at Epoch 24 iteration 1000 with loss 0.26933. Total time 1.00361 hours\n",
      "Training at Epoch 24 iteration 1100 with loss 0.13923. Total time 1.00694 hours\n",
      "Validation at Epoch 24 , AUROC: 0.61219 , AUPRC: 0.58360 , F1: 0.38404\n",
      "Training at Epoch 25 iteration 0 with loss 0.41944. Total time 1.01194 hours\n",
      "Training at Epoch 25 iteration 100 with loss 0.27109. Total time 1.01527 hours\n",
      "Training at Epoch 25 iteration 200 with loss 0.15053. Total time 1.01861 hours\n",
      "Training at Epoch 25 iteration 300 with loss 0.18523. Total time 1.02194 hours\n",
      "Training at Epoch 25 iteration 400 with loss 0.29418. Total time 1.02527 hours\n",
      "Training at Epoch 25 iteration 500 with loss 0.11710. Total time 1.02861 hours\n",
      "Training at Epoch 25 iteration 600 with loss 0.19566. Total time 1.03194 hours\n",
      "Training at Epoch 25 iteration 700 with loss 0.24365. Total time 1.03555 hours\n",
      "Training at Epoch 25 iteration 800 with loss 0.52818. Total time 1.03888 hours\n",
      "Training at Epoch 25 iteration 900 with loss 0.34167. Total time 1.04222 hours\n",
      "Training at Epoch 25 iteration 1000 with loss 0.11003. Total time 1.04555 hours\n",
      "Training at Epoch 25 iteration 1100 with loss 0.24878. Total time 1.04888 hours\n",
      "Validation at Epoch 25 , AUROC: 0.60569 , AUPRC: 0.57923 , F1: 0.39339\n",
      "Training at Epoch 26 iteration 0 with loss 0.21283. Total time 1.05388 hours\n",
      "Training at Epoch 26 iteration 100 with loss 0.09588. Total time 1.05722 hours\n",
      "Training at Epoch 26 iteration 200 with loss 0.47234. Total time 1.06055 hours\n",
      "Training at Epoch 26 iteration 300 with loss 0.21504. Total time 1.06388 hours\n",
      "Training at Epoch 26 iteration 400 with loss 0.12686. Total time 1.06722 hours\n",
      "Training at Epoch 26 iteration 500 with loss 0.42132. Total time 1.07055 hours\n",
      "Training at Epoch 26 iteration 600 with loss 0.31649. Total time 1.07388 hours\n",
      "Training at Epoch 26 iteration 700 with loss 0.16541. Total time 1.07722 hours\n",
      "Training at Epoch 26 iteration 800 with loss 0.42082. Total time 1.08055 hours\n",
      "Training at Epoch 26 iteration 900 with loss 0.41670. Total time 1.08388 hours\n",
      "Training at Epoch 26 iteration 1000 with loss 0.45255. Total time 1.08722 hours\n",
      "Training at Epoch 26 iteration 1100 with loss 0.21412. Total time 1.09055 hours\n",
      "Validation at Epoch 26 , AUROC: 0.60256 , AUPRC: 0.57676 , F1: 0.48330\n",
      "--- Go for Testing ---\n",
      "Up to Epoch 25 Testing AUROC: 0.725827474414174 , AUPRC: 0.7737873949479542 , F1: 0.6370633510953227\n",
      "Training at Epoch 27 iteration 0 with loss 0.29730. Total time 1.09777 hours\n",
      "Training at Epoch 27 iteration 100 with loss 0.26475. Total time 1.10111 hours\n",
      "Training at Epoch 27 iteration 200 with loss 0.46615. Total time 1.10444 hours\n",
      "Training at Epoch 27 iteration 300 with loss 0.14093. Total time 1.10777 hours\n",
      "Training at Epoch 27 iteration 400 with loss 0.15562. Total time 1.11111 hours\n",
      "Training at Epoch 27 iteration 500 with loss 0.10479. Total time 1.11444 hours\n",
      "Training at Epoch 27 iteration 600 with loss 0.12316. Total time 1.11777 hours\n",
      "Training at Epoch 27 iteration 700 with loss 0.12854. Total time 1.12111 hours\n",
      "Training at Epoch 27 iteration 800 with loss 0.27724. Total time 1.12444 hours\n",
      "Training at Epoch 27 iteration 900 with loss 0.20295. Total time 1.12805 hours\n",
      "Training at Epoch 27 iteration 1000 with loss 0.18640. Total time 1.13138 hours\n",
      "Training at Epoch 27 iteration 1100 with loss 0.15125. Total time 1.13472 hours\n",
      "Validation at Epoch 27 , AUROC: 0.59934 , AUPRC: 0.57392 , F1: 0.40994\n",
      "Training at Epoch 28 iteration 0 with loss 0.32922. Total time 1.13972 hours\n",
      "Training at Epoch 28 iteration 100 with loss 0.25712. Total time 1.14305 hours\n",
      "Training at Epoch 28 iteration 200 with loss 0.35777. Total time 1.14638 hours\n",
      "Training at Epoch 28 iteration 300 with loss 0.30410. Total time 1.14972 hours\n",
      "Training at Epoch 28 iteration 400 with loss 0.20271. Total time 1.15305 hours\n",
      "Training at Epoch 28 iteration 500 with loss 0.37354. Total time 1.15638 hours\n",
      "Training at Epoch 28 iteration 600 with loss 0.20549. Total time 1.15972 hours\n",
      "Training at Epoch 28 iteration 700 with loss 0.35495. Total time 1.16305 hours\n",
      "Training at Epoch 28 iteration 800 with loss 0.29247. Total time 1.16638 hours\n",
      "Training at Epoch 28 iteration 900 with loss 0.37862. Total time 1.16972 hours\n",
      "Training at Epoch 28 iteration 1000 with loss 0.25412. Total time 1.17305 hours\n",
      "Training at Epoch 28 iteration 1100 with loss 0.15244. Total time 1.17638 hours\n",
      "Validation at Epoch 28 , AUROC: 0.61044 , AUPRC: 0.58649 , F1: 0.52049\n",
      "Training at Epoch 29 iteration 0 with loss 0.20910. Total time 1.18138 hours\n",
      "Training at Epoch 29 iteration 100 with loss 0.32486. Total time 1.18472 hours\n",
      "Training at Epoch 29 iteration 200 with loss 0.15344. Total time 1.18805 hours\n",
      "Training at Epoch 29 iteration 300 with loss 0.27735. Total time 1.19138 hours\n",
      "Training at Epoch 29 iteration 400 with loss 0.21751. Total time 1.19472 hours\n",
      "Training at Epoch 29 iteration 500 with loss 0.48292. Total time 1.19805 hours\n",
      "Training at Epoch 29 iteration 600 with loss 0.21868. Total time 1.20138 hours\n",
      "Training at Epoch 29 iteration 700 with loss 0.19617. Total time 1.20472 hours\n",
      "Training at Epoch 29 iteration 800 with loss 0.30917. Total time 1.20805 hours\n",
      "Training at Epoch 29 iteration 900 with loss 0.06646. Total time 1.21138 hours\n",
      "Training at Epoch 29 iteration 1000 with loss 0.37473. Total time 1.21472 hours\n",
      "Training at Epoch 29 iteration 1100 with loss 0.34640. Total time 1.21805 hours\n",
      "Validation at Epoch 29 , AUROC: 0.59884 , AUPRC: 0.57424 , F1: 0.38057\n",
      "Training at Epoch 30 iteration 0 with loss 0.08855. Total time 1.22305 hours\n",
      "Training at Epoch 30 iteration 100 with loss 0.45611. Total time 1.22638 hours\n",
      "Training at Epoch 30 iteration 200 with loss 0.14562. Total time 1.22972 hours\n",
      "Training at Epoch 30 iteration 300 with loss 0.14460. Total time 1.23333 hours\n",
      "Training at Epoch 30 iteration 400 with loss 0.17095. Total time 1.23666 hours\n",
      "Training at Epoch 30 iteration 500 with loss 0.21546. Total time 1.24 hours\n",
      "Training at Epoch 30 iteration 600 with loss 0.18942. Total time 1.24333 hours\n",
      "Training at Epoch 30 iteration 700 with loss 0.30236. Total time 1.24666 hours\n",
      "Training at Epoch 30 iteration 800 with loss 0.27071. Total time 1.25 hours\n",
      "Training at Epoch 30 iteration 900 with loss 0.24408. Total time 1.25333 hours\n",
      "Training at Epoch 30 iteration 1000 with loss 0.14153. Total time 1.25666 hours\n",
      "Training at Epoch 30 iteration 1100 with loss 0.41839. Total time 1.26 hours\n",
      "Validation at Epoch 30 , AUROC: 0.60362 , AUPRC: 0.57970 , F1: 0.47153\n",
      "--- Go for Testing ---\n",
      "Testing AUROC: 0.7291283234340076 , AUPRC: 0.7777941791894998 , F1: 0.628345498783455\n",
      "--- Training Finished ---\n",
      "predicting...\n",
      "predicting...\n",
      "Results Saved\n",
      "\n"
     ]
    },
    {
     "data": {
      "image/png": "[encoded data removed]",
      "text/plain": [
       "<Figure size 432x288 with 1 Axes>"
      ]
     },
     "metadata": {
      "needs_background": "light"
     },
     "output_type": "display_data"
    },
    {
     "data": {
      "image/png": "[encoded data removed]",
      "text/plain": [
       "<Figure size 432x288 with 1 Axes>"
      ]
     },
     "metadata": {
      "needs_background": "light"
     },
     "output_type": "display_data"
    },
    {
     "data": {
      "image/png": "[encoded data removed]",
      "text/plain": [
       "<Figure size 432x288 with 1 Axes>"
      ]
     },
     "metadata": {
      "needs_background": "light"
     },
     "output_type": "display_data"
    }
   ],
   "source": [
    "version = input(\"Version : \")\n",
    "model_title = 'deep_purpose_ds_final'\n",
    "v_num = version\n",
    "data_dir = '../data/sars-busters-consolidated/KF-Final/'\n",
    "\n",
    "for run_number in tqdm(range(0, 5)):\n",
    "    \n",
    "    # Create Lists To Hold Information\n",
    "    \n",
    "    val_auc_ut = []\n",
    "    val_auc_ue = []\n",
    "    val_aup_ut = []\n",
    "    val_aup_ue = []\n",
    "    \n",
    "    loss = []\n",
    "    acc = []\n",
    "\n",
    "    # Reinitialise Model At Each Run \n",
    "    model = models.model_initialize(**config)\n",
    "    \n",
    "    \n",
    "    # Create File Name To Save Model\n",
    "    version = v_num + \"_run\" + str(run_number) + \"_\" + pd.to_datetime(time.time(), unit = 's').strftime('%m-%d_%Hh%M')\n",
    "    \n",
    "    # Create Validation DataFrames For Each Run\n",
    "    #X_0_val_ut, X_1_val_ut, Y_val_actual_ut = dataframe_to_embed_array(interactions_df = targets_validation[run_number],\n",
    "    #                                                                      drug_list = drug_list,\n",
    "    #                                                                      target_list = target_list,\n",
    "    #                                                                      drug_embed_len = 200)\n",
    "\n",
    "    #X_0_val_ue, X_1_val_ue, Y_val_actual_ue = dataframe_to_embed_array(interactions_df = edges_validation[run_number],\n",
    "    #                                                                      drug_list = drug_list,\n",
    "    #                                                                     target_list = target_list,\n",
    "    #                                                                      drug_embed_len = 200)\n",
    "    \n",
    "    # Create Variable For Seen Targets Needed Later\n",
    "    seen_targets = list(train_sets[run_number]['target_aa_code'])\n",
    "    \n",
    "        \n",
    "        \n",
    "    # Get Batch Of Training Examples\n",
    "    \n",
    "    interactions = train_sets[run_number]\n",
    "\n",
    "\n",
    "    output_string = \"\"\n",
    "\n",
    "\n",
    "    traind, nothing, nothing = data_process(add_smile(interactions)['SMILE'],\n",
    "                                            interactions['target_aa_code'],\n",
    "                                            interactions['Y'], \n",
    "                                    drug_encoding, target_encoding, \n",
    "                                    split_method='cold_protein', \n",
    "                                    frac=[1,0,.0])\n",
    "\n",
    "    test_ut, nothing, nothing =  data_process(add_smile(targets_validation[run_number])['SMILE'],\n",
    "                                    targets_validation[run_number]['target_aa_code'],\n",
    "                                    targets_validation[run_number]['Y'], \n",
    "                                    drug_encoding, target_encoding, \n",
    "                                    split_method='cold_protein', \n",
    "                                    frac=[1,0,.0])\n",
    "    \n",
    "    Y_val_actual_ut = targets_validation[run_number]['Y']\n",
    "\n",
    "    test_ue, nothing, nothing =  data_process(add_smile(edges_validation[run_number])['SMILE'],\n",
    "                                    edges_validation[run_number]['target_aa_code'],\n",
    "                                    edges_validation[run_number]['Y'], \n",
    "                                    drug_encoding, target_encoding, \n",
    "                                    split_method='cold_protein', \n",
    "                                    frac=[1,0,.0])\n",
    "    \n",
    "    Y_val_actual_ue = edges_validation[run_number]['Y']\n",
    "\n",
    "    model.train(traind, test_ut, test_ue)\n",
    "\n",
    "\n",
    "    # Calculate and Save Unseen Target Performance\n",
    "    Y_val_predictions_ut = []\n",
    "    Y_val_predictions_ut.extend(model.predict(test_ut))\n",
    "#     Y_val_predictions_ut = [x[0] for x in Y_val_predictions_ut]\n",
    "    curr_val_auc = roc_auc_score(Y_val_actual_ut, Y_val_predictions_ut)\n",
    "    curr_val_aup = average_precision_score(Y_val_actual_ut, Y_val_predictions_ut)\n",
    "    val_auc_ut.append(curr_val_auc)\n",
    "    val_aup_ut.append(curr_val_aup)\n",
    "\n",
    "    Y_val_predictions_ue = []\n",
    "    Y_val_predictions_ue.extend(model.predict(test_ue))\n",
    "#     Y_val_predictions_ue = [x[0] for x in Y_val_predictions_ue]\n",
    "    curr_val_auc = roc_auc_score(Y_val_actual_ue, Y_val_predictions_ue)\n",
    "    curr_val_aup = average_precision_score(Y_val_actual_ue, Y_val_predictions_ue)\n",
    "    val_aup_ue.append(curr_val_aup)\n",
    "    val_auc_ue.append(curr_val_auc)\n",
    "\n",
    "    # Print Stuff\n",
    "    output_string = output_string + \"Unseen Targets AUC : \" + str(np.round(val_auc_ut[-1], 2)) + \"\\nUnseen Edges AUC : \" +  str(np.round(val_auc_ue[-1], 2)) + \"\\n\"\n",
    "    output_string = output_string + \"Unseen Targets AUP : \" + str(np.round(val_aup_ut[-1], 2)) + \"\\nUnseen Edges AUP : \" +  str(np.round(val_aup_ue[-1], 2)) + \"\\n\"\n",
    "\n",
    "    # Save Model\n",
    "    model.save_model(data_dir + 'Run_' + str(run_number) + '/' + model_title + '_' + str(version) + '.model')\n",
    "\n",
    "\n",
    "#     loss = loss + history.history['loss']\n",
    "#     acc = acc + history.history['binary_accuracy']            \n",
    "    \n",
    "    model_key = model_title + '_' + str(v_num)\n",
    "    \n",
    "    if model_key in results:\n",
    "        results[model_key]\n",
    "    else: \n",
    "        results[model_key] = {}\n",
    "        \n",
    "    results[model_key][run_number] = {}\n",
    "    results[model_key][run_number]['val_auc_ut'] = val_auc_ut\n",
    "    results[model_key][run_number]['val_auc_ue'] = val_auc_ue\n",
    "    results[model_key][run_number]['val_aup_ut'] = val_aup_ut\n",
    "    results[model_key][run_number]['val_aup_ue'] = val_aup_ue\n",
    "    results[model_key][run_number]['loss'] = loss\n",
    "    results[model_key][run_number]['acc'] = acc\n",
    "    \n",
    "    with open(data_dir + '/results_final.json', 'w') as file: \n",
    "            json.dump(results, file)\n",
    "\n",
    "    print (\"Results Saved\")\n",
    "\n"
   ]
  },
  {
   "cell_type": "code",
   "execution_count": 24,
   "metadata": {
    "scrolled": true
   },
   "outputs": [
    {
     "data": {
      "text/plain": [
       "'../data/sars-busters-consolidated/KFUD2/Run_5/deep_purpose_ds2_0_run5_03-18_09h51.model'"
      ]
     },
     "execution_count": 24,
     "metadata": {},
     "output_type": "execute_result"
    }
   ],
   "source": [
    "data_dir + 'Run_' + str(run_number) + '/' + model_title + '_' + str(version) + '.model'"
   ]
  },
  {
   "cell_type": "markdown",
   "metadata": {
    "heading_collapsed": true
   },
   "source": [
    "#### Older Code"
   ]
  },
  {
   "cell_type": "code",
   "execution_count": null,
   "metadata": {
    "hidden": true,
    "scrolled": true
   },
   "outputs": [],
   "source": [
    "# version = input(\"Version : \")\n",
    "# v_num = version\n",
    "# epochs = 16\n",
    "\n",
    "# try:\n",
    "#     current_results['vaenet_ds1_v' + str(v_num)]\n",
    "# except: \n",
    "#     current_results['vaenet_ds1_v' + str(v_num)] = {}\n",
    "\n",
    "# for run_number in range(0, 4):\n",
    "    \n",
    "#     Y_val_predictions = []\n",
    "#     Y_val_actual = []\n",
    "#     Y_actual = []\n",
    "\n",
    "\n",
    "#     val_loss = []\n",
    "#     loss = []\n",
    "#     val_acc = []\n",
    "#     acc = []\n",
    "#     val_auc = []\n",
    "#     test_auc_ut = []\n",
    "#     test_auc_ue = []\n",
    "\n",
    "\n",
    "#     test_aup_ut = []\n",
    "#     test_aup_ue = []\n",
    "\n",
    "#     model = vecnet_2048_2048_concat_512_512()\n",
    "#     model_optimizer = tensorflow.keras.optimizers.Adam(lr = 0.00001, beta_1 = 0.9, beta_2 = 0.999, amsgrad = False)\n",
    "#     model.compile(loss = 'binary_crossentropy', optimizer = model_optimizer, metrics = ['binary_accuracy'])\n",
    "\n",
    "#     t = tqdm(np.random.choice(range(epochs), epochs, replace = False))\n",
    "\n",
    "#     version = v_num + \"_run\" + str(run_number) + \"_\" + pd.to_datetime(time.time(), unit = 's').strftime('%m-%d_%Hh%M')\n",
    "\n",
    "#     for i in t:\n",
    "\n",
    "#         print (\"Generating Training Examples\")\n",
    "#         train_w_random_neg = get_train_w_random_neg(train_interactions = train_interactions,\n",
    "#                                                     drug_list = drug_list,\n",
    "#                                                     seen_targets = seen_targets,\n",
    "#                                                     num_negatives = 8)\n",
    "        \n",
    "#         interactions_sliced = np.array_split(train_w_random_neg, len(train_w_random_neg) / 500)\n",
    "\n",
    "#         for idx, interaction in enumerate(interactions_sliced):\n",
    "\n",
    "#             output_string = \"\"\n",
    "\n",
    "#             X_0, X_1, Y = dataframe_to_embed_array(interactions_df = interaction,\n",
    "#                                                    drug_list = drug_list, \n",
    "#                                                    target_list = target_list,\n",
    "#                                                    drug_embed_len = 200,\n",
    "#                                                    debug = False)\n",
    "\n",
    "#             history = model.fit([X_0, X_1], Y,\n",
    "#                                   batch_size = batch_size,\n",
    "#                                   epochs = epochs,\n",
    "#                                   class_weight = class_weight,\n",
    "#                                   verbose = 0)\n",
    "\n",
    "#             if idx % 250 == 0:\n",
    "\n",
    "#                 Y_test_predictions_ut = []\n",
    "#                 Y_test_predictions_ut.extend(model.predict([X_0_test_ut, X_1_test_ut]))\n",
    "#                 Y_test_predictions_ut = [x[0] for x in Y_test_predictions_ut]\n",
    "#                 curr_test_auc = roc_auc_score(Y_test_actual_ut, Y_test_predictions_ut)\n",
    "#                 curr_test_aup = average_precision_score(Y_test_actual_ut, Y_test_predictions_ut)\n",
    "#                 test_auc_ut.append(curr_test_auc)\n",
    "#                 test_aup_ut.append(curr_test_aup)\n",
    "\n",
    "#                 Y_test_predictions_ue = []\n",
    "#                 Y_test_predictions_ue.extend(model.predict([X_0_test_ue, X_1_test_ue]))\n",
    "#                 Y_test_predictions_ue = [x[0] for x in Y_test_predictions_ue]\n",
    "#                 curr_test_auc = roc_auc_score(Y_test_actual_ue, Y_test_predictions_ue)\n",
    "#                 curr_test_aup = average_precision_score(Y_test_actual_ue, Y_test_predictions_ue)\n",
    "#                 test_aup_ue.append(curr_test_aup)\n",
    "#                 test_auc_ue.append(curr_test_auc)\n",
    "\n",
    "#                 output_string = output_string + \"Unseen Targets AUC : \" + str(np.round(test_auc_ut[-1], 2)) + \"\\nUnseen Edges AUC : \" +  str(np.round(test_auc_ue[-1], 2)) + \"\\n\"\n",
    "#                 output_string = output_string + \"Unseen Targets AUP : \" + str(np.round(test_aup_ut[-1], 2)) + \"\\nUnseen Edges AUP : \" +  str(np.round(test_aup_ue[-1], 2)) + \"\\n\"\n",
    "\n",
    "\n",
    "#                 if test_aup_ut[-1] == max(test_aup_ut):\n",
    "#                     output_string = output_string + \"Saving Model : AUC = \" + str(test_auc_ut[-1]) + \"\\n\"\n",
    "#                     model.save('./models/vaenet_ds1_' + str(version) + '.model')\n",
    "#                 else :   \n",
    "#                     output_string = output_string + \"Not Saving Model : AUC = \" + str(test_auc_ut[-1]) + \"\\n\"\n",
    "\n",
    "#                 t.write(output_string)\n",
    "\n",
    "#                 loss = loss + history.history['loss']\n",
    "#                 acc = acc + history.history['binary_accuracy']\n",
    "\n",
    "\n",
    "#                 Y_actual.extend(Y.tolist())\n",
    "                \n",
    "\n",
    "    \n",
    "#     model_key = 'vaenet_ds1_v' + str(v_num)\n",
    "    \n",
    "#     try:\n",
    "#         with open ('./results.json', 'r') as file:\n",
    "#             results = json.load(file)\n",
    "    \n",
    "#         results[model_key][run_number] = {}\n",
    "#         results[model_key][run_number]['test_auc_ut'] = test_auc_ut\n",
    "#         results[model_key][run_number]['test_auc_ue'] = test_auc_ue\n",
    "#         results[model_key][run_number]['test_aup_ut'] = test_aup_ut\n",
    "#         results[model_key][run_number]['test_aup_ue'] = test_aup_ue\n",
    "#         results[model_key][run_number]['loss'] = loss\n",
    "#         results[model_key][run_number]['acc'] = acc\n",
    "#         results[model_key][run_number]['saved_model_index'] = test_auc_ut.index(max(test_auc_ut))\n",
    "        \n",
    "#         with open('./results.json', 'w') as file: \n",
    "#             json.dump(results, file)\n",
    "        \n",
    "#     except: \n",
    "        \n",
    "#         current_results[model_key][run_number] = {}\n",
    "#         current_results[model_key][run_number]['test_auc_ut'] = test_auc_ut\n",
    "#         current_results[model_key][run_number]['test_auc_ue'] = test_auc_ue\n",
    "#         current_results[model_key][run_number]['test_aup_ut'] = test_aup_ut\n",
    "#         current_results[model_key][run_number]['test_aup_ue'] = test_aup_ue\n",
    "#         current_results[model_key][run_number]['loss'] = loss\n",
    "#         current_results[model_key][run_number]['acc'] = acc\n",
    "#         current_results[model_key][run_number]['saved_model_index'] = test_auc_ut.index(max(test_auc_ut))\n",
    "        \n",
    "#         with open('./results.json', 'w') as file: \n",
    "#             json.dump(current_results, file)\n",
    "            \n",
    "\n",
    "#     print (\"Results Saved\")\n"
   ]
  },
  {
   "cell_type": "markdown",
   "metadata": {
    "heading_collapsed": true
   },
   "source": [
    "#### Training Curves"
   ]
  },
  {
   "cell_type": "code",
   "execution_count": 32,
   "metadata": {
    "hidden": true
   },
   "outputs": [],
   "source": [
    "with open('./KF/results.json', 'r') as file: \n",
    "    results = json.loads(file.read())"
   ]
  },
  {
   "cell_type": "code",
   "execution_count": 33,
   "metadata": {
    "hidden": true
   },
   "outputs": [
    {
     "data": {
      "text/plain": [
       "dict_keys(['0', '1', '2', '3', '4', '5'])"
      ]
     },
     "execution_count": 33,
     "metadata": {},
     "output_type": "execute_result"
    }
   ],
   "source": [
    "results['vaenet_DS1_v0'].keys()"
   ]
  },
  {
   "cell_type": "code",
   "execution_count": 30,
   "metadata": {
    "hidden": true
   },
   "outputs": [
    {
     "data": {
      "text/plain": [
       "{'deep_purpose_ds2_0': {0: {'val_auc_ut': [0.7288975987628046],\n",
       "   'val_auc_ue': [0.8828140578265204],\n",
       "   'val_aup_ut': [0.7122598245035624],\n",
       "   'val_aup_ue': [0.8829741604472969],\n",
       "   'loss': [],\n",
       "   'acc': []},\n",
       "  1: {'val_auc_ut': [0.7365599561455007],\n",
       "   'val_auc_ue': [0.8563838189508893],\n",
       "   'val_aup_ut': [0.7076411654799284],\n",
       "   'val_aup_ue': [0.8396502088578583],\n",
       "   'loss': [],\n",
       "   'acc': []},\n",
       "  2: {'val_auc_ut': [0.7433777532305217],\n",
       "   'val_auc_ue': [0.8788526978412405],\n",
       "   'val_aup_ut': [0.7090575394557106],\n",
       "   'val_aup_ue': [0.8724136784374023],\n",
       "   'loss': [],\n",
       "   'acc': []},\n",
       "  3: {'val_auc_ut': [0.7039771087964773],\n",
       "   'val_auc_ue': [0.8750447912040795],\n",
       "   'val_aup_ut': [0.6717430721155628],\n",
       "   'val_aup_ue': [0.8764174388691334],\n",
       "   'loss': [],\n",
       "   'acc': []},\n",
       "  4: {'val_auc_ut': [0.6954483146506663],\n",
       "   'val_auc_ue': [0.8790041826263472],\n",
       "   'val_aup_ut': [0.6396424752968368],\n",
       "   'val_aup_ue': [0.8838223652489066],\n",
       "   'loss': [],\n",
       "   'acc': []},\n",
       "  5: {'val_auc_ut': [0.7429212535698838],\n",
       "   'val_auc_ue': [0.8915420201028635],\n",
       "   'val_aup_ut': [0.7080286328855486],\n",
       "   'val_aup_ue': [0.8819092835966839],\n",
       "   'loss': [],\n",
       "   'acc': []}}}"
      ]
     },
     "execution_count": 30,
     "metadata": {},
     "output_type": "execute_result"
    }
   ],
   "source": [
    "results"
   ]
  },
  {
   "cell_type": "code",
   "execution_count": 34,
   "metadata": {
    "hidden": true
   },
   "outputs": [],
   "source": [
    "averaged_results = {}"
   ]
  },
  {
   "cell_type": "code",
   "execution_count": 35,
   "metadata": {
    "hidden": true
   },
   "outputs": [
    {
     "data": {
      "application/vnd.plotly.v1+json": {
       "config": {
        "plotlyServerURL": "https://plot.ly"
       },
       "data": [
        {
         "legendgroup": "0",
         "line": {
          "color": "deepskyblue"
         },
         "mode": "lines",
         "name": "Unseen Targets AUC",
         "showlegend": true,
         "type": "scatter",
         "x": [
          0
         ],
         "xaxis": "x",
         "y": [
          0.7288975987628046
         ],
         "yaxis": "y"
        },
        {
         "legendgroup": "0",
         "line": {
          "color": "blue"
         },
         "mode": "lines",
         "name": "Unseen Edges AUC",
         "showlegend": true,
         "type": "scatter",
         "x": [
          0
         ],
         "xaxis": "x",
         "y": [
          0.8828140578265204
         ],
         "yaxis": "y"
        },
        {
         "legendgroup": "0",
         "line": {
          "color": "red"
         },
         "mode": "lines",
         "name": "Unseen Targets AUP",
         "showlegend": true,
         "type": "scatter",
         "x": [
          0
         ],
         "xaxis": "x",
         "y": [
          0.7122598245035624
         ],
         "yaxis": "y"
        },
        {
         "legendgroup": "0",
         "line": {
          "color": "green"
         },
         "mode": "lines",
         "name": "Unseen Edges AUP",
         "showlegend": true,
         "type": "scatter",
         "x": [
          0
         ],
         "xaxis": "x",
         "y": [
          0.8829741604472969
         ],
         "yaxis": "y"
        },
        {
         "legendgroup": "1",
         "line": {
          "color": "deepskyblue"
         },
         "mode": "lines",
         "name": "Unseen Targets AUC",
         "showlegend": false,
         "type": "scatter",
         "x": [
          0
         ],
         "xaxis": "x2",
         "y": [
          0.7365599561455007
         ],
         "yaxis": "y2"
        },
        {
         "legendgroup": "1",
         "line": {
          "color": "blue"
         },
         "mode": "lines",
         "name": "Unseen Edges AUC",
         "showlegend": false,
         "type": "scatter",
         "x": [
          0
         ],
         "xaxis": "x2",
         "y": [
          0.8563838189508893
         ],
         "yaxis": "y2"
        },
        {
         "legendgroup": "1",
         "line": {
          "color": "red"
         },
         "mode": "lines",
         "name": "Unseen Targets AUP",
         "showlegend": false,
         "type": "scatter",
         "x": [
          0
         ],
         "xaxis": "x2",
         "y": [
          0.7076411654799284
         ],
         "yaxis": "y2"
        },
        {
         "legendgroup": "1",
         "line": {
          "color": "green"
         },
         "mode": "lines",
         "name": "Unseen Edges AUP",
         "showlegend": false,
         "type": "scatter",
         "x": [
          0
         ],
         "xaxis": "x2",
         "y": [
          0.8396502088578583
         ],
         "yaxis": "y2"
        },
        {
         "legendgroup": "2",
         "line": {
          "color": "deepskyblue"
         },
         "mode": "lines",
         "name": "Unseen Targets AUC",
         "showlegend": false,
         "type": "scatter",
         "x": [
          0
         ],
         "xaxis": "x3",
         "y": [
          0.7433777532305217
         ],
         "yaxis": "y3"
        },
        {
         "legendgroup": "2",
         "line": {
          "color": "blue"
         },
         "mode": "lines",
         "name": "Unseen Edges AUC",
         "showlegend": false,
         "type": "scatter",
         "x": [
          0
         ],
         "xaxis": "x3",
         "y": [
          0.8788526978412405
         ],
         "yaxis": "y3"
        },
        {
         "legendgroup": "2",
         "line": {
          "color": "red"
         },
         "mode": "lines",
         "name": "Unseen Targets AUP",
         "showlegend": false,
         "type": "scatter",
         "x": [
          0
         ],
         "xaxis": "x3",
         "y": [
          0.7090575394557106
         ],
         "yaxis": "y3"
        },
        {
         "legendgroup": "2",
         "line": {
          "color": "green"
         },
         "mode": "lines",
         "name": "Unseen Edges AUP",
         "showlegend": false,
         "type": "scatter",
         "x": [
          0
         ],
         "xaxis": "x3",
         "y": [
          0.8724136784374023
         ],
         "yaxis": "y3"
        },
        {
         "legendgroup": "3",
         "line": {
          "color": "deepskyblue"
         },
         "mode": "lines",
         "name": "Unseen Targets AUC",
         "showlegend": false,
         "type": "scatter",
         "x": [
          0
         ],
         "xaxis": "x4",
         "y": [
          0.7039771087964773
         ],
         "yaxis": "y4"
        },
        {
         "legendgroup": "3",
         "line": {
          "color": "blue"
         },
         "mode": "lines",
         "name": "Unseen Edges AUC",
         "showlegend": false,
         "type": "scatter",
         "x": [
          0
         ],
         "xaxis": "x4",
         "y": [
          0.8750447912040795
         ],
         "yaxis": "y4"
        },
        {
         "legendgroup": "3",
         "line": {
          "color": "red"
         },
         "mode": "lines",
         "name": "Unseen Targets AUP",
         "showlegend": false,
         "type": "scatter",
         "x": [
          0
         ],
         "xaxis": "x4",
         "y": [
          0.6717430721155628
         ],
         "yaxis": "y4"
        },
        {
         "legendgroup": "3",
         "line": {
          "color": "green"
         },
         "mode": "lines",
         "name": "Unseen Edges AUP",
         "showlegend": false,
         "type": "scatter",
         "x": [
          0
         ],
         "xaxis": "x4",
         "y": [
          0.8764174388691334
         ],
         "yaxis": "y4"
        },
        {
         "legendgroup": "4",
         "line": {
          "color": "deepskyblue"
         },
         "mode": "lines",
         "name": "Unseen Targets AUC",
         "showlegend": false,
         "type": "scatter",
         "x": [
          0
         ],
         "xaxis": "x5",
         "y": [
          0.6954483146506663
         ],
         "yaxis": "y5"
        },
        {
         "legendgroup": "4",
         "line": {
          "color": "blue"
         },
         "mode": "lines",
         "name": "Unseen Edges AUC",
         "showlegend": false,
         "type": "scatter",
         "x": [
          0
         ],
         "xaxis": "x5",
         "y": [
          0.8790041826263472
         ],
         "yaxis": "y5"
        },
        {
         "legendgroup": "4",
         "line": {
          "color": "red"
         },
         "mode": "lines",
         "name": "Unseen Targets AUP",
         "showlegend": false,
         "type": "scatter",
         "x": [
          0
         ],
         "xaxis": "x5",
         "y": [
          0.6396424752968368
         ],
         "yaxis": "y5"
        },
        {
         "legendgroup": "4",
         "line": {
          "color": "green"
         },
         "mode": "lines",
         "name": "Unseen Edges AUP",
         "showlegend": false,
         "type": "scatter",
         "x": [
          0
         ],
         "xaxis": "x5",
         "y": [
          0.8838223652489066
         ],
         "yaxis": "y5"
        },
        {
         "legendgroup": "5",
         "line": {
          "color": "deepskyblue"
         },
         "mode": "lines",
         "name": "Unseen Targets AUC",
         "showlegend": false,
         "type": "scatter",
         "x": [
          0
         ],
         "xaxis": "x6",
         "y": [
          0.7429212535698838
         ],
         "yaxis": "y6"
        },
        {
         "legendgroup": "5",
         "line": {
          "color": "blue"
         },
         "mode": "lines",
         "name": "Unseen Edges AUC",
         "showlegend": false,
         "type": "scatter",
         "x": [
          0
         ],
         "xaxis": "x6",
         "y": [
          0.8915420201028635
         ],
         "yaxis": "y6"
        },
        {
         "legendgroup": "5",
         "line": {
          "color": "red"
         },
         "mode": "lines",
         "name": "Unseen Targets AUP",
         "showlegend": false,
         "type": "scatter",
         "x": [
          0
         ],
         "xaxis": "x6",
         "y": [
          0.7080286328855486
         ],
         "yaxis": "y6"
        },
        {
         "legendgroup": "5",
         "line": {
          "color": "green"
         },
         "mode": "lines",
         "name": "Unseen Edges AUP",
         "showlegend": false,
         "type": "scatter",
         "x": [
          0
         ],
         "xaxis": "x6",
         "y": [
          0.8819092835966839
         ],
         "yaxis": "y6"
        }
       ],
       "layout": {
        "annotations": [
         {
          "font": {
           "size": 16
          },
          "showarrow": false,
          "text": "VecNet Run 0",
          "x": 0.225,
          "xanchor": "center",
          "xref": "paper",
          "y": 1,
          "yanchor": "bottom",
          "yref": "paper"
         },
         {
          "font": {
           "size": 16
          },
          "showarrow": false,
          "text": "VecNet Run 1",
          "x": 0.775,
          "xanchor": "center",
          "xref": "paper",
          "y": 1,
          "yanchor": "bottom",
          "yref": "paper"
         },
         {
          "font": {
           "size": 16
          },
          "showarrow": false,
          "text": "VecNet Run 2",
          "x": 0.225,
          "xanchor": "center",
          "xref": "paper",
          "y": 0.6111111111111112,
          "yanchor": "bottom",
          "yref": "paper"
         },
         {
          "font": {
           "size": 16
          },
          "showarrow": false,
          "text": "VecNet Run 3",
          "x": 0.775,
          "xanchor": "center",
          "xref": "paper",
          "y": 0.6111111111111112,
          "yanchor": "bottom",
          "yref": "paper"
         },
         {
          "font": {
           "size": 16
          },
          "showarrow": false,
          "text": "VecNet Run 4",
          "x": 0.225,
          "xanchor": "center",
          "xref": "paper",
          "y": 0.22222222222222224,
          "yanchor": "bottom",
          "yref": "paper"
         },
         {
          "font": {
           "size": 16
          },
          "showarrow": false,
          "text": "VecNet Run 5",
          "x": 0.775,
          "xanchor": "center",
          "xref": "paper",
          "y": 0.22222222222222224,
          "yanchor": "bottom",
          "yref": "paper"
         }
        ],
        "height": 1500,
        "showlegend": true,
        "template": {
         "data": {
          "bar": [
           {
            "error_x": {
             "color": "#2a3f5f"
            },
            "error_y": {
             "color": "#2a3f5f"
            },
            "marker": {
             "line": {
              "color": "#E5ECF6",
              "width": 0.5
             }
            },
            "type": "bar"
           }
          ],
          "barpolar": [
           {
            "marker": {
             "line": {
              "color": "#E5ECF6",
              "width": 0.5
             }
            },
            "type": "barpolar"
           }
          ],
          "carpet": [
           {
            "aaxis": {
             "endlinecolor": "#2a3f5f",
             "gridcolor": "white",
             "linecolor": "white",
             "minorgridcolor": "white",
             "startlinecolor": "#2a3f5f"
            },
            "baxis": {
             "endlinecolor": "#2a3f5f",
             "gridcolor": "white",
             "linecolor": "white",
             "minorgridcolor": "white",
             "startlinecolor": "#2a3f5f"
            },
            "type": "carpet"
           }
          ],
          "choropleth": [
           {
            "colorbar": {
             "outlinewidth": 0,
             "ticks": ""
            },
            "type": "choropleth"
           }
          ],
          "contour": [
           {
            "colorbar": {
             "outlinewidth": 0,
             "ticks": ""
            },
            "colorscale": [
             [
              0,
              "#0d0887"
             ],
             [
              0.1111111111111111,
              "#46039f"
             ],
             [
              0.2222222222222222,
              "#7201a8"
             ],
             [
              0.3333333333333333,
              "#9c179e"
             ],
             [
              0.4444444444444444,
              "#bd3786"
             ],
             [
              0.5555555555555556,
              "#d8576b"
             ],
             [
              0.6666666666666666,
              "#ed7953"
             ],
             [
              0.7777777777777778,
              "#fb9f3a"
             ],
             [
              0.8888888888888888,
              "#fdca26"
             ],
             [
              1,
              "#f0f921"
             ]
            ],
            "type": "contour"
           }
          ],
          "contourcarpet": [
           {
            "colorbar": {
             "outlinewidth": 0,
             "ticks": ""
            },
            "type": "contourcarpet"
           }
          ],
          "heatmap": [
           {
            "colorbar": {
             "outlinewidth": 0,
             "ticks": ""
            },
            "colorscale": [
             [
              0,
              "#0d0887"
             ],
             [
              0.1111111111111111,
              "#46039f"
             ],
             [
              0.2222222222222222,
              "#7201a8"
             ],
             [
              0.3333333333333333,
              "#9c179e"
             ],
             [
              0.4444444444444444,
              "#bd3786"
             ],
             [
              0.5555555555555556,
              "#d8576b"
             ],
             [
              0.6666666666666666,
              "#ed7953"
             ],
             [
              0.7777777777777778,
              "#fb9f3a"
             ],
             [
              0.8888888888888888,
              "#fdca26"
             ],
             [
              1,
              "#f0f921"
             ]
            ],
            "type": "heatmap"
           }
          ],
          "heatmapgl": [
           {
            "colorbar": {
             "outlinewidth": 0,
             "ticks": ""
            },
            "colorscale": [
             [
              0,
              "#0d0887"
             ],
             [
              0.1111111111111111,
              "#46039f"
             ],
             [
              0.2222222222222222,
              "#7201a8"
             ],
             [
              0.3333333333333333,
              "#9c179e"
             ],
             [
              0.4444444444444444,
              "#bd3786"
             ],
             [
              0.5555555555555556,
              "#d8576b"
             ],
             [
              0.6666666666666666,
              "#ed7953"
             ],
             [
              0.7777777777777778,
              "#fb9f3a"
             ],
             [
              0.8888888888888888,
              "#fdca26"
             ],
             [
              1,
              "#f0f921"
             ]
            ],
            "type": "heatmapgl"
           }
          ],
          "histogram": [
           {
            "marker": {
             "colorbar": {
              "outlinewidth": 0,
              "ticks": ""
             }
            },
            "type": "histogram"
           }
          ],
          "histogram2d": [
           {
            "colorbar": {
             "outlinewidth": 0,
             "ticks": ""
            },
            "colorscale": [
             [
              0,
              "#0d0887"
             ],
             [
              0.1111111111111111,
              "#46039f"
             ],
             [
              0.2222222222222222,
              "#7201a8"
             ],
             [
              0.3333333333333333,
              "#9c179e"
             ],
             [
              0.4444444444444444,
              "#bd3786"
             ],
             [
              0.5555555555555556,
              "#d8576b"
             ],
             [
              0.6666666666666666,
              "#ed7953"
             ],
             [
              0.7777777777777778,
              "#fb9f3a"
             ],
             [
              0.8888888888888888,
              "#fdca26"
             ],
             [
              1,
              "#f0f921"
             ]
            ],
            "type": "histogram2d"
           }
          ],
          "histogram2dcontour": [
           {
            "colorbar": {
             "outlinewidth": 0,
             "ticks": ""
            },
            "colorscale": [
             [
              0,
              "#0d0887"
             ],
             [
              0.1111111111111111,
              "#46039f"
             ],
             [
              0.2222222222222222,
              "#7201a8"
             ],
             [
              0.3333333333333333,
              "#9c179e"
             ],
             [
              0.4444444444444444,
              "#bd3786"
             ],
             [
              0.5555555555555556,
              "#d8576b"
             ],
             [
              0.6666666666666666,
              "#ed7953"
             ],
             [
              0.7777777777777778,
              "#fb9f3a"
             ],
             [
              0.8888888888888888,
              "#fdca26"
             ],
             [
              1,
              "#f0f921"
             ]
            ],
            "type": "histogram2dcontour"
           }
          ],
          "mesh3d": [
           {
            "colorbar": {
             "outlinewidth": 0,
             "ticks": ""
            },
            "type": "mesh3d"
           }
          ],
          "parcoords": [
           {
            "line": {
             "colorbar": {
              "outlinewidth": 0,
              "ticks": ""
             }
            },
            "type": "parcoords"
           }
          ],
          "pie": [
           {
            "automargin": true,
            "type": "pie"
           }
          ],
          "scatter": [
           {
            "marker": {
             "colorbar": {
              "outlinewidth": 0,
              "ticks": ""
             }
            },
            "type": "scatter"
           }
          ],
          "scatter3d": [
           {
            "line": {
             "colorbar": {
              "outlinewidth": 0,
              "ticks": ""
             }
            },
            "marker": {
             "colorbar": {
              "outlinewidth": 0,
              "ticks": ""
             }
            },
            "type": "scatter3d"
           }
          ],
          "scattercarpet": [
           {
            "marker": {
             "colorbar": {
              "outlinewidth": 0,
              "ticks": ""
             }
            },
            "type": "scattercarpet"
           }
          ],
          "scattergeo": [
           {
            "marker": {
             "colorbar": {
              "outlinewidth": 0,
              "ticks": ""
             }
            },
            "type": "scattergeo"
           }
          ],
          "scattergl": [
           {
            "marker": {
             "colorbar": {
              "outlinewidth": 0,
              "ticks": ""
             }
            },
            "type": "scattergl"
           }
          ],
          "scattermapbox": [
           {
            "marker": {
             "colorbar": {
              "outlinewidth": 0,
              "ticks": ""
             }
            },
            "type": "scattermapbox"
           }
          ],
          "scatterpolar": [
           {
            "marker": {
             "colorbar": {
              "outlinewidth": 0,
              "ticks": ""
             }
            },
            "type": "scatterpolar"
           }
          ],
          "scatterpolargl": [
           {
            "marker": {
             "colorbar": {
              "outlinewidth": 0,
              "ticks": ""
             }
            },
            "type": "scatterpolargl"
           }
          ],
          "scatterternary": [
           {
            "marker": {
             "colorbar": {
              "outlinewidth": 0,
              "ticks": ""
             }
            },
            "type": "scatterternary"
           }
          ],
          "surface": [
           {
            "colorbar": {
             "outlinewidth": 0,
             "ticks": ""
            },
            "colorscale": [
             [
              0,
              "#0d0887"
             ],
             [
              0.1111111111111111,
              "#46039f"
             ],
             [
              0.2222222222222222,
              "#7201a8"
             ],
             [
              0.3333333333333333,
              "#9c179e"
             ],
             [
              0.4444444444444444,
              "#bd3786"
             ],
             [
              0.5555555555555556,
              "#d8576b"
             ],
             [
              0.6666666666666666,
              "#ed7953"
             ],
             [
              0.7777777777777778,
              "#fb9f3a"
             ],
             [
              0.8888888888888888,
              "#fdca26"
             ],
             [
              1,
              "#f0f921"
             ]
            ],
            "type": "surface"
           }
          ],
          "table": [
           {
            "cells": {
             "fill": {
              "color": "#EBF0F8"
             },
             "line": {
              "color": "white"
             }
            },
            "header": {
             "fill": {
              "color": "#C8D4E3"
             },
             "line": {
              "color": "white"
             }
            },
            "type": "table"
           }
          ]
         },
         "layout": {
          "annotationdefaults": {
           "arrowcolor": "#2a3f5f",
           "arrowhead": 0,
           "arrowwidth": 1
          },
          "autotypenumbers": "strict",
          "coloraxis": {
           "colorbar": {
            "outlinewidth": 0,
            "ticks": ""
           }
          },
          "colorscale": {
           "diverging": [
            [
             0,
             "#8e0152"
            ],
            [
             0.1,
             "#c51b7d"
            ],
            [
             0.2,
             "#de77ae"
            ],
            [
             0.3,
             "#f1b6da"
            ],
            [
             0.4,
             "#fde0ef"
            ],
            [
             0.5,
             "#f7f7f7"
            ],
            [
             0.6,
             "#e6f5d0"
            ],
            [
             0.7,
             "#b8e186"
            ],
            [
             0.8,
             "#7fbc41"
            ],
            [
             0.9,
             "#4d9221"
            ],
            [
             1,
             "#276419"
            ]
           ],
           "sequential": [
            [
             0,
             "#0d0887"
            ],
            [
             0.1111111111111111,
             "#46039f"
            ],
            [
             0.2222222222222222,
             "#7201a8"
            ],
            [
             0.3333333333333333,
             "#9c179e"
            ],
            [
             0.4444444444444444,
             "#bd3786"
            ],
            [
             0.5555555555555556,
             "#d8576b"
            ],
            [
             0.6666666666666666,
             "#ed7953"
            ],
            [
             0.7777777777777778,
             "#fb9f3a"
            ],
            [
             0.8888888888888888,
             "#fdca26"
            ],
            [
             1,
             "#f0f921"
            ]
           ],
           "sequentialminus": [
            [
             0,
             "#0d0887"
            ],
            [
             0.1111111111111111,
             "#46039f"
            ],
            [
             0.2222222222222222,
             "#7201a8"
            ],
            [
             0.3333333333333333,
             "#9c179e"
            ],
            [
             0.4444444444444444,
             "#bd3786"
            ],
            [
             0.5555555555555556,
             "#d8576b"
            ],
            [
             0.6666666666666666,
             "#ed7953"
            ],
            [
             0.7777777777777778,
             "#fb9f3a"
            ],
            [
             0.8888888888888888,
             "#fdca26"
            ],
            [
             1,
             "#f0f921"
            ]
           ]
          },
          "colorway": [
           "#636efa",
           "#EF553B",
           "#00cc96",
           "#ab63fa",
           "#FFA15A",
           "#19d3f3",
           "#FF6692",
           "#B6E880",
           "#FF97FF",
           "#FECB52"
          ],
          "font": {
           "color": "#2a3f5f"
          },
          "geo": {
           "bgcolor": "white",
           "lakecolor": "white",
           "landcolor": "#E5ECF6",
           "showlakes": true,
           "showland": true,
           "subunitcolor": "white"
          },
          "hoverlabel": {
           "align": "left"
          },
          "hovermode": "closest",
          "mapbox": {
           "style": "light"
          },
          "paper_bgcolor": "white",
          "plot_bgcolor": "#E5ECF6",
          "polar": {
           "angularaxis": {
            "gridcolor": "white",
            "linecolor": "white",
            "ticks": ""
           },
           "bgcolor": "#E5ECF6",
           "radialaxis": {
            "gridcolor": "white",
            "linecolor": "white",
            "ticks": ""
           }
          },
          "scene": {
           "xaxis": {
            "backgroundcolor": "#E5ECF6",
            "gridcolor": "white",
            "gridwidth": 2,
            "linecolor": "white",
            "showbackground": true,
            "ticks": "",
            "zerolinecolor": "white"
           },
           "yaxis": {
            "backgroundcolor": "#E5ECF6",
            "gridcolor": "white",
            "gridwidth": 2,
            "linecolor": "white",
            "showbackground": true,
            "ticks": "",
            "zerolinecolor": "white"
           },
           "zaxis": {
            "backgroundcolor": "#E5ECF6",
            "gridcolor": "white",
            "gridwidth": 2,
            "linecolor": "white",
            "showbackground": true,
            "ticks": "",
            "zerolinecolor": "white"
           }
          },
          "shapedefaults": {
           "line": {
            "color": "#2a3f5f"
           }
          },
          "ternary": {
           "aaxis": {
            "gridcolor": "white",
            "linecolor": "white",
            "ticks": ""
           },
           "baxis": {
            "gridcolor": "white",
            "linecolor": "white",
            "ticks": ""
           },
           "bgcolor": "#E5ECF6",
           "caxis": {
            "gridcolor": "white",
            "linecolor": "white",
            "ticks": ""
           }
          },
          "title": {
           "x": 0.05
          },
          "xaxis": {
           "automargin": true,
           "gridcolor": "white",
           "linecolor": "white",
           "ticks": "",
           "title": {
            "standoff": 15
           },
           "zerolinecolor": "white",
           "zerolinewidth": 2
          },
          "yaxis": {
           "automargin": true,
           "gridcolor": "white",
           "linecolor": "white",
           "ticks": "",
           "title": {
            "standoff": 15
           },
           "zerolinecolor": "white",
           "zerolinewidth": 2
          }
         }
        },
        "title": {
         "text": "DeepPurpose 6 Fold Cross Validation"
        },
        "width": 1500,
        "xaxis": {
         "anchor": "y",
         "domain": [
          0,
          0.45
         ],
         "title": {
          "text": "Epochs * Chunks"
         }
        },
        "xaxis2": {
         "anchor": "y2",
         "domain": [
          0.55,
          1
         ],
         "title": {
          "text": "Epochs * Chunks"
         }
        },
        "xaxis3": {
         "anchor": "y3",
         "domain": [
          0,
          0.45
         ],
         "title": {
          "text": "Epochs * Chunks"
         }
        },
        "xaxis4": {
         "anchor": "y4",
         "domain": [
          0.55,
          1
         ],
         "title": {
          "text": "Epochs * Chunks"
         }
        },
        "xaxis5": {
         "anchor": "y5",
         "domain": [
          0,
          0.45
         ],
         "title": {
          "text": "Epochs * Chunks"
         }
        },
        "xaxis6": {
         "anchor": "y6",
         "domain": [
          0.55,
          1
         ],
         "title": {
          "text": "Epochs * Chunks"
         }
        },
        "yaxis": {
         "anchor": "x",
         "domain": [
          0.7777777777777778,
          1
         ],
         "title": {
          "text": "Performance"
         }
        },
        "yaxis2": {
         "anchor": "x2",
         "domain": [
          0.7777777777777778,
          1
         ],
         "title": {
          "text": "Performance"
         }
        },
        "yaxis3": {
         "anchor": "x3",
         "domain": [
          0.3888888888888889,
          0.6111111111111112
         ],
         "title": {
          "text": "Performance"
         }
        },
        "yaxis4": {
         "anchor": "x4",
         "domain": [
          0.3888888888888889,
          0.6111111111111112
         ],
         "title": {
          "text": "Performance"
         }
        },
        "yaxis5": {
         "anchor": "x5",
         "domain": [
          0,
          0.22222222222222224
         ],
         "title": {
          "text": "Performance"
         }
        },
        "yaxis6": {
         "anchor": "x6",
         "domain": [
          0,
          0.22222222222222224
         ],
         "title": {
          "text": "Performance"
         }
        }
       }
      },
      "text/html": [
       "<div>                            <div id=\"b4706519-0cbf-4f96-ad30-7a739cf16b85\" class=\"plotly-graph-div\" style=\"height:1500px; width:1500px;\"></div>            <script type=\"text/javascript\">                require([\"plotly\"], function(Plotly) {                    window.PLOTLYENV=window.PLOTLYENV || {};                                    if (document.getElementById(\"b4706519-0cbf-4f96-ad30-7a739cf16b85\")) {                    Plotly.newPlot(                        \"b4706519-0cbf-4f96-ad30-7a739cf16b85\",                        [{\"legendgroup\": \"0\", \"line\": {\"color\": \"deepskyblue\"}, \"mode\": \"lines\", \"name\": \"Unseen Targets AUC\", \"showlegend\": true, \"type\": \"scatter\", \"x\": [0], \"xaxis\": \"x\", \"y\": [0.7288975987628046], \"yaxis\": \"y\"}, {\"legendgroup\": \"0\", \"line\": {\"color\": \"blue\"}, \"mode\": \"lines\", \"name\": \"Unseen Edges AUC\", \"showlegend\": true, \"type\": \"scatter\", \"x\": [0], \"xaxis\": \"x\", \"y\": [0.8828140578265204], \"yaxis\": \"y\"}, {\"legendgroup\": \"0\", \"line\": {\"color\": \"red\"}, \"mode\": \"lines\", \"name\": \"Unseen Targets AUP\", \"showlegend\": true, \"type\": \"scatter\", \"x\": [0], \"xaxis\": \"x\", \"y\": [0.7122598245035624], \"yaxis\": \"y\"}, {\"legendgroup\": \"0\", \"line\": {\"color\": \"green\"}, \"mode\": \"lines\", \"name\": \"Unseen Edges AUP\", \"showlegend\": true, \"type\": \"scatter\", \"x\": [0], \"xaxis\": \"x\", \"y\": [0.8829741604472969], \"yaxis\": \"y\"}, {\"legendgroup\": \"1\", \"line\": {\"color\": \"deepskyblue\"}, \"mode\": \"lines\", \"name\": \"Unseen Targets AUC\", \"showlegend\": false, \"type\": \"scatter\", \"x\": [0], \"xaxis\": \"x2\", \"y\": [0.7365599561455007], \"yaxis\": \"y2\"}, {\"legendgroup\": \"1\", \"line\": {\"color\": \"blue\"}, \"mode\": \"lines\", \"name\": \"Unseen Edges AUC\", \"showlegend\": false, \"type\": \"scatter\", \"x\": [0], \"xaxis\": \"x2\", \"y\": [0.8563838189508893], \"yaxis\": \"y2\"}, {\"legendgroup\": \"1\", \"line\": {\"color\": \"red\"}, \"mode\": \"lines\", \"name\": \"Unseen Targets AUP\", \"showlegend\": false, \"type\": \"scatter\", \"x\": [0], \"xaxis\": \"x2\", \"y\": [0.7076411654799284], \"yaxis\": \"y2\"}, {\"legendgroup\": \"1\", \"line\": {\"color\": \"green\"}, \"mode\": \"lines\", \"name\": \"Unseen Edges AUP\", \"showlegend\": false, \"type\": \"scatter\", \"x\": [0], \"xaxis\": \"x2\", \"y\": [0.8396502088578583], \"yaxis\": \"y2\"}, {\"legendgroup\": \"2\", \"line\": {\"color\": \"deepskyblue\"}, \"mode\": \"lines\", \"name\": \"Unseen Targets AUC\", \"showlegend\": false, \"type\": \"scatter\", \"x\": [0], \"xaxis\": \"x3\", \"y\": [0.7433777532305217], \"yaxis\": \"y3\"}, {\"legendgroup\": \"2\", \"line\": {\"color\": \"blue\"}, \"mode\": \"lines\", \"name\": \"Unseen Edges AUC\", \"showlegend\": false, \"type\": \"scatter\", \"x\": [0], \"xaxis\": \"x3\", \"y\": [0.8788526978412405], \"yaxis\": \"y3\"}, {\"legendgroup\": \"2\", \"line\": {\"color\": \"red\"}, \"mode\": \"lines\", \"name\": \"Unseen Targets AUP\", \"showlegend\": false, \"type\": \"scatter\", \"x\": [0], \"xaxis\": \"x3\", \"y\": [0.7090575394557106], \"yaxis\": \"y3\"}, {\"legendgroup\": \"2\", \"line\": {\"color\": \"green\"}, \"mode\": \"lines\", \"name\": \"Unseen Edges AUP\", \"showlegend\": false, \"type\": \"scatter\", \"x\": [0], \"xaxis\": \"x3\", \"y\": [0.8724136784374023], \"yaxis\": \"y3\"}, {\"legendgroup\": \"3\", \"line\": {\"color\": \"deepskyblue\"}, \"mode\": \"lines\", \"name\": \"Unseen Targets AUC\", \"showlegend\": false, \"type\": \"scatter\", \"x\": [0], \"xaxis\": \"x4\", \"y\": [0.7039771087964773], \"yaxis\": \"y4\"}, {\"legendgroup\": \"3\", \"line\": {\"color\": \"blue\"}, \"mode\": \"lines\", \"name\": \"Unseen Edges AUC\", \"showlegend\": false, \"type\": \"scatter\", \"x\": [0], \"xaxis\": \"x4\", \"y\": [0.8750447912040795], \"yaxis\": \"y4\"}, {\"legendgroup\": \"3\", \"line\": {\"color\": \"red\"}, \"mode\": \"lines\", \"name\": \"Unseen Targets AUP\", \"showlegend\": false, \"type\": \"scatter\", \"x\": [0], \"xaxis\": \"x4\", \"y\": [0.6717430721155628], \"yaxis\": \"y4\"}, {\"legendgroup\": \"3\", \"line\": {\"color\": \"green\"}, \"mode\": \"lines\", \"name\": \"Unseen Edges AUP\", \"showlegend\": false, \"type\": \"scatter\", \"x\": [0], \"xaxis\": \"x4\", \"y\": [0.8764174388691334], \"yaxis\": \"y4\"}, {\"legendgroup\": \"4\", \"line\": {\"color\": \"deepskyblue\"}, \"mode\": \"lines\", \"name\": \"Unseen Targets AUC\", \"showlegend\": false, \"type\": \"scatter\", \"x\": [0], \"xaxis\": \"x5\", \"y\": [0.6954483146506663], \"yaxis\": \"y5\"}, {\"legendgroup\": \"4\", \"line\": {\"color\": \"blue\"}, \"mode\": \"lines\", \"name\": \"Unseen Edges AUC\", \"showlegend\": false, \"type\": \"scatter\", \"x\": [0], \"xaxis\": \"x5\", \"y\": [0.8790041826263472], \"yaxis\": \"y5\"}, {\"legendgroup\": \"4\", \"line\": {\"color\": \"red\"}, \"mode\": \"lines\", \"name\": \"Unseen Targets AUP\", \"showlegend\": false, \"type\": \"scatter\", \"x\": [0], \"xaxis\": \"x5\", \"y\": [0.6396424752968368], \"yaxis\": \"y5\"}, {\"legendgroup\": \"4\", \"line\": {\"color\": \"green\"}, \"mode\": \"lines\", \"name\": \"Unseen Edges AUP\", \"showlegend\": false, \"type\": \"scatter\", \"x\": [0], \"xaxis\": \"x5\", \"y\": [0.8838223652489066], \"yaxis\": \"y5\"}, {\"legendgroup\": \"5\", \"line\": {\"color\": \"deepskyblue\"}, \"mode\": \"lines\", \"name\": \"Unseen Targets AUC\", \"showlegend\": false, \"type\": \"scatter\", \"x\": [0], \"xaxis\": \"x6\", \"y\": [0.7429212535698838], \"yaxis\": \"y6\"}, {\"legendgroup\": \"5\", \"line\": {\"color\": \"blue\"}, \"mode\": \"lines\", \"name\": \"Unseen Edges AUC\", \"showlegend\": false, \"type\": \"scatter\", \"x\": [0], \"xaxis\": \"x6\", \"y\": [0.8915420201028635], \"yaxis\": \"y6\"}, {\"legendgroup\": \"5\", \"line\": {\"color\": \"red\"}, \"mode\": \"lines\", \"name\": \"Unseen Targets AUP\", \"showlegend\": false, \"type\": \"scatter\", \"x\": [0], \"xaxis\": \"x6\", \"y\": [0.7080286328855486], \"yaxis\": \"y6\"}, {\"legendgroup\": \"5\", \"line\": {\"color\": \"green\"}, \"mode\": \"lines\", \"name\": \"Unseen Edges AUP\", \"showlegend\": false, \"type\": \"scatter\", \"x\": [0], \"xaxis\": \"x6\", \"y\": [0.8819092835966839], \"yaxis\": \"y6\"}],                        {\"annotations\": [{\"font\": {\"size\": 16}, \"showarrow\": false, \"text\": \"VecNet Run 0\", \"x\": 0.225, \"xanchor\": \"center\", \"xref\": \"paper\", \"y\": 1.0, \"yanchor\": \"bottom\", \"yref\": \"paper\"}, {\"font\": {\"size\": 16}, \"showarrow\": false, \"text\": \"VecNet Run 1\", \"x\": 0.775, \"xanchor\": \"center\", \"xref\": \"paper\", \"y\": 1.0, \"yanchor\": \"bottom\", \"yref\": \"paper\"}, {\"font\": {\"size\": 16}, \"showarrow\": false, \"text\": \"VecNet Run 2\", \"x\": 0.225, \"xanchor\": \"center\", \"xref\": \"paper\", \"y\": 0.6111111111111112, \"yanchor\": \"bottom\", \"yref\": \"paper\"}, {\"font\": {\"size\": 16}, \"showarrow\": false, \"text\": \"VecNet Run 3\", \"x\": 0.775, \"xanchor\": \"center\", \"xref\": \"paper\", \"y\": 0.6111111111111112, \"yanchor\": \"bottom\", \"yref\": \"paper\"}, {\"font\": {\"size\": 16}, \"showarrow\": false, \"text\": \"VecNet Run 4\", \"x\": 0.225, \"xanchor\": \"center\", \"xref\": \"paper\", \"y\": 0.22222222222222224, \"yanchor\": \"bottom\", \"yref\": \"paper\"}, {\"font\": {\"size\": 16}, \"showarrow\": false, \"text\": \"VecNet Run 5\", \"x\": 0.775, \"xanchor\": \"center\", \"xref\": \"paper\", \"y\": 0.22222222222222224, \"yanchor\": \"bottom\", \"yref\": \"paper\"}], \"height\": 1500, \"showlegend\": true, \"template\": {\"data\": {\"bar\": [{\"error_x\": {\"color\": \"#2a3f5f\"}, \"error_y\": {\"color\": \"#2a3f5f\"}, \"marker\": {\"line\": {\"color\": \"#E5ECF6\", \"width\": 0.5}}, \"type\": \"bar\"}], \"barpolar\": [{\"marker\": {\"line\": {\"color\": \"#E5ECF6\", \"width\": 0.5}}, \"type\": \"barpolar\"}], \"carpet\": [{\"aaxis\": {\"endlinecolor\": \"#2a3f5f\", \"gridcolor\": \"white\", \"linecolor\": \"white\", \"minorgridcolor\": \"white\", \"startlinecolor\": \"#2a3f5f\"}, \"baxis\": {\"endlinecolor\": \"#2a3f5f\", \"gridcolor\": \"white\", \"linecolor\": \"white\", \"minorgridcolor\": \"white\", \"startlinecolor\": \"#2a3f5f\"}, \"type\": \"carpet\"}], \"choropleth\": [{\"colorbar\": {\"outlinewidth\": 0, \"ticks\": \"\"}, \"type\": \"choropleth\"}], \"contour\": [{\"colorbar\": {\"outlinewidth\": 0, \"ticks\": \"\"}, \"colorscale\": [[0.0, \"#0d0887\"], [0.1111111111111111, \"#46039f\"], [0.2222222222222222, \"#7201a8\"], [0.3333333333333333, \"#9c179e\"], [0.4444444444444444, \"#bd3786\"], [0.5555555555555556, \"#d8576b\"], [0.6666666666666666, \"#ed7953\"], [0.7777777777777778, \"#fb9f3a\"], [0.8888888888888888, \"#fdca26\"], [1.0, \"#f0f921\"]], \"type\": \"contour\"}], \"contourcarpet\": [{\"colorbar\": {\"outlinewidth\": 0, \"ticks\": \"\"}, \"type\": \"contourcarpet\"}], \"heatmap\": [{\"colorbar\": {\"outlinewidth\": 0, \"ticks\": \"\"}, \"colorscale\": [[0.0, \"#0d0887\"], [0.1111111111111111, \"#46039f\"], [0.2222222222222222, \"#7201a8\"], [0.3333333333333333, \"#9c179e\"], [0.4444444444444444, \"#bd3786\"], [0.5555555555555556, \"#d8576b\"], [0.6666666666666666, \"#ed7953\"], [0.7777777777777778, \"#fb9f3a\"], [0.8888888888888888, \"#fdca26\"], [1.0, \"#f0f921\"]], \"type\": \"heatmap\"}], \"heatmapgl\": [{\"colorbar\": {\"outlinewidth\": 0, \"ticks\": \"\"}, \"colorscale\": [[0.0, \"#0d0887\"], [0.1111111111111111, \"#46039f\"], [0.2222222222222222, \"#7201a8\"], [0.3333333333333333, \"#9c179e\"], [0.4444444444444444, \"#bd3786\"], [0.5555555555555556, \"#d8576b\"], [0.6666666666666666, \"#ed7953\"], [0.7777777777777778, \"#fb9f3a\"], [0.8888888888888888, \"#fdca26\"], [1.0, \"#f0f921\"]], \"type\": \"heatmapgl\"}], \"histogram\": [{\"marker\": {\"colorbar\": {\"outlinewidth\": 0, \"ticks\": \"\"}}, \"type\": \"histogram\"}], \"histogram2d\": [{\"colorbar\": {\"outlinewidth\": 0, \"ticks\": \"\"}, \"colorscale\": [[0.0, \"#0d0887\"], [0.1111111111111111, \"#46039f\"], [0.2222222222222222, \"#7201a8\"], [0.3333333333333333, \"#9c179e\"], [0.4444444444444444, \"#bd3786\"], [0.5555555555555556, \"#d8576b\"], [0.6666666666666666, \"#ed7953\"], [0.7777777777777778, \"#fb9f3a\"], [0.8888888888888888, \"#fdca26\"], [1.0, \"#f0f921\"]], \"type\": \"histogram2d\"}], \"histogram2dcontour\": [{\"colorbar\": {\"outlinewidth\": 0, \"ticks\": \"\"}, \"colorscale\": [[0.0, \"#0d0887\"], [0.1111111111111111, \"#46039f\"], [0.2222222222222222, \"#7201a8\"], [0.3333333333333333, \"#9c179e\"], [0.4444444444444444, \"#bd3786\"], [0.5555555555555556, \"#d8576b\"], [0.6666666666666666, \"#ed7953\"], [0.7777777777777778, \"#fb9f3a\"], [0.8888888888888888, \"#fdca26\"], [1.0, \"#f0f921\"]], \"type\": \"histogram2dcontour\"}], \"mesh3d\": [{\"colorbar\": {\"outlinewidth\": 0, \"ticks\": \"\"}, \"type\": \"mesh3d\"}], \"parcoords\": [{\"line\": {\"colorbar\": {\"outlinewidth\": 0, \"ticks\": \"\"}}, \"type\": \"parcoords\"}], \"pie\": [{\"automargin\": true, \"type\": \"pie\"}], \"scatter\": [{\"marker\": {\"colorbar\": {\"outlinewidth\": 0, \"ticks\": \"\"}}, \"type\": \"scatter\"}], \"scatter3d\": [{\"line\": {\"colorbar\": {\"outlinewidth\": 0, \"ticks\": \"\"}}, \"marker\": {\"colorbar\": {\"outlinewidth\": 0, \"ticks\": \"\"}}, \"type\": \"scatter3d\"}], \"scattercarpet\": [{\"marker\": {\"colorbar\": {\"outlinewidth\": 0, \"ticks\": \"\"}}, \"type\": \"scattercarpet\"}], \"scattergeo\": [{\"marker\": {\"colorbar\": {\"outlinewidth\": 0, \"ticks\": \"\"}}, \"type\": \"scattergeo\"}], \"scattergl\": [{\"marker\": {\"colorbar\": {\"outlinewidth\": 0, \"ticks\": \"\"}}, \"type\": \"scattergl\"}], \"scattermapbox\": [{\"marker\": {\"colorbar\": {\"outlinewidth\": 0, \"ticks\": \"\"}}, \"type\": \"scattermapbox\"}], \"scatterpolar\": [{\"marker\": {\"colorbar\": {\"outlinewidth\": 0, \"ticks\": \"\"}}, \"type\": \"scatterpolar\"}], \"scatterpolargl\": [{\"marker\": {\"colorbar\": {\"outlinewidth\": 0, \"ticks\": \"\"}}, \"type\": \"scatterpolargl\"}], \"scatterternary\": [{\"marker\": {\"colorbar\": {\"outlinewidth\": 0, \"ticks\": \"\"}}, \"type\": \"scatterternary\"}], \"surface\": [{\"colorbar\": {\"outlinewidth\": 0, \"ticks\": \"\"}, \"colorscale\": [[0.0, \"#0d0887\"], [0.1111111111111111, \"#46039f\"], [0.2222222222222222, \"#7201a8\"], [0.3333333333333333, \"#9c179e\"], [0.4444444444444444, \"#bd3786\"], [0.5555555555555556, \"#d8576b\"], [0.6666666666666666, \"#ed7953\"], [0.7777777777777778, \"#fb9f3a\"], [0.8888888888888888, \"#fdca26\"], [1.0, \"#f0f921\"]], \"type\": \"surface\"}], \"table\": [{\"cells\": {\"fill\": {\"color\": \"#EBF0F8\"}, \"line\": {\"color\": \"white\"}}, \"header\": {\"fill\": {\"color\": \"#C8D4E3\"}, \"line\": {\"color\": \"white\"}}, \"type\": \"table\"}]}, \"layout\": {\"annotationdefaults\": {\"arrowcolor\": \"#2a3f5f\", \"arrowhead\": 0, \"arrowwidth\": 1}, \"autotypenumbers\": \"strict\", \"coloraxis\": {\"colorbar\": {\"outlinewidth\": 0, \"ticks\": \"\"}}, \"colorscale\": {\"diverging\": [[0, \"#8e0152\"], [0.1, \"#c51b7d\"], [0.2, \"#de77ae\"], [0.3, \"#f1b6da\"], [0.4, \"#fde0ef\"], [0.5, \"#f7f7f7\"], [0.6, \"#e6f5d0\"], [0.7, \"#b8e186\"], [0.8, \"#7fbc41\"], [0.9, \"#4d9221\"], [1, \"#276419\"]], \"sequential\": [[0.0, \"#0d0887\"], [0.1111111111111111, \"#46039f\"], [0.2222222222222222, \"#7201a8\"], [0.3333333333333333, \"#9c179e\"], [0.4444444444444444, \"#bd3786\"], [0.5555555555555556, \"#d8576b\"], [0.6666666666666666, \"#ed7953\"], [0.7777777777777778, \"#fb9f3a\"], [0.8888888888888888, \"#fdca26\"], [1.0, \"#f0f921\"]], \"sequentialminus\": [[0.0, \"#0d0887\"], [0.1111111111111111, \"#46039f\"], [0.2222222222222222, \"#7201a8\"], [0.3333333333333333, \"#9c179e\"], [0.4444444444444444, \"#bd3786\"], [0.5555555555555556, \"#d8576b\"], [0.6666666666666666, \"#ed7953\"], [0.7777777777777778, \"#fb9f3a\"], [0.8888888888888888, \"#fdca26\"], [1.0, \"#f0f921\"]]}, \"colorway\": [\"#636efa\", \"#EF553B\", \"#00cc96\", \"#ab63fa\", \"#FFA15A\", \"#19d3f3\", \"#FF6692\", \"#B6E880\", \"#FF97FF\", \"#FECB52\"], \"font\": {\"color\": \"#2a3f5f\"}, \"geo\": {\"bgcolor\": \"white\", \"lakecolor\": \"white\", \"landcolor\": \"#E5ECF6\", \"showlakes\": true, \"showland\": true, \"subunitcolor\": \"white\"}, \"hoverlabel\": {\"align\": \"left\"}, \"hovermode\": \"closest\", \"mapbox\": {\"style\": \"light\"}, \"paper_bgcolor\": \"white\", \"plot_bgcolor\": \"#E5ECF6\", \"polar\": {\"angularaxis\": {\"gridcolor\": \"white\", \"linecolor\": \"white\", \"ticks\": \"\"}, \"bgcolor\": \"#E5ECF6\", \"radialaxis\": {\"gridcolor\": \"white\", \"linecolor\": \"white\", \"ticks\": \"\"}}, \"scene\": {\"xaxis\": {\"backgroundcolor\": \"#E5ECF6\", \"gridcolor\": \"white\", \"gridwidth\": 2, \"linecolor\": \"white\", \"showbackground\": true, \"ticks\": \"\", \"zerolinecolor\": \"white\"}, \"yaxis\": {\"backgroundcolor\": \"#E5ECF6\", \"gridcolor\": \"white\", \"gridwidth\": 2, \"linecolor\": \"white\", \"showbackground\": true, \"ticks\": \"\", \"zerolinecolor\": \"white\"}, \"zaxis\": {\"backgroundcolor\": \"#E5ECF6\", \"gridcolor\": \"white\", \"gridwidth\": 2, \"linecolor\": \"white\", \"showbackground\": true, \"ticks\": \"\", \"zerolinecolor\": \"white\"}}, \"shapedefaults\": {\"line\": {\"color\": \"#2a3f5f\"}}, \"ternary\": {\"aaxis\": {\"gridcolor\": \"white\", \"linecolor\": \"white\", \"ticks\": \"\"}, \"baxis\": {\"gridcolor\": \"white\", \"linecolor\": \"white\", \"ticks\": \"\"}, \"bgcolor\": \"#E5ECF6\", \"caxis\": {\"gridcolor\": \"white\", \"linecolor\": \"white\", \"ticks\": \"\"}}, \"title\": {\"x\": 0.05}, \"xaxis\": {\"automargin\": true, \"gridcolor\": \"white\", \"linecolor\": \"white\", \"ticks\": \"\", \"title\": {\"standoff\": 15}, \"zerolinecolor\": \"white\", \"zerolinewidth\": 2}, \"yaxis\": {\"automargin\": true, \"gridcolor\": \"white\", \"linecolor\": \"white\", \"ticks\": \"\", \"title\": {\"standoff\": 15}, \"zerolinecolor\": \"white\", \"zerolinewidth\": 2}}}, \"title\": {\"text\": \"DeepPurpose 6 Fold Cross Validation\"}, \"width\": 1500, \"xaxis\": {\"anchor\": \"y\", \"domain\": [0.0, 0.45], \"title\": {\"text\": \"Epochs * Chunks\"}}, \"xaxis2\": {\"anchor\": \"y2\", \"domain\": [0.55, 1.0], \"title\": {\"text\": \"Epochs * Chunks\"}}, \"xaxis3\": {\"anchor\": \"y3\", \"domain\": [0.0, 0.45], \"title\": {\"text\": \"Epochs * Chunks\"}}, \"xaxis4\": {\"anchor\": \"y4\", \"domain\": [0.55, 1.0], \"title\": {\"text\": \"Epochs * Chunks\"}}, \"xaxis5\": {\"anchor\": \"y5\", \"domain\": [0.0, 0.45], \"title\": {\"text\": \"Epochs * Chunks\"}}, \"xaxis6\": {\"anchor\": \"y6\", \"domain\": [0.55, 1.0], \"title\": {\"text\": \"Epochs * Chunks\"}}, \"yaxis\": {\"anchor\": \"x\", \"domain\": [0.7777777777777778, 1.0], \"title\": {\"text\": \"Performance\"}}, \"yaxis2\": {\"anchor\": \"x2\", \"domain\": [0.7777777777777778, 1.0], \"title\": {\"text\": \"Performance\"}}, \"yaxis3\": {\"anchor\": \"x3\", \"domain\": [0.3888888888888889, 0.6111111111111112], \"title\": {\"text\": \"Performance\"}}, \"yaxis4\": {\"anchor\": \"x4\", \"domain\": [0.3888888888888889, 0.6111111111111112], \"title\": {\"text\": \"Performance\"}}, \"yaxis5\": {\"anchor\": \"x5\", \"domain\": [0.0, 0.22222222222222224], \"title\": {\"text\": \"Performance\"}}, \"yaxis6\": {\"anchor\": \"x6\", \"domain\": [0.0, 0.22222222222222224], \"title\": {\"text\": \"Performance\"}}},                        {\"responsive\": true}                    ).then(function(){\n",
       "                            \n",
       "var gd = document.getElementById('b4706519-0cbf-4f96-ad30-7a739cf16b85');\n",
       "var x = new MutationObserver(function (mutations, observer) {{\n",
       "        var display = window.getComputedStyle(gd).display;\n",
       "        if (!display || display === 'none') {{\n",
       "            console.log([gd, 'removed!']);\n",
       "            Plotly.purge(gd);\n",
       "            observer.disconnect();\n",
       "        }}\n",
       "}});\n",
       "\n",
       "// Listen for the removal of the full notebook cells\n",
       "var notebookContainer = gd.closest('#notebook-container');\n",
       "if (notebookContainer) {{\n",
       "    x.observe(notebookContainer, {childList: true});\n",
       "}}\n",
       "\n",
       "// Listen for the clearing of the current output cell\n",
       "var outputEl = gd.closest('.output');\n",
       "if (outputEl) {{\n",
       "    x.observe(outputEl, {childList: true});\n",
       "}}\n",
       "\n",
       "                        })                };                });            </script>        </div>"
      ]
     },
     "metadata": {},
     "output_type": "display_data"
    }
   ],
   "source": [
    "fig = make_subplots(\n",
    "        rows = 3, cols = 2,\n",
    "        subplot_titles = ['temp' for _ in range(3 * 2)])\n",
    "\n",
    "model_key = 'deep_purpose_ds2_0'\n",
    "row_counter = 1\n",
    "col_counter = 1\n",
    "\n",
    "for idx, run in enumerate(results[model_key].keys()):\n",
    "\n",
    "    \n",
    "    if run == 0:\n",
    "        legend = True\n",
    "    else: \n",
    "        legend = False\n",
    "    \n",
    "    x_list = [x for x in range(len(results[model_key][run]['val_auc_ut']))]\n",
    "    \n",
    "    fig.add_trace(go.Scatter(x = x_list,\n",
    "                             y = results[model_key][run]['val_auc_ut'],\n",
    "                             mode = 'lines',\n",
    "                             name = 'Unseen Targets AUC',\n",
    "                             line_color = 'deepskyblue',\n",
    "                             legendgroup = str(run),\n",
    "                             showlegend = legend),\n",
    "                 row = row_counter,\n",
    "                 col = col_counter )\n",
    "    \n",
    "    try:\n",
    "        averaged_results['val_auc_ut'] = averaged_results['val_auc_ut'] + np.array(results[model_key][run]['val_auc_ut']).reshape(-1, 1)\n",
    "    except: \n",
    "        averaged_results['val_auc_ut'] = np.array(results[model_key][run]['val_auc_ut']).reshape(-1, 1)\n",
    "    \n",
    "    fig.add_trace(go.Scatter(x = x_list,\n",
    "                             y = results[model_key][run]['val_auc_ue'],\n",
    "                             mode = 'lines',\n",
    "                             name = 'Unseen Edges AUC',\n",
    "                             line_color = 'blue',\n",
    "                             legendgroup = str(run),\n",
    "                             showlegend = legend),\n",
    "                 row = row_counter,\n",
    "                 col = col_counter )\n",
    "    try:\n",
    "        averaged_results['val_auc_ue'] = averaged_results['val_auc_ue'] + np.array(results[model_key][run]['val_auc_ue']).reshape(-1, 1)\n",
    "    except: \n",
    "        averaged_results['val_auc_ue'] = np.array(results[model_key][run]['val_auc_ue']).reshape(-1, 1)\n",
    "    \n",
    "    fig.add_trace(go.Scatter(x = x_list,\n",
    "                             y = results[model_key][run]['val_aup_ut'],\n",
    "                             mode = 'lines',\n",
    "                             name = 'Unseen Targets AUP',\n",
    "                             line_color = 'red',\n",
    "                             legendgroup = str(run),\n",
    "                             showlegend = legend),\n",
    "                 row = row_counter,\n",
    "                 col = col_counter )\n",
    "    \n",
    "    try:\n",
    "        averaged_results['val_aup_ut'] = averaged_results['val_aup_ut'] + np.array(results[model_key][run]['val_aup_ut']).reshape(-1, 1)\n",
    "    except: \n",
    "        averaged_results['val_aup_ut'] = np.array(results[model_key][run]['val_aup_ut']).reshape(-1, 1)\n",
    "    \n",
    "    fig.add_trace(go.Scatter(x = x_list,\n",
    "                             y = results[model_key][run]['val_aup_ue'],\n",
    "                             mode = 'lines',\n",
    "                             name = 'Unseen Edges AUP',\n",
    "                             line_color = 'green',\n",
    "                             legendgroup = str(run),\n",
    "                             showlegend = legend),\n",
    "                 row = row_counter,\n",
    "                 col = col_counter)\n",
    "    \n",
    "    try:\n",
    "        averaged_results['val_aup_ue'] = averaged_results['val_aup_ue'] + np.array(results[model_key][run]['val_aup_ue']).reshape(-1, 1)\n",
    "    except: \n",
    "        averaged_results['val_aup_ue'] = np.array(results[model_key][run]['val_aup_ue']).reshape(-1, 1)\n",
    "    \n",
    "    fig.update_xaxes(title_text = \"Epochs * Chunks\", row = row_counter, col = col_counter)\n",
    "    fig.update_yaxes(title_text = \"Performance\", row = row_counter, col = col_counter)\n",
    "    fig.layout.annotations[int(run)]['text'] = \"VecNet Run \" + str(run)\n",
    "    \n",
    "    if col_counter == 2: \n",
    "        col_counter = 1\n",
    "        row_counter = row_counter + 1\n",
    "    else: \n",
    "        col_counter = col_counter + 1\n",
    "        \n",
    "fig.update_layout(title_text = \"DeepPurpose 6 Fold Cross Validation\", \n",
    "                  height = 1500,\n",
    "                  width = 1500,\n",
    "                  showlegend = True)\n",
    "fig.show()\n",
    "# fig.write_html('./all_model_performance.html')"
   ]
  },
  {
   "cell_type": "code",
   "execution_count": 39,
   "metadata": {
    "hidden": true
   },
   "outputs": [],
   "source": [
    "import plotly.graph_objects as go\n",
    "from plotly.subplots import make_subplots"
   ]
  },
  {
   "cell_type": "code",
   "execution_count": 40,
   "metadata": {
    "hidden": true
   },
   "outputs": [
    {
     "data": {
      "application/vnd.plotly.v1+json": {
       "config": {
        "plotlyServerURL": "https://plot.ly"
       },
       "data": [
        {
         "line": {
          "color": "deepskyblue"
         },
         "mode": "lines",
         "name": "Unseen Targets AUC",
         "type": "scatter",
         "x": [
          0,
          1,
          2,
          3,
          4,
          5,
          6,
          7,
          8,
          9,
          10,
          11,
          12,
          13,
          14,
          15,
          16,
          17,
          18,
          19,
          20,
          21,
          22,
          23,
          24,
          25,
          26,
          27,
          28,
          29,
          30,
          31,
          32,
          33,
          34,
          35,
          36,
          37,
          38,
          39,
          40,
          41,
          42,
          43,
          44,
          45,
          46,
          47,
          48,
          49,
          50,
          51,
          52,
          53,
          54,
          55,
          56,
          57,
          58,
          59,
          60,
          61,
          62,
          63,
          64,
          65,
          66,
          67,
          68,
          69,
          70,
          71,
          72,
          73,
          74,
          75,
          76,
          77,
          78,
          79,
          80,
          81,
          82,
          83,
          84,
          85,
          86,
          87,
          88,
          89
         ],
         "y": [
          0.5094084156866531,
          0.4619287880321594,
          0.4822232771228441,
          0.48066290024456015,
          0.4896759098132582,
          0.49577702674024055,
          0.5024098932413666,
          0.5132264019337941,
          0.5128590675032002,
          0.5055292323718592,
          0.5096169688392168,
          0.5135812842825898,
          0.5169629923137374,
          0.5270208443857208,
          0.5295421685853818,
          0.5318536475398712,
          0.5334074365560487,
          0.5243482156264065,
          0.5399824108961283,
          0.5370178339952789,
          0.5370640854563795,
          0.5303479507469242,
          0.5496127689719876,
          0.5404537393360501,
          0.5517724784130372,
          0.5386544729280963,
          0.5473785762658911,
          0.5478754187060474,
          0.5529618057740027,
          0.5542206044580923,
          0.5457421355905576,
          0.558237670534475,
          0.5527704815944686,
          0.5485508673895653,
          0.5552776805827345,
          0.5632755834523621,
          0.5581133041303677,
          0.5607622858115356,
          0.563236017608212,
          0.554927810427818,
          0.5655171333929807,
          0.5574914262966312,
          0.5639787513321666,
          0.555858178160879,
          0.5549140737560937,
          0.5673074100841058,
          0.5601364530999249,
          0.5624623008057889,
          0.5674021411318683,
          0.5630351733247628,
          0.5679012170273897,
          0.560151565505603,
          0.5655184047257138,
          0.5723600796256249,
          0.5614776137689189,
          0.574490791720745,
          0.5740157777211653,
          0.5705062407206672,
          0.5658803737262476,
          0.5797937707274846,
          0.5768524469268063,
          0.5701224720963032,
          0.5810597527858731,
          0.56883432628175,
          0.5737103591627079,
          0.5835168204242265,
          0.5674775878777801,
          0.5766463763821282,
          0.5786209780500893,
          0.5725735021387921,
          0.5818246605060259,
          0.5785920774211667,
          0.5822407474630152,
          0.5813687994631794,
          0.5837876271179696,
          0.5722225943800512,
          0.581941770745367,
          0.5682602249486978,
          0.5813505792479221,
          0.5804816597468051,
          0.5887251554108389,
          0.5832774446122552,
          0.5745526910724547,
          0.5742652957314425,
          0.5821333523893788,
          0.5880056955264982,
          0.5868127802718908,
          0.5755618425190046,
          0.5779667316205083,
          0.5810647557562378
         ]
        },
        {
         "line": {
          "color": "blue"
         },
         "mode": "lines",
         "name": "Unseen Edges AUC",
         "type": "scatter",
         "x": [
          0,
          1,
          2,
          3,
          4,
          5,
          6,
          7,
          8,
          9,
          10,
          11,
          12,
          13,
          14,
          15,
          16,
          17,
          18,
          19,
          20,
          21,
          22,
          23,
          24,
          25,
          26,
          27,
          28,
          29,
          30,
          31,
          32,
          33,
          34,
          35,
          36,
          37,
          38,
          39,
          40,
          41,
          42,
          43,
          44,
          45,
          46,
          47,
          48,
          49,
          50,
          51,
          52,
          53,
          54,
          55,
          56,
          57,
          58,
          59,
          60,
          61,
          62,
          63,
          64,
          65,
          66,
          67,
          68,
          69,
          70,
          71,
          72,
          73,
          74,
          75,
          76,
          77,
          78,
          79,
          80,
          81,
          82,
          83,
          84,
          85,
          86,
          87,
          88,
          89
         ],
         "y": [
          0.5079053597026938,
          0.46941450077320823,
          0.4886894206586769,
          0.4903085500985449,
          0.49685842525293356,
          0.5028654777069749,
          0.5092834981446959,
          0.5201574398788472,
          0.5199362802906794,
          0.5136493600012494,
          0.5179859331310194,
          0.5239693076572806,
          0.5273232544526193,
          0.5347177028619784,
          0.5397679629147586,
          0.541626748566594,
          0.5421080901919288,
          0.5372056650407186,
          0.5529153736991984,
          0.551928244992673,
          0.5514743879629324,
          0.5447806914892611,
          0.5677245656376548,
          0.5555522695102653,
          0.5695827127557688,
          0.556666326424868,
          0.5674279164243675,
          0.5677384287660896,
          0.570640763439147,
          0.576222984123846,
          0.5636741365225847,
          0.5803034785443231,
          0.5759613349108706,
          0.5701179390078878,
          0.5784623137277735,
          0.5887693105221765,
          0.5846611536974908,
          0.5844407154200039,
          0.5910693991526438,
          0.582635975908111,
          0.5935972739444406,
          0.5860948657142586,
          0.5957411038692164,
          0.5824824680366079,
          0.5852511864335389,
          0.5976387907344836,
          0.5897754069937096,
          0.5943355041637672,
          0.5967289443442624,
          0.5957352752631373,
          0.6026037575394988,
          0.5935074043628455,
          0.5991772143190909,
          0.6067193610823989,
          0.5950847798895368,
          0.6106790160158152,
          0.6100767324640503,
          0.6081080200572656,
          0.6050841093218474,
          0.6200370948313363,
          0.6123608325652452,
          0.6072798113227486,
          0.6213407063932838,
          0.609749502522951,
          0.6144118258809375,
          0.6305620356017556,
          0.6106965169077339,
          0.6214025658053516,
          0.6222233964081731,
          0.6148077593578815,
          0.6280735076384575,
          0.6263330997805204,
          0.6282812753041843,
          0.6287341533387236,
          0.6311795206511367,
          0.6196316352776318,
          0.6290854548209778,
          0.6155565649523517,
          0.6307325489730408,
          0.626875588832669,
          0.6378295874547453,
          0.6340212909174286,
          0.6273721323210611,
          0.6283644546267351,
          0.6348063678190953,
          0.6388827222172203,
          0.6383553322261316,
          0.628020183117805,
          0.6362011378325003,
          0.6380952169399633
         ]
        },
        {
         "line": {
          "color": "red"
         },
         "mode": "lines",
         "name": "Unseen Targets AUP",
         "type": "scatter",
         "x": [
          0,
          1,
          2,
          3,
          4,
          5,
          6,
          7,
          8,
          9,
          10,
          11,
          12,
          13,
          14,
          15,
          16,
          17,
          18,
          19,
          20,
          21,
          22,
          23,
          24,
          25,
          26,
          27,
          28,
          29,
          30,
          31,
          32,
          33,
          34,
          35,
          36,
          37,
          38,
          39,
          40,
          41,
          42,
          43,
          44,
          45,
          46,
          47,
          48,
          49,
          50,
          51,
          52,
          53,
          54,
          55,
          56,
          57,
          58,
          59,
          60,
          61,
          62,
          63,
          64,
          65,
          66,
          67,
          68,
          69,
          70,
          71,
          72,
          73,
          74,
          75,
          76,
          77,
          78,
          79,
          80,
          81,
          82,
          83,
          84,
          85,
          86,
          87,
          88,
          89
         ],
         "y": [
          0.4832519607010102,
          0.44990471928843795,
          0.4610292638646798,
          0.4582392143198697,
          0.4558969896036762,
          0.45204049385063866,
          0.4557124785757425,
          0.45782911679109056,
          0.45362647124470895,
          0.44670687080062615,
          0.45002442654805425,
          0.4507410578681528,
          0.45235837410735474,
          0.4572395994996956,
          0.4589348750593109,
          0.4614560684879019,
          0.4626300142771771,
          0.4565901560740628,
          0.4674299225891137,
          0.46579513256506627,
          0.4665959145554319,
          0.4616368132814062,
          0.475909131321774,
          0.47067571127604846,
          0.4795356409637795,
          0.47154069502890733,
          0.47807976894523385,
          0.4794738745537943,
          0.48233937192701726,
          0.48568454747844875,
          0.4801517989244625,
          0.4922040746031257,
          0.4880549105480411,
          0.48335446890096573,
          0.489059885952968,
          0.4978765375617602,
          0.49636602571351807,
          0.4981872692972001,
          0.503682277790192,
          0.4963367295586491,
          0.5044852628524626,
          0.5018826669541755,
          0.5089798317382556,
          0.5025298631634918,
          0.5001975804322807,
          0.5155397013709442,
          0.5046424580016627,
          0.5083775274826244,
          0.5173089329366055,
          0.5134993843749446,
          0.518615897481323,
          0.5150954772346353,
          0.520665033690991,
          0.526354998295838,
          0.5183766519997034,
          0.5288385741976868,
          0.5297349198680602,
          0.5251143560320524,
          0.5253054099102128,
          0.5346436634578052,
          0.5330261273669791,
          0.5287938243819507,
          0.5413109649873039,
          0.5312839036142005,
          0.5341614912425555,
          0.5468599194120792,
          0.5260278589839242,
          0.5413990753942413,
          0.5420653922851769,
          0.533789508770262,
          0.5451897450916495,
          0.5435334989224045,
          0.5479908265912795,
          0.5489417952855474,
          0.5532645331608235,
          0.5416004267654965,
          0.5495034691800025,
          0.5371892151866002,
          0.5494928117131913,
          0.5501740712679162,
          0.5559659173075969,
          0.5555875094898614,
          0.5473528508875478,
          0.5479487465404231,
          0.5514132232178426,
          0.56028072815365,
          0.5590148536569678,
          0.546787080621468,
          0.555993903906447,
          0.5534037367058723
         ]
        },
        {
         "line": {
          "color": "green"
         },
         "mode": "lines",
         "name": "Unseen Edges AUP",
         "type": "scatter",
         "x": [
          0,
          1,
          2,
          3,
          4,
          5,
          6,
          7,
          8,
          9,
          10,
          11,
          12,
          13,
          14,
          15,
          16,
          17,
          18,
          19,
          20,
          21,
          22,
          23,
          24,
          25,
          26,
          27,
          28,
          29,
          30,
          31,
          32,
          33,
          34,
          35,
          36,
          37,
          38,
          39,
          40,
          41,
          42,
          43,
          44,
          45,
          46,
          47,
          48,
          49,
          50,
          51,
          52,
          53,
          54,
          55,
          56,
          57,
          58,
          59,
          60,
          61,
          62,
          63,
          64,
          65,
          66,
          67,
          68,
          69,
          70,
          71,
          72,
          73,
          74,
          75,
          76,
          77,
          78,
          79,
          80,
          81,
          82,
          83,
          84,
          85,
          86,
          87,
          88,
          89
         ],
         "y": [
          0.5141687833368774,
          0.4829869257251034,
          0.49626850250467974,
          0.49289982460234155,
          0.4905677424750549,
          0.48703715304184464,
          0.4905703626532476,
          0.4925525577752094,
          0.48852935644173584,
          0.48214227201572735,
          0.48484916602786265,
          0.4858404972425114,
          0.48741343467193293,
          0.49175319733394707,
          0.4952633659959615,
          0.4968761378030199,
          0.49771506316476266,
          0.49421199115057995,
          0.5052238109537622,
          0.5049353117718335,
          0.5062778485392785,
          0.5014288285693344,
          0.5180819658097926,
          0.5108889209193795,
          0.5226130854094748,
          0.5146341733138587,
          0.5223291621721904,
          0.5231750789068791,
          0.5257191865997574,
          0.5325314019764749,
          0.5241402618167698,
          0.5402227629727611,
          0.5347052688694943,
          0.5306381797690181,
          0.5377629825542537,
          0.5490429974670731,
          0.548552439802409,
          0.5481746414069809,
          0.5563098686511577,
          0.5491314587156828,
          0.5594006831766274,
          0.5559807156831795,
          0.5657749765025945,
          0.5564456682008458,
          0.5570202055533338,
          0.5713112424262728,
          0.5606355243377074,
          0.5682252502437564,
          0.572806189121003,
          0.5735091341936621,
          0.5813539697444268,
          0.5749902741031828,
          0.5816472630530359,
          0.5887470256281969,
          0.5792124561531965,
          0.5929550583271443,
          0.5934713174274867,
          0.59114895909305,
          0.5920261689107823,
          0.6040895746458762,
          0.5967956055070541,
          0.5944753421754433,
          0.6100033207680914,
          0.5983873022262954,
          0.6014941489138023,
          0.6216289189685281,
          0.5967314229667339,
          0.6142404166253134,
          0.6127931926840251,
          0.603145026516006,
          0.6212012729966786,
          0.6179531484055021,
          0.6234605274752686,
          0.6246992488078175,
          0.627703635116926,
          0.6155618452096118,
          0.6243543810407327,
          0.6115975672565089,
          0.6288799931261576,
          0.6259074019942817,
          0.6347958088583865,
          0.6345024067748777,
          0.6282859471535183,
          0.627549255745001,
          0.6337353287516655,
          0.640773092553609,
          0.6384834402159139,
          0.6275556853129771,
          0.6406803042033692,
          0.6392831394561003
         ]
        }
       ],
       "layout": {
        "showlegend": true,
        "template": {
         "data": {
          "bar": [
           {
            "error_x": {
             "color": "#2a3f5f"
            },
            "error_y": {
             "color": "#2a3f5f"
            },
            "marker": {
             "line": {
              "color": "#E5ECF6",
              "width": 0.5
             }
            },
            "type": "bar"
           }
          ],
          "barpolar": [
           {
            "marker": {
             "line": {
              "color": "#E5ECF6",
              "width": 0.5
             }
            },
            "type": "barpolar"
           }
          ],
          "carpet": [
           {
            "aaxis": {
             "endlinecolor": "#2a3f5f",
             "gridcolor": "white",
             "linecolor": "white",
             "minorgridcolor": "white",
             "startlinecolor": "#2a3f5f"
            },
            "baxis": {
             "endlinecolor": "#2a3f5f",
             "gridcolor": "white",
             "linecolor": "white",
             "minorgridcolor": "white",
             "startlinecolor": "#2a3f5f"
            },
            "type": "carpet"
           }
          ],
          "choropleth": [
           {
            "colorbar": {
             "outlinewidth": 0,
             "ticks": ""
            },
            "type": "choropleth"
           }
          ],
          "contour": [
           {
            "colorbar": {
             "outlinewidth": 0,
             "ticks": ""
            },
            "colorscale": [
             [
              0,
              "#0d0887"
             ],
             [
              0.1111111111111111,
              "#46039f"
             ],
             [
              0.2222222222222222,
              "#7201a8"
             ],
             [
              0.3333333333333333,
              "#9c179e"
             ],
             [
              0.4444444444444444,
              "#bd3786"
             ],
             [
              0.5555555555555556,
              "#d8576b"
             ],
             [
              0.6666666666666666,
              "#ed7953"
             ],
             [
              0.7777777777777778,
              "#fb9f3a"
             ],
             [
              0.8888888888888888,
              "#fdca26"
             ],
             [
              1,
              "#f0f921"
             ]
            ],
            "type": "contour"
           }
          ],
          "contourcarpet": [
           {
            "colorbar": {
             "outlinewidth": 0,
             "ticks": ""
            },
            "type": "contourcarpet"
           }
          ],
          "heatmap": [
           {
            "colorbar": {
             "outlinewidth": 0,
             "ticks": ""
            },
            "colorscale": [
             [
              0,
              "#0d0887"
             ],
             [
              0.1111111111111111,
              "#46039f"
             ],
             [
              0.2222222222222222,
              "#7201a8"
             ],
             [
              0.3333333333333333,
              "#9c179e"
             ],
             [
              0.4444444444444444,
              "#bd3786"
             ],
             [
              0.5555555555555556,
              "#d8576b"
             ],
             [
              0.6666666666666666,
              "#ed7953"
             ],
             [
              0.7777777777777778,
              "#fb9f3a"
             ],
             [
              0.8888888888888888,
              "#fdca26"
             ],
             [
              1,
              "#f0f921"
             ]
            ],
            "type": "heatmap"
           }
          ],
          "heatmapgl": [
           {
            "colorbar": {
             "outlinewidth": 0,
             "ticks": ""
            },
            "colorscale": [
             [
              0,
              "#0d0887"
             ],
             [
              0.1111111111111111,
              "#46039f"
             ],
             [
              0.2222222222222222,
              "#7201a8"
             ],
             [
              0.3333333333333333,
              "#9c179e"
             ],
             [
              0.4444444444444444,
              "#bd3786"
             ],
             [
              0.5555555555555556,
              "#d8576b"
             ],
             [
              0.6666666666666666,
              "#ed7953"
             ],
             [
              0.7777777777777778,
              "#fb9f3a"
             ],
             [
              0.8888888888888888,
              "#fdca26"
             ],
             [
              1,
              "#f0f921"
             ]
            ],
            "type": "heatmapgl"
           }
          ],
          "histogram": [
           {
            "marker": {
             "colorbar": {
              "outlinewidth": 0,
              "ticks": ""
             }
            },
            "type": "histogram"
           }
          ],
          "histogram2d": [
           {
            "colorbar": {
             "outlinewidth": 0,
             "ticks": ""
            },
            "colorscale": [
             [
              0,
              "#0d0887"
             ],
             [
              0.1111111111111111,
              "#46039f"
             ],
             [
              0.2222222222222222,
              "#7201a8"
             ],
             [
              0.3333333333333333,
              "#9c179e"
             ],
             [
              0.4444444444444444,
              "#bd3786"
             ],
             [
              0.5555555555555556,
              "#d8576b"
             ],
             [
              0.6666666666666666,
              "#ed7953"
             ],
             [
              0.7777777777777778,
              "#fb9f3a"
             ],
             [
              0.8888888888888888,
              "#fdca26"
             ],
             [
              1,
              "#f0f921"
             ]
            ],
            "type": "histogram2d"
           }
          ],
          "histogram2dcontour": [
           {
            "colorbar": {
             "outlinewidth": 0,
             "ticks": ""
            },
            "colorscale": [
             [
              0,
              "#0d0887"
             ],
             [
              0.1111111111111111,
              "#46039f"
             ],
             [
              0.2222222222222222,
              "#7201a8"
             ],
             [
              0.3333333333333333,
              "#9c179e"
             ],
             [
              0.4444444444444444,
              "#bd3786"
             ],
             [
              0.5555555555555556,
              "#d8576b"
             ],
             [
              0.6666666666666666,
              "#ed7953"
             ],
             [
              0.7777777777777778,
              "#fb9f3a"
             ],
             [
              0.8888888888888888,
              "#fdca26"
             ],
             [
              1,
              "#f0f921"
             ]
            ],
            "type": "histogram2dcontour"
           }
          ],
          "mesh3d": [
           {
            "colorbar": {
             "outlinewidth": 0,
             "ticks": ""
            },
            "type": "mesh3d"
           }
          ],
          "parcoords": [
           {
            "line": {
             "colorbar": {
              "outlinewidth": 0,
              "ticks": ""
             }
            },
            "type": "parcoords"
           }
          ],
          "pie": [
           {
            "automargin": true,
            "type": "pie"
           }
          ],
          "scatter": [
           {
            "marker": {
             "colorbar": {
              "outlinewidth": 0,
              "ticks": ""
             }
            },
            "type": "scatter"
           }
          ],
          "scatter3d": [
           {
            "line": {
             "colorbar": {
              "outlinewidth": 0,
              "ticks": ""
             }
            },
            "marker": {
             "colorbar": {
              "outlinewidth": 0,
              "ticks": ""
             }
            },
            "type": "scatter3d"
           }
          ],
          "scattercarpet": [
           {
            "marker": {
             "colorbar": {
              "outlinewidth": 0,
              "ticks": ""
             }
            },
            "type": "scattercarpet"
           }
          ],
          "scattergeo": [
           {
            "marker": {
             "colorbar": {
              "outlinewidth": 0,
              "ticks": ""
             }
            },
            "type": "scattergeo"
           }
          ],
          "scattergl": [
           {
            "marker": {
             "colorbar": {
              "outlinewidth": 0,
              "ticks": ""
             }
            },
            "type": "scattergl"
           }
          ],
          "scattermapbox": [
           {
            "marker": {
             "colorbar": {
              "outlinewidth": 0,
              "ticks": ""
             }
            },
            "type": "scattermapbox"
           }
          ],
          "scatterpolar": [
           {
            "marker": {
             "colorbar": {
              "outlinewidth": 0,
              "ticks": ""
             }
            },
            "type": "scatterpolar"
           }
          ],
          "scatterpolargl": [
           {
            "marker": {
             "colorbar": {
              "outlinewidth": 0,
              "ticks": ""
             }
            },
            "type": "scatterpolargl"
           }
          ],
          "scatterternary": [
           {
            "marker": {
             "colorbar": {
              "outlinewidth": 0,
              "ticks": ""
             }
            },
            "type": "scatterternary"
           }
          ],
          "surface": [
           {
            "colorbar": {
             "outlinewidth": 0,
             "ticks": ""
            },
            "colorscale": [
             [
              0,
              "#0d0887"
             ],
             [
              0.1111111111111111,
              "#46039f"
             ],
             [
              0.2222222222222222,
              "#7201a8"
             ],
             [
              0.3333333333333333,
              "#9c179e"
             ],
             [
              0.4444444444444444,
              "#bd3786"
             ],
             [
              0.5555555555555556,
              "#d8576b"
             ],
             [
              0.6666666666666666,
              "#ed7953"
             ],
             [
              0.7777777777777778,
              "#fb9f3a"
             ],
             [
              0.8888888888888888,
              "#fdca26"
             ],
             [
              1,
              "#f0f921"
             ]
            ],
            "type": "surface"
           }
          ],
          "table": [
           {
            "cells": {
             "fill": {
              "color": "#EBF0F8"
             },
             "line": {
              "color": "white"
             }
            },
            "header": {
             "fill": {
              "color": "#C8D4E3"
             },
             "line": {
              "color": "white"
             }
            },
            "type": "table"
           }
          ]
         },
         "layout": {
          "annotationdefaults": {
           "arrowcolor": "#2a3f5f",
           "arrowhead": 0,
           "arrowwidth": 1
          },
          "coloraxis": {
           "colorbar": {
            "outlinewidth": 0,
            "ticks": ""
           }
          },
          "colorscale": {
           "diverging": [
            [
             0,
             "#8e0152"
            ],
            [
             0.1,
             "#c51b7d"
            ],
            [
             0.2,
             "#de77ae"
            ],
            [
             0.3,
             "#f1b6da"
            ],
            [
             0.4,
             "#fde0ef"
            ],
            [
             0.5,
             "#f7f7f7"
            ],
            [
             0.6,
             "#e6f5d0"
            ],
            [
             0.7,
             "#b8e186"
            ],
            [
             0.8,
             "#7fbc41"
            ],
            [
             0.9,
             "#4d9221"
            ],
            [
             1,
             "#276419"
            ]
           ],
           "sequential": [
            [
             0,
             "#0d0887"
            ],
            [
             0.1111111111111111,
             "#46039f"
            ],
            [
             0.2222222222222222,
             "#7201a8"
            ],
            [
             0.3333333333333333,
             "#9c179e"
            ],
            [
             0.4444444444444444,
             "#bd3786"
            ],
            [
             0.5555555555555556,
             "#d8576b"
            ],
            [
             0.6666666666666666,
             "#ed7953"
            ],
            [
             0.7777777777777778,
             "#fb9f3a"
            ],
            [
             0.8888888888888888,
             "#fdca26"
            ],
            [
             1,
             "#f0f921"
            ]
           ],
           "sequentialminus": [
            [
             0,
             "#0d0887"
            ],
            [
             0.1111111111111111,
             "#46039f"
            ],
            [
             0.2222222222222222,
             "#7201a8"
            ],
            [
             0.3333333333333333,
             "#9c179e"
            ],
            [
             0.4444444444444444,
             "#bd3786"
            ],
            [
             0.5555555555555556,
             "#d8576b"
            ],
            [
             0.6666666666666666,
             "#ed7953"
            ],
            [
             0.7777777777777778,
             "#fb9f3a"
            ],
            [
             0.8888888888888888,
             "#fdca26"
            ],
            [
             1,
             "#f0f921"
            ]
           ]
          },
          "colorway": [
           "#636efa",
           "#EF553B",
           "#00cc96",
           "#ab63fa",
           "#FFA15A",
           "#19d3f3",
           "#FF6692",
           "#B6E880",
           "#FF97FF",
           "#FECB52"
          ],
          "font": {
           "color": "#2a3f5f"
          },
          "geo": {
           "bgcolor": "white",
           "lakecolor": "white",
           "landcolor": "#E5ECF6",
           "showlakes": true,
           "showland": true,
           "subunitcolor": "white"
          },
          "hoverlabel": {
           "align": "left"
          },
          "hovermode": "closest",
          "mapbox": {
           "style": "light"
          },
          "paper_bgcolor": "white",
          "plot_bgcolor": "#E5ECF6",
          "polar": {
           "angularaxis": {
            "gridcolor": "white",
            "linecolor": "white",
            "ticks": ""
           },
           "bgcolor": "#E5ECF6",
           "radialaxis": {
            "gridcolor": "white",
            "linecolor": "white",
            "ticks": ""
           }
          },
          "scene": {
           "xaxis": {
            "backgroundcolor": "#E5ECF6",
            "gridcolor": "white",
            "gridwidth": 2,
            "linecolor": "white",
            "showbackground": true,
            "ticks": "",
            "zerolinecolor": "white"
           },
           "yaxis": {
            "backgroundcolor": "#E5ECF6",
            "gridcolor": "white",
            "gridwidth": 2,
            "linecolor": "white",
            "showbackground": true,
            "ticks": "",
            "zerolinecolor": "white"
           },
           "zaxis": {
            "backgroundcolor": "#E5ECF6",
            "gridcolor": "white",
            "gridwidth": 2,
            "linecolor": "white",
            "showbackground": true,
            "ticks": "",
            "zerolinecolor": "white"
           }
          },
          "shapedefaults": {
           "line": {
            "color": "#2a3f5f"
           }
          },
          "ternary": {
           "aaxis": {
            "gridcolor": "white",
            "linecolor": "white",
            "ticks": ""
           },
           "baxis": {
            "gridcolor": "white",
            "linecolor": "white",
            "ticks": ""
           },
           "bgcolor": "#E5ECF6",
           "caxis": {
            "gridcolor": "white",
            "linecolor": "white",
            "ticks": ""
           }
          },
          "title": {
           "x": 0.05
          },
          "xaxis": {
           "automargin": true,
           "gridcolor": "white",
           "linecolor": "white",
           "ticks": "",
           "title": {
            "standoff": 15
           },
           "zerolinecolor": "white",
           "zerolinewidth": 2
          },
          "yaxis": {
           "automargin": true,
           "gridcolor": "white",
           "linecolor": "white",
           "ticks": "",
           "title": {
            "standoff": 15
           },
           "zerolinecolor": "white",
           "zerolinewidth": 2
          }
         }
        },
        "title": {
         "text": "VAENet 6 Fold Cross Validation - Average Performance"
        },
        "xaxis": {
         "title": {
          "text": "Epochs * Chunks"
         }
        },
        "yaxis": {
         "title": {
          "text": "Performance"
         }
        }
       }
      },
      "text/html": [
       "<div>\n",
       "        \n",
       "        \n",
       "            <div id=\"629c1a45-80d8-4664-998d-9aebe3a0d62e\" class=\"plotly-graph-div\" style=\"height:525px; width:100%;\"></div>\n",
       "            <script type=\"text/javascript\">\n",
       "                require([\"plotly\"], function(Plotly) {\n",
       "                    window.PLOTLYENV=window.PLOTLYENV || {};\n",
       "                    \n",
       "                if (document.getElementById(\"629c1a45-80d8-4664-998d-9aebe3a0d62e\")) {\n",
       "                    Plotly.newPlot(\n",
       "                        '629c1a45-80d8-4664-998d-9aebe3a0d62e',\n",
       "                        [{\"line\": {\"color\": \"deepskyblue\"}, \"mode\": \"lines\", \"name\": \"Unseen Targets AUC\", \"type\": \"scatter\", \"x\": [0, 1, 2, 3, 4, 5, 6, 7, 8, 9, 10, 11, 12, 13, 14, 15, 16, 17, 18, 19, 20, 21, 22, 23, 24, 25, 26, 27, 28, 29, 30, 31, 32, 33, 34, 35, 36, 37, 38, 39, 40, 41, 42, 43, 44, 45, 46, 47, 48, 49, 50, 51, 52, 53, 54, 55, 56, 57, 58, 59, 60, 61, 62, 63, 64, 65, 66, 67, 68, 69, 70, 71, 72, 73, 74, 75, 76, 77, 78, 79, 80, 81, 82, 83, 84, 85, 86, 87, 88, 89], \"y\": [0.5094084156866531, 0.4619287880321594, 0.4822232771228441, 0.48066290024456015, 0.4896759098132582, 0.49577702674024055, 0.5024098932413666, 0.5132264019337941, 0.5128590675032002, 0.5055292323718592, 0.5096169688392168, 0.5135812842825898, 0.5169629923137374, 0.5270208443857208, 0.5295421685853818, 0.5318536475398712, 0.5334074365560487, 0.5243482156264065, 0.5399824108961283, 0.5370178339952789, 0.5370640854563795, 0.5303479507469242, 0.5496127689719876, 0.5404537393360501, 0.5517724784130372, 0.5386544729280963, 0.5473785762658911, 0.5478754187060474, 0.5529618057740027, 0.5542206044580923, 0.5457421355905576, 0.558237670534475, 0.5527704815944686, 0.5485508673895653, 0.5552776805827345, 0.5632755834523621, 0.5581133041303677, 0.5607622858115356, 0.563236017608212, 0.554927810427818, 0.5655171333929807, 0.5574914262966312, 0.5639787513321666, 0.555858178160879, 0.5549140737560937, 0.5673074100841058, 0.5601364530999249, 0.5624623008057889, 0.5674021411318683, 0.5630351733247628, 0.5679012170273897, 0.560151565505603, 0.5655184047257138, 0.5723600796256249, 0.5614776137689189, 0.574490791720745, 0.5740157777211653, 0.5705062407206672, 0.5658803737262476, 0.5797937707274846, 0.5768524469268063, 0.5701224720963032, 0.5810597527858731, 0.56883432628175, 0.5737103591627079, 0.5835168204242265, 0.5674775878777801, 0.5766463763821282, 0.5786209780500893, 0.5725735021387921, 0.5818246605060259, 0.5785920774211667, 0.5822407474630152, 0.5813687994631794, 0.5837876271179696, 0.5722225943800512, 0.581941770745367, 0.5682602249486978, 0.5813505792479221, 0.5804816597468051, 0.5887251554108389, 0.5832774446122552, 0.5745526910724547, 0.5742652957314425, 0.5821333523893788, 0.5880056955264982, 0.5868127802718908, 0.5755618425190046, 0.5779667316205083, 0.5810647557562378]}, {\"line\": {\"color\": \"blue\"}, \"mode\": \"lines\", \"name\": \"Unseen Edges AUC\", \"type\": \"scatter\", \"x\": [0, 1, 2, 3, 4, 5, 6, 7, 8, 9, 10, 11, 12, 13, 14, 15, 16, 17, 18, 19, 20, 21, 22, 23, 24, 25, 26, 27, 28, 29, 30, 31, 32, 33, 34, 35, 36, 37, 38, 39, 40, 41, 42, 43, 44, 45, 46, 47, 48, 49, 50, 51, 52, 53, 54, 55, 56, 57, 58, 59, 60, 61, 62, 63, 64, 65, 66, 67, 68, 69, 70, 71, 72, 73, 74, 75, 76, 77, 78, 79, 80, 81, 82, 83, 84, 85, 86, 87, 88, 89], \"y\": [0.5079053597026938, 0.46941450077320823, 0.4886894206586769, 0.4903085500985449, 0.49685842525293356, 0.5028654777069749, 0.5092834981446959, 0.5201574398788472, 0.5199362802906794, 0.5136493600012494, 0.5179859331310194, 0.5239693076572806, 0.5273232544526193, 0.5347177028619784, 0.5397679629147586, 0.541626748566594, 0.5421080901919288, 0.5372056650407186, 0.5529153736991984, 0.551928244992673, 0.5514743879629324, 0.5447806914892611, 0.5677245656376548, 0.5555522695102653, 0.5695827127557688, 0.556666326424868, 0.5674279164243675, 0.5677384287660896, 0.570640763439147, 0.576222984123846, 0.5636741365225847, 0.5803034785443231, 0.5759613349108706, 0.5701179390078878, 0.5784623137277735, 0.5887693105221765, 0.5846611536974908, 0.5844407154200039, 0.5910693991526438, 0.582635975908111, 0.5935972739444406, 0.5860948657142586, 0.5957411038692164, 0.5824824680366079, 0.5852511864335389, 0.5976387907344836, 0.5897754069937096, 0.5943355041637672, 0.5967289443442624, 0.5957352752631373, 0.6026037575394988, 0.5935074043628455, 0.5991772143190909, 0.6067193610823989, 0.5950847798895368, 0.6106790160158152, 0.6100767324640503, 0.6081080200572656, 0.6050841093218474, 0.6200370948313363, 0.6123608325652452, 0.6072798113227486, 0.6213407063932838, 0.609749502522951, 0.6144118258809375, 0.6305620356017556, 0.6106965169077339, 0.6214025658053516, 0.6222233964081731, 0.6148077593578815, 0.6280735076384575, 0.6263330997805204, 0.6282812753041843, 0.6287341533387236, 0.6311795206511367, 0.6196316352776318, 0.6290854548209778, 0.6155565649523517, 0.6307325489730408, 0.626875588832669, 0.6378295874547453, 0.6340212909174286, 0.6273721323210611, 0.6283644546267351, 0.6348063678190953, 0.6388827222172203, 0.6383553322261316, 0.628020183117805, 0.6362011378325003, 0.6380952169399633]}, {\"line\": {\"color\": \"red\"}, \"mode\": \"lines\", \"name\": \"Unseen Targets AUP\", \"type\": \"scatter\", \"x\": [0, 1, 2, 3, 4, 5, 6, 7, 8, 9, 10, 11, 12, 13, 14, 15, 16, 17, 18, 19, 20, 21, 22, 23, 24, 25, 26, 27, 28, 29, 30, 31, 32, 33, 34, 35, 36, 37, 38, 39, 40, 41, 42, 43, 44, 45, 46, 47, 48, 49, 50, 51, 52, 53, 54, 55, 56, 57, 58, 59, 60, 61, 62, 63, 64, 65, 66, 67, 68, 69, 70, 71, 72, 73, 74, 75, 76, 77, 78, 79, 80, 81, 82, 83, 84, 85, 86, 87, 88, 89], \"y\": [0.4832519607010102, 0.44990471928843795, 0.4610292638646798, 0.4582392143198697, 0.4558969896036762, 0.45204049385063866, 0.4557124785757425, 0.45782911679109056, 0.45362647124470895, 0.44670687080062615, 0.45002442654805425, 0.4507410578681528, 0.45235837410735474, 0.4572395994996956, 0.4589348750593109, 0.4614560684879019, 0.4626300142771771, 0.4565901560740628, 0.4674299225891137, 0.46579513256506627, 0.4665959145554319, 0.4616368132814062, 0.475909131321774, 0.47067571127604846, 0.4795356409637795, 0.47154069502890733, 0.47807976894523385, 0.4794738745537943, 0.48233937192701726, 0.48568454747844875, 0.4801517989244625, 0.4922040746031257, 0.4880549105480411, 0.48335446890096573, 0.489059885952968, 0.4978765375617602, 0.49636602571351807, 0.4981872692972001, 0.503682277790192, 0.4963367295586491, 0.5044852628524626, 0.5018826669541755, 0.5089798317382556, 0.5025298631634918, 0.5001975804322807, 0.5155397013709442, 0.5046424580016627, 0.5083775274826244, 0.5173089329366055, 0.5134993843749446, 0.518615897481323, 0.5150954772346353, 0.520665033690991, 0.526354998295838, 0.5183766519997034, 0.5288385741976868, 0.5297349198680602, 0.5251143560320524, 0.5253054099102128, 0.5346436634578052, 0.5330261273669791, 0.5287938243819507, 0.5413109649873039, 0.5312839036142005, 0.5341614912425555, 0.5468599194120792, 0.5260278589839242, 0.5413990753942413, 0.5420653922851769, 0.533789508770262, 0.5451897450916495, 0.5435334989224045, 0.5479908265912795, 0.5489417952855474, 0.5532645331608235, 0.5416004267654965, 0.5495034691800025, 0.5371892151866002, 0.5494928117131913, 0.5501740712679162, 0.5559659173075969, 0.5555875094898614, 0.5473528508875478, 0.5479487465404231, 0.5514132232178426, 0.56028072815365, 0.5590148536569678, 0.546787080621468, 0.555993903906447, 0.5534037367058723]}, {\"line\": {\"color\": \"green\"}, \"mode\": \"lines\", \"name\": \"Unseen Edges AUP\", \"type\": \"scatter\", \"x\": [0, 1, 2, 3, 4, 5, 6, 7, 8, 9, 10, 11, 12, 13, 14, 15, 16, 17, 18, 19, 20, 21, 22, 23, 24, 25, 26, 27, 28, 29, 30, 31, 32, 33, 34, 35, 36, 37, 38, 39, 40, 41, 42, 43, 44, 45, 46, 47, 48, 49, 50, 51, 52, 53, 54, 55, 56, 57, 58, 59, 60, 61, 62, 63, 64, 65, 66, 67, 68, 69, 70, 71, 72, 73, 74, 75, 76, 77, 78, 79, 80, 81, 82, 83, 84, 85, 86, 87, 88, 89], \"y\": [0.5141687833368774, 0.4829869257251034, 0.49626850250467974, 0.49289982460234155, 0.4905677424750549, 0.48703715304184464, 0.4905703626532476, 0.4925525577752094, 0.48852935644173584, 0.48214227201572735, 0.48484916602786265, 0.4858404972425114, 0.48741343467193293, 0.49175319733394707, 0.4952633659959615, 0.4968761378030199, 0.49771506316476266, 0.49421199115057995, 0.5052238109537622, 0.5049353117718335, 0.5062778485392785, 0.5014288285693344, 0.5180819658097926, 0.5108889209193795, 0.5226130854094748, 0.5146341733138587, 0.5223291621721904, 0.5231750789068791, 0.5257191865997574, 0.5325314019764749, 0.5241402618167698, 0.5402227629727611, 0.5347052688694943, 0.5306381797690181, 0.5377629825542537, 0.5490429974670731, 0.548552439802409, 0.5481746414069809, 0.5563098686511577, 0.5491314587156828, 0.5594006831766274, 0.5559807156831795, 0.5657749765025945, 0.5564456682008458, 0.5570202055533338, 0.5713112424262728, 0.5606355243377074, 0.5682252502437564, 0.572806189121003, 0.5735091341936621, 0.5813539697444268, 0.5749902741031828, 0.5816472630530359, 0.5887470256281969, 0.5792124561531965, 0.5929550583271443, 0.5934713174274867, 0.59114895909305, 0.5920261689107823, 0.6040895746458762, 0.5967956055070541, 0.5944753421754433, 0.6100033207680914, 0.5983873022262954, 0.6014941489138023, 0.6216289189685281, 0.5967314229667339, 0.6142404166253134, 0.6127931926840251, 0.603145026516006, 0.6212012729966786, 0.6179531484055021, 0.6234605274752686, 0.6246992488078175, 0.627703635116926, 0.6155618452096118, 0.6243543810407327, 0.6115975672565089, 0.6288799931261576, 0.6259074019942817, 0.6347958088583865, 0.6345024067748777, 0.6282859471535183, 0.627549255745001, 0.6337353287516655, 0.640773092553609, 0.6384834402159139, 0.6275556853129771, 0.6406803042033692, 0.6392831394561003]}],\n",
       "                        {\"showlegend\": true, \"template\": {\"data\": {\"bar\": [{\"error_x\": {\"color\": \"#2a3f5f\"}, \"error_y\": {\"color\": \"#2a3f5f\"}, \"marker\": {\"line\": {\"color\": \"#E5ECF6\", \"width\": 0.5}}, \"type\": \"bar\"}], \"barpolar\": [{\"marker\": {\"line\": {\"color\": \"#E5ECF6\", \"width\": 0.5}}, \"type\": \"barpolar\"}], \"carpet\": [{\"aaxis\": {\"endlinecolor\": \"#2a3f5f\", \"gridcolor\": \"white\", \"linecolor\": \"white\", \"minorgridcolor\": \"white\", \"startlinecolor\": \"#2a3f5f\"}, \"baxis\": {\"endlinecolor\": \"#2a3f5f\", \"gridcolor\": \"white\", \"linecolor\": \"white\", \"minorgridcolor\": \"white\", \"startlinecolor\": \"#2a3f5f\"}, \"type\": \"carpet\"}], \"choropleth\": [{\"colorbar\": {\"outlinewidth\": 0, \"ticks\": \"\"}, \"type\": \"choropleth\"}], \"contour\": [{\"colorbar\": {\"outlinewidth\": 0, \"ticks\": \"\"}, \"colorscale\": [[0.0, \"#0d0887\"], [0.1111111111111111, \"#46039f\"], [0.2222222222222222, \"#7201a8\"], [0.3333333333333333, \"#9c179e\"], [0.4444444444444444, \"#bd3786\"], [0.5555555555555556, \"#d8576b\"], [0.6666666666666666, \"#ed7953\"], [0.7777777777777778, \"#fb9f3a\"], [0.8888888888888888, \"#fdca26\"], [1.0, \"#f0f921\"]], \"type\": \"contour\"}], \"contourcarpet\": [{\"colorbar\": {\"outlinewidth\": 0, \"ticks\": \"\"}, \"type\": \"contourcarpet\"}], \"heatmap\": [{\"colorbar\": {\"outlinewidth\": 0, \"ticks\": \"\"}, \"colorscale\": [[0.0, \"#0d0887\"], [0.1111111111111111, \"#46039f\"], [0.2222222222222222, \"#7201a8\"], [0.3333333333333333, \"#9c179e\"], [0.4444444444444444, \"#bd3786\"], [0.5555555555555556, \"#d8576b\"], [0.6666666666666666, \"#ed7953\"], [0.7777777777777778, \"#fb9f3a\"], [0.8888888888888888, \"#fdca26\"], [1.0, \"#f0f921\"]], \"type\": \"heatmap\"}], \"heatmapgl\": [{\"colorbar\": {\"outlinewidth\": 0, \"ticks\": \"\"}, \"colorscale\": [[0.0, \"#0d0887\"], [0.1111111111111111, \"#46039f\"], [0.2222222222222222, \"#7201a8\"], [0.3333333333333333, \"#9c179e\"], [0.4444444444444444, \"#bd3786\"], [0.5555555555555556, \"#d8576b\"], [0.6666666666666666, \"#ed7953\"], [0.7777777777777778, \"#fb9f3a\"], [0.8888888888888888, \"#fdca26\"], [1.0, \"#f0f921\"]], \"type\": \"heatmapgl\"}], \"histogram\": [{\"marker\": {\"colorbar\": {\"outlinewidth\": 0, \"ticks\": \"\"}}, \"type\": \"histogram\"}], \"histogram2d\": [{\"colorbar\": {\"outlinewidth\": 0, \"ticks\": \"\"}, \"colorscale\": [[0.0, \"#0d0887\"], [0.1111111111111111, \"#46039f\"], [0.2222222222222222, \"#7201a8\"], [0.3333333333333333, \"#9c179e\"], [0.4444444444444444, \"#bd3786\"], [0.5555555555555556, \"#d8576b\"], [0.6666666666666666, \"#ed7953\"], [0.7777777777777778, \"#fb9f3a\"], [0.8888888888888888, \"#fdca26\"], [1.0, \"#f0f921\"]], \"type\": \"histogram2d\"}], \"histogram2dcontour\": [{\"colorbar\": {\"outlinewidth\": 0, \"ticks\": \"\"}, \"colorscale\": [[0.0, \"#0d0887\"], [0.1111111111111111, \"#46039f\"], [0.2222222222222222, \"#7201a8\"], [0.3333333333333333, \"#9c179e\"], [0.4444444444444444, \"#bd3786\"], [0.5555555555555556, \"#d8576b\"], [0.6666666666666666, \"#ed7953\"], [0.7777777777777778, \"#fb9f3a\"], [0.8888888888888888, \"#fdca26\"], [1.0, \"#f0f921\"]], \"type\": \"histogram2dcontour\"}], \"mesh3d\": [{\"colorbar\": {\"outlinewidth\": 0, \"ticks\": \"\"}, \"type\": \"mesh3d\"}], \"parcoords\": [{\"line\": {\"colorbar\": {\"outlinewidth\": 0, \"ticks\": \"\"}}, \"type\": \"parcoords\"}], \"pie\": [{\"automargin\": true, \"type\": \"pie\"}], \"scatter\": [{\"marker\": {\"colorbar\": {\"outlinewidth\": 0, \"ticks\": \"\"}}, \"type\": \"scatter\"}], \"scatter3d\": [{\"line\": {\"colorbar\": {\"outlinewidth\": 0, \"ticks\": \"\"}}, \"marker\": {\"colorbar\": {\"outlinewidth\": 0, \"ticks\": \"\"}}, \"type\": \"scatter3d\"}], \"scattercarpet\": [{\"marker\": {\"colorbar\": {\"outlinewidth\": 0, \"ticks\": \"\"}}, \"type\": \"scattercarpet\"}], \"scattergeo\": [{\"marker\": {\"colorbar\": {\"outlinewidth\": 0, \"ticks\": \"\"}}, \"type\": \"scattergeo\"}], \"scattergl\": [{\"marker\": {\"colorbar\": {\"outlinewidth\": 0, \"ticks\": \"\"}}, \"type\": \"scattergl\"}], \"scattermapbox\": [{\"marker\": {\"colorbar\": {\"outlinewidth\": 0, \"ticks\": \"\"}}, \"type\": \"scattermapbox\"}], \"scatterpolar\": [{\"marker\": {\"colorbar\": {\"outlinewidth\": 0, \"ticks\": \"\"}}, \"type\": \"scatterpolar\"}], \"scatterpolargl\": [{\"marker\": {\"colorbar\": {\"outlinewidth\": 0, \"ticks\": \"\"}}, \"type\": \"scatterpolargl\"}], \"scatterternary\": [{\"marker\": {\"colorbar\": {\"outlinewidth\": 0, \"ticks\": \"\"}}, \"type\": \"scatterternary\"}], \"surface\": [{\"colorbar\": {\"outlinewidth\": 0, \"ticks\": \"\"}, \"colorscale\": [[0.0, \"#0d0887\"], [0.1111111111111111, \"#46039f\"], [0.2222222222222222, \"#7201a8\"], [0.3333333333333333, \"#9c179e\"], [0.4444444444444444, \"#bd3786\"], [0.5555555555555556, \"#d8576b\"], [0.6666666666666666, \"#ed7953\"], [0.7777777777777778, \"#fb9f3a\"], [0.8888888888888888, \"#fdca26\"], [1.0, \"#f0f921\"]], \"type\": \"surface\"}], \"table\": [{\"cells\": {\"fill\": {\"color\": \"#EBF0F8\"}, \"line\": {\"color\": \"white\"}}, \"header\": {\"fill\": {\"color\": \"#C8D4E3\"}, \"line\": {\"color\": \"white\"}}, \"type\": \"table\"}]}, \"layout\": {\"annotationdefaults\": {\"arrowcolor\": \"#2a3f5f\", \"arrowhead\": 0, \"arrowwidth\": 1}, \"coloraxis\": {\"colorbar\": {\"outlinewidth\": 0, \"ticks\": \"\"}}, \"colorscale\": {\"diverging\": [[0, \"#8e0152\"], [0.1, \"#c51b7d\"], [0.2, \"#de77ae\"], [0.3, \"#f1b6da\"], [0.4, \"#fde0ef\"], [0.5, \"#f7f7f7\"], [0.6, \"#e6f5d0\"], [0.7, \"#b8e186\"], [0.8, \"#7fbc41\"], [0.9, \"#4d9221\"], [1, \"#276419\"]], \"sequential\": [[0.0, \"#0d0887\"], [0.1111111111111111, \"#46039f\"], [0.2222222222222222, \"#7201a8\"], [0.3333333333333333, \"#9c179e\"], [0.4444444444444444, \"#bd3786\"], [0.5555555555555556, \"#d8576b\"], [0.6666666666666666, \"#ed7953\"], [0.7777777777777778, \"#fb9f3a\"], [0.8888888888888888, \"#fdca26\"], [1.0, \"#f0f921\"]], \"sequentialminus\": [[0.0, \"#0d0887\"], [0.1111111111111111, \"#46039f\"], [0.2222222222222222, \"#7201a8\"], [0.3333333333333333, \"#9c179e\"], [0.4444444444444444, \"#bd3786\"], [0.5555555555555556, \"#d8576b\"], [0.6666666666666666, \"#ed7953\"], [0.7777777777777778, \"#fb9f3a\"], [0.8888888888888888, \"#fdca26\"], [1.0, \"#f0f921\"]]}, \"colorway\": [\"#636efa\", \"#EF553B\", \"#00cc96\", \"#ab63fa\", \"#FFA15A\", \"#19d3f3\", \"#FF6692\", \"#B6E880\", \"#FF97FF\", \"#FECB52\"], \"font\": {\"color\": \"#2a3f5f\"}, \"geo\": {\"bgcolor\": \"white\", \"lakecolor\": \"white\", \"landcolor\": \"#E5ECF6\", \"showlakes\": true, \"showland\": true, \"subunitcolor\": \"white\"}, \"hoverlabel\": {\"align\": \"left\"}, \"hovermode\": \"closest\", \"mapbox\": {\"style\": \"light\"}, \"paper_bgcolor\": \"white\", \"plot_bgcolor\": \"#E5ECF6\", \"polar\": {\"angularaxis\": {\"gridcolor\": \"white\", \"linecolor\": \"white\", \"ticks\": \"\"}, \"bgcolor\": \"#E5ECF6\", \"radialaxis\": {\"gridcolor\": \"white\", \"linecolor\": \"white\", \"ticks\": \"\"}}, \"scene\": {\"xaxis\": {\"backgroundcolor\": \"#E5ECF6\", \"gridcolor\": \"white\", \"gridwidth\": 2, \"linecolor\": \"white\", \"showbackground\": true, \"ticks\": \"\", \"zerolinecolor\": \"white\"}, \"yaxis\": {\"backgroundcolor\": \"#E5ECF6\", \"gridcolor\": \"white\", \"gridwidth\": 2, \"linecolor\": \"white\", \"showbackground\": true, \"ticks\": \"\", \"zerolinecolor\": \"white\"}, \"zaxis\": {\"backgroundcolor\": \"#E5ECF6\", \"gridcolor\": \"white\", \"gridwidth\": 2, \"linecolor\": \"white\", \"showbackground\": true, \"ticks\": \"\", \"zerolinecolor\": \"white\"}}, \"shapedefaults\": {\"line\": {\"color\": \"#2a3f5f\"}}, \"ternary\": {\"aaxis\": {\"gridcolor\": \"white\", \"linecolor\": \"white\", \"ticks\": \"\"}, \"baxis\": {\"gridcolor\": \"white\", \"linecolor\": \"white\", \"ticks\": \"\"}, \"bgcolor\": \"#E5ECF6\", \"caxis\": {\"gridcolor\": \"white\", \"linecolor\": \"white\", \"ticks\": \"\"}}, \"title\": {\"x\": 0.05}, \"xaxis\": {\"automargin\": true, \"gridcolor\": \"white\", \"linecolor\": \"white\", \"ticks\": \"\", \"title\": {\"standoff\": 15}, \"zerolinecolor\": \"white\", \"zerolinewidth\": 2}, \"yaxis\": {\"automargin\": true, \"gridcolor\": \"white\", \"linecolor\": \"white\", \"ticks\": \"\", \"title\": {\"standoff\": 15}, \"zerolinecolor\": \"white\", \"zerolinewidth\": 2}}}, \"title\": {\"text\": \"VAENet 6 Fold Cross Validation - Average Performance\"}, \"xaxis\": {\"title\": {\"text\": \"Epochs * Chunks\"}}, \"yaxis\": {\"title\": {\"text\": \"Performance\"}}},\n",
       "                        {\"responsive\": true}\n",
       "                    ).then(function(){\n",
       "                            \n",
       "var gd = document.getElementById('629c1a45-80d8-4664-998d-9aebe3a0d62e');\n",
       "var x = new MutationObserver(function (mutations, observer) {{\n",
       "        var display = window.getComputedStyle(gd).display;\n",
       "        if (!display || display === 'none') {{\n",
       "            console.log([gd, 'removed!']);\n",
       "            Plotly.purge(gd);\n",
       "            observer.disconnect();\n",
       "        }}\n",
       "}});\n",
       "\n",
       "// Listen for the removal of the full notebook cells\n",
       "var notebookContainer = gd.closest('#notebook-container');\n",
       "if (notebookContainer) {{\n",
       "    x.observe(notebookContainer, {childList: true});\n",
       "}}\n",
       "\n",
       "// Listen for the clearing of the current output cell\n",
       "var outputEl = gd.closest('.output');\n",
       "if (outputEl) {{\n",
       "    x.observe(outputEl, {childList: true});\n",
       "}}\n",
       "\n",
       "                        })\n",
       "                };\n",
       "                });\n",
       "            </script>\n",
       "        </div>"
      ]
     },
     "metadata": {},
     "output_type": "display_data"
    }
   ],
   "source": [
    "fig = go.Figure()\n",
    "\n",
    "x_list = [x for x in range(len(averaged_results['val_auc_ut']))]\n",
    "\n",
    "fig.add_trace(go.Scatter(x = x_list,\n",
    "                             y = (averaged_results['val_auc_ut'] / 6).ravel(),\n",
    "                             mode = 'lines',\n",
    "                             name = 'Unseen Targets AUC',\n",
    "                             line_color = 'deepskyblue'),\n",
    "             )\n",
    "\n",
    "fig.add_trace(go.Scatter(x = x_list,\n",
    "                             y = (averaged_results['val_auc_ue'] / 6).ravel(),\n",
    "                             mode = 'lines',\n",
    "                             name = 'Unseen Edges AUC',\n",
    "                             line_color = 'blue'),\n",
    "             )\n",
    "\n",
    "fig.add_trace(go.Scatter(x = x_list,\n",
    "                             y = (averaged_results['val_aup_ut'] / 6).ravel(),\n",
    "                             mode = 'lines',\n",
    "                             name = 'Unseen Targets AUP',\n",
    "                             line_color = 'red'),\n",
    "             )\n",
    "\n",
    "fig.add_trace(go.Scatter(x = x_list,\n",
    "                             y = (averaged_results['val_aup_ue'] / 6).ravel(),\n",
    "                             mode = 'lines',\n",
    "                             name = 'Unseen Edges AUP',\n",
    "                             line_color = 'green'),\n",
    "             )\n",
    "\n",
    "fig.update_layout(title_text = \"VAENet 6 Fold Cross Validation - Average Performance\", \n",
    "                  xaxis_title_text = 'Epochs * Chunks',\n",
    "                  yaxis_title_text = 'Performance',\n",
    "                  showlegend = True)\n",
    "\n",
    "fig.show()\n",
    "fig.write_html('./KF/averaged_performance.html')"
   ]
  },
  {
   "cell_type": "code",
   "execution_count": null,
   "metadata": {
    "hidden": true
   },
   "outputs": [],
   "source": []
  },
  {
   "cell_type": "code",
   "execution_count": 41,
   "metadata": {
    "hidden": true
   },
   "outputs": [
    {
     "name": "stdout",
     "output_type": "stream",
     "text": [
      "(Epoch * Chunk) With Highest Unseen Target and Edge Score :  85\n",
      "(Epoch * Chunk) With Highest Unseen Target Score :  85\n",
      "(Epoch * Chunk) With Highest Unseen Edge Score :  85\n"
     ]
    }
   ],
   "source": [
    "perf = np.zeros((averaged_results['val_aup_ue'].shape[0], 4))\n",
    "ut_c = 0\n",
    "ut_p = 1\n",
    "ue_c = 2\n",
    "ue_p = 3\n",
    "\n",
    "perf[:, ut_c] = averaged_results['val_auc_ut'].ravel()\n",
    "perf[:, ut_p] = averaged_results['val_aup_ut'].ravel()\n",
    "perf[:, ue_c] = averaged_results['val_auc_ue'].ravel()\n",
    "perf[:, ue_p] = averaged_results['val_aup_ue'].ravel()\n",
    "perf = perf / 6\n",
    "\n",
    "# UT AUC + UE AUC\n",
    "edge_target = np.argmax(np.sum(perf[:, [ut_c, ue_c]], axis = 1))\n",
    "\n",
    "# UT AUC + UT AUP\n",
    "target_only = np.argmax(np.sum(perf[:, [ut_c, ut_p]], axis = 1))\n",
    "\n",
    "# UE AUC + UE AUP\n",
    "edge_only = np.argmax(np.sum(perf[:, [ue_c, ue_p]], axis = 1))\n",
    "\n",
    "print (\"(Epoch * Chunk) With Highest Unseen Target and Edge Score : \", edge_target)\n",
    "print (\"(Epoch * Chunk) With Highest Unseen Target Score : \", target_only)\n",
    "print (\"(Epoch * Chunk) With Highest Unseen Edge Score : \", edge_target)"
   ]
  },
  {
   "cell_type": "code",
   "execution_count": 47,
   "metadata": {
    "hidden": true
   },
   "outputs": [
    {
     "name": "stdout",
     "output_type": "stream",
     "text": [
      "DeepPurpose - 6 Fold Cross Validation Performance\n",
      "Unseen Target AUC :  0.6058835834222562 +/- 0.017799609997387635\n",
      "Unseen Target AUP :  0.6021971340312113 +/- 0.03928531592054591\n",
      "Unseen Edges AUC :  0.7407692718264256 +/- 0.01553821739720573\n",
      "Unseen Edges AUP :  0.7753892330370454 +/- 0.014287311509524548\n"
     ]
    }
   ],
   "source": [
    "ut_auc = []\n",
    "ut_aup = []\n",
    "ue_auc = []\n",
    "ue_aup = []\n",
    "\n",
    "model_key = 'deep_purpose_2'\n",
    "best_model = 0\n",
    "\n",
    "for run in results[model_key].keys():\n",
    "    \n",
    "    ut_auc.append(results[model_key][run]['val_auc_ut'][best_model])\n",
    "    ut_aup.append(results[model_key][run]['val_aup_ut'][best_model])\n",
    "    ue_auc.append(results[model_key][run]['val_auc_ue'][best_model])\n",
    "    ue_aup.append(results[model_key][run]['val_aup_ue'][best_model])\n",
    "\n",
    "print (\"DeepPurpose - 6 Fold Cross Validation Performance\")\n",
    "print (\"Unseen Target AUC : \", np.mean(ut_auc), \"+/-\", np.std(ut_auc))\n",
    "print (\"Unseen Target AUP : \", np.mean(ut_aup), \"+/-\", np.std(ut_aup))\n",
    "print (\"Unseen Edges AUC : \", np.mean(ue_auc), \"+/-\", np.std(ue_auc))\n",
    "print (\"Unseen Edges AUP : \", np.mean(ue_aup), \"+/-\", np.std(ue_aup))"
   ]
  },
  {
   "cell_type": "markdown",
   "metadata": {},
   "source": [
    "### Test"
   ]
  },
  {
   "cell_type": "markdown",
   "metadata": {},
   "source": [
    "#### Overall Results"
   ]
  },
  {
   "cell_type": "code",
   "execution_count": 45,
   "metadata": {},
   "outputs": [],
   "source": [
    "# def epoch_name(i):\n",
    "#     epoch_num = i // 3\n",
    "#     indices = [0, 250, 500]\n",
    "#     idx_num = indices[i % 3]\n",
    "#     return  \"epoch_\" + str(epoch_num) + '_idx_' + str(idx_num) + \".model\""
   ]
  },
  {
   "cell_type": "code",
   "execution_count": null,
   "metadata": {},
   "outputs": [],
   "source": []
  },
  {
   "cell_type": "code",
   "execution_count": 27,
   "metadata": {},
   "outputs": [
    {
     "data": {
      "application/vnd.jupyter.widget-view+json": {
       "model_id": "09a6e7edcdea480f8c36a506b83e3b8d",
       "version_major": 2,
       "version_minor": 0
      },
      "text/plain": [
       "HBox(children=(FloatProgress(value=0.0, max=5.0), HTML(value='')))"
      ]
     },
     "metadata": {},
     "output_type": "display_data"
    },
    {
     "name": "stdout",
     "output_type": "stream",
     "text": [
      "in total: 6491 drug-target pairs\n",
      "encoding drug...\n",
      "unique drugs: 3232\n",
      "rdkit not found this smiles for morgan: nan convert to all 1 features\n",
      "drug encoding finished...\n",
      "encoding protein...\n",
      "unique target sequence: 907\n",
      "protein encoding finished...\n",
      "splitting dataset...\n",
      "Done.\n",
      "in total: 3693 drug-target pairs\n",
      "encoding drug...\n",
      "unique drugs: 2145\n",
      "rdkit not found this smiles for morgan: nan convert to all 1 features\n",
      "drug encoding finished...\n",
      "encoding protein...\n",
      "unique target sequence: 1593\n",
      "protein encoding finished...\n",
      "splitting dataset...\n",
      "Done.\n",
      "predicting...\n",
      "predicting...\n",
      "in total: 6935 drug-target pairs\n",
      "encoding drug...\n",
      "unique drugs: 3444\n",
      "rdkit not found this smiles for morgan: nan convert to all 1 features\n",
      "drug encoding finished...\n",
      "encoding protein...\n",
      "unique target sequence: 974\n",
      "protein encoding finished...\n",
      "splitting dataset...\n",
      "Done.\n",
      "in total: 3603 drug-target pairs\n",
      "encoding drug...\n",
      "unique drugs: 2090\n",
      "rdkit not found this smiles for morgan: nan convert to all 1 features\n",
      "drug encoding finished...\n",
      "encoding protein...\n",
      "unique target sequence: 1619\n",
      "protein encoding finished...\n",
      "splitting dataset...\n",
      "Done.\n",
      "predicting...\n",
      "predicting...\n",
      "in total: 6329 drug-target pairs\n",
      "encoding drug...\n",
      "unique drugs: 2750\n",
      "rdkit not found this smiles for morgan: nan convert to all 1 features\n",
      "drug encoding finished...\n",
      "encoding protein...\n",
      "unique target sequence: 1014\n",
      "protein encoding finished...\n",
      "splitting dataset...\n",
      "Done.\n",
      "in total: 3785 drug-target pairs\n",
      "encoding drug...\n",
      "unique drugs: 2249\n",
      "rdkit not found this smiles for morgan: nan convert to all 1 features\n",
      "drug encoding finished...\n",
      "encoding protein...\n",
      "unique target sequence: 1576\n",
      "protein encoding finished...\n",
      "splitting dataset...\n",
      "Done.\n",
      "predicting...\n",
      "predicting...\n",
      "in total: 6579 drug-target pairs\n",
      "encoding drug...\n",
      "unique drugs: 3559\n",
      "rdkit not found this smiles for morgan: nan convert to all 1 features\n"
     ]
    },
    {
     "name": "stderr",
     "output_type": "stream",
     "text": [
      "RDKit WARNING: [16:57:39] Conflicting single bond directions around double bond at index 1.\n",
      "RDKit WARNING: [16:57:39]   BondStereo set to STEREONONE and single bond directions set to NONE.\n"
     ]
    },
    {
     "name": "stdout",
     "output_type": "stream",
     "text": [
      "drug encoding finished...\n",
      "encoding protein...\n",
      "unique target sequence: 991\n",
      "protein encoding finished...\n",
      "splitting dataset...\n",
      "Done.\n",
      "in total: 3710 drug-target pairs\n",
      "encoding drug...\n",
      "unique drugs: 2090\n",
      "rdkit not found this smiles for morgan: nan convert to all 1 features\n",
      "drug encoding finished...\n",
      "encoding protein...\n",
      "unique target sequence: 1631\n",
      "protein encoding finished...\n",
      "splitting dataset...\n",
      "Done.\n",
      "predicting...\n",
      "predicting...\n",
      "in total: 6626 drug-target pairs\n",
      "encoding drug...\n",
      "unique drugs: 2645\n",
      "rdkit not found this smiles for morgan: nan convert to all 1 features\n",
      "drug encoding finished...\n",
      "encoding protein...\n",
      "unique target sequence: 1024\n",
      "protein encoding finished...\n",
      "splitting dataset...\n",
      "Done.\n",
      "in total: 3696 drug-target pairs\n",
      "encoding drug...\n",
      "unique drugs: 2234\n",
      "rdkit not found this smiles for morgan: nan convert to all 1 features\n",
      "drug encoding finished...\n",
      "encoding protein...\n",
      "unique target sequence: 1546\n",
      "protein encoding finished...\n",
      "splitting dataset...\n",
      "Done.\n",
      "predicting...\n",
      "predicting...\n",
      "\n",
      "DeepPurpose Test Set Performance - DS2 Filtered (6 Fold Cross Validated Results) - All - All Unseen : \n",
      "\n",
      "\tUnseen Targets : \n",
      "\n",
      "\t\tAUC          :  0.6420742220141513 +/- 0.022282136252490353\n",
      "\t\tAUP          :  0.5910698857857688 +/- 0.04254601239463992\n",
      "\t\tMax F1 Score :  0.4362166868188243 +/- 0.07745878504192105\n",
      "\t\tF1 Threshold :  0.0 +/- 0.0\n",
      "\n",
      "\tUnseen Edges : \n",
      "\n",
      "\t\tAUC          :  0.7574335927188895 +/- 0.007043610888447133\n",
      "\t\tAUP          :  0.7723735690178344 +/- 0.012402476279297876\n",
      "\t\tMax F1 Score :  0.6194971926087727 +/- 0.036762879357671654\n",
      "\t\tF1 Threshold :  0.0 +/- 0.0\n"
     ]
    }
   ],
   "source": [
    "test_results = {}\n",
    "for run_number in tqdm(range(0, 5)):\n",
    "    \n",
    "    model = models.model_initialize(**config)\n",
    "    directory = '../data/sars-busters-consolidated/deep_purpose/KF-Final/Run_' + str(run_number)\n",
    "    model_name = directory + \"/\" + os.listdir(directory)[-1] + \"/model.pt\"\n",
    "    model.load_pretrained(model_name)\n",
    "    \n",
    "    test_ut, nothing, nothing =  data_process(add_smile(targets_test[run_number])['SMILE_y'],\n",
    "                                    targets_test[run_number]['target_aa_code'],\n",
    "                                    targets_test[run_number]['Y'], \n",
    "                                    drug_encoding, target_encoding, \n",
    "                                    split_method='cold_protein', \n",
    "                                    frac=[1,0,.0])\n",
    "    \n",
    "    Y_test_actual_ut = targets_test[run_number]['Y']\n",
    "\n",
    "    test_ue, nothing, nothing =  data_process(add_smile(edges_test[run_number])['SMILE'],\n",
    "                                    edges_test[run_number]['target_aa_code'],\n",
    "                                    edges_test[run_number]['Y'], \n",
    "                                    drug_encoding, target_encoding, \n",
    "                                    split_method='cold_protein', \n",
    "                                    frac=[1,0,.0])\n",
    "    \n",
    "    Y_test_actual_ue = edges_test[run_number]['Y']\n",
    "\n",
    "\n",
    "    # Calculate and Save Test Performance\n",
    "    Y_test_predictions_ut = []\n",
    "    Y_test_predictions_ut.extend(model.predict(test_ut))\n",
    "\n",
    "    Y_test_predictions_ue = []\n",
    "    Y_test_predictions_ue.extend(model.predict(test_ue))\n",
    "    \n",
    "    ######## Unseen Targets Test ########\n",
    "    true = Y_test_actual_ut\n",
    "    pred = Y_test_predictions_ut\n",
    "    \n",
    "    f1_scores = []\n",
    "\n",
    "    for j in np.arange(0.0, 1.0, 0.01):\n",
    "        f1_scores.append(f1_score(true, [1 if (i > j) else 0 for i in pred]))\n",
    "        \n",
    "    f_1_thresh = [idx for idx, x in list(zip(np.arange(0.0, 1.0, 0.01), f1_scores)) if x == max(f1_scores)][0]\n",
    "        \n",
    "    pred_bin = [1 if (i > f_1_thresh) else 0 for i in pred]\n",
    "\n",
    "    try:\n",
    "        test_results[run_number]\n",
    "    except: \n",
    "        test_results[run_number] = {}\n",
    "    \n",
    "    test_results[run_number]['unseen_targets_auc'] = roc_auc_score(true, pred)\n",
    "    test_results[run_number]['unseen_targets_aup'] = average_precision_score(true, pred)\n",
    "    test_results[run_number]['unseen_targets_f1_scores'] = f1_scores\n",
    "    test_results[run_number]['unseen_targets_max_f1'] = np.max(f1_scores)\n",
    "    test_results[run_number]['unseen_targets_f1_threshold'] = f_1_thresh\n",
    "    test_results[run_number]['targets_confusion_matrix'] = confusion_matrix(true, pred_bin)\n",
    "    \n",
    "    ######## Unseen Edges Test ########\n",
    "    true = Y_test_actual_ue\n",
    "    pred = Y_test_predictions_ue\n",
    "    \n",
    "    f1_scores = []\n",
    "\n",
    "    for j in np.arange(0.0, 1.0, 0.01):\n",
    "        f1_scores.append(f1_score(true, [1 if (i > j) else 0 for i in pred]))\n",
    "        \n",
    "    f_1_thresh = [idx for idx, x in list(zip(np.arange(0.0, 1.0, 0.01), f1_scores)) if x == max(f1_scores)][0]\n",
    "        \n",
    "    pred_bin = [1 if (i > f_1_thresh) else 0 for i in pred]\n",
    "    \n",
    "    test_results[run_number]['unseen_edges_auc'] = roc_auc_score(true, pred)\n",
    "    test_results[run_number]['unseen_edges_aup'] = average_precision_score(true, pred)\n",
    "    test_results[run_number]['unseen_edges_f1_scores'] = f1_scores\n",
    "    test_results[run_number]['unseen_edges_max_f1'] = np.max(f1_scores)\n",
    "    test_results[run_number]['unseen_edges_f1_threshold'] = f_1_thresh\n",
    "    test_results[run_number]['edges_confusion_matrix'] = confusion_matrix(true, pred_bin)\n",
    "    \n",
    "ue_auc = []\n",
    "ue_aup = []\n",
    "ut_auc = []\n",
    "ut_aup = []\n",
    "f1_t_e = []\n",
    "f1_t_t = []\n",
    "f1_t = []\n",
    "f1_e = []\n",
    "\n",
    "for run_number in test_results.keys():\n",
    "    \n",
    "    ue_auc.append(test_results[run_number]['unseen_edges_auc'])\n",
    "    ue_aup.append(test_results[run_number]['unseen_edges_aup'])\n",
    "    ut_auc.append(test_results[run_number]['unseen_targets_auc'])\n",
    "    ut_aup.append(test_results[run_number]['unseen_targets_aup'])\n",
    "    f1_t_e.append(test_results[run_number]['unseen_edges_f1_threshold'])\n",
    "    f1_t_t.append(test_results[run_number]['unseen_targets_f1_threshold'])    \n",
    "    f1_t.append(test_results[run_number]['unseen_targets_max_f1'])\n",
    "    f1_e.append(test_results[run_number]['unseen_edges_max_f1'])\n",
    "    \n",
    "print (\"DeepPurpose Test Set Performance - DS2 Filtered (6 Fold Cross Validated Results) - All - All Unseen : \")\n",
    "print (\"\")\n",
    "print (\"\\tUnseen Targets : \\n\")\n",
    "print (\"\\t\\tAUC          : \", np.mean(ut_auc), \"+/-\", np.std(ut_auc))\n",
    "print (\"\\t\\tAUP          : \", np.mean(ut_aup), \"+/-\", np.std(ut_aup))\n",
    "print (\"\\t\\tMax F1 Score : \", np.mean(f1_t), \"+/-\", np.std(f1_t))\n",
    "print (\"\\t\\tF1 Threshold : \", np.mean(f1_t_t), \"+/-\", np.std(f1_t_t))\n",
    "print (\"\")\n",
    "print (\"\\tUnseen Edges : \\n\")\n",
    "print (\"\\t\\tAUC          : \", np.mean(ue_auc), \"+/-\", np.std(ue_auc))\n",
    "print (\"\\t\\tAUP          : \", np.mean(ue_aup), \"+/-\", np.std(ue_aup))\n",
    "print (\"\\t\\tMax F1 Score : \", np.mean(f1_e), \"+/-\", np.std(f1_e))\n",
    "print (\"\\t\\tF1 Threshold : \", np.mean(f1_t_e), \"+/-\", np.std(f1_t_e))"
   ]
  },
  {
   "cell_type": "code",
   "execution_count": 29,
   "metadata": {},
   "outputs": [
    {
     "data": {
      "text/plain": [
       "['deep_purpose_ds2_0_run5_05-25_06h27.model']"
      ]
     },
     "execution_count": 29,
     "metadata": {},
     "output_type": "execute_result"
    }
   ],
   "source": [
    "os.listdir(directory)"
   ]
  },
  {
   "cell_type": "markdown",
   "metadata": {},
   "source": [
    "#### NDM Test Results"
   ]
  },
  {
   "cell_type": "code",
   "execution_count": 73,
   "metadata": {},
   "outputs": [],
   "source": [
    "with open('/data/sars-busters/Mol2Vec/chemicals_01_w_embed.pkl','rb') as file: \n",
    "    drugs_alternate = pkl.load(file)"
   ]
  },
  {
   "cell_type": "code",
   "execution_count": 74,
   "metadata": {},
   "outputs": [],
   "source": [
    "ndm_drugs = list(drugs_alternate[drugs_alternate['IsNDM'] == True]['Label'])\n",
    "non_ndm_drugs = list(drugs_alternate[drugs_alternate['IsNDM'] == False]['Label'])"
   ]
  },
  {
   "cell_type": "code",
   "execution_count": 75,
   "metadata": {
    "scrolled": true
   },
   "outputs": [
    {
     "data": {
      "application/vnd.jupyter.widget-view+json": {
       "model_id": "46ce575ce73d4add811f221d6d2c8ffd",
       "version_major": 2,
       "version_minor": 0
      },
      "text/plain": [
       "HBox(children=(FloatProgress(value=0.0, max=6.0), HTML(value='')))"
      ]
     },
     "metadata": {},
     "output_type": "display_data"
    },
    {
     "name": "stdout",
     "output_type": "stream",
     "text": [
      "in total: 308 drug-target pairs\n",
      "encoding drug...\n",
      "unique drugs: 189\n",
      "drug encoding finished...\n",
      "encoding protein...\n",
      "unique target sequence: 160\n",
      "protein encoding finished...\n",
      "splitting dataset...\n",
      "Done.\n",
      "in total: 247 drug-target pairs\n",
      "encoding drug...\n",
      "unique drugs: 154\n",
      "drug encoding finished...\n",
      "encoding protein...\n",
      "unique target sequence: 205\n",
      "protein encoding finished...\n",
      "splitting dataset...\n",
      "Done.\n",
      "predicting...\n",
      "predicting...\n",
      "in total: 372 drug-target pairs\n",
      "encoding drug...\n",
      "unique drugs: 242\n",
      "drug encoding finished...\n",
      "encoding protein...\n",
      "unique target sequence: 183\n",
      "protein encoding finished...\n",
      "splitting dataset...\n",
      "Done.\n",
      "in total: 229 drug-target pairs\n",
      "encoding drug...\n",
      "unique drugs: 155\n",
      "drug encoding finished...\n",
      "encoding protein...\n",
      "unique target sequence: 186\n",
      "protein encoding finished...\n",
      "splitting dataset...\n",
      "Done.\n",
      "predicting...\n",
      "predicting...\n",
      "in total: 301 drug-target pairs\n",
      "encoding drug...\n",
      "unique drugs: 183\n",
      "drug encoding finished...\n",
      "encoding protein...\n",
      "unique target sequence: 178\n",
      "protein encoding finished...\n",
      "splitting dataset...\n",
      "Done.\n",
      "in total: 212 drug-target pairs\n",
      "encoding drug...\n",
      "unique drugs: 144\n",
      "drug encoding finished...\n",
      "encoding protein...\n",
      "unique target sequence: 166\n",
      "protein encoding finished...\n",
      "splitting dataset...\n",
      "Done.\n",
      "predicting...\n",
      "predicting...\n",
      "in total: 258 drug-target pairs\n",
      "encoding drug...\n",
      "unique drugs: 169\n",
      "drug encoding finished...\n",
      "encoding protein...\n",
      "unique target sequence: 152\n",
      "protein encoding finished...\n",
      "splitting dataset...\n",
      "Done.\n",
      "in total: 260 drug-target pairs\n",
      "encoding drug...\n",
      "unique drugs: 162\n",
      "drug encoding finished...\n",
      "encoding protein...\n",
      "unique target sequence: 213\n",
      "protein encoding finished...\n",
      "splitting dataset...\n",
      "Done.\n",
      "predicting...\n",
      "predicting...\n",
      "in total: 387 drug-target pairs\n",
      "encoding drug...\n",
      "unique drugs: 238\n",
      "drug encoding finished...\n",
      "encoding protein...\n",
      "unique target sequence: 189\n",
      "protein encoding finished...\n",
      "splitting dataset...\n",
      "Done.\n",
      "in total: 196 drug-target pairs\n",
      "encoding drug...\n",
      "unique drugs: 140\n",
      "drug encoding finished...\n",
      "encoding protein...\n",
      "unique target sequence: 170\n",
      "protein encoding finished...\n",
      "splitting dataset...\n",
      "Done.\n",
      "predicting...\n",
      "predicting...\n",
      "in total: 288 drug-target pairs\n",
      "encoding drug...\n",
      "unique drugs: 176\n",
      "drug encoding finished...\n",
      "encoding protein...\n",
      "unique target sequence: 174\n",
      "protein encoding finished...\n",
      "splitting dataset...\n",
      "Done.\n",
      "in total: 244 drug-target pairs\n",
      "encoding drug...\n",
      "unique drugs: 164\n",
      "drug encoding finished...\n",
      "encoding protein...\n",
      "unique target sequence: 198\n",
      "protein encoding finished...\n",
      "splitting dataset...\n",
      "Done.\n",
      "predicting...\n",
      "predicting...\n",
      "\n",
      "DeepPurpose Test Set Performance - DS2 Filtered (6 Fold Cross Validated Results) - NDM Only : \n",
      "\n",
      "\tUnseen Targets : \n",
      "\n",
      "\t\tAUC          :  0.7255292140052956 +/- 0.032735251825937096\n",
      "\t\tAUP          :  0.9218451026210329 +/- 0.01943708425462355\n",
      "\t\tMax F1 Score :  0.6820243771823966 +/- 0.07692670149170633\n",
      "\t\tF1 Threshold :  0.018333333333333333 +/- 0.03287180487219336\n",
      "\n",
      "\tUnseen Edges : \n",
      "\n",
      "\t\tAUC          :  0.9150201816712982 +/- 0.03378453908387864\n",
      "\t\tAUP          :  0.9785908107248793 +/- 0.010924679743683606\n",
      "\t\tMax F1 Score :  0.7895805582319041 +/- 0.0732903825378065\n",
      "\t\tF1 Threshold :  0.0 +/- 0.0\n"
     ]
    }
   ],
   "source": [
    "test_results_ndm = {}\n",
    "\n",
    "for run_number in tqdm(range(0, 6)):\n",
    "    \n",
    "    target_test_df = targets_test[run_number][targets_test[run_number]['InChiKey'].isin(ndm_drugs)]\n",
    "    edge_test_df = edges_test[run_number][edges_test[run_number]['InChiKey'].isin(ndm_drugs)]\n",
    "    \n",
    "    model = models.model_initialize(**config)\n",
    "    directory = '../data/sars-busters-consolidated/deep_purpose/KF/Run_' + str(run_number)\n",
    "    model_name = directory + \"/\" + os.listdir(directory)[-1] + \"/model.pt\"\n",
    "    model.load_pretrained(model_name)\n",
    "    \n",
    "    test_ut, nothing, nothing =  data_process(add_smile(target_test_df)['SMILE'],\n",
    "                                    target_test_df['target_aa_code'],\n",
    "                                    target_test_df['Y'], \n",
    "                                    drug_encoding, target_encoding, \n",
    "                                    split_method='cold_protein', \n",
    "                                    frac=[1,0,.0])\n",
    "    \n",
    "    Y_test_actual_ut = target_test_df['Y']\n",
    "\n",
    "    test_ue, nothing, nothing =  data_process(add_smile(edge_test_df)['SMILE'],\n",
    "                                    edge_test_df['target_aa_code'],\n",
    "                                    edge_test_df['Y'], \n",
    "                                    drug_encoding, target_encoding, \n",
    "                                    split_method='cold_protein', \n",
    "                                    frac=[1,0,.0])\n",
    "    \n",
    "    Y_test_actual_ue = edge_test_df['Y']\n",
    "\n",
    "\n",
    "    # Calculate and Save Test Performance\n",
    "    Y_test_predictions_ut = []\n",
    "    Y_test_predictions_ut.extend(model.predict(test_ut))\n",
    "\n",
    "    Y_test_predictions_ue = []\n",
    "    Y_test_predictions_ue.extend(model.predict(test_ue))\n",
    "    \n",
    "    ######## Unseen Targets Test ########\n",
    "\n",
    "    true = Y_test_actual_ut\n",
    "    pred = Y_test_predictions_ut\n",
    "    \n",
    "    f1_scores = []\n",
    "\n",
    "    for j in np.arange(0.0, 1.0, 0.01):\n",
    "        f1_scores.append(f1_score(true, [1 if (i > j) else 0 for i in pred]))\n",
    "        \n",
    "    f_1_thresh = [idx for idx, x in list(zip(np.arange(0.0, 1.0, 0.01), f1_scores)) if x == max(f1_scores)][0]\n",
    "        \n",
    "    pred_bin = [1 if (i > f_1_thresh) else 0 for i in pred]\n",
    "\n",
    "    try:\n",
    "        test_results_ndm[run_number]\n",
    "    except: \n",
    "        test_results_ndm[run_number] = {}\n",
    "    \n",
    "    test_results_ndm[run_number]['unseen_targets_auc'] = roc_auc_score(true, pred)\n",
    "    test_results_ndm[run_number]['unseen_targets_aup'] = average_precision_score(true, pred)\n",
    "    test_results_ndm[run_number]['unseen_targets_f1_scores'] = f1_scores\n",
    "    test_results_ndm[run_number]['unseen_targets_max_f1'] = np.max(f1_scores)\n",
    "    test_results_ndm[run_number]['unseen_targets_f1_threshold'] = f_1_thresh\n",
    "    test_results_ndm[run_number]['targets_confusion_matrix'] = confusion_matrix(true, pred_bin)\n",
    "    \n",
    "    ######## Unseen Edges Test ########\n",
    "    \n",
    "    true = Y_test_actual_ue\n",
    "    pred = Y_test_predictions_ue\n",
    "    \n",
    "    f1_scores = []\n",
    "\n",
    "    for j in np.arange(0.0, 1.0, 0.01):\n",
    "        f1_scores.append(f1_score(true, [1 if (i > j) else 0 for i in pred]))\n",
    "        \n",
    "    f_1_thresh = [idx for idx, x in list(zip(np.arange(0.0, 1.0, 0.01), f1_scores)) if x == max(f1_scores)][0]\n",
    "        \n",
    "    pred_bin = [1 if (i > f_1_thresh) else 0 for i in pred]\n",
    "    \n",
    "    test_results_ndm[run_number]['unseen_edges_auc'] = roc_auc_score(true, pred)\n",
    "    test_results_ndm[run_number]['unseen_edges_aup'] = average_precision_score(true, pred)\n",
    "    test_results_ndm[run_number]['unseen_edges_f1_scores'] = f1_scores\n",
    "    test_results_ndm[run_number]['unseen_edges_max_f1'] = np.max(f1_scores)\n",
    "    test_results_ndm[run_number]['unseen_edges_f1_threshold'] = f_1_thresh\n",
    "    test_results_ndm[run_number]['edges_confusion_matrix'] = confusion_matrix(true, pred_bin)\n",
    "    \n",
    "ue_auc = []\n",
    "ue_aup = []\n",
    "ut_auc = []\n",
    "ut_aup = []\n",
    "f1_t_e = []\n",
    "f1_t_t = []\n",
    "f1_t = []\n",
    "f1_e = []\n",
    "\n",
    "for run_number in test_results_ndm.keys():\n",
    "    \n",
    "    ue_auc.append(test_results_ndm[run_number]['unseen_edges_auc'])\n",
    "    ue_aup.append(test_results_ndm[run_number]['unseen_edges_aup'])\n",
    "    ut_auc.append(test_results_ndm[run_number]['unseen_targets_auc'])\n",
    "    ut_aup.append(test_results_ndm[run_number]['unseen_targets_aup'])\n",
    "    f1_t_e.append(test_results_ndm[run_number]['unseen_edges_f1_threshold'])\n",
    "    f1_t_t.append(test_results_ndm[run_number]['unseen_targets_f1_threshold'])    \n",
    "    f1_t.append(test_results_ndm[run_number]['unseen_targets_max_f1'])\n",
    "    f1_e.append(test_results_ndm[run_number]['unseen_edges_max_f1'])\n",
    "    \n",
    "print (\"DeepPurpose Test Set Performance - DS2 Filtered (6 Fold Cross Validated Results) - NDM Only : \")\n",
    "print (\"\")\n",
    "print (\"\\tUnseen Targets : \\n\")\n",
    "print (\"\\t\\tAUC          : \", np.mean(ut_auc), \"+/-\", np.std(ut_auc))\n",
    "print (\"\\t\\tAUP          : \", np.mean(ut_aup), \"+/-\", np.std(ut_aup))\n",
    "print (\"\\t\\tMax F1 Score : \", np.mean(f1_t), \"+/-\", np.std(f1_t))\n",
    "print (\"\\t\\tF1 Threshold : \", np.mean(f1_t_t), \"+/-\", np.std(f1_t_t))\n",
    "print (\"\")\n",
    "print (\"\\tUnseen Edges : \\n\")\n",
    "print (\"\\t\\tAUC          : \", np.mean(ue_auc), \"+/-\", np.std(ue_auc))\n",
    "print (\"\\t\\tAUP          : \", np.mean(ue_aup), \"+/-\", np.std(ue_aup))\n",
    "print (\"\\t\\tMax F1 Score : \", np.mean(f1_e), \"+/-\", np.std(f1_e))\n",
    "print (\"\\t\\tF1 Threshold : \", np.mean(f1_t_e), \"+/-\", np.std(f1_t_e))"
   ]
  },
  {
   "cell_type": "markdown",
   "metadata": {},
   "source": [
    "#### Non NDM Test Results"
   ]
  },
  {
   "cell_type": "code",
   "execution_count": 76,
   "metadata": {},
   "outputs": [
    {
     "data": {
      "application/vnd.jupyter.widget-view+json": {
       "model_id": "04973398e38b439ea472b1015da27fe3",
       "version_major": 2,
       "version_minor": 0
      },
      "text/plain": [
       "HBox(children=(FloatProgress(value=0.0, max=6.0), HTML(value='')))"
      ]
     },
     "metadata": {},
     "output_type": "display_data"
    },
    {
     "name": "stdout",
     "output_type": "stream",
     "text": [
      "in total: 5155 drug-target pairs\n",
      "encoding drug...\n",
      "unique drugs: 2585\n",
      "rdkit not found this smiles for morgan: nan convert to all 1 features\n",
      "drug encoding finished...\n",
      "encoding protein...\n",
      "unique target sequence: 733\n",
      "protein encoding finished...\n",
      "splitting dataset...\n",
      "Done.\n",
      "in total: 3588 drug-target pairs\n",
      "encoding drug...\n",
      "unique drugs: 2036\n",
      "rdkit not found this smiles for morgan: nan convert to all 1 features\n",
      "drug encoding finished...\n",
      "encoding protein...\n",
      "unique target sequence: 1609\n",
      "protein encoding finished...\n",
      "splitting dataset...\n",
      "Done.\n",
      "predicting...\n",
      "predicting...\n",
      "in total: 5370 drug-target pairs\n",
      "encoding drug...\n",
      "unique drugs: 2988\n",
      "rdkit not found this smiles for morgan: nan convert to all 1 features\n"
     ]
    },
    {
     "name": "stderr",
     "output_type": "stream",
     "text": [
      "RDKit WARNING: [09:10:11] Conflicting single bond directions around double bond at index 1.\n",
      "RDKit WARNING: [09:10:11]   BondStereo set to STEREONONE and single bond directions set to NONE.\n"
     ]
    },
    {
     "name": "stdout",
     "output_type": "stream",
     "text": [
      "drug encoding finished...\n",
      "encoding protein...\n",
      "unique target sequence: 736\n",
      "protein encoding finished...\n",
      "splitting dataset...\n",
      "Done.\n",
      "in total: 3520 drug-target pairs\n",
      "encoding drug...\n",
      "unique drugs: 1967\n",
      "rdkit not found this smiles for morgan: nan convert to all 1 features\n"
     ]
    },
    {
     "name": "stderr",
     "output_type": "stream",
     "text": [
      "RDKit WARNING: [09:10:13] Conflicting single bond directions around double bond at index 1.\n",
      "RDKit WARNING: [09:10:13]   BondStereo set to STEREONONE and single bond directions set to NONE.\n"
     ]
    },
    {
     "name": "stdout",
     "output_type": "stream",
     "text": [
      "drug encoding finished...\n",
      "encoding protein...\n",
      "unique target sequence: 1603\n",
      "protein encoding finished...\n",
      "splitting dataset...\n",
      "Done.\n",
      "predicting...\n",
      "predicting...\n",
      "in total: 5155 drug-target pairs\n",
      "encoding drug...\n",
      "unique drugs: 2393\n",
      "rdkit not found this smiles for morgan: nan convert to all 1 features\n",
      "drug encoding finished...\n",
      "encoding protein...\n",
      "unique target sequence: 762\n",
      "protein encoding finished...\n",
      "splitting dataset...\n",
      "Done.\n",
      "in total: 3629 drug-target pairs\n",
      "encoding drug...\n",
      "unique drugs: 2076\n",
      "rdkit not found this smiles for morgan: nan convert to all 1 features\n",
      "drug encoding finished...\n",
      "encoding protein...\n",
      "unique target sequence: 1540\n",
      "protein encoding finished...\n",
      "splitting dataset...\n",
      "Done.\n",
      "predicting...\n",
      "predicting...\n",
      "in total: 4819 drug-target pairs\n",
      "encoding drug...\n",
      "unique drugs: 2322\n",
      "rdkit not found this smiles for morgan: nan convert to all 1 features\n",
      "drug encoding finished...\n",
      "encoding protein...\n",
      "unique target sequence: 737\n",
      "protein encoding finished...\n",
      "splitting dataset...\n",
      "Done.\n",
      "in total: 3693 drug-target pairs\n",
      "encoding drug...\n",
      "unique drugs: 2111\n",
      "rdkit not found this smiles for morgan: nan convert to all 1 features\n",
      "drug encoding finished...\n",
      "encoding protein...\n",
      "unique target sequence: 1588\n",
      "protein encoding finished...\n",
      "splitting dataset...\n",
      "Done.\n",
      "predicting...\n",
      "predicting...\n",
      "in total: 5234 drug-target pairs\n",
      "encoding drug...\n",
      "unique drugs: 2963\n",
      "rdkit not found this smiles for morgan: nan convert to all 1 features\n"
     ]
    },
    {
     "name": "stderr",
     "output_type": "stream",
     "text": [
      "RDKit WARNING: [09:11:25] Conflicting single bond directions around double bond at index 1.\n",
      "RDKit WARNING: [09:11:25]   BondStereo set to STEREONONE and single bond directions set to NONE.\n"
     ]
    },
    {
     "name": "stdout",
     "output_type": "stream",
     "text": [
      "drug encoding finished...\n",
      "encoding protein...\n",
      "unique target sequence: 726\n",
      "protein encoding finished...\n",
      "splitting dataset...\n",
      "Done.\n",
      "in total: 3593 drug-target pairs\n",
      "encoding drug...\n",
      "unique drugs: 1976\n",
      "rdkit not found this smiles for morgan: nan convert to all 1 features\n",
      "drug encoding finished...\n",
      "encoding protein...\n",
      "unique target sequence: 1621\n",
      "protein encoding finished...\n",
      "splitting dataset...\n",
      "Done.\n",
      "predicting...\n",
      "predicting...\n",
      "in total: 4964 drug-target pairs\n",
      "encoding drug...\n",
      "unique drugs: 2068\n",
      "rdkit not found this smiles for morgan: nan convert to all 1 features\n",
      "drug encoding finished...\n",
      "encoding protein...\n",
      "unique target sequence: 770\n",
      "protein encoding finished...\n",
      "splitting dataset...\n",
      "Done.\n",
      "in total: 3657 drug-target pairs\n",
      "encoding drug...\n",
      "unique drugs: 2123\n",
      "rdkit not found this smiles for morgan: nan convert to all 1 features\n",
      "drug encoding finished...\n",
      "encoding protein...\n",
      "unique target sequence: 1548\n",
      "protein encoding finished...\n",
      "splitting dataset...\n",
      "Done.\n",
      "predicting...\n",
      "predicting...\n",
      "\n",
      "DeepPurpose Test Set Performance - DS2 Filtered (6 Fold Cross Validated Results) - Non-NDM Only : \n",
      "\n",
      "\tUnseen Targets : \n",
      "\n",
      "\t\tAUC          :  0.6070116029641824 +/- 0.01692608170230724\n",
      "\t\tAUP          :  0.5830515804860149 +/- 0.04695024220428286\n",
      "\t\tMax F1 Score :  0.4448939052686111 +/- 0.06073439376066113\n",
      "\t\tF1 Threshold :  0.0016666666666666668 +/- 0.003726779962499649\n",
      "\n",
      "\tUnseen Edges : \n",
      "\n",
      "\t\tAUC          :  0.7329926580743177 +/- 0.009885611763723542\n",
      "\t\tAUP          :  0.7501761204783944 +/- 0.012016411498468335\n",
      "\t\tMax F1 Score :  0.5777742794509934 +/- 0.027507305472911373\n",
      "\t\tF1 Threshold :  0.0033333333333333335 +/- 0.004714045207910317\n"
     ]
    }
   ],
   "source": [
    "test_results_ndm = {}\n",
    "\n",
    "for run_number in tqdm(range(0, 6)):\n",
    "    \n",
    "    target_test_df = targets_test[run_number][targets_test[run_number]['InChiKey'].isin(non_ndm_drugs)]\n",
    "    edge_test_df = edges_test[run_number][edges_test[run_number]['InChiKey'].isin(non_ndm_drugs)]\n",
    "    \n",
    "    model = models.model_initialize(**config)\n",
    "    directory = '../data/sars-busters-consolidated/deep_purpose/KF/Run_' + str(run_number)\n",
    "    model_name = directory + \"/\" + os.listdir(directory)[-1] + \"/model.pt\"\n",
    "    model.load_pretrained(model_name)\n",
    "    \n",
    "    test_ut, nothing, nothing =  data_process(add_smile(target_test_df)['SMILE'],\n",
    "                                    target_test_df['target_aa_code'],\n",
    "                                    target_test_df['Y'], \n",
    "                                    drug_encoding, target_encoding, \n",
    "                                    split_method='cold_protein', \n",
    "                                    frac=[1,0,.0])\n",
    "    \n",
    "    Y_test_actual_ut = target_test_df['Y']\n",
    "\n",
    "    test_ue, nothing, nothing =  data_process(add_smile(edge_test_df)['SMILE'],\n",
    "                                    edge_test_df['target_aa_code'],\n",
    "                                    edge_test_df['Y'], \n",
    "                                    drug_encoding, target_encoding, \n",
    "                                    split_method='cold_protein', \n",
    "                                    frac=[1,0,.0])\n",
    "    \n",
    "    Y_test_actual_ue = edge_test_df['Y']\n",
    "\n",
    "\n",
    "    # Calculate and Save Test Performance\n",
    "    Y_test_predictions_ut = []\n",
    "    Y_test_predictions_ut.extend(model.predict(test_ut))\n",
    "\n",
    "    Y_test_predictions_ue = []\n",
    "    Y_test_predictions_ue.extend(model.predict(test_ue))\n",
    "    \n",
    "    ######## Unseen Targets Test ########\n",
    "\n",
    "    true = Y_test_actual_ut\n",
    "    pred = Y_test_predictions_ut\n",
    "    \n",
    "    f1_scores = []\n",
    "\n",
    "    for j in np.arange(0.0, 1.0, 0.01):\n",
    "        f1_scores.append(f1_score(true, [1 if (i > j) else 0 for i in pred]))\n",
    "        \n",
    "    f_1_thresh = [idx for idx, x in list(zip(np.arange(0.0, 1.0, 0.01), f1_scores)) if x == max(f1_scores)][0]\n",
    "        \n",
    "    pred_bin = [1 if (i > f_1_thresh) else 0 for i in pred]\n",
    "\n",
    "    try:\n",
    "        test_results_ndm[run_number]\n",
    "    except: \n",
    "        test_results_ndm[run_number] = {}\n",
    "    \n",
    "    test_results_ndm[run_number]['unseen_targets_auc'] = roc_auc_score(true, pred)\n",
    "    test_results_ndm[run_number]['unseen_targets_aup'] = average_precision_score(true, pred)\n",
    "    test_results_ndm[run_number]['unseen_targets_f1_scores'] = f1_scores\n",
    "    test_results_ndm[run_number]['unseen_targets_max_f1'] = np.max(f1_scores)\n",
    "    test_results_ndm[run_number]['unseen_targets_f1_threshold'] = f_1_thresh\n",
    "    test_results_ndm[run_number]['targets_confusion_matrix'] = confusion_matrix(true, pred_bin)\n",
    "    \n",
    "    ######## Unseen Edges Test ########\n",
    "    \n",
    "    true = Y_test_actual_ue\n",
    "    pred = Y_test_predictions_ue\n",
    "    \n",
    "    f1_scores = []\n",
    "\n",
    "    for j in np.arange(0.0, 1.0, 0.01):\n",
    "        f1_scores.append(f1_score(true, [1 if (i > j) else 0 for i in pred]))\n",
    "        \n",
    "    f_1_thresh = [idx for idx, x in list(zip(np.arange(0.0, 1.0, 0.01), f1_scores)) if x == max(f1_scores)][0]\n",
    "        \n",
    "    pred_bin = [1 if (i > f_1_thresh) else 0 for i in pred]\n",
    "    \n",
    "    test_results_ndm[run_number]['unseen_edges_auc'] = roc_auc_score(true, pred)\n",
    "    test_results_ndm[run_number]['unseen_edges_aup'] = average_precision_score(true, pred)\n",
    "    test_results_ndm[run_number]['unseen_edges_f1_scores'] = f1_scores\n",
    "    test_results_ndm[run_number]['unseen_edges_max_f1'] = np.max(f1_scores)\n",
    "    test_results_ndm[run_number]['unseen_edges_f1_threshold'] = f_1_thresh\n",
    "    test_results_ndm[run_number]['edges_confusion_matrix'] = confusion_matrix(true, pred_bin)\n",
    "    \n",
    "ue_auc = []\n",
    "ue_aup = []\n",
    "ut_auc = []\n",
    "ut_aup = []\n",
    "f1_t_e = []\n",
    "f1_t_t = []\n",
    "f1_t = []\n",
    "f1_e = []\n",
    "\n",
    "for run_number in test_results_ndm.keys():\n",
    "    \n",
    "    ue_auc.append(test_results_ndm[run_number]['unseen_edges_auc'])\n",
    "    ue_aup.append(test_results_ndm[run_number]['unseen_edges_aup'])\n",
    "    ut_auc.append(test_results_ndm[run_number]['unseen_targets_auc'])\n",
    "    ut_aup.append(test_results_ndm[run_number]['unseen_targets_aup'])\n",
    "    f1_t_e.append(test_results_ndm[run_number]['unseen_edges_f1_threshold'])\n",
    "    f1_t_t.append(test_results_ndm[run_number]['unseen_targets_f1_threshold'])    \n",
    "    f1_t.append(test_results_ndm[run_number]['unseen_targets_max_f1'])\n",
    "    f1_e.append(test_results_ndm[run_number]['unseen_edges_max_f1'])\n",
    "    \n",
    "print (\"DeepPurpose Test Set Performance - DS2 Filtered (6 Fold Cross Validated Results) - Non-NDM Only : \")\n",
    "print (\"\")\n",
    "print (\"\\tUnseen Targets : \\n\")\n",
    "print (\"\\t\\tAUC          : \", np.mean(ut_auc), \"+/-\", np.std(ut_auc))\n",
    "print (\"\\t\\tAUP          : \", np.mean(ut_aup), \"+/-\", np.std(ut_aup))\n",
    "print (\"\\t\\tMax F1 Score : \", np.mean(f1_t), \"+/-\", np.std(f1_t))\n",
    "print (\"\\t\\tF1 Threshold : \", np.mean(f1_t_t), \"+/-\", np.std(f1_t_t))\n",
    "print (\"\")\n",
    "print (\"\\tUnseen Edges : \\n\")\n",
    "print (\"\\t\\tAUC          : \", np.mean(ue_auc), \"+/-\", np.std(ue_auc))\n",
    "print (\"\\t\\tAUP          : \", np.mean(ue_aup), \"+/-\", np.std(ue_aup))\n",
    "print (\"\\t\\tMax F1 Score : \", np.mean(f1_e), \"+/-\", np.std(f1_e))\n",
    "print (\"\\t\\tF1 Threshold : \", np.mean(f1_t_e), \"+/-\", np.std(f1_t_e))"
   ]
  },
  {
   "cell_type": "code",
   "execution_count": null,
   "metadata": {},
   "outputs": [],
   "source": []
  },
  {
   "cell_type": "markdown",
   "metadata": {},
   "source": [
    "#### Drug Results "
   ]
  },
  {
   "cell_type": "code",
   "execution_count": 77,
   "metadata": {},
   "outputs": [],
   "source": [
    "is_drugs = list(drugs_alternate[drugs_alternate['IsDrug'] == True]['Label'])\n",
    "non_drugs = list(drugs_alternate[drugs_alternate['IsDrug'] == False]['Label'])"
   ]
  },
  {
   "cell_type": "code",
   "execution_count": 79,
   "metadata": {
    "scrolled": true
   },
   "outputs": [
    {
     "data": {
      "application/vnd.jupyter.widget-view+json": {
       "model_id": "294b4e9bd6ab447da14acfa484277cfb",
       "version_major": 2,
       "version_minor": 0
      },
      "text/plain": [
       "HBox(children=(FloatProgress(value=0.0, max=6.0), HTML(value='')))"
      ]
     },
     "metadata": {},
     "output_type": "display_data"
    },
    {
     "name": "stdout",
     "output_type": "stream",
     "text": [
      "in total: 5170 drug-target pairs\n",
      "encoding drug...\n",
      "unique drugs: 2572\n",
      "rdkit not found this smiles for morgan: nan convert to all 1 features\n",
      "drug encoding finished...\n",
      "encoding protein...\n",
      "unique target sequence: 747\n",
      "protein encoding finished...\n",
      "splitting dataset...\n",
      "Done.\n",
      "in total: 3586 drug-target pairs\n",
      "encoding drug...\n",
      "unique drugs: 2034\n",
      "rdkit not found this smiles for morgan: nan convert to all 1 features\n",
      "drug encoding finished...\n",
      "encoding protein...\n",
      "unique target sequence: 1646\n",
      "protein encoding finished...\n",
      "splitting dataset...\n",
      "Done.\n",
      "predicting...\n",
      "predicting...\n",
      "in total: 5380 drug-target pairs\n",
      "encoding drug...\n",
      "unique drugs: 2971\n",
      "rdkit not found this smiles for morgan: nan convert to all 1 features\n"
     ]
    },
    {
     "name": "stderr",
     "output_type": "stream",
     "text": [
      "RDKit WARNING: [09:14:47] Conflicting single bond directions around double bond at index 1.\n",
      "RDKit WARNING: [09:14:47]   BondStereo set to STEREONONE and single bond directions set to NONE.\n"
     ]
    },
    {
     "name": "stdout",
     "output_type": "stream",
     "text": [
      "drug encoding finished...\n",
      "encoding protein...\n",
      "unique target sequence: 753\n",
      "protein encoding finished...\n",
      "splitting dataset...\n",
      "Done.\n",
      "in total: 3497 drug-target pairs\n",
      "encoding drug...\n",
      "unique drugs: 1950\n"
     ]
    },
    {
     "name": "stderr",
     "output_type": "stream",
     "text": [
      "RDKit WARNING: [09:14:49] Conflicting single bond directions around double bond at index 1.\n",
      "RDKit WARNING: [09:14:49]   BondStereo set to STEREONONE and single bond directions set to NONE.\n"
     ]
    },
    {
     "name": "stdout",
     "output_type": "stream",
     "text": [
      "drug encoding finished...\n",
      "encoding protein...\n",
      "unique target sequence: 1634\n",
      "protein encoding finished...\n",
      "splitting dataset...\n",
      "Done.\n",
      "predicting...\n",
      "predicting...\n",
      "in total: 5110 drug-target pairs\n",
      "encoding drug...\n",
      "unique drugs: 2368\n",
      "rdkit not found this smiles for morgan: nan convert to all 1 features\n",
      "drug encoding finished...\n",
      "encoding protein...\n",
      "unique target sequence: 770\n",
      "protein encoding finished...\n",
      "splitting dataset...\n",
      "Done.\n",
      "in total: 3608 drug-target pairs\n",
      "encoding drug...\n",
      "unique drugs: 2065\n",
      "rdkit not found this smiles for morgan: nan convert to all 1 features\n",
      "drug encoding finished...\n",
      "encoding protein...\n",
      "unique target sequence: 1564\n",
      "protein encoding finished...\n",
      "splitting dataset...\n",
      "Done.\n",
      "predicting...\n",
      "predicting...\n",
      "in total: 4834 drug-target pairs\n",
      "encoding drug...\n",
      "unique drugs: 2330\n",
      "rdkit not found this smiles for morgan: nan convert to all 1 features\n",
      "drug encoding finished...\n",
      "encoding protein...\n",
      "unique target sequence: 749\n",
      "protein encoding finished...\n",
      "splitting dataset...\n",
      "Done.\n",
      "in total: 3707 drug-target pairs\n",
      "encoding drug...\n",
      "unique drugs: 2096\n",
      "rdkit not found this smiles for morgan: nan convert to all 1 features\n",
      "drug encoding finished...\n",
      "encoding protein...\n",
      "unique target sequence: 1649\n",
      "protein encoding finished...\n",
      "splitting dataset...\n",
      "Done.\n",
      "predicting...\n",
      "predicting...\n",
      "in total: 5191 drug-target pairs\n",
      "encoding drug...\n",
      "unique drugs: 2900\n",
      "rdkit not found this smiles for morgan: nan convert to all 1 features\n"
     ]
    },
    {
     "name": "stderr",
     "output_type": "stream",
     "text": [
      "RDKit WARNING: [09:16:00] Conflicting single bond directions around double bond at index 1.\n",
      "RDKit WARNING: [09:16:00]   BondStereo set to STEREONONE and single bond directions set to NONE.\n"
     ]
    },
    {
     "name": "stdout",
     "output_type": "stream",
     "text": [
      "drug encoding finished...\n",
      "encoding protein...\n",
      "unique target sequence: 739\n",
      "protein encoding finished...\n",
      "splitting dataset...\n",
      "Done.\n",
      "in total: 3586 drug-target pairs\n",
      "encoding drug...\n",
      "unique drugs: 1965\n",
      "rdkit not found this smiles for morgan: nan convert to all 1 features\n",
      "drug encoding finished...\n",
      "encoding protein...\n",
      "unique target sequence: 1654\n",
      "protein encoding finished...\n",
      "splitting dataset...\n",
      "Done.\n",
      "predicting...\n",
      "predicting...\n",
      "in total: 4962 drug-target pairs\n",
      "encoding drug...\n",
      "unique drugs: 2061\n",
      "rdkit not found this smiles for morgan: nan convert to all 1 features\n",
      "drug encoding finished...\n",
      "encoding protein...\n",
      "unique target sequence: 787\n",
      "protein encoding finished...\n",
      "splitting dataset...\n",
      "Done.\n",
      "in total: 3637 drug-target pairs\n",
      "encoding drug...\n",
      "unique drugs: 2096\n",
      "rdkit not found this smiles for morgan: nan convert to all 1 features\n",
      "drug encoding finished...\n",
      "encoding protein...\n",
      "unique target sequence: 1580\n",
      "protein encoding finished...\n",
      "splitting dataset...\n",
      "Done.\n",
      "predicting...\n",
      "predicting...\n",
      "\n",
      "DeepPurpose Test Set Performance - DS2 Filtered (6 Fold Cross Validated Results) - Drugs Only : \n",
      "\n",
      "\tUnseen Targets : \n",
      "\n",
      "\t\tAUC          :  0.6068102661382259 +/- 0.014613712029333745\n",
      "\t\tAUP          :  0.5983932881157051 +/- 0.04330079400916997\n",
      "\t\tMax F1 Score :  0.4464658225625469 +/- 0.06179125268466084\n",
      "\t\tF1 Threshold :  0.0016666666666666668 +/- 0.0037267799624996494\n",
      "\n",
      "\tUnseen Edges : \n",
      "\n",
      "\t\tAUC          :  0.7360927804193055 +/- 0.01578640328441724\n",
      "\t\tAUP          :  0.7623948512212606 +/- 0.01597297257558786\n",
      "\t\tMax F1 Score :  0.5834819903362588 +/- 0.029971271133433272\n",
      "\t\tF1 Threshold :  0.0016666666666666668 +/- 0.0037267799624996494\n"
     ]
    }
   ],
   "source": [
    "test_results_ndm = {}\n",
    "\n",
    "for run_number in tqdm(range(0, 6)):\n",
    "    \n",
    "    target_test_df = targets_test[run_number][targets_test[run_number]['InChiKey'].isin(is_drugs)]\n",
    "    edge_test_df = edges_test[run_number][edges_test[run_number]['InChiKey'].isin(is_drugs)]\n",
    "    \n",
    "    model = models.model_initialize(**config)\n",
    "    directory = '../data/sars-busters-consolidated/deep_purpose/KF/Run_' + str(run_number)\n",
    "    model_name = directory + \"/\" + os.listdir(directory)[-1] + \"/model.pt\"\n",
    "    model.load_pretrained(model_name)\n",
    "    \n",
    "    test_ut, nothing, nothing =  data_process(add_smile(target_test_df)['SMILE'],\n",
    "                                    target_test_df['target_aa_code'],\n",
    "                                    target_test_df['Y'], \n",
    "                                    drug_encoding, target_encoding, \n",
    "                                    split_method='cold_protein', \n",
    "                                    frac=[1,0,.0])\n",
    "    \n",
    "    Y_test_actual_ut = target_test_df['Y']\n",
    "\n",
    "    test_ue, nothing, nothing =  data_process(add_smile(edge_test_df)['SMILE'],\n",
    "                                    edge_test_df['target_aa_code'],\n",
    "                                    edge_test_df['Y'], \n",
    "                                    drug_encoding, target_encoding, \n",
    "                                    split_method='cold_protein', \n",
    "                                    frac=[1,0,.0])\n",
    "    \n",
    "    Y_test_actual_ue = edge_test_df['Y']\n",
    "\n",
    "\n",
    "    # Calculate and Save Test Performance\n",
    "    Y_test_predictions_ut = []\n",
    "    Y_test_predictions_ut.extend(model.predict(test_ut))\n",
    "\n",
    "    Y_test_predictions_ue = []\n",
    "    Y_test_predictions_ue.extend(model.predict(test_ue))\n",
    "    \n",
    "    ######## Unseen Targets Test ########\n",
    "\n",
    "    true = Y_test_actual_ut\n",
    "    pred = Y_test_predictions_ut\n",
    "    \n",
    "    f1_scores = []\n",
    "\n",
    "    for j in np.arange(0.0, 1.0, 0.01):\n",
    "        f1_scores.append(f1_score(true, [1 if (i > j) else 0 for i in pred]))\n",
    "        \n",
    "    f_1_thresh = [idx for idx, x in list(zip(np.arange(0.0, 1.0, 0.01), f1_scores)) if x == max(f1_scores)][0]\n",
    "        \n",
    "    pred_bin = [1 if (i > f_1_thresh) else 0 for i in pred]\n",
    "\n",
    "    try:\n",
    "        test_results_ndm[run_number]\n",
    "    except: \n",
    "        test_results_ndm[run_number] = {}\n",
    "    \n",
    "    test_results_ndm[run_number]['unseen_targets_auc'] = roc_auc_score(true, pred)\n",
    "    test_results_ndm[run_number]['unseen_targets_aup'] = average_precision_score(true, pred)\n",
    "    test_results_ndm[run_number]['unseen_targets_f1_scores'] = f1_scores\n",
    "    test_results_ndm[run_number]['unseen_targets_max_f1'] = np.max(f1_scores)\n",
    "    test_results_ndm[run_number]['unseen_targets_f1_threshold'] = f_1_thresh\n",
    "    test_results_ndm[run_number]['targets_confusion_matrix'] = confusion_matrix(true, pred_bin)\n",
    "    \n",
    "    ######## Unseen Edges Test ########\n",
    "    \n",
    "    true = Y_test_actual_ue\n",
    "    pred = Y_test_predictions_ue\n",
    "    \n",
    "    f1_scores = []\n",
    "\n",
    "    for j in np.arange(0.0, 1.0, 0.01):\n",
    "        f1_scores.append(f1_score(true, [1 if (i > j) else 0 for i in pred]))\n",
    "        \n",
    "    f_1_thresh = [idx for idx, x in list(zip(np.arange(0.0, 1.0, 0.01), f1_scores)) if x == max(f1_scores)][0]\n",
    "        \n",
    "    pred_bin = [1 if (i > f_1_thresh) else 0 for i in pred]\n",
    "    \n",
    "    test_results_ndm[run_number]['unseen_edges_auc'] = roc_auc_score(true, pred)\n",
    "    test_results_ndm[run_number]['unseen_edges_aup'] = average_precision_score(true, pred)\n",
    "    test_results_ndm[run_number]['unseen_edges_f1_scores'] = f1_scores\n",
    "    test_results_ndm[run_number]['unseen_edges_max_f1'] = np.max(f1_scores)\n",
    "    test_results_ndm[run_number]['unseen_edges_f1_threshold'] = f_1_thresh\n",
    "    test_results_ndm[run_number]['edges_confusion_matrix'] = confusion_matrix(true, pred_bin)\n",
    "    \n",
    "ue_auc = []\n",
    "ue_aup = []\n",
    "ut_auc = []\n",
    "ut_aup = []\n",
    "f1_t_e = []\n",
    "f1_t_t = []\n",
    "f1_t = []\n",
    "f1_e = []\n",
    "\n",
    "for run_number in test_results_ndm.keys():\n",
    "    \n",
    "    ue_auc.append(test_results_ndm[run_number]['unseen_edges_auc'])\n",
    "    ue_aup.append(test_results_ndm[run_number]['unseen_edges_aup'])\n",
    "    ut_auc.append(test_results_ndm[run_number]['unseen_targets_auc'])\n",
    "    ut_aup.append(test_results_ndm[run_number]['unseen_targets_aup'])\n",
    "    f1_t_e.append(test_results_ndm[run_number]['unseen_edges_f1_threshold'])\n",
    "    f1_t_t.append(test_results_ndm[run_number]['unseen_targets_f1_threshold'])    \n",
    "    f1_t.append(test_results_ndm[run_number]['unseen_targets_max_f1'])\n",
    "    f1_e.append(test_results_ndm[run_number]['unseen_edges_max_f1'])\n",
    "    \n",
    "print (\"DeepPurpose Test Set Performance - DS2 Filtered (6 Fold Cross Validated Results) - Drugs Only : \")\n",
    "print (\"\")\n",
    "print (\"\\tUnseen Targets : \\n\")\n",
    "print (\"\\t\\tAUC          : \", np.mean(ut_auc), \"+/-\", np.std(ut_auc))\n",
    "print (\"\\t\\tAUP          : \", np.mean(ut_aup), \"+/-\", np.std(ut_aup))\n",
    "print (\"\\t\\tMax F1 Score : \", np.mean(f1_t), \"+/-\", np.std(f1_t))\n",
    "print (\"\\t\\tF1 Threshold : \", np.mean(f1_t_t), \"+/-\", np.std(f1_t_t))\n",
    "print (\"\")\n",
    "print (\"\\tUnseen Edges : \\n\")\n",
    "print (\"\\t\\tAUC          : \", np.mean(ue_auc), \"+/-\", np.std(ue_auc))\n",
    "print (\"\\t\\tAUP          : \", np.mean(ue_aup), \"+/-\", np.std(ue_aup))\n",
    "print (\"\\t\\tMax F1 Score : \", np.mean(f1_e), \"+/-\", np.std(f1_e))\n",
    "print (\"\\t\\tF1 Threshold : \", np.mean(f1_t_e), \"+/-\", np.std(f1_t_e))"
   ]
  },
  {
   "cell_type": "markdown",
   "metadata": {},
   "source": [
    "#### Non Drug Test"
   ]
  },
  {
   "cell_type": "code",
   "execution_count": 80,
   "metadata": {},
   "outputs": [
    {
     "data": {
      "application/vnd.jupyter.widget-view+json": {
       "model_id": "8e17a32779cb4ac2abd0a491b3d64de0",
       "version_major": 2,
       "version_minor": 0
      },
      "text/plain": [
       "HBox(children=(FloatProgress(value=0.0, max=6.0), HTML(value='')))"
      ]
     },
     "metadata": {},
     "output_type": "display_data"
    },
    {
     "name": "stdout",
     "output_type": "stream",
     "text": [
      "in total: 293 drug-target pairs\n",
      "encoding drug...\n",
      "unique drugs: 204\n",
      "rdkit not found this smiles for morgan: nan convert to all 1 features\n",
      "drug encoding finished...\n",
      "encoding protein...\n",
      "unique target sequence: 118\n",
      "protein encoding finished...\n",
      "splitting dataset...\n",
      "Done.\n",
      "in total: 249 drug-target pairs\n",
      "encoding drug...\n",
      "unique drugs: 170\n",
      "rdkit not found this smiles for morgan: nan convert to all 1 features\n",
      "drug encoding finished...\n",
      "encoding protein...\n",
      "unique target sequence: 177\n",
      "protein encoding finished...\n",
      "splitting dataset...\n",
      "Done.\n",
      "predicting...\n",
      "predicting...\n",
      "in total: 362 drug-target pairs\n",
      "encoding drug...\n",
      "unique drugs: 258\n",
      "rdkit not found this smiles for morgan: nan convert to all 1 features\n",
      "drug encoding finished...\n",
      "encoding protein...\n",
      "unique target sequence: 116\n",
      "protein encoding finished...\n",
      "splitting dataset...\n",
      "Done.\n",
      "in total: 252 drug-target pairs\n",
      "encoding drug...\n",
      "unique drugs: 181\n",
      "rdkit not found this smiles for morgan: nan convert to all 1 features\n",
      "drug encoding finished...\n",
      "encoding protein...\n",
      "unique target sequence: 179\n",
      "protein encoding finished...\n",
      "splitting dataset...\n",
      "Done.\n",
      "predicting...\n",
      "predicting...\n",
      "in total: 346 drug-target pairs\n",
      "encoding drug...\n",
      "unique drugs: 208\n",
      "rdkit not found this smiles for morgan: nan convert to all 1 features\n",
      "drug encoding finished...\n",
      "encoding protein...\n",
      "unique target sequence: 154\n",
      "protein encoding finished...\n",
      "splitting dataset...\n",
      "Done.\n",
      "in total: 233 drug-target pairs\n",
      "encoding drug...\n",
      "unique drugs: 165\n",
      "rdkit not found this smiles for morgan: nan convert to all 1 features\n",
      "drug encoding finished...\n",
      "encoding protein...\n",
      "unique target sequence: 171\n",
      "protein encoding finished...\n",
      "splitting dataset...\n",
      "Done.\n",
      "predicting...\n",
      "predicting...\n",
      "in total: 243 drug-target pairs\n",
      "encoding drug...\n",
      "unique drugs: 159\n",
      "rdkit not found this smiles for morgan: nan convert to all 1 features\n",
      "drug encoding finished...\n",
      "encoding protein...\n",
      "unique target sequence: 114\n",
      "protein encoding finished...\n",
      "splitting dataset...\n",
      "Done.\n",
      "in total: 246 drug-target pairs\n",
      "encoding drug...\n",
      "unique drugs: 182\n",
      "rdkit not found this smiles for morgan: nan convert to all 1 features\n",
      "drug encoding finished...\n",
      "encoding protein...\n",
      "unique target sequence: 172\n",
      "protein encoding finished...\n",
      "splitting dataset...\n",
      "Done.\n",
      "predicting...\n",
      "predicting...\n",
      "in total: 430 drug-target pairs\n",
      "encoding drug...\n",
      "unique drugs: 293\n",
      "rdkit not found this smiles for morgan: nan convert to all 1 features\n",
      "drug encoding finished...\n",
      "encoding protein...\n",
      "unique target sequence: 139\n",
      "protein encoding finished...\n",
      "splitting dataset...\n",
      "Done.\n",
      "in total: 203 drug-target pairs\n",
      "encoding drug...\n",
      "unique drugs: 161\n",
      "rdkit not found this smiles for morgan: nan convert to all 1 features\n",
      "drug encoding finished...\n",
      "encoding protein...\n",
      "unique target sequence: 158\n",
      "protein encoding finished...\n",
      "splitting dataset...\n",
      "Done.\n",
      "predicting...\n",
      "predicting...\n",
      "in total: 290 drug-target pairs\n",
      "encoding drug...\n",
      "unique drugs: 186\n",
      "rdkit not found this smiles for morgan: nan convert to all 1 features\n",
      "drug encoding finished...\n",
      "encoding protein...\n",
      "unique target sequence: 140\n",
      "protein encoding finished...\n",
      "splitting dataset...\n",
      "Done.\n",
      "in total: 264 drug-target pairs\n",
      "encoding drug...\n",
      "unique drugs: 185\n",
      "rdkit not found this smiles for morgan: nan convert to all 1 features\n",
      "drug encoding finished...\n",
      "encoding protein...\n",
      "unique target sequence: 198\n",
      "protein encoding finished...\n",
      "splitting dataset...\n",
      "Done.\n",
      "predicting...\n",
      "predicting...\n",
      "\n",
      "DeepPurpose Test Set Performance - DS2 Filtered (6 Fold Cross Validated Results) - Non-Drug Only : \n",
      "\n",
      "\tUnseen Targets : \n",
      "\n",
      "\t\tAUC          :  0.6989850651391599 +/- 0.01852029900487017\n",
      "\t\tAUP          :  0.7511450465537074 +/- 0.051742678379938845\n",
      "\t\tMax F1 Score :  0.5677715303909905 +/- 0.08148639057381919\n",
      "\t\tF1 Threshold :  0.036666666666666674 +/- 0.05467073155618909\n",
      "\n",
      "\tUnseen Edges : \n",
      "\n",
      "\t\tAUC          :  0.8569412215662786 +/- 0.03146946499656084\n",
      "\t\tAUP          :  0.9038169373234979 +/- 0.026898973252678062\n",
      "\t\tMax F1 Score :  0.7389978740497675 +/- 0.06541234300083511\n",
      "\t\tF1 Threshold :  0.008333333333333333 +/- 0.018633899812498248\n"
     ]
    }
   ],
   "source": [
    "test_results_ndm = {}\n",
    "\n",
    "for run_number in tqdm(range(0, 6)):\n",
    "    \n",
    "    target_test_df = targets_test[run_number][targets_test[run_number]['InChiKey'].isin(non_drugs)]\n",
    "    edge_test_df = edges_test[run_number][edges_test[run_number]['InChiKey'].isin(non_drugs)]\n",
    "    \n",
    "    model = models.model_initialize(**config)\n",
    "    directory = '../data/sars-busters-consolidated/deep_purpose/KF/Run_' + str(run_number)\n",
    "    model_name = directory + \"/\" + os.listdir(directory)[-1] + \"/model.pt\"\n",
    "    model.load_pretrained(model_name)\n",
    "    \n",
    "    test_ut, nothing, nothing =  data_process(add_smile(target_test_df)['SMILE'],\n",
    "                                    target_test_df['target_aa_code'],\n",
    "                                    target_test_df['Y'], \n",
    "                                    drug_encoding, target_encoding, \n",
    "                                    split_method='cold_protein', \n",
    "                                    frac=[1,0,.0])\n",
    "    \n",
    "    Y_test_actual_ut = target_test_df['Y']\n",
    "\n",
    "    test_ue, nothing, nothing =  data_process(add_smile(edge_test_df)['SMILE'],\n",
    "                                    edge_test_df['target_aa_code'],\n",
    "                                    edge_test_df['Y'], \n",
    "                                    drug_encoding, target_encoding, \n",
    "                                    split_method='cold_protein', \n",
    "                                    frac=[1,0,.0])\n",
    "    \n",
    "    Y_test_actual_ue = edge_test_df['Y']\n",
    "\n",
    "\n",
    "    # Calculate and Save Test Performance\n",
    "    Y_test_predictions_ut = []\n",
    "    Y_test_predictions_ut.extend(model.predict(test_ut))\n",
    "\n",
    "    Y_test_predictions_ue = []\n",
    "    Y_test_predictions_ue.extend(model.predict(test_ue))\n",
    "    \n",
    "    ######## Unseen Targets Test ########\n",
    "\n",
    "    true = Y_test_actual_ut\n",
    "    pred = Y_test_predictions_ut\n",
    "    \n",
    "    f1_scores = []\n",
    "\n",
    "    for j in np.arange(0.0, 1.0, 0.01):\n",
    "        f1_scores.append(f1_score(true, [1 if (i > j) else 0 for i in pred]))\n",
    "        \n",
    "    f_1_thresh = [idx for idx, x in list(zip(np.arange(0.0, 1.0, 0.01), f1_scores)) if x == max(f1_scores)][0]\n",
    "        \n",
    "    pred_bin = [1 if (i > f_1_thresh) else 0 for i in pred]\n",
    "\n",
    "    try:\n",
    "        test_results_ndm[run_number]\n",
    "    except: \n",
    "        test_results_ndm[run_number] = {}\n",
    "    \n",
    "    test_results_ndm[run_number]['unseen_targets_auc'] = roc_auc_score(true, pred)\n",
    "    test_results_ndm[run_number]['unseen_targets_aup'] = average_precision_score(true, pred)\n",
    "    test_results_ndm[run_number]['unseen_targets_f1_scores'] = f1_scores\n",
    "    test_results_ndm[run_number]['unseen_targets_max_f1'] = np.max(f1_scores)\n",
    "    test_results_ndm[run_number]['unseen_targets_f1_threshold'] = f_1_thresh\n",
    "    test_results_ndm[run_number]['targets_confusion_matrix'] = confusion_matrix(true, pred_bin)\n",
    "    \n",
    "    ######## Unseen Edges Test ########\n",
    "    \n",
    "    true = Y_test_actual_ue\n",
    "    pred = Y_test_predictions_ue\n",
    "    \n",
    "    f1_scores = []\n",
    "\n",
    "    for j in np.arange(0.0, 1.0, 0.01):\n",
    "        f1_scores.append(f1_score(true, [1 if (i > j) else 0 for i in pred]))\n",
    "        \n",
    "    f_1_thresh = [idx for idx, x in list(zip(np.arange(0.0, 1.0, 0.01), f1_scores)) if x == max(f1_scores)][0]\n",
    "        \n",
    "    pred_bin = [1 if (i > f_1_thresh) else 0 for i in pred]\n",
    "    \n",
    "    test_results_ndm[run_number]['unseen_edges_auc'] = roc_auc_score(true, pred)\n",
    "    test_results_ndm[run_number]['unseen_edges_aup'] = average_precision_score(true, pred)\n",
    "    test_results_ndm[run_number]['unseen_edges_f1_scores'] = f1_scores\n",
    "    test_results_ndm[run_number]['unseen_edges_max_f1'] = np.max(f1_scores)\n",
    "    test_results_ndm[run_number]['unseen_edges_f1_threshold'] = f_1_thresh\n",
    "    test_results_ndm[run_number]['edges_confusion_matrix'] = confusion_matrix(true, pred_bin)\n",
    "    \n",
    "ue_auc = []\n",
    "ue_aup = []\n",
    "ut_auc = []\n",
    "ut_aup = []\n",
    "f1_t_e = []\n",
    "f1_t_t = []\n",
    "f1_t = []\n",
    "f1_e = []\n",
    "\n",
    "for run_number in test_results_ndm.keys():\n",
    "    \n",
    "    ue_auc.append(test_results_ndm[run_number]['unseen_edges_auc'])\n",
    "    ue_aup.append(test_results_ndm[run_number]['unseen_edges_aup'])\n",
    "    ut_auc.append(test_results_ndm[run_number]['unseen_targets_auc'])\n",
    "    ut_aup.append(test_results_ndm[run_number]['unseen_targets_aup'])\n",
    "    f1_t_e.append(test_results_ndm[run_number]['unseen_edges_f1_threshold'])\n",
    "    f1_t_t.append(test_results_ndm[run_number]['unseen_targets_f1_threshold'])    \n",
    "    f1_t.append(test_results_ndm[run_number]['unseen_targets_max_f1'])\n",
    "    f1_e.append(test_results_ndm[run_number]['unseen_edges_max_f1'])\n",
    "    \n",
    "print (\"DeepPurpose Test Set Performance - DS2 Filtered (6 Fold Cross Validated Results) - Non-Drug Only : \")\n",
    "print (\"\")\n",
    "print (\"\\tUnseen Targets : \\n\")\n",
    "print (\"\\t\\tAUC          : \", np.mean(ut_auc), \"+/-\", np.std(ut_auc))\n",
    "print (\"\\t\\tAUP          : \", np.mean(ut_aup), \"+/-\", np.std(ut_aup))\n",
    "print (\"\\t\\tMax F1 Score : \", np.mean(f1_t), \"+/-\", np.std(f1_t))\n",
    "print (\"\\t\\tF1 Threshold : \", np.mean(f1_t_t), \"+/-\", np.std(f1_t_t))\n",
    "print (\"\")\n",
    "print (\"\\tUnseen Edges : \\n\")\n",
    "print (\"\\t\\tAUC          : \", np.mean(ue_auc), \"+/-\", np.std(ue_auc))\n",
    "print (\"\\t\\tAUP          : \", np.mean(ue_aup), \"+/-\", np.std(ue_aup))\n",
    "print (\"\\t\\tMax F1 Score : \", np.mean(f1_e), \"+/-\", np.std(f1_e))\n",
    "print (\"\\t\\tF1 Threshold : \", np.mean(f1_t_e), \"+/-\", np.std(f1_t_e))"
   ]
  },
  {
   "cell_type": "code",
   "execution_count": null,
   "metadata": {},
   "outputs": [],
   "source": []
  }
 ],
 "metadata": {
  "kernelspec": {
   "display_name": "DeepPurpose",
   "language": "python",
   "name": "deeppurpose"
  },
  "language_info": {
   "codemirror_mode": {
    "name": "ipython",
    "version": 3
   },
   "file_extension": ".py",
   "mimetype": "text/x-python",
   "name": "python",
   "nbconvert_exporter": "python",
   "pygments_lexer": "ipython3",
   "version": "3.7.7"
  },
  "toc": {
   "base_numbering": 1,
   "nav_menu": {},
   "number_sections": true,
   "sideBar": true,
   "skip_h1_title": false,
   "title_cell": "Table of Contents",
   "title_sidebar": "Contents",
   "toc_cell": false,
   "toc_position": {},
   "toc_section_display": true,
   "toc_window_display": false
  }
 },
 "nbformat": 4,
 "nbformat_minor": 4
}
