{
 "cells": [
  {
   "cell_type": "markdown",
   "metadata": {},
   "source": [
    "### Imports"
   ]
  },
  {
   "cell_type": "code",
   "execution_count": 2,
   "metadata": {},
   "outputs": [
    {
     "data": {
      "text/plain": [
       "[\"b'Mon Jun 21 07:57:22 2021       \",\n",
       " '+-----------------------------------------------------------------------------+',\n",
       " '| NVIDIA-SMI 418.87.01    Driver Version: 418.87.01    CUDA Version: 10.1     |',\n",
       " '|-------------------------------+----------------------+----------------------+',\n",
       " '| GPU  Name        Persistence-M| Bus-Id        Disp.A | Volatile Uncorr. ECC |',\n",
       " '| Fan  Temp  Perf  Pwr:Usage/Cap|         Memory-Usage | GPU-Util  Compute M. |',\n",
       " '|===============================+======================+======================|',\n",
       " '|   0  Tesla T4            Off  | 00000000:00:04.0 Off |                    0 |',\n",
       " '| N/A   67C    P0    30W /  70W |  14387MiB / 15079MiB |      0%      Default |',\n",
       " '+-------------------------------+----------------------+----------------------+',\n",
       " '|   1  Tesla T4            Off  | 00000000:00:05.0 Off |                    0 |',\n",
       " '| N/A   77C    P0    35W /  70W |  14396MiB / 15079MiB |      0%      Default |',\n",
       " '+-------------------------------+----------------------+----------------------+',\n",
       " '|   2  Tesla T4            Off  | 00000000:00:06.0 Off |                    0 |',\n",
       " '| N/A   77C    P0    34W /  70W |    193MiB / 15079MiB |      0%      Default |',\n",
       " '+-------------------------------+----------------------+----------------------+',\n",
       " '|   3  Tesla T4            Off  | 00000000:00:07.0 Off |                    0 |',\n",
       " '| N/A   71C    P0    32W /  70W |  14570MiB / 15079MiB |      0%      Default |',\n",
       " '+-------------------------------+----------------------+----------------------+',\n",
       " '                                                                               ',\n",
       " '+-----------------------------------------------------------------------------+',\n",
       " '| Processes:                                                       GPU Memory |',\n",
       " '|  GPU       PID   Type   Process name                             Usage      |',\n",
       " '|=============================================================================|',\n",
       " '+-----------------------------------------------------------------------------+',\n",
       " \"'\"]"
      ]
     },
     "execution_count": 2,
     "metadata": {},
     "output_type": "execute_result"
    }
   ],
   "source": [
    "import subprocess\n",
    "str(subprocess.check_output('nvidia-smi', shell = True)).split('\\\\n')"
   ]
  },
  {
   "cell_type": "code",
   "execution_count": 3,
   "metadata": {},
   "outputs": [],
   "source": [
    "import os\n",
    "os.environ[\"CUDA_VISIBLE_DEVICES\"] = \"2\""
   ]
  },
  {
   "cell_type": "code",
   "execution_count": 4,
   "metadata": {},
   "outputs": [],
   "source": [
    "import sys\n",
    "\n",
    "#sys.path.append('/DeepPurpose/DeepPurpose/')\n",
    "sys.path.append('/DeepPurpose')\n",
    "sys.path.append('/')"
   ]
  },
  {
   "cell_type": "code",
   "execution_count": 5,
   "metadata": {},
   "outputs": [],
   "source": [
    "import os\n",
    "os.chdir('/DeepPurpose')\n",
    "from DeepPurpose.utils import generate_config, data_process\n",
    "from DeepPurpose import models"
   ]
  },
  {
   "cell_type": "code",
   "execution_count": 6,
   "metadata": {},
   "outputs": [],
   "source": [
    "import plotly.graph_objects as go\n",
    "from plotly.subplots import make_subplots"
   ]
  },
  {
   "cell_type": "code",
   "execution_count": 7,
   "metadata": {},
   "outputs": [
    {
     "name": "stderr",
     "output_type": "stream",
     "text": [
      "/miniconda/envs/DeepPurpose/lib/python3.7/site-packages/tqdm/std.py:658: FutureWarning: The Panel class is removed from pandas. Accessing it from the top-level namespace will also be removed in the next version\n",
      "  from pandas import Panel\n"
     ]
    }
   ],
   "source": [
    "import pandas as pd\n",
    "import numpy as np\n",
    "import pickle as pkl\n",
    "import time\n",
    "import random\n",
    "import json\n",
    "\n",
    "from rdkit import Chem\n",
    "from rdkit.Chem import AllChem\n",
    "from rdkit.Chem import DataStructs\n",
    "from rdkit.Chem import Draw\n",
    "from rdkit.Chem import PandasTools\n",
    "from rdkit.Chem.Draw import IPythonConsole\n",
    "\n",
    "#from pandarallel import pandarallel\n",
    "from tqdm import tqdm\n",
    "from tqdm.notebook import tqdm\n",
    "from ast import literal_eval\n",
    "import matplotlib.pyplot as plt\n",
    "import seaborn as sns\n",
    "import pickle as pkl\n",
    "import lxml\n",
    "import importlib\n",
    "#import plotly.graph_objects as go\n",
    "#from plotly.subplots import make_subplots\n",
    "\n",
    "#from gensim.models import Word2Vec\n",
    "#from gensim.models import word2vec\n",
    "#from gensim.models.doc2vec import Doc2Vec, TaggedDocument\n",
    "#from gensim.models import FastText\n",
    "#from gensim.test.utils import datapath, get_tmpfile\n",
    "#from gensim.models import KeyedVectors\n",
    "#from gensim.scripts.glove2word2vec import glove2word2vec\n",
    "\n",
    "import umap.umap_ as umap\n",
    "from mpl_toolkits.mplot3d import Axes3D\n",
    "\n",
    "\n",
    "#from mol2vec import features\n",
    "#from mol2vec import helpers\n",
    "#from mol2vec.features import mol2alt_sentence, MolSentence, DfVec, sentences2vec\n",
    "#from mol2vec.helpers import depict_identifier, plot_2D_vectors, IdentifierTable, mol_to_svg\n",
    "\n",
    "#from Bio import SeqUtils\n",
    "\n",
    "#import tensorflow.keras\n",
    "#from tensorflow.keras.models import load_model\n",
    "#from tensorflow.keras.models import Sequential, Model\n",
    "#from tensorflow.keras.layers import Input, Dense, Activation, Dropout, Conv1D, Flatten, MaxPooling1D,\\\n",
    "#                        AveragePooling1D, Concatenate, LeakyReLU, Embedding,\\\n",
    "#                        GlobalMaxPooling1D,GlobalAveragePooling1D,GaussianNoise,BatchNormalization,Add\n",
    "#from tensorflow.keras.initializers import glorot_uniform\n",
    "\n",
    "from sklearn.utils.multiclass import unique_labels\n",
    "from sklearn.model_selection import train_test_split\n",
    "from sklearn.preprocessing import LabelEncoder, OneHotEncoder\n",
    "from sklearn.model_selection import train_test_split\n",
    "from sklearn.linear_model import LogisticRegression\n",
    "from sklearn.metrics import confusion_matrix, f1_score, classification_report\n",
    "from sklearn.metrics import roc_curve, roc_auc_score, precision_recall_curve, average_precision_score\n",
    "from sklearn.metrics import confusion_matrix, f1_score, classification_report\n",
    "\n",
    "\n",
    "from IPython.core.display import display, HTML\n",
    "#pandarallel.initialize(progress_bar = True)\n",
    "tqdm.pandas()"
   ]
  },
  {
   "cell_type": "markdown",
   "metadata": {},
   "source": [
    "### Helper Functions"
   ]
  },
  {
   "cell_type": "markdown",
   "metadata": {},
   "source": [
    "#### Data Helper Functions"
   ]
  },
  {
   "cell_type": "code",
   "execution_count": 8,
   "metadata": {},
   "outputs": [],
   "source": [
    "def dataframe_to_embed_array(interactions_df, drug_list, target_list, drug_embed_len = 300, debug = True):\n",
    "    \n",
    "    X_0_list = []\n",
    "    X_1_list = []\n",
    "    \n",
    "    skipped_drugs = 0\n",
    "    for idx, row in interactions_df.iterrows():\n",
    "\n",
    "        drug = row['InChiKey']\n",
    "        target = row['target_aa_code']\n",
    "\n",
    "        try:\n",
    "            drug_index = drug_list.index(drug)\n",
    "        except: \n",
    "            drug_index = -1\n",
    "\n",
    "        target_index = target_list.index(target)\n",
    "\n",
    "        X_0_list.append(normalized_target_embeddings[target_index])\n",
    "        if drug_index == -1:\n",
    "            X_1_list.append(np.random.randn(drug_embed_len,))\n",
    "            skipped_drugs = skipped_drugs + 1\n",
    "        else:\n",
    "            try:\n",
    "                X_1_list.append(normalized_drug_embeddings[drug_index])\n",
    "            except: \n",
    "                X_1_list.append(np.random.randn(drug_embed_len,))\n",
    "                skipped_drugs = skipped_drugs + 1\n",
    "                \n",
    "    X_0 = np.array(X_0_list)\n",
    "    X_1 = np.array(X_1_list)\n",
    "    Y   = np.array(list(interactions_df['Y']))\n",
    "    \n",
    "    if debug:\n",
    "        print (\"Number of drugs skipped : \", skipped_drugs)\n",
    "    \n",
    "    return X_0, X_1, Y"
   ]
  },
  {
   "cell_type": "code",
   "execution_count": 8,
   "metadata": {},
   "outputs": [],
   "source": [
    "# def get_interaction_splits(positive_interactions, targets, frac = 0.15):\n",
    "\n",
    "#     # Set Seed\n",
    "#     np.random.seed(2020)\n",
    "\n",
    "\n",
    "#     # Make Unseen Targets\n",
    "#     unseen_targets = np.random.choice(list(targets['Label']), size = int(frac * targets.shape[0]), replace = False)\n",
    "\n",
    "#     # Create dataframe with unseen targets \n",
    "#     unseen_target_test = positive_interactions[positive_interactions['target_aa_code'].isin(unseen_targets)]\n",
    "\n",
    "#     # Create dataframe with unseen edges\n",
    "#     seen_target_df = pd.concat([positive_interactions, unseen_target_test]).drop_duplicates(keep = False)\n",
    "#     unseen_edges_test = seen_target_df.sample(frac = 0.15, replace = False)\n",
    "\n",
    "#     # Create dataframe with train interactions\n",
    "#     train_interactions = pd.concat([seen_target_df, unseen_edges_test]).drop_duplicates(keep = False)\n",
    "#     seen_targets = set(train_interactions['target_aa_code'])\n",
    "    \n",
    "#     return unseen_targets, seen_targets, unseen_target_test, unseen_edges_test, train_interactions"
   ]
  },
  {
   "cell_type": "code",
   "execution_count": 9,
   "metadata": {},
   "outputs": [],
   "source": [
    "# def get_train_w_random_neg(train_interactions, drug_list, seen_targets, num_negatives):\n",
    "\n",
    "#     train_w_random_neg = []\n",
    "#     num_negatives = 8\n",
    "\n",
    "#     # Shuffle Train Interactions\n",
    "#     train_interactions = train_interactions.sample(frac = 1, replace = False)\n",
    "\n",
    "#     # For each positive interaction\n",
    "#     for idx, row in tqdm(train_interactions.iterrows()):\n",
    "\n",
    "#         # Drop extra drug or target?\n",
    "#         drop_negative_drug = np.random.randint(2)\n",
    "\n",
    "#         # Add existing positive to final train\n",
    "#         positive_example = [row['InChiKey'], row['target_aa_code'], int(row['Y'])]\n",
    "#         train_w_random_neg.append(positive_example)\n",
    "\n",
    "#         # Random Negative Drugs\n",
    "#         random_negative_drugs = random.sample(drug_list, num_negatives - drop_negative_drug) \n",
    "#         for i in random_negative_drugs:\n",
    "#             negative_example = [i, row['target_aa_code'], 0]\n",
    "#             train_w_random_neg.append(negative_example)\n",
    "\n",
    "\n",
    "#         # Random Negative Targets\n",
    "#         random_negative_targets = random.sample(seen_targets, num_negatives - (1 - drop_negative_drug))\n",
    "#         for j in random_negative_targets:\n",
    "#             negative_example = [row['InChiKey'], j, 0]\n",
    "#             train_w_random_neg.append(negative_example)\n",
    "\n",
    "#     train_w_random_neg = pd.DataFrame(train_w_random_neg)\n",
    "#     train_w_random_neg.columns = ['InChiKey', 'target_aa_code', 'Y']\n",
    "\n",
    "#     return train_w_random_neg"
   ]
  },
  {
   "cell_type": "markdown",
   "metadata": {
    "heading_collapsed": true
   },
   "source": [
    "#### Plot Helper Functions"
   ]
  },
  {
   "cell_type": "code",
   "execution_count": 9,
   "metadata": {
    "hidden": true
   },
   "outputs": [],
   "source": [
    "def plot_confusion_matrix(y_true, y_pred, classes,\n",
    "                          normalize=False,\n",
    "                          title=None,\n",
    "                          cmap=plt.cm.Blues):\n",
    "    \"\"\"\n",
    "    This function prints and plots the confusion matrix.\n",
    "    Normalization can be applied by setting `normalize=True`.\n",
    "    \n",
    "    NOTE: Taken from sklearn example\n",
    "    \"\"\"\n",
    "    if not title:\n",
    "        if normalize:\n",
    "            title = 'Normalized confusion matrix'\n",
    "        else:\n",
    "            title = 'Confusion matrix, without normalization'\n",
    "\n",
    "    # Compute confusion matrix\n",
    "    cm = confusion_matrix(y_true, y_pred)\n",
    "    # Only use the labels that appear in the data\n",
    "    classes = [0,1]\n",
    "    if normalize:\n",
    "        cm = cm.astype('float') / cm.sum(axis=1)[:, np.newaxis]\n",
    "        print(\"Normalized confusion matrix\")\n",
    "    else:\n",
    "        print('Confusion matrix, without normalization')\n",
    "\n",
    "    print(cm)\n",
    "\n",
    "    fig, ax = plt.subplots()\n",
    "    \n",
    "    #ax.figsize((10, 10))\n",
    "    im = ax.imshow(cm, interpolation='nearest', cmap=cmap)\n",
    "    ax.figure.colorbar(im, ax=ax)\n",
    "    # We want to show all ticks...\n",
    "    ax.set(xticks=np.arange(cm.shape[1]),\n",
    "           yticks=np.arange(cm.shape[0]),\n",
    "           # ... and label them with the respective list entries\n",
    "           xticklabels=classes, yticklabels=classes,\n",
    "           title=title,\n",
    "           ylabel='True label',\n",
    "           xlabel='Predicted label')\n",
    "\n",
    "    # Rotate the tick labels and set their alignment.\n",
    "    plt.setp(ax.get_xticklabels(), rotation=45, ha=\"right\",\n",
    "             rotation_mode=\"anchor\")\n",
    "\n",
    "    # Loop over data dimensions and create text annotations.\n",
    "    fmt = '.2f' if normalize else 'd'\n",
    "    thresh = cm.max() / 2.\n",
    "    for i in range(cm.shape[0]):\n",
    "        for j in range(cm.shape[1]):\n",
    "            ax.text(j, i, format(cm[i, j], fmt),\n",
    "                    ha=\"center\", va=\"center\",\n",
    "                    color=\"white\" if cm[i, j] > thresh else \"black\")\n",
    "    ax.plot()\n",
    "    fig.tight_layout()\n",
    "    fig.show()\n",
    "    #return ax"
   ]
  },
  {
   "cell_type": "code",
   "execution_count": 10,
   "metadata": {
    "hidden": true
   },
   "outputs": [
    {
     "ename": "NameError",
     "evalue": "name 'tensorflow' is not defined",
     "output_type": "error",
     "traceback": [
      "\u001b[0;31m---------------------------------------------------------------------------\u001b[0m",
      "\u001b[0;31mNameError\u001b[0m                                 Traceback (most recent call last)",
      "\u001b[0;32m<ipython-input-10-b8365ae21488>\u001b[0m in \u001b[0;36m<module>\u001b[0;34m\u001b[0m\n\u001b[1;32m      1\u001b[0m \u001b[0;32mfrom\u001b[0m \u001b[0mIPython\u001b[0m\u001b[0;34m.\u001b[0m\u001b[0mdisplay\u001b[0m \u001b[0;32mimport\u001b[0m \u001b[0mclear_output\u001b[0m\u001b[0;34m\u001b[0m\u001b[0;34m\u001b[0m\u001b[0m\n\u001b[0;32m----> 2\u001b[0;31m \u001b[0;32mclass\u001b[0m \u001b[0mPlotLosses\u001b[0m\u001b[0;34m(\u001b[0m\u001b[0mtensorflow\u001b[0m\u001b[0;34m.\u001b[0m\u001b[0mkeras\u001b[0m\u001b[0;34m.\u001b[0m\u001b[0mcallbacks\u001b[0m\u001b[0;34m.\u001b[0m\u001b[0mCallback\u001b[0m\u001b[0;34m)\u001b[0m\u001b[0;34m:\u001b[0m\u001b[0;34m\u001b[0m\u001b[0;34m\u001b[0m\u001b[0m\n\u001b[0m\u001b[1;32m      3\u001b[0m     \u001b[0;32mdef\u001b[0m \u001b[0mon_train_begin\u001b[0m\u001b[0;34m(\u001b[0m\u001b[0mself\u001b[0m\u001b[0;34m,\u001b[0m \u001b[0mlogs\u001b[0m\u001b[0;34m=\u001b[0m\u001b[0;34m{\u001b[0m\u001b[0;34m}\u001b[0m\u001b[0;34m)\u001b[0m\u001b[0;34m:\u001b[0m\u001b[0;34m\u001b[0m\u001b[0;34m\u001b[0m\u001b[0m\n\u001b[1;32m      4\u001b[0m         \u001b[0mself\u001b[0m\u001b[0;34m.\u001b[0m\u001b[0mi\u001b[0m \u001b[0;34m=\u001b[0m \u001b[0;36m0\u001b[0m\u001b[0;34m\u001b[0m\u001b[0;34m\u001b[0m\u001b[0m\n\u001b[1;32m      5\u001b[0m         \u001b[0mself\u001b[0m\u001b[0;34m.\u001b[0m\u001b[0mx\u001b[0m \u001b[0;34m=\u001b[0m \u001b[0;34m[\u001b[0m\u001b[0;34m]\u001b[0m\u001b[0;34m\u001b[0m\u001b[0;34m\u001b[0m\u001b[0m\n",
      "\u001b[0;31mNameError\u001b[0m: name 'tensorflow' is not defined"
     ]
    }
   ],
   "source": [
    "from IPython.display import clear_output\n",
    "class PlotLosses(tensorflow.keras.callbacks.Callback):\n",
    "    def on_train_begin(self, logs={}):\n",
    "        self.i = 0\n",
    "        self.x = []\n",
    "        self.losses = []\n",
    "        self.val_losses = []\n",
    "        \n",
    "        self.fig = plt.figure()\n",
    "        \n",
    "        self.logs = []\n",
    "\n",
    "    def on_epoch_end(self, epoch, logs={}):\n",
    "        \n",
    "        self.logs.append(logs)\n",
    "        self.x.append(self.i)\n",
    "        self.losses.append(logs.get('loss'))\n",
    "        self.val_losses.append(logs.get('val_loss'))\n",
    "        self.i += 1\n",
    "        \n",
    "        plt.clf()\n",
    "        clear_output(wait=True)\n",
    "        plt.plot(self.x, self.losses, label=\"loss\")\n",
    "        plt.plot(self.x, self.val_losses, label=\"val_loss\")\n",
    "        plt.legend()\n",
    "        plt.show()\n",
    "        \n",
    "        plt.plot(range(len(global_history)), global_history, label = 'Accuracy - Global')\n",
    "        plt.plot(range(len(global_val_history)), global_val_history, label = 'Accuracy - Global - Va;')\n",
    "        \n",
    "        plt.legend()\n",
    "        plt.show()\n",
    "        \n",
    "        plt.hist(Y_val_predictions, label = 'Prediction Distribution')\n",
    "        plt.legend()\n",
    "        plt.show()    \n",
    "        \n",
    "        plt.hist(Y_val_actual, label = 'Actual Distribution')\n",
    "        plt.legend()\n",
    "        plt.show()\n",
    "        \n",
    "        plt.plot(global_f1_scores)\n",
    "        plt.ylabel('F1 Score')\n",
    "        plt.ylabel('epochs * train data')\n",
    "        plt.show()\n",
    "        \n",
    "        Y_val_predictions_binary = [1 if (i > 0.5) else 0 for i in Y_val_predictions ]\n",
    "        cm = confusion_matrix(np.array(Y_val_actual).ravel(), Y_val_predictions_binary)    \n",
    "        classes = [0,1]\n",
    "        cm = cm.astype('float') / cm.sum(axis=1)[:, np.newaxis]\n",
    "        \n",
    "        print(cm)\n",
    "        #if (len(predictions) > 2) & (len(Y_val_actual) > 2):\n",
    "        #    plot_confusion_matrix(np.array(Y_val_actual).ravel(), Y_val_predictions, classes=[0, 1], normalize=True,\n",
    "        #              title='Normalized confusion matrix')\n",
    "        #else:\n",
    "        #    pass\n",
    "        \n",
    "plot_losses = PlotLosses()"
   ]
  },
  {
   "cell_type": "markdown",
   "metadata": {},
   "source": [
    "### Data"
   ]
  },
  {
   "cell_type": "markdown",
   "metadata": {
    "heading_collapsed": true
   },
   "source": [
    "#### VAE Embeddings"
   ]
  },
  {
   "cell_type": "code",
   "execution_count": 9,
   "metadata": {
    "hidden": true
   },
   "outputs": [
    {
     "name": "stderr",
     "output_type": "stream",
     "text": [
      "/miniconda/envs/DeepPurpose/lib/python3.7/site-packages/IPython/core/interactiveshell.py:3063: DtypeWarning: Columns (1,3,4) have mixed types.Specify dtype option on import or set low_memory=False.\n",
      "  interactivity=interactivity, compiler=compiler, result=result)\n"
     ]
    }
   ],
   "source": [
    "drugs = pd.read_csv('/data/sars-busters/chemicals/chemicals_11.csv')\n",
    "    \n",
    "with open('/data/sars-busters/Mol2Vec/amino_01_w_embed.pkl','rb') as file: \n",
    "    targets = pkl.load(file)\n",
    "    \n",
    "drug_list = list(drugs['Label'])\n",
    "target_list = list(targets['Label'])"
   ]
  },
  {
   "cell_type": "code",
   "execution_count": 12,
   "metadata": {
    "hidden": true
   },
   "outputs": [],
   "source": [
    "# drugs['normalized_embeddings'] = ''\n",
    "# for idx, rows in tqdm(drugs.iterrows()):\n",
    "    \n",
    "#     drugs['normalized_embeddings'][idx] = list(np.array(drugs.iloc[idx, 5:-1].values).astype(float))"
   ]
  },
  {
   "cell_type": "code",
   "execution_count": null,
   "metadata": {
    "hidden": true
   },
   "outputs": [],
   "source": []
  },
  {
   "cell_type": "code",
   "execution_count": null,
   "metadata": {
    "hidden": true
   },
   "outputs": [],
   "source": []
  },
  {
   "cell_type": "markdown",
   "metadata": {},
   "source": [
    "#### Read in Different Sets"
   ]
  },
  {
   "cell_type": "code",
   "execution_count": 11,
   "metadata": {},
   "outputs": [
    {
     "data": {
      "application/vnd.jupyter.widget-view+json": {
       "model_id": "f19d142044bd4bdea58fe1d463589e98",
       "version_major": 2,
       "version_minor": 0
      },
      "text/plain": [
       "HBox(children=(FloatProgress(value=0.0, max=5.0), HTML(value='')))"
      ]
     },
     "metadata": {},
     "output_type": "display_data"
    },
    {
     "name": "stdout",
     "output_type": "stream",
     "text": [
      "\n"
     ]
    }
   ],
   "source": [
    "targets_test = []\n",
    "targets_validation = []\n",
    "edges_test = []\n",
    "edges_validation = []\n",
    "train_sets = []\n",
    "\n",
    "for run_number in tqdm(range(5)):\n",
    "    \n",
    "    targets_test.append(pd.read_csv('/data/sars-busters-consolidated/GitData/VecNet_Unseen_Nodes/test_unseen_nodes_' + str(run_number) + '.csv'))\n",
    "    edges_test.append(pd.read_csv('/data/sars-busters-consolidated/GitData/VecNet_Unseen_Nodes/test_unseen_edges_' + str(run_number) + '.csv'))    \n",
    "    targets_validation.append(pd.read_csv('/data/sars-busters-consolidated/GitData/VecNet_Unseen_Nodes/validation_unseen_nodes_' + str(run_number) + '.csv'))    \n",
    "    edges_validation.append(pd.read_csv('/data/sars-busters-consolidated/GitData/VecNet_Unseen_Nodes/validation_unseen_edges_' + str(run_number) + '.csv'))    \n",
    "    train_sets.append(pd.read_csv('/data/sars-busters-consolidated/GitData/VecNet_Unseen_Nodes/train_' + str(run_number) + '.csv'))    "
   ]
  },
  {
   "cell_type": "code",
   "execution_count": null,
   "metadata": {},
   "outputs": [],
   "source": []
  },
  {
   "cell_type": "code",
   "execution_count": null,
   "metadata": {},
   "outputs": [],
   "source": []
  },
  {
   "cell_type": "markdown",
   "metadata": {},
   "source": [
    "#### Sanity Checks"
   ]
  },
  {
   "cell_type": "code",
   "execution_count": null,
   "metadata": {},
   "outputs": [],
   "source": []
  },
  {
   "cell_type": "code",
   "execution_count": 18,
   "metadata": {},
   "outputs": [
    {
     "name": "stdout",
     "output_type": "stream",
     "text": [
      "Set :  0\n",
      "Train - Test - Validation Overlap For Unseen Targets :  0\n",
      "Train - Test - Validation Overlap For Unseen Drugs :  0\n",
      "Train - Test - Validation Overlap For Unseen Edges :  0\n",
      "Train Set :  (12770, 4)\n",
      "Target Test :  (6491, 11)\n",
      "Target Val :  (6492, 4)\n",
      "Edge Test :  (3693, 4)\n",
      "Edge Val :  (3693, 4)\n",
      "Pos / Neg :  0.37341363734136374\n",
      "\n",
      "Set :  1\n",
      "Train - Test - Validation Overlap For Unseen Targets :  0\n",
      "Train - Test - Validation Overlap For Unseen Drugs :  0\n",
      "Train - Test - Validation Overlap For Unseen Edges :  0\n",
      "Train Set :  (12166, 4)\n",
      "Target Test :  (6935, 11)\n",
      "Target Val :  (6790, 4)\n",
      "Edge Test :  (3603, 4)\n",
      "Edge Val :  (3603, 4)\n",
      "Pos / Neg :  0.3620689655172414\n",
      "\n",
      "Set :  2\n",
      "Train - Test - Validation Overlap For Unseen Targets :  0\n",
      "Train - Test - Validation Overlap For Unseen Drugs :  0\n",
      "Train - Test - Validation Overlap For Unseen Edges :  0\n",
      "Train Set :  (15660, 4)\n",
      "Target Test :  (6329, 11)\n",
      "Target Val :  (6184, 4)\n",
      "Edge Test :  (3785, 4)\n",
      "Edge Val :  (3785, 4)\n",
      "Pos / Neg :  0.33174589675992855\n",
      "\n",
      "Set :  3\n",
      "Train - Test - Validation Overlap For Unseen Targets :  0\n",
      "Train - Test - Validation Overlap For Unseen Drugs :  0\n",
      "Train - Test - Validation Overlap For Unseen Edges :  0\n",
      "Train Set :  (10547, 4)\n",
      "Target Test :  (6579, 11)\n",
      "Target Val :  (6435, 4)\n",
      "Edge Test :  (3710, 4)\n",
      "Edge Val :  (3710, 4)\n",
      "Pos / Neg :  0.3490662573548222\n",
      "\n",
      "Set :  4\n",
      "Train - Test - Validation Overlap For Unseen Targets :  0\n",
      "Train - Test - Validation Overlap For Unseen Drugs :  0\n",
      "Train - Test - Validation Overlap For Unseen Edges :  0\n",
      "Train Set :  (16281, 4)\n",
      "Target Test :  (6626, 11)\n",
      "Target Val :  (6482, 4)\n",
      "Edge Test :  (3696, 4)\n",
      "Edge Val :  (3696, 4)\n",
      "Pos / Neg :  0.3185131195335277\n",
      "\n"
     ]
    }
   ],
   "source": [
    "for i in range(len(targets_test)):\n",
    "    \n",
    "    print (\"Set : \", i)\n",
    "    \n",
    "    # No Overlap Between Unseen Targets and Train\n",
    "    unseen_targets = list(set(targets_test[i]['target_aa_code'])) + list(set(targets_validation[i]['target_aa_code']))\n",
    "    print (\"Train - Test - Validation Overlap For Unseen Targets : \", len(list(set(train_sets[i]['target_aa_code']).intersection(unseen_targets))))\n",
    "    \n",
    "    # No overlap Between Drugs\n",
    "    unseen_drugs = list(set(targets_test[i]['InChiKey'])) + list(set(targets_validation[i]['InChiKey']))\n",
    "    print (\"Train - Test - Validation Overlap For Unseen Drugs : \", len(list(set(train_sets[i]['InChiKey']).intersection(unseen_drugs))))\n",
    "\n",
    "\n",
    "    # No Overlap Between Unseen Edges and Train\n",
    "    train_edges = list(zip(list(train_sets[i]['InChiKey']), list(train_sets[i]['target_aa_code'])))\n",
    "    temp_df = pd.concat([edges_test[i], edges_validation[i]])\n",
    "    test_edges = list(zip(list(temp_df['InChiKey']), list(temp_df['target_aa_code'])))\n",
    "    train_edges = set(train_edges)\n",
    "    test_edges = set(test_edges)\n",
    "    print (\"Train - Test - Validation Overlap For Unseen Edges : \", len(list(train_edges.intersection(test_edges))))\n",
    "    \n",
    "    print (\"Train Set : \", train_sets[i].shape)\n",
    "    print (\"Target Test : \", targets_test[i].shape)\n",
    "    print (\"Target Val : \", targets_validation[i].shape)\n",
    "    print (\"Edge Test : \", edges_test[i].shape)\n",
    "    print (\"Edge Val : \", edges_validation[i].shape)\n",
    "    \n",
    "    print (\"Pos / Neg : \", 1 / np.divide(*train_sets[i]['Y'].value_counts().values))\n",
    "    \n",
    "    print (\"\")"
   ]
  },
  {
   "cell_type": "markdown",
   "metadata": {},
   "source": [
    "### Model Definitions"
   ]
  },
  {
   "cell_type": "code",
   "execution_count": 19,
   "metadata": {},
   "outputs": [],
   "source": [
    "drug_encoding = 'Morgan'\n",
    "target_encoding = 'CNN'\n",
    "\n",
    "config = generate_config(drug_encoding = drug_encoding, \n",
    "                                 target_encoding = target_encoding, \n",
    "                                 cls_hidden_dims = [1024, 1024, 512], \n",
    "                                 train_epoch = 30, \n",
    "                                 test_every_X_epoch = 5, \n",
    "                                 LR = 0.00001, \n",
    "                                 batch_size = 32,\n",
    "                                 hidden_dim_drug = 256,\n",
    "                                 hidden_dim_protein = 256,\n",
    "                                 #mpnn_hidden_size = 128,\n",
    "                                 #mpnn_depth = 3, \n",
    "                                 cnn_target_filters = [32,64,96],\n",
    "                                 cnn_target_kernels = [4,8,12]\n",
    "                                )\n",
    "\n",
    "\n",
    "model = models.model_initialize(**config)"
   ]
  },
  {
   "cell_type": "markdown",
   "metadata": {},
   "source": [
    "### Train "
   ]
  },
  {
   "cell_type": "code",
   "execution_count": 20,
   "metadata": {},
   "outputs": [],
   "source": [
    "batch_size = 16\n",
    "epochs = 30\n",
    "class_weight = {0: 0.35,\n",
    "                1: 1}\n",
    "\n",
    "results = {}\n",
    "\n",
    "#normalized_target_embeddings = np.array(list(targets['normalized_embeddings']))\n",
    "#normalized_drug_embeddings = np.array(list(drugs['normalized_embeddings']))"
   ]
  },
  {
   "cell_type": "code",
   "execution_count": 20,
   "metadata": {},
   "outputs": [],
   "source": [
    "# with open('../data/sars-busters-consolidated/deep_purpose/KF/results.json', 'r') as file: \n",
    "#     results = file.read()"
   ]
  },
  {
   "cell_type": "code",
   "execution_count": 21,
   "metadata": {},
   "outputs": [],
   "source": [
    "# try: \n",
    "#     results = json.loads(results)\n",
    "# except json.JSONDecodeError:\n",
    "#     results = []"
   ]
  },
  {
   "cell_type": "code",
   "execution_count": null,
   "metadata": {},
   "outputs": [],
   "source": []
  },
  {
   "cell_type": "markdown",
   "metadata": {},
   "source": [
    "#### Test Dataframes"
   ]
  },
  {
   "cell_type": "code",
   "execution_count": 21,
   "metadata": {},
   "outputs": [],
   "source": [
    "# X_0_test_ut, X_1_test_ut, Y_test_actual_ut = dataframe_to_embed_array(interactions_df = unseen_target_test,\n",
    "#                                                                       drug_list = drug_list,\n",
    "#                                                                       target_list = target_list,\n",
    "#                                                                       drug_embed_len = 200)\n",
    "\n",
    "# X_0_test_ue, X_1_test_ue, Y_test_actual_ue = dataframe_to_embed_array(interactions_df = unseen_edges_test,\n",
    "#                                                                       drug_list = drug_list,\n",
    "#                                                                       target_list = target_list,\n",
    "#                                                                       drug_embed_len = 200)\n"
   ]
  },
  {
   "cell_type": "code",
   "execution_count": 22,
   "metadata": {},
   "outputs": [],
   "source": [
    "# interactions.head()"
   ]
  },
  {
   "cell_type": "code",
   "execution_count": 21,
   "metadata": {},
   "outputs": [
    {
     "data": {
      "text/html": [
       "<div>\n",
       "<style scoped>\n",
       "    .dataframe tbody tr th:only-of-type {\n",
       "        vertical-align: middle;\n",
       "    }\n",
       "\n",
       "    .dataframe tbody tr th {\n",
       "        vertical-align: top;\n",
       "    }\n",
       "\n",
       "    .dataframe thead th {\n",
       "        text-align: right;\n",
       "    }\n",
       "</style>\n",
       "<table border=\"1\" class=\"dataframe\">\n",
       "  <thead>\n",
       "    <tr style=\"text-align: right;\">\n",
       "      <th></th>\n",
       "      <th>Unnamed: 0</th>\n",
       "      <th>Label</th>\n",
       "      <th>SMILE</th>\n",
       "      <th>Name</th>\n",
       "      <th>Category</th>\n",
       "      <th>vae_embedding_0</th>\n",
       "      <th>vae_embedding_1</th>\n",
       "      <th>vae_embedding_2</th>\n",
       "      <th>vae_embedding_3</th>\n",
       "      <th>vae_embedding_4</th>\n",
       "      <th>...</th>\n",
       "      <th>vae_embedding_190</th>\n",
       "      <th>vae_embedding_191</th>\n",
       "      <th>vae_embedding_192</th>\n",
       "      <th>vae_embedding_193</th>\n",
       "      <th>vae_embedding_194</th>\n",
       "      <th>vae_embedding_195</th>\n",
       "      <th>vae_embedding_196</th>\n",
       "      <th>vae_embedding_197</th>\n",
       "      <th>vae_embedding_198</th>\n",
       "      <th>vae_embedding_199</th>\n",
       "    </tr>\n",
       "  </thead>\n",
       "  <tbody>\n",
       "    <tr>\n",
       "      <th>0</th>\n",
       "      <td>0</td>\n",
       "      <td>XLYOFNOQVPJJNP-UHFFFAOYSA-N</td>\n",
       "      <td>O</td>\n",
       "      <td>NaN</td>\n",
       "      <td>inorganic hydride</td>\n",
       "      <td>0.000000</td>\n",
       "      <td>0.000000</td>\n",
       "      <td>0.0</td>\n",
       "      <td>0.000000</td>\n",
       "      <td>0.0</td>\n",
       "      <td>...</td>\n",
       "      <td>1.902730</td>\n",
       "      <td>0.000000</td>\n",
       "      <td>0.000000</td>\n",
       "      <td>0.000000</td>\n",
       "      <td>1.234893</td>\n",
       "      <td>0.760648</td>\n",
       "      <td>0.000000</td>\n",
       "      <td>0.000000</td>\n",
       "      <td>0.570381</td>\n",
       "      <td>0.367797</td>\n",
       "    </tr>\n",
       "    <tr>\n",
       "      <th>1</th>\n",
       "      <td>1</td>\n",
       "      <td>CURLTUGMZLYLDI-UHFFFAOYSA-N</td>\n",
       "      <td>O=C=O</td>\n",
       "      <td>NaN</td>\n",
       "      <td>one-carbon compound</td>\n",
       "      <td>2.305589</td>\n",
       "      <td>0.000000</td>\n",
       "      <td>0.0</td>\n",
       "      <td>0.000000</td>\n",
       "      <td>0.0</td>\n",
       "      <td>...</td>\n",
       "      <td>1.950824</td>\n",
       "      <td>0.170159</td>\n",
       "      <td>0.279008</td>\n",
       "      <td>0.000000</td>\n",
       "      <td>2.083165</td>\n",
       "      <td>1.372599</td>\n",
       "      <td>0.171778</td>\n",
       "      <td>2.246742</td>\n",
       "      <td>0.000000</td>\n",
       "      <td>0.000000</td>\n",
       "    </tr>\n",
       "    <tr>\n",
       "      <th>2</th>\n",
       "      <td>2</td>\n",
       "      <td>QGZKDVFQNNGYKY-UHFFFAOYSA-O</td>\n",
       "      <td>[NH4+]</td>\n",
       "      <td>NaN</td>\n",
       "      <td>inorganic hydride</td>\n",
       "      <td>0.000000</td>\n",
       "      <td>0.688682</td>\n",
       "      <td>0.0</td>\n",
       "      <td>0.000000</td>\n",
       "      <td>0.0</td>\n",
       "      <td>...</td>\n",
       "      <td>0.378623</td>\n",
       "      <td>0.000000</td>\n",
       "      <td>0.000000</td>\n",
       "      <td>0.069739</td>\n",
       "      <td>0.000000</td>\n",
       "      <td>0.201255</td>\n",
       "      <td>0.000000</td>\n",
       "      <td>0.000000</td>\n",
       "      <td>0.235413</td>\n",
       "      <td>0.108368</td>\n",
       "    </tr>\n",
       "    <tr>\n",
       "      <th>3</th>\n",
       "      <td>3</td>\n",
       "      <td>ZJUKTBDSGOFHSH-WFMPWKQPSA-N</td>\n",
       "      <td>Nc1ncnc2c1ncn2[C@@H]1O[C@H](CSCC[C@H]([NH3+])C...</td>\n",
       "      <td>NaN</td>\n",
       "      <td>sulfide</td>\n",
       "      <td>3.029715</td>\n",
       "      <td>0.000000</td>\n",
       "      <td>0.0</td>\n",
       "      <td>0.000000</td>\n",
       "      <td>0.0</td>\n",
       "      <td>...</td>\n",
       "      <td>0.997610</td>\n",
       "      <td>0.674817</td>\n",
       "      <td>2.422969</td>\n",
       "      <td>1.004612</td>\n",
       "      <td>2.265008</td>\n",
       "      <td>1.882903</td>\n",
       "      <td>0.900782</td>\n",
       "      <td>3.347353</td>\n",
       "      <td>0.000000</td>\n",
       "      <td>0.006052</td>\n",
       "    </tr>\n",
       "    <tr>\n",
       "      <th>4</th>\n",
       "      <td>4</td>\n",
       "      <td>ZSLZBFCDCINBPY-ZSJPKINUSA-J</td>\n",
       "      <td>CC(=O)SCCNC(=O)CCNC(=O)[C@H](O)C(C)(C)COP(=O)(...</td>\n",
       "      <td>NaN</td>\n",
       "      <td>acyl-CoA(4-)</td>\n",
       "      <td>2.648264</td>\n",
       "      <td>0.000000</td>\n",
       "      <td>0.0</td>\n",
       "      <td>0.276215</td>\n",
       "      <td>0.0</td>\n",
       "      <td>...</td>\n",
       "      <td>1.176523</td>\n",
       "      <td>0.403689</td>\n",
       "      <td>1.968453</td>\n",
       "      <td>0.696532</td>\n",
       "      <td>2.534080</td>\n",
       "      <td>1.849166</td>\n",
       "      <td>0.815979</td>\n",
       "      <td>2.481820</td>\n",
       "      <td>0.000000</td>\n",
       "      <td>0.000000</td>\n",
       "    </tr>\n",
       "  </tbody>\n",
       "</table>\n",
       "<p>5 rows × 205 columns</p>\n",
       "</div>"
      ],
      "text/plain": [
       "   Unnamed: 0                        Label  \\\n",
       "0           0  XLYOFNOQVPJJNP-UHFFFAOYSA-N   \n",
       "1           1  CURLTUGMZLYLDI-UHFFFAOYSA-N   \n",
       "2           2  QGZKDVFQNNGYKY-UHFFFAOYSA-O   \n",
       "3           3  ZJUKTBDSGOFHSH-WFMPWKQPSA-N   \n",
       "4           4  ZSLZBFCDCINBPY-ZSJPKINUSA-J   \n",
       "\n",
       "                                               SMILE Name  \\\n",
       "0                                                  O  NaN   \n",
       "1                                              O=C=O  NaN   \n",
       "2                                             [NH4+]  NaN   \n",
       "3  Nc1ncnc2c1ncn2[C@@H]1O[C@H](CSCC[C@H]([NH3+])C...  NaN   \n",
       "4  CC(=O)SCCNC(=O)CCNC(=O)[C@H](O)C(C)(C)COP(=O)(...  NaN   \n",
       "\n",
       "              Category  vae_embedding_0  vae_embedding_1  vae_embedding_2  \\\n",
       "0    inorganic hydride         0.000000         0.000000              0.0   \n",
       "1  one-carbon compound         2.305589         0.000000              0.0   \n",
       "2    inorganic hydride         0.000000         0.688682              0.0   \n",
       "3              sulfide         3.029715         0.000000              0.0   \n",
       "4         acyl-CoA(4-)         2.648264         0.000000              0.0   \n",
       "\n",
       "   vae_embedding_3  vae_embedding_4  ...  vae_embedding_190  \\\n",
       "0         0.000000              0.0  ...           1.902730   \n",
       "1         0.000000              0.0  ...           1.950824   \n",
       "2         0.000000              0.0  ...           0.378623   \n",
       "3         0.000000              0.0  ...           0.997610   \n",
       "4         0.276215              0.0  ...           1.176523   \n",
       "\n",
       "   vae_embedding_191  vae_embedding_192  vae_embedding_193  vae_embedding_194  \\\n",
       "0           0.000000           0.000000           0.000000           1.234893   \n",
       "1           0.170159           0.279008           0.000000           2.083165   \n",
       "2           0.000000           0.000000           0.069739           0.000000   \n",
       "3           0.674817           2.422969           1.004612           2.265008   \n",
       "4           0.403689           1.968453           0.696532           2.534080   \n",
       "\n",
       "   vae_embedding_195  vae_embedding_196  vae_embedding_197  vae_embedding_198  \\\n",
       "0           0.760648           0.000000           0.000000           0.570381   \n",
       "1           1.372599           0.171778           2.246742           0.000000   \n",
       "2           0.201255           0.000000           0.000000           0.235413   \n",
       "3           1.882903           0.900782           3.347353           0.000000   \n",
       "4           1.849166           0.815979           2.481820           0.000000   \n",
       "\n",
       "   vae_embedding_199  \n",
       "0           0.367797  \n",
       "1           0.000000  \n",
       "2           0.108368  \n",
       "3           0.006052  \n",
       "4           0.000000  \n",
       "\n",
       "[5 rows x 205 columns]"
      ]
     },
     "execution_count": 21,
     "metadata": {},
     "output_type": "execute_result"
    }
   ],
   "source": [
    "drugs.head()"
   ]
  },
  {
   "cell_type": "code",
   "execution_count": 26,
   "metadata": {},
   "outputs": [],
   "source": [
    "add_smile = lambda x: pd.merge(x.fillna(''), drugs[['Label', 'SMILE']],\n",
    "                               left_on = 'InChiKey', right_on = 'Label', how = 'left')"
   ]
  },
  {
   "cell_type": "markdown",
   "metadata": {},
   "source": [
    "#### Training Loop"
   ]
  },
  {
   "cell_type": "code",
   "execution_count": 23,
   "metadata": {},
   "outputs": [],
   "source": [
    "results = {}"
   ]
  },
  {
   "cell_type": "code",
   "execution_count": 24,
   "metadata": {
    "scrolled": true
   },
   "outputs": [
    {
     "name": "stdout",
     "output_type": "stream",
     "text": [
      "Version : 0\n"
     ]
    },
    {
     "data": {
      "application/vnd.jupyter.widget-view+json": {
       "model_id": "4adb67ba901c4351b976c0e008edb037",
       "version_major": 2,
       "version_minor": 0
      },
      "text/plain": [
       "HBox(children=(FloatProgress(value=0.0, max=6.0), HTML(value='')))"
      ]
     },
     "metadata": {},
     "output_type": "display_data"
    },
    {
     "name": "stdout",
     "output_type": "stream",
     "text": [
      "in total: 12770 drug-target pairs\n",
      "encoding drug...\n",
      "unique drugs: 2871\n",
      "rdkit not found this smiles for morgan: nan convert to all 1 features\n",
      "drug encoding finished...\n",
      "encoding protein...\n",
      "unique target sequence: 3049\n",
      "protein encoding finished...\n",
      "splitting dataset...\n",
      "Done.\n",
      "in total: 6492 drug-target pairs\n",
      "encoding drug...\n",
      "unique drugs: 3244\n",
      "rdkit not found this smiles for morgan: nan convert to all 1 features\n",
      "drug encoding finished...\n",
      "encoding protein...\n",
      "unique target sequence: 896\n",
      "protein encoding finished...\n",
      "splitting dataset...\n",
      "Done.\n",
      "in total: 3693 drug-target pairs\n",
      "encoding drug...\n",
      "unique drugs: 2172\n",
      "rdkit not found this smiles for morgan: nan convert to all 1 features\n"
     ]
    },
    {
     "name": "stderr",
     "output_type": "stream",
     "text": [
      "RDKit WARNING: [08:15:13] Conflicting single bond directions around double bond at index 1.\n",
      "RDKit WARNING: [08:15:13]   BondStereo set to STEREONONE and single bond directions set to NONE.\n"
     ]
    },
    {
     "name": "stdout",
     "output_type": "stream",
     "text": [
      "drug encoding finished...\n",
      "encoding protein...\n",
      "unique target sequence: 1622\n",
      "protein encoding finished...\n",
      "splitting dataset...\n",
      "Done.\n",
      "Let's use 1 GPU!\n",
      "--- Data Preparation ---\n",
      "--- Go for Training ---\n",
      "Training at Epoch 1 iteration 0 with loss 0.69480. Total time 0.0 hours\n",
      "Training at Epoch 1 iteration 100 with loss 0.63691. Total time 0.00333 hours\n",
      "Training at Epoch 1 iteration 200 with loss 0.57360. Total time 0.00666 hours\n",
      "Training at Epoch 1 iteration 300 with loss 0.62417. Total time 0.01 hours\n",
      "Validation at Epoch 1 , AUROC: 0.49570 , AUPRC: 0.46512 , F1: 0.0\n",
      "Training at Epoch 2 iteration 0 with loss 0.61394. Total time 0.01694 hours\n",
      "Training at Epoch 2 iteration 100 with loss 0.54811. Total time 0.02027 hours\n",
      "Training at Epoch 2 iteration 200 with loss 0.59396. Total time 0.02361 hours\n",
      "Training at Epoch 2 iteration 300 with loss 0.53354. Total time 0.02694 hours\n",
      "Validation at Epoch 2 , AUROC: 0.49982 , AUPRC: 0.47451 , F1: 0.0\n",
      "Training at Epoch 3 iteration 0 with loss 0.54924. Total time 0.03388 hours\n",
      "Training at Epoch 3 iteration 100 with loss 0.60954. Total time 0.03722 hours\n",
      "Training at Epoch 3 iteration 200 with loss 0.65503. Total time 0.04055 hours\n",
      "Training at Epoch 3 iteration 300 with loss 0.65220. Total time 0.04361 hours\n",
      "Validation at Epoch 3 , AUROC: 0.50470 , AUPRC: 0.47232 , F1: 0.0\n",
      "Training at Epoch 4 iteration 0 with loss 0.70077. Total time 0.05055 hours\n",
      "Training at Epoch 4 iteration 100 with loss 0.61654. Total time 0.05388 hours\n",
      "Training at Epoch 4 iteration 200 with loss 0.61446. Total time 0.05722 hours\n",
      "Training at Epoch 4 iteration 300 with loss 0.53033. Total time 0.06055 hours\n",
      "Validation at Epoch 4 , AUROC: 0.51454 , AUPRC: 0.47848 , F1: 0.0\n",
      "Training at Epoch 5 iteration 0 with loss 0.44466. Total time 0.0675 hours\n",
      "Training at Epoch 5 iteration 100 with loss 0.62832. Total time 0.07083 hours\n",
      "Training at Epoch 5 iteration 200 with loss 0.64843. Total time 0.07416 hours\n",
      "Training at Epoch 5 iteration 300 with loss 0.66023. Total time 0.0775 hours\n",
      "Validation at Epoch 5 , AUROC: 0.51933 , AUPRC: 0.48034 , F1: 0.0\n",
      "Training at Epoch 6 iteration 0 with loss 0.55596. Total time 0.08444 hours\n",
      "Training at Epoch 6 iteration 100 with loss 0.51263. Total time 0.0875 hours\n",
      "Training at Epoch 6 iteration 200 with loss 0.58078. Total time 0.09083 hours\n",
      "Training at Epoch 6 iteration 300 with loss 0.57764. Total time 0.09416 hours\n",
      "Validation at Epoch 6 , AUROC: 0.52725 , AUPRC: 0.49130 , F1: 0.0\n",
      "--- Go for Testing ---\n",
      "Up to Epoch 5 Testing AUROC: 0.5573756827433589 , AUPRC: 0.5810049315295166 , F1: 0.0\n",
      "Training at Epoch 7 iteration 0 with loss 0.64258. Total time 0.10333 hours\n",
      "Training at Epoch 7 iteration 100 with loss 0.57829. Total time 0.10666 hours\n",
      "Training at Epoch 7 iteration 200 with loss 0.42005. Total time 0.11 hours\n",
      "Training at Epoch 7 iteration 300 with loss 0.57639. Total time 0.11305 hours\n",
      "Validation at Epoch 7 , AUROC: 0.54801 , AUPRC: 0.50999 , F1: 0.00065\n",
      "Training at Epoch 8 iteration 0 with loss 0.49289. Total time 0.12 hours\n",
      "Training at Epoch 8 iteration 100 with loss 0.47158. Total time 0.12333 hours\n",
      "Training at Epoch 8 iteration 200 with loss 0.42522. Total time 0.12666 hours\n",
      "Training at Epoch 8 iteration 300 with loss 0.53183. Total time 0.13 hours\n",
      "Validation at Epoch 8 , AUROC: 0.60212 , AUPRC: 0.54744 , F1: 0.05845\n",
      "Training at Epoch 9 iteration 0 with loss 0.47518. Total time 0.13694 hours\n",
      "Training at Epoch 9 iteration 100 with loss 0.36124. Total time 0.14027 hours\n",
      "Training at Epoch 9 iteration 200 with loss 0.34010. Total time 0.14361 hours\n",
      "Training at Epoch 9 iteration 300 with loss 0.37132. Total time 0.14694 hours\n",
      "Validation at Epoch 9 , AUROC: 0.63913 , AUPRC: 0.56847 , F1: 0.07506\n",
      "Training at Epoch 10 iteration 0 with loss 0.36046. Total time 0.15361 hours\n",
      "Training at Epoch 10 iteration 100 with loss 0.20264. Total time 0.15694 hours\n",
      "Training at Epoch 10 iteration 200 with loss 0.37992. Total time 0.16027 hours\n",
      "Training at Epoch 10 iteration 300 with loss 0.36007. Total time 0.16361 hours\n",
      "Validation at Epoch 10 , AUROC: 0.64448 , AUPRC: 0.56503 , F1: 0.11026\n",
      "Training at Epoch 11 iteration 0 with loss 0.25015. Total time 0.17055 hours\n",
      "Training at Epoch 11 iteration 100 with loss 0.20946. Total time 0.17388 hours\n",
      "Training at Epoch 11 iteration 200 with loss 0.19508. Total time 0.17722 hours\n",
      "Training at Epoch 11 iteration 300 with loss 0.30042. Total time 0.18055 hours\n",
      "Validation at Epoch 11 , AUROC: 0.64015 , AUPRC: 0.55879 , F1: 0.13957\n",
      "--- Go for Testing ---\n",
      "Up to Epoch 10 Testing AUROC: 0.7932399235738331 , AUPRC: 0.8343150654243754 , F1: 0.5637037037037036\n",
      "Training at Epoch 12 iteration 0 with loss 0.25028. Total time 0.18944 hours\n",
      "Training at Epoch 12 iteration 100 with loss 0.35454. Total time 0.19277 hours\n",
      "Training at Epoch 12 iteration 200 with loss 0.21140. Total time 0.19611 hours\n",
      "Training at Epoch 12 iteration 300 with loss 0.25240. Total time 0.19944 hours\n",
      "Validation at Epoch 12 , AUROC: 0.64126 , AUPRC: 0.55681 , F1: 0.25322\n",
      "Training at Epoch 13 iteration 0 with loss 0.30652. Total time 0.20638 hours\n",
      "Training at Epoch 13 iteration 100 with loss 0.28023. Total time 0.20972 hours\n",
      "Training at Epoch 13 iteration 200 with loss 0.14199. Total time 0.21305 hours\n",
      "Training at Epoch 13 iteration 300 with loss 0.24742. Total time 0.21638 hours\n",
      "Validation at Epoch 13 , AUROC: 0.63961 , AUPRC: 0.55490 , F1: 0.11309\n",
      "Training at Epoch 14 iteration 0 with loss 0.19079. Total time 0.22333 hours\n",
      "Training at Epoch 14 iteration 100 with loss 0.26012. Total time 0.22638 hours\n",
      "Training at Epoch 14 iteration 200 with loss 0.33905. Total time 0.22972 hours\n",
      "Training at Epoch 14 iteration 300 with loss 0.19009. Total time 0.23305 hours\n",
      "Validation at Epoch 14 , AUROC: 0.63129 , AUPRC: 0.54984 , F1: 0.14671\n",
      "Training at Epoch 15 iteration 0 with loss 0.28484. Total time 0.24 hours\n",
      "Training at Epoch 15 iteration 100 with loss 0.49186. Total time 0.24333 hours\n",
      "Training at Epoch 15 iteration 200 with loss 0.05413. Total time 0.24666 hours\n",
      "Training at Epoch 15 iteration 300 with loss 0.27522. Total time 0.25 hours\n",
      "Validation at Epoch 15 , AUROC: 0.62791 , AUPRC: 0.54503 , F1: 0.32753\n",
      "Training at Epoch 16 iteration 0 with loss 0.21018. Total time 0.25694 hours\n",
      "Training at Epoch 16 iteration 100 with loss 0.09230. Total time 0.26027 hours\n",
      "Training at Epoch 16 iteration 200 with loss 0.29220. Total time 0.26361 hours\n",
      "Training at Epoch 16 iteration 300 with loss 0.09173. Total time 0.26694 hours\n",
      "Validation at Epoch 16 , AUROC: 0.62047 , AUPRC: 0.54275 , F1: 0.16388\n",
      "--- Go for Testing ---\n",
      "Up to Epoch 15 Testing AUROC: 0.8033605207779972 , AUPRC: 0.8467899091670289 , F1: 0.6149486362026213\n",
      "Training at Epoch 17 iteration 0 with loss 0.11335. Total time 0.27583 hours\n",
      "Training at Epoch 17 iteration 100 with loss 0.15992. Total time 0.27916 hours\n",
      "Training at Epoch 17 iteration 200 with loss 0.29048. Total time 0.2825 hours\n",
      "Training at Epoch 17 iteration 300 with loss 0.21958. Total time 0.28583 hours\n",
      "Validation at Epoch 17 , AUROC: 0.61717 , AUPRC: 0.53695 , F1: 0.13276\n",
      "Training at Epoch 18 iteration 0 with loss 0.12227. Total time 0.29277 hours\n",
      "Training at Epoch 18 iteration 100 with loss 0.15197. Total time 0.29611 hours\n",
      "Training at Epoch 18 iteration 200 with loss 0.09500. Total time 0.29944 hours\n",
      "Training at Epoch 18 iteration 300 with loss 0.23311. Total time 0.30277 hours\n",
      "Validation at Epoch 18 , AUROC: 0.61233 , AUPRC: 0.53222 , F1: 0.08713\n",
      "Training at Epoch 19 iteration 0 with loss 0.13354. Total time 0.30972 hours\n",
      "Training at Epoch 19 iteration 100 with loss 0.07151. Total time 0.31277 hours\n",
      "Training at Epoch 19 iteration 200 with loss 0.27323. Total time 0.31611 hours\n",
      "Training at Epoch 19 iteration 300 with loss 0.10005. Total time 0.31944 hours\n",
      "Validation at Epoch 19 , AUROC: 0.61113 , AUPRC: 0.53182 , F1: 0.19761\n",
      "Training at Epoch 20 iteration 0 with loss 0.17143. Total time 0.32638 hours\n",
      "Training at Epoch 20 iteration 100 with loss 0.04917. Total time 0.32972 hours\n",
      "Training at Epoch 20 iteration 200 with loss 0.18766. Total time 0.33305 hours\n",
      "Training at Epoch 20 iteration 300 with loss 0.22157. Total time 0.33638 hours\n",
      "Validation at Epoch 20 , AUROC: 0.60932 , AUPRC: 0.53017 , F1: 0.16589\n",
      "Training at Epoch 21 iteration 0 with loss 0.18110. Total time 0.34333 hours\n",
      "Training at Epoch 21 iteration 100 with loss 0.07765. Total time 0.34666 hours\n",
      "Training at Epoch 21 iteration 200 with loss 0.17461. Total time 0.35 hours\n",
      "Training at Epoch 21 iteration 300 with loss 0.11009. Total time 0.35333 hours\n",
      "Validation at Epoch 21 , AUROC: 0.60582 , AUPRC: 0.52940 , F1: 0.14583\n",
      "--- Go for Testing ---\n",
      "Up to Epoch 20 Testing AUROC: 0.8027703018011805 , AUPRC: 0.8477568218635293 , F1: 0.6103386809269162\n",
      "Training at Epoch 22 iteration 0 with loss 0.12312. Total time 0.36222 hours\n",
      "Training at Epoch 22 iteration 100 with loss 0.18711. Total time 0.36555 hours\n",
      "Training at Epoch 22 iteration 200 with loss 0.02858. Total time 0.36888 hours\n",
      "Training at Epoch 22 iteration 300 with loss 0.15479. Total time 0.37222 hours\n",
      "Validation at Epoch 22 , AUROC: 0.60224 , AUPRC: 0.52596 , F1: 0.18424\n",
      "Training at Epoch 23 iteration 0 with loss 0.11548. Total time 0.37916 hours\n",
      "Training at Epoch 23 iteration 100 with loss 0.27549. Total time 0.3825 hours\n",
      "Training at Epoch 23 iteration 200 with loss 0.09696. Total time 0.38555 hours\n",
      "Training at Epoch 23 iteration 300 with loss 0.12656. Total time 0.38888 hours\n",
      "Validation at Epoch 23 , AUROC: 0.59831 , AUPRC: 0.52418 , F1: 0.27539\n",
      "Training at Epoch 24 iteration 0 with loss 0.07820. Total time 0.39583 hours\n",
      "Training at Epoch 24 iteration 100 with loss 0.11595. Total time 0.39916 hours\n",
      "Training at Epoch 24 iteration 200 with loss 0.14462. Total time 0.4025 hours\n",
      "Training at Epoch 24 iteration 300 with loss 0.09719. Total time 0.40583 hours\n",
      "Validation at Epoch 24 , AUROC: 0.59882 , AUPRC: 0.52582 , F1: 0.18201\n",
      "Training at Epoch 25 iteration 0 with loss 0.09249. Total time 0.41277 hours\n",
      "Training at Epoch 25 iteration 100 with loss 0.12733. Total time 0.41611 hours\n",
      "Training at Epoch 25 iteration 200 with loss 0.07233. Total time 0.41944 hours\n",
      "Training at Epoch 25 iteration 300 with loss 0.10700. Total time 0.42277 hours\n",
      "Validation at Epoch 25 , AUROC: 0.59807 , AUPRC: 0.52423 , F1: 0.29820\n",
      "Training at Epoch 26 iteration 0 with loss 0.06434. Total time 0.42944 hours\n",
      "Training at Epoch 26 iteration 100 with loss 0.23985. Total time 0.43277 hours\n",
      "Training at Epoch 26 iteration 200 with loss 0.14338. Total time 0.43611 hours\n",
      "Training at Epoch 26 iteration 300 with loss 0.07018. Total time 0.43944 hours\n",
      "Validation at Epoch 26 , AUROC: 0.59489 , AUPRC: 0.52182 , F1: 0.17015\n",
      "--- Go for Testing ---\n",
      "Up to Epoch 25 Testing AUROC: 0.798622039733389 , AUPRC: 0.8450413109310649 , F1: 0.6369958275382477\n",
      "Training at Epoch 27 iteration 0 with loss 0.10159. Total time 0.44833 hours\n",
      "Training at Epoch 27 iteration 100 with loss 0.07111. Total time 0.45166 hours\n",
      "Training at Epoch 27 iteration 200 with loss 0.08326. Total time 0.455 hours\n",
      "Training at Epoch 27 iteration 300 with loss 0.03890. Total time 0.45833 hours\n",
      "Validation at Epoch 27 , AUROC: 0.59319 , AUPRC: 0.52037 , F1: 0.20252\n",
      "Training at Epoch 28 iteration 0 with loss 0.08688. Total time 0.46527 hours\n",
      "Training at Epoch 28 iteration 100 with loss 0.07580. Total time 0.46861 hours\n",
      "Training at Epoch 28 iteration 200 with loss 0.09951. Total time 0.47194 hours\n",
      "Training at Epoch 28 iteration 300 with loss 0.07299. Total time 0.47527 hours\n",
      "Validation at Epoch 28 , AUROC: 0.59120 , AUPRC: 0.52049 , F1: 0.29519\n",
      "Training at Epoch 29 iteration 0 with loss 0.13676. Total time 0.48222 hours\n",
      "Training at Epoch 29 iteration 100 with loss 0.04663. Total time 0.48555 hours\n",
      "Training at Epoch 29 iteration 200 with loss 0.05604. Total time 0.48861 hours\n",
      "Training at Epoch 29 iteration 300 with loss 0.04798. Total time 0.49194 hours\n",
      "Validation at Epoch 29 , AUROC: 0.58777 , AUPRC: 0.51712 , F1: 0.07517\n",
      "Training at Epoch 30 iteration 0 with loss 0.17585. Total time 0.49888 hours\n",
      "Training at Epoch 30 iteration 100 with loss 0.10628. Total time 0.50222 hours\n",
      "Training at Epoch 30 iteration 200 with loss 0.15153. Total time 0.50555 hours\n",
      "Training at Epoch 30 iteration 300 with loss 0.07978. Total time 0.50888 hours\n",
      "Validation at Epoch 30 , AUROC: 0.58821 , AUPRC: 0.51873 , F1: 0.12775\n",
      "--- Go for Testing ---\n",
      "Testing AUROC: 0.7983570135095871 , AUPRC: 0.8441224725432921 , F1: 0.6008614501076813\n",
      "--- Training Finished ---\n",
      "predicting...\n",
      "predicting...\n",
      "Results Saved\n",
      "in total: 12166 drug-target pairs\n",
      "encoding drug...\n",
      "unique drugs: 2671\n",
      "rdkit not found this smiles for morgan: nan convert to all 1 features\n"
     ]
    },
    {
     "name": "stderr",
     "output_type": "stream",
     "text": [
      "RDKit WARNING: [08:46:43] Conflicting single bond directions around double bond at index 1.\n",
      "RDKit WARNING: [08:46:43]   BondStereo set to STEREONONE and single bond directions set to NONE.\n"
     ]
    },
    {
     "name": "stdout",
     "output_type": "stream",
     "text": [
      "drug encoding finished...\n",
      "encoding protein...\n",
      "unique target sequence: 2994\n",
      "protein encoding finished...\n",
      "splitting dataset...\n",
      "Done.\n",
      "in total: 6790 drug-target pairs\n",
      "encoding drug...\n",
      "unique drugs: 3429\n",
      "rdkit not found this smiles for morgan: nan convert to all 1 features\n",
      "drug encoding finished...\n",
      "encoding protein...\n",
      "unique target sequence: 897\n",
      "protein encoding finished...\n",
      "splitting dataset...\n",
      "Done.\n",
      "in total: 3603 drug-target pairs\n",
      "encoding drug...\n",
      "unique drugs: 2141\n",
      "rdkit not found this smiles for morgan: nan convert to all 1 features\n",
      "drug encoding finished...\n",
      "encoding protein...\n",
      "unique target sequence: 1590\n",
      "protein encoding finished...\n",
      "splitting dataset...\n",
      "Done.\n",
      "Let's use 1 GPU!\n",
      "--- Data Preparation ---\n",
      "--- Go for Training ---\n",
      "Training at Epoch 1 iteration 0 with loss 0.70192. Total time 0.0 hours\n",
      "Training at Epoch 1 iteration 100 with loss 0.66338. Total time 0.00333 hours\n",
      "Training at Epoch 1 iteration 200 with loss 0.69486. Total time 0.00666 hours\n",
      "Training at Epoch 1 iteration 300 with loss 0.62264. Total time 0.01 hours\n",
      "Validation at Epoch 1 , AUROC: 0.50705 , AUPRC: 0.50614 , F1: 0.0\n",
      "Training at Epoch 2 iteration 0 with loss 0.47588. Total time 0.01638 hours\n",
      "Training at Epoch 2 iteration 100 with loss 0.58030. Total time 0.01972 hours\n",
      "Training at Epoch 2 iteration 200 with loss 0.58220. Total time 0.02305 hours\n",
      "Training at Epoch 2 iteration 300 with loss 0.62625. Total time 0.02638 hours\n",
      "Validation at Epoch 2 , AUROC: 0.51422 , AUPRC: 0.51578 , F1: 0.0\n",
      "Training at Epoch 3 iteration 0 with loss 0.59161. Total time 0.03277 hours\n",
      "Training at Epoch 3 iteration 100 with loss 0.63504. Total time 0.03611 hours\n",
      "Training at Epoch 3 iteration 200 with loss 0.56355. Total time 0.03944 hours\n",
      "Training at Epoch 3 iteration 300 with loss 0.54721. Total time 0.04277 hours\n",
      "Validation at Epoch 3 , AUROC: 0.51124 , AUPRC: 0.51273 , F1: 0.0\n",
      "Training at Epoch 4 iteration 0 with loss 0.69680. Total time 0.04916 hours\n",
      "Training at Epoch 4 iteration 100 with loss 0.52055. Total time 0.0525 hours\n",
      "Training at Epoch 4 iteration 200 with loss 0.64828. Total time 0.05583 hours\n",
      "Training at Epoch 4 iteration 300 with loss 0.51833. Total time 0.05916 hours\n",
      "Validation at Epoch 4 , AUROC: 0.51150 , AUPRC: 0.51304 , F1: 0.0\n",
      "Training at Epoch 5 iteration 0 with loss 0.59003. Total time 0.06555 hours\n",
      "Training at Epoch 5 iteration 100 with loss 0.57162. Total time 0.06888 hours\n",
      "Training at Epoch 5 iteration 200 with loss 0.62823. Total time 0.07222 hours\n",
      "Training at Epoch 5 iteration 300 with loss 0.64415. Total time 0.07527 hours\n",
      "Validation at Epoch 5 , AUROC: 0.51861 , AUPRC: 0.51731 , F1: 0.0\n",
      "Training at Epoch 6 iteration 0 with loss 0.49596. Total time 0.08194 hours\n",
      "Training at Epoch 6 iteration 100 with loss 0.71106. Total time 0.08527 hours\n",
      "Training at Epoch 6 iteration 200 with loss 0.62821. Total time 0.08861 hours\n",
      "Training at Epoch 6 iteration 300 with loss 0.47960. Total time 0.09194 hours\n",
      "Validation at Epoch 6 , AUROC: 0.53186 , AUPRC: 0.52585 , F1: 0.0\n",
      "--- Go for Testing ---\n",
      "Up to Epoch 5 Testing AUROC: 0.5395411252476636 , AUPRC: 0.5291687300358519 , F1: 0.0011142061281337048\n",
      "Training at Epoch 7 iteration 0 with loss 0.57335. Total time 0.10027 hours\n",
      "Training at Epoch 7 iteration 100 with loss 0.57463. Total time 0.10361 hours\n",
      "Training at Epoch 7 iteration 200 with loss 0.48580. Total time 0.10694 hours\n",
      "Training at Epoch 7 iteration 300 with loss 0.38224. Total time 0.11027 hours\n",
      "Validation at Epoch 7 , AUROC: 0.54750 , AUPRC: 0.53808 , F1: 0.00988\n",
      "Training at Epoch 8 iteration 0 with loss 0.51634. Total time 0.11694 hours\n",
      "Training at Epoch 8 iteration 100 with loss 0.41857. Total time 0.12 hours\n",
      "Training at Epoch 8 iteration 200 with loss 0.36358. Total time 0.12333 hours\n",
      "Training at Epoch 8 iteration 300 with loss 0.38829. Total time 0.12666 hours\n",
      "Validation at Epoch 8 , AUROC: 0.58842 , AUPRC: 0.56907 , F1: 0.01733\n",
      "Training at Epoch 9 iteration 0 with loss 0.50597. Total time 0.13333 hours\n",
      "Training at Epoch 9 iteration 100 with loss 0.63623. Total time 0.13638 hours\n",
      "Training at Epoch 9 iteration 200 with loss 0.40160. Total time 0.13972 hours\n",
      "Training at Epoch 9 iteration 300 with loss 0.36681. Total time 0.14305 hours\n",
      "Validation at Epoch 9 , AUROC: 0.62977 , AUPRC: 0.60147 , F1: 0.01735\n",
      "Training at Epoch 10 iteration 0 with loss 0.44438. Total time 0.14944 hours\n",
      "Training at Epoch 10 iteration 100 with loss 0.32344. Total time 0.15277 hours\n",
      "Training at Epoch 10 iteration 200 with loss 0.19797. Total time 0.15611 hours\n",
      "Training at Epoch 10 iteration 300 with loss 0.30171. Total time 0.15944 hours\n",
      "Validation at Epoch 10 , AUROC: 0.64512 , AUPRC: 0.61183 , F1: 0.15535\n",
      "Training at Epoch 11 iteration 0 with loss 0.30802. Total time 0.16611 hours\n",
      "Training at Epoch 11 iteration 100 with loss 0.15828. Total time 0.16916 hours\n",
      "Training at Epoch 11 iteration 200 with loss 0.34907. Total time 0.1725 hours\n",
      "Training at Epoch 11 iteration 300 with loss 0.40519. Total time 0.17583 hours\n",
      "Validation at Epoch 11 , AUROC: 0.65082 , AUPRC: 0.61410 , F1: 0.17953\n",
      "--- Go for Testing ---\n",
      "Up to Epoch 10 Testing AUROC: 0.7556630604591829 , AUPRC: 0.7796245803358626 , F1: 0.4862903225806452\n",
      "Training at Epoch 12 iteration 0 with loss 0.22076. Total time 0.18444 hours\n",
      "Training at Epoch 12 iteration 100 with loss 0.26970. Total time 0.18777 hours\n",
      "Training at Epoch 12 iteration 200 with loss 0.34386. Total time 0.19111 hours\n",
      "Training at Epoch 12 iteration 300 with loss 0.26948. Total time 0.19444 hours\n",
      "Validation at Epoch 12 , AUROC: 0.64738 , AUPRC: 0.61273 , F1: 0.09469\n",
      "Training at Epoch 13 iteration 0 with loss 0.24272. Total time 0.20111 hours\n",
      "Training at Epoch 13 iteration 100 with loss 0.37147. Total time 0.20416 hours\n",
      "Training at Epoch 13 iteration 200 with loss 0.31885. Total time 0.2075 hours\n",
      "Training at Epoch 13 iteration 300 with loss 0.20064. Total time 0.21083 hours\n",
      "Validation at Epoch 13 , AUROC: 0.64790 , AUPRC: 0.61541 , F1: 0.04206\n",
      "Training at Epoch 14 iteration 0 with loss 0.22569. Total time 0.2175 hours\n",
      "Training at Epoch 14 iteration 100 with loss 0.26743. Total time 0.22083 hours\n",
      "Training at Epoch 14 iteration 200 with loss 0.14922. Total time 0.22388 hours\n",
      "Training at Epoch 14 iteration 300 with loss 0.16962. Total time 0.22722 hours\n",
      "Validation at Epoch 14 , AUROC: 0.64277 , AUPRC: 0.61212 , F1: 0.41886\n",
      "Training at Epoch 15 iteration 0 with loss 0.32564. Total time 0.23388 hours\n",
      "Training at Epoch 15 iteration 100 with loss 0.13821. Total time 0.23722 hours\n",
      "Training at Epoch 15 iteration 200 with loss 0.24244. Total time 0.24027 hours\n",
      "Training at Epoch 15 iteration 300 with loss 0.27733. Total time 0.24361 hours\n",
      "Validation at Epoch 15 , AUROC: 0.63822 , AUPRC: 0.60803 , F1: 0.10409\n",
      "Training at Epoch 16 iteration 0 with loss 0.15353. Total time 0.25027 hours\n",
      "Training at Epoch 16 iteration 100 with loss 0.19294. Total time 0.25361 hours\n",
      "Training at Epoch 16 iteration 200 with loss 0.19591. Total time 0.25694 hours\n",
      "Training at Epoch 16 iteration 300 with loss 0.35421. Total time 0.26027 hours\n",
      "Validation at Epoch 16 , AUROC: 0.63188 , AUPRC: 0.60320 , F1: 0.16491\n",
      "--- Go for Testing ---\n",
      "Up to Epoch 15 Testing AUROC: 0.7671749868272256 , AUPRC: 0.7980165387083722 , F1: 0.5192231470471661\n",
      "Training at Epoch 17 iteration 0 with loss 0.21617. Total time 0.26944 hours\n",
      "Training at Epoch 17 iteration 100 with loss 0.23624. Total time 0.27277 hours\n",
      "Training at Epoch 17 iteration 200 with loss 0.19050. Total time 0.27611 hours\n",
      "Training at Epoch 17 iteration 300 with loss 0.14020. Total time 0.27944 hours\n",
      "Validation at Epoch 17 , AUROC: 0.63281 , AUPRC: 0.60705 , F1: 0.14930\n",
      "Training at Epoch 18 iteration 0 with loss 0.17325. Total time 0.28638 hours\n",
      "Training at Epoch 18 iteration 100 with loss 0.30997. Total time 0.28972 hours\n",
      "Training at Epoch 18 iteration 200 with loss 0.25273. Total time 0.29305 hours\n",
      "Training at Epoch 18 iteration 300 with loss 0.27267. Total time 0.29638 hours\n",
      "Validation at Epoch 18 , AUROC: 0.62816 , AUPRC: 0.60320 , F1: 0.22811\n",
      "Training at Epoch 19 iteration 0 with loss 0.22834. Total time 0.30333 hours\n",
      "Training at Epoch 19 iteration 100 with loss 0.10546. Total time 0.30666 hours\n",
      "Training at Epoch 19 iteration 200 with loss 0.39717. Total time 0.31 hours\n",
      "Training at Epoch 19 iteration 300 with loss 0.20839. Total time 0.31333 hours\n",
      "Validation at Epoch 19 , AUROC: 0.62398 , AUPRC: 0.60252 , F1: 0.30755\n",
      "Training at Epoch 20 iteration 0 with loss 0.40960. Total time 0.32027 hours\n",
      "Training at Epoch 20 iteration 100 with loss 0.24743. Total time 0.32361 hours\n",
      "Training at Epoch 20 iteration 200 with loss 0.22780. Total time 0.32694 hours\n",
      "Training at Epoch 20 iteration 300 with loss 0.24957. Total time 0.33027 hours\n",
      "Validation at Epoch 20 , AUROC: 0.62032 , AUPRC: 0.60141 , F1: 0.20669\n",
      "Training at Epoch 21 iteration 0 with loss 0.26214. Total time 0.33722 hours\n",
      "Training at Epoch 21 iteration 100 with loss 0.08454. Total time 0.34055 hours\n",
      "Training at Epoch 21 iteration 200 with loss 0.18029. Total time 0.34388 hours\n",
      "Training at Epoch 21 iteration 300 with loss 0.15124. Total time 0.34694 hours\n",
      "Validation at Epoch 21 , AUROC: 0.61482 , AUPRC: 0.59643 , F1: 0.27578\n",
      "--- Go for Testing ---\n",
      "Up to Epoch 20 Testing AUROC: 0.7672091898204496 , AUPRC: 0.8025074956996072 , F1: 0.5960698689956333\n",
      "Training at Epoch 22 iteration 0 with loss 0.20015. Total time 0.35638 hours\n",
      "Training at Epoch 22 iteration 100 with loss 0.24727. Total time 0.35972 hours\n",
      "Training at Epoch 22 iteration 200 with loss 0.19102. Total time 0.36305 hours\n",
      "Training at Epoch 22 iteration 300 with loss 0.22205. Total time 0.36638 hours\n",
      "Validation at Epoch 22 , AUROC: 0.61078 , AUPRC: 0.59525 , F1: 0.27891\n",
      "Training at Epoch 23 iteration 0 with loss 0.15418. Total time 0.37333 hours\n",
      "Training at Epoch 23 iteration 100 with loss 0.12645. Total time 0.37666 hours\n",
      "Training at Epoch 23 iteration 200 with loss 0.04537. Total time 0.38 hours\n",
      "Training at Epoch 23 iteration 300 with loss 0.16956. Total time 0.38333 hours\n",
      "Validation at Epoch 23 , AUROC: 0.60808 , AUPRC: 0.59329 , F1: 0.14688\n",
      "Training at Epoch 24 iteration 0 with loss 0.18987. Total time 0.39027 hours\n",
      "Training at Epoch 24 iteration 100 with loss 0.23708. Total time 0.39361 hours\n",
      "Training at Epoch 24 iteration 200 with loss 0.11117. Total time 0.39694 hours\n",
      "Training at Epoch 24 iteration 300 with loss 0.19139. Total time 0.40027 hours\n",
      "Validation at Epoch 24 , AUROC: 0.60733 , AUPRC: 0.59134 , F1: 0.22544\n",
      "Training at Epoch 25 iteration 0 with loss 0.14142. Total time 0.40722 hours\n",
      "Training at Epoch 25 iteration 100 with loss 0.19811. Total time 0.41055 hours\n",
      "Training at Epoch 25 iteration 200 with loss 0.03002. Total time 0.41388 hours\n",
      "Training at Epoch 25 iteration 300 with loss 0.24775. Total time 0.41722 hours\n",
      "Validation at Epoch 25 , AUROC: 0.60496 , AUPRC: 0.58956 , F1: 0.17404\n",
      "Training at Epoch 26 iteration 0 with loss 0.07841. Total time 0.42416 hours\n",
      "Training at Epoch 26 iteration 100 with loss 0.09001. Total time 0.4275 hours\n",
      "Training at Epoch 26 iteration 200 with loss 0.20391. Total time 0.43083 hours\n",
      "Training at Epoch 26 iteration 300 with loss 0.03702. Total time 0.43416 hours\n",
      "Validation at Epoch 26 , AUROC: 0.60473 , AUPRC: 0.58999 , F1: 0.21137\n",
      "--- Go for Testing ---\n",
      "Up to Epoch 25 Testing AUROC: 0.7709733678855464 , AUPRC: 0.8072388503637233 , F1: 0.5793829947328819\n",
      "Training at Epoch 27 iteration 0 with loss 0.06740. Total time 0.44333 hours\n",
      "Training at Epoch 27 iteration 100 with loss 0.32626. Total time 0.44666 hours\n",
      "Training at Epoch 27 iteration 200 with loss 0.29966. Total time 0.45 hours\n",
      "Validation at Epoch 27 , AUROC: 0.60555 , AUPRC: 0.59242 , F1: 0.22534\n",
      "Training at Epoch 28 iteration 0 with loss 0.11195. Total time 0.46027 hours\n",
      "Training at Epoch 28 iteration 100 with loss 0.12484. Total time 0.46361 hours\n",
      "Training at Epoch 28 iteration 200 with loss 0.15044. Total time 0.46694 hours\n",
      "Training at Epoch 28 iteration 300 with loss 0.07265. Total time 0.47027 hours\n",
      "Validation at Epoch 28 , AUROC: 0.60177 , AUPRC: 0.58845 , F1: 0.16460\n",
      "Training at Epoch 29 iteration 0 with loss 0.17196. Total time 0.47722 hours\n",
      "Training at Epoch 29 iteration 100 with loss 0.22777. Total time 0.48055 hours\n",
      "Training at Epoch 29 iteration 200 with loss 0.07759. Total time 0.48388 hours\n",
      "Training at Epoch 29 iteration 300 with loss 0.16838. Total time 0.48722 hours\n",
      "Validation at Epoch 29 , AUROC: 0.59964 , AUPRC: 0.58806 , F1: 0.26869\n",
      "Training at Epoch 30 iteration 0 with loss 0.09194. Total time 0.49416 hours\n",
      "Training at Epoch 30 iteration 100 with loss 0.13312. Total time 0.4975 hours\n",
      "Training at Epoch 30 iteration 200 with loss 0.10537. Total time 0.50083 hours\n",
      "Training at Epoch 30 iteration 300 with loss 0.21355. Total time 0.50416 hours\n",
      "Validation at Epoch 30 , AUROC: 0.59689 , AUPRC: 0.58739 , F1: 0.14959\n",
      "--- Go for Testing ---\n",
      "Testing AUROC: 0.7658470787254301 , AUPRC: 0.8048786226356978 , F1: 0.5352335708630246\n",
      "--- Training Finished ---\n",
      "predicting...\n",
      "predicting...\n",
      "Results Saved\n",
      "in total: 15660 drug-target pairs\n",
      "encoding drug...\n",
      "unique drugs: 3603\n",
      "rdkit not found this smiles for morgan: nan convert to all 1 features\n"
     ]
    },
    {
     "name": "stderr",
     "output_type": "stream",
     "text": [
      "RDKit WARNING: [09:18:01] Conflicting single bond directions around double bond at index 1.\n",
      "RDKit WARNING: [09:18:01]   BondStereo set to STEREONONE and single bond directions set to NONE.\n"
     ]
    },
    {
     "name": "stdout",
     "output_type": "stream",
     "text": [
      "drug encoding finished...\n",
      "encoding protein...\n",
      "unique target sequence: 3184\n",
      "protein encoding finished...\n",
      "splitting dataset...\n",
      "Done.\n",
      "in total: 6184 drug-target pairs\n",
      "encoding drug...\n",
      "unique drugs: 2657\n",
      "rdkit not found this smiles for morgan: nan convert to all 1 features\n",
      "drug encoding finished...\n",
      "encoding protein...\n",
      "unique target sequence: 924\n",
      "protein encoding finished...\n",
      "splitting dataset...\n",
      "Done.\n",
      "in total: 3785 drug-target pairs\n",
      "encoding drug...\n",
      "unique drugs: 2223\n",
      "rdkit not found this smiles for morgan: nan convert to all 1 features\n",
      "drug encoding finished...\n",
      "encoding protein...\n",
      "unique target sequence: 1580\n",
      "protein encoding finished...\n",
      "splitting dataset...\n",
      "Done.\n",
      "Let's use 1 GPU!\n",
      "--- Data Preparation ---\n",
      "--- Go for Training ---\n",
      "Training at Epoch 1 iteration 0 with loss 0.70587. Total time 0.0 hours\n",
      "Training at Epoch 1 iteration 100 with loss 0.65243. Total time 0.00333 hours\n",
      "Training at Epoch 1 iteration 200 with loss 0.55824. Total time 0.00666 hours\n",
      "Training at Epoch 1 iteration 300 with loss 0.46374. Total time 0.01 hours\n",
      "Training at Epoch 1 iteration 400 with loss 0.62540. Total time 0.01333 hours\n",
      "Validation at Epoch 1 , AUROC: 0.49110 , AUPRC: 0.43609 , F1: 0.0\n",
      "Training at Epoch 2 iteration 0 with loss 0.42861. Total time 0.02 hours\n",
      "Training at Epoch 2 iteration 100 with loss 0.59886. Total time 0.02333 hours\n",
      "Training at Epoch 2 iteration 200 with loss 0.52782. Total time 0.02666 hours\n",
      "Training at Epoch 2 iteration 300 with loss 0.56631. Total time 0.03 hours\n",
      "Training at Epoch 2 iteration 400 with loss 0.66868. Total time 0.03333 hours\n",
      "Validation at Epoch 2 , AUROC: 0.50244 , AUPRC: 0.44428 , F1: 0.0\n",
      "Training at Epoch 3 iteration 0 with loss 0.39925. Total time 0.04027 hours\n",
      "Training at Epoch 3 iteration 100 with loss 0.41206. Total time 0.04361 hours\n",
      "Training at Epoch 3 iteration 200 with loss 0.42515. Total time 0.04694 hours\n",
      "Training at Epoch 3 iteration 300 with loss 0.66961. Total time 0.05027 hours\n",
      "Training at Epoch 3 iteration 400 with loss 0.61044. Total time 0.05333 hours\n",
      "Validation at Epoch 3 , AUROC: 0.51510 , AUPRC: 0.45437 , F1: 0.0\n",
      "Training at Epoch 4 iteration 0 with loss 0.55276. Total time 0.06027 hours\n",
      "Training at Epoch 4 iteration 100 with loss 0.55388. Total time 0.06361 hours\n",
      "Training at Epoch 4 iteration 200 with loss 0.43131. Total time 0.06694 hours\n",
      "Training at Epoch 4 iteration 300 with loss 0.57479. Total time 0.07027 hours\n",
      "Training at Epoch 4 iteration 400 with loss 0.58864. Total time 0.07361 hours\n",
      "Validation at Epoch 4 , AUROC: 0.52052 , AUPRC: 0.45833 , F1: 0.0\n",
      "Training at Epoch 5 iteration 0 with loss 0.61552. Total time 0.08027 hours\n",
      "Training at Epoch 5 iteration 100 with loss 0.39977. Total time 0.08361 hours\n",
      "Training at Epoch 5 iteration 200 with loss 0.56525. Total time 0.08694 hours\n",
      "Training at Epoch 5 iteration 300 with loss 0.48873. Total time 0.09027 hours\n",
      "Training at Epoch 5 iteration 400 with loss 0.46320. Total time 0.09361 hours\n",
      "Validation at Epoch 5 , AUROC: 0.53019 , AUPRC: 0.46765 , F1: 0.0\n",
      "Training at Epoch 6 iteration 0 with loss 0.71972. Total time 0.10055 hours\n",
      "Training at Epoch 6 iteration 100 with loss 0.58563. Total time 0.10388 hours\n",
      "Training at Epoch 6 iteration 200 with loss 0.36214. Total time 0.10722 hours\n",
      "Training at Epoch 6 iteration 300 with loss 0.45529. Total time 0.11055 hours\n",
      "Training at Epoch 6 iteration 400 with loss 0.55405. Total time 0.11388 hours\n",
      "Validation at Epoch 6 , AUROC: 0.57028 , AUPRC: 0.50591 , F1: 0.00939\n",
      "--- Go for Testing ---\n",
      "Up to Epoch 5 Testing AUROC: 0.6047176117582607 , AUPRC: 0.6075791350056643 , F1: 0.05260443527591542\n",
      "Training at Epoch 7 iteration 0 with loss 0.51363. Total time 0.12305 hours\n",
      "Training at Epoch 7 iteration 100 with loss 0.55139. Total time 0.12638 hours\n",
      "Training at Epoch 7 iteration 200 with loss 0.45763. Total time 0.12972 hours\n",
      "Training at Epoch 7 iteration 300 with loss 0.39345. Total time 0.13305 hours\n",
      "Training at Epoch 7 iteration 400 with loss 0.52501. Total time 0.13638 hours\n",
      "Validation at Epoch 7 , AUROC: 0.64670 , AUPRC: 0.57745 , F1: 0.19819\n",
      "Training at Epoch 8 iteration 0 with loss 0.39263. Total time 0.14333 hours\n",
      "Training at Epoch 8 iteration 100 with loss 0.29997. Total time 0.14666 hours\n",
      "Training at Epoch 8 iteration 200 with loss 0.34964. Total time 0.15 hours\n",
      "Training at Epoch 8 iteration 300 with loss 0.34599. Total time 0.15333 hours\n",
      "Training at Epoch 8 iteration 400 with loss 0.49332. Total time 0.15666 hours\n",
      "Validation at Epoch 8 , AUROC: 0.68480 , AUPRC: 0.61733 , F1: 0.08558\n",
      "Training at Epoch 9 iteration 0 with loss 0.32901. Total time 0.16361 hours\n",
      "Training at Epoch 9 iteration 100 with loss 0.26260. Total time 0.16666 hours\n",
      "Training at Epoch 9 iteration 200 with loss 0.48529. Total time 0.17 hours\n",
      "Training at Epoch 9 iteration 300 with loss 0.42940. Total time 0.17333 hours\n",
      "Training at Epoch 9 iteration 400 with loss 0.21357. Total time 0.17666 hours\n",
      "Validation at Epoch 9 , AUROC: 0.69730 , AUPRC: 0.62302 , F1: 0.28279\n",
      "Training at Epoch 10 iteration 0 with loss 0.29525. Total time 0.18361 hours\n",
      "Training at Epoch 10 iteration 100 with loss 0.16758. Total time 0.18694 hours\n",
      "Training at Epoch 10 iteration 200 with loss 0.19558. Total time 0.19027 hours\n",
      "Training at Epoch 10 iteration 300 with loss 0.34226. Total time 0.19361 hours\n",
      "Training at Epoch 10 iteration 400 with loss 0.25868. Total time 0.19694 hours\n",
      "Validation at Epoch 10 , AUROC: 0.69123 , AUPRC: 0.61518 , F1: 0.30664\n",
      "Training at Epoch 11 iteration 0 with loss 0.24261. Total time 0.20388 hours\n",
      "Training at Epoch 11 iteration 100 with loss 0.28703. Total time 0.20722 hours\n",
      "Training at Epoch 11 iteration 200 with loss 0.31511. Total time 0.21055 hours\n",
      "Training at Epoch 11 iteration 300 with loss 0.39485. Total time 0.21388 hours\n",
      "Training at Epoch 11 iteration 400 with loss 0.27355. Total time 0.21722 hours\n",
      "Validation at Epoch 11 , AUROC: 0.69057 , AUPRC: 0.61950 , F1: 0.24111\n",
      "--- Go for Testing ---\n",
      "Up to Epoch 10 Testing AUROC: 0.7979304429116875 , AUPRC: 0.8234979947025687 , F1: 0.57007299270073\n",
      "Training at Epoch 12 iteration 0 with loss 0.24932. Total time 0.22638 hours\n",
      "Training at Epoch 12 iteration 100 with loss 0.28389. Total time 0.22972 hours\n",
      "Training at Epoch 12 iteration 200 with loss 0.23451. Total time 0.23305 hours\n",
      "Training at Epoch 12 iteration 300 with loss 0.19475. Total time 0.23638 hours\n",
      "Training at Epoch 12 iteration 400 with loss 0.21376. Total time 0.23972 hours\n",
      "Validation at Epoch 12 , AUROC: 0.68362 , AUPRC: 0.60931 , F1: 0.13452\n",
      "Training at Epoch 13 iteration 0 with loss 0.19701. Total time 0.24666 hours\n",
      "Training at Epoch 13 iteration 100 with loss 0.23221. Total time 0.25 hours\n",
      "Training at Epoch 13 iteration 200 with loss 0.22003. Total time 0.25333 hours\n",
      "Training at Epoch 13 iteration 300 with loss 0.20389. Total time 0.25666 hours\n",
      "Training at Epoch 13 iteration 400 with loss 0.11679. Total time 0.26 hours\n",
      "Validation at Epoch 13 , AUROC: 0.68259 , AUPRC: 0.60995 , F1: 0.23340\n",
      "Training at Epoch 14 iteration 0 with loss 0.18438. Total time 0.26694 hours\n",
      "Training at Epoch 14 iteration 100 with loss 0.27040. Total time 0.27027 hours\n",
      "Training at Epoch 14 iteration 200 with loss 0.52211. Total time 0.27361 hours\n",
      "Training at Epoch 14 iteration 300 with loss 0.16803. Total time 0.27694 hours\n",
      "Training at Epoch 14 iteration 400 with loss 0.26744. Total time 0.28027 hours\n",
      "Validation at Epoch 14 , AUROC: 0.66533 , AUPRC: 0.59485 , F1: 0.10608\n",
      "Training at Epoch 15 iteration 0 with loss 0.43762. Total time 0.28694 hours\n",
      "Training at Epoch 15 iteration 100 with loss 0.10347. Total time 0.29027 hours\n",
      "Training at Epoch 15 iteration 200 with loss 0.21054. Total time 0.29361 hours\n",
      "Training at Epoch 15 iteration 300 with loss 0.19057. Total time 0.29694 hours\n",
      "Training at Epoch 15 iteration 400 with loss 0.09239. Total time 0.30027 hours\n",
      "Validation at Epoch 15 , AUROC: 0.66608 , AUPRC: 0.59399 , F1: 0.34911\n",
      "Training at Epoch 16 iteration 0 with loss 0.20002. Total time 0.30694 hours\n",
      "Training at Epoch 16 iteration 100 with loss 0.14726. Total time 0.31027 hours\n",
      "Training at Epoch 16 iteration 200 with loss 0.23079. Total time 0.31361 hours\n",
      "Training at Epoch 16 iteration 300 with loss 0.35468. Total time 0.31694 hours\n",
      "Training at Epoch 16 iteration 400 with loss 0.36931. Total time 0.32027 hours\n",
      "Validation at Epoch 16 , AUROC: 0.66187 , AUPRC: 0.59098 , F1: 0.17235\n",
      "--- Go for Testing ---\n",
      "Up to Epoch 15 Testing AUROC: 0.8006029018140108 , AUPRC: 0.8303745905420855 , F1: 0.5713229859571324\n",
      "Training at Epoch 17 iteration 0 with loss 0.14672. Total time 0.32972 hours\n",
      "Training at Epoch 17 iteration 100 with loss 0.32471. Total time 0.33305 hours\n",
      "Training at Epoch 17 iteration 200 with loss 0.08414. Total time 0.33638 hours\n",
      "Training at Epoch 17 iteration 300 with loss 0.13142. Total time 0.33972 hours\n",
      "Training at Epoch 17 iteration 400 with loss 0.15912. Total time 0.34305 hours\n",
      "Validation at Epoch 17 , AUROC: 0.65376 , AUPRC: 0.58388 , F1: 0.11961\n",
      "Training at Epoch 18 iteration 0 with loss 0.42848. Total time 0.35055 hours\n",
      "Training at Epoch 18 iteration 100 with loss 0.15101. Total time 0.35361 hours\n",
      "Training at Epoch 18 iteration 200 with loss 0.16890. Total time 0.35694 hours\n",
      "Training at Epoch 18 iteration 300 with loss 0.14068. Total time 0.36027 hours\n",
      "Training at Epoch 18 iteration 400 with loss 0.15092. Total time 0.36361 hours\n",
      "Validation at Epoch 18 , AUROC: 0.64892 , AUPRC: 0.57894 , F1: 0.25625\n",
      "Training at Epoch 19 iteration 0 with loss 0.33673. Total time 0.37055 hours\n",
      "Training at Epoch 19 iteration 100 with loss 0.13489. Total time 0.37388 hours\n",
      "Training at Epoch 19 iteration 200 with loss 0.11117. Total time 0.37722 hours\n",
      "Training at Epoch 19 iteration 300 with loss 0.12409. Total time 0.38055 hours\n",
      "Training at Epoch 19 iteration 400 with loss 0.15721. Total time 0.38388 hours\n",
      "Validation at Epoch 19 , AUROC: 0.64418 , AUPRC: 0.57308 , F1: 0.30632\n",
      "Training at Epoch 20 iteration 0 with loss 0.19165. Total time 0.39055 hours\n",
      "Training at Epoch 20 iteration 100 with loss 0.17946. Total time 0.39388 hours\n",
      "Training at Epoch 20 iteration 200 with loss 0.36878. Total time 0.39722 hours\n",
      "Training at Epoch 20 iteration 300 with loss 0.15779. Total time 0.40055 hours\n",
      "Training at Epoch 20 iteration 400 with loss 0.24288. Total time 0.40388 hours\n",
      "Validation at Epoch 20 , AUROC: 0.63940 , AUPRC: 0.57209 , F1: 0.11752\n",
      "Training at Epoch 21 iteration 0 with loss 0.15302. Total time 0.41083 hours\n",
      "Training at Epoch 21 iteration 100 with loss 0.34970. Total time 0.41416 hours\n",
      "Training at Epoch 21 iteration 200 with loss 0.10116. Total time 0.4175 hours\n",
      "Training at Epoch 21 iteration 300 with loss 0.25277. Total time 0.42083 hours\n",
      "Training at Epoch 21 iteration 400 with loss 0.12588. Total time 0.42416 hours\n",
      "Validation at Epoch 21 , AUROC: 0.63725 , AUPRC: 0.56837 , F1: 0.21502\n",
      "--- Go for Testing ---\n",
      "Up to Epoch 20 Testing AUROC: 0.7926737600890839 , AUPRC: 0.8262513159907473 , F1: 0.596854896354539\n",
      "Training at Epoch 22 iteration 0 with loss 0.09507. Total time 0.43333 hours\n",
      "Training at Epoch 22 iteration 100 with loss 0.09084. Total time 0.43666 hours\n",
      "Training at Epoch 22 iteration 200 with loss 0.05870. Total time 0.44 hours\n",
      "Training at Epoch 22 iteration 300 with loss 0.10982. Total time 0.44333 hours\n",
      "Training at Epoch 22 iteration 400 with loss 0.19602. Total time 0.44666 hours\n",
      "Validation at Epoch 22 , AUROC: 0.63844 , AUPRC: 0.56863 , F1: 0.23599\n",
      "Training at Epoch 23 iteration 0 with loss 0.11688. Total time 0.45361 hours\n",
      "Training at Epoch 23 iteration 100 with loss 0.09198. Total time 0.45694 hours\n",
      "Training at Epoch 23 iteration 200 with loss 0.09003. Total time 0.46027 hours\n",
      "Training at Epoch 23 iteration 300 with loss 0.12303. Total time 0.46361 hours\n",
      "Training at Epoch 23 iteration 400 with loss 0.14097. Total time 0.46694 hours\n",
      "Validation at Epoch 23 , AUROC: 0.63271 , AUPRC: 0.56458 , F1: 0.14457\n",
      "Training at Epoch 24 iteration 0 with loss 0.26851. Total time 0.47361 hours\n",
      "Training at Epoch 24 iteration 100 with loss 0.04793. Total time 0.47694 hours\n",
      "Training at Epoch 24 iteration 200 with loss 0.18414. Total time 0.48027 hours\n",
      "Training at Epoch 24 iteration 300 with loss 0.14988. Total time 0.48361 hours\n",
      "Training at Epoch 24 iteration 400 with loss 0.14635. Total time 0.48694 hours\n",
      "Validation at Epoch 24 , AUROC: 0.63246 , AUPRC: 0.56147 , F1: 0.24557\n",
      "Training at Epoch 25 iteration 0 with loss 0.13422. Total time 0.49388 hours\n",
      "Training at Epoch 25 iteration 100 with loss 0.03453. Total time 0.49722 hours\n",
      "Training at Epoch 25 iteration 200 with loss 0.21902. Total time 0.50055 hours\n",
      "Training at Epoch 25 iteration 300 with loss 0.14467. Total time 0.50388 hours\n",
      "Training at Epoch 25 iteration 400 with loss 0.04537. Total time 0.50722 hours\n",
      "Validation at Epoch 25 , AUROC: 0.62866 , AUPRC: 0.56222 , F1: 0.33342\n",
      "Training at Epoch 26 iteration 0 with loss 0.10766. Total time 0.51388 hours\n",
      "Training at Epoch 26 iteration 100 with loss 0.11029. Total time 0.51722 hours\n",
      "Training at Epoch 26 iteration 200 with loss 0.09656. Total time 0.52055 hours\n",
      "Training at Epoch 26 iteration 300 with loss 0.14389. Total time 0.52388 hours\n",
      "Training at Epoch 26 iteration 400 with loss 0.31106. Total time 0.52722 hours\n",
      "Validation at Epoch 26 , AUROC: 0.63066 , AUPRC: 0.56096 , F1: 0.23662\n",
      "--- Go for Testing ---\n",
      "Up to Epoch 25 Testing AUROC: 0.7886998352016253 , AUPRC: 0.8238833061044475 , F1: 0.6059322033898306\n",
      "Training at Epoch 27 iteration 0 with loss 0.07301. Total time 0.53666 hours\n",
      "Training at Epoch 27 iteration 100 with loss 0.20057. Total time 0.54 hours\n",
      "Training at Epoch 27 iteration 200 with loss 0.07888. Total time 0.54333 hours\n",
      "Training at Epoch 27 iteration 300 with loss 0.08491. Total time 0.54666 hours\n",
      "Training at Epoch 27 iteration 400 with loss 0.26273. Total time 0.55 hours\n",
      "Validation at Epoch 27 , AUROC: 0.62966 , AUPRC: 0.56135 , F1: 0.24054\n",
      "Training at Epoch 28 iteration 0 with loss 0.06923. Total time 0.55666 hours\n",
      "Training at Epoch 28 iteration 100 with loss 0.07623. Total time 0.56 hours\n",
      "Training at Epoch 28 iteration 200 with loss 0.13140. Total time 0.56333 hours\n",
      "Training at Epoch 28 iteration 300 with loss 0.07631. Total time 0.56666 hours\n",
      "Training at Epoch 28 iteration 400 with loss 0.13022. Total time 0.57 hours\n",
      "Validation at Epoch 28 , AUROC: 0.62750 , AUPRC: 0.55834 , F1: 0.16363\n",
      "Training at Epoch 29 iteration 0 with loss 0.02826. Total time 0.5775 hours\n",
      "Training at Epoch 29 iteration 100 with loss 0.08993. Total time 0.58083 hours\n",
      "Training at Epoch 29 iteration 200 with loss 0.04273. Total time 0.58416 hours\n",
      "Training at Epoch 29 iteration 300 with loss 0.20014. Total time 0.5875 hours\n",
      "Training at Epoch 29 iteration 400 with loss 0.16785. Total time 0.59083 hours\n",
      "Validation at Epoch 29 , AUROC: 0.62668 , AUPRC: 0.55865 , F1: 0.25853\n",
      "Training at Epoch 30 iteration 0 with loss 0.08573. Total time 0.59833 hours\n",
      "Training at Epoch 30 iteration 100 with loss 0.10302. Total time 0.60166 hours\n",
      "Training at Epoch 30 iteration 200 with loss 0.04576. Total time 0.605 hours\n",
      "Training at Epoch 30 iteration 300 with loss 0.19040. Total time 0.60833 hours\n",
      "Training at Epoch 30 iteration 400 with loss 0.06794. Total time 0.61166 hours\n",
      "Validation at Epoch 30 , AUROC: 0.61921 , AUPRC: 0.55395 , F1: 0.17300\n",
      "--- Go for Testing ---\n",
      "Testing AUROC: 0.7880128030075844 , AUPRC: 0.8245296917925923 , F1: 0.5761467889908257\n",
      "--- Training Finished ---\n",
      "predicting...\n",
      "predicting...\n",
      "Results Saved\n",
      "in total: 10547 drug-target pairs\n",
      "encoding drug...\n",
      "unique drugs: 2420\n",
      "rdkit not found this smiles for morgan: nan convert to all 1 features\n",
      "drug encoding finished...\n",
      "encoding protein...\n",
      "unique target sequence: 2965\n",
      "protein encoding finished...\n",
      "splitting dataset...\n",
      "Done.\n",
      "in total: 6435 drug-target pairs\n",
      "encoding drug...\n",
      "unique drugs: 3444\n",
      "rdkit not found this smiles for morgan: nan convert to all 1 features\n"
     ]
    },
    {
     "name": "stderr",
     "output_type": "stream",
     "text": [
      "RDKit WARNING: [09:55:53] Conflicting single bond directions around double bond at index 1.\n",
      "RDKit WARNING: [09:55:53]   BondStereo set to STEREONONE and single bond directions set to NONE.\n"
     ]
    },
    {
     "name": "stdout",
     "output_type": "stream",
     "text": [
      "drug encoding finished...\n",
      "encoding protein...\n",
      "unique target sequence: 902\n",
      "protein encoding finished...\n",
      "splitting dataset...\n",
      "Done.\n",
      "in total: 3710 drug-target pairs\n",
      "encoding drug...\n",
      "unique drugs: 2091\n",
      "rdkit not found this smiles for morgan: nan convert to all 1 features\n",
      "drug encoding finished...\n",
      "encoding protein...\n",
      "unique target sequence: 1661\n",
      "protein encoding finished...\n",
      "splitting dataset...\n",
      "Done.\n",
      "Let's use 1 GPU!\n",
      "--- Data Preparation ---\n",
      "--- Go for Training ---\n",
      "Training at Epoch 1 iteration 0 with loss 0.68239. Total time 0.0 hours\n",
      "Training at Epoch 1 iteration 100 with loss 0.64882. Total time 0.00333 hours\n",
      "Training at Epoch 1 iteration 200 with loss 0.64838. Total time 0.00666 hours\n",
      "Training at Epoch 1 iteration 300 with loss 0.38395. Total time 0.01 hours\n",
      "Validation at Epoch 1 , AUROC: 0.50250 , AUPRC: 0.46930 , F1: 0.0\n",
      "Training at Epoch 2 iteration 0 with loss 0.53807. Total time 0.015 hours\n",
      "Training at Epoch 2 iteration 100 with loss 0.56822. Total time 0.01833 hours\n",
      "Training at Epoch 2 iteration 200 with loss 0.52499. Total time 0.02166 hours\n",
      "Training at Epoch 2 iteration 300 with loss 0.49517. Total time 0.025 hours\n",
      "Validation at Epoch 2 , AUROC: 0.51137 , AUPRC: 0.48934 , F1: 0.0\n",
      "Training at Epoch 3 iteration 0 with loss 0.48904. Total time 0.03 hours\n",
      "Training at Epoch 3 iteration 100 with loss 0.76093. Total time 0.03333 hours\n",
      "Training at Epoch 3 iteration 200 with loss 0.62276. Total time 0.03666 hours\n",
      "Training at Epoch 3 iteration 300 with loss 0.62937. Total time 0.04 hours\n",
      "Validation at Epoch 3 , AUROC: 0.52164 , AUPRC: 0.50433 , F1: 0.0\n",
      "Training at Epoch 4 iteration 0 with loss 0.53212. Total time 0.045 hours\n",
      "Training at Epoch 4 iteration 100 with loss 0.57034. Total time 0.04833 hours\n",
      "Training at Epoch 4 iteration 200 with loss 0.64351. Total time 0.05166 hours\n",
      "Training at Epoch 4 iteration 300 with loss 0.68653. Total time 0.055 hours\n",
      "Validation at Epoch 4 , AUROC: 0.52106 , AUPRC: 0.50324 , F1: 0.0\n",
      "Training at Epoch 5 iteration 0 with loss 0.62009. Total time 0.06027 hours\n",
      "Training at Epoch 5 iteration 100 with loss 0.46334. Total time 0.06361 hours\n",
      "Training at Epoch 5 iteration 200 with loss 0.55256. Total time 0.06694 hours\n",
      "Training at Epoch 5 iteration 300 with loss 0.47744. Total time 0.07 hours\n",
      "Validation at Epoch 5 , AUROC: 0.51740 , AUPRC: 0.49931 , F1: 0.0\n",
      "Training at Epoch 6 iteration 0 with loss 0.57325. Total time 0.07527 hours\n",
      "Training at Epoch 6 iteration 100 with loss 0.60821. Total time 0.07861 hours\n",
      "Training at Epoch 6 iteration 200 with loss 0.73753. Total time 0.08194 hours\n",
      "Validation at Epoch 6 , AUROC: 0.52580 , AUPRC: 0.50403 , F1: 0.00723\n",
      "--- Go for Testing ---\n",
      "Up to Epoch 5 Testing AUROC: 0.5591639405057522 , AUPRC: 0.552422190360204 , F1: 0.013993541442411194\n",
      "Training at Epoch 7 iteration 0 with loss 0.38336. Total time 0.09277 hours\n",
      "Training at Epoch 7 iteration 100 with loss 0.57003. Total time 0.09611 hours\n",
      "Training at Epoch 7 iteration 200 with loss 0.57907. Total time 0.09944 hours\n",
      "Training at Epoch 7 iteration 300 with loss 0.41235. Total time 0.10277 hours\n",
      "Validation at Epoch 7 , AUROC: 0.54065 , AUPRC: 0.51253 , F1: 0.09207\n",
      "Training at Epoch 8 iteration 0 with loss 0.45690. Total time 0.10777 hours\n",
      "Training at Epoch 8 iteration 100 with loss 0.46037. Total time 0.11111 hours\n",
      "Training at Epoch 8 iteration 200 with loss 0.46865. Total time 0.11444 hours\n",
      "Training at Epoch 8 iteration 300 with loss 0.55470. Total time 0.11777 hours\n",
      "Validation at Epoch 8 , AUROC: 0.55210 , AUPRC: 0.51958 , F1: 0.11722\n",
      "Training at Epoch 9 iteration 0 with loss 0.51179. Total time 0.12277 hours\n",
      "Training at Epoch 9 iteration 100 with loss 0.31005. Total time 0.12611 hours\n",
      "Training at Epoch 9 iteration 200 with loss 0.57183. Total time 0.12944 hours\n",
      "Training at Epoch 9 iteration 300 with loss 0.44986. Total time 0.13277 hours\n",
      "Validation at Epoch 9 , AUROC: 0.57359 , AUPRC: 0.53214 , F1: 0.16036\n",
      "Training at Epoch 10 iteration 0 with loss 0.41036. Total time 0.13777 hours\n",
      "Training at Epoch 10 iteration 100 with loss 0.40439. Total time 0.14111 hours\n",
      "Training at Epoch 10 iteration 200 with loss 0.44649. Total time 0.14444 hours\n",
      "Training at Epoch 10 iteration 300 with loss 0.57364. Total time 0.14777 hours\n",
      "Validation at Epoch 10 , AUROC: 0.59278 , AUPRC: 0.54346 , F1: 0.05058\n",
      "Training at Epoch 11 iteration 0 with loss 0.57588. Total time 0.15277 hours\n",
      "Training at Epoch 11 iteration 100 with loss 0.34079. Total time 0.15611 hours\n",
      "Training at Epoch 11 iteration 200 with loss 0.40570. Total time 0.15944 hours\n",
      "Training at Epoch 11 iteration 300 with loss 0.30984. Total time 0.16277 hours\n",
      "Validation at Epoch 11 , AUROC: 0.61102 , AUPRC: 0.55561 , F1: 0.09497\n",
      "--- Go for Testing ---\n",
      "Up to Epoch 10 Testing AUROC: 0.7153370674181339 , AUPRC: 0.7233373150954662 , F1: 0.3035473731477324\n",
      "Training at Epoch 12 iteration 0 with loss 0.42642. Total time 0.17055 hours\n",
      "Training at Epoch 12 iteration 100 with loss 0.28117. Total time 0.17361 hours\n",
      "Training at Epoch 12 iteration 200 with loss 0.40882. Total time 0.17694 hours\n",
      "Training at Epoch 12 iteration 300 with loss 0.53007. Total time 0.18027 hours\n",
      "Validation at Epoch 12 , AUROC: 0.62434 , AUPRC: 0.56757 , F1: 0.15500\n",
      "Training at Epoch 13 iteration 0 with loss 0.33397. Total time 0.18555 hours\n",
      "Training at Epoch 13 iteration 100 with loss 0.33466. Total time 0.18861 hours\n",
      "Training at Epoch 13 iteration 200 with loss 0.45417. Total time 0.19194 hours\n",
      "Training at Epoch 13 iteration 300 with loss 0.32116. Total time 0.19527 hours\n",
      "Validation at Epoch 13 , AUROC: 0.63610 , AUPRC: 0.58080 , F1: 0.32973\n",
      "Training at Epoch 14 iteration 0 with loss 0.25306. Total time 0.20055 hours\n",
      "Training at Epoch 14 iteration 100 with loss 0.31129. Total time 0.20361 hours\n",
      "Training at Epoch 14 iteration 200 with loss 0.36240. Total time 0.20694 hours\n",
      "Training at Epoch 14 iteration 300 with loss 0.24238. Total time 0.21027 hours\n",
      "Validation at Epoch 14 , AUROC: 0.63660 , AUPRC: 0.58069 , F1: 0.23392\n",
      "Training at Epoch 15 iteration 0 with loss 0.31110. Total time 0.21555 hours\n",
      "Training at Epoch 15 iteration 100 with loss 0.38149. Total time 0.21888 hours\n",
      "Training at Epoch 15 iteration 200 with loss 0.31009. Total time 0.22222 hours\n",
      "Training at Epoch 15 iteration 300 with loss 0.39093. Total time 0.22527 hours\n",
      "Validation at Epoch 15 , AUROC: 0.63781 , AUPRC: 0.58468 , F1: 0.09914\n",
      "Training at Epoch 16 iteration 0 with loss 0.15208. Total time 0.23055 hours\n",
      "Training at Epoch 16 iteration 100 with loss 0.27860. Total time 0.23388 hours\n",
      "Training at Epoch 16 iteration 200 with loss 0.27553. Total time 0.23722 hours\n",
      "Training at Epoch 16 iteration 300 with loss 0.54831. Total time 0.24055 hours\n",
      "Validation at Epoch 16 , AUROC: 0.63593 , AUPRC: 0.58224 , F1: 0.22484\n",
      "--- Go for Testing ---\n",
      "Up to Epoch 15 Testing AUROC: 0.773744047785125 , AUPRC: 0.7976217166401032 , F1: 0.5281155015197568\n",
      "Training at Epoch 17 iteration 0 with loss 0.13835. Total time 0.24805 hours\n",
      "Training at Epoch 17 iteration 100 with loss 0.10559. Total time 0.25138 hours\n",
      "Training at Epoch 17 iteration 200 with loss 0.44894. Total time 0.25472 hours\n",
      "Training at Epoch 17 iteration 300 with loss 0.23682. Total time 0.25805 hours\n",
      "Validation at Epoch 17 , AUROC: 0.63563 , AUPRC: 0.58477 , F1: 0.34827\n",
      "Training at Epoch 18 iteration 0 with loss 0.23672. Total time 0.26305 hours\n",
      "Training at Epoch 18 iteration 100 with loss 0.17205. Total time 0.26638 hours\n",
      "Training at Epoch 18 iteration 200 with loss 0.19603. Total time 0.26972 hours\n",
      "Training at Epoch 18 iteration 300 with loss 0.08802. Total time 0.27305 hours\n",
      "Validation at Epoch 18 , AUROC: 0.63122 , AUPRC: 0.58011 , F1: 0.23577\n",
      "Training at Epoch 19 iteration 0 with loss 0.15741. Total time 0.27861 hours\n",
      "Training at Epoch 19 iteration 100 with loss 0.25167. Total time 0.28194 hours\n",
      "Training at Epoch 19 iteration 200 with loss 0.24952. Total time 0.28527 hours\n",
      "Training at Epoch 19 iteration 300 with loss 0.33968. Total time 0.28861 hours\n",
      "Validation at Epoch 19 , AUROC: 0.63068 , AUPRC: 0.58162 , F1: 0.20575\n",
      "Training at Epoch 20 iteration 0 with loss 0.26396. Total time 0.29416 hours\n",
      "Training at Epoch 20 iteration 100 with loss 0.19156. Total time 0.2975 hours\n",
      "Training at Epoch 20 iteration 200 with loss 0.16998. Total time 0.30083 hours\n",
      "Training at Epoch 20 iteration 300 with loss 0.14485. Total time 0.30416 hours\n",
      "Validation at Epoch 20 , AUROC: 0.62772 , AUPRC: 0.57778 , F1: 0.22087\n",
      "Training at Epoch 21 iteration 0 with loss 0.18898. Total time 0.30972 hours\n",
      "Training at Epoch 21 iteration 100 with loss 0.21086. Total time 0.31305 hours\n",
      "Training at Epoch 21 iteration 200 with loss 0.17363. Total time 0.31638 hours\n",
      "Training at Epoch 21 iteration 300 with loss 0.21810. Total time 0.31972 hours\n",
      "Validation at Epoch 21 , AUROC: 0.62656 , AUPRC: 0.57938 , F1: 0.19769\n",
      "--- Go for Testing ---\n",
      "Up to Epoch 20 Testing AUROC: 0.7850692409996001 , AUPRC: 0.8115556515444189 , F1: 0.5282289249806651\n",
      "Training at Epoch 22 iteration 0 with loss 0.17107. Total time 0.32833 hours\n",
      "Training at Epoch 22 iteration 100 with loss 0.22553. Total time 0.33166 hours\n",
      "Training at Epoch 22 iteration 200 with loss 0.03186. Total time 0.335 hours\n",
      "Training at Epoch 22 iteration 300 with loss 0.13396. Total time 0.33833 hours\n",
      "Validation at Epoch 22 , AUROC: 0.62028 , AUPRC: 0.57343 , F1: 0.23701\n",
      "Training at Epoch 23 iteration 0 with loss 0.10916. Total time 0.34333 hours\n",
      "Training at Epoch 23 iteration 100 with loss 0.27543. Total time 0.34666 hours\n",
      "Training at Epoch 23 iteration 200 with loss 0.30226. Total time 0.35 hours\n",
      "Training at Epoch 23 iteration 300 with loss 0.13827. Total time 0.35333 hours\n",
      "Validation at Epoch 23 , AUROC: 0.62031 , AUPRC: 0.57405 , F1: 0.21537\n",
      "Training at Epoch 24 iteration 0 with loss 0.27399. Total time 0.35833 hours\n",
      "Training at Epoch 24 iteration 100 with loss 0.09557. Total time 0.36166 hours\n",
      "Training at Epoch 24 iteration 200 with loss 0.09698. Total time 0.365 hours\n",
      "Training at Epoch 24 iteration 300 with loss 0.27185. Total time 0.36833 hours\n",
      "Validation at Epoch 24 , AUROC: 0.61666 , AUPRC: 0.57114 , F1: 0.35388\n",
      "Training at Epoch 25 iteration 0 with loss 0.11790. Total time 0.37333 hours\n",
      "Training at Epoch 25 iteration 100 with loss 0.13367. Total time 0.37666 hours\n",
      "Training at Epoch 25 iteration 200 with loss 0.48462. Total time 0.38 hours\n",
      "Training at Epoch 25 iteration 300 with loss 0.08954. Total time 0.38333 hours\n",
      "Validation at Epoch 25 , AUROC: 0.61757 , AUPRC: 0.57107 , F1: 0.19932\n",
      "Training at Epoch 26 iteration 0 with loss 0.27454. Total time 0.38833 hours\n",
      "Training at Epoch 26 iteration 100 with loss 0.16956. Total time 0.39166 hours\n",
      "Training at Epoch 26 iteration 200 with loss 0.30025. Total time 0.395 hours\n",
      "Training at Epoch 26 iteration 300 with loss 0.09938. Total time 0.39833 hours\n",
      "Validation at Epoch 26 , AUROC: 0.61055 , AUPRC: 0.56593 , F1: 0.20389\n",
      "--- Go for Testing ---\n",
      "Up to Epoch 25 Testing AUROC: 0.7892138484324285 , AUPRC: 0.8146011371597319 , F1: 0.548780487804878\n",
      "Training at Epoch 27 iteration 0 with loss 0.08841. Total time 0.40583 hours\n",
      "Training at Epoch 27 iteration 100 with loss 0.09886. Total time 0.40916 hours\n",
      "Training at Epoch 27 iteration 200 with loss 0.07221. Total time 0.4125 hours\n",
      "Training at Epoch 27 iteration 300 with loss 0.22863. Total time 0.41583 hours\n",
      "Validation at Epoch 27 , AUROC: 0.61303 , AUPRC: 0.56779 , F1: 0.16729\n",
      "Training at Epoch 28 iteration 0 with loss 0.09238. Total time 0.42083 hours\n",
      "Training at Epoch 28 iteration 100 with loss 0.10417. Total time 0.42416 hours\n",
      "Training at Epoch 28 iteration 200 with loss 0.18932. Total time 0.4275 hours\n",
      "Training at Epoch 28 iteration 300 with loss 0.12423. Total time 0.43083 hours\n",
      "Validation at Epoch 28 , AUROC: 0.60570 , AUPRC: 0.56581 , F1: 0.37275\n",
      "Training at Epoch 29 iteration 0 with loss 0.09495. Total time 0.43583 hours\n",
      "Training at Epoch 29 iteration 100 with loss 0.06943. Total time 0.43916 hours\n",
      "Training at Epoch 29 iteration 200 with loss 0.08541. Total time 0.4425 hours\n",
      "Training at Epoch 29 iteration 300 with loss 0.10645. Total time 0.44583 hours\n",
      "Validation at Epoch 29 , AUROC: 0.60704 , AUPRC: 0.56504 , F1: 0.32495\n",
      "Training at Epoch 30 iteration 0 with loss 0.13023. Total time 0.45083 hours\n",
      "Training at Epoch 30 iteration 100 with loss 0.16074. Total time 0.45416 hours\n",
      "Training at Epoch 30 iteration 200 with loss 0.17585. Total time 0.4575 hours\n",
      "Training at Epoch 30 iteration 300 with loss 0.12258. Total time 0.46083 hours\n",
      "Validation at Epoch 30 , AUROC: 0.60575 , AUPRC: 0.56133 , F1: 0.14382\n",
      "--- Go for Testing ---\n",
      "Testing AUROC: 0.7884459894627197 , AUPRC: 0.8165610607579641 , F1: 0.5\n",
      "--- Training Finished ---\n",
      "predicting...\n",
      "predicting...\n",
      "Results Saved\n",
      "in total: 16281 drug-target pairs\n",
      "encoding drug...\n",
      "unique drugs: 3677\n",
      "rdkit not found this smiles for morgan: nan convert to all 1 features\n"
     ]
    },
    {
     "name": "stderr",
     "output_type": "stream",
     "text": [
      "RDKit WARNING: [10:24:29] Conflicting single bond directions around double bond at index 1.\n",
      "RDKit WARNING: [10:24:29]   BondStereo set to STEREONONE and single bond directions set to NONE.\n"
     ]
    },
    {
     "name": "stdout",
     "output_type": "stream",
     "text": [
      "drug encoding finished...\n",
      "encoding protein...\n",
      "unique target sequence: 3236\n",
      "protein encoding finished...\n",
      "splitting dataset...\n",
      "Done.\n",
      "in total: 6482 drug-target pairs\n",
      "encoding drug...\n",
      "unique drugs: 2676\n",
      "rdkit not found this smiles for morgan: nan convert to all 1 features\n",
      "drug encoding finished...\n",
      "encoding protein...\n",
      "unique target sequence: 924\n",
      "protein encoding finished...\n",
      "splitting dataset...\n",
      "Done.\n",
      "in total: 3696 drug-target pairs\n",
      "encoding drug...\n",
      "unique drugs: 2185\n",
      "rdkit not found this smiles for morgan: nan convert to all 1 features\n"
     ]
    },
    {
     "name": "stderr",
     "output_type": "stream",
     "text": [
      "RDKit WARNING: [10:24:34] Conflicting single bond directions around double bond at index 1.\n",
      "RDKit WARNING: [10:24:34]   BondStereo set to STEREONONE and single bond directions set to NONE.\n"
     ]
    },
    {
     "name": "stdout",
     "output_type": "stream",
     "text": [
      "drug encoding finished...\n",
      "encoding protein...\n",
      "unique target sequence: 1573\n",
      "protein encoding finished...\n",
      "splitting dataset...\n",
      "Done.\n",
      "Let's use 1 GPU!\n",
      "--- Data Preparation ---\n",
      "--- Go for Training ---\n",
      "Training at Epoch 1 iteration 0 with loss 0.69676. Total time 0.0 hours\n",
      "Training at Epoch 1 iteration 100 with loss 0.61509. Total time 0.00333 hours\n",
      "Training at Epoch 1 iteration 200 with loss 0.46008. Total time 0.00666 hours\n",
      "Training at Epoch 1 iteration 300 with loss 0.62932. Total time 0.01 hours\n",
      "Training at Epoch 1 iteration 400 with loss 0.45281. Total time 0.01333 hours\n",
      "Training at Epoch 1 iteration 500 with loss 0.60486. Total time 0.01666 hours\n",
      "Validation at Epoch 1 , AUROC: 0.49889 , AUPRC: 0.47858 , F1: 0.0\n",
      "Training at Epoch 2 iteration 0 with loss 0.56307. Total time 0.02111 hours\n",
      "Training at Epoch 2 iteration 100 with loss 0.52049. Total time 0.02416 hours\n",
      "Training at Epoch 2 iteration 200 with loss 0.52849. Total time 0.0275 hours\n",
      "Training at Epoch 2 iteration 300 with loss 0.56050. Total time 0.03111 hours\n",
      "Training at Epoch 2 iteration 400 with loss 0.52085. Total time 0.03416 hours\n",
      "Training at Epoch 2 iteration 500 with loss 0.76461. Total time 0.0375 hours\n",
      "Validation at Epoch 2 , AUROC: 0.53278 , AUPRC: 0.51594 , F1: 0.0\n",
      "Training at Epoch 3 iteration 0 with loss 0.58904. Total time 0.04194 hours\n",
      "Training at Epoch 3 iteration 100 with loss 0.56366. Total time 0.04527 hours\n",
      "Training at Epoch 3 iteration 200 with loss 0.55329. Total time 0.04861 hours\n",
      "Training at Epoch 3 iteration 300 with loss 0.51927. Total time 0.05194 hours\n",
      "Training at Epoch 3 iteration 400 with loss 0.46032. Total time 0.05527 hours\n",
      "Training at Epoch 3 iteration 500 with loss 0.41882. Total time 0.05861 hours\n",
      "Validation at Epoch 3 , AUROC: 0.53603 , AUPRC: 0.52783 , F1: 0.0\n",
      "Training at Epoch 4 iteration 0 with loss 0.51951. Total time 0.06361 hours\n",
      "Training at Epoch 4 iteration 100 with loss 0.67819. Total time 0.06694 hours\n",
      "Training at Epoch 4 iteration 200 with loss 0.54530. Total time 0.07027 hours\n",
      "Training at Epoch 4 iteration 300 with loss 0.53201. Total time 0.07361 hours\n",
      "Training at Epoch 4 iteration 400 with loss 0.42774. Total time 0.07694 hours\n",
      "Training at Epoch 4 iteration 500 with loss 0.33588. Total time 0.08027 hours\n",
      "Validation at Epoch 4 , AUROC: 0.53693 , AUPRC: 0.52932 , F1: 0.0\n",
      "Training at Epoch 5 iteration 0 with loss 0.48417. Total time 0.08527 hours\n",
      "Training at Epoch 5 iteration 100 with loss 0.51930. Total time 0.08861 hours\n",
      "Training at Epoch 5 iteration 200 with loss 0.47569. Total time 0.09194 hours\n",
      "Training at Epoch 5 iteration 300 with loss 0.50425. Total time 0.09527 hours\n",
      "Training at Epoch 5 iteration 400 with loss 0.52885. Total time 0.09861 hours\n",
      "Training at Epoch 5 iteration 500 with loss 0.53447. Total time 0.10194 hours\n",
      "Validation at Epoch 5 , AUROC: 0.54179 , AUPRC: 0.53547 , F1: 0.0\n",
      "Training at Epoch 6 iteration 0 with loss 0.41397. Total time 0.10694 hours\n",
      "Training at Epoch 6 iteration 100 with loss 0.57491. Total time 0.11027 hours\n",
      "Training at Epoch 6 iteration 200 with loss 0.45692. Total time 0.11361 hours\n",
      "Training at Epoch 6 iteration 300 with loss 0.59996. Total time 0.11694 hours\n",
      "Training at Epoch 6 iteration 400 with loss 0.64129. Total time 0.12027 hours\n",
      "Training at Epoch 6 iteration 500 with loss 0.50103. Total time 0.12361 hours\n",
      "Validation at Epoch 6 , AUROC: 0.54329 , AUPRC: 0.53516 , F1: 0.01345\n",
      "--- Go for Testing ---\n",
      "Up to Epoch 5 Testing AUROC: 0.5636485216606504 , AUPRC: 0.5824744646522952 , F1: 0.016976127320954906\n",
      "Training at Epoch 7 iteration 0 with loss 0.57738. Total time 0.13055 hours\n",
      "Training at Epoch 7 iteration 100 with loss 0.41121. Total time 0.13388 hours\n",
      "Training at Epoch 7 iteration 200 with loss 0.43536. Total time 0.13722 hours\n",
      "Training at Epoch 7 iteration 300 with loss 0.47600. Total time 0.14055 hours\n",
      "Training at Epoch 7 iteration 400 with loss 0.62020. Total time 0.14388 hours\n",
      "Training at Epoch 7 iteration 500 with loss 0.36225. Total time 0.14722 hours\n",
      "Validation at Epoch 7 , AUROC: 0.54844 , AUPRC: 0.53352 , F1: 0.07715\n",
      "Training at Epoch 8 iteration 0 with loss 0.40746. Total time 0.15222 hours\n",
      "Training at Epoch 8 iteration 100 with loss 0.55093. Total time 0.15555 hours\n",
      "Training at Epoch 8 iteration 200 with loss 0.61419. Total time 0.15888 hours\n",
      "Training at Epoch 8 iteration 300 with loss 0.51971. Total time 0.16222 hours\n",
      "Training at Epoch 8 iteration 400 with loss 0.41424. Total time 0.16555 hours\n",
      "Training at Epoch 8 iteration 500 with loss 0.43696. Total time 0.16888 hours\n",
      "Validation at Epoch 8 , AUROC: 0.56542 , AUPRC: 0.54132 , F1: 0.08957\n",
      "Training at Epoch 9 iteration 0 with loss 0.26139. Total time 0.17388 hours\n",
      "Training at Epoch 9 iteration 100 with loss 0.42638. Total time 0.17722 hours\n",
      "Training at Epoch 9 iteration 200 with loss 0.51541. Total time 0.18055 hours\n",
      "Training at Epoch 9 iteration 300 with loss 0.40108. Total time 0.18388 hours\n",
      "Training at Epoch 9 iteration 400 with loss 0.50066. Total time 0.18722 hours\n",
      "Training at Epoch 9 iteration 500 with loss 0.54194. Total time 0.19055 hours\n",
      "Validation at Epoch 9 , AUROC: 0.58739 , AUPRC: 0.55243 , F1: 0.17197\n",
      "Training at Epoch 10 iteration 0 with loss 0.37753. Total time 0.19555 hours\n",
      "Training at Epoch 10 iteration 100 with loss 0.36779. Total time 0.19888 hours\n",
      "Training at Epoch 10 iteration 200 with loss 0.41765. Total time 0.20222 hours\n",
      "Training at Epoch 10 iteration 300 with loss 0.21841. Total time 0.20555 hours\n",
      "Training at Epoch 10 iteration 400 with loss 0.44102. Total time 0.20888 hours\n",
      "Training at Epoch 10 iteration 500 with loss 0.43684. Total time 0.21222 hours\n",
      "Validation at Epoch 10 , AUROC: 0.60898 , AUPRC: 0.56809 , F1: 0.05996\n",
      "Training at Epoch 11 iteration 0 with loss 0.42352. Total time 0.21722 hours\n",
      "Training at Epoch 11 iteration 100 with loss 0.36978. Total time 0.22055 hours\n",
      "Training at Epoch 11 iteration 200 with loss 0.36766. Total time 0.22388 hours\n",
      "Training at Epoch 11 iteration 300 with loss 0.35209. Total time 0.22722 hours\n",
      "Training at Epoch 11 iteration 400 with loss 0.26642. Total time 0.23055 hours\n",
      "Training at Epoch 11 iteration 500 with loss 0.19603. Total time 0.23388 hours\n",
      "Validation at Epoch 11 , AUROC: 0.62159 , AUPRC: 0.58076 , F1: 0.09300\n",
      "--- Go for Testing ---\n",
      "Up to Epoch 10 Testing AUROC: 0.7156477579439857 , AUPRC: 0.7421651506118279 , F1: 0.32391879964695497\n",
      "Training at Epoch 12 iteration 0 with loss 0.41480. Total time 0.24166 hours\n",
      "Training at Epoch 12 iteration 100 with loss 0.17611. Total time 0.245 hours\n",
      "Training at Epoch 12 iteration 200 with loss 0.18761. Total time 0.24833 hours\n",
      "Training at Epoch 12 iteration 300 with loss 0.21965. Total time 0.25166 hours\n",
      "Training at Epoch 12 iteration 400 with loss 0.26896. Total time 0.255 hours\n",
      "Training at Epoch 12 iteration 500 with loss 0.26437. Total time 0.25833 hours\n",
      "Validation at Epoch 12 , AUROC: 0.62567 , AUPRC: 0.58248 , F1: 0.16807\n",
      "Training at Epoch 13 iteration 0 with loss 0.29909. Total time 0.26277 hours\n",
      "Training at Epoch 13 iteration 100 with loss 0.27313. Total time 0.26611 hours\n",
      "Training at Epoch 13 iteration 200 with loss 0.21167. Total time 0.26944 hours\n",
      "Training at Epoch 13 iteration 300 with loss 0.38074. Total time 0.27277 hours\n",
      "Training at Epoch 13 iteration 400 with loss 0.44393. Total time 0.27611 hours\n",
      "Training at Epoch 13 iteration 500 with loss 0.38114. Total time 0.27916 hours\n",
      "Validation at Epoch 13 , AUROC: 0.62494 , AUPRC: 0.58356 , F1: 0.12444\n",
      "Training at Epoch 14 iteration 0 with loss 0.35041. Total time 0.28361 hours\n",
      "Training at Epoch 14 iteration 100 with loss 0.27045. Total time 0.28694 hours\n",
      "Training at Epoch 14 iteration 200 with loss 0.28621. Total time 0.29027 hours\n",
      "Training at Epoch 14 iteration 300 with loss 0.17220. Total time 0.29361 hours\n",
      "Training at Epoch 14 iteration 400 with loss 0.36257. Total time 0.29694 hours\n",
      "Training at Epoch 14 iteration 500 with loss 0.22958. Total time 0.30027 hours\n",
      "Validation at Epoch 14 , AUROC: 0.62481 , AUPRC: 0.58369 , F1: 0.21098\n",
      "Training at Epoch 15 iteration 0 with loss 0.35105. Total time 0.30472 hours\n",
      "Training at Epoch 15 iteration 100 with loss 0.24736. Total time 0.30805 hours\n",
      "Training at Epoch 15 iteration 200 with loss 0.36024. Total time 0.31138 hours\n",
      "Training at Epoch 15 iteration 300 with loss 0.09387. Total time 0.31472 hours\n",
      "Training at Epoch 15 iteration 400 with loss 0.34398. Total time 0.31805 hours\n",
      "Training at Epoch 15 iteration 500 with loss 0.22920. Total time 0.32138 hours\n",
      "Validation at Epoch 15 , AUROC: 0.61950 , AUPRC: 0.58007 , F1: 0.12694\n",
      "Training at Epoch 16 iteration 0 with loss 0.28777. Total time 0.32555 hours\n",
      "Training at Epoch 16 iteration 100 with loss 0.06648. Total time 0.32888 hours\n",
      "Training at Epoch 16 iteration 200 with loss 0.26681. Total time 0.33222 hours\n",
      "Training at Epoch 16 iteration 300 with loss 0.41563. Total time 0.33555 hours\n",
      "Training at Epoch 16 iteration 400 with loss 0.40354. Total time 0.33888 hours\n",
      "Training at Epoch 16 iteration 500 with loss 0.23067. Total time 0.34222 hours\n",
      "Validation at Epoch 16 , AUROC: 0.62079 , AUPRC: 0.58260 , F1: 0.25485\n",
      "--- Go for Testing ---\n",
      "Up to Epoch 15 Testing AUROC: 0.7439446609967733 , AUPRC: 0.7823358340254523 , F1: 0.5162019593067069\n",
      "Training at Epoch 17 iteration 0 with loss 0.11780. Total time 0.34916 hours\n",
      "Training at Epoch 17 iteration 100 with loss 0.27348. Total time 0.3525 hours\n",
      "Training at Epoch 17 iteration 200 with loss 0.38433. Total time 0.35583 hours\n",
      "Training at Epoch 17 iteration 300 with loss 0.18011. Total time 0.35916 hours\n",
      "Training at Epoch 17 iteration 400 with loss 0.22629. Total time 0.3625 hours\n",
      "Training at Epoch 17 iteration 500 with loss 0.14701. Total time 0.36583 hours\n",
      "Validation at Epoch 17 , AUROC: 0.61722 , AUPRC: 0.57731 , F1: 0.17462\n",
      "Training at Epoch 18 iteration 0 with loss 0.32084. Total time 0.37027 hours\n",
      "Training at Epoch 18 iteration 100 with loss 0.19446. Total time 0.37333 hours\n",
      "Training at Epoch 18 iteration 200 with loss 0.16895. Total time 0.37666 hours\n",
      "Training at Epoch 18 iteration 300 with loss 0.14551. Total time 0.38 hours\n",
      "Training at Epoch 18 iteration 400 with loss 0.19861. Total time 0.38333 hours\n",
      "Training at Epoch 18 iteration 500 with loss 0.12433. Total time 0.38666 hours\n",
      "Validation at Epoch 18 , AUROC: 0.61186 , AUPRC: 0.57180 , F1: 0.16629\n",
      "Training at Epoch 19 iteration 0 with loss 0.20515. Total time 0.39111 hours\n",
      "Training at Epoch 19 iteration 100 with loss 0.30948. Total time 0.39444 hours\n",
      "Training at Epoch 19 iteration 200 with loss 0.16954. Total time 0.39777 hours\n",
      "Training at Epoch 19 iteration 300 with loss 0.31940. Total time 0.40111 hours\n",
      "Training at Epoch 19 iteration 400 with loss 0.24693. Total time 0.40444 hours\n",
      "Training at Epoch 19 iteration 500 with loss 0.11490. Total time 0.40777 hours\n",
      "Validation at Epoch 19 , AUROC: 0.60315 , AUPRC: 0.56659 , F1: 0.19665\n",
      "Training at Epoch 20 iteration 0 with loss 0.20141. Total time 0.41277 hours\n",
      "Training at Epoch 20 iteration 100 with loss 0.38130. Total time 0.41611 hours\n",
      "Training at Epoch 20 iteration 200 with loss 0.46660. Total time 0.41944 hours\n",
      "Training at Epoch 20 iteration 300 with loss 0.17558. Total time 0.42277 hours\n",
      "Training at Epoch 20 iteration 400 with loss 0.19339. Total time 0.42611 hours\n",
      "Training at Epoch 20 iteration 500 with loss 0.15342. Total time 0.42944 hours\n",
      "Validation at Epoch 20 , AUROC: 0.60413 , AUPRC: 0.56781 , F1: 0.20311\n",
      "Training at Epoch 21 iteration 0 with loss 0.09457. Total time 0.43444 hours\n",
      "Training at Epoch 21 iteration 100 with loss 0.12643. Total time 0.43777 hours\n",
      "Training at Epoch 21 iteration 200 with loss 0.10875. Total time 0.44111 hours\n",
      "Training at Epoch 21 iteration 300 with loss 0.19147. Total time 0.44444 hours\n",
      "Training at Epoch 21 iteration 400 with loss 0.17935. Total time 0.44777 hours\n",
      "Training at Epoch 21 iteration 500 with loss 0.18012. Total time 0.45111 hours\n",
      "Validation at Epoch 21 , AUROC: 0.60206 , AUPRC: 0.56335 , F1: 0.27384\n",
      "--- Go for Testing ---\n",
      "Up to Epoch 20 Testing AUROC: 0.7420719738532464 , AUPRC: 0.7849663806328108 , F1: 0.5501453488372092\n",
      "Training at Epoch 22 iteration 0 with loss 0.35171. Total time 0.45888 hours\n",
      "Training at Epoch 22 iteration 100 with loss 0.27123. Total time 0.46222 hours\n",
      "Training at Epoch 22 iteration 200 with loss 0.11915. Total time 0.46555 hours\n",
      "Training at Epoch 22 iteration 300 with loss 0.20070. Total time 0.46888 hours\n",
      "Training at Epoch 22 iteration 400 with loss 0.10540. Total time 0.47222 hours\n",
      "Training at Epoch 22 iteration 500 with loss 0.14792. Total time 0.47555 hours\n",
      "Validation at Epoch 22 , AUROC: 0.59764 , AUPRC: 0.55954 , F1: 0.26031\n",
      "Training at Epoch 23 iteration 0 with loss 0.16508. Total time 0.47972 hours\n",
      "Training at Epoch 23 iteration 100 with loss 0.27347. Total time 0.48305 hours\n",
      "Training at Epoch 23 iteration 200 with loss 0.36351. Total time 0.48638 hours\n",
      "Training at Epoch 23 iteration 300 with loss 0.25478. Total time 0.48972 hours\n",
      "Training at Epoch 23 iteration 400 with loss 0.20855. Total time 0.49305 hours\n",
      "Training at Epoch 23 iteration 500 with loss 0.16160. Total time 0.49638 hours\n",
      "Validation at Epoch 23 , AUROC: 0.59015 , AUPRC: 0.55469 , F1: 0.21170\n",
      "Training at Epoch 24 iteration 0 with loss 0.10803. Total time 0.50083 hours\n",
      "Training at Epoch 24 iteration 100 with loss 0.11653. Total time 0.50416 hours\n",
      "Training at Epoch 24 iteration 200 with loss 0.21534. Total time 0.5075 hours\n",
      "Training at Epoch 24 iteration 300 with loss 0.34528. Total time 0.51083 hours\n",
      "Training at Epoch 24 iteration 400 with loss 0.22507. Total time 0.51416 hours\n",
      "Training at Epoch 24 iteration 500 with loss 0.19969. Total time 0.5175 hours\n",
      "Validation at Epoch 24 , AUROC: 0.58818 , AUPRC: 0.55384 , F1: 0.21024\n",
      "Training at Epoch 25 iteration 0 with loss 0.14376. Total time 0.52166 hours\n",
      "Training at Epoch 25 iteration 100 with loss 0.36592. Total time 0.525 hours\n",
      "Training at Epoch 25 iteration 200 with loss 0.15852. Total time 0.52833 hours\n",
      "Training at Epoch 25 iteration 300 with loss 0.27504. Total time 0.53166 hours\n",
      "Training at Epoch 25 iteration 400 with loss 0.22552. Total time 0.535 hours\n",
      "Training at Epoch 25 iteration 500 with loss 0.15662. Total time 0.53833 hours\n",
      "Validation at Epoch 25 , AUROC: 0.58674 , AUPRC: 0.54894 , F1: 0.14591\n",
      "Training at Epoch 26 iteration 0 with loss 0.09184. Total time 0.54333 hours\n",
      "Training at Epoch 26 iteration 100 with loss 0.11792. Total time 0.54666 hours\n",
      "Training at Epoch 26 iteration 200 with loss 0.13291. Total time 0.55 hours\n",
      "Training at Epoch 26 iteration 300 with loss 0.36974. Total time 0.55333 hours\n",
      "Training at Epoch 26 iteration 400 with loss 0.17396. Total time 0.55666 hours\n",
      "Training at Epoch 26 iteration 500 with loss 0.11040. Total time 0.56 hours\n",
      "Validation at Epoch 26 , AUROC: 0.58328 , AUPRC: 0.54734 , F1: 0.25607\n",
      "--- Go for Testing ---\n",
      "Up to Epoch 25 Testing AUROC: 0.7359607763554726 , AUPRC: 0.7817818743249908 , F1: 0.5506190823015294\n",
      "Training at Epoch 27 iteration 0 with loss 0.20645. Total time 0.56694 hours\n",
      "Training at Epoch 27 iteration 100 with loss 0.18107. Total time 0.57027 hours\n",
      "Training at Epoch 27 iteration 200 with loss 0.21091. Total time 0.57361 hours\n",
      "Training at Epoch 27 iteration 300 with loss 0.07229. Total time 0.57694 hours\n",
      "Training at Epoch 27 iteration 400 with loss 0.19914. Total time 0.58027 hours\n",
      "Training at Epoch 27 iteration 500 with loss 0.11286. Total time 0.58361 hours\n",
      "Validation at Epoch 27 , AUROC: 0.58372 , AUPRC: 0.54861 , F1: 0.10125\n",
      "Training at Epoch 28 iteration 0 with loss 0.13958. Total time 0.58777 hours\n",
      "Training at Epoch 28 iteration 100 with loss 0.08255. Total time 0.59111 hours\n",
      "Training at Epoch 28 iteration 200 with loss 0.17733. Total time 0.59444 hours\n",
      "Training at Epoch 28 iteration 300 with loss 0.11035. Total time 0.59777 hours\n",
      "Training at Epoch 28 iteration 400 with loss 0.26555. Total time 0.60111 hours\n",
      "Training at Epoch 28 iteration 500 with loss 0.17377. Total time 0.60444 hours\n",
      "Validation at Epoch 28 , AUROC: 0.57990 , AUPRC: 0.54284 , F1: 0.24312\n",
      "Training at Epoch 29 iteration 0 with loss 0.08353. Total time 0.60888 hours\n",
      "Training at Epoch 29 iteration 100 with loss 0.13437. Total time 0.61222 hours\n",
      "Training at Epoch 29 iteration 200 with loss 0.19002. Total time 0.61555 hours\n",
      "Training at Epoch 29 iteration 300 with loss 0.26870. Total time 0.61888 hours\n",
      "Training at Epoch 29 iteration 400 with loss 0.36446. Total time 0.62222 hours\n",
      "Training at Epoch 29 iteration 500 with loss 0.18471. Total time 0.62555 hours\n",
      "Validation at Epoch 29 , AUROC: 0.58007 , AUPRC: 0.54293 , F1: 0.21502\n",
      "Training at Epoch 30 iteration 0 with loss 0.11489. Total time 0.63 hours\n",
      "Training at Epoch 30 iteration 100 with loss 0.13075. Total time 0.63333 hours\n",
      "Training at Epoch 30 iteration 200 with loss 0.04052. Total time 0.63666 hours\n",
      "Training at Epoch 30 iteration 300 with loss 0.14671. Total time 0.64 hours\n",
      "Training at Epoch 30 iteration 400 with loss 0.16549. Total time 0.64305 hours\n",
      "Training at Epoch 30 iteration 500 with loss 0.10246. Total time 0.64638 hours\n",
      "Validation at Epoch 30 , AUROC: 0.57514 , AUPRC: 0.54002 , F1: 0.05991\n",
      "--- Go for Testing ---\n",
      "Testing AUROC: 0.7276957690155347 , AUPRC: 0.775947189154963 , F1: 0.3867640739149119\n",
      "--- Training Finished ---\n",
      "predicting...\n",
      "predicting...\n",
      "Results Saved\n"
     ]
    },
    {
     "ename": "IndexError",
     "evalue": "list index out of range",
     "output_type": "error",
     "traceback": [
      "\u001b[0;31m---------------------------------------------------------------------------\u001b[0m",
      "\u001b[0;31mIndexError\u001b[0m                                Traceback (most recent call last)",
      "\u001b[0;32m<ipython-input-24-3b42579c2885>\u001b[0m in \u001b[0;36m<module>\u001b[0;34m\u001b[0m\n\u001b[1;32m     35\u001b[0m \u001b[0;34m\u001b[0m\u001b[0m\n\u001b[1;32m     36\u001b[0m     \u001b[0;31m# Create Variable For Seen Targets Needed Later\u001b[0m\u001b[0;34m\u001b[0m\u001b[0;34m\u001b[0m\u001b[0;34m\u001b[0m\u001b[0m\n\u001b[0;32m---> 37\u001b[0;31m     \u001b[0mseen_targets\u001b[0m \u001b[0;34m=\u001b[0m \u001b[0mlist\u001b[0m\u001b[0;34m(\u001b[0m\u001b[0mtrain_sets\u001b[0m\u001b[0;34m[\u001b[0m\u001b[0mrun_number\u001b[0m\u001b[0;34m]\u001b[0m\u001b[0;34m[\u001b[0m\u001b[0;34m'target_aa_code'\u001b[0m\u001b[0;34m]\u001b[0m\u001b[0;34m)\u001b[0m\u001b[0;34m\u001b[0m\u001b[0;34m\u001b[0m\u001b[0m\n\u001b[0m\u001b[1;32m     38\u001b[0m \u001b[0;34m\u001b[0m\u001b[0m\n\u001b[1;32m     39\u001b[0m \u001b[0;34m\u001b[0m\u001b[0m\n",
      "\u001b[0;31mIndexError\u001b[0m: list index out of range"
     ]
    },
    {
     "data": {
      "image/png": "[encoded data removed]",
      "text/plain": [
       "<Figure size 432x288 with 1 Axes>"
      ]
     },
     "metadata": {
      "needs_background": "light"
     },
     "output_type": "display_data"
    },
    {
     "data": {
      "image/png": "[encoded data removed]",
      "text/plain": [
       "<Figure size 432x288 with 1 Axes>"
      ]
     },
     "metadata": {
      "needs_background": "light"
     },
     "output_type": "display_data"
    },
    {
     "data": {
      "image/png": "[encoded data removed]",
      "text/plain": [
       "<Figure size 432x288 with 1 Axes>"
      ]
     },
     "metadata": {
      "needs_background": "light"
     },
     "output_type": "display_data"
    }
   ],
   "source": [
    "version = input(\"Version : \")\n",
    "model_title = 'deep_purpose_ds_final'\n",
    "v_num = version\n",
    "data_dir = '../data/sars-busters-consolidated/KFUD-Final/'\n",
    "\n",
    "for run_number in tqdm(range(0, 6)):\n",
    "    \n",
    "    # Create Lists To Hold Information\n",
    "    \n",
    "    val_auc_ut = []\n",
    "    val_auc_ue = []\n",
    "    val_aup_ut = []\n",
    "    val_aup_ue = []\n",
    "    \n",
    "    loss = []\n",
    "    acc = []\n",
    "\n",
    "    # Reinitialise Model At Each Run \n",
    "    model = models.model_initialize(**config)\n",
    "    \n",
    "    \n",
    "    # Create File Name To Save Model\n",
    "    version = v_num + \"_run\" + str(run_number) + \"_\" + pd.to_datetime(time.time(), unit = 's').strftime('%m-%d_%Hh%M')\n",
    "    \n",
    "    # Create Validation DataFrames For Each Run\n",
    "    #X_0_val_ut, X_1_val_ut, Y_val_actual_ut = dataframe_to_embed_array(interactions_df = targets_validation[run_number],\n",
    "    #                                                                      drug_list = drug_list,\n",
    "    #                                                                      target_list = target_list,\n",
    "    #                                                                      drug_embed_len = 200)\n",
    "\n",
    "    #X_0_val_ue, X_1_val_ue, Y_val_actual_ue = dataframe_to_embed_array(interactions_df = edges_validation[run_number],\n",
    "    #                                                                      drug_list = drug_list,\n",
    "    #                                                                     target_list = target_list,\n",
    "    #                                                                      drug_embed_len = 200)\n",
    "    \n",
    "    # Create Variable For Seen Targets Needed Later\n",
    "    seen_targets = list(train_sets[run_number]['target_aa_code'])\n",
    "    \n",
    "        \n",
    "        \n",
    "    # Get Batch Of Training Examples\n",
    "    \n",
    "    interactions = train_sets[run_number]\n",
    "\n",
    "\n",
    "    output_string = \"\"\n",
    "\n",
    "\n",
    "    traind, nothing, nothing = data_process(add_smile(interactions)['SMILE'],\n",
    "                                            interactions['target_aa_code'],\n",
    "                                            interactions['Y'], \n",
    "                                    drug_encoding, target_encoding, \n",
    "                                    split_method='cold_protein', \n",
    "                                    frac=[1,0,.0])\n",
    "\n",
    "    test_ut, nothing, nothing =  data_process(add_smile(targets_validation[run_number])['SMILE'],\n",
    "                                    targets_validation[run_number]['target_aa_code'],\n",
    "                                    targets_validation[run_number]['Y'], \n",
    "                                    drug_encoding, target_encoding, \n",
    "                                    split_method='cold_protein', \n",
    "                                    frac=[1,0,.0])\n",
    "    \n",
    "    Y_val_actual_ut = targets_validation[run_number]['Y']\n",
    "\n",
    "    test_ue, nothing, nothing =  data_process(add_smile(edges_validation[run_number])['SMILE'],\n",
    "                                    edges_validation[run_number]['target_aa_code'],\n",
    "                                    edges_validation[run_number]['Y'], \n",
    "                                    drug_encoding, target_encoding, \n",
    "                                    split_method='cold_protein', \n",
    "                                    frac=[1,0,.0])\n",
    "    \n",
    "    Y_val_actual_ue = edges_validation[run_number]['Y']\n",
    "\n",
    "    model.train(traind, test_ut, test_ue)\n",
    "\n",
    "\n",
    "    # Calculate and Save Unseen Target Performance\n",
    "    Y_val_predictions_ut = []\n",
    "    Y_val_predictions_ut.extend(model.predict(test_ut))\n",
    "#     Y_val_predictions_ut = [x[0] for x in Y_val_predictions_ut]\n",
    "    curr_val_auc = roc_auc_score(Y_val_actual_ut, Y_val_predictions_ut)\n",
    "    curr_val_aup = average_precision_score(Y_val_actual_ut, Y_val_predictions_ut)\n",
    "    val_auc_ut.append(curr_val_auc)\n",
    "    val_aup_ut.append(curr_val_aup)\n",
    "\n",
    "    Y_val_predictions_ue = []\n",
    "    Y_val_predictions_ue.extend(model.predict(test_ue))\n",
    "#     Y_val_predictions_ue = [x[0] for x in Y_val_predictions_ue]\n",
    "    curr_val_auc = roc_auc_score(Y_val_actual_ue, Y_val_predictions_ue)\n",
    "    curr_val_aup = average_precision_score(Y_val_actual_ue, Y_val_predictions_ue)\n",
    "    val_aup_ue.append(curr_val_aup)\n",
    "    val_auc_ue.append(curr_val_auc)\n",
    "\n",
    "    # Print Stuff\n",
    "    output_string = output_string + \"Unseen Targets AUC : \" + str(np.round(val_auc_ut[-1], 2)) + \"\\nUnseen Edges AUC : \" +  str(np.round(val_auc_ue[-1], 2)) + \"\\n\"\n",
    "    output_string = output_string + \"Unseen Targets AUP : \" + str(np.round(val_aup_ut[-1], 2)) + \"\\nUnseen Edges AUP : \" +  str(np.round(val_aup_ue[-1], 2)) + \"\\n\"\n",
    "\n",
    "    # Save Model\n",
    "    model.save_model(data_dir + 'Run_' + str(run_number) + '/' + model_title + '_' + str(version) + '.model')\n",
    "\n",
    "\n",
    "#     loss = loss + history.history['loss']\n",
    "#     acc = acc + history.history['binary_accuracy']            \n",
    "    \n",
    "    model_key = model_title + '_' + str(v_num)\n",
    "    \n",
    "    if model_key in results:\n",
    "        results[model_key]\n",
    "    else: \n",
    "        results[model_key] = {}\n",
    "        \n",
    "    results[model_key][run_number] = {}\n",
    "    results[model_key][run_number]['val_auc_ut'] = val_auc_ut\n",
    "    results[model_key][run_number]['val_auc_ue'] = val_auc_ue\n",
    "    results[model_key][run_number]['val_aup_ut'] = val_aup_ut\n",
    "    results[model_key][run_number]['val_aup_ue'] = val_aup_ue\n",
    "    results[model_key][run_number]['loss'] = loss\n",
    "    results[model_key][run_number]['acc'] = acc\n",
    "    \n",
    "    with open(data_dir + '/results_final.json', 'w') as file: \n",
    "            json.dump(results, file)\n",
    "\n",
    "    print (\"Results Saved\")\n",
    "\n"
   ]
  },
  {
   "cell_type": "code",
   "execution_count": 24,
   "metadata": {
    "scrolled": true
   },
   "outputs": [
    {
     "data": {
      "text/plain": [
       "'../data/sars-busters-consolidated/KFUD2/Run_5/deep_purpose_ds2_0_run5_03-18_09h51.model'"
      ]
     },
     "execution_count": 24,
     "metadata": {},
     "output_type": "execute_result"
    }
   ],
   "source": [
    "data_dir + 'Run_' + str(run_number) + '/' + model_title + '_' + str(version) + '.model'"
   ]
  },
  {
   "cell_type": "markdown",
   "metadata": {
    "heading_collapsed": true
   },
   "source": [
    "#### Older Code"
   ]
  },
  {
   "cell_type": "code",
   "execution_count": null,
   "metadata": {
    "hidden": true,
    "scrolled": true
   },
   "outputs": [],
   "source": [
    "# version = input(\"Version : \")\n",
    "# v_num = version\n",
    "# epochs = 16\n",
    "\n",
    "# try:\n",
    "#     current_results['vaenet_ds1_v' + str(v_num)]\n",
    "# except: \n",
    "#     current_results['vaenet_ds1_v' + str(v_num)] = {}\n",
    "\n",
    "# for run_number in range(0, 4):\n",
    "    \n",
    "#     Y_val_predictions = []\n",
    "#     Y_val_actual = []\n",
    "#     Y_actual = []\n",
    "\n",
    "\n",
    "#     val_loss = []\n",
    "#     loss = []\n",
    "#     val_acc = []\n",
    "#     acc = []\n",
    "#     val_auc = []\n",
    "#     test_auc_ut = []\n",
    "#     test_auc_ue = []\n",
    "\n",
    "\n",
    "#     test_aup_ut = []\n",
    "#     test_aup_ue = []\n",
    "\n",
    "#     model = vecnet_2048_2048_concat_512_512()\n",
    "#     model_optimizer = tensorflow.keras.optimizers.Adam(lr = 0.00001, beta_1 = 0.9, beta_2 = 0.999, amsgrad = False)\n",
    "#     model.compile(loss = 'binary_crossentropy', optimizer = model_optimizer, metrics = ['binary_accuracy'])\n",
    "\n",
    "#     t = tqdm(np.random.choice(range(epochs), epochs, replace = False))\n",
    "\n",
    "#     version = v_num + \"_run\" + str(run_number) + \"_\" + pd.to_datetime(time.time(), unit = 's').strftime('%m-%d_%Hh%M')\n",
    "\n",
    "#     for i in t:\n",
    "\n",
    "#         print (\"Generating Training Examples\")\n",
    "#         train_w_random_neg = get_train_w_random_neg(train_interactions = train_interactions,\n",
    "#                                                     drug_list = drug_list,\n",
    "#                                                     seen_targets = seen_targets,\n",
    "#                                                     num_negatives = 8)\n",
    "        \n",
    "#         interactions_sliced = np.array_split(train_w_random_neg, len(train_w_random_neg) / 500)\n",
    "\n",
    "#         for idx, interaction in enumerate(interactions_sliced):\n",
    "\n",
    "#             output_string = \"\"\n",
    "\n",
    "#             X_0, X_1, Y = dataframe_to_embed_array(interactions_df = interaction,\n",
    "#                                                    drug_list = drug_list, \n",
    "#                                                    target_list = target_list,\n",
    "#                                                    drug_embed_len = 200,\n",
    "#                                                    debug = False)\n",
    "\n",
    "#             history = model.fit([X_0, X_1], Y,\n",
    "#                                   batch_size = batch_size,\n",
    "#                                   epochs = epochs,\n",
    "#                                   class_weight = class_weight,\n",
    "#                                   verbose = 0)\n",
    "\n",
    "#             if idx % 250 == 0:\n",
    "\n",
    "#                 Y_test_predictions_ut = []\n",
    "#                 Y_test_predictions_ut.extend(model.predict([X_0_test_ut, X_1_test_ut]))\n",
    "#                 Y_test_predictions_ut = [x[0] for x in Y_test_predictions_ut]\n",
    "#                 curr_test_auc = roc_auc_score(Y_test_actual_ut, Y_test_predictions_ut)\n",
    "#                 curr_test_aup = average_precision_score(Y_test_actual_ut, Y_test_predictions_ut)\n",
    "#                 test_auc_ut.append(curr_test_auc)\n",
    "#                 test_aup_ut.append(curr_test_aup)\n",
    "\n",
    "#                 Y_test_predictions_ue = []\n",
    "#                 Y_test_predictions_ue.extend(model.predict([X_0_test_ue, X_1_test_ue]))\n",
    "#                 Y_test_predictions_ue = [x[0] for x in Y_test_predictions_ue]\n",
    "#                 curr_test_auc = roc_auc_score(Y_test_actual_ue, Y_test_predictions_ue)\n",
    "#                 curr_test_aup = average_precision_score(Y_test_actual_ue, Y_test_predictions_ue)\n",
    "#                 test_aup_ue.append(curr_test_aup)\n",
    "#                 test_auc_ue.append(curr_test_auc)\n",
    "\n",
    "#                 output_string = output_string + \"Unseen Targets AUC : \" + str(np.round(test_auc_ut[-1], 2)) + \"\\nUnseen Edges AUC : \" +  str(np.round(test_auc_ue[-1], 2)) + \"\\n\"\n",
    "#                 output_string = output_string + \"Unseen Targets AUP : \" + str(np.round(test_aup_ut[-1], 2)) + \"\\nUnseen Edges AUP : \" +  str(np.round(test_aup_ue[-1], 2)) + \"\\n\"\n",
    "\n",
    "\n",
    "#                 if test_aup_ut[-1] == max(test_aup_ut):\n",
    "#                     output_string = output_string + \"Saving Model : AUC = \" + str(test_auc_ut[-1]) + \"\\n\"\n",
    "#                     model.save('./models/vaenet_ds1_' + str(version) + '.model')\n",
    "#                 else :   \n",
    "#                     output_string = output_string + \"Not Saving Model : AUC = \" + str(test_auc_ut[-1]) + \"\\n\"\n",
    "\n",
    "#                 t.write(output_string)\n",
    "\n",
    "#                 loss = loss + history.history['loss']\n",
    "#                 acc = acc + history.history['binary_accuracy']\n",
    "\n",
    "\n",
    "#                 Y_actual.extend(Y.tolist())\n",
    "                \n",
    "\n",
    "    \n",
    "#     model_key = 'vaenet_ds1_v' + str(v_num)\n",
    "    \n",
    "#     try:\n",
    "#         with open ('./results.json', 'r') as file:\n",
    "#             results = json.load(file)\n",
    "    \n",
    "#         results[model_key][run_number] = {}\n",
    "#         results[model_key][run_number]['test_auc_ut'] = test_auc_ut\n",
    "#         results[model_key][run_number]['test_auc_ue'] = test_auc_ue\n",
    "#         results[model_key][run_number]['test_aup_ut'] = test_aup_ut\n",
    "#         results[model_key][run_number]['test_aup_ue'] = test_aup_ue\n",
    "#         results[model_key][run_number]['loss'] = loss\n",
    "#         results[model_key][run_number]['acc'] = acc\n",
    "#         results[model_key][run_number]['saved_model_index'] = test_auc_ut.index(max(test_auc_ut))\n",
    "        \n",
    "#         with open('./results.json', 'w') as file: \n",
    "#             json.dump(results, file)\n",
    "        \n",
    "#     except: \n",
    "        \n",
    "#         current_results[model_key][run_number] = {}\n",
    "#         current_results[model_key][run_number]['test_auc_ut'] = test_auc_ut\n",
    "#         current_results[model_key][run_number]['test_auc_ue'] = test_auc_ue\n",
    "#         current_results[model_key][run_number]['test_aup_ut'] = test_aup_ut\n",
    "#         current_results[model_key][run_number]['test_aup_ue'] = test_aup_ue\n",
    "#         current_results[model_key][run_number]['loss'] = loss\n",
    "#         current_results[model_key][run_number]['acc'] = acc\n",
    "#         current_results[model_key][run_number]['saved_model_index'] = test_auc_ut.index(max(test_auc_ut))\n",
    "        \n",
    "#         with open('./results.json', 'w') as file: \n",
    "#             json.dump(current_results, file)\n",
    "            \n",
    "\n",
    "#     print (\"Results Saved\")\n"
   ]
  },
  {
   "cell_type": "markdown",
   "metadata": {
    "heading_collapsed": true
   },
   "source": [
    "#### Training Curves"
   ]
  },
  {
   "cell_type": "code",
   "execution_count": 32,
   "metadata": {
    "hidden": true
   },
   "outputs": [],
   "source": [
    "with open('./KF/results.json', 'r') as file: \n",
    "    results = json.loads(file.read())"
   ]
  },
  {
   "cell_type": "code",
   "execution_count": 33,
   "metadata": {
    "hidden": true
   },
   "outputs": [
    {
     "data": {
      "text/plain": [
       "dict_keys(['0', '1', '2', '3', '4', '5'])"
      ]
     },
     "execution_count": 33,
     "metadata": {},
     "output_type": "execute_result"
    }
   ],
   "source": [
    "results['vaenet_DS1_v0'].keys()"
   ]
  },
  {
   "cell_type": "code",
   "execution_count": 30,
   "metadata": {
    "hidden": true
   },
   "outputs": [
    {
     "data": {
      "text/plain": [
       "{'deep_purpose_ds2_0': {0: {'val_auc_ut': [0.7288975987628046],\n",
       "   'val_auc_ue': [0.8828140578265204],\n",
       "   'val_aup_ut': [0.7122598245035624],\n",
       "   'val_aup_ue': [0.8829741604472969],\n",
       "   'loss': [],\n",
       "   'acc': []},\n",
       "  1: {'val_auc_ut': [0.7365599561455007],\n",
       "   'val_auc_ue': [0.8563838189508893],\n",
       "   'val_aup_ut': [0.7076411654799284],\n",
       "   'val_aup_ue': [0.8396502088578583],\n",
       "   'loss': [],\n",
       "   'acc': []},\n",
       "  2: {'val_auc_ut': [0.7433777532305217],\n",
       "   'val_auc_ue': [0.8788526978412405],\n",
       "   'val_aup_ut': [0.7090575394557106],\n",
       "   'val_aup_ue': [0.8724136784374023],\n",
       "   'loss': [],\n",
       "   'acc': []},\n",
       "  3: {'val_auc_ut': [0.7039771087964773],\n",
       "   'val_auc_ue': [0.8750447912040795],\n",
       "   'val_aup_ut': [0.6717430721155628],\n",
       "   'val_aup_ue': [0.8764174388691334],\n",
       "   'loss': [],\n",
       "   'acc': []},\n",
       "  4: {'val_auc_ut': [0.6954483146506663],\n",
       "   'val_auc_ue': [0.8790041826263472],\n",
       "   'val_aup_ut': [0.6396424752968368],\n",
       "   'val_aup_ue': [0.8838223652489066],\n",
       "   'loss': [],\n",
       "   'acc': []},\n",
       "  5: {'val_auc_ut': [0.7429212535698838],\n",
       "   'val_auc_ue': [0.8915420201028635],\n",
       "   'val_aup_ut': [0.7080286328855486],\n",
       "   'val_aup_ue': [0.8819092835966839],\n",
       "   'loss': [],\n",
       "   'acc': []}}}"
      ]
     },
     "execution_count": 30,
     "metadata": {},
     "output_type": "execute_result"
    }
   ],
   "source": [
    "results"
   ]
  },
  {
   "cell_type": "code",
   "execution_count": 34,
   "metadata": {
    "hidden": true
   },
   "outputs": [],
   "source": [
    "averaged_results = {}"
   ]
  },
  {
   "cell_type": "code",
   "execution_count": 35,
   "metadata": {
    "hidden": true
   },
   "outputs": [
    {
     "data": {
      "application/vnd.plotly.v1+json": {
       "config": {
        "plotlyServerURL": "https://plot.ly"
       },
       "data": [
        {
         "legendgroup": "0",
         "line": {
          "color": "deepskyblue"
         },
         "mode": "lines",
         "name": "Unseen Targets AUC",
         "showlegend": true,
         "type": "scatter",
         "x": [
          0
         ],
         "xaxis": "x",
         "y": [
          0.7288975987628046
         ],
         "yaxis": "y"
        },
        {
         "legendgroup": "0",
         "line": {
          "color": "blue"
         },
         "mode": "lines",
         "name": "Unseen Edges AUC",
         "showlegend": true,
         "type": "scatter",
         "x": [
          0
         ],
         "xaxis": "x",
         "y": [
          0.8828140578265204
         ],
         "yaxis": "y"
        },
        {
         "legendgroup": "0",
         "line": {
          "color": "red"
         },
         "mode": "lines",
         "name": "Unseen Targets AUP",
         "showlegend": true,
         "type": "scatter",
         "x": [
          0
         ],
         "xaxis": "x",
         "y": [
          0.7122598245035624
         ],
         "yaxis": "y"
        },
        {
         "legendgroup": "0",
         "line": {
          "color": "green"
         },
         "mode": "lines",
         "name": "Unseen Edges AUP",
         "showlegend": true,
         "type": "scatter",
         "x": [
          0
         ],
         "xaxis": "x",
         "y": [
          0.8829741604472969
         ],
         "yaxis": "y"
        },
        {
         "legendgroup": "1",
         "line": {
          "color": "deepskyblue"
         },
         "mode": "lines",
         "name": "Unseen Targets AUC",
         "showlegend": false,
         "type": "scatter",
         "x": [
          0
         ],
         "xaxis": "x2",
         "y": [
          0.7365599561455007
         ],
         "yaxis": "y2"
        },
        {
         "legendgroup": "1",
         "line": {
          "color": "blue"
         },
         "mode": "lines",
         "name": "Unseen Edges AUC",
         "showlegend": false,
         "type": "scatter",
         "x": [
          0
         ],
         "xaxis": "x2",
         "y": [
          0.8563838189508893
         ],
         "yaxis": "y2"
        },
        {
         "legendgroup": "1",
         "line": {
          "color": "red"
         },
         "mode": "lines",
         "name": "Unseen Targets AUP",
         "showlegend": false,
         "type": "scatter",
         "x": [
          0
         ],
         "xaxis": "x2",
         "y": [
          0.7076411654799284
         ],
         "yaxis": "y2"
        },
        {
         "legendgroup": "1",
         "line": {
          "color": "green"
         },
         "mode": "lines",
         "name": "Unseen Edges AUP",
         "showlegend": false,
         "type": "scatter",
         "x": [
          0
         ],
         "xaxis": "x2",
         "y": [
          0.8396502088578583
         ],
         "yaxis": "y2"
        },
        {
         "legendgroup": "2",
         "line": {
          "color": "deepskyblue"
         },
         "mode": "lines",
         "name": "Unseen Targets AUC",
         "showlegend": false,
         "type": "scatter",
         "x": [
          0
         ],
         "xaxis": "x3",
         "y": [
          0.7433777532305217
         ],
         "yaxis": "y3"
        },
        {
         "legendgroup": "2",
         "line": {
          "color": "blue"
         },
         "mode": "lines",
         "name": "Unseen Edges AUC",
         "showlegend": false,
         "type": "scatter",
         "x": [
          0
         ],
         "xaxis": "x3",
         "y": [
          0.8788526978412405
         ],
         "yaxis": "y3"
        },
        {
         "legendgroup": "2",
         "line": {
          "color": "red"
         },
         "mode": "lines",
         "name": "Unseen Targets AUP",
         "showlegend": false,
         "type": "scatter",
         "x": [
          0
         ],
         "xaxis": "x3",
         "y": [
          0.7090575394557106
         ],
         "yaxis": "y3"
        },
        {
         "legendgroup": "2",
         "line": {
          "color": "green"
         },
         "mode": "lines",
         "name": "Unseen Edges AUP",
         "showlegend": false,
         "type": "scatter",
         "x": [
          0
         ],
         "xaxis": "x3",
         "y": [
          0.8724136784374023
         ],
         "yaxis": "y3"
        },
        {
         "legendgroup": "3",
         "line": {
          "color": "deepskyblue"
         },
         "mode": "lines",
         "name": "Unseen Targets AUC",
         "showlegend": false,
         "type": "scatter",
         "x": [
          0
         ],
         "xaxis": "x4",
         "y": [
          0.7039771087964773
         ],
         "yaxis": "y4"
        },
        {
         "legendgroup": "3",
         "line": {
          "color": "blue"
         },
         "mode": "lines",
         "name": "Unseen Edges AUC",
         "showlegend": false,
         "type": "scatter",
         "x": [
          0
         ],
         "xaxis": "x4",
         "y": [
          0.8750447912040795
         ],
         "yaxis": "y4"
        },
        {
         "legendgroup": "3",
         "line": {
          "color": "red"
         },
         "mode": "lines",
         "name": "Unseen Targets AUP",
         "showlegend": false,
         "type": "scatter",
         "x": [
          0
         ],
         "xaxis": "x4",
         "y": [
          0.6717430721155628
         ],
         "yaxis": "y4"
        },
        {
         "legendgroup": "3",
         "line": {
          "color": "green"
         },
         "mode": "lines",
         "name": "Unseen Edges AUP",
         "showlegend": false,
         "type": "scatter",
         "x": [
          0
         ],
         "xaxis": "x4",
         "y": [
          0.8764174388691334
         ],
         "yaxis": "y4"
        },
        {
         "legendgroup": "4",
         "line": {
          "color": "deepskyblue"
         },
         "mode": "lines",
         "name": "Unseen Targets AUC",
         "showlegend": false,
         "type": "scatter",
         "x": [
          0
         ],
         "xaxis": "x5",
         "y": [
          0.6954483146506663
         ],
         "yaxis": "y5"
        },
        {
         "legendgroup": "4",
         "line": {
          "color": "blue"
         },
         "mode": "lines",
         "name": "Unseen Edges AUC",
         "showlegend": false,
         "type": "scatter",
         "x": [
          0
         ],
         "xaxis": "x5",
         "y": [
          0.8790041826263472
         ],
         "yaxis": "y5"
        },
        {
         "legendgroup": "4",
         "line": {
          "color": "red"
         },
         "mode": "lines",
         "name": "Unseen Targets AUP",
         "showlegend": false,
         "type": "scatter",
         "x": [
          0
         ],
         "xaxis": "x5",
         "y": [
          0.6396424752968368
         ],
         "yaxis": "y5"
        },
        {
         "legendgroup": "4",
         "line": {
          "color": "green"
         },
         "mode": "lines",
         "name": "Unseen Edges AUP",
         "showlegend": false,
         "type": "scatter",
         "x": [
          0
         ],
         "xaxis": "x5",
         "y": [
          0.8838223652489066
         ],
         "yaxis": "y5"
        },
        {
         "legendgroup": "5",
         "line": {
          "color": "deepskyblue"
         },
         "mode": "lines",
         "name": "Unseen Targets AUC",
         "showlegend": false,
         "type": "scatter",
         "x": [
          0
         ],
         "xaxis": "x6",
         "y": [
          0.7429212535698838
         ],
         "yaxis": "y6"
        },
        {
         "legendgroup": "5",
         "line": {
          "color": "blue"
         },
         "mode": "lines",
         "name": "Unseen Edges AUC",
         "showlegend": false,
         "type": "scatter",
         "x": [
          0
         ],
         "xaxis": "x6",
         "y": [
          0.8915420201028635
         ],
         "yaxis": "y6"
        },
        {
         "legendgroup": "5",
         "line": {
          "color": "red"
         },
         "mode": "lines",
         "name": "Unseen Targets AUP",
         "showlegend": false,
         "type": "scatter",
         "x": [
          0
         ],
         "xaxis": "x6",
         "y": [
          0.7080286328855486
         ],
         "yaxis": "y6"
        },
        {
         "legendgroup": "5",
         "line": {
          "color": "green"
         },
         "mode": "lines",
         "name": "Unseen Edges AUP",
         "showlegend": false,
         "type": "scatter",
         "x": [
          0
         ],
         "xaxis": "x6",
         "y": [
          0.8819092835966839
         ],
         "yaxis": "y6"
        }
       ],
       "layout": {
        "annotations": [
         {
          "font": {
           "size": 16
          },
          "showarrow": false,
          "text": "VecNet Run 0",
          "x": 0.225,
          "xanchor": "center",
          "xref": "paper",
          "y": 1,
          "yanchor": "bottom",
          "yref": "paper"
         },
         {
          "font": {
           "size": 16
          },
          "showarrow": false,
          "text": "VecNet Run 1",
          "x": 0.775,
          "xanchor": "center",
          "xref": "paper",
          "y": 1,
          "yanchor": "bottom",
          "yref": "paper"
         },
         {
          "font": {
           "size": 16
          },
          "showarrow": false,
          "text": "VecNet Run 2",
          "x": 0.225,
          "xanchor": "center",
          "xref": "paper",
          "y": 0.6111111111111112,
          "yanchor": "bottom",
          "yref": "paper"
         },
         {
          "font": {
           "size": 16
          },
          "showarrow": false,
          "text": "VecNet Run 3",
          "x": 0.775,
          "xanchor": "center",
          "xref": "paper",
          "y": 0.6111111111111112,
          "yanchor": "bottom",
          "yref": "paper"
         },
         {
          "font": {
           "size": 16
          },
          "showarrow": false,
          "text": "VecNet Run 4",
          "x": 0.225,
          "xanchor": "center",
          "xref": "paper",
          "y": 0.22222222222222224,
          "yanchor": "bottom",
          "yref": "paper"
         },
         {
          "font": {
           "size": 16
          },
          "showarrow": false,
          "text": "VecNet Run 5",
          "x": 0.775,
          "xanchor": "center",
          "xref": "paper",
          "y": 0.22222222222222224,
          "yanchor": "bottom",
          "yref": "paper"
         }
        ],
        "height": 1500,
        "showlegend": true,
        "template": {
         "data": {
          "bar": [
           {
            "error_x": {
             "color": "#2a3f5f"
            },
            "error_y": {
             "color": "#2a3f5f"
            },
            "marker": {
             "line": {
              "color": "#E5ECF6",
              "width": 0.5
             }
            },
            "type": "bar"
           }
          ],
          "barpolar": [
           {
            "marker": {
             "line": {
              "color": "#E5ECF6",
              "width": 0.5
             }
            },
            "type": "barpolar"
           }
          ],
          "carpet": [
           {
            "aaxis": {
             "endlinecolor": "#2a3f5f",
             "gridcolor": "white",
             "linecolor": "white",
             "minorgridcolor": "white",
             "startlinecolor": "#2a3f5f"
            },
            "baxis": {
             "endlinecolor": "#2a3f5f",
             "gridcolor": "white",
             "linecolor": "white",
             "minorgridcolor": "white",
             "startlinecolor": "#2a3f5f"
            },
            "type": "carpet"
           }
          ],
          "choropleth": [
           {
            "colorbar": {
             "outlinewidth": 0,
             "ticks": ""
            },
            "type": "choropleth"
           }
          ],
          "contour": [
           {
            "colorbar": {
             "outlinewidth": 0,
             "ticks": ""
            },
            "colorscale": [
             [
              0,
              "#0d0887"
             ],
             [
              0.1111111111111111,
              "#46039f"
             ],
             [
              0.2222222222222222,
              "#7201a8"
             ],
             [
              0.3333333333333333,
              "#9c179e"
             ],
             [
              0.4444444444444444,
              "#bd3786"
             ],
             [
              0.5555555555555556,
              "#d8576b"
             ],
             [
              0.6666666666666666,
              "#ed7953"
             ],
             [
              0.7777777777777778,
              "#fb9f3a"
             ],
             [
              0.8888888888888888,
              "#fdca26"
             ],
             [
              1,
              "#f0f921"
             ]
            ],
            "type": "contour"
           }
          ],
          "contourcarpet": [
           {
            "colorbar": {
             "outlinewidth": 0,
             "ticks": ""
            },
            "type": "contourcarpet"
           }
          ],
          "heatmap": [
           {
            "colorbar": {
             "outlinewidth": 0,
             "ticks": ""
            },
            "colorscale": [
             [
              0,
              "#0d0887"
             ],
             [
              0.1111111111111111,
              "#46039f"
             ],
             [
              0.2222222222222222,
              "#7201a8"
             ],
             [
              0.3333333333333333,
              "#9c179e"
             ],
             [
              0.4444444444444444,
              "#bd3786"
             ],
             [
              0.5555555555555556,
              "#d8576b"
             ],
             [
              0.6666666666666666,
              "#ed7953"
             ],
             [
              0.7777777777777778,
              "#fb9f3a"
             ],
             [
              0.8888888888888888,
              "#fdca26"
             ],
             [
              1,
              "#f0f921"
             ]
            ],
            "type": "heatmap"
           }
          ],
          "heatmapgl": [
           {
            "colorbar": {
             "outlinewidth": 0,
             "ticks": ""
            },
            "colorscale": [
             [
              0,
              "#0d0887"
             ],
             [
              0.1111111111111111,
              "#46039f"
             ],
             [
              0.2222222222222222,
              "#7201a8"
             ],
             [
              0.3333333333333333,
              "#9c179e"
             ],
             [
              0.4444444444444444,
              "#bd3786"
             ],
             [
              0.5555555555555556,
              "#d8576b"
             ],
             [
              0.6666666666666666,
              "#ed7953"
             ],
             [
              0.7777777777777778,
              "#fb9f3a"
             ],
             [
              0.8888888888888888,
              "#fdca26"
             ],
             [
              1,
              "#f0f921"
             ]
            ],
            "type": "heatmapgl"
           }
          ],
          "histogram": [
           {
            "marker": {
             "colorbar": {
              "outlinewidth": 0,
              "ticks": ""
             }
            },
            "type": "histogram"
           }
          ],
          "histogram2d": [
           {
            "colorbar": {
             "outlinewidth": 0,
             "ticks": ""
            },
            "colorscale": [
             [
              0,
              "#0d0887"
             ],
             [
              0.1111111111111111,
              "#46039f"
             ],
             [
              0.2222222222222222,
              "#7201a8"
             ],
             [
              0.3333333333333333,
              "#9c179e"
             ],
             [
              0.4444444444444444,
              "#bd3786"
             ],
             [
              0.5555555555555556,
              "#d8576b"
             ],
             [
              0.6666666666666666,
              "#ed7953"
             ],
             [
              0.7777777777777778,
              "#fb9f3a"
             ],
             [
              0.8888888888888888,
              "#fdca26"
             ],
             [
              1,
              "#f0f921"
             ]
            ],
            "type": "histogram2d"
           }
          ],
          "histogram2dcontour": [
           {
            "colorbar": {
             "outlinewidth": 0,
             "ticks": ""
            },
            "colorscale": [
             [
              0,
              "#0d0887"
             ],
             [
              0.1111111111111111,
              "#46039f"
             ],
             [
              0.2222222222222222,
              "#7201a8"
             ],
             [
              0.3333333333333333,
              "#9c179e"
             ],
             [
              0.4444444444444444,
              "#bd3786"
             ],
             [
              0.5555555555555556,
              "#d8576b"
             ],
             [
              0.6666666666666666,
              "#ed7953"
             ],
             [
              0.7777777777777778,
              "#fb9f3a"
             ],
             [
              0.8888888888888888,
              "#fdca26"
             ],
             [
              1,
              "#f0f921"
             ]
            ],
            "type": "histogram2dcontour"
           }
          ],
          "mesh3d": [
           {
            "colorbar": {
             "outlinewidth": 0,
             "ticks": ""
            },
            "type": "mesh3d"
           }
          ],
          "parcoords": [
           {
            "line": {
             "colorbar": {
              "outlinewidth": 0,
              "ticks": ""
             }
            },
            "type": "parcoords"
           }
          ],
          "pie": [
           {
            "automargin": true,
            "type": "pie"
           }
          ],
          "scatter": [
           {
            "marker": {
             "colorbar": {
              "outlinewidth": 0,
              "ticks": ""
             }
            },
            "type": "scatter"
           }
          ],
          "scatter3d": [
           {
            "line": {
             "colorbar": {
              "outlinewidth": 0,
              "ticks": ""
             }
            },
            "marker": {
             "colorbar": {
              "outlinewidth": 0,
              "ticks": ""
             }
            },
            "type": "scatter3d"
           }
          ],
          "scattercarpet": [
           {
            "marker": {
             "colorbar": {
              "outlinewidth": 0,
              "ticks": ""
             }
            },
            "type": "scattercarpet"
           }
          ],
          "scattergeo": [
           {
            "marker": {
             "colorbar": {
              "outlinewidth": 0,
              "ticks": ""
             }
            },
            "type": "scattergeo"
           }
          ],
          "scattergl": [
           {
            "marker": {
             "colorbar": {
              "outlinewidth": 0,
              "ticks": ""
             }
            },
            "type": "scattergl"
           }
          ],
          "scattermapbox": [
           {
            "marker": {
             "colorbar": {
              "outlinewidth": 0,
              "ticks": ""
             }
            },
            "type": "scattermapbox"
           }
          ],
          "scatterpolar": [
           {
            "marker": {
             "colorbar": {
              "outlinewidth": 0,
              "ticks": ""
             }
            },
            "type": "scatterpolar"
           }
          ],
          "scatterpolargl": [
           {
            "marker": {
             "colorbar": {
              "outlinewidth": 0,
              "ticks": ""
             }
            },
            "type": "scatterpolargl"
           }
          ],
          "scatterternary": [
           {
            "marker": {
             "colorbar": {
              "outlinewidth": 0,
              "ticks": ""
             }
            },
            "type": "scatterternary"
           }
          ],
          "surface": [
           {
            "colorbar": {
             "outlinewidth": 0,
             "ticks": ""
            },
            "colorscale": [
             [
              0,
              "#0d0887"
             ],
             [
              0.1111111111111111,
              "#46039f"
             ],
             [
              0.2222222222222222,
              "#7201a8"
             ],
             [
              0.3333333333333333,
              "#9c179e"
             ],
             [
              0.4444444444444444,
              "#bd3786"
             ],
             [
              0.5555555555555556,
              "#d8576b"
             ],
             [
              0.6666666666666666,
              "#ed7953"
             ],
             [
              0.7777777777777778,
              "#fb9f3a"
             ],
             [
              0.8888888888888888,
              "#fdca26"
             ],
             [
              1,
              "#f0f921"
             ]
            ],
            "type": "surface"
           }
          ],
          "table": [
           {
            "cells": {
             "fill": {
              "color": "#EBF0F8"
             },
             "line": {
              "color": "white"
             }
            },
            "header": {
             "fill": {
              "color": "#C8D4E3"
             },
             "line": {
              "color": "white"
             }
            },
            "type": "table"
           }
          ]
         },
         "layout": {
          "annotationdefaults": {
           "arrowcolor": "#2a3f5f",
           "arrowhead": 0,
           "arrowwidth": 1
          },
          "autotypenumbers": "strict",
          "coloraxis": {
           "colorbar": {
            "outlinewidth": 0,
            "ticks": ""
           }
          },
          "colorscale": {
           "diverging": [
            [
             0,
             "#8e0152"
            ],
            [
             0.1,
             "#c51b7d"
            ],
            [
             0.2,
             "#de77ae"
            ],
            [
             0.3,
             "#f1b6da"
            ],
            [
             0.4,
             "#fde0ef"
            ],
            [
             0.5,
             "#f7f7f7"
            ],
            [
             0.6,
             "#e6f5d0"
            ],
            [
             0.7,
             "#b8e186"
            ],
            [
             0.8,
             "#7fbc41"
            ],
            [
             0.9,
             "#4d9221"
            ],
            [
             1,
             "#276419"
            ]
           ],
           "sequential": [
            [
             0,
             "#0d0887"
            ],
            [
             0.1111111111111111,
             "#46039f"
            ],
            [
             0.2222222222222222,
             "#7201a8"
            ],
            [
             0.3333333333333333,
             "#9c179e"
            ],
            [
             0.4444444444444444,
             "#bd3786"
            ],
            [
             0.5555555555555556,
             "#d8576b"
            ],
            [
             0.6666666666666666,
             "#ed7953"
            ],
            [
             0.7777777777777778,
             "#fb9f3a"
            ],
            [
             0.8888888888888888,
             "#fdca26"
            ],
            [
             1,
             "#f0f921"
            ]
           ],
           "sequentialminus": [
            [
             0,
             "#0d0887"
            ],
            [
             0.1111111111111111,
             "#46039f"
            ],
            [
             0.2222222222222222,
             "#7201a8"
            ],
            [
             0.3333333333333333,
             "#9c179e"
            ],
            [
             0.4444444444444444,
             "#bd3786"
            ],
            [
             0.5555555555555556,
             "#d8576b"
            ],
            [
             0.6666666666666666,
             "#ed7953"
            ],
            [
             0.7777777777777778,
             "#fb9f3a"
            ],
            [
             0.8888888888888888,
             "#fdca26"
            ],
            [
             1,
             "#f0f921"
            ]
           ]
          },
          "colorway": [
           "#636efa",
           "#EF553B",
           "#00cc96",
           "#ab63fa",
           "#FFA15A",
           "#19d3f3",
           "#FF6692",
           "#B6E880",
           "#FF97FF",
           "#FECB52"
          ],
          "font": {
           "color": "#2a3f5f"
          },
          "geo": {
           "bgcolor": "white",
           "lakecolor": "white",
           "landcolor": "#E5ECF6",
           "showlakes": true,
           "showland": true,
           "subunitcolor": "white"
          },
          "hoverlabel": {
           "align": "left"
          },
          "hovermode": "closest",
          "mapbox": {
           "style": "light"
          },
          "paper_bgcolor": "white",
          "plot_bgcolor": "#E5ECF6",
          "polar": {
           "angularaxis": {
            "gridcolor": "white",
            "linecolor": "white",
            "ticks": ""
           },
           "bgcolor": "#E5ECF6",
           "radialaxis": {
            "gridcolor": "white",
            "linecolor": "white",
            "ticks": ""
           }
          },
          "scene": {
           "xaxis": {
            "backgroundcolor": "#E5ECF6",
            "gridcolor": "white",
            "gridwidth": 2,
            "linecolor": "white",
            "showbackground": true,
            "ticks": "",
            "zerolinecolor": "white"
           },
           "yaxis": {
            "backgroundcolor": "#E5ECF6",
            "gridcolor": "white",
            "gridwidth": 2,
            "linecolor": "white",
            "showbackground": true,
            "ticks": "",
            "zerolinecolor": "white"
           },
           "zaxis": {
            "backgroundcolor": "#E5ECF6",
            "gridcolor": "white",
            "gridwidth": 2,
            "linecolor": "white",
            "showbackground": true,
            "ticks": "",
            "zerolinecolor": "white"
           }
          },
          "shapedefaults": {
           "line": {
            "color": "#2a3f5f"
           }
          },
          "ternary": {
           "aaxis": {
            "gridcolor": "white",
            "linecolor": "white",
            "ticks": ""
           },
           "baxis": {
            "gridcolor": "white",
            "linecolor": "white",
            "ticks": ""
           },
           "bgcolor": "#E5ECF6",
           "caxis": {
            "gridcolor": "white",
            "linecolor": "white",
            "ticks": ""
           }
          },
          "title": {
           "x": 0.05
          },
          "xaxis": {
           "automargin": true,
           "gridcolor": "white",
           "linecolor": "white",
           "ticks": "",
           "title": {
            "standoff": 15
           },
           "zerolinecolor": "white",
           "zerolinewidth": 2
          },
          "yaxis": {
           "automargin": true,
           "gridcolor": "white",
           "linecolor": "white",
           "ticks": "",
           "title": {
            "standoff": 15
           },
           "zerolinecolor": "white",
           "zerolinewidth": 2
          }
         }
        },
        "title": {
         "text": "DeepPurpose 6 Fold Cross Validation"
        },
        "width": 1500,
        "xaxis": {
         "anchor": "y",
         "domain": [
          0,
          0.45
         ],
         "title": {
          "text": "Epochs * Chunks"
         }
        },
        "xaxis2": {
         "anchor": "y2",
         "domain": [
          0.55,
          1
         ],
         "title": {
          "text": "Epochs * Chunks"
         }
        },
        "xaxis3": {
         "anchor": "y3",
         "domain": [
          0,
          0.45
         ],
         "title": {
          "text": "Epochs * Chunks"
         }
        },
        "xaxis4": {
         "anchor": "y4",
         "domain": [
          0.55,
          1
         ],
         "title": {
          "text": "Epochs * Chunks"
         }
        },
        "xaxis5": {
         "anchor": "y5",
         "domain": [
          0,
          0.45
         ],
         "title": {
          "text": "Epochs * Chunks"
         }
        },
        "xaxis6": {
         "anchor": "y6",
         "domain": [
          0.55,
          1
         ],
         "title": {
          "text": "Epochs * Chunks"
         }
        },
        "yaxis": {
         "anchor": "x",
         "domain": [
          0.7777777777777778,
          1
         ],
         "title": {
          "text": "Performance"
         }
        },
        "yaxis2": {
         "anchor": "x2",
         "domain": [
          0.7777777777777778,
          1
         ],
         "title": {
          "text": "Performance"
         }
        },
        "yaxis3": {
         "anchor": "x3",
         "domain": [
          0.3888888888888889,
          0.6111111111111112
         ],
         "title": {
          "text": "Performance"
         }
        },
        "yaxis4": {
         "anchor": "x4",
         "domain": [
          0.3888888888888889,
          0.6111111111111112
         ],
         "title": {
          "text": "Performance"
         }
        },
        "yaxis5": {
         "anchor": "x5",
         "domain": [
          0,
          0.22222222222222224
         ],
         "title": {
          "text": "Performance"
         }
        },
        "yaxis6": {
         "anchor": "x6",
         "domain": [
          0,
          0.22222222222222224
         ],
         "title": {
          "text": "Performance"
         }
        }
       }
      },
      "text/html": [
       "<div>                            <div id=\"b4706519-0cbf-4f96-ad30-7a739cf16b85\" class=\"plotly-graph-div\" style=\"height:1500px; width:1500px;\"></div>            <script type=\"text/javascript\">                require([\"plotly\"], function(Plotly) {                    window.PLOTLYENV=window.PLOTLYENV || {};                                    if (document.getElementById(\"b4706519-0cbf-4f96-ad30-7a739cf16b85\")) {                    Plotly.newPlot(                        \"b4706519-0cbf-4f96-ad30-7a739cf16b85\",                        [{\"legendgroup\": \"0\", \"line\": {\"color\": \"deepskyblue\"}, \"mode\": \"lines\", \"name\": \"Unseen Targets AUC\", \"showlegend\": true, \"type\": \"scatter\", \"x\": [0], \"xaxis\": \"x\", \"y\": [0.7288975987628046], \"yaxis\": \"y\"}, {\"legendgroup\": \"0\", \"line\": {\"color\": \"blue\"}, \"mode\": \"lines\", \"name\": \"Unseen Edges AUC\", \"showlegend\": true, \"type\": \"scatter\", \"x\": [0], \"xaxis\": \"x\", \"y\": [0.8828140578265204], \"yaxis\": \"y\"}, {\"legendgroup\": \"0\", \"line\": {\"color\": \"red\"}, \"mode\": \"lines\", \"name\": \"Unseen Targets AUP\", \"showlegend\": true, \"type\": \"scatter\", \"x\": [0], \"xaxis\": \"x\", \"y\": [0.7122598245035624], \"yaxis\": \"y\"}, {\"legendgroup\": \"0\", \"line\": {\"color\": \"green\"}, \"mode\": \"lines\", \"name\": \"Unseen Edges AUP\", \"showlegend\": true, \"type\": \"scatter\", \"x\": [0], \"xaxis\": \"x\", \"y\": [0.8829741604472969], \"yaxis\": \"y\"}, {\"legendgroup\": \"1\", \"line\": {\"color\": \"deepskyblue\"}, \"mode\": \"lines\", \"name\": \"Unseen Targets AUC\", \"showlegend\": false, \"type\": \"scatter\", \"x\": [0], \"xaxis\": \"x2\", \"y\": [0.7365599561455007], \"yaxis\": \"y2\"}, {\"legendgroup\": \"1\", \"line\": {\"color\": \"blue\"}, \"mode\": \"lines\", \"name\": \"Unseen Edges AUC\", \"showlegend\": false, \"type\": \"scatter\", \"x\": [0], \"xaxis\": \"x2\", \"y\": [0.8563838189508893], \"yaxis\": \"y2\"}, {\"legendgroup\": \"1\", \"line\": {\"color\": \"red\"}, \"mode\": \"lines\", \"name\": \"Unseen Targets AUP\", \"showlegend\": false, \"type\": \"scatter\", \"x\": [0], \"xaxis\": \"x2\", \"y\": [0.7076411654799284], \"yaxis\": \"y2\"}, {\"legendgroup\": \"1\", \"line\": {\"color\": \"green\"}, \"mode\": \"lines\", \"name\": \"Unseen Edges AUP\", \"showlegend\": false, \"type\": \"scatter\", \"x\": [0], \"xaxis\": \"x2\", \"y\": [0.8396502088578583], \"yaxis\": \"y2\"}, {\"legendgroup\": \"2\", \"line\": {\"color\": \"deepskyblue\"}, \"mode\": \"lines\", \"name\": \"Unseen Targets AUC\", \"showlegend\": false, \"type\": \"scatter\", \"x\": [0], \"xaxis\": \"x3\", \"y\": [0.7433777532305217], \"yaxis\": \"y3\"}, {\"legendgroup\": \"2\", \"line\": {\"color\": \"blue\"}, \"mode\": \"lines\", \"name\": \"Unseen Edges AUC\", \"showlegend\": false, \"type\": \"scatter\", \"x\": [0], \"xaxis\": \"x3\", \"y\": [0.8788526978412405], \"yaxis\": \"y3\"}, {\"legendgroup\": \"2\", \"line\": {\"color\": \"red\"}, \"mode\": \"lines\", \"name\": \"Unseen Targets AUP\", \"showlegend\": false, \"type\": \"scatter\", \"x\": [0], \"xaxis\": \"x3\", \"y\": [0.7090575394557106], \"yaxis\": \"y3\"}, {\"legendgroup\": \"2\", \"line\": {\"color\": \"green\"}, \"mode\": \"lines\", \"name\": \"Unseen Edges AUP\", \"showlegend\": false, \"type\": \"scatter\", \"x\": [0], \"xaxis\": \"x3\", \"y\": [0.8724136784374023], \"yaxis\": \"y3\"}, {\"legendgroup\": \"3\", \"line\": {\"color\": \"deepskyblue\"}, \"mode\": \"lines\", \"name\": \"Unseen Targets AUC\", \"showlegend\": false, \"type\": \"scatter\", \"x\": [0], \"xaxis\": \"x4\", \"y\": [0.7039771087964773], \"yaxis\": \"y4\"}, {\"legendgroup\": \"3\", \"line\": {\"color\": \"blue\"}, \"mode\": \"lines\", \"name\": \"Unseen Edges AUC\", \"showlegend\": false, \"type\": \"scatter\", \"x\": [0], \"xaxis\": \"x4\", \"y\": [0.8750447912040795], \"yaxis\": \"y4\"}, {\"legendgroup\": \"3\", \"line\": {\"color\": \"red\"}, \"mode\": \"lines\", \"name\": \"Unseen Targets AUP\", \"showlegend\": false, \"type\": \"scatter\", \"x\": [0], \"xaxis\": \"x4\", \"y\": [0.6717430721155628], \"yaxis\": \"y4\"}, {\"legendgroup\": \"3\", \"line\": {\"color\": \"green\"}, \"mode\": \"lines\", \"name\": \"Unseen Edges AUP\", \"showlegend\": false, \"type\": \"scatter\", \"x\": [0], \"xaxis\": \"x4\", \"y\": [0.8764174388691334], \"yaxis\": \"y4\"}, {\"legendgroup\": \"4\", \"line\": {\"color\": \"deepskyblue\"}, \"mode\": \"lines\", \"name\": \"Unseen Targets AUC\", \"showlegend\": false, \"type\": \"scatter\", \"x\": [0], \"xaxis\": \"x5\", \"y\": [0.6954483146506663], \"yaxis\": \"y5\"}, {\"legendgroup\": \"4\", \"line\": {\"color\": \"blue\"}, \"mode\": \"lines\", \"name\": \"Unseen Edges AUC\", \"showlegend\": false, \"type\": \"scatter\", \"x\": [0], \"xaxis\": \"x5\", \"y\": [0.8790041826263472], \"yaxis\": \"y5\"}, {\"legendgroup\": \"4\", \"line\": {\"color\": \"red\"}, \"mode\": \"lines\", \"name\": \"Unseen Targets AUP\", \"showlegend\": false, \"type\": \"scatter\", \"x\": [0], \"xaxis\": \"x5\", \"y\": [0.6396424752968368], \"yaxis\": \"y5\"}, {\"legendgroup\": \"4\", \"line\": {\"color\": \"green\"}, \"mode\": \"lines\", \"name\": \"Unseen Edges AUP\", \"showlegend\": false, \"type\": \"scatter\", \"x\": [0], \"xaxis\": \"x5\", \"y\": [0.8838223652489066], \"yaxis\": \"y5\"}, {\"legendgroup\": \"5\", \"line\": {\"color\": \"deepskyblue\"}, \"mode\": \"lines\", \"name\": \"Unseen Targets AUC\", \"showlegend\": false, \"type\": \"scatter\", \"x\": [0], \"xaxis\": \"x6\", \"y\": [0.7429212535698838], \"yaxis\": \"y6\"}, {\"legendgroup\": \"5\", \"line\": {\"color\": \"blue\"}, \"mode\": \"lines\", \"name\": \"Unseen Edges AUC\", \"showlegend\": false, \"type\": \"scatter\", \"x\": [0], \"xaxis\": \"x6\", \"y\": [0.8915420201028635], \"yaxis\": \"y6\"}, {\"legendgroup\": \"5\", \"line\": {\"color\": \"red\"}, \"mode\": \"lines\", \"name\": \"Unseen Targets AUP\", \"showlegend\": false, \"type\": \"scatter\", \"x\": [0], \"xaxis\": \"x6\", \"y\": [0.7080286328855486], \"yaxis\": \"y6\"}, {\"legendgroup\": \"5\", \"line\": {\"color\": \"green\"}, \"mode\": \"lines\", \"name\": \"Unseen Edges AUP\", \"showlegend\": false, \"type\": \"scatter\", \"x\": [0], \"xaxis\": \"x6\", \"y\": [0.8819092835966839], \"yaxis\": \"y6\"}],                        {\"annotations\": [{\"font\": {\"size\": 16}, \"showarrow\": false, \"text\": \"VecNet Run 0\", \"x\": 0.225, \"xanchor\": \"center\", \"xref\": \"paper\", \"y\": 1.0, \"yanchor\": \"bottom\", \"yref\": \"paper\"}, {\"font\": {\"size\": 16}, \"showarrow\": false, \"text\": \"VecNet Run 1\", \"x\": 0.775, \"xanchor\": \"center\", \"xref\": \"paper\", \"y\": 1.0, \"yanchor\": \"bottom\", \"yref\": \"paper\"}, {\"font\": {\"size\": 16}, \"showarrow\": false, \"text\": \"VecNet Run 2\", \"x\": 0.225, \"xanchor\": \"center\", \"xref\": \"paper\", \"y\": 0.6111111111111112, \"yanchor\": \"bottom\", \"yref\": \"paper\"}, {\"font\": {\"size\": 16}, \"showarrow\": false, \"text\": \"VecNet Run 3\", \"x\": 0.775, \"xanchor\": \"center\", \"xref\": \"paper\", \"y\": 0.6111111111111112, \"yanchor\": \"bottom\", \"yref\": \"paper\"}, {\"font\": {\"size\": 16}, \"showarrow\": false, \"text\": \"VecNet Run 4\", \"x\": 0.225, \"xanchor\": \"center\", \"xref\": \"paper\", \"y\": 0.22222222222222224, \"yanchor\": \"bottom\", \"yref\": \"paper\"}, {\"font\": {\"size\": 16}, \"showarrow\": false, \"text\": \"VecNet Run 5\", \"x\": 0.775, \"xanchor\": \"center\", \"xref\": \"paper\", \"y\": 0.22222222222222224, \"yanchor\": \"bottom\", \"yref\": \"paper\"}], \"height\": 1500, \"showlegend\": true, \"template\": {\"data\": {\"bar\": [{\"error_x\": {\"color\": \"#2a3f5f\"}, \"error_y\": {\"color\": \"#2a3f5f\"}, \"marker\": {\"line\": {\"color\": \"#E5ECF6\", \"width\": 0.5}}, \"type\": \"bar\"}], \"barpolar\": [{\"marker\": {\"line\": {\"color\": \"#E5ECF6\", \"width\": 0.5}}, \"type\": \"barpolar\"}], \"carpet\": [{\"aaxis\": {\"endlinecolor\": \"#2a3f5f\", \"gridcolor\": \"white\", \"linecolor\": \"white\", \"minorgridcolor\": \"white\", \"startlinecolor\": \"#2a3f5f\"}, \"baxis\": {\"endlinecolor\": \"#2a3f5f\", \"gridcolor\": \"white\", \"linecolor\": \"white\", \"minorgridcolor\": \"white\", \"startlinecolor\": \"#2a3f5f\"}, \"type\": \"carpet\"}], \"choropleth\": [{\"colorbar\": {\"outlinewidth\": 0, \"ticks\": \"\"}, \"type\": \"choropleth\"}], \"contour\": [{\"colorbar\": {\"outlinewidth\": 0, \"ticks\": \"\"}, \"colorscale\": [[0.0, \"#0d0887\"], [0.1111111111111111, \"#46039f\"], [0.2222222222222222, \"#7201a8\"], [0.3333333333333333, \"#9c179e\"], [0.4444444444444444, \"#bd3786\"], [0.5555555555555556, \"#d8576b\"], [0.6666666666666666, \"#ed7953\"], [0.7777777777777778, \"#fb9f3a\"], [0.8888888888888888, \"#fdca26\"], [1.0, \"#f0f921\"]], \"type\": \"contour\"}], \"contourcarpet\": [{\"colorbar\": {\"outlinewidth\": 0, \"ticks\": \"\"}, \"type\": \"contourcarpet\"}], \"heatmap\": [{\"colorbar\": {\"outlinewidth\": 0, \"ticks\": \"\"}, \"colorscale\": [[0.0, \"#0d0887\"], [0.1111111111111111, \"#46039f\"], [0.2222222222222222, \"#7201a8\"], [0.3333333333333333, \"#9c179e\"], [0.4444444444444444, \"#bd3786\"], [0.5555555555555556, \"#d8576b\"], [0.6666666666666666, \"#ed7953\"], [0.7777777777777778, \"#fb9f3a\"], [0.8888888888888888, \"#fdca26\"], [1.0, \"#f0f921\"]], \"type\": \"heatmap\"}], \"heatmapgl\": [{\"colorbar\": {\"outlinewidth\": 0, \"ticks\": \"\"}, \"colorscale\": [[0.0, \"#0d0887\"], [0.1111111111111111, \"#46039f\"], [0.2222222222222222, \"#7201a8\"], [0.3333333333333333, \"#9c179e\"], [0.4444444444444444, \"#bd3786\"], [0.5555555555555556, \"#d8576b\"], [0.6666666666666666, \"#ed7953\"], [0.7777777777777778, \"#fb9f3a\"], [0.8888888888888888, \"#fdca26\"], [1.0, \"#f0f921\"]], \"type\": \"heatmapgl\"}], \"histogram\": [{\"marker\": {\"colorbar\": {\"outlinewidth\": 0, \"ticks\": \"\"}}, \"type\": \"histogram\"}], \"histogram2d\": [{\"colorbar\": {\"outlinewidth\": 0, \"ticks\": \"\"}, \"colorscale\": [[0.0, \"#0d0887\"], [0.1111111111111111, \"#46039f\"], [0.2222222222222222, \"#7201a8\"], [0.3333333333333333, \"#9c179e\"], [0.4444444444444444, \"#bd3786\"], [0.5555555555555556, \"#d8576b\"], [0.6666666666666666, \"#ed7953\"], [0.7777777777777778, \"#fb9f3a\"], [0.8888888888888888, \"#fdca26\"], [1.0, \"#f0f921\"]], \"type\": \"histogram2d\"}], \"histogram2dcontour\": [{\"colorbar\": {\"outlinewidth\": 0, \"ticks\": \"\"}, \"colorscale\": [[0.0, \"#0d0887\"], [0.1111111111111111, \"#46039f\"], [0.2222222222222222, \"#7201a8\"], [0.3333333333333333, \"#9c179e\"], [0.4444444444444444, \"#bd3786\"], [0.5555555555555556, \"#d8576b\"], [0.6666666666666666, \"#ed7953\"], [0.7777777777777778, \"#fb9f3a\"], [0.8888888888888888, \"#fdca26\"], [1.0, \"#f0f921\"]], \"type\": \"histogram2dcontour\"}], \"mesh3d\": [{\"colorbar\": {\"outlinewidth\": 0, \"ticks\": \"\"}, \"type\": \"mesh3d\"}], \"parcoords\": [{\"line\": {\"colorbar\": {\"outlinewidth\": 0, \"ticks\": \"\"}}, \"type\": \"parcoords\"}], \"pie\": [{\"automargin\": true, \"type\": \"pie\"}], \"scatter\": [{\"marker\": {\"colorbar\": {\"outlinewidth\": 0, \"ticks\": \"\"}}, \"type\": \"scatter\"}], \"scatter3d\": [{\"line\": {\"colorbar\": {\"outlinewidth\": 0, \"ticks\": \"\"}}, \"marker\": {\"colorbar\": {\"outlinewidth\": 0, \"ticks\": \"\"}}, \"type\": \"scatter3d\"}], \"scattercarpet\": [{\"marker\": {\"colorbar\": {\"outlinewidth\": 0, \"ticks\": \"\"}}, \"type\": \"scattercarpet\"}], \"scattergeo\": [{\"marker\": {\"colorbar\": {\"outlinewidth\": 0, \"ticks\": \"\"}}, \"type\": \"scattergeo\"}], \"scattergl\": [{\"marker\": {\"colorbar\": {\"outlinewidth\": 0, \"ticks\": \"\"}}, \"type\": \"scattergl\"}], \"scattermapbox\": [{\"marker\": {\"colorbar\": {\"outlinewidth\": 0, \"ticks\": \"\"}}, \"type\": \"scattermapbox\"}], \"scatterpolar\": [{\"marker\": {\"colorbar\": {\"outlinewidth\": 0, \"ticks\": \"\"}}, \"type\": \"scatterpolar\"}], \"scatterpolargl\": [{\"marker\": {\"colorbar\": {\"outlinewidth\": 0, \"ticks\": \"\"}}, \"type\": \"scatterpolargl\"}], \"scatterternary\": [{\"marker\": {\"colorbar\": {\"outlinewidth\": 0, \"ticks\": \"\"}}, \"type\": \"scatterternary\"}], \"surface\": [{\"colorbar\": {\"outlinewidth\": 0, \"ticks\": \"\"}, \"colorscale\": [[0.0, \"#0d0887\"], [0.1111111111111111, \"#46039f\"], [0.2222222222222222, \"#7201a8\"], [0.3333333333333333, \"#9c179e\"], [0.4444444444444444, \"#bd3786\"], [0.5555555555555556, \"#d8576b\"], [0.6666666666666666, \"#ed7953\"], [0.7777777777777778, \"#fb9f3a\"], [0.8888888888888888, \"#fdca26\"], [1.0, \"#f0f921\"]], \"type\": \"surface\"}], \"table\": [{\"cells\": {\"fill\": {\"color\": \"#EBF0F8\"}, \"line\": {\"color\": \"white\"}}, \"header\": {\"fill\": {\"color\": \"#C8D4E3\"}, \"line\": {\"color\": \"white\"}}, \"type\": \"table\"}]}, \"layout\": {\"annotationdefaults\": {\"arrowcolor\": \"#2a3f5f\", \"arrowhead\": 0, \"arrowwidth\": 1}, \"autotypenumbers\": \"strict\", \"coloraxis\": {\"colorbar\": {\"outlinewidth\": 0, \"ticks\": \"\"}}, \"colorscale\": {\"diverging\": [[0, \"#8e0152\"], [0.1, \"#c51b7d\"], [0.2, \"#de77ae\"], [0.3, \"#f1b6da\"], [0.4, \"#fde0ef\"], [0.5, \"#f7f7f7\"], [0.6, \"#e6f5d0\"], [0.7, \"#b8e186\"], [0.8, \"#7fbc41\"], [0.9, \"#4d9221\"], [1, \"#276419\"]], \"sequential\": [[0.0, \"#0d0887\"], [0.1111111111111111, \"#46039f\"], [0.2222222222222222, \"#7201a8\"], [0.3333333333333333, \"#9c179e\"], [0.4444444444444444, \"#bd3786\"], [0.5555555555555556, \"#d8576b\"], [0.6666666666666666, \"#ed7953\"], [0.7777777777777778, \"#fb9f3a\"], [0.8888888888888888, \"#fdca26\"], [1.0, \"#f0f921\"]], \"sequentialminus\": [[0.0, \"#0d0887\"], [0.1111111111111111, \"#46039f\"], [0.2222222222222222, \"#7201a8\"], [0.3333333333333333, \"#9c179e\"], [0.4444444444444444, \"#bd3786\"], [0.5555555555555556, \"#d8576b\"], [0.6666666666666666, \"#ed7953\"], [0.7777777777777778, \"#fb9f3a\"], [0.8888888888888888, \"#fdca26\"], [1.0, \"#f0f921\"]]}, \"colorway\": [\"#636efa\", \"#EF553B\", \"#00cc96\", \"#ab63fa\", \"#FFA15A\", \"#19d3f3\", \"#FF6692\", \"#B6E880\", \"#FF97FF\", \"#FECB52\"], \"font\": {\"color\": \"#2a3f5f\"}, \"geo\": {\"bgcolor\": \"white\", \"lakecolor\": \"white\", \"landcolor\": \"#E5ECF6\", \"showlakes\": true, \"showland\": true, \"subunitcolor\": \"white\"}, \"hoverlabel\": {\"align\": \"left\"}, \"hovermode\": \"closest\", \"mapbox\": {\"style\": \"light\"}, \"paper_bgcolor\": \"white\", \"plot_bgcolor\": \"#E5ECF6\", \"polar\": {\"angularaxis\": {\"gridcolor\": \"white\", \"linecolor\": \"white\", \"ticks\": \"\"}, \"bgcolor\": \"#E5ECF6\", \"radialaxis\": {\"gridcolor\": \"white\", \"linecolor\": \"white\", \"ticks\": \"\"}}, \"scene\": {\"xaxis\": {\"backgroundcolor\": \"#E5ECF6\", \"gridcolor\": \"white\", \"gridwidth\": 2, \"linecolor\": \"white\", \"showbackground\": true, \"ticks\": \"\", \"zerolinecolor\": \"white\"}, \"yaxis\": {\"backgroundcolor\": \"#E5ECF6\", \"gridcolor\": \"white\", \"gridwidth\": 2, \"linecolor\": \"white\", \"showbackground\": true, \"ticks\": \"\", \"zerolinecolor\": \"white\"}, \"zaxis\": {\"backgroundcolor\": \"#E5ECF6\", \"gridcolor\": \"white\", \"gridwidth\": 2, \"linecolor\": \"white\", \"showbackground\": true, \"ticks\": \"\", \"zerolinecolor\": \"white\"}}, \"shapedefaults\": {\"line\": {\"color\": \"#2a3f5f\"}}, \"ternary\": {\"aaxis\": {\"gridcolor\": \"white\", \"linecolor\": \"white\", \"ticks\": \"\"}, \"baxis\": {\"gridcolor\": \"white\", \"linecolor\": \"white\", \"ticks\": \"\"}, \"bgcolor\": \"#E5ECF6\", \"caxis\": {\"gridcolor\": \"white\", \"linecolor\": \"white\", \"ticks\": \"\"}}, \"title\": {\"x\": 0.05}, \"xaxis\": {\"automargin\": true, \"gridcolor\": \"white\", \"linecolor\": \"white\", \"ticks\": \"\", \"title\": {\"standoff\": 15}, \"zerolinecolor\": \"white\", \"zerolinewidth\": 2}, \"yaxis\": {\"automargin\": true, \"gridcolor\": \"white\", \"linecolor\": \"white\", \"ticks\": \"\", \"title\": {\"standoff\": 15}, \"zerolinecolor\": \"white\", \"zerolinewidth\": 2}}}, \"title\": {\"text\": \"DeepPurpose 6 Fold Cross Validation\"}, \"width\": 1500, \"xaxis\": {\"anchor\": \"y\", \"domain\": [0.0, 0.45], \"title\": {\"text\": \"Epochs * Chunks\"}}, \"xaxis2\": {\"anchor\": \"y2\", \"domain\": [0.55, 1.0], \"title\": {\"text\": \"Epochs * Chunks\"}}, \"xaxis3\": {\"anchor\": \"y3\", \"domain\": [0.0, 0.45], \"title\": {\"text\": \"Epochs * Chunks\"}}, \"xaxis4\": {\"anchor\": \"y4\", \"domain\": [0.55, 1.0], \"title\": {\"text\": \"Epochs * Chunks\"}}, \"xaxis5\": {\"anchor\": \"y5\", \"domain\": [0.0, 0.45], \"title\": {\"text\": \"Epochs * Chunks\"}}, \"xaxis6\": {\"anchor\": \"y6\", \"domain\": [0.55, 1.0], \"title\": {\"text\": \"Epochs * Chunks\"}}, \"yaxis\": {\"anchor\": \"x\", \"domain\": [0.7777777777777778, 1.0], \"title\": {\"text\": \"Performance\"}}, \"yaxis2\": {\"anchor\": \"x2\", \"domain\": [0.7777777777777778, 1.0], \"title\": {\"text\": \"Performance\"}}, \"yaxis3\": {\"anchor\": \"x3\", \"domain\": [0.3888888888888889, 0.6111111111111112], \"title\": {\"text\": \"Performance\"}}, \"yaxis4\": {\"anchor\": \"x4\", \"domain\": [0.3888888888888889, 0.6111111111111112], \"title\": {\"text\": \"Performance\"}}, \"yaxis5\": {\"anchor\": \"x5\", \"domain\": [0.0, 0.22222222222222224], \"title\": {\"text\": \"Performance\"}}, \"yaxis6\": {\"anchor\": \"x6\", \"domain\": [0.0, 0.22222222222222224], \"title\": {\"text\": \"Performance\"}}},                        {\"responsive\": true}                    ).then(function(){\n",
       "                            \n",
       "var gd = document.getElementById('b4706519-0cbf-4f96-ad30-7a739cf16b85');\n",
       "var x = new MutationObserver(function (mutations, observer) {{\n",
       "        var display = window.getComputedStyle(gd).display;\n",
       "        if (!display || display === 'none') {{\n",
       "            console.log([gd, 'removed!']);\n",
       "            Plotly.purge(gd);\n",
       "            observer.disconnect();\n",
       "        }}\n",
       "}});\n",
       "\n",
       "// Listen for the removal of the full notebook cells\n",
       "var notebookContainer = gd.closest('#notebook-container');\n",
       "if (notebookContainer) {{\n",
       "    x.observe(notebookContainer, {childList: true});\n",
       "}}\n",
       "\n",
       "// Listen for the clearing of the current output cell\n",
       "var outputEl = gd.closest('.output');\n",
       "if (outputEl) {{\n",
       "    x.observe(outputEl, {childList: true});\n",
       "}}\n",
       "\n",
       "                        })                };                });            </script>        </div>"
      ]
     },
     "metadata": {},
     "output_type": "display_data"
    }
   ],
   "source": [
    "fig = make_subplots(\n",
    "        rows = 3, cols = 2,\n",
    "        subplot_titles = ['temp' for _ in range(3 * 2)])\n",
    "\n",
    "model_key = 'deep_purpose_ds2_0'\n",
    "row_counter = 1\n",
    "col_counter = 1\n",
    "\n",
    "for idx, run in enumerate(results[model_key].keys()):\n",
    "\n",
    "    \n",
    "    if run == 0:\n",
    "        legend = True\n",
    "    else: \n",
    "        legend = False\n",
    "    \n",
    "    x_list = [x for x in range(len(results[model_key][run]['val_auc_ut']))]\n",
    "    \n",
    "    fig.add_trace(go.Scatter(x = x_list,\n",
    "                             y = results[model_key][run]['val_auc_ut'],\n",
    "                             mode = 'lines',\n",
    "                             name = 'Unseen Targets AUC',\n",
    "                             line_color = 'deepskyblue',\n",
    "                             legendgroup = str(run),\n",
    "                             showlegend = legend),\n",
    "                 row = row_counter,\n",
    "                 col = col_counter )\n",
    "    \n",
    "    try:\n",
    "        averaged_results['val_auc_ut'] = averaged_results['val_auc_ut'] + np.array(results[model_key][run]['val_auc_ut']).reshape(-1, 1)\n",
    "    except: \n",
    "        averaged_results['val_auc_ut'] = np.array(results[model_key][run]['val_auc_ut']).reshape(-1, 1)\n",
    "    \n",
    "    fig.add_trace(go.Scatter(x = x_list,\n",
    "                             y = results[model_key][run]['val_auc_ue'],\n",
    "                             mode = 'lines',\n",
    "                             name = 'Unseen Edges AUC',\n",
    "                             line_color = 'blue',\n",
    "                             legendgroup = str(run),\n",
    "                             showlegend = legend),\n",
    "                 row = row_counter,\n",
    "                 col = col_counter )\n",
    "    try:\n",
    "        averaged_results['val_auc_ue'] = averaged_results['val_auc_ue'] + np.array(results[model_key][run]['val_auc_ue']).reshape(-1, 1)\n",
    "    except: \n",
    "        averaged_results['val_auc_ue'] = np.array(results[model_key][run]['val_auc_ue']).reshape(-1, 1)\n",
    "    \n",
    "    fig.add_trace(go.Scatter(x = x_list,\n",
    "                             y = results[model_key][run]['val_aup_ut'],\n",
    "                             mode = 'lines',\n",
    "                             name = 'Unseen Targets AUP',\n",
    "                             line_color = 'red',\n",
    "                             legendgroup = str(run),\n",
    "                             showlegend = legend),\n",
    "                 row = row_counter,\n",
    "                 col = col_counter )\n",
    "    \n",
    "    try:\n",
    "        averaged_results['val_aup_ut'] = averaged_results['val_aup_ut'] + np.array(results[model_key][run]['val_aup_ut']).reshape(-1, 1)\n",
    "    except: \n",
    "        averaged_results['val_aup_ut'] = np.array(results[model_key][run]['val_aup_ut']).reshape(-1, 1)\n",
    "    \n",
    "    fig.add_trace(go.Scatter(x = x_list,\n",
    "                             y = results[model_key][run]['val_aup_ue'],\n",
    "                             mode = 'lines',\n",
    "                             name = 'Unseen Edges AUP',\n",
    "                             line_color = 'green',\n",
    "                             legendgroup = str(run),\n",
    "                             showlegend = legend),\n",
    "                 row = row_counter,\n",
    "                 col = col_counter)\n",
    "    \n",
    "    try:\n",
    "        averaged_results['val_aup_ue'] = averaged_results['val_aup_ue'] + np.array(results[model_key][run]['val_aup_ue']).reshape(-1, 1)\n",
    "    except: \n",
    "        averaged_results['val_aup_ue'] = np.array(results[model_key][run]['val_aup_ue']).reshape(-1, 1)\n",
    "    \n",
    "    fig.update_xaxes(title_text = \"Epochs * Chunks\", row = row_counter, col = col_counter)\n",
    "    fig.update_yaxes(title_text = \"Performance\", row = row_counter, col = col_counter)\n",
    "    fig.layout.annotations[int(run)]['text'] = \"VecNet Run \" + str(run)\n",
    "    \n",
    "    if col_counter == 2: \n",
    "        col_counter = 1\n",
    "        row_counter = row_counter + 1\n",
    "    else: \n",
    "        col_counter = col_counter + 1\n",
    "        \n",
    "fig.update_layout(title_text = \"DeepPurpose 6 Fold Cross Validation\", \n",
    "                  height = 1500,\n",
    "                  width = 1500,\n",
    "                  showlegend = True)\n",
    "fig.show()\n",
    "# fig.write_html('./all_model_performance.html')"
   ]
  },
  {
   "cell_type": "code",
   "execution_count": 39,
   "metadata": {
    "hidden": true
   },
   "outputs": [],
   "source": [
    "import plotly.graph_objects as go\n",
    "from plotly.subplots import make_subplots"
   ]
  },
  {
   "cell_type": "code",
   "execution_count": 40,
   "metadata": {
    "hidden": true
   },
   "outputs": [
    {
     "data": {
      "application/vnd.plotly.v1+json": {
       "config": {
        "plotlyServerURL": "https://plot.ly"
       },
       "data": [
        {
         "line": {
          "color": "deepskyblue"
         },
         "mode": "lines",
         "name": "Unseen Targets AUC",
         "type": "scatter",
         "x": [
          0,
          1,
          2,
          3,
          4,
          5,
          6,
          7,
          8,
          9,
          10,
          11,
          12,
          13,
          14,
          15,
          16,
          17,
          18,
          19,
          20,
          21,
          22,
          23,
          24,
          25,
          26,
          27,
          28,
          29,
          30,
          31,
          32,
          33,
          34,
          35,
          36,
          37,
          38,
          39,
          40,
          41,
          42,
          43,
          44,
          45,
          46,
          47,
          48,
          49,
          50,
          51,
          52,
          53,
          54,
          55,
          56,
          57,
          58,
          59,
          60,
          61,
          62,
          63,
          64,
          65,
          66,
          67,
          68,
          69,
          70,
          71,
          72,
          73,
          74,
          75,
          76,
          77,
          78,
          79,
          80,
          81,
          82,
          83,
          84,
          85,
          86,
          87,
          88,
          89
         ],
         "y": [
          0.5094084156866531,
          0.4619287880321594,
          0.4822232771228441,
          0.48066290024456015,
          0.4896759098132582,
          0.49577702674024055,
          0.5024098932413666,
          0.5132264019337941,
          0.5128590675032002,
          0.5055292323718592,
          0.5096169688392168,
          0.5135812842825898,
          0.5169629923137374,
          0.5270208443857208,
          0.5295421685853818,
          0.5318536475398712,
          0.5334074365560487,
          0.5243482156264065,
          0.5399824108961283,
          0.5370178339952789,
          0.5370640854563795,
          0.5303479507469242,
          0.5496127689719876,
          0.5404537393360501,
          0.5517724784130372,
          0.5386544729280963,
          0.5473785762658911,
          0.5478754187060474,
          0.5529618057740027,
          0.5542206044580923,
          0.5457421355905576,
          0.558237670534475,
          0.5527704815944686,
          0.5485508673895653,
          0.5552776805827345,
          0.5632755834523621,
          0.5581133041303677,
          0.5607622858115356,
          0.563236017608212,
          0.554927810427818,
          0.5655171333929807,
          0.5574914262966312,
          0.5639787513321666,
          0.555858178160879,
          0.5549140737560937,
          0.5673074100841058,
          0.5601364530999249,
          0.5624623008057889,
          0.5674021411318683,
          0.5630351733247628,
          0.5679012170273897,
          0.560151565505603,
          0.5655184047257138,
          0.5723600796256249,
          0.5614776137689189,
          0.574490791720745,
          0.5740157777211653,
          0.5705062407206672,
          0.5658803737262476,
          0.5797937707274846,
          0.5768524469268063,
          0.5701224720963032,
          0.5810597527858731,
          0.56883432628175,
          0.5737103591627079,
          0.5835168204242265,
          0.5674775878777801,
          0.5766463763821282,
          0.5786209780500893,
          0.5725735021387921,
          0.5818246605060259,
          0.5785920774211667,
          0.5822407474630152,
          0.5813687994631794,
          0.5837876271179696,
          0.5722225943800512,
          0.581941770745367,
          0.5682602249486978,
          0.5813505792479221,
          0.5804816597468051,
          0.5887251554108389,
          0.5832774446122552,
          0.5745526910724547,
          0.5742652957314425,
          0.5821333523893788,
          0.5880056955264982,
          0.5868127802718908,
          0.5755618425190046,
          0.5779667316205083,
          0.5810647557562378
         ]
        },
        {
         "line": {
          "color": "blue"
         },
         "mode": "lines",
         "name": "Unseen Edges AUC",
         "type": "scatter",
         "x": [
          0,
          1,
          2,
          3,
          4,
          5,
          6,
          7,
          8,
          9,
          10,
          11,
          12,
          13,
          14,
          15,
          16,
          17,
          18,
          19,
          20,
          21,
          22,
          23,
          24,
          25,
          26,
          27,
          28,
          29,
          30,
          31,
          32,
          33,
          34,
          35,
          36,
          37,
          38,
          39,
          40,
          41,
          42,
          43,
          44,
          45,
          46,
          47,
          48,
          49,
          50,
          51,
          52,
          53,
          54,
          55,
          56,
          57,
          58,
          59,
          60,
          61,
          62,
          63,
          64,
          65,
          66,
          67,
          68,
          69,
          70,
          71,
          72,
          73,
          74,
          75,
          76,
          77,
          78,
          79,
          80,
          81,
          82,
          83,
          84,
          85,
          86,
          87,
          88,
          89
         ],
         "y": [
          0.5079053597026938,
          0.46941450077320823,
          0.4886894206586769,
          0.4903085500985449,
          0.49685842525293356,
          0.5028654777069749,
          0.5092834981446959,
          0.5201574398788472,
          0.5199362802906794,
          0.5136493600012494,
          0.5179859331310194,
          0.5239693076572806,
          0.5273232544526193,
          0.5347177028619784,
          0.5397679629147586,
          0.541626748566594,
          0.5421080901919288,
          0.5372056650407186,
          0.5529153736991984,
          0.551928244992673,
          0.5514743879629324,
          0.5447806914892611,
          0.5677245656376548,
          0.5555522695102653,
          0.5695827127557688,
          0.556666326424868,
          0.5674279164243675,
          0.5677384287660896,
          0.570640763439147,
          0.576222984123846,
          0.5636741365225847,
          0.5803034785443231,
          0.5759613349108706,
          0.5701179390078878,
          0.5784623137277735,
          0.5887693105221765,
          0.5846611536974908,
          0.5844407154200039,
          0.5910693991526438,
          0.582635975908111,
          0.5935972739444406,
          0.5860948657142586,
          0.5957411038692164,
          0.5824824680366079,
          0.5852511864335389,
          0.5976387907344836,
          0.5897754069937096,
          0.5943355041637672,
          0.5967289443442624,
          0.5957352752631373,
          0.6026037575394988,
          0.5935074043628455,
          0.5991772143190909,
          0.6067193610823989,
          0.5950847798895368,
          0.6106790160158152,
          0.6100767324640503,
          0.6081080200572656,
          0.6050841093218474,
          0.6200370948313363,
          0.6123608325652452,
          0.6072798113227486,
          0.6213407063932838,
          0.609749502522951,
          0.6144118258809375,
          0.6305620356017556,
          0.6106965169077339,
          0.6214025658053516,
          0.6222233964081731,
          0.6148077593578815,
          0.6280735076384575,
          0.6263330997805204,
          0.6282812753041843,
          0.6287341533387236,
          0.6311795206511367,
          0.6196316352776318,
          0.6290854548209778,
          0.6155565649523517,
          0.6307325489730408,
          0.626875588832669,
          0.6378295874547453,
          0.6340212909174286,
          0.6273721323210611,
          0.6283644546267351,
          0.6348063678190953,
          0.6388827222172203,
          0.6383553322261316,
          0.628020183117805,
          0.6362011378325003,
          0.6380952169399633
         ]
        },
        {
         "line": {
          "color": "red"
         },
         "mode": "lines",
         "name": "Unseen Targets AUP",
         "type": "scatter",
         "x": [
          0,
          1,
          2,
          3,
          4,
          5,
          6,
          7,
          8,
          9,
          10,
          11,
          12,
          13,
          14,
          15,
          16,
          17,
          18,
          19,
          20,
          21,
          22,
          23,
          24,
          25,
          26,
          27,
          28,
          29,
          30,
          31,
          32,
          33,
          34,
          35,
          36,
          37,
          38,
          39,
          40,
          41,
          42,
          43,
          44,
          45,
          46,
          47,
          48,
          49,
          50,
          51,
          52,
          53,
          54,
          55,
          56,
          57,
          58,
          59,
          60,
          61,
          62,
          63,
          64,
          65,
          66,
          67,
          68,
          69,
          70,
          71,
          72,
          73,
          74,
          75,
          76,
          77,
          78,
          79,
          80,
          81,
          82,
          83,
          84,
          85,
          86,
          87,
          88,
          89
         ],
         "y": [
          0.4832519607010102,
          0.44990471928843795,
          0.4610292638646798,
          0.4582392143198697,
          0.4558969896036762,
          0.45204049385063866,
          0.4557124785757425,
          0.45782911679109056,
          0.45362647124470895,
          0.44670687080062615,
          0.45002442654805425,
          0.4507410578681528,
          0.45235837410735474,
          0.4572395994996956,
          0.4589348750593109,
          0.4614560684879019,
          0.4626300142771771,
          0.4565901560740628,
          0.4674299225891137,
          0.46579513256506627,
          0.4665959145554319,
          0.4616368132814062,
          0.475909131321774,
          0.47067571127604846,
          0.4795356409637795,
          0.47154069502890733,
          0.47807976894523385,
          0.4794738745537943,
          0.48233937192701726,
          0.48568454747844875,
          0.4801517989244625,
          0.4922040746031257,
          0.4880549105480411,
          0.48335446890096573,
          0.489059885952968,
          0.4978765375617602,
          0.49636602571351807,
          0.4981872692972001,
          0.503682277790192,
          0.4963367295586491,
          0.5044852628524626,
          0.5018826669541755,
          0.5089798317382556,
          0.5025298631634918,
          0.5001975804322807,
          0.5155397013709442,
          0.5046424580016627,
          0.5083775274826244,
          0.5173089329366055,
          0.5134993843749446,
          0.518615897481323,
          0.5150954772346353,
          0.520665033690991,
          0.526354998295838,
          0.5183766519997034,
          0.5288385741976868,
          0.5297349198680602,
          0.5251143560320524,
          0.5253054099102128,
          0.5346436634578052,
          0.5330261273669791,
          0.5287938243819507,
          0.5413109649873039,
          0.5312839036142005,
          0.5341614912425555,
          0.5468599194120792,
          0.5260278589839242,
          0.5413990753942413,
          0.5420653922851769,
          0.533789508770262,
          0.5451897450916495,
          0.5435334989224045,
          0.5479908265912795,
          0.5489417952855474,
          0.5532645331608235,
          0.5416004267654965,
          0.5495034691800025,
          0.5371892151866002,
          0.5494928117131913,
          0.5501740712679162,
          0.5559659173075969,
          0.5555875094898614,
          0.5473528508875478,
          0.5479487465404231,
          0.5514132232178426,
          0.56028072815365,
          0.5590148536569678,
          0.546787080621468,
          0.555993903906447,
          0.5534037367058723
         ]
        },
        {
         "line": {
          "color": "green"
         },
         "mode": "lines",
         "name": "Unseen Edges AUP",
         "type": "scatter",
         "x": [
          0,
          1,
          2,
          3,
          4,
          5,
          6,
          7,
          8,
          9,
          10,
          11,
          12,
          13,
          14,
          15,
          16,
          17,
          18,
          19,
          20,
          21,
          22,
          23,
          24,
          25,
          26,
          27,
          28,
          29,
          30,
          31,
          32,
          33,
          34,
          35,
          36,
          37,
          38,
          39,
          40,
          41,
          42,
          43,
          44,
          45,
          46,
          47,
          48,
          49,
          50,
          51,
          52,
          53,
          54,
          55,
          56,
          57,
          58,
          59,
          60,
          61,
          62,
          63,
          64,
          65,
          66,
          67,
          68,
          69,
          70,
          71,
          72,
          73,
          74,
          75,
          76,
          77,
          78,
          79,
          80,
          81,
          82,
          83,
          84,
          85,
          86,
          87,
          88,
          89
         ],
         "y": [
          0.5141687833368774,
          0.4829869257251034,
          0.49626850250467974,
          0.49289982460234155,
          0.4905677424750549,
          0.48703715304184464,
          0.4905703626532476,
          0.4925525577752094,
          0.48852935644173584,
          0.48214227201572735,
          0.48484916602786265,
          0.4858404972425114,
          0.48741343467193293,
          0.49175319733394707,
          0.4952633659959615,
          0.4968761378030199,
          0.49771506316476266,
          0.49421199115057995,
          0.5052238109537622,
          0.5049353117718335,
          0.5062778485392785,
          0.5014288285693344,
          0.5180819658097926,
          0.5108889209193795,
          0.5226130854094748,
          0.5146341733138587,
          0.5223291621721904,
          0.5231750789068791,
          0.5257191865997574,
          0.5325314019764749,
          0.5241402618167698,
          0.5402227629727611,
          0.5347052688694943,
          0.5306381797690181,
          0.5377629825542537,
          0.5490429974670731,
          0.548552439802409,
          0.5481746414069809,
          0.5563098686511577,
          0.5491314587156828,
          0.5594006831766274,
          0.5559807156831795,
          0.5657749765025945,
          0.5564456682008458,
          0.5570202055533338,
          0.5713112424262728,
          0.5606355243377074,
          0.5682252502437564,
          0.572806189121003,
          0.5735091341936621,
          0.5813539697444268,
          0.5749902741031828,
          0.5816472630530359,
          0.5887470256281969,
          0.5792124561531965,
          0.5929550583271443,
          0.5934713174274867,
          0.59114895909305,
          0.5920261689107823,
          0.6040895746458762,
          0.5967956055070541,
          0.5944753421754433,
          0.6100033207680914,
          0.5983873022262954,
          0.6014941489138023,
          0.6216289189685281,
          0.5967314229667339,
          0.6142404166253134,
          0.6127931926840251,
          0.603145026516006,
          0.6212012729966786,
          0.6179531484055021,
          0.6234605274752686,
          0.6246992488078175,
          0.627703635116926,
          0.6155618452096118,
          0.6243543810407327,
          0.6115975672565089,
          0.6288799931261576,
          0.6259074019942817,
          0.6347958088583865,
          0.6345024067748777,
          0.6282859471535183,
          0.627549255745001,
          0.6337353287516655,
          0.640773092553609,
          0.6384834402159139,
          0.6275556853129771,
          0.6406803042033692,
          0.6392831394561003
         ]
        }
       ],
       "layout": {
        "showlegend": true,
        "template": {
         "data": {
          "bar": [
           {
            "error_x": {
             "color": "#2a3f5f"
            },
            "error_y": {
             "color": "#2a3f5f"
            },
            "marker": {
             "line": {
              "color": "#E5ECF6",
              "width": 0.5
             }
            },
            "type": "bar"
           }
          ],
          "barpolar": [
           {
            "marker": {
             "line": {
              "color": "#E5ECF6",
              "width": 0.5
             }
            },
            "type": "barpolar"
           }
          ],
          "carpet": [
           {
            "aaxis": {
             "endlinecolor": "#2a3f5f",
             "gridcolor": "white",
             "linecolor": "white",
             "minorgridcolor": "white",
             "startlinecolor": "#2a3f5f"
            },
            "baxis": {
             "endlinecolor": "#2a3f5f",
             "gridcolor": "white",
             "linecolor": "white",
             "minorgridcolor": "white",
             "startlinecolor": "#2a3f5f"
            },
            "type": "carpet"
           }
          ],
          "choropleth": [
           {
            "colorbar": {
             "outlinewidth": 0,
             "ticks": ""
            },
            "type": "choropleth"
           }
          ],
          "contour": [
           {
            "colorbar": {
             "outlinewidth": 0,
             "ticks": ""
            },
            "colorscale": [
             [
              0,
              "#0d0887"
             ],
             [
              0.1111111111111111,
              "#46039f"
             ],
             [
              0.2222222222222222,
              "#7201a8"
             ],
             [
              0.3333333333333333,
              "#9c179e"
             ],
             [
              0.4444444444444444,
              "#bd3786"
             ],
             [
              0.5555555555555556,
              "#d8576b"
             ],
             [
              0.6666666666666666,
              "#ed7953"
             ],
             [
              0.7777777777777778,
              "#fb9f3a"
             ],
             [
              0.8888888888888888,
              "#fdca26"
             ],
             [
              1,
              "#f0f921"
             ]
            ],
            "type": "contour"
           }
          ],
          "contourcarpet": [
           {
            "colorbar": {
             "outlinewidth": 0,
             "ticks": ""
            },
            "type": "contourcarpet"
           }
          ],
          "heatmap": [
           {
            "colorbar": {
             "outlinewidth": 0,
             "ticks": ""
            },
            "colorscale": [
             [
              0,
              "#0d0887"
             ],
             [
              0.1111111111111111,
              "#46039f"
             ],
             [
              0.2222222222222222,
              "#7201a8"
             ],
             [
              0.3333333333333333,
              "#9c179e"
             ],
             [
              0.4444444444444444,
              "#bd3786"
             ],
             [
              0.5555555555555556,
              "#d8576b"
             ],
             [
              0.6666666666666666,
              "#ed7953"
             ],
             [
              0.7777777777777778,
              "#fb9f3a"
             ],
             [
              0.8888888888888888,
              "#fdca26"
             ],
             [
              1,
              "#f0f921"
             ]
            ],
            "type": "heatmap"
           }
          ],
          "heatmapgl": [
           {
            "colorbar": {
             "outlinewidth": 0,
             "ticks": ""
            },
            "colorscale": [
             [
              0,
              "#0d0887"
             ],
             [
              0.1111111111111111,
              "#46039f"
             ],
             [
              0.2222222222222222,
              "#7201a8"
             ],
             [
              0.3333333333333333,
              "#9c179e"
             ],
             [
              0.4444444444444444,
              "#bd3786"
             ],
             [
              0.5555555555555556,
              "#d8576b"
             ],
             [
              0.6666666666666666,
              "#ed7953"
             ],
             [
              0.7777777777777778,
              "#fb9f3a"
             ],
             [
              0.8888888888888888,
              "#fdca26"
             ],
             [
              1,
              "#f0f921"
             ]
            ],
            "type": "heatmapgl"
           }
          ],
          "histogram": [
           {
            "marker": {
             "colorbar": {
              "outlinewidth": 0,
              "ticks": ""
             }
            },
            "type": "histogram"
           }
          ],
          "histogram2d": [
           {
            "colorbar": {
             "outlinewidth": 0,
             "ticks": ""
            },
            "colorscale": [
             [
              0,
              "#0d0887"
             ],
             [
              0.1111111111111111,
              "#46039f"
             ],
             [
              0.2222222222222222,
              "#7201a8"
             ],
             [
              0.3333333333333333,
              "#9c179e"
             ],
             [
              0.4444444444444444,
              "#bd3786"
             ],
             [
              0.5555555555555556,
              "#d8576b"
             ],
             [
              0.6666666666666666,
              "#ed7953"
             ],
             [
              0.7777777777777778,
              "#fb9f3a"
             ],
             [
              0.8888888888888888,
              "#fdca26"
             ],
             [
              1,
              "#f0f921"
             ]
            ],
            "type": "histogram2d"
           }
          ],
          "histogram2dcontour": [
           {
            "colorbar": {
             "outlinewidth": 0,
             "ticks": ""
            },
            "colorscale": [
             [
              0,
              "#0d0887"
             ],
             [
              0.1111111111111111,
              "#46039f"
             ],
             [
              0.2222222222222222,
              "#7201a8"
             ],
             [
              0.3333333333333333,
              "#9c179e"
             ],
             [
              0.4444444444444444,
              "#bd3786"
             ],
             [
              0.5555555555555556,
              "#d8576b"
             ],
             [
              0.6666666666666666,
              "#ed7953"
             ],
             [
              0.7777777777777778,
              "#fb9f3a"
             ],
             [
              0.8888888888888888,
              "#fdca26"
             ],
             [
              1,
              "#f0f921"
             ]
            ],
            "type": "histogram2dcontour"
           }
          ],
          "mesh3d": [
           {
            "colorbar": {
             "outlinewidth": 0,
             "ticks": ""
            },
            "type": "mesh3d"
           }
          ],
          "parcoords": [
           {
            "line": {
             "colorbar": {
              "outlinewidth": 0,
              "ticks": ""
             }
            },
            "type": "parcoords"
           }
          ],
          "pie": [
           {
            "automargin": true,
            "type": "pie"
           }
          ],
          "scatter": [
           {
            "marker": {
             "colorbar": {
              "outlinewidth": 0,
              "ticks": ""
             }
            },
            "type": "scatter"
           }
          ],
          "scatter3d": [
           {
            "line": {
             "colorbar": {
              "outlinewidth": 0,
              "ticks": ""
             }
            },
            "marker": {
             "colorbar": {
              "outlinewidth": 0,
              "ticks": ""
             }
            },
            "type": "scatter3d"
           }
          ],
          "scattercarpet": [
           {
            "marker": {
             "colorbar": {
              "outlinewidth": 0,
              "ticks": ""
             }
            },
            "type": "scattercarpet"
           }
          ],
          "scattergeo": [
           {
            "marker": {
             "colorbar": {
              "outlinewidth": 0,
              "ticks": ""
             }
            },
            "type": "scattergeo"
           }
          ],
          "scattergl": [
           {
            "marker": {
             "colorbar": {
              "outlinewidth": 0,
              "ticks": ""
             }
            },
            "type": "scattergl"
           }
          ],
          "scattermapbox": [
           {
            "marker": {
             "colorbar": {
              "outlinewidth": 0,
              "ticks": ""
             }
            },
            "type": "scattermapbox"
           }
          ],
          "scatterpolar": [
           {
            "marker": {
             "colorbar": {
              "outlinewidth": 0,
              "ticks": ""
             }
            },
            "type": "scatterpolar"
           }
          ],
          "scatterpolargl": [
           {
            "marker": {
             "colorbar": {
              "outlinewidth": 0,
              "ticks": ""
             }
            },
            "type": "scatterpolargl"
           }
          ],
          "scatterternary": [
           {
            "marker": {
             "colorbar": {
              "outlinewidth": 0,
              "ticks": ""
             }
            },
            "type": "scatterternary"
           }
          ],
          "surface": [
           {
            "colorbar": {
             "outlinewidth": 0,
             "ticks": ""
            },
            "colorscale": [
             [
              0,
              "#0d0887"
             ],
             [
              0.1111111111111111,
              "#46039f"
             ],
             [
              0.2222222222222222,
              "#7201a8"
             ],
             [
              0.3333333333333333,
              "#9c179e"
             ],
             [
              0.4444444444444444,
              "#bd3786"
             ],
             [
              0.5555555555555556,
              "#d8576b"
             ],
             [
              0.6666666666666666,
              "#ed7953"
             ],
             [
              0.7777777777777778,
              "#fb9f3a"
             ],
             [
              0.8888888888888888,
              "#fdca26"
             ],
             [
              1,
              "#f0f921"
             ]
            ],
            "type": "surface"
           }
          ],
          "table": [
           {
            "cells": {
             "fill": {
              "color": "#EBF0F8"
             },
             "line": {
              "color": "white"
             }
            },
            "header": {
             "fill": {
              "color": "#C8D4E3"
             },
             "line": {
              "color": "white"
             }
            },
            "type": "table"
           }
          ]
         },
         "layout": {
          "annotationdefaults": {
           "arrowcolor": "#2a3f5f",
           "arrowhead": 0,
           "arrowwidth": 1
          },
          "coloraxis": {
           "colorbar": {
            "outlinewidth": 0,
            "ticks": ""
           }
          },
          "colorscale": {
           "diverging": [
            [
             0,
             "#8e0152"
            ],
            [
             0.1,
             "#c51b7d"
            ],
            [
             0.2,
             "#de77ae"
            ],
            [
             0.3,
             "#f1b6da"
            ],
            [
             0.4,
             "#fde0ef"
            ],
            [
             0.5,
             "#f7f7f7"
            ],
            [
             0.6,
             "#e6f5d0"
            ],
            [
             0.7,
             "#b8e186"
            ],
            [
             0.8,
             "#7fbc41"
            ],
            [
             0.9,
             "#4d9221"
            ],
            [
             1,
             "#276419"
            ]
           ],
           "sequential": [
            [
             0,
             "#0d0887"
            ],
            [
             0.1111111111111111,
             "#46039f"
            ],
            [
             0.2222222222222222,
             "#7201a8"
            ],
            [
             0.3333333333333333,
             "#9c179e"
            ],
            [
             0.4444444444444444,
             "#bd3786"
            ],
            [
             0.5555555555555556,
             "#d8576b"
            ],
            [
             0.6666666666666666,
             "#ed7953"
            ],
            [
             0.7777777777777778,
             "#fb9f3a"
            ],
            [
             0.8888888888888888,
             "#fdca26"
            ],
            [
             1,
             "#f0f921"
            ]
           ],
           "sequentialminus": [
            [
             0,
             "#0d0887"
            ],
            [
             0.1111111111111111,
             "#46039f"
            ],
            [
             0.2222222222222222,
             "#7201a8"
            ],
            [
             0.3333333333333333,
             "#9c179e"
            ],
            [
             0.4444444444444444,
             "#bd3786"
            ],
            [
             0.5555555555555556,
             "#d8576b"
            ],
            [
             0.6666666666666666,
             "#ed7953"
            ],
            [
             0.7777777777777778,
             "#fb9f3a"
            ],
            [
             0.8888888888888888,
             "#fdca26"
            ],
            [
             1,
             "#f0f921"
            ]
           ]
          },
          "colorway": [
           "#636efa",
           "#EF553B",
           "#00cc96",
           "#ab63fa",
           "#FFA15A",
           "#19d3f3",
           "#FF6692",
           "#B6E880",
           "#FF97FF",
           "#FECB52"
          ],
          "font": {
           "color": "#2a3f5f"
          },
          "geo": {
           "bgcolor": "white",
           "lakecolor": "white",
           "landcolor": "#E5ECF6",
           "showlakes": true,
           "showland": true,
           "subunitcolor": "white"
          },
          "hoverlabel": {
           "align": "left"
          },
          "hovermode": "closest",
          "mapbox": {
           "style": "light"
          },
          "paper_bgcolor": "white",
          "plot_bgcolor": "#E5ECF6",
          "polar": {
           "angularaxis": {
            "gridcolor": "white",
            "linecolor": "white",
            "ticks": ""
           },
           "bgcolor": "#E5ECF6",
           "radialaxis": {
            "gridcolor": "white",
            "linecolor": "white",
            "ticks": ""
           }
          },
          "scene": {
           "xaxis": {
            "backgroundcolor": "#E5ECF6",
            "gridcolor": "white",
            "gridwidth": 2,
            "linecolor": "white",
            "showbackground": true,
            "ticks": "",
            "zerolinecolor": "white"
           },
           "yaxis": {
            "backgroundcolor": "#E5ECF6",
            "gridcolor": "white",
            "gridwidth": 2,
            "linecolor": "white",
            "showbackground": true,
            "ticks": "",
            "zerolinecolor": "white"
           },
           "zaxis": {
            "backgroundcolor": "#E5ECF6",
            "gridcolor": "white",
            "gridwidth": 2,
            "linecolor": "white",
            "showbackground": true,
            "ticks": "",
            "zerolinecolor": "white"
           }
          },
          "shapedefaults": {
           "line": {
            "color": "#2a3f5f"
           }
          },
          "ternary": {
           "aaxis": {
            "gridcolor": "white",
            "linecolor": "white",
            "ticks": ""
           },
           "baxis": {
            "gridcolor": "white",
            "linecolor": "white",
            "ticks": ""
           },
           "bgcolor": "#E5ECF6",
           "caxis": {
            "gridcolor": "white",
            "linecolor": "white",
            "ticks": ""
           }
          },
          "title": {
           "x": 0.05
          },
          "xaxis": {
           "automargin": true,
           "gridcolor": "white",
           "linecolor": "white",
           "ticks": "",
           "title": {
            "standoff": 15
           },
           "zerolinecolor": "white",
           "zerolinewidth": 2
          },
          "yaxis": {
           "automargin": true,
           "gridcolor": "white",
           "linecolor": "white",
           "ticks": "",
           "title": {
            "standoff": 15
           },
           "zerolinecolor": "white",
           "zerolinewidth": 2
          }
         }
        },
        "title": {
         "text": "VAENet 6 Fold Cross Validation - Average Performance"
        },
        "xaxis": {
         "title": {
          "text": "Epochs * Chunks"
         }
        },
        "yaxis": {
         "title": {
          "text": "Performance"
         }
        }
       }
      },
      "text/html": [
       "<div>\n",
       "        \n",
       "        \n",
       "            <div id=\"629c1a45-80d8-4664-998d-9aebe3a0d62e\" class=\"plotly-graph-div\" style=\"height:525px; width:100%;\"></div>\n",
       "            <script type=\"text/javascript\">\n",
       "                require([\"plotly\"], function(Plotly) {\n",
       "                    window.PLOTLYENV=window.PLOTLYENV || {};\n",
       "                    \n",
       "                if (document.getElementById(\"629c1a45-80d8-4664-998d-9aebe3a0d62e\")) {\n",
       "                    Plotly.newPlot(\n",
       "                        '629c1a45-80d8-4664-998d-9aebe3a0d62e',\n",
       "                        [{\"line\": {\"color\": \"deepskyblue\"}, \"mode\": \"lines\", \"name\": \"Unseen Targets AUC\", \"type\": \"scatter\", \"x\": [0, 1, 2, 3, 4, 5, 6, 7, 8, 9, 10, 11, 12, 13, 14, 15, 16, 17, 18, 19, 20, 21, 22, 23, 24, 25, 26, 27, 28, 29, 30, 31, 32, 33, 34, 35, 36, 37, 38, 39, 40, 41, 42, 43, 44, 45, 46, 47, 48, 49, 50, 51, 52, 53, 54, 55, 56, 57, 58, 59, 60, 61, 62, 63, 64, 65, 66, 67, 68, 69, 70, 71, 72, 73, 74, 75, 76, 77, 78, 79, 80, 81, 82, 83, 84, 85, 86, 87, 88, 89], \"y\": [0.5094084156866531, 0.4619287880321594, 0.4822232771228441, 0.48066290024456015, 0.4896759098132582, 0.49577702674024055, 0.5024098932413666, 0.5132264019337941, 0.5128590675032002, 0.5055292323718592, 0.5096169688392168, 0.5135812842825898, 0.5169629923137374, 0.5270208443857208, 0.5295421685853818, 0.5318536475398712, 0.5334074365560487, 0.5243482156264065, 0.5399824108961283, 0.5370178339952789, 0.5370640854563795, 0.5303479507469242, 0.5496127689719876, 0.5404537393360501, 0.5517724784130372, 0.5386544729280963, 0.5473785762658911, 0.5478754187060474, 0.5529618057740027, 0.5542206044580923, 0.5457421355905576, 0.558237670534475, 0.5527704815944686, 0.5485508673895653, 0.5552776805827345, 0.5632755834523621, 0.5581133041303677, 0.5607622858115356, 0.563236017608212, 0.554927810427818, 0.5655171333929807, 0.5574914262966312, 0.5639787513321666, 0.555858178160879, 0.5549140737560937, 0.5673074100841058, 0.5601364530999249, 0.5624623008057889, 0.5674021411318683, 0.5630351733247628, 0.5679012170273897, 0.560151565505603, 0.5655184047257138, 0.5723600796256249, 0.5614776137689189, 0.574490791720745, 0.5740157777211653, 0.5705062407206672, 0.5658803737262476, 0.5797937707274846, 0.5768524469268063, 0.5701224720963032, 0.5810597527858731, 0.56883432628175, 0.5737103591627079, 0.5835168204242265, 0.5674775878777801, 0.5766463763821282, 0.5786209780500893, 0.5725735021387921, 0.5818246605060259, 0.5785920774211667, 0.5822407474630152, 0.5813687994631794, 0.5837876271179696, 0.5722225943800512, 0.581941770745367, 0.5682602249486978, 0.5813505792479221, 0.5804816597468051, 0.5887251554108389, 0.5832774446122552, 0.5745526910724547, 0.5742652957314425, 0.5821333523893788, 0.5880056955264982, 0.5868127802718908, 0.5755618425190046, 0.5779667316205083, 0.5810647557562378]}, {\"line\": {\"color\": \"blue\"}, \"mode\": \"lines\", \"name\": \"Unseen Edges AUC\", \"type\": \"scatter\", \"x\": [0, 1, 2, 3, 4, 5, 6, 7, 8, 9, 10, 11, 12, 13, 14, 15, 16, 17, 18, 19, 20, 21, 22, 23, 24, 25, 26, 27, 28, 29, 30, 31, 32, 33, 34, 35, 36, 37, 38, 39, 40, 41, 42, 43, 44, 45, 46, 47, 48, 49, 50, 51, 52, 53, 54, 55, 56, 57, 58, 59, 60, 61, 62, 63, 64, 65, 66, 67, 68, 69, 70, 71, 72, 73, 74, 75, 76, 77, 78, 79, 80, 81, 82, 83, 84, 85, 86, 87, 88, 89], \"y\": [0.5079053597026938, 0.46941450077320823, 0.4886894206586769, 0.4903085500985449, 0.49685842525293356, 0.5028654777069749, 0.5092834981446959, 0.5201574398788472, 0.5199362802906794, 0.5136493600012494, 0.5179859331310194, 0.5239693076572806, 0.5273232544526193, 0.5347177028619784, 0.5397679629147586, 0.541626748566594, 0.5421080901919288, 0.5372056650407186, 0.5529153736991984, 0.551928244992673, 0.5514743879629324, 0.5447806914892611, 0.5677245656376548, 0.5555522695102653, 0.5695827127557688, 0.556666326424868, 0.5674279164243675, 0.5677384287660896, 0.570640763439147, 0.576222984123846, 0.5636741365225847, 0.5803034785443231, 0.5759613349108706, 0.5701179390078878, 0.5784623137277735, 0.5887693105221765, 0.5846611536974908, 0.5844407154200039, 0.5910693991526438, 0.582635975908111, 0.5935972739444406, 0.5860948657142586, 0.5957411038692164, 0.5824824680366079, 0.5852511864335389, 0.5976387907344836, 0.5897754069937096, 0.5943355041637672, 0.5967289443442624, 0.5957352752631373, 0.6026037575394988, 0.5935074043628455, 0.5991772143190909, 0.6067193610823989, 0.5950847798895368, 0.6106790160158152, 0.6100767324640503, 0.6081080200572656, 0.6050841093218474, 0.6200370948313363, 0.6123608325652452, 0.6072798113227486, 0.6213407063932838, 0.609749502522951, 0.6144118258809375, 0.6305620356017556, 0.6106965169077339, 0.6214025658053516, 0.6222233964081731, 0.6148077593578815, 0.6280735076384575, 0.6263330997805204, 0.6282812753041843, 0.6287341533387236, 0.6311795206511367, 0.6196316352776318, 0.6290854548209778, 0.6155565649523517, 0.6307325489730408, 0.626875588832669, 0.6378295874547453, 0.6340212909174286, 0.6273721323210611, 0.6283644546267351, 0.6348063678190953, 0.6388827222172203, 0.6383553322261316, 0.628020183117805, 0.6362011378325003, 0.6380952169399633]}, {\"line\": {\"color\": \"red\"}, \"mode\": \"lines\", \"name\": \"Unseen Targets AUP\", \"type\": \"scatter\", \"x\": [0, 1, 2, 3, 4, 5, 6, 7, 8, 9, 10, 11, 12, 13, 14, 15, 16, 17, 18, 19, 20, 21, 22, 23, 24, 25, 26, 27, 28, 29, 30, 31, 32, 33, 34, 35, 36, 37, 38, 39, 40, 41, 42, 43, 44, 45, 46, 47, 48, 49, 50, 51, 52, 53, 54, 55, 56, 57, 58, 59, 60, 61, 62, 63, 64, 65, 66, 67, 68, 69, 70, 71, 72, 73, 74, 75, 76, 77, 78, 79, 80, 81, 82, 83, 84, 85, 86, 87, 88, 89], \"y\": [0.4832519607010102, 0.44990471928843795, 0.4610292638646798, 0.4582392143198697, 0.4558969896036762, 0.45204049385063866, 0.4557124785757425, 0.45782911679109056, 0.45362647124470895, 0.44670687080062615, 0.45002442654805425, 0.4507410578681528, 0.45235837410735474, 0.4572395994996956, 0.4589348750593109, 0.4614560684879019, 0.4626300142771771, 0.4565901560740628, 0.4674299225891137, 0.46579513256506627, 0.4665959145554319, 0.4616368132814062, 0.475909131321774, 0.47067571127604846, 0.4795356409637795, 0.47154069502890733, 0.47807976894523385, 0.4794738745537943, 0.48233937192701726, 0.48568454747844875, 0.4801517989244625, 0.4922040746031257, 0.4880549105480411, 0.48335446890096573, 0.489059885952968, 0.4978765375617602, 0.49636602571351807, 0.4981872692972001, 0.503682277790192, 0.4963367295586491, 0.5044852628524626, 0.5018826669541755, 0.5089798317382556, 0.5025298631634918, 0.5001975804322807, 0.5155397013709442, 0.5046424580016627, 0.5083775274826244, 0.5173089329366055, 0.5134993843749446, 0.518615897481323, 0.5150954772346353, 0.520665033690991, 0.526354998295838, 0.5183766519997034, 0.5288385741976868, 0.5297349198680602, 0.5251143560320524, 0.5253054099102128, 0.5346436634578052, 0.5330261273669791, 0.5287938243819507, 0.5413109649873039, 0.5312839036142005, 0.5341614912425555, 0.5468599194120792, 0.5260278589839242, 0.5413990753942413, 0.5420653922851769, 0.533789508770262, 0.5451897450916495, 0.5435334989224045, 0.5479908265912795, 0.5489417952855474, 0.5532645331608235, 0.5416004267654965, 0.5495034691800025, 0.5371892151866002, 0.5494928117131913, 0.5501740712679162, 0.5559659173075969, 0.5555875094898614, 0.5473528508875478, 0.5479487465404231, 0.5514132232178426, 0.56028072815365, 0.5590148536569678, 0.546787080621468, 0.555993903906447, 0.5534037367058723]}, {\"line\": {\"color\": \"green\"}, \"mode\": \"lines\", \"name\": \"Unseen Edges AUP\", \"type\": \"scatter\", \"x\": [0, 1, 2, 3, 4, 5, 6, 7, 8, 9, 10, 11, 12, 13, 14, 15, 16, 17, 18, 19, 20, 21, 22, 23, 24, 25, 26, 27, 28, 29, 30, 31, 32, 33, 34, 35, 36, 37, 38, 39, 40, 41, 42, 43, 44, 45, 46, 47, 48, 49, 50, 51, 52, 53, 54, 55, 56, 57, 58, 59, 60, 61, 62, 63, 64, 65, 66, 67, 68, 69, 70, 71, 72, 73, 74, 75, 76, 77, 78, 79, 80, 81, 82, 83, 84, 85, 86, 87, 88, 89], \"y\": [0.5141687833368774, 0.4829869257251034, 0.49626850250467974, 0.49289982460234155, 0.4905677424750549, 0.48703715304184464, 0.4905703626532476, 0.4925525577752094, 0.48852935644173584, 0.48214227201572735, 0.48484916602786265, 0.4858404972425114, 0.48741343467193293, 0.49175319733394707, 0.4952633659959615, 0.4968761378030199, 0.49771506316476266, 0.49421199115057995, 0.5052238109537622, 0.5049353117718335, 0.5062778485392785, 0.5014288285693344, 0.5180819658097926, 0.5108889209193795, 0.5226130854094748, 0.5146341733138587, 0.5223291621721904, 0.5231750789068791, 0.5257191865997574, 0.5325314019764749, 0.5241402618167698, 0.5402227629727611, 0.5347052688694943, 0.5306381797690181, 0.5377629825542537, 0.5490429974670731, 0.548552439802409, 0.5481746414069809, 0.5563098686511577, 0.5491314587156828, 0.5594006831766274, 0.5559807156831795, 0.5657749765025945, 0.5564456682008458, 0.5570202055533338, 0.5713112424262728, 0.5606355243377074, 0.5682252502437564, 0.572806189121003, 0.5735091341936621, 0.5813539697444268, 0.5749902741031828, 0.5816472630530359, 0.5887470256281969, 0.5792124561531965, 0.5929550583271443, 0.5934713174274867, 0.59114895909305, 0.5920261689107823, 0.6040895746458762, 0.5967956055070541, 0.5944753421754433, 0.6100033207680914, 0.5983873022262954, 0.6014941489138023, 0.6216289189685281, 0.5967314229667339, 0.6142404166253134, 0.6127931926840251, 0.603145026516006, 0.6212012729966786, 0.6179531484055021, 0.6234605274752686, 0.6246992488078175, 0.627703635116926, 0.6155618452096118, 0.6243543810407327, 0.6115975672565089, 0.6288799931261576, 0.6259074019942817, 0.6347958088583865, 0.6345024067748777, 0.6282859471535183, 0.627549255745001, 0.6337353287516655, 0.640773092553609, 0.6384834402159139, 0.6275556853129771, 0.6406803042033692, 0.6392831394561003]}],\n",
       "                        {\"showlegend\": true, \"template\": {\"data\": {\"bar\": [{\"error_x\": {\"color\": \"#2a3f5f\"}, \"error_y\": {\"color\": \"#2a3f5f\"}, \"marker\": {\"line\": {\"color\": \"#E5ECF6\", \"width\": 0.5}}, \"type\": \"bar\"}], \"barpolar\": [{\"marker\": {\"line\": {\"color\": \"#E5ECF6\", \"width\": 0.5}}, \"type\": \"barpolar\"}], \"carpet\": [{\"aaxis\": {\"endlinecolor\": \"#2a3f5f\", \"gridcolor\": \"white\", \"linecolor\": \"white\", \"minorgridcolor\": \"white\", \"startlinecolor\": \"#2a3f5f\"}, \"baxis\": {\"endlinecolor\": \"#2a3f5f\", \"gridcolor\": \"white\", \"linecolor\": \"white\", \"minorgridcolor\": \"white\", \"startlinecolor\": \"#2a3f5f\"}, \"type\": \"carpet\"}], \"choropleth\": [{\"colorbar\": {\"outlinewidth\": 0, \"ticks\": \"\"}, \"type\": \"choropleth\"}], \"contour\": [{\"colorbar\": {\"outlinewidth\": 0, \"ticks\": \"\"}, \"colorscale\": [[0.0, \"#0d0887\"], [0.1111111111111111, \"#46039f\"], [0.2222222222222222, \"#7201a8\"], [0.3333333333333333, \"#9c179e\"], [0.4444444444444444, \"#bd3786\"], [0.5555555555555556, \"#d8576b\"], [0.6666666666666666, \"#ed7953\"], [0.7777777777777778, \"#fb9f3a\"], [0.8888888888888888, \"#fdca26\"], [1.0, \"#f0f921\"]], \"type\": \"contour\"}], \"contourcarpet\": [{\"colorbar\": {\"outlinewidth\": 0, \"ticks\": \"\"}, \"type\": \"contourcarpet\"}], \"heatmap\": [{\"colorbar\": {\"outlinewidth\": 0, \"ticks\": \"\"}, \"colorscale\": [[0.0, \"#0d0887\"], [0.1111111111111111, \"#46039f\"], [0.2222222222222222, \"#7201a8\"], [0.3333333333333333, \"#9c179e\"], [0.4444444444444444, \"#bd3786\"], [0.5555555555555556, \"#d8576b\"], [0.6666666666666666, \"#ed7953\"], [0.7777777777777778, \"#fb9f3a\"], [0.8888888888888888, \"#fdca26\"], [1.0, \"#f0f921\"]], \"type\": \"heatmap\"}], \"heatmapgl\": [{\"colorbar\": {\"outlinewidth\": 0, \"ticks\": \"\"}, \"colorscale\": [[0.0, \"#0d0887\"], [0.1111111111111111, \"#46039f\"], [0.2222222222222222, \"#7201a8\"], [0.3333333333333333, \"#9c179e\"], [0.4444444444444444, \"#bd3786\"], [0.5555555555555556, \"#d8576b\"], [0.6666666666666666, \"#ed7953\"], [0.7777777777777778, \"#fb9f3a\"], [0.8888888888888888, \"#fdca26\"], [1.0, \"#f0f921\"]], \"type\": \"heatmapgl\"}], \"histogram\": [{\"marker\": {\"colorbar\": {\"outlinewidth\": 0, \"ticks\": \"\"}}, \"type\": \"histogram\"}], \"histogram2d\": [{\"colorbar\": {\"outlinewidth\": 0, \"ticks\": \"\"}, \"colorscale\": [[0.0, \"#0d0887\"], [0.1111111111111111, \"#46039f\"], [0.2222222222222222, \"#7201a8\"], [0.3333333333333333, \"#9c179e\"], [0.4444444444444444, \"#bd3786\"], [0.5555555555555556, \"#d8576b\"], [0.6666666666666666, \"#ed7953\"], [0.7777777777777778, \"#fb9f3a\"], [0.8888888888888888, \"#fdca26\"], [1.0, \"#f0f921\"]], \"type\": \"histogram2d\"}], \"histogram2dcontour\": [{\"colorbar\": {\"outlinewidth\": 0, \"ticks\": \"\"}, \"colorscale\": [[0.0, \"#0d0887\"], [0.1111111111111111, \"#46039f\"], [0.2222222222222222, \"#7201a8\"], [0.3333333333333333, \"#9c179e\"], [0.4444444444444444, \"#bd3786\"], [0.5555555555555556, \"#d8576b\"], [0.6666666666666666, \"#ed7953\"], [0.7777777777777778, \"#fb9f3a\"], [0.8888888888888888, \"#fdca26\"], [1.0, \"#f0f921\"]], \"type\": \"histogram2dcontour\"}], \"mesh3d\": [{\"colorbar\": {\"outlinewidth\": 0, \"ticks\": \"\"}, \"type\": \"mesh3d\"}], \"parcoords\": [{\"line\": {\"colorbar\": {\"outlinewidth\": 0, \"ticks\": \"\"}}, \"type\": \"parcoords\"}], \"pie\": [{\"automargin\": true, \"type\": \"pie\"}], \"scatter\": [{\"marker\": {\"colorbar\": {\"outlinewidth\": 0, \"ticks\": \"\"}}, \"type\": \"scatter\"}], \"scatter3d\": [{\"line\": {\"colorbar\": {\"outlinewidth\": 0, \"ticks\": \"\"}}, \"marker\": {\"colorbar\": {\"outlinewidth\": 0, \"ticks\": \"\"}}, \"type\": \"scatter3d\"}], \"scattercarpet\": [{\"marker\": {\"colorbar\": {\"outlinewidth\": 0, \"ticks\": \"\"}}, \"type\": \"scattercarpet\"}], \"scattergeo\": [{\"marker\": {\"colorbar\": {\"outlinewidth\": 0, \"ticks\": \"\"}}, \"type\": \"scattergeo\"}], \"scattergl\": [{\"marker\": {\"colorbar\": {\"outlinewidth\": 0, \"ticks\": \"\"}}, \"type\": \"scattergl\"}], \"scattermapbox\": [{\"marker\": {\"colorbar\": {\"outlinewidth\": 0, \"ticks\": \"\"}}, \"type\": \"scattermapbox\"}], \"scatterpolar\": [{\"marker\": {\"colorbar\": {\"outlinewidth\": 0, \"ticks\": \"\"}}, \"type\": \"scatterpolar\"}], \"scatterpolargl\": [{\"marker\": {\"colorbar\": {\"outlinewidth\": 0, \"ticks\": \"\"}}, \"type\": \"scatterpolargl\"}], \"scatterternary\": [{\"marker\": {\"colorbar\": {\"outlinewidth\": 0, \"ticks\": \"\"}}, \"type\": \"scatterternary\"}], \"surface\": [{\"colorbar\": {\"outlinewidth\": 0, \"ticks\": \"\"}, \"colorscale\": [[0.0, \"#0d0887\"], [0.1111111111111111, \"#46039f\"], [0.2222222222222222, \"#7201a8\"], [0.3333333333333333, \"#9c179e\"], [0.4444444444444444, \"#bd3786\"], [0.5555555555555556, \"#d8576b\"], [0.6666666666666666, \"#ed7953\"], [0.7777777777777778, \"#fb9f3a\"], [0.8888888888888888, \"#fdca26\"], [1.0, \"#f0f921\"]], \"type\": \"surface\"}], \"table\": [{\"cells\": {\"fill\": {\"color\": \"#EBF0F8\"}, \"line\": {\"color\": \"white\"}}, \"header\": {\"fill\": {\"color\": \"#C8D4E3\"}, \"line\": {\"color\": \"white\"}}, \"type\": \"table\"}]}, \"layout\": {\"annotationdefaults\": {\"arrowcolor\": \"#2a3f5f\", \"arrowhead\": 0, \"arrowwidth\": 1}, \"coloraxis\": {\"colorbar\": {\"outlinewidth\": 0, \"ticks\": \"\"}}, \"colorscale\": {\"diverging\": [[0, \"#8e0152\"], [0.1, \"#c51b7d\"], [0.2, \"#de77ae\"], [0.3, \"#f1b6da\"], [0.4, \"#fde0ef\"], [0.5, \"#f7f7f7\"], [0.6, \"#e6f5d0\"], [0.7, \"#b8e186\"], [0.8, \"#7fbc41\"], [0.9, \"#4d9221\"], [1, \"#276419\"]], \"sequential\": [[0.0, \"#0d0887\"], [0.1111111111111111, \"#46039f\"], [0.2222222222222222, \"#7201a8\"], [0.3333333333333333, \"#9c179e\"], [0.4444444444444444, \"#bd3786\"], [0.5555555555555556, \"#d8576b\"], [0.6666666666666666, \"#ed7953\"], [0.7777777777777778, \"#fb9f3a\"], [0.8888888888888888, \"#fdca26\"], [1.0, \"#f0f921\"]], \"sequentialminus\": [[0.0, \"#0d0887\"], [0.1111111111111111, \"#46039f\"], [0.2222222222222222, \"#7201a8\"], [0.3333333333333333, \"#9c179e\"], [0.4444444444444444, \"#bd3786\"], [0.5555555555555556, \"#d8576b\"], [0.6666666666666666, \"#ed7953\"], [0.7777777777777778, \"#fb9f3a\"], [0.8888888888888888, \"#fdca26\"], [1.0, \"#f0f921\"]]}, \"colorway\": [\"#636efa\", \"#EF553B\", \"#00cc96\", \"#ab63fa\", \"#FFA15A\", \"#19d3f3\", \"#FF6692\", \"#B6E880\", \"#FF97FF\", \"#FECB52\"], \"font\": {\"color\": \"#2a3f5f\"}, \"geo\": {\"bgcolor\": \"white\", \"lakecolor\": \"white\", \"landcolor\": \"#E5ECF6\", \"showlakes\": true, \"showland\": true, \"subunitcolor\": \"white\"}, \"hoverlabel\": {\"align\": \"left\"}, \"hovermode\": \"closest\", \"mapbox\": {\"style\": \"light\"}, \"paper_bgcolor\": \"white\", \"plot_bgcolor\": \"#E5ECF6\", \"polar\": {\"angularaxis\": {\"gridcolor\": \"white\", \"linecolor\": \"white\", \"ticks\": \"\"}, \"bgcolor\": \"#E5ECF6\", \"radialaxis\": {\"gridcolor\": \"white\", \"linecolor\": \"white\", \"ticks\": \"\"}}, \"scene\": {\"xaxis\": {\"backgroundcolor\": \"#E5ECF6\", \"gridcolor\": \"white\", \"gridwidth\": 2, \"linecolor\": \"white\", \"showbackground\": true, \"ticks\": \"\", \"zerolinecolor\": \"white\"}, \"yaxis\": {\"backgroundcolor\": \"#E5ECF6\", \"gridcolor\": \"white\", \"gridwidth\": 2, \"linecolor\": \"white\", \"showbackground\": true, \"ticks\": \"\", \"zerolinecolor\": \"white\"}, \"zaxis\": {\"backgroundcolor\": \"#E5ECF6\", \"gridcolor\": \"white\", \"gridwidth\": 2, \"linecolor\": \"white\", \"showbackground\": true, \"ticks\": \"\", \"zerolinecolor\": \"white\"}}, \"shapedefaults\": {\"line\": {\"color\": \"#2a3f5f\"}}, \"ternary\": {\"aaxis\": {\"gridcolor\": \"white\", \"linecolor\": \"white\", \"ticks\": \"\"}, \"baxis\": {\"gridcolor\": \"white\", \"linecolor\": \"white\", \"ticks\": \"\"}, \"bgcolor\": \"#E5ECF6\", \"caxis\": {\"gridcolor\": \"white\", \"linecolor\": \"white\", \"ticks\": \"\"}}, \"title\": {\"x\": 0.05}, \"xaxis\": {\"automargin\": true, \"gridcolor\": \"white\", \"linecolor\": \"white\", \"ticks\": \"\", \"title\": {\"standoff\": 15}, \"zerolinecolor\": \"white\", \"zerolinewidth\": 2}, \"yaxis\": {\"automargin\": true, \"gridcolor\": \"white\", \"linecolor\": \"white\", \"ticks\": \"\", \"title\": {\"standoff\": 15}, \"zerolinecolor\": \"white\", \"zerolinewidth\": 2}}}, \"title\": {\"text\": \"VAENet 6 Fold Cross Validation - Average Performance\"}, \"xaxis\": {\"title\": {\"text\": \"Epochs * Chunks\"}}, \"yaxis\": {\"title\": {\"text\": \"Performance\"}}},\n",
       "                        {\"responsive\": true}\n",
       "                    ).then(function(){\n",
       "                            \n",
       "var gd = document.getElementById('629c1a45-80d8-4664-998d-9aebe3a0d62e');\n",
       "var x = new MutationObserver(function (mutations, observer) {{\n",
       "        var display = window.getComputedStyle(gd).display;\n",
       "        if (!display || display === 'none') {{\n",
       "            console.log([gd, 'removed!']);\n",
       "            Plotly.purge(gd);\n",
       "            observer.disconnect();\n",
       "        }}\n",
       "}});\n",
       "\n",
       "// Listen for the removal of the full notebook cells\n",
       "var notebookContainer = gd.closest('#notebook-container');\n",
       "if (notebookContainer) {{\n",
       "    x.observe(notebookContainer, {childList: true});\n",
       "}}\n",
       "\n",
       "// Listen for the clearing of the current output cell\n",
       "var outputEl = gd.closest('.output');\n",
       "if (outputEl) {{\n",
       "    x.observe(outputEl, {childList: true});\n",
       "}}\n",
       "\n",
       "                        })\n",
       "                };\n",
       "                });\n",
       "            </script>\n",
       "        </div>"
      ]
     },
     "metadata": {},
     "output_type": "display_data"
    }
   ],
   "source": [
    "fig = go.Figure()\n",
    "\n",
    "x_list = [x for x in range(len(averaged_results['val_auc_ut']))]\n",
    "\n",
    "fig.add_trace(go.Scatter(x = x_list,\n",
    "                             y = (averaged_results['val_auc_ut'] / 6).ravel(),\n",
    "                             mode = 'lines',\n",
    "                             name = 'Unseen Targets AUC',\n",
    "                             line_color = 'deepskyblue'),\n",
    "             )\n",
    "\n",
    "fig.add_trace(go.Scatter(x = x_list,\n",
    "                             y = (averaged_results['val_auc_ue'] / 6).ravel(),\n",
    "                             mode = 'lines',\n",
    "                             name = 'Unseen Edges AUC',\n",
    "                             line_color = 'blue'),\n",
    "             )\n",
    "\n",
    "fig.add_trace(go.Scatter(x = x_list,\n",
    "                             y = (averaged_results['val_aup_ut'] / 6).ravel(),\n",
    "                             mode = 'lines',\n",
    "                             name = 'Unseen Targets AUP',\n",
    "                             line_color = 'red'),\n",
    "             )\n",
    "\n",
    "fig.add_trace(go.Scatter(x = x_list,\n",
    "                             y = (averaged_results['val_aup_ue'] / 6).ravel(),\n",
    "                             mode = 'lines',\n",
    "                             name = 'Unseen Edges AUP',\n",
    "                             line_color = 'green'),\n",
    "             )\n",
    "\n",
    "fig.update_layout(title_text = \"VAENet 6 Fold Cross Validation - Average Performance\", \n",
    "                  xaxis_title_text = 'Epochs * Chunks',\n",
    "                  yaxis_title_text = 'Performance',\n",
    "                  showlegend = True)\n",
    "\n",
    "fig.show()\n",
    "fig.write_html('./KF/averaged_performance.html')"
   ]
  },
  {
   "cell_type": "code",
   "execution_count": null,
   "metadata": {
    "hidden": true
   },
   "outputs": [],
   "source": []
  },
  {
   "cell_type": "code",
   "execution_count": 41,
   "metadata": {
    "hidden": true
   },
   "outputs": [
    {
     "name": "stdout",
     "output_type": "stream",
     "text": [
      "(Epoch * Chunk) With Highest Unseen Target and Edge Score :  85\n",
      "(Epoch * Chunk) With Highest Unseen Target Score :  85\n",
      "(Epoch * Chunk) With Highest Unseen Edge Score :  85\n"
     ]
    }
   ],
   "source": [
    "perf = np.zeros((averaged_results['val_aup_ue'].shape[0], 4))\n",
    "ut_c = 0\n",
    "ut_p = 1\n",
    "ue_c = 2\n",
    "ue_p = 3\n",
    "\n",
    "perf[:, ut_c] = averaged_results['val_auc_ut'].ravel()\n",
    "perf[:, ut_p] = averaged_results['val_aup_ut'].ravel()\n",
    "perf[:, ue_c] = averaged_results['val_auc_ue'].ravel()\n",
    "perf[:, ue_p] = averaged_results['val_aup_ue'].ravel()\n",
    "perf = perf / 6\n",
    "\n",
    "# UT AUC + UE AUC\n",
    "edge_target = np.argmax(np.sum(perf[:, [ut_c, ue_c]], axis = 1))\n",
    "\n",
    "# UT AUC + UT AUP\n",
    "target_only = np.argmax(np.sum(perf[:, [ut_c, ut_p]], axis = 1))\n",
    "\n",
    "# UE AUC + UE AUP\n",
    "edge_only = np.argmax(np.sum(perf[:, [ue_c, ue_p]], axis = 1))\n",
    "\n",
    "print (\"(Epoch * Chunk) With Highest Unseen Target and Edge Score : \", edge_target)\n",
    "print (\"(Epoch * Chunk) With Highest Unseen Target Score : \", target_only)\n",
    "print (\"(Epoch * Chunk) With Highest Unseen Edge Score : \", edge_target)"
   ]
  },
  {
   "cell_type": "code",
   "execution_count": 47,
   "metadata": {
    "hidden": true
   },
   "outputs": [
    {
     "name": "stdout",
     "output_type": "stream",
     "text": [
      "DeepPurpose - 6 Fold Cross Validation Performance\n",
      "Unseen Target AUC :  0.6058835834222562 +/- 0.017799609997387635\n",
      "Unseen Target AUP :  0.6021971340312113 +/- 0.03928531592054591\n",
      "Unseen Edges AUC :  0.7407692718264256 +/- 0.01553821739720573\n",
      "Unseen Edges AUP :  0.7753892330370454 +/- 0.014287311509524548\n"
     ]
    }
   ],
   "source": [
    "ut_auc = []\n",
    "ut_aup = []\n",
    "ue_auc = []\n",
    "ue_aup = []\n",
    "\n",
    "model_key = 'deep_purpose_2'\n",
    "best_model = 0\n",
    "\n",
    "for run in results[model_key].keys():\n",
    "    \n",
    "    ut_auc.append(results[model_key][run]['val_auc_ut'][best_model])\n",
    "    ut_aup.append(results[model_key][run]['val_aup_ut'][best_model])\n",
    "    ue_auc.append(results[model_key][run]['val_auc_ue'][best_model])\n",
    "    ue_aup.append(results[model_key][run]['val_aup_ue'][best_model])\n",
    "\n",
    "print (\"DeepPurpose - 6 Fold Cross Validation Performance\")\n",
    "print (\"Unseen Target AUC : \", np.mean(ut_auc), \"+/-\", np.std(ut_auc))\n",
    "print (\"Unseen Target AUP : \", np.mean(ut_aup), \"+/-\", np.std(ut_aup))\n",
    "print (\"Unseen Edges AUC : \", np.mean(ue_auc), \"+/-\", np.std(ue_auc))\n",
    "print (\"Unseen Edges AUP : \", np.mean(ue_aup), \"+/-\", np.std(ue_aup))"
   ]
  },
  {
   "cell_type": "markdown",
   "metadata": {},
   "source": [
    "### Test"
   ]
  },
  {
   "cell_type": "markdown",
   "metadata": {},
   "source": [
    "#### Overall Results"
   ]
  },
  {
   "cell_type": "code",
   "execution_count": 45,
   "metadata": {},
   "outputs": [],
   "source": [
    "# def epoch_name(i):\n",
    "#     epoch_num = i // 3\n",
    "#     indices = [0, 250, 500]\n",
    "#     idx_num = indices[i % 3]\n",
    "#     return  \"epoch_\" + str(epoch_num) + '_idx_' + str(idx_num) + \".model\""
   ]
  },
  {
   "cell_type": "code",
   "execution_count": null,
   "metadata": {},
   "outputs": [],
   "source": []
  },
  {
   "cell_type": "code",
   "execution_count": 33,
   "metadata": {
    "scrolled": true
   },
   "outputs": [
    {
     "data": {
      "application/vnd.jupyter.widget-view+json": {
       "model_id": "aeb6318b0990452d967ee7a409a96814",
       "version_major": 2,
       "version_minor": 0
      },
      "text/plain": [
       "HBox(children=(FloatProgress(value=0.0, max=5.0), HTML(value='')))"
      ]
     },
     "metadata": {},
     "output_type": "display_data"
    },
    {
     "name": "stdout",
     "output_type": "stream",
     "text": [
      "in total: 6491 drug-target pairs\n",
      "encoding drug...\n",
      "unique drugs: 3232\n",
      "rdkit not found this smiles for morgan: nan convert to all 1 features\n",
      "drug encoding finished...\n",
      "encoding protein...\n",
      "unique target sequence: 907\n",
      "protein encoding finished...\n",
      "splitting dataset...\n",
      "Done.\n",
      "in total: 3693 drug-target pairs\n",
      "encoding drug...\n",
      "unique drugs: 2145\n",
      "rdkit not found this smiles for morgan: nan convert to all 1 features\n",
      "drug encoding finished...\n",
      "encoding protein...\n",
      "unique target sequence: 1593\n",
      "protein encoding finished...\n",
      "splitting dataset...\n",
      "Done.\n",
      "predicting...\n",
      "in total: 6935 drug-target pairs\n",
      "encoding drug...\n",
      "unique drugs: 3444\n",
      "rdkit not found this smiles for morgan: nan convert to all 1 features\n",
      "drug encoding finished...\n",
      "encoding protein...\n",
      "unique target sequence: 974\n",
      "protein encoding finished...\n",
      "splitting dataset...\n",
      "Done.\n",
      "in total: 3603 drug-target pairs\n",
      "encoding drug...\n",
      "unique drugs: 2090\n",
      "rdkit not found this smiles for morgan: nan convert to all 1 features\n",
      "drug encoding finished...\n",
      "encoding protein...\n",
      "unique target sequence: 1619\n",
      "protein encoding finished...\n",
      "splitting dataset...\n",
      "Done.\n",
      "predicting...\n",
      "predicting...\n",
      "in total: 6329 drug-target pairs\n",
      "encoding drug...\n",
      "unique drugs: 2750\n",
      "rdkit not found this smiles for morgan: nan convert to all 1 features\n",
      "drug encoding finished...\n",
      "encoding protein...\n",
      "unique target sequence: 1014\n",
      "protein encoding finished...\n",
      "splitting dataset...\n",
      "Done.\n",
      "in total: 3785 drug-target pairs\n",
      "encoding drug...\n",
      "unique drugs: 2249\n",
      "rdkit not found this smiles for morgan: nan convert to all 1 features\n",
      "drug encoding finished...\n",
      "encoding protein...\n",
      "unique target sequence: 1576\n",
      "protein encoding finished...\n",
      "splitting dataset...\n",
      "Done.\n",
      "predicting...\n",
      "predicting...\n",
      "in total: 6579 drug-target pairs\n",
      "encoding drug...\n",
      "unique drugs: 3559\n",
      "rdkit not found this smiles for morgan: nan convert to all 1 features\n"
     ]
    },
    {
     "name": "stderr",
     "output_type": "stream",
     "text": [
      "RDKit WARNING: [13:44:14] Conflicting single bond directions around double bond at index 1.\n",
      "RDKit WARNING: [13:44:14]   BondStereo set to STEREONONE and single bond directions set to NONE.\n"
     ]
    },
    {
     "name": "stdout",
     "output_type": "stream",
     "text": [
      "drug encoding finished...\n",
      "encoding protein...\n",
      "unique target sequence: 991\n",
      "protein encoding finished...\n",
      "splitting dataset...\n",
      "Done.\n",
      "in total: 3710 drug-target pairs\n",
      "encoding drug...\n",
      "unique drugs: 2090\n",
      "rdkit not found this smiles for morgan: nan convert to all 1 features\n",
      "drug encoding finished...\n",
      "encoding protein...\n",
      "unique target sequence: 1631\n",
      "protein encoding finished...\n",
      "splitting dataset...\n",
      "Done.\n",
      "predicting...\n",
      "predicting...\n",
      "in total: 6626 drug-target pairs\n",
      "encoding drug...\n",
      "unique drugs: 2645\n",
      "rdkit not found this smiles for morgan: nan convert to all 1 features\n",
      "drug encoding finished...\n",
      "encoding protein...\n",
      "unique target sequence: 1024\n",
      "protein encoding finished...\n",
      "splitting dataset...\n",
      "Done.\n",
      "in total: 3696 drug-target pairs\n",
      "encoding drug...\n",
      "unique drugs: 2234\n",
      "rdkit not found this smiles for morgan: nan convert to all 1 features\n",
      "drug encoding finished...\n",
      "encoding protein...\n",
      "unique target sequence: 1546\n",
      "protein encoding finished...\n",
      "splitting dataset...\n",
      "Done.\n",
      "predicting...\n",
      "predicting...\n",
      "\n",
      "DeepPurpose Test Set Performance - DS2 Filtered (6 Fold Cross Validated Results) - All - All Unseen : \n",
      "\n",
      "\tUnseen Targets : \n",
      "\n",
      "\t\tAUC          :  0.6429625457782515 +/- 0.025405907440484904\n",
      "\t\tAUP          :  0.5830498555388016 +/- 0.016814039998705694\n",
      "\t\tMax F1 Score :  0.1672969789527841 +/- 0.06396181264932918\n",
      "\t\tF1 Threshold :  0.0 +/- 0.0\n",
      "\n",
      "\tUnseen Edges : \n",
      "\n",
      "\t\tAUC          :  0.7758972639459795 +/- 0.02582207832638822\n",
      "\t\tAUP          :  0.8000990187300806 +/- 0.02599065096755749\n",
      "\t\tMax F1 Score :  0.4911046048459923 +/- 0.058718330975501005\n",
      "\t\tF1 Threshold :  0.0 +/- 0.0\n"
     ]
    }
   ],
   "source": [
    "test_results = {}\n",
    "for run_number in tqdm(range(0, 5)):\n",
    "    \n",
    "    model = models.model_initialize(**config)\n",
    "    directory = '../data/sars-busters-consolidated/deep_purpose/KFUD-Final/Run_' + str(run_number)\n",
    "    model_name = directory + \"/\" + os.listdir(directory)[-1] + \"/model.pt\"\n",
    "    model.load_pretrained(model_name)\n",
    "    \n",
    "    test_ut, nothing, nothing =  data_process(add_smile(targets_test[run_number])['SMILE_y'],\n",
    "                                    targets_test[run_number]['target_aa_code'],\n",
    "                                    targets_test[run_number]['Y'], \n",
    "                                    drug_encoding, target_encoding, \n",
    "                                    split_method='cold_protein', \n",
    "                                    frac=[1,0,.0])\n",
    "    \n",
    "    Y_test_actual_ut = targets_test[run_number]['Y']\n",
    "\n",
    "    test_ue, nothing, nothing =  data_process(add_smile(edges_test[run_number])['SMILE'],\n",
    "                                    edges_test[run_number]['target_aa_code'],\n",
    "                                    edges_test[run_number]['Y'], \n",
    "                                    drug_encoding, target_encoding, \n",
    "                                    split_method='cold_protein', \n",
    "                                    frac=[1,0,.0])\n",
    "    \n",
    "    Y_test_actual_ue = edges_test[run_number]['Y']\n",
    "\n",
    "\n",
    "    # Calculate and Save Test Performance\n",
    "    Y_test_predictions_ut = []\n",
    "    Y_test_predictions_ut.extend(model.predict(test_ut))\n",
    "\n",
    "    Y_test_predictions_ue = []\n",
    "    Y_test_predictions_ue.extend(model.predict(test_ue))\n",
    "    \n",
    "    ######## Unseen Targets Test ########\n",
    "    true = Y_test_actual_ut\n",
    "    pred = Y_test_predictions_ut\n",
    "    \n",
    "    f1_scores = []\n",
    "\n",
    "    for j in np.arange(0.0, 1.0, 0.01):\n",
    "        f1_scores.append(f1_score(true, [1 if (i > j) else 0 for i in pred]))\n",
    "        \n",
    "    f_1_thresh = [idx for idx, x in list(zip(np.arange(0.0, 1.0, 0.01), f1_scores)) if x == max(f1_scores)][0]\n",
    "        \n",
    "    pred_bin = [1 if (i > f_1_thresh) else 0 for i in pred]\n",
    "\n",
    "    try:\n",
    "        test_results[run_number]\n",
    "    except: \n",
    "        test_results[run_number] = {}\n",
    "    \n",
    "    test_results[run_number]['unseen_targets_auc'] = roc_auc_score(true, pred)\n",
    "    test_results[run_number]['unseen_targets_aup'] = average_precision_score(true, pred)\n",
    "    test_results[run_number]['unseen_targets_f1_scores'] = f1_scores\n",
    "    test_results[run_number]['unseen_targets_max_f1'] = np.max(f1_scores)\n",
    "    test_results[run_number]['unseen_targets_f1_threshold'] = f_1_thresh\n",
    "    test_results[run_number]['targets_confusion_matrix'] = confusion_matrix(true, pred_bin)\n",
    "    \n",
    "    ######## Unseen Edges Test ########\n",
    "    true = Y_test_actual_ue\n",
    "    pred = Y_test_predictions_ue\n",
    "    \n",
    "    f1_scores = []\n",
    "\n",
    "    for j in np.arange(0.0, 1.0, 0.01):\n",
    "        f1_scores.append(f1_score(true, [1 if (i > j) else 0 for i in pred]))\n",
    "        \n",
    "    f_1_thresh = [idx for idx, x in list(zip(np.arange(0.0, 1.0, 0.01), f1_scores)) if x == max(f1_scores)][0]\n",
    "        \n",
    "    pred_bin = [1 if (i > f_1_thresh) else 0 for i in pred]\n",
    "    \n",
    "    test_results[run_number]['unseen_edges_auc'] = roc_auc_score(true, pred)\n",
    "    test_results[run_number]['unseen_edges_aup'] = average_precision_score(true, pred)\n",
    "    test_results[run_number]['unseen_edges_f1_scores'] = f1_scores\n",
    "    test_results[run_number]['unseen_edges_max_f1'] = np.max(f1_scores)\n",
    "    test_results[run_number]['unseen_edges_f1_threshold'] = f_1_thresh\n",
    "    test_results[run_number]['edges_confusion_matrix'] = confusion_matrix(true, pred_bin)\n",
    "    \n",
    "ue_auc = []\n",
    "ue_aup = []\n",
    "ut_auc = []\n",
    "ut_aup = []\n",
    "f1_t_e = []\n",
    "f1_t_t = []\n",
    "f1_t = []\n",
    "f1_e = []\n",
    "\n",
    "for run_number in test_results.keys():\n",
    "    \n",
    "    ue_auc.append(test_results[run_number]['unseen_edges_auc'])\n",
    "    ue_aup.append(test_results[run_number]['unseen_edges_aup'])\n",
    "    ut_auc.append(test_results[run_number]['unseen_targets_auc'])\n",
    "    ut_aup.append(test_results[run_number]['unseen_targets_aup'])\n",
    "    f1_t_e.append(test_results[run_number]['unseen_edges_f1_threshold'])\n",
    "    f1_t_t.append(test_results[run_number]['unseen_targets_f1_threshold'])    \n",
    "    f1_t.append(test_results[run_number]['unseen_targets_max_f1'])\n",
    "    f1_e.append(test_results[run_number]['unseen_edges_max_f1'])\n",
    "    \n",
    "print (\"DeepPurpose Test Set Performance - DS2 Filtered (6 Fold Cross Validated Results) - All - All Unseen : \")\n",
    "print (\"\")\n",
    "print (\"\\tUnseen Targets : \\n\")\n",
    "print (\"\\t\\tAUC          : \", np.mean(ut_auc), \"+/-\", np.std(ut_auc))\n",
    "print (\"\\t\\tAUP          : \", np.mean(ut_aup), \"+/-\", np.std(ut_aup))\n",
    "print (\"\\t\\tMax F1 Score : \", np.mean(f1_t), \"+/-\", np.std(f1_t))\n",
    "print (\"\\t\\tF1 Threshold : \", np.mean(f1_t_t), \"+/-\", np.std(f1_t_t))\n",
    "print (\"\")\n",
    "print (\"\\tUnseen Edges : \\n\")\n",
    "print (\"\\t\\tAUC          : \", np.mean(ue_auc), \"+/-\", np.std(ue_auc))\n",
    "print (\"\\t\\tAUP          : \", np.mean(ue_aup), \"+/-\", np.std(ue_aup))\n",
    "print (\"\\t\\tMax F1 Score : \", np.mean(f1_e), \"+/-\", np.std(f1_e))\n",
    "print (\"\\t\\tF1 Threshold : \", np.mean(f1_t_e), \"+/-\", np.std(f1_t_e))"
   ]
  },
  {
   "cell_type": "code",
   "execution_count": null,
   "metadata": {},
   "outputs": [],
   "source": []
  },
  {
   "cell_type": "markdown",
   "metadata": {},
   "source": [
    "#### NDM Test Results"
   ]
  },
  {
   "cell_type": "code",
   "execution_count": 73,
   "metadata": {},
   "outputs": [],
   "source": [
    "with open('/data/sars-busters/Mol2Vec/chemicals_01_w_embed.pkl','rb') as file: \n",
    "    drugs_alternate = pkl.load(file)"
   ]
  },
  {
   "cell_type": "code",
   "execution_count": 74,
   "metadata": {},
   "outputs": [],
   "source": [
    "ndm_drugs = list(drugs_alternate[drugs_alternate['IsNDM'] == True]['Label'])\n",
    "non_ndm_drugs = list(drugs_alternate[drugs_alternate['IsNDM'] == False]['Label'])"
   ]
  },
  {
   "cell_type": "code",
   "execution_count": 75,
   "metadata": {
    "scrolled": true
   },
   "outputs": [
    {
     "data": {
      "application/vnd.jupyter.widget-view+json": {
       "model_id": "46ce575ce73d4add811f221d6d2c8ffd",
       "version_major": 2,
       "version_minor": 0
      },
      "text/plain": [
       "HBox(children=(FloatProgress(value=0.0, max=6.0), HTML(value='')))"
      ]
     },
     "metadata": {},
     "output_type": "display_data"
    },
    {
     "name": "stdout",
     "output_type": "stream",
     "text": [
      "in total: 308 drug-target pairs\n",
      "encoding drug...\n",
      "unique drugs: 189\n",
      "drug encoding finished...\n",
      "encoding protein...\n",
      "unique target sequence: 160\n",
      "protein encoding finished...\n",
      "splitting dataset...\n",
      "Done.\n",
      "in total: 247 drug-target pairs\n",
      "encoding drug...\n",
      "unique drugs: 154\n",
      "drug encoding finished...\n",
      "encoding protein...\n",
      "unique target sequence: 205\n",
      "protein encoding finished...\n",
      "splitting dataset...\n",
      "Done.\n",
      "predicting...\n",
      "predicting...\n",
      "in total: 372 drug-target pairs\n",
      "encoding drug...\n",
      "unique drugs: 242\n",
      "drug encoding finished...\n",
      "encoding protein...\n",
      "unique target sequence: 183\n",
      "protein encoding finished...\n",
      "splitting dataset...\n",
      "Done.\n",
      "in total: 229 drug-target pairs\n",
      "encoding drug...\n",
      "unique drugs: 155\n",
      "drug encoding finished...\n",
      "encoding protein...\n",
      "unique target sequence: 186\n",
      "protein encoding finished...\n",
      "splitting dataset...\n",
      "Done.\n",
      "predicting...\n",
      "predicting...\n",
      "in total: 301 drug-target pairs\n",
      "encoding drug...\n",
      "unique drugs: 183\n",
      "drug encoding finished...\n",
      "encoding protein...\n",
      "unique target sequence: 178\n",
      "protein encoding finished...\n",
      "splitting dataset...\n",
      "Done.\n",
      "in total: 212 drug-target pairs\n",
      "encoding drug...\n",
      "unique drugs: 144\n",
      "drug encoding finished...\n",
      "encoding protein...\n",
      "unique target sequence: 166\n",
      "protein encoding finished...\n",
      "splitting dataset...\n",
      "Done.\n",
      "predicting...\n",
      "predicting...\n",
      "in total: 258 drug-target pairs\n",
      "encoding drug...\n",
      "unique drugs: 169\n",
      "drug encoding finished...\n",
      "encoding protein...\n",
      "unique target sequence: 152\n",
      "protein encoding finished...\n",
      "splitting dataset...\n",
      "Done.\n",
      "in total: 260 drug-target pairs\n",
      "encoding drug...\n",
      "unique drugs: 162\n",
      "drug encoding finished...\n",
      "encoding protein...\n",
      "unique target sequence: 213\n",
      "protein encoding finished...\n",
      "splitting dataset...\n",
      "Done.\n",
      "predicting...\n",
      "predicting...\n",
      "in total: 387 drug-target pairs\n",
      "encoding drug...\n",
      "unique drugs: 238\n",
      "drug encoding finished...\n",
      "encoding protein...\n",
      "unique target sequence: 189\n",
      "protein encoding finished...\n",
      "splitting dataset...\n",
      "Done.\n",
      "in total: 196 drug-target pairs\n",
      "encoding drug...\n",
      "unique drugs: 140\n",
      "drug encoding finished...\n",
      "encoding protein...\n",
      "unique target sequence: 170\n",
      "protein encoding finished...\n",
      "splitting dataset...\n",
      "Done.\n",
      "predicting...\n",
      "predicting...\n",
      "in total: 288 drug-target pairs\n",
      "encoding drug...\n",
      "unique drugs: 176\n",
      "drug encoding finished...\n",
      "encoding protein...\n",
      "unique target sequence: 174\n",
      "protein encoding finished...\n",
      "splitting dataset...\n",
      "Done.\n",
      "in total: 244 drug-target pairs\n",
      "encoding drug...\n",
      "unique drugs: 164\n",
      "drug encoding finished...\n",
      "encoding protein...\n",
      "unique target sequence: 198\n",
      "protein encoding finished...\n",
      "splitting dataset...\n",
      "Done.\n",
      "predicting...\n",
      "predicting...\n",
      "\n",
      "DeepPurpose Test Set Performance - DS2 Filtered (6 Fold Cross Validated Results) - NDM Only : \n",
      "\n",
      "\tUnseen Targets : \n",
      "\n",
      "\t\tAUC          :  0.7255292140052956 +/- 0.032735251825937096\n",
      "\t\tAUP          :  0.9218451026210329 +/- 0.01943708425462355\n",
      "\t\tMax F1 Score :  0.6820243771823966 +/- 0.07692670149170633\n",
      "\t\tF1 Threshold :  0.018333333333333333 +/- 0.03287180487219336\n",
      "\n",
      "\tUnseen Edges : \n",
      "\n",
      "\t\tAUC          :  0.9150201816712982 +/- 0.03378453908387864\n",
      "\t\tAUP          :  0.9785908107248793 +/- 0.010924679743683606\n",
      "\t\tMax F1 Score :  0.7895805582319041 +/- 0.0732903825378065\n",
      "\t\tF1 Threshold :  0.0 +/- 0.0\n"
     ]
    }
   ],
   "source": [
    "test_results_ndm = {}\n",
    "\n",
    "for run_number in tqdm(range(0, 6)):\n",
    "    \n",
    "    target_test_df = targets_test[run_number][targets_test[run_number]['InChiKey'].isin(ndm_drugs)]\n",
    "    edge_test_df = edges_test[run_number][edges_test[run_number]['InChiKey'].isin(ndm_drugs)]\n",
    "    \n",
    "    model = models.model_initialize(**config)\n",
    "    directory = '../data/sars-busters-consolidated/deep_purpose/KF/Run_' + str(run_number)\n",
    "    model_name = directory + \"/\" + os.listdir(directory)[-1] + \"/model.pt\"\n",
    "    model.load_pretrained(model_name)\n",
    "    \n",
    "    test_ut, nothing, nothing =  data_process(add_smile(target_test_df)['SMILE'],\n",
    "                                    target_test_df['target_aa_code'],\n",
    "                                    target_test_df['Y'], \n",
    "                                    drug_encoding, target_encoding, \n",
    "                                    split_method='cold_protein', \n",
    "                                    frac=[1,0,.0])\n",
    "    \n",
    "    Y_test_actual_ut = target_test_df['Y']\n",
    "\n",
    "    test_ue, nothing, nothing =  data_process(add_smile(edge_test_df)['SMILE'],\n",
    "                                    edge_test_df['target_aa_code'],\n",
    "                                    edge_test_df['Y'], \n",
    "                                    drug_encoding, target_encoding, \n",
    "                                    split_method='cold_protein', \n",
    "                                    frac=[1,0,.0])\n",
    "    \n",
    "    Y_test_actual_ue = edge_test_df['Y']\n",
    "\n",
    "\n",
    "    # Calculate and Save Test Performance\n",
    "    Y_test_predictions_ut = []\n",
    "    Y_test_predictions_ut.extend(model.predict(test_ut))\n",
    "\n",
    "    Y_test_predictions_ue = []\n",
    "    Y_test_predictions_ue.extend(model.predict(test_ue))\n",
    "    \n",
    "    ######## Unseen Targets Test ########\n",
    "\n",
    "    true = Y_test_actual_ut\n",
    "    pred = Y_test_predictions_ut\n",
    "    \n",
    "    f1_scores = []\n",
    "\n",
    "    for j in np.arange(0.0, 1.0, 0.01):\n",
    "        f1_scores.append(f1_score(true, [1 if (i > j) else 0 for i in pred]))\n",
    "        \n",
    "    f_1_thresh = [idx for idx, x in list(zip(np.arange(0.0, 1.0, 0.01), f1_scores)) if x == max(f1_scores)][0]\n",
    "        \n",
    "    pred_bin = [1 if (i > f_1_thresh) else 0 for i in pred]\n",
    "\n",
    "    try:\n",
    "        test_results_ndm[run_number]\n",
    "    except: \n",
    "        test_results_ndm[run_number] = {}\n",
    "    \n",
    "    test_results_ndm[run_number]['unseen_targets_auc'] = roc_auc_score(true, pred)\n",
    "    test_results_ndm[run_number]['unseen_targets_aup'] = average_precision_score(true, pred)\n",
    "    test_results_ndm[run_number]['unseen_targets_f1_scores'] = f1_scores\n",
    "    test_results_ndm[run_number]['unseen_targets_max_f1'] = np.max(f1_scores)\n",
    "    test_results_ndm[run_number]['unseen_targets_f1_threshold'] = f_1_thresh\n",
    "    test_results_ndm[run_number]['targets_confusion_matrix'] = confusion_matrix(true, pred_bin)\n",
    "    \n",
    "    ######## Unseen Edges Test ########\n",
    "    \n",
    "    true = Y_test_actual_ue\n",
    "    pred = Y_test_predictions_ue\n",
    "    \n",
    "    f1_scores = []\n",
    "\n",
    "    for j in np.arange(0.0, 1.0, 0.01):\n",
    "        f1_scores.append(f1_score(true, [1 if (i > j) else 0 for i in pred]))\n",
    "        \n",
    "    f_1_thresh = [idx for idx, x in list(zip(np.arange(0.0, 1.0, 0.01), f1_scores)) if x == max(f1_scores)][0]\n",
    "        \n",
    "    pred_bin = [1 if (i > f_1_thresh) else 0 for i in pred]\n",
    "    \n",
    "    test_results_ndm[run_number]['unseen_edges_auc'] = roc_auc_score(true, pred)\n",
    "    test_results_ndm[run_number]['unseen_edges_aup'] = average_precision_score(true, pred)\n",
    "    test_results_ndm[run_number]['unseen_edges_f1_scores'] = f1_scores\n",
    "    test_results_ndm[run_number]['unseen_edges_max_f1'] = np.max(f1_scores)\n",
    "    test_results_ndm[run_number]['unseen_edges_f1_threshold'] = f_1_thresh\n",
    "    test_results_ndm[run_number]['edges_confusion_matrix'] = confusion_matrix(true, pred_bin)\n",
    "    \n",
    "ue_auc = []\n",
    "ue_aup = []\n",
    "ut_auc = []\n",
    "ut_aup = []\n",
    "f1_t_e = []\n",
    "f1_t_t = []\n",
    "f1_t = []\n",
    "f1_e = []\n",
    "\n",
    "for run_number in test_results_ndm.keys():\n",
    "    \n",
    "    ue_auc.append(test_results_ndm[run_number]['unseen_edges_auc'])\n",
    "    ue_aup.append(test_results_ndm[run_number]['unseen_edges_aup'])\n",
    "    ut_auc.append(test_results_ndm[run_number]['unseen_targets_auc'])\n",
    "    ut_aup.append(test_results_ndm[run_number]['unseen_targets_aup'])\n",
    "    f1_t_e.append(test_results_ndm[run_number]['unseen_edges_f1_threshold'])\n",
    "    f1_t_t.append(test_results_ndm[run_number]['unseen_targets_f1_threshold'])    \n",
    "    f1_t.append(test_results_ndm[run_number]['unseen_targets_max_f1'])\n",
    "    f1_e.append(test_results_ndm[run_number]['unseen_edges_max_f1'])\n",
    "    \n",
    "print (\"DeepPurpose Test Set Performance - DS2 Filtered (6 Fold Cross Validated Results) - NDM Only : \")\n",
    "print (\"\")\n",
    "print (\"\\tUnseen Targets : \\n\")\n",
    "print (\"\\t\\tAUC          : \", np.mean(ut_auc), \"+/-\", np.std(ut_auc))\n",
    "print (\"\\t\\tAUP          : \", np.mean(ut_aup), \"+/-\", np.std(ut_aup))\n",
    "print (\"\\t\\tMax F1 Score : \", np.mean(f1_t), \"+/-\", np.std(f1_t))\n",
    "print (\"\\t\\tF1 Threshold : \", np.mean(f1_t_t), \"+/-\", np.std(f1_t_t))\n",
    "print (\"\")\n",
    "print (\"\\tUnseen Edges : \\n\")\n",
    "print (\"\\t\\tAUC          : \", np.mean(ue_auc), \"+/-\", np.std(ue_auc))\n",
    "print (\"\\t\\tAUP          : \", np.mean(ue_aup), \"+/-\", np.std(ue_aup))\n",
    "print (\"\\t\\tMax F1 Score : \", np.mean(f1_e), \"+/-\", np.std(f1_e))\n",
    "print (\"\\t\\tF1 Threshold : \", np.mean(f1_t_e), \"+/-\", np.std(f1_t_e))"
   ]
  },
  {
   "cell_type": "markdown",
   "metadata": {},
   "source": [
    "#### Non NDM Test Results"
   ]
  },
  {
   "cell_type": "code",
   "execution_count": 76,
   "metadata": {},
   "outputs": [
    {
     "data": {
      "application/vnd.jupyter.widget-view+json": {
       "model_id": "04973398e38b439ea472b1015da27fe3",
       "version_major": 2,
       "version_minor": 0
      },
      "text/plain": [
       "HBox(children=(FloatProgress(value=0.0, max=6.0), HTML(value='')))"
      ]
     },
     "metadata": {},
     "output_type": "display_data"
    },
    {
     "name": "stdout",
     "output_type": "stream",
     "text": [
      "in total: 5155 drug-target pairs\n",
      "encoding drug...\n",
      "unique drugs: 2585\n",
      "rdkit not found this smiles for morgan: nan convert to all 1 features\n",
      "drug encoding finished...\n",
      "encoding protein...\n",
      "unique target sequence: 733\n",
      "protein encoding finished...\n",
      "splitting dataset...\n",
      "Done.\n",
      "in total: 3588 drug-target pairs\n",
      "encoding drug...\n",
      "unique drugs: 2036\n",
      "rdkit not found this smiles for morgan: nan convert to all 1 features\n",
      "drug encoding finished...\n",
      "encoding protein...\n",
      "unique target sequence: 1609\n",
      "protein encoding finished...\n",
      "splitting dataset...\n",
      "Done.\n",
      "predicting...\n",
      "predicting...\n",
      "in total: 5370 drug-target pairs\n",
      "encoding drug...\n",
      "unique drugs: 2988\n",
      "rdkit not found this smiles for morgan: nan convert to all 1 features\n"
     ]
    },
    {
     "name": "stderr",
     "output_type": "stream",
     "text": [
      "RDKit WARNING: [09:10:11] Conflicting single bond directions around double bond at index 1.\n",
      "RDKit WARNING: [09:10:11]   BondStereo set to STEREONONE and single bond directions set to NONE.\n"
     ]
    },
    {
     "name": "stdout",
     "output_type": "stream",
     "text": [
      "drug encoding finished...\n",
      "encoding protein...\n",
      "unique target sequence: 736\n",
      "protein encoding finished...\n",
      "splitting dataset...\n",
      "Done.\n",
      "in total: 3520 drug-target pairs\n",
      "encoding drug...\n",
      "unique drugs: 1967\n",
      "rdkit not found this smiles for morgan: nan convert to all 1 features\n"
     ]
    },
    {
     "name": "stderr",
     "output_type": "stream",
     "text": [
      "RDKit WARNING: [09:10:13] Conflicting single bond directions around double bond at index 1.\n",
      "RDKit WARNING: [09:10:13]   BondStereo set to STEREONONE and single bond directions set to NONE.\n"
     ]
    },
    {
     "name": "stdout",
     "output_type": "stream",
     "text": [
      "drug encoding finished...\n",
      "encoding protein...\n",
      "unique target sequence: 1603\n",
      "protein encoding finished...\n",
      "splitting dataset...\n",
      "Done.\n",
      "predicting...\n",
      "predicting...\n",
      "in total: 5155 drug-target pairs\n",
      "encoding drug...\n",
      "unique drugs: 2393\n",
      "rdkit not found this smiles for morgan: nan convert to all 1 features\n",
      "drug encoding finished...\n",
      "encoding protein...\n",
      "unique target sequence: 762\n",
      "protein encoding finished...\n",
      "splitting dataset...\n",
      "Done.\n",
      "in total: 3629 drug-target pairs\n",
      "encoding drug...\n",
      "unique drugs: 2076\n",
      "rdkit not found this smiles for morgan: nan convert to all 1 features\n",
      "drug encoding finished...\n",
      "encoding protein...\n",
      "unique target sequence: 1540\n",
      "protein encoding finished...\n",
      "splitting dataset...\n",
      "Done.\n",
      "predicting...\n",
      "predicting...\n",
      "in total: 4819 drug-target pairs\n",
      "encoding drug...\n",
      "unique drugs: 2322\n",
      "rdkit not found this smiles for morgan: nan convert to all 1 features\n",
      "drug encoding finished...\n",
      "encoding protein...\n",
      "unique target sequence: 737\n",
      "protein encoding finished...\n",
      "splitting dataset...\n",
      "Done.\n",
      "in total: 3693 drug-target pairs\n",
      "encoding drug...\n",
      "unique drugs: 2111\n",
      "rdkit not found this smiles for morgan: nan convert to all 1 features\n",
      "drug encoding finished...\n",
      "encoding protein...\n",
      "unique target sequence: 1588\n",
      "protein encoding finished...\n",
      "splitting dataset...\n",
      "Done.\n",
      "predicting...\n",
      "predicting...\n",
      "in total: 5234 drug-target pairs\n",
      "encoding drug...\n",
      "unique drugs: 2963\n",
      "rdkit not found this smiles for morgan: nan convert to all 1 features\n"
     ]
    },
    {
     "name": "stderr",
     "output_type": "stream",
     "text": [
      "RDKit WARNING: [09:11:25] Conflicting single bond directions around double bond at index 1.\n",
      "RDKit WARNING: [09:11:25]   BondStereo set to STEREONONE and single bond directions set to NONE.\n"
     ]
    },
    {
     "name": "stdout",
     "output_type": "stream",
     "text": [
      "drug encoding finished...\n",
      "encoding protein...\n",
      "unique target sequence: 726\n",
      "protein encoding finished...\n",
      "splitting dataset...\n",
      "Done.\n",
      "in total: 3593 drug-target pairs\n",
      "encoding drug...\n",
      "unique drugs: 1976\n",
      "rdkit not found this smiles for morgan: nan convert to all 1 features\n",
      "drug encoding finished...\n",
      "encoding protein...\n",
      "unique target sequence: 1621\n",
      "protein encoding finished...\n",
      "splitting dataset...\n",
      "Done.\n",
      "predicting...\n",
      "predicting...\n",
      "in total: 4964 drug-target pairs\n",
      "encoding drug...\n",
      "unique drugs: 2068\n",
      "rdkit not found this smiles for morgan: nan convert to all 1 features\n",
      "drug encoding finished...\n",
      "encoding protein...\n",
      "unique target sequence: 770\n",
      "protein encoding finished...\n",
      "splitting dataset...\n",
      "Done.\n",
      "in total: 3657 drug-target pairs\n",
      "encoding drug...\n",
      "unique drugs: 2123\n",
      "rdkit not found this smiles for morgan: nan convert to all 1 features\n",
      "drug encoding finished...\n",
      "encoding protein...\n",
      "unique target sequence: 1548\n",
      "protein encoding finished...\n",
      "splitting dataset...\n",
      "Done.\n",
      "predicting...\n",
      "predicting...\n",
      "\n",
      "DeepPurpose Test Set Performance - DS2 Filtered (6 Fold Cross Validated Results) - Non-NDM Only : \n",
      "\n",
      "\tUnseen Targets : \n",
      "\n",
      "\t\tAUC          :  0.6070116029641824 +/- 0.01692608170230724\n",
      "\t\tAUP          :  0.5830515804860149 +/- 0.04695024220428286\n",
      "\t\tMax F1 Score :  0.4448939052686111 +/- 0.06073439376066113\n",
      "\t\tF1 Threshold :  0.0016666666666666668 +/- 0.003726779962499649\n",
      "\n",
      "\tUnseen Edges : \n",
      "\n",
      "\t\tAUC          :  0.7329926580743177 +/- 0.009885611763723542\n",
      "\t\tAUP          :  0.7501761204783944 +/- 0.012016411498468335\n",
      "\t\tMax F1 Score :  0.5777742794509934 +/- 0.027507305472911373\n",
      "\t\tF1 Threshold :  0.0033333333333333335 +/- 0.004714045207910317\n"
     ]
    }
   ],
   "source": [
    "test_results_ndm = {}\n",
    "\n",
    "for run_number in tqdm(range(0, 6)):\n",
    "    \n",
    "    target_test_df = targets_test[run_number][targets_test[run_number]['InChiKey'].isin(non_ndm_drugs)]\n",
    "    edge_test_df = edges_test[run_number][edges_test[run_number]['InChiKey'].isin(non_ndm_drugs)]\n",
    "    \n",
    "    model = models.model_initialize(**config)\n",
    "    directory = '../data/sars-busters-consolidated/deep_purpose/KF/Run_' + str(run_number)\n",
    "    model_name = directory + \"/\" + os.listdir(directory)[-1] + \"/model.pt\"\n",
    "    model.load_pretrained(model_name)\n",
    "    \n",
    "    test_ut, nothing, nothing =  data_process(add_smile(target_test_df)['SMILE'],\n",
    "                                    target_test_df['target_aa_code'],\n",
    "                                    target_test_df['Y'], \n",
    "                                    drug_encoding, target_encoding, \n",
    "                                    split_method='cold_protein', \n",
    "                                    frac=[1,0,.0])\n",
    "    \n",
    "    Y_test_actual_ut = target_test_df['Y']\n",
    "\n",
    "    test_ue, nothing, nothing =  data_process(add_smile(edge_test_df)['SMILE'],\n",
    "                                    edge_test_df['target_aa_code'],\n",
    "                                    edge_test_df['Y'], \n",
    "                                    drug_encoding, target_encoding, \n",
    "                                    split_method='cold_protein', \n",
    "                                    frac=[1,0,.0])\n",
    "    \n",
    "    Y_test_actual_ue = edge_test_df['Y']\n",
    "\n",
    "\n",
    "    # Calculate and Save Test Performance\n",
    "    Y_test_predictions_ut = []\n",
    "    Y_test_predictions_ut.extend(model.predict(test_ut))\n",
    "\n",
    "    Y_test_predictions_ue = []\n",
    "    Y_test_predictions_ue.extend(model.predict(test_ue))\n",
    "    \n",
    "    ######## Unseen Targets Test ########\n",
    "\n",
    "    true = Y_test_actual_ut\n",
    "    pred = Y_test_predictions_ut\n",
    "    \n",
    "    f1_scores = []\n",
    "\n",
    "    for j in np.arange(0.0, 1.0, 0.01):\n",
    "        f1_scores.append(f1_score(true, [1 if (i > j) else 0 for i in pred]))\n",
    "        \n",
    "    f_1_thresh = [idx for idx, x in list(zip(np.arange(0.0, 1.0, 0.01), f1_scores)) if x == max(f1_scores)][0]\n",
    "        \n",
    "    pred_bin = [1 if (i > f_1_thresh) else 0 for i in pred]\n",
    "\n",
    "    try:\n",
    "        test_results_ndm[run_number]\n",
    "    except: \n",
    "        test_results_ndm[run_number] = {}\n",
    "    \n",
    "    test_results_ndm[run_number]['unseen_targets_auc'] = roc_auc_score(true, pred)\n",
    "    test_results_ndm[run_number]['unseen_targets_aup'] = average_precision_score(true, pred)\n",
    "    test_results_ndm[run_number]['unseen_targets_f1_scores'] = f1_scores\n",
    "    test_results_ndm[run_number]['unseen_targets_max_f1'] = np.max(f1_scores)\n",
    "    test_results_ndm[run_number]['unseen_targets_f1_threshold'] = f_1_thresh\n",
    "    test_results_ndm[run_number]['targets_confusion_matrix'] = confusion_matrix(true, pred_bin)\n",
    "    \n",
    "    ######## Unseen Edges Test ########\n",
    "    \n",
    "    true = Y_test_actual_ue\n",
    "    pred = Y_test_predictions_ue\n",
    "    \n",
    "    f1_scores = []\n",
    "\n",
    "    for j in np.arange(0.0, 1.0, 0.01):\n",
    "        f1_scores.append(f1_score(true, [1 if (i > j) else 0 for i in pred]))\n",
    "        \n",
    "    f_1_thresh = [idx for idx, x in list(zip(np.arange(0.0, 1.0, 0.01), f1_scores)) if x == max(f1_scores)][0]\n",
    "        \n",
    "    pred_bin = [1 if (i > f_1_thresh) else 0 for i in pred]\n",
    "    \n",
    "    test_results_ndm[run_number]['unseen_edges_auc'] = roc_auc_score(true, pred)\n",
    "    test_results_ndm[run_number]['unseen_edges_aup'] = average_precision_score(true, pred)\n",
    "    test_results_ndm[run_number]['unseen_edges_f1_scores'] = f1_scores\n",
    "    test_results_ndm[run_number]['unseen_edges_max_f1'] = np.max(f1_scores)\n",
    "    test_results_ndm[run_number]['unseen_edges_f1_threshold'] = f_1_thresh\n",
    "    test_results_ndm[run_number]['edges_confusion_matrix'] = confusion_matrix(true, pred_bin)\n",
    "    \n",
    "ue_auc = []\n",
    "ue_aup = []\n",
    "ut_auc = []\n",
    "ut_aup = []\n",
    "f1_t_e = []\n",
    "f1_t_t = []\n",
    "f1_t = []\n",
    "f1_e = []\n",
    "\n",
    "for run_number in test_results_ndm.keys():\n",
    "    \n",
    "    ue_auc.append(test_results_ndm[run_number]['unseen_edges_auc'])\n",
    "    ue_aup.append(test_results_ndm[run_number]['unseen_edges_aup'])\n",
    "    ut_auc.append(test_results_ndm[run_number]['unseen_targets_auc'])\n",
    "    ut_aup.append(test_results_ndm[run_number]['unseen_targets_aup'])\n",
    "    f1_t_e.append(test_results_ndm[run_number]['unseen_edges_f1_threshold'])\n",
    "    f1_t_t.append(test_results_ndm[run_number]['unseen_targets_f1_threshold'])    \n",
    "    f1_t.append(test_results_ndm[run_number]['unseen_targets_max_f1'])\n",
    "    f1_e.append(test_results_ndm[run_number]['unseen_edges_max_f1'])\n",
    "    \n",
    "print (\"DeepPurpose Test Set Performance - DS2 Filtered (6 Fold Cross Validated Results) - Non-NDM Only : \")\n",
    "print (\"\")\n",
    "print (\"\\tUnseen Targets : \\n\")\n",
    "print (\"\\t\\tAUC          : \", np.mean(ut_auc), \"+/-\", np.std(ut_auc))\n",
    "print (\"\\t\\tAUP          : \", np.mean(ut_aup), \"+/-\", np.std(ut_aup))\n",
    "print (\"\\t\\tMax F1 Score : \", np.mean(f1_t), \"+/-\", np.std(f1_t))\n",
    "print (\"\\t\\tF1 Threshold : \", np.mean(f1_t_t), \"+/-\", np.std(f1_t_t))\n",
    "print (\"\")\n",
    "print (\"\\tUnseen Edges : \\n\")\n",
    "print (\"\\t\\tAUC          : \", np.mean(ue_auc), \"+/-\", np.std(ue_auc))\n",
    "print (\"\\t\\tAUP          : \", np.mean(ue_aup), \"+/-\", np.std(ue_aup))\n",
    "print (\"\\t\\tMax F1 Score : \", np.mean(f1_e), \"+/-\", np.std(f1_e))\n",
    "print (\"\\t\\tF1 Threshold : \", np.mean(f1_t_e), \"+/-\", np.std(f1_t_e))"
   ]
  },
  {
   "cell_type": "code",
   "execution_count": null,
   "metadata": {},
   "outputs": [],
   "source": []
  },
  {
   "cell_type": "markdown",
   "metadata": {},
   "source": [
    "#### Drug Results "
   ]
  },
  {
   "cell_type": "code",
   "execution_count": 77,
   "metadata": {},
   "outputs": [],
   "source": [
    "is_drugs = list(drugs_alternate[drugs_alternate['IsDrug'] == True]['Label'])\n",
    "non_drugs = list(drugs_alternate[drugs_alternate['IsDrug'] == False]['Label'])"
   ]
  },
  {
   "cell_type": "code",
   "execution_count": 79,
   "metadata": {
    "scrolled": true
   },
   "outputs": [
    {
     "data": {
      "application/vnd.jupyter.widget-view+json": {
       "model_id": "294b4e9bd6ab447da14acfa484277cfb",
       "version_major": 2,
       "version_minor": 0
      },
      "text/plain": [
       "HBox(children=(FloatProgress(value=0.0, max=6.0), HTML(value='')))"
      ]
     },
     "metadata": {},
     "output_type": "display_data"
    },
    {
     "name": "stdout",
     "output_type": "stream",
     "text": [
      "in total: 5170 drug-target pairs\n",
      "encoding drug...\n",
      "unique drugs: 2572\n",
      "rdkit not found this smiles for morgan: nan convert to all 1 features\n",
      "drug encoding finished...\n",
      "encoding protein...\n",
      "unique target sequence: 747\n",
      "protein encoding finished...\n",
      "splitting dataset...\n",
      "Done.\n",
      "in total: 3586 drug-target pairs\n",
      "encoding drug...\n",
      "unique drugs: 2034\n",
      "rdkit not found this smiles for morgan: nan convert to all 1 features\n",
      "drug encoding finished...\n",
      "encoding protein...\n",
      "unique target sequence: 1646\n",
      "protein encoding finished...\n",
      "splitting dataset...\n",
      "Done.\n",
      "predicting...\n",
      "predicting...\n",
      "in total: 5380 drug-target pairs\n",
      "encoding drug...\n",
      "unique drugs: 2971\n",
      "rdkit not found this smiles for morgan: nan convert to all 1 features\n"
     ]
    },
    {
     "name": "stderr",
     "output_type": "stream",
     "text": [
      "RDKit WARNING: [09:14:47] Conflicting single bond directions around double bond at index 1.\n",
      "RDKit WARNING: [09:14:47]   BondStereo set to STEREONONE and single bond directions set to NONE.\n"
     ]
    },
    {
     "name": "stdout",
     "output_type": "stream",
     "text": [
      "drug encoding finished...\n",
      "encoding protein...\n",
      "unique target sequence: 753\n",
      "protein encoding finished...\n",
      "splitting dataset...\n",
      "Done.\n",
      "in total: 3497 drug-target pairs\n",
      "encoding drug...\n",
      "unique drugs: 1950\n"
     ]
    },
    {
     "name": "stderr",
     "output_type": "stream",
     "text": [
      "RDKit WARNING: [09:14:49] Conflicting single bond directions around double bond at index 1.\n",
      "RDKit WARNING: [09:14:49]   BondStereo set to STEREONONE and single bond directions set to NONE.\n"
     ]
    },
    {
     "name": "stdout",
     "output_type": "stream",
     "text": [
      "drug encoding finished...\n",
      "encoding protein...\n",
      "unique target sequence: 1634\n",
      "protein encoding finished...\n",
      "splitting dataset...\n",
      "Done.\n",
      "predicting...\n",
      "predicting...\n",
      "in total: 5110 drug-target pairs\n",
      "encoding drug...\n",
      "unique drugs: 2368\n",
      "rdkit not found this smiles for morgan: nan convert to all 1 features\n",
      "drug encoding finished...\n",
      "encoding protein...\n",
      "unique target sequence: 770\n",
      "protein encoding finished...\n",
      "splitting dataset...\n",
      "Done.\n",
      "in total: 3608 drug-target pairs\n",
      "encoding drug...\n",
      "unique drugs: 2065\n",
      "rdkit not found this smiles for morgan: nan convert to all 1 features\n",
      "drug encoding finished...\n",
      "encoding protein...\n",
      "unique target sequence: 1564\n",
      "protein encoding finished...\n",
      "splitting dataset...\n",
      "Done.\n",
      "predicting...\n",
      "predicting...\n",
      "in total: 4834 drug-target pairs\n",
      "encoding drug...\n",
      "unique drugs: 2330\n",
      "rdkit not found this smiles for morgan: nan convert to all 1 features\n",
      "drug encoding finished...\n",
      "encoding protein...\n",
      "unique target sequence: 749\n",
      "protein encoding finished...\n",
      "splitting dataset...\n",
      "Done.\n",
      "in total: 3707 drug-target pairs\n",
      "encoding drug...\n",
      "unique drugs: 2096\n",
      "rdkit not found this smiles for morgan: nan convert to all 1 features\n",
      "drug encoding finished...\n",
      "encoding protein...\n",
      "unique target sequence: 1649\n",
      "protein encoding finished...\n",
      "splitting dataset...\n",
      "Done.\n",
      "predicting...\n",
      "predicting...\n",
      "in total: 5191 drug-target pairs\n",
      "encoding drug...\n",
      "unique drugs: 2900\n",
      "rdkit not found this smiles for morgan: nan convert to all 1 features\n"
     ]
    },
    {
     "name": "stderr",
     "output_type": "stream",
     "text": [
      "RDKit WARNING: [09:16:00] Conflicting single bond directions around double bond at index 1.\n",
      "RDKit WARNING: [09:16:00]   BondStereo set to STEREONONE and single bond directions set to NONE.\n"
     ]
    },
    {
     "name": "stdout",
     "output_type": "stream",
     "text": [
      "drug encoding finished...\n",
      "encoding protein...\n",
      "unique target sequence: 739\n",
      "protein encoding finished...\n",
      "splitting dataset...\n",
      "Done.\n",
      "in total: 3586 drug-target pairs\n",
      "encoding drug...\n",
      "unique drugs: 1965\n",
      "rdkit not found this smiles for morgan: nan convert to all 1 features\n",
      "drug encoding finished...\n",
      "encoding protein...\n",
      "unique target sequence: 1654\n",
      "protein encoding finished...\n",
      "splitting dataset...\n",
      "Done.\n",
      "predicting...\n",
      "predicting...\n",
      "in total: 4962 drug-target pairs\n",
      "encoding drug...\n",
      "unique drugs: 2061\n",
      "rdkit not found this smiles for morgan: nan convert to all 1 features\n",
      "drug encoding finished...\n",
      "encoding protein...\n",
      "unique target sequence: 787\n",
      "protein encoding finished...\n",
      "splitting dataset...\n",
      "Done.\n",
      "in total: 3637 drug-target pairs\n",
      "encoding drug...\n",
      "unique drugs: 2096\n",
      "rdkit not found this smiles for morgan: nan convert to all 1 features\n",
      "drug encoding finished...\n",
      "encoding protein...\n",
      "unique target sequence: 1580\n",
      "protein encoding finished...\n",
      "splitting dataset...\n",
      "Done.\n",
      "predicting...\n",
      "predicting...\n",
      "\n",
      "DeepPurpose Test Set Performance - DS2 Filtered (6 Fold Cross Validated Results) - Drugs Only : \n",
      "\n",
      "\tUnseen Targets : \n",
      "\n",
      "\t\tAUC          :  0.6068102661382259 +/- 0.014613712029333745\n",
      "\t\tAUP          :  0.5983932881157051 +/- 0.04330079400916997\n",
      "\t\tMax F1 Score :  0.4464658225625469 +/- 0.06179125268466084\n",
      "\t\tF1 Threshold :  0.0016666666666666668 +/- 0.0037267799624996494\n",
      "\n",
      "\tUnseen Edges : \n",
      "\n",
      "\t\tAUC          :  0.7360927804193055 +/- 0.01578640328441724\n",
      "\t\tAUP          :  0.7623948512212606 +/- 0.01597297257558786\n",
      "\t\tMax F1 Score :  0.5834819903362588 +/- 0.029971271133433272\n",
      "\t\tF1 Threshold :  0.0016666666666666668 +/- 0.0037267799624996494\n"
     ]
    }
   ],
   "source": [
    "test_results_ndm = {}\n",
    "\n",
    "for run_number in tqdm(range(0, 6)):\n",
    "    \n",
    "    target_test_df = targets_test[run_number][targets_test[run_number]['InChiKey'].isin(is_drugs)]\n",
    "    edge_test_df = edges_test[run_number][edges_test[run_number]['InChiKey'].isin(is_drugs)]\n",
    "    \n",
    "    model = models.model_initialize(**config)\n",
    "    directory = '../data/sars-busters-consolidated/deep_purpose/KF/Run_' + str(run_number)\n",
    "    model_name = directory + \"/\" + os.listdir(directory)[-1] + \"/model.pt\"\n",
    "    model.load_pretrained(model_name)\n",
    "    \n",
    "    test_ut, nothing, nothing =  data_process(add_smile(target_test_df)['SMILE'],\n",
    "                                    target_test_df['target_aa_code'],\n",
    "                                    target_test_df['Y'], \n",
    "                                    drug_encoding, target_encoding, \n",
    "                                    split_method='cold_protein', \n",
    "                                    frac=[1,0,.0])\n",
    "    \n",
    "    Y_test_actual_ut = target_test_df['Y']\n",
    "\n",
    "    test_ue, nothing, nothing =  data_process(add_smile(edge_test_df)['SMILE'],\n",
    "                                    edge_test_df['target_aa_code'],\n",
    "                                    edge_test_df['Y'], \n",
    "                                    drug_encoding, target_encoding, \n",
    "                                    split_method='cold_protein', \n",
    "                                    frac=[1,0,.0])\n",
    "    \n",
    "    Y_test_actual_ue = edge_test_df['Y']\n",
    "\n",
    "\n",
    "    # Calculate and Save Test Performance\n",
    "    Y_test_predictions_ut = []\n",
    "    Y_test_predictions_ut.extend(model.predict(test_ut))\n",
    "\n",
    "    Y_test_predictions_ue = []\n",
    "    Y_test_predictions_ue.extend(model.predict(test_ue))\n",
    "    \n",
    "    ######## Unseen Targets Test ########\n",
    "\n",
    "    true = Y_test_actual_ut\n",
    "    pred = Y_test_predictions_ut\n",
    "    \n",
    "    f1_scores = []\n",
    "\n",
    "    for j in np.arange(0.0, 1.0, 0.01):\n",
    "        f1_scores.append(f1_score(true, [1 if (i > j) else 0 for i in pred]))\n",
    "        \n",
    "    f_1_thresh = [idx for idx, x in list(zip(np.arange(0.0, 1.0, 0.01), f1_scores)) if x == max(f1_scores)][0]\n",
    "        \n",
    "    pred_bin = [1 if (i > f_1_thresh) else 0 for i in pred]\n",
    "\n",
    "    try:\n",
    "        test_results_ndm[run_number]\n",
    "    except: \n",
    "        test_results_ndm[run_number] = {}\n",
    "    \n",
    "    test_results_ndm[run_number]['unseen_targets_auc'] = roc_auc_score(true, pred)\n",
    "    test_results_ndm[run_number]['unseen_targets_aup'] = average_precision_score(true, pred)\n",
    "    test_results_ndm[run_number]['unseen_targets_f1_scores'] = f1_scores\n",
    "    test_results_ndm[run_number]['unseen_targets_max_f1'] = np.max(f1_scores)\n",
    "    test_results_ndm[run_number]['unseen_targets_f1_threshold'] = f_1_thresh\n",
    "    test_results_ndm[run_number]['targets_confusion_matrix'] = confusion_matrix(true, pred_bin)\n",
    "    \n",
    "    ######## Unseen Edges Test ########\n",
    "    \n",
    "    true = Y_test_actual_ue\n",
    "    pred = Y_test_predictions_ue\n",
    "    \n",
    "    f1_scores = []\n",
    "\n",
    "    for j in np.arange(0.0, 1.0, 0.01):\n",
    "        f1_scores.append(f1_score(true, [1 if (i > j) else 0 for i in pred]))\n",
    "        \n",
    "    f_1_thresh = [idx for idx, x in list(zip(np.arange(0.0, 1.0, 0.01), f1_scores)) if x == max(f1_scores)][0]\n",
    "        \n",
    "    pred_bin = [1 if (i > f_1_thresh) else 0 for i in pred]\n",
    "    \n",
    "    test_results_ndm[run_number]['unseen_edges_auc'] = roc_auc_score(true, pred)\n",
    "    test_results_ndm[run_number]['unseen_edges_aup'] = average_precision_score(true, pred)\n",
    "    test_results_ndm[run_number]['unseen_edges_f1_scores'] = f1_scores\n",
    "    test_results_ndm[run_number]['unseen_edges_max_f1'] = np.max(f1_scores)\n",
    "    test_results_ndm[run_number]['unseen_edges_f1_threshold'] = f_1_thresh\n",
    "    test_results_ndm[run_number]['edges_confusion_matrix'] = confusion_matrix(true, pred_bin)\n",
    "    \n",
    "ue_auc = []\n",
    "ue_aup = []\n",
    "ut_auc = []\n",
    "ut_aup = []\n",
    "f1_t_e = []\n",
    "f1_t_t = []\n",
    "f1_t = []\n",
    "f1_e = []\n",
    "\n",
    "for run_number in test_results_ndm.keys():\n",
    "    \n",
    "    ue_auc.append(test_results_ndm[run_number]['unseen_edges_auc'])\n",
    "    ue_aup.append(test_results_ndm[run_number]['unseen_edges_aup'])\n",
    "    ut_auc.append(test_results_ndm[run_number]['unseen_targets_auc'])\n",
    "    ut_aup.append(test_results_ndm[run_number]['unseen_targets_aup'])\n",
    "    f1_t_e.append(test_results_ndm[run_number]['unseen_edges_f1_threshold'])\n",
    "    f1_t_t.append(test_results_ndm[run_number]['unseen_targets_f1_threshold'])    \n",
    "    f1_t.append(test_results_ndm[run_number]['unseen_targets_max_f1'])\n",
    "    f1_e.append(test_results_ndm[run_number]['unseen_edges_max_f1'])\n",
    "    \n",
    "print (\"DeepPurpose Test Set Performance - DS2 Filtered (6 Fold Cross Validated Results) - Drugs Only : \")\n",
    "print (\"\")\n",
    "print (\"\\tUnseen Targets : \\n\")\n",
    "print (\"\\t\\tAUC          : \", np.mean(ut_auc), \"+/-\", np.std(ut_auc))\n",
    "print (\"\\t\\tAUP          : \", np.mean(ut_aup), \"+/-\", np.std(ut_aup))\n",
    "print (\"\\t\\tMax F1 Score : \", np.mean(f1_t), \"+/-\", np.std(f1_t))\n",
    "print (\"\\t\\tF1 Threshold : \", np.mean(f1_t_t), \"+/-\", np.std(f1_t_t))\n",
    "print (\"\")\n",
    "print (\"\\tUnseen Edges : \\n\")\n",
    "print (\"\\t\\tAUC          : \", np.mean(ue_auc), \"+/-\", np.std(ue_auc))\n",
    "print (\"\\t\\tAUP          : \", np.mean(ue_aup), \"+/-\", np.std(ue_aup))\n",
    "print (\"\\t\\tMax F1 Score : \", np.mean(f1_e), \"+/-\", np.std(f1_e))\n",
    "print (\"\\t\\tF1 Threshold : \", np.mean(f1_t_e), \"+/-\", np.std(f1_t_e))"
   ]
  },
  {
   "cell_type": "markdown",
   "metadata": {},
   "source": [
    "#### Non Drug Test"
   ]
  },
  {
   "cell_type": "code",
   "execution_count": 80,
   "metadata": {},
   "outputs": [
    {
     "data": {
      "application/vnd.jupyter.widget-view+json": {
       "model_id": "8e17a32779cb4ac2abd0a491b3d64de0",
       "version_major": 2,
       "version_minor": 0
      },
      "text/plain": [
       "HBox(children=(FloatProgress(value=0.0, max=6.0), HTML(value='')))"
      ]
     },
     "metadata": {},
     "output_type": "display_data"
    },
    {
     "name": "stdout",
     "output_type": "stream",
     "text": [
      "in total: 293 drug-target pairs\n",
      "encoding drug...\n",
      "unique drugs: 204\n",
      "rdkit not found this smiles for morgan: nan convert to all 1 features\n",
      "drug encoding finished...\n",
      "encoding protein...\n",
      "unique target sequence: 118\n",
      "protein encoding finished...\n",
      "splitting dataset...\n",
      "Done.\n",
      "in total: 249 drug-target pairs\n",
      "encoding drug...\n",
      "unique drugs: 170\n",
      "rdkit not found this smiles for morgan: nan convert to all 1 features\n",
      "drug encoding finished...\n",
      "encoding protein...\n",
      "unique target sequence: 177\n",
      "protein encoding finished...\n",
      "splitting dataset...\n",
      "Done.\n",
      "predicting...\n",
      "predicting...\n",
      "in total: 362 drug-target pairs\n",
      "encoding drug...\n",
      "unique drugs: 258\n",
      "rdkit not found this smiles for morgan: nan convert to all 1 features\n",
      "drug encoding finished...\n",
      "encoding protein...\n",
      "unique target sequence: 116\n",
      "protein encoding finished...\n",
      "splitting dataset...\n",
      "Done.\n",
      "in total: 252 drug-target pairs\n",
      "encoding drug...\n",
      "unique drugs: 181\n",
      "rdkit not found this smiles for morgan: nan convert to all 1 features\n",
      "drug encoding finished...\n",
      "encoding protein...\n",
      "unique target sequence: 179\n",
      "protein encoding finished...\n",
      "splitting dataset...\n",
      "Done.\n",
      "predicting...\n",
      "predicting...\n",
      "in total: 346 drug-target pairs\n",
      "encoding drug...\n",
      "unique drugs: 208\n",
      "rdkit not found this smiles for morgan: nan convert to all 1 features\n",
      "drug encoding finished...\n",
      "encoding protein...\n",
      "unique target sequence: 154\n",
      "protein encoding finished...\n",
      "splitting dataset...\n",
      "Done.\n",
      "in total: 233 drug-target pairs\n",
      "encoding drug...\n",
      "unique drugs: 165\n",
      "rdkit not found this smiles for morgan: nan convert to all 1 features\n",
      "drug encoding finished...\n",
      "encoding protein...\n",
      "unique target sequence: 171\n",
      "protein encoding finished...\n",
      "splitting dataset...\n",
      "Done.\n",
      "predicting...\n",
      "predicting...\n",
      "in total: 243 drug-target pairs\n",
      "encoding drug...\n",
      "unique drugs: 159\n",
      "rdkit not found this smiles for morgan: nan convert to all 1 features\n",
      "drug encoding finished...\n",
      "encoding protein...\n",
      "unique target sequence: 114\n",
      "protein encoding finished...\n",
      "splitting dataset...\n",
      "Done.\n",
      "in total: 246 drug-target pairs\n",
      "encoding drug...\n",
      "unique drugs: 182\n",
      "rdkit not found this smiles for morgan: nan convert to all 1 features\n",
      "drug encoding finished...\n",
      "encoding protein...\n",
      "unique target sequence: 172\n",
      "protein encoding finished...\n",
      "splitting dataset...\n",
      "Done.\n",
      "predicting...\n",
      "predicting...\n",
      "in total: 430 drug-target pairs\n",
      "encoding drug...\n",
      "unique drugs: 293\n",
      "rdkit not found this smiles for morgan: nan convert to all 1 features\n",
      "drug encoding finished...\n",
      "encoding protein...\n",
      "unique target sequence: 139\n",
      "protein encoding finished...\n",
      "splitting dataset...\n",
      "Done.\n",
      "in total: 203 drug-target pairs\n",
      "encoding drug...\n",
      "unique drugs: 161\n",
      "rdkit not found this smiles for morgan: nan convert to all 1 features\n",
      "drug encoding finished...\n",
      "encoding protein...\n",
      "unique target sequence: 158\n",
      "protein encoding finished...\n",
      "splitting dataset...\n",
      "Done.\n",
      "predicting...\n",
      "predicting...\n",
      "in total: 290 drug-target pairs\n",
      "encoding drug...\n",
      "unique drugs: 186\n",
      "rdkit not found this smiles for morgan: nan convert to all 1 features\n",
      "drug encoding finished...\n",
      "encoding protein...\n",
      "unique target sequence: 140\n",
      "protein encoding finished...\n",
      "splitting dataset...\n",
      "Done.\n",
      "in total: 264 drug-target pairs\n",
      "encoding drug...\n",
      "unique drugs: 185\n",
      "rdkit not found this smiles for morgan: nan convert to all 1 features\n",
      "drug encoding finished...\n",
      "encoding protein...\n",
      "unique target sequence: 198\n",
      "protein encoding finished...\n",
      "splitting dataset...\n",
      "Done.\n",
      "predicting...\n",
      "predicting...\n",
      "\n",
      "DeepPurpose Test Set Performance - DS2 Filtered (6 Fold Cross Validated Results) - Non-Drug Only : \n",
      "\n",
      "\tUnseen Targets : \n",
      "\n",
      "\t\tAUC          :  0.6989850651391599 +/- 0.01852029900487017\n",
      "\t\tAUP          :  0.7511450465537074 +/- 0.051742678379938845\n",
      "\t\tMax F1 Score :  0.5677715303909905 +/- 0.08148639057381919\n",
      "\t\tF1 Threshold :  0.036666666666666674 +/- 0.05467073155618909\n",
      "\n",
      "\tUnseen Edges : \n",
      "\n",
      "\t\tAUC          :  0.8569412215662786 +/- 0.03146946499656084\n",
      "\t\tAUP          :  0.9038169373234979 +/- 0.026898973252678062\n",
      "\t\tMax F1 Score :  0.7389978740497675 +/- 0.06541234300083511\n",
      "\t\tF1 Threshold :  0.008333333333333333 +/- 0.018633899812498248\n"
     ]
    }
   ],
   "source": [
    "test_results_ndm = {}\n",
    "\n",
    "for run_number in tqdm(range(0, 6)):\n",
    "    \n",
    "    target_test_df = targets_test[run_number][targets_test[run_number]['InChiKey'].isin(non_drugs)]\n",
    "    edge_test_df = edges_test[run_number][edges_test[run_number]['InChiKey'].isin(non_drugs)]\n",
    "    \n",
    "    model = models.model_initialize(**config)\n",
    "    directory = '../data/sars-busters-consolidated/deep_purpose/KF/Run_' + str(run_number)\n",
    "    model_name = directory + \"/\" + os.listdir(directory)[-1] + \"/model.pt\"\n",
    "    model.load_pretrained(model_name)\n",
    "    \n",
    "    test_ut, nothing, nothing =  data_process(add_smile(target_test_df)['SMILE'],\n",
    "                                    target_test_df['target_aa_code'],\n",
    "                                    target_test_df['Y'], \n",
    "                                    drug_encoding, target_encoding, \n",
    "                                    split_method='cold_protein', \n",
    "                                    frac=[1,0,.0])\n",
    "    \n",
    "    Y_test_actual_ut = target_test_df['Y']\n",
    "\n",
    "    test_ue, nothing, nothing =  data_process(add_smile(edge_test_df)['SMILE'],\n",
    "                                    edge_test_df['target_aa_code'],\n",
    "                                    edge_test_df['Y'], \n",
    "                                    drug_encoding, target_encoding, \n",
    "                                    split_method='cold_protein', \n",
    "                                    frac=[1,0,.0])\n",
    "    \n",
    "    Y_test_actual_ue = edge_test_df['Y']\n",
    "\n",
    "\n",
    "    # Calculate and Save Test Performance\n",
    "    Y_test_predictions_ut = []\n",
    "    Y_test_predictions_ut.extend(model.predict(test_ut))\n",
    "\n",
    "    Y_test_predictions_ue = []\n",
    "    Y_test_predictions_ue.extend(model.predict(test_ue))\n",
    "    \n",
    "    ######## Unseen Targets Test ########\n",
    "\n",
    "    true = Y_test_actual_ut\n",
    "    pred = Y_test_predictions_ut\n",
    "    \n",
    "    f1_scores = []\n",
    "\n",
    "    for j in np.arange(0.0, 1.0, 0.01):\n",
    "        f1_scores.append(f1_score(true, [1 if (i > j) else 0 for i in pred]))\n",
    "        \n",
    "    f_1_thresh = [idx for idx, x in list(zip(np.arange(0.0, 1.0, 0.01), f1_scores)) if x == max(f1_scores)][0]\n",
    "        \n",
    "    pred_bin = [1 if (i > f_1_thresh) else 0 for i in pred]\n",
    "\n",
    "    try:\n",
    "        test_results_ndm[run_number]\n",
    "    except: \n",
    "        test_results_ndm[run_number] = {}\n",
    "    \n",
    "    test_results_ndm[run_number]['unseen_targets_auc'] = roc_auc_score(true, pred)\n",
    "    test_results_ndm[run_number]['unseen_targets_aup'] = average_precision_score(true, pred)\n",
    "    test_results_ndm[run_number]['unseen_targets_f1_scores'] = f1_scores\n",
    "    test_results_ndm[run_number]['unseen_targets_max_f1'] = np.max(f1_scores)\n",
    "    test_results_ndm[run_number]['unseen_targets_f1_threshold'] = f_1_thresh\n",
    "    test_results_ndm[run_number]['targets_confusion_matrix'] = confusion_matrix(true, pred_bin)\n",
    "    \n",
    "    ######## Unseen Edges Test ########\n",
    "    \n",
    "    true = Y_test_actual_ue\n",
    "    pred = Y_test_predictions_ue\n",
    "    \n",
    "    f1_scores = []\n",
    "\n",
    "    for j in np.arange(0.0, 1.0, 0.01):\n",
    "        f1_scores.append(f1_score(true, [1 if (i > j) else 0 for i in pred]))\n",
    "        \n",
    "    f_1_thresh = [idx for idx, x in list(zip(np.arange(0.0, 1.0, 0.01), f1_scores)) if x == max(f1_scores)][0]\n",
    "        \n",
    "    pred_bin = [1 if (i > f_1_thresh) else 0 for i in pred]\n",
    "    \n",
    "    test_results_ndm[run_number]['unseen_edges_auc'] = roc_auc_score(true, pred)\n",
    "    test_results_ndm[run_number]['unseen_edges_aup'] = average_precision_score(true, pred)\n",
    "    test_results_ndm[run_number]['unseen_edges_f1_scores'] = f1_scores\n",
    "    test_results_ndm[run_number]['unseen_edges_max_f1'] = np.max(f1_scores)\n",
    "    test_results_ndm[run_number]['unseen_edges_f1_threshold'] = f_1_thresh\n",
    "    test_results_ndm[run_number]['edges_confusion_matrix'] = confusion_matrix(true, pred_bin)\n",
    "    \n",
    "ue_auc = []\n",
    "ue_aup = []\n",
    "ut_auc = []\n",
    "ut_aup = []\n",
    "f1_t_e = []\n",
    "f1_t_t = []\n",
    "f1_t = []\n",
    "f1_e = []\n",
    "\n",
    "for run_number in test_results_ndm.keys():\n",
    "    \n",
    "    ue_auc.append(test_results_ndm[run_number]['unseen_edges_auc'])\n",
    "    ue_aup.append(test_results_ndm[run_number]['unseen_edges_aup'])\n",
    "    ut_auc.append(test_results_ndm[run_number]['unseen_targets_auc'])\n",
    "    ut_aup.append(test_results_ndm[run_number]['unseen_targets_aup'])\n",
    "    f1_t_e.append(test_results_ndm[run_number]['unseen_edges_f1_threshold'])\n",
    "    f1_t_t.append(test_results_ndm[run_number]['unseen_targets_f1_threshold'])    \n",
    "    f1_t.append(test_results_ndm[run_number]['unseen_targets_max_f1'])\n",
    "    f1_e.append(test_results_ndm[run_number]['unseen_edges_max_f1'])\n",
    "    \n",
    "print (\"DeepPurpose Test Set Performance - DS2 Filtered (6 Fold Cross Validated Results) - Non-Drug Only : \")\n",
    "print (\"\")\n",
    "print (\"\\tUnseen Targets : \\n\")\n",
    "print (\"\\t\\tAUC          : \", np.mean(ut_auc), \"+/-\", np.std(ut_auc))\n",
    "print (\"\\t\\tAUP          : \", np.mean(ut_aup), \"+/-\", np.std(ut_aup))\n",
    "print (\"\\t\\tMax F1 Score : \", np.mean(f1_t), \"+/-\", np.std(f1_t))\n",
    "print (\"\\t\\tF1 Threshold : \", np.mean(f1_t_t), \"+/-\", np.std(f1_t_t))\n",
    "print (\"\")\n",
    "print (\"\\tUnseen Edges : \\n\")\n",
    "print (\"\\t\\tAUC          : \", np.mean(ue_auc), \"+/-\", np.std(ue_auc))\n",
    "print (\"\\t\\tAUP          : \", np.mean(ue_aup), \"+/-\", np.std(ue_aup))\n",
    "print (\"\\t\\tMax F1 Score : \", np.mean(f1_e), \"+/-\", np.std(f1_e))\n",
    "print (\"\\t\\tF1 Threshold : \", np.mean(f1_t_e), \"+/-\", np.std(f1_t_e))"
   ]
  },
  {
   "cell_type": "code",
   "execution_count": null,
   "metadata": {},
   "outputs": [],
   "source": []
  }
 ],
 "metadata": {
  "kernelspec": {
   "display_name": "DeepPurpose",
   "language": "python",
   "name": "deeppurpose"
  },
  "language_info": {
   "codemirror_mode": {
    "name": "ipython",
    "version": 3
   },
   "file_extension": ".py",
   "mimetype": "text/x-python",
   "name": "python",
   "nbconvert_exporter": "python",
   "pygments_lexer": "ipython3",
   "version": "3.7.7"
  },
  "toc": {
   "base_numbering": 1,
   "nav_menu": {},
   "number_sections": true,
   "sideBar": true,
   "skip_h1_title": false,
   "title_cell": "Table of Contents",
   "title_sidebar": "Contents",
   "toc_cell": false,
   "toc_position": {},
   "toc_section_display": true,
   "toc_window_display": false
  }
 },
 "nbformat": 4,
 "nbformat_minor": 4
}
