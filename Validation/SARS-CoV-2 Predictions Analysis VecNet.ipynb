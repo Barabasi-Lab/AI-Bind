{
 "cells": [
  {
   "cell_type": "code",
   "execution_count": 107,
   "metadata": {},
   "outputs": [],
   "source": [
    "import pandas as pd\n",
    "from bicm import BipartiteGraph\n",
    "import numpy as np\n",
    "from tqdm import tqdm\n",
    "import seaborn as sns\n",
    "import csv\n",
    "import itertools \n",
    "import matplotlib.pyplot as plt\n",
    "from sklearn.metrics import confusion_matrix, f1_score, classification_report\n",
    "from sklearn.metrics import roc_curve, roc_auc_score, precision_recall_curve, average_precision_score\n",
    "from sklearn.metrics import confusion_matrix, f1_score, classification_report\n",
    "import math\n",
    "import seaborn as sns\n",
    "from matplotlib.pyplot import figure\n",
    "\n",
    "plt.rcParams['font.family'] = 'Times New Roman'"
   ]
  },
  {
   "cell_type": "code",
   "execution_count": 46,
   "metadata": {},
   "outputs": [],
   "source": [
    "sars_unseen_targets = pd.read_csv('/data/sars-busters-consolidated/GitData/sars_preidcitons_unseen_nodes.csv')\n",
    "human_unseen_targets = pd.read_csv('/data/sars-busters-consolidated/GitData/human_preidcitons_unseen_nodes.csv')"
   ]
  },
  {
   "cell_type": "code",
   "execution_count": 47,
   "metadata": {
    "scrolled": true
   },
   "outputs": [],
   "source": [
    "all_pairs = pd.concat([sars_unseen_targets[['InChiKey','target_aa_code','gene','Averaged Predictions']],human_unseen_targets.rename(columns={'hgnc_symbol':'gene'})[['InChiKey','target_aa_code','gene','Averaged Predictions']]])\n",
    "\n",
    "all_pairs['is_viral'] = [1]*len(sars_unseen_targets) + [0]*len(human_unseen_targets)"
   ]
  },
  {
   "cell_type": "code",
   "execution_count": 48,
   "metadata": {
    "scrolled": true
   },
   "outputs": [],
   "source": [
    "all_pairs_sorted = all_pairs.sort_values(by=['Averaged Predictions'], ascending=False)"
   ]
  },
  {
   "cell_type": "code",
   "execution_count": 49,
   "metadata": {
    "scrolled": true
   },
   "outputs": [],
   "source": [
    "all_pairs_sorted.head(100).to_csv('/data/sars-busters-consolidated/GitData/all_genes_top_100_predictions.csv')\n",
    "all_pairs_sorted.tail(100).to_csv('/data/sars-busters-consolidated/GitData/all_genes_bottom_100_predictions.csv')"
   ]
  },
  {
   "cell_type": "code",
   "execution_count": 152,
   "metadata": {},
   "outputs": [
    {
     "data": {
      "text/plain": [
       "68"
      ]
     },
     "execution_count": 152,
     "metadata": {},
     "output_type": "execute_result"
    }
   ],
   "source": [
    "len(set(pd.concat([all_pairs_sorted.head(100),all_pairs_sorted.tail(100)])['InChiKey'].tolist()))"
   ]
  },
  {
   "cell_type": "code",
   "execution_count": 154,
   "metadata": {
    "scrolled": true
   },
   "outputs": [
    {
     "data": {
      "text/plain": [
       "52"
      ]
     },
     "execution_count": 154,
     "metadata": {},
     "output_type": "execute_result"
    }
   ],
   "source": [
    "len(set(pd.concat([all_pairs_sorted.head(100),all_pairs_sorted.tail(100)])['target_aa_code'].tolist()))"
   ]
  },
  {
   "cell_type": "markdown",
   "metadata": {
    "heading_collapsed": true
   },
   "source": [
    "#### Set Analysis\n"
   ]
  },
  {
   "cell_type": "code",
   "execution_count": 53,
   "metadata": {
    "hidden": true
   },
   "outputs": [
    {
     "data": {
      "text/plain": [
       "8111"
      ]
     },
     "execution_count": 53,
     "metadata": {},
     "output_type": "execute_result"
    }
   ],
   "source": [
    "len(set(all_pairs['InChiKey']))"
   ]
  },
  {
   "cell_type": "code",
   "execution_count": 54,
   "metadata": {
    "hidden": true
   },
   "outputs": [],
   "source": [
    "top_24_inchikeys = ['MPMFCABZENCRHV-UHFFFAOYSA-N','PMATZTZNYRCHOR-CGLBZJNRSA-N','DOIQAHITMMDAJ-UHFFFAOYSA-N','XEEQGYMUWCZPDN-UHFFFAOYSA-N','OVCDSSHSILBFBN-UHFFFAOYSA-N','MYEJFUXQJGHEQK-ALRJYLEOSA-N','WDJUZGPOPHTGOT-XUDUSOBPSA-N','LTMHDMANZUZIPE-PUGKRICDSA-N','ACGUYXCXAPNIKK-UHFFFAOYSA-N','DOMWKUIIPQCAJU-LJHIYBGHSA-N','KQXDHUJYNAXLNZ-XQSDOZFQSA-N','LPMXVESGRSUGHW-HBYQJFLCSA-N','YVPXVXANRNDGTA-WDYNHAJCSA-N','LUKZNWIVRBCLON-GXOBDPJESA-N','JYWIYHUXVMAGLG-UHFFFAOYSA-N','JHVAMHSQVVQIOT-MFAJLEFUSA-N','GYQYAJJFPNQOOW-UHFFFAOYSA-N','DFOCUWZXJBAUSQ-URLMMPGGSA-N','WVTKBKWTSCPRNU-KYJUHHDHSA-N','UZWDCWONPYILKI-UHFFFAOYSA-N','PURKAOJPTOLRMP-UHFFFAOYSA-N','UCJGJABZCDBEDK-UHFFFAOYSA-N','RJMUSRYZPJIFPJ-UHFFFAOYSA-N','SVOQIEJWJCQGDQ-UHFFFAOYSA-N']"
   ]
  },
  {
   "cell_type": "code",
   "execution_count": 55,
   "metadata": {
    "hidden": true
   },
   "outputs": [
    {
     "data": {
      "text/plain": [
       "24"
      ]
     },
     "execution_count": 55,
     "metadata": {},
     "output_type": "execute_result"
    }
   ],
   "source": [
    "len(top_24_inchikeys)"
   ]
  },
  {
   "cell_type": "code",
   "execution_count": 56,
   "metadata": {
    "hidden": true
   },
   "outputs": [
    {
     "name": "stdout",
     "output_type": "stream",
     "text": [
      "16\n"
     ]
    }
   ],
   "source": [
    "common_drugs = set(all_pairs['InChiKey'].tolist()).intersection(set(top_24_inchikeys))\n",
    "print(len(common_drugs))"
   ]
  },
  {
   "cell_type": "code",
   "execution_count": 57,
   "metadata": {
    "hidden": true,
    "scrolled": true
   },
   "outputs": [
    {
     "data": {
      "text/plain": [
       "0.10926646527796714"
      ]
     },
     "execution_count": 57,
     "metadata": {},
     "output_type": "execute_result"
    }
   ],
   "source": [
    "np.mean(all_pairs[all_pairs['InChiKey'].isin(common_drugs)]['Averaged Predictions'])"
   ]
  },
  {
   "cell_type": "code",
   "execution_count": 58,
   "metadata": {
    "hidden": true
   },
   "outputs": [
    {
     "data": {
      "text/plain": [
       "0.10128129472270542"
      ]
     },
     "execution_count": 58,
     "metadata": {},
     "output_type": "execute_result"
    }
   ],
   "source": [
    "np.mean(all_pairs['Averaged Predictions'])"
   ]
  },
  {
   "cell_type": "code",
   "execution_count": 125,
   "metadata": {
    "hidden": true,
    "scrolled": false
   },
   "outputs": [
    {
     "data": {
      "image/png": "[encoded data removed]",
      "text/plain": [
       "<Figure size 1600x800 with 1 Axes>"
      ]
     },
     "metadata": {},
     "output_type": "display_data"
    }
   ],
   "source": [
    "figure(figsize=(20, 10), dpi=80)\n",
    "plt.hist(all_pairs[all_pairs['InChiKey'].isin(common_drugs)]['Averaged Predictions'].tolist(),alpha=0.4,density=True,bins=50,label='Ligands with antiviral activity')\n",
    "plt.hist(all_pairs['Averaged Predictions'].tolist(),alpha=0.4,density=True,bins=50,label='All Ligands')\n",
    "plt.axvline(x=0.09,color='k', linestyle='--',alpha=0.5)\n",
    "plt.legend(loc='upper right')\n",
    "plt.xlabel('VecNet Prediction')\n",
    "plt.ylabel('PDF')\n",
    "plt.xticks(fontsize=12)\n",
    "plt.yticks(fontsize=12)\n",
    "plt.show()"
   ]
  },
  {
   "cell_type": "code",
   "execution_count": 126,
   "metadata": {
    "hidden": true
   },
   "outputs": [
    {
     "name": "stdout",
     "output_type": "stream",
     "text": [
      "Sensitivity:  0.46039944903581265\n"
     ]
    }
   ],
   "source": [
    "tp_count = sum(i > 0.09 for i in all_pairs[all_pairs['InChiKey'].isin(common_drugs)]['Averaged Predictions'].tolist()) \n",
    "fn_count = sum(i < 0.09 for i in all_pairs[all_pairs['InChiKey'].isin(common_drugs)]['Averaged Predictions'].tolist()) \n",
    "print('Sensitivity: ', tp_count/(tp_count+fn_count))"
   ]
  },
  {
   "cell_type": "code",
   "execution_count": 33,
   "metadata": {
    "hidden": true
   },
   "outputs": [
    {
     "data": {
      "text/plain": [
       "5035"
      ]
     },
     "execution_count": 33,
     "metadata": {},
     "output_type": "execute_result"
    }
   ],
   "source": [
    "tp_count"
   ]
  },
  {
   "cell_type": "code",
   "execution_count": 19,
   "metadata": {
    "hidden": true
   },
   "outputs": [],
   "source": [
    "common_top_all = all_pairs[all_pairs['InChiKey'].isin(common_drugs)].sort_values(by=['Averaged Predictions'], ascending=False)"
   ]
  },
  {
   "cell_type": "code",
   "execution_count": 20,
   "metadata": {
    "hidden": true,
    "scrolled": true
   },
   "outputs": [
    {
     "data": {
      "text/html": [
       "<div>\n",
       "<style scoped>\n",
       "    .dataframe tbody tr th:only-of-type {\n",
       "        vertical-align: middle;\n",
       "    }\n",
       "\n",
       "    .dataframe tbody tr th {\n",
       "        vertical-align: top;\n",
       "    }\n",
       "\n",
       "    .dataframe thead th {\n",
       "        text-align: right;\n",
       "    }\n",
       "</style>\n",
       "<table border=\"1\" class=\"dataframe\">\n",
       "  <thead>\n",
       "    <tr style=\"text-align: right;\">\n",
       "      <th></th>\n",
       "      <th>InChiKey</th>\n",
       "      <th>target_aa_code</th>\n",
       "      <th>gene</th>\n",
       "      <th>Averaged Predictions</th>\n",
       "      <th>is_viral</th>\n",
       "    </tr>\n",
       "  </thead>\n",
       "  <tbody>\n",
       "    <tr>\n",
       "      <th>2161606</th>\n",
       "      <td>PMATZTZNYRCHOR-CGLBZJNRSA-N</td>\n",
       "      <td>SLSLSLSLSLSLSISISISISICVSISISISISIYLYLYLYLSLSL...</td>\n",
       "      <td>ERC1</td>\n",
       "      <td>0.982018</td>\n",
       "      <td>0</td>\n",
       "    </tr>\n",
       "    <tr>\n",
       "      <th>2161504</th>\n",
       "      <td>PMATZTZNYRCHOR-CGLBZJNRSA-N</td>\n",
       "      <td>QSKTLSLKKKKKKKATFCLYNCQDFGLVCVWVVVVVLSGDTEPRFG...</td>\n",
       "      <td>ZC3H18</td>\n",
       "      <td>0.966269</td>\n",
       "      <td>0</td>\n",
       "    </tr>\n",
       "    <tr>\n",
       "      <th>2314396</th>\n",
       "      <td>WVTKBKWTSCPRNU-KYJUHHDHSA-N</td>\n",
       "      <td>SLSLSLSLSLSLSISISISISICVSISISISISIYLYLYLYLSLSL...</td>\n",
       "      <td>ERC1</td>\n",
       "      <td>0.958631</td>\n",
       "      <td>0</td>\n",
       "    </tr>\n",
       "    <tr>\n",
       "      <th>2161754</th>\n",
       "      <td>PMATZTZNYRCHOR-CGLBZJNRSA-N</td>\n",
       "      <td>KPHGPSRPLSPTMGSLYSEYLNPNKVQEHYNYTKETLETQETTSRQ...</td>\n",
       "      <td>DNMT1</td>\n",
       "      <td>0.957887</td>\n",
       "      <td>0</td>\n",
       "    </tr>\n",
       "    <tr>\n",
       "      <th>2161798</th>\n",
       "      <td>PMATZTZNYRCHOR-CGLBZJNRSA-N</td>\n",
       "      <td>AAARPPRTPGRGPCGGCSCCEKPRPAGLRAFPSLPSSKLLGSLPRD...</td>\n",
       "      <td>MARK2</td>\n",
       "      <td>0.956085</td>\n",
       "      <td>0</td>\n",
       "    </tr>\n",
       "    <tr>\n",
       "      <th>216175</th>\n",
       "      <td>PMATZTZNYRCHOR-CGLBZJNRSA-N</td>\n",
       "      <td>MDQREILQKFLDEAQSKKITKEEFANEFLKLKRQSTKYKADKTYPT...</td>\n",
       "      <td>PTPN22</td>\n",
       "      <td>0.954905</td>\n",
       "      <td>1</td>\n",
       "    </tr>\n",
       "    <tr>\n",
       "      <th>2161742</th>\n",
       "      <td>PMATZTZNYRCHOR-CGLBZJNRSA-N</td>\n",
       "      <td>TRVLCPTPWEVCWLSTSLRVSPLLSSSGEVVIIVFVVFIILLPPHS...</td>\n",
       "      <td>RAE1</td>\n",
       "      <td>0.952329</td>\n",
       "      <td>0</td>\n",
       "    </tr>\n",
       "    <tr>\n",
       "      <th>2161817</th>\n",
       "      <td>PMATZTZNYRCHOR-CGLBZJNRSA-N</td>\n",
       "      <td>PFLCQVSRFLHTYSAATQDLQAKELHQLQNLFSKASADYQWLLQSP...</td>\n",
       "      <td>PIGO</td>\n",
       "      <td>0.951923</td>\n",
       "      <td>0</td>\n",
       "    </tr>\n",
       "    <tr>\n",
       "      <th>2247076</th>\n",
       "      <td>UZWDCWONPYILKI-UHFFFAOYSA-N</td>\n",
       "      <td>SLSLSLSLSLSLSISISISISICVSISISISISIYLYLYLYLSLSL...</td>\n",
       "      <td>ERC1</td>\n",
       "      <td>0.951006</td>\n",
       "      <td>0</td>\n",
       "    </tr>\n",
       "    <tr>\n",
       "      <th>2161708</th>\n",
       "      <td>PMATZTZNYRCHOR-CGLBZJNRSA-N</td>\n",
       "      <td>NNLIALKILCALPVYPLISPNPWQPLIFYCLQSFAFSRMLYGWNHT...</td>\n",
       "      <td>FBN1</td>\n",
       "      <td>0.950871</td>\n",
       "      <td>0</td>\n",
       "    </tr>\n",
       "    <tr>\n",
       "      <th>216157</th>\n",
       "      <td>PMATZTZNYRCHOR-CGLBZJNRSA-N</td>\n",
       "      <td>MNFNTILEEILIKRSQQKKKTSPLNYKERLFVLTKSMLTYYEGRAE...</td>\n",
       "      <td>TEC</td>\n",
       "      <td>0.949536</td>\n",
       "      <td>1</td>\n",
       "    </tr>\n",
       "    <tr>\n",
       "      <th>2161818</th>\n",
       "      <td>PMATZTZNYRCHOR-CGLBZJNRSA-N</td>\n",
       "      <td>KLNVQKSQVYLYTNDRQMESQIMSKHPFIIATKRIKYLGIQLTRDM...</td>\n",
       "      <td>FAR2</td>\n",
       "      <td>0.949512</td>\n",
       "      <td>0</td>\n",
       "    </tr>\n",
       "    <tr>\n",
       "      <th>216163</th>\n",
       "      <td>PMATZTZNYRCHOR-CGLBZJNRSA-N</td>\n",
       "      <td>MPYFTRLILFLFCLMVLVESRKPKRKRWTGQVEMPKPSHLYKKNLD...</td>\n",
       "      <td>GABRR2</td>\n",
       "      <td>0.949512</td>\n",
       "      <td>1</td>\n",
       "    </tr>\n",
       "    <tr>\n",
       "      <th>216165</th>\n",
       "      <td>PMATZTZNYRCHOR-CGLBZJNRSA-N</td>\n",
       "      <td>MQKIMHISVLLSPVLWGLIFGVSSNSIQIGGLFPRGADQEYSAFRV...</td>\n",
       "      <td>GRIA2</td>\n",
       "      <td>0.947089</td>\n",
       "      <td>1</td>\n",
       "    </tr>\n",
       "    <tr>\n",
       "      <th>2161534</th>\n",
       "      <td>PMATZTZNYRCHOR-CGLBZJNRSA-N</td>\n",
       "      <td>SKSCFLSPTCSRTTATFHASHLSSIFPLLLSPSMLPHTSILIPSLD...</td>\n",
       "      <td>AAR2</td>\n",
       "      <td>0.946713</td>\n",
       "      <td>0</td>\n",
       "    </tr>\n",
       "    <tr>\n",
       "      <th>2161642</th>\n",
       "      <td>PMATZTZNYRCHOR-CGLBZJNRSA-N</td>\n",
       "      <td>SLLLGRLRQENGVNPGGRACSESRWRHCTPAWASERDSTQKKKKKC...</td>\n",
       "      <td>DNAJC11</td>\n",
       "      <td>0.945030</td>\n",
       "      <td>0</td>\n",
       "    </tr>\n",
       "  </tbody>\n",
       "</table>\n",
       "</div>"
      ],
      "text/plain": [
       "                            InChiKey  \\\n",
       "2161606  PMATZTZNYRCHOR-CGLBZJNRSA-N   \n",
       "2161504  PMATZTZNYRCHOR-CGLBZJNRSA-N   \n",
       "2314396  WVTKBKWTSCPRNU-KYJUHHDHSA-N   \n",
       "2161754  PMATZTZNYRCHOR-CGLBZJNRSA-N   \n",
       "2161798  PMATZTZNYRCHOR-CGLBZJNRSA-N   \n",
       "216175   PMATZTZNYRCHOR-CGLBZJNRSA-N   \n",
       "2161742  PMATZTZNYRCHOR-CGLBZJNRSA-N   \n",
       "2161817  PMATZTZNYRCHOR-CGLBZJNRSA-N   \n",
       "2247076  UZWDCWONPYILKI-UHFFFAOYSA-N   \n",
       "2161708  PMATZTZNYRCHOR-CGLBZJNRSA-N   \n",
       "216157   PMATZTZNYRCHOR-CGLBZJNRSA-N   \n",
       "2161818  PMATZTZNYRCHOR-CGLBZJNRSA-N   \n",
       "216163   PMATZTZNYRCHOR-CGLBZJNRSA-N   \n",
       "216165   PMATZTZNYRCHOR-CGLBZJNRSA-N   \n",
       "2161534  PMATZTZNYRCHOR-CGLBZJNRSA-N   \n",
       "2161642  PMATZTZNYRCHOR-CGLBZJNRSA-N   \n",
       "\n",
       "                                            target_aa_code     gene  \\\n",
       "2161606  SLSLSLSLSLSLSISISISISICVSISISISISIYLYLYLYLSLSL...     ERC1   \n",
       "2161504  QSKTLSLKKKKKKKATFCLYNCQDFGLVCVWVVVVVLSGDTEPRFG...   ZC3H18   \n",
       "2314396  SLSLSLSLSLSLSISISISISICVSISISISISIYLYLYLYLSLSL...     ERC1   \n",
       "2161754  KPHGPSRPLSPTMGSLYSEYLNPNKVQEHYNYTKETLETQETTSRQ...    DNMT1   \n",
       "2161798  AAARPPRTPGRGPCGGCSCCEKPRPAGLRAFPSLPSSKLLGSLPRD...    MARK2   \n",
       "216175   MDQREILQKFLDEAQSKKITKEEFANEFLKLKRQSTKYKADKTYPT...   PTPN22   \n",
       "2161742  TRVLCPTPWEVCWLSTSLRVSPLLSSSGEVVIIVFVVFIILLPPHS...     RAE1   \n",
       "2161817  PFLCQVSRFLHTYSAATQDLQAKELHQLQNLFSKASADYQWLLQSP...     PIGO   \n",
       "2247076  SLSLSLSLSLSLSISISISISICVSISISISISIYLYLYLYLSLSL...     ERC1   \n",
       "2161708  NNLIALKILCALPVYPLISPNPWQPLIFYCLQSFAFSRMLYGWNHT...     FBN1   \n",
       "216157   MNFNTILEEILIKRSQQKKKTSPLNYKERLFVLTKSMLTYYEGRAE...      TEC   \n",
       "2161818  KLNVQKSQVYLYTNDRQMESQIMSKHPFIIATKRIKYLGIQLTRDM...     FAR2   \n",
       "216163   MPYFTRLILFLFCLMVLVESRKPKRKRWTGQVEMPKPSHLYKKNLD...   GABRR2   \n",
       "216165   MQKIMHISVLLSPVLWGLIFGVSSNSIQIGGLFPRGADQEYSAFRV...    GRIA2   \n",
       "2161534  SKSCFLSPTCSRTTATFHASHLSSIFPLLLSPSMLPHTSILIPSLD...     AAR2   \n",
       "2161642  SLLLGRLRQENGVNPGGRACSESRWRHCTPAWASERDSTQKKKKKC...  DNAJC11   \n",
       "\n",
       "         Averaged Predictions  is_viral  \n",
       "2161606              0.982018         0  \n",
       "2161504              0.966269         0  \n",
       "2314396              0.958631         0  \n",
       "2161754              0.957887         0  \n",
       "2161798              0.956085         0  \n",
       "216175               0.954905         1  \n",
       "2161742              0.952329         0  \n",
       "2161817              0.951923         0  \n",
       "2247076              0.951006         0  \n",
       "2161708              0.950871         0  \n",
       "216157               0.949536         1  \n",
       "2161818              0.949512         0  \n",
       "216163               0.949512         1  \n",
       "216165               0.947089         1  \n",
       "2161534              0.946713         0  \n",
       "2161642              0.945030         0  "
      ]
     },
     "execution_count": 20,
     "metadata": {},
     "output_type": "execute_result"
    }
   ],
   "source": [
    "common_top_all.head(16)"
   ]
  },
  {
   "cell_type": "code",
   "execution_count": 21,
   "metadata": {
    "hidden": true
   },
   "outputs": [
    {
     "data": {
      "text/plain": [
       "(array([ 307.,  859., 1045.,  947.,  773.,  537.,  397.,  346.,  392.,\n",
       "         205.]),\n",
       " array([0.03019434, 0.1253767 , 0.22055907, 0.31574143, 0.4109238 ,\n",
       "        0.50610617, 0.60128853, 0.6964709 , 0.79165326, 0.88683563,\n",
       "        0.98201799]),\n",
       " <a list of 10 Patch objects>)"
      ]
     },
     "execution_count": 21,
     "metadata": {},
     "output_type": "execute_result"
    },
    {
     "data": {
      "image/png": "[encoded data removed]",
      "text/plain": [
       "<Figure size 432x288 with 1 Axes>"
      ]
     },
     "metadata": {
      "needs_background": "light"
     },
     "output_type": "display_data"
    }
   ],
   "source": [
    "plt.hist(common_top_all['Averaged Predictions'].tolist())"
   ]
  },
  {
   "cell_type": "code",
   "execution_count": 22,
   "metadata": {
    "hidden": true,
    "scrolled": true
   },
   "outputs": [],
   "source": [
    "sars_unseen_targets_averaged = sars_unseen_targets[['InChiKey','Averaged Predictions']]\n",
    "sars_unseen_targets_averaged = sars_unseen_targets_averaged.groupby('InChiKey').mean().reset_index()\n",
    "sars_unseen_targets_averaged_descending = sars_unseen_targets_averaged.sort_values(by=['Averaged Predictions'], ascending=False)"
   ]
  },
  {
   "cell_type": "code",
   "execution_count": 23,
   "metadata": {
    "hidden": true,
    "scrolled": true
   },
   "outputs": [
    {
     "data": {
      "text/plain": [
       "{'DOMWKUIIPQCAJU-LJHIYBGHSA-N',\n",
       " 'GYQYAJJFPNQOOW-UHFFFAOYSA-N',\n",
       " 'JHVAMHSQVVQIOT-MFAJLEFUSA-N',\n",
       " 'PMATZTZNYRCHOR-CGLBZJNRSA-N',\n",
       " 'UZWDCWONPYILKI-UHFFFAOYSA-N',\n",
       " 'WDJUZGPOPHTGOT-XUDUSOBPSA-N',\n",
       " 'WVTKBKWTSCPRNU-KYJUHHDHSA-N'}"
      ]
     },
     "execution_count": 23,
     "metadata": {},
     "output_type": "execute_result"
    }
   ],
   "source": [
    "set(sars_unseen_targets_averaged_descending.head(811)['InChiKey']).intersection(set(common_drugs)) ## top 10%"
   ]
  },
  {
   "cell_type": "code",
   "execution_count": 24,
   "metadata": {
    "hidden": true,
    "scrolled": false
   },
   "outputs": [
    {
     "data": {
      "text/plain": [
       "{'ACGUYXCXAPNIKK-UHFFFAOYSA-N',\n",
       " 'DOMWKUIIPQCAJU-LJHIYBGHSA-N',\n",
       " 'GYQYAJJFPNQOOW-UHFFFAOYSA-N',\n",
       " 'JHVAMHSQVVQIOT-MFAJLEFUSA-N',\n",
       " 'LPMXVESGRSUGHW-HBYQJFLCSA-N',\n",
       " 'LTMHDMANZUZIPE-PUGKRICDSA-N',\n",
       " 'LUKZNWIVRBCLON-GXOBDPJESA-N',\n",
       " 'OVCDSSHSILBFBN-UHFFFAOYSA-N',\n",
       " 'PMATZTZNYRCHOR-CGLBZJNRSA-N',\n",
       " 'PURKAOJPTOLRMP-UHFFFAOYSA-N',\n",
       " 'RJMUSRYZPJIFPJ-UHFFFAOYSA-N',\n",
       " 'UCJGJABZCDBEDK-UHFFFAOYSA-N',\n",
       " 'UZWDCWONPYILKI-UHFFFAOYSA-N',\n",
       " 'WDJUZGPOPHTGOT-XUDUSOBPSA-N',\n",
       " 'WVTKBKWTSCPRNU-KYJUHHDHSA-N',\n",
       " 'XEEQGYMUWCZPDN-UHFFFAOYSA-N'}"
      ]
     },
     "execution_count": 24,
     "metadata": {},
     "output_type": "execute_result"
    }
   ],
   "source": [
    "common_drugs"
   ]
  },
  {
   "cell_type": "code",
   "execution_count": 25,
   "metadata": {
    "hidden": true,
    "scrolled": true
   },
   "outputs": [
    {
     "data": {
      "text/plain": [
       "{'AAKJLRGGTJKAMG-UHFFFAOYSA-N',\n",
       " 'AAXYAFFKOSNMEB-MHARETSRSA-N',\n",
       " 'ACFIXJIJDZMPPO-NNYOXOHSSA-N',\n",
       " 'ACRHBAYQBXXRTO-OAQYLSRUSA-N',\n",
       " 'ACTIUHUUMQJHFO-UPTCCGCDSA-N',\n",
       " 'ADXGNEYLLLSOAR-UHFFFAOYSA-N',\n",
       " 'AEQDJSLRWYMAQI-KRWDZBQOSA-N',\n",
       " 'AFJYYKSVHJGXSN-XHKIUTQPSA-N',\n",
       " 'AGOYDEPGAOXOCK-KCBOHYOISA-N',\n",
       " 'AHCPKWJUALHOPH-UHFFFAOYSA-N',\n",
       " 'AHJRHEGDXFFMBM-UHFFFAOYSA-N',\n",
       " 'AHJUHHDDCJQACA-UHFFFAOYSA-N',\n",
       " 'AILRADAXUVEEIR-UHFFFAOYSA-N',\n",
       " 'AINVOEOJEKKMKB-UHFFFAOYSA-N',\n",
       " 'AJODXHGZHBERGJ-JLYQOUBASA-N',\n",
       " 'AKNNEGZIBPJZJG-MSOLQXFVSA-N',\n",
       " 'ALKJNCZNEOTEMP-UHFFFAOYSA-N',\n",
       " 'AMEROGPZOLAFBN-UHFFFAOYSA-N',\n",
       " 'AMFGILNPFBVREA-UHFFFAOYSA-N',\n",
       " 'AMYWSBYLSVHSHG-UHFFFAOYSA-N',\n",
       " 'ANEBWFXPVPTEET-UHFFFAOYSA-N',\n",
       " 'AOBORMOPSGHCAX-UHFFFAOYSA-N',\n",
       " 'AOIWFGJNGXKHGL-UHFFFAOYSA-N',\n",
       " 'AOMMPEGZDRAGRC-UHFFFAOYSA-N',\n",
       " 'APSPCHLQXFEUHG-CPBVNLROSA-N',\n",
       " 'ARRGHMSEJJFDME-IOSLPCCCSA-N',\n",
       " 'ATALOFNDEOCMKK-OITMNORJSA-N',\n",
       " 'ATALOFNDEOCMKK-SGRNSYJFNA-N',\n",
       " 'ATEBXHFBFRCZMA-VXTBVIBXSA-N',\n",
       " 'ATFDKOLABYIYCC-INIZCTEOSA-N',\n",
       " 'ATFDKOLABYIYCC-XISACWJONA-N',\n",
       " 'ATNHDLDRLWWWCB-AENOIHSZSA-M',\n",
       " 'AVDSOVJPJZVBTC-CTYIDZIISA-N',\n",
       " 'AWKLBIOQCIORSB-UHFFFAOYSA-N',\n",
       " 'AXOIZCJOOAYSMI-UHFFFAOYSA-N',\n",
       " 'AXQACEQYCPKDMV-RZAWKFBISA-N',\n",
       " 'AXRCEOKUDYDWLF-UHFFFAOYSA-N',\n",
       " 'BABFYCSPNDKXRI-UHFFFAOYSA-N',\n",
       " 'BACSZMCLZIDTIO-IBGZPJMESA-N',\n",
       " 'BACSZMCLZIDTIO-TWYLJJHKNA-N',\n",
       " 'BARDROPHSZEBKC-OITMNORJSA-N',\n",
       " 'BBDVCGJBELWXIQ-GMHMEAMDSA-N',\n",
       " 'BBRISSLDTUHWKG-PVMHLSDZSA-N',\n",
       " 'BCFGMOOMADDAQU-UHFFFAOYSA-N',\n",
       " 'BDBMLMBYCXNVMC-UHFFFAOYSA-O',\n",
       " 'BEDMDXBTNSVNGS-NIAPTITASA-N',\n",
       " 'BELMMAAWNYFCGF-PZXAHSFZSA-N',\n",
       " 'BFSMGDJOXZAERB-UHFFFAOYSA-N',\n",
       " 'BFZKMNSQCNVFGM-UCEYFQQTSA-N',\n",
       " 'BGSZAXLLHYERSY-XQIGCQGXSA-N',\n",
       " 'BHECXGHXWKHZOY-DXPOFMJKSA-N',\n",
       " 'BICRTLVBTLFLRD-PTWUADNWSA-N',\n",
       " 'BIFHJPUTQBOBGJ-UHFFFAOYSA-N',\n",
       " 'BKKVXUGDBLTOLY-YPFLCKFZSA-N',\n",
       " 'BKWJAKQVGHWELA-UHFFFAOYSA-N',\n",
       " 'BLSQLHNBWJLIBQ-OZXSUGGESA-N',\n",
       " 'BMGQWWVMWDBQGC-IIFHNQTCSA-N',\n",
       " 'BMQGVNUXMIRLCK-OAGWZNDDSA-N',\n",
       " 'BNRMWKUVWLKDQJ-YJBOKZPZSA-N',\n",
       " 'BNRNXUUZRGQAQC-UHFFFAOYSA-N',\n",
       " 'BPHYTQORKHDHAH-OHNHNXIVSA-N',\n",
       " 'BPKIMPVREBSLAJ-QTBYCLKRSA-N',\n",
       " 'BPYKTIZUTYGOLE-IFADSCNNSA-N',\n",
       " 'BQTXJHAJMDGOFI-NJLPOHDGSA-N',\n",
       " 'BTXNYTINYBABQR-UHFFFAOYSA-N',\n",
       " 'BUFLLCUFNHESEH-UUOKFMHZSA-N',\n",
       " 'BUROJSBIWGDYCN-GAUTUEMISA-N',\n",
       " 'BUYPFLNIJYEQJK-RGGAHWMASA-N',\n",
       " 'BVAZQCUMNICBAQ-PZHYSIFUSA-N',\n",
       " 'CABVTRNMFUVUDM-VRHQGPGLSA-I',\n",
       " 'CADNYOZXMIKYPR-UHFFFAOYSA-B',\n",
       " 'CAHCBJPUTCKATP-HBDRVVKHSA-N',\n",
       " 'CAHGCLMLTWQZNJ-BQNIITSRSA-N',\n",
       " 'CAUFYHKGKDJMQG-HZPDHXFCSA-N',\n",
       " 'CAUFYHKGKDJMQG-MNSHXRSINA-N',\n",
       " 'CAWZRIXWFRFUQB-IOSLPCCCSA-N',\n",
       " 'CBPNZQVSJQDFBE-FUXHJELOSA-N',\n",
       " 'CDONPRYEWWPREK-UHFFFAOYSA-N',\n",
       " 'CEUORZQYGODEFX-UHFFFAOYSA-N',\n",
       " 'CGDZXLJGHVKVIE-DNVCBOLYSA-N',\n",
       " 'CGVWPQOFHSAKRR-NDEPHWFRSA-N',\n",
       " 'CHBITXAMNKHJCR-JNUHSSLSSA-N',\n",
       " 'CHHXEZSCHQVSRE-UHFFFAOYSA-N',\n",
       " 'CJSSYVIHFXDFFC-UHFFFAOYSA-N',\n",
       " 'CJVUSTVYODMZMZ-VSTXFNHGSA-N',\n",
       " 'CKBBGCJYKCLKHE-UHFFFAOYSA-N',\n",
       " 'CKLCIJCZOIDJQU-UHFFFAOYSA-N',\n",
       " 'CKSDYJASHNGOOS-KTXOUVACSA-N',\n",
       " 'CLKOFPXJLQSYAH-ABRJDSQDSA-N',\n",
       " 'CMJCXYNUCSMDBY-ZDUSSCGKSA-N',\n",
       " 'CMLUGNQVANVZHY-POURPWNDSA-N',\n",
       " 'CMSGWTNRGKRWGS-NQIIRXRSSA-N',\n",
       " 'CNPVJJQCETWNEU-CYFREDJKSA-N',\n",
       " 'CPTLFMDLEWCNMJ-KPKSGTNCSA-N',\n",
       " 'CTVHSHALRXJQNK-ZHZUXMKXSA-M',\n",
       " 'CUDPPTPIUWYGFI-UHFFFAOYSA-N',\n",
       " 'CUIHSIWYWATEQL-UHFFFAOYSA-N',\n",
       " 'CVBMAZKKCSYWQR-WCGOZPBSSA-N',\n",
       " 'CVWXJKQAOSCOAB-UHFFFAOYSA-N',\n",
       " 'CXFKOLCMCRBYPL-UHFFFAOYSA-L',\n",
       " 'CXQHYVUVSFXTMY-UHFFFAOYSA-N',\n",
       " 'DAHMXVAETAAQOZ-UHFFFAOYSA-N',\n",
       " 'DAPAQENNNINUPW-IDAMAFBJSA-N',\n",
       " 'DBPPRLRVDVJOCL-FQRUVTKNSA-N',\n",
       " 'DCSUBABJRXZOMT-IRLDBZIGSA-N',\n",
       " 'DDHUTBKXLWCZCO-UHFFFAOYSA-N',\n",
       " 'DDINXHAORAAYAD-UHFFFAOYSA-N',\n",
       " 'DDOOFTLHJSMHLN-ZQHRPCGSSA-N',\n",
       " 'DDUHZTYCFQRHIY-RBHXEPJQSA-N',\n",
       " 'DEQITUUQPICUMR-HJPBWRTMSA-N',\n",
       " 'DFELGYQKEOCHOA-BZAFBGKRSA-N',\n",
       " 'DFQGDHBGRSTTHX-UHFFFAOYSA-N',\n",
       " 'DFYPFJSPLUVPFJ-QJEDTDQSSA-N',\n",
       " 'DIGFQJFCDPKEPF-OIUSMDOTSA-L',\n",
       " 'DIOFXPZEAVIPDB-GSMFZUCRSA-N',\n",
       " 'DMQYDVBIPXAAJA-VHXPQNKSSA-N',\n",
       " 'DNHPDWGIXIMXSA-CXNSMIOJSA-N',\n",
       " 'DOMWKUIIPQCAJU-LJHIYBGHSA-N',\n",
       " 'DSDNAKHZNJAGHN-MXTYGGKSSA-N',\n",
       " 'DSJXIQQMORJERS-AGGZHOMASA-M',\n",
       " 'DTMGIJFHGGCSLO-FIAQIACWSA-N',\n",
       " 'DUAFKXOFBZQTQE-QSGBVPJFSA-N',\n",
       " 'DUPWHXBITIZIKZ-UHFFFAOYSA-N',\n",
       " 'DUYJMQONPNNFPI-UHFFFAOYSA-N',\n",
       " 'DYLGFOYVTXJFJP-MYYYXRDXSA-N',\n",
       " 'DYLUUSLLRIQKOE-UHFFFAOYSA-N',\n",
       " 'DZLFLBLQUQXARW-UHFFFAOYSA-N',\n",
       " 'DZOJBGLFWINFBF-UMSFTDKQSA-N',\n",
       " 'DZOJBGLFWINFBF-YRVSHGBWNA-N',\n",
       " 'FBVFZWUMDDXLLG-HDICACEKSA-N',\n",
       " 'FBWNMEQMRUMQSO-UHFFFAOYSA-N',\n",
       " 'FCFNRCROJUBPLU-DNDCDFAISA-N',\n",
       " 'FDMQDKQUTRLUBU-UHFFFAOYSA-N',\n",
       " 'FDZQGEIYGFPMOB-ZUURFMEUSA-N',\n",
       " 'FEBLZLNTKCEFIT-VSXGLTOVSA-N',\n",
       " 'FEPMHVLSLDOMQC-IYPFLVAKSA-N',\n",
       " 'FGZIONRFHVNRJB-UHFFFAOYSA-N',\n",
       " 'FHCUMDQMBHQXKK-CDIODLITSA-N',\n",
       " 'FHHZHGZBHYYWTG-INFSMZHSSA-O',\n",
       " 'FHVPNAZTTVYYAS-USYALTDMSA-M',\n",
       " 'FIAFUQMPZJWCLV-UHFFFAOYSA-N',\n",
       " 'FIVSJYGQAIEMOC-ZGNKEGEESA-N',\n",
       " 'FJAQNRBDVKIIKK-LFLQOBSNSA-N',\n",
       " 'FJNFXXGWYVMQNA-UHFFFAOYSA-N',\n",
       " 'FKAWLXNLHHIHLA-YCBIHMBMSA-N',\n",
       " 'FKRSSPOQAMALKA-CUPIEXAXSA-N',\n",
       " 'FLXGQDHYCWXTAI-UHFFFAOYSA-N',\n",
       " 'FMKQJGOROFNCGM-UHFFFAOYSA-N',\n",
       " 'FNAJVVMDXCOSFY-VFGOXHQXSA-N',\n",
       " 'FOHHNHSLJDZUGQ-UHFFFAOYSA-N',\n",
       " 'FPNPSEMJLALQSA-MIYUEGBISA-N',\n",
       " 'FPZLLRFZJZRHSY-HJYUBDRYSA-N',\n",
       " 'FQPFAHBPWDRTLU-UHFFFAOYSA-N',\n",
       " 'FRCBXOTYSDSELT-DUULCSDKSA-N',\n",
       " 'FUTVBRXUIKZACV-RGGAHWMASA-L',\n",
       " 'FVTCRASFADXXNN-SCRDCRAPSA-N',\n",
       " 'FVXDQWZBHIXIEJ-LNDKUQBDSA-N',\n",
       " 'FWFVLWGEFDIZMJ-FOMYWIRZSA-N',\n",
       " 'FWYSMLBETOMXAG-QHCPKHFHSA-N',\n",
       " 'FYPMFJGVHOHGLL-UHFFFAOYSA-N',\n",
       " 'FZQUTWRNQJPTSH-SXQYHYLKSA-N',\n",
       " 'GBABOYUKABKIAF-IELIFDKJSA-N',\n",
       " 'GBBSUAFBMRNDJC-INIZCTEOSA-N',\n",
       " 'GBBSUAFBMRNDJC-UHFFFAOYSA-N',\n",
       " 'GBBWIZKLHXYJOA-KQYNXXCUSA-N',\n",
       " 'GBLRQXKSCRCLBZ-UHFFFAOYSA-N',\n",
       " 'GBXSOZDYCSBLQX-UHFFFAOYSA-N',\n",
       " 'GCFBRXLSHGKWDP-XCGNWRKASA-N',\n",
       " 'GCJSOJRPNOWSEH-UHFFFAOYSA-N',\n",
       " 'GFBKORZTTCHDGY-UWVJOHFNSA-N',\n",
       " 'GHOSNRCGJFBJIB-UHFFFAOYSA-N',\n",
       " 'GIRIHYQVGVTBIP-NJYUBDSESA-N',\n",
       " 'GJJULHJRORAZCG-QMDLAEJKSA-M',\n",
       " 'GJMNAFGEUJBOCE-MEQIQULJSA-N',\n",
       " 'GJPICJJJRGTNOD-UHFFFAOYSA-N',\n",
       " 'GKDRMWXFWHEQQT-UHFFFAOYSA-N',\n",
       " 'GNLAGGCSJGJECE-INIZCTEOSA-N',\n",
       " 'GNLAGGCSJGJECE-MRXNPFEDSA-N',\n",
       " 'GPFAJKDEDBRFOS-FKQDBXSBSA-N',\n",
       " 'GPKJTRJOBQGKQK-UHFFFAOYNA-N',\n",
       " 'GPKJTRJOBQGKQK-UHFFFAOYSA-N',\n",
       " 'GQLCLPLEEOUJQC-ZTQDTCGGSA-N',\n",
       " 'GSNHKUDZZFZSJB-QYOOZWMWSA-N',\n",
       " 'GTWJVFFZCKODEV-UHFFFAOYSA-N',\n",
       " 'GVEAYVLWDAFXET-XGHATYIMSA-N',\n",
       " 'GVJHHUAWPYXKBD-IEOSBIPESA-N',\n",
       " 'GWNOTCOIYUNTQP-FQLXRVMXSA-N',\n",
       " 'GXPHKUHSUJUWKP-NTKDMRAZSA-N',\n",
       " 'GXPHKUHSUJUWKP-UHFFFAOYNA-N',\n",
       " 'GXPHKUHSUJUWKP-UHFFFAOYSA-N',\n",
       " 'GYQYAJJFPNQOOW-UHFFFAOYSA-N',\n",
       " 'GZKLJWGUPQBVJQ-UHFFFAOYSA-N',\n",
       " 'HAAZLUGHYHWQIW-KVQBGUIXSA-N',\n",
       " 'HAYHPPJCHDYQQZ-UHFFFAOYSA-N',\n",
       " 'HAYYBYPASCDWEQ-UHFFFAOYSA-N',\n",
       " 'HBJYDUADMKVTGP-RCUQKECRSA-N',\n",
       " 'HBNPJJILLOYFJU-IMDSDXEONA-N',\n",
       " 'HBNPJJILLOYFJU-VMPREFPWSA-N',\n",
       " 'HBZDUNQUBNOQIC-UHFFFAOYSA-N',\n",
       " 'HEAUOKZIVMZVQL-VWLOTQADSA-N',\n",
       " 'HEZQTKMLVXPHPR-TWYLJJHKNA-N',\n",
       " 'HFGSQOYIOKBQOW-ZSDYHTTISA-N',\n",
       " 'HGVDHZBSSITLCT-JLJPHGGASA-N',\n",
       " 'HGVDHZBSSITLCT-LFZGCNGKNA-N',\n",
       " 'HHJUWIANJFBDHT-KOTLKJBCSA-N',\n",
       " 'HHZIURLSWUIHRB-UHFFFAOYSA-N',\n",
       " 'HIVSMYZAMUNFKZ-PDQACDDGSA-N',\n",
       " 'HJBWBFZLDZWPHF-UHFFFAOYSA-N',\n",
       " 'HJGDVDUGXUSOGA-ADTMLPBESA-N',\n",
       " 'HJJDBAOLQAWBMH-YCRCPZNHSA-N',\n",
       " 'HJSSPYJVWLTYHG-UHFFFAOYSA-N',\n",
       " 'HJYYPODYNSCCOU-ODRIEIDWSA-N',\n",
       " 'HKDLNTKNLJPAIY-WKWWZUSTSA-N',\n",
       " 'HKSZLNNOFSGOKW-FYTWVXJKSA-N',\n",
       " 'HKSZLNNOFSGOKW-OSGDSYQENA-N',\n",
       " 'HKVAMNSJSFKALM-GKUWKFKPSA-N',\n",
       " 'HLFSMUUOKPBTSM-ISIOAQNYSA-N',\n",
       " 'HMEYVGGHISAPJR-IAHYZSEUSA-N',\n",
       " 'HMKLUOPMOJOUDZ-UHFFFAOYSA-N',\n",
       " 'HOCBJBNQIQQQGT-LJQANCHMSA-N',\n",
       " 'HOCBJBNQIQQQGT-TWYLJJHKNA-N',\n",
       " 'HPMZBILYSWLILX-UMDUKNJSSA-N',\n",
       " 'HPODOLXTMDHLLC-QGZVFWFLSA-N',\n",
       " 'HQPVGVSQPQVZLD-UHFFFAOYSA-N',\n",
       " 'HQTVCYHBYUXJDJ-ISUJOEFPSA-N',\n",
       " 'HSAVTCVIBRBWGG-VKZMHLLXSA-K',\n",
       " 'HTIKWNNIPGXLGM-YLINKJIISA-N',\n",
       " 'HVFLCNVBZFFHBT-ZKDACBOMSA-N',\n",
       " 'HVXKQKFEHMGHSL-QKDCVEJESA-N',\n",
       " 'HWMGJMKHOJKGLQ-IBOSZNHHSA-N',\n",
       " 'HYBRYAPKQCZIAE-UHFFFAOYSA-N',\n",
       " 'HYFHYPWGAURHIV-JFIAXGOJSA-N',\n",
       " 'HZIYEEMJNBKMJH-UHFFFAOYSA-N',\n",
       " 'IAKHMKGGTNLKSZ-UHFFFAOYSA-N',\n",
       " 'IDBPHNDTYPBSNI-UHFFFAOYSA-N',\n",
       " 'IELOKBJPULMYRW-NJQVLOCASA-N',\n",
       " 'IENZQIKPVFGBNW-UHFFFAOYSA-N',\n",
       " 'IEXUMDBQLIVNHZ-YOUGDJEHSA-N',\n",
       " 'IFKWHPAWYJARQJ-DYVFJYSZSA-N',\n",
       " 'IFSDAJWBUCMOAH-HNNXBMFYSA-N',\n",
       " 'IGSCYCAKHRXAKK-KBBCMHLPSA-N',\n",
       " 'IHOVFYSQUDPMCN-DBEBIPAYSA-N',\n",
       " 'IIXWYSCJSQVBQM-LLVKDONJSA-N',\n",
       " 'IKBSEBRGSVFUHM-UHFFFAOYSA-N',\n",
       " 'ILKJAFIWWBXGDU-MOGDOJJUSA-N',\n",
       " 'ILSPFIPSQSFPCN-VYBUCKLUSA-N',\n",
       " 'ILVYCEVXHALBSC-OTBYEXOQSA-N',\n",
       " 'ILWZMFJBPIYQKW-IBOSZNHHSA-N',\n",
       " 'IOYZYMQFUSNATM-UHFFFAOYSA-N',\n",
       " 'IQVRBWUUXZMOPW-PKNBQFBNSA-N',\n",
       " 'IQXUAKMLDBLFJK-UHFFFAOYSA-N',\n",
       " 'ISUOMOOYAOQQPZ-UHFFFAOYSA-O',\n",
       " 'ITIXDWVDFFXNEG-JHOUSYSJSA-N',\n",
       " 'IUCCYQIEZNQWRS-DWWHXVEHSA-N',\n",
       " 'IVPCTHKPOPQMSX-UHFFFAOYSA-N',\n",
       " 'IWBJJCOKGLUQIZ-HQKKAZOISA-N',\n",
       " 'IXXFZUPTQVDPPK-ZAWHAJPISA-N',\n",
       " 'IYFNEFQTYQPVOC-UHFFFAOYSA-N',\n",
       " 'IZBNNCFOBMGTQX-UHFFFAOYSA-N',\n",
       " 'IZEKFCXSFNUWAM-UHFFFAOYSA-N',\n",
       " 'IZLRMTJLQCLMKF-CYBMUJFWSA-N',\n",
       " 'JCECKEHNPXVLGS-SJHVGCKASA-N',\n",
       " 'JCFDSPQTEMXXLO-SLFMBYJQSA-N',\n",
       " 'JEECQCWWSTZDCK-IQZGDKDPSA-N',\n",
       " 'JEWJRMKHSMTXPP-WZHZPDAFSA-L',\n",
       " 'JFJZZMVDLULRGK-URLMMPGGSA-O',\n",
       " 'JFVZFKDSXNQEJW-CQSZACIVSA-N',\n",
       " 'JFXBEKISTKFVAB-AJQTZOPKSA-N',\n",
       " 'JGCMEBMXRHSZKX-UHFFFAOYSA-N',\n",
       " 'JHFNIHVVXRKLEF-DCZLAGFPSA-N',\n",
       " 'JHMBUEWQJDGKGS-UHFFFAOYSA-N',\n",
       " 'JHVAMHSQVVQIOT-MFAJLEFUSA-N',\n",
       " 'JIAJERGOUFOENU-LNAOLWRRSA-N',\n",
       " 'JJNKDTWKWYLERH-UHFFFAOYSA-N',\n",
       " 'JJTPPGUNMJMPLY-QFIPXVFZSA-N',\n",
       " 'JJWPLCQODKLEHY-JEOXALJRSA-N',\n",
       " 'JKWHUJMJVNMKEF-SXKLBCNJSA-N',\n",
       " 'JLSNWEWWUSOSMP-UHFFFAOYSA-N',\n",
       " 'JLYAXFNOILIKPP-KXQOOQHDSA-N',\n",
       " 'JMDULECOHIXMNX-MZHFYNGJSA-N',\n",
       " 'JMFXDZKFFYUOAN-SVHODSNWSA-N',\n",
       " 'JMGXJHWTVBGOKG-UHFFFAOYSA-N',\n",
       " 'JMXMEKJLQWJRHY-GDEZZODWSA-N',\n",
       " 'JOMHSQGEWSNUKU-UHFFFAOYSA-N',\n",
       " 'JOOXLOJCABQBSG-UHFFFAOYSA-N',\n",
       " 'JQSAYKKFZOSZGJ-UHFFFAOYSA-N',\n",
       " 'JQXXHWHPUNPDRT-ABJVKYPINA-N',\n",
       " 'JQXXHWHPUNPDRT-WLSIYKJHSA-N',\n",
       " 'JRNJNYBQQYBCLE-UHFFFAOYSA-N',\n",
       " 'JSKFWUPVIZYJMR-UDOAKELVSA-N',\n",
       " 'JSZILQVIPPROJI-UHFFFAOYSA-N',\n",
       " 'JTZZSQYMACOLNN-VDWJNHBNSA-N',\n",
       " 'JUKPWJGBANNWMW-FVZORRNONA-N',\n",
       " 'JUKPWJGBANNWMW-VWBFHTRKSA-N',\n",
       " 'JUUFKVAFKAKWRV-JOCHJYFZSA-N',\n",
       " 'JVBGZFRPTRKSBB-MJBQOYBXSA-N',\n",
       " 'JVWHVGIRXILXMU-XMMPIXPASA-N',\n",
       " 'JWJOTENAMICLJG-QWBYCMEYSA-N',\n",
       " 'JWJOTENAMICLJG-TZXGUWTHNA-N',\n",
       " 'JWNPDZNEKVCWMY-VQHVLOKHSA-N',\n",
       " 'JXLYSJRDGCGARV-CFWMRBGOSA-N',\n",
       " 'JXQUAHHUSMJUFV-HZPZRMRQSA-N',\n",
       " 'JYRBBNPCUSRRNJ-BHVPBDGNSA-N',\n",
       " 'JYTNQNCOQXFQPK-MRXNPFEDSA-N',\n",
       " 'JYTNQNCOQXFQPK-XISACWJONA-N',\n",
       " 'JZCPYUJPEARBJL-UHFFFAOYSA-N',\n",
       " 'KASDHRXLYQOAKZ-XDSKOBMDSA-N',\n",
       " 'KBLPHMRCKHFBJB-OLZOCXBDSA-N',\n",
       " 'KBPHJBAIARWVSC-RGZFRNHPSA-N',\n",
       " 'KCIOVTSUEXGUFJ-UHFFFAOYSA-N',\n",
       " 'KDGFLJKFZUIJMX-UHFFFAOYSA-N',\n",
       " 'KFUFLYSBMNNJTF-MZYUNMTESA-N',\n",
       " 'KGFLZYXDJDOIEE-UHFFFAOYSA-N',\n",
       " 'KHZQOXQOUCGGGA-NRFANRHFSA-N',\n",
       " 'KKKRKRMVJRHDMG-UHFFFAOYSA-N',\n",
       " 'KMCBHFNNVRCAAH-UHFFFAOYSA-N',\n",
       " 'KMIPKYQIOVAHOP-YLGJWRNMSA-N',\n",
       " 'KNTGXMNWVXZIMW-UHFFFAOYSA-N',\n",
       " 'KOKQLKWXOFRTHE-UHFFFAOYSA-N',\n",
       " 'KOYXXLLNCXWUNF-UHFFFAOYSA-N',\n",
       " 'KOZFSFOOLUUIGY-QGNOOHCHNA-N',\n",
       " 'KOZFSFOOLUUIGY-SOLYNIJKSA-N',\n",
       " 'KPWSJANDNDDRMB-QAQDUYKDNA-N',\n",
       " 'KPWSJANDNDDRMB-QAQDUYKDSA-N',\n",
       " 'KQMZYOXOBSXMII-CECATXLMSA-N',\n",
       " 'KRKQVGZXTNLQSV-UHFFFAOYSA-N',\n",
       " 'KSFOVUSSGSKXFI-UJJXFSCMSA-N',\n",
       " 'KSOVGRCOLZZTPF-QMKUDKLTSA-N',\n",
       " 'KTEIFNKAUNYNJU-GFCCVEGCSA-N',\n",
       " 'KTUFNOKKBVMGRW-UHFFFAOYSA-N',\n",
       " 'KUFRQPKVAWMTJO-LMZWQJSESA-N',\n",
       " 'KUVIULQEHSCUHY-XYWKZLDCSA-N',\n",
       " 'KUZYSQSABONDME-QRLOMCMNSA-N',\n",
       " 'KWEQFQACRLGUSH-QJWJOKBXSA-N',\n",
       " 'KXGCNMMJRFDFNR-WDRJZQOASA-N',\n",
       " 'LBHLFPGPEGDCJG-UHFFFAOYSA-N',\n",
       " 'LDEKQSIMHVQZJK-CAQYMETFSA-N',\n",
       " 'LDXLQEXLXZCYSR-UHFFFAOYSA-N',\n",
       " 'LFWCJABOXHSRGC-UHFFFAOYSA-N',\n",
       " 'LGGHDPFKSSRQNS-UHFFFAOYSA-N',\n",
       " 'LGGPZDRLTDGYSQ-JADSYQMUSA-N',\n",
       " 'LHAHECCJWGXHOW-UHFFFAOYSA-N',\n",
       " 'LHLGUOHREUTYTO-UHFFFAOYSA-N',\n",
       " 'LIFJVXDWLUOXQS-UHFFFAOYSA-J',\n",
       " 'LIRYPHYGHXZJBZ-UHFFFAOYSA-N',\n",
       " 'LJVAJPDWBABPEJ-PNUFFHFMSA-N',\n",
       " 'LLDZJTIZVZFNCM-UHEVNVKKSA-J',\n",
       " 'LLJFMFZYVVLQKT-UHFFFAOYSA-N',\n",
       " 'LOYDTENNTZZQJM-DIUYYEMASA-N',\n",
       " 'LQBVNQSMGBZMKD-UHFFFAOYSA-N',\n",
       " 'LRAVAOPKUBJONV-IVCJQJMGSA-N',\n",
       " 'LRBQNJMCXXYXIU-PPKXGCFTSA-N',\n",
       " 'LRCZQSDQZJBHAF-PUBGEWHCSA-N',\n",
       " 'LTVXPVBFJBTNIJ-TYHXJLICSA-N',\n",
       " 'LTXREWYXXSTFRX-QGZVFWFLSA-N',\n",
       " 'LTYOQGRJFJAKNA-DVVLENMVSA-N',\n",
       " 'LUAOCUVKTZELFQ-RGGAHWMASA-N',\n",
       " 'LUZRJRNZXALNLM-JGRZULCMSA-N',\n",
       " 'LVXJQMNHJWSHET-AATRIKPKSA-N',\n",
       " 'LXZZYRPGZAFOLE-UHFFFAOYSA-L',\n",
       " 'LYWWDKIADIGKTH-IDMWBNCISA-N',\n",
       " 'MAFMQEKGGFWBAB-UHFFFAOYSA-N',\n",
       " 'MBBCVAKAJPKAKM-UHFFFAOYSA-N',\n",
       " 'MBMBGCFOFBJSGT-KUBAVDMBSA-N',\n",
       " 'MDCUNMLZLNGCQA-HWOAGHQOSA-N',\n",
       " 'MDIWBYRNTPTYQI-QAQDUYKDNA-N',\n",
       " 'MDIWBYRNTPTYQI-QAQDUYKDSA-N',\n",
       " 'MDLAAYDRRZXJIF-UHFFFAOYSA-N',\n",
       " 'MDSQOJYHHZBZKA-GBXCKJPGSA-N',\n",
       " 'METQSPRSQINEEU-HXCATZOESA-N',\n",
       " 'METQSPRSQINEEU-WLNGPIDUNA-N',\n",
       " 'MIJYXULNPSFWEK-GTOFXWBISA-N',\n",
       " 'MINVLQAHLUCDIO-GLLDUQGXSA-N',\n",
       " 'MJQUEDHRCUIRLF-TVIXENOKSA-N',\n",
       " 'MJZJYWCQPMNPRM-UHFFFAOYSA-N',\n",
       " 'MLSQGNCUYAMAHD-ITNVBOSISA-N',\n",
       " 'MLYYVTUWGNIJIB-BXKDBHETSA-N',\n",
       " 'MLYYVTUWGNIJIB-RKRUEEIYNA-N',\n",
       " 'MMNNTJYFHUDSKL-UHFFFAOYSA-N',\n",
       " 'MNEXDVSJIUQQRH-UHFFFAOYSA-N',\n",
       " 'MPORYQCGWFQFLA-ONPDANIMSA-N',\n",
       " 'MQTOSJVFKKJCRP-BICOPXKESA-N',\n",
       " 'MQZIGYBFDRPAKN-UWFIBFSHSA-N',\n",
       " 'MREBEPTUUMTTIA-UHFFFAOYSA-N',\n",
       " 'MTCUAOILFDZKCO-UHFFFAOYSA-N',\n",
       " 'MTJHLONVHHPNSI-IBGZPJMESA-N',\n",
       " 'MUGXRYIUWFITCP-PGRDOPGGSA-N',\n",
       " 'MUQNGPZZQDCDFT-JNQJZLCISA-N',\n",
       " 'MVCOAUNKQVWQHZ-UHFFFAOYSA-N',\n",
       " 'MVRHVFSOIWFBTE-INIZCTEOSA-N',\n",
       " 'MVWVFYHBGMAFLY-UHFFFAOYSA-N',\n",
       " 'MWGWLDJLENCVRQ-UHFFFAOYSA-N',\n",
       " 'MXDPZUIOZWKRAA-PRDSJKGBSA-K',\n",
       " 'MYMATQFDUQLSCD-IPUCCYEASA-N',\n",
       " 'MYPYJXKWCTUITO-LYRMYLQWSA-N',\n",
       " 'MZBLZLWXUBZHSL-FZNJKFJKSA-N',\n",
       " 'NAACPBBQTFFYQB-LJAITQKLSA-N',\n",
       " 'NAARZDJZGYBXKL-UHFFFAOYSA-O',\n",
       " 'NBYCDVVSYOMFMS-VMPREFPWSA-N',\n",
       " 'NFLLKCVHYJRNRH-UHFFFAOYSA-N',\n",
       " 'NHHQJBCNYHBUSI-UHFFFAOYSA-N',\n",
       " 'NHXLMOGPVYXJNR-ATOGVRKGSA-N',\n",
       " 'NIUVHXTXUXOFEB-UHFFFAOYSA-N',\n",
       " 'NJMYODHXAKYRHW-DVZOWYKESA-N',\n",
       " 'NLIHPCYXRYQPSD-BAJZRUMYSA-N',\n",
       " 'NLTUCYMLOPLUHL-KQYNXXCUSA-N',\n",
       " 'NMDYYWFGPIMTKO-KLCPSUAYSA-N',\n",
       " 'NMYKBZSMOUFOJV-UHFFFAOYSA-N',\n",
       " 'NNBGCSGCRSCFEA-UHFFFAOYSA-N',\n",
       " 'NNJPGOLRFBJNIW-HNNXBMFYSA-N',\n",
       " 'NOYPYLRCIDNJJB-UHFFFAOYSA-N',\n",
       " 'NOZIJMHMKORZBA-KJCUYJGMSA-N',\n",
       " 'NPALUEYCDZWBOV-NDZSKPAWSA-N',\n",
       " 'NQHFSECYQAQZBN-SJYHNBSJSA-M',\n",
       " 'NQOFHJRBABCNHU-UYOVOMPXSA-N',\n",
       " 'NSPHQWLKCGGCQR-DLJDZFDSSA-N',\n",
       " 'NSQSAUGJQHDYNO-UHFFFAOYSA-N',\n",
       " 'NSVFSAJIGAJDMR-UHFFFAOYSA-N',\n",
       " 'NUXKIZBEPYVRKP-RWBWKAGLSA-N',\n",
       " 'NVSWJKWHLUTHLP-CPJSRVTESA-N',\n",
       " 'NWGGKKGAFZIVBJ-UHFFFAOYSA-N',\n",
       " 'NXQKSXLFSAEQCZ-SFHVURJKSA-N',\n",
       " 'NYNAFINLHQEHKU-UHFFFAOYSA-N',\n",
       " 'NYOXRYYXRWJDKP-GYKMGIIDSA-N',\n",
       " 'NZCRJKRKKOLAOJ-XRCRFVBUSA-N',\n",
       " 'OAKPWEUQDVLTCN-NKWVEPMBSA-N',\n",
       " 'OARVXDFNTLYMCJ-JVUUKAHWSA-N',\n",
       " 'OBDOVFRMEYHSQB-UHFFFAOYSA-N',\n",
       " 'OBMJQRLIQQTJLR-USGQOSEYSA-N',\n",
       " 'OBMNJSNZOWALQB-NCQNOWPTSA-N',\n",
       " 'OBYAAZRQFIVRJS-GUUMBNHASA-N',\n",
       " 'OBZHEBDUNPOCJG-WBXJDKIVSA-N',\n",
       " 'OEKWJQXRCDYSHL-FNOIDJSQSA-N',\n",
       " 'OENHQHLEOONYIE-JLTXGRSLSA-N',\n",
       " 'OEXFMSFODMQEPE-HDRQGHTBSA-N',\n",
       " 'OFZJKCQENFPZBH-UHFFFAOYSA-N',\n",
       " 'OGODDSLNRULSMM-UHFFFAOYSA-N',\n",
       " 'OGWKCGZFUXNPDA-CFWMRBGOSA-N',\n",
       " 'OGWSGDLIXOEZJG-UHFFFAOYSA-N',\n",
       " 'OIJXLIIMXHRJJH-KNLIIKEYSA-N',\n",
       " 'OIJXLIIMXHRJJH-USQHPYHMSA-N',\n",
       " 'OIMACDRJUANHTJ-XPWFQUROSA-N',\n",
       " 'OJFDKHTZOUZBOS-CITAKDKDSA-N',\n",
       " 'OJKQMHYPQBCGFM-BMHFDQIVSA-N',\n",
       " 'OLAHOMJCDNXHFI-UHFFFAOYSA-N',\n",
       " 'OLESAACUTLOWQZ-UHFFFAOYSA-L',\n",
       " 'OMFNSKIUKYOYRG-MOSHPQCFSA-N',\n",
       " 'OMZCMEYTWSXEPZ-UHFFFAOYSA-N',\n",
       " 'ONIQOQHATWINJY-UHFFFAOYSA-N',\n",
       " 'ONJZYZYZIKTIEG-CFBQITSMSA-N',\n",
       " 'OPRAIFVPXXVXDL-UHFFFAOYSA-N',\n",
       " 'OQDCVONZQOVIMP-UNQJTBPASA-N',\n",
       " 'OSCWQKTUILTARV-MRXNPFEDSA-N',\n",
       " 'OSFCMRGOZNQUSW-UHFFFAOYSA-N',\n",
       " 'OUKYUETWWIPKQR-UHFFFAOYSA-N',\n",
       " 'OWWLUIWOFHMHOQ-XGHATYIMSA-N',\n",
       " 'OXPCRXLITLBLEY-ZVNFQBCFSA-N',\n",
       " 'OZVBMTJYIDMWIL-AYFBDAFISA-N',\n",
       " 'OZVBMTJYIDMWIL-BFHQCIMPNA-N',\n",
       " 'PAEBIVWUMLRPSK-IDTAVKCVSA-N',\n",
       " 'PASRTKOWXJDFFV-UHFFFAOYSA-N',\n",
       " 'PBCZSGKMGDDXIJ-HQCWYSJUSA-N',\n",
       " 'PBUNVLRHZGSROC-VTIMJTGVSA-N',\n",
       " 'PEGMMEYCSOZKIT-UHFFFAOYSA-N',\n",
       " 'PEMUGDMSUDYLHU-ZEQRLZLVSA-N',\n",
       " 'PENDGIOBPJLVBT-AMXFZXBBSA-N',\n",
       " 'PHXJVRSECIGDHY-UHFFFAOYSA-N',\n",
       " 'PIEUQSKUWLMALL-YABMTYFHSA-N',\n",
       " 'PILCQJJJAFRKHO-UHFFFAOYSA-N',\n",
       " 'PIQCTGMSNWUMAF-UHFFFAOYSA-N',\n",
       " 'PJQGNNQTZMYXOB-HAMMGQCISA-N',\n",
       " 'PJZPDFUUXKKDNB-KNINVFKUSA-N',\n",
       " 'PKVRCIRHQMSYJX-AIFWHQITSA-N',\n",
       " 'PLDUPXSUYLZYBN-UHFFFAOYSA-N',\n",
       " 'PMATZTZNYRCHOR-CGLBZJNRSA-N',\n",
       " 'PMXMIIMHBWHSKN-UHFFFAOYNA-N',\n",
       " 'PMXMIIMHBWHSKN-UHFFFAOYSA-N',\n",
       " 'PNEWIQAEGKQNCE-UHFFFAOYSA-N',\n",
       " 'PNPNUHKICDECDH-SEBNIYPMSA-N',\n",
       " 'POADTFBBIXOWFJ-VWLOTQADSA-N',\n",
       " 'PPFZLLAIQRZNJE-UHFFFAOYSA-N',\n",
       " 'PQXKDMSYBGKCJA-CVTJIBDQSA-N',\n",
       " 'PUGKTLRHGHIDCJ-GORZOVPNSA-N',\n",
       " 'PUOAETJYKQITMO-LANLRWRYSA-N',\n",
       " 'PUOZHLHNKHRTOW-UHFFFAOYSA-N',\n",
       " 'PVLJETXTTWAYEW-UHFFFAOYSA-N',\n",
       " 'PVRYEWOXWGDQHA-URLMMPGGSA-N',\n",
       " 'PVTKDXZNSUHUMO-UHFFFAOYSA-N',\n",
       " 'PVYJZLYGTZKPJE-UHFFFAOYSA-N',\n",
       " 'PWAUCHMQEXVFJR-PMAPCBKXSA-N',\n",
       " 'PWNMXPDKBYZCOO-UHFFFAOYSA-N',\n",
       " 'PXNIOQHGCSEKCC-CITAKDKDSA-N',\n",
       " 'PZBCKZWLPGJMAO-UHFFFAOYSA-N',\n",
       " 'PZBPHYLKIMOZPR-ZWIFOJARSA-K',\n",
       " 'QAQREVBBADEHPA-IEXPHMLFSA-N',\n",
       " 'QBKSWRVVCFFDOT-UHFFFAOYSA-N',\n",
       " 'QBUVFDKTZJNUPP-BBROENKCSA-N',\n",
       " 'QCHYVJAUGVHJHX-PZIRYZLHSA-N',\n",
       " 'QCICUPZZLIQAPA-XPWFQUROSA-N',\n",
       " 'QEVHRUUCFGRFIF-MDEJGZGSSA-N',\n",
       " 'QEVHRUUCFGRFIF-PPSFJVAQNA-N',\n",
       " 'QFJCIRLUMZQUOT-HPLJOQBZSA-N',\n",
       " 'QGJZLNKBHJESQX-FZFNOLFKSA-N',\n",
       " 'QHHKKMYHDBRONY-RMNRSTNRSA-N',\n",
       " 'QHIMVPIOWKYPSO-UHFFFAOYSA-N',\n",
       " 'QICPQLFMWYQJGX-LGWFVXIRNA-N',\n",
       " 'QICPQLFMWYQJGX-SFHVURJKSA-N',\n",
       " 'QJJXYPPXXYFBGM-LFZNUXCKSA-N',\n",
       " 'QJJXYPPXXYFBGM-XVBUORGJNA-N',\n",
       " 'QLFZZSKTJWDQOS-YDBLARSUSA-N',\n",
       " 'QNCYYRHIUFGGJX-UHFFFAOYSA-N',\n",
       " 'QNDVLZJODHBUFM-WFXQOWMNSA-N',\n",
       " 'QNIWSXQXLJIUJW-SLFMBYJQSA-I',\n",
       " 'QPEOIOLHJXXJFN-GNGJDXFDSA-N',\n",
       " 'QPKUEBLEGWBRHC-BFHYXJOUSA-N',\n",
       " 'QQOHNVHGNZYSBP-XPWFQUROSA-O',\n",
       " 'QSSGYSRUMIOURP-UHFFFAOYSA-N',\n",
       " 'QTLSHCJDXCYLJK-VRWAWWQJSA-N',\n",
       " 'QTQAWLPCGQOSGP-KSRBKZBZSA-N',\n",
       " 'QWCRAEMEVRGPNT-UHFFFAOYSA-N',\n",
       " 'QYQDKDWGWDOFFU-IUODEOHRSA-N',\n",
       " 'RAGOYPUPXAKGKH-XAKZXMRKSA-N',\n",
       " 'RAMROQQYRRQPDL-OAHLLOKOSA-N',\n",
       " 'RAPZEAPATHNIPO-UHFFFAOYSA-N',\n",
       " 'RCFZILUHCNXXFY-DEDWCYLFSA-N',\n",
       " 'RCINICONZNJXQF-IOLPPJGBNA-N',\n",
       " 'RCINICONZNJXQF-MZXODVADSA-N',\n",
       " 'REEUVFCVXKWOFE-UHFFFAOYSA-K',\n",
       " 'REVPHPVBPSIEKM-IBOSZNHHSA-N',\n",
       " 'RFOXOYXMKJPZDH-VTINEICCSA-N',\n",
       " 'RGCVKNLCSQQDEP-UHFFFAOYSA-N',\n",
       " 'RGJOEKWQDUBAIZ-IBOSZNHHSA-N',\n",
       " 'RHCCVTLDOSIQDM-NULOGZTHSA-L',\n",
       " 'RHOOHUMOHVIXEF-UHFFFAOYSA-N',\n",
       " 'RHXHGRAEPCAFML-UHFFFAOYSA-N',\n",
       " 'RJURFGZVJUQBHK-IIXSONLDSA-N',\n",
       " 'RKHQGWMMUURILY-UHRZLXHJSA-N',\n",
       " 'RKNHJBVBFHDXGR-MRUDJCSFSA-N',\n",
       " 'RKSMVPNZHBRNNS-UHFFFAOYSA-N',\n",
       " 'RMEVNJZCKDVVND-UHFFFAOYSA-N',\n",
       " 'RMMXLENWKUUMAY-UHFFFAOYSA-N',\n",
       " 'RMOYVWKKOKERSW-UHFFFAOYSA-N',\n",
       " 'RMRCNWBMXRMIRW-WZHZPDAFSA-L',\n",
       " 'RMRJXGBAOAMLHD-IHFGGWKQSA-N',\n",
       " 'RMRJXGBAOAMLHD-PQKQMNLMNA-N',\n",
       " 'RMTMMKNSPRRFHW-UHFFFAOYSA-N',\n",
       " 'ROTFGKJJMRTWBD-HHHXNRCGSA-N',\n",
       " 'ROTFGKJJMRTWBD-MHZLTWQESA-N',\n",
       " 'ROYJKVPBJVNHCQ-AJBXOXQOSA-N',\n",
       " 'RPYIKXHIQXRXEM-WLHGVMLRSA-N',\n",
       " 'RQHILGKAOIGUHU-XPLSERNMSA-N',\n",
       " 'RSWOJTICKMKTER-QXLBVTBOSA-N',\n",
       " 'RTGDFNSFWBGLEC-SYZQJQIISA-N',\n",
       " 'RUJBDQSFYCKFAA-UHFFFAOYSA-N',\n",
       " 'RUZIUYOSRDWYQF-HNNXBMFYSA-N',\n",
       " 'RUZYUOTYCVRMRZ-UHFFFAOYNA-N',\n",
       " 'RUZYUOTYCVRMRZ-UHFFFAOYSA-N',\n",
       " 'RVZKQTQAFHEOKT-UHFFFAOYSA-N',\n",
       " 'RWVUEZAROXKXRT-VQLSFVLHSA-N',\n",
       " 'RWZVPVOZTJJMNU-UHFFFAOYSA-N',\n",
       " 'RXZBMPWDPOLZGW-XMRMVWPWSA-N',\n",
       " 'RZVPBGBYGMDSBG-GGAORHGYSA-N',\n",
       " 'SAADBVWGJQAEFS-UHFFFAOYSA-N',\n",
       " 'SAWXMTQYIIZWNU-RGEBLUSTSA-O',\n",
       " 'SBBYBXSFWOLDDG-JLTOFOAXSA-N',\n",
       " 'SDEAXTCZPQIFQM-UHFFFAOYSA-N',\n",
       " 'SEALOBQTUQIVGU-QNIJNHAOSA-N',\n",
       " 'SECKRCOLJRRGGV-UHFFFAOYSA-N',\n",
       " 'SERHTTSLBVGRBY-UHFFFAOYSA-N',\n",
       " 'SFWLDKQAUHFCBS-VCQIQPCESA-N',\n",
       " 'SGTNSNPWRIOYBX-HHHXNRCGSA-N',\n",
       " 'SGTNSNPWRIOYBX-UHFFFAOYNA-N',\n",
       " 'SGTNSNPWRIOYBX-UHFFFAOYSA-N',\n",
       " 'SGWLRDAOCLITOM-UHFFFAOYSA-N',\n",
       " 'SJVQHLPISAIATJ-ZDUSSCGKSA-N',\n",
       " 'SLXTWXQUEZSSTJ-UHFFFAOYSA-N',\n",
       " 'SNBUBQHDYVFSQF-HIFRSBDPSA-N',\n",
       " 'SPBDXSGPUHCETR-CVSKBELMSA-N',\n",
       " 'SQQAPOSROFWHIB-UHFFFAOYSA-N',\n",
       " 'SQZXWXXIPWXBCL-CYTJBAGBSA-N',\n",
       " 'SRZNHPXWXCNNDU-IXOPCIAXSA-N',\n",
       " 'SSNHGLKFJISNTR-DYSNNVSPSA-N',\n",
       " 'STZYTFJPGGDRJD-NHUWBDDWSA-N',\n",
       " 'SUYRLXYYZQTJHF-VMBLUXKRSA-N',\n",
       " 'SUYVUBYJARFZHO-RRKCRQDMSA-N',\n",
       " 'SVJMLYUFVDMUHP-MGBGTMOVSA-N',\n",
       " 'SVJMLYUFVDMUHP-XIFFEERXSA-N',\n",
       " 'SXAWSYZURCZSDX-UHFFFAOYSA-B',\n",
       " 'SZLZWPPUNLXJEA-QEGASFHISA-N',\n",
       " 'TUOSCZDRWRYPRS-UHFFFAOYSA-N',\n",
       " 'TURJYGRXEJIBGT-OCOMGVANSA-N',\n",
       " 'TUYWTLTWNJOZNY-UHFFFAOYSA-N',\n",
       " 'TXGZJQLMVSIZEI-UQMAOPSPSA-N',\n",
       " 'TYDIWMTWTXFWSY-HNNXBMFYSA-N',\n",
       " 'TZZGTNZBLPCBIS-UHFFFAOYSA-N',\n",
       " 'UAUIUKWPKRJZJV-QPLHLKROSA-N',\n",
       " 'UBHGDCVUOWXYCX-UHFFFAOYSA-M',\n",
       " 'UBIIFKJMNRPNMT-CQSZACIVSA-N',\n",
       " 'UBIIFKJMNRPNMT-YQTOOIBONA-N',\n",
       " 'UBPYILGKFZZVDX-UHFFFAOYSA-N',\n",
       " 'UCFGDBYHRUNTLO-QHCPKHFHSA-N',\n",
       " 'UCFGDBYHRUNTLO-QWVACARCNA-N',\n",
       " 'UCQSBGOFELXYIN-UHFFFAOYSA-N',\n",
       " 'UCRHFBCYFMIWHC-UHFFFAOYSA-N',\n",
       " 'UDSFVOAUHKGBEK-CNQKSJKFSA-N',\n",
       " 'UEFHFKKWYKVLDC-HTQYORAHSA-N',\n",
       " 'UFZTZBNSLXELAL-IOSLPCCCSA-N',\n",
       " 'UGZWPZWADDDTRN-UHFFFAOYSA-N',\n",
       " 'UHTHHESEBZOYNR-UHFFFAOYSA-N',\n",
       " 'UIVFUQKYVFCEKJ-OPTOVBNMSA-N',\n",
       " 'UJCWOSLCGXVJOD-LCHUORCTSA-N',\n",
       " 'UKCFUFHREWUXJJ-UHFFFAOYSA-N',\n",
       " 'UKOBAUFLOGFCMV-UHFFFAOYSA-N',\n",
       " 'ULDWFUFUNJMSCJ-ZXHVEAKLSA-N',\n",
       " 'ULGZDMOVFRHVEP-LGZNYWPINA-N',\n",
       " 'ULGZDMOVFRHVEP-RWJQBGPGSA-N',\n",
       " 'ULXXDDBFHOBEHA-CWDCEQMOSA-N',\n",
       " 'ULXXDDBFHOBEHA-UIERLLEKNA-N',\n",
       " 'UMMYTDJYDSTEMB-UHFFFAOYSA-N',\n",
       " 'UNAZAADNBYXMIV-UHFFFAOYSA-N',\n",
       " 'UOLCZAFAGDOUFX-UHFFFAOYSA-N',\n",
       " 'UOYVKYJWAXJTTE-NRFANRHFSA-N',\n",
       " 'UPTQSRGSSJRBKJ-LJQANCHMSA-N',\n",
       " 'UPTQSRGSSJRBKJ-TWYLJJHKNA-N',\n",
       " 'UQFRSHRWRKYNDE-UHFFFAOYSA-N',\n",
       " 'UQFVHIGKDHNMJT-XPTSAGLGSA-N',\n",
       " 'UQGKUQLKSCSZGY-UHFFFAOYSA-N',\n",
       " 'UUSZLLQJYRSZIS-LXNNNBEUSA-N',\n",
       " 'UWKQSNNFCGGAFS-XIFFEERXSA-N',\n",
       " 'UWKQSNNFCGGAFS-YGFIFORBNA-N',\n",
       " 'UWXSAYUXVSFDBQ-CYBMUJFWSA-N',\n",
       " 'UXGUZFZBZPPZGL-UHFFFAOYSA-N',\n",
       " 'UXOZEHHQWXVTPI-MZWSMYJRSA-N',\n",
       " 'UXXQOJXBIDBUAC-UHFFFAOYSA-N',\n",
       " 'UYJNQQDJUOUFQJ-UHFFFAOYSA-N',\n",
       " 'UYOMQIYKOOHAMK-UHFFFAOYSA-J',\n",
       " 'UZWDCWONPYILKI-UHFFFAOYSA-N',\n",
       " 'VAARYSWULJUGST-UHFFFAOYSA-N',\n",
       " 'VAAUVRVFOQPIGI-AUBREJEANA-N',\n",
       " 'VAAUVRVFOQPIGI-SPQHTLEESA-N',\n",
       " 'VAZLWPAHMORDGR-WRIGXHCHSA-L',\n",
       " 'VCCUEOJOYXPBRA-UHFFFAOYSA-L',\n",
       " 'VCKUSRYTPJJLNI-UHFFFAOYNA-N',\n",
       " 'VCKUSRYTPJJLNI-UHFFFAOYSA-N',\n",
       " 'VCMIRXRRQJNZJT-XRMSBCOFSA-N',\n",
       " 'VCONVNPAMVXEOA-ZOPSOCCDSA-N',\n",
       " 'VCOPTHOUUNAYKQ-WBTCAYNUSA-N',\n",
       " 'VCPXSBULBDYRLT-SFHVURJKSA-N',\n",
       " 'VDNLFJGJEQUWRB-UHFFFAOYSA-N',\n",
       " 'VERWOWGGCGHDQE-UHFFFAOYSA-N',\n",
       " 'VGDDOIZXGFJDRC-VJTSUQJLSA-N',\n",
       " 'VHFGEBVPHAGQPI-LXKZPTCJSA-N',\n",
       " 'VHULDAGHTVZTRL-YDXXJHAFSA-J',\n",
       " 'VHVPQPYKVGDNFY-WGEGMAFPNA-N',\n",
       " 'VHVPQPYKVGDNFY-ZPGVKDDISA-N',\n",
       " 'VJKUPQSHOVKBCO-ZTYBEOBUSA-N',\n",
       " 'VJYSBPDEJWLKKJ-NLIMODCCSA-N',\n",
       " 'VKHAHZOOUSRJNA-CMXGQQHZNA-N',\n",
       " 'VKHAHZOOUSRJNA-GCNJZUOMSA-N',\n",
       " 'VLGAHTYYCHWLNI-BHRZLAGCSA-N',\n",
       " 'VMTDLKOWOZYTPX-RZKNNNBGSA-N',\n",
       " 'VOAZJEPQLGBXGO-SDAWRPRTSA-N',\n",
       " 'VOHOCSJONOJOSD-SCIDSJFVSA-N',\n",
       " 'VORBHEGMEBOMMB-JRHDEHKPSA-N',\n",
       " 'VRBKIVRKKCLPHA-UHFFFAOYSA-N',\n",
       " 'VRTWBAAJJOHBQU-KMWAZVGDSA-N',\n",
       " 'VUNQJPPPTJIREN-CMAXTTDKSA-N',\n",
       " 'VVUYEFBRTFASAH-UHFFFAOYSA-N',\n",
       " 'VWJPPYCULHDHBB-HNNXBMFYSA-N',\n",
       " 'VWWQXMAJTJZDQX-UYBVJOGSSA-N',\n",
       " 'VWWQXMAJTJZDQX-UYBVJOGSSA-O',\n",
       " 'VXIYTVJEIXMAQF-UHFFFAOYSA-N',\n",
       " 'VXSIXFKKSNGRRO-YWUDCVDHSA-N',\n",
       " 'VYJOAYZRCNHDNG-GOSISDBHSA-N',\n",
       " 'VZJFGSRCJCXDSG-UHFFFAOYSA-N',\n",
       " 'VZWXXKDFACOXNT-UHFFFAOYSA-N',\n",
       " 'VZYCZNZBPPHOFY-UHFFFAOYSA-N',\n",
       " 'WAXQNWCZJDTGBU-UHFFFAOYSA-N',\n",
       " 'WDJUZGPOPHTGOT-XUDUSOBPSA-N',\n",
       " 'WDPFJWLDPVQCAJ-UHFFFAOYSA-N',\n",
       " 'WDZCUPBHRAEYDL-GZAUEHORSA-N',\n",
       " 'WEAJZXNPAWBCOA-INIZCTEOSA-N',\n",
       " 'WEGJDERSZWOWIB-UHFFFAOYSA-N',\n",
       " 'WFPIAZLQTJBIFN-DVZOWYKESA-N',\n",
       " 'WIJZXSAJMHAVGX-DHLKQENFSA-N',\n",
       " 'WIKYUJGCLQQFNW-UHFFFAOYSA-N',\n",
       " 'WINHZLLDWRZWRT-ATVHPVEESA-N',\n",
       " 'WJOHZNCJWYWUJD-IUGZLZTKSA-N',\n",
       " 'WJUNQSYQHHIVFX-UHFFFAOYSA-N',\n",
       " 'WLOHNSSYAXHWNR-DWIOZXRMSA-N',\n",
       " 'WMBUVOLZSWTKMP-KQFGJPIXSA-N',\n",
       " 'WMEYCLAVMZKZCS-UHFFFAOYSA-N',\n",
       " 'WNMJYKCGWZFFKR-UHFFFAOYNA-N',\n",
       " 'WNMJYKCGWZFFKR-UHFFFAOYSA-N',\n",
       " 'WNTYBHLDCKXEOT-UHFFFAOYSA-N',\n",
       " 'WOZSCQDILHKSGG-UHFFFAOYSA-N',\n",
       " 'WPAPODFGOZXFLG-UHFFFAOYSA-N',\n",
       " 'WPNHOHPRXXCPRA-TVXIRPTOSA-N',\n",
       " 'WPTTVJLTNAWYAO-KPOXMGGZSA-N',\n",
       " 'WRFHGDPIDHPWIQ-UHFFFAOYSA-N',\n",
       " 'WTHRRGMBUAHGNI-LCYNINFDSA-N',\n",
       " 'WUJFGZAAFADPSF-UHFFFAOYSA-N',\n",
       " 'WUJVPODXELZABP-FWJXURDUSA-N',\n",
       " 'WUZYKBABMWJHDL-UHFFFAOYSA-N',\n",
       " 'WVTKBKWTSCPRNU-KYJUHHDHSA-N',\n",
       " 'WVUNYSQLFKLYNI-AATRIKPKSA-N',\n",
       " 'WWGXKLSKKKQRMN-MLHPNDMTSA-N',\n",
       " 'WWUPGKDRUIPTRA-XITLLWRLSA-N',\n",
       " 'WXCXUHSOUPDCQV-UHFFFAOYSA-N',\n",
       " 'WXXSNCNJFUAIDG-UHFFFAOYSA-N',\n",
       " 'WYJWVZZCMBUPSP-KQYNXXCUSA-N',\n",
       " 'WYQPLTPSGFELIB-JTQPXKBDSA-N',\n",
       " 'XBJPSVQFCQFGDC-UZOALHFESA-K',\n",
       " 'XCCRAOPQCACRFC-OIFRRMEBSA-N',\n",
       " 'XCGSFFUVFURLIX-TZWMYICKNA-N',\n",
       " 'XCGSFFUVFURLIX-VFGNJEKYSA-N',\n",
       " 'XCPVAMYUZCTTHM-UHFFFAOYSA-N',\n",
       " 'XCTKFTOEAKJMII-UHFFFAOYSA-N',\n",
       " 'XCTYLCDETUVOIP-UHFFFAOYSA-N',\n",
       " 'XDIQTPZOIIYCTR-GRFIIANRSA-N',\n",
       " 'XFKVYXCRNATCOO-UHFFFAOYSA-M',\n",
       " 'XFMMHXLUHKBKQE-UHEGPQQHSA-N',\n",
       " 'XGALLCVXEZPNRQ-UHFFFAOYSA-N',\n",
       " 'XGGTZCKQRWXCHW-WMTVXVAQSA-N',\n",
       " 'XGUIMGJMQKZRGM-LLVKDONJSA-N',\n",
       " 'XHBACRZQFHLVAV-LFFSAXSQSA-L',\n",
       " 'XHBVYDAKJHETMP-UHFFFAOYSA-N',\n",
       " 'XIVMHSNIQAICTR-UQYHODNASA-N',\n",
       " 'XJLXINKUBYWONI-NNYOXOHSSA-N',\n",
       " 'XKLMZUWKNUAPSZ-UHFFFAOYSA-N',\n",
       " 'XMAYWYJOQHXEEK-UHFFFAOYNA-N',\n",
       " 'XMAYWYJOQHXEEK-UHFFFAOYSA-N',\n",
       " 'XMAYWYJOQHXEEK-ZEQKJWHPSA-N',\n",
       " 'XMXHEBAFVSFQEX-UHFFFAOYSA-N',\n",
       " 'XNKCCCKFOQNXKV-ZRSCBOBOSA-N',\n",
       " 'XOEUHCONYHZURQ-HNUBZJOYSA-N',\n",
       " 'XPLJEFSRINKZLC-ATVHPVEESA-N',\n",
       " 'XQLWNAFCTODIRK-UHFFFAOYSA-N',\n",
       " 'XQYZDYMELSJDRZ-UHFFFAOYSA-N',\n",
       " 'XSSVYBYWQBNYOH-QJIXERIWSA-N',\n",
       " 'XSWPXBWSKQRBRZ-IDTMDVKXSA-L',\n",
       " 'XTRUQJBVQBUKSQ-UHFFFAOYSA-N',\n",
       " 'XVGOZDAJGBALKS-UHFFFAOYSA-N',\n",
       " 'XXJWYDDUDKYVKI-UHFFFAOYSA-N',\n",
       " 'XXZSQOVSEBAPGS-UHFFFAOYSA-L',\n",
       " 'XYKNXOJYKRVXBX-ZAUPHERQSA-N',\n",
       " 'XZSMZRXAEFNJCU-UHFFFAOYSA-N',\n",
       " 'XZXHXSATPCNXJR-ZIADKAODSA-N',\n",
       " 'XZXVRKHUCSXVBM-AWEZNQCLSA-N',\n",
       " 'XZXVRKHUCSXVBM-YQTOOIBONA-N',\n",
       " 'YABJJWZLRMPFSI-UHFFFAOYSA-N',\n",
       " 'YAWZIQKDHQIHOS-UHFFFAOYSA-N',\n",
       " 'YBWLTKFZAOSWSM-UHFFFAOYSA-N',\n",
       " 'YENZSPIOXMNEFF-UHFFFAOYSA-N',\n",
       " 'YHRUERMOPBDCFD-UHFFFAOYSA-N',\n",
       " 'YHSKJPXGXIYLHB-OTNPUQRPSA-N',\n",
       " 'YIQPUIGJQJDJOS-UHFFFAOYSA-N',\n",
       " 'YJDYDFNKCBANTM-QCWCSKBGSA-N',\n",
       " 'YJEJKUQEXFSVCJ-WRFMNRASSA-N',\n",
       " 'YJGVMLPVUAXIQN-XVVDYKMHSA-N',\n",
       " 'YJWJKKXGAPWLGT-UHFFFAOYSA-N',\n",
       " 'YKCWQPZFAFZLBI-UHFFFAOYSA-N',\n",
       " 'YKOPWPOFWMYZJZ-PRIAQAIDSA-N',\n",
       " 'YLEVKEKTOJAHCY-UQCJFRAESA-N',\n",
       " 'YMCXGHLSVALICC-GMHMEAMDSA-N',\n",
       " 'YNWHQWMCLCANDI-YIYRCNGCSA-N',\n",
       " 'YOIQWBAHJZGRFW-WVRLKXNASA-N',\n",
       " 'YONOBYIBNBCDSJ-UHFFFAOYSA-N',\n",
       " 'YOSHYTLCDANDAN-UHFFFAOYSA-N',\n",
       " 'YOZNUFWCRFCGIH-WZHZPDAFSA-K',\n",
       " 'YPTPYQSAVGGMFN-KQYNXXCUSA-N',\n",
       " 'YQLJDECYQDRSBI-UHFFFAOYSA-N',\n",
       " 'YSEXMKHXIOCEJA-FVFQAYNVSA-N',\n",
       " 'YXRDKMPIGHSVRX-OOJCLDBCSA-N',\n",
       " 'YXSLJKQTIDHPOT-LJCJQEJUSA-N',\n",
       " 'YZBAXVICWUUHGG-UHFFFAOYSA-N',\n",
       " 'YZBLFMPOMVTDJY-LSGXYNIPSA-N',\n",
       " 'ZAKOWWREFLAJOT-CEFNRUSXSA-N',\n",
       " 'ZBNZXTGUTAYRHI-UHFFFAOYSA-N',\n",
       " 'ZBTQTVSNLRPJHI-UHFFFAOYSA-N',\n",
       " 'ZCDMRPMKAQLWAO-PZLFCYFRSA-N',\n",
       " 'ZDXUKAKRHYTAKV-UHFFFAOYSA-N',\n",
       " 'ZDZOTLJHXYCWBA-VCVYQWHSSA-N',\n",
       " 'ZEOQUKRCASTCFR-UHFFFAOYSA-N',\n",
       " 'ZEWQUBUPAILYHI-UHFFFAOYSA-N',\n",
       " 'ZFLJHSQHILSNCM-UHFFFAOYSA-N',\n",
       " 'ZIAOVIPSKUPPQW-UHFFFAOYSA-N',\n",
       " 'ZJESXGUODSBHSK-UHFFFAOYSA-N',\n",
       " 'ZKHQWZAMYRWXGA-KQYNXXCUSA-N',\n",
       " 'ZKHQWZAMYRWXGA-YPLCUDRINA-N',\n",
       " 'ZKRKFZJAQKKHKL-SUGPNEFASA-N',\n",
       " 'ZLHFILGSQDJULK-UHFFFAOYSA-N',\n",
       " 'ZMCJFJZOSKEMOM-DNKZPPIMSA-N',\n",
       " 'ZMELOYOKMZBMRB-DLBZAZTESA-N',\n",
       " 'ZMGCFGGMTCMSDP-QHCPKHFHSA-N',\n",
       " 'ZOCKGBMQLCSHFP-KQRAQHLDSA-N',\n",
       " 'ZQLDXCSTJFLRPY-RWBXLJKRSA-N',\n",
       " 'ZQLMPRRTUJBILA-VXAHOBLNSA-N',\n",
       " 'ZQMXTDPQEHZTBG-FRIKZZABSA-N',\n",
       " 'ZQTNQVWKHCQYLQ-UHFFFAOYSA-N',\n",
       " 'ZRDQFWRSRPZOSQ-GMHMEAMDSA-N',\n",
       " 'ZROHGHOFXNOHSO-BNTLRKBRSA-L',\n",
       " 'ZVGNESXIJDCBKN-KFGPIHIUSA-N',\n",
       " 'ZVSBKYYVBCKDBO-HNNXBMFYSA-N',\n",
       " 'ZVSBKYYVBCKDBO-OAHLLOKOSA-N',\n",
       " 'ZVTDLPBHTSMEJZ-JSZLBQEHSA-N',\n",
       " 'ZVWFECUPYCFYBL-UHFFFAOYSA-N',\n",
       " 'ZWKOUFZHPNIQSH-UHFFFAOYSA-N',\n",
       " 'ZWTVVWUOTJRXKM-UHFFFAOYSA-N',\n",
       " 'ZXIPEZDMQNYFOO-WUFINQPMSA-N',\n",
       " 'ZZQNEJILGNNOEP-UHFFFAOYSA-N'}"
      ]
     },
     "execution_count": 25,
     "metadata": {},
     "output_type": "execute_result"
    }
   ],
   "source": [
    "set(sars_unseen_targets_averaged_descending.head(811)['InChiKey'])"
   ]
  },
  {
   "cell_type": "code",
   "execution_count": 26,
   "metadata": {
    "hidden": true
   },
   "outputs": [
    {
     "data": {
      "text/plain": [
       "{'AANTYZRUJFNZFI-UHFFFAOYSA-N',\n",
       " 'AECPTICWHONWNW-UHFFFAOYSA-N',\n",
       " 'AEHSFPPTWRQOFS-MSOLQXFVSA-N',\n",
       " 'AEKJCSNKYXWOAQ-INIZCTEOSA-N',\n",
       " 'AHAVBKNGKPWROK-UMFPTGFGSA-N',\n",
       " 'AHRWQUNEPBVNOT-IVJVVCOPSA-N',\n",
       " 'AIIJKVORRBMJHS-RRQGHBQHSA-N',\n",
       " 'AIIOXZPEXXZCML-KKXDTOCCSA-N',\n",
       " 'AILSWIBFGYYZTK-AABGKKOBSA-N',\n",
       " 'ANIAZGVDEUQPRI-ZJQCGQFWSA-N',\n",
       " 'ANQHSFFUNMTTRS-MOPGFXCFSA-N',\n",
       " 'ANQHSFFUNMTTRS-QINVSXPYNA-N',\n",
       " 'APLJSSOXDWUNGV-GOSISDBHSA-N',\n",
       " 'ARIRIZBKMKMEBD-UHFFFAOYSA-N',\n",
       " 'ARSFRLAHCNFFCE-IBXIYJDRSA-N',\n",
       " 'ASEJDWRSZYAIOT-GJZGRUSLSA-N',\n",
       " 'ATANXIMWDMRRIO-UHFFFAOYSA-N',\n",
       " 'AULFVKUUIUIWQU-UHFFFAOYSA-N',\n",
       " 'AUYYCJSJGJYCDS-UMVFHIKJSA-N',\n",
       " 'AWAKNMKLVLWIIQ-OAHLLOKOSA-N',\n",
       " 'AYGYLFIDAXGERM-UHFFFAOYSA-O',\n",
       " 'AYPNHSRYHHHKFU-HPUGBGFMSA-L',\n",
       " 'AZEGJHGXTSUPPG-AWEZNQCLSA-N',\n",
       " 'BIAVGWDGIJKWRM-UHFFFAOYSA-N',\n",
       " 'BKONADSQADEJJP-SFTDATJTSA-N',\n",
       " 'BMZFZTMWBCFKSS-UHFFFAOYSA-N',\n",
       " 'BNCHHUFGEOJCNH-SFHVURJKSA-N',\n",
       " 'BNVMUDXGABBWGP-OAQYLSRUSA-N',\n",
       " 'BNYGKUQXGBVTRE-ITRNKESMSA-N',\n",
       " 'BOFQWVMAQOTZIW-UHFFFAOYSA-N',\n",
       " 'BRZYSWJRSDMWLG-DJWUNRQOSA-N',\n",
       " 'BSKROLLIUIDPDT-KUJOXMSCSA-N',\n",
       " 'BSPYTUHYTMXMCB-JKBLJYNNSA-L',\n",
       " 'BVTBOJXEAPSOEB-UHFFFAOYSA-N',\n",
       " 'BWHLPLXXIDYSNW-UHFFFAOYSA-N',\n",
       " 'BWTHJLODYBOEIY-VHEBQXMUSA-N',\n",
       " 'BXYGSMRTHHSAHZ-PMACEKPBSA-N',\n",
       " 'BYSBXIPCDJNEBG-INIZCTEOSA-N',\n",
       " 'BYSBXIPCDJNEBG-XISACWJONA-N',\n",
       " 'BYSXBFJVGIOFBO-LNSPPBFMSA-N',\n",
       " 'BYTJPDBCLWUEBU-IBGZPJMESA-N',\n",
       " 'BZNXZJAUEMJQJB-QSCMNUSVSA-N',\n",
       " 'CAGGGMPTWTUYHZ-ZCXUNETKSA-N',\n",
       " 'CATMPQFFVNKDEY-YPMHNXCESA-N',\n",
       " 'CDEVHSIVANGYRI-XMTFNYHQSA-N',\n",
       " 'CDOJPCSDOXYJJF-KSKNGZLJSA-N',\n",
       " 'CEKLBQMULVLLTD-VMPREFPWSA-N',\n",
       " 'CEMXHAPUFJOOSV-XGWNLRGSSA-N',\n",
       " 'CEUSGDKNGCAEAX-ZDUSSCGKSA-N',\n",
       " 'CFSQPEBVGUSQII-UHFFFAOYSA-N',\n",
       " 'CGGNZMVODZPHHK-SNVBAGLBSA-N',\n",
       " 'CHKWABXWPATIIG-UXHICEINSA-N',\n",
       " 'CILYIEBUXJIHCO-LPTWSRJFSA-N',\n",
       " 'CITCNTPVKZFUAJ-UHFFFAOYSA-N',\n",
       " 'CJHLRGCXPGIPCB-MOPGFXCFSA-N',\n",
       " 'CJHLRGCXPGIPCB-QINVSXPYNA-N',\n",
       " 'CJMVTSLLWMPEKQ-INIZCTEOSA-N',\n",
       " 'CKSIVONWCYACAP-UHFFFAOYSA-N',\n",
       " 'CNILVMARPONFBX-JCGIZDLHSA-N',\n",
       " 'CPAOOGAUUDSJCS-FMSGJZPZSA-N',\n",
       " 'CPBLTMSKPQDJPW-AWEZNQCLSA-N',\n",
       " 'CPZFGNOKCMJZFO-BTHQEHEQSA-N',\n",
       " 'CSWQJKHBMACTGB-UHFFFAOYSA-N',\n",
       " 'CSXOUJBOYXGFCL-OFKZETBZSA-N',\n",
       " 'CTQDLSDUHUFBQW-LEWJYISDSA-N',\n",
       " 'CWJPVKSBGVPXRD-QMTMVMCOSA-N',\n",
       " 'CWWIIKLXUPZDOG-UHFFFAOYSA-N',\n",
       " 'CXGTZJYQWSUFET-IBGZPJMESA-N',\n",
       " 'CZGUSIXMZVURDU-JZXHSEFVSA-N',\n",
       " 'CZKNSZUJCJHTTM-UHFFFAOYSA-N',\n",
       " 'CZNPWASYMRBJCX-GOSISDBHSA-N',\n",
       " 'DAOQLLQRJAXMGY-PBHICJAKSA-N',\n",
       " 'DAOQLLQRJAXMGY-YOEHRIQHSA-N',\n",
       " 'DARQQJKHXPXSRO-QFIPXVFZSA-N',\n",
       " 'DBOGGOVKHSCMNB-OMRVPHBLSA-N',\n",
       " 'DBPWWBMTZYJGGV-KKUMJFAQSA-N',\n",
       " 'DCUCDCAIOMIBEA-GFCCVEGCSA-O',\n",
       " 'DDOOHEYBNHOFCV-ORYMTKCHSA-N',\n",
       " 'DEHMSTGBNAXEGX-UHFFFAOYSA-N',\n",
       " 'DEOZLEGRVHDNKC-UGKGYDQZSA-N',\n",
       " 'DGFMSNJYBBNHCX-LBPRGKRZSA-N',\n",
       " 'DHPCBFMFERFZLR-UHFFFAOYSA-N',\n",
       " 'DHTSUHYTYUXMOL-JTQLQIEISA-N',\n",
       " 'DKBAWRNTUZFJKV-BSDSXHPESA-N',\n",
       " 'DKBAWRNTUZFJKV-XMTFNYHQSA-N',\n",
       " 'DKDILZBBFKZMRO-OAHLLOKOSA-N',\n",
       " 'DKQZZKSBRCTCQU-QFIPXVFZSA-N',\n",
       " 'DKYWVDODHFEZIM-NSHDSACASA-N',\n",
       " 'DKYWVDODHFEZIM-UHFFFAOYNA-N',\n",
       " 'DKYWVDODHFEZIM-UHFFFAOYSA-N',\n",
       " 'DLRVVLDZNNYCBX-VDGMBKLFSA-N',\n",
       " 'DMAPAHUEYHXRFI-WDSKDSINSA-N',\n",
       " 'DMCRNUMVSATRTP-LCYFTJDESA-N',\n",
       " 'DNTSIBUQMRRYIU-UHFFFAOYSA-N',\n",
       " 'DOBMPNYZJYQDGZ-UHFFFAOYSA-N',\n",
       " 'DOTBZTLJSXFKCP-IBGZPJMESA-N',\n",
       " 'DQBLKSRRWDWNKQ-UHFFFAOYSA-N',\n",
       " 'DQDAYGNAKTZFIW-UHFFFAOYNA-N',\n",
       " 'DQDAYGNAKTZFIW-UHFFFAOYSA-N',\n",
       " 'DSVCYWOHJLRGMK-PMACEKPBSA-N',\n",
       " 'DSYGIMVFFQCOQZ-KYYLAPRMSA-N',\n",
       " 'DTGVSZSMDOMAEB-UHFFFAOYSA-N',\n",
       " 'DUKDFMPUZRDWLT-CQSZACIVSA-N',\n",
       " 'DUYYBTBDYZXISX-UKKRHICBSA-N',\n",
       " 'DVFLYEYCMMLBTQ-VSZNYVQBSA-O',\n",
       " 'DVTYOTODFLDHRL-UHFFFAOYSA-N',\n",
       " 'DWJNPCRXBNWCJC-UHFFFAOYSA-N',\n",
       " 'DWQOTEPNRWVUDA-CCEZHUSRSA-N',\n",
       " 'DWWVPKCSDHDILN-OALUTQOASA-N',\n",
       " 'DXDRHHKMWQZJHT-FPYGCLRLSA-N',\n",
       " 'FAAPWXRBXXSQNJ-JSGCOSHPSA-N',\n",
       " 'FBSVJQQVDISETN-QGZVFWFLSA-N',\n",
       " 'FEKRWNWZMOSVBX-UHFFFAOYSA-O',\n",
       " 'FELUFXCUIYHAPB-INIZCTEOSA-N',\n",
       " 'FFYBYVPVYLMLAR-KBPBESRZSA-N',\n",
       " 'FHNIYFZSHCGBPP-ABBMIVAOSA-N',\n",
       " 'FHVBVJXZKNCSLP-CVEARBPZSA-N',\n",
       " 'FITZJYAVATZPMJ-UHFFFAOYSA-N',\n",
       " 'FIZYZWLGMGGGBJ-OALUTQOASA-N',\n",
       " 'FJGWLOKDOKYXMU-FCHUYYIVSA-N',\n",
       " 'FJQWWGCHPFSERW-CQSZACIVSA-N',\n",
       " 'FMMWHPNWAFZXNH-UHFFFAOYSA-N',\n",
       " 'FNZHLCNFXRRIIC-RBUKOAKNSA-N',\n",
       " 'FOJUHLDAXGNCIP-FHWLQOOXSA-N',\n",
       " 'FQCDQFDJHSXQKY-UHFFFAOYSA-N',\n",
       " 'FQYBTYFKOHPWQT-VGSWGCGISA-N',\n",
       " 'FSBUXLDOLNLABB-ISAKITKMSA-N',\n",
       " 'FSMWGHKWKYCPKE-QTVCLEQKSA-N',\n",
       " 'FSNBWEOGSXUNGF-CQMBDMNQSA-N',\n",
       " 'FSNDLCSOLUMYRH-OAHLLOKOSA-N',\n",
       " 'FSRPBGBMEKDSIJ-CYBMUJFWSA-N',\n",
       " 'FTXJWRRYLLRFMG-MDZDMXLPSA-N',\n",
       " 'FWEOQOXTVHGIFQ-UHFFFAOYSA-N',\n",
       " 'FWFGIHPGRQZWIW-SQNIBIBYSA-N',\n",
       " 'FWTQOPWAMQXIMI-UHFFFAOYSA-N',\n",
       " 'FXEUKVKGTKDDIQ-UWVGGRQHSA-N',\n",
       " 'FYGDTMLNYKFZSV-PXXRMHSHSA-N',\n",
       " 'FYGDTMLNYKFZSV-XJJKTWKOSA-N',\n",
       " 'FZJQHARRQUNVGZ-QZTJIDSGSA-N',\n",
       " 'FZLCJZILHGFQLM-PISLJJGOSA-N',\n",
       " 'FZVMMANVVHMVBM-OIXLVLAFSA-N',\n",
       " 'GAVRMVQHHVMXFD-UHFFFAOYSA-N',\n",
       " 'GBXSMTUPTTWBMN-JKWYNMBVNA-N',\n",
       " 'GBXSMTUPTTWBMN-XIRDDKMYSA-N',\n",
       " 'GCZVEKLTOLTWLM-VIFPVBQESA-N',\n",
       " 'GEIDRYBJURDUSW-MOPGFXCFSA-N',\n",
       " 'GFEHACHKMVZGNQ-HOTGVXAUSA-N',\n",
       " 'GGEKOZPXKBYLNK-UHFFFAOYSA-N',\n",
       " 'GHXZTYHSJHQHIJ-UHFFFAOYSA-N',\n",
       " 'GIVBBFGMRNXKPE-HJOGWXRNSA-N',\n",
       " 'GJNIPWYJQUGERM-BFLUCZKCSA-N',\n",
       " 'GNANSBQAIRJZPA-XZOQPEGZSA-N',\n",
       " 'GNSLACGSDSJAIQ-UHFFFAOYSA-N',\n",
       " 'GOIYKVXXGCPHQU-BPUTZDHNSA-N',\n",
       " 'GOMNOOKGLZYEJT-UHFFFAOYSA-N',\n",
       " 'GOYCBKVVHGALFQ-RZAIGCCYSA-N',\n",
       " 'GPOKTQCDBPECSS-MRXNPFEDSA-N',\n",
       " 'GQFHIYFXQQEWME-LLVKDONJSA-N',\n",
       " 'GQKBYZPVKVXMJL-LAFNQVRVSA-N',\n",
       " 'GRQLDCHTDNYVQI-UHFFFAOYSA-N',\n",
       " 'GTOFKXZQQDSVFH-IMWMWJONNA-N',\n",
       " 'GTOFKXZQQDSVFH-SECBINFHSA-N',\n",
       " 'GTOFKXZQQDSVFH-UHFFFAOYSA-N',\n",
       " 'GUBGYTABKSRVRQ-CUHNMECISA-N',\n",
       " 'GUBGYTABKSRVRQ-PICCSMPSSA-N',\n",
       " 'GUBGYTABKSRVRQ-QKKXKWKRSA-N',\n",
       " 'GUBGYTABKSRVRQ-WWZHPTPQSA-N',\n",
       " 'GUCKKCMJTSNWCU-BQBZGAKWSA-N',\n",
       " 'GUHPRPJDBZHYCJ-UHFFFAOYSA-N',\n",
       " 'GUNRMHMEAWSZQE-UHFFFAOYSA-N',\n",
       " 'GWEHVDNNLFDJLR-UHFFFAOYSA-N',\n",
       " 'GWEJFLVSOGNLSS-WPFOTENUSA-N',\n",
       " 'GXJABQQUPOEUTA-OLKMYRHANA-N',\n",
       " 'GXJABQQUPOEUTA-RDJZCZTQSA-N',\n",
       " 'GYILVHHTCYNIOS-UHFFFAOYSA-N',\n",
       " 'GZBLEJZADHZBBZ-HOTGVXAUSA-N',\n",
       " 'GZJXZKGVHLWBOW-AISSFXTFSA-N',\n",
       " 'HARXAJAHMRMERT-HOTGVXAUSA-N',\n",
       " 'HAWINQMQXQMONI-OBPZNAFQSA-N',\n",
       " 'HBBGSNOHAGNQRQ-UHFFFAOYSA-N',\n",
       " 'HCMZDPYSWPSKSP-XPGKHFPBSA-N',\n",
       " 'HCZKYJDFEPMADG-TXEJJXNPSA-N',\n",
       " 'HDACQVRGBOVJII-JBDAPHQKSA-N',\n",
       " 'HDACQVRGBOVJII-ZPFYXUQANA-N',\n",
       " 'HDCXQTPVTAIPNZ-UHFFFAOYSA-N',\n",
       " 'HDIHNBCCQWMVBW-UHFFFAOYSA-N',\n",
       " 'HDQMHAJOIVYOIP-NAVBLJQLSA-N',\n",
       " 'HEPUIGACZYVUCD-YZRQSVRMSA-N',\n",
       " 'HFHDHCJBZVLPGP-RWMJIURBSA-N',\n",
       " 'HFRHWTYCVGKGIE-UHFFFAOYSA-N',\n",
       " 'HGAKLLFPOGATII-UHFFFAOYSA-N',\n",
       " 'HGDUWJVGIGLVOH-ZEQRLZLVSA-N',\n",
       " 'HGLWHYRZHMOCMC-CVEARBPZSA-N',\n",
       " 'HITJFUSPLYBJPE-UHFFFAOYSA-N',\n",
       " 'HKNUDJDAVYPTGD-NGYBGAFCSA-N',\n",
       " 'HKODPZBPODONGO-UHFFFAOYSA-N',\n",
       " 'HLBCBFBFJWGTFR-QKXNMUHCSA-N',\n",
       " 'HQLQTGGLHBYZSA-ZDUSSCGKSA-N',\n",
       " 'HQMKYAZGNUQLJB-DCFYERRSSA-N',\n",
       " 'HQWKMDKTTCPCMQ-UHFFFAOYSA-N',\n",
       " 'HQYVHBCTLFPWRQ-ZMFOIVQCSA-N',\n",
       " 'HRYIDVZLDQBLFF-UHFFFAOYSA-N',\n",
       " 'HTTJABKRGRZYRN-UHFFFAOYSA-N',\n",
       " 'HVLSCZSVTCNAQX-UHFFFAOYSA-N',\n",
       " 'HVQAJTFOCKOKIN-UHFFFAOYSA-N',\n",
       " 'HWVGILTYGZFGLR-AGDOHHJYNA-N',\n",
       " 'HWVGILTYGZFGLR-KRWDZBQOSA-N',\n",
       " 'HWVGILTYGZFGLR-QGZVFWFLSA-N',\n",
       " 'HXQLTRSIZRSFTR-UHFFFAOYSA-N',\n",
       " 'HZKKJPDVZGOOPU-PZJWPPBQSA-N',\n",
       " 'IAIDUHCBNLFXEF-MNEFBYGVSA-N',\n",
       " 'IAOZJIPTCAWIRG-QWRGUYRKSA-N',\n",
       " 'IBALRBWGSVJPAP-FXBPSFAMSA-N',\n",
       " 'IBIUTOFGXGGVKQ-XMTFNYHQSA-N',\n",
       " 'IBJDCVXDXGFGIO-FKTQTOOFSA-N',\n",
       " 'ICACWKLCNCPHAM-YJBOKZPZSA-N',\n",
       " 'ICFJFFQQTFMIBG-UHFFFAOYSA-N',\n",
       " 'ICLKAUQIPVFHOI-UHFFFAOYSA-N',\n",
       " 'IDTMSHGCAZPVLC-RYUDHWBXSA-N',\n",
       " 'IEEYGOJDTRVYGR-UHFFFAOYSA-N',\n",
       " 'IEMLKNHGGSYOMP-ZZXKWVIFSA-N',\n",
       " 'IFBHRQDFSNCLOZ-YBXAARCKSA-N',\n",
       " 'IFFPICMESYHZPQ-UHFFFAOYNA-N',\n",
       " 'IFFPICMESYHZPQ-UHFFFAOYSA-N',\n",
       " 'IGFTZEOFHWPCDL-UHFFFAOYSA-N',\n",
       " 'IGOULVZYQKJJKC-UHFFFAOYSA-N',\n",
       " 'IHKCOKRMJRDWAL-UHFFFAOYSA-N',\n",
       " 'IIBYAHWJQTYFKB-UHFFFAOYSA-N',\n",
       " 'IISBACLAFKSPIT-UHFFFAOYSA-N',\n",
       " 'IIZOWFNBOXPJES-SNVBAGLBSA-N',\n",
       " 'IJPNRBZMRINMMR-UHFFFAOYSA-N',\n",
       " 'IKZACQMAVUIGPY-HOTGVXAUSA-N',\n",
       " 'IMPVZRLKKKXMKQ-SGDOCVTFSA-N',\n",
       " 'INSBKYCYLCEBOD-UHFFFAOYSA-N',\n",
       " 'IOFPEOPOAMOMBE-MRVPVSSYSA-N',\n",
       " 'IOFPEOPOAMOMBE-QMMMGPOBSA-N',\n",
       " 'IOJUJUOXKXMJNF-UHFFFAOYSA-N',\n",
       " 'IOOWNWLVCOUUEX-WPRPVWTQSA-N',\n",
       " 'IOUVKUPGCMBWBT-QNDFHXLGSA-N',\n",
       " 'IOVGROKTTNBUGK-SJCJKPOMSA-N',\n",
       " 'IPOKCKJONYRRHP-FMQUCBEESA-N',\n",
       " 'IPWQOZCSQLTKOI-QMMMGPOBSA-N',\n",
       " 'IQMLIGOOOFEBAH-CVEARBPZSA-N',\n",
       " 'IRHZCQDCMUWUKV-RAXLEYEMSA-N',\n",
       " 'IRJUSGUHNFMVCK-OAQYLSRUSA-N',\n",
       " 'ITVRELFVFCOUMV-ZVZWZHPPSA-N',\n",
       " 'IUDCAKKZLXFOQA-QJAPXLAMSA-N',\n",
       " 'IUFRDGFKAVLPFZ-CSMHCCOUSA-N',\n",
       " 'IWPMQJKXKKKSEY-SFHVURJKSA-N',\n",
       " 'IXDVPACDZDRCTN-UHFFFAOYSA-N',\n",
       " 'IXFOBQXJWRLXMD-ZIQFBCGOSA-N',\n",
       " 'IYAWTDCWUJJPHZ-ZDUSSCGKSA-N',\n",
       " 'IYBLVRRCNVHZQJ-UHFFFAOYSA-N',\n",
       " 'IZTQOLKUZKXIRV-YRVFCXMDSA-N',\n",
       " 'JALUUBQFLPUJMY-NSHDSACASA-N',\n",
       " 'JCRSHQCFRMCMOC-GSDHBNRESA-N',\n",
       " 'JCZLABDVDPYLRZ-AWEZNQCLSA-N',\n",
       " 'JCZUIWYXULSXSW-UHFFFAOYSA-N',\n",
       " 'JDGOPNUGILVNJZ-IBGZPJMESA-N',\n",
       " 'JDVLYAYDIMUAAC-UHFFFAOYSA-N',\n",
       " 'JGMMFVVACJREFE-KRWDZBQOSA-N',\n",
       " 'JGZSVYZIJHGHMA-MOPGFXCFSA-N',\n",
       " 'JHOZVRGNIYFYHE-UHFFFAOYSA-N',\n",
       " 'JJLGQWCKMHPBEB-DEOSSOPVSA-N',\n",
       " 'JJPKFZAOXOEFHQ-UHFFFAOYSA-N',\n",
       " 'JNKZDIBIDJQPGC-BOMBAVFCSA-N',\n",
       " 'JNNIZILNBMPOAC-GPHNJDIKSA-N',\n",
       " 'JNNIZILNBMPOAC-MOXQZVSFSA-N',\n",
       " 'JNRAPROKLOUIRA-AWEZNQCLSA-N',\n",
       " 'JOAALZBSMWLOPQ-LJAQVGFWSA-N',\n",
       " 'JOGOACSSLJEREC-UHFFFAOYSA-N',\n",
       " 'JPGNPKIYCTXJPG-UHFFFAOYSA-O',\n",
       " 'JPQYVEFTAZEPOD-BXKDBHETSA-N',\n",
       " 'JPUKWEQWGBDDQB-QSOFNFLRSA-N',\n",
       " 'JPZXHKDZASGCLU-LBPRGKRZSA-N',\n",
       " 'JRVIIPJSVKTPBK-UHFFFAOYSA-N',\n",
       " 'JRWZLRBJNMZMFE-UHFFFAOYNA-N',\n",
       " 'JRWZLRBJNMZMFE-UHFFFAOYSA-N',\n",
       " 'JSBCZGSPFATCOV-BZNQNGANSA-N',\n",
       " 'JSDRRTOADPPCHY-HSQYWUDLSA-N',\n",
       " 'JSDRRTOADPPCHY-LFZUMUCENA-N',\n",
       " 'JSPAHXDHRUTBDP-VKTKOMAXSA-L',\n",
       " 'JTIIYPHJIDENCW-JTQLQIEISA-N',\n",
       " 'JUCZMZWYUIRMPL-NPPSNIQKSA-N',\n",
       " 'JXJYTERRLRAUSF-JKSUJKDBSA-N',\n",
       " 'JYGLAHSAISAEAL-UHFFFAOYSA-N',\n",
       " 'JYKFWUXBFJJDTP-GNLPSFAGNA-N',\n",
       " 'JYKFWUXBFJJDTP-HXUWFJFHSA-N',\n",
       " 'KBXXIYHMPQZHCH-SECBINFHSA-N',\n",
       " 'KBXXIYHMPQZHCH-VIFPVBQESA-N',\n",
       " 'KCELZXZDIUJGNM-GUYCJALGSA-N',\n",
       " 'KDZOASGQNOPSCU-NTSWFWBYSA-N',\n",
       " 'KEGUALXMKQVDIO-UHFFFAOYSA-N',\n",
       " 'KGDWLSFLMSFPSU-INIZCTEOSA-N',\n",
       " 'KGFDIRSBGRVEFZ-SECBINFHSA-N',\n",
       " 'KGHMYJFHUHFOGL-UHFFFAOYSA-N',\n",
       " 'KGOYCHSKGXJDND-DHZHZOJOSA-N',\n",
       " 'KGUVBHLPMGERAT-NIYFSFCBSA-N',\n",
       " 'KIHQWOBUUIPWAN-UHFFFAOYSA-N',\n",
       " 'KIJXWOGFYAWTNC-UHFFFAOYSA-N',\n",
       " 'KIUKXJAPPMFGSW-MNSSHETKSA-N',\n",
       " 'KJFMBFZCATUALV-UHFFFAOYSA-N',\n",
       " 'KJSNEFAXFLDDDR-HOTGVXAUSA-N',\n",
       " 'KJSNEFAXFLDDDR-JKSUJKDBSA-N',\n",
       " 'KJUSXMYSVXZFDJ-UHFFFAOYSA-N',\n",
       " 'KKJYVDXDZURHMA-UHFFFAOYSA-N',\n",
       " 'KMGPJKOKSYGMJD-UHFFFAOYSA-N',\n",
       " 'KOLDLUFBEMUZIM-YNPGLMGXSA-N',\n",
       " 'KPHLTCNXHCHMOW-MNOVXSKESA-N',\n",
       " 'KPMMESISHWWXNM-ROUUACIJSA-N',\n",
       " 'KSFDVNIKNYXUIP-UHFFFAOYSA-N',\n",
       " 'KUWPCJHYPSUOFW-YBXAARCKSA-N',\n",
       " 'KUZKVXUOMSVPOA-BQBZGAKWSA-N',\n",
       " 'KVZMXOVSHIMGNA-CVEARBPZSA-N',\n",
       " 'KVZMXOVSHIMGNA-HOTGVXAUSA-N',\n",
       " 'KWLUIYFCMHKLKY-NDEPHWFRSA-N',\n",
       " 'KWMZPXRIEZDXAQ-QRZGKKJRSA-N',\n",
       " 'KXKPYJOVDUMHGS-OSRGNVMNSA-N',\n",
       " 'KYQZWONCHDNPDP-QNDFHXLGSA-N',\n",
       " 'KYQZWONCHDNPDP-ZMPNCUQONA-N',\n",
       " 'KYRSNWPSSXSNEP-ZRTHHSRSSA-N',\n",
       " 'KZNIFHPLKGYRTM-UHFFFAOYSA-N',\n",
       " 'LABSPYBHMPDTEL-LIZSDCNHSA-N',\n",
       " 'LAZPCGBRHLARSI-UHFFFAOYSA-N',\n",
       " 'LBAHOXPDTNUYCX-INIZCTEOSA-N',\n",
       " 'LBEMJFIVKDOIBO-UHFFFAOYSA-N',\n",
       " 'LCAWNFIFMLXZPQ-UHFFFAOYSA-N',\n",
       " 'LCGSYJVWLGYWTD-UHFFFAOYSA-N',\n",
       " 'LDNKNKRRFZRLIG-HWQJWEFDSA-N',\n",
       " 'LFGYSFPVLMPUPE-UHFFFAOYSA-N',\n",
       " 'LGJCDEZMANATFA-ZDUSSCGKSA-N',\n",
       " 'LHPRYOJTASOZGJ-UHFFFAOYSA-N',\n",
       " 'LHVDNDIAMJOEKH-UHFFFAOYSA-N',\n",
       " 'LIGACKDHLKEZFH-GOSISDBHSA-N',\n",
       " 'LIRCDOVJWUGTMW-ZWNOBZJWSA-N',\n",
       " 'LJJKNPQAGWVLDQ-SNVBAGLBSA-N',\n",
       " 'LKCWBDHBTVXHDL-RMDFUYIESA-N',\n",
       " 'LMGQGPVCSYOMNS-UHFFFAOYSA-N',\n",
       " 'LNLWXWOYQHAKTD-ULQDDVLXSA-N',\n",
       " 'LNMNPGKCSJFAGN-UHFFFAOYSA-N',\n",
       " 'LNPDTQAFDNKSHK-UHFFFAOYSA-N',\n",
       " 'LOYXUXZQQVEADT-UHFFFAOYSA-N',\n",
       " 'LRRAIRJIZOLGPR-UHFFFAOYSA-N',\n",
       " 'LSLYOANBFKQKPT-UHFFFAOYNA-N',\n",
       " 'LSLYOANBFKQKPT-UHFFFAOYSA-N',\n",
       " 'LUCFRFDOOYLALP-CYBMUJFWSA-N',\n",
       " 'LUCFRFDOOYLALP-UGPWUYPHNA-N',\n",
       " 'LUEWUZLMQUOBSB-HGDSAIHNSA-N',\n",
       " 'LUMKNAVTFCDUIE-VHXPQNKSSA-N',\n",
       " 'LVLHTGJPIBVDTM-ZVBGSRNCSA-N',\n",
       " 'LVNMYQLXKMSQTG-AWEZNQCLSA-N',\n",
       " 'LWFFSSMDFWZNNW-LBPRGKRZSA-N',\n",
       " 'LXSDGQYDSDIUPN-UHFFFAOYSA-N',\n",
       " 'LXWNTLBMNCXRQN-UHFFFAOYSA-N',\n",
       " 'LZDZCEOFJWRJIA-GGASBGQWSA-N',\n",
       " 'LZFZMUMEGBBDTC-QEJZJMRPSA-N',\n",
       " 'MACLRJNEKXUAJK-YDLSIGKMSA-N',\n",
       " 'MAJHCCQPIDXPAN-QMMMGPOBSA-N',\n",
       " 'MBJYEMUMDMGQQC-UHFFFAOYSA-N',\n",
       " 'MBNITLCAVXHYER-DHAMQIFDSA-N',\n",
       " 'MDGWZLQPNOETLH-UHFFFAOYSA-N',\n",
       " 'MDKGKXOCJGEUJW-UHFFFAOYNA-N',\n",
       " 'MDKGKXOCJGEUJW-UHFFFAOYSA-N',\n",
       " 'MDSVGJAUFNXYRR-WTGUMLROSA-N',\n",
       " 'MDWNFWDBQGOKNZ-ROGRTUOXNA-N',\n",
       " 'MDWNFWDBQGOKNZ-XYUDZHFQSA-N',\n",
       " 'MEPJWLFTTFHOQO-MOPGFXCFSA-N',\n",
       " 'MERNPSIIBFTCAI-UHFFFAOYSA-N',\n",
       " 'MERYMLLGRCNRKE-HILJTLORSA-N',\n",
       " 'MEUAVGJWGDPTLF-UHFFFAOYSA-N',\n",
       " 'MFDBNNQUDZFSES-KRWDZBQOSA-N',\n",
       " 'MFDXHRPPSJRQFX-UHFFFAOYSA-N',\n",
       " 'MGSDFCKWGHNUSM-QVPNGJTFSA-N',\n",
       " 'MIDZLCFIAINOQN-WPRPVWTQSA-N',\n",
       " 'MJWCZWAVSJZQNL-KBPBESRZSA-N',\n",
       " 'MKKYBZZTJQGVCD-XTCKQBCOSA-N',\n",
       " 'MKRPIBSCGZAUCH-OAHLLOKOSA-N',\n",
       " 'MMLOIDMSBRJZAE-FQEVSTJZSA-N',\n",
       " 'MMOUXLMPQFMDRD-JOCHJYFZSA-N',\n",
       " 'MMWNOZXGYRPSCJ-LZQZEXGQSA-N',\n",
       " 'MNHPHKFLWAPNOV-UHFFFAOYSA-N',\n",
       " 'MOCIXHUQBOUBAK-HNNXBMFYSA-N',\n",
       " 'MOPRTFSMCQNUCT-CABCVRRESA-N',\n",
       " 'MOPRTFSMCQNUCT-PVRQQBJHNA-N',\n",
       " 'MPBUFKZCEBTBSK-UHFFFAOYSA-N',\n",
       " 'MQBDAEHWGRMADS-XNHLMZCASA-M',\n",
       " 'MQJKPEGWNLWLTK-UHFFFAOYSA-N',\n",
       " 'MQMHIOPMTAJOHV-RTWAWAEBSA-N',\n",
       " 'MQOBSOSZFYZQOK-UHFFFAOYSA-N',\n",
       " 'MQQNFDZXWVTQEH-UHFFFAOYSA-N',\n",
       " 'MRLVIVXGUGNENL-UHFFFAOYSA-N',\n",
       " 'MRNGXYMKYHNMLV-PKTZIBPZSA-N',\n",
       " 'MRTSIBBMOWLRPY-IHPCNDPISA-N',\n",
       " 'MRXDGVXSWIXTQL-HYHFHBMOSA-N',\n",
       " 'MSRKDROGGGBNIX-VIFPVBQESA-N',\n",
       " 'MURGITYSBWUQTI-UHFFFAOYSA-N',\n",
       " 'MUUVLSCVDXKQQV-OALUTQOASA-N',\n",
       " 'MUVPBAIVOHJDOC-VBKFSLOCSA-N',\n",
       " 'MVDWLRCTJUXCCB-UHFFFAOYSA-N',\n",
       " 'MWTQNXVXPLTHJB-YADHBBJMSA-N',\n",
       " 'MXICWYSXOKPLOW-UHFFFAOYSA-P',\n",
       " 'MZNXJCZDQRNGRC-GJZGRUSLSA-N',\n",
       " 'NAQUAVBNIYTIIS-UHFFFAOYSA-N',\n",
       " 'NCEXYHBECQHGNR-QZQOTICOSA-N',\n",
       " 'NCNRHFGMJRPRSK-MDZDMXLPSA-N',\n",
       " 'NDDOUBGQRWFVQM-QWHCGFSZSA-N',\n",
       " 'NDDSSAGSYFVBTG-SFTDATJTSA-N',\n",
       " 'NEDPPCHNEOMTJV-UHFFFAOYSA-N',\n",
       " 'NEMGRZFTLSKBAP-LBPRGKRZSA-N',\n",
       " 'NETPVFJEHOGNPJ-JTQLQIEISA-N',\n",
       " 'NEYNJQRKHLUJRU-DZUOILHNSA-N',\n",
       " 'NFVBVKHGDDDCEA-UHFFFAOYSA-N',\n",
       " 'NGPCLOGFGKJCBP-HOTGVXAUSA-N',\n",
       " 'NITYDPDXAAFEIT-DYVFJYSZSA-N',\n",
       " 'NITYDPDXAAFEIT-HTCGWVBYNA-N',\n",
       " 'NKGNOWNPXBURRW-UHFFFAOYSA-N',\n",
       " 'NLBDETRVUYOIHQ-UHFFFAOYSA-N',\n",
       " 'NLEBIOOXCVAHBD-YHBSTRCHSA-N',\n",
       " 'NLVFBUXFDBBNBW-PBSUHMDJSA-N',\n",
       " 'NMKSAYKQLCHXDK-UHFFFAOYSA-N',\n",
       " 'NMOUMGFCBOWPAB-RZUBCFFCSA-N',\n",
       " 'NNGZRCYXFBHMRM-UHFFFAOYSA-N',\n",
       " 'NOIIUHRQUVNIDD-UHFFFAOYSA-N',\n",
       " 'NOXVWFAAXREWMI-GURWAVDKSA-N',\n",
       " 'NQABUEUFRXDDFI-AWEZNQCLSA-N',\n",
       " 'NQRIWXVAIWPBEM-OALUTQOASA-N',\n",
       " 'NSKGQURZWSPSBC-VVPCINPTSA-N',\n",
       " 'NTDFJEKGSGSXME-UHFFFAOYSA-N',\n",
       " 'NUNQIQQEEPOGDJ-JDOAOKHLSA-N',\n",
       " 'NWKJBFSBEAMDBE-UHFFFAOYSA-N',\n",
       " 'NXMUSVRWCFYOTJ-UHFFFAOYSA-N',\n",
       " 'OACUXIVGLLCILS-ZEQRLZLVSA-N',\n",
       " 'OAWORKDPTSAMBZ-STQMWFEESA-N',\n",
       " 'OBWHQJYOOCRPST-UHFFFAOYSA-N',\n",
       " 'OBWILOKKNDYPLX-HBMCJLEFSA-N',\n",
       " 'OBZSRKUYUGJGIM-JTQLQIEISA-N',\n",
       " 'OCAPBUJLXMYKEJ-UHFFFAOYNA-N',\n",
       " 'OCAPBUJLXMYKEJ-UHFFFAOYSA-N',\n",
       " 'OELFLUMRDSZNSF-BRWVUGGUSA-N',\n",
       " 'OEVYDSSAPNIURZ-AEFFLSMTSA-N',\n",
       " 'OEVYDSSAPNIURZ-PWQNQZOANA-N',\n",
       " 'OFHMUASCSJJNNA-JOCHJYFZSA-N',\n",
       " 'OFPXSFXSNFPTHF-UHFFFAOYSA-N',\n",
       " 'OFYAYGJCPXRNBL-LBPRGKRZSA-N',\n",
       " 'OGRPZMQLAVBWPV-UHFFFAOYSA-N',\n",
       " 'OGZMPQOWGQBWAV-PRXAMGSTSA-N',\n",
       " 'OIRCOABEOLEUMC-GEJPAHFPSA-N',\n",
       " 'OIWWNWQZJJKBTR-CYBMUJFWSA-N',\n",
       " 'OIWWNWQZJJKBTR-UGPWUYPHNA-N',\n",
       " 'OJCFZTVYDSKXNM-GXSJLCMTSA-N',\n",
       " 'OKJHGOPITGTTIM-DEOSSOPVSA-N',\n",
       " 'OLUDUXWVPIEHDA-UHFFFAOYSA-N',\n",
       " 'OMOPDEZZBQHMGS-AWEZNQCLSA-N',\n",
       " 'ONZDNYIINYVFKD-UHFFFAOYSA-N',\n",
       " 'OODDZQQDDOVCFD-KUWVVDADNA-N',\n",
       " 'OODDZQQDDOVCFD-SCLBCKFNSA-N',\n",
       " 'OOUGLTULBSNHNF-UHFFFAOYSA-N',\n",
       " 'OQLKNTOKMBVBKV-UHFFFAOYSA-N',\n",
       " 'ORDDZWUXFDJWPR-QDJBTJTOSA-N',\n",
       " 'OTTYWVUOPWENAJ-HOJAQTOUSA-N',\n",
       " 'OTVAEFIXJLOWRX-NXEZZACHSA-N',\n",
       " 'OUBRALHIKGRAMA-UHFFFAOYSA-N',\n",
       " 'OUGIDAPQYNCXRA-UHFFFAOYSA-N',\n",
       " 'OWWCIKSGGKYNHT-ZDUSSCGKSA-N',\n",
       " 'OZWKMVRBQXNZKK-UHFFFAOYNA-N',\n",
       " 'OZWKMVRBQXNZKK-UHFFFAOYSA-N',\n",
       " 'PAOGOXGDGABPSC-SGNDLWITSA-N',\n",
       " 'PBAPPPCECJKMCM-IBGZPJMESA-N',\n",
       " 'PCCHJIAHIWBHDQ-CNXMXSPQSA-N',\n",
       " 'PEFNSGRTCBGNAN-QNDFHXLGSA-N',\n",
       " 'PEUIVMLYMKXUBF-PULJXETJSA-N',\n",
       " 'PFGVNLZDWRZPJW-OPAMFIHVSA-N',\n",
       " 'PFQGLFBMMPZYEU-UHFFFAOYSA-N',\n",
       " 'PGBHMTALBVVCIT-HZWKZPHJNA-N',\n",
       " 'PGBHMTALBVVCIT-VCIWKGPPSA-N',\n",
       " 'PHDOXVGRXXAYEB-VJANTYMQSA-N',\n",
       " 'PHGMHLLGXKQIDY-QMMMGPOBSA-N',\n",
       " 'PHTAQVMXYWFMHF-QVPNGJTFSA-N',\n",
       " 'PIUSLWSYOYFRFR-BQBZGAKWSA-N',\n",
       " 'PIUSLWSYOYFRFR-UHFFFAOYSA-N',\n",
       " 'PJVWKTKQMONHTI-HNNXBMFYSA-N',\n",
       " 'PJVWKTKQMONHTI-OAHLLOKOSA-N',\n",
       " 'PJVWKTKQMONHTI-UHFFFAOYSA-N',\n",
       " 'PLBINCOCFGQAJM-UHFFFAOYSA-N',\n",
       " 'PPDLAUCFAOODER-UHFFFAOYSA-N',\n",
       " 'PPIYQXGSPPWVLJ-CONSDPRKSA-N',\n",
       " 'PPLDARNGJSQINK-OKZBNKHCSA-N',\n",
       " 'PPTCQJLGUKWAEP-SNVBAGLBSA-N',\n",
       " 'PREBVFJICNPEKM-YDWXAUTNSA-N',\n",
       " 'PSLFQKRPFOCZHR-UHFFFAOYSA-N',\n",
       " 'PSUOZWHAKZSNOB-LBPRGKRZSA-N',\n",
       " 'PTGXAUBQBSGPKF-UHFFFAOYSA-N',\n",
       " 'PTRUIYBNRUNGLM-SECBINFHSA-N',\n",
       " 'PUAJYWYRZTYQKS-GOTSBHOMSA-N',\n",
       " 'PUHRQSFXADUGJW-OAQYLSRUSA-N',\n",
       " 'PUOKYJMONGPAIM-UHFFFAOYSA-O',\n",
       " 'PVALLOSAENRPQO-INIZCTEOSA-N',\n",
       " 'PVFGJHYLIHMCQD-UHFFFAOYSA-N',\n",
       " 'PWDGTQXZLNDOKS-UHFFFAOYSA-N',\n",
       " 'PXERBGNIBOFZOW-UHFFFAOYSA-N',\n",
       " 'PYHXGXCGESYPCW-UHFFFAOYSA-N',\n",
       " 'PYNXFZCZUAOOQC-UTKZUKDTSA-N',\n",
       " 'PZWMZAFFUAWVDN-CQXYXCHQSA-N',\n",
       " 'QAHLFXYLXBBCPS-IZEXYCQBSA-N',\n",
       " 'QASSMVGOSBNFQY-UHFFFAOYSA-N',\n",
       " 'QBDSZLJBMIMQRS-UHFFFAOYSA-N',\n",
       " 'QCUBCTPTNWPFBC-ZEQRLZLVSA-N',\n",
       " 'QDTWKLJWNHRCPJ-HMMYKYKNSA-N',\n",
       " 'QEFAQIPZVLVERP-UHFFFAOYSA-N',\n",
       " 'QELOIXSGJMIHBZ-MSOLQXFVSA-N',\n",
       " 'QFAWBPLETHINFK-UNMCSNQZSA-N',\n",
       " 'QFYJAEOZTBVJQM-STQMWFEESA-N',\n",
       " 'QGWRMTHFAZVWAM-WDSKDSINSA-N',\n",
       " 'QISJEFYTLZTWIQ-CQSZACIVSA-N',\n",
       " 'QIZKCGBBVPUBJL-ZYHUDNBSSA-N',\n",
       " 'QKGFTDAISIBIBV-UHFFFAOYSA-N',\n",
       " 'QLOIOASGERKBSU-NYVOZVTQSA-N',\n",
       " 'QLXOHIUDKNRVBZ-UHFFFAOYSA-N',\n",
       " 'QMNMNSINKIFYBV-LMMKCTJWSA-N',\n",
       " 'QNZDHHNWUXIYOH-FQEVSTJZSA-N',\n",
       " 'QPKYPOMZPFDBEZ-UHFFFAOYSA-N',\n",
       " 'QPXXBNKMAHUXBB-PMACEKPBSA-N',\n",
       " 'QQBDLJCYGRGAKP-FOCLMDBBSA-N',\n",
       " 'QQDWEVONJRXVDB-UHFFFAOYSA-N',\n",
       " 'QRDDFQYJOFVDNR-HOTGVXAUSA-N',\n",
       " 'QRGBOABBMKYMLG-MYKRFBFLNA-N',\n",
       " 'QRGBOABBMKYMLG-UXHICEINSA-N',\n",
       " 'QRZAKQDHEVVFRX-UHFFFAOYSA-N',\n",
       " 'QSSWSEQPKCCATQ-VQTJNVASSA-N',\n",
       " 'QTWBKNVNGVYTNZ-UHFFFAOYSA-N',\n",
       " 'QWCJHSGMANYXCW-UHFFFAOYSA-N',\n",
       " 'QWNATFSCUHKKDP-WYKVUHPSSA-N',\n",
       " 'QXMPYGCWDMKRMF-IRXDYDNUSA-N',\n",
       " 'QXZGBUJJYSLZLT-FDISYFBBSA-N',\n",
       " 'QYFGPQQSJQOGEO-TVJRNMROSA-N',\n",
       " 'QYZPDCGWIJYZMN-ZBFHGGJFSA-N',\n",
       " 'QZKOOEFIMWKZPK-UHFFFAOYSA-Q',\n",
       " 'QZWUMLLRAVGBHC-UHFFFAOYSA-N',\n",
       " 'RALBRZJHHGWNNU-BBBLOLIVSA-N',\n",
       " 'RCGCZPXSRLLKCK-MRXNPFEDSA-N',\n",
       " 'RDJGLLICXDHJDY-UHFFFAOYSA-N',\n",
       " 'RDPXXOOKKRIKFN-UHFFFAOYSA-N',\n",
       " 'REPVVNYZORKKPQ-SNVBAGLBSA-N',\n",
       " 'RJJDIVMWGWHPFE-QDBSGRMGSA-N',\n",
       " 'RJXOEUFRQATKAB-NWDGAFQWSA-N',\n",
       " 'RJXOEUFRQATKAB-RYUDHWBXSA-N',\n",
       " 'RKWXKADYTDWZIJ-VIFPVBQESA-N',\n",
       " 'RLAWWYSOJDYHDC-BZSNNMDCSA-N',\n",
       " 'RLAWWYSOJDYHDC-CRFFOPCENA-N',\n",
       " 'RMWVENXKUQXLPW-UHFFFAOYSA-N',\n",
       " 'RNZKCCPFUWHBFY-IBGZPJMESA-N',\n",
       " 'RNZKCCPFUWHBFY-TWYLJJHKNA-N',\n",
       " 'RONLONYAIBUEKT-IBGZPJMESA-N',\n",
       " 'RPGVMAPDADAHPV-UHFFFAOYSA-N',\n",
       " 'RRXVUYHFDBLTEL-UHFFFAOYSA-N',\n",
       " 'RSSOZTMMMIWOJB-AAEUAGOBSA-N',\n",
       " 'RTFGEFWZCFCODU-RBUKOAKNSA-N',\n",
       " 'RTIXKCRFFJGDFG-UHFFFAOYSA-N',\n",
       " 'RVTGFZGNOSKUDA-ZNGNCRBCSA-N',\n",
       " 'RWCCWEUUXYIKHB-UHFFFAOYSA-N',\n",
       " 'RWSXRVCMGQZWBV-IOMOGOHMNA-N',\n",
       " 'RWSXRVCMGQZWBV-WDSKDSINSA-N',\n",
       " 'RXNYJUSEXLAVNQ-UHFFFAOYSA-N',\n",
       " 'RXOHFPCZGPKIRD-UHFFFAOYSA-N',\n",
       " 'RYABQRLJLIHDIP-KSSFIOAISA-N',\n",
       " 'RYAZZWWVNUWKNB-AWEZNQCLSA-N',\n",
       " 'RYKFVFFOIYLADT-SFHVURJKSA-N',\n",
       " 'RZWYSEXQXOXWKA-INIZCTEOSA-N',\n",
       " 'SBNPWPIBESPSIF-MHWMIDJBSA-N',\n",
       " 'SBUJHOSQTJFQJX-NOAMYHISSA-N',\n",
       " 'SBVYURPQULDJTI-UHFFFAOYSA-N',\n",
       " 'SCHAHXXLASZJCD-NVGCLXPQSA-N',\n",
       " 'SETFNECMODOHTO-UHFFFAOYSA-N',\n",
       " 'SFUOOKBZBVUDBC-VQTJNVASSA-N',\n",
       " 'SGUAFYQXFOLMHL-UHFFFAOYNA-N',\n",
       " 'SGUAFYQXFOLMHL-UHFFFAOYSA-N',\n",
       " 'SHCHFGSUYJUEBR-INIZCTEOSA-N',\n",
       " 'SJMNJNRKVVVGRB-SECBINFHSA-L',\n",
       " 'SLHKDOGTVUCXKX-UHFFFAOYSA-N',\n",
       " 'SLMGIUOAZCYKPE-CQSZACIVSA-N',\n",
       " 'SMLJDSWXGVMNTH-NRWUCQMLSA-N',\n",
       " 'SMNHQYPORNSAQH-HSZRJFAPSA-N',\n",
       " 'SNMISNLUIRCRQE-SFSRYZOZSA-N',\n",
       " 'SNNNDCMXZYWCCI-UHFFFAOYSA-N',\n",
       " 'SPPTWHFVYKCNNK-FQEVSTJZSA-N',\n",
       " 'SQKXYSGRELMAAU-UHFFFAOYSA-N',\n",
       " 'SQLYTJZXRRDERK-ISKFKSNPSA-N',\n",
       " 'SRAHBOKVSSZEHQ-LSDHHAIUSA-N',\n",
       " 'SRPOHNDQBDHONJ-UHFFFAOYSA-N',\n",
       " 'STENXUCYNKOBHJ-UHFFFAOYSA-N',\n",
       " 'STOHYHPMXPRWTJ-VIFPVBQESA-N',\n",
       " 'STOTVDLYLKWVJB-UHFFFAOYSA-N',\n",
       " 'SUACYXRSGYYBGT-UHFFFAOYSA-N',\n",
       " 'SUGQHICXCRBQOI-CDZUIXILSA-N',\n",
       " 'SUUHZYLYARUNIA-YEWWUXTCSA-N',\n",
       " 'SVFLQOLSPWURCD-CXPJILFNSA-N',\n",
       " 'SVNJBEMPMKWDCO-KCHLEUMXSA-N',\n",
       " 'SVNKEDMVAQBLLN-SVBPBHIXSA-N',\n",
       " 'SVQAZCRYIXURJT-IBGZPJMESA-N',\n",
       " 'SWUARLUWKZWEBQ-VQHVLOKHSA-N',\n",
       " 'SXAUIPSOPPASFY-VHEBQXMUSA-N',\n",
       " 'SXRYVFRVDCDPKH-JTQLQIEISA-N',\n",
       " 'SYKYBMOFPMXDRQ-ZFDCCPEWSA-N',\n",
       " 'SYTBZMRGLBWNTM-SNVBAGLBSA-N',\n",
       " 'SYTBZMRGLBWNTM-UHFFFAOYNA-N',\n",
       " 'SYTBZMRGLBWNTM-UHFFFAOYSA-N',\n",
       " 'TVIDEEHSOPHZBR-AWEZNQCLSA-N',\n",
       " 'TWYNGDRSMHRPSY-MRXNPFEDSA-N',\n",
       " 'TYRGLVWXHJRKMT-QMMMGPOBSA-N',\n",
       " 'TZBJGXHYKVUXJN-UHFFFAOYSA-N',\n",
       " 'TZTPJJNNACUQQR-FQEVSTJZSA-N',\n",
       " 'TZTPJJNNACUQQR-GNLPSFAGNA-N',\n",
       " 'TZWQPWGUQCSKDW-GUYCJALGSA-N',\n",
       " 'UAGYXJBYAFGRFR-KRWDZBQOSA-N',\n",
       " 'UAGYXJBYAFGRFR-QGZVFWFLSA-N',\n",
       " 'UAHFGYDRQSXQEB-GEHPGKANNA-N',\n",
       " 'UAHFGYDRQSXQEB-LEBBXHLNSA-N',\n",
       " 'UBGNMISWPGURDN-XORNHQRDSA-N',\n",
       " 'UCFVFUIGNWHAJJ-UHFFFAOYSA-N',\n",
       " 'UCKHUNHXYMAFQM-UHFFFAOYSA-N',\n",
       " 'UCQIHCRMWNRFNP-QYZOEREBSA-N',\n",
       " 'UCSJYZPVAKXKNQ-HZYVHMACSA-N',\n",
       " 'UDMBRVGTYILYDX-SVFBPWRDSA-N',\n",
       " 'UEDKSAKLZBMNMA-ROUUACIJSA-N',\n",
       " 'UESXELNYBIOROE-QHCPKHFHSA-N',\n",
       " 'UFOIPTZMXQILSG-HKBOAZHASA-N',\n",
       " 'UFSBFVZQJZMIOU-IYKVGLELSA-N',\n",
       " 'UFSBFVZQJZMIOU-LZQZFOIKSA-N',\n",
       " 'UHMORXPPNXDKHY-LOSJGSFVSA-N',\n",
       " 'UILYPHAKDBTKQV-CFCSJWJGNA-N',\n",
       " 'UILYPHAKDBTKQV-UFYCRDLUSA-N',\n",
       " 'UISARWKNNNHPGI-UHFFFAOYSA-N',\n",
       " 'UIUCGMLLTRXRBF-UHFFFAOYSA-N',\n",
       " 'UIZPHGUBGPJBAR-QMMMGPOBSA-N',\n",
       " 'UJIDKYTZIQTXPM-UHFFFAOYSA-N',\n",
       " 'UJIWNECQGQOIKP-SDHOMARFSA-N',\n",
       " 'UJVDJAPJQWZRFR-DHIUTWEWSA-N',\n",
       " 'UJZQBMQZMKFSRV-RGKBJLTCSA-N',\n",
       " 'ULQWGBCNOHBNDB-MRVPVSSYSA-N',\n",
       " 'ULYMHSXFSKOHGH-UHFFFAOYSA-N',\n",
       " 'UMAYFXWVUSVOCQ-QXVNYKTNSA-N',\n",
       " 'UOZODPSAJZTQNH-LSWIJEOBSA-N',\n",
       " 'UPFMKPIBAIPLHT-RSJSDIDPSA-N',\n",
       " 'UPJNMOBJDSFRTI-FCEWJHQRSA-N',\n",
       " 'UPSFMJHZUCSEHU-JYGUBCOQSA-N',\n",
       " 'UPYGSQPRAHMDPD-HNNXBMFYSA-N',\n",
       " 'UQIDNSKBUXCODH-UHFFFAOYSA-N',\n",
       " 'UQWLOWFDKAFKAP-WXHSDQCUSA-N',\n",
       " 'URGFTPMACWKJKU-OAHLLOKOSA-N',\n",
       " 'URJKRCBBKTXOHS-UHFFFAOYSA-N',\n",
       " 'URJKRCBBKTXOHS-UHFFFAOYSA-O',\n",
       " 'USLOIFPDNUDIEG-UHFFFAOYSA-N',\n",
       " 'USNINKBPBVKHHZ-CYUUQNCZSA-L',\n",
       " 'USZAGAREISWJDP-UHFFFAOYSA-N',\n",
       " 'UUOOAGBWJUGBMV-APWZRJJASA-N',\n",
       " 'UVERBUNNCOKGNZ-CQSZACIVSA-N',\n",
       " 'UWOHGNMWBGIRAQ-RKDXNWHRSA-N',\n",
       " 'UYAJDVNLQJVRHD-KUWVVDADNA-N',\n",
       " 'UYAJDVNLQJVRHD-SCLBCKFNSA-N',\n",
       " 'UYEMNFYVTFDKRG-ZNGNCRBCSA-N',\n",
       " 'UYQJCPNSAVWAFU-KVXMBEGHSA-N',\n",
       " 'VABCILAOYCMVPS-UHFFFAOYSA-N',\n",
       " 'VABIMMIJVWNHFI-UHFFFAOYSA-N',\n",
       " 'VAFNMNRKDDAKRM-NSHDSACASA-N',\n",
       " 'VCCMGHVCRFMITI-IIRVCBMXSA-N',\n",
       " 'VCEFNMHMLWBFNV-UHFFFAOYSA-N',\n",
       " 'VCOUEHUEFUDZIS-PMACEKPBSA-N',\n",
       " 'VCOUEHUEFUDZIS-YLBUIOQXNA-N',\n",
       " 'VEGXETMJINRLTH-BOZYPMBZSA-N',\n",
       " 'VFMMPHCGEFXGIP-UHFFFAOYSA-N',\n",
       " 'VGEREEWJJVICBM-UHFFFAOYSA-N',\n",
       " 'VGGGPCQERPFHOB-RDBSUJKOSA-N',\n",
       " 'VGXJNGVFESCMME-UHFFFAOYSA-N',\n",
       " 'VGZSUPCWNCWDAN-UHFFFAOYSA-N',\n",
       " 'VHBFFQKBGNRLFZ-UHFFFAOYSA-N',\n",
       " 'VIZNZQTZRMTYPZ-UHFFFAOYSA-M',\n",
       " 'VJLMRHSHSNLOGC-NOPZTHQXSA-N',\n",
       " 'VLIGBVLLNSWVMI-MRXNPFEDSA-O',\n",
       " 'VMTJQZUZINLEKC-ANBDAQEENA-N',\n",
       " 'VMTJQZUZINLEKC-JOCHJYFZSA-N',\n",
       " 'VOWXAXNVAGLOGM-NGYBGAFCSA-N',\n",
       " 'VSHUQLRHTJOKTA-XBXARRHUSA-N',\n",
       " 'VUWFJUJWAWMRQN-GNLPSFAGNA-N',\n",
       " 'VUWFJUJWAWMRQN-HXUWFJFHSA-N',\n",
       " 'VVVXDHROXQUONB-UHFFFAOYSA-N',\n",
       " 'VVVXDHROXQUONB-UHFFFAOYSA-P',\n",
       " 'VXDAVYUFYPFGDX-SNPRPXQTSA-N',\n",
       " 'VXDKQRWTOJFQKH-BJZITVGISA-N',\n",
       " 'VXIINIMESJGNGI-LQJZCPKCSA-N',\n",
       " 'VXIZYDKGLBPCAQ-VIFPVBQESA-N',\n",
       " 'VYLDPSVXLWTIAJ-HNNXBMFYSA-N',\n",
       " 'VYQNWZOUAUKGHI-UHFFFAOYSA-N',\n",
       " 'VYQQTWUZKPWPRL-WOJGMQOQSA-N',\n",
       " 'VZFTWWJAUZOJDH-MOPGFXCFSA-O',\n",
       " 'VZNNJZGVQVNHCM-CDNLURBZSA-N',\n",
       " 'VZSQTOXQXPKQJX-ZDUSSCGKSA-N',\n",
       " 'WABCRPSWXFHXDH-NYDCQLBNSA-N',\n",
       " 'WABWAIGLGFELMI-FZMZJTMJSA-N',\n",
       " 'WAYOKHSZGNFKSX-ZEEOCKJESA-N',\n",
       " 'WDTMVBQZDFMOIK-GOSISDBHSA-N',\n",
       " 'WFFOOKSVFDUPDH-FCHUYYIVSA-N',\n",
       " 'WFVCNOHOODVBQK-IUBYCILNSA-N',\n",
       " 'WHGYBXFWUBPSRW-FOUAGVGXSA-N',\n",
       " 'WHPKSASOSKNDPY-PKOBYXMFSA-N',\n",
       " 'WIIZWVCIJKGZOK-RKDXNWHRSA-N',\n",
       " 'WKTQBTSOHBKBRW-VMPREFPWSA-N',\n",
       " 'WLNKGRQBMNPVSJ-UHFFFAOYSA-N',\n",
       " 'WLPJLQNKCJWAFL-RGEXLXHISA-N',\n",
       " 'WPGGHFDDFPHPOB-BBWFWOEESA-N',\n",
       " 'WQWCUHJIERBOSM-UHFFFAOYSA-N',\n",
       " 'WSNWYZBDIKCPIG-UHFFFAOYSA-N',\n",
       " 'WUCWJXGMSXTDAV-QKMCSOCLSA-N',\n",
       " 'WUZIMDSVRIBNNI-DEOSSOPVSA-N',\n",
       " 'WVLDNAVUCUAGDP-UHFFFAOYSA-N',\n",
       " 'WVYADZUPLLSGPU-UHFFFAOYSA-N',\n",
       " 'WXYKSWZWRHMJTE-KRWDZBQOSA-N',\n",
       " 'WYHHVZLGTMCKOR-UHFFFAOYSA-N',\n",
       " 'WYZUQFGBWINJOI-KVUHSHOZSA-L',\n",
       " 'WZVRXEOKWMIDDV-HTKJFTDNSA-N',\n",
       " 'WZZVUHWLNMNWLW-VFCSDQTKSA-N',\n",
       " 'XCLFQXCQQHVLJQ-UHFFFAOYSA-O',\n",
       " 'XDFLCBUAVBYWFW-AWEZNQCLSA-N',\n",
       " 'XDFLCBUAVBYWFW-CQSZACIVSA-N',\n",
       " 'XDRYMKDFEDOLFX-UHFFFAOYSA-N',\n",
       " 'XEQPGVUGYAUMSA-UHFFFAOYSA-N',\n",
       " 'XFILPEOLDIKJHX-QYZOEREBSA-N',\n",
       " 'XFKVLKLCLYJKNF-GKEWWSFBNA-N',\n",
       " 'XFKVLKLCLYJKNF-MZNJEOGPSA-N',\n",
       " 'XFNMDMGNNKIXBT-CVEARBPZSA-N',\n",
       " 'XHALVRQBZGZHFE-BBOMDTFKSA-N',\n",
       " 'XHCADAYNFIFUHF-TVKJYDDYSA-N',\n",
       " 'XJQDTOANLAPEIM-JRBPQWBISA-N',\n",
       " 'XLYYIFIRODREFK-UHFFFAOYSA-N',\n",
       " 'XNACDNPGABUBFR-FKNPGSCZSA-N',\n",
       " 'XNYZHCFCZNMTFY-UHFFFAOYSA-N',\n",
       " 'XQMRHWSGTVEDFG-UHFFFAOYSA-N',\n",
       " 'XRHANBWAKSYPEN-UHFFFAOYSA-N',\n",
       " 'XTNGUQKDFGDXSJ-CDXCZCSFNA-N',\n",
       " 'XTNGUQKDFGDXSJ-ZXGKGEBGSA-N',\n",
       " 'XUFDYUSOQQYQRL-UHFFFAOYSA-N',\n",
       " 'XUFQPHANEAPEMJ-UHFFFAOYSA-N',\n",
       " 'XYJWEQWNNKNSFU-STQMWFEESA-N',\n",
       " 'XZWFHJUEAVOHHG-UHFFFAOYSA-N',\n",
       " 'YAEIKQDHLCFGAA-KRWDZBQOSA-N',\n",
       " 'YARKMNAWFIMDKV-UHFFFAOYSA-N',\n",
       " 'YBULOUKTPCHXAL-DEOSSOPVSA-N',\n",
       " 'YDWIUFASTTZKNI-UONOGXRCSA-N',\n",
       " 'YFGHCGITMMYXAQ-LJQANCHMSA-N',\n",
       " 'YFGHCGITMMYXAQ-UHFFFAOYNA-N',\n",
       " 'YFGHCGITMMYXAQ-UHFFFAOYSA-N',\n",
       " 'YFMXWONORHSZEM-DDOVKQMLSA-N',\n",
       " 'YHAMQFKGUUSJMU-DUXBJXIBNA-N',\n",
       " 'YHAMQFKGUUSJMU-KGLIPLIRSA-N',\n",
       " 'YHBCRXAIIVZWEW-MRVPVSSYSA-N',\n",
       " 'YHEHVRSGKUYDON-UHFFFAOYSA-N',\n",
       " 'YHXKXVFQHWJYOD-UHFFFAOYSA-N',\n",
       " 'YJPUATSIKWOSST-UHFFFAOYSA-N',\n",
       " 'YJQZYXCXBBCEAQ-UHFFFAOYSA-N',\n",
       " 'YKNLMMDEWQZCLJ-UHFFFAOYSA-N',\n",
       " 'YKWKWNKWBGQECF-SQNIBIBYSA-N',\n",
       " 'YLLNYDDZOMCFDE-SMDDNHRTSA-N',\n",
       " 'YNWXJFQOCHMPCK-LXGDFETPSA-N',\n",
       " 'YOZBGTLTNGAVFU-UHFFFAOYSA-N',\n",
       " 'YOZKTHGEOJHIDP-UHFFFAOYSA-N',\n",
       " 'YPZRWBKMTBYPTK-BJDJZHNGSA-N',\n",
       " 'YQEMFOGNUTYMTJ-JNBVYXHXSA-N',\n",
       " 'YQPLKJCBEOVDBS-UHFFFAOYSA-N',\n",
       " 'YRALAIOMGQZKOW-HYAOXDFASA-N',\n",
       " 'YRWKEEDITQJPCZ-UHFFFAOYSA-N',\n",
       " 'YSGASDXSLKIKOD-UHFFFAOYSA-N',\n",
       " 'YUMYYTORLYHUFW-ZUDLOMHPSA-N',\n",
       " 'YVUUZAPYLPWFHE-HXFGRODQSA-N',\n",
       " 'YWXHXYSGHBAIBL-KKUMJFAQSA-N',\n",
       " 'YXQQNSYZOQHKHD-UHFFFAOYSA-N',\n",
       " 'YYUZFCLHOQHMPT-UHFFFAOYSA-O',\n",
       " 'YZOKHYPIQNIFRQ-UHFFFAOYSA-N',\n",
       " 'ZAHVYMBTUDWUAX-HNNXBMFYSA-N',\n",
       " 'ZBPLOVFIXSTCRZ-UHFFFAOYSA-N',\n",
       " 'ZECCQELUYUPTSB-UUASQNMZSA-N',\n",
       " 'ZFCKHJJALHETHG-UHFFFAOYSA-O',\n",
       " 'ZFNCKGXGCCDDFN-UHFFFAOYSA-N',\n",
       " 'ZFWHOUCRVSOZJE-AWEZNQCLSA-N',\n",
       " 'ZFWHOUCRVSOZJE-CQSZACIVSA-N',\n",
       " 'ZGJYGQLGSXWEMY-UHFFFAOYSA-N',\n",
       " 'ZHCAYBOLUMAUQX-UHFFFAOYSA-N',\n",
       " 'ZHFDVDMCVXUGGF-NSHDSACASA-N',\n",
       " 'ZHUJMSMQIPIPTF-IBURTVSXSA-N',\n",
       " 'ZKJVCUXZMYKTLT-UHFFFAOYSA-N',\n",
       " 'ZLAHDRAQCSQPOC-UHFFFAOYSA-P',\n",
       " 'ZMWYSLJBNJUCRK-UHFFFAOYSA-N',\n",
       " 'ZPFPZRVOBBMZMP-SFHVURJKSA-N',\n",
       " 'ZPXIQFOUPUVVPU-INIZCTEOSA-N',\n",
       " 'ZQBAKBUEJOMQEX-UHFFFAOYSA-N',\n",
       " 'ZQSIJRDFPHDXIC-UHFFFAOYSA-N',\n",
       " 'ZRYXDGAKQGRHFG-UHFFFAOYSA-N',\n",
       " 'ZSDBFLMJVAGKOU-UHFFFAOYSA-N',\n",
       " 'ZSRRBAKATXAISL-LMNJBCLMSA-N',\n",
       " 'ZTOQXKUYWZBJLG-XNAIMREJSA-N',\n",
       " 'ZUJMMGHIYSAEOU-DOMZBBRYSA-N',\n",
       " 'ZUJMMGHIYSAEOU-SWLSCSKDSA-N',\n",
       " 'ZUWBXGHMVKDMQO-DEOSSOPVSA-N',\n",
       " 'ZUWYQZGBCBSHFK-HSQYWUDLSA-N',\n",
       " 'ZWDQTNWLXALTOV-QYZOEREBSA-N',\n",
       " 'ZWXWAYUCJVQHOR-KRWDZBQOSA-N',\n",
       " 'ZXBYWYQEQQBMBT-UHFFFAOYSA-N',\n",
       " 'ZXIBCJHYVWYIKI-PZJWPPBQSA-N',\n",
       " 'ZXIHYCYAQUQHSG-UHFFFAOYSA-O',\n",
       " 'ZYCNKSJMJFKCBX-LLVKDONJSA-N',\n",
       " 'ZZTKUHCUDLEGEN-UHFFFAOYSA-N',\n",
       " 'ZZUFCTLCJUWOSV-UHFFFAOYSA-N',\n",
       " 'ZZVGLDBDDYESAB-UHFFFAOYSA-N'}"
      ]
     },
     "execution_count": 26,
     "metadata": {},
     "output_type": "execute_result"
    }
   ],
   "source": [
    "set(sars_unseen_targets_averaged_descending.tail(811)['InChiKey'])"
   ]
  },
  {
   "cell_type": "code",
   "execution_count": 27,
   "metadata": {
    "hidden": true
   },
   "outputs": [
    {
     "data": {
      "text/plain": [
       "set()"
      ]
     },
     "execution_count": 27,
     "metadata": {},
     "output_type": "execute_result"
    }
   ],
   "source": [
    "set(sars_unseen_targets_averaged_descending.tail(811)['InChiKey']).intersection(set(common_drugs))"
   ]
  },
  {
   "cell_type": "code",
   "execution_count": 28,
   "metadata": {
    "hidden": true,
    "scrolled": true
   },
   "outputs": [
    {
     "data": {
      "text/plain": [
       "{'ACGUYXCXAPNIKK-UHFFFAOYSA-N',\n",
       " 'DOMWKUIIPQCAJU-LJHIYBGHSA-N',\n",
       " 'GYQYAJJFPNQOOW-UHFFFAOYSA-N',\n",
       " 'JHVAMHSQVVQIOT-MFAJLEFUSA-N',\n",
       " 'LPMXVESGRSUGHW-HBYQJFLCSA-N',\n",
       " 'LTMHDMANZUZIPE-PUGKRICDSA-N',\n",
       " 'LUKZNWIVRBCLON-GXOBDPJESA-N',\n",
       " 'OVCDSSHSILBFBN-UHFFFAOYSA-N',\n",
       " 'PMATZTZNYRCHOR-CGLBZJNRSA-N',\n",
       " 'PURKAOJPTOLRMP-UHFFFAOYSA-N',\n",
       " 'UCJGJABZCDBEDK-UHFFFAOYSA-N',\n",
       " 'UZWDCWONPYILKI-UHFFFAOYSA-N',\n",
       " 'WDJUZGPOPHTGOT-XUDUSOBPSA-N',\n",
       " 'WVTKBKWTSCPRNU-KYJUHHDHSA-N',\n",
       " 'XEEQGYMUWCZPDN-UHFFFAOYSA-N'}"
      ]
     },
     "execution_count": 28,
     "metadata": {},
     "output_type": "execute_result"
    }
   ],
   "source": [
    "set(sars_unseen_targets.sort_values(by=['Averaged Predictions'], ascending=False).head(26766)['InChiKey']).intersection(set(common_drugs)) ## top 10% predictions"
   ]
  },
  {
   "cell_type": "code",
   "execution_count": 29,
   "metadata": {
    "hidden": true
   },
   "outputs": [
    {
     "data": {
      "text/plain": [
       "{'PURKAOJPTOLRMP-UHFFFAOYSA-N',\n",
       " 'RJMUSRYZPJIFPJ-UHFFFAOYSA-N',\n",
       " 'UCJGJABZCDBEDK-UHFFFAOYSA-N',\n",
       " 'XEEQGYMUWCZPDN-UHFFFAOYSA-N'}"
      ]
     },
     "execution_count": 29,
     "metadata": {},
     "output_type": "execute_result"
    }
   ],
   "source": [
    "set(sars_unseen_targets.sort_values(by=['Averaged Predictions'], ascending=False).tail(26766)['InChiKey']).intersection(set(common_drugs))"
   ]
  },
  {
   "cell_type": "code",
   "execution_count": 30,
   "metadata": {
    "hidden": true
   },
   "outputs": [
    {
     "data": {
      "text/plain": [
       "267663"
      ]
     },
     "execution_count": 30,
     "metadata": {},
     "output_type": "execute_result"
    }
   ],
   "source": [
    "len(sars_unseen_targets)"
   ]
  },
  {
   "cell_type": "markdown",
   "metadata": {
    "heading_collapsed": true
   },
   "source": [
    "#### Viral VS Human Genes"
   ]
  },
  {
   "cell_type": "code",
   "execution_count": 100,
   "metadata": {
    "hidden": true
   },
   "outputs": [],
   "source": [
    "sars_unseen_targets = pd.read_csv('/data/sars-busters-consolidated/GitData/sars_preidcitons_unseen_targets.csv')\n",
    "human_unseen_targets = pd.read_csv('/data/sars-busters-consolidated/GitData/human_preidcitons_unseen_targets.csv')"
   ]
  },
  {
   "cell_type": "code",
   "execution_count": 102,
   "metadata": {
    "hidden": true,
    "scrolled": true
   },
   "outputs": [],
   "source": [
    "sars_unseen_targets_averaged = sars_unseen_targets[['InChiKey','Averaged Predictions']]\n",
    "sars_unseen_targets_averaged = sars_unseen_targets_averaged.groupby('InChiKey').mean().reset_index()\n",
    "sars_unseen_targets_averaged_descending = sars_unseen_targets_averaged.sort_values(by=['Averaged Predictions'], ascending=False)\n",
    "\n",
    "human_unseen_targets_averaged = human_unseen_targets[['InChiKey','Averaged Predictions']]\n",
    "human_unseen_targets_averaged = human_unseen_targets_averaged.groupby('InChiKey').mean().reset_index()\n",
    "human_unseen_targets_averaged_descending = human_unseen_targets_averaged.sort_values(by=['Averaged Predictions'], ascending=False)"
   ]
  },
  {
   "cell_type": "code",
   "execution_count": 104,
   "metadata": {
    "hidden": true,
    "scrolled": true
   },
   "outputs": [
    {
     "data": {
      "text/plain": [
       "90"
      ]
     },
     "execution_count": 104,
     "metadata": {},
     "output_type": "execute_result"
    }
   ],
   "source": [
    "len(set(sars_unseen_targets_averaged_descending.head(100)['InChiKey'].tolist()).intersection(set(human_unseen_targets_averaged_descending.head(100)['InChiKey'].tolist())))"
   ]
  },
  {
   "cell_type": "code",
   "execution_count": 105,
   "metadata": {
    "hidden": true
   },
   "outputs": [
    {
     "data": {
      "text/plain": [
       "['DFYPFJSPLUVPFJ-QJEDTDQSSA-N',\n",
       " 'RCFZILUHCNXXFY-DEDWCYLFSA-N',\n",
       " 'NMYKBZSMOUFOJV-UHFFFAOYSA-N',\n",
       " 'RMTMMKNSPRRFHW-UHFFFAOYSA-N',\n",
       " 'WEGJDERSZWOWIB-UHFFFAOYSA-N',\n",
       " 'AMYWSBYLSVHSHG-UHFFFAOYSA-N',\n",
       " 'MDCUNMLZLNGCQA-HWOAGHQOSA-N',\n",
       " 'RJURFGZVJUQBHK-IIXSONLDSA-N',\n",
       " 'GQLCLPLEEOUJQC-ZTQDTCGGSA-N',\n",
       " 'GBLRQXKSCRCLBZ-UHFFFAOYSA-N']"
      ]
     },
     "execution_count": 105,
     "metadata": {},
     "output_type": "execute_result"
    }
   ],
   "source": [
    "sars_unseen_targets_averaged_descending.head(10)['InChiKey'].tolist()"
   ]
  },
  {
   "cell_type": "code",
   "execution_count": 106,
   "metadata": {
    "hidden": true
   },
   "outputs": [
    {
     "data": {
      "text/plain": [
       "['DFYPFJSPLUVPFJ-QJEDTDQSSA-N',\n",
       " 'RCFZILUHCNXXFY-DEDWCYLFSA-N',\n",
       " 'NMYKBZSMOUFOJV-UHFFFAOYSA-N',\n",
       " 'RMTMMKNSPRRFHW-UHFFFAOYSA-N',\n",
       " 'WEGJDERSZWOWIB-UHFFFAOYSA-N',\n",
       " 'MDCUNMLZLNGCQA-HWOAGHQOSA-N',\n",
       " 'AMYWSBYLSVHSHG-UHFFFAOYSA-N',\n",
       " 'RJURFGZVJUQBHK-IIXSONLDSA-N',\n",
       " 'GQLCLPLEEOUJQC-ZTQDTCGGSA-N',\n",
       " 'GBLRQXKSCRCLBZ-UHFFFAOYSA-N']"
      ]
     },
     "execution_count": 106,
     "metadata": {},
     "output_type": "execute_result"
    }
   ],
   "source": [
    "human_unseen_targets_averaged_descending.head(10)['InChiKey'].tolist()"
   ]
  },
  {
   "cell_type": "code",
   "execution_count": 130,
   "metadata": {
    "hidden": true
   },
   "outputs": [
    {
     "data": {
      "text/plain": [
       "{'GYQYAJJFPNQOOW-UHFFFAOYSA-N',\n",
       " 'PMATZTZNYRCHOR-CGLBZJNRSA-N',\n",
       " 'UZWDCWONPYILKI-UHFFFAOYSA-N',\n",
       " 'WVTKBKWTSCPRNU-KYJUHHDHSA-N'}"
      ]
     },
     "execution_count": 130,
     "metadata": {},
     "output_type": "execute_result"
    }
   ],
   "source": [
    "set(set(sars_unseen_targets_averaged_descending.head(100)['InChiKey'].tolist()).intersection(set(human_unseen_targets_averaged_descending.head(100)['InChiKey'].tolist()))).intersection(common_drugs)"
   ]
  },
  {
   "cell_type": "code",
   "execution_count": 131,
   "metadata": {
    "collapsed": true,
    "hidden": true
   },
   "outputs": [
    {
     "data": {
      "text/html": [
       "<div>\n",
       "<style scoped>\n",
       "    .dataframe tbody tr th:only-of-type {\n",
       "        vertical-align: middle;\n",
       "    }\n",
       "\n",
       "    .dataframe tbody tr th {\n",
       "        vertical-align: top;\n",
       "    }\n",
       "\n",
       "    .dataframe thead th {\n",
       "        text-align: right;\n",
       "    }\n",
       "</style>\n",
       "<table border=\"1\" class=\"dataframe\">\n",
       "  <thead>\n",
       "    <tr style=\"text-align: right;\">\n",
       "      <th></th>\n",
       "      <th>InChiKey</th>\n",
       "      <th>Averaged Predictions</th>\n",
       "    </tr>\n",
       "  </thead>\n",
       "  <tbody>\n",
       "    <tr>\n",
       "      <th>1079</th>\n",
       "      <td>DFYPFJSPLUVPFJ-QJEDTDQSSA-N</td>\n",
       "      <td>0.999996</td>\n",
       "    </tr>\n",
       "    <tr>\n",
       "      <th>5362</th>\n",
       "      <td>RCFZILUHCNXXFY-DEDWCYLFSA-N</td>\n",
       "      <td>0.999996</td>\n",
       "    </tr>\n",
       "    <tr>\n",
       "      <th>4184</th>\n",
       "      <td>NMYKBZSMOUFOJV-UHFFFAOYSA-N</td>\n",
       "      <td>0.999923</td>\n",
       "    </tr>\n",
       "    <tr>\n",
       "      <th>5500</th>\n",
       "      <td>RMTMMKNSPRRFHW-UHFFFAOYSA-N</td>\n",
       "      <td>0.999920</td>\n",
       "    </tr>\n",
       "    <tr>\n",
       "      <th>6834</th>\n",
       "      <td>WEGJDERSZWOWIB-UHFFFAOYSA-N</td>\n",
       "      <td>0.986007</td>\n",
       "    </tr>\n",
       "    <tr>\n",
       "      <th>...</th>\n",
       "      <td>...</td>\n",
       "      <td>...</td>\n",
       "    </tr>\n",
       "    <tr>\n",
       "      <th>5877</th>\n",
       "      <td>SPPTWHFVYKCNNK-FQEVSTJZSA-N</td>\n",
       "      <td>0.103717</td>\n",
       "    </tr>\n",
       "    <tr>\n",
       "      <th>1503</th>\n",
       "      <td>FOJUHLDAXGNCIP-FHWLQOOXSA-N</td>\n",
       "      <td>0.102488</td>\n",
       "    </tr>\n",
       "    <tr>\n",
       "      <th>5654</th>\n",
       "      <td>RYABQRLJLIHDIP-KSSFIOAISA-N</td>\n",
       "      <td>0.102202</td>\n",
       "    </tr>\n",
       "    <tr>\n",
       "      <th>4349</th>\n",
       "      <td>OACUXIVGLLCILS-ZEQRLZLVSA-N</td>\n",
       "      <td>0.090632</td>\n",
       "    </tr>\n",
       "    <tr>\n",
       "      <th>1763</th>\n",
       "      <td>GIVBBFGMRNXKPE-HJOGWXRNSA-N</td>\n",
       "      <td>0.088989</td>\n",
       "    </tr>\n",
       "  </tbody>\n",
       "</table>\n",
       "<p>8111 rows × 2 columns</p>\n",
       "</div>"
      ],
      "text/plain": [
       "                         InChiKey  Averaged Predictions\n",
       "1079  DFYPFJSPLUVPFJ-QJEDTDQSSA-N              0.999996\n",
       "5362  RCFZILUHCNXXFY-DEDWCYLFSA-N              0.999996\n",
       "4184  NMYKBZSMOUFOJV-UHFFFAOYSA-N              0.999923\n",
       "5500  RMTMMKNSPRRFHW-UHFFFAOYSA-N              0.999920\n",
       "6834  WEGJDERSZWOWIB-UHFFFAOYSA-N              0.986007\n",
       "...                           ...                   ...\n",
       "5877  SPPTWHFVYKCNNK-FQEVSTJZSA-N              0.103717\n",
       "1503  FOJUHLDAXGNCIP-FHWLQOOXSA-N              0.102488\n",
       "5654  RYABQRLJLIHDIP-KSSFIOAISA-N              0.102202\n",
       "4349  OACUXIVGLLCILS-ZEQRLZLVSA-N              0.090632\n",
       "1763  GIVBBFGMRNXKPE-HJOGWXRNSA-N              0.088989\n",
       "\n",
       "[8111 rows x 2 columns]"
      ]
     },
     "execution_count": 131,
     "metadata": {},
     "output_type": "execute_result"
    }
   ],
   "source": [
    "human_unseen_targets_averaged_descending"
   ]
  },
  {
   "cell_type": "code",
   "execution_count": 133,
   "metadata": {
    "hidden": true,
    "scrolled": true
   },
   "outputs": [
    {
     "data": {
      "text/plain": [
       "{'ACTIUHUUMQJHFO-UPTCCGCDSA-N',\n",
       " 'AHJUHHDDCJQACA-UHFFFAOYSA-N',\n",
       " 'AILRADAXUVEEIR-UHFFFAOYSA-N',\n",
       " 'AMYWSBYLSVHSHG-UHFFFAOYSA-N',\n",
       " 'AOIWFGJNGXKHGL-UHFFFAOYSA-N',\n",
       " 'APSPCHLQXFEUHG-CPBVNLROSA-N',\n",
       " 'ATEBXHFBFRCZMA-VXTBVIBXSA-N',\n",
       " 'BEDMDXBTNSVNGS-NIAPTITASA-N',\n",
       " 'BICRTLVBTLFLRD-PTWUADNWSA-N',\n",
       " 'BPHYTQORKHDHAH-OHNHNXIVSA-N',\n",
       " 'BPKIMPVREBSLAJ-QTBYCLKRSA-N',\n",
       " 'BUROJSBIWGDYCN-GAUTUEMISA-N',\n",
       " 'CJVUSTVYODMZMZ-VSTXFNHGSA-N',\n",
       " 'CTVHSHALRXJQNK-ZHZUXMKXSA-M',\n",
       " 'DFYPFJSPLUVPFJ-QJEDTDQSSA-N',\n",
       " 'DIGFQJFCDPKEPF-OIUSMDOTSA-L',\n",
       " 'DNHPDWGIXIMXSA-CXNSMIOJSA-N',\n",
       " 'DUYJMQONPNNFPI-UHFFFAOYSA-N',\n",
       " 'FCFNRCROJUBPLU-DNDCDFAISA-N',\n",
       " 'FIAFUQMPZJWCLV-UHFFFAOYSA-N',\n",
       " 'FRCBXOTYSDSELT-DUULCSDKSA-N',\n",
       " 'FUTVBRXUIKZACV-RGGAHWMASA-L',\n",
       " 'GBABOYUKABKIAF-IELIFDKJSA-N',\n",
       " 'GBLRQXKSCRCLBZ-UHFFFAOYSA-N',\n",
       " 'GKDRMWXFWHEQQT-UHFFFAOYSA-N',\n",
       " 'GQLCLPLEEOUJQC-ZTQDTCGGSA-N',\n",
       " 'GTWJVFFZCKODEV-UHFFFAOYSA-N',\n",
       " 'GYQYAJJFPNQOOW-UHFFFAOYSA-N',\n",
       " 'HAYHPPJCHDYQQZ-UHFFFAOYSA-N',\n",
       " 'HBJYDUADMKVTGP-RCUQKECRSA-N',\n",
       " 'HBZDUNQUBNOQIC-UHFFFAOYSA-N',\n",
       " 'HHJUWIANJFBDHT-KOTLKJBCSA-N',\n",
       " 'HSAVTCVIBRBWGG-VKZMHLLXSA-K',\n",
       " 'HZIYEEMJNBKMJH-UHFFFAOYSA-N',\n",
       " 'IKBSEBRGSVFUHM-UHFFFAOYSA-N',\n",
       " 'ILVYCEVXHALBSC-OTBYEXOQSA-N',\n",
       " 'IXXFZUPTQVDPPK-ZAWHAJPISA-N',\n",
       " 'JFXBEKISTKFVAB-AJQTZOPKSA-N',\n",
       " 'JLYAXFNOILIKPP-KXQOOQHDSA-N',\n",
       " 'JMDULECOHIXMNX-MZHFYNGJSA-N',\n",
       " 'JQXXHWHPUNPDRT-ABJVKYPINA-N',\n",
       " 'JQXXHWHPUNPDRT-WLSIYKJHSA-N',\n",
       " 'JXLYSJRDGCGARV-CFWMRBGOSA-N',\n",
       " 'KUZYSQSABONDME-QRLOMCMNSA-N',\n",
       " 'LGGHDPFKSSRQNS-UHFFFAOYSA-N',\n",
       " 'LHAHECCJWGXHOW-UHFFFAOYSA-N',\n",
       " 'LIFJVXDWLUOXQS-UHFFFAOYSA-J',\n",
       " 'LJVAJPDWBABPEJ-PNUFFHFMSA-N',\n",
       " 'LQBVNQSMGBZMKD-UHFFFAOYSA-N',\n",
       " 'LRBQNJMCXXYXIU-PPKXGCFTSA-N',\n",
       " 'LXZZYRPGZAFOLE-UHFFFAOYSA-L',\n",
       " 'MDCUNMLZLNGCQA-HWOAGHQOSA-N',\n",
       " 'NHHQJBCNYHBUSI-UHFFFAOYSA-N',\n",
       " 'NMDYYWFGPIMTKO-KLCPSUAYSA-N',\n",
       " 'NMYKBZSMOUFOJV-UHFFFAOYSA-N',\n",
       " 'NUXKIZBEPYVRKP-RWBWKAGLSA-N',\n",
       " 'OGWKCGZFUXNPDA-CFWMRBGOSA-N',\n",
       " 'OIMACDRJUANHTJ-XPWFQUROSA-N',\n",
       " 'OLESAACUTLOWQZ-UHFFFAOYSA-L',\n",
       " 'OUKYUETWWIPKQR-UHFFFAOYSA-N',\n",
       " 'PKVRCIRHQMSYJX-AIFWHQITSA-N',\n",
       " 'PMATZTZNYRCHOR-CGLBZJNRSA-N',\n",
       " 'QNIWSXQXLJIUJW-SLFMBYJQSA-I',\n",
       " 'QPEOIOLHJXXJFN-GNGJDXFDSA-N',\n",
       " 'RAGOYPUPXAKGKH-XAKZXMRKSA-N',\n",
       " 'RCFZILUHCNXXFY-DEDWCYLFSA-N',\n",
       " 'REEUVFCVXKWOFE-UHFFFAOYSA-K',\n",
       " 'RJURFGZVJUQBHK-IIXSONLDSA-N',\n",
       " 'RMRCNWBMXRMIRW-WZHZPDAFSA-L',\n",
       " 'RMTMMKNSPRRFHW-UHFFFAOYSA-N',\n",
       " 'SFWLDKQAUHFCBS-VCQIQPCESA-N',\n",
       " 'SPBDXSGPUHCETR-CVSKBELMSA-N',\n",
       " 'TUYWTLTWNJOZNY-UHFFFAOYSA-N',\n",
       " 'UBPYILGKFZZVDX-UHFFFAOYSA-N',\n",
       " 'UCRHFBCYFMIWHC-UHFFFAOYSA-N',\n",
       " 'UEFHFKKWYKVLDC-HTQYORAHSA-N',\n",
       " 'UUSZLLQJYRSZIS-LXNNNBEUSA-N',\n",
       " 'UXOZEHHQWXVTPI-MZWSMYJRSA-N',\n",
       " 'UXXQOJXBIDBUAC-UHFFFAOYSA-N',\n",
       " 'UYOMQIYKOOHAMK-UHFFFAOYSA-J',\n",
       " 'UZWDCWONPYILKI-UHFFFAOYSA-N',\n",
       " 'VAZLWPAHMORDGR-WRIGXHCHSA-L',\n",
       " 'VCCUEOJOYXPBRA-UHFFFAOYSA-L',\n",
       " 'VCMIRXRRQJNZJT-XRMSBCOFSA-N',\n",
       " 'VHVPQPYKVGDNFY-WGEGMAFPNA-N',\n",
       " 'VHVPQPYKVGDNFY-ZPGVKDDISA-N',\n",
       " 'VJYSBPDEJWLKKJ-NLIMODCCSA-N',\n",
       " 'VWWQXMAJTJZDQX-UYBVJOGSSA-N',\n",
       " 'VWWQXMAJTJZDQX-UYBVJOGSSA-O',\n",
       " 'WDZCUPBHRAEYDL-GZAUEHORSA-N',\n",
       " 'WEGJDERSZWOWIB-UHFFFAOYSA-N',\n",
       " 'WTHRRGMBUAHGNI-LCYNINFDSA-N',\n",
       " 'WVTKBKWTSCPRNU-KYJUHHDHSA-N',\n",
       " 'XCPVAMYUZCTTHM-UHFFFAOYSA-N',\n",
       " 'XXZSQOVSEBAPGS-UHFFFAOYSA-L',\n",
       " 'YHSKJPXGXIYLHB-OTNPUQRPSA-N',\n",
       " 'YJDYDFNKCBANTM-QCWCSKBGSA-N',\n",
       " 'YXSLJKQTIDHPOT-LJCJQEJUSA-N',\n",
       " 'ZQLDXCSTJFLRPY-RWBXLJKRSA-N',\n",
       " 'ZROHGHOFXNOHSO-BNTLRKBRSA-L'}"
      ]
     },
     "execution_count": 133,
     "metadata": {},
     "output_type": "execute_result"
    }
   ],
   "source": [
    "set(human_unseen_targets_averaged_descending.head(100)['InChiKey'].tolist())"
   ]
  },
  {
   "cell_type": "markdown",
   "metadata": {},
   "source": [
    "#### Auto Docking "
   ]
  },
  {
   "cell_type": "code",
   "execution_count": 92,
   "metadata": {
    "scrolled": true
   },
   "outputs": [],
   "source": [
    "auto_docking_results = pd.read_csv('/data/sars-busters-consolidated/GitData/docking.csv')"
   ]
  },
  {
   "cell_type": "code",
   "execution_count": 93,
   "metadata": {
    "scrolled": true
   },
   "outputs": [
    {
     "name": "stderr",
     "output_type": "stream",
     "text": [
      "200it [00:00, 6663.13it/s]\n"
     ]
    }
   ],
   "source": [
    "docking_dict = dict()\n",
    "\n",
    "for index, row in tqdm(auto_docking_results.iterrows()):\n",
    "    docking_dict[(row['InChiKey'],row['target_aa_code'])] = row['Binding Affinity in kcal/mole']"
   ]
  },
  {
   "cell_type": "code",
   "execution_count": 94,
   "metadata": {},
   "outputs": [],
   "source": [
    "top_predictions = all_pairs_sorted.head(100)\n",
    "bottom_predictions = all_pairs_sorted.tail(100)"
   ]
  },
  {
   "cell_type": "code",
   "execution_count": 95,
   "metadata": {
    "scrolled": true
   },
   "outputs": [
    {
     "name": "stderr",
     "output_type": "stream",
     "text": [
      "100it [00:00, 6922.32it/s]\n",
      "100it [00:00, 7814.99it/s]\n"
     ]
    }
   ],
   "source": [
    "top_binding_scores = []\n",
    "\n",
    "for index, row in tqdm(top_predictions.iterrows()):\n",
    "    try:\n",
    "        top_binding_scores.append(docking_dict[(row['InChiKey'],row['target_aa_code'])])\n",
    "    except:\n",
    "        top_binding_scores.append('none')\n",
    "    \n",
    "bottom_binding_scores = []\n",
    "\n",
    "for index, row in tqdm(bottom_predictions.iterrows()):\n",
    "    try:\n",
    "        bottom_binding_scores.append(docking_dict[(row['InChiKey'],row['target_aa_code'])])\n",
    "    except:\n",
    "        bottom_binding_scores.append('none')"
   ]
  },
  {
   "cell_type": "code",
   "execution_count": 96,
   "metadata": {
    "collapsed": true
   },
   "outputs": [
    {
     "name": "stderr",
     "output_type": "stream",
     "text": [
      "/miniconda/lib/python3.6/site-packages/ipykernel_launcher.py:1: SettingWithCopyWarning: \n",
      "A value is trying to be set on a copy of a slice from a DataFrame.\n",
      "Try using .loc[row_indexer,col_indexer] = value instead\n",
      "\n",
      "See the caveats in the documentation: https://pandas.pydata.org/pandas-docs/stable/user_guide/indexing.html#returning-a-view-versus-a-copy\n",
      "  \"\"\"Entry point for launching an IPython kernel.\n",
      "/miniconda/lib/python3.6/site-packages/ipykernel_launcher.py:2: SettingWithCopyWarning: \n",
      "A value is trying to be set on a copy of a slice from a DataFrame.\n",
      "Try using .loc[row_indexer,col_indexer] = value instead\n",
      "\n",
      "See the caveats in the documentation: https://pandas.pydata.org/pandas-docs/stable/user_guide/indexing.html#returning-a-view-versus-a-copy\n",
      "  \n"
     ]
    }
   ],
   "source": [
    "top_predictions['binding_affinity'] = top_binding_scores\n",
    "bottom_predictions['binding_affinity'] = bottom_binding_scores"
   ]
  },
  {
   "cell_type": "code",
   "execution_count": 100,
   "metadata": {
    "collapsed": true
   },
   "outputs": [
    {
     "name": "stderr",
     "output_type": "stream",
     "text": [
      "/miniconda/lib/python3.6/site-packages/pandas/core/ops/array_ops.py:253: FutureWarning: elementwise comparison failed; returning scalar instead, but in the future will perform elementwise comparison\n",
      "  res_values = method(rvalues)\n"
     ]
    }
   ],
   "source": [
    "top_predictions = top_predictions.dropna(axis='rows')\n",
    "bottom_predictions = bottom_predictions.dropna(axis='rows')\n",
    "top_predictions = top_predictions[top_predictions.binding_affinity != 'none']\n",
    "bottom_predictions = bottom_predictions[bottom_predictions.binding_affinity != 'none']"
   ]
  },
  {
   "cell_type": "code",
   "execution_count": 104,
   "metadata": {},
   "outputs": [
    {
     "data": {
      "text/plain": [
       "87"
      ]
     },
     "execution_count": 104,
     "metadata": {},
     "output_type": "execute_result"
    }
   ],
   "source": [
    "len(top_predictions['binding_affinity'].tolist())"
   ]
  },
  {
   "cell_type": "code",
   "execution_count": 105,
   "metadata": {},
   "outputs": [
    {
     "data": {
      "text/plain": [
       "43"
      ]
     },
     "execution_count": 105,
     "metadata": {},
     "output_type": "execute_result"
    }
   ],
   "source": [
    "len(bottom_predictions['binding_affinity'].tolist())"
   ]
  },
  {
   "cell_type": "code",
   "execution_count": 142,
   "metadata": {},
   "outputs": [
    {
     "data": {
      "image/png": "[encoded data removed]",
      "text/plain": [
       "<Figure size 1600x800 with 1 Axes>"
      ]
     },
     "metadata": {},
     "output_type": "display_data"
    }
   ],
   "source": [
    "sns.set_style(\"white\")\n",
    "\n",
    "# Plot\n",
    "kwargs = dict(hist_kws={'alpha':.1}, kde_kws={'linewidth':2})\n",
    "\n",
    "plt.figure(figsize=(20,10), dpi= 80)\n",
    "sns.distplot(top_predictions['binding_affinity'].tolist(), color=\"dodgerblue\", label=\"Top 100\", **kwargs)\n",
    "sns.distplot(bottom_predictions['binding_affinity'].tolist(), color=\"orange\", label=\"Bottom 100\", **kwargs)\n",
    "plt.xlabel('Binding Affinity in kcal/mole')\n",
    "plt.ylabel('PDF')\n",
    "plt.axvline(x=-1.75,color='k', linestyle='--',alpha=0.5)\n",
    "plt.axvline(x=-8.5,color='dodgerblue', linestyle='--',alpha=0.5)\n",
    "plt.axvline(x=-0.2,color='orange', linestyle='--',alpha=0.5)\n",
    "#plt.xlim(50,75)\n",
    "plt.legend();"
   ]
  },
  {
   "cell_type": "code",
   "execution_count": 133,
   "metadata": {},
   "outputs": [
    {
     "data": {
      "text/plain": [
       "-7.389655172413791"
      ]
     },
     "execution_count": 133,
     "metadata": {},
     "output_type": "execute_result"
    }
   ],
   "source": [
    "np.mean(top_predictions['binding_affinity'].tolist())"
   ]
  },
  {
   "cell_type": "code",
   "execution_count": 134,
   "metadata": {},
   "outputs": [
    {
     "data": {
      "text/plain": [
       "-3.7813953488372096"
      ]
     },
     "execution_count": 134,
     "metadata": {},
     "output_type": "execute_result"
    }
   ],
   "source": [
    "np.mean(bottom_predictions['binding_affinity'].tolist())"
   ]
  },
  {
   "cell_type": "code",
   "execution_count": 119,
   "metadata": {},
   "outputs": [],
   "source": [
    "top_binding_list = []\n",
    "\n",
    "for x in top_predictions['binding_affinity'].tolist():\n",
    "    if x < -1.75:\n",
    "        top_binding_list.append(x)\n",
    "        \n",
    "bottom_binding_list = []\n",
    "\n",
    "for x in bottom_predictions['binding_affinity'].tolist():\n",
    "    if x < -1.75:\n",
    "        bottom_binding_list.append(x)"
   ]
  },
  {
   "cell_type": "code",
   "execution_count": 120,
   "metadata": {},
   "outputs": [
    {
     "data": {
      "text/plain": [
       "0.8275862068965517"
      ]
     },
     "execution_count": 120,
     "metadata": {},
     "output_type": "execute_result"
    }
   ],
   "source": [
    "len(top_binding_list) / len(top_predictions['binding_affinity'].tolist())"
   ]
  },
  {
   "cell_type": "code",
   "execution_count": 121,
   "metadata": {},
   "outputs": [
    {
     "data": {
      "text/plain": [
       "0.5116279069767442"
      ]
     },
     "execution_count": 121,
     "metadata": {},
     "output_type": "execute_result"
    }
   ],
   "source": [
    "len(bottom_binding_list) / len(bottom_predictions['binding_affinity'].tolist())"
   ]
  },
  {
   "cell_type": "code",
   "execution_count": 123,
   "metadata": {},
   "outputs": [
    {
     "data": {
      "text/plain": [
       "<matplotlib.collections.PathCollection at 0x7f2e8c6a57b8>"
      ]
     },
     "execution_count": 123,
     "metadata": {},
     "output_type": "execute_result"
    },
    {
     "data": {
      "image/png": "[encoded data removed]",
      "text/plain": [
       "<Figure size 432x288 with 1 Axes>"
      ]
     },
     "metadata": {},
     "output_type": "display_data"
    }
   ],
   "source": [
    "plt.scatter(bottom_predictions['Averaged Predictions'].tolist(),bottom_predictions['binding_affinity'].tolist())"
   ]
  },
  {
   "cell_type": "code",
   "execution_count": 115,
   "metadata": {},
   "outputs": [
    {
     "data": {
      "text/plain": [
       "<matplotlib.collections.PathCollection at 0x7f2e8a9f3ba8>"
      ]
     },
     "execution_count": 115,
     "metadata": {},
     "output_type": "execute_result"
    },
    {
     "data": {
      "image/png": "[encoded data removed]",
      "text/plain": [
       "<Figure size 432x288 with 1 Axes>"
      ]
     },
     "metadata": {},
     "output_type": "display_data"
    }
   ],
   "source": [
    "plt.scatter(top_predictions['Averaged Predictions'].tolist(),top_predictions['binding_affinity'].tolist())"
   ]
  },
  {
   "cell_type": "code",
   "execution_count": 128,
   "metadata": {},
   "outputs": [
    {
     "data": {
      "text/plain": [
       "{'WVTKBKWTSCPRNU-KYJUHHDHSA-N'}"
      ]
     },
     "execution_count": 128,
     "metadata": {},
     "output_type": "execute_result"
    }
   ],
   "source": [
    "set(top_predictions['InChiKey'].tolist()).intersection(set(top_24_inchikeys))"
   ]
  },
  {
   "cell_type": "code",
   "execution_count": 129,
   "metadata": {},
   "outputs": [
    {
     "data": {
      "text/html": [
       "<div>\n",
       "<style scoped>\n",
       "    .dataframe tbody tr th:only-of-type {\n",
       "        vertical-align: middle;\n",
       "    }\n",
       "\n",
       "    .dataframe tbody tr th {\n",
       "        vertical-align: top;\n",
       "    }\n",
       "\n",
       "    .dataframe thead th {\n",
       "        text-align: right;\n",
       "    }\n",
       "</style>\n",
       "<table border=\"1\" class=\"dataframe\">\n",
       "  <thead>\n",
       "    <tr style=\"text-align: right;\">\n",
       "      <th></th>\n",
       "      <th>InChiKey</th>\n",
       "      <th>target_aa_code</th>\n",
       "      <th>gene</th>\n",
       "      <th>Averaged Predictions</th>\n",
       "      <th>is_viral</th>\n",
       "      <th>binding_affinity</th>\n",
       "    </tr>\n",
       "  </thead>\n",
       "  <tbody>\n",
       "    <tr>\n",
       "      <th>57742</th>\n",
       "      <td>WVTKBKWTSCPRNU-KYJUHHDHSA-N</td>\n",
       "      <td>MDQREILQKFLDEAQSKKITKEEFANEFLKLKRQSTKYKADKTYPT...</td>\n",
       "      <td>PTPN22</td>\n",
       "      <td>0.511006</td>\n",
       "      <td>1</td>\n",
       "      <td>-8.3</td>\n",
       "    </tr>\n",
       "  </tbody>\n",
       "</table>\n",
       "</div>"
      ],
      "text/plain": [
       "                          InChiKey  \\\n",
       "57742  WVTKBKWTSCPRNU-KYJUHHDHSA-N   \n",
       "\n",
       "                                          target_aa_code    gene  \\\n",
       "57742  MDQREILQKFLDEAQSKKITKEEFANEFLKLKRQSTKYKADKTYPT...  PTPN22   \n",
       "\n",
       "       Averaged Predictions  is_viral  binding_affinity  \n",
       "57742              0.511006         1              -8.3  "
      ]
     },
     "execution_count": 129,
     "metadata": {},
     "output_type": "execute_result"
    }
   ],
   "source": [
    "top_predictions[top_predictions['InChiKey'] == 'WVTKBKWTSCPRNU-KYJUHHDHSA-N']"
   ]
  },
  {
   "cell_type": "markdown",
   "metadata": {},
   "source": [
    "#### NDM Compounds"
   ]
  },
  {
   "cell_type": "code",
   "execution_count": 143,
   "metadata": {},
   "outputs": [],
   "source": [
    "all_nodes = pd.read_csv('/data/sars-busters-consolidated/nw_files/WholeNetworkNodesTable.csv')"
   ]
  },
  {
   "cell_type": "code",
   "execution_count": 147,
   "metadata": {},
   "outputs": [
    {
     "data": {
      "text/plain": [
       "485"
      ]
     },
     "execution_count": 147,
     "metadata": {},
     "output_type": "execute_result"
    }
   ],
   "source": [
    "len(all_nodes[all_nodes['IsNDM'] == True]['Label'].tolist())"
   ]
  },
  {
   "cell_type": "code",
   "execution_count": 148,
   "metadata": {},
   "outputs": [
    {
     "data": {
      "text/plain": [
       "{'LXMSZDCAJNLERA-ZHYRCANASA-N',\n",
       " 'MIJYXULNPSFWEK-GTOFXWBISA-N',\n",
       " 'YKOPWPOFWMYZJZ-PRIAQAIDSA-N'}"
      ]
     },
     "execution_count": 148,
     "metadata": {},
     "output_type": "execute_result"
    }
   ],
   "source": [
    "set(top_predictions['InChiKey'].tolist()).intersection(set(all_nodes[all_nodes['IsNDM'] == True]['Label'].tolist()))"
   ]
  },
  {
   "cell_type": "code",
   "execution_count": 149,
   "metadata": {},
   "outputs": [
    {
     "data": {
      "text/html": [
       "<div>\n",
       "<style scoped>\n",
       "    .dataframe tbody tr th:only-of-type {\n",
       "        vertical-align: middle;\n",
       "    }\n",
       "\n",
       "    .dataframe tbody tr th {\n",
       "        vertical-align: top;\n",
       "    }\n",
       "\n",
       "    .dataframe thead th {\n",
       "        text-align: right;\n",
       "    }\n",
       "</style>\n",
       "<table border=\"1\" class=\"dataframe\">\n",
       "  <thead>\n",
       "    <tr style=\"text-align: right;\">\n",
       "      <th></th>\n",
       "      <th>InChiKey</th>\n",
       "      <th>target_aa_code</th>\n",
       "      <th>gene</th>\n",
       "      <th>Averaged Predictions</th>\n",
       "      <th>is_viral</th>\n",
       "      <th>binding_affinity</th>\n",
       "    </tr>\n",
       "  </thead>\n",
       "  <tbody>\n",
       "    <tr>\n",
       "      <th>52429</th>\n",
       "      <td>LXMSZDCAJNLERA-ZHYRCANASA-N</td>\n",
       "      <td>MDQREILQKFLDEAQSKKITKEEFANEFLKLKRQSTKYKADKTYPT...</td>\n",
       "      <td>PTPN22</td>\n",
       "      <td>0.511460</td>\n",
       "      <td>1</td>\n",
       "      <td>-9.0</td>\n",
       "    </tr>\n",
       "    <tr>\n",
       "      <th>52419</th>\n",
       "      <td>LXMSZDCAJNLERA-ZHYRCANASA-N</td>\n",
       "      <td>MQKIMHISVLLSPVLWGLIFGVSSNSIQIGGLFPRGADQEYSAFRV...</td>\n",
       "      <td>GRIA2</td>\n",
       "      <td>0.508983</td>\n",
       "      <td>1</td>\n",
       "      <td>-10.0</td>\n",
       "    </tr>\n",
       "  </tbody>\n",
       "</table>\n",
       "</div>"
      ],
      "text/plain": [
       "                          InChiKey  \\\n",
       "52429  LXMSZDCAJNLERA-ZHYRCANASA-N   \n",
       "52419  LXMSZDCAJNLERA-ZHYRCANASA-N   \n",
       "\n",
       "                                          target_aa_code    gene  \\\n",
       "52429  MDQREILQKFLDEAQSKKITKEEFANEFLKLKRQSTKYKADKTYPT...  PTPN22   \n",
       "52419  MQKIMHISVLLSPVLWGLIFGVSSNSIQIGGLFPRGADQEYSAFRV...   GRIA2   \n",
       "\n",
       "       Averaged Predictions  is_viral  binding_affinity  \n",
       "52429              0.511460         1              -9.0  \n",
       "52419              0.508983         1             -10.0  "
      ]
     },
     "execution_count": 149,
     "metadata": {},
     "output_type": "execute_result"
    }
   ],
   "source": [
    "top_predictions[top_predictions['InChiKey'] == 'LXMSZDCAJNLERA-ZHYRCANASA-N']"
   ]
  },
  {
   "cell_type": "code",
   "execution_count": 150,
   "metadata": {},
   "outputs": [
    {
     "data": {
      "text/html": [
       "<div>\n",
       "<style scoped>\n",
       "    .dataframe tbody tr th:only-of-type {\n",
       "        vertical-align: middle;\n",
       "    }\n",
       "\n",
       "    .dataframe tbody tr th {\n",
       "        vertical-align: top;\n",
       "    }\n",
       "\n",
       "    .dataframe thead th {\n",
       "        text-align: right;\n",
       "    }\n",
       "</style>\n",
       "<table border=\"1\" class=\"dataframe\">\n",
       "  <thead>\n",
       "    <tr style=\"text-align: right;\">\n",
       "      <th></th>\n",
       "      <th>InChiKey</th>\n",
       "      <th>target_aa_code</th>\n",
       "      <th>gene</th>\n",
       "      <th>Averaged Predictions</th>\n",
       "      <th>is_viral</th>\n",
       "      <th>binding_affinity</th>\n",
       "    </tr>\n",
       "  </thead>\n",
       "  <tbody>\n",
       "    <tr>\n",
       "      <th>127372</th>\n",
       "      <td>MIJYXULNPSFWEK-GTOFXWBISA-N</td>\n",
       "      <td>MDQREILQKFLDEAQSKKITKEEFANEFLKLKRQSTKYKADKTYPT...</td>\n",
       "      <td>PTPN22</td>\n",
       "      <td>0.504184</td>\n",
       "      <td>1</td>\n",
       "      <td>-8.3</td>\n",
       "    </tr>\n",
       "  </tbody>\n",
       "</table>\n",
       "</div>"
      ],
      "text/plain": [
       "                           InChiKey  \\\n",
       "127372  MIJYXULNPSFWEK-GTOFXWBISA-N   \n",
       "\n",
       "                                           target_aa_code    gene  \\\n",
       "127372  MDQREILQKFLDEAQSKKITKEEFANEFLKLKRQSTKYKADKTYPT...  PTPN22   \n",
       "\n",
       "        Averaged Predictions  is_viral  binding_affinity  \n",
       "127372              0.504184         1              -8.3  "
      ]
     },
     "execution_count": 150,
     "metadata": {},
     "output_type": "execute_result"
    }
   ],
   "source": [
    "top_predictions[top_predictions['InChiKey'] == 'MIJYXULNPSFWEK-GTOFXWBISA-N']"
   ]
  },
  {
   "cell_type": "code",
   "execution_count": 151,
   "metadata": {},
   "outputs": [
    {
     "data": {
      "text/html": [
       "<div>\n",
       "<style scoped>\n",
       "    .dataframe tbody tr th:only-of-type {\n",
       "        vertical-align: middle;\n",
       "    }\n",
       "\n",
       "    .dataframe tbody tr th {\n",
       "        vertical-align: top;\n",
       "    }\n",
       "\n",
       "    .dataframe thead th {\n",
       "        text-align: right;\n",
       "    }\n",
       "</style>\n",
       "<table border=\"1\" class=\"dataframe\">\n",
       "  <thead>\n",
       "    <tr style=\"text-align: right;\">\n",
       "      <th></th>\n",
       "      <th>InChiKey</th>\n",
       "      <th>target_aa_code</th>\n",
       "      <th>gene</th>\n",
       "      <th>Averaged Predictions</th>\n",
       "      <th>is_viral</th>\n",
       "      <th>binding_affinity</th>\n",
       "    </tr>\n",
       "  </thead>\n",
       "  <tbody>\n",
       "    <tr>\n",
       "      <th>267523</th>\n",
       "      <td>YKOPWPOFWMYZJZ-PRIAQAIDSA-N</td>\n",
       "      <td>MDQREILQKFLDEAQSKKITKEEFANEFLKLKRQSTKYKADKTYPT...</td>\n",
       "      <td>PTPN22</td>\n",
       "      <td>0.501786</td>\n",
       "      <td>1</td>\n",
       "      <td>-8.3</td>\n",
       "    </tr>\n",
       "  </tbody>\n",
       "</table>\n",
       "</div>"
      ],
      "text/plain": [
       "                           InChiKey  \\\n",
       "267523  YKOPWPOFWMYZJZ-PRIAQAIDSA-N   \n",
       "\n",
       "                                           target_aa_code    gene  \\\n",
       "267523  MDQREILQKFLDEAQSKKITKEEFANEFLKLKRQSTKYKADKTYPT...  PTPN22   \n",
       "\n",
       "        Averaged Predictions  is_viral  binding_affinity  \n",
       "267523              0.501786         1              -8.3  "
      ]
     },
     "execution_count": 151,
     "metadata": {},
     "output_type": "execute_result"
    }
   ],
   "source": [
    "top_predictions[top_predictions['InChiKey'] == 'YKOPWPOFWMYZJZ-PRIAQAIDSA-N']"
   ]
  },
  {
   "cell_type": "code",
   "execution_count": null,
   "metadata": {},
   "outputs": [],
   "source": []
  }
 ],
 "metadata": {
  "kernelspec": {
   "display_name": "Python 3",
   "language": "python",
   "name": "python3"
  },
  "language_info": {
   "codemirror_mode": {
    "name": "ipython",
    "version": 3
   },
   "file_extension": ".py",
   "mimetype": "text/x-python",
   "name": "python",
   "nbconvert_exporter": "python",
   "pygments_lexer": "ipython3",
   "version": "3.6.6"
  },
  "toc": {
   "base_numbering": 1,
   "nav_menu": {},
   "number_sections": true,
   "sideBar": true,
   "skip_h1_title": false,
   "title_cell": "Table of Contents",
   "title_sidebar": "Contents",
   "toc_cell": false,
   "toc_position": {},
   "toc_section_display": true,
   "toc_window_display": false
  }
 },
 "nbformat": 4,
 "nbformat_minor": 4
}
