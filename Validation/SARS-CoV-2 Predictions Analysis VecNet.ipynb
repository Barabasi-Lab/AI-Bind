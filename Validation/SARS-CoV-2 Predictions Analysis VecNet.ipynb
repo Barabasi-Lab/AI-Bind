{
 "cells": [
  {
   "cell_type": "code",
   "execution_count": 107,
   "metadata": {},
   "outputs": [],
   "source": [
    "import pandas as pd\n",
    "from bicm import BipartiteGraph\n",
    "import numpy as np\n",
    "from tqdm import tqdm\n",
    "import seaborn as sns\n",
    "import csv\n",
    "import itertools \n",
    "import matplotlib.pyplot as plt\n",
    "from sklearn.metrics import confusion_matrix, f1_score, classification_report\n",
    "from sklearn.metrics import roc_curve, roc_auc_score, precision_recall_curve, average_precision_score\n",
    "from sklearn.metrics import confusion_matrix, f1_score, classification_report\n",
    "import math\n",
    "import seaborn as sns\n",
    "from matplotlib.pyplot import figure\n",
    "\n",
    "plt.rcParams['font.family'] = 'Times New Roman'"
   ]
  },
  {
   "cell_type": "code",
   "execution_count": 46,
   "metadata": {},
   "outputs": [],
   "source": [
    "sars_unseen_targets = pd.read_csv('/data/sars-busters-consolidated/GitData/sars_preidcitons_unseen_nodes.csv')\n",
    "human_unseen_targets = pd.read_csv('/data/sars-busters-consolidated/GitData/human_preidcitons_unseen_nodes.csv')"
   ]
  },
  {
   "cell_type": "code",
   "execution_count": 47,
   "metadata": {
    "scrolled": true
   },
   "outputs": [],
   "source": [
    "all_pairs = pd.concat([sars_unseen_targets[['InChiKey','target_aa_code','gene','Averaged Predictions']],human_unseen_targets.rename(columns={'hgnc_symbol':'gene'})[['InChiKey','target_aa_code','gene','Averaged Predictions']]])\n",
    "\n",
    "all_pairs['is_viral'] = [1]*len(sars_unseen_targets) + [0]*len(human_unseen_targets)"
   ]
  },
  {
   "cell_type": "code",
   "execution_count": 48,
   "metadata": {
    "scrolled": true
   },
   "outputs": [],
   "source": [
    "all_pairs_sorted = all_pairs.sort_values(by=['Averaged Predictions'], ascending=False)"
   ]
  },
  {
   "cell_type": "code",
   "execution_count": 49,
   "metadata": {
    "scrolled": true
   },
   "outputs": [],
   "source": [
    "all_pairs_sorted.head(100).to_csv('/data/sars-busters-consolidated/GitData/all_genes_top_100_predictions.csv')\n",
    "all_pairs_sorted.tail(100).to_csv('/data/sars-busters-consolidated/GitData/all_genes_bottom_100_predictions.csv')"
   ]
  },
  {
   "cell_type": "code",
   "execution_count": 152,
   "metadata": {},
   "outputs": [
    {
     "data": {
      "text/plain": [
       "68"
      ]
     },
     "execution_count": 152,
     "metadata": {},
     "output_type": "execute_result"
    }
   ],
   "source": [
    "len(set(pd.concat([all_pairs_sorted.head(100),all_pairs_sorted.tail(100)])['InChiKey'].tolist()))"
   ]
  },
  {
   "cell_type": "code",
   "execution_count": 154,
   "metadata": {
    "scrolled": true
   },
   "outputs": [
    {
     "data": {
      "text/plain": [
       "52"
      ]
     },
     "execution_count": 154,
     "metadata": {},
     "output_type": "execute_result"
    }
   ],
   "source": [
    "len(set(pd.concat([all_pairs_sorted.head(100),all_pairs_sorted.tail(100)])['target_aa_code'].tolist()))"
   ]
  },
  {
   "cell_type": "markdown",
   "metadata": {},
   "source": [
    "#### Auto Docking "
   ]
  },
  {
   "cell_type": "code",
   "execution_count": 92,
   "metadata": {
    "scrolled": true
   },
   "outputs": [],
   "source": [
    "auto_docking_results = pd.read_csv('/data/sars-busters-consolidated/GitData/docking.csv')"
   ]
  },
  {
   "cell_type": "code",
   "execution_count": 93,
   "metadata": {
    "scrolled": true
   },
   "outputs": [
    {
     "name": "stderr",
     "output_type": "stream",
     "text": [
      "200it [00:00, 6663.13it/s]\n"
     ]
    }
   ],
   "source": [
    "docking_dict = dict()\n",
    "\n",
    "for index, row in tqdm(auto_docking_results.iterrows()):\n",
    "    docking_dict[(row['InChiKey'],row['target_aa_code'])] = row['Binding Affinity in kcal/mole']"
   ]
  },
  {
   "cell_type": "code",
   "execution_count": 94,
   "metadata": {},
   "outputs": [],
   "source": [
    "top_predictions = all_pairs_sorted.head(100)\n",
    "bottom_predictions = all_pairs_sorted.tail(100)"
   ]
  },
  {
   "cell_type": "code",
   "execution_count": 95,
   "metadata": {
    "scrolled": true
   },
   "outputs": [
    {
     "name": "stderr",
     "output_type": "stream",
     "text": [
      "100it [00:00, 6922.32it/s]\n",
      "100it [00:00, 7814.99it/s]\n"
     ]
    }
   ],
   "source": [
    "top_binding_scores = []\n",
    "\n",
    "for index, row in tqdm(top_predictions.iterrows()):\n",
    "    try:\n",
    "        top_binding_scores.append(docking_dict[(row['InChiKey'],row['target_aa_code'])])\n",
    "    except:\n",
    "        top_binding_scores.append('none')\n",
    "    \n",
    "bottom_binding_scores = []\n",
    "\n",
    "for index, row in tqdm(bottom_predictions.iterrows()):\n",
    "    try:\n",
    "        bottom_binding_scores.append(docking_dict[(row['InChiKey'],row['target_aa_code'])])\n",
    "    except:\n",
    "        bottom_binding_scores.append('none')"
   ]
  },
  {
   "cell_type": "code",
   "execution_count": 96,
   "metadata": {
    "collapsed": true
   },
   "outputs": [
    {
     "name": "stderr",
     "output_type": "stream",
     "text": [
      "/miniconda/lib/python3.6/site-packages/ipykernel_launcher.py:1: SettingWithCopyWarning: \n",
      "A value is trying to be set on a copy of a slice from a DataFrame.\n",
      "Try using .loc[row_indexer,col_indexer] = value instead\n",
      "\n",
      "See the caveats in the documentation: https://pandas.pydata.org/pandas-docs/stable/user_guide/indexing.html#returning-a-view-versus-a-copy\n",
      "  \"\"\"Entry point for launching an IPython kernel.\n",
      "/miniconda/lib/python3.6/site-packages/ipykernel_launcher.py:2: SettingWithCopyWarning: \n",
      "A value is trying to be set on a copy of a slice from a DataFrame.\n",
      "Try using .loc[row_indexer,col_indexer] = value instead\n",
      "\n",
      "See the caveats in the documentation: https://pandas.pydata.org/pandas-docs/stable/user_guide/indexing.html#returning-a-view-versus-a-copy\n",
      "  \n"
     ]
    }
   ],
   "source": [
    "top_predictions['binding_affinity'] = top_binding_scores\n",
    "bottom_predictions['binding_affinity'] = bottom_binding_scores"
   ]
  },
  {
   "cell_type": "code",
   "execution_count": 100,
   "metadata": {
    "collapsed": true
   },
   "outputs": [
    {
     "name": "stderr",
     "output_type": "stream",
     "text": [
      "/miniconda/lib/python3.6/site-packages/pandas/core/ops/array_ops.py:253: FutureWarning: elementwise comparison failed; returning scalar instead, but in the future will perform elementwise comparison\n",
      "  res_values = method(rvalues)\n"
     ]
    }
   ],
   "source": [
    "top_predictions = top_predictions.dropna(axis='rows')\n",
    "bottom_predictions = bottom_predictions.dropna(axis='rows')\n",
    "top_predictions = top_predictions[top_predictions.binding_affinity != 'none']\n",
    "bottom_predictions = bottom_predictions[bottom_predictions.binding_affinity != 'none']"
   ]
  },
  {
   "cell_type": "code",
   "execution_count": 104,
   "metadata": {},
   "outputs": [
    {
     "data": {
      "text/plain": [
       "87"
      ]
     },
     "execution_count": 104,
     "metadata": {},
     "output_type": "execute_result"
    }
   ],
   "source": [
    "len(top_predictions['binding_affinity'].tolist())"
   ]
  },
  {
   "cell_type": "code",
   "execution_count": 105,
   "metadata": {},
   "outputs": [
    {
     "data": {
      "text/plain": [
       "43"
      ]
     },
     "execution_count": 105,
     "metadata": {},
     "output_type": "execute_result"
    }
   ],
   "source": [
    "len(bottom_predictions['binding_affinity'].tolist())"
   ]
  },
  {
   "cell_type": "code",
   "execution_count": 142,
   "metadata": {},
   "outputs": [
    {
     "data": {
      "image/png": "[encoded data removed]",
      "text/plain": [
       "<Figure size 1600x800 with 1 Axes>"
      ]
     },
     "metadata": {},
     "output_type": "display_data"
    }
   ],
   "source": [
    "sns.set_style(\"white\")\n",
    "\n",
    "# Plot\n",
    "kwargs = dict(hist_kws={'alpha':.1}, kde_kws={'linewidth':2})\n",
    "\n",
    "plt.figure(figsize=(20,10), dpi= 80)\n",
    "sns.distplot(top_predictions['binding_affinity'].tolist(), color=\"dodgerblue\", label=\"Top 100\", **kwargs)\n",
    "sns.distplot(bottom_predictions['binding_affinity'].tolist(), color=\"orange\", label=\"Bottom 100\", **kwargs)\n",
    "plt.xlabel('Binding Affinity in kcal/mole')\n",
    "plt.ylabel('PDF')\n",
    "plt.axvline(x=-1.75,color='k', linestyle='--',alpha=0.5)\n",
    "plt.axvline(x=-8.5,color='dodgerblue', linestyle='--',alpha=0.5)\n",
    "plt.axvline(x=-0.2,color='orange', linestyle='--',alpha=0.5)\n",
    "#plt.xlim(50,75)\n",
    "plt.legend();"
   ]
  },
  {
   "cell_type": "code",
   "execution_count": 133,
   "metadata": {},
   "outputs": [
    {
     "data": {
      "text/plain": [
       "-7.389655172413791"
      ]
     },
     "execution_count": 133,
     "metadata": {},
     "output_type": "execute_result"
    }
   ],
   "source": [
    "np.mean(top_predictions['binding_affinity'].tolist())"
   ]
  },
  {
   "cell_type": "code",
   "execution_count": 134,
   "metadata": {},
   "outputs": [
    {
     "data": {
      "text/plain": [
       "-3.7813953488372096"
      ]
     },
     "execution_count": 134,
     "metadata": {},
     "output_type": "execute_result"
    }
   ],
   "source": [
    "np.mean(bottom_predictions['binding_affinity'].tolist())"
   ]
  },
  {
   "cell_type": "code",
   "execution_count": 119,
   "metadata": {},
   "outputs": [],
   "source": [
    "top_binding_list = []\n",
    "\n",
    "for x in top_predictions['binding_affinity'].tolist():\n",
    "    if x < -1.75:\n",
    "        top_binding_list.append(x)\n",
    "        \n",
    "bottom_binding_list = []\n",
    "\n",
    "for x in bottom_predictions['binding_affinity'].tolist():\n",
    "    if x < -1.75:\n",
    "        bottom_binding_list.append(x)"
   ]
  },
  {
   "cell_type": "code",
   "execution_count": 120,
   "metadata": {},
   "outputs": [
    {
     "data": {
      "text/plain": [
       "0.8275862068965517"
      ]
     },
     "execution_count": 120,
     "metadata": {},
     "output_type": "execute_result"
    }
   ],
   "source": [
    "len(top_binding_list) / len(top_predictions['binding_affinity'].tolist())"
   ]
  },
  {
   "cell_type": "code",
   "execution_count": 121,
   "metadata": {},
   "outputs": [
    {
     "data": {
      "text/plain": [
       "0.5116279069767442"
      ]
     },
     "execution_count": 121,
     "metadata": {},
     "output_type": "execute_result"
    }
   ],
   "source": [
    "len(bottom_binding_list) / len(bottom_predictions['binding_affinity'].tolist())"
   ]
  },
  {
   "cell_type": "code",
   "execution_count": 123,
   "metadata": {},
   "outputs": [
    {
     "data": {
      "text/plain": [
       "<matplotlib.collections.PathCollection at 0x7f2e8c6a57b8>"
      ]
     },
     "execution_count": 123,
     "metadata": {},
     "output_type": "execute_result"
    },
    {
     "data": {
      "image/png": "[encoded data removed]",
      "text/plain": [
       "<Figure size 432x288 with 1 Axes>"
      ]
     },
     "metadata": {},
     "output_type": "display_data"
    }
   ],
   "source": [
    "plt.scatter(bottom_predictions['Averaged Predictions'].tolist(),bottom_predictions['binding_affinity'].tolist())"
   ]
  },
  {
   "cell_type": "code",
   "execution_count": 115,
   "metadata": {},
   "outputs": [
    {
     "data": {
      "text/plain": [
       "<matplotlib.collections.PathCollection at 0x7f2e8a9f3ba8>"
      ]
     },
     "execution_count": 115,
     "metadata": {},
     "output_type": "execute_result"
    },
    {
     "data": {
      "image/png": "[encoded data removed]",
      "text/plain": [
       "<Figure size 432x288 with 1 Axes>"
      ]
     },
     "metadata": {},
     "output_type": "display_data"
    }
   ],
   "source": [
    "plt.scatter(top_predictions['Averaged Predictions'].tolist(),top_predictions['binding_affinity'].tolist())"
   ]
  },
  {
   "cell_type": "code",
   "execution_count": 128,
   "metadata": {},
   "outputs": [
    {
     "data": {
      "text/plain": [
       "{'WVTKBKWTSCPRNU-KYJUHHDHSA-N'}"
      ]
     },
     "execution_count": 128,
     "metadata": {},
     "output_type": "execute_result"
    }
   ],
   "source": [
    "set(top_predictions['InChiKey'].tolist()).intersection(set(top_24_inchikeys))"
   ]
  },
  {
   "cell_type": "code",
   "execution_count": 129,
   "metadata": {},
   "outputs": [
    {
     "data": {
      "text/html": [
       "<div>\n",
       "<style scoped>\n",
       "    .dataframe tbody tr th:only-of-type {\n",
       "        vertical-align: middle;\n",
       "    }\n",
       "\n",
       "    .dataframe tbody tr th {\n",
       "        vertical-align: top;\n",
       "    }\n",
       "\n",
       "    .dataframe thead th {\n",
       "        text-align: right;\n",
       "    }\n",
       "</style>\n",
       "<table border=\"1\" class=\"dataframe\">\n",
       "  <thead>\n",
       "    <tr style=\"text-align: right;\">\n",
       "      <th></th>\n",
       "      <th>InChiKey</th>\n",
       "      <th>target_aa_code</th>\n",
       "      <th>gene</th>\n",
       "      <th>Averaged Predictions</th>\n",
       "      <th>is_viral</th>\n",
       "      <th>binding_affinity</th>\n",
       "    </tr>\n",
       "  </thead>\n",
       "  <tbody>\n",
       "    <tr>\n",
       "      <th>57742</th>\n",
       "      <td>WVTKBKWTSCPRNU-KYJUHHDHSA-N</td>\n",
       "      <td>MDQREILQKFLDEAQSKKITKEEFANEFLKLKRQSTKYKADKTYPT...</td>\n",
       "      <td>PTPN22</td>\n",
       "      <td>0.511006</td>\n",
       "      <td>1</td>\n",
       "      <td>-8.3</td>\n",
       "    </tr>\n",
       "  </tbody>\n",
       "</table>\n",
       "</div>"
      ],
      "text/plain": [
       "                          InChiKey  \\\n",
       "57742  WVTKBKWTSCPRNU-KYJUHHDHSA-N   \n",
       "\n",
       "                                          target_aa_code    gene  \\\n",
       "57742  MDQREILQKFLDEAQSKKITKEEFANEFLKLKRQSTKYKADKTYPT...  PTPN22   \n",
       "\n",
       "       Averaged Predictions  is_viral  binding_affinity  \n",
       "57742              0.511006         1              -8.3  "
      ]
     },
     "execution_count": 129,
     "metadata": {},
     "output_type": "execute_result"
    }
   ],
   "source": [
    "top_predictions[top_predictions['InChiKey'] == 'WVTKBKWTSCPRNU-KYJUHHDHSA-N']"
   ]
  },
  {
   "cell_type": "markdown",
   "metadata": {},
   "source": [
    "#### NDM Compounds"
   ]
  },
  {
   "cell_type": "code",
   "execution_count": 143,
   "metadata": {},
   "outputs": [],
   "source": [
    "all_nodes = pd.read_csv('/data/sars-busters-consolidated/nw_files/WholeNetworkNodesTable.csv')"
   ]
  },
  {
   "cell_type": "code",
   "execution_count": 147,
   "metadata": {},
   "outputs": [
    {
     "data": {
      "text/plain": [
       "485"
      ]
     },
     "execution_count": 147,
     "metadata": {},
     "output_type": "execute_result"
    }
   ],
   "source": [
    "len(all_nodes[all_nodes['IsNDM'] == True]['Label'].tolist())"
   ]
  },
  {
   "cell_type": "code",
   "execution_count": 148,
   "metadata": {},
   "outputs": [
    {
     "data": {
      "text/plain": [
       "{'LXMSZDCAJNLERA-ZHYRCANASA-N',\n",
       " 'MIJYXULNPSFWEK-GTOFXWBISA-N',\n",
       " 'YKOPWPOFWMYZJZ-PRIAQAIDSA-N'}"
      ]
     },
     "execution_count": 148,
     "metadata": {},
     "output_type": "execute_result"
    }
   ],
   "source": [
    "set(top_predictions['InChiKey'].tolist()).intersection(set(all_nodes[all_nodes['IsNDM'] == True]['Label'].tolist()))"
   ]
  },
  {
   "cell_type": "code",
   "execution_count": 149,
   "metadata": {},
   "outputs": [
    {
     "data": {
      "text/html": [
       "<div>\n",
       "<style scoped>\n",
       "    .dataframe tbody tr th:only-of-type {\n",
       "        vertical-align: middle;\n",
       "    }\n",
       "\n",
       "    .dataframe tbody tr th {\n",
       "        vertical-align: top;\n",
       "    }\n",
       "\n",
       "    .dataframe thead th {\n",
       "        text-align: right;\n",
       "    }\n",
       "</style>\n",
       "<table border=\"1\" class=\"dataframe\">\n",
       "  <thead>\n",
       "    <tr style=\"text-align: right;\">\n",
       "      <th></th>\n",
       "      <th>InChiKey</th>\n",
       "      <th>target_aa_code</th>\n",
       "      <th>gene</th>\n",
       "      <th>Averaged Predictions</th>\n",
       "      <th>is_viral</th>\n",
       "      <th>binding_affinity</th>\n",
       "    </tr>\n",
       "  </thead>\n",
       "  <tbody>\n",
       "    <tr>\n",
       "      <th>52429</th>\n",
       "      <td>LXMSZDCAJNLERA-ZHYRCANASA-N</td>\n",
       "      <td>MDQREILQKFLDEAQSKKITKEEFANEFLKLKRQSTKYKADKTYPT...</td>\n",
       "      <td>PTPN22</td>\n",
       "      <td>0.511460</td>\n",
       "      <td>1</td>\n",
       "      <td>-9.0</td>\n",
       "    </tr>\n",
       "    <tr>\n",
       "      <th>52419</th>\n",
       "      <td>LXMSZDCAJNLERA-ZHYRCANASA-N</td>\n",
       "      <td>MQKIMHISVLLSPVLWGLIFGVSSNSIQIGGLFPRGADQEYSAFRV...</td>\n",
       "      <td>GRIA2</td>\n",
       "      <td>0.508983</td>\n",
       "      <td>1</td>\n",
       "      <td>-10.0</td>\n",
       "    </tr>\n",
       "  </tbody>\n",
       "</table>\n",
       "</div>"
      ],
      "text/plain": [
       "                          InChiKey  \\\n",
       "52429  LXMSZDCAJNLERA-ZHYRCANASA-N   \n",
       "52419  LXMSZDCAJNLERA-ZHYRCANASA-N   \n",
       "\n",
       "                                          target_aa_code    gene  \\\n",
       "52429  MDQREILQKFLDEAQSKKITKEEFANEFLKLKRQSTKYKADKTYPT...  PTPN22   \n",
       "52419  MQKIMHISVLLSPVLWGLIFGVSSNSIQIGGLFPRGADQEYSAFRV...   GRIA2   \n",
       "\n",
       "       Averaged Predictions  is_viral  binding_affinity  \n",
       "52429              0.511460         1              -9.0  \n",
       "52419              0.508983         1             -10.0  "
      ]
     },
     "execution_count": 149,
     "metadata": {},
     "output_type": "execute_result"
    }
   ],
   "source": [
    "top_predictions[top_predictions['InChiKey'] == 'LXMSZDCAJNLERA-ZHYRCANASA-N']"
   ]
  },
  {
   "cell_type": "code",
   "execution_count": 150,
   "metadata": {},
   "outputs": [
    {
     "data": {
      "text/html": [
       "<div>\n",
       "<style scoped>\n",
       "    .dataframe tbody tr th:only-of-type {\n",
       "        vertical-align: middle;\n",
       "    }\n",
       "\n",
       "    .dataframe tbody tr th {\n",
       "        vertical-align: top;\n",
       "    }\n",
       "\n",
       "    .dataframe thead th {\n",
       "        text-align: right;\n",
       "    }\n",
       "</style>\n",
       "<table border=\"1\" class=\"dataframe\">\n",
       "  <thead>\n",
       "    <tr style=\"text-align: right;\">\n",
       "      <th></th>\n",
       "      <th>InChiKey</th>\n",
       "      <th>target_aa_code</th>\n",
       "      <th>gene</th>\n",
       "      <th>Averaged Predictions</th>\n",
       "      <th>is_viral</th>\n",
       "      <th>binding_affinity</th>\n",
       "    </tr>\n",
       "  </thead>\n",
       "  <tbody>\n",
       "    <tr>\n",
       "      <th>127372</th>\n",
       "      <td>MIJYXULNPSFWEK-GTOFXWBISA-N</td>\n",
       "      <td>MDQREILQKFLDEAQSKKITKEEFANEFLKLKRQSTKYKADKTYPT...</td>\n",
       "      <td>PTPN22</td>\n",
       "      <td>0.504184</td>\n",
       "      <td>1</td>\n",
       "      <td>-8.3</td>\n",
       "    </tr>\n",
       "  </tbody>\n",
       "</table>\n",
       "</div>"
      ],
      "text/plain": [
       "                           InChiKey  \\\n",
       "127372  MIJYXULNPSFWEK-GTOFXWBISA-N   \n",
       "\n",
       "                                           target_aa_code    gene  \\\n",
       "127372  MDQREILQKFLDEAQSKKITKEEFANEFLKLKRQSTKYKADKTYPT...  PTPN22   \n",
       "\n",
       "        Averaged Predictions  is_viral  binding_affinity  \n",
       "127372              0.504184         1              -8.3  "
      ]
     },
     "execution_count": 150,
     "metadata": {},
     "output_type": "execute_result"
    }
   ],
   "source": [
    "top_predictions[top_predictions['InChiKey'] == 'MIJYXULNPSFWEK-GTOFXWBISA-N']"
   ]
  },
  {
   "cell_type": "code",
   "execution_count": 151,
   "metadata": {},
   "outputs": [
    {
     "data": {
      "text/html": [
       "<div>\n",
       "<style scoped>\n",
       "    .dataframe tbody tr th:only-of-type {\n",
       "        vertical-align: middle;\n",
       "    }\n",
       "\n",
       "    .dataframe tbody tr th {\n",
       "        vertical-align: top;\n",
       "    }\n",
       "\n",
       "    .dataframe thead th {\n",
       "        text-align: right;\n",
       "    }\n",
       "</style>\n",
       "<table border=\"1\" class=\"dataframe\">\n",
       "  <thead>\n",
       "    <tr style=\"text-align: right;\">\n",
       "      <th></th>\n",
       "      <th>InChiKey</th>\n",
       "      <th>target_aa_code</th>\n",
       "      <th>gene</th>\n",
       "      <th>Averaged Predictions</th>\n",
       "      <th>is_viral</th>\n",
       "      <th>binding_affinity</th>\n",
       "    </tr>\n",
       "  </thead>\n",
       "  <tbody>\n",
       "    <tr>\n",
       "      <th>267523</th>\n",
       "      <td>YKOPWPOFWMYZJZ-PRIAQAIDSA-N</td>\n",
       "      <td>MDQREILQKFLDEAQSKKITKEEFANEFLKLKRQSTKYKADKTYPT...</td>\n",
       "      <td>PTPN22</td>\n",
       "      <td>0.501786</td>\n",
       "      <td>1</td>\n",
       "      <td>-8.3</td>\n",
       "    </tr>\n",
       "  </tbody>\n",
       "</table>\n",
       "</div>"
      ],
      "text/plain": [
       "                           InChiKey  \\\n",
       "267523  YKOPWPOFWMYZJZ-PRIAQAIDSA-N   \n",
       "\n",
       "                                           target_aa_code    gene  \\\n",
       "267523  MDQREILQKFLDEAQSKKITKEEFANEFLKLKRQSTKYKADKTYPT...  PTPN22   \n",
       "\n",
       "        Averaged Predictions  is_viral  binding_affinity  \n",
       "267523              0.501786         1              -8.3  "
      ]
     },
     "execution_count": 151,
     "metadata": {},
     "output_type": "execute_result"
    }
   ],
   "source": [
    "top_predictions[top_predictions['InChiKey'] == 'YKOPWPOFWMYZJZ-PRIAQAIDSA-N']"
   ]
  },
  {
   "cell_type": "code",
   "execution_count": null,
   "metadata": {},
   "outputs": [],
   "source": []
  }
 ],
 "metadata": {
  "kernelspec": {
   "display_name": "Python 3",
   "language": "python",
   "name": "python3"
  },
  "language_info": {
   "codemirror_mode": {
    "name": "ipython",
    "version": 3
   },
   "file_extension": ".py",
   "mimetype": "text/x-python",
   "name": "python",
   "nbconvert_exporter": "python",
   "pygments_lexer": "ipython3",
   "version": "3.7.7"
  },
  "toc": {
   "base_numbering": 1,
   "nav_menu": {},
   "number_sections": true,
   "sideBar": true,
   "skip_h1_title": false,
   "title_cell": "Table of Contents",
   "title_sidebar": "Contents",
   "toc_cell": false,
   "toc_position": {},
   "toc_section_display": true,
   "toc_window_display": false
  }
 },
 "nbformat": 4,
 "nbformat_minor": 4
}
