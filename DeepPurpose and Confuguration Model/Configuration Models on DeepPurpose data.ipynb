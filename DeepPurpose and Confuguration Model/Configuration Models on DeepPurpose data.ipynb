{
 "cells": [
  {
   "cell_type": "code",
   "execution_count": 2,
   "metadata": {},
   "outputs": [],
   "source": [
    "import pandas as pd\n",
    "from bicm import BipartiteGraph\n",
    "import numpy as np\n",
    "from tqdm import tqdm\n",
    "import csv\n",
    "import itertools \n",
    "import matplotlib.pyplot as plt\n",
    "from sklearn.metrics import confusion_matrix, f1_score, classification_report\n",
    "from sklearn.metrics import roc_curve, roc_auc_score, precision_recall_curve, average_precision_score\n",
    "from sklearn.metrics import confusion_matrix, f1_score, classification_report"
   ]
  },
  {
   "cell_type": "code",
   "execution_count": 3,
   "metadata": {},
   "outputs": [],
   "source": [
    "train = pd.read_csv('../data/DeepPurpose_train.csv')\n",
    "test = pd.read_csv('../data/DeepPurpose_test.csv')"
   ]
  },
  {
   "cell_type": "markdown",
   "metadata": {
    "heading_collapsed": true
   },
   "source": [
    "# Reading the Ligand and Target Lists"
   ]
  },
  {
   "cell_type": "code",
   "execution_count": 4,
   "metadata": {
    "hidden": true,
    "scrolled": true
   },
   "outputs": [],
   "source": [
    "text_file = open(\"ligands.txt\", \"r\") # Rows of the adjacency matrix in order\n",
    "ligands = text_file.readlines()\n",
    "\n",
    "text_file = open(\"targets.txt\", \"r\") # Columns of the adjacency matrix in order \n",
    "targets = text_file.readlines()"
   ]
  },
  {
   "cell_type": "code",
   "execution_count": 5,
   "metadata": {
    "hidden": true
   },
   "outputs": [
    {
     "name": "stderr",
     "output_type": "stream",
     "text": [
      "100%|██████████| 10416/10416 [00:00<00:00, 967209.16it/s]\n",
      "100%|██████████| 1391/1391 [00:00<00:00, 624454.34it/s]\n"
     ]
    }
   ],
   "source": [
    "ligands = [j.replace('\\n','') for j in tqdm(ligands)]\n",
    "targets = [j.replace('\\n','') for j in tqdm(targets)]"
   ]
  },
  {
   "cell_type": "code",
   "execution_count": 6,
   "metadata": {
    "hidden": true
   },
   "outputs": [
    {
     "name": "stdout",
     "output_type": "stream",
     "text": [
      "Ligands:  10416\n",
      "Targets:  1391\n"
     ]
    }
   ],
   "source": [
    "number_ligands = len(ligands)\n",
    "number_targets = len(targets)\n",
    "print('Ligands: ', number_ligands)\n",
    "print('Targets: ',number_targets)"
   ]
  },
  {
   "cell_type": "markdown",
   "metadata": {
    "heading_collapsed": true
   },
   "source": [
    "# Preparing Degree Ratio Dictionaries from Training Data"
   ]
  },
  {
   "cell_type": "code",
   "execution_count": 7,
   "metadata": {
    "hidden": true
   },
   "outputs": [],
   "source": [
    "train_pos = train[train['Label'] == 1]\n",
    "train_neg = train[train['Label'] == 0]"
   ]
  },
  {
   "cell_type": "code",
   "execution_count": 8,
   "metadata": {
    "hidden": true
   },
   "outputs": [],
   "source": [
    "pos_deg_0_ligands = []\n",
    "pos_deg_0_targets = []\n",
    "neg_deg_0_ligands = []\n",
    "neg_deg_0_targets = []"
   ]
  },
  {
   "cell_type": "code",
   "execution_count": 9,
   "metadata": {
    "hidden": true
   },
   "outputs": [
    {
     "name": "stderr",
     "output_type": "stream",
     "text": [
      "100%|██████████| 10416/10416 [01:03<00:00, 164.83it/s]\n"
     ]
    }
   ],
   "source": [
    "ligand_degree_ratio = dict()\n",
    "ligand_all_average = []\n",
    "\n",
    "for ligand in tqdm(ligands):\n",
    "    pos_deg = len(train_pos[train_pos['SMILES'] == ligand])\n",
    "    neg_deg = len(train_neg[train_neg['SMILES'] == ligand])\n",
    "    ligand_degree_ratio[ligand] = dict()\n",
    "    ligand_degree_ratio[ligand]['deg_ratio'] = pos_deg / (pos_deg + neg_deg)\n",
    "    ligand_degree_ratio[ligand]['deg_avg'] = pos_deg / number_targets \n",
    "    ligand_all_average.append(pos_deg / number_targets)\n",
    "    if pos_deg == 0:\n",
    "        pos_deg_0_ligands.append(ligand)\n",
    "    if neg_deg == 0:\n",
    "        neg_deg_0_ligands.append(ligand)\n",
    "    \n",
    "ligands_all_avg = sum(ligand_all_average) / number_ligands"
   ]
  },
  {
   "cell_type": "code",
   "execution_count": 10,
   "metadata": {
    "hidden": true
   },
   "outputs": [
    {
     "name": "stderr",
     "output_type": "stream",
     "text": [
      "100%|██████████| 1391/1391 [00:08<00:00, 166.94it/s]\n"
     ]
    }
   ],
   "source": [
    "targets_degree_ratio = dict()\n",
    "target_all_average = []\n",
    "\n",
    "for target in tqdm(targets):\n",
    "    pos_deg = len(train_pos[train_pos['Target Sequence'] == target])\n",
    "    neg_deg = len(train_neg[train_neg['Target Sequence'] == target])\n",
    "    targets_degree_ratio[target] = dict()\n",
    "    targets_degree_ratio[target]['deg_ratio'] = pos_deg / (pos_deg + neg_deg)\n",
    "    targets_degree_ratio[target]['deg_avg'] = pos_deg / number_ligands\n",
    "    target_all_average.append(pos_deg / number_ligands)\n",
    "    if pos_deg == 0:\n",
    "        pos_deg_0_targets.append(target)\n",
    "    if neg_deg == 0:\n",
    "        neg_deg_0_targets.append(target)\n",
    "    \n",
    "targets_all_avg = sum(target_all_average) / number_targets"
   ]
  },
  {
   "cell_type": "code",
   "execution_count": 11,
   "metadata": {
    "hidden": true
   },
   "outputs": [
    {
     "name": "stdout",
     "output_type": "stream",
     "text": [
      "Ligands with positive degree 0:  6539\n",
      "Ligands with negative degree 0:  3084\n",
      "Targets with positive degree 0:  556\n",
      "Targets with negative degree 0:  168\n"
     ]
    }
   ],
   "source": [
    "print('Ligands with positive degree 0: ',len(pos_deg_0_ligands))\n",
    "print('Ligands with negative degree 0: ',len(neg_deg_0_ligands))\n",
    "print('Targets with positive degree 0: ',len(pos_deg_0_targets))\n",
    "print('Targets with negative degree 0: ',len(neg_deg_0_targets))"
   ]
  },
  {
   "cell_type": "markdown",
   "metadata": {
    "heading_collapsed": true
   },
   "source": [
    "# Naive Model"
   ]
  },
  {
   "cell_type": "code",
   "execution_count": 12,
   "metadata": {
    "hidden": true
   },
   "outputs": [
    {
     "name": "stderr",
     "output_type": "stream",
     "text": [
      "14150it [00:04, 3210.13it/s]\n"
     ]
    }
   ],
   "source": [
    "test_probabilty_predicted_naive = []\n",
    "\n",
    "for index, row in tqdm(test.iterrows()):\n",
    "    \n",
    "    if row['SMILES'] in ligands and row['Target Sequence'] in targets:\n",
    "        p_naive = ligand_degree_ratio[row['SMILES']]['deg_ratio'] * targets_degree_ratio[row['Target Sequence']]['deg_ratio']\n",
    "        test_probabilty_predicted_naive.append(p_naive) \n",
    "    elif row['SMILES'] in ligands and row['Target Sequence'] not in targets:\n",
    "        p_naive = ligand_degree_ratio[row['SMILES']]['deg_ratio']  \n",
    "        test_probabilty_predicted_naive.append(p_naive) \n",
    "    elif row['SMILES'] not in ligands and row['Target Sequence'] in targets:\n",
    "        p_naive = targets_degree_ratio[row['Target Sequence']]['deg_ratio'] \n",
    "        test_probabilty_predicted_naive.append(p_naive) \n",
    "    else:\n",
    "        test_probabilty_predicted_naive.append(1)\n",
    "        "
   ]
  },
  {
   "cell_type": "code",
   "execution_count": 13,
   "metadata": {
    "hidden": true
   },
   "outputs": [
    {
     "name": "stdout",
     "output_type": "stream",
     "text": [
      "AUC:  0.8491380951089191\n",
      "AUP:  0.6402460532069669\n"
     ]
    }
   ],
   "source": [
    "## Performance on the test dataset\n",
    "\n",
    "print('AUC: ', roc_auc_score(test['Label'].tolist(), test_probabilty_predicted_naive))\n",
    "print('AUP: ', average_precision_score(test['Label'].tolist(), test_probabilty_predicted_naive))"
   ]
  },
  {
   "cell_type": "markdown",
   "metadata": {
    "heading_collapsed": true
   },
   "source": [
    "# Configuration Model - Single Layer"
   ]
  },
  {
   "cell_type": "code",
   "execution_count": 14,
   "metadata": {
    "hidden": true
   },
   "outputs": [],
   "source": [
    "## Annotated means the node has at least 1 binding information\n",
    "\n",
    "pos_annotated_ligands = list(set(ligands)-set(pos_deg_0_ligands))\n",
    "pos_annotated_targets = list(set(targets)-set(pos_deg_0_targets))\n",
    "\n",
    "neg_annotated_ligands = list(set(ligands)-set(neg_deg_0_ligands))\n",
    "neg_annotated_targets = list(set(targets)-set(neg_deg_0_targets))"
   ]
  },
  {
   "cell_type": "code",
   "execution_count": 15,
   "metadata": {
    "hidden": true
   },
   "outputs": [],
   "source": [
    "P = np.loadtxt(open(\"P.csv\", \"rb\"), delimiter=\",\", skiprows=0) # Output of MATLAB run "
   ]
  },
  {
   "cell_type": "code",
   "execution_count": 16,
   "metadata": {
    "hidden": true
   },
   "outputs": [
    {
     "name": "stderr",
     "output_type": "stream",
     "text": [
      "14150it [00:25, 557.07it/s]\n"
     ]
    }
   ],
   "source": [
    "predicted_probability_test_single_layer = []\n",
    "\n",
    "for index, row in tqdm(test.iterrows()):\n",
    "    if row['SMILES'] in pos_annotated_ligands and row['Target Sequence'] in pos_annotated_targets:\n",
    "        p = P[ligands.index(row['SMILES']),targets.index(row['Target Sequence'])]\n",
    "    elif row['SMILES'] in pos_annotated_ligands and row['Target Sequence'] not in pos_annotated_targets:\n",
    "        p = sum(P[ligands.index(row['SMILES']),:]) / len(targets) # Average binding probaility of the ligand\n",
    "    elif row['SMILES'] not in pos_annotated_ligands and row['Target Sequence'] in pos_annotated_targets:\n",
    "        p = sum(P[:,targets.index(row['Target Sequence'])]) / len(ligands) # Average binding probability of the target\n",
    "    else:\n",
    "        p = np.sum(P) / (len(ligands)*len(targets)) # Both unseen - average over all probabilties \n",
    "                  \n",
    "    predicted_probability_test_single_layer.append(p)"
   ]
  },
  {
   "cell_type": "code",
   "execution_count": 17,
   "metadata": {
    "hidden": true
   },
   "outputs": [
    {
     "name": "stdout",
     "output_type": "stream",
     "text": [
      "AUC:  0.6491480927112449\n",
      "AUP:  0.35039460079161866\n"
     ]
    }
   ],
   "source": [
    "## Performance on the test dataset\n",
    "\n",
    "print('AUC: ', roc_auc_score(test['Label'].tolist(), predicted_probability_test_single_layer))\n",
    "print('AUP: ', average_precision_score(test['Label'].tolist(), predicted_probability_test_single_layer))"
   ]
  },
  {
   "cell_type": "markdown",
   "metadata": {
    "heading_collapsed": true
   },
   "source": [
    "# Configuration Model - Duplex - Unconditioned"
   ]
  },
  {
   "cell_type": "code",
   "execution_count": 18,
   "metadata": {
    "hidden": true
   },
   "outputs": [],
   "source": [
    "summat10 = np.loadtxt(open(\"summat10.csv\", \"rb\"), delimiter=\",\", skiprows=0) # Output of MATLAB run "
   ]
  },
  {
   "cell_type": "code",
   "execution_count": 19,
   "metadata": {
    "hidden": true
   },
   "outputs": [],
   "source": [
    "summat01 = np.loadtxt(open(\"summat01.csv\", \"rb\"), delimiter=\",\", skiprows=0) # Output of MATLAB run "
   ]
  },
  {
   "cell_type": "code",
   "execution_count": 20,
   "metadata": {
    "hidden": true
   },
   "outputs": [
    {
     "name": "stderr",
     "output_type": "stream",
     "text": [
      "14150it [00:25, 558.82it/s]\n"
     ]
    }
   ],
   "source": [
    "predicted_probability_test_unconditioned = []\n",
    "\n",
    "for index, row in tqdm(test.iterrows()):\n",
    "    if row['SMILES'] in pos_annotated_ligands and row['Target Sequence'] in pos_annotated_targets:\n",
    "        p10 = summat10[ligands.index(row['SMILES']),targets.index(row['Target Sequence'])]\n",
    "    elif row['SMILES'] in pos_annotated_ligands and row['Target Sequence'] not in pos_annotated_targets:\n",
    "        p10 = sum(summat10[ligands.index(row['SMILES']),:]) / len(targets) # Average binding probbaility of the ligand\n",
    "    elif row['SMILES'] not in pos_annotated_ligands and row['Target Sequence'] in pos_annotated_targets:\n",
    "        p10 = sum(summat10[:,targets.index(row['Target Sequence'])]) / len(ligands) # Average binding probability of the target\n",
    "    else:\n",
    "        p10 = np.sum(summat10) / (len(ligands)*len(targets)) # Both unseen - average over all probabilties \n",
    "                  \n",
    "    predicted_probability_test_unconditioned.append(p10)"
   ]
  },
  {
   "cell_type": "code",
   "execution_count": 21,
   "metadata": {
    "hidden": true
   },
   "outputs": [
    {
     "name": "stdout",
     "output_type": "stream",
     "text": [
      "AUC:  0.6491480927112449\n",
      "AUP:  0.35039460079161866\n"
     ]
    }
   ],
   "source": [
    "## Performance on the test dataset\n",
    "\n",
    "print('AUC: ', roc_auc_score(test['Label'].tolist(), predicted_probability_test_unconditioned))\n",
    "print('AUP: ', average_precision_score(test['Label'].tolist(), predicted_probability_test_unconditioned))"
   ]
  },
  {
   "cell_type": "markdown",
   "metadata": {},
   "source": [
    "# Configuration Model - Duplex - Conditioned"
   ]
  },
  {
   "cell_type": "markdown",
   "metadata": {},
   "source": [
    "## Positively Annotated Seen Nodes"
   ]
  },
  {
   "cell_type": "code",
   "execution_count": 24,
   "metadata": {},
   "outputs": [
    {
     "name": "stderr",
     "output_type": "stream",
     "text": [
      "/miniconda/lib/python3.6/site-packages/ipykernel_launcher.py:4: RuntimeWarning: invalid value encountered in true_divide\n",
      "  after removing the cwd from sys.path.\n",
      "14150it [00:05, 2645.87it/s]\n"
     ]
    }
   ],
   "source": [
    "test_probabilty_predicted_conditioned = []\n",
    "\n",
    "## Average conditional probability\n",
    "conditoned_summat = np.divide(summat10,np.add(summat10,summat01)) # Elementwise pos_deg / (pos_deg + neg_deg)\n",
    "conditoned_summat = conditoned_summat[~np.isnan(conditoned_summat)] \n",
    "average_conditional_probability = sum(conditoned_summat) / len(conditoned_summat) # Average over valid conditional probabilities\n",
    "\n",
    "for index, row in tqdm(test.iterrows()):      \n",
    "    \n",
    "    if row['SMILES'] in pos_annotated_ligands and row['Target Sequence'] in pos_annotated_targets:\n",
    "        p10 = summat10[ligands.index(row['SMILES']),targets.index(row['Target Sequence'])]\n",
    "        p01 = summat01[ligands.index(row['SMILES']),targets.index(row['Target Sequence'])]\n",
    "        p10_conditioned = p10 / (p10 + p01)\n",
    "        test_probabilty_predicted_conditioned.append(p10_conditioned)\n",
    "        \n",
    "    elif row['SMILES'] in pos_annotated_ligands and row['Target Sequence'] not in pos_annotated_targets:\n",
    "        p10_conditioned = ligand_degree_ratio[row['SMILES']]['deg_ratio']  ## k_+ / (k_+ + k_-)\n",
    "        test_probabilty_predicted_conditioned.append(p10_conditioned)\n",
    "        \n",
    "    elif row['SMILES'] not in pos_annotated_ligands and row['Target Sequence'] in pos_annotated_targets:\n",
    "        p10_conditioned = targets_degree_ratio[row['Target Sequence']]['deg_ratio'] ## k_+ / (k_+ + k_-)\n",
    "        test_probabilty_predicted_conditioned.append(p10_conditioned)\n",
    "\n",
    "    else:\n",
    "        p10_conditioned = average_conditional_probability\n",
    "        test_probabilty_predicted_conditioned.append(p10_conditioned)\n",
    "        "
   ]
  },
  {
   "cell_type": "code",
   "execution_count": 25,
   "metadata": {},
   "outputs": [
    {
     "name": "stdout",
     "output_type": "stream",
     "text": [
      "AUC:  0.8567519511002759\n",
      "AUP:  0.6238655911703138\n"
     ]
    }
   ],
   "source": [
    "## Performance on the test dataset\n",
    "\n",
    "print('AUC: ', roc_auc_score(test['Label'].tolist(), test_probabilty_predicted_conditioned))\n",
    "print('AUP: ', average_precision_score(test['Label'].tolist(), test_probabilty_predicted_conditioned))"
   ]
  },
  {
   "cell_type": "markdown",
   "metadata": {
    "heading_collapsed": true
   },
   "source": [
    "## Both Annotated Seen Nodes"
   ]
  },
  {
   "cell_type": "code",
   "execution_count": 22,
   "metadata": {
    "hidden": true
   },
   "outputs": [
    {
     "name": "stderr",
     "output_type": "stream",
     "text": [
      "/miniconda/lib/python3.6/site-packages/ipykernel_launcher.py:4: RuntimeWarning: invalid value encountered in true_divide\n",
      "  after removing the cwd from sys.path.\n",
      "14150it [00:06, 2248.48it/s]\n"
     ]
    }
   ],
   "source": [
    "test_probabilty_predicted_conditioned = []\n",
    "\n",
    "## Average conditional probability\n",
    "conditoned_summat = np.divide(summat10,np.add(summat10,summat01)) # Elementwise pos_deg / (pos_deg + neg_deg)\n",
    "conditoned_summat = conditoned_summat[~np.isnan(conditoned_summat)] \n",
    "average_conditional_probability = sum(conditoned_summat) / len(conditoned_summat) # Average over valid conditional probabilities\n",
    "\n",
    "for index, row in tqdm(test.iterrows()):      \n",
    "    \n",
    "    if row['SMILES'] in pos_annotated_ligands and row['SMILES'] in neg_annotated_ligands and row['Target Sequence'] in pos_annotated_targets and row['Target Sequence'] in neg_annotated_targets:\n",
    "        p10 = summat10[ligands.index(row['SMILES']),targets.index(row['Target Sequence'])]\n",
    "        p01 = summat01[ligands.index(row['SMILES']),targets.index(row['Target Sequence'])]\n",
    "        p10_conditioned = p10 / (p10 + p01)\n",
    "        test_probabilty_predicted_conditioned.append(p10_conditioned)\n",
    "        \n",
    "    elif row['SMILES'] in pos_annotated_ligands and row['SMILES'] in neg_annotated_ligands:\n",
    "        p10_conditioned = ligand_degree_ratio[row['SMILES']]['deg_ratio']  ## k_+ / (k_+ + k_-)\n",
    "        test_probabilty_predicted_conditioned.append(p10_conditioned)\n",
    "        \n",
    "    elif row['Target Sequence'] in pos_annotated_targets and row['Target Sequence'] in neg_annotated_targets:\n",
    "        p10_conditioned = targets_degree_ratio[row['Target Sequence']]['deg_ratio'] ## k_+ / (k_+ + k_-)\n",
    "        test_probabilty_predicted_conditioned.append(p10_conditioned)\n",
    "\n",
    "    else:\n",
    "        p10_conditioned = average_conditional_probability\n",
    "        test_probabilty_predicted_conditioned.append(p10_conditioned)\n",
    "        "
   ]
  },
  {
   "cell_type": "code",
   "execution_count": 23,
   "metadata": {
    "hidden": true,
    "scrolled": true
   },
   "outputs": [
    {
     "name": "stdout",
     "output_type": "stream",
     "text": [
      "AUC:  0.8290993013491732\n",
      "AUP:  0.46688101903990786\n"
     ]
    }
   ],
   "source": [
    "## Performance on the test dataset\n",
    "\n",
    "print('AUC: ', roc_auc_score(test['Label'].tolist(), test_probabilty_predicted_conditioned))\n",
    "print('AUP: ', average_precision_score(test['Label'].tolist(), test_probabilty_predicted_conditioned))"
   ]
  },
  {
   "cell_type": "markdown",
   "metadata": {},
   "source": [
    "# Performances for Unseen Edges, Unseen Targets and Unseen Nodes"
   ]
  },
  {
   "cell_type": "code",
   "execution_count": 20,
   "metadata": {},
   "outputs": [],
   "source": [
    "test['test_probabilty_predicted_conditioned'] = test_probabilty_predicted_conditioned"
   ]
  },
  {
   "cell_type": "code",
   "execution_count": 21,
   "metadata": {},
   "outputs": [],
   "source": [
    "train_ligands = list(set(train['SMILES'].tolist()))\n",
    "train_targets = list(set(train['Target Sequence'].tolist()))\n",
    "\n",
    "test_minus_train_ligands = list(set(test['SMILES'].tolist()).difference(train_ligands))\n",
    "test_minus_train_targets = list(set(test['Target Sequence'].tolist()).difference(train_targets))"
   ]
  },
  {
   "cell_type": "code",
   "execution_count": 23,
   "metadata": {},
   "outputs": [
    {
     "name": "stdout",
     "output_type": "stream",
     "text": [
      "Seen ligands:  10416\n",
      "Seen targets:  1391\n",
      "Unseen ligands:  2051\n",
      "Unseen targets:  75\n"
     ]
    }
   ],
   "source": [
    "print('Seen ligands: ', len(train_ligands))\n",
    "print('Seen targets: ', len(train_targets))\n",
    "print('Unseen ligands: ', len(test_minus_train_ligands))\n",
    "print('Unseen targets: ', len(test_minus_train_targets))"
   ]
  },
  {
   "cell_type": "code",
   "execution_count": 30,
   "metadata": {
    "scrolled": true
   },
   "outputs": [
    {
     "name": "stdout",
     "output_type": "stream",
     "text": [
      "Unseen edges:  11927\n",
      "AUC:  0.8407253806394404\n",
      "AUP:  0.5139294916148266\n"
     ]
    }
   ],
   "source": [
    "# Unseen Edges\n",
    "\n",
    "test_unseen_edges = test[test['SMILES'].isin(train_ligands) & test['Target Sequence'].isin(train_targets)]\n",
    "print('Unseen edges: ', len(test_unseen_edges))\n",
    "\n",
    "print('AUC: ', roc_auc_score(test_unseen_edges['Label'].tolist(), test_unseen_edges['test_probabilty_predicted_conditioned']))\n",
    "print('AUP: ', average_precision_score(test_unseen_edges['Label'].tolist(), test_unseen_edges['test_probabilty_predicted_conditioned']))"
   ]
  },
  {
   "cell_type": "code",
   "execution_count": 34,
   "metadata": {
    "scrolled": true
   },
   "outputs": [
    {
     "name": "stdout",
     "output_type": "stream",
     "text": [
      "Unseen targets:  80\n",
      "AUC:  0.7823984526112185\n",
      "AUP:  0.7404484670034909\n"
     ]
    }
   ],
   "source": [
    "# Unseen Targets\n",
    "\n",
    "test_unseen_targets = test[test['Target Sequence'].isin(test_minus_train_targets)]\n",
    "print('Unseen targets: ', len(test_unseen_targets))\n",
    "\n",
    "print('AUC: ', roc_auc_score(test_unseen_targets['Label'].tolist(), test_unseen_targets['test_probabilty_predicted_conditioned']))\n",
    "print('AUP: ', average_precision_score(test_unseen_targets['Label'].tolist(), test_unseen_targets['test_probabilty_predicted_conditioned']))"
   ]
  },
  {
   "cell_type": "code",
   "execution_count": 36,
   "metadata": {},
   "outputs": [
    {
     "name": "stdout",
     "output_type": "stream",
     "text": [
      "Unseen nodes:  34\n",
      "AUC:  0.5\n",
      "AUP:  0.35294117647058826\n"
     ]
    }
   ],
   "source": [
    "# Unseen Nodes\n",
    "\n",
    "test_unseen_nodes = test[test['SMILES'].isin(test_minus_train_ligands) & test['Target Sequence'].isin(test_minus_train_targets)]\n",
    "print('Unseen nodes: ', len(test_unseen_nodes))\n",
    "\n",
    "print('AUC: ', roc_auc_score(test_unseen_nodes['Label'].tolist(), test_unseen_nodes['test_probabilty_predicted_conditioned']))\n",
    "print('AUP: ', average_precision_score(test_unseen_nodes['Label'].tolist(), test_unseen_nodes['test_probabilty_predicted_conditioned']))"
   ]
  },
  {
   "cell_type": "code",
   "execution_count": null,
   "metadata": {},
   "outputs": [],
   "source": []
  }
 ],
 "metadata": {
  "kernelspec": {
   "display_name": "Python 3",
   "language": "python",
   "name": "python3"
  },
  "language_info": {
   "codemirror_mode": {
    "name": "ipython",
    "version": 3
   },
   "file_extension": ".py",
   "mimetype": "text/x-python",
   "name": "python",
   "nbconvert_exporter": "python",
   "pygments_lexer": "ipython3",
   "version": "3.6.6"
  },
  "toc": {
   "base_numbering": 1,
   "nav_menu": {},
   "number_sections": true,
   "sideBar": true,
   "skip_h1_title": false,
   "title_cell": "Table of Contents",
   "title_sidebar": "Contents",
   "toc_cell": false,
   "toc_position": {},
   "toc_section_display": true,
   "toc_window_display": false
  }
 },
 "nbformat": 4,
 "nbformat_minor": 4
}
