{
 "cells": [
  {
   "cell_type": "code",
   "execution_count": 1,
   "metadata": {},
   "outputs": [],
   "source": [
    "import os\n",
    "os.chdir('/DeepPurpose/')\n",
    "\n",
    "import DeepPurpose.DTI as models\n",
    "from DeepPurpose.utils import *\n",
    "from DeepPurpose.dataset import *\n",
    "import random\n",
    "from sklearn.metrics import confusion_matrix, f1_score, classification_report\n",
    "from sklearn.metrics import roc_curve, roc_auc_score, precision_recall_curve, average_precision_score\n",
    "from sklearn.metrics import confusion_matrix, f1_score, classification_report\n",
    "import matplotlib.pyplot as plt\n",
    "from tqdm import tqdm\n",
    "import pandas as pd\n",
    "from matplotlib.pyplot import figure"
   ]
  },
  {
   "cell_type": "code",
   "execution_count": 2,
   "metadata": {},
   "outputs": [
    {
     "name": "stdout",
     "output_type": "stream",
     "text": [
      "Beginning Processing...\n",
      "Beginning to extract zip file...\n",
      "Default binary threshold for the binding affinity scores are 30, you can adjust it by using the \"threshold\" parameter\n",
      "Done!\n"
     ]
    }
   ],
   "source": [
    "X_drug, X_target, y = load_process_DAVIS(binary=True)"
   ]
  },
  {
   "cell_type": "code",
   "execution_count": 3,
   "metadata": {},
   "outputs": [
    {
     "name": "stdout",
     "output_type": "stream",
     "text": [
      "Drug Target Interaction Prediction Mode...\n",
      "in total: 30056 drug-target pairs\n",
      "encoding drug...\n",
      "unique drugs: 68\n",
      "encoding protein...\n",
      "unique target sequence: 379\n",
      "-- Encoding AAC takes time. Time Reference: 24s for ~100 sequences in a CPU.\t\t\t\t Calculate your time by the unique target sequence #, instead of the entire dataset.\n",
      "splitting dataset...\n",
      "Done.\n"
     ]
    }
   ],
   "source": [
    "drug_encoding = 'MPNN'\n",
    "target_encoding = 'AAC'\n",
    "\n",
    "train, val, test = data_process(X_drug, \n",
    "                                X_target, \n",
    "                                y, \n",
    "                                drug_encoding, target_encoding, \n",
    "                                split_method='random',frac=[0.7,0.1,0.2])\n",
    "\n",
    "config = generate_config(drug_encoding = drug_encoding, \n",
    "                         target_encoding = target_encoding, \n",
    "                         cls_hidden_dims = [1024,1024,512], \n",
    "                         train_epoch = 100, \n",
    "                         LR = 0.001, \n",
    "                         batch_size = 128,\n",
    "                         cnn_target_filters = [32,64,96],\n",
    "                         cnn_target_kernels = [4,8,12]\n",
    "                        )"
   ]
  },
  {
   "cell_type": "code",
   "execution_count": 4,
   "metadata": {
    "scrolled": true
   },
   "outputs": [
    {
     "name": "stdout",
     "output_type": "stream",
     "text": [
      "Let's use 4 GPUs!\n",
      "--- Data Preparation ---\n",
      "--- Go for Training ---\n",
      "Training at Epoch 1 iteration 0 with loss 0.70142. Total time 0.00277 hours\n",
      "Training at Epoch 1 iteration 100 with loss 0.20863. Total time 0.00666 hours\n",
      "Validation at Epoch 1, AUROC: 0.74203 , AUPRC: 0.17635 , F1: 0.0 , Cross-entropy Loss: 1.83839\n",
      "Training at Epoch 2 iteration 0 with loss 0.11213. Total time 0.01 hours\n",
      "Training at Epoch 2 iteration 100 with loss 0.26199. Total time 0.01388 hours\n",
      "Validation at Epoch 2, AUROC: 0.74223 , AUPRC: 0.21344 , F1: 0.0 , Cross-entropy Loss: 1.83839\n",
      "Training at Epoch 3 iteration 0 with loss 0.22607. Total time 0.01722 hours\n",
      "Training at Epoch 3 iteration 100 with loss 0.12577. Total time 0.02111 hours\n",
      "Validation at Epoch 3, AUROC: 0.74155 , AUPRC: 0.18502 , F1: 0.0 , Cross-entropy Loss: 1.83839\n",
      "Training at Epoch 4 iteration 0 with loss 0.29562. Total time 0.02444 hours\n",
      "Training at Epoch 4 iteration 100 with loss 0.22412. Total time 0.02833 hours\n",
      "Validation at Epoch 4, AUROC: 0.74919 , AUPRC: 0.22735 , F1: 0.0 , Cross-entropy Loss: 1.83839\n",
      "Training at Epoch 5 iteration 0 with loss 0.14930. Total time 0.03138 hours\n",
      "Training at Epoch 5 iteration 100 with loss 0.15787. Total time 0.03527 hours\n",
      "Validation at Epoch 5, AUROC: 0.75267 , AUPRC: 0.21881 , F1: 0.0 , Cross-entropy Loss: 1.83839\n",
      "Training at Epoch 6 iteration 0 with loss 0.16917. Total time 0.03861 hours\n",
      "Training at Epoch 6 iteration 100 with loss 0.14527. Total time 0.0425 hours\n",
      "Validation at Epoch 6, AUROC: 0.78036 , AUPRC: 0.21396 , F1: 0.0 , Cross-entropy Loss: 1.83839\n",
      "Training at Epoch 7 iteration 0 with loss 0.12553. Total time 0.04583 hours\n",
      "Training at Epoch 7 iteration 100 with loss 0.10687. Total time 0.04972 hours\n",
      "Validation at Epoch 7, AUROC: 0.77843 , AUPRC: 0.23604 , F1: 0.0 , Cross-entropy Loss: 1.83839\n",
      "Training at Epoch 8 iteration 0 with loss 0.14814. Total time 0.05305 hours\n",
      "Training at Epoch 8 iteration 100 with loss 0.21184. Total time 0.05694 hours\n",
      "Validation at Epoch 8, AUROC: 0.79825 , AUPRC: 0.25564 , F1: 0.0 , Cross-entropy Loss: 1.83839\n",
      "Training at Epoch 9 iteration 0 with loss 0.10076. Total time 0.06027 hours\n",
      "Training at Epoch 9 iteration 100 with loss 0.15393. Total time 0.06444 hours\n",
      "Validation at Epoch 9, AUROC: 0.80059 , AUPRC: 0.25063 , F1: 0.0 , Cross-entropy Loss: 1.83839\n",
      "Training at Epoch 10 iteration 0 with loss 0.37240. Total time 0.0675 hours\n",
      "Training at Epoch 10 iteration 100 with loss 0.17613. Total time 0.07138 hours\n",
      "Validation at Epoch 10, AUROC: 0.80272 , AUPRC: 0.25109 , F1: 0.0 , Cross-entropy Loss: 1.83839\n",
      "Training at Epoch 11 iteration 0 with loss 0.15210. Total time 0.07472 hours\n",
      "Training at Epoch 11 iteration 100 with loss 0.18664. Total time 0.07861 hours\n",
      "Validation at Epoch 11, AUROC: 0.79962 , AUPRC: 0.24673 , F1: 0.0 , Cross-entropy Loss: 1.83839\n",
      "Training at Epoch 12 iteration 0 with loss 0.17342. Total time 0.08194 hours\n",
      "Training at Epoch 12 iteration 100 with loss 0.13799. Total time 0.08583 hours\n",
      "Validation at Epoch 12, AUROC: 0.79754 , AUPRC: 0.28612 , F1: 0.15300 , Cross-entropy Loss: 1.78094\n",
      "Training at Epoch 13 iteration 0 with loss 0.16648. Total time 0.08916 hours\n",
      "Training at Epoch 13 iteration 100 with loss 0.14825. Total time 0.09305 hours\n",
      "Validation at Epoch 13, AUROC: 0.79755 , AUPRC: 0.29476 , F1: 0.01242 , Cross-entropy Loss: 1.82690\n",
      "Training at Epoch 14 iteration 0 with loss 0.17296. Total time 0.09638 hours\n",
      "Training at Epoch 14 iteration 100 with loss 0.09122. Total time 0.10027 hours\n",
      "Validation at Epoch 14, AUROC: 0.80245 , AUPRC: 0.32650 , F1: 0.11428 , Cross-entropy Loss: 1.78094\n",
      "Training at Epoch 15 iteration 0 with loss 0.16155. Total time 0.10361 hours\n",
      "Training at Epoch 15 iteration 100 with loss 0.13307. Total time 0.1075 hours\n",
      "Validation at Epoch 15, AUROC: 0.81104 , AUPRC: 0.34119 , F1: 0.31336 , Cross-entropy Loss: 1.71200\n",
      "Training at Epoch 16 iteration 0 with loss 0.17098. Total time 0.11083 hours\n",
      "Training at Epoch 16 iteration 100 with loss 0.12977. Total time 0.11472 hours\n",
      "Validation at Epoch 16, AUROC: 0.81916 , AUPRC: 0.32879 , F1: 0.16393 , Cross-entropy Loss: 1.75796\n",
      "Training at Epoch 17 iteration 0 with loss 0.08956. Total time 0.11777 hours\n",
      "Training at Epoch 17 iteration 100 with loss 0.12265. Total time 0.12194 hours\n",
      "Validation at Epoch 17, AUROC: 0.81815 , AUPRC: 0.34355 , F1: 0.29383 , Cross-entropy Loss: 1.71200\n",
      "Training at Epoch 18 iteration 0 with loss 0.09606. Total time 0.12527 hours\n",
      "Training at Epoch 18 iteration 100 with loss 0.09828. Total time 0.12916 hours\n",
      "Validation at Epoch 18, AUROC: 0.81952 , AUPRC: 0.32049 , F1: 0.31481 , Cross-entropy Loss: 1.70051\n",
      "Training at Epoch 19 iteration 0 with loss 0.11452. Total time 0.1325 hours\n",
      "Training at Epoch 19 iteration 100 with loss 0.16634. Total time 0.13638 hours\n",
      "Validation at Epoch 19, AUROC: 0.82013 , AUPRC: 0.36853 , F1: 0.30331 , Cross-entropy Loss: 1.68902\n",
      "Training at Epoch 20 iteration 0 with loss 0.18032. Total time 0.13972 hours\n",
      "Training at Epoch 20 iteration 100 with loss 0.06307. Total time 0.14361 hours\n",
      "Validation at Epoch 20, AUROC: 0.83289 , AUPRC: 0.36987 , F1: 0.29807 , Cross-entropy Loss: 1.67753\n",
      "Training at Epoch 21 iteration 0 with loss 0.15185. Total time 0.14694 hours\n",
      "Training at Epoch 21 iteration 100 with loss 0.16250. Total time 0.15055 hours\n",
      "Validation at Epoch 21, AUROC: 0.82880 , AUPRC: 0.36445 , F1: 0.22564 , Cross-entropy Loss: 1.73498\n",
      "Training at Epoch 22 iteration 0 with loss 0.19897. Total time 0.15388 hours\n",
      "Training at Epoch 22 iteration 100 with loss 0.12005. Total time 0.15777 hours\n",
      "Validation at Epoch 22, AUROC: 0.84690 , AUPRC: 0.38458 , F1: 0.28155 , Cross-entropy Loss: 1.70051\n",
      "Training at Epoch 23 iteration 0 with loss 0.07700. Total time 0.16111 hours\n",
      "Training at Epoch 23 iteration 100 with loss 0.19213. Total time 0.165 hours\n",
      "Validation at Epoch 23, AUROC: 0.83356 , AUPRC: 0.39982 , F1: 0.30243 , Cross-entropy Loss: 1.64306\n",
      "Training at Epoch 24 iteration 0 with loss 0.08774. Total time 0.16833 hours\n",
      "Training at Epoch 24 iteration 100 with loss 0.08428. Total time 0.17222 hours\n",
      "Validation at Epoch 24, AUROC: 0.85865 , AUPRC: 0.40809 , F1: 0.33492 , Cross-entropy Loss: 1.59710\n",
      "Training at Epoch 25 iteration 0 with loss 0.08626. Total time 0.17555 hours\n",
      "Training at Epoch 25 iteration 100 with loss 0.12282. Total time 0.17944 hours\n",
      "Validation at Epoch 25, AUROC: 0.85681 , AUPRC: 0.42314 , F1: 0.41538 , Cross-entropy Loss: 1.74648\n",
      "Training at Epoch 26 iteration 0 with loss 0.15920. Total time 0.18277 hours\n",
      "Training at Epoch 26 iteration 100 with loss 0.13586. Total time 0.18666 hours\n",
      "Validation at Epoch 26, AUROC: 0.85478 , AUPRC: 0.43650 , F1: 0.39090 , Cross-entropy Loss: 1.53965\n",
      "Training at Epoch 27 iteration 0 with loss 0.14255. Total time 0.18972 hours\n",
      "Training at Epoch 27 iteration 100 with loss 0.18977. Total time 0.19388 hours\n",
      "Validation at Epoch 27, AUROC: 0.84534 , AUPRC: 0.44368 , F1: 0.38053 , Cross-entropy Loss: 1.60859\n",
      "Training at Epoch 28 iteration 0 with loss 0.05951. Total time 0.19694 hours\n",
      "Training at Epoch 28 iteration 100 with loss 0.13682. Total time 0.20083 hours\n",
      "Validation at Epoch 28, AUROC: 0.83836 , AUPRC: 0.44481 , F1: 0.41048 , Cross-entropy Loss: 1.55114\n",
      "Training at Epoch 29 iteration 0 with loss 0.09666. Total time 0.20444 hours\n",
      "Training at Epoch 29 iteration 100 with loss 0.02524. Total time 0.20805 hours\n",
      "Validation at Epoch 29, AUROC: 0.85075 , AUPRC: 0.43017 , F1: 0.46963 , Cross-entropy Loss: 1.50519\n",
      "Training at Epoch 30 iteration 0 with loss 0.07693. Total time 0.21166 hours\n",
      "Training at Epoch 30 iteration 100 with loss 0.12252. Total time 0.21527 hours\n",
      "Validation at Epoch 30, AUROC: 0.85333 , AUPRC: 0.46316 , F1: 0.42241 , Cross-entropy Loss: 1.53965\n",
      "Training at Epoch 31 iteration 0 with loss 0.10680. Total time 0.21861 hours\n",
      "Training at Epoch 31 iteration 100 with loss 0.13685. Total time 0.2225 hours\n",
      "Validation at Epoch 31, AUROC: 0.83662 , AUPRC: 0.47205 , F1: 0.41739 , Cross-entropy Loss: 1.53965\n",
      "Training at Epoch 32 iteration 0 with loss 0.05944. Total time 0.22583 hours\n",
      "Training at Epoch 32 iteration 100 with loss 0.06251. Total time 0.23 hours\n",
      "Validation at Epoch 32, AUROC: 0.87299 , AUPRC: 0.48942 , F1: 0.49624 , Cross-entropy Loss: 1.53966\n",
      "Training at Epoch 33 iteration 0 with loss 0.09333. Total time 0.23333 hours\n",
      "Training at Epoch 33 iteration 100 with loss 0.10777. Total time 0.23694 hours\n",
      "Validation at Epoch 33, AUROC: 0.83966 , AUPRC: 0.49655 , F1: 0.49180 , Cross-entropy Loss: 1.42475\n",
      "Training at Epoch 34 iteration 0 with loss 0.11979. Total time 0.24027 hours\n",
      "Training at Epoch 34 iteration 100 with loss 0.15724. Total time 0.24416 hours\n",
      "Validation at Epoch 34, AUROC: 0.84729 , AUPRC: 0.49263 , F1: 0.50370 , Cross-entropy Loss: 1.53966\n",
      "Training at Epoch 35 iteration 0 with loss 0.11317. Total time 0.2475 hours\n",
      "Training at Epoch 35 iteration 100 with loss 0.14262. Total time 0.25138 hours\n",
      "Validation at Epoch 35, AUROC: 0.85565 , AUPRC: 0.48269 , F1: 0.46666 , Cross-entropy Loss: 1.47071\n",
      "Training at Epoch 36 iteration 0 with loss 0.07155. Total time 0.25472 hours\n",
      "Training at Epoch 36 iteration 100 with loss 0.07054. Total time 0.25861 hours\n",
      "Validation at Epoch 36, AUROC: 0.85057 , AUPRC: 0.49892 , F1: 0.43776 , Cross-entropy Loss: 1.50518\n",
      "Training at Epoch 37 iteration 0 with loss 0.06257. Total time 0.26194 hours\n",
      "Training at Epoch 37 iteration 100 with loss 0.08478. Total time 0.26583 hours\n",
      "Validation at Epoch 37, AUROC: 0.83816 , AUPRC: 0.44365 , F1: 0.45112 , Cross-entropy Loss: 1.67754\n",
      "Training at Epoch 38 iteration 0 with loss 0.03015. Total time 0.26916 hours\n",
      "Training at Epoch 38 iteration 100 with loss 0.07133. Total time 0.27305 hours\n",
      "Validation at Epoch 38, AUROC: 0.85959 , AUPRC: 0.51135 , F1: 0.52898 , Cross-entropy Loss: 1.49370\n",
      "Training at Epoch 39 iteration 0 with loss 0.04435. Total time 0.27638 hours\n",
      "Training at Epoch 39 iteration 100 with loss 0.08562. Total time 0.28027 hours\n",
      "Validation at Epoch 39, AUROC: 0.87943 , AUPRC: 0.48779 , F1: 0.50980 , Cross-entropy Loss: 1.43625\n",
      "Training at Epoch 40 iteration 0 with loss 0.05030. Total time 0.28361 hours\n",
      "Training at Epoch 40 iteration 100 with loss 0.05334. Total time 0.2875 hours\n",
      "Validation at Epoch 40, AUROC: 0.85931 , AUPRC: 0.48894 , F1: 0.55830 , Cross-entropy Loss: 1.43625\n",
      "Training at Epoch 41 iteration 0 with loss 0.05403. Total time 0.29083 hours\n",
      "Training at Epoch 41 iteration 100 with loss 0.05108. Total time 0.29472 hours\n",
      "Validation at Epoch 41, AUROC: 0.86573 , AUPRC: 0.46162 , F1: 0.52713 , Cross-entropy Loss: 1.40178\n",
      "Training at Epoch 42 iteration 0 with loss 0.08157. Total time 0.29805 hours\n",
      "Training at Epoch 42 iteration 100 with loss 0.06011. Total time 0.30166 hours\n",
      "Validation at Epoch 42, AUROC: 0.86610 , AUPRC: 0.47859 , F1: 0.54814 , Cross-entropy Loss: 1.40178\n",
      "Training at Epoch 43 iteration 0 with loss 0.10569. Total time 0.305 hours\n",
      "Training at Epoch 43 iteration 100 with loss 0.08038. Total time 0.30888 hours\n",
      "Validation at Epoch 43, AUROC: 0.85986 , AUPRC: 0.49046 , F1: 0.58426 , Cross-entropy Loss: 1.27539\n",
      "Training at Epoch 44 iteration 0 with loss 0.03465. Total time 0.31222 hours\n",
      "Training at Epoch 44 iteration 100 with loss 0.07254. Total time 0.31611 hours\n",
      "Validation at Epoch 44, AUROC: 0.85510 , AUPRC: 0.50957 , F1: 0.53906 , Cross-entropy Loss: 1.35582\n",
      "Training at Epoch 45 iteration 0 with loss 0.03058. Total time 0.31972 hours\n",
      "Training at Epoch 45 iteration 100 with loss 0.07507. Total time 0.32361 hours\n",
      "Validation at Epoch 45, AUROC: 0.85869 , AUPRC: 0.47910 , F1: 0.54545 , Cross-entropy Loss: 1.37880\n",
      "Training at Epoch 46 iteration 0 with loss 0.07547. Total time 0.32694 hours\n",
      "Training at Epoch 46 iteration 100 with loss 0.04096. Total time 0.33083 hours\n",
      "Validation at Epoch 46, AUROC: 0.85659 , AUPRC: 0.48786 , F1: 0.50980 , Cross-entropy Loss: 1.43625\n",
      "Training at Epoch 47 iteration 0 with loss 0.09110. Total time 0.33416 hours\n",
      "Training at Epoch 47 iteration 100 with loss 0.09406. Total time 0.33805 hours\n",
      "Validation at Epoch 47, AUROC: 0.85942 , AUPRC: 0.49594 , F1: 0.55670 , Cross-entropy Loss: 1.48221\n",
      "Training at Epoch 48 iteration 0 with loss 0.03407. Total time 0.34138 hours\n",
      "Training at Epoch 48 iteration 100 with loss 0.07938. Total time 0.34527 hours\n",
      "Validation at Epoch 48, AUROC: 0.85675 , AUPRC: 0.50321 , F1: 0.53183 , Cross-entropy Loss: 1.43625\n",
      "Training at Epoch 49 iteration 0 with loss 0.05492. Total time 0.34861 hours\n",
      "Training at Epoch 49 iteration 100 with loss 0.04884. Total time 0.3525 hours\n",
      "Validation at Epoch 49, AUROC: 0.85500 , AUPRC: 0.48007 , F1: 0.56765 , Cross-entropy Loss: 1.50519\n",
      "Training at Epoch 50 iteration 0 with loss 0.05276. Total time 0.35583 hours\n",
      "Training at Epoch 50 iteration 100 with loss 0.05950. Total time 0.35972 hours\n",
      "Validation at Epoch 50, AUROC: 0.86599 , AUPRC: 0.46890 , F1: 0.52631 , Cross-entropy Loss: 1.44774\n",
      "Training at Epoch 51 iteration 0 with loss 0.07686. Total time 0.36305 hours\n",
      "Training at Epoch 51 iteration 100 with loss 0.04298. Total time 0.36694 hours\n",
      "Validation at Epoch 51, AUROC: 0.88015 , AUPRC: 0.53817 , F1: 0.58156 , Cross-entropy Loss: 1.35582\n",
      "Training at Epoch 52 iteration 0 with loss 0.02711. Total time 0.37027 hours\n",
      "Training at Epoch 52 iteration 100 with loss 0.06832. Total time 0.37416 hours\n",
      "Validation at Epoch 52, AUROC: 0.87289 , AUPRC: 0.50981 , F1: 0.57042 , Cross-entropy Loss: 1.40178\n",
      "Training at Epoch 53 iteration 0 with loss 0.08391. Total time 0.3775 hours\n",
      "Training at Epoch 53 iteration 100 with loss 0.04090. Total time 0.38138 hours\n",
      "Validation at Epoch 53, AUROC: 0.88793 , AUPRC: 0.51553 , F1: 0.56834 , Cross-entropy Loss: 1.37880\n",
      "Training at Epoch 54 iteration 0 with loss 0.04394. Total time 0.38472 hours\n",
      "Training at Epoch 54 iteration 100 with loss 0.03523. Total time 0.38833 hours\n",
      "Validation at Epoch 54, AUROC: 0.86726 , AUPRC: 0.50460 , F1: 0.57342 , Cross-entropy Loss: 1.40178\n",
      "Training at Epoch 55 iteration 0 with loss 0.06367. Total time 0.39166 hours\n",
      "Training at Epoch 55 iteration 100 with loss 0.05896. Total time 0.39555 hours\n",
      "Validation at Epoch 55, AUROC: 0.86974 , AUPRC: 0.52567 , F1: 0.54814 , Cross-entropy Loss: 1.40178\n",
      "Training at Epoch 56 iteration 0 with loss 0.05798. Total time 0.39888 hours\n",
      "Training at Epoch 56 iteration 100 with loss 0.11290. Total time 0.40277 hours\n",
      "Validation at Epoch 56, AUROC: 0.87157 , AUPRC: 0.49080 , F1: 0.5625 , Cross-entropy Loss: 1.44774\n",
      "Training at Epoch 57 iteration 0 with loss 0.02146. Total time 0.40611 hours\n",
      "Training at Epoch 57 iteration 100 with loss 0.05124. Total time 0.41 hours\n",
      "Validation at Epoch 57, AUROC: 0.85496 , AUPRC: 0.52495 , F1: 0.57037 , Cross-entropy Loss: 1.33284\n",
      "Training at Epoch 58 iteration 0 with loss 0.03785. Total time 0.41333 hours\n",
      "Training at Epoch 58 iteration 100 with loss 0.09484. Total time 0.41722 hours\n",
      "Validation at Epoch 58, AUROC: 0.87362 , AUPRC: 0.54751 , F1: 0.59712 , Cross-entropy Loss: 1.28688\n",
      "Training at Epoch 59 iteration 0 with loss 0.05149. Total time 0.42055 hours\n",
      "Training at Epoch 59 iteration 100 with loss 0.03979. Total time 0.42444 hours\n",
      "Validation at Epoch 59, AUROC: 0.86974 , AUPRC: 0.47776 , F1: 0.55363 , Cross-entropy Loss: 1.48221\n",
      "Training at Epoch 60 iteration 0 with loss 0.04564. Total time 0.42777 hours\n",
      "Training at Epoch 60 iteration 100 with loss 0.04808. Total time 0.43166 hours\n",
      "Validation at Epoch 60, AUROC: 0.86781 , AUPRC: 0.52641 , F1: 0.54474 , Cross-entropy Loss: 1.34433\n",
      "Training at Epoch 61 iteration 0 with loss 0.03886. Total time 0.435 hours\n",
      "Training at Epoch 61 iteration 100 with loss 0.03454. Total time 0.43888 hours\n",
      "Validation at Epoch 61, AUROC: 0.88051 , AUPRC: 0.51053 , F1: 0.58657 , Cross-entropy Loss: 1.34433\n",
      "Training at Epoch 62 iteration 0 with loss 0.03946. Total time 0.44222 hours\n",
      "Training at Epoch 62 iteration 100 with loss 0.03078. Total time 0.44611 hours\n",
      "Validation at Epoch 62, AUROC: 0.85917 , AUPRC: 0.51698 , F1: 0.53284 , Cross-entropy Loss: 1.47072\n",
      "Training at Epoch 63 iteration 0 with loss 0.04964. Total time 0.44944 hours\n",
      "Training at Epoch 63 iteration 100 with loss 0.08803. Total time 0.45333 hours\n",
      "Validation at Epoch 63, AUROC: 0.88160 , AUPRC: 0.54137 , F1: 0.56617 , Cross-entropy Loss: 1.35582\n",
      "Training at Epoch 64 iteration 0 with loss 0.06410. Total time 0.45666 hours\n",
      "Training at Epoch 64 iteration 100 with loss 0.08622. Total time 0.46055 hours\n",
      "Validation at Epoch 64, AUROC: 0.85915 , AUPRC: 0.47410 , F1: 0.52777 , Cross-entropy Loss: 1.56264\n",
      "Training at Epoch 65 iteration 0 with loss 0.03388. Total time 0.46388 hours\n",
      "Training at Epoch 65 iteration 100 with loss 0.01762. Total time 0.4675 hours\n",
      "Validation at Epoch 65, AUROC: 0.86259 , AUPRC: 0.52896 , F1: 0.57971 , Cross-entropy Loss: 1.33284\n",
      "Training at Epoch 66 iteration 0 with loss 0.02249. Total time 0.47083 hours\n",
      "Training at Epoch 66 iteration 100 with loss 0.08532. Total time 0.47472 hours\n",
      "Validation at Epoch 66, AUROC: 0.86416 , AUPRC: 0.51547 , F1: 0.55430 , Cross-entropy Loss: 1.36731\n",
      "Training at Epoch 67 iteration 0 with loss 0.01891. Total time 0.47805 hours\n",
      "Training at Epoch 67 iteration 100 with loss 0.04354. Total time 0.48194 hours\n",
      "Validation at Epoch 67, AUROC: 0.85911 , AUPRC: 0.52135 , F1: 0.56410 , Cross-entropy Loss: 1.36731\n",
      "Training at Epoch 68 iteration 0 with loss 0.07139. Total time 0.48527 hours\n",
      "Training at Epoch 68 iteration 100 with loss 0.03970. Total time 0.48916 hours\n",
      "Validation at Epoch 68, AUROC: 0.86920 , AUPRC: 0.51319 , F1: 0.56630 , Cross-entropy Loss: 1.39029\n",
      "Training at Epoch 69 iteration 0 with loss 0.10512. Total time 0.4925 hours\n",
      "Training at Epoch 69 iteration 100 with loss 0.05121. Total time 0.49638 hours\n",
      "Validation at Epoch 69, AUROC: 0.86389 , AUPRC: 0.52935 , F1: 0.52873 , Cross-entropy Loss: 1.41327\n",
      "Training at Epoch 70 iteration 0 with loss 0.08221. Total time 0.49972 hours\n",
      "Training at Epoch 70 iteration 100 with loss 0.02352. Total time 0.50361 hours\n",
      "Validation at Epoch 70, AUROC: 0.84816 , AUPRC: 0.52095 , F1: 0.58302 , Cross-entropy Loss: 1.29837\n",
      "Training at Epoch 71 iteration 0 with loss 0.04662. Total time 0.50694 hours\n",
      "Training at Epoch 71 iteration 100 with loss 0.02632. Total time 0.51083 hours\n",
      "Validation at Epoch 71, AUROC: 0.86142 , AUPRC: 0.53205 , F1: 0.59106 , Cross-entropy Loss: 1.36731\n",
      "Training at Epoch 72 iteration 0 with loss 0.01826. Total time 0.51416 hours\n",
      "Training at Epoch 72 iteration 100 with loss 0.03448. Total time 0.51805 hours\n",
      "Validation at Epoch 72, AUROC: 0.85793 , AUPRC: 0.54386 , F1: 0.53521 , Cross-entropy Loss: 1.51668\n",
      "Training at Epoch 73 iteration 0 with loss 0.05492. Total time 0.52138 hours\n",
      "Training at Epoch 73 iteration 100 with loss 0.10775. Total time 0.52527 hours\n",
      "Validation at Epoch 73, AUROC: 0.85482 , AUPRC: 0.56127 , F1: 0.55018 , Cross-entropy Loss: 1.39029\n",
      "Training at Epoch 74 iteration 0 with loss 0.00850. Total time 0.52861 hours\n",
      "Training at Epoch 74 iteration 100 with loss 0.03922. Total time 0.5325 hours\n",
      "Validation at Epoch 74, AUROC: 0.86367 , AUPRC: 0.53831 , F1: 0.58781 , Cross-entropy Loss: 1.32135\n",
      "Training at Epoch 75 iteration 0 with loss 0.03168. Total time 0.53583 hours\n",
      "Training at Epoch 75 iteration 100 with loss 0.04437. Total time 0.53972 hours\n",
      "Validation at Epoch 75, AUROC: 0.86787 , AUPRC: 0.54976 , F1: 0.56488 , Cross-entropy Loss: 1.30986\n",
      "Training at Epoch 76 iteration 0 with loss 0.03250. Total time 0.54305 hours\n",
      "Training at Epoch 76 iteration 100 with loss 0.07190. Total time 0.54694 hours\n",
      "Validation at Epoch 76, AUROC: 0.85712 , AUPRC: 0.54059 , F1: 0.58823 , Cross-entropy Loss: 1.36731\n",
      "Training at Epoch 77 iteration 0 with loss 0.05076. Total time 0.55027 hours\n",
      "Training at Epoch 77 iteration 100 with loss 0.04518. Total time 0.55416 hours\n",
      "Validation at Epoch 77, AUROC: 0.87477 , AUPRC: 0.52701 , F1: 0.53874 , Cross-entropy Loss: 1.43625\n",
      "Training at Epoch 78 iteration 0 with loss 0.02108. Total time 0.5575 hours\n",
      "Training at Epoch 78 iteration 100 with loss 0.02864. Total time 0.56111 hours\n",
      "Validation at Epoch 78, AUROC: 0.86694 , AUPRC: 0.50490 , F1: 0.57046 , Cross-entropy Loss: 1.47072\n",
      "Training at Epoch 79 iteration 0 with loss 0.04204. Total time 0.56444 hours\n",
      "Training at Epoch 79 iteration 100 with loss 0.06896. Total time 0.56833 hours\n",
      "Validation at Epoch 79, AUROC: 0.85617 , AUPRC: 0.51997 , F1: 0.55147 , Cross-entropy Loss: 1.40178\n",
      "Training at Epoch 80 iteration 0 with loss 0.04127. Total time 0.57166 hours\n",
      "Training at Epoch 80 iteration 100 with loss 0.02627. Total time 0.57583 hours\n",
      "Validation at Epoch 80, AUROC: 0.86862 , AUPRC: 0.54910 , F1: 0.58992 , Cross-entropy Loss: 1.30986\n",
      "Training at Epoch 81 iteration 0 with loss 0.01968. Total time 0.57916 hours\n",
      "Training at Epoch 81 iteration 100 with loss 0.04428. Total time 0.58305 hours\n",
      "Validation at Epoch 81, AUROC: 0.85640 , AUPRC: 0.52431 , F1: 0.53125 , Cross-entropy Loss: 1.37880\n",
      "Training at Epoch 82 iteration 0 with loss 0.03877. Total time 0.58638 hours\n",
      "Training at Epoch 82 iteration 100 with loss 0.04477. Total time 0.59027 hours\n",
      "Validation at Epoch 82, AUROC: 0.85291 , AUPRC: 0.52483 , F1: 0.57037 , Cross-entropy Loss: 1.33284\n",
      "Training at Epoch 83 iteration 0 with loss 0.06286. Total time 0.59361 hours\n",
      "Training at Epoch 83 iteration 100 with loss 0.05919. Total time 0.5975 hours\n",
      "Validation at Epoch 83, AUROC: 0.87825 , AUPRC: 0.57692 , F1: 0.56410 , Cross-entropy Loss: 1.36731\n",
      "Training at Epoch 84 iteration 0 with loss 0.04038. Total time 0.60055 hours\n",
      "Training at Epoch 84 iteration 100 with loss 0.05481. Total time 0.60444 hours\n",
      "Validation at Epoch 84, AUROC: 0.87128 , AUPRC: 0.53548 , F1: 0.58245 , Cross-entropy Loss: 1.36731\n",
      "Training at Epoch 85 iteration 0 with loss 0.04430. Total time 0.60805 hours\n",
      "Training at Epoch 85 iteration 100 with loss 0.04497. Total time 0.61166 hours\n",
      "Validation at Epoch 85, AUROC: 0.86548 , AUPRC: 0.55790 , F1: 0.59859 , Cross-entropy Loss: 1.30986\n",
      "Training at Epoch 86 iteration 0 with loss 0.02752. Total time 0.615 hours\n",
      "Training at Epoch 86 iteration 100 with loss 0.09472. Total time 0.61888 hours\n",
      "Validation at Epoch 86, AUROC: 0.86027 , AUPRC: 0.53921 , F1: 0.6 , Cross-entropy Loss: 1.28688\n",
      "Training at Epoch 87 iteration 0 with loss 0.03102. Total time 0.6225 hours\n",
      "Training at Epoch 87 iteration 100 with loss 0.07138. Total time 0.62638 hours\n",
      "Validation at Epoch 87, AUROC: 0.85733 , AUPRC: 0.53470 , F1: 0.56537 , Cross-entropy Loss: 1.41327\n",
      "Training at Epoch 88 iteration 0 with loss 0.05502. Total time 0.62972 hours\n",
      "Training at Epoch 88 iteration 100 with loss 0.01713. Total time 0.63361 hours\n",
      "Validation at Epoch 88, AUROC: 0.87054 , AUPRC: 0.55118 , F1: 0.59016 , Cross-entropy Loss: 1.43625\n",
      "Training at Epoch 89 iteration 0 with loss 0.05272. Total time 0.63694 hours\n",
      "Training at Epoch 89 iteration 100 with loss 0.02246. Total time 0.64083 hours\n",
      "Validation at Epoch 89, AUROC: 0.87159 , AUPRC: 0.53897 , F1: 0.58041 , Cross-entropy Loss: 1.37880\n",
      "Training at Epoch 90 iteration 0 with loss 0.09105. Total time 0.64416 hours\n",
      "Training at Epoch 90 iteration 100 with loss 0.03841. Total time 0.64805 hours\n",
      "Validation at Epoch 90, AUROC: 0.87060 , AUPRC: 0.53387 , F1: 0.60350 , Cross-entropy Loss: 1.29837\n",
      "Training at Epoch 91 iteration 0 with loss 0.01975. Total time 0.65138 hours\n",
      "Training at Epoch 91 iteration 100 with loss 0.03967. Total time 0.65527 hours\n",
      "Validation at Epoch 91, AUROC: 0.86144 , AUPRC: 0.52413 , F1: 0.55272 , Cross-entropy Loss: 1.41327\n",
      "Training at Epoch 92 iteration 0 with loss 0.03538. Total time 0.65861 hours\n",
      "Training at Epoch 92 iteration 100 with loss 0.04111. Total time 0.66277 hours\n",
      "Validation at Epoch 92, AUROC: 0.87005 , AUPRC: 0.53376 , F1: 0.59999 , Cross-entropy Loss: 1.33284\n",
      "Training at Epoch 93 iteration 0 with loss 0.02137. Total time 0.66611 hours\n",
      "Training at Epoch 93 iteration 100 with loss 0.03857. Total time 0.67 hours\n",
      "Validation at Epoch 93, AUROC: 0.86619 , AUPRC: 0.53057 , F1: 0.55555 , Cross-entropy Loss: 1.37880\n",
      "Training at Epoch 94 iteration 0 with loss 0.03175. Total time 0.67333 hours\n",
      "Training at Epoch 94 iteration 100 with loss 0.07815. Total time 0.67722 hours\n",
      "Validation at Epoch 94, AUROC: 0.86340 , AUPRC: 0.52297 , F1: 0.55072 , Cross-entropy Loss: 1.42476\n",
      "Training at Epoch 95 iteration 0 with loss 0.02427. Total time 0.68055 hours\n",
      "Training at Epoch 95 iteration 100 with loss 0.07918. Total time 0.68444 hours\n",
      "Validation at Epoch 95, AUROC: 0.85344 , AUPRC: 0.52349 , F1: 0.56826 , Cross-entropy Loss: 1.34433\n",
      "Training at Epoch 96 iteration 0 with loss 0.02526. Total time 0.68777 hours\n",
      "Training at Epoch 96 iteration 100 with loss 0.04599. Total time 0.69138 hours\n",
      "Validation at Epoch 96, AUROC: 0.85517 , AUPRC: 0.53550 , F1: 0.59310 , Cross-entropy Loss: 1.35582\n",
      "Training at Epoch 97 iteration 0 with loss 0.02214. Total time 0.69472 hours\n",
      "Training at Epoch 97 iteration 100 with loss 0.04671. Total time 0.69861 hours\n",
      "Validation at Epoch 97, AUROC: 0.85793 , AUPRC: 0.55085 , F1: 0.55303 , Cross-entropy Loss: 1.35582\n",
      "Training at Epoch 98 iteration 0 with loss 0.04306. Total time 0.70194 hours\n",
      "Training at Epoch 98 iteration 100 with loss 0.03102. Total time 0.70583 hours\n",
      "Validation at Epoch 98, AUROC: 0.85650 , AUPRC: 0.52538 , F1: 0.58273 , Cross-entropy Loss: 1.33284\n",
      "Training at Epoch 99 iteration 0 with loss 0.02781. Total time 0.70916 hours\n",
      "Training at Epoch 99 iteration 100 with loss 0.10313. Total time 0.71305 hours\n",
      "Validation at Epoch 99, AUROC: 0.85444 , AUPRC: 0.54768 , F1: 0.60000 , Cross-entropy Loss: 1.37880\n",
      "Training at Epoch 100 iteration 0 with loss 0.03405. Total time 0.71638 hours\n",
      "Training at Epoch 100 iteration 100 with loss 0.23509. Total time 0.72027 hours\n",
      "Validation at Epoch 100, AUROC: 0.85078 , AUPRC: 0.52286 , F1: 0.58 , Cross-entropy Loss: 1.44774\n",
      "--- Go for Testing ---\n",
      "Validation at Epoch 100 , AUROC: 0.87835 , AUPRC: 0.51033 , F1: 0.54243 , Cross-entropy Loss: 1.42500\n",
      "--- Training Finished ---\n"
     ]
    },
    {
     "data": {
      "image/png": "[encoded data removed]",
      "text/plain": [
       "<Figure size 432x288 with 1 Axes>"
      ]
     },
     "metadata": {
      "needs_background": "light"
     },
     "output_type": "display_data"
    },
    {
     "data": {
      "image/png": "[encoded data removed]",
      "text/plain": [
       "<Figure size 432x288 with 1 Axes>"
      ]
     },
     "metadata": {
      "needs_background": "light"
     },
     "output_type": "display_data"
    },
    {
     "data": {
      "image/png": "[encoded data removed]",
      "text/plain": [
       "<Figure size 432x288 with 1 Axes>"
      ]
     },
     "metadata": {
      "needs_background": "light"
     },
     "output_type": "display_data"
    }
   ],
   "source": [
    "model = models.model_initialize(**config)\n",
    "model.train(train, val, test)"
   ]
  },
  {
   "cell_type": "code",
   "execution_count": 9,
   "metadata": {
    "scrolled": true
   },
   "outputs": [],
   "source": [
    "train.to_csv('../data/MPNN_AAC/DeepPurpose_train_MPNN_AAC.csv')\n",
    "val.to_csv('../data/MPNN_AAC/DeepPurpose_val_MPNN_AAC.csv')\n",
    "test.to_csv('../data/MPNN_AAC/DeepPurpose_test_MPNN_AAC.csv')"
   ]
  },
  {
   "cell_type": "code",
   "execution_count": 11,
   "metadata": {
    "scrolled": true
   },
   "outputs": [
    {
     "name": "stdout",
     "output_type": "stream",
     "text": [
      "Ligands:  68\n",
      "Targets:  379\n"
     ]
    }
   ],
   "source": [
    "ligands = list(set(train['SMILES'].tolist()))\n",
    "targets = list(set(train['Target Sequence'].tolist()))\n",
    "\n",
    "number_ligands = len(ligands)\n",
    "number_targets = len(targets)\n",
    "print('Ligands: ', number_ligands)\n",
    "print('Targets: ',number_targets)"
   ]
  },
  {
   "cell_type": "code",
   "execution_count": 14,
   "metadata": {},
   "outputs": [
    {
     "data": {
      "text/plain": [
       "(array([19996.,     0.,     0.,     0.,     0.,     0.,     0.,     0.,\n",
       "            0.,  1043.]),\n",
       " array([0. , 0.1, 0.2, 0.3, 0.4, 0.5, 0.6, 0.7, 0.8, 0.9, 1. ]),\n",
       " <a list of 10 Patch objects>)"
      ]
     },
     "execution_count": 14,
     "metadata": {},
     "output_type": "execute_result"
    },
    {
     "data": {
      "image/png": "[encoded data removed]",
      "text/plain": [
       "<Figure size 432x288 with 1 Axes>"
      ]
     },
     "metadata": {
      "needs_background": "light"
     },
     "output_type": "display_data"
    }
   ],
   "source": [
    "plt.hist(train['Label'])"
   ]
  },
  {
   "cell_type": "code",
   "execution_count": 12,
   "metadata": {},
   "outputs": [
    {
     "name": "stderr",
     "output_type": "stream",
     "text": [
      "100%|██████████| 68/68 [00:00<00:00, 222.46it/s]\n",
      "100%|██████████| 379/379 [00:01<00:00, 226.41it/s]\n",
      "100%|██████████| 68/68 [00:00<00:00, 176057.20it/s]\n",
      "100%|██████████| 68/68 [00:00<00:00, 263597.66it/s]\n",
      "100%|██████████| 379/379 [00:00<00:00, 534512.85it/s]\n",
      "100%|██████████| 379/379 [00:00<00:00, 399407.34it/s]\n"
     ]
    }
   ],
   "source": [
    "ligands_degree_dict = dict()\n",
    "\n",
    "for smile_chem in tqdm(ligands):\n",
    "    sum_df = train[train['SMILES'] == smile_chem]\n",
    "    ligands_degree_dict[smile_chem] = dict()\n",
    "    ligands_degree_dict[smile_chem]['deg_0'] = len(sum_df[sum_df['Label'] == 0])\n",
    "    ligands_degree_dict[smile_chem]['deg_1'] = len(sum_df[sum_df['Label'] == 1])\n",
    "    \n",
    "targets_degree_dict = dict()\n",
    "\n",
    "for aa_target in tqdm(targets):\n",
    "    sum_df = train[train['Target Sequence'] == aa_target]\n",
    "    targets_degree_dict[aa_target] = dict()\n",
    "    targets_degree_dict[aa_target]['deg_0'] = len(sum_df[sum_df['Label'] == 0])\n",
    "    targets_degree_dict[aa_target]['deg_1'] = len(sum_df[sum_df['Label'] == 1])\n",
    "    \n",
    "degree_train_1_0_ligands = [ligands_degree_dict[key_val]['deg_1'] for key_val in tqdm(ligands_degree_dict.keys())]\n",
    "degree_train_0_1_ligands = [ligands_degree_dict[key_val]['deg_0'] for key_val in tqdm(ligands_degree_dict.keys())]\n",
    "\n",
    "degree_train_1_0_targets = [targets_degree_dict[key_val]['deg_1'] for key_val in tqdm(targets_degree_dict.keys())]\n",
    "degree_train_0_1_targets = [targets_degree_dict[key_val]['deg_0'] for key_val in tqdm(targets_degree_dict.keys())]"
   ]
  },
  {
   "cell_type": "code",
   "execution_count": 13,
   "metadata": {},
   "outputs": [],
   "source": [
    "with open('../data/MPNN_AAC/degreetrain10ligands.txt', 'w') as file:\n",
    "    for degree in degree_train_1_0_ligands:\n",
    "        file.write(\"%i\\n\" % degree)\n",
    "        \n",
    "file.close()\n",
    "\n",
    "with open('../data/MPNN_AAC/degreetrain01ligands.txt', 'w') as file:\n",
    "    for degree in degree_train_0_1_ligands:\n",
    "        file.write(\"%i\\n\" % degree)\n",
    "        \n",
    "file.close()\n",
    "\n",
    "with open('../data/MPNN_AAC/degreetrain10targets.txt', 'w') as file:\n",
    "    for degree in degree_train_1_0_targets:\n",
    "        file.write(\"%i\\n\" % degree)\n",
    "        \n",
    "file.close()\n",
    "\n",
    "with open('../data/MPNN_AAC/degreetrain01targets.txt', 'w') as file:\n",
    "    for degree in degree_train_0_1_targets:\n",
    "        file.write(\"%i\\n\" % degree)\n",
    "        \n",
    "file.close()\n",
    "\n",
    "textfile = open(\"../data/MPNN_AAC/ligands.txt\", \"w\")\n",
    "for element in ligands:\n",
    "    textfile.write(element + \"\\n\")\n",
    "textfile.close()\n",
    "\n",
    "textfile = open(\"../data/MPNN_AAC/targets.txt\", \"w\")\n",
    "for element in targets:\n",
    "    textfile.write(element + \"\\n\")\n",
    "textfile.close()"
   ]
  },
  {
   "cell_type": "code",
   "execution_count": 26,
   "metadata": {},
   "outputs": [],
   "source": [
    "train_pos = train[train['Label'] == 1]\n",
    "train_neg = train[train['Label'] == 0]"
   ]
  },
  {
   "cell_type": "code",
   "execution_count": 27,
   "metadata": {},
   "outputs": [],
   "source": [
    "pos_deg_0_ligands = []\n",
    "pos_deg_0_targets = []\n",
    "neg_deg_0_ligands = []\n",
    "neg_deg_0_targets = []"
   ]
  },
  {
   "cell_type": "code",
   "execution_count": 28,
   "metadata": {},
   "outputs": [
    {
     "name": "stderr",
     "output_type": "stream",
     "text": [
      "100%|██████████| 68/68 [00:00<00:00, 255.92it/s]\n"
     ]
    }
   ],
   "source": [
    "ligand_degree_ratio = dict()\n",
    "ligand_all_average = []\n",
    "\n",
    "for ligand in tqdm(ligands):\n",
    "    pos_deg = len(train_pos[train_pos['SMILES'] == ligand])\n",
    "    neg_deg = len(train_neg[train_neg['SMILES'] == ligand])\n",
    "    ligand_degree_ratio[ligand] = dict()\n",
    "    ligand_degree_ratio[ligand]['deg_ratio'] = pos_deg / (pos_deg + neg_deg)\n",
    "    ligand_degree_ratio[ligand]['deg_avg'] = pos_deg / number_targets \n",
    "    ligand_all_average.append(pos_deg / number_targets)\n",
    "    if pos_deg == 0:\n",
    "        pos_deg_0_ligands.append(ligand)\n",
    "    if neg_deg == 0:\n",
    "        neg_deg_0_ligands.append(ligand)\n",
    "    \n",
    "ligands_all_avg = sum(ligand_all_average) / number_ligands"
   ]
  },
  {
   "cell_type": "code",
   "execution_count": 29,
   "metadata": {},
   "outputs": [
    {
     "name": "stderr",
     "output_type": "stream",
     "text": [
      "100%|██████████| 379/379 [00:01<00:00, 255.31it/s]\n"
     ]
    }
   ],
   "source": [
    "targets_degree_ratio = dict()\n",
    "target_all_average = []\n",
    "\n",
    "for target in tqdm(targets):\n",
    "    pos_deg = len(train_pos[train_pos['Target Sequence'] == target])\n",
    "    neg_deg = len(train_neg[train_neg['Target Sequence'] == target])\n",
    "    targets_degree_ratio[target] = dict()\n",
    "    targets_degree_ratio[target]['deg_ratio'] = pos_deg / (pos_deg + neg_deg)\n",
    "    targets_degree_ratio[target]['deg_avg'] = pos_deg / number_ligands\n",
    "    target_all_average.append(pos_deg / number_ligands)\n",
    "    if pos_deg == 0:\n",
    "        pos_deg_0_targets.append(target)\n",
    "    if neg_deg == 0:\n",
    "        neg_deg_0_targets.append(target)\n",
    "    \n",
    "targets_all_avg = sum(target_all_average) / number_targets"
   ]
  },
  {
   "cell_type": "code",
   "execution_count": 30,
   "metadata": {},
   "outputs": [
    {
     "name": "stdout",
     "output_type": "stream",
     "text": [
      "Ligands with positive degree 0:  7\n",
      "Ligands with negative degree 0:  0\n",
      "Targets with positive degree 0:  99\n",
      "Targets with negative degree 0:  0\n"
     ]
    }
   ],
   "source": [
    "print('Ligands with positive degree 0: ',len(pos_deg_0_ligands))\n",
    "print('Ligands with negative degree 0: ',len(neg_deg_0_ligands))\n",
    "print('Targets with positive degree 0: ',len(pos_deg_0_targets))\n",
    "print('Targets with negative degree 0: ',len(neg_deg_0_targets))"
   ]
  },
  {
   "cell_type": "code",
   "execution_count": 31,
   "metadata": {},
   "outputs": [
    {
     "name": "stderr",
     "output_type": "stream",
     "text": [
      "6011it [00:00, 7607.99it/s]\n"
     ]
    }
   ],
   "source": [
    "test_probabilty_predicted_naive = []\n",
    "\n",
    "for index, row in tqdm(test.iterrows()):\n",
    "    \n",
    "    if row['SMILES'] in ligands and row['Target Sequence'] in targets:\n",
    "        p_naive = ligand_degree_ratio[row['SMILES']]['deg_ratio'] * targets_degree_ratio[row['Target Sequence']]['deg_ratio']\n",
    "        test_probabilty_predicted_naive.append(p_naive) \n",
    "    elif row['SMILES'] in ligands and row['Target Sequence'] not in targets:\n",
    "        p_naive = ligand_degree_ratio[row['SMILES']]['deg_ratio']  \n",
    "        test_probabilty_predicted_naive.append(p_naive) \n",
    "    elif row['SMILES'] not in ligands and row['Target Sequence'] in targets:\n",
    "        p_naive = targets_degree_ratio[row['Target Sequence']]['deg_ratio'] \n",
    "        test_probabilty_predicted_naive.append(p_naive) \n",
    "    else:\n",
    "        test_probabilty_predicted_naive.append(1)\n",
    "        "
   ]
  },
  {
   "cell_type": "code",
   "execution_count": 32,
   "metadata": {},
   "outputs": [
    {
     "name": "stdout",
     "output_type": "stream",
     "text": [
      "AUC:  0.8251091051641956\n",
      "AUP:  0.31416909222635664\n"
     ]
    }
   ],
   "source": [
    "## Performance on the test dataset\n",
    "\n",
    "print('AUC: ', roc_auc_score(test['Label'].tolist(), test_probabilty_predicted_naive))\n",
    "print('AUP: ', average_precision_score(test['Label'].tolist(), test_probabilty_predicted_naive))"
   ]
  },
  {
   "cell_type": "code",
   "execution_count": 19,
   "metadata": {},
   "outputs": [
    {
     "name": "stdout",
     "output_type": "stream",
     "text": [
      "predicting...\n"
     ]
    }
   ],
   "source": [
    "test_preidcted = model.predict(test)\n",
    "test['Y_predicted'] = test_preidcted"
   ]
  },
  {
   "cell_type": "code",
   "execution_count": 16,
   "metadata": {
    "scrolled": true
   },
   "outputs": [],
   "source": [
    "train_ligands = list(set(train['SMILES'].tolist()))\n",
    "train_targets = list(set(train['Target Sequence'].tolist()))\n",
    "\n",
    "test_minus_train_ligands = list(set(test['SMILES'].tolist()).difference(train_ligands))\n",
    "test_minus_train_targets = list(set(test['Target Sequence'].tolist()).difference(train_targets))"
   ]
  },
  {
   "cell_type": "code",
   "execution_count": 17,
   "metadata": {},
   "outputs": [
    {
     "name": "stdout",
     "output_type": "stream",
     "text": [
      "Seen ligands:  68\n",
      "Seen targets:  379\n",
      "Unseen ligands:  0\n",
      "Unseen targets:  0\n"
     ]
    }
   ],
   "source": [
    "print('Seen ligands: ', len(train_ligands))\n",
    "print('Seen targets: ', len(train_targets))\n",
    "print('Unseen ligands: ', len(test_minus_train_ligands))\n",
    "print('Unseen targets: ', len(test_minus_train_targets))"
   ]
  },
  {
   "cell_type": "code",
   "execution_count": 21,
   "metadata": {},
   "outputs": [
    {
     "name": "stdout",
     "output_type": "stream",
     "text": [
      "Unseen edges:  6011\n",
      "AUC:  0.8783541020535132\n",
      "AUP:  0.5103300172594729\n"
     ]
    }
   ],
   "source": [
    "# Unseen Edges\n",
    "\n",
    "test_unseen_edges = test[test['SMILES'].isin(train_ligands) & test['Target Sequence'].isin(train_targets)]\n",
    "print('Unseen edges: ', len(test_unseen_edges))\n",
    "\n",
    "print('AUC: ', roc_auc_score(test_unseen_edges['Label'].tolist(), test_unseen_edges['Y_predicted']))\n",
    "print('AUP: ', average_precision_score(test_unseen_edges['Label'].tolist(), test_unseen_edges['Y_predicted']))"
   ]
  },
  {
   "cell_type": "code",
   "execution_count": 22,
   "metadata": {
    "collapsed": true
   },
   "outputs": [
    {
     "name": "stdout",
     "output_type": "stream",
     "text": [
      "Unseen targets:  0\n"
     ]
    },
    {
     "ename": "ValueError",
     "evalue": "Found array with 0 sample(s) (shape=(0,)) while a minimum of 1 is required.",
     "output_type": "error",
     "traceback": [
      "\u001b[0;31m---------------------------------------------------------------------------\u001b[0m",
      "\u001b[0;31mValueError\u001b[0m                                Traceback (most recent call last)",
      "\u001b[0;32m<ipython-input-22-174ac7e31df7>\u001b[0m in \u001b[0;36m<module>\u001b[0;34m\u001b[0m\n\u001b[1;32m      4\u001b[0m \u001b[0mprint\u001b[0m\u001b[0;34m(\u001b[0m\u001b[0;34m'Unseen targets: '\u001b[0m\u001b[0;34m,\u001b[0m \u001b[0mlen\u001b[0m\u001b[0;34m(\u001b[0m\u001b[0mtest_unseen_targets\u001b[0m\u001b[0;34m)\u001b[0m\u001b[0;34m)\u001b[0m\u001b[0;34m\u001b[0m\u001b[0;34m\u001b[0m\u001b[0m\n\u001b[1;32m      5\u001b[0m \u001b[0;34m\u001b[0m\u001b[0m\n\u001b[0;32m----> 6\u001b[0;31m \u001b[0mprint\u001b[0m\u001b[0;34m(\u001b[0m\u001b[0;34m'AUC: '\u001b[0m\u001b[0;34m,\u001b[0m \u001b[0mroc_auc_score\u001b[0m\u001b[0;34m(\u001b[0m\u001b[0mtest_unseen_targets\u001b[0m\u001b[0;34m[\u001b[0m\u001b[0;34m'Label'\u001b[0m\u001b[0;34m]\u001b[0m\u001b[0;34m.\u001b[0m\u001b[0mtolist\u001b[0m\u001b[0;34m(\u001b[0m\u001b[0;34m)\u001b[0m\u001b[0;34m,\u001b[0m \u001b[0mtest_unseen_targets\u001b[0m\u001b[0;34m[\u001b[0m\u001b[0;34m'Y_predicted'\u001b[0m\u001b[0;34m]\u001b[0m\u001b[0;34m)\u001b[0m\u001b[0;34m)\u001b[0m\u001b[0;34m\u001b[0m\u001b[0;34m\u001b[0m\u001b[0m\n\u001b[0m\u001b[1;32m      7\u001b[0m \u001b[0mprint\u001b[0m\u001b[0;34m(\u001b[0m\u001b[0;34m'AUP: '\u001b[0m\u001b[0;34m,\u001b[0m \u001b[0maverage_precision_score\u001b[0m\u001b[0;34m(\u001b[0m\u001b[0mtest_unseen_targets\u001b[0m\u001b[0;34m[\u001b[0m\u001b[0;34m'Label'\u001b[0m\u001b[0;34m]\u001b[0m\u001b[0;34m.\u001b[0m\u001b[0mtolist\u001b[0m\u001b[0;34m(\u001b[0m\u001b[0;34m)\u001b[0m\u001b[0;34m,\u001b[0m \u001b[0mtest_unseen_targets\u001b[0m\u001b[0;34m[\u001b[0m\u001b[0;34m'Y_predicted'\u001b[0m\u001b[0;34m]\u001b[0m\u001b[0;34m)\u001b[0m\u001b[0;34m)\u001b[0m\u001b[0;34m\u001b[0m\u001b[0;34m\u001b[0m\u001b[0m\n",
      "\u001b[0;32m/miniconda/envs/DeepPurpose/lib/python3.7/site-packages/sklearn/metrics/_ranking.py\u001b[0m in \u001b[0;36mroc_auc_score\u001b[0;34m(y_true, y_score, average, sample_weight, max_fpr, multi_class, labels)\u001b[0m\n\u001b[1;32m    366\u001b[0m \u001b[0;34m\u001b[0m\u001b[0m\n\u001b[1;32m    367\u001b[0m     \u001b[0my_type\u001b[0m \u001b[0;34m=\u001b[0m \u001b[0mtype_of_target\u001b[0m\u001b[0;34m(\u001b[0m\u001b[0my_true\u001b[0m\u001b[0;34m)\u001b[0m\u001b[0;34m\u001b[0m\u001b[0;34m\u001b[0m\u001b[0m\n\u001b[0;32m--> 368\u001b[0;31m     \u001b[0my_true\u001b[0m \u001b[0;34m=\u001b[0m \u001b[0mcheck_array\u001b[0m\u001b[0;34m(\u001b[0m\u001b[0my_true\u001b[0m\u001b[0;34m,\u001b[0m \u001b[0mensure_2d\u001b[0m\u001b[0;34m=\u001b[0m\u001b[0;32mFalse\u001b[0m\u001b[0;34m,\u001b[0m \u001b[0mdtype\u001b[0m\u001b[0;34m=\u001b[0m\u001b[0;32mNone\u001b[0m\u001b[0;34m)\u001b[0m\u001b[0;34m\u001b[0m\u001b[0;34m\u001b[0m\u001b[0m\n\u001b[0m\u001b[1;32m    369\u001b[0m     \u001b[0my_score\u001b[0m \u001b[0;34m=\u001b[0m \u001b[0mcheck_array\u001b[0m\u001b[0;34m(\u001b[0m\u001b[0my_score\u001b[0m\u001b[0;34m,\u001b[0m \u001b[0mensure_2d\u001b[0m\u001b[0;34m=\u001b[0m\u001b[0;32mFalse\u001b[0m\u001b[0;34m)\u001b[0m\u001b[0;34m\u001b[0m\u001b[0;34m\u001b[0m\u001b[0m\n\u001b[1;32m    370\u001b[0m \u001b[0;34m\u001b[0m\u001b[0m\n",
      "\u001b[0;32m/miniconda/envs/DeepPurpose/lib/python3.7/site-packages/sklearn/utils/validation.py\u001b[0m in \u001b[0;36mcheck_array\u001b[0;34m(array, accept_sparse, accept_large_sparse, dtype, order, copy, force_all_finite, ensure_2d, allow_nd, ensure_min_samples, ensure_min_features, warn_on_dtype, estimator)\u001b[0m\n\u001b[1;32m    584\u001b[0m                              \u001b[0;34m\" minimum of %d is required%s.\"\u001b[0m\u001b[0;34m\u001b[0m\u001b[0;34m\u001b[0m\u001b[0m\n\u001b[1;32m    585\u001b[0m                              % (n_samples, array.shape, ensure_min_samples,\n\u001b[0;32m--> 586\u001b[0;31m                                 context))\n\u001b[0m\u001b[1;32m    587\u001b[0m \u001b[0;34m\u001b[0m\u001b[0m\n\u001b[1;32m    588\u001b[0m     \u001b[0;32mif\u001b[0m \u001b[0mensure_min_features\u001b[0m \u001b[0;34m>\u001b[0m \u001b[0;36m0\u001b[0m \u001b[0;32mand\u001b[0m \u001b[0marray\u001b[0m\u001b[0;34m.\u001b[0m\u001b[0mndim\u001b[0m \u001b[0;34m==\u001b[0m \u001b[0;36m2\u001b[0m\u001b[0;34m:\u001b[0m\u001b[0;34m\u001b[0m\u001b[0;34m\u001b[0m\u001b[0m\n",
      "\u001b[0;31mValueError\u001b[0m: Found array with 0 sample(s) (shape=(0,)) while a minimum of 1 is required."
     ]
    }
   ],
   "source": [
    "# Unseen Targets\n",
    "\n",
    "test_unseen_targets = test[test['Target Sequence'].isin(test_minus_train_targets)]\n",
    "print('Unseen targets: ', len(test_unseen_targets))\n",
    "\n",
    "print('AUC: ', roc_auc_score(test_unseen_targets['Label'].tolist(), test_unseen_targets['Y_predicted']))\n",
    "print('AUP: ', average_precision_score(test_unseen_targets['Label'].tolist(), test_unseen_targets['Y_predicted']))"
   ]
  },
  {
   "cell_type": "code",
   "execution_count": 25,
   "metadata": {
    "collapsed": true
   },
   "outputs": [
    {
     "name": "stdout",
     "output_type": "stream",
     "text": [
      "Unseen nodes:  0\n"
     ]
    },
    {
     "ename": "ValueError",
     "evalue": "Found array with 0 sample(s) (shape=(0,)) while a minimum of 1 is required.",
     "output_type": "error",
     "traceback": [
      "\u001b[0;31m---------------------------------------------------------------------------\u001b[0m",
      "\u001b[0;31mValueError\u001b[0m                                Traceback (most recent call last)",
      "\u001b[0;32m<ipython-input-25-0d138ea45a28>\u001b[0m in \u001b[0;36m<module>\u001b[0;34m\u001b[0m\n\u001b[1;32m      4\u001b[0m \u001b[0mprint\u001b[0m\u001b[0;34m(\u001b[0m\u001b[0;34m'Unseen nodes: '\u001b[0m\u001b[0;34m,\u001b[0m \u001b[0mlen\u001b[0m\u001b[0;34m(\u001b[0m\u001b[0mtest_unseen_nodes\u001b[0m\u001b[0;34m)\u001b[0m\u001b[0;34m)\u001b[0m\u001b[0;34m\u001b[0m\u001b[0;34m\u001b[0m\u001b[0m\n\u001b[1;32m      5\u001b[0m \u001b[0;34m\u001b[0m\u001b[0m\n\u001b[0;32m----> 6\u001b[0;31m \u001b[0mprint\u001b[0m\u001b[0;34m(\u001b[0m\u001b[0;34m'AUC: '\u001b[0m\u001b[0;34m,\u001b[0m \u001b[0mroc_auc_score\u001b[0m\u001b[0;34m(\u001b[0m\u001b[0mtest_unseen_nodes\u001b[0m\u001b[0;34m[\u001b[0m\u001b[0;34m'Label'\u001b[0m\u001b[0;34m]\u001b[0m\u001b[0;34m.\u001b[0m\u001b[0mtolist\u001b[0m\u001b[0;34m(\u001b[0m\u001b[0;34m)\u001b[0m\u001b[0;34m,\u001b[0m \u001b[0mtest_unseen_nodes\u001b[0m\u001b[0;34m[\u001b[0m\u001b[0;34m'Y_predicted'\u001b[0m\u001b[0;34m]\u001b[0m\u001b[0;34m)\u001b[0m\u001b[0;34m)\u001b[0m\u001b[0;34m\u001b[0m\u001b[0;34m\u001b[0m\u001b[0m\n\u001b[0m\u001b[1;32m      7\u001b[0m \u001b[0mprint\u001b[0m\u001b[0;34m(\u001b[0m\u001b[0;34m'AUP: '\u001b[0m\u001b[0;34m,\u001b[0m \u001b[0maverage_precision_score\u001b[0m\u001b[0;34m(\u001b[0m\u001b[0mtest_unseen_nodes\u001b[0m\u001b[0;34m[\u001b[0m\u001b[0;34m'Label'\u001b[0m\u001b[0;34m]\u001b[0m\u001b[0;34m.\u001b[0m\u001b[0mtolist\u001b[0m\u001b[0;34m(\u001b[0m\u001b[0;34m)\u001b[0m\u001b[0;34m,\u001b[0m \u001b[0mtest_unseen_nodes\u001b[0m\u001b[0;34m[\u001b[0m\u001b[0;34m'Y_predicted'\u001b[0m\u001b[0;34m]\u001b[0m\u001b[0;34m)\u001b[0m\u001b[0;34m)\u001b[0m\u001b[0;34m\u001b[0m\u001b[0;34m\u001b[0m\u001b[0m\n",
      "\u001b[0;32m/miniconda/envs/DeepPurpose/lib/python3.7/site-packages/sklearn/metrics/_ranking.py\u001b[0m in \u001b[0;36mroc_auc_score\u001b[0;34m(y_true, y_score, average, sample_weight, max_fpr, multi_class, labels)\u001b[0m\n\u001b[1;32m    366\u001b[0m \u001b[0;34m\u001b[0m\u001b[0m\n\u001b[1;32m    367\u001b[0m     \u001b[0my_type\u001b[0m \u001b[0;34m=\u001b[0m \u001b[0mtype_of_target\u001b[0m\u001b[0;34m(\u001b[0m\u001b[0my_true\u001b[0m\u001b[0;34m)\u001b[0m\u001b[0;34m\u001b[0m\u001b[0;34m\u001b[0m\u001b[0m\n\u001b[0;32m--> 368\u001b[0;31m     \u001b[0my_true\u001b[0m \u001b[0;34m=\u001b[0m \u001b[0mcheck_array\u001b[0m\u001b[0;34m(\u001b[0m\u001b[0my_true\u001b[0m\u001b[0;34m,\u001b[0m \u001b[0mensure_2d\u001b[0m\u001b[0;34m=\u001b[0m\u001b[0;32mFalse\u001b[0m\u001b[0;34m,\u001b[0m \u001b[0mdtype\u001b[0m\u001b[0;34m=\u001b[0m\u001b[0;32mNone\u001b[0m\u001b[0;34m)\u001b[0m\u001b[0;34m\u001b[0m\u001b[0;34m\u001b[0m\u001b[0m\n\u001b[0m\u001b[1;32m    369\u001b[0m     \u001b[0my_score\u001b[0m \u001b[0;34m=\u001b[0m \u001b[0mcheck_array\u001b[0m\u001b[0;34m(\u001b[0m\u001b[0my_score\u001b[0m\u001b[0;34m,\u001b[0m \u001b[0mensure_2d\u001b[0m\u001b[0;34m=\u001b[0m\u001b[0;32mFalse\u001b[0m\u001b[0;34m)\u001b[0m\u001b[0;34m\u001b[0m\u001b[0;34m\u001b[0m\u001b[0m\n\u001b[1;32m    370\u001b[0m \u001b[0;34m\u001b[0m\u001b[0m\n",
      "\u001b[0;32m/miniconda/envs/DeepPurpose/lib/python3.7/site-packages/sklearn/utils/validation.py\u001b[0m in \u001b[0;36mcheck_array\u001b[0;34m(array, accept_sparse, accept_large_sparse, dtype, order, copy, force_all_finite, ensure_2d, allow_nd, ensure_min_samples, ensure_min_features, warn_on_dtype, estimator)\u001b[0m\n\u001b[1;32m    584\u001b[0m                              \u001b[0;34m\" minimum of %d is required%s.\"\u001b[0m\u001b[0;34m\u001b[0m\u001b[0;34m\u001b[0m\u001b[0m\n\u001b[1;32m    585\u001b[0m                              % (n_samples, array.shape, ensure_min_samples,\n\u001b[0;32m--> 586\u001b[0;31m                                 context))\n\u001b[0m\u001b[1;32m    587\u001b[0m \u001b[0;34m\u001b[0m\u001b[0m\n\u001b[1;32m    588\u001b[0m     \u001b[0;32mif\u001b[0m \u001b[0mensure_min_features\u001b[0m \u001b[0;34m>\u001b[0m \u001b[0;36m0\u001b[0m \u001b[0;32mand\u001b[0m \u001b[0marray\u001b[0m\u001b[0;34m.\u001b[0m\u001b[0mndim\u001b[0m \u001b[0;34m==\u001b[0m \u001b[0;36m2\u001b[0m\u001b[0;34m:\u001b[0m\u001b[0;34m\u001b[0m\u001b[0;34m\u001b[0m\u001b[0m\n",
      "\u001b[0;31mValueError\u001b[0m: Found array with 0 sample(s) (shape=(0,)) while a minimum of 1 is required."
     ]
    }
   ],
   "source": [
    "# Unseen Nodes\n",
    "\n",
    "test_unseen_nodes = test[test['SMILES'].isin(test_minus_train_ligands) & test['Target Sequence'].isin(test_minus_train_targets)]\n",
    "print('Unseen nodes: ', len(test_unseen_nodes))\n",
    "\n",
    "print('AUC: ', roc_auc_score(test_unseen_nodes['Label'].tolist(), test_unseen_nodes['Y_predicted']))\n",
    "print('AUP: ', average_precision_score(test_unseen_nodes['Label'].tolist(), test_unseen_nodes['Y_predicted']))"
   ]
  },
  {
   "cell_type": "code",
   "execution_count": null,
   "metadata": {},
   "outputs": [],
   "source": []
  }
 ],
 "metadata": {
  "kernelspec": {
   "display_name": "DeepPurpose",
   "language": "python",
   "name": "deeppurpose"
  },
  "language_info": {
   "codemirror_mode": {
    "name": "ipython",
    "version": 3
   },
   "file_extension": ".py",
   "mimetype": "text/x-python",
   "name": "python",
   "nbconvert_exporter": "python",
   "pygments_lexer": "ipython3",
   "version": "3.7.7"
  }
 },
 "nbformat": 4,
 "nbformat_minor": 4
}
