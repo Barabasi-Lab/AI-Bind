{
 "cells": [
  {
   "cell_type": "markdown",
   "metadata": {
    "heading_collapsed": true
   },
   "source": [
    "# Imports"
   ]
  },
  {
   "cell_type": "code",
   "execution_count": 1,
   "metadata": {
    "hidden": true
   },
   "outputs": [],
   "source": [
    "import os\n",
    "os.chdir('/DeepPurpose/')\n",
    "\n",
    "import DeepPurpose.DTI as models\n",
    "from DeepPurpose.utils import *\n",
    "from DeepPurpose.dataset import *\n",
    "import random\n",
    "from sklearn.metrics import confusion_matrix, f1_score, classification_report\n",
    "from sklearn.metrics import roc_curve, roc_auc_score, precision_recall_curve, average_precision_score\n",
    "from sklearn.metrics import confusion_matrix, f1_score, classification_report\n",
    "import matplotlib.pyplot as plt\n",
    "from tqdm import tqdm\n",
    "import pandas as pd\n",
    "from matplotlib.pyplot import figure\n",
    "import numpy as np"
   ]
  },
  {
   "cell_type": "code",
   "execution_count": 2,
   "metadata": {
    "hidden": true
   },
   "outputs": [],
   "source": [
    "# load_process_DAVIS()"
   ]
  },
  {
   "cell_type": "code",
   "execution_count": 3,
   "metadata": {
    "hidden": true
   },
   "outputs": [],
   "source": [
    "# download_BindingDB()"
   ]
  },
  {
   "cell_type": "code",
   "execution_count": 25,
   "metadata": {
    "hidden": true,
    "scrolled": true
   },
   "outputs": [
    {
     "name": "stdout",
     "output_type": "stream",
     "text": [
      "Loading Dataset from path...\n"
     ]
    },
    {
     "name": "stderr",
     "output_type": "stream",
     "text": [
      "b'Skipping line 896772: expected 193 fields, saw 205\\nSkipping line 896798: expected 193 fields, saw 205\\n'\n",
      "b'Skipping line 929491: expected 193 fields, saw 205\\n'\n",
      "b'Skipping line 952161: expected 193 fields, saw 265\\n'\n",
      "b'Skipping line 1355895: expected 193 fields, saw 241\\n'\n",
      "b'Skipping line 1469800: expected 193 fields, saw 241\\nSkipping line 1469801: expected 193 fields, saw 241\\nSkipping line 1469802: expected 193 fields, saw 241\\nSkipping line 1469803: expected 193 fields, saw 241\\nSkipping line 1469804: expected 193 fields, saw 241\\nSkipping line 1469805: expected 193 fields, saw 241\\nSkipping line 1469806: expected 193 fields, saw 241\\nSkipping line 1469807: expected 193 fields, saw 241\\nSkipping line 1469808: expected 193 fields, saw 241\\n'\n",
      "b'Skipping line 1483073: expected 193 fields, saw 205\\n'\n",
      "b'Skipping line 1502296: expected 193 fields, saw 241\\nSkipping line 1502297: expected 193 fields, saw 241\\nSkipping line 1502298: expected 193 fields, saw 241\\nSkipping line 1502299: expected 193 fields, saw 241\\nSkipping line 1502300: expected 193 fields, saw 241\\nSkipping line 1502301: expected 193 fields, saw 241\\nSkipping line 1502302: expected 193 fields, saw 241\\nSkipping line 1502303: expected 193 fields, saw 241\\nSkipping line 1502304: expected 193 fields, saw 241\\n'\n",
      "b'Skipping line 1541474: expected 193 fields, saw 205\\n'\n",
      "b'Skipping line 1927945: expected 193 fields, saw 265\\n'\n",
      "b'Skipping line 2015166: expected 193 fields, saw 265\\nSkipping line 2015167: expected 193 fields, saw 265\\nSkipping line 2015168: expected 193 fields, saw 265\\nSkipping line 2015169: expected 193 fields, saw 265\\nSkipping line 2015170: expected 193 fields, saw 265\\nSkipping line 2015171: expected 193 fields, saw 265\\nSkipping line 2015172: expected 193 fields, saw 265\\nSkipping line 2015173: expected 193 fields, saw 265\\nSkipping line 2015174: expected 193 fields, saw 265\\nSkipping line 2015175: expected 193 fields, saw 265\\nSkipping line 2015176: expected 193 fields, saw 265\\nSkipping line 2015177: expected 193 fields, saw 265\\nSkipping line 2015178: expected 193 fields, saw 265\\nSkipping line 2015179: expected 193 fields, saw 265\\nSkipping line 2015180: expected 193 fields, saw 265\\nSkipping line 2015181: expected 193 fields, saw 265\\nSkipping line 2015182: expected 193 fields, saw 265\\nSkipping line 2015183: expected 193 fields, saw 265\\nSkipping line 2015184: expected 193 fields, saw 265\\n'\n",
      "b'Skipping line 2015802: expected 193 fields, saw 265\\nSkipping line 2015803: expected 193 fields, saw 265\\nSkipping line 2015804: expected 193 fields, saw 265\\nSkipping line 2015805: expected 193 fields, saw 265\\nSkipping line 2015806: expected 193 fields, saw 265\\nSkipping line 2015807: expected 193 fields, saw 265\\nSkipping line 2015808: expected 193 fields, saw 265\\n'\n",
      "b'Skipping line 2027219: expected 193 fields, saw 265\\nSkipping line 2027220: expected 193 fields, saw 265\\nSkipping line 2027221: expected 193 fields, saw 265\\nSkipping line 2027222: expected 193 fields, saw 265\\nSkipping line 2027223: expected 193 fields, saw 265\\nSkipping line 2027224: expected 193 fields, saw 265\\nSkipping line 2027225: expected 193 fields, saw 265\\nSkipping line 2027226: expected 193 fields, saw 265\\nSkipping line 2027227: expected 193 fields, saw 265\\nSkipping line 2027228: expected 193 fields, saw 265\\nSkipping line 2027229: expected 193 fields, saw 265\\nSkipping line 2027230: expected 193 fields, saw 265\\nSkipping line 2027231: expected 193 fields, saw 265\\nSkipping line 2027232: expected 193 fields, saw 265\\nSkipping line 2027233: expected 193 fields, saw 265\\nSkipping line 2027234: expected 193 fields, saw 265\\nSkipping line 2027235: expected 193 fields, saw 265\\nSkipping line 2027236: expected 193 fields, saw 265\\nSkipping line 2027237: expected 193 fields, saw 265\\nSkipping line 2027238: expected 193 fields, saw 265\\nSkipping line 2027239: expected 193 fields, saw 265\\nSkipping line 2027240: expected 193 fields, saw 265\\nSkipping line 2027241: expected 193 fields, saw 265\\nSkipping line 2027242: expected 193 fields, saw 265\\nSkipping line 2027243: expected 193 fields, saw 265\\nSkipping line 2027244: expected 193 fields, saw 265\\nSkipping line 2027245: expected 193 fields, saw 265\\nSkipping line 2027246: expected 193 fields, saw 265\\nSkipping line 2027247: expected 193 fields, saw 265\\nSkipping line 2027248: expected 193 fields, saw 265\\nSkipping line 2027249: expected 193 fields, saw 265\\nSkipping line 2027250: expected 193 fields, saw 265\\nSkipping line 2027251: expected 193 fields, saw 265\\nSkipping line 2027252: expected 193 fields, saw 265\\nSkipping line 2027253: expected 193 fields, saw 265\\nSkipping line 2027254: expected 193 fields, saw 265\\nSkipping line 2027255: expected 193 fields, saw 265\\nSkipping line 2027256: expected 193 fields, saw 265\\nSkipping line 2027257: expected 193 fields, saw 265\\n'\n",
      "b'Skipping line 2029854: expected 193 fields, saw 265\\nSkipping line 2029855: expected 193 fields, saw 265\\nSkipping line 2029856: expected 193 fields, saw 265\\nSkipping line 2029857: expected 193 fields, saw 265\\nSkipping line 2029858: expected 193 fields, saw 265\\nSkipping line 2029859: expected 193 fields, saw 265\\nSkipping line 2029860: expected 193 fields, saw 265\\nSkipping line 2029861: expected 193 fields, saw 265\\n'\n",
      "b'Skipping line 2042409: expected 193 fields, saw 313\\n'\n",
      "b'Skipping line 2059953: expected 193 fields, saw 637\\n'\n",
      "/miniconda/envs/DeepPurpose/lib/python3.7/site-packages/IPython/core/interactiveshell.py:3254: DtypeWarning: Columns (8,9,10,11,12,13,15,17,18,19,20,26,27,31,32,34,35,46,49,50,51,52,53,54,61,62,63,64,65,66,73,74,75,76,77,78,85,86,87,88,89,90,97,98,99,100,101,102,109,110,111,112,113,114,121,122,123,124,125,126,133,134,135,136,137,138,145,147,148,149,150,157,158,159,160,161,162,169,171,172,173,174) have mixed types.Specify dtype option on import or set low_memory=False.\n",
      "  if (await self.run_code(code, result,  async_=asy)):\n"
     ]
    },
    {
     "name": "stdout",
     "output_type": "stream",
     "text": [
      "Beginning Processing...\n",
      "There are 70750 drug target pairs.\n",
      "Default binary threshold for the binding affinity scores are 30, you can adjust it by using the \"threshold\" parameter\n"
     ]
    }
   ],
   "source": [
    "X_drug, X_target, y  = process_BindingDB('/home/sars-busters-consolidated/data/BindingDB_All.tsv',\n",
    "                                         y = 'Kd', \n",
    "                                         binary = True, ## Keep it binary true for classification task\n",
    "                                         convert_to_log = True)"
   ]
  },
  {
   "cell_type": "markdown",
   "metadata": {
    "heading_collapsed": true
   },
   "source": [
    "# Original DeepPurpose"
   ]
  },
  {
   "cell_type": "code",
   "execution_count": 5,
   "metadata": {
    "hidden": true
   },
   "outputs": [
    {
     "name": "stdout",
     "output_type": "stream",
     "text": [
      "Drug Target Interaction Prediction Mode...\n",
      "in total: 70750 drug-target pairs\n",
      "encoding drug...\n",
      "unique drugs: 13392\n",
      "encoding protein...\n",
      "unique target sequence: 1507\n",
      "splitting dataset...\n",
      "Done.\n"
     ]
    }
   ],
   "source": [
    "drug_encoding = 'Transformer'\n",
    "target_encoding = 'CNN'\n",
    "\n",
    "all_data, nil1, nil2 = data_process(X_drug, \n",
    "                                X_target, \n",
    "                                y, \n",
    "                                drug_encoding, target_encoding, \n",
    "                                split_method='random',frac=[1.0,0.0,0.0])\n",
    "\n",
    "config = generate_config(drug_encoding = drug_encoding, \n",
    "                         target_encoding = target_encoding, \n",
    "                         cls_hidden_dims = [1024,1024,512], \n",
    "                         train_epoch = 100, \n",
    "                         LR = 0.001, \n",
    "                         batch_size = 128,\n",
    "                         cnn_target_filters = [32,64,96],\n",
    "                         cnn_target_kernels = [4,8,12]\n",
    "                        )"
   ]
  },
  {
   "cell_type": "code",
   "execution_count": 6,
   "metadata": {
    "scrolled": true
   },
   "outputs": [],
   "source": [
    "shuffled = all_data.sample(frac=1)\n",
    "result = np.array_split(shuffled, 10)  \n",
    "\n",
    "train = pd.concat(result[0:7]).reset_index()\n",
    "val = pd.concat([result[7]]).reset_index()\n",
    "test = pd.concat(result[8:10]).reset_index()"
   ]
  },
  {
   "cell_type": "code",
   "execution_count": 41,
   "metadata": {
    "hidden": true
   },
   "outputs": [],
   "source": [
    "import torch, gc\n",
    "\n",
    "gc.collect()\n",
    "torch.cuda.empty_cache()"
   ]
  },
  {
   "cell_type": "code",
   "execution_count": 7,
   "metadata": {
    "hidden": true
   },
   "outputs": [
    {
     "data": {
      "text/plain": [
       "(49525, 6)"
      ]
     },
     "execution_count": 7,
     "metadata": {},
     "output_type": "execute_result"
    }
   ],
   "source": [
    "train.shape"
   ]
  },
  {
   "cell_type": "code",
   "execution_count": 8,
   "metadata": {
    "hidden": true
   },
   "outputs": [
    {
     "data": {
      "text/plain": [
       "(14150, 6)"
      ]
     },
     "execution_count": 8,
     "metadata": {},
     "output_type": "execute_result"
    }
   ],
   "source": [
    "test.shape"
   ]
  },
  {
   "cell_type": "code",
   "execution_count": 9,
   "metadata": {
    "hidden": true,
    "scrolled": true
   },
   "outputs": [
    {
     "name": "stdout",
     "output_type": "stream",
     "text": [
      "Let's use 4 GPUs!\n",
      "--- Data Preparation ---\n",
      "--- Go for Training ---\n",
      "Training at Epoch 1 iteration 0 with loss 0.69518. Total time 0.00361 hours\n",
      "Training at Epoch 1 iteration 100 with loss 0.34904. Total time 0.01722 hours\n",
      "Training at Epoch 1 iteration 200 with loss 0.30562. Total time 0.03305 hours\n",
      "Training at Epoch 1 iteration 300 with loss 0.29947. Total time 0.04916 hours\n",
      "Validation at Epoch 1, AUROC: 0.83298 , AUPRC: 0.59041 , F1: 0.24198 , Cross-entropy Loss: 5.07707\n",
      "Training at Epoch 2 iteration 0 with loss 0.27694. Total time 0.06833 hours\n",
      "Training at Epoch 2 iteration 100 with loss 0.31445. Total time 0.08388 hours\n",
      "Training at Epoch 2 iteration 200 with loss 0.31005. Total time 0.10027 hours\n",
      "Training at Epoch 2 iteration 300 with loss 0.38071. Total time 0.11638 hours\n",
      "Validation at Epoch 2, AUROC: 0.83880 , AUPRC: 0.61062 , F1: 0.45139 , Cross-entropy Loss: 4.71096\n",
      "Training at Epoch 3 iteration 0 with loss 0.30282. Total time 0.13583 hours\n",
      "Training at Epoch 3 iteration 100 with loss 0.28805. Total time 0.15194 hours\n",
      "Training at Epoch 3 iteration 200 with loss 0.29561. Total time 0.16805 hours\n",
      "Training at Epoch 3 iteration 300 with loss 0.28439. Total time 0.18416 hours\n",
      "Validation at Epoch 3, AUROC: 0.84624 , AUPRC: 0.62387 , F1: 0.44209 , Cross-entropy Loss: 4.63284\n",
      "Training at Epoch 4 iteration 0 with loss 0.32543. Total time 0.20333 hours\n",
      "Training at Epoch 4 iteration 100 with loss 0.25084. Total time 0.21944 hours\n",
      "Training at Epoch 4 iteration 200 with loss 0.31004. Total time 0.23583 hours\n",
      "Training at Epoch 4 iteration 300 with loss 0.28016. Total time 0.25166 hours\n",
      "Validation at Epoch 4, AUROC: 0.84849 , AUPRC: 0.62668 , F1: 0.47045 , Cross-entropy Loss: 4.59379\n",
      "Training at Epoch 5 iteration 0 with loss 0.33156. Total time 0.27138 hours\n",
      "Training at Epoch 5 iteration 100 with loss 0.25992. Total time 0.28694 hours\n",
      "Training at Epoch 5 iteration 200 with loss 0.29169. Total time 0.30277 hours\n",
      "Training at Epoch 5 iteration 300 with loss 0.29767. Total time 0.31916 hours\n",
      "Validation at Epoch 5, AUROC: 0.84888 , AUPRC: 0.62887 , F1: 0.52716 , Cross-entropy Loss: 4.58892\n",
      "Training at Epoch 6 iteration 0 with loss 0.27550. Total time 0.33888 hours\n",
      "Training at Epoch 6 iteration 100 with loss 0.24981. Total time 0.35527 hours\n",
      "Training at Epoch 6 iteration 200 with loss 0.23946. Total time 0.37111 hours\n",
      "Training at Epoch 6 iteration 300 with loss 0.31447. Total time 0.38694 hours\n",
      "Validation at Epoch 6, AUROC: 0.85389 , AUPRC: 0.63476 , F1: 0.46522 , Cross-entropy Loss: 4.57915\n",
      "Training at Epoch 7 iteration 0 with loss 0.31908. Total time 0.40611 hours\n",
      "Training at Epoch 7 iteration 100 with loss 0.25262. Total time 0.42194 hours\n",
      "Training at Epoch 7 iteration 200 with loss 0.29089. Total time 0.4375 hours\n",
      "Training at Epoch 7 iteration 300 with loss 0.26373. Total time 0.45388 hours\n",
      "Validation at Epoch 7, AUROC: 0.85144 , AUPRC: 0.63344 , F1: 0.46373 , Cross-entropy Loss: 4.58403\n",
      "Training at Epoch 8 iteration 0 with loss 0.35388. Total time 0.47305 hours\n",
      "Training at Epoch 8 iteration 100 with loss 0.23438. Total time 0.48861 hours\n",
      "Training at Epoch 8 iteration 200 with loss 0.31811. Total time 0.50416 hours\n",
      "Training at Epoch 8 iteration 300 with loss 0.24289. Total time 0.52 hours\n",
      "Validation at Epoch 8, AUROC: 0.85507 , AUPRC: 0.63762 , F1: 0.41604 , Cross-entropy Loss: 4.54985\n",
      "Training at Epoch 9 iteration 0 with loss 0.28714. Total time 0.53972 hours\n",
      "Training at Epoch 9 iteration 100 with loss 0.28617. Total time 0.55527 hours\n",
      "Training at Epoch 9 iteration 200 with loss 0.31732. Total time 0.57083 hours\n",
      "Training at Epoch 9 iteration 300 with loss 0.28029. Total time 0.58666 hours\n",
      "Validation at Epoch 9, AUROC: 0.85216 , AUPRC: 0.63901 , F1: 0.50484 , Cross-entropy Loss: 4.49128\n",
      "Training at Epoch 10 iteration 0 with loss 0.25773. Total time 0.60611 hours\n",
      "Training at Epoch 10 iteration 100 with loss 0.21327. Total time 0.62194 hours\n",
      "Training at Epoch 10 iteration 200 with loss 0.31619. Total time 0.63777 hours\n",
      "Training at Epoch 10 iteration 300 with loss 0.34451. Total time 0.65361 hours\n",
      "Validation at Epoch 10, AUROC: 0.85286 , AUPRC: 0.63740 , F1: 0.52890 , Cross-entropy Loss: 4.49617\n",
      "Training at Epoch 11 iteration 0 with loss 0.33926. Total time 0.67277 hours\n",
      "Training at Epoch 11 iteration 100 with loss 0.34218. Total time 0.68888 hours\n",
      "Training at Epoch 11 iteration 200 with loss 0.28572. Total time 0.70527 hours\n",
      "Training at Epoch 11 iteration 300 with loss 0.39813. Total time 0.72166 hours\n",
      "Validation at Epoch 11, AUROC: 0.85159 , AUPRC: 0.61927 , F1: 0.29403 , Cross-entropy Loss: 4.85251\n",
      "Training at Epoch 12 iteration 0 with loss 0.34169. Total time 0.74111 hours\n",
      "Training at Epoch 12 iteration 100 with loss 0.22560. Total time 0.75638 hours\n",
      "Training at Epoch 12 iteration 200 with loss 0.36915. Total time 0.77222 hours\n",
      "Training at Epoch 12 iteration 300 with loss 0.40310. Total time 0.78777 hours\n",
      "Validation at Epoch 12, AUROC: 0.84965 , AUPRC: 0.61731 , F1: 0.32558 , Cross-entropy Loss: 4.81346\n",
      "Training at Epoch 13 iteration 0 with loss 0.28720. Total time 0.8075 hours\n",
      "Training at Epoch 13 iteration 100 with loss 0.27878. Total time 0.82361 hours\n",
      "Training at Epoch 13 iteration 200 with loss 0.30700. Total time 0.83944 hours\n",
      "Training at Epoch 13 iteration 300 with loss 0.38973. Total time 0.85555 hours\n",
      "Validation at Epoch 13, AUROC: 0.85429 , AUPRC: 0.63849 , F1: 0.50244 , Cross-entropy Loss: 4.47663\n",
      "Training at Epoch 14 iteration 0 with loss 0.32260. Total time 0.875 hours\n",
      "Training at Epoch 14 iteration 100 with loss 0.40352. Total time 0.89083 hours\n",
      "Training at Epoch 14 iteration 200 with loss 0.26608. Total time 0.90666 hours\n",
      "Training at Epoch 14 iteration 300 with loss 0.27729. Total time 0.92277 hours\n",
      "Validation at Epoch 14, AUROC: 0.85426 , AUPRC: 0.63659 , F1: 0.41366 , Cross-entropy Loss: 4.52544\n",
      "Training at Epoch 15 iteration 0 with loss 0.29637. Total time 0.9425 hours\n",
      "Training at Epoch 15 iteration 100 with loss 0.29242. Total time 0.95944 hours\n",
      "Training at Epoch 15 iteration 200 with loss 0.27729. Total time 0.975 hours\n",
      "Training at Epoch 15 iteration 300 with loss 0.27677. Total time 0.99111 hours\n",
      "Validation at Epoch 15, AUROC: 0.85734 , AUPRC: 0.64010 , F1: 0.48624 , Cross-entropy Loss: 4.46687\n",
      "Training at Epoch 16 iteration 0 with loss 0.30614. Total time 1.01 hours\n",
      "Training at Epoch 16 iteration 100 with loss 0.33127. Total time 1.02583 hours\n",
      "Training at Epoch 16 iteration 200 with loss 0.33939. Total time 1.04166 hours\n",
      "Training at Epoch 16 iteration 300 with loss 0.32671. Total time 1.0575 hours\n",
      "Validation at Epoch 16, AUROC: 0.85451 , AUPRC: 0.63259 , F1: 0.46198 , Cross-entropy Loss: 4.52544\n",
      "Training at Epoch 17 iteration 0 with loss 0.32988. Total time 1.07694 hours\n",
      "Training at Epoch 17 iteration 100 with loss 0.29743. Total time 1.09222 hours\n",
      "Training at Epoch 17 iteration 200 with loss 0.31106. Total time 1.10805 hours\n",
      "Training at Epoch 17 iteration 300 with loss 0.24568. Total time 1.12388 hours\n",
      "Validation at Epoch 17, AUROC: 0.85403 , AUPRC: 0.63854 , F1: 0.42830 , Cross-entropy Loss: 4.53520\n",
      "Training at Epoch 18 iteration 0 with loss 0.31715. Total time 1.14333 hours\n",
      "Training at Epoch 18 iteration 100 with loss 0.38781. Total time 1.15888 hours\n",
      "Training at Epoch 18 iteration 200 with loss 0.32169. Total time 1.17472 hours\n",
      "Training at Epoch 18 iteration 300 with loss 0.32128. Total time 1.19055 hours\n",
      "Validation at Epoch 18, AUROC: 0.85463 , AUPRC: 0.63901 , F1: 0.41961 , Cross-entropy Loss: 4.56449\n",
      "Training at Epoch 19 iteration 0 with loss 0.31657. Total time 1.21027 hours\n",
      "Training at Epoch 19 iteration 100 with loss 0.26987. Total time 1.22638 hours\n",
      "Training at Epoch 19 iteration 200 with loss 0.31457. Total time 1.2425 hours\n",
      "Training at Epoch 19 iteration 300 with loss 0.37092. Total time 1.25805 hours\n",
      "Validation at Epoch 19, AUROC: 0.85453 , AUPRC: 0.63781 , F1: 0.53094 , Cross-entropy Loss: 4.47664\n",
      "Training at Epoch 20 iteration 0 with loss 0.34850. Total time 1.2775 hours\n",
      "Training at Epoch 20 iteration 100 with loss 0.30215. Total time 1.29305 hours\n",
      "Training at Epoch 20 iteration 200 with loss 0.27049. Total time 1.30972 hours\n",
      "Training at Epoch 20 iteration 300 with loss 0.24881. Total time 1.32527 hours\n",
      "Validation at Epoch 20, AUROC: 0.85630 , AUPRC: 0.64110 , F1: 0.38391 , Cross-entropy Loss: 4.63772\n",
      "Training at Epoch 21 iteration 0 with loss 0.29608. Total time 1.34472 hours\n",
      "Training at Epoch 21 iteration 100 with loss 0.35053. Total time 1.36 hours\n",
      "Training at Epoch 21 iteration 200 with loss 0.28474. Total time 1.37611 hours\n",
      "Training at Epoch 21 iteration 300 with loss 0.35379. Total time 1.39194 hours\n",
      "Validation at Epoch 21, AUROC: 0.85545 , AUPRC: 0.64262 , F1: 0.46724 , Cross-entropy Loss: 4.48639\n",
      "Training at Epoch 22 iteration 0 with loss 0.34591. Total time 1.41111 hours\n",
      "Training at Epoch 22 iteration 100 with loss 0.22218. Total time 1.42722 hours\n",
      "Training at Epoch 22 iteration 200 with loss 0.31231. Total time 1.44277 hours\n",
      "Training at Epoch 22 iteration 300 with loss 0.44887. Total time 1.45861 hours\n",
      "Validation at Epoch 22, AUROC: 0.85423 , AUPRC: 0.64133 , F1: 0.34969 , Cross-entropy Loss: 4.72071\n",
      "Training at Epoch 23 iteration 0 with loss 0.31649. Total time 1.47777 hours\n",
      "Training at Epoch 23 iteration 100 with loss 0.34534. Total time 1.49416 hours\n",
      "Training at Epoch 23 iteration 200 with loss 0.23120. Total time 1.51 hours\n",
      "Training at Epoch 23 iteration 300 with loss 0.34170. Total time 1.52583 hours\n",
      "Validation at Epoch 23, AUROC: 0.85455 , AUPRC: 0.63968 , F1: 0.42450 , Cross-entropy Loss: 4.54008\n",
      "Training at Epoch 24 iteration 0 with loss 0.25422. Total time 1.54527 hours\n",
      "Training at Epoch 24 iteration 100 with loss 0.31682. Total time 1.56083 hours\n",
      "Training at Epoch 24 iteration 200 with loss 0.32923. Total time 1.57666 hours\n",
      "Training at Epoch 24 iteration 300 with loss 0.36088. Total time 1.59277 hours\n",
      "Validation at Epoch 24, AUROC: 0.85496 , AUPRC: 0.64032 , F1: 0.40886 , Cross-entropy Loss: 4.55961\n",
      "Training at Epoch 25 iteration 0 with loss 0.37374. Total time 1.61277 hours\n",
      "Training at Epoch 25 iteration 100 with loss 0.31695. Total time 1.62833 hours\n",
      "Training at Epoch 25 iteration 200 with loss 0.18220. Total time 1.64416 hours\n",
      "Training at Epoch 25 iteration 300 with loss 0.22840. Total time 1.65972 hours\n",
      "Validation at Epoch 25, AUROC: 0.85617 , AUPRC: 0.63951 , F1: 0.52757 , Cross-entropy Loss: 4.43270\n",
      "Training at Epoch 26 iteration 0 with loss 0.39496. Total time 1.67888 hours\n",
      "Training at Epoch 26 iteration 100 with loss 0.28298. Total time 1.69444 hours\n",
      "Training at Epoch 26 iteration 200 with loss 0.27293. Total time 1.71083 hours\n",
      "Training at Epoch 26 iteration 300 with loss 0.25309. Total time 1.72694 hours\n",
      "Validation at Epoch 26, AUROC: 0.85544 , AUPRC: 0.63989 , F1: 0.43768 , Cross-entropy Loss: 4.51568\n",
      "Training at Epoch 27 iteration 0 with loss 0.27313. Total time 1.74611 hours\n",
      "Training at Epoch 27 iteration 100 with loss 0.28487. Total time 1.76166 hours\n",
      "Training at Epoch 27 iteration 200 with loss 0.26309. Total time 1.7775 hours\n",
      "Training at Epoch 27 iteration 300 with loss 0.27454. Total time 1.79361 hours\n",
      "Validation at Epoch 27, AUROC: 0.85626 , AUPRC: 0.63846 , F1: 0.40151 , Cross-entropy Loss: 4.64260\n",
      "Training at Epoch 28 iteration 0 with loss 0.28912. Total time 1.81333 hours\n",
      "Training at Epoch 28 iteration 100 with loss 0.30694. Total time 1.82972 hours\n",
      "Training at Epoch 28 iteration 200 with loss 0.26629. Total time 1.84555 hours\n",
      "Training at Epoch 28 iteration 300 with loss 0.37893. Total time 1.86166 hours\n",
      "Validation at Epoch 28, AUROC: 0.85615 , AUPRC: 0.64286 , F1: 0.45556 , Cross-entropy Loss: 4.51568\n",
      "Training at Epoch 29 iteration 0 with loss 0.34543. Total time 1.88111 hours\n",
      "Training at Epoch 29 iteration 100 with loss 0.25500. Total time 1.89666 hours\n",
      "Training at Epoch 29 iteration 200 with loss 0.29327. Total time 1.91361 hours\n",
      "Training at Epoch 29 iteration 300 with loss 0.27801. Total time 1.92972 hours\n",
      "Validation at Epoch 29, AUROC: 0.85538 , AUPRC: 0.63440 , F1: 0.44587 , Cross-entropy Loss: 4.62308\n",
      "Training at Epoch 30 iteration 0 with loss 0.27310. Total time 1.94888 hours\n",
      "Training at Epoch 30 iteration 100 with loss 0.25727. Total time 1.965 hours\n",
      "Training at Epoch 30 iteration 200 with loss 0.34497. Total time 1.98055 hours\n",
      "Training at Epoch 30 iteration 300 with loss 0.28215. Total time 1.99722 hours\n",
      "Validation at Epoch 30, AUROC: 0.85587 , AUPRC: 0.63796 , F1: 0.42019 , Cross-entropy Loss: 4.54008\n",
      "Training at Epoch 31 iteration 0 with loss 0.30621. Total time 2.01638 hours\n",
      "Training at Epoch 31 iteration 100 with loss 0.21020. Total time 2.03277 hours\n",
      "Training at Epoch 31 iteration 200 with loss 0.34799. Total time 2.04833 hours\n",
      "Training at Epoch 31 iteration 300 with loss 0.31119. Total time 2.06444 hours\n",
      "Validation at Epoch 31, AUROC: 0.85691 , AUPRC: 0.64598 , F1: 0.41761 , Cross-entropy Loss: 4.52055\n",
      "Training at Epoch 32 iteration 0 with loss 0.24347. Total time 2.08416 hours\n",
      "Training at Epoch 32 iteration 100 with loss 0.31714. Total time 2.09944 hours\n",
      "Training at Epoch 32 iteration 200 with loss 0.29931. Total time 2.11583 hours\n",
      "Training at Epoch 32 iteration 300 with loss 0.27363. Total time 2.13166 hours\n",
      "Validation at Epoch 32, AUROC: 0.85664 , AUPRC: 0.64011 , F1: 0.50946 , Cross-entropy Loss: 4.42781\n",
      "Training at Epoch 33 iteration 0 with loss 0.34672. Total time 2.15166 hours\n",
      "Training at Epoch 33 iteration 100 with loss 0.33697. Total time 2.16722 hours\n",
      "Training at Epoch 33 iteration 200 with loss 0.23492. Total time 2.18361 hours\n",
      "Training at Epoch 33 iteration 300 with loss 0.33688. Total time 2.19944 hours\n",
      "Validation at Epoch 33, AUROC: 0.85546 , AUPRC: 0.64023 , F1: 0.49589 , Cross-entropy Loss: 4.49616\n",
      "Training at Epoch 34 iteration 0 with loss 0.24968. Total time 2.21888 hours\n",
      "Training at Epoch 34 iteration 100 with loss 0.41033. Total time 2.235 hours\n",
      "Training at Epoch 34 iteration 200 with loss 0.28399. Total time 2.25194 hours\n",
      "Training at Epoch 34 iteration 300 with loss 0.40880. Total time 2.26805 hours\n",
      "Validation at Epoch 34, AUROC: 0.85739 , AUPRC: 0.64445 , F1: 0.42098 , Cross-entropy Loss: 4.52544\n",
      "Training at Epoch 35 iteration 0 with loss 0.23249. Total time 2.2875 hours\n",
      "Training at Epoch 35 iteration 100 with loss 0.29825. Total time 2.30305 hours\n",
      "Training at Epoch 35 iteration 200 with loss 0.27940. Total time 2.31888 hours\n",
      "Training at Epoch 35 iteration 300 with loss 0.27254. Total time 2.33472 hours\n",
      "Validation at Epoch 35, AUROC: 0.85725 , AUPRC: 0.64434 , F1: 0.47646 , Cross-entropy Loss: 4.45222\n",
      "Training at Epoch 36 iteration 0 with loss 0.34724. Total time 2.35416 hours\n",
      "Training at Epoch 36 iteration 100 with loss 0.24158. Total time 2.37111 hours\n",
      "Training at Epoch 36 iteration 200 with loss 0.25083. Total time 2.3875 hours\n",
      "Training at Epoch 36 iteration 300 with loss 0.41384. Total time 2.40388 hours\n",
      "Validation at Epoch 36, AUROC: 0.85722 , AUPRC: 0.64292 , F1: 0.51671 , Cross-entropy Loss: 4.44734\n",
      "Training at Epoch 37 iteration 0 with loss 0.27697. Total time 2.42388 hours\n",
      "Training at Epoch 37 iteration 100 with loss 0.31126. Total time 2.43944 hours\n",
      "Training at Epoch 37 iteration 200 with loss 0.31358. Total time 2.45555 hours\n",
      "Training at Epoch 37 iteration 300 with loss 0.21374. Total time 2.47138 hours\n",
      "Validation at Epoch 37, AUROC: 0.85658 , AUPRC: 0.64393 , F1: 0.44324 , Cross-entropy Loss: 4.52544\n",
      "Training at Epoch 38 iteration 0 with loss 0.32157. Total time 2.49083 hours\n",
      "Training at Epoch 38 iteration 100 with loss 0.36776. Total time 2.50777 hours\n",
      "Training at Epoch 38 iteration 200 with loss 0.30625. Total time 2.52388 hours\n",
      "Training at Epoch 38 iteration 300 with loss 0.22992. Total time 2.54 hours\n",
      "Validation at Epoch 38, AUROC: 0.85439 , AUPRC: 0.63781 , F1: 0.41822 , Cross-entropy Loss: 4.54985\n",
      "Training at Epoch 39 iteration 0 with loss 0.27076. Total time 2.55944 hours\n",
      "Training at Epoch 39 iteration 100 with loss 0.27523. Total time 2.57527 hours\n",
      "Training at Epoch 39 iteration 200 with loss 0.24161. Total time 2.59083 hours\n",
      "Training at Epoch 39 iteration 300 with loss 0.40459. Total time 2.60666 hours\n",
      "Validation at Epoch 39, AUROC: 0.85600 , AUPRC: 0.64525 , F1: 0.42257 , Cross-entropy Loss: 4.49615\n",
      "Training at Epoch 40 iteration 0 with loss 0.38034. Total time 2.62638 hours\n",
      "Training at Epoch 40 iteration 100 with loss 0.25225. Total time 2.64222 hours\n",
      "Training at Epoch 40 iteration 200 with loss 0.37262. Total time 2.65861 hours\n",
      "Training at Epoch 40 iteration 300 with loss 0.30600. Total time 2.675 hours\n",
      "Validation at Epoch 40, AUROC: 0.85478 , AUPRC: 0.64303 , F1: 0.42910 , Cross-entropy Loss: 4.48150\n",
      "Training at Epoch 41 iteration 0 with loss 0.28362. Total time 2.69444 hours\n",
      "Training at Epoch 41 iteration 100 with loss 0.30364. Total time 2.71 hours\n",
      "Training at Epoch 41 iteration 200 with loss 0.29420. Total time 2.72583 hours\n",
      "Training at Epoch 41 iteration 300 with loss 0.33658. Total time 2.74222 hours\n",
      "Validation at Epoch 41, AUROC: 0.85620 , AUPRC: 0.64387 , F1: 0.43206 , Cross-entropy Loss: 4.53032\n",
      "Training at Epoch 42 iteration 0 with loss 0.24522. Total time 2.76166 hours\n",
      "Training at Epoch 42 iteration 100 with loss 0.31451. Total time 2.7775 hours\n",
      "Training at Epoch 42 iteration 200 with loss 0.30152. Total time 2.79388 hours\n",
      "Training at Epoch 42 iteration 300 with loss 0.24323. Total time 2.80972 hours\n",
      "Validation at Epoch 42, AUROC: 0.85590 , AUPRC: 0.64227 , F1: 0.53818 , Cross-entropy Loss: 4.45711\n",
      "Training at Epoch 43 iteration 0 with loss 0.25456. Total time 2.82888 hours\n",
      "Training at Epoch 43 iteration 100 with loss 0.30189. Total time 2.84472 hours\n",
      "Training at Epoch 43 iteration 200 with loss 0.28047. Total time 2.86055 hours\n",
      "Training at Epoch 43 iteration 300 with loss 0.18558. Total time 2.87666 hours\n",
      "Validation at Epoch 43, AUROC: 0.85604 , AUPRC: 0.64192 , F1: 0.38095 , Cross-entropy Loss: 4.63283\n",
      "Training at Epoch 44 iteration 0 with loss 0.36529. Total time 2.89611 hours\n",
      "Training at Epoch 44 iteration 100 with loss 0.27279. Total time 2.91222 hours\n",
      "Training at Epoch 44 iteration 200 with loss 0.27806. Total time 2.92833 hours\n",
      "Training at Epoch 44 iteration 300 with loss 0.32492. Total time 2.94555 hours\n",
      "Validation at Epoch 44, AUROC: 0.85293 , AUPRC: 0.63420 , F1: 0.46340 , Cross-entropy Loss: 4.54497\n",
      "Training at Epoch 45 iteration 0 with loss 0.34208. Total time 2.965 hours\n",
      "Training at Epoch 45 iteration 100 with loss 0.32070. Total time 2.98138 hours\n",
      "Training at Epoch 45 iteration 200 with loss 0.31916. Total time 2.99722 hours\n",
      "Training at Epoch 45 iteration 300 with loss 0.27406. Total time 3.01361 hours\n",
      "Validation at Epoch 45, AUROC: 0.85393 , AUPRC: 0.63617 , F1: 0.39122 , Cross-entropy Loss: 4.60354\n",
      "Training at Epoch 46 iteration 0 with loss 0.29558. Total time 3.03277 hours\n",
      "Training at Epoch 46 iteration 100 with loss 0.20699. Total time 3.04861 hours\n",
      "Training at Epoch 46 iteration 200 with loss 0.24267. Total time 3.06444 hours\n",
      "Training at Epoch 46 iteration 300 with loss 0.33453. Total time 3.08055 hours\n",
      "Validation at Epoch 46, AUROC: 0.85841 , AUPRC: 0.64486 , F1: 0.43627 , Cross-entropy Loss: 4.49127\n",
      "Training at Epoch 47 iteration 0 with loss 0.24144. Total time 3.1 hours\n",
      "Training at Epoch 47 iteration 100 with loss 0.33950. Total time 3.11611 hours\n",
      "Training at Epoch 47 iteration 200 with loss 0.27923. Total time 3.13166 hours\n",
      "Training at Epoch 47 iteration 300 with loss 0.25549. Total time 3.14805 hours\n",
      "Validation at Epoch 47, AUROC: 0.85845 , AUPRC: 0.64638 , F1: 0.38739 , Cross-entropy Loss: 4.55472\n",
      "Training at Epoch 48 iteration 0 with loss 0.25254. Total time 3.16722 hours\n",
      "Training at Epoch 48 iteration 100 with loss 0.35933. Total time 3.18333 hours\n",
      "Training at Epoch 48 iteration 200 with loss 0.32311. Total time 3.2 hours\n",
      "Training at Epoch 48 iteration 300 with loss 0.29010. Total time 3.21555 hours\n",
      "Validation at Epoch 48, AUROC: 0.85691 , AUPRC: 0.64302 , F1: 0.42183 , Cross-entropy Loss: 4.54985\n",
      "Training at Epoch 49 iteration 0 with loss 0.31247. Total time 3.23444 hours\n",
      "Training at Epoch 49 iteration 100 with loss 0.25301. Total time 3.25027 hours\n",
      "Training at Epoch 49 iteration 200 with loss 0.37952. Total time 3.26666 hours\n",
      "Training at Epoch 49 iteration 300 with loss 0.28860. Total time 3.28222 hours\n",
      "Validation at Epoch 49, AUROC: 0.85411 , AUPRC: 0.64039 , F1: 0.45045 , Cross-entropy Loss: 4.46686\n",
      "Training at Epoch 50 iteration 0 with loss 0.28487. Total time 3.30138 hours\n",
      "Training at Epoch 50 iteration 100 with loss 0.39164. Total time 3.31861 hours\n",
      "Training at Epoch 50 iteration 200 with loss 0.30749. Total time 3.33472 hours\n",
      "Training at Epoch 50 iteration 300 with loss 0.39743. Total time 3.35222 hours\n",
      "Validation at Epoch 50, AUROC: 0.85687 , AUPRC: 0.63942 , F1: 0.44377 , Cross-entropy Loss: 4.51568\n",
      "Training at Epoch 51 iteration 0 with loss 0.25432. Total time 3.37166 hours\n",
      "Training at Epoch 51 iteration 100 with loss 0.28964. Total time 3.38805 hours\n",
      "Training at Epoch 51 iteration 200 with loss 0.39472. Total time 3.40416 hours\n",
      "Training at Epoch 51 iteration 300 with loss 0.35190. Total time 3.42027 hours\n",
      "Validation at Epoch 51, AUROC: 0.85643 , AUPRC: 0.64135 , F1: 0.40357 , Cross-entropy Loss: 4.55961\n",
      "Training at Epoch 52 iteration 0 with loss 0.20369. Total time 3.43916 hours\n",
      "Training at Epoch 52 iteration 100 with loss 0.29836. Total time 3.45472 hours\n",
      "Training at Epoch 52 iteration 200 with loss 0.24469. Total time 3.47111 hours\n",
      "Training at Epoch 52 iteration 300 with loss 0.32964. Total time 3.48722 hours\n",
      "Validation at Epoch 52, AUROC: 0.85612 , AUPRC: 0.64147 , F1: 0.41068 , Cross-entropy Loss: 4.52544\n",
      "Training at Epoch 53 iteration 0 with loss 0.27576. Total time 3.50611 hours\n",
      "Training at Epoch 53 iteration 100 with loss 0.38135. Total time 3.52194 hours\n",
      "Training at Epoch 53 iteration 200 with loss 0.28685. Total time 3.53833 hours\n",
      "Training at Epoch 53 iteration 300 with loss 0.22886. Total time 3.55388 hours\n",
      "Validation at Epoch 53, AUROC: 0.85653 , AUPRC: 0.64129 , F1: 0.51926 , Cross-entropy Loss: 4.44734\n",
      "Training at Epoch 54 iteration 0 with loss 0.29278. Total time 3.57416 hours\n",
      "Training at Epoch 54 iteration 100 with loss 0.27038. Total time 3.59055 hours\n",
      "Training at Epoch 54 iteration 200 with loss 0.29920. Total time 3.60805 hours\n",
      "Training at Epoch 54 iteration 300 with loss 0.25335. Total time 3.62444 hours\n",
      "Validation at Epoch 54, AUROC: 0.85729 , AUPRC: 0.64332 , F1: 0.44749 , Cross-entropy Loss: 4.52056\n",
      "Training at Epoch 55 iteration 0 with loss 0.32270. Total time 3.64444 hours\n",
      "Training at Epoch 55 iteration 100 with loss 0.29347. Total time 3.66083 hours\n",
      "Training at Epoch 55 iteration 200 with loss 0.31608. Total time 3.67666 hours\n",
      "Training at Epoch 55 iteration 300 with loss 0.34517. Total time 3.69361 hours\n",
      "Validation at Epoch 55, AUROC: 0.85287 , AUPRC: 0.63716 , F1: 0.39948 , Cross-entropy Loss: 4.57914\n",
      "Training at Epoch 56 iteration 0 with loss 0.28961. Total time 3.7125 hours\n",
      "Training at Epoch 56 iteration 100 with loss 0.38740. Total time 3.72833 hours\n",
      "Training at Epoch 56 iteration 200 with loss 0.25935. Total time 3.74416 hours\n",
      "Training at Epoch 56 iteration 300 with loss 0.32222. Total time 3.76111 hours\n",
      "Validation at Epoch 56, AUROC: 0.85356 , AUPRC: 0.63637 , F1: 0.38601 , Cross-entropy Loss: 4.62795\n",
      "Training at Epoch 57 iteration 0 with loss 0.30656. Total time 3.78055 hours\n",
      "Training at Epoch 57 iteration 100 with loss 0.22836. Total time 3.79694 hours\n",
      "Training at Epoch 57 iteration 200 with loss 0.30559. Total time 3.81277 hours\n",
      "Training at Epoch 57 iteration 300 with loss 0.35478. Total time 3.82888 hours\n",
      "Validation at Epoch 57, AUROC: 0.85607 , AUPRC: 0.64032 , F1: 0.40407 , Cross-entropy Loss: 4.56449\n",
      "Training at Epoch 58 iteration 0 with loss 0.28653. Total time 3.84777 hours\n",
      "Training at Epoch 58 iteration 100 with loss 0.32485. Total time 3.86388 hours\n",
      "Training at Epoch 58 iteration 200 with loss 0.20845. Total time 3.87972 hours\n",
      "Training at Epoch 58 iteration 300 with loss 0.28798. Total time 3.89694 hours\n",
      "Validation at Epoch 58, AUROC: 0.85795 , AUPRC: 0.64301 , F1: 0.40563 , Cross-entropy Loss: 4.53520\n",
      "Training at Epoch 59 iteration 0 with loss 0.25225. Total time 3.91583 hours\n",
      "Training at Epoch 59 iteration 100 with loss 0.24511. Total time 3.93194 hours\n",
      "Training at Epoch 59 iteration 200 with loss 0.36323. Total time 3.94777 hours\n",
      "Training at Epoch 59 iteration 300 with loss 0.22852. Total time 3.96361 hours\n",
      "Validation at Epoch 59, AUROC: 0.85571 , AUPRC: 0.64356 , F1: 0.43669 , Cross-entropy Loss: 4.49615\n",
      "Training at Epoch 60 iteration 0 with loss 0.28206. Total time 3.9825 hours\n",
      "Training at Epoch 60 iteration 100 with loss 0.25070. Total time 3.99805 hours\n",
      "Training at Epoch 60 iteration 200 with loss 0.34283. Total time 4.01416 hours\n",
      "Training at Epoch 60 iteration 300 with loss 0.27097. Total time 4.03055 hours\n",
      "Validation at Epoch 60, AUROC: 0.85512 , AUPRC: 0.62799 , F1: 0.44563 , Cross-entropy Loss: 4.53032\n",
      "Training at Epoch 61 iteration 0 with loss 0.32457. Total time 4.05 hours\n",
      "Training at Epoch 61 iteration 100 with loss 0.29045. Total time 4.06611 hours\n",
      "Training at Epoch 61 iteration 200 with loss 0.27261. Total time 4.08277 hours\n",
      "Training at Epoch 61 iteration 300 with loss 0.38946. Total time 4.09888 hours\n",
      "Validation at Epoch 61, AUROC: 0.85034 , AUPRC: 0.63467 , F1: 0.36821 , Cross-entropy Loss: 4.65724\n",
      "Training at Epoch 62 iteration 0 with loss 0.28987. Total time 4.11833 hours\n",
      "Training at Epoch 62 iteration 100 with loss 0.27698. Total time 4.13444 hours\n",
      "Training at Epoch 62 iteration 200 with loss 0.34597. Total time 4.15055 hours\n",
      "Training at Epoch 62 iteration 300 with loss 0.27793. Total time 4.16666 hours\n",
      "Validation at Epoch 62, AUROC: 0.85316 , AUPRC: 0.63707 , F1: 0.48421 , Cross-entropy Loss: 4.54498\n",
      "Training at Epoch 63 iteration 0 with loss 0.37186. Total time 4.18583 hours\n",
      "Training at Epoch 63 iteration 100 with loss 0.51890. Total time 4.20138 hours\n",
      "Training at Epoch 63 iteration 200 with loss 0.34687. Total time 4.2175 hours\n",
      "Training at Epoch 63 iteration 300 with loss 0.35472. Total time 4.23444 hours\n",
      "Validation at Epoch 63, AUROC: 0.85360 , AUPRC: 0.64183 , F1: 0.43997 , Cross-entropy Loss: 4.48638\n",
      "Training at Epoch 64 iteration 0 with loss 0.39587. Total time 4.25416 hours\n",
      "Training at Epoch 64 iteration 100 with loss 0.85106. Total time 4.27055 hours\n",
      "Training at Epoch 64 iteration 200 with loss 0.25084. Total time 4.28638 hours\n",
      "Training at Epoch 64 iteration 300 with loss 0.32849. Total time 4.30222 hours\n",
      "Validation at Epoch 64, AUROC: 0.85658 , AUPRC: 0.64378 , F1: 0.46530 , Cross-entropy Loss: 4.47663\n",
      "Training at Epoch 65 iteration 0 with loss 0.36636. Total time 4.32194 hours\n",
      "Training at Epoch 65 iteration 100 with loss 0.23971. Total time 4.33805 hours\n",
      "Training at Epoch 65 iteration 200 with loss 0.41365. Total time 4.35472 hours\n",
      "Training at Epoch 65 iteration 300 with loss 0.33329. Total time 4.37111 hours\n",
      "Validation at Epoch 65, AUROC: 0.84954 , AUPRC: 0.63685 , F1: 0.39329 , Cross-entropy Loss: 4.59378\n",
      "Training at Epoch 66 iteration 0 with loss 0.21851. Total time 4.39055 hours\n",
      "Training at Epoch 66 iteration 100 with loss 0.34921. Total time 4.40638 hours\n",
      "Training at Epoch 66 iteration 200 with loss 0.29704. Total time 4.4225 hours\n",
      "Training at Epoch 66 iteration 300 with loss 0.26107. Total time 4.43888 hours\n",
      "Validation at Epoch 66, AUROC: 0.85636 , AUPRC: 0.64304 , F1: 0.45843 , Cross-entropy Loss: 4.45221\n",
      "Training at Epoch 67 iteration 0 with loss 0.25494. Total time 4.45861 hours\n",
      "Training at Epoch 67 iteration 100 with loss 0.43003. Total time 4.47472 hours\n",
      "Training at Epoch 67 iteration 200 with loss 0.29955. Total time 4.49111 hours\n",
      "Training at Epoch 67 iteration 300 with loss 0.26502. Total time 4.50722 hours\n",
      "Validation at Epoch 67, AUROC: 0.85694 , AUPRC: 0.64246 , F1: 0.41813 , Cross-entropy Loss: 4.51079\n",
      "Training at Epoch 68 iteration 0 with loss 0.35864. Total time 4.52611 hours\n",
      "Training at Epoch 68 iteration 100 with loss 0.38684. Total time 4.54166 hours\n",
      "Training at Epoch 68 iteration 200 with loss 0.31681. Total time 4.55777 hours\n",
      "Training at Epoch 68 iteration 300 with loss 0.25694. Total time 4.57388 hours\n",
      "Validation at Epoch 68, AUROC: 0.85576 , AUPRC: 0.64303 , F1: 0.42555 , Cross-entropy Loss: 4.52056\n",
      "Training at Epoch 69 iteration 0 with loss 0.36682. Total time 4.59333 hours\n",
      "Training at Epoch 69 iteration 100 with loss 0.27371. Total time 4.60972 hours\n",
      "Training at Epoch 69 iteration 200 with loss 0.40006. Total time 4.62611 hours\n",
      "Training at Epoch 69 iteration 300 with loss 0.38395. Total time 4.64194 hours\n",
      "Validation at Epoch 69, AUROC: 0.85710 , AUPRC: 0.64735 , F1: 0.45344 , Cross-entropy Loss: 4.41316\n",
      "Training at Epoch 70 iteration 0 with loss 0.35885. Total time 4.66111 hours\n",
      "Training at Epoch 70 iteration 100 with loss 0.31869. Total time 4.67805 hours\n",
      "Training at Epoch 70 iteration 200 with loss 0.24859. Total time 4.69444 hours\n",
      "Training at Epoch 70 iteration 300 with loss 0.29957. Total time 4.71138 hours\n",
      "Validation at Epoch 70, AUROC: 0.85467 , AUPRC: 0.63884 , F1: 0.43825 , Cross-entropy Loss: 4.53032\n",
      "Training at Epoch 71 iteration 0 with loss 0.38125. Total time 4.73055 hours\n",
      "Training at Epoch 71 iteration 100 with loss 0.33435. Total time 4.74638 hours\n",
      "Training at Epoch 71 iteration 200 with loss 0.38429. Total time 4.7625 hours\n",
      "Training at Epoch 71 iteration 300 with loss 0.28139. Total time 4.77805 hours\n",
      "Validation at Epoch 71, AUROC: 0.85654 , AUPRC: 0.64315 , F1: 0.40641 , Cross-entropy Loss: 4.52055\n",
      "Training at Epoch 72 iteration 0 with loss 0.32298. Total time 4.79722 hours\n",
      "Training at Epoch 72 iteration 100 with loss 0.30208. Total time 4.81472 hours\n",
      "Training at Epoch 72 iteration 200 with loss 0.25336. Total time 4.83083 hours\n",
      "Training at Epoch 72 iteration 300 with loss 0.31114. Total time 4.84722 hours\n",
      "Validation at Epoch 72, AUROC: 0.85102 , AUPRC: 0.63801 , F1: 0.41041 , Cross-entropy Loss: 4.53032\n",
      "Training at Epoch 73 iteration 0 with loss 0.26066. Total time 4.86666 hours\n",
      "Training at Epoch 73 iteration 100 with loss 0.20448. Total time 4.88333 hours\n",
      "Training at Epoch 73 iteration 200 with loss 0.28242. Total time 4.9 hours\n",
      "Training at Epoch 73 iteration 300 with loss 0.29110. Total time 4.91666 hours\n",
      "Validation at Epoch 73, AUROC: 0.85629 , AUPRC: 0.65321 , F1: 0.43862 , Cross-entropy Loss: 4.39851\n",
      "Training at Epoch 74 iteration 0 with loss 0.20539. Total time 4.93583 hours\n",
      "Training at Epoch 74 iteration 100 with loss 0.29831. Total time 4.95222 hours\n",
      "Training at Epoch 74 iteration 200 with loss 0.31255. Total time 4.96805 hours\n",
      "Training at Epoch 74 iteration 300 with loss 0.28476. Total time 4.98416 hours\n",
      "Validation at Epoch 74, AUROC: 0.85221 , AUPRC: 0.63456 , F1: 0.37730 , Cross-entropy Loss: 4.60842\n",
      "Training at Epoch 75 iteration 0 with loss 0.32579. Total time 5.00361 hours\n",
      "Training at Epoch 75 iteration 100 with loss 0.34891. Total time 5.02027 hours\n",
      "Training at Epoch 75 iteration 200 with loss 0.28099. Total time 5.03694 hours\n",
      "Training at Epoch 75 iteration 300 with loss 0.33048. Total time 5.05361 hours\n",
      "Validation at Epoch 75, AUROC: 0.85563 , AUPRC: 0.64789 , F1: 0.49193 , Cross-entropy Loss: 4.45710\n",
      "Training at Epoch 76 iteration 0 with loss 0.31693. Total time 5.07277 hours\n",
      "Training at Epoch 76 iteration 100 with loss 0.36196. Total time 5.08861 hours\n",
      "Training at Epoch 76 iteration 200 with loss 0.21577. Total time 5.10472 hours\n",
      "Training at Epoch 76 iteration 300 with loss 0.41244. Total time 5.12055 hours\n",
      "Validation at Epoch 76, AUROC: 0.85651 , AUPRC: 0.64836 , F1: 0.43711 , Cross-entropy Loss: 4.41315\n",
      "Training at Epoch 77 iteration 0 with loss 0.25315. Total time 5.13944 hours\n",
      "Training at Epoch 77 iteration 100 with loss 0.26173. Total time 5.15555 hours\n",
      "Training at Epoch 77 iteration 200 with loss 0.22563. Total time 5.17138 hours\n",
      "Training at Epoch 77 iteration 300 with loss 0.33041. Total time 5.1875 hours\n",
      "Validation at Epoch 77, AUROC: 0.85774 , AUPRC: 0.64785 , F1: 0.43354 , Cross-entropy Loss: 4.45221\n",
      "Training at Epoch 78 iteration 0 with loss 0.30201. Total time 5.20666 hours\n",
      "Training at Epoch 78 iteration 100 with loss 0.31117. Total time 5.22277 hours\n",
      "Training at Epoch 78 iteration 200 with loss 0.33006. Total time 5.23833 hours\n",
      "Training at Epoch 78 iteration 300 with loss 0.34974. Total time 5.25444 hours\n",
      "Validation at Epoch 78, AUROC: 0.84620 , AUPRC: 0.63314 , F1: 0.39482 , Cross-entropy Loss: 4.56449\n",
      "Training at Epoch 79 iteration 0 with loss 0.39473. Total time 5.27361 hours\n",
      "Training at Epoch 79 iteration 100 with loss 0.34439. Total time 5.29 hours\n",
      "Training at Epoch 79 iteration 200 with loss 0.38091. Total time 5.30583 hours\n",
      "Training at Epoch 79 iteration 300 with loss 0.26580. Total time 5.32166 hours\n",
      "Validation at Epoch 79, AUROC: 0.85627 , AUPRC: 0.64909 , F1: 0.4 , Cross-entropy Loss: 4.49614\n",
      "Training at Epoch 80 iteration 0 with loss 0.16419. Total time 5.34111 hours\n",
      "Training at Epoch 80 iteration 100 with loss 0.20879. Total time 5.35777 hours\n",
      "Training at Epoch 80 iteration 200 with loss 0.31685. Total time 5.37444 hours\n",
      "Training at Epoch 80 iteration 300 with loss 0.27459. Total time 5.39055 hours\n",
      "Validation at Epoch 80, AUROC: 0.85327 , AUPRC: 0.64605 , F1: 0.37708 , Cross-entropy Loss: 4.56449\n",
      "Training at Epoch 81 iteration 0 with loss 0.23776. Total time 5.41 hours\n",
      "Training at Epoch 81 iteration 100 with loss 0.27314. Total time 5.42583 hours\n",
      "Training at Epoch 81 iteration 200 with loss 0.21939. Total time 5.44166 hours\n",
      "Training at Epoch 81 iteration 300 with loss 0.31844. Total time 5.45722 hours\n",
      "Validation at Epoch 81, AUROC: 0.85145 , AUPRC: 0.64828 , F1: 0.41576 , Cross-entropy Loss: 4.48638\n",
      "Training at Epoch 82 iteration 0 with loss 0.31426. Total time 5.47694 hours\n",
      "Training at Epoch 82 iteration 100 with loss 0.23335. Total time 5.49277 hours\n",
      "Training at Epoch 82 iteration 200 with loss 0.20397. Total time 5.50861 hours\n",
      "Training at Epoch 82 iteration 300 with loss 0.26652. Total time 5.52527 hours\n",
      "Validation at Epoch 82, AUROC: 0.85326 , AUPRC: 0.64481 , F1: 0.42051 , Cross-entropy Loss: 4.46685\n",
      "Training at Epoch 83 iteration 0 with loss 0.35554. Total time 5.54472 hours\n",
      "Training at Epoch 83 iteration 100 with loss 0.29850. Total time 5.56055 hours\n",
      "Training at Epoch 83 iteration 200 with loss 0.32767. Total time 5.57638 hours\n",
      "Training at Epoch 83 iteration 300 with loss 0.23772. Total time 5.5925 hours\n",
      "Validation at Epoch 83, AUROC: 0.85183 , AUPRC: 0.64492 , F1: 0.52424 , Cross-entropy Loss: 4.35947\n",
      "Training at Epoch 84 iteration 0 with loss 0.28972. Total time 5.61194 hours\n",
      "Training at Epoch 84 iteration 100 with loss 0.32379. Total time 5.62861 hours\n",
      "Training at Epoch 84 iteration 200 with loss 0.28916. Total time 5.64416 hours\n",
      "Training at Epoch 84 iteration 300 with loss 0.28547. Total time 5.66027 hours\n",
      "Validation at Epoch 84, AUROC: 0.85226 , AUPRC: 0.64858 , F1: 0.39528 , Cross-entropy Loss: 4.51079\n",
      "Training at Epoch 85 iteration 0 with loss 0.28060. Total time 5.67944 hours\n",
      "Training at Epoch 85 iteration 100 with loss 0.32831. Total time 5.69555 hours\n",
      "Training at Epoch 85 iteration 200 with loss 0.33936. Total time 5.71166 hours\n",
      "Training at Epoch 85 iteration 300 with loss 0.33229. Total time 5.7275 hours\n",
      "Validation at Epoch 85, AUROC: 0.85368 , AUPRC: 0.64561 , F1: 0.40208 , Cross-entropy Loss: 4.48638\n",
      "Training at Epoch 86 iteration 0 with loss 0.35637. Total time 5.74666 hours\n",
      "Training at Epoch 86 iteration 100 with loss 0.25847. Total time 5.76277 hours\n",
      "Training at Epoch 86 iteration 200 with loss 0.21626. Total time 5.77972 hours\n",
      "Training at Epoch 86 iteration 300 with loss 0.26153. Total time 5.79583 hours\n",
      "Validation at Epoch 86, AUROC: 0.85222 , AUPRC: 0.64527 , F1: 0.50250 , Cross-entropy Loss: 4.36923\n",
      "Training at Epoch 87 iteration 0 with loss 0.38656. Total time 5.81638 hours\n",
      "Training at Epoch 87 iteration 100 with loss 0.33246. Total time 5.83333 hours\n",
      "Training at Epoch 87 iteration 200 with loss 0.29226. Total time 5.84916 hours\n",
      "Training at Epoch 87 iteration 300 with loss 0.28902. Total time 5.865 hours\n",
      "Validation at Epoch 87, AUROC: 0.85884 , AUPRC: 0.65180 , F1: 0.41720 , Cross-entropy Loss: 4.43268\n",
      "Training at Epoch 88 iteration 0 with loss 0.28446. Total time 5.88444 hours\n",
      "Training at Epoch 88 iteration 100 with loss 0.19848. Total time 5.9 hours\n",
      "Training at Epoch 88 iteration 200 with loss 0.27252. Total time 5.91694 hours\n",
      "Training at Epoch 88 iteration 300 with loss 0.26887. Total time 5.93388 hours\n",
      "Validation at Epoch 88, AUROC: 0.85108 , AUPRC: 0.64798 , F1: 0.42158 , Cross-entropy Loss: 4.44733\n",
      "Training at Epoch 89 iteration 0 with loss 0.24793. Total time 5.95361 hours\n",
      "Training at Epoch 89 iteration 100 with loss 0.22326. Total time 5.96916 hours\n",
      "Training at Epoch 89 iteration 200 with loss 0.24481. Total time 5.985 hours\n",
      "Training at Epoch 89 iteration 300 with loss 0.28520. Total time 6.00138 hours\n",
      "Validation at Epoch 89, AUROC: 0.85384 , AUPRC: 0.64612 , F1: 0.43962 , Cross-entropy Loss: 4.41804\n",
      "Training at Epoch 90 iteration 0 with loss 0.34801. Total time 6.02055 hours\n",
      "Training at Epoch 90 iteration 100 with loss 0.30030. Total time 6.03777 hours\n",
      "Training at Epoch 90 iteration 200 with loss 0.27267. Total time 6.05388 hours\n",
      "Training at Epoch 90 iteration 300 with loss 0.17116. Total time 6.07027 hours\n",
      "Validation at Epoch 90, AUROC: 0.85487 , AUPRC: 0.64799 , F1: 0.43266 , Cross-entropy Loss: 4.44245\n",
      "Training at Epoch 91 iteration 0 with loss 0.19589. Total time 6.08972 hours\n",
      "Training at Epoch 91 iteration 100 with loss 0.22272. Total time 6.10555 hours\n",
      "Training at Epoch 91 iteration 200 with loss 0.24746. Total time 6.12222 hours\n",
      "Training at Epoch 91 iteration 300 with loss 0.26992. Total time 6.1375 hours\n",
      "Validation at Epoch 91, AUROC: 0.85581 , AUPRC: 0.64782 , F1: 0.44197 , Cross-entropy Loss: 4.41316\n",
      "Training at Epoch 92 iteration 0 with loss 0.26878. Total time 6.1575 hours\n",
      "Training at Epoch 92 iteration 100 with loss 0.31964. Total time 6.17416 hours\n",
      "Training at Epoch 92 iteration 200 with loss 0.22922. Total time 6.19027 hours\n",
      "Training at Epoch 92 iteration 300 with loss 0.33041. Total time 6.20638 hours\n",
      "Validation at Epoch 92, AUROC: 0.85535 , AUPRC: 0.64773 , F1: 0.44320 , Cross-entropy Loss: 4.40339\n",
      "Training at Epoch 93 iteration 0 with loss 0.20924. Total time 6.22611 hours\n",
      "Training at Epoch 93 iteration 100 with loss 0.24593. Total time 6.24222 hours\n",
      "Training at Epoch 93 iteration 200 with loss 0.26342. Total time 6.25833 hours\n",
      "Training at Epoch 93 iteration 300 with loss 0.41952. Total time 6.27388 hours\n",
      "Validation at Epoch 93, AUROC: 0.85502 , AUPRC: 0.64752 , F1: 0.50466 , Cross-entropy Loss: 4.40829\n",
      "Training at Epoch 94 iteration 0 with loss 0.24500. Total time 6.29333 hours\n",
      "Training at Epoch 94 iteration 100 with loss 0.32908. Total time 6.30916 hours\n",
      "Training at Epoch 94 iteration 200 with loss 0.24114. Total time 6.32527 hours\n",
      "Training at Epoch 94 iteration 300 with loss 0.28446. Total time 6.34111 hours\n",
      "Validation at Epoch 94, AUROC: 0.85533 , AUPRC: 0.64845 , F1: 0.52391 , Cross-entropy Loss: 4.37412\n",
      "Training at Epoch 95 iteration 0 with loss 0.32426. Total time 6.36166 hours\n",
      "Training at Epoch 95 iteration 100 with loss 0.35143. Total time 6.37861 hours\n",
      "Training at Epoch 95 iteration 200 with loss 0.23901. Total time 6.39527 hours\n",
      "Training at Epoch 95 iteration 300 with loss 0.27397. Total time 6.41111 hours\n",
      "Validation at Epoch 95, AUROC: 0.85340 , AUPRC: 0.64704 , F1: 0.42424 , Cross-entropy Loss: 4.45221\n",
      "Training at Epoch 96 iteration 0 with loss 0.19354. Total time 6.43138 hours\n",
      "Training at Epoch 96 iteration 100 with loss 0.34187. Total time 6.44805 hours\n",
      "Training at Epoch 96 iteration 200 with loss 0.13583. Total time 6.46444 hours\n",
      "Training at Epoch 96 iteration 300 with loss 0.22614. Total time 6.48027 hours\n",
      "Validation at Epoch 96, AUROC: 0.85163 , AUPRC: 0.64899 , F1: 0.40719 , Cross-entropy Loss: 4.50591\n",
      "Training at Epoch 97 iteration 0 with loss 0.27530. Total time 6.49972 hours\n",
      "Training at Epoch 97 iteration 100 with loss 0.23692. Total time 6.51638 hours\n",
      "Training at Epoch 97 iteration 200 with loss 0.20665. Total time 6.53305 hours\n",
      "Training at Epoch 97 iteration 300 with loss 0.30555. Total time 6.54861 hours\n",
      "Validation at Epoch 97, AUROC: 0.85245 , AUPRC: 0.64550 , F1: 0.40641 , Cross-entropy Loss: 4.52055\n",
      "Training at Epoch 98 iteration 0 with loss 0.27220. Total time 6.56805 hours\n",
      "Training at Epoch 98 iteration 100 with loss 0.26414. Total time 6.58444 hours\n",
      "Training at Epoch 98 iteration 200 with loss 0.30507. Total time 6.60083 hours\n",
      "Training at Epoch 98 iteration 300 with loss 0.28973. Total time 6.61722 hours\n",
      "Validation at Epoch 98, AUROC: 0.85423 , AUPRC: 0.64801 , F1: 0.41951 , Cross-entropy Loss: 4.47174\n",
      "Training at Epoch 99 iteration 0 with loss 0.31635. Total time 6.63694 hours\n",
      "Training at Epoch 99 iteration 100 with loss 0.40585. Total time 6.65277 hours\n",
      "Training at Epoch 99 iteration 200 with loss 0.29667. Total time 6.66916 hours\n",
      "Training at Epoch 99 iteration 300 with loss 0.20619. Total time 6.68527 hours\n",
      "Validation at Epoch 99, AUROC: 0.85133 , AUPRC: 0.65096 , F1: 0.45800 , Cross-entropy Loss: 4.37898\n",
      "Training at Epoch 100 iteration 0 with loss 0.33336. Total time 6.70527 hours\n",
      "Training at Epoch 100 iteration 100 with loss 0.28225. Total time 6.72111 hours\n",
      "Training at Epoch 100 iteration 200 with loss 0.22409. Total time 6.73694 hours\n",
      "Training at Epoch 100 iteration 300 with loss 0.30502. Total time 6.7525 hours\n",
      "Validation at Epoch 100, AUROC: 0.85334 , AUPRC: 0.64756 , F1: 0.43169 , Cross-entropy Loss: 4.44733\n",
      "--- Go for Testing ---\n",
      "Validation at Epoch 100 , AUROC: 0.84982 , AUPRC: 0.62191 , F1: 0.39136 , Cross-entropy Loss: 4.26670\n",
      "--- Training Finished ---\n"
     ]
    },
    {
     "data": {
      "image/png": "[encoded data removed]",
      "text/plain": [
       "<Figure size 432x288 with 1 Axes>"
      ]
     },
     "metadata": {
      "needs_background": "light"
     },
     "output_type": "display_data"
    },
    {
     "data": {
      "image/png": "[encoded data removed]",
      "text/plain": [
       "<Figure size 432x288 with 1 Axes>"
      ]
     },
     "metadata": {
      "needs_background": "light"
     },
     "output_type": "display_data"
    },
    {
     "data": {
      "image/png": "[encoded data removed]",
      "text/plain": [
       "<Figure size 432x288 with 1 Axes>"
      ]
     },
     "metadata": {
      "needs_background": "light"
     },
     "output_type": "display_data"
    }
   ],
   "source": [
    "model = models.model_initialize(**config)\n",
    "model.train(train, val, test)"
   ]
  },
  {
   "cell_type": "code",
   "execution_count": 10,
   "metadata": {
    "hidden": true
   },
   "outputs": [],
   "source": [
    "model.save_model('/home/sars-busters-consolidated/deep_purpose/save_folder/pretrained_model/transformer_CNN_fold5')"
   ]
  },
  {
   "cell_type": "code",
   "execution_count": 11,
   "metadata": {
    "hidden": true
   },
   "outputs": [
    {
     "name": "stdout",
     "output_type": "stream",
     "text": [
      "predicting...\n"
     ]
    }
   ],
   "source": [
    "test_preidcted = model.predict(test)\n",
    "test['Y_predicted'] = test_preidcted"
   ]
  },
  {
   "cell_type": "code",
   "execution_count": 12,
   "metadata": {
    "hidden": true
   },
   "outputs": [],
   "source": [
    "train.to_csv('../data/Transformer_CNN_train_fold5.csv')\n",
    "val.to_csv('../data/Transformer_CNN_val_fold5.csv')\n",
    "test.to_csv('../data/Transformer_CNN_test_fold5.csv')"
   ]
  },
  {
   "cell_type": "markdown",
   "metadata": {},
   "source": [
    "# Preparing Degree Lists for Original DeepPurpose Data"
   ]
  },
  {
   "cell_type": "code",
   "execution_count": 2,
   "metadata": {},
   "outputs": [],
   "source": [
    "train = pd.read_csv('../data/Transformer_CNN_train_fold5.csv')\n",
    "val = pd.read_csv('../data/Transformer_CNN_val_fold5.csv')\n",
    "test = pd.read_csv('../data/Transformer_CNN_test_fold5.csv')"
   ]
  },
  {
   "cell_type": "code",
   "execution_count": 3,
   "metadata": {},
   "outputs": [
    {
     "name": "stdout",
     "output_type": "stream",
     "text": [
      "Ligands:  10410\n",
      "Targets:  1404\n"
     ]
    }
   ],
   "source": [
    "ligands = list(set(train['SMILES'].tolist()))\n",
    "targets = list(set(train['Target Sequence'].tolist()))\n",
    "\n",
    "number_ligands = len(ligands)\n",
    "number_targets = len(targets)\n",
    "print('Ligands: ', number_ligands)\n",
    "print('Targets: ',number_targets)"
   ]
  },
  {
   "cell_type": "code",
   "execution_count": 4,
   "metadata": {},
   "outputs": [
    {
     "name": "stderr",
     "output_type": "stream",
     "text": [
      "100%|██████████| 10410/10410 [01:12<00:00, 143.92it/s]\n",
      "100%|██████████| 1404/1404 [00:09<00:00, 145.12it/s]\n",
      "100%|██████████| 10410/10410 [00:00<00:00, 1053814.70it/s]\n",
      "100%|██████████| 10410/10410 [00:00<00:00, 1135157.67it/s]\n",
      "100%|██████████| 1404/1404 [00:00<00:00, 1082898.64it/s]\n",
      "100%|██████████| 1404/1404 [00:00<00:00, 1188456.67it/s]\n"
     ]
    }
   ],
   "source": [
    "ligands_degree_dict = dict()\n",
    "\n",
    "for smile_chem in tqdm(ligands):\n",
    "    sum_df = train[train['SMILES'] == smile_chem]\n",
    "    ligands_degree_dict[smile_chem] = dict()\n",
    "    ligands_degree_dict[smile_chem]['deg_0'] = len(sum_df[sum_df['Label'] == 0])\n",
    "    ligands_degree_dict[smile_chem]['deg_1'] = len(sum_df[sum_df['Label'] == 1])\n",
    "    \n",
    "targets_degree_dict = dict()\n",
    "\n",
    "for aa_target in tqdm(targets):\n",
    "    sum_df = train[train['Target Sequence'] == aa_target]\n",
    "    targets_degree_dict[aa_target] = dict()\n",
    "    targets_degree_dict[aa_target]['deg_0'] = len(sum_df[sum_df['Label'] == 0])\n",
    "    targets_degree_dict[aa_target]['deg_1'] = len(sum_df[sum_df['Label'] == 1])\n",
    "    \n",
    "degree_train_1_0_ligands = [ligands_degree_dict[key_val]['deg_1'] for key_val in tqdm(ligands_degree_dict.keys())]\n",
    "degree_train_0_1_ligands = [ligands_degree_dict[key_val]['deg_0'] for key_val in tqdm(ligands_degree_dict.keys())]\n",
    "\n",
    "degree_train_1_0_targets = [targets_degree_dict[key_val]['deg_1'] for key_val in tqdm(targets_degree_dict.keys())]\n",
    "degree_train_0_1_targets = [targets_degree_dict[key_val]['deg_0'] for key_val in tqdm(targets_degree_dict.keys())]"
   ]
  },
  {
   "cell_type": "code",
   "execution_count": 5,
   "metadata": {},
   "outputs": [],
   "source": [
    "with open('../data/fold5/degreetrain10ligands.txt', 'w') as file:\n",
    "    for degree in degree_train_1_0_ligands:\n",
    "        file.write(\"%i\\n\" % degree)\n",
    "        \n",
    "file.close()\n",
    "\n",
    "with open('../data/fold5/degreetrain01ligands.txt', 'w') as file:\n",
    "    for degree in degree_train_0_1_ligands:\n",
    "        file.write(\"%i\\n\" % degree)\n",
    "        \n",
    "file.close()\n",
    "\n",
    "with open('../data/fold5/degreetrain10targets.txt', 'w') as file:\n",
    "    for degree in degree_train_1_0_targets:\n",
    "        file.write(\"%i\\n\" % degree)\n",
    "        \n",
    "file.close()\n",
    "\n",
    "with open('../data/fold5/degreetrain01targets.txt', 'w') as file:\n",
    "    for degree in degree_train_0_1_targets:\n",
    "        file.write(\"%i\\n\" % degree)\n",
    "        \n",
    "file.close()\n",
    "\n",
    "textfile = open(\"../data/fold5/ligands.txt\", \"w\")\n",
    "for element in ligands:\n",
    "    textfile.write(element + \"\\n\")\n",
    "textfile.close()\n",
    "\n",
    "textfile = open(\"../data/fold5/targets.txt\", \"w\")\n",
    "for element in targets:\n",
    "    textfile.write(element + \"\\n\")\n",
    "textfile.close()"
   ]
  },
  {
   "cell_type": "markdown",
   "metadata": {
    "heading_collapsed": true
   },
   "source": [
    "# Randomly assigning SMILEs and Sequences"
   ]
  },
  {
   "cell_type": "code",
   "execution_count": 26,
   "metadata": {
    "hidden": true
   },
   "outputs": [],
   "source": [
    "def swapper(intake_list):\n",
    "    \n",
    "    swap_dict = {}\n",
    "    bag = set(intake_list)\n",
    "    buffer = set()\n",
    "    \n",
    "    for item in set(intake_list):\n",
    "        \n",
    "        if len(bag) > 0:\n",
    "            #selected = bag.pop()\n",
    "            selected = random.choice(list(bag))\n",
    "            bag.remove(selected)\n",
    "        else:\n",
    "            selected = random.choice(list(buffer))\n",
    "            buffer.remove(selected)\n",
    "        \n",
    "        if item != selected:\n",
    "            swap_dict.update({item:selected})\n",
    "        else:\n",
    "            print(f'Same item selected item {item} selected {selected}')\n",
    "            buffer.add(selected)\n",
    "    \n",
    "    assert len(bag) == 0, bag\n",
    "    \n",
    "    return swap_dict\n",
    "            "
   ]
  },
  {
   "cell_type": "code",
   "execution_count": 27,
   "metadata": {
    "hidden": true
   },
   "outputs": [],
   "source": [
    "fake_X_drug_mapping = swapper(list(X_drug))"
   ]
  },
  {
   "cell_type": "code",
   "execution_count": 36,
   "metadata": {
    "hidden": true
   },
   "outputs": [],
   "source": [
    "fake_X_target_mapping = swapper(list(X_target))"
   ]
  },
  {
   "cell_type": "code",
   "execution_count": 37,
   "metadata": {
    "hidden": true
   },
   "outputs": [],
   "source": [
    "correct_dataset = pd.DataFrame({'X_drug': X_drug, 'X_target': X_target, 'y': y})"
   ]
  },
  {
   "cell_type": "code",
   "execution_count": 38,
   "metadata": {
    "hidden": true
   },
   "outputs": [],
   "source": [
    "correct_dataset['fake_X_drug'] = correct_dataset['X_drug'].map(fake_X_drug_mapping)\n",
    "correct_dataset['fake_X_target'] = correct_dataset['X_target'].map(fake_X_target_mapping)"
   ]
  },
  {
   "cell_type": "code",
   "execution_count": 39,
   "metadata": {
    "hidden": true
   },
   "outputs": [
    {
     "name": "stdout",
     "output_type": "stream",
     "text": [
      "Empty DataFrame\n",
      "Columns: [X_drug, X_target, y, fake_X_drug, fake_X_target]\n",
      "Index: []\n",
      "Empty DataFrame\n",
      "Columns: [X_drug, X_target, y, fake_X_drug, fake_X_target]\n",
      "Index: []\n",
      "Empty DataFrame\n",
      "Columns: [X_drug, X_target, y, fake_X_drug, fake_X_target]\n",
      "Index: []\n",
      "Empty DataFrame\n",
      "Columns: [X_drug, X_target, y, fake_X_drug, fake_X_target]\n",
      "Index: []\n",
      "Empty DataFrame\n",
      "Columns: [X_drug, X_target, y, fake_X_drug, fake_X_target]\n",
      "Index: []\n"
     ]
    }
   ],
   "source": [
    "for column in correct_dataset.columns:\n",
    "    print(correct_dataset[correct_dataset[column].isna()])"
   ]
  },
  {
   "cell_type": "code",
   "execution_count": 40,
   "metadata": {
    "hidden": true
   },
   "outputs": [],
   "source": [
    "correct_dataset = correct_dataset[~correct_dataset['fake_X_drug'].isna()]"
   ]
  },
  {
   "cell_type": "code",
   "execution_count": 41,
   "metadata": {
    "hidden": true
   },
   "outputs": [
    {
     "name": "stdout",
     "output_type": "stream",
     "text": [
      "Drug Target Interaction Prediction Mode...\n",
      "in total: 70750 drug-target pairs\n",
      "encoding drug...\n",
      "unique drugs: 13392\n",
      "encoding protein...\n",
      "unique target sequence: 1507\n",
      "splitting dataset...\n",
      "Done.\n"
     ]
    }
   ],
   "source": [
    "drug_encoding = 'Transformer'\n",
    "target_encoding = 'CNN'\n",
    "train_shuffled, val_shuffled, test_shuffled = data_process(list(correct_dataset['fake_X_drug']), \n",
    "                                list(correct_dataset['fake_X_target']), \n",
    "                                y, \n",
    "                                drug_encoding, target_encoding, \n",
    "                                split_method='random',frac=[0.7,0.1,0.2])\n",
    "\n",
    "config = generate_config(drug_encoding = drug_encoding, \n",
    "                         target_encoding = target_encoding, \n",
    "                         cls_hidden_dims = [1024,1024,512], \n",
    "                         train_epoch = 100, \n",
    "                         LR = 0.001, \n",
    "                         batch_size = 128,\n",
    "                         cnn_target_filters = [32,64,96],\n",
    "                         cnn_target_kernels = [4,8,12]\n",
    "                        )"
   ]
  },
  {
   "cell_type": "code",
   "execution_count": 42,
   "metadata": {
    "hidden": true,
    "scrolled": true
   },
   "outputs": [
    {
     "name": "stdout",
     "output_type": "stream",
     "text": [
      "Let's use 4 GPUs!\n",
      "--- Data Preparation ---\n",
      "--- Go for Training ---\n",
      "Training at Epoch 1 iteration 0 with loss 0.69468. Total time 0.00611 hours\n",
      "Training at Epoch 1 iteration 100 with loss 0.38348. Total time 0.02527 hours\n",
      "Training at Epoch 1 iteration 200 with loss 0.35854. Total time 0.04472 hours\n",
      "Training at Epoch 1 iteration 300 with loss 0.42957. Total time 0.06361 hours\n",
      "Validation at Epoch 1, AUROC: 0.81083 , AUPRC: 0.51491 , F1: 0.38037 , Cross-entropy Loss: 4.99410\n",
      "Training at Epoch 2 iteration 0 with loss 0.33293. Total time 0.08722 hours\n",
      "Training at Epoch 2 iteration 100 with loss 0.30806. Total time 0.10611 hours\n",
      "Training at Epoch 2 iteration 200 with loss 0.34547. Total time 0.12583 hours\n",
      "Training at Epoch 2 iteration 300 with loss 0.34002. Total time 0.14472 hours\n",
      "Validation at Epoch 2, AUROC: 0.81402 , AUPRC: 0.54364 , F1: 0.23394 , Cross-entropy Loss: 4.89156\n",
      "Training at Epoch 3 iteration 0 with loss 0.43026. Total time 0.16861 hours\n",
      "Training at Epoch 3 iteration 100 with loss 0.26014. Total time 0.18722 hours\n",
      "Training at Epoch 3 iteration 200 with loss 0.35441. Total time 0.20666 hours\n",
      "Training at Epoch 3 iteration 300 with loss 0.30954. Total time 0.22583 hours\n",
      "Validation at Epoch 3, AUROC: 0.82420 , AUPRC: 0.57325 , F1: 0.34074 , Cross-entropy Loss: 4.77929\n",
      "Training at Epoch 4 iteration 0 with loss 0.22108. Total time 0.24972 hours\n",
      "Training at Epoch 4 iteration 100 with loss 0.35932. Total time 0.26861 hours\n",
      "Training at Epoch 4 iteration 200 with loss 0.36772. Total time 0.28833 hours\n",
      "Training at Epoch 4 iteration 300 with loss 0.31443. Total time 0.30722 hours\n",
      "Validation at Epoch 4, AUROC: 0.82313 , AUPRC: 0.57380 , F1: 0.46345 , Cross-entropy Loss: 4.62309\n",
      "Training at Epoch 5 iteration 0 with loss 0.31392. Total time 0.33055 hours\n",
      "Training at Epoch 5 iteration 100 with loss 0.31324. Total time 0.34916 hours\n",
      "Training at Epoch 5 iteration 200 with loss 0.35510. Total time 0.36861 hours\n",
      "Training at Epoch 5 iteration 300 with loss 0.36814. Total time 0.38777 hours\n",
      "Validation at Epoch 5, AUROC: 0.82758 , AUPRC: 0.57441 , F1: 0.42563 , Cross-entropy Loss: 4.63773\n",
      "Training at Epoch 6 iteration 0 with loss 0.41794. Total time 0.41083 hours\n",
      "Training at Epoch 6 iteration 100 with loss 0.24975. Total time 0.42972 hours\n",
      "Training at Epoch 6 iteration 200 with loss 0.38584. Total time 0.44944 hours\n",
      "Training at Epoch 6 iteration 300 with loss 0.35395. Total time 0.46861 hours\n",
      "Validation at Epoch 6, AUROC: 0.82938 , AUPRC: 0.58356 , F1: 0.28382 , Cross-entropy Loss: 4.75488\n",
      "Training at Epoch 7 iteration 0 with loss 0.37780. Total time 0.4925 hours\n",
      "Training at Epoch 7 iteration 100 with loss 0.32223. Total time 0.51111 hours\n",
      "Training at Epoch 7 iteration 200 with loss 0.31032. Total time 0.53111 hours\n",
      "Training at Epoch 7 iteration 300 with loss 0.26579. Total time 0.55055 hours\n",
      "Validation at Epoch 7, AUROC: 0.83416 , AUPRC: 0.59907 , F1: 0.41490 , Cross-entropy Loss: 4.59867\n",
      "Training at Epoch 8 iteration 0 with loss 0.35818. Total time 0.57416 hours\n",
      "Training at Epoch 8 iteration 100 with loss 0.32743. Total time 0.59333 hours\n",
      "Training at Epoch 8 iteration 200 with loss 0.26930. Total time 0.61305 hours\n",
      "Training at Epoch 8 iteration 300 with loss 0.33751. Total time 0.63222 hours\n",
      "Validation at Epoch 8, AUROC: 0.83099 , AUPRC: 0.59805 , F1: 0.48816 , Cross-entropy Loss: 4.43270\n",
      "Training at Epoch 9 iteration 0 with loss 0.28663. Total time 0.65611 hours\n",
      "Training at Epoch 9 iteration 100 with loss 0.26211. Total time 0.67416 hours\n",
      "Training at Epoch 9 iteration 200 with loss 0.26690. Total time 0.69333 hours\n",
      "Training at Epoch 9 iteration 300 with loss 0.26451. Total time 0.71222 hours\n",
      "Validation at Epoch 9, AUROC: 0.83391 , AUPRC: 0.60163 , F1: 0.51980 , Cross-entropy Loss: 4.43758\n",
      "Training at Epoch 10 iteration 0 with loss 0.30190. Total time 0.73611 hours\n",
      "Training at Epoch 10 iteration 100 with loss 0.34873. Total time 0.75444 hours\n",
      "Training at Epoch 10 iteration 200 with loss 0.28130. Total time 0.77416 hours\n",
      "Training at Epoch 10 iteration 300 with loss 0.32631. Total time 0.79333 hours\n",
      "Validation at Epoch 10, AUROC: 0.83486 , AUPRC: 0.60386 , F1: 0.52422 , Cross-entropy Loss: 4.55475\n",
      "Training at Epoch 11 iteration 0 with loss 0.33549. Total time 0.81694 hours\n",
      "Training at Epoch 11 iteration 100 with loss 0.26955. Total time 0.83583 hours\n",
      "Training at Epoch 11 iteration 200 with loss 0.36775. Total time 0.85555 hours\n",
      "Training at Epoch 11 iteration 300 with loss 0.28913. Total time 0.87472 hours\n",
      "Validation at Epoch 11, AUROC: 0.83579 , AUPRC: 0.61218 , F1: 0.40235 , Cross-entropy Loss: 4.46686\n",
      "Training at Epoch 12 iteration 0 with loss 0.25872. Total time 0.89833 hours\n",
      "Training at Epoch 12 iteration 100 with loss 0.27805. Total time 0.91722 hours\n",
      "Training at Epoch 12 iteration 200 with loss 0.30048. Total time 0.93666 hours\n",
      "Training at Epoch 12 iteration 300 with loss 0.22424. Total time 0.95611 hours\n",
      "Validation at Epoch 12, AUROC: 0.83564 , AUPRC: 0.61270 , F1: 0.54328 , Cross-entropy Loss: 4.48153\n",
      "Training at Epoch 13 iteration 0 with loss 0.21190. Total time 0.97972 hours\n",
      "Training at Epoch 13 iteration 100 with loss 0.21881. Total time 0.99833 hours\n",
      "Training at Epoch 13 iteration 200 with loss 0.28533. Total time 1.01805 hours\n",
      "Training at Epoch 13 iteration 300 with loss 0.36125. Total time 1.03722 hours\n",
      "Validation at Epoch 13, AUROC: 0.83816 , AUPRC: 0.61449 , F1: 0.50764 , Cross-entropy Loss: 4.40341\n",
      "Training at Epoch 14 iteration 0 with loss 0.33719. Total time 1.06083 hours\n",
      "Training at Epoch 14 iteration 100 with loss 0.25676. Total time 1.07972 hours\n",
      "Training at Epoch 14 iteration 200 with loss 0.39522. Total time 1.09944 hours\n",
      "Training at Epoch 14 iteration 300 with loss 0.29075. Total time 1.11861 hours\n",
      "Validation at Epoch 14, AUROC: 0.83598 , AUPRC: 0.61325 , F1: 0.41528 , Cross-entropy Loss: 4.48150\n",
      "Training at Epoch 15 iteration 0 with loss 0.32927. Total time 1.1425 hours\n",
      "Training at Epoch 15 iteration 100 with loss 0.29132. Total time 1.16111 hours\n",
      "Training at Epoch 15 iteration 200 with loss 0.29763. Total time 1.18083 hours\n",
      "Training at Epoch 15 iteration 300 with loss 0.17299. Total time 1.2 hours\n",
      "Validation at Epoch 15, AUROC: 0.83435 , AUPRC: 0.61224 , F1: 0.39498 , Cross-entropy Loss: 4.47174\n",
      "Training at Epoch 16 iteration 0 with loss 0.28979. Total time 1.22388 hours\n",
      "Training at Epoch 16 iteration 100 with loss 0.36978. Total time 1.24305 hours\n",
      "Training at Epoch 16 iteration 200 with loss 0.32475. Total time 1.26277 hours\n",
      "Training at Epoch 16 iteration 300 with loss 0.30934. Total time 1.28166 hours\n",
      "Validation at Epoch 16, AUROC: 0.83304 , AUPRC: 0.60786 , F1: 0.49461 , Cross-entropy Loss: 4.34970\n",
      "Training at Epoch 17 iteration 0 with loss 0.33675. Total time 1.30555 hours\n",
      "Training at Epoch 17 iteration 100 with loss 0.29799. Total time 1.32472 hours\n",
      "Training at Epoch 17 iteration 200 with loss 0.23662. Total time 1.34444 hours\n",
      "Training at Epoch 17 iteration 300 with loss 0.26653. Total time 1.36361 hours\n",
      "Validation at Epoch 17, AUROC: 0.83587 , AUPRC: 0.61299 , F1: 0.51472 , Cross-entropy Loss: 4.34483\n",
      "Training at Epoch 18 iteration 0 with loss 0.32294. Total time 1.38777 hours\n",
      "Training at Epoch 18 iteration 100 with loss 0.29158. Total time 1.40666 hours\n",
      "Training at Epoch 18 iteration 200 with loss 0.39031. Total time 1.42611 hours\n",
      "Training at Epoch 18 iteration 300 with loss 0.27913. Total time 1.445 hours\n",
      "Validation at Epoch 18, AUROC: 0.83870 , AUPRC: 0.61805 , F1: 0.51506 , Cross-entropy Loss: 4.32042\n",
      "Training at Epoch 19 iteration 0 with loss 0.22460. Total time 1.46888 hours\n",
      "Training at Epoch 19 iteration 100 with loss 0.34371. Total time 1.4875 hours\n",
      "Training at Epoch 19 iteration 200 with loss 0.22712. Total time 1.50694 hours\n",
      "Training at Epoch 19 iteration 300 with loss 0.26663. Total time 1.52583 hours\n",
      "Validation at Epoch 19, AUROC: 0.83629 , AUPRC: 0.61491 , F1: 0.47828 , Cross-entropy Loss: 4.39852\n",
      "Training at Epoch 20 iteration 0 with loss 0.24667. Total time 1.54916 hours\n",
      "Training at Epoch 20 iteration 100 with loss 0.24058. Total time 1.56861 hours\n",
      "Training at Epoch 20 iteration 200 with loss 0.31782. Total time 1.5875 hours\n",
      "Training at Epoch 20 iteration 300 with loss 0.18294. Total time 1.60666 hours\n",
      "Validation at Epoch 20, AUROC: 0.84020 , AUPRC: 0.61156 , F1: 0.49414 , Cross-entropy Loss: 4.42781\n",
      "Training at Epoch 21 iteration 0 with loss 0.29142. Total time 1.63083 hours\n",
      "Training at Epoch 21 iteration 100 with loss 0.24288. Total time 1.65027 hours\n",
      "Training at Epoch 21 iteration 200 with loss 0.25853. Total time 1.66916 hours\n",
      "Training at Epoch 21 iteration 300 with loss 0.36614. Total time 1.68861 hours\n",
      "Validation at Epoch 21, AUROC: 0.83633 , AUPRC: 0.60344 , F1: 0.49176 , Cross-entropy Loss: 4.52057\n",
      "Training at Epoch 22 iteration 0 with loss 0.34989. Total time 1.71222 hours\n",
      "Training at Epoch 22 iteration 100 with loss 0.25340. Total time 1.73138 hours\n",
      "Training at Epoch 22 iteration 200 with loss 0.24029. Total time 1.75083 hours\n",
      "Training at Epoch 22 iteration 300 with loss 0.36387. Total time 1.77 hours\n",
      "Validation at Epoch 22, AUROC: 0.84187 , AUPRC: 0.61756 , F1: 0.49806 , Cross-entropy Loss: 4.43758\n",
      "Training at Epoch 23 iteration 0 with loss 0.38385. Total time 1.79388 hours\n",
      "Training at Epoch 23 iteration 100 with loss 0.29169. Total time 1.81277 hours\n",
      "Training at Epoch 23 iteration 200 with loss 0.25107. Total time 1.83194 hours\n",
      "Training at Epoch 23 iteration 300 with loss 0.24662. Total time 1.85083 hours\n",
      "Validation at Epoch 23, AUROC: 0.84068 , AUPRC: 0.61711 , F1: 0.48833 , Cross-entropy Loss: 4.38876\n",
      "Training at Epoch 24 iteration 0 with loss 0.27663. Total time 1.87472 hours\n",
      "Training at Epoch 24 iteration 100 with loss 0.26613. Total time 1.89388 hours\n",
      "Training at Epoch 24 iteration 200 with loss 0.30953. Total time 1.91305 hours\n",
      "Training at Epoch 24 iteration 300 with loss 0.26874. Total time 1.93194 hours\n",
      "Validation at Epoch 24, AUROC: 0.83926 , AUPRC: 0.61436 , F1: 0.53716 , Cross-entropy Loss: 4.40830\n",
      "Training at Epoch 25 iteration 0 with loss 0.32098. Total time 1.95555 hours\n",
      "Training at Epoch 25 iteration 100 with loss 0.22767. Total time 1.97527 hours\n",
      "Training at Epoch 25 iteration 200 with loss 0.26761. Total time 1.99444 hours\n",
      "Training at Epoch 25 iteration 300 with loss 0.43172. Total time 2.01361 hours\n",
      "Validation at Epoch 25, AUROC: 0.83987 , AUPRC: 0.61471 , F1: 0.47353 , Cross-entropy Loss: 4.41805\n",
      "Training at Epoch 26 iteration 0 with loss 0.35871. Total time 2.03777 hours\n",
      "Training at Epoch 26 iteration 100 with loss 0.26703. Total time 2.05694 hours\n",
      "Training at Epoch 26 iteration 200 with loss 0.25336. Total time 2.07611 hours\n",
      "Training at Epoch 26 iteration 300 with loss 0.39294. Total time 2.09583 hours\n",
      "Validation at Epoch 26, AUROC: 0.83580 , AUPRC: 0.61468 , F1: 0.48088 , Cross-entropy Loss: 4.37411\n",
      "Training at Epoch 27 iteration 0 with loss 0.38946. Total time 2.11916 hours\n",
      "Training at Epoch 27 iteration 100 with loss 0.28779. Total time 2.13888 hours\n",
      "Training at Epoch 27 iteration 200 with loss 0.37569. Total time 2.15805 hours\n",
      "Training at Epoch 27 iteration 300 with loss 0.32378. Total time 2.17722 hours\n",
      "Validation at Epoch 27, AUROC: 0.83760 , AUPRC: 0.61059 , F1: 0.36487 , Cross-entropy Loss: 4.55473\n",
      "Training at Epoch 28 iteration 0 with loss 0.20406. Total time 2.20111 hours\n",
      "Training at Epoch 28 iteration 100 with loss 0.34372. Total time 2.22027 hours\n",
      "Training at Epoch 28 iteration 200 with loss 0.27137. Total time 2.23972 hours\n",
      "Training at Epoch 28 iteration 300 with loss 0.31566. Total time 2.25916 hours\n",
      "Validation at Epoch 28, AUROC: 0.83949 , AUPRC: 0.60040 , F1: 0.50926 , Cross-entropy Loss: 4.39364\n",
      "Training at Epoch 29 iteration 0 with loss 0.28511. Total time 2.28305 hours\n",
      "Training at Epoch 29 iteration 100 with loss 0.24362. Total time 2.30222 hours\n",
      "Training at Epoch 29 iteration 200 with loss 0.29821. Total time 2.32138 hours\n",
      "Training at Epoch 29 iteration 300 with loss 0.28326. Total time 2.34055 hours\n",
      "Validation at Epoch 29, AUROC: 0.83867 , AUPRC: 0.61422 , F1: 0.42830 , Cross-entropy Loss: 4.41804\n",
      "Training at Epoch 30 iteration 0 with loss 0.26027. Total time 2.36416 hours\n",
      "Training at Epoch 30 iteration 100 with loss 0.35782. Total time 2.38333 hours\n",
      "Training at Epoch 30 iteration 200 with loss 0.23781. Total time 2.40222 hours\n",
      "Training at Epoch 30 iteration 300 with loss 0.33119. Total time 2.42138 hours\n",
      "Validation at Epoch 30, AUROC: 0.83996 , AUPRC: 0.61532 , F1: 0.42312 , Cross-entropy Loss: 4.43268\n",
      "Training at Epoch 31 iteration 0 with loss 0.30151. Total time 2.445 hours\n",
      "Training at Epoch 31 iteration 100 with loss 0.27543. Total time 2.46416 hours\n",
      "Training at Epoch 31 iteration 200 with loss 0.23650. Total time 2.48333 hours\n",
      "Training at Epoch 31 iteration 300 with loss 0.27540. Total time 2.50277 hours\n",
      "Validation at Epoch 31, AUROC: 0.83373 , AUPRC: 0.61035 , F1: 0.43186 , Cross-entropy Loss: 4.45710\n",
      "Training at Epoch 32 iteration 0 with loss 0.30496. Total time 2.52638 hours\n",
      "Training at Epoch 32 iteration 100 with loss 0.29644. Total time 2.54611 hours\n",
      "Training at Epoch 32 iteration 200 with loss 0.33908. Total time 2.56472 hours\n",
      "Training at Epoch 32 iteration 300 with loss 0.29171. Total time 2.58388 hours\n",
      "Validation at Epoch 32, AUROC: 0.83933 , AUPRC: 0.61858 , F1: 0.40551 , Cross-entropy Loss: 4.42292\n",
      "Training at Epoch 33 iteration 0 with loss 0.24932. Total time 2.60777 hours\n",
      "Training at Epoch 33 iteration 100 with loss 0.26459. Total time 2.62722 hours\n",
      "Training at Epoch 33 iteration 200 with loss 0.36322. Total time 2.64611 hours\n",
      "Training at Epoch 33 iteration 300 with loss 0.24888. Total time 2.66555 hours\n",
      "Validation at Epoch 33, AUROC: 0.84046 , AUPRC: 0.62167 , F1: 0.53065 , Cross-entropy Loss: 4.33507\n",
      "Training at Epoch 34 iteration 0 with loss 0.31382. Total time 2.68861 hours\n",
      "Training at Epoch 34 iteration 100 with loss 0.26103. Total time 2.70833 hours\n",
      "Training at Epoch 34 iteration 200 with loss 0.29615. Total time 2.72694 hours\n",
      "Training at Epoch 34 iteration 300 with loss 0.31569. Total time 2.74638 hours\n",
      "Validation at Epoch 34, AUROC: 0.83930 , AUPRC: 0.61992 , F1: 0.33475 , Cross-entropy Loss: 4.57913\n",
      "Training at Epoch 35 iteration 0 with loss 0.26160. Total time 2.76972 hours\n",
      "Training at Epoch 35 iteration 100 with loss 0.41220. Total time 2.78888 hours\n",
      "Training at Epoch 35 iteration 200 with loss 0.31255. Total time 2.8075 hours\n",
      "Training at Epoch 35 iteration 300 with loss 0.29354. Total time 2.82722 hours\n",
      "Validation at Epoch 35, AUROC: 0.84043 , AUPRC: 0.61944 , F1: 0.48819 , Cross-entropy Loss: 4.33994\n",
      "Training at Epoch 36 iteration 0 with loss 0.30283. Total time 2.85055 hours\n",
      "Training at Epoch 36 iteration 100 with loss 0.28732. Total time 2.86972 hours\n",
      "Training at Epoch 36 iteration 200 with loss 0.22865. Total time 2.88861 hours\n",
      "Training at Epoch 36 iteration 300 with loss 0.28052. Total time 2.90777 hours\n",
      "Validation at Epoch 36, AUROC: 0.83972 , AUPRC: 0.61650 , F1: 0.43293 , Cross-entropy Loss: 4.43757\n",
      "Training at Epoch 37 iteration 0 with loss 0.31849. Total time 2.93166 hours\n",
      "Training at Epoch 37 iteration 100 with loss 0.31919. Total time 2.95138 hours\n",
      "Training at Epoch 37 iteration 200 with loss 0.28761. Total time 2.97 hours\n",
      "Training at Epoch 37 iteration 300 with loss 0.40008. Total time 2.98944 hours\n",
      "Validation at Epoch 37, AUROC: 0.84029 , AUPRC: 0.61576 , F1: 0.52642 , Cross-entropy Loss: 4.41806\n",
      "Training at Epoch 38 iteration 0 with loss 0.34726. Total time 3.01333 hours\n",
      "Training at Epoch 38 iteration 100 with loss 0.36378. Total time 3.03333 hours\n",
      "Training at Epoch 38 iteration 200 with loss 0.25243. Total time 3.05194 hours\n",
      "Training at Epoch 38 iteration 300 with loss 0.27501. Total time 3.07138 hours\n",
      "Validation at Epoch 38, AUROC: 0.84171 , AUPRC: 0.62077 , F1: 0.47808 , Cross-entropy Loss: 4.35946\n",
      "Training at Epoch 39 iteration 0 with loss 0.23678. Total time 3.09472 hours\n",
      "Training at Epoch 39 iteration 100 with loss 0.21068. Total time 3.11444 hours\n",
      "Training at Epoch 39 iteration 200 with loss 0.33442. Total time 3.13333 hours\n",
      "Training at Epoch 39 iteration 300 with loss 0.25831. Total time 3.15277 hours\n",
      "Validation at Epoch 39, AUROC: 0.84136 , AUPRC: 0.61891 , F1: 0.43125 , Cross-entropy Loss: 4.44245\n",
      "Training at Epoch 40 iteration 0 with loss 0.31376. Total time 3.17611 hours\n",
      "Training at Epoch 40 iteration 100 with loss 0.23289. Total time 3.19611 hours\n",
      "Training at Epoch 40 iteration 200 with loss 0.20520. Total time 3.21472 hours\n",
      "Training at Epoch 40 iteration 300 with loss 0.24368. Total time 3.23444 hours\n",
      "Validation at Epoch 40, AUROC: 0.83666 , AUPRC: 0.61037 , F1: 0.43206 , Cross-entropy Loss: 4.42780\n",
      "Training at Epoch 41 iteration 0 with loss 0.23535. Total time 3.25805 hours\n",
      "Training at Epoch 41 iteration 100 with loss 0.30022. Total time 3.27777 hours\n",
      "Training at Epoch 41 iteration 200 with loss 0.20828. Total time 3.29638 hours\n",
      "Training at Epoch 41 iteration 300 with loss 0.35301. Total time 3.31583 hours\n",
      "Validation at Epoch 41, AUROC: 0.83836 , AUPRC: 0.61443 , F1: 0.45870 , Cross-entropy Loss: 4.44734\n",
      "Training at Epoch 42 iteration 0 with loss 0.33967. Total time 3.33916 hours\n",
      "Training at Epoch 42 iteration 100 with loss 0.25148. Total time 3.35861 hours\n",
      "Training at Epoch 42 iteration 200 with loss 0.27325. Total time 3.37694 hours\n",
      "Training at Epoch 42 iteration 300 with loss 0.31653. Total time 3.39638 hours\n",
      "Validation at Epoch 42, AUROC: 0.83804 , AUPRC: 0.57931 , F1: 0.52012 , Cross-entropy Loss: 4.42294\n",
      "Training at Epoch 43 iteration 0 with loss 0.27440. Total time 3.42027 hours\n",
      "Training at Epoch 43 iteration 100 with loss 0.29862. Total time 3.44 hours\n",
      "Training at Epoch 43 iteration 200 with loss 0.45929. Total time 3.45916 hours\n",
      "Training at Epoch 43 iteration 300 with loss 0.27452. Total time 3.47833 hours\n",
      "Validation at Epoch 43, AUROC: 0.84166 , AUPRC: 0.61639 , F1: 0.49321 , Cross-entropy Loss: 4.37411\n",
      "Training at Epoch 44 iteration 0 with loss 0.28639. Total time 3.50166 hours\n",
      "Training at Epoch 44 iteration 100 with loss 0.26634. Total time 3.52111 hours\n",
      "Training at Epoch 44 iteration 200 with loss 0.33011. Total time 3.54 hours\n",
      "Training at Epoch 44 iteration 300 with loss 0.25730. Total time 3.55972 hours\n",
      "Validation at Epoch 44, AUROC: 0.84152 , AUPRC: 0.61785 , F1: 0.46622 , Cross-entropy Loss: 4.35946\n",
      "Training at Epoch 45 iteration 0 with loss 0.35007. Total time 3.58305 hours\n",
      "Training at Epoch 45 iteration 100 with loss 0.27380. Total time 3.6025 hours\n",
      "Training at Epoch 45 iteration 200 with loss 0.22658. Total time 3.62138 hours\n",
      "Training at Epoch 45 iteration 300 with loss 0.21407. Total time 3.64083 hours\n",
      "Validation at Epoch 45, AUROC: 0.83593 , AUPRC: 0.60531 , F1: 0.53714 , Cross-entropy Loss: 4.50105\n",
      "Training at Epoch 46 iteration 0 with loss 0.30725. Total time 3.66472 hours\n",
      "Training at Epoch 46 iteration 100 with loss 0.25079. Total time 3.68416 hours\n",
      "Training at Epoch 46 iteration 200 with loss 0.34433. Total time 3.70333 hours\n",
      "Training at Epoch 46 iteration 300 with loss 0.35036. Total time 3.72277 hours\n",
      "Validation at Epoch 46, AUROC: 0.84193 , AUPRC: 0.62084 , F1: 0.43613 , Cross-entropy Loss: 4.41804\n",
      "Training at Epoch 47 iteration 0 with loss 0.20738. Total time 3.74611 hours\n",
      "Training at Epoch 47 iteration 100 with loss 0.26744. Total time 3.76583 hours\n",
      "Training at Epoch 47 iteration 200 with loss 0.25485. Total time 3.78472 hours\n",
      "Training at Epoch 47 iteration 300 with loss 0.24394. Total time 3.80416 hours\n",
      "Validation at Epoch 47, AUROC: 0.84247 , AUPRC: 0.62315 , F1: 0.44334 , Cross-entropy Loss: 4.38875\n",
      "Training at Epoch 48 iteration 0 with loss 0.26240. Total time 3.82777 hours\n",
      "Training at Epoch 48 iteration 100 with loss 0.25813. Total time 3.8475 hours\n",
      "Training at Epoch 48 iteration 200 with loss 0.22432. Total time 3.86611 hours\n",
      "Training at Epoch 48 iteration 300 with loss 0.25442. Total time 3.88638 hours\n",
      "Validation at Epoch 48, AUROC: 0.84125 , AUPRC: 0.62061 , F1: 0.53938 , Cross-entropy Loss: 4.31066\n",
      "Training at Epoch 49 iteration 0 with loss 0.19164. Total time 3.91 hours\n",
      "Training at Epoch 49 iteration 100 with loss 0.25489. Total time 3.92972 hours\n",
      "Training at Epoch 49 iteration 200 with loss 0.30782. Total time 3.94888 hours\n",
      "Training at Epoch 49 iteration 300 with loss 0.24445. Total time 3.96805 hours\n",
      "Validation at Epoch 49, AUROC: 0.84021 , AUPRC: 0.60540 , F1: 0.38356 , Cross-entropy Loss: 4.61331\n",
      "Training at Epoch 50 iteration 0 with loss 0.30011. Total time 3.99138 hours\n",
      "Training at Epoch 50 iteration 100 with loss 0.34861. Total time 4.01083 hours\n",
      "Training at Epoch 50 iteration 200 with loss 0.22029. Total time 4.02944 hours\n",
      "Training at Epoch 50 iteration 300 with loss 0.17351. Total time 4.04916 hours\n",
      "Validation at Epoch 50, AUROC: 0.84042 , AUPRC: 0.62057 , F1: 0.49403 , Cross-entropy Loss: 4.34970\n",
      "Training at Epoch 51 iteration 0 with loss 0.28847. Total time 4.0725 hours\n",
      "Training at Epoch 51 iteration 100 with loss 0.25957. Total time 4.09194 hours\n",
      "Training at Epoch 51 iteration 200 with loss 0.27837. Total time 4.11111 hours\n",
      "Training at Epoch 51 iteration 300 with loss 0.25442. Total time 4.13055 hours\n",
      "Validation at Epoch 51, AUROC: 0.84111 , AUPRC: 0.62135 , F1: 0.51267 , Cross-entropy Loss: 4.31553\n",
      "Training at Epoch 52 iteration 0 with loss 0.26241. Total time 4.15388 hours\n",
      "Training at Epoch 52 iteration 100 with loss 0.32808. Total time 4.17333 hours\n",
      "Training at Epoch 52 iteration 200 with loss 0.26374. Total time 4.19194 hours\n",
      "Training at Epoch 52 iteration 300 with loss 0.32729. Total time 4.21166 hours\n",
      "Validation at Epoch 52, AUROC: 0.84126 , AUPRC: 0.61918 , F1: 0.47246 , Cross-entropy Loss: 4.34970\n",
      "Training at Epoch 53 iteration 0 with loss 0.28930. Total time 4.235 hours\n",
      "Training at Epoch 53 iteration 100 with loss 0.35938. Total time 4.25416 hours\n",
      "Training at Epoch 53 iteration 200 with loss 0.18740. Total time 4.27305 hours\n",
      "Training at Epoch 53 iteration 300 with loss 0.32786. Total time 4.2925 hours\n",
      "Validation at Epoch 53, AUROC: 0.83870 , AUPRC: 0.61476 , F1: 0.41693 , Cross-entropy Loss: 4.43757\n",
      "Training at Epoch 54 iteration 0 with loss 0.24984. Total time 4.31611 hours\n",
      "Training at Epoch 54 iteration 100 with loss 0.19557. Total time 4.33555 hours\n",
      "Training at Epoch 54 iteration 200 with loss 0.22554. Total time 4.355 hours\n",
      "Training at Epoch 54 iteration 300 with loss 0.32197. Total time 4.375 hours\n",
      "Validation at Epoch 54, AUROC: 0.83655 , AUPRC: 0.61376 , F1: 0.45009 , Cross-entropy Loss: 4.43757\n",
      "Training at Epoch 55 iteration 0 with loss 0.36179. Total time 4.39833 hours\n",
      "Training at Epoch 55 iteration 100 with loss 0.29548. Total time 4.41805 hours\n",
      "Training at Epoch 55 iteration 200 with loss 0.29710. Total time 4.43638 hours\n",
      "Training at Epoch 55 iteration 300 with loss 0.30250. Total time 4.45583 hours\n",
      "Validation at Epoch 55, AUROC: 0.83790 , AUPRC: 0.61327 , F1: 0.33848 , Cross-entropy Loss: 4.59866\n",
      "Training at Epoch 56 iteration 0 with loss 0.35935. Total time 4.47916 hours\n",
      "Training at Epoch 56 iteration 100 with loss 0.24690. Total time 4.49888 hours\n",
      "Training at Epoch 56 iteration 200 with loss 0.39782. Total time 4.51777 hours\n",
      "Training at Epoch 56 iteration 300 with loss 0.27127. Total time 4.5375 hours\n",
      "Validation at Epoch 56, AUROC: 0.84046 , AUPRC: 0.62005 , F1: 0.38914 , Cross-entropy Loss: 4.50591\n",
      "Training at Epoch 57 iteration 0 with loss 0.26673. Total time 4.56111 hours\n",
      "Training at Epoch 57 iteration 100 with loss 0.31828. Total time 4.58111 hours\n",
      "Training at Epoch 57 iteration 200 with loss 0.25227. Total time 4.60027 hours\n",
      "Training at Epoch 57 iteration 300 with loss 0.35708. Total time 4.62 hours\n",
      "Validation at Epoch 57, AUROC: 0.84111 , AUPRC: 0.62030 , F1: 0.45885 , Cross-entropy Loss: 4.39852\n",
      "Training at Epoch 58 iteration 0 with loss 0.24526. Total time 4.64388 hours\n",
      "Training at Epoch 58 iteration 100 with loss 0.29832. Total time 4.66333 hours\n",
      "Training at Epoch 58 iteration 200 with loss 0.23434. Total time 4.6825 hours\n",
      "Training at Epoch 58 iteration 300 with loss 0.23181. Total time 4.70222 hours\n",
      "Validation at Epoch 58, AUROC: 0.83387 , AUPRC: 0.61136 , F1: 0.47846 , Cross-entropy Loss: 4.37411\n",
      "Training at Epoch 59 iteration 0 with loss 0.23116. Total time 4.72583 hours\n",
      "Training at Epoch 59 iteration 100 with loss 0.34535. Total time 4.74555 hours\n",
      "Training at Epoch 59 iteration 200 with loss 0.27912. Total time 4.76472 hours\n",
      "Training at Epoch 59 iteration 300 with loss 0.23060. Total time 4.78444 hours\n",
      "Validation at Epoch 59, AUROC: 0.84142 , AUPRC: 0.61745 , F1: 0.50669 , Cross-entropy Loss: 4.31553\n",
      "Training at Epoch 60 iteration 0 with loss 0.31721. Total time 4.8075 hours\n",
      "Training at Epoch 60 iteration 100 with loss 0.32327. Total time 4.82722 hours\n",
      "Training at Epoch 60 iteration 200 with loss 0.26348. Total time 4.84611 hours\n",
      "Training at Epoch 60 iteration 300 with loss 0.33367. Total time 4.86555 hours\n",
      "Validation at Epoch 60, AUROC: 0.83921 , AUPRC: 0.61622 , F1: 0.53151 , Cross-entropy Loss: 4.35459\n",
      "Training at Epoch 61 iteration 0 with loss 0.29744. Total time 4.88916 hours\n",
      "Training at Epoch 61 iteration 100 with loss 0.26960. Total time 4.90861 hours\n",
      "Training at Epoch 61 iteration 200 with loss 0.27861. Total time 4.92805 hours\n",
      "Training at Epoch 61 iteration 300 with loss 0.36600. Total time 4.94694 hours\n",
      "Validation at Epoch 61, AUROC: 0.83864 , AUPRC: 0.61684 , F1: 0.50791 , Cross-entropy Loss: 4.39853\n",
      "Training at Epoch 62 iteration 0 with loss 0.38206. Total time 4.97055 hours\n",
      "Training at Epoch 62 iteration 100 with loss 0.20489. Total time 4.99027 hours\n",
      "Training at Epoch 62 iteration 200 with loss 0.23419. Total time 5.00944 hours\n",
      "Training at Epoch 62 iteration 300 with loss 0.33492. Total time 5.02861 hours\n",
      "Validation at Epoch 62, AUROC: 0.83910 , AUPRC: 0.62021 , F1: 0.52709 , Cross-entropy Loss: 4.38877\n",
      "Training at Epoch 63 iteration 0 with loss 0.34079. Total time 5.0525 hours\n",
      "Training at Epoch 63 iteration 100 with loss 0.32610. Total time 5.07222 hours\n",
      "Training at Epoch 63 iteration 200 with loss 0.37981. Total time 5.09166 hours\n",
      "Training at Epoch 63 iteration 300 with loss 0.29559. Total time 5.11055 hours\n",
      "Validation at Epoch 63, AUROC: 0.83221 , AUPRC: 0.61783 , F1: 0.49486 , Cross-entropy Loss: 4.32529\n",
      "Training at Epoch 64 iteration 0 with loss 0.32505. Total time 5.13388 hours\n",
      "Training at Epoch 64 iteration 100 with loss 0.28644. Total time 5.15361 hours\n",
      "Training at Epoch 64 iteration 200 with loss 0.26946. Total time 5.1725 hours\n",
      "Training at Epoch 64 iteration 300 with loss 0.29741. Total time 5.19194 hours\n",
      "Validation at Epoch 64, AUROC: 0.84033 , AUPRC: 0.61099 , F1: 0.39021 , Cross-entropy Loss: 4.50103\n",
      "Training at Epoch 65 iteration 0 with loss 0.29946. Total time 5.21527 hours\n",
      "Training at Epoch 65 iteration 100 with loss 0.23691. Total time 5.23472 hours\n",
      "Training at Epoch 65 iteration 200 with loss 0.23817. Total time 5.25416 hours\n",
      "Training at Epoch 65 iteration 300 with loss 0.29006. Total time 5.27388 hours\n",
      "Validation at Epoch 65, AUROC: 0.84419 , AUPRC: 0.62559 , F1: 0.44622 , Cross-entropy Loss: 4.37410\n",
      "Training at Epoch 66 iteration 0 with loss 0.20266. Total time 5.2975 hours\n",
      "Training at Epoch 66 iteration 100 with loss 0.33561. Total time 5.31694 hours\n",
      "Training at Epoch 66 iteration 200 with loss 0.38375. Total time 5.33638 hours\n",
      "Training at Epoch 66 iteration 300 with loss 0.27387. Total time 5.35583 hours\n",
      "Validation at Epoch 66, AUROC: 0.84159 , AUPRC: 0.61827 , F1: 0.44779 , Cross-entropy Loss: 4.46686\n",
      "Training at Epoch 67 iteration 0 with loss 0.38354. Total time 5.37888 hours\n",
      "Training at Epoch 67 iteration 100 with loss 0.29664. Total time 5.39833 hours\n",
      "Training at Epoch 67 iteration 200 with loss 0.34773. Total time 5.41777 hours\n",
      "Training at Epoch 67 iteration 300 with loss 0.26023. Total time 5.43694 hours\n",
      "Validation at Epoch 67, AUROC: 0.84450 , AUPRC: 0.62320 , F1: 0.37133 , Cross-entropy Loss: 4.49614\n",
      "Training at Epoch 68 iteration 0 with loss 0.25153. Total time 5.46055 hours\n",
      "Training at Epoch 68 iteration 100 with loss 0.28663. Total time 5.48027 hours\n",
      "Training at Epoch 68 iteration 200 with loss 0.26913. Total time 5.50027 hours\n",
      "Training at Epoch 68 iteration 300 with loss 0.29366. Total time 5.51916 hours\n",
      "Validation at Epoch 68, AUROC: 0.83872 , AUPRC: 0.61465 , F1: 0.50111 , Cross-entropy Loss: 4.36435\n",
      "Training at Epoch 69 iteration 0 with loss 0.28511. Total time 5.54277 hours\n",
      "Training at Epoch 69 iteration 100 with loss 0.29956. Total time 5.56194 hours\n",
      "Training at Epoch 69 iteration 200 with loss 0.34511. Total time 5.58166 hours\n",
      "Training at Epoch 69 iteration 300 with loss 0.32960. Total time 5.60083 hours\n",
      "Validation at Epoch 69, AUROC: 0.83617 , AUPRC: 0.60073 , F1: 0.48574 , Cross-entropy Loss: 4.40340\n",
      "Training at Epoch 70 iteration 0 with loss 0.26131. Total time 5.62444 hours\n",
      "Training at Epoch 70 iteration 100 with loss 0.20558. Total time 5.64361 hours\n",
      "Training at Epoch 70 iteration 200 with loss 0.34275. Total time 5.66305 hours\n",
      "Training at Epoch 70 iteration 300 with loss 0.32471. Total time 5.68194 hours\n",
      "Validation at Epoch 70, AUROC: 0.84138 , AUPRC: 0.61978 , F1: 0.41263 , Cross-entropy Loss: 4.44733\n",
      "Training at Epoch 71 iteration 0 with loss 0.38352. Total time 5.70527 hours\n",
      "Training at Epoch 71 iteration 100 with loss 0.33454. Total time 5.72472 hours\n",
      "Training at Epoch 71 iteration 200 with loss 0.22069. Total time 5.74444 hours\n",
      "Training at Epoch 71 iteration 300 with loss 0.23282. Total time 5.76333 hours\n",
      "Validation at Epoch 71, AUROC: 0.84002 , AUPRC: 0.61576 , F1: 0.5 , Cross-entropy Loss: 4.39364\n",
      "Training at Epoch 72 iteration 0 with loss 0.31712. Total time 5.78666 hours\n",
      "Training at Epoch 72 iteration 100 with loss 0.27533. Total time 5.80638 hours\n",
      "Training at Epoch 72 iteration 200 with loss 0.32615. Total time 5.82583 hours\n",
      "Training at Epoch 72 iteration 300 with loss 0.26973. Total time 5.84444 hours\n",
      "Validation at Epoch 72, AUROC: 0.84020 , AUPRC: 0.61683 , F1: 0.40234 , Cross-entropy Loss: 4.48150\n",
      "Training at Epoch 73 iteration 0 with loss 0.19519. Total time 5.86805 hours\n",
      "Training at Epoch 73 iteration 100 with loss 0.31384. Total time 5.8875 hours\n",
      "Training at Epoch 73 iteration 200 with loss 0.32813. Total time 5.90694 hours\n",
      "Training at Epoch 73 iteration 300 with loss 0.24067. Total time 5.92583 hours\n",
      "Validation at Epoch 73, AUROC: 0.84285 , AUPRC: 0.62204 , F1: 0.43236 , Cross-entropy Loss: 4.38387\n",
      "Training at Epoch 74 iteration 0 with loss 0.34710. Total time 5.94944 hours\n",
      "Training at Epoch 74 iteration 100 with loss 0.27036. Total time 5.96916 hours\n",
      "Training at Epoch 74 iteration 200 with loss 0.29897. Total time 5.98888 hours\n",
      "Training at Epoch 74 iteration 300 with loss 0.25431. Total time 6.00805 hours\n",
      "Validation at Epoch 74, AUROC: 0.84206 , AUPRC: 0.61760 , F1: 0.45611 , Cross-entropy Loss: 4.44734\n",
      "Training at Epoch 75 iteration 0 with loss 0.35116. Total time 6.03138 hours\n",
      "Training at Epoch 75 iteration 100 with loss 0.27400. Total time 6.05083 hours\n",
      "Training at Epoch 75 iteration 200 with loss 0.31123. Total time 6.07055 hours\n",
      "Training at Epoch 75 iteration 300 with loss 0.29001. Total time 6.08972 hours\n",
      "Validation at Epoch 75, AUROC: 0.84356 , AUPRC: 0.61955 , F1: 0.47368 , Cross-entropy Loss: 4.39364\n",
      "Training at Epoch 76 iteration 0 with loss 0.34445. Total time 6.11333 hours\n",
      "Training at Epoch 76 iteration 100 with loss 0.33394. Total time 6.13305 hours\n",
      "Training at Epoch 76 iteration 200 with loss 0.27234. Total time 6.15277 hours\n",
      "Training at Epoch 76 iteration 300 with loss 0.20674. Total time 6.17222 hours\n",
      "Validation at Epoch 76, AUROC: 0.83853 , AUPRC: 0.61332 , F1: 0.47230 , Cross-entropy Loss: 4.41805\n",
      "Training at Epoch 77 iteration 0 with loss 0.27831. Total time 6.19555 hours\n",
      "Training at Epoch 77 iteration 100 with loss 0.30048. Total time 6.215 hours\n",
      "Training at Epoch 77 iteration 200 with loss 0.33511. Total time 6.23472 hours\n",
      "Training at Epoch 77 iteration 300 with loss 0.27806. Total time 6.25333 hours\n",
      "Validation at Epoch 77, AUROC: 0.84001 , AUPRC: 0.61979 , F1: 0.49402 , Cross-entropy Loss: 4.33994\n",
      "Training at Epoch 78 iteration 0 with loss 0.34037. Total time 6.27638 hours\n",
      "Training at Epoch 78 iteration 100 with loss 0.27467. Total time 6.29611 hours\n",
      "Training at Epoch 78 iteration 200 with loss 0.35337. Total time 6.31583 hours\n",
      "Training at Epoch 78 iteration 300 with loss 0.30122. Total time 6.335 hours\n",
      "Validation at Epoch 78, AUROC: 0.83802 , AUPRC: 0.61084 , F1: 0.48491 , Cross-entropy Loss: 4.41805\n",
      "Training at Epoch 79 iteration 0 with loss 0.35549. Total time 6.35861 hours\n",
      "Training at Epoch 79 iteration 100 with loss 0.29598. Total time 6.37805 hours\n",
      "Training at Epoch 79 iteration 200 with loss 0.34901. Total time 6.39805 hours\n",
      "Training at Epoch 79 iteration 300 with loss 0.26819. Total time 6.41666 hours\n",
      "Validation at Epoch 79, AUROC: 0.84029 , AUPRC: 0.62465 , F1: 0.48704 , Cross-entropy Loss: 4.34970\n",
      "Training at Epoch 80 iteration 0 with loss 0.35871. Total time 6.44 hours\n",
      "Training at Epoch 80 iteration 100 with loss 0.28668. Total time 6.45916 hours\n",
      "Training at Epoch 80 iteration 200 with loss 0.34267. Total time 6.47888 hours\n",
      "Training at Epoch 80 iteration 300 with loss 0.23796. Total time 6.49777 hours\n",
      "Validation at Epoch 80, AUROC: 0.84153 , AUPRC: 0.61922 , F1: 0.49058 , Cross-entropy Loss: 4.35947\n",
      "Training at Epoch 81 iteration 0 with loss 0.34251. Total time 6.52138 hours\n",
      "Training at Epoch 81 iteration 100 with loss 0.34681. Total time 6.54083 hours\n",
      "Training at Epoch 81 iteration 200 with loss 0.31716. Total time 6.56027 hours\n",
      "Training at Epoch 81 iteration 300 with loss 0.24068. Total time 6.57944 hours\n",
      "Validation at Epoch 81, AUROC: 0.83735 , AUPRC: 0.61298 , F1: 0.42705 , Cross-entropy Loss: 4.46686\n",
      "Training at Epoch 82 iteration 0 with loss 0.20899. Total time 6.6025 hours\n",
      "Training at Epoch 82 iteration 100 with loss 0.27680. Total time 6.62222 hours\n",
      "Training at Epoch 82 iteration 200 with loss 0.28220. Total time 6.64194 hours\n",
      "Training at Epoch 82 iteration 300 with loss 0.25776. Total time 6.66083 hours\n",
      "Validation at Epoch 82, AUROC: 0.84213 , AUPRC: 0.61514 , F1: 0.43354 , Cross-entropy Loss: 4.45221\n",
      "Training at Epoch 83 iteration 0 with loss 0.21731. Total time 6.68388 hours\n",
      "Training at Epoch 83 iteration 100 with loss 0.42577. Total time 6.70333 hours\n",
      "Training at Epoch 83 iteration 200 with loss 0.31777. Total time 6.72305 hours\n",
      "Training at Epoch 83 iteration 300 with loss 0.39370. Total time 6.74222 hours\n",
      "Validation at Epoch 83, AUROC: 0.83795 , AUPRC: 0.58625 , F1: 0.49336 , Cross-entropy Loss: 4.47175\n",
      "Training at Epoch 84 iteration 0 with loss 0.26514. Total time 6.76555 hours\n",
      "Training at Epoch 84 iteration 100 with loss 0.33775. Total time 6.78527 hours\n",
      "Training at Epoch 84 iteration 200 with loss 0.25349. Total time 6.80472 hours\n",
      "Training at Epoch 84 iteration 300 with loss 0.30811. Total time 6.82361 hours\n",
      "Validation at Epoch 84, AUROC: 0.84084 , AUPRC: 0.62245 , F1: 0.52569 , Cross-entropy Loss: 4.32530\n",
      "Training at Epoch 85 iteration 0 with loss 0.19220. Total time 6.84666 hours\n",
      "Training at Epoch 85 iteration 100 with loss 0.29106. Total time 6.86666 hours\n",
      "Training at Epoch 85 iteration 200 with loss 0.35537. Total time 6.88638 hours\n",
      "Training at Epoch 85 iteration 300 with loss 0.34954. Total time 6.905 hours\n",
      "Validation at Epoch 85, AUROC: 0.84241 , AUPRC: 0.61749 , F1: 0.49606 , Cross-entropy Loss: 4.37411\n",
      "Training at Epoch 86 iteration 0 with loss 0.29590. Total time 6.92833 hours\n",
      "Training at Epoch 86 iteration 100 with loss 0.30911. Total time 6.94777 hours\n",
      "Training at Epoch 86 iteration 200 with loss 0.21371. Total time 6.9675 hours\n",
      "Training at Epoch 86 iteration 300 with loss 0.22589. Total time 6.98638 hours\n",
      "Validation at Epoch 86, AUROC: 0.84114 , AUPRC: 0.62064 , F1: 0.47457 , Cross-entropy Loss: 4.38876\n",
      "Training at Epoch 87 iteration 0 with loss 0.22335. Total time 7.01 hours\n",
      "Training at Epoch 87 iteration 100 with loss 0.29647. Total time 7.02972 hours\n",
      "Training at Epoch 87 iteration 200 with loss 0.30187. Total time 7.04944 hours\n",
      "Training at Epoch 87 iteration 300 with loss 0.24761. Total time 7.06833 hours\n",
      "Validation at Epoch 87, AUROC: 0.84257 , AUPRC: 0.62262 , F1: 0.53424 , Cross-entropy Loss: 4.31554\n",
      "Training at Epoch 88 iteration 0 with loss 0.31039. Total time 7.09166 hours\n",
      "Training at Epoch 88 iteration 100 with loss 0.34458. Total time 7.11111 hours\n",
      "Training at Epoch 88 iteration 200 with loss 0.30428. Total time 7.13083 hours\n",
      "Training at Epoch 88 iteration 300 with loss 0.28470. Total time 7.14972 hours\n",
      "Validation at Epoch 88, AUROC: 0.84021 , AUPRC: 0.61871 , F1: 0.38522 , Cross-entropy Loss: 4.54985\n",
      "Training at Epoch 89 iteration 0 with loss 0.35394. Total time 7.17305 hours\n",
      "Training at Epoch 89 iteration 100 with loss 0.33822. Total time 7.19277 hours\n",
      "Training at Epoch 89 iteration 200 with loss 0.40528. Total time 7.21277 hours\n",
      "Training at Epoch 89 iteration 300 with loss 0.32256. Total time 7.23194 hours\n",
      "Validation at Epoch 89, AUROC: 0.84175 , AUPRC: 0.61896 , F1: 0.43107 , Cross-entropy Loss: 4.43269\n",
      "Training at Epoch 90 iteration 0 with loss 0.28456. Total time 7.25527 hours\n",
      "Training at Epoch 90 iteration 100 with loss 0.31035. Total time 7.275 hours\n",
      "Training at Epoch 90 iteration 200 with loss 0.28665. Total time 7.29472 hours\n",
      "Training at Epoch 90 iteration 300 with loss 0.35170. Total time 7.31333 hours\n",
      "Validation at Epoch 90, AUROC: 0.83970 , AUPRC: 0.62171 , F1: 0.46218 , Cross-entropy Loss: 4.37411\n",
      "Training at Epoch 91 iteration 0 with loss 0.24233. Total time 7.33722 hours\n",
      "Training at Epoch 91 iteration 100 with loss 0.34818. Total time 7.35694 hours\n",
      "Training at Epoch 91 iteration 200 with loss 0.27759. Total time 7.37638 hours\n",
      "Training at Epoch 91 iteration 300 with loss 0.31525. Total time 7.39527 hours\n",
      "Validation at Epoch 91, AUROC: 0.84216 , AUPRC: 0.62242 , F1: 0.50559 , Cross-entropy Loss: 4.31553\n",
      "Training at Epoch 92 iteration 0 with loss 0.25698. Total time 7.41861 hours\n",
      "Training at Epoch 92 iteration 100 with loss 0.31214. Total time 7.43805 hours\n",
      "Training at Epoch 92 iteration 200 with loss 0.29067. Total time 7.4575 hours\n",
      "Training at Epoch 92 iteration 300 with loss 0.19265. Total time 7.47611 hours\n",
      "Validation at Epoch 92, AUROC: 0.84430 , AUPRC: 0.62192 , F1: 0.43957 , Cross-entropy Loss: 4.36922\n",
      "Training at Epoch 93 iteration 0 with loss 0.28163. Total time 7.5 hours\n",
      "Training at Epoch 93 iteration 100 with loss 0.27128. Total time 7.52 hours\n",
      "Training at Epoch 93 iteration 200 with loss 0.35849. Total time 7.53972 hours\n",
      "Training at Epoch 93 iteration 300 with loss 0.41054. Total time 7.55916 hours\n",
      "Validation at Epoch 93, AUROC: 0.84323 , AUPRC: 0.61697 , F1: 0.54023 , Cross-entropy Loss: 4.37901\n",
      "Training at Epoch 94 iteration 0 with loss 0.34139. Total time 7.58333 hours\n",
      "Training at Epoch 94 iteration 100 with loss 0.23963. Total time 7.60277 hours\n",
      "Training at Epoch 94 iteration 200 with loss 0.28812. Total time 7.62222 hours\n",
      "Training at Epoch 94 iteration 300 with loss 0.41894. Total time 7.64083 hours\n",
      "Validation at Epoch 94, AUROC: 0.84192 , AUPRC: 0.62322 , F1: 0.47540 , Cross-entropy Loss: 4.37411\n",
      "Training at Epoch 95 iteration 0 with loss 0.35331. Total time 7.66416 hours\n",
      "Training at Epoch 95 iteration 100 with loss 0.28385. Total time 7.68416 hours\n",
      "Training at Epoch 95 iteration 200 with loss 0.26846. Total time 7.70333 hours\n",
      "Training at Epoch 95 iteration 300 with loss 0.30143. Total time 7.7225 hours\n",
      "Validation at Epoch 95, AUROC: 0.84381 , AUPRC: 0.62147 , F1: 0.50501 , Cross-entropy Loss: 4.33506\n",
      "Training at Epoch 96 iteration 0 with loss 0.32291. Total time 7.74555 hours\n",
      "Training at Epoch 96 iteration 100 with loss 0.25613. Total time 7.765 hours\n",
      "Training at Epoch 96 iteration 200 with loss 0.26277. Total time 7.78444 hours\n",
      "Training at Epoch 96 iteration 300 with loss 0.30691. Total time 7.80333 hours\n",
      "Validation at Epoch 96, AUROC: 0.84264 , AUPRC: 0.61901 , F1: 0.42857 , Cross-entropy Loss: 4.41316\n",
      "Training at Epoch 97 iteration 0 with loss 0.25277. Total time 7.82694 hours\n",
      "Training at Epoch 97 iteration 100 with loss 0.21061. Total time 7.84666 hours\n",
      "Training at Epoch 97 iteration 200 with loss 0.22550. Total time 7.86583 hours\n",
      "Training at Epoch 97 iteration 300 with loss 0.28912. Total time 7.885 hours\n",
      "Validation at Epoch 97, AUROC: 0.84271 , AUPRC: 0.61678 , F1: 0.47962 , Cross-entropy Loss: 4.36435\n",
      "Training at Epoch 98 iteration 0 with loss 0.27494. Total time 7.90833 hours\n",
      "Training at Epoch 98 iteration 100 with loss 0.28430. Total time 7.92833 hours\n",
      "Training at Epoch 98 iteration 200 with loss 0.33131. Total time 7.9475 hours\n",
      "Training at Epoch 98 iteration 300 with loss 0.26298. Total time 7.96694 hours\n",
      "Validation at Epoch 98, AUROC: 0.84270 , AUPRC: 0.62241 , F1: 0.49401 , Cross-entropy Loss: 4.33018\n",
      "Training at Epoch 99 iteration 0 with loss 0.29857. Total time 7.99027 hours\n",
      "Training at Epoch 99 iteration 100 with loss 0.20034. Total time 8.01 hours\n",
      "Training at Epoch 99 iteration 200 with loss 0.28316. Total time 8.02944 hours\n",
      "Training at Epoch 99 iteration 300 with loss 0.33559. Total time 8.04861 hours\n",
      "Validation at Epoch 99, AUROC: 0.84051 , AUPRC: 0.61936 , F1: 0.49341 , Cross-entropy Loss: 4.32041\n",
      "Training at Epoch 100 iteration 0 with loss 0.30675. Total time 8.07055 hours\n",
      "Training at Epoch 100 iteration 100 with loss 0.23080. Total time 8.08666 hours\n",
      "Training at Epoch 100 iteration 200 with loss 0.24645. Total time 8.1025 hours\n",
      "Training at Epoch 100 iteration 300 with loss 0.28044. Total time 8.11833 hours\n",
      "Validation at Epoch 100, AUROC: 0.84327 , AUPRC: 0.61446 , F1: 0.50362 , Cross-entropy Loss: 4.34971\n",
      "--- Go for Testing ---\n",
      "Validation at Epoch 100 , AUROC: 0.84021 , AUPRC: 0.62294 , F1: 0.37301 , Cross-entropy Loss: 4.53764\n",
      "--- Training Finished ---\n"
     ]
    },
    {
     "data": {
      "image/png": "[encoded data removed]",
      "text/plain": [
       "<Figure size 432x288 with 1 Axes>"
      ]
     },
     "metadata": {
      "needs_background": "light"
     },
     "output_type": "display_data"
    },
    {
     "data": {
      "image/png": "[encoded data removed]",
      "text/plain": [
       "<Figure size 432x288 with 1 Axes>"
      ]
     },
     "metadata": {
      "needs_background": "light"
     },
     "output_type": "display_data"
    },
    {
     "data": {
      "image/png": "[encoded data removed]",
      "text/plain": [
       "<Figure size 432x288 with 1 Axes>"
      ]
     },
     "metadata": {
      "needs_background": "light"
     },
     "output_type": "display_data"
    }
   ],
   "source": [
    "model_shuffled = models.model_initialize(**config)\n",
    "model_shuffled.train(train_shuffled, val_shuffled, test_shuffled)"
   ]
  },
  {
   "cell_type": "markdown",
   "metadata": {
    "heading_collapsed": true
   },
   "source": [
    "# Performances for Unseen Edges, Unseen Targets and Unseen Nodes"
   ]
  },
  {
   "cell_type": "code",
   "execution_count": 6,
   "metadata": {
    "hidden": true,
    "scrolled": true
   },
   "outputs": [],
   "source": [
    "train_ligands = list(set(train['SMILES'].tolist()))\n",
    "train_targets = list(set(train['Target Sequence'].tolist()))\n",
    "\n",
    "test_minus_train_ligands = list(set(test['SMILES'].tolist()).difference(train_ligands))\n",
    "test_minus_train_targets = list(set(test['Target Sequence'].tolist()).difference(train_targets))"
   ]
  },
  {
   "cell_type": "code",
   "execution_count": 7,
   "metadata": {
    "hidden": true
   },
   "outputs": [
    {
     "name": "stdout",
     "output_type": "stream",
     "text": [
      "Seen ligands:  10410\n",
      "Seen targets:  1404\n",
      "Unseen ligands:  2028\n",
      "Unseen targets:  73\n"
     ]
    }
   ],
   "source": [
    "print('Seen ligands: ', len(train_ligands))\n",
    "print('Seen targets: ', len(train_targets))\n",
    "print('Unseen ligands: ', len(test_minus_train_ligands))\n",
    "print('Unseen targets: ', len(test_minus_train_targets))"
   ]
  },
  {
   "cell_type": "code",
   "execution_count": 8,
   "metadata": {
    "hidden": true,
    "scrolled": true
   },
   "outputs": [
    {
     "name": "stdout",
     "output_type": "stream",
     "text": [
      "Unseen edges:  11923\n",
      "AUC:  0.8185677164986843\n",
      "AUP:  0.4761129506555852\n"
     ]
    }
   ],
   "source": [
    "# Unseen Edges\n",
    "\n",
    "test_unseen_edges = test[test['SMILES'].isin(train_ligands) & test['Target Sequence'].isin(train_targets)]\n",
    "print('Unseen edges: ', len(test_unseen_edges))\n",
    "\n",
    "print('AUC: ', roc_auc_score(test_unseen_edges['Label'].tolist(), test_unseen_edges['Y_predicted']))\n",
    "print('AUP: ', average_precision_score(test_unseen_edges['Label'].tolist(), test_unseen_edges['Y_predicted']))"
   ]
  },
  {
   "cell_type": "code",
   "execution_count": 9,
   "metadata": {
    "hidden": true,
    "scrolled": true
   },
   "outputs": [
    {
     "name": "stdout",
     "output_type": "stream",
     "text": [
      "Unseen targets:  81\n",
      "AUC:  0.7448830409356725\n",
      "AUP:  0.6517717452558452\n"
     ]
    }
   ],
   "source": [
    "# Unseen Targets\n",
    "\n",
    "test_unseen_targets = test[test['Target Sequence'].isin(test_minus_train_targets)]\n",
    "print('Unseen targets: ', len(test_unseen_targets))\n",
    "\n",
    "print('AUC: ', roc_auc_score(test_unseen_targets['Label'].tolist(), test_unseen_targets['Y_predicted']))\n",
    "print('AUP: ', average_precision_score(test_unseen_targets['Label'].tolist(), test_unseen_targets['Y_predicted']))"
   ]
  },
  {
   "cell_type": "code",
   "execution_count": 22,
   "metadata": {
    "hidden": true
   },
   "outputs": [
    {
     "name": "stdout",
     "output_type": "stream",
     "text": [
      "Unseen nodes:  37\n",
      "AUC:  0.6433333333333333\n",
      "AUP:  0.44722220144334984\n"
     ]
    }
   ],
   "source": [
    "# Unseen Nodes\n",
    "\n",
    "test_unseen_nodes = test[test['SMILES'].isin(test_minus_train_ligands) & test['Target Sequence'].isin(test_minus_train_targets)]\n",
    "print('Unseen nodes: ', len(test_unseen_nodes))\n",
    "\n",
    "print('AUC: ', roc_auc_score(test_unseen_nodes['Label'].tolist(), test_unseen_nodes['Y_predicted']))\n",
    "print('AUP: ', average_precision_score(test_unseen_nodes['Label'].tolist(), test_unseen_nodes['Y_predicted']))"
   ]
  },
  {
   "cell_type": "code",
   "execution_count": 23,
   "metadata": {
    "collapsed": true
   },
   "outputs": [
    {
     "name": "stderr",
     "output_type": "stream",
     "text": [
      "/miniconda/envs/DeepPurpose/lib/python3.7/site-packages/IPython/core/interactiveshell.py:3063: DtypeWarning: Columns (8,20,21,22,23) have mixed types.Specify dtype option on import or set low_memory=False.\n",
      "  interactivity=interactivity, compiler=compiler, result=result)\n"
     ]
    },
    {
     "name": "stdout",
     "output_type": "stream",
     "text": [
      "Unseen nodes:  0\n"
     ]
    },
    {
     "ename": "ValueError",
     "evalue": "Found array with 0 sample(s) (shape=(0,)) while a minimum of 1 is required.",
     "output_type": "error",
     "traceback": [
      "\u001b[0;31m---------------------------------------------------------------------------\u001b[0m",
      "\u001b[0;31mValueError\u001b[0m                                Traceback (most recent call last)",
      "\u001b[0;32m<ipython-input-23-370c9d104f53>\u001b[0m in \u001b[0;36m<module>\u001b[0;34m\u001b[0m\n\u001b[1;32m      6\u001b[0m \u001b[0mprint\u001b[0m\u001b[0;34m(\u001b[0m\u001b[0;34m'Unseen nodes: '\u001b[0m\u001b[0;34m,\u001b[0m \u001b[0mlen\u001b[0m\u001b[0;34m(\u001b[0m\u001b[0mtest_unseen_nodes\u001b[0m\u001b[0;34m)\u001b[0m\u001b[0;34m)\u001b[0m\u001b[0;34m\u001b[0m\u001b[0;34m\u001b[0m\u001b[0m\n\u001b[1;32m      7\u001b[0m \u001b[0;34m\u001b[0m\u001b[0m\n\u001b[0;32m----> 8\u001b[0;31m \u001b[0mprint\u001b[0m\u001b[0;34m(\u001b[0m\u001b[0;34m'AUC: '\u001b[0m\u001b[0;34m,\u001b[0m \u001b[0mroc_auc_score\u001b[0m\u001b[0;34m(\u001b[0m\u001b[0mtest_unseen_nodes\u001b[0m\u001b[0;34m[\u001b[0m\u001b[0;34m'Label'\u001b[0m\u001b[0;34m]\u001b[0m\u001b[0;34m.\u001b[0m\u001b[0mtolist\u001b[0m\u001b[0;34m(\u001b[0m\u001b[0;34m)\u001b[0m\u001b[0;34m,\u001b[0m \u001b[0mtest_unseen_nodes\u001b[0m\u001b[0;34m[\u001b[0m\u001b[0;34m'Y_predicted'\u001b[0m\u001b[0;34m]\u001b[0m\u001b[0;34m)\u001b[0m\u001b[0;34m)\u001b[0m\u001b[0;34m\u001b[0m\u001b[0;34m\u001b[0m\u001b[0m\n\u001b[0m\u001b[1;32m      9\u001b[0m \u001b[0mprint\u001b[0m\u001b[0;34m(\u001b[0m\u001b[0;34m'AUP: '\u001b[0m\u001b[0;34m,\u001b[0m \u001b[0maverage_precision_score\u001b[0m\u001b[0;34m(\u001b[0m\u001b[0mtest_unseen_nodes\u001b[0m\u001b[0;34m[\u001b[0m\u001b[0;34m'Label'\u001b[0m\u001b[0;34m]\u001b[0m\u001b[0;34m.\u001b[0m\u001b[0mtolist\u001b[0m\u001b[0;34m(\u001b[0m\u001b[0;34m)\u001b[0m\u001b[0;34m,\u001b[0m \u001b[0mtest_unseen_nodes\u001b[0m\u001b[0;34m[\u001b[0m\u001b[0;34m'Y_predicted'\u001b[0m\u001b[0;34m]\u001b[0m\u001b[0;34m)\u001b[0m\u001b[0;34m)\u001b[0m\u001b[0;34m\u001b[0m\u001b[0;34m\u001b[0m\u001b[0m\n",
      "\u001b[0;32m/miniconda/envs/DeepPurpose/lib/python3.7/site-packages/sklearn/metrics/_ranking.py\u001b[0m in \u001b[0;36mroc_auc_score\u001b[0;34m(y_true, y_score, average, sample_weight, max_fpr, multi_class, labels)\u001b[0m\n\u001b[1;32m    366\u001b[0m \u001b[0;34m\u001b[0m\u001b[0m\n\u001b[1;32m    367\u001b[0m     \u001b[0my_type\u001b[0m \u001b[0;34m=\u001b[0m \u001b[0mtype_of_target\u001b[0m\u001b[0;34m(\u001b[0m\u001b[0my_true\u001b[0m\u001b[0;34m)\u001b[0m\u001b[0;34m\u001b[0m\u001b[0;34m\u001b[0m\u001b[0m\n\u001b[0;32m--> 368\u001b[0;31m     \u001b[0my_true\u001b[0m \u001b[0;34m=\u001b[0m \u001b[0mcheck_array\u001b[0m\u001b[0;34m(\u001b[0m\u001b[0my_true\u001b[0m\u001b[0;34m,\u001b[0m \u001b[0mensure_2d\u001b[0m\u001b[0;34m=\u001b[0m\u001b[0;32mFalse\u001b[0m\u001b[0;34m,\u001b[0m \u001b[0mdtype\u001b[0m\u001b[0;34m=\u001b[0m\u001b[0;32mNone\u001b[0m\u001b[0;34m)\u001b[0m\u001b[0;34m\u001b[0m\u001b[0;34m\u001b[0m\u001b[0m\n\u001b[0m\u001b[1;32m    369\u001b[0m     \u001b[0my_score\u001b[0m \u001b[0;34m=\u001b[0m \u001b[0mcheck_array\u001b[0m\u001b[0;34m(\u001b[0m\u001b[0my_score\u001b[0m\u001b[0;34m,\u001b[0m \u001b[0mensure_2d\u001b[0m\u001b[0;34m=\u001b[0m\u001b[0;32mFalse\u001b[0m\u001b[0;34m)\u001b[0m\u001b[0;34m\u001b[0m\u001b[0;34m\u001b[0m\u001b[0m\n\u001b[1;32m    370\u001b[0m \u001b[0;34m\u001b[0m\u001b[0m\n",
      "\u001b[0;32m/miniconda/envs/DeepPurpose/lib/python3.7/site-packages/sklearn/utils/validation.py\u001b[0m in \u001b[0;36mcheck_array\u001b[0;34m(array, accept_sparse, accept_large_sparse, dtype, order, copy, force_all_finite, ensure_2d, allow_nd, ensure_min_samples, ensure_min_features, warn_on_dtype, estimator)\u001b[0m\n\u001b[1;32m    584\u001b[0m                              \u001b[0;34m\" minimum of %d is required%s.\"\u001b[0m\u001b[0;34m\u001b[0m\u001b[0;34m\u001b[0m\u001b[0m\n\u001b[1;32m    585\u001b[0m                              % (n_samples, array.shape, ensure_min_samples,\n\u001b[0;32m--> 586\u001b[0;31m                                 context))\n\u001b[0m\u001b[1;32m    587\u001b[0m \u001b[0;34m\u001b[0m\u001b[0m\n\u001b[1;32m    588\u001b[0m     \u001b[0;32mif\u001b[0m \u001b[0mensure_min_features\u001b[0m \u001b[0;34m>\u001b[0m \u001b[0;36m0\u001b[0m \u001b[0;32mand\u001b[0m \u001b[0marray\u001b[0m\u001b[0;34m.\u001b[0m\u001b[0mndim\u001b[0m \u001b[0;34m==\u001b[0m \u001b[0;36m2\u001b[0m\u001b[0;34m:\u001b[0m\u001b[0;34m\u001b[0m\u001b[0;34m\u001b[0m\u001b[0m\n",
      "\u001b[0;31mValueError\u001b[0m: Found array with 0 sample(s) (shape=(0,)) while a minimum of 1 is required."
     ]
    }
   ],
   "source": [
    "NDM = pd.read_csv('../data/NDM_Master.csv')\n",
    "\n",
    "# Unseen Nodes - Natural Ligands\n",
    "\n",
    "test_unseen_nodes = test[test['SMILES'].isin(test_minus_train_ligands) & test['SMILES'].isin(NDM['SMILE'].tolist()) & test['Target Sequence'].isin(test_minus_train_targets)]\n",
    "print('Unseen nodes: ', len(test_unseen_nodes))\n",
    "\n",
    "print('AUC: ', roc_auc_score(test_unseen_nodes['Label'].tolist(), test_unseen_nodes['Y_predicted']))\n",
    "print('AUP: ', average_precision_score(test_unseen_nodes['Label'].tolist(), test_unseen_nodes['Y_predicted']))"
   ]
  },
  {
   "cell_type": "code",
   "execution_count": 11,
   "metadata": {
    "hidden": true,
    "scrolled": true
   },
   "outputs": [
    {
     "name": "stdout",
     "output_type": "stream",
     "text": [
      "Total ligands:  10410\n",
      "Total targets:  1404\n",
      "Ligands with only positive:  3094\n",
      "Targets with only positive:  170\n",
      "Ligands with only negative:  6539\n",
      "Targets with only negative:  560\n"
     ]
    }
   ],
   "source": [
    "train_pos = train[train['Label'] == 1]\n",
    "train_neg = train[train['Label'] == 0]\n",
    "\n",
    "ligands_1 = set(train_pos['SMILES'].tolist())\n",
    "ligands_0 = set(train_neg['SMILES'].tolist())\n",
    "targets_1 = set(train_pos['Target Sequence'].tolist())\n",
    "targets_0 = set(train_neg['Target Sequence'].tolist())\n",
    "\n",
    "print('Total ligands: ', len(list(set(train['SMILES'].tolist()))))\n",
    "print('Total targets: ', len(list(set(train['Target Sequence'].tolist()))))\n",
    "print('Ligands with only positive: ', len(list(ligands_1.difference(ligands_0))))\n",
    "print('Targets with only positive: ', len(list(targets_1.difference(targets_0))))\n",
    "print('Ligands with only negative: ', len(list(ligands_0.difference(ligands_1))))\n",
    "print('Targets with only negative: ', len(list(targets_0.difference(targets_1))))"
   ]
  },
  {
   "cell_type": "markdown",
   "metadata": {
    "hidden": true
   },
   "source": [
    "# Duplex Configuration Model"
   ]
  },
  {
   "cell_type": "code",
   "execution_count": 12,
   "metadata": {},
   "outputs": [],
   "source": [
    "train_pos = train[train['Label'] == 1]\n",
    "train_neg = train[train['Label'] == 0]"
   ]
  },
  {
   "cell_type": "code",
   "execution_count": 13,
   "metadata": {},
   "outputs": [
    {
     "name": "stderr",
     "output_type": "stream",
     "text": [
      "100%|██████████| 10410/10410 [01:07<00:00, 153.40it/s]\n",
      "100%|██████████| 1404/1404 [00:09<00:00, 153.39it/s]"
     ]
    },
    {
     "name": "stdout",
     "output_type": "stream",
     "text": [
      "Ligands with positive degree 0:  6539\n",
      "Ligands with negative degree 0:  3094\n",
      "Targets with positive degree 0:  560\n",
      "Targets with negative degree 0:  170\n"
     ]
    },
    {
     "name": "stderr",
     "output_type": "stream",
     "text": [
      "\n"
     ]
    }
   ],
   "source": [
    "pos_deg_0_ligands = []\n",
    "pos_deg_0_targets = []\n",
    "neg_deg_0_ligands = []\n",
    "neg_deg_0_targets = []\n",
    "\n",
    "ligand_degree_ratio = dict()\n",
    "ligand_all_average = []\n",
    "\n",
    "for ligand in tqdm(ligands):\n",
    "    pos_deg = len(train_pos[train_pos['SMILES'] == ligand])\n",
    "    neg_deg = len(train_neg[train_neg['SMILES'] == ligand])\n",
    "    ligand_degree_ratio[ligand] = dict()\n",
    "    ligand_degree_ratio[ligand]['deg_ratio'] = pos_deg / (pos_deg + neg_deg)\n",
    "    ligand_degree_ratio[ligand]['deg_avg'] = pos_deg / number_targets \n",
    "    ligand_all_average.append(pos_deg / number_targets)\n",
    "    if pos_deg == 0:\n",
    "        pos_deg_0_ligands.append(ligand)\n",
    "    if neg_deg == 0:\n",
    "        neg_deg_0_ligands.append(ligand)\n",
    "    \n",
    "ligands_all_avg = sum(ligand_all_average) / number_ligands\n",
    "\n",
    "targets_degree_ratio = dict()\n",
    "target_all_average = []\n",
    "\n",
    "for target in tqdm(targets):\n",
    "    pos_deg = len(train_pos[train_pos['Target Sequence'] == target])\n",
    "    neg_deg = len(train_neg[train_neg['Target Sequence'] == target])\n",
    "    targets_degree_ratio[target] = dict()\n",
    "    targets_degree_ratio[target]['deg_ratio'] = pos_deg / (pos_deg + neg_deg)\n",
    "    targets_degree_ratio[target]['deg_avg'] = pos_deg / number_ligands\n",
    "    target_all_average.append(pos_deg / number_ligands)\n",
    "    if pos_deg == 0:\n",
    "        pos_deg_0_targets.append(target)\n",
    "    if neg_deg == 0:\n",
    "        neg_deg_0_targets.append(target)\n",
    "    \n",
    "targets_all_avg = sum(target_all_average) / number_targets\n",
    "\n",
    "print('Ligands with positive degree 0: ',len(pos_deg_0_ligands))\n",
    "print('Ligands with negative degree 0: ',len(neg_deg_0_ligands))\n",
    "print('Targets with positive degree 0: ',len(pos_deg_0_targets))\n",
    "print('Targets with negative degree 0: ',len(neg_deg_0_targets))"
   ]
  },
  {
   "cell_type": "code",
   "execution_count": 14,
   "metadata": {},
   "outputs": [],
   "source": [
    "## Annotated means the node has at least 1 binding information\n",
    "\n",
    "pos_annotated_ligands = list(set(ligands)-set(pos_deg_0_ligands))\n",
    "pos_annotated_targets = list(set(targets)-set(pos_deg_0_targets))\n",
    "\n",
    "neg_annotated_ligands = list(set(ligands)-set(neg_deg_0_ligands))\n",
    "neg_annotated_targets = list(set(targets)-set(neg_deg_0_targets))"
   ]
  },
  {
   "cell_type": "code",
   "execution_count": 15,
   "metadata": {},
   "outputs": [],
   "source": [
    "summat10 = np.loadtxt(open(\"../data/fold5/summat10.csv\", \"rb\"), delimiter=\",\", skiprows=0) # Output of MATLAB run \n",
    "summat01 = np.loadtxt(open(\"../data/fold5/summat01.csv\", \"rb\"), delimiter=\",\", skiprows=0) # Output of MATLAB run "
   ]
  },
  {
   "cell_type": "code",
   "execution_count": 16,
   "metadata": {},
   "outputs": [
    {
     "name": "stderr",
     "output_type": "stream",
     "text": [
      "14150it [00:05, 2439.04it/s]\n"
     ]
    }
   ],
   "source": [
    "test_probabilty_predicted_conditioned = []\n",
    "\n",
    "## Average conditional probability\n",
    "p10_avg = np.mean(summat10)\n",
    "p01_avg = np.mean(summat01)\n",
    "average_conditional_probability = p10_avg / (p10_avg + p01_avg)\n",
    "\n",
    "for index, row in tqdm(test.iterrows()):      \n",
    "    \n",
    "    if row['SMILES'] in pos_annotated_ligands and row['Target Sequence'] in pos_annotated_targets:\n",
    "        p10 = summat10[ligands.index(row['SMILES']),targets.index(row['Target Sequence'])]\n",
    "        p01 = summat01[ligands.index(row['SMILES']),targets.index(row['Target Sequence'])]\n",
    "        p10_conditioned = p10 / (p10 + p01)\n",
    "        test_probabilty_predicted_conditioned.append(p10_conditioned)\n",
    "        \n",
    "    elif row['SMILES'] in pos_annotated_ligands and row['Target Sequence'] not in pos_annotated_targets:\n",
    "        p10_conditioned = ligand_degree_ratio[row['SMILES']]['deg_ratio']  ## k_+ / (k_+ + k_-)\n",
    "        test_probabilty_predicted_conditioned.append(p10_conditioned)\n",
    "        \n",
    "    elif row['SMILES'] not in pos_annotated_ligands and row['Target Sequence'] in pos_annotated_targets:\n",
    "        p10_conditioned = targets_degree_ratio[row['Target Sequence']]['deg_ratio'] ## k_+ / (k_+ + k_-)\n",
    "        test_probabilty_predicted_conditioned.append(p10_conditioned)\n",
    "\n",
    "    else:\n",
    "        p10_conditioned = average_conditional_probability\n",
    "        test_probabilty_predicted_conditioned.append(p10_conditioned)\n",
    "        "
   ]
  },
  {
   "cell_type": "code",
   "execution_count": 17,
   "metadata": {},
   "outputs": [
    {
     "name": "stdout",
     "output_type": "stream",
     "text": [
      "AUC:  0.8582543754488434\n",
      "AUP:  0.6110111695033403\n"
     ]
    }
   ],
   "source": [
    "## Performance on the test dataset\n",
    "\n",
    "print('AUC: ', roc_auc_score(test['Label'].tolist(), test_probabilty_predicted_conditioned))\n",
    "print('AUP: ', average_precision_score(test['Label'].tolist(), test_probabilty_predicted_conditioned))"
   ]
  },
  {
   "cell_type": "code",
   "execution_count": 18,
   "metadata": {},
   "outputs": [],
   "source": [
    "test['duplex_config_prediction'] = test_probabilty_predicted_conditioned"
   ]
  },
  {
   "cell_type": "code",
   "execution_count": 24,
   "metadata": {},
   "outputs": [
    {
     "name": "stdout",
     "output_type": "stream",
     "text": [
      "Unseen edges:  11923\n",
      "AUC:  0.8424130228864826\n",
      "AUP:  0.49891624652412536\n"
     ]
    }
   ],
   "source": [
    "# Unseen Edges\n",
    "\n",
    "test_unseen_edges = test[test['SMILES'].isin(train_ligands) & test['Target Sequence'].isin(train_targets)]\n",
    "print('Unseen edges: ', len(test_unseen_edges))\n",
    "\n",
    "print('AUC: ', roc_auc_score(test_unseen_edges['Label'].tolist(), test_unseen_edges['duplex_config_prediction']))\n",
    "print('AUP: ', average_precision_score(test_unseen_edges['Label'].tolist(), test_unseen_edges['duplex_config_prediction']))"
   ]
  },
  {
   "cell_type": "code",
   "execution_count": 20,
   "metadata": {},
   "outputs": [
    {
     "name": "stdout",
     "output_type": "stream",
     "text": [
      "Unseen targets:  81\n",
      "AUC:  0.7178362573099416\n",
      "AUP:  0.6301376005739763\n"
     ]
    }
   ],
   "source": [
    "# Unseen Targets\n",
    "\n",
    "test_unseen_targets = test[test['Target Sequence'].isin(test_minus_train_targets)]\n",
    "print('Unseen targets: ', len(test_unseen_targets))\n",
    "\n",
    "print('AUC: ', roc_auc_score(test_unseen_targets['Label'].tolist(), test_unseen_targets['duplex_config_prediction']))\n",
    "print('AUP: ', average_precision_score(test_unseen_targets['Label'].tolist(), test_unseen_targets['duplex_config_prediction']))"
   ]
  },
  {
   "cell_type": "code",
   "execution_count": 21,
   "metadata": {},
   "outputs": [
    {
     "name": "stdout",
     "output_type": "stream",
     "text": [
      "Unseen nodes:  37\n",
      "AUC:  0.5\n",
      "AUP:  0.32432432432432434\n"
     ]
    }
   ],
   "source": [
    "# Unseen Nodes\n",
    "\n",
    "test_unseen_nodes = test[test['SMILES'].isin(test_minus_train_ligands) & test['Target Sequence'].isin(test_minus_train_targets)]\n",
    "print('Unseen nodes: ', len(test_unseen_nodes))\n",
    "\n",
    "print('AUC: ', roc_auc_score(test_unseen_nodes['Label'].tolist(), test_unseen_nodes['duplex_config_prediction']))\n",
    "print('AUP: ', average_precision_score(test_unseen_nodes['Label'].tolist(), test_unseen_nodes['duplex_config_prediction']))"
   ]
  },
  {
   "cell_type": "code",
   "execution_count": null,
   "metadata": {},
   "outputs": [],
   "source": []
  }
 ],
 "metadata": {
  "kernelspec": {
   "display_name": "DeepPurpose",
   "language": "python",
   "name": "deeppurpose"
  },
  "language_info": {
   "codemirror_mode": {
    "name": "ipython",
    "version": 3
   },
   "file_extension": ".py",
   "mimetype": "text/x-python",
   "name": "python",
   "nbconvert_exporter": "python",
   "pygments_lexer": "ipython3",
   "version": "3.7.7"
  },
  "toc": {
   "base_numbering": 1,
   "nav_menu": {},
   "number_sections": true,
   "sideBar": true,
   "skip_h1_title": false,
   "title_cell": "Table of Contents",
   "title_sidebar": "Contents",
   "toc_cell": false,
   "toc_position": {},
   "toc_section_display": true,
   "toc_window_display": false
  }
 },
 "nbformat": 4,
 "nbformat_minor": 4
}
