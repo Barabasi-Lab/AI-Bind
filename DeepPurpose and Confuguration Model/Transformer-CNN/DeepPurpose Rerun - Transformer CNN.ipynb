{
 "cells": [
  {
   "cell_type": "markdown",
   "metadata": {
    "heading_collapsed": true
   },
   "source": [
    "# Imports"
   ]
  },
  {
   "cell_type": "code",
   "execution_count": 1,
   "metadata": {
    "hidden": true
   },
   "outputs": [],
   "source": [
    "import os\n",
    "os.chdir('/DeepPurpose/')\n",
    "\n",
    "import DeepPurpose.DTI as models\n",
    "from DeepPurpose.utils import *\n",
    "from DeepPurpose.dataset import *\n",
    "import random\n",
    "from sklearn.metrics import confusion_matrix, f1_score, classification_report\n",
    "from sklearn.metrics import roc_curve, roc_auc_score, precision_recall_curve, average_precision_score\n",
    "from sklearn.metrics import confusion_matrix, f1_score, classification_report\n",
    "import matplotlib.pyplot as plt\n",
    "from tqdm import tqdm\n",
    "import pandas as pd\n",
    "from matplotlib.pyplot import figure"
   ]
  },
  {
   "cell_type": "code",
   "execution_count": 5,
   "metadata": {
    "collapsed": true,
    "hidden": true
   },
   "outputs": [
    {
     "name": "stdout",
     "output_type": "stream",
     "text": [
      "Beginning Processing...\n",
      "Beginning to extract zip file...\n",
      "Default set to logspace (nM -> p) for easier regression\n",
      "Done!\n"
     ]
    },
    {
     "data": {
      "text/plain": [
       "(array(['CC1=C2C=C(C=CC2=NN1)C3=CC(=CN=C3)OCC(CC4=CC=CC=C4)N',\n",
       "        'CC1=C2C=C(C=CC2=NN1)C3=CC(=CN=C3)OCC(CC4=CC=CC=C4)N',\n",
       "        'CC1=C2C=C(C=CC2=NN1)C3=CC(=CN=C3)OCC(CC4=CC=CC=C4)N', ...,\n",
       "        'C1=CC=C2C(=C1)C(=NN=C2NC3=CC=C(C=C3)Cl)CC4=CC=NC=C4',\n",
       "        'C1=CC=C2C(=C1)C(=NN=C2NC3=CC=C(C=C3)Cl)CC4=CC=NC=C4',\n",
       "        'C1=CC=C2C(=C1)C(=NN=C2NC3=CC=C(C=C3)Cl)CC4=CC=NC=C4'],\n",
       "       dtype='<U92'),\n",
       " array(['MKKFFDSRREQGGSGLGSGSSGGGGSTSGLGSGYIGRVFGIGRQQVTVDEVLAEGGFAIVFLVRTSNGMKCALKRMFVNNEHDLQVCKREIQIMRDLSGHKNIVGYIDSSINNVSSGDVWEVLILMDFCRGGQVVNLMNQRLQTGFTENEVLQIFCDTCEAVARLHQCKTPIIHRDLKVENILLHDRGHYVLCDFGSATNKFQNPQTEGVNAVEDEIKKYTTLSYRAPEMVNLYSGKIITTKADIWALGCLLYKLCYFTLPFGESQVAICDGNFTIPDNSRYSQDMHCLIRYMLEPDPDKRPDIYQVSYFSFKLLKKECPIPNVQNSPIPAKLPEPVKASEAAAKKTQPKARLTDPIPTTETSIAPRQRPKAGQTQPNPGILPIQPALTPRKRATVQPPPQAAGSSNQPGLLASVPQPKPQAPPSQPLPQTQAKQPQAPPTPQQTPSTQAQGLPAQAQATPQHQQQLFLKQQQQQQQPPPAQQQPAGTFYQQQQAQTQQFQAVHPATQKPAIAQFPVVSQGGSQQQLMQNFYQQQQQQQQQQQQQQLATALHQQQLMTQQAALQQKPTMAAGQQPQPQPAAAPQPAPAQEPAIQAPVRQQPKVQTTPPPAVQGQKVGSLTPPSSPKTQRAGHRRILSDVTHSAVFGVPASKSTQLLQAAAAEASLNKSKSATTTPSGSPRTSQQNVYNPSEGSTWNPFDDDNFSKLTAEELLNKDFAKLGEGKHPEKLGGSAESLIPGFQSTQGDAFATTSFSAGTAEKRKGGQTVDSGLPLLSVSDPFIPLQVPDAPEKLIEGLKSPDTSLLLPDLLPMTDPFGSTSDAVIEKADVAVESLIPGLEPPVPQRLPSQTESVTSNRTDSLTGEDSLLDCSLLSNPTTDLLEEFAPTAISAPVHKAAEDSNLISGFDVPEGSDKVAEDEFDPIPVLITKNPQGGHSRNSSGSSESSLPNLARSLLLVDQLIDL',\n",
       "        'PFWKILNPLLERGTYYYFMGQQPGKVLGDQRRPSLPALHFIKGAGKKESSRHGGPHCNVFVEHEALQRPVASDFEPQGLSEAARWNSKENLLAGPSENDPNLFVALYDFVASGDNTLSITKGEKLRVLGYNHNGEWCEAQTKNGQGWVPSNYITPVNSLEKHSWYHGPVSRNAAEYLLSSGINGSFLVRESESSPGQRSISLRYEGRVYHYRINTASDGKLYVSSESRFNTLAELVHHHSTVADGLITTLHYPAPKRNKPTVYGVSPNYDKWEMERTDITMKHKLGGGQYGEVYEGVWKKYSLTVAVKTLKEDTMEVEEFLKEAAVMKEIKHPNLVQLLGVCTREPPFYIITEFMTYGNLLDYLRECNRQEVNAVVLLYMATQISSAMEYLEKKNFIHRDLAARNCLVGENHLVKVADFGLSRLMTGDTYTAHAGAKFPIKWTAPESLAYNKFSIKSDVWAFGVLLWEIATYGMSPYPGIDLSQVYELLEKDYRMERPEGCPEKVYELMRACWQWNPSDRPSFAEIHQAFETMFQESSISDEVEKELGKQGVRGAVSTLLQAPELPTKTRTSRRAAEHRDTTDVPEMPHSKGQGESDPLDHEPAVSPLLPRKERGPPEGGLNEDERLLPKDKKTNLFSALIKKKKKTAPTPPKRSSSFREMDGQPERRGAGEEEGRDISNGALAFTPLDTADPAKSPKPSNGAGVPNGALRESGGSGFRSPHLWKKSSTLTSSRLATGEEEGGGSSSKRFLRSCSASCVPHGAKDTEWRSVTLPRDLQSTGRQFDSSTFGGHKSEKPALPRKRAGENRSDQVTRGTVTPPPRLVKKNEEAADEVFKDIMESSPGSSPPNLTPKPLRRQVTVAPASGLPHKEEAGKGSALGTPAAAEPVTPTSKAGSGAPGGTSKGPAEESRVRRHKHSSESPGRDKGKLSRLKPAPPPPPAASAGKAGGKPSQSPSQEAAGEAVLGAKTKATSLVDAVNSDAAKPSQPGEGLKKPVLPATPKPQSAKPSGTPISPAPVPSTLPSASSALAGDQPSSTAFIPLISTRVSLRKTRQPPERIASGAITKGVVLDSTEALCLAISRNSEQMASHSAVLEAGKNLYTFCVSYVDSIQQMRNKFAFREAINKLENNLRELQICPATAGSGPAATQDFSKLLSSVKEISDIVQR',\n",
       "        'PFWKILNPLLERGTYYYFMGQQPGKVLGDQRRPSLPALHFIKGAGKKESSRHGGPHCNVFVEHEALQRPVASDFEPQGLSEAARWNSKENLLAGPSENDPNLFVALYDFVASGDNTLSITKGEKLRVLGYNHNGEWCEAQTKNGQGWVPSNYITPVNSLEKHSWYHGPVSRNAAEYLLSSGINGSFLVRESESSPGQRSISLRYEGRVYHYRINTASDGKLYVSSESRFNTLAELVHHHSTVADGLITTLHYPAPKRNKPTVYGVSPNYDKWEMERTDITMKHKLGGGQYGEVYEGVWKKYSLTVAVKTLKEDTMEVEEFLKEAAVMKEIKHPNLVQLLGVCTREPPFYIITEFMTYGNLLDYLRECNRQEVNAVVLLYMATQISSAMEYLEKKNFIHRDLAARNCLVGENHLVKVADFGLSRLMTGDTYTAHAGAKFPIKWTAPESLAYNKFSIKSDVWAFGVLLWEIATYGMSPYPGIDLSQVYELLEKDYRMERPEGCPEKVYELMRACWQWNPSDRPSFAEIHQAFETMFQESSISDEVEKELGKQGVRGAVSTLLQAPELPTKTRTSRRAAEHRDTTDVPEMPHSKGQGESDPLDHEPAVSPLLPRKERGPPEGGLNEDERLLPKDKKTNLFSALIKKKKKTAPTPPKRSSSFREMDGQPERRGAGEEEGRDISNGALAFTPLDTADPAKSPKPSNGAGVPNGALRESGGSGFRSPHLWKKSSTLTSSRLATGEEEGGGSSSKRFLRSCSASCVPHGAKDTEWRSVTLPRDLQSTGRQFDSSTFGGHKSEKPALPRKRAGENRSDQVTRGTVTPPPRLVKKNEEAADEVFKDIMESSPGSSPPNLTPKPLRRQVTVAPASGLPHKEEAGKGSALGTPAAAEPVTPTSKAGSGAPGGTSKGPAEESRVRRHKHSSESPGRDKGKLSRLKPAPPPPPAASAGKAGGKPSQSPSQEAAGEAVLGAKTKATSLVDAVNSDAAKPSQPGEGLKKPVLPATPKPQSAKPSGTPISPAPVPSTLPSASSALAGDQPSSTAFIPLISTRVSLRKTRQPPERIASGAITKGVVLDSTEALCLAISRNSEQMASHSAVLEAGKNLYTFCVSYVDSIQQMRNKFAFREAINKLENNLRELQICPATAGSGPAATQDFSKLLSSVKEISDIVQR',\n",
       "        ...,\n",
       "        'MSSMPKPERHAESLLDICHDTNSSPTDLMTVTKNQNIILQSISRSEEFDQDGDCSHSTLVNEEEDPSGGRQDWQPRTEGVEITVTFPRDVSPPQEMSQEDLKEKNLINSSLQEWAQAHAVSHPNEIETVELRKKKLTMRPLVLQKEESSRELCNVNLGFLLPRSCLELNISKSVTREDAPHFLKEQQRKSEEFSTSHMKYSGRSIKFLLPPLSLLPTRSGVLTIPQNHKFPKEKERNIPSLTSFVPKLSVSVRQSDELSPSNEPPGALVKSLMDPTLRSSDGFIWSRNMCSFPKTNHHRQCLEKEENWKSKEIEECNKIEITHFEKGQSLVSFENLKEGNIPAVREEDIDCHGSKTRKPEEENSQYLSSRKNESSVAKNYEQDPEIVCTIPSKFQETQHSEITPSQDEEMRNNKAASKRVSLHKNEAMEPNNILEECTVLKSLSSVVFDDPIDKLPEGCSSMETNIKISIAERAKPEMSRMVPLIHITFPVDGSPKEPVIAKPSLQTRKGTIHNNHSVNIPVHQENDKHKMNSHRSKLDSKTKTSKKTPQNFVISTEGPIKPTMHKTSIKTQIFPALGLVDPRPWQLPRFQKKMPQIAKKQSTHRTQKPKKQSFPCICKNPGTQKSCVPLSVQPTEPRLNYLDLKYSDMFKEINSTANGPGIYEMFGTPVYCHVRETERDENTYYREICSAPSGRRITNKCRSSHSERKSNIRTRLSQKKTHMKCPKTSFGIKQEHKVLISKEKSSKAVHSNLHDIENGDGISEPDWQIKSSGNEFLSSKDEIHPMNLAQTPEQSMKQNEFPPVSDLSIVEEVSMEESTGDRDISNNQILTTSLRDLQELEELHHQIPFIPSEDSWAVPSEKNSNKYVQQEKQNTASLSKVNASRILTNDLEFDSVSDHSKTLTNFSFQAKQESASSQTYQYWVHYLDHDSLANKSITYQMFGKTLSGTNSISQEIMDSVNNEELTDELLGCLAAELLALDEKDNNSCQKMANETDPENLNLVLRWRGSTPKEMGRETTKVKIQRHSSGLRIYDREEKFLISNEKKIFSENSLKSEEPILWTKGEILGKGAYGTVYCGLTSQGQLIAVKQVALDTSNKLAAEKEYRKLQEEVDLLKALKHVNIVAYLGTCLQENTVSIFMEFVPGGSISSIINRFGPLPEMVFCKYTKQILQGVAYLHENCVVHRDIKGNNVMLMPTGIIKLIDFGCARRLAWAGLNGTHSDMLKSMHGTPYWMAPEVINESGYGRKSDIWSIGCTVFEMATGKPPLASMDRMAAMFYIGAHRGLMPPLPDHFSENAADFVRMCLTRDQHERPSALQLLKHSFLERSH',\n",
       "        'MSSLGASFVQIKFDDLQFFENCGGGSFGSVYRAKWISQDKEVAVKKLLKIEKEAEILSVLSHRNIIQFYGVILEPPNYGIVTEYASLGSLYDYINSNRSEEMDMDHIMTWATDVAKGMHYLHMEAPVKVIHRDLKSRNVVIAADGVLKICDFGASRFHNHTTHMSLVGTFPWMAPEVIQSLPVSETCDTYSYGVVLWEMLTREVPFKGLEGLQVAWLVVEKNERLTIPSSCPRSFAELLHQCWEADAKKRPSFKQIISILESMSNDTSLPDKCNSFLHNKAEWRCEIEATLERLKKLERDLSFKEQELKERERRLKMWEQKLTEQSNTPLLPSFEIGAWTEDDVYCWVQQLVRKGDSSAEMSVYASLFKENNITGKRLLLLEEEDLKDMGIVSKGHIIHFKSAIEKLTHDYINLFHFPPLIKDSGGEPEENEEKIVNLELVFGFHLKPGTGPQDCKWKMYMEMDGDEIAITYIKDVTFNTNLPDAEILKMTKPPFVMEKWIVGIAKSQTVECTVTYESDVRTPKSTKHVHSIQWSRTKPQDEVKAVQLAIQTLFTNSDGNPGSRSDSSADCQWLDTLRMRQIASNTSLQRSQSNPILGSPFFSHFDGQDSYAAAVRRPQVPIKYQQITPVNQSRSSSPTQYGLTKNFSSLHLNSRDSGFSSGNTDTSSERGRYSDRSRNKYGRGSISLNSSPRGRYSGKSQHSTPSRGRYPGKFYRVSQSALNPHQSPDFKRSPRDLHQPNTIPGMPLHPETDSRASEEDSKVSEGGWTKVEYRKKPHRPSPAKTNKERARGDHRGWRNF',\n",
       "        'MPDPAAHLPFFYGSISRAEAEEHLKLAGMADGLFLLRQCLRSLGGYVLSLVHDVRFHHFPIERQLNGTYAIAGGKAHCGPAELCEFYSRDPDGLPCNLRKPCNRPSGLEPQPGVFDCLRDAMVRDYVRQTWKLEGEALEQAIISQAPQVEKLIATTAHERMPWYHSSLTREEAERKLYSGAQTDGKFLLRPRKEQGTYALSLIYGKTVYHYLISQDKAGKYCIPEGTKFDTLWQLVEYLKLKADGLIYCLKEACPNSSASNASGAAAPTLPAHPSTLTHPQRRIDTLNSDGYTPEPARITSPDKPRPMPMDTSVYESPYSDPEELKDKKLFLKRDNLLIADIELGCGNFGSVRQGVYRMRKKQIDVAIKVLKQGTEKADTEEMMREAQIMHQLDNPYIVRLIGVCQAEALMLVMEMAGGGPLHKFLVGKREEIPVSNVAELLHQVSMGMKYLEEKNFVHRDLAARNVLLVNRHYAKISDFGLSKALGADDSYYTARSAGKWPLKWYAPECINFRKFSSRSDVWSYGVTMWEALSYGQKPYKKMKGPEVMAFIEQGKRMECPPECPPELYALMSDCWIYKWEDRPDFLTVEQRMRACYYSLASKVEGPPGSTQKAEAACA'],\n",
       "       dtype='<U2549'),\n",
       " array([7.36653154, 5.        , 5.        , ..., 5.7212464 , 5.35654732,\n",
       "        5.        ]))"
      ]
     },
     "execution_count": 5,
     "metadata": {},
     "output_type": "execute_result"
    }
   ],
   "source": [
    "load_process_DAVIS()"
   ]
  },
  {
   "cell_type": "code",
   "execution_count": 75,
   "metadata": {
    "collapsed": true,
    "hidden": true
   },
   "outputs": [
    {
     "name": "stdout",
     "output_type": "stream",
     "text": [
      "Beginning to download dataset...\n",
      "Beginning to extract zip file...\n",
      "Done!\n"
     ]
    },
    {
     "data": {
      "text/plain": [
       "'./data/BindingDB_All.tsv'"
      ]
     },
     "execution_count": 75,
     "metadata": {},
     "output_type": "execute_result"
    }
   ],
   "source": [
    "download_BindingDB()"
   ]
  },
  {
   "cell_type": "code",
   "execution_count": 2,
   "metadata": {
    "collapsed": true,
    "hidden": true
   },
   "outputs": [
    {
     "name": "stdout",
     "output_type": "stream",
     "text": [
      "Loading Dataset from path...\n"
     ]
    },
    {
     "name": "stderr",
     "output_type": "stream",
     "text": [
      "b'Skipping line 896772: expected 193 fields, saw 205\\nSkipping line 896798: expected 193 fields, saw 205\\n'\n",
      "b'Skipping line 929491: expected 193 fields, saw 205\\n'\n",
      "b'Skipping line 952161: expected 193 fields, saw 265\\n'\n",
      "b'Skipping line 1355895: expected 193 fields, saw 241\\n'\n",
      "b'Skipping line 1469800: expected 193 fields, saw 241\\nSkipping line 1469801: expected 193 fields, saw 241\\nSkipping line 1469802: expected 193 fields, saw 241\\nSkipping line 1469803: expected 193 fields, saw 241\\nSkipping line 1469804: expected 193 fields, saw 241\\nSkipping line 1469805: expected 193 fields, saw 241\\nSkipping line 1469806: expected 193 fields, saw 241\\nSkipping line 1469807: expected 193 fields, saw 241\\nSkipping line 1469808: expected 193 fields, saw 241\\n'\n",
      "b'Skipping line 1483073: expected 193 fields, saw 205\\n'\n",
      "b'Skipping line 1502296: expected 193 fields, saw 241\\nSkipping line 1502297: expected 193 fields, saw 241\\nSkipping line 1502298: expected 193 fields, saw 241\\nSkipping line 1502299: expected 193 fields, saw 241\\nSkipping line 1502300: expected 193 fields, saw 241\\nSkipping line 1502301: expected 193 fields, saw 241\\nSkipping line 1502302: expected 193 fields, saw 241\\nSkipping line 1502303: expected 193 fields, saw 241\\nSkipping line 1502304: expected 193 fields, saw 241\\n'\n",
      "b'Skipping line 1541474: expected 193 fields, saw 205\\n'\n",
      "b'Skipping line 1927945: expected 193 fields, saw 265\\n'\n",
      "b'Skipping line 2015166: expected 193 fields, saw 265\\nSkipping line 2015167: expected 193 fields, saw 265\\nSkipping line 2015168: expected 193 fields, saw 265\\nSkipping line 2015169: expected 193 fields, saw 265\\nSkipping line 2015170: expected 193 fields, saw 265\\nSkipping line 2015171: expected 193 fields, saw 265\\nSkipping line 2015172: expected 193 fields, saw 265\\nSkipping line 2015173: expected 193 fields, saw 265\\nSkipping line 2015174: expected 193 fields, saw 265\\nSkipping line 2015175: expected 193 fields, saw 265\\nSkipping line 2015176: expected 193 fields, saw 265\\nSkipping line 2015177: expected 193 fields, saw 265\\nSkipping line 2015178: expected 193 fields, saw 265\\nSkipping line 2015179: expected 193 fields, saw 265\\nSkipping line 2015180: expected 193 fields, saw 265\\nSkipping line 2015181: expected 193 fields, saw 265\\nSkipping line 2015182: expected 193 fields, saw 265\\nSkipping line 2015183: expected 193 fields, saw 265\\nSkipping line 2015184: expected 193 fields, saw 265\\n'\n",
      "b'Skipping line 2015802: expected 193 fields, saw 265\\nSkipping line 2015803: expected 193 fields, saw 265\\nSkipping line 2015804: expected 193 fields, saw 265\\nSkipping line 2015805: expected 193 fields, saw 265\\nSkipping line 2015806: expected 193 fields, saw 265\\nSkipping line 2015807: expected 193 fields, saw 265\\nSkipping line 2015808: expected 193 fields, saw 265\\n'\n",
      "b'Skipping line 2027219: expected 193 fields, saw 265\\nSkipping line 2027220: expected 193 fields, saw 265\\nSkipping line 2027221: expected 193 fields, saw 265\\nSkipping line 2027222: expected 193 fields, saw 265\\nSkipping line 2027223: expected 193 fields, saw 265\\nSkipping line 2027224: expected 193 fields, saw 265\\nSkipping line 2027225: expected 193 fields, saw 265\\nSkipping line 2027226: expected 193 fields, saw 265\\nSkipping line 2027227: expected 193 fields, saw 265\\nSkipping line 2027228: expected 193 fields, saw 265\\nSkipping line 2027229: expected 193 fields, saw 265\\nSkipping line 2027230: expected 193 fields, saw 265\\nSkipping line 2027231: expected 193 fields, saw 265\\nSkipping line 2027232: expected 193 fields, saw 265\\nSkipping line 2027233: expected 193 fields, saw 265\\nSkipping line 2027234: expected 193 fields, saw 265\\nSkipping line 2027235: expected 193 fields, saw 265\\nSkipping line 2027236: expected 193 fields, saw 265\\nSkipping line 2027237: expected 193 fields, saw 265\\nSkipping line 2027238: expected 193 fields, saw 265\\nSkipping line 2027239: expected 193 fields, saw 265\\nSkipping line 2027240: expected 193 fields, saw 265\\nSkipping line 2027241: expected 193 fields, saw 265\\nSkipping line 2027242: expected 193 fields, saw 265\\nSkipping line 2027243: expected 193 fields, saw 265\\nSkipping line 2027244: expected 193 fields, saw 265\\nSkipping line 2027245: expected 193 fields, saw 265\\nSkipping line 2027246: expected 193 fields, saw 265\\nSkipping line 2027247: expected 193 fields, saw 265\\nSkipping line 2027248: expected 193 fields, saw 265\\nSkipping line 2027249: expected 193 fields, saw 265\\nSkipping line 2027250: expected 193 fields, saw 265\\nSkipping line 2027251: expected 193 fields, saw 265\\nSkipping line 2027252: expected 193 fields, saw 265\\nSkipping line 2027253: expected 193 fields, saw 265\\nSkipping line 2027254: expected 193 fields, saw 265\\nSkipping line 2027255: expected 193 fields, saw 265\\nSkipping line 2027256: expected 193 fields, saw 265\\nSkipping line 2027257: expected 193 fields, saw 265\\n'\n",
      "b'Skipping line 2029854: expected 193 fields, saw 265\\nSkipping line 2029855: expected 193 fields, saw 265\\nSkipping line 2029856: expected 193 fields, saw 265\\nSkipping line 2029857: expected 193 fields, saw 265\\nSkipping line 2029858: expected 193 fields, saw 265\\nSkipping line 2029859: expected 193 fields, saw 265\\nSkipping line 2029860: expected 193 fields, saw 265\\nSkipping line 2029861: expected 193 fields, saw 265\\n'\n",
      "b'Skipping line 2042409: expected 193 fields, saw 313\\n'\n",
      "b'Skipping line 2059953: expected 193 fields, saw 637\\n'\n",
      "/miniconda/envs/DeepPurpose/lib/python3.7/site-packages/IPython/core/interactiveshell.py:3254: DtypeWarning: Columns (8,9,10,11,12,13,15,17,18,19,20,26,27,31,32,34,35,46,49,50,51,52,53,54,61,62,63,64,65,66,73,74,75,76,77,78,85,86,87,88,89,90,97,98,99,100,101,102,109,110,111,112,113,114,121,122,123,124,125,126,133,134,135,136,137,138,145,147,148,149,150,157,158,159,160,161,162,169,171,172,173,174) have mixed types.Specify dtype option on import or set low_memory=False.\n",
      "  if (await self.run_code(code, result,  async_=asy)):\n"
     ]
    },
    {
     "name": "stdout",
     "output_type": "stream",
     "text": [
      "Beginning Processing...\n",
      "There are 70750 drug target pairs.\n",
      "Default binary threshold for the binding affinity scores are 30, you can adjust it by using the \"threshold\" parameter\n"
     ]
    }
   ],
   "source": [
    "X_drug, X_target, y  = process_BindingDB('/home/sars-busters-consolidated/data/BindingDB_All.tsv',\n",
    "                                         y = 'Kd', \n",
    "                                         binary = True, ## Keep it binary true for classification task\n",
    "                                         convert_to_log = True)"
   ]
  },
  {
   "cell_type": "markdown",
   "metadata": {
    "heading_collapsed": true
   },
   "source": [
    "# Original DeepPurpose"
   ]
  },
  {
   "cell_type": "code",
   "execution_count": 3,
   "metadata": {
    "hidden": true
   },
   "outputs": [
    {
     "name": "stdout",
     "output_type": "stream",
     "text": [
      "Drug Target Interaction Prediction Mode...\n",
      "in total: 70750 drug-target pairs\n",
      "encoding drug...\n",
      "unique drugs: 13392\n",
      "encoding protein...\n",
      "unique target sequence: 1507\n",
      "splitting dataset...\n",
      "Done.\n"
     ]
    }
   ],
   "source": [
    "drug_encoding = 'Transformer'\n",
    "target_encoding = 'CNN'\n",
    "train, val, test = data_process(X_drug, \n",
    "                                X_target, \n",
    "                                y, \n",
    "                                drug_encoding, target_encoding, \n",
    "                                split_method='random',frac=[0.7,0.1,0.2])\n",
    "\n",
    "config = generate_config(drug_encoding = drug_encoding, \n",
    "                         target_encoding = target_encoding, \n",
    "                         cls_hidden_dims = [1024,1024,512], \n",
    "                         train_epoch = 100, \n",
    "                         LR = 0.001, \n",
    "                         batch_size = 128,\n",
    "                         cnn_target_filters = [32,64,96],\n",
    "                         cnn_target_kernels = [4,8,12]\n",
    "                        )"
   ]
  },
  {
   "cell_type": "code",
   "execution_count": 34,
   "metadata": {
    "hidden": true
   },
   "outputs": [],
   "source": [
    "import torch, gc\n",
    "\n",
    "gc.collect()\n",
    "torch.cuda.empty_cache()"
   ]
  },
  {
   "cell_type": "code",
   "execution_count": 146,
   "metadata": {
    "hidden": true
   },
   "outputs": [
    {
     "data": {
      "text/plain": [
       "(49525, 6)"
      ]
     },
     "execution_count": 146,
     "metadata": {},
     "output_type": "execute_result"
    }
   ],
   "source": [
    "train.shape"
   ]
  },
  {
   "cell_type": "code",
   "execution_count": 145,
   "metadata": {
    "hidden": true
   },
   "outputs": [
    {
     "data": {
      "text/plain": [
       "(11973, 11)"
      ]
     },
     "execution_count": 145,
     "metadata": {},
     "output_type": "execute_result"
    }
   ],
   "source": [
    "test.shape"
   ]
  },
  {
   "cell_type": "code",
   "execution_count": 4,
   "metadata": {
    "hidden": true,
    "scrolled": true
   },
   "outputs": [
    {
     "name": "stdout",
     "output_type": "stream",
     "text": [
      "Let's use 4 GPUs!\n",
      "--- Data Preparation ---\n",
      "--- Go for Training ---\n",
      "Training at Epoch 1 iteration 0 with loss 0.69598. Total time 0.00305 hours\n",
      "Training at Epoch 1 iteration 100 with loss 0.37188. Total time 0.01388 hours\n",
      "Training at Epoch 1 iteration 200 with loss 0.30791. Total time 0.025 hours\n",
      "Training at Epoch 1 iteration 300 with loss 0.40230. Total time 0.03583 hours\n",
      "Validation at Epoch 1, AUROC: 0.83072 , AUPRC: 0.55703 , F1: 0.20652 , Cross-entropy Loss: 4.98920\n",
      "Training at Epoch 2 iteration 0 with loss 0.31423. Total time 0.05 hours\n",
      "Training at Epoch 2 iteration 100 with loss 0.25581. Total time 0.06111 hours\n",
      "Training at Epoch 2 iteration 200 with loss 0.35900. Total time 0.07166 hours\n",
      "Training at Epoch 2 iteration 300 with loss 0.31057. Total time 0.08222 hours\n",
      "Validation at Epoch 2, AUROC: 0.83965 , AUPRC: 0.59213 , F1: 0.21329 , Cross-entropy Loss: 4.96967\n",
      "Training at Epoch 3 iteration 0 with loss 0.41414. Total time 0.09611 hours\n",
      "Training at Epoch 3 iteration 100 with loss 0.26540. Total time 0.10666 hours\n",
      "Training at Epoch 3 iteration 200 with loss 0.36699. Total time 0.1175 hours\n",
      "Training at Epoch 3 iteration 300 with loss 0.28244. Total time 0.12805 hours\n",
      "Validation at Epoch 3, AUROC: 0.84226 , AUPRC: 0.60195 , F1: 0.36254 , Cross-entropy Loss: 4.65236\n",
      "Training at Epoch 4 iteration 0 with loss 0.22816. Total time 0.14166 hours\n",
      "Training at Epoch 4 iteration 100 with loss 0.35385. Total time 0.1525 hours\n",
      "Training at Epoch 4 iteration 200 with loss 0.36576. Total time 0.16361 hours\n",
      "Training at Epoch 4 iteration 300 with loss 0.29109. Total time 0.17444 hours\n",
      "Validation at Epoch 4, AUROC: 0.84656 , AUPRC: 0.61473 , F1: 0.53380 , Cross-entropy Loss: 4.47664\n",
      "Training at Epoch 5 iteration 0 with loss 0.35256. Total time 0.18861 hours\n",
      "Training at Epoch 5 iteration 100 with loss 0.32186. Total time 0.19972 hours\n",
      "Training at Epoch 5 iteration 200 with loss 0.33321. Total time 0.21055 hours\n",
      "Training at Epoch 5 iteration 300 with loss 0.34771. Total time 0.22138 hours\n",
      "Validation at Epoch 5, AUROC: 0.85035 , AUPRC: 0.61362 , F1: 0.48864 , Cross-entropy Loss: 4.50593\n",
      "Training at Epoch 6 iteration 0 with loss 0.38465. Total time 0.23555 hours\n",
      "Training at Epoch 6 iteration 100 with loss 0.24961. Total time 0.24638 hours\n",
      "Training at Epoch 6 iteration 200 with loss 0.43812. Total time 0.25722 hours\n",
      "Training at Epoch 6 iteration 300 with loss 0.34808. Total time 0.26805 hours\n",
      "Validation at Epoch 6, AUROC: 0.84751 , AUPRC: 0.61964 , F1: 0.39040 , Cross-entropy Loss: 4.46685\n",
      "Training at Epoch 7 iteration 0 with loss 0.37245. Total time 0.28222 hours\n",
      "Training at Epoch 7 iteration 100 with loss 0.32511. Total time 0.29305 hours\n",
      "Training at Epoch 7 iteration 200 with loss 0.34401. Total time 0.30388 hours\n",
      "Training at Epoch 7 iteration 300 with loss 0.27128. Total time 0.31444 hours\n",
      "Validation at Epoch 7, AUROC: 0.85090 , AUPRC: 0.62919 , F1: 0.40834 , Cross-entropy Loss: 4.42780\n",
      "Training at Epoch 8 iteration 0 with loss 0.34274. Total time 0.32805 hours\n",
      "Training at Epoch 8 iteration 100 with loss 0.31786. Total time 0.33861 hours\n",
      "Training at Epoch 8 iteration 200 with loss 0.27659. Total time 0.34916 hours\n",
      "Training at Epoch 8 iteration 300 with loss 0.33897. Total time 0.35972 hours\n",
      "Validation at Epoch 8, AUROC: 0.85338 , AUPRC: 0.63283 , F1: 0.47624 , Cross-entropy Loss: 4.41317\n",
      "Training at Epoch 9 iteration 0 with loss 0.28003. Total time 0.37333 hours\n",
      "Training at Epoch 9 iteration 100 with loss 0.25825. Total time 0.38388 hours\n",
      "Training at Epoch 9 iteration 200 with loss 0.23401. Total time 0.39444 hours\n",
      "Training at Epoch 9 iteration 300 with loss 0.27177. Total time 0.405 hours\n",
      "Validation at Epoch 9, AUROC: 0.85348 , AUPRC: 0.63240 , F1: 0.42542 , Cross-entropy Loss: 4.45709\n",
      "Training at Epoch 10 iteration 0 with loss 0.27087. Total time 0.41833 hours\n",
      "Training at Epoch 10 iteration 100 with loss 0.32941. Total time 0.42888 hours\n",
      "Training at Epoch 10 iteration 200 with loss 0.28184. Total time 0.43972 hours\n",
      "Training at Epoch 10 iteration 300 with loss 0.31703. Total time 0.45 hours\n",
      "Validation at Epoch 10, AUROC: 0.85216 , AUPRC: 0.62770 , F1: 0.50873 , Cross-entropy Loss: 4.39364\n",
      "Training at Epoch 11 iteration 0 with loss 0.33141. Total time 0.46361 hours\n",
      "Training at Epoch 11 iteration 100 with loss 0.27367. Total time 0.47416 hours\n",
      "Training at Epoch 11 iteration 200 with loss 0.35466. Total time 0.48472 hours\n",
      "Training at Epoch 11 iteration 300 with loss 0.27538. Total time 0.49527 hours\n",
      "Validation at Epoch 11, AUROC: 0.85427 , AUPRC: 0.63297 , F1: 0.44347 , Cross-entropy Loss: 4.37410\n",
      "Training at Epoch 12 iteration 0 with loss 0.23846. Total time 0.50861 hours\n",
      "Training at Epoch 12 iteration 100 with loss 0.30181. Total time 0.51944 hours\n",
      "Training at Epoch 12 iteration 200 with loss 0.30145. Total time 0.52972 hours\n",
      "Training at Epoch 12 iteration 300 with loss 0.20361. Total time 0.54027 hours\n",
      "Validation at Epoch 12, AUROC: 0.85522 , AUPRC: 0.63091 , F1: 0.51513 , Cross-entropy Loss: 4.45711\n",
      "Training at Epoch 13 iteration 0 with loss 0.22363. Total time 0.55388 hours\n",
      "Training at Epoch 13 iteration 100 with loss 0.22781. Total time 0.56444 hours\n",
      "Training at Epoch 13 iteration 200 with loss 0.30503. Total time 0.575 hours\n",
      "Training at Epoch 13 iteration 300 with loss 0.35223. Total time 0.58555 hours\n",
      "Validation at Epoch 13, AUROC: 0.85469 , AUPRC: 0.63365 , F1: 0.46299 , Cross-entropy Loss: 4.42781\n",
      "Training at Epoch 14 iteration 0 with loss 0.31064. Total time 0.59916 hours\n",
      "Training at Epoch 14 iteration 100 with loss 0.24815. Total time 0.60944 hours\n",
      "Training at Epoch 14 iteration 200 with loss 0.38649. Total time 0.62 hours\n",
      "Training at Epoch 14 iteration 300 with loss 0.25551. Total time 0.63055 hours\n",
      "Validation at Epoch 14, AUROC: 0.85501 , AUPRC: 0.63145 , F1: 0.50220 , Cross-entropy Loss: 4.40341\n",
      "Training at Epoch 15 iteration 0 with loss 0.31025. Total time 0.64416 hours\n",
      "Training at Epoch 15 iteration 100 with loss 0.29174. Total time 0.65472 hours\n",
      "Training at Epoch 15 iteration 200 with loss 0.26347. Total time 0.665 hours\n",
      "Training at Epoch 15 iteration 300 with loss 0.16623. Total time 0.67555 hours\n",
      "Validation at Epoch 15, AUROC: 0.85384 , AUPRC: 0.62993 , F1: 0.45029 , Cross-entropy Loss: 4.48151\n",
      "Training at Epoch 16 iteration 0 with loss 0.30833. Total time 0.68916 hours\n",
      "Training at Epoch 16 iteration 100 with loss 0.38950. Total time 0.69972 hours\n",
      "Training at Epoch 16 iteration 200 with loss 0.33104. Total time 0.71 hours\n",
      "Training at Epoch 16 iteration 300 with loss 0.27392. Total time 0.72083 hours\n",
      "Validation at Epoch 16, AUROC: 0.85175 , AUPRC: 0.63428 , F1: 0.46702 , Cross-entropy Loss: 4.37899\n",
      "Training at Epoch 17 iteration 0 with loss 0.35245. Total time 0.73416 hours\n",
      "Training at Epoch 17 iteration 100 with loss 0.29613. Total time 0.74472 hours\n",
      "Training at Epoch 17 iteration 200 with loss 0.24141. Total time 0.755 hours\n",
      "Training at Epoch 17 iteration 300 with loss 0.25426. Total time 0.76555 hours\n",
      "Validation at Epoch 17, AUROC: 0.85503 , AUPRC: 0.64078 , F1: 0.48421 , Cross-entropy Loss: 4.30576\n",
      "Training at Epoch 18 iteration 0 with loss 0.32701. Total time 0.77944 hours\n",
      "Training at Epoch 18 iteration 100 with loss 0.26027. Total time 0.79 hours\n",
      "Training at Epoch 18 iteration 200 with loss 0.40343. Total time 0.80083 hours\n",
      "Training at Epoch 18 iteration 300 with loss 0.30078. Total time 0.81138 hours\n",
      "Validation at Epoch 18, AUROC: 0.85561 , AUPRC: 0.63334 , F1: 0.52452 , Cross-entropy Loss: 4.35459\n",
      "Training at Epoch 19 iteration 0 with loss 0.22015. Total time 0.825 hours\n",
      "Training at Epoch 19 iteration 100 with loss 0.34241. Total time 0.83555 hours\n",
      "Training at Epoch 19 iteration 200 with loss 0.22534. Total time 0.84611 hours\n",
      "Training at Epoch 19 iteration 300 with loss 0.27876. Total time 0.85638 hours\n",
      "Validation at Epoch 19, AUROC: 0.85405 , AUPRC: 0.63506 , F1: 0.44251 , Cross-entropy Loss: 4.37899\n",
      "Training at Epoch 20 iteration 0 with loss 0.25275. Total time 0.87 hours\n",
      "Training at Epoch 20 iteration 100 with loss 0.22722. Total time 0.88055 hours\n",
      "Training at Epoch 20 iteration 200 with loss 0.32132. Total time 0.89083 hours\n",
      "Training at Epoch 20 iteration 300 with loss 0.17562. Total time 0.90138 hours\n",
      "Validation at Epoch 20, AUROC: 0.85382 , AUPRC: 0.63331 , F1: 0.49519 , Cross-entropy Loss: 4.35947\n",
      "Training at Epoch 21 iteration 0 with loss 0.29922. Total time 0.91555 hours\n",
      "Training at Epoch 21 iteration 100 with loss 0.25198. Total time 0.92611 hours\n",
      "Training at Epoch 21 iteration 200 with loss 0.24527. Total time 0.93666 hours\n",
      "Training at Epoch 21 iteration 300 with loss 0.36123. Total time 0.94722 hours\n",
      "Validation at Epoch 21, AUROC: 0.85482 , AUPRC: 0.63702 , F1: 0.43698 , Cross-entropy Loss: 4.33993\n",
      "Training at Epoch 22 iteration 0 with loss 0.33358. Total time 0.96083 hours\n",
      "Training at Epoch 22 iteration 100 with loss 0.26992. Total time 0.97111 hours\n",
      "Training at Epoch 22 iteration 200 with loss 0.22073. Total time 0.98166 hours\n",
      "Training at Epoch 22 iteration 300 with loss 0.37179. Total time 0.99222 hours\n",
      "Validation at Epoch 22, AUROC: 0.85444 , AUPRC: 0.63543 , F1: 0.51839 , Cross-entropy Loss: 4.34483\n",
      "Training at Epoch 23 iteration 0 with loss 0.38425. Total time 1.00583 hours\n",
      "Training at Epoch 23 iteration 100 with loss 0.27228. Total time 1.01611 hours\n",
      "Training at Epoch 23 iteration 200 with loss 0.24826. Total time 1.02666 hours\n",
      "Training at Epoch 23 iteration 300 with loss 0.23419. Total time 1.03722 hours\n",
      "Validation at Epoch 23, AUROC: 0.85423 , AUPRC: 0.63677 , F1: 0.50365 , Cross-entropy Loss: 4.31065\n",
      "Training at Epoch 24 iteration 0 with loss 0.26078. Total time 1.05083 hours\n",
      "Training at Epoch 24 iteration 100 with loss 0.26948. Total time 1.06111 hours\n",
      "Training at Epoch 24 iteration 200 with loss 0.29178. Total time 1.07166 hours\n",
      "Training at Epoch 24 iteration 300 with loss 0.27404. Total time 1.08222 hours\n",
      "Validation at Epoch 24, AUROC: 0.85565 , AUPRC: 0.63434 , F1: 0.46023 , Cross-entropy Loss: 4.33993\n",
      "Training at Epoch 25 iteration 0 with loss 0.28584. Total time 1.09555 hours\n",
      "Training at Epoch 25 iteration 100 with loss 0.23397. Total time 1.10611 hours\n",
      "Training at Epoch 25 iteration 200 with loss 0.32435. Total time 1.11666 hours\n",
      "Training at Epoch 25 iteration 300 with loss 0.41976. Total time 1.12722 hours\n",
      "Validation at Epoch 25, AUROC: 0.85139 , AUPRC: 0.63500 , F1: 0.51129 , Cross-entropy Loss: 4.33018\n",
      "Training at Epoch 26 iteration 0 with loss 0.34813. Total time 1.14083 hours\n",
      "Training at Epoch 26 iteration 100 with loss 0.27809. Total time 1.15138 hours\n",
      "Training at Epoch 26 iteration 200 with loss 0.25859. Total time 1.16166 hours\n",
      "Training at Epoch 26 iteration 300 with loss 0.34781. Total time 1.17222 hours\n",
      "Validation at Epoch 26, AUROC: 0.85480 , AUPRC: 0.63421 , F1: 0.50085 , Cross-entropy Loss: 4.29112\n",
      "Training at Epoch 27 iteration 0 with loss 0.37448. Total time 1.18583 hours\n",
      "Training at Epoch 27 iteration 100 with loss 0.27554. Total time 1.19611 hours\n",
      "Training at Epoch 27 iteration 200 with loss 0.30640. Total time 1.20666 hours\n",
      "Training at Epoch 27 iteration 300 with loss 0.33358. Total time 1.21722 hours\n",
      "Validation at Epoch 27, AUROC: 0.85821 , AUPRC: 0.63738 , F1: 0.49630 , Cross-entropy Loss: 4.33018\n",
      "Training at Epoch 28 iteration 0 with loss 0.19380. Total time 1.23083 hours\n",
      "Training at Epoch 28 iteration 100 with loss 0.33799. Total time 1.24138 hours\n",
      "Training at Epoch 28 iteration 200 with loss 0.23951. Total time 1.25194 hours\n",
      "Training at Epoch 28 iteration 300 with loss 0.31541. Total time 1.26222 hours\n",
      "Validation at Epoch 28, AUROC: 0.85627 , AUPRC: 0.63937 , F1: 0.51052 , Cross-entropy Loss: 4.31553\n",
      "Training at Epoch 29 iteration 0 with loss 0.27637. Total time 1.27583 hours\n",
      "Training at Epoch 29 iteration 100 with loss 0.22208. Total time 1.28638 hours\n",
      "Training at Epoch 29 iteration 200 with loss 0.27749. Total time 1.29694 hours\n",
      "Training at Epoch 29 iteration 300 with loss 0.29125. Total time 1.3075 hours\n",
      "Validation at Epoch 29, AUROC: 0.85303 , AUPRC: 0.63237 , F1: 0.50660 , Cross-entropy Loss: 4.37412\n",
      "Training at Epoch 30 iteration 0 with loss 0.27769. Total time 1.32111 hours\n",
      "Training at Epoch 30 iteration 100 with loss 0.35186. Total time 1.33138 hours\n",
      "Training at Epoch 30 iteration 200 with loss 0.23179. Total time 1.34194 hours\n",
      "Training at Epoch 30 iteration 300 with loss 0.33453. Total time 1.3525 hours\n",
      "Validation at Epoch 30, AUROC: 0.84549 , AUPRC: 0.62745 , F1: 0.40832 , Cross-entropy Loss: 4.44245\n",
      "Training at Epoch 31 iteration 0 with loss 0.28810. Total time 1.36611 hours\n",
      "Training at Epoch 31 iteration 100 with loss 0.26649. Total time 1.37666 hours\n",
      "Training at Epoch 31 iteration 200 with loss 0.23423. Total time 1.38722 hours\n",
      "Training at Epoch 31 iteration 300 with loss 0.26818. Total time 1.39777 hours\n",
      "Validation at Epoch 31, AUROC: 0.85443 , AUPRC: 0.63829 , F1: 0.40959 , Cross-entropy Loss: 4.44733\n",
      "Training at Epoch 32 iteration 0 with loss 0.30937. Total time 1.41111 hours\n",
      "Training at Epoch 32 iteration 100 with loss 0.30093. Total time 1.42166 hours\n",
      "Training at Epoch 32 iteration 200 with loss 0.30065. Total time 1.43222 hours\n",
      "Training at Epoch 32 iteration 300 with loss 0.29504. Total time 1.4425 hours\n",
      "Validation at Epoch 32, AUROC: 0.85541 , AUPRC: 0.63580 , F1: 0.38249 , Cross-entropy Loss: 4.47662\n",
      "Training at Epoch 33 iteration 0 with loss 0.24390. Total time 1.45611 hours\n",
      "Training at Epoch 33 iteration 100 with loss 0.25109. Total time 1.46666 hours\n",
      "Training at Epoch 33 iteration 200 with loss 0.34697. Total time 1.47694 hours\n",
      "Training at Epoch 33 iteration 300 with loss 0.25308. Total time 1.4875 hours\n",
      "Validation at Epoch 33, AUROC: 0.85507 , AUPRC: 0.63423 , F1: 0.41423 , Cross-entropy Loss: 4.41804\n",
      "Training at Epoch 34 iteration 0 with loss 0.29956. Total time 1.50111 hours\n",
      "Training at Epoch 34 iteration 100 with loss 0.24966. Total time 1.51138 hours\n",
      "Training at Epoch 34 iteration 200 with loss 0.29038. Total time 1.52194 hours\n",
      "Training at Epoch 34 iteration 300 with loss 0.32840. Total time 1.5325 hours\n",
      "Validation at Epoch 34, AUROC: 0.85507 , AUPRC: 0.63373 , F1: 0.34825 , Cross-entropy Loss: 4.54984\n",
      "Training at Epoch 35 iteration 0 with loss 0.24868. Total time 1.54583 hours\n",
      "Training at Epoch 35 iteration 100 with loss 0.38522. Total time 1.55638 hours\n",
      "Training at Epoch 35 iteration 200 with loss 0.30359. Total time 1.56694 hours\n",
      "Training at Epoch 35 iteration 300 with loss 0.29523. Total time 1.5775 hours\n",
      "Validation at Epoch 35, AUROC: 0.85347 , AUPRC: 0.63602 , F1: 0.39496 , Cross-entropy Loss: 4.45709\n",
      "Training at Epoch 36 iteration 0 with loss 0.30719. Total time 1.59083 hours\n",
      "Training at Epoch 36 iteration 100 with loss 0.27969. Total time 1.60138 hours\n",
      "Training at Epoch 36 iteration 200 with loss 0.22377. Total time 1.61194 hours\n",
      "Training at Epoch 36 iteration 300 with loss 0.26903. Total time 1.62222 hours\n",
      "Validation at Epoch 36, AUROC: 0.85387 , AUPRC: 0.63350 , F1: 0.39787 , Cross-entropy Loss: 4.41803\n",
      "Training at Epoch 37 iteration 0 with loss 0.31619. Total time 1.63583 hours\n",
      "Training at Epoch 37 iteration 100 with loss 0.30959. Total time 1.64638 hours\n",
      "Training at Epoch 37 iteration 200 with loss 0.27939. Total time 1.65694 hours\n",
      "Training at Epoch 37 iteration 300 with loss 0.38542. Total time 1.66722 hours\n",
      "Validation at Epoch 37, AUROC: 0.85398 , AUPRC: 0.63513 , F1: 0.49687 , Cross-entropy Loss: 4.32041\n",
      "Training at Epoch 38 iteration 0 with loss 0.33751. Total time 1.68083 hours\n",
      "Training at Epoch 38 iteration 100 with loss 0.35918. Total time 1.69138 hours\n",
      "Training at Epoch 38 iteration 200 with loss 0.25240. Total time 1.70166 hours\n",
      "Training at Epoch 38 iteration 300 with loss 0.25506. Total time 1.71222 hours\n",
      "Validation at Epoch 38, AUROC: 0.85666 , AUPRC: 0.64066 , F1: 0.45049 , Cross-entropy Loss: 4.33505\n",
      "Training at Epoch 39 iteration 0 with loss 0.24301. Total time 1.72583 hours\n",
      "Training at Epoch 39 iteration 100 with loss 0.22480. Total time 1.73611 hours\n",
      "Training at Epoch 39 iteration 200 with loss 0.32752. Total time 1.74666 hours\n",
      "Training at Epoch 39 iteration 300 with loss 0.27236. Total time 1.75722 hours\n",
      "Validation at Epoch 39, AUROC: 0.85255 , AUPRC: 0.63484 , F1: 0.41948 , Cross-entropy Loss: 4.36434\n",
      "Training at Epoch 40 iteration 0 with loss 0.33153. Total time 1.77055 hours\n",
      "Training at Epoch 40 iteration 100 with loss 0.24739. Total time 1.78111 hours\n",
      "Training at Epoch 40 iteration 200 with loss 0.19470. Total time 1.79166 hours\n",
      "Training at Epoch 40 iteration 300 with loss 0.25883. Total time 1.80194 hours\n",
      "Validation at Epoch 40, AUROC: 0.85296 , AUPRC: 0.63542 , F1: 0.44194 , Cross-entropy Loss: 4.36434\n",
      "Training at Epoch 41 iteration 0 with loss 0.24516. Total time 1.81555 hours\n",
      "Training at Epoch 41 iteration 100 with loss 0.27882. Total time 1.82611 hours\n",
      "Training at Epoch 41 iteration 200 with loss 0.19732. Total time 1.83638 hours\n",
      "Training at Epoch 41 iteration 300 with loss 0.31567. Total time 1.84694 hours\n",
      "Validation at Epoch 41, AUROC: 0.85513 , AUPRC: 0.64036 , F1: 0.36225 , Cross-entropy Loss: 4.52055\n",
      "Training at Epoch 42 iteration 0 with loss 0.33696. Total time 1.86055 hours\n",
      "Training at Epoch 42 iteration 100 with loss 0.25136. Total time 1.87083 hours\n",
      "Training at Epoch 42 iteration 200 with loss 0.27334. Total time 1.88138 hours\n",
      "Training at Epoch 42 iteration 300 with loss 0.30746. Total time 1.89194 hours\n",
      "Validation at Epoch 42, AUROC: 0.85584 , AUPRC: 0.63796 , F1: 0.44540 , Cross-entropy Loss: 4.36434\n",
      "Training at Epoch 43 iteration 0 with loss 0.27318. Total time 1.90527 hours\n",
      "Training at Epoch 43 iteration 100 with loss 0.27495. Total time 1.91583 hours\n",
      "Training at Epoch 43 iteration 200 with loss 0.45600. Total time 1.92638 hours\n",
      "Training at Epoch 43 iteration 300 with loss 0.25867. Total time 1.93666 hours\n",
      "Validation at Epoch 43, AUROC: 0.85456 , AUPRC: 0.63251 , F1: 0.49780 , Cross-entropy Loss: 4.47175\n",
      "Training at Epoch 44 iteration 0 with loss 0.28200. Total time 1.95027 hours\n",
      "Training at Epoch 44 iteration 100 with loss 0.25552. Total time 1.96083 hours\n",
      "Training at Epoch 44 iteration 200 with loss 0.31551. Total time 1.97111 hours\n",
      "Training at Epoch 44 iteration 300 with loss 0.26364. Total time 1.98166 hours\n",
      "Validation at Epoch 44, AUROC: 0.85549 , AUPRC: 0.63710 , F1: 0.48247 , Cross-entropy Loss: 4.32529\n",
      "Training at Epoch 45 iteration 0 with loss 0.34705. Total time 1.99527 hours\n",
      "Training at Epoch 45 iteration 100 with loss 0.25470. Total time 2.00555 hours\n",
      "Training at Epoch 45 iteration 200 with loss 0.21216. Total time 2.01611 hours\n",
      "Training at Epoch 45 iteration 300 with loss 0.24108. Total time 2.02666 hours\n",
      "Validation at Epoch 45, AUROC: 0.85274 , AUPRC: 0.63536 , F1: 0.48772 , Cross-entropy Loss: 4.37899\n",
      "Training at Epoch 46 iteration 0 with loss 0.26313. Total time 2.04 hours\n",
      "Training at Epoch 46 iteration 100 with loss 0.25831. Total time 2.05055 hours\n",
      "Training at Epoch 46 iteration 200 with loss 0.33338. Total time 2.06111 hours\n",
      "Training at Epoch 46 iteration 300 with loss 0.35717. Total time 2.07166 hours\n",
      "Validation at Epoch 46, AUROC: 0.85381 , AUPRC: 0.63471 , F1: 0.43396 , Cross-entropy Loss: 4.39363\n",
      "Training at Epoch 47 iteration 0 with loss 0.21204. Total time 2.085 hours\n",
      "Training at Epoch 47 iteration 100 with loss 0.26377. Total time 2.09555 hours\n",
      "Training at Epoch 47 iteration 200 with loss 0.25331. Total time 2.10611 hours\n",
      "Training at Epoch 47 iteration 300 with loss 0.26070. Total time 2.11666 hours\n",
      "Validation at Epoch 47, AUROC: 0.85602 , AUPRC: 0.63814 , F1: 0.42848 , Cross-entropy Loss: 4.38875\n",
      "Training at Epoch 48 iteration 0 with loss 0.27271. Total time 2.13055 hours\n",
      "Training at Epoch 48 iteration 100 with loss 0.25165. Total time 2.14138 hours\n",
      "Training at Epoch 48 iteration 200 with loss 0.21034. Total time 2.15222 hours\n",
      "Training at Epoch 48 iteration 300 with loss 0.25450. Total time 2.16277 hours\n",
      "Validation at Epoch 48, AUROC: 0.85349 , AUPRC: 0.63524 , F1: 0.54048 , Cross-entropy Loss: 4.26672\n",
      "Training at Epoch 49 iteration 0 with loss 0.16167. Total time 2.17694 hours\n",
      "Training at Epoch 49 iteration 100 with loss 0.25161. Total time 2.18777 hours\n",
      "Training at Epoch 49 iteration 200 with loss 0.31198. Total time 2.19833 hours\n",
      "Training at Epoch 49 iteration 300 with loss 0.24216. Total time 2.20916 hours\n",
      "Validation at Epoch 49, AUROC: 0.85459 , AUPRC: 0.63731 , F1: 0.42071 , Cross-entropy Loss: 4.36922\n",
      "Training at Epoch 50 iteration 0 with loss 0.29105. Total time 2.22333 hours\n",
      "Training at Epoch 50 iteration 100 with loss 0.34599. Total time 2.23388 hours\n",
      "Training at Epoch 50 iteration 200 with loss 0.20947. Total time 2.24472 hours\n",
      "Training at Epoch 50 iteration 300 with loss 0.19306. Total time 2.25555 hours\n",
      "Validation at Epoch 50, AUROC: 0.85406 , AUPRC: 0.63847 , F1: 0.43362 , Cross-entropy Loss: 4.37410\n",
      "Training at Epoch 51 iteration 0 with loss 0.29666. Total time 2.26972 hours\n",
      "Training at Epoch 51 iteration 100 with loss 0.26399. Total time 2.28027 hours\n",
      "Training at Epoch 51 iteration 200 with loss 0.29094. Total time 2.29055 hours\n",
      "Training at Epoch 51 iteration 300 with loss 0.25241. Total time 2.30111 hours\n",
      "Validation at Epoch 51, AUROC: 0.85344 , AUPRC: 0.63681 , F1: 0.49686 , Cross-entropy Loss: 4.31065\n",
      "Training at Epoch 52 iteration 0 with loss 0.24734. Total time 2.315 hours\n",
      "Training at Epoch 52 iteration 100 with loss 0.32662. Total time 2.32583 hours\n",
      "Training at Epoch 52 iteration 200 with loss 0.26224. Total time 2.33666 hours\n",
      "Training at Epoch 52 iteration 300 with loss 0.32374. Total time 2.34722 hours\n",
      "Validation at Epoch 52, AUROC: 0.85376 , AUPRC: 0.63443 , F1: 0.42649 , Cross-entropy Loss: 4.43757\n",
      "Training at Epoch 53 iteration 0 with loss 0.28843. Total time 2.36138 hours\n",
      "Training at Epoch 53 iteration 100 with loss 0.35683. Total time 2.37222 hours\n",
      "Training at Epoch 53 iteration 200 with loss 0.18693. Total time 2.38277 hours\n",
      "Training at Epoch 53 iteration 300 with loss 0.32548. Total time 2.39361 hours\n",
      "Validation at Epoch 53, AUROC: 0.85294 , AUPRC: 0.63174 , F1: 0.39814 , Cross-entropy Loss: 4.42780\n",
      "Training at Epoch 54 iteration 0 with loss 0.25461. Total time 2.40777 hours\n",
      "Training at Epoch 54 iteration 100 with loss 0.20162. Total time 2.41861 hours\n",
      "Training at Epoch 54 iteration 200 with loss 0.21421. Total time 2.42916 hours\n",
      "Training at Epoch 54 iteration 300 with loss 0.32714. Total time 2.44 hours\n",
      "Validation at Epoch 54, AUROC: 0.85429 , AUPRC: 0.63643 , F1: 0.43284 , Cross-entropy Loss: 4.34969\n",
      "Training at Epoch 55 iteration 0 with loss 0.32880. Total time 2.45388 hours\n",
      "Training at Epoch 55 iteration 100 with loss 0.27685. Total time 2.46472 hours\n",
      "Training at Epoch 55 iteration 200 with loss 0.28831. Total time 2.47555 hours\n",
      "Training at Epoch 55 iteration 300 with loss 0.30350. Total time 2.48611 hours\n",
      "Validation at Epoch 55, AUROC: 0.85422 , AUPRC: 0.63804 , F1: 0.38791 , Cross-entropy Loss: 4.45221\n",
      "Training at Epoch 56 iteration 0 with loss 0.34870. Total time 2.49972 hours\n",
      "Training at Epoch 56 iteration 100 with loss 0.24457. Total time 2.51 hours\n",
      "Training at Epoch 56 iteration 200 with loss 0.40371. Total time 2.52055 hours\n",
      "Training at Epoch 56 iteration 300 with loss 0.25760. Total time 2.53083 hours\n",
      "Validation at Epoch 56, AUROC: 0.85521 , AUPRC: 0.63860 , F1: 0.39414 , Cross-entropy Loss: 4.44244\n",
      "Training at Epoch 57 iteration 0 with loss 0.25621. Total time 2.54444 hours\n",
      "Training at Epoch 57 iteration 100 with loss 0.32279. Total time 2.555 hours\n",
      "Training at Epoch 57 iteration 200 with loss 0.24043. Total time 2.56527 hours\n",
      "Training at Epoch 57 iteration 300 with loss 0.34309. Total time 2.57583 hours\n",
      "Validation at Epoch 57, AUROC: 0.85467 , AUPRC: 0.63735 , F1: 0.42964 , Cross-entropy Loss: 4.43269\n",
      "Training at Epoch 58 iteration 0 with loss 0.23361. Total time 2.58944 hours\n",
      "Training at Epoch 58 iteration 100 with loss 0.31070. Total time 2.59972 hours\n",
      "Training at Epoch 58 iteration 200 with loss 0.23523. Total time 2.61027 hours\n",
      "Training at Epoch 58 iteration 300 with loss 0.22614. Total time 2.62055 hours\n",
      "Validation at Epoch 58, AUROC: 0.85642 , AUPRC: 0.63745 , F1: 0.47511 , Cross-entropy Loss: 4.32529\n",
      "Training at Epoch 59 iteration 0 with loss 0.24481. Total time 2.63416 hours\n",
      "Training at Epoch 59 iteration 100 with loss 0.34413. Total time 2.64444 hours\n",
      "Training at Epoch 59 iteration 200 with loss 0.49504. Total time 2.655 hours\n",
      "Training at Epoch 59 iteration 300 with loss 0.23352. Total time 2.66555 hours\n",
      "Validation at Epoch 59, AUROC: 0.85319 , AUPRC: 0.60274 , F1: 0.49575 , Cross-entropy Loss: 4.34970\n",
      "Training at Epoch 60 iteration 0 with loss 0.31687. Total time 2.67888 hours\n",
      "Training at Epoch 60 iteration 100 with loss 0.29764. Total time 2.68944 hours\n",
      "Training at Epoch 60 iteration 200 with loss 0.29051. Total time 2.69972 hours\n",
      "Training at Epoch 60 iteration 300 with loss 0.54300. Total time 2.71027 hours\n",
      "Validation at Epoch 60, AUROC: 0.84835 , AUPRC: 0.60787 , F1: 0.42600 , Cross-entropy Loss: 4.52544\n",
      "Training at Epoch 61 iteration 0 with loss 0.28735. Total time 2.72388 hours\n",
      "Training at Epoch 61 iteration 100 with loss 0.27282. Total time 2.73416 hours\n",
      "Training at Epoch 61 iteration 200 with loss 0.29311. Total time 2.74472 hours\n",
      "Training at Epoch 61 iteration 300 with loss 0.34035. Total time 2.75527 hours\n",
      "Validation at Epoch 61, AUROC: 0.85409 , AUPRC: 0.62774 , F1: 0.46116 , Cross-entropy Loss: 4.33505\n",
      "Training at Epoch 62 iteration 0 with loss 0.38238. Total time 2.76861 hours\n",
      "Training at Epoch 62 iteration 100 with loss 0.20935. Total time 2.77916 hours\n",
      "Training at Epoch 62 iteration 200 with loss 0.23065. Total time 2.78972 hours\n",
      "Training at Epoch 62 iteration 300 with loss 0.33074. Total time 2.80027 hours\n",
      "Validation at Epoch 62, AUROC: 0.85592 , AUPRC: 0.63724 , F1: 0.49629 , Cross-entropy Loss: 4.31065\n",
      "Training at Epoch 63 iteration 0 with loss 0.35489. Total time 2.81416 hours\n",
      "Training at Epoch 63 iteration 100 with loss 0.31344. Total time 2.825 hours\n",
      "Training at Epoch 63 iteration 200 with loss 0.36579. Total time 2.83583 hours\n",
      "Training at Epoch 63 iteration 300 with loss 0.26852. Total time 2.84638 hours\n",
      "Validation at Epoch 63, AUROC: 0.85533 , AUPRC: 0.63883 , F1: 0.43615 , Cross-entropy Loss: 4.35458\n",
      "Training at Epoch 64 iteration 0 with loss 0.31438. Total time 2.86055 hours\n",
      "Training at Epoch 64 iteration 100 with loss 0.26224. Total time 2.87138 hours\n",
      "Training at Epoch 64 iteration 200 with loss 0.26899. Total time 2.88222 hours\n",
      "Training at Epoch 64 iteration 300 with loss 0.28721. Total time 2.89305 hours\n",
      "Validation at Epoch 64, AUROC: 0.85341 , AUPRC: 0.63865 , F1: 0.43157 , Cross-entropy Loss: 4.35946\n",
      "Training at Epoch 65 iteration 0 with loss 0.30385. Total time 2.90694 hours\n",
      "Training at Epoch 65 iteration 100 with loss 0.24409. Total time 2.91777 hours\n",
      "Training at Epoch 65 iteration 200 with loss 0.22571. Total time 2.92833 hours\n",
      "Training at Epoch 65 iteration 300 with loss 0.28466. Total time 2.93888 hours\n",
      "Validation at Epoch 65, AUROC: 0.85214 , AUPRC: 0.62917 , F1: 0.41018 , Cross-entropy Loss: 4.40827\n",
      "Training at Epoch 66 iteration 0 with loss 0.20779. Total time 2.9525 hours\n",
      "Training at Epoch 66 iteration 100 with loss 0.31703. Total time 2.96305 hours\n",
      "Training at Epoch 66 iteration 200 with loss 0.38019. Total time 2.97361 hours\n",
      "Training at Epoch 66 iteration 300 with loss 0.24492. Total time 2.98444 hours\n",
      "Validation at Epoch 66, AUROC: 0.85233 , AUPRC: 0.63605 , F1: 0.39060 , Cross-entropy Loss: 4.43268\n",
      "Training at Epoch 67 iteration 0 with loss 0.38419. Total time 2.99861 hours\n",
      "Training at Epoch 67 iteration 100 with loss 0.28833. Total time 3.00944 hours\n",
      "Training at Epoch 67 iteration 200 with loss 0.32614. Total time 3.02027 hours\n",
      "Training at Epoch 67 iteration 300 with loss 0.24439. Total time 3.03083 hours\n",
      "Validation at Epoch 67, AUROC: 0.85462 , AUPRC: 0.64077 , F1: 0.36838 , Cross-entropy Loss: 4.48638\n",
      "Training at Epoch 68 iteration 0 with loss 0.25349. Total time 3.045 hours\n",
      "Training at Epoch 68 iteration 100 with loss 0.28203. Total time 3.05555 hours\n",
      "Training at Epoch 68 iteration 200 with loss 0.24866. Total time 3.06638 hours\n",
      "Training at Epoch 68 iteration 300 with loss 0.27595. Total time 3.07722 hours\n",
      "Validation at Epoch 68, AUROC: 0.85372 , AUPRC: 0.63334 , F1: 0.43746 , Cross-entropy Loss: 4.36922\n",
      "Training at Epoch 69 iteration 0 with loss 0.30267. Total time 3.09138 hours\n",
      "Training at Epoch 69 iteration 100 with loss 0.29835. Total time 3.10194 hours\n",
      "Training at Epoch 69 iteration 200 with loss 0.36977. Total time 3.1125 hours\n",
      "Training at Epoch 69 iteration 300 with loss 0.30645. Total time 3.12305 hours\n",
      "Validation at Epoch 69, AUROC: 0.85392 , AUPRC: 0.63561 , F1: 0.46718 , Cross-entropy Loss: 4.32041\n",
      "Training at Epoch 70 iteration 0 with loss 0.25484. Total time 3.13666 hours\n",
      "Training at Epoch 70 iteration 100 with loss 0.22746. Total time 3.14722 hours\n",
      "Training at Epoch 70 iteration 200 with loss 0.33029. Total time 3.15805 hours\n",
      "Training at Epoch 70 iteration 300 with loss 0.34282. Total time 3.16888 hours\n",
      "Validation at Epoch 70, AUROC: 0.85353 , AUPRC: 0.63368 , F1: 0.42506 , Cross-entropy Loss: 4.34481\n",
      "Training at Epoch 71 iteration 0 with loss 0.39944. Total time 3.18305 hours\n",
      "Training at Epoch 71 iteration 100 with loss 0.33172. Total time 3.19388 hours\n",
      "Training at Epoch 71 iteration 200 with loss 0.20826. Total time 3.20444 hours\n",
      "Training at Epoch 71 iteration 300 with loss 0.22271. Total time 3.21527 hours\n",
      "Validation at Epoch 71, AUROC: 0.85302 , AUPRC: 0.63243 , F1: 0.48516 , Cross-entropy Loss: 4.32041\n",
      "Training at Epoch 72 iteration 0 with loss 0.30602. Total time 3.22916 hours\n",
      "Training at Epoch 72 iteration 100 with loss 0.27049. Total time 3.23944 hours\n",
      "Training at Epoch 72 iteration 200 with loss 0.32706. Total time 3.25 hours\n",
      "Training at Epoch 72 iteration 300 with loss 0.27438. Total time 3.26055 hours\n",
      "Validation at Epoch 72, AUROC: 0.85117 , AUPRC: 0.62973 , F1: 0.37712 , Cross-entropy Loss: 4.46685\n",
      "Training at Epoch 73 iteration 0 with loss 0.19285. Total time 3.27416 hours\n",
      "Training at Epoch 73 iteration 100 with loss 0.30341. Total time 3.28472 hours\n",
      "Training at Epoch 73 iteration 200 with loss 0.33539. Total time 3.295 hours\n",
      "Training at Epoch 73 iteration 300 with loss 0.24170. Total time 3.30555 hours\n",
      "Validation at Epoch 73, AUROC: 0.85456 , AUPRC: 0.63622 , F1: 0.43890 , Cross-entropy Loss: 4.39363\n",
      "Training at Epoch 74 iteration 0 with loss 0.35599. Total time 3.31916 hours\n",
      "Training at Epoch 74 iteration 100 with loss 0.27550. Total time 3.32972 hours\n",
      "Training at Epoch 74 iteration 200 with loss 0.29623. Total time 3.34 hours\n",
      "Training at Epoch 74 iteration 300 with loss 0.25582. Total time 3.35055 hours\n",
      "Validation at Epoch 74, AUROC: 0.85419 , AUPRC: 0.63807 , F1: 0.47719 , Cross-entropy Loss: 4.36435\n",
      "Training at Epoch 75 iteration 0 with loss 0.35275. Total time 3.36416 hours\n",
      "Training at Epoch 75 iteration 100 with loss 0.25472. Total time 3.37444 hours\n",
      "Training at Epoch 75 iteration 200 with loss 0.30095. Total time 3.385 hours\n",
      "Training at Epoch 75 iteration 300 with loss 0.31376. Total time 3.39555 hours\n",
      "Validation at Epoch 75, AUROC: 0.85148 , AUPRC: 0.63294 , F1: 0.44785 , Cross-entropy Loss: 4.39363\n",
      "Training at Epoch 76 iteration 0 with loss 0.34961. Total time 3.40916 hours\n",
      "Training at Epoch 76 iteration 100 with loss 0.34547. Total time 3.41944 hours\n",
      "Training at Epoch 76 iteration 200 with loss 0.27905. Total time 3.43 hours\n",
      "Training at Epoch 76 iteration 300 with loss 0.21357. Total time 3.44055 hours\n",
      "Validation at Epoch 76, AUROC: 0.85034 , AUPRC: 0.63731 , F1: 0.41292 , Cross-entropy Loss: 4.34481\n",
      "Training at Epoch 77 iteration 0 with loss 0.26687. Total time 3.45388 hours\n",
      "Training at Epoch 77 iteration 100 with loss 0.38077. Total time 3.46472 hours\n",
      "Training at Epoch 77 iteration 200 with loss 0.32195. Total time 3.47527 hours\n",
      "Training at Epoch 77 iteration 300 with loss 0.23985. Total time 3.48555 hours\n",
      "Validation at Epoch 77, AUROC: 0.85399 , AUPRC: 0.64277 , F1: 0.44597 , Cross-entropy Loss: 4.33017\n",
      "Training at Epoch 78 iteration 0 with loss 0.33119. Total time 3.49916 hours\n",
      "Training at Epoch 78 iteration 100 with loss 0.26372. Total time 3.50972 hours\n",
      "Training at Epoch 78 iteration 200 with loss 0.34193. Total time 3.52 hours\n",
      "Training at Epoch 78 iteration 300 with loss 0.30196. Total time 3.53055 hours\n",
      "Validation at Epoch 78, AUROC: 0.85442 , AUPRC: 0.64162 , F1: 0.47539 , Cross-entropy Loss: 4.26671\n",
      "Training at Epoch 79 iteration 0 with loss 0.34375. Total time 3.54416 hours\n",
      "Training at Epoch 79 iteration 100 with loss 0.27711. Total time 3.55472 hours\n",
      "Training at Epoch 79 iteration 200 with loss 0.32775. Total time 3.565 hours\n",
      "Training at Epoch 79 iteration 300 with loss 0.26634. Total time 3.57555 hours\n",
      "Validation at Epoch 79, AUROC: 0.85346 , AUPRC: 0.63329 , F1: 0.43511 , Cross-entropy Loss: 4.33505\n",
      "Training at Epoch 80 iteration 0 with loss 0.35217. Total time 3.58916 hours\n",
      "Training at Epoch 80 iteration 100 with loss 0.26680. Total time 3.59944 hours\n",
      "Training at Epoch 80 iteration 200 with loss 0.30435. Total time 3.61 hours\n",
      "Training at Epoch 80 iteration 300 with loss 0.23537. Total time 3.62055 hours\n",
      "Validation at Epoch 80, AUROC: 0.85513 , AUPRC: 0.63841 , F1: 0.43246 , Cross-entropy Loss: 4.36922\n",
      "Training at Epoch 81 iteration 0 with loss 0.32857. Total time 3.63416 hours\n",
      "Training at Epoch 81 iteration 100 with loss 0.31947. Total time 3.64444 hours\n",
      "Training at Epoch 81 iteration 200 with loss 0.33112. Total time 3.655 hours\n",
      "Training at Epoch 81 iteration 300 with loss 0.23307. Total time 3.66555 hours\n",
      "Validation at Epoch 81, AUROC: 0.85438 , AUPRC: 0.63926 , F1: 0.41839 , Cross-entropy Loss: 4.38386\n",
      "Training at Epoch 82 iteration 0 with loss 0.21928. Total time 3.67888 hours\n",
      "Training at Epoch 82 iteration 100 with loss 0.26808. Total time 3.68944 hours\n",
      "Training at Epoch 82 iteration 200 with loss 0.27686. Total time 3.7 hours\n",
      "Training at Epoch 82 iteration 300 with loss 0.26687. Total time 3.71055 hours\n",
      "Validation at Epoch 82, AUROC: 0.85487 , AUPRC: 0.63685 , F1: 0.38471 , Cross-entropy Loss: 4.48150\n",
      "Training at Epoch 83 iteration 0 with loss 0.22840. Total time 3.72472 hours\n",
      "Training at Epoch 83 iteration 100 with loss 0.39698. Total time 3.73527 hours\n",
      "Training at Epoch 83 iteration 200 with loss 0.31152. Total time 3.74611 hours\n",
      "Training at Epoch 83 iteration 300 with loss 0.36858. Total time 3.75694 hours\n",
      "Validation at Epoch 83, AUROC: 0.85528 , AUPRC: 0.63594 , F1: 0.51144 , Cross-entropy Loss: 4.27160\n",
      "Training at Epoch 84 iteration 0 with loss 0.28115. Total time 3.77055 hours\n",
      "Training at Epoch 84 iteration 100 with loss 0.31523. Total time 3.78111 hours\n",
      "Training at Epoch 84 iteration 200 with loss 0.24691. Total time 3.79138 hours\n",
      "Training at Epoch 84 iteration 300 with loss 0.28503. Total time 3.80222 hours\n",
      "Validation at Epoch 84, AUROC: 0.85545 , AUPRC: 0.63684 , F1: 0.53226 , Cross-entropy Loss: 4.28136\n",
      "Training at Epoch 85 iteration 0 with loss 0.19145. Total time 3.81555 hours\n",
      "Training at Epoch 85 iteration 100 with loss 0.30266. Total time 3.82611 hours\n",
      "Training at Epoch 85 iteration 200 with loss 0.35365. Total time 3.83666 hours\n",
      "Training at Epoch 85 iteration 300 with loss 0.35098. Total time 3.84722 hours\n",
      "Validation at Epoch 85, AUROC: 0.85221 , AUPRC: 0.63596 , F1: 0.50843 , Cross-entropy Loss: 4.26671\n",
      "Training at Epoch 86 iteration 0 with loss 0.31345. Total time 3.86055 hours\n",
      "Training at Epoch 86 iteration 100 with loss 0.28722. Total time 3.87111 hours\n",
      "Training at Epoch 86 iteration 200 with loss 0.21265. Total time 3.88166 hours\n",
      "Training at Epoch 86 iteration 300 with loss 0.22294. Total time 3.89222 hours\n",
      "Validation at Epoch 86, AUROC: 0.85428 , AUPRC: 0.63462 , F1: 0.45493 , Cross-entropy Loss: 4.33993\n",
      "Training at Epoch 87 iteration 0 with loss 0.21845. Total time 3.90555 hours\n",
      "Training at Epoch 87 iteration 100 with loss 0.29592. Total time 3.91611 hours\n",
      "Training at Epoch 87 iteration 200 with loss 0.29869. Total time 3.92666 hours\n",
      "Training at Epoch 87 iteration 300 with loss 0.24759. Total time 3.93722 hours\n",
      "Validation at Epoch 87, AUROC: 0.85629 , AUPRC: 0.63679 , F1: 0.49684 , Cross-entropy Loss: 4.28136\n",
      "Training at Epoch 88 iteration 0 with loss 0.31622. Total time 3.95055 hours\n",
      "Training at Epoch 88 iteration 100 with loss 0.34772. Total time 3.96111 hours\n",
      "Training at Epoch 88 iteration 200 with loss 0.28826. Total time 3.97166 hours\n",
      "Training at Epoch 88 iteration 300 with loss 0.28095. Total time 3.98222 hours\n",
      "Validation at Epoch 88, AUROC: 0.85338 , AUPRC: 0.63379 , F1: 0.38017 , Cross-entropy Loss: 4.45709\n",
      "Training at Epoch 89 iteration 0 with loss 0.32839. Total time 3.99583 hours\n",
      "Training at Epoch 89 iteration 100 with loss 0.30158. Total time 4.00611 hours\n",
      "Training at Epoch 89 iteration 200 with loss 0.42929. Total time 4.01666 hours\n",
      "Training at Epoch 89 iteration 300 with loss 0.30903. Total time 4.02722 hours\n",
      "Validation at Epoch 89, AUROC: 0.85371 , AUPRC: 0.63459 , F1: 0.42416 , Cross-entropy Loss: 4.37410\n",
      "Training at Epoch 90 iteration 0 with loss 0.28688. Total time 4.04083 hours\n",
      "Training at Epoch 90 iteration 100 with loss 0.30686. Total time 4.05111 hours\n",
      "Training at Epoch 90 iteration 200 with loss 0.28921. Total time 4.06166 hours\n",
      "Training at Epoch 90 iteration 300 with loss 0.35021. Total time 4.07222 hours\n",
      "Validation at Epoch 90, AUROC: 0.85303 , AUPRC: 0.63248 , F1: 0.39466 , Cross-entropy Loss: 4.43268\n",
      "Training at Epoch 91 iteration 0 with loss 0.24565. Total time 4.08583 hours\n",
      "Training at Epoch 91 iteration 100 with loss 0.31655. Total time 4.09611 hours\n",
      "Training at Epoch 91 iteration 200 with loss 0.27308. Total time 4.10666 hours\n",
      "Training at Epoch 91 iteration 300 with loss 0.32089. Total time 4.11722 hours\n",
      "Validation at Epoch 91, AUROC: 0.85423 , AUPRC: 0.63410 , F1: 0.50509 , Cross-entropy Loss: 4.26671\n",
      "Training at Epoch 92 iteration 0 with loss 0.25761. Total time 4.13083 hours\n",
      "Training at Epoch 92 iteration 100 with loss 0.30558. Total time 4.14111 hours\n",
      "Training at Epoch 92 iteration 200 with loss 0.27732. Total time 4.15166 hours\n",
      "Training at Epoch 92 iteration 300 with loss 0.20346. Total time 4.16222 hours\n",
      "Validation at Epoch 92, AUROC: 0.85386 , AUPRC: 0.63422 , F1: 0.44759 , Cross-entropy Loss: 4.37410\n",
      "Training at Epoch 93 iteration 0 with loss 0.29560. Total time 4.17555 hours\n",
      "Training at Epoch 93 iteration 100 with loss 0.26193. Total time 4.18611 hours\n",
      "Training at Epoch 93 iteration 200 with loss 0.34523. Total time 4.19666 hours\n",
      "Training at Epoch 93 iteration 300 with loss 0.39086. Total time 4.20722 hours\n",
      "Validation at Epoch 93, AUROC: 0.85528 , AUPRC: 0.63943 , F1: 0.48757 , Cross-entropy Loss: 4.33017\n",
      "Training at Epoch 94 iteration 0 with loss 0.32381. Total time 4.22083 hours\n",
      "Training at Epoch 94 iteration 100 with loss 0.24896. Total time 4.23111 hours\n",
      "Training at Epoch 94 iteration 200 with loss 0.27455. Total time 4.24166 hours\n",
      "Training at Epoch 94 iteration 300 with loss 0.37984. Total time 4.25222 hours\n",
      "Validation at Epoch 94, AUROC: 0.85274 , AUPRC: 0.63713 , F1: 0.34366 , Cross-entropy Loss: 4.54984\n",
      "Training at Epoch 95 iteration 0 with loss 0.33550. Total time 4.26555 hours\n",
      "Training at Epoch 95 iteration 100 with loss 0.26568. Total time 4.27611 hours\n",
      "Training at Epoch 95 iteration 200 with loss 0.29341. Total time 4.28666 hours\n",
      "Training at Epoch 95 iteration 300 with loss 0.32559. Total time 4.29722 hours\n",
      "Validation at Epoch 95, AUROC: 0.85150 , AUPRC: 0.63079 , F1: 0.43683 , Cross-entropy Loss: 4.41804\n",
      "Training at Epoch 96 iteration 0 with loss 0.30288. Total time 4.31083 hours\n",
      "Training at Epoch 96 iteration 100 with loss 0.24356. Total time 4.32111 hours\n",
      "Training at Epoch 96 iteration 200 with loss 0.25539. Total time 4.33166 hours\n",
      "Training at Epoch 96 iteration 300 with loss 0.32408. Total time 4.34194 hours\n",
      "Validation at Epoch 96, AUROC: 0.85385 , AUPRC: 0.63851 , F1: 0.41142 , Cross-entropy Loss: 4.42780\n",
      "Training at Epoch 97 iteration 0 with loss 0.24773. Total time 4.35555 hours\n",
      "Training at Epoch 97 iteration 100 with loss 0.21259. Total time 4.36611 hours\n",
      "Training at Epoch 97 iteration 200 with loss 0.22553. Total time 4.37666 hours\n",
      "Training at Epoch 97 iteration 300 with loss 0.28160. Total time 4.38694 hours\n",
      "Validation at Epoch 97, AUROC: 0.85416 , AUPRC: 0.63454 , F1: 0.43362 , Cross-entropy Loss: 4.37410\n",
      "Training at Epoch 98 iteration 0 with loss 0.25119. Total time 4.40055 hours\n",
      "Training at Epoch 98 iteration 100 with loss 0.27832. Total time 4.41111 hours\n",
      "Training at Epoch 98 iteration 200 with loss 0.33814. Total time 4.42166 hours\n",
      "Training at Epoch 98 iteration 300 with loss 0.25691. Total time 4.43194 hours\n",
      "Validation at Epoch 98, AUROC: 0.85098 , AUPRC: 0.63477 , F1: 0.38378 , Cross-entropy Loss: 4.45221\n",
      "Training at Epoch 99 iteration 0 with loss 0.29422. Total time 4.44555 hours\n",
      "Training at Epoch 99 iteration 100 with loss 0.17874. Total time 4.45611 hours\n",
      "Training at Epoch 99 iteration 200 with loss 0.25425. Total time 4.46666 hours\n",
      "Training at Epoch 99 iteration 300 with loss 0.30622. Total time 4.47694 hours\n",
      "Validation at Epoch 99, AUROC: 0.85265 , AUPRC: 0.63484 , F1: 0.42811 , Cross-entropy Loss: 4.40828\n",
      "Training at Epoch 100 iteration 0 with loss 0.28033. Total time 4.49055 hours\n",
      "Training at Epoch 100 iteration 100 with loss 0.25576. Total time 4.50111 hours\n",
      "Training at Epoch 100 iteration 200 with loss 0.23303. Total time 4.51138 hours\n",
      "Training at Epoch 100 iteration 300 with loss 0.26718. Total time 4.52194 hours\n",
      "Validation at Epoch 100, AUROC: 0.85322 , AUPRC: 0.63535 , F1: 0.46385 , Cross-entropy Loss: 4.34482\n",
      "--- Go for Testing ---\n",
      "Validation at Epoch 100 , AUROC: 0.85087 , AUPRC: 0.63303 , F1: 0.47746 , Cross-entropy Loss: 4.38631\n",
      "--- Training Finished ---\n"
     ]
    },
    {
     "data": {
      "image/png": "[encoded data removed]",
      "text/plain": [
       "<Figure size 432x288 with 1 Axes>"
      ]
     },
     "metadata": {
      "needs_background": "light"
     },
     "output_type": "display_data"
    },
    {
     "data": {
      "image/png": "[encoded data removed]",
      "text/plain": [
       "<Figure size 432x288 with 1 Axes>"
      ]
     },
     "metadata": {
      "needs_background": "light"
     },
     "output_type": "display_data"
    },
    {
     "data": {
      "image/png": "[encoded data removed]",
      "text/plain": [
       "<Figure size 432x288 with 1 Axes>"
      ]
     },
     "metadata": {
      "needs_background": "light"
     },
     "output_type": "display_data"
    }
   ],
   "source": [
    "model = models.model_initialize(**config)\n",
    "model.train(train, val, test)"
   ]
  },
  {
   "cell_type": "code",
   "execution_count": 15,
   "metadata": {
    "hidden": true
   },
   "outputs": [],
   "source": [
    "model.save_model('/home/sars-busters-consolidated/deep_purpose/save_folder/pretrained_model/transformer_CNN')"
   ]
  },
  {
   "cell_type": "code",
   "execution_count": 14,
   "metadata": {
    "collapsed": true,
    "hidden": true
   },
   "outputs": [
    {
     "data": {
      "text/plain": [
       "['deep_purpose',\n",
       " 'data',\n",
       " 'vaenet',\n",
       " 'Network Models',\n",
       " 'vecnet',\n",
       " 'siamese',\n",
       " 'data_preperation',\n",
       " 'predictions',\n",
       " '.ipynb_checkpoints',\n",
       " 'Paper Visualizations',\n",
       " 'DeepPurpose2_rm',\n",
       " 'data_rm']"
      ]
     },
     "execution_count": 14,
     "metadata": {},
     "output_type": "execute_result"
    }
   ],
   "source": [
    "os.listdir('/home/sars-busters-consolidated/deep_purpose/save_folder/pretrained_model/transformer_CNN')"
   ]
  },
  {
   "cell_type": "code",
   "execution_count": 349,
   "metadata": {
    "collapsed": true,
    "hidden": true
   },
   "outputs": [
    {
     "ename": "AttributeError",
     "evalue": "'DBTA' object has no attribute 'load'",
     "output_type": "error",
     "traceback": [
      "\u001b[0;31m---------------------------------------------------------------------------\u001b[0m",
      "\u001b[0;31mAttributeError\u001b[0m                            Traceback (most recent call last)",
      "\u001b[0;32m<ipython-input-349-61d88a99202c>\u001b[0m in \u001b[0;36m<module>\u001b[0;34m\u001b[0m\n\u001b[0;32m----> 1\u001b[0;31m \u001b[0mmodel\u001b[0m \u001b[0;34m=\u001b[0m \u001b[0mmodel\u001b[0m\u001b[0;34m.\u001b[0m\u001b[0mload\u001b[0m\u001b[0;34m(\u001b[0m\u001b[0;34m'/home/sars-busters-consolidated/deep_purpose/save_folder/pretrained_model/transformer_CNN'\u001b[0m\u001b[0;34m)\u001b[0m\u001b[0;34m\u001b[0m\u001b[0;34m\u001b[0m\u001b[0m\n\u001b[0m",
      "\u001b[0;31mAttributeError\u001b[0m: 'DBTA' object has no attribute 'load'"
     ]
    }
   ],
   "source": [
    "model = model.load('/home/sars-busters-consolidated/deep_purpose/save_folder/pretrained_model/transformer_CNN')"
   ]
  },
  {
   "cell_type": "code",
   "execution_count": 84,
   "metadata": {
    "hidden": true
   },
   "outputs": [],
   "source": [
    "test_preidcted = model.predict(test)\n",
    "test['Y_predicted'] = test_preidcted"
   ]
  },
  {
   "cell_type": "code",
   "execution_count": 83,
   "metadata": {
    "hidden": true
   },
   "outputs": [],
   "source": [
    "train.to_csv('../data/Transformer_CNN_train.csv')\n",
    "val.to_csv('../data/Transformer_CNN_val.csv')\n",
    "test.to_csv('../data/Transformer_CNN_test.csv')"
   ]
  },
  {
   "cell_type": "markdown",
   "metadata": {
    "heading_collapsed": true
   },
   "source": [
    "# Preparing Degree Lists for Original DeepPurpose Data"
   ]
  },
  {
   "cell_type": "code",
   "execution_count": 3,
   "metadata": {
    "hidden": true
   },
   "outputs": [],
   "source": [
    "train = pd.read_csv('../data/DeepPurpose_train.csv')\n",
    "val = pd.read_csv('../data/DeepPurpose_val.csv')\n",
    "test = pd.read_csv('../data/DeepPurpose_test.csv')"
   ]
  },
  {
   "cell_type": "code",
   "execution_count": 5,
   "metadata": {
    "hidden": true
   },
   "outputs": [
    {
     "name": "stdout",
     "output_type": "stream",
     "text": [
      "Ligands:  10416\n",
      "Targets:  1391\n"
     ]
    }
   ],
   "source": [
    "ligands = list(set(train['SMILES'].tolist()))\n",
    "targets = list(set(train['Target Sequence'].tolist()))\n",
    "\n",
    "number_ligands = len(ligands)\n",
    "number_targets = len(targets)\n",
    "print('Ligands: ', number_ligands)\n",
    "print('Targets: ',number_targets)"
   ]
  },
  {
   "cell_type": "code",
   "execution_count": 6,
   "metadata": {
    "hidden": true
   },
   "outputs": [
    {
     "name": "stderr",
     "output_type": "stream",
     "text": [
      "100%|██████████| 10416/10416 [01:13<00:00, 142.33it/s]\n",
      "100%|██████████| 1391/1391 [00:09<00:00, 143.09it/s]\n",
      "100%|██████████| 10416/10416 [00:00<00:00, 1012019.52it/s]\n",
      "100%|██████████| 10416/10416 [00:00<00:00, 1022416.81it/s]\n",
      "100%|██████████| 1391/1391 [00:00<00:00, 966900.38it/s]\n",
      "100%|██████████| 1391/1391 [00:00<00:00, 1113624.14it/s]\n"
     ]
    }
   ],
   "source": [
    "ligands_degree_dict = dict()\n",
    "\n",
    "for smile_chem in tqdm(ligands):\n",
    "    sum_df = train[train['SMILES'] == smile_chem]\n",
    "    ligands_degree_dict[smile_chem] = dict()\n",
    "    ligands_degree_dict[smile_chem]['deg_0'] = len(sum_df[sum_df['Label'] == 0])\n",
    "    ligands_degree_dict[smile_chem]['deg_1'] = len(sum_df[sum_df['Label'] == 1])\n",
    "    \n",
    "targets_degree_dict = dict()\n",
    "\n",
    "for aa_target in tqdm(targets):\n",
    "    sum_df = train[train['Target Sequence'] == aa_target]\n",
    "    targets_degree_dict[aa_target] = dict()\n",
    "    targets_degree_dict[aa_target]['deg_0'] = len(sum_df[sum_df['Label'] == 0])\n",
    "    targets_degree_dict[aa_target]['deg_1'] = len(sum_df[sum_df['Label'] == 1])\n",
    "    \n",
    "degree_train_1_0_ligands = [ligands_degree_dict[key_val]['deg_1'] for key_val in tqdm(ligands_degree_dict.keys())]\n",
    "degree_train_0_1_ligands = [ligands_degree_dict[key_val]['deg_0'] for key_val in tqdm(ligands_degree_dict.keys())]\n",
    "\n",
    "degree_train_1_0_targets = [targets_degree_dict[key_val]['deg_1'] for key_val in tqdm(targets_degree_dict.keys())]\n",
    "degree_train_0_1_targets = [targets_degree_dict[key_val]['deg_0'] for key_val in tqdm(targets_degree_dict.keys())]"
   ]
  },
  {
   "cell_type": "code",
   "execution_count": 7,
   "metadata": {
    "hidden": true
   },
   "outputs": [],
   "source": [
    "with open('degreetrain10ligands.txt', 'w') as file:\n",
    "    for degree in degree_train_1_0_ligands:\n",
    "        file.write(\"%i\\n\" % degree)\n",
    "        \n",
    "file.close()\n",
    "\n",
    "with open('degreetrain01ligands.txt', 'w') as file:\n",
    "    for degree in degree_train_0_1_ligands:\n",
    "        file.write(\"%i\\n\" % degree)\n",
    "        \n",
    "file.close()\n",
    "\n",
    "with open('degreetrain10targets.txt', 'w') as file:\n",
    "    for degree in degree_train_1_0_targets:\n",
    "        file.write(\"%i\\n\" % degree)\n",
    "        \n",
    "file.close()\n",
    "\n",
    "with open('degreetrain01targets.txt', 'w') as file:\n",
    "    for degree in degree_train_0_1_targets:\n",
    "        file.write(\"%i\\n\" % degree)\n",
    "        \n",
    "file.close()\n",
    "\n",
    "textfile = open(\"ligands.txt\", \"w\")\n",
    "for element in ligands:\n",
    "    textfile.write(element + \"\\n\")\n",
    "textfile.close()\n",
    "\n",
    "textfile = open(\"targets.txt\", \"w\")\n",
    "for element in targets:\n",
    "    textfile.write(element + \"\\n\")\n",
    "textfile.close()"
   ]
  },
  {
   "cell_type": "markdown",
   "metadata": {
    "heading_collapsed": true
   },
   "source": [
    "# Prediction on SARS-CoV2 Sequences"
   ]
  },
  {
   "cell_type": "code",
   "execution_count": 4,
   "metadata": {
    "hidden": true
   },
   "outputs": [],
   "source": [
    "train = pd.read_csv('../data/Transformer_CNN_train.csv')\n",
    "val = pd.read_csv('../data/Transformer_CNN_val.csv')\n",
    "test = pd.read_csv('../data/Transformer_CNN_test.csv')"
   ]
  },
  {
   "cell_type": "code",
   "execution_count": 9,
   "metadata": {
    "hidden": true
   },
   "outputs": [],
   "source": [
    "external_targets = pd.read_csv('/data/External Predictions/SARS Sequences/20201203_Targets_Sequences_SARS_Cov2.csv')"
   ]
  },
  {
   "cell_type": "code",
   "execution_count": 157,
   "metadata": {
    "hidden": true
   },
   "outputs": [
    {
     "name": "stderr",
     "output_type": "stream",
     "text": [
      "49525it [00:04, 10161.42it/s]\n"
     ]
    }
   ],
   "source": [
    "train_chemicals = dict()\n",
    "\n",
    "for index, row in tqdm(train.iterrows()):\n",
    "    train_chemicals[row['SMILES']] = row['drug_encoding']"
   ]
  },
  {
   "cell_type": "code",
   "execution_count": 158,
   "metadata": {
    "hidden": true
   },
   "outputs": [
    {
     "name": "stderr",
     "output_type": "stream",
     "text": [
      "33it [00:00, 5347.81it/s]\n"
     ]
    }
   ],
   "source": [
    "sars_targets = dict()\n",
    "\n",
    "for index, row in tqdm(external_targets.iterrows()):\n",
    "    sars_targets[row['ID']] = row['Sequence']"
   ]
  },
  {
   "cell_type": "code",
   "execution_count": 163,
   "metadata": {
    "hidden": true
   },
   "outputs": [
    {
     "name": "stderr",
     "output_type": "stream",
     "text": [
      "100%|██████████| 10416/10416 [00:00<00:00, 108051.10it/s]\n"
     ]
    }
   ],
   "source": [
    "SMILES_list = []\n",
    "target_seq_list = []\n",
    "# drug_encoding_list = []\n",
    "# target_encoding_list = []\n",
    "\n",
    "sars_test = pd.DataFrame()\n",
    "\n",
    "for ligand in tqdm(list(train_chemicals.keys())):\n",
    "    for target in list(sars_targets.keys()):\n",
    "        SMILES_list.append(ligand)\n",
    "        target_seq_list.append(sars_targets[target])\n",
    "        # drug_encoding_list.append(train_chemicals[ligand])\n",
    "        # target_encoding_list.append(list(sars_targets[target])) # + ['?'] * (1000 - len(list(sars_targets[target]))))\n",
    "        \n",
    "sars_test['SMILES'] = SMILES_list\n",
    "sars_test['Target Sequence'] = target_seq_list\n",
    "# sars_test['drug_encoding'] = drug_encoding_list\n",
    "# sars_test['target_encoding'] = target_encoding_list\n",
    "sars_test['Label'] = 1"
   ]
  },
  {
   "cell_type": "code",
   "execution_count": 164,
   "metadata": {
    "hidden": true
   },
   "outputs": [
    {
     "name": "stdout",
     "output_type": "stream",
     "text": [
      "Drug Target Interaction Prediction Mode...\n",
      "in total: 70750 drug-target pairs\n",
      "encoding drug...\n",
      "unique drugs: 2144\n",
      "encoding protein...\n",
      "unique target sequence: 33\n",
      "splitting dataset...\n",
      "Done.\n"
     ]
    }
   ],
   "source": [
    "sars_test_processed, _, _ = data_process(sars_test['SMILES'], \n",
    "                         sars_test['Target Sequence'], \n",
    "                         y, \n",
    "                         drug_encoding,\n",
    "                         target_encoding, \n",
    "                         split_method='random',\n",
    "                         frac=[1.0,0,0])"
   ]
  },
  {
   "cell_type": "code",
   "execution_count": 166,
   "metadata": {
    "hidden": true,
    "scrolled": false
   },
   "outputs": [
    {
     "name": "stdout",
     "output_type": "stream",
     "text": [
      "predicting...\n"
     ]
    }
   ],
   "source": [
    "sars_test_preidcted = model.predict(sars_test_processed)"
   ]
  },
  {
   "cell_type": "code",
   "execution_count": 167,
   "metadata": {
    "hidden": true
   },
   "outputs": [],
   "source": [
    "sars_test_processed['Y_predicted'] = sars_test_preidcted"
   ]
  },
  {
   "cell_type": "code",
   "execution_count": 168,
   "metadata": {
    "hidden": true,
    "scrolled": true
   },
   "outputs": [],
   "source": [
    "sars_test_processed.to_csv('sars_test_processed.csv')"
   ]
  },
  {
   "cell_type": "code",
   "execution_count": 2,
   "metadata": {
    "hidden": true,
    "scrolled": true
   },
   "outputs": [],
   "source": [
    "sars_test_processed = pd.read_csv('sars_test_processed.csv')"
   ]
  },
  {
   "cell_type": "code",
   "execution_count": 5,
   "metadata": {
    "hidden": true
   },
   "outputs": [
    {
     "name": "stderr",
     "output_type": "stream",
     "text": [
      "100%|██████████| 2144/2144 [00:13<00:00, 157.68it/s]\n"
     ]
    }
   ],
   "source": [
    "# model.__dict__\n",
    "\n",
    "ligands = list(set(sars_test_processed['SMILES'].tolist()))\n",
    "ligand_degree_dict = dict()\n",
    "\n",
    "train_pos = train[train['Label'] == 1]\n",
    "train_neg = train[train['Label'] == 0]\n",
    "\n",
    "for ligand in tqdm(ligands):\n",
    "    ligand_degree_dict[ligand] = dict()\n",
    "    ligand_degree_dict[ligand]['pos_deg'] = len(train_pos[train_pos['SMILES'] == ligand])\n",
    "    ligand_degree_dict[ligand]['neg_deg'] = len(train_neg[train_neg['SMILES'] == ligand])\n",
    "    "
   ]
  },
  {
   "cell_type": "code",
   "execution_count": 6,
   "metadata": {
    "hidden": true,
    "scrolled": true
   },
   "outputs": [
    {
     "name": "stderr",
     "output_type": "stream",
     "text": [
      "70750it [00:11, 5949.20it/s]\n"
     ]
    }
   ],
   "source": [
    "pos_deg_list = []\n",
    "neg_deg_list = []\n",
    "deg_ratio_list = []\n",
    "\n",
    "for index, row in tqdm(sars_test_processed.iterrows()):\n",
    "    \n",
    "    if ligand_degree_dict[row['SMILES']]['pos_deg'] + ligand_degree_dict[row['SMILES']]['neg_deg'] != 0:\n",
    "        pos_deg_list.append(ligand_degree_dict[row['SMILES']]['pos_deg'])\n",
    "        neg_deg_list.append(ligand_degree_dict[row['SMILES']]['neg_deg'])\n",
    "        deg_ratio_list.append(ligand_degree_dict[row['SMILES']]['pos_deg']/(ligand_degree_dict[row['SMILES']]['pos_deg']+ligand_degree_dict[row['SMILES']]['neg_deg']))\n",
    "    else:\n",
    "        pos_deg_list.append(-1)\n",
    "        neg_deg_list.append(-1)\n",
    "        deg_ratio_list.append(-1)\n",
    "        \n",
    "sars_test_processed['pos_deg'] = pos_deg_list\n",
    "sars_test_processed['neg_deg'] = neg_deg_list\n",
    "sars_test_processed['deg_ratio'] = deg_ratio_list"
   ]
  },
  {
   "cell_type": "code",
   "execution_count": 7,
   "metadata": {
    "hidden": true,
    "scrolled": true
   },
   "outputs": [],
   "source": [
    "sars_test_processed = sars_test_processed[sars_test_processed['deg_ratio'] != -1]"
   ]
  },
  {
   "cell_type": "code",
   "execution_count": 10,
   "metadata": {
    "hidden": true,
    "scrolled": true
   },
   "outputs": [],
   "source": [
    "sars_test_processed_subset = sars_test_processed[sars_test_processed['Target Sequence'].isin(external_targets['Sequence'].tolist()[0:1])]"
   ]
  },
  {
   "cell_type": "code",
   "execution_count": 11,
   "metadata": {
    "hidden": true,
    "scrolled": true
   },
   "outputs": [
    {
     "data": {
      "text/html": [
       "<div>\n",
       "<style scoped>\n",
       "    .dataframe tbody tr th:only-of-type {\n",
       "        vertical-align: middle;\n",
       "    }\n",
       "\n",
       "    .dataframe tbody tr th {\n",
       "        vertical-align: top;\n",
       "    }\n",
       "\n",
       "    .dataframe thead th {\n",
       "        text-align: right;\n",
       "    }\n",
       "</style>\n",
       "<table border=\"1\" class=\"dataframe\">\n",
       "  <thead>\n",
       "    <tr style=\"text-align: right;\">\n",
       "      <th></th>\n",
       "      <th>Unnamed: 0</th>\n",
       "      <th>SMILES</th>\n",
       "      <th>Target Sequence</th>\n",
       "      <th>Label</th>\n",
       "      <th>drug_encoding</th>\n",
       "      <th>target_encoding</th>\n",
       "      <th>Y_predicted</th>\n",
       "      <th>pos_deg</th>\n",
       "      <th>neg_deg</th>\n",
       "      <th>deg_ratio</th>\n",
       "    </tr>\n",
       "  </thead>\n",
       "  <tbody>\n",
       "    <tr>\n",
       "      <th>0</th>\n",
       "      <td>0</td>\n",
       "      <td>Cc1ccc(CNS(=O)(=O)c2ccc(s2)S(N)(=O)=O)cc1</td>\n",
       "      <td>MPAAAGDGLLGEPAAPGGGGGAEDAARPAAACEGSFLPAWVSGVPR...</td>\n",
       "      <td>1</td>\n",
       "      <td>(array([ 757,  286,  178,  965,   22,  763, 10...</td>\n",
       "      <td>['M', 'P', 'A', 'A', 'A', 'G', 'D', 'G', 'L', ...</td>\n",
       "      <td>0.010763</td>\n",
       "      <td>1</td>\n",
       "      <td>0</td>\n",
       "      <td>1.00</td>\n",
       "    </tr>\n",
       "    <tr>\n",
       "      <th>33</th>\n",
       "      <td>33</td>\n",
       "      <td>COc1ccc(CNS(=O)(=O)c2ccc(s2)S(N)(=O)=O)cc1</td>\n",
       "      <td>MPAAAGDGLLGEPAAPGGGGGAEDAARPAAACEGSFLPAWVSGVPR...</td>\n",
       "      <td>1</td>\n",
       "      <td>(array([ 467,  286,  178,  965,   22,  763, 10...</td>\n",
       "      <td>['M', 'P', 'A', 'A', 'A', 'G', 'D', 'G', 'L', ...</td>\n",
       "      <td>0.010763</td>\n",
       "      <td>1</td>\n",
       "      <td>0</td>\n",
       "      <td>1.00</td>\n",
       "    </tr>\n",
       "    <tr>\n",
       "      <th>66</th>\n",
       "      <td>66</td>\n",
       "      <td>NS(=O)(=O)c1ccc(s1)S(=O)(=O)NCc1cccs1</td>\n",
       "      <td>MPAAAGDGLLGEPAAPGGGGGAEDAARPAAACEGSFLPAWVSGVPR...</td>\n",
       "      <td>0</td>\n",
       "      <td>(array([2070, 1446, 2218,  127,  640,    0,   ...</td>\n",
       "      <td>['M', 'P', 'A', 'A', 'A', 'G', 'D', 'G', 'L', ...</td>\n",
       "      <td>0.010763</td>\n",
       "      <td>1</td>\n",
       "      <td>0</td>\n",
       "      <td>1.00</td>\n",
       "    </tr>\n",
       "    <tr>\n",
       "      <th>99</th>\n",
       "      <td>99</td>\n",
       "      <td>NS(=O)(=O)c1cc2C(O)CN(Cc3cccs3)S(=O)(=O)c2s1</td>\n",
       "      <td>MPAAAGDGLLGEPAAPGGGGGAEDAARPAAACEGSFLPAWVSGVPR...</td>\n",
       "      <td>0</td>\n",
       "      <td>(array([ 286,  113,  122,   96,  234, 1545,  9...</td>\n",
       "      <td>['M', 'P', 'A', 'A', 'A', 'G', 'D', 'G', 'L', ...</td>\n",
       "      <td>0.010763</td>\n",
       "      <td>1</td>\n",
       "      <td>0</td>\n",
       "      <td>1.00</td>\n",
       "    </tr>\n",
       "    <tr>\n",
       "      <th>132</th>\n",
       "      <td>132</td>\n",
       "      <td>COc1ccc(cc1)N1CC(O)c2cc(sc2S1(=O)=O)S(N)(=O)=O</td>\n",
       "      <td>MPAAAGDGLLGEPAAPGGGGGAEDAARPAAACEGSFLPAWVSGVPR...</td>\n",
       "      <td>0</td>\n",
       "      <td>(array([ 428,  881,   96,  255,  818, 2137,   ...</td>\n",
       "      <td>['M', 'P', 'A', 'A', 'A', 'G', 'D', 'G', 'L', ...</td>\n",
       "      <td>0.010763</td>\n",
       "      <td>1</td>\n",
       "      <td>0</td>\n",
       "      <td>1.00</td>\n",
       "    </tr>\n",
       "    <tr>\n",
       "      <th>...</th>\n",
       "      <td>...</td>\n",
       "      <td>...</td>\n",
       "      <td>...</td>\n",
       "      <td>...</td>\n",
       "      <td>...</td>\n",
       "      <td>...</td>\n",
       "      <td>...</td>\n",
       "      <td>...</td>\n",
       "      <td>...</td>\n",
       "      <td>...</td>\n",
       "    </tr>\n",
       "    <tr>\n",
       "      <th>70587</th>\n",
       "      <td>70587</td>\n",
       "      <td>COc1nc2ccc(cc2c(Cl)c1OCC(F)(F)F)C(O)(c1cnc(C)n...</td>\n",
       "      <td>MPAAAGDGLLGEPAAPGGGGGAEDAARPAAACEGSFLPAWVSGVPR...</td>\n",
       "      <td>0</td>\n",
       "      <td>(array([  92,  607, 1071,  755,   70,  119,  1...</td>\n",
       "      <td>['M', 'P', 'A', 'A', 'A', 'G', 'D', 'G', 'L', ...</td>\n",
       "      <td>0.010763</td>\n",
       "      <td>1</td>\n",
       "      <td>0</td>\n",
       "      <td>1.00</td>\n",
       "    </tr>\n",
       "    <tr>\n",
       "      <th>70620</th>\n",
       "      <td>70620</td>\n",
       "      <td>COc1cc(OC)c2CN(CCN(c3ccc4ncc(nc4c3)-c3cnn(C)c3...</td>\n",
       "      <td>MPAAAGDGLLGEPAAPGGGGGAEDAARPAAACEGSFLPAWVSGVPR...</td>\n",
       "      <td>0</td>\n",
       "      <td>(array([ 287,  677,  277,  596,  379,  611,  3...</td>\n",
       "      <td>['M', 'P', 'A', 'A', 'A', 'G', 'D', 'G', 'L', ...</td>\n",
       "      <td>0.010763</td>\n",
       "      <td>0</td>\n",
       "      <td>7</td>\n",
       "      <td>0.00</td>\n",
       "    </tr>\n",
       "    <tr>\n",
       "      <th>70653</th>\n",
       "      <td>70653</td>\n",
       "      <td>COc1cc(OC)c2CN(CCN(c3ccc4ncc(nc4c3)-c3cn[nH]c3...</td>\n",
       "      <td>MPAAAGDGLLGEPAAPGGGGGAEDAARPAAACEGSFLPAWVSGVPR...</td>\n",
       "      <td>1</td>\n",
       "      <td>(array([ 287,  677,  277,  596,  379,  611,  3...</td>\n",
       "      <td>['M', 'P', 'A', 'A', 'A', 'G', 'D', 'G', 'L', ...</td>\n",
       "      <td>0.010763</td>\n",
       "      <td>2</td>\n",
       "      <td>6</td>\n",
       "      <td>0.25</td>\n",
       "    </tr>\n",
       "    <tr>\n",
       "      <th>70686</th>\n",
       "      <td>70686</td>\n",
       "      <td>COc1cc(O)c2CN(CCN(c3ccc4ncc(nc4c3)-c3cnn(C)c3)...</td>\n",
       "      <td>MPAAAGDGLLGEPAAPGGGGGAEDAARPAAACEGSFLPAWVSGVPR...</td>\n",
       "      <td>0</td>\n",
       "      <td>(array([ 287,  744,  277,  596,  379,  611,  3...</td>\n",
       "      <td>['M', 'P', 'A', 'A', 'A', 'G', 'D', 'G', 'L', ...</td>\n",
       "      <td>0.010763</td>\n",
       "      <td>0</td>\n",
       "      <td>8</td>\n",
       "      <td>0.00</td>\n",
       "    </tr>\n",
       "    <tr>\n",
       "      <th>70719</th>\n",
       "      <td>70719</td>\n",
       "      <td>COc1cc(O)cc2N(CCN(Cc12)C(C)C)c1ccc2ncc(nc2c1)-...</td>\n",
       "      <td>MPAAAGDGLLGEPAAPGGGGGAEDAARPAAACEGSFLPAWVSGVPR...</td>\n",
       "      <td>0</td>\n",
       "      <td>(array([ 287, 1624,  261,  199, 2495,  237,  2...</td>\n",
       "      <td>['M', 'P', 'A', 'A', 'A', 'G', 'D', 'G', 'L', ...</td>\n",
       "      <td>0.010763</td>\n",
       "      <td>0</td>\n",
       "      <td>8</td>\n",
       "      <td>0.00</td>\n",
       "    </tr>\n",
       "  </tbody>\n",
       "</table>\n",
       "<p>2144 rows × 10 columns</p>\n",
       "</div>"
      ],
      "text/plain": [
       "       Unnamed: 0                                             SMILES  \\\n",
       "0               0          Cc1ccc(CNS(=O)(=O)c2ccc(s2)S(N)(=O)=O)cc1   \n",
       "33             33         COc1ccc(CNS(=O)(=O)c2ccc(s2)S(N)(=O)=O)cc1   \n",
       "66             66              NS(=O)(=O)c1ccc(s1)S(=O)(=O)NCc1cccs1   \n",
       "99             99       NS(=O)(=O)c1cc2C(O)CN(Cc3cccs3)S(=O)(=O)c2s1   \n",
       "132           132     COc1ccc(cc1)N1CC(O)c2cc(sc2S1(=O)=O)S(N)(=O)=O   \n",
       "...           ...                                                ...   \n",
       "70587       70587  COc1nc2ccc(cc2c(Cl)c1OCC(F)(F)F)C(O)(c1cnc(C)n...   \n",
       "70620       70620  COc1cc(OC)c2CN(CCN(c3ccc4ncc(nc4c3)-c3cnn(C)c3...   \n",
       "70653       70653  COc1cc(OC)c2CN(CCN(c3ccc4ncc(nc4c3)-c3cn[nH]c3...   \n",
       "70686       70686  COc1cc(O)c2CN(CCN(c3ccc4ncc(nc4c3)-c3cnn(C)c3)...   \n",
       "70719       70719  COc1cc(O)cc2N(CCN(Cc12)C(C)C)c1ccc2ncc(nc2c1)-...   \n",
       "\n",
       "                                         Target Sequence  Label  \\\n",
       "0      MPAAAGDGLLGEPAAPGGGGGAEDAARPAAACEGSFLPAWVSGVPR...      1   \n",
       "33     MPAAAGDGLLGEPAAPGGGGGAEDAARPAAACEGSFLPAWVSGVPR...      1   \n",
       "66     MPAAAGDGLLGEPAAPGGGGGAEDAARPAAACEGSFLPAWVSGVPR...      0   \n",
       "99     MPAAAGDGLLGEPAAPGGGGGAEDAARPAAACEGSFLPAWVSGVPR...      0   \n",
       "132    MPAAAGDGLLGEPAAPGGGGGAEDAARPAAACEGSFLPAWVSGVPR...      0   \n",
       "...                                                  ...    ...   \n",
       "70587  MPAAAGDGLLGEPAAPGGGGGAEDAARPAAACEGSFLPAWVSGVPR...      0   \n",
       "70620  MPAAAGDGLLGEPAAPGGGGGAEDAARPAAACEGSFLPAWVSGVPR...      0   \n",
       "70653  MPAAAGDGLLGEPAAPGGGGGAEDAARPAAACEGSFLPAWVSGVPR...      1   \n",
       "70686  MPAAAGDGLLGEPAAPGGGGGAEDAARPAAACEGSFLPAWVSGVPR...      0   \n",
       "70719  MPAAAGDGLLGEPAAPGGGGGAEDAARPAAACEGSFLPAWVSGVPR...      0   \n",
       "\n",
       "                                           drug_encoding  \\\n",
       "0      (array([ 757,  286,  178,  965,   22,  763, 10...   \n",
       "33     (array([ 467,  286,  178,  965,   22,  763, 10...   \n",
       "66     (array([2070, 1446, 2218,  127,  640,    0,   ...   \n",
       "99     (array([ 286,  113,  122,   96,  234, 1545,  9...   \n",
       "132    (array([ 428,  881,   96,  255,  818, 2137,   ...   \n",
       "...                                                  ...   \n",
       "70587  (array([  92,  607, 1071,  755,   70,  119,  1...   \n",
       "70620  (array([ 287,  677,  277,  596,  379,  611,  3...   \n",
       "70653  (array([ 287,  677,  277,  596,  379,  611,  3...   \n",
       "70686  (array([ 287,  744,  277,  596,  379,  611,  3...   \n",
       "70719  (array([ 287, 1624,  261,  199, 2495,  237,  2...   \n",
       "\n",
       "                                         target_encoding  Y_predicted  \\\n",
       "0      ['M', 'P', 'A', 'A', 'A', 'G', 'D', 'G', 'L', ...     0.010763   \n",
       "33     ['M', 'P', 'A', 'A', 'A', 'G', 'D', 'G', 'L', ...     0.010763   \n",
       "66     ['M', 'P', 'A', 'A', 'A', 'G', 'D', 'G', 'L', ...     0.010763   \n",
       "99     ['M', 'P', 'A', 'A', 'A', 'G', 'D', 'G', 'L', ...     0.010763   \n",
       "132    ['M', 'P', 'A', 'A', 'A', 'G', 'D', 'G', 'L', ...     0.010763   \n",
       "...                                                  ...          ...   \n",
       "70587  ['M', 'P', 'A', 'A', 'A', 'G', 'D', 'G', 'L', ...     0.010763   \n",
       "70620  ['M', 'P', 'A', 'A', 'A', 'G', 'D', 'G', 'L', ...     0.010763   \n",
       "70653  ['M', 'P', 'A', 'A', 'A', 'G', 'D', 'G', 'L', ...     0.010763   \n",
       "70686  ['M', 'P', 'A', 'A', 'A', 'G', 'D', 'G', 'L', ...     0.010763   \n",
       "70719  ['M', 'P', 'A', 'A', 'A', 'G', 'D', 'G', 'L', ...     0.010763   \n",
       "\n",
       "       pos_deg  neg_deg  deg_ratio  \n",
       "0            1        0       1.00  \n",
       "33           1        0       1.00  \n",
       "66           1        0       1.00  \n",
       "99           1        0       1.00  \n",
       "132          1        0       1.00  \n",
       "...        ...      ...        ...  \n",
       "70587        1        0       1.00  \n",
       "70620        0        7       0.00  \n",
       "70653        2        6       0.25  \n",
       "70686        0        8       0.00  \n",
       "70719        0        8       0.00  \n",
       "\n",
       "[2144 rows x 10 columns]"
      ]
     },
     "execution_count": 11,
     "metadata": {},
     "output_type": "execute_result"
    }
   ],
   "source": [
    "sars_test_processed_subset"
   ]
  },
  {
   "cell_type": "code",
   "execution_count": 12,
   "metadata": {
    "hidden": true
   },
   "outputs": [
    {
     "data": {
      "text/plain": [
       "SpearmanrResult(correlation=-6.8207261196245e-05, pvalue=0.9855255390445837)"
      ]
     },
     "execution_count": 12,
     "metadata": {},
     "output_type": "execute_result"
    }
   ],
   "source": [
    "from scipy import stats\n",
    "\n",
    "stats.spearmanr(sars_test_processed['pos_deg'].tolist(),sars_test_processed['Y_predicted'].tolist())"
   ]
  },
  {
   "cell_type": "code",
   "execution_count": 13,
   "metadata": {
    "hidden": true
   },
   "outputs": [
    {
     "data": {
      "text/plain": [
       "Text(0, 0.5, 'Prediction - DeepPurpose')"
      ]
     },
     "execution_count": 13,
     "metadata": {},
     "output_type": "execute_result"
    },
    {
     "data": {
      "image/png": "[encoded data removed]",
      "text/plain": [
       "<Figure size 432x288 with 1 Axes>"
      ]
     },
     "metadata": {
      "needs_background": "light"
     },
     "output_type": "display_data"
    }
   ],
   "source": [
    "plt.scatter(sars_test_processed_subset['deg_ratio'].tolist(),sars_test_processed_subset['Y_predicted'].tolist())\n",
    "#plt.xscale('log')\n",
    "#plt.yscale('log')\n",
    "plt.xlabel('Positive degree of ligand')\n",
    "plt.ylabel('Prediction - DeepPurpose')"
   ]
  },
  {
   "cell_type": "code",
   "execution_count": 14,
   "metadata": {
    "hidden": true
   },
   "outputs": [
    {
     "data": {
      "text/plain": [
       "<matplotlib.collections.PathCollection at 0x7fa5fb00f8d0>"
      ]
     },
     "execution_count": 14,
     "metadata": {},
     "output_type": "execute_result"
    },
    {
     "data": {
      "image/png": "[encoded data removed]",
      "text/plain": [
       "<Figure size 432x288 with 1 Axes>"
      ]
     },
     "metadata": {
      "needs_background": "light"
     },
     "output_type": "display_data"
    }
   ],
   "source": [
    "plt.scatter(sars_test_processed_subset['neg_deg'].tolist(),sars_test_processed_subset['Y_predicted'].tolist())"
   ]
  },
  {
   "cell_type": "code",
   "execution_count": 15,
   "metadata": {
    "hidden": true
   },
   "outputs": [
    {
     "data": {
      "text/plain": [
       "<matplotlib.collections.PathCollection at 0x7fa5faf9e210>"
      ]
     },
     "execution_count": 15,
     "metadata": {},
     "output_type": "execute_result"
    },
    {
     "data": {
      "image/png": "[encoded data removed]",
      "text/plain": [
       "<Figure size 432x288 with 1 Axes>"
      ]
     },
     "metadata": {
      "needs_background": "light"
     },
     "output_type": "display_data"
    }
   ],
   "source": [
    "plt.scatter(sars_test_processed_subset['deg_ratio'].tolist(),sars_test_processed_subset['Y_predicted'].tolist())"
   ]
  },
  {
   "cell_type": "markdown",
   "metadata": {
    "heading_collapsed": true
   },
   "source": [
    "# Randomly assigning SMILEs and Sequences"
   ]
  },
  {
   "cell_type": "code",
   "execution_count": 2,
   "metadata": {
    "hidden": true
   },
   "outputs": [],
   "source": [
    "def swapper(intake_list):\n",
    "    \n",
    "    swap_dict = {}\n",
    "    bag = set(intake_list)\n",
    "    buffer = set()\n",
    "    \n",
    "    for item in set(intake_list):\n",
    "        \n",
    "        if len(bag) > 0:\n",
    "            #selected = bag.pop()\n",
    "            selected = random.choice(list(bag))\n",
    "            bag.remove(selected)\n",
    "        else:\n",
    "            selected = random.choice(list(buffer))\n",
    "            buffer.remove(selected)\n",
    "        \n",
    "        if item != selected:\n",
    "            swap_dict.update({item:selected})\n",
    "        else:\n",
    "            print(f'Same item selected item {item} selected {selected}')\n",
    "            buffer.add(selected)\n",
    "    \n",
    "    assert len(bag) == 0, bag\n",
    "    \n",
    "    return swap_dict\n",
    "            "
   ]
  },
  {
   "cell_type": "code",
   "execution_count": 3,
   "metadata": {
    "collapsed": true,
    "hidden": true
   },
   "outputs": [
    {
     "ename": "NameError",
     "evalue": "name 'X_drug' is not defined",
     "output_type": "error",
     "traceback": [
      "\u001b[0;31m---------------------------------------------------------------------------\u001b[0m",
      "\u001b[0;31mNameError\u001b[0m                                 Traceback (most recent call last)",
      "\u001b[0;32m<ipython-input-3-c97e592435c6>\u001b[0m in \u001b[0;36m<module>\u001b[0;34m\u001b[0m\n\u001b[0;32m----> 1\u001b[0;31m \u001b[0mfake_X_drug_mapping\u001b[0m \u001b[0;34m=\u001b[0m \u001b[0mswapper\u001b[0m\u001b[0;34m(\u001b[0m\u001b[0mlist\u001b[0m\u001b[0;34m(\u001b[0m\u001b[0mX_drug\u001b[0m\u001b[0;34m)\u001b[0m\u001b[0;34m)\u001b[0m\u001b[0;34m\u001b[0m\u001b[0;34m\u001b[0m\u001b[0m\n\u001b[0m",
      "\u001b[0;31mNameError\u001b[0m: name 'X_drug' is not defined"
     ]
    }
   ],
   "source": [
    "fake_X_drug_mapping = swapper(list(X_drug))"
   ]
  },
  {
   "cell_type": "code",
   "execution_count": 135,
   "metadata": {
    "hidden": true
   },
   "outputs": [],
   "source": [
    "fake_X_target_mapping = swapper(list(X_target))"
   ]
  },
  {
   "cell_type": "code",
   "execution_count": 138,
   "metadata": {
    "hidden": true
   },
   "outputs": [],
   "source": [
    "correct_dataset = pd.DataFrame({'X_drug': X_drug, 'X_target': X_target, 'y': y})"
   ]
  },
  {
   "cell_type": "code",
   "execution_count": 141,
   "metadata": {
    "hidden": true
   },
   "outputs": [],
   "source": [
    "correct_dataset['fake_X_drug'] = correct_dataset['X_drug'].map(fake_X_drug_mapping)\n",
    "correct_dataset['fake_X_target'] = correct_dataset['X_target'].map(fake_X_target_mapping)"
   ]
  },
  {
   "cell_type": "code",
   "execution_count": 149,
   "metadata": {
    "collapsed": true,
    "hidden": true
   },
   "outputs": [
    {
     "name": "stdout",
     "output_type": "stream",
     "text": [
      "Empty DataFrame\n",
      "Columns: [X_drug, X_target, y, fake_X_drug, fake_X_target]\n",
      "Index: []\n",
      "Empty DataFrame\n",
      "Columns: [X_drug, X_target, y, fake_X_drug, fake_X_target]\n",
      "Index: []\n",
      "Empty DataFrame\n",
      "Columns: [X_drug, X_target, y, fake_X_drug, fake_X_target]\n",
      "Index: []\n",
      "                                                  X_drug  \\\n",
      "64590  CCOC(=O)\\C=C1/C2C(C3CCC2C=C3)C(=O)N1Cc1ccc(cc1...   \n",
      "\n",
      "                                                X_target  y fake_X_drug  \\\n",
      "64590  MMLNSSTEDGIKRIQDDCPKAGRHNYIFVMIPTLYSIIFVVGIFGN...  1         NaN   \n",
      "\n",
      "                                           fake_X_target  \n",
      "64590  MESLVFARRSGPTPSAAELARPLAEGLIKSPKPLMKKQAVKRHHHK...  \n",
      "Empty DataFrame\n",
      "Columns: [X_drug, X_target, y, fake_X_drug, fake_X_target]\n",
      "Index: []\n"
     ]
    }
   ],
   "source": [
    "for column in correct_dataset.columns:\n",
    "    print(correct_dataset[correct_dataset[column].isna()])"
   ]
  },
  {
   "cell_type": "code",
   "execution_count": 151,
   "metadata": {
    "hidden": true
   },
   "outputs": [],
   "source": [
    "correct_dataset = correct_dataset[~correct_dataset['fake_X_drug'].isna()]"
   ]
  },
  {
   "cell_type": "code",
   "execution_count": 152,
   "metadata": {
    "collapsed": true,
    "hidden": true
   },
   "outputs": [
    {
     "name": "stdout",
     "output_type": "stream",
     "text": [
      "Drug Target Interaction Prediction Mode...\n",
      "in total: 70749 drug-target pairs\n",
      "encoding drug...\n",
      "unique drugs: 13391\n",
      "encoding protein...\n",
      "unique target sequence: 1507\n",
      "splitting dataset...\n",
      "Done.\n"
     ]
    }
   ],
   "source": [
    "drug_encoding = 'Transformer'\n",
    "target_encoding = 'CNN'\n",
    "train, val, test = data_process(list(correct_dataset['fake_X_drug']), \n",
    "                                list(correct_dataset['fake_X_target']), \n",
    "                                y, \n",
    "                                drug_encoding, target_encoding, \n",
    "                                split_method='random',frac=[0.7,0.1,0.2])\n",
    "\n",
    "config = generate_config(drug_encoding = drug_encoding, \n",
    "                         target_encoding = target_encoding, \n",
    "                         cls_hidden_dims = [1024,1024,512], \n",
    "                         train_epoch = 100, \n",
    "                         LR = 0.001, \n",
    "                         batch_size = 128,\n",
    "                         cnn_target_filters = [32,64,96],\n",
    "                         cnn_target_kernels = [4,8,12]\n",
    "                        )"
   ]
  },
  {
   "cell_type": "code",
   "execution_count": 153,
   "metadata": {
    "hidden": true,
    "scrolled": true
   },
   "outputs": [
    {
     "name": "stdout",
     "output_type": "stream",
     "text": [
      "Let's use 4 GPUs!\n",
      "--- Data Preparation ---\n",
      "--- Go for Training ---\n",
      "Training at Epoch 1 iteration 0 with loss 0.69130. Total time 0.0 hours\n",
      "Training at Epoch 1 iteration 100 with loss 0.42569. Total time 0.01138 hours\n",
      "Training at Epoch 1 iteration 200 with loss 0.30406. Total time 0.0225 hours\n",
      "Training at Epoch 1 iteration 300 with loss 0.28063. Total time 0.03388 hours\n",
      "Validation at Epoch 1, AUROC: 0.79855 , AUPRC: 0.52682 , F1: 0.23404 , Cross-entropy Loss: 4.92086\n",
      "Training at Epoch 2 iteration 0 with loss 0.29621. Total time 0.04805 hours\n",
      "Training at Epoch 2 iteration 100 with loss 0.34574. Total time 0.05944 hours\n",
      "Training at Epoch 2 iteration 200 with loss 0.26741. Total time 0.07055 hours\n",
      "Training at Epoch 2 iteration 300 with loss 0.38992. Total time 0.08194 hours\n",
      "Validation at Epoch 2, AUROC: 0.81727 , AUPRC: 0.55817 , F1: 0.23269 , Cross-entropy Loss: 4.92574\n",
      "Training at Epoch 3 iteration 0 with loss 0.33012. Total time 0.09611 hours\n",
      "Training at Epoch 3 iteration 100 with loss 0.29661. Total time 0.1075 hours\n",
      "Training at Epoch 3 iteration 200 with loss 0.31068. Total time 0.11861 hours\n",
      "Training at Epoch 3 iteration 300 with loss 0.27838. Total time 0.12972 hours\n",
      "Validation at Epoch 3, AUROC: 0.82120 , AUPRC: 0.56667 , F1: 0.23269 , Cross-entropy Loss: 4.92574\n",
      "Training at Epoch 4 iteration 0 with loss 0.27297. Total time 0.14388 hours\n",
      "Training at Epoch 4 iteration 100 with loss 0.30208. Total time 0.15527 hours\n",
      "Training at Epoch 4 iteration 200 with loss 0.31489. Total time 0.16638 hours\n",
      "Training at Epoch 4 iteration 300 with loss 0.26148. Total time 0.1775 hours\n",
      "Validation at Epoch 4, AUROC: 0.82003 , AUPRC: 0.57762 , F1: 0.34109 , Cross-entropy Loss: 4.69630\n",
      "Training at Epoch 5 iteration 0 with loss 0.29831. Total time 0.19166 hours\n",
      "Training at Epoch 5 iteration 100 with loss 0.56079. Total time 0.20277 hours\n",
      "Training at Epoch 5 iteration 200 with loss 0.28683. Total time 0.21388 hours\n",
      "Training at Epoch 5 iteration 300 with loss 0.29041. Total time 0.225 hours\n",
      "Validation at Epoch 5, AUROC: 0.82645 , AUPRC: 0.57808 , F1: 0.43851 , Cross-entropy Loss: 4.72560\n",
      "Training at Epoch 6 iteration 0 with loss 0.32096. Total time 0.23916 hours\n",
      "Training at Epoch 6 iteration 100 with loss 0.34588. Total time 0.25027 hours\n",
      "Training at Epoch 6 iteration 200 with loss 0.32115. Total time 0.26166 hours\n",
      "Training at Epoch 6 iteration 300 with loss 0.26073. Total time 0.27277 hours\n",
      "Validation at Epoch 6, AUROC: 0.82769 , AUPRC: 0.59195 , F1: 0.40803 , Cross-entropy Loss: 4.60355\n",
      "Training at Epoch 7 iteration 0 with loss 0.37191. Total time 0.28694 hours\n",
      "Training at Epoch 7 iteration 100 with loss 0.34861. Total time 0.29805 hours\n",
      "Training at Epoch 7 iteration 200 with loss 0.29486. Total time 0.30916 hours\n",
      "Training at Epoch 7 iteration 300 with loss 0.36041. Total time 0.32027 hours\n",
      "Validation at Epoch 7, AUROC: 0.82683 , AUPRC: 0.58518 , F1: 0.50489 , Cross-entropy Loss: 4.69144\n",
      "Training at Epoch 8 iteration 0 with loss 0.28660. Total time 0.33444 hours\n",
      "Training at Epoch 8 iteration 100 with loss 0.18477. Total time 0.34555 hours\n",
      "Training at Epoch 8 iteration 200 with loss 0.29648. Total time 0.35666 hours\n",
      "Training at Epoch 8 iteration 300 with loss 0.28731. Total time 0.36777 hours\n",
      "Validation at Epoch 8, AUROC: 0.82993 , AUPRC: 0.58971 , F1: 0.39523 , Cross-entropy Loss: 4.70607\n",
      "Training at Epoch 9 iteration 0 with loss 0.35799. Total time 0.38194 hours\n",
      "Training at Epoch 9 iteration 100 with loss 0.32944. Total time 0.39305 hours\n",
      "Training at Epoch 9 iteration 200 with loss 0.29868. Total time 0.40416 hours\n",
      "Training at Epoch 9 iteration 300 with loss 0.36014. Total time 0.41527 hours\n",
      "Validation at Epoch 9, AUROC: 0.82735 , AUPRC: 0.59142 , F1: 0.44953 , Cross-entropy Loss: 4.57915\n",
      "Training at Epoch 10 iteration 0 with loss 0.32846. Total time 0.42944 hours\n",
      "Training at Epoch 10 iteration 100 with loss 0.29678. Total time 0.44055 hours\n",
      "Training at Epoch 10 iteration 200 with loss 0.30784. Total time 0.45138 hours\n",
      "Training at Epoch 10 iteration 300 with loss 0.31107. Total time 0.4625 hours\n",
      "Validation at Epoch 10, AUROC: 0.82814 , AUPRC: 0.59300 , F1: 0.35685 , Cross-entropy Loss: 4.62795\n",
      "Training at Epoch 11 iteration 0 with loss 0.26578. Total time 0.47666 hours\n",
      "Training at Epoch 11 iteration 100 with loss 0.27089. Total time 0.4875 hours\n",
      "Training at Epoch 11 iteration 200 with loss 0.32616. Total time 0.49861 hours\n",
      "Training at Epoch 11 iteration 300 with loss 0.32845. Total time 0.50972 hours\n",
      "Validation at Epoch 11, AUROC: 0.83367 , AUPRC: 0.59644 , F1: 0.35845 , Cross-entropy Loss: 4.61331\n",
      "Training at Epoch 12 iteration 0 with loss 0.27008. Total time 0.52361 hours\n",
      "Training at Epoch 12 iteration 100 with loss 0.30679. Total time 0.535 hours\n",
      "Training at Epoch 12 iteration 200 with loss 0.41678. Total time 0.54583 hours\n",
      "Training at Epoch 12 iteration 300 with loss 0.38492. Total time 0.55694 hours\n",
      "Validation at Epoch 12, AUROC: 0.83290 , AUPRC: 0.60366 , F1: 0.48600 , Cross-entropy Loss: 4.48151\n",
      "Training at Epoch 13 iteration 0 with loss 0.33399. Total time 0.57111 hours\n",
      "Training at Epoch 13 iteration 100 with loss 0.31470. Total time 0.58222 hours\n",
      "Training at Epoch 13 iteration 200 with loss 0.25746. Total time 0.59333 hours\n",
      "Training at Epoch 13 iteration 300 with loss 0.40110. Total time 0.60416 hours\n",
      "Validation at Epoch 13, AUROC: 0.82614 , AUPRC: 0.59271 , F1: 0.46617 , Cross-entropy Loss: 4.58403\n",
      "Training at Epoch 14 iteration 0 with loss 0.23906. Total time 0.61833 hours\n",
      "Training at Epoch 14 iteration 100 with loss 0.36114. Total time 0.62944 hours\n",
      "Training at Epoch 14 iteration 200 with loss 0.32464. Total time 0.64055 hours\n",
      "Training at Epoch 14 iteration 300 with loss 0.26116. Total time 0.65166 hours\n",
      "Validation at Epoch 14, AUROC: 0.83653 , AUPRC: 0.60624 , F1: 0.49920 , Cross-entropy Loss: 4.59380\n",
      "Training at Epoch 15 iteration 0 with loss 0.38470. Total time 0.66583 hours\n",
      "Training at Epoch 15 iteration 100 with loss 0.40564. Total time 0.67694 hours\n",
      "Training at Epoch 15 iteration 200 with loss 0.30822. Total time 0.68777 hours\n",
      "Training at Epoch 15 iteration 300 with loss 0.36652. Total time 0.69888 hours\n",
      "Validation at Epoch 15, AUROC: 0.83568 , AUPRC: 0.61132 , F1: 0.41756 , Cross-entropy Loss: 4.46686\n",
      "Training at Epoch 16 iteration 0 with loss 0.27786. Total time 0.71305 hours\n",
      "Training at Epoch 16 iteration 100 with loss 0.35934. Total time 0.72416 hours\n",
      "Training at Epoch 16 iteration 200 with loss 0.33520. Total time 0.73527 hours\n",
      "Training at Epoch 16 iteration 300 with loss 0.30543. Total time 0.74611 hours\n",
      "Validation at Epoch 16, AUROC: 0.83714 , AUPRC: 0.61218 , F1: 0.43053 , Cross-entropy Loss: 4.44245\n",
      "Training at Epoch 17 iteration 0 with loss 0.28986. Total time 0.76027 hours\n",
      "Training at Epoch 17 iteration 100 with loss 0.40339. Total time 0.77138 hours\n",
      "Training at Epoch 17 iteration 200 with loss 0.27784. Total time 0.7825 hours\n",
      "Training at Epoch 17 iteration 300 with loss 0.26143. Total time 0.79361 hours\n",
      "Validation at Epoch 17, AUROC: 0.83459 , AUPRC: 0.60491 , F1: 0.50432 , Cross-entropy Loss: 4.47175\n",
      "Training at Epoch 18 iteration 0 with loss 0.22679. Total time 0.80777 hours\n",
      "Training at Epoch 18 iteration 100 with loss 0.31549. Total time 0.81888 hours\n",
      "Training at Epoch 18 iteration 200 with loss 0.31439. Total time 0.82972 hours\n",
      "Training at Epoch 18 iteration 300 with loss 0.31797. Total time 0.84055 hours\n",
      "Validation at Epoch 18, AUROC: 0.83578 , AUPRC: 0.60491 , F1: 0.42971 , Cross-entropy Loss: 4.53521\n",
      "Training at Epoch 19 iteration 0 with loss 0.26742. Total time 0.85472 hours\n",
      "Training at Epoch 19 iteration 100 with loss 0.33271. Total time 0.86583 hours\n",
      "Training at Epoch 19 iteration 200 with loss 0.33186. Total time 0.87694 hours\n",
      "Training at Epoch 19 iteration 300 with loss 0.33458. Total time 0.88805 hours\n",
      "Validation at Epoch 19, AUROC: 0.83878 , AUPRC: 0.60477 , F1: 0.41587 , Cross-entropy Loss: 4.52544\n",
      "Training at Epoch 20 iteration 0 with loss 0.31692. Total time 0.90222 hours\n",
      "Training at Epoch 20 iteration 100 with loss 0.32700. Total time 0.91333 hours\n",
      "Training at Epoch 20 iteration 200 with loss 0.25725. Total time 0.92416 hours\n",
      "Training at Epoch 20 iteration 300 with loss 0.34868. Total time 0.93527 hours\n",
      "Validation at Epoch 20, AUROC: 0.83611 , AUPRC: 0.60427 , F1: 0.50160 , Cross-entropy Loss: 4.54010\n",
      "Training at Epoch 21 iteration 0 with loss 0.31121. Total time 0.94944 hours\n",
      "Training at Epoch 21 iteration 100 with loss 0.30510. Total time 0.96055 hours\n",
      "Training at Epoch 21 iteration 200 with loss 0.25477. Total time 0.97138 hours\n",
      "Training at Epoch 21 iteration 300 with loss 0.30552. Total time 0.9825 hours\n",
      "Validation at Epoch 21, AUROC: 0.83321 , AUPRC: 0.59798 , F1: 0.40883 , Cross-entropy Loss: 4.57426\n",
      "Training at Epoch 22 iteration 0 with loss 0.20784. Total time 0.99638 hours\n",
      "Training at Epoch 22 iteration 100 with loss 0.32206. Total time 1.0075 hours\n",
      "Training at Epoch 22 iteration 200 with loss 0.24705. Total time 1.01833 hours\n",
      "Training at Epoch 22 iteration 300 with loss 0.33199. Total time 1.02944 hours\n",
      "Validation at Epoch 22, AUROC: 0.83500 , AUPRC: 0.59864 , F1: 0.48387 , Cross-entropy Loss: 4.53033\n",
      "Training at Epoch 23 iteration 0 with loss 0.29039. Total time 1.04333 hours\n",
      "Training at Epoch 23 iteration 100 with loss 0.33101. Total time 1.05444 hours\n",
      "Training at Epoch 23 iteration 200 with loss 0.29394. Total time 1.06555 hours\n",
      "Training at Epoch 23 iteration 300 with loss 0.35353. Total time 1.07638 hours\n",
      "Validation at Epoch 23, AUROC: 0.83776 , AUPRC: 0.60772 , F1: 0.35253 , Cross-entropy Loss: 4.60842\n",
      "Training at Epoch 24 iteration 0 with loss 0.29219. Total time 1.09055 hours\n",
      "Training at Epoch 24 iteration 100 with loss 0.18906. Total time 1.10166 hours\n",
      "Training at Epoch 24 iteration 200 with loss 0.26528. Total time 1.1125 hours\n",
      "Training at Epoch 24 iteration 300 with loss 0.29974. Total time 1.12361 hours\n",
      "Validation at Epoch 24, AUROC: 0.83389 , AUPRC: 0.60263 , F1: 0.51912 , Cross-entropy Loss: 4.60357\n",
      "Training at Epoch 25 iteration 0 with loss 0.29203. Total time 1.13777 hours\n",
      "Training at Epoch 25 iteration 100 with loss 0.30493. Total time 1.14861 hours\n",
      "Training at Epoch 25 iteration 200 with loss 0.27132. Total time 1.15972 hours\n",
      "Training at Epoch 25 iteration 300 with loss 0.29990. Total time 1.17055 hours\n",
      "Validation at Epoch 25, AUROC: 0.83401 , AUPRC: 0.59991 , F1: 0.46064 , Cross-entropy Loss: 4.51568\n",
      "Training at Epoch 26 iteration 0 with loss 0.33793. Total time 1.18472 hours\n",
      "Training at Epoch 26 iteration 100 with loss 0.30053. Total time 1.19583 hours\n",
      "Training at Epoch 26 iteration 200 with loss 0.24136. Total time 1.20666 hours\n",
      "Training at Epoch 26 iteration 300 with loss 0.37782. Total time 1.21777 hours\n",
      "Validation at Epoch 26, AUROC: 0.83192 , AUPRC: 0.59469 , F1: 0.46019 , Cross-entropy Loss: 4.53521\n",
      "Training at Epoch 27 iteration 0 with loss 0.26421. Total time 1.23166 hours\n",
      "Training at Epoch 27 iteration 100 with loss 0.28454. Total time 1.24277 hours\n",
      "Training at Epoch 27 iteration 200 with loss 0.34798. Total time 1.25388 hours\n",
      "Training at Epoch 27 iteration 300 with loss 0.34988. Total time 1.265 hours\n",
      "Validation at Epoch 27, AUROC: 0.83291 , AUPRC: 0.60281 , F1: 0.50240 , Cross-entropy Loss: 4.54498\n",
      "Training at Epoch 28 iteration 0 with loss 0.32774. Total time 1.27916 hours\n",
      "Training at Epoch 28 iteration 100 with loss 0.23202. Total time 1.29 hours\n",
      "Training at Epoch 28 iteration 200 with loss 0.27514. Total time 1.30111 hours\n",
      "Training at Epoch 28 iteration 300 with loss 0.29285. Total time 1.31222 hours\n",
      "Validation at Epoch 28, AUROC: 0.83612 , AUPRC: 0.60345 , F1: 0.46117 , Cross-entropy Loss: 4.47175\n",
      "Training at Epoch 29 iteration 0 with loss 0.34147. Total time 1.32611 hours\n",
      "Training at Epoch 29 iteration 100 with loss 0.38846. Total time 1.33722 hours\n",
      "Training at Epoch 29 iteration 200 with loss 0.40797. Total time 1.34805 hours\n",
      "Training at Epoch 29 iteration 300 with loss 0.31745. Total time 1.35916 hours\n",
      "Validation at Epoch 29, AUROC: 0.83197 , AUPRC: 0.60123 , F1: 0.41087 , Cross-entropy Loss: 4.54985\n",
      "Training at Epoch 30 iteration 0 with loss 0.26310. Total time 1.37333 hours\n",
      "Training at Epoch 30 iteration 100 with loss 0.41681. Total time 1.38416 hours\n",
      "Training at Epoch 30 iteration 200 with loss 0.27763. Total time 1.39527 hours\n",
      "Training at Epoch 30 iteration 300 with loss 0.33064. Total time 1.40611 hours\n",
      "Validation at Epoch 30, AUROC: 0.83307 , AUPRC: 0.59191 , F1: 0.48864 , Cross-entropy Loss: 4.61821\n",
      "Training at Epoch 31 iteration 0 with loss 0.28063. Total time 1.42027 hours\n",
      "Training at Epoch 31 iteration 100 with loss 0.37801. Total time 1.43138 hours\n",
      "Training at Epoch 31 iteration 200 with loss 0.38568. Total time 1.44222 hours\n",
      "Training at Epoch 31 iteration 300 with loss 0.36119. Total time 1.45333 hours\n",
      "Validation at Epoch 31, AUROC: 0.83465 , AUPRC: 0.60018 , F1: 0.49811 , Cross-entropy Loss: 4.55475\n",
      "Training at Epoch 32 iteration 0 with loss 0.37512. Total time 1.4675 hours\n",
      "Training at Epoch 32 iteration 100 with loss 0.28535. Total time 1.47833 hours\n",
      "Training at Epoch 32 iteration 200 with loss 0.25250. Total time 1.48944 hours\n",
      "Training at Epoch 32 iteration 300 with loss 0.25758. Total time 1.50027 hours\n",
      "Validation at Epoch 32, AUROC: 0.83540 , AUPRC: 0.60470 , F1: 0.35415 , Cross-entropy Loss: 4.59378\n",
      "Training at Epoch 33 iteration 0 with loss 0.28672. Total time 1.51444 hours\n",
      "Training at Epoch 33 iteration 100 with loss 0.35765. Total time 1.52527 hours\n",
      "Training at Epoch 33 iteration 200 with loss 0.19498. Total time 1.53638 hours\n",
      "Training at Epoch 33 iteration 300 with loss 0.33063. Total time 1.5475 hours\n",
      "Validation at Epoch 33, AUROC: 0.84011 , AUPRC: 0.61064 , F1: 0.47803 , Cross-entropy Loss: 4.46687\n",
      "Training at Epoch 34 iteration 0 with loss 0.27016. Total time 1.56166 hours\n",
      "Training at Epoch 34 iteration 100 with loss 0.34395. Total time 1.57277 hours\n",
      "Training at Epoch 34 iteration 200 with loss 0.24740. Total time 1.58361 hours\n",
      "Training at Epoch 34 iteration 300 with loss 0.26072. Total time 1.59472 hours\n",
      "Validation at Epoch 34, AUROC: 0.83731 , AUPRC: 0.60607 , F1: 0.53360 , Cross-entropy Loss: 4.54011\n",
      "Training at Epoch 35 iteration 0 with loss 0.25994. Total time 1.60888 hours\n",
      "Training at Epoch 35 iteration 100 with loss 0.32227. Total time 1.61972 hours\n",
      "Training at Epoch 35 iteration 200 with loss 0.32579. Total time 1.63083 hours\n",
      "Training at Epoch 35 iteration 300 with loss 0.32742. Total time 1.64166 hours\n",
      "Validation at Epoch 35, AUROC: 0.83599 , AUPRC: 0.60708 , F1: 0.36054 , Cross-entropy Loss: 4.58890\n",
      "Training at Epoch 36 iteration 0 with loss 0.29982. Total time 1.65583 hours\n",
      "Training at Epoch 36 iteration 100 with loss 0.23332. Total time 1.66694 hours\n",
      "Training at Epoch 36 iteration 200 with loss 0.30195. Total time 1.67805 hours\n",
      "Training at Epoch 36 iteration 300 with loss 0.38787. Total time 1.68916 hours\n",
      "Validation at Epoch 36, AUROC: 0.83478 , AUPRC: 0.60715 , F1: 0.44552 , Cross-entropy Loss: 4.47174\n",
      "Training at Epoch 37 iteration 0 with loss 0.32374. Total time 1.70333 hours\n",
      "Training at Epoch 37 iteration 100 with loss 0.28183. Total time 1.71416 hours\n",
      "Training at Epoch 37 iteration 200 with loss 0.30403. Total time 1.72527 hours\n",
      "Training at Epoch 37 iteration 300 with loss 0.41049. Total time 1.73611 hours\n",
      "Validation at Epoch 37, AUROC: 0.83138 , AUPRC: 0.60694 , F1: 0.48022 , Cross-entropy Loss: 4.49128\n",
      "Training at Epoch 38 iteration 0 with loss 0.25801. Total time 1.75027 hours\n",
      "Training at Epoch 38 iteration 100 with loss 0.33239. Total time 1.76111 hours\n",
      "Training at Epoch 38 iteration 200 with loss 0.26880. Total time 1.77222 hours\n",
      "Training at Epoch 38 iteration 300 with loss 0.32921. Total time 1.78333 hours\n",
      "Validation at Epoch 38, AUROC: 0.83730 , AUPRC: 0.60767 , F1: 0.48651 , Cross-entropy Loss: 4.46199\n",
      "Training at Epoch 39 iteration 0 with loss 0.32662. Total time 1.7975 hours\n",
      "Training at Epoch 39 iteration 100 with loss 0.31548. Total time 1.80833 hours\n",
      "Training at Epoch 39 iteration 200 with loss 0.16388. Total time 1.81944 hours\n",
      "Training at Epoch 39 iteration 300 with loss 0.23001. Total time 1.83027 hours\n",
      "Validation at Epoch 39, AUROC: 0.83337 , AUPRC: 0.60577 , F1: 0.47146 , Cross-entropy Loss: 4.47663\n",
      "Training at Epoch 40 iteration 0 with loss 0.26775. Total time 1.84444 hours\n",
      "Training at Epoch 40 iteration 100 with loss 0.37055. Total time 1.85555 hours\n",
      "Training at Epoch 40 iteration 200 with loss 0.26979. Total time 1.86638 hours\n",
      "Training at Epoch 40 iteration 300 with loss 0.29325. Total time 1.8775 hours\n",
      "Validation at Epoch 40, AUROC: 0.83354 , AUPRC: 0.60634 , F1: 0.48412 , Cross-entropy Loss: 4.44246\n",
      "Training at Epoch 41 iteration 0 with loss 0.27337. Total time 1.89166 hours\n",
      "Training at Epoch 41 iteration 100 with loss 0.33513. Total time 1.9025 hours\n",
      "Training at Epoch 41 iteration 200 with loss 0.30284. Total time 1.91361 hours\n",
      "Training at Epoch 41 iteration 300 with loss 0.30459. Total time 1.92444 hours\n",
      "Validation at Epoch 41, AUROC: 0.83589 , AUPRC: 0.60828 , F1: 0.35689 , Cross-entropy Loss: 4.57425\n",
      "Training at Epoch 42 iteration 0 with loss 0.26689. Total time 1.93861 hours\n",
      "Training at Epoch 42 iteration 100 with loss 0.32161. Total time 1.94972 hours\n",
      "Training at Epoch 42 iteration 200 with loss 0.30036. Total time 1.96055 hours\n",
      "Training at Epoch 42 iteration 300 with loss 0.23703. Total time 1.97166 hours\n",
      "Validation at Epoch 42, AUROC: 0.83642 , AUPRC: 0.60910 , F1: 0.48433 , Cross-entropy Loss: 4.41805\n",
      "Training at Epoch 43 iteration 0 with loss 0.29252. Total time 1.98583 hours\n",
      "Training at Epoch 43 iteration 100 with loss 0.29255. Total time 1.99666 hours\n",
      "Training at Epoch 43 iteration 200 with loss 0.23990. Total time 2.0075 hours\n",
      "Training at Epoch 43 iteration 300 with loss 0.27292. Total time 2.01861 hours\n",
      "Validation at Epoch 43, AUROC: 0.83539 , AUPRC: 0.60984 , F1: 0.49806 , Cross-entropy Loss: 4.42781\n",
      "Training at Epoch 44 iteration 0 with loss 0.30113. Total time 2.0325 hours\n",
      "Training at Epoch 44 iteration 100 with loss 0.30823. Total time 2.04361 hours\n",
      "Training at Epoch 44 iteration 200 with loss 0.42175. Total time 2.05472 hours\n",
      "Training at Epoch 44 iteration 300 with loss 0.30027. Total time 2.06555 hours\n",
      "Validation at Epoch 44, AUROC: 0.83546 , AUPRC: 0.60793 , F1: 0.45758 , Cross-entropy Loss: 4.43269\n",
      "Training at Epoch 45 iteration 0 with loss 0.21922. Total time 2.07972 hours\n",
      "Training at Epoch 45 iteration 100 with loss 0.27149. Total time 2.09083 hours\n",
      "Training at Epoch 45 iteration 200 with loss 0.19435. Total time 2.10166 hours\n",
      "Training at Epoch 45 iteration 300 with loss 0.26220. Total time 2.11277 hours\n",
      "Validation at Epoch 45, AUROC: 0.83657 , AUPRC: 0.60774 , F1: 0.48325 , Cross-entropy Loss: 4.52057\n",
      "Training at Epoch 46 iteration 0 with loss 0.28242. Total time 2.12694 hours\n",
      "Training at Epoch 46 iteration 100 with loss 0.35586. Total time 2.13777 hours\n",
      "Training at Epoch 46 iteration 200 with loss 0.26168. Total time 2.14888 hours\n",
      "Training at Epoch 46 iteration 300 with loss 0.22093. Total time 2.15972 hours\n",
      "Validation at Epoch 46, AUROC: 0.83465 , AUPRC: 0.60262 , F1: 0.40283 , Cross-entropy Loss: 4.53032\n",
      "Training at Epoch 47 iteration 0 with loss 0.21472. Total time 2.17388 hours\n",
      "Training at Epoch 47 iteration 100 with loss 0.37838. Total time 2.185 hours\n",
      "Training at Epoch 47 iteration 200 with loss 0.36926. Total time 2.19583 hours\n",
      "Training at Epoch 47 iteration 300 with loss 0.28172. Total time 2.20666 hours\n",
      "Validation at Epoch 47, AUROC: 0.83783 , AUPRC: 0.60699 , F1: 0.36775 , Cross-entropy Loss: 4.63284\n",
      "Training at Epoch 48 iteration 0 with loss 0.33992. Total time 2.22083 hours\n",
      "Training at Epoch 48 iteration 100 with loss 0.34535. Total time 2.23194 hours\n",
      "Training at Epoch 48 iteration 200 with loss 0.32828. Total time 2.24305 hours\n",
      "Training at Epoch 48 iteration 300 with loss 0.35096. Total time 2.25388 hours\n",
      "Validation at Epoch 48, AUROC: 0.83438 , AUPRC: 0.60005 , F1: 0.48879 , Cross-entropy Loss: 4.56451\n",
      "Training at Epoch 49 iteration 0 with loss 0.27004. Total time 2.26805 hours\n",
      "Training at Epoch 49 iteration 100 with loss 0.28009. Total time 2.27916 hours\n",
      "Training at Epoch 49 iteration 200 with loss 0.30329. Total time 2.29 hours\n",
      "Training at Epoch 49 iteration 300 with loss 0.25851. Total time 2.30111 hours\n",
      "Validation at Epoch 49, AUROC: 0.83564 , AUPRC: 0.60929 , F1: 0.50854 , Cross-entropy Loss: 4.49128\n",
      "Training at Epoch 50 iteration 0 with loss 0.22324. Total time 2.31527 hours\n",
      "Training at Epoch 50 iteration 100 with loss 0.25989. Total time 2.32638 hours\n",
      "Training at Epoch 50 iteration 200 with loss 0.28202. Total time 2.33722 hours\n",
      "Training at Epoch 50 iteration 300 with loss 0.23640. Total time 2.34833 hours\n",
      "Validation at Epoch 50, AUROC: 0.83485 , AUPRC: 0.60182 , F1: 0.37290 , Cross-entropy Loss: 4.56449\n",
      "Training at Epoch 51 iteration 0 with loss 0.31733. Total time 2.3625 hours\n",
      "Training at Epoch 51 iteration 100 with loss 0.42229. Total time 2.37333 hours\n",
      "Training at Epoch 51 iteration 200 with loss 0.23701. Total time 2.38444 hours\n",
      "Training at Epoch 51 iteration 300 with loss 0.32945. Total time 2.39527 hours\n",
      "Validation at Epoch 51, AUROC: 0.83432 , AUPRC: 0.60549 , F1: 0.47187 , Cross-entropy Loss: 4.49128\n",
      "Training at Epoch 52 iteration 0 with loss 0.31474. Total time 2.40944 hours\n",
      "Training at Epoch 52 iteration 100 with loss 0.30393. Total time 2.42055 hours\n",
      "Training at Epoch 52 iteration 200 with loss 0.32577. Total time 2.43138 hours\n",
      "Training at Epoch 52 iteration 300 with loss 0.26011. Total time 2.4425 hours\n",
      "Validation at Epoch 52, AUROC: 0.83554 , AUPRC: 0.60899 , F1: 0.47461 , Cross-entropy Loss: 4.49616\n",
      "Training at Epoch 53 iteration 0 with loss 0.28380. Total time 2.45638 hours\n",
      "Training at Epoch 53 iteration 100 with loss 0.34090. Total time 2.4675 hours\n",
      "Training at Epoch 53 iteration 200 with loss 0.27313. Total time 2.47833 hours\n",
      "Training at Epoch 53 iteration 300 with loss 0.26780. Total time 2.48944 hours\n",
      "Validation at Epoch 53, AUROC: 0.83392 , AUPRC: 0.60349 , F1: 0.46027 , Cross-entropy Loss: 4.47663\n",
      "Training at Epoch 54 iteration 0 with loss 0.24765. Total time 2.50333 hours\n",
      "Training at Epoch 54 iteration 100 with loss 0.20002. Total time 2.51444 hours\n",
      "Training at Epoch 54 iteration 200 with loss 0.32066. Total time 2.52555 hours\n",
      "Training at Epoch 54 iteration 300 with loss 0.37464. Total time 2.53666 hours\n",
      "Validation at Epoch 54, AUROC: 0.83595 , AUPRC: 0.60320 , F1: 0.48004 , Cross-entropy Loss: 4.51569\n",
      "Training at Epoch 55 iteration 0 with loss 0.27076. Total time 2.55083 hours\n",
      "Training at Epoch 55 iteration 100 with loss 0.22076. Total time 2.56166 hours\n",
      "Training at Epoch 55 iteration 200 with loss 0.25767. Total time 2.5725 hours\n",
      "Training at Epoch 55 iteration 300 with loss 0.27322. Total time 2.58361 hours\n",
      "Validation at Epoch 55, AUROC: 0.83430 , AUPRC: 0.60684 , F1: 0.39241 , Cross-entropy Loss: 4.53520\n",
      "Training at Epoch 56 iteration 0 with loss 0.28261. Total time 2.59777 hours\n",
      "Training at Epoch 56 iteration 100 with loss 0.31576. Total time 2.60888 hours\n",
      "Training at Epoch 56 iteration 200 with loss 0.36589. Total time 2.61972 hours\n",
      "Training at Epoch 56 iteration 300 with loss 0.32040. Total time 2.63083 hours\n",
      "Validation at Epoch 56, AUROC: 0.83666 , AUPRC: 0.60906 , F1: 0.37215 , Cross-entropy Loss: 4.57913\n",
      "Training at Epoch 57 iteration 0 with loss 0.24447. Total time 2.645 hours\n",
      "Training at Epoch 57 iteration 100 with loss 0.30013. Total time 2.65583 hours\n",
      "Training at Epoch 57 iteration 200 with loss 0.19325. Total time 2.66694 hours\n",
      "Training at Epoch 57 iteration 300 with loss 0.27518. Total time 2.67777 hours\n",
      "Validation at Epoch 57, AUROC: 0.83133 , AUPRC: 0.59936 , F1: 0.39637 , Cross-entropy Loss: 4.54985\n",
      "Training at Epoch 58 iteration 0 with loss 0.24524. Total time 2.69194 hours\n",
      "Training at Epoch 58 iteration 100 with loss 0.25476. Total time 2.70305 hours\n",
      "Training at Epoch 58 iteration 200 with loss 0.36538. Total time 2.71388 hours\n",
      "Training at Epoch 58 iteration 300 with loss 0.22956. Total time 2.725 hours\n",
      "Validation at Epoch 58, AUROC: 0.82933 , AUPRC: 0.59963 , F1: 0.42124 , Cross-entropy Loss: 4.57426\n",
      "Training at Epoch 59 iteration 0 with loss 0.25644. Total time 2.73916 hours\n",
      "Training at Epoch 59 iteration 100 with loss 0.22771. Total time 2.75 hours\n",
      "Training at Epoch 59 iteration 200 with loss 0.27155. Total time 2.76083 hours\n",
      "Training at Epoch 59 iteration 300 with loss 0.18151. Total time 2.77194 hours\n",
      "Validation at Epoch 59, AUROC: 0.83384 , AUPRC: 0.60705 , F1: 0.46397 , Cross-entropy Loss: 4.46686\n",
      "Training at Epoch 60 iteration 0 with loss 0.29039. Total time 2.78611 hours\n",
      "Training at Epoch 60 iteration 100 with loss 0.24556. Total time 2.79722 hours\n",
      "Training at Epoch 60 iteration 200 with loss 0.31135. Total time 2.80805 hours\n",
      "Training at Epoch 60 iteration 300 with loss 0.19077. Total time 2.81916 hours\n",
      "Validation at Epoch 60, AUROC: 0.83209 , AUPRC: 0.60473 , F1: 0.41202 , Cross-entropy Loss: 4.58402\n",
      "Training at Epoch 61 iteration 0 with loss 0.31715. Total time 2.83333 hours\n",
      "Training at Epoch 61 iteration 100 with loss 0.32844. Total time 2.84416 hours\n",
      "Training at Epoch 61 iteration 200 with loss 0.21471. Total time 2.85527 hours\n",
      "Training at Epoch 61 iteration 300 with loss 0.30335. Total time 2.86611 hours\n",
      "Validation at Epoch 61, AUROC: 0.83464 , AUPRC: 0.60277 , F1: 0.43436 , Cross-entropy Loss: 4.56450\n",
      "Training at Epoch 62 iteration 0 with loss 0.32042. Total time 2.88027 hours\n",
      "Training at Epoch 62 iteration 100 with loss 0.21195. Total time 2.89138 hours\n",
      "Training at Epoch 62 iteration 200 with loss 0.26822. Total time 2.90222 hours\n",
      "Training at Epoch 62 iteration 300 with loss 0.29086. Total time 2.91305 hours\n",
      "Validation at Epoch 62, AUROC: 0.83334 , AUPRC: 0.60535 , F1: 0.39325 , Cross-entropy Loss: 4.56449\n",
      "Training at Epoch 63 iteration 0 with loss 0.25974. Total time 2.92722 hours\n",
      "Training at Epoch 63 iteration 100 with loss 0.35571. Total time 2.93833 hours\n",
      "Training at Epoch 63 iteration 200 with loss 0.30283. Total time 2.94944 hours\n",
      "Training at Epoch 63 iteration 300 with loss 0.28350. Total time 2.96027 hours\n",
      "Validation at Epoch 63, AUROC: 0.83437 , AUPRC: 0.60468 , F1: 0.35486 , Cross-entropy Loss: 4.63283\n",
      "Training at Epoch 64 iteration 0 with loss 0.37306. Total time 2.97444 hours\n",
      "Training at Epoch 64 iteration 100 with loss 0.23462. Total time 2.98527 hours\n",
      "Training at Epoch 64 iteration 200 with loss 0.29292. Total time 2.99638 hours\n",
      "Training at Epoch 64 iteration 300 with loss 0.22344. Total time 3.0075 hours\n",
      "Validation at Epoch 64, AUROC: 0.83302 , AUPRC: 0.60424 , F1: 0.40129 , Cross-entropy Loss: 4.50103\n",
      "Training at Epoch 65 iteration 0 with loss 0.28687. Total time 3.02166 hours\n",
      "Training at Epoch 65 iteration 100 with loss 0.31455. Total time 3.0325 hours\n",
      "Training at Epoch 65 iteration 200 with loss 0.30655. Total time 3.04361 hours\n",
      "Training at Epoch 65 iteration 300 with loss 0.35495. Total time 3.05444 hours\n",
      "Validation at Epoch 65, AUROC: 0.83401 , AUPRC: 0.60447 , F1: 0.44698 , Cross-entropy Loss: 4.48151\n",
      "Training at Epoch 66 iteration 0 with loss 0.20990. Total time 3.06861 hours\n",
      "Training at Epoch 66 iteration 100 with loss 0.40539. Total time 3.07972 hours\n",
      "Training at Epoch 66 iteration 200 with loss 0.25302. Total time 3.09055 hours\n",
      "Training at Epoch 66 iteration 300 with loss 0.29578. Total time 3.10166 hours\n",
      "Validation at Epoch 66, AUROC: 0.83156 , AUPRC: 0.60497 , F1: 0.48933 , Cross-entropy Loss: 4.44246\n",
      "Training at Epoch 67 iteration 0 with loss 0.33726. Total time 3.11583 hours\n",
      "Training at Epoch 67 iteration 100 with loss 0.30621. Total time 3.12694 hours\n",
      "Training at Epoch 67 iteration 200 with loss 0.24555. Total time 3.13777 hours\n",
      "Training at Epoch 67 iteration 300 with loss 0.22410. Total time 3.14861 hours\n",
      "Validation at Epoch 67, AUROC: 0.82707 , AUPRC: 0.59955 , F1: 0.49299 , Cross-entropy Loss: 4.41805\n",
      "Training at Epoch 68 iteration 0 with loss 0.26995. Total time 3.16277 hours\n",
      "Training at Epoch 68 iteration 100 with loss 0.37308. Total time 3.17388 hours\n",
      "Training at Epoch 68 iteration 200 with loss 0.35486. Total time 3.185 hours\n",
      "Training at Epoch 68 iteration 300 with loss 0.35628. Total time 3.19583 hours\n",
      "Validation at Epoch 68, AUROC: 0.83011 , AUPRC: 0.60088 , F1: 0.48663 , Cross-entropy Loss: 4.50104\n",
      "Training at Epoch 69 iteration 0 with loss 0.24905. Total time 3.21 hours\n",
      "Training at Epoch 69 iteration 100 with loss 0.29157. Total time 3.22111 hours\n",
      "Training at Epoch 69 iteration 200 with loss 0.39207. Total time 3.23194 hours\n",
      "Training at Epoch 69 iteration 300 with loss 0.30488. Total time 3.24305 hours\n",
      "Validation at Epoch 69, AUROC: 0.83133 , AUPRC: 0.60408 , F1: 0.47416 , Cross-entropy Loss: 4.47175\n",
      "Training at Epoch 70 iteration 0 with loss 0.29213. Total time 3.25722 hours\n",
      "Training at Epoch 70 iteration 100 with loss 0.26219. Total time 3.26833 hours\n",
      "Training at Epoch 70 iteration 200 with loss 0.25042. Total time 3.27944 hours\n",
      "Training at Epoch 70 iteration 300 with loss 0.33304. Total time 3.29027 hours\n",
      "Validation at Epoch 70, AUROC: 0.83293 , AUPRC: 0.60171 , F1: 0.46037 , Cross-entropy Loss: 4.52057\n",
      "Training at Epoch 71 iteration 0 with loss 0.30028. Total time 3.30444 hours\n",
      "Training at Epoch 71 iteration 100 with loss 0.25878. Total time 3.31555 hours\n",
      "Training at Epoch 71 iteration 200 with loss 0.29890. Total time 3.32638 hours\n",
      "Training at Epoch 71 iteration 300 with loss 0.26694. Total time 3.3375 hours\n",
      "Validation at Epoch 71, AUROC: 0.82939 , AUPRC: 0.60279 , F1: 0.36067 , Cross-entropy Loss: 4.60354\n",
      "Training at Epoch 72 iteration 0 with loss 0.27612. Total time 3.35138 hours\n",
      "Training at Epoch 72 iteration 100 with loss 0.40579. Total time 3.3625 hours\n",
      "Training at Epoch 72 iteration 200 with loss 0.22305. Total time 3.37361 hours\n",
      "Training at Epoch 72 iteration 300 with loss 0.30425. Total time 3.38472 hours\n",
      "Validation at Epoch 72, AUROC: 0.83206 , AUPRC: 0.60661 , F1: 0.49555 , Cross-entropy Loss: 4.43270\n",
      "Training at Epoch 73 iteration 0 with loss 0.32489. Total time 3.39888 hours\n",
      "Training at Epoch 73 iteration 100 with loss 0.30644. Total time 3.40972 hours\n",
      "Training at Epoch 73 iteration 200 with loss 0.27518. Total time 3.42083 hours\n",
      "Training at Epoch 73 iteration 300 with loss 0.26146. Total time 3.43166 hours\n",
      "Validation at Epoch 73, AUROC: 0.83166 , AUPRC: 0.60373 , F1: 0.43776 , Cross-entropy Loss: 4.56450\n",
      "Training at Epoch 74 iteration 0 with loss 0.24786. Total time 3.44583 hours\n",
      "Training at Epoch 74 iteration 100 with loss 0.25446. Total time 3.45694 hours\n",
      "Training at Epoch 74 iteration 200 with loss 0.33387. Total time 3.46777 hours\n",
      "Training at Epoch 74 iteration 300 with loss 0.22488. Total time 3.47861 hours\n",
      "Validation at Epoch 74, AUROC: 0.83328 , AUPRC: 0.60497 , F1: 0.48660 , Cross-entropy Loss: 4.49128\n",
      "Training at Epoch 75 iteration 0 with loss 0.33483. Total time 3.49277 hours\n",
      "Training at Epoch 75 iteration 100 with loss 0.22628. Total time 3.50388 hours\n",
      "Training at Epoch 75 iteration 200 with loss 0.37986. Total time 3.51472 hours\n",
      "Training at Epoch 75 iteration 300 with loss 0.29452. Total time 3.52583 hours\n",
      "Validation at Epoch 75, AUROC: 0.83404 , AUPRC: 0.60702 , F1: 0.48745 , Cross-entropy Loss: 4.48640\n",
      "Training at Epoch 76 iteration 0 with loss 0.34024. Total time 3.54 hours\n",
      "Training at Epoch 76 iteration 100 with loss 0.27385. Total time 3.55111 hours\n",
      "Training at Epoch 76 iteration 200 with loss 0.27148. Total time 3.56194 hours\n",
      "Training at Epoch 76 iteration 300 with loss 0.24018. Total time 3.57305 hours\n",
      "Validation at Epoch 76, AUROC: 0.82980 , AUPRC: 0.58666 , F1: 0.48017 , Cross-entropy Loss: 4.54498\n",
      "Training at Epoch 77 iteration 0 with loss 0.35685. Total time 3.58722 hours\n",
      "Training at Epoch 77 iteration 100 with loss 0.27375. Total time 3.59833 hours\n",
      "Training at Epoch 77 iteration 200 with loss 0.32860. Total time 3.60916 hours\n",
      "Training at Epoch 77 iteration 300 with loss 0.28679. Total time 3.62 hours\n",
      "Validation at Epoch 77, AUROC: 0.83299 , AUPRC: 0.60594 , F1: 0.48715 , Cross-entropy Loss: 4.48151\n",
      "Training at Epoch 78 iteration 0 with loss 0.37793. Total time 3.63416 hours\n",
      "Training at Epoch 78 iteration 100 with loss 0.36033. Total time 3.64527 hours\n",
      "Training at Epoch 78 iteration 200 with loss 0.31886. Total time 3.65638 hours\n",
      "Training at Epoch 78 iteration 300 with loss 0.20048. Total time 3.66722 hours\n",
      "Validation at Epoch 78, AUROC: 0.83446 , AUPRC: 0.60823 , F1: 0.48175 , Cross-entropy Loss: 4.50592\n",
      "Training at Epoch 79 iteration 0 with loss 0.27380. Total time 3.68138 hours\n",
      "Training at Epoch 79 iteration 100 with loss 0.28549. Total time 3.6925 hours\n",
      "Training at Epoch 79 iteration 200 with loss 0.23733. Total time 3.70333 hours\n",
      "Training at Epoch 79 iteration 300 with loss 0.27878. Total time 3.71444 hours\n",
      "Validation at Epoch 79, AUROC: 0.83317 , AUPRC: 0.60025 , F1: 0.47446 , Cross-entropy Loss: 4.52057\n",
      "Training at Epoch 80 iteration 0 with loss 0.31219. Total time 3.72861 hours\n",
      "Training at Epoch 80 iteration 100 with loss 0.26236. Total time 3.73944 hours\n",
      "Training at Epoch 80 iteration 200 with loss 0.23054. Total time 3.75055 hours\n",
      "Training at Epoch 80 iteration 300 with loss 0.35977. Total time 3.76138 hours\n",
      "Validation at Epoch 80, AUROC: 0.83228 , AUPRC: 0.60396 , F1: 0.52637 , Cross-entropy Loss: 4.47176\n",
      "Training at Epoch 81 iteration 0 with loss 0.30784. Total time 3.77555 hours\n",
      "Training at Epoch 81 iteration 100 with loss 0.18767. Total time 3.78666 hours\n",
      "Training at Epoch 81 iteration 200 with loss 0.20510. Total time 3.79777 hours\n",
      "Training at Epoch 81 iteration 300 with loss 0.23073. Total time 3.80861 hours\n",
      "Validation at Epoch 81, AUROC: 0.83332 , AUPRC: 0.60395 , F1: 0.52092 , Cross-entropy Loss: 4.47176\n",
      "Training at Epoch 82 iteration 0 with loss 0.39904. Total time 3.82277 hours\n",
      "Training at Epoch 82 iteration 100 with loss 0.32014. Total time 3.83388 hours\n",
      "Training at Epoch 82 iteration 200 with loss 0.40283. Total time 3.84472 hours\n",
      "Training at Epoch 82 iteration 300 with loss 0.29341. Total time 3.85583 hours\n",
      "Validation at Epoch 82, AUROC: 0.83184 , AUPRC: 0.60773 , F1: 0.39053 , Cross-entropy Loss: 4.52544\n",
      "Training at Epoch 83 iteration 0 with loss 0.34736. Total time 3.87 hours\n",
      "Training at Epoch 83 iteration 100 with loss 0.24237. Total time 3.88111 hours\n",
      "Training at Epoch 83 iteration 200 with loss 0.31277. Total time 3.89194 hours\n",
      "Training at Epoch 83 iteration 300 with loss 0.22708. Total time 3.90305 hours\n",
      "Validation at Epoch 83, AUROC: 0.83450 , AUPRC: 0.60447 , F1: 0.40306 , Cross-entropy Loss: 4.56938\n",
      "Training at Epoch 84 iteration 0 with loss 0.30392. Total time 3.91722 hours\n",
      "Training at Epoch 84 iteration 100 with loss 0.40090. Total time 3.92805 hours\n",
      "Training at Epoch 84 iteration 200 with loss 0.22649. Total time 3.93916 hours\n",
      "Training at Epoch 84 iteration 300 with loss 0.37073. Total time 3.95027 hours\n",
      "Validation at Epoch 84, AUROC: 0.83273 , AUPRC: 0.60283 , F1: 0.46962 , Cross-entropy Loss: 4.43269\n",
      "Training at Epoch 85 iteration 0 with loss 0.26172. Total time 3.96444 hours\n",
      "Training at Epoch 85 iteration 100 with loss 0.22933. Total time 3.97527 hours\n",
      "Training at Epoch 85 iteration 200 with loss 0.28281. Total time 3.98638 hours\n",
      "Training at Epoch 85 iteration 300 with loss 0.25115. Total time 3.99722 hours\n",
      "Validation at Epoch 85, AUROC: 0.83346 , AUPRC: 0.60557 , F1: 0.53482 , Cross-entropy Loss: 4.46688\n",
      "Training at Epoch 86 iteration 0 with loss 0.23820. Total time 4.01138 hours\n",
      "Training at Epoch 86 iteration 100 with loss 0.38026. Total time 4.0225 hours\n",
      "Training at Epoch 86 iteration 200 with loss 0.37569. Total time 4.03333 hours\n",
      "Training at Epoch 86 iteration 300 with loss 0.26792. Total time 4.04416 hours\n",
      "Validation at Epoch 86, AUROC: 0.83429 , AUPRC: 0.60654 , F1: 0.46072 , Cross-entropy Loss: 4.45710\n",
      "Training at Epoch 87 iteration 0 with loss 0.22766. Total time 4.05833 hours\n",
      "Training at Epoch 87 iteration 100 with loss 0.30456. Total time 4.06944 hours\n",
      "Training at Epoch 87 iteration 200 with loss 0.26005. Total time 4.08055 hours\n",
      "Training at Epoch 87 iteration 300 with loss 0.30202. Total time 4.09138 hours\n",
      "Validation at Epoch 87, AUROC: 0.83365 , AUPRC: 0.60526 , F1: 0.37190 , Cross-entropy Loss: 4.58402\n",
      "Training at Epoch 88 iteration 0 with loss 0.29615. Total time 4.10583 hours\n",
      "Training at Epoch 88 iteration 100 with loss 0.18765. Total time 4.11666 hours\n",
      "Training at Epoch 88 iteration 200 with loss 0.30678. Total time 4.1275 hours\n",
      "Training at Epoch 88 iteration 300 with loss 0.25388. Total time 4.13861 hours\n",
      "Validation at Epoch 88, AUROC: 0.83123 , AUPRC: 0.60344 , F1: 0.46997 , Cross-entropy Loss: 4.43757\n",
      "Training at Epoch 89 iteration 0 with loss 0.32601. Total time 4.15277 hours\n",
      "Training at Epoch 89 iteration 100 with loss 0.36561. Total time 4.16361 hours\n",
      "Training at Epoch 89 iteration 200 with loss 0.32519. Total time 4.17472 hours\n",
      "Training at Epoch 89 iteration 300 with loss 0.25600. Total time 4.18583 hours\n",
      "Validation at Epoch 89, AUROC: 0.83271 , AUPRC: 0.60108 , F1: 0.45630 , Cross-entropy Loss: 4.52545\n",
      "Training at Epoch 90 iteration 0 with loss 0.17830. Total time 4.2 hours\n",
      "Training at Epoch 90 iteration 100 with loss 0.36513. Total time 4.21083 hours\n",
      "Training at Epoch 90 iteration 200 with loss 0.33903. Total time 4.22194 hours\n",
      "Training at Epoch 90 iteration 300 with loss 0.18791. Total time 4.23277 hours\n",
      "Validation at Epoch 90, AUROC: 0.83532 , AUPRC: 0.60618 , F1: 0.46747 , Cross-entropy Loss: 4.51568\n",
      "Training at Epoch 91 iteration 0 with loss 0.30680. Total time 4.24722 hours\n",
      "Training at Epoch 91 iteration 100 with loss 0.45786. Total time 4.25805 hours\n",
      "Training at Epoch 91 iteration 200 with loss 0.28486. Total time 4.26916 hours\n",
      "Training at Epoch 91 iteration 300 with loss 0.32919. Total time 4.28 hours\n",
      "Validation at Epoch 91, AUROC: 0.83355 , AUPRC: 0.61115 , F1: 0.38863 , Cross-entropy Loss: 4.51567\n",
      "Training at Epoch 92 iteration 0 with loss 0.30034. Total time 4.29416 hours\n",
      "Training at Epoch 92 iteration 100 with loss 0.31059. Total time 4.30527 hours\n",
      "Training at Epoch 92 iteration 200 with loss 0.21466. Total time 4.31611 hours\n",
      "Training at Epoch 92 iteration 300 with loss 0.24557. Total time 4.32694 hours\n",
      "Validation at Epoch 92, AUROC: 0.83492 , AUPRC: 0.60879 , F1: 0.47972 , Cross-entropy Loss: 4.44734\n",
      "Training at Epoch 93 iteration 0 with loss 0.29504. Total time 4.34111 hours\n",
      "Training at Epoch 93 iteration 100 with loss 0.32255. Total time 4.35222 hours\n",
      "Training at Epoch 93 iteration 200 with loss 0.28456. Total time 4.36333 hours\n",
      "Training at Epoch 93 iteration 300 with loss 0.31981. Total time 4.37444 hours\n",
      "Validation at Epoch 93, AUROC: 0.83213 , AUPRC: 0.60622 , F1: 0.46788 , Cross-entropy Loss: 4.53033\n",
      "Training at Epoch 94 iteration 0 with loss 0.39675. Total time 4.38833 hours\n",
      "Training at Epoch 94 iteration 100 with loss 0.28257. Total time 4.39944 hours\n",
      "Training at Epoch 94 iteration 200 with loss 0.29868. Total time 4.41055 hours\n",
      "Training at Epoch 94 iteration 300 with loss 0.24233. Total time 4.42138 hours\n",
      "Validation at Epoch 94, AUROC: 0.83420 , AUPRC: 0.60681 , F1: 0.46035 , Cross-entropy Loss: 4.45222\n",
      "Training at Epoch 95 iteration 0 with loss 0.27647. Total time 4.43583 hours\n",
      "Training at Epoch 95 iteration 100 with loss 0.28576. Total time 4.44666 hours\n",
      "Training at Epoch 95 iteration 200 with loss 0.21813. Total time 4.4575 hours\n",
      "Training at Epoch 95 iteration 300 with loss 0.35238. Total time 4.46861 hours\n",
      "Validation at Epoch 95, AUROC: 0.82955 , AUPRC: 0.59134 , F1: 0.47304 , Cross-entropy Loss: 4.67679\n",
      "Training at Epoch 96 iteration 0 with loss 0.46385. Total time 4.48277 hours\n",
      "Training at Epoch 96 iteration 100 with loss 0.28987. Total time 4.49361 hours\n",
      "Training at Epoch 96 iteration 200 with loss 0.26605. Total time 4.50472 hours\n",
      "Training at Epoch 96 iteration 300 with loss 0.28250. Total time 4.51555 hours\n",
      "Validation at Epoch 96, AUROC: 0.82904 , AUPRC: 0.59714 , F1: 0.46769 , Cross-entropy Loss: 4.54498\n",
      "Training at Epoch 97 iteration 0 with loss 0.41869. Total time 4.52972 hours\n",
      "Training at Epoch 97 iteration 100 with loss 0.28499. Total time 4.54083 hours\n",
      "Training at Epoch 97 iteration 200 with loss 0.30736. Total time 4.55166 hours\n",
      "Training at Epoch 97 iteration 300 with loss 0.25764. Total time 4.56277 hours\n",
      "Validation at Epoch 97, AUROC: 0.83543 , AUPRC: 0.60685 , F1: 0.45676 , Cross-entropy Loss: 4.44734\n",
      "Training at Epoch 98 iteration 0 with loss 0.27061. Total time 4.57694 hours\n",
      "Training at Epoch 98 iteration 100 with loss 0.31201. Total time 4.58805 hours\n",
      "Training at Epoch 98 iteration 200 with loss 0.27722. Total time 4.59888 hours\n",
      "Training at Epoch 98 iteration 300 with loss 0.36183. Total time 4.61 hours\n",
      "Validation at Epoch 98, AUROC: 0.83200 , AUPRC: 0.59907 , F1: 0.48690 , Cross-entropy Loss: 4.49616\n",
      "Training at Epoch 99 iteration 0 with loss 0.23828. Total time 4.62416 hours\n",
      "Training at Epoch 99 iteration 100 with loss 0.31380. Total time 4.635 hours\n",
      "Training at Epoch 99 iteration 200 with loss 0.32501. Total time 4.64611 hours\n",
      "Training at Epoch 99 iteration 300 with loss 0.33406. Total time 4.65694 hours\n",
      "Validation at Epoch 99, AUROC: 0.83475 , AUPRC: 0.60610 , F1: 0.46985 , Cross-entropy Loss: 4.54986\n",
      "Training at Epoch 100 iteration 0 with loss 0.24831. Total time 4.67111 hours\n",
      "Training at Epoch 100 iteration 100 with loss 0.29721. Total time 4.68222 hours\n",
      "Training at Epoch 100 iteration 200 with loss 0.27783. Total time 4.69305 hours\n",
      "Training at Epoch 100 iteration 300 with loss 0.24055. Total time 4.70416 hours\n",
      "Validation at Epoch 100, AUROC: 0.83543 , AUPRC: 0.60689 , F1: 0.47362 , Cross-entropy Loss: 4.48151\n",
      "--- Go for Testing ---\n",
      "Validation at Epoch 100 , AUROC: 0.83990 , AUPRC: 0.61298 , F1: 0.47065 , Cross-entropy Loss: 4.49127\n",
      "--- Training Finished ---\n"
     ]
    },
    {
     "data": {
      "image/png": "[encoded data removed]",
      "text/plain": [
       "<Figure size 432x288 with 1 Axes>"
      ]
     },
     "metadata": {
      "needs_background": "light"
     },
     "output_type": "display_data"
    },
    {
     "data": {
      "image/png": "[encoded data removed]",
      "text/plain": [
       "<Figure size 432x288 with 1 Axes>"
      ]
     },
     "metadata": {
      "needs_background": "light"
     },
     "output_type": "display_data"
    },
    {
     "data": {
      "image/png": "[encoded data removed]",
      "text/plain": [
       "<Figure size 432x288 with 1 Axes>"
      ]
     },
     "metadata": {
      "needs_background": "light"
     },
     "output_type": "display_data"
    }
   ],
   "source": [
    "model = models.model_initialize(**config)\n",
    "model.train(train, val, test)"
   ]
  },
  {
   "cell_type": "markdown",
   "metadata": {},
   "source": [
    "# Degree Analysis"
   ]
  },
  {
   "cell_type": "markdown",
   "metadata": {
    "heading_collapsed": true
   },
   "source": [
    "## Imports"
   ]
  },
  {
   "cell_type": "code",
   "execution_count": 10,
   "metadata": {
    "hidden": true
   },
   "outputs": [],
   "source": [
    "from tqdm import tqdm \n",
    "\n",
    "import pickle as pkl\n",
    "\n",
    "import lxml\n",
    "import pandas as pd\n",
    "import numpy as np\n",
    "#import seaborn as sns\n",
    "import matplotlib.pyplot as plt\n",
    "import tensorflow.keras\n",
    "from tensorflow.keras.datasets import imdb\n",
    "\n",
    "from sklearn.metrics import confusion_matrix\n",
    "from sklearn.utils.multiclass import unique_labels\n",
    "from sklearn.metrics import f1_score\n",
    "from sklearn.metrics import precision_recall_curve\n",
    "from sklearn.metrics import average_precision_score\n",
    "from sklearn.metrics import precision_score\n",
    "from matplotlib.pyplot import figure\n",
    "\n",
    "from sklearn.model_selection import train_test_split\n",
    "\n",
    "from sklearn.preprocessing import LabelEncoder, OneHotEncoder\n",
    "from ast import literal_eval\n",
    "from sklearn.model_selection import train_test_split\n",
    "from sklearn.linear_model import LogisticRegression\n",
    "from sklearn.metrics import confusion_matrix, f1_score, classification_report\n",
    "from tensorflow.keras.models import Sequential, Model\n",
    "from tensorflow.keras.layers import Input, Dense, Activation, Dropout, Conv1D, Flatten, MaxPooling1D,\\\n",
    "                        AveragePooling1D, Concatenate, LeakyReLU, Embedding,\\\n",
    "                        GlobalMaxPooling1D,GlobalAveragePooling1D,GaussianNoise,BatchNormalization,Add\n",
    "from tensorflow.keras.initializers import glorot_uniform\n",
    "#from tensorflow.keras.utils.vis_utils import plot_model\n",
    "\n",
    "import importlib\n",
    "from sklearn.metrics import roc_curve, roc_auc_score\n",
    "from tensorflow.keras.utils import plot_model\n",
    "import seaborn as sb"
   ]
  },
  {
   "cell_type": "markdown",
   "metadata": {},
   "source": [
    "## Initialization"
   ]
  },
  {
   "cell_type": "code",
   "execution_count": 108,
   "metadata": {},
   "outputs": [],
   "source": [
    "train = pd.read_csv('../data/Transformer_CNN_train_fold2.csv')\n",
    "val = pd.read_csv('../data/Transformer_CNN_val_fold2.csv')\n",
    "test = pd.read_csv('../data/Transformer_CNN_test_fold2.csv')\n",
    "\n",
    "#train = pd.read_csv('../data/Transformer_CNN_train.csv')\n",
    "#val = pd.read_csv('../data/Transformer_CNN_val.csv')\n",
    "#test = pd.read_csv('../data/Transformer_CNN_test.csv')"
   ]
  },
  {
   "cell_type": "code",
   "execution_count": 109,
   "metadata": {
    "scrolled": true
   },
   "outputs": [],
   "source": [
    "train[['SMILES','Target Sequence','Label']].to_csv('../data/deeppurpose_train_edges.csv')"
   ]
  },
  {
   "cell_type": "code",
   "execution_count": 110,
   "metadata": {
    "scrolled": true
   },
   "outputs": [],
   "source": [
    "smiles_dataframe = pd.DataFrame()\n",
    "smiles_dataframe['node'] = list(set(train['SMILES'].tolist())) + list(set(train['Target Sequence'].tolist()))\n",
    "smiles_dataframe['type'] = ['chemical'] * len(list(set(train['SMILES'].tolist()))) + ['target'] * len(list(set(train['Target Sequence'].tolist())))\n",
    "smiles_dataframe.to_csv('../data/smiles_gephi.csv')"
   ]
  },
  {
   "cell_type": "code",
   "execution_count": 111,
   "metadata": {
    "scrolled": false
   },
   "outputs": [],
   "source": [
    "all_data = pd.concat([train,val,test])"
   ]
  },
  {
   "cell_type": "code",
   "execution_count": 112,
   "metadata": {
    "scrolled": true
   },
   "outputs": [
    {
     "name": "stderr",
     "output_type": "stream",
     "text": [
      "100%|██████████| 13392/13392 [01:54<00:00, 117.08it/s]\n"
     ]
    }
   ],
   "source": [
    "ligand_degree_dict = dict()\n",
    "\n",
    "for chem in tqdm(set(all_data['SMILES'].tolist())):\n",
    "    ligand_degree_dict[chem] = dict() \n",
    "    sub_df = all_data[all_data['SMILES'] == chem]\n",
    "    ligand_degree_dict[chem]['pos_deg'] = sub_df['Label'].tolist().count(1)\n",
    "    ligand_degree_dict[chem]['neg_deg'] = sub_df['Label'].tolist().count(0)\n",
    "    ligand_degree_dict[chem]['deg_ratio'] = ligand_degree_dict[chem]['pos_deg']/(ligand_degree_dict[chem]['pos_deg']+ligand_degree_dict[chem]['neg_deg'])"
   ]
  },
  {
   "cell_type": "code",
   "execution_count": 113,
   "metadata": {
    "scrolled": true
   },
   "outputs": [
    {
     "name": "stderr",
     "output_type": "stream",
     "text": [
      "100%|██████████| 1507/1507 [00:12<00:00, 118.19it/s]\n"
     ]
    }
   ],
   "source": [
    "protein_degree_dict = dict()\n",
    "\n",
    "for prot in tqdm(set(all_data['Target Sequence'].tolist())):\n",
    "    protein_degree_dict[prot] = dict() \n",
    "    sub_df = all_data[all_data['Target Sequence'] == prot]\n",
    "    protein_degree_dict[prot]['pos_deg'] = sub_df['Label'].tolist().count(1)\n",
    "    protein_degree_dict[prot]['neg_deg'] = sub_df['Label'].tolist().count(0)\n",
    "    protein_degree_dict[prot]['deg_ratio'] = protein_degree_dict[prot]['pos_deg']/(protein_degree_dict[prot]['pos_deg']+protein_degree_dict[prot]['neg_deg'])"
   ]
  },
  {
   "cell_type": "code",
   "execution_count": 114,
   "metadata": {},
   "outputs": [
    {
     "name": "stderr",
     "output_type": "stream",
     "text": [
      "100%|██████████| 10432/10432 [01:03<00:00, 163.78it/s]\n"
     ]
    }
   ],
   "source": [
    "train_ligand_degree_dict = dict()\n",
    "\n",
    "for chem in tqdm(set(train['SMILES'].tolist())):\n",
    "    train_ligand_degree_dict[chem] = dict() \n",
    "    sub_df = train[train['SMILES'] == chem]\n",
    "    train_ligand_degree_dict[chem]['pos_deg'] = sub_df['Label'].tolist().count(1)\n",
    "    train_ligand_degree_dict[chem]['neg_deg'] = sub_df['Label'].tolist().count(0)\n",
    "    train_ligand_degree_dict[chem]['deg_ratio'] = train_ligand_degree_dict[chem]['pos_deg']/(train_ligand_degree_dict[chem]['pos_deg'] + train_ligand_degree_dict[chem]['neg_deg'])"
   ]
  },
  {
   "cell_type": "code",
   "execution_count": 115,
   "metadata": {},
   "outputs": [
    {
     "name": "stderr",
     "output_type": "stream",
     "text": [
      "100%|██████████| 1396/1396 [00:08<00:00, 164.45it/s]\n"
     ]
    }
   ],
   "source": [
    "train_protein_degree_dict = dict()\n",
    "\n",
    "for prot in tqdm(set(train['Target Sequence'].tolist())):\n",
    "    train_protein_degree_dict[prot] = dict() \n",
    "    sub_df = train[train['Target Sequence'] == prot]\n",
    "    train_protein_degree_dict[prot]['pos_deg'] = sub_df['Label'].tolist().count(1)\n",
    "    train_protein_degree_dict[prot]['neg_deg'] = sub_df['Label'].tolist().count(0)\n",
    "    train_protein_degree_dict[prot]['deg_ratio'] = train_protein_degree_dict[prot]['pos_deg']/(train_protein_degree_dict[prot]['pos_deg'] + train_protein_degree_dict[prot]['neg_deg'])"
   ]
  },
  {
   "cell_type": "code",
   "execution_count": 120,
   "metadata": {},
   "outputs": [
    {
     "data": {
      "text/plain": [
       "(array([11848.,     0.,     0.,     0.,     0.,     0.,     0.,     0.,\n",
       "            0.,  2302.]),\n",
       " array([0. , 0.1, 0.2, 0.3, 0.4, 0.5, 0.6, 0.7, 0.8, 0.9, 1. ]),\n",
       " <a list of 10 Patch objects>)"
      ]
     },
     "execution_count": 120,
     "metadata": {},
     "output_type": "execute_result"
    },
    {
     "data": {
      "image/png": "[encoded data removed]",
      "text/plain": [
       "<Figure size 432x288 with 1 Axes>"
      ]
     },
     "metadata": {
      "needs_background": "light"
     },
     "output_type": "display_data"
    }
   ],
   "source": [
    "test_preidcted = test['Y_predicted'].tolist()\n",
    "plt.hist(test_preidcted,alpha=0.2)\n",
    "plt.hist(test['Label'].tolist(),alpha=0.2)"
   ]
  },
  {
   "cell_type": "markdown",
   "metadata": {},
   "source": [
    "## Distributions of positive degree and degree ratio"
   ]
  },
  {
   "cell_type": "code",
   "execution_count": 184,
   "metadata": {
    "scrolled": true
   },
   "outputs": [],
   "source": [
    "#df = test_false_positive_100_seen_target.sort_values(by='prot_deg_ratio', ascending=False).head(30)\n",
    "#mydict = dict(zip(df['Target Sequence'],df['prot_deg']))"
   ]
  },
  {
   "cell_type": "code",
   "execution_count": 185,
   "metadata": {
    "scrolled": true
   },
   "outputs": [],
   "source": [
    "#df[df['Target Sequence'] == 'MSFPRGSQDRSVGNSSPWWPLTTEGSNGSQEAARLGEGDSPLGDVRNEELAKLEIAVLAVIFVVAVLGNSSVLLALHRTPRKTSRMHLFIRHLSLADLAVAFFQVLPQLCWDITYRFRGPDWLCRVVKHLQVFAMFASAYMLVVMTADRYIAVCHPLKTLQQPARRSRLMIATSWVLSFILSTPQYFIFSVIEIEVNNGTKTQDCWATFIQPWGTRAYVTWMTSGVFVAPVVVLGTCYGFICYHIWRNIRGKTASSRHSKGDKGSGEAVGPFHKGLLVTPCVSSVKSISRAKIRTVKMTFVIVSAYILCWAPFFIVQMWSVWDENFIWTDSENPSITITALLASLNSCCNPWIYMFFSGHLLQDCVQSFPCCHSMAQKFAKDDSDSMSRRQTSYSNNRSPTNSTGMWKDSPKSSKSIRFIPVST']"
   ]
  },
  {
   "cell_type": "code",
   "execution_count": 186,
   "metadata": {
    "scrolled": true
   },
   "outputs": [],
   "source": [
    "#mydict"
   ]
  },
  {
   "cell_type": "code",
   "execution_count": 121,
   "metadata": {
    "collapsed": true
   },
   "outputs": [
    {
     "name": "stderr",
     "output_type": "stream",
     "text": [
      "100it [00:00, 6358.67it/s]\n",
      "/miniconda/envs/DeepPurpose/lib/python3.7/site-packages/ipykernel_launcher.py:24: SettingWithCopyWarning: \n",
      "A value is trying to be set on a copy of a slice from a DataFrame.\n",
      "Try using .loc[row_indexer,col_indexer] = value instead\n",
      "\n",
      "See the caveats in the documentation: https://pandas.pydata.org/pandas-docs/stable/user_guide/indexing.html#returning-a-view-versus-a-copy\n",
      "/miniconda/envs/DeepPurpose/lib/python3.7/site-packages/ipykernel_launcher.py:25: SettingWithCopyWarning: \n",
      "A value is trying to be set on a copy of a slice from a DataFrame.\n",
      "Try using .loc[row_indexer,col_indexer] = value instead\n",
      "\n",
      "See the caveats in the documentation: https://pandas.pydata.org/pandas-docs/stable/user_guide/indexing.html#returning-a-view-versus-a-copy\n",
      "/miniconda/envs/DeepPurpose/lib/python3.7/site-packages/ipykernel_launcher.py:26: SettingWithCopyWarning: \n",
      "A value is trying to be set on a copy of a slice from a DataFrame.\n",
      "Try using .loc[row_indexer,col_indexer] = value instead\n",
      "\n",
      "See the caveats in the documentation: https://pandas.pydata.org/pandas-docs/stable/user_guide/indexing.html#returning-a-view-versus-a-copy\n",
      "/miniconda/envs/DeepPurpose/lib/python3.7/site-packages/ipykernel_launcher.py:27: SettingWithCopyWarning: \n",
      "A value is trying to be set on a copy of a slice from a DataFrame.\n",
      "Try using .loc[row_indexer,col_indexer] = value instead\n",
      "\n",
      "See the caveats in the documentation: https://pandas.pydata.org/pandas-docs/stable/user_guide/indexing.html#returning-a-view-versus-a-copy\n"
     ]
    }
   ],
   "source": [
    "test_false_positive = test[test['Label']==0].sort_values(by='Y_predicted', ascending=False)\n",
    "test_false_positive_100 = test_false_positive.head(100)\n",
    "\n",
    "test_ligand_deg = []\n",
    "test_prot_deg = []\n",
    "test_ligand_deg_ratio = []\n",
    "test_prot_deg_ratio = []\n",
    "\n",
    "for index, row in tqdm(test_false_positive_100.iterrows()):\n",
    "    if row['SMILES'] in train_ligand_degree_dict.keys():\n",
    "        test_ligand_deg.append(train_ligand_degree_dict[row['SMILES']]['pos_deg'])\n",
    "        test_ligand_deg_ratio.append(train_ligand_degree_dict[row['SMILES']]['deg_ratio'])\n",
    "    else:\n",
    "        test_ligand_deg.append(-1)\n",
    "        test_ligand_deg_ratio.append(-1)\n",
    "    \n",
    "    if row['Target Sequence'] in train_protein_degree_dict.keys():\n",
    "        test_prot_deg.append(train_protein_degree_dict[row['Target Sequence']]['pos_deg'])\n",
    "        test_prot_deg_ratio.append(train_protein_degree_dict[row['Target Sequence']]['deg_ratio'])\n",
    "    else:\n",
    "        test_prot_deg.append(-1)\n",
    "        test_prot_deg_ratio.append(-1)\n",
    "        \n",
    "test_false_positive_100['ligand_deg'] = test_ligand_deg\n",
    "test_false_positive_100['prot_deg'] = test_prot_deg\n",
    "test_false_positive_100['ligand_deg_ratio'] = test_ligand_deg_ratio\n",
    "test_false_positive_100['prot_deg_ratio'] = test_prot_deg_ratio\n",
    "\n",
    "test_false_positive_100_seen_ligand = test_false_positive_100[test_false_positive_100['ligand_deg'] != -1] ## intersection of train and test\n",
    "test_false_positive_100_seen_target = test_false_positive_100[test_false_positive_100['prot_deg'] != -1] ## intersection of train and test"
   ]
  },
  {
   "cell_type": "code",
   "execution_count": 122,
   "metadata": {},
   "outputs": [
    {
     "name": "stderr",
     "output_type": "stream",
     "text": [
      "100%|██████████| 13392/13392 [00:00<00:00, 642987.70it/s]\n",
      "100%|██████████| 1507/1507 [00:00<00:00, 607420.35it/s]\n"
     ]
    }
   ],
   "source": [
    "all_data_ligand_deg = []\n",
    "all_data_prot_deg = []\n",
    "all_data_ligand_deg_ratio = []\n",
    "all_data_prot_deg_ratio = []\n",
    "\n",
    "for smile in tqdm(set(all_data['SMILES'].tolist())):\n",
    "    all_data_ligand_deg.append(ligand_degree_dict[smile]['pos_deg'])\n",
    "    all_data_ligand_deg_ratio.append(ligand_degree_dict[smile]['deg_ratio'])\n",
    "                       \n",
    "for aaseq in tqdm(set(all_data['Target Sequence'].tolist())):\n",
    "    all_data_prot_deg.append(protein_degree_dict[aaseq]['pos_deg'])\n",
    "    all_data_prot_deg_ratio.append(protein_degree_dict[aaseq]['deg_ratio'])\n"
   ]
  },
  {
   "cell_type": "code",
   "execution_count": 123,
   "metadata": {},
   "outputs": [
    {
     "data": {
      "text/plain": [
       "(0.001, 1)"
      ]
     },
     "execution_count": 123,
     "metadata": {},
     "output_type": "execute_result"
    },
    {
     "data": {
      "image/png": "[encoded data removed]",
      "text/plain": [
       "<Figure size 1600x800 with 1 Axes>"
      ]
     },
     "metadata": {},
     "output_type": "display_data"
    }
   ],
   "source": [
    "#import seaborn as sns\n",
    "figure(num=None, figsize=(20, 10), dpi=80, facecolor='w', edgecolor='k')\n",
    "#kwargs = dict(hist_kws={'alpha':.1}, kde_kws={'linewidth':2})\n",
    "#figure(num=None, figsize=(14, 8), dpi=80, facecolor='w', edgecolor='k')\n",
    "#sns.distplot(all_data_ligand_deg_ratio, color=\"#377eb8\", label=\"Top 100\", **kwargs)\n",
    "#sns.distplot(test_false_positive_100_seen_ligand['ligand_deg_ratio'].tolist(), color=\"#e41a1c\", label=\"Bottom 100\", **kwargs)\n",
    "plt.hist(all_data_ligand_deg_ratio,density=True,color='#377eb8',alpha=0.2,label='BindingDB',bins=np.logspace(np.log10(0.00001),np.log10(1), 40))\n",
    "plt.hist(test_false_positive_100_seen_ligand['ligand_deg_ratio'].tolist(),density=True,color='#e41a1c',alpha=0.2,label='False Positives',bins=np.logspace(np.log10(0.00001),np.log10(1), 40))\n",
    "plt.legend()\n",
    "plt.xlabel('Ligand degree ratio', fontsize=10)\n",
    "plt.ylabel('PDF', fontsize=10)\n",
    "plt.xscale('log')\n",
    "plt.xlim([0.001,1])"
   ]
  },
  {
   "cell_type": "code",
   "execution_count": 124,
   "metadata": {},
   "outputs": [
    {
     "data": {
      "text/plain": [
       "(0.006, 1)"
      ]
     },
     "execution_count": 124,
     "metadata": {},
     "output_type": "execute_result"
    },
    {
     "data": {
      "image/png": "[encoded data removed]",
      "text/plain": [
       "<Figure size 1600x800 with 1 Axes>"
      ]
     },
     "metadata": {},
     "output_type": "display_data"
    }
   ],
   "source": [
    "#import seaborn as sns\n",
    "figure(num=None, figsize=(20, 10), dpi=80, facecolor='w', edgecolor='k')\n",
    "#kwargs = dict(hist_kws={'alpha':.1}, kde_kws={'linewidth':2})\n",
    "#figure(num=None, figsize=(14, 8), dpi=80, facecolor='w', edgecolor='k')\n",
    "#sns.distplot(all_data_ligand_deg_ratio, color=\"#377eb8\", label=\"Top 100\", **kwargs)\n",
    "#sns.distplot(test_false_positive_100_seen_ligand['ligand_deg_ratio'].tolist(), color=\"#e41a1c\", label=\"Bottom 100\", **kwargs)\n",
    "plt.hist(all_data_prot_deg_ratio,density=True,color='#377eb8',alpha=0.2,label='BindingDB',bins=np.logspace(np.log10(0.00001),np.log10(1), 40))\n",
    "plt.hist(test_false_positive_100_seen_target['ligand_deg_ratio'].tolist(),density=True,color='#e41a1c',alpha=0.2,label='False Positives',bins=np.logspace(np.log10(0.00001),np.log10(1), 40))\n",
    "plt.legend()\n",
    "plt.xlabel('Target degree ratio', fontsize=10)\n",
    "plt.ylabel('PDF', fontsize=10)\n",
    "plt.xscale('log')\n",
    "plt.xlim([0.006,1])"
   ]
  },
  {
   "cell_type": "code",
   "execution_count": 125,
   "metadata": {
    "collapsed": true
   },
   "outputs": [
    {
     "name": "stderr",
     "output_type": "stream",
     "text": [
      "100it [00:00, 6007.65it/s]\n",
      "/miniconda/envs/DeepPurpose/lib/python3.7/site-packages/ipykernel_launcher.py:24: SettingWithCopyWarning: \n",
      "A value is trying to be set on a copy of a slice from a DataFrame.\n",
      "Try using .loc[row_indexer,col_indexer] = value instead\n",
      "\n",
      "See the caveats in the documentation: https://pandas.pydata.org/pandas-docs/stable/user_guide/indexing.html#returning-a-view-versus-a-copy\n",
      "/miniconda/envs/DeepPurpose/lib/python3.7/site-packages/ipykernel_launcher.py:25: SettingWithCopyWarning: \n",
      "A value is trying to be set on a copy of a slice from a DataFrame.\n",
      "Try using .loc[row_indexer,col_indexer] = value instead\n",
      "\n",
      "See the caveats in the documentation: https://pandas.pydata.org/pandas-docs/stable/user_guide/indexing.html#returning-a-view-versus-a-copy\n",
      "/miniconda/envs/DeepPurpose/lib/python3.7/site-packages/ipykernel_launcher.py:26: SettingWithCopyWarning: \n",
      "A value is trying to be set on a copy of a slice from a DataFrame.\n",
      "Try using .loc[row_indexer,col_indexer] = value instead\n",
      "\n",
      "See the caveats in the documentation: https://pandas.pydata.org/pandas-docs/stable/user_guide/indexing.html#returning-a-view-versus-a-copy\n",
      "/miniconda/envs/DeepPurpose/lib/python3.7/site-packages/ipykernel_launcher.py:27: SettingWithCopyWarning: \n",
      "A value is trying to be set on a copy of a slice from a DataFrame.\n",
      "Try using .loc[row_indexer,col_indexer] = value instead\n",
      "\n",
      "See the caveats in the documentation: https://pandas.pydata.org/pandas-docs/stable/user_guide/indexing.html#returning-a-view-versus-a-copy\n"
     ]
    }
   ],
   "source": [
    "test_false_negative = test[test['Label']==1].sort_values(by='Y_predicted', ascending=True)\n",
    "test_false_negative_100 = test_false_negative.head(100)\n",
    "\n",
    "test_ligand_deg = []\n",
    "test_prot_deg = []\n",
    "test_ligand_deg_ratio = []\n",
    "test_prot_deg_ratio = []\n",
    "\n",
    "for index, row in tqdm(test_false_negative_100.iterrows()):\n",
    "    if row['SMILES'] in train_ligand_degree_dict.keys():\n",
    "        test_ligand_deg.append(train_ligand_degree_dict[row['SMILES']]['pos_deg'])\n",
    "        test_ligand_deg_ratio.append(train_ligand_degree_dict[row['SMILES']]['deg_ratio'])\n",
    "    else:\n",
    "        test_ligand_deg.append(-1)\n",
    "        test_ligand_deg_ratio.append(-1)\n",
    "    \n",
    "    if row['Target Sequence'] in train_protein_degree_dict.keys():\n",
    "        test_prot_deg.append(train_protein_degree_dict[row['Target Sequence']]['pos_deg'])\n",
    "        test_prot_deg_ratio.append(train_protein_degree_dict[row['Target Sequence']]['deg_ratio'])\n",
    "    else:\n",
    "        test_prot_deg.append(-1)\n",
    "        test_prot_deg_ratio.append(-1)\n",
    "        \n",
    "test_false_negative_100['ligand_deg'] = test_ligand_deg\n",
    "test_false_negative_100['prot_deg'] = test_prot_deg\n",
    "test_false_negative_100['ligand_deg_ratio'] = test_ligand_deg_ratio\n",
    "test_false_negative_100['prot_deg_ratio'] = test_prot_deg_ratio\n",
    "\n",
    "test_false_negative_100_seen_ligand = test_false_negative_100[test_false_negative_100['ligand_deg'] != -1] ## intersection of train and test\n",
    "test_false_negative_100_seen_target = test_false_negative_100[test_false_negative_100['prot_deg'] != -1] ## intersection of train and test"
   ]
  },
  {
   "cell_type": "code",
   "execution_count": 126,
   "metadata": {},
   "outputs": [
    {
     "data": {
      "text/plain": [
       "(0.001, 1)"
      ]
     },
     "execution_count": 126,
     "metadata": {},
     "output_type": "execute_result"
    },
    {
     "data": {
      "image/png": "[encoded data removed]",
      "text/plain": [
       "<Figure size 1600x800 with 1 Axes>"
      ]
     },
     "metadata": {},
     "output_type": "display_data"
    }
   ],
   "source": [
    "#import seaborn as sns\n",
    "figure(num=None, figsize=(20, 10), dpi=80, facecolor='w', edgecolor='k')\n",
    "#kwargs = dict(hist_kws={'alpha':.1}, kde_kws={'linewidth':2})\n",
    "#figure(num=None, figsize=(14, 8), dpi=80, facecolor='w', edgecolor='k')\n",
    "#sns.distplot(all_data_ligand_deg_ratio, color=\"#377eb8\", label=\"Top 100\", **kwargs)\n",
    "#sns.distplot(test_false_positive_100_seen_ligand['ligand_deg_ratio'].tolist(), color=\"#e41a1c\", label=\"Bottom 100\", **kwargs)\n",
    "plt.hist(all_data_ligand_deg_ratio,density=True,color='#377eb8',alpha=0.2,label='BindingDB',bins=np.logspace(np.log10(0.00001),np.log10(1), 20))\n",
    "plt.hist(test_false_negative_100_seen_ligand['ligand_deg_ratio'].tolist(),density=True,color='#e41a1c',alpha=0.2,label='False Negatives',bins=np.logspace(np.log10(0.00001),np.log10(1), 20))\n",
    "plt.legend()\n",
    "plt.xlabel('Ligand degree ratio', fontsize=10)\n",
    "plt.ylabel('PDF', fontsize=10)\n",
    "plt.xscale('log')\n",
    "plt.xlim([0.001,1])"
   ]
  },
  {
   "cell_type": "code",
   "execution_count": 127,
   "metadata": {},
   "outputs": [
    {
     "data": {
      "text/plain": [
       "(0.006, 1)"
      ]
     },
     "execution_count": 127,
     "metadata": {},
     "output_type": "execute_result"
    },
    {
     "data": {
      "image/png": "[encoded data removed]",
      "text/plain": [
       "<Figure size 1600x800 with 1 Axes>"
      ]
     },
     "metadata": {},
     "output_type": "display_data"
    }
   ],
   "source": [
    "#import seaborn as sns\n",
    "figure(num=None, figsize=(20, 10), dpi=80, facecolor='w', edgecolor='k')\n",
    "#kwargs = dict(hist_kws={'alpha':.1}, kde_kws={'linewidth':2})\n",
    "#figure(num=None, figsize=(14, 8), dpi=80, facecolor='w', edgecolor='k')\n",
    "#sns.distplot(all_data_ligand_deg_ratio, color=\"#377eb8\", label=\"Top 100\", **kwargs)\n",
    "#sns.distplot(test_false_positive_100_seen_ligand['ligand_deg_ratio'].tolist(), color=\"#e41a1c\", label=\"Bottom 100\", **kwargs)\n",
    "plt.hist(all_data_prot_deg_ratio,density=True,color='#377eb8',alpha=0.2,label='BindingDB',bins=np.logspace(np.log10(0.00001),np.log10(1), 20))\n",
    "plt.hist(test_false_negative_100_seen_target['ligand_deg_ratio'].tolist(),density=True,color='#e41a1c',alpha=0.2,label='False Negatives',bins=np.logspace(np.log10(0.00001),np.log10(1), 20))\n",
    "plt.legend()\n",
    "plt.xlabel('Target degree ratio', fontsize=10)\n",
    "plt.ylabel('PDF', fontsize=10)\n",
    "plt.xscale('log')\n",
    "plt.xlim([0.006,1])"
   ]
  },
  {
   "cell_type": "code",
   "execution_count": 128,
   "metadata": {},
   "outputs": [],
   "source": [
    "def remove_zeros(x_i,k_i):\n",
    "    x_i_return = []\n",
    "    k_i_return = []\n",
    "    for i in range(len(x_i)):\n",
    "        if x_i[i] != 0:\n",
    "            x_i_return.append(x_i[i])\n",
    "            k_i_return.append(k_i[i])\n",
    "    return x_i_return, k_i_return\n",
    "\n",
    "\n",
    "def log_binning_function(x_i,k_i,B = 20):  # Default number of bins is 20\n",
    "    \n",
    "    x_i,k_i = remove_zeros(x_i,k_i)\n",
    "\n",
    "    b_1 = min(x_i)\n",
    "    b_Bp1 = max(x_i)\n",
    "    q_1 = np.log(b_1)\n",
    "    q_Bp1 = np.log(b_Bp1)\n",
    "    D_q = q_Bp1 - q_1\n",
    "    L_q = D_q / B\n",
    "\n",
    "    q_list = []\n",
    "    b_list = []\n",
    "\n",
    "    for i in range(B):\n",
    "        j = i + 1\n",
    "        q_list.append(q_1 + (j-1)*L_q)\n",
    "        b_list.append(np.exp(q_1 + (j-1)*L_q))\n",
    "\n",
    "    # b_list.insert(0,b_1)\n",
    "    # b_list.append(b_Bp1)\n",
    "    \n",
    "    binned_x_i = []\n",
    "    binned_k_i = []\n",
    "\n",
    "    for i in range(len(b_list)-1):\n",
    "        bin_low = b_list[i]\n",
    "        bin_high = b_list[i+1]\n",
    "        indices = []\n",
    "        for j in range(len(x_i)):\n",
    "            if x_i[j] >= bin_low and x_i[j] < bin_high:\n",
    "                indices.append(j)\n",
    "        if not indices:\n",
    "            continue\n",
    "            # binned_k_i.append(float('nan'))\n",
    "        else:\n",
    "            bin_y_average = sum([k_i[index] for index in indices]) / len(indices)\n",
    "            binned_k_i.append(bin_y_average)\n",
    "            binned_x_i.append(bin_low)\n",
    "            \n",
    "    return binned_x_i, binned_k_i"
   ]
  },
  {
   "cell_type": "code",
   "execution_count": 129,
   "metadata": {},
   "outputs": [
    {
     "data": {
      "text/plain": [
       "SpearmanrResult(correlation=0.33951006109077064, pvalue=0.006058749599958364)"
      ]
     },
     "execution_count": 129,
     "metadata": {},
     "output_type": "execute_result"
    }
   ],
   "source": [
    "from scipy import stats\n",
    "\n",
    "stats.spearmanr(test_false_positive_100_seen_ligand['ligand_deg_ratio'].tolist(),test_false_positive_100_seen_ligand['Y_predicted'].tolist())"
   ]
  },
  {
   "cell_type": "code",
   "execution_count": 132,
   "metadata": {
    "scrolled": true
   },
   "outputs": [
    {
     "data": {
      "text/plain": [
       "Text(0, 0.5, 'DeepPurpose Prediction')"
      ]
     },
     "execution_count": 132,
     "metadata": {},
     "output_type": "execute_result"
    },
    {
     "data": {
      "image/png": "[encoded data removed]",
      "text/plain": [
       "<Figure size 432x288 with 1 Axes>"
      ]
     },
     "metadata": {
      "needs_background": "light"
     },
     "output_type": "display_data"
    }
   ],
   "source": [
    "binned_x_i, binned_k_i = log_binning_function(test_false_positive_100_seen_ligand['ligand_deg_ratio'].tolist(),test_false_positive_100_seen_ligand['Y_predicted'].tolist())\n",
    "plt.scatter(binned_x_i, binned_k_i,alpha=0.8, color= '#A2DCC1')\n",
    "plt.xscale('log')\n",
    "#plt.yscale('log')\n",
    "#plt.ylim([0,0.03])\n",
    "plt.xlabel('Ligand degree ratio',fontsize=10)\n",
    "plt.ylabel('DeepPurpose Prediction',fontsize=10)"
   ]
  },
  {
   "cell_type": "code",
   "execution_count": 133,
   "metadata": {},
   "outputs": [
    {
     "data": {
      "text/plain": [
       "SpearmanrResult(correlation=0.8238825928788429, pvalue=3.6892334342322113e-25)"
      ]
     },
     "execution_count": 133,
     "metadata": {},
     "output_type": "execute_result"
    }
   ],
   "source": [
    "stats.spearmanr(test_false_positive_100_seen_target['prot_deg_ratio'].tolist(),test_false_positive_100_seen_target['Y_predicted'].tolist())"
   ]
  },
  {
   "cell_type": "code",
   "execution_count": 134,
   "metadata": {},
   "outputs": [
    {
     "data": {
      "text/plain": [
       "Text(0, 0.5, 'DeepPurpose Prediction')"
      ]
     },
     "execution_count": 134,
     "metadata": {},
     "output_type": "execute_result"
    },
    {
     "data": {
      "image/png": "[encoded data removed]",
      "text/plain": [
       "<Figure size 432x288 with 1 Axes>"
      ]
     },
     "metadata": {
      "needs_background": "light"
     },
     "output_type": "display_data"
    }
   ],
   "source": [
    "binned_x_i, binned_k_i = log_binning_function(test_false_positive_100_seen_target['prot_deg_ratio'].tolist(),test_false_positive_100_seen_target['Y_predicted'].tolist())\n",
    "plt.scatter(binned_x_i, binned_k_i,alpha=0.8, color='#F5BFCA')\n",
    "plt.xscale('log')\n",
    "#plt.yscale('log')\n",
    "#plt.ylim([0,0.03])\n",
    "plt.xlabel('Target degree ratio',fontsize=10)\n",
    "plt.ylabel('DeepPurpose Prediction',fontsize=10)"
   ]
  },
  {
   "cell_type": "code",
   "execution_count": 135,
   "metadata": {},
   "outputs": [
    {
     "data": {
      "text/plain": [
       "SpearmanrResult(correlation=0.10545663066774143, pvalue=0.3143958215367761)"
      ]
     },
     "execution_count": 135,
     "metadata": {},
     "output_type": "execute_result"
    }
   ],
   "source": [
    "stats.spearmanr(test_false_negative_100_seen_ligand['ligand_deg_ratio'].tolist(),test_false_negative_100_seen_ligand['Y_predicted'].tolist())"
   ]
  },
  {
   "cell_type": "code",
   "execution_count": 136,
   "metadata": {},
   "outputs": [
    {
     "data": {
      "text/plain": [
       "Text(0, 0.5, 'DeepPurpose Prediction')"
      ]
     },
     "execution_count": 136,
     "metadata": {},
     "output_type": "execute_result"
    },
    {
     "data": {
      "image/png": "[encoded data removed]",
      "text/plain": [
       "<Figure size 432x288 with 1 Axes>"
      ]
     },
     "metadata": {
      "needs_background": "light"
     },
     "output_type": "display_data"
    }
   ],
   "source": [
    "binned_x_i, binned_k_i = log_binning_function(test_false_negative_100_seen_ligand['ligand_deg_ratio'].tolist(),test_false_negative_100_seen_ligand['Y_predicted'].tolist())\n",
    "plt.scatter(binned_x_i, binned_k_i,alpha=0.8, color = '#A2DCC1')\n",
    "plt.xscale('log')\n",
    "#plt.yscale('log')\n",
    "plt.ylim([0,0.03])\n",
    "plt.xlabel('Ligand degree ratio',fontsize=10)\n",
    "plt.ylabel('DeepPurpose Prediction',fontsize=10)"
   ]
  },
  {
   "cell_type": "code",
   "execution_count": 137,
   "metadata": {},
   "outputs": [
    {
     "data": {
      "text/plain": [
       "SpearmanrResult(correlation=0.8303142223264981, pvalue=4.098918002948479e-26)"
      ]
     },
     "execution_count": 137,
     "metadata": {},
     "output_type": "execute_result"
    }
   ],
   "source": [
    "stats.spearmanr(test_false_negative_100_seen_target['prot_deg_ratio'].tolist(),test_false_negative_100_seen_target['Y_predicted'].tolist())"
   ]
  },
  {
   "cell_type": "code",
   "execution_count": 138,
   "metadata": {},
   "outputs": [
    {
     "data": {
      "text/plain": [
       "Text(0, 0.5, 'DeepPurpose Prediction')"
      ]
     },
     "execution_count": 138,
     "metadata": {},
     "output_type": "execute_result"
    },
    {
     "data": {
      "image/png": "[encoded data removed]",
      "text/plain": [
       "<Figure size 432x288 with 1 Axes>"
      ]
     },
     "metadata": {
      "needs_background": "light"
     },
     "output_type": "display_data"
    }
   ],
   "source": [
    "binned_x_i, binned_k_i = log_binning_function(test_false_negative_100_seen_target['prot_deg_ratio'].tolist(),test_false_negative_100_seen_target['Y_predicted'].tolist())\n",
    "plt.scatter(binned_x_i, binned_k_i,alpha=0.8, color='#F5BFCA')\n",
    "plt.xscale('log')\n",
    "#plt.yscale('log')\n",
    "plt.xlim([0.007,1])\n",
    "plt.ylim([0,0.03])\n",
    "plt.xlabel('Target degree ratio',fontsize=10)\n",
    "plt.ylabel('DeepPurpose Prediction',fontsize=10)"
   ]
  },
  {
   "cell_type": "markdown",
   "metadata": {
    "heading_collapsed": true
   },
   "source": [
    "# Performances for Unseen Edges, Unseen Targets and Unseen Nodes"
   ]
  },
  {
   "cell_type": "code",
   "execution_count": 94,
   "metadata": {
    "hidden": true,
    "scrolled": true
   },
   "outputs": [],
   "source": [
    "train_ran = pd.read_csv('../data/Transformer_CNN_train.csv')\n",
    "test_ran = pd.read_csv('../data/Transformer_CNN_test.csv')"
   ]
  },
  {
   "cell_type": "code",
   "execution_count": 11,
   "metadata": {
    "hidden": true,
    "scrolled": true
   },
   "outputs": [],
   "source": [
    "train_ligands = list(set(train_ran['SMILES'].tolist()))\n",
    "train_targets = list(set(train_ran['Target Sequence'].tolist()))\n",
    "\n",
    "test_minus_train_ligands = list(set(test_ran['SMILES'].tolist()).difference(train_ligands))\n",
    "test_minus_train_targets = list(set(test_ran['Target Sequence'].tolist()).difference(train_targets))"
   ]
  },
  {
   "cell_type": "code",
   "execution_count": 12,
   "metadata": {
    "hidden": true
   },
   "outputs": [
    {
     "name": "stdout",
     "output_type": "stream",
     "text": [
      "Seen ligands:  10416\n",
      "Seen targets:  1391\n",
      "Unseen ligands:  2051\n",
      "Unseen targets:  75\n"
     ]
    }
   ],
   "source": [
    "print('Seen ligands: ', len(train_ligands))\n",
    "print('Seen targets: ', len(train_targets))\n",
    "print('Unseen ligands: ', len(test_minus_train_ligands))\n",
    "print('Unseen targets: ', len(test_minus_train_targets))"
   ]
  },
  {
   "cell_type": "code",
   "execution_count": 17,
   "metadata": {
    "hidden": true,
    "scrolled": true
   },
   "outputs": [
    {
     "name": "stdout",
     "output_type": "stream",
     "text": [
      "Unseen edges:  11927\n",
      "AUC:  0.8159355723996338\n",
      "AUP:  0.481009834013135\n"
     ]
    }
   ],
   "source": [
    "# Unseen Edges\n",
    "\n",
    "test_unseen_edges = test_ran[test_ran['SMILES'].isin(train_ligands) & test_ran['Target Sequence'].isin(train_targets)]\n",
    "print('Unseen edges: ', len(test_unseen_edges))\n",
    "\n",
    "print('AUC: ', roc_auc_score(test_unseen_edges['Label'].tolist(), test_unseen_edges['Y_predicted']))\n",
    "print('AUP: ', average_precision_score(test_unseen_edges['Label'].tolist(), test_unseen_edges['Y_predicted']))"
   ]
  },
  {
   "cell_type": "code",
   "execution_count": 18,
   "metadata": {
    "hidden": true,
    "scrolled": true
   },
   "outputs": [
    {
     "name": "stdout",
     "output_type": "stream",
     "text": [
      "Unseen targets:  80\n",
      "AUC:  0.7862669245647969\n",
      "AUP:  0.7844919427109869\n"
     ]
    }
   ],
   "source": [
    "# Unseen Targets\n",
    "\n",
    "test_unseen_targets = test_ran[test_ran['Target Sequence'].isin(test_minus_train_targets)]\n",
    "print('Unseen targets: ', len(test_unseen_targets))\n",
    "\n",
    "print('AUC: ', roc_auc_score(test_unseen_targets['Label'].tolist(), test_unseen_targets['Y_predicted']))\n",
    "print('AUP: ', average_precision_score(test_unseen_targets['Label'].tolist(), test_unseen_targets['Y_predicted']))"
   ]
  },
  {
   "cell_type": "code",
   "execution_count": 19,
   "metadata": {
    "hidden": true
   },
   "outputs": [
    {
     "name": "stdout",
     "output_type": "stream",
     "text": [
      "Unseen nodes:  34\n",
      "AUC:  0.49999999999999994\n",
      "AUP:  0.36912234170761443\n"
     ]
    }
   ],
   "source": [
    "# Unseen Nodes\n",
    "\n",
    "test_unseen_nodes = test_ran[test_ran['SMILES'].isin(test_minus_train_ligands) & test_ran['Target Sequence'].isin(test_minus_train_targets)]\n",
    "print('Unseen nodes: ', len(test_unseen_nodes))\n",
    "\n",
    "print('AUC: ', roc_auc_score(test_unseen_nodes['Label'].tolist(), test_unseen_nodes['Y_predicted']))\n",
    "print('AUP: ', average_precision_score(test_unseen_nodes['Label'].tolist(), test_unseen_nodes['Y_predicted']))"
   ]
  },
  {
   "cell_type": "code",
   "execution_count": 24,
   "metadata": {
    "hidden": true
   },
   "outputs": [
    {
     "data": {
      "text/plain": [
       "(array([41570.,     0.,     0.,     0.,     0.,     0.,     0.,     0.,\n",
       "            0.,  7955.]),\n",
       " array([0. , 0.1, 0.2, 0.3, 0.4, 0.5, 0.6, 0.7, 0.8, 0.9, 1. ]),\n",
       " <a list of 10 Patch objects>)"
      ]
     },
     "execution_count": 24,
     "metadata": {},
     "output_type": "execute_result"
    },
    {
     "data": {
      "image/png": "[encoded data removed]",
      "text/plain": [
       "<Figure size 432x288 with 1 Axes>"
      ]
     },
     "metadata": {
      "needs_background": "light"
     },
     "output_type": "display_data"
    }
   ],
   "source": [
    "plt.hist(train_ran['Label'].tolist())"
   ]
  },
  {
   "cell_type": "code",
   "execution_count": 25,
   "metadata": {
    "hidden": true
   },
   "outputs": [
    {
     "data": {
      "text/plain": [
       "(array([11832.,     0.,     0.,     0.,     0.,     0.,     0.,     0.,\n",
       "            0.,  2318.]),\n",
       " array([0. , 0.1, 0.2, 0.3, 0.4, 0.5, 0.6, 0.7, 0.8, 0.9, 1. ]),\n",
       " <a list of 10 Patch objects>)"
      ]
     },
     "execution_count": 25,
     "metadata": {},
     "output_type": "execute_result"
    },
    {
     "data": {
      "image/png": "[encoded data removed]",
      "text/plain": [
       "<Figure size 432x288 with 1 Axes>"
      ]
     },
     "metadata": {
      "needs_background": "light"
     },
     "output_type": "display_data"
    }
   ],
   "source": [
    "plt.hist(test_ran['Label'].tolist())"
   ]
  },
  {
   "cell_type": "code",
   "execution_count": 95,
   "metadata": {
    "hidden": true,
    "scrolled": true
   },
   "outputs": [
    {
     "name": "stdout",
     "output_type": "stream",
     "text": [
      "Total ligands:  10416\n",
      "Total targets:  1391\n",
      "Ligands with only positive:  3084\n",
      "Targets with only positive:  168\n",
      "Ligands with only negative:  6539\n",
      "Targets with only negative:  556\n"
     ]
    }
   ],
   "source": [
    "train_pos = train_ran[train_ran['Label'] == 1]\n",
    "train_neg = train_ran[train_ran['Label'] == 0]\n",
    "\n",
    "ligands_1 = set(train_pos['SMILES'].tolist())\n",
    "ligands_0 = set(train_neg['SMILES'].tolist())\n",
    "targets_1 = set(train_pos['Target Sequence'].tolist())\n",
    "targets_0 = set(train_neg['Target Sequence'].tolist())\n",
    "\n",
    "print('Total ligands: ', len(list(set(train_ran['SMILES'].tolist()))))\n",
    "print('Total targets: ', len(list(set(train_ran['Target Sequence'].tolist()))))\n",
    "print('Ligands with only positive: ', len(list(ligands_1.difference(ligands_0))))\n",
    "print('Targets with only positive: ', len(list(targets_1.difference(targets_0))))\n",
    "print('Ligands with only negative: ', len(list(ligands_0.difference(ligands_1))))\n",
    "print('Targets with only negative: ', len(list(targets_0.difference(targets_1))))"
   ]
  },
  {
   "cell_type": "markdown",
   "metadata": {
    "heading_collapsed": true,
    "hidden": true
   },
   "source": [
    "## Other folds"
   ]
  },
  {
   "cell_type": "code",
   "execution_count": null,
   "metadata": {
    "hidden": true
   },
   "outputs": [],
   "source": [
    "Total ligands:  10432\n",
    "Total targets:  1396\n",
    "Ligands with only positive:  3130\n",
    "Targets with only positive:  175\n",
    "Ligands with only negative:  6520\n",
    "Targets with only negative:  558"
   ]
  },
  {
   "cell_type": "code",
   "execution_count": null,
   "metadata": {
    "hidden": true
   },
   "outputs": [],
   "source": [
    "Total ligands:  10410\n",
    "Total targets:  1404\n",
    "Ligands with only positive:  3094\n",
    "Targets with only positive:  170\n",
    "Ligands with only negative:  6539\n",
    "Targets with only negative:  560"
   ]
  },
  {
   "cell_type": "code",
   "execution_count": null,
   "metadata": {
    "hidden": true
   },
   "outputs": [],
   "source": [
    "Total ligands:  10410\n",
    "Total targets:  1404\n",
    "Ligands with only positive:  3094\n",
    "Targets with only positive:  170\n",
    "Ligands with only negative:  6539\n",
    "Targets with only negative:  560"
   ]
  },
  {
   "cell_type": "code",
   "execution_count": null,
   "metadata": {
    "hidden": true
   },
   "outputs": [],
   "source": [
    "Total ligands:  10410\n",
    "Total targets:  1404\n",
    "Ligands with only positive:  3094\n",
    "Targets with only positive:  170\n",
    "Ligands with only negative:  6539\n",
    "Targets with only negative:  560"
   ]
  },
  {
   "cell_type": "code",
   "execution_count": 2,
   "metadata": {
    "hidden": true
   },
   "outputs": [],
   "source": [
    "import numpy as np"
   ]
  },
  {
   "cell_type": "code",
   "execution_count": 3,
   "metadata": {
    "hidden": true
   },
   "outputs": [
    {
     "name": "stdout",
     "output_type": "stream",
     "text": [
      "3099.2\n",
      "15.879546593023367\n"
     ]
    }
   ],
   "source": [
    "print(np.mean([3084,3130,3094,3094,3094]))\n",
    "print(np.std([3084,3130,3094,3094,3094]))"
   ]
  },
  {
   "cell_type": "code",
   "execution_count": null,
   "metadata": {
    "hidden": true
   },
   "outputs": [],
   "source": []
  }
 ],
 "metadata": {
  "kernelspec": {
   "display_name": "DeepPurpose",
   "language": "python",
   "name": "deeppurpose"
  },
  "language_info": {
   "codemirror_mode": {
    "name": "ipython",
    "version": 3
   },
   "file_extension": ".py",
   "mimetype": "text/x-python",
   "name": "python",
   "nbconvert_exporter": "python",
   "pygments_lexer": "ipython3",
   "version": "3.7.7"
  },
  "toc": {
   "base_numbering": 1,
   "nav_menu": {},
   "number_sections": true,
   "sideBar": true,
   "skip_h1_title": false,
   "title_cell": "Table of Contents",
   "title_sidebar": "Contents",
   "toc_cell": false,
   "toc_position": {},
   "toc_section_display": true,
   "toc_window_display": false
  }
 },
 "nbformat": 4,
 "nbformat_minor": 4
}
