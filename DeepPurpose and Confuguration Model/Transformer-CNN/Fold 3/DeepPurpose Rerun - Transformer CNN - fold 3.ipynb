{
 "cells": [
  {
   "cell_type": "markdown",
   "metadata": {
    "heading_collapsed": true
   },
   "source": [
    "# Imports"
   ]
  },
  {
   "cell_type": "code",
   "execution_count": 1,
   "metadata": {
    "hidden": true
   },
   "outputs": [],
   "source": [
    "import os\n",
    "os.chdir('/DeepPurpose/')\n",
    "\n",
    "import DeepPurpose.DTI as models\n",
    "from DeepPurpose.utils import *\n",
    "from DeepPurpose.dataset import *\n",
    "import random\n",
    "from sklearn.metrics import confusion_matrix, f1_score, classification_report\n",
    "from sklearn.metrics import roc_curve, roc_auc_score, precision_recall_curve, average_precision_score\n",
    "from sklearn.metrics import confusion_matrix, f1_score, classification_report\n",
    "import matplotlib.pyplot as plt\n",
    "from tqdm import tqdm\n",
    "import pandas as pd\n",
    "from matplotlib.pyplot import figure\n",
    "import numpy as np"
   ]
  },
  {
   "cell_type": "code",
   "execution_count": 5,
   "metadata": {
    "collapsed": true,
    "hidden": true
   },
   "outputs": [
    {
     "name": "stdout",
     "output_type": "stream",
     "text": [
      "Beginning Processing...\n",
      "Beginning to extract zip file...\n",
      "Default set to logspace (nM -> p) for easier regression\n",
      "Done!\n"
     ]
    },
    {
     "data": {
      "text/plain": [
       "(array(['CC1=C2C=C(C=CC2=NN1)C3=CC(=CN=C3)OCC(CC4=CC=CC=C4)N',\n",
       "        'CC1=C2C=C(C=CC2=NN1)C3=CC(=CN=C3)OCC(CC4=CC=CC=C4)N',\n",
       "        'CC1=C2C=C(C=CC2=NN1)C3=CC(=CN=C3)OCC(CC4=CC=CC=C4)N', ...,\n",
       "        'C1=CC=C2C(=C1)C(=NN=C2NC3=CC=C(C=C3)Cl)CC4=CC=NC=C4',\n",
       "        'C1=CC=C2C(=C1)C(=NN=C2NC3=CC=C(C=C3)Cl)CC4=CC=NC=C4',\n",
       "        'C1=CC=C2C(=C1)C(=NN=C2NC3=CC=C(C=C3)Cl)CC4=CC=NC=C4'],\n",
       "       dtype='<U92'),\n",
       " array(['MKKFFDSRREQGGSGLGSGSSGGGGSTSGLGSGYIGRVFGIGRQQVTVDEVLAEGGFAIVFLVRTSNGMKCALKRMFVNNEHDLQVCKREIQIMRDLSGHKNIVGYIDSSINNVSSGDVWEVLILMDFCRGGQVVNLMNQRLQTGFTENEVLQIFCDTCEAVARLHQCKTPIIHRDLKVENILLHDRGHYVLCDFGSATNKFQNPQTEGVNAVEDEIKKYTTLSYRAPEMVNLYSGKIITTKADIWALGCLLYKLCYFTLPFGESQVAICDGNFTIPDNSRYSQDMHCLIRYMLEPDPDKRPDIYQVSYFSFKLLKKECPIPNVQNSPIPAKLPEPVKASEAAAKKTQPKARLTDPIPTTETSIAPRQRPKAGQTQPNPGILPIQPALTPRKRATVQPPPQAAGSSNQPGLLASVPQPKPQAPPSQPLPQTQAKQPQAPPTPQQTPSTQAQGLPAQAQATPQHQQQLFLKQQQQQQQPPPAQQQPAGTFYQQQQAQTQQFQAVHPATQKPAIAQFPVVSQGGSQQQLMQNFYQQQQQQQQQQQQQQLATALHQQQLMTQQAALQQKPTMAAGQQPQPQPAAAPQPAPAQEPAIQAPVRQQPKVQTTPPPAVQGQKVGSLTPPSSPKTQRAGHRRILSDVTHSAVFGVPASKSTQLLQAAAAEASLNKSKSATTTPSGSPRTSQQNVYNPSEGSTWNPFDDDNFSKLTAEELLNKDFAKLGEGKHPEKLGGSAESLIPGFQSTQGDAFATTSFSAGTAEKRKGGQTVDSGLPLLSVSDPFIPLQVPDAPEKLIEGLKSPDTSLLLPDLLPMTDPFGSTSDAVIEKADVAVESLIPGLEPPVPQRLPSQTESVTSNRTDSLTGEDSLLDCSLLSNPTTDLLEEFAPTAISAPVHKAAEDSNLISGFDVPEGSDKVAEDEFDPIPVLITKNPQGGHSRNSSGSSESSLPNLARSLLLVDQLIDL',\n",
       "        'PFWKILNPLLERGTYYYFMGQQPGKVLGDQRRPSLPALHFIKGAGKKESSRHGGPHCNVFVEHEALQRPVASDFEPQGLSEAARWNSKENLLAGPSENDPNLFVALYDFVASGDNTLSITKGEKLRVLGYNHNGEWCEAQTKNGQGWVPSNYITPVNSLEKHSWYHGPVSRNAAEYLLSSGINGSFLVRESESSPGQRSISLRYEGRVYHYRINTASDGKLYVSSESRFNTLAELVHHHSTVADGLITTLHYPAPKRNKPTVYGVSPNYDKWEMERTDITMKHKLGGGQYGEVYEGVWKKYSLTVAVKTLKEDTMEVEEFLKEAAVMKEIKHPNLVQLLGVCTREPPFYIITEFMTYGNLLDYLRECNRQEVNAVVLLYMATQISSAMEYLEKKNFIHRDLAARNCLVGENHLVKVADFGLSRLMTGDTYTAHAGAKFPIKWTAPESLAYNKFSIKSDVWAFGVLLWEIATYGMSPYPGIDLSQVYELLEKDYRMERPEGCPEKVYELMRACWQWNPSDRPSFAEIHQAFETMFQESSISDEVEKELGKQGVRGAVSTLLQAPELPTKTRTSRRAAEHRDTTDVPEMPHSKGQGESDPLDHEPAVSPLLPRKERGPPEGGLNEDERLLPKDKKTNLFSALIKKKKKTAPTPPKRSSSFREMDGQPERRGAGEEEGRDISNGALAFTPLDTADPAKSPKPSNGAGVPNGALRESGGSGFRSPHLWKKSSTLTSSRLATGEEEGGGSSSKRFLRSCSASCVPHGAKDTEWRSVTLPRDLQSTGRQFDSSTFGGHKSEKPALPRKRAGENRSDQVTRGTVTPPPRLVKKNEEAADEVFKDIMESSPGSSPPNLTPKPLRRQVTVAPASGLPHKEEAGKGSALGTPAAAEPVTPTSKAGSGAPGGTSKGPAEESRVRRHKHSSESPGRDKGKLSRLKPAPPPPPAASAGKAGGKPSQSPSQEAAGEAVLGAKTKATSLVDAVNSDAAKPSQPGEGLKKPVLPATPKPQSAKPSGTPISPAPVPSTLPSASSALAGDQPSSTAFIPLISTRVSLRKTRQPPERIASGAITKGVVLDSTEALCLAISRNSEQMASHSAVLEAGKNLYTFCVSYVDSIQQMRNKFAFREAINKLENNLRELQICPATAGSGPAATQDFSKLLSSVKEISDIVQR',\n",
       "        'PFWKILNPLLERGTYYYFMGQQPGKVLGDQRRPSLPALHFIKGAGKKESSRHGGPHCNVFVEHEALQRPVASDFEPQGLSEAARWNSKENLLAGPSENDPNLFVALYDFVASGDNTLSITKGEKLRVLGYNHNGEWCEAQTKNGQGWVPSNYITPVNSLEKHSWYHGPVSRNAAEYLLSSGINGSFLVRESESSPGQRSISLRYEGRVYHYRINTASDGKLYVSSESRFNTLAELVHHHSTVADGLITTLHYPAPKRNKPTVYGVSPNYDKWEMERTDITMKHKLGGGQYGEVYEGVWKKYSLTVAVKTLKEDTMEVEEFLKEAAVMKEIKHPNLVQLLGVCTREPPFYIITEFMTYGNLLDYLRECNRQEVNAVVLLYMATQISSAMEYLEKKNFIHRDLAARNCLVGENHLVKVADFGLSRLMTGDTYTAHAGAKFPIKWTAPESLAYNKFSIKSDVWAFGVLLWEIATYGMSPYPGIDLSQVYELLEKDYRMERPEGCPEKVYELMRACWQWNPSDRPSFAEIHQAFETMFQESSISDEVEKELGKQGVRGAVSTLLQAPELPTKTRTSRRAAEHRDTTDVPEMPHSKGQGESDPLDHEPAVSPLLPRKERGPPEGGLNEDERLLPKDKKTNLFSALIKKKKKTAPTPPKRSSSFREMDGQPERRGAGEEEGRDISNGALAFTPLDTADPAKSPKPSNGAGVPNGALRESGGSGFRSPHLWKKSSTLTSSRLATGEEEGGGSSSKRFLRSCSASCVPHGAKDTEWRSVTLPRDLQSTGRQFDSSTFGGHKSEKPALPRKRAGENRSDQVTRGTVTPPPRLVKKNEEAADEVFKDIMESSPGSSPPNLTPKPLRRQVTVAPASGLPHKEEAGKGSALGTPAAAEPVTPTSKAGSGAPGGTSKGPAEESRVRRHKHSSESPGRDKGKLSRLKPAPPPPPAASAGKAGGKPSQSPSQEAAGEAVLGAKTKATSLVDAVNSDAAKPSQPGEGLKKPVLPATPKPQSAKPSGTPISPAPVPSTLPSASSALAGDQPSSTAFIPLISTRVSLRKTRQPPERIASGAITKGVVLDSTEALCLAISRNSEQMASHSAVLEAGKNLYTFCVSYVDSIQQMRNKFAFREAINKLENNLRELQICPATAGSGPAATQDFSKLLSSVKEISDIVQR',\n",
       "        ...,\n",
       "        'MSSMPKPERHAESLLDICHDTNSSPTDLMTVTKNQNIILQSISRSEEFDQDGDCSHSTLVNEEEDPSGGRQDWQPRTEGVEITVTFPRDVSPPQEMSQEDLKEKNLINSSLQEWAQAHAVSHPNEIETVELRKKKLTMRPLVLQKEESSRELCNVNLGFLLPRSCLELNISKSVTREDAPHFLKEQQRKSEEFSTSHMKYSGRSIKFLLPPLSLLPTRSGVLTIPQNHKFPKEKERNIPSLTSFVPKLSVSVRQSDELSPSNEPPGALVKSLMDPTLRSSDGFIWSRNMCSFPKTNHHRQCLEKEENWKSKEIEECNKIEITHFEKGQSLVSFENLKEGNIPAVREEDIDCHGSKTRKPEEENSQYLSSRKNESSVAKNYEQDPEIVCTIPSKFQETQHSEITPSQDEEMRNNKAASKRVSLHKNEAMEPNNILEECTVLKSLSSVVFDDPIDKLPEGCSSMETNIKISIAERAKPEMSRMVPLIHITFPVDGSPKEPVIAKPSLQTRKGTIHNNHSVNIPVHQENDKHKMNSHRSKLDSKTKTSKKTPQNFVISTEGPIKPTMHKTSIKTQIFPALGLVDPRPWQLPRFQKKMPQIAKKQSTHRTQKPKKQSFPCICKNPGTQKSCVPLSVQPTEPRLNYLDLKYSDMFKEINSTANGPGIYEMFGTPVYCHVRETERDENTYYREICSAPSGRRITNKCRSSHSERKSNIRTRLSQKKTHMKCPKTSFGIKQEHKVLISKEKSSKAVHSNLHDIENGDGISEPDWQIKSSGNEFLSSKDEIHPMNLAQTPEQSMKQNEFPPVSDLSIVEEVSMEESTGDRDISNNQILTTSLRDLQELEELHHQIPFIPSEDSWAVPSEKNSNKYVQQEKQNTASLSKVNASRILTNDLEFDSVSDHSKTLTNFSFQAKQESASSQTYQYWVHYLDHDSLANKSITYQMFGKTLSGTNSISQEIMDSVNNEELTDELLGCLAAELLALDEKDNNSCQKMANETDPENLNLVLRWRGSTPKEMGRETTKVKIQRHSSGLRIYDREEKFLISNEKKIFSENSLKSEEPILWTKGEILGKGAYGTVYCGLTSQGQLIAVKQVALDTSNKLAAEKEYRKLQEEVDLLKALKHVNIVAYLGTCLQENTVSIFMEFVPGGSISSIINRFGPLPEMVFCKYTKQILQGVAYLHENCVVHRDIKGNNVMLMPTGIIKLIDFGCARRLAWAGLNGTHSDMLKSMHGTPYWMAPEVINESGYGRKSDIWSIGCTVFEMATGKPPLASMDRMAAMFYIGAHRGLMPPLPDHFSENAADFVRMCLTRDQHERPSALQLLKHSFLERSH',\n",
       "        'MSSLGASFVQIKFDDLQFFENCGGGSFGSVYRAKWISQDKEVAVKKLLKIEKEAEILSVLSHRNIIQFYGVILEPPNYGIVTEYASLGSLYDYINSNRSEEMDMDHIMTWATDVAKGMHYLHMEAPVKVIHRDLKSRNVVIAADGVLKICDFGASRFHNHTTHMSLVGTFPWMAPEVIQSLPVSETCDTYSYGVVLWEMLTREVPFKGLEGLQVAWLVVEKNERLTIPSSCPRSFAELLHQCWEADAKKRPSFKQIISILESMSNDTSLPDKCNSFLHNKAEWRCEIEATLERLKKLERDLSFKEQELKERERRLKMWEQKLTEQSNTPLLPSFEIGAWTEDDVYCWVQQLVRKGDSSAEMSVYASLFKENNITGKRLLLLEEEDLKDMGIVSKGHIIHFKSAIEKLTHDYINLFHFPPLIKDSGGEPEENEEKIVNLELVFGFHLKPGTGPQDCKWKMYMEMDGDEIAITYIKDVTFNTNLPDAEILKMTKPPFVMEKWIVGIAKSQTVECTVTYESDVRTPKSTKHVHSIQWSRTKPQDEVKAVQLAIQTLFTNSDGNPGSRSDSSADCQWLDTLRMRQIASNTSLQRSQSNPILGSPFFSHFDGQDSYAAAVRRPQVPIKYQQITPVNQSRSSSPTQYGLTKNFSSLHLNSRDSGFSSGNTDTSSERGRYSDRSRNKYGRGSISLNSSPRGRYSGKSQHSTPSRGRYPGKFYRVSQSALNPHQSPDFKRSPRDLHQPNTIPGMPLHPETDSRASEEDSKVSEGGWTKVEYRKKPHRPSPAKTNKERARGDHRGWRNF',\n",
       "        'MPDPAAHLPFFYGSISRAEAEEHLKLAGMADGLFLLRQCLRSLGGYVLSLVHDVRFHHFPIERQLNGTYAIAGGKAHCGPAELCEFYSRDPDGLPCNLRKPCNRPSGLEPQPGVFDCLRDAMVRDYVRQTWKLEGEALEQAIISQAPQVEKLIATTAHERMPWYHSSLTREEAERKLYSGAQTDGKFLLRPRKEQGTYALSLIYGKTVYHYLISQDKAGKYCIPEGTKFDTLWQLVEYLKLKADGLIYCLKEACPNSSASNASGAAAPTLPAHPSTLTHPQRRIDTLNSDGYTPEPARITSPDKPRPMPMDTSVYESPYSDPEELKDKKLFLKRDNLLIADIELGCGNFGSVRQGVYRMRKKQIDVAIKVLKQGTEKADTEEMMREAQIMHQLDNPYIVRLIGVCQAEALMLVMEMAGGGPLHKFLVGKREEIPVSNVAELLHQVSMGMKYLEEKNFVHRDLAARNVLLVNRHYAKISDFGLSKALGADDSYYTARSAGKWPLKWYAPECINFRKFSSRSDVWSYGVTMWEALSYGQKPYKKMKGPEVMAFIEQGKRMECPPECPPELYALMSDCWIYKWEDRPDFLTVEQRMRACYYSLASKVEGPPGSTQKAEAACA'],\n",
       "       dtype='<U2549'),\n",
       " array([7.36653154, 5.        , 5.        , ..., 5.7212464 , 5.35654732,\n",
       "        5.        ]))"
      ]
     },
     "execution_count": 5,
     "metadata": {},
     "output_type": "execute_result"
    }
   ],
   "source": [
    "# load_process_DAVIS()"
   ]
  },
  {
   "cell_type": "code",
   "execution_count": 75,
   "metadata": {
    "collapsed": true,
    "hidden": true
   },
   "outputs": [
    {
     "name": "stdout",
     "output_type": "stream",
     "text": [
      "Beginning to download dataset...\n",
      "Beginning to extract zip file...\n",
      "Done!\n"
     ]
    },
    {
     "data": {
      "text/plain": [
       "'./data/BindingDB_All.tsv'"
      ]
     },
     "execution_count": 75,
     "metadata": {},
     "output_type": "execute_result"
    }
   ],
   "source": [
    "# download_BindingDB()"
   ]
  },
  {
   "cell_type": "code",
   "execution_count": 26,
   "metadata": {
    "hidden": true,
    "scrolled": true
   },
   "outputs": [
    {
     "name": "stdout",
     "output_type": "stream",
     "text": [
      "Loading Dataset from path...\n"
     ]
    },
    {
     "name": "stderr",
     "output_type": "stream",
     "text": [
      "b'Skipping line 896772: expected 193 fields, saw 205\\nSkipping line 896798: expected 193 fields, saw 205\\n'\n",
      "b'Skipping line 929491: expected 193 fields, saw 205\\n'\n",
      "b'Skipping line 952161: expected 193 fields, saw 265\\n'\n",
      "b'Skipping line 1355895: expected 193 fields, saw 241\\n'\n",
      "b'Skipping line 1469800: expected 193 fields, saw 241\\nSkipping line 1469801: expected 193 fields, saw 241\\nSkipping line 1469802: expected 193 fields, saw 241\\nSkipping line 1469803: expected 193 fields, saw 241\\nSkipping line 1469804: expected 193 fields, saw 241\\nSkipping line 1469805: expected 193 fields, saw 241\\nSkipping line 1469806: expected 193 fields, saw 241\\nSkipping line 1469807: expected 193 fields, saw 241\\nSkipping line 1469808: expected 193 fields, saw 241\\n'\n",
      "b'Skipping line 1483073: expected 193 fields, saw 205\\n'\n",
      "b'Skipping line 1502296: expected 193 fields, saw 241\\nSkipping line 1502297: expected 193 fields, saw 241\\nSkipping line 1502298: expected 193 fields, saw 241\\nSkipping line 1502299: expected 193 fields, saw 241\\nSkipping line 1502300: expected 193 fields, saw 241\\nSkipping line 1502301: expected 193 fields, saw 241\\nSkipping line 1502302: expected 193 fields, saw 241\\nSkipping line 1502303: expected 193 fields, saw 241\\nSkipping line 1502304: expected 193 fields, saw 241\\n'\n",
      "b'Skipping line 1541474: expected 193 fields, saw 205\\n'\n",
      "b'Skipping line 1927945: expected 193 fields, saw 265\\n'\n",
      "b'Skipping line 2015166: expected 193 fields, saw 265\\nSkipping line 2015167: expected 193 fields, saw 265\\nSkipping line 2015168: expected 193 fields, saw 265\\nSkipping line 2015169: expected 193 fields, saw 265\\nSkipping line 2015170: expected 193 fields, saw 265\\nSkipping line 2015171: expected 193 fields, saw 265\\nSkipping line 2015172: expected 193 fields, saw 265\\nSkipping line 2015173: expected 193 fields, saw 265\\nSkipping line 2015174: expected 193 fields, saw 265\\nSkipping line 2015175: expected 193 fields, saw 265\\nSkipping line 2015176: expected 193 fields, saw 265\\nSkipping line 2015177: expected 193 fields, saw 265\\nSkipping line 2015178: expected 193 fields, saw 265\\nSkipping line 2015179: expected 193 fields, saw 265\\nSkipping line 2015180: expected 193 fields, saw 265\\nSkipping line 2015181: expected 193 fields, saw 265\\nSkipping line 2015182: expected 193 fields, saw 265\\nSkipping line 2015183: expected 193 fields, saw 265\\nSkipping line 2015184: expected 193 fields, saw 265\\n'\n",
      "b'Skipping line 2015802: expected 193 fields, saw 265\\nSkipping line 2015803: expected 193 fields, saw 265\\nSkipping line 2015804: expected 193 fields, saw 265\\nSkipping line 2015805: expected 193 fields, saw 265\\nSkipping line 2015806: expected 193 fields, saw 265\\nSkipping line 2015807: expected 193 fields, saw 265\\nSkipping line 2015808: expected 193 fields, saw 265\\n'\n",
      "b'Skipping line 2027219: expected 193 fields, saw 265\\nSkipping line 2027220: expected 193 fields, saw 265\\nSkipping line 2027221: expected 193 fields, saw 265\\nSkipping line 2027222: expected 193 fields, saw 265\\nSkipping line 2027223: expected 193 fields, saw 265\\nSkipping line 2027224: expected 193 fields, saw 265\\nSkipping line 2027225: expected 193 fields, saw 265\\nSkipping line 2027226: expected 193 fields, saw 265\\nSkipping line 2027227: expected 193 fields, saw 265\\nSkipping line 2027228: expected 193 fields, saw 265\\nSkipping line 2027229: expected 193 fields, saw 265\\nSkipping line 2027230: expected 193 fields, saw 265\\nSkipping line 2027231: expected 193 fields, saw 265\\nSkipping line 2027232: expected 193 fields, saw 265\\nSkipping line 2027233: expected 193 fields, saw 265\\nSkipping line 2027234: expected 193 fields, saw 265\\nSkipping line 2027235: expected 193 fields, saw 265\\nSkipping line 2027236: expected 193 fields, saw 265\\nSkipping line 2027237: expected 193 fields, saw 265\\nSkipping line 2027238: expected 193 fields, saw 265\\nSkipping line 2027239: expected 193 fields, saw 265\\nSkipping line 2027240: expected 193 fields, saw 265\\nSkipping line 2027241: expected 193 fields, saw 265\\nSkipping line 2027242: expected 193 fields, saw 265\\nSkipping line 2027243: expected 193 fields, saw 265\\nSkipping line 2027244: expected 193 fields, saw 265\\nSkipping line 2027245: expected 193 fields, saw 265\\nSkipping line 2027246: expected 193 fields, saw 265\\nSkipping line 2027247: expected 193 fields, saw 265\\nSkipping line 2027248: expected 193 fields, saw 265\\nSkipping line 2027249: expected 193 fields, saw 265\\nSkipping line 2027250: expected 193 fields, saw 265\\nSkipping line 2027251: expected 193 fields, saw 265\\nSkipping line 2027252: expected 193 fields, saw 265\\nSkipping line 2027253: expected 193 fields, saw 265\\nSkipping line 2027254: expected 193 fields, saw 265\\nSkipping line 2027255: expected 193 fields, saw 265\\nSkipping line 2027256: expected 193 fields, saw 265\\nSkipping line 2027257: expected 193 fields, saw 265\\n'\n",
      "b'Skipping line 2029854: expected 193 fields, saw 265\\nSkipping line 2029855: expected 193 fields, saw 265\\nSkipping line 2029856: expected 193 fields, saw 265\\nSkipping line 2029857: expected 193 fields, saw 265\\nSkipping line 2029858: expected 193 fields, saw 265\\nSkipping line 2029859: expected 193 fields, saw 265\\nSkipping line 2029860: expected 193 fields, saw 265\\nSkipping line 2029861: expected 193 fields, saw 265\\n'\n",
      "b'Skipping line 2042409: expected 193 fields, saw 313\\n'\n",
      "b'Skipping line 2059953: expected 193 fields, saw 637\\n'\n",
      "/miniconda/envs/DeepPurpose/lib/python3.7/site-packages/IPython/core/interactiveshell.py:3254: DtypeWarning: Columns (8,9,10,11,12,13,15,17,18,19,20,26,27,31,32,34,35,46,49,50,51,52,53,54,61,62,63,64,65,66,73,74,75,76,77,78,85,86,87,88,89,90,97,98,99,100,101,102,109,110,111,112,113,114,121,122,123,124,125,126,133,134,135,136,137,138,145,147,148,149,150,157,158,159,160,161,162,169,171,172,173,174) have mixed types.Specify dtype option on import or set low_memory=False.\n",
      "  if (await self.run_code(code, result,  async_=asy)):\n"
     ]
    },
    {
     "name": "stdout",
     "output_type": "stream",
     "text": [
      "Beginning Processing...\n",
      "There are 70750 drug target pairs.\n",
      "Default binary threshold for the binding affinity scores are 30, you can adjust it by using the \"threshold\" parameter\n"
     ]
    }
   ],
   "source": [
    "X_drug, X_target, y  = process_BindingDB('/home/sars-busters-consolidated/data/BindingDB_All.tsv',\n",
    "                                         y = 'Kd', \n",
    "                                         binary = True, ## Keep it binary true for classification task\n",
    "                                         convert_to_log = True)"
   ]
  },
  {
   "cell_type": "markdown",
   "metadata": {
    "heading_collapsed": true
   },
   "source": [
    "# Original DeepPurpose"
   ]
  },
  {
   "cell_type": "code",
   "execution_count": 3,
   "metadata": {
    "hidden": true
   },
   "outputs": [
    {
     "name": "stdout",
     "output_type": "stream",
     "text": [
      "Drug Target Interaction Prediction Mode...\n",
      "in total: 70750 drug-target pairs\n",
      "encoding drug...\n",
      "unique drugs: 13392\n",
      "encoding protein...\n",
      "unique target sequence: 1507\n",
      "splitting dataset...\n",
      "Done.\n"
     ]
    }
   ],
   "source": [
    "drug_encoding = 'Transformer'\n",
    "target_encoding = 'CNN'\n",
    "\n",
    "all_data, nil1, nil2 = data_process(X_drug, \n",
    "                                X_target, \n",
    "                                y, \n",
    "                                drug_encoding, target_encoding, \n",
    "                                split_method='random',frac=[1.0,0.0,0.0])\n",
    "\n",
    "config = generate_config(drug_encoding = drug_encoding, \n",
    "                         target_encoding = target_encoding, \n",
    "                         cls_hidden_dims = [1024,1024,512], \n",
    "                         train_epoch = 100, \n",
    "                         LR = 0.001, \n",
    "                         batch_size = 128,\n",
    "                         cnn_target_filters = [32,64,96],\n",
    "                         cnn_target_kernels = [4,8,12]\n",
    "                        )"
   ]
  },
  {
   "cell_type": "code",
   "execution_count": 4,
   "metadata": {
    "scrolled": true
   },
   "outputs": [],
   "source": [
    "shuffled = all_data.sample(frac=1)\n",
    "result = np.array_split(shuffled, 10)  \n",
    "\n",
    "train = pd.concat(result[0:7]).reset_index()\n",
    "val = pd.concat([result[7]]).reset_index()\n",
    "test = pd.concat(result[8:10]).reset_index()"
   ]
  },
  {
   "cell_type": "code",
   "execution_count": 41,
   "metadata": {
    "hidden": true
   },
   "outputs": [],
   "source": [
    "import torch, gc\n",
    "\n",
    "gc.collect()\n",
    "torch.cuda.empty_cache()"
   ]
  },
  {
   "cell_type": "code",
   "execution_count": 5,
   "metadata": {
    "hidden": true
   },
   "outputs": [
    {
     "data": {
      "text/plain": [
       "(49525, 6)"
      ]
     },
     "execution_count": 5,
     "metadata": {},
     "output_type": "execute_result"
    }
   ],
   "source": [
    "train.shape"
   ]
  },
  {
   "cell_type": "code",
   "execution_count": 6,
   "metadata": {
    "hidden": true
   },
   "outputs": [
    {
     "data": {
      "text/plain": [
       "(14150, 6)"
      ]
     },
     "execution_count": 6,
     "metadata": {},
     "output_type": "execute_result"
    }
   ],
   "source": [
    "test.shape"
   ]
  },
  {
   "cell_type": "code",
   "execution_count": 7,
   "metadata": {
    "hidden": true,
    "scrolled": true
   },
   "outputs": [
    {
     "name": "stdout",
     "output_type": "stream",
     "text": [
      "Let's use 4 GPUs!\n",
      "--- Data Preparation ---\n",
      "--- Go for Training ---\n",
      "Training at Epoch 1 iteration 0 with loss 0.69518. Total time 0.00472 hours\n",
      "Training at Epoch 1 iteration 100 with loss 0.34904. Total time 0.02055 hours\n",
      "Training at Epoch 1 iteration 200 with loss 0.30562. Total time 0.03638 hours\n",
      "Training at Epoch 1 iteration 300 with loss 0.29947. Total time 0.05166 hours\n",
      "Validation at Epoch 1, AUROC: 0.83298 , AUPRC: 0.59041 , F1: 0.24198 , Cross-entropy Loss: 5.07707\n",
      "Training at Epoch 2 iteration 0 with loss 0.27694. Total time 0.07083 hours\n",
      "Training at Epoch 2 iteration 100 with loss 0.31445. Total time 0.08694 hours\n",
      "Training at Epoch 2 iteration 200 with loss 0.31005. Total time 0.10305 hours\n",
      "Training at Epoch 2 iteration 300 with loss 0.38071. Total time 0.11861 hours\n",
      "Validation at Epoch 2, AUROC: 0.83880 , AUPRC: 0.61062 , F1: 0.45139 , Cross-entropy Loss: 4.71096\n",
      "Training at Epoch 3 iteration 0 with loss 0.30282. Total time 0.13777 hours\n",
      "Training at Epoch 3 iteration 100 with loss 0.28805. Total time 0.15416 hours\n",
      "Training at Epoch 3 iteration 200 with loss 0.29561. Total time 0.17 hours\n",
      "Training at Epoch 3 iteration 300 with loss 0.28439. Total time 0.18583 hours\n",
      "Validation at Epoch 3, AUROC: 0.84624 , AUPRC: 0.62387 , F1: 0.44209 , Cross-entropy Loss: 4.63284\n",
      "Training at Epoch 4 iteration 0 with loss 0.32543. Total time 0.205 hours\n",
      "Training at Epoch 4 iteration 100 with loss 0.25084. Total time 0.22166 hours\n",
      "Training at Epoch 4 iteration 200 with loss 0.31004. Total time 0.23777 hours\n",
      "Training at Epoch 4 iteration 300 with loss 0.28016. Total time 0.25361 hours\n",
      "Validation at Epoch 4, AUROC: 0.84849 , AUPRC: 0.62668 , F1: 0.47045 , Cross-entropy Loss: 4.59379\n",
      "Training at Epoch 5 iteration 0 with loss 0.33156. Total time 0.2725 hours\n",
      "Training at Epoch 5 iteration 100 with loss 0.25992. Total time 0.28861 hours\n",
      "Training at Epoch 5 iteration 200 with loss 0.29169. Total time 0.30472 hours\n",
      "Training at Epoch 5 iteration 300 with loss 0.29767. Total time 0.32083 hours\n",
      "Validation at Epoch 5, AUROC: 0.84888 , AUPRC: 0.62887 , F1: 0.52716 , Cross-entropy Loss: 4.58892\n",
      "Training at Epoch 6 iteration 0 with loss 0.27550. Total time 0.34055 hours\n",
      "Training at Epoch 6 iteration 100 with loss 0.24981. Total time 0.35638 hours\n",
      "Training at Epoch 6 iteration 200 with loss 0.23946. Total time 0.37222 hours\n",
      "Training at Epoch 6 iteration 300 with loss 0.31447. Total time 0.38777 hours\n",
      "Validation at Epoch 6, AUROC: 0.85389 , AUPRC: 0.63476 , F1: 0.46522 , Cross-entropy Loss: 4.57915\n",
      "Training at Epoch 7 iteration 0 with loss 0.31908. Total time 0.40694 hours\n",
      "Training at Epoch 7 iteration 100 with loss 0.25262. Total time 0.42277 hours\n",
      "Training at Epoch 7 iteration 200 with loss 0.29089. Total time 0.43888 hours\n",
      "Training at Epoch 7 iteration 300 with loss 0.26373. Total time 0.45416 hours\n",
      "Validation at Epoch 7, AUROC: 0.85144 , AUPRC: 0.63344 , F1: 0.46373 , Cross-entropy Loss: 4.58403\n",
      "Training at Epoch 8 iteration 0 with loss 0.35388. Total time 0.47333 hours\n",
      "Training at Epoch 8 iteration 100 with loss 0.23438. Total time 0.48888 hours\n",
      "Training at Epoch 8 iteration 200 with loss 0.31811. Total time 0.50472 hours\n",
      "Training at Epoch 8 iteration 300 with loss 0.24289. Total time 0.52055 hours\n",
      "Validation at Epoch 8, AUROC: 0.85507 , AUPRC: 0.63762 , F1: 0.41604 , Cross-entropy Loss: 4.54985\n",
      "Training at Epoch 9 iteration 0 with loss 0.28714. Total time 0.54 hours\n",
      "Training at Epoch 9 iteration 100 with loss 0.28617. Total time 0.55555 hours\n",
      "Training at Epoch 9 iteration 200 with loss 0.31732. Total time 0.57166 hours\n",
      "Training at Epoch 9 iteration 300 with loss 0.28029. Total time 0.58722 hours\n",
      "Validation at Epoch 9, AUROC: 0.85216 , AUPRC: 0.63901 , F1: 0.50484 , Cross-entropy Loss: 4.49128\n",
      "Training at Epoch 10 iteration 0 with loss 0.25773. Total time 0.60666 hours\n",
      "Training at Epoch 10 iteration 100 with loss 0.21315. Total time 0.62194 hours\n",
      "Training at Epoch 10 iteration 200 with loss 0.31825. Total time 0.63777 hours\n",
      "Training at Epoch 10 iteration 300 with loss 0.34197. Total time 0.65333 hours\n",
      "Validation at Epoch 10, AUROC: 0.85283 , AUPRC: 0.63487 , F1: 0.51153 , Cross-entropy Loss: 4.54986\n",
      "Training at Epoch 11 iteration 0 with loss 0.33928. Total time 0.6725 hours\n",
      "Training at Epoch 11 iteration 100 with loss 0.33868. Total time 0.68861 hours\n",
      "Training at Epoch 11 iteration 200 with loss 0.28629. Total time 0.70527 hours\n",
      "Training at Epoch 11 iteration 300 with loss 0.40039. Total time 0.72083 hours\n",
      "Validation at Epoch 11, AUROC: 0.85163 , AUPRC: 0.62313 , F1: 0.28183 , Cross-entropy Loss: 4.90133\n",
      "Training at Epoch 12 iteration 0 with loss 0.34472. Total time 0.74 hours\n",
      "Training at Epoch 12 iteration 100 with loss 0.22058. Total time 0.75555 hours\n",
      "Training at Epoch 12 iteration 200 with loss 0.36422. Total time 0.77138 hours\n",
      "Training at Epoch 12 iteration 300 with loss 0.39480. Total time 0.78666 hours\n",
      "Validation at Epoch 12, AUROC: 0.85290 , AUPRC: 0.63037 , F1: 0.38322 , Cross-entropy Loss: 4.66701\n",
      "Training at Epoch 13 iteration 0 with loss 0.28141. Total time 0.80638 hours\n",
      "Training at Epoch 13 iteration 100 with loss 0.27506. Total time 0.82222 hours\n",
      "Training at Epoch 13 iteration 200 with loss 0.30458. Total time 0.83805 hours\n",
      "Training at Epoch 13 iteration 300 with loss 0.36537. Total time 0.85361 hours\n",
      "Validation at Epoch 13, AUROC: 0.85504 , AUPRC: 0.63524 , F1: 0.46655 , Cross-entropy Loss: 4.55474\n",
      "Training at Epoch 14 iteration 0 with loss 0.32722. Total time 0.87305 hours\n",
      "Training at Epoch 14 iteration 100 with loss 0.36722. Total time 0.88861 hours\n",
      "Training at Epoch 14 iteration 200 with loss 0.26247. Total time 0.90472 hours\n",
      "Training at Epoch 14 iteration 300 with loss 0.27896. Total time 0.92083 hours\n",
      "Validation at Epoch 14, AUROC: 0.85419 , AUPRC: 0.63237 , F1: 0.40075 , Cross-entropy Loss: 4.64260\n",
      "Training at Epoch 15 iteration 0 with loss 0.28613. Total time 0.94055 hours\n",
      "Training at Epoch 15 iteration 100 with loss 0.28422. Total time 0.95666 hours\n",
      "Training at Epoch 15 iteration 200 with loss 0.28612. Total time 0.9725 hours\n",
      "Training at Epoch 15 iteration 300 with loss 0.27273. Total time 0.98777 hours\n",
      "Validation at Epoch 15, AUROC: 0.85597 , AUPRC: 0.63664 , F1: 0.49301 , Cross-entropy Loss: 4.42781\n",
      "Training at Epoch 16 iteration 0 with loss 0.30786. Total time 1.00666 hours\n",
      "Training at Epoch 16 iteration 100 with loss 0.32299. Total time 1.0225 hours\n",
      "Training at Epoch 16 iteration 200 with loss 0.34100. Total time 1.03861 hours\n",
      "Training at Epoch 16 iteration 300 with loss 0.31435. Total time 1.05388 hours\n",
      "Validation at Epoch 16, AUROC: 0.85519 , AUPRC: 0.63509 , F1: 0.51619 , Cross-entropy Loss: 4.44734\n",
      "Training at Epoch 17 iteration 0 with loss 0.32837. Total time 1.07333 hours\n",
      "Training at Epoch 17 iteration 100 with loss 0.30333. Total time 1.08888 hours\n",
      "Training at Epoch 17 iteration 200 with loss 0.29948. Total time 1.10472 hours\n",
      "Training at Epoch 17 iteration 300 with loss 0.24840. Total time 1.12055 hours\n",
      "Validation at Epoch 17, AUROC: 0.85590 , AUPRC: 0.64088 , F1: 0.38481 , Cross-entropy Loss: 4.58890\n",
      "Training at Epoch 18 iteration 0 with loss 0.31223. Total time 1.13972 hours\n",
      "Training at Epoch 18 iteration 100 with loss 0.37073. Total time 1.155 hours\n",
      "Training at Epoch 18 iteration 200 with loss 0.31678. Total time 1.17083 hours\n",
      "Training at Epoch 18 iteration 300 with loss 0.32842. Total time 1.18694 hours\n",
      "Validation at Epoch 18, AUROC: 0.85638 , AUPRC: 0.63813 , F1: 0.44110 , Cross-entropy Loss: 4.54009\n",
      "Training at Epoch 19 iteration 0 with loss 0.33189. Total time 1.20611 hours\n",
      "Training at Epoch 19 iteration 100 with loss 0.26504. Total time 1.22277 hours\n",
      "Training at Epoch 19 iteration 200 with loss 0.31950. Total time 1.23833 hours\n",
      "Training at Epoch 19 iteration 300 with loss 0.36055. Total time 1.25388 hours\n",
      "Validation at Epoch 19, AUROC: 0.85507 , AUPRC: 0.63909 , F1: 0.53698 , Cross-entropy Loss: 4.46199\n",
      "Training at Epoch 20 iteration 0 with loss 0.35133. Total time 1.27333 hours\n",
      "Training at Epoch 20 iteration 100 with loss 0.31449. Total time 1.28916 hours\n",
      "Training at Epoch 20 iteration 200 with loss 0.28036. Total time 1.30555 hours\n",
      "Training at Epoch 20 iteration 300 with loss 0.25197. Total time 1.32111 hours\n",
      "Validation at Epoch 20, AUROC: 0.85621 , AUPRC: 0.63853 , F1: 0.36835 , Cross-entropy Loss: 4.63771\n",
      "Training at Epoch 21 iteration 0 with loss 0.29962. Total time 1.34 hours\n",
      "Training at Epoch 21 iteration 100 with loss 0.34556. Total time 1.35555 hours\n",
      "Training at Epoch 21 iteration 200 with loss 0.27620. Total time 1.37166 hours\n",
      "Training at Epoch 21 iteration 300 with loss 0.34682. Total time 1.3875 hours\n",
      "Validation at Epoch 21, AUROC: 0.85397 , AUPRC: 0.63539 , F1: 0.45168 , Cross-entropy Loss: 4.59867\n",
      "Training at Epoch 22 iteration 0 with loss 0.32025. Total time 1.40638 hours\n",
      "Training at Epoch 22 iteration 100 with loss 0.21886. Total time 1.4225 hours\n",
      "Training at Epoch 22 iteration 200 with loss 0.31578. Total time 1.43833 hours\n",
      "Training at Epoch 22 iteration 300 with loss 0.44181. Total time 1.45361 hours\n",
      "Validation at Epoch 22, AUROC: 0.85506 , AUPRC: 0.63675 , F1: 0.39923 , Cross-entropy Loss: 4.58402\n",
      "Training at Epoch 23 iteration 0 with loss 0.31272. Total time 1.47277 hours\n",
      "Training at Epoch 23 iteration 100 with loss 0.33493. Total time 1.48944 hours\n",
      "Training at Epoch 23 iteration 200 with loss 0.23004. Total time 1.50527 hours\n",
      "Training at Epoch 23 iteration 300 with loss 0.32587. Total time 1.52111 hours\n",
      "Validation at Epoch 23, AUROC: 0.85393 , AUPRC: 0.64010 , F1: 0.42928 , Cross-entropy Loss: 4.49126\n",
      "Training at Epoch 24 iteration 0 with loss 0.25664. Total time 1.54055 hours\n",
      "Training at Epoch 24 iteration 100 with loss 0.32313. Total time 1.55638 hours\n",
      "Training at Epoch 24 iteration 200 with loss 0.33469. Total time 1.5725 hours\n",
      "Training at Epoch 24 iteration 300 with loss 0.36329. Total time 1.58861 hours\n",
      "Validation at Epoch 24, AUROC: 0.85681 , AUPRC: 0.64256 , F1: 0.41439 , Cross-entropy Loss: 4.60843\n",
      "Training at Epoch 25 iteration 0 with loss 0.37662. Total time 1.60777 hours\n",
      "Training at Epoch 25 iteration 100 with loss 0.31252. Total time 1.62361 hours\n",
      "Training at Epoch 25 iteration 200 with loss 0.18376. Total time 1.63916 hours\n",
      "Training at Epoch 25 iteration 300 with loss 0.21466. Total time 1.65444 hours\n",
      "Validation at Epoch 25, AUROC: 0.85704 , AUPRC: 0.64415 , F1: 0.42163 , Cross-entropy Loss: 4.59378\n",
      "Training at Epoch 26 iteration 0 with loss 0.33165. Total time 1.67361 hours\n",
      "Training at Epoch 26 iteration 100 with loss 0.28517. Total time 1.68916 hours\n",
      "Training at Epoch 26 iteration 200 with loss 0.27668. Total time 1.70583 hours\n",
      "Training at Epoch 26 iteration 300 with loss 0.26061. Total time 1.72194 hours\n",
      "Validation at Epoch 26, AUROC: 0.85391 , AUPRC: 0.63960 , F1: 0.36904 , Cross-entropy Loss: 4.65724\n",
      "Training at Epoch 27 iteration 0 with loss 0.27107. Total time 1.74083 hours\n",
      "Training at Epoch 27 iteration 100 with loss 0.27377. Total time 1.75666 hours\n",
      "Training at Epoch 27 iteration 200 with loss 0.26739. Total time 1.77222 hours\n",
      "Training at Epoch 27 iteration 300 with loss 0.28661. Total time 1.78777 hours\n",
      "Validation at Epoch 27, AUROC: 0.85603 , AUPRC: 0.64800 , F1: 0.43985 , Cross-entropy Loss: 4.50103\n",
      "Training at Epoch 28 iteration 0 with loss 0.29719. Total time 1.8075 hours\n",
      "Training at Epoch 28 iteration 100 with loss 0.32721. Total time 1.82361 hours\n",
      "Training at Epoch 28 iteration 200 with loss 0.25812. Total time 1.84027 hours\n",
      "Training at Epoch 28 iteration 300 with loss 0.35286. Total time 1.85611 hours\n",
      "Validation at Epoch 28, AUROC: 0.85669 , AUPRC: 0.65108 , F1: 0.51783 , Cross-entropy Loss: 4.35459\n",
      "Training at Epoch 29 iteration 0 with loss 0.33250. Total time 1.87527 hours\n",
      "Training at Epoch 29 iteration 100 with loss 0.24976. Total time 1.89138 hours\n",
      "Training at Epoch 29 iteration 200 with loss 0.27705. Total time 1.90833 hours\n",
      "Training at Epoch 29 iteration 300 with loss 0.28956. Total time 1.92388 hours\n",
      "Validation at Epoch 29, AUROC: 0.85532 , AUPRC: 0.64643 , F1: 0.52094 , Cross-entropy Loss: 4.35459\n",
      "Training at Epoch 30 iteration 0 with loss 0.28233. Total time 1.94277 hours\n",
      "Training at Epoch 30 iteration 100 with loss 0.26060. Total time 1.95888 hours\n",
      "Training at Epoch 30 iteration 200 with loss 0.31911. Total time 1.97444 hours\n",
      "Training at Epoch 30 iteration 300 with loss 0.28706. Total time 1.99111 hours\n",
      "Validation at Epoch 30, AUROC: 0.85651 , AUPRC: 0.64603 , F1: 0.38819 , Cross-entropy Loss: 4.55472\n",
      "Training at Epoch 31 iteration 0 with loss 0.30977. Total time 2.01027 hours\n",
      "Training at Epoch 31 iteration 100 with loss 0.21222. Total time 2.02638 hours\n",
      "Training at Epoch 31 iteration 200 with loss 0.32956. Total time 2.0425 hours\n",
      "Training at Epoch 31 iteration 300 with loss 0.32124. Total time 2.05805 hours\n",
      "Validation at Epoch 31, AUROC: 0.85590 , AUPRC: 0.64280 , F1: 0.42269 , Cross-entropy Loss: 4.52056\n",
      "Training at Epoch 32 iteration 0 with loss 0.25258. Total time 2.07722 hours\n",
      "Training at Epoch 32 iteration 100 with loss 0.32906. Total time 2.09277 hours\n",
      "Training at Epoch 32 iteration 200 with loss 0.29741. Total time 2.10888 hours\n",
      "Training at Epoch 32 iteration 300 with loss 0.27283. Total time 2.12472 hours\n",
      "Validation at Epoch 32, AUROC: 0.85127 , AUPRC: 0.62740 , F1: 0.43768 , Cross-entropy Loss: 4.60355\n",
      "Training at Epoch 33 iteration 0 with loss 0.34289. Total time 2.14416 hours\n",
      "Training at Epoch 33 iteration 100 with loss 0.33705. Total time 2.16 hours\n",
      "Training at Epoch 33 iteration 200 with loss 0.23799. Total time 2.17638 hours\n",
      "Training at Epoch 33 iteration 300 with loss 0.33033. Total time 2.19194 hours\n",
      "Validation at Epoch 33, AUROC: 0.85808 , AUPRC: 0.64811 , F1: 0.552 , Cross-entropy Loss: 4.37412\n",
      "Training at Epoch 34 iteration 0 with loss 0.24500. Total time 2.21111 hours\n",
      "Training at Epoch 34 iteration 100 with loss 0.39337. Total time 2.2275 hours\n",
      "Training at Epoch 34 iteration 200 with loss 0.29342. Total time 2.24444 hours\n",
      "Training at Epoch 34 iteration 300 with loss 0.40523. Total time 2.26027 hours\n",
      "Validation at Epoch 34, AUROC: 0.85744 , AUPRC: 0.65137 , F1: 0.42633 , Cross-entropy Loss: 4.46685\n",
      "Training at Epoch 35 iteration 0 with loss 0.23316. Total time 2.27944 hours\n",
      "Training at Epoch 35 iteration 100 with loss 0.30737. Total time 2.295 hours\n",
      "Training at Epoch 35 iteration 200 with loss 0.28456. Total time 2.31111 hours\n",
      "Training at Epoch 35 iteration 300 with loss 0.27602. Total time 2.32694 hours\n",
      "Validation at Epoch 35, AUROC: 0.85653 , AUPRC: 0.64605 , F1: 0.49063 , Cross-entropy Loss: 4.37899\n",
      "Training at Epoch 36 iteration 0 with loss 0.37059. Total time 2.34638 hours\n",
      "Training at Epoch 36 iteration 100 with loss 0.24694. Total time 2.36277 hours\n",
      "Training at Epoch 36 iteration 200 with loss 0.25538. Total time 2.37944 hours\n",
      "Training at Epoch 36 iteration 300 with loss 0.39939. Total time 2.39555 hours\n",
      "Validation at Epoch 36, AUROC: 0.85633 , AUPRC: 0.64377 , F1: 0.49669 , Cross-entropy Loss: 4.46199\n",
      "Training at Epoch 37 iteration 0 with loss 0.27191. Total time 2.41555 hours\n",
      "Training at Epoch 37 iteration 100 with loss 0.31830. Total time 2.43166 hours\n",
      "Training at Epoch 37 iteration 200 with loss 0.30560. Total time 2.44722 hours\n",
      "Training at Epoch 37 iteration 300 with loss 0.22174. Total time 2.46277 hours\n",
      "Validation at Epoch 37, AUROC: 0.85576 , AUPRC: 0.64868 , F1: 0.42258 , Cross-entropy Loss: 4.44244\n",
      "Training at Epoch 38 iteration 0 with loss 0.31077. Total time 2.48277 hours\n",
      "Training at Epoch 38 iteration 100 with loss 0.36477. Total time 2.50027 hours\n",
      "Training at Epoch 38 iteration 200 with loss 0.32184. Total time 2.51638 hours\n",
      "Training at Epoch 38 iteration 300 with loss 0.22788. Total time 2.53194 hours\n",
      "Validation at Epoch 38, AUROC: 0.85626 , AUPRC: 0.65026 , F1: 0.42740 , Cross-entropy Loss: 4.44733\n",
      "Training at Epoch 39 iteration 0 with loss 0.26736. Total time 2.55111 hours\n",
      "Training at Epoch 39 iteration 100 with loss 0.28942. Total time 2.5675 hours\n",
      "Training at Epoch 39 iteration 200 with loss 0.24107. Total time 2.58305 hours\n",
      "Training at Epoch 39 iteration 300 with loss 0.41357. Total time 2.59833 hours\n",
      "Validation at Epoch 39, AUROC: 0.85333 , AUPRC: 0.64644 , F1: 0.49113 , Cross-entropy Loss: 4.48151\n",
      "Training at Epoch 40 iteration 0 with loss 0.37967. Total time 2.61777 hours\n",
      "Training at Epoch 40 iteration 100 with loss 0.25033. Total time 2.63416 hours\n",
      "Training at Epoch 40 iteration 200 with loss 0.36569. Total time 2.65 hours\n",
      "Training at Epoch 40 iteration 300 with loss 0.31069. Total time 2.66583 hours\n",
      "Validation at Epoch 40, AUROC: 0.85712 , AUPRC: 0.64836 , F1: 0.44090 , Cross-entropy Loss: 4.45709\n",
      "Training at Epoch 41 iteration 0 with loss 0.29906. Total time 2.685 hours\n",
      "Training at Epoch 41 iteration 100 with loss 0.33219. Total time 2.70055 hours\n",
      "Training at Epoch 41 iteration 200 with loss 0.29402. Total time 2.71666 hours\n",
      "Training at Epoch 41 iteration 300 with loss 0.31888. Total time 2.73333 hours\n",
      "Validation at Epoch 41, AUROC: 0.85702 , AUPRC: 0.65195 , F1: 0.41756 , Cross-entropy Loss: 4.46685\n",
      "Training at Epoch 42 iteration 0 with loss 0.25532. Total time 2.75222 hours\n",
      "Training at Epoch 42 iteration 100 with loss 0.31148. Total time 2.76861 hours\n",
      "Training at Epoch 42 iteration 200 with loss 0.28460. Total time 2.78444 hours\n",
      "Training at Epoch 42 iteration 300 with loss 0.25385. Total time 2.80027 hours\n",
      "Validation at Epoch 42, AUROC: 0.85776 , AUPRC: 0.65399 , F1: 0.49861 , Cross-entropy Loss: 4.40828\n",
      "Training at Epoch 43 iteration 0 with loss 0.26158. Total time 2.82 hours\n",
      "Training at Epoch 43 iteration 100 with loss 0.30357. Total time 2.83555 hours\n",
      "Training at Epoch 43 iteration 200 with loss 0.26045. Total time 2.85138 hours\n",
      "Training at Epoch 43 iteration 300 with loss 0.19254. Total time 2.86694 hours\n",
      "Validation at Epoch 43, AUROC: 0.85719 , AUPRC: 0.65171 , F1: 0.43142 , Cross-entropy Loss: 4.45221\n",
      "Training at Epoch 44 iteration 0 with loss 0.34668. Total time 2.88611 hours\n",
      "Training at Epoch 44 iteration 100 with loss 0.26178. Total time 2.90222 hours\n",
      "Training at Epoch 44 iteration 200 with loss 0.28232. Total time 2.91861 hours\n",
      "Training at Epoch 44 iteration 300 with loss 0.30549. Total time 2.93527 hours\n",
      "Validation at Epoch 44, AUROC: 0.85649 , AUPRC: 0.65050 , F1: 0.45810 , Cross-entropy Loss: 4.38875\n",
      "Training at Epoch 45 iteration 0 with loss 0.35450. Total time 2.955 hours\n",
      "Training at Epoch 45 iteration 100 with loss 0.35424. Total time 2.97111 hours\n",
      "Training at Epoch 45 iteration 200 with loss 0.32691. Total time 2.98722 hours\n",
      "Training at Epoch 45 iteration 300 with loss 0.27257. Total time 3.00361 hours\n",
      "Validation at Epoch 45, AUROC: 0.85663 , AUPRC: 0.65034 , F1: 0.51223 , Cross-entropy Loss: 4.37899\n",
      "Training at Epoch 46 iteration 0 with loss 0.26977. Total time 3.02277 hours\n",
      "Training at Epoch 46 iteration 100 with loss 0.21190. Total time 3.03861 hours\n",
      "Training at Epoch 46 iteration 200 with loss 0.22984. Total time 3.05416 hours\n",
      "Training at Epoch 46 iteration 300 with loss 0.32104. Total time 3.07027 hours\n",
      "Validation at Epoch 46, AUROC: 0.85916 , AUPRC: 0.65438 , F1: 0.46851 , Cross-entropy Loss: 4.40828\n",
      "Training at Epoch 47 iteration 0 with loss 0.24441. Total time 3.08972 hours\n",
      "Training at Epoch 47 iteration 100 with loss 0.34099. Total time 3.10583 hours\n",
      "Training at Epoch 47 iteration 200 with loss 0.27520. Total time 3.12138 hours\n",
      "Training at Epoch 47 iteration 300 with loss 0.25195. Total time 3.1375 hours\n",
      "Validation at Epoch 47, AUROC: 0.85548 , AUPRC: 0.64861 , F1: 0.41904 , Cross-entropy Loss: 4.46685\n",
      "Training at Epoch 48 iteration 0 with loss 0.23961. Total time 3.15666 hours\n",
      "Training at Epoch 48 iteration 100 with loss 0.30737. Total time 3.1725 hours\n",
      "Training at Epoch 48 iteration 200 with loss 0.32651. Total time 3.18888 hours\n",
      "Training at Epoch 48 iteration 300 with loss 0.27981. Total time 3.20444 hours\n",
      "Validation at Epoch 48, AUROC: 0.85598 , AUPRC: 0.65128 , F1: 0.43462 , Cross-entropy Loss: 4.43268\n",
      "Training at Epoch 49 iteration 0 with loss 0.29192. Total time 3.22361 hours\n",
      "Training at Epoch 49 iteration 100 with loss 0.25245. Total time 3.23944 hours\n",
      "Training at Epoch 49 iteration 200 with loss 0.34826. Total time 3.25583 hours\n",
      "Training at Epoch 49 iteration 300 with loss 0.28841. Total time 3.27138 hours\n",
      "Validation at Epoch 49, AUROC: 0.85318 , AUPRC: 0.64693 , F1: 0.46405 , Cross-entropy Loss: 4.47662\n",
      "Training at Epoch 50 iteration 0 with loss 0.27661. Total time 3.29055 hours\n",
      "Training at Epoch 50 iteration 100 with loss 0.37194. Total time 3.30722 hours\n",
      "Training at Epoch 50 iteration 200 with loss 0.30368. Total time 3.32305 hours\n",
      "Training at Epoch 50 iteration 300 with loss 0.38211. Total time 3.34055 hours\n",
      "Validation at Epoch 50, AUROC: 0.85618 , AUPRC: 0.64823 , F1: 0.45285 , Cross-entropy Loss: 4.44733\n",
      "Training at Epoch 51 iteration 0 with loss 0.25043. Total time 3.35972 hours\n",
      "Training at Epoch 51 iteration 100 with loss 0.26353. Total time 3.37583 hours\n",
      "Training at Epoch 51 iteration 200 with loss 0.39166. Total time 3.39222 hours\n",
      "Training at Epoch 51 iteration 300 with loss 0.34088. Total time 3.40777 hours\n",
      "Validation at Epoch 51, AUROC: 0.85545 , AUPRC: 0.64974 , F1: 0.42813 , Cross-entropy Loss: 4.52544\n",
      "Training at Epoch 52 iteration 0 with loss 0.19357. Total time 3.42694 hours\n",
      "Training at Epoch 52 iteration 100 with loss 0.28228. Total time 3.44277 hours\n",
      "Training at Epoch 52 iteration 200 with loss 0.23087. Total time 3.45888 hours\n",
      "Training at Epoch 52 iteration 300 with loss 0.33611. Total time 3.47527 hours\n",
      "Validation at Epoch 52, AUROC: 0.85554 , AUPRC: 0.64645 , F1: 0.34340 , Cross-entropy Loss: 4.66700\n",
      "Training at Epoch 53 iteration 0 with loss 0.28233. Total time 3.49472 hours\n",
      "Training at Epoch 53 iteration 100 with loss 0.37418. Total time 3.51027 hours\n",
      "Training at Epoch 53 iteration 200 with loss 0.28225. Total time 3.52666 hours\n",
      "Training at Epoch 53 iteration 300 with loss 0.20828. Total time 3.54222 hours\n",
      "Validation at Epoch 53, AUROC: 0.85666 , AUPRC: 0.65103 , F1: 0.54366 , Cross-entropy Loss: 4.31065\n",
      "Training at Epoch 54 iteration 0 with loss 0.28142. Total time 3.5625 hours\n",
      "Training at Epoch 54 iteration 100 with loss 0.27778. Total time 3.57861 hours\n",
      "Training at Epoch 54 iteration 200 with loss 0.29822. Total time 3.59555 hours\n",
      "Training at Epoch 54 iteration 300 with loss 0.25019. Total time 3.61166 hours\n",
      "Validation at Epoch 54, AUROC: 0.85591 , AUPRC: 0.64950 , F1: 0.45568 , Cross-entropy Loss: 4.46686\n",
      "Training at Epoch 55 iteration 0 with loss 0.30063. Total time 3.63138 hours\n",
      "Training at Epoch 55 iteration 100 with loss 0.30239. Total time 3.64722 hours\n",
      "Training at Epoch 55 iteration 200 with loss 0.32317. Total time 3.66361 hours\n",
      "Training at Epoch 55 iteration 300 with loss 0.36022. Total time 3.68055 hours\n",
      "Validation at Epoch 55, AUROC: 0.85651 , AUPRC: 0.65162 , F1: 0.46886 , Cross-entropy Loss: 4.41316\n",
      "Training at Epoch 56 iteration 0 with loss 0.27822. Total time 3.69944 hours\n",
      "Training at Epoch 56 iteration 100 with loss 0.39179. Total time 3.715 hours\n",
      "Training at Epoch 56 iteration 200 with loss 0.26047. Total time 3.73083 hours\n",
      "Training at Epoch 56 iteration 300 with loss 0.30403. Total time 3.74722 hours\n",
      "Validation at Epoch 56, AUROC: 0.85331 , AUPRC: 0.64304 , F1: 0.37650 , Cross-entropy Loss: 4.55960\n",
      "Training at Epoch 57 iteration 0 with loss 0.33813. Total time 3.76694 hours\n",
      "Training at Epoch 57 iteration 100 with loss 0.21066. Total time 3.78305 hours\n",
      "Training at Epoch 57 iteration 200 with loss 0.30540. Total time 3.79861 hours\n",
      "Training at Epoch 57 iteration 300 with loss 0.41183. Total time 3.815 hours\n",
      "Validation at Epoch 57, AUROC: 0.85512 , AUPRC: 0.64832 , F1: 0.44871 , Cross-entropy Loss: 4.48639\n",
      "Training at Epoch 58 iteration 0 with loss 0.29659. Total time 3.83388 hours\n",
      "Training at Epoch 58 iteration 100 with loss 0.33345. Total time 3.84972 hours\n",
      "Training at Epoch 58 iteration 200 with loss 0.21155. Total time 3.86555 hours\n",
      "Training at Epoch 58 iteration 300 with loss 0.28495. Total time 3.88222 hours\n",
      "Validation at Epoch 58, AUROC: 0.85479 , AUPRC: 0.65010 , F1: 0.39714 , Cross-entropy Loss: 4.53520\n",
      "Training at Epoch 59 iteration 0 with loss 0.24777. Total time 3.90138 hours\n",
      "Training at Epoch 59 iteration 100 with loss 0.25167. Total time 3.91722 hours\n",
      "Training at Epoch 59 iteration 200 with loss 0.36280. Total time 3.93305 hours\n",
      "Training at Epoch 59 iteration 300 with loss 0.22029. Total time 3.94888 hours\n",
      "Validation at Epoch 59, AUROC: 0.85650 , AUPRC: 0.65154 , F1: 0.50823 , Cross-entropy Loss: 4.37411\n",
      "Training at Epoch 60 iteration 0 with loss 0.28300. Total time 3.96805 hours\n",
      "Training at Epoch 60 iteration 100 with loss 0.25523. Total time 3.98333 hours\n",
      "Training at Epoch 60 iteration 200 with loss 0.34133. Total time 3.99888 hours\n",
      "Training at Epoch 60 iteration 300 with loss 0.27582. Total time 4.01611 hours\n",
      "Validation at Epoch 60, AUROC: 0.85509 , AUPRC: 0.64941 , F1: 0.48133 , Cross-entropy Loss: 4.40828\n",
      "Training at Epoch 61 iteration 0 with loss 0.30995. Total time 4.035 hours\n",
      "Training at Epoch 61 iteration 100 with loss 0.29722. Total time 4.05055 hours\n",
      "Training at Epoch 61 iteration 200 with loss 0.25608. Total time 4.06722 hours\n",
      "Training at Epoch 61 iteration 300 with loss 0.37570. Total time 4.08305 hours\n",
      "Validation at Epoch 61, AUROC: 0.85630 , AUPRC: 0.65257 , F1: 0.43703 , Cross-entropy Loss: 4.45221\n",
      "Training at Epoch 62 iteration 0 with loss 0.27249. Total time 4.10277 hours\n",
      "Training at Epoch 62 iteration 100 with loss 0.24668. Total time 4.11805 hours\n",
      "Training at Epoch 62 iteration 200 with loss 0.34199. Total time 4.13444 hours\n",
      "Training at Epoch 62 iteration 300 with loss 0.27107. Total time 4.15111 hours\n",
      "Validation at Epoch 62, AUROC: 0.85431 , AUPRC: 0.64668 , F1: 0.49493 , Cross-entropy Loss: 4.38387\n",
      "Training at Epoch 63 iteration 0 with loss 0.34580. Total time 4.17 hours\n",
      "Training at Epoch 63 iteration 100 with loss 0.48439. Total time 4.18555 hours\n",
      "Training at Epoch 63 iteration 200 with loss 0.34568. Total time 4.20166 hours\n",
      "Training at Epoch 63 iteration 300 with loss 0.34547. Total time 4.21833 hours\n",
      "Validation at Epoch 63, AUROC: 0.85543 , AUPRC: 0.65030 , F1: 0.43127 , Cross-entropy Loss: 4.40339\n",
      "Training at Epoch 64 iteration 0 with loss 0.40391. Total time 4.23805 hours\n",
      "Training at Epoch 64 iteration 100 with loss 0.37385. Total time 4.25416 hours\n",
      "Training at Epoch 64 iteration 200 with loss 0.23290. Total time 4.27 hours\n",
      "Training at Epoch 64 iteration 300 with loss 0.32143. Total time 4.28583 hours\n",
      "Validation at Epoch 64, AUROC: 0.85670 , AUPRC: 0.64989 , F1: 0.49239 , Cross-entropy Loss: 4.39852\n",
      "Training at Epoch 65 iteration 0 with loss 0.38004. Total time 4.30527 hours\n",
      "Training at Epoch 65 iteration 100 with loss 0.25286. Total time 4.32166 hours\n",
      "Training at Epoch 65 iteration 200 with loss 0.38416. Total time 4.33861 hours\n",
      "Training at Epoch 65 iteration 300 with loss 0.34280. Total time 4.35444 hours\n",
      "Validation at Epoch 65, AUROC: 0.85359 , AUPRC: 0.64265 , F1: 0.40486 , Cross-entropy Loss: 4.53520\n",
      "Training at Epoch 66 iteration 0 with loss 0.20413. Total time 4.37388 hours\n",
      "Training at Epoch 66 iteration 100 with loss 0.36093. Total time 4.38944 hours\n",
      "Training at Epoch 66 iteration 200 with loss 0.29709. Total time 4.40555 hours\n",
      "Training at Epoch 66 iteration 300 with loss 0.25916. Total time 4.42138 hours\n",
      "Validation at Epoch 66, AUROC: 0.85671 , AUPRC: 0.65332 , F1: 0.48502 , Cross-entropy Loss: 4.36434\n",
      "Training at Epoch 67 iteration 0 with loss 0.27351. Total time 4.44111 hours\n",
      "Training at Epoch 67 iteration 100 with loss 0.42132. Total time 4.45666 hours\n",
      "Training at Epoch 67 iteration 200 with loss 0.29667. Total time 4.47361 hours\n",
      "Training at Epoch 67 iteration 300 with loss 0.26675. Total time 4.48944 hours\n",
      "Validation at Epoch 67, AUROC: 0.85856 , AUPRC: 0.65599 , F1: 0.39393 , Cross-entropy Loss: 4.49126\n",
      "Training at Epoch 68 iteration 0 with loss 0.35554. Total time 4.50916 hours\n",
      "Training at Epoch 68 iteration 100 with loss 0.38498. Total time 4.52472 hours\n",
      "Training at Epoch 68 iteration 200 with loss 0.32308. Total time 4.54083 hours\n",
      "Training at Epoch 68 iteration 300 with loss 0.25778. Total time 4.55638 hours\n",
      "Validation at Epoch 68, AUROC: 0.85715 , AUPRC: 0.65304 , F1: 0.44890 , Cross-entropy Loss: 4.42292\n",
      "Training at Epoch 69 iteration 0 with loss 0.37403. Total time 4.57638 hours\n",
      "Training at Epoch 69 iteration 100 with loss 0.27793. Total time 4.59222 hours\n",
      "Training at Epoch 69 iteration 200 with loss 0.39599. Total time 4.60861 hours\n",
      "Training at Epoch 69 iteration 300 with loss 0.39284. Total time 4.62444 hours\n",
      "Validation at Epoch 69, AUROC: 0.85883 , AUPRC: 0.65150 , F1: 0.52183 , Cross-entropy Loss: 4.38388\n",
      "Training at Epoch 70 iteration 0 with loss 0.35487. Total time 4.64388 hours\n",
      "Training at Epoch 70 iteration 100 with loss 0.30305. Total time 4.65944 hours\n",
      "Training at Epoch 70 iteration 200 with loss 0.26834. Total time 4.67611 hours\n",
      "Training at Epoch 70 iteration 300 with loss 0.29615. Total time 4.69305 hours\n",
      "Validation at Epoch 70, AUROC: 0.85723 , AUPRC: 0.65120 , F1: 0.44444 , Cross-entropy Loss: 4.41804\n",
      "Training at Epoch 71 iteration 0 with loss 0.35062. Total time 4.71222 hours\n",
      "Training at Epoch 71 iteration 100 with loss 0.33712. Total time 4.7275 hours\n",
      "Training at Epoch 71 iteration 200 with loss 0.36602. Total time 4.74333 hours\n",
      "Training at Epoch 71 iteration 300 with loss 0.29841. Total time 4.75944 hours\n",
      "Validation at Epoch 71, AUROC: 0.85592 , AUPRC: 0.64836 , F1: 0.41078 , Cross-entropy Loss: 4.48150\n",
      "Training at Epoch 72 iteration 0 with loss 0.32517. Total time 4.77861 hours\n",
      "Training at Epoch 72 iteration 100 with loss 0.27234. Total time 4.79583 hours\n",
      "Training at Epoch 72 iteration 200 with loss 0.26313. Total time 4.81222 hours\n",
      "Training at Epoch 72 iteration 300 with loss 0.32625. Total time 4.82805 hours\n",
      "Validation at Epoch 72, AUROC: 0.85605 , AUPRC: 0.64744 , F1: 0.43823 , Cross-entropy Loss: 4.41804\n",
      "Training at Epoch 73 iteration 0 with loss 0.26633. Total time 4.84805 hours\n",
      "Training at Epoch 73 iteration 100 with loss 0.21125. Total time 4.86361 hours\n",
      "Training at Epoch 73 iteration 200 with loss 0.29774. Total time 4.88055 hours\n",
      "Training at Epoch 73 iteration 300 with loss 0.28570. Total time 4.89722 hours\n",
      "Validation at Epoch 73, AUROC: 0.85741 , AUPRC: 0.65308 , F1: 0.46070 , Cross-entropy Loss: 4.38875\n",
      "Training at Epoch 74 iteration 0 with loss 0.21046. Total time 4.91638 hours\n",
      "Training at Epoch 74 iteration 100 with loss 0.29366. Total time 4.9325 hours\n",
      "Training at Epoch 74 iteration 200 with loss 0.32235. Total time 4.94833 hours\n",
      "Training at Epoch 74 iteration 300 with loss 0.27644. Total time 4.96416 hours\n",
      "Validation at Epoch 74, AUROC: 0.85689 , AUPRC: 0.65166 , F1: 0.39238 , Cross-entropy Loss: 4.52055\n",
      "Training at Epoch 75 iteration 0 with loss 0.37162. Total time 4.98361 hours\n",
      "Training at Epoch 75 iteration 100 with loss 0.32674. Total time 4.99972 hours\n",
      "Training at Epoch 75 iteration 200 with loss 0.28974. Total time 5.01638 hours\n",
      "Training at Epoch 75 iteration 300 with loss 0.33030. Total time 5.03361 hours\n",
      "Validation at Epoch 75, AUROC: 0.85647 , AUPRC: 0.65096 , F1: 0.45952 , Cross-entropy Loss: 4.43269\n",
      "Training at Epoch 76 iteration 0 with loss 0.30218. Total time 5.05277 hours\n",
      "Training at Epoch 76 iteration 100 with loss 0.35063. Total time 5.06861 hours\n",
      "Training at Epoch 76 iteration 200 with loss 0.20854. Total time 5.08444 hours\n",
      "Training at Epoch 76 iteration 300 with loss 0.41640. Total time 5.10055 hours\n",
      "Validation at Epoch 76, AUROC: 0.85678 , AUPRC: 0.64974 , F1: 0.43640 , Cross-entropy Loss: 4.41315\n",
      "Training at Epoch 77 iteration 0 with loss 0.25039. Total time 5.11972 hours\n",
      "Training at Epoch 77 iteration 100 with loss 0.27937. Total time 5.135 hours\n",
      "Training at Epoch 77 iteration 200 with loss 0.23067. Total time 5.15083 hours\n",
      "Training at Epoch 77 iteration 300 with loss 0.31881. Total time 5.16638 hours\n",
      "Validation at Epoch 77, AUROC: 0.85501 , AUPRC: 0.64649 , F1: 0.42244 , Cross-entropy Loss: 4.47174\n",
      "Training at Epoch 78 iteration 0 with loss 0.31254. Total time 5.18611 hours\n",
      "Training at Epoch 78 iteration 100 with loss 0.31192. Total time 5.20194 hours\n",
      "Training at Epoch 78 iteration 200 with loss 0.32667. Total time 5.2175 hours\n",
      "Training at Epoch 78 iteration 300 with loss 0.33156. Total time 5.23305 hours\n",
      "Validation at Epoch 78, AUROC: 0.85515 , AUPRC: 0.64820 , F1: 0.42205 , Cross-entropy Loss: 4.45221\n",
      "Training at Epoch 79 iteration 0 with loss 0.39398. Total time 5.25277 hours\n",
      "Training at Epoch 79 iteration 100 with loss 0.34409. Total time 5.26888 hours\n",
      "Training at Epoch 79 iteration 200 with loss 0.36521. Total time 5.28444 hours\n",
      "Training at Epoch 79 iteration 300 with loss 0.27197. Total time 5.30027 hours\n",
      "Validation at Epoch 79, AUROC: 0.85448 , AUPRC: 0.64768 , F1: 0.41613 , Cross-entropy Loss: 4.45221\n",
      "Training at Epoch 80 iteration 0 with loss 0.16919. Total time 5.31972 hours\n",
      "Training at Epoch 80 iteration 100 with loss 0.21945. Total time 5.33555 hours\n",
      "Training at Epoch 80 iteration 200 with loss 0.31130. Total time 5.35138 hours\n",
      "Training at Epoch 80 iteration 300 with loss 0.27066. Total time 5.36805 hours\n",
      "Validation at Epoch 80, AUROC: 0.84963 , AUPRC: 0.64595 , F1: 0.38013 , Cross-entropy Loss: 4.56937\n",
      "Training at Epoch 81 iteration 0 with loss 0.24384. Total time 5.38722 hours\n",
      "Training at Epoch 81 iteration 100 with loss 0.28576. Total time 5.40277 hours\n",
      "Training at Epoch 81 iteration 200 with loss 0.20909. Total time 5.41861 hours\n",
      "Training at Epoch 81 iteration 300 with loss 0.31678. Total time 5.43444 hours\n",
      "Validation at Epoch 81, AUROC: 0.85686 , AUPRC: 0.65176 , F1: 0.44890 , Cross-entropy Loss: 4.42292\n",
      "Training at Epoch 82 iteration 0 with loss 0.30023. Total time 5.45361 hours\n",
      "Training at Epoch 82 iteration 100 with loss 0.23626. Total time 5.46944 hours\n",
      "Training at Epoch 82 iteration 200 with loss 0.20926. Total time 5.48555 hours\n",
      "Training at Epoch 82 iteration 300 with loss 0.28732. Total time 5.50166 hours\n",
      "Validation at Epoch 82, AUROC: 0.84279 , AUPRC: 0.63707 , F1: 0.42558 , Cross-entropy Loss: 4.42780\n",
      "Training at Epoch 83 iteration 0 with loss 0.36716. Total time 5.52166 hours\n",
      "Training at Epoch 83 iteration 100 with loss 0.30028. Total time 5.53694 hours\n",
      "Training at Epoch 83 iteration 200 with loss 0.33857. Total time 5.55277 hours\n",
      "Training at Epoch 83 iteration 300 with loss 0.25558. Total time 5.56861 hours\n",
      "Validation at Epoch 83, AUROC: 0.85381 , AUPRC: 0.64936 , F1: 0.45607 , Cross-entropy Loss: 4.41316\n",
      "Training at Epoch 84 iteration 0 with loss 0.30618. Total time 5.58805 hours\n",
      "Training at Epoch 84 iteration 100 with loss 0.33338. Total time 5.60416 hours\n",
      "Training at Epoch 84 iteration 200 with loss 0.29349. Total time 5.62027 hours\n",
      "Training at Epoch 84 iteration 300 with loss 0.28270. Total time 5.63583 hours\n",
      "Validation at Epoch 84, AUROC: 0.85406 , AUPRC: 0.64979 , F1: 0.41002 , Cross-entropy Loss: 4.48150\n",
      "Training at Epoch 85 iteration 0 with loss 0.28650. Total time 5.65527 hours\n",
      "Training at Epoch 85 iteration 100 with loss 0.32628. Total time 5.67083 hours\n",
      "Training at Epoch 85 iteration 200 with loss 0.33442. Total time 5.68666 hours\n",
      "Training at Epoch 85 iteration 300 with loss 0.31876. Total time 5.70277 hours\n",
      "Validation at Epoch 85, AUROC: 0.85427 , AUPRC: 0.64687 , F1: 0.37758 , Cross-entropy Loss: 4.55472\n",
      "Training at Epoch 86 iteration 0 with loss 0.36378. Total time 5.72222 hours\n",
      "Training at Epoch 86 iteration 100 with loss 0.25179. Total time 5.73777 hours\n",
      "Training at Epoch 86 iteration 200 with loss 0.21394. Total time 5.75361 hours\n",
      "Training at Epoch 86 iteration 300 with loss 0.22702. Total time 5.77027 hours\n",
      "Validation at Epoch 86, AUROC: 0.85469 , AUPRC: 0.64728 , F1: 0.50330 , Cross-entropy Loss: 4.40340\n",
      "Training at Epoch 87 iteration 0 with loss 0.39929. Total time 5.78972 hours\n",
      "Training at Epoch 87 iteration 100 with loss 0.34539. Total time 5.80611 hours\n",
      "Training at Epoch 87 iteration 200 with loss 0.29363. Total time 5.82305 hours\n",
      "Training at Epoch 87 iteration 300 with loss 0.29339. Total time 5.83888 hours\n",
      "Validation at Epoch 87, AUROC: 0.85550 , AUPRC: 0.65213 , F1: 0.48601 , Cross-entropy Loss: 4.30576\n",
      "Training at Epoch 88 iteration 0 with loss 0.28664. Total time 5.85833 hours\n",
      "Training at Epoch 88 iteration 100 with loss 0.19681. Total time 5.87416 hours\n",
      "Training at Epoch 88 iteration 200 with loss 0.26190. Total time 5.88972 hours\n",
      "Training at Epoch 88 iteration 300 with loss 0.25331. Total time 5.90611 hours\n",
      "Validation at Epoch 88, AUROC: 0.85364 , AUPRC: 0.65239 , F1: 0.46218 , Cross-entropy Loss: 4.37410\n",
      "Training at Epoch 89 iteration 0 with loss 0.24148. Total time 5.92666 hours\n",
      "Training at Epoch 89 iteration 100 with loss 0.22737. Total time 5.94222 hours\n",
      "Training at Epoch 89 iteration 200 with loss 0.24214. Total time 5.95777 hours\n",
      "Training at Epoch 89 iteration 300 with loss 0.29351. Total time 5.97361 hours\n",
      "Validation at Epoch 89, AUROC: 0.85648 , AUPRC: 0.65127 , F1: 0.45486 , Cross-entropy Loss: 4.48151\n",
      "Training at Epoch 90 iteration 0 with loss 0.35337. Total time 5.99361 hours\n",
      "Training at Epoch 90 iteration 100 with loss 0.31719. Total time 6.00916 hours\n",
      "Training at Epoch 90 iteration 200 with loss 0.27928. Total time 6.02583 hours\n",
      "Training at Epoch 90 iteration 300 with loss 0.16701. Total time 6.04194 hours\n",
      "Validation at Epoch 90, AUROC: 0.85630 , AUPRC: 0.64952 , F1: 0.44981 , Cross-entropy Loss: 4.44245\n",
      "Training at Epoch 91 iteration 0 with loss 0.20447. Total time 6.06222 hours\n",
      "Training at Epoch 91 iteration 100 with loss 0.21607. Total time 6.0775 hours\n",
      "Training at Epoch 91 iteration 200 with loss 0.25431. Total time 6.09333 hours\n",
      "Training at Epoch 91 iteration 300 with loss 0.25876. Total time 6.11 hours\n",
      "Validation at Epoch 91, AUROC: 0.85313 , AUPRC: 0.64652 , F1: 0.44143 , Cross-entropy Loss: 4.42292\n",
      "Training at Epoch 92 iteration 0 with loss 0.26881. Total time 6.12916 hours\n",
      "Training at Epoch 92 iteration 100 with loss 0.31690. Total time 6.145 hours\n",
      "Training at Epoch 92 iteration 200 with loss 0.23066. Total time 6.16138 hours\n",
      "Training at Epoch 92 iteration 300 with loss 0.33282. Total time 6.17777 hours\n",
      "Validation at Epoch 92, AUROC: 0.85695 , AUPRC: 0.64790 , F1: 0.44444 , Cross-entropy Loss: 4.39363\n",
      "Training at Epoch 93 iteration 0 with loss 0.20397. Total time 6.1975 hours\n",
      "Training at Epoch 93 iteration 100 with loss 0.25199. Total time 6.21305 hours\n",
      "Training at Epoch 93 iteration 200 with loss 0.26434. Total time 6.22916 hours\n",
      "Training at Epoch 93 iteration 300 with loss 0.40092. Total time 6.245 hours\n",
      "Validation at Epoch 93, AUROC: 0.85168 , AUPRC: 0.64125 , F1: 0.53040 , Cross-entropy Loss: 4.48640\n",
      "Training at Epoch 94 iteration 0 with loss 0.25916. Total time 6.26444 hours\n",
      "Training at Epoch 94 iteration 100 with loss 0.33430. Total time 6.28 hours\n",
      "Training at Epoch 94 iteration 200 with loss 0.23627. Total time 6.29555 hours\n",
      "Training at Epoch 94 iteration 300 with loss 0.28817. Total time 6.31138 hours\n",
      "Validation at Epoch 94, AUROC: 0.85223 , AUPRC: 0.64520 , F1: 0.54062 , Cross-entropy Loss: 4.30577\n",
      "Training at Epoch 95 iteration 0 with loss 0.33209. Total time 6.33083 hours\n",
      "Training at Epoch 95 iteration 100 with loss 0.35262. Total time 6.34722 hours\n",
      "Training at Epoch 95 iteration 200 with loss 0.24075. Total time 6.36388 hours\n",
      "Training at Epoch 95 iteration 300 with loss 0.26766. Total time 6.38055 hours\n",
      "Validation at Epoch 95, AUROC: 0.84997 , AUPRC: 0.64619 , F1: 0.43975 , Cross-entropy Loss: 4.40339\n",
      "Training at Epoch 96 iteration 0 with loss 0.19243. Total time 6.40027 hours\n",
      "Training at Epoch 96 iteration 100 with loss 0.32390. Total time 6.41666 hours\n",
      "Training at Epoch 96 iteration 200 with loss 0.13813. Total time 6.43277 hours\n",
      "Training at Epoch 96 iteration 300 with loss 0.21948. Total time 6.44944 hours\n",
      "Validation at Epoch 96, AUROC: 0.85042 , AUPRC: 0.64553 , F1: 0.42158 , Cross-entropy Loss: 4.44733\n",
      "Training at Epoch 97 iteration 0 with loss 0.28160. Total time 6.46916 hours\n",
      "Training at Epoch 97 iteration 100 with loss 0.24807. Total time 6.48472 hours\n",
      "Training at Epoch 97 iteration 200 with loss 0.22888. Total time 6.50027 hours\n",
      "Training at Epoch 97 iteration 300 with loss 0.31496. Total time 6.51722 hours\n",
      "Validation at Epoch 97, AUROC: 0.85241 , AUPRC: 0.65014 , F1: 0.44279 , Cross-entropy Loss: 4.39851\n",
      "Training at Epoch 98 iteration 0 with loss 0.26884. Total time 6.53666 hours\n",
      "Training at Epoch 98 iteration 100 with loss 0.25668. Total time 6.5525 hours\n",
      "Training at Epoch 98 iteration 200 with loss 0.31281. Total time 6.56805 hours\n",
      "Training at Epoch 98 iteration 300 with loss 0.28841. Total time 6.58472 hours\n",
      "Validation at Epoch 98, AUROC: 0.85391 , AUPRC: 0.64881 , F1: 0.39633 , Cross-entropy Loss: 4.50591\n",
      "Training at Epoch 99 iteration 0 with loss 0.33953. Total time 6.60472 hours\n",
      "Training at Epoch 99 iteration 100 with loss 0.39911. Total time 6.62083 hours\n",
      "Training at Epoch 99 iteration 200 with loss 0.32026. Total time 6.63638 hours\n",
      "Training at Epoch 99 iteration 300 with loss 0.21420. Total time 6.6525 hours\n",
      "Validation at Epoch 99, AUROC: 0.85663 , AUPRC: 0.64652 , F1: 0.43944 , Cross-entropy Loss: 4.49615\n",
      "Training at Epoch 100 iteration 0 with loss 0.33821. Total time 6.67305 hours\n",
      "Training at Epoch 100 iteration 100 with loss 0.28852. Total time 6.68888 hours\n",
      "Training at Epoch 100 iteration 200 with loss 0.21185. Total time 6.70472 hours\n",
      "Training at Epoch 100 iteration 300 with loss 0.31495. Total time 6.72027 hours\n",
      "Validation at Epoch 100, AUROC: 0.85584 , AUPRC: 0.64850 , F1: 0.44984 , Cross-entropy Loss: 4.41804\n",
      "--- Go for Testing ---\n",
      "Validation at Epoch 100 , AUROC: 0.85180 , AUPRC: 0.62334 , F1: 0.44337 , Cross-entropy Loss: 4.24718\n",
      "--- Training Finished ---\n"
     ]
    },
    {
     "data": {
      "image/png": "[encoded data removed]",
      "text/plain": [
       "<Figure size 432x288 with 1 Axes>"
      ]
     },
     "metadata": {
      "needs_background": "light"
     },
     "output_type": "display_data"
    },
    {
     "data": {
      "image/png": "[encoded data removed]",
      "text/plain": [
       "<Figure size 432x288 with 1 Axes>"
      ]
     },
     "metadata": {
      "needs_background": "light"
     },
     "output_type": "display_data"
    },
    {
     "data": {
      "image/png": "[encoded data removed]",
      "text/plain": [
       "<Figure size 432x288 with 1 Axes>"
      ]
     },
     "metadata": {
      "needs_background": "light"
     },
     "output_type": "display_data"
    }
   ],
   "source": [
    "model = models.model_initialize(**config)\n",
    "model.train(train, val, test)"
   ]
  },
  {
   "cell_type": "code",
   "execution_count": 8,
   "metadata": {
    "hidden": true
   },
   "outputs": [],
   "source": [
    "model.save_model('/home/sars-busters-consolidated/deep_purpose/save_folder/pretrained_model/transformer_CNN_fold3')"
   ]
  },
  {
   "cell_type": "code",
   "execution_count": 9,
   "metadata": {
    "hidden": true
   },
   "outputs": [
    {
     "name": "stdout",
     "output_type": "stream",
     "text": [
      "predicting...\n"
     ]
    }
   ],
   "source": [
    "test_preidcted = model.predict(test)\n",
    "test['Y_predicted'] = test_preidcted"
   ]
  },
  {
   "cell_type": "code",
   "execution_count": 10,
   "metadata": {
    "hidden": true
   },
   "outputs": [],
   "source": [
    "train.to_csv('../data/Transformer_CNN_train_fold3.csv')\n",
    "val.to_csv('../data/Transformer_CNN_val_fold3.csv')\n",
    "test.to_csv('../data/Transformer_CNN_test_fold3.csv')"
   ]
  },
  {
   "cell_type": "markdown",
   "metadata": {},
   "source": [
    "# Preparing Degree Lists for Original DeepPurpose Data"
   ]
  },
  {
   "cell_type": "code",
   "execution_count": 2,
   "metadata": {},
   "outputs": [],
   "source": [
    "train = pd.read_csv('../data/Transformer_CNN_train_fold3.csv')\n",
    "val = pd.read_csv('../data/Transformer_CNN_val_fold3.csv')\n",
    "test = pd.read_csv('../data/Transformer_CNN_test_fold3.csv')"
   ]
  },
  {
   "cell_type": "code",
   "execution_count": 3,
   "metadata": {},
   "outputs": [
    {
     "name": "stdout",
     "output_type": "stream",
     "text": [
      "Ligands:  10410\n",
      "Targets:  1404\n"
     ]
    }
   ],
   "source": [
    "ligands = list(set(train['SMILES'].tolist()))\n",
    "targets = list(set(train['Target Sequence'].tolist()))\n",
    "\n",
    "number_ligands = len(ligands)\n",
    "number_targets = len(targets)\n",
    "print('Ligands: ', number_ligands)\n",
    "print('Targets: ',number_targets)"
   ]
  },
  {
   "cell_type": "code",
   "execution_count": 4,
   "metadata": {},
   "outputs": [
    {
     "name": "stderr",
     "output_type": "stream",
     "text": [
      "100%|██████████| 10410/10410 [01:12<00:00, 142.71it/s]\n",
      "100%|██████████| 1404/1404 [00:09<00:00, 143.20it/s]\n",
      "100%|██████████| 10410/10410 [00:00<00:00, 1059028.95it/s]\n",
      "100%|██████████| 10410/10410 [00:00<00:00, 1071109.43it/s]\n",
      "100%|██████████| 1404/1404 [00:00<00:00, 1133115.80it/s]\n",
      "100%|██████████| 1404/1404 [00:00<00:00, 708555.27it/s]\n"
     ]
    }
   ],
   "source": [
    "ligands_degree_dict = dict()\n",
    "\n",
    "for smile_chem in tqdm(ligands):\n",
    "    sum_df = train[train['SMILES'] == smile_chem]\n",
    "    ligands_degree_dict[smile_chem] = dict()\n",
    "    ligands_degree_dict[smile_chem]['deg_0'] = len(sum_df[sum_df['Label'] == 0])\n",
    "    ligands_degree_dict[smile_chem]['deg_1'] = len(sum_df[sum_df['Label'] == 1])\n",
    "    \n",
    "targets_degree_dict = dict()\n",
    "\n",
    "for aa_target in tqdm(targets):\n",
    "    sum_df = train[train['Target Sequence'] == aa_target]\n",
    "    targets_degree_dict[aa_target] = dict()\n",
    "    targets_degree_dict[aa_target]['deg_0'] = len(sum_df[sum_df['Label'] == 0])\n",
    "    targets_degree_dict[aa_target]['deg_1'] = len(sum_df[sum_df['Label'] == 1])\n",
    "    \n",
    "degree_train_1_0_ligands = [ligands_degree_dict[key_val]['deg_1'] for key_val in tqdm(ligands_degree_dict.keys())]\n",
    "degree_train_0_1_ligands = [ligands_degree_dict[key_val]['deg_0'] for key_val in tqdm(ligands_degree_dict.keys())]\n",
    "\n",
    "degree_train_1_0_targets = [targets_degree_dict[key_val]['deg_1'] for key_val in tqdm(targets_degree_dict.keys())]\n",
    "degree_train_0_1_targets = [targets_degree_dict[key_val]['deg_0'] for key_val in tqdm(targets_degree_dict.keys())]"
   ]
  },
  {
   "cell_type": "code",
   "execution_count": 13,
   "metadata": {},
   "outputs": [],
   "source": [
    "with open('../data/fold3/degreetrain10ligands.txt', 'w') as file:\n",
    "    for degree in degree_train_1_0_ligands:\n",
    "        file.write(\"%i\\n\" % degree)\n",
    "        \n",
    "file.close()\n",
    "\n",
    "with open('../data/fold3/degreetrain01ligands.txt', 'w') as file:\n",
    "    for degree in degree_train_0_1_ligands:\n",
    "        file.write(\"%i\\n\" % degree)\n",
    "        \n",
    "file.close()\n",
    "\n",
    "with open('../data/fold3/degreetrain10targets.txt', 'w') as file:\n",
    "    for degree in degree_train_1_0_targets:\n",
    "        file.write(\"%i\\n\" % degree)\n",
    "        \n",
    "file.close()\n",
    "\n",
    "with open('../data/fold3/degreetrain01targets.txt', 'w') as file:\n",
    "    for degree in degree_train_0_1_targets:\n",
    "        file.write(\"%i\\n\" % degree)\n",
    "        \n",
    "file.close()\n",
    "\n",
    "textfile = open(\"../data/fold3/ligands.txt\", \"w\")\n",
    "for element in ligands:\n",
    "    textfile.write(element + \"\\n\")\n",
    "textfile.close()\n",
    "\n",
    "textfile = open(\"../data/fold3/targets.txt\", \"w\")\n",
    "for element in targets:\n",
    "    textfile.write(element + \"\\n\")\n",
    "textfile.close()"
   ]
  },
  {
   "cell_type": "markdown",
   "metadata": {
    "heading_collapsed": true
   },
   "source": [
    "# Randomly assigning SMILEs and Sequences"
   ]
  },
  {
   "cell_type": "code",
   "execution_count": 27,
   "metadata": {
    "hidden": true
   },
   "outputs": [],
   "source": [
    "def swapper(intake_list):\n",
    "    \n",
    "    swap_dict = {}\n",
    "    bag = set(intake_list)\n",
    "    buffer = set()\n",
    "    \n",
    "    for item in set(intake_list):\n",
    "        \n",
    "        if len(bag) > 0:\n",
    "            #selected = bag.pop()\n",
    "            selected = random.choice(list(bag))\n",
    "            bag.remove(selected)\n",
    "        else:\n",
    "            selected = random.choice(list(buffer))\n",
    "            buffer.remove(selected)\n",
    "        \n",
    "        if item != selected:\n",
    "            swap_dict.update({item:selected})\n",
    "        else:\n",
    "            print(f'Same item selected item {item} selected {selected}')\n",
    "            buffer.add(selected)\n",
    "    \n",
    "    assert len(bag) == 0, bag\n",
    "    \n",
    "    return swap_dict\n",
    "            "
   ]
  },
  {
   "cell_type": "code",
   "execution_count": 28,
   "metadata": {
    "hidden": true
   },
   "outputs": [],
   "source": [
    "fake_X_drug_mapping = swapper(list(X_drug))"
   ]
  },
  {
   "cell_type": "code",
   "execution_count": 31,
   "metadata": {
    "hidden": true
   },
   "outputs": [],
   "source": [
    "fake_X_target_mapping = swapper(list(X_target))"
   ]
  },
  {
   "cell_type": "code",
   "execution_count": 32,
   "metadata": {
    "hidden": true
   },
   "outputs": [],
   "source": [
    "correct_dataset = pd.DataFrame({'X_drug': X_drug, 'X_target': X_target, 'y': y})"
   ]
  },
  {
   "cell_type": "code",
   "execution_count": 33,
   "metadata": {
    "hidden": true
   },
   "outputs": [],
   "source": [
    "correct_dataset['fake_X_drug'] = correct_dataset['X_drug'].map(fake_X_drug_mapping)\n",
    "correct_dataset['fake_X_target'] = correct_dataset['X_target'].map(fake_X_target_mapping)"
   ]
  },
  {
   "cell_type": "code",
   "execution_count": 34,
   "metadata": {
    "hidden": true
   },
   "outputs": [
    {
     "name": "stdout",
     "output_type": "stream",
     "text": [
      "Empty DataFrame\n",
      "Columns: [X_drug, X_target, y, fake_X_drug, fake_X_target]\n",
      "Index: []\n",
      "Empty DataFrame\n",
      "Columns: [X_drug, X_target, y, fake_X_drug, fake_X_target]\n",
      "Index: []\n",
      "Empty DataFrame\n",
      "Columns: [X_drug, X_target, y, fake_X_drug, fake_X_target]\n",
      "Index: []\n",
      "Empty DataFrame\n",
      "Columns: [X_drug, X_target, y, fake_X_drug, fake_X_target]\n",
      "Index: []\n",
      "Empty DataFrame\n",
      "Columns: [X_drug, X_target, y, fake_X_drug, fake_X_target]\n",
      "Index: []\n"
     ]
    }
   ],
   "source": [
    "for column in correct_dataset.columns:\n",
    "    print(correct_dataset[correct_dataset[column].isna()])"
   ]
  },
  {
   "cell_type": "code",
   "execution_count": 35,
   "metadata": {
    "hidden": true
   },
   "outputs": [],
   "source": [
    "correct_dataset = correct_dataset[~correct_dataset['fake_X_drug'].isna()]"
   ]
  },
  {
   "cell_type": "code",
   "execution_count": 36,
   "metadata": {
    "hidden": true
   },
   "outputs": [
    {
     "name": "stdout",
     "output_type": "stream",
     "text": [
      "Drug Target Interaction Prediction Mode...\n",
      "in total: 70750 drug-target pairs\n",
      "encoding drug...\n",
      "unique drugs: 13392\n",
      "encoding protein...\n",
      "unique target sequence: 1507\n",
      "splitting dataset...\n",
      "Done.\n"
     ]
    }
   ],
   "source": [
    "drug_encoding = 'Transformer'\n",
    "target_encoding = 'CNN'\n",
    "train_shuffled, val_shuffled, test_shuffled = data_process(list(correct_dataset['fake_X_drug']), \n",
    "                                list(correct_dataset['fake_X_target']), \n",
    "                                y, \n",
    "                                drug_encoding, target_encoding, \n",
    "                                split_method='random',frac=[0.7,0.1,0.2])\n",
    "\n",
    "config = generate_config(drug_encoding = drug_encoding, \n",
    "                         target_encoding = target_encoding, \n",
    "                         cls_hidden_dims = [1024,1024,512], \n",
    "                         train_epoch = 100, \n",
    "                         LR = 0.001, \n",
    "                         batch_size = 128,\n",
    "                         cnn_target_filters = [32,64,96],\n",
    "                         cnn_target_kernels = [4,8,12]\n",
    "                        )"
   ]
  },
  {
   "cell_type": "code",
   "execution_count": 37,
   "metadata": {
    "hidden": true,
    "scrolled": true
   },
   "outputs": [
    {
     "name": "stdout",
     "output_type": "stream",
     "text": [
      "Let's use 4 GPUs!\n",
      "--- Data Preparation ---\n",
      "--- Go for Training ---\n",
      "Training at Epoch 1 iteration 0 with loss 0.69499. Total time 0.00388 hours\n",
      "Training at Epoch 1 iteration 100 with loss 0.38569. Total time 0.01666 hours\n",
      "Training at Epoch 1 iteration 200 with loss 0.34668. Total time 0.03 hours\n",
      "Training at Epoch 1 iteration 300 with loss 0.40793. Total time 0.04666 hours\n",
      "Validation at Epoch 1, AUROC: 0.81325 , AUPRC: 0.53549 , F1: 0.23590 , Cross-entropy Loss: 5.02826\n",
      "Training at Epoch 2 iteration 0 with loss 0.30204. Total time 0.06944 hours\n",
      "Training at Epoch 2 iteration 100 with loss 0.29094. Total time 0.08916 hours\n",
      "Training at Epoch 2 iteration 200 with loss 0.32315. Total time 0.10833 hours\n",
      "Training at Epoch 2 iteration 300 with loss 0.34056. Total time 0.12777 hours\n",
      "Validation at Epoch 2, AUROC: 0.82862 , AUPRC: 0.57482 , F1: 0.23394 , Cross-entropy Loss: 4.89156\n",
      "Training at Epoch 3 iteration 0 with loss 0.42236. Total time 0.15083 hours\n",
      "Training at Epoch 3 iteration 100 with loss 0.25788. Total time 0.17055 hours\n",
      "Training at Epoch 3 iteration 200 with loss 0.34199. Total time 0.18972 hours\n",
      "Training at Epoch 3 iteration 300 with loss 0.30885. Total time 0.20916 hours\n",
      "Validation at Epoch 3, AUROC: 0.82858 , AUPRC: 0.58068 , F1: 0.24048 , Cross-entropy Loss: 4.87204\n",
      "Training at Epoch 4 iteration 0 with loss 0.22823. Total time 0.23166 hours\n",
      "Training at Epoch 4 iteration 100 with loss 0.35561. Total time 0.25111 hours\n",
      "Training at Epoch 4 iteration 200 with loss 0.36279. Total time 0.27027 hours\n",
      "Training at Epoch 4 iteration 300 with loss 0.29554. Total time 0.29 hours\n",
      "Validation at Epoch 4, AUROC: 0.83124 , AUPRC: 0.58776 , F1: 0.45213 , Cross-entropy Loss: 4.63773\n",
      "Training at Epoch 5 iteration 0 with loss 0.32052. Total time 0.31305 hours\n",
      "Training at Epoch 5 iteration 100 with loss 0.31189. Total time 0.33305 hours\n",
      "Training at Epoch 5 iteration 200 with loss 0.36142. Total time 0.35194 hours\n",
      "Training at Epoch 5 iteration 300 with loss 0.36837. Total time 0.37166 hours\n",
      "Validation at Epoch 5, AUROC: 0.83159 , AUPRC: 0.58665 , F1: 0.44394 , Cross-entropy Loss: 4.86718\n",
      "Training at Epoch 6 iteration 0 with loss 0.39398. Total time 0.39444 hours\n",
      "Training at Epoch 6 iteration 100 with loss 0.25192. Total time 0.41388 hours\n",
      "Training at Epoch 6 iteration 200 with loss 0.39163. Total time 0.43305 hours\n",
      "Training at Epoch 6 iteration 300 with loss 0.34961. Total time 0.45222 hours\n",
      "Validation at Epoch 6, AUROC: 0.83413 , AUPRC: 0.59788 , F1: 0.30747 , Cross-entropy Loss: 4.70606\n",
      "Training at Epoch 7 iteration 0 with loss 0.37102. Total time 0.47527 hours\n",
      "Training at Epoch 7 iteration 100 with loss 0.34866. Total time 0.49527 hours\n",
      "Training at Epoch 7 iteration 200 with loss 0.33509. Total time 0.51472 hours\n",
      "Training at Epoch 7 iteration 300 with loss 0.24751. Total time 0.53416 hours\n",
      "Validation at Epoch 7, AUROC: 0.83473 , AUPRC: 0.60907 , F1: 0.34843 , Cross-entropy Loss: 4.56449\n",
      "Training at Epoch 8 iteration 0 with loss 0.35525. Total time 0.55777 hours\n",
      "Training at Epoch 8 iteration 100 with loss 0.31821. Total time 0.57777 hours\n",
      "Training at Epoch 8 iteration 200 with loss 0.29216. Total time 0.59694 hours\n",
      "Training at Epoch 8 iteration 300 with loss 0.34999. Total time 0.61666 hours\n",
      "Validation at Epoch 8, AUROC: 0.84138 , AUPRC: 0.61722 , F1: 0.39764 , Cross-entropy Loss: 4.49615\n",
      "Training at Epoch 9 iteration 0 with loss 0.26574. Total time 0.63944 hours\n",
      "Training at Epoch 9 iteration 100 with loss 0.25382. Total time 0.65916 hours\n",
      "Training at Epoch 9 iteration 200 with loss 0.22307. Total time 0.67861 hours\n",
      "Training at Epoch 9 iteration 300 with loss 0.26614. Total time 0.69805 hours\n",
      "Validation at Epoch 9, AUROC: 0.84020 , AUPRC: 0.61961 , F1: 0.44057 , Cross-entropy Loss: 4.38875\n",
      "Training at Epoch 10 iteration 0 with loss 0.27753. Total time 0.72083 hours\n",
      "Training at Epoch 10 iteration 100 with loss 0.36013. Total time 0.74027 hours\n",
      "Training at Epoch 10 iteration 200 with loss 0.28261. Total time 0.75972 hours\n",
      "Training at Epoch 10 iteration 300 with loss 0.34003. Total time 0.77916 hours\n",
      "Validation at Epoch 10, AUROC: 0.83920 , AUPRC: 0.61407 , F1: 0.36288 , Cross-entropy Loss: 4.52543\n",
      "Training at Epoch 11 iteration 0 with loss 0.31724. Total time 0.80222 hours\n",
      "Training at Epoch 11 iteration 100 with loss 0.27116. Total time 0.82138 hours\n",
      "Training at Epoch 11 iteration 200 with loss 0.35424. Total time 0.84111 hours\n",
      "Training at Epoch 11 iteration 300 with loss 0.27687. Total time 0.86055 hours\n",
      "Validation at Epoch 11, AUROC: 0.83936 , AUPRC: 0.62180 , F1: 0.36975 , Cross-entropy Loss: 4.47661\n",
      "Training at Epoch 12 iteration 0 with loss 0.25286. Total time 0.88388 hours\n",
      "Training at Epoch 12 iteration 100 with loss 0.28588. Total time 0.90361 hours\n",
      "Training at Epoch 12 iteration 200 with loss 0.30141. Total time 0.92277 hours\n",
      "Training at Epoch 12 iteration 300 with loss 0.21402. Total time 0.94194 hours\n",
      "Validation at Epoch 12, AUROC: 0.84316 , AUPRC: 0.61979 , F1: 0.48526 , Cross-entropy Loss: 4.34970\n",
      "Training at Epoch 13 iteration 0 with loss 0.19003. Total time 0.96472 hours\n",
      "Training at Epoch 13 iteration 100 with loss 0.22939. Total time 0.98472 hours\n",
      "Training at Epoch 13 iteration 200 with loss 0.30443. Total time 1.00388 hours\n",
      "Training at Epoch 13 iteration 300 with loss 0.37359. Total time 1.02333 hours\n",
      "Validation at Epoch 13, AUROC: 0.84300 , AUPRC: 0.61679 , F1: 0.46126 , Cross-entropy Loss: 4.44734\n",
      "Training at Epoch 14 iteration 0 with loss 0.32865. Total time 1.04666 hours\n",
      "Training at Epoch 14 iteration 100 with loss 0.26799. Total time 1.06638 hours\n",
      "Training at Epoch 14 iteration 200 with loss 0.39834. Total time 1.08555 hours\n",
      "Training at Epoch 14 iteration 300 with loss 0.25788. Total time 1.10527 hours\n",
      "Validation at Epoch 14, AUROC: 0.83986 , AUPRC: 0.61044 , F1: 0.38794 , Cross-entropy Loss: 4.55961\n",
      "Training at Epoch 15 iteration 0 with loss 0.30977. Total time 1.12833 hours\n",
      "Training at Epoch 15 iteration 100 with loss 0.28902. Total time 1.14805 hours\n",
      "Training at Epoch 15 iteration 200 with loss 0.25514. Total time 1.16722 hours\n",
      "Training at Epoch 15 iteration 300 with loss 0.15651. Total time 1.18666 hours\n",
      "Validation at Epoch 15, AUROC: 0.83820 , AUPRC: 0.61471 , F1: 0.43914 , Cross-entropy Loss: 4.47662\n",
      "Training at Epoch 16 iteration 0 with loss 0.29242. Total time 1.21055 hours\n",
      "Training at Epoch 16 iteration 100 with loss 0.37298. Total time 1.23 hours\n",
      "Training at Epoch 16 iteration 200 with loss 0.33829. Total time 1.24944 hours\n",
      "Training at Epoch 16 iteration 300 with loss 0.29224. Total time 1.26916 hours\n",
      "Validation at Epoch 16, AUROC: 0.83752 , AUPRC: 0.61910 , F1: 0.45931 , Cross-entropy Loss: 4.37899\n",
      "Training at Epoch 17 iteration 0 with loss 0.33359. Total time 1.29222 hours\n",
      "Training at Epoch 17 iteration 100 with loss 0.30272. Total time 1.31166 hours\n",
      "Training at Epoch 17 iteration 200 with loss 0.23953. Total time 1.33111 hours\n",
      "Training at Epoch 17 iteration 300 with loss 0.27210. Total time 1.35027 hours\n",
      "Validation at Epoch 17, AUROC: 0.84110 , AUPRC: 0.62008 , F1: 0.47497 , Cross-entropy Loss: 4.40340\n",
      "Training at Epoch 18 iteration 0 with loss 0.31856. Total time 1.37388 hours\n",
      "Training at Epoch 18 iteration 100 with loss 0.25882. Total time 1.39333 hours\n",
      "Training at Epoch 18 iteration 200 with loss 0.40007. Total time 1.41305 hours\n",
      "Training at Epoch 18 iteration 300 with loss 0.30415. Total time 1.43277 hours\n",
      "Validation at Epoch 18, AUROC: 0.83693 , AUPRC: 0.60988 , F1: 0.48425 , Cross-entropy Loss: 4.39852\n",
      "Training at Epoch 19 iteration 0 with loss 0.22497. Total time 1.45611 hours\n",
      "Training at Epoch 19 iteration 100 with loss 0.34872. Total time 1.47583 hours\n",
      "Training at Epoch 19 iteration 200 with loss 0.22844. Total time 1.495 hours\n",
      "Training at Epoch 19 iteration 300 with loss 0.28033. Total time 1.51444 hours\n",
      "Validation at Epoch 19, AUROC: 0.83913 , AUPRC: 0.61664 , F1: 0.45114 , Cross-entropy Loss: 4.44245\n",
      "Training at Epoch 20 iteration 0 with loss 0.23901. Total time 1.53805 hours\n",
      "Training at Epoch 20 iteration 100 with loss 0.24216. Total time 1.55777 hours\n",
      "Training at Epoch 20 iteration 200 with loss 0.30956. Total time 1.57666 hours\n",
      "Training at Epoch 20 iteration 300 with loss 0.17966. Total time 1.59583 hours\n",
      "Validation at Epoch 20, AUROC: 0.84107 , AUPRC: 0.61910 , F1: 0.47121 , Cross-entropy Loss: 4.39364\n",
      "Training at Epoch 21 iteration 0 with loss 0.29615. Total time 1.61972 hours\n",
      "Training at Epoch 21 iteration 100 with loss 0.25315. Total time 1.63916 hours\n",
      "Training at Epoch 21 iteration 200 with loss 0.27521. Total time 1.65861 hours\n",
      "Training at Epoch 21 iteration 300 with loss 0.37504. Total time 1.67805 hours\n",
      "Validation at Epoch 21, AUROC: 0.84370 , AUPRC: 0.62167 , F1: 0.47574 , Cross-entropy Loss: 4.37899\n",
      "Training at Epoch 22 iteration 0 with loss 0.35252. Total time 1.70166 hours\n",
      "Training at Epoch 22 iteration 100 with loss 0.26070. Total time 1.72138 hours\n",
      "Training at Epoch 22 iteration 200 with loss 0.22939. Total time 1.74083 hours\n",
      "Training at Epoch 22 iteration 300 with loss 0.36452. Total time 1.76 hours\n",
      "Validation at Epoch 22, AUROC: 0.84310 , AUPRC: 0.62180 , F1: 0.48664 , Cross-entropy Loss: 4.40829\n",
      "Training at Epoch 23 iteration 0 with loss 0.39245. Total time 1.78361 hours\n",
      "Training at Epoch 23 iteration 100 with loss 0.28805. Total time 1.80305 hours\n",
      "Training at Epoch 23 iteration 200 with loss 0.25625. Total time 1.8225 hours\n",
      "Training at Epoch 23 iteration 300 with loss 0.22817. Total time 1.84138 hours\n",
      "Validation at Epoch 23, AUROC: 0.83822 , AUPRC: 0.61222 , F1: 0.45979 , Cross-entropy Loss: 4.42781\n",
      "Training at Epoch 24 iteration 0 with loss 0.28187. Total time 1.865 hours\n",
      "Training at Epoch 24 iteration 100 with loss 0.27883. Total time 1.88472 hours\n",
      "Training at Epoch 24 iteration 200 with loss 0.31932. Total time 1.90388 hours\n",
      "Training at Epoch 24 iteration 300 with loss 0.27679. Total time 1.92333 hours\n",
      "Validation at Epoch 24, AUROC: 0.83965 , AUPRC: 0.61435 , F1: 0.48064 , Cross-entropy Loss: 4.38876\n",
      "Training at Epoch 25 iteration 0 with loss 0.32180. Total time 1.94638 hours\n",
      "Training at Epoch 25 iteration 100 with loss 0.22123. Total time 1.96611 hours\n",
      "Training at Epoch 25 iteration 200 with loss 0.31255. Total time 1.98527 hours\n",
      "Training at Epoch 25 iteration 300 with loss 0.43832. Total time 2.005 hours\n",
      "Validation at Epoch 25, AUROC: 0.84067 , AUPRC: 0.60666 , F1: 0.41331 , Cross-entropy Loss: 4.55961\n",
      "Training at Epoch 26 iteration 0 with loss 0.38690. Total time 2.02888 hours\n",
      "Training at Epoch 26 iteration 100 with loss 0.27182. Total time 2.04833 hours\n",
      "Training at Epoch 26 iteration 200 with loss 0.25547. Total time 2.06722 hours\n",
      "Training at Epoch 26 iteration 300 with loss 0.34725. Total time 2.08694 hours\n",
      "Validation at Epoch 26, AUROC: 0.84049 , AUPRC: 0.61774 , F1: 0.48235 , Cross-entropy Loss: 4.36923\n",
      "Training at Epoch 27 iteration 0 with loss 0.38756. Total time 2.11027 hours\n",
      "Training at Epoch 27 iteration 100 with loss 0.27281. Total time 2.12972 hours\n",
      "Training at Epoch 27 iteration 200 with loss 0.29294. Total time 2.14972 hours\n",
      "Training at Epoch 27 iteration 300 with loss 0.34073. Total time 2.16888 hours\n",
      "Validation at Epoch 27, AUROC: 0.84005 , AUPRC: 0.61290 , F1: 0.44403 , Cross-entropy Loss: 4.46198\n",
      "Training at Epoch 28 iteration 0 with loss 0.22647. Total time 2.1925 hours\n",
      "Training at Epoch 28 iteration 100 with loss 0.34021. Total time 2.21194 hours\n",
      "Training at Epoch 28 iteration 200 with loss 0.23782. Total time 2.23111 hours\n",
      "Training at Epoch 28 iteration 300 with loss 0.34824. Total time 2.25055 hours\n",
      "Validation at Epoch 28, AUROC: 0.84236 , AUPRC: 0.61985 , F1: 0.49436 , Cross-entropy Loss: 4.38388\n",
      "Training at Epoch 29 iteration 0 with loss 0.27871. Total time 2.27416 hours\n",
      "Training at Epoch 29 iteration 100 with loss 0.21834. Total time 2.29416 hours\n",
      "Training at Epoch 29 iteration 200 with loss 0.28235. Total time 2.31333 hours\n",
      "Training at Epoch 29 iteration 300 with loss 0.28942. Total time 2.33277 hours\n",
      "Validation at Epoch 29, AUROC: 0.84487 , AUPRC: 0.62337 , F1: 0.48893 , Cross-entropy Loss: 4.39852\n",
      "Training at Epoch 30 iteration 0 with loss 0.26096. Total time 2.35611 hours\n",
      "Training at Epoch 30 iteration 100 with loss 0.34312. Total time 2.37583 hours\n",
      "Training at Epoch 30 iteration 200 with loss 0.24649. Total time 2.395 hours\n",
      "Training at Epoch 30 iteration 300 with loss 0.32972. Total time 2.41416 hours\n",
      "Validation at Epoch 30, AUROC: 0.84369 , AUPRC: 0.62115 , F1: 0.41441 , Cross-entropy Loss: 4.44245\n",
      "Training at Epoch 31 iteration 0 with loss 0.29607. Total time 2.43777 hours\n",
      "Training at Epoch 31 iteration 100 with loss 0.26933. Total time 2.45777 hours\n",
      "Training at Epoch 31 iteration 200 with loss 0.24299. Total time 2.47694 hours\n",
      "Training at Epoch 31 iteration 300 with loss 0.29949. Total time 2.49666 hours\n",
      "Validation at Epoch 31, AUROC: 0.84185 , AUPRC: 0.62204 , F1: 0.37669 , Cross-entropy Loss: 4.49126\n",
      "Training at Epoch 32 iteration 0 with loss 0.30068. Total time 2.52 hours\n",
      "Training at Epoch 32 iteration 100 with loss 0.29141. Total time 2.53972 hours\n",
      "Training at Epoch 32 iteration 200 with loss 0.31678. Total time 2.55888 hours\n",
      "Training at Epoch 32 iteration 300 with loss 0.29308. Total time 2.57833 hours\n",
      "Validation at Epoch 32, AUROC: 0.84070 , AUPRC: 0.62169 , F1: 0.39043 , Cross-entropy Loss: 4.48150\n",
      "Training at Epoch 33 iteration 0 with loss 0.25570. Total time 2.60194 hours\n",
      "Training at Epoch 33 iteration 100 with loss 0.25718. Total time 2.62138 hours\n",
      "Training at Epoch 33 iteration 200 with loss 0.34557. Total time 2.64083 hours\n",
      "Training at Epoch 33 iteration 300 with loss 0.24813. Total time 2.66 hours\n",
      "Validation at Epoch 33, AUROC: 0.83771 , AUPRC: 0.60744 , F1: 0.51489 , Cross-entropy Loss: 4.45223\n",
      "Training at Epoch 34 iteration 0 with loss 0.31105. Total time 2.68361 hours\n",
      "Training at Epoch 34 iteration 100 with loss 0.24827. Total time 2.70333 hours\n",
      "Training at Epoch 34 iteration 200 with loss 0.29994. Total time 2.7225 hours\n",
      "Training at Epoch 34 iteration 300 with loss 0.35960. Total time 2.74166 hours\n",
      "Validation at Epoch 34, AUROC: 0.84235 , AUPRC: 0.61789 , F1: 0.35734 , Cross-entropy Loss: 4.53031\n",
      "Training at Epoch 35 iteration 0 with loss 0.25049. Total time 2.76527 hours\n",
      "Training at Epoch 35 iteration 100 with loss 0.38893. Total time 2.78527 hours\n",
      "Training at Epoch 35 iteration 200 with loss 0.32418. Total time 2.80416 hours\n",
      "Training at Epoch 35 iteration 300 with loss 0.29472. Total time 2.82361 hours\n",
      "Validation at Epoch 35, AUROC: 0.83939 , AUPRC: 0.61411 , F1: 0.45266 , Cross-entropy Loss: 4.40340\n",
      "Training at Epoch 36 iteration 0 with loss 0.32057. Total time 2.84722 hours\n",
      "Training at Epoch 36 iteration 100 with loss 0.27381. Total time 2.86666 hours\n",
      "Training at Epoch 36 iteration 200 with loss 0.22686. Total time 2.88555 hours\n",
      "Training at Epoch 36 iteration 300 with loss 0.27396. Total time 2.90444 hours\n",
      "Validation at Epoch 36, AUROC: 0.84219 , AUPRC: 0.61941 , F1: 0.45493 , Cross-entropy Loss: 4.39852\n",
      "Training at Epoch 37 iteration 0 with loss 0.33460. Total time 2.92777 hours\n",
      "Training at Epoch 37 iteration 100 with loss 0.33322. Total time 2.9475 hours\n",
      "Training at Epoch 37 iteration 200 with loss 0.28110. Total time 2.96666 hours\n",
      "Training at Epoch 37 iteration 300 with loss 0.38883. Total time 2.98638 hours\n",
      "Validation at Epoch 37, AUROC: 0.83993 , AUPRC: 0.60917 , F1: 0.49665 , Cross-entropy Loss: 4.41317\n",
      "Training at Epoch 38 iteration 0 with loss 0.35234. Total time 3.01027 hours\n",
      "Training at Epoch 38 iteration 100 with loss 0.35577. Total time 3.03 hours\n",
      "Training at Epoch 38 iteration 200 with loss 0.26944. Total time 3.04944 hours\n",
      "Training at Epoch 38 iteration 300 with loss 0.27236. Total time 3.06888 hours\n",
      "Validation at Epoch 38, AUROC: 0.84148 , AUPRC: 0.61977 , F1: 0.41085 , Cross-entropy Loss: 4.45221\n",
      "Training at Epoch 39 iteration 0 with loss 0.24124. Total time 3.0925 hours\n",
      "Training at Epoch 39 iteration 100 with loss 0.21870. Total time 3.11222 hours\n",
      "Training at Epoch 39 iteration 200 with loss 0.33770. Total time 3.13166 hours\n",
      "Training at Epoch 39 iteration 300 with loss 0.26192. Total time 3.15111 hours\n",
      "Validation at Epoch 39, AUROC: 0.84111 , AUPRC: 0.62328 , F1: 0.44347 , Cross-entropy Loss: 4.34969\n",
      "Training at Epoch 40 iteration 0 with loss 0.33560. Total time 3.175 hours\n",
      "Training at Epoch 40 iteration 100 with loss 0.24595. Total time 3.19472 hours\n",
      "Training at Epoch 40 iteration 200 with loss 0.17997. Total time 3.21416 hours\n",
      "Training at Epoch 40 iteration 300 with loss 0.26415. Total time 3.23361 hours\n",
      "Validation at Epoch 40, AUROC: 0.84203 , AUPRC: 0.62379 , F1: 0.42424 , Cross-entropy Loss: 4.35946\n",
      "Training at Epoch 41 iteration 0 with loss 0.23171. Total time 3.2575 hours\n",
      "Training at Epoch 41 iteration 100 with loss 0.29818. Total time 3.27722 hours\n",
      "Training at Epoch 41 iteration 200 with loss 0.21838. Total time 3.29638 hours\n",
      "Training at Epoch 41 iteration 300 with loss 0.29329. Total time 3.31527 hours\n",
      "Validation at Epoch 41, AUROC: 0.84214 , AUPRC: 0.61755 , F1: 0.39658 , Cross-entropy Loss: 4.48638\n",
      "Training at Epoch 42 iteration 0 with loss 0.35757. Total time 3.33861 hours\n",
      "Training at Epoch 42 iteration 100 with loss 0.24197. Total time 3.35833 hours\n",
      "Training at Epoch 42 iteration 200 with loss 0.27633. Total time 3.37722 hours\n",
      "Training at Epoch 42 iteration 300 with loss 0.30290. Total time 3.39666 hours\n",
      "Validation at Epoch 42, AUROC: 0.84129 , AUPRC: 0.62172 , F1: 0.41009 , Cross-entropy Loss: 4.45221\n",
      "Training at Epoch 43 iteration 0 with loss 0.28645. Total time 3.42 hours\n",
      "Training at Epoch 43 iteration 100 with loss 0.28237. Total time 3.43916 hours\n",
      "Training at Epoch 43 iteration 200 with loss 0.47032. Total time 3.45888 hours\n",
      "Training at Epoch 43 iteration 300 with loss 0.26091. Total time 3.47805 hours\n",
      "Validation at Epoch 43, AUROC: 0.84152 , AUPRC: 0.61922 , F1: 0.48429 , Cross-entropy Loss: 4.40829\n",
      "Training at Epoch 44 iteration 0 with loss 0.29369. Total time 3.50194 hours\n",
      "Training at Epoch 44 iteration 100 with loss 0.27170. Total time 3.52166 hours\n",
      "Training at Epoch 44 iteration 200 with loss 0.32644. Total time 3.54083 hours\n",
      "Training at Epoch 44 iteration 300 with loss 0.28585. Total time 3.56 hours\n",
      "Validation at Epoch 44, AUROC: 0.84419 , AUPRC: 0.62020 , F1: 0.46891 , Cross-entropy Loss: 4.37899\n",
      "Training at Epoch 45 iteration 0 with loss 0.36396. Total time 3.58361 hours\n",
      "Training at Epoch 45 iteration 100 with loss 0.27756. Total time 3.60388 hours\n",
      "Training at Epoch 45 iteration 200 with loss 0.20916. Total time 3.62333 hours\n",
      "Training at Epoch 45 iteration 300 with loss 0.24044. Total time 3.64277 hours\n",
      "Validation at Epoch 45, AUROC: 0.84263 , AUPRC: 0.62324 , F1: 0.49283 , Cross-entropy Loss: 4.32041\n",
      "Training at Epoch 46 iteration 0 with loss 0.27630. Total time 3.66638 hours\n",
      "Training at Epoch 46 iteration 100 with loss 0.25416. Total time 3.68583 hours\n",
      "Training at Epoch 46 iteration 200 with loss 0.33730. Total time 3.70527 hours\n",
      "Training at Epoch 46 iteration 300 with loss 0.35276. Total time 3.72472 hours\n",
      "Validation at Epoch 46, AUROC: 0.84251 , AUPRC: 0.61935 , F1: 0.49318 , Cross-entropy Loss: 4.35459\n",
      "Training at Epoch 47 iteration 0 with loss 0.18134. Total time 3.74861 hours\n",
      "Training at Epoch 47 iteration 100 with loss 0.24852. Total time 3.76833 hours\n",
      "Training at Epoch 47 iteration 200 with loss 0.25554. Total time 3.7875 hours\n",
      "Training at Epoch 47 iteration 300 with loss 0.26204. Total time 3.80694 hours\n",
      "Validation at Epoch 47, AUROC: 0.84340 , AUPRC: 0.62250 , F1: 0.41714 , Cross-entropy Loss: 4.44733\n",
      "Training at Epoch 48 iteration 0 with loss 0.26704. Total time 3.83055 hours\n",
      "Training at Epoch 48 iteration 100 with loss 0.25991. Total time 3.85027 hours\n",
      "Training at Epoch 48 iteration 200 with loss 0.20575. Total time 3.86944 hours\n",
      "Training at Epoch 48 iteration 300 with loss 0.25312. Total time 3.88888 hours\n",
      "Validation at Epoch 48, AUROC: 0.84409 , AUPRC: 0.62417 , F1: 0.53192 , Cross-entropy Loss: 4.33018\n",
      "Training at Epoch 49 iteration 0 with loss 0.18512. Total time 3.91222 hours\n",
      "Training at Epoch 49 iteration 100 with loss 0.25154. Total time 3.93222 hours\n",
      "Training at Epoch 49 iteration 200 with loss 0.34626. Total time 3.95138 hours\n",
      "Training at Epoch 49 iteration 300 with loss 0.24751. Total time 3.97111 hours\n",
      "Validation at Epoch 49, AUROC: 0.84149 , AUPRC: 0.61817 , F1: 0.44647 , Cross-entropy Loss: 4.44245\n",
      "Training at Epoch 50 iteration 0 with loss 0.28816. Total time 3.99472 hours\n",
      "Training at Epoch 50 iteration 100 with loss 0.34980. Total time 4.01388 hours\n",
      "Training at Epoch 50 iteration 200 with loss 0.23341. Total time 4.03333 hours\n",
      "Training at Epoch 50 iteration 300 with loss 0.19663. Total time 4.05277 hours\n",
      "Validation at Epoch 50, AUROC: 0.84252 , AUPRC: 0.61997 , F1: 0.46693 , Cross-entropy Loss: 4.44734\n",
      "Training at Epoch 51 iteration 0 with loss 0.32165. Total time 4.07611 hours\n",
      "Training at Epoch 51 iteration 100 with loss 0.27465. Total time 4.09555 hours\n",
      "Training at Epoch 51 iteration 200 with loss 0.29006. Total time 4.11472 hours\n",
      "Training at Epoch 51 iteration 300 with loss 0.25726. Total time 4.13416 hours\n",
      "Validation at Epoch 51, AUROC: 0.84002 , AUPRC: 0.61229 , F1: 0.49916 , Cross-entropy Loss: 4.39852\n",
      "Training at Epoch 52 iteration 0 with loss 0.28485. Total time 4.15777 hours\n",
      "Training at Epoch 52 iteration 100 with loss 0.31439. Total time 4.17722 hours\n",
      "Training at Epoch 52 iteration 200 with loss 0.27066. Total time 4.19638 hours\n",
      "Training at Epoch 52 iteration 300 with loss 0.32912. Total time 4.21583 hours\n",
      "Validation at Epoch 52, AUROC: 0.84466 , AUPRC: 0.62267 , F1: 0.44863 , Cross-entropy Loss: 4.42781\n",
      "Training at Epoch 53 iteration 0 with loss 0.30828. Total time 4.23916 hours\n",
      "Training at Epoch 53 iteration 100 with loss 0.37946. Total time 4.25916 hours\n",
      "Training at Epoch 53 iteration 200 with loss 0.20618. Total time 4.27833 hours\n",
      "Training at Epoch 53 iteration 300 with loss 0.33664. Total time 4.29777 hours\n",
      "Validation at Epoch 53, AUROC: 0.84518 , AUPRC: 0.62514 , F1: 0.46821 , Cross-entropy Loss: 4.36923\n",
      "Training at Epoch 54 iteration 0 with loss 0.26396. Total time 4.32111 hours\n",
      "Training at Epoch 54 iteration 100 with loss 0.20524. Total time 4.34083 hours\n",
      "Training at Epoch 54 iteration 200 with loss 0.23121. Total time 4.36 hours\n",
      "Training at Epoch 54 iteration 300 with loss 0.33784. Total time 4.37944 hours\n",
      "Validation at Epoch 54, AUROC: 0.84312 , AUPRC: 0.62125 , F1: 0.48275 , Cross-entropy Loss: 4.39364\n",
      "Training at Epoch 55 iteration 0 with loss 0.37804. Total time 4.40361 hours\n",
      "Training at Epoch 55 iteration 100 with loss 0.28257. Total time 4.42277 hours\n",
      "Training at Epoch 55 iteration 200 with loss 0.32442. Total time 4.44222 hours\n",
      "Training at Epoch 55 iteration 300 with loss 0.31368. Total time 4.46194 hours\n",
      "Validation at Epoch 55, AUROC: 0.84328 , AUPRC: 0.62248 , F1: 0.45997 , Cross-entropy Loss: 4.41316\n",
      "Training at Epoch 56 iteration 0 with loss 0.36152. Total time 4.48527 hours\n",
      "Training at Epoch 56 iteration 100 with loss 0.24397. Total time 4.50472 hours\n",
      "Training at Epoch 56 iteration 200 with loss 0.39025. Total time 4.52416 hours\n",
      "Training at Epoch 56 iteration 300 with loss 0.26387. Total time 4.54361 hours\n",
      "Validation at Epoch 56, AUROC: 0.84200 , AUPRC: 0.62317 , F1: 0.46876 , Cross-entropy Loss: 4.35946\n",
      "Training at Epoch 57 iteration 0 with loss 0.26994. Total time 4.56722 hours\n",
      "Training at Epoch 57 iteration 100 with loss 0.32665. Total time 4.58666 hours\n",
      "Training at Epoch 57 iteration 200 with loss 0.25034. Total time 4.60583 hours\n",
      "Training at Epoch 57 iteration 300 with loss 0.37519. Total time 4.62583 hours\n",
      "Validation at Epoch 57, AUROC: 0.80483 , AUPRC: 0.57685 , F1: 0.46254 , Cross-entropy Loss: 4.41316\n",
      "Training at Epoch 58 iteration 0 with loss 0.24429. Total time 4.64916 hours\n",
      "Training at Epoch 58 iteration 100 with loss 0.32483. Total time 4.66888 hours\n",
      "Training at Epoch 58 iteration 200 with loss 0.24182. Total time 4.68861 hours\n",
      "Training at Epoch 58 iteration 300 with loss 0.22855. Total time 4.70777 hours\n",
      "Validation at Epoch 58, AUROC: 0.84105 , AUPRC: 0.61872 , F1: 0.48921 , Cross-entropy Loss: 4.39364\n",
      "Training at Epoch 59 iteration 0 with loss 0.23601. Total time 4.73166 hours\n",
      "Training at Epoch 59 iteration 100 with loss 0.36814. Total time 4.75138 hours\n",
      "Training at Epoch 59 iteration 200 with loss 0.28718. Total time 4.77055 hours\n",
      "Training at Epoch 59 iteration 300 with loss 0.23917. Total time 4.79027 hours\n",
      "Validation at Epoch 59, AUROC: 0.83894 , AUPRC: 0.61922 , F1: 0.48403 , Cross-entropy Loss: 4.33994\n",
      "Training at Epoch 60 iteration 0 with loss 0.30807. Total time 4.81388 hours\n",
      "Training at Epoch 60 iteration 100 with loss 0.32493. Total time 4.83361 hours\n",
      "Training at Epoch 60 iteration 200 with loss 0.27630. Total time 4.85277 hours\n",
      "Training at Epoch 60 iteration 300 with loss 0.34139. Total time 4.8725 hours\n",
      "Validation at Epoch 60, AUROC: 0.84135 , AUPRC: 0.61961 , F1: 0.49000 , Cross-entropy Loss: 4.35947\n",
      "Training at Epoch 61 iteration 0 with loss 0.29215. Total time 4.89611 hours\n",
      "Training at Epoch 61 iteration 100 with loss 0.27881. Total time 4.91555 hours\n",
      "Training at Epoch 61 iteration 200 with loss 0.29891. Total time 4.935 hours\n",
      "Training at Epoch 61 iteration 300 with loss 0.36376. Total time 4.95444 hours\n",
      "Validation at Epoch 61, AUROC: 0.84136 , AUPRC: 0.62052 , F1: 0.49972 , Cross-entropy Loss: 4.39852\n",
      "Training at Epoch 62 iteration 0 with loss 0.39769. Total time 4.97805 hours\n",
      "Training at Epoch 62 iteration 100 with loss 0.21638. Total time 4.99722 hours\n",
      "Training at Epoch 62 iteration 200 with loss 0.22529. Total time 5.01611 hours\n",
      "Training at Epoch 62 iteration 300 with loss 0.34145. Total time 5.03611 hours\n",
      "Validation at Epoch 62, AUROC: 0.84225 , AUPRC: 0.62480 , F1: 0.47086 , Cross-entropy Loss: 4.38875\n",
      "Training at Epoch 63 iteration 0 with loss 0.35344. Total time 5.06 hours\n",
      "Training at Epoch 63 iteration 100 with loss 0.30152. Total time 5.07944 hours\n",
      "Training at Epoch 63 iteration 200 with loss 0.38943. Total time 5.09861 hours\n",
      "Training at Epoch 63 iteration 300 with loss 0.28857. Total time 5.11833 hours\n",
      "Validation at Epoch 63, AUROC: 0.84526 , AUPRC: 0.62454 , F1: 0.49431 , Cross-entropy Loss: 4.34482\n",
      "Training at Epoch 64 iteration 0 with loss 0.31569. Total time 5.14222 hours\n",
      "Training at Epoch 64 iteration 100 with loss 0.26939. Total time 5.16166 hours\n",
      "Training at Epoch 64 iteration 200 with loss 0.29933. Total time 5.18055 hours\n",
      "Training at Epoch 64 iteration 300 with loss 0.28957. Total time 5.20055 hours\n",
      "Validation at Epoch 64, AUROC: 0.84494 , AUPRC: 0.62448 , F1: 0.46080 , Cross-entropy Loss: 4.39852\n",
      "Training at Epoch 65 iteration 0 with loss 0.31515. Total time 5.22388 hours\n",
      "Training at Epoch 65 iteration 100 with loss 0.24215. Total time 5.24361 hours\n",
      "Training at Epoch 65 iteration 200 with loss 0.22906. Total time 5.26305 hours\n",
      "Training at Epoch 65 iteration 300 with loss 0.28518. Total time 5.28277 hours\n",
      "Validation at Epoch 65, AUROC: 0.84335 , AUPRC: 0.62411 , F1: 0.47949 , Cross-entropy Loss: 4.39852\n",
      "Training at Epoch 66 iteration 0 with loss 0.19503. Total time 5.30611 hours\n",
      "Training at Epoch 66 iteration 100 with loss 0.31580. Total time 5.32555 hours\n",
      "Training at Epoch 66 iteration 200 with loss 0.38292. Total time 5.34472 hours\n",
      "Training at Epoch 66 iteration 300 with loss 0.25108. Total time 5.36444 hours\n",
      "Validation at Epoch 66, AUROC: 0.84231 , AUPRC: 0.61807 , F1: 0.46489 , Cross-entropy Loss: 4.42781\n",
      "Training at Epoch 67 iteration 0 with loss 0.37929. Total time 5.38805 hours\n",
      "Training at Epoch 67 iteration 100 with loss 0.29761. Total time 5.4075 hours\n",
      "Training at Epoch 67 iteration 200 with loss 0.33510. Total time 5.42638 hours\n",
      "Training at Epoch 67 iteration 300 with loss 0.25339. Total time 5.44583 hours\n",
      "Validation at Epoch 67, AUROC: 0.84298 , AUPRC: 0.62113 , F1: 0.40313 , Cross-entropy Loss: 4.46686\n",
      "Training at Epoch 68 iteration 0 with loss 0.22758. Total time 5.46944 hours\n",
      "Training at Epoch 68 iteration 100 with loss 0.28562. Total time 5.48888 hours\n",
      "Training at Epoch 68 iteration 200 with loss 0.26644. Total time 5.50833 hours\n",
      "Training at Epoch 68 iteration 300 with loss 0.30133. Total time 5.52805 hours\n",
      "Validation at Epoch 68, AUROC: 0.84293 , AUPRC: 0.61903 , F1: 0.48124 , Cross-entropy Loss: 4.38876\n",
      "Training at Epoch 69 iteration 0 with loss 0.30032. Total time 5.55194 hours\n",
      "Training at Epoch 69 iteration 100 with loss 0.30788. Total time 5.57138 hours\n",
      "Training at Epoch 69 iteration 200 with loss 0.35300. Total time 5.59027 hours\n",
      "Training at Epoch 69 iteration 300 with loss 0.32223. Total time 5.61 hours\n",
      "Validation at Epoch 69, AUROC: 0.84301 , AUPRC: 0.62474 , F1: 0.48488 , Cross-entropy Loss: 4.32529\n",
      "Training at Epoch 70 iteration 0 with loss 0.25617. Total time 5.63416 hours\n",
      "Training at Epoch 70 iteration 100 with loss 0.25783. Total time 5.65361 hours\n",
      "Training at Epoch 70 iteration 200 with loss 0.33140. Total time 5.67277 hours\n",
      "Training at Epoch 70 iteration 300 with loss 0.32997. Total time 5.6925 hours\n",
      "Validation at Epoch 70, AUROC: 0.84304 , AUPRC: 0.62235 , F1: 0.42748 , Cross-entropy Loss: 4.39363\n",
      "Training at Epoch 71 iteration 0 with loss 0.39229. Total time 5.71638 hours\n",
      "Training at Epoch 71 iteration 100 with loss 0.35445. Total time 5.73611 hours\n",
      "Training at Epoch 71 iteration 200 with loss 0.21387. Total time 5.75527 hours\n",
      "Training at Epoch 71 iteration 300 with loss 0.23064. Total time 5.775 hours\n",
      "Validation at Epoch 71, AUROC: 0.84014 , AUPRC: 0.61808 , F1: 0.49584 , Cross-entropy Loss: 4.43758\n",
      "Training at Epoch 72 iteration 0 with loss 0.30513. Total time 5.79888 hours\n",
      "Training at Epoch 72 iteration 100 with loss 0.27052. Total time 5.81833 hours\n",
      "Training at Epoch 72 iteration 200 with loss 0.34318. Total time 5.83777 hours\n",
      "Training at Epoch 72 iteration 300 with loss 0.27102. Total time 5.85694 hours\n",
      "Validation at Epoch 72, AUROC: 0.84314 , AUPRC: 0.62192 , F1: 0.38829 , Cross-entropy Loss: 4.49126\n",
      "Training at Epoch 73 iteration 0 with loss 0.20360. Total time 5.88083 hours\n",
      "Training at Epoch 73 iteration 100 with loss 0.30243. Total time 5.89972 hours\n",
      "Training at Epoch 73 iteration 200 with loss 0.36878. Total time 5.91916 hours\n",
      "Training at Epoch 73 iteration 300 with loss 0.25789. Total time 5.93888 hours\n",
      "Validation at Epoch 73, AUROC: 0.84470 , AUPRC: 0.62381 , F1: 0.48579 , Cross-entropy Loss: 4.33017\n",
      "Training at Epoch 74 iteration 0 with loss 0.34456. Total time 5.96222 hours\n",
      "Training at Epoch 74 iteration 100 with loss 0.26657. Total time 5.98166 hours\n",
      "Training at Epoch 74 iteration 200 with loss 0.29795. Total time 6.00111 hours\n",
      "Training at Epoch 74 iteration 300 with loss 0.26196. Total time 6.02083 hours\n",
      "Validation at Epoch 74, AUROC: 0.83707 , AUPRC: 0.60836 , F1: 0.45628 , Cross-entropy Loss: 4.43269\n",
      "Training at Epoch 75 iteration 0 with loss 0.35027. Total time 6.04444 hours\n",
      "Training at Epoch 75 iteration 100 with loss 0.25078. Total time 6.06388 hours\n",
      "Training at Epoch 75 iteration 200 with loss 0.29093. Total time 6.08277 hours\n",
      "Training at Epoch 75 iteration 300 with loss 0.30158. Total time 6.10222 hours\n",
      "Validation at Epoch 75, AUROC: 0.84234 , AUPRC: 0.61803 , F1: 0.48291 , Cross-entropy Loss: 4.35947\n",
      "Training at Epoch 76 iteration 0 with loss 0.33634. Total time 6.12611 hours\n",
      "Training at Epoch 76 iteration 100 with loss 0.33446. Total time 6.14555 hours\n",
      "Training at Epoch 76 iteration 200 with loss 0.29808. Total time 6.16472 hours\n",
      "Training at Epoch 76 iteration 300 with loss 0.22566. Total time 6.18444 hours\n",
      "Validation at Epoch 76, AUROC: 0.84082 , AUPRC: 0.61750 , F1: 0.44376 , Cross-entropy Loss: 4.44245\n",
      "Training at Epoch 77 iteration 0 with loss 0.29546. Total time 6.20805 hours\n",
      "Training at Epoch 77 iteration 100 with loss 0.29961. Total time 6.22777 hours\n",
      "Training at Epoch 77 iteration 200 with loss 0.34968. Total time 6.24722 hours\n",
      "Training at Epoch 77 iteration 300 with loss 0.25159. Total time 6.26694 hours\n",
      "Validation at Epoch 77, AUROC: 0.83979 , AUPRC: 0.61910 , F1: 0.47591 , Cross-entropy Loss: 4.35458\n",
      "Training at Epoch 78 iteration 0 with loss 0.36815. Total time 6.29027 hours\n",
      "Training at Epoch 78 iteration 100 with loss 0.26824. Total time 6.30944 hours\n",
      "Training at Epoch 78 iteration 200 with loss 0.34711. Total time 6.32861 hours\n",
      "Training at Epoch 78 iteration 300 with loss 0.29996. Total time 6.34805 hours\n",
      "Validation at Epoch 78, AUROC: 0.84316 , AUPRC: 0.62186 , F1: 0.48654 , Cross-entropy Loss: 4.37899\n",
      "Training at Epoch 79 iteration 0 with loss 0.35846. Total time 6.37166 hours\n",
      "Training at Epoch 79 iteration 100 with loss 0.30350. Total time 6.39111 hours\n",
      "Training at Epoch 79 iteration 200 with loss 0.35872. Total time 6.41027 hours\n",
      "Training at Epoch 79 iteration 300 with loss 0.25444. Total time 6.43 hours\n",
      "Validation at Epoch 79, AUROC: 0.84102 , AUPRC: 0.61915 , F1: 0.47127 , Cross-entropy Loss: 4.40340\n",
      "Training at Epoch 80 iteration 0 with loss 0.35198. Total time 6.45416 hours\n",
      "Training at Epoch 80 iteration 100 with loss 0.33066. Total time 6.47333 hours\n",
      "Training at Epoch 80 iteration 200 with loss 0.31671. Total time 6.49277 hours\n",
      "Training at Epoch 80 iteration 300 with loss 0.24027. Total time 6.51222 hours\n",
      "Validation at Epoch 80, AUROC: 0.84338 , AUPRC: 0.62564 , F1: 0.48477 , Cross-entropy Loss: 4.37899\n",
      "Training at Epoch 81 iteration 0 with loss 0.34671. Total time 6.53583 hours\n",
      "Training at Epoch 81 iteration 100 with loss 0.32659. Total time 6.555 hours\n",
      "Training at Epoch 81 iteration 200 with loss 0.34042. Total time 6.57416 hours\n",
      "Training at Epoch 81 iteration 300 with loss 0.23280. Total time 6.59388 hours\n",
      "Validation at Epoch 81, AUROC: 0.84435 , AUPRC: 0.62643 , F1: 0.42420 , Cross-entropy Loss: 4.41316\n",
      "Training at Epoch 82 iteration 0 with loss 0.21985. Total time 6.61777 hours\n",
      "Training at Epoch 82 iteration 100 with loss 0.26520. Total time 6.63638 hours\n",
      "Training at Epoch 82 iteration 200 with loss 0.27325. Total time 6.655 hours\n",
      "Training at Epoch 82 iteration 300 with loss 0.22885. Total time 6.67472 hours\n",
      "Validation at Epoch 82, AUROC: 0.84160 , AUPRC: 0.61356 , F1: 0.39124 , Cross-entropy Loss: 4.48150\n",
      "Training at Epoch 83 iteration 0 with loss 0.22473. Total time 6.69861 hours\n",
      "Training at Epoch 83 iteration 100 with loss 0.42434. Total time 6.71777 hours\n",
      "Training at Epoch 83 iteration 200 with loss 0.31852. Total time 6.73666 hours\n",
      "Training at Epoch 83 iteration 300 with loss 0.35827. Total time 6.75638 hours\n",
      "Validation at Epoch 83, AUROC: 0.84235 , AUPRC: 0.62455 , F1: 0.50139 , Cross-entropy Loss: 4.34970\n",
      "Training at Epoch 84 iteration 0 with loss 0.29441. Total time 6.78 hours\n",
      "Training at Epoch 84 iteration 100 with loss 0.32394. Total time 6.79944 hours\n",
      "Training at Epoch 84 iteration 200 with loss 0.26865. Total time 6.81888 hours\n",
      "Training at Epoch 84 iteration 300 with loss 0.28748. Total time 6.83833 hours\n",
      "Validation at Epoch 84, AUROC: 0.84354 , AUPRC: 0.62095 , F1: 0.53989 , Cross-entropy Loss: 4.33507\n",
      "Training at Epoch 85 iteration 0 with loss 0.20476. Total time 6.86222 hours\n",
      "Training at Epoch 85 iteration 100 with loss 0.30806. Total time 6.88138 hours\n",
      "Training at Epoch 85 iteration 200 with loss 0.34936. Total time 6.90055 hours\n",
      "Training at Epoch 85 iteration 300 with loss 0.36561. Total time 6.92027 hours\n",
      "Validation at Epoch 85, AUROC: 0.84233 , AUPRC: 0.61140 , F1: 0.49114 , Cross-entropy Loss: 4.34970\n",
      "Training at Epoch 86 iteration 0 with loss 0.29528. Total time 6.94416 hours\n",
      "Training at Epoch 86 iteration 100 with loss 0.28703. Total time 6.96333 hours\n",
      "Training at Epoch 86 iteration 200 with loss 0.21710. Total time 6.9825 hours\n",
      "Training at Epoch 86 iteration 300 with loss 0.23130. Total time 7.00222 hours\n",
      "Validation at Epoch 86, AUROC: 0.84477 , AUPRC: 0.62223 , F1: 0.41388 , Cross-entropy Loss: 4.45221\n",
      "Training at Epoch 87 iteration 0 with loss 0.23106. Total time 7.02583 hours\n",
      "Training at Epoch 87 iteration 100 with loss 0.29424. Total time 7.04472 hours\n",
      "Training at Epoch 87 iteration 200 with loss 0.30716. Total time 7.06388 hours\n",
      "Training at Epoch 87 iteration 300 with loss 0.26003. Total time 7.08388 hours\n",
      "Validation at Epoch 87, AUROC: 0.84298 , AUPRC: 0.62620 , F1: 0.53091 , Cross-entropy Loss: 4.29601\n",
      "Training at Epoch 88 iteration 0 with loss 0.30775. Total time 7.10777 hours\n",
      "Training at Epoch 88 iteration 100 with loss 0.35344. Total time 7.12666 hours\n",
      "Training at Epoch 88 iteration 200 with loss 0.29947. Total time 7.14555 hours\n",
      "Training at Epoch 88 iteration 300 with loss 0.28792. Total time 7.16527 hours\n",
      "Validation at Epoch 88, AUROC: 0.84164 , AUPRC: 0.62314 , F1: 0.39072 , Cross-entropy Loss: 4.49126\n",
      "Training at Epoch 89 iteration 0 with loss 0.34953. Total time 7.18916 hours\n",
      "Training at Epoch 89 iteration 100 with loss 0.31105. Total time 7.20833 hours\n",
      "Training at Epoch 89 iteration 200 with loss 0.40337. Total time 7.22805 hours\n",
      "Training at Epoch 89 iteration 300 with loss 0.32730. Total time 7.24777 hours\n",
      "Validation at Epoch 89, AUROC: 0.84202 , AUPRC: 0.62060 , F1: 0.49206 , Cross-entropy Loss: 4.37411\n",
      "Training at Epoch 90 iteration 0 with loss 0.30309. Total time 7.27194 hours\n",
      "Training at Epoch 90 iteration 100 with loss 0.30597. Total time 7.29083 hours\n",
      "Training at Epoch 90 iteration 200 with loss 0.27567. Total time 7.31027 hours\n",
      "Training at Epoch 90 iteration 300 with loss 0.33914. Total time 7.33 hours\n",
      "Validation at Epoch 90, AUROC: 0.84237 , AUPRC: 0.62348 , F1: 0.49178 , Cross-entropy Loss: 4.37899\n",
      "Training at Epoch 91 iteration 0 with loss 0.24596. Total time 7.35388 hours\n",
      "Training at Epoch 91 iteration 100 with loss 0.32191. Total time 7.37277 hours\n",
      "Training at Epoch 91 iteration 200 with loss 0.28227. Total time 7.39222 hours\n",
      "Training at Epoch 91 iteration 300 with loss 0.30388. Total time 7.41222 hours\n",
      "Validation at Epoch 91, AUROC: 0.84254 , AUPRC: 0.62317 , F1: 0.50362 , Cross-entropy Loss: 4.33994\n",
      "Training at Epoch 92 iteration 0 with loss 0.26490. Total time 7.43611 hours\n",
      "Training at Epoch 92 iteration 100 with loss 0.32384. Total time 7.455 hours\n",
      "Training at Epoch 92 iteration 200 with loss 0.31897. Total time 7.47444 hours\n",
      "Training at Epoch 92 iteration 300 with loss 0.20049. Total time 7.49388 hours\n",
      "Validation at Epoch 92, AUROC: 0.84520 , AUPRC: 0.62417 , F1: 0.48180 , Cross-entropy Loss: 4.37899\n",
      "Training at Epoch 93 iteration 0 with loss 0.30088. Total time 7.5175 hours\n",
      "Training at Epoch 93 iteration 100 with loss 0.27107. Total time 7.53666 hours\n",
      "Training at Epoch 93 iteration 200 with loss 0.36277. Total time 7.55666 hours\n",
      "Training at Epoch 93 iteration 300 with loss 0.41766. Total time 7.57611 hours\n",
      "Validation at Epoch 93, AUROC: 0.83984 , AUPRC: 0.61697 , F1: 0.49024 , Cross-entropy Loss: 4.33506\n",
      "Training at Epoch 94 iteration 0 with loss 0.31442. Total time 7.60027 hours\n",
      "Training at Epoch 94 iteration 100 with loss 0.23910. Total time 7.61972 hours\n",
      "Training at Epoch 94 iteration 200 with loss 0.31961. Total time 7.63916 hours\n",
      "Training at Epoch 94 iteration 300 with loss 0.41239. Total time 7.65861 hours\n",
      "Validation at Epoch 94, AUROC: 0.84171 , AUPRC: 0.62497 , F1: 0.45893 , Cross-entropy Loss: 4.37411\n",
      "Training at Epoch 95 iteration 0 with loss 0.35483. Total time 7.68222 hours\n",
      "Training at Epoch 95 iteration 100 with loss 0.28499. Total time 7.70083 hours\n",
      "Training at Epoch 95 iteration 200 with loss 0.28233. Total time 7.72027 hours\n",
      "Training at Epoch 95 iteration 300 with loss 0.31316. Total time 7.73972 hours\n",
      "Validation at Epoch 95, AUROC: 0.84566 , AUPRC: 0.62522 , F1: 0.48735 , Cross-entropy Loss: 4.35458\n",
      "Training at Epoch 96 iteration 0 with loss 0.31621. Total time 7.76388 hours\n",
      "Training at Epoch 96 iteration 100 with loss 0.26664. Total time 7.78305 hours\n",
      "Training at Epoch 96 iteration 200 with loss 0.27631. Total time 7.80222 hours\n",
      "Training at Epoch 96 iteration 300 with loss 0.33815. Total time 7.82166 hours\n",
      "Validation at Epoch 96, AUROC: 0.84331 , AUPRC: 0.62097 , F1: 0.48263 , Cross-entropy Loss: 4.36435\n",
      "Training at Epoch 97 iteration 0 with loss 0.26424. Total time 7.84527 hours\n",
      "Training at Epoch 97 iteration 100 with loss 0.20804. Total time 7.86416 hours\n",
      "Training at Epoch 97 iteration 200 with loss 0.23444. Total time 7.88388 hours\n",
      "Training at Epoch 97 iteration 300 with loss 0.30903. Total time 7.90333 hours\n",
      "Validation at Epoch 97, AUROC: 0.83450 , AUPRC: 0.59029 , F1: 0.46569 , Cross-entropy Loss: 4.63773\n",
      "Training at Epoch 98 iteration 0 with loss 0.27060. Total time 7.92722 hours\n",
      "Training at Epoch 98 iteration 100 with loss 0.28275. Total time 7.94611 hours\n",
      "Training at Epoch 98 iteration 200 with loss 0.33727. Total time 7.96555 hours\n",
      "Training at Epoch 98 iteration 300 with loss 0.26171. Total time 7.98527 hours\n",
      "Validation at Epoch 98, AUROC: 0.84339 , AUPRC: 0.61888 , F1: 0.49405 , Cross-entropy Loss: 4.35947\n",
      "Training at Epoch 99 iteration 0 with loss 0.32127. Total time 8.00916 hours\n",
      "Training at Epoch 99 iteration 100 with loss 0.18956. Total time 8.02805 hours\n",
      "Training at Epoch 99 iteration 200 with loss 0.26191. Total time 8.0475 hours\n",
      "Training at Epoch 99 iteration 300 with loss 0.32710. Total time 8.06722 hours\n",
      "Validation at Epoch 99, AUROC: 0.84183 , AUPRC: 0.62066 , F1: 0.48845 , Cross-entropy Loss: 4.32529\n",
      "Training at Epoch 100 iteration 0 with loss 0.30017. Total time 8.09138 hours\n",
      "Training at Epoch 100 iteration 100 with loss 0.25154. Total time 8.10972 hours\n",
      "Training at Epoch 100 iteration 200 with loss 0.24352. Total time 8.12638 hours\n",
      "Training at Epoch 100 iteration 300 with loss 0.28965. Total time 8.14194 hours\n",
      "Validation at Epoch 100, AUROC: 0.83986 , AUPRC: 0.59282 , F1: 0.47301 , Cross-entropy Loss: 4.48151\n",
      "--- Go for Testing ---\n",
      "Validation at Epoch 100 , AUROC: 0.84181 , AUPRC: 0.62069 , F1: 0.47403 , Cross-entropy Loss: 4.42537\n",
      "--- Training Finished ---\n"
     ]
    },
    {
     "data": {
      "image/png": "[encoded data removed]",
      "text/plain": [
       "<Figure size 432x288 with 1 Axes>"
      ]
     },
     "metadata": {
      "needs_background": "light"
     },
     "output_type": "display_data"
    },
    {
     "data": {
      "image/png": "[encoded data removed]",
      "text/plain": [
       "<Figure size 432x288 with 1 Axes>"
      ]
     },
     "metadata": {
      "needs_background": "light"
     },
     "output_type": "display_data"
    },
    {
     "data": {
      "image/png": "[encoded data removed]",
      "text/plain": [
       "<Figure size 432x288 with 1 Axes>"
      ]
     },
     "metadata": {
      "needs_background": "light"
     },
     "output_type": "display_data"
    }
   ],
   "source": [
    "model_shuffled = models.model_initialize(**config)\n",
    "model_shuffled.train(train_shuffled, val_shuffled, test_shuffled)"
   ]
  },
  {
   "cell_type": "markdown",
   "metadata": {
    "heading_collapsed": true
   },
   "source": [
    "# Performances for Unseen Edges, Unseen Targets and Unseen Nodes"
   ]
  },
  {
   "cell_type": "code",
   "execution_count": 6,
   "metadata": {
    "hidden": true,
    "scrolled": true
   },
   "outputs": [],
   "source": [
    "train_ligands = list(set(train['SMILES'].tolist()))\n",
    "train_targets = list(set(train['Target Sequence'].tolist()))\n",
    "\n",
    "test_minus_train_ligands = list(set(test['SMILES'].tolist()).difference(train_ligands))\n",
    "test_minus_train_targets = list(set(test['Target Sequence'].tolist()).difference(train_targets))"
   ]
  },
  {
   "cell_type": "code",
   "execution_count": 7,
   "metadata": {
    "hidden": true
   },
   "outputs": [
    {
     "name": "stdout",
     "output_type": "stream",
     "text": [
      "Seen ligands:  10410\n",
      "Seen targets:  1404\n",
      "Unseen ligands:  2028\n",
      "Unseen targets:  73\n"
     ]
    }
   ],
   "source": [
    "print('Seen ligands: ', len(train_ligands))\n",
    "print('Seen targets: ', len(train_targets))\n",
    "print('Unseen ligands: ', len(test_minus_train_ligands))\n",
    "print('Unseen targets: ', len(test_minus_train_targets))"
   ]
  },
  {
   "cell_type": "code",
   "execution_count": 8,
   "metadata": {
    "hidden": true,
    "scrolled": true
   },
   "outputs": [
    {
     "name": "stdout",
     "output_type": "stream",
     "text": [
      "Unseen edges:  11923\n",
      "AUC:  0.8204851997415352\n",
      "AUP:  0.4775784690370599\n"
     ]
    }
   ],
   "source": [
    "# Unseen Edges\n",
    "\n",
    "test_unseen_edges = test[test['SMILES'].isin(train_ligands) & test['Target Sequence'].isin(train_targets)]\n",
    "print('Unseen edges: ', len(test_unseen_edges))\n",
    "\n",
    "print('AUC: ', roc_auc_score(test_unseen_edges['Label'].tolist(), test_unseen_edges['Y_predicted']))\n",
    "print('AUP: ', average_precision_score(test_unseen_edges['Label'].tolist(), test_unseen_edges['Y_predicted']))"
   ]
  },
  {
   "cell_type": "code",
   "execution_count": 12,
   "metadata": {
    "hidden": true,
    "scrolled": true
   },
   "outputs": [
    {
     "name": "stdout",
     "output_type": "stream",
     "text": [
      "Unseen targets:  81\n",
      "AUC:  0.7419590643274855\n",
      "AUP:  0.6482247248546712\n"
     ]
    }
   ],
   "source": [
    "# Unseen Targets\n",
    "\n",
    "test_unseen_targets = test[test['Target Sequence'].isin(test_minus_train_targets)]\n",
    "print('Unseen targets: ', len(test_unseen_targets))\n",
    "\n",
    "print('AUC: ', roc_auc_score(test_unseen_targets['Label'].tolist(), test_unseen_targets['Y_predicted']))\n",
    "print('AUP: ', average_precision_score(test_unseen_targets['Label'].tolist(), test_unseen_targets['Y_predicted']))"
   ]
  },
  {
   "cell_type": "code",
   "execution_count": 10,
   "metadata": {
    "hidden": true
   },
   "outputs": [
    {
     "name": "stdout",
     "output_type": "stream",
     "text": [
      "Unseen nodes:  37\n",
      "AUC:  0.68\n",
      "AUP:  0.5329675557936427\n"
     ]
    }
   ],
   "source": [
    "# Unseen Nodes\n",
    "\n",
    "test_unseen_nodes = test[test['SMILES'].isin(test_minus_train_ligands) & test['Target Sequence'].isin(test_minus_train_targets)]\n",
    "print('Unseen nodes: ', len(test_unseen_nodes))\n",
    "\n",
    "print('AUC: ', roc_auc_score(test_unseen_nodes['Label'].tolist(), test_unseen_nodes['Y_predicted']))\n",
    "print('AUP: ', average_precision_score(test_unseen_nodes['Label'].tolist(), test_unseen_nodes['Y_predicted']))"
   ]
  },
  {
   "cell_type": "code",
   "execution_count": 25,
   "metadata": {
    "collapsed": true
   },
   "outputs": [
    {
     "name": "stdout",
     "output_type": "stream",
     "text": [
      "Unseen nodes:  0\n"
     ]
    },
    {
     "name": "stderr",
     "output_type": "stream",
     "text": [
      "/miniconda/envs/DeepPurpose/lib/python3.7/site-packages/IPython/core/interactiveshell.py:3063: DtypeWarning: Columns (8,20,21,22,23) have mixed types.Specify dtype option on import or set low_memory=False.\n",
      "  interactivity=interactivity, compiler=compiler, result=result)\n"
     ]
    },
    {
     "ename": "ValueError",
     "evalue": "Found array with 0 sample(s) (shape=(0,)) while a minimum of 1 is required.",
     "output_type": "error",
     "traceback": [
      "\u001b[0;31m---------------------------------------------------------------------------\u001b[0m",
      "\u001b[0;31mValueError\u001b[0m                                Traceback (most recent call last)",
      "\u001b[0;32m<ipython-input-25-370c9d104f53>\u001b[0m in \u001b[0;36m<module>\u001b[0;34m\u001b[0m\n\u001b[1;32m      6\u001b[0m \u001b[0mprint\u001b[0m\u001b[0;34m(\u001b[0m\u001b[0;34m'Unseen nodes: '\u001b[0m\u001b[0;34m,\u001b[0m \u001b[0mlen\u001b[0m\u001b[0;34m(\u001b[0m\u001b[0mtest_unseen_nodes\u001b[0m\u001b[0;34m)\u001b[0m\u001b[0;34m)\u001b[0m\u001b[0;34m\u001b[0m\u001b[0;34m\u001b[0m\u001b[0m\n\u001b[1;32m      7\u001b[0m \u001b[0;34m\u001b[0m\u001b[0m\n\u001b[0;32m----> 8\u001b[0;31m \u001b[0mprint\u001b[0m\u001b[0;34m(\u001b[0m\u001b[0;34m'AUC: '\u001b[0m\u001b[0;34m,\u001b[0m \u001b[0mroc_auc_score\u001b[0m\u001b[0;34m(\u001b[0m\u001b[0mtest_unseen_nodes\u001b[0m\u001b[0;34m[\u001b[0m\u001b[0;34m'Label'\u001b[0m\u001b[0;34m]\u001b[0m\u001b[0;34m.\u001b[0m\u001b[0mtolist\u001b[0m\u001b[0;34m(\u001b[0m\u001b[0;34m)\u001b[0m\u001b[0;34m,\u001b[0m \u001b[0mtest_unseen_nodes\u001b[0m\u001b[0;34m[\u001b[0m\u001b[0;34m'Y_predicted'\u001b[0m\u001b[0;34m]\u001b[0m\u001b[0;34m)\u001b[0m\u001b[0;34m)\u001b[0m\u001b[0;34m\u001b[0m\u001b[0;34m\u001b[0m\u001b[0m\n\u001b[0m\u001b[1;32m      9\u001b[0m \u001b[0mprint\u001b[0m\u001b[0;34m(\u001b[0m\u001b[0;34m'AUP: '\u001b[0m\u001b[0;34m,\u001b[0m \u001b[0maverage_precision_score\u001b[0m\u001b[0;34m(\u001b[0m\u001b[0mtest_unseen_nodes\u001b[0m\u001b[0;34m[\u001b[0m\u001b[0;34m'Label'\u001b[0m\u001b[0;34m]\u001b[0m\u001b[0;34m.\u001b[0m\u001b[0mtolist\u001b[0m\u001b[0;34m(\u001b[0m\u001b[0;34m)\u001b[0m\u001b[0;34m,\u001b[0m \u001b[0mtest_unseen_nodes\u001b[0m\u001b[0;34m[\u001b[0m\u001b[0;34m'Y_predicted'\u001b[0m\u001b[0;34m]\u001b[0m\u001b[0;34m)\u001b[0m\u001b[0;34m)\u001b[0m\u001b[0;34m\u001b[0m\u001b[0;34m\u001b[0m\u001b[0m\n",
      "\u001b[0;32m/miniconda/envs/DeepPurpose/lib/python3.7/site-packages/sklearn/metrics/_ranking.py\u001b[0m in \u001b[0;36mroc_auc_score\u001b[0;34m(y_true, y_score, average, sample_weight, max_fpr, multi_class, labels)\u001b[0m\n\u001b[1;32m    366\u001b[0m \u001b[0;34m\u001b[0m\u001b[0m\n\u001b[1;32m    367\u001b[0m     \u001b[0my_type\u001b[0m \u001b[0;34m=\u001b[0m \u001b[0mtype_of_target\u001b[0m\u001b[0;34m(\u001b[0m\u001b[0my_true\u001b[0m\u001b[0;34m)\u001b[0m\u001b[0;34m\u001b[0m\u001b[0;34m\u001b[0m\u001b[0m\n\u001b[0;32m--> 368\u001b[0;31m     \u001b[0my_true\u001b[0m \u001b[0;34m=\u001b[0m \u001b[0mcheck_array\u001b[0m\u001b[0;34m(\u001b[0m\u001b[0my_true\u001b[0m\u001b[0;34m,\u001b[0m \u001b[0mensure_2d\u001b[0m\u001b[0;34m=\u001b[0m\u001b[0;32mFalse\u001b[0m\u001b[0;34m,\u001b[0m \u001b[0mdtype\u001b[0m\u001b[0;34m=\u001b[0m\u001b[0;32mNone\u001b[0m\u001b[0;34m)\u001b[0m\u001b[0;34m\u001b[0m\u001b[0;34m\u001b[0m\u001b[0m\n\u001b[0m\u001b[1;32m    369\u001b[0m     \u001b[0my_score\u001b[0m \u001b[0;34m=\u001b[0m \u001b[0mcheck_array\u001b[0m\u001b[0;34m(\u001b[0m\u001b[0my_score\u001b[0m\u001b[0;34m,\u001b[0m \u001b[0mensure_2d\u001b[0m\u001b[0;34m=\u001b[0m\u001b[0;32mFalse\u001b[0m\u001b[0;34m)\u001b[0m\u001b[0;34m\u001b[0m\u001b[0;34m\u001b[0m\u001b[0m\n\u001b[1;32m    370\u001b[0m \u001b[0;34m\u001b[0m\u001b[0m\n",
      "\u001b[0;32m/miniconda/envs/DeepPurpose/lib/python3.7/site-packages/sklearn/utils/validation.py\u001b[0m in \u001b[0;36mcheck_array\u001b[0;34m(array, accept_sparse, accept_large_sparse, dtype, order, copy, force_all_finite, ensure_2d, allow_nd, ensure_min_samples, ensure_min_features, warn_on_dtype, estimator)\u001b[0m\n\u001b[1;32m    584\u001b[0m                              \u001b[0;34m\" minimum of %d is required%s.\"\u001b[0m\u001b[0;34m\u001b[0m\u001b[0;34m\u001b[0m\u001b[0m\n\u001b[1;32m    585\u001b[0m                              % (n_samples, array.shape, ensure_min_samples,\n\u001b[0;32m--> 586\u001b[0;31m                                 context))\n\u001b[0m\u001b[1;32m    587\u001b[0m \u001b[0;34m\u001b[0m\u001b[0m\n\u001b[1;32m    588\u001b[0m     \u001b[0;32mif\u001b[0m \u001b[0mensure_min_features\u001b[0m \u001b[0;34m>\u001b[0m \u001b[0;36m0\u001b[0m \u001b[0;32mand\u001b[0m \u001b[0marray\u001b[0m\u001b[0;34m.\u001b[0m\u001b[0mndim\u001b[0m \u001b[0;34m==\u001b[0m \u001b[0;36m2\u001b[0m\u001b[0;34m:\u001b[0m\u001b[0;34m\u001b[0m\u001b[0;34m\u001b[0m\u001b[0m\n",
      "\u001b[0;31mValueError\u001b[0m: Found array with 0 sample(s) (shape=(0,)) while a minimum of 1 is required."
     ]
    }
   ],
   "source": [
    "NDM = pd.read_csv('../data/NDM_Master.csv')\n",
    "\n",
    "# Unseen Nodes - Natural Ligands\n",
    "\n",
    "test_unseen_nodes = test[test['SMILES'].isin(test_minus_train_ligands) & test['SMILES'].isin(NDM['SMILE'].tolist()) & test['Target Sequence'].isin(test_minus_train_targets)]\n",
    "print('Unseen nodes: ', len(test_unseen_nodes))\n",
    "\n",
    "print('AUC: ', roc_auc_score(test_unseen_nodes['Label'].tolist(), test_unseen_nodes['Y_predicted']))\n",
    "print('AUP: ', average_precision_score(test_unseen_nodes['Label'].tolist(), test_unseen_nodes['Y_predicted']))"
   ]
  },
  {
   "cell_type": "code",
   "execution_count": 11,
   "metadata": {
    "hidden": true,
    "scrolled": true
   },
   "outputs": [
    {
     "name": "stdout",
     "output_type": "stream",
     "text": [
      "Total ligands:  10410\n",
      "Total targets:  1404\n",
      "Ligands with only positive:  3094\n",
      "Targets with only positive:  170\n",
      "Ligands with only negative:  6539\n",
      "Targets with only negative:  560\n"
     ]
    }
   ],
   "source": [
    "train_pos = train[train['Label'] == 1]\n",
    "train_neg = train[train['Label'] == 0]\n",
    "\n",
    "ligands_1 = set(train_pos['SMILES'].tolist())\n",
    "ligands_0 = set(train_neg['SMILES'].tolist())\n",
    "targets_1 = set(train_pos['Target Sequence'].tolist())\n",
    "targets_0 = set(train_neg['Target Sequence'].tolist())\n",
    "\n",
    "print('Total ligands: ', len(list(set(train['SMILES'].tolist()))))\n",
    "print('Total targets: ', len(list(set(train['Target Sequence'].tolist()))))\n",
    "print('Ligands with only positive: ', len(list(ligands_1.difference(ligands_0))))\n",
    "print('Targets with only positive: ', len(list(targets_1.difference(targets_0))))\n",
    "print('Ligands with only negative: ', len(list(ligands_0.difference(ligands_1))))\n",
    "print('Targets with only negative: ', len(list(targets_0.difference(targets_1))))"
   ]
  },
  {
   "cell_type": "markdown",
   "metadata": {
    "hidden": true
   },
   "source": [
    "# Duplex Configuration Model"
   ]
  },
  {
   "cell_type": "code",
   "execution_count": 14,
   "metadata": {},
   "outputs": [],
   "source": [
    "train_pos = train[train['Label'] == 1]\n",
    "train_neg = train[train['Label'] == 0]"
   ]
  },
  {
   "cell_type": "code",
   "execution_count": 15,
   "metadata": {},
   "outputs": [
    {
     "name": "stderr",
     "output_type": "stream",
     "text": [
      "100%|██████████| 10410/10410 [01:08<00:00, 152.94it/s]\n",
      "100%|██████████| 1404/1404 [00:09<00:00, 153.63it/s]"
     ]
    },
    {
     "name": "stdout",
     "output_type": "stream",
     "text": [
      "Ligands with positive degree 0:  6539\n",
      "Ligands with negative degree 0:  3094\n",
      "Targets with positive degree 0:  560\n",
      "Targets with negative degree 0:  170\n"
     ]
    },
    {
     "name": "stderr",
     "output_type": "stream",
     "text": [
      "\n"
     ]
    }
   ],
   "source": [
    "pos_deg_0_ligands = []\n",
    "pos_deg_0_targets = []\n",
    "neg_deg_0_ligands = []\n",
    "neg_deg_0_targets = []\n",
    "\n",
    "ligand_degree_ratio = dict()\n",
    "ligand_all_average = []\n",
    "\n",
    "for ligand in tqdm(ligands):\n",
    "    pos_deg = len(train_pos[train_pos['SMILES'] == ligand])\n",
    "    neg_deg = len(train_neg[train_neg['SMILES'] == ligand])\n",
    "    ligand_degree_ratio[ligand] = dict()\n",
    "    ligand_degree_ratio[ligand]['deg_ratio'] = pos_deg / (pos_deg + neg_deg)\n",
    "    ligand_degree_ratio[ligand]['deg_avg'] = pos_deg / number_targets \n",
    "    ligand_all_average.append(pos_deg / number_targets)\n",
    "    if pos_deg == 0:\n",
    "        pos_deg_0_ligands.append(ligand)\n",
    "    if neg_deg == 0:\n",
    "        neg_deg_0_ligands.append(ligand)\n",
    "    \n",
    "ligands_all_avg = sum(ligand_all_average) / number_ligands\n",
    "\n",
    "targets_degree_ratio = dict()\n",
    "target_all_average = []\n",
    "\n",
    "for target in tqdm(targets):\n",
    "    pos_deg = len(train_pos[train_pos['Target Sequence'] == target])\n",
    "    neg_deg = len(train_neg[train_neg['Target Sequence'] == target])\n",
    "    targets_degree_ratio[target] = dict()\n",
    "    targets_degree_ratio[target]['deg_ratio'] = pos_deg / (pos_deg + neg_deg)\n",
    "    targets_degree_ratio[target]['deg_avg'] = pos_deg / number_ligands\n",
    "    target_all_average.append(pos_deg / number_ligands)\n",
    "    if pos_deg == 0:\n",
    "        pos_deg_0_targets.append(target)\n",
    "    if neg_deg == 0:\n",
    "        neg_deg_0_targets.append(target)\n",
    "    \n",
    "targets_all_avg = sum(target_all_average) / number_targets\n",
    "\n",
    "print('Ligands with positive degree 0: ',len(pos_deg_0_ligands))\n",
    "print('Ligands with negative degree 0: ',len(neg_deg_0_ligands))\n",
    "print('Targets with positive degree 0: ',len(pos_deg_0_targets))\n",
    "print('Targets with negative degree 0: ',len(neg_deg_0_targets))"
   ]
  },
  {
   "cell_type": "code",
   "execution_count": 16,
   "metadata": {},
   "outputs": [],
   "source": [
    "## Annotated means the node has at least 1 binding information\n",
    "\n",
    "pos_annotated_ligands = list(set(ligands)-set(pos_deg_0_ligands))\n",
    "pos_annotated_targets = list(set(targets)-set(pos_deg_0_targets))\n",
    "\n",
    "neg_annotated_ligands = list(set(ligands)-set(neg_deg_0_ligands))\n",
    "neg_annotated_targets = list(set(targets)-set(neg_deg_0_targets))"
   ]
  },
  {
   "cell_type": "code",
   "execution_count": 18,
   "metadata": {},
   "outputs": [],
   "source": [
    "summat10 = np.loadtxt(open(\"../data/fold3/summat10.csv\", \"rb\"), delimiter=\",\", skiprows=0) # Output of MATLAB run \n",
    "summat01 = np.loadtxt(open(\"../data/fold3/summat01.csv\", \"rb\"), delimiter=\",\", skiprows=0) # Output of MATLAB run "
   ]
  },
  {
   "cell_type": "code",
   "execution_count": 19,
   "metadata": {},
   "outputs": [
    {
     "name": "stderr",
     "output_type": "stream",
     "text": [
      "14150it [00:05, 2376.09it/s]\n"
     ]
    }
   ],
   "source": [
    "test_probabilty_predicted_conditioned = []\n",
    "\n",
    "## Average conditional probability\n",
    "p10_avg = np.mean(summat10)\n",
    "p01_avg = np.mean(summat01)\n",
    "average_conditional_probability = p10_avg / (p10_avg + p01_avg)\n",
    "\n",
    "for index, row in tqdm(test.iterrows()):      \n",
    "    \n",
    "    if row['SMILES'] in pos_annotated_ligands and row['Target Sequence'] in pos_annotated_targets:\n",
    "        p10 = summat10[ligands.index(row['SMILES']),targets.index(row['Target Sequence'])]\n",
    "        p01 = summat01[ligands.index(row['SMILES']),targets.index(row['Target Sequence'])]\n",
    "        p10_conditioned = p10 / (p10 + p01)\n",
    "        test_probabilty_predicted_conditioned.append(p10_conditioned)\n",
    "        \n",
    "    elif row['SMILES'] in pos_annotated_ligands and row['Target Sequence'] not in pos_annotated_targets:\n",
    "        p10_conditioned = ligand_degree_ratio[row['SMILES']]['deg_ratio']  ## k_+ / (k_+ + k_-)\n",
    "        test_probabilty_predicted_conditioned.append(p10_conditioned)\n",
    "        \n",
    "    elif row['SMILES'] not in pos_annotated_ligands and row['Target Sequence'] in pos_annotated_targets:\n",
    "        p10_conditioned = targets_degree_ratio[row['Target Sequence']]['deg_ratio'] ## k_+ / (k_+ + k_-)\n",
    "        test_probabilty_predicted_conditioned.append(p10_conditioned)\n",
    "\n",
    "    else:\n",
    "        p10_conditioned = average_conditional_probability\n",
    "        test_probabilty_predicted_conditioned.append(p10_conditioned)\n",
    "        "
   ]
  },
  {
   "cell_type": "code",
   "execution_count": 20,
   "metadata": {},
   "outputs": [
    {
     "name": "stdout",
     "output_type": "stream",
     "text": [
      "AUC:  0.8582542998223078\n",
      "AUP:  0.6110112213631972\n"
     ]
    }
   ],
   "source": [
    "## Performance on the test dataset\n",
    "\n",
    "print('AUC: ', roc_auc_score(test['Label'].tolist(), test_probabilty_predicted_conditioned))\n",
    "print('AUP: ', average_precision_score(test['Label'].tolist(), test_probabilty_predicted_conditioned))"
   ]
  },
  {
   "cell_type": "code",
   "execution_count": 21,
   "metadata": {},
   "outputs": [],
   "source": [
    "test['duplex_config_prediction'] = test_probabilty_predicted_conditioned"
   ]
  },
  {
   "cell_type": "code",
   "execution_count": 22,
   "metadata": {},
   "outputs": [
    {
     "name": "stdout",
     "output_type": "stream",
     "text": [
      "Unseen edges:  11923\n",
      "AUC:  0.842412891419196\n",
      "AUP:  0.498916416957615\n"
     ]
    }
   ],
   "source": [
    "# Unseen Edges\n",
    "\n",
    "test_unseen_edges = test[test['SMILES'].isin(train_ligands) & test['Target Sequence'].isin(train_targets)]\n",
    "print('Unseen edges: ', len(test_unseen_edges))\n",
    "\n",
    "print('AUC: ', roc_auc_score(test_unseen_edges['Label'].tolist(), test_unseen_edges['duplex_config_prediction']))\n",
    "print('AUP: ', average_precision_score(test_unseen_edges['Label'].tolist(), test_unseen_edges['duplex_config_prediction']))"
   ]
  },
  {
   "cell_type": "code",
   "execution_count": 23,
   "metadata": {},
   "outputs": [
    {
     "name": "stdout",
     "output_type": "stream",
     "text": [
      "Unseen targets:  81\n",
      "AUC:  0.7178362573099416\n",
      "AUP:  0.6301376005739763\n"
     ]
    }
   ],
   "source": [
    "# Unseen Targets\n",
    "\n",
    "test_unseen_targets = test[test['Target Sequence'].isin(test_minus_train_targets)]\n",
    "print('Unseen targets: ', len(test_unseen_targets))\n",
    "\n",
    "print('AUC: ', roc_auc_score(test_unseen_targets['Label'].tolist(), test_unseen_targets['duplex_config_prediction']))\n",
    "print('AUP: ', average_precision_score(test_unseen_targets['Label'].tolist(), test_unseen_targets['duplex_config_prediction']))"
   ]
  },
  {
   "cell_type": "code",
   "execution_count": 24,
   "metadata": {},
   "outputs": [
    {
     "name": "stdout",
     "output_type": "stream",
     "text": [
      "Unseen nodes:  37\n",
      "AUC:  0.5\n",
      "AUP:  0.32432432432432434\n"
     ]
    }
   ],
   "source": [
    "# Unseen Nodes\n",
    "\n",
    "test_unseen_nodes = test[test['SMILES'].isin(test_minus_train_ligands) & test['Target Sequence'].isin(test_minus_train_targets)]\n",
    "print('Unseen nodes: ', len(test_unseen_nodes))\n",
    "\n",
    "print('AUC: ', roc_auc_score(test_unseen_nodes['Label'].tolist(), test_unseen_nodes['duplex_config_prediction']))\n",
    "print('AUP: ', average_precision_score(test_unseen_nodes['Label'].tolist(), test_unseen_nodes['duplex_config_prediction']))"
   ]
  },
  {
   "cell_type": "code",
   "execution_count": null,
   "metadata": {},
   "outputs": [],
   "source": []
  }
 ],
 "metadata": {
  "kernelspec": {
   "display_name": "DeepPurpose",
   "language": "python",
   "name": "deeppurpose"
  },
  "language_info": {
   "codemirror_mode": {
    "name": "ipython",
    "version": 3
   },
   "file_extension": ".py",
   "mimetype": "text/x-python",
   "name": "python",
   "nbconvert_exporter": "python",
   "pygments_lexer": "ipython3",
   "version": "3.7.7"
  },
  "toc": {
   "base_numbering": 1,
   "nav_menu": {},
   "number_sections": true,
   "sideBar": true,
   "skip_h1_title": false,
   "title_cell": "Table of Contents",
   "title_sidebar": "Contents",
   "toc_cell": false,
   "toc_position": {},
   "toc_section_display": true,
   "toc_window_display": false
  }
 },
 "nbformat": 4,
 "nbformat_minor": 4
}
