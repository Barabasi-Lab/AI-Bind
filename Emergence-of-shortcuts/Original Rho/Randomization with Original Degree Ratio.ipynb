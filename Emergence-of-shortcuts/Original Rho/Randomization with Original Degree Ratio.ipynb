{
 "cells": [
  {
   "cell_type": "markdown",
   "metadata": {
    "heading_collapsed": true
   },
   "source": [
    "# Imports and Custom Functions"
   ]
  },
  {
   "cell_type": "code",
   "execution_count": 154,
   "metadata": {
    "hidden": true
   },
   "outputs": [],
   "source": [
    "import matplotlib.pyplot as plt\n",
    "from tqdm import tqdm\n",
    "import pandas as pd\n",
    "from matplotlib.pyplot import figure\n",
    "import numpy as np\n",
    "import networkx as nx\n",
    "from networkx.algorithms import bipartite\n",
    "from sklearn.metrics import confusion_matrix, f1_score, classification_report\n",
    "from sklearn.metrics import roc_curve, roc_auc_score, precision_recall_curve, average_precision_score\n",
    "from sklearn.metrics import confusion_matrix, f1_score, classification_report\n",
    "from scipy import stats"
   ]
  },
  {
   "cell_type": "code",
   "execution_count": 2,
   "metadata": {
    "hidden": true
   },
   "outputs": [],
   "source": [
    "def remove_zeros_distribution(X):\n",
    "\n",
    "    return [i for i in X if i != 0]\n",
    "\n",
    "def log_binning_distribution(x_i,B = 20): \n",
    "    \n",
    "    x_i = remove_zeros_distribution(x_i)\n",
    "\n",
    "    b_1 = min(x_i)\n",
    "    b_Bp1 = max(x_i)\n",
    "    q_1 = np.log(b_1)\n",
    "    q_Bp1 = np.log(b_Bp1)\n",
    "    D_q = q_Bp1 - q_1\n",
    "    L_q = D_q / B\n",
    "\n",
    "    q_list = []\n",
    "    b_list = []\n",
    "\n",
    "    for i in range(B):\n",
    "        j = i + 1\n",
    "        q_list.append(q_1 + (j-1)*L_q)\n",
    "        b_list.append(np.exp(q_1 + (j-1)*L_q))\n",
    "\n",
    "    # b_list.insert(0,b_1)\n",
    "    # b_list.append(b_Bp1)\n",
    "    \n",
    "    binned_x_i = []\n",
    "    density_list = []\n",
    "\n",
    "    for i in range(len(b_list)-1):\n",
    "        bin_low = b_list[i]\n",
    "        bin_high = b_list[i+1]\n",
    "        count_bin = 0\n",
    "        for j in range(len(x_i)):\n",
    "            if x_i[j] >= bin_low and x_i[j] < bin_high:\n",
    "                count_bin = count_bin + 1\n",
    "                \n",
    "        if count_bin > 0:\n",
    "            density_bin = count_bin / (len(x_i)*(bin_high-bin_low))\n",
    "            density_list.append(density_bin)\n",
    "            binned_x_i.append(bin_low)\n",
    "        else:\n",
    "            continue \n",
    "            \n",
    "    return binned_x_i, density_list"
   ]
  },
  {
   "cell_type": "markdown",
   "metadata": {},
   "source": [
    "# Randomizing Layer 1"
   ]
  },
  {
   "cell_type": "code",
   "execution_count": 3,
   "metadata": {},
   "outputs": [],
   "source": [
    "train = pd.read_csv('../data/Transformer_CNN_train_fold2.csv')\n",
    "val = pd.read_csv('../data/Transformer_CNN_val_fold2.csv')\n",
    "test = pd.read_csv('../data/Transformer_CNN_test_fold2.csv')"
   ]
  },
  {
   "cell_type": "code",
   "execution_count": 4,
   "metadata": {},
   "outputs": [],
   "source": [
    "all_data = pd.concat([train,val,test])"
   ]
  },
  {
   "cell_type": "code",
   "execution_count": 5,
   "metadata": {},
   "outputs": [],
   "source": [
    "#network_derived = pd.read_csv('/data/sars-busters-consolidated/GitData/interactions/Network_Derived_Negatives.csv')"
   ]
  },
  {
   "cell_type": "code",
   "execution_count": 6,
   "metadata": {},
   "outputs": [],
   "source": [
    "#layer1 = network_derived[network_derived['Y'] == 1]\n",
    "layer1 = all_data[all_data['Label'] == 1]"
   ]
  },
  {
   "cell_type": "code",
   "execution_count": 89,
   "metadata": {
    "scrolled": true
   },
   "outputs": [
    {
     "name": "stdout",
     "output_type": "stream",
     "text": [
      "Distinct ligands:  13392\n",
      "Distinct targets:  1507\n"
     ]
    }
   ],
   "source": [
    "#ligands = list(set(layer1['InChiKey'].tolist()))\n",
    "#targets = list(set(layer1['target_aa_code'].tolist()))\n",
    "\n",
    "ligands = list(set(all_data['SMILES'].tolist()))\n",
    "targets = list(set(all_data['Target Sequence'].tolist()))\n",
    "\n",
    "print('Distinct ligands: ', len(ligands))\n",
    "print('Distinct targets: ', len(targets))"
   ]
  },
  {
   "cell_type": "code",
   "execution_count": 26,
   "metadata": {},
   "outputs": [],
   "source": [
    "# edge_list_layer1 = list(zip(layer1['InChiKey'],layer1['target_aa_code']))\n",
    "edge_list_layer1 = list(zip(layer1['SMILES'],layer1['Target Sequence']))\n",
    "edges_layer_1 = len(edge_list_layer1)"
   ]
  },
  {
   "cell_type": "code",
   "execution_count": 27,
   "metadata": {},
   "outputs": [],
   "source": [
    "B = nx.Graph()\n",
    "B.add_edges_from(edge_list_layer1)"
   ]
  },
  {
   "cell_type": "code",
   "execution_count": 28,
   "metadata": {},
   "outputs": [
    {
     "data": {
      "text/plain": [
       "True"
      ]
     },
     "execution_count": 28,
     "metadata": {},
     "output_type": "execute_result"
    }
   ],
   "source": [
    "bipartite.is_bipartite(B)"
   ]
  },
  {
   "cell_type": "code",
   "execution_count": 29,
   "metadata": {},
   "outputs": [
    {
     "data": {
      "text/plain": [
       "11428"
      ]
     },
     "execution_count": 29,
     "metadata": {},
     "output_type": "execute_result"
    }
   ],
   "source": [
    "edges_layer_1"
   ]
  },
  {
   "cell_type": "code",
   "execution_count": 30,
   "metadata": {},
   "outputs": [],
   "source": [
    "p_connection_layer_1 = edges_layer_1 / (len(ligands)*len(targets))"
   ]
  },
  {
   "cell_type": "code",
   "execution_count": 31,
   "metadata": {},
   "outputs": [
    {
     "data": {
      "text/plain": [
       "0.0005662543336195326"
      ]
     },
     "execution_count": 31,
     "metadata": {},
     "output_type": "execute_result"
    }
   ],
   "source": [
    "p_connection_layer_1"
   ]
  },
  {
   "cell_type": "code",
   "execution_count": 32,
   "metadata": {},
   "outputs": [],
   "source": [
    "layer1_randomized = nx.Graph(bipartite.random_graph(len(ligands), len(targets), p_connection_layer_1))"
   ]
  },
  {
   "cell_type": "code",
   "execution_count": 33,
   "metadata": {},
   "outputs": [
    {
     "data": {
      "text/plain": [
       "True"
      ]
     },
     "execution_count": 33,
     "metadata": {},
     "output_type": "execute_result"
    }
   ],
   "source": [
    "bipartite.is_bipartite(layer1_randomized)"
   ]
  },
  {
   "cell_type": "code",
   "execution_count": 34,
   "metadata": {},
   "outputs": [
    {
     "data": {
      "text/plain": [
       "11326"
      ]
     },
     "execution_count": 34,
     "metadata": {},
     "output_type": "execute_result"
    }
   ],
   "source": [
    "layer1_randomized.number_of_edges()"
   ]
  },
  {
   "cell_type": "code",
   "execution_count": 35,
   "metadata": {},
   "outputs": [],
   "source": [
    "top_nodes = {n for n, d in layer1_randomized.nodes(data=True) if d[\"bipartite\"] == 0}"
   ]
  },
  {
   "cell_type": "code",
   "execution_count": 36,
   "metadata": {},
   "outputs": [
    {
     "data": {
      "text/plain": [
       "13392"
      ]
     },
     "execution_count": 36,
     "metadata": {},
     "output_type": "execute_result"
    }
   ],
   "source": [
    "len(top_nodes) # These are the ligands"
   ]
  },
  {
   "cell_type": "code",
   "execution_count": 37,
   "metadata": {},
   "outputs": [],
   "source": [
    "bottom_nodes = set(layer1_randomized) - top_nodes"
   ]
  },
  {
   "cell_type": "code",
   "execution_count": 38,
   "metadata": {},
   "outputs": [
    {
     "data": {
      "text/plain": [
       "1507"
      ]
     },
     "execution_count": 38,
     "metadata": {},
     "output_type": "execute_result"
    }
   ],
   "source": [
    "len(bottom_nodes) # These are the targets"
   ]
  },
  {
   "cell_type": "code",
   "execution_count": 39,
   "metadata": {},
   "outputs": [],
   "source": [
    "randomized_ligand_degrees = []\n",
    "\n",
    "for node_lig in top_nodes:\n",
    "    randomized_ligand_degrees.append(layer1_randomized.degree(node_lig))"
   ]
  },
  {
   "cell_type": "code",
   "execution_count": 41,
   "metadata": {},
   "outputs": [
    {
     "data": {
      "image/png": "[encoded data removed]",
      "text/plain": [
       "<Figure size 432x288 with 1 Axes>"
      ]
     },
     "metadata": {
      "needs_background": "light"
     },
     "output_type": "display_data"
    }
   ],
   "source": [
    "count, bins_count = np.histogram(randomized_ligand_degrees,bins=8)\n",
    "pdf = count / sum(count)\n",
    "cdf = np.cumsum(pdf)\n",
    "plt.scatter(bins_count[1:],pdf, label=\"Randomized Ligand Degree\",alpha=0.5)\n",
    "\n",
    "plt.legend()\n",
    "plt.xlabel('Ligand degree')\n",
    "plt.ylabel('pdf')\n",
    "plt.show()"
   ]
  },
  {
   "cell_type": "code",
   "execution_count": 42,
   "metadata": {},
   "outputs": [],
   "source": [
    "randomized_target_degrees = []\n",
    "\n",
    "for node_tar in bottom_nodes:\n",
    "    randomized_target_degrees.append(layer1_randomized.degree(node_tar))"
   ]
  },
  {
   "cell_type": "code",
   "execution_count": 45,
   "metadata": {},
   "outputs": [
    {
     "data": {
      "image/png": "[encoded data removed]",
      "text/plain": [
       "<Figure size 432x288 with 1 Axes>"
      ]
     },
     "metadata": {
      "needs_background": "light"
     },
     "output_type": "display_data"
    }
   ],
   "source": [
    "count, bins_count = np.histogram(randomized_target_degrees,bins=8)\n",
    "pdf = count / sum(count)\n",
    "cdf = np.cumsum(pdf)\n",
    "plt.scatter(bins_count[1:],pdf, label=\"Randomized Target Degree\",alpha=0.5)\n",
    "\n",
    "plt.legend()\n",
    "plt.xlabel('Target degree')\n",
    "plt.ylabel('pdf')\n",
    "plt.show()"
   ]
  },
  {
   "cell_type": "markdown",
   "metadata": {},
   "source": [
    "# Randomizing Layer 2"
   ]
  },
  {
   "cell_type": "code",
   "execution_count": 46,
   "metadata": {},
   "outputs": [],
   "source": [
    "randomized_ligand_degrees_negative = [len(bottom_nodes) - i for i in randomized_ligand_degrees]\n",
    "\n",
    "randomized_target_degrees_negative = [len(top_nodes) - i for i in randomized_target_degrees]"
   ]
  },
  {
   "cell_type": "code",
   "execution_count": 48,
   "metadata": {},
   "outputs": [
    {
     "data": {
      "image/png": "[encoded data removed]",
      "text/plain": [
       "<Figure size 432x288 with 1 Axes>"
      ]
     },
     "metadata": {
      "needs_background": "light"
     },
     "output_type": "display_data"
    }
   ],
   "source": [
    "count, bins_count = np.histogram(randomized_ligand_degrees_negative,bins=8)\n",
    "pdf = count / sum(count)\n",
    "cdf = np.cumsum(pdf)\n",
    "plt.scatter(bins_count[1:],pdf, label=\"Randomized Ligand Negtaive Degree\",alpha=0.5)\n",
    "\n",
    "plt.legend()\n",
    "plt.xlabel('Ligand negative degree')\n",
    "plt.ylabel('pdf')\n",
    "plt.show()"
   ]
  },
  {
   "cell_type": "code",
   "execution_count": 155,
   "metadata": {},
   "outputs": [
    {
     "data": {
      "text/plain": [
       "SpearmanrResult(correlation=-1.0, pvalue=0.0)"
      ]
     },
     "execution_count": 155,
     "metadata": {},
     "output_type": "execute_result"
    }
   ],
   "source": [
    "stats.spearmanr(randomized_ligand_degrees, randomized_ligand_degrees_negative)"
   ]
  },
  {
   "cell_type": "code",
   "execution_count": 51,
   "metadata": {},
   "outputs": [
    {
     "data": {
      "image/png": "[encoded data removed]",
      "text/plain": [
       "<Figure size 432x288 with 1 Axes>"
      ]
     },
     "metadata": {
      "needs_background": "light"
     },
     "output_type": "display_data"
    }
   ],
   "source": [
    "count, bins_count = np.histogram(randomized_target_degrees_negative,bins=10)\n",
    "pdf = count / sum(count)\n",
    "cdf = np.cumsum(pdf)\n",
    "plt.scatter(bins_count[1:],pdf, label=\"Randomized Target Negtaive Degree\",alpha=0.5)\n",
    "\n",
    "# plt.legend()\n",
    "plt.xlabel('Target negative degree')\n",
    "plt.ylabel('pdf')\n",
    "plt.show()"
   ]
  },
  {
   "cell_type": "code",
   "execution_count": 156,
   "metadata": {},
   "outputs": [
    {
     "data": {
      "text/plain": [
       "SpearmanrResult(correlation=-1.0, pvalue=0.0)"
      ]
     },
     "execution_count": 156,
     "metadata": {},
     "output_type": "execute_result"
    }
   ],
   "source": [
    "stats.spearmanr(randomized_target_degrees, randomized_target_degrees_negative)"
   ]
  },
  {
   "cell_type": "code",
   "execution_count": 53,
   "metadata": {},
   "outputs": [],
   "source": [
    "layer2 = bipartite.configuration_model(randomized_ligand_degrees_negative, randomized_target_degrees_negative, create_using=nx.Graph())"
   ]
  },
  {
   "cell_type": "code",
   "execution_count": 54,
   "metadata": {},
   "outputs": [
    {
     "data": {
      "text/plain": [
       "True"
      ]
     },
     "execution_count": 54,
     "metadata": {},
     "output_type": "execute_result"
    }
   ],
   "source": [
    "bipartite.is_bipartite(layer2)"
   ]
  },
  {
   "cell_type": "code",
   "execution_count": 55,
   "metadata": {},
   "outputs": [
    {
     "data": {
      "text/plain": [
       "12754422"
      ]
     },
     "execution_count": 55,
     "metadata": {},
     "output_type": "execute_result"
    }
   ],
   "source": [
    "layer2.number_of_edges()"
   ]
  },
  {
   "cell_type": "code",
   "execution_count": 57,
   "metadata": {},
   "outputs": [
    {
     "data": {
      "text/plain": [
       "13392"
      ]
     },
     "execution_count": 57,
     "metadata": {},
     "output_type": "execute_result"
    }
   ],
   "source": [
    "top_nodes = {n for n, d in layer2.nodes(data=True) if d[\"bipartite\"] == 0}\n",
    "\n",
    "len(top_nodes)"
   ]
  },
  {
   "cell_type": "code",
   "execution_count": 59,
   "metadata": {},
   "outputs": [
    {
     "data": {
      "text/plain": [
       "1507"
      ]
     },
     "execution_count": 59,
     "metadata": {},
     "output_type": "execute_result"
    }
   ],
   "source": [
    "bottom_nodes = set(layer2) - top_nodes\n",
    "\n",
    "len(bottom_nodes)"
   ]
  },
  {
   "cell_type": "markdown",
   "metadata": {},
   "source": [
    "# Creating DataFrame"
   ]
  },
  {
   "cell_type": "code",
   "execution_count": 62,
   "metadata": {
    "scrolled": true
   },
   "outputs": [],
   "source": [
    "randomized_samples = pd.DataFrame()\n",
    "\n",
    "SMILE_list = []\n",
    "target_aa_code_list = []\n",
    "\n",
    "#desired_positive_edge = int(len(list(layers_randomized.edges())) * positive_edge_count/(positive_edge_count + negative_edge_count))\n",
    "#desired_negative_edge = len(list(layers_randomized.edges())) - desired_positive_edge\n",
    "\n",
    "for edge in list(layer1_randomized.edges()):\n",
    "    SMILE_list.append(ligands[edge[0]])\n",
    "    target_aa_code_list.append(targets[edge[1]-len(ligands)]) ## bottom nodes indexing starts from len(ligands)\n",
    "    \n",
    "for edge in list(layer2.edges()):\n",
    "    SMILE_list.append(ligands[edge[0]])\n",
    "    target_aa_code_list.append(targets[edge[1]-len(ligands)]) ## bottom nodes indexing starts from len(ligands)\n",
    "        \n",
    "randomized_samples['SMILE'] = SMILE_list\n",
    "randomized_samples['target_aa_code'] = target_aa_code_list\n",
    "randomized_samples['Y'] = [1] * len(layer1_randomized.edges()) + [0] * len(layer2.edges())"
   ]
  },
  {
   "cell_type": "code",
   "execution_count": 63,
   "metadata": {},
   "outputs": [
    {
     "data": {
      "text/plain": [
       "11326"
      ]
     },
     "execution_count": 63,
     "metadata": {},
     "output_type": "execute_result"
    }
   ],
   "source": [
    "len(randomized_samples[randomized_samples['Y'] == 1]) "
   ]
  },
  {
   "cell_type": "code",
   "execution_count": 64,
   "metadata": {},
   "outputs": [
    {
     "data": {
      "text/plain": [
       "12754422"
      ]
     },
     "execution_count": 64,
     "metadata": {},
     "output_type": "execute_result"
    }
   ],
   "source": [
    "len(randomized_samples[randomized_samples['Y'] == 0]) "
   ]
  },
  {
   "cell_type": "markdown",
   "metadata": {},
   "source": [
    "# Degree Ratio Distributions"
   ]
  },
  {
   "cell_type": "code",
   "execution_count": 66,
   "metadata": {
    "scrolled": true
   },
   "outputs": [],
   "source": [
    "ligand_degree_ratio_randomized = [randomized_ligand_degrees[i] / (randomized_ligand_degrees[i] + randomized_ligand_degrees_negative[i]) for i in range(len(ligands))]\n",
    "\n",
    "target_degree_ratio_randomized = [randomized_target_degrees[i] / (randomized_target_degrees[i] + randomized_target_degrees_negative[i]) for i in range(len(targets))]\n"
   ]
  },
  {
   "cell_type": "code",
   "execution_count": 67,
   "metadata": {},
   "outputs": [
    {
     "data": {
      "text/plain": [
       "(array([5.741e+03, 4.876e+03, 0.000e+00, 2.074e+03, 0.000e+00, 5.410e+02,\n",
       "        1.250e+02, 0.000e+00, 3.100e+01, 4.000e+00]),\n",
       " array([0.        , 0.00039814, 0.00079628, 0.00119443, 0.00159257,\n",
       "        0.00199071, 0.00238885, 0.00278699, 0.00318514, 0.00358328,\n",
       "        0.00398142]),\n",
       " <a list of 10 Patch objects>)"
      ]
     },
     "execution_count": 67,
     "metadata": {},
     "output_type": "execute_result"
    },
    {
     "data": {
      "image/png": "[encoded data removed]",
      "text/plain": [
       "<Figure size 432x288 with 1 Axes>"
      ]
     },
     "metadata": {
      "needs_background": "light"
     },
     "output_type": "display_data"
    }
   ],
   "source": [
    "plt.hist(ligand_degree_ratio_randomized)"
   ]
  },
  {
   "cell_type": "code",
   "execution_count": 69,
   "metadata": {},
   "outputs": [
    {
     "data": {
      "text/plain": [
       "(array([  3.,  69., 280., 452., 208., 288., 142.,  52.,  12.,   1.]),\n",
       " array([0.        , 0.00013441, 0.00026882, 0.00040323, 0.00053763,\n",
       "        0.00067204, 0.00080645, 0.00094086, 0.00107527, 0.00120968,\n",
       "        0.00134409]),\n",
       " <a list of 10 Patch objects>)"
      ]
     },
     "execution_count": 69,
     "metadata": {},
     "output_type": "execute_result"
    },
    {
     "data": {
      "image/png": "[encoded data removed]",
      "text/plain": [
       "<Figure size 432x288 with 1 Axes>"
      ]
     },
     "metadata": {
      "needs_background": "light"
     },
     "output_type": "display_data"
    }
   ],
   "source": [
    "plt.hist(target_degree_ratio_randomized)"
   ]
  },
  {
   "cell_type": "markdown",
   "metadata": {},
   "source": [
    "# BindingDB Degree Ratios"
   ]
  },
  {
   "cell_type": "code",
   "execution_count": 70,
   "metadata": {},
   "outputs": [
    {
     "name": "stderr",
     "output_type": "stream",
     "text": [
      "100%|██████████| 13392/13392 [01:51<00:00, 119.64it/s]\n"
     ]
    }
   ],
   "source": [
    "ligand_pos_degree = []\n",
    "ligand_neg_degree = []\n",
    "ligand_degree_ratio_bindingDB = []\n",
    "\n",
    "for chem in tqdm(set(all_data['SMILES'].tolist())):\n",
    "    sub_df = all_data[all_data['SMILES'] == chem]\n",
    "    ligand_pos_degree.append(sub_df['Label'].tolist().count(1))\n",
    "    ligand_neg_degree.append(sub_df['Label'].tolist().count(0))\n",
    "    ligand_degree_ratio_bindingDB.append(sub_df['Label'].tolist().count(1)/(sub_df['Label'].tolist().count(1)+sub_df['Label'].tolist().count(0)))"
   ]
  },
  {
   "cell_type": "code",
   "execution_count": 71,
   "metadata": {},
   "outputs": [
    {
     "name": "stderr",
     "output_type": "stream",
     "text": [
      "100%|██████████| 1507/1507 [00:12<00:00, 119.26it/s]\n"
     ]
    }
   ],
   "source": [
    "target_pos_degree = []\n",
    "target_neg_degree = []\n",
    "target_degree_ratio_bindingDB = []\n",
    "\n",
    "for prot in tqdm(set(all_data['Target Sequence'].tolist())):\n",
    "    sub_df = all_data[all_data['Target Sequence'] == prot]\n",
    "    target_pos_degree.append(sub_df['Label'].tolist().count(1))\n",
    "    target_neg_degree.append(sub_df['Label'].tolist().count(0))\n",
    "    target_degree_ratio_bindingDB.append(sub_df['Label'].tolist().count(1)/(sub_df['Label'].tolist().count(1)+sub_df['Label'].tolist().count(0)))"
   ]
  },
  {
   "cell_type": "markdown",
   "metadata": {},
   "source": [
    "# Degree Ratio with Both Layers Separately Randomized"
   ]
  },
  {
   "cell_type": "code",
   "execution_count": 74,
   "metadata": {},
   "outputs": [
    {
     "data": {
      "text/plain": [
       "(array([6.22685185, 0.03733572, 0.13814217, 0.08885902, 0.03584229,\n",
       "        0.38306452, 0.08213859, 0.02165472, 0.01717443, 2.96893668]),\n",
       " array([0. , 0.1, 0.2, 0.3, 0.4, 0.5, 0.6, 0.7, 0.8, 0.9, 1. ]),\n",
       " <a list of 10 Patch objects>)"
      ]
     },
     "execution_count": 74,
     "metadata": {},
     "output_type": "execute_result"
    },
    {
     "data": {
      "image/png": "[encoded data removed]",
      "text/plain": [
       "<Figure size 432x288 with 1 Axes>"
      ]
     },
     "metadata": {
      "needs_background": "light"
     },
     "output_type": "display_data"
    }
   ],
   "source": [
    "plt.hist(ligand_degree_ratio_bindingDB, label='Original data',alpha=0.2,density=True, color='#e34a33')"
   ]
  },
  {
   "cell_type": "code",
   "execution_count": 76,
   "metadata": {},
   "outputs": [
    {
     "data": {
      "image/png": "[encoded data removed]",
      "text/plain": [
       "<Figure size 432x288 with 1 Axes>"
      ]
     },
     "metadata": {
      "needs_background": "light"
     },
     "output_type": "display_data"
    }
   ],
   "source": [
    "#plt.hist(ligand_degree_ratio_randomized,label='Randomized Layers',alpha=0.2,density=True)\n",
    "plt.hist(ligand_degree_ratio_bindingDB, label='Original data',alpha=0.2,density=True, color='#e34a33')\n",
    "plt.axvline(x = np.mean(ligand_degree_ratio_bindingDB), linestyle='--', alpha=0.4, color='#e34a33')\n",
    "\n",
    "plt.xscale('log')\n",
    "plt.xlabel('Ligand degree ratio')\n",
    "plt.ylabel('pdf')\n",
    "plt.legend()\n",
    "plt.show()"
   ]
  },
  {
   "cell_type": "code",
   "execution_count": 79,
   "metadata": {},
   "outputs": [
    {
     "data": {
      "image/png": "[encoded data removed]",
      "text/plain": [
       "<Figure size 432x288 with 1 Axes>"
      ]
     },
     "metadata": {
      "needs_background": "light"
     },
     "output_type": "display_data"
    }
   ],
   "source": [
    "plt.hist(ligand_degree_ratio_randomized,label='Randomized Layers',alpha=0.2,density=True)\n",
    "#plt.hist(ligand_degree_ratio_bindingDB, label='Original data',alpha=0.2,density=True, color='#e34a33')\n",
    "plt.axvline(x = np.mean(ligand_degree_ratio_bindingDB), linestyle='--', alpha=0.4, color='#e34a33')\n",
    "\n",
    "plt.xscale('log')\n",
    "plt.xlabel('Ligand degree ratio')\n",
    "plt.ylabel('pdf')\n",
    "plt.legend()\n",
    "plt.show()"
   ]
  },
  {
   "cell_type": "code",
   "execution_count": 83,
   "metadata": {},
   "outputs": [
    {
     "data": {
      "image/png": "[encoded data removed]",
      "text/plain": [
       "<Figure size 432x288 with 1 Axes>"
      ]
     },
     "metadata": {
      "needs_background": "light"
     },
     "output_type": "display_data"
    }
   ],
   "source": [
    "#plt.hist(target_degree_ratio_randomized,label='Randomized Layers',alpha=0.2,density=True)\n",
    "plt.hist(target_degree_ratio_bindingDB, label='Original data',alpha=0.2,density=True, color='#e34a33')\n",
    "plt.axvline(x = np.mean(ligand_degree_ratio_bindingDB), linestyle='--', alpha=0.4, color='#e34a33')\n",
    "\n",
    "plt.xscale('log')\n",
    "plt.legend()\n",
    "plt.xlabel('Target degree ratio')\n",
    "plt.ylabel('pdf')\n",
    "plt.show()"
   ]
  },
  {
   "cell_type": "code",
   "execution_count": 84,
   "metadata": {},
   "outputs": [
    {
     "data": {
      "image/png": "[encoded data removed]",
      "text/plain": [
       "<Figure size 432x288 with 1 Axes>"
      ]
     },
     "metadata": {
      "needs_background": "light"
     },
     "output_type": "display_data"
    }
   ],
   "source": [
    "plt.hist(target_degree_ratio_randomized,label='Randomized Layers',alpha=0.2,density=True)\n",
    "#plt.hist(target_degree_ratio_bindingDB, label='Original data',alpha=0.2,density=True, color='#e34a33')\n",
    "plt.axvline(x = np.mean(ligand_degree_ratio_bindingDB), linestyle='--', alpha=0.4, color='#e34a33')\n",
    "\n",
    "plt.xscale('log')\n",
    "plt.legend()\n",
    "plt.xlabel('Target degree ratio')\n",
    "plt.ylabel('pdf')\n",
    "plt.show()"
   ]
  },
  {
   "cell_type": "markdown",
   "metadata": {
    "heading_collapsed": true
   },
   "source": [
    "# Generating the Negatives from rho Distribution "
   ]
  },
  {
   "cell_type": "code",
   "execution_count": 59,
   "metadata": {
    "hidden": true
   },
   "outputs": [
    {
     "data": {
      "image/png": "[encoded data removed]",
      "text/plain": [
       "<Figure size 432x288 with 1 Axes>"
      ]
     },
     "metadata": {
      "needs_background": "light"
     },
     "output_type": "display_data"
    }
   ],
   "source": [
    "beta_test_list = []\n",
    "\n",
    "for i in range(10000):\n",
    "    beta_test_list.append(np.random.beta(a=0.5, b=0.5))\n",
    "    \n",
    "count, bins_count = np.histogram(beta_test_list,bins=20)\n",
    "pdf = count / sum(count)\n",
    "cdf = np.cumsum(pdf)\n",
    "plt.scatter(bins_count[1:],pdf, label=\"Beta distribution\",alpha=0.5)\n",
    "\n",
    "plt.legend()\n",
    "plt.xlabel('Random valirable')\n",
    "plt.ylabel('pdf')\n",
    "plt.show()"
   ]
  },
  {
   "cell_type": "code",
   "execution_count": 150,
   "metadata": {
    "hidden": true,
    "scrolled": true
   },
   "outputs": [],
   "source": [
    "randomized_ligand_negative_degrees = []\n",
    "\n",
    "for k_plus in randomized_ligand_degrees:\n",
    "    rho_i = np.random.beta(a=0.5, b=0.5)\n",
    "    randomized_ligand_negative_degrees.append(int(k_plus*(1-rho_i)/rho_i))\n",
    "       "
   ]
  },
  {
   "cell_type": "code",
   "execution_count": 151,
   "metadata": {
    "hidden": true
   },
   "outputs": [
    {
     "data": {
      "image/png": "[encoded data removed]",
      "text/plain": [
       "<Figure size 432x288 with 1 Axes>"
      ]
     },
     "metadata": {
      "needs_background": "light"
     },
     "output_type": "display_data"
    }
   ],
   "source": [
    "count, bins_count = np.histogram(randomized_ligand_negative_degrees,bins=20)\n",
    "pdf = count / sum(count)\n",
    "cdf = np.cumsum(pdf)\n",
    "plt.scatter(bins_count[1:],pdf, label=\"Randomized Target Negative Degree\",alpha=0.5)\n",
    "\n",
    "plt.legend()\n",
    "plt.xlabel('Target degree')\n",
    "plt.ylabel('pdf')\n",
    "plt.show()"
   ]
  },
  {
   "cell_type": "code",
   "execution_count": 152,
   "metadata": {
    "hidden": true
   },
   "outputs": [],
   "source": [
    "randomized_target_negative_degrees = []\n",
    "\n",
    "for k_plus in randomized_target_degrees:\n",
    "    rho_i = np.random.beta(a=0.5, b=0.5)\n",
    "    randomized_target_negative_degrees.append(int(k_plus*(1-rho_i)/rho_i))\n",
    "    \n",
    "randomized_target_negative_degrees_original = randomized_target_negative_degrees\n",
    "    \n",
    "## Normalization \n",
    "#randomized_target_negative_degrees_normalized = [x/sum(randomized_target_negative_degrees) for x in randomized_target_negative_degrees]\n",
    "\n",
    "## Create sequence so that the sum of both sequences are the same\n",
    "#randomized_target_negative_degrees = [x*sum(randomized_ligand_negative_degrees) for x in randomized_target_negative_degrees_normalized]"
   ]
  },
  {
   "cell_type": "code",
   "execution_count": 153,
   "metadata": {
    "hidden": true
   },
   "outputs": [
    {
     "data": {
      "text/plain": [
       "27958484"
      ]
     },
     "execution_count": 153,
     "metadata": {},
     "output_type": "execute_result"
    }
   ],
   "source": [
    "sum(randomized_target_negative_degrees)"
   ]
  },
  {
   "cell_type": "code",
   "execution_count": 154,
   "metadata": {
    "hidden": true
   },
   "outputs": [
    {
     "data": {
      "text/plain": [
       "160092637"
      ]
     },
     "execution_count": 154,
     "metadata": {},
     "output_type": "execute_result"
    }
   ],
   "source": [
    "sum(randomized_ligand_negative_degrees)"
   ]
  },
  {
   "cell_type": "code",
   "execution_count": 155,
   "metadata": {
    "collapsed": true,
    "hidden": true
   },
   "outputs": [
    {
     "ename": "KeyboardInterrupt",
     "evalue": "",
     "output_type": "error",
     "traceback": [
      "\u001b[0;31m---------------------------------------------------------------------------\u001b[0m",
      "\u001b[0;31mKeyboardInterrupt\u001b[0m                         Traceback (most recent call last)",
      "\u001b[0;32m<ipython-input-155-8b8feefffa56>\u001b[0m in \u001b[0;36m<module>\u001b[0;34m\u001b[0m\n\u001b[1;32m      5\u001b[0m \u001b[0;34m\u001b[0m\u001b[0m\n\u001b[1;32m      6\u001b[0m \u001b[0;32melif\u001b[0m \u001b[0msum\u001b[0m\u001b[0;34m(\u001b[0m\u001b[0mrandomized_target_negative_degrees\u001b[0m\u001b[0;34m)\u001b[0m \u001b[0;34m<\u001b[0m \u001b[0msum\u001b[0m\u001b[0;34m(\u001b[0m\u001b[0mrandomized_ligand_negative_degrees\u001b[0m\u001b[0;34m)\u001b[0m\u001b[0;34m:\u001b[0m\u001b[0;34m\u001b[0m\u001b[0m\n\u001b[0;32m----> 7\u001b[0;31m     \u001b[0;32mwhile\u001b[0m \u001b[0msum\u001b[0m\u001b[0;34m(\u001b[0m\u001b[0mrandomized_target_negative_degrees\u001b[0m\u001b[0;34m)\u001b[0m \u001b[0;34m!=\u001b[0m \u001b[0msum\u001b[0m\u001b[0;34m(\u001b[0m\u001b[0mrandomized_ligand_negative_degrees\u001b[0m\u001b[0;34m)\u001b[0m\u001b[0;34m:\u001b[0m\u001b[0;34m\u001b[0m\u001b[0m\n\u001b[0m\u001b[1;32m      8\u001b[0m         \u001b[0mrandom_index\u001b[0m \u001b[0;34m=\u001b[0m \u001b[0mnp\u001b[0m\u001b[0;34m.\u001b[0m\u001b[0mrandom\u001b[0m\u001b[0;34m.\u001b[0m\u001b[0mrandint\u001b[0m\u001b[0;34m(\u001b[0m\u001b[0mlen\u001b[0m\u001b[0;34m(\u001b[0m\u001b[0mrandomized_target_negative_degrees\u001b[0m\u001b[0;34m)\u001b[0m\u001b[0;34m)\u001b[0m\u001b[0;34m\u001b[0m\u001b[0m\n\u001b[1;32m      9\u001b[0m         \u001b[0mrandomized_target_negative_degrees\u001b[0m\u001b[0;34m[\u001b[0m\u001b[0mrandom_index\u001b[0m\u001b[0;34m]\u001b[0m \u001b[0;34m=\u001b[0m \u001b[0mrandomized_target_negative_degrees\u001b[0m\u001b[0;34m[\u001b[0m\u001b[0mrandom_index\u001b[0m\u001b[0;34m]\u001b[0m  \u001b[0;34m+\u001b[0m \u001b[0;36m1\u001b[0m\u001b[0;34m\u001b[0m\u001b[0m\n",
      "\u001b[0;31mKeyboardInterrupt\u001b[0m: "
     ]
    }
   ],
   "source": [
    "if sum(randomized_target_negative_degrees) > sum(randomized_ligand_negative_degrees):\n",
    "    while sum(randomized_target_negative_degrees) != sum(randomized_ligand_negative_degrees):\n",
    "        random_index = np.random.randint(len(randomized_target_negative_degrees))\n",
    "        randomized_target_negative_degrees[random_index] = randomized_target_negative_degrees[random_index]  - 1\n",
    "        \n",
    "elif sum(randomized_target_negative_degrees) < sum(randomized_ligand_negative_degrees):\n",
    "    while sum(randomized_target_negative_degrees) != sum(randomized_ligand_negative_degrees):\n",
    "        random_index = np.random.randint(len(randomized_target_negative_degrees))\n",
    "        randomized_target_negative_degrees[random_index] = randomized_target_negative_degrees[random_index]  + 1"
   ]
  },
  {
   "cell_type": "code",
   "execution_count": null,
   "metadata": {
    "hidden": true,
    "scrolled": true
   },
   "outputs": [],
   "source": [
    "count, bins_count = np.histogram(randomized_target_negative_degrees_original,bins=15)\n",
    "pdf = count / sum(count)\n",
    "cdf = np.cumsum(pdf)\n",
    "plt.scatter(bins_count[1:],pdf, label=\"Original\",alpha=0.4,marker='x')\n",
    "\n",
    "count, bins_count = np.histogram(randomized_target_negative_degrees,bins=15)\n",
    "pdf = count / sum(count)\n",
    "cdf = np.cumsum(pdf)\n",
    "plt.scatter(bins_count[1:],pdf, label=\"Adjusted\",alpha=0.4,marker='o')\n",
    "\n",
    "plt.legend()\n",
    "plt.xlabel('Randomized Target Negative Degree')\n",
    "plt.ylabel('pdf')\n",
    "plt.show()"
   ]
  },
  {
   "cell_type": "code",
   "execution_count": 131,
   "metadata": {
    "hidden": true,
    "scrolled": true
   },
   "outputs": [],
   "source": [
    "layer2_randomized = bipartite.configuration_model(randomized_ligand_negative_degrees,randomized_target_negative_degrees,create_using=nx.Graph())"
   ]
  },
  {
   "cell_type": "code",
   "execution_count": 132,
   "metadata": {
    "hidden": true
   },
   "outputs": [
    {
     "data": {
      "text/plain": [
       "True"
      ]
     },
     "execution_count": 132,
     "metadata": {},
     "output_type": "execute_result"
    }
   ],
   "source": [
    "bipartite.is_bipartite(layer2_randomized)"
   ]
  },
  {
   "cell_type": "code",
   "execution_count": 133,
   "metadata": {
    "hidden": true
   },
   "outputs": [],
   "source": [
    "top_nodes = {n for n, d in layer2_randomized.nodes(data=True) if d[\"bipartite\"] == 0}"
   ]
  },
  {
   "cell_type": "code",
   "execution_count": 134,
   "metadata": {
    "hidden": true
   },
   "outputs": [
    {
     "data": {
      "text/plain": [
       "6480"
      ]
     },
     "execution_count": 134,
     "metadata": {},
     "output_type": "execute_result"
    }
   ],
   "source": [
    "len(top_nodes) ## These are ligands"
   ]
  },
  {
   "cell_type": "code",
   "execution_count": 135,
   "metadata": {
    "hidden": true
   },
   "outputs": [],
   "source": [
    "bottom_nodes = set(layer2_randomized) - top_nodes"
   ]
  },
  {
   "cell_type": "code",
   "execution_count": 136,
   "metadata": {
    "hidden": true
   },
   "outputs": [
    {
     "data": {
      "text/plain": [
       "3970"
      ]
     },
     "execution_count": 136,
     "metadata": {},
     "output_type": "execute_result"
    }
   ],
   "source": [
    "len(bottom_nodes) ## These are targets"
   ]
  },
  {
   "cell_type": "markdown",
   "metadata": {},
   "source": [
    "# Duplex Configuration Model"
   ]
  },
  {
   "cell_type": "code",
   "execution_count": 85,
   "metadata": {},
   "outputs": [
    {
     "data": {
      "text/html": [
       "<div>\n",
       "<style scoped>\n",
       "    .dataframe tbody tr th:only-of-type {\n",
       "        vertical-align: middle;\n",
       "    }\n",
       "\n",
       "    .dataframe tbody tr th {\n",
       "        vertical-align: top;\n",
       "    }\n",
       "\n",
       "    .dataframe thead th {\n",
       "        text-align: right;\n",
       "    }\n",
       "</style>\n",
       "<table border=\"1\" class=\"dataframe\">\n",
       "  <thead>\n",
       "    <tr style=\"text-align: right;\">\n",
       "      <th></th>\n",
       "      <th>SMILE</th>\n",
       "      <th>target_aa_code</th>\n",
       "      <th>Y</th>\n",
       "    </tr>\n",
       "  </thead>\n",
       "  <tbody>\n",
       "    <tr>\n",
       "      <th>0</th>\n",
       "      <td>C(CN1CCN(CCN(Cc2ccccc2)c2ccccc2)CC1)Cc1ccccc1</td>\n",
       "      <td>MVSSQKLEKPIEMGSSEPLPIADGDRRRKKKRRGRATDSLPGKFED...</td>\n",
       "      <td>1</td>\n",
       "    </tr>\n",
       "    <tr>\n",
       "      <th>1</th>\n",
       "      <td>C(CN1CCN(CCN(Cc2ccccc2)c2ccccc2)CC1)Cc1ccccc1</td>\n",
       "      <td>MKANLLVLLCALAAADADTICIGYHANNSTDTVDTVLEKNVTVTHS...</td>\n",
       "      <td>1</td>\n",
       "    </tr>\n",
       "    <tr>\n",
       "      <th>2</th>\n",
       "      <td>CN(C1CCCCC1)c1ncnc2[nH]ccc12</td>\n",
       "      <td>MDSPIQIFRGEPGPTCAPSACLPPNSSAWFPGWAEPDSNGSAGSED...</td>\n",
       "      <td>1</td>\n",
       "    </tr>\n",
       "    <tr>\n",
       "      <th>3</th>\n",
       "      <td>CN(C1CCCCC1)c1ncnc2[nH]ccc12</td>\n",
       "      <td>MYDAIVVGGGFSGLKAARDLTNAGKKVLLLEGGERLGGRAYSRESR...</td>\n",
       "      <td>1</td>\n",
       "    </tr>\n",
       "    <tr>\n",
       "      <th>4</th>\n",
       "      <td>CNc1cc(Nc2cccn(C3CC(F)(F)C3)c2=O)nc2c(cnn12)C(...</td>\n",
       "      <td>NPPPPETSNPNKPKRQTNQLQYLLRVVLKTLWKHQFAWPFQQPVDA...</td>\n",
       "      <td>1</td>\n",
       "    </tr>\n",
       "    <tr>\n",
       "      <th>...</th>\n",
       "      <td>...</td>\n",
       "      <td>...</td>\n",
       "      <td>...</td>\n",
       "    </tr>\n",
       "    <tr>\n",
       "      <th>12765743</th>\n",
       "      <td>CCC(C)NC(=O)c1cccc(Cc2cc(Cl)ccc2OCc2ccc(Cl)cc2...</td>\n",
       "      <td>MSVGCPEPEPPRSLTCCGPGTAPGPGAGVPLLTEDMQALTLRTLAA...</td>\n",
       "      <td>0</td>\n",
       "    </tr>\n",
       "    <tr>\n",
       "      <th>12765744</th>\n",
       "      <td>CCC(C)NC(=O)c1cccc(Cc2cc(Cl)ccc2OCc2ccc(Cl)cc2...</td>\n",
       "      <td>MVNLGNAVRSLLMHLIGLLVWQFDISISPVAAIVTDTFNSSDGGRL...</td>\n",
       "      <td>0</td>\n",
       "    </tr>\n",
       "    <tr>\n",
       "      <th>12765745</th>\n",
       "      <td>CCC(C)NC(=O)c1cccc(Cc2cc(Cl)ccc2OCc2ccc(Cl)cc2...</td>\n",
       "      <td>MGKSNSKLKPEVVEELTRKTYFTEKEVQQWYKGFIKDCPSGQLDAA...</td>\n",
       "      <td>0</td>\n",
       "    </tr>\n",
       "    <tr>\n",
       "      <th>12765746</th>\n",
       "      <td>CCC(C)NC(=O)c1cccc(Cc2cc(Cl)ccc2OCc2ccc(Cl)cc2...</td>\n",
       "      <td>MSTMRLLTLALLFSCSVARAACDPKIVNIGAVLSTRKHEQMFREAV...</td>\n",
       "      <td>0</td>\n",
       "    </tr>\n",
       "    <tr>\n",
       "      <th>12765747</th>\n",
       "      <td>CCC(C)NC(=O)c1cccc(Cc2cc(Cl)ccc2OCc2ccc(Cl)cc2...</td>\n",
       "      <td>MRAEGLGGLERFCSPGKGRGLRALQPFQVGDLLFSCPAYAYVLTVN...</td>\n",
       "      <td>0</td>\n",
       "    </tr>\n",
       "  </tbody>\n",
       "</table>\n",
       "<p>12765748 rows × 3 columns</p>\n",
       "</div>"
      ],
      "text/plain": [
       "                                                      SMILE  \\\n",
       "0             C(CN1CCN(CCN(Cc2ccccc2)c2ccccc2)CC1)Cc1ccccc1   \n",
       "1             C(CN1CCN(CCN(Cc2ccccc2)c2ccccc2)CC1)Cc1ccccc1   \n",
       "2                              CN(C1CCCCC1)c1ncnc2[nH]ccc12   \n",
       "3                              CN(C1CCCCC1)c1ncnc2[nH]ccc12   \n",
       "4         CNc1cc(Nc2cccn(C3CC(F)(F)C3)c2=O)nc2c(cnn12)C(...   \n",
       "...                                                     ...   \n",
       "12765743  CCC(C)NC(=O)c1cccc(Cc2cc(Cl)ccc2OCc2ccc(Cl)cc2...   \n",
       "12765744  CCC(C)NC(=O)c1cccc(Cc2cc(Cl)ccc2OCc2ccc(Cl)cc2...   \n",
       "12765745  CCC(C)NC(=O)c1cccc(Cc2cc(Cl)ccc2OCc2ccc(Cl)cc2...   \n",
       "12765746  CCC(C)NC(=O)c1cccc(Cc2cc(Cl)ccc2OCc2ccc(Cl)cc2...   \n",
       "12765747  CCC(C)NC(=O)c1cccc(Cc2cc(Cl)ccc2OCc2ccc(Cl)cc2...   \n",
       "\n",
       "                                             target_aa_code  Y  \n",
       "0         MVSSQKLEKPIEMGSSEPLPIADGDRRRKKKRRGRATDSLPGKFED...  1  \n",
       "1         MKANLLVLLCALAAADADTICIGYHANNSTDTVDTVLEKNVTVTHS...  1  \n",
       "2         MDSPIQIFRGEPGPTCAPSACLPPNSSAWFPGWAEPDSNGSAGSED...  1  \n",
       "3         MYDAIVVGGGFSGLKAARDLTNAGKKVLLLEGGERLGGRAYSRESR...  1  \n",
       "4         NPPPPETSNPNKPKRQTNQLQYLLRVVLKTLWKHQFAWPFQQPVDA...  1  \n",
       "...                                                     ... ..  \n",
       "12765743  MSVGCPEPEPPRSLTCCGPGTAPGPGAGVPLLTEDMQALTLRTLAA...  0  \n",
       "12765744  MVNLGNAVRSLLMHLIGLLVWQFDISISPVAAIVTDTFNSSDGGRL...  0  \n",
       "12765745  MGKSNSKLKPEVVEELTRKTYFTEKEVQQWYKGFIKDCPSGQLDAA...  0  \n",
       "12765746  MSTMRLLTLALLFSCSVARAACDPKIVNIGAVLSTRKHEQMFREAV...  0  \n",
       "12765747  MRAEGLGGLERFCSPGKGRGLRALQPFQVGDLLFSCPAYAYVLTVN...  0  \n",
       "\n",
       "[12765748 rows x 3 columns]"
      ]
     },
     "execution_count": 85,
     "metadata": {},
     "output_type": "execute_result"
    }
   ],
   "source": [
    "randomized_samples"
   ]
  },
  {
   "cell_type": "code",
   "execution_count": 96,
   "metadata": {},
   "outputs": [],
   "source": [
    "from sklearn.model_selection import train_test_split\n",
    "\n",
    "train, test = train_test_split(randomized_samples, test_size=0.3)"
   ]
  },
  {
   "cell_type": "code",
   "execution_count": 144,
   "metadata": {},
   "outputs": [],
   "source": [
    "train.to_csv('../data/original_rho/train.csv')\n",
    "test.to_csv('../data/original_rho/test.csv')"
   ]
  },
  {
   "cell_type": "code",
   "execution_count": 142,
   "metadata": {},
   "outputs": [
    {
     "name": "stderr",
     "output_type": "stream",
     "text": [
      "100%|██████████| 13392/13392 [3:34:11<00:00,  1.04it/s] \n",
      "100%|██████████| 1507/1507 [24:15<00:00,  1.04it/s]\n",
      "100%|██████████| 13392/13392 [00:00<00:00, 1108701.01it/s]\n",
      "100%|██████████| 13392/13392 [00:00<00:00, 1154765.82it/s]\n",
      "100%|██████████| 1507/1507 [00:00<00:00, 1150285.01it/s]\n",
      "100%|██████████| 1507/1507 [00:00<00:00, 1094324.12it/s]\n"
     ]
    }
   ],
   "source": [
    "ligands_degree_dict = dict()\n",
    "\n",
    "for smile_chem in tqdm(ligands):\n",
    "    sum_df = train[train['SMILE'] == smile_chem]\n",
    "    ligands_degree_dict[smile_chem] = dict()\n",
    "    ligands_degree_dict[smile_chem]['deg_0'] = len(sum_df[sum_df['Y'] == 0])\n",
    "    ligands_degree_dict[smile_chem]['deg_1'] = len(sum_df[sum_df['Y'] == 1])\n",
    "    \n",
    "targets_degree_dict = dict()\n",
    "\n",
    "for aa_target in tqdm(targets):\n",
    "    sum_df = train[train['target_aa_code'] == aa_target]\n",
    "    targets_degree_dict[aa_target] = dict()\n",
    "    targets_degree_dict[aa_target]['deg_0'] = len(sum_df[sum_df['Y'] == 0])\n",
    "    targets_degree_dict[aa_target]['deg_1'] = len(sum_df[sum_df['Y'] == 1])\n",
    "    \n",
    "degree_train_1_0_ligands = [ligands_degree_dict[key_val]['deg_1'] for key_val in tqdm(ligands_degree_dict.keys())]\n",
    "degree_train_0_1_ligands = [ligands_degree_dict[key_val]['deg_0'] for key_val in tqdm(ligands_degree_dict.keys())]\n",
    "\n",
    "degree_train_1_0_targets = [targets_degree_dict[key_val]['deg_1'] for key_val in tqdm(targets_degree_dict.keys())]\n",
    "degree_train_0_1_targets = [targets_degree_dict[key_val]['deg_0'] for key_val in tqdm(targets_degree_dict.keys())]"
   ]
  },
  {
   "cell_type": "code",
   "execution_count": 143,
   "metadata": {
    "scrolled": true
   },
   "outputs": [],
   "source": [
    "with open('../data/original_rho/degreetrain10ligands.txt', 'w') as file:\n",
    "    for degree in degree_train_1_0_ligands:\n",
    "        file.write(\"%i\\n\" % degree)\n",
    "        \n",
    "file.close()\n",
    "\n",
    "with open('../data/original_rho/degreetrain01ligands.txt', 'w') as file:\n",
    "    for degree in degree_train_0_1_ligands:\n",
    "        file.write(\"%i\\n\" % degree)\n",
    "        \n",
    "file.close()\n",
    "\n",
    "with open('../data/original_rho/degreetrain10targets.txt', 'w') as file:\n",
    "    for degree in degree_train_1_0_targets:\n",
    "        file.write(\"%i\\n\" % degree)\n",
    "        \n",
    "file.close()\n",
    "\n",
    "with open('../data/original_rho/degreetrain01targets.txt', 'w') as file:\n",
    "    for degree in degree_train_0_1_targets:\n",
    "        file.write(\"%i\\n\" % degree)\n",
    "        \n",
    "file.close()\n",
    "\n",
    "textfile = open(\"../data/original_rho/ligands.txt\", \"w\")\n",
    "for element in ligands:\n",
    "    textfile.write(element + \"\\n\")\n",
    "textfile.close()\n",
    "\n",
    "textfile = open(\"../data/original_rho/targets.txt\", \"w\")\n",
    "for element in targets:\n",
    "    textfile.write(element + \"\\n\")\n",
    "textfile.close()"
   ]
  },
  {
   "cell_type": "code",
   "execution_count": 145,
   "metadata": {},
   "outputs": [],
   "source": [
    "summat10 = np.loadtxt(open(\"../data/original_rho/summat10.csv\", \"rb\"), delimiter=\",\", skiprows=0) # Output of MATLAB run\n",
    "summat01 = np.loadtxt(open(\"../data/original_rho/summat01.csv\", \"rb\"), delimiter=\",\", skiprows=0) # Output of MATLAB run "
   ]
  },
  {
   "cell_type": "code",
   "execution_count": 147,
   "metadata": {
    "scrolled": true
   },
   "outputs": [
    {
     "name": "stderr",
     "output_type": "stream",
     "text": [
      "100%|██████████| 13392/13392 [00:00<00:00, 362743.59it/s]\n",
      "100%|██████████| 1507/1507 [00:00<00:00, 356664.94it/s]\n"
     ]
    }
   ],
   "source": [
    "train_pos = train[train['Y'] == 1]\n",
    "train_neg = train[train['Y'] == 0]\n",
    "\n",
    "pos_deg_0_ligands = []\n",
    "pos_deg_0_targets = []\n",
    "neg_deg_0_ligands = []\n",
    "neg_deg_0_targets = []\n",
    "\n",
    "ligand_degree_ratio = dict()\n",
    "ligand_all_average = []\n",
    "\n",
    "for ligand in tqdm(ligands):\n",
    "    pos_deg = ligands_degree_dict[ligand]['deg_1']\n",
    "    neg_deg = ligands_degree_dict[ligand]['deg_0']\n",
    "    if pos_deg + neg_deg != 0:\n",
    "        ligand_degree_ratio[ligand] = dict()\n",
    "        ligand_degree_ratio[ligand]['deg_ratio'] = pos_deg / (pos_deg + neg_deg)\n",
    "        ligand_degree_ratio[ligand]['deg_avg'] = pos_deg / len(targets) \n",
    "        ligand_all_average.append(pos_deg / len(targets))\n",
    "    if pos_deg == 0:\n",
    "        pos_deg_0_ligands.append(ligand)\n",
    "    if neg_deg == 0:\n",
    "        neg_deg_0_ligands.append(ligand)\n",
    "    \n",
    "ligands_all_avg = sum(ligand_all_average) / len(ligands)\n",
    "\n",
    "targets_degree_ratio = dict()\n",
    "target_all_average = []\n",
    "\n",
    "for target in tqdm(targets):\n",
    "    pos_deg = targets_degree_dict[target]['deg_1']\n",
    "    neg_deg = targets_degree_dict[target]['deg_0']\n",
    "    if pos_deg + neg_deg != 0:\n",
    "        targets_degree_ratio[target] = dict()\n",
    "        targets_degree_ratio[target]['deg_ratio'] = pos_deg / (pos_deg + neg_deg)\n",
    "        targets_degree_ratio[target]['deg_avg'] = pos_deg / len(ligands)\n",
    "        target_all_average.append(pos_deg / len(ligands))\n",
    "    if pos_deg == 0:\n",
    "        pos_deg_0_targets.append(target)\n",
    "    if neg_deg == 0:\n",
    "        neg_deg_0_targets.append(target)\n",
    "    \n",
    "targets_all_avg = sum(target_all_average) / len(targets)"
   ]
  },
  {
   "cell_type": "code",
   "execution_count": 148,
   "metadata": {
    "scrolled": true
   },
   "outputs": [],
   "source": [
    "## Annotated means the node has at least 1 binding information\n",
    "\n",
    "pos_annotated_ligands = list(set(ligands)-set(pos_deg_0_ligands))\n",
    "pos_annotated_targets = list(set(targets)-set(pos_deg_0_targets))\n",
    "\n",
    "neg_annotated_ligands = list(set(ligands)-set(neg_deg_0_ligands))\n",
    "neg_annotated_targets = list(set(targets)-set(neg_deg_0_targets))"
   ]
  },
  {
   "cell_type": "code",
   "execution_count": 149,
   "metadata": {
    "scrolled": true
   },
   "outputs": [
    {
     "name": "stderr",
     "output_type": "stream",
     "text": [
      "3829725it [33:03, 1931.16it/s]\n"
     ]
    }
   ],
   "source": [
    "test_probabilty_predicted_conditioned = []\n",
    "\n",
    "## Average conditional probability\n",
    "p10_avg = np.mean(summat10)\n",
    "p01_avg = np.mean(summat01)\n",
    "average_conditional_probability = p10_avg / (p10_avg + p01_avg)\n",
    "\n",
    "for index, row in tqdm(test.iterrows()):      \n",
    "    \n",
    "    if row['SMILE'] in pos_annotated_ligands and row['target_aa_code'] in pos_annotated_targets:\n",
    "        p10 = summat10[ligands.index(row['SMILE']),targets.index(row['target_aa_code'])]\n",
    "        p01 = summat01[ligands.index(row['SMILE']),targets.index(row['target_aa_code'])]\n",
    "        p10_conditioned = p10 / (p10 + p01)\n",
    "        test_probabilty_predicted_conditioned.append(p10_conditioned)\n",
    "        \n",
    "    elif row['SMILE'] in pos_annotated_ligands and row['target_aa_code'] not in pos_annotated_targets:\n",
    "        p10_conditioned = ligand_degree_ratio[row['SMILE']]['deg_ratio']  ## k_+ / (k_+ + k_-)\n",
    "        test_probabilty_predicted_conditioned.append(p10_conditioned)\n",
    "        \n",
    "    elif row['SMILE'] not in pos_annotated_ligands and row['target_aa_code'] in pos_annotated_targets:\n",
    "        p10_conditioned = targets_degree_ratio[row['target_aa_code']]['deg_ratio'] ## k_+ / (k_+ + k_-)\n",
    "        test_probabilty_predicted_conditioned.append(p10_conditioned)\n",
    "\n",
    "    else:\n",
    "        p10_conditioned = average_conditional_probability\n",
    "        test_probabilty_predicted_conditioned.append(p10_conditioned)\n",
    "        "
   ]
  },
  {
   "cell_type": "code",
   "execution_count": 152,
   "metadata": {},
   "outputs": [
    {
     "name": "stdout",
     "output_type": "stream",
     "text": [
      "AUC:  0.4962187716694196\n",
      "AUP:  0.0008934112192457443\n"
     ]
    }
   ],
   "source": [
    "## Performance on the test dataset\n",
    "\n",
    "print('AUC: ', roc_auc_score(test['Y'].tolist(), test_probabilty_predicted_conditioned))\n",
    "print('AUP: ', average_precision_score(test['Y'].tolist(), test_probabilty_predicted_conditioned))"
   ]
  },
  {
   "cell_type": "code",
   "execution_count": 153,
   "metadata": {},
   "outputs": [
    {
     "name": "stderr",
     "output_type": "stream",
     "text": [
      "/miniconda/lib/python3.6/site-packages/ipykernel_launcher.py:1: SettingWithCopyWarning: \n",
      "A value is trying to be set on a copy of a slice from a DataFrame.\n",
      "Try using .loc[row_indexer,col_indexer] = value instead\n",
      "\n",
      "See the caveats in the documentation: https://pandas.pydata.org/pandas-docs/stable/user_guide/indexing.html#returning-a-view-versus-a-copy\n",
      "  \"\"\"Entry point for launching an IPython kernel.\n"
     ]
    },
    {
     "name": "stdout",
     "output_type": "stream",
     "text": [
      "Seen ligands:  13392\n",
      "Seen targets:  1507\n",
      "Unseen ligands:  0\n",
      "Unseen targets:  0\n"
     ]
    }
   ],
   "source": [
    "test['test_probabilty_predicted_conditioned'] = test_probabilty_predicted_conditioned\n",
    "\n",
    "train_ligands = list(set(train['SMILE'].tolist()))\n",
    "train_targets = list(set(train['target_aa_code'].tolist()))\n",
    "\n",
    "test_minus_train_ligands = list(set(test['SMILE'].tolist()).difference(train_ligands))\n",
    "test_minus_train_targets = list(set(test['target_aa_code'].tolist()).difference(train_targets))\n",
    "\n",
    "print('Seen ligands: ', len(train_ligands))\n",
    "print('Seen targets: ', len(train_targets))\n",
    "print('Unseen ligands: ', len(test_minus_train_ligands))\n",
    "print('Unseen targets: ', len(test_minus_train_targets))"
   ]
  },
  {
   "cell_type": "code",
   "execution_count": null,
   "metadata": {},
   "outputs": [],
   "source": []
  }
 ],
 "metadata": {
  "kernelspec": {
   "display_name": "Python 3",
   "language": "python",
   "name": "python3"
  },
  "language_info": {
   "codemirror_mode": {
    "name": "ipython",
    "version": 3
   },
   "file_extension": ".py",
   "mimetype": "text/x-python",
   "name": "python",
   "nbconvert_exporter": "python",
   "pygments_lexer": "ipython3",
   "version": "3.6.6"
  },
  "toc": {
   "base_numbering": 1,
   "nav_menu": {},
   "number_sections": true,
   "sideBar": true,
   "skip_h1_title": false,
   "title_cell": "Table of Contents",
   "title_sidebar": "Contents",
   "toc_cell": false,
   "toc_position": {},
   "toc_section_display": true,
   "toc_window_display": false
  }
 },
 "nbformat": 4,
 "nbformat_minor": 4
}
