{
 "cells": [
  {
   "cell_type": "markdown",
   "metadata": {
    "heading_collapsed": true
   },
   "source": [
    "# Imports and Custom Functions"
   ]
  },
  {
   "cell_type": "code",
   "execution_count": 1,
   "metadata": {
    "hidden": true
   },
   "outputs": [],
   "source": [
    "import matplotlib.pyplot as plt\n",
    "from tqdm import tqdm\n",
    "import pandas as pd\n",
    "from matplotlib.pyplot import figure\n",
    "import numpy as np\n",
    "import networkx as nx\n",
    "from networkx.algorithms import bipartite\n",
    "from sklearn.metrics import confusion_matrix, f1_score, classification_report\n",
    "from sklearn.metrics import roc_curve, roc_auc_score, precision_recall_curve, average_precision_score\n",
    "from sklearn.metrics import confusion_matrix, f1_score, classification_report\n",
    "from scipy import stats\n",
    "import seaborn as sns\n",
    "import powerlaw\n",
    "from scipy.stats import poisson\n",
    "#import tensorflow as tf\n",
    "#tf.enable_v2_behavior()\n",
    "\n",
    "#import tensorflow_probability as tfp\n",
    "#tfd = tfp.distributions\n",
    "#tfb = tfp.bijectors"
   ]
  },
  {
   "cell_type": "code",
   "execution_count": 2,
   "metadata": {
    "hidden": true
   },
   "outputs": [],
   "source": [
    "def closest(lst, K):\n",
    "    \n",
    "    number = lst[min(range(len(lst)), key = lambda i: abs(lst[i]-K))]\n",
    "    \n",
    "    if abs(number-K) >= 3:\n",
    "        print('Not close enough: ', int(abs(number-K)))\n",
    "    \n",
    "    # number_index = np.random.choice(get_all_indices(lst,number))\n",
    "      \n",
    "    return get_all_indices(lst,number) # number_index"
   ]
  },
  {
   "cell_type": "code",
   "execution_count": 3,
   "metadata": {
    "hidden": true
   },
   "outputs": [],
   "source": [
    "def get_all_indices(mylist,myval):\n",
    "    \n",
    "    all_indices = []\n",
    "    \n",
    "    for i in range(len(mylist)):\n",
    "        if mylist[i] == myval:\n",
    "            all_indices.append(i)\n",
    "            \n",
    "    return all_indices"
   ]
  },
  {
   "cell_type": "code",
   "execution_count": 4,
   "metadata": {
    "hidden": true
   },
   "outputs": [],
   "source": [
    "def remove_zeros_distribution(X):\n",
    "\n",
    "    return [i for i in X if i != 0]\n",
    "\n",
    "def log_binning_distribution(x_i,B = 20): \n",
    "    \n",
    "    x_i = remove_zeros_distribution(x_i)\n",
    "\n",
    "    b_1 = min(x_i)\n",
    "    b_Bp1 = max(x_i)\n",
    "    q_1 = np.log(b_1)\n",
    "    q_Bp1 = np.log(b_Bp1)\n",
    "    D_q = q_Bp1 - q_1\n",
    "    L_q = D_q / B\n",
    "\n",
    "    q_list = []\n",
    "    b_list = []\n",
    "\n",
    "    for i in range(B):\n",
    "        j = i + 1\n",
    "        q_list.append(q_1 + (j-1)*L_q)\n",
    "        b_list.append(np.exp(q_1 + (j-1)*L_q))\n",
    "\n",
    "    # b_list.insert(0,b_1)\n",
    "    # b_list.append(b_Bp1)\n",
    "    \n",
    "    binned_x_i = []\n",
    "    density_list = []\n",
    "\n",
    "    for i in range(len(b_list)-1):\n",
    "        bin_low = b_list[i]\n",
    "        bin_high = b_list[i+1]\n",
    "        count_bin = 0\n",
    "        for j in range(len(x_i)):\n",
    "            if x_i[j] >= bin_low and x_i[j] < bin_high:\n",
    "                count_bin = count_bin + 1\n",
    "                \n",
    "        if count_bin > 0:\n",
    "            density_bin = count_bin / (len(x_i)*(bin_high-bin_low))\n",
    "            density_list.append(density_bin)\n",
    "            binned_x_i.append(bin_low)\n",
    "        else:\n",
    "            continue \n",
    "            \n",
    "    return binned_x_i, density_list"
   ]
  },
  {
   "cell_type": "markdown",
   "metadata": {},
   "source": [
    "# Analysis of BindingDB Kd"
   ]
  },
  {
   "cell_type": "code",
   "execution_count": 5,
   "metadata": {
    "scrolled": true
   },
   "outputs": [
    {
     "name": "stderr",
     "output_type": "stream",
     "text": [
      "b'Skipping line 896772: expected 193 fields, saw 205\\nSkipping line 896798: expected 193 fields, saw 205\\n'\n",
      "b'Skipping line 929491: expected 193 fields, saw 205\\n'\n",
      "b'Skipping line 952161: expected 193 fields, saw 265\\n'\n",
      "b'Skipping line 1355895: expected 193 fields, saw 241\\n'\n",
      "b'Skipping line 1469800: expected 193 fields, saw 241\\nSkipping line 1469801: expected 193 fields, saw 241\\nSkipping line 1469802: expected 193 fields, saw 241\\nSkipping line 1469803: expected 193 fields, saw 241\\nSkipping line 1469804: expected 193 fields, saw 241\\nSkipping line 1469805: expected 193 fields, saw 241\\nSkipping line 1469806: expected 193 fields, saw 241\\nSkipping line 1469807: expected 193 fields, saw 241\\nSkipping line 1469808: expected 193 fields, saw 241\\n'\n",
      "b'Skipping line 1483073: expected 193 fields, saw 205\\n'\n",
      "b'Skipping line 1502296: expected 193 fields, saw 241\\nSkipping line 1502297: expected 193 fields, saw 241\\nSkipping line 1502298: expected 193 fields, saw 241\\nSkipping line 1502299: expected 193 fields, saw 241\\nSkipping line 1502300: expected 193 fields, saw 241\\nSkipping line 1502301: expected 193 fields, saw 241\\nSkipping line 1502302: expected 193 fields, saw 241\\nSkipping line 1502303: expected 193 fields, saw 241\\nSkipping line 1502304: expected 193 fields, saw 241\\n'\n",
      "b'Skipping line 1541474: expected 193 fields, saw 205\\n'\n",
      "b'Skipping line 1927945: expected 193 fields, saw 265\\n'\n",
      "b'Skipping line 2015166: expected 193 fields, saw 265\\nSkipping line 2015167: expected 193 fields, saw 265\\nSkipping line 2015168: expected 193 fields, saw 265\\nSkipping line 2015169: expected 193 fields, saw 265\\nSkipping line 2015170: expected 193 fields, saw 265\\nSkipping line 2015171: expected 193 fields, saw 265\\nSkipping line 2015172: expected 193 fields, saw 265\\nSkipping line 2015173: expected 193 fields, saw 265\\nSkipping line 2015174: expected 193 fields, saw 265\\nSkipping line 2015175: expected 193 fields, saw 265\\nSkipping line 2015176: expected 193 fields, saw 265\\nSkipping line 2015177: expected 193 fields, saw 265\\nSkipping line 2015178: expected 193 fields, saw 265\\nSkipping line 2015179: expected 193 fields, saw 265\\nSkipping line 2015180: expected 193 fields, saw 265\\nSkipping line 2015181: expected 193 fields, saw 265\\nSkipping line 2015182: expected 193 fields, saw 265\\nSkipping line 2015183: expected 193 fields, saw 265\\nSkipping line 2015184: expected 193 fields, saw 265\\n'\n",
      "b'Skipping line 2015802: expected 193 fields, saw 265\\nSkipping line 2015803: expected 193 fields, saw 265\\nSkipping line 2015804: expected 193 fields, saw 265\\nSkipping line 2015805: expected 193 fields, saw 265\\nSkipping line 2015806: expected 193 fields, saw 265\\nSkipping line 2015807: expected 193 fields, saw 265\\nSkipping line 2015808: expected 193 fields, saw 265\\n'\n",
      "b'Skipping line 2027219: expected 193 fields, saw 265\\nSkipping line 2027220: expected 193 fields, saw 265\\nSkipping line 2027221: expected 193 fields, saw 265\\nSkipping line 2027222: expected 193 fields, saw 265\\nSkipping line 2027223: expected 193 fields, saw 265\\nSkipping line 2027224: expected 193 fields, saw 265\\nSkipping line 2027225: expected 193 fields, saw 265\\nSkipping line 2027226: expected 193 fields, saw 265\\nSkipping line 2027227: expected 193 fields, saw 265\\nSkipping line 2027228: expected 193 fields, saw 265\\nSkipping line 2027229: expected 193 fields, saw 265\\nSkipping line 2027230: expected 193 fields, saw 265\\nSkipping line 2027231: expected 193 fields, saw 265\\nSkipping line 2027232: expected 193 fields, saw 265\\nSkipping line 2027233: expected 193 fields, saw 265\\nSkipping line 2027234: expected 193 fields, saw 265\\nSkipping line 2027235: expected 193 fields, saw 265\\nSkipping line 2027236: expected 193 fields, saw 265\\nSkipping line 2027237: expected 193 fields, saw 265\\nSkipping line 2027238: expected 193 fields, saw 265\\nSkipping line 2027239: expected 193 fields, saw 265\\nSkipping line 2027240: expected 193 fields, saw 265\\nSkipping line 2027241: expected 193 fields, saw 265\\nSkipping line 2027242: expected 193 fields, saw 265\\nSkipping line 2027243: expected 193 fields, saw 265\\nSkipping line 2027244: expected 193 fields, saw 265\\nSkipping line 2027245: expected 193 fields, saw 265\\nSkipping line 2027246: expected 193 fields, saw 265\\nSkipping line 2027247: expected 193 fields, saw 265\\nSkipping line 2027248: expected 193 fields, saw 265\\nSkipping line 2027249: expected 193 fields, saw 265\\nSkipping line 2027250: expected 193 fields, saw 265\\nSkipping line 2027251: expected 193 fields, saw 265\\nSkipping line 2027252: expected 193 fields, saw 265\\nSkipping line 2027253: expected 193 fields, saw 265\\nSkipping line 2027254: expected 193 fields, saw 265\\nSkipping line 2027255: expected 193 fields, saw 265\\nSkipping line 2027256: expected 193 fields, saw 265\\nSkipping line 2027257: expected 193 fields, saw 265\\n'\n",
      "b'Skipping line 2029854: expected 193 fields, saw 265\\nSkipping line 2029855: expected 193 fields, saw 265\\nSkipping line 2029856: expected 193 fields, saw 265\\nSkipping line 2029857: expected 193 fields, saw 265\\nSkipping line 2029858: expected 193 fields, saw 265\\nSkipping line 2029859: expected 193 fields, saw 265\\nSkipping line 2029860: expected 193 fields, saw 265\\nSkipping line 2029861: expected 193 fields, saw 265\\n'\n",
      "b'Skipping line 2042409: expected 193 fields, saw 313\\n'\n",
      "b'Skipping line 2059953: expected 193 fields, saw 637\\n'\n",
      "/miniconda/lib/python3.6/site-packages/IPython/core/interactiveshell.py:3063: DtypeWarning: Columns (8,9,10,11,12,13,15,17,18,19,20,26,27,31,32,34,35,46,49,50,51,52,53,54,61,62,63,64,65,66,73,74,75,76,77,78,85,86,87,88,89,90,97,98,99,100,101,102,109,110,111,112,113,114,121,122,123,124,125,126,133,134,135,136,137,138,145,147,148,149,150,157,158,159,160,161,162,169,171,172,173,174) have mixed types.Specify dtype option on import or set low_memory=False.\n",
      "  interactivity=interactivity, compiler=compiler, result=result)\n"
     ]
    },
    {
     "name": "stdout",
     "output_type": "stream",
     "text": [
      "There are 70750 drug target pairs.\n"
     ]
    },
    {
     "data": {
      "image/png": "[encoded data removed]",
      "text/plain": [
       "<Figure size 432x288 with 1 Axes>"
      ]
     },
     "metadata": {
      "needs_background": "light"
     },
     "output_type": "display_data"
    }
   ],
   "source": [
    "df = pd.read_csv('/home/sars-busters-consolidated/data/BindingDB_All.tsv', sep = '\\t', error_bad_lines=False)\n",
    "\n",
    "df = df[df['Number of Protein Chains in Target (>1 implies a multichain complex)'] == 1.0]\n",
    "df = df[df['Ligand SMILES'].notnull()]\n",
    "\n",
    "idx_str = 'Kd (nM)'\n",
    "\n",
    "df_want = df[df[idx_str].notnull()]\n",
    "df_want = df_want[['BindingDB Reactant_set_id', 'Ligand InChI', 'Ligand SMILES',\\\n",
    "                    'PubChem CID', 'UniProt (SwissProt) Primary ID of Target Chain',\\\n",
    "                    'BindingDB Target Chain  Sequence', idx_str]]\n",
    "\n",
    "df_want.rename(columns={'BindingDB Reactant_set_id':'ID', 'Ligand SMILES':'SMILES',\\\n",
    "                        'Ligand InChI':'InChI', 'PubChem CID':'PubChem_ID',\n",
    "                        'UniProt (SwissProt) Primary ID of Target Chain':'UniProt_ID',\n",
    "                        'BindingDB Target Chain  Sequence': 'Target Sequence',\n",
    "                            idx_str: 'Label'}, inplace=True)\n",
    "\n",
    "df_want['Label'] = df_want['Label'].str.replace('>', '')\n",
    "df_want['Label'] = df_want['Label'].str.replace('<', '')\n",
    "df_want['Label'] = df_want['Label'].astype(float)\n",
    "\n",
    "# have at least uniprot or pubchem ID\n",
    "df_want = df_want[df_want.PubChem_ID.notnull() | df_want.UniProt_ID.notnull()]\n",
    "df_want = df_want[df_want.InChI.notnull()]\n",
    "\n",
    "df_want = df_want[df_want.Label <= 10000000.0]\n",
    "print('There are ' + str(len(df_want)) + ' drug target pairs.')\n",
    "\n",
    "kd_list = list(df_want.Label.values)\n",
    "\n",
    "ax = sns.distplot(np.log10(remove_zeros_distribution(kd_list)), norm_hist=True)\n",
    "ax.set(xlabel='log Kd', ylabel='pdf')\n",
    "plt.show()"
   ]
  },
  {
   "cell_type": "code",
   "execution_count": 72,
   "metadata": {
    "scrolled": false
   },
   "outputs": [
    {
     "data": {
      "text/plain": [
       "Text(0, 0.5, 'PDF')"
      ]
     },
     "execution_count": 72,
     "metadata": {},
     "output_type": "execute_result"
    },
    {
     "data": {
      "image/png": "[encoded data removed]",
      "text/plain": [
       "<Figure size 640x480 with 1 Axes>"
      ]
     },
     "metadata": {
      "needs_background": "light"
     },
     "output_type": "display_data"
    }
   ],
   "source": [
    "figure(figsize=(8, 6), dpi=80)\n",
    "sns.distplot(np.log(remove_zeros_distribution(kd_list)), norm_hist=True)\n",
    "plt.axvline(x=np.log(30),color='green',linestyle='dashed')\n",
    "plt.xlabel(r'$log K_d$')\n",
    "plt.ylabel('PDF')"
   ]
  },
  {
   "cell_type": "markdown",
   "metadata": {},
   "source": [
    "# Randomzing the whole bipartite network"
   ]
  },
  {
   "cell_type": "code",
   "execution_count": 6,
   "metadata": {},
   "outputs": [],
   "source": [
    "#threshold = 30 # in nM\n",
    "\n",
    "df_want_Kd = df_want[['SMILES','Target Sequence','Label']]\n",
    "#df_want_Kd['Kd'] = df_want.Label.values\n",
    "#df_want_Kd['Label'] = [1 if x<threshold else 0 for x in kd_list]"
   ]
  },
  {
   "cell_type": "code",
   "execution_count": 7,
   "metadata": {},
   "outputs": [
    {
     "data": {
      "text/html": [
       "<div>\n",
       "<style scoped>\n",
       "    .dataframe tbody tr th:only-of-type {\n",
       "        vertical-align: middle;\n",
       "    }\n",
       "\n",
       "    .dataframe tbody tr th {\n",
       "        vertical-align: top;\n",
       "    }\n",
       "\n",
       "    .dataframe thead th {\n",
       "        text-align: right;\n",
       "    }\n",
       "</style>\n",
       "<table border=\"1\" class=\"dataframe\">\n",
       "  <thead>\n",
       "    <tr style=\"text-align: right;\">\n",
       "      <th></th>\n",
       "      <th>SMILES</th>\n",
       "      <th>Target Sequence</th>\n",
       "      <th>Label</th>\n",
       "    </tr>\n",
       "  </thead>\n",
       "  <tbody>\n",
       "    <tr>\n",
       "      <th>21470</th>\n",
       "      <td>Cc1ccc(CNS(=O)(=O)c2ccc(s2)S(N)(=O)=O)cc1</td>\n",
       "      <td>MSHHWGYGKHNGPEHWHKDFPIAKGERQSPVDIDTHTAKYDPSLKP...</td>\n",
       "      <td>0.46</td>\n",
       "    </tr>\n",
       "    <tr>\n",
       "      <th>21471</th>\n",
       "      <td>COc1ccc(CNS(=O)(=O)c2ccc(s2)S(N)(=O)=O)cc1</td>\n",
       "      <td>MSHHWGYGKHNGPEHWHKDFPIAKGERQSPVDIDTHTAKYDPSLKP...</td>\n",
       "      <td>0.49</td>\n",
       "    </tr>\n",
       "    <tr>\n",
       "      <th>21472</th>\n",
       "      <td>NS(=O)(=O)c1ccc(s1)S(=O)(=O)NCc1cccs1</td>\n",
       "      <td>MSHHWGYGKHNGPEHWHKDFPIAKGERQSPVDIDTHTAKYDPSLKP...</td>\n",
       "      <td>0.83</td>\n",
       "    </tr>\n",
       "    <tr>\n",
       "      <th>21473</th>\n",
       "      <td>NS(=O)(=O)c1cc2C(O)CN(Cc3cccs3)S(=O)(=O)c2s1</td>\n",
       "      <td>MSHHWGYGKHNGPEHWHKDFPIAKGERQSPVDIDTHTAKYDPSLKP...</td>\n",
       "      <td>0.20</td>\n",
       "    </tr>\n",
       "    <tr>\n",
       "      <th>21474</th>\n",
       "      <td>COc1ccc(cc1)N1CC(O)c2cc(sc2S1(=O)=O)S(N)(=O)=O</td>\n",
       "      <td>MSHHWGYGKHNGPEHWHKDFPIAKGERQSPVDIDTHTAKYDPSLKP...</td>\n",
       "      <td>0.16</td>\n",
       "    </tr>\n",
       "    <tr>\n",
       "      <th>...</th>\n",
       "      <td>...</td>\n",
       "      <td>...</td>\n",
       "      <td>...</td>\n",
       "    </tr>\n",
       "    <tr>\n",
       "      <th>2077352</th>\n",
       "      <td>CCCC(=O)c1ccc2Sc3ccccc3N(CCCN3CCN(C)CC3)c2c1</td>\n",
       "      <td>MKWVTFISLLLLFSSAYSRGVFRRDTHKSEIAHRFKDLGEEHFKGL...</td>\n",
       "      <td>16600.00</td>\n",
       "    </tr>\n",
       "    <tr>\n",
       "      <th>2077353</th>\n",
       "      <td>OCCN1CCN(CCCN2c3ccccc3Sc3ccc(Cl)cc23)CC1</td>\n",
       "      <td>MKWVTFISLLLLFSSAYSRGVFRRDTHKSEIAHRFKDLGEEHFKGL...</td>\n",
       "      <td>63100.00</td>\n",
       "    </tr>\n",
       "    <tr>\n",
       "      <th>2077354</th>\n",
       "      <td>CN(C)CCCN1c2ccccc2Sc2ccc(cc12)C#N</td>\n",
       "      <td>MKWVTFISLLLLFSSAYSRGVFRRDTHKSEIAHRFKDLGEEHFKGL...</td>\n",
       "      <td>34700.00</td>\n",
       "    </tr>\n",
       "    <tr>\n",
       "      <th>2077355</th>\n",
       "      <td>OCCN1CCN(CCCN2c3ccccc3Sc3ccc(cc23)C(F)(F)F)CC1</td>\n",
       "      <td>MKWVTFISLLLLFSSAYSRGVFRRDTHKSEIAHRFKDLGEEHFKGL...</td>\n",
       "      <td>38900.00</td>\n",
       "    </tr>\n",
       "    <tr>\n",
       "      <th>2077356</th>\n",
       "      <td>CC(CN1CCN(CCOCCO)CC1)CN1c2ccccc2Sc2ccccc12</td>\n",
       "      <td>MKWVTFISLLLLFSSAYSRGVFRRDTHKSEIAHRFKDLGEEHFKGL...</td>\n",
       "      <td>61700.00</td>\n",
       "    </tr>\n",
       "  </tbody>\n",
       "</table>\n",
       "<p>70750 rows × 3 columns</p>\n",
       "</div>"
      ],
      "text/plain": [
       "                                                 SMILES  \\\n",
       "21470         Cc1ccc(CNS(=O)(=O)c2ccc(s2)S(N)(=O)=O)cc1   \n",
       "21471        COc1ccc(CNS(=O)(=O)c2ccc(s2)S(N)(=O)=O)cc1   \n",
       "21472             NS(=O)(=O)c1ccc(s1)S(=O)(=O)NCc1cccs1   \n",
       "21473      NS(=O)(=O)c1cc2C(O)CN(Cc3cccs3)S(=O)(=O)c2s1   \n",
       "21474    COc1ccc(cc1)N1CC(O)c2cc(sc2S1(=O)=O)S(N)(=O)=O   \n",
       "...                                                 ...   \n",
       "2077352    CCCC(=O)c1ccc2Sc3ccccc3N(CCCN3CCN(C)CC3)c2c1   \n",
       "2077353        OCCN1CCN(CCCN2c3ccccc3Sc3ccc(Cl)cc23)CC1   \n",
       "2077354               CN(C)CCCN1c2ccccc2Sc2ccc(cc12)C#N   \n",
       "2077355  OCCN1CCN(CCCN2c3ccccc3Sc3ccc(cc23)C(F)(F)F)CC1   \n",
       "2077356      CC(CN1CCN(CCOCCO)CC1)CN1c2ccccc2Sc2ccccc12   \n",
       "\n",
       "                                           Target Sequence     Label  \n",
       "21470    MSHHWGYGKHNGPEHWHKDFPIAKGERQSPVDIDTHTAKYDPSLKP...      0.46  \n",
       "21471    MSHHWGYGKHNGPEHWHKDFPIAKGERQSPVDIDTHTAKYDPSLKP...      0.49  \n",
       "21472    MSHHWGYGKHNGPEHWHKDFPIAKGERQSPVDIDTHTAKYDPSLKP...      0.83  \n",
       "21473    MSHHWGYGKHNGPEHWHKDFPIAKGERQSPVDIDTHTAKYDPSLKP...      0.20  \n",
       "21474    MSHHWGYGKHNGPEHWHKDFPIAKGERQSPVDIDTHTAKYDPSLKP...      0.16  \n",
       "...                                                    ...       ...  \n",
       "2077352  MKWVTFISLLLLFSSAYSRGVFRRDTHKSEIAHRFKDLGEEHFKGL...  16600.00  \n",
       "2077353  MKWVTFISLLLLFSSAYSRGVFRRDTHKSEIAHRFKDLGEEHFKGL...  63100.00  \n",
       "2077354  MKWVTFISLLLLFSSAYSRGVFRRDTHKSEIAHRFKDLGEEHFKGL...  34700.00  \n",
       "2077355  MKWVTFISLLLLFSSAYSRGVFRRDTHKSEIAHRFKDLGEEHFKGL...  38900.00  \n",
       "2077356  MKWVTFISLLLLFSSAYSRGVFRRDTHKSEIAHRFKDLGEEHFKGL...  61700.00  \n",
       "\n",
       "[70750 rows x 3 columns]"
      ]
     },
     "execution_count": 7,
     "metadata": {},
     "output_type": "execute_result"
    }
   ],
   "source": [
    "df_want_Kd"
   ]
  },
  {
   "cell_type": "code",
   "execution_count": 8,
   "metadata": {},
   "outputs": [
    {
     "name": "stderr",
     "output_type": "stream",
     "text": [
      "100%|██████████| 70750/70750 [00:00<00:00, 1598826.57it/s]\n"
     ]
    }
   ],
   "source": [
    "threshold = 30 \n",
    "\n",
    "df_want_Kd_binary = pd.DataFrame(df_want_Kd)\n",
    "df_want_Kd_binary['Label'] = [1 if x < threshold else 0 for x in tqdm(df_want_Kd['Label'].tolist())]"
   ]
  },
  {
   "cell_type": "code",
   "execution_count": 9,
   "metadata": {},
   "outputs": [],
   "source": [
    "ligands = list(set(df_want_Kd_binary['SMILES'].tolist()))\n",
    "targets = list(set(df_want_Kd_binary['Target Sequence'].tolist()))"
   ]
  },
  {
   "cell_type": "code",
   "execution_count": 10,
   "metadata": {},
   "outputs": [
    {
     "name": "stderr",
     "output_type": "stream",
     "text": [
      "100%|██████████| 1507/1507 [00:12<00:00, 119.19it/s]\n"
     ]
    }
   ],
   "source": [
    "target_annotations_bindingDB = []\n",
    "target_pos_degree_bindingDB = []\n",
    "target_neg_degree_bindingDB = []\n",
    "target_degree_ratio_bindingDB = []\n",
    "\n",
    "for prot in tqdm(targets):\n",
    "    sub_df = df_want_Kd_binary[df_want_Kd_binary['Target Sequence'] == prot]\n",
    "    target_annotations_bindingDB.append(len(sub_df))\n",
    "    target_pos_degree_bindingDB.append(sub_df['Label'].tolist().count(1))\n",
    "    target_neg_degree_bindingDB.append(sub_df['Label'].tolist().count(0))\n",
    "    target_degree_ratio_bindingDB.append(sub_df['Label'].tolist().count(1)/(sub_df['Label'].tolist().count(1)+sub_df['Label'].tolist().count(0)))"
   ]
  },
  {
   "cell_type": "code",
   "execution_count": 11,
   "metadata": {},
   "outputs": [],
   "source": [
    "# p_connection_layer = sum(target_annotations_bindingDB) / (len(targets) * (len(targets)-1))"
   ]
  },
  {
   "cell_type": "code",
   "execution_count": 12,
   "metadata": {},
   "outputs": [],
   "source": [
    "# randomized_combined_unipartite = nx.fast_gnp_random_graph(len(targets), p_connection_layer)\n",
    "randomized_combined_unipartite = nx.configuration_model(target_annotations_bindingDB, create_using=nx.Graph())"
   ]
  },
  {
   "cell_type": "code",
   "execution_count": 13,
   "metadata": {},
   "outputs": [],
   "source": [
    "randomized_combined_unipartite = nx.Graph(randomized_combined_unipartite)"
   ]
  },
  {
   "cell_type": "code",
   "execution_count": 14,
   "metadata": {
    "scrolled": true
   },
   "outputs": [
    {
     "data": {
      "text/plain": [
       "28726"
      ]
     },
     "execution_count": 14,
     "metadata": {},
     "output_type": "execute_result"
    }
   ],
   "source": [
    "randomized_combined_unipartite.number_of_edges()"
   ]
  },
  {
   "cell_type": "markdown",
   "metadata": {},
   "source": [
    "# Target Annotaions and Kd"
   ]
  },
  {
   "cell_type": "code",
   "execution_count": 15,
   "metadata": {},
   "outputs": [],
   "source": [
    "df_want_Kd = df_want[['SMILES','Target Sequence','Label']]"
   ]
  },
  {
   "cell_type": "code",
   "execution_count": 16,
   "metadata": {},
   "outputs": [
    {
     "name": "stderr",
     "output_type": "stream",
     "text": [
      "/miniconda/lib/python3.6/site-packages/ipykernel_launcher.py:6: SettingWithCopyWarning: \n",
      "A value is trying to be set on a copy of a slice from a DataFrame.\n",
      "Try using .loc[row_indexer,col_indexer] = value instead\n",
      "\n",
      "See the caveats in the documentation: https://pandas.pydata.org/pandas-docs/stable/user_guide/indexing.html#returning-a-view-versus-a-copy\n",
      "  \n",
      "100%|██████████| 1507/1507 [00:12<00:00, 118.69it/s]\n",
      "100%|██████████| 172/172 [00:00<00:00, 5647.08it/s]"
     ]
    },
    {
     "name": "stdout",
     "output_type": "stream",
     "text": [
      "Targets - Between k and <Kd>:  SpearmanrResult(correlation=-0.4673048395959652, pvalue=1.0298775028113185e-10)\n"
     ]
    },
    {
     "name": "stderr",
     "output_type": "stream",
     "text": [
      "\n"
     ]
    }
   ],
   "source": [
    "targets = list(set(df_want_Kd['Target Sequence']))\n",
    "target_annotations = []\n",
    "target_average_Kd = []\n",
    "\n",
    "#df_want_Kd = df_want_Kd[df_want_Kd['Label'] != 0]\n",
    "df_want_Kd['Label'] = list(df_want_Kd['Label'].tolist())\n",
    "\n",
    "for prot in tqdm(targets):\n",
    "    sub_df = df_want_Kd[df_want_Kd['Target Sequence'] == prot]\n",
    "    target_annotations.append(len(sub_df))\n",
    "    target_average_Kd.append(np.mean(sub_df['Label'].tolist()))\n",
    "    \n",
    "different_target_annotations = list(set(target_annotations))\n",
    "unique_Kd_targets = []\n",
    "unique_Kd_targets_std = []\n",
    "\n",
    "for unique_ann in tqdm(different_target_annotations):\n",
    "    \n",
    "    all_Kd_list = []    \n",
    "    all_indices = get_all_indices(target_annotations,unique_ann)\n",
    "    \n",
    "    for j in all_indices:\n",
    "        all_Kd_list.append(target_average_Kd[j])\n",
    "        \n",
    "    unique_Kd_targets.append(np.mean(all_Kd_list))\n",
    "    unique_Kd_targets_std.append(np.std(all_Kd_list))\n",
    "    \n",
    "print('Targets - Between k and <Kd>: ', stats.spearmanr(different_target_annotations,unique_Kd_targets))"
   ]
  },
  {
   "cell_type": "code",
   "execution_count": 17,
   "metadata": {},
   "outputs": [
    {
     "name": "stdout",
     "output_type": "stream",
     "text": [
      "Mean and standard deviation of log Kd:  7.104377155054556 3.333661394378017\n"
     ]
    },
    {
     "data": {
      "text/plain": [
       "Text(0, 0.5, 'Average $K_d$')"
      ]
     },
     "execution_count": 17,
     "metadata": {},
     "output_type": "execute_result"
    },
    {
     "data": {
      "image/png": "[encoded data removed]",
      "text/plain": [
       "<Figure size 640x480 with 1 Axes>"
      ]
     },
     "metadata": {
      "needs_background": "light"
     },
     "output_type": "display_data"
    }
   ],
   "source": [
    "mean_log_Kd = np.mean(np.log(remove_zeros_distribution(kd_list)))\n",
    "std_log_Kd = np.std(np.log(remove_zeros_distribution(kd_list)))\n",
    "\n",
    "print('Mean and standard deviation of log Kd: ', mean_log_Kd, std_log_Kd)\n",
    "\n",
    "figure(figsize=(8, 6), dpi=80)\n",
    "\n",
    "sns.scatterplot(different_target_annotations,unique_Kd_targets)\n",
    "plt.xscale('log')\n",
    "plt.yscale('log')\n",
    "plt.xlabel('Target Annotations')\n",
    "plt.ylabel(r'Average $K_d$')"
   ]
  },
  {
   "cell_type": "code",
   "execution_count": 18,
   "metadata": {},
   "outputs": [
    {
     "name": "stdout",
     "output_type": "stream",
     "text": [
      "Average annotations for targets:  38.12342402123424\n",
      "Target degree distribution - Power Law\n",
      "------------------------------------------------\n",
      "Calculating best minimal value for power law fit\n",
      "3.3538720801022723\n",
      "121.0\n"
     ]
    }
   ],
   "source": [
    "targets_degrees_list_plfit = [randomized_combined_unipartite.degree(node) for node in list(randomized_combined_unipartite.nodes())]\n",
    "\n",
    "print('Average annotations for targets: ', np.mean(targets_degrees_list_plfit))\n",
    "\n",
    "print('Target degree distribution - Power Law')\n",
    "print('------------------------------------------------')\n",
    "\n",
    "results = powerlaw.Fit(targets_degrees_list_plfit)\n",
    "print(results.power_law.alpha)\n",
    "print(results.power_law.xmin)"
   ]
  },
  {
   "cell_type": "code",
   "execution_count": 19,
   "metadata": {},
   "outputs": [],
   "source": [
    "mean = [0, 0]\n",
    "cov = [[1, -0.47], [-0.47, 1]] # Correlation "
   ]
  },
  {
   "cell_type": "code",
   "execution_count": 20,
   "metadata": {
    "scrolled": true
   },
   "outputs": [],
   "source": [
    "x, y = np.random.multivariate_normal(mean, cov, size=100000).T"
   ]
  },
  {
   "cell_type": "code",
   "execution_count": 21,
   "metadata": {},
   "outputs": [],
   "source": [
    "from scipy.stats import norm  \n",
    "\n",
    "U1 = norm.cdf(x)\n",
    "U2 = norm.cdf(y)"
   ]
  },
  {
   "cell_type": "code",
   "execution_count": 22,
   "metadata": {},
   "outputs": [
    {
     "name": "stderr",
     "output_type": "stream",
     "text": [
      "100%|██████████| 100000/100000 [00:19<00:00, 5054.21it/s]\n"
     ]
    }
   ],
   "source": [
    "Kmin = 1\n",
    "gamma = results.power_law.alpha\n",
    "\n",
    "K_copula_list = []\n",
    "Kd_copula_list = []\n",
    "\n",
    "for i in tqdm(range(len(U1))):\n",
    "    K_copula_list.append(int(Kmin * ((1-U1[i]) ** (1/(1-gamma)))))\n",
    "    Kd_copula_list.append(np.exp(mean_log_Kd + std_log_Kd*norm.ppf(U2[i])))"
   ]
  },
  {
   "cell_type": "code",
   "execution_count": 23,
   "metadata": {},
   "outputs": [
    {
     "data": {
      "image/png": "[encoded data removed]",
      "text/plain": [
       "<Figure size 432x288 with 1 Axes>"
      ]
     },
     "metadata": {
      "needs_background": "light"
     },
     "output_type": "display_data"
    }
   ],
   "source": [
    "plt.scatter(K_copula_list,Kd_copula_list,alpha=0.2)\n",
    "plt.xscale('log')\n",
    "plt.yscale('log')"
   ]
  },
  {
   "cell_type": "code",
   "execution_count": 24,
   "metadata": {},
   "outputs": [
    {
     "data": {
      "text/plain": [
       "SpearmanrResult(correlation=-0.3250746256030634, pvalue=0.0)"
      ]
     },
     "execution_count": 24,
     "metadata": {},
     "output_type": "execute_result"
    }
   ],
   "source": [
    "stats.spearmanr(Kd_copula_list,K_copula_list)"
   ]
  },
  {
   "cell_type": "markdown",
   "metadata": {},
   "source": [
    "# Adding Randomized Kd Values"
   ]
  },
  {
   "cell_type": "code",
   "execution_count": 25,
   "metadata": {
    "scrolled": true
   },
   "outputs": [
    {
     "name": "stderr",
     "output_type": "stream",
     "text": [
      "  1%|          | 12/1507 [00:00<00:42, 35.37it/s]"
     ]
    },
    {
     "name": "stdout",
     "output_type": "stream",
     "text": [
      "Not close enough:  31\n",
      "Not close enough:  7\n",
      "Not close enough:  3\n",
      "Not close enough:  4\n"
     ]
    },
    {
     "name": "stderr",
     "output_type": "stream",
     "text": [
      "  1%|▏         | 20/1507 [00:00<00:47, 31.17it/s]"
     ]
    },
    {
     "name": "stdout",
     "output_type": "stream",
     "text": [
      "Not close enough:  92\n"
     ]
    },
    {
     "name": "stderr",
     "output_type": "stream",
     "text": [
      "  2%|▏         | 28/1507 [00:00<00:46, 31.55it/s]"
     ]
    },
    {
     "name": "stdout",
     "output_type": "stream",
     "text": [
      "Not close enough:  5\n",
      "Not close enough:  45\n",
      "Not close enough:  4\n",
      "Not close enough:  24\n"
     ]
    },
    {
     "name": "stderr",
     "output_type": "stream",
     "text": [
      "  3%|▎         | 40/1507 [00:01<00:45, 32.01it/s]"
     ]
    },
    {
     "name": "stdout",
     "output_type": "stream",
     "text": [
      "Not close enough:  23\n",
      "Not close enough:  33\n"
     ]
    },
    {
     "name": "stderr",
     "output_type": "stream",
     "text": [
      "  3%|▎         | 48/1507 [00:01<00:50, 28.91it/s]"
     ]
    },
    {
     "name": "stdout",
     "output_type": "stream",
     "text": [
      "Not close enough:  57\n"
     ]
    },
    {
     "name": "stderr",
     "output_type": "stream",
     "text": [
      "  4%|▎         | 56/1507 [00:01<00:47, 30.30it/s]"
     ]
    },
    {
     "name": "stdout",
     "output_type": "stream",
     "text": [
      "Not close enough:  4\n",
      "Not close enough:  35\n",
      "Not close enough:  32\n"
     ]
    },
    {
     "name": "stderr",
     "output_type": "stream",
     "text": [
      "  4%|▍         | 63/1507 [00:02<00:49, 29.16it/s]"
     ]
    },
    {
     "name": "stdout",
     "output_type": "stream",
     "text": [
      "Not close enough:  4\n",
      "Not close enough:  90\n",
      "Not close enough:  176\n"
     ]
    },
    {
     "name": "stderr",
     "output_type": "stream",
     "text": [
      "  5%|▍         | 70/1507 [00:02<00:47, 30.47it/s]"
     ]
    },
    {
     "name": "stdout",
     "output_type": "stream",
     "text": [
      "Not close enough:  39\n",
      "Not close enough:  5\n",
      "Not close enough:  26\n",
      "Not close enough:  61\n"
     ]
    },
    {
     "name": "stderr",
     "output_type": "stream",
     "text": [
      "  5%|▌         | 82/1507 [00:02<00:43, 32.56it/s]"
     ]
    },
    {
     "name": "stdout",
     "output_type": "stream",
     "text": [
      "Not close enough:  30\n",
      "Not close enough:  30\n",
      "Not close enough:  30\n",
      "Not close enough:  27\n"
     ]
    },
    {
     "name": "stderr",
     "output_type": "stream",
     "text": [
      "  6%|▌         | 90/1507 [00:02<00:47, 29.84it/s]"
     ]
    },
    {
     "name": "stdout",
     "output_type": "stream",
     "text": [
      "Not close enough:  110\n",
      "Not close enough:  23\n",
      "Not close enough:  20\n",
      "Not close enough:  35\n"
     ]
    },
    {
     "name": "stderr",
     "output_type": "stream",
     "text": [
      "  7%|▋         | 98/1507 [00:03<00:43, 32.21it/s]"
     ]
    },
    {
     "name": "stdout",
     "output_type": "stream",
     "text": [
      "Not close enough:  6\n",
      "Not close enough:  11\n"
     ]
    },
    {
     "name": "stderr",
     "output_type": "stream",
     "text": [
      "  7%|▋         | 110/1507 [00:03<00:45, 30.90it/s]"
     ]
    },
    {
     "name": "stdout",
     "output_type": "stream",
     "text": [
      "Not close enough:  4\n"
     ]
    },
    {
     "name": "stderr",
     "output_type": "stream",
     "text": [
      "  8%|▊         | 122/1507 [00:03<00:45, 30.73it/s]"
     ]
    },
    {
     "name": "stdout",
     "output_type": "stream",
     "text": [
      "Not close enough:  28\n",
      "Not close enough:  13\n",
      "Not close enough:  23\n"
     ]
    },
    {
     "name": "stderr",
     "output_type": "stream",
     "text": [
      " 10%|▉         | 148/1507 [00:04<00:46, 29.04it/s]"
     ]
    },
    {
     "name": "stdout",
     "output_type": "stream",
     "text": [
      "Not close enough:  36\n",
      "Not close enough:  34\n"
     ]
    },
    {
     "name": "stderr",
     "output_type": "stream",
     "text": [
      " 10%|█         | 156/1507 [00:05<00:43, 30.90it/s]"
     ]
    },
    {
     "name": "stdout",
     "output_type": "stream",
     "text": [
      "Not close enough:  30\n"
     ]
    },
    {
     "name": "stderr",
     "output_type": "stream",
     "text": [
      " 11%|█         | 164/1507 [00:05<00:42, 31.38it/s]"
     ]
    },
    {
     "name": "stdout",
     "output_type": "stream",
     "text": [
      "Not close enough:  21\n",
      "Not close enough:  27\n",
      "Not close enough:  94\n"
     ]
    },
    {
     "name": "stderr",
     "output_type": "stream",
     "text": [
      " 11%|█▏        | 172/1507 [00:05<00:42, 31.48it/s]"
     ]
    },
    {
     "name": "stdout",
     "output_type": "stream",
     "text": [
      "Not close enough:  27\n",
      "Not close enough:  3\n",
      "Not close enough:  5\n",
      "Not close enough:  114\n"
     ]
    },
    {
     "name": "stderr",
     "output_type": "stream",
     "text": [
      " 12%|█▏        | 184/1507 [00:05<00:42, 31.43it/s]"
     ]
    },
    {
     "name": "stdout",
     "output_type": "stream",
     "text": [
      "Not close enough:  14\n",
      "Not close enough:  35\n",
      "Not close enough:  27\n"
     ]
    },
    {
     "name": "stderr",
     "output_type": "stream",
     "text": [
      " 12%|█▏        | 188/1507 [00:06<00:43, 30.57it/s]"
     ]
    },
    {
     "name": "stdout",
     "output_type": "stream",
     "text": [
      "Not close enough:  65\n",
      "Not close enough:  25\n",
      "Not close enough:  30\n"
     ]
    },
    {
     "name": "stderr",
     "output_type": "stream",
     "text": [
      " 13%|█▎        | 196/1507 [00:06<00:43, 30.48it/s]"
     ]
    },
    {
     "name": "stdout",
     "output_type": "stream",
     "text": [
      "Not close enough:  29\n",
      "Not close enough:  33\n",
      "Not close enough:  25\n"
     ]
    },
    {
     "name": "stderr",
     "output_type": "stream",
     "text": [
      " 14%|█▍        | 212/1507 [00:06<00:43, 29.80it/s]"
     ]
    },
    {
     "name": "stdout",
     "output_type": "stream",
     "text": [
      "Not close enough:  50\n"
     ]
    },
    {
     "name": "stderr",
     "output_type": "stream",
     "text": [
      " 15%|█▍        | 220/1507 [00:07<00:41, 30.85it/s]"
     ]
    },
    {
     "name": "stdout",
     "output_type": "stream",
     "text": [
      "Not close enough:  24\n",
      "Not close enough:  30\n",
      "Not close enough:  5\n"
     ]
    },
    {
     "name": "stderr",
     "output_type": "stream",
     "text": [
      " 15%|█▌        | 232/1507 [00:07<00:39, 31.98it/s]"
     ]
    },
    {
     "name": "stdout",
     "output_type": "stream",
     "text": [
      "Not close enough:  5\n",
      "Not close enough:  29\n"
     ]
    },
    {
     "name": "stderr",
     "output_type": "stream",
     "text": [
      " 16%|█▌        | 244/1507 [00:07<00:38, 33.09it/s]"
     ]
    },
    {
     "name": "stdout",
     "output_type": "stream",
     "text": [
      "Not close enough:  19\n",
      "Not close enough:  75\n",
      "Not close enough:  41\n"
     ]
    },
    {
     "name": "stderr",
     "output_type": "stream",
     "text": [
      " 17%|█▋        | 252/1507 [00:08<00:41, 30.24it/s]"
     ]
    },
    {
     "name": "stdout",
     "output_type": "stream",
     "text": [
      "Not close enough:  18\n",
      "Not close enough:  35\n"
     ]
    },
    {
     "name": "stderr",
     "output_type": "stream",
     "text": [
      " 18%|█▊        | 264/1507 [00:08<00:38, 32.47it/s]"
     ]
    },
    {
     "name": "stdout",
     "output_type": "stream",
     "text": [
      "Not close enough:  20\n",
      "Not close enough:  6\n",
      "Not close enough:  29\n"
     ]
    },
    {
     "name": "stderr",
     "output_type": "stream",
     "text": [
      " 18%|█▊        | 276/1507 [00:08<00:39, 30.87it/s]"
     ]
    },
    {
     "name": "stdout",
     "output_type": "stream",
     "text": [
      "Not close enough:  5\n",
      "Not close enough:  5\n"
     ]
    },
    {
     "name": "stderr",
     "output_type": "stream",
     "text": [
      " 19%|█▉        | 291/1507 [00:09<00:39, 30.98it/s]"
     ]
    },
    {
     "name": "stdout",
     "output_type": "stream",
     "text": [
      "Not close enough:  30\n",
      "Not close enough:  31\n"
     ]
    },
    {
     "name": "stderr",
     "output_type": "stream",
     "text": [
      " 20%|██        | 302/1507 [00:09<00:41, 28.72it/s]"
     ]
    },
    {
     "name": "stdout",
     "output_type": "stream",
     "text": [
      "Not close enough:  3\n",
      "Not close enough:  29\n"
     ]
    },
    {
     "name": "stderr",
     "output_type": "stream",
     "text": [
      " 21%|██        | 309/1507 [00:10<00:39, 30.37it/s]"
     ]
    },
    {
     "name": "stdout",
     "output_type": "stream",
     "text": [
      "Not close enough:  42\n"
     ]
    },
    {
     "name": "stderr",
     "output_type": "stream",
     "text": [
      " 21%|██        | 317/1507 [00:10<00:38, 30.69it/s]"
     ]
    },
    {
     "name": "stdout",
     "output_type": "stream",
     "text": [
      "Not close enough:  36\n",
      "Not close enough:  33\n",
      "Not close enough:  16\n",
      "Not close enough:  30\n"
     ]
    },
    {
     "name": "stderr",
     "output_type": "stream",
     "text": [
      " 22%|██▏       | 329/1507 [00:10<00:34, 33.85it/s]"
     ]
    },
    {
     "name": "stdout",
     "output_type": "stream",
     "text": [
      "Not close enough:  29\n",
      "Not close enough:  27\n"
     ]
    },
    {
     "name": "stderr",
     "output_type": "stream",
     "text": [
      " 22%|██▏       | 337/1507 [00:10<00:37, 31.60it/s]"
     ]
    },
    {
     "name": "stdout",
     "output_type": "stream",
     "text": [
      "Not close enough:  6\n"
     ]
    },
    {
     "name": "stderr",
     "output_type": "stream",
     "text": [
      " 23%|██▎       | 349/1507 [00:11<00:35, 32.58it/s]"
     ]
    },
    {
     "name": "stdout",
     "output_type": "stream",
     "text": [
      "Not close enough:  31\n",
      "Not close enough:  33\n"
     ]
    },
    {
     "name": "stderr",
     "output_type": "stream",
     "text": [
      " 24%|██▎       | 357/1507 [00:11<00:34, 32.89it/s]"
     ]
    },
    {
     "name": "stdout",
     "output_type": "stream",
     "text": [
      "Not close enough:  33\n"
     ]
    },
    {
     "name": "stderr",
     "output_type": "stream",
     "text": [
      " 24%|██▍       | 365/1507 [00:11<00:36, 31.48it/s]"
     ]
    },
    {
     "name": "stdout",
     "output_type": "stream",
     "text": [
      "Not close enough:  4\n",
      "Not close enough:  7\n",
      "Not close enough:  27\n",
      "Not close enough:  33\n"
     ]
    },
    {
     "name": "stderr",
     "output_type": "stream",
     "text": [
      " 25%|██▍       | 373/1507 [00:12<00:38, 29.49it/s]"
     ]
    },
    {
     "name": "stdout",
     "output_type": "stream",
     "text": [
      "Not close enough:  3\n",
      "Not close enough:  25\n"
     ]
    },
    {
     "name": "stderr",
     "output_type": "stream",
     "text": [
      " 26%|██▌       | 386/1507 [00:12<00:39, 28.70it/s]"
     ]
    },
    {
     "name": "stdout",
     "output_type": "stream",
     "text": [
      "Not close enough:  22\n",
      "Not close enough:  30\n",
      "Not close enough:  5\n"
     ]
    },
    {
     "name": "stderr",
     "output_type": "stream",
     "text": [
      " 26%|██▋       | 398/1507 [00:12<00:36, 30.45it/s]"
     ]
    },
    {
     "name": "stdout",
     "output_type": "stream",
     "text": [
      "Not close enough:  77\n",
      "Not close enough:  32\n",
      "Not close enough:  30\n"
     ]
    },
    {
     "name": "stderr",
     "output_type": "stream",
     "text": [
      " 27%|██▋       | 406/1507 [00:13<00:34, 31.49it/s]"
     ]
    },
    {
     "name": "stdout",
     "output_type": "stream",
     "text": [
      "Not close enough:  36\n",
      "Not close enough:  95\n"
     ]
    },
    {
     "name": "stderr",
     "output_type": "stream",
     "text": [
      " 27%|██▋       | 414/1507 [00:13<00:35, 30.60it/s]"
     ]
    },
    {
     "name": "stdout",
     "output_type": "stream",
     "text": [
      "Not close enough:  5\n",
      "Not close enough:  181\n"
     ]
    },
    {
     "name": "stderr",
     "output_type": "stream",
     "text": [
      " 29%|██▊       | 432/1507 [00:14<00:35, 30.32it/s]"
     ]
    },
    {
     "name": "stdout",
     "output_type": "stream",
     "text": [
      "Not close enough:  20\n",
      "Not close enough:  53\n",
      "Not close enough:  479\n",
      "Not close enough:  45\n"
     ]
    },
    {
     "name": "stderr",
     "output_type": "stream",
     "text": [
      " 29%|██▉       | 444/1507 [00:14<00:34, 31.14it/s]"
     ]
    },
    {
     "name": "stdout",
     "output_type": "stream",
     "text": [
      "Not close enough:  385\n"
     ]
    },
    {
     "name": "stderr",
     "output_type": "stream",
     "text": [
      " 30%|███       | 456/1507 [00:14<00:34, 30.75it/s]"
     ]
    },
    {
     "name": "stdout",
     "output_type": "stream",
     "text": [
      "Not close enough:  25\n",
      "Not close enough:  26\n",
      "Not close enough:  32\n"
     ]
    },
    {
     "name": "stderr",
     "output_type": "stream",
     "text": [
      " 31%|███       | 464/1507 [00:15<00:35, 29.42it/s]"
     ]
    },
    {
     "name": "stdout",
     "output_type": "stream",
     "text": [
      "Not close enough:  22\n",
      "Not close enough:  37\n"
     ]
    },
    {
     "name": "stderr",
     "output_type": "stream",
     "text": [
      " 31%|███▏      | 474/1507 [00:15<00:35, 29.02it/s]"
     ]
    },
    {
     "name": "stdout",
     "output_type": "stream",
     "text": [
      "Not close enough:  26\n",
      "Not close enough:  3\n",
      "Not close enough:  37\n"
     ]
    },
    {
     "name": "stderr",
     "output_type": "stream",
     "text": [
      " 32%|███▏      | 483/1507 [00:15<00:35, 28.54it/s]"
     ]
    },
    {
     "name": "stdout",
     "output_type": "stream",
     "text": [
      "Not close enough:  33\n",
      "Not close enough:  6\n"
     ]
    },
    {
     "name": "stderr",
     "output_type": "stream",
     "text": [
      " 33%|███▎      | 493/1507 [00:16<00:35, 28.80it/s]"
     ]
    },
    {
     "name": "stdout",
     "output_type": "stream",
     "text": [
      "Not close enough:  6\n"
     ]
    },
    {
     "name": "stderr",
     "output_type": "stream",
     "text": [
      " 33%|███▎      | 499/1507 [00:16<00:35, 28.22it/s]"
     ]
    },
    {
     "name": "stdout",
     "output_type": "stream",
     "text": [
      "Not close enough:  24\n",
      "Not close enough:  23\n"
     ]
    },
    {
     "name": "stderr",
     "output_type": "stream",
     "text": [
      " 34%|███▍      | 513/1507 [00:16<00:34, 28.47it/s]"
     ]
    },
    {
     "name": "stdout",
     "output_type": "stream",
     "text": [
      "Not close enough:  35\n",
      "Not close enough:  25\n"
     ]
    },
    {
     "name": "stderr",
     "output_type": "stream",
     "text": [
      " 35%|███▍      | 521/1507 [00:17<00:32, 30.10it/s]"
     ]
    },
    {
     "name": "stdout",
     "output_type": "stream",
     "text": [
      "Not close enough:  31\n",
      "Not close enough:  3\n",
      "Not close enough:  25\n"
     ]
    },
    {
     "name": "stderr",
     "output_type": "stream",
     "text": [
      " 35%|███▌      | 529/1507 [00:17<00:30, 32.20it/s]"
     ]
    },
    {
     "name": "stdout",
     "output_type": "stream",
     "text": [
      "Not close enough:  28\n",
      "Not close enough:  315\n",
      "Not close enough:  6\n"
     ]
    },
    {
     "name": "stderr",
     "output_type": "stream",
     "text": [
      " 36%|███▌      | 537/1507 [00:17<00:31, 31.26it/s]"
     ]
    },
    {
     "name": "stdout",
     "output_type": "stream",
     "text": [
      "Not close enough:  23\n",
      "Not close enough:  4\n"
     ]
    },
    {
     "name": "stderr",
     "output_type": "stream",
     "text": [
      " 36%|███▋      | 549/1507 [00:18<00:29, 32.33it/s]"
     ]
    },
    {
     "name": "stdout",
     "output_type": "stream",
     "text": [
      "Not close enough:  25\n",
      "Not close enough:  63\n",
      "Not close enough:  29\n",
      "Not close enough:  25\n"
     ]
    },
    {
     "name": "stderr",
     "output_type": "stream",
     "text": [
      " 37%|███▋      | 557/1507 [00:18<00:29, 32.32it/s]"
     ]
    },
    {
     "name": "stdout",
     "output_type": "stream",
     "text": [
      "Not close enough:  34\n",
      "Not close enough:  5\n",
      "Not close enough:  7\n"
     ]
    },
    {
     "name": "stderr",
     "output_type": "stream",
     "text": [
      " 37%|███▋      | 565/1507 [00:18<00:30, 31.12it/s]"
     ]
    },
    {
     "name": "stdout",
     "output_type": "stream",
     "text": [
      "Not close enough:  26\n",
      "Not close enough:  22\n"
     ]
    },
    {
     "name": "stderr",
     "output_type": "stream",
     "text": [
      " 38%|███▊      | 573/1507 [00:18<00:31, 29.58it/s]"
     ]
    },
    {
     "name": "stdout",
     "output_type": "stream",
     "text": [
      "Not close enough:  44\n",
      "Not close enough:  46\n"
     ]
    },
    {
     "name": "stderr",
     "output_type": "stream",
     "text": [
      " 39%|███▉      | 587/1507 [00:19<00:28, 32.14it/s]"
     ]
    },
    {
     "name": "stdout",
     "output_type": "stream",
     "text": [
      "Not close enough:  28\n",
      "Not close enough:  15\n"
     ]
    },
    {
     "name": "stderr",
     "output_type": "stream",
     "text": [
      " 39%|███▉      | 595/1507 [00:19<00:28, 31.45it/s]"
     ]
    },
    {
     "name": "stdout",
     "output_type": "stream",
     "text": [
      "Not close enough:  53\n",
      "Not close enough:  3\n"
     ]
    },
    {
     "name": "stderr",
     "output_type": "stream",
     "text": [
      " 40%|████      | 605/1507 [00:19<00:31, 28.38it/s]"
     ]
    },
    {
     "name": "stdout",
     "output_type": "stream",
     "text": [
      "Not close enough:  4\n",
      "Not close enough:  27\n"
     ]
    },
    {
     "name": "stderr",
     "output_type": "stream",
     "text": [
      " 41%|████      | 613/1507 [00:20<00:28, 31.47it/s]"
     ]
    },
    {
     "name": "stdout",
     "output_type": "stream",
     "text": [
      "Not close enough:  7\n",
      "Not close enough:  31\n"
     ]
    },
    {
     "name": "stderr",
     "output_type": "stream",
     "text": [
      " 41%|████      | 621/1507 [00:20<00:29, 29.89it/s]"
     ]
    },
    {
     "name": "stdout",
     "output_type": "stream",
     "text": [
      "Not close enough:  44\n",
      "Not close enough:  28\n",
      "Not close enough:  21\n",
      "Not close enough:  20\n"
     ]
    },
    {
     "name": "stderr",
     "output_type": "stream",
     "text": [
      " 42%|████▏     | 633/1507 [00:20<00:27, 31.49it/s]"
     ]
    },
    {
     "name": "stdout",
     "output_type": "stream",
     "text": [
      "Not close enough:  25\n",
      "Not close enough:  39\n",
      "Not close enough:  22\n"
     ]
    },
    {
     "name": "stderr",
     "output_type": "stream",
     "text": [
      " 43%|████▎     | 644/1507 [00:21<00:29, 29.12it/s]"
     ]
    },
    {
     "name": "stdout",
     "output_type": "stream",
     "text": [
      "Not close enough:  3\n"
     ]
    },
    {
     "name": "stderr",
     "output_type": "stream",
     "text": [
      " 43%|████▎     | 652/1507 [00:21<00:27, 30.67it/s]"
     ]
    },
    {
     "name": "stdout",
     "output_type": "stream",
     "text": [
      "Not close enough:  118\n",
      "Not close enough:  33\n",
      "Not close enough:  6\n",
      "Not close enough:  31\n"
     ]
    },
    {
     "name": "stderr",
     "output_type": "stream",
     "text": [
      " 44%|████▎     | 656/1507 [00:21<00:27, 30.51it/s]"
     ]
    },
    {
     "name": "stdout",
     "output_type": "stream",
     "text": [
      "Not close enough:  29\n",
      "Not close enough:  29\n",
      "Not close enough:  29\n",
      "Not close enough:  26\n"
     ]
    },
    {
     "name": "stderr",
     "output_type": "stream",
     "text": [
      " 44%|████▍     | 664/1507 [00:21<00:27, 30.24it/s]"
     ]
    },
    {
     "name": "stdout",
     "output_type": "stream",
     "text": [
      "Not close enough:  28\n"
     ]
    },
    {
     "name": "stderr",
     "output_type": "stream",
     "text": [
      " 45%|████▌     | 679/1507 [00:22<00:26, 31.70it/s]"
     ]
    },
    {
     "name": "stdout",
     "output_type": "stream",
     "text": [
      "Not close enough:  6\n",
      "Not close enough:  28\n",
      "Not close enough:  30\n",
      "Not close enough:  28\n"
     ]
    },
    {
     "name": "stderr",
     "output_type": "stream",
     "text": [
      " 46%|████▌     | 691/1507 [00:22<00:24, 33.27it/s]"
     ]
    },
    {
     "name": "stdout",
     "output_type": "stream",
     "text": [
      "Not close enough:  40\n",
      "Not close enough:  3\n",
      "Not close enough:  47\n",
      "Not close enough:  5\n"
     ]
    },
    {
     "name": "stderr",
     "output_type": "stream",
     "text": [
      " 46%|████▌     | 695/1507 [00:22<00:25, 32.12it/s]"
     ]
    },
    {
     "name": "stdout",
     "output_type": "stream",
     "text": [
      "Not close enough:  35\n",
      "Not close enough:  28\n"
     ]
    },
    {
     "name": "stderr",
     "output_type": "stream",
     "text": [
      " 47%|████▋     | 703/1507 [00:23<00:26, 30.27it/s]"
     ]
    },
    {
     "name": "stdout",
     "output_type": "stream",
     "text": [
      "Not close enough:  25\n",
      "Not close enough:  28\n",
      "Not close enough:  117\n",
      "Not close enough:  30\n"
     ]
    },
    {
     "name": "stderr",
     "output_type": "stream",
     "text": [
      " 47%|████▋     | 711/1507 [00:23<00:24, 32.49it/s]"
     ]
    },
    {
     "name": "stdout",
     "output_type": "stream",
     "text": [
      "Not close enough:  142\n",
      "Not close enough:  26\n",
      "Not close enough:  24\n",
      "Not close enough:  34\n"
     ]
    },
    {
     "name": "stderr",
     "output_type": "stream",
     "text": [
      " 48%|████▊     | 723/1507 [00:23<00:24, 31.85it/s]"
     ]
    },
    {
     "name": "stdout",
     "output_type": "stream",
     "text": [
      "Not close enough:  26\n",
      "Not close enough:  20\n",
      "Not close enough:  23\n",
      "Not close enough:  34\n",
      "Not close enough:  46\n"
     ]
    },
    {
     "name": "stderr",
     "output_type": "stream",
     "text": [
      " 49%|████▊     | 731/1507 [00:23<00:24, 31.80it/s]"
     ]
    },
    {
     "name": "stdout",
     "output_type": "stream",
     "text": [
      "Not close enough:  30\n",
      "Not close enough:  30\n",
      "Not close enough:  30\n",
      "Not close enough:  26\n"
     ]
    },
    {
     "name": "stderr",
     "output_type": "stream",
     "text": [
      " 49%|████▉     | 739/1507 [00:24<00:24, 31.03it/s]"
     ]
    },
    {
     "name": "stdout",
     "output_type": "stream",
     "text": [
      "Not close enough:  41\n",
      "Not close enough:  15\n",
      "Not close enough:  29\n"
     ]
    },
    {
     "name": "stderr",
     "output_type": "stream",
     "text": [
      " 50%|████▉     | 750/1507 [00:24<00:24, 30.94it/s]"
     ]
    },
    {
     "name": "stdout",
     "output_type": "stream",
     "text": [
      "Not close enough:  6\n",
      "Not close enough:  23\n"
     ]
    },
    {
     "name": "stderr",
     "output_type": "stream",
     "text": [
      " 50%|█████     | 757/1507 [00:24<00:25, 29.42it/s]"
     ]
    },
    {
     "name": "stdout",
     "output_type": "stream",
     "text": [
      "Not close enough:  27\n",
      "Not close enough:  4\n"
     ]
    },
    {
     "name": "stderr",
     "output_type": "stream",
     "text": [
      " 51%|█████     | 763/1507 [00:25<00:26, 27.64it/s]"
     ]
    },
    {
     "name": "stdout",
     "output_type": "stream",
     "text": [
      "Not close enough:  31\n",
      "Not close enough:  69\n"
     ]
    },
    {
     "name": "stderr",
     "output_type": "stream",
     "text": [
      " 51%|█████▏    | 775/1507 [00:25<00:24, 29.67it/s]"
     ]
    },
    {
     "name": "stdout",
     "output_type": "stream",
     "text": [
      "Not close enough:  27\n",
      "Not close enough:  38\n",
      "Not close enough:  26\n"
     ]
    },
    {
     "name": "stderr",
     "output_type": "stream",
     "text": [
      " 52%|█████▏    | 784/1507 [00:25<00:26, 27.38it/s]"
     ]
    },
    {
     "name": "stdout",
     "output_type": "stream",
     "text": [
      "Not close enough:  3\n"
     ]
    },
    {
     "name": "stderr",
     "output_type": "stream",
     "text": [
      " 53%|█████▎    | 797/1507 [00:26<00:25, 28.08it/s]"
     ]
    },
    {
     "name": "stdout",
     "output_type": "stream",
     "text": [
      "Not close enough:  14\n",
      "Not close enough:  21\n"
     ]
    },
    {
     "name": "stderr",
     "output_type": "stream",
     "text": [
      " 54%|█████▎    | 807/1507 [00:26<00:23, 30.31it/s]"
     ]
    },
    {
     "name": "stdout",
     "output_type": "stream",
     "text": [
      "Not close enough:  114\n",
      "Not close enough:  28\n",
      "Not close enough:  27\n",
      "Not close enough:  22\n"
     ]
    },
    {
     "name": "stderr",
     "output_type": "stream",
     "text": [
      " 54%|█████▍    | 815/1507 [00:26<00:21, 32.51it/s]"
     ]
    },
    {
     "name": "stdout",
     "output_type": "stream",
     "text": [
      "Not close enough:  35\n",
      "Not close enough:  216\n",
      "Not close enough:  29\n",
      "Not close enough:  48\n"
     ]
    },
    {
     "name": "stderr",
     "output_type": "stream",
     "text": [
      " 55%|█████▍    | 823/1507 [00:27<00:20, 34.19it/s]"
     ]
    },
    {
     "name": "stdout",
     "output_type": "stream",
     "text": [
      "Not close enough:  6\n",
      "Not close enough:  7\n",
      "Not close enough:  24\n",
      "Not close enough:  36\n"
     ]
    },
    {
     "name": "stderr",
     "output_type": "stream",
     "text": [
      " 55%|█████▌    | 835/1507 [00:27<00:22, 30.27it/s]"
     ]
    },
    {
     "name": "stdout",
     "output_type": "stream",
     "text": [
      "Not close enough:  27\n",
      "Not close enough:  29\n",
      "Not close enough:  21\n"
     ]
    },
    {
     "name": "stderr",
     "output_type": "stream",
     "text": [
      " 56%|█████▋    | 850/1507 [00:28<00:22, 28.61it/s]"
     ]
    },
    {
     "name": "stdout",
     "output_type": "stream",
     "text": [
      "Not close enough:  53\n",
      "Not close enough:  62\n"
     ]
    },
    {
     "name": "stderr",
     "output_type": "stream",
     "text": [
      " 57%|█████▋    | 860/1507 [00:28<00:22, 28.14it/s]"
     ]
    },
    {
     "name": "stdout",
     "output_type": "stream",
     "text": [
      "Not close enough:  49\n",
      "Not close enough:  29\n",
      "Not close enough:  100\n"
     ]
    },
    {
     "name": "stderr",
     "output_type": "stream",
     "text": [
      " 58%|█████▊    | 868/1507 [00:28<00:21, 29.47it/s]"
     ]
    },
    {
     "name": "stdout",
     "output_type": "stream",
     "text": [
      "Not close enough:  3\n",
      "Not close enough:  27\n"
     ]
    },
    {
     "name": "stderr",
     "output_type": "stream",
     "text": [
      " 58%|█████▊    | 875/1507 [00:28<00:20, 30.64it/s]"
     ]
    },
    {
     "name": "stdout",
     "output_type": "stream",
     "text": [
      "Not close enough:  115\n",
      "Not close enough:  30\n",
      "Not close enough:  4\n"
     ]
    },
    {
     "name": "stderr",
     "output_type": "stream",
     "text": [
      " 59%|█████▊    | 883/1507 [00:29<00:21, 29.18it/s]"
     ]
    },
    {
     "name": "stdout",
     "output_type": "stream",
     "text": [
      "Not close enough:  31\n",
      "Not close enough:  7\n",
      "Not close enough:  20\n"
     ]
    },
    {
     "name": "stderr",
     "output_type": "stream",
     "text": [
      " 59%|█████▉    | 891/1507 [00:29<00:19, 31.76it/s]"
     ]
    },
    {
     "name": "stdout",
     "output_type": "stream",
     "text": [
      "Not close enough:  20\n",
      "Not close enough:  129\n",
      "Not close enough:  30\n"
     ]
    },
    {
     "name": "stderr",
     "output_type": "stream",
     "text": [
      " 60%|█████▉    | 902/1507 [00:29<00:22, 27.43it/s]"
     ]
    },
    {
     "name": "stdout",
     "output_type": "stream",
     "text": [
      "Not close enough:  7\n"
     ]
    },
    {
     "name": "stderr",
     "output_type": "stream",
     "text": [
      " 60%|██████    | 909/1507 [00:30<00:21, 27.97it/s]"
     ]
    },
    {
     "name": "stdout",
     "output_type": "stream",
     "text": [
      "Not close enough:  71\n",
      "Not close enough:  26\n"
     ]
    },
    {
     "name": "stderr",
     "output_type": "stream",
     "text": [
      " 61%|██████    | 921/1507 [00:30<00:19, 29.79it/s]"
     ]
    },
    {
     "name": "stdout",
     "output_type": "stream",
     "text": [
      "Not close enough:  37\n",
      "Not close enough:  24\n"
     ]
    },
    {
     "name": "stderr",
     "output_type": "stream",
     "text": [
      " 62%|██████▏   | 933/1507 [00:30<00:19, 29.41it/s]"
     ]
    },
    {
     "name": "stdout",
     "output_type": "stream",
     "text": [
      "Not close enough:  24\n",
      "Not close enough:  102\n",
      "Not close enough:  30\n"
     ]
    },
    {
     "name": "stderr",
     "output_type": "stream",
     "text": [
      " 62%|██████▏   | 941/1507 [00:31<00:17, 32.22it/s]"
     ]
    },
    {
     "name": "stdout",
     "output_type": "stream",
     "text": [
      "Not close enough:  3\n",
      "Not close enough:  28\n"
     ]
    },
    {
     "name": "stderr",
     "output_type": "stream",
     "text": [
      " 63%|██████▎   | 953/1507 [00:31<00:17, 31.72it/s]"
     ]
    },
    {
     "name": "stdout",
     "output_type": "stream",
     "text": [
      "Not close enough:  10\n",
      "Not close enough:  34\n"
     ]
    },
    {
     "name": "stderr",
     "output_type": "stream",
     "text": [
      " 64%|██████▍   | 965/1507 [00:31<00:17, 30.27it/s]"
     ]
    },
    {
     "name": "stdout",
     "output_type": "stream",
     "text": [
      "Not close enough:  3\n",
      "Not close enough:  29\n",
      "Not close enough:  27\n"
     ]
    },
    {
     "name": "stderr",
     "output_type": "stream",
     "text": [
      " 65%|██████▍   | 977/1507 [00:32<00:17, 30.23it/s]"
     ]
    },
    {
     "name": "stdout",
     "output_type": "stream",
     "text": [
      "Not close enough:  5\n",
      "Not close enough:  472\n"
     ]
    },
    {
     "name": "stderr",
     "output_type": "stream",
     "text": [
      " 65%|██████▌   | 985/1507 [00:32<00:17, 29.19it/s]"
     ]
    },
    {
     "name": "stdout",
     "output_type": "stream",
     "text": [
      "Not close enough:  28\n",
      "Not close enough:  3\n",
      "Not close enough:  6\n",
      "Not close enough:  23\n"
     ]
    },
    {
     "name": "stderr",
     "output_type": "stream",
     "text": [
      " 66%|██████▌   | 993/1507 [00:32<00:16, 31.34it/s]"
     ]
    },
    {
     "name": "stdout",
     "output_type": "stream",
     "text": [
      "Not close enough:  94\n",
      "Not close enough:  57\n"
     ]
    },
    {
     "name": "stderr",
     "output_type": "stream",
     "text": [
      " 66%|██████▋   | 1001/1507 [00:33<00:15, 33.04it/s]"
     ]
    },
    {
     "name": "stdout",
     "output_type": "stream",
     "text": [
      "Not close enough:  27\n",
      "Not close enough:  5\n",
      "Not close enough:  6\n"
     ]
    },
    {
     "name": "stderr",
     "output_type": "stream",
     "text": [
      " 67%|██████▋   | 1009/1507 [00:33<00:15, 33.07it/s]"
     ]
    },
    {
     "name": "stdout",
     "output_type": "stream",
     "text": [
      "Not close enough:  35\n",
      "Not close enough:  7\n"
     ]
    },
    {
     "name": "stderr",
     "output_type": "stream",
     "text": [
      " 67%|██████▋   | 1017/1507 [00:33<00:15, 31.67it/s]"
     ]
    },
    {
     "name": "stdout",
     "output_type": "stream",
     "text": [
      "Not close enough:  38\n",
      "Not close enough:  28\n"
     ]
    },
    {
     "name": "stderr",
     "output_type": "stream",
     "text": [
      " 69%|██████▉   | 1037/1507 [00:34<00:14, 32.36it/s]"
     ]
    },
    {
     "name": "stdout",
     "output_type": "stream",
     "text": [
      "Not close enough:  3\n"
     ]
    },
    {
     "name": "stderr",
     "output_type": "stream",
     "text": [
      " 69%|██████▉   | 1045/1507 [00:34<00:14, 32.49it/s]"
     ]
    },
    {
     "name": "stdout",
     "output_type": "stream",
     "text": [
      "Not close enough:  106\n",
      "Not close enough:  31\n"
     ]
    },
    {
     "name": "stderr",
     "output_type": "stream",
     "text": [
      " 70%|██████▉   | 1053/1507 [00:34<00:14, 31.40it/s]"
     ]
    },
    {
     "name": "stdout",
     "output_type": "stream",
     "text": [
      "Not close enough:  30\n",
      "Not close enough:  47\n",
      "Not close enough:  32\n"
     ]
    },
    {
     "name": "stderr",
     "output_type": "stream",
     "text": [
      " 71%|███████   | 1065/1507 [00:35<00:14, 30.86it/s]"
     ]
    },
    {
     "name": "stdout",
     "output_type": "stream",
     "text": [
      "Not close enough:  10\n",
      "Not close enough:  7\n"
     ]
    },
    {
     "name": "stderr",
     "output_type": "stream",
     "text": [
      " 72%|███████▏  | 1081/1507 [00:35<00:13, 31.33it/s]"
     ]
    },
    {
     "name": "stdout",
     "output_type": "stream",
     "text": [
      "Not close enough:  29\n",
      "Not close enough:  35\n",
      "Not close enough:  22\n",
      "Not close enough:  31\n"
     ]
    },
    {
     "name": "stderr",
     "output_type": "stream",
     "text": [
      " 72%|███████▏  | 1085/1507 [00:35<00:13, 31.94it/s]"
     ]
    },
    {
     "name": "stdout",
     "output_type": "stream",
     "text": [
      "Not close enough:  3\n",
      "Not close enough:  23\n"
     ]
    },
    {
     "name": "stderr",
     "output_type": "stream",
     "text": [
      " 73%|███████▎  | 1093/1507 [00:36<00:13, 30.40it/s]"
     ]
    },
    {
     "name": "stdout",
     "output_type": "stream",
     "text": [
      "Not close enough:  30\n",
      "Not close enough:  7\n",
      "Not close enough:  5\n"
     ]
    },
    {
     "name": "stderr",
     "output_type": "stream",
     "text": [
      " 73%|███████▎  | 1101/1507 [00:36<00:13, 29.88it/s]"
     ]
    },
    {
     "name": "stdout",
     "output_type": "stream",
     "text": [
      "Not close enough:  25\n"
     ]
    },
    {
     "name": "stderr",
     "output_type": "stream",
     "text": [
      " 74%|███████▍  | 1112/1507 [00:36<00:13, 29.31it/s]"
     ]
    },
    {
     "name": "stdout",
     "output_type": "stream",
     "text": [
      "Not close enough:  470\n",
      "Not close enough:  35\n",
      "Not close enough:  27\n",
      "Not close enough:  5\n",
      "Not close enough:  25\n",
      "Not close enough:  83\n"
     ]
    },
    {
     "name": "stderr",
     "output_type": "stream",
     "text": [
      " 74%|███████▍  | 1118/1507 [00:36<00:13, 29.07it/s]"
     ]
    },
    {
     "name": "stdout",
     "output_type": "stream",
     "text": [
      "Not close enough:  19\n"
     ]
    },
    {
     "name": "stderr",
     "output_type": "stream",
     "text": [
      " 75%|███████▌  | 1131/1507 [00:37<00:12, 30.61it/s]"
     ]
    },
    {
     "name": "stdout",
     "output_type": "stream",
     "text": [
      "Not close enough:  29\n",
      "Not close enough:  6\n",
      "Not close enough:  34\n"
     ]
    },
    {
     "name": "stderr",
     "output_type": "stream",
     "text": [
      " 76%|███████▌  | 1138/1507 [00:37<00:12, 28.87it/s]"
     ]
    },
    {
     "name": "stdout",
     "output_type": "stream",
     "text": [
      "Not close enough:  5\n",
      "Not close enough:  35\n",
      "Not close enough:  31\n",
      "Not close enough:  28\n"
     ]
    },
    {
     "name": "stderr",
     "output_type": "stream",
     "text": [
      " 76%|███████▌  | 1149/1507 [00:37<00:11, 30.84it/s]"
     ]
    },
    {
     "name": "stdout",
     "output_type": "stream",
     "text": [
      "Not close enough:  25\n",
      "Not close enough:  24\n"
     ]
    },
    {
     "name": "stderr",
     "output_type": "stream",
     "text": [
      " 77%|███████▋  | 1157/1507 [00:38<00:11, 31.75it/s]"
     ]
    },
    {
     "name": "stdout",
     "output_type": "stream",
     "text": [
      "Not close enough:  83\n",
      "Not close enough:  26\n"
     ]
    },
    {
     "name": "stderr",
     "output_type": "stream",
     "text": [
      " 77%|███████▋  | 1165/1507 [00:38<00:10, 31.42it/s]"
     ]
    },
    {
     "name": "stdout",
     "output_type": "stream",
     "text": [
      "Not close enough:  196\n",
      "Not close enough:  24\n"
     ]
    },
    {
     "name": "stderr",
     "output_type": "stream",
     "text": [
      " 78%|███████▊  | 1177/1507 [00:38<00:11, 29.83it/s]"
     ]
    },
    {
     "name": "stdout",
     "output_type": "stream",
     "text": [
      "Not close enough:  25\n",
      "Not close enough:  45\n",
      "Not close enough:  31\n",
      "Not close enough:  21\n"
     ]
    },
    {
     "name": "stderr",
     "output_type": "stream",
     "text": [
      " 78%|███████▊  | 1181/1507 [00:38<00:10, 31.22it/s]"
     ]
    },
    {
     "name": "stdout",
     "output_type": "stream",
     "text": [
      "Not close enough:  28\n",
      "Not close enough:  5\n",
      "Not close enough:  7\n"
     ]
    },
    {
     "name": "stderr",
     "output_type": "stream",
     "text": [
      " 79%|███████▉  | 1189/1507 [00:39<00:10, 30.92it/s]"
     ]
    },
    {
     "name": "stdout",
     "output_type": "stream",
     "text": [
      "Not close enough:  29\n",
      "Not close enough:  32\n"
     ]
    },
    {
     "name": "stderr",
     "output_type": "stream",
     "text": [
      " 80%|███████▉  | 1200/1507 [00:39<00:10, 30.59it/s]"
     ]
    },
    {
     "name": "stdout",
     "output_type": "stream",
     "text": [
      "Not close enough:  34\n",
      "Not close enough:  25\n",
      "Not close enough:  241\n"
     ]
    },
    {
     "name": "stderr",
     "output_type": "stream",
     "text": [
      " 80%|███████▉  | 1204/1507 [00:39<00:10, 29.11it/s]"
     ]
    },
    {
     "name": "stdout",
     "output_type": "stream",
     "text": [
      "Not close enough:  7\n"
     ]
    },
    {
     "name": "stderr",
     "output_type": "stream",
     "text": [
      " 81%|████████  | 1220/1507 [00:40<00:08, 32.40it/s]"
     ]
    },
    {
     "name": "stdout",
     "output_type": "stream",
     "text": [
      "Not close enough:  32\n",
      "Not close enough:  30\n",
      "Not close enough:  32\n",
      "Not close enough:  30\n"
     ]
    },
    {
     "name": "stderr",
     "output_type": "stream",
     "text": [
      " 81%|████████▏ | 1228/1507 [00:40<00:08, 33.79it/s]"
     ]
    },
    {
     "name": "stdout",
     "output_type": "stream",
     "text": [
      "Not close enough:  25\n",
      "Not close enough:  6\n",
      "Not close enough:  19\n"
     ]
    },
    {
     "name": "stderr",
     "output_type": "stream",
     "text": [
      " 82%|████████▏ | 1236/1507 [00:40<00:08, 33.31it/s]"
     ]
    },
    {
     "name": "stdout",
     "output_type": "stream",
     "text": [
      "Not close enough:  28\n",
      "Not close enough:  7\n",
      "Not close enough:  30\n",
      "Not close enough:  25\n",
      "Not close enough:  17\n",
      "Not close enough:  33\n"
     ]
    },
    {
     "name": "stderr",
     "output_type": "stream",
     "text": [
      " 83%|████████▎ | 1244/1507 [00:40<00:07, 34.25it/s]"
     ]
    },
    {
     "name": "stdout",
     "output_type": "stream",
     "text": [
      "Not close enough:  31\n",
      "Not close enough:  3\n"
     ]
    },
    {
     "name": "stderr",
     "output_type": "stream",
     "text": [
      " 83%|████████▎ | 1252/1507 [00:41<00:08, 30.93it/s]"
     ]
    },
    {
     "name": "stdout",
     "output_type": "stream",
     "text": [
      "Not close enough:  5\n",
      "Not close enough:  28\n",
      "Not close enough:  25\n"
     ]
    },
    {
     "name": "stderr",
     "output_type": "stream",
     "text": [
      " 84%|████████▍ | 1264/1507 [00:41<00:07, 32.81it/s]"
     ]
    },
    {
     "name": "stdout",
     "output_type": "stream",
     "text": [
      "Not close enough:  6\n",
      "Not close enough:  25\n",
      "Not close enough:  38\n"
     ]
    },
    {
     "name": "stderr",
     "output_type": "stream",
     "text": [
      " 84%|████████▍ | 1272/1507 [00:41<00:07, 29.85it/s]"
     ]
    },
    {
     "name": "stdout",
     "output_type": "stream",
     "text": [
      "Not close enough:  27\n"
     ]
    },
    {
     "name": "stderr",
     "output_type": "stream",
     "text": [
      " 85%|████████▌ | 1284/1507 [00:42<00:07, 31.78it/s]"
     ]
    },
    {
     "name": "stdout",
     "output_type": "stream",
     "text": [
      "Not close enough:  29\n",
      "Not close enough:  24\n",
      "Not close enough:  37\n",
      "Not close enough:  28\n"
     ]
    },
    {
     "name": "stderr",
     "output_type": "stream",
     "text": [
      " 86%|████████▌ | 1292/1507 [00:42<00:06, 33.07it/s]"
     ]
    },
    {
     "name": "stdout",
     "output_type": "stream",
     "text": [
      "Not close enough:  3\n"
     ]
    },
    {
     "name": "stderr",
     "output_type": "stream",
     "text": [
      " 87%|████████▋ | 1304/1507 [00:42<00:06, 31.60it/s]"
     ]
    },
    {
     "name": "stdout",
     "output_type": "stream",
     "text": [
      "Not close enough:  25\n",
      "Not close enough:  24\n"
     ]
    },
    {
     "name": "stderr",
     "output_type": "stream",
     "text": [
      " 87%|████████▋ | 1312/1507 [00:43<00:06, 31.40it/s]"
     ]
    },
    {
     "name": "stdout",
     "output_type": "stream",
     "text": [
      "Not close enough:  32\n",
      "Not close enough:  20\n",
      "Not close enough:  22\n"
     ]
    },
    {
     "name": "stderr",
     "output_type": "stream",
     "text": [
      " 88%|████████▊ | 1320/1507 [00:43<00:06, 30.85it/s]"
     ]
    },
    {
     "name": "stdout",
     "output_type": "stream",
     "text": [
      "Not close enough:  30\n"
     ]
    },
    {
     "name": "stderr",
     "output_type": "stream",
     "text": [
      " 88%|████████▊ | 1327/1507 [00:43<00:06, 27.63it/s]"
     ]
    },
    {
     "name": "stdout",
     "output_type": "stream",
     "text": [
      "Not close enough:  58\n",
      "Not close enough:  32\n",
      "Not close enough:  26\n"
     ]
    },
    {
     "name": "stderr",
     "output_type": "stream",
     "text": [
      " 89%|████████▊ | 1334/1507 [00:43<00:05, 29.28it/s]"
     ]
    },
    {
     "name": "stdout",
     "output_type": "stream",
     "text": [
      "Not close enough:  26\n",
      "Not close enough:  58\n",
      "Not close enough:  19\n",
      "Not close enough:  30\n"
     ]
    },
    {
     "name": "stderr",
     "output_type": "stream",
     "text": [
      " 89%|████████▉ | 1345/1507 [00:44<00:05, 27.47it/s]"
     ]
    },
    {
     "name": "stdout",
     "output_type": "stream",
     "text": [
      "Not close enough:  38\n"
     ]
    },
    {
     "name": "stderr",
     "output_type": "stream",
     "text": [
      " 90%|████████▉ | 1353/1507 [00:44<00:04, 30.80it/s]"
     ]
    },
    {
     "name": "stdout",
     "output_type": "stream",
     "text": [
      "Not close enough:  98\n",
      "Not close enough:  31\n",
      "Not close enough:  29\n"
     ]
    },
    {
     "name": "stderr",
     "output_type": "stream",
     "text": [
      " 91%|█████████▏| 1377/1507 [00:45<00:04, 30.86it/s]"
     ]
    },
    {
     "name": "stdout",
     "output_type": "stream",
     "text": [
      "Not close enough:  34\n",
      "Not close enough:  240\n",
      "Not close enough:  3\n",
      "Not close enough:  24\n"
     ]
    },
    {
     "name": "stderr",
     "output_type": "stream",
     "text": [
      " 92%|█████████▏| 1385/1507 [00:45<00:03, 32.85it/s]"
     ]
    },
    {
     "name": "stdout",
     "output_type": "stream",
     "text": [
      "Not close enough:  31\n",
      "Not close enough:  7\n",
      "Not close enough:  153\n"
     ]
    },
    {
     "name": "stderr",
     "output_type": "stream",
     "text": [
      " 92%|█████████▏| 1393/1507 [00:45<00:03, 33.39it/s]"
     ]
    },
    {
     "name": "stdout",
     "output_type": "stream",
     "text": [
      "Not close enough:  27\n",
      "Not close enough:  58\n",
      "Not close enough:  402\n"
     ]
    },
    {
     "name": "stderr",
     "output_type": "stream",
     "text": [
      " 93%|█████████▎| 1401/1507 [00:46<00:03, 31.96it/s]"
     ]
    },
    {
     "name": "stdout",
     "output_type": "stream",
     "text": [
      "Not close enough:  349\n",
      "Not close enough:  30\n"
     ]
    },
    {
     "name": "stderr",
     "output_type": "stream",
     "text": [
      " 93%|█████████▎| 1409/1507 [00:46<00:03, 31.36it/s]"
     ]
    },
    {
     "name": "stdout",
     "output_type": "stream",
     "text": [
      "Not close enough:  36\n",
      "Not close enough:  23\n",
      "Not close enough:  34\n",
      "Not close enough:  111\n"
     ]
    },
    {
     "name": "stderr",
     "output_type": "stream",
     "text": [
      " 94%|█████████▍| 1417/1507 [00:46<00:02, 31.90it/s]"
     ]
    },
    {
     "name": "stdout",
     "output_type": "stream",
     "text": [
      "Not close enough:  42\n",
      "Not close enough:  3\n"
     ]
    },
    {
     "name": "stderr",
     "output_type": "stream",
     "text": [
      " 95%|█████████▍| 1425/1507 [00:46<00:02, 31.72it/s]"
     ]
    },
    {
     "name": "stdout",
     "output_type": "stream",
     "text": [
      "Not close enough:  32\n",
      "Not close enough:  43\n",
      "Not close enough:  18\n"
     ]
    },
    {
     "name": "stderr",
     "output_type": "stream",
     "text": [
      " 95%|█████████▌| 1432/1507 [00:47<00:02, 29.04it/s]"
     ]
    },
    {
     "name": "stdout",
     "output_type": "stream",
     "text": [
      "Not close enough:  26\n",
      "Not close enough:  22\n"
     ]
    },
    {
     "name": "stderr",
     "output_type": "stream",
     "text": [
      " 95%|█████████▌| 1438/1507 [00:47<00:02, 28.67it/s]"
     ]
    },
    {
     "name": "stdout",
     "output_type": "stream",
     "text": [
      "Not close enough:  20\n",
      "Not close enough:  24\n",
      "Not close enough:  3\n"
     ]
    },
    {
     "name": "stderr",
     "output_type": "stream",
     "text": [
      " 96%|█████████▌| 1450/1507 [00:47<00:01, 30.04it/s]"
     ]
    },
    {
     "name": "stdout",
     "output_type": "stream",
     "text": [
      "Not close enough:  26\n",
      "Not close enough:  41\n",
      "Not close enough:  28\n"
     ]
    },
    {
     "name": "stderr",
     "output_type": "stream",
     "text": [
      " 97%|█████████▋| 1458/1507 [00:47<00:01, 28.62it/s]"
     ]
    },
    {
     "name": "stdout",
     "output_type": "stream",
     "text": [
      "Not close enough:  31\n",
      "Not close enough:  23\n"
     ]
    },
    {
     "name": "stderr",
     "output_type": "stream",
     "text": [
      " 97%|█████████▋| 1469/1507 [00:48<00:01, 28.49it/s]"
     ]
    },
    {
     "name": "stdout",
     "output_type": "stream",
     "text": [
      "Not close enough:  27\n",
      "Not close enough:  18\n"
     ]
    },
    {
     "name": "stderr",
     "output_type": "stream",
     "text": [
      " 98%|█████████▊| 1475/1507 [00:48<00:01, 28.48it/s]"
     ]
    },
    {
     "name": "stdout",
     "output_type": "stream",
     "text": [
      "Not close enough:  30\n",
      "Not close enough:  5\n",
      "Not close enough:  26\n",
      "Not close enough:  13\n"
     ]
    },
    {
     "name": "stderr",
     "output_type": "stream",
     "text": [
      " 98%|█████████▊| 1483/1507 [00:48<00:00, 30.21it/s]"
     ]
    },
    {
     "name": "stdout",
     "output_type": "stream",
     "text": [
      "Not close enough:  66\n",
      "Not close enough:  36\n",
      "Not close enough:  8\n",
      "Not close enough:  62\n"
     ]
    },
    {
     "name": "stderr",
     "output_type": "stream",
     "text": [
      " 99%|█████████▉| 1491/1507 [00:49<00:00, 30.76it/s]"
     ]
    },
    {
     "name": "stdout",
     "output_type": "stream",
     "text": [
      "Not close enough:  48\n",
      "Not close enough:  86\n"
     ]
    },
    {
     "name": "stderr",
     "output_type": "stream",
     "text": [
      " 99%|█████████▉| 1499/1507 [00:49<00:00, 30.26it/s]"
     ]
    },
    {
     "name": "stdout",
     "output_type": "stream",
     "text": [
      "Not close enough:  19\n"
     ]
    },
    {
     "name": "stderr",
     "output_type": "stream",
     "text": [
      "100%|██████████| 1507/1507 [00:49<00:00, 30.36it/s]"
     ]
    },
    {
     "name": "stdout",
     "output_type": "stream",
     "text": [
      "Not close enough:  7\n",
      "Not close enough:  21\n",
      "Not close enough:  25\n"
     ]
    },
    {
     "name": "stderr",
     "output_type": "stream",
     "text": [
      "\n"
     ]
    }
   ],
   "source": [
    "target_random_Kd_dict = dict()\n",
    "\n",
    "for node in tqdm(list(randomized_combined_unipartite.nodes())):\n",
    "    degree_node = randomized_combined_unipartite.degree(node)\n",
    "    closest_indices = closest(K_copula_list,degree_node)\n",
    "    Kd_all_list = []\n",
    "    for index in closest_indices:\n",
    "        Kd_all_list.append(Kd_copula_list[index])\n",
    "    target_random_Kd_dict[node] = Kd_all_list"
   ]
  },
  {
   "cell_type": "code",
   "execution_count": 26,
   "metadata": {},
   "outputs": [
    {
     "name": "stderr",
     "output_type": "stream",
     "text": [
      "/miniconda/lib/python3.6/site-packages/ipykernel_launcher.py:5: UserWarning: Attempted to set non-positive bottom ylim on a log-scaled axis.\n",
      "Invalid limit will be ignored.\n",
      "  \"\"\"\n"
     ]
    },
    {
     "data": {
      "text/plain": [
       "(0.0004248228392235566, 100000000)"
      ]
     },
     "execution_count": 26,
     "metadata": {},
     "output_type": "execute_result"
    },
    {
     "data": {
      "image/png": "[encoded data removed]",
      "text/plain": [
       "<Figure size 432x288 with 1 Axes>"
      ]
     },
     "metadata": {
      "needs_background": "light"
     },
     "output_type": "display_data"
    }
   ],
   "source": [
    "plt.scatter([randomized_combined_unipartite.degree(node) for node in list(randomized_combined_unipartite.nodes())],[np.random.choice(target_random_Kd_dict[node]) for node in list(randomized_combined_unipartite.nodes())])\n",
    "plt.yscale('log')\n",
    "plt.xlabel('Target degree')\n",
    "plt.ylabel('Kd Chosen')\n",
    "plt.ylim([0,10**8])"
   ]
  },
  {
   "cell_type": "code",
   "execution_count": 27,
   "metadata": {},
   "outputs": [
    {
     "data": {
      "text/plain": [
       "SpearmanrResult(correlation=-0.6868883966354218, pvalue=7.447148601306735e-211)"
      ]
     },
     "execution_count": 27,
     "metadata": {},
     "output_type": "execute_result"
    }
   ],
   "source": [
    "stats.spearmanr([randomized_combined_unipartite.degree(node) for node in list(randomized_combined_unipartite.nodes())],[np.random.choice(target_random_Kd_dict[node]) for node in list(randomized_combined_unipartite.nodes())])"
   ]
  },
  {
   "cell_type": "code",
   "execution_count": 28,
   "metadata": {
    "scrolled": true
   },
   "outputs": [
    {
     "name": "stderr",
     "output_type": "stream",
     "text": [
      "100%|██████████| 28726/28726 [00:05<00:00, 5412.57it/s]\n"
     ]
    }
   ],
   "source": [
    "targets_list_1 = []\n",
    "targets_list_2 = []\n",
    "Kd_for_edges = []\n",
    "\n",
    "for edge in tqdm(randomized_combined_unipartite.edges()):\n",
    "    targets_list_1.append(targets[edge[0]])\n",
    "    targets_list_2.append(targets[edge[1]])\n",
    "    mu = np.random.choice(target_random_Kd_dict[edge[0]])\n",
    "    #if randomized_combined_unipartite.degree(edge[0]) in different_target_annotations:\n",
    "    #    sigma = unique_Kd_targets_std[different_target_annotations.index(randomized_combined_unipartite.degree(edge[0]))]\n",
    "    #else:\n",
    "    #    sigma = 0\n",
    "    Kd_value_1 = mu # np.random.normal(mu, sigma, 1)\n",
    "    mu = np.random.choice(target_random_Kd_dict[edge[1]])\n",
    "    #if randomized_combined_unipartite.degree(edge[1]) in different_target_annotations:\n",
    "    #    sigma = unique_Kd_targets_std[different_target_annotations.index(randomized_combined_unipartite.degree(edge[1]))]\n",
    "    #else:\n",
    "    #    sigma = 0\n",
    "    Kd_value_2 = mu # np.random.normal(mu, sigma, 1)\n",
    "    Kd_for_edges.append(float(np.sqrt(Kd_value_1*Kd_value_2))) # float(Kd_value_1+Kd_value_2)/2"
   ]
  },
  {
   "cell_type": "code",
   "execution_count": 29,
   "metadata": {},
   "outputs": [
    {
     "name": "stderr",
     "output_type": "stream",
     "text": [
      "100%|██████████| 28726/28726 [00:00<00:00, 112260.37it/s]\n"
     ]
    }
   ],
   "source": [
    "K_list_bleh = []\n",
    "Kd_List_bleh = []\n",
    "i = 0\n",
    "\n",
    "for edge in tqdm(randomized_combined_unipartite.edges()):\n",
    "    K_list_bleh.append(randomized_combined_unipartite.degree(edge[0]))\n",
    "    K_list_bleh.append(randomized_combined_unipartite.degree(edge[1]))\n",
    "    Kd_List_bleh.append(Kd_for_edges[i])\n",
    "    Kd_List_bleh.append(Kd_for_edges[i])\n",
    "    i = i + 1"
   ]
  },
  {
   "cell_type": "code",
   "execution_count": 30,
   "metadata": {},
   "outputs": [
    {
     "name": "stderr",
     "output_type": "stream",
     "text": [
      "/miniconda/lib/python3.6/site-packages/ipykernel_launcher.py:4: UserWarning: Attempted to set non-positive bottom ylim on a log-scaled axis.\n",
      "Invalid limit will be ignored.\n",
      "  after removing the cwd from sys.path.\n"
     ]
    },
    {
     "data": {
      "text/plain": [
       "(0.019226480245164358, 100000000)"
      ]
     },
     "execution_count": 30,
     "metadata": {},
     "output_type": "execute_result"
    },
    {
     "data": {
      "image/png": "[encoded data removed]",
      "text/plain": [
       "<Figure size 432x288 with 1 Axes>"
      ]
     },
     "metadata": {
      "needs_background": "light"
     },
     "output_type": "display_data"
    }
   ],
   "source": [
    "plt.scatter(K_list_bleh,Kd_List_bleh)\n",
    "#plt.xscale('log')\n",
    "plt.yscale('log')\n",
    "plt.ylim([0,10**8])"
   ]
  },
  {
   "cell_type": "code",
   "execution_count": 31,
   "metadata": {},
   "outputs": [
    {
     "data": {
      "text/plain": [
       "SpearmanrResult(correlation=-0.0628710557622365, pvalue=2.055938973712947e-51)"
      ]
     },
     "execution_count": 31,
     "metadata": {},
     "output_type": "execute_result"
    }
   ],
   "source": [
    "stats.spearmanr(K_list_bleh,Kd_List_bleh)"
   ]
  },
  {
   "cell_type": "markdown",
   "metadata": {},
   "source": [
    "# Making DataFrame"
   ]
  },
  {
   "cell_type": "code",
   "execution_count": 32,
   "metadata": {},
   "outputs": [],
   "source": [
    "randomized_dataframe = pd.DataFrame()\n",
    "\n",
    "randomized_dataframe['Target Sequence 1'] = targets_list_1\n",
    "randomized_dataframe['Target Sequence 2'] = targets_list_2\n",
    "randomized_dataframe['Label'] = Kd_for_edges"
   ]
  },
  {
   "cell_type": "code",
   "execution_count": 33,
   "metadata": {},
   "outputs": [
    {
     "data": {
      "text/html": [
       "<div>\n",
       "<style scoped>\n",
       "    .dataframe tbody tr th:only-of-type {\n",
       "        vertical-align: middle;\n",
       "    }\n",
       "\n",
       "    .dataframe tbody tr th {\n",
       "        vertical-align: top;\n",
       "    }\n",
       "\n",
       "    .dataframe thead th {\n",
       "        text-align: right;\n",
       "    }\n",
       "</style>\n",
       "<table border=\"1\" class=\"dataframe\">\n",
       "  <thead>\n",
       "    <tr style=\"text-align: right;\">\n",
       "      <th></th>\n",
       "      <th>Target Sequence 1</th>\n",
       "      <th>Target Sequence 2</th>\n",
       "      <th>Label</th>\n",
       "    </tr>\n",
       "  </thead>\n",
       "  <tbody>\n",
       "    <tr>\n",
       "      <th>0</th>\n",
       "      <td>MESLFPAPFWEVLYGSHLQGNLSLLSPNHSGLPPHLLLNASHSAFL...</td>\n",
       "      <td>MSVNSEKSSSSERPEPQQKAPLVPPPPPPPPPPPPPLPDPTPPEPE...</td>\n",
       "      <td>223.437574</td>\n",
       "    </tr>\n",
       "    <tr>\n",
       "      <th>1</th>\n",
       "      <td>MESLFPAPFWEVLYGSHLQGNLSLLSPNHSGLPPHLLLNASHSAFL...</td>\n",
       "      <td>MAALSGGGGGGAEPGQALFNGDMEPEAGAGAGAAASSAADPAIPEE...</td>\n",
       "      <td>206.897177</td>\n",
       "    </tr>\n",
       "    <tr>\n",
       "      <th>2</th>\n",
       "      <td>MSWATRPPFLPPRHAAGQCGPVGVRKEMHCGVASRWRRRRPWLDPA...</td>\n",
       "      <td>MQPEEGTGWLLELLSEVQLQQYFLRLRDDLNVTRLSHFEYVKNEDL...</td>\n",
       "      <td>36.167678</td>\n",
       "    </tr>\n",
       "    <tr>\n",
       "      <th>3</th>\n",
       "      <td>MSWATRPPFLPPRHAAGQCGPVGVRKEMHCGVASRWRRRRPWLDPA...</td>\n",
       "      <td>MKAPAVLAPGILVLLFTLVQRSNGECKEALAKSEMNVNMKYQLPNF...</td>\n",
       "      <td>6.330564</td>\n",
       "    </tr>\n",
       "    <tr>\n",
       "      <th>4</th>\n",
       "      <td>MSWATRPPFLPPRHAAGQCGPVGVRKEMHCGVASRWRRRRPWLDPA...</td>\n",
       "      <td>MGNYKSRPTQTCTDEWKKKVSESYVITIERLEDDLQIKEKELTELR...</td>\n",
       "      <td>36.167678</td>\n",
       "    </tr>\n",
       "    <tr>\n",
       "      <th>...</th>\n",
       "      <td>...</td>\n",
       "      <td>...</td>\n",
       "      <td>...</td>\n",
       "    </tr>\n",
       "    <tr>\n",
       "      <th>28721</th>\n",
       "      <td>MAQKENSYPWPYGRQTAPSGLSTLPQRVLRKEPVTPSALVLMSRSN...</td>\n",
       "      <td>MASTRSIELEHFEERDKRPRPGSRRGAPSSSGGSSSSGPKGNGLIP...</td>\n",
       "      <td>2.758772</td>\n",
       "    </tr>\n",
       "    <tr>\n",
       "      <th>28722</th>\n",
       "      <td>MAQKENSYPWPYGRQTAPSGLSTLPQRVLRKEPVTPSALVLMSRSN...</td>\n",
       "      <td>APITAYAQQTRGLLGCIITSLTGRDKNQVEGEVQIVSTAAQTFLAT...</td>\n",
       "      <td>0.748748</td>\n",
       "    </tr>\n",
       "    <tr>\n",
       "      <th>28723</th>\n",
       "      <td>MAQKENSYPWPYGRQTAPSGLSTLPQRVLRKEPVTPSALVLMSRSN...</td>\n",
       "      <td>MAQKENSYPWPYGRQTAPSGLSTLPQRVLRKEPVTPSALVLMSRSN...</td>\n",
       "      <td>2.758772</td>\n",
       "    </tr>\n",
       "    <tr>\n",
       "      <th>28724</th>\n",
       "      <td>MRVVVIGAGVIGLSTALCIHERYHSVLQPLDIKVYADRFTPLTTTD...</td>\n",
       "      <td>MGCWGQLLVWFGAAGAILCSSPGSQETFLRSSPLPLASPSPRDPKV...</td>\n",
       "      <td>7.146629</td>\n",
       "    </tr>\n",
       "    <tr>\n",
       "      <th>28725</th>\n",
       "      <td>MGCWGQLLVWFGAAGAILCSSPGSQETFLRSSPLPLASPSPRDPKV...</td>\n",
       "      <td>MASTRSIELEHFEERDKRPRPGSRRGAPSSSGGSSSSGPKGNGLIP...</td>\n",
       "      <td>15.761371</td>\n",
       "    </tr>\n",
       "  </tbody>\n",
       "</table>\n",
       "<p>28726 rows × 3 columns</p>\n",
       "</div>"
      ],
      "text/plain": [
       "                                       Target Sequence 1  \\\n",
       "0      MESLFPAPFWEVLYGSHLQGNLSLLSPNHSGLPPHLLLNASHSAFL...   \n",
       "1      MESLFPAPFWEVLYGSHLQGNLSLLSPNHSGLPPHLLLNASHSAFL...   \n",
       "2      MSWATRPPFLPPRHAAGQCGPVGVRKEMHCGVASRWRRRRPWLDPA...   \n",
       "3      MSWATRPPFLPPRHAAGQCGPVGVRKEMHCGVASRWRRRRPWLDPA...   \n",
       "4      MSWATRPPFLPPRHAAGQCGPVGVRKEMHCGVASRWRRRRPWLDPA...   \n",
       "...                                                  ...   \n",
       "28721  MAQKENSYPWPYGRQTAPSGLSTLPQRVLRKEPVTPSALVLMSRSN...   \n",
       "28722  MAQKENSYPWPYGRQTAPSGLSTLPQRVLRKEPVTPSALVLMSRSN...   \n",
       "28723  MAQKENSYPWPYGRQTAPSGLSTLPQRVLRKEPVTPSALVLMSRSN...   \n",
       "28724  MRVVVIGAGVIGLSTALCIHERYHSVLQPLDIKVYADRFTPLTTTD...   \n",
       "28725  MGCWGQLLVWFGAAGAILCSSPGSQETFLRSSPLPLASPSPRDPKV...   \n",
       "\n",
       "                                       Target Sequence 2       Label  \n",
       "0      MSVNSEKSSSSERPEPQQKAPLVPPPPPPPPPPPPPLPDPTPPEPE...  223.437574  \n",
       "1      MAALSGGGGGGAEPGQALFNGDMEPEAGAGAGAAASSAADPAIPEE...  206.897177  \n",
       "2      MQPEEGTGWLLELLSEVQLQQYFLRLRDDLNVTRLSHFEYVKNEDL...   36.167678  \n",
       "3      MKAPAVLAPGILVLLFTLVQRSNGECKEALAKSEMNVNMKYQLPNF...    6.330564  \n",
       "4      MGNYKSRPTQTCTDEWKKKVSESYVITIERLEDDLQIKEKELTELR...   36.167678  \n",
       "...                                                  ...         ...  \n",
       "28721  MASTRSIELEHFEERDKRPRPGSRRGAPSSSGGSSSSGPKGNGLIP...    2.758772  \n",
       "28722  APITAYAQQTRGLLGCIITSLTGRDKNQVEGEVQIVSTAAQTFLAT...    0.748748  \n",
       "28723  MAQKENSYPWPYGRQTAPSGLSTLPQRVLRKEPVTPSALVLMSRSN...    2.758772  \n",
       "28724  MGCWGQLLVWFGAAGAILCSSPGSQETFLRSSPLPLASPSPRDPKV...    7.146629  \n",
       "28725  MASTRSIELEHFEERDKRPRPGSRRGAPSSSGGSSSSGPKGNGLIP...   15.761371  \n",
       "\n",
       "[28726 rows x 3 columns]"
      ]
     },
     "execution_count": 33,
     "metadata": {},
     "output_type": "execute_result"
    }
   ],
   "source": [
    "randomized_dataframe"
   ]
  },
  {
   "cell_type": "code",
   "execution_count": 57,
   "metadata": {},
   "outputs": [
    {
     "data": {
      "text/plain": [
       "<matplotlib.legend.Legend at 0x7fda9f858908>"
      ]
     },
     "execution_count": 57,
     "metadata": {},
     "output_type": "execute_result"
    },
    {
     "data": {
      "image/png": "[encoded data removed]",
      "text/plain": [
       "<Figure size 432x288 with 1 Axes>"
      ]
     },
     "metadata": {
      "needs_background": "light"
     },
     "output_type": "display_data"
    }
   ],
   "source": [
    "plt.hist(np.log(Kd_copula_list), density=True, label='Original', alpha=0.4) ## Original\n",
    "plt.hist(np.log(Kd_for_edges), density=True, label='Geometric Mean', alpha=0.4) ## With geomteric mean\n",
    "plt.legend()"
   ]
  },
  {
   "cell_type": "code",
   "execution_count": 34,
   "metadata": {},
   "outputs": [
    {
     "data": {
      "text/plain": [
       "(array([1.7300e+02, 5.1850e+03, 3.0780e+03, 1.2256e+04, 6.2040e+03,\n",
       "        1.3130e+03, 3.8300e+02, 1.0200e+02, 2.5000e+01, 7.0000e+00]),\n",
       " array([-3.30093216, -1.99986292, -0.69879369,  0.60227554,  1.90334477,\n",
       "         3.204414  ,  4.50548323,  5.80655246,  7.10762169,  8.40869092,\n",
       "         9.70976015]),\n",
       " <a list of 10 Patch objects>)"
      ]
     },
     "execution_count": 34,
     "metadata": {},
     "output_type": "execute_result"
    },
    {
     "data": {
      "image/png": "[encoded data removed]",
      "text/plain": [
       "<Figure size 432x288 with 1 Axes>"
      ]
     },
     "metadata": {
      "needs_background": "light"
     },
     "output_type": "display_data"
    }
   ],
   "source": [
    "plt.hist(np.log(Kd_for_edges))"
   ]
  },
  {
   "cell_type": "code",
   "execution_count": 35,
   "metadata": {},
   "outputs": [
    {
     "name": "stderr",
     "output_type": "stream",
     "text": [
      "100%|██████████| 28726/28726 [00:00<00:00, 1353724.89it/s]"
     ]
    },
    {
     "name": "stdout",
     "output_type": "stream",
     "text": [
      "Threshold:  0.7055802682050327\n"
     ]
    },
    {
     "name": "stderr",
     "output_type": "stream",
     "text": [
      "\n"
     ]
    }
   ],
   "source": [
    "threshold = np.exp(np.mean(np.log(Kd_for_edges)) + norm.ppf(0.16) * np.std(np.log(Kd_for_edges))) ## 30 \n",
    "print('Threshold: ', threshold)\n",
    "\n",
    "binary_labels = [1 if x < threshold else 0 for x in tqdm(randomized_dataframe['Label'].tolist())]\n",
    "\n",
    "randomized_dataframe['Label'] = binary_labels"
   ]
  },
  {
   "cell_type": "code",
   "execution_count": 36,
   "metadata": {},
   "outputs": [
    {
     "data": {
      "text/html": [
       "<div>\n",
       "<style scoped>\n",
       "    .dataframe tbody tr th:only-of-type {\n",
       "        vertical-align: middle;\n",
       "    }\n",
       "\n",
       "    .dataframe tbody tr th {\n",
       "        vertical-align: top;\n",
       "    }\n",
       "\n",
       "    .dataframe thead th {\n",
       "        text-align: right;\n",
       "    }\n",
       "</style>\n",
       "<table border=\"1\" class=\"dataframe\">\n",
       "  <thead>\n",
       "    <tr style=\"text-align: right;\">\n",
       "      <th></th>\n",
       "      <th>Target Sequence 1</th>\n",
       "      <th>Target Sequence 2</th>\n",
       "      <th>Label</th>\n",
       "    </tr>\n",
       "  </thead>\n",
       "  <tbody>\n",
       "    <tr>\n",
       "      <th>0</th>\n",
       "      <td>MESLFPAPFWEVLYGSHLQGNLSLLSPNHSGLPPHLLLNASHSAFL...</td>\n",
       "      <td>MSVNSEKSSSSERPEPQQKAPLVPPPPPPPPPPPPPLPDPTPPEPE...</td>\n",
       "      <td>0</td>\n",
       "    </tr>\n",
       "    <tr>\n",
       "      <th>1</th>\n",
       "      <td>MESLFPAPFWEVLYGSHLQGNLSLLSPNHSGLPPHLLLNASHSAFL...</td>\n",
       "      <td>MAALSGGGGGGAEPGQALFNGDMEPEAGAGAGAAASSAADPAIPEE...</td>\n",
       "      <td>0</td>\n",
       "    </tr>\n",
       "    <tr>\n",
       "      <th>2</th>\n",
       "      <td>MSWATRPPFLPPRHAAGQCGPVGVRKEMHCGVASRWRRRRPWLDPA...</td>\n",
       "      <td>MQPEEGTGWLLELLSEVQLQQYFLRLRDDLNVTRLSHFEYVKNEDL...</td>\n",
       "      <td>0</td>\n",
       "    </tr>\n",
       "    <tr>\n",
       "      <th>3</th>\n",
       "      <td>MSWATRPPFLPPRHAAGQCGPVGVRKEMHCGVASRWRRRRPWLDPA...</td>\n",
       "      <td>MKAPAVLAPGILVLLFTLVQRSNGECKEALAKSEMNVNMKYQLPNF...</td>\n",
       "      <td>0</td>\n",
       "    </tr>\n",
       "    <tr>\n",
       "      <th>4</th>\n",
       "      <td>MSWATRPPFLPPRHAAGQCGPVGVRKEMHCGVASRWRRRRPWLDPA...</td>\n",
       "      <td>MGNYKSRPTQTCTDEWKKKVSESYVITIERLEDDLQIKEKELTELR...</td>\n",
       "      <td>0</td>\n",
       "    </tr>\n",
       "    <tr>\n",
       "      <th>...</th>\n",
       "      <td>...</td>\n",
       "      <td>...</td>\n",
       "      <td>...</td>\n",
       "    </tr>\n",
       "    <tr>\n",
       "      <th>28721</th>\n",
       "      <td>MAQKENSYPWPYGRQTAPSGLSTLPQRVLRKEPVTPSALVLMSRSN...</td>\n",
       "      <td>MASTRSIELEHFEERDKRPRPGSRRGAPSSSGGSSSSGPKGNGLIP...</td>\n",
       "      <td>0</td>\n",
       "    </tr>\n",
       "    <tr>\n",
       "      <th>28722</th>\n",
       "      <td>MAQKENSYPWPYGRQTAPSGLSTLPQRVLRKEPVTPSALVLMSRSN...</td>\n",
       "      <td>APITAYAQQTRGLLGCIITSLTGRDKNQVEGEVQIVSTAAQTFLAT...</td>\n",
       "      <td>0</td>\n",
       "    </tr>\n",
       "    <tr>\n",
       "      <th>28723</th>\n",
       "      <td>MAQKENSYPWPYGRQTAPSGLSTLPQRVLRKEPVTPSALVLMSRSN...</td>\n",
       "      <td>MAQKENSYPWPYGRQTAPSGLSTLPQRVLRKEPVTPSALVLMSRSN...</td>\n",
       "      <td>0</td>\n",
       "    </tr>\n",
       "    <tr>\n",
       "      <th>28724</th>\n",
       "      <td>MRVVVIGAGVIGLSTALCIHERYHSVLQPLDIKVYADRFTPLTTTD...</td>\n",
       "      <td>MGCWGQLLVWFGAAGAILCSSPGSQETFLRSSPLPLASPSPRDPKV...</td>\n",
       "      <td>0</td>\n",
       "    </tr>\n",
       "    <tr>\n",
       "      <th>28725</th>\n",
       "      <td>MGCWGQLLVWFGAAGAILCSSPGSQETFLRSSPLPLASPSPRDPKV...</td>\n",
       "      <td>MASTRSIELEHFEERDKRPRPGSRRGAPSSSGGSSSSGPKGNGLIP...</td>\n",
       "      <td>0</td>\n",
       "    </tr>\n",
       "  </tbody>\n",
       "</table>\n",
       "<p>28726 rows × 3 columns</p>\n",
       "</div>"
      ],
      "text/plain": [
       "                                       Target Sequence 1  \\\n",
       "0      MESLFPAPFWEVLYGSHLQGNLSLLSPNHSGLPPHLLLNASHSAFL...   \n",
       "1      MESLFPAPFWEVLYGSHLQGNLSLLSPNHSGLPPHLLLNASHSAFL...   \n",
       "2      MSWATRPPFLPPRHAAGQCGPVGVRKEMHCGVASRWRRRRPWLDPA...   \n",
       "3      MSWATRPPFLPPRHAAGQCGPVGVRKEMHCGVASRWRRRRPWLDPA...   \n",
       "4      MSWATRPPFLPPRHAAGQCGPVGVRKEMHCGVASRWRRRRPWLDPA...   \n",
       "...                                                  ...   \n",
       "28721  MAQKENSYPWPYGRQTAPSGLSTLPQRVLRKEPVTPSALVLMSRSN...   \n",
       "28722  MAQKENSYPWPYGRQTAPSGLSTLPQRVLRKEPVTPSALVLMSRSN...   \n",
       "28723  MAQKENSYPWPYGRQTAPSGLSTLPQRVLRKEPVTPSALVLMSRSN...   \n",
       "28724  MRVVVIGAGVIGLSTALCIHERYHSVLQPLDIKVYADRFTPLTTTD...   \n",
       "28725  MGCWGQLLVWFGAAGAILCSSPGSQETFLRSSPLPLASPSPRDPKV...   \n",
       "\n",
       "                                       Target Sequence 2  Label  \n",
       "0      MSVNSEKSSSSERPEPQQKAPLVPPPPPPPPPPPPPLPDPTPPEPE...      0  \n",
       "1      MAALSGGGGGGAEPGQALFNGDMEPEAGAGAGAAASSAADPAIPEE...      0  \n",
       "2      MQPEEGTGWLLELLSEVQLQQYFLRLRDDLNVTRLSHFEYVKNEDL...      0  \n",
       "3      MKAPAVLAPGILVLLFTLVQRSNGECKEALAKSEMNVNMKYQLPNF...      0  \n",
       "4      MGNYKSRPTQTCTDEWKKKVSESYVITIERLEDDLQIKEKELTELR...      0  \n",
       "...                                                  ...    ...  \n",
       "28721  MASTRSIELEHFEERDKRPRPGSRRGAPSSSGGSSSSGPKGNGLIP...      0  \n",
       "28722  APITAYAQQTRGLLGCIITSLTGRDKNQVEGEVQIVSTAAQTFLAT...      0  \n",
       "28723  MAQKENSYPWPYGRQTAPSGLSTLPQRVLRKEPVTPSALVLMSRSN...      0  \n",
       "28724  MGCWGQLLVWFGAAGAILCSSPGSQETFLRSSPLPLASPSPRDPKV...      0  \n",
       "28725  MASTRSIELEHFEERDKRPRPGSRRGAPSSSGGSSSSGPKGNGLIP...      0  \n",
       "\n",
       "[28726 rows x 3 columns]"
      ]
     },
     "execution_count": 36,
     "metadata": {},
     "output_type": "execute_result"
    }
   ],
   "source": [
    "randomized_dataframe"
   ]
  },
  {
   "cell_type": "code",
   "execution_count": 37,
   "metadata": {},
   "outputs": [
    {
     "name": "stdout",
     "output_type": "stream",
     "text": [
      "21860\n",
      "6866\n"
     ]
    }
   ],
   "source": [
    "print(randomized_dataframe['Label'].tolist().count(0))\n",
    "print(randomized_dataframe['Label'].tolist().count(1))"
   ]
  },
  {
   "cell_type": "code",
   "execution_count": 73,
   "metadata": {},
   "outputs": [],
   "source": [
    "targets = list(set(randomized_dataframe['Target Sequence 1'].tolist()).union(set(randomized_dataframe['Target Sequence 2'].tolist())))"
   ]
  },
  {
   "cell_type": "code",
   "execution_count": 74,
   "metadata": {},
   "outputs": [
    {
     "name": "stderr",
     "output_type": "stream",
     "text": [
      "100%|██████████| 1507/1507 [00:11<00:00, 131.92it/s]\n"
     ]
    }
   ],
   "source": [
    "target_annotations_randomized = []\n",
    "target_pos_degree_randomized = []\n",
    "target_neg_degree_randomized = []\n",
    "target_degree_ratio_randomized = []\n",
    "Kd_targets_average_list = []\n",
    "\n",
    "for prot in tqdm(targets):\n",
    "    \n",
    "    if prot in randomized_dataframe['Target Sequence 1'].tolist() and prot not in randomized_dataframe['Target Sequence 2'].tolist():\n",
    "        \n",
    "        sub_df = randomized_dataframe[randomized_dataframe['Target Sequence 1'] == prot]\n",
    "        target_annotations_randomized.append(len(sub_df))\n",
    "        target_pos_degree_randomized.append(sub_df['Label'].tolist().count(1))\n",
    "        target_neg_degree_randomized.append(sub_df['Label'].tolist().count(0))\n",
    "        target_degree_ratio_randomized.append(sub_df['Label'].tolist().count(1)/(sub_df['Label'].tolist().count(1)+sub_df['Label'].tolist().count(0)))\n",
    "    \n",
    "    elif prot in randomized_dataframe['Target Sequence 1'].tolist() and prot not in randomized_dataframe['Target Sequence 2'].tolist():\n",
    "        \n",
    "        sub_df = randomized_dataframe[randomized_dataframe['Target Sequence 2'] == prot]\n",
    "        target_annotations_randomized.append(len(sub_df))\n",
    "        target_pos_degree_randomized.append(sub_df['Label'].tolist().count(1))\n",
    "        target_neg_degree_randomized.append(sub_df['Label'].tolist().count(0))\n",
    "        target_degree_ratio_randomized.append(sub_df['Label'].tolist().count(1)/(sub_df['Label'].tolist().count(1)+sub_df['Label'].tolist().count(0)))\n",
    "    \n",
    "    elif prot in randomized_dataframe['Target Sequence 1'].tolist() and prot in randomized_dataframe['Target Sequence 2'].tolist():\n",
    "        \n",
    "        sub_df1 = randomized_dataframe[randomized_dataframe['Target Sequence 1'] == prot]\n",
    "        sub_df2 = randomized_dataframe[randomized_dataframe['Target Sequence 2'] == prot]\n",
    "        sub_df = pd.concat([sub_df1,sub_df2])\n",
    "        target_annotations_randomized.append(len(sub_df))\n",
    "        target_pos_degree_randomized.append(sub_df['Label'].tolist().count(1))\n",
    "        target_neg_degree_randomized.append(sub_df['Label'].tolist().count(0))\n",
    "        target_degree_ratio_randomized.append(sub_df['Label'].tolist().count(1)/(sub_df['Label'].tolist().count(1)+sub_df['Label'].tolist().count(0)))"
   ]
  },
  {
   "cell_type": "code",
   "execution_count": 75,
   "metadata": {},
   "outputs": [
    {
     "data": {
      "text/plain": [
       "<matplotlib.legend.Legend at 0x7fdaa1289198>"
      ]
     },
     "execution_count": 75,
     "metadata": {},
     "output_type": "execute_result"
    },
    {
     "data": {
      "image/png": "[encoded data removed]",
      "text/plain": [
       "<Figure size 640x480 with 1 Axes>"
      ]
     },
     "metadata": {
      "needs_background": "light"
     },
     "output_type": "display_data"
    }
   ],
   "source": [
    "figure(figsize=(8, 6), dpi=80)\n",
    "\n",
    "sns.distplot(target_annotations_bindingDB, norm_hist=True, label='Original')\n",
    "sns.distplot([randomized_combined_unipartite.degree(node) for node in list(randomized_combined_unipartite.nodes())], norm_hist=True, label='Randomized')\n",
    "#axs[3, 0].set_xscale('log')\n",
    "#axs[3, 0].set_yscale('log')\n",
    "plt.title('Targets')\n",
    "plt.xlabel(r'$K$')\n",
    "plt.ylabel('PDF')\n",
    "plt.legend()"
   ]
  },
  {
   "cell_type": "code",
   "execution_count": 76,
   "metadata": {},
   "outputs": [
    {
     "name": "stdout",
     "output_type": "stream",
     "text": [
      "TARGETS\n",
      "Original - Between k and k+:  SpearmanrResult(correlation=0.6581040571662816, pvalue=1.017395698392328e-187)\n",
      "Original - Between k and k-:  SpearmanrResult(correlation=0.933866781238621, pvalue=0.0)\n",
      "Original - Between k+ and k-:  SpearmanrResult(correlation=0.4447684177648136, pvalue=4.253892323025037e-74)\n",
      "-------------------------------------------------------------------------------------------------------------\n",
      "Shuffled - Between k and k+:  SpearmanrResult(correlation=0.8773693999958553, pvalue=0.0)\n",
      "Shuffled - Between k and k-:  SpearmanrResult(correlation=0.995341146197699, pvalue=0.0)\n",
      "Shuffled - Between k+ and k-:  SpearmanrResult(correlation=0.8431227459678112, pvalue=0.0)\n"
     ]
    }
   ],
   "source": [
    "print('TARGETS')\n",
    "\n",
    "print('Original - Between k and k+: ', stats.spearmanr(target_annotations_bindingDB, target_pos_degree_bindingDB))\n",
    "print('Original - Between k and k-: ', stats.spearmanr(target_annotations_bindingDB, target_neg_degree_bindingDB))\n",
    "print('Original - Between k+ and k-: ', stats.spearmanr(target_pos_degree_bindingDB, target_neg_degree_bindingDB))\n",
    "\n",
    "print('-------------------------------------------------------------------------------------------------------------')\n",
    "\n",
    "print('Shuffled - Between k and k+: ', stats.spearmanr(target_annotations_randomized, target_pos_degree_randomized))\n",
    "print('Shuffled - Between k and k-: ', stats.spearmanr(target_annotations_randomized, target_neg_degree_randomized))\n",
    "print('Shuffled - Between k+ and k-: ', stats.spearmanr(target_pos_degree_randomized, target_neg_degree_randomized))"
   ]
  },
  {
   "cell_type": "code",
   "execution_count": 77,
   "metadata": {
    "scrolled": true
   },
   "outputs": [
    {
     "data": {
      "text/plain": [
       "<matplotlib.collections.PathCollection at 0x7fdacf96d6a0>"
      ]
     },
     "execution_count": 77,
     "metadata": {},
     "output_type": "execute_result"
    },
    {
     "data": {
      "image/png": "[encoded data removed]",
      "text/plain": [
       "<Figure size 432x288 with 1 Axes>"
      ]
     },
     "metadata": {
      "needs_background": "light"
     },
     "output_type": "display_data"
    }
   ],
   "source": [
    "plt.scatter(target_annotations_randomized, target_degree_ratio_randomized)"
   ]
  },
  {
   "cell_type": "code",
   "execution_count": 78,
   "metadata": {},
   "outputs": [
    {
     "data": {
      "image/png": "[encoded data removed]",
      "text/plain": [
       "<Figure size 720x720 with 4 Axes>"
      ]
     },
     "metadata": {
      "needs_background": "light"
     },
     "output_type": "display_data"
    }
   ],
   "source": [
    "fig, axs = plt.subplots(2, 2, figsize=(10,10))\n",
    "\n",
    "binned_deg_ann, binned_ki_ann = log_binning_distribution(target_annotations_bindingDB,B = 20)\n",
    "axs[0, 0].scatter(binned_deg_ann, binned_ki_ann, label='Original',alpha=0.2)\n",
    "binned_deg_ann, binned_ki_ann = log_binning_distribution(target_annotations_randomized,B = 20)\n",
    "axs[0, 0].scatter(binned_deg_ann, binned_ki_ann, label='Randomized', marker='x', alpha=0.4)\n",
    "axs[0, 0].set_xscale('log')\n",
    "axs[0, 0].set_yscale('log')\n",
    "axs[0, 0].set_xlabel('$K$')\n",
    "axs[0, 0].set_ylabel('PDF')\n",
    "# axs[0, 0].set_title('Targets')\n",
    "axs[0, 0].legend()\n",
    "\n",
    "binned_deg_ann, binned_ki_ann = log_binning_distribution(target_pos_degree_bindingDB,B = 20)\n",
    "axs[0, 1].scatter(binned_deg_ann, binned_ki_ann, label='Original',alpha=0.2)\n",
    "binned_deg_ann, binned_ki_ann = log_binning_distribution(target_pos_degree_randomized,B = 20)\n",
    "axs[0, 1].scatter(binned_deg_ann, binned_ki_ann, label='Randomized', marker='x', alpha=0.4)\n",
    "axs[0, 1].set_xscale('log')\n",
    "axs[0, 1].set_yscale('log')\n",
    "axs[0, 1].set_xlabel('$K_+$')\n",
    "axs[0, 1].set_ylabel('PDF')\n",
    "axs[0, 1].legend()\n",
    "\n",
    "binned_deg_ann, binned_ki_ann = log_binning_distribution(target_neg_degree_bindingDB,B = 20)\n",
    "axs[1, 0].scatter(binned_deg_ann, binned_ki_ann, label='Original',alpha=0.2)\n",
    "binned_deg_ann, binned_ki_ann = log_binning_distribution(target_neg_degree_randomized,B = 20)\n",
    "axs[1, 0].scatter(binned_deg_ann, binned_ki_ann, label='Randomized', marker='x', alpha=0.4)\n",
    "axs[1, 0].set_xscale('log')\n",
    "axs[1, 0].set_yscale('log')\n",
    "axs[1, 0].set_xlabel('$K_-$')\n",
    "axs[1, 0].set_ylabel('PDF')\n",
    "axs[1, 0].legend()\n",
    "\n",
    "#binned_deg_ann, binned_ki_ann = log_binning_distribution(ligand_neg_degree_original,B = 20)\n",
    "sns.distplot(target_degree_ratio_bindingDB, ax=axs[1, 1], norm_hist=True, label='Original')\n",
    "#axs[3, 0].hist(ligand_degree_ratio_bindingDB_original, label='Original',alpha=0.2)\n",
    "#binned_deg_ann, binned_ki_ann = log_binning_distribution(ligand_neg_degree_shuffled,B = 20)\n",
    "sns.distplot(target_degree_ratio_randomized, ax=axs[1, 1], norm_hist=True, label='Randomized')\n",
    "#axs[3, 0].hist(ligand_degree_ratio_bindingDB_shuffled, label='Randomized Kd', alpha=0.2)\n",
    "#axs[3, 0].set_xscale('log')\n",
    "#axs[3, 0].set_yscale('log')\n",
    "axs[1, 1].set_xlabel(r'$\\rho$')\n",
    "axs[1, 1].set_ylabel('PDF')\n",
    "axs[1, 1].legend()\n",
    "axs[1, 1].set_xlim([0.0, 1.0])\n",
    "\n",
    "fig.tight_layout()"
   ]
  },
  {
   "cell_type": "code",
   "execution_count": 79,
   "metadata": {},
   "outputs": [
    {
     "data": {
      "text/plain": [
       "0.13687689113609997"
      ]
     },
     "execution_count": 79,
     "metadata": {},
     "output_type": "execute_result"
    }
   ],
   "source": [
    "np.mean(target_degree_ratio_randomized)"
   ]
  },
  {
   "cell_type": "markdown",
   "metadata": {},
   "source": [
    "# Duplex Configuration Model"
   ]
  },
  {
   "cell_type": "code",
   "execution_count": 44,
   "metadata": {},
   "outputs": [],
   "source": [
    "from sklearn.model_selection import train_test_split\n",
    "\n",
    "train, test = train_test_split(randomized_dataframe, test_size=0.3)"
   ]
  },
  {
   "cell_type": "code",
   "execution_count": 45,
   "metadata": {
    "scrolled": true
   },
   "outputs": [],
   "source": [
    "train.to_csv('../../data/Unipartite/experiment_4a/train.csv')\n",
    "test.to_csv('../../data/Unipartite/experiment_4a/test.csv')"
   ]
  },
  {
   "cell_type": "code",
   "execution_count": 46,
   "metadata": {},
   "outputs": [],
   "source": [
    "targets = list(set(train['Target Sequence 1'].tolist()).union(set(train['Target Sequence 2'].tolist())))"
   ]
  },
  {
   "cell_type": "code",
   "execution_count": 47,
   "metadata": {},
   "outputs": [
    {
     "data": {
      "text/plain": [
       "1410"
      ]
     },
     "execution_count": 47,
     "metadata": {},
     "output_type": "execute_result"
    }
   ],
   "source": [
    "len(targets)"
   ]
  },
  {
   "cell_type": "code",
   "execution_count": 48,
   "metadata": {
    "scrolled": true
   },
   "outputs": [
    {
     "name": "stderr",
     "output_type": "stream",
     "text": [
      "100%|██████████| 1410/1410 [00:05<00:00, 245.56it/s]\n",
      "100%|██████████| 1410/1410 [00:05<00:00, 243.55it/s]\n",
      "100%|██████████| 1410/1410 [00:00<00:00, 1111648.24it/s]\n",
      "100%|██████████| 1410/1410 [00:00<00:00, 1214616.69it/s]\n"
     ]
    }
   ],
   "source": [
    "targets_degree_dict = dict()\n",
    "\n",
    "for aa_target in tqdm(targets):\n",
    "    sum_df = train[train['Target Sequence 1'] == aa_target]\n",
    "    targets_degree_dict[aa_target] = dict()\n",
    "    targets_degree_dict[aa_target]['deg_0'] = len(sum_df[sum_df['Label'] == 0])\n",
    "    targets_degree_dict[aa_target]['deg_1'] = len(sum_df[sum_df['Label'] == 1])\n",
    "    \n",
    "for aa_target in tqdm(targets):\n",
    "    sum_df = train[train['Target Sequence 2'] == aa_target]\n",
    "    if aa_target in targets_degree_dict.keys():\n",
    "        targets_degree_dict[aa_target]['deg_0'] = targets_degree_dict[aa_target]['deg_0'] + len(sum_df[sum_df['Label'] == 0])\n",
    "        targets_degree_dict[aa_target]['deg_1'] = targets_degree_dict[aa_target]['deg_1'] + len(sum_df[sum_df['Label'] == 1])\n",
    "    else:\n",
    "        targets_degree_dict[aa_target] = dict()\n",
    "        targets_degree_dict[aa_target]['deg_0'] = len(sum_df[sum_df['Label'] == 0])\n",
    "        targets_degree_dict[aa_target]['deg_1'] = len(sum_df[sum_df['Label'] == 1])\n",
    "        \n",
    "degree_train_1_0_targets = [targets_degree_dict[key_val]['deg_1'] for key_val in tqdm(targets)]\n",
    "degree_train_0_1_targets = [targets_degree_dict[key_val]['deg_0'] for key_val in tqdm(targets)]"
   ]
  },
  {
   "cell_type": "code",
   "execution_count": 49,
   "metadata": {
    "scrolled": true
   },
   "outputs": [],
   "source": [
    "with open('../../data/Unipartite/experiment_4a/degreetrain10targets.txt', 'w') as file:\n",
    "    for degree in degree_train_1_0_targets:\n",
    "        file.write(\"%i\\n\" % degree)\n",
    "        \n",
    "file.close()\n",
    "\n",
    "with open('../../data/Unipartite/experiment_4a/degreetrain01targets.txt', 'w') as file:\n",
    "    for degree in degree_train_0_1_targets:\n",
    "        file.write(\"%i\\n\" % degree)\n",
    "        \n",
    "file.close()\n",
    "\n",
    "textfile = open(\"../../data/Unipartite/experiment_4a/targets.txt\", \"w\")\n",
    "for element in targets:\n",
    "    textfile.write(element + \"\\n\")\n",
    "textfile.close()"
   ]
  },
  {
   "cell_type": "code",
   "execution_count": 50,
   "metadata": {},
   "outputs": [],
   "source": [
    "summat10 = np.loadtxt(open(\"../../data/Unipartite/experiment_4a/summat10.csv\", \"rb\"), delimiter=\",\", skiprows=0) # Output of MATLAB run\n",
    "summat01 = np.loadtxt(open(\"../../data/Unipartite/experiment_4a/summat01.csv\", \"rb\"), delimiter=\",\", skiprows=0) # Output of MATLAB run "
   ]
  },
  {
   "cell_type": "code",
   "execution_count": 51,
   "metadata": {
    "scrolled": true
   },
   "outputs": [
    {
     "name": "stderr",
     "output_type": "stream",
     "text": [
      "100%|██████████| 1410/1410 [00:00<00:00, 332656.58it/s]\n"
     ]
    }
   ],
   "source": [
    "train_pos = train[train['Label'] == 1]\n",
    "train_neg = train[train['Label'] == 0]\n",
    "\n",
    "pos_deg_0_targets = []\n",
    "neg_deg_0_targets = []\n",
    "\n",
    "targets_degree_ratio = dict()\n",
    "target_all_average = []\n",
    "\n",
    "for target in tqdm(targets):\n",
    "    pos_deg = targets_degree_dict[target]['deg_1']\n",
    "    neg_deg = targets_degree_dict[target]['deg_0']\n",
    "    if pos_deg + neg_deg != 0:\n",
    "        targets_degree_ratio[target] = dict()\n",
    "        targets_degree_ratio[target]['deg_ratio'] = pos_deg / (pos_deg + neg_deg)\n",
    "        targets_degree_ratio[target]['deg_avg'] = pos_deg / len(targets)\n",
    "        target_all_average.append(pos_deg / len(targets))\n",
    "    if pos_deg == 0:\n",
    "        pos_deg_0_targets.append(target)\n",
    "    if neg_deg == 0:\n",
    "        neg_deg_0_targets.append(target)\n",
    "    \n",
    "targets_all_avg = sum(target_all_average) / len(targets)"
   ]
  },
  {
   "cell_type": "code",
   "execution_count": 52,
   "metadata": {
    "scrolled": true
   },
   "outputs": [],
   "source": [
    "## Annotated means the node has at least 1 binding information\n",
    "\n",
    "pos_annotated_targets = list(set(targets)-set(pos_deg_0_targets))\n",
    "\n",
    "neg_annotated_targets = list(set(targets)-set(neg_deg_0_targets))"
   ]
  },
  {
   "cell_type": "code",
   "execution_count": 53,
   "metadata": {
    "scrolled": true
   },
   "outputs": [
    {
     "name": "stderr",
     "output_type": "stream",
     "text": [
      "1191it [00:00, 3935.39it/s]/miniconda/lib/python3.6/site-packages/ipykernel_launcher.py:13: RuntimeWarning: invalid value encountered in double_scalars\n",
      "  del sys.path[0]\n",
      "8618it [00:02, 3991.77it/s]\n"
     ]
    }
   ],
   "source": [
    "test_probabilty_predicted_conditioned = []\n",
    "\n",
    "## Average conditional probability\n",
    "p10_avg = np.mean(summat10)\n",
    "p01_avg = np.mean(summat01)\n",
    "average_conditional_probability = p10_avg / (p10_avg + p01_avg)\n",
    "\n",
    "for index, row in tqdm(test.iterrows()):      \n",
    "    \n",
    "    if row['Target Sequence 1'] in pos_annotated_targets and row['Target Sequence 2'] in pos_annotated_targets:\n",
    "        p10 = summat10[targets.index(row['Target Sequence 1']),targets.index(row['Target Sequence 2'])]\n",
    "        p01 = summat01[targets.index(row['Target Sequence 1']),targets.index(row['Target Sequence 2'])]\n",
    "        p10_conditioned = p10 / (p10 + p01)\n",
    "        test_probabilty_predicted_conditioned.append(p10_conditioned)\n",
    "        \n",
    "    elif row['Target Sequence 1'] in pos_annotated_targets and row['Target Sequence 2'] not in pos_annotated_targets:\n",
    "        p10_conditioned = targets_degree_ratio[row['Target Sequence 1']]['deg_ratio']  ## k_+ / (k_+ + k_-)\n",
    "        test_probabilty_predicted_conditioned.append(p10_conditioned)\n",
    "        \n",
    "    elif row['Target Sequence 1'] not in pos_annotated_targets and row['Target Sequence 2'] in pos_annotated_targets:\n",
    "        p10_conditioned = targets_degree_ratio[row['Target Sequence 2']]['deg_ratio'] ## k_+ / (k_+ + k_-)\n",
    "        test_probabilty_predicted_conditioned.append(p10_conditioned)\n",
    "\n",
    "    else:\n",
    "        p10_conditioned = average_conditional_probability\n",
    "        test_probabilty_predicted_conditioned.append(p10_conditioned)\n",
    "        "
   ]
  },
  {
   "cell_type": "code",
   "execution_count": 55,
   "metadata": {
    "scrolled": true
   },
   "outputs": [
    {
     "name": "stdout",
     "output_type": "stream",
     "text": [
      "Seen targets 1:  1194\n",
      "Seen targets 2:  1098\n",
      "Unseen targets 1:  96\n",
      "Unseen targets 2:  78\n"
     ]
    },
    {
     "name": "stderr",
     "output_type": "stream",
     "text": [
      "/miniconda/lib/python3.6/site-packages/ipykernel_launcher.py:1: SettingWithCopyWarning: \n",
      "A value is trying to be set on a copy of a slice from a DataFrame.\n",
      "Try using .loc[row_indexer,col_indexer] = value instead\n",
      "\n",
      "See the caveats in the documentation: https://pandas.pydata.org/pandas-docs/stable/user_guide/indexing.html#returning-a-view-versus-a-copy\n",
      "  \"\"\"Entry point for launching an IPython kernel.\n"
     ]
    }
   ],
   "source": [
    "test['test_probabilty_predicted_conditioned'] = test_probabilty_predicted_conditioned\n",
    "test = test[~test['test_probabilty_predicted_conditioned'].isna()]\n",
    "\n",
    "train_targets1 = list(set(train['Target Sequence 1'].tolist()))\n",
    "train_targets2 = list(set(train['Target Sequence 2'].tolist()))\n",
    "\n",
    "test_minus_train_targets1 = list(set(test['Target Sequence 1'].tolist()).difference(train_targets1))\n",
    "test_minus_train_targets2 = list(set(test['Target Sequence 2'].tolist()).difference(train_targets2))\n",
    "\n",
    "print('Seen targets 1: ', len(train_targets1))\n",
    "print('Seen targets 2: ', len(train_targets2))\n",
    "print('Unseen targets 1: ', len(test_minus_train_targets1))\n",
    "print('Unseen targets 2: ', len(test_minus_train_targets2))"
   ]
  },
  {
   "cell_type": "code",
   "execution_count": 56,
   "metadata": {
    "scrolled": true
   },
   "outputs": [
    {
     "name": "stdout",
     "output_type": "stream",
     "text": [
      "Unseen edges:  8399\n",
      "AUC:  0.5985929102219111\n",
      "AUP:  0.35796225201947146\n"
     ]
    }
   ],
   "source": [
    "# Unseen Edges\n",
    "\n",
    "test_unseen_edges = test[test['Target Sequence 1'].isin(train_targets1) & test['Target Sequence 2'].isin(train_targets2)]\n",
    "print('Unseen edges: ', len(test_unseen_edges))\n",
    "\n",
    "print('AUC: ', roc_auc_score(test_unseen_edges['Label'].tolist(), test_unseen_edges['test_probabilty_predicted_conditioned']))\n",
    "print('AUP: ', average_precision_score(test_unseen_edges['Label'].tolist(), test_unseen_edges['test_probabilty_predicted_conditioned']))"
   ]
  },
  {
   "cell_type": "code",
   "execution_count": 80,
   "metadata": {},
   "outputs": [],
   "source": [
    "# Unseen Targets\n",
    "\n",
    "#test_unseen_targets = test[test['Target Sequence'].isin(test_minus_train_targets)]\n",
    "#print('Unseen targets: ', len(test_unseen_targets))\n",
    "\n",
    "#append = pd.DataFrame()\n",
    "\n",
    "#append['SMILES'] = ['x']\n",
    "#append['Target Sequence'] = ['y']\n",
    "#append['Label'] = [1.0]\n",
    "#append['test_probabilty_predicted_conditioned'] = [np.mean(test_unseen_targets['test_probabilty_predicted_conditioned'].tolist())]\n",
    "\n",
    "#test_unseen_targets = pd.concat([test_unseen_targets,append])\n",
    "\n",
    "#print('AUC: ', roc_auc_score(test_unseen_targets['Label'].tolist(), test_unseen_targets['test_probabilty_predicted_conditioned']))\n",
    "#print('AUP: ', average_precision_score(test_unseen_targets['Label'].tolist(), test_unseen_targets['test_probabilty_predicted_conditioned']))"
   ]
  },
  {
   "cell_type": "code",
   "execution_count": 81,
   "metadata": {},
   "outputs": [],
   "source": [
    "# Unseen Nodes\n",
    "\n",
    "#test_unseen_nodes = test[test['Target Sequence 1'].isin(test_minus_train_targets1) & test['Target Sequence 2'].isin(test_minus_train_targets2)]\n",
    "#print('Unseen nodes: ', len(test_unseen_nodes))\n",
    "\n",
    "#append = pd.DataFrame()\n",
    "\n",
    "#append['SMILES'] = ['x']\n",
    "#append['Target Sequence'] = ['y']\n",
    "#append['Label'] = [1.0]\n",
    "#append['test_probabilty_predicted_conditioned'] = [np.mean(test_unseen_nodes['test_probabilty_predicted_conditioned'].tolist())]\n",
    "\n",
    "#test_unseen_nodes = pd.concat([test_unseen_nodes,append])\n",
    "\n",
    "#print('AUC: ', roc_auc_score(test_unseen_nodes['Label'].tolist(), test_unseen_nodes['test_probabilty_predicted_conditioned']))\n",
    "#print('AUP: ', average_precision_score(test_unseen_nodes['Label'].tolist(), test_unseen_nodes['test_probabilty_predicted_conditioned']))"
   ]
  },
  {
   "cell_type": "markdown",
   "metadata": {},
   "source": [
    "# Comparison with Original"
   ]
  },
  {
   "cell_type": "code",
   "execution_count": 220,
   "metadata": {
    "scrolled": true
   },
   "outputs": [],
   "source": [
    "# original_test = pd.read_csv('../../data/Transformer_CNN_test_w_config_preds_fold2.csv')"
   ]
  },
  {
   "cell_type": "code",
   "execution_count": 60,
   "metadata": {},
   "outputs": [
    {
     "data": {
      "image/png": "[encoded data removed]",
      "text/plain": [
       "<Figure size 640x480 with 1 Axes>"
      ]
     },
     "metadata": {
      "needs_background": "light"
     },
     "output_type": "display_data"
    }
   ],
   "source": [
    "figure(figsize=(8, 6), dpi=80)\n",
    "\n",
    "#sns.distplot(original_test['duplex_config_prediction'].tolist(),  norm_hist=True, label='Original')\n",
    "sns.distplot(test['test_probabilty_predicted_conditioned'].tolist(),  norm_hist=True, label='Randomization')\n",
    "plt.legend()\n",
    "plt.xlim([0,1])\n",
    "plt.xlabel('Duplex Configuration Model Prediction')\n",
    "plt.ylabel('PDF')\n",
    "plt.show()"
   ]
  },
  {
   "cell_type": "code",
   "execution_count": 61,
   "metadata": {},
   "outputs": [
    {
     "name": "stdout",
     "output_type": "stream",
     "text": [
      "New mean and std of duplex prediction:  0.1495644536650273 0.24062024638016755\n"
     ]
    }
   ],
   "source": [
    "#print('Older mean and std of duplex prediction: ', np.mean(original_test['duplex_config_prediction'].tolist()), np.std(original_test['duplex_config_prediction'].tolist()))\n",
    "print('New mean and std of duplex prediction: ', np.mean(test['test_probabilty_predicted_conditioned'].tolist()), np.std(test['test_probabilty_predicted_conditioned'].tolist()))"
   ]
  },
  {
   "cell_type": "code",
   "execution_count": 59,
   "metadata": {},
   "outputs": [],
   "source": [
    "test.to_csv('../../data/Unipartite/experiment_4a/test.csv')"
   ]
  },
  {
   "cell_type": "code",
   "execution_count": 61,
   "metadata": {},
   "outputs": [],
   "source": [
    "test_0p05 = pd.read_csv('../../data/Unipartite/4a_pbind_0p05/test.csv')\n",
    "test_0p5 = pd.read_csv('../../data/Unipartite/4a_pbind_0p5/test.csv')"
   ]
  },
  {
   "cell_type": "code",
   "execution_count": 64,
   "metadata": {},
   "outputs": [
    {
     "data": {
      "image/png": "[encoded data removed]",
      "text/plain": [
       "<Figure size 640x480 with 1 Axes>"
      ]
     },
     "metadata": {
      "needs_background": "light"
     },
     "output_type": "display_data"
    }
   ],
   "source": [
    "figure(figsize=(8, 6), dpi=80)\n",
    "\n",
    "#sns.distplot(original_test['duplex_config_prediction'].tolist(),  norm_hist=True, label='Original')\n",
    "sns.distplot(test_0p05['test_probabilty_predicted_conditioned'].tolist(),  norm_hist=True, label=r'$p_{bind} = 0.05$')\n",
    "sns.distplot(test['test_probabilty_predicted_conditioned'].tolist(),  norm_hist=True, label=r'$p_{bind} = 0.16$')\n",
    "sns.distplot(test_0p5['test_probabilty_predicted_conditioned'].tolist(),  norm_hist=True, label=r'$p_{bind} = 0.5$')\n",
    "plt.legend()\n",
    "plt.xlim([0,1])\n",
    "plt.xlabel(r'$p_{conditional}$')\n",
    "plt.ylabel('PDF')\n",
    "plt.show()"
   ]
  },
  {
   "cell_type": "code",
   "execution_count": 63,
   "metadata": {},
   "outputs": [
    {
     "name": "stdout",
     "output_type": "stream",
     "text": [
      "Mean and STD for pbind of 0.05:  0.055092441466748285 0.10949113316687942\n",
      "Mean and STD for pbind of 0.16:  0.2794244037971329 0.11967142396151494\n",
      "Mean and STD for pbind of 0.50:  0.612425559704208 0.39836250439181004\n"
     ]
    }
   ],
   "source": [
    "print('Mean and STD for pbind of 0.05: ', np.mean(test_0p05['test_probabilty_predicted_conditioned'].tolist()), np.std(test_0p05['test_probabilty_predicted_conditioned'].tolist()))\n",
    "print('Mean and STD for pbind of 0.16: ', np.mean(test['test_probabilty_predicted_conditioned'].tolist()), np.std(test['test_probabilty_predicted_conditioned'].tolist()))\n",
    "print('Mean and STD for pbind of 0.50: ', np.mean(test_0p5['test_probabilty_predicted_conditioned'].tolist()), np.std(test_0p5['test_probabilty_predicted_conditioned'].tolist()))"
   ]
  },
  {
   "cell_type": "code",
   "execution_count": null,
   "metadata": {},
   "outputs": [],
   "source": []
  }
 ],
 "metadata": {
  "kernelspec": {
   "display_name": "Python 3",
   "language": "python",
   "name": "python3"
  },
  "language_info": {
   "codemirror_mode": {
    "name": "ipython",
    "version": 3
   },
   "file_extension": ".py",
   "mimetype": "text/x-python",
   "name": "python",
   "nbconvert_exporter": "python",
   "pygments_lexer": "ipython3",
   "version": "3.6.6"
  },
  "toc": {
   "base_numbering": 1,
   "nav_menu": {},
   "number_sections": true,
   "sideBar": true,
   "skip_h1_title": false,
   "title_cell": "Table of Contents",
   "title_sidebar": "Contents",
   "toc_cell": false,
   "toc_position": {},
   "toc_section_display": true,
   "toc_window_display": false
  }
 },
 "nbformat": 4,
 "nbformat_minor": 4
}
