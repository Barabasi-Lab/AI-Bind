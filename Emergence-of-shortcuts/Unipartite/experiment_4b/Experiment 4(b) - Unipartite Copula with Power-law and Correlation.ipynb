{
 "cells": [
  {
   "cell_type": "markdown",
   "metadata": {
    "heading_collapsed": true
   },
   "source": [
    "# Imports and Custom Functions"
   ]
  },
  {
   "cell_type": "code",
   "execution_count": 1,
   "metadata": {
    "hidden": true
   },
   "outputs": [],
   "source": [
    "import matplotlib.pyplot as plt\n",
    "from tqdm import tqdm\n",
    "import pandas as pd\n",
    "from matplotlib.pyplot import figure\n",
    "import numpy as np\n",
    "import networkx as nx\n",
    "from networkx.algorithms import bipartite\n",
    "from sklearn.metrics import confusion_matrix, f1_score, classification_report\n",
    "from sklearn.metrics import roc_curve, roc_auc_score, precision_recall_curve, average_precision_score\n",
    "from sklearn.metrics import confusion_matrix, f1_score, classification_report\n",
    "from scipy import stats\n",
    "import seaborn as sns\n",
    "import powerlaw\n",
    "from scipy.stats import poisson\n",
    "#import tensorflow as tf\n",
    "#tf.enable_v2_behavior()\n",
    "\n",
    "#import tensorflow_probability as tfp\n",
    "#tfd = tfp.distributions\n",
    "#tfb = tfp.bijectors"
   ]
  },
  {
   "cell_type": "code",
   "execution_count": 2,
   "metadata": {
    "hidden": true
   },
   "outputs": [],
   "source": [
    "def closest(lst, K):\n",
    "    \n",
    "    number = lst[min(range(len(lst)), key = lambda i: abs(lst[i]-K))]\n",
    "    \n",
    "    if abs(number-K) >= 3:\n",
    "        print('Not close enough: ', int(abs(number-K)))\n",
    "    \n",
    "    # number_index = np.random.choice(get_all_indices(lst,number))\n",
    "      \n",
    "    return get_all_indices(lst,number) # number_index"
   ]
  },
  {
   "cell_type": "code",
   "execution_count": 3,
   "metadata": {
    "hidden": true
   },
   "outputs": [],
   "source": [
    "def get_all_indices(mylist,myval):\n",
    "    \n",
    "    all_indices = []\n",
    "    \n",
    "    for i in range(len(mylist)):\n",
    "        if mylist[i] == myval:\n",
    "            all_indices.append(i)\n",
    "            \n",
    "    return all_indices"
   ]
  },
  {
   "cell_type": "code",
   "execution_count": 4,
   "metadata": {
    "hidden": true
   },
   "outputs": [],
   "source": [
    "def remove_zeros_distribution(X):\n",
    "\n",
    "    return [i for i in X if i != 0]\n",
    "\n",
    "def log_binning_distribution(x_i,B = 20): \n",
    "    \n",
    "    x_i = remove_zeros_distribution(x_i)\n",
    "\n",
    "    b_1 = min(x_i)\n",
    "    b_Bp1 = max(x_i)\n",
    "    q_1 = np.log(b_1)\n",
    "    q_Bp1 = np.log(b_Bp1)\n",
    "    D_q = q_Bp1 - q_1\n",
    "    L_q = D_q / B\n",
    "\n",
    "    q_list = []\n",
    "    b_list = []\n",
    "\n",
    "    for i in range(B):\n",
    "        j = i + 1\n",
    "        q_list.append(q_1 + (j-1)*L_q)\n",
    "        b_list.append(np.exp(q_1 + (j-1)*L_q))\n",
    "\n",
    "    # b_list.insert(0,b_1)\n",
    "    # b_list.append(b_Bp1)\n",
    "    \n",
    "    binned_x_i = []\n",
    "    density_list = []\n",
    "\n",
    "    for i in range(len(b_list)-1):\n",
    "        bin_low = b_list[i]\n",
    "        bin_high = b_list[i+1]\n",
    "        count_bin = 0\n",
    "        for j in range(len(x_i)):\n",
    "            if x_i[j] >= bin_low and x_i[j] < bin_high:\n",
    "                count_bin = count_bin + 1\n",
    "                \n",
    "        if count_bin > 0:\n",
    "            density_bin = count_bin / (len(x_i)*(bin_high-bin_low))\n",
    "            density_list.append(density_bin)\n",
    "            binned_x_i.append(bin_low)\n",
    "        else:\n",
    "            continue \n",
    "            \n",
    "    return binned_x_i, density_list"
   ]
  },
  {
   "cell_type": "markdown",
   "metadata": {},
   "source": [
    "# Analysis of BindingDB Kd"
   ]
  },
  {
   "cell_type": "code",
   "execution_count": 5,
   "metadata": {
    "scrolled": true
   },
   "outputs": [
    {
     "name": "stderr",
     "output_type": "stream",
     "text": [
      "b'Skipping line 896772: expected 193 fields, saw 205\\nSkipping line 896798: expected 193 fields, saw 205\\n'\n",
      "b'Skipping line 929491: expected 193 fields, saw 205\\n'\n",
      "b'Skipping line 952161: expected 193 fields, saw 265\\n'\n",
      "b'Skipping line 1355895: expected 193 fields, saw 241\\n'\n",
      "b'Skipping line 1469800: expected 193 fields, saw 241\\nSkipping line 1469801: expected 193 fields, saw 241\\nSkipping line 1469802: expected 193 fields, saw 241\\nSkipping line 1469803: expected 193 fields, saw 241\\nSkipping line 1469804: expected 193 fields, saw 241\\nSkipping line 1469805: expected 193 fields, saw 241\\nSkipping line 1469806: expected 193 fields, saw 241\\nSkipping line 1469807: expected 193 fields, saw 241\\nSkipping line 1469808: expected 193 fields, saw 241\\n'\n",
      "b'Skipping line 1483073: expected 193 fields, saw 205\\n'\n",
      "b'Skipping line 1502296: expected 193 fields, saw 241\\nSkipping line 1502297: expected 193 fields, saw 241\\nSkipping line 1502298: expected 193 fields, saw 241\\nSkipping line 1502299: expected 193 fields, saw 241\\nSkipping line 1502300: expected 193 fields, saw 241\\nSkipping line 1502301: expected 193 fields, saw 241\\nSkipping line 1502302: expected 193 fields, saw 241\\nSkipping line 1502303: expected 193 fields, saw 241\\nSkipping line 1502304: expected 193 fields, saw 241\\n'\n",
      "b'Skipping line 1541474: expected 193 fields, saw 205\\n'\n",
      "b'Skipping line 1927945: expected 193 fields, saw 265\\n'\n",
      "b'Skipping line 2015166: expected 193 fields, saw 265\\nSkipping line 2015167: expected 193 fields, saw 265\\nSkipping line 2015168: expected 193 fields, saw 265\\nSkipping line 2015169: expected 193 fields, saw 265\\nSkipping line 2015170: expected 193 fields, saw 265\\nSkipping line 2015171: expected 193 fields, saw 265\\nSkipping line 2015172: expected 193 fields, saw 265\\nSkipping line 2015173: expected 193 fields, saw 265\\nSkipping line 2015174: expected 193 fields, saw 265\\nSkipping line 2015175: expected 193 fields, saw 265\\nSkipping line 2015176: expected 193 fields, saw 265\\nSkipping line 2015177: expected 193 fields, saw 265\\nSkipping line 2015178: expected 193 fields, saw 265\\nSkipping line 2015179: expected 193 fields, saw 265\\nSkipping line 2015180: expected 193 fields, saw 265\\nSkipping line 2015181: expected 193 fields, saw 265\\nSkipping line 2015182: expected 193 fields, saw 265\\nSkipping line 2015183: expected 193 fields, saw 265\\nSkipping line 2015184: expected 193 fields, saw 265\\n'\n",
      "b'Skipping line 2015802: expected 193 fields, saw 265\\nSkipping line 2015803: expected 193 fields, saw 265\\nSkipping line 2015804: expected 193 fields, saw 265\\nSkipping line 2015805: expected 193 fields, saw 265\\nSkipping line 2015806: expected 193 fields, saw 265\\nSkipping line 2015807: expected 193 fields, saw 265\\nSkipping line 2015808: expected 193 fields, saw 265\\n'\n",
      "b'Skipping line 2027219: expected 193 fields, saw 265\\nSkipping line 2027220: expected 193 fields, saw 265\\nSkipping line 2027221: expected 193 fields, saw 265\\nSkipping line 2027222: expected 193 fields, saw 265\\nSkipping line 2027223: expected 193 fields, saw 265\\nSkipping line 2027224: expected 193 fields, saw 265\\nSkipping line 2027225: expected 193 fields, saw 265\\nSkipping line 2027226: expected 193 fields, saw 265\\nSkipping line 2027227: expected 193 fields, saw 265\\nSkipping line 2027228: expected 193 fields, saw 265\\nSkipping line 2027229: expected 193 fields, saw 265\\nSkipping line 2027230: expected 193 fields, saw 265\\nSkipping line 2027231: expected 193 fields, saw 265\\nSkipping line 2027232: expected 193 fields, saw 265\\nSkipping line 2027233: expected 193 fields, saw 265\\nSkipping line 2027234: expected 193 fields, saw 265\\nSkipping line 2027235: expected 193 fields, saw 265\\nSkipping line 2027236: expected 193 fields, saw 265\\nSkipping line 2027237: expected 193 fields, saw 265\\nSkipping line 2027238: expected 193 fields, saw 265\\nSkipping line 2027239: expected 193 fields, saw 265\\nSkipping line 2027240: expected 193 fields, saw 265\\nSkipping line 2027241: expected 193 fields, saw 265\\nSkipping line 2027242: expected 193 fields, saw 265\\nSkipping line 2027243: expected 193 fields, saw 265\\nSkipping line 2027244: expected 193 fields, saw 265\\nSkipping line 2027245: expected 193 fields, saw 265\\nSkipping line 2027246: expected 193 fields, saw 265\\nSkipping line 2027247: expected 193 fields, saw 265\\nSkipping line 2027248: expected 193 fields, saw 265\\nSkipping line 2027249: expected 193 fields, saw 265\\nSkipping line 2027250: expected 193 fields, saw 265\\nSkipping line 2027251: expected 193 fields, saw 265\\nSkipping line 2027252: expected 193 fields, saw 265\\nSkipping line 2027253: expected 193 fields, saw 265\\nSkipping line 2027254: expected 193 fields, saw 265\\nSkipping line 2027255: expected 193 fields, saw 265\\nSkipping line 2027256: expected 193 fields, saw 265\\nSkipping line 2027257: expected 193 fields, saw 265\\n'\n",
      "b'Skipping line 2029854: expected 193 fields, saw 265\\nSkipping line 2029855: expected 193 fields, saw 265\\nSkipping line 2029856: expected 193 fields, saw 265\\nSkipping line 2029857: expected 193 fields, saw 265\\nSkipping line 2029858: expected 193 fields, saw 265\\nSkipping line 2029859: expected 193 fields, saw 265\\nSkipping line 2029860: expected 193 fields, saw 265\\nSkipping line 2029861: expected 193 fields, saw 265\\n'\n",
      "b'Skipping line 2042409: expected 193 fields, saw 313\\n'\n",
      "b'Skipping line 2059953: expected 193 fields, saw 637\\n'\n",
      "/miniconda/lib/python3.6/site-packages/IPython/core/interactiveshell.py:3063: DtypeWarning: Columns (8,9,10,11,12,13,15,17,18,19,20,26,27,31,32,34,35,46,49,50,51,52,53,54,61,62,63,64,65,66,73,74,75,76,77,78,85,86,87,88,89,90,97,98,99,100,101,102,109,110,111,112,113,114,121,122,123,124,125,126,133,134,135,136,137,138,145,147,148,149,150,157,158,159,160,161,162,169,171,172,173,174) have mixed types.Specify dtype option on import or set low_memory=False.\n",
      "  interactivity=interactivity, compiler=compiler, result=result)\n"
     ]
    },
    {
     "name": "stdout",
     "output_type": "stream",
     "text": [
      "There are 70750 drug target pairs.\n"
     ]
    },
    {
     "data": {
      "image/png": "[encoded data removed]",
      "text/plain": [
       "<Figure size 432x288 with 1 Axes>"
      ]
     },
     "metadata": {
      "needs_background": "light"
     },
     "output_type": "display_data"
    }
   ],
   "source": [
    "df = pd.read_csv('/home/sars-busters-consolidated/data/BindingDB_All.tsv', sep = '\\t', error_bad_lines=False)\n",
    "\n",
    "df = df[df['Number of Protein Chains in Target (>1 implies a multichain complex)'] == 1.0]\n",
    "df = df[df['Ligand SMILES'].notnull()]\n",
    "\n",
    "idx_str = 'Kd (nM)'\n",
    "\n",
    "df_want = df[df[idx_str].notnull()]\n",
    "df_want = df_want[['BindingDB Reactant_set_id', 'Ligand InChI', 'Ligand SMILES',\\\n",
    "                    'PubChem CID', 'UniProt (SwissProt) Primary ID of Target Chain',\\\n",
    "                    'BindingDB Target Chain  Sequence', idx_str]]\n",
    "\n",
    "df_want.rename(columns={'BindingDB Reactant_set_id':'ID', 'Ligand SMILES':'SMILES',\\\n",
    "                        'Ligand InChI':'InChI', 'PubChem CID':'PubChem_ID',\n",
    "                        'UniProt (SwissProt) Primary ID of Target Chain':'UniProt_ID',\n",
    "                        'BindingDB Target Chain  Sequence': 'Target Sequence',\n",
    "                            idx_str: 'Label'}, inplace=True)\n",
    "\n",
    "df_want['Label'] = df_want['Label'].str.replace('>', '')\n",
    "df_want['Label'] = df_want['Label'].str.replace('<', '')\n",
    "df_want['Label'] = df_want['Label'].astype(float)\n",
    "\n",
    "# have at least uniprot or pubchem ID\n",
    "df_want = df_want[df_want.PubChem_ID.notnull() | df_want.UniProt_ID.notnull()]\n",
    "df_want = df_want[df_want.InChI.notnull()]\n",
    "\n",
    "df_want = df_want[df_want.Label <= 10000000.0]\n",
    "print('There are ' + str(len(df_want)) + ' drug target pairs.')\n",
    "\n",
    "kd_list = list(df_want.Label.values)\n",
    "\n",
    "ax = sns.distplot(np.log10(remove_zeros_distribution(kd_list)), norm_hist=True)\n",
    "ax.set(xlabel='log Kd', ylabel='pdf')\n",
    "plt.show()"
   ]
  },
  {
   "cell_type": "markdown",
   "metadata": {},
   "source": [
    "# Randomzing the whole bipartite network"
   ]
  },
  {
   "cell_type": "code",
   "execution_count": 6,
   "metadata": {},
   "outputs": [],
   "source": [
    "#threshold = 30 # in nM\n",
    "\n",
    "df_want_Kd = df_want[['SMILES','Target Sequence','Label']]\n",
    "#df_want_Kd['Kd'] = df_want.Label.values\n",
    "#df_want_Kd['Label'] = [1 if x<threshold else 0 for x in kd_list]"
   ]
  },
  {
   "cell_type": "code",
   "execution_count": 7,
   "metadata": {},
   "outputs": [
    {
     "data": {
      "text/html": [
       "<div>\n",
       "<style scoped>\n",
       "    .dataframe tbody tr th:only-of-type {\n",
       "        vertical-align: middle;\n",
       "    }\n",
       "\n",
       "    .dataframe tbody tr th {\n",
       "        vertical-align: top;\n",
       "    }\n",
       "\n",
       "    .dataframe thead th {\n",
       "        text-align: right;\n",
       "    }\n",
       "</style>\n",
       "<table border=\"1\" class=\"dataframe\">\n",
       "  <thead>\n",
       "    <tr style=\"text-align: right;\">\n",
       "      <th></th>\n",
       "      <th>SMILES</th>\n",
       "      <th>Target Sequence</th>\n",
       "      <th>Label</th>\n",
       "    </tr>\n",
       "  </thead>\n",
       "  <tbody>\n",
       "    <tr>\n",
       "      <th>21470</th>\n",
       "      <td>Cc1ccc(CNS(=O)(=O)c2ccc(s2)S(N)(=O)=O)cc1</td>\n",
       "      <td>MSHHWGYGKHNGPEHWHKDFPIAKGERQSPVDIDTHTAKYDPSLKP...</td>\n",
       "      <td>0.46</td>\n",
       "    </tr>\n",
       "    <tr>\n",
       "      <th>21471</th>\n",
       "      <td>COc1ccc(CNS(=O)(=O)c2ccc(s2)S(N)(=O)=O)cc1</td>\n",
       "      <td>MSHHWGYGKHNGPEHWHKDFPIAKGERQSPVDIDTHTAKYDPSLKP...</td>\n",
       "      <td>0.49</td>\n",
       "    </tr>\n",
       "    <tr>\n",
       "      <th>21472</th>\n",
       "      <td>NS(=O)(=O)c1ccc(s1)S(=O)(=O)NCc1cccs1</td>\n",
       "      <td>MSHHWGYGKHNGPEHWHKDFPIAKGERQSPVDIDTHTAKYDPSLKP...</td>\n",
       "      <td>0.83</td>\n",
       "    </tr>\n",
       "    <tr>\n",
       "      <th>21473</th>\n",
       "      <td>NS(=O)(=O)c1cc2C(O)CN(Cc3cccs3)S(=O)(=O)c2s1</td>\n",
       "      <td>MSHHWGYGKHNGPEHWHKDFPIAKGERQSPVDIDTHTAKYDPSLKP...</td>\n",
       "      <td>0.20</td>\n",
       "    </tr>\n",
       "    <tr>\n",
       "      <th>21474</th>\n",
       "      <td>COc1ccc(cc1)N1CC(O)c2cc(sc2S1(=O)=O)S(N)(=O)=O</td>\n",
       "      <td>MSHHWGYGKHNGPEHWHKDFPIAKGERQSPVDIDTHTAKYDPSLKP...</td>\n",
       "      <td>0.16</td>\n",
       "    </tr>\n",
       "    <tr>\n",
       "      <th>...</th>\n",
       "      <td>...</td>\n",
       "      <td>...</td>\n",
       "      <td>...</td>\n",
       "    </tr>\n",
       "    <tr>\n",
       "      <th>2077352</th>\n",
       "      <td>CCCC(=O)c1ccc2Sc3ccccc3N(CCCN3CCN(C)CC3)c2c1</td>\n",
       "      <td>MKWVTFISLLLLFSSAYSRGVFRRDTHKSEIAHRFKDLGEEHFKGL...</td>\n",
       "      <td>16600.00</td>\n",
       "    </tr>\n",
       "    <tr>\n",
       "      <th>2077353</th>\n",
       "      <td>OCCN1CCN(CCCN2c3ccccc3Sc3ccc(Cl)cc23)CC1</td>\n",
       "      <td>MKWVTFISLLLLFSSAYSRGVFRRDTHKSEIAHRFKDLGEEHFKGL...</td>\n",
       "      <td>63100.00</td>\n",
       "    </tr>\n",
       "    <tr>\n",
       "      <th>2077354</th>\n",
       "      <td>CN(C)CCCN1c2ccccc2Sc2ccc(cc12)C#N</td>\n",
       "      <td>MKWVTFISLLLLFSSAYSRGVFRRDTHKSEIAHRFKDLGEEHFKGL...</td>\n",
       "      <td>34700.00</td>\n",
       "    </tr>\n",
       "    <tr>\n",
       "      <th>2077355</th>\n",
       "      <td>OCCN1CCN(CCCN2c3ccccc3Sc3ccc(cc23)C(F)(F)F)CC1</td>\n",
       "      <td>MKWVTFISLLLLFSSAYSRGVFRRDTHKSEIAHRFKDLGEEHFKGL...</td>\n",
       "      <td>38900.00</td>\n",
       "    </tr>\n",
       "    <tr>\n",
       "      <th>2077356</th>\n",
       "      <td>CC(CN1CCN(CCOCCO)CC1)CN1c2ccccc2Sc2ccccc12</td>\n",
       "      <td>MKWVTFISLLLLFSSAYSRGVFRRDTHKSEIAHRFKDLGEEHFKGL...</td>\n",
       "      <td>61700.00</td>\n",
       "    </tr>\n",
       "  </tbody>\n",
       "</table>\n",
       "<p>70750 rows × 3 columns</p>\n",
       "</div>"
      ],
      "text/plain": [
       "                                                 SMILES  \\\n",
       "21470         Cc1ccc(CNS(=O)(=O)c2ccc(s2)S(N)(=O)=O)cc1   \n",
       "21471        COc1ccc(CNS(=O)(=O)c2ccc(s2)S(N)(=O)=O)cc1   \n",
       "21472             NS(=O)(=O)c1ccc(s1)S(=O)(=O)NCc1cccs1   \n",
       "21473      NS(=O)(=O)c1cc2C(O)CN(Cc3cccs3)S(=O)(=O)c2s1   \n",
       "21474    COc1ccc(cc1)N1CC(O)c2cc(sc2S1(=O)=O)S(N)(=O)=O   \n",
       "...                                                 ...   \n",
       "2077352    CCCC(=O)c1ccc2Sc3ccccc3N(CCCN3CCN(C)CC3)c2c1   \n",
       "2077353        OCCN1CCN(CCCN2c3ccccc3Sc3ccc(Cl)cc23)CC1   \n",
       "2077354               CN(C)CCCN1c2ccccc2Sc2ccc(cc12)C#N   \n",
       "2077355  OCCN1CCN(CCCN2c3ccccc3Sc3ccc(cc23)C(F)(F)F)CC1   \n",
       "2077356      CC(CN1CCN(CCOCCO)CC1)CN1c2ccccc2Sc2ccccc12   \n",
       "\n",
       "                                           Target Sequence     Label  \n",
       "21470    MSHHWGYGKHNGPEHWHKDFPIAKGERQSPVDIDTHTAKYDPSLKP...      0.46  \n",
       "21471    MSHHWGYGKHNGPEHWHKDFPIAKGERQSPVDIDTHTAKYDPSLKP...      0.49  \n",
       "21472    MSHHWGYGKHNGPEHWHKDFPIAKGERQSPVDIDTHTAKYDPSLKP...      0.83  \n",
       "21473    MSHHWGYGKHNGPEHWHKDFPIAKGERQSPVDIDTHTAKYDPSLKP...      0.20  \n",
       "21474    MSHHWGYGKHNGPEHWHKDFPIAKGERQSPVDIDTHTAKYDPSLKP...      0.16  \n",
       "...                                                    ...       ...  \n",
       "2077352  MKWVTFISLLLLFSSAYSRGVFRRDTHKSEIAHRFKDLGEEHFKGL...  16600.00  \n",
       "2077353  MKWVTFISLLLLFSSAYSRGVFRRDTHKSEIAHRFKDLGEEHFKGL...  63100.00  \n",
       "2077354  MKWVTFISLLLLFSSAYSRGVFRRDTHKSEIAHRFKDLGEEHFKGL...  34700.00  \n",
       "2077355  MKWVTFISLLLLFSSAYSRGVFRRDTHKSEIAHRFKDLGEEHFKGL...  38900.00  \n",
       "2077356  MKWVTFISLLLLFSSAYSRGVFRRDTHKSEIAHRFKDLGEEHFKGL...  61700.00  \n",
       "\n",
       "[70750 rows x 3 columns]"
      ]
     },
     "execution_count": 7,
     "metadata": {},
     "output_type": "execute_result"
    }
   ],
   "source": [
    "df_want_Kd"
   ]
  },
  {
   "cell_type": "code",
   "execution_count": 8,
   "metadata": {},
   "outputs": [
    {
     "name": "stderr",
     "output_type": "stream",
     "text": [
      "100%|██████████| 70750/70750 [00:00<00:00, 1536991.81it/s]\n"
     ]
    }
   ],
   "source": [
    "threshold = 30 \n",
    "\n",
    "df_want_Kd_binary = pd.DataFrame(df_want_Kd)\n",
    "df_want_Kd_binary['Label'] = [1 if x < threshold else 0 for x in tqdm(df_want_Kd['Label'].tolist())]"
   ]
  },
  {
   "cell_type": "code",
   "execution_count": 78,
   "metadata": {},
   "outputs": [],
   "source": [
    "ligands = list(set(df_want_Kd_binary['SMILES'].tolist()))\n",
    "targets = list(set(df_want_Kd_binary['Target Sequence'].tolist()))"
   ]
  },
  {
   "cell_type": "code",
   "execution_count": 10,
   "metadata": {},
   "outputs": [
    {
     "name": "stderr",
     "output_type": "stream",
     "text": [
      "100%|██████████| 1507/1507 [00:12<00:00, 119.59it/s]\n"
     ]
    }
   ],
   "source": [
    "target_annotations_bindingDB = []\n",
    "target_pos_degree_bindingDB = []\n",
    "target_neg_degree_bindingDB = []\n",
    "target_degree_ratio_bindingDB = []\n",
    "\n",
    "for prot in tqdm(targets):\n",
    "    sub_df = df_want_Kd_binary[df_want_Kd_binary['Target Sequence'] == prot]\n",
    "    target_annotations_bindingDB.append(len(sub_df))\n",
    "    target_pos_degree_bindingDB.append(sub_df['Label'].tolist().count(1))\n",
    "    target_neg_degree_bindingDB.append(sub_df['Label'].tolist().count(0))\n",
    "    target_degree_ratio_bindingDB.append(sub_df['Label'].tolist().count(1)/(sub_df['Label'].tolist().count(1)+sub_df['Label'].tolist().count(0)))"
   ]
  },
  {
   "cell_type": "code",
   "execution_count": 17,
   "metadata": {},
   "outputs": [],
   "source": [
    "# p_connection_layer = sum(target_annotations_bindingDB) / (len(targets) * (len(targets)-1))"
   ]
  },
  {
   "cell_type": "code",
   "execution_count": 11,
   "metadata": {},
   "outputs": [],
   "source": [
    "# randomized_combined_unipartite = nx.fast_gnp_random_graph(len(targets), p_connection_layer)\n",
    "randomized_combined_unipartite = nx.configuration_model(target_annotations_bindingDB, create_using=nx.Graph())"
   ]
  },
  {
   "cell_type": "code",
   "execution_count": 12,
   "metadata": {},
   "outputs": [],
   "source": [
    "randomized_combined_unipartite = nx.Graph(randomized_combined_unipartite)"
   ]
  },
  {
   "cell_type": "code",
   "execution_count": 13,
   "metadata": {
    "scrolled": true
   },
   "outputs": [
    {
     "data": {
      "text/plain": [
       "28808"
      ]
     },
     "execution_count": 13,
     "metadata": {},
     "output_type": "execute_result"
    }
   ],
   "source": [
    "randomized_combined_unipartite.number_of_edges()"
   ]
  },
  {
   "cell_type": "markdown",
   "metadata": {},
   "source": [
    "# Target Annotaions and Kd"
   ]
  },
  {
   "cell_type": "code",
   "execution_count": 14,
   "metadata": {},
   "outputs": [],
   "source": [
    "df_want_Kd = df_want[['SMILES','Target Sequence','Label']]"
   ]
  },
  {
   "cell_type": "code",
   "execution_count": 15,
   "metadata": {},
   "outputs": [
    {
     "name": "stderr",
     "output_type": "stream",
     "text": [
      "/miniconda/lib/python3.6/site-packages/ipykernel_launcher.py:6: SettingWithCopyWarning: \n",
      "A value is trying to be set on a copy of a slice from a DataFrame.\n",
      "Try using .loc[row_indexer,col_indexer] = value instead\n",
      "\n",
      "See the caveats in the documentation: https://pandas.pydata.org/pandas-docs/stable/user_guide/indexing.html#returning-a-view-versus-a-copy\n",
      "  \n",
      "100%|██████████| 1507/1507 [00:12<00:00, 120.27it/s]\n",
      "100%|██████████| 172/172 [00:00<00:00, 5641.16it/s]\n"
     ]
    },
    {
     "name": "stdout",
     "output_type": "stream",
     "text": [
      "Targets - Between k and <Kd>:  SpearmanrResult(correlation=-0.4673048395959652, pvalue=1.0298775028113185e-10)\n"
     ]
    }
   ],
   "source": [
    "targets = list(set(df_want_Kd['Target Sequence']))\n",
    "target_annotations = []\n",
    "target_average_Kd = []\n",
    "\n",
    "#df_want_Kd = df_want_Kd[df_want_Kd['Label'] != 0]\n",
    "df_want_Kd['Label'] = list(df_want_Kd['Label'].tolist())\n",
    "\n",
    "for prot in tqdm(targets):\n",
    "    sub_df = df_want_Kd[df_want_Kd['Target Sequence'] == prot]\n",
    "    target_annotations.append(len(sub_df))\n",
    "    target_average_Kd.append(np.mean(sub_df['Label'].tolist()))\n",
    "    \n",
    "different_target_annotations = list(set(target_annotations))\n",
    "unique_Kd_targets = []\n",
    "unique_Kd_targets_std = []\n",
    "\n",
    "for unique_ann in tqdm(different_target_annotations):\n",
    "    \n",
    "    all_Kd_list = []    \n",
    "    all_indices = get_all_indices(target_annotations,unique_ann)\n",
    "    \n",
    "    for j in all_indices:\n",
    "        all_Kd_list.append(target_average_Kd[j])\n",
    "        \n",
    "    unique_Kd_targets.append(np.mean(all_Kd_list))\n",
    "    unique_Kd_targets_std.append(np.std(all_Kd_list))\n",
    "    \n",
    "print('Targets - Between k and <Kd>: ', stats.spearmanr(different_target_annotations,unique_Kd_targets))"
   ]
  },
  {
   "cell_type": "code",
   "execution_count": 16,
   "metadata": {},
   "outputs": [
    {
     "name": "stdout",
     "output_type": "stream",
     "text": [
      "Mean and standard deviation of log Kd:  7.104377155054556 3.333661394378017\n"
     ]
    },
    {
     "data": {
      "text/plain": [
       "Text(0, 0.5, 'Average $K_d$')"
      ]
     },
     "execution_count": 16,
     "metadata": {},
     "output_type": "execute_result"
    },
    {
     "data": {
      "image/png": "[encoded data removed]",
      "text/plain": [
       "<Figure size 640x480 with 1 Axes>"
      ]
     },
     "metadata": {
      "needs_background": "light"
     },
     "output_type": "display_data"
    }
   ],
   "source": [
    "mean_log_Kd = np.mean(np.log(remove_zeros_distribution(kd_list)))\n",
    "std_log_Kd = np.std(np.log(remove_zeros_distribution(kd_list)))\n",
    "\n",
    "print('Mean and standard deviation of log Kd: ', mean_log_Kd, std_log_Kd)\n",
    "\n",
    "figure(figsize=(8, 6), dpi=80)\n",
    "\n",
    "sns.scatterplot(different_target_annotations,unique_Kd_targets)\n",
    "plt.xscale('log')\n",
    "plt.yscale('log')\n",
    "plt.xlabel('Target Annotations')\n",
    "plt.ylabel(r'Average $K_d$')"
   ]
  },
  {
   "cell_type": "code",
   "execution_count": 17,
   "metadata": {},
   "outputs": [
    {
     "name": "stdout",
     "output_type": "stream",
     "text": [
      "Average annotations for targets:  38.232249502322496\n",
      "Target degree distribution - Power Law\n",
      "------------------------------------------------\n",
      "Calculating best minimal value for power law fit\n",
      "3.4233663424462244\n",
      "116.0\n"
     ]
    }
   ],
   "source": [
    "targets_degrees_list_plfit = [randomized_combined_unipartite.degree(node) for node in list(randomized_combined_unipartite.nodes())]\n",
    "\n",
    "print('Average annotations for targets: ', np.mean(targets_degrees_list_plfit))\n",
    "\n",
    "print('Target degree distribution - Power Law')\n",
    "print('------------------------------------------------')\n",
    "\n",
    "results = powerlaw.Fit(targets_degrees_list_plfit)\n",
    "print(results.power_law.alpha)\n",
    "print(results.power_law.xmin)"
   ]
  },
  {
   "cell_type": "code",
   "execution_count": 65,
   "metadata": {},
   "outputs": [],
   "source": [
    "mean = [0, 0]\n",
    "cov = [[1, -0.99], [-0.99, 1]] # correlation "
   ]
  },
  {
   "cell_type": "code",
   "execution_count": 66,
   "metadata": {
    "scrolled": true
   },
   "outputs": [],
   "source": [
    "x, y = np.random.multivariate_normal(mean, cov, size=100000).T"
   ]
  },
  {
   "cell_type": "code",
   "execution_count": 67,
   "metadata": {},
   "outputs": [],
   "source": [
    "from scipy.stats import norm  \n",
    "\n",
    "U1 = norm.cdf(x)\n",
    "U2 = norm.cdf(y)"
   ]
  },
  {
   "cell_type": "code",
   "execution_count": 68,
   "metadata": {},
   "outputs": [
    {
     "name": "stderr",
     "output_type": "stream",
     "text": [
      "100%|██████████| 100000/100000 [00:19<00:00, 5014.87it/s]\n"
     ]
    }
   ],
   "source": [
    "Kmin = 1\n",
    "gamma = results.power_law.alpha\n",
    "\n",
    "K_copula_list = []\n",
    "Kd_copula_list = []\n",
    "\n",
    "for i in tqdm(range(len(U1))):\n",
    "    K_copula_list.append(int(Kmin * ((1-U1[i]) ** (1/(1-gamma)))))\n",
    "    Kd_copula_list.append(np.exp(mean_log_Kd + std_log_Kd*norm.ppf(U2[i])))"
   ]
  },
  {
   "cell_type": "code",
   "execution_count": 69,
   "metadata": {},
   "outputs": [
    {
     "data": {
      "image/png": "[encoded data removed]",
      "text/plain": [
       "<Figure size 432x288 with 1 Axes>"
      ]
     },
     "metadata": {
      "needs_background": "light"
     },
     "output_type": "display_data"
    }
   ],
   "source": [
    "plt.scatter(K_copula_list,Kd_copula_list,alpha=0.2)\n",
    "plt.xscale('log')\n",
    "plt.yscale('log')"
   ]
  },
  {
   "cell_type": "code",
   "execution_count": 70,
   "metadata": {},
   "outputs": [
    {
     "data": {
      "text/plain": [
       "SpearmanrResult(correlation=-0.6726276200906236, pvalue=0.0)"
      ]
     },
     "execution_count": 70,
     "metadata": {},
     "output_type": "execute_result"
    }
   ],
   "source": [
    "stats.spearmanr(Kd_copula_list,K_copula_list)"
   ]
  },
  {
   "cell_type": "markdown",
   "metadata": {},
   "source": [
    "# Adding Randomized Kd Values"
   ]
  },
  {
   "cell_type": "code",
   "execution_count": 76,
   "metadata": {
    "scrolled": true
   },
   "outputs": [
    {
     "name": "stderr",
     "output_type": "stream",
     "text": [
      "  0%|          | 7/1507 [00:00<00:46, 32.43it/s]"
     ]
    },
    {
     "name": "stdout",
     "output_type": "stream",
     "text": [
      "Not close enough:  91\n",
      "Not close enough:  3\n",
      "Not close enough:  43\n"
     ]
    },
    {
     "name": "stderr",
     "output_type": "stream",
     "text": [
      "  1%|▏         | 19/1507 [00:00<00:44, 33.81it/s]"
     ]
    },
    {
     "name": "stdout",
     "output_type": "stream",
     "text": [
      "Not close enough:  11\n",
      "Not close enough:  9\n",
      "Not close enough:  11\n",
      "Not close enough:  100\n"
     ]
    },
    {
     "name": "stderr",
     "output_type": "stream",
     "text": [
      "  2%|▏         | 27/1507 [00:00<00:46, 31.61it/s]"
     ]
    },
    {
     "name": "stdout",
     "output_type": "stream",
     "text": [
      "Not close enough:  17\n",
      "Not close enough:  4\n"
     ]
    },
    {
     "name": "stderr",
     "output_type": "stream",
     "text": [
      "  2%|▏         | 35/1507 [00:01<00:46, 31.89it/s]"
     ]
    },
    {
     "name": "stdout",
     "output_type": "stream",
     "text": [
      "Not close enough:  79\n",
      "Not close enough:  225\n"
     ]
    },
    {
     "name": "stderr",
     "output_type": "stream",
     "text": [
      "  3%|▎         | 47/1507 [00:01<00:47, 30.45it/s]"
     ]
    },
    {
     "name": "stdout",
     "output_type": "stream",
     "text": [
      "Not close enough:  9\n",
      "Not close enough:  12\n"
     ]
    },
    {
     "name": "stderr",
     "output_type": "stream",
     "text": [
      "  4%|▎         | 55/1507 [00:01<00:48, 30.24it/s]"
     ]
    },
    {
     "name": "stdout",
     "output_type": "stream",
     "text": [
      "Not close enough:  13\n",
      "Not close enough:  3\n",
      "Not close enough:  14\n"
     ]
    },
    {
     "name": "stderr",
     "output_type": "stream",
     "text": [
      "  4%|▍         | 63/1507 [00:02<00:47, 30.42it/s]"
     ]
    },
    {
     "name": "stdout",
     "output_type": "stream",
     "text": [
      "Not close enough:  18\n",
      "Not close enough:  5\n",
      "Not close enough:  9\n"
     ]
    },
    {
     "name": "stderr",
     "output_type": "stream",
     "text": [
      "  5%|▍         | 71/1507 [00:02<00:49, 29.24it/s]"
     ]
    },
    {
     "name": "stdout",
     "output_type": "stream",
     "text": [
      "Not close enough:  7\n"
     ]
    },
    {
     "name": "stderr",
     "output_type": "stream",
     "text": [
      "  5%|▌         | 79/1507 [00:02<00:47, 30.25it/s]"
     ]
    },
    {
     "name": "stdout",
     "output_type": "stream",
     "text": [
      "Not close enough:  7\n",
      "Not close enough:  13\n",
      "Not close enough:  5\n"
     ]
    },
    {
     "name": "stderr",
     "output_type": "stream",
     "text": [
      "  6%|▌         | 83/1507 [00:02<00:45, 31.47it/s]"
     ]
    },
    {
     "name": "stdout",
     "output_type": "stream",
     "text": [
      "Not close enough:  14\n",
      "Not close enough:  9\n",
      "Not close enough:  4\n",
      "Not close enough:  10\n"
     ]
    },
    {
     "name": "stderr",
     "output_type": "stream",
     "text": [
      "  7%|▋         | 102/1507 [00:03<00:46, 30.30it/s]"
     ]
    },
    {
     "name": "stdout",
     "output_type": "stream",
     "text": [
      "Not close enough:  63\n"
     ]
    },
    {
     "name": "stderr",
     "output_type": "stream",
     "text": [
      "  8%|▊         | 114/1507 [00:03<00:49, 28.43it/s]"
     ]
    },
    {
     "name": "stdout",
     "output_type": "stream",
     "text": [
      "Not close enough:  11\n",
      "Not close enough:  8\n",
      "Not close enough:  99\n",
      "Not close enough:  22\n"
     ]
    },
    {
     "name": "stderr",
     "output_type": "stream",
     "text": [
      "  8%|▊         | 122/1507 [00:04<00:46, 29.80it/s]"
     ]
    },
    {
     "name": "stdout",
     "output_type": "stream",
     "text": [
      "Not close enough:  5\n",
      "Not close enough:  35\n",
      "Not close enough:  10\n",
      "Not close enough:  17\n"
     ]
    },
    {
     "name": "stderr",
     "output_type": "stream",
     "text": [
      "  9%|▊         | 130/1507 [00:04<00:47, 28.83it/s]"
     ]
    },
    {
     "name": "stdout",
     "output_type": "stream",
     "text": [
      "Not close enough:  7\n",
      "Not close enough:  5\n"
     ]
    },
    {
     "name": "stderr",
     "output_type": "stream",
     "text": [
      "  9%|▉         | 138/1507 [00:04<00:43, 31.48it/s]"
     ]
    },
    {
     "name": "stdout",
     "output_type": "stream",
     "text": [
      "Not close enough:  99\n",
      "Not close enough:  15\n",
      "Not close enough:  204\n",
      "Not close enough:  6\n"
     ]
    },
    {
     "name": "stderr",
     "output_type": "stream",
     "text": [
      "  9%|▉         | 142/1507 [00:04<00:46, 29.61it/s]"
     ]
    },
    {
     "name": "stdout",
     "output_type": "stream",
     "text": [
      "Not close enough:  17\n",
      "Not close enough:  5\n",
      "Not close enough:  12\n",
      "Not close enough:  402\n"
     ]
    },
    {
     "name": "stderr",
     "output_type": "stream",
     "text": [
      " 10%|█         | 153/1507 [00:05<00:46, 29.03it/s]"
     ]
    },
    {
     "name": "stdout",
     "output_type": "stream",
     "text": [
      "Not close enough:  5\n"
     ]
    },
    {
     "name": "stderr",
     "output_type": "stream",
     "text": [
      " 11%|█         | 161/1507 [00:05<00:44, 30.47it/s]"
     ]
    },
    {
     "name": "stdout",
     "output_type": "stream",
     "text": [
      "Not close enough:  10\n",
      "Not close enough:  7\n",
      "Not close enough:  13\n",
      "Not close enough:  9\n"
     ]
    },
    {
     "name": "stderr",
     "output_type": "stream",
     "text": [
      " 11%|█▏        | 173/1507 [00:05<00:43, 30.79it/s]"
     ]
    },
    {
     "name": "stdout",
     "output_type": "stream",
     "text": [
      "Not close enough:  19\n",
      "Not close enough:  12\n"
     ]
    },
    {
     "name": "stderr",
     "output_type": "stream",
     "text": [
      " 12%|█▏        | 181/1507 [00:05<00:43, 30.23it/s]"
     ]
    },
    {
     "name": "stdout",
     "output_type": "stream",
     "text": [
      "Not close enough:  5\n",
      "Not close enough:  21\n",
      "Not close enough:  11\n",
      "Not close enough:  11\n"
     ]
    },
    {
     "name": "stderr",
     "output_type": "stream",
     "text": [
      " 12%|█▏        | 185/1507 [00:06<00:43, 30.06it/s]"
     ]
    },
    {
     "name": "stdout",
     "output_type": "stream",
     "text": [
      "Not close enough:  19\n",
      "Not close enough:  9\n"
     ]
    },
    {
     "name": "stderr",
     "output_type": "stream",
     "text": [
      " 13%|█▎        | 193/1507 [00:06<00:42, 30.84it/s]"
     ]
    },
    {
     "name": "stdout",
     "output_type": "stream",
     "text": [
      "Not close enough:  17\n",
      "Not close enough:  12\n"
     ]
    },
    {
     "name": "stderr",
     "output_type": "stream",
     "text": [
      " 14%|█▎        | 207/1507 [00:06<00:45, 28.80it/s]"
     ]
    },
    {
     "name": "stdout",
     "output_type": "stream",
     "text": [
      "Not close enough:  8\n",
      "Not close enough:  12\n"
     ]
    },
    {
     "name": "stderr",
     "output_type": "stream",
     "text": [
      " 15%|█▍        | 225/1507 [00:07<00:41, 30.56it/s]"
     ]
    },
    {
     "name": "stdout",
     "output_type": "stream",
     "text": [
      "Not close enough:  435\n"
     ]
    },
    {
     "name": "stderr",
     "output_type": "stream",
     "text": [
      " 16%|█▌        | 237/1507 [00:07<00:42, 30.11it/s]"
     ]
    },
    {
     "name": "stdout",
     "output_type": "stream",
     "text": [
      "Not close enough:  12\n",
      "Not close enough:  4\n",
      "Not close enough:  17\n",
      "Not close enough:  20\n"
     ]
    },
    {
     "name": "stderr",
     "output_type": "stream",
     "text": [
      " 16%|█▌        | 241/1507 [00:08<00:42, 29.89it/s]"
     ]
    },
    {
     "name": "stdout",
     "output_type": "stream",
     "text": [
      "Not close enough:  11\n",
      "Not close enough:  10\n",
      "Not close enough:  3\n"
     ]
    },
    {
     "name": "stderr",
     "output_type": "stream",
     "text": [
      " 17%|█▋        | 251/1507 [00:08<00:42, 29.90it/s]"
     ]
    },
    {
     "name": "stdout",
     "output_type": "stream",
     "text": [
      "Not close enough:  8\n",
      "Not close enough:  31\n"
     ]
    },
    {
     "name": "stderr",
     "output_type": "stream",
     "text": [
      " 17%|█▋        | 259/1507 [00:08<00:38, 32.40it/s]"
     ]
    },
    {
     "name": "stdout",
     "output_type": "stream",
     "text": [
      "Not close enough:  13\n",
      "Not close enough:  8\n"
     ]
    },
    {
     "name": "stderr",
     "output_type": "stream",
     "text": [
      " 18%|█▊        | 267/1507 [00:08<00:41, 30.18it/s]"
     ]
    },
    {
     "name": "stdout",
     "output_type": "stream",
     "text": [
      "Not close enough:  3\n"
     ]
    },
    {
     "name": "stderr",
     "output_type": "stream",
     "text": [
      " 18%|█▊        | 275/1507 [00:09<00:43, 28.42it/s]"
     ]
    },
    {
     "name": "stdout",
     "output_type": "stream",
     "text": [
      "Not close enough:  493\n",
      "Not close enough:  12\n",
      "Not close enough:  21\n"
     ]
    },
    {
     "name": "stderr",
     "output_type": "stream",
     "text": [
      " 19%|█▉        | 283/1507 [00:09<00:38, 31.40it/s]"
     ]
    },
    {
     "name": "stdout",
     "output_type": "stream",
     "text": [
      "Not close enough:  10\n",
      "Not close enough:  10\n",
      "Not close enough:  11\n"
     ]
    },
    {
     "name": "stderr",
     "output_type": "stream",
     "text": [
      " 19%|█▉        | 291/1507 [00:09<00:41, 29.39it/s]"
     ]
    },
    {
     "name": "stdout",
     "output_type": "stream",
     "text": [
      "Not close enough:  12\n",
      "Not close enough:  39\n",
      "Not close enough:  5\n"
     ]
    },
    {
     "name": "stderr",
     "output_type": "stream",
     "text": [
      " 20%|█▉        | 299/1507 [00:09<00:39, 30.67it/s]"
     ]
    },
    {
     "name": "stdout",
     "output_type": "stream",
     "text": [
      "Not close enough:  5\n",
      "Not close enough:  9\n"
     ]
    },
    {
     "name": "stderr",
     "output_type": "stream",
     "text": [
      " 21%|██        | 311/1507 [00:10<00:38, 30.70it/s]"
     ]
    },
    {
     "name": "stdout",
     "output_type": "stream",
     "text": [
      "Not close enough:  30\n"
     ]
    },
    {
     "name": "stderr",
     "output_type": "stream",
     "text": [
      " 21%|██        | 319/1507 [00:10<00:39, 29.87it/s]"
     ]
    },
    {
     "name": "stdout",
     "output_type": "stream",
     "text": [
      "Not close enough:  17\n"
     ]
    },
    {
     "name": "stderr",
     "output_type": "stream",
     "text": [
      " 22%|██▏       | 327/1507 [00:10<00:38, 30.83it/s]"
     ]
    },
    {
     "name": "stdout",
     "output_type": "stream",
     "text": [
      "Not close enough:  7\n",
      "Not close enough:  13\n",
      "Not close enough:  7\n",
      "Not close enough:  3\n"
     ]
    },
    {
     "name": "stderr",
     "output_type": "stream",
     "text": [
      " 22%|██▏       | 337/1507 [00:11<00:40, 29.11it/s]"
     ]
    },
    {
     "name": "stdout",
     "output_type": "stream",
     "text": [
      "Not close enough:  8\n",
      "Not close enough:  15\n"
     ]
    },
    {
     "name": "stderr",
     "output_type": "stream",
     "text": [
      " 23%|██▎       | 344/1507 [00:11<00:41, 27.84it/s]"
     ]
    },
    {
     "name": "stdout",
     "output_type": "stream",
     "text": [
      "Not close enough:  8\n",
      "Not close enough:  39\n"
     ]
    },
    {
     "name": "stderr",
     "output_type": "stream",
     "text": [
      " 23%|██▎       | 354/1507 [00:11<00:39, 29.38it/s]"
     ]
    },
    {
     "name": "stdout",
     "output_type": "stream",
     "text": [
      "Not close enough:  14\n",
      "Not close enough:  11\n"
     ]
    },
    {
     "name": "stderr",
     "output_type": "stream",
     "text": [
      " 25%|██▌       | 378/1507 [00:12<00:39, 28.50it/s]"
     ]
    },
    {
     "name": "stdout",
     "output_type": "stream",
     "text": [
      "Not close enough:  7\n",
      "Not close enough:  9\n"
     ]
    },
    {
     "name": "stderr",
     "output_type": "stream",
     "text": [
      " 26%|██▌       | 388/1507 [00:13<00:38, 28.92it/s]"
     ]
    },
    {
     "name": "stdout",
     "output_type": "stream",
     "text": [
      "Not close enough:  15\n",
      "Not close enough:  13\n",
      "Not close enough:  11\n"
     ]
    },
    {
     "name": "stderr",
     "output_type": "stream",
     "text": [
      " 26%|██▌       | 394/1507 [00:13<00:38, 28.70it/s]"
     ]
    },
    {
     "name": "stdout",
     "output_type": "stream",
     "text": [
      "Not close enough:  9\n",
      "Not close enough:  6\n",
      "Not close enough:  7\n"
     ]
    },
    {
     "name": "stderr",
     "output_type": "stream",
     "text": [
      " 27%|██▋       | 405/1507 [00:13<00:36, 30.13it/s]"
     ]
    },
    {
     "name": "stdout",
     "output_type": "stream",
     "text": [
      "Not close enough:  7\n",
      "Not close enough:  35\n",
      "Not close enough:  17\n"
     ]
    },
    {
     "name": "stderr",
     "output_type": "stream",
     "text": [
      " 28%|██▊       | 417/1507 [00:13<00:32, 33.32it/s]"
     ]
    },
    {
     "name": "stdout",
     "output_type": "stream",
     "text": [
      "Not close enough:  14\n",
      "Not close enough:  11\n",
      "Not close enough:  133\n",
      "Not close enough:  22\n",
      "Not close enough:  68\n"
     ]
    },
    {
     "name": "stderr",
     "output_type": "stream",
     "text": [
      " 28%|██▊       | 429/1507 [00:14<00:35, 30.71it/s]"
     ]
    },
    {
     "name": "stdout",
     "output_type": "stream",
     "text": [
      "Not close enough:  21\n",
      "Not close enough:  9\n",
      "Not close enough:  7\n"
     ]
    },
    {
     "name": "stderr",
     "output_type": "stream",
     "text": [
      " 29%|██▉       | 437/1507 [00:14<00:34, 31.14it/s]"
     ]
    },
    {
     "name": "stdout",
     "output_type": "stream",
     "text": [
      "Not close enough:  10\n",
      "Not close enough:  13\n"
     ]
    },
    {
     "name": "stderr",
     "output_type": "stream",
     "text": [
      " 29%|██▉       | 441/1507 [00:14<00:33, 32.08it/s]"
     ]
    },
    {
     "name": "stdout",
     "output_type": "stream",
     "text": [
      "Not close enough:  9\n",
      "Not close enough:  5\n"
     ]
    },
    {
     "name": "stderr",
     "output_type": "stream",
     "text": [
      " 30%|███       | 453/1507 [00:15<00:34, 30.64it/s]"
     ]
    },
    {
     "name": "stdout",
     "output_type": "stream",
     "text": [
      "Not close enough:  9\n",
      "Not close enough:  18\n"
     ]
    },
    {
     "name": "stderr",
     "output_type": "stream",
     "text": [
      " 31%|███       | 461/1507 [00:15<00:33, 31.48it/s]"
     ]
    },
    {
     "name": "stdout",
     "output_type": "stream",
     "text": [
      "Not close enough:  10\n"
     ]
    },
    {
     "name": "stderr",
     "output_type": "stream",
     "text": [
      " 31%|███       | 469/1507 [00:15<00:34, 30.30it/s]"
     ]
    },
    {
     "name": "stdout",
     "output_type": "stream",
     "text": [
      "Not close enough:  10\n",
      "Not close enough:  18\n",
      "Not close enough:  10\n"
     ]
    },
    {
     "name": "stderr",
     "output_type": "stream",
     "text": [
      " 32%|███▏      | 477/1507 [00:15<00:31, 32.38it/s]"
     ]
    },
    {
     "name": "stdout",
     "output_type": "stream",
     "text": [
      "Not close enough:  25\n",
      "Not close enough:  12\n"
     ]
    },
    {
     "name": "stderr",
     "output_type": "stream",
     "text": [
      " 32%|███▏      | 488/1507 [00:16<00:35, 28.98it/s]"
     ]
    },
    {
     "name": "stdout",
     "output_type": "stream",
     "text": [
      "Not close enough:  8\n",
      "Not close enough:  6\n"
     ]
    },
    {
     "name": "stderr",
     "output_type": "stream",
     "text": [
      " 33%|███▎      | 496/1507 [00:16<00:34, 29.18it/s]"
     ]
    },
    {
     "name": "stdout",
     "output_type": "stream",
     "text": [
      "Not close enough:  10\n",
      "Not close enough:  20\n",
      "Not close enough:  11\n"
     ]
    },
    {
     "name": "stderr",
     "output_type": "stream",
     "text": [
      " 34%|███▎      | 506/1507 [00:16<00:33, 29.81it/s]"
     ]
    },
    {
     "name": "stdout",
     "output_type": "stream",
     "text": [
      "Not close enough:  3\n",
      "Not close enough:  13\n"
     ]
    },
    {
     "name": "stderr",
     "output_type": "stream",
     "text": [
      " 34%|███▍      | 516/1507 [00:17<00:33, 29.36it/s]"
     ]
    },
    {
     "name": "stdout",
     "output_type": "stream",
     "text": [
      "Not close enough:  30\n",
      "Not close enough:  13\n",
      "Not close enough:  18\n"
     ]
    },
    {
     "name": "stderr",
     "output_type": "stream",
     "text": [
      " 35%|███▍      | 527/1507 [00:17<00:31, 30.71it/s]"
     ]
    },
    {
     "name": "stdout",
     "output_type": "stream",
     "text": [
      "Not close enough:  46\n",
      "Not close enough:  7\n",
      "Not close enough:  9\n"
     ]
    },
    {
     "name": "stderr",
     "output_type": "stream",
     "text": [
      " 36%|███▌      | 535/1507 [00:17<00:33, 29.07it/s]"
     ]
    },
    {
     "name": "stdout",
     "output_type": "stream",
     "text": [
      "Not close enough:  7\n",
      "Not close enough:  72\n"
     ]
    },
    {
     "name": "stderr",
     "output_type": "stream",
     "text": [
      " 36%|███▌      | 543/1507 [00:18<00:31, 30.21it/s]"
     ]
    },
    {
     "name": "stdout",
     "output_type": "stream",
     "text": [
      "Not close enough:  8\n",
      "Not close enough:  5\n",
      "Not close enough:  12\n",
      "Not close enough:  9\n"
     ]
    },
    {
     "name": "stderr",
     "output_type": "stream",
     "text": [
      " 37%|███▋      | 555/1507 [00:18<00:30, 31.48it/s]"
     ]
    },
    {
     "name": "stdout",
     "output_type": "stream",
     "text": [
      "Not close enough:  4\n",
      "Not close enough:  15\n",
      "Not close enough:  6\n",
      "Not close enough:  9\n",
      "Not close enough:  379\n"
     ]
    },
    {
     "name": "stderr",
     "output_type": "stream",
     "text": [
      " 38%|███▊      | 567/1507 [00:18<00:30, 30.45it/s]"
     ]
    },
    {
     "name": "stdout",
     "output_type": "stream",
     "text": [
      "Not close enough:  21\n",
      "Not close enough:  71\n",
      "Not close enough:  100\n"
     ]
    },
    {
     "name": "stderr",
     "output_type": "stream",
     "text": [
      " 38%|███▊      | 579/1507 [00:19<00:28, 32.31it/s]"
     ]
    },
    {
     "name": "stdout",
     "output_type": "stream",
     "text": [
      "Not close enough:  58\n",
      "Not close enough:  12\n"
     ]
    },
    {
     "name": "stderr",
     "output_type": "stream",
     "text": [
      " 39%|███▉      | 595/1507 [00:19<00:27, 33.31it/s]"
     ]
    },
    {
     "name": "stdout",
     "output_type": "stream",
     "text": [
      "Not close enough:  10\n",
      "Not close enough:  10\n",
      "Not close enough:  10\n"
     ]
    },
    {
     "name": "stderr",
     "output_type": "stream",
     "text": [
      " 40%|████      | 603/1507 [00:20<00:28, 31.95it/s]"
     ]
    },
    {
     "name": "stdout",
     "output_type": "stream",
     "text": [
      "Not close enough:  11\n",
      "Not close enough:  16\n"
     ]
    },
    {
     "name": "stderr",
     "output_type": "stream",
     "text": [
      " 42%|████▏     | 631/1507 [00:20<00:28, 30.49it/s]"
     ]
    },
    {
     "name": "stdout",
     "output_type": "stream",
     "text": [
      "Not close enough:  5\n",
      "Not close enough:  6\n",
      "Not close enough:  11\n",
      "Not close enough:  7\n",
      "Not close enough:  6\n"
     ]
    },
    {
     "name": "stderr",
     "output_type": "stream",
     "text": [
      " 42%|████▏     | 639/1507 [00:21<00:31, 27.98it/s]"
     ]
    },
    {
     "name": "stdout",
     "output_type": "stream",
     "text": [
      "Not close enough:  9\n",
      "Not close enough:  13\n"
     ]
    },
    {
     "name": "stderr",
     "output_type": "stream",
     "text": [
      " 44%|████▎     | 657/1507 [00:21<00:30, 27.94it/s]"
     ]
    },
    {
     "name": "stdout",
     "output_type": "stream",
     "text": [
      "Not close enough:  13\n",
      "Not close enough:  57\n"
     ]
    },
    {
     "name": "stderr",
     "output_type": "stream",
     "text": [
      " 44%|████▍     | 665/1507 [00:22<00:28, 29.69it/s]"
     ]
    },
    {
     "name": "stdout",
     "output_type": "stream",
     "text": [
      "Not close enough:  3\n",
      "Not close enough:  9\n",
      "Not close enough:  7\n",
      "Not close enough:  9\n",
      "Not close enough:  21\n"
     ]
    },
    {
     "name": "stderr",
     "output_type": "stream",
     "text": [
      " 45%|████▍     | 678/1507 [00:22<00:29, 28.11it/s]"
     ]
    },
    {
     "name": "stdout",
     "output_type": "stream",
     "text": [
      "Not close enough:  10\n",
      "Not close enough:  18\n"
     ]
    },
    {
     "name": "stderr",
     "output_type": "stream",
     "text": [
      " 46%|████▌     | 695/1507 [00:23<00:26, 30.48it/s]"
     ]
    },
    {
     "name": "stdout",
     "output_type": "stream",
     "text": [
      "Not close enough:  9\n",
      "Not close enough:  26\n",
      "Not close enough:  37\n"
     ]
    },
    {
     "name": "stderr",
     "output_type": "stream",
     "text": [
      " 47%|████▋     | 707/1507 [00:23<00:27, 28.79it/s]"
     ]
    },
    {
     "name": "stdout",
     "output_type": "stream",
     "text": [
      "Not close enough:  14\n"
     ]
    },
    {
     "name": "stderr",
     "output_type": "stream",
     "text": [
      " 48%|████▊     | 723/1507 [00:24<00:25, 31.30it/s]"
     ]
    },
    {
     "name": "stdout",
     "output_type": "stream",
     "text": [
      "Not close enough:  10\n",
      "Not close enough:  4\n",
      "Not close enough:  9\n"
     ]
    },
    {
     "name": "stderr",
     "output_type": "stream",
     "text": [
      " 48%|████▊     | 727/1507 [00:24<00:25, 30.65it/s]"
     ]
    },
    {
     "name": "stdout",
     "output_type": "stream",
     "text": [
      "Not close enough:  11\n",
      "Not close enough:  11\n",
      "Not close enough:  6\n"
     ]
    },
    {
     "name": "stderr",
     "output_type": "stream",
     "text": [
      " 49%|████▉     | 738/1507 [00:24<00:27, 28.30it/s]"
     ]
    },
    {
     "name": "stdout",
     "output_type": "stream",
     "text": [
      "Not close enough:  41\n",
      "Not close enough:  12\n"
     ]
    },
    {
     "name": "stderr",
     "output_type": "stream",
     "text": [
      " 50%|████▉     | 748/1507 [00:24<00:25, 29.65it/s]"
     ]
    },
    {
     "name": "stdout",
     "output_type": "stream",
     "text": [
      "Not close enough:  5\n",
      "Not close enough:  9\n",
      "Not close enough:  6\n"
     ]
    },
    {
     "name": "stderr",
     "output_type": "stream",
     "text": [
      " 50%|█████     | 760/1507 [00:25<00:24, 30.59it/s]"
     ]
    },
    {
     "name": "stdout",
     "output_type": "stream",
     "text": [
      "Not close enough:  11\n",
      "Not close enough:  9\n"
     ]
    },
    {
     "name": "stderr",
     "output_type": "stream",
     "text": [
      " 51%|█████     | 768/1507 [00:25<00:23, 31.17it/s]"
     ]
    },
    {
     "name": "stdout",
     "output_type": "stream",
     "text": [
      "Not close enough:  11\n",
      "Not close enough:  13\n",
      "Not close enough:  15\n"
     ]
    },
    {
     "name": "stderr",
     "output_type": "stream",
     "text": [
      " 51%|█████▏    | 776/1507 [00:25<00:22, 31.95it/s]"
     ]
    },
    {
     "name": "stdout",
     "output_type": "stream",
     "text": [
      "Not close enough:  9\n",
      "Not close enough:  6\n",
      "Not close enough:  3\n"
     ]
    },
    {
     "name": "stderr",
     "output_type": "stream",
     "text": [
      " 52%|█████▏    | 788/1507 [00:26<00:22, 31.59it/s]"
     ]
    },
    {
     "name": "stdout",
     "output_type": "stream",
     "text": [
      "Not close enough:  168\n",
      "Not close enough:  7\n",
      "Not close enough:  9\n"
     ]
    },
    {
     "name": "stderr",
     "output_type": "stream",
     "text": [
      " 53%|█████▎    | 796/1507 [00:26<00:23, 30.79it/s]"
     ]
    },
    {
     "name": "stdout",
     "output_type": "stream",
     "text": [
      "Not close enough:  12\n",
      "Not close enough:  8\n",
      "Not close enough:  18\n"
     ]
    },
    {
     "name": "stderr",
     "output_type": "stream",
     "text": [
      " 53%|█████▎    | 804/1507 [00:26<00:21, 32.23it/s]"
     ]
    },
    {
     "name": "stdout",
     "output_type": "stream",
     "text": [
      "Not close enough:  29\n",
      "Not close enough:  16\n",
      "Not close enough:  10\n",
      "Not close enough:  14\n",
      "Not close enough:  8\n"
     ]
    },
    {
     "name": "stderr",
     "output_type": "stream",
     "text": [
      " 54%|█████▍    | 812/1507 [00:26<00:22, 30.74it/s]"
     ]
    },
    {
     "name": "stdout",
     "output_type": "stream",
     "text": [
      "Not close enough:  10\n",
      "Not close enough:  11\n",
      "Not close enough:  16\n"
     ]
    },
    {
     "name": "stderr",
     "output_type": "stream",
     "text": [
      " 55%|█████▍    | 828/1507 [00:27<00:21, 31.82it/s]"
     ]
    },
    {
     "name": "stdout",
     "output_type": "stream",
     "text": [
      "Not close enough:  32\n",
      "Not close enough:  9\n",
      "Not close enough:  15\n"
     ]
    },
    {
     "name": "stderr",
     "output_type": "stream",
     "text": [
      " 56%|█████▌    | 840/1507 [00:27<00:20, 32.02it/s]"
     ]
    },
    {
     "name": "stdout",
     "output_type": "stream",
     "text": [
      "Not close enough:  10\n",
      "Not close enough:  27\n",
      "Not close enough:  6\n"
     ]
    },
    {
     "name": "stderr",
     "output_type": "stream",
     "text": [
      " 56%|█████▋    | 848/1507 [00:28<00:21, 31.18it/s]"
     ]
    },
    {
     "name": "stdout",
     "output_type": "stream",
     "text": [
      "Not close enough:  12\n"
     ]
    },
    {
     "name": "stderr",
     "output_type": "stream",
     "text": [
      " 57%|█████▋    | 856/1507 [00:28<00:19, 32.66it/s]"
     ]
    },
    {
     "name": "stdout",
     "output_type": "stream",
     "text": [
      "Not close enough:  25\n",
      "Not close enough:  16\n",
      "Not close enough:  10\n",
      "Not close enough:  5\n"
     ]
    },
    {
     "name": "stderr",
     "output_type": "stream",
     "text": [
      " 58%|█████▊    | 880/1507 [00:29<00:20, 31.25it/s]"
     ]
    },
    {
     "name": "stdout",
     "output_type": "stream",
     "text": [
      "Not close enough:  4\n",
      "Not close enough:  19\n"
     ]
    },
    {
     "name": "stderr",
     "output_type": "stream",
     "text": [
      " 59%|█████▊    | 884/1507 [00:29<00:20, 30.35it/s]"
     ]
    },
    {
     "name": "stdout",
     "output_type": "stream",
     "text": [
      "Not close enough:  6\n",
      "Not close enough:  9\n"
     ]
    },
    {
     "name": "stderr",
     "output_type": "stream",
     "text": [
      " 59%|█████▉    | 895/1507 [00:29<00:21, 28.39it/s]"
     ]
    },
    {
     "name": "stdout",
     "output_type": "stream",
     "text": [
      "Not close enough:  17\n",
      "Not close enough:  5\n",
      "Not close enough:  12\n"
     ]
    },
    {
     "name": "stderr",
     "output_type": "stream",
     "text": [
      " 60%|██████    | 909/1507 [00:30<00:18, 31.55it/s]"
     ]
    },
    {
     "name": "stdout",
     "output_type": "stream",
     "text": [
      "Not close enough:  12\n",
      "Not close enough:  30\n",
      "Not close enough:  287\n",
      "Not close enough:  12\n"
     ]
    },
    {
     "name": "stderr",
     "output_type": "stream",
     "text": [
      " 61%|██████    | 917/1507 [00:30<00:18, 31.69it/s]"
     ]
    },
    {
     "name": "stdout",
     "output_type": "stream",
     "text": [
      "Not close enough:  10\n",
      "Not close enough:  87\n"
     ]
    },
    {
     "name": "stderr",
     "output_type": "stream",
     "text": [
      " 61%|██████▏   | 925/1507 [00:30<00:18, 30.77it/s]"
     ]
    },
    {
     "name": "stdout",
     "output_type": "stream",
     "text": [
      "Not close enough:  5\n",
      "Not close enough:  9\n",
      "Not close enough:  12\n"
     ]
    },
    {
     "name": "stderr",
     "output_type": "stream",
     "text": [
      " 62%|██████▏   | 936/1507 [00:30<00:20, 28.54it/s]"
     ]
    },
    {
     "name": "stdout",
     "output_type": "stream",
     "text": [
      "Not close enough:  3\n",
      "Not close enough:  104\n"
     ]
    },
    {
     "name": "stderr",
     "output_type": "stream",
     "text": [
      " 63%|██████▎   | 944/1507 [00:31<00:18, 30.13it/s]"
     ]
    },
    {
     "name": "stdout",
     "output_type": "stream",
     "text": [
      "Not close enough:  32\n",
      "Not close enough:  66\n",
      "Not close enough:  9\n"
     ]
    },
    {
     "name": "stderr",
     "output_type": "stream",
     "text": [
      " 63%|██████▎   | 948/1507 [00:31<00:19, 28.79it/s]"
     ]
    },
    {
     "name": "stdout",
     "output_type": "stream",
     "text": [
      "Not close enough:  63\n",
      "Not close enough:  83\n",
      "Not close enough:  15\n"
     ]
    },
    {
     "name": "stderr",
     "output_type": "stream",
     "text": [
      " 64%|██████▍   | 964/1507 [00:31<00:19, 28.46it/s]"
     ]
    },
    {
     "name": "stdout",
     "output_type": "stream",
     "text": [
      "Not close enough:  38\n",
      "Not close enough:  14\n",
      "Not close enough:  6\n",
      "Not close enough:  3\n"
     ]
    },
    {
     "name": "stderr",
     "output_type": "stream",
     "text": [
      " 64%|██████▍   | 972/1507 [00:32<00:17, 30.18it/s]"
     ]
    },
    {
     "name": "stdout",
     "output_type": "stream",
     "text": [
      "Not close enough:  9\n",
      "Not close enough:  13\n",
      "Not close enough:  8\n"
     ]
    },
    {
     "name": "stderr",
     "output_type": "stream",
     "text": [
      " 65%|██████▍   | 976/1507 [00:32<00:16, 31.55it/s]"
     ]
    },
    {
     "name": "stdout",
     "output_type": "stream",
     "text": [
      "Not close enough:  7\n",
      "Not close enough:  22\n",
      "Not close enough:  9\n"
     ]
    },
    {
     "name": "stderr",
     "output_type": "stream",
     "text": [
      " 66%|██████▌   | 988/1507 [00:32<00:16, 30.89it/s]"
     ]
    },
    {
     "name": "stdout",
     "output_type": "stream",
     "text": [
      "Not close enough:  6\n",
      "Not close enough:  4\n"
     ]
    },
    {
     "name": "stderr",
     "output_type": "stream",
     "text": [
      " 66%|██████▋   | 1002/1507 [00:33<00:16, 30.89it/s]"
     ]
    },
    {
     "name": "stdout",
     "output_type": "stream",
     "text": [
      "Not close enough:  180\n",
      "Not close enough:  7\n"
     ]
    },
    {
     "name": "stderr",
     "output_type": "stream",
     "text": [
      " 67%|██████▋   | 1006/1507 [00:33<00:15, 32.02it/s]"
     ]
    },
    {
     "name": "stdout",
     "output_type": "stream",
     "text": [
      "Not close enough:  221\n",
      "Not close enough:  12\n",
      "Not close enough:  6\n"
     ]
    },
    {
     "name": "stderr",
     "output_type": "stream",
     "text": [
      " 68%|██████▊   | 1018/1507 [00:33<00:14, 33.29it/s]"
     ]
    },
    {
     "name": "stdout",
     "output_type": "stream",
     "text": [
      "Not close enough:  37\n",
      "Not close enough:  355\n"
     ]
    },
    {
     "name": "stderr",
     "output_type": "stream",
     "text": [
      " 68%|██████▊   | 1026/1507 [00:33<00:14, 32.57it/s]"
     ]
    },
    {
     "name": "stdout",
     "output_type": "stream",
     "text": [
      "Not close enough:  8\n",
      "Not close enough:  21\n",
      "Not close enough:  8\n",
      "Not close enough:  10\n"
     ]
    },
    {
     "name": "stderr",
     "output_type": "stream",
     "text": [
      " 68%|██████▊   | 1030/1507 [00:34<00:15, 31.76it/s]"
     ]
    },
    {
     "name": "stdout",
     "output_type": "stream",
     "text": [
      "Not close enough:  4\n",
      "Not close enough:  9\n",
      "Not close enough:  11\n"
     ]
    },
    {
     "name": "stderr",
     "output_type": "stream",
     "text": [
      " 69%|██████▉   | 1038/1507 [00:34<00:15, 30.81it/s]"
     ]
    },
    {
     "name": "stdout",
     "output_type": "stream",
     "text": [
      "Not close enough:  8\n",
      "Not close enough:  8\n",
      "Not close enough:  9\n"
     ]
    },
    {
     "name": "stderr",
     "output_type": "stream",
     "text": [
      " 69%|██████▉   | 1046/1507 [00:34<00:15, 30.28it/s]"
     ]
    },
    {
     "name": "stdout",
     "output_type": "stream",
     "text": [
      "Not close enough:  22\n",
      "Not close enough:  6\n",
      "Not close enough:  15\n",
      "Not close enough:  5\n"
     ]
    },
    {
     "name": "stderr",
     "output_type": "stream",
     "text": [
      " 70%|██████▉   | 1054/1507 [00:34<00:15, 29.21it/s]"
     ]
    },
    {
     "name": "stdout",
     "output_type": "stream",
     "text": [
      "Not close enough:  11\n",
      "Not close enough:  9\n"
     ]
    },
    {
     "name": "stderr",
     "output_type": "stream",
     "text": [
      " 71%|███████   | 1073/1507 [00:35<00:13, 33.27it/s]"
     ]
    },
    {
     "name": "stdout",
     "output_type": "stream",
     "text": [
      "Not close enough:  14\n",
      "Not close enough:  10\n",
      "Not close enough:  3\n",
      "Not close enough:  22\n"
     ]
    },
    {
     "name": "stderr",
     "output_type": "stream",
     "text": [
      " 72%|███████▏  | 1081/1507 [00:35<00:13, 31.73it/s]"
     ]
    },
    {
     "name": "stdout",
     "output_type": "stream",
     "text": [
      "Not close enough:  7\n",
      "Not close enough:  13\n",
      "Not close enough:  16\n"
     ]
    },
    {
     "name": "stderr",
     "output_type": "stream",
     "text": [
      " 72%|███████▏  | 1089/1507 [00:35<00:13, 31.70it/s]"
     ]
    },
    {
     "name": "stdout",
     "output_type": "stream",
     "text": [
      "Not close enough:  27\n",
      "Not close enough:  8\n"
     ]
    },
    {
     "name": "stderr",
     "output_type": "stream",
     "text": [
      " 73%|███████▎  | 1097/1507 [00:36<00:12, 32.40it/s]"
     ]
    },
    {
     "name": "stdout",
     "output_type": "stream",
     "text": [
      "Not close enough:  6\n",
      "Not close enough:  11\n",
      "Not close enough:  13\n"
     ]
    },
    {
     "name": "stderr",
     "output_type": "stream",
     "text": [
      " 73%|███████▎  | 1101/1507 [00:36<00:12, 31.51it/s]"
     ]
    },
    {
     "name": "stdout",
     "output_type": "stream",
     "text": [
      "Not close enough:  9\n",
      "Not close enough:  6\n"
     ]
    },
    {
     "name": "stderr",
     "output_type": "stream",
     "text": [
      " 74%|███████▎  | 1109/1507 [00:36<00:12, 31.89it/s]"
     ]
    },
    {
     "name": "stdout",
     "output_type": "stream",
     "text": [
      "Not close enough:  21\n",
      "Not close enough:  11\n",
      "Not close enough:  13\n",
      "Not close enough:  9\n"
     ]
    },
    {
     "name": "stderr",
     "output_type": "stream",
     "text": [
      " 75%|███████▍  | 1125/1507 [00:37<00:12, 30.90it/s]"
     ]
    },
    {
     "name": "stdout",
     "output_type": "stream",
     "text": [
      "Not close enough:  6\n",
      "Not close enough:  8\n"
     ]
    },
    {
     "name": "stderr",
     "output_type": "stream",
     "text": [
      " 75%|███████▌  | 1133/1507 [00:37<00:11, 31.63it/s]"
     ]
    },
    {
     "name": "stdout",
     "output_type": "stream",
     "text": [
      "Not close enough:  12\n",
      "Not close enough:  431\n",
      "Not close enough:  59\n"
     ]
    },
    {
     "name": "stderr",
     "output_type": "stream",
     "text": [
      " 76%|███████▌  | 1141/1507 [00:37<00:12, 29.25it/s]"
     ]
    },
    {
     "name": "stdout",
     "output_type": "stream",
     "text": [
      "Not close enough:  12\n",
      "Not close enough:  12\n",
      "Not close enough:  8\n",
      "Not close enough:  14\n"
     ]
    },
    {
     "name": "stderr",
     "output_type": "stream",
     "text": [
      " 77%|███████▋  | 1155/1507 [00:38<00:11, 30.39it/s]"
     ]
    },
    {
     "name": "stdout",
     "output_type": "stream",
     "text": [
      "Not close enough:  6\n",
      "Not close enough:  14\n"
     ]
    },
    {
     "name": "stderr",
     "output_type": "stream",
     "text": [
      " 77%|███████▋  | 1159/1507 [00:38<00:10, 31.67it/s]"
     ]
    },
    {
     "name": "stdout",
     "output_type": "stream",
     "text": [
      "Not close enough:  6\n"
     ]
    },
    {
     "name": "stderr",
     "output_type": "stream",
     "text": [
      " 78%|███████▊  | 1170/1507 [00:38<00:11, 28.82it/s]"
     ]
    },
    {
     "name": "stdout",
     "output_type": "stream",
     "text": [
      "Not close enough:  8\n",
      "Not close enough:  32\n",
      "Not close enough:  5\n"
     ]
    },
    {
     "name": "stderr",
     "output_type": "stream",
     "text": [
      " 78%|███████▊  | 1179/1507 [00:38<00:11, 28.09it/s]"
     ]
    },
    {
     "name": "stdout",
     "output_type": "stream",
     "text": [
      "Not close enough:  8\n",
      "Not close enough:  7\n"
     ]
    },
    {
     "name": "stderr",
     "output_type": "stream",
     "text": [
      " 79%|███████▊  | 1183/1507 [00:39<00:10, 29.83it/s]"
     ]
    },
    {
     "name": "stdout",
     "output_type": "stream",
     "text": [
      "Not close enough:  12\n",
      "Not close enough:  75\n",
      "Not close enough:  11\n"
     ]
    },
    {
     "name": "stderr",
     "output_type": "stream",
     "text": [
      " 79%|███████▉  | 1195/1507 [00:39<00:10, 29.36it/s]"
     ]
    },
    {
     "name": "stdout",
     "output_type": "stream",
     "text": [
      "Not close enough:  3\n",
      "Not close enough:  5\n",
      "Not close enough:  6\n"
     ]
    },
    {
     "name": "stderr",
     "output_type": "stream",
     "text": [
      " 80%|███████▉  | 1203/1507 [00:39<00:09, 30.67it/s]"
     ]
    },
    {
     "name": "stdout",
     "output_type": "stream",
     "text": [
      "Not close enough:  12\n",
      "Not close enough:  54\n",
      "Not close enough:  13\n",
      "Not close enough:  12\n"
     ]
    },
    {
     "name": "stderr",
     "output_type": "stream",
     "text": [
      " 80%|████████  | 1207/1507 [00:39<00:09, 31.62it/s]"
     ]
    },
    {
     "name": "stdout",
     "output_type": "stream",
     "text": [
      "Not close enough:  37\n",
      "Not close enough:  9\n"
     ]
    },
    {
     "name": "stderr",
     "output_type": "stream",
     "text": [
      " 81%|████████  | 1215/1507 [00:40<00:09, 30.23it/s]"
     ]
    },
    {
     "name": "stdout",
     "output_type": "stream",
     "text": [
      "Not close enough:  10\n"
     ]
    },
    {
     "name": "stderr",
     "output_type": "stream",
     "text": [
      " 81%|████████  | 1223/1507 [00:40<00:09, 30.87it/s]"
     ]
    },
    {
     "name": "stdout",
     "output_type": "stream",
     "text": [
      "Not close enough:  4\n",
      "Not close enough:  16\n",
      "Not close enough:  10\n",
      "Not close enough:  7\n",
      "Not close enough:  7\n"
     ]
    },
    {
     "name": "stderr",
     "output_type": "stream",
     "text": [
      " 82%|████████▏ | 1231/1507 [00:40<00:09, 29.89it/s]"
     ]
    },
    {
     "name": "stdout",
     "output_type": "stream",
     "text": [
      "Not close enough:  24\n",
      "Not close enough:  139\n"
     ]
    },
    {
     "name": "stderr",
     "output_type": "stream",
     "text": [
      " 82%|████████▏ | 1239/1507 [00:40<00:08, 30.92it/s]"
     ]
    },
    {
     "name": "stdout",
     "output_type": "stream",
     "text": [
      "Not close enough:  8\n",
      "Not close enough:  15\n"
     ]
    },
    {
     "name": "stderr",
     "output_type": "stream",
     "text": [
      " 83%|████████▎ | 1247/1507 [00:41<00:08, 31.97it/s]"
     ]
    },
    {
     "name": "stdout",
     "output_type": "stream",
     "text": [
      "Not close enough:  8\n",
      "Not close enough:  12\n"
     ]
    },
    {
     "name": "stderr",
     "output_type": "stream",
     "text": [
      " 84%|████████▍ | 1263/1507 [00:41<00:07, 33.72it/s]"
     ]
    },
    {
     "name": "stdout",
     "output_type": "stream",
     "text": [
      "Not close enough:  6\n",
      "Not close enough:  76\n",
      "Not close enough:  5\n"
     ]
    },
    {
     "name": "stderr",
     "output_type": "stream",
     "text": [
      " 85%|████████▍ | 1275/1507 [00:42<00:07, 32.48it/s]"
     ]
    },
    {
     "name": "stdout",
     "output_type": "stream",
     "text": [
      "Not close enough:  4\n",
      "Not close enough:  20\n",
      "Not close enough:  10\n"
     ]
    },
    {
     "name": "stderr",
     "output_type": "stream",
     "text": [
      " 85%|████████▌ | 1283/1507 [00:42<00:06, 33.59it/s]"
     ]
    },
    {
     "name": "stdout",
     "output_type": "stream",
     "text": [
      "Not close enough:  10\n",
      "Not close enough:  4\n",
      "Not close enough:  22\n"
     ]
    },
    {
     "name": "stderr",
     "output_type": "stream",
     "text": [
      " 86%|████████▌ | 1299/1507 [00:42<00:06, 30.33it/s]"
     ]
    },
    {
     "name": "stdout",
     "output_type": "stream",
     "text": [
      "Not close enough:  3\n",
      "Not close enough:  9\n",
      "Not close enough:  10\n"
     ]
    },
    {
     "name": "stderr",
     "output_type": "stream",
     "text": [
      " 87%|████████▋ | 1311/1507 [00:43<00:06, 30.68it/s]"
     ]
    },
    {
     "name": "stdout",
     "output_type": "stream",
     "text": [
      "Not close enough:  11\n",
      "Not close enough:  7\n",
      "Not close enough:  21\n",
      "Not close enough:  62\n"
     ]
    },
    {
     "name": "stderr",
     "output_type": "stream",
     "text": [
      " 88%|████████▊ | 1319/1507 [00:43<00:06, 31.16it/s]"
     ]
    },
    {
     "name": "stdout",
     "output_type": "stream",
     "text": [
      "Not close enough:  8\n",
      "Not close enough:  9\n",
      "Not close enough:  11\n"
     ]
    },
    {
     "name": "stderr",
     "output_type": "stream",
     "text": [
      " 88%|████████▊ | 1327/1507 [00:43<00:05, 31.65it/s]"
     ]
    },
    {
     "name": "stdout",
     "output_type": "stream",
     "text": [
      "Not close enough:  12\n",
      "Not close enough:  3\n",
      "Not close enough:  89\n"
     ]
    },
    {
     "name": "stderr",
     "output_type": "stream",
     "text": [
      " 89%|████████▉ | 1347/1507 [00:44<00:05, 31.98it/s]"
     ]
    },
    {
     "name": "stdout",
     "output_type": "stream",
     "text": [
      "Not close enough:  4\n",
      "Not close enough:  8\n",
      "Not close enough:  12\n",
      "Not close enough:  15\n"
     ]
    },
    {
     "name": "stderr",
     "output_type": "stream",
     "text": [
      " 90%|█████████ | 1359/1507 [00:44<00:04, 32.27it/s]"
     ]
    },
    {
     "name": "stdout",
     "output_type": "stream",
     "text": [
      "Not close enough:  4\n",
      "Not close enough:  37\n",
      "Not close enough:  16\n",
      "Not close enough:  5\n"
     ]
    },
    {
     "name": "stderr",
     "output_type": "stream",
     "text": [
      " 91%|█████████ | 1367/1507 [00:44<00:04, 31.99it/s]"
     ]
    },
    {
     "name": "stdout",
     "output_type": "stream",
     "text": [
      "Not close enough:  10\n",
      "Not close enough:  36\n"
     ]
    },
    {
     "name": "stderr",
     "output_type": "stream",
     "text": [
      " 91%|█████████ | 1375/1507 [00:45<00:04, 31.30it/s]"
     ]
    },
    {
     "name": "stdout",
     "output_type": "stream",
     "text": [
      "Not close enough:  6\n",
      "Not close enough:  9\n",
      "Not close enough:  10\n",
      "Not close enough:  4\n"
     ]
    },
    {
     "name": "stderr",
     "output_type": "stream",
     "text": [
      " 92%|█████████▏| 1383/1507 [00:45<00:04, 30.76it/s]"
     ]
    },
    {
     "name": "stdout",
     "output_type": "stream",
     "text": [
      "Not close enough:  9\n",
      "Not close enough:  8\n"
     ]
    },
    {
     "name": "stderr",
     "output_type": "stream",
     "text": [
      " 92%|█████████▏| 1391/1507 [00:45<00:03, 30.22it/s]"
     ]
    },
    {
     "name": "stdout",
     "output_type": "stream",
     "text": [
      "Not close enough:  10\n",
      "Not close enough:  10\n"
     ]
    },
    {
     "name": "stderr",
     "output_type": "stream",
     "text": [
      " 93%|█████████▎| 1403/1507 [00:46<00:03, 31.68it/s]"
     ]
    },
    {
     "name": "stdout",
     "output_type": "stream",
     "text": [
      "Not close enough:  77\n",
      "Not close enough:  13\n"
     ]
    },
    {
     "name": "stderr",
     "output_type": "stream",
     "text": [
      " 94%|█████████▍| 1419/1507 [00:46<00:03, 28.63it/s]"
     ]
    },
    {
     "name": "stdout",
     "output_type": "stream",
     "text": [
      "Not close enough:  10\n"
     ]
    },
    {
     "name": "stderr",
     "output_type": "stream",
     "text": [
      " 95%|█████████▍| 1427/1507 [00:46<00:02, 30.06it/s]"
     ]
    },
    {
     "name": "stdout",
     "output_type": "stream",
     "text": [
      "Not close enough:  4\n",
      "Not close enough:  11\n"
     ]
    },
    {
     "name": "stderr",
     "output_type": "stream",
     "text": [
      " 95%|█████████▌| 1434/1507 [00:47<00:02, 28.54it/s]"
     ]
    },
    {
     "name": "stdout",
     "output_type": "stream",
     "text": [
      "Not close enough:  13\n",
      "Not close enough:  12\n",
      "Not close enough:  7\n",
      "Not close enough:  32\n"
     ]
    },
    {
     "name": "stderr",
     "output_type": "stream",
     "text": [
      " 96%|█████████▌| 1445/1507 [00:47<00:02, 30.22it/s]"
     ]
    },
    {
     "name": "stdout",
     "output_type": "stream",
     "text": [
      "Not close enough:  5\n",
      "Not close enough:  11\n"
     ]
    },
    {
     "name": "stderr",
     "output_type": "stream",
     "text": [
      " 96%|█████████▋| 1453/1507 [00:47<00:01, 30.72it/s]"
     ]
    },
    {
     "name": "stdout",
     "output_type": "stream",
     "text": [
      "Not close enough:  13\n",
      "Not close enough:  3\n",
      "Not close enough:  14\n",
      "Not close enough:  3\n"
     ]
    },
    {
     "name": "stderr",
     "output_type": "stream",
     "text": [
      " 97%|█████████▋| 1461/1507 [00:48<00:01, 32.76it/s]"
     ]
    },
    {
     "name": "stdout",
     "output_type": "stream",
     "text": [
      "Not close enough:  3\n",
      "Not close enough:  50\n",
      "Not close enough:  95\n",
      "Not close enough:  13\n"
     ]
    },
    {
     "name": "stderr",
     "output_type": "stream",
     "text": [
      " 98%|█████████▊| 1473/1507 [00:48<00:01, 33.32it/s]"
     ]
    },
    {
     "name": "stdout",
     "output_type": "stream",
     "text": [
      "Not close enough:  11\n",
      "Not close enough:  4\n",
      "Not close enough:  48\n",
      "Not close enough:  13\n",
      "Not close enough:  9\n"
     ]
    },
    {
     "name": "stderr",
     "output_type": "stream",
     "text": [
      " 99%|█████████▉| 1489/1507 [00:49<00:00, 31.27it/s]"
     ]
    },
    {
     "name": "stdout",
     "output_type": "stream",
     "text": [
      "Not close enough:  8\n",
      "Not close enough:  9\n",
      "Not close enough:  13\n",
      "Not close enough:  202\n",
      "Not close enough:  9\n"
     ]
    },
    {
     "name": "stderr",
     "output_type": "stream",
     "text": [
      " 99%|█████████▉| 1497/1507 [00:49<00:00, 31.99it/s]"
     ]
    },
    {
     "name": "stdout",
     "output_type": "stream",
     "text": [
      "Not close enough:  8\n",
      "Not close enough:  5\n",
      "Not close enough:  10\n"
     ]
    },
    {
     "name": "stderr",
     "output_type": "stream",
     "text": [
      "100%|█████████▉| 1505/1507 [00:49<00:00, 32.16it/s]"
     ]
    },
    {
     "name": "stdout",
     "output_type": "stream",
     "text": [
      "Not close enough:  90\n",
      "Not close enough:  7\n"
     ]
    },
    {
     "name": "stderr",
     "output_type": "stream",
     "text": [
      "100%|██████████| 1507/1507 [00:49<00:00, 30.42it/s]\n"
     ]
    }
   ],
   "source": [
    "target_random_Kd_dict = dict()\n",
    "\n",
    "for node in tqdm(list(randomized_combined_unipartite.nodes())):\n",
    "    degree_node = randomized_combined_unipartite.degree(node)\n",
    "    closest_indices = closest(K_copula_list,degree_node)\n",
    "    Kd_all_list = []\n",
    "    for index in closest_indices:\n",
    "        Kd_all_list.append(Kd_copula_list[index])\n",
    "    target_random_Kd_dict[node] = Kd_all_list"
   ]
  },
  {
   "cell_type": "code",
   "execution_count": 72,
   "metadata": {},
   "outputs": [
    {
     "name": "stderr",
     "output_type": "stream",
     "text": [
      "/miniconda/lib/python3.6/site-packages/ipykernel_launcher.py:5: UserWarning: Attempted to set non-positive bottom ylim on a log-scaled axis.\n",
      "Invalid limit will be ignored.\n",
      "  \"\"\"\n"
     ]
    },
    {
     "data": {
      "text/plain": [
       "(0.00028846922119136337, 100000000)"
      ]
     },
     "execution_count": 72,
     "metadata": {},
     "output_type": "execute_result"
    },
    {
     "data": {
      "image/png": "[encoded data removed]",
      "text/plain": [
       "<Figure size 432x288 with 1 Axes>"
      ]
     },
     "metadata": {
      "needs_background": "light"
     },
     "output_type": "display_data"
    }
   ],
   "source": [
    "plt.scatter([randomized_combined_unipartite.degree(node) for node in list(randomized_combined_unipartite.nodes())],[np.random.choice(target_random_Kd_dict[node]) for node in list(randomized_combined_unipartite.nodes())])\n",
    "plt.yscale('log')\n",
    "plt.xlabel('Target degree')\n",
    "plt.ylabel('Kd Chosen')\n",
    "plt.ylim([0,10**8])"
   ]
  },
  {
   "cell_type": "code",
   "execution_count": 73,
   "metadata": {},
   "outputs": [
    {
     "data": {
      "text/plain": [
       "SpearmanrResult(correlation=-0.98797867785966, pvalue=0.0)"
      ]
     },
     "execution_count": 73,
     "metadata": {},
     "output_type": "execute_result"
    }
   ],
   "source": [
    "stats.spearmanr([randomized_combined_unipartite.degree(node) for node in list(randomized_combined_unipartite.nodes())],[np.random.choice(target_random_Kd_dict[node]) for node in list(randomized_combined_unipartite.nodes())])"
   ]
  },
  {
   "cell_type": "code",
   "execution_count": 79,
   "metadata": {
    "scrolled": true
   },
   "outputs": [
    {
     "name": "stderr",
     "output_type": "stream",
     "text": [
      "100%|██████████| 28808/28808 [00:05<00:00, 5349.77it/s]\n"
     ]
    }
   ],
   "source": [
    "targets_list_1 = []\n",
    "targets_list_2 = []\n",
    "Kd_for_edges = []\n",
    "\n",
    "for edge in tqdm(randomized_combined_unipartite.edges()):\n",
    "    targets_list_1.append(targets[edge[0]])\n",
    "    targets_list_2.append(targets[edge[1]])\n",
    "    mu = np.random.choice(target_random_Kd_dict[edge[0]])\n",
    "    #if randomized_combined_unipartite.degree(edge[0]) in different_target_annotations:\n",
    "    #    sigma = unique_Kd_targets_std[different_target_annotations.index(randomized_combined_unipartite.degree(edge[0]))]\n",
    "    #else:\n",
    "    #    sigma = 0\n",
    "    Kd_value_1 = mu # np.random.normal(mu, sigma, 1)\n",
    "    mu = np.random.choice(target_random_Kd_dict[edge[1]])\n",
    "    #if randomized_combined_unipartite.degree(edge[1]) in different_target_annotations:\n",
    "    #    sigma = unique_Kd_targets_std[different_target_annotations.index(randomized_combined_unipartite.degree(edge[1]))]\n",
    "    #else:\n",
    "    #    sigma = 0\n",
    "    Kd_value_2 = mu # np.random.normal(mu, sigma, 1)\n",
    "    Kd_for_edges.append(float(np.sqrt(Kd_value_1*Kd_value_2))) # float(Kd_value_1+Kd_value_2)/2"
   ]
  },
  {
   "cell_type": "code",
   "execution_count": 80,
   "metadata": {},
   "outputs": [
    {
     "name": "stderr",
     "output_type": "stream",
     "text": [
      "100%|██████████| 28808/28808 [00:00<00:00, 111663.19it/s]\n"
     ]
    }
   ],
   "source": [
    "K_list_bleh = []\n",
    "Kd_List_bleh = []\n",
    "i = 0\n",
    "\n",
    "for edge in tqdm(randomized_combined_unipartite.edges()):\n",
    "    K_list_bleh.append(randomized_combined_unipartite.degree(edge[0]))\n",
    "    K_list_bleh.append(randomized_combined_unipartite.degree(edge[1]))\n",
    "    Kd_List_bleh.append(Kd_for_edges[i])\n",
    "    Kd_List_bleh.append(Kd_for_edges[i])\n",
    "    i = i + 1"
   ]
  },
  {
   "cell_type": "code",
   "execution_count": 81,
   "metadata": {},
   "outputs": [
    {
     "name": "stderr",
     "output_type": "stream",
     "text": [
      "/miniconda/lib/python3.6/site-packages/ipykernel_launcher.py:4: UserWarning: Attempted to set non-positive bottom ylim on a log-scaled axis.\n",
      "Invalid limit will be ignored.\n",
      "  after removing the cwd from sys.path.\n"
     ]
    },
    {
     "data": {
      "text/plain": [
       "(0.0004188156325013919, 100000000)"
      ]
     },
     "execution_count": 81,
     "metadata": {},
     "output_type": "execute_result"
    },
    {
     "data": {
      "image/png": "[encoded data removed]",
      "text/plain": [
       "<Figure size 432x288 with 1 Axes>"
      ]
     },
     "metadata": {
      "needs_background": "light"
     },
     "output_type": "display_data"
    }
   ],
   "source": [
    "plt.scatter(K_list_bleh,Kd_List_bleh)\n",
    "#plt.xscale('log')\n",
    "plt.yscale('log')\n",
    "plt.ylim([0,10**8])"
   ]
  },
  {
   "cell_type": "code",
   "execution_count": 82,
   "metadata": {},
   "outputs": [
    {
     "data": {
      "text/plain": [
       "SpearmanrResult(correlation=-0.5109042380830106, pvalue=0.0)"
      ]
     },
     "execution_count": 82,
     "metadata": {},
     "output_type": "execute_result"
    }
   ],
   "source": [
    "stats.spearmanr(K_list_bleh,Kd_List_bleh)"
   ]
  },
  {
   "cell_type": "markdown",
   "metadata": {},
   "source": [
    "# Making DataFrame"
   ]
  },
  {
   "cell_type": "code",
   "execution_count": 184,
   "metadata": {},
   "outputs": [],
   "source": [
    "randomized_dataframe = pd.DataFrame()\n",
    "\n",
    "randomized_dataframe['Target Sequence 1'] = targets_list_1\n",
    "randomized_dataframe['Target Sequence 2'] = targets_list_2\n",
    "randomized_dataframe['Label'] = Kd_for_edges"
   ]
  },
  {
   "cell_type": "code",
   "execution_count": 185,
   "metadata": {},
   "outputs": [
    {
     "data": {
      "text/html": [
       "<div>\n",
       "<style scoped>\n",
       "    .dataframe tbody tr th:only-of-type {\n",
       "        vertical-align: middle;\n",
       "    }\n",
       "\n",
       "    .dataframe tbody tr th {\n",
       "        vertical-align: top;\n",
       "    }\n",
       "\n",
       "    .dataframe thead th {\n",
       "        text-align: right;\n",
       "    }\n",
       "</style>\n",
       "<table border=\"1\" class=\"dataframe\">\n",
       "  <thead>\n",
       "    <tr style=\"text-align: right;\">\n",
       "      <th></th>\n",
       "      <th>Target Sequence 1</th>\n",
       "      <th>Target Sequence 2</th>\n",
       "      <th>Label</th>\n",
       "    </tr>\n",
       "  </thead>\n",
       "  <tbody>\n",
       "    <tr>\n",
       "      <th>0</th>\n",
       "      <td>MLGTGPAAATTAATTSSNVSVLQQFASGLKSRNEETRAKAAKELQH...</td>\n",
       "      <td>MGEKLELRLKSPVGAEPAVYPWPLPVYDKHHDAAHEIIETIRWVCE...</td>\n",
       "      <td>0.000880</td>\n",
       "    </tr>\n",
       "    <tr>\n",
       "      <th>1</th>\n",
       "      <td>MLGTGPAAATTAATTSSNVSVLQQFASGLKSRNEETRAKAAKELQH...</td>\n",
       "      <td>MKKFKRRLSLTLRGSQTIDESLSELAEQMTIEENSSKDNEPIVKNG...</td>\n",
       "      <td>0.000880</td>\n",
       "    </tr>\n",
       "    <tr>\n",
       "      <th>2</th>\n",
       "      <td>MLGTGPAAATTAATTSSNVSVLQQFASGLKSRNEETRAKAAKELQH...</td>\n",
       "      <td>MGHALCVCSRGTVIIDNKRYLFIQKLGEGGFSYVDLVEGLHDGHFY...</td>\n",
       "      <td>0.000880</td>\n",
       "    </tr>\n",
       "    <tr>\n",
       "      <th>3</th>\n",
       "      <td>MLGTGPAAATTAATTSSNVSVLQQFASGLKSRNEETRAKAAKELQH...</td>\n",
       "      <td>MRGARGAWDFLCVLLLLLRVQTGSSQPSVSPGEPSPPSIHPGKSDL...</td>\n",
       "      <td>0.000880</td>\n",
       "    </tr>\n",
       "    <tr>\n",
       "      <th>4</th>\n",
       "      <td>MLGTGPAAATTAATTSSNVSVLQQFASGLKSRNEETRAKAAKELQH...</td>\n",
       "      <td>MAALSGGGGGGAEPGQALFNGDMEPEAGAGAGAAASSAADPAIPEE...</td>\n",
       "      <td>0.000880</td>\n",
       "    </tr>\n",
       "    <tr>\n",
       "      <th>...</th>\n",
       "      <td>...</td>\n",
       "      <td>...</td>\n",
       "      <td>...</td>\n",
       "    </tr>\n",
       "    <tr>\n",
       "      <th>28803</th>\n",
       "      <td>MEAPLRPAADILRRNPQQDYELVQRVGSGTYGDVYKARNVHTGELA...</td>\n",
       "      <td>MEAPLRPAADILRRNPQQDYELVQRVGSGTYGDVYKARNVHTGELA...</td>\n",
       "      <td>137.373191</td>\n",
       "    </tr>\n",
       "    <tr>\n",
       "      <th>28804</th>\n",
       "      <td>MSSLGASFVQIKFDDLQFFENCGGGSFGSVYRAKWISQDKEVAVKK...</td>\n",
       "      <td>MDLSMKKFAVRRFFSVYLRRKSRSKSSSLSRLEEEGVVKEIDISHH...</td>\n",
       "      <td>152.927713</td>\n",
       "    </tr>\n",
       "    <tr>\n",
       "      <th>28805</th>\n",
       "      <td>MSFPRGSQDRSVGNSSPWWPLTTEGSNGSQEAARLGEGDSPLGDVR...</td>\n",
       "      <td>MDLSMKKFAVRRFFSVYLRRKSRSKSSSLSRLEEEGVVKEIDISHH...</td>\n",
       "      <td>754.113537</td>\n",
       "    </tr>\n",
       "    <tr>\n",
       "      <th>28806</th>\n",
       "      <td>MDLSMKKFAVRRFFSVYLRRKSRSKSSSLSRLEEEGVVKEIDISHH...</td>\n",
       "      <td>MKRSEKPEGYRQMRPKTFPASNYTVSSRQMLQEIRESLRNLSKPSD...</td>\n",
       "      <td>757.050633</td>\n",
       "    </tr>\n",
       "    <tr>\n",
       "      <th>28807</th>\n",
       "      <td>MYGNYSHFMKFPTGFGGSPGHTGSTSMSPSVALPTGKPMDSHPSYT...</td>\n",
       "      <td>MKRSEKPEGYRQMRPKTFPASNYTVSSRQMLQEIRESLRNLSKPSD...</td>\n",
       "      <td>2504.371112</td>\n",
       "    </tr>\n",
       "  </tbody>\n",
       "</table>\n",
       "<p>28808 rows × 3 columns</p>\n",
       "</div>"
      ],
      "text/plain": [
       "                                       Target Sequence 1  \\\n",
       "0      MLGTGPAAATTAATTSSNVSVLQQFASGLKSRNEETRAKAAKELQH...   \n",
       "1      MLGTGPAAATTAATTSSNVSVLQQFASGLKSRNEETRAKAAKELQH...   \n",
       "2      MLGTGPAAATTAATTSSNVSVLQQFASGLKSRNEETRAKAAKELQH...   \n",
       "3      MLGTGPAAATTAATTSSNVSVLQQFASGLKSRNEETRAKAAKELQH...   \n",
       "4      MLGTGPAAATTAATTSSNVSVLQQFASGLKSRNEETRAKAAKELQH...   \n",
       "...                                                  ...   \n",
       "28803  MEAPLRPAADILRRNPQQDYELVQRVGSGTYGDVYKARNVHTGELA...   \n",
       "28804  MSSLGASFVQIKFDDLQFFENCGGGSFGSVYRAKWISQDKEVAVKK...   \n",
       "28805  MSFPRGSQDRSVGNSSPWWPLTTEGSNGSQEAARLGEGDSPLGDVR...   \n",
       "28806  MDLSMKKFAVRRFFSVYLRRKSRSKSSSLSRLEEEGVVKEIDISHH...   \n",
       "28807  MYGNYSHFMKFPTGFGGSPGHTGSTSMSPSVALPTGKPMDSHPSYT...   \n",
       "\n",
       "                                       Target Sequence 2        Label  \n",
       "0      MGEKLELRLKSPVGAEPAVYPWPLPVYDKHHDAAHEIIETIRWVCE...     0.000880  \n",
       "1      MKKFKRRLSLTLRGSQTIDESLSELAEQMTIEENSSKDNEPIVKNG...     0.000880  \n",
       "2      MGHALCVCSRGTVIIDNKRYLFIQKLGEGGFSYVDLVEGLHDGHFY...     0.000880  \n",
       "3      MRGARGAWDFLCVLLLLLRVQTGSSQPSVSPGEPSPPSIHPGKSDL...     0.000880  \n",
       "4      MAALSGGGGGGAEPGQALFNGDMEPEAGAGAGAAASSAADPAIPEE...     0.000880  \n",
       "...                                                  ...          ...  \n",
       "28803  MEAPLRPAADILRRNPQQDYELVQRVGSGTYGDVYKARNVHTGELA...   137.373191  \n",
       "28804  MDLSMKKFAVRRFFSVYLRRKSRSKSSSLSRLEEEGVVKEIDISHH...   152.927713  \n",
       "28805  MDLSMKKFAVRRFFSVYLRRKSRSKSSSLSRLEEEGVVKEIDISHH...   754.113537  \n",
       "28806  MKRSEKPEGYRQMRPKTFPASNYTVSSRQMLQEIRESLRNLSKPSD...   757.050633  \n",
       "28807  MKRSEKPEGYRQMRPKTFPASNYTVSSRQMLQEIRESLRNLSKPSD...  2504.371112  \n",
       "\n",
       "[28808 rows x 3 columns]"
      ]
     },
     "execution_count": 185,
     "metadata": {},
     "output_type": "execute_result"
    }
   ],
   "source": [
    "randomized_dataframe"
   ]
  },
  {
   "cell_type": "code",
   "execution_count": 190,
   "metadata": {},
   "outputs": [
    {
     "data": {
      "text/plain": [
       "<matplotlib.legend.Legend at 0x7f3139ede5f8>"
      ]
     },
     "execution_count": 190,
     "metadata": {},
     "output_type": "execute_result"
    },
    {
     "data": {
      "image/png": "[encoded data removed]",
      "text/plain": [
       "<Figure size 432x288 with 1 Axes>"
      ]
     },
     "metadata": {
      "needs_background": "light"
     },
     "output_type": "display_data"
    }
   ],
   "source": [
    "plt.hist(np.log(Kd_copula_list), density=True, label='Original', alpha=0.4) ## Original\n",
    "plt.hist(np.log(Kd_for_edges), density=True, label='Geometric Mean', alpha=0.4) ## With geomteric mean\n",
    "plt.legend()"
   ]
  },
  {
   "cell_type": "code",
   "execution_count": 186,
   "metadata": {},
   "outputs": [
    {
     "data": {
      "image/png": "[encoded data removed]",
      "text/plain": [
       "<Figure size 432x288 with 1 Axes>"
      ]
     },
     "metadata": {
      "needs_background": "light"
     },
     "output_type": "display_data"
    }
   ],
   "source": [
    "plt.hist(Kd_for_edges)\n",
    "plt.yscale('log')"
   ]
  },
  {
   "cell_type": "code",
   "execution_count": 175,
   "metadata": {},
   "outputs": [
    {
     "data": {
      "text/plain": [
       "0.000880484532858671"
      ]
     },
     "execution_count": 175,
     "metadata": {},
     "output_type": "execute_result"
    }
   ],
   "source": [
    "#Kd_for_edges.sort()\n",
    "#Kd_for_edges[int(0.16*len(Kd_for_edges))]"
   ]
  },
  {
   "cell_type": "code",
   "execution_count": 144,
   "metadata": {},
   "outputs": [
    {
     "name": "stdout",
     "output_type": "stream",
     "text": [
      "Calculating best minimal value for power law fit\n",
      "1.5951477466653756\n",
      "0.010780949711546185\n"
     ]
    }
   ],
   "source": [
    "results = powerlaw.Fit(Kd_for_edges)\n",
    "print(results.power_law.alpha)\n",
    "print(results.power_law.xmin)"
   ]
  },
  {
   "cell_type": "code",
   "execution_count": 187,
   "metadata": {},
   "outputs": [
    {
     "name": "stderr",
     "output_type": "stream",
     "text": [
      "100%|██████████| 28808/28808 [00:00<00:00, 1580503.72it/s]"
     ]
    },
    {
     "name": "stdout",
     "output_type": "stream",
     "text": [
      "Threshold:  0.0011802175013057024\n"
     ]
    },
    {
     "name": "stderr",
     "output_type": "stream",
     "text": [
      "\n"
     ]
    }
   ],
   "source": [
    "threshold = min(Kd_for_edges) * ((1-0.16) ** (1/(1-1.5951))) # Kd_for_edges[int(0.16*len(Kd_for_edges))] # min(Kd_for_edges) * ((1-0.16) ** (1/(1-1.5951))) # np.exp(np.mean(np.log(Kd_for_edges)) + norm.ppf(0.16) * np.std(np.log(Kd_for_edges))) ## 30 \n",
    "print('Threshold: ', threshold)\n",
    "\n",
    "binary_labels = [1 if x < threshold else 0 for x in tqdm(randomized_dataframe['Label'].tolist())]\n",
    "\n",
    "randomized_dataframe['Label'] = binary_labels"
   ]
  },
  {
   "cell_type": "code",
   "execution_count": 182,
   "metadata": {},
   "outputs": [
    {
     "data": {
      "text/plain": [
       "0.000880484532858671"
      ]
     },
     "execution_count": 182,
     "metadata": {},
     "output_type": "execute_result"
    }
   ],
   "source": [
    "min(Kd_for_edges)"
   ]
  },
  {
   "cell_type": "code",
   "execution_count": 181,
   "metadata": {
    "scrolled": true
   },
   "outputs": [
    {
     "data": {
      "text/plain": [
       "2504.3711123119697"
      ]
     },
     "execution_count": 181,
     "metadata": {},
     "output_type": "execute_result"
    }
   ],
   "source": [
    "max(Kd_for_edges)"
   ]
  },
  {
   "cell_type": "code",
   "execution_count": 188,
   "metadata": {},
   "outputs": [
    {
     "data": {
      "text/html": [
       "<div>\n",
       "<style scoped>\n",
       "    .dataframe tbody tr th:only-of-type {\n",
       "        vertical-align: middle;\n",
       "    }\n",
       "\n",
       "    .dataframe tbody tr th {\n",
       "        vertical-align: top;\n",
       "    }\n",
       "\n",
       "    .dataframe thead th {\n",
       "        text-align: right;\n",
       "    }\n",
       "</style>\n",
       "<table border=\"1\" class=\"dataframe\">\n",
       "  <thead>\n",
       "    <tr style=\"text-align: right;\">\n",
       "      <th></th>\n",
       "      <th>Target Sequence 1</th>\n",
       "      <th>Target Sequence 2</th>\n",
       "      <th>Label</th>\n",
       "    </tr>\n",
       "  </thead>\n",
       "  <tbody>\n",
       "    <tr>\n",
       "      <th>0</th>\n",
       "      <td>MLGTGPAAATTAATTSSNVSVLQQFASGLKSRNEETRAKAAKELQH...</td>\n",
       "      <td>MGEKLELRLKSPVGAEPAVYPWPLPVYDKHHDAAHEIIETIRWVCE...</td>\n",
       "      <td>1</td>\n",
       "    </tr>\n",
       "    <tr>\n",
       "      <th>1</th>\n",
       "      <td>MLGTGPAAATTAATTSSNVSVLQQFASGLKSRNEETRAKAAKELQH...</td>\n",
       "      <td>MKKFKRRLSLTLRGSQTIDESLSELAEQMTIEENSSKDNEPIVKNG...</td>\n",
       "      <td>1</td>\n",
       "    </tr>\n",
       "    <tr>\n",
       "      <th>2</th>\n",
       "      <td>MLGTGPAAATTAATTSSNVSVLQQFASGLKSRNEETRAKAAKELQH...</td>\n",
       "      <td>MGHALCVCSRGTVIIDNKRYLFIQKLGEGGFSYVDLVEGLHDGHFY...</td>\n",
       "      <td>1</td>\n",
       "    </tr>\n",
       "    <tr>\n",
       "      <th>3</th>\n",
       "      <td>MLGTGPAAATTAATTSSNVSVLQQFASGLKSRNEETRAKAAKELQH...</td>\n",
       "      <td>MRGARGAWDFLCVLLLLLRVQTGSSQPSVSPGEPSPPSIHPGKSDL...</td>\n",
       "      <td>1</td>\n",
       "    </tr>\n",
       "    <tr>\n",
       "      <th>4</th>\n",
       "      <td>MLGTGPAAATTAATTSSNVSVLQQFASGLKSRNEETRAKAAKELQH...</td>\n",
       "      <td>MAALSGGGGGGAEPGQALFNGDMEPEAGAGAGAAASSAADPAIPEE...</td>\n",
       "      <td>1</td>\n",
       "    </tr>\n",
       "    <tr>\n",
       "      <th>...</th>\n",
       "      <td>...</td>\n",
       "      <td>...</td>\n",
       "      <td>...</td>\n",
       "    </tr>\n",
       "    <tr>\n",
       "      <th>28803</th>\n",
       "      <td>MEAPLRPAADILRRNPQQDYELVQRVGSGTYGDVYKARNVHTGELA...</td>\n",
       "      <td>MEAPLRPAADILRRNPQQDYELVQRVGSGTYGDVYKARNVHTGELA...</td>\n",
       "      <td>0</td>\n",
       "    </tr>\n",
       "    <tr>\n",
       "      <th>28804</th>\n",
       "      <td>MSSLGASFVQIKFDDLQFFENCGGGSFGSVYRAKWISQDKEVAVKK...</td>\n",
       "      <td>MDLSMKKFAVRRFFSVYLRRKSRSKSSSLSRLEEEGVVKEIDISHH...</td>\n",
       "      <td>0</td>\n",
       "    </tr>\n",
       "    <tr>\n",
       "      <th>28805</th>\n",
       "      <td>MSFPRGSQDRSVGNSSPWWPLTTEGSNGSQEAARLGEGDSPLGDVR...</td>\n",
       "      <td>MDLSMKKFAVRRFFSVYLRRKSRSKSSSLSRLEEEGVVKEIDISHH...</td>\n",
       "      <td>0</td>\n",
       "    </tr>\n",
       "    <tr>\n",
       "      <th>28806</th>\n",
       "      <td>MDLSMKKFAVRRFFSVYLRRKSRSKSSSLSRLEEEGVVKEIDISHH...</td>\n",
       "      <td>MKRSEKPEGYRQMRPKTFPASNYTVSSRQMLQEIRESLRNLSKPSD...</td>\n",
       "      <td>0</td>\n",
       "    </tr>\n",
       "    <tr>\n",
       "      <th>28807</th>\n",
       "      <td>MYGNYSHFMKFPTGFGGSPGHTGSTSMSPSVALPTGKPMDSHPSYT...</td>\n",
       "      <td>MKRSEKPEGYRQMRPKTFPASNYTVSSRQMLQEIRESLRNLSKPSD...</td>\n",
       "      <td>0</td>\n",
       "    </tr>\n",
       "  </tbody>\n",
       "</table>\n",
       "<p>28808 rows × 3 columns</p>\n",
       "</div>"
      ],
      "text/plain": [
       "                                       Target Sequence 1  \\\n",
       "0      MLGTGPAAATTAATTSSNVSVLQQFASGLKSRNEETRAKAAKELQH...   \n",
       "1      MLGTGPAAATTAATTSSNVSVLQQFASGLKSRNEETRAKAAKELQH...   \n",
       "2      MLGTGPAAATTAATTSSNVSVLQQFASGLKSRNEETRAKAAKELQH...   \n",
       "3      MLGTGPAAATTAATTSSNVSVLQQFASGLKSRNEETRAKAAKELQH...   \n",
       "4      MLGTGPAAATTAATTSSNVSVLQQFASGLKSRNEETRAKAAKELQH...   \n",
       "...                                                  ...   \n",
       "28803  MEAPLRPAADILRRNPQQDYELVQRVGSGTYGDVYKARNVHTGELA...   \n",
       "28804  MSSLGASFVQIKFDDLQFFENCGGGSFGSVYRAKWISQDKEVAVKK...   \n",
       "28805  MSFPRGSQDRSVGNSSPWWPLTTEGSNGSQEAARLGEGDSPLGDVR...   \n",
       "28806  MDLSMKKFAVRRFFSVYLRRKSRSKSSSLSRLEEEGVVKEIDISHH...   \n",
       "28807  MYGNYSHFMKFPTGFGGSPGHTGSTSMSPSVALPTGKPMDSHPSYT...   \n",
       "\n",
       "                                       Target Sequence 2  Label  \n",
       "0      MGEKLELRLKSPVGAEPAVYPWPLPVYDKHHDAAHEIIETIRWVCE...      1  \n",
       "1      MKKFKRRLSLTLRGSQTIDESLSELAEQMTIEENSSKDNEPIVKNG...      1  \n",
       "2      MGHALCVCSRGTVIIDNKRYLFIQKLGEGGFSYVDLVEGLHDGHFY...      1  \n",
       "3      MRGARGAWDFLCVLLLLLRVQTGSSQPSVSPGEPSPPSIHPGKSDL...      1  \n",
       "4      MAALSGGGGGGAEPGQALFNGDMEPEAGAGAGAAASSAADPAIPEE...      1  \n",
       "...                                                  ...    ...  \n",
       "28803  MEAPLRPAADILRRNPQQDYELVQRVGSGTYGDVYKARNVHTGELA...      0  \n",
       "28804  MDLSMKKFAVRRFFSVYLRRKSRSKSSSLSRLEEEGVVKEIDISHH...      0  \n",
       "28805  MDLSMKKFAVRRFFSVYLRRKSRSKSSSLSRLEEEGVVKEIDISHH...      0  \n",
       "28806  MKRSEKPEGYRQMRPKTFPASNYTVSSRQMLQEIRESLRNLSKPSD...      0  \n",
       "28807  MKRSEKPEGYRQMRPKTFPASNYTVSSRQMLQEIRESLRNLSKPSD...      0  \n",
       "\n",
       "[28808 rows x 3 columns]"
      ]
     },
     "execution_count": 188,
     "metadata": {},
     "output_type": "execute_result"
    }
   ],
   "source": [
    "randomized_dataframe"
   ]
  },
  {
   "cell_type": "code",
   "execution_count": 189,
   "metadata": {},
   "outputs": [
    {
     "name": "stdout",
     "output_type": "stream",
     "text": [
      "15157\n",
      "13651\n"
     ]
    }
   ],
   "source": [
    "print(randomized_dataframe['Label'].tolist().count(0))\n",
    "print(randomized_dataframe['Label'].tolist().count(1))"
   ]
  },
  {
   "cell_type": "code",
   "execution_count": 148,
   "metadata": {},
   "outputs": [],
   "source": [
    "targets = list(set(randomized_dataframe['Target Sequence 1'].tolist()).union(set(randomized_dataframe['Target Sequence 2'].tolist())))"
   ]
  },
  {
   "cell_type": "code",
   "execution_count": 194,
   "metadata": {},
   "outputs": [
    {
     "name": "stderr",
     "output_type": "stream",
     "text": [
      "100%|██████████| 1396/1396 [00:10<00:00, 127.38it/s]\n"
     ]
    }
   ],
   "source": [
    "target_annotations_randomized = []\n",
    "target_pos_degree_randomized = []\n",
    "target_neg_degree_randomized = []\n",
    "target_degree_ratio_randomized = []\n",
    "Kd_targets_average_list = []\n",
    "\n",
    "for prot in tqdm(targets):\n",
    "    \n",
    "    if prot in randomized_dataframe['Target Sequence 1'].tolist() and prot not in randomized_dataframe['Target Sequence 2'].tolist():\n",
    "        \n",
    "        sub_df = randomized_dataframe[randomized_dataframe['Target Sequence 1'] == prot]\n",
    "        target_annotations_randomized.append(len(sub_df))\n",
    "        target_pos_degree_randomized.append(sub_df['Label'].tolist().count(1))\n",
    "        target_neg_degree_randomized.append(sub_df['Label'].tolist().count(0))\n",
    "        target_degree_ratio_randomized.append(sub_df['Label'].tolist().count(1)/(sub_df['Label'].tolist().count(1)+sub_df['Label'].tolist().count(0)))\n",
    "    \n",
    "    elif prot in randomized_dataframe['Target Sequence 1'].tolist() and prot not in randomized_dataframe['Target Sequence 2'].tolist():\n",
    "        \n",
    "        sub_df = randomized_dataframe[randomized_dataframe['Target Sequence 2'] == prot]\n",
    "        target_annotations_randomized.append(len(sub_df))\n",
    "        target_pos_degree_randomized.append(sub_df['Label'].tolist().count(1))\n",
    "        target_neg_degree_randomized.append(sub_df['Label'].tolist().count(0))\n",
    "        target_degree_ratio_randomized.append(sub_df['Label'].tolist().count(1)/(sub_df['Label'].tolist().count(1)+sub_df['Label'].tolist().count(0)))\n",
    "    \n",
    "    elif prot in randomized_dataframe['Target Sequence 1'].tolist() and prot in randomized_dataframe['Target Sequence 2'].tolist():\n",
    "        \n",
    "        sub_df1 = randomized_dataframe[randomized_dataframe['Target Sequence 1'] == prot]\n",
    "        sub_df2 = randomized_dataframe[randomized_dataframe['Target Sequence 2'] == prot]\n",
    "        sub_df = pd.concat([sub_df1,sub_df2])\n",
    "        target_annotations_randomized.append(len(sub_df))\n",
    "        target_pos_degree_randomized.append(sub_df['Label'].tolist().count(1))\n",
    "        target_neg_degree_randomized.append(sub_df['Label'].tolist().count(0))\n",
    "        target_degree_ratio_randomized.append(sub_df['Label'].tolist().count(1)/(sub_df['Label'].tolist().count(1)+sub_df['Label'].tolist().count(0)))"
   ]
  },
  {
   "cell_type": "code",
   "execution_count": 195,
   "metadata": {},
   "outputs": [
    {
     "data": {
      "text/plain": [
       "<matplotlib.legend.Legend at 0x7f3127a51828>"
      ]
     },
     "execution_count": 195,
     "metadata": {},
     "output_type": "execute_result"
    },
    {
     "data": {
      "image/png": "[encoded data removed]",
      "text/plain": [
       "<Figure size 640x480 with 1 Axes>"
      ]
     },
     "metadata": {
      "needs_background": "light"
     },
     "output_type": "display_data"
    }
   ],
   "source": [
    "figure(figsize=(8, 6), dpi=80)\n",
    "\n",
    "sns.distplot(target_annotations_bindingDB, norm_hist=True, label='Original')\n",
    "sns.distplot([randomized_combined_unipartite.degree(node) for node in list(randomized_combined_unipartite.nodes())], norm_hist=True, label='Randomized')\n",
    "#axs[3, 0].set_xscale('log')\n",
    "#axs[3, 0].set_yscale('log')\n",
    "plt.title('Targets')\n",
    "plt.xlabel(r'$K$')\n",
    "plt.ylabel('PDF')\n",
    "plt.legend()"
   ]
  },
  {
   "cell_type": "code",
   "execution_count": 196,
   "metadata": {},
   "outputs": [
    {
     "name": "stdout",
     "output_type": "stream",
     "text": [
      "TARGETS\n",
      "Original - Between k and k+:  SpearmanrResult(correlation=0.6581040571662816, pvalue=1.017395698392328e-187)\n",
      "Original - Between k and k-:  SpearmanrResult(correlation=0.933866781238621, pvalue=0.0)\n",
      "Original - Between k+ and k-:  SpearmanrResult(correlation=0.4447684177648136, pvalue=4.253892323025037e-74)\n",
      "-------------------------------------------------------------------------------------------------------------\n",
      "Shuffled - Between k and k+:  SpearmanrResult(correlation=0.9185881567851573, pvalue=0.0)\n",
      "Shuffled - Between k and k-:  SpearmanrResult(correlation=0.5622191274111223, pvalue=1.0200566546284997e-98)\n",
      "Shuffled - Between k+ and k-:  SpearmanrResult(correlation=0.26271318080556044, pvalue=5.731809337181493e-20)\n"
     ]
    }
   ],
   "source": [
    "print('TARGETS')\n",
    "\n",
    "print('Original - Between k and k+: ', stats.spearmanr(target_annotations_bindingDB, target_pos_degree_bindingDB))\n",
    "print('Original - Between k and k-: ', stats.spearmanr(target_annotations_bindingDB, target_neg_degree_bindingDB))\n",
    "print('Original - Between k+ and k-: ', stats.spearmanr(target_pos_degree_bindingDB, target_neg_degree_bindingDB))\n",
    "\n",
    "print('-------------------------------------------------------------------------------------------------------------')\n",
    "\n",
    "print('Shuffled - Between k and k+: ', stats.spearmanr(target_annotations_randomized, target_pos_degree_randomized))\n",
    "print('Shuffled - Between k and k-: ', stats.spearmanr(target_annotations_randomized, target_neg_degree_randomized))\n",
    "print('Shuffled - Between k+ and k-: ', stats.spearmanr(target_pos_degree_randomized, target_neg_degree_randomized))"
   ]
  },
  {
   "cell_type": "code",
   "execution_count": 197,
   "metadata": {
    "scrolled": true
   },
   "outputs": [
    {
     "data": {
      "text/plain": [
       "<matplotlib.collections.PathCollection at 0x7f306e42b5f8>"
      ]
     },
     "execution_count": 197,
     "metadata": {},
     "output_type": "execute_result"
    },
    {
     "data": {
      "image/png": "[encoded data removed]",
      "text/plain": [
       "<Figure size 432x288 with 1 Axes>"
      ]
     },
     "metadata": {
      "needs_background": "light"
     },
     "output_type": "display_data"
    }
   ],
   "source": [
    "plt.scatter(target_annotations_randomized, target_degree_ratio_randomized)"
   ]
  },
  {
   "cell_type": "code",
   "execution_count": 198,
   "metadata": {
    "scrolled": false
   },
   "outputs": [
    {
     "data": {
      "image/png": "[encoded data removed]",
      "text/plain": [
       "<Figure size 720x720 with 4 Axes>"
      ]
     },
     "metadata": {
      "needs_background": "light"
     },
     "output_type": "display_data"
    }
   ],
   "source": [
    "fig, axs = plt.subplots(2, 2, figsize=(10,10))\n",
    "\n",
    "binned_deg_ann, binned_ki_ann = log_binning_distribution(target_annotations_bindingDB,B = 20)\n",
    "axs[0, 0].scatter(binned_deg_ann, binned_ki_ann, label='Original',alpha=0.2)\n",
    "binned_deg_ann, binned_ki_ann = log_binning_distribution(target_annotations_randomized,B = 20)\n",
    "axs[0, 0].scatter(binned_deg_ann, binned_ki_ann, label='Randomized', marker='x', alpha=0.4)\n",
    "axs[0, 0].set_xscale('log')\n",
    "axs[0, 0].set_yscale('log')\n",
    "axs[0, 0].set_xlabel('$K$')\n",
    "axs[0, 0].set_ylabel('PDF')\n",
    "# axs[0, 0].set_title('Targets')\n",
    "axs[0, 0].legend()\n",
    "\n",
    "binned_deg_ann, binned_ki_ann = log_binning_distribution(target_pos_degree_bindingDB,B = 20)\n",
    "axs[0, 1].scatter(binned_deg_ann, binned_ki_ann, label='Original',alpha=0.2)\n",
    "binned_deg_ann, binned_ki_ann = log_binning_distribution(target_pos_degree_randomized,B = 20)\n",
    "axs[0, 1].scatter(binned_deg_ann, binned_ki_ann, label='Randomized', marker='x', alpha=0.4)\n",
    "axs[0, 1].set_xscale('log')\n",
    "axs[0, 1].set_yscale('log')\n",
    "axs[0, 1].set_xlabel('$K_+$')\n",
    "axs[0, 1].set_ylabel('PDF')\n",
    "axs[0, 1].legend()\n",
    "\n",
    "binned_deg_ann, binned_ki_ann = log_binning_distribution(target_neg_degree_bindingDB,B = 20)\n",
    "axs[1, 0].scatter(binned_deg_ann, binned_ki_ann, label='Original',alpha=0.2)\n",
    "binned_deg_ann, binned_ki_ann = log_binning_distribution(target_neg_degree_randomized,B = 20)\n",
    "axs[1, 0].scatter(binned_deg_ann, binned_ki_ann, label='Randomized', marker='x', alpha=0.4)\n",
    "axs[1, 0].set_xscale('log')\n",
    "axs[1, 0].set_yscale('log')\n",
    "axs[1, 0].set_xlabel('$K_-$')\n",
    "axs[1, 0].set_ylabel('PDF')\n",
    "axs[1, 0].legend()\n",
    "\n",
    "#binned_deg_ann, binned_ki_ann = log_binning_distribution(ligand_neg_degree_original,B = 20)\n",
    "sns.distplot(target_degree_ratio_bindingDB, ax=axs[1, 1], norm_hist=True, label='Original')\n",
    "#axs[3, 0].hist(ligand_degree_ratio_bindingDB_original, label='Original',alpha=0.2)\n",
    "#binned_deg_ann, binned_ki_ann = log_binning_distribution(ligand_neg_degree_shuffled,B = 20)\n",
    "sns.distplot(target_degree_ratio_randomized, ax=axs[1, 1], norm_hist=True, label='Randomized')\n",
    "#axs[3, 0].hist(ligand_degree_ratio_bindingDB_shuffled, label='Randomized Kd', alpha=0.2)\n",
    "#axs[3, 0].set_xscale('log')\n",
    "#axs[3, 0].set_yscale('log')\n",
    "axs[1, 1].set_xlabel(r'$\\rho$')\n",
    "axs[1, 1].set_ylabel('PDF')\n",
    "axs[1, 1].legend()\n",
    "axs[1, 1].set_xlim([0.0, 1.0])\n",
    "\n",
    "fig.tight_layout()"
   ]
  },
  {
   "cell_type": "code",
   "execution_count": 199,
   "metadata": {},
   "outputs": [
    {
     "data": {
      "text/plain": [
       "0.47256960784070895"
      ]
     },
     "execution_count": 199,
     "metadata": {},
     "output_type": "execute_result"
    }
   ],
   "source": [
    "np.mean(target_degree_ratio_randomized)"
   ]
  },
  {
   "cell_type": "markdown",
   "metadata": {},
   "source": [
    "# Duplex Configuration Model"
   ]
  },
  {
   "cell_type": "code",
   "execution_count": 154,
   "metadata": {},
   "outputs": [],
   "source": [
    "from sklearn.model_selection import train_test_split\n",
    "\n",
    "train, test = train_test_split(randomized_dataframe, test_size=0.3)"
   ]
  },
  {
   "cell_type": "code",
   "execution_count": 155,
   "metadata": {
    "scrolled": true
   },
   "outputs": [],
   "source": [
    "train.to_csv('../../data/Unipartite/experiment_4b/train.csv')\n",
    "test.to_csv('../../data/Unipartite/experiment_4b/test.csv')"
   ]
  },
  {
   "cell_type": "code",
   "execution_count": 156,
   "metadata": {},
   "outputs": [],
   "source": [
    "targets = list(set(train['Target Sequence 1'].tolist()).union(set(train['Target Sequence 2'].tolist())))"
   ]
  },
  {
   "cell_type": "code",
   "execution_count": 157,
   "metadata": {},
   "outputs": [
    {
     "data": {
      "text/plain": [
       "1396"
      ]
     },
     "execution_count": 157,
     "metadata": {},
     "output_type": "execute_result"
    }
   ],
   "source": [
    "len(targets)"
   ]
  },
  {
   "cell_type": "code",
   "execution_count": 158,
   "metadata": {},
   "outputs": [
    {
     "data": {
      "text/plain": [
       "13651"
      ]
     },
     "execution_count": 158,
     "metadata": {},
     "output_type": "execute_result"
    }
   ],
   "source": [
    "randomized_dataframe['Label'].tolist().count(1)"
   ]
  },
  {
   "cell_type": "code",
   "execution_count": 159,
   "metadata": {
    "scrolled": true
   },
   "outputs": [
    {
     "name": "stderr",
     "output_type": "stream",
     "text": [
      "100%|██████████| 1396/1396 [00:05<00:00, 243.61it/s]\n",
      "100%|██████████| 1396/1396 [00:05<00:00, 245.44it/s]\n",
      "100%|██████████| 1396/1396 [00:00<00:00, 1026156.39it/s]\n",
      "100%|██████████| 1396/1396 [00:00<00:00, 1076134.60it/s]\n"
     ]
    }
   ],
   "source": [
    "targets_degree_dict = dict()\n",
    "\n",
    "for aa_target in tqdm(targets):\n",
    "    sum_df = train[train['Target Sequence 1'] == aa_target]\n",
    "    targets_degree_dict[aa_target] = dict()\n",
    "    targets_degree_dict[aa_target]['deg_0'] = len(sum_df[sum_df['Label'] == 0])\n",
    "    targets_degree_dict[aa_target]['deg_1'] = len(sum_df[sum_df['Label'] == 1])\n",
    "    \n",
    "for aa_target in tqdm(targets):\n",
    "    sum_df = train[train['Target Sequence 2'] == aa_target]\n",
    "    if aa_target in targets_degree_dict.keys():\n",
    "        targets_degree_dict[aa_target]['deg_0'] = targets_degree_dict[aa_target]['deg_0'] + len(sum_df[sum_df['Label'] == 0])\n",
    "        targets_degree_dict[aa_target]['deg_1'] = targets_degree_dict[aa_target]['deg_1'] + len(sum_df[sum_df['Label'] == 1])\n",
    "    else:\n",
    "        targets_degree_dict[aa_target] = dict()\n",
    "        targets_degree_dict[aa_target]['deg_0'] = len(sum_df[sum_df['Label'] == 0])\n",
    "        targets_degree_dict[aa_target]['deg_1'] = len(sum_df[sum_df['Label'] == 1])\n",
    "        \n",
    "degree_train_1_0_targets = [targets_degree_dict[key_val]['deg_1'] for key_val in tqdm(targets)]\n",
    "degree_train_0_1_targets = [targets_degree_dict[key_val]['deg_0'] for key_val in tqdm(targets)]"
   ]
  },
  {
   "cell_type": "code",
   "execution_count": 160,
   "metadata": {
    "scrolled": true
   },
   "outputs": [],
   "source": [
    "with open('../../data/Unipartite/experiment_4b/degreetrain10targets.txt', 'w') as file:\n",
    "    for degree in degree_train_1_0_targets:\n",
    "        file.write(\"%i\\n\" % degree)\n",
    "        \n",
    "file.close()\n",
    "\n",
    "with open('../../data/Unipartite/experiment_4b/degreetrain01targets.txt', 'w') as file:\n",
    "    for degree in degree_train_0_1_targets:\n",
    "        file.write(\"%i\\n\" % degree)\n",
    "        \n",
    "file.close()\n",
    "\n",
    "textfile = open(\"../../data/Unipartite/experiment_4b/targets.txt\", \"w\")\n",
    "for element in targets:\n",
    "    textfile.write(element + \"\\n\")\n",
    "textfile.close()"
   ]
  },
  {
   "cell_type": "code",
   "execution_count": 161,
   "metadata": {},
   "outputs": [],
   "source": [
    "summat10 = np.loadtxt(open(\"../../data/Unipartite/experiment_4b/summat10.csv\", \"rb\"), delimiter=\",\", skiprows=0) # Output of MATLAB run\n",
    "summat01 = np.loadtxt(open(\"../../data/Unipartite/experiment_4b/summat01.csv\", \"rb\"), delimiter=\",\", skiprows=0) # Output of MATLAB run "
   ]
  },
  {
   "cell_type": "code",
   "execution_count": 162,
   "metadata": {
    "scrolled": true
   },
   "outputs": [
    {
     "name": "stderr",
     "output_type": "stream",
     "text": [
      "100%|██████████| 1396/1396 [00:00<00:00, 324966.61it/s]\n"
     ]
    }
   ],
   "source": [
    "train_pos = train[train['Label'] == 1]\n",
    "train_neg = train[train['Label'] == 0]\n",
    "\n",
    "pos_deg_0_targets = []\n",
    "neg_deg_0_targets = []\n",
    "\n",
    "targets_degree_ratio = dict()\n",
    "target_all_average = []\n",
    "\n",
    "for target in tqdm(targets):\n",
    "    pos_deg = targets_degree_dict[target]['deg_1']\n",
    "    neg_deg = targets_degree_dict[target]['deg_0']\n",
    "    if pos_deg + neg_deg != 0:\n",
    "        targets_degree_ratio[target] = dict()\n",
    "        targets_degree_ratio[target]['deg_ratio'] = pos_deg / (pos_deg + neg_deg)\n",
    "        targets_degree_ratio[target]['deg_avg'] = pos_deg / len(targets)\n",
    "        target_all_average.append(pos_deg / len(targets))\n",
    "    if pos_deg == 0:\n",
    "        pos_deg_0_targets.append(target)\n",
    "    if neg_deg == 0:\n",
    "        neg_deg_0_targets.append(target)\n",
    "    \n",
    "targets_all_avg = sum(target_all_average) / len(targets)"
   ]
  },
  {
   "cell_type": "code",
   "execution_count": 163,
   "metadata": {
    "scrolled": true
   },
   "outputs": [],
   "source": [
    "## Annotated means the node has at least 1 binding information\n",
    "\n",
    "pos_annotated_targets = list(set(targets)-set(pos_deg_0_targets))\n",
    "\n",
    "neg_annotated_targets = list(set(targets)-set(neg_deg_0_targets))"
   ]
  },
  {
   "cell_type": "code",
   "execution_count": 164,
   "metadata": {
    "scrolled": true
   },
   "outputs": [
    {
     "name": "stderr",
     "output_type": "stream",
     "text": [
      "380it [00:00, 3791.74it/s]/miniconda/lib/python3.6/site-packages/ipykernel_launcher.py:13: RuntimeWarning: invalid value encountered in double_scalars\n",
      "  del sys.path[0]\n",
      "8643it [00:02, 3833.25it/s]\n"
     ]
    }
   ],
   "source": [
    "test_probabilty_predicted_conditioned = []\n",
    "\n",
    "## Average conditional probability\n",
    "p10_avg = np.mean(summat10)\n",
    "p01_avg = np.mean(summat01)\n",
    "average_conditional_probability = p10_avg / (p10_avg + p01_avg)\n",
    "\n",
    "for index, row in tqdm(test.iterrows()):      \n",
    "    \n",
    "    if row['Target Sequence 1'] in pos_annotated_targets and row['Target Sequence 2'] in pos_annotated_targets:\n",
    "        p10 = summat10[targets.index(row['Target Sequence 1']),targets.index(row['Target Sequence 2'])]\n",
    "        p01 = summat01[targets.index(row['Target Sequence 1']),targets.index(row['Target Sequence 2'])]\n",
    "        p10_conditioned = p10 / (p10 + p01)\n",
    "        test_probabilty_predicted_conditioned.append(p10_conditioned)\n",
    "        \n",
    "    elif row['Target Sequence 1'] in pos_annotated_targets and row['Target Sequence 2'] not in pos_annotated_targets:\n",
    "        p10_conditioned = targets_degree_ratio[row['Target Sequence 1']]['deg_ratio']  ## k_+ / (k_+ + k_-)\n",
    "        test_probabilty_predicted_conditioned.append(p10_conditioned)\n",
    "        \n",
    "    elif row['Target Sequence 1'] not in pos_annotated_targets and row['Target Sequence 2'] in pos_annotated_targets:\n",
    "        p10_conditioned = targets_degree_ratio[row['Target Sequence 2']]['deg_ratio'] ## k_+ / (k_+ + k_-)\n",
    "        test_probabilty_predicted_conditioned.append(p10_conditioned)\n",
    "\n",
    "    else:\n",
    "        p10_conditioned = average_conditional_probability\n",
    "        test_probabilty_predicted_conditioned.append(p10_conditioned)\n",
    "        "
   ]
  },
  {
   "cell_type": "code",
   "execution_count": 166,
   "metadata": {
    "scrolled": true
   },
   "outputs": [
    {
     "name": "stdout",
     "output_type": "stream",
     "text": [
      "Seen targets 1:  1132\n",
      "Seen targets 2:  1143\n",
      "Unseen targets 1:  98\n",
      "Unseen targets 2:  94\n"
     ]
    },
    {
     "name": "stderr",
     "output_type": "stream",
     "text": [
      "/miniconda/lib/python3.6/site-packages/ipykernel_launcher.py:1: SettingWithCopyWarning: \n",
      "A value is trying to be set on a copy of a slice from a DataFrame.\n",
      "Try using .loc[row_indexer,col_indexer] = value instead\n",
      "\n",
      "See the caveats in the documentation: https://pandas.pydata.org/pandas-docs/stable/user_guide/indexing.html#returning-a-view-versus-a-copy\n",
      "  \"\"\"Entry point for launching an IPython kernel.\n"
     ]
    }
   ],
   "source": [
    "test['test_probabilty_predicted_conditioned'] = test_probabilty_predicted_conditioned\n",
    "test = test[~test['test_probabilty_predicted_conditioned'].isna()]\n",
    "\n",
    "train_targets1 = list(set(train['Target Sequence 1'].tolist()))\n",
    "train_targets2 = list(set(train['Target Sequence 2'].tolist()))\n",
    "\n",
    "test_minus_train_targets1 = list(set(test['Target Sequence 1'].tolist()).difference(train_targets1))\n",
    "test_minus_train_targets2 = list(set(test['Target Sequence 2'].tolist()).difference(train_targets2))\n",
    "\n",
    "print('Seen targets 1: ', len(train_targets1))\n",
    "print('Seen targets 2: ', len(train_targets2))\n",
    "print('Unseen targets 1: ', len(test_minus_train_targets1))\n",
    "print('Unseen targets 2: ', len(test_minus_train_targets2))"
   ]
  },
  {
   "cell_type": "code",
   "execution_count": 167,
   "metadata": {
    "scrolled": true
   },
   "outputs": [
    {
     "name": "stdout",
     "output_type": "stream",
     "text": [
      "Unseen edges:  8420\n",
      "AUC:  0.9989904417991199\n",
      "AUP:  0.9977122128954928\n"
     ]
    }
   ],
   "source": [
    "# Unseen Edges\n",
    "\n",
    "test_unseen_edges = test[test['Target Sequence 1'].isin(train_targets1) & test['Target Sequence 2'].isin(train_targets2)]\n",
    "print('Unseen edges: ', len(test_unseen_edges))\n",
    "\n",
    "print('AUC: ', roc_auc_score(test_unseen_edges['Label'].tolist(), test_unseen_edges['test_probabilty_predicted_conditioned']))\n",
    "print('AUP: ', average_precision_score(test_unseen_edges['Label'].tolist(), test_unseen_edges['test_probabilty_predicted_conditioned']))"
   ]
  },
  {
   "cell_type": "code",
   "execution_count": 200,
   "metadata": {},
   "outputs": [],
   "source": [
    "# Unseen Targets\n",
    "\n",
    "#test_unseen_targets = test[test['Target Sequence'].isin(test_minus_train_targets)]\n",
    "#print('Unseen targets: ', len(test_unseen_targets))\n",
    "\n",
    "#append = pd.DataFrame()\n",
    "\n",
    "#append['SMILES'] = ['x']\n",
    "#append['Target Sequence'] = ['y']\n",
    "#append['Label'] = [1.0]\n",
    "#append['test_probabilty_predicted_conditioned'] = [np.mean(test_unseen_targets['test_probabilty_predicted_conditioned'].tolist())]\n",
    "\n",
    "#test_unseen_targets = pd.concat([test_unseen_targets,append])\n",
    "\n",
    "#print('AUC: ', roc_auc_score(test_unseen_targets['Label'].tolist(), test_unseen_targets['test_probabilty_predicted_conditioned']))\n",
    "#print('AUP: ', average_precision_score(test_unseen_targets['Label'].tolist(), test_unseen_targets['test_probabilty_predicted_conditioned']))"
   ]
  },
  {
   "cell_type": "code",
   "execution_count": 201,
   "metadata": {},
   "outputs": [],
   "source": [
    "# Unseen Nodes\n",
    "\n",
    "#test_unseen_nodes = test[test['Target Sequence 1'].isin(test_minus_train_targets1) & test['Target Sequence 2'].isin(test_minus_train_targets2)]\n",
    "#print('Unseen nodes: ', len(test_unseen_nodes))\n",
    "\n",
    "#append = pd.DataFrame()\n",
    "\n",
    "#append['SMILES'] = ['x']\n",
    "#append['Target Sequence'] = ['y']\n",
    "#append['Label'] = [1.0]\n",
    "#append['test_probabilty_predicted_conditioned'] = [np.mean(test_unseen_nodes['test_probabilty_predicted_conditioned'].tolist())]\n",
    "\n",
    "#test_unseen_nodes = pd.concat([test_unseen_nodes,append])\n",
    "\n",
    "#print('AUC: ', roc_auc_score(test_unseen_nodes['Label'].tolist(), test_unseen_nodes['test_probabilty_predicted_conditioned']))\n",
    "#print('AUP: ', average_precision_score(test_unseen_nodes['Label'].tolist(), test_unseen_nodes['test_probabilty_predicted_conditioned']))"
   ]
  },
  {
   "cell_type": "markdown",
   "metadata": {},
   "source": [
    "# Comparison with Original"
   ]
  },
  {
   "cell_type": "code",
   "execution_count": 220,
   "metadata": {
    "scrolled": true
   },
   "outputs": [],
   "source": [
    "# original_test = pd.read_csv('../../data/Transformer_CNN_test_w_config_preds_fold2.csv')"
   ]
  },
  {
   "cell_type": "code",
   "execution_count": 168,
   "metadata": {},
   "outputs": [
    {
     "data": {
      "image/png": "[encoded data removed]",
      "text/plain": [
       "<Figure size 640x480 with 1 Axes>"
      ]
     },
     "metadata": {
      "needs_background": "light"
     },
     "output_type": "display_data"
    }
   ],
   "source": [
    "figure(figsize=(8, 6), dpi=80)\n",
    "\n",
    "#sns.distplot(original_test['duplex_config_prediction'].tolist(),  norm_hist=True, label='Original')\n",
    "sns.distplot(test['test_probabilty_predicted_conditioned'].tolist(),  norm_hist=True, label='Randomization')\n",
    "plt.legend()\n",
    "plt.xlim([0,1])\n",
    "plt.xlabel('Duplex Configuration Model Prediction')\n",
    "plt.ylabel('PDF')\n",
    "plt.show()"
   ]
  },
  {
   "cell_type": "code",
   "execution_count": 169,
   "metadata": {},
   "outputs": [
    {
     "name": "stdout",
     "output_type": "stream",
     "text": [
      "New mean and std of duplex prediction:  0.5387999226383776 0.4340301050104099\n"
     ]
    }
   ],
   "source": [
    "#print('Older mean and std of duplex prediction: ', np.mean(original_test['duplex_config_prediction'].tolist()), np.std(original_test['duplex_config_prediction'].tolist()))\n",
    "print('New mean and std of duplex prediction: ', np.mean(test['test_probabilty_predicted_conditioned'].tolist()), np.std(test['test_probabilty_predicted_conditioned'].tolist()))"
   ]
  },
  {
   "cell_type": "code",
   "execution_count": 62,
   "metadata": {},
   "outputs": [],
   "source": [
    "test.to_csv('../../data/Unipartite/experiment_4b/test.csv')"
   ]
  },
  {
   "cell_type": "code",
   "execution_count": null,
   "metadata": {},
   "outputs": [],
   "source": []
  }
 ],
 "metadata": {
  "kernelspec": {
   "display_name": "Python 3",
   "language": "python",
   "name": "python3"
  },
  "language_info": {
   "codemirror_mode": {
    "name": "ipython",
    "version": 3
   },
   "file_extension": ".py",
   "mimetype": "text/x-python",
   "name": "python",
   "nbconvert_exporter": "python",
   "pygments_lexer": "ipython3",
   "version": "3.6.6"
  },
  "toc": {
   "base_numbering": 1,
   "nav_menu": {},
   "number_sections": true,
   "sideBar": true,
   "skip_h1_title": false,
   "title_cell": "Table of Contents",
   "title_sidebar": "Contents",
   "toc_cell": false,
   "toc_position": {},
   "toc_section_display": true,
   "toc_window_display": false
  }
 },
 "nbformat": 4,
 "nbformat_minor": 4
}
