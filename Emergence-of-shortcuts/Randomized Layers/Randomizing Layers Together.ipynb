{
 "cells": [
  {
   "cell_type": "markdown",
   "metadata": {
    "heading_collapsed": true
   },
   "source": [
    "# Imports and Custom Functions"
   ]
  },
  {
   "cell_type": "code",
   "execution_count": 165,
   "metadata": {
    "hidden": true
   },
   "outputs": [],
   "source": [
    "import matplotlib.pyplot as plt\n",
    "from tqdm import tqdm\n",
    "import pandas as pd\n",
    "from matplotlib.pyplot import figure\n",
    "import numpy as np\n",
    "import networkx as nx\n",
    "from networkx.algorithms import bipartite\n",
    "from sklearn.metrics import confusion_matrix, f1_score, classification_report\n",
    "from sklearn.metrics import roc_curve, roc_auc_score, precision_recall_curve, average_precision_score\n",
    "from sklearn.metrics import confusion_matrix, f1_score, classification_report\n",
    "from scipy import stats"
   ]
  },
  {
   "cell_type": "code",
   "execution_count": 173,
   "metadata": {
    "hidden": true
   },
   "outputs": [],
   "source": [
    "def remove_zeros_distribution(X):\n",
    "\n",
    "    return [i for i in X if i != 0]\n",
    "\n",
    "def log_binning_distribution(x_i,B = 20): \n",
    "    \n",
    "    x_i = remove_zeros_distribution(x_i)\n",
    "\n",
    "    b_1 = min(x_i)\n",
    "    b_Bp1 = max(x_i)\n",
    "    q_1 = np.log(b_1)\n",
    "    q_Bp1 = np.log(b_Bp1)\n",
    "    D_q = q_Bp1 - q_1\n",
    "    L_q = D_q / B\n",
    "\n",
    "    q_list = []\n",
    "    b_list = []\n",
    "\n",
    "    for i in range(B):\n",
    "        j = i + 1\n",
    "        q_list.append(q_1 + (j-1)*L_q)\n",
    "        b_list.append(np.exp(q_1 + (j-1)*L_q))\n",
    "\n",
    "    # b_list.insert(0,b_1)\n",
    "    # b_list.append(b_Bp1)\n",
    "    \n",
    "    binned_x_i = []\n",
    "    density_list = []\n",
    "\n",
    "    for i in range(len(b_list)-1):\n",
    "        bin_low = b_list[i]\n",
    "        bin_high = b_list[i+1]\n",
    "        count_bin = 0\n",
    "        for j in range(len(x_i)):\n",
    "            if x_i[j] >= bin_low and x_i[j] < bin_high:\n",
    "                count_bin = count_bin + 1\n",
    "                \n",
    "        if count_bin > 0:\n",
    "            density_bin = count_bin / (len(x_i)*(bin_high-bin_low))\n",
    "            density_list.append(density_bin)\n",
    "            binned_x_i.append(bin_low)\n",
    "        else:\n",
    "            continue \n",
    "            \n",
    "    return binned_x_i, density_list"
   ]
  },
  {
   "cell_type": "markdown",
   "metadata": {},
   "source": [
    "# Randomizing"
   ]
  },
  {
   "cell_type": "code",
   "execution_count": 3,
   "metadata": {},
   "outputs": [],
   "source": [
    "train = pd.read_csv('../data/Transformer_CNN_train_fold2.csv')\n",
    "val = pd.read_csv('../data/Transformer_CNN_val_fold2.csv')\n",
    "test = pd.read_csv('../data/Transformer_CNN_test_fold2.csv')"
   ]
  },
  {
   "cell_type": "code",
   "execution_count": 4,
   "metadata": {},
   "outputs": [],
   "source": [
    "all_data = pd.concat([train,val,test])"
   ]
  },
  {
   "cell_type": "code",
   "execution_count": 27,
   "metadata": {},
   "outputs": [
    {
     "name": "stdout",
     "output_type": "stream",
     "text": [
      "Positive edge count:  11428\n",
      "Negative edge count:  59322\n"
     ]
    }
   ],
   "source": [
    "positive_edge_count = len(all_data[all_data['Label'] == 1])\n",
    "negative_edge_count = len(all_data[all_data['Label'] == 0])\n",
    "\n",
    "print('Positive edge count: ', positive_edge_count)\n",
    "print('Negative edge count: ', negative_edge_count)"
   ]
  },
  {
   "cell_type": "code",
   "execution_count": 34,
   "metadata": {},
   "outputs": [
    {
     "name": "stdout",
     "output_type": "stream",
     "text": [
      "Distinct ligands:  13392\n",
      "Distinct targets:  1507\n"
     ]
    }
   ],
   "source": [
    "ligands = list(set(all_data['SMILES'].tolist()))\n",
    "targets = list(set(all_data['Target Sequence'].tolist()))\n",
    "\n",
    "print('Distinct ligands: ', len(ligands))\n",
    "print('Distinct targets: ', len(targets))"
   ]
  },
  {
   "cell_type": "code",
   "execution_count": 7,
   "metadata": {},
   "outputs": [],
   "source": [
    "# edge_list_layer = list(zip(all_data['InChiKey'],all_data['target_aa_code']))\n",
    "edge_list_layer = list(zip(all_data['SMILES'],all_data['Target Sequence']))\n",
    "edges_layer = len(edge_list_layer)"
   ]
  },
  {
   "cell_type": "code",
   "execution_count": 8,
   "metadata": {},
   "outputs": [],
   "source": [
    "B = nx.Graph()\n",
    "B.add_edges_from(edge_list_layer)"
   ]
  },
  {
   "cell_type": "code",
   "execution_count": 9,
   "metadata": {},
   "outputs": [
    {
     "data": {
      "text/plain": [
       "True"
      ]
     },
     "execution_count": 9,
     "metadata": {},
     "output_type": "execute_result"
    }
   ],
   "source": [
    "bipartite.is_bipartite(B)"
   ]
  },
  {
   "cell_type": "code",
   "execution_count": 10,
   "metadata": {},
   "outputs": [
    {
     "data": {
      "text/plain": [
       "70750"
      ]
     },
     "execution_count": 10,
     "metadata": {},
     "output_type": "execute_result"
    }
   ],
   "source": [
    "edges_layer"
   ]
  },
  {
   "cell_type": "code",
   "execution_count": 11,
   "metadata": {},
   "outputs": [],
   "source": [
    "p_connection_layer = edges_layer / (len(ligands)*len(targets))"
   ]
  },
  {
   "cell_type": "code",
   "execution_count": 12,
   "metadata": {},
   "outputs": [
    {
     "data": {
      "text/plain": [
       "0.0035056435162392307"
      ]
     },
     "execution_count": 12,
     "metadata": {},
     "output_type": "execute_result"
    }
   ],
   "source": [
    "p_connection_layer"
   ]
  },
  {
   "cell_type": "code",
   "execution_count": 79,
   "metadata": {},
   "outputs": [],
   "source": [
    "layers_randomized = nx.Graph(bipartite.random_graph(len(ligands), len(targets), p_connection_layer))"
   ]
  },
  {
   "cell_type": "code",
   "execution_count": 81,
   "metadata": {},
   "outputs": [
    {
     "data": {
      "text/plain": [
       "True"
      ]
     },
     "execution_count": 81,
     "metadata": {},
     "output_type": "execute_result"
    }
   ],
   "source": [
    "bipartite.is_bipartite(layers_randomized)"
   ]
  },
  {
   "cell_type": "code",
   "execution_count": 80,
   "metadata": {},
   "outputs": [
    {
     "data": {
      "text/plain": [
       "70717"
      ]
     },
     "execution_count": 80,
     "metadata": {},
     "output_type": "execute_result"
    }
   ],
   "source": [
    "layers_randomized.number_of_edges()"
   ]
  },
  {
   "cell_type": "code",
   "execution_count": 82,
   "metadata": {},
   "outputs": [],
   "source": [
    "top_nodes = {n for n, d in layers_randomized.nodes(data=True) if d[\"bipartite\"] == 0}"
   ]
  },
  {
   "cell_type": "code",
   "execution_count": 83,
   "metadata": {},
   "outputs": [
    {
     "data": {
      "text/plain": [
       "13392"
      ]
     },
     "execution_count": 83,
     "metadata": {},
     "output_type": "execute_result"
    }
   ],
   "source": [
    "len(top_nodes) # These are the ligands"
   ]
  },
  {
   "cell_type": "code",
   "execution_count": 84,
   "metadata": {},
   "outputs": [],
   "source": [
    "bottom_nodes = set(layers_randomized) - top_nodes"
   ]
  },
  {
   "cell_type": "code",
   "execution_count": 85,
   "metadata": {},
   "outputs": [
    {
     "data": {
      "text/plain": [
       "1507"
      ]
     },
     "execution_count": 85,
     "metadata": {},
     "output_type": "execute_result"
    }
   ],
   "source": [
    "len(bottom_nodes) # These are the targets"
   ]
  },
  {
   "cell_type": "code",
   "execution_count": 86,
   "metadata": {},
   "outputs": [],
   "source": [
    "randomized_ligand_degrees = []\n",
    "\n",
    "for node_lig in top_nodes:\n",
    "    randomized_ligand_degrees.append(layers_randomized.degree(node_lig))"
   ]
  },
  {
   "cell_type": "code",
   "execution_count": 87,
   "metadata": {},
   "outputs": [
    {
     "data": {
      "image/png": "[encoded data removed]",
      "text/plain": [
       "<Figure size 432x288 with 1 Axes>"
      ]
     },
     "metadata": {
      "needs_background": "light"
     },
     "output_type": "display_data"
    }
   ],
   "source": [
    "count, bins_count = np.histogram(randomized_ligand_degrees,bins=15)\n",
    "pdf = count / sum(count)\n",
    "cdf = np.cumsum(pdf)\n",
    "plt.scatter(bins_count[1:],pdf, label=\"Randomized Ligand Degree\",alpha=0.5)\n",
    "\n",
    "plt.legend()\n",
    "plt.xlabel('Ligand degree')\n",
    "plt.ylabel('pdf')\n",
    "plt.show()"
   ]
  },
  {
   "cell_type": "code",
   "execution_count": 88,
   "metadata": {},
   "outputs": [],
   "source": [
    "randomized_target_degrees = []\n",
    "\n",
    "for node_tar in bottom_nodes:\n",
    "    randomized_target_degrees.append(layers_randomized.degree(node_tar))"
   ]
  },
  {
   "cell_type": "code",
   "execution_count": 89,
   "metadata": {},
   "outputs": [
    {
     "data": {
      "image/png": "[encoded data removed]",
      "text/plain": [
       "<Figure size 432x288 with 1 Axes>"
      ]
     },
     "metadata": {
      "needs_background": "light"
     },
     "output_type": "display_data"
    }
   ],
   "source": [
    "count, bins_count = np.histogram(randomized_target_degrees,bins=12)\n",
    "pdf = count / sum(count)\n",
    "cdf = np.cumsum(pdf)\n",
    "plt.scatter(bins_count[1:],pdf, label=\"Randomized Target Degree\",alpha=0.5)\n",
    "\n",
    "plt.legend()\n",
    "plt.xlabel('Target degree')\n",
    "plt.ylabel('pdf')\n",
    "plt.show()"
   ]
  },
  {
   "cell_type": "markdown",
   "metadata": {},
   "source": [
    "# Creating DataFrame"
   ]
  },
  {
   "cell_type": "code",
   "execution_count": 101,
   "metadata": {
    "scrolled": true
   },
   "outputs": [],
   "source": [
    "randomized_samples = pd.DataFrame()\n",
    "\n",
    "SMILE_list = []\n",
    "target_aa_code_list = []\n",
    "\n",
    "desired_positive_edge = int(len(list(layers_randomized.edges())) * positive_edge_count/(positive_edge_count + negative_edge_count))\n",
    "desired_negative_edge = len(list(layers_randomized.edges())) - desired_positive_edge\n",
    "\n",
    "for edge in list(layers_randomized.edges()):\n",
    "    SMILE_list.append(ligands[edge[0]])\n",
    "    target_aa_code_list.append(targets[edge[1]-len(ligands)]) ## bottom nodes indexing starts from len(ligands)\n",
    "        \n",
    "randomized_samples['SMILE'] = SMILE_list\n",
    "randomized_samples['target_aa_code'] = target_aa_code_list\n",
    "randomized_samples = randomized_samples.sample(frac=1).reset_index(drop=True)\n",
    "randomized_samples['Y'] = [1] * desired_positive_edge + [0] * desired_negative_edge"
   ]
  },
  {
   "cell_type": "code",
   "execution_count": 102,
   "metadata": {},
   "outputs": [
    {
     "data": {
      "text/plain": [
       "11422"
      ]
     },
     "execution_count": 102,
     "metadata": {},
     "output_type": "execute_result"
    }
   ],
   "source": [
    "len(randomized_samples[randomized_samples['Y'] == 1]) ## 11428"
   ]
  },
  {
   "cell_type": "code",
   "execution_count": 103,
   "metadata": {},
   "outputs": [
    {
     "data": {
      "text/plain": [
       "59295"
      ]
     },
     "execution_count": 103,
     "metadata": {},
     "output_type": "execute_result"
    }
   ],
   "source": [
    "len(randomized_samples[randomized_samples['Y'] == 0]) ## 59322"
   ]
  },
  {
   "cell_type": "code",
   "execution_count": 104,
   "metadata": {
    "scrolled": true
   },
   "outputs": [
    {
     "name": "stderr",
     "output_type": "stream",
     "text": [
      "100%|██████████| 13327/13327 [01:50<00:00, 120.63it/s]\n"
     ]
    }
   ],
   "source": [
    "ligand_pos_degree_randomized = []\n",
    "ligand_degree_ratio_randomized = []\n",
    "\n",
    "for chem in tqdm(set(randomized_samples['SMILE'].tolist())):\n",
    "    sub_df = randomized_samples[randomized_samples['SMILE'] == chem]\n",
    "    ligand_pos_degree_randomized.append(sub_df['Y'].tolist().count(1))\n",
    "    ligand_degree_ratio_randomized.append(sub_df['Y'].tolist().count(1)/(sub_df['Y'].tolist().count(1)+sub_df['Y'].tolist().count(0)))"
   ]
  },
  {
   "cell_type": "code",
   "execution_count": 105,
   "metadata": {},
   "outputs": [
    {
     "data": {
      "text/plain": [
       "(array([5.585e+03, 4.965e+03, 0.000e+00, 2.056e+03, 0.000e+00, 5.680e+02,\n",
       "        1.280e+02, 0.000e+00, 2.100e+01, 4.000e+00]),\n",
       " array([0. , 0.6, 1.2, 1.8, 2.4, 3. , 3.6, 4.2, 4.8, 5.4, 6. ]),\n",
       " <a list of 10 Patch objects>)"
      ]
     },
     "execution_count": 105,
     "metadata": {},
     "output_type": "execute_result"
    },
    {
     "data": {
      "image/png": "[encoded data removed]",
      "text/plain": [
       "<Figure size 432x288 with 1 Axes>"
      ]
     },
     "metadata": {
      "needs_background": "light"
     },
     "output_type": "display_data"
    }
   ],
   "source": [
    "plt.hist(ligand_pos_degree_randomized)"
   ]
  },
  {
   "cell_type": "code",
   "execution_count": 106,
   "metadata": {},
   "outputs": [
    {
     "name": "stderr",
     "output_type": "stream",
     "text": [
      "100%|██████████| 1507/1507 [00:12<00:00, 120.65it/s]\n"
     ]
    }
   ],
   "source": [
    "target_pos_degree_randomized = []\n",
    "target_degree_ratio_randomized = []\n",
    "\n",
    "for prot in tqdm(set(randomized_samples['target_aa_code'].tolist())):\n",
    "    sub_df = randomized_samples[randomized_samples['target_aa_code'] == prot]\n",
    "    target_pos_degree_randomized.append(sub_df['Y'].tolist().count(1))\n",
    "    target_degree_ratio_randomized.append(sub_df['Y'].tolist().count(1)/(sub_df['Y'].tolist().count(1)+sub_df['Y'].tolist().count(0)))"
   ]
  },
  {
   "cell_type": "code",
   "execution_count": 107,
   "metadata": {},
   "outputs": [
    {
     "data": {
      "text/plain": [
       "(array([  5.,  91., 267., 409., 180., 317., 164.,  64.,   6.,   4.]),\n",
       " array([ 0. ,  1.8,  3.6,  5.4,  7.2,  9. , 10.8, 12.6, 14.4, 16.2, 18. ]),\n",
       " <a list of 10 Patch objects>)"
      ]
     },
     "execution_count": 107,
     "metadata": {},
     "output_type": "execute_result"
    },
    {
     "data": {
      "image/png": "[encoded data removed]",
      "text/plain": [
       "<Figure size 432x288 with 1 Axes>"
      ]
     },
     "metadata": {
      "needs_background": "light"
     },
     "output_type": "display_data"
    }
   ],
   "source": [
    "plt.hist(target_pos_degree_randomized)"
   ]
  },
  {
   "cell_type": "markdown",
   "metadata": {},
   "source": [
    "# BindingDB Degree Ratios"
   ]
  },
  {
   "cell_type": "code",
   "execution_count": 185,
   "metadata": {},
   "outputs": [
    {
     "name": "stderr",
     "output_type": "stream",
     "text": [
      "100%|██████████| 13392/13392 [01:52<00:00, 119.30it/s]\n"
     ]
    }
   ],
   "source": [
    "ligand_pos_degree = []\n",
    "ligand_neg_degree = []\n",
    "ligand_annotations = []\n",
    "ligand_degree_ratio_bindingDB = []\n",
    "\n",
    "for chem in tqdm(set(all_data['SMILES'].tolist())):\n",
    "    sub_df = all_data[all_data['SMILES'] == chem]\n",
    "    ligand_pos_degree.append(sub_df['Label'].tolist().count(1))\n",
    "    ligand_neg_degree.append(sub_df['Label'].tolist().count(0))\n",
    "    ligand_annotations.append(len(sub_df))\n",
    "    ligand_degree_ratio_bindingDB.append(sub_df['Label'].tolist().count(1)/(sub_df['Label'].tolist().count(1)+sub_df['Label'].tolist().count(0)))"
   ]
  },
  {
   "cell_type": "code",
   "execution_count": 187,
   "metadata": {},
   "outputs": [],
   "source": [
    "binned_deg_ann, binned_ki_ann = log_binning_distribution(ligand_annotations,B = 20)\n",
    "binned_deg_pos, binned_ki_pos = log_binning_distribution(ligand_pos_degree,B = 20)\n",
    "binned_deg_neg, binned_ki_neg = log_binning_distribution(ligand_neg_degree,B = 20)"
   ]
  },
  {
   "cell_type": "code",
   "execution_count": 194,
   "metadata": {},
   "outputs": [
    {
     "data": {
      "text/plain": [
       "<matplotlib.legend.Legend at 0x7fc5844527b8>"
      ]
     },
     "execution_count": 194,
     "metadata": {},
     "output_type": "execute_result"
    },
    {
     "data": {
      "image/png": "[encoded data removed]",
      "text/plain": [
       "<Figure size 432x288 with 1 Axes>"
      ]
     },
     "metadata": {
      "needs_background": "light"
     },
     "output_type": "display_data"
    }
   ],
   "source": [
    "plt.scatter(binned_deg_ann, binned_ki_ann, label='Annotations')\n",
    "plt.scatter(binned_deg_pos, binned_ki_pos, label='Positive degree')\n",
    "plt.scatter(binned_deg_neg, binned_ki_neg, label='Negative degree')\n",
    "plt.xscale('log')\n",
    "plt.yscale('log')\n",
    "plt.title('Ligands')\n",
    "plt.legend()"
   ]
  },
  {
   "cell_type": "code",
   "execution_count": 190,
   "metadata": {
    "scrolled": true
   },
   "outputs": [
    {
     "data": {
      "text/plain": [
       "SpearmanrResult(correlation=0.19228830229942806, pvalue=1.0182463611750579e-111)"
      ]
     },
     "execution_count": 190,
     "metadata": {},
     "output_type": "execute_result"
    }
   ],
   "source": [
    "stats.spearmanr(ligand_pos_degree, ligand_annotations)"
   ]
  },
  {
   "cell_type": "code",
   "execution_count": 191,
   "metadata": {},
   "outputs": [
    {
     "data": {
      "text/plain": [
       "SpearmanrResult(correlation=0.5837365393100225, pvalue=0.0)"
      ]
     },
     "execution_count": 191,
     "metadata": {},
     "output_type": "execute_result"
    }
   ],
   "source": [
    "stats.spearmanr(ligand_neg_degree, ligand_annotations)"
   ]
  },
  {
   "cell_type": "code",
   "execution_count": 192,
   "metadata": {},
   "outputs": [
    {
     "data": {
      "text/plain": [
       "SpearmanrResult(correlation=-0.5965683639069678, pvalue=0.0)"
      ]
     },
     "execution_count": 192,
     "metadata": {},
     "output_type": "execute_result"
    }
   ],
   "source": [
    "stats.spearmanr(ligand_pos_degree, ligand_neg_degree)"
   ]
  },
  {
   "cell_type": "code",
   "execution_count": 195,
   "metadata": {},
   "outputs": [
    {
     "name": "stderr",
     "output_type": "stream",
     "text": [
      "100%|██████████| 1507/1507 [00:12<00:00, 118.27it/s]\n"
     ]
    }
   ],
   "source": [
    "target_annotations = []\n",
    "target_pos_degree = []\n",
    "target_neg_degree = []\n",
    "target_degree_ratio_bindingDB = []\n",
    "\n",
    "for prot in tqdm(set(all_data['Target Sequence'].tolist())):\n",
    "    sub_df = all_data[all_data['Target Sequence'] == prot]\n",
    "    target_pos_degree.append(sub_df['Label'].tolist().count(1))\n",
    "    target_neg_degree.append(sub_df['Label'].tolist().count(0))\n",
    "    target_annotations.append(len(sub_df))\n",
    "    target_degree_ratio_bindingDB.append(sub_df['Label'].tolist().count(1)/(sub_df['Label'].tolist().count(1)+sub_df['Label'].tolist().count(0)))"
   ]
  },
  {
   "cell_type": "code",
   "execution_count": 196,
   "metadata": {},
   "outputs": [],
   "source": [
    "binned_deg_ann, binned_ki_ann = log_binning_distribution(target_annotations,B = 20)\n",
    "binned_deg_pos, binned_ki_pos = log_binning_distribution(target_pos_degree,B = 20)\n",
    "binned_deg_neg, binned_ki_neg = log_binning_distribution(target_neg_degree,B = 20)"
   ]
  },
  {
   "cell_type": "code",
   "execution_count": 197,
   "metadata": {},
   "outputs": [
    {
     "data": {
      "text/plain": [
       "<matplotlib.legend.Legend at 0x7fc5adba62b0>"
      ]
     },
     "execution_count": 197,
     "metadata": {},
     "output_type": "execute_result"
    },
    {
     "data": {
      "image/png": "[encoded data removed]",
      "text/plain": [
       "<Figure size 432x288 with 1 Axes>"
      ]
     },
     "metadata": {
      "needs_background": "light"
     },
     "output_type": "display_data"
    }
   ],
   "source": [
    "plt.scatter(binned_deg_ann, binned_ki_ann, label='Annotations')\n",
    "plt.scatter(binned_deg_pos, binned_ki_pos, label='Positive degree')\n",
    "plt.scatter(binned_deg_neg, binned_ki_neg, label='Negative degree')\n",
    "plt.xscale('log')\n",
    "plt.yscale('log')\n",
    "plt.title('Targets')\n",
    "plt.legend()"
   ]
  },
  {
   "cell_type": "markdown",
   "metadata": {},
   "source": [
    "# Analysis of BindingDB Thresholding"
   ]
  },
  {
   "cell_type": "code",
   "execution_count": 198,
   "metadata": {
    "collapsed": true
   },
   "outputs": [
    {
     "name": "stderr",
     "output_type": "stream",
     "text": [
      "b'Skipping line 896772: expected 193 fields, saw 205\\nSkipping line 896798: expected 193 fields, saw 205\\n'\n",
      "b'Skipping line 929491: expected 193 fields, saw 205\\n'\n",
      "b'Skipping line 952161: expected 193 fields, saw 265\\n'\n",
      "b'Skipping line 1355895: expected 193 fields, saw 241\\n'\n",
      "b'Skipping line 1469800: expected 193 fields, saw 241\\nSkipping line 1469801: expected 193 fields, saw 241\\nSkipping line 1469802: expected 193 fields, saw 241\\nSkipping line 1469803: expected 193 fields, saw 241\\nSkipping line 1469804: expected 193 fields, saw 241\\nSkipping line 1469805: expected 193 fields, saw 241\\nSkipping line 1469806: expected 193 fields, saw 241\\nSkipping line 1469807: expected 193 fields, saw 241\\nSkipping line 1469808: expected 193 fields, saw 241\\n'\n",
      "b'Skipping line 1483073: expected 193 fields, saw 205\\n'\n",
      "b'Skipping line 1502296: expected 193 fields, saw 241\\nSkipping line 1502297: expected 193 fields, saw 241\\nSkipping line 1502298: expected 193 fields, saw 241\\nSkipping line 1502299: expected 193 fields, saw 241\\nSkipping line 1502300: expected 193 fields, saw 241\\nSkipping line 1502301: expected 193 fields, saw 241\\nSkipping line 1502302: expected 193 fields, saw 241\\nSkipping line 1502303: expected 193 fields, saw 241\\nSkipping line 1502304: expected 193 fields, saw 241\\n'\n",
      "b'Skipping line 1541474: expected 193 fields, saw 205\\n'\n",
      "b'Skipping line 1927945: expected 193 fields, saw 265\\n'\n",
      "b'Skipping line 2015166: expected 193 fields, saw 265\\nSkipping line 2015167: expected 193 fields, saw 265\\nSkipping line 2015168: expected 193 fields, saw 265\\nSkipping line 2015169: expected 193 fields, saw 265\\nSkipping line 2015170: expected 193 fields, saw 265\\nSkipping line 2015171: expected 193 fields, saw 265\\nSkipping line 2015172: expected 193 fields, saw 265\\nSkipping line 2015173: expected 193 fields, saw 265\\nSkipping line 2015174: expected 193 fields, saw 265\\nSkipping line 2015175: expected 193 fields, saw 265\\nSkipping line 2015176: expected 193 fields, saw 265\\nSkipping line 2015177: expected 193 fields, saw 265\\nSkipping line 2015178: expected 193 fields, saw 265\\nSkipping line 2015179: expected 193 fields, saw 265\\nSkipping line 2015180: expected 193 fields, saw 265\\nSkipping line 2015181: expected 193 fields, saw 265\\nSkipping line 2015182: expected 193 fields, saw 265\\nSkipping line 2015183: expected 193 fields, saw 265\\nSkipping line 2015184: expected 193 fields, saw 265\\n'\n",
      "b'Skipping line 2015802: expected 193 fields, saw 265\\nSkipping line 2015803: expected 193 fields, saw 265\\nSkipping line 2015804: expected 193 fields, saw 265\\nSkipping line 2015805: expected 193 fields, saw 265\\nSkipping line 2015806: expected 193 fields, saw 265\\nSkipping line 2015807: expected 193 fields, saw 265\\nSkipping line 2015808: expected 193 fields, saw 265\\n'\n",
      "b'Skipping line 2027219: expected 193 fields, saw 265\\nSkipping line 2027220: expected 193 fields, saw 265\\nSkipping line 2027221: expected 193 fields, saw 265\\nSkipping line 2027222: expected 193 fields, saw 265\\nSkipping line 2027223: expected 193 fields, saw 265\\nSkipping line 2027224: expected 193 fields, saw 265\\nSkipping line 2027225: expected 193 fields, saw 265\\nSkipping line 2027226: expected 193 fields, saw 265\\nSkipping line 2027227: expected 193 fields, saw 265\\nSkipping line 2027228: expected 193 fields, saw 265\\nSkipping line 2027229: expected 193 fields, saw 265\\nSkipping line 2027230: expected 193 fields, saw 265\\nSkipping line 2027231: expected 193 fields, saw 265\\nSkipping line 2027232: expected 193 fields, saw 265\\nSkipping line 2027233: expected 193 fields, saw 265\\nSkipping line 2027234: expected 193 fields, saw 265\\nSkipping line 2027235: expected 193 fields, saw 265\\nSkipping line 2027236: expected 193 fields, saw 265\\nSkipping line 2027237: expected 193 fields, saw 265\\nSkipping line 2027238: expected 193 fields, saw 265\\nSkipping line 2027239: expected 193 fields, saw 265\\nSkipping line 2027240: expected 193 fields, saw 265\\nSkipping line 2027241: expected 193 fields, saw 265\\nSkipping line 2027242: expected 193 fields, saw 265\\nSkipping line 2027243: expected 193 fields, saw 265\\nSkipping line 2027244: expected 193 fields, saw 265\\nSkipping line 2027245: expected 193 fields, saw 265\\nSkipping line 2027246: expected 193 fields, saw 265\\nSkipping line 2027247: expected 193 fields, saw 265\\nSkipping line 2027248: expected 193 fields, saw 265\\nSkipping line 2027249: expected 193 fields, saw 265\\nSkipping line 2027250: expected 193 fields, saw 265\\nSkipping line 2027251: expected 193 fields, saw 265\\nSkipping line 2027252: expected 193 fields, saw 265\\nSkipping line 2027253: expected 193 fields, saw 265\\nSkipping line 2027254: expected 193 fields, saw 265\\nSkipping line 2027255: expected 193 fields, saw 265\\nSkipping line 2027256: expected 193 fields, saw 265\\nSkipping line 2027257: expected 193 fields, saw 265\\n'\n",
      "b'Skipping line 2029854: expected 193 fields, saw 265\\nSkipping line 2029855: expected 193 fields, saw 265\\nSkipping line 2029856: expected 193 fields, saw 265\\nSkipping line 2029857: expected 193 fields, saw 265\\nSkipping line 2029858: expected 193 fields, saw 265\\nSkipping line 2029859: expected 193 fields, saw 265\\nSkipping line 2029860: expected 193 fields, saw 265\\nSkipping line 2029861: expected 193 fields, saw 265\\n'\n",
      "b'Skipping line 2042409: expected 193 fields, saw 313\\n'\n",
      "b'Skipping line 2059953: expected 193 fields, saw 637\\n'\n",
      "/miniconda/lib/python3.6/site-packages/IPython/core/interactiveshell.py:3063: DtypeWarning: Columns (8,9,10,11,12,13,15,17,18,19,20,26,27,31,32,34,35,46,49,50,51,52,53,54,61,62,63,64,65,66,73,74,75,76,77,78,85,86,87,88,89,90,97,98,99,100,101,102,109,110,111,112,113,114,121,122,123,124,125,126,133,134,135,136,137,138,145,147,148,149,150,157,158,159,160,161,162,169,171,172,173,174) have mixed types.Specify dtype option on import or set low_memory=False.\n",
      "  interactivity=interactivity, compiler=compiler, result=result)\n"
     ]
    }
   ],
   "source": [
    "df = pd.read_csv('/home/sars-busters-consolidated/data/BindingDB_All.tsv', sep = '\\t', error_bad_lines=False)"
   ]
  },
  {
   "cell_type": "code",
   "execution_count": 199,
   "metadata": {},
   "outputs": [],
   "source": [
    "df = df[df['Number of Protein Chains in Target (>1 implies a multichain complex)'] == 1.0]\n",
    "df = df[df['Ligand SMILES'].notnull()]\n",
    "\n",
    "idx_str = 'Kd (nM)'\n",
    "\n",
    "df_want = df[df[idx_str].notnull()]\n",
    "df_want = df_want[['BindingDB Reactant_set_id', 'Ligand InChI', 'Ligand SMILES',\\\n",
    "                    'PubChem CID', 'UniProt (SwissProt) Primary ID of Target Chain',\\\n",
    "                    'BindingDB Target Chain  Sequence', idx_str]]\n",
    "\n",
    "df_want.rename(columns={'BindingDB Reactant_set_id':'ID', 'Ligand SMILES':'SMILES',\\\n",
    "                        'Ligand InChI':'InChI', 'PubChem CID':'PubChem_ID',\n",
    "                        'UniProt (SwissProt) Primary ID of Target Chain':'UniProt_ID',\n",
    "                        'BindingDB Target Chain  Sequence': 'Target Sequence',\n",
    "                            idx_str: 'Label'}, inplace=True)"
   ]
  },
  {
   "cell_type": "code",
   "execution_count": 200,
   "metadata": {},
   "outputs": [
    {
     "name": "stdout",
     "output_type": "stream",
     "text": [
      "There are 70750 drug target pairs.\n"
     ]
    }
   ],
   "source": [
    "df_want['Label'] = df_want['Label'].str.replace('>', '')\n",
    "df_want['Label'] = df_want['Label'].str.replace('<', '')\n",
    "df_want['Label'] = df_want['Label'].astype(float)\n",
    "\n",
    "# have at least uniprot or pubchem ID\n",
    "df_want = df_want[df_want.PubChem_ID.notnull() | df_want.UniProt_ID.notnull()]\n",
    "df_want = df_want[df_want.InChI.notnull()]\n",
    "\n",
    "df_want = df_want[df_want.Label <= 10000000.0]\n",
    "print('There are ' + str(len(df_want)) + ' drug target pairs.')"
   ]
  },
  {
   "cell_type": "code",
   "execution_count": 209,
   "metadata": {},
   "outputs": [],
   "source": [
    "kd_list = list(df_want.Label.values)"
   ]
  },
  {
   "cell_type": "code",
   "execution_count": 299,
   "metadata": {},
   "outputs": [
    {
     "data": {
      "image/png": "[encoded data removed]",
      "text/plain": [
       "<Figure size 432x288 with 1 Axes>"
      ]
     },
     "metadata": {
      "needs_background": "light"
     },
     "output_type": "display_data"
    }
   ],
   "source": [
    "#plt.hist(kd_list, bins = 100)\n",
    "binned_kd, binned_pdf = log_binning_distribution(kd_list,B = 20)\n",
    "plt.scatter(binned_kd, binned_pdf)\n",
    "plt.axvline(x = 30, linestyle='--', alpha=0.4, color='#e34a33')\n",
    "plt.xscale('log')\n",
    "plt.yscale('log')\n",
    "plt.title('Kd distribution in BindingDB')\n",
    "plt.xlabel('Kd')\n",
    "plt.ylabel('pdf')\n",
    "# plt.legend()\n",
    "plt.show()"
   ]
  },
  {
   "cell_type": "code",
   "execution_count": 285,
   "metadata": {
    "scrolled": true
   },
   "outputs": [
    {
     "data": {
      "image/png": "[encoded data removed]",
      "text/plain": [
       "<Figure size 432x288 with 1 Axes>"
      ]
     },
     "metadata": {
      "needs_background": "light"
     },
     "output_type": "display_data"
    }
   ],
   "source": [
    "count, bins_count = np.histogram(kd_list, bins=50)\n",
    "pdf = count / sum(count)\n",
    "cdf = np.cumsum(pdf)\n",
    "\n",
    "plt.scatter(bins_count[1:], cdf, marker='o')\n",
    "plt.axvline(x = 30, linestyle='--', alpha=0.4, color='#e34a33')\n",
    "plt.title('Kd distribution in BindingDB')\n",
    "plt.xlabel('Kd')\n",
    "plt.ylabel('cdf')\n",
    "#plt.xscale('log')\n",
    "#plt.yscale('log')\n",
    "# plt.legend()\n",
    "plt.show()"
   ]
  },
  {
   "cell_type": "code",
   "execution_count": 239,
   "metadata": {},
   "outputs": [
    {
     "name": "stderr",
     "output_type": "stream",
     "text": [
      "100%|██████████| 70750/70750 [00:00<00:00, 569597.14it/s]\n"
     ]
    }
   ],
   "source": [
    "threshold = 30 ## in nM\n",
    "kd_pos = []\n",
    "kd_neg = []\n",
    "\n",
    "for x in tqdm(kd_list):\n",
    "    \n",
    "    if x < threshold:\n",
    "        kd_pos.append(x)\n",
    "        \n",
    "    if x >= threshold:\n",
    "        kd_neg.append(x)\n"
   ]
  },
  {
   "cell_type": "code",
   "execution_count": 240,
   "metadata": {},
   "outputs": [
    {
     "name": "stdout",
     "output_type": "stream",
     "text": [
      "Probability of observing binding annotation p:  0.16152650176678446\n",
      "Probability of observing non-binding annotation 1-p:  0.8384734982332156\n"
     ]
    }
   ],
   "source": [
    "print('Probability of observing binding annotation p: ', len(kd_pos)/len(kd_list))\n",
    "print('Probability of observing non-binding annotation 1-p: ', len(kd_neg)/len(kd_list))"
   ]
  },
  {
   "cell_type": "markdown",
   "metadata": {},
   "source": [
    "# Reshuffling Kd"
   ]
  },
  {
   "cell_type": "code",
   "execution_count": 263,
   "metadata": {},
   "outputs": [],
   "source": [
    "shuffled_kd = list(df_want.Label.values)\n",
    "np.random.shuffle(shuffled_kd)\n",
    "\n",
    "y = [1 if i < threshold else 0 for i in shuffled_kd]\n",
    "\n",
    "Kd_shuffled_data = pd.DataFrame()\n",
    "\n",
    "Kd_shuffled_data['SMILES'] = list(df_want.SMILES.values)\n",
    "Kd_shuffled_data['Target Sequence'] = list(df_want['Target Sequence'].values)\n",
    "Kd_shuffled_data['Label_Shuffled'] = y"
   ]
  },
  {
   "cell_type": "code",
   "execution_count": 264,
   "metadata": {},
   "outputs": [
    {
     "data": {
      "text/html": [
       "<div>\n",
       "<style scoped>\n",
       "    .dataframe tbody tr th:only-of-type {\n",
       "        vertical-align: middle;\n",
       "    }\n",
       "\n",
       "    .dataframe tbody tr th {\n",
       "        vertical-align: top;\n",
       "    }\n",
       "\n",
       "    .dataframe thead th {\n",
       "        text-align: right;\n",
       "    }\n",
       "</style>\n",
       "<table border=\"1\" class=\"dataframe\">\n",
       "  <thead>\n",
       "    <tr style=\"text-align: right;\">\n",
       "      <th></th>\n",
       "      <th>SMILES</th>\n",
       "      <th>Target Sequence</th>\n",
       "      <th>Label_Shuffled</th>\n",
       "    </tr>\n",
       "  </thead>\n",
       "  <tbody>\n",
       "    <tr>\n",
       "      <th>0</th>\n",
       "      <td>Cc1ccc(CNS(=O)(=O)c2ccc(s2)S(N)(=O)=O)cc1</td>\n",
       "      <td>MSHHWGYGKHNGPEHWHKDFPIAKGERQSPVDIDTHTAKYDPSLKP...</td>\n",
       "      <td>0</td>\n",
       "    </tr>\n",
       "    <tr>\n",
       "      <th>1</th>\n",
       "      <td>COc1ccc(CNS(=O)(=O)c2ccc(s2)S(N)(=O)=O)cc1</td>\n",
       "      <td>MSHHWGYGKHNGPEHWHKDFPIAKGERQSPVDIDTHTAKYDPSLKP...</td>\n",
       "      <td>1</td>\n",
       "    </tr>\n",
       "    <tr>\n",
       "      <th>2</th>\n",
       "      <td>NS(=O)(=O)c1ccc(s1)S(=O)(=O)NCc1cccs1</td>\n",
       "      <td>MSHHWGYGKHNGPEHWHKDFPIAKGERQSPVDIDTHTAKYDPSLKP...</td>\n",
       "      <td>0</td>\n",
       "    </tr>\n",
       "    <tr>\n",
       "      <th>3</th>\n",
       "      <td>NS(=O)(=O)c1cc2C(O)CN(Cc3cccs3)S(=O)(=O)c2s1</td>\n",
       "      <td>MSHHWGYGKHNGPEHWHKDFPIAKGERQSPVDIDTHTAKYDPSLKP...</td>\n",
       "      <td>1</td>\n",
       "    </tr>\n",
       "    <tr>\n",
       "      <th>4</th>\n",
       "      <td>COc1ccc(cc1)N1CC(O)c2cc(sc2S1(=O)=O)S(N)(=O)=O</td>\n",
       "      <td>MSHHWGYGKHNGPEHWHKDFPIAKGERQSPVDIDTHTAKYDPSLKP...</td>\n",
       "      <td>0</td>\n",
       "    </tr>\n",
       "    <tr>\n",
       "      <th>...</th>\n",
       "      <td>...</td>\n",
       "      <td>...</td>\n",
       "      <td>...</td>\n",
       "    </tr>\n",
       "    <tr>\n",
       "      <th>70745</th>\n",
       "      <td>CCCC(=O)c1ccc2Sc3ccccc3N(CCCN3CCN(C)CC3)c2c1</td>\n",
       "      <td>MKWVTFISLLLLFSSAYSRGVFRRDTHKSEIAHRFKDLGEEHFKGL...</td>\n",
       "      <td>0</td>\n",
       "    </tr>\n",
       "    <tr>\n",
       "      <th>70746</th>\n",
       "      <td>OCCN1CCN(CCCN2c3ccccc3Sc3ccc(Cl)cc23)CC1</td>\n",
       "      <td>MKWVTFISLLLLFSSAYSRGVFRRDTHKSEIAHRFKDLGEEHFKGL...</td>\n",
       "      <td>0</td>\n",
       "    </tr>\n",
       "    <tr>\n",
       "      <th>70747</th>\n",
       "      <td>CN(C)CCCN1c2ccccc2Sc2ccc(cc12)C#N</td>\n",
       "      <td>MKWVTFISLLLLFSSAYSRGVFRRDTHKSEIAHRFKDLGEEHFKGL...</td>\n",
       "      <td>1</td>\n",
       "    </tr>\n",
       "    <tr>\n",
       "      <th>70748</th>\n",
       "      <td>OCCN1CCN(CCCN2c3ccccc3Sc3ccc(cc23)C(F)(F)F)CC1</td>\n",
       "      <td>MKWVTFISLLLLFSSAYSRGVFRRDTHKSEIAHRFKDLGEEHFKGL...</td>\n",
       "      <td>0</td>\n",
       "    </tr>\n",
       "    <tr>\n",
       "      <th>70749</th>\n",
       "      <td>CC(CN1CCN(CCOCCO)CC1)CN1c2ccccc2Sc2ccccc12</td>\n",
       "      <td>MKWVTFISLLLLFSSAYSRGVFRRDTHKSEIAHRFKDLGEEHFKGL...</td>\n",
       "      <td>0</td>\n",
       "    </tr>\n",
       "  </tbody>\n",
       "</table>\n",
       "<p>70750 rows × 3 columns</p>\n",
       "</div>"
      ],
      "text/plain": [
       "                                               SMILES  \\\n",
       "0           Cc1ccc(CNS(=O)(=O)c2ccc(s2)S(N)(=O)=O)cc1   \n",
       "1          COc1ccc(CNS(=O)(=O)c2ccc(s2)S(N)(=O)=O)cc1   \n",
       "2               NS(=O)(=O)c1ccc(s1)S(=O)(=O)NCc1cccs1   \n",
       "3        NS(=O)(=O)c1cc2C(O)CN(Cc3cccs3)S(=O)(=O)c2s1   \n",
       "4      COc1ccc(cc1)N1CC(O)c2cc(sc2S1(=O)=O)S(N)(=O)=O   \n",
       "...                                               ...   \n",
       "70745    CCCC(=O)c1ccc2Sc3ccccc3N(CCCN3CCN(C)CC3)c2c1   \n",
       "70746        OCCN1CCN(CCCN2c3ccccc3Sc3ccc(Cl)cc23)CC1   \n",
       "70747               CN(C)CCCN1c2ccccc2Sc2ccc(cc12)C#N   \n",
       "70748  OCCN1CCN(CCCN2c3ccccc3Sc3ccc(cc23)C(F)(F)F)CC1   \n",
       "70749      CC(CN1CCN(CCOCCO)CC1)CN1c2ccccc2Sc2ccccc12   \n",
       "\n",
       "                                         Target Sequence  Label_Shuffled  \n",
       "0      MSHHWGYGKHNGPEHWHKDFPIAKGERQSPVDIDTHTAKYDPSLKP...               0  \n",
       "1      MSHHWGYGKHNGPEHWHKDFPIAKGERQSPVDIDTHTAKYDPSLKP...               1  \n",
       "2      MSHHWGYGKHNGPEHWHKDFPIAKGERQSPVDIDTHTAKYDPSLKP...               0  \n",
       "3      MSHHWGYGKHNGPEHWHKDFPIAKGERQSPVDIDTHTAKYDPSLKP...               1  \n",
       "4      MSHHWGYGKHNGPEHWHKDFPIAKGERQSPVDIDTHTAKYDPSLKP...               0  \n",
       "...                                                  ...             ...  \n",
       "70745  MKWVTFISLLLLFSSAYSRGVFRRDTHKSEIAHRFKDLGEEHFKGL...               0  \n",
       "70746  MKWVTFISLLLLFSSAYSRGVFRRDTHKSEIAHRFKDLGEEHFKGL...               0  \n",
       "70747  MKWVTFISLLLLFSSAYSRGVFRRDTHKSEIAHRFKDLGEEHFKGL...               1  \n",
       "70748  MKWVTFISLLLLFSSAYSRGVFRRDTHKSEIAHRFKDLGEEHFKGL...               0  \n",
       "70749  MKWVTFISLLLLFSSAYSRGVFRRDTHKSEIAHRFKDLGEEHFKGL...               0  \n",
       "\n",
       "[70750 rows x 3 columns]"
      ]
     },
     "execution_count": 264,
     "metadata": {},
     "output_type": "execute_result"
    }
   ],
   "source": [
    "Kd_shuffled_data"
   ]
  },
  {
   "cell_type": "markdown",
   "metadata": {},
   "source": [
    "## Ligands"
   ]
  },
  {
   "cell_type": "code",
   "execution_count": 265,
   "metadata": {
    "scrolled": true
   },
   "outputs": [
    {
     "name": "stderr",
     "output_type": "stream",
     "text": [
      "100%|██████████| 13392/13392 [01:52<00:00, 119.47it/s]\n"
     ]
    }
   ],
   "source": [
    "ligand_pos_degree_shuffled = []\n",
    "ligand_neg_degree_shuffled = []\n",
    "ligand_annotations_shuffled = []\n",
    "ligand_degree_ratio_bindingDB_shuffled = []\n",
    "\n",
    "for chem in tqdm(set(Kd_shuffled_data['SMILES'].tolist())):\n",
    "    sub_df = Kd_shuffled_data[Kd_shuffled_data['SMILES'] == chem]\n",
    "    ligand_pos_degree_shuffled.append(sub_df['Label_Shuffled'].tolist().count(1))\n",
    "    ligand_neg_degree_shuffled.append(sub_df['Label_Shuffled'].tolist().count(0))\n",
    "    ligand_annotations_shuffled.append(len(sub_df))\n",
    "    ligand_degree_ratio_bindingDB_shuffled.append(sub_df['Label_Shuffled'].tolist().count(1)/(sub_df['Label_Shuffled'].tolist().count(1)+sub_df['Label_Shuffled'].tolist().count(0)))"
   ]
  },
  {
   "cell_type": "code",
   "execution_count": 296,
   "metadata": {},
   "outputs": [
    {
     "data": {
      "text/plain": [
       "SpearmanrResult(correlation=0.8251966967089094, pvalue=0.0)"
      ]
     },
     "execution_count": 296,
     "metadata": {},
     "output_type": "execute_result"
    }
   ],
   "source": [
    "stats.spearmanr(ligand_annotations_shuffled, ligand_neg_degree_shuffled)"
   ]
  },
  {
   "cell_type": "code",
   "execution_count": 297,
   "metadata": {},
   "outputs": [
    {
     "data": {
      "text/plain": [
       "SpearmanrResult(correlation=0.32991408162620633, pvalue=0.0)"
      ]
     },
     "execution_count": 297,
     "metadata": {},
     "output_type": "execute_result"
    }
   ],
   "source": [
    "stats.spearmanr(ligand_pos_degree_shuffled, ligand_annotations_shuffled)"
   ]
  },
  {
   "cell_type": "code",
   "execution_count": 298,
   "metadata": {},
   "outputs": [
    {
     "data": {
      "text/plain": [
       "SpearmanrResult(correlation=-0.18021772069705663, pvalue=3.800885231178212e-98)"
      ]
     },
     "execution_count": 298,
     "metadata": {},
     "output_type": "execute_result"
    }
   ],
   "source": [
    "stats.spearmanr(ligand_pos_degree_shuffled, ligand_neg_degree_shuffled)"
   ]
  },
  {
   "cell_type": "code",
   "execution_count": 273,
   "metadata": {},
   "outputs": [
    {
     "data": {
      "image/png": "[encoded data removed]",
      "text/plain": [
       "<Figure size 432x288 with 1 Axes>"
      ]
     },
     "metadata": {
      "needs_background": "light"
     },
     "output_type": "display_data"
    }
   ],
   "source": [
    "binned_deg_ann, binned_ki_ann = log_binning_distribution(ligand_annotations,B = 20)\n",
    "#binned_deg_pos, binned_ki_pos = log_binning_distribution(ligand_pos_degree,B = 20)\n",
    "#binned_deg_neg, binned_ki_neg = log_binning_distribution(ligand_neg_degree,B = 20)\n",
    "\n",
    "plt.scatter(binned_deg_ann, binned_ki_ann, label='Annotations',alpha=0.2)\n",
    "#plt.scatter(binned_deg_pos, binned_ki_pos, label='Positive degree')\n",
    "#plt.scatter(binned_deg_neg, binned_ki_neg, label='Negative degree')\n",
    "\n",
    "binned_deg_ann, binned_ki_ann = log_binning_distribution(ligand_annotations_shuffled,B = 20)\n",
    "#binned_deg_pos, binned_ki_pos = log_binning_distribution(ligand_pos_degree_shuffled,B = 20)\n",
    "#binned_deg_neg, binned_ki_neg = log_binning_distribution(ligand_neg_degree_shuffled,B = 20)\n",
    "\n",
    "plt.scatter(binned_deg_ann, binned_ki_ann, label='Reshuffled Annotations', marker='x', alpha=0.4)\n",
    "#plt.scatter(binned_deg_pos, binned_ki_pos, label='Reshuffled Positive degree')\n",
    "#plt.scatter(binned_deg_neg, binned_ki_neg, label='Reshuffled Negative degree')\n",
    "plt.xscale('log')\n",
    "plt.yscale('log')\n",
    "plt.title('Shuffled Kd - Ligands')\n",
    "plt.legend()\n",
    "plt.show()"
   ]
  },
  {
   "cell_type": "code",
   "execution_count": 276,
   "metadata": {},
   "outputs": [
    {
     "data": {
      "text/plain": [
       "<matplotlib.legend.Legend at 0x7fc404b1deb8>"
      ]
     },
     "execution_count": 276,
     "metadata": {},
     "output_type": "execute_result"
    },
    {
     "data": {
      "image/png": "[encoded data removed]",
      "text/plain": [
       "<Figure size 432x288 with 1 Axes>"
      ]
     },
     "metadata": {
      "needs_background": "light"
     },
     "output_type": "display_data"
    }
   ],
   "source": [
    "binned_deg_pos, binned_ki_pos = log_binning_distribution(ligand_pos_degree,B = 20)\n",
    "\n",
    "plt.scatter(binned_deg_pos, binned_ki_pos, label='Positive degree',alpha=0.4)\n",
    "\n",
    "binned_deg_pos, binned_ki_pos = log_binning_distribution(ligand_pos_degree_shuffled,B = 20)\n",
    "\n",
    "plt.scatter(binned_deg_pos, binned_ki_pos, label='Reshuffled Positive degree',marker='x', alpha=0.4)\n",
    "\n",
    "plt.xscale('log')\n",
    "plt.yscale('log')\n",
    "plt.title('Shuffled Kd - Ligands')\n",
    "plt.legend()"
   ]
  },
  {
   "cell_type": "code",
   "execution_count": 277,
   "metadata": {},
   "outputs": [
    {
     "data": {
      "text/plain": [
       "<matplotlib.legend.Legend at 0x7fc5ab8c25f8>"
      ]
     },
     "execution_count": 277,
     "metadata": {},
     "output_type": "execute_result"
    },
    {
     "data": {
      "image/png": "[encoded data removed]",
      "text/plain": [
       "<Figure size 432x288 with 1 Axes>"
      ]
     },
     "metadata": {
      "needs_background": "light"
     },
     "output_type": "display_data"
    }
   ],
   "source": [
    "binned_deg_neg, binned_ki_neg = log_binning_distribution(ligand_neg_degree,B = 20)\n",
    "\n",
    "plt.scatter(binned_deg_neg, binned_ki_neg, label='Negative degree',alpha=0.4)\n",
    "\n",
    "binned_deg_neg, binned_ki_neg = log_binning_distribution(ligand_neg_degree_shuffled,B = 20)\n",
    "\n",
    "plt.scatter(binned_deg_neg, binned_ki_neg, label='Reshuffled Negative degree',marker='x', alpha=0.4)\n",
    "\n",
    "plt.xscale('log')\n",
    "plt.yscale('log')\n",
    "plt.title('Shuffled Kd - Ligands')\n",
    "plt.legend()"
   ]
  },
  {
   "cell_type": "markdown",
   "metadata": {},
   "source": [
    "## Degree Ratios with Reshuffling "
   ]
  },
  {
   "cell_type": "code",
   "execution_count": 282,
   "metadata": {},
   "outputs": [
    {
     "data": {
      "image/png": "[encoded data removed]",
      "text/plain": [
       "<Figure size 432x288 with 1 Axes>"
      ]
     },
     "metadata": {
      "needs_background": "light"
     },
     "output_type": "display_data"
    }
   ],
   "source": [
    "plt.hist(ligand_degree_ratio_bindingDB_shuffled,label='Shuffled Kd',alpha=0.2,density=True)\n",
    "plt.hist(ligand_degree_ratio_bindingDB, label='Original data',alpha=0.2,density=True, color='#e34a33')\n",
    "plt.axvline(x = np.mean(ligand_degree_ratio_bindingDB), linestyle='--', alpha=0.4, color='#e34a33')\n",
    "\n",
    "plt.legend()\n",
    "plt.xlabel('Ligand degree ratio')\n",
    "plt.ylabel('pdf')\n",
    "plt.show()"
   ]
  },
  {
   "cell_type": "code",
   "execution_count": 286,
   "metadata": {},
   "outputs": [
    {
     "data": {
      "text/plain": [
       "0.16141157427376587"
      ]
     },
     "execution_count": 286,
     "metadata": {},
     "output_type": "execute_result"
    }
   ],
   "source": [
    "np.mean(ligand_degree_ratio_bindingDB_shuffled) ## This is equal to p"
   ]
  },
  {
   "cell_type": "code",
   "execution_count": 288,
   "metadata": {},
   "outputs": [
    {
     "data": {
      "text/plain": [
       "0.3331005361246504"
      ]
     },
     "execution_count": 288,
     "metadata": {},
     "output_type": "execute_result"
    }
   ],
   "source": [
    "np.mean(ligand_degree_ratio_bindingDB)"
   ]
  },
  {
   "cell_type": "code",
   "execution_count": 283,
   "metadata": {},
   "outputs": [
    {
     "data": {
      "image/png": "[encoded data removed]",
      "text/plain": [
       "<Figure size 432x288 with 1 Axes>"
      ]
     },
     "metadata": {
      "needs_background": "light"
     },
     "output_type": "display_data"
    }
   ],
   "source": [
    "plt.hist(target_degree_ratio_bindingDB_shuffled,label='Shuffled Kd',alpha=0.2,density=True)\n",
    "plt.hist(target_degree_ratio_bindingDB, label='Original data',alpha=0.2,density=True, color='#e34a33')\n",
    "plt.axvline(x = np.mean(target_degree_ratio_bindingDB), linestyle='--', alpha=0.4, color='#e34a33')\n",
    "\n",
    "plt.legend()\n",
    "plt.xlabel('Target degree ratio')\n",
    "plt.ylabel('pdf')\n",
    "plt.show()"
   ]
  },
  {
   "cell_type": "code",
   "execution_count": 287,
   "metadata": {},
   "outputs": [
    {
     "data": {
      "text/plain": [
       "0.1652230394389105"
      ]
     },
     "execution_count": 287,
     "metadata": {},
     "output_type": "execute_result"
    }
   ],
   "source": [
    "np.mean(target_degree_ratio_bindingDB_shuffled) ## This is equal to p"
   ]
  },
  {
   "cell_type": "code",
   "execution_count": 289,
   "metadata": {},
   "outputs": [
    {
     "data": {
      "text/plain": [
       "0.24216754819807698"
      ]
     },
     "execution_count": 289,
     "metadata": {},
     "output_type": "execute_result"
    }
   ],
   "source": [
    "np.mean(target_degree_ratio_bindingDB)"
   ]
  },
  {
   "cell_type": "markdown",
   "metadata": {},
   "source": [
    "## Targets"
   ]
  },
  {
   "cell_type": "code",
   "execution_count": 278,
   "metadata": {},
   "outputs": [
    {
     "name": "stderr",
     "output_type": "stream",
     "text": [
      "100%|██████████| 1507/1507 [00:12<00:00, 119.56it/s]\n"
     ]
    }
   ],
   "source": [
    "target_pos_degree_shuffled = []\n",
    "target_neg_degree_shuffled = []\n",
    "target_annotations_shuffled = []\n",
    "target_degree_ratio_bindingDB_shuffled = []\n",
    "\n",
    "for chem in tqdm(set(Kd_shuffled_data['Target Sequence'].tolist())):\n",
    "    sub_df = Kd_shuffled_data[Kd_shuffled_data['Target Sequence'] == chem]\n",
    "    target_pos_degree_shuffled.append(sub_df['Label_Shuffled'].tolist().count(1))\n",
    "    target_neg_degree_shuffled.append(sub_df['Label_Shuffled'].tolist().count(0))\n",
    "    target_annotations_shuffled.append(len(sub_df))\n",
    "    target_degree_ratio_bindingDB_shuffled.append(sub_df['Label_Shuffled'].tolist().count(1)/(sub_df['Label_Shuffled'].tolist().count(1)+sub_df['Label_Shuffled'].tolist().count(0)))"
   ]
  },
  {
   "cell_type": "code",
   "execution_count": 293,
   "metadata": {},
   "outputs": [
    {
     "data": {
      "text/plain": [
       "SpearmanrResult(correlation=0.9128217963749675, pvalue=0.0)"
      ]
     },
     "execution_count": 293,
     "metadata": {},
     "output_type": "execute_result"
    }
   ],
   "source": [
    "stats.spearmanr(target_pos_degree_shuffled, target_annotations_shuffled)"
   ]
  },
  {
   "cell_type": "code",
   "execution_count": 294,
   "metadata": {},
   "outputs": [
    {
     "data": {
      "text/plain": [
       "SpearmanrResult(correlation=0.98999745479646, pvalue=0.0)"
      ]
     },
     "execution_count": 294,
     "metadata": {},
     "output_type": "execute_result"
    }
   ],
   "source": [
    "stats.spearmanr(target_neg_degree_shuffled, target_annotations_shuffled)"
   ]
  },
  {
   "cell_type": "code",
   "execution_count": 295,
   "metadata": {},
   "outputs": [
    {
     "data": {
      "text/plain": [
       "SpearmanrResult(correlation=0.8681214487637176, pvalue=0.0)"
      ]
     },
     "execution_count": 295,
     "metadata": {},
     "output_type": "execute_result"
    }
   ],
   "source": [
    "stats.spearmanr(target_pos_degree_shuffled, target_neg_degree_shuffled)"
   ]
  },
  {
   "cell_type": "code",
   "execution_count": 279,
   "metadata": {},
   "outputs": [
    {
     "data": {
      "image/png": "[encoded data removed]",
      "text/plain": [
       "<Figure size 432x288 with 1 Axes>"
      ]
     },
     "metadata": {
      "needs_background": "light"
     },
     "output_type": "display_data"
    }
   ],
   "source": [
    "binned_deg_ann, binned_ki_ann = log_binning_distribution(target_annotations,B = 20)\n",
    "#binned_deg_pos, binned_ki_pos = log_binning_distribution(target_pos_degree,B = 20)\n",
    "#binned_deg_neg, binned_ki_neg = log_binning_distribution(target_neg_degree,B = 20)\n",
    "\n",
    "plt.scatter(binned_deg_ann, binned_ki_ann, label='Annotations',alpha=0.2)\n",
    "#plt.scatter(binned_deg_pos, binned_ki_pos, label='Positive degree')\n",
    "#plt.scatter(binned_deg_neg, binned_ki_neg, label='Negative degree')\n",
    "\n",
    "binned_deg_ann, binned_ki_ann = log_binning_distribution(target_annotations_shuffled,B = 20)\n",
    "#binned_deg_pos, binned_ki_pos = log_binning_distribution(target_pos_degree_shuffled,B = 20)\n",
    "#binned_deg_neg, binned_ki_neg = log_binning_distribution(target_neg_degree_shuffled,B = 20)\n",
    "\n",
    "plt.scatter(binned_deg_ann, binned_ki_ann, label='Reshuffled Annotations', marker='x', alpha=0.4)\n",
    "#plt.scatter(binned_deg_pos, binned_ki_pos, label='Reshuffled Positive degree')\n",
    "#plt.scatter(binned_deg_neg, binned_ki_neg, label='Reshuffled Negative degree')\n",
    "plt.xscale('log')\n",
    "plt.yscale('log')\n",
    "plt.title('Shuffled Kd - Targets')\n",
    "plt.legend()\n",
    "plt.show()"
   ]
  },
  {
   "cell_type": "code",
   "execution_count": 280,
   "metadata": {},
   "outputs": [
    {
     "data": {
      "text/plain": [
       "<matplotlib.legend.Legend at 0x7fc5653498d0>"
      ]
     },
     "execution_count": 280,
     "metadata": {},
     "output_type": "execute_result"
    },
    {
     "data": {
      "image/png": "[encoded data removed]",
      "text/plain": [
       "<Figure size 432x288 with 1 Axes>"
      ]
     },
     "metadata": {
      "needs_background": "light"
     },
     "output_type": "display_data"
    }
   ],
   "source": [
    "binned_deg_pos, binned_ki_pos = log_binning_distribution(target_pos_degree,B = 20)\n",
    "\n",
    "plt.scatter(binned_deg_pos, binned_ki_pos, label='Positive degree',alpha=0.4)\n",
    "\n",
    "binned_deg_pos, binned_ki_pos = log_binning_distribution(target_pos_degree_shuffled,B = 20)\n",
    "\n",
    "plt.scatter(binned_deg_pos, binned_ki_pos, label='Reshuffled Positive degree',marker='x', alpha=0.4)\n",
    "\n",
    "plt.xscale('log')\n",
    "plt.yscale('log')\n",
    "plt.title('Shuffled Kd - Targets')\n",
    "plt.legend()"
   ]
  },
  {
   "cell_type": "code",
   "execution_count": 281,
   "metadata": {},
   "outputs": [
    {
     "data": {
      "text/plain": [
       "<matplotlib.legend.Legend at 0x7fc42084abe0>"
      ]
     },
     "execution_count": 281,
     "metadata": {},
     "output_type": "execute_result"
    },
    {
     "data": {
      "image/png": "[encoded data removed]",
      "text/plain": [
       "<Figure size 432x288 with 1 Axes>"
      ]
     },
     "metadata": {
      "needs_background": "light"
     },
     "output_type": "display_data"
    }
   ],
   "source": [
    "binned_deg_neg, binned_ki_neg = log_binning_distribution(target_neg_degree,B = 20)\n",
    "\n",
    "plt.scatter(binned_deg_neg, binned_ki_neg, label='Negative degree',alpha=0.4)\n",
    "\n",
    "binned_deg_neg, binned_ki_neg = log_binning_distribution(target_neg_degree_shuffled,B = 20)\n",
    "\n",
    "plt.scatter(binned_deg_neg, binned_ki_neg, label='Reshuffled Negative degree',marker='x', alpha=0.4)\n",
    "\n",
    "plt.xscale('log')\n",
    "plt.yscale('log')\n",
    "plt.title('Shuffled Kd - Targets')\n",
    "plt.legend()"
   ]
  },
  {
   "cell_type": "markdown",
   "metadata": {},
   "source": [
    "# Distribution of Degree Ratios"
   ]
  },
  {
   "cell_type": "code",
   "execution_count": 122,
   "metadata": {},
   "outputs": [
    {
     "data": {
      "image/png": "[encoded data removed]",
      "text/plain": [
       "<Figure size 432x288 with 1 Axes>"
      ]
     },
     "metadata": {
      "needs_background": "light"
     },
     "output_type": "display_data"
    }
   ],
   "source": [
    "plt.hist(ligand_degree_ratio_randomized,label='Randomized Layers',alpha=0.2,density=True)\n",
    "plt.hist(ligand_degree_ratio_bindingDB, label='Original data',alpha=0.2,density=True, color='#e34a33')\n",
    "plt.axvline(x = np.mean(ligand_degree_ratio_bindingDB), linestyle='--', alpha=0.4, color='#e34a33')\n",
    "\n",
    "plt.legend()\n",
    "plt.xlabel('Ligand degree ratio')\n",
    "plt.ylabel('pdf')\n",
    "plt.show()"
   ]
  },
  {
   "cell_type": "code",
   "execution_count": 118,
   "metadata": {},
   "outputs": [
    {
     "data": {
      "image/png": "[encoded data removed]",
      "text/plain": [
       "<Figure size 432x288 with 1 Axes>"
      ]
     },
     "metadata": {
      "needs_background": "light"
     },
     "output_type": "display_data"
    }
   ],
   "source": [
    "plt.hist(target_degree_ratio_randomized,label='Randomized Layers',alpha=0.2,density=True)\n",
    "plt.hist(target_degree_ratio_bindingDB, label='Original data',alpha=0.2,density=True, color='#e34a33')\n",
    "plt.axvline(x = np.mean(target_degree_ratio_bindingDB), linestyle='--', alpha=0.4, color='#e34a33')\n",
    "\n",
    "plt.legend()\n",
    "plt.xlabel('Target degree ratio')\n",
    "plt.ylabel('pdf')\n",
    "plt.show()"
   ]
  },
  {
   "cell_type": "markdown",
   "metadata": {},
   "source": [
    "# Test for Poisson Distributions"
   ]
  },
  {
   "cell_type": "code",
   "execution_count": 148,
   "metadata": {},
   "outputs": [
    {
     "name": "stderr",
     "output_type": "stream",
     "text": [
      "100%|██████████| 100000/100000 [00:00<00:00, 212006.46it/s]\n"
     ]
    }
   ],
   "source": [
    "x1_list = []\n",
    "x2_list = []\n",
    "rho_list = []\n",
    "\n",
    "for i in tqdm(range(100000)):\n",
    "    x1 = np.random.poisson(lam=0.5)\n",
    "    x2 = np.random.poisson(lam=0.5)\n",
    "    if x1 + x2 != 0:\n",
    "        x1_list.append(x1)\n",
    "        x2_list.append(x2)\n",
    "        rho_list.append(x1/(x1+x2))"
   ]
  },
  {
   "cell_type": "code",
   "execution_count": 149,
   "metadata": {},
   "outputs": [
    {
     "data": {
      "text/plain": [
       "Text(0, 0.5, 'pdf')"
      ]
     },
     "execution_count": 149,
     "metadata": {},
     "output_type": "execute_result"
    },
    {
     "data": {
      "image/png": "[encoded data removed]",
      "text/plain": [
       "<Figure size 432x288 with 1 Axes>"
      ]
     },
     "metadata": {
      "needs_background": "light"
     },
     "output_type": "display_data"
    }
   ],
   "source": [
    "#plt.hist(x1_list,alpha=0.2,label='x1',density=True)\n",
    "#plt.hist(x2_list,alpha=0.2,label='x2',density=True)\n",
    "plt.hist(rho_list,alpha=0.2,label='rho',density=True)\n",
    "\n",
    "plt.legend()\n",
    "plt.xlabel('Values')\n",
    "plt.ylabel('pdf')"
   ]
  },
  {
   "cell_type": "code",
   "execution_count": 137,
   "metadata": {
    "scrolled": true
   },
   "outputs": [
    {
     "name": "stderr",
     "output_type": "stream",
     "text": [
      "100%|██████████| 100000/100000 [00:01<00:00, 89814.48it/s]\n"
     ]
    }
   ],
   "source": [
    "x1_list = []\n",
    "x2_list = []\n",
    "rho_list = []\n",
    "\n",
    "for i in tqdm(range(100000)):\n",
    "    x1 = np.random.normal(loc=4, scale=1.0)\n",
    "    x2 = np.random.normal(loc=5, scale=1.0)\n",
    "    if x1 + x2 != 0:\n",
    "        x1_list.append(x1)\n",
    "        x2_list.append(x2)\n",
    "        rho_list.append(x1/(x1+x2))"
   ]
  },
  {
   "cell_type": "code",
   "execution_count": 138,
   "metadata": {},
   "outputs": [
    {
     "data": {
      "text/plain": [
       "Text(0, 0.5, 'pdf')"
      ]
     },
     "execution_count": 138,
     "metadata": {},
     "output_type": "execute_result"
    },
    {
     "data": {
      "image/png": "[encoded data removed]",
      "text/plain": [
       "<Figure size 432x288 with 1 Axes>"
      ]
     },
     "metadata": {
      "needs_background": "light"
     },
     "output_type": "display_data"
    }
   ],
   "source": [
    "#plt.hist(x1_list,alpha=0.2,label='x1',density=True)\n",
    "#plt.hist(x2_list,alpha=0.2,label='x2',density=True)\n",
    "plt.hist(rho_list,alpha=0.2,label='rho',density=True)\n",
    "\n",
    "plt.legend()\n",
    "plt.xlabel('Values')\n",
    "plt.ylabel('pdf')"
   ]
  },
  {
   "cell_type": "code",
   "execution_count": 140,
   "metadata": {},
   "outputs": [
    {
     "name": "stderr",
     "output_type": "stream",
     "text": [
      "100%|██████████| 100000/100000 [00:00<00:00, 254867.07it/s]\n"
     ]
    }
   ],
   "source": [
    "x1_list = []\n",
    "x2_list = []\n",
    "rho_list = []\n",
    "\n",
    "for i in tqdm(range(100000)):\n",
    "    x1 = np.random.power(3.3)\n",
    "    x2 = np.random.power(3.4)\n",
    "    if x1 + x2 != 0:\n",
    "        x1_list.append(x1)\n",
    "        x2_list.append(x2)\n",
    "        rho_list.append(x1/(x1+x2))"
   ]
  },
  {
   "cell_type": "code",
   "execution_count": 141,
   "metadata": {},
   "outputs": [
    {
     "data": {
      "text/plain": [
       "Text(0, 0.5, 'pdf')"
      ]
     },
     "execution_count": 141,
     "metadata": {},
     "output_type": "execute_result"
    },
    {
     "data": {
      "image/png": "[encoded data removed]",
      "text/plain": [
       "<Figure size 432x288 with 1 Axes>"
      ]
     },
     "metadata": {
      "needs_background": "light"
     },
     "output_type": "display_data"
    }
   ],
   "source": [
    "#plt.hist(x1_list,alpha=0.2,label='x1',density=True)\n",
    "#plt.hist(x2_list,alpha=0.2,label='x2',density=True)\n",
    "plt.hist(rho_list,alpha=0.2,label='rho',density=True)\n",
    "\n",
    "plt.legend()\n",
    "plt.xlabel('Values')\n",
    "plt.ylabel('pdf')"
   ]
  },
  {
   "cell_type": "markdown",
   "metadata": {},
   "source": [
    "# Duplex Configuration Model on Randomized Version"
   ]
  },
  {
   "cell_type": "code",
   "execution_count": 150,
   "metadata": {},
   "outputs": [
    {
     "data": {
      "text/html": [
       "<div>\n",
       "<style scoped>\n",
       "    .dataframe tbody tr th:only-of-type {\n",
       "        vertical-align: middle;\n",
       "    }\n",
       "\n",
       "    .dataframe tbody tr th {\n",
       "        vertical-align: top;\n",
       "    }\n",
       "\n",
       "    .dataframe thead th {\n",
       "        text-align: right;\n",
       "    }\n",
       "</style>\n",
       "<table border=\"1\" class=\"dataframe\">\n",
       "  <thead>\n",
       "    <tr style=\"text-align: right;\">\n",
       "      <th></th>\n",
       "      <th>SMILE</th>\n",
       "      <th>target_aa_code</th>\n",
       "      <th>Y</th>\n",
       "    </tr>\n",
       "  </thead>\n",
       "  <tbody>\n",
       "    <tr>\n",
       "      <th>0</th>\n",
       "      <td>CC[C@H](C)[C@H](NC(=O)[C@@H](N)CCC(N)=O)C(=O)N...</td>\n",
       "      <td>MPKRGKKGAVAEDGDELRTEPEAKKSKTAAKKNDKEAAGEGPALYE...</td>\n",
       "      <td>1</td>\n",
       "    </tr>\n",
       "    <tr>\n",
       "      <th>1</th>\n",
       "      <td>Fc1ccc(c(F)c1)S(=O)(=O)Nc1cncc(c1)-c1cnc2[nH]c...</td>\n",
       "      <td>MEMYETLGKVGEGSYGTVMKCKHKNTGQIVAIKIFYERPEQSVNKI...</td>\n",
       "      <td>1</td>\n",
       "    </tr>\n",
       "    <tr>\n",
       "      <th>2</th>\n",
       "      <td>CC(C)C[C@H](NC(=O)CNC(=O)CNC(=O)[C@H](Cc1ccccc...</td>\n",
       "      <td>MGMACLTMTEMEGTSTSSIYQNGDISGNANSMKQIDPVLQVYLYHS...</td>\n",
       "      <td>1</td>\n",
       "    </tr>\n",
       "    <tr>\n",
       "      <th>3</th>\n",
       "      <td>CO[C@@]1(CN2CCC1CC2)C#C[C@@](O)(C1CCCCCCC1)c1c...</td>\n",
       "      <td>MSIEIPAGLTELLQGFTVEVLRHQPADLLEFALQHFTRLQQENERK...</td>\n",
       "      <td>1</td>\n",
       "    </tr>\n",
       "    <tr>\n",
       "      <th>4</th>\n",
       "      <td>CC1CC(CC(C)(C)C1)OCC(O)CNC(C)(C)C</td>\n",
       "      <td>MWNLLHETDSAVATARRPRWLCAGALVLAGGFFLLGFLFGWFIKSS...</td>\n",
       "      <td>1</td>\n",
       "    </tr>\n",
       "    <tr>\n",
       "      <th>...</th>\n",
       "      <td>...</td>\n",
       "      <td>...</td>\n",
       "      <td>...</td>\n",
       "    </tr>\n",
       "    <tr>\n",
       "      <th>70712</th>\n",
       "      <td>CCCN1CCN(CC1)c1nc2cnccc2o1</td>\n",
       "      <td>MESYHKPDQQKLQALKDTANRLRISSIQATTAAGSGHPTSCCSAAE...</td>\n",
       "      <td>0</td>\n",
       "    </tr>\n",
       "    <tr>\n",
       "      <th>70713</th>\n",
       "      <td>CC(C)[C@H](NC(=O)[C@@H](Cc1c[nH]c2ccccc12)NC(=...</td>\n",
       "      <td>MASESETLNPSARIMTFYPTMEEFRNFSRYIAYIESQGAHRAGLAK...</td>\n",
       "      <td>0</td>\n",
       "    </tr>\n",
       "    <tr>\n",
       "      <th>70714</th>\n",
       "      <td>CN(CCCNc1nc(Nc2ccc(OCCCOCCCCOCCCOCC(=O)N[C@H](...</td>\n",
       "      <td>MADQLTEEQIAEFKEAFSLFDKDGDGTITTKELGTVMRSLGQNPTE...</td>\n",
       "      <td>0</td>\n",
       "    </tr>\n",
       "    <tr>\n",
       "      <th>70715</th>\n",
       "      <td>COc1cc2ccc3O[C@@H]([C@@H](N)Cc3c2cc1OC)c1cc(F)...</td>\n",
       "      <td>MWNLLHETDSAVATARRPRWLCAGALVLAGGFFLLGFLFGWFIKSS...</td>\n",
       "      <td>0</td>\n",
       "    </tr>\n",
       "    <tr>\n",
       "      <th>70716</th>\n",
       "      <td>C[C@@H](O)[C@@H]1NC(=O)[C@@H]2CCCN2C(=O)CN(CCC...</td>\n",
       "      <td>MKIPNIGNVMNKFEILGVVGEGAYGVVLKCRHKETHEIVAIKKFKD...</td>\n",
       "      <td>0</td>\n",
       "    </tr>\n",
       "  </tbody>\n",
       "</table>\n",
       "<p>70717 rows × 3 columns</p>\n",
       "</div>"
      ],
      "text/plain": [
       "                                                   SMILE  \\\n",
       "0      CC[C@H](C)[C@H](NC(=O)[C@@H](N)CCC(N)=O)C(=O)N...   \n",
       "1      Fc1ccc(c(F)c1)S(=O)(=O)Nc1cncc(c1)-c1cnc2[nH]c...   \n",
       "2      CC(C)C[C@H](NC(=O)CNC(=O)CNC(=O)[C@H](Cc1ccccc...   \n",
       "3      CO[C@@]1(CN2CCC1CC2)C#C[C@@](O)(C1CCCCCCC1)c1c...   \n",
       "4                      CC1CC(CC(C)(C)C1)OCC(O)CNC(C)(C)C   \n",
       "...                                                  ...   \n",
       "70712                         CCCN1CCN(CC1)c1nc2cnccc2o1   \n",
       "70713  CC(C)[C@H](NC(=O)[C@@H](Cc1c[nH]c2ccccc12)NC(=...   \n",
       "70714  CN(CCCNc1nc(Nc2ccc(OCCCOCCCCOCCCOCC(=O)N[C@H](...   \n",
       "70715  COc1cc2ccc3O[C@@H]([C@@H](N)Cc3c2cc1OC)c1cc(F)...   \n",
       "70716  C[C@@H](O)[C@@H]1NC(=O)[C@@H]2CCCN2C(=O)CN(CCC...   \n",
       "\n",
       "                                          target_aa_code  Y  \n",
       "0      MPKRGKKGAVAEDGDELRTEPEAKKSKTAAKKNDKEAAGEGPALYE...  1  \n",
       "1      MEMYETLGKVGEGSYGTVMKCKHKNTGQIVAIKIFYERPEQSVNKI...  1  \n",
       "2      MGMACLTMTEMEGTSTSSIYQNGDISGNANSMKQIDPVLQVYLYHS...  1  \n",
       "3      MSIEIPAGLTELLQGFTVEVLRHQPADLLEFALQHFTRLQQENERK...  1  \n",
       "4      MWNLLHETDSAVATARRPRWLCAGALVLAGGFFLLGFLFGWFIKSS...  1  \n",
       "...                                                  ... ..  \n",
       "70712  MESYHKPDQQKLQALKDTANRLRISSIQATTAAGSGHPTSCCSAAE...  0  \n",
       "70713  MASESETLNPSARIMTFYPTMEEFRNFSRYIAYIESQGAHRAGLAK...  0  \n",
       "70714  MADQLTEEQIAEFKEAFSLFDKDGDGTITTKELGTVMRSLGQNPTE...  0  \n",
       "70715  MWNLLHETDSAVATARRPRWLCAGALVLAGGFFLLGFLFGWFIKSS...  0  \n",
       "70716  MKIPNIGNVMNKFEILGVVGEGAYGVVLKCRHKETHEIVAIKKFKD...  0  \n",
       "\n",
       "[70717 rows x 3 columns]"
      ]
     },
     "execution_count": 150,
     "metadata": {},
     "output_type": "execute_result"
    }
   ],
   "source": [
    "randomized_samples"
   ]
  },
  {
   "cell_type": "code",
   "execution_count": 151,
   "metadata": {},
   "outputs": [],
   "source": [
    "from sklearn.model_selection import train_test_split\n",
    "\n",
    "train, test = train_test_split(randomized_samples, test_size=0.3)"
   ]
  },
  {
   "cell_type": "code",
   "execution_count": 152,
   "metadata": {},
   "outputs": [
    {
     "data": {
      "text/html": [
       "<div>\n",
       "<style scoped>\n",
       "    .dataframe tbody tr th:only-of-type {\n",
       "        vertical-align: middle;\n",
       "    }\n",
       "\n",
       "    .dataframe tbody tr th {\n",
       "        vertical-align: top;\n",
       "    }\n",
       "\n",
       "    .dataframe thead th {\n",
       "        text-align: right;\n",
       "    }\n",
       "</style>\n",
       "<table border=\"1\" class=\"dataframe\">\n",
       "  <thead>\n",
       "    <tr style=\"text-align: right;\">\n",
       "      <th></th>\n",
       "      <th>SMILE</th>\n",
       "      <th>target_aa_code</th>\n",
       "      <th>Y</th>\n",
       "    </tr>\n",
       "  </thead>\n",
       "  <tbody>\n",
       "    <tr>\n",
       "      <th>50192</th>\n",
       "      <td>Cc1cc(NC(=O)c2ccc(Br)cc2)[nH]n1</td>\n",
       "      <td>MALLRDVSLQDPRDRFELLQRVGAGTYGDVYKARDTVTSELAAVKI...</td>\n",
       "      <td>0</td>\n",
       "    </tr>\n",
       "    <tr>\n",
       "      <th>16982</th>\n",
       "      <td>CC(C)C[C@H](NC(=O)CCCCNC(=O)c1cc(ccc1-c1c2ccc(...</td>\n",
       "      <td>MAENKGGGEAESGGGGSGSAPVTAGAAGPAAQEAEPPLTAVLVEEE...</td>\n",
       "      <td>0</td>\n",
       "    </tr>\n",
       "    <tr>\n",
       "      <th>38430</th>\n",
       "      <td>CSc1nc(Cl)c(C=O)c(NCc2ccc(cc2)S(N)(=O)=O)n1</td>\n",
       "      <td>MRGARGAWDFLCVLLLLLRVQTGSSQPSVSPGEPSPPSIHPGKSDL...</td>\n",
       "      <td>0</td>\n",
       "    </tr>\n",
       "    <tr>\n",
       "      <th>62503</th>\n",
       "      <td>CC(=C)CCNc1ncnc2n(cnc12)[C@@H]1O[C@H](CO)[C@@H...</td>\n",
       "      <td>MSQERPTFYRQELNKTIWEVPERYQNLSPVGSGAYGSVCAAFDTKT...</td>\n",
       "      <td>0</td>\n",
       "    </tr>\n",
       "    <tr>\n",
       "      <th>15280</th>\n",
       "      <td>CC[C@H](C)[C@H](NC(=O)[C@@H](C[C@H](O)[C@H](CC...</td>\n",
       "      <td>MFQASMRSPNMEPFKQQKVEDFYDIGEELGSGQFAIVKKCREKSTG...</td>\n",
       "      <td>0</td>\n",
       "    </tr>\n",
       "    <tr>\n",
       "      <th>...</th>\n",
       "      <td>...</td>\n",
       "      <td>...</td>\n",
       "      <td>...</td>\n",
       "    </tr>\n",
       "    <tr>\n",
       "      <th>13767</th>\n",
       "      <td>CC(C)(C)C(=O)CN1c2ccccc2C(=NN(CC(=O)Nc2cccc(c2...</td>\n",
       "      <td>MEEEEGAVAKEWGTTPAGPVWTAVFDYEAAGDEELTLRRGDRVQVL...</td>\n",
       "      <td>0</td>\n",
       "    </tr>\n",
       "    <tr>\n",
       "      <th>434</th>\n",
       "      <td>Cc1c(C)c2OC(C)(CCc2c(C)c1O)C(=O)NCCO[N+]([O-])=O</td>\n",
       "      <td>HHHHHHHHMLARALLLCAVLALSHTANPCCSHPCQNRGVCMSVGFD...</td>\n",
       "      <td>1</td>\n",
       "    </tr>\n",
       "    <tr>\n",
       "      <th>40610</th>\n",
       "      <td>OC1CCN(Cc2cc(NC(=O)CN3CCCCC3)cc(Nc3ccnc4cc(Cl)...</td>\n",
       "      <td>MSGPVTFEKTFRRDALIDIEKKYQKVWAEEKVFEVDAPTFEECPIE...</td>\n",
       "      <td>0</td>\n",
       "    </tr>\n",
       "    <tr>\n",
       "      <th>508</th>\n",
       "      <td>C[C@H](O)CNc1cc(ccn1)-n1c(nc2ccccc12)-c1ccc2cc...</td>\n",
       "      <td>MKANLLVLLCALAAADADTICIGYHANNSTDTVDTVLEKNVTVTHS...</td>\n",
       "      <td>1</td>\n",
       "    </tr>\n",
       "    <tr>\n",
       "      <th>47356</th>\n",
       "      <td>Cc1ccc(cc1)-n1nc(cc1NC(=O)Nc1nc(CCOCc2ccncc2)c...</td>\n",
       "      <td>MCFSFIMPPAMADILDIWAVDSQIASDGSIPVDFLLPTGIYIQLEV...</td>\n",
       "      <td>0</td>\n",
       "    </tr>\n",
       "  </tbody>\n",
       "</table>\n",
       "<p>49501 rows × 3 columns</p>\n",
       "</div>"
      ],
      "text/plain": [
       "                                                   SMILE  \\\n",
       "50192                    Cc1cc(NC(=O)c2ccc(Br)cc2)[nH]n1   \n",
       "16982  CC(C)C[C@H](NC(=O)CCCCNC(=O)c1cc(ccc1-c1c2ccc(...   \n",
       "38430        CSc1nc(Cl)c(C=O)c(NCc2ccc(cc2)S(N)(=O)=O)n1   \n",
       "62503  CC(=C)CCNc1ncnc2n(cnc12)[C@@H]1O[C@H](CO)[C@@H...   \n",
       "15280  CC[C@H](C)[C@H](NC(=O)[C@@H](C[C@H](O)[C@H](CC...   \n",
       "...                                                  ...   \n",
       "13767  CC(C)(C)C(=O)CN1c2ccccc2C(=NN(CC(=O)Nc2cccc(c2...   \n",
       "434     Cc1c(C)c2OC(C)(CCc2c(C)c1O)C(=O)NCCO[N+]([O-])=O   \n",
       "40610  OC1CCN(Cc2cc(NC(=O)CN3CCCCC3)cc(Nc3ccnc4cc(Cl)...   \n",
       "508    C[C@H](O)CNc1cc(ccn1)-n1c(nc2ccccc12)-c1ccc2cc...   \n",
       "47356  Cc1ccc(cc1)-n1nc(cc1NC(=O)Nc1nc(CCOCc2ccncc2)c...   \n",
       "\n",
       "                                          target_aa_code  Y  \n",
       "50192  MALLRDVSLQDPRDRFELLQRVGAGTYGDVYKARDTVTSELAAVKI...  0  \n",
       "16982  MAENKGGGEAESGGGGSGSAPVTAGAAGPAAQEAEPPLTAVLVEEE...  0  \n",
       "38430  MRGARGAWDFLCVLLLLLRVQTGSSQPSVSPGEPSPPSIHPGKSDL...  0  \n",
       "62503  MSQERPTFYRQELNKTIWEVPERYQNLSPVGSGAYGSVCAAFDTKT...  0  \n",
       "15280  MFQASMRSPNMEPFKQQKVEDFYDIGEELGSGQFAIVKKCREKSTG...  0  \n",
       "...                                                  ... ..  \n",
       "13767  MEEEEGAVAKEWGTTPAGPVWTAVFDYEAAGDEELTLRRGDRVQVL...  0  \n",
       "434    HHHHHHHHMLARALLLCAVLALSHTANPCCSHPCQNRGVCMSVGFD...  1  \n",
       "40610  MSGPVTFEKTFRRDALIDIEKKYQKVWAEEKVFEVDAPTFEECPIE...  0  \n",
       "508    MKANLLVLLCALAAADADTICIGYHANNSTDTVDTVLEKNVTVTHS...  1  \n",
       "47356  MCFSFIMPPAMADILDIWAVDSQIASDGSIPVDFLLPTGIYIQLEV...  0  \n",
       "\n",
       "[49501 rows x 3 columns]"
      ]
     },
     "execution_count": 152,
     "metadata": {},
     "output_type": "execute_result"
    }
   ],
   "source": [
    "train"
   ]
  },
  {
   "cell_type": "code",
   "execution_count": 153,
   "metadata": {},
   "outputs": [
    {
     "name": "stdout",
     "output_type": "stream",
     "text": [
      "Ligands:  13024\n",
      "Targets:  1507\n"
     ]
    }
   ],
   "source": [
    "ligands = list(set(train['SMILE'].tolist()))\n",
    "targets = list(set(train['target_aa_code'].tolist()))\n",
    "\n",
    "number_ligands = len(ligands)\n",
    "number_targets = len(targets)\n",
    "print('Ligands: ', number_ligands)\n",
    "print('Targets: ',number_targets)"
   ]
  },
  {
   "cell_type": "code",
   "execution_count": 154,
   "metadata": {},
   "outputs": [
    {
     "name": "stderr",
     "output_type": "stream",
     "text": [
      "100%|██████████| 13024/13024 [01:31<00:00, 142.10it/s]\n",
      "100%|██████████| 1507/1507 [00:10<00:00, 143.31it/s]\n",
      "100%|██████████| 13024/13024 [00:00<00:00, 1144636.14it/s]\n",
      "100%|██████████| 13024/13024 [00:00<00:00, 1262313.47it/s]\n",
      "100%|██████████| 1507/1507 [00:00<00:00, 1100803.92it/s]\n",
      "100%|██████████| 1507/1507 [00:00<00:00, 1242787.28it/s]\n"
     ]
    }
   ],
   "source": [
    "ligands_degree_dict = dict()\n",
    "\n",
    "for smile_chem in tqdm(ligands):\n",
    "    sum_df = train[train['SMILE'] == smile_chem]\n",
    "    ligands_degree_dict[smile_chem] = dict()\n",
    "    ligands_degree_dict[smile_chem]['deg_0'] = len(sum_df[sum_df['Y'] == 0])\n",
    "    ligands_degree_dict[smile_chem]['deg_1'] = len(sum_df[sum_df['Y'] == 1])\n",
    "    \n",
    "targets_degree_dict = dict()\n",
    "\n",
    "for aa_target in tqdm(targets):\n",
    "    sum_df = train[train['target_aa_code'] == aa_target]\n",
    "    targets_degree_dict[aa_target] = dict()\n",
    "    targets_degree_dict[aa_target]['deg_0'] = len(sum_df[sum_df['Y'] == 0])\n",
    "    targets_degree_dict[aa_target]['deg_1'] = len(sum_df[sum_df['Y'] == 1])\n",
    "    \n",
    "degree_train_1_0_ligands = [ligands_degree_dict[key_val]['deg_1'] for key_val in tqdm(ligands_degree_dict.keys())]\n",
    "degree_train_0_1_ligands = [ligands_degree_dict[key_val]['deg_0'] for key_val in tqdm(ligands_degree_dict.keys())]\n",
    "\n",
    "degree_train_1_0_targets = [targets_degree_dict[key_val]['deg_1'] for key_val in tqdm(targets_degree_dict.keys())]\n",
    "degree_train_0_1_targets = [targets_degree_dict[key_val]['deg_0'] for key_val in tqdm(targets_degree_dict.keys())]"
   ]
  },
  {
   "cell_type": "code",
   "execution_count": 155,
   "metadata": {},
   "outputs": [],
   "source": [
    "with open('../data/randomized_poisson/degreetrain10ligands.txt', 'w') as file:\n",
    "    for degree in degree_train_1_0_ligands:\n",
    "        file.write(\"%i\\n\" % degree)\n",
    "        \n",
    "file.close()\n",
    "\n",
    "with open('../data/randomized_poisson/degreetrain01ligands.txt', 'w') as file:\n",
    "    for degree in degree_train_0_1_ligands:\n",
    "        file.write(\"%i\\n\" % degree)\n",
    "        \n",
    "file.close()\n",
    "\n",
    "with open('../data/randomized_poisson/degreetrain10targets.txt', 'w') as file:\n",
    "    for degree in degree_train_1_0_targets:\n",
    "        file.write(\"%i\\n\" % degree)\n",
    "        \n",
    "file.close()\n",
    "\n",
    "with open('../data/randomized_poisson/degreetrain01targets.txt', 'w') as file:\n",
    "    for degree in degree_train_0_1_targets:\n",
    "        file.write(\"%i\\n\" % degree)\n",
    "        \n",
    "file.close()\n",
    "\n",
    "textfile = open(\"../data/randomized_poisson/ligands.txt\", \"w\")\n",
    "for element in ligands:\n",
    "    textfile.write(element + \"\\n\")\n",
    "textfile.close()\n",
    "\n",
    "textfile = open(\"../data/randomized_poisson/targets.txt\", \"w\")\n",
    "for element in targets:\n",
    "    textfile.write(element + \"\\n\")\n",
    "textfile.close()"
   ]
  },
  {
   "cell_type": "code",
   "execution_count": 156,
   "metadata": {},
   "outputs": [],
   "source": [
    "text_file = open(\"../data/randomized_poisson/ligands.txt\", \"r\") # Rows of the adjacency matrix in order\n",
    "ligands = text_file.readlines()\n",
    "\n",
    "text_file = open(\"../data/randomized_poisson/targets.txt\", \"r\") # Columns of the adjacency matrix in order \n",
    "targets = text_file.readlines()"
   ]
  },
  {
   "cell_type": "code",
   "execution_count": 157,
   "metadata": {},
   "outputs": [],
   "source": [
    "summat10 = np.loadtxt(open(\"../data/randomized_poisson/summat10.csv\", \"rb\"), delimiter=\",\", skiprows=0) # Output of MATLAB run\n",
    "summat01 = np.loadtxt(open(\"../data/randomized_poisson/summat01.csv\", \"rb\"), delimiter=\",\", skiprows=0) # Output of MATLAB run "
   ]
  },
  {
   "cell_type": "code",
   "execution_count": 161,
   "metadata": {},
   "outputs": [
    {
     "name": "stderr",
     "output_type": "stream",
     "text": [
      "100%|██████████| 13024/13024 [01:26<00:00, 151.36it/s]\n",
      "100%|██████████| 1507/1507 [00:09<00:00, 151.51it/s]\n"
     ]
    }
   ],
   "source": [
    "train_pos = train[train['Y'] == 1]\n",
    "train_neg = train[train['Y'] == 0]\n",
    "\n",
    "pos_deg_0_ligands = []\n",
    "pos_deg_0_targets = []\n",
    "neg_deg_0_ligands = []\n",
    "neg_deg_0_targets = []\n",
    "\n",
    "ligand_degree_ratio = dict()\n",
    "ligand_all_average = []\n",
    "\n",
    "for ligand in tqdm(ligands):\n",
    "    pos_deg = len(train_pos[train_pos['SMILE'] == ligand])\n",
    "    neg_deg = len(train_neg[train_neg['SMILE'] == ligand])\n",
    "    if pos_deg + neg_deg != 0:\n",
    "        ligand_degree_ratio[ligand] = dict()\n",
    "        ligand_degree_ratio[ligand]['deg_ratio'] = pos_deg / (pos_deg + neg_deg)\n",
    "        ligand_degree_ratio[ligand]['deg_avg'] = pos_deg / number_targets \n",
    "        ligand_all_average.append(pos_deg / number_targets)\n",
    "    if pos_deg == 0:\n",
    "        pos_deg_0_ligands.append(ligand)\n",
    "    if neg_deg == 0:\n",
    "        neg_deg_0_ligands.append(ligand)\n",
    "    \n",
    "ligands_all_avg = sum(ligand_all_average) / number_ligands\n",
    "\n",
    "targets_degree_ratio = dict()\n",
    "target_all_average = []\n",
    "\n",
    "for target in tqdm(targets):\n",
    "    pos_deg = len(train_pos[train_pos['target_aa_code'] == target])\n",
    "    neg_deg = len(train_neg[train_neg['target_aa_code'] == target])\n",
    "    if pos_deg + neg_deg != 0:\n",
    "        targets_degree_ratio[target] = dict()\n",
    "        targets_degree_ratio[target]['deg_ratio'] = pos_deg / (pos_deg + neg_deg)\n",
    "        targets_degree_ratio[target]['deg_avg'] = pos_deg / number_ligands\n",
    "        target_all_average.append(pos_deg / number_ligands)\n",
    "    if pos_deg == 0:\n",
    "        pos_deg_0_targets.append(target)\n",
    "    if neg_deg == 0:\n",
    "        neg_deg_0_targets.append(target)\n",
    "    \n",
    "targets_all_avg = sum(target_all_average) / number_targets"
   ]
  },
  {
   "cell_type": "code",
   "execution_count": 162,
   "metadata": {},
   "outputs": [],
   "source": [
    "## Annotated means the node has at least 1 binding information\n",
    "\n",
    "pos_annotated_ligands = list(set(ligands)-set(pos_deg_0_ligands))\n",
    "pos_annotated_targets = list(set(targets)-set(pos_deg_0_targets))\n",
    "\n",
    "neg_annotated_ligands = list(set(ligands)-set(neg_deg_0_ligands))\n",
    "neg_annotated_targets = list(set(targets)-set(neg_deg_0_targets))"
   ]
  },
  {
   "cell_type": "code",
   "execution_count": 163,
   "metadata": {
    "scrolled": true
   },
   "outputs": [
    {
     "name": "stderr",
     "output_type": "stream",
     "text": [
      "21216it [00:03, 6825.54it/s]\n"
     ]
    }
   ],
   "source": [
    "test_probabilty_predicted_conditioned = []\n",
    "\n",
    "## Average conditional probability\n",
    "p10_avg = np.mean(summat10)\n",
    "p01_avg = np.mean(summat01)\n",
    "average_conditional_probability = p10_avg / (p10_avg + p01_avg)\n",
    "\n",
    "for index, row in tqdm(test.iterrows()):      \n",
    "    \n",
    "    if row['SMILE'] in pos_annotated_ligands and row['target_aa_code'] in pos_annotated_targets:\n",
    "        p10 = summat10[ligands.index(row['SMILE']),targets.index(row['target_aa_code'])]\n",
    "        p01 = summat01[ligands.index(row['SMILE']),targets.index(row['target_aa_code'])]\n",
    "        p10_conditioned = p10 / (p10 + p01)\n",
    "        test_probabilty_predicted_conditioned.append(p10_conditioned)\n",
    "        \n",
    "    elif row['SMILE'] in pos_annotated_ligands and row['target_aa_code'] not in pos_annotated_targets:\n",
    "        p10_conditioned = ligand_degree_ratio[row['SMILE']]['deg_ratio']  ## k_+ / (k_+ + k_-)\n",
    "        test_probabilty_predicted_conditioned.append(p10_conditioned)\n",
    "        \n",
    "    elif row['SMILE'] not in pos_annotated_ligands and row['target_aa_code'] in pos_annotated_targets:\n",
    "        p10_conditioned = targets_degree_ratio[row['target_aa_code']]['deg_ratio'] ## k_+ / (k_+ + k_-)\n",
    "        test_probabilty_predicted_conditioned.append(p10_conditioned)\n",
    "\n",
    "    else:\n",
    "        p10_conditioned = average_conditional_probability\n",
    "        test_probabilty_predicted_conditioned.append(p10_conditioned)\n",
    "        "
   ]
  },
  {
   "cell_type": "code",
   "execution_count": 166,
   "metadata": {},
   "outputs": [
    {
     "name": "stdout",
     "output_type": "stream",
     "text": [
      "AUC:  0.5\n",
      "AUP:  0.1584653092006033\n"
     ]
    }
   ],
   "source": [
    "## Performance on the test dataset\n",
    "\n",
    "print('AUC: ', roc_auc_score(test['Y'].tolist(), test_probabilty_predicted_conditioned))\n",
    "print('AUP: ', average_precision_score(test['Y'].tolist(), test_probabilty_predicted_conditioned))"
   ]
  },
  {
   "cell_type": "code",
   "execution_count": 169,
   "metadata": {},
   "outputs": [
    {
     "name": "stdout",
     "output_type": "stream",
     "text": [
      "Seen ligands:  13024\n",
      "Seen targets:  1507\n",
      "Unseen ligands:  303\n",
      "Unseen targets:  0\n"
     ]
    },
    {
     "name": "stderr",
     "output_type": "stream",
     "text": [
      "/miniconda/lib/python3.6/site-packages/ipykernel_launcher.py:1: SettingWithCopyWarning: \n",
      "A value is trying to be set on a copy of a slice from a DataFrame.\n",
      "Try using .loc[row_indexer,col_indexer] = value instead\n",
      "\n",
      "See the caveats in the documentation: https://pandas.pydata.org/pandas-docs/stable/user_guide/indexing.html#returning-a-view-versus-a-copy\n",
      "  \"\"\"Entry point for launching an IPython kernel.\n"
     ]
    }
   ],
   "source": [
    "test['test_probabilty_predicted_conditioned'] = test_probabilty_predicted_conditioned\n",
    "\n",
    "train_ligands = list(set(train['SMILE'].tolist()))\n",
    "train_targets = list(set(train['target_aa_code'].tolist()))\n",
    "\n",
    "test_minus_train_ligands = list(set(test['SMILE'].tolist()).difference(train_ligands))\n",
    "test_minus_train_targets = list(set(test['target_aa_code'].tolist()).difference(train_targets))\n",
    "\n",
    "print('Seen ligands: ', len(train_ligands))\n",
    "print('Seen targets: ', len(train_targets))\n",
    "print('Unseen ligands: ', len(test_minus_train_ligands))\n",
    "print('Unseen targets: ', len(test_minus_train_targets))"
   ]
  },
  {
   "cell_type": "code",
   "execution_count": 170,
   "metadata": {},
   "outputs": [
    {
     "name": "stdout",
     "output_type": "stream",
     "text": [
      "Unseen edges:  20649\n",
      "AUC:  0.5\n",
      "AUP:  0.15903917865271927\n"
     ]
    }
   ],
   "source": [
    "# Unseen Edges\n",
    "\n",
    "test_unseen_edges = test[test['SMILE'].isin(train_ligands) & test['target_aa_code'].isin(train_targets)]\n",
    "print('Unseen edges: ', len(test_unseen_edges))\n",
    "\n",
    "print('AUC: ', roc_auc_score(test_unseen_edges['Y'].tolist(), test_unseen_edges['test_probabilty_predicted_conditioned']))\n",
    "print('AUP: ', average_precision_score(test_unseen_edges['Y'].tolist(), test_unseen_edges['test_probabilty_predicted_conditioned']))"
   ]
  },
  {
   "cell_type": "code",
   "execution_count": 171,
   "metadata": {
    "collapsed": true
   },
   "outputs": [
    {
     "name": "stdout",
     "output_type": "stream",
     "text": [
      "Unseen targets:  0\n"
     ]
    },
    {
     "ename": "ValueError",
     "evalue": "Found array with 0 sample(s) (shape=(0,)) while a minimum of 1 is required.",
     "output_type": "error",
     "traceback": [
      "\u001b[0;31m---------------------------------------------------------------------------\u001b[0m",
      "\u001b[0;31mValueError\u001b[0m                                Traceback (most recent call last)",
      "\u001b[0;32m<ipython-input-171-76e274502357>\u001b[0m in \u001b[0;36m<module>\u001b[0;34m\u001b[0m\n\u001b[1;32m      4\u001b[0m \u001b[0mprint\u001b[0m\u001b[0;34m(\u001b[0m\u001b[0;34m'Unseen targets: '\u001b[0m\u001b[0;34m,\u001b[0m \u001b[0mlen\u001b[0m\u001b[0;34m(\u001b[0m\u001b[0mtest_unseen_targets\u001b[0m\u001b[0;34m)\u001b[0m\u001b[0;34m)\u001b[0m\u001b[0;34m\u001b[0m\u001b[0m\n\u001b[1;32m      5\u001b[0m \u001b[0;34m\u001b[0m\u001b[0m\n\u001b[0;32m----> 6\u001b[0;31m \u001b[0mprint\u001b[0m\u001b[0;34m(\u001b[0m\u001b[0;34m'AUC: '\u001b[0m\u001b[0;34m,\u001b[0m \u001b[0mroc_auc_score\u001b[0m\u001b[0;34m(\u001b[0m\u001b[0mtest_unseen_targets\u001b[0m\u001b[0;34m[\u001b[0m\u001b[0;34m'Y'\u001b[0m\u001b[0;34m]\u001b[0m\u001b[0;34m.\u001b[0m\u001b[0mtolist\u001b[0m\u001b[0;34m(\u001b[0m\u001b[0;34m)\u001b[0m\u001b[0;34m,\u001b[0m \u001b[0mtest_unseen_targets\u001b[0m\u001b[0;34m[\u001b[0m\u001b[0;34m'test_probabilty_predicted_conditioned'\u001b[0m\u001b[0;34m]\u001b[0m\u001b[0;34m)\u001b[0m\u001b[0;34m)\u001b[0m\u001b[0;34m\u001b[0m\u001b[0m\n\u001b[0m\u001b[1;32m      7\u001b[0m \u001b[0mprint\u001b[0m\u001b[0;34m(\u001b[0m\u001b[0;34m'AUP: '\u001b[0m\u001b[0;34m,\u001b[0m \u001b[0maverage_precision_score\u001b[0m\u001b[0;34m(\u001b[0m\u001b[0mtest_unseen_targets\u001b[0m\u001b[0;34m[\u001b[0m\u001b[0;34m'Y'\u001b[0m\u001b[0;34m]\u001b[0m\u001b[0;34m.\u001b[0m\u001b[0mtolist\u001b[0m\u001b[0;34m(\u001b[0m\u001b[0;34m)\u001b[0m\u001b[0;34m,\u001b[0m \u001b[0mtest_unseen_targets\u001b[0m\u001b[0;34m[\u001b[0m\u001b[0;34m'test_probabilty_predicted_conditioned'\u001b[0m\u001b[0;34m]\u001b[0m\u001b[0;34m)\u001b[0m\u001b[0;34m)\u001b[0m\u001b[0;34m\u001b[0m\u001b[0m\n",
      "\u001b[0;32m/miniconda/lib/python3.6/site-packages/sklearn/utils/validation.py\u001b[0m in \u001b[0;36minner_f\u001b[0;34m(*args, **kwargs)\u001b[0m\n\u001b[1;32m     71\u001b[0m                           FutureWarning)\n\u001b[1;32m     72\u001b[0m         \u001b[0mkwargs\u001b[0m\u001b[0;34m.\u001b[0m\u001b[0mupdate\u001b[0m\u001b[0;34m(\u001b[0m\u001b[0;34m{\u001b[0m\u001b[0mk\u001b[0m\u001b[0;34m:\u001b[0m \u001b[0marg\u001b[0m \u001b[0;32mfor\u001b[0m \u001b[0mk\u001b[0m\u001b[0;34m,\u001b[0m \u001b[0marg\u001b[0m \u001b[0;32min\u001b[0m \u001b[0mzip\u001b[0m\u001b[0;34m(\u001b[0m\u001b[0msig\u001b[0m\u001b[0;34m.\u001b[0m\u001b[0mparameters\u001b[0m\u001b[0;34m,\u001b[0m \u001b[0margs\u001b[0m\u001b[0;34m)\u001b[0m\u001b[0;34m}\u001b[0m\u001b[0;34m)\u001b[0m\u001b[0;34m\u001b[0m\u001b[0m\n\u001b[0;32m---> 73\u001b[0;31m         \u001b[0;32mreturn\u001b[0m \u001b[0mf\u001b[0m\u001b[0;34m(\u001b[0m\u001b[0;34m**\u001b[0m\u001b[0mkwargs\u001b[0m\u001b[0;34m)\u001b[0m\u001b[0;34m\u001b[0m\u001b[0m\n\u001b[0m\u001b[1;32m     74\u001b[0m     \u001b[0;32mreturn\u001b[0m \u001b[0minner_f\u001b[0m\u001b[0;34m\u001b[0m\u001b[0m\n\u001b[1;32m     75\u001b[0m \u001b[0;34m\u001b[0m\u001b[0m\n",
      "\u001b[0;32m/miniconda/lib/python3.6/site-packages/sklearn/metrics/_ranking.py\u001b[0m in \u001b[0;36mroc_auc_score\u001b[0;34m(y_true, y_score, average, sample_weight, max_fpr, multi_class, labels)\u001b[0m\n\u001b[1;32m    369\u001b[0m \u001b[0;34m\u001b[0m\u001b[0m\n\u001b[1;32m    370\u001b[0m     \u001b[0my_type\u001b[0m \u001b[0;34m=\u001b[0m \u001b[0mtype_of_target\u001b[0m\u001b[0;34m(\u001b[0m\u001b[0my_true\u001b[0m\u001b[0;34m)\u001b[0m\u001b[0;34m\u001b[0m\u001b[0m\n\u001b[0;32m--> 371\u001b[0;31m     \u001b[0my_true\u001b[0m \u001b[0;34m=\u001b[0m \u001b[0mcheck_array\u001b[0m\u001b[0;34m(\u001b[0m\u001b[0my_true\u001b[0m\u001b[0;34m,\u001b[0m \u001b[0mensure_2d\u001b[0m\u001b[0;34m=\u001b[0m\u001b[0;32mFalse\u001b[0m\u001b[0;34m,\u001b[0m \u001b[0mdtype\u001b[0m\u001b[0;34m=\u001b[0m\u001b[0;32mNone\u001b[0m\u001b[0;34m)\u001b[0m\u001b[0;34m\u001b[0m\u001b[0m\n\u001b[0m\u001b[1;32m    372\u001b[0m     \u001b[0my_score\u001b[0m \u001b[0;34m=\u001b[0m \u001b[0mcheck_array\u001b[0m\u001b[0;34m(\u001b[0m\u001b[0my_score\u001b[0m\u001b[0;34m,\u001b[0m \u001b[0mensure_2d\u001b[0m\u001b[0;34m=\u001b[0m\u001b[0;32mFalse\u001b[0m\u001b[0;34m)\u001b[0m\u001b[0;34m\u001b[0m\u001b[0m\n\u001b[1;32m    373\u001b[0m \u001b[0;34m\u001b[0m\u001b[0m\n",
      "\u001b[0;32m/miniconda/lib/python3.6/site-packages/sklearn/utils/validation.py\u001b[0m in \u001b[0;36minner_f\u001b[0;34m(*args, **kwargs)\u001b[0m\n\u001b[1;32m     71\u001b[0m                           FutureWarning)\n\u001b[1;32m     72\u001b[0m         \u001b[0mkwargs\u001b[0m\u001b[0;34m.\u001b[0m\u001b[0mupdate\u001b[0m\u001b[0;34m(\u001b[0m\u001b[0;34m{\u001b[0m\u001b[0mk\u001b[0m\u001b[0;34m:\u001b[0m \u001b[0marg\u001b[0m \u001b[0;32mfor\u001b[0m \u001b[0mk\u001b[0m\u001b[0;34m,\u001b[0m \u001b[0marg\u001b[0m \u001b[0;32min\u001b[0m \u001b[0mzip\u001b[0m\u001b[0;34m(\u001b[0m\u001b[0msig\u001b[0m\u001b[0;34m.\u001b[0m\u001b[0mparameters\u001b[0m\u001b[0;34m,\u001b[0m \u001b[0margs\u001b[0m\u001b[0;34m)\u001b[0m\u001b[0;34m}\u001b[0m\u001b[0;34m)\u001b[0m\u001b[0;34m\u001b[0m\u001b[0m\n\u001b[0;32m---> 73\u001b[0;31m         \u001b[0;32mreturn\u001b[0m \u001b[0mf\u001b[0m\u001b[0;34m(\u001b[0m\u001b[0;34m**\u001b[0m\u001b[0mkwargs\u001b[0m\u001b[0;34m)\u001b[0m\u001b[0;34m\u001b[0m\u001b[0m\n\u001b[0m\u001b[1;32m     74\u001b[0m     \u001b[0;32mreturn\u001b[0m \u001b[0minner_f\u001b[0m\u001b[0;34m\u001b[0m\u001b[0m\n\u001b[1;32m     75\u001b[0m \u001b[0;34m\u001b[0m\u001b[0m\n",
      "\u001b[0;32m/miniconda/lib/python3.6/site-packages/sklearn/utils/validation.py\u001b[0m in \u001b[0;36mcheck_array\u001b[0;34m(array, accept_sparse, accept_large_sparse, dtype, order, copy, force_all_finite, ensure_2d, allow_nd, ensure_min_samples, ensure_min_features, estimator)\u001b[0m\n\u001b[1;32m    652\u001b[0m                              \u001b[0;34m\" minimum of %d is required%s.\"\u001b[0m\u001b[0;34m\u001b[0m\u001b[0m\n\u001b[1;32m    653\u001b[0m                              % (n_samples, array.shape, ensure_min_samples,\n\u001b[0;32m--> 654\u001b[0;31m                                 context))\n\u001b[0m\u001b[1;32m    655\u001b[0m \u001b[0;34m\u001b[0m\u001b[0m\n\u001b[1;32m    656\u001b[0m     \u001b[0;32mif\u001b[0m \u001b[0mensure_min_features\u001b[0m \u001b[0;34m>\u001b[0m \u001b[0;36m0\u001b[0m \u001b[0;32mand\u001b[0m \u001b[0marray\u001b[0m\u001b[0;34m.\u001b[0m\u001b[0mndim\u001b[0m \u001b[0;34m==\u001b[0m \u001b[0;36m2\u001b[0m\u001b[0;34m:\u001b[0m\u001b[0;34m\u001b[0m\u001b[0m\n",
      "\u001b[0;31mValueError\u001b[0m: Found array with 0 sample(s) (shape=(0,)) while a minimum of 1 is required."
     ]
    }
   ],
   "source": [
    "# Unseen Targets\n",
    "\n",
    "test_unseen_targets = test[test['target_aa_code'].isin(test_minus_train_targets)]\n",
    "print('Unseen targets: ', len(test_unseen_targets))\n",
    "\n",
    "print('AUC: ', roc_auc_score(test_unseen_targets['Y'].tolist(), test_unseen_targets['test_probabilty_predicted_conditioned']))\n",
    "print('AUP: ', average_precision_score(test_unseen_targets['Y'].tolist(), test_unseen_targets['test_probabilty_predicted_conditioned']))"
   ]
  },
  {
   "cell_type": "code",
   "execution_count": 172,
   "metadata": {
    "collapsed": true
   },
   "outputs": [
    {
     "name": "stdout",
     "output_type": "stream",
     "text": [
      "Unseen nodes:  0\n"
     ]
    },
    {
     "ename": "ValueError",
     "evalue": "Found array with 0 sample(s) (shape=(0,)) while a minimum of 1 is required.",
     "output_type": "error",
     "traceback": [
      "\u001b[0;31m---------------------------------------------------------------------------\u001b[0m",
      "\u001b[0;31mValueError\u001b[0m                                Traceback (most recent call last)",
      "\u001b[0;32m<ipython-input-172-4b8f5b7663f6>\u001b[0m in \u001b[0;36m<module>\u001b[0;34m\u001b[0m\n\u001b[1;32m      4\u001b[0m \u001b[0mprint\u001b[0m\u001b[0;34m(\u001b[0m\u001b[0;34m'Unseen nodes: '\u001b[0m\u001b[0;34m,\u001b[0m \u001b[0mlen\u001b[0m\u001b[0;34m(\u001b[0m\u001b[0mtest_unseen_nodes\u001b[0m\u001b[0;34m)\u001b[0m\u001b[0;34m)\u001b[0m\u001b[0;34m\u001b[0m\u001b[0m\n\u001b[1;32m      5\u001b[0m \u001b[0;34m\u001b[0m\u001b[0m\n\u001b[0;32m----> 6\u001b[0;31m \u001b[0mprint\u001b[0m\u001b[0;34m(\u001b[0m\u001b[0;34m'AUC: '\u001b[0m\u001b[0;34m,\u001b[0m \u001b[0mroc_auc_score\u001b[0m\u001b[0;34m(\u001b[0m\u001b[0mtest_unseen_nodes\u001b[0m\u001b[0;34m[\u001b[0m\u001b[0;34m'Y'\u001b[0m\u001b[0;34m]\u001b[0m\u001b[0;34m.\u001b[0m\u001b[0mtolist\u001b[0m\u001b[0;34m(\u001b[0m\u001b[0;34m)\u001b[0m\u001b[0;34m,\u001b[0m \u001b[0mtest_unseen_nodes\u001b[0m\u001b[0;34m[\u001b[0m\u001b[0;34m'test_probabilty_predicted_conditioned'\u001b[0m\u001b[0;34m]\u001b[0m\u001b[0;34m)\u001b[0m\u001b[0;34m)\u001b[0m\u001b[0;34m\u001b[0m\u001b[0m\n\u001b[0m\u001b[1;32m      7\u001b[0m \u001b[0mprint\u001b[0m\u001b[0;34m(\u001b[0m\u001b[0;34m'AUP: '\u001b[0m\u001b[0;34m,\u001b[0m \u001b[0maverage_precision_score\u001b[0m\u001b[0;34m(\u001b[0m\u001b[0mtest_unseen_nodes\u001b[0m\u001b[0;34m[\u001b[0m\u001b[0;34m'Y'\u001b[0m\u001b[0;34m]\u001b[0m\u001b[0;34m.\u001b[0m\u001b[0mtolist\u001b[0m\u001b[0;34m(\u001b[0m\u001b[0;34m)\u001b[0m\u001b[0;34m,\u001b[0m \u001b[0mtest_unseen_nodes\u001b[0m\u001b[0;34m[\u001b[0m\u001b[0;34m'test_probabilty_predicted_conditioned'\u001b[0m\u001b[0;34m]\u001b[0m\u001b[0;34m)\u001b[0m\u001b[0;34m)\u001b[0m\u001b[0;34m\u001b[0m\u001b[0m\n",
      "\u001b[0;32m/miniconda/lib/python3.6/site-packages/sklearn/utils/validation.py\u001b[0m in \u001b[0;36minner_f\u001b[0;34m(*args, **kwargs)\u001b[0m\n\u001b[1;32m     71\u001b[0m                           FutureWarning)\n\u001b[1;32m     72\u001b[0m         \u001b[0mkwargs\u001b[0m\u001b[0;34m.\u001b[0m\u001b[0mupdate\u001b[0m\u001b[0;34m(\u001b[0m\u001b[0;34m{\u001b[0m\u001b[0mk\u001b[0m\u001b[0;34m:\u001b[0m \u001b[0marg\u001b[0m \u001b[0;32mfor\u001b[0m \u001b[0mk\u001b[0m\u001b[0;34m,\u001b[0m \u001b[0marg\u001b[0m \u001b[0;32min\u001b[0m \u001b[0mzip\u001b[0m\u001b[0;34m(\u001b[0m\u001b[0msig\u001b[0m\u001b[0;34m.\u001b[0m\u001b[0mparameters\u001b[0m\u001b[0;34m,\u001b[0m \u001b[0margs\u001b[0m\u001b[0;34m)\u001b[0m\u001b[0;34m}\u001b[0m\u001b[0;34m)\u001b[0m\u001b[0;34m\u001b[0m\u001b[0m\n\u001b[0;32m---> 73\u001b[0;31m         \u001b[0;32mreturn\u001b[0m \u001b[0mf\u001b[0m\u001b[0;34m(\u001b[0m\u001b[0;34m**\u001b[0m\u001b[0mkwargs\u001b[0m\u001b[0;34m)\u001b[0m\u001b[0;34m\u001b[0m\u001b[0m\n\u001b[0m\u001b[1;32m     74\u001b[0m     \u001b[0;32mreturn\u001b[0m \u001b[0minner_f\u001b[0m\u001b[0;34m\u001b[0m\u001b[0m\n\u001b[1;32m     75\u001b[0m \u001b[0;34m\u001b[0m\u001b[0m\n",
      "\u001b[0;32m/miniconda/lib/python3.6/site-packages/sklearn/metrics/_ranking.py\u001b[0m in \u001b[0;36mroc_auc_score\u001b[0;34m(y_true, y_score, average, sample_weight, max_fpr, multi_class, labels)\u001b[0m\n\u001b[1;32m    369\u001b[0m \u001b[0;34m\u001b[0m\u001b[0m\n\u001b[1;32m    370\u001b[0m     \u001b[0my_type\u001b[0m \u001b[0;34m=\u001b[0m \u001b[0mtype_of_target\u001b[0m\u001b[0;34m(\u001b[0m\u001b[0my_true\u001b[0m\u001b[0;34m)\u001b[0m\u001b[0;34m\u001b[0m\u001b[0m\n\u001b[0;32m--> 371\u001b[0;31m     \u001b[0my_true\u001b[0m \u001b[0;34m=\u001b[0m \u001b[0mcheck_array\u001b[0m\u001b[0;34m(\u001b[0m\u001b[0my_true\u001b[0m\u001b[0;34m,\u001b[0m \u001b[0mensure_2d\u001b[0m\u001b[0;34m=\u001b[0m\u001b[0;32mFalse\u001b[0m\u001b[0;34m,\u001b[0m \u001b[0mdtype\u001b[0m\u001b[0;34m=\u001b[0m\u001b[0;32mNone\u001b[0m\u001b[0;34m)\u001b[0m\u001b[0;34m\u001b[0m\u001b[0m\n\u001b[0m\u001b[1;32m    372\u001b[0m     \u001b[0my_score\u001b[0m \u001b[0;34m=\u001b[0m \u001b[0mcheck_array\u001b[0m\u001b[0;34m(\u001b[0m\u001b[0my_score\u001b[0m\u001b[0;34m,\u001b[0m \u001b[0mensure_2d\u001b[0m\u001b[0;34m=\u001b[0m\u001b[0;32mFalse\u001b[0m\u001b[0;34m)\u001b[0m\u001b[0;34m\u001b[0m\u001b[0m\n\u001b[1;32m    373\u001b[0m \u001b[0;34m\u001b[0m\u001b[0m\n",
      "\u001b[0;32m/miniconda/lib/python3.6/site-packages/sklearn/utils/validation.py\u001b[0m in \u001b[0;36minner_f\u001b[0;34m(*args, **kwargs)\u001b[0m\n\u001b[1;32m     71\u001b[0m                           FutureWarning)\n\u001b[1;32m     72\u001b[0m         \u001b[0mkwargs\u001b[0m\u001b[0;34m.\u001b[0m\u001b[0mupdate\u001b[0m\u001b[0;34m(\u001b[0m\u001b[0;34m{\u001b[0m\u001b[0mk\u001b[0m\u001b[0;34m:\u001b[0m \u001b[0marg\u001b[0m \u001b[0;32mfor\u001b[0m \u001b[0mk\u001b[0m\u001b[0;34m,\u001b[0m \u001b[0marg\u001b[0m \u001b[0;32min\u001b[0m \u001b[0mzip\u001b[0m\u001b[0;34m(\u001b[0m\u001b[0msig\u001b[0m\u001b[0;34m.\u001b[0m\u001b[0mparameters\u001b[0m\u001b[0;34m,\u001b[0m \u001b[0margs\u001b[0m\u001b[0;34m)\u001b[0m\u001b[0;34m}\u001b[0m\u001b[0;34m)\u001b[0m\u001b[0;34m\u001b[0m\u001b[0m\n\u001b[0;32m---> 73\u001b[0;31m         \u001b[0;32mreturn\u001b[0m \u001b[0mf\u001b[0m\u001b[0;34m(\u001b[0m\u001b[0;34m**\u001b[0m\u001b[0mkwargs\u001b[0m\u001b[0;34m)\u001b[0m\u001b[0;34m\u001b[0m\u001b[0m\n\u001b[0m\u001b[1;32m     74\u001b[0m     \u001b[0;32mreturn\u001b[0m \u001b[0minner_f\u001b[0m\u001b[0;34m\u001b[0m\u001b[0m\n\u001b[1;32m     75\u001b[0m \u001b[0;34m\u001b[0m\u001b[0m\n",
      "\u001b[0;32m/miniconda/lib/python3.6/site-packages/sklearn/utils/validation.py\u001b[0m in \u001b[0;36mcheck_array\u001b[0;34m(array, accept_sparse, accept_large_sparse, dtype, order, copy, force_all_finite, ensure_2d, allow_nd, ensure_min_samples, ensure_min_features, estimator)\u001b[0m\n\u001b[1;32m    652\u001b[0m                              \u001b[0;34m\" minimum of %d is required%s.\"\u001b[0m\u001b[0;34m\u001b[0m\u001b[0m\n\u001b[1;32m    653\u001b[0m                              % (n_samples, array.shape, ensure_min_samples,\n\u001b[0;32m--> 654\u001b[0;31m                                 context))\n\u001b[0m\u001b[1;32m    655\u001b[0m \u001b[0;34m\u001b[0m\u001b[0m\n\u001b[1;32m    656\u001b[0m     \u001b[0;32mif\u001b[0m \u001b[0mensure_min_features\u001b[0m \u001b[0;34m>\u001b[0m \u001b[0;36m0\u001b[0m \u001b[0;32mand\u001b[0m \u001b[0marray\u001b[0m\u001b[0;34m.\u001b[0m\u001b[0mndim\u001b[0m \u001b[0;34m==\u001b[0m \u001b[0;36m2\u001b[0m\u001b[0;34m:\u001b[0m\u001b[0;34m\u001b[0m\u001b[0m\n",
      "\u001b[0;31mValueError\u001b[0m: Found array with 0 sample(s) (shape=(0,)) while a minimum of 1 is required."
     ]
    }
   ],
   "source": [
    "# Unseen Nodes\n",
    "\n",
    "test_unseen_nodes = test[test['SMILE'].isin(test_minus_train_ligands) & test['target_aa_code'].isin(test_minus_train_targets)]\n",
    "print('Unseen nodes: ', len(test_unseen_nodes))\n",
    "\n",
    "print('AUC: ', roc_auc_score(test_unseen_nodes['Y'].tolist(), test_unseen_nodes['test_probabilty_predicted_conditioned']))\n",
    "print('AUP: ', average_precision_score(test_unseen_nodes['Y'].tolist(), test_unseen_nodes['test_probabilty_predicted_conditioned']))"
   ]
  },
  {
   "cell_type": "code",
   "execution_count": null,
   "metadata": {},
   "outputs": [],
   "source": []
  },
  {
   "cell_type": "code",
   "execution_count": null,
   "metadata": {},
   "outputs": [],
   "source": []
  },
  {
   "cell_type": "code",
   "execution_count": null,
   "metadata": {},
   "outputs": [],
   "source": []
  },
  {
   "cell_type": "code",
   "execution_count": null,
   "metadata": {},
   "outputs": [],
   "source": []
  }
 ],
 "metadata": {
  "kernelspec": {
   "display_name": "Python 3",
   "language": "python",
   "name": "python3"
  },
  "language_info": {
   "codemirror_mode": {
    "name": "ipython",
    "version": 3
   },
   "file_extension": ".py",
   "mimetype": "text/x-python",
   "name": "python",
   "nbconvert_exporter": "python",
   "pygments_lexer": "ipython3",
   "version": "3.6.6"
  },
  "toc": {
   "base_numbering": 1,
   "nav_menu": {},
   "number_sections": true,
   "sideBar": true,
   "skip_h1_title": false,
   "title_cell": "Table of Contents",
   "title_sidebar": "Contents",
   "toc_cell": false,
   "toc_position": {},
   "toc_section_display": true,
   "toc_window_display": false
  }
 },
 "nbformat": 4,
 "nbformat_minor": 4
}
