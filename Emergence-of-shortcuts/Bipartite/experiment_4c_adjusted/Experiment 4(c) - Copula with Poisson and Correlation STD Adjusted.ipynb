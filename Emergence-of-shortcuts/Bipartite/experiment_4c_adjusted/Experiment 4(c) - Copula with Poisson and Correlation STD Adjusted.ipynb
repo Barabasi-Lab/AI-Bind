{
 "cells": [
  {
   "cell_type": "markdown",
   "metadata": {
    "heading_collapsed": true
   },
   "source": [
    "# Imports and Custom Functions"
   ]
  },
  {
   "cell_type": "code",
   "execution_count": 1,
   "metadata": {
    "hidden": true
   },
   "outputs": [],
   "source": [
    "import matplotlib.pyplot as plt\n",
    "from tqdm import tqdm\n",
    "import pandas as pd\n",
    "from matplotlib.pyplot import figure\n",
    "import numpy as np\n",
    "import networkx as nx\n",
    "from networkx.algorithms import bipartite\n",
    "from sklearn.metrics import confusion_matrix, f1_score, classification_report\n",
    "from sklearn.metrics import roc_curve, roc_auc_score, precision_recall_curve, average_precision_score\n",
    "from sklearn.metrics import confusion_matrix, f1_score, classification_report\n",
    "from scipy import stats\n",
    "import seaborn as sns\n",
    "import powerlaw\n",
    "from scipy.stats import poisson\n",
    "#import tensorflow as tf\n",
    "#tf.enable_v2_behavior()\n",
    "\n",
    "#import tensorflow_probability as tfp\n",
    "#tfd = tfp.distributions\n",
    "#tfb = tfp.bijectors"
   ]
  },
  {
   "cell_type": "code",
   "execution_count": 2,
   "metadata": {
    "hidden": true
   },
   "outputs": [],
   "source": [
    "def closest(lst, K):\n",
    "    \n",
    "    number = lst[min(range(len(lst)), key = lambda i: abs(lst[i]-K))]\n",
    "    \n",
    "    if abs(number-K) >= 3:\n",
    "        print('Not close enough: ', int(abs(number-K)))\n",
    "    \n",
    "    # number_index = np.random.choice(get_all_indices(lst,number))\n",
    "      \n",
    "    return get_all_indices(lst,number) # number_index"
   ]
  },
  {
   "cell_type": "code",
   "execution_count": 3,
   "metadata": {
    "hidden": true
   },
   "outputs": [],
   "source": [
    "def get_all_indices(mylist,myval):\n",
    "    \n",
    "    all_indices = []\n",
    "    \n",
    "    for i in range(len(mylist)):\n",
    "        if mylist[i] == myval:\n",
    "            all_indices.append(i)\n",
    "            \n",
    "    return all_indices"
   ]
  },
  {
   "cell_type": "code",
   "execution_count": 4,
   "metadata": {
    "hidden": true
   },
   "outputs": [],
   "source": [
    "def remove_zeros_distribution(X):\n",
    "\n",
    "    return [i for i in X if i != 0]\n",
    "\n",
    "def log_binning_distribution(x_i,B = 20): \n",
    "    \n",
    "    x_i = remove_zeros_distribution(x_i)\n",
    "\n",
    "    b_1 = min(x_i)\n",
    "    b_Bp1 = max(x_i)\n",
    "    q_1 = np.log(b_1)\n",
    "    q_Bp1 = np.log(b_Bp1)\n",
    "    D_q = q_Bp1 - q_1\n",
    "    L_q = D_q / B\n",
    "\n",
    "    q_list = []\n",
    "    b_list = []\n",
    "\n",
    "    for i in range(B):\n",
    "        j = i + 1\n",
    "        q_list.append(q_1 + (j-1)*L_q)\n",
    "        b_list.append(np.exp(q_1 + (j-1)*L_q))\n",
    "\n",
    "    # b_list.insert(0,b_1)\n",
    "    # b_list.append(b_Bp1)\n",
    "    \n",
    "    binned_x_i = []\n",
    "    density_list = []\n",
    "\n",
    "    for i in range(len(b_list)-1):\n",
    "        bin_low = b_list[i]\n",
    "        bin_high = b_list[i+1]\n",
    "        count_bin = 0\n",
    "        for j in range(len(x_i)):\n",
    "            if x_i[j] >= bin_low and x_i[j] < bin_high:\n",
    "                count_bin = count_bin + 1\n",
    "                \n",
    "        if count_bin > 0:\n",
    "            density_bin = count_bin / (len(x_i)*(bin_high-bin_low))\n",
    "            density_list.append(density_bin)\n",
    "            binned_x_i.append(bin_low)\n",
    "        else:\n",
    "            continue \n",
    "            \n",
    "    return binned_x_i, density_list"
   ]
  },
  {
   "cell_type": "markdown",
   "metadata": {},
   "source": [
    "# Analysis of BindingDB Kd"
   ]
  },
  {
   "cell_type": "code",
   "execution_count": 5,
   "metadata": {
    "scrolled": true
   },
   "outputs": [
    {
     "name": "stderr",
     "output_type": "stream",
     "text": [
      "b'Skipping line 896772: expected 193 fields, saw 205\\nSkipping line 896798: expected 193 fields, saw 205\\n'\n",
      "b'Skipping line 929491: expected 193 fields, saw 205\\n'\n",
      "b'Skipping line 952161: expected 193 fields, saw 265\\n'\n",
      "b'Skipping line 1355895: expected 193 fields, saw 241\\n'\n",
      "b'Skipping line 1469800: expected 193 fields, saw 241\\nSkipping line 1469801: expected 193 fields, saw 241\\nSkipping line 1469802: expected 193 fields, saw 241\\nSkipping line 1469803: expected 193 fields, saw 241\\nSkipping line 1469804: expected 193 fields, saw 241\\nSkipping line 1469805: expected 193 fields, saw 241\\nSkipping line 1469806: expected 193 fields, saw 241\\nSkipping line 1469807: expected 193 fields, saw 241\\nSkipping line 1469808: expected 193 fields, saw 241\\n'\n",
      "b'Skipping line 1483073: expected 193 fields, saw 205\\n'\n",
      "b'Skipping line 1502296: expected 193 fields, saw 241\\nSkipping line 1502297: expected 193 fields, saw 241\\nSkipping line 1502298: expected 193 fields, saw 241\\nSkipping line 1502299: expected 193 fields, saw 241\\nSkipping line 1502300: expected 193 fields, saw 241\\nSkipping line 1502301: expected 193 fields, saw 241\\nSkipping line 1502302: expected 193 fields, saw 241\\nSkipping line 1502303: expected 193 fields, saw 241\\nSkipping line 1502304: expected 193 fields, saw 241\\n'\n",
      "b'Skipping line 1541474: expected 193 fields, saw 205\\n'\n",
      "b'Skipping line 1927945: expected 193 fields, saw 265\\n'\n",
      "b'Skipping line 2015166: expected 193 fields, saw 265\\nSkipping line 2015167: expected 193 fields, saw 265\\nSkipping line 2015168: expected 193 fields, saw 265\\nSkipping line 2015169: expected 193 fields, saw 265\\nSkipping line 2015170: expected 193 fields, saw 265\\nSkipping line 2015171: expected 193 fields, saw 265\\nSkipping line 2015172: expected 193 fields, saw 265\\nSkipping line 2015173: expected 193 fields, saw 265\\nSkipping line 2015174: expected 193 fields, saw 265\\nSkipping line 2015175: expected 193 fields, saw 265\\nSkipping line 2015176: expected 193 fields, saw 265\\nSkipping line 2015177: expected 193 fields, saw 265\\nSkipping line 2015178: expected 193 fields, saw 265\\nSkipping line 2015179: expected 193 fields, saw 265\\nSkipping line 2015180: expected 193 fields, saw 265\\nSkipping line 2015181: expected 193 fields, saw 265\\nSkipping line 2015182: expected 193 fields, saw 265\\nSkipping line 2015183: expected 193 fields, saw 265\\nSkipping line 2015184: expected 193 fields, saw 265\\n'\n",
      "b'Skipping line 2015802: expected 193 fields, saw 265\\nSkipping line 2015803: expected 193 fields, saw 265\\nSkipping line 2015804: expected 193 fields, saw 265\\nSkipping line 2015805: expected 193 fields, saw 265\\nSkipping line 2015806: expected 193 fields, saw 265\\nSkipping line 2015807: expected 193 fields, saw 265\\nSkipping line 2015808: expected 193 fields, saw 265\\n'\n",
      "b'Skipping line 2027219: expected 193 fields, saw 265\\nSkipping line 2027220: expected 193 fields, saw 265\\nSkipping line 2027221: expected 193 fields, saw 265\\nSkipping line 2027222: expected 193 fields, saw 265\\nSkipping line 2027223: expected 193 fields, saw 265\\nSkipping line 2027224: expected 193 fields, saw 265\\nSkipping line 2027225: expected 193 fields, saw 265\\nSkipping line 2027226: expected 193 fields, saw 265\\nSkipping line 2027227: expected 193 fields, saw 265\\nSkipping line 2027228: expected 193 fields, saw 265\\nSkipping line 2027229: expected 193 fields, saw 265\\nSkipping line 2027230: expected 193 fields, saw 265\\nSkipping line 2027231: expected 193 fields, saw 265\\nSkipping line 2027232: expected 193 fields, saw 265\\nSkipping line 2027233: expected 193 fields, saw 265\\nSkipping line 2027234: expected 193 fields, saw 265\\nSkipping line 2027235: expected 193 fields, saw 265\\nSkipping line 2027236: expected 193 fields, saw 265\\nSkipping line 2027237: expected 193 fields, saw 265\\nSkipping line 2027238: expected 193 fields, saw 265\\nSkipping line 2027239: expected 193 fields, saw 265\\nSkipping line 2027240: expected 193 fields, saw 265\\nSkipping line 2027241: expected 193 fields, saw 265\\nSkipping line 2027242: expected 193 fields, saw 265\\nSkipping line 2027243: expected 193 fields, saw 265\\nSkipping line 2027244: expected 193 fields, saw 265\\nSkipping line 2027245: expected 193 fields, saw 265\\nSkipping line 2027246: expected 193 fields, saw 265\\nSkipping line 2027247: expected 193 fields, saw 265\\nSkipping line 2027248: expected 193 fields, saw 265\\nSkipping line 2027249: expected 193 fields, saw 265\\nSkipping line 2027250: expected 193 fields, saw 265\\nSkipping line 2027251: expected 193 fields, saw 265\\nSkipping line 2027252: expected 193 fields, saw 265\\nSkipping line 2027253: expected 193 fields, saw 265\\nSkipping line 2027254: expected 193 fields, saw 265\\nSkipping line 2027255: expected 193 fields, saw 265\\nSkipping line 2027256: expected 193 fields, saw 265\\nSkipping line 2027257: expected 193 fields, saw 265\\n'\n",
      "b'Skipping line 2029854: expected 193 fields, saw 265\\nSkipping line 2029855: expected 193 fields, saw 265\\nSkipping line 2029856: expected 193 fields, saw 265\\nSkipping line 2029857: expected 193 fields, saw 265\\nSkipping line 2029858: expected 193 fields, saw 265\\nSkipping line 2029859: expected 193 fields, saw 265\\nSkipping line 2029860: expected 193 fields, saw 265\\nSkipping line 2029861: expected 193 fields, saw 265\\n'\n",
      "b'Skipping line 2042409: expected 193 fields, saw 313\\n'\n",
      "b'Skipping line 2059953: expected 193 fields, saw 637\\n'\n",
      "/miniconda/lib/python3.6/site-packages/IPython/core/interactiveshell.py:3063: DtypeWarning: Columns (8,9,10,11,12,13,15,17,18,19,20,26,27,31,32,34,35,46,49,50,51,52,53,54,61,62,63,64,65,66,73,74,75,76,77,78,85,86,87,88,89,90,97,98,99,100,101,102,109,110,111,112,113,114,121,122,123,124,125,126,133,134,135,136,137,138,145,147,148,149,150,157,158,159,160,161,162,169,171,172,173,174) have mixed types.Specify dtype option on import or set low_memory=False.\n",
      "  interactivity=interactivity, compiler=compiler, result=result)\n"
     ]
    },
    {
     "name": "stdout",
     "output_type": "stream",
     "text": [
      "There are 70750 drug target pairs.\n"
     ]
    },
    {
     "data": {
      "image/png": "[encoded data removed]",
      "text/plain": [
       "<Figure size 432x288 with 1 Axes>"
      ]
     },
     "metadata": {
      "needs_background": "light"
     },
     "output_type": "display_data"
    }
   ],
   "source": [
    "df = pd.read_csv('/home/sars-busters-consolidated/data/BindingDB_All.tsv', sep = '\\t', error_bad_lines=False)\n",
    "\n",
    "df = df[df['Number of Protein Chains in Target (>1 implies a multichain complex)'] == 1.0]\n",
    "df = df[df['Ligand SMILES'].notnull()]\n",
    "\n",
    "idx_str = 'Kd (nM)'\n",
    "\n",
    "df_want = df[df[idx_str].notnull()]\n",
    "df_want = df_want[['BindingDB Reactant_set_id', 'Ligand InChI', 'Ligand SMILES',\\\n",
    "                    'PubChem CID', 'UniProt (SwissProt) Primary ID of Target Chain',\\\n",
    "                    'BindingDB Target Chain  Sequence', idx_str]]\n",
    "\n",
    "df_want.rename(columns={'BindingDB Reactant_set_id':'ID', 'Ligand SMILES':'SMILES',\\\n",
    "                        'Ligand InChI':'InChI', 'PubChem CID':'PubChem_ID',\n",
    "                        'UniProt (SwissProt) Primary ID of Target Chain':'UniProt_ID',\n",
    "                        'BindingDB Target Chain  Sequence': 'Target Sequence',\n",
    "                            idx_str: 'Label'}, inplace=True)\n",
    "\n",
    "df_want['Label'] = df_want['Label'].str.replace('>', '')\n",
    "df_want['Label'] = df_want['Label'].str.replace('<', '')\n",
    "df_want['Label'] = df_want['Label'].astype(float)\n",
    "\n",
    "# have at least uniprot or pubchem ID\n",
    "df_want = df_want[df_want.PubChem_ID.notnull() | df_want.UniProt_ID.notnull()]\n",
    "df_want = df_want[df_want.InChI.notnull()]\n",
    "\n",
    "df_want = df_want[df_want.Label <= 10000000.0]\n",
    "print('There are ' + str(len(df_want)) + ' drug target pairs.')\n",
    "\n",
    "kd_list = list(df_want.Label.values)\n",
    "\n",
    "ax = sns.distplot(np.log10(remove_zeros_distribution(kd_list)), norm_hist=True)\n",
    "ax.set(xlabel='log Kd', ylabel='pdf')\n",
    "plt.show()"
   ]
  },
  {
   "cell_type": "markdown",
   "metadata": {},
   "source": [
    "# Randomzing the whole bipartite network"
   ]
  },
  {
   "cell_type": "code",
   "execution_count": 6,
   "metadata": {},
   "outputs": [],
   "source": [
    "#threshold = 30 # in nM\n",
    "\n",
    "df_want_Kd = df_want[['SMILES','Target Sequence','Label']]\n",
    "#df_want_Kd['Kd'] = df_want.Label.values\n",
    "#df_want_Kd['Label'] = [1 if x<threshold else 0 for x in kd_list]"
   ]
  },
  {
   "cell_type": "code",
   "execution_count": 7,
   "metadata": {},
   "outputs": [
    {
     "data": {
      "text/html": [
       "<div>\n",
       "<style scoped>\n",
       "    .dataframe tbody tr th:only-of-type {\n",
       "        vertical-align: middle;\n",
       "    }\n",
       "\n",
       "    .dataframe tbody tr th {\n",
       "        vertical-align: top;\n",
       "    }\n",
       "\n",
       "    .dataframe thead th {\n",
       "        text-align: right;\n",
       "    }\n",
       "</style>\n",
       "<table border=\"1\" class=\"dataframe\">\n",
       "  <thead>\n",
       "    <tr style=\"text-align: right;\">\n",
       "      <th></th>\n",
       "      <th>SMILES</th>\n",
       "      <th>Target Sequence</th>\n",
       "      <th>Label</th>\n",
       "    </tr>\n",
       "  </thead>\n",
       "  <tbody>\n",
       "    <tr>\n",
       "      <th>21470</th>\n",
       "      <td>Cc1ccc(CNS(=O)(=O)c2ccc(s2)S(N)(=O)=O)cc1</td>\n",
       "      <td>MSHHWGYGKHNGPEHWHKDFPIAKGERQSPVDIDTHTAKYDPSLKP...</td>\n",
       "      <td>0.46</td>\n",
       "    </tr>\n",
       "    <tr>\n",
       "      <th>21471</th>\n",
       "      <td>COc1ccc(CNS(=O)(=O)c2ccc(s2)S(N)(=O)=O)cc1</td>\n",
       "      <td>MSHHWGYGKHNGPEHWHKDFPIAKGERQSPVDIDTHTAKYDPSLKP...</td>\n",
       "      <td>0.49</td>\n",
       "    </tr>\n",
       "    <tr>\n",
       "      <th>21472</th>\n",
       "      <td>NS(=O)(=O)c1ccc(s1)S(=O)(=O)NCc1cccs1</td>\n",
       "      <td>MSHHWGYGKHNGPEHWHKDFPIAKGERQSPVDIDTHTAKYDPSLKP...</td>\n",
       "      <td>0.83</td>\n",
       "    </tr>\n",
       "    <tr>\n",
       "      <th>21473</th>\n",
       "      <td>NS(=O)(=O)c1cc2C(O)CN(Cc3cccs3)S(=O)(=O)c2s1</td>\n",
       "      <td>MSHHWGYGKHNGPEHWHKDFPIAKGERQSPVDIDTHTAKYDPSLKP...</td>\n",
       "      <td>0.20</td>\n",
       "    </tr>\n",
       "    <tr>\n",
       "      <th>21474</th>\n",
       "      <td>COc1ccc(cc1)N1CC(O)c2cc(sc2S1(=O)=O)S(N)(=O)=O</td>\n",
       "      <td>MSHHWGYGKHNGPEHWHKDFPIAKGERQSPVDIDTHTAKYDPSLKP...</td>\n",
       "      <td>0.16</td>\n",
       "    </tr>\n",
       "    <tr>\n",
       "      <th>...</th>\n",
       "      <td>...</td>\n",
       "      <td>...</td>\n",
       "      <td>...</td>\n",
       "    </tr>\n",
       "    <tr>\n",
       "      <th>2077352</th>\n",
       "      <td>CCCC(=O)c1ccc2Sc3ccccc3N(CCCN3CCN(C)CC3)c2c1</td>\n",
       "      <td>MKWVTFISLLLLFSSAYSRGVFRRDTHKSEIAHRFKDLGEEHFKGL...</td>\n",
       "      <td>16600.00</td>\n",
       "    </tr>\n",
       "    <tr>\n",
       "      <th>2077353</th>\n",
       "      <td>OCCN1CCN(CCCN2c3ccccc3Sc3ccc(Cl)cc23)CC1</td>\n",
       "      <td>MKWVTFISLLLLFSSAYSRGVFRRDTHKSEIAHRFKDLGEEHFKGL...</td>\n",
       "      <td>63100.00</td>\n",
       "    </tr>\n",
       "    <tr>\n",
       "      <th>2077354</th>\n",
       "      <td>CN(C)CCCN1c2ccccc2Sc2ccc(cc12)C#N</td>\n",
       "      <td>MKWVTFISLLLLFSSAYSRGVFRRDTHKSEIAHRFKDLGEEHFKGL...</td>\n",
       "      <td>34700.00</td>\n",
       "    </tr>\n",
       "    <tr>\n",
       "      <th>2077355</th>\n",
       "      <td>OCCN1CCN(CCCN2c3ccccc3Sc3ccc(cc23)C(F)(F)F)CC1</td>\n",
       "      <td>MKWVTFISLLLLFSSAYSRGVFRRDTHKSEIAHRFKDLGEEHFKGL...</td>\n",
       "      <td>38900.00</td>\n",
       "    </tr>\n",
       "    <tr>\n",
       "      <th>2077356</th>\n",
       "      <td>CC(CN1CCN(CCOCCO)CC1)CN1c2ccccc2Sc2ccccc12</td>\n",
       "      <td>MKWVTFISLLLLFSSAYSRGVFRRDTHKSEIAHRFKDLGEEHFKGL...</td>\n",
       "      <td>61700.00</td>\n",
       "    </tr>\n",
       "  </tbody>\n",
       "</table>\n",
       "<p>70750 rows × 3 columns</p>\n",
       "</div>"
      ],
      "text/plain": [
       "                                                 SMILES  \\\n",
       "21470         Cc1ccc(CNS(=O)(=O)c2ccc(s2)S(N)(=O)=O)cc1   \n",
       "21471        COc1ccc(CNS(=O)(=O)c2ccc(s2)S(N)(=O)=O)cc1   \n",
       "21472             NS(=O)(=O)c1ccc(s1)S(=O)(=O)NCc1cccs1   \n",
       "21473      NS(=O)(=O)c1cc2C(O)CN(Cc3cccs3)S(=O)(=O)c2s1   \n",
       "21474    COc1ccc(cc1)N1CC(O)c2cc(sc2S1(=O)=O)S(N)(=O)=O   \n",
       "...                                                 ...   \n",
       "2077352    CCCC(=O)c1ccc2Sc3ccccc3N(CCCN3CCN(C)CC3)c2c1   \n",
       "2077353        OCCN1CCN(CCCN2c3ccccc3Sc3ccc(Cl)cc23)CC1   \n",
       "2077354               CN(C)CCCN1c2ccccc2Sc2ccc(cc12)C#N   \n",
       "2077355  OCCN1CCN(CCCN2c3ccccc3Sc3ccc(cc23)C(F)(F)F)CC1   \n",
       "2077356      CC(CN1CCN(CCOCCO)CC1)CN1c2ccccc2Sc2ccccc12   \n",
       "\n",
       "                                           Target Sequence     Label  \n",
       "21470    MSHHWGYGKHNGPEHWHKDFPIAKGERQSPVDIDTHTAKYDPSLKP...      0.46  \n",
       "21471    MSHHWGYGKHNGPEHWHKDFPIAKGERQSPVDIDTHTAKYDPSLKP...      0.49  \n",
       "21472    MSHHWGYGKHNGPEHWHKDFPIAKGERQSPVDIDTHTAKYDPSLKP...      0.83  \n",
       "21473    MSHHWGYGKHNGPEHWHKDFPIAKGERQSPVDIDTHTAKYDPSLKP...      0.20  \n",
       "21474    MSHHWGYGKHNGPEHWHKDFPIAKGERQSPVDIDTHTAKYDPSLKP...      0.16  \n",
       "...                                                    ...       ...  \n",
       "2077352  MKWVTFISLLLLFSSAYSRGVFRRDTHKSEIAHRFKDLGEEHFKGL...  16600.00  \n",
       "2077353  MKWVTFISLLLLFSSAYSRGVFRRDTHKSEIAHRFKDLGEEHFKGL...  63100.00  \n",
       "2077354  MKWVTFISLLLLFSSAYSRGVFRRDTHKSEIAHRFKDLGEEHFKGL...  34700.00  \n",
       "2077355  MKWVTFISLLLLFSSAYSRGVFRRDTHKSEIAHRFKDLGEEHFKGL...  38900.00  \n",
       "2077356  MKWVTFISLLLLFSSAYSRGVFRRDTHKSEIAHRFKDLGEEHFKGL...  61700.00  \n",
       "\n",
       "[70750 rows x 3 columns]"
      ]
     },
     "execution_count": 7,
     "metadata": {},
     "output_type": "execute_result"
    }
   ],
   "source": [
    "df_want_Kd"
   ]
  },
  {
   "cell_type": "code",
   "execution_count": 8,
   "metadata": {},
   "outputs": [
    {
     "name": "stderr",
     "output_type": "stream",
     "text": [
      "100%|██████████| 70750/70750 [00:00<00:00, 1618773.09it/s]\n"
     ]
    }
   ],
   "source": [
    "threshold = 30 \n",
    "\n",
    "df_want_Kd_binary = pd.DataFrame(df_want_Kd)\n",
    "df_want_Kd_binary['Label'] = [1 if x < threshold else 0 for x in tqdm(df_want_Kd['Label'].tolist())]"
   ]
  },
  {
   "cell_type": "code",
   "execution_count": 9,
   "metadata": {},
   "outputs": [],
   "source": [
    "ligands = list(set(df_want_Kd_binary['SMILES'].tolist()))\n",
    "targets = list(set(df_want_Kd_binary['Target Sequence'].tolist()))"
   ]
  },
  {
   "cell_type": "code",
   "execution_count": 10,
   "metadata": {},
   "outputs": [
    {
     "name": "stderr",
     "output_type": "stream",
     "text": [
      "100%|██████████| 13392/13392 [01:52<00:00, 119.32it/s]\n"
     ]
    }
   ],
   "source": [
    "ligand_annotations_bindingDB = []\n",
    "ligand_pos_degree_bindingDB = []\n",
    "ligand_neg_degree_bindingDB = []\n",
    "ligand_degree_ratio_bindingDB = []\n",
    "\n",
    "for chem in tqdm(ligands):\n",
    "    sub_df = df_want_Kd_binary[df_want_Kd_binary['SMILES'] == chem]\n",
    "    ligand_annotations_bindingDB.append(len(sub_df))\n",
    "    ligand_pos_degree_bindingDB.append(sub_df['Label'].tolist().count(1))\n",
    "    ligand_neg_degree_bindingDB.append(sub_df['Label'].tolist().count(0))\n",
    "    ligand_degree_ratio_bindingDB.append(sub_df['Label'].tolist().count(1)/(sub_df['Label'].tolist().count(1)+sub_df['Label'].tolist().count(0)))"
   ]
  },
  {
   "cell_type": "code",
   "execution_count": 11,
   "metadata": {},
   "outputs": [
    {
     "name": "stderr",
     "output_type": "stream",
     "text": [
      "100%|██████████| 1507/1507 [00:12<00:00, 118.38it/s]\n"
     ]
    }
   ],
   "source": [
    "target_annotations_bindingDB = []\n",
    "target_pos_degree_bindingDB = []\n",
    "target_neg_degree_bindingDB = []\n",
    "target_degree_ratio_bindingDB = []\n",
    "\n",
    "for prot in tqdm(targets):\n",
    "    sub_df = df_want_Kd_binary[df_want_Kd_binary['Target Sequence'] == prot]\n",
    "    target_annotations_bindingDB.append(len(sub_df))\n",
    "    target_pos_degree_bindingDB.append(sub_df['Label'].tolist().count(1))\n",
    "    target_neg_degree_bindingDB.append(sub_df['Label'].tolist().count(0))\n",
    "    target_degree_ratio_bindingDB.append(sub_df['Label'].tolist().count(1)/(sub_df['Label'].tolist().count(1)+sub_df['Label'].tolist().count(0)))"
   ]
  },
  {
   "cell_type": "code",
   "execution_count": 12,
   "metadata": {},
   "outputs": [],
   "source": [
    "p_connection_layer = len(df_want_Kd_binary) / (len(ligands)*len(targets))"
   ]
  },
  {
   "cell_type": "code",
   "execution_count": 13,
   "metadata": {},
   "outputs": [],
   "source": [
    "randomized_combined_bipartite = nx.Graph(bipartite.random_graph(len(ligands), len(targets), p_connection_layer))"
   ]
  },
  {
   "cell_type": "code",
   "execution_count": 14,
   "metadata": {},
   "outputs": [
    {
     "data": {
      "text/plain": [
       "70968"
      ]
     },
     "execution_count": 14,
     "metadata": {},
     "output_type": "execute_result"
    }
   ],
   "source": [
    "randomized_combined_bipartite.number_of_edges()"
   ]
  },
  {
   "cell_type": "code",
   "execution_count": 15,
   "metadata": {},
   "outputs": [
    {
     "name": "stdout",
     "output_type": "stream",
     "text": [
      "13392\n",
      "1507\n"
     ]
    }
   ],
   "source": [
    "top_nodes = {n for n, d in randomized_combined_bipartite.nodes(data=True) if d[\"bipartite\"] == 0}\n",
    "\n",
    "print(len(top_nodes))\n",
    "\n",
    "bottom_nodes = set(randomized_combined_bipartite) - top_nodes\n",
    "\n",
    "print(len(bottom_nodes))"
   ]
  },
  {
   "cell_type": "markdown",
   "metadata": {},
   "source": [
    "# Target Annotaions and Kd"
   ]
  },
  {
   "cell_type": "code",
   "execution_count": 16,
   "metadata": {},
   "outputs": [],
   "source": [
    "df_want_Kd = df_want[['SMILES','Target Sequence','Label']]"
   ]
  },
  {
   "cell_type": "code",
   "execution_count": 17,
   "metadata": {},
   "outputs": [
    {
     "name": "stderr",
     "output_type": "stream",
     "text": [
      "/miniconda/lib/python3.6/site-packages/ipykernel_launcher.py:6: SettingWithCopyWarning: \n",
      "A value is trying to be set on a copy of a slice from a DataFrame.\n",
      "Try using .loc[row_indexer,col_indexer] = value instead\n",
      "\n",
      "See the caveats in the documentation: https://pandas.pydata.org/pandas-docs/stable/user_guide/indexing.html#returning-a-view-versus-a-copy\n",
      "  \n",
      "100%|██████████| 1507/1507 [00:12<00:00, 119.85it/s]\n",
      "100%|██████████| 172/172 [00:00<00:00, 5881.08it/s]"
     ]
    },
    {
     "name": "stdout",
     "output_type": "stream",
     "text": [
      "Targets - Between k and <Kd>:  SpearmanrResult(correlation=-0.4673048395959652, pvalue=1.0298775028113185e-10)\n"
     ]
    },
    {
     "name": "stderr",
     "output_type": "stream",
     "text": [
      "\n"
     ]
    }
   ],
   "source": [
    "targets = list(set(df_want_Kd['Target Sequence']))\n",
    "target_annotations = []\n",
    "target_average_Kd = []\n",
    "\n",
    "#df_want_Kd = df_want_Kd[df_want_Kd['Label'] != 0]\n",
    "df_want_Kd['Label'] = list(df_want_Kd['Label'].tolist())\n",
    "\n",
    "for prot in tqdm(targets):\n",
    "    sub_df = df_want_Kd[df_want_Kd['Target Sequence'] == prot]\n",
    "    target_annotations.append(len(sub_df))\n",
    "    target_average_Kd.append(np.mean(sub_df['Label'].tolist()))\n",
    "    \n",
    "different_target_annotations = list(set(target_annotations))\n",
    "unique_Kd_targets = []\n",
    "unique_Kd_targets_std = []\n",
    "\n",
    "for unique_ann in tqdm(different_target_annotations):\n",
    "    \n",
    "    all_Kd_list = []    \n",
    "    all_indices = get_all_indices(target_annotations,unique_ann)\n",
    "    \n",
    "    for j in all_indices:\n",
    "        all_Kd_list.append(target_average_Kd[j])\n",
    "        \n",
    "    unique_Kd_targets.append(np.mean(all_Kd_list))\n",
    "    unique_Kd_targets_std.append(np.std(all_Kd_list))\n",
    "    \n",
    "print('Targets - Between k and <Kd>: ', stats.spearmanr(different_target_annotations,unique_Kd_targets))"
   ]
  },
  {
   "cell_type": "code",
   "execution_count": 18,
   "metadata": {},
   "outputs": [
    {
     "name": "stdout",
     "output_type": "stream",
     "text": [
      "Mean and standard deviation of log Kd:  7.104377155054556 3.333661394378017\n"
     ]
    },
    {
     "data": {
      "text/plain": [
       "Text(0, 0.5, 'Average $K_d$')"
      ]
     },
     "execution_count": 18,
     "metadata": {},
     "output_type": "execute_result"
    },
    {
     "data": {
      "image/png": "[encoded data removed]",
      "text/plain": [
       "<Figure size 640x480 with 1 Axes>"
      ]
     },
     "metadata": {
      "needs_background": "light"
     },
     "output_type": "display_data"
    }
   ],
   "source": [
    "mean_log_Kd = np.mean(np.log(remove_zeros_distribution(kd_list)))\n",
    "std_log_Kd = np.std(np.log(remove_zeros_distribution(kd_list)))\n",
    "\n",
    "print('Mean and standard deviation of log Kd: ', mean_log_Kd, std_log_Kd)\n",
    "\n",
    "figure(figsize=(8, 6), dpi=80)\n",
    "\n",
    "sns.scatterplot(different_target_annotations,unique_Kd_targets)\n",
    "plt.xscale('log')\n",
    "plt.yscale('log')\n",
    "plt.xlabel('Target Annotations')\n",
    "plt.ylabel(r'Average $K_d$')"
   ]
  },
  {
   "cell_type": "code",
   "execution_count": 19,
   "metadata": {},
   "outputs": [
    {
     "name": "stdout",
     "output_type": "stream",
     "text": [
      "Average annotations for targets:  47.09223623092236\n"
     ]
    }
   ],
   "source": [
    "mean_poisson = np.mean([randomized_combined_bipartite.degree(node) for node in bottom_nodes]) \n",
    "# mean_poisson = np.mean(ligand_annotations_bindingDB)\n",
    "print('Average annotations for targets: ', mean_poisson)"
   ]
  },
  {
   "cell_type": "code",
   "execution_count": 20,
   "metadata": {},
   "outputs": [],
   "source": [
    "mean = [0, 0]\n",
    "cov = [[1, -0.47], [-0.47, 1]] # Negative correlation "
   ]
  },
  {
   "cell_type": "code",
   "execution_count": 21,
   "metadata": {
    "scrolled": true
   },
   "outputs": [],
   "source": [
    "x, y = np.random.multivariate_normal(mean, cov, size=100000).T"
   ]
  },
  {
   "cell_type": "code",
   "execution_count": 22,
   "metadata": {},
   "outputs": [],
   "source": [
    "from scipy.stats import norm  \n",
    "\n",
    "U1 = norm.cdf(x)\n",
    "U2 = norm.cdf(y)"
   ]
  },
  {
   "cell_type": "code",
   "execution_count": 23,
   "metadata": {},
   "outputs": [
    {
     "name": "stderr",
     "output_type": "stream",
     "text": [
      "100%|██████████| 100000/100000 [00:33<00:00, 2941.86it/s]\n"
     ]
    }
   ],
   "source": [
    "K_copula_list = []\n",
    "Kd_copula_list = []\n",
    "\n",
    "for i in tqdm(range(len(U1))):\n",
    "    K_copula_list.append(poisson.ppf(U1[i], mean_poisson, loc=0))\n",
    "    Kd_copula_list.append(np.exp(mean_log_Kd + std_log_Kd*norm.ppf(U2[i])))"
   ]
  },
  {
   "cell_type": "code",
   "execution_count": 24,
   "metadata": {},
   "outputs": [
    {
     "data": {
      "image/png": "[encoded data removed]",
      "text/plain": [
       "<Figure size 432x288 with 1 Axes>"
      ]
     },
     "metadata": {
      "needs_background": "light"
     },
     "output_type": "display_data"
    }
   ],
   "source": [
    "plt.scatter(K_copula_list,Kd_copula_list,alpha=0.2)\n",
    "plt.xscale('log')\n",
    "plt.yscale('log')"
   ]
  },
  {
   "cell_type": "code",
   "execution_count": 25,
   "metadata": {},
   "outputs": [
    {
     "data": {
      "text/plain": [
       "SpearmanrResult(correlation=-0.455803222546872, pvalue=0.0)"
      ]
     },
     "execution_count": 25,
     "metadata": {},
     "output_type": "execute_result"
    }
   ],
   "source": [
    "stats.spearmanr(Kd_copula_list,K_copula_list)"
   ]
  },
  {
   "cell_type": "markdown",
   "metadata": {},
   "source": [
    "# Adding Randomized Kd Values"
   ]
  },
  {
   "cell_type": "code",
   "execution_count": 26,
   "metadata": {},
   "outputs": [
    {
     "name": "stdout",
     "output_type": "stream",
     "text": [
      "13392\n",
      "1507\n"
     ]
    }
   ],
   "source": [
    "top_nodes = list({n for n, d in randomized_combined_bipartite.nodes(data=True) if d[\"bipartite\"] == 0})\n",
    "\n",
    "print(len(top_nodes))\n",
    "\n",
    "bottom_nodes = list(set(randomized_combined_bipartite).difference(set(top_nodes)))\n",
    "\n",
    "print(len(bottom_nodes))"
   ]
  },
  {
   "cell_type": "code",
   "execution_count": 27,
   "metadata": {
    "scrolled": true
   },
   "outputs": [
    {
     "name": "stderr",
     "output_type": "stream",
     "text": [
      "100%|██████████| 1507/1507 [02:41<00:00,  9.35it/s]\n"
     ]
    }
   ],
   "source": [
    "target_random_Kd_dict = dict()\n",
    "\n",
    "for node in tqdm(bottom_nodes):\n",
    "    degree_node = randomized_combined_bipartite.degree(node)\n",
    "    #closest_index = closest(K_copula_list,degree_node)\n",
    "    closest_indices = closest(K_copula_list,degree_node)\n",
    "    Kd_all_list = []\n",
    "    for index in closest_indices:\n",
    "        Kd_all_list.append(Kd_copula_list[index])\n",
    "    target_random_Kd_dict[node] = Kd_all_list"
   ]
  },
  {
   "cell_type": "code",
   "execution_count": 28,
   "metadata": {},
   "outputs": [
    {
     "data": {
      "text/plain": [
       "Text(0, 0.5, 'Kd Chosen')"
      ]
     },
     "execution_count": 28,
     "metadata": {},
     "output_type": "execute_result"
    },
    {
     "data": {
      "image/png": "[encoded data removed]",
      "text/plain": [
       "<Figure size 432x288 with 1 Axes>"
      ]
     },
     "metadata": {
      "needs_background": "light"
     },
     "output_type": "display_data"
    }
   ],
   "source": [
    "plt.scatter([randomized_combined_bipartite.degree(node) for node in bottom_nodes],[np.random.choice(target_random_Kd_dict[node]) for node in bottom_nodes])\n",
    "plt.yscale('log')\n",
    "plt.xlabel('Target degree')\n",
    "plt.ylabel('Kd Chosen')"
   ]
  },
  {
   "cell_type": "code",
   "execution_count": 29,
   "metadata": {},
   "outputs": [
    {
     "data": {
      "text/plain": [
       "SpearmanrResult(correlation=-0.4660183743731601, pvalue=4.2376329066566653e-82)"
      ]
     },
     "execution_count": 29,
     "metadata": {},
     "output_type": "execute_result"
    }
   ],
   "source": [
    "stats.spearmanr([randomized_combined_bipartite.degree(node) for node in bottom_nodes],[np.random.choice(target_random_Kd_dict[node]) for node in bottom_nodes])"
   ]
  },
  {
   "cell_type": "code",
   "execution_count": 261,
   "metadata": {
    "collapsed": true
   },
   "outputs": [
    {
     "data": {
      "text/plain": [
       "[0.6546518804036027,\n",
       " 341895.10335140594,\n",
       " 50514.49036224982,\n",
       " 208.0556012644833,\n",
       " 14789.126438167928,\n",
       " 1184.637210756803,\n",
       " 11237834.308799246,\n",
       " 33.38295225876662,\n",
       " 42.40227811634253,\n",
       " 121.24604092450804,\n",
       " 3040.9456734224855,\n",
       " 1547.319469286699,\n",
       " 104.13820571469503,\n",
       " 26004.578511440126,\n",
       " 4358.724780979737,\n",
       " 1808.5682038516663,\n",
       " 2199.054512275056,\n",
       " 250.59237931247083,\n",
       " 2559.418237493196,\n",
       " 480.48704951872827,\n",
       " 509.480366405138,\n",
       " 174.15115356876154,\n",
       " 5065.7674524798,\n",
       " 285.6849676059837,\n",
       " 12898.676546429639,\n",
       " 110.09895494180367,\n",
       " 4.914484918228874,\n",
       " 32885.99056195085,\n",
       " 122.92261036816537,\n",
       " 270.22275616164467,\n",
       " 12.363412452377341,\n",
       " 47.62923861110789,\n",
       " 207.7727616823984,\n",
       " 96.32764263470672,\n",
       " 144.47394754640524,\n",
       " 563.3435934424202,\n",
       " 128.412881706026,\n",
       " 101.17844417021702,\n",
       " 123.03615196472728,\n",
       " 27832.953493884143,\n",
       " 2977.316177646677,\n",
       " 138.61602011706353,\n",
       " 31734.202119116213,\n",
       " 20352.548660465694,\n",
       " 6582.460863300195,\n",
       " 478.80814472872584,\n",
       " 293.90447433752126,\n",
       " 452.81792476131267,\n",
       " 748938.8138145462,\n",
       " 14715.771407512833,\n",
       " 5561.147872199602,\n",
       " 8995.801456762927,\n",
       " 32432.58022907908,\n",
       " 13448.33049468281,\n",
       " 127.27312053036597,\n",
       " 9417.011318036812,\n",
       " 763008.513686541,\n",
       " 221.37652227248145,\n",
       " 79.95196373397668,\n",
       " 6161.281625345401,\n",
       " 8971.844971159366,\n",
       " 66.0122662714533,\n",
       " 1676100.760718239,\n",
       " 787.0406626228837,\n",
       " 592583.276591739,\n",
       " 39605.621267215094,\n",
       " 457.411464497786,\n",
       " 40.506182767973115,\n",
       " 157218.3248994845,\n",
       " 41.33937520960965,\n",
       " 24262.640914365264,\n",
       " 767.1678423367522,\n",
       " 0.1337048085081936,\n",
       " 2082.164485786953,\n",
       " 31.812165483355713,\n",
       " 65608.24684903648,\n",
       " 845942.5428068057,\n",
       " 6606.212587910338,\n",
       " 77.94223220203092,\n",
       " 1976.9205217724966,\n",
       " 29.871938515218144,\n",
       " 149.89056623496356,\n",
       " 3846.3049582442018,\n",
       " 19.242880311928747,\n",
       " 123.42696727817341,\n",
       " 60.51012156693478,\n",
       " 4327.444405895563,\n",
       " 63755.27277739316,\n",
       " 987.4162800830987,\n",
       " 37.37002331717122,\n",
       " 172.8755124142552,\n",
       " 6173.14699349823,\n",
       " 145.94382129362293,\n",
       " 4.074678218807125,\n",
       " 337.0090421691695,\n",
       " 72.97969719765081,\n",
       " 59.386627369537436,\n",
       " 55152.40199109925,\n",
       " 3484.5132722598623,\n",
       " 13114.957314110574,\n",
       " 311.9185363600219,\n",
       " 20090.360421358342,\n",
       " 558.0076201622513,\n",
       " 70.43863611921961,\n",
       " 21303.77595158716,\n",
       " 3064.854880746445,\n",
       " 109735.66331653397,\n",
       " 680426.0107582335,\n",
       " 294.5144402562243,\n",
       " 156.72657150896612,\n",
       " 151788.29315092793,\n",
       " 27857.417121740065,\n",
       " 1152.9097883433074,\n",
       " 1336.9886216723726,\n",
       " 673.7457173633815,\n",
       " 2448.2290323487287,\n",
       " 82845.829177744,\n",
       " 9730.476165184322,\n",
       " 130869.23790360127,\n",
       " 6049.261280439907,\n",
       " 267.070228447637,\n",
       " 8527798.060592571,\n",
       " 16568.170189867724,\n",
       " 895.0849410987221,\n",
       " 15.484938175892713,\n",
       " 3306.4479128168527,\n",
       " 2.2287082009970227,\n",
       " 3531.284081223938,\n",
       " 79659.95388557196,\n",
       " 9520.252982258895,\n",
       " 124.3890917650327,\n",
       " 8049.802777005798,\n",
       " 213.01951442340462,\n",
       " 18598.91219527413,\n",
       " 412.44760728393055,\n",
       " 305.25295174215256,\n",
       " 650.7699457860023,\n",
       " 1460.0378669683655,\n",
       " 38.08149882695801,\n",
       " 25.021739076671878,\n",
       " 52.41827137674512,\n",
       " 235.33451991281063,\n",
       " 969.035744222437,\n",
       " 21.117818601880483,\n",
       " 6246.994399761528,\n",
       " 198.34131992867725,\n",
       " 30.436041342602724,\n",
       " 5832.690568339415,\n",
       " 11645.255000978208,\n",
       " 73671.63628393014,\n",
       " 952.0638235535042,\n",
       " 5414.0942641202755,\n",
       " 206.86333043412222,\n",
       " 2171.6088225150374,\n",
       " 35840.72718318677,\n",
       " 29906.60648006499,\n",
       " 30.98611865544227,\n",
       " 23.526550196655187,\n",
       " 21.09010906542534,\n",
       " 14677.873894542587,\n",
       " 2218.0247076789997,\n",
       " 0.7128453067659267,\n",
       " 19428.44532913145,\n",
       " 26.15254319534941,\n",
       " 24282.18803551413,\n",
       " 15452.745897186092,\n",
       " 126.10479897214708,\n",
       " 98.9545877757782,\n",
       " 636.7293382714236,\n",
       " 1655.2043120877,\n",
       " 1233.3207056443648,\n",
       " 553.8086724760565,\n",
       " 5284.313728004268,\n",
       " 162373.30396290915,\n",
       " 7.213534995214972,\n",
       " 1043.2071241383635,\n",
       " 4816.611102915617,\n",
       " 48573.79587012069,\n",
       " 69.23760350932669,\n",
       " 1711.4208538020875,\n",
       " 43512.55640674496,\n",
       " 224.52893576495336,\n",
       " 8069.174806972009,\n",
       " 22.07363568725321,\n",
       " 1609.1464381259516,\n",
       " 87824.91503916563,\n",
       " 72257.414526469,\n",
       " 99.64812457345688,\n",
       " 1328.405850375886,\n",
       " 440.2449514336199,\n",
       " 175.65449668343018,\n",
       " 47.06897249076333,\n",
       " 11.618161115049704,\n",
       " 122.53486675824543,\n",
       " 23.675130694343977,\n",
       " 2742.6461817474733,\n",
       " 24094.780025232332,\n",
       " 660.9440945527174,\n",
       " 8644.269779867249,\n",
       " 4432.734506702672,\n",
       " 1835.034140071535,\n",
       " 43044.82531054973,\n",
       " 342.5637857027111,\n",
       " 34030.03337997724,\n",
       " 17.800159984426426,\n",
       " 3687.4202921303895,\n",
       " 11.57442603483651,\n",
       " 5310.817859887597,\n",
       " 851.0084029458103,\n",
       " 4889.747617010522,\n",
       " 18105.043397958183,\n",
       " 33.0553065870233,\n",
       " 68.52367810073842,\n",
       " 35.59780074437042,\n",
       " 700.8251021086254,\n",
       " 25.828111440269,\n",
       " 30.75190702492233,\n",
       " 83.25117815984734,\n",
       " 954.9561561267869,\n",
       " 6723.52753301947,\n",
       " 0.9659083345380975,\n",
       " 63.003894553269305,\n",
       " 5538.904680464755,\n",
       " 5422.222973383683,\n",
       " 599.0798675602065,\n",
       " 11.66953879337115,\n",
       " 1.7185987844573436,\n",
       " 285.5754677870768,\n",
       " 109.34499367473398,\n",
       " 190850.6766453659,\n",
       " 9548.455239646244,\n",
       " 48548.8182517759,\n",
       " 43437.13451193171,\n",
       " 7310.6779620262605,\n",
       " 20126.090612950138,\n",
       " 18636.605907164623,\n",
       " 7.730933505292313,\n",
       " 62236.14105286022,\n",
       " 52098.119334959854,\n",
       " 2460.769396160803,\n",
       " 38.145006116833706,\n",
       " 28854.70051961959,\n",
       " 401.16926343266647,\n",
       " 305.9772018600768,\n",
       " 2265.379140265389,\n",
       " 3.6686127146258056,\n",
       " 10788.077958366137,\n",
       " 13403.368632366151,\n",
       " 282.2931344699335,\n",
       " 13673.802564136422,\n",
       " 44722.88834789333,\n",
       " 145811.37240104543,\n",
       " 1283.154649503916,\n",
       " 431.80872799494466,\n",
       " 3384.327889678333,\n",
       " 47370.21497780474,\n",
       " 0.19623510313153222,\n",
       " 4089.4030197652064,\n",
       " 14.184278689499672,\n",
       " 1368.0535603166416,\n",
       " 634.9736248759751,\n",
       " 2.080193677690589,\n",
       " 208.18762732137532,\n",
       " 75.23215683184215,\n",
       " 2100.18898616003,\n",
       " 8516.210761493241,\n",
       " 55.81499168951313,\n",
       " 21463.941081484103,\n",
       " 37639.65683597398,\n",
       " 1643.0265077314527,\n",
       " 366.4573224162491,\n",
       " 0.5205799131582359,\n",
       " 152156.93138330334,\n",
       " 23.603580867069297,\n",
       " 7.9394965143961596,\n",
       " 251.419103409103,\n",
       " 40.68131257825913,\n",
       " 10010.300998415476,\n",
       " 816.3336712177833,\n",
       " 684759.8960597485,\n",
       " 955.9989621238559,\n",
       " 1822.0270151467082,\n",
       " 563.3905448101086,\n",
       " 328.7964609671115,\n",
       " 5847.407810713614,\n",
       " 305.01516317176345,\n",
       " 0.7263517425200554,\n",
       " 2821.4458810830192,\n",
       " 850.8442918397345,\n",
       " 135564.85804791897,\n",
       " 72.12119395650205,\n",
       " 445.8301925673295,\n",
       " 13901.56470677573,\n",
       " 82.301988269239,\n",
       " 3551.993543869536,\n",
       " 432.9440959008092,\n",
       " 0.20529712528739266,\n",
       " 30266.992692634707,\n",
       " 942.2890072819151,\n",
       " 3042.8163648043155,\n",
       " 1069029.6390985001,\n",
       " 2.767928472175386,\n",
       " 49871.05695050681,\n",
       " 24699.10305419711,\n",
       " 16993.465961480666,\n",
       " 551807.6840094088,\n",
       " 1519.0291524689283,\n",
       " 112102.13403770585,\n",
       " 10227.737580163808,\n",
       " 360.0829873321928,\n",
       " 405.2932636164542,\n",
       " 17244.074846501113,\n",
       " 1169.527661885704,\n",
       " 0.4326626336501962,\n",
       " 59255.92198034914,\n",
       " 39138.55952648688,\n",
       " 3152.1933657787,\n",
       " 902.705124437788,\n",
       " 99.74542145218338,\n",
       " 574.2935851411747,\n",
       " 2525.3381036428104,\n",
       " 476.2005706822861,\n",
       " 1787742.792006974,\n",
       " 5257.865578989677,\n",
       " 140725.19287282904,\n",
       " 39.32625790849489,\n",
       " 155.60425448497355,\n",
       " 1922973.0572444305,\n",
       " 625.617064899457,\n",
       " 6251.538394869013,\n",
       " 13.028115374222399,\n",
       " 1391297.0609338358,\n",
       " 159407.09395850453,\n",
       " 178.07054965383756,\n",
       " 3950.9881070079887,\n",
       " 364.41121590420846,\n",
       " 86365.71805199118,\n",
       " 348.8067157911245,\n",
       " 816.765237025759,\n",
       " 1537.0047787610952,\n",
       " 22.823025345949176,\n",
       " 79236.07566576035,\n",
       " 9.015119952862717,\n",
       " 1363.6856141288124,\n",
       " 71.72793439866952,\n",
       " 16.207879296048567,\n",
       " 5669.2686911466835,\n",
       " 1311.9790538934753,\n",
       " 131.42027251905336,\n",
       " 7083.069327364807,\n",
       " 2800.613320754339,\n",
       " 68567.81451099414,\n",
       " 785.824598699824,\n",
       " 2572.0380159099823,\n",
       " 5.423900283249837,\n",
       " 5234908.5488205375,\n",
       " 3.4161789442501203,\n",
       " 848.6824101057359,\n",
       " 41357.62910663178,\n",
       " 24497.795149375117,\n",
       " 759392.6423860122,\n",
       " 167.61084213815224,\n",
       " 2133.579882256038,\n",
       " 6622.265365463692,\n",
       " 869.742033468922,\n",
       " 0.7931089663214804,\n",
       " 22705.644597901326,\n",
       " 247.45125973966952,\n",
       " 850.1019000177137,\n",
       " 71645.6040506021,\n",
       " 319.4145785365739,\n",
       " 1918.881581589112,\n",
       " 314.49669326672364,\n",
       " 1572.0355876316382,\n",
       " 5670.909231788917,\n",
       " 39.55647438334077,\n",
       " 45.99721422681793,\n",
       " 9545.93347143095,\n",
       " 650.5283805406339,\n",
       " 24254.955113687905,\n",
       " 3055.4407481925173,\n",
       " 25404.24711151602,\n",
       " 12.43983622928826,\n",
       " 280.8546925306007,\n",
       " 4.068894651083255,\n",
       " 6977.897103290229,\n",
       " 476.1695448176042,\n",
       " 688.1105552305571,\n",
       " 120.9226846657952,\n",
       " 11868.635935977512,\n",
       " 808.908970777079,\n",
       " 742.6239818059938,\n",
       " 47758.26366858972,\n",
       " 61.93779637836619,\n",
       " 637.890482259833,\n",
       " 27795.19357889254,\n",
       " 27143.299865355493,\n",
       " 294984.4700775819,\n",
       " 11036.16231509008,\n",
       " 5319.584415074217,\n",
       " 788732.4708256179,\n",
       " 38695.75784524096,\n",
       " 175.75444860985763,\n",
       " 44.5560084943204,\n",
       " 4448.925681421717,\n",
       " 1920.6815272139772,\n",
       " 3083.1467092526445,\n",
       " 16834.579731104972,\n",
       " 9492.301521079786,\n",
       " 173.04884432846313,\n",
       " 371.2993079963586,\n",
       " 16.8472971262911,\n",
       " 3717281.247470006,\n",
       " 258.4567163810922,\n",
       " 115.23011889941115,\n",
       " 54.019871938579115,\n",
       " 160.51180261742203,\n",
       " 47297.29772224467,\n",
       " 6270.184591430191,\n",
       " 3154.176876795738,\n",
       " 13944621.696237203,\n",
       " 736.4291805218381,\n",
       " 463.432604044829,\n",
       " 5280.8282921825485,\n",
       " 2089.764077312908,\n",
       " 9.667415078078665,\n",
       " 189.14305419003426,\n",
       " 116.84530532795591,\n",
       " 2955.4628341628,\n",
       " 654.1608381510887,\n",
       " 647.9232510166794,\n",
       " 855.5041142036679,\n",
       " 23238.58446351252,\n",
       " 44.565947979279095,\n",
       " 33493.65718838089,\n",
       " 2972.4872048128077,\n",
       " 128.90245433139597,\n",
       " 264131.399754955,\n",
       " 87.31895453448817,\n",
       " 69019.02922654977,\n",
       " 2003.6749626502065,\n",
       " 0.23767488535480516,\n",
       " 158.29841535057392,\n",
       " 787.9286834863747,\n",
       " 228.85221017188087,\n",
       " 29.309811208554912,\n",
       " 821.8452160406849,\n",
       " 243140.8804931286,\n",
       " 138214.98324509367,\n",
       " 1126995.831699918,\n",
       " 326.26492078988286,\n",
       " 26575.37394263075,\n",
       " 8723.057507541807,\n",
       " 765.6860669502931,\n",
       " 169833.27376803392,\n",
       " 4353.250532416417,\n",
       " 277.2240163429259,\n",
       " 2382.6394872775354,\n",
       " 128.05317800975286,\n",
       " 964.8352489081421,\n",
       " 185.74386403700746,\n",
       " 2462.926880246358,\n",
       " 8247.721983074334,\n",
       " 53.04888897114259,\n",
       " 34.33622884815573,\n",
       " 976.0135512570932,\n",
       " 1531.9245791753788,\n",
       " 3235.8036463188773,\n",
       " 205457.20643136607,\n",
       " 10474.219383978252,\n",
       " 487.3546707622236,\n",
       " 7742.091761338162,\n",
       " 2.851823376533737,\n",
       " 134.5903811078629,\n",
       " 7584.63743693164,\n",
       " 1048.9701588235648,\n",
       " 67.39506717300024,\n",
       " 341.43920628459074,\n",
       " 156.79127628650565,\n",
       " 48674.64118468364,\n",
       " 89.77071590338103,\n",
       " 189.76850851298553,\n",
       " 397.6249826263624,\n",
       " 38160.053923370004,\n",
       " 6.540389713926853,\n",
       " 166583.11089118037,\n",
       " 117.10410138656769,\n",
       " 2131.453304894954,\n",
       " 23.85881439572758,\n",
       " 7935.64428317548,\n",
       " 297.68853676019376,\n",
       " 292.22198121305087,\n",
       " 23.975719325505857,\n",
       " 5793.239599402314,\n",
       " 80.55681023697501,\n",
       " 3070.3269707504433,\n",
       " 840.0629561603424,\n",
       " 1088.1924217475464,\n",
       " 95.50387851488018,\n",
       " 17398.00845985695,\n",
       " 2.34111802270789,\n",
       " 69.84882025376919,\n",
       " 442.8128581392473,\n",
       " 253502.46339895917,\n",
       " 166.00056733028705,\n",
       " 108.43972416404297,\n",
       " 12387.37836098181,\n",
       " 252.23630324252187,\n",
       " 474.7830430339926,\n",
       " 7446.863513286239,\n",
       " 2509.2519288645594,\n",
       " 3858.384689704634,\n",
       " 708.165296741852,\n",
       " 2359.4744711246844,\n",
       " 34537.90966205087,\n",
       " 98179.88789452965,\n",
       " 46020.10494241454,\n",
       " 154175.50272629547,\n",
       " 426.5105931830684,\n",
       " 269.1645359619517,\n",
       " 585.2715984010463,\n",
       " 1129.4757041243981,\n",
       " 268.9759431670712,\n",
       " 885.482562620713,\n",
       " 389415.84595935204,\n",
       " 4828.548967318394,\n",
       " 14298.285901856416,\n",
       " 4.5978886455865675,\n",
       " 880.334798291156,\n",
       " 105398.17442093503,\n",
       " 59.66650728750126,\n",
       " 35882.94031709341,\n",
       " 8141.639132495189,\n",
       " 92.48440846786671,\n",
       " 1.9822426062988778,\n",
       " 15880.794676084382,\n",
       " 162972.7564211034,\n",
       " 2.0018924093257744,\n",
       " 133.25082618231627,\n",
       " 0.030186727395211936,\n",
       " 6454988.618384834,\n",
       " 64633.24007962416,\n",
       " 1037.165170828939,\n",
       " 3304.797112706304,\n",
       " 121.93802550852742,\n",
       " 812.6122032796517,\n",
       " 1031339.9020204811,\n",
       " 29015.775434685092,\n",
       " 4405.03567949239,\n",
       " 291.1582621092164,\n",
       " 19.144146027896273,\n",
       " 4218.423959166935,\n",
       " 4446.177534429304,\n",
       " 959.7543945473902,\n",
       " 241302.31496985792,\n",
       " 14289.71120145969,\n",
       " 817.1909105769645,\n",
       " 12619.532087994345,\n",
       " 1140.7146325354265,\n",
       " 1958.5382872254959,\n",
       " 103.24035361321631,\n",
       " 35941.29606119197,\n",
       " 67.88412269506223,\n",
       " 5.370117301030413,\n",
       " 1472.8475920375413,\n",
       " 158968.7984091876,\n",
       " 1248.3510085155676,\n",
       " 1563.9531938846956,\n",
       " 1425.2174241562898,\n",
       " 97992.48734423198,\n",
       " 237.63825932997304,\n",
       " 93.75439101751637,\n",
       " 1918.398331311568,\n",
       " 416.57279044261446,\n",
       " 126.29596765367455,\n",
       " 6.592115423191134,\n",
       " 4131.717012943607,\n",
       " 3523.6669180584113,\n",
       " 16742.833382115743,\n",
       " 11.208845421381072,\n",
       " 6.791659201153268,\n",
       " 20812.632666548197,\n",
       " 3982.530284108576,\n",
       " 52521.43603144852,\n",
       " 39.2787584650722,\n",
       " 1001.5045578361755,\n",
       " 5876.3192030294595,\n",
       " 174.818158281097,\n",
       " 401.4033929862257,\n",
       " 59.69133926107029,\n",
       " 318.03993376781756,\n",
       " 269.45958063555224,\n",
       " 924.2853939664038,\n",
       " 643.2039528919476,\n",
       " 2.771063644206244,\n",
       " 72.53854670199388,\n",
       " 11301.358806791992,\n",
       " 95.84386306638848,\n",
       " 109.71432912660522,\n",
       " 132744.39802984215,\n",
       " 3859.605661031134,\n",
       " 3355.622707207095,\n",
       " 239.01188226912075,\n",
       " 4258.533276496156,\n",
       " 828.3401398276022,\n",
       " 27.78584505284738,\n",
       " 1220.5373353501425,\n",
       " 109.65927378382506,\n",
       " 981.0523316502389,\n",
       " 1781.0206064130932,\n",
       " 14.96268437816735,\n",
       " 141.14399729103243,\n",
       " 1849.0151561433718,\n",
       " 73168.14661556945,\n",
       " 993.3810379529583,\n",
       " 42249.550403144654,\n",
       " 68.61754857014456,\n",
       " 7667.177388432349,\n",
       " 1768.3230725985995,\n",
       " 21040.122611355477,\n",
       " 1181.2163979666252,\n",
       " 80.48061725993456,\n",
       " 10614.216501117837,\n",
       " 302.09008559030536,\n",
       " 4567.888166333593,\n",
       " 255.51211968171773,\n",
       " 9376.465774715814,\n",
       " 2019760.0866349565,\n",
       " 85782.17624465263,\n",
       " 105.43768783184161,\n",
       " 17213.99185686139,\n",
       " 504.31932294583197,\n",
       " 40212.122657560176,\n",
       " 68769.04152786985,\n",
       " 11483.982928873425,\n",
       " 117447.57053475006,\n",
       " 17.32465695866644,\n",
       " 481.0757516292039,\n",
       " 9.3081970796746,\n",
       " 119.64224109847105,\n",
       " 95855.78569913816,\n",
       " 4780.110055205221,\n",
       " 85932.53373763945,\n",
       " 2266.4608361186274,\n",
       " 70342.52444386302,\n",
       " 11362.187938748111,\n",
       " 203185.38198836445,\n",
       " 923.7681331119126,\n",
       " 43897.207614904226,\n",
       " 108.9015894521902,\n",
       " 705.9929320139054,\n",
       " 2.756051687179688,\n",
       " 7791.159546930214,\n",
       " 159.85062666934633,\n",
       " 20783.777434686577,\n",
       " 10.027489760259298,\n",
       " 25.427966728115344,\n",
       " 1139.1663077420064,\n",
       " 12.473365421835597,\n",
       " 66028.76107814751,\n",
       " 171763.368223567,\n",
       " 629.1627196542712,\n",
       " 1317.355281544073,\n",
       " 7752.489224438159,\n",
       " 2189.2026021253996,\n",
       " 59.41996753682882,\n",
       " 5833.658300193673,\n",
       " 579156.4845605453,\n",
       " 115097.50118916658,\n",
       " 2100089.667282301,\n",
       " 185.74201054567342,\n",
       " 4362.8521250051435,\n",
       " 653.8362370082561,\n",
       " 18.508793272388193,\n",
       " 213560.11686021718,\n",
       " 159.42230396276113,\n",
       " 281.6206646851023,\n",
       " 8781.474200901446,\n",
       " 48.794406105170914,\n",
       " 363.7091577053882,\n",
       " 5172.605906746547,\n",
       " 25593.527511091357,\n",
       " 5010.972878614017,\n",
       " 27.348184412408646,\n",
       " 103608.24043783406,\n",
       " 8608785.525705863,\n",
       " 489.77851435270696,\n",
       " 1126.3245467027261,\n",
       " 3.202800255468858,\n",
       " 4434.891739535547,\n",
       " 4.9987566144089515,\n",
       " 71.37793679520482,\n",
       " 30089.742540801828,\n",
       " 455.6223596261159,\n",
       " 2228013.187333876,\n",
       " 308.43895292389607,\n",
       " 48227.190149029775,\n",
       " 5.6266496491842934,\n",
       " 49.09042475070868,\n",
       " 217.26509909734378,\n",
       " 14155.339307474494,\n",
       " 1358.1202314949028,\n",
       " 122.65117074060258,\n",
       " 1957.0094340443386,\n",
       " 425.3908394690451,\n",
       " 3683.6007261700993,\n",
       " 143547.74575793845,\n",
       " 4798.1498485097945,\n",
       " 1.9293885269191513,\n",
       " 0.3341942044737973,\n",
       " 8130.414619187991,\n",
       " 1098.9945199628137,\n",
       " 4.102557311567397,\n",
       " 607.005913226087,\n",
       " 15.40967084509742,\n",
       " 1422.9636648401745,\n",
       " 436839.1930491044,\n",
       " 80.9486141426612,\n",
       " 25247.463910010832,\n",
       " 668.7792662394171,\n",
       " 292985.5218362719,\n",
       " 321.45168594741165,\n",
       " 1448.6349517824924,\n",
       " 289.484080351831,\n",
       " 4570.5355124434745,\n",
       " 5.663629999808673,\n",
       " 239.9941492517741,\n",
       " 1316513.4939631112,\n",
       " 32179.05076460174,\n",
       " 204191.6134537374,\n",
       " 1864.4537283761815,\n",
       " 1032184.4742812641,\n",
       " 91.59246820130542,\n",
       " 6.936384142694323,\n",
       " 170.30529279504893,\n",
       " 2151.9476222665635,\n",
       " 277.2737676613979,\n",
       " 244.1112951374275,\n",
       " 15534.657474242453,\n",
       " 15005.328486875198,\n",
       " 394.00258453682613,\n",
       " 12102.006872260987,\n",
       " 13.097493782876036,\n",
       " 790.7547862277189,\n",
       " 44793.25281401425,\n",
       " 13135.03525051733,\n",
       " 860.8338586413222,\n",
       " 3120237.6022353326,\n",
       " 21.996850885430373,\n",
       " 308.42076103009873,\n",
       " 10441.184067712396,\n",
       " 8691.399638041234,\n",
       " 1606.1786160031786,\n",
       " 50.24310477087718,\n",
       " 9.895870039546839,\n",
       " 648.2945960443653,\n",
       " 66200.4906240647,\n",
       " 1869.7277326661892,\n",
       " 17244.30361727281,\n",
       " 0.3145432836479174,\n",
       " 462.91029671959313,\n",
       " 731.9289198188093,\n",
       " 20585.720117266505,\n",
       " 93.7312020146919,\n",
       " 919.1987564890017,\n",
       " 302.9674997005218,\n",
       " 2190.793956287149,\n",
       " 5062.063798867436,\n",
       " 3932.8742174472136,\n",
       " 2722.304581995832,\n",
       " 100723.58919956323,\n",
       " 1.7151160935340932,\n",
       " 66.18565567484043,\n",
       " 124.18360621043095,\n",
       " 1074.2487935460235,\n",
       " 42887.61376762361,\n",
       " 14290940.883293645,\n",
       " 8834.92979011604,\n",
       " 22.57523315720104,\n",
       " 15.176417149164386,\n",
       " 2462824.1774069546,\n",
       " 45.23921595272369,\n",
       " 110748.22356918825,\n",
       " 1713.7650925619137,\n",
       " 95.76232495218689,\n",
       " 3746.786656951415,\n",
       " 5332.206661145832,\n",
       " 412.7655289006952,\n",
       " 129.6649703244493,\n",
       " 0.4261496484137259,\n",
       " 361.36563159859514,\n",
       " 830.1876618353239,\n",
       " 2056.263676916299,\n",
       " 1163.1237230796032,\n",
       " 10.041945512253722,\n",
       " 24159.535586074177,\n",
       " 108.04871112633172,\n",
       " 9329.2382351056,\n",
       " 55.05273593591541,\n",
       " 10868.762706180221,\n",
       " 8893.997779828855,\n",
       " 115.72024611751262,\n",
       " 193.2276939179914,\n",
       " 2655.1298420294574,\n",
       " 6125.472029349038,\n",
       " 39335.735388495305,\n",
       " 72042.72857423795,\n",
       " 4667.948629404643,\n",
       " 138.99040390242425,\n",
       " 1845.7627471818707,\n",
       " 1601.3462938985342,\n",
       " 10.539125170291157,\n",
       " 1.9746723888345985,\n",
       " 0.1746702244774889,\n",
       " 120.02923250504513,\n",
       " 363.11490977180785,\n",
       " 226.11641532408888,\n",
       " 122445.13599231585,\n",
       " 1443.734009176926,\n",
       " 1214.3272226127501,\n",
       " 945.7227490363172,\n",
       " 306.9393554336834,\n",
       " 11040.06529350354,\n",
       " 69890.87053437288,\n",
       " 9805.51285818565,\n",
       " 5.767633816490337,\n",
       " 25209.981465924022,\n",
       " 519.3381326551864,\n",
       " 11712.101421888332,\n",
       " 1401.026867759174,\n",
       " 293.84232508812784,\n",
       " 37.1631247380433,\n",
       " 12525.108055750174,\n",
       " 105.32148338779494,\n",
       " 2321.127422568565,\n",
       " 3.5877366568923135,\n",
       " 0.9366427435749503,\n",
       " 22.710720969193755,\n",
       " 11411.982631223786,\n",
       " 4272532.5520660775,\n",
       " 15079.08039327189,\n",
       " 17158.216437765965,\n",
       " 616.9100166457627,\n",
       " 1415.9662011143034,\n",
       " 662.6098584227441,\n",
       " 50.83094154496759,\n",
       " 88885.45047849156,\n",
       " 263.8457731320842,\n",
       " 706.4057710012867,\n",
       " 20024.799522744608,\n",
       " 38.257415457092044,\n",
       " 1745.453776057017,\n",
       " 572.8463041865248,\n",
       " 291.0968942731522,\n",
       " 8328.224500283832,\n",
       " 293.3975986576379,\n",
       " 110.82541355922733,\n",
       " 270.47627521644426,\n",
       " 3364.6884407489024,\n",
       " 327.6788228143555,\n",
       " 8418.560265187518,\n",
       " 2892712.8520871075,\n",
       " 25.400525249180493,\n",
       " 333923.28488131426,\n",
       " 66406.92763344695,\n",
       " 56817.89983891156,\n",
       " 396523.2436226947,\n",
       " 5908.737788327264,\n",
       " 603.0862155070613,\n",
       " 2039.7160355812143,\n",
       " 1219.9765924617561,\n",
       " 227372.95977515038,\n",
       " 19.404979017324962,\n",
       " 104.8428856756336,\n",
       " 61.05790879314495,\n",
       " 117069.92254585911,\n",
       " 244146.67258275335,\n",
       " 1278.5384624156338,\n",
       " 7934.365284878672,\n",
       " 324.8284629386518,\n",
       " 12077.58312019067,\n",
       " 27.099568670438387,\n",
       " 15732.829859521296,\n",
       " 37.14011423249284,\n",
       " 4999.499585133142,\n",
       " 316097.45984666765,\n",
       " 9796.154644117782,\n",
       " 1829.6212592103304,\n",
       " 1239.663045438791,\n",
       " 16197.185840624299,\n",
       " 665.1558468411081,\n",
       " 6939.869703519115,\n",
       " 41665.06097777179,\n",
       " 427.4947424750352,\n",
       " 219.19974520887732,\n",
       " 71.9893872231416,\n",
       " 11.835186661788685,\n",
       " 2842.645168831212,\n",
       " 377.9889740717102,\n",
       " 397.0836916281096,\n",
       " 314.2209354668147,\n",
       " 20075.168451059042,\n",
       " 10.560077221766072,\n",
       " 5500.616959767509,\n",
       " 23.600746130779005,\n",
       " 69.50848565764883,\n",
       " 45.43489657723011,\n",
       " 418.4029019108269,\n",
       " 257108.27058771468,\n",
       " 4896.783114676138,\n",
       " 3123.0935652798444,\n",
       " 11.051218210345526,\n",
       " 3489.222412659025,\n",
       " 1.1521809694464944,\n",
       " 699.9188199825313,\n",
       " 1885.7563416413766,\n",
       " 118.65692865892359,\n",
       " 5250.9298322177065,\n",
       " 4328.460033386133,\n",
       " 1252.6686726071082,\n",
       " 85.90327517631773,\n",
       " 4446.986295482299,\n",
       " 495.5834981760453,\n",
       " 6173.488065133615,\n",
       " 19.19642169333613,\n",
       " 966543.8629459986,\n",
       " 5233.726395684792,\n",
       " 1446.5043493226212,\n",
       " 19635.91676259211,\n",
       " 19.241916723247076,\n",
       " 619.653383318397,\n",
       " 58350.66389740962,\n",
       " 130.68003799526545,\n",
       " 34978.39624623225,\n",
       " 14.366898193007128,\n",
       " 68.92169262552312,\n",
       " 49368.355304682176,\n",
       " 12.522449309171954,\n",
       " 88001.10471001235,\n",
       " 7826.949581557382,\n",
       " 10716.148858158316,\n",
       " 5216.6331466793945,\n",
       " 359.48707267951113,\n",
       " 356.15223951270445,\n",
       " 599640.6884841989,\n",
       " 5.317009316207574,\n",
       " 740.8696736561405,\n",
       " 7053.096532896314,\n",
       " 4.99269243304844,\n",
       " 24.693565008100986,\n",
       " 6800.093891475866,\n",
       " 46.79480101626518,\n",
       " 296.32494734706796,\n",
       " 7.585084783318466,\n",
       " 18801.436018943274,\n",
       " 29989.065055035782,\n",
       " 3655.416836960248,\n",
       " 27354.789983302468,\n",
       " 4591.600388655389,\n",
       " 9187.461543644933,\n",
       " 2885.2672291118324,\n",
       " 39296.32232228834,\n",
       " 196.14137492093408,\n",
       " 2640.3815957586908,\n",
       " 6357.329341197888,\n",
       " 323928.0338014436,\n",
       " 47.45895259970216,\n",
       " 7164.309213678488,\n",
       " 3.7929311856725105,\n",
       " 3779.41856113409,\n",
       " 8755.99765356057,\n",
       " 4416.838422631325,\n",
       " 1888949.805766383,\n",
       " 1833.2813866491106,\n",
       " 853540.808647042,\n",
       " 0.7959875962437043,\n",
       " 41.41650819942531,\n",
       " 8168.2698478336215,\n",
       " 207.37566290932313,\n",
       " 17.077316097124523,\n",
       " 111.26123990336632,\n",
       " 5263.745728074859,\n",
       " 352161.3120895829,\n",
       " 1162.1119038315228,\n",
       " 95309.60916694863,\n",
       " 23501.666048596326,\n",
       " 6151.189893710218,\n",
       " 74971.51817133607,\n",
       " 112.56293095377683,\n",
       " 380433.41581786465,\n",
       " 83.73141824061624,\n",
       " 278482.45680858317,\n",
       " 4763.387797104565,\n",
       " 2995.825274808588,\n",
       " 1174.0799734988261,\n",
       " 898.2342741660378,\n",
       " 849.5543489735197,\n",
       " 77.18917632495037,\n",
       " 20941.491543698954,\n",
       " 3237.100537330386,\n",
       " ...]"
      ]
     },
     "execution_count": 261,
     "metadata": {},
     "output_type": "execute_result"
    }
   ],
   "source": [
    "target_random_Kd_dict[14000]"
   ]
  },
  {
   "cell_type": "code",
   "execution_count": 30,
   "metadata": {
    "scrolled": true
   },
   "outputs": [
    {
     "name": "stderr",
     "output_type": "stream",
     "text": [
      "100%|██████████| 70968/70968 [00:48<00:00, 1463.91it/s]\n"
     ]
    }
   ],
   "source": [
    "smiles_list = []\n",
    "targets_list = []\n",
    "Kd_for_edges = []\n",
    "\n",
    "for edge in tqdm(randomized_combined_bipartite.edges()):\n",
    "    #if 13702 in edge:\n",
    "    #    print(edge)\n",
    "    smiles_list.append(ligands[edge[0]])\n",
    "    targets_list.append(targets[edge[1] - len(ligands)])\n",
    "    mu = np.random.choice(target_random_Kd_dict[edge[1]])\n",
    "    if randomized_combined_bipartite.degree(edge[1]) in different_target_annotations:\n",
    "        sigma = unique_Kd_targets_std[different_target_annotations.index(randomized_combined_bipartite.degree(edge[1]))]\n",
    "    else:\n",
    "        sigma = 0\n",
    "    Kd_for_edges.append(np.random.normal(mu, sigma, 1))"
   ]
  },
  {
   "cell_type": "markdown",
   "metadata": {},
   "source": [
    "# Making DataFrame"
   ]
  },
  {
   "cell_type": "code",
   "execution_count": 31,
   "metadata": {},
   "outputs": [],
   "source": [
    "randomized_dataframe = pd.DataFrame()\n",
    "\n",
    "randomized_dataframe['SMILES'] = smiles_list\n",
    "randomized_dataframe['Target Sequence'] = targets_list\n",
    "randomized_dataframe['Label'] = Kd_for_edges"
   ]
  },
  {
   "cell_type": "code",
   "execution_count": 32,
   "metadata": {},
   "outputs": [
    {
     "data": {
      "text/html": [
       "<div>\n",
       "<style scoped>\n",
       "    .dataframe tbody tr th:only-of-type {\n",
       "        vertical-align: middle;\n",
       "    }\n",
       "\n",
       "    .dataframe tbody tr th {\n",
       "        vertical-align: top;\n",
       "    }\n",
       "\n",
       "    .dataframe thead th {\n",
       "        text-align: right;\n",
       "    }\n",
       "</style>\n",
       "<table border=\"1\" class=\"dataframe\">\n",
       "  <thead>\n",
       "    <tr style=\"text-align: right;\">\n",
       "      <th></th>\n",
       "      <th>SMILES</th>\n",
       "      <th>Target Sequence</th>\n",
       "      <th>Label</th>\n",
       "    </tr>\n",
       "  </thead>\n",
       "  <tbody>\n",
       "    <tr>\n",
       "      <th>0</th>\n",
       "      <td>OC(=O)c1cc(Br)ccc1-c1ccc(\\C=C2\\C(=O)NN(C2=O)c2...</td>\n",
       "      <td>MPSIRLADLAQQLDAELHGDGDIVITGVASMQSAQTGHITFMVNPK...</td>\n",
       "      <td>[33710.53129488515]</td>\n",
       "    </tr>\n",
       "    <tr>\n",
       "      <th>1</th>\n",
       "      <td>OC(=O)c1cc(Br)ccc1-c1ccc(\\C=C2\\C(=O)NN(C2=O)c2...</td>\n",
       "      <td>MELWRQCTHWLIQCRVLPPSHRVTWDGAQVCELAQALRDGVLLCQL...</td>\n",
       "      <td>[10303.711950668323]</td>\n",
       "    </tr>\n",
       "    <tr>\n",
       "      <th>2</th>\n",
       "      <td>OC(=O)c1cc(Br)ccc1-c1ccc(\\C=C2\\C(=O)NN(C2=O)c2...</td>\n",
       "      <td>MESGGGNAPAGALGAASESPQCPPPPGVEGAAGPAEPDGAAEGAAG...</td>\n",
       "      <td>[-8476.909213949577]</td>\n",
       "    </tr>\n",
       "    <tr>\n",
       "      <th>3</th>\n",
       "      <td>OC(=O)c1cc(Br)ccc1-c1ccc(\\C=C2\\C(=O)NN(C2=O)c2...</td>\n",
       "      <td>MEPAPSAGAELQPPLFANASDAYPSACPSAGANASGPPGARSASSL...</td>\n",
       "      <td>[5101.905745519558]</td>\n",
       "    </tr>\n",
       "    <tr>\n",
       "      <th>4</th>\n",
       "      <td>Cc1[nH]nc2NC3=C(C(c12)c1ccccc1F)C(=O)CC(C)(C)C3</td>\n",
       "      <td>MATCIGEKIEDFKVGNLLGKGSFAGVYRAESIHTGLEVAIKMIDKK...</td>\n",
       "      <td>[-334063.18451495055]</td>\n",
       "    </tr>\n",
       "    <tr>\n",
       "      <th>...</th>\n",
       "      <td>...</td>\n",
       "      <td>...</td>\n",
       "      <td>...</td>\n",
       "    </tr>\n",
       "    <tr>\n",
       "      <th>70963</th>\n",
       "      <td>CCOc1ccc(C[C@@H]2NC(=O)CCSSC[C@H](NC(=O)[C@H](...</td>\n",
       "      <td>MFERFTDRARRVVVLAQEEARMLNHNYIGTEHILLGLIHEGEGVAA...</td>\n",
       "      <td>[-88251.55454985218]</td>\n",
       "    </tr>\n",
       "    <tr>\n",
       "      <th>70964</th>\n",
       "      <td>CCOc1ccc(C[C@@H]2NC(=O)CCSSC[C@H](NC(=O)[C@H](...</td>\n",
       "      <td>MHLNSSVPQGTPGEPDAQPFSGPQSEMEATFLALSLSNGSGNTSES...</td>\n",
       "      <td>[-80791.1429929698]</td>\n",
       "    </tr>\n",
       "    <tr>\n",
       "      <th>70965</th>\n",
       "      <td>CCOc1ccc(C[C@@H]2NC(=O)CCSSC[C@H](NC(=O)[C@H](...</td>\n",
       "      <td>NPPPPETSNPNKPKRQTNQLQYLLRVVLKTLWKHQFAAPFQQPVDA...</td>\n",
       "      <td>[139269.4249399615]</td>\n",
       "    </tr>\n",
       "    <tr>\n",
       "      <th>70966</th>\n",
       "      <td>CCOc1ccc(C[C@@H]2NC(=O)CCSSC[C@H](NC(=O)[C@H](...</td>\n",
       "      <td>MGVDFDVKTFCHNLRATKPPYECPVETCRKVYKSYSGIEYHLYHYD...</td>\n",
       "      <td>[13.795806894277932]</td>\n",
       "    </tr>\n",
       "    <tr>\n",
       "      <th>70967</th>\n",
       "      <td>CCOc1ccc(C[C@@H]2NC(=O)CCSSC[C@H](NC(=O)[C@H](...</td>\n",
       "      <td>MELAALCRWGLLLALLPPGAASTQVCTGTDMKLRLPASPETHLDML...</td>\n",
       "      <td>[217070.6001562556]</td>\n",
       "    </tr>\n",
       "  </tbody>\n",
       "</table>\n",
       "<p>70968 rows × 3 columns</p>\n",
       "</div>"
      ],
      "text/plain": [
       "                                                  SMILES  \\\n",
       "0      OC(=O)c1cc(Br)ccc1-c1ccc(\\C=C2\\C(=O)NN(C2=O)c2...   \n",
       "1      OC(=O)c1cc(Br)ccc1-c1ccc(\\C=C2\\C(=O)NN(C2=O)c2...   \n",
       "2      OC(=O)c1cc(Br)ccc1-c1ccc(\\C=C2\\C(=O)NN(C2=O)c2...   \n",
       "3      OC(=O)c1cc(Br)ccc1-c1ccc(\\C=C2\\C(=O)NN(C2=O)c2...   \n",
       "4        Cc1[nH]nc2NC3=C(C(c12)c1ccccc1F)C(=O)CC(C)(C)C3   \n",
       "...                                                  ...   \n",
       "70963  CCOc1ccc(C[C@@H]2NC(=O)CCSSC[C@H](NC(=O)[C@H](...   \n",
       "70964  CCOc1ccc(C[C@@H]2NC(=O)CCSSC[C@H](NC(=O)[C@H](...   \n",
       "70965  CCOc1ccc(C[C@@H]2NC(=O)CCSSC[C@H](NC(=O)[C@H](...   \n",
       "70966  CCOc1ccc(C[C@@H]2NC(=O)CCSSC[C@H](NC(=O)[C@H](...   \n",
       "70967  CCOc1ccc(C[C@@H]2NC(=O)CCSSC[C@H](NC(=O)[C@H](...   \n",
       "\n",
       "                                         Target Sequence  \\\n",
       "0      MPSIRLADLAQQLDAELHGDGDIVITGVASMQSAQTGHITFMVNPK...   \n",
       "1      MELWRQCTHWLIQCRVLPPSHRVTWDGAQVCELAQALRDGVLLCQL...   \n",
       "2      MESGGGNAPAGALGAASESPQCPPPPGVEGAAGPAEPDGAAEGAAG...   \n",
       "3      MEPAPSAGAELQPPLFANASDAYPSACPSAGANASGPPGARSASSL...   \n",
       "4      MATCIGEKIEDFKVGNLLGKGSFAGVYRAESIHTGLEVAIKMIDKK...   \n",
       "...                                                  ...   \n",
       "70963  MFERFTDRARRVVVLAQEEARMLNHNYIGTEHILLGLIHEGEGVAA...   \n",
       "70964  MHLNSSVPQGTPGEPDAQPFSGPQSEMEATFLALSLSNGSGNTSES...   \n",
       "70965  NPPPPETSNPNKPKRQTNQLQYLLRVVLKTLWKHQFAAPFQQPVDA...   \n",
       "70966  MGVDFDVKTFCHNLRATKPPYECPVETCRKVYKSYSGIEYHLYHYD...   \n",
       "70967  MELAALCRWGLLLALLPPGAASTQVCTGTDMKLRLPASPETHLDML...   \n",
       "\n",
       "                       Label  \n",
       "0        [33710.53129488515]  \n",
       "1       [10303.711950668323]  \n",
       "2       [-8476.909213949577]  \n",
       "3        [5101.905745519558]  \n",
       "4      [-334063.18451495055]  \n",
       "...                      ...  \n",
       "70963   [-88251.55454985218]  \n",
       "70964    [-80791.1429929698]  \n",
       "70965    [139269.4249399615]  \n",
       "70966   [13.795806894277932]  \n",
       "70967    [217070.6001562556]  \n",
       "\n",
       "[70968 rows x 3 columns]"
      ]
     },
     "execution_count": 32,
     "metadata": {},
     "output_type": "execute_result"
    }
   ],
   "source": [
    "randomized_dataframe"
   ]
  },
  {
   "cell_type": "code",
   "execution_count": 33,
   "metadata": {},
   "outputs": [
    {
     "name": "stderr",
     "output_type": "stream",
     "text": [
      "100%|██████████| 70968/70968 [00:00<00:00, 374779.81it/s]"
     ]
    },
    {
     "name": "stdout",
     "output_type": "stream",
     "text": [
      "Threshold:  30\n"
     ]
    },
    {
     "name": "stderr",
     "output_type": "stream",
     "text": [
      "\n"
     ]
    }
   ],
   "source": [
    "threshold = 30 ##np.exp(np.mean(np.log(Kd_for_edges)))\n",
    "print('Threshold: ', threshold)\n",
    "\n",
    "binary_labels = [1 if x < threshold else 0 for x in tqdm(randomized_dataframe['Label'].tolist())]\n",
    "\n",
    "randomized_dataframe['Label'] = binary_labels"
   ]
  },
  {
   "cell_type": "code",
   "execution_count": 34,
   "metadata": {},
   "outputs": [
    {
     "data": {
      "text/html": [
       "<div>\n",
       "<style scoped>\n",
       "    .dataframe tbody tr th:only-of-type {\n",
       "        vertical-align: middle;\n",
       "    }\n",
       "\n",
       "    .dataframe tbody tr th {\n",
       "        vertical-align: top;\n",
       "    }\n",
       "\n",
       "    .dataframe thead th {\n",
       "        text-align: right;\n",
       "    }\n",
       "</style>\n",
       "<table border=\"1\" class=\"dataframe\">\n",
       "  <thead>\n",
       "    <tr style=\"text-align: right;\">\n",
       "      <th></th>\n",
       "      <th>SMILES</th>\n",
       "      <th>Target Sequence</th>\n",
       "      <th>Label</th>\n",
       "    </tr>\n",
       "  </thead>\n",
       "  <tbody>\n",
       "    <tr>\n",
       "      <th>0</th>\n",
       "      <td>OC(=O)c1cc(Br)ccc1-c1ccc(\\C=C2\\C(=O)NN(C2=O)c2...</td>\n",
       "      <td>MPSIRLADLAQQLDAELHGDGDIVITGVASMQSAQTGHITFMVNPK...</td>\n",
       "      <td>0</td>\n",
       "    </tr>\n",
       "    <tr>\n",
       "      <th>1</th>\n",
       "      <td>OC(=O)c1cc(Br)ccc1-c1ccc(\\C=C2\\C(=O)NN(C2=O)c2...</td>\n",
       "      <td>MELWRQCTHWLIQCRVLPPSHRVTWDGAQVCELAQALRDGVLLCQL...</td>\n",
       "      <td>0</td>\n",
       "    </tr>\n",
       "    <tr>\n",
       "      <th>2</th>\n",
       "      <td>OC(=O)c1cc(Br)ccc1-c1ccc(\\C=C2\\C(=O)NN(C2=O)c2...</td>\n",
       "      <td>MESGGGNAPAGALGAASESPQCPPPPGVEGAAGPAEPDGAAEGAAG...</td>\n",
       "      <td>1</td>\n",
       "    </tr>\n",
       "    <tr>\n",
       "      <th>3</th>\n",
       "      <td>OC(=O)c1cc(Br)ccc1-c1ccc(\\C=C2\\C(=O)NN(C2=O)c2...</td>\n",
       "      <td>MEPAPSAGAELQPPLFANASDAYPSACPSAGANASGPPGARSASSL...</td>\n",
       "      <td>0</td>\n",
       "    </tr>\n",
       "    <tr>\n",
       "      <th>4</th>\n",
       "      <td>Cc1[nH]nc2NC3=C(C(c12)c1ccccc1F)C(=O)CC(C)(C)C3</td>\n",
       "      <td>MATCIGEKIEDFKVGNLLGKGSFAGVYRAESIHTGLEVAIKMIDKK...</td>\n",
       "      <td>1</td>\n",
       "    </tr>\n",
       "    <tr>\n",
       "      <th>...</th>\n",
       "      <td>...</td>\n",
       "      <td>...</td>\n",
       "      <td>...</td>\n",
       "    </tr>\n",
       "    <tr>\n",
       "      <th>70963</th>\n",
       "      <td>CCOc1ccc(C[C@@H]2NC(=O)CCSSC[C@H](NC(=O)[C@H](...</td>\n",
       "      <td>MFERFTDRARRVVVLAQEEARMLNHNYIGTEHILLGLIHEGEGVAA...</td>\n",
       "      <td>1</td>\n",
       "    </tr>\n",
       "    <tr>\n",
       "      <th>70964</th>\n",
       "      <td>CCOc1ccc(C[C@@H]2NC(=O)CCSSC[C@H](NC(=O)[C@H](...</td>\n",
       "      <td>MHLNSSVPQGTPGEPDAQPFSGPQSEMEATFLALSLSNGSGNTSES...</td>\n",
       "      <td>1</td>\n",
       "    </tr>\n",
       "    <tr>\n",
       "      <th>70965</th>\n",
       "      <td>CCOc1ccc(C[C@@H]2NC(=O)CCSSC[C@H](NC(=O)[C@H](...</td>\n",
       "      <td>NPPPPETSNPNKPKRQTNQLQYLLRVVLKTLWKHQFAAPFQQPVDA...</td>\n",
       "      <td>0</td>\n",
       "    </tr>\n",
       "    <tr>\n",
       "      <th>70966</th>\n",
       "      <td>CCOc1ccc(C[C@@H]2NC(=O)CCSSC[C@H](NC(=O)[C@H](...</td>\n",
       "      <td>MGVDFDVKTFCHNLRATKPPYECPVETCRKVYKSYSGIEYHLYHYD...</td>\n",
       "      <td>1</td>\n",
       "    </tr>\n",
       "    <tr>\n",
       "      <th>70967</th>\n",
       "      <td>CCOc1ccc(C[C@@H]2NC(=O)CCSSC[C@H](NC(=O)[C@H](...</td>\n",
       "      <td>MELAALCRWGLLLALLPPGAASTQVCTGTDMKLRLPASPETHLDML...</td>\n",
       "      <td>0</td>\n",
       "    </tr>\n",
       "  </tbody>\n",
       "</table>\n",
       "<p>70968 rows × 3 columns</p>\n",
       "</div>"
      ],
      "text/plain": [
       "                                                  SMILES  \\\n",
       "0      OC(=O)c1cc(Br)ccc1-c1ccc(\\C=C2\\C(=O)NN(C2=O)c2...   \n",
       "1      OC(=O)c1cc(Br)ccc1-c1ccc(\\C=C2\\C(=O)NN(C2=O)c2...   \n",
       "2      OC(=O)c1cc(Br)ccc1-c1ccc(\\C=C2\\C(=O)NN(C2=O)c2...   \n",
       "3      OC(=O)c1cc(Br)ccc1-c1ccc(\\C=C2\\C(=O)NN(C2=O)c2...   \n",
       "4        Cc1[nH]nc2NC3=C(C(c12)c1ccccc1F)C(=O)CC(C)(C)C3   \n",
       "...                                                  ...   \n",
       "70963  CCOc1ccc(C[C@@H]2NC(=O)CCSSC[C@H](NC(=O)[C@H](...   \n",
       "70964  CCOc1ccc(C[C@@H]2NC(=O)CCSSC[C@H](NC(=O)[C@H](...   \n",
       "70965  CCOc1ccc(C[C@@H]2NC(=O)CCSSC[C@H](NC(=O)[C@H](...   \n",
       "70966  CCOc1ccc(C[C@@H]2NC(=O)CCSSC[C@H](NC(=O)[C@H](...   \n",
       "70967  CCOc1ccc(C[C@@H]2NC(=O)CCSSC[C@H](NC(=O)[C@H](...   \n",
       "\n",
       "                                         Target Sequence  Label  \n",
       "0      MPSIRLADLAQQLDAELHGDGDIVITGVASMQSAQTGHITFMVNPK...      0  \n",
       "1      MELWRQCTHWLIQCRVLPPSHRVTWDGAQVCELAQALRDGVLLCQL...      0  \n",
       "2      MESGGGNAPAGALGAASESPQCPPPPGVEGAAGPAEPDGAAEGAAG...      1  \n",
       "3      MEPAPSAGAELQPPLFANASDAYPSACPSAGANASGPPGARSASSL...      0  \n",
       "4      MATCIGEKIEDFKVGNLLGKGSFAGVYRAESIHTGLEVAIKMIDKK...      1  \n",
       "...                                                  ...    ...  \n",
       "70963  MFERFTDRARRVVVLAQEEARMLNHNYIGTEHILLGLIHEGEGVAA...      1  \n",
       "70964  MHLNSSVPQGTPGEPDAQPFSGPQSEMEATFLALSLSNGSGNTSES...      1  \n",
       "70965  NPPPPETSNPNKPKRQTNQLQYLLRVVLKTLWKHQFAAPFQQPVDA...      0  \n",
       "70966  MGVDFDVKTFCHNLRATKPPYECPVETCRKVYKSYSGIEYHLYHYD...      1  \n",
       "70967  MELAALCRWGLLLALLPPGAASTQVCTGTDMKLRLPASPETHLDML...      0  \n",
       "\n",
       "[70968 rows x 3 columns]"
      ]
     },
     "execution_count": 34,
     "metadata": {},
     "output_type": "execute_result"
    }
   ],
   "source": [
    "randomized_dataframe"
   ]
  },
  {
   "cell_type": "code",
   "execution_count": 35,
   "metadata": {},
   "outputs": [
    {
     "name": "stdout",
     "output_type": "stream",
     "text": [
      "48670\n",
      "22298\n"
     ]
    }
   ],
   "source": [
    "print(randomized_dataframe['Label'].tolist().count(0))\n",
    "print(randomized_dataframe['Label'].tolist().count(1))"
   ]
  },
  {
   "cell_type": "code",
   "execution_count": 36,
   "metadata": {},
   "outputs": [],
   "source": [
    "ligands = list(set(randomized_dataframe['SMILES'].tolist()))\n",
    "targets = list(set(randomized_dataframe['Target Sequence'].tolist()))"
   ]
  },
  {
   "cell_type": "code",
   "execution_count": 37,
   "metadata": {},
   "outputs": [
    {
     "name": "stderr",
     "output_type": "stream",
     "text": [
      "100%|██████████| 13307/13307 [01:53<00:00, 117.63it/s]\n"
     ]
    }
   ],
   "source": [
    "ligand_annotations_randomized = []\n",
    "ligand_pos_degree_randomized = []\n",
    "ligand_neg_degree_randomized = []\n",
    "ligand_degree_ratio_randomized = []\n",
    "\n",
    "for chem in tqdm(ligands):\n",
    "    sub_df = randomized_dataframe[randomized_dataframe['SMILES'] == chem]\n",
    "    ligand_annotations_randomized.append(len(sub_df))\n",
    "    ligand_pos_degree_randomized.append(sub_df['Label'].tolist().count(1))\n",
    "    ligand_neg_degree_randomized.append(sub_df['Label'].tolist().count(0))\n",
    "    ligand_degree_ratio_randomized.append(sub_df['Label'].tolist().count(1)/(sub_df['Label'].tolist().count(1)+sub_df['Label'].tolist().count(0)))"
   ]
  },
  {
   "cell_type": "code",
   "execution_count": 38,
   "metadata": {},
   "outputs": [
    {
     "name": "stderr",
     "output_type": "stream",
     "text": [
      "100%|██████████| 1507/1507 [00:12<00:00, 117.49it/s]\n"
     ]
    }
   ],
   "source": [
    "target_annotations_randomized = []\n",
    "target_pos_degree_randomized = []\n",
    "target_neg_degree_randomized = []\n",
    "target_degree_ratio_randomized = []\n",
    "\n",
    "for prot in tqdm(targets):\n",
    "    sub_df = randomized_dataframe[randomized_dataframe['Target Sequence'] == prot]\n",
    "    target_annotations_randomized.append(len(sub_df))\n",
    "    target_pos_degree_randomized.append(sub_df['Label'].tolist().count(1))\n",
    "    target_neg_degree_randomized.append(sub_df['Label'].tolist().count(0))\n",
    "    target_degree_ratio_randomized.append(sub_df['Label'].tolist().count(1)/(sub_df['Label'].tolist().count(1)+sub_df['Label'].tolist().count(0)))"
   ]
  },
  {
   "cell_type": "code",
   "execution_count": 39,
   "metadata": {},
   "outputs": [
    {
     "data": {
      "text/plain": [
       "<matplotlib.legend.Legend at 0x7f2fd72dc240>"
      ]
     },
     "execution_count": 39,
     "metadata": {},
     "output_type": "execute_result"
    },
    {
     "data": {
      "image/png": "[encoded data removed]",
      "text/plain": [
       "<Figure size 640x480 with 1 Axes>"
      ]
     },
     "metadata": {
      "needs_background": "light"
     },
     "output_type": "display_data"
    }
   ],
   "source": [
    "figure(figsize=(8, 6), dpi=80)\n",
    "\n",
    "sns.distplot(ligand_annotations_bindingDB, norm_hist=True, label='Original')\n",
    "sns.distplot(ligand_annotations_randomized, norm_hist=True, label='Randomized')\n",
    "#axs[3, 0].set_xscale('log')\n",
    "#axs[3, 0].set_yscale('log')\n",
    "plt.title('Ligands')\n",
    "plt.xlabel(r'$K$')\n",
    "plt.ylabel('PDF')\n",
    "plt.legend()"
   ]
  },
  {
   "cell_type": "code",
   "execution_count": 40,
   "metadata": {},
   "outputs": [
    {
     "data": {
      "text/plain": [
       "<matplotlib.legend.Legend at 0x7f2fbbb060f0>"
      ]
     },
     "execution_count": 40,
     "metadata": {},
     "output_type": "execute_result"
    },
    {
     "data": {
      "image/png": "[encoded data removed]",
      "text/plain": [
       "<Figure size 640x480 with 1 Axes>"
      ]
     },
     "metadata": {
      "needs_background": "light"
     },
     "output_type": "display_data"
    }
   ],
   "source": [
    "figure(figsize=(8, 6), dpi=80)\n",
    "\n",
    "sns.distplot(target_annotations_bindingDB, norm_hist=True, label='Original')\n",
    "sns.distplot(target_annotations_randomized, norm_hist=True, label='Randomized')\n",
    "#axs[3, 0].set_xscale('log')\n",
    "#axs[3, 0].set_yscale('log')\n",
    "plt.title('Targets')\n",
    "plt.xlabel(r'$K$')\n",
    "plt.ylabel('PDF')\n",
    "plt.legend()"
   ]
  },
  {
   "cell_type": "code",
   "execution_count": 41,
   "metadata": {},
   "outputs": [
    {
     "name": "stdout",
     "output_type": "stream",
     "text": [
      "LIGANDS\n",
      "Original - Between k and k+:  SpearmanrResult(correlation=0.19228830229942806, pvalue=1.0182463611750579e-111)\n",
      "Original - Between k and k-:  SpearmanrResult(correlation=0.5837365393100225, pvalue=0.0)\n",
      "Original - Between k+ and k-:  SpearmanrResult(correlation=-0.5965683639069678, pvalue=0.0)\n",
      "-------------------------------------------------------------------------------------------------------------\n",
      "Shuffled - Between k and k+:  SpearmanrResult(correlation=0.5336822880442913, pvalue=0.0)\n",
      "Shuffled - Between k and k-:  SpearmanrResult(correlation=0.8122684376303924, pvalue=0.0)\n",
      "Shuffled - Between k+ and k-:  SpearmanrResult(correlation=-0.014996908675834482, pvalue=0.0836449768082673)\n",
      "-------------------------------------------------------------------------------------------------------------\n",
      "-------------------------------------------------------------------------------------------------------------\n",
      "TARGETS\n",
      "Original - Between k and k+:  SpearmanrResult(correlation=0.6581040571662816, pvalue=1.017395698392328e-187)\n",
      "Original - Between k and k-:  SpearmanrResult(correlation=0.933866781238621, pvalue=0.0)\n",
      "Original - Between k+ and k-:  SpearmanrResult(correlation=0.4447684177648136, pvalue=4.253892323025037e-74)\n",
      "-------------------------------------------------------------------------------------------------------------\n",
      "Shuffled - Between k and k+:  SpearmanrResult(correlation=0.5536514279153663, pvalue=8.761667343176162e-122)\n",
      "Shuffled - Between k and k-:  SpearmanrResult(correlation=0.2566899364770624, pvalue=4.210220796560658e-24)\n",
      "Shuffled - Between k+ and k-:  SpearmanrResult(correlation=-0.6280564445844808, pvalue=3.801000369790634e-166)\n"
     ]
    }
   ],
   "source": [
    "print('LIGANDS')\n",
    "\n",
    "print('Original - Between k and k+: ', stats.spearmanr(ligand_annotations_bindingDB, ligand_pos_degree_bindingDB))\n",
    "print('Original - Between k and k-: ', stats.spearmanr(ligand_annotations_bindingDB, ligand_neg_degree_bindingDB))\n",
    "print('Original - Between k+ and k-: ', stats.spearmanr(ligand_pos_degree_bindingDB, ligand_neg_degree_bindingDB))\n",
    "\n",
    "print('-------------------------------------------------------------------------------------------------------------')\n",
    "\n",
    "print('Shuffled - Between k and k+: ', stats.spearmanr(ligand_annotations_randomized, ligand_pos_degree_randomized))\n",
    "print('Shuffled - Between k and k-: ', stats.spearmanr(ligand_annotations_randomized, ligand_neg_degree_randomized))\n",
    "print('Shuffled - Between k+ and k-: ', stats.spearmanr(ligand_pos_degree_randomized, ligand_neg_degree_randomized))\n",
    "\n",
    "\n",
    "print('-------------------------------------------------------------------------------------------------------------')\n",
    "\n",
    "print('-------------------------------------------------------------------------------------------------------------')\n",
    "\n",
    "print('TARGETS')\n",
    "\n",
    "print('Original - Between k and k+: ', stats.spearmanr(target_annotations_bindingDB, target_pos_degree_bindingDB))\n",
    "print('Original - Between k and k-: ', stats.spearmanr(target_annotations_bindingDB, target_neg_degree_bindingDB))\n",
    "print('Original - Between k+ and k-: ', stats.spearmanr(target_pos_degree_bindingDB, target_neg_degree_bindingDB))\n",
    "\n",
    "print('-------------------------------------------------------------------------------------------------------------')\n",
    "\n",
    "print('Shuffled - Between k and k+: ', stats.spearmanr(target_annotations_randomized, target_pos_degree_randomized))\n",
    "print('Shuffled - Between k and k-: ', stats.spearmanr(target_annotations_randomized, target_neg_degree_randomized))\n",
    "print('Shuffled - Between k+ and k-: ', stats.spearmanr(target_pos_degree_randomized, target_neg_degree_randomized))"
   ]
  },
  {
   "cell_type": "code",
   "execution_count": 42,
   "metadata": {
    "scrolled": true
   },
   "outputs": [
    {
     "data": {
      "text/plain": [
       "<matplotlib.collections.PathCollection at 0x7f2fb148fc50>"
      ]
     },
     "execution_count": 42,
     "metadata": {},
     "output_type": "execute_result"
    },
    {
     "data": {
      "image/png": "[encoded data removed]",
      "text/plain": [
       "<Figure size 432x288 with 1 Axes>"
      ]
     },
     "metadata": {
      "needs_background": "light"
     },
     "output_type": "display_data"
    }
   ],
   "source": [
    "plt.scatter(target_annotations_randomized, target_degree_ratio_randomized)"
   ]
  },
  {
   "cell_type": "code",
   "execution_count": 43,
   "metadata": {},
   "outputs": [
    {
     "data": {
      "image/png": "[encoded data removed]",
      "text/plain": [
       "<Figure size 1080x1440 with 8 Axes>"
      ]
     },
     "metadata": {
      "needs_background": "light"
     },
     "output_type": "display_data"
    }
   ],
   "source": [
    "fig, axs = plt.subplots(4, 2, figsize=(15,20))\n",
    "\n",
    "binned_deg_ann, binned_ki_ann = log_binning_distribution(ligand_annotations_bindingDB,B = 20)\n",
    "axs[0, 0].scatter(binned_deg_ann, binned_ki_ann, label='Original',alpha=0.2)\n",
    "binned_deg_ann, binned_ki_ann = log_binning_distribution(ligand_annotations_randomized,B = 20)\n",
    "axs[0, 0].scatter(binned_deg_ann, binned_ki_ann, label='Randomized', marker='x', alpha=0.4)\n",
    "axs[0, 0].set_xscale('log')\n",
    "axs[0, 0].set_yscale('log')\n",
    "axs[0, 0].set_xlabel('$K$')\n",
    "axs[0, 0].set_ylabel('PDF')\n",
    "axs[0, 0].set_title('Ligands')\n",
    "axs[0, 0].legend()\n",
    "\n",
    "binned_deg_ann, binned_ki_ann = log_binning_distribution(ligand_pos_degree_bindingDB,B = 20)\n",
    "axs[1, 0].scatter(binned_deg_ann, binned_ki_ann, label='Original',alpha=0.2)\n",
    "binned_deg_ann, binned_ki_ann = log_binning_distribution(ligand_pos_degree_randomized,B = 20)\n",
    "axs[1, 0].scatter(binned_deg_ann, binned_ki_ann, label='Randomized', marker='x', alpha=0.4)\n",
    "axs[1, 0].set_xscale('log')\n",
    "axs[1, 0].set_yscale('log')\n",
    "axs[1, 0].set_xlabel('$K_+$')\n",
    "axs[1, 0].set_ylabel('PDF')\n",
    "axs[1, 0].legend()\n",
    "\n",
    "binned_deg_ann, binned_ki_ann = log_binning_distribution(ligand_neg_degree_bindingDB,B = 20)\n",
    "axs[2, 0].scatter(binned_deg_ann, binned_ki_ann, label='Original',alpha=0.2)\n",
    "binned_deg_ann, binned_ki_ann = log_binning_distribution(ligand_neg_degree_randomized,B = 20)\n",
    "axs[2, 0].scatter(binned_deg_ann, binned_ki_ann, label='Randomized', marker='x', alpha=0.4)\n",
    "axs[2, 0].set_xscale('log')\n",
    "axs[2, 0].set_yscale('log')\n",
    "axs[2, 0].set_xlabel('$K_-$')\n",
    "axs[2, 0].set_ylabel('PDF')\n",
    "axs[2, 0].legend()\n",
    "\n",
    "#binned_deg_ann, binned_ki_ann = log_binning_distribution(ligand_neg_degree_original,B = 20)\n",
    "sns.distplot(ligand_degree_ratio_bindingDB, ax=axs[3, 0], norm_hist=True, label='Original')\n",
    "#axs[3, 0].hist(ligand_degree_ratio_bindingDB_original, label='Original',alpha=0.2)\n",
    "#binned_deg_ann, binned_ki_ann = log_binning_distribution(ligand_neg_degree_shuffled,B = 20)\n",
    "sns.distplot(ligand_degree_ratio_randomized, ax=axs[3, 0], norm_hist=True, label='Randomized')\n",
    "#axs[3, 0].hist(ligand_degree_ratio_bindingDB_shuffled, label='Randomized Kd', alpha=0.2)\n",
    "#axs[3, 0].set_xscale('log')\n",
    "#axs[3, 0].set_yscale('log')\n",
    "axs[3, 0].set_xlabel(r'$\\rho$')\n",
    "axs[3, 0].set_ylabel('PDF')\n",
    "axs[3, 0].legend()\n",
    "axs[3, 0].set_xlim([0.0, 1.0])\n",
    "\n",
    "################################################################################################\n",
    "\n",
    "binned_deg_ann, binned_ki_ann = log_binning_distribution(target_annotations_bindingDB,B = 20)\n",
    "axs[0, 1].scatter(binned_deg_ann, binned_ki_ann, label='Original',alpha=0.2)\n",
    "binned_deg_ann, binned_ki_ann = log_binning_distribution(target_annotations_randomized,B = 20)\n",
    "axs[0, 1].scatter(binned_deg_ann, binned_ki_ann, label='Randomized', marker='x', alpha=0.4)\n",
    "axs[0, 1].set_xscale('log')\n",
    "axs[0, 1].set_yscale('log')\n",
    "axs[0, 1].set_xlabel('$K$')\n",
    "axs[0, 1].set_ylabel('PDF')\n",
    "axs[0, 1].set_title('Targets')\n",
    "axs[0, 1].legend()\n",
    "\n",
    "binned_deg_ann, binned_ki_ann = log_binning_distribution(target_pos_degree_bindingDB,B = 20)\n",
    "axs[1, 1].scatter(binned_deg_ann, binned_ki_ann, label='Original',alpha=0.2)\n",
    "binned_deg_ann, binned_ki_ann = log_binning_distribution(target_pos_degree_randomized,B = 20)\n",
    "axs[1, 1].scatter(binned_deg_ann, binned_ki_ann, label='Randomized', marker='x', alpha=0.4)\n",
    "axs[1, 1].set_xscale('log')\n",
    "axs[1, 1].set_yscale('log')\n",
    "axs[1, 1].set_xlabel('$K_+$')\n",
    "axs[1, 1].set_ylabel('PDF')\n",
    "axs[1, 1].legend()\n",
    "\n",
    "binned_deg_ann, binned_ki_ann = log_binning_distribution(target_neg_degree_bindingDB,B = 20)\n",
    "axs[2, 1].scatter(binned_deg_ann, binned_ki_ann, label='Original',alpha=0.2)\n",
    "binned_deg_ann, binned_ki_ann = log_binning_distribution(target_neg_degree_randomized,B = 20)\n",
    "axs[2, 1].scatter(binned_deg_ann, binned_ki_ann, label='Randomized', marker='x', alpha=0.4)\n",
    "axs[2, 1].set_xscale('log')\n",
    "axs[2, 1].set_yscale('log')\n",
    "axs[2, 1].set_xlabel('$K_-$')\n",
    "axs[2, 1].set_ylabel('PDF')\n",
    "axs[2, 1].legend()\n",
    "\n",
    "#binned_deg_ann, binned_ki_ann = log_binning_distribution(ligand_neg_degree_original,B = 20)\n",
    "sns.distplot(target_degree_ratio_bindingDB, ax=axs[3, 1], norm_hist=True, label='Original')\n",
    "#axs[3, 0].hist(ligand_degree_ratio_bindingDB_original, label='Original',alpha=0.2)\n",
    "#binned_deg_ann, binned_ki_ann = log_binning_distribution(ligand_neg_degree_shuffled,B = 20)\n",
    "sns.distplot(target_degree_ratio_randomized, ax=axs[3, 1], norm_hist=True, label='Randomized')\n",
    "#axs[3, 0].hist(ligand_degree_ratio_bindingDB_shuffled, label='Randomized Kd', alpha=0.2)\n",
    "#axs[3, 0].set_xscale('log')\n",
    "#axs[3, 0].set_yscale('log')\n",
    "axs[3, 1].set_xlabel(r'$\\rho$')\n",
    "axs[3, 1].set_ylabel('PDF')\n",
    "axs[3, 1].legend()\n",
    "axs[3, 1].set_xlim([0.0, 1.0])\n",
    "\n",
    "fig.tight_layout()"
   ]
  },
  {
   "cell_type": "markdown",
   "metadata": {},
   "source": [
    "# Duplex Configuration Model"
   ]
  },
  {
   "cell_type": "code",
   "execution_count": 44,
   "metadata": {},
   "outputs": [],
   "source": [
    "from sklearn.model_selection import train_test_split\n",
    "\n",
    "train, test = train_test_split(randomized_dataframe, test_size=0.3)"
   ]
  },
  {
   "cell_type": "code",
   "execution_count": 45,
   "metadata": {
    "scrolled": true
   },
   "outputs": [],
   "source": [
    "train.to_csv('../data/experiment_4c_adjusted/train.csv')\n",
    "test.to_csv('../data/experiment_4c_adjusted/test.csv')"
   ]
  },
  {
   "cell_type": "code",
   "execution_count": 46,
   "metadata": {},
   "outputs": [],
   "source": [
    "ligands = list(set(train['SMILES'].tolist()))\n",
    "targets = list(set(train['Target Sequence'].tolist()))"
   ]
  },
  {
   "cell_type": "code",
   "execution_count": 47,
   "metadata": {
    "scrolled": true
   },
   "outputs": [
    {
     "name": "stderr",
     "output_type": "stream",
     "text": [
      "100%|██████████| 13040/13040 [01:34<00:00, 137.53it/s]\n",
      "100%|██████████| 1507/1507 [00:10<00:00, 138.82it/s]\n",
      "100%|██████████| 13040/13040 [00:00<00:00, 1047170.67it/s]\n",
      "100%|██████████| 13040/13040 [00:00<00:00, 1144699.12it/s]\n",
      "100%|██████████| 1507/1507 [00:00<00:00, 1152172.10it/s]\n",
      "100%|██████████| 1507/1507 [00:00<00:00, 1175309.80it/s]\n"
     ]
    }
   ],
   "source": [
    "ligands_degree_dict = dict()\n",
    "\n",
    "for smile_chem in tqdm(ligands):\n",
    "    sum_df = train[train['SMILES'] == smile_chem]\n",
    "    ligands_degree_dict[smile_chem] = dict()\n",
    "    ligands_degree_dict[smile_chem]['deg_0'] = len(sum_df[sum_df['Label'] == 0])\n",
    "    ligands_degree_dict[smile_chem]['deg_1'] = len(sum_df[sum_df['Label'] == 1])\n",
    "    \n",
    "targets_degree_dict = dict()\n",
    "\n",
    "for aa_target in tqdm(targets):\n",
    "    sum_df = train[train['Target Sequence'] == aa_target]\n",
    "    targets_degree_dict[aa_target] = dict()\n",
    "    targets_degree_dict[aa_target]['deg_0'] = len(sum_df[sum_df['Label'] == 0])\n",
    "    targets_degree_dict[aa_target]['deg_1'] = len(sum_df[sum_df['Label'] == 1])\n",
    "    \n",
    "degree_train_1_0_ligands = [ligands_degree_dict[key_val]['deg_1'] for key_val in tqdm(ligands)]\n",
    "degree_train_0_1_ligands = [ligands_degree_dict[key_val]['deg_0'] for key_val in tqdm(ligands)]\n",
    "\n",
    "degree_train_1_0_targets = [targets_degree_dict[key_val]['deg_1'] for key_val in tqdm(targets)]\n",
    "degree_train_0_1_targets = [targets_degree_dict[key_val]['deg_0'] for key_val in tqdm(targets)]"
   ]
  },
  {
   "cell_type": "code",
   "execution_count": 48,
   "metadata": {
    "scrolled": true
   },
   "outputs": [],
   "source": [
    "with open('../data/experiment_4c_adjusted/degreetrain10ligands.txt', 'w') as file:\n",
    "    for degree in degree_train_1_0_ligands:\n",
    "        file.write(\"%i\\n\" % degree)\n",
    "        \n",
    "file.close()\n",
    "\n",
    "with open('../data/experiment_4c_adjusted/degreetrain01ligands.txt', 'w') as file:\n",
    "    for degree in degree_train_0_1_ligands:\n",
    "        file.write(\"%i\\n\" % degree)\n",
    "        \n",
    "file.close()\n",
    "\n",
    "with open('../data/experiment_4c_adjusted/degreetrain10targets.txt', 'w') as file:\n",
    "    for degree in degree_train_1_0_targets:\n",
    "        file.write(\"%i\\n\" % degree)\n",
    "        \n",
    "file.close()\n",
    "\n",
    "with open('../data/experiment_4c_adjusted/degreetrain01targets.txt', 'w') as file:\n",
    "    for degree in degree_train_0_1_targets:\n",
    "        file.write(\"%i\\n\" % degree)\n",
    "        \n",
    "file.close()\n",
    "\n",
    "textfile = open(\"../data/experiment_4c_adjusted/ligands.txt\", \"w\")\n",
    "for element in ligands:\n",
    "    textfile.write(element + \"\\n\")\n",
    "textfile.close()\n",
    "\n",
    "textfile = open(\"../data/experiment_4c_adjusted/targets.txt\", \"w\")\n",
    "for element in targets:\n",
    "    textfile.write(element + \"\\n\")\n",
    "textfile.close()"
   ]
  },
  {
   "cell_type": "code",
   "execution_count": 49,
   "metadata": {},
   "outputs": [],
   "source": [
    "summat10 = np.loadtxt(open(\"../data/experiment_4c_adjusted/summat10.csv\", \"rb\"), delimiter=\",\", skiprows=0) # Output of MATLAB run\n",
    "summat01 = np.loadtxt(open(\"../data/experiment_4c_adjusted/summat01.csv\", \"rb\"), delimiter=\",\", skiprows=0) # Output of MATLAB run "
   ]
  },
  {
   "cell_type": "code",
   "execution_count": 50,
   "metadata": {
    "scrolled": true
   },
   "outputs": [
    {
     "name": "stderr",
     "output_type": "stream",
     "text": [
      "100%|██████████| 13040/13040 [00:00<00:00, 368919.05it/s]\n",
      "100%|██████████| 1507/1507 [00:00<00:00, 371310.35it/s]\n"
     ]
    }
   ],
   "source": [
    "train_pos = train[train['Label'] == 1]\n",
    "train_neg = train[train['Label'] == 0]\n",
    "\n",
    "pos_deg_0_ligands = []\n",
    "pos_deg_0_targets = []\n",
    "neg_deg_0_ligands = []\n",
    "neg_deg_0_targets = []\n",
    "\n",
    "ligand_degree_ratio = dict()\n",
    "ligand_all_average = []\n",
    "\n",
    "for ligand in tqdm(ligands):\n",
    "    pos_deg = ligands_degree_dict[ligand]['deg_1']\n",
    "    neg_deg = ligands_degree_dict[ligand]['deg_0']\n",
    "    if pos_deg + neg_deg != 0:\n",
    "        ligand_degree_ratio[ligand] = dict()\n",
    "        ligand_degree_ratio[ligand]['deg_ratio'] = pos_deg / (pos_deg + neg_deg)\n",
    "        ligand_degree_ratio[ligand]['deg_avg'] = pos_deg / len(targets) \n",
    "        ligand_all_average.append(pos_deg / len(targets))\n",
    "    if pos_deg == 0:\n",
    "        pos_deg_0_ligands.append(ligand)\n",
    "    if neg_deg == 0:\n",
    "        neg_deg_0_ligands.append(ligand)\n",
    "    \n",
    "ligands_all_avg = sum(ligand_all_average) / len(ligands)\n",
    "\n",
    "targets_degree_ratio = dict()\n",
    "target_all_average = []\n",
    "\n",
    "for target in tqdm(targets):\n",
    "    pos_deg = targets_degree_dict[target]['deg_1']\n",
    "    neg_deg = targets_degree_dict[target]['deg_0']\n",
    "    if pos_deg + neg_deg != 0:\n",
    "        targets_degree_ratio[target] = dict()\n",
    "        targets_degree_ratio[target]['deg_ratio'] = pos_deg / (pos_deg + neg_deg)\n",
    "        targets_degree_ratio[target]['deg_avg'] = pos_deg / len(ligands)\n",
    "        target_all_average.append(pos_deg / len(ligands))\n",
    "    if pos_deg == 0:\n",
    "        pos_deg_0_targets.append(target)\n",
    "    if neg_deg == 0:\n",
    "        neg_deg_0_targets.append(target)\n",
    "    \n",
    "targets_all_avg = sum(target_all_average) / len(targets)"
   ]
  },
  {
   "cell_type": "code",
   "execution_count": 51,
   "metadata": {
    "scrolled": true
   },
   "outputs": [],
   "source": [
    "## Annotated means the node has at least 1 binding information\n",
    "\n",
    "pos_annotated_ligands = list(set(ligands)-set(pos_deg_0_ligands))\n",
    "pos_annotated_targets = list(set(targets)-set(pos_deg_0_targets))\n",
    "\n",
    "neg_annotated_ligands = list(set(ligands)-set(neg_deg_0_ligands))\n",
    "neg_annotated_targets = list(set(targets)-set(neg_deg_0_targets))"
   ]
  },
  {
   "cell_type": "code",
   "execution_count": 52,
   "metadata": {
    "scrolled": true
   },
   "outputs": [
    {
     "name": "stderr",
     "output_type": "stream",
     "text": [
      "21291it [00:19, 1070.56it/s]\n"
     ]
    }
   ],
   "source": [
    "test_probabilty_predicted_conditioned = []\n",
    "\n",
    "## Average conditional probability\n",
    "p10_avg = np.mean(summat10)\n",
    "p01_avg = np.mean(summat01)\n",
    "average_conditional_probability = p10_avg / (p10_avg + p01_avg)\n",
    "\n",
    "for index, row in tqdm(test.iterrows()):      \n",
    "    \n",
    "    if row['SMILES'] in pos_annotated_ligands and row['Target Sequence'] in pos_annotated_targets:\n",
    "        p10 = summat10[ligands.index(row['SMILES']),targets.index(row['Target Sequence'])]\n",
    "        p01 = summat01[ligands.index(row['SMILES']),targets.index(row['Target Sequence'])]\n",
    "        p10_conditioned = p10 / (p10 + p01)\n",
    "        test_probabilty_predicted_conditioned.append(p10_conditioned)\n",
    "        \n",
    "    elif row['SMILES'] in pos_annotated_ligands and row['Target Sequence'] not in pos_annotated_targets:\n",
    "        p10_conditioned = ligand_degree_ratio[row['SMILES']]['deg_ratio']  ## k_+ / (k_+ + k_-)\n",
    "        test_probabilty_predicted_conditioned.append(p10_conditioned)\n",
    "        \n",
    "    elif row['SMILES'] not in pos_annotated_ligands and row['Target Sequence'] in pos_annotated_targets:\n",
    "        p10_conditioned = targets_degree_ratio[row['Target Sequence']]['deg_ratio'] ## k_+ / (k_+ + k_-)\n",
    "        test_probabilty_predicted_conditioned.append(p10_conditioned)\n",
    "\n",
    "    else:\n",
    "        p10_conditioned = average_conditional_probability\n",
    "        test_probabilty_predicted_conditioned.append(p10_conditioned)\n",
    "        "
   ]
  },
  {
   "cell_type": "code",
   "execution_count": 150,
   "metadata": {},
   "outputs": [],
   "source": [
    "#test_pos = test[test['Label'] == 1]\n",
    "#test_neg = test[test['Label'] == 0]\n",
    "\n",
    "#test = pd.concat([test_pos,test_neg.sample(n=len(test_pos))])"
   ]
  },
  {
   "cell_type": "code",
   "execution_count": 53,
   "metadata": {
    "scrolled": true
   },
   "outputs": [
    {
     "name": "stdout",
     "output_type": "stream",
     "text": [
      "AUC:  0.6166602573434503\n",
      "AUP:  0.3825011314078012\n"
     ]
    }
   ],
   "source": [
    "## Performance on the test dataset\n",
    "\n",
    "print('AUC: ', roc_auc_score(test['Label'].tolist(), test_probabilty_predicted_conditioned))\n",
    "print('AUP: ', average_precision_score(test['Label'].tolist(), test_probabilty_predicted_conditioned))"
   ]
  },
  {
   "cell_type": "code",
   "execution_count": 54,
   "metadata": {
    "scrolled": true
   },
   "outputs": [
    {
     "name": "stdout",
     "output_type": "stream",
     "text": [
      "Seen ligands:  13040\n",
      "Seen targets:  1507\n",
      "Unseen ligands:  267\n",
      "Unseen targets:  0\n"
     ]
    },
    {
     "name": "stderr",
     "output_type": "stream",
     "text": [
      "/miniconda/lib/python3.6/site-packages/ipykernel_launcher.py:1: SettingWithCopyWarning: \n",
      "A value is trying to be set on a copy of a slice from a DataFrame.\n",
      "Try using .loc[row_indexer,col_indexer] = value instead\n",
      "\n",
      "See the caveats in the documentation: https://pandas.pydata.org/pandas-docs/stable/user_guide/indexing.html#returning-a-view-versus-a-copy\n",
      "  \"\"\"Entry point for launching an IPython kernel.\n"
     ]
    }
   ],
   "source": [
    "test['test_probabilty_predicted_conditioned'] = test_probabilty_predicted_conditioned\n",
    "test = test[~test['test_probabilty_predicted_conditioned'].isna()]\n",
    "\n",
    "train_ligands = list(set(train['SMILES'].tolist()))\n",
    "train_targets = list(set(train['Target Sequence'].tolist()))\n",
    "\n",
    "test_minus_train_ligands = list(set(test['SMILES'].tolist()).difference(train_ligands))\n",
    "test_minus_train_targets = list(set(test['Target Sequence'].tolist()).difference(train_targets))\n",
    "\n",
    "print('Seen ligands: ', len(train_ligands))\n",
    "print('Seen targets: ', len(train_targets))\n",
    "print('Unseen ligands: ', len(test_minus_train_ligands))\n",
    "print('Unseen targets: ', len(test_minus_train_targets))"
   ]
  },
  {
   "cell_type": "code",
   "execution_count": 55,
   "metadata": {
    "scrolled": true
   },
   "outputs": [
    {
     "name": "stdout",
     "output_type": "stream",
     "text": [
      "Unseen edges:  20785\n",
      "AUC:  0.6160327644068331\n",
      "AUP:  0.3828798584437926\n"
     ]
    }
   ],
   "source": [
    "# Unseen Edges\n",
    "\n",
    "test_unseen_edges = test[test['SMILES'].isin(train_ligands) & test['Target Sequence'].isin(train_targets)]\n",
    "print('Unseen edges: ', len(test_unseen_edges))\n",
    "\n",
    "print('AUC: ', roc_auc_score(test_unseen_edges['Label'].tolist(), test_unseen_edges['test_probabilty_predicted_conditioned']))\n",
    "print('AUP: ', average_precision_score(test_unseen_edges['Label'].tolist(), test_unseen_edges['test_probabilty_predicted_conditioned']))"
   ]
  },
  {
   "cell_type": "code",
   "execution_count": 288,
   "metadata": {
    "collapsed": true
   },
   "outputs": [
    {
     "name": "stdout",
     "output_type": "stream",
     "text": [
      "Unseen targets:  0\n"
     ]
    },
    {
     "name": "stderr",
     "output_type": "stream",
     "text": [
      "/miniconda/lib/python3.6/site-packages/numpy/core/fromnumeric.py:3335: RuntimeWarning: Mean of empty slice.\n",
      "  out=out, **kwargs)\n",
      "/miniconda/lib/python3.6/site-packages/numpy/core/_methods.py:161: RuntimeWarning: invalid value encountered in double_scalars\n",
      "  ret = ret.dtype.type(ret / rcount)\n"
     ]
    },
    {
     "ename": "ValueError",
     "evalue": "Input contains NaN, infinity or a value too large for dtype('float64').",
     "output_type": "error",
     "traceback": [
      "\u001b[0;31m---------------------------------------------------------------------------\u001b[0m",
      "\u001b[0;31mValueError\u001b[0m                                Traceback (most recent call last)",
      "\u001b[0;32m<ipython-input-288-e4f96bcc5189>\u001b[0m in \u001b[0;36m<module>\u001b[0;34m\u001b[0m\n\u001b[1;32m     13\u001b[0m \u001b[0mtest_unseen_targets\u001b[0m \u001b[0;34m=\u001b[0m \u001b[0mpd\u001b[0m\u001b[0;34m.\u001b[0m\u001b[0mconcat\u001b[0m\u001b[0;34m(\u001b[0m\u001b[0;34m[\u001b[0m\u001b[0mtest_unseen_targets\u001b[0m\u001b[0;34m,\u001b[0m\u001b[0mappend\u001b[0m\u001b[0;34m]\u001b[0m\u001b[0;34m)\u001b[0m\u001b[0;34m\u001b[0m\u001b[0m\n\u001b[1;32m     14\u001b[0m \u001b[0;34m\u001b[0m\u001b[0m\n\u001b[0;32m---> 15\u001b[0;31m \u001b[0mprint\u001b[0m\u001b[0;34m(\u001b[0m\u001b[0;34m'AUC: '\u001b[0m\u001b[0;34m,\u001b[0m \u001b[0mroc_auc_score\u001b[0m\u001b[0;34m(\u001b[0m\u001b[0mtest_unseen_targets\u001b[0m\u001b[0;34m[\u001b[0m\u001b[0;34m'Label'\u001b[0m\u001b[0;34m]\u001b[0m\u001b[0;34m.\u001b[0m\u001b[0mtolist\u001b[0m\u001b[0;34m(\u001b[0m\u001b[0;34m)\u001b[0m\u001b[0;34m,\u001b[0m \u001b[0mtest_unseen_targets\u001b[0m\u001b[0;34m[\u001b[0m\u001b[0;34m'test_probabilty_predicted_conditioned'\u001b[0m\u001b[0;34m]\u001b[0m\u001b[0;34m)\u001b[0m\u001b[0;34m)\u001b[0m\u001b[0;34m\u001b[0m\u001b[0m\n\u001b[0m\u001b[1;32m     16\u001b[0m \u001b[0mprint\u001b[0m\u001b[0;34m(\u001b[0m\u001b[0;34m'AUP: '\u001b[0m\u001b[0;34m,\u001b[0m \u001b[0maverage_precision_score\u001b[0m\u001b[0;34m(\u001b[0m\u001b[0mtest_unseen_targets\u001b[0m\u001b[0;34m[\u001b[0m\u001b[0;34m'Label'\u001b[0m\u001b[0;34m]\u001b[0m\u001b[0;34m.\u001b[0m\u001b[0mtolist\u001b[0m\u001b[0;34m(\u001b[0m\u001b[0;34m)\u001b[0m\u001b[0;34m,\u001b[0m \u001b[0mtest_unseen_targets\u001b[0m\u001b[0;34m[\u001b[0m\u001b[0;34m'test_probabilty_predicted_conditioned'\u001b[0m\u001b[0;34m]\u001b[0m\u001b[0;34m)\u001b[0m\u001b[0;34m)\u001b[0m\u001b[0;34m\u001b[0m\u001b[0m\n",
      "\u001b[0;32m/miniconda/lib/python3.6/site-packages/sklearn/utils/validation.py\u001b[0m in \u001b[0;36minner_f\u001b[0;34m(*args, **kwargs)\u001b[0m\n\u001b[1;32m     71\u001b[0m                           FutureWarning)\n\u001b[1;32m     72\u001b[0m         \u001b[0mkwargs\u001b[0m\u001b[0;34m.\u001b[0m\u001b[0mupdate\u001b[0m\u001b[0;34m(\u001b[0m\u001b[0;34m{\u001b[0m\u001b[0mk\u001b[0m\u001b[0;34m:\u001b[0m \u001b[0marg\u001b[0m \u001b[0;32mfor\u001b[0m \u001b[0mk\u001b[0m\u001b[0;34m,\u001b[0m \u001b[0marg\u001b[0m \u001b[0;32min\u001b[0m \u001b[0mzip\u001b[0m\u001b[0;34m(\u001b[0m\u001b[0msig\u001b[0m\u001b[0;34m.\u001b[0m\u001b[0mparameters\u001b[0m\u001b[0;34m,\u001b[0m \u001b[0margs\u001b[0m\u001b[0;34m)\u001b[0m\u001b[0;34m}\u001b[0m\u001b[0;34m)\u001b[0m\u001b[0;34m\u001b[0m\u001b[0m\n\u001b[0;32m---> 73\u001b[0;31m         \u001b[0;32mreturn\u001b[0m \u001b[0mf\u001b[0m\u001b[0;34m(\u001b[0m\u001b[0;34m**\u001b[0m\u001b[0mkwargs\u001b[0m\u001b[0;34m)\u001b[0m\u001b[0;34m\u001b[0m\u001b[0m\n\u001b[0m\u001b[1;32m     74\u001b[0m     \u001b[0;32mreturn\u001b[0m \u001b[0minner_f\u001b[0m\u001b[0;34m\u001b[0m\u001b[0m\n\u001b[1;32m     75\u001b[0m \u001b[0;34m\u001b[0m\u001b[0m\n",
      "\u001b[0;32m/miniconda/lib/python3.6/site-packages/sklearn/metrics/_ranking.py\u001b[0m in \u001b[0;36mroc_auc_score\u001b[0;34m(y_true, y_score, average, sample_weight, max_fpr, multi_class, labels)\u001b[0m\n\u001b[1;32m    370\u001b[0m     \u001b[0my_type\u001b[0m \u001b[0;34m=\u001b[0m \u001b[0mtype_of_target\u001b[0m\u001b[0;34m(\u001b[0m\u001b[0my_true\u001b[0m\u001b[0;34m)\u001b[0m\u001b[0;34m\u001b[0m\u001b[0m\n\u001b[1;32m    371\u001b[0m     \u001b[0my_true\u001b[0m \u001b[0;34m=\u001b[0m \u001b[0mcheck_array\u001b[0m\u001b[0;34m(\u001b[0m\u001b[0my_true\u001b[0m\u001b[0;34m,\u001b[0m \u001b[0mensure_2d\u001b[0m\u001b[0;34m=\u001b[0m\u001b[0;32mFalse\u001b[0m\u001b[0;34m,\u001b[0m \u001b[0mdtype\u001b[0m\u001b[0;34m=\u001b[0m\u001b[0;32mNone\u001b[0m\u001b[0;34m)\u001b[0m\u001b[0;34m\u001b[0m\u001b[0m\n\u001b[0;32m--> 372\u001b[0;31m     \u001b[0my_score\u001b[0m \u001b[0;34m=\u001b[0m \u001b[0mcheck_array\u001b[0m\u001b[0;34m(\u001b[0m\u001b[0my_score\u001b[0m\u001b[0;34m,\u001b[0m \u001b[0mensure_2d\u001b[0m\u001b[0;34m=\u001b[0m\u001b[0;32mFalse\u001b[0m\u001b[0;34m)\u001b[0m\u001b[0;34m\u001b[0m\u001b[0m\n\u001b[0m\u001b[1;32m    373\u001b[0m \u001b[0;34m\u001b[0m\u001b[0m\n\u001b[1;32m    374\u001b[0m     if y_type == \"multiclass\" or (y_type == \"binary\" and\n",
      "\u001b[0;32m/miniconda/lib/python3.6/site-packages/sklearn/utils/validation.py\u001b[0m in \u001b[0;36minner_f\u001b[0;34m(*args, **kwargs)\u001b[0m\n\u001b[1;32m     71\u001b[0m                           FutureWarning)\n\u001b[1;32m     72\u001b[0m         \u001b[0mkwargs\u001b[0m\u001b[0;34m.\u001b[0m\u001b[0mupdate\u001b[0m\u001b[0;34m(\u001b[0m\u001b[0;34m{\u001b[0m\u001b[0mk\u001b[0m\u001b[0;34m:\u001b[0m \u001b[0marg\u001b[0m \u001b[0;32mfor\u001b[0m \u001b[0mk\u001b[0m\u001b[0;34m,\u001b[0m \u001b[0marg\u001b[0m \u001b[0;32min\u001b[0m \u001b[0mzip\u001b[0m\u001b[0;34m(\u001b[0m\u001b[0msig\u001b[0m\u001b[0;34m.\u001b[0m\u001b[0mparameters\u001b[0m\u001b[0;34m,\u001b[0m \u001b[0margs\u001b[0m\u001b[0;34m)\u001b[0m\u001b[0;34m}\u001b[0m\u001b[0;34m)\u001b[0m\u001b[0;34m\u001b[0m\u001b[0m\n\u001b[0;32m---> 73\u001b[0;31m         \u001b[0;32mreturn\u001b[0m \u001b[0mf\u001b[0m\u001b[0;34m(\u001b[0m\u001b[0;34m**\u001b[0m\u001b[0mkwargs\u001b[0m\u001b[0;34m)\u001b[0m\u001b[0;34m\u001b[0m\u001b[0m\n\u001b[0m\u001b[1;32m     74\u001b[0m     \u001b[0;32mreturn\u001b[0m \u001b[0minner_f\u001b[0m\u001b[0;34m\u001b[0m\u001b[0m\n\u001b[1;32m     75\u001b[0m \u001b[0;34m\u001b[0m\u001b[0m\n",
      "\u001b[0;32m/miniconda/lib/python3.6/site-packages/sklearn/utils/validation.py\u001b[0m in \u001b[0;36mcheck_array\u001b[0;34m(array, accept_sparse, accept_large_sparse, dtype, order, copy, force_all_finite, ensure_2d, allow_nd, ensure_min_samples, ensure_min_features, estimator)\u001b[0m\n\u001b[1;32m    644\u001b[0m         \u001b[0;32mif\u001b[0m \u001b[0mforce_all_finite\u001b[0m\u001b[0;34m:\u001b[0m\u001b[0;34m\u001b[0m\u001b[0m\n\u001b[1;32m    645\u001b[0m             _assert_all_finite(array,\n\u001b[0;32m--> 646\u001b[0;31m                                allow_nan=force_all_finite == 'allow-nan')\n\u001b[0m\u001b[1;32m    647\u001b[0m \u001b[0;34m\u001b[0m\u001b[0m\n\u001b[1;32m    648\u001b[0m     \u001b[0;32mif\u001b[0m \u001b[0mensure_min_samples\u001b[0m \u001b[0;34m>\u001b[0m \u001b[0;36m0\u001b[0m\u001b[0;34m:\u001b[0m\u001b[0;34m\u001b[0m\u001b[0m\n",
      "\u001b[0;32m/miniconda/lib/python3.6/site-packages/sklearn/utils/validation.py\u001b[0m in \u001b[0;36m_assert_all_finite\u001b[0;34m(X, allow_nan, msg_dtype)\u001b[0m\n\u001b[1;32m     98\u001b[0m                     \u001b[0mmsg_err\u001b[0m\u001b[0;34m.\u001b[0m\u001b[0mformat\u001b[0m\u001b[0;34m\u001b[0m\u001b[0m\n\u001b[1;32m     99\u001b[0m                     (type_err,\n\u001b[0;32m--> 100\u001b[0;31m                      msg_dtype if msg_dtype is not None else X.dtype)\n\u001b[0m\u001b[1;32m    101\u001b[0m             )\n\u001b[1;32m    102\u001b[0m     \u001b[0;31m# for object dtype data, we only check for NaNs (GH-13254)\u001b[0m\u001b[0;34m\u001b[0m\u001b[0;34m\u001b[0m\u001b[0m\n",
      "\u001b[0;31mValueError\u001b[0m: Input contains NaN, infinity or a value too large for dtype('float64')."
     ]
    }
   ],
   "source": [
    "# Unseen Targets\n",
    "\n",
    "test_unseen_targets = test[test['Target Sequence'].isin(test_minus_train_targets)]\n",
    "print('Unseen targets: ', len(test_unseen_targets))\n",
    "\n",
    "append = pd.DataFrame()\n",
    "\n",
    "append['SMILES'] = ['x']\n",
    "append['Target Sequence'] = ['y']\n",
    "append['Label'] = [1.0]\n",
    "append['test_probabilty_predicted_conditioned'] = [np.mean(test_unseen_targets['test_probabilty_predicted_conditioned'].tolist())]\n",
    "\n",
    "test_unseen_targets = pd.concat([test_unseen_targets,append])\n",
    "\n",
    "print('AUC: ', roc_auc_score(test_unseen_targets['Label'].tolist(), test_unseen_targets['test_probabilty_predicted_conditioned']))\n",
    "print('AUP: ', average_precision_score(test_unseen_targets['Label'].tolist(), test_unseen_targets['test_probabilty_predicted_conditioned']))"
   ]
  },
  {
   "cell_type": "code",
   "execution_count": 289,
   "metadata": {
    "collapsed": true
   },
   "outputs": [
    {
     "name": "stdout",
     "output_type": "stream",
     "text": [
      "Unseen nodes:  0\n"
     ]
    },
    {
     "name": "stderr",
     "output_type": "stream",
     "text": [
      "/miniconda/lib/python3.6/site-packages/numpy/core/fromnumeric.py:3335: RuntimeWarning: Mean of empty slice.\n",
      "  out=out, **kwargs)\n",
      "/miniconda/lib/python3.6/site-packages/numpy/core/_methods.py:161: RuntimeWarning: invalid value encountered in double_scalars\n",
      "  ret = ret.dtype.type(ret / rcount)\n"
     ]
    },
    {
     "ename": "ValueError",
     "evalue": "Input contains NaN, infinity or a value too large for dtype('float64').",
     "output_type": "error",
     "traceback": [
      "\u001b[0;31m---------------------------------------------------------------------------\u001b[0m",
      "\u001b[0;31mValueError\u001b[0m                                Traceback (most recent call last)",
      "\u001b[0;32m<ipython-input-289-25c3c1f9f9ef>\u001b[0m in \u001b[0;36m<module>\u001b[0;34m\u001b[0m\n\u001b[1;32m     13\u001b[0m \u001b[0mtest_unseen_nodes\u001b[0m \u001b[0;34m=\u001b[0m \u001b[0mpd\u001b[0m\u001b[0;34m.\u001b[0m\u001b[0mconcat\u001b[0m\u001b[0;34m(\u001b[0m\u001b[0;34m[\u001b[0m\u001b[0mtest_unseen_nodes\u001b[0m\u001b[0;34m,\u001b[0m\u001b[0mappend\u001b[0m\u001b[0;34m]\u001b[0m\u001b[0;34m)\u001b[0m\u001b[0;34m\u001b[0m\u001b[0m\n\u001b[1;32m     14\u001b[0m \u001b[0;34m\u001b[0m\u001b[0m\n\u001b[0;32m---> 15\u001b[0;31m \u001b[0mprint\u001b[0m\u001b[0;34m(\u001b[0m\u001b[0;34m'AUC: '\u001b[0m\u001b[0;34m,\u001b[0m \u001b[0mroc_auc_score\u001b[0m\u001b[0;34m(\u001b[0m\u001b[0mtest_unseen_nodes\u001b[0m\u001b[0;34m[\u001b[0m\u001b[0;34m'Label'\u001b[0m\u001b[0;34m]\u001b[0m\u001b[0;34m.\u001b[0m\u001b[0mtolist\u001b[0m\u001b[0;34m(\u001b[0m\u001b[0;34m)\u001b[0m\u001b[0;34m,\u001b[0m \u001b[0mtest_unseen_nodes\u001b[0m\u001b[0;34m[\u001b[0m\u001b[0;34m'test_probabilty_predicted_conditioned'\u001b[0m\u001b[0;34m]\u001b[0m\u001b[0;34m)\u001b[0m\u001b[0;34m)\u001b[0m\u001b[0;34m\u001b[0m\u001b[0m\n\u001b[0m\u001b[1;32m     16\u001b[0m \u001b[0mprint\u001b[0m\u001b[0;34m(\u001b[0m\u001b[0;34m'AUP: '\u001b[0m\u001b[0;34m,\u001b[0m \u001b[0maverage_precision_score\u001b[0m\u001b[0;34m(\u001b[0m\u001b[0mtest_unseen_nodes\u001b[0m\u001b[0;34m[\u001b[0m\u001b[0;34m'Label'\u001b[0m\u001b[0;34m]\u001b[0m\u001b[0;34m.\u001b[0m\u001b[0mtolist\u001b[0m\u001b[0;34m(\u001b[0m\u001b[0;34m)\u001b[0m\u001b[0;34m,\u001b[0m \u001b[0mtest_unseen_nodes\u001b[0m\u001b[0;34m[\u001b[0m\u001b[0;34m'test_probabilty_predicted_conditioned'\u001b[0m\u001b[0;34m]\u001b[0m\u001b[0;34m)\u001b[0m\u001b[0;34m)\u001b[0m\u001b[0;34m\u001b[0m\u001b[0m\n",
      "\u001b[0;32m/miniconda/lib/python3.6/site-packages/sklearn/utils/validation.py\u001b[0m in \u001b[0;36minner_f\u001b[0;34m(*args, **kwargs)\u001b[0m\n\u001b[1;32m     71\u001b[0m                           FutureWarning)\n\u001b[1;32m     72\u001b[0m         \u001b[0mkwargs\u001b[0m\u001b[0;34m.\u001b[0m\u001b[0mupdate\u001b[0m\u001b[0;34m(\u001b[0m\u001b[0;34m{\u001b[0m\u001b[0mk\u001b[0m\u001b[0;34m:\u001b[0m \u001b[0marg\u001b[0m \u001b[0;32mfor\u001b[0m \u001b[0mk\u001b[0m\u001b[0;34m,\u001b[0m \u001b[0marg\u001b[0m \u001b[0;32min\u001b[0m \u001b[0mzip\u001b[0m\u001b[0;34m(\u001b[0m\u001b[0msig\u001b[0m\u001b[0;34m.\u001b[0m\u001b[0mparameters\u001b[0m\u001b[0;34m,\u001b[0m \u001b[0margs\u001b[0m\u001b[0;34m)\u001b[0m\u001b[0;34m}\u001b[0m\u001b[0;34m)\u001b[0m\u001b[0;34m\u001b[0m\u001b[0m\n\u001b[0;32m---> 73\u001b[0;31m         \u001b[0;32mreturn\u001b[0m \u001b[0mf\u001b[0m\u001b[0;34m(\u001b[0m\u001b[0;34m**\u001b[0m\u001b[0mkwargs\u001b[0m\u001b[0;34m)\u001b[0m\u001b[0;34m\u001b[0m\u001b[0m\n\u001b[0m\u001b[1;32m     74\u001b[0m     \u001b[0;32mreturn\u001b[0m \u001b[0minner_f\u001b[0m\u001b[0;34m\u001b[0m\u001b[0m\n\u001b[1;32m     75\u001b[0m \u001b[0;34m\u001b[0m\u001b[0m\n",
      "\u001b[0;32m/miniconda/lib/python3.6/site-packages/sklearn/metrics/_ranking.py\u001b[0m in \u001b[0;36mroc_auc_score\u001b[0;34m(y_true, y_score, average, sample_weight, max_fpr, multi_class, labels)\u001b[0m\n\u001b[1;32m    370\u001b[0m     \u001b[0my_type\u001b[0m \u001b[0;34m=\u001b[0m \u001b[0mtype_of_target\u001b[0m\u001b[0;34m(\u001b[0m\u001b[0my_true\u001b[0m\u001b[0;34m)\u001b[0m\u001b[0;34m\u001b[0m\u001b[0m\n\u001b[1;32m    371\u001b[0m     \u001b[0my_true\u001b[0m \u001b[0;34m=\u001b[0m \u001b[0mcheck_array\u001b[0m\u001b[0;34m(\u001b[0m\u001b[0my_true\u001b[0m\u001b[0;34m,\u001b[0m \u001b[0mensure_2d\u001b[0m\u001b[0;34m=\u001b[0m\u001b[0;32mFalse\u001b[0m\u001b[0;34m,\u001b[0m \u001b[0mdtype\u001b[0m\u001b[0;34m=\u001b[0m\u001b[0;32mNone\u001b[0m\u001b[0;34m)\u001b[0m\u001b[0;34m\u001b[0m\u001b[0m\n\u001b[0;32m--> 372\u001b[0;31m     \u001b[0my_score\u001b[0m \u001b[0;34m=\u001b[0m \u001b[0mcheck_array\u001b[0m\u001b[0;34m(\u001b[0m\u001b[0my_score\u001b[0m\u001b[0;34m,\u001b[0m \u001b[0mensure_2d\u001b[0m\u001b[0;34m=\u001b[0m\u001b[0;32mFalse\u001b[0m\u001b[0;34m)\u001b[0m\u001b[0;34m\u001b[0m\u001b[0m\n\u001b[0m\u001b[1;32m    373\u001b[0m \u001b[0;34m\u001b[0m\u001b[0m\n\u001b[1;32m    374\u001b[0m     if y_type == \"multiclass\" or (y_type == \"binary\" and\n",
      "\u001b[0;32m/miniconda/lib/python3.6/site-packages/sklearn/utils/validation.py\u001b[0m in \u001b[0;36minner_f\u001b[0;34m(*args, **kwargs)\u001b[0m\n\u001b[1;32m     71\u001b[0m                           FutureWarning)\n\u001b[1;32m     72\u001b[0m         \u001b[0mkwargs\u001b[0m\u001b[0;34m.\u001b[0m\u001b[0mupdate\u001b[0m\u001b[0;34m(\u001b[0m\u001b[0;34m{\u001b[0m\u001b[0mk\u001b[0m\u001b[0;34m:\u001b[0m \u001b[0marg\u001b[0m \u001b[0;32mfor\u001b[0m \u001b[0mk\u001b[0m\u001b[0;34m,\u001b[0m \u001b[0marg\u001b[0m \u001b[0;32min\u001b[0m \u001b[0mzip\u001b[0m\u001b[0;34m(\u001b[0m\u001b[0msig\u001b[0m\u001b[0;34m.\u001b[0m\u001b[0mparameters\u001b[0m\u001b[0;34m,\u001b[0m \u001b[0margs\u001b[0m\u001b[0;34m)\u001b[0m\u001b[0;34m}\u001b[0m\u001b[0;34m)\u001b[0m\u001b[0;34m\u001b[0m\u001b[0m\n\u001b[0;32m---> 73\u001b[0;31m         \u001b[0;32mreturn\u001b[0m \u001b[0mf\u001b[0m\u001b[0;34m(\u001b[0m\u001b[0;34m**\u001b[0m\u001b[0mkwargs\u001b[0m\u001b[0;34m)\u001b[0m\u001b[0;34m\u001b[0m\u001b[0m\n\u001b[0m\u001b[1;32m     74\u001b[0m     \u001b[0;32mreturn\u001b[0m \u001b[0minner_f\u001b[0m\u001b[0;34m\u001b[0m\u001b[0m\n\u001b[1;32m     75\u001b[0m \u001b[0;34m\u001b[0m\u001b[0m\n",
      "\u001b[0;32m/miniconda/lib/python3.6/site-packages/sklearn/utils/validation.py\u001b[0m in \u001b[0;36mcheck_array\u001b[0;34m(array, accept_sparse, accept_large_sparse, dtype, order, copy, force_all_finite, ensure_2d, allow_nd, ensure_min_samples, ensure_min_features, estimator)\u001b[0m\n\u001b[1;32m    644\u001b[0m         \u001b[0;32mif\u001b[0m \u001b[0mforce_all_finite\u001b[0m\u001b[0;34m:\u001b[0m\u001b[0;34m\u001b[0m\u001b[0m\n\u001b[1;32m    645\u001b[0m             _assert_all_finite(array,\n\u001b[0;32m--> 646\u001b[0;31m                                allow_nan=force_all_finite == 'allow-nan')\n\u001b[0m\u001b[1;32m    647\u001b[0m \u001b[0;34m\u001b[0m\u001b[0m\n\u001b[1;32m    648\u001b[0m     \u001b[0;32mif\u001b[0m \u001b[0mensure_min_samples\u001b[0m \u001b[0;34m>\u001b[0m \u001b[0;36m0\u001b[0m\u001b[0;34m:\u001b[0m\u001b[0;34m\u001b[0m\u001b[0m\n",
      "\u001b[0;32m/miniconda/lib/python3.6/site-packages/sklearn/utils/validation.py\u001b[0m in \u001b[0;36m_assert_all_finite\u001b[0;34m(X, allow_nan, msg_dtype)\u001b[0m\n\u001b[1;32m     98\u001b[0m                     \u001b[0mmsg_err\u001b[0m\u001b[0;34m.\u001b[0m\u001b[0mformat\u001b[0m\u001b[0;34m\u001b[0m\u001b[0m\n\u001b[1;32m     99\u001b[0m                     (type_err,\n\u001b[0;32m--> 100\u001b[0;31m                      msg_dtype if msg_dtype is not None else X.dtype)\n\u001b[0m\u001b[1;32m    101\u001b[0m             )\n\u001b[1;32m    102\u001b[0m     \u001b[0;31m# for object dtype data, we only check for NaNs (GH-13254)\u001b[0m\u001b[0;34m\u001b[0m\u001b[0;34m\u001b[0m\u001b[0m\n",
      "\u001b[0;31mValueError\u001b[0m: Input contains NaN, infinity or a value too large for dtype('float64')."
     ]
    }
   ],
   "source": [
    "# Unseen Nodes\n",
    "\n",
    "test_unseen_nodes = test[test['SMILES'].isin(test_minus_train_ligands) & test['Target Sequence'].isin(test_minus_train_targets)]\n",
    "print('Unseen nodes: ', len(test_unseen_nodes))\n",
    "\n",
    "append = pd.DataFrame()\n",
    "\n",
    "append['SMILES'] = ['x']\n",
    "append['Target Sequence'] = ['y']\n",
    "append['Label'] = [1.0]\n",
    "append['test_probabilty_predicted_conditioned'] = [np.mean(test_unseen_nodes['test_probabilty_predicted_conditioned'].tolist())]\n",
    "\n",
    "test_unseen_nodes = pd.concat([test_unseen_nodes,append])\n",
    "\n",
    "print('AUC: ', roc_auc_score(test_unseen_nodes['Label'].tolist(), test_unseen_nodes['test_probabilty_predicted_conditioned']))\n",
    "print('AUP: ', average_precision_score(test_unseen_nodes['Label'].tolist(), test_unseen_nodes['test_probabilty_predicted_conditioned']))"
   ]
  },
  {
   "cell_type": "markdown",
   "metadata": {},
   "source": [
    "# Comparison with Original"
   ]
  },
  {
   "cell_type": "code",
   "execution_count": 56,
   "metadata": {},
   "outputs": [],
   "source": [
    "original_test = pd.read_csv('../data/Transformer_CNN_test_w_config_preds_fold2.csv')"
   ]
  },
  {
   "cell_type": "code",
   "execution_count": 57,
   "metadata": {},
   "outputs": [
    {
     "data": {
      "image/png": "[encoded data removed]",
      "text/plain": [
       "<Figure size 640x480 with 1 Axes>"
      ]
     },
     "metadata": {
      "needs_background": "light"
     },
     "output_type": "display_data"
    }
   ],
   "source": [
    "figure(figsize=(8, 6), dpi=80)\n",
    "\n",
    "sns.distplot(original_test['duplex_config_prediction'].tolist(),  norm_hist=True, label='Original')\n",
    "sns.distplot(test_probabilty_predicted_conditioned,  norm_hist=True, label='Randomization')\n",
    "plt.legend()\n",
    "plt.xlim([0,1])\n",
    "plt.xlabel('Duplex Configuration Model Prediction')\n",
    "plt.ylabel('PDF')\n",
    "plt.show()"
   ]
  },
  {
   "cell_type": "code",
   "execution_count": 58,
   "metadata": {},
   "outputs": [
    {
     "name": "stdout",
     "output_type": "stream",
     "text": [
      "Older mean and std of duplex prediction:  0.23615038775267627 0.36227473125684373\n",
      "New mean and std of duplex prediction:  0.4036188949808302 0.24019598626843813\n"
     ]
    }
   ],
   "source": [
    "print('Older mean and std of duplex prediction: ', np.mean(original_test['duplex_config_prediction'].tolist()), np.std(original_test['duplex_config_prediction'].tolist()))\n",
    "print('New mean and std of duplex prediction: ', np.mean(test_probabilty_predicted_conditioned), np.std(test_probabilty_predicted_conditioned))"
   ]
  },
  {
   "cell_type": "code",
   "execution_count": null,
   "metadata": {},
   "outputs": [],
   "source": []
  }
 ],
 "metadata": {
  "kernelspec": {
   "display_name": "Python 3",
   "language": "python",
   "name": "python3"
  },
  "language_info": {
   "codemirror_mode": {
    "name": "ipython",
    "version": 3
   },
   "file_extension": ".py",
   "mimetype": "text/x-python",
   "name": "python",
   "nbconvert_exporter": "python",
   "pygments_lexer": "ipython3",
   "version": "3.6.6"
  },
  "toc": {
   "base_numbering": 1,
   "nav_menu": {},
   "number_sections": true,
   "sideBar": true,
   "skip_h1_title": false,
   "title_cell": "Table of Contents",
   "title_sidebar": "Contents",
   "toc_cell": false,
   "toc_position": {},
   "toc_section_display": true,
   "toc_window_display": false
  }
 },
 "nbformat": 4,
 "nbformat_minor": 4
}
