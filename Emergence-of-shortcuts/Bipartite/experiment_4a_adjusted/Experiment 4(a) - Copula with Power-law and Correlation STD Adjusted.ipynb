{
 "cells": [
  {
   "cell_type": "markdown",
   "metadata": {
    "heading_collapsed": true
   },
   "source": [
    "# Imports and Custom Functions"
   ]
  },
  {
   "cell_type": "code",
   "execution_count": 1,
   "metadata": {
    "hidden": true
   },
   "outputs": [],
   "source": [
    "import matplotlib.pyplot as plt\n",
    "from tqdm import tqdm\n",
    "import pandas as pd\n",
    "from matplotlib.pyplot import figure\n",
    "import numpy as np\n",
    "import networkx as nx\n",
    "from networkx.algorithms import bipartite\n",
    "from sklearn.metrics import confusion_matrix, f1_score, classification_report\n",
    "from sklearn.metrics import roc_curve, roc_auc_score, precision_recall_curve, average_precision_score\n",
    "from sklearn.metrics import confusion_matrix, f1_score, classification_report\n",
    "from scipy import stats\n",
    "import seaborn as sns\n",
    "import powerlaw\n",
    "from scipy.stats import poisson\n",
    "#import tensorflow as tf\n",
    "#tf.enable_v2_behavior()\n",
    "\n",
    "#import tensorflow_probability as tfp\n",
    "#tfd = tfp.distributions\n",
    "#tfb = tfp.bijectors"
   ]
  },
  {
   "cell_type": "code",
   "execution_count": 2,
   "metadata": {
    "hidden": true
   },
   "outputs": [],
   "source": [
    "def closest(lst, K):\n",
    "    \n",
    "    number = lst[min(range(len(lst)), key = lambda i: abs(lst[i]-K))]\n",
    "    \n",
    "    if abs(number-K) >= 3:\n",
    "        print('Not close enough: ', int(abs(number-K)))\n",
    "    \n",
    "    # number_index = np.random.choice(get_all_indices(lst,number))\n",
    "      \n",
    "    return get_all_indices(lst,number) # number_index"
   ]
  },
  {
   "cell_type": "code",
   "execution_count": 3,
   "metadata": {
    "hidden": true
   },
   "outputs": [],
   "source": [
    "def get_all_indices(mylist,myval):\n",
    "    \n",
    "    all_indices = []\n",
    "    \n",
    "    for i in range(len(mylist)):\n",
    "        if mylist[i] == myval:\n",
    "            all_indices.append(i)\n",
    "            \n",
    "    return all_indices"
   ]
  },
  {
   "cell_type": "code",
   "execution_count": 4,
   "metadata": {
    "hidden": true
   },
   "outputs": [],
   "source": [
    "def remove_zeros_distribution(X):\n",
    "\n",
    "    return [i for i in X if i != 0]\n",
    "\n",
    "def log_binning_distribution(x_i,B = 20): \n",
    "    \n",
    "    x_i = remove_zeros_distribution(x_i)\n",
    "\n",
    "    b_1 = min(x_i)\n",
    "    b_Bp1 = max(x_i)\n",
    "    q_1 = np.log(b_1)\n",
    "    q_Bp1 = np.log(b_Bp1)\n",
    "    D_q = q_Bp1 - q_1\n",
    "    L_q = D_q / B\n",
    "\n",
    "    q_list = []\n",
    "    b_list = []\n",
    "\n",
    "    for i in range(B):\n",
    "        j = i + 1\n",
    "        q_list.append(q_1 + (j-1)*L_q)\n",
    "        b_list.append(np.exp(q_1 + (j-1)*L_q))\n",
    "\n",
    "    # b_list.insert(0,b_1)\n",
    "    # b_list.append(b_Bp1)\n",
    "    \n",
    "    binned_x_i = []\n",
    "    density_list = []\n",
    "\n",
    "    for i in range(len(b_list)-1):\n",
    "        bin_low = b_list[i]\n",
    "        bin_high = b_list[i+1]\n",
    "        count_bin = 0\n",
    "        for j in range(len(x_i)):\n",
    "            if x_i[j] >= bin_low and x_i[j] < bin_high:\n",
    "                count_bin = count_bin + 1\n",
    "                \n",
    "        if count_bin > 0:\n",
    "            density_bin = count_bin / (len(x_i)*(bin_high-bin_low))\n",
    "            density_list.append(density_bin)\n",
    "            binned_x_i.append(bin_low)\n",
    "        else:\n",
    "            continue \n",
    "            \n",
    "    return binned_x_i, density_list"
   ]
  },
  {
   "cell_type": "markdown",
   "metadata": {},
   "source": [
    "# Analysis of BindingDB Kd"
   ]
  },
  {
   "cell_type": "code",
   "execution_count": 5,
   "metadata": {
    "scrolled": true
   },
   "outputs": [
    {
     "name": "stderr",
     "output_type": "stream",
     "text": [
      "b'Skipping line 896772: expected 193 fields, saw 205\\nSkipping line 896798: expected 193 fields, saw 205\\n'\n",
      "b'Skipping line 929491: expected 193 fields, saw 205\\n'\n",
      "b'Skipping line 952161: expected 193 fields, saw 265\\n'\n",
      "b'Skipping line 1355895: expected 193 fields, saw 241\\n'\n",
      "b'Skipping line 1469800: expected 193 fields, saw 241\\nSkipping line 1469801: expected 193 fields, saw 241\\nSkipping line 1469802: expected 193 fields, saw 241\\nSkipping line 1469803: expected 193 fields, saw 241\\nSkipping line 1469804: expected 193 fields, saw 241\\nSkipping line 1469805: expected 193 fields, saw 241\\nSkipping line 1469806: expected 193 fields, saw 241\\nSkipping line 1469807: expected 193 fields, saw 241\\nSkipping line 1469808: expected 193 fields, saw 241\\n'\n",
      "b'Skipping line 1483073: expected 193 fields, saw 205\\n'\n",
      "b'Skipping line 1502296: expected 193 fields, saw 241\\nSkipping line 1502297: expected 193 fields, saw 241\\nSkipping line 1502298: expected 193 fields, saw 241\\nSkipping line 1502299: expected 193 fields, saw 241\\nSkipping line 1502300: expected 193 fields, saw 241\\nSkipping line 1502301: expected 193 fields, saw 241\\nSkipping line 1502302: expected 193 fields, saw 241\\nSkipping line 1502303: expected 193 fields, saw 241\\nSkipping line 1502304: expected 193 fields, saw 241\\n'\n",
      "b'Skipping line 1541474: expected 193 fields, saw 205\\n'\n",
      "b'Skipping line 1927945: expected 193 fields, saw 265\\n'\n",
      "b'Skipping line 2015166: expected 193 fields, saw 265\\nSkipping line 2015167: expected 193 fields, saw 265\\nSkipping line 2015168: expected 193 fields, saw 265\\nSkipping line 2015169: expected 193 fields, saw 265\\nSkipping line 2015170: expected 193 fields, saw 265\\nSkipping line 2015171: expected 193 fields, saw 265\\nSkipping line 2015172: expected 193 fields, saw 265\\nSkipping line 2015173: expected 193 fields, saw 265\\nSkipping line 2015174: expected 193 fields, saw 265\\nSkipping line 2015175: expected 193 fields, saw 265\\nSkipping line 2015176: expected 193 fields, saw 265\\nSkipping line 2015177: expected 193 fields, saw 265\\nSkipping line 2015178: expected 193 fields, saw 265\\nSkipping line 2015179: expected 193 fields, saw 265\\nSkipping line 2015180: expected 193 fields, saw 265\\nSkipping line 2015181: expected 193 fields, saw 265\\nSkipping line 2015182: expected 193 fields, saw 265\\nSkipping line 2015183: expected 193 fields, saw 265\\nSkipping line 2015184: expected 193 fields, saw 265\\n'\n",
      "b'Skipping line 2015802: expected 193 fields, saw 265\\nSkipping line 2015803: expected 193 fields, saw 265\\nSkipping line 2015804: expected 193 fields, saw 265\\nSkipping line 2015805: expected 193 fields, saw 265\\nSkipping line 2015806: expected 193 fields, saw 265\\nSkipping line 2015807: expected 193 fields, saw 265\\nSkipping line 2015808: expected 193 fields, saw 265\\n'\n",
      "b'Skipping line 2027219: expected 193 fields, saw 265\\nSkipping line 2027220: expected 193 fields, saw 265\\nSkipping line 2027221: expected 193 fields, saw 265\\nSkipping line 2027222: expected 193 fields, saw 265\\nSkipping line 2027223: expected 193 fields, saw 265\\nSkipping line 2027224: expected 193 fields, saw 265\\nSkipping line 2027225: expected 193 fields, saw 265\\nSkipping line 2027226: expected 193 fields, saw 265\\nSkipping line 2027227: expected 193 fields, saw 265\\nSkipping line 2027228: expected 193 fields, saw 265\\nSkipping line 2027229: expected 193 fields, saw 265\\nSkipping line 2027230: expected 193 fields, saw 265\\nSkipping line 2027231: expected 193 fields, saw 265\\nSkipping line 2027232: expected 193 fields, saw 265\\nSkipping line 2027233: expected 193 fields, saw 265\\nSkipping line 2027234: expected 193 fields, saw 265\\nSkipping line 2027235: expected 193 fields, saw 265\\nSkipping line 2027236: expected 193 fields, saw 265\\nSkipping line 2027237: expected 193 fields, saw 265\\nSkipping line 2027238: expected 193 fields, saw 265\\nSkipping line 2027239: expected 193 fields, saw 265\\nSkipping line 2027240: expected 193 fields, saw 265\\nSkipping line 2027241: expected 193 fields, saw 265\\nSkipping line 2027242: expected 193 fields, saw 265\\nSkipping line 2027243: expected 193 fields, saw 265\\nSkipping line 2027244: expected 193 fields, saw 265\\nSkipping line 2027245: expected 193 fields, saw 265\\nSkipping line 2027246: expected 193 fields, saw 265\\nSkipping line 2027247: expected 193 fields, saw 265\\nSkipping line 2027248: expected 193 fields, saw 265\\nSkipping line 2027249: expected 193 fields, saw 265\\nSkipping line 2027250: expected 193 fields, saw 265\\nSkipping line 2027251: expected 193 fields, saw 265\\nSkipping line 2027252: expected 193 fields, saw 265\\nSkipping line 2027253: expected 193 fields, saw 265\\nSkipping line 2027254: expected 193 fields, saw 265\\nSkipping line 2027255: expected 193 fields, saw 265\\nSkipping line 2027256: expected 193 fields, saw 265\\nSkipping line 2027257: expected 193 fields, saw 265\\n'\n",
      "b'Skipping line 2029854: expected 193 fields, saw 265\\nSkipping line 2029855: expected 193 fields, saw 265\\nSkipping line 2029856: expected 193 fields, saw 265\\nSkipping line 2029857: expected 193 fields, saw 265\\nSkipping line 2029858: expected 193 fields, saw 265\\nSkipping line 2029859: expected 193 fields, saw 265\\nSkipping line 2029860: expected 193 fields, saw 265\\nSkipping line 2029861: expected 193 fields, saw 265\\n'\n",
      "b'Skipping line 2042409: expected 193 fields, saw 313\\n'\n",
      "b'Skipping line 2059953: expected 193 fields, saw 637\\n'\n",
      "/miniconda/lib/python3.6/site-packages/IPython/core/interactiveshell.py:3063: DtypeWarning: Columns (8,9,10,11,12,13,15,17,18,19,20,26,27,31,32,34,35,46,49,50,51,52,53,54,61,62,63,64,65,66,73,74,75,76,77,78,85,86,87,88,89,90,97,98,99,100,101,102,109,110,111,112,113,114,121,122,123,124,125,126,133,134,135,136,137,138,145,147,148,149,150,157,158,159,160,161,162,169,171,172,173,174) have mixed types.Specify dtype option on import or set low_memory=False.\n",
      "  interactivity=interactivity, compiler=compiler, result=result)\n"
     ]
    },
    {
     "name": "stdout",
     "output_type": "stream",
     "text": [
      "There are 70750 drug target pairs.\n"
     ]
    },
    {
     "data": {
      "image/png": "[encoded data removed]",
      "text/plain": [
       "<Figure size 432x288 with 1 Axes>"
      ]
     },
     "metadata": {
      "needs_background": "light"
     },
     "output_type": "display_data"
    }
   ],
   "source": [
    "df = pd.read_csv('/home/sars-busters-consolidated/data/BindingDB_All.tsv', sep = '\\t', error_bad_lines=False)\n",
    "\n",
    "df = df[df['Number of Protein Chains in Target (>1 implies a multichain complex)'] == 1.0]\n",
    "df = df[df['Ligand SMILES'].notnull()]\n",
    "\n",
    "idx_str = 'Kd (nM)'\n",
    "\n",
    "df_want = df[df[idx_str].notnull()]\n",
    "df_want = df_want[['BindingDB Reactant_set_id', 'Ligand InChI', 'Ligand SMILES',\\\n",
    "                    'PubChem CID', 'UniProt (SwissProt) Primary ID of Target Chain',\\\n",
    "                    'BindingDB Target Chain  Sequence', idx_str]]\n",
    "\n",
    "df_want.rename(columns={'BindingDB Reactant_set_id':'ID', 'Ligand SMILES':'SMILES',\\\n",
    "                        'Ligand InChI':'InChI', 'PubChem CID':'PubChem_ID',\n",
    "                        'UniProt (SwissProt) Primary ID of Target Chain':'UniProt_ID',\n",
    "                        'BindingDB Target Chain  Sequence': 'Target Sequence',\n",
    "                            idx_str: 'Label'}, inplace=True)\n",
    "\n",
    "df_want['Label'] = df_want['Label'].str.replace('>', '')\n",
    "df_want['Label'] = df_want['Label'].str.replace('<', '')\n",
    "df_want['Label'] = df_want['Label'].astype(float)\n",
    "\n",
    "# have at least uniprot or pubchem ID\n",
    "df_want = df_want[df_want.PubChem_ID.notnull() | df_want.UniProt_ID.notnull()]\n",
    "df_want = df_want[df_want.InChI.notnull()]\n",
    "\n",
    "df_want = df_want[df_want.Label <= 10000000.0]\n",
    "print('There are ' + str(len(df_want)) + ' drug target pairs.')\n",
    "\n",
    "kd_list = list(df_want.Label.values)\n",
    "\n",
    "ax = sns.distplot(np.log10(remove_zeros_distribution(kd_list)), norm_hist=True)\n",
    "ax.set(xlabel='log Kd', ylabel='pdf')\n",
    "plt.show()"
   ]
  },
  {
   "cell_type": "markdown",
   "metadata": {},
   "source": [
    "# Randomzing the whole bipartite network"
   ]
  },
  {
   "cell_type": "code",
   "execution_count": 6,
   "metadata": {},
   "outputs": [],
   "source": [
    "#threshold = 30 # in nM\n",
    "\n",
    "df_want_Kd = df_want[['SMILES','Target Sequence','Label']]\n",
    "#df_want_Kd['Kd'] = df_want.Label.values\n",
    "#df_want_Kd['Label'] = [1 if x<threshold else 0 for x in kd_list]"
   ]
  },
  {
   "cell_type": "code",
   "execution_count": 7,
   "metadata": {},
   "outputs": [
    {
     "data": {
      "text/html": [
       "<div>\n",
       "<style scoped>\n",
       "    .dataframe tbody tr th:only-of-type {\n",
       "        vertical-align: middle;\n",
       "    }\n",
       "\n",
       "    .dataframe tbody tr th {\n",
       "        vertical-align: top;\n",
       "    }\n",
       "\n",
       "    .dataframe thead th {\n",
       "        text-align: right;\n",
       "    }\n",
       "</style>\n",
       "<table border=\"1\" class=\"dataframe\">\n",
       "  <thead>\n",
       "    <tr style=\"text-align: right;\">\n",
       "      <th></th>\n",
       "      <th>SMILES</th>\n",
       "      <th>Target Sequence</th>\n",
       "      <th>Label</th>\n",
       "    </tr>\n",
       "  </thead>\n",
       "  <tbody>\n",
       "    <tr>\n",
       "      <th>21470</th>\n",
       "      <td>Cc1ccc(CNS(=O)(=O)c2ccc(s2)S(N)(=O)=O)cc1</td>\n",
       "      <td>MSHHWGYGKHNGPEHWHKDFPIAKGERQSPVDIDTHTAKYDPSLKP...</td>\n",
       "      <td>0.46</td>\n",
       "    </tr>\n",
       "    <tr>\n",
       "      <th>21471</th>\n",
       "      <td>COc1ccc(CNS(=O)(=O)c2ccc(s2)S(N)(=O)=O)cc1</td>\n",
       "      <td>MSHHWGYGKHNGPEHWHKDFPIAKGERQSPVDIDTHTAKYDPSLKP...</td>\n",
       "      <td>0.49</td>\n",
       "    </tr>\n",
       "    <tr>\n",
       "      <th>21472</th>\n",
       "      <td>NS(=O)(=O)c1ccc(s1)S(=O)(=O)NCc1cccs1</td>\n",
       "      <td>MSHHWGYGKHNGPEHWHKDFPIAKGERQSPVDIDTHTAKYDPSLKP...</td>\n",
       "      <td>0.83</td>\n",
       "    </tr>\n",
       "    <tr>\n",
       "      <th>21473</th>\n",
       "      <td>NS(=O)(=O)c1cc2C(O)CN(Cc3cccs3)S(=O)(=O)c2s1</td>\n",
       "      <td>MSHHWGYGKHNGPEHWHKDFPIAKGERQSPVDIDTHTAKYDPSLKP...</td>\n",
       "      <td>0.20</td>\n",
       "    </tr>\n",
       "    <tr>\n",
       "      <th>21474</th>\n",
       "      <td>COc1ccc(cc1)N1CC(O)c2cc(sc2S1(=O)=O)S(N)(=O)=O</td>\n",
       "      <td>MSHHWGYGKHNGPEHWHKDFPIAKGERQSPVDIDTHTAKYDPSLKP...</td>\n",
       "      <td>0.16</td>\n",
       "    </tr>\n",
       "    <tr>\n",
       "      <th>...</th>\n",
       "      <td>...</td>\n",
       "      <td>...</td>\n",
       "      <td>...</td>\n",
       "    </tr>\n",
       "    <tr>\n",
       "      <th>2077352</th>\n",
       "      <td>CCCC(=O)c1ccc2Sc3ccccc3N(CCCN3CCN(C)CC3)c2c1</td>\n",
       "      <td>MKWVTFISLLLLFSSAYSRGVFRRDTHKSEIAHRFKDLGEEHFKGL...</td>\n",
       "      <td>16600.00</td>\n",
       "    </tr>\n",
       "    <tr>\n",
       "      <th>2077353</th>\n",
       "      <td>OCCN1CCN(CCCN2c3ccccc3Sc3ccc(Cl)cc23)CC1</td>\n",
       "      <td>MKWVTFISLLLLFSSAYSRGVFRRDTHKSEIAHRFKDLGEEHFKGL...</td>\n",
       "      <td>63100.00</td>\n",
       "    </tr>\n",
       "    <tr>\n",
       "      <th>2077354</th>\n",
       "      <td>CN(C)CCCN1c2ccccc2Sc2ccc(cc12)C#N</td>\n",
       "      <td>MKWVTFISLLLLFSSAYSRGVFRRDTHKSEIAHRFKDLGEEHFKGL...</td>\n",
       "      <td>34700.00</td>\n",
       "    </tr>\n",
       "    <tr>\n",
       "      <th>2077355</th>\n",
       "      <td>OCCN1CCN(CCCN2c3ccccc3Sc3ccc(cc23)C(F)(F)F)CC1</td>\n",
       "      <td>MKWVTFISLLLLFSSAYSRGVFRRDTHKSEIAHRFKDLGEEHFKGL...</td>\n",
       "      <td>38900.00</td>\n",
       "    </tr>\n",
       "    <tr>\n",
       "      <th>2077356</th>\n",
       "      <td>CC(CN1CCN(CCOCCO)CC1)CN1c2ccccc2Sc2ccccc12</td>\n",
       "      <td>MKWVTFISLLLLFSSAYSRGVFRRDTHKSEIAHRFKDLGEEHFKGL...</td>\n",
       "      <td>61700.00</td>\n",
       "    </tr>\n",
       "  </tbody>\n",
       "</table>\n",
       "<p>70750 rows × 3 columns</p>\n",
       "</div>"
      ],
      "text/plain": [
       "                                                 SMILES  \\\n",
       "21470         Cc1ccc(CNS(=O)(=O)c2ccc(s2)S(N)(=O)=O)cc1   \n",
       "21471        COc1ccc(CNS(=O)(=O)c2ccc(s2)S(N)(=O)=O)cc1   \n",
       "21472             NS(=O)(=O)c1ccc(s1)S(=O)(=O)NCc1cccs1   \n",
       "21473      NS(=O)(=O)c1cc2C(O)CN(Cc3cccs3)S(=O)(=O)c2s1   \n",
       "21474    COc1ccc(cc1)N1CC(O)c2cc(sc2S1(=O)=O)S(N)(=O)=O   \n",
       "...                                                 ...   \n",
       "2077352    CCCC(=O)c1ccc2Sc3ccccc3N(CCCN3CCN(C)CC3)c2c1   \n",
       "2077353        OCCN1CCN(CCCN2c3ccccc3Sc3ccc(Cl)cc23)CC1   \n",
       "2077354               CN(C)CCCN1c2ccccc2Sc2ccc(cc12)C#N   \n",
       "2077355  OCCN1CCN(CCCN2c3ccccc3Sc3ccc(cc23)C(F)(F)F)CC1   \n",
       "2077356      CC(CN1CCN(CCOCCO)CC1)CN1c2ccccc2Sc2ccccc12   \n",
       "\n",
       "                                           Target Sequence     Label  \n",
       "21470    MSHHWGYGKHNGPEHWHKDFPIAKGERQSPVDIDTHTAKYDPSLKP...      0.46  \n",
       "21471    MSHHWGYGKHNGPEHWHKDFPIAKGERQSPVDIDTHTAKYDPSLKP...      0.49  \n",
       "21472    MSHHWGYGKHNGPEHWHKDFPIAKGERQSPVDIDTHTAKYDPSLKP...      0.83  \n",
       "21473    MSHHWGYGKHNGPEHWHKDFPIAKGERQSPVDIDTHTAKYDPSLKP...      0.20  \n",
       "21474    MSHHWGYGKHNGPEHWHKDFPIAKGERQSPVDIDTHTAKYDPSLKP...      0.16  \n",
       "...                                                    ...       ...  \n",
       "2077352  MKWVTFISLLLLFSSAYSRGVFRRDTHKSEIAHRFKDLGEEHFKGL...  16600.00  \n",
       "2077353  MKWVTFISLLLLFSSAYSRGVFRRDTHKSEIAHRFKDLGEEHFKGL...  63100.00  \n",
       "2077354  MKWVTFISLLLLFSSAYSRGVFRRDTHKSEIAHRFKDLGEEHFKGL...  34700.00  \n",
       "2077355  MKWVTFISLLLLFSSAYSRGVFRRDTHKSEIAHRFKDLGEEHFKGL...  38900.00  \n",
       "2077356  MKWVTFISLLLLFSSAYSRGVFRRDTHKSEIAHRFKDLGEEHFKGL...  61700.00  \n",
       "\n",
       "[70750 rows x 3 columns]"
      ]
     },
     "execution_count": 7,
     "metadata": {},
     "output_type": "execute_result"
    }
   ],
   "source": [
    "df_want_Kd"
   ]
  },
  {
   "cell_type": "code",
   "execution_count": 8,
   "metadata": {},
   "outputs": [
    {
     "name": "stderr",
     "output_type": "stream",
     "text": [
      "100%|██████████| 70750/70750 [00:00<00:00, 1660652.67it/s]\n"
     ]
    }
   ],
   "source": [
    "threshold = 30 \n",
    "\n",
    "df_want_Kd_binary = pd.DataFrame(df_want_Kd)\n",
    "df_want_Kd_binary['Label'] = [1 if x < threshold else 0 for x in tqdm(df_want_Kd['Label'].tolist())]"
   ]
  },
  {
   "cell_type": "code",
   "execution_count": 9,
   "metadata": {},
   "outputs": [],
   "source": [
    "ligands = list(set(df_want_Kd_binary['SMILES'].tolist()))\n",
    "targets = list(set(df_want_Kd_binary['Target Sequence'].tolist()))"
   ]
  },
  {
   "cell_type": "code",
   "execution_count": 10,
   "metadata": {},
   "outputs": [
    {
     "name": "stderr",
     "output_type": "stream",
     "text": [
      "100%|██████████| 13392/13392 [01:52<00:00, 119.29it/s]\n"
     ]
    }
   ],
   "source": [
    "ligand_annotations_bindingDB = []\n",
    "ligand_pos_degree_bindingDB = []\n",
    "ligand_neg_degree_bindingDB = []\n",
    "ligand_degree_ratio_bindingDB = []\n",
    "\n",
    "for chem in tqdm(ligands):\n",
    "    sub_df = df_want_Kd_binary[df_want_Kd_binary['SMILES'] == chem]\n",
    "    ligand_annotations_bindingDB.append(len(sub_df))\n",
    "    ligand_pos_degree_bindingDB.append(sub_df['Label'].tolist().count(1))\n",
    "    ligand_neg_degree_bindingDB.append(sub_df['Label'].tolist().count(0))\n",
    "    ligand_degree_ratio_bindingDB.append(sub_df['Label'].tolist().count(1)/(sub_df['Label'].tolist().count(1)+sub_df['Label'].tolist().count(0)))"
   ]
  },
  {
   "cell_type": "code",
   "execution_count": 11,
   "metadata": {},
   "outputs": [
    {
     "name": "stderr",
     "output_type": "stream",
     "text": [
      "100%|██████████| 1507/1507 [00:12<00:00, 118.98it/s]\n"
     ]
    }
   ],
   "source": [
    "target_annotations_bindingDB = []\n",
    "target_pos_degree_bindingDB = []\n",
    "target_neg_degree_bindingDB = []\n",
    "target_degree_ratio_bindingDB = []\n",
    "\n",
    "for prot in tqdm(targets):\n",
    "    sub_df = df_want_Kd_binary[df_want_Kd_binary['Target Sequence'] == prot]\n",
    "    target_annotations_bindingDB.append(len(sub_df))\n",
    "    target_pos_degree_bindingDB.append(sub_df['Label'].tolist().count(1))\n",
    "    target_neg_degree_bindingDB.append(sub_df['Label'].tolist().count(0))\n",
    "    target_degree_ratio_bindingDB.append(sub_df['Label'].tolist().count(1)/(sub_df['Label'].tolist().count(1)+sub_df['Label'].tolist().count(0)))"
   ]
  },
  {
   "cell_type": "code",
   "execution_count": 12,
   "metadata": {},
   "outputs": [],
   "source": [
    "randomized_combined_bipartite = bipartite.configuration_model(ligand_annotations_bindingDB, target_annotations_bindingDB, create_using=nx.Graph())"
   ]
  },
  {
   "cell_type": "code",
   "execution_count": 13,
   "metadata": {},
   "outputs": [
    {
     "data": {
      "text/plain": [
       "50684"
      ]
     },
     "execution_count": 13,
     "metadata": {},
     "output_type": "execute_result"
    }
   ],
   "source": [
    "randomized_combined_bipartite.number_of_edges()"
   ]
  },
  {
   "cell_type": "code",
   "execution_count": 14,
   "metadata": {},
   "outputs": [
    {
     "name": "stdout",
     "output_type": "stream",
     "text": [
      "13392\n",
      "1507\n"
     ]
    }
   ],
   "source": [
    "top_nodes = {n for n, d in randomized_combined_bipartite.nodes(data=True) if d[\"bipartite\"] == 0}\n",
    "\n",
    "print(len(top_nodes))\n",
    "\n",
    "bottom_nodes = set(randomized_combined_bipartite) - top_nodes\n",
    "\n",
    "print(len(bottom_nodes))"
   ]
  },
  {
   "cell_type": "markdown",
   "metadata": {},
   "source": [
    "# Target Annotaions and Kd"
   ]
  },
  {
   "cell_type": "code",
   "execution_count": 15,
   "metadata": {},
   "outputs": [],
   "source": [
    "df_want_Kd = df_want[['SMILES','Target Sequence','Label']]"
   ]
  },
  {
   "cell_type": "code",
   "execution_count": 16,
   "metadata": {},
   "outputs": [
    {
     "name": "stderr",
     "output_type": "stream",
     "text": [
      "/miniconda/lib/python3.6/site-packages/ipykernel_launcher.py:6: SettingWithCopyWarning: \n",
      "A value is trying to be set on a copy of a slice from a DataFrame.\n",
      "Try using .loc[row_indexer,col_indexer] = value instead\n",
      "\n",
      "See the caveats in the documentation: https://pandas.pydata.org/pandas-docs/stable/user_guide/indexing.html#returning-a-view-versus-a-copy\n",
      "  \n",
      "100%|██████████| 1507/1507 [00:12<00:00, 119.56it/s]\n",
      "100%|██████████| 172/172 [00:00<00:00, 5645.89it/s]"
     ]
    },
    {
     "name": "stdout",
     "output_type": "stream",
     "text": [
      "Targets - Between k and <Kd>:  SpearmanrResult(correlation=-0.4673048395959652, pvalue=1.0298775028113185e-10)\n"
     ]
    },
    {
     "name": "stderr",
     "output_type": "stream",
     "text": [
      "\n"
     ]
    }
   ],
   "source": [
    "targets = list(set(df_want_Kd['Target Sequence']))\n",
    "target_annotations = []\n",
    "target_average_Kd = []\n",
    "\n",
    "#df_want_Kd = df_want_Kd[df_want_Kd['Label'] != 0]\n",
    "df_want_Kd['Label'] = list(df_want_Kd['Label'].tolist())\n",
    "\n",
    "for prot in tqdm(targets):\n",
    "    sub_df = df_want_Kd[df_want_Kd['Target Sequence'] == prot]\n",
    "    target_annotations.append(len(sub_df))\n",
    "    target_average_Kd.append(np.mean(sub_df['Label'].tolist()))\n",
    "    \n",
    "different_target_annotations = list(set(target_annotations))\n",
    "unique_Kd_targets = []\n",
    "unique_Kd_targets_std = []\n",
    "\n",
    "for unique_ann in tqdm(different_target_annotations):\n",
    "    \n",
    "    all_Kd_list = []    \n",
    "    all_indices = get_all_indices(target_annotations,unique_ann)\n",
    "    \n",
    "    for j in all_indices:\n",
    "        all_Kd_list.append(target_average_Kd[j])\n",
    "        \n",
    "    unique_Kd_targets.append(np.mean(all_Kd_list))\n",
    "    unique_Kd_targets_std.append(np.std(all_Kd_list))\n",
    "    \n",
    "print('Targets - Between k and <Kd>: ', stats.spearmanr(different_target_annotations,unique_Kd_targets))"
   ]
  },
  {
   "cell_type": "code",
   "execution_count": 17,
   "metadata": {},
   "outputs": [
    {
     "name": "stdout",
     "output_type": "stream",
     "text": [
      "Mean and standard deviation of log Kd:  7.104377155054556 3.333661394378017\n"
     ]
    },
    {
     "data": {
      "text/plain": [
       "Text(0, 0.5, 'Average $K_d$')"
      ]
     },
     "execution_count": 17,
     "metadata": {},
     "output_type": "execute_result"
    },
    {
     "data": {
      "image/png": "[encoded data removed]",
      "text/plain": [
       "<Figure size 640x480 with 1 Axes>"
      ]
     },
     "metadata": {
      "needs_background": "light"
     },
     "output_type": "display_data"
    }
   ],
   "source": [
    "mean_log_Kd = np.mean(np.log(remove_zeros_distribution(kd_list)))\n",
    "std_log_Kd = np.std(np.log(remove_zeros_distribution(kd_list)))\n",
    "\n",
    "print('Mean and standard deviation of log Kd: ', mean_log_Kd, std_log_Kd)\n",
    "\n",
    "figure(figsize=(8, 6), dpi=80)\n",
    "\n",
    "sns.scatterplot(different_target_annotations,unique_Kd_targets)\n",
    "plt.xscale('log')\n",
    "plt.yscale('log')\n",
    "plt.xlabel('Target Annotations')\n",
    "plt.ylabel(r'Average $K_d$')"
   ]
  },
  {
   "cell_type": "code",
   "execution_count": 18,
   "metadata": {},
   "outputs": [
    {
     "name": "stdout",
     "output_type": "stream",
     "text": [
      "Average annotations for targets:  33.63238221632382\n",
      "Target degree distribution - Power Law\n",
      "------------------------------------------------\n",
      "Calculating best minimal value for power law fit\n",
      "3.6092456314134846\n",
      "104.0\n"
     ]
    }
   ],
   "source": [
    "targets_degrees_list_plfit = [randomized_combined_bipartite.degree(node) for node in bottom_nodes]\n",
    "\n",
    "print('Average annotations for targets: ', np.mean(targets_degrees_list_plfit))\n",
    "\n",
    "print('Target degree distribution - Power Law')\n",
    "print('------------------------------------------------')\n",
    "\n",
    "results = powerlaw.Fit(targets_degrees_list_plfit)\n",
    "print(results.power_law.alpha)\n",
    "print(results.power_law.xmin)"
   ]
  },
  {
   "cell_type": "code",
   "execution_count": 19,
   "metadata": {},
   "outputs": [],
   "source": [
    "mean = [0, 0]\n",
    "cov = [[1, -0.47], [-0.47, 1]] # Negative correlation "
   ]
  },
  {
   "cell_type": "code",
   "execution_count": 20,
   "metadata": {
    "scrolled": true
   },
   "outputs": [],
   "source": [
    "x, y = np.random.multivariate_normal(mean, cov, size=100000).T"
   ]
  },
  {
   "cell_type": "code",
   "execution_count": 21,
   "metadata": {},
   "outputs": [],
   "source": [
    "from scipy.stats import norm  \n",
    "\n",
    "U1 = norm.cdf(x)\n",
    "U2 = norm.cdf(y)"
   ]
  },
  {
   "cell_type": "code",
   "execution_count": 22,
   "metadata": {},
   "outputs": [
    {
     "name": "stderr",
     "output_type": "stream",
     "text": [
      "100%|██████████| 100000/100000 [00:19<00:00, 5090.54it/s]\n"
     ]
    }
   ],
   "source": [
    "Kmin = 1\n",
    "gamma = results.power_law.alpha\n",
    "\n",
    "K_copula_list = []\n",
    "Kd_copula_list = []\n",
    "\n",
    "for i in tqdm(range(len(U1))):\n",
    "    K_copula_list.append(int(Kmin * ((1-U1[i]) ** (1/(1-gamma)))))\n",
    "    Kd_copula_list.append(np.exp(mean_log_Kd + std_log_Kd*norm.ppf(U2[i])))"
   ]
  },
  {
   "cell_type": "code",
   "execution_count": 23,
   "metadata": {},
   "outputs": [
    {
     "data": {
      "image/png": "[encoded data removed]",
      "text/plain": [
       "<Figure size 432x288 with 1 Axes>"
      ]
     },
     "metadata": {
      "needs_background": "light"
     },
     "output_type": "display_data"
    }
   ],
   "source": [
    "plt.scatter(K_copula_list,Kd_copula_list,alpha=0.2)\n",
    "plt.xscale('log')\n",
    "plt.yscale('log')"
   ]
  },
  {
   "cell_type": "code",
   "execution_count": 24,
   "metadata": {},
   "outputs": [
    {
     "data": {
      "text/plain": [
       "SpearmanrResult(correlation=-0.31447041000144627, pvalue=0.0)"
      ]
     },
     "execution_count": 24,
     "metadata": {},
     "output_type": "execute_result"
    }
   ],
   "source": [
    "stats.spearmanr(Kd_copula_list,K_copula_list)"
   ]
  },
  {
   "cell_type": "markdown",
   "metadata": {},
   "source": [
    "# Adding Randomized Kd Values"
   ]
  },
  {
   "cell_type": "code",
   "execution_count": 25,
   "metadata": {},
   "outputs": [
    {
     "name": "stdout",
     "output_type": "stream",
     "text": [
      "13392\n",
      "1507\n"
     ]
    }
   ],
   "source": [
    "top_nodes = list({n for n, d in randomized_combined_bipartite.nodes(data=True) if d[\"bipartite\"] == 0})\n",
    "\n",
    "print(len(top_nodes))\n",
    "\n",
    "bottom_nodes = list(set(randomized_combined_bipartite).difference(set(top_nodes)))\n",
    "\n",
    "print(len(bottom_nodes))"
   ]
  },
  {
   "cell_type": "code",
   "execution_count": 26,
   "metadata": {
    "scrolled": true
   },
   "outputs": [
    {
     "name": "stderr",
     "output_type": "stream",
     "text": [
      "  0%|          | 4/1507 [00:00<00:40, 36.94it/s]"
     ]
    },
    {
     "name": "stdout",
     "output_type": "stream",
     "text": [
      "Not close enough:  9\n",
      "Not close enough:  31\n"
     ]
    },
    {
     "name": "stderr",
     "output_type": "stream",
     "text": [
      "  1%|          | 12/1507 [00:00<00:44, 33.72it/s]"
     ]
    },
    {
     "name": "stdout",
     "output_type": "stream",
     "text": [
      "Not close enough:  39\n",
      "Not close enough:  39\n",
      "Not close enough:  38\n",
      "Not close enough:  25\n",
      "Not close enough:  29\n"
     ]
    },
    {
     "name": "stderr",
     "output_type": "stream",
     "text": [
      "  2%|▏         | 24/1507 [00:00<00:43, 34.11it/s]"
     ]
    },
    {
     "name": "stdout",
     "output_type": "stream",
     "text": [
      "Not close enough:  31\n",
      "Not close enough:  20\n",
      "Not close enough:  26\n",
      "Not close enough:  31\n"
     ]
    },
    {
     "name": "stderr",
     "output_type": "stream",
     "text": [
      "  2%|▏         | 32/1507 [00:00<00:41, 35.18it/s]"
     ]
    },
    {
     "name": "stdout",
     "output_type": "stream",
     "text": [
      "Not close enough:  56\n"
     ]
    },
    {
     "name": "stderr",
     "output_type": "stream",
     "text": [
      "  3%|▎         | 44/1507 [00:01<00:46, 31.51it/s]"
     ]
    },
    {
     "name": "stdout",
     "output_type": "stream",
     "text": [
      "Not close enough:  31\n",
      "Not close enough:  74\n"
     ]
    },
    {
     "name": "stderr",
     "output_type": "stream",
     "text": [
      "  3%|▎         | 48/1507 [00:01<00:44, 32.66it/s]"
     ]
    },
    {
     "name": "stdout",
     "output_type": "stream",
     "text": [
      "Not close enough:  27\n"
     ]
    },
    {
     "name": "stderr",
     "output_type": "stream",
     "text": [
      "  4%|▍         | 60/1507 [00:01<00:43, 33.16it/s]"
     ]
    },
    {
     "name": "stdout",
     "output_type": "stream",
     "text": [
      "Not close enough:  28\n"
     ]
    },
    {
     "name": "stderr",
     "output_type": "stream",
     "text": [
      "  5%|▍         | 72/1507 [00:02<00:46, 30.79it/s]"
     ]
    },
    {
     "name": "stdout",
     "output_type": "stream",
     "text": [
      "Not close enough:  12\n",
      "Not close enough:  41\n",
      "Not close enough:  34\n",
      "Not close enough:  26\n"
     ]
    },
    {
     "name": "stderr",
     "output_type": "stream",
     "text": [
      "  5%|▌         | 76/1507 [00:02<00:45, 31.72it/s]"
     ]
    },
    {
     "name": "stdout",
     "output_type": "stream",
     "text": [
      "Not close enough:  45\n",
      "Not close enough:  3\n",
      "Not close enough:  39\n",
      "Not close enough:  32\n"
     ]
    },
    {
     "name": "stderr",
     "output_type": "stream",
     "text": [
      "  6%|▌         | 84/1507 [00:02<00:48, 29.26it/s]"
     ]
    },
    {
     "name": "stdout",
     "output_type": "stream",
     "text": [
      "Not close enough:  29\n",
      "Not close enough:  290\n"
     ]
    },
    {
     "name": "stderr",
     "output_type": "stream",
     "text": [
      "  6%|▌         | 91/1507 [00:02<00:46, 30.69it/s]"
     ]
    },
    {
     "name": "stdout",
     "output_type": "stream",
     "text": [
      "Not close enough:  33\n",
      "Not close enough:  34\n",
      "Not close enough:  29\n"
     ]
    },
    {
     "name": "stderr",
     "output_type": "stream",
     "text": [
      "  7%|▋         | 101/1507 [00:03<00:49, 28.58it/s]"
     ]
    },
    {
     "name": "stdout",
     "output_type": "stream",
     "text": [
      "Not close enough:  24\n",
      "Not close enough:  42\n",
      "Not close enough:  8\n"
     ]
    },
    {
     "name": "stderr",
     "output_type": "stream",
     "text": [
      "  7%|▋         | 112/1507 [00:03<00:45, 30.73it/s]"
     ]
    },
    {
     "name": "stdout",
     "output_type": "stream",
     "text": [
      "Not close enough:  39\n",
      "Not close enough:  4\n"
     ]
    },
    {
     "name": "stderr",
     "output_type": "stream",
     "text": [
      "  9%|▉         | 132/1507 [00:04<00:45, 30.55it/s]"
     ]
    },
    {
     "name": "stdout",
     "output_type": "stream",
     "text": [
      "Not close enough:  33\n"
     ]
    },
    {
     "name": "stderr",
     "output_type": "stream",
     "text": [
      "  9%|▉         | 140/1507 [00:04<00:45, 29.82it/s]"
     ]
    },
    {
     "name": "stdout",
     "output_type": "stream",
     "text": [
      "Not close enough:  36\n",
      "Not close enough:  38\n",
      "Not close enough:  42\n"
     ]
    },
    {
     "name": "stderr",
     "output_type": "stream",
     "text": [
      " 10%|▉         | 148/1507 [00:04<00:44, 30.76it/s]"
     ]
    },
    {
     "name": "stdout",
     "output_type": "stream",
     "text": [
      "Not close enough:  30\n",
      "Not close enough:  37\n",
      "Not close enough:  34\n"
     ]
    },
    {
     "name": "stderr",
     "output_type": "stream",
     "text": [
      " 10%|█         | 152/1507 [00:04<00:44, 30.67it/s]"
     ]
    },
    {
     "name": "stdout",
     "output_type": "stream",
     "text": [
      "Not close enough:  34\n",
      "Not close enough:  27\n",
      "Not close enough:  82\n"
     ]
    },
    {
     "name": "stderr",
     "output_type": "stream",
     "text": [
      " 11%|█         | 160/1507 [00:05<00:42, 31.55it/s]"
     ]
    },
    {
     "name": "stdout",
     "output_type": "stream",
     "text": [
      "Not close enough:  39\n",
      "Not close enough:  35\n"
     ]
    },
    {
     "name": "stderr",
     "output_type": "stream",
     "text": [
      " 11%|█▏        | 171/1507 [00:05<00:48, 27.43it/s]"
     ]
    },
    {
     "name": "stdout",
     "output_type": "stream",
     "text": [
      "Not close enough:  30\n",
      "Not close enough:  28\n",
      "Not close enough:  37\n"
     ]
    },
    {
     "name": "stderr",
     "output_type": "stream",
     "text": [
      " 12%|█▏        | 179/1507 [00:05<00:44, 30.18it/s]"
     ]
    },
    {
     "name": "stdout",
     "output_type": "stream",
     "text": [
      "Not close enough:  27\n"
     ]
    },
    {
     "name": "stderr",
     "output_type": "stream",
     "text": [
      " 13%|█▎        | 191/1507 [00:06<00:42, 31.19it/s]"
     ]
    },
    {
     "name": "stdout",
     "output_type": "stream",
     "text": [
      "Not close enough:  46\n",
      "Not close enough:  78\n",
      "Not close enough:  37\n"
     ]
    },
    {
     "name": "stderr",
     "output_type": "stream",
     "text": [
      " 13%|█▎        | 202/1507 [00:06<00:45, 28.95it/s]"
     ]
    },
    {
     "name": "stdout",
     "output_type": "stream",
     "text": [
      "Not close enough:  30\n",
      "Not close enough:  32\n",
      "Not close enough:  13\n"
     ]
    },
    {
     "name": "stderr",
     "output_type": "stream",
     "text": [
      " 14%|█▍        | 210/1507 [00:06<00:41, 31.04it/s]"
     ]
    },
    {
     "name": "stdout",
     "output_type": "stream",
     "text": [
      "Not close enough:  29\n",
      "Not close enough:  60\n"
     ]
    },
    {
     "name": "stderr",
     "output_type": "stream",
     "text": [
      " 14%|█▍        | 218/1507 [00:07<00:42, 29.98it/s]"
     ]
    },
    {
     "name": "stdout",
     "output_type": "stream",
     "text": [
      "Not close enough:  25\n",
      "Not close enough:  6\n"
     ]
    },
    {
     "name": "stderr",
     "output_type": "stream",
     "text": [
      " 15%|█▌        | 230/1507 [00:07<00:40, 31.82it/s]"
     ]
    },
    {
     "name": "stdout",
     "output_type": "stream",
     "text": [
      "Not close enough:  5\n",
      "Not close enough:  7\n",
      "Not close enough:  31\n"
     ]
    },
    {
     "name": "stderr",
     "output_type": "stream",
     "text": [
      " 16%|█▌        | 238/1507 [00:07<00:38, 32.54it/s]"
     ]
    },
    {
     "name": "stdout",
     "output_type": "stream",
     "text": [
      "Not close enough:  37\n",
      "Not close enough:  36\n"
     ]
    },
    {
     "name": "stderr",
     "output_type": "stream",
     "text": [
      " 16%|█▋        | 246/1507 [00:07<00:37, 33.99it/s]"
     ]
    },
    {
     "name": "stdout",
     "output_type": "stream",
     "text": [
      "Not close enough:  11\n",
      "Not close enough:  47\n",
      "Not close enough:  9\n",
      "Not close enough:  31\n",
      "Not close enough:  38\n"
     ]
    },
    {
     "name": "stderr",
     "output_type": "stream",
     "text": [
      " 17%|█▋        | 254/1507 [00:08<00:41, 30.42it/s]"
     ]
    },
    {
     "name": "stdout",
     "output_type": "stream",
     "text": [
      "Not close enough:  35\n"
     ]
    },
    {
     "name": "stderr",
     "output_type": "stream",
     "text": [
      " 17%|█▋        | 262/1507 [00:08<00:42, 29.10it/s]"
     ]
    },
    {
     "name": "stdout",
     "output_type": "stream",
     "text": [
      "Not close enough:  25\n"
     ]
    },
    {
     "name": "stderr",
     "output_type": "stream",
     "text": [
      " 18%|█▊        | 274/1507 [00:08<00:40, 30.74it/s]"
     ]
    },
    {
     "name": "stdout",
     "output_type": "stream",
     "text": [
      "Not close enough:  29\n",
      "Not close enough:  26\n",
      "Not close enough:  54\n"
     ]
    },
    {
     "name": "stderr",
     "output_type": "stream",
     "text": [
      " 18%|█▊        | 278/1507 [00:09<00:44, 27.89it/s]"
     ]
    },
    {
     "name": "stdout",
     "output_type": "stream",
     "text": [
      "Not close enough:  5\n"
     ]
    },
    {
     "name": "stderr",
     "output_type": "stream",
     "text": [
      " 19%|█▉        | 288/1507 [00:09<00:41, 29.60it/s]"
     ]
    },
    {
     "name": "stdout",
     "output_type": "stream",
     "text": [
      "Not close enough:  48\n",
      "Not close enough:  74\n",
      "Not close enough:  35\n",
      "Not close enough:  35\n",
      "Not close enough:  26\n"
     ]
    },
    {
     "name": "stderr",
     "output_type": "stream",
     "text": [
      " 20%|█▉        | 299/1507 [00:09<00:46, 26.15it/s]"
     ]
    },
    {
     "name": "stdout",
     "output_type": "stream",
     "text": [
      "Not close enough:  90\n"
     ]
    },
    {
     "name": "stderr",
     "output_type": "stream",
     "text": [
      " 20%|██        | 305/1507 [00:10<00:44, 26.96it/s]"
     ]
    },
    {
     "name": "stdout",
     "output_type": "stream",
     "text": [
      "Not close enough:  80\n",
      "Not close enough:  10\n",
      "Not close enough:  86\n"
     ]
    },
    {
     "name": "stderr",
     "output_type": "stream",
     "text": [
      " 21%|██        | 317/1507 [00:10<00:36, 32.64it/s]"
     ]
    },
    {
     "name": "stdout",
     "output_type": "stream",
     "text": [
      "Not close enough:  32\n",
      "Not close enough:  84\n"
     ]
    },
    {
     "name": "stderr",
     "output_type": "stream",
     "text": [
      " 21%|██▏       | 321/1507 [00:10<00:37, 31.86it/s]"
     ]
    },
    {
     "name": "stdout",
     "output_type": "stream",
     "text": [
      "Not close enough:  39\n",
      "Not close enough:  33\n",
      "Not close enough:  10\n"
     ]
    },
    {
     "name": "stderr",
     "output_type": "stream",
     "text": [
      " 22%|██▏       | 329/1507 [00:10<00:40, 29.15it/s]"
     ]
    },
    {
     "name": "stdout",
     "output_type": "stream",
     "text": [
      "Not close enough:  29\n",
      "Not close enough:  23\n"
     ]
    },
    {
     "name": "stderr",
     "output_type": "stream",
     "text": [
      " 22%|██▏       | 335/1507 [00:10<00:40, 28.99it/s]"
     ]
    },
    {
     "name": "stdout",
     "output_type": "stream",
     "text": [
      "Not close enough:  3\n",
      "Not close enough:  9\n",
      "Not close enough:  29\n"
     ]
    },
    {
     "name": "stderr",
     "output_type": "stream",
     "text": [
      " 23%|██▎       | 347/1507 [00:11<00:37, 30.56it/s]"
     ]
    },
    {
     "name": "stdout",
     "output_type": "stream",
     "text": [
      "Not close enough:  24\n",
      "Not close enough:  37\n"
     ]
    },
    {
     "name": "stderr",
     "output_type": "stream",
     "text": [
      " 23%|██▎       | 354/1507 [00:11<00:40, 28.39it/s]"
     ]
    },
    {
     "name": "stdout",
     "output_type": "stream",
     "text": [
      "Not close enough:  73\n",
      "Not close enough:  10\n"
     ]
    },
    {
     "name": "stderr",
     "output_type": "stream",
     "text": [
      " 24%|██▍       | 360/1507 [00:11<00:40, 28.43it/s]"
     ]
    },
    {
     "name": "stdout",
     "output_type": "stream",
     "text": [
      "Not close enough:  12\n",
      "Not close enough:  48\n"
     ]
    },
    {
     "name": "stderr",
     "output_type": "stream",
     "text": [
      " 25%|██▍       | 372/1507 [00:12<00:34, 33.34it/s]"
     ]
    },
    {
     "name": "stdout",
     "output_type": "stream",
     "text": [
      "Not close enough:  9\n",
      "Not close enough:  35\n",
      "Not close enough:  42\n"
     ]
    },
    {
     "name": "stderr",
     "output_type": "stream",
     "text": [
      " 25%|██▌       | 380/1507 [00:12<00:35, 31.81it/s]"
     ]
    },
    {
     "name": "stdout",
     "output_type": "stream",
     "text": [
      "Not close enough:  144\n",
      "Not close enough:  29\n",
      "Not close enough:  38\n"
     ]
    },
    {
     "name": "stderr",
     "output_type": "stream",
     "text": [
      " 26%|██▌       | 388/1507 [00:12<00:33, 33.75it/s]"
     ]
    },
    {
     "name": "stdout",
     "output_type": "stream",
     "text": [
      "Not close enough:  23\n"
     ]
    },
    {
     "name": "stderr",
     "output_type": "stream",
     "text": [
      " 26%|██▋       | 396/1507 [00:12<00:34, 32.32it/s]"
     ]
    },
    {
     "name": "stdout",
     "output_type": "stream",
     "text": [
      "Not close enough:  29\n",
      "Not close enough:  34\n",
      "Not close enough:  28\n",
      "Not close enough:  5\n",
      "Not close enough:  9\n"
     ]
    },
    {
     "name": "stderr",
     "output_type": "stream",
     "text": [
      " 27%|██▋       | 404/1507 [00:13<00:33, 32.51it/s]"
     ]
    },
    {
     "name": "stdout",
     "output_type": "stream",
     "text": [
      "Not close enough:  6\n"
     ]
    },
    {
     "name": "stderr",
     "output_type": "stream",
     "text": [
      " 28%|██▊       | 420/1507 [00:13<00:31, 34.18it/s]"
     ]
    },
    {
     "name": "stdout",
     "output_type": "stream",
     "text": [
      "Not close enough:  35\n",
      "Not close enough:  26\n",
      "Not close enough:  8\n"
     ]
    },
    {
     "name": "stderr",
     "output_type": "stream",
     "text": [
      " 28%|██▊       | 428/1507 [00:13<00:35, 30.63it/s]"
     ]
    },
    {
     "name": "stdout",
     "output_type": "stream",
     "text": [
      "Not close enough:  8\n"
     ]
    },
    {
     "name": "stderr",
     "output_type": "stream",
     "text": [
      " 29%|██▉       | 436/1507 [00:14<00:33, 31.57it/s]"
     ]
    },
    {
     "name": "stdout",
     "output_type": "stream",
     "text": [
      "Not close enough:  30\n",
      "Not close enough:  28\n",
      "Not close enough:  46\n"
     ]
    },
    {
     "name": "stderr",
     "output_type": "stream",
     "text": [
      " 29%|██▉       | 440/1507 [00:14<00:35, 29.71it/s]"
     ]
    },
    {
     "name": "stdout",
     "output_type": "stream",
     "text": [
      "Not close enough:  25\n",
      "Not close enough:  21\n",
      "Not close enough:  27\n"
     ]
    },
    {
     "name": "stderr",
     "output_type": "stream",
     "text": [
      " 30%|██▉       | 448/1507 [00:14<00:34, 30.72it/s]"
     ]
    },
    {
     "name": "stdout",
     "output_type": "stream",
     "text": [
      "Not close enough:  32\n",
      "Not close enough:  32\n"
     ]
    },
    {
     "name": "stderr",
     "output_type": "stream",
     "text": [
      " 30%|███       | 459/1507 [00:14<00:36, 28.85it/s]"
     ]
    },
    {
     "name": "stdout",
     "output_type": "stream",
     "text": [
      "Not close enough:  32\n",
      "Not close enough:  93\n"
     ]
    },
    {
     "name": "stderr",
     "output_type": "stream",
     "text": [
      " 31%|███       | 467/1507 [00:15<00:34, 30.33it/s]"
     ]
    },
    {
     "name": "stdout",
     "output_type": "stream",
     "text": [
      "Not close enough:  8\n",
      "Not close enough:  30\n"
     ]
    },
    {
     "name": "stderr",
     "output_type": "stream",
     "text": [
      " 32%|███▏      | 479/1507 [00:15<00:37, 27.38it/s]"
     ]
    },
    {
     "name": "stdout",
     "output_type": "stream",
     "text": [
      "Not close enough:  33\n",
      "Not close enough:  38\n",
      "Not close enough:  74\n",
      "Not close enough:  29\n"
     ]
    },
    {
     "name": "stderr",
     "output_type": "stream",
     "text": [
      " 33%|███▎      | 491/1507 [00:16<00:36, 28.05it/s]"
     ]
    },
    {
     "name": "stdout",
     "output_type": "stream",
     "text": [
      "Not close enough:  48\n",
      "Not close enough:  3\n",
      "Not close enough:  3\n"
     ]
    },
    {
     "name": "stderr",
     "output_type": "stream",
     "text": [
      " 33%|███▎      | 498/1507 [00:16<00:35, 28.73it/s]"
     ]
    },
    {
     "name": "stdout",
     "output_type": "stream",
     "text": [
      "Not close enough:  40\n",
      "Not close enough:  30\n",
      "Not close enough:  29\n"
     ]
    },
    {
     "name": "stderr",
     "output_type": "stream",
     "text": [
      " 34%|███▍      | 514/1507 [00:16<00:30, 32.70it/s]"
     ]
    },
    {
     "name": "stdout",
     "output_type": "stream",
     "text": [
      "Not close enough:  71\n",
      "Not close enough:  32\n",
      "Not close enough:  36\n",
      "Not close enough:  34\n"
     ]
    },
    {
     "name": "stderr",
     "output_type": "stream",
     "text": [
      " 35%|███▍      | 522/1507 [00:17<00:33, 29.71it/s]"
     ]
    },
    {
     "name": "stdout",
     "output_type": "stream",
     "text": [
      "Not close enough:  35\n"
     ]
    },
    {
     "name": "stderr",
     "output_type": "stream",
     "text": [
      " 35%|███▌      | 530/1507 [00:17<00:30, 32.27it/s]"
     ]
    },
    {
     "name": "stdout",
     "output_type": "stream",
     "text": [
      "Not close enough:  31\n",
      "Not close enough:  49\n",
      "Not close enough:  51\n"
     ]
    },
    {
     "name": "stderr",
     "output_type": "stream",
     "text": [
      " 36%|███▌      | 538/1507 [00:17<00:32, 29.95it/s]"
     ]
    },
    {
     "name": "stdout",
     "output_type": "stream",
     "text": [
      "Not close enough:  31\n",
      "Not close enough:  3\n"
     ]
    },
    {
     "name": "stderr",
     "output_type": "stream",
     "text": [
      " 36%|███▌      | 546/1507 [00:17<00:30, 31.36it/s]"
     ]
    },
    {
     "name": "stdout",
     "output_type": "stream",
     "text": [
      "Not close enough:  3\n",
      "Not close enough:  36\n"
     ]
    },
    {
     "name": "stderr",
     "output_type": "stream",
     "text": [
      " 37%|███▋      | 558/1507 [00:18<00:28, 33.12it/s]"
     ]
    },
    {
     "name": "stdout",
     "output_type": "stream",
     "text": [
      "Not close enough:  11\n",
      "Not close enough:  30\n"
     ]
    },
    {
     "name": "stderr",
     "output_type": "stream",
     "text": [
      " 38%|███▊      | 570/1507 [00:18<00:28, 32.71it/s]"
     ]
    },
    {
     "name": "stdout",
     "output_type": "stream",
     "text": [
      "Not close enough:  17\n",
      "Not close enough:  29\n",
      "Not close enough:  23\n",
      "Not close enough:  3\n",
      "Not close enough:  37\n"
     ]
    },
    {
     "name": "stderr",
     "output_type": "stream",
     "text": [
      " 39%|███▊      | 582/1507 [00:18<00:28, 32.92it/s]"
     ]
    },
    {
     "name": "stdout",
     "output_type": "stream",
     "text": [
      "Not close enough:  38\n",
      "Not close enough:  40\n"
     ]
    },
    {
     "name": "stderr",
     "output_type": "stream",
     "text": [
      " 40%|███▉      | 598/1507 [00:19<00:27, 33.61it/s]"
     ]
    },
    {
     "name": "stdout",
     "output_type": "stream",
     "text": [
      "Not close enough:  46\n",
      "Not close enough:  38\n"
     ]
    },
    {
     "name": "stderr",
     "output_type": "stream",
     "text": [
      " 40%|████      | 610/1507 [00:19<00:28, 31.86it/s]"
     ]
    },
    {
     "name": "stdout",
     "output_type": "stream",
     "text": [
      "Not close enough:  35\n"
     ]
    },
    {
     "name": "stderr",
     "output_type": "stream",
     "text": [
      " 42%|████▏     | 626/1507 [00:20<00:29, 29.96it/s]"
     ]
    },
    {
     "name": "stdout",
     "output_type": "stream",
     "text": [
      "Not close enough:  29\n",
      "Not close enough:  52\n"
     ]
    },
    {
     "name": "stderr",
     "output_type": "stream",
     "text": [
      " 42%|████▏     | 630/1507 [00:20<00:29, 29.78it/s]"
     ]
    },
    {
     "name": "stdout",
     "output_type": "stream",
     "text": [
      "Not close enough:  36\n"
     ]
    },
    {
     "name": "stderr",
     "output_type": "stream",
     "text": [
      " 42%|████▏     | 638/1507 [00:20<00:28, 30.20it/s]"
     ]
    },
    {
     "name": "stdout",
     "output_type": "stream",
     "text": [
      "Not close enough:  26\n",
      "Not close enough:  9\n"
     ]
    },
    {
     "name": "stderr",
     "output_type": "stream",
     "text": [
      " 43%|████▎     | 654/1507 [00:21<00:28, 30.17it/s]"
     ]
    },
    {
     "name": "stdout",
     "output_type": "stream",
     "text": [
      "Not close enough:  21\n",
      "Not close enough:  33\n"
     ]
    },
    {
     "name": "stderr",
     "output_type": "stream",
     "text": [
      " 44%|████▍     | 662/1507 [00:21<00:25, 33.06it/s]"
     ]
    },
    {
     "name": "stdout",
     "output_type": "stream",
     "text": [
      "Not close enough:  8\n",
      "Not close enough:  3\n",
      "Not close enough:  30\n"
     ]
    },
    {
     "name": "stderr",
     "output_type": "stream",
     "text": [
      " 45%|████▍     | 674/1507 [00:21<00:24, 33.84it/s]"
     ]
    },
    {
     "name": "stdout",
     "output_type": "stream",
     "text": [
      "Not close enough:  32\n",
      "Not close enough:  4\n",
      "Not close enough:  32\n",
      "Not close enough:  6\n"
     ]
    },
    {
     "name": "stderr",
     "output_type": "stream",
     "text": [
      " 45%|████▌     | 682/1507 [00:22<00:25, 32.24it/s]"
     ]
    },
    {
     "name": "stdout",
     "output_type": "stream",
     "text": [
      "Not close enough:  108\n"
     ]
    },
    {
     "name": "stderr",
     "output_type": "stream",
     "text": [
      " 46%|████▌     | 690/1507 [00:22<00:26, 31.24it/s]"
     ]
    },
    {
     "name": "stdout",
     "output_type": "stream",
     "text": [
      "Not close enough:  26\n",
      "Not close enough:  30\n"
     ]
    },
    {
     "name": "stderr",
     "output_type": "stream",
     "text": [
      " 46%|████▋     | 698/1507 [00:22<00:25, 32.32it/s]"
     ]
    },
    {
     "name": "stdout",
     "output_type": "stream",
     "text": [
      "Not close enough:  25\n",
      "Not close enough:  28\n",
      "Not close enough:  34\n",
      "Not close enough:  60\n"
     ]
    },
    {
     "name": "stderr",
     "output_type": "stream",
     "text": [
      " 47%|████▋     | 710/1507 [00:23<00:24, 32.01it/s]"
     ]
    },
    {
     "name": "stdout",
     "output_type": "stream",
     "text": [
      "Not close enough:  28\n",
      "Not close enough:  9\n"
     ]
    },
    {
     "name": "stderr",
     "output_type": "stream",
     "text": [
      " 48%|████▊     | 718/1507 [00:23<00:25, 30.97it/s]"
     ]
    },
    {
     "name": "stdout",
     "output_type": "stream",
     "text": [
      "Not close enough:  37\n",
      "Not close enough:  6\n"
     ]
    },
    {
     "name": "stderr",
     "output_type": "stream",
     "text": [
      " 49%|████▊     | 733/1507 [00:23<00:23, 32.62it/s]"
     ]
    },
    {
     "name": "stdout",
     "output_type": "stream",
     "text": [
      "Not close enough:  31\n",
      "Not close enough:  36\n",
      "Not close enough:  26\n",
      "Not close enough:  8\n"
     ]
    },
    {
     "name": "stderr",
     "output_type": "stream",
     "text": [
      " 50%|████▉     | 753/1507 [00:24<00:21, 35.64it/s]"
     ]
    },
    {
     "name": "stdout",
     "output_type": "stream",
     "text": [
      "Not close enough:  33\n",
      "Not close enough:  200\n",
      "Not close enough:  35\n",
      "Not close enough:  29\n"
     ]
    },
    {
     "name": "stderr",
     "output_type": "stream",
     "text": [
      " 50%|█████     | 757/1507 [00:24<00:23, 32.34it/s]"
     ]
    },
    {
     "name": "stdout",
     "output_type": "stream",
     "text": [
      "Not close enough:  4\n",
      "Not close enough:  9\n",
      "Not close enough:  27\n",
      "Not close enough:  16\n"
     ]
    },
    {
     "name": "stderr",
     "output_type": "stream",
     "text": [
      " 51%|█████     | 769/1507 [00:24<00:22, 32.86it/s]"
     ]
    },
    {
     "name": "stdout",
     "output_type": "stream",
     "text": [
      "Not close enough:  34\n",
      "Not close enough:  10\n",
      "Not close enough:  4\n",
      "Not close enough:  36\n"
     ]
    },
    {
     "name": "stderr",
     "output_type": "stream",
     "text": [
      " 52%|█████▏    | 777/1507 [00:25<00:22, 32.52it/s]"
     ]
    },
    {
     "name": "stdout",
     "output_type": "stream",
     "text": [
      "Not close enough:  5\n",
      "Not close enough:  33\n",
      "Not close enough:  59\n",
      "Not close enough:  28\n"
     ]
    },
    {
     "name": "stderr",
     "output_type": "stream",
     "text": [
      " 52%|█████▏    | 785/1507 [00:25<00:23, 30.53it/s]"
     ]
    },
    {
     "name": "stdout",
     "output_type": "stream",
     "text": [
      "Not close enough:  7\n",
      "Not close enough:  39\n"
     ]
    },
    {
     "name": "stderr",
     "output_type": "stream",
     "text": [
      " 53%|█████▎    | 793/1507 [00:25<00:23, 30.43it/s]"
     ]
    },
    {
     "name": "stdout",
     "output_type": "stream",
     "text": [
      "Not close enough:  83\n",
      "Not close enough:  60\n"
     ]
    },
    {
     "name": "stderr",
     "output_type": "stream",
     "text": [
      " 54%|█████▎    | 809/1507 [00:26<00:22, 31.55it/s]"
     ]
    },
    {
     "name": "stdout",
     "output_type": "stream",
     "text": [
      "Not close enough:  3\n",
      "Not close enough:  31\n",
      "Not close enough:  37\n",
      "Not close enough:  89\n",
      "Not close enough:  41\n"
     ]
    },
    {
     "name": "stderr",
     "output_type": "stream",
     "text": [
      " 54%|█████▍    | 817/1507 [00:26<00:20, 33.60it/s]"
     ]
    },
    {
     "name": "stdout",
     "output_type": "stream",
     "text": [
      "Not close enough:  31\n",
      "Not close enough:  250\n",
      "Not close enough:  33\n"
     ]
    },
    {
     "name": "stderr",
     "output_type": "stream",
     "text": [
      " 55%|█████▍    | 825/1507 [00:26<00:22, 30.53it/s]"
     ]
    },
    {
     "name": "stdout",
     "output_type": "stream",
     "text": [
      "Not close enough:  28\n",
      "Not close enough:  24\n"
     ]
    },
    {
     "name": "stderr",
     "output_type": "stream",
     "text": [
      " 55%|█████▌    | 833/1507 [00:26<00:23, 28.46it/s]"
     ]
    },
    {
     "name": "stdout",
     "output_type": "stream",
     "text": [
      "Not close enough:  30\n",
      "Not close enough:  38\n"
     ]
    },
    {
     "name": "stderr",
     "output_type": "stream",
     "text": [
      " 56%|█████▌    | 841/1507 [00:27<00:22, 29.05it/s]"
     ]
    },
    {
     "name": "stdout",
     "output_type": "stream",
     "text": [
      "Not close enough:  22\n",
      "Not close enough:  44\n",
      "Not close enough:  30\n",
      "Not close enough:  30\n"
     ]
    },
    {
     "name": "stderr",
     "output_type": "stream",
     "text": [
      " 56%|█████▋    | 849/1507 [00:27<00:22, 29.55it/s]"
     ]
    },
    {
     "name": "stdout",
     "output_type": "stream",
     "text": [
      "Not close enough:  29\n",
      "Not close enough:  55\n",
      "Not close enough:  33\n"
     ]
    },
    {
     "name": "stderr",
     "output_type": "stream",
     "text": [
      " 57%|█████▋    | 860/1507 [00:27<00:19, 32.63it/s]"
     ]
    },
    {
     "name": "stdout",
     "output_type": "stream",
     "text": [
      "Not close enough:  46\n",
      "Not close enough:  27\n"
     ]
    },
    {
     "name": "stderr",
     "output_type": "stream",
     "text": [
      " 58%|█████▊    | 868/1507 [00:28<00:20, 30.94it/s]"
     ]
    },
    {
     "name": "stdout",
     "output_type": "stream",
     "text": [
      "Not close enough:  34\n"
     ]
    },
    {
     "name": "stderr",
     "output_type": "stream",
     "text": [
      " 58%|█████▊    | 880/1507 [00:28<00:19, 32.51it/s]"
     ]
    },
    {
     "name": "stdout",
     "output_type": "stream",
     "text": [
      "Not close enough:  3\n",
      "Not close enough:  18\n",
      "Not close enough:  37\n",
      "Not close enough:  9\n",
      "Not close enough:  6\n"
     ]
    },
    {
     "name": "stderr",
     "output_type": "stream",
     "text": [
      " 59%|█████▊    | 884/1507 [00:28<00:21, 29.05it/s]"
     ]
    },
    {
     "name": "stdout",
     "output_type": "stream",
     "text": [
      "Not close enough:  3\n"
     ]
    },
    {
     "name": "stderr",
     "output_type": "stream",
     "text": [
      " 59%|█████▉    | 892/1507 [00:28<00:21, 27.99it/s]"
     ]
    },
    {
     "name": "stdout",
     "output_type": "stream",
     "text": [
      "Not close enough:  71\n",
      "Not close enough:  31\n"
     ]
    },
    {
     "name": "stderr",
     "output_type": "stream",
     "text": [
      " 60%|█████▉    | 902/1507 [00:29<00:20, 28.96it/s]"
     ]
    },
    {
     "name": "stdout",
     "output_type": "stream",
     "text": [
      "Not close enough:  30\n",
      "Not close enough:  28\n",
      "Not close enough:  31\n"
     ]
    },
    {
     "name": "stderr",
     "output_type": "stream",
     "text": [
      " 60%|██████    | 908/1507 [00:29<00:22, 26.36it/s]"
     ]
    },
    {
     "name": "stdout",
     "output_type": "stream",
     "text": [
      "Not close enough:  3\n",
      "Not close enough:  35\n",
      "Not close enough:  38\n"
     ]
    },
    {
     "name": "stderr",
     "output_type": "stream",
     "text": [
      " 61%|██████    | 915/1507 [00:29<00:20, 28.73it/s]"
     ]
    },
    {
     "name": "stdout",
     "output_type": "stream",
     "text": [
      "Not close enough:  5\n",
      "Not close enough:  9\n",
      "Not close enough:  33\n",
      "Not close enough:  41\n",
      "Not close enough:  14\n"
     ]
    },
    {
     "name": "stderr",
     "output_type": "stream",
     "text": [
      " 61%|██████    | 922/1507 [00:29<00:19, 30.78it/s]"
     ]
    },
    {
     "name": "stdout",
     "output_type": "stream",
     "text": [
      "Not close enough:  9\n",
      "Not close enough:  30\n",
      "Not close enough:  34\n"
     ]
    },
    {
     "name": "stderr",
     "output_type": "stream",
     "text": [
      " 62%|██████▏   | 929/1507 [00:30<00:19, 29.22it/s]"
     ]
    },
    {
     "name": "stdout",
     "output_type": "stream",
     "text": [
      "Not close enough:  37\n"
     ]
    },
    {
     "name": "stderr",
     "output_type": "stream",
     "text": [
      " 62%|██████▏   | 936/1507 [00:30<00:18, 31.18it/s]"
     ]
    },
    {
     "name": "stdout",
     "output_type": "stream",
     "text": [
      "Not close enough:  4\n"
     ]
    },
    {
     "name": "stderr",
     "output_type": "stream",
     "text": [
      " 63%|██████▎   | 948/1507 [00:30<00:17, 32.19it/s]"
     ]
    },
    {
     "name": "stdout",
     "output_type": "stream",
     "text": [
      "Not close enough:  27\n"
     ]
    },
    {
     "name": "stderr",
     "output_type": "stream",
     "text": [
      " 63%|██████▎   | 952/1507 [00:30<00:16, 33.29it/s]"
     ]
    },
    {
     "name": "stdout",
     "output_type": "stream",
     "text": [
      "Not close enough:  90\n",
      "Not close enough:  8\n"
     ]
    },
    {
     "name": "stderr",
     "output_type": "stream",
     "text": [
      " 64%|██████▎   | 960/1507 [00:31<00:17, 31.31it/s]"
     ]
    },
    {
     "name": "stdout",
     "output_type": "stream",
     "text": [
      "Not close enough:  3\n",
      "Not close enough:  52\n",
      "Not close enough:  66\n"
     ]
    },
    {
     "name": "stderr",
     "output_type": "stream",
     "text": [
      " 64%|██████▍   | 972/1507 [00:31<00:17, 29.95it/s]"
     ]
    },
    {
     "name": "stdout",
     "output_type": "stream",
     "text": [
      "Not close enough:  4\n",
      "Not close enough:  9\n",
      "Not close enough:  6\n",
      "Not close enough:  7\n"
     ]
    },
    {
     "name": "stderr",
     "output_type": "stream",
     "text": [
      " 65%|██████▌   | 984/1507 [00:31<00:17, 30.38it/s]"
     ]
    },
    {
     "name": "stdout",
     "output_type": "stream",
     "text": [
      "Not close enough:  36\n",
      "Not close enough:  27\n",
      "Not close enough:  98\n"
     ]
    },
    {
     "name": "stderr",
     "output_type": "stream",
     "text": [
      " 66%|██████▌   | 992/1507 [00:32<00:16, 31.26it/s]"
     ]
    },
    {
     "name": "stdout",
     "output_type": "stream",
     "text": [
      "Not close enough:  34\n",
      "Not close enough:  24\n",
      "Not close enough:  24\n",
      "Not close enough:  43\n"
     ]
    },
    {
     "name": "stderr",
     "output_type": "stream",
     "text": [
      " 66%|██████▋   | 1000/1507 [00:32<00:15, 33.72it/s]"
     ]
    },
    {
     "name": "stdout",
     "output_type": "stream",
     "text": [
      "Not close enough:  26\n",
      "Not close enough:  53\n",
      "Not close enough:  34\n",
      "Not close enough:  32\n"
     ]
    },
    {
     "name": "stderr",
     "output_type": "stream",
     "text": [
      " 67%|██████▋   | 1008/1507 [00:32<00:14, 33.57it/s]"
     ]
    },
    {
     "name": "stdout",
     "output_type": "stream",
     "text": [
      "Not close enough:  35\n",
      "Not close enough:  26\n",
      "Not close enough:  31\n"
     ]
    },
    {
     "name": "stderr",
     "output_type": "stream",
     "text": [
      " 68%|██████▊   | 1024/1507 [00:33<00:14, 34.20it/s]"
     ]
    },
    {
     "name": "stdout",
     "output_type": "stream",
     "text": [
      "Not close enough:  36\n"
     ]
    },
    {
     "name": "stderr",
     "output_type": "stream",
     "text": [
      " 69%|██████▊   | 1036/1507 [00:33<00:15, 30.49it/s]"
     ]
    },
    {
     "name": "stdout",
     "output_type": "stream",
     "text": [
      "Not close enough:  19\n",
      "Not close enough:  30\n"
     ]
    },
    {
     "name": "stderr",
     "output_type": "stream",
     "text": [
      " 69%|██████▉   | 1044/1507 [00:33<00:14, 32.07it/s]"
     ]
    },
    {
     "name": "stdout",
     "output_type": "stream",
     "text": [
      "Not close enough:  33\n",
      "Not close enough:  22\n",
      "Not close enough:  33\n"
     ]
    },
    {
     "name": "stderr",
     "output_type": "stream",
     "text": [
      " 70%|███████   | 1060/1507 [00:34<00:13, 33.18it/s]"
     ]
    },
    {
     "name": "stdout",
     "output_type": "stream",
     "text": [
      "Not close enough:  34\n",
      "Not close enough:  72\n",
      "Not close enough:  31\n"
     ]
    },
    {
     "name": "stderr",
     "output_type": "stream",
     "text": [
      " 71%|███████   | 1068/1507 [00:34<00:13, 33.49it/s]"
     ]
    },
    {
     "name": "stdout",
     "output_type": "stream",
     "text": [
      "Not close enough:  28\n",
      "Not close enough:  153\n",
      "Not close enough:  3\n"
     ]
    },
    {
     "name": "stderr",
     "output_type": "stream",
     "text": [
      " 72%|███████▏  | 1080/1507 [00:34<00:13, 31.59it/s]"
     ]
    },
    {
     "name": "stdout",
     "output_type": "stream",
     "text": [
      "Not close enough:  28\n",
      "Not close enough:  31\n",
      "Not close enough:  64\n",
      "Not close enough:  34\n"
     ]
    },
    {
     "name": "stderr",
     "output_type": "stream",
     "text": [
      " 73%|███████▎  | 1098/1507 [00:35<00:14, 28.81it/s]"
     ]
    },
    {
     "name": "stdout",
     "output_type": "stream",
     "text": [
      "Not close enough:  38\n",
      "Not close enough:  31\n",
      "Not close enough:  31\n"
     ]
    },
    {
     "name": "stderr",
     "output_type": "stream",
     "text": [
      " 73%|███████▎  | 1107/1507 [00:35<00:13, 28.68it/s]"
     ]
    },
    {
     "name": "stdout",
     "output_type": "stream",
     "text": [
      "Not close enough:  49\n",
      "Not close enough:  12\n",
      "Not close enough:  9\n",
      "Not close enough:  35\n",
      "Not close enough:  107\n"
     ]
    },
    {
     "name": "stderr",
     "output_type": "stream",
     "text": [
      " 74%|███████▍  | 1121/1507 [00:36<00:11, 32.47it/s]"
     ]
    },
    {
     "name": "stdout",
     "output_type": "stream",
     "text": [
      "Not close enough:  10\n",
      "Not close enough:  27\n",
      "Not close enough:  29\n",
      "Not close enough:  7\n",
      "Not close enough:  35\n"
     ]
    },
    {
     "name": "stderr",
     "output_type": "stream",
     "text": [
      " 75%|███████▍  | 1129/1507 [00:36<00:10, 34.46it/s]"
     ]
    },
    {
     "name": "stdout",
     "output_type": "stream",
     "text": [
      "Not close enough:  96\n",
      "Not close enough:  3\n"
     ]
    },
    {
     "name": "stderr",
     "output_type": "stream",
     "text": [
      " 75%|███████▌  | 1137/1507 [00:36<00:10, 35.40it/s]"
     ]
    },
    {
     "name": "stdout",
     "output_type": "stream",
     "text": [
      "Not close enough:  84\n",
      "Not close enough:  38\n",
      "Not close enough:  27\n"
     ]
    },
    {
     "name": "stderr",
     "output_type": "stream",
     "text": [
      " 76%|███████▌  | 1149/1507 [00:37<00:12, 29.68it/s]"
     ]
    },
    {
     "name": "stdout",
     "output_type": "stream",
     "text": [
      "Not close enough:  33\n",
      "Not close enough:  10\n"
     ]
    },
    {
     "name": "stderr",
     "output_type": "stream",
     "text": [
      " 77%|███████▋  | 1157/1507 [00:37<00:11, 31.52it/s]"
     ]
    },
    {
     "name": "stdout",
     "output_type": "stream",
     "text": [
      "Not close enough:  31\n",
      "Not close enough:  37\n",
      "Not close enough:  29\n",
      "Not close enough:  27\n"
     ]
    },
    {
     "name": "stderr",
     "output_type": "stream",
     "text": [
      " 78%|███████▊  | 1169/1507 [00:37<00:10, 32.81it/s]"
     ]
    },
    {
     "name": "stdout",
     "output_type": "stream",
     "text": [
      "Not close enough:  31\n",
      "Not close enough:  25\n",
      "Not close enough:  25\n",
      "Not close enough:  40\n"
     ]
    },
    {
     "name": "stderr",
     "output_type": "stream",
     "text": [
      " 78%|███████▊  | 1181/1507 [00:38<00:09, 34.95it/s]"
     ]
    },
    {
     "name": "stdout",
     "output_type": "stream",
     "text": [
      "Not close enough:  62\n",
      "Not close enough:  36\n",
      "Not close enough:  34\n",
      "Not close enough:  3\n"
     ]
    },
    {
     "name": "stderr",
     "output_type": "stream",
     "text": [
      " 79%|███████▉  | 1189/1507 [00:38<00:09, 34.34it/s]"
     ]
    },
    {
     "name": "stdout",
     "output_type": "stream",
     "text": [
      "Not close enough:  7\n",
      "Not close enough:  3\n",
      "Not close enough:  52"
     ]
    },
    {
     "name": "stderr",
     "output_type": "stream",
     "text": [
      " 79%|███████▉  | 1193/1507 [00:38<00:09, 31.50it/s]"
     ]
    },
    {
     "name": "stdout",
     "output_type": "stream",
     "text": [
      "\n",
      "Not close enough:  45\n",
      "Not close enough:  48\n"
     ]
    },
    {
     "name": "stderr",
     "output_type": "stream",
     "text": [
      " 80%|████████  | 1211/1507 [00:39<00:10, 29.18it/s]"
     ]
    },
    {
     "name": "stdout",
     "output_type": "stream",
     "text": [
      "Not close enough:  4\n",
      "Not close enough:  30\n"
     ]
    },
    {
     "name": "stderr",
     "output_type": "stream",
     "text": [
      " 81%|████████▏ | 1225/1507 [00:39<00:09, 30.36it/s]"
     ]
    },
    {
     "name": "stdout",
     "output_type": "stream",
     "text": [
      "Not close enough:  55\n",
      "Not close enough:  37\n"
     ]
    },
    {
     "name": "stderr",
     "output_type": "stream",
     "text": [
      " 82%|████████▏ | 1233/1507 [00:39<00:09, 30.37it/s]"
     ]
    },
    {
     "name": "stdout",
     "output_type": "stream",
     "text": [
      "Not close enough:  32\n",
      "Not close enough:  3\n",
      "Not close enough:  32\n"
     ]
    },
    {
     "name": "stderr",
     "output_type": "stream",
     "text": [
      " 83%|████████▎ | 1249/1507 [00:40<00:08, 30.23it/s]"
     ]
    },
    {
     "name": "stdout",
     "output_type": "stream",
     "text": [
      "Not close enough:  29\n",
      "Not close enough:  10\n",
      "Not close enough:  7\n"
     ]
    },
    {
     "name": "stderr",
     "output_type": "stream",
     "text": [
      " 84%|████████▎ | 1261/1507 [00:40<00:08, 29.33it/s]"
     ]
    },
    {
     "name": "stdout",
     "output_type": "stream",
     "text": [
      "Not close enough:  60\n",
      "Not close enough:  27\n"
     ]
    },
    {
     "name": "stderr",
     "output_type": "stream",
     "text": [
      " 84%|████████▍ | 1269/1507 [00:41<00:07, 30.78it/s]"
     ]
    },
    {
     "name": "stdout",
     "output_type": "stream",
     "text": [
      "Not close enough:  77\n",
      "Not close enough:  36\n",
      "Not close enough:  29\n",
      "Not close enough:  12\n",
      "Not close enough:  10\n"
     ]
    },
    {
     "name": "stderr",
     "output_type": "stream",
     "text": [
      " 85%|████████▍ | 1277/1507 [00:41<00:06, 33.04it/s]"
     ]
    },
    {
     "name": "stdout",
     "output_type": "stream",
     "text": [
      "Not close enough:  7\n",
      "Not close enough:  32\n",
      "Not close enough:  9\n",
      "Not close enough:  35\n",
      "Not close enough:  31\n"
     ]
    },
    {
     "name": "stderr",
     "output_type": "stream",
     "text": [
      " 85%|████████▌ | 1285/1507 [00:41<00:07, 31.29it/s]"
     ]
    },
    {
     "name": "stdout",
     "output_type": "stream",
     "text": [
      "Not close enough:  32\n",
      "Not close enough:  10\n",
      "Not close enough:  13\n"
     ]
    },
    {
     "name": "stderr",
     "output_type": "stream",
     "text": [
      " 86%|████████▋ | 1301/1507 [00:42<00:06, 31.68it/s]"
     ]
    },
    {
     "name": "stdout",
     "output_type": "stream",
     "text": [
      "Not close enough:  27\n",
      "Not close enough:  44\n",
      "Not close enough:  32\n"
     ]
    },
    {
     "name": "stderr",
     "output_type": "stream",
     "text": [
      " 87%|████████▋ | 1317/1507 [00:42<00:06, 29.86it/s]"
     ]
    },
    {
     "name": "stdout",
     "output_type": "stream",
     "text": [
      "Not close enough:  33\n",
      "Not close enough:  24\n"
     ]
    },
    {
     "name": "stderr",
     "output_type": "stream",
     "text": [
      " 88%|████████▊ | 1328/1507 [00:42<00:05, 31.22it/s]"
     ]
    },
    {
     "name": "stdout",
     "output_type": "stream",
     "text": [
      "Not close enough:  26\n",
      "Not close enough:  45\n",
      "Not close enough:  34\n"
     ]
    },
    {
     "name": "stderr",
     "output_type": "stream",
     "text": [
      " 89%|████████▊ | 1336/1507 [00:43<00:05, 30.89it/s]"
     ]
    },
    {
     "name": "stdout",
     "output_type": "stream",
     "text": [
      "Not close enough:  26\n",
      "Not close enough:  37\n"
     ]
    },
    {
     "name": "stderr",
     "output_type": "stream",
     "text": [
      " 89%|████████▉ | 1344/1507 [00:43<00:05, 30.01it/s]"
     ]
    },
    {
     "name": "stdout",
     "output_type": "stream",
     "text": [
      "Not close enough:  3\n",
      "Not close enough:  37\n",
      "Not close enough:  87\n"
     ]
    },
    {
     "name": "stderr",
     "output_type": "stream",
     "text": [
      " 90%|█████████ | 1358/1507 [00:43<00:05, 29.17it/s]"
     ]
    },
    {
     "name": "stdout",
     "output_type": "stream",
     "text": [
      "Not close enough:  13\n",
      "Not close enough:  31\n",
      "Not close enough:  11\n",
      "Not close enough:  40\n"
     ]
    },
    {
     "name": "stderr",
     "output_type": "stream",
     "text": [
      " 91%|█████████ | 1369/1507 [00:44<00:04, 31.07it/s]"
     ]
    },
    {
     "name": "stdout",
     "output_type": "stream",
     "text": [
      "Not close enough:  36\n",
      "Not close enough:  30\n",
      "Not close enough:  43\n",
      "Not close enough:  5\n",
      "Not close enough:  54\n"
     ]
    },
    {
     "name": "stderr",
     "output_type": "stream",
     "text": [
      " 91%|█████████▏| 1377/1507 [00:44<00:04, 31.01it/s]"
     ]
    },
    {
     "name": "stdout",
     "output_type": "stream",
     "text": [
      "Not close enough:  26\n",
      "Not close enough:  26\n",
      "Not close enough:  4\n",
      "Not close enough:  32\n"
     ]
    },
    {
     "name": "stderr",
     "output_type": "stream",
     "text": [
      " 92%|█████████▏| 1385/1507 [00:44<00:03, 30.74it/s]"
     ]
    },
    {
     "name": "stdout",
     "output_type": "stream",
     "text": [
      "Not close enough:  39\n",
      "Not close enough:  52\n",
      "Not close enough:  30\n",
      "Not close enough:  36\n",
      "Not close enough:  40\n"
     ]
    },
    {
     "name": "stderr",
     "output_type": "stream",
     "text": [
      " 92%|█████████▏| 1389/1507 [00:45<00:04, 29.17it/s]"
     ]
    },
    {
     "name": "stdout",
     "output_type": "stream",
     "text": [
      "Not close enough:  36\n",
      "Not close enough:  87\n"
     ]
    },
    {
     "name": "stderr",
     "output_type": "stream",
     "text": [
      " 93%|█████████▎| 1401/1507 [00:45<00:03, 32.28it/s]"
     ]
    },
    {
     "name": "stdout",
     "output_type": "stream",
     "text": [
      "Not close enough:  17\n",
      "Not close enough:  27\n",
      "Not close enough:  6\n",
      "Not close enough:  31\n",
      "Not close enough:  46\n",
      "Not close enough:  56\n"
     ]
    },
    {
     "name": "stderr",
     "output_type": "stream",
     "text": [
      " 93%|█████████▎| 1409/1507 [00:45<00:02, 34.19it/s]"
     ]
    },
    {
     "name": "stdout",
     "output_type": "stream",
     "text": [
      "Not close enough:  35\n",
      "Not close enough:  97\n"
     ]
    },
    {
     "name": "stderr",
     "output_type": "stream",
     "text": [
      " 94%|█████████▍| 1424/1507 [00:46<00:02, 29.06it/s]"
     ]
    },
    {
     "name": "stdout",
     "output_type": "stream",
     "text": [
      "Not close enough:  12\n",
      "Not close enough:  44\n",
      "Not close enough:  25\n"
     ]
    },
    {
     "name": "stderr",
     "output_type": "stream",
     "text": [
      " 95%|█████████▌| 1432/1507 [00:46<00:02, 32.38it/s]"
     ]
    },
    {
     "name": "stdout",
     "output_type": "stream",
     "text": [
      "Not close enough:  39\n",
      "Not close enough:  35\n",
      "Not close enough:  20\n",
      "Not close enough:  39\n"
     ]
    },
    {
     "name": "stderr",
     "output_type": "stream",
     "text": [
      " 96%|█████████▌| 1440/1507 [00:46<00:02, 28.93it/s]"
     ]
    },
    {
     "name": "stdout",
     "output_type": "stream",
     "text": [
      "Not close enough:  31\n",
      "Not close enough:  24\n",
      "Not close enough:  28\n",
      "Not close enough:  30\n"
     ]
    },
    {
     "name": "stderr",
     "output_type": "stream",
     "text": [
      " 97%|█████████▋| 1462/1507 [00:47<00:01, 29.44it/s]"
     ]
    },
    {
     "name": "stdout",
     "output_type": "stream",
     "text": [
      "Not close enough:  29\n"
     ]
    },
    {
     "name": "stderr",
     "output_type": "stream",
     "text": [
      " 98%|█████████▊| 1471/1507 [00:47<00:01, 29.07it/s]"
     ]
    },
    {
     "name": "stdout",
     "output_type": "stream",
     "text": [
      "Not close enough:  4\n",
      "Not close enough:  8\n"
     ]
    },
    {
     "name": "stderr",
     "output_type": "stream",
     "text": [
      " 99%|█████████▊| 1486/1507 [00:48<00:00, 33.82it/s]"
     ]
    },
    {
     "name": "stdout",
     "output_type": "stream",
     "text": [
      "Not close enough:  34\n",
      "Not close enough:  4\n",
      "Not close enough:  25\n",
      "Not close enough:  31\n"
     ]
    },
    {
     "name": "stderr",
     "output_type": "stream",
     "text": [
      "100%|█████████▉| 1502/1507 [00:48<00:00, 31.96it/s]"
     ]
    },
    {
     "name": "stdout",
     "output_type": "stream",
     "text": [
      "Not close enough:  50\n",
      "Not close enough:  37\n",
      "Not close enough:  37\n",
      "Not close enough:  35\n",
      "Not close enough:  33\n"
     ]
    },
    {
     "name": "stderr",
     "output_type": "stream",
     "text": [
      "100%|██████████| 1507/1507 [00:48<00:00, 30.85it/s]\n"
     ]
    }
   ],
   "source": [
    "target_random_Kd_dict = dict()\n",
    "\n",
    "for node in tqdm(bottom_nodes):\n",
    "    degree_node = randomized_combined_bipartite.degree(node)\n",
    "    #closest_index = closest(K_copula_list,degree_node)\n",
    "    closest_indices = closest(K_copula_list,degree_node)\n",
    "    Kd_all_list = []\n",
    "    for index in closest_indices:\n",
    "        Kd_all_list.append(Kd_copula_list[index])\n",
    "    target_random_Kd_dict[node] = Kd_all_list"
   ]
  },
  {
   "cell_type": "code",
   "execution_count": 27,
   "metadata": {},
   "outputs": [
    {
     "data": {
      "text/plain": [
       "Text(0, 0.5, 'Kd Chosen')"
      ]
     },
     "execution_count": 27,
     "metadata": {},
     "output_type": "execute_result"
    },
    {
     "data": {
      "image/png": "[encoded data removed]",
      "text/plain": [
       "<Figure size 432x288 with 1 Axes>"
      ]
     },
     "metadata": {
      "needs_background": "light"
     },
     "output_type": "display_data"
    }
   ],
   "source": [
    "plt.scatter([randomized_combined_bipartite.degree(node) for node in bottom_nodes],[np.random.choice(target_random_Kd_dict[node]) for node in bottom_nodes])\n",
    "plt.xscale('log')\n",
    "plt.yscale('log')\n",
    "plt.xlabel('Target degree')\n",
    "plt.ylabel('Kd Chosen')"
   ]
  },
  {
   "cell_type": "code",
   "execution_count": 28,
   "metadata": {},
   "outputs": [
    {
     "data": {
      "text/plain": [
       "SpearmanrResult(correlation=-0.7762602590763291, pvalue=7.216462974206976e-304)"
      ]
     },
     "execution_count": 28,
     "metadata": {},
     "output_type": "execute_result"
    }
   ],
   "source": [
    "stats.spearmanr([randomized_combined_bipartite.degree(node) for node in bottom_nodes],[np.random.choice(target_random_Kd_dict[node]) for node in bottom_nodes])"
   ]
  },
  {
   "cell_type": "code",
   "execution_count": 29,
   "metadata": {
    "scrolled": true
   },
   "outputs": [
    {
     "name": "stderr",
     "output_type": "stream",
     "text": [
      "100%|██████████| 50684/50684 [00:06<00:00, 7858.86it/s]\n"
     ]
    }
   ],
   "source": [
    "smiles_list = []\n",
    "targets_list = []\n",
    "Kd_for_edges = []\n",
    "\n",
    "for edge in tqdm(randomized_combined_bipartite.edges()):\n",
    "    #if 13702 in edge:\n",
    "    #    print(edge)\n",
    "    smiles_list.append(ligands[edge[0]])\n",
    "    targets_list.append(targets[edge[1] - len(ligands)])\n",
    "    mu = np.random.choice(target_random_Kd_dict[edge[1]])\n",
    "    if randomized_combined_bipartite.degree(edge[1]) in different_target_annotations:\n",
    "        sigma = unique_Kd_targets_std[different_target_annotations.index(randomized_combined_bipartite.degree(edge[1]))]\n",
    "    else:\n",
    "        sigma = 0\n",
    "    Kd_for_edges.append(np.random.normal(mu, sigma, 1))"
   ]
  },
  {
   "cell_type": "markdown",
   "metadata": {},
   "source": [
    "# Making DataFrame"
   ]
  },
  {
   "cell_type": "code",
   "execution_count": 30,
   "metadata": {},
   "outputs": [],
   "source": [
    "randomized_dataframe = pd.DataFrame()\n",
    "\n",
    "randomized_dataframe['SMILES'] = smiles_list\n",
    "randomized_dataframe['Target Sequence'] = targets_list\n",
    "randomized_dataframe['Label'] = Kd_for_edges"
   ]
  },
  {
   "cell_type": "code",
   "execution_count": 31,
   "metadata": {},
   "outputs": [
    {
     "data": {
      "text/html": [
       "<div>\n",
       "<style scoped>\n",
       "    .dataframe tbody tr th:only-of-type {\n",
       "        vertical-align: middle;\n",
       "    }\n",
       "\n",
       "    .dataframe tbody tr th {\n",
       "        vertical-align: top;\n",
       "    }\n",
       "\n",
       "    .dataframe thead th {\n",
       "        text-align: right;\n",
       "    }\n",
       "</style>\n",
       "<table border=\"1\" class=\"dataframe\">\n",
       "  <thead>\n",
       "    <tr style=\"text-align: right;\">\n",
       "      <th></th>\n",
       "      <th>SMILES</th>\n",
       "      <th>Target Sequence</th>\n",
       "      <th>Label</th>\n",
       "    </tr>\n",
       "  </thead>\n",
       "  <tbody>\n",
       "    <tr>\n",
       "      <th>0</th>\n",
       "      <td>CCc1c(C)[nH]c2CCC(CCN3CCN(CC3)c3ccccc3OC)C(=O)c12</td>\n",
       "      <td>MAPVYEGMASHVQVFSPHTLQSSAFCSVKKLKIEPSSNWDMTGYGS...</td>\n",
       "      <td>[21208.471804155743]</td>\n",
       "    </tr>\n",
       "    <tr>\n",
       "      <th>1</th>\n",
       "      <td>CC1=C(\\C=C\\C#Cc2ccc(cc2)C(O)=O)C(C)(C)CCC1</td>\n",
       "      <td>MLEICLKLVGCKSKKGLSSSSSCYLEEALQRPVASDFEPQGLSEAA...</td>\n",
       "      <td>[28.837178744427312]</td>\n",
       "    </tr>\n",
       "    <tr>\n",
       "      <th>2</th>\n",
       "      <td>CC1=C(\\C=C\\C#Cc2ccc(cc2)C(O)=O)C(C)(C)CCC1</td>\n",
       "      <td>MASGSCQGCEEDEETLKKLIVRLNNVQEGKQIETLVQILEDLLVFT...</td>\n",
       "      <td>[0.09534961989476995]</td>\n",
       "    </tr>\n",
       "    <tr>\n",
       "      <th>3</th>\n",
       "      <td>Cc1cnc(Cl)nc1-c1ccc(cc1)N(Cc1ccccc1)C(=O)c1ccc...</td>\n",
       "      <td>MRPSGTAGAALLALLAALCPASRALEEKKVCQGTSNKLTQLGTFED...</td>\n",
       "      <td>[28.837178744427312]</td>\n",
       "    </tr>\n",
       "    <tr>\n",
       "      <th>4</th>\n",
       "      <td>Cc1cnc(Cl)nc1-c1ccc(cc1)N(Cc1ccccc1)C(=O)c1ccc...</td>\n",
       "      <td>MESLFPAPFWEVLYGSHLQGNLSLLSPNHSGLPPHLLLNASHSAFL...</td>\n",
       "      <td>[-185009.6096576584]</td>\n",
       "    </tr>\n",
       "    <tr>\n",
       "      <th>...</th>\n",
       "      <td>...</td>\n",
       "      <td>...</td>\n",
       "      <td>...</td>\n",
       "    </tr>\n",
       "    <tr>\n",
       "      <th>50679</th>\n",
       "      <td>Oc1n[nH]c2cc(Cl)ccc12</td>\n",
       "      <td>MVSSQKLEKPIEMGSSEPLPIADGDRRRKKKRRGRATDSLPGKFED...</td>\n",
       "      <td>[0.09534961989476995]</td>\n",
       "    </tr>\n",
       "    <tr>\n",
       "      <th>50680</th>\n",
       "      <td>OS(=O)(=O)Oc1c[nH]c2ccccc12</td>\n",
       "      <td>MSEESDMDKAIKETSILEEYSINWTQKLGAGISGPVRVCVKKSTQE...</td>\n",
       "      <td>[6231.643394246226]</td>\n",
       "    </tr>\n",
       "    <tr>\n",
       "      <th>50681</th>\n",
       "      <td>Oc1cc(O)c2c(c1)oc(cc2=O)-c1ccc(I)cc1</td>\n",
       "      <td>MEPAAGFLSPRPFQRAAAAPAPPAGPGPPPSALRGPELEMLAGLPT...</td>\n",
       "      <td>[0.09534961989476995]</td>\n",
       "    </tr>\n",
       "    <tr>\n",
       "      <th>50682</th>\n",
       "      <td>Nc1ccccc1C(=N)CN1CCCC2(CCN(CC2)c2cnc3ccccc3n2)...</td>\n",
       "      <td>MVGVGGGDVEDVTPRPGGCQISGRGARGCNGIPGAAAWEAALPRRR...</td>\n",
       "      <td>[0.09534961989476995]</td>\n",
       "    </tr>\n",
       "    <tr>\n",
       "      <th>50683</th>\n",
       "      <td>Nc1ccccc1C(=N)CN1CCCC2(CCN(CC2)c2cnc3ccccc3n2)...</td>\n",
       "      <td>MRPSGTAGAALLALLAALCPASRALEEKKVCQGTSNKLTQLGTFED...</td>\n",
       "      <td>[28.837178744427312]</td>\n",
       "    </tr>\n",
       "  </tbody>\n",
       "</table>\n",
       "<p>50684 rows × 3 columns</p>\n",
       "</div>"
      ],
      "text/plain": [
       "                                                  SMILES  \\\n",
       "0      CCc1c(C)[nH]c2CCC(CCN3CCN(CC3)c3ccccc3OC)C(=O)c12   \n",
       "1             CC1=C(\\C=C\\C#Cc2ccc(cc2)C(O)=O)C(C)(C)CCC1   \n",
       "2             CC1=C(\\C=C\\C#Cc2ccc(cc2)C(O)=O)C(C)(C)CCC1   \n",
       "3      Cc1cnc(Cl)nc1-c1ccc(cc1)N(Cc1ccccc1)C(=O)c1ccc...   \n",
       "4      Cc1cnc(Cl)nc1-c1ccc(cc1)N(Cc1ccccc1)C(=O)c1ccc...   \n",
       "...                                                  ...   \n",
       "50679                              Oc1n[nH]c2cc(Cl)ccc12   \n",
       "50680                        OS(=O)(=O)Oc1c[nH]c2ccccc12   \n",
       "50681               Oc1cc(O)c2c(c1)oc(cc2=O)-c1ccc(I)cc1   \n",
       "50682  Nc1ccccc1C(=N)CN1CCCC2(CCN(CC2)c2cnc3ccccc3n2)...   \n",
       "50683  Nc1ccccc1C(=N)CN1CCCC2(CCN(CC2)c2cnc3ccccc3n2)...   \n",
       "\n",
       "                                         Target Sequence  \\\n",
       "0      MAPVYEGMASHVQVFSPHTLQSSAFCSVKKLKIEPSSNWDMTGYGS...   \n",
       "1      MLEICLKLVGCKSKKGLSSSSSCYLEEALQRPVASDFEPQGLSEAA...   \n",
       "2      MASGSCQGCEEDEETLKKLIVRLNNVQEGKQIETLVQILEDLLVFT...   \n",
       "3      MRPSGTAGAALLALLAALCPASRALEEKKVCQGTSNKLTQLGTFED...   \n",
       "4      MESLFPAPFWEVLYGSHLQGNLSLLSPNHSGLPPHLLLNASHSAFL...   \n",
       "...                                                  ...   \n",
       "50679  MVSSQKLEKPIEMGSSEPLPIADGDRRRKKKRRGRATDSLPGKFED...   \n",
       "50680  MSEESDMDKAIKETSILEEYSINWTQKLGAGISGPVRVCVKKSTQE...   \n",
       "50681  MEPAAGFLSPRPFQRAAAAPAPPAGPGPPPSALRGPELEMLAGLPT...   \n",
       "50682  MVGVGGGDVEDVTPRPGGCQISGRGARGCNGIPGAAAWEAALPRRR...   \n",
       "50683  MRPSGTAGAALLALLAALCPASRALEEKKVCQGTSNKLTQLGTFED...   \n",
       "\n",
       "                       Label  \n",
       "0       [21208.471804155743]  \n",
       "1       [28.837178744427312]  \n",
       "2      [0.09534961989476995]  \n",
       "3       [28.837178744427312]  \n",
       "4       [-185009.6096576584]  \n",
       "...                      ...  \n",
       "50679  [0.09534961989476995]  \n",
       "50680    [6231.643394246226]  \n",
       "50681  [0.09534961989476995]  \n",
       "50682  [0.09534961989476995]  \n",
       "50683   [28.837178744427312]  \n",
       "\n",
       "[50684 rows x 3 columns]"
      ]
     },
     "execution_count": 31,
     "metadata": {},
     "output_type": "execute_result"
    }
   ],
   "source": [
    "randomized_dataframe"
   ]
  },
  {
   "cell_type": "code",
   "execution_count": 32,
   "metadata": {},
   "outputs": [
    {
     "name": "stderr",
     "output_type": "stream",
     "text": [
      "100%|██████████| 50684/50684 [00:00<00:00, 372122.19it/s]"
     ]
    },
    {
     "name": "stdout",
     "output_type": "stream",
     "text": [
      "Threshold:  30\n"
     ]
    },
    {
     "name": "stderr",
     "output_type": "stream",
     "text": [
      "\n"
     ]
    }
   ],
   "source": [
    "threshold = 30 ##np.exp(np.mean(np.log(Kd_for_edges)))\n",
    "print('Threshold: ', threshold)\n",
    "\n",
    "binary_labels = [1 if x < threshold else 0 for x in tqdm(randomized_dataframe['Label'].tolist())]\n",
    "\n",
    "randomized_dataframe['Label'] = binary_labels"
   ]
  },
  {
   "cell_type": "code",
   "execution_count": 33,
   "metadata": {},
   "outputs": [
    {
     "data": {
      "text/html": [
       "<div>\n",
       "<style scoped>\n",
       "    .dataframe tbody tr th:only-of-type {\n",
       "        vertical-align: middle;\n",
       "    }\n",
       "\n",
       "    .dataframe tbody tr th {\n",
       "        vertical-align: top;\n",
       "    }\n",
       "\n",
       "    .dataframe thead th {\n",
       "        text-align: right;\n",
       "    }\n",
       "</style>\n",
       "<table border=\"1\" class=\"dataframe\">\n",
       "  <thead>\n",
       "    <tr style=\"text-align: right;\">\n",
       "      <th></th>\n",
       "      <th>SMILES</th>\n",
       "      <th>Target Sequence</th>\n",
       "      <th>Label</th>\n",
       "    </tr>\n",
       "  </thead>\n",
       "  <tbody>\n",
       "    <tr>\n",
       "      <th>0</th>\n",
       "      <td>CCc1c(C)[nH]c2CCC(CCN3CCN(CC3)c3ccccc3OC)C(=O)c12</td>\n",
       "      <td>MAPVYEGMASHVQVFSPHTLQSSAFCSVKKLKIEPSSNWDMTGYGS...</td>\n",
       "      <td>0</td>\n",
       "    </tr>\n",
       "    <tr>\n",
       "      <th>1</th>\n",
       "      <td>CC1=C(\\C=C\\C#Cc2ccc(cc2)C(O)=O)C(C)(C)CCC1</td>\n",
       "      <td>MLEICLKLVGCKSKKGLSSSSSCYLEEALQRPVASDFEPQGLSEAA...</td>\n",
       "      <td>1</td>\n",
       "    </tr>\n",
       "    <tr>\n",
       "      <th>2</th>\n",
       "      <td>CC1=C(\\C=C\\C#Cc2ccc(cc2)C(O)=O)C(C)(C)CCC1</td>\n",
       "      <td>MASGSCQGCEEDEETLKKLIVRLNNVQEGKQIETLVQILEDLLVFT...</td>\n",
       "      <td>1</td>\n",
       "    </tr>\n",
       "    <tr>\n",
       "      <th>3</th>\n",
       "      <td>Cc1cnc(Cl)nc1-c1ccc(cc1)N(Cc1ccccc1)C(=O)c1ccc...</td>\n",
       "      <td>MRPSGTAGAALLALLAALCPASRALEEKKVCQGTSNKLTQLGTFED...</td>\n",
       "      <td>1</td>\n",
       "    </tr>\n",
       "    <tr>\n",
       "      <th>4</th>\n",
       "      <td>Cc1cnc(Cl)nc1-c1ccc(cc1)N(Cc1ccccc1)C(=O)c1ccc...</td>\n",
       "      <td>MESLFPAPFWEVLYGSHLQGNLSLLSPNHSGLPPHLLLNASHSAFL...</td>\n",
       "      <td>1</td>\n",
       "    </tr>\n",
       "    <tr>\n",
       "      <th>...</th>\n",
       "      <td>...</td>\n",
       "      <td>...</td>\n",
       "      <td>...</td>\n",
       "    </tr>\n",
       "    <tr>\n",
       "      <th>50679</th>\n",
       "      <td>Oc1n[nH]c2cc(Cl)ccc12</td>\n",
       "      <td>MVSSQKLEKPIEMGSSEPLPIADGDRRRKKKRRGRATDSLPGKFED...</td>\n",
       "      <td>1</td>\n",
       "    </tr>\n",
       "    <tr>\n",
       "      <th>50680</th>\n",
       "      <td>OS(=O)(=O)Oc1c[nH]c2ccccc12</td>\n",
       "      <td>MSEESDMDKAIKETSILEEYSINWTQKLGAGISGPVRVCVKKSTQE...</td>\n",
       "      <td>0</td>\n",
       "    </tr>\n",
       "    <tr>\n",
       "      <th>50681</th>\n",
       "      <td>Oc1cc(O)c2c(c1)oc(cc2=O)-c1ccc(I)cc1</td>\n",
       "      <td>MEPAAGFLSPRPFQRAAAAPAPPAGPGPPPSALRGPELEMLAGLPT...</td>\n",
       "      <td>1</td>\n",
       "    </tr>\n",
       "    <tr>\n",
       "      <th>50682</th>\n",
       "      <td>Nc1ccccc1C(=N)CN1CCCC2(CCN(CC2)c2cnc3ccccc3n2)...</td>\n",
       "      <td>MVGVGGGDVEDVTPRPGGCQISGRGARGCNGIPGAAAWEAALPRRR...</td>\n",
       "      <td>1</td>\n",
       "    </tr>\n",
       "    <tr>\n",
       "      <th>50683</th>\n",
       "      <td>Nc1ccccc1C(=N)CN1CCCC2(CCN(CC2)c2cnc3ccccc3n2)...</td>\n",
       "      <td>MRPSGTAGAALLALLAALCPASRALEEKKVCQGTSNKLTQLGTFED...</td>\n",
       "      <td>1</td>\n",
       "    </tr>\n",
       "  </tbody>\n",
       "</table>\n",
       "<p>50684 rows × 3 columns</p>\n",
       "</div>"
      ],
      "text/plain": [
       "                                                  SMILES  \\\n",
       "0      CCc1c(C)[nH]c2CCC(CCN3CCN(CC3)c3ccccc3OC)C(=O)c12   \n",
       "1             CC1=C(\\C=C\\C#Cc2ccc(cc2)C(O)=O)C(C)(C)CCC1   \n",
       "2             CC1=C(\\C=C\\C#Cc2ccc(cc2)C(O)=O)C(C)(C)CCC1   \n",
       "3      Cc1cnc(Cl)nc1-c1ccc(cc1)N(Cc1ccccc1)C(=O)c1ccc...   \n",
       "4      Cc1cnc(Cl)nc1-c1ccc(cc1)N(Cc1ccccc1)C(=O)c1ccc...   \n",
       "...                                                  ...   \n",
       "50679                              Oc1n[nH]c2cc(Cl)ccc12   \n",
       "50680                        OS(=O)(=O)Oc1c[nH]c2ccccc12   \n",
       "50681               Oc1cc(O)c2c(c1)oc(cc2=O)-c1ccc(I)cc1   \n",
       "50682  Nc1ccccc1C(=N)CN1CCCC2(CCN(CC2)c2cnc3ccccc3n2)...   \n",
       "50683  Nc1ccccc1C(=N)CN1CCCC2(CCN(CC2)c2cnc3ccccc3n2)...   \n",
       "\n",
       "                                         Target Sequence  Label  \n",
       "0      MAPVYEGMASHVQVFSPHTLQSSAFCSVKKLKIEPSSNWDMTGYGS...      0  \n",
       "1      MLEICLKLVGCKSKKGLSSSSSCYLEEALQRPVASDFEPQGLSEAA...      1  \n",
       "2      MASGSCQGCEEDEETLKKLIVRLNNVQEGKQIETLVQILEDLLVFT...      1  \n",
       "3      MRPSGTAGAALLALLAALCPASRALEEKKVCQGTSNKLTQLGTFED...      1  \n",
       "4      MESLFPAPFWEVLYGSHLQGNLSLLSPNHSGLPPHLLLNASHSAFL...      1  \n",
       "...                                                  ...    ...  \n",
       "50679  MVSSQKLEKPIEMGSSEPLPIADGDRRRKKKRRGRATDSLPGKFED...      1  \n",
       "50680  MSEESDMDKAIKETSILEEYSINWTQKLGAGISGPVRVCVKKSTQE...      0  \n",
       "50681  MEPAAGFLSPRPFQRAAAAPAPPAGPGPPPSALRGPELEMLAGLPT...      1  \n",
       "50682  MVGVGGGDVEDVTPRPGGCQISGRGARGCNGIPGAAAWEAALPRRR...      1  \n",
       "50683  MRPSGTAGAALLALLAALCPASRALEEKKVCQGTSNKLTQLGTFED...      1  \n",
       "\n",
       "[50684 rows x 3 columns]"
      ]
     },
     "execution_count": 33,
     "metadata": {},
     "output_type": "execute_result"
    }
   ],
   "source": [
    "randomized_dataframe"
   ]
  },
  {
   "cell_type": "code",
   "execution_count": 34,
   "metadata": {},
   "outputs": [
    {
     "name": "stdout",
     "output_type": "stream",
     "text": [
      "10978\n",
      "39706\n"
     ]
    }
   ],
   "source": [
    "print(randomized_dataframe['Label'].tolist().count(0))\n",
    "print(randomized_dataframe['Label'].tolist().count(1))"
   ]
  },
  {
   "cell_type": "code",
   "execution_count": 35,
   "metadata": {},
   "outputs": [],
   "source": [
    "ligands = list(set(randomized_dataframe['SMILES'].tolist()))\n",
    "targets = list(set(randomized_dataframe['Target Sequence'].tolist()))"
   ]
  },
  {
   "cell_type": "code",
   "execution_count": 36,
   "metadata": {},
   "outputs": [
    {
     "name": "stderr",
     "output_type": "stream",
     "text": [
      "100%|██████████| 13392/13392 [01:23<00:00, 160.18it/s]\n"
     ]
    }
   ],
   "source": [
    "ligand_annotations_randomized = []\n",
    "ligand_pos_degree_randomized = []\n",
    "ligand_neg_degree_randomized = []\n",
    "ligand_degree_ratio_randomized = []\n",
    "\n",
    "for chem in tqdm(ligands):\n",
    "    sub_df = randomized_dataframe[randomized_dataframe['SMILES'] == chem]\n",
    "    ligand_annotations_randomized.append(len(sub_df))\n",
    "    ligand_pos_degree_randomized.append(sub_df['Label'].tolist().count(1))\n",
    "    ligand_neg_degree_randomized.append(sub_df['Label'].tolist().count(0))\n",
    "    ligand_degree_ratio_randomized.append(sub_df['Label'].tolist().count(1)/(sub_df['Label'].tolist().count(1)+sub_df['Label'].tolist().count(0)))"
   ]
  },
  {
   "cell_type": "code",
   "execution_count": 37,
   "metadata": {},
   "outputs": [
    {
     "name": "stderr",
     "output_type": "stream",
     "text": [
      "100%|██████████| 1507/1507 [00:09<00:00, 160.06it/s]\n"
     ]
    }
   ],
   "source": [
    "target_annotations_randomized = []\n",
    "target_pos_degree_randomized = []\n",
    "target_neg_degree_randomized = []\n",
    "target_degree_ratio_randomized = []\n",
    "\n",
    "for prot in tqdm(targets):\n",
    "    sub_df = randomized_dataframe[randomized_dataframe['Target Sequence'] == prot]\n",
    "    target_annotations_randomized.append(len(sub_df))\n",
    "    target_pos_degree_randomized.append(sub_df['Label'].tolist().count(1))\n",
    "    target_neg_degree_randomized.append(sub_df['Label'].tolist().count(0))\n",
    "    target_degree_ratio_randomized.append(sub_df['Label'].tolist().count(1)/(sub_df['Label'].tolist().count(1)+sub_df['Label'].tolist().count(0)))"
   ]
  },
  {
   "cell_type": "code",
   "execution_count": 38,
   "metadata": {},
   "outputs": [
    {
     "data": {
      "text/plain": [
       "<matplotlib.legend.Legend at 0x7f5f95f63898>"
      ]
     },
     "execution_count": 38,
     "metadata": {},
     "output_type": "execute_result"
    },
    {
     "data": {
      "image/png": "[encoded data removed]",
      "text/plain": [
       "<Figure size 640x480 with 1 Axes>"
      ]
     },
     "metadata": {
      "needs_background": "light"
     },
     "output_type": "display_data"
    }
   ],
   "source": [
    "figure(figsize=(8, 6), dpi=80)\n",
    "\n",
    "sns.distplot(ligand_annotations_bindingDB, norm_hist=True, label='Original')\n",
    "sns.distplot(ligand_annotations_randomized, norm_hist=True, label='Randomized')\n",
    "#axs[3, 0].set_xscale('log')\n",
    "#axs[3, 0].set_yscale('log')\n",
    "plt.title('Ligands')\n",
    "plt.xlabel(r'$K$')\n",
    "plt.ylabel('PDF')\n",
    "plt.legend()"
   ]
  },
  {
   "cell_type": "code",
   "execution_count": 39,
   "metadata": {},
   "outputs": [
    {
     "data": {
      "text/plain": [
       "<matplotlib.legend.Legend at 0x7f5f996c4c50>"
      ]
     },
     "execution_count": 39,
     "metadata": {},
     "output_type": "execute_result"
    },
    {
     "data": {
      "image/png": "[encoded data removed]",
      "text/plain": [
       "<Figure size 640x480 with 1 Axes>"
      ]
     },
     "metadata": {
      "needs_background": "light"
     },
     "output_type": "display_data"
    }
   ],
   "source": [
    "figure(figsize=(8, 6), dpi=80)\n",
    "\n",
    "sns.distplot(target_annotations_bindingDB, norm_hist=True, label='Original')\n",
    "sns.distplot(target_annotations_randomized, norm_hist=True, label='Randomized')\n",
    "#axs[3, 0].set_xscale('log')\n",
    "#axs[3, 0].set_yscale('log')\n",
    "plt.title('Targets')\n",
    "plt.xlabel(r'$K$')\n",
    "plt.ylabel('PDF')\n",
    "plt.legend()"
   ]
  },
  {
   "cell_type": "code",
   "execution_count": 40,
   "metadata": {},
   "outputs": [
    {
     "name": "stdout",
     "output_type": "stream",
     "text": [
      "LIGANDS\n",
      "Original - Between k and k+:  SpearmanrResult(correlation=0.19228830229942806, pvalue=1.0182463611750579e-111)\n",
      "Original - Between k and k-:  SpearmanrResult(correlation=0.5837365393100225, pvalue=0.0)\n",
      "Original - Between k+ and k-:  SpearmanrResult(correlation=-0.5965683639069678, pvalue=0.0)\n",
      "-------------------------------------------------------------------------------------------------------------\n",
      "Shuffled - Between k and k+:  SpearmanrResult(correlation=0.7840798398621511, pvalue=0.0)\n",
      "Shuffled - Between k and k-:  SpearmanrResult(correlation=0.34571448170528346, pvalue=0.0)\n",
      "Shuffled - Between k+ and k-:  SpearmanrResult(correlation=-0.2262886336057522, pvalue=4.443003707479678e-155)\n",
      "-------------------------------------------------------------------------------------------------------------\n",
      "-------------------------------------------------------------------------------------------------------------\n",
      "TARGETS\n",
      "Original - Between k and k+:  SpearmanrResult(correlation=0.6581040571662816, pvalue=1.017395698392328e-187)\n",
      "Original - Between k and k-:  SpearmanrResult(correlation=0.933866781238621, pvalue=0.0)\n",
      "Original - Between k+ and k-:  SpearmanrResult(correlation=0.4447684177648136, pvalue=4.253892323025037e-74)\n",
      "-------------------------------------------------------------------------------------------------------------\n",
      "Shuffled - Between k and k+:  SpearmanrResult(correlation=0.9506666442408783, pvalue=0.0)\n",
      "Shuffled - Between k and k-:  SpearmanrResult(correlation=0.18671101117099284, pvalue=2.74258929819549e-13)\n",
      "Shuffled - Between k+ and k-:  SpearmanrResult(correlation=0.006457825684286668, pvalue=0.8022099706376065)\n"
     ]
    }
   ],
   "source": [
    "print('LIGANDS')\n",
    "\n",
    "print('Original - Between k and k+: ', stats.spearmanr(ligand_annotations_bindingDB, ligand_pos_degree_bindingDB))\n",
    "print('Original - Between k and k-: ', stats.spearmanr(ligand_annotations_bindingDB, ligand_neg_degree_bindingDB))\n",
    "print('Original - Between k+ and k-: ', stats.spearmanr(ligand_pos_degree_bindingDB, ligand_neg_degree_bindingDB))\n",
    "\n",
    "print('-------------------------------------------------------------------------------------------------------------')\n",
    "\n",
    "print('Shuffled - Between k and k+: ', stats.spearmanr(ligand_annotations_randomized, ligand_pos_degree_randomized))\n",
    "print('Shuffled - Between k and k-: ', stats.spearmanr(ligand_annotations_randomized, ligand_neg_degree_randomized))\n",
    "print('Shuffled - Between k+ and k-: ', stats.spearmanr(ligand_pos_degree_randomized, ligand_neg_degree_randomized))\n",
    "\n",
    "\n",
    "print('-------------------------------------------------------------------------------------------------------------')\n",
    "\n",
    "print('-------------------------------------------------------------------------------------------------------------')\n",
    "\n",
    "print('TARGETS')\n",
    "\n",
    "print('Original - Between k and k+: ', stats.spearmanr(target_annotations_bindingDB, target_pos_degree_bindingDB))\n",
    "print('Original - Between k and k-: ', stats.spearmanr(target_annotations_bindingDB, target_neg_degree_bindingDB))\n",
    "print('Original - Between k+ and k-: ', stats.spearmanr(target_pos_degree_bindingDB, target_neg_degree_bindingDB))\n",
    "\n",
    "print('-------------------------------------------------------------------------------------------------------------')\n",
    "\n",
    "print('Shuffled - Between k and k+: ', stats.spearmanr(target_annotations_randomized, target_pos_degree_randomized))\n",
    "print('Shuffled - Between k and k-: ', stats.spearmanr(target_annotations_randomized, target_neg_degree_randomized))\n",
    "print('Shuffled - Between k+ and k-: ', stats.spearmanr(target_pos_degree_randomized, target_neg_degree_randomized))"
   ]
  },
  {
   "cell_type": "code",
   "execution_count": 41,
   "metadata": {
    "scrolled": true
   },
   "outputs": [
    {
     "data": {
      "text/plain": [
       "<matplotlib.collections.PathCollection at 0x7f5f872c7860>"
      ]
     },
     "execution_count": 41,
     "metadata": {},
     "output_type": "execute_result"
    },
    {
     "data": {
      "image/png": "[encoded data removed]",
      "text/plain": [
       "<Figure size 432x288 with 1 Axes>"
      ]
     },
     "metadata": {
      "needs_background": "light"
     },
     "output_type": "display_data"
    }
   ],
   "source": [
    "plt.scatter(target_annotations_randomized, target_degree_ratio_randomized)"
   ]
  },
  {
   "cell_type": "code",
   "execution_count": 42,
   "metadata": {},
   "outputs": [
    {
     "data": {
      "image/png": "[encoded data removed]",
      "text/plain": [
       "<Figure size 1080x1440 with 8 Axes>"
      ]
     },
     "metadata": {
      "needs_background": "light"
     },
     "output_type": "display_data"
    }
   ],
   "source": [
    "fig, axs = plt.subplots(4, 2, figsize=(15,20))\n",
    "\n",
    "binned_deg_ann, binned_ki_ann = log_binning_distribution(ligand_annotations_bindingDB,B = 20)\n",
    "axs[0, 0].scatter(binned_deg_ann, binned_ki_ann, label='Original',alpha=0.2)\n",
    "binned_deg_ann, binned_ki_ann = log_binning_distribution(ligand_annotations_randomized,B = 20)\n",
    "axs[0, 0].scatter(binned_deg_ann, binned_ki_ann, label='Randomized', marker='x', alpha=0.4)\n",
    "axs[0, 0].set_xscale('log')\n",
    "axs[0, 0].set_yscale('log')\n",
    "axs[0, 0].set_xlabel('$K$')\n",
    "axs[0, 0].set_ylabel('PDF')\n",
    "axs[0, 0].set_title('Ligands')\n",
    "axs[0, 0].legend()\n",
    "\n",
    "binned_deg_ann, binned_ki_ann = log_binning_distribution(ligand_pos_degree_bindingDB,B = 20)\n",
    "axs[1, 0].scatter(binned_deg_ann, binned_ki_ann, label='Original',alpha=0.2)\n",
    "binned_deg_ann, binned_ki_ann = log_binning_distribution(ligand_pos_degree_randomized,B = 20)\n",
    "axs[1, 0].scatter(binned_deg_ann, binned_ki_ann, label='Randomized', marker='x', alpha=0.4)\n",
    "axs[1, 0].set_xscale('log')\n",
    "axs[1, 0].set_yscale('log')\n",
    "axs[1, 0].set_xlabel('$K_+$')\n",
    "axs[1, 0].set_ylabel('PDF')\n",
    "axs[1, 0].legend()\n",
    "\n",
    "binned_deg_ann, binned_ki_ann = log_binning_distribution(ligand_neg_degree_bindingDB,B = 20)\n",
    "axs[2, 0].scatter(binned_deg_ann, binned_ki_ann, label='Original',alpha=0.2)\n",
    "binned_deg_ann, binned_ki_ann = log_binning_distribution(ligand_neg_degree_randomized,B = 20)\n",
    "axs[2, 0].scatter(binned_deg_ann, binned_ki_ann, label='Randomized', marker='x', alpha=0.4)\n",
    "axs[2, 0].set_xscale('log')\n",
    "axs[2, 0].set_yscale('log')\n",
    "axs[2, 0].set_xlabel('$K_-$')\n",
    "axs[2, 0].set_ylabel('PDF')\n",
    "axs[2, 0].legend()\n",
    "\n",
    "#binned_deg_ann, binned_ki_ann = log_binning_distribution(ligand_neg_degree_original,B = 20)\n",
    "sns.distplot(ligand_degree_ratio_bindingDB, ax=axs[3, 0], norm_hist=True, label='Original')\n",
    "#axs[3, 0].hist(ligand_degree_ratio_bindingDB_original, label='Original',alpha=0.2)\n",
    "#binned_deg_ann, binned_ki_ann = log_binning_distribution(ligand_neg_degree_shuffled,B = 20)\n",
    "sns.distplot(ligand_degree_ratio_randomized, ax=axs[3, 0], norm_hist=True, label='Randomized')\n",
    "#axs[3, 0].hist(ligand_degree_ratio_bindingDB_shuffled, label='Randomized Kd', alpha=0.2)\n",
    "#axs[3, 0].set_xscale('log')\n",
    "#axs[3, 0].set_yscale('log')\n",
    "axs[3, 0].set_xlabel(r'$\\rho$')\n",
    "axs[3, 0].set_ylabel('PDF')\n",
    "axs[3, 0].legend()\n",
    "axs[3, 0].set_xlim([0.0, 1.0])\n",
    "\n",
    "################################################################################################\n",
    "\n",
    "binned_deg_ann, binned_ki_ann = log_binning_distribution(target_annotations_bindingDB,B = 20)\n",
    "axs[0, 1].scatter(binned_deg_ann, binned_ki_ann, label='Original',alpha=0.2)\n",
    "binned_deg_ann, binned_ki_ann = log_binning_distribution(target_annotations_randomized,B = 20)\n",
    "axs[0, 1].scatter(binned_deg_ann, binned_ki_ann, label='Randomized', marker='x', alpha=0.4)\n",
    "axs[0, 1].set_xscale('log')\n",
    "axs[0, 1].set_yscale('log')\n",
    "axs[0, 1].set_xlabel('$K$')\n",
    "axs[0, 1].set_ylabel('PDF')\n",
    "axs[0, 1].set_title('Targets')\n",
    "axs[0, 1].legend()\n",
    "\n",
    "binned_deg_ann, binned_ki_ann = log_binning_distribution(target_pos_degree_bindingDB,B = 20)\n",
    "axs[1, 1].scatter(binned_deg_ann, binned_ki_ann, label='Original',alpha=0.2)\n",
    "binned_deg_ann, binned_ki_ann = log_binning_distribution(target_pos_degree_randomized,B = 20)\n",
    "axs[1, 1].scatter(binned_deg_ann, binned_ki_ann, label='Randomized', marker='x', alpha=0.4)\n",
    "axs[1, 1].set_xscale('log')\n",
    "axs[1, 1].set_yscale('log')\n",
    "axs[1, 1].set_xlabel('$K_+$')\n",
    "axs[1, 1].set_ylabel('PDF')\n",
    "axs[1, 1].legend()\n",
    "\n",
    "binned_deg_ann, binned_ki_ann = log_binning_distribution(target_neg_degree_bindingDB,B = 20)\n",
    "axs[2, 1].scatter(binned_deg_ann, binned_ki_ann, label='Original',alpha=0.2)\n",
    "binned_deg_ann, binned_ki_ann = log_binning_distribution(target_neg_degree_randomized,B = 20)\n",
    "axs[2, 1].scatter(binned_deg_ann, binned_ki_ann, label='Randomized', marker='x', alpha=0.4)\n",
    "axs[2, 1].set_xscale('log')\n",
    "axs[2, 1].set_yscale('log')\n",
    "axs[2, 1].set_xlabel('$K_-$')\n",
    "axs[2, 1].set_ylabel('PDF')\n",
    "axs[2, 1].legend()\n",
    "\n",
    "#binned_deg_ann, binned_ki_ann = log_binning_distribution(ligand_neg_degree_original,B = 20)\n",
    "sns.distplot(target_degree_ratio_bindingDB, ax=axs[3, 1], norm_hist=True, label='Original')\n",
    "#axs[3, 0].hist(ligand_degree_ratio_bindingDB_original, label='Original',alpha=0.2)\n",
    "#binned_deg_ann, binned_ki_ann = log_binning_distribution(ligand_neg_degree_shuffled,B = 20)\n",
    "sns.distplot(target_degree_ratio_randomized, ax=axs[3, 1], norm_hist=True, label='Randomized')\n",
    "#axs[3, 0].hist(ligand_degree_ratio_bindingDB_shuffled, label='Randomized Kd', alpha=0.2)\n",
    "#axs[3, 0].set_xscale('log')\n",
    "#axs[3, 0].set_yscale('log')\n",
    "axs[3, 1].set_xlabel(r'$\\rho$')\n",
    "axs[3, 1].set_ylabel('PDF')\n",
    "axs[3, 1].legend()\n",
    "axs[3, 1].set_xlim([0.0, 1.0])\n",
    "\n",
    "fig.tight_layout()"
   ]
  },
  {
   "cell_type": "markdown",
   "metadata": {},
   "source": [
    "# Duplex Configuration Model"
   ]
  },
  {
   "cell_type": "code",
   "execution_count": 43,
   "metadata": {},
   "outputs": [],
   "source": [
    "from sklearn.model_selection import train_test_split\n",
    "\n",
    "train, test = train_test_split(randomized_dataframe, test_size=0.3)"
   ]
  },
  {
   "cell_type": "code",
   "execution_count": 44,
   "metadata": {},
   "outputs": [],
   "source": [
    "train.to_csv('../data/experiment_4a_adjusted/train.csv')\n",
    "test.to_csv('../data/experiment_4a_adjusted/test.csv')"
   ]
  },
  {
   "cell_type": "code",
   "execution_count": 45,
   "metadata": {},
   "outputs": [],
   "source": [
    "ligands = list(set(train['SMILES'].tolist()))\n",
    "targets = list(set(train['Target Sequence'].tolist()))"
   ]
  },
  {
   "cell_type": "code",
   "execution_count": 46,
   "metadata": {
    "scrolled": true
   },
   "outputs": [
    {
     "name": "stderr",
     "output_type": "stream",
     "text": [
      "100%|██████████| 10531/10531 [01:00<00:00, 174.02it/s]\n",
      "100%|██████████| 1405/1405 [00:07<00:00, 176.09it/s]\n",
      "100%|██████████| 10531/10531 [00:00<00:00, 1071572.43it/s]\n",
      "100%|██████████| 10531/10531 [00:00<00:00, 1171561.60it/s]\n",
      "100%|██████████| 1405/1405 [00:00<00:00, 1178128.17it/s]\n",
      "100%|██████████| 1405/1405 [00:00<00:00, 1239326.42it/s]\n"
     ]
    }
   ],
   "source": [
    "ligands_degree_dict = dict()\n",
    "\n",
    "for smile_chem in tqdm(ligands):\n",
    "    sum_df = train[train['SMILES'] == smile_chem]\n",
    "    ligands_degree_dict[smile_chem] = dict()\n",
    "    ligands_degree_dict[smile_chem]['deg_0'] = len(sum_df[sum_df['Label'] == 0])\n",
    "    ligands_degree_dict[smile_chem]['deg_1'] = len(sum_df[sum_df['Label'] == 1])\n",
    "    \n",
    "targets_degree_dict = dict()\n",
    "\n",
    "for aa_target in tqdm(targets):\n",
    "    sum_df = train[train['Target Sequence'] == aa_target]\n",
    "    targets_degree_dict[aa_target] = dict()\n",
    "    targets_degree_dict[aa_target]['deg_0'] = len(sum_df[sum_df['Label'] == 0])\n",
    "    targets_degree_dict[aa_target]['deg_1'] = len(sum_df[sum_df['Label'] == 1])\n",
    "    \n",
    "degree_train_1_0_ligands = [ligands_degree_dict[key_val]['deg_1'] for key_val in tqdm(ligands)]\n",
    "degree_train_0_1_ligands = [ligands_degree_dict[key_val]['deg_0'] for key_val in tqdm(ligands)]\n",
    "\n",
    "degree_train_1_0_targets = [targets_degree_dict[key_val]['deg_1'] for key_val in tqdm(targets)]\n",
    "degree_train_0_1_targets = [targets_degree_dict[key_val]['deg_0'] for key_val in tqdm(targets)]"
   ]
  },
  {
   "cell_type": "code",
   "execution_count": 47,
   "metadata": {
    "scrolled": true
   },
   "outputs": [],
   "source": [
    "with open('../data/experiment_4a_adjusted/degreetrain10ligands.txt', 'w') as file:\n",
    "    for degree in degree_train_1_0_ligands:\n",
    "        file.write(\"%i\\n\" % degree)\n",
    "        \n",
    "file.close()\n",
    "\n",
    "with open('../data/experiment_4a_adjusted/degreetrain01ligands.txt', 'w') as file:\n",
    "    for degree in degree_train_0_1_ligands:\n",
    "        file.write(\"%i\\n\" % degree)\n",
    "        \n",
    "file.close()\n",
    "\n",
    "with open('../data/experiment_4a_adjusted/degreetrain10targets.txt', 'w') as file:\n",
    "    for degree in degree_train_1_0_targets:\n",
    "        file.write(\"%i\\n\" % degree)\n",
    "        \n",
    "file.close()\n",
    "\n",
    "with open('../data/experiment_4a_adjusted/degreetrain01targets.txt', 'w') as file:\n",
    "    for degree in degree_train_0_1_targets:\n",
    "        file.write(\"%i\\n\" % degree)\n",
    "        \n",
    "file.close()\n",
    "\n",
    "textfile = open(\"../data/experiment_4a_adjusted/ligands.txt\", \"w\")\n",
    "for element in ligands:\n",
    "    textfile.write(element + \"\\n\")\n",
    "textfile.close()\n",
    "\n",
    "textfile = open(\"../data/experiment_4a_adjusted/targets.txt\", \"w\")\n",
    "for element in targets:\n",
    "    textfile.write(element + \"\\n\")\n",
    "textfile.close()"
   ]
  },
  {
   "cell_type": "code",
   "execution_count": 48,
   "metadata": {},
   "outputs": [],
   "source": [
    "summat10 = np.loadtxt(open(\"../data/experiment_4a_adjusted/summat10.csv\", \"rb\"), delimiter=\",\", skiprows=0) # Output of MATLAB run\n",
    "summat01 = np.loadtxt(open(\"../data/experiment_4a_adjusted/summat01.csv\", \"rb\"), delimiter=\",\", skiprows=0) # Output of MATLAB run "
   ]
  },
  {
   "cell_type": "code",
   "execution_count": 49,
   "metadata": {
    "scrolled": true
   },
   "outputs": [
    {
     "name": "stderr",
     "output_type": "stream",
     "text": [
      "100%|██████████| 10531/10531 [00:00<00:00, 349503.21it/s]\n",
      "100%|██████████| 1405/1405 [00:00<00:00, 359416.76it/s]\n"
     ]
    }
   ],
   "source": [
    "train_pos = train[train['Label'] == 1]\n",
    "train_neg = train[train['Label'] == 0]\n",
    "\n",
    "pos_deg_0_ligands = []\n",
    "pos_deg_0_targets = []\n",
    "neg_deg_0_ligands = []\n",
    "neg_deg_0_targets = []\n",
    "\n",
    "ligand_degree_ratio = dict()\n",
    "ligand_all_average = []\n",
    "\n",
    "for ligand in tqdm(ligands):\n",
    "    pos_deg = ligands_degree_dict[ligand]['deg_1']\n",
    "    neg_deg = ligands_degree_dict[ligand]['deg_0']\n",
    "    if pos_deg + neg_deg != 0:\n",
    "        ligand_degree_ratio[ligand] = dict()\n",
    "        ligand_degree_ratio[ligand]['deg_ratio'] = pos_deg / (pos_deg + neg_deg)\n",
    "        ligand_degree_ratio[ligand]['deg_avg'] = pos_deg / len(targets) \n",
    "        ligand_all_average.append(pos_deg / len(targets))\n",
    "    if pos_deg == 0:\n",
    "        pos_deg_0_ligands.append(ligand)\n",
    "    if neg_deg == 0:\n",
    "        neg_deg_0_ligands.append(ligand)\n",
    "    \n",
    "ligands_all_avg = sum(ligand_all_average) / len(ligands)\n",
    "\n",
    "targets_degree_ratio = dict()\n",
    "target_all_average = []\n",
    "\n",
    "for target in tqdm(targets):\n",
    "    pos_deg = targets_degree_dict[target]['deg_1']\n",
    "    neg_deg = targets_degree_dict[target]['deg_0']\n",
    "    if pos_deg + neg_deg != 0:\n",
    "        targets_degree_ratio[target] = dict()\n",
    "        targets_degree_ratio[target]['deg_ratio'] = pos_deg / (pos_deg + neg_deg)\n",
    "        targets_degree_ratio[target]['deg_avg'] = pos_deg / len(ligands)\n",
    "        target_all_average.append(pos_deg / len(ligands))\n",
    "    if pos_deg == 0:\n",
    "        pos_deg_0_targets.append(target)\n",
    "    if neg_deg == 0:\n",
    "        neg_deg_0_targets.append(target)\n",
    "    \n",
    "targets_all_avg = sum(target_all_average) / len(targets)"
   ]
  },
  {
   "cell_type": "code",
   "execution_count": 50,
   "metadata": {
    "scrolled": true
   },
   "outputs": [],
   "source": [
    "## Annotated means the node has at least 1 binding information\n",
    "\n",
    "pos_annotated_ligands = list(set(ligands)-set(pos_deg_0_ligands))\n",
    "pos_annotated_targets = list(set(targets)-set(pos_deg_0_targets))\n",
    "\n",
    "neg_annotated_ligands = list(set(ligands)-set(neg_deg_0_ligands))\n",
    "neg_annotated_targets = list(set(targets)-set(neg_deg_0_targets))"
   ]
  },
  {
   "cell_type": "code",
   "execution_count": 51,
   "metadata": {
    "scrolled": true
   },
   "outputs": [
    {
     "name": "stderr",
     "output_type": "stream",
     "text": [
      "15206it [00:12, 1219.85it/s]\n"
     ]
    }
   ],
   "source": [
    "test_probabilty_predicted_conditioned = []\n",
    "\n",
    "## Average conditional probability\n",
    "p10_avg = np.mean(summat10)\n",
    "p01_avg = np.mean(summat01)\n",
    "average_conditional_probability = p10_avg / (p10_avg + p01_avg)\n",
    "\n",
    "for index, row in tqdm(test.iterrows()):      \n",
    "    \n",
    "    if row['SMILES'] in pos_annotated_ligands and row['Target Sequence'] in pos_annotated_targets:\n",
    "        p10 = summat10[ligands.index(row['SMILES']),targets.index(row['Target Sequence'])]\n",
    "        p01 = summat01[ligands.index(row['SMILES']),targets.index(row['Target Sequence'])]\n",
    "        p10_conditioned = p10 / (p10 + p01)\n",
    "        test_probabilty_predicted_conditioned.append(p10_conditioned)\n",
    "        \n",
    "    elif row['SMILES'] in pos_annotated_ligands and row['Target Sequence'] not in pos_annotated_targets:\n",
    "        p10_conditioned = ligand_degree_ratio[row['SMILES']]['deg_ratio']  ## k_+ / (k_+ + k_-)\n",
    "        test_probabilty_predicted_conditioned.append(p10_conditioned)\n",
    "        \n",
    "    elif row['SMILES'] not in pos_annotated_ligands and row['Target Sequence'] in pos_annotated_targets:\n",
    "        p10_conditioned = targets_degree_ratio[row['Target Sequence']]['deg_ratio'] ## k_+ / (k_+ + k_-)\n",
    "        test_probabilty_predicted_conditioned.append(p10_conditioned)\n",
    "\n",
    "    else:\n",
    "        p10_conditioned = average_conditional_probability\n",
    "        test_probabilty_predicted_conditioned.append(p10_conditioned)\n",
    "        "
   ]
  },
  {
   "cell_type": "code",
   "execution_count": 150,
   "metadata": {},
   "outputs": [],
   "source": [
    "#test_pos = test[test['Label'] == 1]\n",
    "#test_neg = test[test['Label'] == 0]\n",
    "\n",
    "#test = pd.concat([test_pos,test_neg.sample(n=len(test_pos))])"
   ]
  },
  {
   "cell_type": "code",
   "execution_count": 52,
   "metadata": {
    "scrolled": true
   },
   "outputs": [
    {
     "name": "stdout",
     "output_type": "stream",
     "text": [
      "AUC:  0.8117170799254487\n",
      "AUP:  0.9298842490434827\n"
     ]
    }
   ],
   "source": [
    "## Performance on the test dataset\n",
    "\n",
    "print('AUC: ', roc_auc_score(test['Label'].tolist(), test_probabilty_predicted_conditioned))\n",
    "print('AUP: ', average_precision_score(test['Label'].tolist(), test_probabilty_predicted_conditioned))"
   ]
  },
  {
   "cell_type": "code",
   "execution_count": 53,
   "metadata": {
    "scrolled": true
   },
   "outputs": [
    {
     "name": "stdout",
     "output_type": "stream",
     "text": [
      "Seen ligands:  10531\n",
      "Seen targets:  1405\n",
      "Unseen ligands:  2861\n",
      "Unseen targets:  102\n"
     ]
    },
    {
     "name": "stderr",
     "output_type": "stream",
     "text": [
      "/miniconda/lib/python3.6/site-packages/ipykernel_launcher.py:1: SettingWithCopyWarning: \n",
      "A value is trying to be set on a copy of a slice from a DataFrame.\n",
      "Try using .loc[row_indexer,col_indexer] = value instead\n",
      "\n",
      "See the caveats in the documentation: https://pandas.pydata.org/pandas-docs/stable/user_guide/indexing.html#returning-a-view-versus-a-copy\n",
      "  \"\"\"Entry point for launching an IPython kernel.\n"
     ]
    }
   ],
   "source": [
    "test['test_probabilty_predicted_conditioned'] = test_probabilty_predicted_conditioned\n",
    "test = test[~test['test_probabilty_predicted_conditioned'].isna()]\n",
    "\n",
    "train_ligands = list(set(train['SMILES'].tolist()))\n",
    "train_targets = list(set(train['Target Sequence'].tolist()))\n",
    "\n",
    "test_minus_train_ligands = list(set(test['SMILES'].tolist()).difference(train_ligands))\n",
    "test_minus_train_targets = list(set(test['Target Sequence'].tolist()).difference(train_targets))\n",
    "\n",
    "print('Seen ligands: ', len(train_ligands))\n",
    "print('Seen targets: ', len(train_targets))\n",
    "print('Unseen ligands: ', len(test_minus_train_ligands))\n",
    "print('Unseen targets: ', len(test_minus_train_targets))"
   ]
  },
  {
   "cell_type": "code",
   "execution_count": 54,
   "metadata": {
    "scrolled": true
   },
   "outputs": [
    {
     "name": "stdout",
     "output_type": "stream",
     "text": [
      "Unseen edges:  11973\n",
      "AUC:  0.7993311144224458\n",
      "AUP:  0.9224261655126889\n"
     ]
    }
   ],
   "source": [
    "# Unseen Edges\n",
    "\n",
    "test_unseen_edges = test[test['SMILES'].isin(train_ligands) & test['Target Sequence'].isin(train_targets)]\n",
    "print('Unseen edges: ', len(test_unseen_edges))\n",
    "\n",
    "print('AUC: ', roc_auc_score(test_unseen_edges['Label'].tolist(), test_unseen_edges['test_probabilty_predicted_conditioned']))\n",
    "print('AUP: ', average_precision_score(test_unseen_edges['Label'].tolist(), test_unseen_edges['test_probabilty_predicted_conditioned']))"
   ]
  },
  {
   "cell_type": "code",
   "execution_count": 55,
   "metadata": {},
   "outputs": [
    {
     "name": "stdout",
     "output_type": "stream",
     "text": [
      "Unseen targets:  125\n",
      "AUC:  0.5186471193415638\n",
      "AUP:  0.4593467477051025\n"
     ]
    }
   ],
   "source": [
    "# Unseen Targets\n",
    "\n",
    "test_unseen_targets = test[test['Target Sequence'].isin(test_minus_train_targets)]\n",
    "print('Unseen targets: ', len(test_unseen_targets))\n",
    "\n",
    "append = pd.DataFrame()\n",
    "\n",
    "append['SMILES'] = ['x']\n",
    "append['Target Sequence'] = ['y']\n",
    "append['Label'] = [1.0]\n",
    "append['test_probabilty_predicted_conditioned'] = [np.mean(test_unseen_targets['test_probabilty_predicted_conditioned'].tolist())]\n",
    "\n",
    "test_unseen_targets = pd.concat([test_unseen_targets,append])\n",
    "\n",
    "print('AUC: ', roc_auc_score(test_unseen_targets['Label'].tolist(), test_unseen_targets['test_probabilty_predicted_conditioned']))\n",
    "print('AUP: ', average_precision_score(test_unseen_targets['Label'].tolist(), test_unseen_targets['test_probabilty_predicted_conditioned']))"
   ]
  },
  {
   "cell_type": "code",
   "execution_count": 56,
   "metadata": {},
   "outputs": [
    {
     "name": "stdout",
     "output_type": "stream",
     "text": [
      "Unseen nodes:  21\n",
      "AUC:  0.5\n",
      "AUP:  0.3181818181818182\n"
     ]
    }
   ],
   "source": [
    "# Unseen Nodes\n",
    "\n",
    "test_unseen_nodes = test[test['SMILES'].isin(test_minus_train_ligands) & test['Target Sequence'].isin(test_minus_train_targets)]\n",
    "print('Unseen nodes: ', len(test_unseen_nodes))\n",
    "\n",
    "append = pd.DataFrame()\n",
    "\n",
    "append['SMILES'] = ['x']\n",
    "append['Target Sequence'] = ['y']\n",
    "append['Label'] = [1.0]\n",
    "append['test_probabilty_predicted_conditioned'] = [np.mean(test_unseen_nodes['test_probabilty_predicted_conditioned'].tolist())]\n",
    "\n",
    "test_unseen_nodes = pd.concat([test_unseen_nodes,append])\n",
    "\n",
    "print('AUC: ', roc_auc_score(test_unseen_nodes['Label'].tolist(), test_unseen_nodes['test_probabilty_predicted_conditioned']))\n",
    "print('AUP: ', average_precision_score(test_unseen_nodes['Label'].tolist(), test_unseen_nodes['test_probabilty_predicted_conditioned']))"
   ]
  },
  {
   "cell_type": "markdown",
   "metadata": {},
   "source": [
    "# Comparison with Original"
   ]
  },
  {
   "cell_type": "code",
   "execution_count": 57,
   "metadata": {},
   "outputs": [],
   "source": [
    "original_test = pd.read_csv('../data/Transformer_CNN_test_w_config_preds_fold2.csv')"
   ]
  },
  {
   "cell_type": "code",
   "execution_count": 58,
   "metadata": {},
   "outputs": [
    {
     "data": {
      "image/png": "[encoded data removed]",
      "text/plain": [
       "<Figure size 640x480 with 1 Axes>"
      ]
     },
     "metadata": {
      "needs_background": "light"
     },
     "output_type": "display_data"
    }
   ],
   "source": [
    "figure(figsize=(8, 6), dpi=80)\n",
    "\n",
    "sns.distplot(original_test['duplex_config_prediction'].tolist(),  norm_hist=True, label='Original')\n",
    "sns.distplot(test_probabilty_predicted_conditioned,  norm_hist=True, label='Randomization')\n",
    "plt.legend()\n",
    "plt.xlim([0,1])\n",
    "plt.xlabel('Duplex Configuration Model Prediction')\n",
    "plt.ylabel('PDF')\n",
    "plt.show()"
   ]
  },
  {
   "cell_type": "code",
   "execution_count": 59,
   "metadata": {},
   "outputs": [
    {
     "name": "stdout",
     "output_type": "stream",
     "text": [
      "Older mean and std of duplex prediction:  0.23615038775267627 0.36227473125684373\n",
      "New mean and std of duplex prediction:  0.8143272724235715 0.25210354846742655\n"
     ]
    }
   ],
   "source": [
    "print('Older mean and std of duplex prediction: ', np.mean(original_test['duplex_config_prediction'].tolist()), np.std(original_test['duplex_config_prediction'].tolist()))\n",
    "print('New mean and std of duplex prediction: ', np.mean(test_probabilty_predicted_conditioned), np.std(test_probabilty_predicted_conditioned))"
   ]
  },
  {
   "cell_type": "code",
   "execution_count": null,
   "metadata": {},
   "outputs": [],
   "source": []
  }
 ],
 "metadata": {
  "kernelspec": {
   "display_name": "Python 3",
   "language": "python",
   "name": "python3"
  },
  "language_info": {
   "codemirror_mode": {
    "name": "ipython",
    "version": 3
   },
   "file_extension": ".py",
   "mimetype": "text/x-python",
   "name": "python",
   "nbconvert_exporter": "python",
   "pygments_lexer": "ipython3",
   "version": "3.6.6"
  },
  "toc": {
   "base_numbering": 1,
   "nav_menu": {},
   "number_sections": true,
   "sideBar": true,
   "skip_h1_title": false,
   "title_cell": "Table of Contents",
   "title_sidebar": "Contents",
   "toc_cell": false,
   "toc_position": {},
   "toc_section_display": true,
   "toc_window_display": false
  }
 },
 "nbformat": 4,
 "nbformat_minor": 4
}
