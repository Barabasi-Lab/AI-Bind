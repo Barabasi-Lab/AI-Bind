{
 "cells": [
  {
   "cell_type": "markdown",
   "metadata": {
    "heading_collapsed": true
   },
   "source": [
    "# Imports and Custom Functions"
   ]
  },
  {
   "cell_type": "code",
   "execution_count": 1,
   "metadata": {
    "hidden": true
   },
   "outputs": [],
   "source": [
    "import matplotlib.pyplot as plt\n",
    "from tqdm import tqdm\n",
    "import pandas as pd\n",
    "from matplotlib.pyplot import figure\n",
    "import numpy as np\n",
    "import networkx as nx\n",
    "from networkx.algorithms import bipartite\n",
    "from sklearn.metrics import confusion_matrix, f1_score, classification_report\n",
    "from sklearn.metrics import roc_curve, roc_auc_score, precision_recall_curve, average_precision_score\n",
    "from sklearn.metrics import confusion_matrix, f1_score, classification_report\n",
    "from scipy import stats\n",
    "import seaborn as sns\n",
    "import powerlaw\n",
    "from scipy.stats import poisson\n",
    "#import tensorflow as tf\n",
    "#tf.enable_v2_behavior()\n",
    "\n",
    "#import tensorflow_probability as tfp\n",
    "#tfd = tfp.distributions\n",
    "#tfb = tfp.bijectors"
   ]
  },
  {
   "cell_type": "code",
   "execution_count": 2,
   "metadata": {
    "hidden": true
   },
   "outputs": [],
   "source": [
    "def closest(lst, K):\n",
    "    \n",
    "    number = lst[min(range(len(lst)), key = lambda i: abs(lst[i]-K))]\n",
    "    \n",
    "    if abs(number-K) >= 3:\n",
    "        print('Not close enough: ', int(abs(number-K)))\n",
    "    \n",
    "    # number_index = np.random.choice(get_all_indices(lst,number))\n",
    "      \n",
    "    return get_all_indices(lst,number) # number_index"
   ]
  },
  {
   "cell_type": "code",
   "execution_count": 3,
   "metadata": {
    "hidden": true
   },
   "outputs": [],
   "source": [
    "def get_all_indices(mylist,myval):\n",
    "    \n",
    "    all_indices = []\n",
    "    \n",
    "    for i in range(len(mylist)):\n",
    "        if mylist[i] == myval:\n",
    "            all_indices.append(i)\n",
    "            \n",
    "    return all_indices"
   ]
  },
  {
   "cell_type": "code",
   "execution_count": 4,
   "metadata": {
    "hidden": true
   },
   "outputs": [],
   "source": [
    "def remove_zeros_distribution(X):\n",
    "\n",
    "    return [i for i in X if i != 0]\n",
    "\n",
    "def log_binning_distribution(x_i,B = 20): \n",
    "    \n",
    "    x_i = remove_zeros_distribution(x_i)\n",
    "\n",
    "    b_1 = min(x_i)\n",
    "    b_Bp1 = max(x_i)\n",
    "    q_1 = np.log(b_1)\n",
    "    q_Bp1 = np.log(b_Bp1)\n",
    "    D_q = q_Bp1 - q_1\n",
    "    L_q = D_q / B\n",
    "\n",
    "    q_list = []\n",
    "    b_list = []\n",
    "\n",
    "    for i in range(B):\n",
    "        j = i + 1\n",
    "        q_list.append(q_1 + (j-1)*L_q)\n",
    "        b_list.append(np.exp(q_1 + (j-1)*L_q))\n",
    "\n",
    "    # b_list.insert(0,b_1)\n",
    "    # b_list.append(b_Bp1)\n",
    "    \n",
    "    binned_x_i = []\n",
    "    density_list = []\n",
    "\n",
    "    for i in range(len(b_list)-1):\n",
    "        bin_low = b_list[i]\n",
    "        bin_high = b_list[i+1]\n",
    "        count_bin = 0\n",
    "        for j in range(len(x_i)):\n",
    "            if x_i[j] >= bin_low and x_i[j] < bin_high:\n",
    "                count_bin = count_bin + 1\n",
    "                \n",
    "        if count_bin > 0:\n",
    "            density_bin = count_bin / (len(x_i)*(bin_high-bin_low))\n",
    "            density_list.append(density_bin)\n",
    "            binned_x_i.append(bin_low)\n",
    "        else:\n",
    "            continue \n",
    "            \n",
    "    return binned_x_i, density_list"
   ]
  },
  {
   "cell_type": "markdown",
   "metadata": {},
   "source": [
    "# Analysis of BindingDB Kd"
   ]
  },
  {
   "cell_type": "code",
   "execution_count": 5,
   "metadata": {
    "scrolled": true
   },
   "outputs": [
    {
     "name": "stderr",
     "output_type": "stream",
     "text": [
      "b'Skipping line 896772: expected 193 fields, saw 205\\nSkipping line 896798: expected 193 fields, saw 205\\n'\n",
      "b'Skipping line 929491: expected 193 fields, saw 205\\n'\n",
      "b'Skipping line 952161: expected 193 fields, saw 265\\n'\n",
      "b'Skipping line 1355895: expected 193 fields, saw 241\\n'\n",
      "b'Skipping line 1469800: expected 193 fields, saw 241\\nSkipping line 1469801: expected 193 fields, saw 241\\nSkipping line 1469802: expected 193 fields, saw 241\\nSkipping line 1469803: expected 193 fields, saw 241\\nSkipping line 1469804: expected 193 fields, saw 241\\nSkipping line 1469805: expected 193 fields, saw 241\\nSkipping line 1469806: expected 193 fields, saw 241\\nSkipping line 1469807: expected 193 fields, saw 241\\nSkipping line 1469808: expected 193 fields, saw 241\\n'\n",
      "b'Skipping line 1483073: expected 193 fields, saw 205\\n'\n",
      "b'Skipping line 1502296: expected 193 fields, saw 241\\nSkipping line 1502297: expected 193 fields, saw 241\\nSkipping line 1502298: expected 193 fields, saw 241\\nSkipping line 1502299: expected 193 fields, saw 241\\nSkipping line 1502300: expected 193 fields, saw 241\\nSkipping line 1502301: expected 193 fields, saw 241\\nSkipping line 1502302: expected 193 fields, saw 241\\nSkipping line 1502303: expected 193 fields, saw 241\\nSkipping line 1502304: expected 193 fields, saw 241\\n'\n",
      "b'Skipping line 1541474: expected 193 fields, saw 205\\n'\n",
      "b'Skipping line 1927945: expected 193 fields, saw 265\\n'\n",
      "b'Skipping line 2015166: expected 193 fields, saw 265\\nSkipping line 2015167: expected 193 fields, saw 265\\nSkipping line 2015168: expected 193 fields, saw 265\\nSkipping line 2015169: expected 193 fields, saw 265\\nSkipping line 2015170: expected 193 fields, saw 265\\nSkipping line 2015171: expected 193 fields, saw 265\\nSkipping line 2015172: expected 193 fields, saw 265\\nSkipping line 2015173: expected 193 fields, saw 265\\nSkipping line 2015174: expected 193 fields, saw 265\\nSkipping line 2015175: expected 193 fields, saw 265\\nSkipping line 2015176: expected 193 fields, saw 265\\nSkipping line 2015177: expected 193 fields, saw 265\\nSkipping line 2015178: expected 193 fields, saw 265\\nSkipping line 2015179: expected 193 fields, saw 265\\nSkipping line 2015180: expected 193 fields, saw 265\\nSkipping line 2015181: expected 193 fields, saw 265\\nSkipping line 2015182: expected 193 fields, saw 265\\nSkipping line 2015183: expected 193 fields, saw 265\\nSkipping line 2015184: expected 193 fields, saw 265\\n'\n",
      "b'Skipping line 2015802: expected 193 fields, saw 265\\nSkipping line 2015803: expected 193 fields, saw 265\\nSkipping line 2015804: expected 193 fields, saw 265\\nSkipping line 2015805: expected 193 fields, saw 265\\nSkipping line 2015806: expected 193 fields, saw 265\\nSkipping line 2015807: expected 193 fields, saw 265\\nSkipping line 2015808: expected 193 fields, saw 265\\n'\n",
      "b'Skipping line 2027219: expected 193 fields, saw 265\\nSkipping line 2027220: expected 193 fields, saw 265\\nSkipping line 2027221: expected 193 fields, saw 265\\nSkipping line 2027222: expected 193 fields, saw 265\\nSkipping line 2027223: expected 193 fields, saw 265\\nSkipping line 2027224: expected 193 fields, saw 265\\nSkipping line 2027225: expected 193 fields, saw 265\\nSkipping line 2027226: expected 193 fields, saw 265\\nSkipping line 2027227: expected 193 fields, saw 265\\nSkipping line 2027228: expected 193 fields, saw 265\\nSkipping line 2027229: expected 193 fields, saw 265\\nSkipping line 2027230: expected 193 fields, saw 265\\nSkipping line 2027231: expected 193 fields, saw 265\\nSkipping line 2027232: expected 193 fields, saw 265\\nSkipping line 2027233: expected 193 fields, saw 265\\nSkipping line 2027234: expected 193 fields, saw 265\\nSkipping line 2027235: expected 193 fields, saw 265\\nSkipping line 2027236: expected 193 fields, saw 265\\nSkipping line 2027237: expected 193 fields, saw 265\\nSkipping line 2027238: expected 193 fields, saw 265\\nSkipping line 2027239: expected 193 fields, saw 265\\nSkipping line 2027240: expected 193 fields, saw 265\\nSkipping line 2027241: expected 193 fields, saw 265\\nSkipping line 2027242: expected 193 fields, saw 265\\nSkipping line 2027243: expected 193 fields, saw 265\\nSkipping line 2027244: expected 193 fields, saw 265\\nSkipping line 2027245: expected 193 fields, saw 265\\nSkipping line 2027246: expected 193 fields, saw 265\\nSkipping line 2027247: expected 193 fields, saw 265\\nSkipping line 2027248: expected 193 fields, saw 265\\nSkipping line 2027249: expected 193 fields, saw 265\\nSkipping line 2027250: expected 193 fields, saw 265\\nSkipping line 2027251: expected 193 fields, saw 265\\nSkipping line 2027252: expected 193 fields, saw 265\\nSkipping line 2027253: expected 193 fields, saw 265\\nSkipping line 2027254: expected 193 fields, saw 265\\nSkipping line 2027255: expected 193 fields, saw 265\\nSkipping line 2027256: expected 193 fields, saw 265\\nSkipping line 2027257: expected 193 fields, saw 265\\n'\n",
      "b'Skipping line 2029854: expected 193 fields, saw 265\\nSkipping line 2029855: expected 193 fields, saw 265\\nSkipping line 2029856: expected 193 fields, saw 265\\nSkipping line 2029857: expected 193 fields, saw 265\\nSkipping line 2029858: expected 193 fields, saw 265\\nSkipping line 2029859: expected 193 fields, saw 265\\nSkipping line 2029860: expected 193 fields, saw 265\\nSkipping line 2029861: expected 193 fields, saw 265\\n'\n",
      "b'Skipping line 2042409: expected 193 fields, saw 313\\n'\n",
      "b'Skipping line 2059953: expected 193 fields, saw 637\\n'\n",
      "/miniconda/lib/python3.6/site-packages/IPython/core/interactiveshell.py:3063: DtypeWarning: Columns (8,9,10,11,12,13,15,17,18,19,20,26,27,31,32,34,35,46,49,50,51,52,53,54,61,62,63,64,65,66,73,74,75,76,77,78,85,86,87,88,89,90,97,98,99,100,101,102,109,110,111,112,113,114,121,122,123,124,125,126,133,134,135,136,137,138,145,147,148,149,150,157,158,159,160,161,162,169,171,172,173,174) have mixed types.Specify dtype option on import or set low_memory=False.\n",
      "  interactivity=interactivity, compiler=compiler, result=result)\n"
     ]
    },
    {
     "name": "stdout",
     "output_type": "stream",
     "text": [
      "There are 70750 drug target pairs.\n"
     ]
    },
    {
     "data": {
      "image/png": "[encoded data removed]",
      "text/plain": [
       "<Figure size 432x288 with 1 Axes>"
      ]
     },
     "metadata": {
      "needs_background": "light"
     },
     "output_type": "display_data"
    }
   ],
   "source": [
    "df = pd.read_csv('/home/sars-busters-consolidated/data/BindingDB_All.tsv', sep = '\\t', error_bad_lines=False)\n",
    "\n",
    "df = df[df['Number of Protein Chains in Target (>1 implies a multichain complex)'] == 1.0]\n",
    "df = df[df['Ligand SMILES'].notnull()]\n",
    "\n",
    "idx_str = 'Kd (nM)'\n",
    "\n",
    "df_want = df[df[idx_str].notnull()]\n",
    "df_want = df_want[['BindingDB Reactant_set_id', 'Ligand InChI', 'Ligand SMILES',\\\n",
    "                    'PubChem CID', 'UniProt (SwissProt) Primary ID of Target Chain',\\\n",
    "                    'BindingDB Target Chain  Sequence', idx_str]]\n",
    "\n",
    "df_want.rename(columns={'BindingDB Reactant_set_id':'ID', 'Ligand SMILES':'SMILES',\\\n",
    "                        'Ligand InChI':'InChI', 'PubChem CID':'PubChem_ID',\n",
    "                        'UniProt (SwissProt) Primary ID of Target Chain':'UniProt_ID',\n",
    "                        'BindingDB Target Chain  Sequence': 'Target Sequence',\n",
    "                            idx_str: 'Label'}, inplace=True)\n",
    "\n",
    "df_want['Label'] = df_want['Label'].str.replace('>', '')\n",
    "df_want['Label'] = df_want['Label'].str.replace('<', '')\n",
    "df_want['Label'] = df_want['Label'].astype(float)\n",
    "\n",
    "# have at least uniprot or pubchem ID\n",
    "df_want = df_want[df_want.PubChem_ID.notnull() | df_want.UniProt_ID.notnull()]\n",
    "df_want = df_want[df_want.InChI.notnull()]\n",
    "\n",
    "df_want = df_want[df_want.Label <= 10000000.0]\n",
    "print('There are ' + str(len(df_want)) + ' drug target pairs.')\n",
    "\n",
    "kd_list = list(df_want.Label.values)\n",
    "\n",
    "ax = sns.distplot(np.log10(remove_zeros_distribution(kd_list)), norm_hist=True)\n",
    "ax.set(xlabel='log Kd', ylabel='pdf')\n",
    "plt.show()"
   ]
  },
  {
   "cell_type": "markdown",
   "metadata": {},
   "source": [
    "# Randomzing the whole bipartite network"
   ]
  },
  {
   "cell_type": "code",
   "execution_count": 6,
   "metadata": {},
   "outputs": [],
   "source": [
    "#threshold = 30 # in nM\n",
    "\n",
    "df_want_Kd = df_want[['SMILES','Target Sequence','Label']]\n",
    "#df_want_Kd['Kd'] = df_want.Label.values\n",
    "#df_want_Kd['Label'] = [1 if x<threshold else 0 for x in kd_list]"
   ]
  },
  {
   "cell_type": "code",
   "execution_count": 7,
   "metadata": {},
   "outputs": [
    {
     "data": {
      "text/html": [
       "<div>\n",
       "<style scoped>\n",
       "    .dataframe tbody tr th:only-of-type {\n",
       "        vertical-align: middle;\n",
       "    }\n",
       "\n",
       "    .dataframe tbody tr th {\n",
       "        vertical-align: top;\n",
       "    }\n",
       "\n",
       "    .dataframe thead th {\n",
       "        text-align: right;\n",
       "    }\n",
       "</style>\n",
       "<table border=\"1\" class=\"dataframe\">\n",
       "  <thead>\n",
       "    <tr style=\"text-align: right;\">\n",
       "      <th></th>\n",
       "      <th>SMILES</th>\n",
       "      <th>Target Sequence</th>\n",
       "      <th>Label</th>\n",
       "    </tr>\n",
       "  </thead>\n",
       "  <tbody>\n",
       "    <tr>\n",
       "      <th>21470</th>\n",
       "      <td>Cc1ccc(CNS(=O)(=O)c2ccc(s2)S(N)(=O)=O)cc1</td>\n",
       "      <td>MSHHWGYGKHNGPEHWHKDFPIAKGERQSPVDIDTHTAKYDPSLKP...</td>\n",
       "      <td>0.46</td>\n",
       "    </tr>\n",
       "    <tr>\n",
       "      <th>21471</th>\n",
       "      <td>COc1ccc(CNS(=O)(=O)c2ccc(s2)S(N)(=O)=O)cc1</td>\n",
       "      <td>MSHHWGYGKHNGPEHWHKDFPIAKGERQSPVDIDTHTAKYDPSLKP...</td>\n",
       "      <td>0.49</td>\n",
       "    </tr>\n",
       "    <tr>\n",
       "      <th>21472</th>\n",
       "      <td>NS(=O)(=O)c1ccc(s1)S(=O)(=O)NCc1cccs1</td>\n",
       "      <td>MSHHWGYGKHNGPEHWHKDFPIAKGERQSPVDIDTHTAKYDPSLKP...</td>\n",
       "      <td>0.83</td>\n",
       "    </tr>\n",
       "    <tr>\n",
       "      <th>21473</th>\n",
       "      <td>NS(=O)(=O)c1cc2C(O)CN(Cc3cccs3)S(=O)(=O)c2s1</td>\n",
       "      <td>MSHHWGYGKHNGPEHWHKDFPIAKGERQSPVDIDTHTAKYDPSLKP...</td>\n",
       "      <td>0.20</td>\n",
       "    </tr>\n",
       "    <tr>\n",
       "      <th>21474</th>\n",
       "      <td>COc1ccc(cc1)N1CC(O)c2cc(sc2S1(=O)=O)S(N)(=O)=O</td>\n",
       "      <td>MSHHWGYGKHNGPEHWHKDFPIAKGERQSPVDIDTHTAKYDPSLKP...</td>\n",
       "      <td>0.16</td>\n",
       "    </tr>\n",
       "    <tr>\n",
       "      <th>...</th>\n",
       "      <td>...</td>\n",
       "      <td>...</td>\n",
       "      <td>...</td>\n",
       "    </tr>\n",
       "    <tr>\n",
       "      <th>2077352</th>\n",
       "      <td>CCCC(=O)c1ccc2Sc3ccccc3N(CCCN3CCN(C)CC3)c2c1</td>\n",
       "      <td>MKWVTFISLLLLFSSAYSRGVFRRDTHKSEIAHRFKDLGEEHFKGL...</td>\n",
       "      <td>16600.00</td>\n",
       "    </tr>\n",
       "    <tr>\n",
       "      <th>2077353</th>\n",
       "      <td>OCCN1CCN(CCCN2c3ccccc3Sc3ccc(Cl)cc23)CC1</td>\n",
       "      <td>MKWVTFISLLLLFSSAYSRGVFRRDTHKSEIAHRFKDLGEEHFKGL...</td>\n",
       "      <td>63100.00</td>\n",
       "    </tr>\n",
       "    <tr>\n",
       "      <th>2077354</th>\n",
       "      <td>CN(C)CCCN1c2ccccc2Sc2ccc(cc12)C#N</td>\n",
       "      <td>MKWVTFISLLLLFSSAYSRGVFRRDTHKSEIAHRFKDLGEEHFKGL...</td>\n",
       "      <td>34700.00</td>\n",
       "    </tr>\n",
       "    <tr>\n",
       "      <th>2077355</th>\n",
       "      <td>OCCN1CCN(CCCN2c3ccccc3Sc3ccc(cc23)C(F)(F)F)CC1</td>\n",
       "      <td>MKWVTFISLLLLFSSAYSRGVFRRDTHKSEIAHRFKDLGEEHFKGL...</td>\n",
       "      <td>38900.00</td>\n",
       "    </tr>\n",
       "    <tr>\n",
       "      <th>2077356</th>\n",
       "      <td>CC(CN1CCN(CCOCCO)CC1)CN1c2ccccc2Sc2ccccc12</td>\n",
       "      <td>MKWVTFISLLLLFSSAYSRGVFRRDTHKSEIAHRFKDLGEEHFKGL...</td>\n",
       "      <td>61700.00</td>\n",
       "    </tr>\n",
       "  </tbody>\n",
       "</table>\n",
       "<p>70750 rows × 3 columns</p>\n",
       "</div>"
      ],
      "text/plain": [
       "                                                 SMILES  \\\n",
       "21470         Cc1ccc(CNS(=O)(=O)c2ccc(s2)S(N)(=O)=O)cc1   \n",
       "21471        COc1ccc(CNS(=O)(=O)c2ccc(s2)S(N)(=O)=O)cc1   \n",
       "21472             NS(=O)(=O)c1ccc(s1)S(=O)(=O)NCc1cccs1   \n",
       "21473      NS(=O)(=O)c1cc2C(O)CN(Cc3cccs3)S(=O)(=O)c2s1   \n",
       "21474    COc1ccc(cc1)N1CC(O)c2cc(sc2S1(=O)=O)S(N)(=O)=O   \n",
       "...                                                 ...   \n",
       "2077352    CCCC(=O)c1ccc2Sc3ccccc3N(CCCN3CCN(C)CC3)c2c1   \n",
       "2077353        OCCN1CCN(CCCN2c3ccccc3Sc3ccc(Cl)cc23)CC1   \n",
       "2077354               CN(C)CCCN1c2ccccc2Sc2ccc(cc12)C#N   \n",
       "2077355  OCCN1CCN(CCCN2c3ccccc3Sc3ccc(cc23)C(F)(F)F)CC1   \n",
       "2077356      CC(CN1CCN(CCOCCO)CC1)CN1c2ccccc2Sc2ccccc12   \n",
       "\n",
       "                                           Target Sequence     Label  \n",
       "21470    MSHHWGYGKHNGPEHWHKDFPIAKGERQSPVDIDTHTAKYDPSLKP...      0.46  \n",
       "21471    MSHHWGYGKHNGPEHWHKDFPIAKGERQSPVDIDTHTAKYDPSLKP...      0.49  \n",
       "21472    MSHHWGYGKHNGPEHWHKDFPIAKGERQSPVDIDTHTAKYDPSLKP...      0.83  \n",
       "21473    MSHHWGYGKHNGPEHWHKDFPIAKGERQSPVDIDTHTAKYDPSLKP...      0.20  \n",
       "21474    MSHHWGYGKHNGPEHWHKDFPIAKGERQSPVDIDTHTAKYDPSLKP...      0.16  \n",
       "...                                                    ...       ...  \n",
       "2077352  MKWVTFISLLLLFSSAYSRGVFRRDTHKSEIAHRFKDLGEEHFKGL...  16600.00  \n",
       "2077353  MKWVTFISLLLLFSSAYSRGVFRRDTHKSEIAHRFKDLGEEHFKGL...  63100.00  \n",
       "2077354  MKWVTFISLLLLFSSAYSRGVFRRDTHKSEIAHRFKDLGEEHFKGL...  34700.00  \n",
       "2077355  MKWVTFISLLLLFSSAYSRGVFRRDTHKSEIAHRFKDLGEEHFKGL...  38900.00  \n",
       "2077356  MKWVTFISLLLLFSSAYSRGVFRRDTHKSEIAHRFKDLGEEHFKGL...  61700.00  \n",
       "\n",
       "[70750 rows x 3 columns]"
      ]
     },
     "execution_count": 7,
     "metadata": {},
     "output_type": "execute_result"
    }
   ],
   "source": [
    "df_want_Kd"
   ]
  },
  {
   "cell_type": "code",
   "execution_count": 8,
   "metadata": {},
   "outputs": [
    {
     "name": "stderr",
     "output_type": "stream",
     "text": [
      "100%|██████████| 70750/70750 [00:00<00:00, 1599550.49it/s]\n"
     ]
    }
   ],
   "source": [
    "threshold = 30 \n",
    "\n",
    "df_want_Kd_binary = pd.DataFrame(df_want_Kd)\n",
    "df_want_Kd_binary['Label'] = [1 if x < threshold else 0 for x in tqdm(df_want_Kd['Label'].tolist())]"
   ]
  },
  {
   "cell_type": "code",
   "execution_count": 9,
   "metadata": {},
   "outputs": [],
   "source": [
    "ligands = list(set(df_want_Kd_binary['SMILES'].tolist()))\n",
    "targets = list(set(df_want_Kd_binary['Target Sequence'].tolist()))"
   ]
  },
  {
   "cell_type": "code",
   "execution_count": 10,
   "metadata": {},
   "outputs": [
    {
     "name": "stderr",
     "output_type": "stream",
     "text": [
      "100%|██████████| 1507/1507 [00:12<00:00, 119.87it/s]\n"
     ]
    }
   ],
   "source": [
    "target_annotations_bindingDB = []\n",
    "target_pos_degree_bindingDB = []\n",
    "target_neg_degree_bindingDB = []\n",
    "target_degree_ratio_bindingDB = []\n",
    "\n",
    "for prot in tqdm(targets):\n",
    "    sub_df = df_want_Kd_binary[df_want_Kd_binary['Target Sequence'] == prot]\n",
    "    target_annotations_bindingDB.append(len(sub_df))\n",
    "    target_pos_degree_bindingDB.append(sub_df['Label'].tolist().count(1))\n",
    "    target_neg_degree_bindingDB.append(sub_df['Label'].tolist().count(0))\n",
    "    target_degree_ratio_bindingDB.append(sub_df['Label'].tolist().count(1)/(sub_df['Label'].tolist().count(1)+sub_df['Label'].tolist().count(0)))"
   ]
  },
  {
   "cell_type": "code",
   "execution_count": 11,
   "metadata": {},
   "outputs": [],
   "source": [
    "p_connection_layer = sum(target_annotations_bindingDB) / (len(targets) * (len(targets)-1))"
   ]
  },
  {
   "cell_type": "code",
   "execution_count": 12,
   "metadata": {},
   "outputs": [],
   "source": [
    "randomized_combined_unipartite = nx.fast_gnp_random_graph(len(targets), p_connection_layer)"
   ]
  },
  {
   "cell_type": "code",
   "execution_count": 13,
   "metadata": {},
   "outputs": [],
   "source": [
    "randomized_combined_unipartite = nx.Graph(randomized_combined_unipartite)"
   ]
  },
  {
   "cell_type": "code",
   "execution_count": 14,
   "metadata": {
    "scrolled": true
   },
   "outputs": [
    {
     "data": {
      "text/plain": [
       "35011"
      ]
     },
     "execution_count": 14,
     "metadata": {},
     "output_type": "execute_result"
    }
   ],
   "source": [
    "randomized_combined_unipartite.number_of_edges()"
   ]
  },
  {
   "cell_type": "markdown",
   "metadata": {},
   "source": [
    "# Target Annotaions and Kd"
   ]
  },
  {
   "cell_type": "code",
   "execution_count": 15,
   "metadata": {},
   "outputs": [],
   "source": [
    "df_want_Kd = df_want[['SMILES','Target Sequence','Label']]"
   ]
  },
  {
   "cell_type": "code",
   "execution_count": 16,
   "metadata": {},
   "outputs": [
    {
     "name": "stderr",
     "output_type": "stream",
     "text": [
      "/miniconda/lib/python3.6/site-packages/ipykernel_launcher.py:6: SettingWithCopyWarning: \n",
      "A value is trying to be set on a copy of a slice from a DataFrame.\n",
      "Try using .loc[row_indexer,col_indexer] = value instead\n",
      "\n",
      "See the caveats in the documentation: https://pandas.pydata.org/pandas-docs/stable/user_guide/indexing.html#returning-a-view-versus-a-copy\n",
      "  \n",
      "100%|██████████| 1507/1507 [00:12<00:00, 120.18it/s]\n",
      "100%|██████████| 172/172 [00:00<00:00, 5607.88it/s]"
     ]
    },
    {
     "name": "stdout",
     "output_type": "stream",
     "text": [
      "Targets - Between k and <Kd>:  SpearmanrResult(correlation=-0.4673048395959652, pvalue=1.0298775028113185e-10)\n"
     ]
    },
    {
     "name": "stderr",
     "output_type": "stream",
     "text": [
      "\n"
     ]
    }
   ],
   "source": [
    "targets = list(set(df_want_Kd['Target Sequence']))\n",
    "target_annotations = []\n",
    "target_average_Kd = []\n",
    "\n",
    "#df_want_Kd = df_want_Kd[df_want_Kd['Label'] != 0]\n",
    "df_want_Kd['Label'] = list(df_want_Kd['Label'].tolist())\n",
    "\n",
    "for prot in tqdm(targets):\n",
    "    sub_df = df_want_Kd[df_want_Kd['Target Sequence'] == prot]\n",
    "    target_annotations.append(len(sub_df))\n",
    "    target_average_Kd.append(np.mean(sub_df['Label'].tolist()))\n",
    "    \n",
    "different_target_annotations = list(set(target_annotations))\n",
    "unique_Kd_targets = []\n",
    "unique_Kd_targets_std = []\n",
    "\n",
    "for unique_ann in tqdm(different_target_annotations):\n",
    "    \n",
    "    all_Kd_list = []    \n",
    "    all_indices = get_all_indices(target_annotations,unique_ann)\n",
    "    \n",
    "    for j in all_indices:\n",
    "        all_Kd_list.append(target_average_Kd[j])\n",
    "        \n",
    "    unique_Kd_targets.append(np.mean(all_Kd_list))\n",
    "    unique_Kd_targets_std.append(np.std(all_Kd_list))\n",
    "    \n",
    "print('Targets - Between k and <Kd>: ', stats.spearmanr(different_target_annotations,unique_Kd_targets))"
   ]
  },
  {
   "cell_type": "code",
   "execution_count": 17,
   "metadata": {},
   "outputs": [
    {
     "name": "stdout",
     "output_type": "stream",
     "text": [
      "Mean and standard deviation of log Kd:  7.104377155054556 3.333661394378017\n"
     ]
    },
    {
     "data": {
      "text/plain": [
       "Text(0, 0.5, 'Average $K_d$')"
      ]
     },
     "execution_count": 17,
     "metadata": {},
     "output_type": "execute_result"
    },
    {
     "data": {
      "image/png": "[encoded data removed]",
      "text/plain": [
       "<Figure size 640x480 with 1 Axes>"
      ]
     },
     "metadata": {
      "needs_background": "light"
     },
     "output_type": "display_data"
    }
   ],
   "source": [
    "mean_log_Kd = np.mean(np.log(remove_zeros_distribution(kd_list)))\n",
    "std_log_Kd = np.std(np.log(remove_zeros_distribution(kd_list)))\n",
    "\n",
    "print('Mean and standard deviation of log Kd: ', mean_log_Kd, std_log_Kd)\n",
    "\n",
    "figure(figsize=(8, 6), dpi=80)\n",
    "\n",
    "sns.scatterplot(different_target_annotations,unique_Kd_targets)\n",
    "plt.xscale('log')\n",
    "plt.yscale('log')\n",
    "plt.xlabel('Target Annotations')\n",
    "plt.ylabel(r'Average $K_d$')"
   ]
  },
  {
   "cell_type": "code",
   "execution_count": 18,
   "metadata": {},
   "outputs": [
    {
     "name": "stdout",
     "output_type": "stream",
     "text": [
      "Average annotations for targets:  46.46449900464499\n"
     ]
    }
   ],
   "source": [
    "mean_poisson = np.mean([randomized_combined_unipartite.degree(node) for node in list(randomized_combined_unipartite.nodes())]) \n",
    "# mean_poisson = np.mean(ligand_annotations_bindingDB)\n",
    "print('Average annotations for targets: ', mean_poisson)"
   ]
  },
  {
   "cell_type": "code",
   "execution_count": 19,
   "metadata": {},
   "outputs": [],
   "source": [
    "mean = [0, 0]\n",
    "cov = [[1, 0], [0, 1]] # No correlation "
   ]
  },
  {
   "cell_type": "code",
   "execution_count": 20,
   "metadata": {
    "scrolled": true
   },
   "outputs": [],
   "source": [
    "x, y = np.random.multivariate_normal(mean, cov, size=100000).T"
   ]
  },
  {
   "cell_type": "code",
   "execution_count": 21,
   "metadata": {},
   "outputs": [],
   "source": [
    "from scipy.stats import norm  \n",
    "\n",
    "U1 = norm.cdf(x)\n",
    "U2 = norm.cdf(y)"
   ]
  },
  {
   "cell_type": "code",
   "execution_count": 22,
   "metadata": {},
   "outputs": [
    {
     "name": "stderr",
     "output_type": "stream",
     "text": [
      "100%|██████████| 100000/100000 [00:34<00:00, 2874.22it/s]\n"
     ]
    }
   ],
   "source": [
    "K_copula_list = []\n",
    "Kd_copula_list = []\n",
    "\n",
    "for i in tqdm(range(len(U1))):\n",
    "    K_copula_list.append(poisson.ppf(U1[i], mean_poisson, loc=0))\n",
    "    Kd_copula_list.append(np.exp(mean_log_Kd + std_log_Kd*norm.ppf(U2[i])))"
   ]
  },
  {
   "cell_type": "code",
   "execution_count": 23,
   "metadata": {},
   "outputs": [
    {
     "data": {
      "image/png": "[encoded data removed]",
      "text/plain": [
       "<Figure size 432x288 with 1 Axes>"
      ]
     },
     "metadata": {
      "needs_background": "light"
     },
     "output_type": "display_data"
    }
   ],
   "source": [
    "plt.scatter(K_copula_list,Kd_copula_list,alpha=0.2)\n",
    "plt.xscale('log')\n",
    "plt.yscale('log')"
   ]
  },
  {
   "cell_type": "code",
   "execution_count": 24,
   "metadata": {},
   "outputs": [
    {
     "data": {
      "text/plain": [
       "SpearmanrResult(correlation=0.003684628901151262, pvalue=0.24394963778219983)"
      ]
     },
     "execution_count": 24,
     "metadata": {},
     "output_type": "execute_result"
    }
   ],
   "source": [
    "stats.spearmanr(Kd_copula_list,K_copula_list)"
   ]
  },
  {
   "cell_type": "markdown",
   "metadata": {},
   "source": [
    "# Adding Randomized Kd Values"
   ]
  },
  {
   "cell_type": "code",
   "execution_count": 25,
   "metadata": {
    "scrolled": true
   },
   "outputs": [
    {
     "name": "stderr",
     "output_type": "stream",
     "text": [
      "100%|██████████| 1507/1507 [02:40<00:00,  9.38it/s]\n"
     ]
    }
   ],
   "source": [
    "target_random_Kd_dict = dict()\n",
    "\n",
    "for node in tqdm(list(randomized_combined_unipartite.nodes())):\n",
    "    degree_node = randomized_combined_unipartite.degree(node)\n",
    "    closest_indices = closest(K_copula_list,degree_node)\n",
    "    Kd_all_list = []\n",
    "    for index in closest_indices:\n",
    "        Kd_all_list.append(Kd_copula_list[index])\n",
    "    target_random_Kd_dict[node] = Kd_all_list"
   ]
  },
  {
   "cell_type": "code",
   "execution_count": 26,
   "metadata": {},
   "outputs": [
    {
     "name": "stderr",
     "output_type": "stream",
     "text": [
      "/miniconda/lib/python3.6/site-packages/ipykernel_launcher.py:5: UserWarning: Attempted to set non-positive bottom ylim on a log-scaled axis.\n",
      "Invalid limit will be ignored.\n",
      "  \"\"\"\n"
     ]
    },
    {
     "data": {
      "text/plain": [
       "(0.0014195943536514037, 100000000)"
      ]
     },
     "execution_count": 26,
     "metadata": {},
     "output_type": "execute_result"
    },
    {
     "data": {
      "image/png": "[encoded data removed]",
      "text/plain": [
       "<Figure size 432x288 with 1 Axes>"
      ]
     },
     "metadata": {
      "needs_background": "light"
     },
     "output_type": "display_data"
    }
   ],
   "source": [
    "plt.scatter([randomized_combined_unipartite.degree(node) for node in list(randomized_combined_unipartite.nodes())],[np.random.choice(target_random_Kd_dict[node]) for node in list(randomized_combined_unipartite.nodes())])\n",
    "plt.yscale('log')\n",
    "plt.xlabel('Target degree')\n",
    "plt.ylabel('Kd Chosen')\n",
    "plt.ylim([0,10**8])"
   ]
  },
  {
   "cell_type": "code",
   "execution_count": 27,
   "metadata": {},
   "outputs": [
    {
     "data": {
      "text/plain": [
       "SpearmanrResult(correlation=-0.04167372143885881, pvalue=0.1058484823775398)"
      ]
     },
     "execution_count": 27,
     "metadata": {},
     "output_type": "execute_result"
    }
   ],
   "source": [
    "stats.spearmanr([randomized_combined_unipartite.degree(node) for node in list(randomized_combined_unipartite.nodes())],[np.random.choice(target_random_Kd_dict[node]) for node in list(randomized_combined_unipartite.nodes())])"
   ]
  },
  {
   "cell_type": "code",
   "execution_count": 28,
   "metadata": {
    "scrolled": true
   },
   "outputs": [
    {
     "name": "stderr",
     "output_type": "stream",
     "text": [
      "100%|██████████| 35011/35011 [00:45<00:00, 768.84it/s]\n"
     ]
    }
   ],
   "source": [
    "targets_list_1 = []\n",
    "targets_list_2 = []\n",
    "Kd_for_edges = []\n",
    "\n",
    "for edge in tqdm(randomized_combined_unipartite.edges()):\n",
    "    targets_list_1.append(targets[edge[0]])\n",
    "    targets_list_2.append(targets[edge[1]])\n",
    "    mu = np.random.choice(target_random_Kd_dict[edge[0]])\n",
    "    #if randomized_combined_unipartite.degree(edge[0]) in different_target_annotations:\n",
    "    #    sigma = unique_Kd_targets_std[different_target_annotations.index(randomized_combined_unipartite.degree(edge[0]))]\n",
    "    #else:\n",
    "    #    sigma = 0\n",
    "    Kd_value_1 = mu # np.random.normal(mu, sigma, 1)\n",
    "    mu = np.random.choice(target_random_Kd_dict[edge[1]])\n",
    "    #if randomized_combined_unipartite.degree(edge[1]) in different_target_annotations:\n",
    "    #    sigma = unique_Kd_targets_std[different_target_annotations.index(randomized_combined_unipartite.degree(edge[1]))]\n",
    "    #else:\n",
    "    #    sigma = 0\n",
    "    Kd_value_2 = mu # np.random.normal(mu, sigma, 1)\n",
    "    Kd_for_edges.append(float(np.sqrt(Kd_value_1*Kd_value_2))) # float(Kd_value_1+Kd_value_2)/2"
   ]
  },
  {
   "cell_type": "code",
   "execution_count": 29,
   "metadata": {},
   "outputs": [
    {
     "name": "stderr",
     "output_type": "stream",
     "text": [
      "100%|██████████| 35011/35011 [00:00<00:00, 111621.49it/s]\n"
     ]
    }
   ],
   "source": [
    "K_list_bleh = []\n",
    "Kd_List_bleh = []\n",
    "i = 0\n",
    "\n",
    "for edge in tqdm(randomized_combined_unipartite.edges()):\n",
    "    K_list_bleh.append(randomized_combined_unipartite.degree(edge[0]))\n",
    "    K_list_bleh.append(randomized_combined_unipartite.degree(edge[1]))\n",
    "    Kd_List_bleh.append(Kd_for_edges[i])\n",
    "    Kd_List_bleh.append(Kd_for_edges[i])\n",
    "    i = i + 1"
   ]
  },
  {
   "cell_type": "code",
   "execution_count": 30,
   "metadata": {},
   "outputs": [
    {
     "name": "stderr",
     "output_type": "stream",
     "text": [
      "/miniconda/lib/python3.6/site-packages/ipykernel_launcher.py:4: UserWarning: Attempted to set non-positive bottom ylim on a log-scaled axis.\n",
      "Invalid limit will be ignored.\n",
      "  after removing the cwd from sys.path.\n"
     ]
    },
    {
     "data": {
      "text/plain": [
       "(0.018180575543465905, 100000000)"
      ]
     },
     "execution_count": 30,
     "metadata": {},
     "output_type": "execute_result"
    },
    {
     "data": {
      "image/png": "[encoded data removed]",
      "text/plain": [
       "<Figure size 432x288 with 1 Axes>"
      ]
     },
     "metadata": {
      "needs_background": "light"
     },
     "output_type": "display_data"
    }
   ],
   "source": [
    "plt.scatter(K_list_bleh,Kd_List_bleh)\n",
    "#plt.xscale('log')\n",
    "plt.yscale('log')\n",
    "plt.ylim([0,10**8])"
   ]
  },
  {
   "cell_type": "code",
   "execution_count": 31,
   "metadata": {},
   "outputs": [
    {
     "data": {
      "text/plain": [
       "SpearmanrResult(correlation=0.0016798671807973444, pvalue=0.6566715191647529)"
      ]
     },
     "execution_count": 31,
     "metadata": {},
     "output_type": "execute_result"
    }
   ],
   "source": [
    "stats.spearmanr(K_list_bleh,Kd_List_bleh)"
   ]
  },
  {
   "cell_type": "markdown",
   "metadata": {},
   "source": [
    "# Making DataFrame"
   ]
  },
  {
   "cell_type": "code",
   "execution_count": 32,
   "metadata": {},
   "outputs": [],
   "source": [
    "randomized_dataframe = pd.DataFrame()\n",
    "\n",
    "randomized_dataframe['Target Sequence 1'] = targets_list_1\n",
    "randomized_dataframe['Target Sequence 2'] = targets_list_2\n",
    "randomized_dataframe['Label'] = Kd_for_edges"
   ]
  },
  {
   "cell_type": "code",
   "execution_count": 33,
   "metadata": {},
   "outputs": [
    {
     "data": {
      "text/html": [
       "<div>\n",
       "<style scoped>\n",
       "    .dataframe tbody tr th:only-of-type {\n",
       "        vertical-align: middle;\n",
       "    }\n",
       "\n",
       "    .dataframe tbody tr th {\n",
       "        vertical-align: top;\n",
       "    }\n",
       "\n",
       "    .dataframe thead th {\n",
       "        text-align: right;\n",
       "    }\n",
       "</style>\n",
       "<table border=\"1\" class=\"dataframe\">\n",
       "  <thead>\n",
       "    <tr style=\"text-align: right;\">\n",
       "      <th></th>\n",
       "      <th>Target Sequence 1</th>\n",
       "      <th>Target Sequence 2</th>\n",
       "      <th>Label</th>\n",
       "    </tr>\n",
       "  </thead>\n",
       "  <tbody>\n",
       "    <tr>\n",
       "      <th>0</th>\n",
       "      <td>MVVMNSLRVILQASPGKLLWRKFQIPRFMPARPCSLYTCTYKTRNR...</td>\n",
       "      <td>MALDVKSRAKRYEKLDFLGEGQFATVYKARDKNTNQIVAIKKIKLG...</td>\n",
       "      <td>2015.957651</td>\n",
       "    </tr>\n",
       "    <tr>\n",
       "      <th>1</th>\n",
       "      <td>MVVMNSLRVILQASPGKLLWRKFQIPRFMPARPCSLYTCTYKTRNR...</td>\n",
       "      <td>MAAAAAAGAGPEMVRGQVFDVGPRYTNLSYIGEGAYGMVCSAYDNV...</td>\n",
       "      <td>22348.464308</td>\n",
       "    </tr>\n",
       "    <tr>\n",
       "      <th>2</th>\n",
       "      <td>MVVMNSLRVILQASPGKLLWRKFQIPRFMPARPCSLYTCTYKTRNR...</td>\n",
       "      <td>MAAAAAAGPEMVRGQVFDVGPRYTNLSYIGEGAYGMVCSAYDNLNK...</td>\n",
       "      <td>526.902984</td>\n",
       "    </tr>\n",
       "    <tr>\n",
       "      <th>3</th>\n",
       "      <td>MVVMNSLRVILQASPGKLLWRKFQIPRFMPARPCSLYTCTYKTRNR...</td>\n",
       "      <td>MAESSDKLYRVEYAKSGRASCKKCSESIPKDSLRMAIMVQSPMFDG...</td>\n",
       "      <td>59.783319</td>\n",
       "    </tr>\n",
       "    <tr>\n",
       "      <th>4</th>\n",
       "      <td>MVVMNSLRVILQASPGKLLWRKFQIPRFMPARPCSLYTCTYKTRNR...</td>\n",
       "      <td>MGHALCVCSRGTVIIDNKRYLFIQKLGEGGFSYVDLVEGLHDGHFY...</td>\n",
       "      <td>127.689522</td>\n",
       "    </tr>\n",
       "    <tr>\n",
       "      <th>...</th>\n",
       "      <td>...</td>\n",
       "      <td>...</td>\n",
       "      <td>...</td>\n",
       "    </tr>\n",
       "    <tr>\n",
       "      <th>35006</th>\n",
       "      <td>MRGLPRGRGLMRARGRGRAAPTGGRGRGRGGAHRGRGRPRSLLSLP...</td>\n",
       "      <td>MAENKGGGEAESGGGGSGSAPVTAGAAGPAAQEAEPPLTAVLVEEE...</td>\n",
       "      <td>2500.563473</td>\n",
       "    </tr>\n",
       "    <tr>\n",
       "      <th>35007</th>\n",
       "      <td>MEELSSVGEQVFAAECILSKRLRKGKLEYLVKWRGWSSKHNSWEPE...</td>\n",
       "      <td>MLQNVTPHNKLPGEGNAGLLGLGPEAAAPGKRIRKPSLLYEGFESP...</td>\n",
       "      <td>515.426970</td>\n",
       "    </tr>\n",
       "    <tr>\n",
       "      <th>35008</th>\n",
       "      <td>MTVVPGDHLLEPEAAGGGGGDPPQGGCGSGGGGGGCDRYEPLPPAL...</td>\n",
       "      <td>MAENKGGGEAESGGGGSGSAPVTAGAAGPAAQEAEPPLTAVLVEEE...</td>\n",
       "      <td>21.010200</td>\n",
       "    </tr>\n",
       "    <tr>\n",
       "      <th>35009</th>\n",
       "      <td>MKKIAITCALLSSLVASSVWADAASDLKSRLDKVSSFHASFTQKVT...</td>\n",
       "      <td>MNASCCLPSVQPTLPNGSEHLQAPFFSNQSSSAFCEQVFIKPEVFL...</td>\n",
       "      <td>2974.445493</td>\n",
       "    </tr>\n",
       "    <tr>\n",
       "      <th>35010</th>\n",
       "      <td>MNASCCLPSVQPTLPNGSEHLQAPFFSNQSSSAFCEQVFIKPEVFL...</td>\n",
       "      <td>MHKTASQRLFPGPSYQNIKSIMEDSTILSDWTNSNKQKMKYDFSCE...</td>\n",
       "      <td>156.055258</td>\n",
       "    </tr>\n",
       "  </tbody>\n",
       "</table>\n",
       "<p>35011 rows × 3 columns</p>\n",
       "</div>"
      ],
      "text/plain": [
       "                                       Target Sequence 1  \\\n",
       "0      MVVMNSLRVILQASPGKLLWRKFQIPRFMPARPCSLYTCTYKTRNR...   \n",
       "1      MVVMNSLRVILQASPGKLLWRKFQIPRFMPARPCSLYTCTYKTRNR...   \n",
       "2      MVVMNSLRVILQASPGKLLWRKFQIPRFMPARPCSLYTCTYKTRNR...   \n",
       "3      MVVMNSLRVILQASPGKLLWRKFQIPRFMPARPCSLYTCTYKTRNR...   \n",
       "4      MVVMNSLRVILQASPGKLLWRKFQIPRFMPARPCSLYTCTYKTRNR...   \n",
       "...                                                  ...   \n",
       "35006  MRGLPRGRGLMRARGRGRAAPTGGRGRGRGGAHRGRGRPRSLLSLP...   \n",
       "35007  MEELSSVGEQVFAAECILSKRLRKGKLEYLVKWRGWSSKHNSWEPE...   \n",
       "35008  MTVVPGDHLLEPEAAGGGGGDPPQGGCGSGGGGGGCDRYEPLPPAL...   \n",
       "35009  MKKIAITCALLSSLVASSVWADAASDLKSRLDKVSSFHASFTQKVT...   \n",
       "35010  MNASCCLPSVQPTLPNGSEHLQAPFFSNQSSSAFCEQVFIKPEVFL...   \n",
       "\n",
       "                                       Target Sequence 2         Label  \n",
       "0      MALDVKSRAKRYEKLDFLGEGQFATVYKARDKNTNQIVAIKKIKLG...   2015.957651  \n",
       "1      MAAAAAAGAGPEMVRGQVFDVGPRYTNLSYIGEGAYGMVCSAYDNV...  22348.464308  \n",
       "2      MAAAAAAGPEMVRGQVFDVGPRYTNLSYIGEGAYGMVCSAYDNLNK...    526.902984  \n",
       "3      MAESSDKLYRVEYAKSGRASCKKCSESIPKDSLRMAIMVQSPMFDG...     59.783319  \n",
       "4      MGHALCVCSRGTVIIDNKRYLFIQKLGEGGFSYVDLVEGLHDGHFY...    127.689522  \n",
       "...                                                  ...           ...  \n",
       "35006  MAENKGGGEAESGGGGSGSAPVTAGAAGPAAQEAEPPLTAVLVEEE...   2500.563473  \n",
       "35007  MLQNVTPHNKLPGEGNAGLLGLGPEAAAPGKRIRKPSLLYEGFESP...    515.426970  \n",
       "35008  MAENKGGGEAESGGGGSGSAPVTAGAAGPAAQEAEPPLTAVLVEEE...     21.010200  \n",
       "35009  MNASCCLPSVQPTLPNGSEHLQAPFFSNQSSSAFCEQVFIKPEVFL...   2974.445493  \n",
       "35010  MHKTASQRLFPGPSYQNIKSIMEDSTILSDWTNSNKQKMKYDFSCE...    156.055258  \n",
       "\n",
       "[35011 rows x 3 columns]"
      ]
     },
     "execution_count": 33,
     "metadata": {},
     "output_type": "execute_result"
    }
   ],
   "source": [
    "randomized_dataframe"
   ]
  },
  {
   "cell_type": "code",
   "execution_count": 34,
   "metadata": {},
   "outputs": [
    {
     "data": {
      "text/plain": [
       "(array([7.000e+00, 1.340e+02, 1.048e+03, 4.329e+03, 9.541e+03, 1.099e+04,\n",
       "        6.533e+03, 2.050e+03, 3.590e+02, 2.000e+01]),\n",
       " array([-3.03364771, -1.08614007,  0.86136757,  2.80887521,  4.75638285,\n",
       "         6.70389049,  8.65139813, 10.59890577, 12.54641341, 14.49392105,\n",
       "        16.44142869]),\n",
       " <a list of 10 Patch objects>)"
      ]
     },
     "execution_count": 34,
     "metadata": {},
     "output_type": "execute_result"
    },
    {
     "data": {
      "image/png": "[encoded data removed]",
      "text/plain": [
       "<Figure size 432x288 with 1 Axes>"
      ]
     },
     "metadata": {
      "needs_background": "light"
     },
     "output_type": "display_data"
    }
   ],
   "source": [
    "plt.hist(np.log(Kd_for_edges))"
   ]
  },
  {
   "cell_type": "code",
   "execution_count": 35,
   "metadata": {},
   "outputs": [
    {
     "name": "stderr",
     "output_type": "stream",
     "text": [
      "100%|██████████| 35011/35011 [00:00<00:00, 1392572.57it/s]"
     ]
    },
    {
     "name": "stdout",
     "output_type": "stream",
     "text": [
      "Threshold:  25.434281752651327\n"
     ]
    },
    {
     "name": "stderr",
     "output_type": "stream",
     "text": [
      "\n"
     ]
    }
   ],
   "source": [
    "threshold = np.exp(np.mean(np.log(Kd_for_edges)) + norm.ppf(0.05) * np.std(np.log(Kd_for_edges))) ## 30 \n",
    "print('Threshold: ', threshold)\n",
    "\n",
    "binary_labels = [1 if x < threshold else 0 for x in tqdm(randomized_dataframe['Label'].tolist())]\n",
    "\n",
    "randomized_dataframe['Label'] = binary_labels"
   ]
  },
  {
   "cell_type": "code",
   "execution_count": 36,
   "metadata": {},
   "outputs": [
    {
     "data": {
      "text/html": [
       "<div>\n",
       "<style scoped>\n",
       "    .dataframe tbody tr th:only-of-type {\n",
       "        vertical-align: middle;\n",
       "    }\n",
       "\n",
       "    .dataframe tbody tr th {\n",
       "        vertical-align: top;\n",
       "    }\n",
       "\n",
       "    .dataframe thead th {\n",
       "        text-align: right;\n",
       "    }\n",
       "</style>\n",
       "<table border=\"1\" class=\"dataframe\">\n",
       "  <thead>\n",
       "    <tr style=\"text-align: right;\">\n",
       "      <th></th>\n",
       "      <th>Target Sequence 1</th>\n",
       "      <th>Target Sequence 2</th>\n",
       "      <th>Label</th>\n",
       "    </tr>\n",
       "  </thead>\n",
       "  <tbody>\n",
       "    <tr>\n",
       "      <th>0</th>\n",
       "      <td>MVVMNSLRVILQASPGKLLWRKFQIPRFMPARPCSLYTCTYKTRNR...</td>\n",
       "      <td>MALDVKSRAKRYEKLDFLGEGQFATVYKARDKNTNQIVAIKKIKLG...</td>\n",
       "      <td>0</td>\n",
       "    </tr>\n",
       "    <tr>\n",
       "      <th>1</th>\n",
       "      <td>MVVMNSLRVILQASPGKLLWRKFQIPRFMPARPCSLYTCTYKTRNR...</td>\n",
       "      <td>MAAAAAAGAGPEMVRGQVFDVGPRYTNLSYIGEGAYGMVCSAYDNV...</td>\n",
       "      <td>0</td>\n",
       "    </tr>\n",
       "    <tr>\n",
       "      <th>2</th>\n",
       "      <td>MVVMNSLRVILQASPGKLLWRKFQIPRFMPARPCSLYTCTYKTRNR...</td>\n",
       "      <td>MAAAAAAGPEMVRGQVFDVGPRYTNLSYIGEGAYGMVCSAYDNLNK...</td>\n",
       "      <td>0</td>\n",
       "    </tr>\n",
       "    <tr>\n",
       "      <th>3</th>\n",
       "      <td>MVVMNSLRVILQASPGKLLWRKFQIPRFMPARPCSLYTCTYKTRNR...</td>\n",
       "      <td>MAESSDKLYRVEYAKSGRASCKKCSESIPKDSLRMAIMVQSPMFDG...</td>\n",
       "      <td>0</td>\n",
       "    </tr>\n",
       "    <tr>\n",
       "      <th>4</th>\n",
       "      <td>MVVMNSLRVILQASPGKLLWRKFQIPRFMPARPCSLYTCTYKTRNR...</td>\n",
       "      <td>MGHALCVCSRGTVIIDNKRYLFIQKLGEGGFSYVDLVEGLHDGHFY...</td>\n",
       "      <td>0</td>\n",
       "    </tr>\n",
       "    <tr>\n",
       "      <th>...</th>\n",
       "      <td>...</td>\n",
       "      <td>...</td>\n",
       "      <td>...</td>\n",
       "    </tr>\n",
       "    <tr>\n",
       "      <th>35006</th>\n",
       "      <td>MRGLPRGRGLMRARGRGRAAPTGGRGRGRGGAHRGRGRPRSLLSLP...</td>\n",
       "      <td>MAENKGGGEAESGGGGSGSAPVTAGAAGPAAQEAEPPLTAVLVEEE...</td>\n",
       "      <td>0</td>\n",
       "    </tr>\n",
       "    <tr>\n",
       "      <th>35007</th>\n",
       "      <td>MEELSSVGEQVFAAECILSKRLRKGKLEYLVKWRGWSSKHNSWEPE...</td>\n",
       "      <td>MLQNVTPHNKLPGEGNAGLLGLGPEAAAPGKRIRKPSLLYEGFESP...</td>\n",
       "      <td>0</td>\n",
       "    </tr>\n",
       "    <tr>\n",
       "      <th>35008</th>\n",
       "      <td>MTVVPGDHLLEPEAAGGGGGDPPQGGCGSGGGGGGCDRYEPLPPAL...</td>\n",
       "      <td>MAENKGGGEAESGGGGSGSAPVTAGAAGPAAQEAEPPLTAVLVEEE...</td>\n",
       "      <td>1</td>\n",
       "    </tr>\n",
       "    <tr>\n",
       "      <th>35009</th>\n",
       "      <td>MKKIAITCALLSSLVASSVWADAASDLKSRLDKVSSFHASFTQKVT...</td>\n",
       "      <td>MNASCCLPSVQPTLPNGSEHLQAPFFSNQSSSAFCEQVFIKPEVFL...</td>\n",
       "      <td>0</td>\n",
       "    </tr>\n",
       "    <tr>\n",
       "      <th>35010</th>\n",
       "      <td>MNASCCLPSVQPTLPNGSEHLQAPFFSNQSSSAFCEQVFIKPEVFL...</td>\n",
       "      <td>MHKTASQRLFPGPSYQNIKSIMEDSTILSDWTNSNKQKMKYDFSCE...</td>\n",
       "      <td>0</td>\n",
       "    </tr>\n",
       "  </tbody>\n",
       "</table>\n",
       "<p>35011 rows × 3 columns</p>\n",
       "</div>"
      ],
      "text/plain": [
       "                                       Target Sequence 1  \\\n",
       "0      MVVMNSLRVILQASPGKLLWRKFQIPRFMPARPCSLYTCTYKTRNR...   \n",
       "1      MVVMNSLRVILQASPGKLLWRKFQIPRFMPARPCSLYTCTYKTRNR...   \n",
       "2      MVVMNSLRVILQASPGKLLWRKFQIPRFMPARPCSLYTCTYKTRNR...   \n",
       "3      MVVMNSLRVILQASPGKLLWRKFQIPRFMPARPCSLYTCTYKTRNR...   \n",
       "4      MVVMNSLRVILQASPGKLLWRKFQIPRFMPARPCSLYTCTYKTRNR...   \n",
       "...                                                  ...   \n",
       "35006  MRGLPRGRGLMRARGRGRAAPTGGRGRGRGGAHRGRGRPRSLLSLP...   \n",
       "35007  MEELSSVGEQVFAAECILSKRLRKGKLEYLVKWRGWSSKHNSWEPE...   \n",
       "35008  MTVVPGDHLLEPEAAGGGGGDPPQGGCGSGGGGGGCDRYEPLPPAL...   \n",
       "35009  MKKIAITCALLSSLVASSVWADAASDLKSRLDKVSSFHASFTQKVT...   \n",
       "35010  MNASCCLPSVQPTLPNGSEHLQAPFFSNQSSSAFCEQVFIKPEVFL...   \n",
       "\n",
       "                                       Target Sequence 2  Label  \n",
       "0      MALDVKSRAKRYEKLDFLGEGQFATVYKARDKNTNQIVAIKKIKLG...      0  \n",
       "1      MAAAAAAGAGPEMVRGQVFDVGPRYTNLSYIGEGAYGMVCSAYDNV...      0  \n",
       "2      MAAAAAAGPEMVRGQVFDVGPRYTNLSYIGEGAYGMVCSAYDNLNK...      0  \n",
       "3      MAESSDKLYRVEYAKSGRASCKKCSESIPKDSLRMAIMVQSPMFDG...      0  \n",
       "4      MGHALCVCSRGTVIIDNKRYLFIQKLGEGGFSYVDLVEGLHDGHFY...      0  \n",
       "...                                                  ...    ...  \n",
       "35006  MAENKGGGEAESGGGGSGSAPVTAGAAGPAAQEAEPPLTAVLVEEE...      0  \n",
       "35007  MLQNVTPHNKLPGEGNAGLLGLGPEAAAPGKRIRKPSLLYEGFESP...      0  \n",
       "35008  MAENKGGGEAESGGGGSGSAPVTAGAAGPAAQEAEPPLTAVLVEEE...      1  \n",
       "35009  MNASCCLPSVQPTLPNGSEHLQAPFFSNQSSSAFCEQVFIKPEVFL...      0  \n",
       "35010  MHKTASQRLFPGPSYQNIKSIMEDSTILSDWTNSNKQKMKYDFSCE...      0  \n",
       "\n",
       "[35011 rows x 3 columns]"
      ]
     },
     "execution_count": 36,
     "metadata": {},
     "output_type": "execute_result"
    }
   ],
   "source": [
    "randomized_dataframe"
   ]
  },
  {
   "cell_type": "code",
   "execution_count": 37,
   "metadata": {},
   "outputs": [
    {
     "name": "stdout",
     "output_type": "stream",
     "text": [
      "33256\n",
      "1755\n"
     ]
    }
   ],
   "source": [
    "print(randomized_dataframe['Label'].tolist().count(0))\n",
    "print(randomized_dataframe['Label'].tolist().count(1))"
   ]
  },
  {
   "cell_type": "code",
   "execution_count": 38,
   "metadata": {},
   "outputs": [],
   "source": [
    "targets = list(set(randomized_dataframe['Target Sequence 1'].tolist()).union(set(randomized_dataframe['Target Sequence 2'].tolist())))"
   ]
  },
  {
   "cell_type": "code",
   "execution_count": 76,
   "metadata": {},
   "outputs": [
    {
     "name": "stderr",
     "output_type": "stream",
     "text": [
      "100%|██████████| 1507/1507 [00:17<00:00, 88.46it/s] \n"
     ]
    }
   ],
   "source": [
    "target_annotations_randomized = []\n",
    "target_pos_degree_randomized = []\n",
    "target_neg_degree_randomized = []\n",
    "target_degree_ratio_randomized = []\n",
    "Kd_targets_average_list = []\n",
    "\n",
    "for prot in tqdm(targets):\n",
    "    \n",
    "    if prot in randomized_dataframe['Target Sequence 1'].tolist() and prot not in randomized_dataframe['Target Sequence 2'].tolist():\n",
    "        \n",
    "        sub_df = randomized_dataframe[randomized_dataframe['Target Sequence 1'] == prot]\n",
    "        target_annotations_randomized.append(len(sub_df))\n",
    "        target_pos_degree_randomized.append(sub_df['Label'].tolist().count(1))\n",
    "        target_neg_degree_randomized.append(sub_df['Label'].tolist().count(0))\n",
    "        target_degree_ratio_randomized.append(sub_df['Label'].tolist().count(1)/(sub_df['Label'].tolist().count(1)+sub_df['Label'].tolist().count(0)))\n",
    "    \n",
    "    elif prot in randomized_dataframe['Target Sequence 1'].tolist() and prot not in randomized_dataframe['Target Sequence 2'].tolist():\n",
    "        \n",
    "        sub_df = randomized_dataframe[randomized_dataframe['Target Sequence 2'] == prot]\n",
    "        target_annotations_randomized.append(len(sub_df))\n",
    "        target_pos_degree_randomized.append(sub_df['Label'].tolist().count(1))\n",
    "        target_neg_degree_randomized.append(sub_df['Label'].tolist().count(0))\n",
    "        target_degree_ratio_randomized.append(sub_df['Label'].tolist().count(1)/(sub_df['Label'].tolist().count(1)+sub_df['Label'].tolist().count(0)))\n",
    "    \n",
    "    elif prot in randomized_dataframe['Target Sequence 1'].tolist() and prot in randomized_dataframe['Target Sequence 2'].tolist():\n",
    "        \n",
    "        sub_df1 = randomized_dataframe[randomized_dataframe['Target Sequence 1'] == prot]\n",
    "        sub_df2 = randomized_dataframe[randomized_dataframe['Target Sequence 2'] == prot]\n",
    "        sub_df = pd.concat([sub_df1,sub_df2])\n",
    "        target_annotations_randomized.append(len(sub_df))\n",
    "        target_pos_degree_randomized.append(sub_df['Label'].tolist().count(1))\n",
    "        target_neg_degree_randomized.append(sub_df['Label'].tolist().count(0))\n",
    "        target_degree_ratio_randomized.append(sub_df['Label'].tolist().count(1)/(sub_df['Label'].tolist().count(1)+sub_df['Label'].tolist().count(0)))"
   ]
  },
  {
   "cell_type": "code",
   "execution_count": 77,
   "metadata": {},
   "outputs": [
    {
     "data": {
      "text/plain": [
       "<matplotlib.legend.Legend at 0x7fdc79cee198>"
      ]
     },
     "execution_count": 77,
     "metadata": {},
     "output_type": "execute_result"
    },
    {
     "data": {
      "image/png": "[encoded data removed]",
      "text/plain": [
       "<Figure size 640x480 with 1 Axes>"
      ]
     },
     "metadata": {
      "needs_background": "light"
     },
     "output_type": "display_data"
    }
   ],
   "source": [
    "figure(figsize=(8, 6), dpi=80)\n",
    "\n",
    "sns.distplot(target_annotations_bindingDB, norm_hist=True, label='Original')\n",
    "sns.distplot([randomized_combined_unipartite.degree(node) for node in list(randomized_combined_unipartite.nodes())], norm_hist=True, label='Randomized')\n",
    "#axs[3, 0].set_xscale('log')\n",
    "#axs[3, 0].set_yscale('log')\n",
    "plt.title('Targets')\n",
    "plt.xlabel(r'$K$')\n",
    "plt.ylabel('PDF')\n",
    "plt.legend()"
   ]
  },
  {
   "cell_type": "code",
   "execution_count": 78,
   "metadata": {},
   "outputs": [
    {
     "name": "stdout",
     "output_type": "stream",
     "text": [
      "TARGETS\n",
      "Original - Between k and k+:  SpearmanrResult(correlation=0.6581040571662816, pvalue=1.017395698392328e-187)\n",
      "Original - Between k and k-:  SpearmanrResult(correlation=0.933866781238621, pvalue=0.0)\n",
      "Original - Between k+ and k-:  SpearmanrResult(correlation=0.4447684177648136, pvalue=4.253892323025037e-74)\n",
      "-------------------------------------------------------------------------------------------------------------\n",
      "Shuffled - Between k and k+:  SpearmanrResult(correlation=0.20729445309784203, pvalue=1.0098897036174323e-15)\n",
      "Shuffled - Between k and k-:  SpearmanrResult(correlation=0.971357097193085, pvalue=0.0)\n",
      "Shuffled - Between k+ and k-:  SpearmanrResult(correlation=-0.005555074415346505, pvalue=0.831535449707616)\n"
     ]
    }
   ],
   "source": [
    "print('TARGETS')\n",
    "\n",
    "print('Original - Between k and k+: ', stats.spearmanr(target_annotations_bindingDB, target_pos_degree_bindingDB))\n",
    "print('Original - Between k and k-: ', stats.spearmanr(target_annotations_bindingDB, target_neg_degree_bindingDB))\n",
    "print('Original - Between k+ and k-: ', stats.spearmanr(target_pos_degree_bindingDB, target_neg_degree_bindingDB))\n",
    "\n",
    "print('-------------------------------------------------------------------------------------------------------------')\n",
    "\n",
    "print('Shuffled - Between k and k+: ', stats.spearmanr(target_annotations_randomized, target_pos_degree_randomized))\n",
    "print('Shuffled - Between k and k-: ', stats.spearmanr(target_annotations_randomized, target_neg_degree_randomized))\n",
    "print('Shuffled - Between k+ and k-: ', stats.spearmanr(target_pos_degree_randomized, target_neg_degree_randomized))"
   ]
  },
  {
   "cell_type": "code",
   "execution_count": 79,
   "metadata": {
    "scrolled": true
   },
   "outputs": [
    {
     "data": {
      "text/plain": [
       "<matplotlib.collections.PathCollection at 0x7fdc867e33c8>"
      ]
     },
     "execution_count": 79,
     "metadata": {},
     "output_type": "execute_result"
    },
    {
     "data": {
      "image/png": "[encoded data removed]",
      "text/plain": [
       "<Figure size 432x288 with 1 Axes>"
      ]
     },
     "metadata": {
      "needs_background": "light"
     },
     "output_type": "display_data"
    }
   ],
   "source": [
    "plt.scatter(target_annotations_randomized, target_degree_ratio_randomized)"
   ]
  },
  {
   "cell_type": "code",
   "execution_count": 80,
   "metadata": {},
   "outputs": [
    {
     "data": {
      "image/png": "[encoded data removed]",
      "text/plain": [
       "<Figure size 720x720 with 4 Axes>"
      ]
     },
     "metadata": {
      "needs_background": "light"
     },
     "output_type": "display_data"
    }
   ],
   "source": [
    "fig, axs = plt.subplots(2, 2, figsize=(10,10))\n",
    "\n",
    "binned_deg_ann, binned_ki_ann = log_binning_distribution(target_annotations_bindingDB,B = 20)\n",
    "axs[0, 0].scatter(binned_deg_ann, binned_ki_ann, label='Original',alpha=0.2)\n",
    "binned_deg_ann, binned_ki_ann = log_binning_distribution(target_annotations_randomized,B = 20)\n",
    "axs[0, 0].scatter(binned_deg_ann, binned_ki_ann, label='Randomized', marker='x', alpha=0.4)\n",
    "axs[0, 0].set_xscale('log')\n",
    "axs[0, 0].set_yscale('log')\n",
    "axs[0, 0].set_xlabel('$K$')\n",
    "axs[0, 0].set_ylabel('PDF')\n",
    "# axs[0, 0].set_title('Targets')\n",
    "axs[0, 0].legend()\n",
    "\n",
    "binned_deg_ann, binned_ki_ann = log_binning_distribution(target_pos_degree_bindingDB,B = 20)\n",
    "axs[0, 1].scatter(binned_deg_ann, binned_ki_ann, label='Original',alpha=0.2)\n",
    "binned_deg_ann, binned_ki_ann = log_binning_distribution(target_pos_degree_randomized,B = 20)\n",
    "axs[0, 1].scatter(binned_deg_ann, binned_ki_ann, label='Randomized', marker='x', alpha=0.4)\n",
    "axs[0, 1].set_xscale('log')\n",
    "axs[0, 1].set_yscale('log')\n",
    "axs[0, 1].set_xlabel('$K_+$')\n",
    "axs[0, 1].set_ylabel('PDF')\n",
    "axs[0, 1].legend()\n",
    "\n",
    "binned_deg_ann, binned_ki_ann = log_binning_distribution(target_neg_degree_bindingDB,B = 20)\n",
    "axs[1, 0].scatter(binned_deg_ann, binned_ki_ann, label='Original',alpha=0.2)\n",
    "binned_deg_ann, binned_ki_ann = log_binning_distribution(target_neg_degree_randomized,B = 20)\n",
    "axs[1, 0].scatter(binned_deg_ann, binned_ki_ann, label='Randomized', marker='x', alpha=0.4)\n",
    "axs[1, 0].set_xscale('log')\n",
    "axs[1, 0].set_yscale('log')\n",
    "axs[1, 0].set_xlabel('$K_-$')\n",
    "axs[1, 0].set_ylabel('PDF')\n",
    "axs[1, 0].legend()\n",
    "\n",
    "#binned_deg_ann, binned_ki_ann = log_binning_distribution(ligand_neg_degree_original,B = 20)\n",
    "sns.distplot(target_degree_ratio_bindingDB, ax=axs[1, 1], norm_hist=True, label='Original')\n",
    "#axs[3, 0].hist(ligand_degree_ratio_bindingDB_original, label='Original',alpha=0.2)\n",
    "#binned_deg_ann, binned_ki_ann = log_binning_distribution(ligand_neg_degree_shuffled,B = 20)\n",
    "sns.distplot(target_degree_ratio_randomized, ax=axs[1, 1], norm_hist=True, label='Randomized')\n",
    "#axs[3, 0].hist(ligand_degree_ratio_bindingDB_shuffled, label='Randomized Kd', alpha=0.2)\n",
    "#axs[3, 0].set_xscale('log')\n",
    "#axs[3, 0].set_yscale('log')\n",
    "axs[1, 1].set_xlabel(r'$\\rho$')\n",
    "axs[1, 1].set_ylabel('PDF')\n",
    "axs[1, 1].legend()\n",
    "axs[1, 1].set_xlim([0.0, 1.0])\n",
    "\n",
    "fig.tight_layout()"
   ]
  },
  {
   "cell_type": "markdown",
   "metadata": {},
   "source": [
    "# Duplex Configuration Model"
   ]
  },
  {
   "cell_type": "code",
   "execution_count": 44,
   "metadata": {},
   "outputs": [],
   "source": [
    "from sklearn.model_selection import train_test_split\n",
    "\n",
    "train, test = train_test_split(randomized_dataframe, test_size=0.3)"
   ]
  },
  {
   "cell_type": "code",
   "execution_count": 45,
   "metadata": {
    "scrolled": true
   },
   "outputs": [],
   "source": [
    "train.to_csv('../../data/Unipartite/pbind_0p05/train.csv')\n",
    "test.to_csv('../../data/Unipartite/pbind_0p05/test.csv')"
   ]
  },
  {
   "cell_type": "code",
   "execution_count": 46,
   "metadata": {},
   "outputs": [],
   "source": [
    "targets = list(set(train['Target Sequence 1'].tolist()).union(set(train['Target Sequence 2'].tolist())))"
   ]
  },
  {
   "cell_type": "code",
   "execution_count": 47,
   "metadata": {},
   "outputs": [
    {
     "data": {
      "text/plain": [
       "1507"
      ]
     },
     "execution_count": 47,
     "metadata": {},
     "output_type": "execute_result"
    }
   ],
   "source": [
    "len(targets)"
   ]
  },
  {
   "cell_type": "code",
   "execution_count": 48,
   "metadata": {
    "scrolled": true
   },
   "outputs": [
    {
     "name": "stderr",
     "output_type": "stream",
     "text": [
      "100%|██████████| 1507/1507 [00:06<00:00, 222.04it/s]\n",
      "100%|██████████| 1507/1507 [00:06<00:00, 221.05it/s]\n",
      "100%|██████████| 1507/1507 [00:00<00:00, 1035011.65it/s]\n",
      "100%|██████████| 1507/1507 [00:00<00:00, 1174872.89it/s]\n"
     ]
    }
   ],
   "source": [
    "targets_degree_dict = dict()\n",
    "\n",
    "for aa_target in tqdm(targets):\n",
    "    sum_df = train[train['Target Sequence 1'] == aa_target]\n",
    "    targets_degree_dict[aa_target] = dict()\n",
    "    targets_degree_dict[aa_target]['deg_0'] = len(sum_df[sum_df['Label'] == 0])\n",
    "    targets_degree_dict[aa_target]['deg_1'] = len(sum_df[sum_df['Label'] == 1])\n",
    "    \n",
    "for aa_target in tqdm(targets):\n",
    "    sum_df = train[train['Target Sequence 2'] == aa_target]\n",
    "    if aa_target in targets_degree_dict.keys():\n",
    "        targets_degree_dict[aa_target]['deg_0'] = targets_degree_dict[aa_target]['deg_0'] + len(sum_df[sum_df['Label'] == 0])\n",
    "        targets_degree_dict[aa_target]['deg_1'] = targets_degree_dict[aa_target]['deg_1'] + len(sum_df[sum_df['Label'] == 1])\n",
    "    else:\n",
    "        targets_degree_dict[aa_target] = dict()\n",
    "        targets_degree_dict[aa_target]['deg_0'] = len(sum_df[sum_df['Label'] == 0])\n",
    "        targets_degree_dict[aa_target]['deg_1'] = len(sum_df[sum_df['Label'] == 1])\n",
    "        \n",
    "degree_train_1_0_targets = [targets_degree_dict[key_val]['deg_1'] for key_val in tqdm(targets)]\n",
    "degree_train_0_1_targets = [targets_degree_dict[key_val]['deg_0'] for key_val in tqdm(targets)]"
   ]
  },
  {
   "cell_type": "code",
   "execution_count": 49,
   "metadata": {
    "scrolled": true
   },
   "outputs": [],
   "source": [
    "with open('../../data/Unipartite/pbind_0p05/degreetrain10targets.txt', 'w') as file:\n",
    "    for degree in degree_train_1_0_targets:\n",
    "        file.write(\"%i\\n\" % degree)\n",
    "        \n",
    "file.close()\n",
    "\n",
    "with open('../../data/Unipartite/pbind_0p05/degreetrain01targets.txt', 'w') as file:\n",
    "    for degree in degree_train_0_1_targets:\n",
    "        file.write(\"%i\\n\" % degree)\n",
    "        \n",
    "file.close()\n",
    "\n",
    "textfile = open(\"../../data/Unipartite/pbind_0p05/targets.txt\", \"w\")\n",
    "for element in targets:\n",
    "    textfile.write(element + \"\\n\")\n",
    "textfile.close()"
   ]
  },
  {
   "cell_type": "code",
   "execution_count": 50,
   "metadata": {},
   "outputs": [],
   "source": [
    "summat10 = np.loadtxt(open(\"../../data/Unipartite/pbind_0p05/summat10.csv\", \"rb\"), delimiter=\",\", skiprows=0) # Output of MATLAB run\n",
    "summat01 = np.loadtxt(open(\"../../data/Unipartite/pbind_0p05/summat01.csv\", \"rb\"), delimiter=\",\", skiprows=0) # Output of MATLAB run "
   ]
  },
  {
   "cell_type": "code",
   "execution_count": 51,
   "metadata": {
    "scrolled": true
   },
   "outputs": [
    {
     "name": "stderr",
     "output_type": "stream",
     "text": [
      "100%|██████████| 1507/1507 [00:00<00:00, 356584.46it/s]\n"
     ]
    }
   ],
   "source": [
    "train_pos = train[train['Label'] == 1]\n",
    "train_neg = train[train['Label'] == 0]\n",
    "\n",
    "pos_deg_0_targets = []\n",
    "neg_deg_0_targets = []\n",
    "\n",
    "targets_degree_ratio = dict()\n",
    "target_all_average = []\n",
    "\n",
    "for target in tqdm(targets):\n",
    "    pos_deg = targets_degree_dict[target]['deg_1']\n",
    "    neg_deg = targets_degree_dict[target]['deg_0']\n",
    "    if pos_deg + neg_deg != 0:\n",
    "        targets_degree_ratio[target] = dict()\n",
    "        targets_degree_ratio[target]['deg_ratio'] = pos_deg / (pos_deg + neg_deg)\n",
    "        targets_degree_ratio[target]['deg_avg'] = pos_deg / len(targets)\n",
    "        target_all_average.append(pos_deg / len(targets))\n",
    "    if pos_deg == 0:\n",
    "        pos_deg_0_targets.append(target)\n",
    "    if neg_deg == 0:\n",
    "        neg_deg_0_targets.append(target)\n",
    "    \n",
    "targets_all_avg = sum(target_all_average) / len(targets)"
   ]
  },
  {
   "cell_type": "code",
   "execution_count": 52,
   "metadata": {
    "scrolled": true
   },
   "outputs": [],
   "source": [
    "## Annotated means the node has at least 1 binding information\n",
    "\n",
    "pos_annotated_targets = list(set(targets)-set(pos_deg_0_targets))\n",
    "\n",
    "neg_annotated_targets = list(set(targets)-set(neg_deg_0_targets))"
   ]
  },
  {
   "cell_type": "code",
   "execution_count": 53,
   "metadata": {
    "scrolled": true
   },
   "outputs": [
    {
     "name": "stderr",
     "output_type": "stream",
     "text": [
      "10504it [00:02, 3815.45it/s]\n"
     ]
    }
   ],
   "source": [
    "test_probabilty_predicted_conditioned = []\n",
    "\n",
    "## Average conditional probability\n",
    "p10_avg = np.mean(summat10)\n",
    "p01_avg = np.mean(summat01)\n",
    "average_conditional_probability = p10_avg / (p10_avg + p01_avg)\n",
    "\n",
    "for index, row in tqdm(test.iterrows()):      \n",
    "    \n",
    "    if row['Target Sequence 1'] in pos_annotated_targets and row['Target Sequence 2'] in pos_annotated_targets:\n",
    "        p10 = summat10[targets.index(row['Target Sequence 1']),targets.index(row['Target Sequence 2'])]\n",
    "        p01 = summat01[targets.index(row['Target Sequence 1']),targets.index(row['Target Sequence 2'])]\n",
    "        p10_conditioned = p10 / (p10 + p01)\n",
    "        test_probabilty_predicted_conditioned.append(p10_conditioned)\n",
    "        \n",
    "    elif row['Target Sequence 1'] in pos_annotated_targets and row['Target Sequence 2'] not in pos_annotated_targets:\n",
    "        p10_conditioned = targets_degree_ratio[row['Target Sequence 1']]['deg_ratio']  ## k_+ / (k_+ + k_-)\n",
    "        test_probabilty_predicted_conditioned.append(p10_conditioned)\n",
    "        \n",
    "    elif row['Target Sequence 1'] not in pos_annotated_targets and row['Target Sequence 2'] in pos_annotated_targets:\n",
    "        p10_conditioned = targets_degree_ratio[row['Target Sequence 2']]['deg_ratio'] ## k_+ / (k_+ + k_-)\n",
    "        test_probabilty_predicted_conditioned.append(p10_conditioned)\n",
    "\n",
    "    else:\n",
    "        p10_conditioned = average_conditional_probability\n",
    "        test_probabilty_predicted_conditioned.append(p10_conditioned)\n",
    "        "
   ]
  },
  {
   "cell_type": "code",
   "execution_count": 54,
   "metadata": {
    "scrolled": true
   },
   "outputs": [
    {
     "name": "stdout",
     "output_type": "stream",
     "text": [
      "AUC:  0.49477391364816864\n",
      "AUP:  0.04952514991368095\n"
     ]
    }
   ],
   "source": [
    "## Performance on the test dataset\n",
    "\n",
    "print('AUC: ', roc_auc_score(test['Label'].tolist(), test_probabilty_predicted_conditioned))\n",
    "print('AUP: ', average_precision_score(test['Label'].tolist(), test_probabilty_predicted_conditioned))"
   ]
  },
  {
   "cell_type": "code",
   "execution_count": 55,
   "metadata": {
    "scrolled": true
   },
   "outputs": [
    {
     "name": "stdout",
     "output_type": "stream",
     "text": [
      "Seen targets 1:  1452\n",
      "Seen targets 2:  1467\n",
      "Unseen targets 1:  17\n",
      "Unseen targets 2:  11\n"
     ]
    },
    {
     "name": "stderr",
     "output_type": "stream",
     "text": [
      "/miniconda/lib/python3.6/site-packages/ipykernel_launcher.py:1: SettingWithCopyWarning: \n",
      "A value is trying to be set on a copy of a slice from a DataFrame.\n",
      "Try using .loc[row_indexer,col_indexer] = value instead\n",
      "\n",
      "See the caveats in the documentation: https://pandas.pydata.org/pandas-docs/stable/user_guide/indexing.html#returning-a-view-versus-a-copy\n",
      "  \"\"\"Entry point for launching an IPython kernel.\n"
     ]
    }
   ],
   "source": [
    "test['test_probabilty_predicted_conditioned'] = test_probabilty_predicted_conditioned\n",
    "test = test[~test['test_probabilty_predicted_conditioned'].isna()]\n",
    "\n",
    "train_targets1 = list(set(train['Target Sequence 1'].tolist()))\n",
    "train_targets2 = list(set(train['Target Sequence 2'].tolist()))\n",
    "\n",
    "test_minus_train_targets1 = list(set(test['Target Sequence 1'].tolist()).difference(train_targets1))\n",
    "test_minus_train_targets2 = list(set(test['Target Sequence 2'].tolist()).difference(train_targets2))\n",
    "\n",
    "print('Seen targets 1: ', len(train_targets1))\n",
    "print('Seen targets 2: ', len(train_targets2))\n",
    "print('Unseen targets 1: ', len(test_minus_train_targets1))\n",
    "print('Unseen targets 2: ', len(test_minus_train_targets2))"
   ]
  },
  {
   "cell_type": "code",
   "execution_count": 56,
   "metadata": {
    "scrolled": true
   },
   "outputs": [
    {
     "name": "stdout",
     "output_type": "stream",
     "text": [
      "Unseen edges:  10461\n",
      "AUC:  0.49479043164939734\n",
      "AUP:  0.049563965516129696\n"
     ]
    }
   ],
   "source": [
    "# Unseen Edges\n",
    "\n",
    "test_unseen_edges = test[test['Target Sequence 1'].isin(train_targets1) & test['Target Sequence 2'].isin(train_targets2)]\n",
    "print('Unseen edges: ', len(test_unseen_edges))\n",
    "\n",
    "print('AUC: ', roc_auc_score(test_unseen_edges['Label'].tolist(), test_unseen_edges['test_probabilty_predicted_conditioned']))\n",
    "print('AUP: ', average_precision_score(test_unseen_edges['Label'].tolist(), test_unseen_edges['test_probabilty_predicted_conditioned']))"
   ]
  },
  {
   "cell_type": "code",
   "execution_count": 81,
   "metadata": {},
   "outputs": [],
   "source": [
    "# Unseen Targets\n",
    "\n",
    "#test_unseen_targets = test[test['Target Sequence'].isin(test_minus_train_targets)]\n",
    "#print('Unseen targets: ', len(test_unseen_targets))\n",
    "\n",
    "#append = pd.DataFrame()\n",
    "\n",
    "#append['SMILES'] = ['x']\n",
    "#append['Target Sequence'] = ['y']\n",
    "#append['Label'] = [1.0]\n",
    "#append['test_probabilty_predicted_conditioned'] = [np.mean(test_unseen_targets['test_probabilty_predicted_conditioned'].tolist())]\n",
    "\n",
    "#test_unseen_targets = pd.concat([test_unseen_targets,append])\n",
    "\n",
    "#print('AUC: ', roc_auc_score(test_unseen_targets['Label'].tolist(), test_unseen_targets['test_probabilty_predicted_conditioned']))\n",
    "#print('AUP: ', average_precision_score(test_unseen_targets['Label'].tolist(), test_unseen_targets['test_probabilty_predicted_conditioned']))"
   ]
  },
  {
   "cell_type": "code",
   "execution_count": 82,
   "metadata": {},
   "outputs": [],
   "source": [
    "# Unseen Nodes\n",
    "\n",
    "#test_unseen_nodes = test[test['Target Sequence 1'].isin(test_minus_train_targets1) & test['Target Sequence 2'].isin(test_minus_train_targets2)]\n",
    "#print('Unseen nodes: ', len(test_unseen_nodes))\n",
    "\n",
    "#append = pd.DataFrame()\n",
    "\n",
    "#append['SMILES'] = ['x']\n",
    "#append['Target Sequence'] = ['y']\n",
    "#append['Label'] = [1.0]\n",
    "#append['test_probabilty_predicted_conditioned'] = [np.mean(test_unseen_nodes['test_probabilty_predicted_conditioned'].tolist())]\n",
    "\n",
    "#test_unseen_nodes = pd.concat([test_unseen_nodes,append])\n",
    "\n",
    "#print('AUC: ', roc_auc_score(test_unseen_nodes['Label'].tolist(), test_unseen_nodes['test_probabilty_predicted_conditioned']))\n",
    "#print('AUP: ', average_precision_score(test_unseen_nodes['Label'].tolist(), test_unseen_nodes['test_probabilty_predicted_conditioned']))"
   ]
  },
  {
   "cell_type": "markdown",
   "metadata": {},
   "source": [
    "# Comparison with Original"
   ]
  },
  {
   "cell_type": "code",
   "execution_count": 220,
   "metadata": {
    "scrolled": true
   },
   "outputs": [],
   "source": [
    "# original_test = pd.read_csv('../../data/Transformer_CNN_test_w_config_preds_fold2.csv')"
   ]
  },
  {
   "cell_type": "code",
   "execution_count": 57,
   "metadata": {},
   "outputs": [
    {
     "data": {
      "image/png": "[encoded data removed]",
      "text/plain": [
       "<Figure size 640x480 with 1 Axes>"
      ]
     },
     "metadata": {
      "needs_background": "light"
     },
     "output_type": "display_data"
    }
   ],
   "source": [
    "figure(figsize=(8, 6), dpi=80)\n",
    "\n",
    "#sns.distplot(original_test['duplex_config_prediction'].tolist(),  norm_hist=True, label='Original')\n",
    "sns.distplot(test_probabilty_predicted_conditioned,  norm_hist=True, label='Randomization')\n",
    "plt.legend()\n",
    "plt.xlim([0,1])\n",
    "plt.xlabel('Duplex Configuration Model Prediction')\n",
    "plt.ylabel('PDF')\n",
    "plt.show()"
   ]
  },
  {
   "cell_type": "code",
   "execution_count": 58,
   "metadata": {},
   "outputs": [
    {
     "name": "stdout",
     "output_type": "stream",
     "text": [
      "New mean and std of duplex prediction:  0.07148342132364711 0.05216722682707674\n"
     ]
    }
   ],
   "source": [
    "#print('Older mean and std of duplex prediction: ', np.mean(original_test['duplex_config_prediction'].tolist()), np.std(original_test['duplex_config_prediction'].tolist()))\n",
    "print('New mean and std of duplex prediction: ', np.mean(test_probabilty_predicted_conditioned), np.std(test_probabilty_predicted_conditioned))"
   ]
  },
  {
   "cell_type": "code",
   "execution_count": 59,
   "metadata": {},
   "outputs": [],
   "source": [
    "test.to_csv('../../data/Unipartite/pbind_0p05/test.csv')"
   ]
  },
  {
   "cell_type": "code",
   "execution_count": 60,
   "metadata": {},
   "outputs": [],
   "source": [
    "test_0p16 = pd.read_csv('../../data/Unipartite/experiment_4d/test.csv') ## pbind of 0.16 \n",
    "test_0p5 = pd.read_csv('../../data/Unipartite/pbind_0p5/test.csv')"
   ]
  },
  {
   "cell_type": "code",
   "execution_count": 63,
   "metadata": {},
   "outputs": [
    {
     "data": {
      "image/png": "[encoded data removed]",
      "text/plain": [
       "<Figure size 640x480 with 1 Axes>"
      ]
     },
     "metadata": {
      "needs_background": "light"
     },
     "output_type": "display_data"
    }
   ],
   "source": [
    "figure(figsize=(8, 6), dpi=80)\n",
    "\n",
    "sns.distplot(test['test_probabilty_predicted_conditioned'].tolist(),  norm_hist=True, label=r'$p_{bind} = 0.05$')\n",
    "sns.distplot(test_0p16['test_probabilty_predicted_conditioned'].tolist(),  norm_hist=True, label=r'$p_{bind} = 0.16$')\n",
    "sns.distplot(test_0p5['test_probabilty_predicted_conditioned'].tolist(),  norm_hist=True, label=r'$p_{bind} = 0.50$')\n",
    "plt.legend()\n",
    "plt.xlim([0,1])\n",
    "plt.xlabel(r'$p_{conditional}$')\n",
    "plt.ylabel('PDF')\n",
    "plt.show()"
   ]
  },
  {
   "cell_type": "code",
   "execution_count": 75,
   "metadata": {},
   "outputs": [
    {
     "name": "stdout",
     "output_type": "stream",
     "text": [
      "Mean and STD for pbind of 0.05:  0.07148342132364711 0.05216722682707674\n",
      "Mean and STD for pbind of 0.16:  0.15938524411386362 0.09154412164980852\n",
      "Mean and STD for pbind of 0.50:  0.49334155883336905 0.12179624108245475\n"
     ]
    }
   ],
   "source": [
    "print('Mean and STD for pbind of 0.05: ', np.mean(test['test_probabilty_predicted_conditioned'].tolist()), np.std(test['test_probabilty_predicted_conditioned'].tolist()))\n",
    "print('Mean and STD for pbind of 0.16: ', np.mean(test_0p16['test_probabilty_predicted_conditioned'].tolist()), np.std(test_0p16['test_probabilty_predicted_conditioned'].tolist()))\n",
    "print('Mean and STD for pbind of 0.50: ', np.mean(test_0p5['test_probabilty_predicted_conditioned'].tolist()), np.std(test_0p5['test_probabilty_predicted_conditioned'].tolist()))"
   ]
  },
  {
   "cell_type": "code",
   "execution_count": null,
   "metadata": {},
   "outputs": [],
   "source": []
  }
 ],
 "metadata": {
  "kernelspec": {
   "display_name": "Python 3",
   "language": "python",
   "name": "python3"
  },
  "language_info": {
   "codemirror_mode": {
    "name": "ipython",
    "version": 3
   },
   "file_extension": ".py",
   "mimetype": "text/x-python",
   "name": "python",
   "nbconvert_exporter": "python",
   "pygments_lexer": "ipython3",
   "version": "3.6.6"
  },
  "toc": {
   "base_numbering": 1,
   "nav_menu": {},
   "number_sections": true,
   "sideBar": true,
   "skip_h1_title": false,
   "title_cell": "Table of Contents",
   "title_sidebar": "Contents",
   "toc_cell": false,
   "toc_position": {},
   "toc_section_display": true,
   "toc_window_display": false
  }
 },
 "nbformat": 4,
 "nbformat_minor": 4
}
