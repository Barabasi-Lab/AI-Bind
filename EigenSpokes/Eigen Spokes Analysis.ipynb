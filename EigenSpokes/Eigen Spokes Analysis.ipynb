{
 "cells": [
  {
   "cell_type": "markdown",
   "metadata": {},
   "source": [
    "### Imports"
   ]
  },
  {
   "cell_type": "code",
   "execution_count": 1,
   "metadata": {},
   "outputs": [
    {
     "name": "stderr",
     "output_type": "stream",
     "text": [
      "/miniconda/lib/python3.6/site-packages/tensorflow/python/framework/dtypes.py:523: FutureWarning: Passing (type, 1) or '1type' as a synonym of type is deprecated; in a future version of numpy, it will be understood as (type, (1,)) / '(1,)type'.\n",
      "  _np_qint8 = np.dtype([(\"qint8\", np.int8, 1)])\n",
      "/miniconda/lib/python3.6/site-packages/tensorflow/python/framework/dtypes.py:524: FutureWarning: Passing (type, 1) or '1type' as a synonym of type is deprecated; in a future version of numpy, it will be understood as (type, (1,)) / '(1,)type'.\n",
      "  _np_quint8 = np.dtype([(\"quint8\", np.uint8, 1)])\n",
      "/miniconda/lib/python3.6/site-packages/tensorflow/python/framework/dtypes.py:525: FutureWarning: Passing (type, 1) or '1type' as a synonym of type is deprecated; in a future version of numpy, it will be understood as (type, (1,)) / '(1,)type'.\n",
      "  _np_qint16 = np.dtype([(\"qint16\", np.int16, 1)])\n",
      "/miniconda/lib/python3.6/site-packages/tensorflow/python/framework/dtypes.py:526: FutureWarning: Passing (type, 1) or '1type' as a synonym of type is deprecated; in a future version of numpy, it will be understood as (type, (1,)) / '(1,)type'.\n",
      "  _np_quint16 = np.dtype([(\"quint16\", np.uint16, 1)])\n",
      "/miniconda/lib/python3.6/site-packages/tensorflow/python/framework/dtypes.py:527: FutureWarning: Passing (type, 1) or '1type' as a synonym of type is deprecated; in a future version of numpy, it will be understood as (type, (1,)) / '(1,)type'.\n",
      "  _np_qint32 = np.dtype([(\"qint32\", np.int32, 1)])\n",
      "/miniconda/lib/python3.6/site-packages/tensorflow/python/framework/dtypes.py:532: FutureWarning: Passing (type, 1) or '1type' as a synonym of type is deprecated; in a future version of numpy, it will be understood as (type, (1,)) / '(1,)type'.\n",
      "  np_resource = np.dtype([(\"resource\", np.ubyte, 1)])\n"
     ]
    },
    {
     "data": {
      "text/plain": [
       "<module 'tensorflow' from '/miniconda/lib/python3.6/site-packages/tensorflow/__init__.py'>"
      ]
     },
     "execution_count": 1,
     "metadata": {},
     "output_type": "execute_result"
    }
   ],
   "source": [
    "import pickle as pkl\n",
    "import lxml\n",
    "import pandas as pd\n",
    "import numpy as np\n",
    "import matplotlib.pyplot as plt\n",
    "import tensorflow.keras\n",
    "import importlib\n",
    "import time\n",
    "import traceback\n",
    "import tensorflow.keras.backend as K\n",
    "import matplotlib.pyplot as plt\n",
    "import random\n",
    "\n",
    "import subprocess\n",
    "import scipy\n",
    "import seaborn as sns\n",
    "\n",
    "from sklearn.utils import shuffle\n",
    "\n",
    "\n",
    "from tensorflow.keras.datasets import imdb\n",
    "from tqdm.notebook import tqdm\n",
    "from sklearn.metrics import confusion_matrix\n",
    "from sklearn.cluster import SpectralClustering\n",
    "from sklearn.utils.multiclass import unique_labels\n",
    "from sklearn.metrics import f1_score\n",
    "from sklearn.cluster import KMeans\n",
    "from sklearn.model_selection import train_test_split\n",
    "from sklearn.preprocessing import LabelEncoder, OneHotEncoder\n",
    "from ast import literal_eval\n",
    "from sklearn.model_selection import train_test_split\n",
    "from sklearn.linear_model import LogisticRegression\n",
    "from sklearn.metrics import confusion_matrix, f1_score\n",
    "from tensorflow.keras.models import Sequential, Model, load_model\n",
    "from tensorflow.keras.layers import Input, Dense, Activation, Dropout, Conv1D, Flatten, Reshape, MaxPooling1D,\\\n",
    "                        AveragePooling1D, Concatenate, LeakyReLU, Embedding,\\\n",
    "                        GlobalMaxPooling1D,GlobalAveragePooling1D,GaussianNoise,BatchNormalization,Add,ZeroPadding1D, Layer, Lambda\n",
    "from tensorflow.keras.initializers import glorot_uniform\n",
    "from tensorflow.keras.utils import plot_model\n",
    "from tensorflow.keras.backend import int_shape\n",
    "from tensorflow.keras.optimizers import Adam\n",
    "from tensorflow.keras.utils import to_categorical\n",
    "from pylab import *\n",
    "from sklearn.manifold import TSNE\n",
    "from mpl_toolkits.mplot3d import Axes3D\n",
    "from sklearn.metrics import roc_curve, roc_auc_score, precision_recall_curve, average_precision_score\n",
    "from sklearn.metrics import confusion_matrix, f1_score, classification_report\n",
    "from sklearn.utils import shuffle\n",
    "\n",
    "\n",
    "\n",
    "plt.rcParams['figure.dpi'] = 300\n",
    "\n",
    "importlib.reload(tensorflow)"
   ]
  },
  {
   "cell_type": "code",
   "execution_count": 2,
   "metadata": {},
   "outputs": [],
   "source": [
    "tqdm.pandas()"
   ]
  },
  {
   "cell_type": "markdown",
   "metadata": {},
   "source": [
    "### Helper Fucntions"
   ]
  },
  {
   "cell_type": "code",
   "execution_count": 3,
   "metadata": {},
   "outputs": [],
   "source": [
    "def create_interaction_dicts(interactions):\n",
    "\n",
    "    drug_dict = {}\n",
    "    target_dict = {}\n",
    "\n",
    "    for i in tqdm(range(len(interactions))):\n",
    "\n",
    "        drug_id = interactions['InChiKey'].values[i]\n",
    "        target_id = interactions['target_aa_code'].values[i]\n",
    "        binding = interactions['Y'].values[i]\n",
    "\n",
    "        try:\n",
    "            drug_dict[drug_id]\n",
    "        except:\n",
    "            drug_dict[drug_id] = {}\n",
    "\n",
    "        try:\n",
    "            drug_dict[drug_id][binding].append(target_id)\n",
    "        except:\n",
    "            drug_dict[drug_id][binding] = [target_id]\n",
    "\n",
    "        try:\n",
    "            target_dict[target_id]\n",
    "        except:\n",
    "            target_dict[target_id] = {}\n",
    "\n",
    "        try:\n",
    "            target_dict[target_id][binding].append(drug_id)\n",
    "        except:\n",
    "            target_dict[target_id][binding] = [drug_id]\n",
    "\n",
    "    return drug_dict, target_dict"
   ]
  },
  {
   "cell_type": "code",
   "execution_count": 4,
   "metadata": {},
   "outputs": [],
   "source": [
    "def create_adjacency(drug_dict, target_dict, full = True, include_negative = False):\n",
    "    \n",
    "    # Create Adjascency Matrix For Drugs x Amino Acids\n",
    "    drug_list = list(drug_dict.keys())\n",
    "    target_list = list(target_dict.keys())\n",
    "    number_of_drugs = len(list(drug_dict.keys()))\n",
    "    number_of_targets = len(list(target_dict.keys()))\n",
    "\n",
    "    adjascency_matrix = np.zeros((number_of_drugs, number_of_targets))\n",
    "\n",
    "    if include_negative == False: \n",
    "        for i in tqdm(range(number_of_drugs)):\n",
    "            for j in range(number_of_targets):\n",
    "\n",
    "                try:\n",
    "                    if target_list[j] in drug_dict[drug_list[i]][1]:\n",
    "                        adjascency_matrix[i][j] = 1\n",
    "                except: \n",
    "                    None\n",
    "\n",
    "                try: \n",
    "                    if target_list[j] in drug_dict[drug_list[i]][0]:\n",
    "                        adjascency_matrix[i][j] = 0\n",
    "                except: \n",
    "                    None\n",
    "                    \n",
    "    else : \n",
    "        for i in tqdm(range(number_of_drugs)):\n",
    "            for j in range(number_of_targets):\n",
    "\n",
    "                try:\n",
    "                    if target_list[j] in drug_dict[drug_list[i]][1]:\n",
    "                        adjascency_matrix[i][j] = 1\n",
    "                except: \n",
    "                    None\n",
    "\n",
    "                try: \n",
    "                    if target_list[j] in drug_dict[drug_list[i]][0]:\n",
    "                        adjascency_matrix[i][j] = -1\n",
    "                except: \n",
    "                    None\n",
    "                \n",
    "    if full == False: \n",
    "        return adjascency_matrix\n",
    "    \n",
    "    else: \n",
    "        true_adjacency_matrix_bipartite = np.block([\n",
    "            [np.zeros((len(drug_dict), len(drug_dict))), adjascency_matrix],\n",
    "            [adjascency_matrix.T, np.zeros((len(target_dict), len(target_dict)))]\n",
    "        ])\n",
    "        return true_adjacency_matrix_bipartite"
   ]
  },
  {
   "cell_type": "code",
   "execution_count": 5,
   "metadata": {},
   "outputs": [],
   "source": [
    "def get_eigen(adjacency):\n",
    "    \n",
    "    start_time = time.time()\n",
    "    eigen_values, eigen_vectors = np.linalg.eig(adjacency)\n",
    "    end_time = time.time()\n",
    "    print (\"Time Taken : \", end_time - start_time, \"s\")\n",
    "    eigen_values_sorted = np.sort(eigen_values)\n",
    "    \n",
    "    return eigen_values, eigen_vectors, eigen_values_sorted"
   ]
  },
  {
   "cell_type": "code",
   "execution_count": 6,
   "metadata": {},
   "outputs": [],
   "source": [
    "def getNodeName(idx):\n",
    "    # drugs then targets\n",
    "    if idx > len(drug_dict_4):\n",
    "        target_idx = idx - len(drug_dict_4)\n",
    "        aa_code = list(target_dict_4.keys())[target_idx]\n",
    "        ret = \"Targ AA:\"+aa_code[0:min(10,len(aa_code))]\n",
    "    else:\n",
    "        drug_idx = idx \n",
    "        ichikey_code = list(drug_dict_4.keys())[drug_idx]\n",
    "        ret = \"Chem IK:\"+ichikey_code[0:min(10,len(ichikey_code))]\n",
    "    return ret"
   ]
  },
  {
   "cell_type": "markdown",
   "metadata": {},
   "source": [
    "### Data"
   ]
  },
  {
   "cell_type": "code",
   "execution_count": null,
   "metadata": {},
   "outputs": [
    {
     "data": {
      "application/vnd.jupyter.widget-view+json": {
       "model_id": "a52e861ad0c84561a9366b6171313e4b",
       "version_major": 2,
       "version_minor": 0
      },
      "text/plain": [
       "  0%|          | 0/62949 [00:00<?, ?it/s]"
      ]
     },
     "metadata": {},
     "output_type": "display_data"
    },
    {
     "data": {
      "application/vnd.jupyter.widget-view+json": {
       "model_id": "dec3e624edd943f1a1d82cd6a292f8c1",
       "version_major": 2,
       "version_minor": 0
      },
      "text/plain": [
       "  0%|          | 0/7400 [00:00<?, ?it/s]"
      ]
     },
     "metadata": {},
     "output_type": "display_data"
    }
   ],
   "source": [
    "interactions_4 = pd.read_csv('/data/sars-busters/interactions/train_interactions_04.csv')\n",
    "drug_dict_4, target_dict_4 = create_interaction_dicts(interactions_4)\n",
    "adjacency_4 = create_adjacency(drug_dict_4, target_dict_4)\n",
    "adjacency_4_neg = create_adjacency(drug_dict_4, target_dict_4, include_negative = True)\n",
    "degree_4 = np.sum(adjacency_4, axis = 0) + 1e-2\n",
    "degree_4_neg = np.sum(np.abs(adjacency_4_neg), axis = 0) + 1e-2\n",
    "degree_ratio_4 = degree_4 / degree_4_neg"
   ]
  },
  {
   "cell_type": "code",
   "execution_count": null,
   "metadata": {
    "scrolled": true
   },
   "outputs": [],
   "source": [
    "interactions_8 = pd.read_csv('/data/sars-busters/interactions/interactions_08.csv')\n",
    "drug_dict_8, target_dict_8 = create_interaction_dicts(interactions_8)\n",
    "adjacency_8 = create_adjacency(drug_dict_8, target_dict_8)\n",
    "adjacency_8_neg = create_adjacency(drug_dict_8, target_dict_8, include_negative = True)\n",
    "degree_8 = np.sum(adjacency_8, axis = 0) + 1e-2\n",
    "degree_8_neg = np.sum(np.abs(adjacency_8_neg), axis = 0) + 1e-2\n",
    "degree_ratio_8 = degree_8 / degree_8_neg"
   ]
  },
  {
   "cell_type": "code",
   "execution_count": null,
   "metadata": {},
   "outputs": [],
   "source": [
    "#interactions_dataset1 = pd.read_csv('/data/sars-busters-consolidated/nw_files/WholeNetworkEdgesTable.csv')\n",
    "#dataset1_interactions.drop_duplicates(subset=['InChiKey','target_aa_code'])\n",
    "#dataset1_interactions['Y'].value_counts()"
   ]
  },
  {
   "cell_type": "code",
   "execution_count": null,
   "metadata": {},
   "outputs": [],
   "source": [
    "interactions_2 = pd.read_csv('/data/sars-busters-consolidated/interactions/dataset_2_unfiltered.csv')\n",
    "interactions_2 = interactions_2.drop_duplicates(subset=['TargetLabel','SourceLabel'])\n",
    "print(interactions_2['Y'].value_counts())\n",
    "\n",
    "interactions_2 = interactions_2.rename(columns = {'TargetLabel':'target_aa_code','SourceLabel':'InChiKey'})\n"
   ]
  },
  {
   "cell_type": "markdown",
   "metadata": {},
   "source": [
    "### Scatter Plots"
   ]
  },
  {
   "cell_type": "markdown",
   "metadata": {},
   "source": [
    "#### Interaction 4"
   ]
  },
  {
   "cell_type": "markdown",
   "metadata": {},
   "source": [
    "##### Hop Lengths"
   ]
  },
  {
   "cell_type": "code",
   "execution_count": null,
   "metadata": {},
   "outputs": [],
   "source": [
    "num_nodes = adjacency_4.shape[0]\n",
    "max_hop = 13\n",
    "higher_adjacency_matrix = np.zeros((num_nodes, num_nodes, max_hop + 1))\n",
    "\n",
    "higher_adjacency_matrix[:,:,0] =  np.identity(num_nodes)\n",
    "\n",
    "for i in tqdm(range(1,max_hop)):\n",
    "    higher_adjacency_matrix[:,:,i] = np.dot(higher_adjacency_matrix[:,:,i-1],adjacency_4)\n",
    "higher_adjacency_matrix[:,:,max_hop] = np.ones((num_nodes, num_nodes))     "
   ]
  },
  {
   "cell_type": "code",
   "execution_count": null,
   "metadata": {},
   "outputs": [],
   "source": [
    "path_length = (higher_adjacency_matrix != 0).argmax(axis = 2)"
   ]
  },
  {
   "cell_type": "code",
   "execution_count": null,
   "metadata": {},
   "outputs": [],
   "source": [
    "plt.title(\"Path Lengths\")\n",
    "plt.xlabel(\"Hop Distance\")\n",
    "plt.ylabel(\"Frequency\")\n",
    "plt.hist(path_length.flatten(),bins=list(range(0,14)))\n",
    "plt.show()"
   ]
  },
  {
   "cell_type": "markdown",
   "metadata": {},
   "source": [
    "##### Eigen Decomposition"
   ]
  },
  {
   "cell_type": "code",
   "execution_count": null,
   "metadata": {},
   "outputs": [],
   "source": [
    "eigen_values_4, eigen_vectors_4, eigen_values_sorted_4 = get_eigen(adjacency_4)"
   ]
  },
  {
   "cell_type": "code",
   "execution_count": null,
   "metadata": {},
   "outputs": [],
   "source": [
    "# Transpose - Rows are now the eigen vectors \n",
    "eigen_vectors_4 = eigen_vectors_4.T"
   ]
  },
  {
   "cell_type": "code",
   "execution_count": null,
   "metadata": {},
   "outputs": [],
   "source": [
    "print (\"Maximum Eigen Value : \", max([x.real for x in eigen_values_4]))"
   ]
  },
  {
   "cell_type": "code",
   "execution_count": null,
   "metadata": {},
   "outputs": [],
   "source": [
    "plt.title(\"EigenValue Distribution - BiPartite\")\n",
    "plt.xlabel(\"EigenValues\")\n",
    "plt.ylabel(\"Frequency\")\n",
    "plt.hist(eigen_values_4, bins = np.arange(-10, 10, 0.5))\n",
    "plt.show()"
   ]
  },
  {
   "cell_type": "markdown",
   "metadata": {},
   "source": [
    "##### SVD "
   ]
  },
  {
   "cell_type": "code",
   "execution_count": null,
   "metadata": {},
   "outputs": [],
   "source": [
    "adjacency_4_rect = create_adjacency(drug_dict_4, target_dict_4, full = False)"
   ]
  },
  {
   "cell_type": "code",
   "execution_count": null,
   "metadata": {},
   "outputs": [],
   "source": [
    "U, S, V_h = scipy.linalg.svd(adjacency_4_rect, full_matrices = True)"
   ]
  },
  {
   "cell_type": "code",
   "execution_count": null,
   "metadata": {},
   "outputs": [],
   "source": [
    "print (\"Rectangualr Adjacency : \", adjacency_4_rect.shape)\n",
    "print (\"U :\", U.shape)\n",
    "print (\"S :\", S.shape)\n",
    "print (\"V_h :\", V_h.shape)"
   ]
  },
  {
   "cell_type": "code",
   "execution_count": null,
   "metadata": {},
   "outputs": [],
   "source": [
    "sanity_check = U @ np.vstack((np.diag(S), np.zeros((U.shape[0] - S.shape[0], S.shape[0])))) @ V_h"
   ]
  },
  {
   "cell_type": "code",
   "execution_count": null,
   "metadata": {},
   "outputs": [],
   "source": [
    "sanity_check_diff = adjacency_4_rect - test"
   ]
  },
  {
   "cell_type": "code",
   "execution_count": null,
   "metadata": {},
   "outputs": [],
   "source": [
    "max(sanity_check_diff.flatten())"
   ]
  },
  {
   "cell_type": "code",
   "execution_count": null,
   "metadata": {},
   "outputs": [],
   "source": [
    "plt.title(\"Histogram Of Singular Values\")\n",
    "plt.hist(S, bins = 100)\n",
    "plt.show()"
   ]
  },
  {
   "cell_type": "code",
   "execution_count": null,
   "metadata": {},
   "outputs": [],
   "source": [
    "# import matplotlib as mpl\n",
    "plt.rcParams['figure.dpi'] = 300"
   ]
  },
  {
   "cell_type": "markdown",
   "metadata": {},
   "source": [
    "###### Drugs"
   ]
  },
  {
   "cell_type": "code",
   "execution_count": null,
   "metadata": {},
   "outputs": [],
   "source": [
    "n_drugs = 10\n",
    "drug_idx_start = 5\n",
    "n_eigvals = 5\n",
    "\n",
    "balanced_nodes = np.where((degree_ratio_4[7400:] > 0.3) & (degree_ratio_4[7400:] < 0.7))[0] + 7400\n",
    "balanced_nodes_degree_4_neg = degree_4_neg[list(balanced_nodes)]\n",
    "top_nodes_sub_idx = np.flip(np.argsort(balanced_nodes_degree_4_neg))[0:n_drugs]\n",
    "top_nodes_idx = balanced_nodes[list(top_nodes_sub_idx)]\n",
    "\n",
    "color_front = np.zeros((n_drugs, len(U)), dtype = object)\n",
    "color_background = np.zeros((n_drugs, len(U)), dtype = object)\n",
    "size_neg = np.zeros((n_drugs, len(U)), dtype = object)\n",
    "zoom = 0.05\n",
    "rownames = []\n",
    "\n",
    "for idx, node in tqdm(enumerate(top_nodes_idx)):\n",
    "    rownames.append(getNodeName(node))\n",
    "    path_length_color = []\n",
    "    color_front[idx] = [(0,0,0,0.0) if x == 0\n",
    "                      else (1, 0, 0, 1) if (x == -1 and path_length[node,idx_in] > 12)\n",
    "                      else (1, 0, 1, 1) if (x == -1 and path_length[node,idx_in] <= 12 and path_length[node,idx_in] > 6)\n",
    "                      else (0, 0, 1, 1) if (x == -1 and path_length[node,idx_in] <= 6 and path_length[node,idx_in] > -1)\n",
    "                      else (0, 1, 0, 1)\n",
    "                      for idx_in, x in enumerate(adjacency_4_neg[:7400, node])]\n",
    "    color_background[idx] = [(0,0,0,0.1) if x == 0\n",
    "                      else (1, 0, 0, 0) if (x == -1 and path_length[node,idx_in] > 12)\n",
    "                      else (1, 0, 1, 0) if (x == -1 and path_length[node,idx_in] <= 12 and path_length[node,idx_in] > 6)\n",
    "                      else (0, 0, 1, 0) if (x == -1 and path_length[node,idx_in] <= 6 and path_length[node,idx_in] > -1)\n",
    "                      else (0, 1, 0, 0)\n",
    "                      for idx_in, x in enumerate(adjacency_4_neg[:7400, node])]\n",
    "    size_neg[idx] = [2.0 if x == 0 else 20.0 for x in adjacency_4_neg[:7400, node]]\n",
    "\n",
    "fig, axs = plt.subplots(n_drugs,n_eigvals) \n",
    "fig.set_size_inches(6.5 * n_eigvals, n_drugs * 4)\n",
    "\n",
    "for idx in range(n_drugs):\n",
    "    for eveci in range(n_eigvals):\n",
    "        axs[idx,eveci].scatter(np.clip(U[:, eveci], -zoom, zoom),\n",
    "                               np.clip(U[:, eveci+1], -zoom, zoom),\n",
    "                               c = color_front[idx],\n",
    "                               s = list(size_neg[idx]),zorder=2)\n",
    "        axs[idx,eveci].scatter(np.clip(U[:, eveci], -zoom, zoom),\n",
    "                               np.clip(U[:, eveci+1], -zoom, zoom),\n",
    "                               c = color_background[idx],\n",
    "                               s = list(size_neg[idx]),zorder=1)\n",
    "        axs[idx,eveci].set(xlabel = f\"U {eveci}\", ylabel = f\"U {eveci+1}\")\n",
    "\n",
    "for ax, row in zip(axs[:,0], rownames):\n",
    "    ax.annotate(row, xy=(0, 0.5), xytext=(-ax.yaxis.labelpad - 5, 0),\n",
    "                xycoords=ax.yaxis.label, textcoords='offset points',\n",
    "                size='large', ha='right', va='center')\n",
    "        \n",
    "plt.show()"
   ]
  },
  {
   "cell_type": "code",
   "execution_count": null,
   "metadata": {},
   "outputs": [],
   "source": [
    "n_drugs = 10\n",
    "drug_idx_start = 5\n",
    "n_eigvals = 5\n",
    "\n",
    "balanced_nodes = np.where((degree_ratio_4[7400:] > 0.3) & (degree_ratio_4[7400:] < 0.7))[0] + 7400\n",
    "balanced_nodes_degree_4_neg = degree_4_neg[list(balanced_nodes)]\n",
    "top_nodes_sub_idx = np.flip(np.argsort(balanced_nodes_degree_4_neg))[0:n_drugs]\n",
    "top_nodes_idx = balanced_nodes[list(top_nodes_sub_idx)]\n",
    "\n",
    "color_front = np.zeros((n_drugs, len(U)), dtype = object)\n",
    "color_background = np.zeros((n_drugs, len(U)), dtype = object)\n",
    "size_neg = np.zeros((n_drugs, len(U)), dtype = object)\n",
    "zoom = 0.05\n",
    "rownames = []\n",
    "\n",
    "for idx, node in tqdm(enumerate(top_nodes_idx)):\n",
    "    rownames.append(getNodeName(node))\n",
    "    path_length_color = []\n",
    "    color_front[idx] = [(0,0,0,0.0) if x == 0\n",
    "                      else (1, 0, 0, 1) if (x == -1 and path_length[node,idx_in] > 12)\n",
    "                      else (1, 0, 1, 1) if (x == -1 and path_length[node,idx_in] <= 12 and path_length[node,idx_in] > 6)\n",
    "                      else (0, 0, 1, 1) if (x == -1 and path_length[node,idx_in] <= 6 and path_length[node,idx_in] > -1)\n",
    "                      else (0, 1, 0, 1)\n",
    "                      for idx_in, x in enumerate(adjacency_4_neg[:7400, node])]\n",
    "    color_background[idx] = [(0,0,0,0.1) if x == 0\n",
    "                      else (1, 0, 0, 0) if (x == -1 and path_length[node,idx_in] > 12)\n",
    "                      else (1, 0, 1, 0) if (x == -1 and path_length[node,idx_in] <= 12 and path_length[node,idx_in] > 6)\n",
    "                      else (0, 0, 1, 0) if (x == -1 and path_length[node,idx_in] <= 6 and path_length[node,idx_in] > -1)\n",
    "                      else (0, 1, 0, 0)\n",
    "                      for idx_in, x in enumerate(adjacency_4_neg[:7400, node])]\n",
    "    size_neg[idx] = [2.0 if x == 0 else 20.0 for x in adjacency_4_neg[:7400, node]]\n",
    "\n",
    "fig, axs = plt.subplots(n_drugs,n_eigvals) \n",
    "fig.set_size_inches(6.5 * n_eigvals, n_drugs * 4)\n",
    "\n",
    "for idx in range(n_drugs):\n",
    "    for eveci in range(n_eigvals):\n",
    "        axs[idx,eveci].scatter(np.clip(U[:, eveci], -zoom, zoom),\n",
    "                               np.clip(U[:, eveci+1], -zoom, zoom),\n",
    "                               c = color_front[idx],\n",
    "                               s = list(size_neg[idx]),zorder=2)\n",
    "        axs[idx,eveci].scatter(np.clip(U[:, eveci], -zoom, zoom),\n",
    "                               np.clip(U[:, eveci+1], -zoom, zoom),\n",
    "                               c = color_background[idx],\n",
    "                               s = list(size_neg[idx]),zorder=1)\n",
    "        axs[idx,eveci].set(xlabel = f\"U {eveci}\", ylabel = f\"U {eveci+1}\")\n",
    "\n",
    "for ax, row in zip(axs[:,0], rownames):\n",
    "    ax.annotate(row, xy=(0, 0.5), xytext=(-ax.yaxis.labelpad - pad, 0),\n",
    "                xycoords=ax.yaxis.label, textcoords='offset points',\n",
    "                size='large', ha='right', va='center')\n",
    "        \n",
    "plt.show()"
   ]
  },
  {
   "cell_type": "markdown",
   "metadata": {},
   "source": [
    "###### Targets"
   ]
  },
  {
   "cell_type": "code",
   "execution_count": null,
   "metadata": {},
   "outputs": [],
   "source": [
    "n_drugs = 10\n",
    "drug_idx_start = 5\n",
    "n_eigvals = 5\n",
    "\n",
    "balanced_nodes = np.where((degree_ratio_4[:7400] > 0.3) & (degree_ratio_4[:7400] < 0.7))[0]\n",
    "balanced_nodes_degree_4_neg = degree_4_neg[list(balanced_nodes)]\n",
    "top_nodes_sub_idx = np.flip(np.argsort(balanced_nodes_degree_4_neg))[0:n_drugs]\n",
    "top_nodes_idx = balanced_nodes[list(top_nodes_sub_idx)]\n",
    "\n",
    "color_front = np.zeros((n_drugs, len(V_h)), dtype = object)\n",
    "color_background = np.zeros((n_drugs, len(V_h)), dtype = object)\n",
    "size_neg = np.zeros((n_drugs, len(V_h)), dtype = object)\n",
    "zoom = 0.05\n",
    "rownames = []\n",
    "\n",
    "for idx, node in tqdm(enumerate(top_nodes_idx)):\n",
    "    rownames.append(getNodeName(node))\n",
    "    path_length_color = []\n",
    "    color_front[idx] = [(0,0,0,0.0) if x == 0\n",
    "                      else (1, 0, 0, 1) if (x == -1 and path_length[node,7400 + idx_in] > 12)\n",
    "                      else (1, 0, 1, 1) if (x == -1 and path_length[node,7400 + idx_in] <= 12 and path_length[node,7400 + idx_in] > 6)\n",
    "                      else (0, 0, 1, 1) if (x == -1 and path_length[node,7400 + idx_in] <= 6 and path_length[node,7400 + idx_in] > -1)\n",
    "                      else (0, 1, 0, 1)\n",
    "                      for idx_in, x in enumerate(adjacency_4_neg[7400:, node])]\n",
    "    color_background[idx] = [(0,0,0,0.1) if x == 0\n",
    "                      else (1, 0, 0, 0) if (x == -1 and path_length[node,7400 + idx_in] > 12)\n",
    "                      else (1, 0, 1, 0) if (x == -1 and path_length[node,7400 + idx_in] <= 12 and path_length[node,7400 + idx_in] > 6)\n",
    "                      else (0, 0, 1, 0) if (x == -1 and path_length[node,7400 + idx_in] <= 6 and path_length[node,7400 + idx_in] > -1)\n",
    "                      else (0, 1, 0, 0)\n",
    "                      for idx_in, x in enumerate(adjacency_4_neg[7400:, node])]\n",
    "    size_neg[idx] = [2.0 if x == 0 else 20.0 for x in adjacency_4_neg[7400:, node]]\n",
    "\n",
    "fig, axs = plt.subplots(n_drugs,n_eigvals) \n",
    "fig.set_size_inches(6.5 * n_eigvals, n_drugs * 4)\n",
    "\n",
    "for idx in range(n_drugs):\n",
    "    for eveci in range(n_eigvals):\n",
    "        axs[idx,eveci].scatter(np.clip(V_h[eveci, :], -zoom, zoom),\n",
    "                               np.clip(V_h[eveci + 1, :], -zoom, zoom),\n",
    "                               c = color_front[idx],\n",
    "                               s = list(size_neg[idx]),zorder=2)\n",
    "        axs[idx,eveci].scatter(np.clip(V_h[eveci, :], -zoom, zoom),\n",
    "                               np.clip(V_h[eveci + 1, :], -zoom, zoom),\n",
    "                               c = color_background[idx],\n",
    "                               s = list(size_neg[idx]),zorder=1)\n",
    "        axs[idx,eveci].set(xlabel = f\"U {eveci}\", ylabel = f\"U {eveci+1}\")\n",
    "\n",
    "for ax, row in zip(axs[:,0], rownames):\n",
    "    ax.annotate(row, xy=(0, 0.5), xytext=(-ax.yaxis.labelpad - 5, 0),\n",
    "                xycoords=ax.yaxis.label, textcoords='offset points',\n",
    "                size='large', ha='right', va='center')\n",
    "        \n",
    "plt.show()"
   ]
  },
  {
   "cell_type": "code",
   "execution_count": null,
   "metadata": {},
   "outputs": [],
   "source": [
    "n_drugs = 10\n",
    "drug_idx_start = 5\n",
    "n_eigvals = 5\n",
    "\n",
    "balanced_nodes = np.where((degree_ratio_4[:7400] > 0.3) & (degree_ratio_4[:7400] < 0.7))[0]\n",
    "balanced_nodes_degree_4_neg = degree_4_neg[list(balanced_nodes)]\n",
    "top_nodes_sub_idx = np.flip(np.argsort(balanced_nodes_degree_4_neg))[0:n_drugs]\n",
    "top_nodes_idx = balanced_nodes[list(top_nodes_sub_idx)]\n",
    "\n",
    "color_front = np.zeros((n_drugs, len(V_h)), dtype = object)\n",
    "color_background = np.zeros((n_drugs, len(V_h)), dtype = object)\n",
    "size_neg = np.zeros((n_drugs, len(V_h)), dtype = object)\n",
    "zoom = 0.05\n",
    "rownames = []\n",
    "\n",
    "for idx, node in tqdm(enumerate(top_nodes_idx)):\n",
    "    rownames.append(getNodeName(node))\n",
    "    path_length_color = []\n",
    "    color_front[idx] = [(0,0,0,0.0) if x == 0\n",
    "                      else (1, 0, 0, 1) if (x == -1 and path_length[node,7400 + idx_in] > 12)\n",
    "                      else (1, 0, 1, 1) if (x == -1 and path_length[node,7400 + idx_in] <= 12 and path_length[node,7400 + idx_in] > 6)\n",
    "                      else (0, 0, 1, 1) if (x == -1 and path_length[node,7400 + idx_in] <= 6 and path_length[node,7400 + idx_in] > -1)\n",
    "                      else (0, 1, 0, 1)\n",
    "                      for idx_in, x in enumerate(adjacency_4_neg[7400:, node])]\n",
    "    color_background[idx] = [(0,0,0,0.1) if x == 0\n",
    "                      else (1, 0, 0, 0) if (x == -1 and path_length[node,7400 + idx_in] > 12)\n",
    "                      else (1, 0, 1, 0) if (x == -1 and path_length[node,7400 + idx_in] <= 12 and path_length[node,7400 + idx_in] > 6)\n",
    "                      else (0, 0, 1, 0) if (x == -1 and path_length[node,7400 + idx_in] <= 6 and path_length[node,7400 + idx_in] > -1)\n",
    "                      else (0, 1, 0, 0)\n",
    "                      for idx_in, x in enumerate(adjacency_4_neg[7400:, node])]\n",
    "    size_neg[idx] = [2.0 if x == 0 else 20.0 for x in adjacency_4_neg[7400:, node]]\n",
    "\n",
    "fig, axs = plt.subplots(n_drugs,n_eigvals) \n",
    "fig.set_size_inches(6.5 * n_eigvals, n_drugs * 4)\n",
    "\n",
    "for idx in range(n_drugs):\n",
    "    for eveci in range(n_eigvals):\n",
    "        axs[idx,eveci].scatter(np.clip(V_h[eveci, :], -zoom, zoom),\n",
    "                               np.clip(V_h[eveci + 1, :], -zoom, zoom),\n",
    "                               c = color_front[idx],\n",
    "                               s = list(size_neg[idx]),zorder=2)\n",
    "        axs[idx,eveci].scatter(np.clip(V_h[eveci, :], -zoom, zoom),\n",
    "                               np.clip(V_h[eveci + 1, :], -zoom, zoom),\n",
    "                               c = color_background[idx],\n",
    "                               s = list(size_neg[idx]),zorder=1)\n",
    "        axs[idx,eveci].set(xlabel = f\"U {eveci}\", ylabel = f\"U {eveci+1}\")\n",
    "\n",
    "for ax, row in zip(axs[:,0], rownames):\n",
    "    ax.annotate(row, xy=(0, 0.5), xytext=(-ax.yaxis.labelpad - pad, 0),\n",
    "                xycoords=ax.yaxis.label, textcoords='offset points',\n",
    "                size='large', ha='right', va='center')\n",
    "        \n",
    "plt.show()"
   ]
  },
  {
   "cell_type": "markdown",
   "metadata": {},
   "source": [
    "##### Eigen Spokes"
   ]
  },
  {
   "cell_type": "code",
   "execution_count": null,
   "metadata": {},
   "outputs": [],
   "source": [
    "n_drugs = 10\n",
    "drug_idx_start = 5\n",
    "n_eigvals = 5\n",
    "\n",
    "balanced_nodes = np.where((degree_ratio_4 > 0.3) & (degree_ratio_4 < 0.7))[0]\n",
    "balanced_nodes_degree_4_neg = degree_4_neg[list(balanced_nodes)]\n",
    "top_nodes_sub_idx = np.flip(np.argsort(balanced_nodes_degree_4_neg))[0:n_drugs]\n",
    "top_nodes_idx = balanced_nodes[list(top_nodes_sub_idx)]\n",
    "\n",
    "color_front = np.zeros((n_drugs, len(eigen_vectors_4)), dtype = object)\n",
    "color_background = np.zeros((n_drugs, len(eigen_vectors_4)), dtype = object)\n",
    "size_neg = np.zeros((n_drugs, len(eigen_vectors_4)), dtype = object)\n",
    "zoom = 0.05\n",
    "rownames = []\n",
    "\n",
    "for idx, node in enumerate(top_nodes_idx):\n",
    "    rownames.append(getNodeName(node))\n",
    "    path_length_color = []\n",
    "    color_front[idx] = [(0,0,0,0.0) if x == 0\n",
    "                      else (1, 0, 0, 1) if (x == -1 and path_length[node,idx] > 12)\n",
    "                      else (1, 0, 1, 1) if (x == -1 and path_length[node,idx] <= 12 and path_length[node,idx] > 6)\n",
    "                      else (0, 0, 1, 1) if (x == -1 and path_length[node,idx] <= 6 and path_length[node,idx] > -1)\n",
    "                      else (0, 1, 0, 1)\n",
    "                      for idx, x in enumerate(adjacency_4_neg[:, node])]\n",
    "    color_background[idx] = [(0, 0, 0, 0.1) if x == 0\n",
    "                      else (1, 0, 0, 0) if (x == -1 and path_length[node,idx] > 12)\n",
    "                      else (1, 0, 1, 0) if (x == -1 and path_length[node,idx] <= 12 and path_length[node,idx] > 6)\n",
    "                      else (0, 0, 1, 0) if (x == -1 and path_length[node,idx] <= 6 and path_length[node,idx] > -1)\n",
    "                      else (0, 1, 0, 0)\n",
    "                      for idx, x in enumerate(adjacency_4_neg[:, node])]\n",
    "    size_neg[idx] = [2.0 if x == 0 else 20.0 for x in adjacency_4_neg[:, node]]\n",
    "\n",
    "fig, axs = plt.subplots(n_drugs,n_eigvals) \n",
    "fig.set_size_inches(6.5 * n_eigvals, n_drugs * 4)\n",
    "\n",
    "pos_only = True\n",
    "\n",
    "for idx in range(n_drugs):\n",
    "    for eveci in range(n_eigvals):\n",
    "        \n",
    "        evecj = eveci + 1\n",
    "        \n",
    "        if pos_only: \n",
    "            evec_i = (2 * eveci) + 1\n",
    "            evec_j = evec_i + 2\n",
    "            \n",
    "            \n",
    "        axs[idx,eveci].scatter(np.clip(eigen_vectors_4[evec_i], -zoom, zoom),\n",
    "                               np.clip(eigen_vectors_4[evec_j], -zoom, zoom),\n",
    "                               c = color_front[idx],\n",
    "                               s = list(size_neg[idx]),zorder=2)\n",
    "        axs[idx,eveci].scatter(np.clip(eigen_vectors_4[evec_i], -zoom, zoom),\n",
    "                               np.clip(eigen_vectors_4[evec_j], -zoom, zoom),\n",
    "                               c = color_background[idx],\n",
    "                               s = list(size_neg[idx]),zorder=1)\n",
    "        axs[idx,eveci].set(xlabel = f\"EigenVector {evec_i} | Lambda = {eigen_values_4[evec_i]:.2f}\", ylabel = f\"EigenVector {evec_j}\")\n",
    "\n",
    "for ax, row in zip(axs[:,0], rownames):\n",
    "    ax.annotate(row, xy=(0, 0.5), xytext=(-ax.yaxis.labelpad - 5, 0),\n",
    "                xycoords=ax.yaxis.label, textcoords='offset points',\n",
    "                size='large', ha='right', va='center')\n",
    "        \n",
    "plt.show()"
   ]
  },
  {
   "cell_type": "markdown",
   "metadata": {},
   "source": [
    "#### Interactions 8"
   ]
  },
  {
   "cell_type": "code",
   "execution_count": null,
   "metadata": {},
   "outputs": [],
   "source": [
    "interactions_8['Y'].value_counts()"
   ]
  },
  {
   "cell_type": "code",
   "execution_count": null,
   "metadata": {},
   "outputs": [],
   "source": [
    "adjacency_8.shape"
   ]
  },
  {
   "cell_type": "markdown",
   "metadata": {},
   "source": [
    "##### Hop Length"
   ]
  },
  {
   "cell_type": "code",
   "execution_count": null,
   "metadata": {},
   "outputs": [],
   "source": [
    "num_nodes = adjacency_8.shape[0]\n",
    "max_hop = 13\n",
    "higher_adjacency_matrix = np.zeros((num_nodes, num_nodes, max_hop + 1))\n",
    "\n",
    "higher_adjacency_matrix[:,:,0] =  np.identity(num_nodes)\n",
    "\n",
    "for i in tqdm(range(1,max_hop)):\n",
    "    higher_adjacency_matrix[:,:,i] = np.dot(higher_adjacency_matrix[:,:,i-1],adjacency_8)\n",
    "higher_adjacency_matrix[:,:,max_hop] = np.ones((num_nodes, num_nodes))     "
   ]
  },
  {
   "cell_type": "code",
   "execution_count": null,
   "metadata": {},
   "outputs": [],
   "source": [
    "path_length = (higher_adjacency_matrix != 0).argmax(axis = 2)"
   ]
  },
  {
   "cell_type": "code",
   "execution_count": null,
   "metadata": {},
   "outputs": [],
   "source": [
    "plt.title(\"Path Lengths\")\n",
    "plt.xlabel(\"Hop Distance\")\n",
    "plt.ylabel(\"Frequency\")\n",
    "plt.hist(path_length.flatten(),bins=list(range(0,14)))\n",
    "plt.show()"
   ]
  },
  {
   "cell_type": "markdown",
   "metadata": {},
   "source": [
    "##### Eigen Decomposition"
   ]
  },
  {
   "cell_type": "code",
   "execution_count": null,
   "metadata": {},
   "outputs": [],
   "source": [
    "eigen_values_8, eigen_vectors_8, eigen_values_sorted_8 = get_eigen(adjacency_8)"
   ]
  },
  {
   "cell_type": "code",
   "execution_count": null,
   "metadata": {},
   "outputs": [],
   "source": [
    "# Transpose - Rows are now the eigen vectors \n",
    "eigen_vectors_8 = eigen_vectors_8.T"
   ]
  },
  {
   "cell_type": "code",
   "execution_count": null,
   "metadata": {},
   "outputs": [],
   "source": [
    "print (\"Maximum Eigen Value : \", max([x.real for x in eigen_values_8]))"
   ]
  },
  {
   "cell_type": "code",
   "execution_count": null,
   "metadata": {},
   "outputs": [],
   "source": [
    "plt.title(\"EigenValue Distribution - BiPartite\")\n",
    "plt.xlabel(\"EigenValues\")\n",
    "plt.ylabel(\"Frequency\")\n",
    "plt.hist(eigen_values_8, bins = np.arange(-10, 10, 0.5))\n",
    "plt.show()"
   ]
  },
  {
   "cell_type": "markdown",
   "metadata": {},
   "source": [
    "##### SVD"
   ]
  },
  {
   "cell_type": "code",
   "execution_count": null,
   "metadata": {},
   "outputs": [],
   "source": [
    "adjacency_8_rect = create_adjacency(drug_dict_8, target_dict_8, full = False)\n",
    "U, S, V_h = scipy.linalg.svd(adjacency_8_rect, full_matrices = True)\n",
    "print (\"Rectangualr Adjacency : \", adjacency_8_rect.shape)\n",
    "print (\"U :\", U.shape)\n",
    "print (\"S :\", S.shape)\n",
    "print (\"V_h :\", V_h.shape)"
   ]
  },
  {
   "cell_type": "code",
   "execution_count": null,
   "metadata": {},
   "outputs": [],
   "source": [
    "plt.title(\"Histogram Of Singular Values\")\n",
    "plt.hist(S, bins = 100)\n",
    "plt.show()"
   ]
  },
  {
   "cell_type": "code",
   "execution_count": null,
   "metadata": {},
   "outputs": [],
   "source": [
    "plt.title(\"Histogram Of Singular Values\")\n",
    "plt.hist(S, bins = 100)\n",
    "plt.show()"
   ]
  },
  {
   "cell_type": "markdown",
   "metadata": {},
   "source": [
    "###### Drugs"
   ]
  },
  {
   "cell_type": "code",
   "execution_count": null,
   "metadata": {},
   "outputs": [],
   "source": [
    "n_drugs = 10\n",
    "drug_idx_start = 5\n",
    "n_eigvals = 5\n",
    "\n",
    "drug_end = 7091\n",
    "\n",
    "balanced_nodes = np.where((degree_ratio_8[drug_end:] > 0.3) & (degree_ratio_8[drug_end:] < 0.7))[0] + drug_end\n",
    "balanced_nodes_degree_8_neg = degree_8_neg[list(balanced_nodes)]\n",
    "top_nodes_sub_idx = np.flip(np.argsort(balanced_nodes_degree_8_neg))[0:n_drugs]\n",
    "top_nodes_idx = balanced_nodes[list(top_nodes_sub_idx)]\n",
    "\n",
    "color_front = np.zeros((n_drugs, len(U)), dtype = object)\n",
    "color_background = np.zeros((n_drugs, len(U)), dtype = object)\n",
    "size_neg = np.zeros((n_drugs, len(U)), dtype = object)\n",
    "zoom = 0.05\n",
    "rownames = []\n",
    "\n",
    "for idx, node in tqdm(enumerate(top_nodes_idx)):\n",
    "    rownames.append(getNodeName(node))\n",
    "    path_length_color = []\n",
    "    color_front[idx] = [(0,0,0,0.0) if x == 0\n",
    "                      else (1, 0, 0, 1) if (x == -1 and path_length[node,idx_in] > 12)\n",
    "                      else (1, 0, 1, 1) if (x == -1 and path_length[node,idx_in] <= 12 and path_length[node,idx_in] > 6)\n",
    "                      else (0, 0, 1, 1) if (x == -1 and path_length[node,idx_in] <= 6 and path_length[node,idx_in] > -1)\n",
    "                      else (0, 1, 0, 1)\n",
    "                      for idx_in, x in enumerate(adjacency_8_neg[:drug_end, node])]\n",
    "    color_background[idx] = [(0,0,0,0.1) if x == 0\n",
    "                      else (1, 0, 0, 0) if (x == -1 and path_length[node,idx_in] > 12)\n",
    "                      else (1, 0, 1, 0) if (x == -1 and path_length[node,idx_in] <= 12 and path_length[node,idx_in] > 6)\n",
    "                      else (0, 0, 1, 0) if (x == -1 and path_length[node,idx_in] <= 6 and path_length[node,idx_in] > -1)\n",
    "                      else (0, 1, 0, 0)\n",
    "                      for idx_in, x in enumerate(adjacency_8_neg[:drug_end, node])]\n",
    "    size_neg[idx] = [2.0 if x == 0 else 20.0 for x in adjacency_8_neg[:drug_end, node]]\n",
    "\n",
    "fig, axs = plt.subplots(n_drugs,n_eigvals) \n",
    "fig.set_size_inches(6.5 * n_eigvals, n_drugs * 4)\n",
    "\n",
    "for idx in range(n_drugs):\n",
    "    for eveci in range(n_eigvals):\n",
    "        axs[idx,eveci].scatter(np.clip(U[:, eveci], -zoom, zoom),\n",
    "                               np.clip(U[:, eveci+1], -zoom, zoom),\n",
    "                               c = color_front[idx],\n",
    "                               s = list(size_neg[idx]),zorder=2)\n",
    "        axs[idx,eveci].scatter(np.clip(U[:, eveci], -zoom, zoom),\n",
    "                               np.clip(U[:, eveci+1], -zoom, zoom),\n",
    "                               c = color_background[idx],\n",
    "                               s = list(size_neg[idx]),zorder=1)\n",
    "        axs[idx,eveci].set(xlabel = f\"U {eveci}\", ylabel = f\"U {eveci+1}\")\n",
    "\n",
    "for ax, row in zip(axs[:,0], rownames):\n",
    "    ax.annotate(row, xy=(0, 0.5), xytext=(-ax.yaxis.labelpad - 5, 0),\n",
    "                xycoords=ax.yaxis.label, textcoords='offset points',\n",
    "                size='large', ha='right', va='center')\n",
    "        \n",
    "plt.show()"
   ]
  },
  {
   "cell_type": "code",
   "execution_count": null,
   "metadata": {},
   "outputs": [],
   "source": [
    "#Same as above, but all negative samples are red.  For a presentation\n",
    "#New negative sampling \n",
    "\n",
    "n_drugs = 10\n",
    "drug_idx_start = 5\n",
    "n_eigvals = 5\n",
    "\n",
    "drug_end = 7091\n",
    "\n",
    "balanced_nodes = np.where((degree_ratio_8[drug_end:] > 0.3) & (degree_ratio_8[drug_end:] < 0.7))[0] + drug_end\n",
    "balanced_nodes_degree_8_neg = degree_8_neg[list(balanced_nodes)]\n",
    "top_nodes_sub_idx = np.flip(np.argsort(balanced_nodes_degree_8_neg))[0:n_drugs]\n",
    "top_nodes_idx = balanced_nodes[list(top_nodes_sub_idx)]\n",
    "\n",
    "color_front = np.zeros((n_drugs, len(U)), dtype = object)\n",
    "color_background = np.zeros((n_drugs, len(U)), dtype = object)\n",
    "size_neg = np.zeros((n_drugs, len(U)), dtype = object)\n",
    "zoom = 0.05\n",
    "rownames = []\n",
    "\n",
    "for idx, node in tqdm(enumerate(top_nodes_idx)):\n",
    "    rownames.append(getNodeName(node))\n",
    "    path_length_color = []\n",
    "    color_front[idx] = [(0,0,0,0.0) if x == 0\n",
    "                      else (1, 0, 0, 1) if (x == -1 and path_length[node,idx_in] > 12)\n",
    "                      else (1, 0, 0, 1) if (x == -1 and path_length[node,idx_in] <= 12 and path_length[node,idx_in] > 6)\n",
    "                      else (1, 0, 0, 1) if (x == -1 and path_length[node,idx_in] <= 6 and path_length[node,idx_in] > -1)\n",
    "                      else (0, 1, 0, 1)\n",
    "                      for idx_in, x in enumerate(adjacency_8_neg[:drug_end, node])]\n",
    "    color_background[idx] = [(0,0,0,0.1) if x == 0\n",
    "                      else (1, 0, 0, 0) if (x == -1 and path_length[node,idx_in] > 12)\n",
    "                      else (1, 0, 1, 0) if (x == -1 and path_length[node,idx_in] <= 12 and path_length[node,idx_in] > 6)\n",
    "                      else (0, 0, 1, 0) if (x == -1 and path_length[node,idx_in] <= 6 and path_length[node,idx_in] > -1)\n",
    "                      else (0, 1, 0, 0)\n",
    "                      for idx_in, x in enumerate(adjacency_8_neg[:drug_end, node])]\n",
    "    size_neg[idx] = [2.0 if x == 0 else 20.0 for x in adjacency_8_neg[:drug_end, node]]\n",
    "\n",
    "fig, axs = plt.subplots(n_drugs,n_eigvals) \n",
    "fig.set_size_inches(6.5 * n_eigvals, n_drugs * 4)\n",
    "\n",
    "for idx in range(n_drugs):\n",
    "    for eveci in range(n_eigvals):\n",
    "        axs[idx,eveci].scatter(np.clip(U[:, eveci], -zoom, zoom),\n",
    "                               np.clip(U[:, eveci+1], -zoom, zoom),\n",
    "                               c = color_front[idx],\n",
    "                               s = list(size_neg[idx]),zorder=2)\n",
    "        axs[idx,eveci].scatter(np.clip(U[:, eveci], -zoom, zoom),\n",
    "                               np.clip(U[:, eveci+1], -zoom, zoom),\n",
    "                               c = color_background[idx],\n",
    "                               s = list(size_neg[idx]),zorder=1)\n",
    "        axs[idx,eveci].set(xlabel = f\"U {eveci}\", ylabel = f\"U {eveci+1}\")\n",
    "\n",
    "for ax, row in zip(axs[:,0], rownames):\n",
    "    ax.annotate(row, xy=(0, 0.5), xytext=(-ax.yaxis.labelpad - 5, 0),\n",
    "                xycoords=ax.yaxis.label, textcoords='offset points',\n",
    "                size='large', ha='right', va='center')\n",
    "        \n",
    "plt.show()"
   ]
  },
  {
   "cell_type": "code",
   "execution_count": null,
   "metadata": {
    "scrolled": false
   },
   "outputs": [],
   "source": [
    "#Old (roughly) negative samples based on hop distance \n",
    "\n",
    "n_drugs = 5\n",
    "drug_idx_start = 5\n",
    "n_eigvals = 5\n",
    "\n",
    "drug_end = 7091\n",
    "\n",
    "balanced_nodes = np.where((degree_ratio_8[drug_end:] > 0.3) & (degree_ratio_8[drug_end:] < 0.7))[0] + drug_end\n",
    "balanced_nodes_degree_8_neg = degree_8_neg[list(balanced_nodes)]\n",
    "top_nodes_sub_idx = np.flip(np.argsort(balanced_nodes_degree_8_neg))[0:n_drugs]\n",
    "top_nodes_idx = balanced_nodes[list(top_nodes_sub_idx)]\n",
    "\n",
    "color_front = np.zeros((n_drugs, len(U)), dtype = object)\n",
    "color_background = np.zeros((n_drugs, len(U)), dtype = object)\n",
    "size_neg = np.zeros((n_drugs, len(U)), dtype = object)\n",
    "zoom = 0.05\n",
    "rownames = []\n",
    "\n",
    "for idx, node in tqdm(enumerate(top_nodes_idx)):\n",
    "    rownames.append(getNodeName(node))\n",
    "    path_length_color = []\n",
    "    color_front[idx] = [(1, 0, 0, 1) if (path_length[node,idx_in] > 8)\n",
    "                        else (0, 1, 0, 1) if x == 1\n",
    "                        else (0,0,0,0.0)\n",
    "                        for idx_in, x in enumerate(adjacency_8_neg[:drug_end, node])]\n",
    "    color_background[idx] = [(0,0,0,0.1) if x == 0\n",
    "                      else (1, 0, 0, 0) if (x == -1 and path_length[node,idx_in] > 12)\n",
    "                      else (1, 0, 1, 0) if (x == -1 and path_length[node,idx_in] <= 12 and path_length[node,idx_in] > 6)\n",
    "                      else (0, 0, 1, 0) if (x == -1 and path_length[node,idx_in] <= 6 and path_length[node,idx_in] > -1)\n",
    "                      else (0, 1, 0, 0)\n",
    "                      for idx_in, x in enumerate(adjacency_8_neg[:drug_end, node])]\n",
    "    size_neg[idx] = [30.0 if (path_length[node,idx_in] > 8)\n",
    "                        else 2.0 if x == 0\n",
    "                        else 30.0\n",
    "                        for idx_in, x in enumerate(adjacency_8_neg[:drug_end, node])]\n",
    "\n",
    "fig, axs = plt.subplots(n_drugs,n_eigvals) \n",
    "fig.set_size_inches(6.5 * n_eigvals, n_drugs * 4)\n",
    "\n",
    "for idx in range(n_drugs):\n",
    "    for eveci in range(n_eigvals):\n",
    "        axs[idx,eveci].scatter(np.clip(U[:, eveci], -zoom, zoom),\n",
    "                               np.clip(U[:, eveci+1], -zoom, zoom),\n",
    "                               c = color_front[idx],\n",
    "                               s = list(size_neg[idx]),zorder=2)\n",
    "        axs[idx,eveci].scatter(np.clip(U[:, eveci], -zoom, zoom),\n",
    "                               np.clip(U[:, eveci+1], -zoom, zoom),\n",
    "                               c = color_background[idx],\n",
    "                               s = list(size_neg[idx]),zorder=1)\n",
    "        axs[idx,eveci].set(xlabel = f\"U {eveci}\", ylabel = f\"U {eveci+1}\")\n",
    "\n",
    "for ax, row in zip(axs[:,0], rownames):\n",
    "    ax.annotate(row, xy=(0, 0.5), xytext=(-ax.yaxis.labelpad - 5, 0),\n",
    "                xycoords=ax.yaxis.label, textcoords='offset points',\n",
    "                size='large', ha='right', va='center')\n",
    "        \n",
    "plt.show()"
   ]
  },
  {
   "cell_type": "markdown",
   "metadata": {},
   "source": [
    "###### Targets"
   ]
  },
  {
   "cell_type": "code",
   "execution_count": null,
   "metadata": {},
   "outputs": [],
   "source": [
    "n_drugs = 10\n",
    "drug_idx_start = 5\n",
    "n_eigvals = 5\n",
    "\n",
    "drug_end = 7091\n",
    "\n",
    "balanced_nodes = np.where((degree_ratio_8[:drug_end] > 0.3) & (degree_ratio_8[:drug_end] < 0.7))[0]\n",
    "balanced_nodes_degree_8_neg = degree_8_neg[list(balanced_nodes)]\n",
    "top_nodes_sub_idx = np.flip(np.argsort(balanced_nodes_degree_8_neg))[0:n_drugs]\n",
    "top_nodes_idx = balanced_nodes[list(top_nodes_sub_idx)]\n",
    "\n",
    "color_front = np.zeros((n_drugs, len(V_h)), dtype = object)\n",
    "color_background = np.zeros((n_drugs, len(V_h)), dtype = object)\n",
    "size_neg = np.zeros((n_drugs, len(V_h)), dtype = object)\n",
    "zoom = 0.05\n",
    "rownames = []\n",
    "\n",
    "for idx, node in tqdm(enumerate(top_nodes_idx)):\n",
    "    rownames.append(getNodeName(node))\n",
    "    path_length_color = []\n",
    "    color_front[idx] = [(0,0,0,0.0) if x == 0\n",
    "                      else (1, 0, 0, 1) if (x == -1 and path_length[node,drug_end + idx_in] > 12)\n",
    "                      else (1, 0, 1, 1) if (x == -1 and path_length[node,drug_end + idx_in] <= 12 and path_length[node,drug_end + idx_in] > 6)\n",
    "                      else (0, 0, 1, 1) if (x == -1 and path_length[node,drug_end + idx_in] <= 6 and path_length[node,drug_end + idx_in] > -1)\n",
    "                      else (0, 1, 0, 1)\n",
    "                      for idx_in, x in enumerate(adjacency_8_neg[drug_end:, node])]\n",
    "    color_background[idx] = [(0,0,0,0.1) if x == 0\n",
    "                      else (1, 0, 0, 0) if (x == -1 and path_length[node,drug_end + idx_in] > 12)\n",
    "                      else (1, 0, 1, 0) if (x == -1 and path_length[node,drug_end + idx_in] <= 12 and path_length[node,drug_end + idx_in] > 6)\n",
    "                      else (0, 0, 1, 0) if (x == -1 and path_length[node,drug_end + idx_in] <= 6 and path_length[node,drug_end + idx_in] > -1)\n",
    "                      else (0, 1, 0, 0)\n",
    "                      for idx_in, x in enumerate(adjacency_8_neg[drug_end:, node])]\n",
    "    size_neg[idx] = [2.0 if x == 0 else 20.0 for x in adjacency_8_neg[drug_end:, node]]\n",
    "\n",
    "fig, axs = plt.subplots(n_drugs,n_eigvals) \n",
    "fig.set_size_inches(6.5 * n_eigvals, n_drugs * 4)\n",
    "\n",
    "for idx in range(n_drugs):\n",
    "    for eveci in range(n_eigvals):\n",
    "        axs[idx,eveci].scatter(np.clip(V_h[eveci, :], -zoom, zoom),\n",
    "                               np.clip(V_h[eveci + 1, :], -zoom, zoom),\n",
    "                               c = color_front[idx],\n",
    "                               s = list(size_neg[idx]),zorder=2)\n",
    "        axs[idx,eveci].scatter(np.clip(V_h[eveci, :], -zoom, zoom),\n",
    "                               np.clip(V_h[eveci + 1, :], -zoom, zoom),\n",
    "                               c = color_background[idx],\n",
    "                               s = list(size_neg[idx]),zorder=1)\n",
    "        axs[idx,eveci].set(xlabel = f\"U {eveci}\", ylabel = f\"U {eveci+1}\")\n",
    "\n",
    "for ax, row in zip(axs[:,0], rownames):\n",
    "    ax.annotate(row, xy=(0, 0.5), xytext=(-ax.yaxis.labelpad - 5, 0),\n",
    "                xycoords=ax.yaxis.label, textcoords='offset points',\n",
    "                size='large', ha='right', va='center')\n",
    "        \n",
    "plt.show()"
   ]
  },
  {
   "cell_type": "markdown",
   "metadata": {},
   "source": [
    "##### Eigen Spokes"
   ]
  },
  {
   "cell_type": "code",
   "execution_count": null,
   "metadata": {},
   "outputs": [],
   "source": [
    "n_drugs = 10\n",
    "drug_idx_start = 5\n",
    "n_eigvals = 5\n",
    "\n",
    "balanced_nodes = np.where((degree_ratio_8 > 0.3) & (degree_ratio_8 < 0.7))[0]\n",
    "balanced_nodes_degree_8_neg = degree_8_neg[list(balanced_nodes)]\n",
    "top_nodes_sub_idx = np.flip(np.argsort(balanced_nodes_degree_8_neg))[0:n_drugs]\n",
    "top_nodes_idx = balanced_nodes[list(top_nodes_sub_idx)]\n",
    "\n",
    "color_front = np.zeros((n_drugs, len(eigen_vectors_8)), dtype = object)\n",
    "color_background = np.zeros((n_drugs, len(eigen_vectors_8)), dtype = object)\n",
    "size_neg = np.zeros((n_drugs, len(eigen_vectors_8)), dtype = object)\n",
    "zoom = 0.05\n",
    "rownames = []\n",
    "\n",
    "for idx, node in enumerate(top_nodes_idx):\n",
    "    rownames.append(getNodeName(node))\n",
    "    path_length_color = []\n",
    "    color_front[idx] = [(0,0,0,0.0) if x == 0\n",
    "                      else (1, 0, 0, 1) if (x == -1 and path_length[node,idx] > 12)\n",
    "                      else (1, 0, 1, 1) if (x == -1 and path_length[node,idx] <= 12 and path_length[node,idx] > 6)\n",
    "                      else (0, 0, 1, 1) if (x == -1 and path_length[node,idx] <= 6 and path_length[node,idx] > -1)\n",
    "                      else (0, 1, 0, 1)\n",
    "                      for idx, x in enumerate(adjacency_8_neg[:, node])]\n",
    "    color_background[idx] = [(0, 0, 0, 0.1) if x == 0\n",
    "                      else (1, 0, 0, 0) if (x == -1 and path_length[node,idx] > 12)\n",
    "                      else (1, 0, 1, 0) if (x == -1 and path_length[node,idx] <= 12 and path_length[node,idx] > 6)\n",
    "                      else (0, 0, 1, 0) if (x == -1 and path_length[node,idx] <= 6 and path_length[node,idx] > -1)\n",
    "                      else (0, 1, 0, 0)\n",
    "                      for idx, x in enumerate(adjacency_8_neg[:, node])]\n",
    "    size_neg[idx] = [2.0 if x == 0 else 20.0 for x in adjacency_8_neg[:, node]]\n",
    "\n",
    "fig, axs = plt.subplots(n_drugs,n_eigvals) \n",
    "fig.set_size_inches(6.5 * n_eigvals, n_drugs * 4)\n",
    "\n",
    "pos_only = True\n",
    "\n",
    "for idx in range(n_drugs):\n",
    "    for eveci in range(n_eigvals):\n",
    "        \n",
    "        evecj = eveci + 1\n",
    "        \n",
    "        if pos_only:\n",
    "            if eigen_values_8[0] > 0:\n",
    "                evec_i = (2 * eveci)\n",
    "                evec_j = evec_i + 2\n",
    "            else :\n",
    "                evec_i = (2 * eveci) + 1\n",
    "                evec_j = evec_i + 2\n",
    "            \n",
    "            \n",
    "        axs[idx,eveci].scatter(np.clip(eigen_vectors_8[evec_i], -zoom, zoom),\n",
    "                               np.clip(eigen_vectors_8[evec_j], -zoom, zoom),\n",
    "                               c = color_front[idx],\n",
    "                               s = list(size_neg[idx]),zorder=2)\n",
    "        axs[idx,eveci].scatter(np.clip(eigen_vectors_8[evec_i], -zoom, zoom),\n",
    "                               np.clip(eigen_vectors_8[evec_j], -zoom, zoom),\n",
    "                               c = color_background[idx],\n",
    "                               s = list(size_neg[idx]),zorder=1)\n",
    "        axs[idx,eveci].set(xlabel = f\"EigenVector {evec_i} | Lambda = {eigen_values_8[evec_i]:.2f}\", ylabel = f\"EigenVector {evec_j}\")\n",
    "\n",
    "for ax, row in zip(axs[:,0], rownames):\n",
    "    ax.annotate(row, xy=(0, 0.5), xytext=(-ax.yaxis.labelpad - 5, 0),\n",
    "                xycoords=ax.yaxis.label, textcoords='offset points',\n",
    "                size='large', ha='right', va='center')\n",
    "        \n",
    "plt.show()"
   ]
  },
  {
   "cell_type": "markdown",
   "metadata": {},
   "source": [
    "#### Interactions 2\n",
    "\n",
    "There is an issue with adjacency matrix and possible drug_dict.  So we use networkx.  We also use the full dataset and reselect the connected component."
   ]
  },
  {
   "cell_type": "code",
   "execution_count": null,
   "metadata": {},
   "outputs": [],
   "source": [
    "import networkx as nx"
   ]
  },
  {
   "cell_type": "code",
   "execution_count": null,
   "metadata": {},
   "outputs": [],
   "source": [
    "interactions_pos = interactions_2[interactions_2['Y'] == 1]\n",
    "nodes = set(interactions_pos['Target']).union(set(interactions_pos['Source']))\n",
    "len(nodes)"
   ]
  },
  {
   "cell_type": "code",
   "execution_count": null,
   "metadata": {},
   "outputs": [],
   "source": [
    "edges = [(row[1]['Target'],row[1]['Source']) for row in tqdm(interactions_pos.iterrows())]\n",
    "G2 = nx.Graph(edges)"
   ]
  },
  {
   "cell_type": "code",
   "execution_count": null,
   "metadata": {},
   "outputs": [],
   "source": [
    "cc = nx.connected_components(G2)\n",
    "lens = [len(c) for c in cc]\n",
    "print(sort(lens)[-10:])"
   ]
  },
  {
   "cell_type": "code",
   "execution_count": null,
   "metadata": {},
   "outputs": [],
   "source": [
    "subs = list(nx.connected_component_subgraphs(G2))"
   ]
  },
  {
   "cell_type": "code",
   "execution_count": null,
   "metadata": {},
   "outputs": [],
   "source": [
    "len(subs[0].nodes)"
   ]
  },
  {
   "cell_type": "code",
   "execution_count": null,
   "metadata": {},
   "outputs": [],
   "source": [
    "bigG = subs[0]"
   ]
  },
  {
   "cell_type": "code",
   "execution_count": null,
   "metadata": {},
   "outputs": [],
   "source": [
    "adj_mat = nx.adjacency_matrix(bigG).toarray()"
   ]
  },
  {
   "cell_type": "code",
   "execution_count": null,
   "metadata": {},
   "outputs": [],
   "source": [
    "num_nodes = adj_mat.shape[0]\n",
    "max_hop = 13\n",
    "higher_adj_mat = np.zeros((num_nodes, num_nodes, max_hop + 1))\n",
    "\n",
    "higher_adj_mat[:,:,0] =  np.identity(num_nodes)\n",
    "\n",
    "for i in tqdm(range(1,max_hop)):\n",
    "    higher_adj_mat[:,:,i] = np.dot(higher_adj_mat[:,:,i-1],adj_mat)\n",
    "higher_adj_mat[:,:,max_hop] = np.ones((num_nodes, num_nodes))     "
   ]
  },
  {
   "cell_type": "code",
   "execution_count": null,
   "metadata": {},
   "outputs": [],
   "source": [
    "path_length = (higher_adj_mat != 0).argmax(axis = 2)"
   ]
  },
  {
   "cell_type": "code",
   "execution_count": null,
   "metadata": {
    "scrolled": true
   },
   "outputs": [],
   "source": [
    "plt.title(\"Path Lengths\")\n",
    "plt.xlabel(\"Hop Distance\")\n",
    "plt.ylabel(\"Frequency\")\n",
    "plt.hist(path_length.flatten(),bins=list(range(0,14)))\n",
    "plt.show()"
   ]
  },
  {
   "cell_type": "code",
   "execution_count": null,
   "metadata": {},
   "outputs": [],
   "source": [
    "target_indices = list(interactions_2['Target'])"
   ]
  },
  {
   "cell_type": "code",
   "execution_count": null,
   "metadata": {},
   "outputs": [],
   "source": [
    "source_indices = list(interactions_2['Source'])"
   ]
  },
  {
   "cell_type": "code",
   "execution_count": null,
   "metadata": {},
   "outputs": [],
   "source": [
    "bigG.add_nodes_from(target_indices, bipartite=0)\n",
    "bigG.add_nodes_from(source_indices, bipartite=1)"
   ]
  },
  {
   "cell_type": "code",
   "execution_count": null,
   "metadata": {},
   "outputs": [],
   "source": [
    "print(bigG.nodes[5]['bipartite'])\n",
    "print(bigG.nodes[6]['bipartite'])"
   ]
  },
  {
   "cell_type": "code",
   "execution_count": null,
   "metadata": {},
   "outputs": [],
   "source": [
    "from networkx.algorithms import bipartite"
   ]
  },
  {
   "cell_type": "code",
   "execution_count": null,
   "metadata": {},
   "outputs": [],
   "source": [
    "rect_adj_mat = bipartite.biadjacency_matrix(bigG, source_indices).toarray()"
   ]
  }
 ],
 "metadata": {
  "kernelspec": {
   "display_name": "Python 3",
   "language": "python",
   "name": "python3"
  },
  "language_info": {
   "codemirror_mode": {
    "name": "ipython",
    "version": 3
   },
   "file_extension": ".py",
   "mimetype": "text/x-python",
   "name": "python",
   "nbconvert_exporter": "python",
   "pygments_lexer": "ipython3",
   "version": "3.6.6"
  },
  "toc": {
   "base_numbering": 1,
   "nav_menu": {},
   "number_sections": true,
   "sideBar": true,
   "skip_h1_title": false,
   "title_cell": "Table of Contents",
   "title_sidebar": "Contents",
   "toc_cell": false,
   "toc_position": {},
   "toc_section_display": true,
   "toc_window_display": false
  }
 },
 "nbformat": 4,
 "nbformat_minor": 4
}
